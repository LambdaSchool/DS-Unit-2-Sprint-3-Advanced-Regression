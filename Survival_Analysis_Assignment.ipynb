{
  "nbformat": 4,
  "nbformat_minor": 0,
  "metadata": {
    "colab": {
      "name": "Survival_Analysis_Assignment.ipynb",
      "version": "0.3.2",
      "provenance": [],
      "collapsed_sections": [],
      "include_colab_link": true
    },
    "kernelspec": {
      "name": "python3",
      "display_name": "Python 3"
    }
  },
  "cells": [
    {
      "cell_type": "markdown",
      "metadata": {
        "id": "view-in-github",
        "colab_type": "text"
      },
      "source": [
        "<a href=\"https://colab.research.google.com/github/trista-paul/DS-Unit-2-Sprint-3-Advanced-Regression/blob/master/Survival_Analysis_Assignment.ipynb\" target=\"_parent\"><img src=\"https://colab.research.google.com/assets/colab-badge.svg\" alt=\"Open In Colab\"/></a>"
      ]
    },
    {
      "metadata": {
        "id": "gfECCxqbvpjB",
        "colab_type": "code",
        "colab": {}
      },
      "cell_type": "code",
      "source": [
        "#Lecture summary\n",
        "#Probability density function\n",
        "\n",
        "#Example: Hazard function\n",
        "#\"instantaneous likelihood of failure\" ex.lifetime mortality U curve\n",
        "\n",
        "#Cumulative Distribution Function\n",
        "#CDF is the integral of the PDF\n",
        "#it is the area under the curve of sigmoid\n",
        "#y P event less than or equal to x\n",
        "\n",
        "#example: Survival function\n",
        "#Survival analysis is applied to retention; also known as time to event\n",
        "#birth, death are general terms for the interval\n",
        "#birth: person issued welfare\n",
        "#death: person improoves income and is no longer eligible\n",
        "#survival answers how long the interval they are on welfare\n",
        "#'data censorship' occurs when subject doesn't trigger death event\n",
        "#or literally dies\n",
        "#logistic reg doesn't have a way to interpret censorship, and survival barely does\n",
        "#defaulting end of period as death or dropping are both bad"
      ],
      "execution_count": 0,
      "outputs": []
    },
    {
      "metadata": {
        "id": "8tMyVxHRa3cQ",
        "colab_type": "text"
      },
      "cell_type": "markdown",
      "source": [
        "# Assignment - Customer Churn\n",
        "\n",
        "Treselle Systems, a data consulting service, [analyzed customer churn data using logistic regression](http://www.treselle.com/blog/customer-churn-logistic-regression-with-r/). For simply modeling whether or not a customer left this can work, but if we want to model the actual tenure of a customer, survival analysis is more appropriate.\n",
        "\n",
        "The \"tenure\" feature represents the duration that a given customer has been with them, and \"churn\" represents whether or not that customer left (i.e. the \"event\", from a survival analysis perspective). So, any situation where churn is \"no\" means that a customer is still active, and so from a survival analysis perspective the observation is censored (we have their tenure up to now, but we don't know their *true* duration until event).\n",
        "\n",
        "Your assignment is to [use their data](https://github.com/treselle-systems/customer_churn_analysis) to fit a survival model, and answer the following questions:\n",
        "\n",
        "- What features best model customer churn?\n",
        "- What would you characterize as the \"warning signs\" that a customer may discontinue service?\n",
        "- What actions would you recommend to this business to try to improve their customer retention?\n",
        "\n",
        "Please create at least *3* plots or visualizations to support your findings, and in general write your summary/results targeting an \"interested layperson\" (e.g. your hypothetical business manager) as your audience.\n",
        "\n",
        "This means that, as is often the case in data science, there isn't a single objective right answer - your goal is to *support* your answer, whatever it is, with data and reasoning.\n",
        "\n",
        "Good luck!"
      ]
    },
    {
      "metadata": {
        "id": "piO805esv_YF",
        "colab_type": "code",
        "outputId": "94e6a47f-d7be-437e-ecbb-7e6c1028fda8",
        "colab": {
          "base_uri": "https://localhost:8080/",
          "height": 336
        }
      },
      "cell_type": "code",
      "source": [
        "!pip install lifelines"
      ],
      "execution_count": 1,
      "outputs": [
        {
          "output_type": "stream",
          "text": [
            "Collecting lifelines\n",
            "\u001b[?25l  Downloading https://files.pythonhosted.org/packages/e6/f4/408183aee57b9625805b02441e761fedf32c29559e4be15823afee375de5/lifelines-0.19.5-py2.py3-none-any.whl (260kB)\n",
            "\u001b[K    100% |████████████████████████████████| 266kB 11.1MB/s \n",
            "\u001b[?25hRequirement already satisfied: autograd>=1.2 in /usr/local/lib/python3.6/dist-packages (from lifelines) (1.2)\n",
            "Requirement already satisfied: numpy>=1.6.0 in /usr/local/lib/python3.6/dist-packages (from lifelines) (1.14.6)\n",
            "Requirement already satisfied: bottleneck>=1.0 in /usr/local/lib/python3.6/dist-packages (from lifelines) (1.2.1)\n",
            "Requirement already satisfied: pandas>=0.18 in /usr/local/lib/python3.6/dist-packages (from lifelines) (0.22.0)\n",
            "Requirement already satisfied: matplotlib>=2.0; python_version > \"3.0\" in /usr/local/lib/python3.6/dist-packages (from lifelines) (3.0.2)\n",
            "Requirement already satisfied: scipy>=1.0 in /usr/local/lib/python3.6/dist-packages (from lifelines) (1.1.0)\n",
            "Requirement already satisfied: future>=0.15.2 in /usr/local/lib/python3.6/dist-packages (from autograd>=1.2->lifelines) (0.16.0)\n",
            "Requirement already satisfied: pytz>=2011k in /usr/local/lib/python3.6/dist-packages (from pandas>=0.18->lifelines) (2018.9)\n",
            "Requirement already satisfied: python-dateutil>=2 in /usr/local/lib/python3.6/dist-packages (from pandas>=0.18->lifelines) (2.5.3)\n",
            "Requirement already satisfied: cycler>=0.10 in /usr/local/lib/python3.6/dist-packages (from matplotlib>=2.0; python_version > \"3.0\"->lifelines) (0.10.0)\n",
            "Requirement already satisfied: pyparsing!=2.0.4,!=2.1.2,!=2.1.6,>=2.0.1 in /usr/local/lib/python3.6/dist-packages (from matplotlib>=2.0; python_version > \"3.0\"->lifelines) (2.3.1)\n",
            "Requirement already satisfied: kiwisolver>=1.0.1 in /usr/local/lib/python3.6/dist-packages (from matplotlib>=2.0; python_version > \"3.0\"->lifelines) (1.0.1)\n",
            "Requirement already satisfied: six>=1.5 in /usr/local/lib/python3.6/dist-packages (from python-dateutil>=2->pandas>=0.18->lifelines) (1.11.0)\n",
            "Requirement already satisfied: setuptools in /usr/local/lib/python3.6/dist-packages (from kiwisolver>=1.0.1->matplotlib>=2.0; python_version > \"3.0\"->lifelines) (40.8.0)\n",
            "Installing collected packages: lifelines\n",
            "Successfully installed lifelines-0.19.5\n"
          ],
          "name": "stdout"
        }
      ]
    },
    {
      "metadata": {
        "id": "xrkqTt0_wSdq",
        "colab_type": "code",
        "colab": {}
      },
      "cell_type": "code",
      "source": [
        "import numpy as np\n",
        "import pandas as pd\n",
        "import matplotlib.pyplot as plt\n",
        "import lifelines\n",
        "cph = lifelines.CoxPHFitter()"
      ],
      "execution_count": 0,
      "outputs": []
    },
    {
      "metadata": {
        "id": "_48G5Nkvv-SK",
        "colab_type": "code",
        "outputId": "dea9dac7-d464-4bb5-cac1-21bebabec3e9",
        "colab": {
          "base_uri": "https://localhost:8080/",
          "height": 299
        }
      },
      "cell_type": "code",
      "source": [
        "# Loading the data to get you started\n",
        "df = pd.read_csv(\n",
        "    'https://raw.githubusercontent.com/treselle-systems/'\n",
        "    'customer_churn_analysis/master/WA_Fn-UseC_-Telco-Customer-Churn.csv')\n",
        "pd.set_option('display.max_columns', None)\n",
        "df.head()"
      ],
      "execution_count": 54,
      "outputs": [
        {
          "output_type": "execute_result",
          "data": {
            "text/html": [
              "<div>\n",
              "<style scoped>\n",
              "    .dataframe tbody tr th:only-of-type {\n",
              "        vertical-align: middle;\n",
              "    }\n",
              "\n",
              "    .dataframe tbody tr th {\n",
              "        vertical-align: top;\n",
              "    }\n",
              "\n",
              "    .dataframe thead th {\n",
              "        text-align: right;\n",
              "    }\n",
              "</style>\n",
              "<table border=\"1\" class=\"dataframe\">\n",
              "  <thead>\n",
              "    <tr style=\"text-align: right;\">\n",
              "      <th></th>\n",
              "      <th>customerID</th>\n",
              "      <th>gender</th>\n",
              "      <th>SeniorCitizen</th>\n",
              "      <th>Partner</th>\n",
              "      <th>Dependents</th>\n",
              "      <th>tenure</th>\n",
              "      <th>PhoneService</th>\n",
              "      <th>MultipleLines</th>\n",
              "      <th>InternetService</th>\n",
              "      <th>OnlineSecurity</th>\n",
              "      <th>OnlineBackup</th>\n",
              "      <th>DeviceProtection</th>\n",
              "      <th>TechSupport</th>\n",
              "      <th>StreamingTV</th>\n",
              "      <th>StreamingMovies</th>\n",
              "      <th>Contract</th>\n",
              "      <th>PaperlessBilling</th>\n",
              "      <th>PaymentMethod</th>\n",
              "      <th>MonthlyCharges</th>\n",
              "      <th>TotalCharges</th>\n",
              "      <th>Churn</th>\n",
              "    </tr>\n",
              "  </thead>\n",
              "  <tbody>\n",
              "    <tr>\n",
              "      <th>0</th>\n",
              "      <td>7590-VHVEG</td>\n",
              "      <td>Female</td>\n",
              "      <td>0</td>\n",
              "      <td>Yes</td>\n",
              "      <td>No</td>\n",
              "      <td>1</td>\n",
              "      <td>No</td>\n",
              "      <td>No phone service</td>\n",
              "      <td>DSL</td>\n",
              "      <td>No</td>\n",
              "      <td>Yes</td>\n",
              "      <td>No</td>\n",
              "      <td>No</td>\n",
              "      <td>No</td>\n",
              "      <td>No</td>\n",
              "      <td>Month-to-month</td>\n",
              "      <td>Yes</td>\n",
              "      <td>Electronic check</td>\n",
              "      <td>29.85</td>\n",
              "      <td>29.85</td>\n",
              "      <td>No</td>\n",
              "    </tr>\n",
              "    <tr>\n",
              "      <th>1</th>\n",
              "      <td>5575-GNVDE</td>\n",
              "      <td>Male</td>\n",
              "      <td>0</td>\n",
              "      <td>No</td>\n",
              "      <td>No</td>\n",
              "      <td>34</td>\n",
              "      <td>Yes</td>\n",
              "      <td>No</td>\n",
              "      <td>DSL</td>\n",
              "      <td>Yes</td>\n",
              "      <td>No</td>\n",
              "      <td>Yes</td>\n",
              "      <td>No</td>\n",
              "      <td>No</td>\n",
              "      <td>No</td>\n",
              "      <td>One year</td>\n",
              "      <td>No</td>\n",
              "      <td>Mailed check</td>\n",
              "      <td>56.95</td>\n",
              "      <td>1889.5</td>\n",
              "      <td>No</td>\n",
              "    </tr>\n",
              "    <tr>\n",
              "      <th>2</th>\n",
              "      <td>3668-QPYBK</td>\n",
              "      <td>Male</td>\n",
              "      <td>0</td>\n",
              "      <td>No</td>\n",
              "      <td>No</td>\n",
              "      <td>2</td>\n",
              "      <td>Yes</td>\n",
              "      <td>No</td>\n",
              "      <td>DSL</td>\n",
              "      <td>Yes</td>\n",
              "      <td>Yes</td>\n",
              "      <td>No</td>\n",
              "      <td>No</td>\n",
              "      <td>No</td>\n",
              "      <td>No</td>\n",
              "      <td>Month-to-month</td>\n",
              "      <td>Yes</td>\n",
              "      <td>Mailed check</td>\n",
              "      <td>53.85</td>\n",
              "      <td>108.15</td>\n",
              "      <td>Yes</td>\n",
              "    </tr>\n",
              "    <tr>\n",
              "      <th>3</th>\n",
              "      <td>7795-CFOCW</td>\n",
              "      <td>Male</td>\n",
              "      <td>0</td>\n",
              "      <td>No</td>\n",
              "      <td>No</td>\n",
              "      <td>45</td>\n",
              "      <td>No</td>\n",
              "      <td>No phone service</td>\n",
              "      <td>DSL</td>\n",
              "      <td>Yes</td>\n",
              "      <td>No</td>\n",
              "      <td>Yes</td>\n",
              "      <td>Yes</td>\n",
              "      <td>No</td>\n",
              "      <td>No</td>\n",
              "      <td>One year</td>\n",
              "      <td>No</td>\n",
              "      <td>Bank transfer (automatic)</td>\n",
              "      <td>42.30</td>\n",
              "      <td>1840.75</td>\n",
              "      <td>No</td>\n",
              "    </tr>\n",
              "    <tr>\n",
              "      <th>4</th>\n",
              "      <td>9237-HQITU</td>\n",
              "      <td>Female</td>\n",
              "      <td>0</td>\n",
              "      <td>No</td>\n",
              "      <td>No</td>\n",
              "      <td>2</td>\n",
              "      <td>Yes</td>\n",
              "      <td>No</td>\n",
              "      <td>Fiber optic</td>\n",
              "      <td>No</td>\n",
              "      <td>No</td>\n",
              "      <td>No</td>\n",
              "      <td>No</td>\n",
              "      <td>No</td>\n",
              "      <td>No</td>\n",
              "      <td>Month-to-month</td>\n",
              "      <td>Yes</td>\n",
              "      <td>Electronic check</td>\n",
              "      <td>70.70</td>\n",
              "      <td>151.65</td>\n",
              "      <td>Yes</td>\n",
              "    </tr>\n",
              "  </tbody>\n",
              "</table>\n",
              "</div>"
            ],
            "text/plain": [
              "   customerID  gender  SeniorCitizen Partner Dependents  tenure PhoneService  \\\n",
              "0  7590-VHVEG  Female              0     Yes         No       1           No   \n",
              "1  5575-GNVDE    Male              0      No         No      34          Yes   \n",
              "2  3668-QPYBK    Male              0      No         No       2          Yes   \n",
              "3  7795-CFOCW    Male              0      No         No      45           No   \n",
              "4  9237-HQITU  Female              0      No         No       2          Yes   \n",
              "\n",
              "      MultipleLines InternetService OnlineSecurity OnlineBackup  \\\n",
              "0  No phone service             DSL             No          Yes   \n",
              "1                No             DSL            Yes           No   \n",
              "2                No             DSL            Yes          Yes   \n",
              "3  No phone service             DSL            Yes           No   \n",
              "4                No     Fiber optic             No           No   \n",
              "\n",
              "  DeviceProtection TechSupport StreamingTV StreamingMovies        Contract  \\\n",
              "0               No          No          No              No  Month-to-month   \n",
              "1              Yes          No          No              No        One year   \n",
              "2               No          No          No              No  Month-to-month   \n",
              "3              Yes         Yes          No              No        One year   \n",
              "4               No          No          No              No  Month-to-month   \n",
              "\n",
              "  PaperlessBilling              PaymentMethod  MonthlyCharges TotalCharges  \\\n",
              "0              Yes           Electronic check           29.85        29.85   \n",
              "1               No               Mailed check           56.95       1889.5   \n",
              "2              Yes               Mailed check           53.85       108.15   \n",
              "3               No  Bank transfer (automatic)           42.30      1840.75   \n",
              "4              Yes           Electronic check           70.70       151.65   \n",
              "\n",
              "  Churn  \n",
              "0    No  \n",
              "1    No  \n",
              "2   Yes  \n",
              "3    No  \n",
              "4   Yes  "
            ]
          },
          "metadata": {
            "tags": []
          },
          "execution_count": 54
        }
      ]
    },
    {
      "metadata": {
        "id": "kL-PnLZlLVas",
        "colab_type": "code",
        "colab": {
          "base_uri": "https://localhost:8080/",
          "height": 215
        },
        "outputId": "7da8f500-04a0-4a7a-e917-5287e914f8b1"
      },
      "cell_type": "code",
      "source": [
        "#cell that does all cleaning operations at once\n",
        "#key for classes below\n",
        "#I erased the work because I redid the cleaning from a new angle Wednesday night\n",
        "#and the notebook was huge and depressing\n",
        "\n",
        "#basics - drop id and convert totalcharge to float\n",
        "df = df.drop(columns = ['customerID'])\n",
        "df['TotalCharges'] = pd.to_numeric(df['TotalCharges'], errors='coerce')\n",
        "\n",
        "#convert special classes into numeric\n",
        "Classes = ['gender', 'InternetService', 'Contract', 'PaymentMethod']\n",
        "classes = df[Classes]\n",
        "df = df.drop(columns=Classes)\n",
        "\n",
        "for label, col in classes.iteritems():\n",
        "  n = 0\n",
        "  for types in col.unique():\n",
        "      col = col.replace({types:n})\n",
        "      n = n+1\n",
        "  classes[label] = col\n",
        "  \n",
        "#manually assign Internet Service so None is 0\n",
        "classes['InternetService'] = classes['InternetService'].replace({2:0, 0:2})\n",
        "\n",
        "#convert remaining objects, binaries, into 0 for No and 1 for Yes\n",
        "objects = df.select_dtypes(include=object)\n",
        "notobjects = df.select_dtypes(exclude=object)\n",
        "\n",
        "objects = objects.replace({'Yes': str(1), 'No': str(0), 'No internet service':str(0), 'No phone service':str(0)})\n",
        "for label, col in objects.iteritems():\n",
        "  col = pd.to_numeric(col, errors='coerce')\n",
        "  objects[label] = col\n",
        "\n",
        "#concat objects, notobjects and classes\n",
        "df = pd.concat([objects, notobjects], axis=1)\n",
        "df = pd.concat([df, classes], axis=1)\n",
        "df = df.dropna()\n",
        "df.head()"
      ],
      "execution_count": 55,
      "outputs": [
        {
          "output_type": "execute_result",
          "data": {
            "text/html": [
              "<div>\n",
              "<style scoped>\n",
              "    .dataframe tbody tr th:only-of-type {\n",
              "        vertical-align: middle;\n",
              "    }\n",
              "\n",
              "    .dataframe tbody tr th {\n",
              "        vertical-align: top;\n",
              "    }\n",
              "\n",
              "    .dataframe thead th {\n",
              "        text-align: right;\n",
              "    }\n",
              "</style>\n",
              "<table border=\"1\" class=\"dataframe\">\n",
              "  <thead>\n",
              "    <tr style=\"text-align: right;\">\n",
              "      <th></th>\n",
              "      <th>Partner</th>\n",
              "      <th>Dependents</th>\n",
              "      <th>PhoneService</th>\n",
              "      <th>MultipleLines</th>\n",
              "      <th>OnlineSecurity</th>\n",
              "      <th>OnlineBackup</th>\n",
              "      <th>DeviceProtection</th>\n",
              "      <th>TechSupport</th>\n",
              "      <th>StreamingTV</th>\n",
              "      <th>StreamingMovies</th>\n",
              "      <th>PaperlessBilling</th>\n",
              "      <th>Churn</th>\n",
              "      <th>SeniorCitizen</th>\n",
              "      <th>tenure</th>\n",
              "      <th>MonthlyCharges</th>\n",
              "      <th>TotalCharges</th>\n",
              "      <th>gender</th>\n",
              "      <th>InternetService</th>\n",
              "      <th>Contract</th>\n",
              "      <th>PaymentMethod</th>\n",
              "    </tr>\n",
              "  </thead>\n",
              "  <tbody>\n",
              "    <tr>\n",
              "      <th>0</th>\n",
              "      <td>1</td>\n",
              "      <td>0</td>\n",
              "      <td>0</td>\n",
              "      <td>0</td>\n",
              "      <td>0</td>\n",
              "      <td>1</td>\n",
              "      <td>0</td>\n",
              "      <td>0</td>\n",
              "      <td>0</td>\n",
              "      <td>0</td>\n",
              "      <td>1</td>\n",
              "      <td>0</td>\n",
              "      <td>0</td>\n",
              "      <td>1</td>\n",
              "      <td>29.85</td>\n",
              "      <td>29.85</td>\n",
              "      <td>0</td>\n",
              "      <td>2</td>\n",
              "      <td>0</td>\n",
              "      <td>0</td>\n",
              "    </tr>\n",
              "    <tr>\n",
              "      <th>1</th>\n",
              "      <td>0</td>\n",
              "      <td>0</td>\n",
              "      <td>1</td>\n",
              "      <td>0</td>\n",
              "      <td>1</td>\n",
              "      <td>0</td>\n",
              "      <td>1</td>\n",
              "      <td>0</td>\n",
              "      <td>0</td>\n",
              "      <td>0</td>\n",
              "      <td>0</td>\n",
              "      <td>0</td>\n",
              "      <td>0</td>\n",
              "      <td>34</td>\n",
              "      <td>56.95</td>\n",
              "      <td>1889.50</td>\n",
              "      <td>1</td>\n",
              "      <td>2</td>\n",
              "      <td>1</td>\n",
              "      <td>1</td>\n",
              "    </tr>\n",
              "    <tr>\n",
              "      <th>2</th>\n",
              "      <td>0</td>\n",
              "      <td>0</td>\n",
              "      <td>1</td>\n",
              "      <td>0</td>\n",
              "      <td>1</td>\n",
              "      <td>1</td>\n",
              "      <td>0</td>\n",
              "      <td>0</td>\n",
              "      <td>0</td>\n",
              "      <td>0</td>\n",
              "      <td>1</td>\n",
              "      <td>1</td>\n",
              "      <td>0</td>\n",
              "      <td>2</td>\n",
              "      <td>53.85</td>\n",
              "      <td>108.15</td>\n",
              "      <td>1</td>\n",
              "      <td>2</td>\n",
              "      <td>0</td>\n",
              "      <td>1</td>\n",
              "    </tr>\n",
              "    <tr>\n",
              "      <th>3</th>\n",
              "      <td>0</td>\n",
              "      <td>0</td>\n",
              "      <td>0</td>\n",
              "      <td>0</td>\n",
              "      <td>1</td>\n",
              "      <td>0</td>\n",
              "      <td>1</td>\n",
              "      <td>1</td>\n",
              "      <td>0</td>\n",
              "      <td>0</td>\n",
              "      <td>0</td>\n",
              "      <td>0</td>\n",
              "      <td>0</td>\n",
              "      <td>45</td>\n",
              "      <td>42.30</td>\n",
              "      <td>1840.75</td>\n",
              "      <td>1</td>\n",
              "      <td>2</td>\n",
              "      <td>1</td>\n",
              "      <td>2</td>\n",
              "    </tr>\n",
              "    <tr>\n",
              "      <th>4</th>\n",
              "      <td>0</td>\n",
              "      <td>0</td>\n",
              "      <td>1</td>\n",
              "      <td>0</td>\n",
              "      <td>0</td>\n",
              "      <td>0</td>\n",
              "      <td>0</td>\n",
              "      <td>0</td>\n",
              "      <td>0</td>\n",
              "      <td>0</td>\n",
              "      <td>1</td>\n",
              "      <td>1</td>\n",
              "      <td>0</td>\n",
              "      <td>2</td>\n",
              "      <td>70.70</td>\n",
              "      <td>151.65</td>\n",
              "      <td>0</td>\n",
              "      <td>1</td>\n",
              "      <td>0</td>\n",
              "      <td>0</td>\n",
              "    </tr>\n",
              "  </tbody>\n",
              "</table>\n",
              "</div>"
            ],
            "text/plain": [
              "   Partner  Dependents  PhoneService  MultipleLines  OnlineSecurity  \\\n",
              "0        1           0             0              0               0   \n",
              "1        0           0             1              0               1   \n",
              "2        0           0             1              0               1   \n",
              "3        0           0             0              0               1   \n",
              "4        0           0             1              0               0   \n",
              "\n",
              "   OnlineBackup  DeviceProtection  TechSupport  StreamingTV  StreamingMovies  \\\n",
              "0             1                 0            0            0                0   \n",
              "1             0                 1            0            0                0   \n",
              "2             1                 0            0            0                0   \n",
              "3             0                 1            1            0                0   \n",
              "4             0                 0            0            0                0   \n",
              "\n",
              "   PaperlessBilling  Churn  SeniorCitizen  tenure  MonthlyCharges  \\\n",
              "0                 1      0              0       1           29.85   \n",
              "1                 0      0              0      34           56.95   \n",
              "2                 1      1              0       2           53.85   \n",
              "3                 0      0              0      45           42.30   \n",
              "4                 1      1              0       2           70.70   \n",
              "\n",
              "   TotalCharges  gender  InternetService  Contract  PaymentMethod  \n",
              "0         29.85       0                2         0              0  \n",
              "1       1889.50       1                2         1              1  \n",
              "2        108.15       1                2         0              1  \n",
              "3       1840.75       1                2         1              2  \n",
              "4        151.65       0                1         0              0  "
            ]
          },
          "metadata": {
            "tags": []
          },
          "execution_count": 55
        }
      ]
    },
    {
      "metadata": {
        "id": "DAotjdS7JWr6",
        "colab_type": "code",
        "colab": {
          "base_uri": "https://localhost:8080/",
          "height": 655
        },
        "outputId": "d4707e90-6cc9-46df-cb06-cee4b6c88640"
      },
      "cell_type": "code",
      "source": [
        "#convert special classes into numeric\n",
        "Classes = ['gender', 'InternetService', 'Contract', 'PaymentMethod']\n",
        "classes = df[Classes]\n",
        "for label, col in classes.iteritems():\n",
        "  print(col.value_counts())\n",
        "  n = 0\n",
        "  for types in col.unique():\n",
        "      col = col.replace({types:n})\n",
        "      n = n+1\n",
        "  classes[label] = col\n",
        "  print(classes[label].value_counts())"
      ],
      "execution_count": 47,
      "outputs": [
        {
          "output_type": "stream",
          "text": [
            "Male      3555\n",
            "Female    3488\n",
            "Name: gender, dtype: int64\n",
            "1    3555\n",
            "0    3488\n",
            "Name: gender, dtype: int64\n",
            "Fiber optic    3096\n",
            "DSL            2421\n",
            "No             1526\n",
            "Name: InternetService, dtype: int64\n",
            "1    3096\n",
            "0    2421\n",
            "2    1526\n",
            "Name: InternetService, dtype: int64\n",
            "Month-to-month    3875\n",
            "Two year          1695\n",
            "One year          1473\n",
            "Name: Contract, dtype: int64\n"
          ],
          "name": "stdout"
        },
        {
          "output_type": "stream",
          "text": [
            "/usr/local/lib/python3.6/dist-packages/ipykernel_launcher.py:9: SettingWithCopyWarning: \n",
            "A value is trying to be set on a copy of a slice from a DataFrame.\n",
            "Try using .loc[row_indexer,col_indexer] = value instead\n",
            "\n",
            "See the caveats in the documentation: http://pandas.pydata.org/pandas-docs/stable/indexing.html#indexing-view-versus-copy\n",
            "  if __name__ == '__main__':\n"
          ],
          "name": "stderr"
        },
        {
          "output_type": "stream",
          "text": [
            "0    3875\n",
            "2    1695\n",
            "1    1473\n",
            "Name: Contract, dtype: int64\n",
            "Electronic check             2365\n",
            "Mailed check                 1612\n",
            "Bank transfer (automatic)    1544\n",
            "Credit card (automatic)      1522\n",
            "Name: PaymentMethod, dtype: int64\n",
            "0    2365\n",
            "1    1612\n",
            "2    1544\n",
            "3    1522\n",
            "Name: PaymentMethod, dtype: int64\n"
          ],
          "name": "stdout"
        }
      ]
    },
    {
      "metadata": {
        "id": "5VGOVTRmLwsi",
        "colab_type": "code",
        "colab": {
          "base_uri": "https://localhost:8080/",
          "height": 185
        },
        "outputId": "c74e8295-edc1-44f5-ec87-385b8a27178f"
      },
      "cell_type": "code",
      "source": [
        "classes['InternetService'] = classes['InternetService'].replace({2:0, 0:2})\n",
        "classes['InternetService'].value_counts()"
      ],
      "execution_count": 48,
      "outputs": [
        {
          "output_type": "stream",
          "text": [
            "/usr/local/lib/python3.6/dist-packages/ipykernel_launcher.py:1: SettingWithCopyWarning: \n",
            "A value is trying to be set on a copy of a slice from a DataFrame.\n",
            "Try using .loc[row_indexer,col_indexer] = value instead\n",
            "\n",
            "See the caveats in the documentation: http://pandas.pydata.org/pandas-docs/stable/indexing.html#indexing-view-versus-copy\n",
            "  \"\"\"Entry point for launching an IPython kernel.\n"
          ],
          "name": "stderr"
        },
        {
          "output_type": "execute_result",
          "data": {
            "text/plain": [
              "1    3096\n",
              "2    2421\n",
              "0    1526\n",
              "Name: InternetService, dtype: int64"
            ]
          },
          "metadata": {
            "tags": []
          },
          "execution_count": 48
        }
      ]
    },
    {
      "metadata": {
        "id": "ym_LNHpmwCST",
        "colab_type": "code",
        "outputId": "3d7bfaf3-906b-4006-8b37-20357f76bb42",
        "colab": {
          "base_uri": "https://localhost:8080/",
          "height": 437
        }
      },
      "cell_type": "code",
      "source": [
        "df.info()"
      ],
      "execution_count": 56,
      "outputs": [
        {
          "output_type": "stream",
          "text": [
            "<class 'pandas.core.frame.DataFrame'>\n",
            "Int64Index: 7032 entries, 0 to 7042\n",
            "Data columns (total 20 columns):\n",
            "Partner             7032 non-null int64\n",
            "Dependents          7032 non-null int64\n",
            "PhoneService        7032 non-null int64\n",
            "MultipleLines       7032 non-null int64\n",
            "OnlineSecurity      7032 non-null int64\n",
            "OnlineBackup        7032 non-null int64\n",
            "DeviceProtection    7032 non-null int64\n",
            "TechSupport         7032 non-null int64\n",
            "StreamingTV         7032 non-null int64\n",
            "StreamingMovies     7032 non-null int64\n",
            "PaperlessBilling    7032 non-null int64\n",
            "Churn               7032 non-null int64\n",
            "SeniorCitizen       7032 non-null int64\n",
            "tenure              7032 non-null int64\n",
            "MonthlyCharges      7032 non-null float64\n",
            "TotalCharges        7032 non-null float64\n",
            "gender              7032 non-null int64\n",
            "InternetService     7032 non-null int64\n",
            "Contract            7032 non-null int64\n",
            "PaymentMethod       7032 non-null int64\n",
            "dtypes: float64(2), int64(18)\n",
            "memory usage: 1.1 MB\n"
          ],
          "name": "stdout"
        }
      ]
    },
    {
      "metadata": {
        "id": "97TdHRv-PRUh",
        "colab_type": "code",
        "outputId": "0bed6474-d7e4-4339-c8b5-c8d54c0d095c",
        "colab": {
          "base_uri": "https://localhost:8080/",
          "height": 304
        }
      },
      "cell_type": "code",
      "source": [
        "df.describe()"
      ],
      "execution_count": 57,
      "outputs": [
        {
          "output_type": "execute_result",
          "data": {
            "text/html": [
              "<div>\n",
              "<style scoped>\n",
              "    .dataframe tbody tr th:only-of-type {\n",
              "        vertical-align: middle;\n",
              "    }\n",
              "\n",
              "    .dataframe tbody tr th {\n",
              "        vertical-align: top;\n",
              "    }\n",
              "\n",
              "    .dataframe thead th {\n",
              "        text-align: right;\n",
              "    }\n",
              "</style>\n",
              "<table border=\"1\" class=\"dataframe\">\n",
              "  <thead>\n",
              "    <tr style=\"text-align: right;\">\n",
              "      <th></th>\n",
              "      <th>Partner</th>\n",
              "      <th>Dependents</th>\n",
              "      <th>PhoneService</th>\n",
              "      <th>MultipleLines</th>\n",
              "      <th>OnlineSecurity</th>\n",
              "      <th>OnlineBackup</th>\n",
              "      <th>DeviceProtection</th>\n",
              "      <th>TechSupport</th>\n",
              "      <th>StreamingTV</th>\n",
              "      <th>StreamingMovies</th>\n",
              "      <th>PaperlessBilling</th>\n",
              "      <th>Churn</th>\n",
              "      <th>SeniorCitizen</th>\n",
              "      <th>tenure</th>\n",
              "      <th>MonthlyCharges</th>\n",
              "      <th>TotalCharges</th>\n",
              "      <th>gender</th>\n",
              "      <th>InternetService</th>\n",
              "      <th>Contract</th>\n",
              "      <th>PaymentMethod</th>\n",
              "    </tr>\n",
              "  </thead>\n",
              "  <tbody>\n",
              "    <tr>\n",
              "      <th>count</th>\n",
              "      <td>7032.000000</td>\n",
              "      <td>7032.000000</td>\n",
              "      <td>7032.000000</td>\n",
              "      <td>7032.000000</td>\n",
              "      <td>7032.000000</td>\n",
              "      <td>7032.000000</td>\n",
              "      <td>7032.000000</td>\n",
              "      <td>7032.000000</td>\n",
              "      <td>7032.000000</td>\n",
              "      <td>7032.000000</td>\n",
              "      <td>7032.000000</td>\n",
              "      <td>7032.000000</td>\n",
              "      <td>7032.000000</td>\n",
              "      <td>7032.000000</td>\n",
              "      <td>7032.000000</td>\n",
              "      <td>7032.000000</td>\n",
              "      <td>7032.000000</td>\n",
              "      <td>7032.000000</td>\n",
              "      <td>7032.000000</td>\n",
              "      <td>7032.000000</td>\n",
              "    </tr>\n",
              "    <tr>\n",
              "      <th>mean</th>\n",
              "      <td>0.482509</td>\n",
              "      <td>0.298493</td>\n",
              "      <td>0.903299</td>\n",
              "      <td>0.421928</td>\n",
              "      <td>0.286547</td>\n",
              "      <td>0.344852</td>\n",
              "      <td>0.343857</td>\n",
              "      <td>0.290102</td>\n",
              "      <td>0.384386</td>\n",
              "      <td>0.388367</td>\n",
              "      <td>0.592719</td>\n",
              "      <td>0.265785</td>\n",
              "      <td>0.162400</td>\n",
              "      <td>32.421786</td>\n",
              "      <td>64.798208</td>\n",
              "      <td>2283.300441</td>\n",
              "      <td>0.504693</td>\n",
              "      <td>1.127418</td>\n",
              "      <td>0.688567</td>\n",
              "      <td>1.315557</td>\n",
              "    </tr>\n",
              "    <tr>\n",
              "      <th>std</th>\n",
              "      <td>0.499729</td>\n",
              "      <td>0.457629</td>\n",
              "      <td>0.295571</td>\n",
              "      <td>0.493902</td>\n",
              "      <td>0.452180</td>\n",
              "      <td>0.475354</td>\n",
              "      <td>0.475028</td>\n",
              "      <td>0.453842</td>\n",
              "      <td>0.486484</td>\n",
              "      <td>0.487414</td>\n",
              "      <td>0.491363</td>\n",
              "      <td>0.441782</td>\n",
              "      <td>0.368844</td>\n",
              "      <td>24.545260</td>\n",
              "      <td>30.085974</td>\n",
              "      <td>2266.771362</td>\n",
              "      <td>0.500014</td>\n",
              "      <td>0.737271</td>\n",
              "      <td>0.832934</td>\n",
              "      <td>1.149523</td>\n",
              "    </tr>\n",
              "    <tr>\n",
              "      <th>min</th>\n",
              "      <td>0.000000</td>\n",
              "      <td>0.000000</td>\n",
              "      <td>0.000000</td>\n",
              "      <td>0.000000</td>\n",
              "      <td>0.000000</td>\n",
              "      <td>0.000000</td>\n",
              "      <td>0.000000</td>\n",
              "      <td>0.000000</td>\n",
              "      <td>0.000000</td>\n",
              "      <td>0.000000</td>\n",
              "      <td>0.000000</td>\n",
              "      <td>0.000000</td>\n",
              "      <td>0.000000</td>\n",
              "      <td>1.000000</td>\n",
              "      <td>18.250000</td>\n",
              "      <td>18.800000</td>\n",
              "      <td>0.000000</td>\n",
              "      <td>0.000000</td>\n",
              "      <td>0.000000</td>\n",
              "      <td>0.000000</td>\n",
              "    </tr>\n",
              "    <tr>\n",
              "      <th>25%</th>\n",
              "      <td>0.000000</td>\n",
              "      <td>0.000000</td>\n",
              "      <td>1.000000</td>\n",
              "      <td>0.000000</td>\n",
              "      <td>0.000000</td>\n",
              "      <td>0.000000</td>\n",
              "      <td>0.000000</td>\n",
              "      <td>0.000000</td>\n",
              "      <td>0.000000</td>\n",
              "      <td>0.000000</td>\n",
              "      <td>0.000000</td>\n",
              "      <td>0.000000</td>\n",
              "      <td>0.000000</td>\n",
              "      <td>9.000000</td>\n",
              "      <td>35.587500</td>\n",
              "      <td>401.450000</td>\n",
              "      <td>0.000000</td>\n",
              "      <td>1.000000</td>\n",
              "      <td>0.000000</td>\n",
              "      <td>0.000000</td>\n",
              "    </tr>\n",
              "    <tr>\n",
              "      <th>50%</th>\n",
              "      <td>0.000000</td>\n",
              "      <td>0.000000</td>\n",
              "      <td>1.000000</td>\n",
              "      <td>0.000000</td>\n",
              "      <td>0.000000</td>\n",
              "      <td>0.000000</td>\n",
              "      <td>0.000000</td>\n",
              "      <td>0.000000</td>\n",
              "      <td>0.000000</td>\n",
              "      <td>0.000000</td>\n",
              "      <td>1.000000</td>\n",
              "      <td>0.000000</td>\n",
              "      <td>0.000000</td>\n",
              "      <td>29.000000</td>\n",
              "      <td>70.350000</td>\n",
              "      <td>1397.475000</td>\n",
              "      <td>1.000000</td>\n",
              "      <td>1.000000</td>\n",
              "      <td>0.000000</td>\n",
              "      <td>1.000000</td>\n",
              "    </tr>\n",
              "    <tr>\n",
              "      <th>75%</th>\n",
              "      <td>1.000000</td>\n",
              "      <td>1.000000</td>\n",
              "      <td>1.000000</td>\n",
              "      <td>1.000000</td>\n",
              "      <td>1.000000</td>\n",
              "      <td>1.000000</td>\n",
              "      <td>1.000000</td>\n",
              "      <td>1.000000</td>\n",
              "      <td>1.000000</td>\n",
              "      <td>1.000000</td>\n",
              "      <td>1.000000</td>\n",
              "      <td>1.000000</td>\n",
              "      <td>0.000000</td>\n",
              "      <td>55.000000</td>\n",
              "      <td>89.862500</td>\n",
              "      <td>3794.737500</td>\n",
              "      <td>1.000000</td>\n",
              "      <td>2.000000</td>\n",
              "      <td>1.000000</td>\n",
              "      <td>2.000000</td>\n",
              "    </tr>\n",
              "    <tr>\n",
              "      <th>max</th>\n",
              "      <td>1.000000</td>\n",
              "      <td>1.000000</td>\n",
              "      <td>1.000000</td>\n",
              "      <td>1.000000</td>\n",
              "      <td>1.000000</td>\n",
              "      <td>1.000000</td>\n",
              "      <td>1.000000</td>\n",
              "      <td>1.000000</td>\n",
              "      <td>1.000000</td>\n",
              "      <td>1.000000</td>\n",
              "      <td>1.000000</td>\n",
              "      <td>1.000000</td>\n",
              "      <td>1.000000</td>\n",
              "      <td>72.000000</td>\n",
              "      <td>118.750000</td>\n",
              "      <td>8684.800000</td>\n",
              "      <td>1.000000</td>\n",
              "      <td>2.000000</td>\n",
              "      <td>2.000000</td>\n",
              "      <td>3.000000</td>\n",
              "    </tr>\n",
              "  </tbody>\n",
              "</table>\n",
              "</div>"
            ],
            "text/plain": [
              "           Partner   Dependents  PhoneService  MultipleLines  OnlineSecurity  \\\n",
              "count  7032.000000  7032.000000   7032.000000    7032.000000     7032.000000   \n",
              "mean      0.482509     0.298493      0.903299       0.421928        0.286547   \n",
              "std       0.499729     0.457629      0.295571       0.493902        0.452180   \n",
              "min       0.000000     0.000000      0.000000       0.000000        0.000000   \n",
              "25%       0.000000     0.000000      1.000000       0.000000        0.000000   \n",
              "50%       0.000000     0.000000      1.000000       0.000000        0.000000   \n",
              "75%       1.000000     1.000000      1.000000       1.000000        1.000000   \n",
              "max       1.000000     1.000000      1.000000       1.000000        1.000000   \n",
              "\n",
              "       OnlineBackup  DeviceProtection  TechSupport  StreamingTV  \\\n",
              "count   7032.000000       7032.000000  7032.000000  7032.000000   \n",
              "mean       0.344852          0.343857     0.290102     0.384386   \n",
              "std        0.475354          0.475028     0.453842     0.486484   \n",
              "min        0.000000          0.000000     0.000000     0.000000   \n",
              "25%        0.000000          0.000000     0.000000     0.000000   \n",
              "50%        0.000000          0.000000     0.000000     0.000000   \n",
              "75%        1.000000          1.000000     1.000000     1.000000   \n",
              "max        1.000000          1.000000     1.000000     1.000000   \n",
              "\n",
              "       StreamingMovies  PaperlessBilling        Churn  SeniorCitizen  \\\n",
              "count      7032.000000       7032.000000  7032.000000    7032.000000   \n",
              "mean          0.388367          0.592719     0.265785       0.162400   \n",
              "std           0.487414          0.491363     0.441782       0.368844   \n",
              "min           0.000000          0.000000     0.000000       0.000000   \n",
              "25%           0.000000          0.000000     0.000000       0.000000   \n",
              "50%           0.000000          1.000000     0.000000       0.000000   \n",
              "75%           1.000000          1.000000     1.000000       0.000000   \n",
              "max           1.000000          1.000000     1.000000       1.000000   \n",
              "\n",
              "            tenure  MonthlyCharges  TotalCharges       gender  \\\n",
              "count  7032.000000     7032.000000   7032.000000  7032.000000   \n",
              "mean     32.421786       64.798208   2283.300441     0.504693   \n",
              "std      24.545260       30.085974   2266.771362     0.500014   \n",
              "min       1.000000       18.250000     18.800000     0.000000   \n",
              "25%       9.000000       35.587500    401.450000     0.000000   \n",
              "50%      29.000000       70.350000   1397.475000     1.000000   \n",
              "75%      55.000000       89.862500   3794.737500     1.000000   \n",
              "max      72.000000      118.750000   8684.800000     1.000000   \n",
              "\n",
              "       InternetService     Contract  PaymentMethod  \n",
              "count      7032.000000  7032.000000    7032.000000  \n",
              "mean          1.127418     0.688567       1.315557  \n",
              "std           0.737271     0.832934       1.149523  \n",
              "min           0.000000     0.000000       0.000000  \n",
              "25%           1.000000     0.000000       0.000000  \n",
              "50%           1.000000     0.000000       1.000000  \n",
              "75%           2.000000     1.000000       2.000000  \n",
              "max           2.000000     2.000000       3.000000  "
            ]
          },
          "metadata": {
            "tags": []
          },
          "execution_count": 57
        }
      ]
    },
    {
      "metadata": {
        "id": "bqai_UnpaJeb",
        "colab_type": "code",
        "outputId": "810bbf34-0608-4932-a0b1-979b1a2688f8",
        "colab": {
          "base_uri": "https://localhost:8080/",
          "height": 538
        }
      },
      "cell_type": "code",
      "source": [
        "cph = lifelines.CoxPHFitter()\n",
        "cph.fit(df, 'tenure', event_col='Churn')\n",
        "cph.print_summary()\n",
        "#something is happening with onlinebackup, partner and phoneservice.\n",
        "#their likelihood to cancel increases in response to small changes in unit\n",
        "#probably irrelevant (likelihood change is or near 1 w low coefs):\n",
        "#totalcharges, gender, senior, monthlycharges\n",
        "\n",
        "#low P club! (under 0.05)\n",
        "#let's start improving the model by reducing features to these\n",
        "#Partner, PhoneService, MultipleLines, OnlineSecurity, OnlineBackup,\n",
        "#TechSupport, Contract\n",
        "#PaperlessBilling, PaymentMethod, MonthlyCharges\n",
        "#TotalCharges just seems to act unusual"
      ],
      "execution_count": 58,
      "outputs": [
        {
          "output_type": "stream",
          "text": [
            "<lifelines.CoxPHFitter: fitted with 7032 observations, 5163 censored>\n",
            "      duration col = 'tenure'\n",
            "         event col = 'Churn'\n",
            "number of subjects = 7032\n",
            "  number of events = 1869\n",
            "    log-likelihood = -12686.11\n",
            "  time fit was run = 2019-02-28 08:53:54 UTC\n",
            "\n",
            "---\n",
            "                  coef  exp(coef)  se(coef)      z      p  -log2(p)  lower 0.95  upper 0.95\n",
            "Partner          -0.20       0.82      0.05  -3.58 <0.005     11.49       -0.30       -0.09\n",
            "Dependents       -0.07       0.93      0.07  -1.07   0.28      1.81       -0.21        0.06\n",
            "PhoneService     -0.26       0.77      0.12  -2.14   0.03      4.93       -0.50       -0.02\n",
            "MultipleLines    -0.21       0.81      0.05  -3.95 <0.005     13.62       -0.32       -0.11\n",
            "OnlineSecurity   -0.48       0.62      0.07  -6.95 <0.005     37.96       -0.62       -0.34\n",
            "OnlineBackup     -0.34       0.71      0.06  -6.04 <0.005     29.25       -0.45       -0.23\n",
            "DeviceProtection -0.18       0.83      0.06  -3.23 <0.005      9.65       -0.29       -0.07\n",
            "TechSupport      -0.35       0.71      0.07  -5.16 <0.005     21.96       -0.48       -0.21\n",
            "StreamingTV      -0.28       0.75      0.06  -4.70 <0.005     18.54       -0.40       -0.16\n",
            "StreamingMovies  -0.29       0.75      0.06  -4.83 <0.005     19.51       -0.41       -0.17\n",
            "PaperlessBilling  0.15       1.16      0.06   2.65   0.01      6.94        0.04        0.26\n",
            "SeniorCitizen     0.03       1.03      0.06   0.50   0.62      0.70       -0.08        0.14\n",
            "MonthlyCharges    0.07       1.07      0.00  25.24 <0.005    464.63        0.06        0.07\n",
            "TotalCharges     -0.00       1.00      0.00 -38.70 <0.005       inf       -0.00       -0.00\n",
            "gender           -0.04       0.97      0.05  -0.76   0.45      1.17       -0.13        0.06\n",
            "InternetService   0.47       1.60      0.06   7.47 <0.005     43.51        0.35        0.59\n",
            "Contract         -1.61       0.20      0.08 -19.47 <0.005    277.95       -1.78       -1.45\n",
            "PaymentMethod    -0.15       0.86      0.02  -6.44 <0.005     32.98       -0.19       -0.10\n",
            "---\n",
            "Concordance = 0.93\n",
            "Log-likelihood ratio test = 5933.86 on 18 df, -log2(p)=inf\n"
          ],
          "name": "stdout"
        }
      ]
    },
    {
      "metadata": {
        "id": "S54c3_eAcB9F",
        "colab_type": "code",
        "outputId": "ce61f1ee-d1c1-46c0-d88c-7edd59c403c3",
        "colab": {
          "base_uri": "https://localhost:8080/",
          "height": 77
        }
      },
      "cell_type": "code",
      "source": [
        "LowPClub = ['tenure', 'Churn',\n",
        "            'Partner', 'PhoneService', 'MultipleLines', 'OnlineSecurity',\n",
        "            'OnlineBackup', 'TechSupport', 'Contract', 'PaperlessBilling',\n",
        "            'PaymentMethod', 'MonthlyCharges']\n",
        "dfnew = df[LowPClub]\n",
        "dfnew.head(1)"
      ],
      "execution_count": 59,
      "outputs": [
        {
          "output_type": "execute_result",
          "data": {
            "text/html": [
              "<div>\n",
              "<style scoped>\n",
              "    .dataframe tbody tr th:only-of-type {\n",
              "        vertical-align: middle;\n",
              "    }\n",
              "\n",
              "    .dataframe tbody tr th {\n",
              "        vertical-align: top;\n",
              "    }\n",
              "\n",
              "    .dataframe thead th {\n",
              "        text-align: right;\n",
              "    }\n",
              "</style>\n",
              "<table border=\"1\" class=\"dataframe\">\n",
              "  <thead>\n",
              "    <tr style=\"text-align: right;\">\n",
              "      <th></th>\n",
              "      <th>tenure</th>\n",
              "      <th>Churn</th>\n",
              "      <th>Partner</th>\n",
              "      <th>PhoneService</th>\n",
              "      <th>MultipleLines</th>\n",
              "      <th>OnlineSecurity</th>\n",
              "      <th>OnlineBackup</th>\n",
              "      <th>TechSupport</th>\n",
              "      <th>Contract</th>\n",
              "      <th>PaperlessBilling</th>\n",
              "      <th>PaymentMethod</th>\n",
              "      <th>MonthlyCharges</th>\n",
              "    </tr>\n",
              "  </thead>\n",
              "  <tbody>\n",
              "    <tr>\n",
              "      <th>0</th>\n",
              "      <td>1</td>\n",
              "      <td>0</td>\n",
              "      <td>1</td>\n",
              "      <td>0</td>\n",
              "      <td>0</td>\n",
              "      <td>0</td>\n",
              "      <td>1</td>\n",
              "      <td>0</td>\n",
              "      <td>0</td>\n",
              "      <td>1</td>\n",
              "      <td>0</td>\n",
              "      <td>29.85</td>\n",
              "    </tr>\n",
              "  </tbody>\n",
              "</table>\n",
              "</div>"
            ],
            "text/plain": [
              "   tenure  Churn  Partner  PhoneService  MultipleLines  OnlineSecurity  \\\n",
              "0       1      0        1             0              0               0   \n",
              "\n",
              "   OnlineBackup  TechSupport  Contract  PaperlessBilling  PaymentMethod  \\\n",
              "0             1            0         0                 1              0   \n",
              "\n",
              "   MonthlyCharges  \n",
              "0           29.85  "
            ]
          },
          "metadata": {
            "tags": []
          },
          "execution_count": 59
        }
      ]
    },
    {
      "metadata": {
        "id": "PhTU6CpgfyUF",
        "colab_type": "code",
        "outputId": "4d8c526f-db16-4fdb-84e8-9c5ca2586fbf",
        "colab": {
          "base_uri": "https://localhost:8080/",
          "height": 403
        }
      },
      "cell_type": "code",
      "source": [
        "cph.fit(dfnew, 'tenure', event_col='Churn')\n",
        "cph.print_summary()\n",
        "#like I thought MonthlyCharges wasn't really that relevant\n",
        "#but had inflated P significance"
      ],
      "execution_count": 60,
      "outputs": [
        {
          "output_type": "stream",
          "text": [
            "<lifelines.CoxPHFitter: fitted with 7032 observations, 5163 censored>\n",
            "      duration col = 'tenure'\n",
            "         event col = 'Churn'\n",
            "number of subjects = 7032\n",
            "  number of events = 1869\n",
            "    log-likelihood = -13966.13\n",
            "  time fit was run = 2019-02-28 08:54:37 UTC\n",
            "\n",
            "---\n",
            "                  coef  exp(coef)  se(coef)      z      p  -log2(p)  lower 0.95  upper 0.95\n",
            "Partner          -0.59       0.56      0.05 -11.68 <0.005    102.33       -0.68       -0.49\n",
            "PhoneService     -0.02       0.98      0.09  -0.25   0.80      0.32       -0.21        0.16\n",
            "MultipleLines    -0.51       0.60      0.06  -9.18 <0.005     64.38       -0.62       -0.40\n",
            "OnlineSecurity   -0.60       0.55      0.07  -9.21 <0.005     64.79       -0.73       -0.47\n",
            "OnlineBackup     -0.70       0.50      0.06 -12.43 <0.005    115.43       -0.81       -0.59\n",
            "TechSupport      -0.46       0.63      0.06  -7.13 <0.005     39.85       -0.59       -0.34\n",
            "Contract         -1.79       0.17      0.06 -28.26 <0.005    581.38       -1.92       -1.67\n",
            "PaperlessBilling  0.19       1.21      0.06   3.30 <0.005     10.02        0.08        0.30\n",
            "PaymentMethod    -0.24       0.79      0.02 -10.87 <0.005     89.01       -0.28       -0.20\n",
            "MonthlyCharges    0.01       1.01      0.00   7.74 <0.005     46.53        0.01        0.01\n",
            "---\n",
            "Concordance = 0.86\n",
            "Log-likelihood ratio test = 3373.81 on 10 df, -log2(p)=inf\n"
          ],
          "name": "stdout"
        }
      ]
    },
    {
      "metadata": {
        "id": "G0rAqRYRhAxK",
        "colab_type": "code",
        "outputId": "0c89d12c-c631-4823-b2d5-c6c411e56566",
        "colab": {
          "base_uri": "https://localhost:8080/",
          "height": 386
        }
      },
      "cell_type": "code",
      "source": [
        "dfnew = dfnew.drop(columns=['MonthlyCharges', 'Contract'])\n",
        "\n",
        "cph.fit(dfnew, 'tenure', event_col='Churn')\n",
        "cph.print_summary()\n",
        "#The exp(coef) of these features is closer to reality now\n",
        "#PhoneService, OnlineBackup and Partner are largest changes"
      ],
      "execution_count": 61,
      "outputs": [
        {
          "output_type": "stream",
          "text": [
            "<lifelines.CoxPHFitter: fitted with 7032 observations, 5163 censored>\n",
            "      duration col = 'tenure'\n",
            "         event col = 'Churn'\n",
            "number of subjects = 7032\n",
            "  number of events = 1869\n",
            "    log-likelihood = -13997.12\n",
            "  time fit was run = 2019-02-28 08:54:44 UTC\n",
            "\n",
            "---\n",
            "                  coef  exp(coef)  se(coef)      z      p  -log2(p)  lower 0.95  upper 0.95\n",
            "Partner          -0.57       0.57      0.05 -11.34 <0.005     96.66       -0.67       -0.47\n",
            "PhoneService      0.25       1.28      0.09   2.90 <0.005      8.06        0.08        0.41\n",
            "MultipleLines    -0.33       0.72      0.05  -6.46 <0.005     33.13       -0.43       -0.23\n",
            "OnlineSecurity   -0.54       0.58      0.06  -8.29 <0.005     53.02       -0.66       -0.41\n",
            "OnlineBackup     -0.58       0.56      0.05 -10.69 <0.005     86.12       -0.69       -0.48\n",
            "TechSupport      -0.35       0.70      0.06  -5.53 <0.005     24.87       -0.47       -0.23\n",
            "Contract         -1.88       0.15      0.06 -30.24 <0.005    664.75       -2.01       -1.76\n",
            "PaperlessBilling  0.32       1.37      0.06   5.72 <0.005     26.49        0.21        0.42\n",
            "PaymentMethod    -0.27       0.76      0.02 -12.12 <0.005    109.92       -0.31       -0.23\n",
            "---\n",
            "Concordance = 0.86\n",
            "Log-likelihood ratio test = 3311.84 on 9 df, -log2(p)=inf\n"
          ],
          "name": "stdout"
        }
      ]
    },
    {
      "metadata": {
        "id": "4Tn53SMmh8QK",
        "colab_type": "code",
        "outputId": "a401bda7-f947-4260-f85c-1851f12d9acb",
        "colab": {
          "base_uri": "https://localhost:8080/",
          "height": 411
        }
      },
      "cell_type": "code",
      "source": [
        "ax = cph.plot();\n",
        "plt.xlim(-2, 2)\n",
        "ax.tick_params(axis='both', labelcolor='black')\n",
        "ax.text(x = -2, y=9.5, s='Monthly payments, not having a cloud and not sharing',\n",
        "        fontsize=18, fontweight='bold');\n",
        "ax.text(x = -2, y=9, s='with a partner are the main factors why customers churn.',\n",
        "        fontsize=18, fontweight='bold');\n",
        "ax.text(x = -2, y=8.5, s='Plot of cox proportional hazards for features with a P<0.01 significance',\n",
        "        fontsize=15, color='#424242');\n",
        "#the confidence interval of feature coefficient"
      ],
      "execution_count": 63,
      "outputs": [
        {
          "output_type": "display_data",
          "data": {
            "image/png": "[encoded data removed]",
            "text/plain": [
              "<Figure size 576x396 with 1 Axes>"
            ]
          },
          "metadata": {
            "tags": []
          }
        }
      ]
    },
    {
      "metadata": {
        "id": "Q5k3ymKYQIX2",
        "colab_type": "code",
        "outputId": "4f3dd7f0-61e8-4fc1-db68-20e3b1c6684a",
        "colab": {
          "base_uri": "https://localhost:8080/",
          "height": 151
        }
      },
      "cell_type": "code",
      "source": [
        "!pip install -U matplotlib"
      ],
      "execution_count": 64,
      "outputs": [
        {
          "output_type": "stream",
          "text": [
            "Requirement already up-to-date: matplotlib in /usr/local/lib/python3.6/dist-packages (3.0.2)\n",
            "Requirement already satisfied, skipping upgrade: cycler>=0.10 in /usr/local/lib/python3.6/dist-packages (from matplotlib) (0.10.0)\n",
            "Requirement already satisfied, skipping upgrade: pyparsing!=2.0.4,!=2.1.2,!=2.1.6,>=2.0.1 in /usr/local/lib/python3.6/dist-packages (from matplotlib) (2.3.1)\n",
            "Requirement already satisfied, skipping upgrade: numpy>=1.10.0 in /usr/local/lib/python3.6/dist-packages (from matplotlib) (1.14.6)\n",
            "Requirement already satisfied, skipping upgrade: python-dateutil>=2.1 in /usr/local/lib/python3.6/dist-packages (from matplotlib) (2.5.3)\n",
            "Requirement already satisfied, skipping upgrade: kiwisolver>=1.0.1 in /usr/local/lib/python3.6/dist-packages (from matplotlib) (1.0.1)\n",
            "Requirement already satisfied, skipping upgrade: six in /usr/local/lib/python3.6/dist-packages (from cycler>=0.10->matplotlib) (1.11.0)\n",
            "Requirement already satisfied, skipping upgrade: setuptools in /usr/local/lib/python3.6/dist-packages (from kiwisolver>=1.0.1->matplotlib) (40.8.0)\n"
          ],
          "name": "stdout"
        }
      ]
    },
    {
      "metadata": {
        "id": "fe0oYap4lTBt",
        "colab_type": "code",
        "outputId": "f3e250a7-83d1-4d85-8291-9d97437c3fad",
        "colab": {
          "base_uri": "https://localhost:8080/",
          "height": 34
        }
      },
      "cell_type": "code",
      "source": [
        "time = dfnew.tenure.values\n",
        "event = dfnew.Churn.values\n",
        "\n",
        "kmf = lifelines.KaplanMeierFitter()\n",
        "\n",
        "kmf.fit(time, event_observed=event)"
      ],
      "execution_count": 65,
      "outputs": [
        {
          "output_type": "execute_result",
          "data": {
            "text/plain": [
              "<lifelines.KaplanMeierFitter: fitted with 7032 observations, 5163 censored>"
            ]
          },
          "metadata": {
            "tags": []
          },
          "execution_count": 65
        }
      ]
    },
    {
      "metadata": {
        "id": "k7LFGySWQKYv",
        "colab_type": "code",
        "outputId": "a7942f42-1bdf-4b5a-ea54-ec1d5e49982e",
        "colab": {
          "base_uri": "https://localhost:8080/",
          "height": 415
        }
      },
      "cell_type": "code",
      "source": [
        "plt.style.use('ggplot')\n",
        "ax = kmf.survival_function_.plot()\n",
        "plt.ylim(0.00, 1.00)\n",
        "plt.xlim(0, 80)\n",
        "ax.tick_params(axis='both', labelcolor='black')\n",
        "ax.text(x = 0, y=1.13, s='Customers are still 60% likely to be subscribed after 72 months',\n",
        "        fontsize=18, fontweight='bold');\n",
        "ax.text(x = 0, y=1.08, s='Kaplan-Meier survival curve of probability of not having churned',\n",
        "        fontsize=15, color='#424242');\n",
        "ax.text(x = 0, y=1.03, s='against months subscribed',\n",
        "        fontsize=15, color='#424242');"
      ],
      "execution_count": 66,
      "outputs": [
        {
          "output_type": "display_data",
          "data": {
            "image/png": "[encoded data removed]",
            "text/plain": [
              "<Figure size 576x396 with 1 Axes>"
            ]
          },
          "metadata": {
            "tags": []
          }
        }
      ]
    },
    {
      "metadata": {
        "id": "S8FITHPFQpt9",
        "colab_type": "code",
        "colab": {
          "base_uri": "https://localhost:8080/",
          "height": 407
        },
        "outputId": "d53100f6-1db4-47f7-a33e-689a03cae9c4"
      },
      "cell_type": "code",
      "source": [
        "ax = cph.plot_covariate_groups(covariates='Partner', values=[0,1]);\n",
        "ax.text(x = 0, y=1.13, s='Its 1:30 AM this is as nice as these will get',\n",
        "        fontsize=18, fontweight='bold');"
      ],
      "execution_count": 72,
      "outputs": [
        {
          "output_type": "display_data",
          "data": {
            "image/png": "[encoded data removed]",
            "text/plain": [
              "<Figure size 576x396 with 1 Axes>"
            ]
          },
          "metadata": {
            "tags": []
          }
        }
      ]
    },
    {
      "metadata": {
        "id": "ktIk4IBybibH",
        "colab_type": "code",
        "colab": {
          "base_uri": "https://localhost:8080/",
          "height": 398
        },
        "outputId": "2f7af391-1e35-4d83-8880-6c9f07d4e9c0"
      },
      "cell_type": "code",
      "source": [
        "ax = cph.plot_covariate_groups(covariates='Contract', values=np.arange(0,2,1));\n",
        "ax.text(x = 0, y=1.13, s='Contract spread of survival by bin much larger than for bools',\n",
        "        fontsize=18, fontweight='bold');\n",
        "ax.text(x = 0, y=1.08, s='Indicates a dramatic effect with little overlap between dead and survival groups',\n",
        "        fontsize=15, color='#424242');\n",
        "#spread of survival by bin nearly identical to partner"
      ],
      "execution_count": 74,
      "outputs": [
        {
          "output_type": "display_data",
          "data": {
            "image/png": "[encoded data removed]",
            "text/plain": [
              "<Figure size 576x396 with 1 Axes>"
            ]
          },
          "metadata": {
            "tags": []
          }
        }
      ]
    },
    {
      "metadata": {
        "id": "Nk2lIZj2cGVn",
        "colab_type": "code",
        "colab": {
          "base_uri": "https://localhost:8080/",
          "height": 380
        },
        "outputId": "52a6cc75-faf9-494b-b4be-9d27a05a4a4b"
      },
      "cell_type": "code",
      "source": [
        "cph.plot_covariate_groups(covariates='OnlineBackup', values=[0,1])\n",
        "#spread of survival by bin nearly identical to partner"
      ],
      "execution_count": 73,
      "outputs": [
        {
          "output_type": "execute_result",
          "data": {
            "text/plain": [
              "<matplotlib.axes._subplots.AxesSubplot at 0x7fd1556b27f0>"
            ]
          },
          "metadata": {
            "tags": []
          },
          "execution_count": 73
        },
        {
          "output_type": "display_data",
          "data": {
            "image/png": "[encoded data removed]",
            "text/plain": [
              "<Figure size 576x396 with 1 Axes>"
            ]
          },
          "metadata": {
            "tags": []
          }
        }
      ]
    },
    {
      "metadata": {
        "id": "kjKxnx4RuzWD",
        "colab_type": "text"
      },
      "cell_type": "markdown",
      "source": [
        "Most of the features I looked at are what's called 'binary' or 'boolean' in the programming world - they either have a yes or no answer. Their numeric symbolism is 1 and 0. Two of the most impactful features on churn (above 0.5 or below -0.5 on the Cox hazards graph), sharing with a partner or using the phone service, are boolean. Our negative placement of partner on the cox hazards graph means that we are more at risk of losing a customer if they are not sharing it with another adult. This makes intuitive sense and there isn't a lot that can be done about it other than making our online service show more Hot Singles In Your Area (don't do this). OnlineBackup has a nearly identical placement, but's its worth saying it was originally three conditions (cloud - 1, not having cloud but having internet service - 0, not having internet service - 0). Pure booleans like partner sharing are probably slightly more accurate models of churn than compressed ones like online backup use or pure categorical classes like contract type.\n",
        "\n",
        "By far the most dramatic feature either direction is the contract type, where I mapped 0 (and that strongly negative trend) to the **month-by-month payment**, 1 to payment per 1 year, and 2 to payment by 2 years. This also makes sense, as there are more opportunities to withdrawl than with annual plans.\n",
        "\n",
        "I advise you to look into how we incentivize customers, particularly existing monthly customers, to our annual plans and cloud services. This strategy could look like offering discounts on cloud frequently and marketing the pricing-per-month of the annual plans as clearly more cost-effective than the monthly or the competition."
      ]
    }
  ]
}