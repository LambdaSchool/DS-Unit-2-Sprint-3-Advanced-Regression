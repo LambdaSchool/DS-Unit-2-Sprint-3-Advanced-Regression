{
 "cells": [
  {
   "cell_type": "markdown",
   "metadata": {
    "colab_type": "text",
    "id": "-eFju4_DDKeX"
   },
   "source": [
    "# Lambda School Data Science - Ridge Regression\n",
    "\n",
    "Regularize your way to a better tomorrow."
   ]
  },
  {
   "cell_type": "markdown",
   "metadata": {
    "colab_type": "text",
    "id": "k0AhsAmuJzT9"
   },
   "source": [
    "# Assignment\n",
    "\n",
    "Following is data describing characteristics of blog posts, with a target feature of how many comments will be posted in the following 24 hours.\n",
    "\n",
    "https://archive.ics.uci.edu/ml/datasets/BlogFeedback\n",
    "\n",
    "Investigate - you can try both linear and ridge. You can also sample to smaller data size and see if that makes ridge more important. Don't forget to scale!\n",
    "\n",
    "Focus on the training data, but if you want to load and compare to any of the test data files you can also do that.\n",
    "\n",
    "Note - Ridge may not be that fundamentally superior in this case. That's OK! It's still good to practice both, and see if you can find parameters or sample sizes where ridge does generalize and perform better.\n",
    "\n",
    "When you've fit models to your satisfaction, answer the following question:\n",
    "\n",
    "```\n",
    "Did you find cases where Ridge performed better? If so, describe (alpha parameter, sample size, any other relevant info/processing). If not, what do you think that tells you about the data?\n",
    "```\n",
    "\n",
    "You can create whatever plots, tables, or other results support your argument. In this case, your target audience is a fellow data scientist, *not* a layperson, so feel free to dig in!"
   ]
  },
  {
   "cell_type": "code",
   "execution_count": 1,
   "metadata": {
    "colab": {},
    "colab_type": "code",
    "id": "HKKnNsttRpwI"
   },
   "outputs": [],
   "source": [
    "import pandas as pd\n",
    "import numpy as np\n",
    "import matplotlib.pyplot as plt\n",
    "import seaborn as sns\n",
    "from sklearn.preprocessing import StandardScaler\n",
    "from sklearn.linear_model import LinearRegression\n",
    "from sklearn.metrics import mean_squared_error, r2_score\n",
    "from sklearn.preprocessing import scale\n",
    "from sklearn.linear_model import Ridge\n",
    "import glob\n",
    "\n",
    "pd.set_option('display.max_columns', None)  # Unlimited columns"
   ]
  },
  {
   "cell_type": "code",
   "execution_count": 2,
   "metadata": {},
   "outputs": [],
   "source": [
    "# All the columns in all the datasets are numerical and clean of NANs\n",
    "train = pd.read_csv('blogData_train.csv', header=None)\n",
    "\n",
    "# I imported all the test files as separate DFs\n",
    "test_files = glob.glob('tests/*.csv')\n",
    "test_list = [pd.read_csv(file, header=None) for file in test_files]"
   ]
  },
  {
   "cell_type": "code",
   "execution_count": 3,
   "metadata": {},
   "outputs": [],
   "source": [
    "# Standardizing the data (X variables only, not y)\n",
    "scaler = StandardScaler()\n",
    "X_train = scaler.fit_transform(train.drop(columns=280))\n",
    "y_train = train[280]\n",
    "\n",
    "# I put all X test matrices into a single vector, and do the same\n",
    "# with the y test vectors.\n",
    "X_test_list = []\n",
    "y_test_list = []\n",
    "\n",
    "for df in test_list:\n",
    "    scaler = StandardScaler()\n",
    "    X = df.drop(columns=280)\n",
    "    y = df[280]\n",
    "    X_test_list.append(scaler.fit_transform(X))\n",
    "    y_test_list.append(y)"
   ]
  },
  {
   "cell_type": "code",
   "execution_count": 4,
   "metadata": {},
   "outputs": [],
   "source": [
    "# # Alternative scaler\n",
    "# X_train = scale(train.drop(columns=280))\n",
    "# y_train = scale(train[280])\n",
    "\n",
    "# # I put all X test matrices into a single vector, and do the same\n",
    "# # with the y test vectors.\n",
    "# X_test_list = []\n",
    "# y_test_list = []\n",
    "\n",
    "# for df in test_list:\n",
    "#     X = df.drop(columns=280)\n",
    "#     y = df[280]\n",
    "#     X_test_list.append(scale(X))\n",
    "#     y_test_list.append(scale(y))"
   ]
  },
  {
   "cell_type": "code",
   "execution_count": 5,
   "metadata": {},
   "outputs": [],
   "source": [
    "# # No standardization at all\n",
    "# X_train = train.drop(columns=280)\n",
    "# y_train = train[280]\n",
    "\n",
    "# # I put all X test matrices into a single vector, and do the same\n",
    "# # with the y test vectors.\n",
    "# X_test_list = []\n",
    "# y_test_list = []\n",
    "\n",
    "# for df in test_list:\n",
    "#     X = df.drop(columns=280)\n",
    "#     y = df[280]\n",
    "#     X_test_list.append(X)\n",
    "#     y_test_list.append(y)"
   ]
  },
  {
   "cell_type": "code",
   "execution_count": 6,
   "metadata": {},
   "outputs": [],
   "source": [
    "# Linear regression\n",
    "model_OLS = LinearRegression()\n",
    "model_OLS.fit(X_train, y_train)\n",
    "intercept = model_OLS.intercept_  # single number\n",
    "coefficients = model_OLS.coef_    # array"
   ]
  },
  {
   "cell_type": "code",
   "execution_count": 7,
   "metadata": {},
   "outputs": [],
   "source": [
    "# Predict based on the test data (create array)\n",
    "y_pred_list = [model_OLS.predict(X_test) for X_test in X_test_list]\n",
    "\n",
    "# Calculate scores from y_test and predictions\n",
    "RMSE_list = []\n",
    "R2_list = []\n",
    "for y_test, y_pred in zip(y_test_list, y_pred_list):\n",
    "    RMSE_list.append((np.sqrt(mean_squared_error(y_test, y_pred))))\n",
    "    R2_list.append(r2_score(y_test, y_pred))"
   ]
  },
  {
   "cell_type": "code",
   "execution_count": 8,
   "metadata": {},
   "outputs": [
    {
     "name": "stdout",
     "output_type": "stream",
     "text": [
      "Intercept   : 6.76\n"
     ]
    }
   ],
   "source": [
    "# Print report\n",
    "print(f\"Intercept   : {intercept:.2f}\")\n",
    "# print(\"\\nCoefficients:\\n\")\n",
    "# for var, coef in zip(train.columns[:-1], coefficients):\n",
    "#     print(f'{var:>12}: {coef:.4f}')"
   ]
  },
  {
   "cell_type": "code",
   "execution_count": 9,
   "metadata": {},
   "outputs": [
    {
     "name": "stdout",
     "output_type": "stream",
     "text": [
      "RMSE        : 1947050480846.11\n",
      "RMSE        : 665781774660.31\n",
      "RMSE        : 1504564487288.19\n",
      "RMSE        : 3299421211187.39\n",
      "RMSE        : 2409996552255.31\n",
      "RMSE        : 5314388895477.54\n",
      "RMSE        : 1436709317519.60\n",
      "RMSE        : 2824645049971.34\n",
      "RMSE        : 2272053511508.48\n",
      "RMSE        : 1153703676367.20\n",
      "RMSE        : 1822663582787.08\n",
      "RMSE        : 1360137603062.04\n",
      "RMSE        : 2608989977502.50\n",
      "RMSE        : 1167355669801.19\n",
      "RMSE        : 3191240589412.27\n",
      "RMSE        : 5335381828529.95\n",
      "RMSE        : 3655532615419.20\n",
      "RMSE        : 5138256738035.18\n",
      "RMSE        : 3286815217333.24\n",
      "RMSE        : 1812728155079.50\n",
      "RMSE        : 3527519471255.85\n",
      "RMSE        : 1371279646455.09\n",
      "RMSE        : 942076672953.02\n",
      "RMSE        : 1243828122299.68\n",
      "RMSE        : 5881795981770.34\n",
      "RMSE        : 2857071413068.64\n",
      "RMSE        : 6010937513532.05\n",
      "RMSE        : 3158344745978.20\n",
      "RMSE        : 983200085652.07\n",
      "RMSE        : 646993829117.29\n",
      "RMSE        : 1984884779246.97\n",
      "RMSE        : 1659187244098.96\n",
      "RMSE        : 3957246391623.49\n",
      "RMSE        : 1549378310375.17\n",
      "RMSE        : 4364238861831.18\n",
      "RMSE        : 1485514627800.36\n",
      "RMSE        : 1125513741784.50\n",
      "RMSE        : 1644994399804.60\n",
      "RMSE        : 1621555000762.62\n",
      "RMSE        : 2273938591517.32\n",
      "RMSE        : 1190711626993.35\n",
      "RMSE        : 1081681949295.95\n",
      "RMSE        : 1402775347823.29\n",
      "RMSE        : 3167652735795.27\n",
      "RMSE        : 1409272394405.71\n",
      "RMSE        : 1017576180835.62\n",
      "RMSE        : 2615200581765.93\n",
      "RMSE        : 2108156133184.83\n",
      "RMSE        : 1472281080149.15\n",
      "RMSE        : 1093180878396.61\n",
      "RMSE        : 1090896044981.15\n",
      "RMSE        : 1604521982952.95\n",
      "RMSE        : 3342435662220.17\n",
      "RMSE        : 3430465684078.93\n",
      "RMSE        : 2364339812589.39\n",
      "RMSE        : 4063906286208.34\n",
      "RMSE        : 3486998246547.47\n",
      "RMSE        : 1150278752996.16\n",
      "RMSE        : 950775929104.49\n",
      "RMSE        : 3013408709818.84\n",
      "\n",
      "R^2         : -18176893031153007591424.00\n",
      "R^2         : -155070602859580915712.00\n",
      "R^2         : -1416722494731635654656.00\n",
      "R^2         : -16123446150650268745728.00\n",
      "R^2         : -6287793243914970857472.00\n",
      "R^2         : -27108920511365556207616.00\n",
      "R^2         : -4040593655220479721472.00\n",
      "R^2         : -3431394892955814723584.00\n",
      "R^2         : -3331269165876600897536.00\n",
      "R^2         : -4000830483374991212544.00\n",
      "R^2         : -8839693863700444217344.00\n",
      "R^2         : -6711643810794462773248.00\n",
      "R^2         : -40998541590581309603840.00\n",
      "R^2         : -3729288381954472280064.00\n",
      "R^2         : -73788914076371285704704.00\n",
      "R^2         : -15257811990263191568384.00\n",
      "R^2         : -47378967284104036352000.00\n",
      "R^2         : -13792092267153668964352.00\n",
      "R^2         : -10608531197026145140736.00\n",
      "R^2         : -1483770994183262961664.00\n",
      "R^2         : -5354476506649953566720.00\n",
      "R^2         : -826100728470912237568.00\n",
      "R^2         : -6640744425436709126144.00\n",
      "R^2         : -9733456558118244712448.00\n",
      "R^2         : -50950883214687706546176.00\n",
      "R^2         : -12980852992139748966400.00\n",
      "R^2         : -5969037106367446325919744.00\n",
      "R^2         : -40977836927358536253440.00\n",
      "R^2         : -21621692346839211180032.00\n",
      "R^2         : -1681411921443295330304.00\n",
      "R^2         : -16051203005682771034112.00\n",
      "R^2         : -3900085515054609858560.00\n",
      "R^2         : -7765660293538584199168.00\n",
      "R^2         : -1393405107914223648768.00\n",
      "R^2         : -72764302912535115333632.00\n",
      "R^2         : -8102177482141042999296.00\n",
      "R^2         : -73889405541571301998592.00\n",
      "R^2         : -3596403442731514855424.00\n",
      "R^2         : -11170198492568564531200.00\n",
      "R^2         : -5088223696482533900288.00\n",
      "R^2         : -3471599527078010028032.00\n",
      "R^2         : -972726859823966978048.00\n",
      "R^2         : -1414074868683261345792.00\n",
      "R^2         : -8169302289691133870080.00\n",
      "R^2         : -2109463031545930186752.00\n",
      "R^2         : -601126001059612590080.00\n",
      "R^2         : -12877533663761702846464.00\n",
      "R^2         : -4575504683504942710784.00\n",
      "R^2         : -1421187537878142681088.00\n",
      "R^2         : -9139421371287335862272.00\n",
      "R^2         : -930491320186284277760.00\n",
      "R^2         : -878143991874749857792.00\n",
      "R^2         : -22646618482047671336960.00\n",
      "R^2         : -154457536497064360280064.00\n",
      "R^2         : -6939901559788035637248.00\n",
      "R^2         : -20083924771878085853184.00\n",
      "R^2         : -19750633145024752123904.00\n",
      "R^2         : -1090394041795530850304.00\n",
      "R^2         : -867316102051859267584.00\n",
      "R^2         : -7897583647830716710912.00\n"
     ]
    }
   ],
   "source": [
    "for RMSE in RMSE_list:\n",
    "    print(f'RMSE        : {RMSE:.2f}')\n",
    "print()\n",
    "for R2 in R2_list:\n",
    "    print(f'R^2         : {R2:.2f}')"
   ]
  },
  {
   "cell_type": "markdown",
   "metadata": {},
   "source": [
    "# Ridge Regression\n",
    "Since OLS isn't yielding sensible results, let's try to fit to a different model altogether."
   ]
  },
  {
   "cell_type": "code",
   "execution_count": 10,
   "metadata": {},
   "outputs": [],
   "source": [
    "model_ridge = Ridge().fit(X_train, y_train)\n",
    "intercept = model_ridge.intercept_  # single number\n",
    "coefficients = model_ridge.coef_    # array"
   ]
  },
  {
   "cell_type": "code",
   "execution_count": 11,
   "metadata": {},
   "outputs": [],
   "source": [
    "# Predict based on the test data (create array)\n",
    "y_pred_list = [model_ridge.predict(X_test) for X_test in X_test_list]\n",
    "\n",
    "# Calculate scores from y_test and predictions\n",
    "RMSE_list = []\n",
    "R2_list = []\n",
    "for y_test, y_pred in zip(y_test_list, y_pred_list):\n",
    "    RMSE_list.append((np.sqrt(mean_squared_error(y_test, y_pred))))\n",
    "    R2_list.append(r2_score(y_test, y_pred))"
   ]
  },
  {
   "cell_type": "code",
   "execution_count": 12,
   "metadata": {},
   "outputs": [
    {
     "name": "stdout",
     "output_type": "stream",
     "text": [
      "Intercept   : 6.76\n"
     ]
    }
   ],
   "source": [
    "# Print report\n",
    "print(f\"Intercept   : {intercept:.2f}\")\n",
    "# print(\"\\nCoefficients:\\n\")\n",
    "# for var, coef in zip(train.columns[:-1], coefficients):\n",
    "#     print(f'{var:>12}: {coef:.4f}')"
   ]
  },
  {
   "cell_type": "code",
   "execution_count": 13,
   "metadata": {},
   "outputs": [
    {
     "name": "stdout",
     "output_type": "stream",
     "text": [
      "RMSE        : 21.70\n",
      "RMSE        : 48.92\n",
      "RMSE        : 20.69\n",
      "RMSE        : 24.69\n",
      "RMSE        : 28.89\n",
      "RMSE        : 19.75\n",
      "RMSE        : 18.75\n",
      "RMSE        : 37.89\n",
      "RMSE        : 39.99\n",
      "RMSE        : 18.62\n",
      "RMSE        : 17.26\n",
      "RMSE        : 23.93\n",
      "RMSE        : 18.80\n",
      "RMSE        : 15.59\n",
      "RMSE        : 18.67\n",
      "RMSE        : 22.43\n",
      "RMSE        : 17.74\n",
      "RMSE        : 35.10\n",
      "RMSE        : 26.68\n",
      "RMSE        : 32.12\n",
      "RMSE        : 26.82\n",
      "RMSE        : 39.60\n",
      "RMSE        : 20.13\n",
      "RMSE        : 15.52\n",
      "RMSE        : 13.67\n",
      "RMSE        : 22.60\n",
      "RMSE        : 18.27\n",
      "RMSE        : 15.77\n",
      "RMSE        : 18.52\n",
      "RMSE        : 20.18\n",
      "RMSE        : 20.57\n",
      "RMSE        : 14.87\n",
      "RMSE        : 39.23\n",
      "RMSE        : 25.80\n",
      "RMSE        : 20.10\n",
      "RMSE        : 17.27\n",
      "RMSE        : 19.50\n",
      "RMSE        : 28.09\n",
      "RMSE        : 16.29\n",
      "RMSE        : 11.67\n",
      "RMSE        : 16.16\n",
      "RMSE        : 17.96\n",
      "RMSE        : 28.96\n",
      "RMSE        : 25.65\n",
      "RMSE        : 26.34\n",
      "RMSE        : 26.97\n",
      "RMSE        : 24.65\n",
      "RMSE        : 14.53\n",
      "RMSE        : 31.48\n",
      "RMSE        : 14.21\n",
      "RMSE        : 21.56\n",
      "RMSE        : 50.20\n",
      "RMSE        : 17.06\n",
      "RMSE        : 18.80\n",
      "RMSE        : 15.15\n",
      "RMSE        : 28.25\n",
      "RMSE        : 28.73\n",
      "RMSE        : 26.31\n",
      "RMSE        : 24.80\n",
      "RMSE        : 31.73\n",
      "\n",
      "R^2         : -1.26\n",
      "R^2         : 0.16\n",
      "R^2         : 0.73\n",
      "R^2         : 0.10\n",
      "R^2         : 0.10\n",
      "R^2         : 0.63\n",
      "R^2         : 0.31\n",
      "R^2         : 0.38\n",
      "R^2         : -0.03\n",
      "R^2         : -0.04\n",
      "R^2         : 0.21\n",
      "R^2         : -1.08\n",
      "R^2         : -1.13\n",
      "R^2         : 0.33\n",
      "R^2         : -1.53\n",
      "R^2         : 0.73\n",
      "R^2         : -0.12\n",
      "R^2         : 0.36\n",
      "R^2         : 0.30\n",
      "R^2         : 0.53\n",
      "R^2         : 0.69\n",
      "R^2         : 0.31\n",
      "R^2         : -2.03\n",
      "R^2         : -0.52\n",
      "R^2         : 0.72\n",
      "R^2         : 0.19\n",
      "R^2         : -54.17\n",
      "R^2         : -0.02\n",
      "R^2         : -6.67\n",
      "R^2         : -0.64\n",
      "R^2         : -0.72\n",
      "R^2         : 0.69\n",
      "R^2         : 0.24\n",
      "R^2         : 0.61\n",
      "R^2         : -0.54\n",
      "R^2         : -0.09\n",
      "R^2         : -21.19\n",
      "R^2         : -0.05\n",
      "R^2         : -0.13\n",
      "R^2         : 0.87\n",
      "R^2         : 0.36\n",
      "R^2         : 0.73\n",
      "R^2         : 0.40\n",
      "R^2         : 0.46\n",
      "R^2         : 0.26\n",
      "R^2         : 0.58\n",
      "R^2         : -0.14\n",
      "R^2         : 0.78\n",
      "R^2         : 0.35\n",
      "R^2         : -0.54\n",
      "R^2         : 0.64\n",
      "R^2         : 0.14\n",
      "R^2         : 0.41\n",
      "R^2         : -3.64\n",
      "R^2         : 0.72\n",
      "R^2         : 0.03\n",
      "R^2         : -0.34\n",
      "R^2         : 0.43\n",
      "R^2         : 0.41\n",
      "R^2         : 0.12\n"
     ]
    }
   ],
   "source": [
    "for RMSE in RMSE_list:\n",
    "    print(f'RMSE        : {RMSE:.2f}')\n",
    "print()\n",
    "for R2 in R2_list:\n",
    "    print(f'R^2         : {R2:.2f}')"
   ]
  },
  {
   "cell_type": "markdown",
   "metadata": {},
   "source": [
    "# What if we combine all the test data?"
   ]
  },
  {
   "cell_type": "code",
   "execution_count": 14,
   "metadata": {},
   "outputs": [
    {
     "name": "stdout",
     "output_type": "stream",
     "text": [
      "RMSE_OLS        : 157900068850.36\n",
      "RMSE_ridge        : 25.08\n",
      "\n",
      "R^2_OLS        : -26802055480007806976.00\n",
      "R^2_ridge         : 0.32\n"
     ]
    }
   ],
   "source": [
    "test_combined = pd.concat(test_list, axis = 0, ignore_index = True)\n",
    "scaler = StandardScaler()\n",
    "X_test_comb = scaler.fit_transform(test_combined.drop(columns=280))\n",
    "y_test_comb = test_combined[280]\n",
    "\n",
    "y_pred_comb_OLS = model_OLS.predict(X_test_comb)\n",
    "y_pred_comb_ridge = model_ridge.predict(X_test_comb)\n",
    "\n",
    "RMSE_OLS = (np.sqrt(mean_squared_error(y_test_comb, y_pred_comb_OLS)))\n",
    "RMSE_ridge = (np.sqrt(mean_squared_error(y_test_comb, y_pred_comb_ridge)))\n",
    "\n",
    "R2_OLS = r2_score(y_test_comb, y_pred_comb_OLS)\n",
    "R2_ridge = r2_score(y_test_comb, y_pred_comb_ridge)\n",
    "\n",
    "print(f'RMSE_OLS        : {RMSE_OLS:.2f}')\n",
    "print(f'RMSE_ridge        : {RMSE_ridge:.2f}')\n",
    "print()\n",
    "print(f'R^2_OLS        : {R2_OLS:.2f}')\n",
    "print(f'R^2_ridge         : {R2_ridge:.2f}')\n"
   ]
  },
  {
   "cell_type": "markdown",
   "metadata": {},
   "source": [
    "Ridge Regression continues to work way better than OLS, which still refuses to converge into something sensible."
   ]
  },
  {
   "cell_type": "markdown",
   "metadata": {},
   "source": [
    "# Varying alpha\n",
    "Let's try changing up the alpha parameter.  I'll only use the combined test data, because that's simpler to work with."
   ]
  },
  {
   "cell_type": "code",
   "execution_count": 15,
   "metadata": {},
   "outputs": [
    {
     "name": "stdout",
     "output_type": "stream",
     "text": [
      "               alpha > RMSE\n",
      "        0.0000000000 > 2707889278128.54\n",
      "        0.0000000010 > 2799.89\n",
      "        0.0000004642 > 24.58\n",
      "        0.0002154435 > 24.88\n",
      "        0.1000000000 > 24.91\n",
      "       46.4158883361 > 25.37\n",
      "    21544.3469003188 > 25.52\n",
      " 10000000.0000000000 > 29.67\n",
      "4641588833.6127538681 > 30.53\n",
      "2154434690031.8779296875 > 30.53\n",
      "1000000000000000.0000000000 > 30.53\n"
     ]
    }
   ],
   "source": [
    "# X_train and y_train are all our training data\n",
    "# X_test_comb and y_test_comb are all the test data \n",
    "\n",
    "alphas = []\n",
    "RMSEs = []\n",
    "\n",
    "print('               alpha > RMSE')\n",
    "for alpha in ([0] + np.logspace(-9,15, num=10).tolist()):\n",
    "    ridge_split = Ridge(alpha=alpha).fit(X_train, y_train)\n",
    "    RMSE = np.sqrt(mean_squared_error(y_test_comb,\n",
    "                        ridge_split.predict(X_test_comb)))\n",
    "    print(f'{alpha:20.10f} > {RMSE:.2f}')\n",
    "    alphas.append(alpha)\n",
    "    RMSEs.append(RMSE)"
   ]
  },
  {
   "cell_type": "code",
   "execution_count": 16,
   "metadata": {},
   "outputs": [
    {
     "data": {
      "image/png": "[encoded data removed]",
      "text/plain": [
       "<Figure size 432x288 with 1 Axes>"
      ]
     },
     "metadata": {
      "needs_background": "light"
     },
     "output_type": "display_data"
    }
   ],
   "source": [
    "# Same numbers, plotted.\n",
    "from matplotlib.pyplot import scatter\n",
    "scatter(alphas, RMSEs);\n",
    "plt.xscale('log')\n",
    "plt.yscale('log')\n",
    "plt.xlim(1e-15,1e20)\n",
    "plt.ylim(1e1,1e5)\n",
    "plt.xlabel('Alpha');\n",
    "plt.ylabel('RMSE');\n",
    "plt.title('Any Ridge Regression is better than none', fontsize=16);"
   ]
  },
  {
   "cell_type": "markdown",
   "metadata": {},
   "source": [
    "# What if we use a small sample of the total data?"
   ]
  },
  {
   "cell_type": "code",
   "execution_count": 17,
   "metadata": {},
   "outputs": [
    {
     "data": {
      "text/plain": [
       "(52397, 281)"
      ]
     },
     "execution_count": 17,
     "metadata": {},
     "output_type": "execute_result"
    }
   ],
   "source": [
    "train.shape"
   ]
  },
  {
   "cell_type": "code",
   "execution_count": 67,
   "metadata": {},
   "outputs": [],
   "source": [
    "train_small = train.sample(1000, random_state=42)\n",
    "scaler = StandardScaler()\n",
    "X_train_small = scaler.fit_transform(train_small.drop(columns=280))\n",
    "y_train_small = train_small[280]"
   ]
  },
  {
   "cell_type": "code",
   "execution_count": 68,
   "metadata": {},
   "outputs": [],
   "source": [
    "# I'll train on the small dataset, but test on the full test data\n",
    "X = X_train_small\n",
    "y = y_train_small\n",
    "X_test = X_test_comb\n",
    "y_test = y_test_comb"
   ]
  },
  {
   "cell_type": "code",
   "execution_count": 69,
   "metadata": {},
   "outputs": [
    {
     "name": "stdout",
     "output_type": "stream",
     "text": [
      "RMSE        : 41660500755294.83\n",
      "R^2         : 0.12\n"
     ]
    }
   ],
   "source": [
    "# Linear regression\n",
    "model = LinearRegression()\n",
    "model.fit(X, y)\n",
    "\n",
    "y_pred = model.predict(X_test)\n",
    "RMSE = (np.sqrt(mean_squared_error(y_test, y_pred)))\n",
    "R2_ridge = r2_score(y_test, y_pred)\n",
    "\n",
    "print(f'RMSE        : {RMSE:.2f}')\n",
    "print(f'R^2         : {R2:.2f}')"
   ]
  },
  {
   "cell_type": "code",
   "execution_count": 70,
   "metadata": {},
   "outputs": [
    {
     "name": "stdout",
     "output_type": "stream",
     "text": [
      "RMSE        : 33.87\n",
      "R^2         : 0.12\n"
     ]
    }
   ],
   "source": [
    "# Ridge regression\n",
    "model = Ridge()\n",
    "model.fit(X, y)\n",
    "\n",
    "y_pred = model.predict(X_test)\n",
    "RMSE = (np.sqrt(mean_squared_error(y_test, y_pred)))\n",
    "R2_ridge = r2_score(y_test, y_pred)\n",
    "\n",
    "print(f'RMSE        : {RMSE:.2f}')\n",
    "print(f'R^2         : {R2:.2f}')"
   ]
  },
  {
   "cell_type": "code",
   "execution_count": 71,
   "metadata": {},
   "outputs": [
    {
     "name": "stdout",
     "output_type": "stream",
     "text": [
      "               alpha > RMSE\n",
      "        0.0000000000 > 4621392003322477.00\n",
      "        0.0000000010 > 75.34\n",
      "        0.0000004642 > 35.66\n",
      "        0.0002154435 > 35.66\n",
      "        0.1000000000 > 34.20\n",
      "       46.4158883361 > 31.90\n",
      "    21544.3469003188 > 28.37\n",
      " 10000000.0000000000 > 30.50\n",
      "4641588833.6127538681 > 30.52\n",
      "2154434690031.8779296875 > 30.52\n",
      "1000000000000000.0000000000 > 30.52\n"
     ]
    }
   ],
   "source": [
    "# Same regression, varying alpha\n",
    "\n",
    "alphas = []\n",
    "RMSEs = []\n",
    "\n",
    "print('               alpha > RMSE')\n",
    "for alpha in ([0] + np.logspace(-9,15, num=10).tolist()):\n",
    "    ridge_split = Ridge(alpha=alpha).fit(X, y)\n",
    "    RMSE = np.sqrt(mean_squared_error(y_test,\n",
    "                        ridge_split.predict(X_test)))\n",
    "    print(f'{alpha:20.10f} > {RMSE:.2f}')\n",
    "    alphas.append(alpha)\n",
    "    RMSEs.append(RMSE)"
   ]
  },
  {
   "cell_type": "code",
   "execution_count": 72,
   "metadata": {},
   "outputs": [
    {
     "data": {
      "image/png": "[encoded data removed]",
      "text/plain": [
       "<Figure size 432x288 with 1 Axes>"
      ]
     },
     "metadata": {
      "needs_background": "light"
     },
     "output_type": "display_data"
    }
   ],
   "source": [
    "# Same numbers, plotted.\n",
    "from matplotlib.pyplot import scatter\n",
    "scatter(alphas, RMSEs);\n",
    "plt.xscale('log')\n",
    "plt.yscale('log')\n",
    "plt.xlim(1e-15,1e20)\n",
    "plt.ylim(1e1,1e5)\n",
    "plt.xlabel('Alpha');\n",
    "plt.ylabel('RMSE');\n",
    "plt.title('Any Ridge Regression is better than none', fontsize=16);"
   ]
  },
  {
   "cell_type": "markdown",
   "metadata": {},
   "source": [
    "# Conclusions\n",
    "\n",
    "Ridge regression consistently performed better than OLS for this dataset, and the differences are telling. OLS almost always produced astronomical (~10^19) RMSE values, whereas RR trained on the same data would produce small values (~10^2).  This behavior was consistent throughout several combinations of training and testing datasets. \n",
    "\n",
    "Interestingly, OLS produced sensible RMSE values for some cases where I used a very small sample of training points (N=100), but the values would be either crazy or small if I used different random seeds. The leading explanation is that the dataset contains a few outliers that either do or don't get included in the random draws with N=100, and which cause OLS to crash when present.  \n",
    "\n",
    "RR was consistently resistant to these outliers, so long as the alpha was nonzero. An alpha=0 makes RR turn into OLS, of course, but it's interesting that alpha ~ 1e-8 was enough to more or less fix the problem of crazy RMSE. The ideal value of alpha (to minimize RMSE) was somewhere around 1e-6.\n",
    "\n",
    "Other people got different behaviors, most notably different graphs of alpha versus RMSE. Mine was basically a stark step function.  These changes apparently stem from different choices of training/testing data.  This seems to be a peculiarity of this dataset; the authors themselves warn that we should use the test data provided because of issues with overlapping timelines.  I'm not sure how this generalizes to the world at large, other than reinforcing the lesson that our choice of training/testing data matters a lot."
   ]
  },
  {
   "cell_type": "markdown",
   "metadata": {
    "colab_type": "text",
    "id": "Onsn4B2tJ20X"
   },
   "source": [
    "# Resources and stretch goals"
   ]
  },
  {
   "cell_type": "markdown",
   "metadata": {
    "colab_type": "text",
    "id": "o_ZIP6O0J435"
   },
   "source": [
    "Resources:\n",
    "- https://www.quora.com/What-is-regularization-in-machine-learning\n",
    "- https://blogs.sas.com/content/subconsciousmusings/2017/07/06/how-to-use-regularization-to-prevent-model-overfitting/\n",
    "- https://machinelearningmastery.com/introduction-to-regularization-to-reduce-overfitting-and-improve-generalization-error/\n",
    "- https://towardsdatascience.com/ridge-and-lasso-regression-a-complete-guide-with-python-scikit-learn-e20e34bcbf0b\n",
    "- https://stats.stackexchange.com/questions/111017/question-about-standardizing-in-ridge-regression#111022\n",
    "\n",
    "Stretch goals:\n",
    "- Revisit past data you've fit OLS models to, and see if there's an `alpha` such that ridge regression results in a model with lower MSE on a train/test split\n",
    "- Yes, Ridge can be applied to classification! Check out [sklearn.linear_model.RidgeClassifier](https://scikit-learn.org/stable/modules/generated/sklearn.linear_model.RidgeClassifier.html#sklearn.linear_model.RidgeClassifier), and try it on a problem you previous approached with a different classifier (note - scikit LogisticRegression also automatically penalizes based on the $L^2$ norm, so the difference won't be as dramatic)\n",
    "- Implement your own function to calculate the full cost that ridge regression is optimizing (the sum of squared residuals + `alpha` times the sum of squared coefficients) - this alone won't fit a model, but you can use it to verify cost of trained models and that the coefficients from the equivalent OLS (without regularization) may have a higher cost"
   ]
  }
 ],
 "metadata": {
  "colab": {
   "name": "LS_DS_234_Ridge_Regression.ipynb",
   "provenance": [],
   "version": "0.3.2"
  },
  "kernelspec": {
   "display_name": "Python 3",
   "language": "python",
   "name": "python3"
  },
  "language_info": {
   "codemirror_mode": {
    "name": "ipython",
    "version": 3
   },
   "file_extension": ".py",
   "mimetype": "text/x-python",
   "name": "python",
   "nbconvert_exporter": "python",
   "pygments_lexer": "ipython3",
   "version": "3.7.1"
  }
 },
 "nbformat": 4,
 "nbformat_minor": 1
}
