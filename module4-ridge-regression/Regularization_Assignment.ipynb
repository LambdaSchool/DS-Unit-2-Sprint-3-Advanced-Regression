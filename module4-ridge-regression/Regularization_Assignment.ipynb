{
  "nbformat": 4,
  "nbformat_minor": 0,
  "metadata": {
    "colab": {
      "name": "Regularization Assignment.ipynb",
      "version": "0.3.2",
      "provenance": [],
      "collapsed_sections": [],
      "include_colab_link": true
    },
    "kernelspec": {
      "name": "python3",
      "display_name": "Python 3"
    }
  },
  "cells": [
    {
      "cell_type": "markdown",
      "metadata": {
        "id": "view-in-github",
        "colab_type": "text"
      },
      "source": [
        "<a href=\"https://colab.research.google.com/github/DimaKav/DS-Unit-2-Sprint-3-Advanced-Regression/blob/master/module4-ridge-regression/Regularization_Assignment.ipynb\" target=\"_parent\"><img src=\"https://colab.research.google.com/assets/colab-badge.svg\" alt=\"Open In Colab\"/></a>"
      ]
    },
    {
      "metadata": {
        "id": "k0AhsAmuJzT9",
        "colab_type": "text"
      },
      "cell_type": "markdown",
      "source": [
        "# Assignment\n",
        "\n",
        "Following is data describing characteristics of blog posts, with a target feature of how many comments will be posted in the following 24 hours.\n",
        "\n",
        "https://archive.ics.uci.edu/ml/datasets/BlogFeedback\n",
        "\n",
        "Investigate - you can try both linear and ridge. You can also sample to smaller data size and see if that makes ridge more important. Don't forget to scale!\n",
        "\n",
        "Focus on the training data, but if you want to load and compare to any of the test data files you can also do that.\n",
        "\n",
        "Note - Ridge may not be that fundamentally superior in this case. That's OK! It's still good to practice both, and see if you can find parameters or sample sizes where ridge does generalize and perform better.\n",
        "\n",
        "When you've fit models to your satisfaction, answer the following question:\n",
        "\n",
        "```\n",
        "Did you find cases where Ridge performed better? If so, describe (alpha parameter, sample size, any other relevant info/processing). If not, what do you think that tells you about the data?\n",
        "```\n",
        "\n",
        "You can create whatever plots, tables, or other results support your argument. In this case, your target audience is a fellow data scientist, *not* a layperson, so feel free to dig in!"
      ]
    },
    {
      "metadata": {
        "id": "4q3PRDOHJHYq",
        "colab_type": "text"
      },
      "cell_type": "markdown",
      "source": [
        "Notes:\n",
        "* Overfit model performs poorly on the testing data but well on the training data, vice versa for underfit.\n",
        "* Not being able to generalize a models fit to out of sample data causes over-fitting or under-fitting.\n",
        "* Make sure to not only look at the test accuracy but also the training accuracy is well. Compare them, if one is substantially worse than the other, be able to tell whether it's over or underfit.\n",
        "* Ridge regression is not an inferential modelling technique, scaling the data makes the interpretation of coefficients different.\n",
        "* Precision = variance.\n",
        "* Bias = accuracy.\n",
        "* Read the intuition section in the lecture notes.\n",
        "* Really high R^2 values can also indicate overfitting.\n",
        "* The way to test for overfitting is get a train accuracy and then get a test accuracy. If training accuracy is better than test accuracy, then you have problems with overfitting.\n",
        "* We want to have at least 5x as many observations as features."
      ]
    },
    {
      "metadata": {
        "id": "HKKnNsttRpwI",
        "colab_type": "code",
        "colab": {
          "base_uri": "https://localhost:8080/",
          "height": 1258
        },
        "outputId": "3f1d336e-f385-4494-c850-68f4025580bc"
      },
      "cell_type": "code",
      "source": [
        "# TODO - write some code!\n",
        "!wget https://archive.ics.uci.edu/ml/machine-learning-databases/00304/BlogFeedback.zip\n",
        "!unzip BlogFeedback.zip"
      ],
      "execution_count": 2,
      "outputs": [
        {
          "output_type": "stream",
          "text": [
            "--2019-02-28 22:01:19--  https://archive.ics.uci.edu/ml/machine-learning-databases/00304/BlogFeedback.zip\n",
            "Resolving archive.ics.uci.edu (archive.ics.uci.edu)... 128.195.10.249\n",
            "Connecting to archive.ics.uci.edu (archive.ics.uci.edu)|128.195.10.249|:443... connected.\n",
            "HTTP request sent, awaiting response... 200 OK\n",
            "Length: 2583605 (2.5M) [application/zip]\n",
            "Saving to: ‘BlogFeedback.zip’\n",
            "\n",
            "BlogFeedback.zip    100%[===================>]   2.46M  3.71MB/s    in 0.7s    \n",
            "\n",
            "2019-02-28 22:01:20 (3.71 MB/s) - ‘BlogFeedback.zip’ saved [2583605/2583605]\n",
            "\n",
            "Archive:  BlogFeedback.zip\n",
            "  inflating: blogData_test-2012.02.01.00_00.csv  \n",
            "  inflating: blogData_test-2012.02.02.00_00.csv  \n",
            "  inflating: blogData_test-2012.02.03.00_00.csv  \n",
            "  inflating: blogData_test-2012.02.04.00_00.csv  \n",
            "  inflating: blogData_test-2012.02.05.00_00.csv  \n",
            "  inflating: blogData_test-2012.02.06.00_00.csv  \n",
            "  inflating: blogData_test-2012.02.07.00_00.csv  \n",
            "  inflating: blogData_test-2012.02.08.00_00.csv  \n",
            "  inflating: blogData_test-2012.02.09.00_00.csv  \n",
            "  inflating: blogData_test-2012.02.10.00_00.csv  \n",
            "  inflating: blogData_test-2012.02.11.00_00.csv  \n",
            "  inflating: blogData_test-2012.02.12.00_00.csv  \n",
            "  inflating: blogData_test-2012.02.13.00_00.csv  \n",
            "  inflating: blogData_test-2012.02.14.00_00.csv  \n",
            "  inflating: blogData_test-2012.02.15.00_00.csv  \n",
            "  inflating: blogData_test-2012.02.16.00_00.csv  \n",
            "  inflating: blogData_test-2012.02.17.00_00.csv  \n",
            "  inflating: blogData_test-2012.02.18.00_00.csv  \n",
            "  inflating: blogData_test-2012.02.19.00_00.csv  \n",
            "  inflating: blogData_test-2012.02.20.00_00.csv  \n",
            "  inflating: blogData_test-2012.02.21.00_00.csv  \n",
            "  inflating: blogData_test-2012.02.22.00_00.csv  \n",
            "  inflating: blogData_test-2012.02.23.00_00.csv  \n",
            "  inflating: blogData_test-2012.02.24.00_00.csv  \n",
            "  inflating: blogData_test-2012.02.25.00_00.csv  \n",
            "  inflating: blogData_test-2012.02.26.00_00.csv  \n",
            "  inflating: blogData_test-2012.02.27.00_00.csv  \n",
            "  inflating: blogData_test-2012.02.28.00_00.csv  \n",
            "  inflating: blogData_test-2012.02.29.00_00.csv  \n",
            "  inflating: blogData_test-2012.03.01.00_00.csv  \n",
            "  inflating: blogData_test-2012.03.02.00_00.csv  \n",
            "  inflating: blogData_test-2012.03.03.00_00.csv  \n",
            "  inflating: blogData_test-2012.03.04.00_00.csv  \n",
            "  inflating: blogData_test-2012.03.05.00_00.csv  \n",
            "  inflating: blogData_test-2012.03.06.00_00.csv  \n",
            "  inflating: blogData_test-2012.03.07.00_00.csv  \n",
            "  inflating: blogData_test-2012.03.08.00_00.csv  \n",
            "  inflating: blogData_test-2012.03.09.00_00.csv  \n",
            "  inflating: blogData_test-2012.03.10.00_00.csv  \n",
            "  inflating: blogData_test-2012.03.11.00_00.csv  \n",
            "  inflating: blogData_test-2012.03.12.00_00.csv  \n",
            "  inflating: blogData_test-2012.03.13.00_00.csv  \n",
            "  inflating: blogData_test-2012.03.14.00_00.csv  \n",
            "  inflating: blogData_test-2012.03.15.00_00.csv  \n",
            "  inflating: blogData_test-2012.03.16.00_00.csv  \n",
            "  inflating: blogData_test-2012.03.17.00_00.csv  \n",
            "  inflating: blogData_test-2012.03.18.00_00.csv  \n",
            "  inflating: blogData_test-2012.03.19.00_00.csv  \n",
            "  inflating: blogData_test-2012.03.20.00_00.csv  \n",
            "  inflating: blogData_test-2012.03.21.00_00.csv  \n",
            "  inflating: blogData_test-2012.03.22.00_00.csv  \n",
            "  inflating: blogData_test-2012.03.23.00_00.csv  \n",
            "  inflating: blogData_test-2012.03.24.00_00.csv  \n",
            "  inflating: blogData_test-2012.03.25.00_00.csv  \n",
            "  inflating: blogData_test-2012.03.26.01_00.csv  \n",
            "  inflating: blogData_test-2012.03.27.01_00.csv  \n",
            "  inflating: blogData_test-2012.03.28.01_00.csv  \n",
            "  inflating: blogData_test-2012.03.29.01_00.csv  \n",
            "  inflating: blogData_test-2012.03.30.01_00.csv  \n",
            "  inflating: blogData_test-2012.03.31.01_00.csv  \n",
            "  inflating: blogData_train.csv      \n"
          ],
          "name": "stdout"
        }
      ]
    },
    {
      "metadata": {
        "id": "YwoxXfWDkkNV",
        "colab_type": "code",
        "colab": {}
      },
      "cell_type": "code",
      "source": [
        "from sklearn.linear_model import Ridge\n",
        "import pandas as pd\n",
        "from sklearn.preprocessing import StandardScaler\n",
        "from sklearn.linear_model import LinearRegression\n",
        "from sklearn.metrics import mean_squared_error\n",
        "from sklearn.model_selection import train_test_split\n",
        "import matplotlib.pyplot as plt\n",
        "from sklearn import metrics\n",
        "from sklearn.model_selection import KFold, cross_val_score\n",
        "from sklearn.pipeline import make_pipeline\n",
        "from sklearn.linear_model import LogisticRegression"
      ],
      "execution_count": 0,
      "outputs": []
    },
    {
      "metadata": {
        "id": "pWX2O6a2oSNM",
        "colab_type": "code",
        "colab": {
          "base_uri": "https://localhost:8080/",
          "height": 233
        },
        "outputId": "01038c9e-3b01-445b-aa16-6940164fba5c"
      },
      "cell_type": "code",
      "source": [
        "df = pd.read_csv('blogData_train.csv', header=None)\n",
        "df.head()"
      ],
      "execution_count": 54,
      "outputs": [
        {
          "output_type": "execute_result",
          "data": {
            "text/html": [
              "<div>\n",
              "<style scoped>\n",
              "    .dataframe tbody tr th:only-of-type {\n",
              "        vertical-align: middle;\n",
              "    }\n",
              "\n",
              "    .dataframe tbody tr th {\n",
              "        vertical-align: top;\n",
              "    }\n",
              "\n",
              "    .dataframe thead th {\n",
              "        text-align: right;\n",
              "    }\n",
              "</style>\n",
              "<table border=\"1\" class=\"dataframe\">\n",
              "  <thead>\n",
              "    <tr style=\"text-align: right;\">\n",
              "      <th></th>\n",
              "      <th>0</th>\n",
              "      <th>1</th>\n",
              "      <th>2</th>\n",
              "      <th>3</th>\n",
              "      <th>4</th>\n",
              "      <th>5</th>\n",
              "      <th>6</th>\n",
              "      <th>7</th>\n",
              "      <th>8</th>\n",
              "      <th>9</th>\n",
              "      <th>...</th>\n",
              "      <th>271</th>\n",
              "      <th>272</th>\n",
              "      <th>273</th>\n",
              "      <th>274</th>\n",
              "      <th>275</th>\n",
              "      <th>276</th>\n",
              "      <th>277</th>\n",
              "      <th>278</th>\n",
              "      <th>279</th>\n",
              "      <th>280</th>\n",
              "    </tr>\n",
              "  </thead>\n",
              "  <tbody>\n",
              "    <tr>\n",
              "      <th>0</th>\n",
              "      <td>40.30467</td>\n",
              "      <td>53.845657</td>\n",
              "      <td>0.0</td>\n",
              "      <td>401.0</td>\n",
              "      <td>15.0</td>\n",
              "      <td>15.52416</td>\n",
              "      <td>32.44188</td>\n",
              "      <td>0.0</td>\n",
              "      <td>377.0</td>\n",
              "      <td>3.0</td>\n",
              "      <td>...</td>\n",
              "      <td>0.0</td>\n",
              "      <td>1.0</td>\n",
              "      <td>0.0</td>\n",
              "      <td>0.0</td>\n",
              "      <td>0.0</td>\n",
              "      <td>0.0</td>\n",
              "      <td>0.0</td>\n",
              "      <td>0.0</td>\n",
              "      <td>0.0</td>\n",
              "      <td>1.0</td>\n",
              "    </tr>\n",
              "    <tr>\n",
              "      <th>1</th>\n",
              "      <td>40.30467</td>\n",
              "      <td>53.845657</td>\n",
              "      <td>0.0</td>\n",
              "      <td>401.0</td>\n",
              "      <td>15.0</td>\n",
              "      <td>15.52416</td>\n",
              "      <td>32.44188</td>\n",
              "      <td>0.0</td>\n",
              "      <td>377.0</td>\n",
              "      <td>3.0</td>\n",
              "      <td>...</td>\n",
              "      <td>1.0</td>\n",
              "      <td>0.0</td>\n",
              "      <td>0.0</td>\n",
              "      <td>0.0</td>\n",
              "      <td>0.0</td>\n",
              "      <td>0.0</td>\n",
              "      <td>0.0</td>\n",
              "      <td>0.0</td>\n",
              "      <td>0.0</td>\n",
              "      <td>0.0</td>\n",
              "    </tr>\n",
              "    <tr>\n",
              "      <th>2</th>\n",
              "      <td>40.30467</td>\n",
              "      <td>53.845657</td>\n",
              "      <td>0.0</td>\n",
              "      <td>401.0</td>\n",
              "      <td>15.0</td>\n",
              "      <td>15.52416</td>\n",
              "      <td>32.44188</td>\n",
              "      <td>0.0</td>\n",
              "      <td>377.0</td>\n",
              "      <td>3.0</td>\n",
              "      <td>...</td>\n",
              "      <td>1.0</td>\n",
              "      <td>0.0</td>\n",
              "      <td>0.0</td>\n",
              "      <td>0.0</td>\n",
              "      <td>0.0</td>\n",
              "      <td>0.0</td>\n",
              "      <td>0.0</td>\n",
              "      <td>0.0</td>\n",
              "      <td>0.0</td>\n",
              "      <td>0.0</td>\n",
              "    </tr>\n",
              "    <tr>\n",
              "      <th>3</th>\n",
              "      <td>40.30467</td>\n",
              "      <td>53.845657</td>\n",
              "      <td>0.0</td>\n",
              "      <td>401.0</td>\n",
              "      <td>15.0</td>\n",
              "      <td>15.52416</td>\n",
              "      <td>32.44188</td>\n",
              "      <td>0.0</td>\n",
              "      <td>377.0</td>\n",
              "      <td>3.0</td>\n",
              "      <td>...</td>\n",
              "      <td>0.0</td>\n",
              "      <td>1.0</td>\n",
              "      <td>0.0</td>\n",
              "      <td>0.0</td>\n",
              "      <td>0.0</td>\n",
              "      <td>0.0</td>\n",
              "      <td>0.0</td>\n",
              "      <td>0.0</td>\n",
              "      <td>0.0</td>\n",
              "      <td>1.0</td>\n",
              "    </tr>\n",
              "    <tr>\n",
              "      <th>4</th>\n",
              "      <td>40.30467</td>\n",
              "      <td>53.845657</td>\n",
              "      <td>0.0</td>\n",
              "      <td>401.0</td>\n",
              "      <td>15.0</td>\n",
              "      <td>15.52416</td>\n",
              "      <td>32.44188</td>\n",
              "      <td>0.0</td>\n",
              "      <td>377.0</td>\n",
              "      <td>3.0</td>\n",
              "      <td>...</td>\n",
              "      <td>0.0</td>\n",
              "      <td>1.0</td>\n",
              "      <td>0.0</td>\n",
              "      <td>0.0</td>\n",
              "      <td>0.0</td>\n",
              "      <td>0.0</td>\n",
              "      <td>0.0</td>\n",
              "      <td>0.0</td>\n",
              "      <td>0.0</td>\n",
              "      <td>27.0</td>\n",
              "    </tr>\n",
              "  </tbody>\n",
              "</table>\n",
              "<p>5 rows × 281 columns</p>\n",
              "</div>"
            ],
            "text/plain": [
              "        0          1    2      3     4         5         6    7      8    9    \\\n",
              "0  40.30467  53.845657  0.0  401.0  15.0  15.52416  32.44188  0.0  377.0  3.0   \n",
              "1  40.30467  53.845657  0.0  401.0  15.0  15.52416  32.44188  0.0  377.0  3.0   \n",
              "2  40.30467  53.845657  0.0  401.0  15.0  15.52416  32.44188  0.0  377.0  3.0   \n",
              "3  40.30467  53.845657  0.0  401.0  15.0  15.52416  32.44188  0.0  377.0  3.0   \n",
              "4  40.30467  53.845657  0.0  401.0  15.0  15.52416  32.44188  0.0  377.0  3.0   \n",
              "\n",
              "   ...   271  272  273  274  275  276  277  278  279   280  \n",
              "0  ...   0.0  1.0  0.0  0.0  0.0  0.0  0.0  0.0  0.0   1.0  \n",
              "1  ...   1.0  0.0  0.0  0.0  0.0  0.0  0.0  0.0  0.0   0.0  \n",
              "2  ...   1.0  0.0  0.0  0.0  0.0  0.0  0.0  0.0  0.0   0.0  \n",
              "3  ...   0.0  1.0  0.0  0.0  0.0  0.0  0.0  0.0  0.0   1.0  \n",
              "4  ...   0.0  1.0  0.0  0.0  0.0  0.0  0.0  0.0  0.0  27.0  \n",
              "\n",
              "[5 rows x 281 columns]"
            ]
          },
          "metadata": {
            "tags": []
          },
          "execution_count": 54
        }
      ]
    },
    {
      "metadata": {
        "id": "MzKy8EMIsF7C",
        "colab_type": "code",
        "colab": {
          "base_uri": "https://localhost:8080/",
          "height": 34
        },
        "outputId": "fcd2b1e3-6858-45e8-b379-738b09945501"
      },
      "cell_type": "code",
      "source": [
        "(df.dtypes == 'float').sum()"
      ],
      "execution_count": 55,
      "outputs": [
        {
          "output_type": "execute_result",
          "data": {
            "text/plain": [
              "281"
            ]
          },
          "metadata": {
            "tags": []
          },
          "execution_count": 55
        }
      ]
    },
    {
      "metadata": {
        "id": "cYVdqKAasZ1Y",
        "colab_type": "code",
        "colab": {
          "base_uri": "https://localhost:8080/",
          "height": 346
        },
        "outputId": "89fe590f-88d1-43b2-e237-5ddca6e93548"
      },
      "cell_type": "code",
      "source": [
        "df.describe()"
      ],
      "execution_count": 56,
      "outputs": [
        {
          "output_type": "execute_result",
          "data": {
            "text/html": [
              "<div>\n",
              "<style scoped>\n",
              "    .dataframe tbody tr th:only-of-type {\n",
              "        vertical-align: middle;\n",
              "    }\n",
              "\n",
              "    .dataframe tbody tr th {\n",
              "        vertical-align: top;\n",
              "    }\n",
              "\n",
              "    .dataframe thead th {\n",
              "        text-align: right;\n",
              "    }\n",
              "</style>\n",
              "<table border=\"1\" class=\"dataframe\">\n",
              "  <thead>\n",
              "    <tr style=\"text-align: right;\">\n",
              "      <th></th>\n",
              "      <th>0</th>\n",
              "      <th>1</th>\n",
              "      <th>2</th>\n",
              "      <th>3</th>\n",
              "      <th>4</th>\n",
              "      <th>5</th>\n",
              "      <th>6</th>\n",
              "      <th>7</th>\n",
              "      <th>8</th>\n",
              "      <th>9</th>\n",
              "      <th>...</th>\n",
              "      <th>271</th>\n",
              "      <th>272</th>\n",
              "      <th>273</th>\n",
              "      <th>274</th>\n",
              "      <th>275</th>\n",
              "      <th>276</th>\n",
              "      <th>277</th>\n",
              "      <th>278</th>\n",
              "      <th>279</th>\n",
              "      <th>280</th>\n",
              "    </tr>\n",
              "  </thead>\n",
              "  <tbody>\n",
              "    <tr>\n",
              "      <th>count</th>\n",
              "      <td>52397.000000</td>\n",
              "      <td>52397.000000</td>\n",
              "      <td>52397.000000</td>\n",
              "      <td>52397.000000</td>\n",
              "      <td>52397.000000</td>\n",
              "      <td>52397.000000</td>\n",
              "      <td>52397.000000</td>\n",
              "      <td>52397.000000</td>\n",
              "      <td>52397.000000</td>\n",
              "      <td>52397.000000</td>\n",
              "      <td>...</td>\n",
              "      <td>52397.000000</td>\n",
              "      <td>52397.000000</td>\n",
              "      <td>52397.000000</td>\n",
              "      <td>52397.000000</td>\n",
              "      <td>52397.000000</td>\n",
              "      <td>52397.000000</td>\n",
              "      <td>52397.0</td>\n",
              "      <td>52397.000000</td>\n",
              "      <td>52397.000000</td>\n",
              "      <td>52397.000000</td>\n",
              "    </tr>\n",
              "    <tr>\n",
              "      <th>mean</th>\n",
              "      <td>39.444167</td>\n",
              "      <td>46.806717</td>\n",
              "      <td>0.358914</td>\n",
              "      <td>339.853102</td>\n",
              "      <td>24.681661</td>\n",
              "      <td>15.214611</td>\n",
              "      <td>27.959159</td>\n",
              "      <td>0.002748</td>\n",
              "      <td>258.666030</td>\n",
              "      <td>5.829151</td>\n",
              "      <td>...</td>\n",
              "      <td>0.171327</td>\n",
              "      <td>0.162242</td>\n",
              "      <td>0.154455</td>\n",
              "      <td>0.096151</td>\n",
              "      <td>0.088917</td>\n",
              "      <td>0.119167</td>\n",
              "      <td>0.0</td>\n",
              "      <td>1.242094</td>\n",
              "      <td>0.769505</td>\n",
              "      <td>6.764719</td>\n",
              "    </tr>\n",
              "    <tr>\n",
              "      <th>std</th>\n",
              "      <td>79.121821</td>\n",
              "      <td>62.359996</td>\n",
              "      <td>6.840717</td>\n",
              "      <td>441.430109</td>\n",
              "      <td>69.598976</td>\n",
              "      <td>32.251189</td>\n",
              "      <td>38.584013</td>\n",
              "      <td>0.131903</td>\n",
              "      <td>321.348052</td>\n",
              "      <td>23.768317</td>\n",
              "      <td>...</td>\n",
              "      <td>0.376798</td>\n",
              "      <td>0.368676</td>\n",
              "      <td>0.361388</td>\n",
              "      <td>0.294800</td>\n",
              "      <td>0.284627</td>\n",
              "      <td>1.438194</td>\n",
              "      <td>0.0</td>\n",
              "      <td>27.497979</td>\n",
              "      <td>20.338052</td>\n",
              "      <td>37.706565</td>\n",
              "    </tr>\n",
              "    <tr>\n",
              "      <th>min</th>\n",
              "      <td>0.000000</td>\n",
              "      <td>0.000000</td>\n",
              "      <td>0.000000</td>\n",
              "      <td>0.000000</td>\n",
              "      <td>0.000000</td>\n",
              "      <td>0.000000</td>\n",
              "      <td>0.000000</td>\n",
              "      <td>0.000000</td>\n",
              "      <td>0.000000</td>\n",
              "      <td>0.000000</td>\n",
              "      <td>...</td>\n",
              "      <td>0.000000</td>\n",
              "      <td>0.000000</td>\n",
              "      <td>0.000000</td>\n",
              "      <td>0.000000</td>\n",
              "      <td>0.000000</td>\n",
              "      <td>0.000000</td>\n",
              "      <td>0.0</td>\n",
              "      <td>0.000000</td>\n",
              "      <td>0.000000</td>\n",
              "      <td>0.000000</td>\n",
              "    </tr>\n",
              "    <tr>\n",
              "      <th>25%</th>\n",
              "      <td>2.285714</td>\n",
              "      <td>5.214318</td>\n",
              "      <td>0.000000</td>\n",
              "      <td>29.000000</td>\n",
              "      <td>0.000000</td>\n",
              "      <td>0.891566</td>\n",
              "      <td>3.075076</td>\n",
              "      <td>0.000000</td>\n",
              "      <td>22.000000</td>\n",
              "      <td>0.000000</td>\n",
              "      <td>...</td>\n",
              "      <td>0.000000</td>\n",
              "      <td>0.000000</td>\n",
              "      <td>0.000000</td>\n",
              "      <td>0.000000</td>\n",
              "      <td>0.000000</td>\n",
              "      <td>0.000000</td>\n",
              "      <td>0.0</td>\n",
              "      <td>0.000000</td>\n",
              "      <td>0.000000</td>\n",
              "      <td>0.000000</td>\n",
              "    </tr>\n",
              "    <tr>\n",
              "      <th>50%</th>\n",
              "      <td>10.630660</td>\n",
              "      <td>19.353120</td>\n",
              "      <td>0.000000</td>\n",
              "      <td>162.000000</td>\n",
              "      <td>4.000000</td>\n",
              "      <td>4.150685</td>\n",
              "      <td>11.051215</td>\n",
              "      <td>0.000000</td>\n",
              "      <td>121.000000</td>\n",
              "      <td>1.000000</td>\n",
              "      <td>...</td>\n",
              "      <td>0.000000</td>\n",
              "      <td>0.000000</td>\n",
              "      <td>0.000000</td>\n",
              "      <td>0.000000</td>\n",
              "      <td>0.000000</td>\n",
              "      <td>0.000000</td>\n",
              "      <td>0.0</td>\n",
              "      <td>0.000000</td>\n",
              "      <td>0.000000</td>\n",
              "      <td>0.000000</td>\n",
              "    </tr>\n",
              "    <tr>\n",
              "      <th>75%</th>\n",
              "      <td>40.304670</td>\n",
              "      <td>77.442830</td>\n",
              "      <td>0.000000</td>\n",
              "      <td>478.000000</td>\n",
              "      <td>15.000000</td>\n",
              "      <td>15.998589</td>\n",
              "      <td>45.701206</td>\n",
              "      <td>0.000000</td>\n",
              "      <td>387.000000</td>\n",
              "      <td>2.000000</td>\n",
              "      <td>...</td>\n",
              "      <td>0.000000</td>\n",
              "      <td>0.000000</td>\n",
              "      <td>0.000000</td>\n",
              "      <td>0.000000</td>\n",
              "      <td>0.000000</td>\n",
              "      <td>0.000000</td>\n",
              "      <td>0.0</td>\n",
              "      <td>0.000000</td>\n",
              "      <td>0.000000</td>\n",
              "      <td>1.000000</td>\n",
              "    </tr>\n",
              "    <tr>\n",
              "      <th>max</th>\n",
              "      <td>1122.666600</td>\n",
              "      <td>559.432600</td>\n",
              "      <td>726.000000</td>\n",
              "      <td>2044.000000</td>\n",
              "      <td>1314.000000</td>\n",
              "      <td>442.666660</td>\n",
              "      <td>359.530060</td>\n",
              "      <td>14.000000</td>\n",
              "      <td>1424.000000</td>\n",
              "      <td>588.000000</td>\n",
              "      <td>...</td>\n",
              "      <td>1.000000</td>\n",
              "      <td>1.000000</td>\n",
              "      <td>1.000000</td>\n",
              "      <td>1.000000</td>\n",
              "      <td>1.000000</td>\n",
              "      <td>136.000000</td>\n",
              "      <td>0.0</td>\n",
              "      <td>1778.000000</td>\n",
              "      <td>1778.000000</td>\n",
              "      <td>1424.000000</td>\n",
              "    </tr>\n",
              "  </tbody>\n",
              "</table>\n",
              "<p>8 rows × 281 columns</p>\n",
              "</div>"
            ],
            "text/plain": [
              "                0             1             2             3             4    \\\n",
              "count  52397.000000  52397.000000  52397.000000  52397.000000  52397.000000   \n",
              "mean      39.444167     46.806717      0.358914    339.853102     24.681661   \n",
              "std       79.121821     62.359996      6.840717    441.430109     69.598976   \n",
              "min        0.000000      0.000000      0.000000      0.000000      0.000000   \n",
              "25%        2.285714      5.214318      0.000000     29.000000      0.000000   \n",
              "50%       10.630660     19.353120      0.000000    162.000000      4.000000   \n",
              "75%       40.304670     77.442830      0.000000    478.000000     15.000000   \n",
              "max     1122.666600    559.432600    726.000000   2044.000000   1314.000000   \n",
              "\n",
              "                5             6             7             8             9    \\\n",
              "count  52397.000000  52397.000000  52397.000000  52397.000000  52397.000000   \n",
              "mean      15.214611     27.959159      0.002748    258.666030      5.829151   \n",
              "std       32.251189     38.584013      0.131903    321.348052     23.768317   \n",
              "min        0.000000      0.000000      0.000000      0.000000      0.000000   \n",
              "25%        0.891566      3.075076      0.000000     22.000000      0.000000   \n",
              "50%        4.150685     11.051215      0.000000    121.000000      1.000000   \n",
              "75%       15.998589     45.701206      0.000000    387.000000      2.000000   \n",
              "max      442.666660    359.530060     14.000000   1424.000000    588.000000   \n",
              "\n",
              "           ...                271           272           273           274  \\\n",
              "count      ...       52397.000000  52397.000000  52397.000000  52397.000000   \n",
              "mean       ...           0.171327      0.162242      0.154455      0.096151   \n",
              "std        ...           0.376798      0.368676      0.361388      0.294800   \n",
              "min        ...           0.000000      0.000000      0.000000      0.000000   \n",
              "25%        ...           0.000000      0.000000      0.000000      0.000000   \n",
              "50%        ...           0.000000      0.000000      0.000000      0.000000   \n",
              "75%        ...           0.000000      0.000000      0.000000      0.000000   \n",
              "max        ...           1.000000      1.000000      1.000000      1.000000   \n",
              "\n",
              "                275           276      277           278           279  \\\n",
              "count  52397.000000  52397.000000  52397.0  52397.000000  52397.000000   \n",
              "mean       0.088917      0.119167      0.0      1.242094      0.769505   \n",
              "std        0.284627      1.438194      0.0     27.497979     20.338052   \n",
              "min        0.000000      0.000000      0.0      0.000000      0.000000   \n",
              "25%        0.000000      0.000000      0.0      0.000000      0.000000   \n",
              "50%        0.000000      0.000000      0.0      0.000000      0.000000   \n",
              "75%        0.000000      0.000000      0.0      0.000000      0.000000   \n",
              "max        1.000000    136.000000      0.0   1778.000000   1778.000000   \n",
              "\n",
              "                280  \n",
              "count  52397.000000  \n",
              "mean       6.764719  \n",
              "std       37.706565  \n",
              "min        0.000000  \n",
              "25%        0.000000  \n",
              "50%        0.000000  \n",
              "75%        1.000000  \n",
              "max     1424.000000  \n",
              "\n",
              "[8 rows x 281 columns]"
            ]
          },
          "metadata": {
            "tags": []
          },
          "execution_count": 56
        }
      ]
    },
    {
      "metadata": {
        "id": "7jpEz8cQWXTe",
        "colab_type": "code",
        "colab": {
          "base_uri": "https://localhost:8080/",
          "height": 34
        },
        "outputId": "0ec75b04-13b6-4937-ceb3-67e31798e76f"
      },
      "cell_type": "code",
      "source": [
        "# Base model\n",
        "X = df.drop(280, axis=1)\n",
        "y = df[280]\n",
        "lin_reg = LinearRegression().fit(X, y)\n",
        "lin_reg.score(X, y)"
      ],
      "execution_count": 84,
      "outputs": [
        {
          "output_type": "execute_result",
          "data": {
            "text/plain": [
              "0.36476030152844696"
            ]
          },
          "metadata": {
            "tags": []
          },
          "execution_count": 84
        }
      ]
    },
    {
      "metadata": {
        "id": "HNCaX4kfxlJc",
        "colab_type": "code",
        "colab": {}
      },
      "cell_type": "code",
      "source": [
        "# Lets standardize\n",
        "scaler = StandardScaler()\n",
        "df_scaled = scaler.fit_transform(df)"
      ],
      "execution_count": 0,
      "outputs": []
    },
    {
      "metadata": {
        "id": "wQaWgP1IgG_c",
        "colab_type": "code",
        "colab": {
          "base_uri": "https://localhost:8080/",
          "height": 68
        },
        "outputId": "ca776f90-7d69-4b0f-a2c7-bb5f7b7da7f7"
      },
      "cell_type": "code",
      "source": [
        "# Do we have overfitting when fitting on test data\n",
        "# and generalizing on train data?\n",
        "X = df.drop(280, axis=1)\n",
        "y = df[280]\n",
        "\n",
        "X_train, X_test, y_train, y_test = train_test_split(X, y, random_state=42)\n",
        "lin_reg = LinearRegression().fit(X_train, y_train)\n",
        "print('Training MSE:',mean_squared_error(y, lin_reg.predict(X)))\n",
        "print('Testing MSE:',mean_squared_error(y_test, lin_reg.predict(X_test)))\n",
        "print('R^2 overall:', lin_reg.score(X_train, y_train))"
      ],
      "execution_count": 109,
      "outputs": [
        {
          "output_type": "stream",
          "text": [
            "Training MSE: 906.3942847230611\n",
            "Testing MSE: 1011.5866434457496\n",
            "R^2 overall: 0.37568622854933903\n"
          ],
          "name": "stdout"
        }
      ]
    },
    {
      "metadata": {
        "id": "k6yaTSxfhhU1",
        "colab_type": "text"
      },
      "cell_type": "markdown",
      "source": [
        "Looks like we do have some overfitting since training accuracy is worse than testing accuracy."
      ]
    },
    {
      "metadata": {
        "id": "zx2zF-vMizMR",
        "colab_type": "code",
        "colab": {
          "base_uri": "https://localhost:8080/",
          "height": 68
        },
        "outputId": "34828d2f-8c51-4669-c8e1-4364f090c4bf"
      },
      "cell_type": "code",
      "source": [
        "# Let's regularize via ridge regression\n",
        "\n",
        "ridge_reg = Ridge(alpha=100).fit(X_train, y_train)\n",
        "print('Training MSE:',mean_squared_error(y, ridge_reg.predict(X)))\n",
        "print('Testing MSE:',mean_squared_error(y_test, ridge_reg.predict(X_test)))\n",
        "print('R^2 overall:', ridge_reg.score(X_train, y_train))"
      ],
      "execution_count": 123,
      "outputs": [
        {
          "output_type": "stream",
          "text": [
            "Training MSE: 907.1324920327463\n",
            "Testing MSE: 1010.1557389865352\n",
            "R^2 overall: 0.374639194478795\n"
          ],
          "name": "stdout"
        }
      ]
    },
    {
      "metadata": {
        "id": "raTbH4lmlEoo",
        "colab_type": "text"
      },
      "cell_type": "markdown",
      "source": [
        "Not much different from linear regression, let's tune some hyperparams, particularly regularization strength."
      ]
    },
    {
      "metadata": {
        "id": "J0qKw5fTlLJG",
        "colab_type": "code",
        "colab": {}
      },
      "cell_type": "code",
      "source": [
        "alphas = []\n",
        "mses = []\n",
        "\n",
        "for alpha in range(1, 500, 1):\n",
        "  ridge_reg = Ridge(alpha=alpha).fit(X_train, y_train)\n",
        "  mse = mean_squared_error(y_test, ridge_reg.predict(X_test))\n",
        "  alphas.append(alpha)\n",
        "  mses.append(mse)"
      ],
      "execution_count": 0,
      "outputs": []
    },
    {
      "metadata": {
        "id": "CtMltY96qnAi",
        "colab_type": "code",
        "colab": {
          "base_uri": "https://localhost:8080/",
          "height": 346
        },
        "outputId": "25bfa0b2-cbc6-4949-debb-a465201a515f"
      },
      "cell_type": "code",
      "source": [
        "# Let's find the optimal regularization strength\n",
        "plt.scatter(alphas, mses);"
      ],
      "execution_count": 91,
      "outputs": [
        {
          "output_type": "display_data",
          "data": {
            "image/png": "[encoded data removed]",
            "text/plain": [
              "<Figure size 576x396 with 1 Axes>"
            ]
          },
          "metadata": {
            "tags": [],
            "image/png": {
              "width": 503,
              "height": 329
            }
          }
        }
      ]
    },
    {
      "metadata": {
        "id": "EYh8HouZIbNR",
        "colab_type": "text"
      },
      "cell_type": "markdown",
      "source": [
        "There doesn't seem to be an optimal regularization strength, it keeps going down indefinitely after 50."
      ]
    },
    {
      "metadata": {
        "id": "IDZKouddqmWL",
        "colab_type": "code",
        "colab": {
          "base_uri": "https://localhost:8080/",
          "height": 68
        },
        "outputId": "d6c52792-cd12-49ec-f274-f3adb9c53809"
      },
      "cell_type": "code",
      "source": [
        "# Does sampling to smaller sample size make ridge regression more important?\n",
        "df_s = df.sample(5000)\n",
        "X = df_s.drop(280, axis=1)\n",
        "y = df_s[280]\n",
        "\n",
        "ridge_reg = Ridge().fit(X_train, y_train)\n",
        "\n",
        "print('Training MSE:',mean_squared_error(y, ridge_reg.predict(X)))\n",
        "print('Testing MSE:',mean_squared_error(y_test, ridge_reg.predict(X_test)))\n",
        "print('R^2 overall:', ridge_reg.score(X_train, y_train))"
      ],
      "execution_count": 106,
      "outputs": [
        {
          "output_type": "stream",
          "text": [
            "Training MSE: 1020.354213671757\n",
            "Testing MSE: 1011.4711887177356\n",
            "R^2 overall: 0.37564813938929986\n"
          ],
          "name": "stdout"
        }
      ]
    },
    {
      "metadata": {
        "id": "6S7we49ugzOm",
        "colab_type": "text"
      },
      "cell_type": "markdown",
      "source": [
        "If we downsample the data, the MSE indicates underfitting."
      ]
    },
    {
      "metadata": {
        "id": "Onsn4B2tJ20X",
        "colab_type": "text"
      },
      "cell_type": "markdown",
      "source": [
        "# Resources and stretch goals"
      ]
    },
    {
      "metadata": {
        "id": "o_ZIP6O0J435",
        "colab_type": "text"
      },
      "cell_type": "markdown",
      "source": [
        "Resources:\n",
        "- https://www.quora.com/What-is-regularization-in-machine-learning\n",
        "- https://blogs.sas.com/content/subconsciousmusings/2017/07/06/how-to-use-regularization-to-prevent-model-overfitting/\n",
        "- https://machinelearningmastery.com/introduction-to-regularization-to-reduce-overfitting-and-improve-generalization-error/\n",
        "- https://towardsdatascience.com/ridge-and-lasso-regression-a-complete-guide-with-python-scikit-learn-e20e34bcbf0b\n",
        "- https://stats.stackexchange.com/questions/111017/question-about-standardizing-in-ridge-regression#111022\n",
        "\n",
        "Stretch goals:\n",
        "- Revisit past data you've fit OLS models to, and see if there's an `alpha` such that ridge regression results in a model with lower MSE on a train/test split\n",
        "- Yes, Ridge can be applied to classification! Check out [sklearn.linear_model.RidgeClassifier](https://scikit-learn.org/stable/modules/generated/sklearn.linear_model.RidgeClassifier.html#sklearn.linear_model.RidgeClassifier), and try it on a problem you previous approached with a different classifier (note - scikit LogisticRegression also automatically penalizes based on the $L^2$ norm, so the difference won't be as dramatic)\n",
        "- Implement your own function to calculate the full cost that ridge regression is optimizing (the sum of squared residuals + `alpha` times the sum of squared coefficients) - this alone won't fit a model, but you can use it to verify cost of trained models and that the coefficients from the equivalent OLS (without regularization) may have a higher cost"
      ]
    }
  ]
}