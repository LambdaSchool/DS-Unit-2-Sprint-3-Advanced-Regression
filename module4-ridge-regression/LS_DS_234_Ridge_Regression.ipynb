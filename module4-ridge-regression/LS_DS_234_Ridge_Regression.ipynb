{
 "cells": [
  {
   "cell_type": "markdown",
   "metadata": {
    "colab_type": "text",
    "id": "-eFju4_DDKeX"
   },
   "source": [
    "# Lambda School Data Science - Ridge Regression\n",
    "\n",
    "Regularize your way to a better tomorrow."
   ]
  },
  {
   "cell_type": "markdown",
   "metadata": {
    "colab_type": "text",
    "id": "5v5cBm19JxOj"
   },
   "source": [
    "# Lecture\n",
    "\n",
    "Data science depends on math, and math is generally focused on situations where:\n",
    "\n",
    "1. a solution exists,\n",
    "2. the solution is unique,\n",
    "3. the solution's behavior changes continuously with the initial conditions.\n",
    "\n",
    "These are known as [well-posed problems](https://en.wikipedia.org/wiki/Well-posed_problem), and are the sorts of assumptions so core in traditional techniques that it is easy to forget about them. But they do matter, as there can be exceptions:\n",
    "\n",
    "1. no solution - e.g. no $x$ such that $Ax = b$\n",
    "2. multiple solutions - e.g. several $x_1, x_2, ...$ such that $Ax = b$\n",
    "3. \"chaotic\" systems - situations where small changes in initial conditions interact and reverberate in essentially unpredictable ways - for instance, the difficulty in longterm predictions of weather (N.B. not the same thing as longterm predictions of *climate*) - you can think of this as models that fail to generalize well, because they overfit on the training data (the initial conditions)\n",
    "\n",
    "Problems suffering from the above are called ill-posed problems. Relating to linear algebra and systems of equations, the only truly well-posed problems are those with a single unique solution.\n",
    "\n",
    "![Intersecting lines](https://upload.wikimedia.org/wikipedia/commons/c/c0/Intersecting_Lines.svg)\n",
    "\n",
    "Think for a moment - what would the above plot look like if there was no solution? If there were multiple solutions? And how would that generalize to higher dimensions?\n",
    "\n",
    "A lot of what you covered with linear regression was about getting matrices into the right shape for them to be solvable in this sense. But some matrices just won't submit to this, and other problems may technically \"fit\" linear regression but still be violating the above assumptions in subtle ways.\n",
    "\n",
    "[Overfitting](https://en.wikipedia.org/wiki/Overfitting) is in some ways a special case of this - an overfit model uses more features/parameters than is \"justified\" by the data (essentially by the *dimensionality* of the data, as measured by $n$ the number of observations). As the number of features approaches the number of observations, linear regression still \"works\", but it starts giving fairly perverse results. In particular, it results in a model that fails to *generalize* - and so the core goal of prediction and explanatory power is undermined.\n",
    "\n",
    "How is this related to well and ill-posed problems? It's not clearly a no solution or multiple solution case, but it does fall in the third category - overfitting results in fitting to the \"noise\" in the data, which means the particulars of one random sample or another (different initial conditions )will result in dramatically different models.\n",
    "\n",
    "## Stop and think - what are ways to address these issues?\n",
    "\n",
    "Let's examine in the context of housing data."
   ]
  },
  {
   "cell_type": "code",
   "execution_count": 272,
   "metadata": {
    "colab": {
     "base_uri": "https://localhost:8080/",
     "height": 206
    },
    "colab_type": "code",
    "id": "TDh_Oz9HDHeR",
    "outputId": "f3e4d42e-57c0-432b-c369-95522bc37dd3"
   },
   "outputs": [
    {
     "data": {
      "text/html": [
       "<div>\n",
       "<style scoped>\n",
       "    .dataframe tbody tr th:only-of-type {\n",
       "        vertical-align: middle;\n",
       "    }\n",
       "\n",
       "    .dataframe tbody tr th {\n",
       "        vertical-align: top;\n",
       "    }\n",
       "\n",
       "    .dataframe thead th {\n",
       "        text-align: right;\n",
       "    }\n",
       "</style>\n",
       "<table border=\"1\" class=\"dataframe\">\n",
       "  <thead>\n",
       "    <tr style=\"text-align: right;\">\n",
       "      <th></th>\n",
       "      <th>CRIM</th>\n",
       "      <th>ZN</th>\n",
       "      <th>INDUS</th>\n",
       "      <th>CHAS</th>\n",
       "      <th>NOX</th>\n",
       "      <th>RM</th>\n",
       "      <th>AGE</th>\n",
       "      <th>DIS</th>\n",
       "      <th>RAD</th>\n",
       "      <th>TAX</th>\n",
       "      <th>PTRATIO</th>\n",
       "      <th>B</th>\n",
       "      <th>LSTAT</th>\n",
       "      <th>Price</th>\n",
       "    </tr>\n",
       "  </thead>\n",
       "  <tbody>\n",
       "    <tr>\n",
       "      <th>0</th>\n",
       "      <td>-0.419782</td>\n",
       "      <td>0.284830</td>\n",
       "      <td>-1.287909</td>\n",
       "      <td>-0.272599</td>\n",
       "      <td>-0.144217</td>\n",
       "      <td>0.413672</td>\n",
       "      <td>-0.120013</td>\n",
       "      <td>0.140214</td>\n",
       "      <td>-0.982843</td>\n",
       "      <td>-0.666608</td>\n",
       "      <td>-1.459000</td>\n",
       "      <td>0.441052</td>\n",
       "      <td>-1.075562</td>\n",
       "      <td>24.0</td>\n",
       "    </tr>\n",
       "    <tr>\n",
       "      <th>1</th>\n",
       "      <td>-0.417339</td>\n",
       "      <td>-0.487722</td>\n",
       "      <td>-0.593381</td>\n",
       "      <td>-0.272599</td>\n",
       "      <td>-0.740262</td>\n",
       "      <td>0.194274</td>\n",
       "      <td>0.367166</td>\n",
       "      <td>0.557160</td>\n",
       "      <td>-0.867883</td>\n",
       "      <td>-0.987329</td>\n",
       "      <td>-0.303094</td>\n",
       "      <td>0.441052</td>\n",
       "      <td>-0.492439</td>\n",
       "      <td>21.6</td>\n",
       "    </tr>\n",
       "    <tr>\n",
       "      <th>2</th>\n",
       "      <td>-0.417342</td>\n",
       "      <td>-0.487722</td>\n",
       "      <td>-0.593381</td>\n",
       "      <td>-0.272599</td>\n",
       "      <td>-0.740262</td>\n",
       "      <td>1.282714</td>\n",
       "      <td>-0.265812</td>\n",
       "      <td>0.557160</td>\n",
       "      <td>-0.867883</td>\n",
       "      <td>-0.987329</td>\n",
       "      <td>-0.303094</td>\n",
       "      <td>0.396427</td>\n",
       "      <td>-1.208727</td>\n",
       "      <td>34.7</td>\n",
       "    </tr>\n",
       "    <tr>\n",
       "      <th>3</th>\n",
       "      <td>-0.416750</td>\n",
       "      <td>-0.487722</td>\n",
       "      <td>-1.306878</td>\n",
       "      <td>-0.272599</td>\n",
       "      <td>-0.835284</td>\n",
       "      <td>1.016303</td>\n",
       "      <td>-0.809889</td>\n",
       "      <td>1.077737</td>\n",
       "      <td>-0.752922</td>\n",
       "      <td>-1.106115</td>\n",
       "      <td>0.113032</td>\n",
       "      <td>0.416163</td>\n",
       "      <td>-1.361517</td>\n",
       "      <td>33.4</td>\n",
       "    </tr>\n",
       "    <tr>\n",
       "      <th>4</th>\n",
       "      <td>-0.412482</td>\n",
       "      <td>-0.487722</td>\n",
       "      <td>-1.306878</td>\n",
       "      <td>-0.272599</td>\n",
       "      <td>-0.835284</td>\n",
       "      <td>1.228577</td>\n",
       "      <td>-0.511180</td>\n",
       "      <td>1.077737</td>\n",
       "      <td>-0.752922</td>\n",
       "      <td>-1.106115</td>\n",
       "      <td>0.113032</td>\n",
       "      <td>0.441052</td>\n",
       "      <td>-1.026501</td>\n",
       "      <td>36.2</td>\n",
       "    </tr>\n",
       "  </tbody>\n",
       "</table>\n",
       "</div>"
      ],
      "text/plain": [
       "       CRIM        ZN     INDUS      CHAS       NOX        RM       AGE  \\\n",
       "0 -0.419782  0.284830 -1.287909 -0.272599 -0.144217  0.413672 -0.120013   \n",
       "1 -0.417339 -0.487722 -0.593381 -0.272599 -0.740262  0.194274  0.367166   \n",
       "2 -0.417342 -0.487722 -0.593381 -0.272599 -0.740262  1.282714 -0.265812   \n",
       "3 -0.416750 -0.487722 -1.306878 -0.272599 -0.835284  1.016303 -0.809889   \n",
       "4 -0.412482 -0.487722 -1.306878 -0.272599 -0.835284  1.228577 -0.511180   \n",
       "\n",
       "        DIS       RAD       TAX   PTRATIO         B     LSTAT  Price  \n",
       "0  0.140214 -0.982843 -0.666608 -1.459000  0.441052 -1.075562   24.0  \n",
       "1  0.557160 -0.867883 -0.987329 -0.303094  0.441052 -0.492439   21.6  \n",
       "2  0.557160 -0.867883 -0.987329 -0.303094  0.396427 -1.208727   34.7  \n",
       "3  1.077737 -0.752922 -1.106115  0.113032  0.416163 -1.361517   33.4  \n",
       "4  1.077737 -0.752922 -1.106115  0.113032  0.441052 -1.026501   36.2  "
      ]
     },
     "execution_count": 272,
     "metadata": {},
     "output_type": "execute_result"
    }
   ],
   "source": [
    "import pandas as pd\n",
    "from sklearn.datasets import load_boston\n",
    "from sklearn.preprocessing import scale\n",
    "\n",
    "boston = load_boston()\n",
    "boston.data = scale(boston.data)  # Very helpful for regularization!\n",
    "df = pd.DataFrame(boston.data, columns=boston.feature_names)\n",
    "df['Price'] = boston.target\n",
    "df.head()"
   ]
  },
  {
   "cell_type": "code",
   "execution_count": 273,
   "metadata": {
    "colab": {
     "base_uri": "https://localhost:8080/",
     "height": 34
    },
    "colab_type": "code",
    "id": "3u24Yr-SkIhb",
    "outputId": "3cc8f97f-96d0-4b08-ced9-e29d1c740a22"
   },
   "outputs": [
    {
     "data": {
      "text/plain": [
       "(506, 14)"
      ]
     },
     "execution_count": 273,
     "metadata": {},
     "output_type": "execute_result"
    }
   ],
   "source": [
    "df.shape"
   ]
  },
  {
   "cell_type": "code",
   "execution_count": 274,
   "metadata": {
    "colab": {
     "base_uri": "https://localhost:8080/",
     "height": 34
    },
    "colab_type": "code",
    "id": "0vlZShpFkll2",
    "outputId": "aeeeee4c-8dfc-4b63-e73a-98863358bdbb"
   },
   "outputs": [
    {
     "data": {
      "text/plain": [
       "21.894831181729206"
      ]
     },
     "execution_count": 274,
     "metadata": {},
     "output_type": "execute_result"
    }
   ],
   "source": [
    "# Let's try good old least squares!\n",
    "from sklearn.linear_model import LinearRegression\n",
    "from sklearn.metrics import mean_squared_error\n",
    "import numpy as np\n",
    "\n",
    "X = df.drop('Price', axis='columns')\n",
    "y = df.Price\n",
    "\n",
    "lin_reg = LinearRegression().fit(X, y)\n",
    "mean_squared_error(y, lin_reg.predict(X))"
   ]
  },
  {
   "cell_type": "markdown",
   "metadata": {
    "colab_type": "text",
    "id": "erOFuJKWlTad"
   },
   "source": [
    "That seems like a pretty good score, but...\n",
    "\n",
    "![Kitchen Sink](https://i.imgur.com/ZZxqhT1.jpg)\n",
    "\n",
    "Chances are this doesn't generalize very well. You can verify this by splitting the data to properly test model validity."
   ]
  },
  {
   "cell_type": "code",
   "execution_count": 275,
   "metadata": {
    "colab": {
     "base_uri": "https://localhost:8080/",
     "height": 52
    },
    "colab_type": "code",
    "id": "CG6DZ1UcqbEx",
    "outputId": "04af7cd1-5847-4531-b105-32a0cf449dd7"
   },
   "outputs": [
    {
     "name": "stdout",
     "output_type": "stream",
     "text": [
      "22.347018673376052\n",
      "26.273991426429014\n"
     ]
    }
   ],
   "source": [
    "from sklearn.model_selection import train_test_split\n",
    "\n",
    "X_train, X_test, y_train, y_test = train_test_split(X, y, random_state=43)\n",
    "lin_reg_split = LinearRegression().fit(X_train, y_train)\n",
    "print(mean_squared_error(y, lin_reg_split.predict(X)))\n",
    "print(mean_squared_error(y_test, lin_reg_split.predict(X_test)))"
   ]
  },
  {
   "cell_type": "markdown",
   "metadata": {
    "colab_type": "text",
    "id": "ILHGe53Iqehg"
   },
   "source": [
    "Oops! 💥\n",
    "\n",
    "### What can we do?\n",
    "\n",
    "- Use fewer features - sure, but it can be a lot of work to figure out *which* features, and (in cases like this) there may not be any good reason to really favor some features over another.\n",
    "- Get more data! This is actually a pretty good approach in tech, since apps generate lots of data all the time (and we made this situation by artificially constraining our data). But for case studies, existing data, etc. it won't work.\n",
    "- **Regularize!**\n",
    "\n",
    "## Regularization just means \"add bias\"\n",
    "\n",
    "OK, there's a bit more to it than that. But that's the core intuition - the problem is the model working \"too well\", so fix it by making it harder for the model!\n",
    "\n",
    "It may sound strange - a technique that is purposefully \"worse\" - but in certain situations, it can really get results.\n",
    "\n",
    "What's bias? In the context of statistics and machine learning, bias is when a predictive model fails to identify relationships between features and the output. In a word, bias is *underfitting*.\n",
    "\n",
    "We want to add bias to the model because of the [bias-variance tradeoff](https://en.wikipedia.org/wiki/Bias%E2%80%93variance_tradeoff) - variance is the sensitivity of a model to the random noise in its training data (i.e. *overfitting*), and bias and variance are naturally (inversely) related. Increasing one will always decrease the other, with regards to the overall generalization error (predictive accuracy on unseen data).\n",
    "\n",
    "Visually, the result looks like this:\n",
    "\n",
    "![Regularization example plot](https://upload.wikimedia.org/wikipedia/commons/0/02/Regularization.svg)\n",
    "\n",
    "The blue line is overfit, using more dimensions than are needed to explain the data and so much of the movement is based on noise and won't generalize well. The green line still fits the data, but is less susceptible to the noise - depending on how exactly we parameterize \"noise\" we may throw out actual correlation, but if we balance it right we keep that signal and greatly improve generalizability.\n",
    "\n",
    "### Look carefully at the above plot and think of ways you can quantify the difference between the blue and green lines...\n"
   ]
  },
  {
   "cell_type": "code",
   "execution_count": 276,
   "metadata": {
    "colab": {
     "base_uri": "https://localhost:8080/",
     "height": 34
    },
    "colab_type": "code",
    "id": "7aQlX9e9lQLr",
    "outputId": "d5cef801-efec-4c36-fe27-c4b3f02a6750"
   },
   "outputs": [
    {
     "data": {
      "text/plain": [
       "21.895862166800143"
      ]
     },
     "execution_count": 276,
     "metadata": {},
     "output_type": "execute_result"
    }
   ],
   "source": [
    "# Now with regularization via ridge regression\n",
    "from sklearn.linear_model import Ridge\n",
    "\n",
    "ridge_reg = Ridge().fit(X, y)\n",
    "mean_squared_error(y, ridge_reg.predict(X))"
   ]
  },
  {
   "cell_type": "code",
   "execution_count": 277,
   "metadata": {
    "colab": {
     "base_uri": "https://localhost:8080/",
     "height": 34
    },
    "colab_type": "code",
    "id": "qiMXYAWGomcB",
    "outputId": "5a583ecf-c93f-40f2-8502-41d9e561ba32"
   },
   "outputs": [
    {
     "data": {
      "text/plain": [
       "26.192201358877668"
      ]
     },
     "execution_count": 277,
     "metadata": {},
     "output_type": "execute_result"
    }
   ],
   "source": [
    "# The score is a bit worse than OLS - but that's expected (we're adding bias)\n",
    "# Let's try split\n",
    "\n",
    "ridge_reg_split = Ridge().fit(X_train, y_train)\n",
    "mean_squared_error(y_test, ridge_reg_split.predict(X_test))"
   ]
  },
  {
   "cell_type": "code",
   "execution_count": 278,
   "metadata": {
    "colab": {
     "base_uri": "https://localhost:8080/",
     "height": 4674
    },
    "colab_type": "code",
    "id": "PJhjFFeF2uoA",
    "outputId": "6289580e-aed7-4839-c3e6-2c643574e2ea"
   },
   "outputs": [],
   "source": [
    "# A little better (to same test split w/OLS) - can we improve it further?\n",
    "# We just went with defaults, but as always there's plenty of parameters\n",
    "# help(Ridge)"
   ]
  },
  {
   "cell_type": "markdown",
   "metadata": {
    "colab_type": "text",
    "id": "F4eY9TKw4S4F"
   },
   "source": [
    "How to tune alpha? For now, let's loop and try values.\n",
    "\n",
    "(For longterm/stretch/next week, check out [cross-validation](https://scikit-learn.org/stable/modules/generated/sklearn.linear_model.RidgeCV.html#sklearn.linear_model.RidgeCV).)"
   ]
  },
  {
   "cell_type": "code",
   "execution_count": 279,
   "metadata": {
    "colab": {
     "base_uri": "https://localhost:8080/",
     "height": 3490
    },
    "colab_type": "code",
    "id": "DISx148Z4Sqi",
    "outputId": "6df5438d-e168-4714-82c4-ae4688bfdd23"
   },
   "outputs": [
    {
     "name": "stdout",
     "output_type": "stream",
     "text": [
      "0 26.273991426429053\n",
      "1 26.192201358877668\n",
      "2 26.118328007697226\n",
      "3 26.051117952293595\n",
      "4 25.989569283205444\n",
      "5 25.93287356811407\n",
      "6 25.880372753122625\n",
      "7 25.831526788692837\n",
      "8 25.785889053385123\n",
      "9 25.743087513207442\n",
      "10 25.702810145277628\n",
      "11 25.66479356379559\n",
      "12 25.628814073392263\n",
      "13 25.59468057863174\n",
      "14 25.56222892458644\n",
      "15 25.53131734932431\n",
      "16 25.50182280665663\n",
      "17 25.473637974726547\n",
      "18 25.44666880864133\n",
      "19 25.420832527348388\n",
      "20 25.396055949160893\n",
      "21 25.372274108781504\n",
      "22 25.349429102822004\n",
      "23 25.327469121742823\n",
      "24 25.30634763462536\n",
      "25 25.286022699825878\n",
      "26 25.266456379775086\n",
      "27 25.24761424230921\n",
      "28 25.229464934192976\n",
      "29 25.211979815108453\n",
      "30 25.19513264248022\n",
      "31 25.178899299197408\n",
      "32 25.163257557659424\n",
      "33 25.14818687468406\n",
      "34 25.13366821272317\n",
      "35 25.11968388357409\n",
      "36 25.106217411385522\n",
      "37 25.093253412260974\n",
      "38 25.080777488180427\n",
      "39 25.068776133307583\n",
      "40 25.057236651039766\n",
      "41 25.046147080399017\n",
      "42 25.035496130566347\n",
      "43 25.02527312253186\n",
      "44 25.015467936977434\n",
      "45 25.006070967630855\n",
      "46 24.997073079433843\n",
      "47 24.98846557095439\n",
      "48 24.980240140548986\n",
      "49 24.972388855844812\n",
      "50 24.96490412616673\n",
      "51 24.95777867758141\n",
      "52 24.951005530271846\n",
      "53 24.944577977990345\n",
      "54 24.9384895693689\n",
      "55 24.9327340908919\n",
      "56 24.92730555135946\n",
      "57 24.92219816768905\n",
      "58 24.917406351921144\n",
      "59 24.912924699309215\n",
      "60 24.9087479773882\n",
      "61 24.904871115926827\n",
      "62 24.901289197679855\n",
      "63 24.897997449864803\n",
      "64 24.8949912362963\n",
      "65 24.892266050117623\n",
      "66 24.889817507075655\n",
      "67 24.88764133929069\n",
      "68 24.885733389477625\n",
      "69 24.88408960557926\n",
      "70 24.882706035776263\n",
      "71 24.88157882384208\n",
      "72 24.880704204813682\n",
      "73 24.880078500952195\n",
      "74 24.879698117969724\n",
      "75 24.879559541500758\n",
      "76 24.87965933379892\n",
      "77 24.879994130641087\n",
      "78 24.8805606384229\n",
      "79 24.881355631430836\n",
      "80 24.882375949277577\n",
      "81 24.88361849448833\n",
      "82 24.88508023022692\n",
      "83 24.886758178151386\n",
      "84 24.888649416389928\n",
      "85 24.89075107762813\n",
      "86 24.89306034730016\n",
      "87 24.895574461876226\n",
      "88 24.898290707239912\n",
      "89 24.90120641714914\n",
      "90 24.90431897177517\n",
      "91 24.907625796314402\n",
      "92 24.911124359668285\n",
      "93 24.914812173186736\n",
      "94 24.918686789471128\n",
      "95 24.92274580123304\n",
      "96 24.92698684020521\n",
      "97 24.93140757610152\n",
      "98 24.93600571562298\n",
      "99 24.94077900150688\n",
      "100 24.945725211616683\n",
      "101 24.950842158070053\n",
      "102 24.95612768640294\n",
      "103 24.96157967476758\n",
      "104 24.96719603316249\n",
      "105 24.972974702692664\n",
      "106 24.97891365485829\n",
      "107 24.985010890870456\n",
      "108 24.99126444099231\n",
      "109 24.99767236390434\n",
      "110 25.004232746092597\n",
      "111 25.010943701258537\n",
      "112 25.017803369749362\n",
      "113 25.02480991800798\n",
      "114 25.0319615380414\n",
      "115 25.03925644690685\n",
      "116 25.04669288621445\n",
      "117 25.05426912164612\n",
      "118 25.061983442489353\n",
      "119 25.069834161185728\n",
      "120 25.077819612893087\n",
      "121 25.085938155060855\n",
      "122 25.09418816701804\n",
      "123 25.102568049573183\n",
      "124 25.111076224625787\n",
      "125 25.119711134788766\n",
      "126 25.128471243021377\n",
      "127 25.137355032272303\n",
      "128 25.14636100513223\n",
      "129 25.155487683495902\n",
      "130 25.164733608232837\n",
      "131 25.174097338866744\n",
      "132 25.183577453263027\n",
      "133 25.193172547324206\n",
      "134 25.2028812346929\n",
      "135 25.212702146462046\n",
      "136 25.222633930892243\n",
      "137 25.232675253135735\n",
      "138 25.24282479496694\n",
      "139 25.25308125451928\n",
      "140 25.26344334602802\n",
      "141 25.273909799578966\n",
      "142 25.284479360862818\n",
      "143 25.29515079093497\n",
      "144 25.305922865980495\n",
      "145 25.31679437708437\n",
      "146 25.32776413000649\n",
      "147 25.338830944961526\n",
      "148 25.349993656403374\n",
      "149 25.361251112814\n",
      "150 25.37260217649681\n",
      "151 25.384045723373994\n",
      "152 25.39558064278813\n",
      "153 25.407205837307533\n",
      "154 25.418920222535693\n",
      "155 25.430722726924202\n",
      "156 25.442612291589445\n",
      "157 25.45458787013271\n",
      "158 25.466648428463827\n",
      "159 25.478792944627976\n",
      "160 25.491020408635883\n",
      "161 25.50332982229701\n",
      "162 25.515720199055906\n",
      "163 25.528190563831558\n",
      "164 25.540739952859465\n",
      "165 25.5533674135368\n",
      "166 25.56607200427009\n",
      "167 25.578852794325684\n",
      "168 25.591708863682904\n",
      "169 25.604639302889613\n",
      "170 25.617643212920317\n",
      "171 25.63071970503678\n",
      "172 25.643867900650903\n",
      "173 25.657086931189966\n",
      "174 25.670375937964163\n",
      "175 25.68373407203625\n",
      "176 25.697160494093474\n",
      "177 25.71065437432154\n",
      "178 25.724214892280617\n",
      "179 25.737841236783435\n",
      "180 25.751532605775324\n",
      "181 25.765288206216116\n",
      "182 25.779107253964067\n",
      "183 25.792988973661497\n",
      "184 25.8069325986223\n",
      "185 25.820937370721257\n",
      "186 25.83500254028498\n",
      "187 25.849127365984653\n",
      "188 25.863311114730404\n",
      "189 25.87755306156723\n",
      "190 25.891852489572667\n",
      "191 25.906208689755893\n",
      "192 25.920620960958406\n",
      "193 25.93508860975623\n",
      "194 25.949610950363557\n",
      "195 25.964187304537848\n",
      "196 25.97881700148633\n",
      "197 25.99349937777395\n",
      "198 26.008233777232597\n",
      "199 26.023019550871716\n"
     ]
    }
   ],
   "source": [
    "alphas = []\n",
    "mses = []\n",
    "\n",
    "for alpha in range(0, 200, 1):\n",
    "  ridge_reg_split = Ridge(alpha=alpha).fit(X_train, y_train)\n",
    "  mse = mean_squared_error(y_test, ridge_reg_split.predict(X_test))\n",
    "  print(alpha, mse)\n",
    "  alphas.append(alpha)\n",
    "  mses.append(mse)"
   ]
  },
  {
   "cell_type": "code",
   "execution_count": 280,
   "metadata": {
    "colab": {
     "base_uri": "https://localhost:8080/",
     "height": 347
    },
    "colab_type": "code",
    "id": "iRB3KHyWiO4y",
    "outputId": "a98e6ff2-c184-4fe5-eb76-a64b2705c4b3"
   },
   "outputs": [
    {
     "data": {
      "image/png": "[encoded data removed]",
      "text/plain": [
       "<Figure size 432x288 with 1 Axes>"
      ]
     },
     "metadata": {
      "needs_background": "light"
     },
     "output_type": "display_data"
    }
   ],
   "source": [
    "import matplotlib.pyplot as plt\n",
    "\n",
    "plt.scatter(alphas, mses);"
   ]
  },
  {
   "cell_type": "code",
   "execution_count": 281,
   "metadata": {},
   "outputs": [],
   "source": [
    "def mse_of_ridge(alpha):\n",
    "    ridge_reg_split = Ridge(alpha=alpha).fit(X_train, y_train)\n",
    "    mse = mean_squared_error(y_test, ridge_reg_split.predict(X_test))\n",
    "    return mse"
   ]
  },
  {
   "cell_type": "code",
   "execution_count": 282,
   "metadata": {},
   "outputs": [
    {
     "data": {
      "text/plain": [
       "[<matplotlib.lines.Line2D at 0x7fee5bdc7668>]"
      ]
     },
     "execution_count": 282,
     "metadata": {},
     "output_type": "execute_result"
    },
    {
     "data": {
      "image/png": "[encoded data removed]",
      "text/plain": [
       "<Figure size 432x288 with 1 Axes>"
      ]
     },
     "metadata": {
      "needs_background": "light"
     },
     "output_type": "display_data"
    }
   ],
   "source": [
    "X = np.linspace(0,200, 200)\n",
    "Y = np.vectorize(mse_of_ridge)(X)\n",
    "\n",
    "plt.plot(X, Y)"
   ]
  },
  {
   "cell_type": "markdown",
   "metadata": {},
   "source": [
    "#### Gradient Descent Over The MSE Of Ridge Regression"
   ]
  },
  {
   "cell_type": "code",
   "execution_count": 250,
   "metadata": {},
   "outputs": [],
   "source": [
    "import numpy as np\n",
    "\n",
    "# These functions have been designed with numpy in mind. To \n",
    "# that end they take arrays as inputs and provide arrays as output\n",
    "\n",
    "def derivative(f):\n",
    "    def df(x, h=0.1e-10): \n",
    "        return np.array((f(x+h)-f(x-h))/(2*h))\n",
    "    return df\n",
    "\n",
    "def partial_derivative(f, nth=0, h=0.1e-10):\n",
    "    def partial(*xs):\n",
    "        dxs = np.array(xs, dtype=np.float64)\n",
    "        dxs[nth] = xs[nth] + h\n",
    "        return np.array((f(*dxs)-f(*xs))/h)\n",
    "    return partial\n",
    "\n",
    "def gradient(f):\n",
    "    def grad(*xs):\n",
    "        if len(xs) == 1:\n",
    "            # If you don't watch for this special case,\n",
    "            # the result degerates and throws errors as\n",
    "            # numpy.ndarrays continue to nest\n",
    "            return np.array(derivative(f)(*xs))\n",
    "        else:\n",
    "            return np.array([partial_derivative(f, n)(*xs) for n in range(len(xs))])\n",
    "    return grad\n",
    "\n",
    "def gradient_descent(func, learning_rate=0.1, convergence_threshold=0.05, max_steps=None):\n",
    "    assert 0 < learning_rate, \"Learning rate must be greater than 0.\"\n",
    "    assert 0 < convergence_threshold, \"Convergence threshold must be greater than zero.\"\n",
    "        \n",
    "    def optimized_func(*xs):        \n",
    "        n = 0\n",
    "        grad = gradient(func)\n",
    "        distance = float('inf')\n",
    "\n",
    "        y = func(*xs)\n",
    "        steps = np.array([[*xs, y]])\n",
    "   \n",
    "        while convergence_threshold < distance:            \n",
    "            if max_steps != None and max_steps <= n:\n",
    "                return steps\n",
    "                        \n",
    "            previous_step = steps[-1][:-1]\n",
    "                        \n",
    "            change = grad(*previous_step)\n",
    "            \n",
    "            step = previous_step - learning_rate*change\n",
    "            y = func(*step)\n",
    "            \n",
    "            n += 1\n",
    "            steps = np.vstack((steps, np.array([*step, y])))\n",
    "\n",
    "            # For the normal reasons, the higher dimensionality of the output\n",
    "            # the less meaningful this measure of distance becomes\n",
    "            distance = np.linalg.norm(steps[-2][:-1] - steps[-1][:-1])\n",
    "\n",
    "        return steps\n",
    "    return optimized_func"
   ]
  },
  {
   "cell_type": "markdown",
   "metadata": {},
   "source": [
    "### Pre-Numpy Optimization"
   ]
  },
  {
   "cell_type": "code",
   "execution_count": 122,
   "metadata": {},
   "outputs": [],
   "source": [
    "descent = gradient_descent(mse_of_ridge, learning_rate=200, convergence_threshold=0.0001, max_steps=100)(10)"
   ]
  },
  {
   "cell_type": "code",
   "execution_count": 123,
   "metadata": {},
   "outputs": [],
   "source": [
    "dX, dY = np.array([[maps.inputs[0], maps.outputs] for maps in descent]).T"
   ]
  },
  {
   "cell_type": "code",
   "execution_count": 127,
   "metadata": {},
   "outputs": [
    {
     "data": {
      "text/plain": [
       "Mapping(inputs=array([71.74616374]), outputs=24.880902498052613)"
      ]
     },
     "execution_count": 127,
     "metadata": {},
     "output_type": "execute_result"
    }
   ],
   "source": [
    "min(descent, key=lambda map: map.outputs)"
   ]
  },
  {
   "cell_type": "code",
   "execution_count": 263,
   "metadata": {},
   "outputs": [
    {
     "data": {
      "image/png": "[encoded data removed]",
      "text/plain": [
       "<Figure size 432x288 with 1 Axes>"
      ]
     },
     "metadata": {
      "needs_background": "light"
     },
     "output_type": "display_data"
    }
   ],
   "source": [
    "plt.scatter(dX, dY)\n",
    "plt.plot(X, Y)\n",
    "plt.axvline(min(descent, key=lambda map: map.outputs).inputs, c='r')\n",
    "\n",
    "plt.savefig(\"mse-optimiziation.png\")"
   ]
  },
  {
   "cell_type": "markdown",
   "metadata": {},
   "source": [
    "#### Post-Numpy Optimization"
   ]
  },
  {
   "cell_type": "code",
   "execution_count": 253,
   "metadata": {},
   "outputs": [],
   "source": [
    "numpy_descents = gradient_descent(mse_of_ridge, learning_rate=200, convergence_threshold=0.0001, max_steps=100)(10)"
   ]
  },
  {
   "cell_type": "code",
   "execution_count": 257,
   "metadata": {},
   "outputs": [],
   "source": [
    "ndX, ndY = numpy_descents.T"
   ]
  },
  {
   "cell_type": "code",
   "execution_count": 255,
   "metadata": {},
   "outputs": [
    {
     "data": {
      "text/plain": [
       "array([74.05542763, 24.87968414])"
      ]
     },
     "execution_count": 255,
     "metadata": {},
     "output_type": "execute_result"
    }
   ],
   "source": [
    "min(numpy_descents, key=lambda map: map[-1])"
   ]
  },
  {
   "cell_type": "code",
   "execution_count": 292,
   "metadata": {},
   "outputs": [
    {
     "data": {
      "text/plain": [
       "<matplotlib.lines.Line2D at 0x7fee5b577b00>"
      ]
     },
     "execution_count": 292,
     "metadata": {},
     "output_type": "execute_result"
    },
    {
     "data": {
      "image/png": "[encoded data removed]",
      "text/plain": [
       "<Figure size 432x288 with 1 Axes>"
      ]
     },
     "metadata": {
      "needs_background": "light"
     },
     "output_type": "display_data"
    }
   ],
   "source": [
    "plt.scatter(ndX, ndY)\n",
    "plt.plot(X, Y)\n",
    "\n",
    "plt.axvline(min(numpy_descents, key=lambda map: map[-1])[0], c='r')\n",
    "\n",
    "plt.axvline(mean_squared_error(y_test, lin_reg_split.predict(X_test)), c='black')\n",
    "plt.axvline(mean_squared_error(y_test, ridge_reg_split.predict(X_test)), c='red')\n",
    "plt.axvline(mean_squared_error(y_test, Ridge(alpha=199).fit(X_train, y_train).predict(X_test)), c='blue')"
   ]
  },
  {
   "cell_type": "markdown",
   "metadata": {
    "colab_type": "text",
    "id": "WzgTBd-FcctM"
   },
   "source": [
    "## What's the intuition? What are we doing?\n",
    "\n",
    "The `alpha` parameter corresponds to the weight being given to the extra penalty being calculated by [Tikhonov regularization](https://en.wikipedia.org/wiki/Tikhonov_regularization) (this parameter is sometimes referred to as $\\lambda$ in the context of ridge regression).\n",
    "\n",
    "Normal linear regression (OLS) minimizes the **sum of square error of the residuals**.\n",
    "\n",
    "Ridge regression minimizes the **sum of square error of the residuals** *AND* **the squared slope of the fit model, times the alpha parameter**.\n",
    "\n",
    "This is why the MSE for the first model in the for loop (`alpha=0`) is the same as the MSE for linear regression - it's the same model!\n",
    "\n",
    "As `alpha` is increased, we give more and more penalty to a steep slope. In two or three dimensions this is fairly easy to visualize - beyond, think of it as penalizing coefficient size. Each coefficient represents the slope of an individual dimension (feature) of the model, so ridge regression is just squaring and summing those.\n",
    "\n",
    "So while `alpha=0` reduces to OLS, as `alpha` approaches infinity eventually the penalty gets so extreme that the model will always output every coefficient as 0 (any non-zero coefficient resulting in a penalty that outweighs whatever improvement in the residuals), and just fit a flat model with intercept at the mean of the dependent variable.\n",
    "\n",
    "Of course, what we want is somewhere in-between these extremes. Intuitively, what we want to do is apply an appropriate \"cost\" or penalty to the model for fitting parameters, much like adjusted $R^2$ takes into account the cost of adding complexity to a model. What exactly is an appropriate penalty will vary, so you'll have to put on your model comparison hat and give it a go!\n",
    "\n",
    "PS - scaling the data helps, as that way this cost is consistent and can be added uniformly across features, and it is simpler to search for the `alpha` parameter.\n",
    "\n",
    "### Bonus - magic! ✨\n",
    "\n",
    "Ridge regression doesn't just reduce overfitting and help with the third aspect of well-posed problems (poor generalizability). It can also fix the first two (no unique solution)!"
   ]
  },
  {
   "cell_type": "code",
   "execution_count": null,
   "metadata": {},
   "outputs": [],
   "source": [
    "plt.axvline(mean_squared_error(y_test, Ridge(alpha=199).fit(X_train, y_train).predict(X_test)), c='blue')"
   ]
  },
  {
   "cell_type": "code",
   "execution_count": 293,
   "metadata": {
    "colab": {
     "base_uri": "https://localhost:8080/",
     "height": 52
    },
    "colab_type": "code",
    "id": "rdogs9EMX6Vd",
    "outputId": "eaf2492e-2a61-4e96-c2eb-a1baf6d2f4c6"
   },
   "outputs": [
    {
     "name": "stdout",
     "output_type": "stream",
     "text": [
      "(10, 14)\n"
     ]
    },
    {
     "data": {
      "text/plain": [
       "1.0"
      ]
     },
     "execution_count": 293,
     "metadata": {},
     "output_type": "execute_result"
    }
   ],
   "source": [
    "df_tiny = df.sample(10, random_state=27)\n",
    "print(df_tiny.shape)\n",
    "X = df_tiny.drop('Price', axis='columns')\n",
    "y = df_tiny.Price\n",
    "\n",
    "lin_reg = LinearRegression().fit(X, y)\n",
    "lin_reg.score(X, y)  # Perfect multi-collinearity!\n",
    "\n",
    "# NOTE - True OLS would 💥 here\n",
    "# scikit protects us from actual error, but still gives a poor model"
   ]
  },
  {
   "cell_type": "code",
   "execution_count": 294,
   "metadata": {
    "colab": {
     "base_uri": "https://localhost:8080/",
     "height": 34
    },
    "colab_type": "code",
    "id": "zesVR59NhA7A",
    "outputId": "83b429ca-d564-4d0b-fe0c-0b8943b6275c"
   },
   "outputs": [
    {
     "data": {
      "text/plain": [
       "0.9760119331942763"
      ]
     },
     "execution_count": 294,
     "metadata": {},
     "output_type": "execute_result"
    }
   ],
   "source": [
    "ridge_reg = Ridge().fit(X, y)\n",
    "ridge_reg.score(X, y)  # More plausible (not \"perfect\")"
   ]
  },
  {
   "cell_type": "code",
   "execution_count": 295,
   "metadata": {
    "colab": {
     "base_uri": "https://localhost:8080/",
     "height": 34
    },
    "colab_type": "code",
    "id": "WP6zwLtshaVR",
    "outputId": "50f9033f-fbbc-4dcb-c96c-17e44bb3df81"
   },
   "outputs": [
    {
     "data": {
      "text/plain": [
       "103.04429449784261"
      ]
     },
     "execution_count": 295,
     "metadata": {},
     "output_type": "execute_result"
    }
   ],
   "source": [
    "# Using our earlier test split\n",
    "mean_squared_error(y_test, lin_reg.predict(X_test))"
   ]
  },
  {
   "cell_type": "code",
   "execution_count": 296,
   "metadata": {
    "colab": {
     "base_uri": "https://localhost:8080/",
     "height": 34
    },
    "colab_type": "code",
    "id": "QeL_O8vNhSqj",
    "outputId": "a3aefe55-881f-4667-869e-c04d8c17a95e"
   },
   "outputs": [
    {
     "data": {
      "text/plain": [
       "41.79869373639458"
      ]
     },
     "execution_count": 296,
     "metadata": {},
     "output_type": "execute_result"
    }
   ],
   "source": [
    "# Ridge generalizes *way* better (and we've not even tuned alpha)\n",
    "mean_squared_error(y_test, ridge_reg.predict(X_test))"
   ]
  },
  {
   "cell_type": "markdown",
   "metadata": {
    "colab_type": "text",
    "id": "x2N5WDV6nd3S"
   },
   "source": [
    "## And a bit more math\n",
    "\n",
    "The regularization used by Ridge Regression is also known as **$L^2$ regularization**, due to the squaring of the slopes being summed. This corresponds to [$L^2$ space](https://en.wikipedia.org/wiki/Square-integrable_function), a metric space of square-integrable functions that generally measure what we intuitively think of as \"distance\" (at least, on a plane) - what is referred to as Euclidean distance.\n",
    "\n",
    "The other famous norm is $L^1$, also known as [taxicab geometry](https://en.wikipedia.org/wiki/Taxicab_geometry), because it follows the \"grid\" to measure distance like a car driving around city blocks (rather than going directly like $L^2$). When referred to as a distance this is called \"Manhattan distance\", and can be used for regularization (see [LASSO](https://en.wikipedia.org/wiki/Lasso_(statistics%29), which [uses the $L^1$ norm](https://www.quora.com/What-is-the-difference-between-L1-and-L2-regularization-How-does-it-solve-the-problem-of-overfitting-Which-regularizer-to-use-and-when)).\n",
    "\n",
    "All this comes down to - regularization means increasing model bias by \"watering down\" coefficients with a penalty typically based on some sort of distance metric, and thus reducing variance (overfitting the model to the noise in the data). It gives us another lever to try and another tool for our toolchest!\n",
    "\n",
    "## Putting it all together - one last example\n",
    "\n",
    "The official scikit-learn documentation has many excellent examples - [this one](https://scikit-learn.org/stable/auto_examples/linear_model/plot_ols_ridge_variance.html#sphx-glr-auto-examples-linear-model-plot-ols-ridge-variance-py) illustrates how ridge regression effectively reduces the variance, again by increasing the bias, penalizing coefficients to reduce the effectiveness of features (but also the impact of noise).\n",
    "\n",
    "```\n",
    "Due to the few points in each dimension and the straight line that \n",
    "linear regression uses to follow these points as well as it can, noise \n",
    "on the observations will cause great variance as shown in the first plot. \n",
    "Every line’s slope can vary quite a bit for each prediction due to the noise \n",
    "induced in the observations.\n",
    "\n",
    "Ridge regression is basically minimizing a penalised version of the \n",
    "least-squared function. The penalising shrinks the value of the \n",
    "regression coefficients. Despite the few data points in each dimension, \n",
    "the slope of the prediction is much more stable and the variance in the \n",
    "line itself is greatly reduced, in comparison to that of the standard \n",
    "linear regression\n",
    "```"
   ]
  },
  {
   "cell_type": "code",
   "execution_count": 297,
   "metadata": {
    "colab": {
     "base_uri": "https://localhost:8080/",
     "height": 425
    },
    "colab_type": "code",
    "id": "LaOYdswIB6Bo",
    "outputId": "7081e218-bc17-478a-f6dd-37735fce78c3"
   },
   "outputs": [
    {
     "data": {
      "image/png": "[encoded data removed]",
      "text/plain": [
       "<Figure size 288x216 with 1 Axes>"
      ]
     },
     "metadata": {
      "needs_background": "light"
     },
     "output_type": "display_data"
    },
    {
     "data": {
      "image/png": "[encoded data removed]",
      "text/plain": [
       "<Figure size 288x216 with 1 Axes>"
      ]
     },
     "metadata": {
      "needs_background": "light"
     },
     "output_type": "display_data"
    }
   ],
   "source": [
    "# Code source: Gaël Varoquaux\n",
    "# Modified for documentation by Jaques Grobler\n",
    "# License: BSD 3 clause\n",
    "\n",
    "\n",
    "import numpy as np\n",
    "import matplotlib.pyplot as plt\n",
    "\n",
    "from sklearn import linear_model\n",
    "\n",
    "X_train = np.c_[.5, 1].T\n",
    "y_train = [.5, 1]\n",
    "X_test = np.c_[0, 2].T\n",
    "\n",
    "np.random.seed(0)\n",
    "\n",
    "classifiers = dict(ols=linear_model.LinearRegression(),\n",
    "                   ridge=linear_model.Ridge(alpha=.1))\n",
    "\n",
    "for name, clf in classifiers.items():\n",
    "    fig, ax = plt.subplots(figsize=(4, 3))\n",
    "\n",
    "    for _ in range(6):\n",
    "        this_X = .1 * np.random.normal(size=(2, 1)) + X_train\n",
    "        clf.fit(this_X, y_train)\n",
    "\n",
    "        ax.plot(X_test, clf.predict(X_test), color='gray')\n",
    "        ax.scatter(this_X, y_train, s=3, c='gray', marker='o', zorder=10)\n",
    "\n",
    "    clf.fit(X_train, y_train)\n",
    "    ax.plot(X_test, clf.predict(X_test), linewidth=2, color='blue')\n",
    "    ax.scatter(X_train, y_train, s=30, c='red', marker='+', zorder=10)\n",
    "\n",
    "    ax.set_title(name)\n",
    "    ax.set_xlim(0, 2)\n",
    "    ax.set_ylim((0, 1.6))\n",
    "    ax.set_xlabel('X')\n",
    "    ax.set_ylabel('y')\n",
    "\n",
    "    fig.tight_layout()\n",
    "\n",
    "plt.show()"
   ]
  },
  {
   "cell_type": "markdown",
   "metadata": {
    "colab_type": "text",
    "id": "Xb1MFgypBVQd"
   },
   "source": [
    "# Live Lecture - Ridge versus OLS\n",
    "\n",
    "First and foremost, we'll review/discuss and address any questions about the above. As time allows, we'll look at data and compare OLS to ridge regression - if there's particular data you'd like to volunteer (maybe something you've looked at in the past) please bring it to the lecture!"
   ]
  },
  {
   "cell_type": "markdown",
   "metadata": {
    "colab_type": "text",
    "id": "k0AhsAmuJzT9"
   },
   "source": [
    "# Assignment\n",
    "\n",
    "Following is data describing characteristics of blog posts, with a target feature of how many comments will be posted in the following 24 hours.\n",
    "\n",
    "https://archive.ics.uci.edu/ml/datasets/BlogFeedback\n",
    "\n",
    "Investigate - you can try both linear and ridge. You can also sample to smaller data size and see if that makes ridge more important. Don't forget to scale!\n",
    "\n",
    "Focus on the training data, but if you want to load and compare to any of the test data files you can also do that.\n",
    "\n",
    "Note - Ridge may not be that fundamentally superior in this case. That's OK! It's still good to practice both, and see if you can find parameters or sample sizes where ridge does generalize and perform better.\n",
    "\n",
    "When you've fit models to your satisfaction, answer the following question:\n",
    "\n",
    "```\n",
    "Did you find cases where Ridge performed better? If so, describe \n",
    "(alpha parameter, sample size, any other relevant info/processing). \n",
    "If not, what do you think that tells you about the data?\n",
    "```\n",
    "\n",
    "You can create whatever plots, tables, or other results support your argument. In this case, your target audience is a fellow data scientist, *not* a layperson, so feel free to dig in!"
   ]
  },
  {
   "cell_type": "code",
   "execution_count": 2,
   "metadata": {},
   "outputs": [],
   "source": [
    "from sklearn import preprocessing, linear_model, model_selection, metrics\n",
    "import matplotlib.pyplot as plt\n",
    "import seaborn as sns\n",
    "import pandas as pd\n",
    "import numpy as np\n",
    "import os"
   ]
  },
  {
   "cell_type": "markdown",
   "metadata": {},
   "source": [
    "#### Import The Data"
   ]
  },
  {
   "cell_type": "code",
   "execution_count": 3,
   "metadata": {},
   "outputs": [
    {
     "name": "stdout",
     "output_type": "stream",
     "text": [
      "/Users/work/.work/src/projects/lambdaschool/unit-2/DS-Unit-2-Sprint-3-Advanced-Regression/data/blogs\n"
     ]
    }
   ],
   "source": [
    "!mkdir -p ../data/blogs\n",
    "os.chdir(\"../data/blogs\")\n",
    "!pwd"
   ]
  },
  {
   "cell_type": "code",
   "execution_count": 322,
   "metadata": {},
   "outputs": [
    {
     "name": "stdout",
     "output_type": "stream",
     "text": [
      "--2019-02-28 23:56:56--  https://archive.ics.uci.edu/ml/machine-learning-databases/00304/BlogFeedback.zip\n",
      "Resolving archive.ics.uci.edu (archive.ics.uci.edu)... 128.195.10.249\n",
      "Connecting to archive.ics.uci.edu (archive.ics.uci.edu)|128.195.10.249|:443... connected.\n",
      "HTTP request sent, awaiting response... 200 OK\n",
      "Length: 2583605 (2.5M) [application/zip]\n",
      "Saving to: ‘BlogFeedback.zip’\n",
      "\n",
      "BlogFeedback.zip    100%[===================>]   2.46M   527KB/s    in 4.8s    \n",
      "\n",
      "2019-02-28 23:57:01 (525 KB/s) - ‘BlogFeedback.zip’ saved [2583605/2583605]\n",
      "\n",
      "Archive:  BlogFeedback.zip\n",
      "  inflating: blogData_test-2012.02.01.00_00.csv  \n",
      "  inflating: blogData_test-2012.02.02.00_00.csv  \n",
      "  inflating: blogData_test-2012.02.03.00_00.csv  \n",
      "  inflating: blogData_test-2012.02.04.00_00.csv  \n",
      "  inflating: blogData_test-2012.02.05.00_00.csv  \n",
      "  inflating: blogData_test-2012.02.06.00_00.csv  \n",
      "  inflating: blogData_test-2012.02.07.00_00.csv  \n",
      "  inflating: blogData_test-2012.02.08.00_00.csv  \n",
      "  inflating: blogData_test-2012.02.09.00_00.csv  \n",
      "  inflating: blogData_test-2012.02.10.00_00.csv  \n",
      "  inflating: blogData_test-2012.02.11.00_00.csv  \n",
      "  inflating: blogData_test-2012.02.12.00_00.csv  \n",
      "  inflating: blogData_test-2012.02.13.00_00.csv  \n",
      "  inflating: blogData_test-2012.02.14.00_00.csv  \n",
      "  inflating: blogData_test-2012.02.15.00_00.csv  \n",
      "  inflating: blogData_test-2012.02.16.00_00.csv  \n",
      "  inflating: blogData_test-2012.02.17.00_00.csv  \n",
      "  inflating: blogData_test-2012.02.18.00_00.csv  \n",
      "  inflating: blogData_test-2012.02.19.00_00.csv  \n",
      "  inflating: blogData_test-2012.02.20.00_00.csv  \n",
      "  inflating: blogData_test-2012.02.21.00_00.csv  \n",
      "  inflating: blogData_test-2012.02.22.00_00.csv  \n",
      "  inflating: blogData_test-2012.02.23.00_00.csv  \n",
      "  inflating: blogData_test-2012.02.24.00_00.csv  \n",
      "  inflating: blogData_test-2012.02.25.00_00.csv  \n",
      "  inflating: blogData_test-2012.02.26.00_00.csv  \n",
      "  inflating: blogData_test-2012.02.27.00_00.csv  \n",
      "  inflating: blogData_test-2012.02.28.00_00.csv  \n",
      "  inflating: blogData_test-2012.02.29.00_00.csv  \n",
      "  inflating: blogData_test-2012.03.01.00_00.csv  \n",
      "  inflating: blogData_test-2012.03.02.00_00.csv  \n",
      "  inflating: blogData_test-2012.03.03.00_00.csv  \n",
      "  inflating: blogData_test-2012.03.04.00_00.csv  \n",
      "  inflating: blogData_test-2012.03.05.00_00.csv  \n",
      "  inflating: blogData_test-2012.03.06.00_00.csv  \n",
      "  inflating: blogData_test-2012.03.07.00_00.csv  \n",
      "  inflating: blogData_test-2012.03.08.00_00.csv  \n",
      "  inflating: blogData_test-2012.03.09.00_00.csv  \n",
      "  inflating: blogData_test-2012.03.10.00_00.csv  \n",
      "  inflating: blogData_test-2012.03.11.00_00.csv  \n",
      "  inflating: blogData_test-2012.03.12.00_00.csv  \n",
      "  inflating: blogData_test-2012.03.13.00_00.csv  \n",
      "  inflating: blogData_test-2012.03.14.00_00.csv  \n",
      "  inflating: blogData_test-2012.03.15.00_00.csv  \n",
      "  inflating: blogData_test-2012.03.16.00_00.csv  \n",
      "  inflating: blogData_test-2012.03.17.00_00.csv  \n",
      "  inflating: blogData_test-2012.03.18.00_00.csv  \n",
      "  inflating: blogData_test-2012.03.19.00_00.csv  \n",
      "  inflating: blogData_test-2012.03.20.00_00.csv  \n",
      "  inflating: blogData_test-2012.03.21.00_00.csv  \n",
      "  inflating: blogData_test-2012.03.22.00_00.csv  \n",
      "  inflating: blogData_test-2012.03.23.00_00.csv  \n",
      "  inflating: blogData_test-2012.03.24.00_00.csv  \n",
      "  inflating: blogData_test-2012.03.25.00_00.csv  \n",
      "  inflating: blogData_test-2012.03.26.01_00.csv  \n",
      "  inflating: blogData_test-2012.03.27.01_00.csv  \n",
      "  inflating: blogData_test-2012.03.28.01_00.csv  \n",
      "  inflating: blogData_test-2012.03.29.01_00.csv  \n",
      "  inflating: blogData_test-2012.03.30.01_00.csv  \n",
      "  inflating: blogData_test-2012.03.31.01_00.csv  \n",
      "  inflating: blogData_train.csv      \n",
      "blogData_test-2012.02.01.00_00.csv  blogData_test-2012.03.03.00_00.csv\n",
      "blogData_test-2012.02.02.00_00.csv  blogData_test-2012.03.04.00_00.csv\n",
      "blogData_test-2012.02.03.00_00.csv  blogData_test-2012.03.05.00_00.csv\n",
      "blogData_test-2012.02.04.00_00.csv  blogData_test-2012.03.06.00_00.csv\n",
      "blogData_test-2012.02.05.00_00.csv  blogData_test-2012.03.07.00_00.csv\n",
      "blogData_test-2012.02.06.00_00.csv  blogData_test-2012.03.08.00_00.csv\n",
      "blogData_test-2012.02.07.00_00.csv  blogData_test-2012.03.09.00_00.csv\n",
      "blogData_test-2012.02.08.00_00.csv  blogData_test-2012.03.10.00_00.csv\n",
      "blogData_test-2012.02.09.00_00.csv  blogData_test-2012.03.11.00_00.csv\n",
      "blogData_test-2012.02.10.00_00.csv  blogData_test-2012.03.12.00_00.csv\n",
      "blogData_test-2012.02.11.00_00.csv  blogData_test-2012.03.13.00_00.csv\n",
      "blogData_test-2012.02.12.00_00.csv  blogData_test-2012.03.14.00_00.csv\n",
      "blogData_test-2012.02.13.00_00.csv  blogData_test-2012.03.15.00_00.csv\n",
      "blogData_test-2012.02.14.00_00.csv  blogData_test-2012.03.16.00_00.csv\n",
      "blogData_test-2012.02.15.00_00.csv  blogData_test-2012.03.17.00_00.csv\n",
      "blogData_test-2012.02.16.00_00.csv  blogData_test-2012.03.18.00_00.csv\n",
      "blogData_test-2012.02.17.00_00.csv  blogData_test-2012.03.19.00_00.csv\n",
      "blogData_test-2012.02.18.00_00.csv  blogData_test-2012.03.20.00_00.csv\n",
      "blogData_test-2012.02.19.00_00.csv  blogData_test-2012.03.21.00_00.csv\n",
      "blogData_test-2012.02.20.00_00.csv  blogData_test-2012.03.22.00_00.csv\n",
      "blogData_test-2012.02.21.00_00.csv  blogData_test-2012.03.23.00_00.csv\n",
      "blogData_test-2012.02.22.00_00.csv  blogData_test-2012.03.24.00_00.csv\n",
      "blogData_test-2012.02.23.00_00.csv  blogData_test-2012.03.25.00_00.csv\n",
      "blogData_test-2012.02.24.00_00.csv  blogData_test-2012.03.26.01_00.csv\n",
      "blogData_test-2012.02.25.00_00.csv  blogData_test-2012.03.27.01_00.csv\n",
      "blogData_test-2012.02.26.00_00.csv  blogData_test-2012.03.28.01_00.csv\n",
      "blogData_test-2012.02.27.00_00.csv  blogData_test-2012.03.29.01_00.csv\n",
      "blogData_test-2012.02.28.00_00.csv  blogData_test-2012.03.30.01_00.csv\n",
      "blogData_test-2012.02.29.00_00.csv  blogData_test-2012.03.31.01_00.csv\n",
      "blogData_test-2012.03.01.00_00.csv  blogData_train.csv\n",
      "blogData_test-2012.03.02.00_00.csv  BlogFeedback.zip\n"
     ]
    }
   ],
   "source": [
    "!wget https://archive.ics.uci.edu/ml/machine-learning-databases/00304/BlogFeedback.zip\n",
    "!unzip BlogFeedback.zip\n",
    "!ls"
   ]
  },
  {
   "cell_type": "markdown",
   "metadata": {},
   "source": [
    "#### Data Overview"
   ]
  },
  {
   "cell_type": "code",
   "execution_count": 4,
   "metadata": {},
   "outputs": [],
   "source": [
    "blogposts = pd.read_csv(\"blogData_train.csv\", header=None)"
   ]
  },
  {
   "cell_type": "code",
   "execution_count": 5,
   "metadata": {},
   "outputs": [
    {
     "data": {
      "text/html": [
       "<div>\n",
       "<style scoped>\n",
       "    .dataframe tbody tr th:only-of-type {\n",
       "        vertical-align: middle;\n",
       "    }\n",
       "\n",
       "    .dataframe tbody tr th {\n",
       "        vertical-align: top;\n",
       "    }\n",
       "\n",
       "    .dataframe thead th {\n",
       "        text-align: right;\n",
       "    }\n",
       "</style>\n",
       "<table border=\"1\" class=\"dataframe\">\n",
       "  <thead>\n",
       "    <tr style=\"text-align: right;\">\n",
       "      <th></th>\n",
       "      <th>0</th>\n",
       "      <th>1</th>\n",
       "      <th>2</th>\n",
       "      <th>3</th>\n",
       "      <th>4</th>\n",
       "      <th>5</th>\n",
       "      <th>6</th>\n",
       "      <th>7</th>\n",
       "      <th>8</th>\n",
       "      <th>9</th>\n",
       "      <th>...</th>\n",
       "      <th>271</th>\n",
       "      <th>272</th>\n",
       "      <th>273</th>\n",
       "      <th>274</th>\n",
       "      <th>275</th>\n",
       "      <th>276</th>\n",
       "      <th>277</th>\n",
       "      <th>278</th>\n",
       "      <th>279</th>\n",
       "      <th>280</th>\n",
       "    </tr>\n",
       "  </thead>\n",
       "  <tbody>\n",
       "    <tr>\n",
       "      <th>46563</th>\n",
       "      <td>1.083333</td>\n",
       "      <td>0.759203</td>\n",
       "      <td>0.0</td>\n",
       "      <td>3.0</td>\n",
       "      <td>1.0</td>\n",
       "      <td>0.500000</td>\n",
       "      <td>0.500000</td>\n",
       "      <td>0.0</td>\n",
       "      <td>1.0</td>\n",
       "      <td>0.5</td>\n",
       "      <td>...</td>\n",
       "      <td>0.0</td>\n",
       "      <td>0.0</td>\n",
       "      <td>0.0</td>\n",
       "      <td>1.0</td>\n",
       "      <td>0.0</td>\n",
       "      <td>0.0</td>\n",
       "      <td>0.0</td>\n",
       "      <td>0.0</td>\n",
       "      <td>0.0</td>\n",
       "      <td>0.0</td>\n",
       "    </tr>\n",
       "    <tr>\n",
       "      <th>4274</th>\n",
       "      <td>13.131769</td>\n",
       "      <td>19.307571</td>\n",
       "      <td>0.0</td>\n",
       "      <td>159.0</td>\n",
       "      <td>6.0</td>\n",
       "      <td>6.240072</td>\n",
       "      <td>9.528322</td>\n",
       "      <td>0.0</td>\n",
       "      <td>92.0</td>\n",
       "      <td>3.0</td>\n",
       "      <td>...</td>\n",
       "      <td>0.0</td>\n",
       "      <td>0.0</td>\n",
       "      <td>0.0</td>\n",
       "      <td>1.0</td>\n",
       "      <td>0.0</td>\n",
       "      <td>0.0</td>\n",
       "      <td>0.0</td>\n",
       "      <td>0.0</td>\n",
       "      <td>0.0</td>\n",
       "      <td>0.0</td>\n",
       "    </tr>\n",
       "    <tr>\n",
       "      <th>9566</th>\n",
       "      <td>39.644764</td>\n",
       "      <td>77.917020</td>\n",
       "      <td>0.0</td>\n",
       "      <td>798.0</td>\n",
       "      <td>4.0</td>\n",
       "      <td>16.757700</td>\n",
       "      <td>48.670017</td>\n",
       "      <td>0.0</td>\n",
       "      <td>568.0</td>\n",
       "      <td>1.0</td>\n",
       "      <td>...</td>\n",
       "      <td>0.0</td>\n",
       "      <td>0.0</td>\n",
       "      <td>0.0</td>\n",
       "      <td>0.0</td>\n",
       "      <td>1.0</td>\n",
       "      <td>0.0</td>\n",
       "      <td>0.0</td>\n",
       "      <td>0.0</td>\n",
       "      <td>0.0</td>\n",
       "      <td>1.0</td>\n",
       "    </tr>\n",
       "    <tr>\n",
       "      <th>52354</th>\n",
       "      <td>0.000000</td>\n",
       "      <td>0.000000</td>\n",
       "      <td>0.0</td>\n",
       "      <td>0.0</td>\n",
       "      <td>0.0</td>\n",
       "      <td>0.000000</td>\n",
       "      <td>0.000000</td>\n",
       "      <td>0.0</td>\n",
       "      <td>0.0</td>\n",
       "      <td>0.0</td>\n",
       "      <td>...</td>\n",
       "      <td>0.0</td>\n",
       "      <td>1.0</td>\n",
       "      <td>0.0</td>\n",
       "      <td>0.0</td>\n",
       "      <td>0.0</td>\n",
       "      <td>0.0</td>\n",
       "      <td>0.0</td>\n",
       "      <td>0.0</td>\n",
       "      <td>0.0</td>\n",
       "      <td>0.0</td>\n",
       "    </tr>\n",
       "  </tbody>\n",
       "</table>\n",
       "<p>4 rows × 281 columns</p>\n",
       "</div>"
      ],
      "text/plain": [
       "             0          1    2      3    4          5          6    7    \\\n",
       "46563   1.083333   0.759203  0.0    3.0  1.0   0.500000   0.500000  0.0   \n",
       "4274   13.131769  19.307571  0.0  159.0  6.0   6.240072   9.528322  0.0   \n",
       "9566   39.644764  77.917020  0.0  798.0  4.0  16.757700  48.670017  0.0   \n",
       "52354   0.000000   0.000000  0.0    0.0  0.0   0.000000   0.000000  0.0   \n",
       "\n",
       "         8    9   ...   271  272  273  274  275  276  277  278  279  280  \n",
       "46563    1.0  0.5 ...   0.0  0.0  0.0  1.0  0.0  0.0  0.0  0.0  0.0  0.0  \n",
       "4274    92.0  3.0 ...   0.0  0.0  0.0  1.0  0.0  0.0  0.0  0.0  0.0  0.0  \n",
       "9566   568.0  1.0 ...   0.0  0.0  0.0  0.0  1.0  0.0  0.0  0.0  0.0  1.0  \n",
       "52354    0.0  0.0 ...   0.0  1.0  0.0  0.0  0.0  0.0  0.0  0.0  0.0  0.0  \n",
       "\n",
       "[4 rows x 281 columns]"
      ]
     },
     "execution_count": 5,
     "metadata": {},
     "output_type": "execute_result"
    }
   ],
   "source": [
    "blogposts.sample(4)"
   ]
  },
  {
   "cell_type": "code",
   "execution_count": 6,
   "metadata": {},
   "outputs": [
    {
     "data": {
      "text/plain": [
       "(52397, 281)"
      ]
     },
     "execution_count": 6,
     "metadata": {},
     "output_type": "execute_result"
    }
   ],
   "source": [
    "blogposts.shape"
   ]
  },
  {
   "cell_type": "markdown",
   "metadata": {},
   "source": [
    "#### Split Out Data"
   ]
  },
  {
   "cell_type": "code",
   "execution_count": 7,
   "metadata": {},
   "outputs": [],
   "source": [
    "X = blogposts.drop(columns=280)\n",
    "X_scaled = preprocessing.StandardScaler().fit_transform(X)\n",
    "X_normalized = preprocessing.normalize(X)\n",
    "X_scaled_normalized = preprocessing.normalize(X_scaled)"
   ]
  },
  {
   "cell_type": "code",
   "execution_count": 8,
   "metadata": {},
   "outputs": [],
   "source": [
    "y = blogposts[280]"
   ]
  },
  {
   "cell_type": "code",
   "execution_count": 9,
   "metadata": {},
   "outputs": [],
   "source": [
    "X_train, X_test, y_train, y_test = model_selection.train_test_split(X, y)\n",
    "SX_train, SX_test, Sy_train, Sy_test = model_selection.train_test_split(X_scaled, y)\n",
    "NX_train, NX_test, Ny_train, Ny_test = model_selection.train_test_split(X_normalized, y)"
   ]
  },
  {
   "cell_type": "markdown",
   "metadata": {},
   "source": [
    "#### Naive Linear Regression"
   ]
  },
  {
   "cell_type": "code",
   "execution_count": 12,
   "metadata": {},
   "outputs": [],
   "source": [
    "regressor = linear_model.LinearRegression()"
   ]
  },
  {
   "cell_type": "code",
   "execution_count": 13,
   "metadata": {},
   "outputs": [
    {
     "data": {
      "text/plain": [
       "LinearRegression(copy_X=True, fit_intercept=True, n_jobs=None,\n",
       "         normalize=False)"
      ]
     },
     "execution_count": 13,
     "metadata": {},
     "output_type": "execute_result"
    }
   ],
   "source": [
    "regressor.fit(X_train, y_train)"
   ]
  },
  {
   "cell_type": "code",
   "execution_count": 14,
   "metadata": {},
   "outputs": [
    {
     "data": {
      "text/plain": [
       "(871.6739335936678, 1264.0108142253762)"
      ]
     },
     "execution_count": 14,
     "metadata": {},
     "output_type": "execute_result"
    }
   ],
   "source": [
    "metrics.mean_squared_error(y_train, regressor.predict(X_train)), metrics.mean_squared_error(y_test, regressor.predict(X_test))"
   ]
  },
  {
   "cell_type": "code",
   "execution_count": 15,
   "metadata": {},
   "outputs": [
    {
     "data": {
      "text/plain": [
       "(0.3791524493824304, 0.14303532451276413)"
      ]
     },
     "execution_count": 15,
     "metadata": {},
     "output_type": "execute_result"
    }
   ],
   "source": [
    "metrics.r2_score(y_train, regressor.predict(X_train)), metrics.r2_score(y_test, regressor.predict(X_test))"
   ]
  },
  {
   "cell_type": "markdown",
   "metadata": {},
   "source": [
    "#### Naive Scaled Linear Regression"
   ]
  },
  {
   "cell_type": "code",
   "execution_count": 16,
   "metadata": {},
   "outputs": [],
   "source": [
    "regressor = linear_model.LinearRegression()"
   ]
  },
  {
   "cell_type": "code",
   "execution_count": 17,
   "metadata": {},
   "outputs": [
    {
     "data": {
      "text/plain": [
       "LinearRegression(copy_X=True, fit_intercept=True, n_jobs=None,\n",
       "         normalize=False)"
      ]
     },
     "execution_count": 17,
     "metadata": {},
     "output_type": "execute_result"
    }
   ],
   "source": [
    "regressor.fit(SX_train, Sy_train)"
   ]
  },
  {
   "cell_type": "code",
   "execution_count": 18,
   "metadata": {},
   "outputs": [
    {
     "data": {
      "text/plain": [
       "(868.9729332510155, 1020.9407855891519)"
      ]
     },
     "execution_count": 18,
     "metadata": {},
     "output_type": "execute_result"
    }
   ],
   "source": [
    "metrics.mean_squared_error(Sy_train, regressor.predict(SX_train)), metrics.mean_squared_error(Sy_test, regressor.predict(SX_test))"
   ]
  },
  {
   "cell_type": "code",
   "execution_count": 19,
   "metadata": {},
   "outputs": [
    {
     "data": {
      "text/plain": [
       "(0.3790025496858107, 0.3143143830699442)"
      ]
     },
     "execution_count": 19,
     "metadata": {},
     "output_type": "execute_result"
    }
   ],
   "source": [
    "metrics.r2_score(Sy_train, regressor.predict(SX_train)), metrics.r2_score(Sy_test, regressor.predict(SX_test))"
   ]
  },
  {
   "cell_type": "markdown",
   "metadata": {},
   "source": [
    "#### Naive Ridge Regression"
   ]
  },
  {
   "cell_type": "code",
   "execution_count": 20,
   "metadata": {},
   "outputs": [],
   "source": [
    "regressor = linear_model.Ridge()"
   ]
  },
  {
   "cell_type": "code",
   "execution_count": 21,
   "metadata": {},
   "outputs": [
    {
     "data": {
      "text/plain": [
       "Ridge(alpha=1.0, copy_X=True, fit_intercept=True, max_iter=None,\n",
       "   normalize=False, random_state=None, solver='auto', tol=0.001)"
      ]
     },
     "execution_count": 21,
     "metadata": {},
     "output_type": "execute_result"
    }
   ],
   "source": [
    "regressor.fit(X_train, y_train)"
   ]
  },
  {
   "cell_type": "code",
   "execution_count": 22,
   "metadata": {},
   "outputs": [
    {
     "data": {
      "text/plain": [
       "(871.7687798387082, 1016.5392327677587)"
      ]
     },
     "execution_count": 22,
     "metadata": {},
     "output_type": "execute_result"
    }
   ],
   "source": [
    "metrics.mean_squared_error(y_train, regressor.predict(X_train)), metrics.mean_squared_error(y_test, regressor.predict(X_test))"
   ]
  },
  {
   "cell_type": "code",
   "execution_count": 23,
   "metadata": {},
   "outputs": [
    {
     "data": {
      "text/plain": [
       "(0.379084895384715, 0.310814271583012)"
      ]
     },
     "execution_count": 23,
     "metadata": {},
     "output_type": "execute_result"
    }
   ],
   "source": [
    "metrics.r2_score(y_train, regressor.predict(X_train)), metrics.r2_score(y_test, regressor.predict(X_test))"
   ]
  },
  {
   "cell_type": "markdown",
   "metadata": {},
   "source": [
    "#### Naive Scaled Ridge Regression"
   ]
  },
  {
   "cell_type": "code",
   "execution_count": 24,
   "metadata": {},
   "outputs": [],
   "source": [
    "regressor = linear_model.Ridge()"
   ]
  },
  {
   "cell_type": "code",
   "execution_count": 25,
   "metadata": {},
   "outputs": [
    {
     "data": {
      "text/plain": [
       "Ridge(alpha=1.0, copy_X=True, fit_intercept=True, max_iter=None,\n",
       "   normalize=False, random_state=None, solver='auto', tol=0.001)"
      ]
     },
     "execution_count": 25,
     "metadata": {},
     "output_type": "execute_result"
    }
   ],
   "source": [
    "regressor.fit(SX_train, Sy_train)"
   ]
  },
  {
   "cell_type": "code",
   "execution_count": 26,
   "metadata": {},
   "outputs": [
    {
     "data": {
      "text/plain": [
       "(869.0339457368375, 1020.6851114888487)"
      ]
     },
     "execution_count": 26,
     "metadata": {},
     "output_type": "execute_result"
    }
   ],
   "source": [
    "metrics.mean_squared_error(Sy_train, regressor.predict(SX_train)), metrics.mean_squared_error(Sy_test, regressor.predict(SX_test))"
   ]
  },
  {
   "cell_type": "code",
   "execution_count": 27,
   "metadata": {},
   "outputs": [
    {
     "data": {
      "text/plain": [
       "(0.37895894809975095, 0.31448609925140547)"
      ]
     },
     "execution_count": 27,
     "metadata": {},
     "output_type": "execute_result"
    }
   ],
   "source": [
    "metrics.r2_score(Sy_train, regressor.predict(SX_train)), metrics.r2_score(Sy_test, regressor.predict(SX_test))"
   ]
  },
  {
   "cell_type": "markdown",
   "metadata": {},
   "source": [
    "#### Naive RidgeCV Regression"
   ]
  },
  {
   "cell_type": "code",
   "execution_count": null,
   "metadata": {},
   "outputs": [],
   "source": [
    "regressor = linear_model.RidgeCV(alphas=[.1, 1, 10, 100, 1000])\n",
    "regressor.fit(X_train, y_train)"
   ]
  },
  {
   "cell_type": "code",
   "execution_count": null,
   "metadata": {},
   "outputs": [],
   "source": [
    "!ls"
   ]
  },
  {
   "cell_type": "code",
   "execution_count": null,
   "metadata": {},
   "outputs": [],
   "source": [
    "!ls"
   ]
  },
  {
   "cell_type": "code",
   "execution_count": null,
   "metadata": {},
   "outputs": [],
   "source": [
    "metrics.mean_squared_error(regressor.predict(X_train), y_train), metrics.mean_squared_error(regressor.predict(X_test), y_test)"
   ]
  },
  {
   "cell_type": "code",
   "execution_count": null,
   "metadata": {},
   "outputs": [],
   "source": [
    "metrics.r2_score(y_train, regressor.predict(X_train)), metrics.r2_score(y_test, regressor.predict(X_test))"
   ]
  },
  {
   "cell_type": "code",
   "execution_count": null,
   "metadata": {},
   "outputs": [],
   "source": [
    "regressor.alpha_"
   ]
  },
  {
   "cell_type": "markdown",
   "metadata": {},
   "source": [
    "#### Scaled Naive RidgeCV Regression"
   ]
  },
  {
   "cell_type": "code",
   "execution_count": null,
   "metadata": {},
   "outputs": [],
   "source": [
    "regressor = linear_model.RidgeCV(alphas=[0.01, .1, 1, 10, 100, 1000])\n",
    "regressor.fit(SX_train, Sy_train)"
   ]
  },
  {
   "cell_type": "code",
   "execution_count": null,
   "metadata": {},
   "outputs": [],
   "source": [
    "metrics.mean_squared_error(Sy_train, regressor.predict(SX_train)), metrics.mean_squared_error(Sy_test, regressor.predict(SX_test))"
   ]
  },
  {
   "cell_type": "code",
   "execution_count": null,
   "metadata": {},
   "outputs": [],
   "source": [
    "metrics.r2_score(Sy_train, regressor.predict(SX_train)), metrics.r2_score(Sy_test, regressor.predict(SX_test))"
   ]
  },
  {
   "cell_type": "code",
   "execution_count": null,
   "metadata": {},
   "outputs": [],
   "source": [
    "regressor.alpha_"
   ]
  },
  {
   "cell_type": "markdown",
   "metadata": {},
   "source": [
    "#### Exploring The Broad Strokes Shape Of The Error Function With Ridge Regression"
   ]
  },
  {
   "cell_type": "markdown",
   "metadata": {},
   "source": [
    "##### Error Functions"
   ]
  },
  {
   "cell_type": "code",
   "execution_count": 217,
   "metadata": {},
   "outputs": [],
   "source": [
    "def mse_of_ridge(alpha):\n",
    "    ridge_reg_split = linear_model.Ridge(alpha=alpha).fit(X_train, y_train)\n",
    "    return metrics.mean_squared_error(y_test, ridge_reg_split.predict(X_test))"
   ]
  },
  {
   "cell_type": "code",
   "execution_count": 262,
   "metadata": {},
   "outputs": [],
   "source": [
    "def r2_of_ridge(alpha):\n",
    "    ridge_reg_split = linear_model.Ridge(alpha=alpha).fit(X_train, y_train)\n",
    "    return metrics.r2_score(y_test, ridge_reg_split.predict(X_test))"
   ]
  },
  {
   "cell_type": "markdown",
   "metadata": {},
   "source": [
    "##### Manual Alpha Optimization"
   ]
  },
  {
   "cell_type": "code",
   "execution_count": 265,
   "metadata": {},
   "outputs": [
    {
     "name": "stdout",
     "output_type": "stream",
     "text": [
      "Smallest MSE: 960.6238140669539\n",
      "Alpha of Smallest MSE:  526315.7894736826\n"
     ]
    },
    {
     "data": {
      "text/plain": [
       "[<matplotlib.lines.Line2D at 0x7fc188429b00>]"
      ]
     },
     "execution_count": 265,
     "metadata": {},
     "output_type": "execute_result"
    },
    {
     "data": {
      "image/png": "[encoded data removed]",
      "text/plain": [
       "<Figure size 432x288 with 1 Axes>"
      ]
     },
     "metadata": {
      "needs_background": "light"
     },
     "output_type": "display_data"
    }
   ],
   "source": [
    "X = np.linspace(-10000000, 10000000, 20)\n",
    "Y = np.vectorize(mse_of_ridge)(X)\n",
    "\n",
    "print(\"Smallest MSE:\", min(Y))\n",
    "print(\"Alpha of Smallest MSE: \", X[np.where(Y == min(Y))[0][0]])\n",
    "\n",
    "plt.plot(X, Y)"
   ]
  },
  {
   "cell_type": "code",
   "execution_count": 266,
   "metadata": {},
   "outputs": [
    {
     "name": "stdout",
     "output_type": "stream",
     "text": [
      "Smallest MSE: 834.1333103892514\n",
      "Alpha of Smallest MSE:  26315.789473684155\n"
     ]
    },
    {
     "data": {
      "text/plain": [
       "[<matplotlib.lines.Line2D at 0x7fc18840b5f8>]"
      ]
     },
     "execution_count": 266,
     "metadata": {},
     "output_type": "execute_result"
    },
    {
     "data": {
      "image/png": "[encoded data removed]",
      "text/plain": [
       "<Figure size 432x288 with 1 Axes>"
      ]
     },
     "metadata": {
      "needs_background": "light"
     },
     "output_type": "display_data"
    }
   ],
   "source": [
    "X = np.linspace(-500000, 500000, 20)\n",
    "Y = np.vectorize(mse_of_ridge)(X)\n",
    "\n",
    "print(\"Smallest MSE:\", min(Y))\n",
    "print(\"Alpha of Smallest MSE: \", X[np.where(Y == min(Y))[0][0]])\n",
    "\n",
    "plt.plot(X, Y)"
   ]
  },
  {
   "cell_type": "code",
   "execution_count": 267,
   "metadata": {},
   "outputs": [
    {
     "name": "stdout",
     "output_type": "stream",
     "text": [
      "Smallest MSE: 845.592274315692\n",
      "Alpha of Smallest MSE:  52631.57894736842\n"
     ]
    },
    {
     "data": {
      "text/plain": [
       "[<matplotlib.lines.Line2D at 0x7fc188366320>]"
      ]
     },
     "execution_count": 267,
     "metadata": {},
     "output_type": "execute_result"
    },
    {
     "data": {
      "image/png": "[encoded data removed]",
      "text/plain": [
       "<Figure size 432x288 with 1 Axes>"
      ]
     },
     "metadata": {
      "needs_background": "light"
     },
     "output_type": "display_data"
    }
   ],
   "source": [
    "X = np.linspace(0, 1000000, 20)\n",
    "Y = np.vectorize(mse_of_ridge)(X)\n",
    "\n",
    "print(\"Smallest MSE:\", min(Y))\n",
    "print(\"Alpha of Smallest MSE: \", X[np.where(Y == min(Y))[0][0]])\n",
    "\n",
    "plt.plot(X, Y)"
   ]
  },
  {
   "cell_type": "code",
   "execution_count": 268,
   "metadata": {},
   "outputs": [
    {
     "name": "stdout",
     "output_type": "stream",
     "text": [
      "Smallest MSE: 836.6682446517688\n",
      "Alpha of Smallest MSE:  100.0\n"
     ]
    },
    {
     "data": {
      "text/plain": [
       "[<matplotlib.lines.Line2D at 0x7fc18833efd0>]"
      ]
     },
     "execution_count": 268,
     "metadata": {},
     "output_type": "execute_result"
    },
    {
     "data": {
      "image/png": "[encoded data removed]",
      "text/plain": [
       "<Figure size 432x288 with 1 Axes>"
      ]
     },
     "metadata": {
      "needs_background": "light"
     },
     "output_type": "display_data"
    }
   ],
   "source": [
    "X = np.linspace(-100, 100, 20)\n",
    "Y = np.vectorize(mse_of_ridge)(X)\n",
    "\n",
    "print(\"Smallest MSE:\", min(Y))\n",
    "print(\"Alpha of Smallest MSE: \", X[np.where(Y == min(Y))[0][0]])\n",
    "\n",
    "plt.plot(X, Y)"
   ]
  },
  {
   "cell_type": "code",
   "execution_count": 269,
   "metadata": {},
   "outputs": [
    {
     "name": "stdout",
     "output_type": "stream",
     "text": [
      "Smallest MSE: 836.3130592537085\n",
      "Alpha of Smallest MSE:  200.0\n"
     ]
    },
    {
     "data": {
      "text/plain": [
       "[<matplotlib.lines.Line2D at 0x7fc1882a8c88>]"
      ]
     },
     "execution_count": 269,
     "metadata": {},
     "output_type": "execute_result"
    },
    {
     "data": {
      "image/png": "[encoded data removed]",
      "text/plain": [
       "<Figure size 432x288 with 1 Axes>"
      ]
     },
     "metadata": {
      "needs_background": "light"
     },
     "output_type": "display_data"
    }
   ],
   "source": [
    "X = np.linspace(0, 200, 20)\n",
    "Y = np.vectorize(mse_of_ridge)(X)\n",
    "\n",
    "print(\"Smallest MSE:\", min(Y))\n",
    "print(\"Alpha of Smallest MSE: \", X[np.where(Y == min(Y))[0][0]])\n",
    "\n",
    "plt.plot(X, Y)"
   ]
  },
  {
   "cell_type": "code",
   "execution_count": 270,
   "metadata": {},
   "outputs": [
    {
     "name": "stdout",
     "output_type": "stream",
     "text": [
      "Smallest MSE: 835.6882758524066\n",
      "Alpha of Smallest MSE:  400.0\n"
     ]
    },
    {
     "data": {
      "text/plain": [
       "[<matplotlib.lines.Line2D at 0x7fc188290908>]"
      ]
     },
     "execution_count": 270,
     "metadata": {},
     "output_type": "execute_result"
    },
    {
     "data": {
      "image/png": "[encoded data removed]",
      "text/plain": [
       "<Figure size 432x288 with 1 Axes>"
      ]
     },
     "metadata": {
      "needs_background": "light"
     },
     "output_type": "display_data"
    }
   ],
   "source": [
    "X = np.linspace(200, 400, 20)\n",
    "Y = np.vectorize(mse_of_ridge)(X)\n",
    "\n",
    "print(\"Smallest MSE:\", min(Y))\n",
    "print(\"Alpha of Smallest MSE: \", X[np.where(Y == min(Y))[0][0]])\n",
    "\n",
    "plt.plot(X, Y)"
   ]
  },
  {
   "cell_type": "code",
   "execution_count": 271,
   "metadata": {},
   "outputs": [
    {
     "name": "stdout",
     "output_type": "stream",
     "text": [
      "Smallest MSE: 830.364256174395\n",
      "Alpha of Smallest MSE:  9736.842105263158\n"
     ]
    },
    {
     "data": {
      "text/plain": [
       "[<matplotlib.lines.Line2D at 0x7fc1881f9438>]"
      ]
     },
     "execution_count": 271,
     "metadata": {},
     "output_type": "execute_result"
    },
    {
     "data": {
      "image/png": "[encoded data removed]",
      "text/plain": [
       "<Figure size 432x288 with 1 Axes>"
      ]
     },
     "metadata": {
      "needs_background": "light"
     },
     "output_type": "display_data"
    }
   ],
   "source": [
    "X = np.linspace(9000, 11000, 20)\n",
    "Y = np.vectorize(mse_of_ridge)(X)\n",
    "\n",
    "print(\"Smallest MSE:\", min(Y))\n",
    "print(\"Alpha of Smallest MSE: \", X[np.where(Y == min(Y))[0][0]])\n",
    "\n",
    "plt.plot(X, Y)"
   ]
  },
  {
   "cell_type": "code",
   "execution_count": 272,
   "metadata": {},
   "outputs": [
    {
     "name": "stdout",
     "output_type": "stream",
     "text": [
      "Smallest MSE: 830.3642561678477\n",
      "Alpha of Smallest MSE:  9739.473684210527\n"
     ]
    },
    {
     "data": {
      "text/plain": [
       "[<matplotlib.lines.Line2D at 0x7fc1881612b0>]"
      ]
     },
     "execution_count": 272,
     "metadata": {},
     "output_type": "execute_result"
    },
    {
     "data": {
      "image/png": "[encoded data removed]",
      "text/plain": [
       "<Figure size 432x288 with 1 Axes>"
      ]
     },
     "metadata": {
      "needs_background": "light"
     },
     "output_type": "display_data"
    }
   ],
   "source": [
    "X = np.linspace(9500, 9850, 20)\n",
    "Y = np.vectorize(mse_of_ridge)(X)\n",
    "\n",
    "print(\"Smallest MSE:\", min(Y))\n",
    "print(\"Alpha of Smallest MSE: \", X[np.where(Y == min(Y))[0][0]])\n",
    "\n",
    "plt.plot(X, Y)"
   ]
  },
  {
   "cell_type": "code",
   "execution_count": 273,
   "metadata": {},
   "outputs": [
    {
     "name": "stdout",
     "output_type": "stream",
     "text": [
      "Smallest MSE: 830.364256174395\n",
      "Alpha of Smallest MSE:  9736.842105263158\n"
     ]
    },
    {
     "data": {
      "text/plain": [
       "[<matplotlib.lines.Line2D at 0x7fc188142c50>]"
      ]
     },
     "execution_count": 273,
     "metadata": {},
     "output_type": "execute_result"
    },
    {
     "data": {
      "image/png": "[encoded data removed]",
      "text/plain": [
       "<Figure size 432x288 with 1 Axes>"
      ]
     },
     "metadata": {
      "needs_background": "light"
     },
     "output_type": "display_data"
    }
   ],
   "source": [
    "X = np.linspace(9700, 9800, 20)\n",
    "Y = np.vectorize(mse_of_ridge)(X)\n",
    "\n",
    "print(\"Smallest MSE:\", min(Y))\n",
    "print(\"Alpha of Smallest MSE: \", X[np.where(Y == min(Y))[0][0]])\n",
    "print(\"R2 of Smallest MSE:\", r2_of_ridge(X[np.where(Y == min(Y))[0][0]]))\n",
    "\n",
    "plt.plot(X, Y)"
   ]
  },
  {
   "cell_type": "markdown",
   "metadata": {},
   "source": [
    "#### Response\n",
    "\n",
    "- I think my model was dramatically overfit to the data, hence blindly throwing OLS at the \n",
    "  problem yielded a score of 868.9729332510155, which is compared to the most optimal Ridge\n",
    "  Regression score of 830.364256174395. Said Ridge score had  an alpha of 9736.842105263158.\n",
    "- "
   ]
  },
  {
   "cell_type": "markdown",
   "metadata": {
    "colab_type": "text",
    "id": "Onsn4B2tJ20X"
   },
   "source": [
    "# Resources and stretch goals"
   ]
  },
  {
   "cell_type": "markdown",
   "metadata": {
    "colab_type": "text",
    "id": "o_ZIP6O0J435"
   },
   "source": [
    "Resources:\n",
    "- https://www.quora.com/What-is-regularization-in-machine-learning\n",
    "- https://blogs.sas.com/content/subconsciousmusings/2017/07/06/how-to-use-regularization-to-prevent-model-overfitting/\n",
    "- https://machinelearningmastery.com/introduction-to-regularization-to-reduce-overfitting-and-improve-generalization-error/\n",
    "- https://towardsdatascience.com/ridge-and-lasso-regression-a-complete-guide-with-python-scikit-learn-e20e34bcbf0b\n",
    "- https://stats.stackexchange.com/questions/111017/question-about-standardizing-in-ridge-regression#111022\n",
    "\n",
    "Stretch goals:\n",
    "- Revisit past data you've fit OLS models to, and see if there's an `alpha` such that ridge regression results in a model with lower MSE on a train/test split\n",
    "- Yes, Ridge can be applied to classification! Check out [sklearn.linear_model.RidgeClassifier](https://scikit-learn.org/stable/modules/generated/sklearn.linear_model.RidgeClassifier.html#sklearn.linear_model.RidgeClassifier), and try it on a problem you previous approached with a different classifier (note - scikit LogisticRegression also automatically penalizes based on the $L^2$ norm, so the difference won't be as dramatic)\n",
    "- Implement your own function to calculate the full cost that ridge regression is optimizing (the sum of squared residuals + `alpha` times the sum of squared coefficients) - this alone won't fit a model, but you can use it to verify cost of trained models and that the coefficients from the equivalent OLS (without regularization) may have a higher cost"
   ]
  }
 ],
 "metadata": {
  "colab": {
   "collapsed_sections": [],
   "name": "LS_DS_234_Ridge_Regression.ipynb",
   "provenance": [],
   "version": "0.3.2"
  },
  "kernelspec": {
   "display_name": "Python 3",
   "language": "python",
   "name": "python3"
  },
  "language_info": {
   "codemirror_mode": {
    "name": "ipython",
    "version": 3
   },
   "file_extension": ".py",
   "mimetype": "text/x-python",
   "name": "python",
   "nbconvert_exporter": "python",
   "pygments_lexer": "ipython3",
   "version": "3.6.7"
  }
 },
 "nbformat": 4,
 "nbformat_minor": 2
}
