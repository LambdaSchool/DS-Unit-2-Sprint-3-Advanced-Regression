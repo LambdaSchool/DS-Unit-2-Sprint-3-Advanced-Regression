{
 "cells": [
  {
   "cell_type": "markdown",
   "metadata": {
    "colab_type": "text",
    "id": "SV7gaADiicnV"
   },
   "source": [
    "# Quantile Regression\n",
    "\n",
    "Regressing towards the median - or any quantile - as a way to mitigate outliers and control risk."
   ]
  },
  {
   "cell_type": "code",
   "execution_count": 30,
   "metadata": {},
   "outputs": [],
   "source": [
    "import matplotlib.pyplot as plt\n",
    "import numpy as np\n",
    "import pandas as pd\n",
    "import seaborn as sns\n",
    "from sklearn.linear_model import LinearRegression\n",
    "import statsmodels.formula.api as smf\n",
    "\n",
    "plt.style.use('seaborn')"
   ]
  },
  {
   "cell_type": "markdown",
   "metadata": {},
   "source": [
    "Resources:\n",
    "- [statsmodels.org example](http://www.statsmodels.org/dev/examples/notebooks/generated/quantile_regression.html)\n",
    "- [How Shopify used Quantile Regression in modeling risk](https://medium.com/data-shopify/how-shopify-capital-uses-quantile-regression-to-help-merchants-succeed-10ee1b36b17d) - how the Shopify Risks-Algorithms team uses Quantile Regression to decide eligibility for cash advances.\n",
    "- [Quantile Regression versus other techniques](http://naes.unr.edu/shoemaker/teaching/NRES-746/QuantileRegression.html) - comparison (using R) of quantile regression to OLS and ANOVA, and more about goodness of fit\n",
    "- [Fitting models using R-style formulas](http://www.statsmodels.org/devel/example_formulas.html)\n",
    "\n",
    "Stretch goals:\n",
    "- Find a dataset where you think quantile regression may be appropriate, and try both it and linear regression - compare/contrast their strengths/weaknesses, and write a summary for which you think is better for the situation and why\n",
    "- Check out [deep quantile regression](https://www.kdnuggets.com/2018/07/deep-quantile-regression.html), an approach that uses a custom quantile loss function and Keras to train a quantile model"
   ]
  },
  {
   "cell_type": "markdown",
   "metadata": {},
   "source": [
    "# Overview\n",
    "\n",
    "How does ordinary least squares treat outliers? The same it treats everything - it squares them! But for outliers, squaring dramatically increases their already outsized impact on statistics like the mean.\n",
    "\n",
    "We know from descriptive statistics that the median is more robust to outliers than the mean. This insight can serve us in predictive statistics as well, and is precisely what quantile regression is about - estimating the median (or other quantile) instead of the mean. By picking any specific quantile threshold, we can both mitigate outliers and tune our false positive/negative tradeoff. We can also deal with situations where the problem really does call for more of a quantile cutoff - safe birth weight for a baby, skill level for top competitive eSports players, etc.\n",
    "\n",
    "**Quantiles** are cut points dividing the range of a probability distribution into continuous intervals with equal probabilities. A cut at any given percent is a **percentile**, the most common cut being the median (50th percentile). **Quartiles** are formed by 3 cuts (25th, 50th, and 75th percentiles), often used in box plots.\n",
    "\n",
    "Quantile regression is then simply regression, like ordinary least squares, but where instead of minimizing the sum of square errors you minimize the sum of absolute error from the chosen quantile cut point (this is **very** over-simplified, see the [Wikipedia](https://en.wikipedia.org/wiki/Quantile_regression#Intuition)). If `q=0.50` (the median), then you are doing a special case of quantile regression - **least absolute deviation** (since the median is the central quantile).\n",
    "\n",
    "Why choose any other quantile? You’ll inevitably have more error, but by tuning `q` you can choose a threshold appropriate for balancing false positives and false negatives specific to your problem. You can also model and estimate specific thresholds, such as the minimum healthy baby birth weight as assigned in the lecture notebook."
   ]
  },
  {
   "cell_type": "markdown",
   "metadata": {
    "colab_type": "text",
    "id": "6klMj4q3iqMh"
   },
   "source": [
    "# Example 1\n",
    "\n",
    "Let's look at data that has a bit of a skew to it:\n",
    "\n",
    "http://archive.ics.uci.edu/ml/datasets/Beijing+PM2.5+Data"
   ]
  },
  {
   "cell_type": "code",
   "execution_count": 52,
   "metadata": {
    "colab": {},
    "colab_type": "code",
    "id": "yw1AD_z9O0xL"
   },
   "outputs": [
    {
     "name": "stdout",
     "output_type": "stream",
     "text": [
      "(43824, 13)\n"
     ]
    },
    {
     "data": {
      "text/html": [
       "<div>\n",
       "<style scoped>\n",
       "    .dataframe tbody tr th:only-of-type {\n",
       "        vertical-align: middle;\n",
       "    }\n",
       "\n",
       "    .dataframe tbody tr th {\n",
       "        vertical-align: top;\n",
       "    }\n",
       "\n",
       "    .dataframe thead th {\n",
       "        text-align: right;\n",
       "    }\n",
       "</style>\n",
       "<table border=\"1\" class=\"dataframe\">\n",
       "  <thead>\n",
       "    <tr style=\"text-align: right;\">\n",
       "      <th></th>\n",
       "      <th>No</th>\n",
       "      <th>year</th>\n",
       "      <th>month</th>\n",
       "      <th>day</th>\n",
       "      <th>hour</th>\n",
       "      <th>pm2.5</th>\n",
       "      <th>DEWP</th>\n",
       "      <th>TEMP</th>\n",
       "      <th>PRES</th>\n",
       "      <th>cbwd</th>\n",
       "      <th>Iws</th>\n",
       "      <th>Is</th>\n",
       "      <th>Ir</th>\n",
       "    </tr>\n",
       "  </thead>\n",
       "  <tbody>\n",
       "    <tr>\n",
       "      <th>0</th>\n",
       "      <td>1</td>\n",
       "      <td>2010</td>\n",
       "      <td>1</td>\n",
       "      <td>1</td>\n",
       "      <td>0</td>\n",
       "      <td>NaN</td>\n",
       "      <td>-21</td>\n",
       "      <td>-11.0</td>\n",
       "      <td>1021.0</td>\n",
       "      <td>NW</td>\n",
       "      <td>1.79</td>\n",
       "      <td>0</td>\n",
       "      <td>0</td>\n",
       "    </tr>\n",
       "    <tr>\n",
       "      <th>1</th>\n",
       "      <td>2</td>\n",
       "      <td>2010</td>\n",
       "      <td>1</td>\n",
       "      <td>1</td>\n",
       "      <td>1</td>\n",
       "      <td>NaN</td>\n",
       "      <td>-21</td>\n",
       "      <td>-12.0</td>\n",
       "      <td>1020.0</td>\n",
       "      <td>NW</td>\n",
       "      <td>4.92</td>\n",
       "      <td>0</td>\n",
       "      <td>0</td>\n",
       "    </tr>\n",
       "    <tr>\n",
       "      <th>2</th>\n",
       "      <td>3</td>\n",
       "      <td>2010</td>\n",
       "      <td>1</td>\n",
       "      <td>1</td>\n",
       "      <td>2</td>\n",
       "      <td>NaN</td>\n",
       "      <td>-21</td>\n",
       "      <td>-11.0</td>\n",
       "      <td>1019.0</td>\n",
       "      <td>NW</td>\n",
       "      <td>6.71</td>\n",
       "      <td>0</td>\n",
       "      <td>0</td>\n",
       "    </tr>\n",
       "    <tr>\n",
       "      <th>3</th>\n",
       "      <td>4</td>\n",
       "      <td>2010</td>\n",
       "      <td>1</td>\n",
       "      <td>1</td>\n",
       "      <td>3</td>\n",
       "      <td>NaN</td>\n",
       "      <td>-21</td>\n",
       "      <td>-14.0</td>\n",
       "      <td>1019.0</td>\n",
       "      <td>NW</td>\n",
       "      <td>9.84</td>\n",
       "      <td>0</td>\n",
       "      <td>0</td>\n",
       "    </tr>\n",
       "    <tr>\n",
       "      <th>4</th>\n",
       "      <td>5</td>\n",
       "      <td>2010</td>\n",
       "      <td>1</td>\n",
       "      <td>1</td>\n",
       "      <td>4</td>\n",
       "      <td>NaN</td>\n",
       "      <td>-20</td>\n",
       "      <td>-12.0</td>\n",
       "      <td>1018.0</td>\n",
       "      <td>NW</td>\n",
       "      <td>12.97</td>\n",
       "      <td>0</td>\n",
       "      <td>0</td>\n",
       "    </tr>\n",
       "  </tbody>\n",
       "</table>\n",
       "</div>"
      ],
      "text/plain": [
       "   No  year  month  day  hour  pm2.5  DEWP  TEMP    PRES cbwd    Iws  Is  Ir\n",
       "0   1  2010      1    1     0    NaN   -21 -11.0  1021.0   NW   1.79   0   0\n",
       "1   2  2010      1    1     1    NaN   -21 -12.0  1020.0   NW   4.92   0   0\n",
       "2   3  2010      1    1     2    NaN   -21 -11.0  1019.0   NW   6.71   0   0\n",
       "3   4  2010      1    1     3    NaN   -21 -14.0  1019.0   NW   9.84   0   0\n",
       "4   5  2010      1    1     4    NaN   -20 -12.0  1018.0   NW  12.97   0   0"
      ]
     },
     "execution_count": 52,
     "metadata": {},
     "output_type": "execute_result"
    }
   ],
   "source": [
    "df = pd.read_csv('http://archive.ics.uci.edu/ml/machine-learning-databases/'\n",
    "                 '00381/PRSA_data_2010.1.1-2014.12.31.csv')\n",
    "print(df.shape)\n",
    "\n",
    "df.head()"
   ]
  },
  {
   "cell_type": "code",
   "execution_count": 53,
   "metadata": {
    "colab": {
     "base_uri": "https://localhost:8080/",
     "height": 304
    },
    "colab_type": "code",
    "id": "m-yC9OSPPFo8",
    "outputId": "d9201fd8-c48c-45f2-9026-d64dfcbed10a"
   },
   "outputs": [
    {
     "data": {
      "text/html": [
       "<div>\n",
       "<style scoped>\n",
       "    .dataframe tbody tr th:only-of-type {\n",
       "        vertical-align: middle;\n",
       "    }\n",
       "\n",
       "    .dataframe tbody tr th {\n",
       "        vertical-align: top;\n",
       "    }\n",
       "\n",
       "    .dataframe thead th {\n",
       "        text-align: right;\n",
       "    }\n",
       "</style>\n",
       "<table border=\"1\" class=\"dataframe\">\n",
       "  <thead>\n",
       "    <tr style=\"text-align: right;\">\n",
       "      <th></th>\n",
       "      <th>No</th>\n",
       "      <th>year</th>\n",
       "      <th>month</th>\n",
       "      <th>day</th>\n",
       "      <th>hour</th>\n",
       "      <th>pm2.5</th>\n",
       "      <th>DEWP</th>\n",
       "      <th>TEMP</th>\n",
       "      <th>PRES</th>\n",
       "      <th>Iws</th>\n",
       "      <th>Is</th>\n",
       "      <th>Ir</th>\n",
       "    </tr>\n",
       "  </thead>\n",
       "  <tbody>\n",
       "    <tr>\n",
       "      <th>count</th>\n",
       "      <td>43824.000000</td>\n",
       "      <td>43824.000000</td>\n",
       "      <td>43824.000000</td>\n",
       "      <td>43824.000000</td>\n",
       "      <td>43824.000000</td>\n",
       "      <td>41757.000000</td>\n",
       "      <td>43824.000000</td>\n",
       "      <td>43824.000000</td>\n",
       "      <td>43824.000000</td>\n",
       "      <td>43824.000000</td>\n",
       "      <td>43824.000000</td>\n",
       "      <td>43824.000000</td>\n",
       "    </tr>\n",
       "    <tr>\n",
       "      <th>mean</th>\n",
       "      <td>21912.500000</td>\n",
       "      <td>2012.000000</td>\n",
       "      <td>6.523549</td>\n",
       "      <td>15.727820</td>\n",
       "      <td>11.500000</td>\n",
       "      <td>98.613215</td>\n",
       "      <td>1.817246</td>\n",
       "      <td>12.448521</td>\n",
       "      <td>1016.447654</td>\n",
       "      <td>23.889140</td>\n",
       "      <td>0.052734</td>\n",
       "      <td>0.194916</td>\n",
       "    </tr>\n",
       "    <tr>\n",
       "      <th>std</th>\n",
       "      <td>12651.043435</td>\n",
       "      <td>1.413842</td>\n",
       "      <td>3.448572</td>\n",
       "      <td>8.799425</td>\n",
       "      <td>6.922266</td>\n",
       "      <td>92.050387</td>\n",
       "      <td>14.433440</td>\n",
       "      <td>12.198613</td>\n",
       "      <td>10.268698</td>\n",
       "      <td>50.010635</td>\n",
       "      <td>0.760375</td>\n",
       "      <td>1.415867</td>\n",
       "    </tr>\n",
       "    <tr>\n",
       "      <th>min</th>\n",
       "      <td>1.000000</td>\n",
       "      <td>2010.000000</td>\n",
       "      <td>1.000000</td>\n",
       "      <td>1.000000</td>\n",
       "      <td>0.000000</td>\n",
       "      <td>0.000000</td>\n",
       "      <td>-40.000000</td>\n",
       "      <td>-19.000000</td>\n",
       "      <td>991.000000</td>\n",
       "      <td>0.450000</td>\n",
       "      <td>0.000000</td>\n",
       "      <td>0.000000</td>\n",
       "    </tr>\n",
       "    <tr>\n",
       "      <th>25%</th>\n",
       "      <td>10956.750000</td>\n",
       "      <td>2011.000000</td>\n",
       "      <td>4.000000</td>\n",
       "      <td>8.000000</td>\n",
       "      <td>5.750000</td>\n",
       "      <td>29.000000</td>\n",
       "      <td>-10.000000</td>\n",
       "      <td>2.000000</td>\n",
       "      <td>1008.000000</td>\n",
       "      <td>1.790000</td>\n",
       "      <td>0.000000</td>\n",
       "      <td>0.000000</td>\n",
       "    </tr>\n",
       "    <tr>\n",
       "      <th>50%</th>\n",
       "      <td>21912.500000</td>\n",
       "      <td>2012.000000</td>\n",
       "      <td>7.000000</td>\n",
       "      <td>16.000000</td>\n",
       "      <td>11.500000</td>\n",
       "      <td>72.000000</td>\n",
       "      <td>2.000000</td>\n",
       "      <td>14.000000</td>\n",
       "      <td>1016.000000</td>\n",
       "      <td>5.370000</td>\n",
       "      <td>0.000000</td>\n",
       "      <td>0.000000</td>\n",
       "    </tr>\n",
       "    <tr>\n",
       "      <th>75%</th>\n",
       "      <td>32868.250000</td>\n",
       "      <td>2013.000000</td>\n",
       "      <td>10.000000</td>\n",
       "      <td>23.000000</td>\n",
       "      <td>17.250000</td>\n",
       "      <td>137.000000</td>\n",
       "      <td>15.000000</td>\n",
       "      <td>23.000000</td>\n",
       "      <td>1025.000000</td>\n",
       "      <td>21.910000</td>\n",
       "      <td>0.000000</td>\n",
       "      <td>0.000000</td>\n",
       "    </tr>\n",
       "    <tr>\n",
       "      <th>max</th>\n",
       "      <td>43824.000000</td>\n",
       "      <td>2014.000000</td>\n",
       "      <td>12.000000</td>\n",
       "      <td>31.000000</td>\n",
       "      <td>23.000000</td>\n",
       "      <td>994.000000</td>\n",
       "      <td>28.000000</td>\n",
       "      <td>42.000000</td>\n",
       "      <td>1046.000000</td>\n",
       "      <td>585.600000</td>\n",
       "      <td>27.000000</td>\n",
       "      <td>36.000000</td>\n",
       "    </tr>\n",
       "  </tbody>\n",
       "</table>\n",
       "</div>"
      ],
      "text/plain": [
       "                 No          year         month           day          hour  \\\n",
       "count  43824.000000  43824.000000  43824.000000  43824.000000  43824.000000   \n",
       "mean   21912.500000   2012.000000      6.523549     15.727820     11.500000   \n",
       "std    12651.043435      1.413842      3.448572      8.799425      6.922266   \n",
       "min        1.000000   2010.000000      1.000000      1.000000      0.000000   \n",
       "25%    10956.750000   2011.000000      4.000000      8.000000      5.750000   \n",
       "50%    21912.500000   2012.000000      7.000000     16.000000     11.500000   \n",
       "75%    32868.250000   2013.000000     10.000000     23.000000     17.250000   \n",
       "max    43824.000000   2014.000000     12.000000     31.000000     23.000000   \n",
       "\n",
       "              pm2.5          DEWP          TEMP          PRES           Iws  \\\n",
       "count  41757.000000  43824.000000  43824.000000  43824.000000  43824.000000   \n",
       "mean      98.613215      1.817246     12.448521   1016.447654     23.889140   \n",
       "std       92.050387     14.433440     12.198613     10.268698     50.010635   \n",
       "min        0.000000    -40.000000    -19.000000    991.000000      0.450000   \n",
       "25%       29.000000    -10.000000      2.000000   1008.000000      1.790000   \n",
       "50%       72.000000      2.000000     14.000000   1016.000000      5.370000   \n",
       "75%      137.000000     15.000000     23.000000   1025.000000     21.910000   \n",
       "max      994.000000     28.000000     42.000000   1046.000000    585.600000   \n",
       "\n",
       "                 Is            Ir  \n",
       "count  43824.000000  43824.000000  \n",
       "mean       0.052734      0.194916  \n",
       "std        0.760375      1.415867  \n",
       "min        0.000000      0.000000  \n",
       "25%        0.000000      0.000000  \n",
       "50%        0.000000      0.000000  \n",
       "75%        0.000000      0.000000  \n",
       "max       27.000000     36.000000  "
      ]
     },
     "execution_count": 53,
     "metadata": {},
     "output_type": "execute_result"
    }
   ],
   "source": [
    "df.describe()"
   ]
  },
  {
   "cell_type": "code",
   "execution_count": 54,
   "metadata": {
    "colab": {
     "base_uri": "https://localhost:8080/",
     "height": 347
    },
    "colab_type": "code",
    "id": "hfV3WisFP_O6",
    "outputId": "93383f5d-79de-4ace-bf1a-afc92fcb1168"
   },
   "outputs": [
    {
     "data": {
      "image/png": "[encoded data removed]",
      "text/plain": [
       "<Figure size 432x288 with 1 Axes>"
      ]
     },
     "metadata": {},
     "output_type": "display_data"
    }
   ],
   "source": [
    "df['pm2.5'].plot.hist(bins=30); "
   ]
  },
  {
   "cell_type": "markdown",
   "metadata": {},
   "source": [
    "#### Linear Regression"
   ]
  },
  {
   "cell_type": "code",
   "execution_count": 55,
   "metadata": {
    "colab": {
     "base_uri": "https://localhost:8080/",
     "height": 34
    },
    "colab_type": "code",
    "id": "OgbMTAHzQJB8",
    "outputId": "73f85770-b08d-4aa3-c76a-976ea54b8ef3"
   },
   "outputs": [
    {
     "data": {
      "text/plain": [
       "0.2590006399659862"
      ]
     },
     "execution_count": 55,
     "metadata": {},
     "output_type": "execute_result"
    }
   ],
   "source": [
    "# Let's drop NAs and limit to numeric values\n",
    "df = df._get_numeric_data().dropna()\n",
    "X = df.drop('pm2.5', axis='columns')\n",
    "y = df['pm2.5']\n",
    "\n",
    "linear_reg = LinearRegression().fit(X, y)\n",
    "linear_reg.score(X, y)"
   ]
  },
  {
   "cell_type": "markdown",
   "metadata": {},
   "source": [
    "Not bad - but what if we wanted to model the distribution more conservatively?\n",
    "\n",
    "#### StatsModel Quantile Regression\n",
    "\n",
    "Quantile Regression is a somewhat less common model, but it is provided by the StatsModel Python library. This library is clearly inspired by R, and borrows various syntax and API decisions from it.\n",
    "\n",
    "StatsModel uses a slightly different paradigm than scikit-learn. As with scikit-learn you generate a model object that then exposes a .fit() method to actually train and predict.\n",
    "\n",
    "However, scikit-learn models generally take data (as an X matrix and y array) as arguments to .fit(), while StatsModel has its model specified as a formula given to the model object at instantiation. The formula is a string of the form:\n",
    "\n",
    "```y ~ x1 + x2 + ...```\n",
    "\n",
    "You can specify polynomial and interaction terms flexibly, e.g.:\n",
    "\n",
    "```y ~ x1 + (x1 * x1) + x2 + x3 + (x2 * x3)```\n",
    "\n",
    "Also different jargon/API in StatsModel documentation:\n",
    "* \"endogenous\" response var is dependent (y), it is \"inside\"\n",
    "* \"exogenous\" variables are independent (X), it is \"outside\""
   ]
  },
  {
   "cell_type": "code",
   "execution_count": 56,
   "metadata": {
    "colab": {
     "base_uri": "https://localhost:8080/",
     "height": 434
    },
    "colab_type": "code",
    "id": "-viFFtm0RizM",
    "outputId": "05e542a2-39b7-4db5-ff25-23f4de4a1e36"
   },
   "outputs": [
    {
     "name": "stdout",
     "output_type": "stream",
     "text": [
      "pm25 ~ No + year + month + day + hour + DEWP + TEMP + PRES + Iws + Is + Ir\n"
     ]
    },
    {
     "data": {
      "text/html": [
       "<table class=\"simpletable\">\n",
       "<caption>QuantReg Regression Results</caption>\n",
       "<tr>\n",
       "  <th>Dep. Variable:</th>       <td>pm25</td>       <th>  Pseudo R-squared:  </th> <td>  0.1600</td>\n",
       "</tr>\n",
       "<tr>\n",
       "  <th>Model:</th>             <td>QuantReg</td>     <th>  Bandwidth:         </th> <td>   8.276</td>\n",
       "</tr>\n",
       "<tr>\n",
       "  <th>Method:</th>          <td>Least Squares</td>  <th>  Sparsity:          </th> <td>   133.8</td>\n",
       "</tr>\n",
       "<tr>\n",
       "  <th>Date:</th>          <td>Wed, 27 Feb 2019</td> <th>  No. Observations:  </th>  <td> 41757</td> \n",
       "</tr>\n",
       "<tr>\n",
       "  <th>Time:</th>              <td>15:00:20</td>     <th>  Df Residuals:      </th>  <td> 41745</td> \n",
       "</tr>\n",
       "<tr>\n",
       "  <th> </th>                      <td> </td>        <th>  Df Model:          </th>  <td>    11</td> \n",
       "</tr>\n",
       "</table>\n",
       "<table class=\"simpletable\">\n",
       "<tr>\n",
       "      <td></td>         <th>coef</th>     <th>std err</th>      <th>t</th>      <th>P>|t|</th>  <th>[0.025</th>    <th>0.975]</th>  \n",
       "</tr>\n",
       "<tr>\n",
       "  <th>Intercept</th> <td>    0.0004</td> <td> 1.67e-05</td> <td>   22.781</td> <td> 0.000</td> <td>    0.000</td> <td>    0.000</td>\n",
       "</tr>\n",
       "<tr>\n",
       "  <th>No</th>        <td> 1.276e-07</td> <td> 2.67e-05</td> <td>    0.005</td> <td> 0.996</td> <td>-5.23e-05</td> <td> 5.25e-05</td>\n",
       "</tr>\n",
       "<tr>\n",
       "  <th>year</th>      <td>    0.8831</td> <td>    0.031</td> <td>   28.632</td> <td> 0.000</td> <td>    0.823</td> <td>    0.944</td>\n",
       "</tr>\n",
       "<tr>\n",
       "  <th>month</th>     <td>   -1.4111</td> <td>    0.103</td> <td>  -13.750</td> <td> 0.000</td> <td>   -1.612</td> <td>   -1.210</td>\n",
       "</tr>\n",
       "<tr>\n",
       "  <th>day</th>       <td>    0.4462</td> <td>    0.037</td> <td>   11.954</td> <td> 0.000</td> <td>    0.373</td> <td>    0.519</td>\n",
       "</tr>\n",
       "<tr>\n",
       "  <th>hour</th>      <td>    1.2805</td> <td>    0.050</td> <td>   25.768</td> <td> 0.000</td> <td>    1.183</td> <td>    1.378</td>\n",
       "</tr>\n",
       "<tr>\n",
       "  <th>DEWP</th>      <td>    3.6361</td> <td>    0.047</td> <td>   77.309</td> <td> 0.000</td> <td>    3.544</td> <td>    3.728</td>\n",
       "</tr>\n",
       "<tr>\n",
       "  <th>TEMP</th>      <td>   -4.7104</td> <td>    0.060</td> <td>  -78.775</td> <td> 0.000</td> <td>   -4.828</td> <td>   -4.593</td>\n",
       "</tr>\n",
       "<tr>\n",
       "  <th>PRES</th>      <td>   -1.6267</td> <td>    0.061</td> <td>  -26.761</td> <td> 0.000</td> <td>   -1.746</td> <td>   -1.508</td>\n",
       "</tr>\n",
       "<tr>\n",
       "  <th>Iws</th>       <td>   -0.1541</td> <td>    0.007</td> <td>  -21.786</td> <td> 0.000</td> <td>   -0.168</td> <td>   -0.140</td>\n",
       "</tr>\n",
       "<tr>\n",
       "  <th>Is</th>        <td>   -1.6320</td> <td>    0.425</td> <td>   -3.837</td> <td> 0.000</td> <td>   -2.466</td> <td>   -0.798</td>\n",
       "</tr>\n",
       "<tr>\n",
       "  <th>Ir</th>        <td>   -5.3951</td> <td>    0.234</td> <td>  -23.035</td> <td> 0.000</td> <td>   -5.854</td> <td>   -4.936</td>\n",
       "</tr>\n",
       "</table><br/><br/>The condition number is large, 3.07e+10. This might indicate that there are<br/>strong multicollinearity or other numerical problems."
      ],
      "text/plain": [
       "<class 'statsmodels.iolib.summary.Summary'>\n",
       "\"\"\"\n",
       "                         QuantReg Regression Results                          \n",
       "==============================================================================\n",
       "Dep. Variable:                   pm25   Pseudo R-squared:               0.1600\n",
       "Model:                       QuantReg   Bandwidth:                       8.276\n",
       "Method:                 Least Squares   Sparsity:                        133.8\n",
       "Date:                Wed, 27 Feb 2019   No. Observations:                41757\n",
       "Time:                        15:00:20   Df Residuals:                    41745\n",
       "                                        Df Model:                           11\n",
       "==============================================================================\n",
       "                 coef    std err          t      P>|t|      [0.025      0.975]\n",
       "------------------------------------------------------------------------------\n",
       "Intercept      0.0004   1.67e-05     22.781      0.000       0.000       0.000\n",
       "No          1.276e-07   2.67e-05      0.005      0.996   -5.23e-05    5.25e-05\n",
       "year           0.8831      0.031     28.632      0.000       0.823       0.944\n",
       "month         -1.4111      0.103    -13.750      0.000      -1.612      -1.210\n",
       "day            0.4462      0.037     11.954      0.000       0.373       0.519\n",
       "hour           1.2805      0.050     25.768      0.000       1.183       1.378\n",
       "DEWP           3.6361      0.047     77.309      0.000       3.544       3.728\n",
       "TEMP          -4.7104      0.060    -78.775      0.000      -4.828      -4.593\n",
       "PRES          -1.6267      0.061    -26.761      0.000      -1.746      -1.508\n",
       "Iws           -0.1541      0.007    -21.786      0.000      -0.168      -0.140\n",
       "Is            -1.6320      0.425     -3.837      0.000      -2.466      -0.798\n",
       "Ir            -5.3951      0.234    -23.035      0.000      -5.854      -4.936\n",
       "==============================================================================\n",
       "\n",
       "The condition number is large, 3.07e+10. This might indicate that there are\n",
       "strong multicollinearity or other numerical problems.\n",
       "\"\"\""
      ]
     },
     "execution_count": 56,
     "metadata": {},
     "output_type": "execute_result"
    }
   ],
   "source": [
    "# formulas break with . in variable name, so lets change that\n",
    "df = df.rename(index=str, columns={'pm2.5': 'pm25'})\n",
    "\n",
    "# Now let's construct the formula string using all columns\n",
    "quant_formula = 'pm25 ~ ' + ' + '.join(df.drop('pm25', axis='columns').columns)\n",
    "print(quant_formula)\n",
    "\n",
    "quant_mod = smf.quantreg(quant_formula, data=df)\n",
    "quant_reg = quant_mod.fit(q=0.5) # Least absolute deviation\n",
    "quant_reg.summary()  # \"summary\" is another very R-thing"
   ]
  },
  {
   "cell_type": "code",
   "execution_count": 57,
   "metadata": {
    "colab": {
     "base_uri": "https://localhost:8080/",
     "height": 34
    },
    "colab_type": "code",
    "id": "96D4SNnDJmhS",
    "outputId": "91688610-b629-46cd-b247-9e6a54555397"
   },
   "outputs": [
    {
     "data": {
      "text/plain": [
       "28.483870967741936"
      ]
     },
     "execution_count": 57,
     "metadata": {},
     "output_type": "execute_result"
    }
   ],
   "source": [
    "# Year Coef / std err ~ t statistic\n",
    "0.8830 / 0.031"
   ]
  },
  {
   "cell_type": "markdown",
   "metadata": {
    "colab_type": "text",
    "id": "ZBkP4bewd-HT"
   },
   "source": [
    "The pseudo-R^2 isn't really directly comparable to the R^2 from linear regression, but it clearly isn't dramatically improved. Can we make it better?"
   ]
  },
  {
   "cell_type": "code",
   "execution_count": 0,
   "metadata": {
    "colab": {
     "base_uri": "https://localhost:8080/",
     "height": 574
    },
    "colab_type": "code",
    "id": "BgvYeHg3bL4g",
    "outputId": "4be07a17-2431-44dc-b5f2-aa38a304182f"
   },
   "outputs": [
    {
     "name": "stdout",
     "output_type": "stream",
     "text": [
      "Help on method fit in module statsmodels.regression.quantile_regression:\n",
      "\n",
      "fit(q=0.5, vcov='robust', kernel='epa', bandwidth='hsheather', max_iter=1000, p_tol=1e-06, **kwargs) method of statsmodels.regression.quantile_regression.QuantReg instance\n",
      "    Solve by Iterative Weighted Least Squares\n",
      "    \n",
      "    Parameters\n",
      "    ----------\n",
      "    q : float\n",
      "        Quantile must be between 0 and 1\n",
      "    vcov : string, method used to calculate the variance-covariance matrix\n",
      "        of the parameters. Default is ``robust``:\n",
      "    \n",
      "        - robust : heteroskedasticity robust standard errors (as suggested\n",
      "          in Greene 6th edition)\n",
      "        - iid : iid errors (as in Stata 12)\n",
      "    \n",
      "    kernel : string, kernel to use in the kernel density estimation for the\n",
      "        asymptotic covariance matrix:\n",
      "    \n",
      "        - epa: Epanechnikov\n",
      "        - cos: Cosine\n",
      "        - gau: Gaussian\n",
      "        - par: Parzene\n",
      "    \n",
      "    bandwidth: string, Bandwidth selection method in kernel density\n",
      "        estimation for asymptotic covariance estimate (full\n",
      "        references in QuantReg docstring):\n",
      "    \n",
      "        - hsheather: Hall-Sheather (1988)\n",
      "        - bofinger: Bofinger (1975)\n",
      "        - chamberlain: Chamberlain (1994)\n",
      "\n"
     ]
    }
   ],
   "source": [
    "help(quant_mod.fit)"
   ]
  },
  {
   "cell_type": "code",
   "execution_count": 58,
   "metadata": {
    "colab": {
     "base_uri": "https://localhost:8080/",
     "height": 1378
    },
    "colab_type": "code",
    "id": "lpNPioZTei4U",
    "outputId": "9ae0bf9b-eb74-4c1f-fdcc-1b8ffd77ecc5"
   },
   "outputs": [
    {
     "name": "stdout",
     "output_type": "stream",
     "text": [
      "                         QuantReg Regression Results                          \n",
      "==============================================================================\n",
      "Dep. Variable:                   pm25   Pseudo R-squared:              0.04130\n",
      "Model:                       QuantReg   Bandwidth:                       8.908\n",
      "Method:                 Least Squares   Sparsity:                        120.7\n",
      "Date:                Wed, 27 Feb 2019   No. Observations:                41757\n",
      "Time:                        15:02:54   Df Residuals:                    41745\n",
      "                                        Df Model:                           11\n",
      "==============================================================================\n",
      "                 coef    std err          t      P>|t|      [0.025      0.975]\n",
      "------------------------------------------------------------------------------\n",
      "Intercept   3.069e-05    6.4e-06      4.798      0.000    1.82e-05    4.32e-05\n",
      "No         -6.994e-05   9.59e-06     -7.292      0.000   -8.87e-05   -5.11e-05\n",
      "year           0.0998      0.012      8.276      0.000       0.076       0.123\n",
      "month         -0.4536      0.034    -13.419      0.000      -0.520      -0.387\n",
      "day            0.1143      0.015      7.862      0.000       0.086       0.143\n",
      "hour           0.3777      0.020     19.013      0.000       0.339       0.417\n",
      "DEWP           0.7720      0.014     55.266      0.000       0.745       0.799\n",
      "TEMP          -0.8346      0.020    -41.621      0.000      -0.874      -0.795\n",
      "PRES          -0.1734      0.024     -7.291      0.000      -0.220      -0.127\n",
      "Iws           -0.0364      0.002    -17.462      0.000      -0.040      -0.032\n",
      "Is             1.4573      0.195      7.466      0.000       1.075       1.840\n",
      "Ir            -1.2952      0.071    -18.209      0.000      -1.435      -1.156\n",
      "==============================================================================\n",
      "\n",
      "The condition number is large, 3.07e+10. This might indicate that there are\n",
      "strong multicollinearity or other numerical problems.\n",
      "                         QuantReg Regression Results                          \n",
      "==============================================================================\n",
      "Dep. Variable:                   pm25   Pseudo R-squared:              0.06497\n",
      "Model:                       QuantReg   Bandwidth:                       8.092\n",
      "Method:                 Least Squares   Sparsity:                        104.4\n",
      "Date:                Wed, 27 Feb 2019   No. Observations:                41757\n",
      "Time:                        15:03:03   Df Residuals:                    41745\n",
      "                                        Df Model:                           11\n",
      "==============================================================================\n",
      "                 coef    std err          t      P>|t|      [0.025      0.975]\n",
      "------------------------------------------------------------------------------\n",
      "Intercept   5.214e-05   7.84e-06      6.650      0.000    3.68e-05    6.75e-05\n",
      "No         -9.232e-05   1.17e-05     -7.888      0.000      -0.000   -6.94e-05\n",
      "year           0.1521      0.015     10.386      0.000       0.123       0.181\n",
      "month         -0.5581      0.042    -13.138      0.000      -0.641      -0.475\n",
      "day            0.1708      0.017      9.893      0.000       0.137       0.205\n",
      "hour           0.4604      0.024     19.350      0.000       0.414       0.507\n",
      "DEWP           1.2350      0.017     70.845      0.000       1.201       1.269\n",
      "TEMP          -1.3088      0.024    -54.101      0.000      -1.356      -1.261\n",
      "PRES          -0.2652      0.029     -9.183      0.000      -0.322      -0.209\n",
      "Iws           -0.0436      0.003    -16.919      0.000      -0.049      -0.039\n",
      "Is             1.0745      0.231      4.653      0.000       0.622       1.527\n",
      "Ir            -1.9619      0.087    -22.504      0.000      -2.133      -1.791\n",
      "==============================================================================\n",
      "\n",
      "The condition number is large, 3.07e+10. This might indicate that there are\n",
      "strong multicollinearity or other numerical problems.\n",
      "                         QuantReg Regression Results                          \n",
      "==============================================================================\n",
      "Dep. Variable:                   pm25   Pseudo R-squared:               0.2194\n",
      "Model:                       QuantReg   Bandwidth:                       10.41\n",
      "Method:                 Least Squares   Sparsity:                        1321.\n",
      "Date:                Wed, 27 Feb 2019   No. Observations:                41757\n",
      "Time:                        15:03:09   Df Residuals:                    41745\n",
      "                                        Df Model:                           11\n",
      "==============================================================================\n",
      "                 coef    std err          t      P>|t|      [0.025      0.975]\n",
      "------------------------------------------------------------------------------\n",
      "Intercept      0.0004   6.86e-05      5.293      0.000       0.000       0.000\n",
      "No          7.786e-05      0.000      0.694      0.488      -0.000       0.000\n",
      "year           1.0572      0.124      8.537      0.000       0.814       1.300\n",
      "month         -3.9663      0.445     -8.903      0.000      -4.839      -3.093\n",
      "day            1.0839      0.136      7.972      0.000       0.817       1.350\n",
      "hour           2.3650      0.191     12.360      0.000       1.990       2.740\n",
      "DEWP           7.5173      0.235     32.018      0.000       7.057       7.977\n",
      "TEMP         -11.6983      0.302    -38.718      0.000     -12.290     -11.106\n",
      "PRES          -1.7107      0.244     -7.000      0.000      -2.190      -1.232\n",
      "Iws           -0.4150      0.034    -12.342      0.000      -0.481      -0.349\n",
      "Is            -5.7275      1.499     -3.820      0.000      -8.666      -2.789\n",
      "Ir            -9.3179      1.456     -6.398      0.000     -12.172      -6.463\n",
      "==============================================================================\n",
      "\n",
      "The condition number is large, 3.07e+10. This might indicate that there are\n",
      "strong multicollinearity or other numerical problems.\n"
     ]
    }
   ],
   "source": [
    "quantiles = (0.05, 0.10, 0.96)\n",
    "\n",
    "for quantile in quantiles:\n",
    "    print(quant_mod.fit(q=quantile).summary())"
   ]
  },
  {
   "cell_type": "markdown",
   "metadata": {
    "colab_type": "text",
    "id": "Xqh4Jp1XgjrE"
   },
   "source": [
    "\"Strong multicollinearity\", eh? In other words - maybe we shouldn't throw every variable in our formula. Let's hand-craft a smaller one, picking the features with the largest magnitude t-statistics for their coefficients. Let's also search for more quantile cutoffs to see what's most effective."
   ]
  },
  {
   "cell_type": "code",
   "execution_count": 13,
   "metadata": {
    "colab": {
     "base_uri": "https://localhost:8080/",
     "height": 944
    },
    "colab_type": "code",
    "id": "NmoELnXwgpXd",
    "outputId": "f74ce51f-b463-4cd9-d7b4-8010302d2201",
    "scrolled": false
   },
   "outputs": [
    {
     "name": "stdout",
     "output_type": "stream",
     "text": [
      "(0.5, 0.14478793360316145)\n",
      "(0.51, 0.14530464991093361)\n",
      "(0.52, 0.1457984456251079)\n",
      "(0.53, 0.14627848333343285)\n",
      "(0.54, 0.14676404467901627)\n",
      "(0.55, 0.14733094668774438)\n",
      "(0.56, 0.1478782179771626)\n",
      "(0.57, 0.14840185621298196)\n",
      "(0.58, 0.1489213827390372)\n",
      "(0.59, 0.14946793972074546)\n",
      "(0.6, 0.15004508362862257)\n",
      "(0.61, 0.15066665485532948)\n",
      "(0.62, 0.1513155052092775)\n",
      "(0.63, 0.15201598245712233)\n",
      "(0.64, 0.1528156318438042)\n",
      "(0.65, 0.15360133883632487)\n",
      "(0.66, 0.15440046026554444)\n",
      "(0.67, 0.15521251759236965)\n",
      "(0.68, 0.15607615673384556)\n",
      "(0.69, 0.15692695615297791)\n",
      "(0.7, 0.15776633890462177)\n",
      "(0.71, 0.15865286213006546)\n",
      "(0.72, 0.1596136344122845)\n",
      "(0.73, 0.16062991121307446)\n",
      "(0.74, 0.16171512018973)\n",
      "(0.75, 0.16280951619858464)\n",
      "(0.76, 0.16394259393308175)\n",
      "(0.77, 0.1651745147444441)\n",
      "(0.78, 0.1664423443713432)\n",
      "(0.79, 0.1677081535309486)\n"
     ]
    },
    {
     "name": "stderr",
     "output_type": "stream",
     "text": [
      "C:\\Users\\City_Year\\Anaconda3\\lib\\site-packages\\statsmodels\\regression\\quantile_regression.py:193: IterationLimitWarning: Maximum number of iterations (1000) reached.\n",
      "  \") reached.\", IterationLimitWarning)\n"
     ]
    },
    {
     "name": "stdout",
     "output_type": "stream",
     "text": [
      "(0.8, 0.16904227357963697)\n",
      "(0.81, 0.17037126968952598)\n",
      "(0.82, 0.17195593122316255)\n",
      "(0.83, 0.173838926063706)\n",
      "(0.84, 0.17599918426383776)\n",
      "(0.85, 0.1781758850732591)\n",
      "(0.86, 0.18047434706884025)\n",
      "(0.87, 0.18274842963592242)\n",
      "(0.88, 0.18507489278265943)\n",
      "(0.89, 0.18767194363628315)\n",
      "(0.9, 0.18998714640388414)\n",
      "(0.91, 0.19205778885870528)\n",
      "(0.92, 0.19409258041143262)\n",
      "(0.93, 0.19609285801359744)\n",
      "(0.94, 0.19907185857533727)\n",
      "(0.95, 0.20306510227283048)\n",
      "(0.96, 0.20828854562021626)\n",
      "(0.97, 0.2126842858679412)\n",
      "(0.98, 0.21668870123970463)\n",
      "(0.99, 0.21742941318144848)\n"
     ]
    }
   ],
   "source": [
    "# bear in mind r-square between quantiles are not comparable due to how data are skewed\n",
    "# the only way to inform Q is to be informed by domain knowledge and the problem\n",
    "# at hand\n",
    "\n",
    "quant_formula = 'pm25 ~ DEWP + TEMP + Ir + hour + Iws'\n",
    "quant_mod = smf.quantreg(quant_formula, data=df)\n",
    "for quantile in range(50, 100):\n",
    "    quantile /= 100\n",
    "    quant_reg = quant_mod.fit(q=quantile)\n",
    "    print('q:', quantile, 'r^2:', quant_reg.prsquared)"
   ]
  },
  {
   "cell_type": "code",
   "execution_count": 60,
   "metadata": {
    "colab": {
     "base_uri": "https://localhost:8080/",
     "height": 297
    },
    "colab_type": "code",
    "id": "Bz0GmE5kuwQY",
    "outputId": "cae65921-0944-4067-bd3a-cfd2adab263d"
   },
   "outputs": [
    {
     "data": {
      "text/html": [
       "<table class=\"simpletable\">\n",
       "<caption>QuantReg Regression Results</caption>\n",
       "<tr>\n",
       "  <th>Dep. Variable:</th>       <td>pm25</td>       <th>  Pseudo R-squared:  </th> <td>  0.2614</td>\n",
       "</tr>\n",
       "<tr>\n",
       "  <th>Model:</th>             <td>QuantReg</td>     <th>  Bandwidth:         </th> <td> 0.01908</td>\n",
       "</tr>\n",
       "<tr>\n",
       "  <th>Method:</th>          <td>Least Squares</td>  <th>  Sparsity:          </th> <td>  0.6064</td>\n",
       "</tr>\n",
       "<tr>\n",
       "  <th>Date:</th>          <td>Wed, 27 Feb 2019</td> <th>  No. Observations:  </th>  <td> 41757</td> \n",
       "</tr>\n",
       "<tr>\n",
       "  <th>Time:</th>              <td>15:06:25</td>     <th>  Df Residuals:      </th>  <td> 41745</td> \n",
       "</tr>\n",
       "<tr>\n",
       "  <th> </th>                      <td> </td>        <th>  Df Model:          </th>  <td>    11</td> \n",
       "</tr>\n",
       "</table>\n",
       "<table class=\"simpletable\">\n",
       "<tr>\n",
       "      <td></td>         <th>coef</th>     <th>std err</th>      <th>t</th>      <th>P>|t|</th>  <th>[0.025</th>    <th>0.975]</th>  \n",
       "</tr>\n",
       "<tr>\n",
       "  <th>Intercept</th> <td> 1.017e-06</td> <td> 6.53e-08</td> <td>   15.586</td> <td> 0.000</td> <td> 8.89e-07</td> <td> 1.15e-06</td>\n",
       "</tr>\n",
       "<tr>\n",
       "  <th>No</th>        <td>-7.475e-07</td> <td> 1.01e-07</td> <td>   -7.405</td> <td> 0.000</td> <td>-9.45e-07</td> <td> -5.5e-07</td>\n",
       "</tr>\n",
       "<tr>\n",
       "  <th>year</th>      <td>    0.0027</td> <td>    0.000</td> <td>   21.855</td> <td> 0.000</td> <td>    0.002</td> <td>    0.003</td>\n",
       "</tr>\n",
       "<tr>\n",
       "  <th>month</th>     <td>   -0.0075</td> <td>    0.000</td> <td>  -19.819</td> <td> 0.000</td> <td>   -0.008</td> <td>   -0.007</td>\n",
       "</tr>\n",
       "<tr>\n",
       "  <th>day</th>       <td>    0.0014</td> <td>    0.000</td> <td>    9.791</td> <td> 0.000</td> <td>    0.001</td> <td>    0.002</td>\n",
       "</tr>\n",
       "<tr>\n",
       "  <th>hour</th>      <td>    0.0048</td> <td>    0.000</td> <td>   23.928</td> <td> 0.000</td> <td>    0.004</td> <td>    0.005</td>\n",
       "</tr>\n",
       "<tr>\n",
       "  <th>DEWP</th>      <td>    0.0155</td> <td>    0.000</td> <td>   89.418</td> <td> 0.000</td> <td>    0.015</td> <td>    0.016</td>\n",
       "</tr>\n",
       "<tr>\n",
       "  <th>TEMP</th>      <td>   -0.0172</td> <td>    0.000</td> <td>  -77.039</td> <td> 0.000</td> <td>   -0.018</td> <td>   -0.017</td>\n",
       "</tr>\n",
       "<tr>\n",
       "  <th>PRES</th>      <td>   -0.0036</td> <td>    0.000</td> <td>  -14.862</td> <td> 0.000</td> <td>   -0.004</td> <td>   -0.003</td>\n",
       "</tr>\n",
       "<tr>\n",
       "  <th>Iws</th>       <td>   -0.0010</td> <td> 2.42e-05</td> <td>  -39.745</td> <td> 0.000</td> <td>   -0.001</td> <td>   -0.001</td>\n",
       "</tr>\n",
       "<tr>\n",
       "  <th>Is</th>        <td>   -0.0025</td> <td>    0.002</td> <td>   -1.502</td> <td> 0.133</td> <td>   -0.006</td> <td>    0.001</td>\n",
       "</tr>\n",
       "<tr>\n",
       "  <th>Ir</th>        <td>   -0.0235</td> <td>    0.001</td> <td>  -28.984</td> <td> 0.000</td> <td>   -0.025</td> <td>   -0.022</td>\n",
       "</tr>\n",
       "</table><br/><br/>The condition number is large, 3.07e+10. This might indicate that there are<br/>strong multicollinearity or other numerical problems."
      ],
      "text/plain": [
       "<class 'statsmodels.iolib.summary.Summary'>\n",
       "\"\"\"\n",
       "                         QuantReg Regression Results                          \n",
       "==============================================================================\n",
       "Dep. Variable:                   pm25   Pseudo R-squared:               0.2614\n",
       "Model:                       QuantReg   Bandwidth:                     0.01908\n",
       "Method:                 Least Squares   Sparsity:                       0.6064\n",
       "Date:                Wed, 27 Feb 2019   No. Observations:                41757\n",
       "Time:                        15:06:25   Df Residuals:                    41745\n",
       "                                        Df Model:                           11\n",
       "==============================================================================\n",
       "                 coef    std err          t      P>|t|      [0.025      0.975]\n",
       "------------------------------------------------------------------------------\n",
       "Intercept   1.017e-06   6.53e-08     15.586      0.000    8.89e-07    1.15e-06\n",
       "No         -7.475e-07   1.01e-07     -7.405      0.000   -9.45e-07    -5.5e-07\n",
       "year           0.0027      0.000     21.855      0.000       0.002       0.003\n",
       "month         -0.0075      0.000    -19.819      0.000      -0.008      -0.007\n",
       "day            0.0014      0.000      9.791      0.000       0.001       0.002\n",
       "hour           0.0048      0.000     23.928      0.000       0.004       0.005\n",
       "DEWP           0.0155      0.000     89.418      0.000       0.015       0.016\n",
       "TEMP          -0.0172      0.000    -77.039      0.000      -0.018      -0.017\n",
       "PRES          -0.0036      0.000    -14.862      0.000      -0.004      -0.003\n",
       "Iws           -0.0010   2.42e-05    -39.745      0.000      -0.001      -0.001\n",
       "Is            -0.0025      0.002     -1.502      0.133      -0.006       0.001\n",
       "Ir            -0.0235      0.001    -28.984      0.000      -0.025      -0.022\n",
       "==============================================================================\n",
       "\n",
       "The condition number is large, 3.07e+10. This might indicate that there are\n",
       "strong multicollinearity or other numerical problems.\n",
       "\"\"\""
      ]
     },
     "execution_count": 60,
     "metadata": {},
     "output_type": "execute_result"
    }
   ],
   "source": [
    "# Okay, this data seems *extremely* skewed\n",
    "# Let's trying logging\n",
    "\n",
    "df['pm25'] = np.log(1 + df['pm25'])\n",
    "quant_mod = smf.quantreg(quant_formula, data=df)\n",
    "quant_reg = quant_mod.fit(q=.25)\n",
    "quant_reg.summary()"
   ]
  },
  {
   "cell_type": "markdown",
   "metadata": {
    "colab_type": "text",
    "id": "8kXcxnNBgizX"
   },
   "source": [
    "Overall - in this case, quantile regression is not *necessarily* superior to linear regression. But it does give us extra flexibility and another thing to tune - what the center of what we're actually fitting in the dependent variable.\n",
    "\n",
    "The basic case of `q=0.5` (the median) minimizes the absolute value of residuals, while OLS minimizes the squared value. By selecting `q=0.25`, we're targeting a lower quantile and are effectively saying that we only want to over-estimate at most 25% of the time - we're being *risk averse*.\n",
    "\n",
    "Depending on the data you're looking at, and the cost of making a false positive versus a false negative, this sort of flexibility can be extremely useful."
   ]
  },
  {
   "cell_type": "markdown",
   "metadata": {
    "colab_type": "text",
    "id": "8kXcxnNBgizX"
   },
   "source": [
    "# Example 2: SkillCraft\n",
    "Data on competitive StarCraft players: http://archive.ics.uci.edu/ml/datasets/SkillCraft1+Master+Table+Dataset"
   ]
  },
  {
   "cell_type": "code",
   "execution_count": 46,
   "metadata": {
    "colab": {},
    "colab_type": "code",
    "id": "ofvwSAZUhWDw"
   },
   "outputs": [],
   "source": [
    "# Hint - we may only care about the *top* quantiles here\n",
    "# Another hint - there are missing values, but Pandas won't see them right away\n",
    "df = pd.read_csv('http://archive.ics.uci.edu/ml/machine-learning-databases/00272/SkillCraft1_Dataset.csv')"
   ]
  },
  {
   "cell_type": "code",
   "execution_count": 47,
   "metadata": {
    "scrolled": true
   },
   "outputs": [
    {
     "data": {
      "text/plain": [
       "Index(['GameID', 'LeagueIndex', 'Age', 'HoursPerWeek', 'TotalHours', 'APM',\n",
       "       'SelectByHotkeys', 'AssignToHotkeys', 'UniqueHotkeys', 'MinimapAttacks',\n",
       "       'MinimapRightClicks', 'NumberOfPACs', 'GapBetweenPACs', 'ActionLatency',\n",
       "       'ActionsInPAC', 'TotalMapExplored', 'WorkersMade', 'UniqueUnitsMade',\n",
       "       'ComplexUnitsMade', 'ComplexAbilitiesUsed'],\n",
       "      dtype='object')"
      ]
     },
     "execution_count": 47,
     "metadata": {},
     "output_type": "execute_result"
    }
   ],
   "source": [
    "df.columns"
   ]
  },
  {
   "cell_type": "code",
   "execution_count": 48,
   "metadata": {},
   "outputs": [
    {
     "data": {
      "text/plain": [
       "GameID                    int64\n",
       "LeagueIndex               int64\n",
       "Age                      object\n",
       "HoursPerWeek             object\n",
       "TotalHours               object\n",
       "APM                     float64\n",
       "SelectByHotkeys         float64\n",
       "AssignToHotkeys         float64\n",
       "UniqueHotkeys             int64\n",
       "MinimapAttacks          float64\n",
       "MinimapRightClicks      float64\n",
       "NumberOfPACs            float64\n",
       "GapBetweenPACs          float64\n",
       "ActionLatency           float64\n",
       "ActionsInPAC            float64\n",
       "TotalMapExplored          int64\n",
       "WorkersMade             float64\n",
       "UniqueUnitsMade           int64\n",
       "ComplexUnitsMade        float64\n",
       "ComplexAbilitiesUsed    float64\n",
       "dtype: object"
      ]
     },
     "execution_count": 48,
     "metadata": {},
     "output_type": "execute_result"
    }
   ],
   "source": [
    "df.dtypes"
   ]
  },
  {
   "cell_type": "code",
   "execution_count": 49,
   "metadata": {},
   "outputs": [],
   "source": [
    "df = df.replace({'?':np.nan})\n",
    "\n",
    "to_nums = ['HoursPerWeek', 'TotalHours', 'Age']\n",
    "\n",
    "for col in to_nums:\n",
    "    df[col] = pd.to_numeric(df[col], errors='coerce')\n",
    "    \n",
    "df = df.dropna()"
   ]
  },
  {
   "cell_type": "code",
   "execution_count": 36,
   "metadata": {
    "scrolled": true
   },
   "outputs": [
    {
     "data": {
      "text/html": [
       "<div>\n",
       "<style scoped>\n",
       "    .dataframe tbody tr th:only-of-type {\n",
       "        vertical-align: middle;\n",
       "    }\n",
       "\n",
       "    .dataframe tbody tr th {\n",
       "        vertical-align: top;\n",
       "    }\n",
       "\n",
       "    .dataframe thead th {\n",
       "        text-align: right;\n",
       "    }\n",
       "</style>\n",
       "<table border=\"1\" class=\"dataframe\">\n",
       "  <thead>\n",
       "    <tr style=\"text-align: right;\">\n",
       "      <th></th>\n",
       "      <th>GameID</th>\n",
       "      <th>LeagueIndex</th>\n",
       "      <th>Age</th>\n",
       "      <th>HoursPerWeek</th>\n",
       "      <th>TotalHours</th>\n",
       "      <th>APM</th>\n",
       "      <th>SelectByHotkeys</th>\n",
       "      <th>AssignToHotkeys</th>\n",
       "      <th>UniqueHotkeys</th>\n",
       "      <th>MinimapAttacks</th>\n",
       "      <th>MinimapRightClicks</th>\n",
       "      <th>NumberOfPACs</th>\n",
       "      <th>GapBetweenPACs</th>\n",
       "      <th>ActionLatency</th>\n",
       "      <th>ActionsInPAC</th>\n",
       "      <th>TotalMapExplored</th>\n",
       "      <th>WorkersMade</th>\n",
       "      <th>UniqueUnitsMade</th>\n",
       "      <th>ComplexUnitsMade</th>\n",
       "      <th>ComplexAbilitiesUsed</th>\n",
       "    </tr>\n",
       "  </thead>\n",
       "  <tbody>\n",
       "    <tr>\n",
       "      <th>count</th>\n",
       "      <td>3338.000000</td>\n",
       "      <td>3338.000000</td>\n",
       "      <td>3338.000000</td>\n",
       "      <td>3338.000000</td>\n",
       "      <td>3338.000000</td>\n",
       "      <td>3338.000000</td>\n",
       "      <td>3338.000000</td>\n",
       "      <td>3338.000000</td>\n",
       "      <td>3338.000000</td>\n",
       "      <td>3338.000000</td>\n",
       "      <td>3338.000000</td>\n",
       "      <td>3338.000000</td>\n",
       "      <td>3338.000000</td>\n",
       "      <td>3338.000000</td>\n",
       "      <td>3338.000000</td>\n",
       "      <td>3338.000000</td>\n",
       "      <td>3338.000000</td>\n",
       "      <td>3338.000000</td>\n",
       "      <td>3338.000000</td>\n",
       "      <td>3338.000000</td>\n",
       "    </tr>\n",
       "    <tr>\n",
       "      <th>mean</th>\n",
       "      <td>4719.552127</td>\n",
       "      <td>4.120731</td>\n",
       "      <td>21.650389</td>\n",
       "      <td>15.909527</td>\n",
       "      <td>960.421809</td>\n",
       "      <td>114.575763</td>\n",
       "      <td>0.004023</td>\n",
       "      <td>0.000364</td>\n",
       "      <td>4.316357</td>\n",
       "      <td>0.000094</td>\n",
       "      <td>0.000380</td>\n",
       "      <td>0.003433</td>\n",
       "      <td>40.713819</td>\n",
       "      <td>64.209584</td>\n",
       "      <td>5.266955</td>\n",
       "      <td>22.116836</td>\n",
       "      <td>0.001031</td>\n",
       "      <td>6.541043</td>\n",
       "      <td>0.000060</td>\n",
       "      <td>0.000142</td>\n",
       "    </tr>\n",
       "    <tr>\n",
       "      <th>std</th>\n",
       "      <td>2656.919630</td>\n",
       "      <td>1.448170</td>\n",
       "      <td>4.206357</td>\n",
       "      <td>11.964495</td>\n",
       "      <td>17318.133922</td>\n",
       "      <td>48.111912</td>\n",
       "      <td>0.004726</td>\n",
       "      <td>0.000210</td>\n",
       "      <td>2.333322</td>\n",
       "      <td>0.000159</td>\n",
       "      <td>0.000359</td>\n",
       "      <td>0.000966</td>\n",
       "      <td>17.057191</td>\n",
       "      <td>19.037394</td>\n",
       "      <td>1.500605</td>\n",
       "      <td>7.440875</td>\n",
       "      <td>0.000520</td>\n",
       "      <td>1.859049</td>\n",
       "      <td>0.000112</td>\n",
       "      <td>0.000266</td>\n",
       "    </tr>\n",
       "    <tr>\n",
       "      <th>min</th>\n",
       "      <td>52.000000</td>\n",
       "      <td>1.000000</td>\n",
       "      <td>16.000000</td>\n",
       "      <td>0.000000</td>\n",
       "      <td>3.000000</td>\n",
       "      <td>22.059600</td>\n",
       "      <td>0.000000</td>\n",
       "      <td>0.000000</td>\n",
       "      <td>0.000000</td>\n",
       "      <td>0.000000</td>\n",
       "      <td>0.000000</td>\n",
       "      <td>0.000679</td>\n",
       "      <td>6.666700</td>\n",
       "      <td>24.632600</td>\n",
       "      <td>2.038900</td>\n",
       "      <td>5.000000</td>\n",
       "      <td>0.000077</td>\n",
       "      <td>2.000000</td>\n",
       "      <td>0.000000</td>\n",
       "      <td>0.000000</td>\n",
       "    </tr>\n",
       "    <tr>\n",
       "      <th>25%</th>\n",
       "      <td>2423.250000</td>\n",
       "      <td>3.000000</td>\n",
       "      <td>19.000000</td>\n",
       "      <td>8.000000</td>\n",
       "      <td>300.000000</td>\n",
       "      <td>79.231500</td>\n",
       "      <td>0.001245</td>\n",
       "      <td>0.000202</td>\n",
       "      <td>3.000000</td>\n",
       "      <td>0.000000</td>\n",
       "      <td>0.000139</td>\n",
       "      <td>0.002743</td>\n",
       "      <td>29.326600</td>\n",
       "      <td>50.886425</td>\n",
       "      <td>4.261525</td>\n",
       "      <td>17.000000</td>\n",
       "      <td>0.000682</td>\n",
       "      <td>5.000000</td>\n",
       "      <td>0.000000</td>\n",
       "      <td>0.000000</td>\n",
       "    </tr>\n",
       "    <tr>\n",
       "      <th>50%</th>\n",
       "      <td>4788.000000</td>\n",
       "      <td>4.000000</td>\n",
       "      <td>21.000000</td>\n",
       "      <td>12.000000</td>\n",
       "      <td>500.000000</td>\n",
       "      <td>107.070300</td>\n",
       "      <td>0.002445</td>\n",
       "      <td>0.000349</td>\n",
       "      <td>4.000000</td>\n",
       "      <td>0.000039</td>\n",
       "      <td>0.000278</td>\n",
       "      <td>0.003376</td>\n",
       "      <td>37.058900</td>\n",
       "      <td>61.296100</td>\n",
       "      <td>5.087050</td>\n",
       "      <td>22.000000</td>\n",
       "      <td>0.000904</td>\n",
       "      <td>6.000000</td>\n",
       "      <td>0.000000</td>\n",
       "      <td>0.000020</td>\n",
       "    </tr>\n",
       "    <tr>\n",
       "      <th>75%</th>\n",
       "      <td>6994.750000</td>\n",
       "      <td>5.000000</td>\n",
       "      <td>24.000000</td>\n",
       "      <td>20.000000</td>\n",
       "      <td>800.000000</td>\n",
       "      <td>140.156100</td>\n",
       "      <td>0.004945</td>\n",
       "      <td>0.000493</td>\n",
       "      <td>6.000000</td>\n",
       "      <td>0.000113</td>\n",
       "      <td>0.000508</td>\n",
       "      <td>0.004003</td>\n",
       "      <td>48.510425</td>\n",
       "      <td>74.032525</td>\n",
       "      <td>6.027350</td>\n",
       "      <td>27.000000</td>\n",
       "      <td>0.001258</td>\n",
       "      <td>8.000000</td>\n",
       "      <td>0.000087</td>\n",
       "      <td>0.000182</td>\n",
       "    </tr>\n",
       "    <tr>\n",
       "      <th>max</th>\n",
       "      <td>9271.000000</td>\n",
       "      <td>7.000000</td>\n",
       "      <td>44.000000</td>\n",
       "      <td>168.000000</td>\n",
       "      <td>1000000.000000</td>\n",
       "      <td>389.831400</td>\n",
       "      <td>0.043088</td>\n",
       "      <td>0.001648</td>\n",
       "      <td>10.000000</td>\n",
       "      <td>0.003019</td>\n",
       "      <td>0.003688</td>\n",
       "      <td>0.007971</td>\n",
       "      <td>237.142900</td>\n",
       "      <td>176.372100</td>\n",
       "      <td>18.558100</td>\n",
       "      <td>58.000000</td>\n",
       "      <td>0.005149</td>\n",
       "      <td>13.000000</td>\n",
       "      <td>0.000902</td>\n",
       "      <td>0.003084</td>\n",
       "    </tr>\n",
       "  </tbody>\n",
       "</table>\n",
       "</div>"
      ],
      "text/plain": [
       "            GameID  LeagueIndex          Age  HoursPerWeek      TotalHours  \\\n",
       "count  3338.000000  3338.000000  3338.000000   3338.000000     3338.000000   \n",
       "mean   4719.552127     4.120731    21.650389     15.909527      960.421809   \n",
       "std    2656.919630     1.448170     4.206357     11.964495    17318.133922   \n",
       "min      52.000000     1.000000    16.000000      0.000000        3.000000   \n",
       "25%    2423.250000     3.000000    19.000000      8.000000      300.000000   \n",
       "50%    4788.000000     4.000000    21.000000     12.000000      500.000000   \n",
       "75%    6994.750000     5.000000    24.000000     20.000000      800.000000   \n",
       "max    9271.000000     7.000000    44.000000    168.000000  1000000.000000   \n",
       "\n",
       "               APM  SelectByHotkeys  AssignToHotkeys  UniqueHotkeys  \\\n",
       "count  3338.000000      3338.000000      3338.000000    3338.000000   \n",
       "mean    114.575763         0.004023         0.000364       4.316357   \n",
       "std      48.111912         0.004726         0.000210       2.333322   \n",
       "min      22.059600         0.000000         0.000000       0.000000   \n",
       "25%      79.231500         0.001245         0.000202       3.000000   \n",
       "50%     107.070300         0.002445         0.000349       4.000000   \n",
       "75%     140.156100         0.004945         0.000493       6.000000   \n",
       "max     389.831400         0.043088         0.001648      10.000000   \n",
       "\n",
       "       MinimapAttacks  MinimapRightClicks  NumberOfPACs  GapBetweenPACs  \\\n",
       "count     3338.000000         3338.000000   3338.000000     3338.000000   \n",
       "mean         0.000094            0.000380      0.003433       40.713819   \n",
       "std          0.000159            0.000359      0.000966       17.057191   \n",
       "min          0.000000            0.000000      0.000679        6.666700   \n",
       "25%          0.000000            0.000139      0.002743       29.326600   \n",
       "50%          0.000039            0.000278      0.003376       37.058900   \n",
       "75%          0.000113            0.000508      0.004003       48.510425   \n",
       "max          0.003019            0.003688      0.007971      237.142900   \n",
       "\n",
       "       ActionLatency  ActionsInPAC  TotalMapExplored  WorkersMade  \\\n",
       "count    3338.000000   3338.000000       3338.000000  3338.000000   \n",
       "mean       64.209584      5.266955         22.116836     0.001031   \n",
       "std        19.037394      1.500605          7.440875     0.000520   \n",
       "min        24.632600      2.038900          5.000000     0.000077   \n",
       "25%        50.886425      4.261525         17.000000     0.000682   \n",
       "50%        61.296100      5.087050         22.000000     0.000904   \n",
       "75%        74.032525      6.027350         27.000000     0.001258   \n",
       "max       176.372100     18.558100         58.000000     0.005149   \n",
       "\n",
       "       UniqueUnitsMade  ComplexUnitsMade  ComplexAbilitiesUsed  \n",
       "count      3338.000000       3338.000000           3338.000000  \n",
       "mean          6.541043          0.000060              0.000142  \n",
       "std           1.859049          0.000112              0.000266  \n",
       "min           2.000000          0.000000              0.000000  \n",
       "25%           5.000000          0.000000              0.000000  \n",
       "50%           6.000000          0.000000              0.000020  \n",
       "75%           8.000000          0.000087              0.000182  \n",
       "max          13.000000          0.000902              0.003084  "
      ]
     },
     "execution_count": 36,
     "metadata": {},
     "output_type": "execute_result"
    }
   ],
   "source": [
    "df.describe()"
   ]
  },
  {
   "cell_type": "code",
   "execution_count": 37,
   "metadata": {},
   "outputs": [
    {
     "data": {
      "image/png": "[encoded data removed]",
      "text/plain": [
       "<Figure size 432x288 with 1 Axes>"
      ]
     },
     "metadata": {},
     "output_type": "display_data"
    }
   ],
   "source": [
    "df['APM'].hist();"
   ]
  },
  {
   "cell_type": "code",
   "execution_count": 38,
   "metadata": {
    "scrolled": true
   },
   "outputs": [
    {
     "data": {
      "image/png": "[encoded data removed]",
      "text/plain": [
       "<Figure size 432x288 with 1 Axes>"
      ]
     },
     "metadata": {},
     "output_type": "display_data"
    }
   ],
   "source": [
    "df['Age'].hist();"
   ]
  },
  {
   "cell_type": "code",
   "execution_count": 40,
   "metadata": {},
   "outputs": [
    {
     "data": {
      "text/plain": [
       "0.9727919594327304"
      ]
     },
     "execution_count": 40,
     "metadata": {},
     "output_type": "execute_result"
    }
   ],
   "source": [
    "from sklearn.linear_model import LinearRegression\n",
    "\n",
    "y = df['APM']\n",
    "X = df.drop(columns='APM')\n",
    "\n",
    "model = LinearRegression()\n",
    "model.fit(X,y)\n",
    "model.score(X,y)"
   ]
  },
  {
   "cell_type": "code",
   "execution_count": 43,
   "metadata": {},
   "outputs": [],
   "source": [
    "import matplotlib.pyplot as plt\n",
    "\n",
    "plt.scatter(df['APM'], )"
   ]
  },
  {
   "cell_type": "markdown",
   "metadata": {
    "colab_type": "text",
    "id": "o2BADEQUirXa"
   },
   "source": [
    "# Example 3: Birth Weight Data\n",
    "\n",
    "Birth weight is a situation where, while the data itself is actually fairly normal and symmetric, our main goal is actually *not* to model mean weight (via OLS), but rather to identify mothers at risk of having children below a certain \"at-risk\" threshold weight. We choose a `q` (quantile) to target a cutoff of 90 ounces - babies above that birth weight are generally healthy/safe, babies below are at-risk.\n",
    "\n",
    "Quantile regression gives us just the tool we need. For the data we are using, see: http://people.reed.edu/~jones/141/BirthWgt.html\n",
    "\n",
    "    bwt: baby's weight in ounces at birth\n",
    "    gestation: duration of pregnancy in days\n",
    "    parity: parity indicator (first born = 1, later birth = 0)\n",
    "    age: mother's age in years\n",
    "    height: mother's height in inches\n",
    "    weight: mother's weight in pounds (during pregnancy)\n",
    "    smoke: indicator for whether mother smokes (1=yes, 0=no) \n",
    "    \n",
    "Hint: mother's age likely is not simply linear in its impact, and the other features may interact as well.\n",
    "\n",
    "- What characteristics of a mother indicate the highest likelihood of an at-risk (low weight) baby?\n",
    "- What can expectant mothers be told to help mitigate this risk?"
   ]
  },
  {
   "cell_type": "code",
   "execution_count": 19,
   "metadata": {
    "colab": {
     "base_uri": "https://localhost:8080/",
     "height": 206
    },
    "colab_type": "code",
    "id": "HUWKv16FjZsY",
    "outputId": "11f1ecab-4058-4e48-ac0f-cd7cf488a2f7"
   },
   "outputs": [
    {
     "name": "stdout",
     "output_type": "stream",
     "text": [
      "(1174, 7)\n"
     ]
    },
    {
     "data": {
      "text/html": [
       "<div>\n",
       "<style scoped>\n",
       "    .dataframe tbody tr th:only-of-type {\n",
       "        vertical-align: middle;\n",
       "    }\n",
       "\n",
       "    .dataframe tbody tr th {\n",
       "        vertical-align: top;\n",
       "    }\n",
       "\n",
       "    .dataframe thead th {\n",
       "        text-align: right;\n",
       "    }\n",
       "</style>\n",
       "<table border=\"1\" class=\"dataframe\">\n",
       "  <thead>\n",
       "    <tr style=\"text-align: right;\">\n",
       "      <th></th>\n",
       "      <th>bwt</th>\n",
       "      <th>gestation</th>\n",
       "      <th>parity</th>\n",
       "      <th>age</th>\n",
       "      <th>height</th>\n",
       "      <th>weight</th>\n",
       "      <th>smoke</th>\n",
       "    </tr>\n",
       "  </thead>\n",
       "  <tbody>\n",
       "    <tr>\n",
       "      <th>0</th>\n",
       "      <td>120</td>\n",
       "      <td>284</td>\n",
       "      <td>0</td>\n",
       "      <td>27</td>\n",
       "      <td>62</td>\n",
       "      <td>100</td>\n",
       "      <td>0</td>\n",
       "    </tr>\n",
       "    <tr>\n",
       "      <th>1</th>\n",
       "      <td>113</td>\n",
       "      <td>282</td>\n",
       "      <td>0</td>\n",
       "      <td>33</td>\n",
       "      <td>64</td>\n",
       "      <td>135</td>\n",
       "      <td>0</td>\n",
       "    </tr>\n",
       "    <tr>\n",
       "      <th>2</th>\n",
       "      <td>128</td>\n",
       "      <td>279</td>\n",
       "      <td>0</td>\n",
       "      <td>28</td>\n",
       "      <td>64</td>\n",
       "      <td>115</td>\n",
       "      <td>1</td>\n",
       "    </tr>\n",
       "    <tr>\n",
       "      <th>3</th>\n",
       "      <td>108</td>\n",
       "      <td>282</td>\n",
       "      <td>0</td>\n",
       "      <td>23</td>\n",
       "      <td>67</td>\n",
       "      <td>125</td>\n",
       "      <td>1</td>\n",
       "    </tr>\n",
       "    <tr>\n",
       "      <th>4</th>\n",
       "      <td>136</td>\n",
       "      <td>286</td>\n",
       "      <td>0</td>\n",
       "      <td>25</td>\n",
       "      <td>62</td>\n",
       "      <td>93</td>\n",
       "      <td>0</td>\n",
       "    </tr>\n",
       "  </tbody>\n",
       "</table>\n",
       "</div>"
      ],
      "text/plain": [
       "   bwt  gestation  parity  age  height  weight  smoke\n",
       "0  120        284       0   27      62     100      0\n",
       "1  113        282       0   33      64     135      0\n",
       "2  128        279       0   28      64     115      1\n",
       "3  108        282       0   23      67     125      1\n",
       "4  136        286       0   25      62      93      0"
      ]
     },
     "execution_count": 19,
     "metadata": {},
     "output_type": "execute_result"
    }
   ],
   "source": [
    "bwt_df = pd.read_csv('http://people.reed.edu/~jones/141/Bwt.dat')\n",
    "print(bwt_df.shape)\n",
    "bwt_df.head()"
   ]
  },
  {
   "cell_type": "code",
   "execution_count": 20,
   "metadata": {
    "colab": {
     "base_uri": "https://localhost:8080/",
     "height": 300
    },
    "colab_type": "code",
    "id": "dy5FkUZpkJT_",
    "outputId": "d4f46328-8e25-4fa5-e5b5-6ffad654c65c"
   },
   "outputs": [
    {
     "data": {
      "text/html": [
       "<div>\n",
       "<style scoped>\n",
       "    .dataframe tbody tr th:only-of-type {\n",
       "        vertical-align: middle;\n",
       "    }\n",
       "\n",
       "    .dataframe tbody tr th {\n",
       "        vertical-align: top;\n",
       "    }\n",
       "\n",
       "    .dataframe thead th {\n",
       "        text-align: right;\n",
       "    }\n",
       "</style>\n",
       "<table border=\"1\" class=\"dataframe\">\n",
       "  <thead>\n",
       "    <tr style=\"text-align: right;\">\n",
       "      <th></th>\n",
       "      <th>bwt</th>\n",
       "      <th>gestation</th>\n",
       "      <th>parity</th>\n",
       "      <th>age</th>\n",
       "      <th>height</th>\n",
       "      <th>weight</th>\n",
       "      <th>smoke</th>\n",
       "    </tr>\n",
       "  </thead>\n",
       "  <tbody>\n",
       "    <tr>\n",
       "      <th>count</th>\n",
       "      <td>1174.000000</td>\n",
       "      <td>1174.000000</td>\n",
       "      <td>1174.000000</td>\n",
       "      <td>1174.000000</td>\n",
       "      <td>1174.000000</td>\n",
       "      <td>1174.000000</td>\n",
       "      <td>1174.000000</td>\n",
       "    </tr>\n",
       "    <tr>\n",
       "      <th>mean</th>\n",
       "      <td>119.462521</td>\n",
       "      <td>279.101363</td>\n",
       "      <td>0.262351</td>\n",
       "      <td>27.228279</td>\n",
       "      <td>64.049404</td>\n",
       "      <td>128.478705</td>\n",
       "      <td>0.390971</td>\n",
       "    </tr>\n",
       "    <tr>\n",
       "      <th>std</th>\n",
       "      <td>18.328671</td>\n",
       "      <td>16.010305</td>\n",
       "      <td>0.440100</td>\n",
       "      <td>5.817839</td>\n",
       "      <td>2.526102</td>\n",
       "      <td>20.734282</td>\n",
       "      <td>0.488176</td>\n",
       "    </tr>\n",
       "    <tr>\n",
       "      <th>min</th>\n",
       "      <td>55.000000</td>\n",
       "      <td>148.000000</td>\n",
       "      <td>0.000000</td>\n",
       "      <td>15.000000</td>\n",
       "      <td>53.000000</td>\n",
       "      <td>87.000000</td>\n",
       "      <td>0.000000</td>\n",
       "    </tr>\n",
       "    <tr>\n",
       "      <th>25%</th>\n",
       "      <td>108.000000</td>\n",
       "      <td>272.000000</td>\n",
       "      <td>0.000000</td>\n",
       "      <td>23.000000</td>\n",
       "      <td>62.000000</td>\n",
       "      <td>114.250000</td>\n",
       "      <td>0.000000</td>\n",
       "    </tr>\n",
       "    <tr>\n",
       "      <th>50%</th>\n",
       "      <td>120.000000</td>\n",
       "      <td>280.000000</td>\n",
       "      <td>0.000000</td>\n",
       "      <td>26.000000</td>\n",
       "      <td>64.000000</td>\n",
       "      <td>125.000000</td>\n",
       "      <td>0.000000</td>\n",
       "    </tr>\n",
       "    <tr>\n",
       "      <th>75%</th>\n",
       "      <td>131.000000</td>\n",
       "      <td>288.000000</td>\n",
       "      <td>1.000000</td>\n",
       "      <td>31.000000</td>\n",
       "      <td>66.000000</td>\n",
       "      <td>139.000000</td>\n",
       "      <td>1.000000</td>\n",
       "    </tr>\n",
       "    <tr>\n",
       "      <th>max</th>\n",
       "      <td>176.000000</td>\n",
       "      <td>353.000000</td>\n",
       "      <td>1.000000</td>\n",
       "      <td>45.000000</td>\n",
       "      <td>72.000000</td>\n",
       "      <td>250.000000</td>\n",
       "      <td>1.000000</td>\n",
       "    </tr>\n",
       "  </tbody>\n",
       "</table>\n",
       "</div>"
      ],
      "text/plain": [
       "               bwt    gestation       parity          age       height  \\\n",
       "count  1174.000000  1174.000000  1174.000000  1174.000000  1174.000000   \n",
       "mean    119.462521   279.101363     0.262351    27.228279    64.049404   \n",
       "std      18.328671    16.010305     0.440100     5.817839     2.526102   \n",
       "min      55.000000   148.000000     0.000000    15.000000    53.000000   \n",
       "25%     108.000000   272.000000     0.000000    23.000000    62.000000   \n",
       "50%     120.000000   280.000000     0.000000    26.000000    64.000000   \n",
       "75%     131.000000   288.000000     1.000000    31.000000    66.000000   \n",
       "max     176.000000   353.000000     1.000000    45.000000    72.000000   \n",
       "\n",
       "            weight        smoke  \n",
       "count  1174.000000  1174.000000  \n",
       "mean    128.478705     0.390971  \n",
       "std      20.734282     0.488176  \n",
       "min      87.000000     0.000000  \n",
       "25%     114.250000     0.000000  \n",
       "50%     125.000000     0.000000  \n",
       "75%     139.000000     1.000000  \n",
       "max     250.000000     1.000000  "
      ]
     },
     "execution_count": 20,
     "metadata": {},
     "output_type": "execute_result"
    }
   ],
   "source": [
    "bwt_df.describe()"
   ]
  },
  {
   "cell_type": "code",
   "execution_count": 21,
   "metadata": {},
   "outputs": [
    {
     "data": {
      "text/plain": [
       "bwt          0\n",
       "gestation    0\n",
       "parity       0\n",
       "age          0\n",
       "height       0\n",
       "weight       0\n",
       "smoke        0\n",
       "dtype: int64"
      ]
     },
     "execution_count": 21,
     "metadata": {},
     "output_type": "execute_result"
    }
   ],
   "source": [
    "bwt_df.isna().sum()"
   ]
  },
  {
   "cell_type": "code",
   "execution_count": 22,
   "metadata": {},
   "outputs": [],
   "source": [
    "target = 'bwt'"
   ]
  },
  {
   "cell_type": "code",
   "execution_count": 24,
   "metadata": {},
   "outputs": [
    {
     "data": {
      "image/png": "[encoded data removed]",
      "text/plain": [
       "<Figure size 1080x180 with 6 Axes>"
      ]
     },
     "metadata": {},
     "output_type": "display_data"
    }
   ],
   "source": [
    "sns.pairplot(data=bwt_df, y_vars=target, x_vars=bwt_df.drop(columns=target).columns,\n",
    "             plot_kws={'alpha': 0.1, 'linewidth':0});"
   ]
  },
  {
   "cell_type": "code",
   "execution_count": 25,
   "metadata": {},
   "outputs": [
    {
     "data": {
      "image/png": "[encoded data removed]",
      "text/plain": [
       "<Figure size 432x288 with 1 Axes>"
      ]
     },
     "metadata": {},
     "output_type": "display_data"
    }
   ],
   "source": [
    "bwt_df['gestation'].hist(bins=100);"
   ]
  },
  {
   "cell_type": "code",
   "execution_count": 26,
   "metadata": {},
   "outputs": [
    {
     "data": {
      "text/html": [
       "<div>\n",
       "<style scoped>\n",
       "    .dataframe tbody tr th:only-of-type {\n",
       "        vertical-align: middle;\n",
       "    }\n",
       "\n",
       "    .dataframe tbody tr th {\n",
       "        vertical-align: top;\n",
       "    }\n",
       "\n",
       "    .dataframe thead th {\n",
       "        text-align: right;\n",
       "    }\n",
       "</style>\n",
       "<table border=\"1\" class=\"dataframe\">\n",
       "  <thead>\n",
       "    <tr style=\"text-align: right;\">\n",
       "      <th></th>\n",
       "      <th>bwt</th>\n",
       "      <th>gestation</th>\n",
       "      <th>parity</th>\n",
       "      <th>age</th>\n",
       "      <th>height</th>\n",
       "      <th>weight</th>\n",
       "      <th>smoke</th>\n",
       "    </tr>\n",
       "  </thead>\n",
       "  <tbody>\n",
       "    <tr>\n",
       "      <th>bwt</th>\n",
       "      <td>1.000000</td>\n",
       "      <td>0.407543</td>\n",
       "      <td>-0.043908</td>\n",
       "      <td>0.026983</td>\n",
       "      <td>0.203704</td>\n",
       "      <td>0.155923</td>\n",
       "      <td>-0.246800</td>\n",
       "    </tr>\n",
       "    <tr>\n",
       "      <th>gestation</th>\n",
       "      <td>0.407543</td>\n",
       "      <td>1.000000</td>\n",
       "      <td>0.080916</td>\n",
       "      <td>-0.053425</td>\n",
       "      <td>0.070470</td>\n",
       "      <td>0.023655</td>\n",
       "      <td>-0.060267</td>\n",
       "    </tr>\n",
       "    <tr>\n",
       "      <th>parity</th>\n",
       "      <td>-0.043908</td>\n",
       "      <td>0.080916</td>\n",
       "      <td>1.000000</td>\n",
       "      <td>-0.351041</td>\n",
       "      <td>0.043543</td>\n",
       "      <td>-0.096362</td>\n",
       "      <td>-0.009599</td>\n",
       "    </tr>\n",
       "    <tr>\n",
       "      <th>age</th>\n",
       "      <td>0.026983</td>\n",
       "      <td>-0.053425</td>\n",
       "      <td>-0.351041</td>\n",
       "      <td>1.000000</td>\n",
       "      <td>-0.006453</td>\n",
       "      <td>0.147322</td>\n",
       "      <td>-0.067772</td>\n",
       "    </tr>\n",
       "    <tr>\n",
       "      <th>height</th>\n",
       "      <td>0.203704</td>\n",
       "      <td>0.070470</td>\n",
       "      <td>0.043543</td>\n",
       "      <td>-0.006453</td>\n",
       "      <td>1.000000</td>\n",
       "      <td>0.435287</td>\n",
       "      <td>0.017507</td>\n",
       "    </tr>\n",
       "    <tr>\n",
       "      <th>weight</th>\n",
       "      <td>0.155923</td>\n",
       "      <td>0.023655</td>\n",
       "      <td>-0.096362</td>\n",
       "      <td>0.147322</td>\n",
       "      <td>0.435287</td>\n",
       "      <td>1.000000</td>\n",
       "      <td>-0.060281</td>\n",
       "    </tr>\n",
       "    <tr>\n",
       "      <th>smoke</th>\n",
       "      <td>-0.246800</td>\n",
       "      <td>-0.060267</td>\n",
       "      <td>-0.009599</td>\n",
       "      <td>-0.067772</td>\n",
       "      <td>0.017507</td>\n",
       "      <td>-0.060281</td>\n",
       "      <td>1.000000</td>\n",
       "    </tr>\n",
       "  </tbody>\n",
       "</table>\n",
       "</div>"
      ],
      "text/plain": [
       "                bwt  gestation    parity       age    height    weight  \\\n",
       "bwt        1.000000   0.407543 -0.043908  0.026983  0.203704  0.155923   \n",
       "gestation  0.407543   1.000000  0.080916 -0.053425  0.070470  0.023655   \n",
       "parity    -0.043908   0.080916  1.000000 -0.351041  0.043543 -0.096362   \n",
       "age        0.026983  -0.053425 -0.351041  1.000000 -0.006453  0.147322   \n",
       "height     0.203704   0.070470  0.043543 -0.006453  1.000000  0.435287   \n",
       "weight     0.155923   0.023655 -0.096362  0.147322  0.435287  1.000000   \n",
       "smoke     -0.246800  -0.060267 -0.009599 -0.067772  0.017507 -0.060281   \n",
       "\n",
       "              smoke  \n",
       "bwt       -0.246800  \n",
       "gestation -0.060267  \n",
       "parity    -0.009599  \n",
       "age       -0.067772  \n",
       "height     0.017507  \n",
       "weight    -0.060281  \n",
       "smoke      1.000000  "
      ]
     },
     "execution_count": 26,
     "metadata": {},
     "output_type": "execute_result"
    }
   ],
   "source": [
    "bwt_df.corr()"
   ]
  },
  {
   "cell_type": "code",
   "execution_count": 27,
   "metadata": {},
   "outputs": [
    {
     "data": {
      "text/html": [
       "<div>\n",
       "<style scoped>\n",
       "    .dataframe tbody tr th:only-of-type {\n",
       "        vertical-align: middle;\n",
       "    }\n",
       "\n",
       "    .dataframe tbody tr th {\n",
       "        vertical-align: top;\n",
       "    }\n",
       "\n",
       "    .dataframe thead th {\n",
       "        text-align: right;\n",
       "    }\n",
       "</style>\n",
       "<table border=\"1\" class=\"dataframe\">\n",
       "  <thead>\n",
       "    <tr style=\"text-align: right;\">\n",
       "      <th></th>\n",
       "      <th>bwt</th>\n",
       "      <th>gestation</th>\n",
       "      <th>parity</th>\n",
       "      <th>age</th>\n",
       "      <th>height</th>\n",
       "      <th>weight</th>\n",
       "      <th>smoke</th>\n",
       "    </tr>\n",
       "  </thead>\n",
       "  <tbody>\n",
       "    <tr>\n",
       "      <th>bwt</th>\n",
       "      <td>335.940197</td>\n",
       "      <td>119.592464</td>\n",
       "      <td>-0.354183</td>\n",
       "      <td>2.877276</td>\n",
       "      <td>9.431521</td>\n",
       "      <td>59.255808</td>\n",
       "      <td>-2.208267</td>\n",
       "    </tr>\n",
       "    <tr>\n",
       "      <th>gestation</th>\n",
       "      <td>119.592464</td>\n",
       "      <td>256.329870</td>\n",
       "      <td>0.570145</td>\n",
       "      <td>-4.976270</td>\n",
       "      <td>2.850060</td>\n",
       "      <td>7.852544</td>\n",
       "      <td>-0.471036</td>\n",
       "    </tr>\n",
       "    <tr>\n",
       "      <th>parity</th>\n",
       "      <td>-0.354183</td>\n",
       "      <td>0.570145</td>\n",
       "      <td>0.193688</td>\n",
       "      <td>-0.898815</td>\n",
       "      <td>0.048409</td>\n",
       "      <td>-0.879319</td>\n",
       "      <td>-0.002062</td>\n",
       "    </tr>\n",
       "    <tr>\n",
       "      <th>age</th>\n",
       "      <td>2.877276</td>\n",
       "      <td>-4.976270</td>\n",
       "      <td>-0.898815</td>\n",
       "      <td>33.847247</td>\n",
       "      <td>-0.094834</td>\n",
       "      <td>17.771276</td>\n",
       "      <td>-0.192481</td>\n",
       "    </tr>\n",
       "    <tr>\n",
       "      <th>height</th>\n",
       "      <td>9.431521</td>\n",
       "      <td>2.850060</td>\n",
       "      <td>0.048409</td>\n",
       "      <td>-0.094834</td>\n",
       "      <td>6.381189</td>\n",
       "      <td>22.799007</td>\n",
       "      <td>0.021589</td>\n",
       "    </tr>\n",
       "    <tr>\n",
       "      <th>weight</th>\n",
       "      <td>59.255808</td>\n",
       "      <td>7.852544</td>\n",
       "      <td>-0.879319</td>\n",
       "      <td>17.771276</td>\n",
       "      <td>22.799007</td>\n",
       "      <td>429.910458</td>\n",
       "      <td>-0.610167</td>\n",
       "    </tr>\n",
       "    <tr>\n",
       "      <th>smoke</th>\n",
       "      <td>-2.208267</td>\n",
       "      <td>-0.471036</td>\n",
       "      <td>-0.002062</td>\n",
       "      <td>-0.192481</td>\n",
       "      <td>0.021589</td>\n",
       "      <td>-0.610167</td>\n",
       "      <td>0.238316</td>\n",
       "    </tr>\n",
       "  </tbody>\n",
       "</table>\n",
       "</div>"
      ],
      "text/plain": [
       "                  bwt   gestation    parity        age     height      weight  \\\n",
       "bwt        335.940197  119.592464 -0.354183   2.877276   9.431521   59.255808   \n",
       "gestation  119.592464  256.329870  0.570145  -4.976270   2.850060    7.852544   \n",
       "parity      -0.354183    0.570145  0.193688  -0.898815   0.048409   -0.879319   \n",
       "age          2.877276   -4.976270 -0.898815  33.847247  -0.094834   17.771276   \n",
       "height       9.431521    2.850060  0.048409  -0.094834   6.381189   22.799007   \n",
       "weight      59.255808    7.852544 -0.879319  17.771276  22.799007  429.910458   \n",
       "smoke       -2.208267   -0.471036 -0.002062  -0.192481   0.021589   -0.610167   \n",
       "\n",
       "              smoke  \n",
       "bwt       -2.208267  \n",
       "gestation -0.471036  \n",
       "parity    -0.002062  \n",
       "age       -0.192481  \n",
       "height     0.021589  \n",
       "weight    -0.610167  \n",
       "smoke      0.238316  "
      ]
     },
     "execution_count": 27,
     "metadata": {},
     "output_type": "execute_result"
    }
   ],
   "source": [
    "bwt_df.cov()"
   ]
  },
  {
   "cell_type": "code",
   "execution_count": 28,
   "metadata": {},
   "outputs": [
    {
     "data": {
      "image/png": "[encoded data removed]",
      "text/plain": [
       "<Figure size 432x288 with 1 Axes>"
      ]
     },
     "metadata": {},
     "output_type": "display_data"
    }
   ],
   "source": [
    "bwt_df['bwt'].hist();"
   ]
  },
  {
   "cell_type": "code",
   "execution_count": 64,
   "metadata": {
    "colab": {},
    "colab_type": "code",
    "id": "Ez8qPLojjlFf"
   },
   "outputs": [
    {
     "name": "stdout",
     "output_type": "stream",
     "text": [
      "bwt ~ gestation + gestation * gestation\n"
     ]
    },
    {
     "data": {
      "text/html": [
       "<table class=\"simpletable\">\n",
       "<caption>QuantReg Regression Results</caption>\n",
       "<tr>\n",
       "  <th>Dep. Variable:</th>        <td>bwt</td>       <th>  Pseudo R-squared:  </th> <td>  0.1621</td>\n",
       "</tr>\n",
       "<tr>\n",
       "  <th>Model:</th>             <td>QuantReg</td>     <th>  Bandwidth:         </th> <td>   6.299</td>\n",
       "</tr>\n",
       "<tr>\n",
       "  <th>Method:</th>          <td>Least Squares</td>  <th>  Sparsity:          </th> <td>   132.1</td>\n",
       "</tr>\n",
       "<tr>\n",
       "  <th>Date:</th>          <td>Wed, 27 Feb 2019</td> <th>  No. Observations:  </th>  <td>  1174</td> \n",
       "</tr>\n",
       "<tr>\n",
       "  <th>Time:</th>              <td>18:42:15</td>     <th>  Df Residuals:      </th>  <td>  1172</td> \n",
       "</tr>\n",
       "<tr>\n",
       "  <th> </th>                      <td> </td>        <th>  Df Model:          </th>  <td>     1</td> \n",
       "</tr>\n",
       "</table>\n",
       "<table class=\"simpletable\">\n",
       "<tr>\n",
       "      <td></td>         <th>coef</th>     <th>std err</th>      <th>t</th>      <th>P>|t|</th>  <th>[0.025</th>    <th>0.975]</th>  \n",
       "</tr>\n",
       "<tr>\n",
       "  <th>Intercept</th> <td>  -50.0625</td> <td>   26.020</td> <td>   -1.924</td> <td> 0.055</td> <td> -101.113</td> <td>    0.988</td>\n",
       "</tr>\n",
       "<tr>\n",
       "  <th>gestation</th> <td>    0.5156</td> <td>    0.093</td> <td>    5.535</td> <td> 0.000</td> <td>    0.333</td> <td>    0.698</td>\n",
       "</tr>\n",
       "</table><br/><br/>The condition number is large, 4.88e+03. This might indicate that there are<br/>strong multicollinearity or other numerical problems."
      ],
      "text/plain": [
       "<class 'statsmodels.iolib.summary.Summary'>\n",
       "\"\"\"\n",
       "                         QuantReg Regression Results                          \n",
       "==============================================================================\n",
       "Dep. Variable:                    bwt   Pseudo R-squared:               0.1621\n",
       "Model:                       QuantReg   Bandwidth:                       6.299\n",
       "Method:                 Least Squares   Sparsity:                        132.1\n",
       "Date:                Wed, 27 Feb 2019   No. Observations:                 1174\n",
       "Time:                        18:42:15   Df Residuals:                     1172\n",
       "                                        Df Model:                            1\n",
       "==============================================================================\n",
       "                 coef    std err          t      P>|t|      [0.025      0.975]\n",
       "------------------------------------------------------------------------------\n",
       "Intercept    -50.0625     26.020     -1.924      0.055    -101.113       0.988\n",
       "gestation      0.5156      0.093      5.535      0.000       0.333       0.698\n",
       "==============================================================================\n",
       "\n",
       "The condition number is large, 4.88e+03. This might indicate that there are\n",
       "strong multicollinearity or other numerical problems.\n",
       "\"\"\""
      ]
     },
     "execution_count": 64,
     "metadata": {},
     "output_type": "execute_result"
    }
   ],
   "source": [
    "q = sum(bwt_df[target] <= 90) / len(bwt_df[target])\n",
    "quant_formula = target + (' ~ gestation + gestation * gestation')\n",
    "print(quant_formula)\n",
    "model = smf.quantreg(quant_formula, data=bwt_df)\n",
    "quant_reg = model.fit(q=q)\n",
    "quant_reg.summary()"
   ]
  },
  {
   "cell_type": "code",
   "execution_count": 37,
   "metadata": {
    "scrolled": false
   },
   "outputs": [
    {
     "name": "stderr",
     "output_type": "stream",
     "text": [
      "C:\\Users\\City_Year\\Anaconda3\\lib\\site-packages\\statsmodels\\nonparametric\\smoothers_lowess.py:165: RuntimeWarning: invalid value encountered in true_divide\n",
      "  res = _lowess(y, x, frac=frac, it=it, delta=delta)\n",
      "C:\\Users\\City_Year\\Anaconda3\\lib\\site-packages\\numpy\\lib\\function_base.py:4033: RuntimeWarning: Invalid value encountered in median\n",
      "  r = func(a, **kwargs)\n",
      "C:\\Users\\City_Year\\Anaconda3\\lib\\site-packages\\statsmodels\\nonparametric\\smoothers_lowess.py:165: RuntimeWarning: invalid value encountered in greater_equal\n",
      "  res = _lowess(y, x, frac=frac, it=it, delta=delta)\n"
     ]
    },
    {
     "data": {
      "image/png": "[encoded data removed]",
      "text/plain": [
       "<Figure size 1296x1728 with 6 Axes>"
      ]
     },
     "metadata": {},
     "output_type": "display_data"
    }
   ],
   "source": [
    "def ceil(a, b=1):\n",
    "     return int(-(-a // b))\n",
    "\n",
    "    \n",
    "predictors = bwt_df.drop(columns=target).columns\n",
    "n_plots = len(predictors)\n",
    "fig, axs = plt.subplots(ncols=2, \n",
    "                        nrows=ceil(len(predictors), 2),\n",
    "                        figsize=(3*n_plots,4*n_plots))\n",
    "\n",
    "for i, col in enumerate(predictors):\n",
    "    row_i = i // 2\n",
    "    col_i = i % 2\n",
    "    ax = axs[row_i][col_i]\n",
    "    sns.residplot(bwt_df[col], bwt_df[target], lowess=True, color=\"r\", \n",
    "                  ax=ax, scatter_kws={'color':'blue'})"
   ]
  }
 ],
 "metadata": {
  "colab": {
   "name": "LS_DS2_233_Quantile_Regression.ipynb",
   "provenance": [],
   "version": "0.3.2"
  },
  "kernelspec": {
   "display_name": "Python 3",
   "language": "python",
   "name": "python3"
  },
  "language_info": {
   "codemirror_mode": {
    "name": "ipython",
    "version": 3
   },
   "file_extension": ".py",
   "mimetype": "text/x-python",
   "name": "python",
   "nbconvert_exporter": "python",
   "pygments_lexer": "ipython3",
   "version": "3.6.4"
  }
 },
 "nbformat": 4,
 "nbformat_minor": 1
}
