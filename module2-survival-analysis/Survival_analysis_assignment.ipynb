{
 "cells": [
  {
   "cell_type": "markdown",
   "metadata": {},
   "source": [
    "## Assignment - Customer Churn\n",
    "\n",
    "Treselle Systems, a data consulting service, analyzed customer churn data using logistic regression. For simply modeling whether or not a customer left this can work, but if we want to model the actual tenure of a customer, survival analysis is more appropriate.\n",
    "\n",
    "The \"tenure\" feature represents the duration that a given customer has been with them, and \"churn\" represents whether or not that customer left (i.e. the \"event\", from a survival analysis perspective). So, any situation where churn is \"no\" means that a customer is still active, and so from a survival analysis perspective the observation is censored (we have their tenure up to now, but we don't know their true duration until event).\n",
    "\n",
    "Your assignment is to use their data to fit a survival model, and answer the following questions:\n",
    "\n",
    "    What features best model customer churn?\n",
    "    What would you characterize as the \"warning signs\" that a customer may discontinue service?\n",
    "    What actions would you recommend to this business to try to improve their customer retention?\n",
    "\n",
    "Please create at least 3 plots or visualizations to support your findings, and in general write your summary/results targeting an \"interested layperson\" (e.g. your hypothetical business manager) as your audience.\n",
    "\n",
    "This means that, as is often the case in data science, there isn't a single objective right answer - your goal is to support your answer, whatever it is, with data and reasoning.\n",
    "\n",
    "Good luck!"
   ]
  },
  {
   "cell_type": "code",
   "execution_count": 1,
   "metadata": {},
   "outputs": [],
   "source": [
    "import pandas as pd\n",
    "import matplotlib.pyplot as plt\n",
    "import numpy as np\n",
    "import lifelines"
   ]
  },
  {
   "cell_type": "code",
   "execution_count": 2,
   "metadata": {},
   "outputs": [
    {
     "data": {
      "text/html": [
       "<div>\n",
       "<style scoped>\n",
       "    .dataframe tbody tr th:only-of-type {\n",
       "        vertical-align: middle;\n",
       "    }\n",
       "\n",
       "    .dataframe tbody tr th {\n",
       "        vertical-align: top;\n",
       "    }\n",
       "\n",
       "    .dataframe thead th {\n",
       "        text-align: right;\n",
       "    }\n",
       "</style>\n",
       "<table border=\"1\" class=\"dataframe\">\n",
       "  <thead>\n",
       "    <tr style=\"text-align: right;\">\n",
       "      <th></th>\n",
       "      <th>customerID</th>\n",
       "      <th>gender</th>\n",
       "      <th>SeniorCitizen</th>\n",
       "      <th>Partner</th>\n",
       "      <th>Dependents</th>\n",
       "      <th>tenure</th>\n",
       "      <th>PhoneService</th>\n",
       "      <th>MultipleLines</th>\n",
       "      <th>InternetService</th>\n",
       "      <th>OnlineSecurity</th>\n",
       "      <th>...</th>\n",
       "      <th>DeviceProtection</th>\n",
       "      <th>TechSupport</th>\n",
       "      <th>StreamingTV</th>\n",
       "      <th>StreamingMovies</th>\n",
       "      <th>Contract</th>\n",
       "      <th>PaperlessBilling</th>\n",
       "      <th>PaymentMethod</th>\n",
       "      <th>MonthlyCharges</th>\n",
       "      <th>TotalCharges</th>\n",
       "      <th>Churn</th>\n",
       "    </tr>\n",
       "  </thead>\n",
       "  <tbody>\n",
       "    <tr>\n",
       "      <th>0</th>\n",
       "      <td>7590-VHVEG</td>\n",
       "      <td>Female</td>\n",
       "      <td>0</td>\n",
       "      <td>Yes</td>\n",
       "      <td>No</td>\n",
       "      <td>1</td>\n",
       "      <td>No</td>\n",
       "      <td>No phone service</td>\n",
       "      <td>DSL</td>\n",
       "      <td>No</td>\n",
       "      <td>...</td>\n",
       "      <td>No</td>\n",
       "      <td>No</td>\n",
       "      <td>No</td>\n",
       "      <td>No</td>\n",
       "      <td>Month-to-month</td>\n",
       "      <td>Yes</td>\n",
       "      <td>Electronic check</td>\n",
       "      <td>29.85</td>\n",
       "      <td>29.85</td>\n",
       "      <td>No</td>\n",
       "    </tr>\n",
       "    <tr>\n",
       "      <th>1</th>\n",
       "      <td>5575-GNVDE</td>\n",
       "      <td>Male</td>\n",
       "      <td>0</td>\n",
       "      <td>No</td>\n",
       "      <td>No</td>\n",
       "      <td>34</td>\n",
       "      <td>Yes</td>\n",
       "      <td>No</td>\n",
       "      <td>DSL</td>\n",
       "      <td>Yes</td>\n",
       "      <td>...</td>\n",
       "      <td>Yes</td>\n",
       "      <td>No</td>\n",
       "      <td>No</td>\n",
       "      <td>No</td>\n",
       "      <td>One year</td>\n",
       "      <td>No</td>\n",
       "      <td>Mailed check</td>\n",
       "      <td>56.95</td>\n",
       "      <td>1889.5</td>\n",
       "      <td>No</td>\n",
       "    </tr>\n",
       "    <tr>\n",
       "      <th>2</th>\n",
       "      <td>3668-QPYBK</td>\n",
       "      <td>Male</td>\n",
       "      <td>0</td>\n",
       "      <td>No</td>\n",
       "      <td>No</td>\n",
       "      <td>2</td>\n",
       "      <td>Yes</td>\n",
       "      <td>No</td>\n",
       "      <td>DSL</td>\n",
       "      <td>Yes</td>\n",
       "      <td>...</td>\n",
       "      <td>No</td>\n",
       "      <td>No</td>\n",
       "      <td>No</td>\n",
       "      <td>No</td>\n",
       "      <td>Month-to-month</td>\n",
       "      <td>Yes</td>\n",
       "      <td>Mailed check</td>\n",
       "      <td>53.85</td>\n",
       "      <td>108.15</td>\n",
       "      <td>Yes</td>\n",
       "    </tr>\n",
       "    <tr>\n",
       "      <th>3</th>\n",
       "      <td>7795-CFOCW</td>\n",
       "      <td>Male</td>\n",
       "      <td>0</td>\n",
       "      <td>No</td>\n",
       "      <td>No</td>\n",
       "      <td>45</td>\n",
       "      <td>No</td>\n",
       "      <td>No phone service</td>\n",
       "      <td>DSL</td>\n",
       "      <td>Yes</td>\n",
       "      <td>...</td>\n",
       "      <td>Yes</td>\n",
       "      <td>Yes</td>\n",
       "      <td>No</td>\n",
       "      <td>No</td>\n",
       "      <td>One year</td>\n",
       "      <td>No</td>\n",
       "      <td>Bank transfer (automatic)</td>\n",
       "      <td>42.30</td>\n",
       "      <td>1840.75</td>\n",
       "      <td>No</td>\n",
       "    </tr>\n",
       "    <tr>\n",
       "      <th>4</th>\n",
       "      <td>9237-HQITU</td>\n",
       "      <td>Female</td>\n",
       "      <td>0</td>\n",
       "      <td>No</td>\n",
       "      <td>No</td>\n",
       "      <td>2</td>\n",
       "      <td>Yes</td>\n",
       "      <td>No</td>\n",
       "      <td>Fiber optic</td>\n",
       "      <td>No</td>\n",
       "      <td>...</td>\n",
       "      <td>No</td>\n",
       "      <td>No</td>\n",
       "      <td>No</td>\n",
       "      <td>No</td>\n",
       "      <td>Month-to-month</td>\n",
       "      <td>Yes</td>\n",
       "      <td>Electronic check</td>\n",
       "      <td>70.70</td>\n",
       "      <td>151.65</td>\n",
       "      <td>Yes</td>\n",
       "    </tr>\n",
       "  </tbody>\n",
       "</table>\n",
       "<p>5 rows × 21 columns</p>\n",
       "</div>"
      ],
      "text/plain": [
       "   customerID  gender  SeniorCitizen Partner Dependents  tenure PhoneService  \\\n",
       "0  7590-VHVEG  Female              0     Yes         No       1           No   \n",
       "1  5575-GNVDE    Male              0      No         No      34          Yes   \n",
       "2  3668-QPYBK    Male              0      No         No       2          Yes   \n",
       "3  7795-CFOCW    Male              0      No         No      45           No   \n",
       "4  9237-HQITU  Female              0      No         No       2          Yes   \n",
       "\n",
       "      MultipleLines InternetService OnlineSecurity  ...  DeviceProtection  \\\n",
       "0  No phone service             DSL             No  ...                No   \n",
       "1                No             DSL            Yes  ...               Yes   \n",
       "2                No             DSL            Yes  ...                No   \n",
       "3  No phone service             DSL            Yes  ...               Yes   \n",
       "4                No     Fiber optic             No  ...                No   \n",
       "\n",
       "  TechSupport StreamingTV StreamingMovies        Contract PaperlessBilling  \\\n",
       "0          No          No              No  Month-to-month              Yes   \n",
       "1          No          No              No        One year               No   \n",
       "2          No          No              No  Month-to-month              Yes   \n",
       "3         Yes          No              No        One year               No   \n",
       "4          No          No              No  Month-to-month              Yes   \n",
       "\n",
       "               PaymentMethod MonthlyCharges  TotalCharges Churn  \n",
       "0           Electronic check          29.85         29.85    No  \n",
       "1               Mailed check          56.95        1889.5    No  \n",
       "2               Mailed check          53.85        108.15   Yes  \n",
       "3  Bank transfer (automatic)          42.30       1840.75    No  \n",
       "4           Electronic check          70.70        151.65   Yes  \n",
       "\n",
       "[5 rows x 21 columns]"
      ]
     },
     "execution_count": 2,
     "metadata": {},
     "output_type": "execute_result"
    }
   ],
   "source": [
    "# Loading the data to get you started\n",
    "churn_data = pd.read_csv(\n",
    "    'https://raw.githubusercontent.com/treselle-systems/'\n",
    "    'customer_churn_analysis/master/WA_Fn-UseC_-Telco-Customer-Churn.csv')\n",
    "churn_data.head()"
   ]
  },
  {
   "cell_type": "code",
   "execution_count": 3,
   "metadata": {},
   "outputs": [
    {
     "name": "stdout",
     "output_type": "stream",
     "text": [
      "<class 'pandas.core.frame.DataFrame'>\n",
      "RangeIndex: 7043 entries, 0 to 7042\n",
      "Data columns (total 21 columns):\n",
      "customerID          7043 non-null object\n",
      "gender              7043 non-null object\n",
      "SeniorCitizen       7043 non-null int64\n",
      "Partner             7043 non-null object\n",
      "Dependents          7043 non-null object\n",
      "tenure              7043 non-null int64\n",
      "PhoneService        7043 non-null object\n",
      "MultipleLines       7043 non-null object\n",
      "InternetService     7043 non-null object\n",
      "OnlineSecurity      7043 non-null object\n",
      "OnlineBackup        7043 non-null object\n",
      "DeviceProtection    7043 non-null object\n",
      "TechSupport         7043 non-null object\n",
      "StreamingTV         7043 non-null object\n",
      "StreamingMovies     7043 non-null object\n",
      "Contract            7043 non-null object\n",
      "PaperlessBilling    7043 non-null object\n",
      "PaymentMethod       7043 non-null object\n",
      "MonthlyCharges      7043 non-null float64\n",
      "TotalCharges        7043 non-null object\n",
      "Churn               7043 non-null object\n",
      "dtypes: float64(1), int64(2), object(18)\n",
      "memory usage: 1.1+ MB\n"
     ]
    }
   ],
   "source": [
    "churn_data.info()  # A lot of these are \"object\" - some may need to be fixed..."
   ]
  },
  {
   "cell_type": "code",
   "execution_count": 149,
   "metadata": {},
   "outputs": [
    {
     "data": {
      "text/plain": [
       "array(['DSL', 'Fiber optic', 0], dtype=object)"
      ]
     },
     "execution_count": 149,
     "metadata": {},
     "output_type": "execute_result"
    }
   ],
   "source": [
    "churn_data[\"InternetService\"].unique()"
   ]
  },
  {
   "cell_type": "markdown",
   "metadata": {},
   "source": [
    "## Clean data"
   ]
  },
  {
   "cell_type": "code",
   "execution_count": 5,
   "metadata": {},
   "outputs": [],
   "source": [
    "churn_data = churn_data.replace(\"Yes\",1)\n",
    "churn_data =churn_data.replace(\"No\",0)"
   ]
  },
  {
   "cell_type": "code",
   "execution_count": 6,
   "metadata": {},
   "outputs": [],
   "source": [
    "churn_data[\"Number_lines\"] = churn_data[\"MultipleLines\"].apply(lambda x : 0 if type(x)==str else x+1)"
   ]
  },
  {
   "cell_type": "code",
   "execution_count": 97,
   "metadata": {},
   "outputs": [
    {
     "data": {
      "text/plain": [
       "' '"
      ]
     },
     "execution_count": 97,
     "metadata": {},
     "output_type": "execute_result"
    }
   ],
   "source": [
    "churn_data[\"TotalCharges\"].min()"
   ]
  },
  {
   "cell_type": "code",
   "execution_count": 98,
   "metadata": {},
   "outputs": [],
   "source": [
    "churn_data[\"TotalCharges\"] = churn_data[\"TotalCharges\"].apply(lambda x : 0 if x == \" \" else float(x))"
   ]
  },
  {
   "cell_type": "code",
   "execution_count": 99,
   "metadata": {},
   "outputs": [],
   "source": [
    "\n",
    "churn_data[\"TotalCharges\"] = churn_data[\"TotalCharges\"].apply(lambda x : x if type(x)==float \\\n",
    "                                                              else (churn_data[\"MonthlyCharges\"][x] * \\\n",
    "                                                                   churn_data[\"tenure\"]))"
   ]
  },
  {
   "cell_type": "code",
   "execution_count": 122,
   "metadata": {},
   "outputs": [
    {
     "data": {
      "text/plain": [
       "numpy.float64"
      ]
     },
     "execution_count": 122,
     "metadata": {},
     "output_type": "execute_result"
    }
   ],
   "source": [
    "type(churn_data[\"MonthlyCharges\"][0])"
   ]
  },
  {
   "cell_type": "code",
   "execution_count": 100,
   "metadata": {},
   "outputs": [
    {
     "name": "stdout",
     "output_type": "stream",
     "text": [
      "0    0.5\n",
      "dtype: float64\n"
     ]
    },
    {
     "data": {
      "text/plain": [
       "<lifelines.KaplanMeierFitter: fitted with 7043 observations, 5174 censored>"
      ]
     },
     "execution_count": 100,
     "metadata": {},
     "output_type": "execute_result"
    }
   ],
   "source": [
    "kmf = lifelines.KaplanMeierFitter()\n",
    "kmf.fit(churn_data[\"tenure\"], event_observed=churn_data[\"Churn\"])"
   ]
  },
  {
   "cell_type": "code",
   "execution_count": 101,
   "metadata": {},
   "outputs": [
    {
     "data": {
      "text/plain": [
       "<matplotlib.axes._subplots.AxesSubplot at 0x1842dbd6710>"
      ]
     },
     "execution_count": 101,
     "metadata": {},
     "output_type": "execute_result"
    },
    {
     "data": {
      "image/png": "[encoded data removed]",
      "text/plain": [
       "<Figure size 432x288 with 1 Axes>"
      ]
     },
     "metadata": {},
     "output_type": "display_data"
    }
   ],
   "source": [
    "kmf.survival_function_.plot()"
   ]
  },
  {
   "cell_type": "code",
   "execution_count": 102,
   "metadata": {},
   "outputs": [
    {
     "data": {
      "text/plain": [
       "array([0, 1, 2], dtype=int64)"
      ]
     },
     "execution_count": 102,
     "metadata": {},
     "output_type": "execute_result"
    }
   ],
   "source": [
    "churn_data[\"Contract\"].unique()"
   ]
  },
  {
   "cell_type": "code",
   "execution_count": 150,
   "metadata": {},
   "outputs": [],
   "source": [
    "churn_data[\"hasInternetService\"] = churn_data[\"InternetService\"].apply(lambda x : x if x==0 else 1 )"
   ]
  },
  {
   "cell_type": "code",
   "execution_count": 103,
   "metadata": {},
   "outputs": [],
   "source": [
    "churn_data[\"Contract\"] = churn_data[\"Contract\"].replace('Month-to-month',0)\n",
    "churn_data[\"Contract\"] = churn_data[\"Contract\"].replace('One year',1)\n",
    "churn_data[\"Contract\"] = churn_data[\"Contract\"].replace('Two year',2)"
   ]
  },
  {
   "cell_type": "code",
   "execution_count": 104,
   "metadata": {},
   "outputs": [],
   "source": [
    "churn_data[\"Gender\"] = churn_data[\"gender\"]\n",
    "churn_data[\"Gender\"] = churn_data[\"Gender\"].replace(\"Female\",0)\n",
    "churn_data[\"Gender\"] = churn_data[\"Gender\"].replace(\"Male\",1)"
   ]
  },
  {
   "cell_type": "code",
   "execution_count": 105,
   "metadata": {},
   "outputs": [],
   "source": [
    "churn_data[\"StreamingMovies\"] = churn_data[\"StreamingMovies\"].replace(\"No internet service\", 0)"
   ]
  },
  {
   "cell_type": "code",
   "execution_count": 140,
   "metadata": {},
   "outputs": [],
   "source": [
    "churn_data[\"DeviceProtection\"] = churn_data[\"DeviceProtection\"].replace(\"No internet service\", 0)"
   ]
  },
  {
   "cell_type": "code",
   "execution_count": 132,
   "metadata": {},
   "outputs": [],
   "source": [
    "churn_data[\"OnlineBackup\"] = churn_data[\"OnlineBackup\"].replace(\"No internet service\", 0)"
   ]
  },
  {
   "cell_type": "code",
   "execution_count": 106,
   "metadata": {},
   "outputs": [],
   "source": [
    "churn_data[\"StreamingTV\"] = churn_data[\"StreamingTV\"].replace(\"No internet service\", 0)"
   ]
  },
  {
   "cell_type": "code",
   "execution_count": 145,
   "metadata": {},
   "outputs": [],
   "source": [
    "churn_data[\"TechSupport\"] = churn_data[\"TechSupport\"].replace(\"No internet service\", 0)"
   ]
  },
  {
   "cell_type": "code",
   "execution_count": 107,
   "metadata": {},
   "outputs": [],
   "source": [
    "churn_data[\"OnlineSecurity\"] = churn_data[\"OnlineSecurity\"].replace(\"No internet service\", 0)"
   ]
  },
  {
   "cell_type": "markdown",
   "metadata": {},
   "source": [
    "## Utilities"
   ]
  },
  {
   "cell_type": "code",
   "execution_count": 108,
   "metadata": {},
   "outputs": [],
   "source": [
    "time= churn_data[\"tenure\"]\n",
    "churn = churn_data[\"Churn\"]"
   ]
  },
  {
   "cell_type": "code",
   "execution_count": 109,
   "metadata": {},
   "outputs": [
    {
     "data": {
      "image/png": "[encoded data removed]",
      "text/plain": [
       "<Figure size 432x288 with 1 Axes>"
      ]
     },
     "metadata": {},
     "output_type": "display_data"
    }
   ],
   "source": [
    "churn_sample = churn_data.sample(n=80)\n",
    "time_s = churn_sample.tenure.values\n",
    "churn_s = churn_sample.Churn.values\n",
    "ax = lifelines.plotting.plot_lifetimes(time_s, event_observed=churn_s)"
   ]
  },
  {
   "cell_type": "markdown",
   "metadata": {},
   "source": [
    "## Cox Proportional Hazards Model"
   ]
  },
  {
   "cell_type": "code",
   "execution_count": 110,
   "metadata": {},
   "outputs": [
    {
     "data": {
      "text/plain": [
       "72"
      ]
     },
     "execution_count": 110,
     "metadata": {},
     "output_type": "execute_result"
    }
   ],
   "source": [
    "churn_data[\"tenure\"].max()"
   ]
  },
  {
   "cell_type": "code",
   "execution_count": 167,
   "metadata": {},
   "outputs": [],
   "source": [
    "cph_data = churn_data[[\"SeniorCitizen\",\"Partner\",\"Dependents\",\"PhoneService\",\"Number_lines\",\\\n",
    "                       \"tenure\",\"Churn\",\"Gender\",\"PaperlessBilling\",\"StreamingMovies\",\"StreamingTV\",\\\n",
    "                     \"TotalCharges\", \"MonthlyCharges\",\"OnlineSecurity\",\"OnlineBackup\",\"DeviceProtection\",\\\n",
    "                      \"TechSupport\",\"hasInternetService\"]]"
   ]
  },
  {
   "cell_type": "code",
   "execution_count": 168,
   "metadata": {},
   "outputs": [
    {
     "data": {
      "text/plain": [
       "<lifelines.CoxPHFitter: fitted with 7043 observations, 5174 censored>"
      ]
     },
     "execution_count": 168,
     "metadata": {},
     "output_type": "execute_result"
    }
   ],
   "source": [
    "cph = lifelines.CoxPHFitter()\n",
    "cph.fit(cph_data,  \"tenure\", \"Churn\")"
   ]
  },
  {
   "cell_type": "code",
   "execution_count": 169,
   "metadata": {},
   "outputs": [
    {
     "data": {
      "text/plain": [
       "<matplotlib.axes._subplots.AxesSubplot at 0x1843091db70>"
      ]
     },
     "execution_count": 169,
     "metadata": {},
     "output_type": "execute_result"
    },
    {
     "data": {
      "image/png": "[encoded data removed]",
      "text/plain": [
       "<Figure size 432x288 with 1 Axes>"
      ]
     },
     "metadata": {},
     "output_type": "display_data"
    }
   ],
   "source": [
    "cph.plot()"
   ]
  },
  {
   "cell_type": "code",
   "execution_count": 170,
   "metadata": {},
   "outputs": [
    {
     "name": "stdout",
     "output_type": "stream",
     "text": [
      "<lifelines.CoxPHFitter: fitted with 7043 observations, 5174 censored>\n",
      "      duration col = 'tenure'\n",
      "         event col = 'Churn'\n",
      "number of subjects = 7043\n",
      "  number of events = 1869\n",
      "    log-likelihood = -12957.02\n",
      "  time fit was run = 2019-01-23 05:16:43 UTC\n",
      "\n",
      "---\n",
      "                    coef  exp(coef)  se(coef)      z      p  log(p)  lower 0.95  upper 0.95     \n",
      "SeniorCitizen       0.09       1.10      0.06   1.62   0.11   -2.25       -0.02        0.20     \n",
      "Partner            -0.20       0.82      0.06  -3.67 <0.005   -8.31       -0.31       -0.09   **\n",
      "Dependents         -0.17       0.84      0.07  -2.45   0.01   -4.26       -0.31       -0.03    .\n",
      "PhoneService        0.01       1.01      0.14   0.06   0.95   -0.05       -0.27        0.29     \n",
      "Number_lines       -0.14       0.87      0.05  -2.51   0.01   -4.43       -0.24       -0.03    .\n",
      "Gender             -0.04       0.96      0.05  -0.86   0.39   -0.95       -0.13        0.05     \n",
      "PaperlessBilling    0.24       1.27      0.06   4.20 <0.005  -10.53        0.13        0.35  ***\n",
      "StreamingMovies    -0.20       0.82      0.06  -3.25 <0.005   -6.78       -0.32       -0.08    *\n",
      "StreamingTV        -0.20       0.82      0.06  -3.19 <0.005   -6.54       -0.32       -0.08    *\n",
      "TotalCharges       -0.00       1.00      0.00 -40.66 <0.005    -inf       -0.00       -0.00  ***\n",
      "MonthlyCharges      0.06       1.06      0.00  20.45 <0.005 -212.35        0.06        0.07  ***\n",
      "OnlineSecurity     -0.61       0.55      0.07  -8.90 <0.005  -42.00       -0.74       -0.47  ***\n",
      "OnlineBackup       -0.30       0.74      0.06  -5.46 <0.005  -16.84       -0.41       -0.19  ***\n",
      "DeviceProtection   -0.27       0.76      0.06  -4.86 <0.005  -13.67       -0.38       -0.16  ***\n",
      "TechSupport        -0.55       0.58      0.07  -8.24 <0.005  -36.32       -0.68       -0.42  ***\n",
      "hasInternetService  2.80      16.36      0.18  15.33 <0.005 -120.52        2.44        3.15  ***\n",
      "---\n",
      "Signif. codes: 0 '***' 0.0001 '**' 0.001 '*' 0.01 '.' 0.05 ' ' 1\n",
      "\n",
      "Concordance = 0.92\n",
      "Likelihood ratio test = 5392.04 on 16 df, log(p)=-inf\n"
     ]
    }
   ],
   "source": [
    "cph.print_summary()"
   ]
  },
  {
   "cell_type": "markdown",
   "metadata": {},
   "source": [
    "## Contract"
   ]
  },
  {
   "cell_type": "code",
   "execution_count": 18,
   "metadata": {},
   "outputs": [],
   "source": [
    "contract = churn_data[\"Contract\"]"
   ]
  },
  {
   "cell_type": "code",
   "execution_count": 19,
   "metadata": {},
   "outputs": [],
   "source": [
    "month_to_month = (churn_data[\"Contract\"] == 0)\n",
    "one_year = (churn_data[\"Contract\"]==1)\n",
    "two_year = (churn_data[\"Contract\"]==2)"
   ]
  },
  {
   "cell_type": "code",
   "execution_count": 20,
   "metadata": {},
   "outputs": [
    {
     "name": "stdout",
     "output_type": "stream",
     "text": [
      "0    0.5\n",
      "dtype: float64\n",
      "Median Tenure with month-to-month contract: 35.0 months\n",
      "0    0.5\n",
      "dtype: float64\n",
      "Median Tenure with one-year contract: inf months\n",
      "0    0.5\n",
      "dtype: float64\n",
      "Median Tenure with two-year contract: inf months\n"
     ]
    },
    {
     "data": {
      "image/png": "[encoded data removed]",
      "text/plain": [
       "<Figure size 432x288 with 1 Axes>"
      ]
     },
     "metadata": {},
     "output_type": "display_data"
    }
   ],
   "source": [
    "ax = plt.subplot(111)\n",
    "\n",
    "kmf.fit(time[month_to_month], event_observed =churn[month_to_month], label = \"Month-to-Month\" )\n",
    "kmf.plot(ax=ax)\n",
    "print(f'Median Tenure with month-to-month contract: {kmf.median_} months')\n",
    "\n",
    "kmf.fit(time[one_year], event_observed =churn[one_year], label = \"One-Year\")\n",
    "kmf.plot(ax=ax)\n",
    "print(f'Median Tenure with one-year contract: {kmf.median_} months')\n",
    "kmf.fit(time[two_year], event_observed =churn[two_year], label = \"Two-Year\" )\n",
    "kmf.plot(ax=ax)\n",
    "print(f'Median Tenure with two-year contract: {kmf.median_} months')"
   ]
  },
  {
   "cell_type": "markdown",
   "metadata": {},
   "source": [
    "### Gender"
   ]
  },
  {
   "cell_type": "code",
   "execution_count": 21,
   "metadata": {},
   "outputs": [
    {
     "name": "stdout",
     "output_type": "stream",
     "text": [
      "0    0.5\n",
      "dtype: float64\n",
      "Median Tenure for males: inf months\n",
      "0    0.5\n",
      "dtype: float64\n",
      "Median Tenure for females: inf months\n"
     ]
    },
    {
     "data": {
      "image/png": "[encoded data removed]",
      "text/plain": [
       "<Figure size 432x288 with 1 Axes>"
      ]
     },
     "metadata": {},
     "output_type": "display_data"
    }
   ],
   "source": [
    "male = (churn_data[\"gender\"] == \"Male\")\n",
    "female = (churn_data[\"gender\"]== \"Female\")\n",
    "\n",
    "ax = plt.subplot(111)\n",
    "\n",
    "kmf.fit(time[male], event_observed =churn[male], label = \"Male\" )\n",
    "kmf.plot(ax=ax)\n",
    "print(f'Median Tenure for males: {kmf.median_} months')\n",
    "\n",
    "kmf.fit(time[female], event_observed =churn[female], label = \"Female\" )\n",
    "kmf.plot(ax=ax)\n",
    "print(f'Median Tenure for females: {kmf.median_} months')\n"
   ]
  },
  {
   "cell_type": "markdown",
   "metadata": {},
   "source": [
    "### Internet Service"
   ]
  },
  {
   "cell_type": "code",
   "execution_count": 22,
   "metadata": {},
   "outputs": [
    {
     "data": {
      "text/plain": [
       "array(['DSL', 'Fiber optic', 0], dtype=object)"
      ]
     },
     "execution_count": 22,
     "metadata": {},
     "output_type": "execute_result"
    }
   ],
   "source": [
    "churn_data[\"InternetService\"].unique()"
   ]
  },
  {
   "cell_type": "code",
   "execution_count": 23,
   "metadata": {},
   "outputs": [],
   "source": [
    "o = (churn_data[\"InternetService\"] == 0)\n",
    "dsl = (churn_data[\"InternetService\"] == \"DSL\")\n",
    "fiber = (churn_data[\"InternetService\"] == \"Fiber optic\")"
   ]
  },
  {
   "cell_type": "code",
   "execution_count": 24,
   "metadata": {},
   "outputs": [
    {
     "name": "stdout",
     "output_type": "stream",
     "text": [
      "0    0.5\n",
      "dtype: float64\n",
      "Median Tenure for internet category \"0\": inf months\n",
      "0    0.5\n",
      "dtype: float64\n",
      "Median Tenure for DSL Internet: inf months\n",
      "0    0.5\n",
      "dtype: float64\n",
      "Median Tenure for Fiber Optic Internet: 65.0 months\n"
     ]
    },
    {
     "data": {
      "image/png": "[encoded data removed]",
      "text/plain": [
       "<Figure size 432x288 with 1 Axes>"
      ]
     },
     "metadata": {},
     "output_type": "display_data"
    }
   ],
   "source": [
    "ax = plt.subplot(111)\n",
    "\n",
    "kmf.fit(time[o], event_observed =churn[o], label = \"0\" )\n",
    "kmf.plot(ax=ax)\n",
    "print(f'Median Tenure for internet category \"0\": {kmf.median_} months')\n",
    "\n",
    "kmf.fit(time[dsl], event_observed =churn[dsl], label = \"DSL\" )\n",
    "kmf.plot(ax=ax)\n",
    "print(f'Median Tenure for DSL Internet: {kmf.median_} months')\n",
    "\n",
    "kmf.fit(time[fiber], event_observed =churn[fiber], label = \"Fiber Optic\" )\n",
    "kmf.plot(ax=ax)\n",
    "print(f'Median Tenure for Fiber Optic Internet: {kmf.median_} months')"
   ]
  },
  {
   "cell_type": "markdown",
   "metadata": {},
   "source": [
    "### Senior Citizens"
   ]
  },
  {
   "cell_type": "code",
   "execution_count": 25,
   "metadata": {},
   "outputs": [
    {
     "data": {
      "text/plain": [
       "array([0, 1], dtype=int64)"
      ]
     },
     "execution_count": 25,
     "metadata": {},
     "output_type": "execute_result"
    }
   ],
   "source": [
    "churn_data[\"SeniorCitizen\"].unique()"
   ]
  },
  {
   "cell_type": "code",
   "execution_count": 26,
   "metadata": {},
   "outputs": [],
   "source": [
    "not_senior = (churn_data[\"SeniorCitizen\"] == 0)\n",
    "senior = (churn_data[\"SeniorCitizen\"] == 1)"
   ]
  },
  {
   "cell_type": "code",
   "execution_count": 27,
   "metadata": {},
   "outputs": [
    {
     "name": "stdout",
     "output_type": "stream",
     "text": [
      "0    0.5\n",
      "dtype: float64\n",
      "Median Tenure for Non_seniors: inf months\n",
      "0    0.5\n",
      "dtype: float64\n",
      "Median Tenure for Seniors: 65.0 months\n"
     ]
    },
    {
     "data": {
      "image/png": "[encoded data removed]",
      "text/plain": [
       "<Figure size 432x288 with 1 Axes>"
      ]
     },
     "metadata": {},
     "output_type": "display_data"
    }
   ],
   "source": [
    "ax = plt.subplot(111)\n",
    "\n",
    "kmf.fit(time[not_senior], event_observed =churn[not_senior], label = \"Non-Seniors\" )\n",
    "kmf.plot(ax=ax)\n",
    "print(f'Median Tenure for Non_seniors: {kmf.median_} months')\n",
    "\n",
    "kmf.fit(time[senior], event_observed =churn[senior], label = \"Senior\" )\n",
    "kmf.plot(ax=ax)\n",
    "print(f'Median Tenure for Seniors: {kmf.median_} months')\n"
   ]
  },
  {
   "cell_type": "markdown",
   "metadata": {},
   "source": [
    "### internet & month-to-month contract"
   ]
  },
  {
   "cell_type": "code",
   "execution_count": 28,
   "metadata": {},
   "outputs": [],
   "source": [
    "df_m2m = churn_data[churn_data[\"Contract\"]==0]\n"
   ]
  },
  {
   "cell_type": "code",
   "execution_count": 29,
   "metadata": {},
   "outputs": [],
   "source": [
    "time_m2m= df_m2m[\"tenure\"]\n",
    "churn_m2m = df_m2m[\"Churn\"]"
   ]
  },
  {
   "cell_type": "code",
   "execution_count": 30,
   "metadata": {},
   "outputs": [],
   "source": [
    "o_m2m = (df_m2m[\"InternetService\"] == 0)\n",
    "dsl_m2m = (df_m2m[\"InternetService\"] == \"DSL\")\n",
    "fiber_m2m = (df_m2m[\"InternetService\"] == \"Fiber optic\")"
   ]
  },
  {
   "cell_type": "code",
   "execution_count": 31,
   "metadata": {},
   "outputs": [
    {
     "name": "stdout",
     "output_type": "stream",
     "text": [
      "0    0.5\n",
      "dtype: float64\n",
      "Median Tenure for internet category \"0\": 61.0 months\n",
      "0    0.5\n",
      "dtype: float64\n",
      "Median Tenure for DSL Internet: 52.0 months\n",
      "0    0.5\n",
      "dtype: float64\n",
      "Median Tenure for Fiber Optic Internet: 30.0 months\n"
     ]
    },
    {
     "data": {
      "image/png": "[encoded data removed]",
      "text/plain": [
       "<Figure size 432x288 with 1 Axes>"
      ]
     },
     "metadata": {},
     "output_type": "display_data"
    }
   ],
   "source": [
    "ax = plt.subplot(111)\n",
    "\n",
    "kmf.fit(time_m2m[o_m2m], event_observed =churn_m2m[o_m2m], label = \"0\" )\n",
    "kmf.plot(ax=ax)\n",
    "print(f'Median Tenure for internet category \"0\": {kmf.median_} months')\n",
    "\n",
    "kmf.fit(time_m2m[dsl_m2m], event_observed =churn_m2m[dsl_m2m], label = \"DSL\" )\n",
    "kmf.plot(ax=ax)\n",
    "print(f'Median Tenure for DSL Internet: {kmf.median_} months')\n",
    "\n",
    "kmf.fit(time_m2m[fiber_m2m], event_observed =churn_m2m[fiber_m2m], label = \"Fiber Optic\" )\n",
    "kmf.plot(ax=ax)\n",
    "print(f'Median Tenure for Fiber Optic Internet: {kmf.median_} months')"
   ]
  },
  {
   "cell_type": "markdown",
   "metadata": {},
   "source": [
    "# Analysis\n",
    "\n",
    "### Contract Length\n",
    "Month-to-Month contracts are a significant source of customer churn. The median tenure for a month-to-month contract customer is 35 months. None of these customers lasted over 70 months. Over half the customers who have entered into a 1-year contract are still with the company. Nearly all customer who enter a two-year contract are with the company.\n",
    "\n",
    "### Internet Service\n",
    "We do not lose many customers who do not use our internet service. But the Cox Propotional Hazards Model indicates that our customers who have internet service are 16 times more likely to churn. We experience a significant amount of churn from our Fiber Optic customers.\n",
    "### Services\n",
    "Customers who subscribe to our services, online tech support, backup, security and device recovery are likely to stay with the company.\n",
    "# Recommendations\n",
    "- We should create stronger incentives for switching to long-term contracts.\n",
    "- We should examine our competitiveness in the Internet / fiber optic internet space.\n",
    "- Find out why internet customers are fleeing\n",
    "- Convince users to use our services"
   ]
  },
  {
   "cell_type": "code",
   "execution_count": null,
   "metadata": {},
   "outputs": [],
   "source": []
  }
 ],
 "metadata": {
  "kernelspec": {
   "display_name": "Python 3",
   "language": "python",
   "name": "python3"
  },
  "language_info": {
   "codemirror_mode": {
    "name": "ipython",
    "version": 3
   },
   "file_extension": ".py",
   "mimetype": "text/x-python",
   "name": "python",
   "nbconvert_exporter": "python",
   "pygments_lexer": "ipython3",
   "version": "3.6.5"
  }
 },
 "nbformat": 4,
 "nbformat_minor": 2
}
