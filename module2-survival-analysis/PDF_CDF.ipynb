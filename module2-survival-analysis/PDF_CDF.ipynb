{
  "nbformat": 4,
  "nbformat_minor": 0,
  "metadata": {
    "colab": {
      "name": "PDF_CDF.ipynb",
      "version": "0.3.2",
      "provenance": [],
      "collapsed_sections": [],
      "include_colab_link": true
    },
    "kernelspec": {
      "name": "python3",
      "display_name": "Python 3"
    }
  },
  "cells": [
    {
      "cell_type": "markdown",
      "metadata": {
        "id": "view-in-github",
        "colab_type": "text"
      },
      "source": [
        "<a href=\"https://colab.research.google.com/github/extrajp2014/DS-Unit-2-Sprint-3-Advanced-Regression/blob/master/module2-survival-analysis/PDF_CDF.ipynb\" target=\"_parent\"><img src=\"https://colab.research.google.com/assets/colab-badge.svg\" alt=\"Open In Colab\"/></a>"
      ]
    },
    {
      "metadata": {
        "id": "pAMmqTAvXVN6",
        "colab_type": "text"
      },
      "cell_type": "markdown",
      "source": [
        "# Probability Density Function (PDF)\n",
        "\n",
        "<https://www.math.utah.edu/~lzhang/teaching/3070summer2008/DailyUpdates/jun26/sec4_1.pdf>\n",
        "\n",
        "## What is a random variable?\n",
        "It's a variable whose numerical outcomes are the process of a random phenomenon. Usually random with regards to some underlying frequency distribution.\n",
        "\n",
        "## Lets think about the disribution of a random variable relating to temperature\n",
        "\n",
        "Lets say that we want to know the probability that the temperature at noon on a given day in June in Utah is between 75 degrees and 77 degrees farenheit (notice that we're asking about the probability of something happening within a range of values).\n",
        "\n",
        "How would we figure this out? Well, say that we have recorded the temperature at Noon in Salt Lake City (the capital) on every June day for the past 20 years, so we have something like 600 observations. So to visualize the distribution of this event we could plot it on a histogram. \n",
        "\n",
        "\n",
        "![Histogram to PDF](http://www.ryanleeallred.com/wp-content/uploads/2019/02/Histogram.png)\n",
        "\n",
        "When I plot a histogram there's a parameter called the bin size (or # of bins - what does that control?) This is great, the height of the histogram tells me how many observations live in that bin and I can divide that by the total number of observations to get a percentage (in our case we've already done that so that the height of the histogram represents the probability represented by that bin.)\n",
        "\n",
        "Now, imagine that I didn't want to know the probability of the temperature existing on between a range of values, but I wanted to know the probability of a very specific temperature occuring on a given day, say, something like 74.5896780 degrees farenheight. With a truly continuous random varaible (that can take on any floating point value) what would the probability of that event happening be? \n",
        "\n",
        "0.\n",
        "\n",
        "Given a continuous random variable that probability of any specific single floating point value being the occurance that we actually observe approaches zero.\n",
        "\n",
        "So how come we could give a probability value when estimating a range of values, but not for an individual point? \n",
        "\n",
        "A very specific continuous value has a probabliity of 0 of occuring, we call this probability its absolute likelihood, in reality the probability of any exact temperature occuring is truly 0, maybe we can measure it to some wild number of significant digits, but even the most accurate of instruments can't prove to us exactly what event we're observing. So I could tell the probability of observing a temperature from 7.58 to 7.59, but not the probability of observing a temperature of exactly 7.58 or exactly 7.59.\n",
        "\n",
        "The tool that we use in order to specify the probability of a random variable falling within a particular range of values is what we call the PDF or Probability Density Function. \n",
        "\n",
        "https://en.wikipedia.org/wiki/Probability_density_function\n",
        "\n",
        "Imagine that we took our original histogram and decreased the bin size a little smaller and smaller and smaller until the bin size was infinitely small in the limit case what we would end up with is a smooth curved approximation of our original histogram. This is a Probability Density Function \n",
        "\n",
        "The area under the curve of a PDF has to be equal to 1 because it represents all of the possible outcomes of that random variable. With 100% likelihood the observed event will exist somewhere in that curve. In order to get an answer for how the probability of a random variable falling between a range of values, we look ad the start and end points of the range in question and calculate the area under the curve that exists between the upper and lower bounds of our range. \n",
        "\n",
        "<center><img width=\"400\" src=\"http://www.ryanleeallred.com/wp-content/uploads/2019/02/PDF-Histogram.png\"/></center>\n",
        "\n",
        "Here's the big question: How do I calculate the area under a curve or under a function?\n",
        "\n",
        "Take the integral.\n",
        "\n",
        "The integral of any given PDF or Probability Density Function is what's called its CDF or Cumulative Distribution Function\n"
      ]
    },
    {
      "metadata": {
        "id": "lIylSjseZiOa",
        "colab_type": "text"
      },
      "cell_type": "markdown",
      "source": [
        "# Cumulative Distribution Function (CDF)\n",
        "\n",
        "The y value of a CDF represents the area under the PDF that is less than or equal to that x value. \n",
        "\n",
        "<https://en.wikipedia.org/wiki/Cumulative_distribution_function>\n",
        "\n",
        "<https://en.wikipedia.org/wiki/Normal_distribution>\n",
        "\n",
        "<https://en.wikipedia.org/wiki/Probit>\n",
        "\n",
        "[Logit and Probit Functions Compared](https://www.google.com/search?q=probit+logit+function&source=lnms&tbm=isch&sa=X&ved=0ahUKEwiJ1JiendngAhWVr54KHUZlBSgQ_AUIDigB&biw=1329&bih=910#imgrc=_)\n",
        "\n",
        "# Key Takeaways: \n",
        "\n",
        "- The area under the curve of a PDF (within a given range) is equal to the probability of an occurence of the random variable within that range.\n",
        "\n",
        "- The CDF is the integral of the PDF. - Integrate the PDF to get the CDF, this is because the integral finds the area under curves.\n",
        "\n",
        "- For a given x value on a CDF the y value represents the probability of an event taking on a value less than or equal to x.\n",
        "\n"
      ]
    }
  ]
}