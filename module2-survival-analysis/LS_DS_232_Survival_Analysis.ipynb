{
  "nbformat": 4,
  "nbformat_minor": 0,
  "metadata": {
    "colab": {
      "name": "LS_DS_232_Survival_Analysis.ipynb",
      "version": "0.3.2",
      "provenance": [],
      "include_colab_link": true
    },
    "kernelspec": {
      "display_name": "Python 3",
      "language": "python",
      "name": "python3"
    }
  },
  "cells": [
    {
      "cell_type": "markdown",
      "metadata": {
        "id": "view-in-github",
        "colab_type": "text"
      },
      "source": [
        "<a href=\"https://colab.research.google.com/github/johnpharmd/DS-Unit-2-Sprint-3-Advanced-Regression/blob/master/module2-survival-analysis/LS_DS_232_Survival_Analysis.ipynb\" target=\"_parent\"><img src=\"https://colab.research.google.com/assets/colab-badge.svg\" alt=\"Open In Colab\"/></a>"
      ]
    },
    {
      "metadata": {
        "id": "DSUEMY8usgwJ",
        "colab_type": "text"
      },
      "cell_type": "markdown",
      "source": [
        "# Lambda School Data Science - Survival Analysis\n",
        "![My normal approach is useless here, too.](https://imgs.xkcd.com/comics/probability.png)\n",
        "\n",
        "https://xkcd.com/881/\n",
        "\n",
        "The aim of survival analysis is to analyze the effect of different risk factors and use them to predict the duration of time between one event (\"birth\") and another (\"death\")."
      ]
    },
    {
      "metadata": {
        "id": "Xp-QnVAgfud4",
        "colab_type": "text"
      },
      "cell_type": "markdown",
      "source": [
        "# Lecture\n",
        "\n",
        "Survival analysis was first developed by actuaries and medical professionals to predict (as its name implies) how long individuals would survive. However, it has expanded into include many different applications.\n",
        "* it is referred to as **reliability analysis** in engineering\n",
        "* it can be referred to more generally as **time-to-event analysis**\n",
        "\n",
        "In the general sense, it can be thought of as a way to model anything with a finite duration - retention, churn, completion, etc. The culmination of this duration may have a \"good\" or \"bad\" (or \"neutral\") connotation, depending on the situation. However old habits die hard, so most often it is called survival analysis and the following definitions are still commonly used:\n",
        "\n",
        "* birth: the event that marks the beginning of the time period for observation\n",
        "* death: the event of interest, which then marks the end of the observation period for an individual\n",
        "\n",
        "### Examples\n",
        "* Customer churn\n",
        " * birth event: customer subscribes to a service\n",
        " * death event: customer leaves the service\n",
        "* Employee retention\n",
        " * birth event: employee is hired\n",
        " * death event: employee quits\n",
        "* Engineering, part reliability\n",
        " * birth event: part is put in use\n",
        " * death event: part fails\n",
        "* Program completion\n",
        " * birth event: student begins PhD program\n",
        " * death event: student earns PhD\n",
        "* Response time\n",
        " * birth event: 911 call is made\n",
        " * death event: police arrive\n",
        "* Lambda School\n",
        " * birth event: student graduates LambdaSchool\n",
        " * death event: student gets a job!\n",
        " \n",
        "Take a moment and try to come up with your own specific example or two.\n",
        "\n",
        "#### So... if all we're predicting here is a length of time between two events, why can't we just use regular old Linear Regression?\n",
        "Well... if you have all the data, go for it. In some situations it may be reasonably effective.\n",
        "\n",
        "#### But, data for survival times are often highly skewed and, more importantly, we don't always get a chance to observe the \"death\" event. The current time or other factors interfere with our ability to observe the time of the event of interest. These observations are said to be _censored_.\n",
        "\n",
        "Additionally, the occurrence or non-occurrence of an event is binary - so, while the time is continuous, the event itself is in some ways similar to a binary event in logistic regression.\n",
        "\n",
        "## Censorship in Data\n",
        "\n",
        "Suppose a new cancer treatment is developed. Researchers select 50 individuals for the study to undergo treatment and participate in post-treatment obsesrvation.\n",
        "\n",
        "##### Birth Event = Participant begins trial\n",
        "##### Death Event = Participant dies due to cancer or complications of cancer\n",
        "During the study:\n",
        "1. Some participants die during the course of the study--triggering their death event \n",
        "2. Some participants drop out or the researchers otherwise lose contact with them. The researchers have their data up intil the time they dropped out, but they don't have a death event to record\n",
        "3. Some participants are still be alive at the end of the observation period. So again, researchers have their data up until some point, but there is no death event to record\n",
        "\n",
        "We only know the interval between the \"birth\" event and the \"death\" event for participants in category 1. All others we only know that they survived _up to_ a certain point.\n",
        "\n",
        "### Dealing with Censored Data\n",
        "\n",
        "Without survival analysis, we could deal with censored data in two ways:\n",
        "* We could just treat the end of the observation period as the time of the death event\n",
        "* (Even worse) We could drop the censored data using the rationale that we have \"incomplete data\" for those observations\n",
        "\n",
        "But... both of these will underestimate survival rates for the purpose of the study. We **know** that all those individuals \"survived\" the \"death event\" past a certain point.\n",
        "\n",
        "Luckily, in the 1980s a pair of smarty pants named David (main author Cox and coauthor Oakes) did the hard math work to make it possible to incorporate additional features as predictive measures to survival time probabilities. (Fun fact, the one named Cox also came up with logistic regression with non-David coauthor, Joyce Snell.)\n",
        "\n",
        "## lifelines\n",
        "It wasn't until 2014 that some other smart people made an implementation of survival analysis in Python called lifelines. \n",
        "It is built over Pandas and follows the same conventions for usage as scikit-learn.\n",
        "\n",
        "_Additional note: scikit pushed out a survival analysis implementation last year (2018) named scikit-survival that is imported by the name `sksurv`. It's super new so it may/may not have a bunch of bugs... but if you're interested you can check it out in the future. (For comparison, scikit originally came out in 2007 and Pandas came out in 2008)._"
      ]
    },
    {
      "metadata": {
        "id": "ZrCb7TULsgwP",
        "colab_type": "code",
        "outputId": "f77b60a5-feef-451c-fb15-9f1b02a6cb46",
        "colab": {
          "base_uri": "https://localhost:8080/",
          "height": 535
        }
      },
      "cell_type": "code",
      "source": [
        "!pip install lifelines"
      ],
      "execution_count": 1,
      "outputs": [
        {
          "output_type": "stream",
          "text": [
            "Collecting lifelines\n",
            "\u001b[?25l  Downloading https://files.pythonhosted.org/packages/ce/1f/db7a58dbbdb3d74c8e33310af0002d8f1844404e335ce8fda1ccf0968cf5/lifelines-0.17.5-py3-none-any.whl (247kB)\n",
            "\u001b[K    100% |████████████████████████████████| 256kB 4.6MB/s \n",
            "\u001b[?25hRequirement already satisfied: pandas>=0.18 in /usr/local/lib/python3.6/dist-packages (from lifelines) (0.22.0)\n",
            "Requirement already satisfied: scipy>=1.0 in /usr/local/lib/python3.6/dist-packages (from lifelines) (1.1.0)\n",
            "Requirement already satisfied: bottleneck>=1.0 in /usr/local/lib/python3.6/dist-packages (from lifelines) (1.2.1)\n",
            "Collecting matplotlib<3.0,>=2.0 (from lifelines)\n",
            "\u001b[?25l  Downloading https://files.pythonhosted.org/packages/9e/59/f235ab21bbe7b7c6570c4abf17ffb893071f4fa3b9cf557b09b60359ad9a/matplotlib-2.2.3-cp36-cp36m-manylinux1_x86_64.whl (12.6MB)\n",
            "\u001b[K    100% |████████████████████████████████| 12.6MB 2.8MB/s \n",
            "\u001b[?25hRequirement already satisfied: numpy>=1.6.0 in /usr/local/lib/python3.6/dist-packages (from lifelines) (1.14.6)\n",
            "Requirement already satisfied: python-dateutil>=2 in /usr/local/lib/python3.6/dist-packages (from pandas>=0.18->lifelines) (2.5.3)\n",
            "Requirement already satisfied: pytz>=2011k in /usr/local/lib/python3.6/dist-packages (from pandas>=0.18->lifelines) (2018.9)\n",
            "Requirement already satisfied: six>=1.10 in /usr/local/lib/python3.6/dist-packages (from matplotlib<3.0,>=2.0->lifelines) (1.11.0)\n",
            "Requirement already satisfied: pyparsing!=2.0.4,!=2.1.2,!=2.1.6,>=2.0.1 in /usr/local/lib/python3.6/dist-packages (from matplotlib<3.0,>=2.0->lifelines) (2.3.1)\n",
            "Requirement already satisfied: cycler>=0.10 in /usr/local/lib/python3.6/dist-packages (from matplotlib<3.0,>=2.0->lifelines) (0.10.0)\n",
            "Requirement already satisfied: kiwisolver>=1.0.1 in /usr/local/lib/python3.6/dist-packages (from matplotlib<3.0,>=2.0->lifelines) (1.0.1)\n",
            "Requirement already satisfied: setuptools in /usr/local/lib/python3.6/dist-packages (from kiwisolver>=1.0.1->matplotlib<3.0,>=2.0->lifelines) (40.7.0)\n",
            "Installing collected packages: matplotlib, lifelines\n",
            "  Found existing installation: matplotlib 3.0.2\n",
            "    Uninstalling matplotlib-3.0.2:\n",
            "      Successfully uninstalled matplotlib-3.0.2\n",
            "Successfully installed lifelines-0.17.5 matplotlib-2.2.3\n"
          ],
          "name": "stdout"
        },
        {
          "output_type": "display_data",
          "data": {
            "application/vnd.colab-display-data+json": {
              "pip_warning": {
                "packages": [
                  "matplotlib",
                  "mpl_toolkits"
                ]
              }
            }
          },
          "metadata": {
            "tags": []
          }
        }
      ]
    },
    {
      "metadata": {
        "id": "E8rpzq9zsgwn",
        "colab_type": "code",
        "colab": {}
      },
      "cell_type": "code",
      "source": [
        "import numpy as np\n",
        "import pandas as pd\n",
        "import matplotlib.pyplot as plt\n",
        "import lifelines"
      ],
      "execution_count": 0,
      "outputs": []
    },
    {
      "metadata": {
        "id": "UAFxpFBSwFRp",
        "colab_type": "code",
        "colab": {
          "base_uri": "https://localhost:8080/",
          "height": 3721
        },
        "outputId": "2520a59d-13db-4ed5-d92e-c153931df3e8"
      },
      "cell_type": "code",
      "source": [
        "vars(lifelines)"
      ],
      "execution_count": 2,
      "outputs": [
        {
          "output_type": "execute_result",
          "data": {
            "text/plain": [
              "{'AalenAdditiveFitter': lifelines.fitters.aalen_additive_fitter.AalenAdditiveFitter,\n",
              " 'AalenJohansenFitter': lifelines.fitters.aalen_johansen_fitter.AalenJohansenFitter,\n",
              " 'BreslowFlemingHarringtonFitter': lifelines.fitters.breslow_fleming_harrington_fitter.BreslowFlemingHarringtonFitter,\n",
              " 'CoxPHFitter': lifelines.fitters.coxph_fitter.CoxPHFitter,\n",
              " 'CoxTimeVaryingFitter': lifelines.fitters.cox_time_varying_fitter.CoxTimeVaryingFitter,\n",
              " 'ExponentialFitter': lifelines.fitters.exponential_fitter.ExponentialFitter,\n",
              " 'KaplanMeierFitter': lifelines.fitters.kaplan_meier_fitter.KaplanMeierFitter,\n",
              " 'NelsonAalenFitter': lifelines.fitters.nelson_aalen_fitter.NelsonAalenFitter,\n",
              " 'WeibullFitter': lifelines.fitters.weibull_fitter.WeibullFitter,\n",
              " '__all__': ['KaplanMeierFitter',\n",
              "  'NelsonAalenFitter',\n",
              "  'AalenAdditiveFitter',\n",
              "  'BreslowFlemingHarringtonFitter',\n",
              "  'CoxPHFitter',\n",
              "  'WeibullFitter',\n",
              "  'ExponentialFitter',\n",
              "  'CoxTimeVaryingFitter',\n",
              "  'AalenJohansenFitter'],\n",
              " '__builtins__': {'ArithmeticError': ArithmeticError,\n",
              "  'AssertionError': AssertionError,\n",
              "  'AttributeError': AttributeError,\n",
              "  'BaseException': BaseException,\n",
              "  'BlockingIOError': BlockingIOError,\n",
              "  'BrokenPipeError': BrokenPipeError,\n",
              "  'BufferError': BufferError,\n",
              "  'BytesWarning': BytesWarning,\n",
              "  'ChildProcessError': ChildProcessError,\n",
              "  'ConnectionAbortedError': ConnectionAbortedError,\n",
              "  'ConnectionError': ConnectionError,\n",
              "  'ConnectionRefusedError': ConnectionRefusedError,\n",
              "  'ConnectionResetError': ConnectionResetError,\n",
              "  'DeprecationWarning': DeprecationWarning,\n",
              "  'EOFError': EOFError,\n",
              "  'Ellipsis': Ellipsis,\n",
              "  'EnvironmentError': OSError,\n",
              "  'Exception': Exception,\n",
              "  'False': False,\n",
              "  'FileExistsError': FileExistsError,\n",
              "  'FileNotFoundError': FileNotFoundError,\n",
              "  'FloatingPointError': FloatingPointError,\n",
              "  'FutureWarning': FutureWarning,\n",
              "  'GeneratorExit': GeneratorExit,\n",
              "  'IOError': OSError,\n",
              "  'ImportError': ImportError,\n",
              "  'ImportWarning': ImportWarning,\n",
              "  'IndentationError': IndentationError,\n",
              "  'IndexError': IndexError,\n",
              "  'InterruptedError': InterruptedError,\n",
              "  'IsADirectoryError': IsADirectoryError,\n",
              "  'KeyError': KeyError,\n",
              "  'KeyboardInterrupt': KeyboardInterrupt,\n",
              "  'LookupError': LookupError,\n",
              "  'MemoryError': MemoryError,\n",
              "  'ModuleNotFoundError': ModuleNotFoundError,\n",
              "  'NameError': NameError,\n",
              "  'None': None,\n",
              "  'NotADirectoryError': NotADirectoryError,\n",
              "  'NotImplemented': NotImplemented,\n",
              "  'NotImplementedError': NotImplementedError,\n",
              "  'OSError': OSError,\n",
              "  'OverflowError': OverflowError,\n",
              "  'PendingDeprecationWarning': PendingDeprecationWarning,\n",
              "  'PermissionError': PermissionError,\n",
              "  'ProcessLookupError': ProcessLookupError,\n",
              "  'RecursionError': RecursionError,\n",
              "  'ReferenceError': ReferenceError,\n",
              "  'ResourceWarning': ResourceWarning,\n",
              "  'RuntimeError': RuntimeError,\n",
              "  'RuntimeWarning': RuntimeWarning,\n",
              "  'StopAsyncIteration': StopAsyncIteration,\n",
              "  'StopIteration': StopIteration,\n",
              "  'SyntaxError': SyntaxError,\n",
              "  'SyntaxWarning': SyntaxWarning,\n",
              "  'SystemError': SystemError,\n",
              "  'SystemExit': SystemExit,\n",
              "  'TabError': TabError,\n",
              "  'TimeoutError': TimeoutError,\n",
              "  'True': True,\n",
              "  'TypeError': TypeError,\n",
              "  'UnboundLocalError': UnboundLocalError,\n",
              "  'UnicodeDecodeError': UnicodeDecodeError,\n",
              "  'UnicodeEncodeError': UnicodeEncodeError,\n",
              "  'UnicodeError': UnicodeError,\n",
              "  'UnicodeTranslateError': UnicodeTranslateError,\n",
              "  'UnicodeWarning': UnicodeWarning,\n",
              "  'UserWarning': UserWarning,\n",
              "  'ValueError': ValueError,\n",
              "  'Warning': Warning,\n",
              "  'ZeroDivisionError': ZeroDivisionError,\n",
              "  '__IPYTHON__': True,\n",
              "  '__build_class__': <function __build_class__>,\n",
              "  '__debug__': True,\n",
              "  '__doc__': \"Built-in functions, exceptions, and other objects.\\n\\nNoteworthy: None is the `nil' object; Ellipsis represents `...' in slices.\",\n",
              "  '__import__': <function __import__>,\n",
              "  '__loader__': _frozen_importlib.BuiltinImporter,\n",
              "  '__name__': 'builtins',\n",
              "  '__package__': '',\n",
              "  '__spec__': ModuleSpec(name='builtins', loader=<class '_frozen_importlib.BuiltinImporter'>),\n",
              "  'abs': <function abs>,\n",
              "  'all': <function all>,\n",
              "  'any': <function any>,\n",
              "  'ascii': <function ascii>,\n",
              "  'bin': <function bin>,\n",
              "  'bool': bool,\n",
              "  'bytearray': bytearray,\n",
              "  'bytes': bytes,\n",
              "  'callable': <function callable>,\n",
              "  'chr': <function chr>,\n",
              "  'classmethod': classmethod,\n",
              "  'compile': <function compile>,\n",
              "  'complex': complex,\n",
              "  'copyright': Copyright (c) 2001-2018 Python Software Foundation.\n",
              "  All Rights Reserved.\n",
              "  \n",
              "  Copyright (c) 2000 BeOpen.com.\n",
              "  All Rights Reserved.\n",
              "  \n",
              "  Copyright (c) 1995-2001 Corporation for National Research Initiatives.\n",
              "  All Rights Reserved.\n",
              "  \n",
              "  Copyright (c) 1991-1995 Stichting Mathematisch Centrum, Amsterdam.\n",
              "  All Rights Reserved.,\n",
              "  'credits':     Thanks to CWI, CNRI, BeOpen.com, Zope Corporation and a cast of thousands\n",
              "      for supporting Python development.  See www.python.org for more information.,\n",
              "  'delattr': <function delattr>,\n",
              "  'dict': dict,\n",
              "  'dir': <function dir>,\n",
              "  'display': <function IPython.core.display.display>,\n",
              "  'divmod': <function divmod>,\n",
              "  'dreload': <function IPython.lib.deepreload._dreload>,\n",
              "  'enumerate': enumerate,\n",
              "  'eval': <function eval>,\n",
              "  'exec': <function exec>,\n",
              "  'filter': filter,\n",
              "  'float': float,\n",
              "  'format': <function format>,\n",
              "  'frozenset': frozenset,\n",
              "  'get_ipython': <bound method InteractiveShell.get_ipython of <google.colab._shell.Shell object at 0x7fc58e34cef0>>,\n",
              "  'getattr': <function getattr>,\n",
              "  'globals': <function globals>,\n",
              "  'hasattr': <function hasattr>,\n",
              "  'hash': <function hash>,\n",
              "  'help': Type help() for interactive help, or help(object) for help about object.,\n",
              "  'hex': <function hex>,\n",
              "  'id': <function id>,\n",
              "  'input': <bound method Kernel.raw_input of <google.colab._kernel.Kernel object at 0x7fc58e34cfd0>>,\n",
              "  'int': int,\n",
              "  'isinstance': <function isinstance>,\n",
              "  'issubclass': <function issubclass>,\n",
              "  'iter': <function iter>,\n",
              "  'len': <function len>,\n",
              "  'license': Type license() to see the full license text,\n",
              "  'list': list,\n",
              "  'locals': <function locals>,\n",
              "  'map': map,\n",
              "  'max': <function max>,\n",
              "  'memoryview': memoryview,\n",
              "  'min': <function min>,\n",
              "  'next': <function next>,\n",
              "  'object': object,\n",
              "  'oct': <function oct>,\n",
              "  'open': <function io.open>,\n",
              "  'ord': <function ord>,\n",
              "  'pow': <function pow>,\n",
              "  'print': <function print>,\n",
              "  'property': property,\n",
              "  'range': range,\n",
              "  'repr': <function repr>,\n",
              "  'reversed': reversed,\n",
              "  'round': <function round>,\n",
              "  'set': set,\n",
              "  'setattr': <function setattr>,\n",
              "  'slice': slice,\n",
              "  'sorted': <function sorted>,\n",
              "  'staticmethod': staticmethod,\n",
              "  'str': str,\n",
              "  'sum': <function sum>,\n",
              "  'super': super,\n",
              "  'tuple': tuple,\n",
              "  'type': type,\n",
              "  'vars': <function vars>,\n",
              "  'zip': zip},\n",
              " '__cached__': '/usr/local/lib/python3.6/dist-packages/lifelines/__pycache__/__init__.cpython-36.pyc',\n",
              " '__doc__': None,\n",
              " '__file__': '/usr/local/lib/python3.6/dist-packages/lifelines/__init__.py',\n",
              " '__loader__': <_frozen_importlib_external.SourceFileLoader at 0x7fc56c3d9550>,\n",
              " '__name__': 'lifelines',\n",
              " '__package__': 'lifelines',\n",
              " '__path__': ['/usr/local/lib/python3.6/dist-packages/lifelines'],\n",
              " '__spec__': ModuleSpec(name='lifelines', loader=<_frozen_importlib_external.SourceFileLoader object at 0x7fc56c3d9550>, origin='/usr/local/lib/python3.6/dist-packages/lifelines/__init__.py', submodule_search_locations=['/usr/local/lib/python3.6/dist-packages/lifelines']),\n",
              " '__version__': '0.17.5',\n",
              " 'compat': <module 'lifelines.compat' from '/usr/local/lib/python3.6/dist-packages/lifelines/compat.py'>,\n",
              " 'fitters': <module 'lifelines.fitters' from '/usr/local/lib/python3.6/dist-packages/lifelines/fitters/__init__.py'>,\n",
              " 'plotting': <module 'lifelines.plotting' from '/usr/local/lib/python3.6/dist-packages/lifelines/plotting.py'>,\n",
              " 'statistics': <module 'lifelines.statistics' from '/usr/local/lib/python3.6/dist-packages/lifelines/statistics.py'>,\n",
              " 'utils': <module 'lifelines.utils' from '/usr/local/lib/python3.6/dist-packages/lifelines/utils/__init__.py'>,\n",
              " 'version': <module 'lifelines.version' from '/usr/local/lib/python3.6/dist-packages/lifelines/version.py'>}"
            ]
          },
          "metadata": {
            "tags": []
          },
          "execution_count": 2
        }
      ]
    },
    {
      "metadata": {
        "id": "d51G4sPqsgww",
        "colab_type": "code",
        "colab": {}
      },
      "cell_type": "code",
      "source": [
        "# lifelines comes with some datasets to get you started playing around with it.\n",
        "# Most of the datasets are cleaned-up versions of real datasets. Here we will\n",
        "# use their Leukemia dataset comparing 2 different treatments taken from\n",
        "# http://web1.sph.emory.edu/dkleinb/allDatasets/surv2datasets/anderson.dat\n",
        "\n",
        "from lifelines.datasets import load_leukemia\n",
        "leukemia = load_leukemia()\n",
        "\n",
        "leukemia.head()"
      ],
      "execution_count": 0,
      "outputs": []
    },
    {
      "metadata": {
        "id": "xIlaPncgsgw7",
        "colab_type": "text"
      },
      "cell_type": "markdown",
      "source": [
        "### You can you any Pandas DataFrame with lifelines. \n",
        "### The only requirement is that the DataFrame includes features that describe:\n",
        "* a duration of time for the observation\n",
        "* a binary column regarding censorship (`1` if the death event was observed, `0` if the death event was not observed)\n",
        "\n",
        "Sometimes, you will have to engineer these features. How might you go about that? What information would you need?"
      ]
    },
    {
      "metadata": {
        "id": "DQ936c5tsgw-",
        "colab_type": "code",
        "colab": {}
      },
      "cell_type": "code",
      "source": [
        "leukemia.info()"
      ],
      "execution_count": 0,
      "outputs": []
    },
    {
      "metadata": {
        "id": "MDvA8Z9rsgxL",
        "colab_type": "code",
        "colab": {}
      },
      "cell_type": "code",
      "source": [
        "leukemia.describe()"
      ],
      "execution_count": 0,
      "outputs": []
    },
    {
      "metadata": {
        "id": "tDasOEocsgxQ",
        "colab_type": "code",
        "colab": {}
      },
      "cell_type": "code",
      "source": [
        "time = leukemia.t.values\n",
        "event = leukemia.status.values\n",
        "\n",
        "ax = lifelines.plotting.plot_lifetimes(time, event_observed=event)\n",
        "ax.set_xlim(0, 40)\n",
        "ax.grid(axis='x')\n",
        "ax.set_xlabel(\"Time in Months\")\n",
        "ax.set_title(\"Lifelines for Survival of Leukemia Patients\");\n",
        "plt.plot();"
      ],
      "execution_count": 0,
      "outputs": []
    },
    {
      "metadata": {
        "id": "5oEzZ_aqsgxV",
        "colab_type": "text"
      },
      "cell_type": "markdown",
      "source": [
        "## Kaplan-Meier survival estimate\n",
        " \n",
        "The Kaplan-Meier method estimates survival probability from observed survival times. It results in a step function that changes value only at the time of each event, and confidence intervals can be computer for the survival probabilities. \n",
        "\n",
        "The KM survival curve,a plot of KM survival probability against time, provides a useful summary of the data.\n",
        "It can be used to estimate measures such as median survival time.\n",
        "\n",
        "It CANNOT account for risk factors and is NOT regression. It is *non-parametric* (does not involve parameters).\n",
        "\n",
        "However it is a good way to visualize a survival dataset, and can be useful to compare the effects of a single categorical variable."
      ]
    },
    {
      "metadata": {
        "id": "5XoM5PzGsgxX",
        "colab_type": "code",
        "colab": {}
      },
      "cell_type": "code",
      "source": [
        "kmf = lifelines.KaplanMeierFitter()\n",
        "\n",
        "kmf.fit(time, event_observed=event)"
      ],
      "execution_count": 0,
      "outputs": []
    },
    {
      "metadata": {
        "id": "ZIskdbM1qkKV",
        "colab_type": "code",
        "colab": {}
      },
      "cell_type": "code",
      "source": [
        "!pip install -U matplotlib  # Colab has matplotlib 2.2.3, we need >3"
      ],
      "execution_count": 0,
      "outputs": []
    },
    {
      "metadata": {
        "id": "8lnpLxmhsgxc",
        "colab_type": "code",
        "colab": {}
      },
      "cell_type": "code",
      "source": [
        "kmf.survival_function_.plot()\n",
        "plt.title('Survival Function Leukemia Patients');\n",
        "print(f'Median Survival: {kmf.median_} months after treatment')"
      ],
      "execution_count": 0,
      "outputs": []
    },
    {
      "metadata": {
        "id": "4eSYFEfzgjyp",
        "colab_type": "code",
        "colab": {}
      },
      "cell_type": "code",
      "source": [
        "kmf.survival_function_.plot.line()"
      ],
      "execution_count": 0,
      "outputs": []
    },
    {
      "metadata": {
        "id": "udKT7uBAsgxi",
        "colab_type": "code",
        "colab": {}
      },
      "cell_type": "code",
      "source": [
        "ax = plt.subplot(111)\n",
        "\n",
        "treatment = (leukemia[\"Rx\"] == 1)\n",
        "kmf.fit(time[treatment], event_observed=event[treatment], label=\"Treatment 1\")\n",
        "kmf.plot(ax=ax)\n",
        "print(f'Median survival time with Treatment 1: {kmf.median_} months')\n",
        "\n",
        "kmf.fit(time[~treatment], event_observed=event[~treatment], label=\"Treatment 0\")\n",
        "kmf.plot(ax=ax)\n",
        "print(f'Median survival time with Treatment 0: {kmf.median_} months')\n",
        "\n",
        "plt.ylim(0, 1);\n",
        "plt.title(\"Survival Times for Leukemia Treatments\");"
      ],
      "execution_count": 0,
      "outputs": []
    },
    {
      "metadata": {
        "id": "Ej1Zb4IYsgxr",
        "colab_type": "text"
      },
      "cell_type": "markdown",
      "source": [
        "## Cox Proportional Hazards Model -- Survival Regression\n",
        "It assumes the ratio of death event risks (hazard) of two groups remains about the same over time.\n",
        "This ratio is called the hazards ratio or the relative risk.\n",
        "\n",
        "All Cox regression requires is an assumption that ratio of hazards is constant over time across groups.\n",
        "The good news—we don’t need to know anything about overall shape of risk/hazard over time\n",
        "The bad news—the proportionality assumption can be restrictive"
      ]
    },
    {
      "metadata": {
        "id": "Skypo6ABsgxs",
        "colab_type": "code",
        "colab": {}
      },
      "cell_type": "code",
      "source": [
        "# Using Cox Proportional Hazards model\n",
        "cph = lifelines.CoxPHFitter()\n",
        "cph.fit(leukemia, 't', event_col='status')\n",
        "cph.print_summary()"
      ],
      "execution_count": 0,
      "outputs": []
    },
    {
      "metadata": {
        "id": "sIUr2gT7sgxz",
        "colab_type": "text"
      },
      "cell_type": "markdown",
      "source": [
        "## Interpreting the Results\n",
        "`coef`: usually denoted with $b$, the coefficient\n",
        "\n",
        "`exp(coef)`: $e^{b}$, equals the estimate of the hazard ratio. Here, we can say that participants who received treatment 1 had ~4.5 times the hazard risk (risk of death) compared to those who received treatment 2. And for every unit the `logWBC` increased, the hazard risk increased >5 times.\n",
        "\n",
        "`se(coef)`: standard error of the coefficient (used for calculating z-score and therefore p-value)\n",
        "\n",
        "`z`: z-score $\\frac{b}{se(b)}$\n",
        "\n",
        "`p`: p-value. derived from z-score. describes statistical significance. more specifically, it is the likelihood that the variable has no effect on the outcome\n",
        "\n",
        "`log(p)`: natural logarithm of p-value... used to more easily see differences in significance\n",
        "\n",
        "`lower/upper 0.95`: confidence levels for the coefficients. in this case, we can confidently say that the coefficient for `logWBC` is somewhere _between_ 1.02 and 2.34.\n",
        "\n",
        "`Signif. codes`: easily, visually identify significant variables! The more stars, the more solid (simply based on p-value). Here `logWBC` is highly significant, `Rx` is significant, and `sex` has no statistical significance\n",
        "\n",
        "`Concordance`: a measure of predictive power for classification problems (here looking at the `status` column. a value from 0 to 1 where values above 0.6 are considered good fits (the higher the better)\n",
        "\n",
        "`Likelihood ratio (LR) test`: this is a measure of how likely it is that the coefficients are not zero, and can compare the goodness of fit of a model versus an alternative null model. Is often actually calculated as a logarithm, resulting in the log-likelihood ratio statistic and allowing the distribution of the test statistic to be approximated with [Wilks' theorem](https://en.wikipedia.org/wiki/Wilks%27_theorem)."
      ]
    },
    {
      "metadata": {
        "id": "SHPFMpUqsgx0",
        "colab_type": "code",
        "colab": {}
      },
      "cell_type": "code",
      "source": [
        "cph.plot_covariate_groups(covariate='logWBC', groups=np.arange(1.5,5,.5))"
      ],
      "execution_count": 0,
      "outputs": []
    },
    {
      "metadata": {
        "id": "hd02Nni_sgx7",
        "colab_type": "code",
        "colab": {}
      },
      "cell_type": "code",
      "source": [
        "cph.plot_covariate_groups(covariate='sex', groups=[0,1])"
      ],
      "execution_count": 0,
      "outputs": []
    },
    {
      "metadata": {
        "id": "-JRvblsIsgyB",
        "colab_type": "text"
      },
      "cell_type": "markdown",
      "source": [
        "### Remember how the Cox model assumes the ratio of death events between groups remains constant over time?\n",
        "Well we can check for that."
      ]
    },
    {
      "metadata": {
        "id": "XEG4bSlUsgyC",
        "colab_type": "code",
        "colab": {}
      },
      "cell_type": "code",
      "source": [
        "cph.check_assumptions(leukemia)"
      ],
      "execution_count": 0,
      "outputs": []
    },
    {
      "metadata": {
        "id": "ZO_dFbKesgyG",
        "colab_type": "code",
        "colab": {}
      },
      "cell_type": "code",
      "source": [
        "# We can see that the sex variable is not very useful by plotting the coefficients\n",
        "cph.plot()"
      ],
      "execution_count": 0,
      "outputs": []
    },
    {
      "metadata": {
        "id": "D1rwy5wMsgyL",
        "colab_type": "code",
        "colab": {}
      },
      "cell_type": "code",
      "source": [
        "# Let's do what the check_assumptions function suggested\n",
        "cph = lifelines.CoxPHFitter()\n",
        "cph.fit(leukemia, 't', event_col='status', strata=['sex'])\n",
        "cph.print_summary()\n",
        "cph.baseline_cumulative_hazard_.shape"
      ],
      "execution_count": 0,
      "outputs": []
    },
    {
      "metadata": {
        "id": "Qn4HZjeGsgyP",
        "colab_type": "text"
      },
      "cell_type": "markdown",
      "source": [
        "Notice that this regression has `Likelihood ratio test = 74.90 on 2 df, log(p)=-37.45`, while the one that included `sex` had `Likelihood ratio test = 47.19 on 3 df, log(p)=-21.87`. The LRT is higher and log(p) is lower, meaning this is likely a better fitting model."
      ]
    },
    {
      "metadata": {
        "id": "jL8JzzhIsgyQ",
        "colab_type": "code",
        "colab": {}
      },
      "cell_type": "code",
      "source": [
        "cph.plot()"
      ],
      "execution_count": 0,
      "outputs": []
    },
    {
      "metadata": {
        "id": "Py4DYu_XsgyU",
        "colab_type": "code",
        "colab": {}
      },
      "cell_type": "code",
      "source": [
        "cph.compute_residuals(leukemia, kind='score')"
      ],
      "execution_count": 0,
      "outputs": []
    },
    {
      "metadata": {
        "id": "LMN1uGnQsgyY",
        "colab_type": "code",
        "colab": {}
      },
      "cell_type": "code",
      "source": [
        "cph.predict_cumulative_hazard(leukemia[:5])"
      ],
      "execution_count": 0,
      "outputs": []
    },
    {
      "metadata": {
        "id": "bs_Npp6osgyc",
        "colab_type": "code",
        "colab": {}
      },
      "cell_type": "code",
      "source": [
        "surv_func = cph.predict_survival_function(leukemia[:5])\n",
        "\n",
        "exp_lifetime = cph.predict_expectation(leukemia[:5])\n",
        "\n",
        "plt.plot(surv_func)\n",
        "\n",
        "exp_lifetime"
      ],
      "execution_count": 0,
      "outputs": []
    },
    {
      "metadata": {
        "id": "z7NNzQ_5sgyh",
        "colab_type": "code",
        "colab": {}
      },
      "cell_type": "code",
      "source": [
        "# lifelines comes with some datasets to get you started playing around with it\n",
        "# The Rossi dataset originally comes from Rossi et al. (1980), \n",
        "# and is used as an example in Allison (1995). \n",
        "\n",
        "# The data pertain to 432 convicts who were released from Maryland state prisons \n",
        "# in the 1970s and who were followed up for one year after release. Half the \n",
        "# released convicts were assigned at random to an experimental treatment in \n",
        "# which they were given financial aid; half did not receive aid.\n",
        "\n",
        "from lifelines.datasets import load_rossi\n",
        "recidivism = load_rossi()\n",
        "\n",
        "recidivism.head()\n",
        "\n",
        "# Looking at the Rossi dataset, how long do you think the study lasted?\n",
        "\n",
        "# All features are coded with numerical values, but which features do you think \n",
        "# are actually categorical?"
      ],
      "execution_count": 0,
      "outputs": []
    },
    {
      "metadata": {
        "id": "1VjqAV3ksgyk",
        "colab_type": "code",
        "colab": {}
      },
      "cell_type": "code",
      "source": [
        "recidivism.info()"
      ],
      "execution_count": 0,
      "outputs": []
    },
    {
      "metadata": {
        "id": "LVq_ZOFgsgyq",
        "colab_type": "code",
        "colab": {}
      },
      "cell_type": "code",
      "source": [
        "recidivism.describe()"
      ],
      "execution_count": 0,
      "outputs": []
    },
    {
      "metadata": {
        "id": "Wg1s1bpJsgyt",
        "colab_type": "text"
      },
      "cell_type": "markdown",
      "source": [
        "### These are the \"lifelines\" of the study participants as they attempt to avoid recidivism"
      ]
    },
    {
      "metadata": {
        "id": "XqhPJfltsgyv",
        "colab_type": "code",
        "colab": {}
      },
      "cell_type": "code",
      "source": [
        "recidivism_sample = recidivism.sample(n=25)\n",
        "\n",
        "duration = recidivism_sample.week.values\n",
        "arrested = recidivism_sample.arrest.values\n",
        "\n",
        "ax = lifelines.plotting.plot_lifetimes(duration, event_observed=arrested)\n",
        "ax.set_xlim(0, 78)\n",
        "ax.grid(axis='x')\n",
        "ax.vlines(52, 0, 25, lw=2, linestyles='--')\n",
        "ax.set_xlabel(\"Time in Weeks\")\n",
        "ax.set_title(\"Recidivism Rates\");\n",
        "plt.plot();"
      ],
      "execution_count": 0,
      "outputs": []
    },
    {
      "metadata": {
        "id": "lz4mF5kHsgy1",
        "colab_type": "code",
        "colab": {}
      },
      "cell_type": "code",
      "source": [
        "kmf = lifelines.KaplanMeierFitter()\n",
        "\n",
        "duration = recidivism.week\n",
        "arrested = recidivism.arrest\n",
        "\n",
        "kmf.fit(duration, arrested)"
      ],
      "execution_count": 0,
      "outputs": []
    },
    {
      "metadata": {
        "id": "RA1FMgDNsgy4",
        "colab_type": "code",
        "colab": {}
      },
      "cell_type": "code",
      "source": [
        "kmf.survival_function_.plot()\n",
        "plt.title('Survival Curve:\\nRecidivism of Recently Released Prisoners');"
      ],
      "execution_count": 0,
      "outputs": []
    },
    {
      "metadata": {
        "id": "PXveA6jesgy8",
        "colab_type": "code",
        "colab": {}
      },
      "cell_type": "code",
      "source": [
        "kmf.plot()\n",
        "plt.title('Survival Function of Recidivism Data');"
      ],
      "execution_count": 0,
      "outputs": []
    },
    {
      "metadata": {
        "id": "Mt3ucIbgsgzB",
        "colab_type": "code",
        "colab": {}
      },
      "cell_type": "code",
      "source": [
        "print(f'Median time before recidivism: {kmf.median_} weeks')"
      ],
      "execution_count": 0,
      "outputs": []
    },
    {
      "metadata": {
        "id": "c9e5lAV7sgzH",
        "colab_type": "code",
        "colab": {}
      },
      "cell_type": "code",
      "source": [
        "kmf_w_aid = lifelines.KaplanMeierFitter()\n",
        "kmf_no_aid = lifelines.KaplanMeierFitter()\n",
        "\n",
        "ax = plt.subplot(111)\n",
        "\n",
        "w_aid = (recidivism['fin']==1)\n",
        "\n",
        "t = np.linspace(0, 70, 71)\n",
        "kmf_w_aid.fit(duration[w_aid], event_observed=arrested[w_aid], timeline=t, label=\"Received Financial Aid\")\n",
        "ax = kmf_w_aid.plot(ax=ax)\n",
        "#print(\"Median survival time of democratic:\", kmf.median_)\n",
        "\n",
        "kmf_no_aid.fit(duration[~w_aid], event_observed=arrested[~w_aid], timeline=t, label=\"No Financial Aid\")\n",
        "ax = kmf_no_aid.plot(ax=ax)\n",
        "#print(\"Median survival time of non-democratic:\", kmf.median_)\n",
        "\n",
        "plt.ylim(.5,1)\n",
        "plt.title(\"Recidivism for Participants Who Received Financial Aid \\vs. Those Who Did Not\");"
      ],
      "execution_count": 0,
      "outputs": []
    },
    {
      "metadata": {
        "id": "zdM4GOAOsgzN",
        "colab_type": "code",
        "colab": {}
      },
      "cell_type": "code",
      "source": [
        "naf = lifelines.NelsonAalenFitter()\n",
        "naf.fit(duration, arrested)\n",
        "\n",
        "print(naf.cumulative_hazard_.head())\n",
        "naf.plot()"
      ],
      "execution_count": 0,
      "outputs": []
    },
    {
      "metadata": {
        "id": "uJVPVtmYsgzR",
        "colab_type": "code",
        "colab": {}
      },
      "cell_type": "code",
      "source": [
        "naf_w_aid = lifelines.NelsonAalenFitter()\n",
        "naf_no_aid = lifelines.NelsonAalenFitter()\n",
        "\n",
        "naf_w_aid.fit(duration[w_aid], event_observed=arrested[w_aid], timeline=t, label=\"Received Financial Aid\")\n",
        "ax = naf_w_aid.plot(loc=slice(0, 50))\n",
        "naf_no_aid.fit(duration[~w_aid], event_observed=arrested[~w_aid], timeline=t, label=\"No Financial Aid\")\n",
        "ax = naf_no_aid.plot(ax=ax, loc=slice(0, 50))\n",
        "plt.title(\"Recidivism Cumulative Hazard\\nfor Participants Who Received Financial Aid \\nvs. Those Who Did Not\");\n",
        "plt.show()"
      ],
      "execution_count": 0,
      "outputs": []
    },
    {
      "metadata": {
        "id": "5KbuDkxjsgzV",
        "colab_type": "code",
        "colab": {}
      },
      "cell_type": "code",
      "source": [
        "cph = lifelines.CoxPHFitter()\n",
        "cph.fit(recidivism, duration_col='week', event_col='arrest', show_progress=True)\n",
        "\n",
        "cph.print_summary()"
      ],
      "execution_count": 0,
      "outputs": []
    },
    {
      "metadata": {
        "id": "QoWVH0XDsgzX",
        "colab_type": "code",
        "colab": {}
      },
      "cell_type": "code",
      "source": [
        "cph.plot()"
      ],
      "execution_count": 0,
      "outputs": []
    },
    {
      "metadata": {
        "id": "r8qPQeKVsgza",
        "colab_type": "code",
        "colab": {}
      },
      "cell_type": "code",
      "source": [
        "cph.plot_covariate_groups('fin', [0, 1])"
      ],
      "execution_count": 0,
      "outputs": []
    },
    {
      "metadata": {
        "id": "PPSlBmp-sgzc",
        "colab_type": "code",
        "colab": {}
      },
      "cell_type": "code",
      "source": [
        "cph.plot_covariate_groups('prio', [0, 5, 10, 15])"
      ],
      "execution_count": 0,
      "outputs": []
    },
    {
      "metadata": {
        "id": "8H4IMry_sgzf",
        "colab_type": "code",
        "colab": {}
      },
      "cell_type": "code",
      "source": [
        "r = cph.compute_residuals(recidivism, 'martingale')\n",
        "r.head()"
      ],
      "execution_count": 0,
      "outputs": []
    },
    {
      "metadata": {
        "id": "4gi-OTLMsgzs",
        "colab_type": "code",
        "colab": {}
      },
      "cell_type": "code",
      "source": [
        "cph = lifelines.CoxPHFitter()\n",
        "cph.fit(recidivism, duration_col='week', event_col='arrest', show_progress=True)\n",
        "\n",
        "cph.print_summary()"
      ],
      "execution_count": 0,
      "outputs": []
    },
    {
      "metadata": {
        "id": "ZNAc3sAVsgzv",
        "colab_type": "code",
        "colab": {}
      },
      "cell_type": "code",
      "source": [
        "cph.plot();"
      ],
      "execution_count": 0,
      "outputs": []
    },
    {
      "metadata": {
        "id": "jSWSmL8nsgzx",
        "colab_type": "code",
        "colab": {}
      },
      "cell_type": "code",
      "source": [
        "cph.plot_covariate_groups('prio', [0, 5, 10, 15]);"
      ],
      "execution_count": 0,
      "outputs": []
    },
    {
      "metadata": {
        "id": "iODFHl9Usgzz",
        "colab_type": "code",
        "colab": {}
      },
      "cell_type": "code",
      "source": [
        "cph.check_assumptions(recidivism)"
      ],
      "execution_count": 0,
      "outputs": []
    },
    {
      "metadata": {
        "id": "XY-yJuKcsgz1",
        "colab_type": "text"
      },
      "cell_type": "markdown",
      "source": [
        "## The Intuition - Hazard and Survival Functions\n",
        "\n",
        "### Hazard Function - the dangerous bathtub\n",
        "\n",
        "The hazard function represents the *instantaneous* likelihood of failure. It can be treated as a PDF (probability density function), and with real-world data comes in three typical shapes.\n",
        "\n",
        "![Different hazard functions](https://upload.wikimedia.org/wikipedia/commons/2/25/Compsyseng17_04.jpg)\n",
        "\n",
        "Increasing and decreasing failure rate are fairly intuitive - the \"bathtub\" shaped is perhaps the most surprising, but actually models many real-world situations. In fact, life expectancy in general, and most threats to it, assume this shape.\n",
        "\n",
        "What the \"bathtub\" means is that - threats are highest at youth (e.g. infant mortality), but then decrease and stabilize at maturity, only to eventually re-emerge in old age. Many diseases primarily threaten children and elderly, and middle aged people are also more robust to physical trauma.\n",
        "\n",
        "The \"bathtub\" is also suitable for many non-human situations - often with reliability analysis, mechanical parts either fail early (due to manufacturing defects), or they survive and have a relatively long lifetime to eventually fail out of age and use.\n",
        "\n",
        "### Survival Function (aka reliability function) - it's just a (backwards) CDF\n",
        "\n",
        "Since the hazard function can be treated as a probability density function, it makes sense to think about the corresponding cumulative distribution function (CDF). But because we're modeling time to failure, it's actually more interesting to look at the CDF backwards - this is called the complementary cumulative distribution function.\n",
        "\n",
        "In survival analysis there's a special name for it - the survival function - and it gives the probability that the object being studied will survive beyond a given time.\n",
        "\n",
        "![4 survival functions](https://upload.wikimedia.org/wikipedia/commons/e/e0/Four_survival_functions.svg)\n",
        "\n",
        "As you can see they all start at 1 for time 0 - at the beginning, all things are alive. Then they all move down over time to eventually approach and converge to 0. The different shapes reflect the average/expected retention of a population subject to this function over time, and as such this is a particularly useful visualization when modeling overall retention/churn situations.\n",
        "\n",
        "### Ways to estimate/model survival analysis - terms to be aware of\n",
        "Key Components Necessary for these models - duration, and whether observation is censored.\n",
        "\n",
        "- Kaplan Meier Estimator\n",
        "- Nelson-Aalen Estimator\n",
        "- Proportional Hazards (Cox Model, integrates covariates)\n",
        "- Additive Hazards Model (Aalen's Additive Model, when covariates are time-dependent)\n",
        "\n",
        "As with most statistics, these are all refinements of the general principles, with the math to back them up. Software packages will tend to select reasonable defaults, and allow you to use parameters to tune or select things. The math for these gets varied and deep - but feel free to [dive in](https://en.wikipedia.org/wiki/Survival_analysis) if you're curious!"
      ]
    },
    {
      "metadata": {
        "id": "Su5WdRa139yW",
        "colab_type": "text"
      },
      "cell_type": "markdown",
      "source": [
        "## Live! Let's try modeling heart attack survival\n",
        "\n",
        "https://archive.ics.uci.edu/ml/datasets/echocardiogram"
      ]
    },
    {
      "metadata": {
        "id": "4GcRG1ussgz1",
        "colab_type": "code",
        "colab": {}
      },
      "cell_type": "code",
      "source": [
        "# TODO - Live! (As time permits)"
      ],
      "execution_count": 0,
      "outputs": []
    },
    {
      "metadata": {
        "id": "8tMyVxHRa3cQ",
        "colab_type": "text"
      },
      "cell_type": "markdown",
      "source": [
        "# Assignment - Customer Churn\n",
        "\n",
        "Treselle Systems, a data consulting service, [analyzed customer churn data using logistic regression](http://www.treselle.com/blog/customer-churn-logistic-regression-with-r/). For simply modeling whether or not a customer left this can work, but if we want to model the actual tenure of a customer, survival analysis is more appropriate.\n",
        "\n",
        "The \"tenure\" feature represents the duration that a given customer has been with them, and \"churn\" represents whether or not that customer left (i.e. the \"event\", from a survival analysis perspective). So, any situation where churn is \"no\" means that a customer is still active, and so from a survival analysis perspective the observation is censored (we have their tenure up to now, but we don't know their *true* duration until event).\n",
        "\n",
        "Your assignment is to [use their data](https://github.com/treselle-systems/customer_churn_analysis) to fit a survival model, and answer the following questions:\n",
        "\n",
        "- What features best model customer churn?\n",
        "- What would you characterize as the \"warning signs\" that a customer may discontinue service?\n",
        "- What actions would you recommend to this business to try to improve their customer retention?\n",
        "\n",
        "Please create at least *3* plots or visualizations to support your findings, and in general write your summary/results targeting an \"interested layperson\" (e.g. your hypothetical business manager) as your audience.\n",
        "\n",
        "This means that, as is often the case in data science, there isn't a single objective right answer - your goal is to *support* your answer, whatever it is, with data and reasoning.\n",
        "\n",
        "Good luck!"
      ]
    },
    {
      "metadata": {
        "id": "OIfMQKnSy8Zl",
        "colab_type": "code",
        "colab": {}
      },
      "cell_type": "code",
      "source": [
        "# Loading the data to get you started\n",
        "churn_data = pd.read_csv(\n",
        "    'https://raw.githubusercontent.com/treselle-systems/'\n",
        "    'customer_churn_analysis/master/WA_Fn-UseC_-Telco-Customer-Churn.csv')\n",
        "churn_data.head()"
      ],
      "execution_count": 0,
      "outputs": []
    },
    {
      "metadata": {
        "id": "lmGBY5fX0bmu",
        "colab_type": "code",
        "colab": {}
      },
      "cell_type": "code",
      "source": [
        "churn_data.info()  # A lot of these are \"object\" - some may need to be fixed..."
      ],
      "execution_count": 0,
      "outputs": []
    },
    {
      "metadata": {
        "id": "Vaqh-1Dqa4hz",
        "colab_type": "text"
      },
      "cell_type": "markdown",
      "source": [
        "# Resources and stretch goals\n",
        "\n",
        "Resources:\n",
        "- [Wikipedia on Survival analysis](https://en.wikipedia.org/wiki/Survival_analysis)\n",
        "- [Wikipedia on Survival functions](https://en.wikipedia.org/wiki/Survival_function)\n",
        "- [Summary of survival analysis by a biostatistician](http://sphweb.bumc.bu.edu/otlt/MPH-Modules/BS/BS704_Survival/BS704_Survival_print.html)\n",
        "- [Another medical statistics article on survival analysis](https://www.sciencedirect.com/science/article/pii/S1756231716300639)\n",
        "- [Survival analysis using R lecture slides](http://www.stat.columbia.edu/~madigan/W2025/notes/survival.pdf)\n",
        "\n",
        "Stretch goals:\n",
        "- Make ~5 slides that summarize and deliver your findings, as if you were to present them in a business meeting\n",
        "- Revisit any of the data from the lecture material, and explore/dig deeper\n",
        "- Write your own Python functions to calculate a simple hazard or survival function, and try to generate and plot data with them"
      ]
    }
  ]
}