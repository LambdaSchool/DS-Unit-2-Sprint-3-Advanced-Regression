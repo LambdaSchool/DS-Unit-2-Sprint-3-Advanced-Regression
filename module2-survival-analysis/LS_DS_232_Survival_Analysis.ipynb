{
  "nbformat": 4,
  "nbformat_minor": 0,
  "metadata": {
    "colab": {
      "name": "LS_DS_232_Survival_Analysis.ipynb",
      "version": "0.3.2",
      "provenance": []
    },
    "kernelspec": {
      "display_name": "Python 3",
      "language": "python",
      "name": "python3"
    }
  },
  "cells": [
    {
      "metadata": {
        "id": "DSUEMY8usgwJ",
        "colab_type": "text"
      },
      "cell_type": "markdown",
      "source": [
        "# Lambda School Data Science - Survival Analysis\n",
        "![My normal approach is useless here, too.](https://imgs.xkcd.com/comics/probability.png)\n",
        "\n",
        "https://xkcd.com/881/\n",
        "\n",
        "The aim of survival analysis is to analyze the effect of different risk factors and use them to predict the duration of time between one event (\"birth\") and another (\"death\")."
      ]
    },
    {
      "metadata": {
        "id": "Xp-QnVAgfud4",
        "colab_type": "text"
      },
      "cell_type": "markdown",
      "source": [
        "# Lecture\n",
        "\n",
        "Survival analysis was first developed by actuaries and medical professionals to predict (as its name implies) how long individuals would survive. However, it has expanded into include many different applications.\n",
        "* it is referred to as **reliability analysis** in engineering\n",
        "* it can be referred to more generally as **time-to-event analysis**\n",
        "\n",
        "In the general sense, it can be thought of as a way to model anything with a finite duration - retention, churn, completion, etc. The culmination of this duration may have a \"good\" or \"bad\" (or \"neutral\") connotation, depending on the situation. However old habits die hard, so most often it is called survival analysis and the following definitions are still commonly used:\n",
        "\n",
        "* birth: the event that marks the beginning of the time period for observation\n",
        "* death: the event of interest, which then marks the end of the observation period for an individual\n",
        "\n",
        "### Examples\n",
        "* Customer churn\n",
        " * birth event: customer subscribes to a service\n",
        " * death event: customer leaves the service\n",
        "* Employee retention\n",
        " * birth event: employee is hired\n",
        " * death event: employee quits\n",
        "* Engineering, part reliability\n",
        " * birth event: part is put in use\n",
        " * death event: part fails\n",
        "* Program completion\n",
        " * birth event: student begins PhD program\n",
        " * death event: student earns PhD\n",
        "* Response time\n",
        " * birth event: 911 call is made\n",
        " * death event: police arrive\n",
        "* Lambda School\n",
        " * birth event: student graduates LambdaSchool\n",
        " * death event: student gets a job!\n",
        " \n",
        "Take a moment and try to come up with your own specific example or two.\n",
        "\n",
        "#### So... if all we're predicting here is a length of time between two events, why can't we just use regular old Linear Regression?\n",
        "Well... if you have all the data, go for it. In some situations it may be reasonably effective.\n",
        "\n",
        "#### But, data for survival times are often highly skewed and, more importantly, we don't always get a chance to observe the \"death\" event. The current time or other factors interfere with our ability to observe the time of the event of interest. These observations are said to be _censored_.\n",
        "\n",
        "Additionally, the occurrence or non-occurrence of an event is binary - so, while the time is continuous, the event itself is in some ways similar to a binary event in logistic regression.\n",
        "\n",
        "## Censorship in Data\n",
        "\n",
        "Suppose a new cancer treatment is developed. Researchers select 50 individuals for the study to undergo treatment and participate in post-treatment obsesrvation.\n",
        "\n",
        "##### Birth Event = Participant begins trial\n",
        "##### Death Event = Participant dies due to cancer or complications of cancer\n",
        "During the study:\n",
        "1. Some participants die during the course of the study--triggering their death event \n",
        "2. Some participants drop out or the researchers otherwise lose contact with them. The researchers have their data up intil the time they dropped out, but they don't have a death event to record\n",
        "3. Some participants are still be alive at the end of the observation period. So again, researchers have their data up until some point, but there is no death event to record\n",
        "\n",
        "We only know the interval between the \"birth\" event and the \"death\" event for participants in category 1. All others we only know that they survived _up to_ a certain point.\n",
        "\n",
        "### Dealing with Censored Data\n",
        "\n",
        "Without survival analysis, we could deal with censored data in two ways:\n",
        "* We could just treat the end of the observation period as the time of the death event\n",
        "* (Even worse) We could drop the censored data using the rationale that we have \"incomplete data\" for those observations\n",
        "\n",
        "But... both of these will underestimate survival rates for the purpose of the study. We **know** that all those individuals \"survived\" the \"death event\" past a certain point.\n",
        "\n",
        "Luckily, in the 1980s a pair of smarty pants named David (main author Cox and coauthor Oakes) did the hard math work to make it possible to incorporate additional features as predictive measures to survival time probabilities. (Fun fact, the one named Cox also came up with logistic regression with non-David coauthor, Joyce Snell.)\n",
        "\n",
        "## lifelines\n",
        "It wasn't until 2014 that some other smart people made an implementation of survival analysis in Python called lifelines. \n",
        "It is built over Pandas and follows the same conventions for usage as scikit-learn.\n",
        "\n",
        "_Additional note: scikit pushed out a survival analysis implementation last year (2018) named scikit-survival that is imported by the name `sksurv`. It's super new so it may/may not have a bunch of bugs... but if you're interested you can check it out in the future. (For comparison, scikit originally came out in 2007 and Pandas came out in 2008)._"
      ]
    },
    {
      "metadata": {
        "id": "ZrCb7TULsgwP",
        "colab_type": "code",
        "outputId": "ae4bf0f3-eb43-40dd-c860-628afeea8173",
        "colab": {
          "base_uri": "https://localhost:8080/",
          "height": 235
        }
      },
      "cell_type": "code",
      "source": [
        "!pip install lifelines"
      ],
      "execution_count": 64,
      "outputs": [
        {
          "output_type": "stream",
          "text": [
            "Requirement already satisfied: lifelines in /usr/local/lib/python3.6/dist-packages (0.17.2)\n",
            "Requirement already satisfied: bottleneck>=1.0 in /usr/local/lib/python3.6/dist-packages (from lifelines) (1.2.1)\n",
            "Requirement already satisfied: numpy>=1.6.0 in /usr/local/lib/python3.6/dist-packages (from lifelines) (1.14.6)\n",
            "Requirement already satisfied: matplotlib<3.0,>=2.0 in /usr/local/lib/python3.6/dist-packages (from lifelines) (2.2.3)\n",
            "Requirement already satisfied: scipy>=1.0 in /usr/local/lib/python3.6/dist-packages (from lifelines) (1.1.0)\n",
            "Requirement already satisfied: pandas>=0.18 in /usr/local/lib/python3.6/dist-packages (from lifelines) (0.22.0)\n",
            "Requirement already satisfied: cycler>=0.10 in /usr/local/lib/python3.6/dist-packages (from matplotlib<3.0,>=2.0->lifelines) (0.10.0)\n",
            "Requirement already satisfied: pyparsing!=2.0.4,!=2.1.2,!=2.1.6,>=2.0.1 in /usr/local/lib/python3.6/dist-packages (from matplotlib<3.0,>=2.0->lifelines) (2.3.1)\n",
            "Requirement already satisfied: pytz in /usr/local/lib/python3.6/dist-packages (from matplotlib<3.0,>=2.0->lifelines) (2018.9)\n",
            "Requirement already satisfied: six>=1.10 in /usr/local/lib/python3.6/dist-packages (from matplotlib<3.0,>=2.0->lifelines) (1.11.0)\n",
            "Requirement already satisfied: kiwisolver>=1.0.1 in /usr/local/lib/python3.6/dist-packages (from matplotlib<3.0,>=2.0->lifelines) (1.0.1)\n",
            "Requirement already satisfied: python-dateutil>=2.1 in /usr/local/lib/python3.6/dist-packages (from matplotlib<3.0,>=2.0->lifelines) (2.5.3)\n",
            "Requirement already satisfied: setuptools in /usr/local/lib/python3.6/dist-packages (from kiwisolver>=1.0.1->matplotlib<3.0,>=2.0->lifelines) (40.6.3)\n"
          ],
          "name": "stdout"
        }
      ]
    },
    {
      "metadata": {
        "id": "E8rpzq9zsgwn",
        "colab_type": "code",
        "colab": {}
      },
      "cell_type": "code",
      "source": [
        "import numpy as np\n",
        "import pandas as pd\n",
        "import matplotlib.pyplot as plt\n",
        "import lifelines"
      ],
      "execution_count": 0,
      "outputs": []
    },
    {
      "metadata": {
        "id": "d51G4sPqsgww",
        "colab_type": "code",
        "outputId": "3287c8b4-1e7a-45b7-fbbb-dbc47759fcee",
        "colab": {
          "base_uri": "https://localhost:8080/",
          "height": 195
        }
      },
      "cell_type": "code",
      "source": [
        "# lifelines comes with some datasets to get you started playing around with it.\n",
        "# Most of the datasets are cleaned-up versions of real datasets. Here we will\n",
        "# use their Leukemia dataset comparing 2 different treatments taken from\n",
        "# http://web1.sph.emory.edu/dkleinb/allDatasets/surv2datasets/anderson.dat\n",
        "\n",
        "from lifelines.datasets import load_leukemia\n",
        "leukemia = load_leukemia()\n",
        "\n",
        "leukemia.head()"
      ],
      "execution_count": 66,
      "outputs": [
        {
          "output_type": "execute_result",
          "data": {
            "text/html": [
              "<div>\n",
              "<style scoped>\n",
              "    .dataframe tbody tr th:only-of-type {\n",
              "        vertical-align: middle;\n",
              "    }\n",
              "\n",
              "    .dataframe tbody tr th {\n",
              "        vertical-align: top;\n",
              "    }\n",
              "\n",
              "    .dataframe thead th {\n",
              "        text-align: right;\n",
              "    }\n",
              "</style>\n",
              "<table border=\"1\" class=\"dataframe\">\n",
              "  <thead>\n",
              "    <tr style=\"text-align: right;\">\n",
              "      <th></th>\n",
              "      <th>t</th>\n",
              "      <th>status</th>\n",
              "      <th>sex</th>\n",
              "      <th>logWBC</th>\n",
              "      <th>Rx</th>\n",
              "    </tr>\n",
              "  </thead>\n",
              "  <tbody>\n",
              "    <tr>\n",
              "      <th>0</th>\n",
              "      <td>35</td>\n",
              "      <td>0</td>\n",
              "      <td>1</td>\n",
              "      <td>1.45</td>\n",
              "      <td>0</td>\n",
              "    </tr>\n",
              "    <tr>\n",
              "      <th>1</th>\n",
              "      <td>34</td>\n",
              "      <td>0</td>\n",
              "      <td>1</td>\n",
              "      <td>1.47</td>\n",
              "      <td>0</td>\n",
              "    </tr>\n",
              "    <tr>\n",
              "      <th>2</th>\n",
              "      <td>32</td>\n",
              "      <td>0</td>\n",
              "      <td>1</td>\n",
              "      <td>2.20</td>\n",
              "      <td>0</td>\n",
              "    </tr>\n",
              "    <tr>\n",
              "      <th>3</th>\n",
              "      <td>32</td>\n",
              "      <td>0</td>\n",
              "      <td>1</td>\n",
              "      <td>2.53</td>\n",
              "      <td>0</td>\n",
              "    </tr>\n",
              "    <tr>\n",
              "      <th>4</th>\n",
              "      <td>25</td>\n",
              "      <td>0</td>\n",
              "      <td>1</td>\n",
              "      <td>1.78</td>\n",
              "      <td>0</td>\n",
              "    </tr>\n",
              "  </tbody>\n",
              "</table>\n",
              "</div>"
            ],
            "text/plain": [
              "    t  status  sex  logWBC  Rx\n",
              "0  35       0    1    1.45   0\n",
              "1  34       0    1    1.47   0\n",
              "2  32       0    1    2.20   0\n",
              "3  32       0    1    2.53   0\n",
              "4  25       0    1    1.78   0"
            ]
          },
          "metadata": {
            "tags": []
          },
          "execution_count": 66
        }
      ]
    },
    {
      "metadata": {
        "id": "xIlaPncgsgw7",
        "colab_type": "text"
      },
      "cell_type": "markdown",
      "source": [
        "### You can you any Pandas DataFrame with lifelines. \n",
        "### The only requirement is that the DataFrame includes features that describe:\n",
        "* a duration of time for the observation\n",
        "* a binary column regarding censorship (`1` if the death event was observed, `0` if the death event was not observed)\n",
        "\n",
        "Sometimes, you will have to engineer these features. How might you go about that? What information would you need?"
      ]
    },
    {
      "metadata": {
        "id": "DQ936c5tsgw-",
        "colab_type": "code",
        "outputId": "332a38ea-20eb-4ab6-a0c0-e9bfe61b3c6f",
        "colab": {
          "base_uri": "https://localhost:8080/",
          "height": 185
        }
      },
      "cell_type": "code",
      "source": [
        "leukemia.info()"
      ],
      "execution_count": 67,
      "outputs": [
        {
          "output_type": "stream",
          "text": [
            "<class 'pandas.core.frame.DataFrame'>\n",
            "RangeIndex: 42 entries, 0 to 41\n",
            "Data columns (total 5 columns):\n",
            "t         42 non-null int64\n",
            "status    42 non-null int64\n",
            "sex       42 non-null int64\n",
            "logWBC    42 non-null float64\n",
            "Rx        42 non-null int64\n",
            "dtypes: float64(1), int64(4)\n",
            "memory usage: 1.7 KB\n"
          ],
          "name": "stdout"
        }
      ]
    },
    {
      "metadata": {
        "id": "MDvA8Z9rsgxL",
        "colab_type": "code",
        "outputId": "d77626f8-12dd-4a77-85d6-f27047f229bb",
        "colab": {
          "base_uri": "https://localhost:8080/",
          "height": 284
        }
      },
      "cell_type": "code",
      "source": [
        "leukemia.describe()"
      ],
      "execution_count": 68,
      "outputs": [
        {
          "output_type": "execute_result",
          "data": {
            "text/html": [
              "<div>\n",
              "<style scoped>\n",
              "    .dataframe tbody tr th:only-of-type {\n",
              "        vertical-align: middle;\n",
              "    }\n",
              "\n",
              "    .dataframe tbody tr th {\n",
              "        vertical-align: top;\n",
              "    }\n",
              "\n",
              "    .dataframe thead th {\n",
              "        text-align: right;\n",
              "    }\n",
              "</style>\n",
              "<table border=\"1\" class=\"dataframe\">\n",
              "  <thead>\n",
              "    <tr style=\"text-align: right;\">\n",
              "      <th></th>\n",
              "      <th>t</th>\n",
              "      <th>status</th>\n",
              "      <th>sex</th>\n",
              "      <th>logWBC</th>\n",
              "      <th>Rx</th>\n",
              "    </tr>\n",
              "  </thead>\n",
              "  <tbody>\n",
              "    <tr>\n",
              "      <th>count</th>\n",
              "      <td>42.000000</td>\n",
              "      <td>42.000000</td>\n",
              "      <td>42.000000</td>\n",
              "      <td>42.000000</td>\n",
              "      <td>42.000000</td>\n",
              "    </tr>\n",
              "    <tr>\n",
              "      <th>mean</th>\n",
              "      <td>12.880952</td>\n",
              "      <td>0.714286</td>\n",
              "      <td>0.476190</td>\n",
              "      <td>2.930238</td>\n",
              "      <td>0.500000</td>\n",
              "    </tr>\n",
              "    <tr>\n",
              "      <th>std</th>\n",
              "      <td>9.347498</td>\n",
              "      <td>0.457230</td>\n",
              "      <td>0.505487</td>\n",
              "      <td>0.917522</td>\n",
              "      <td>0.506061</td>\n",
              "    </tr>\n",
              "    <tr>\n",
              "      <th>min</th>\n",
              "      <td>1.000000</td>\n",
              "      <td>0.000000</td>\n",
              "      <td>0.000000</td>\n",
              "      <td>1.450000</td>\n",
              "      <td>0.000000</td>\n",
              "    </tr>\n",
              "    <tr>\n",
              "      <th>25%</th>\n",
              "      <td>6.000000</td>\n",
              "      <td>0.000000</td>\n",
              "      <td>0.000000</td>\n",
              "      <td>2.302500</td>\n",
              "      <td>0.000000</td>\n",
              "    </tr>\n",
              "    <tr>\n",
              "      <th>50%</th>\n",
              "      <td>10.500000</td>\n",
              "      <td>1.000000</td>\n",
              "      <td>0.000000</td>\n",
              "      <td>2.800000</td>\n",
              "      <td>0.500000</td>\n",
              "    </tr>\n",
              "    <tr>\n",
              "      <th>75%</th>\n",
              "      <td>18.500000</td>\n",
              "      <td>1.000000</td>\n",
              "      <td>1.000000</td>\n",
              "      <td>3.490000</td>\n",
              "      <td>1.000000</td>\n",
              "    </tr>\n",
              "    <tr>\n",
              "      <th>max</th>\n",
              "      <td>35.000000</td>\n",
              "      <td>1.000000</td>\n",
              "      <td>1.000000</td>\n",
              "      <td>5.000000</td>\n",
              "      <td>1.000000</td>\n",
              "    </tr>\n",
              "  </tbody>\n",
              "</table>\n",
              "</div>"
            ],
            "text/plain": [
              "               t     status        sex     logWBC         Rx\n",
              "count  42.000000  42.000000  42.000000  42.000000  42.000000\n",
              "mean   12.880952   0.714286   0.476190   2.930238   0.500000\n",
              "std     9.347498   0.457230   0.505487   0.917522   0.506061\n",
              "min     1.000000   0.000000   0.000000   1.450000   0.000000\n",
              "25%     6.000000   0.000000   0.000000   2.302500   0.000000\n",
              "50%    10.500000   1.000000   0.000000   2.800000   0.500000\n",
              "75%    18.500000   1.000000   1.000000   3.490000   1.000000\n",
              "max    35.000000   1.000000   1.000000   5.000000   1.000000"
            ]
          },
          "metadata": {
            "tags": []
          },
          "execution_count": 68
        }
      ]
    },
    {
      "metadata": {
        "id": "tDasOEocsgxQ",
        "colab_type": "code",
        "outputId": "eac768f9-8984-4c29-bc0b-1b6b79a1a70f",
        "colab": {
          "base_uri": "https://localhost:8080/",
          "height": 295
        }
      },
      "cell_type": "code",
      "source": [
        "time = leukemia.t.values\n",
        "event = leukemia.status.values\n",
        "\n",
        "ax = lifelines.plotting.plot_lifetimes(time, event_observed=event)\n",
        "ax.set_xlim(0, 40)\n",
        "ax.grid(axis='x')\n",
        "ax.set_xlabel(\"Time in Months\")\n",
        "ax.set_title(\"Lifelines for Survival of Leukemia Patients\");\n",
        "plt.plot();"
      ],
      "execution_count": 69,
      "outputs": [
        {
          "output_type": "display_data",
          "data": {
            "image/png": "[encoded data removed]",
            "text/plain": [
              "<Figure size 432x288 with 1 Axes>"
            ]
          },
          "metadata": {
            "tags": []
          }
        }
      ]
    },
    {
      "metadata": {
        "id": "5oEzZ_aqsgxV",
        "colab_type": "text"
      },
      "cell_type": "markdown",
      "source": [
        "## Kaplan-Meier survival estimate\n",
        " \n",
        "The Kaplan-Meier method estimates survival probability from observed survival times. It results in a step function that changes value only at the time of each event, and confidence intervals can be computer for the survival probabilities. \n",
        "\n",
        "The KM survival curve,a plot of KM survival probability against time, provides a useful summary of the data.\n",
        "It can be used to estimate measures such as median survival time.\n",
        "\n",
        "It CANNOT account for risk factors and is NOT regression. It is *non-parametric* (does not involve parameters).\n",
        "\n",
        "However it is a good way to visualize a survival dataset, and can be useful to compare the effects of a single categorical variable."
      ]
    },
    {
      "metadata": {
        "id": "5XoM5PzGsgxX",
        "colab_type": "code",
        "outputId": "8617c89b-5d07-4f9f-ffeb-36ebb2a80fbe",
        "colab": {
          "base_uri": "https://localhost:8080/",
          "height": 67
        }
      },
      "cell_type": "code",
      "source": [
        "kmf = lifelines.KaplanMeierFitter()\n",
        "\n",
        "kmf.fit(time, event_observed=event)"
      ],
      "execution_count": 70,
      "outputs": [
        {
          "output_type": "stream",
          "text": [
            "0    0.5\n",
            "dtype: float64\n"
          ],
          "name": "stdout"
        },
        {
          "output_type": "execute_result",
          "data": {
            "text/plain": [
              "<lifelines.KaplanMeierFitter: fitted with 42 observations, 12 censored>"
            ]
          },
          "metadata": {
            "tags": []
          },
          "execution_count": 70
        }
      ]
    },
    {
      "metadata": {
        "id": "ZIskdbM1qkKV",
        "colab_type": "code",
        "outputId": "bf059fbd-36b7-422b-ddd8-b4c7bc33edbb",
        "colab": {
          "base_uri": "https://localhost:8080/",
          "height": 336
        }
      },
      "cell_type": "code",
      "source": [
        "!pip install -U matplotlib  # Colab has matplotlib 2.2.3, we need >3"
      ],
      "execution_count": 71,
      "outputs": [
        {
          "output_type": "stream",
          "text": [
            "Collecting matplotlib\n",
            "  Using cached https://files.pythonhosted.org/packages/71/07/16d781df15be30df4acfd536c479268f1208b2dfbc91e9ca5d92c9caf673/matplotlib-3.0.2-cp36-cp36m-manylinux1_x86_64.whl\n",
            "Requirement already satisfied, skipping upgrade: pyparsing!=2.0.4,!=2.1.2,!=2.1.6,>=2.0.1 in /usr/local/lib/python3.6/dist-packages (from matplotlib) (2.3.1)\n",
            "Requirement already satisfied, skipping upgrade: python-dateutil>=2.1 in /usr/local/lib/python3.6/dist-packages (from matplotlib) (2.5.3)\n",
            "Requirement already satisfied, skipping upgrade: numpy>=1.10.0 in /usr/local/lib/python3.6/dist-packages (from matplotlib) (1.14.6)\n",
            "Requirement already satisfied, skipping upgrade: cycler>=0.10 in /usr/local/lib/python3.6/dist-packages (from matplotlib) (0.10.0)\n",
            "Requirement already satisfied, skipping upgrade: kiwisolver>=1.0.1 in /usr/local/lib/python3.6/dist-packages (from matplotlib) (1.0.1)\n",
            "Requirement already satisfied, skipping upgrade: six>=1.5 in /usr/local/lib/python3.6/dist-packages (from python-dateutil>=2.1->matplotlib) (1.11.0)\n",
            "Requirement already satisfied, skipping upgrade: setuptools in /usr/local/lib/python3.6/dist-packages (from kiwisolver>=1.0.1->matplotlib) (40.6.3)\n",
            "\u001b[31myellowbrick 0.9 has requirement matplotlib<3.0,>=1.5.1, but you'll have matplotlib 3.0.2 which is incompatible.\u001b[0m\n",
            "\u001b[31mlifelines 0.17.2 has requirement matplotlib<3.0,>=2.0, but you'll have matplotlib 3.0.2 which is incompatible.\u001b[0m\n",
            "Installing collected packages: matplotlib\n",
            "  Found existing installation: matplotlib 2.2.3\n",
            "    Uninstalling matplotlib-2.2.3:\n",
            "      Successfully uninstalled matplotlib-2.2.3\n",
            "Successfully installed matplotlib-3.0.2\n",
            "\u001b[0;31;1mWARNING: The following packages were previously imported in this runtime:\n",
            "  [matplotlib, mpl_toolkits]\n",
            "You must restart the runtime in order to use newly installed versions.\u001b[0m\n"
          ],
          "name": "stdout"
        }
      ]
    },
    {
      "metadata": {
        "id": "8lnpLxmhsgxc",
        "colab_type": "code",
        "outputId": "3cef32f0-f374-4266-de59-75dd757e4899",
        "colab": {
          "base_uri": "https://localhost:8080/",
          "height": 312
        }
      },
      "cell_type": "code",
      "source": [
        "kmf.survival_function_.plot()\n",
        "plt.title('Survival Function Leukemia Patients');\n",
        "print(f'Median Survival: {kmf.median_} months after treatment')"
      ],
      "execution_count": 72,
      "outputs": [
        {
          "output_type": "stream",
          "text": [
            "Median Survival: 12.0 months after treatment\n"
          ],
          "name": "stdout"
        },
        {
          "output_type": "display_data",
          "data": {
            "image/png": "[encoded data removed]",
            "text/plain": [
              "<Figure size 432x288 with 1 Axes>"
            ]
          },
          "metadata": {
            "tags": []
          }
        }
      ]
    },
    {
      "metadata": {
        "id": "4eSYFEfzgjyp",
        "colab_type": "code",
        "outputId": "f169ffca-7e81-4373-fb20-b2481d92cbcd",
        "colab": {
          "base_uri": "https://localhost:8080/",
          "height": 300
        }
      },
      "cell_type": "code",
      "source": [
        "kmf.survival_function_.plot.line()"
      ],
      "execution_count": 73,
      "outputs": [
        {
          "output_type": "execute_result",
          "data": {
            "text/plain": [
              "<matplotlib.axes._subplots.AxesSubplot at 0x7fe9bda28e48>"
            ]
          },
          "metadata": {
            "tags": []
          },
          "execution_count": 73
        },
        {
          "output_type": "display_data",
          "data": {
            "image/png": "[encoded data removed]",
            "text/plain": [
              "<Figure size 432x288 with 1 Axes>"
            ]
          },
          "metadata": {
            "tags": []
          }
        }
      ]
    },
    {
      "metadata": {
        "id": "udKT7uBAsgxi",
        "colab_type": "code",
        "outputId": "030e442c-9aa2-482b-f974-8a4ad8a4dcdf",
        "colab": {
          "base_uri": "https://localhost:8080/",
          "height": 396
        }
      },
      "cell_type": "code",
      "source": [
        "ax = plt.subplot(111)\n",
        "\n",
        "treatment = (leukemia[\"Rx\"] == 1)\n",
        "kmf.fit(time[treatment], event_observed=event[treatment], label=\"Treatment 1\")\n",
        "kmf.plot(ax=ax)\n",
        "print(f'Median survival time with Treatment 1: {kmf.median_} months')\n",
        "\n",
        "kmf.fit(time[~treatment], event_observed=event[~treatment], label=\"Treatment 0\")\n",
        "kmf.plot(ax=ax)\n",
        "print(f'Median survival time with Treatment 0: {kmf.median_} months')\n",
        "\n",
        "plt.ylim(0, 1);\n",
        "plt.title(\"Survival Times for Leukemia Treatments\");"
      ],
      "execution_count": 74,
      "outputs": [
        {
          "output_type": "stream",
          "text": [
            "0    0.5\n",
            "dtype: float64\n",
            "Median survival time with Treatment 1: 8.0 months\n",
            "0    0.5\n",
            "dtype: float64\n",
            "Median survival time with Treatment 0: 23.0 months\n"
          ],
          "name": "stdout"
        },
        {
          "output_type": "display_data",
          "data": {
            "image/png": "[encoded data removed]",
            "text/plain": [
              "<Figure size 432x288 with 1 Axes>"
            ]
          },
          "metadata": {
            "tags": []
          }
        }
      ]
    },
    {
      "metadata": {
        "id": "Ej1Zb4IYsgxr",
        "colab_type": "text"
      },
      "cell_type": "markdown",
      "source": [
        "## Cox Proportional Hazards Model -- Survival Regression\n",
        "It assumes the ratio of death event risks (hazard) of two groups remains about the same over time.\n",
        "This ratio is called the hazards ratio or the relative risk.\n",
        "\n",
        "All Cox regression requires is an assumption that ratio of hazards is constant over time across groups.\n",
        "The good news—we don’t need to know anything about overall shape of risk/hazard over time\n",
        "The bad news—the proportionality assumption can be restrictive"
      ]
    },
    {
      "metadata": {
        "id": "Skypo6ABsgxs",
        "colab_type": "code",
        "outputId": "0bcd38e0-dc13-47cf-aa6f-1062700229e0",
        "colab": {
          "base_uri": "https://localhost:8080/",
          "height": 319
        }
      },
      "cell_type": "code",
      "source": [
        "# Using Cox Proportional Hazards model\n",
        "cph = lifelines.CoxPHFitter()\n",
        "cph.fit(leukemia, 't', event_col='status')\n",
        "cph.print_summary()"
      ],
      "execution_count": 75,
      "outputs": [
        {
          "output_type": "stream",
          "text": [
            "<lifelines.CoxPHFitter: fitted with 42 observations, 12 censored>\n",
            "      duration col = 't'\n",
            "         event col = 'status'\n",
            "number of subjects = 42\n",
            "  number of events = 30\n",
            "    log-likelihood = -69.59\n",
            "  time fit was run = 2019-01-23 22:49:04 UTC\n",
            "\n",
            "---\n",
            "        coef  exp(coef)  se(coef)    z      p  log(p)  lower 0.95  upper 0.95     \n",
            "sex     0.31       1.37      0.45 0.69   0.49   -0.72       -0.58        1.21     \n",
            "logWBC  1.68       5.38      0.34 5.00 <0.005  -14.36        1.02        2.34  ***\n",
            "Rx      1.50       4.50      0.46 3.26 <0.005   -6.79        0.60        2.41    *\n",
            "---\n",
            "Signif. codes: 0 '***' 0.0001 '**' 0.001 '*' 0.01 '.' 0.05 ' ' 1\n",
            "\n",
            "Concordance = 0.85\n",
            "Likelihood ratio test = 47.19 on 3 df, log(p)=-21.87\n"
          ],
          "name": "stdout"
        }
      ]
    },
    {
      "metadata": {
        "id": "sIUr2gT7sgxz",
        "colab_type": "text"
      },
      "cell_type": "markdown",
      "source": [
        "## Interpreting the Results\n",
        "`coef`: usually denoted with $b$, the coefficient\n",
        "\n",
        "`exp(coef)`: $e^{b}$, equals the estimate of the hazard ratio. Here, we can say that participants who received treatment 1 had ~4.5 times the hazard risk (risk of death) compared to those who received treatment 2. And for every unit the `logWBC` increased, the hazard risk increased >5 times.\n",
        "\n",
        "`se(coef)`: standard error of the coefficient (used for calculating z-score and therefore p-value)\n",
        "\n",
        "`z`: z-score $\\frac{b}{se(b)}$\n",
        "\n",
        "`p`: p-value. derived from z-score. describes statistical significance. more specifically, it is the likelihood that the variable has no effect on the outcome\n",
        "\n",
        "`log(p)`: natural logarithm of p-value... used to more easily see differences in significance\n",
        "\n",
        "`lower/upper 0.95`: confidence levels for the coefficients. in this case, we can confidently say that the coefficient for `logWBC` is somewhere _between_ 1.02 and 2.34.\n",
        "\n",
        "`Signif. codes`: easily, visually identify significant variables! The more stars, the more solid (simply based on p-value). Here `logWBC` is highly significant, `Rx` is significant, and `sex` has no statistical significance\n",
        "\n",
        "`Concordance`: a measure of predictive power for classification problems (here looking at the `status` column. a value from 0 to 1 where values above 0.6 are considered good fits (the higher the better)\n",
        "\n",
        "`Likelihood ratio (LR) test`: this is a measure of how likely it is that the coefficients are not zero, and can compare the goodness of fit of a model versus an alternative null model. Is often actually calculated as a logarithm, resulting in the log-likelihood ratio statistic and allowing the distribution of the test statistic to be approximated with [Wilks' theorem](https://en.wikipedia.org/wiki/Wilks%27_theorem)."
      ]
    },
    {
      "metadata": {
        "id": "SHPFMpUqsgx0",
        "colab_type": "code",
        "outputId": "281c157a-0265-45d0-8f14-1168b5a2324f",
        "colab": {
          "base_uri": "https://localhost:8080/",
          "height": 300
        }
      },
      "cell_type": "code",
      "source": [
        "cph.plot_covariate_groups(covariate='logWBC', groups=np.arange(1.5,5,.5))"
      ],
      "execution_count": 76,
      "outputs": [
        {
          "output_type": "execute_result",
          "data": {
            "text/plain": [
              "<matplotlib.axes._subplots.AxesSubplot at 0x7fe9bd9bad68>"
            ]
          },
          "metadata": {
            "tags": []
          },
          "execution_count": 76
        },
        {
          "output_type": "display_data",
          "data": {
            "image/png": "[encoded data removed]",
            "text/plain": [
              "<Figure size 432x288 with 1 Axes>"
            ]
          },
          "metadata": {
            "tags": []
          }
        }
      ]
    },
    {
      "metadata": {
        "id": "hd02Nni_sgx7",
        "colab_type": "code",
        "outputId": "f79163b8-cc8c-4cb1-f8ef-081045d64464",
        "colab": {
          "base_uri": "https://localhost:8080/",
          "height": 300
        }
      },
      "cell_type": "code",
      "source": [
        "cph.plot_covariate_groups(covariate='sex', groups=[0,1])"
      ],
      "execution_count": 77,
      "outputs": [
        {
          "output_type": "execute_result",
          "data": {
            "text/plain": [
              "<matplotlib.axes._subplots.AxesSubplot at 0x7fe9bd95b438>"
            ]
          },
          "metadata": {
            "tags": []
          },
          "execution_count": 77
        },
        {
          "output_type": "display_data",
          "data": {
            "image/png": "[encoded data removed]",
            "text/plain": [
              "<Figure size 432x288 with 1 Axes>"
            ]
          },
          "metadata": {
            "tags": []
          }
        }
      ]
    },
    {
      "metadata": {
        "id": "-JRvblsIsgyB",
        "colab_type": "text"
      },
      "cell_type": "markdown",
      "source": [
        "### Remember how the Cox model assumes the ratio of death events between groups remains constant over time?\n",
        "Well we can check for that."
      ]
    },
    {
      "metadata": {
        "id": "XEG4bSlUsgyC",
        "colab_type": "code",
        "outputId": "27d9cba1-9117-4d45-a8cf-78f9f0ce8eec",
        "colab": {
          "base_uri": "https://localhost:8080/",
          "height": 809
        }
      },
      "cell_type": "code",
      "source": [
        "cph.check_assumptions(leukemia)"
      ],
      "execution_count": 78,
      "outputs": [
        {
          "output_type": "stream",
          "text": [
            "0    0.5\n",
            "dtype: float64\n",
            "\n",
            "<lifelines.StatisticalResult>\n",
            "         test_name = proportional_hazard_test\n",
            " null_distribution = chi squared\n",
            "degrees_of_freedom = 1\n",
            "\n",
            "---\n",
            "                 test_statistic    p  log(p)   \n",
            "Rx     identity            0.11 0.74   -0.30   \n",
            "       km                  0.23 0.63   -0.46   \n",
            "       log                 0.59 0.44   -0.81   \n",
            "       rank                0.44 0.51   -0.68   \n",
            "logWBC identity            0.21 0.64   -0.44   \n",
            "       km                  0.10 0.76   -0.28   \n",
            "       log                 0.30 0.59   -0.53   \n",
            "       rank                0.16 0.68   -0.38   \n",
            "sex    identity            2.56 0.11   -2.21   \n",
            "       km                  3.78 0.05   -2.96   \n",
            "       log                 3.94 0.05   -3.05  .\n",
            "       rank                4.91 0.03   -3.62  .\n",
            "---\n",
            "Signif. codes: 0 '***' 0.0001 '**' 0.001 '*' 0.01 '.' 0.05 ' ' 1\n",
            "\n",
            "1. Variable 'sex' failed the non-proportional test, p=0.0267.\n",
            "   Advice: with so few unique values (only 2), you can try `strata=['sex']` in the call in `.fit`. See documentation here: https://lifelines.readthedocs.io/en/latest/jupyter_notebooks/Proportional%20hazard%20assumption.html\n",
            "0    0.5\n",
            "dtype: float64\n"
          ],
          "name": "stdout"
        },
        {
          "output_type": "display_data",
          "data": {
            "image/png": "[encoded data removed]",
            "text/plain": [
              "<Figure size 432x288 with 4 Axes>"
            ]
          },
          "metadata": {
            "tags": []
          }
        }
      ]
    },
    {
      "metadata": {
        "id": "ZO_dFbKesgyG",
        "colab_type": "code",
        "outputId": "2aaf2aa7-f045-4d82-97c3-10c5c4528552",
        "colab": {
          "base_uri": "https://localhost:8080/",
          "height": 300
        }
      },
      "cell_type": "code",
      "source": [
        "# We can see that the sex variable is not very useful by plotting the coefficients\n",
        "cph.plot()"
      ],
      "execution_count": 79,
      "outputs": [
        {
          "output_type": "execute_result",
          "data": {
            "text/plain": [
              "<matplotlib.axes._subplots.AxesSubplot at 0x7fe9bda7a320>"
            ]
          },
          "metadata": {
            "tags": []
          },
          "execution_count": 79
        },
        {
          "output_type": "display_data",
          "data": {
            "image/png": "[encoded data removed]",
            "text/plain": [
              "<Figure size 432x288 with 1 Axes>"
            ]
          },
          "metadata": {
            "tags": []
          }
        }
      ]
    },
    {
      "metadata": {
        "id": "D1rwy5wMsgyL",
        "colab_type": "code",
        "outputId": "ba6c3ab3-cdd2-4bc8-c27f-e7c9b9b99dbb",
        "colab": {
          "base_uri": "https://localhost:8080/",
          "height": 336
        }
      },
      "cell_type": "code",
      "source": [
        "# Let's do what the check_assumptions function suggested\n",
        "cph = lifelines.CoxPHFitter()\n",
        "cph.fit(leukemia, 't', event_col='status', strata=['sex'])\n",
        "cph.print_summary()\n",
        "cph.baseline_cumulative_hazard_.shape"
      ],
      "execution_count": 80,
      "outputs": [
        {
          "output_type": "stream",
          "text": [
            "<lifelines.CoxPHFitter: fitted with 42 observations, 12 censored>\n",
            "      duration col = 't'\n",
            "         event col = 'status'\n",
            "            strata = ['sex']\n",
            "number of subjects = 42\n",
            "  number of events = 30\n",
            "    log-likelihood = -55.73\n",
            "  time fit was run = 2019-01-23 22:49:07 UTC\n",
            "\n",
            "---\n",
            "        coef  exp(coef)  se(coef)    z      p  log(p)  lower 0.95  upper 0.95     \n",
            "logWBC  1.45       4.28      0.34 4.23 <0.005  -10.64        0.78        2.13  ***\n",
            "Rx      1.00       2.71      0.47 2.11   0.04   -3.35        0.07        1.93    .\n",
            "---\n",
            "Signif. codes: 0 '***' 0.0001 '**' 0.001 '*' 0.01 '.' 0.05 ' ' 1\n",
            "\n",
            "Concordance = 0.85\n",
            "Likelihood ratio test = 74.90 on 2 df, log(p)=-37.45\n"
          ],
          "name": "stdout"
        },
        {
          "output_type": "execute_result",
          "data": {
            "text/plain": [
              "(24, 2)"
            ]
          },
          "metadata": {
            "tags": []
          },
          "execution_count": 80
        }
      ]
    },
    {
      "metadata": {
        "id": "Qn4HZjeGsgyP",
        "colab_type": "text"
      },
      "cell_type": "markdown",
      "source": [
        "Notice that this regression has `Likelihood ratio test = 74.90 on 2 df, log(p)=-37.45`, while the one that included `sex` had `Likelihood ratio test = 47.19 on 3 df, log(p)=-21.87`. The LRT is higher and log(p) is lower, meaning this is likely a better fitting model."
      ]
    },
    {
      "metadata": {
        "id": "jL8JzzhIsgyQ",
        "colab_type": "code",
        "outputId": "8f82dc25-65ea-4cdb-e27d-94e357c77857",
        "colab": {
          "base_uri": "https://localhost:8080/",
          "height": 300
        }
      },
      "cell_type": "code",
      "source": [
        "cph.plot()"
      ],
      "execution_count": 81,
      "outputs": [
        {
          "output_type": "execute_result",
          "data": {
            "text/plain": [
              "<matplotlib.axes._subplots.AxesSubplot at 0x7fe9bdab09b0>"
            ]
          },
          "metadata": {
            "tags": []
          },
          "execution_count": 81
        },
        {
          "output_type": "display_data",
          "data": {
            "image/png": "[encoded data removed]",
            "text/plain": [
              "<Figure size 432x288 with 1 Axes>"
            ]
          },
          "metadata": {
            "tags": []
          }
        }
      ]
    },
    {
      "metadata": {
        "id": "Py4DYu_XsgyU",
        "colab_type": "code",
        "outputId": "b91c847e-23eb-4a7b-fff5-93f8bc1a2fc0",
        "colab": {
          "base_uri": "https://localhost:8080/",
          "height": 1290
        }
      },
      "cell_type": "code",
      "source": [
        "cph.compute_residuals(leukemia, kind='score')"
      ],
      "execution_count": 82,
      "outputs": [
        {
          "output_type": "execute_result",
          "data": {
            "text/html": [
              "<div>\n",
              "<style scoped>\n",
              "    .dataframe tbody tr th:only-of-type {\n",
              "        vertical-align: middle;\n",
              "    }\n",
              "\n",
              "    .dataframe tbody tr th {\n",
              "        vertical-align: top;\n",
              "    }\n",
              "\n",
              "    .dataframe thead th {\n",
              "        text-align: right;\n",
              "    }\n",
              "</style>\n",
              "<table border=\"1\" class=\"dataframe\">\n",
              "  <thead>\n",
              "    <tr style=\"text-align: right;\">\n",
              "      <th></th>\n",
              "      <th>logWBC</th>\n",
              "      <th>Rx</th>\n",
              "    </tr>\n",
              "  </thead>\n",
              "  <tbody>\n",
              "    <tr>\n",
              "      <th>34</th>\n",
              "      <td>0.426729</td>\n",
              "      <td>0.337062</td>\n",
              "    </tr>\n",
              "    <tr>\n",
              "      <th>17</th>\n",
              "      <td>0.009454</td>\n",
              "      <td>0.022002</td>\n",
              "    </tr>\n",
              "    <tr>\n",
              "      <th>18</th>\n",
              "      <td>-1.017074</td>\n",
              "      <td>-0.518252</td>\n",
              "    </tr>\n",
              "    <tr>\n",
              "      <th>20</th>\n",
              "      <td>-0.074252</td>\n",
              "      <td>-0.459455</td>\n",
              "    </tr>\n",
              "    <tr>\n",
              "      <th>16</th>\n",
              "      <td>0.074938</td>\n",
              "      <td>-0.047863</td>\n",
              "    </tr>\n",
              "    <tr>\n",
              "      <th>29</th>\n",
              "      <td>0.362845</td>\n",
              "      <td>-0.013865</td>\n",
              "    </tr>\n",
              "    <tr>\n",
              "      <th>30</th>\n",
              "      <td>0.212283</td>\n",
              "      <td>0.116683</td>\n",
              "    </tr>\n",
              "    <tr>\n",
              "      <th>31</th>\n",
              "      <td>-0.386969</td>\n",
              "      <td>0.236944</td>\n",
              "    </tr>\n",
              "    <tr>\n",
              "      <th>15</th>\n",
              "      <td>0.079720</td>\n",
              "      <td>0.161875</td>\n",
              "    </tr>\n",
              "    <tr>\n",
              "      <th>13</th>\n",
              "      <td>0.091508</td>\n",
              "      <td>0.141663</td>\n",
              "    </tr>\n",
              "    <tr>\n",
              "      <th>14</th>\n",
              "      <td>0.079839</td>\n",
              "      <td>-0.492453</td>\n",
              "    </tr>\n",
              "    <tr>\n",
              "      <th>12</th>\n",
              "      <td>0.115003</td>\n",
              "      <td>0.160514</td>\n",
              "    </tr>\n",
              "    <tr>\n",
              "      <th>27</th>\n",
              "      <td>-0.147938</td>\n",
              "      <td>-0.328880</td>\n",
              "    </tr>\n",
              "    <tr>\n",
              "      <th>28</th>\n",
              "      <td>-0.303477</td>\n",
              "      <td>0.109601</td>\n",
              "    </tr>\n",
              "    <tr>\n",
              "      <th>25</th>\n",
              "      <td>-0.996015</td>\n",
              "      <td>0.167586</td>\n",
              "    </tr>\n",
              "    <tr>\n",
              "      <th>26</th>\n",
              "      <td>0.023084</td>\n",
              "      <td>-0.207185</td>\n",
              "    </tr>\n",
              "    <tr>\n",
              "      <th>11</th>\n",
              "      <td>0.182529</td>\n",
              "      <td>0.020504</td>\n",
              "    </tr>\n",
              "    <tr>\n",
              "      <th>24</th>\n",
              "      <td>0.134260</td>\n",
              "      <td>-0.068184</td>\n",
              "    </tr>\n",
              "    <tr>\n",
              "      <th>9</th>\n",
              "      <td>0.306263</td>\n",
              "      <td>0.344273</td>\n",
              "    </tr>\n",
              "    <tr>\n",
              "      <th>23</th>\n",
              "      <td>-0.171576</td>\n",
              "      <td>-0.481632</td>\n",
              "    </tr>\n",
              "    <tr>\n",
              "      <th>8</th>\n",
              "      <td>0.376523</td>\n",
              "      <td>0.382673</td>\n",
              "    </tr>\n",
              "    <tr>\n",
              "      <th>22</th>\n",
              "      <td>0.185335</td>\n",
              "      <td>-0.429449</td>\n",
              "    </tr>\n",
              "    <tr>\n",
              "      <th>40</th>\n",
              "      <td>-1.624793</td>\n",
              "      <td>0.097109</td>\n",
              "    </tr>\n",
              "    <tr>\n",
              "      <th>41</th>\n",
              "      <td>0.241253</td>\n",
              "      <td>0.047133</td>\n",
              "    </tr>\n",
              "    <tr>\n",
              "      <th>38</th>\n",
              "      <td>0.214552</td>\n",
              "      <td>0.045380</td>\n",
              "    </tr>\n",
              "    <tr>\n",
              "      <th>39</th>\n",
              "      <td>0.326343</td>\n",
              "      <td>0.095987</td>\n",
              "    </tr>\n",
              "    <tr>\n",
              "      <th>37</th>\n",
              "      <td>0.263678</td>\n",
              "      <td>0.165381</td>\n",
              "    </tr>\n",
              "    <tr>\n",
              "      <th>35</th>\n",
              "      <td>0.120250</td>\n",
              "      <td>0.031348</td>\n",
              "    </tr>\n",
              "    <tr>\n",
              "      <th>36</th>\n",
              "      <td>-0.704044</td>\n",
              "      <td>0.518576</td>\n",
              "    </tr>\n",
              "    <tr>\n",
              "      <th>33</th>\n",
              "      <td>0.262159</td>\n",
              "      <td>0.256193</td>\n",
              "    </tr>\n",
              "    <tr>\n",
              "      <th>19</th>\n",
              "      <td>0.038439</td>\n",
              "      <td>0.478887</td>\n",
              "    </tr>\n",
              "    <tr>\n",
              "      <th>32</th>\n",
              "      <td>0.479278</td>\n",
              "      <td>0.031552</td>\n",
              "    </tr>\n",
              "    <tr>\n",
              "      <th>10</th>\n",
              "      <td>0.249153</td>\n",
              "      <td>0.449203</td>\n",
              "    </tr>\n",
              "    <tr>\n",
              "      <th>7</th>\n",
              "      <td>0.219108</td>\n",
              "      <td>0.063539</td>\n",
              "    </tr>\n",
              "    <tr>\n",
              "      <th>6</th>\n",
              "      <td>0.329222</td>\n",
              "      <td>-0.035342</td>\n",
              "    </tr>\n",
              "    <tr>\n",
              "      <th>5</th>\n",
              "      <td>0.453364</td>\n",
              "      <td>0.028967</td>\n",
              "    </tr>\n",
              "    <tr>\n",
              "      <th>21</th>\n",
              "      <td>0.346308</td>\n",
              "      <td>0.117375</td>\n",
              "    </tr>\n",
              "    <tr>\n",
              "      <th>4</th>\n",
              "      <td>0.294693</td>\n",
              "      <td>0.100191</td>\n",
              "    </tr>\n",
              "    <tr>\n",
              "      <th>2</th>\n",
              "      <td>0.220841</td>\n",
              "      <td>0.175433</td>\n",
              "    </tr>\n",
              "    <tr>\n",
              "      <th>3</th>\n",
              "      <td>-0.017191</td>\n",
              "      <td>0.272434</td>\n",
              "    </tr>\n",
              "    <tr>\n",
              "      <th>1</th>\n",
              "      <td>0.277182</td>\n",
              "      <td>0.066262</td>\n",
              "    </tr>\n",
              "    <tr>\n",
              "      <th>0</th>\n",
              "      <td>0.275055</td>\n",
              "      <td>0.064518</td>\n",
              "    </tr>\n",
              "  </tbody>\n",
              "</table>\n",
              "</div>"
            ],
            "text/plain": [
              "      logWBC        Rx\n",
              "34  0.426729  0.337062\n",
              "17  0.009454  0.022002\n",
              "18 -1.017074 -0.518252\n",
              "20 -0.074252 -0.459455\n",
              "16  0.074938 -0.047863\n",
              "29  0.362845 -0.013865\n",
              "30  0.212283  0.116683\n",
              "31 -0.386969  0.236944\n",
              "15  0.079720  0.161875\n",
              "13  0.091508  0.141663\n",
              "14  0.079839 -0.492453\n",
              "12  0.115003  0.160514\n",
              "27 -0.147938 -0.328880\n",
              "28 -0.303477  0.109601\n",
              "25 -0.996015  0.167586\n",
              "26  0.023084 -0.207185\n",
              "11  0.182529  0.020504\n",
              "24  0.134260 -0.068184\n",
              "9   0.306263  0.344273\n",
              "23 -0.171576 -0.481632\n",
              "8   0.376523  0.382673\n",
              "22  0.185335 -0.429449\n",
              "40 -1.624793  0.097109\n",
              "41  0.241253  0.047133\n",
              "38  0.214552  0.045380\n",
              "39  0.326343  0.095987\n",
              "37  0.263678  0.165381\n",
              "35  0.120250  0.031348\n",
              "36 -0.704044  0.518576\n",
              "33  0.262159  0.256193\n",
              "19  0.038439  0.478887\n",
              "32  0.479278  0.031552\n",
              "10  0.249153  0.449203\n",
              "7   0.219108  0.063539\n",
              "6   0.329222 -0.035342\n",
              "5   0.453364  0.028967\n",
              "21  0.346308  0.117375\n",
              "4   0.294693  0.100191\n",
              "2   0.220841  0.175433\n",
              "3  -0.017191  0.272434\n",
              "1   0.277182  0.066262\n",
              "0   0.275055  0.064518"
            ]
          },
          "metadata": {
            "tags": []
          },
          "execution_count": 82
        }
      ]
    },
    {
      "metadata": {
        "id": "LMN1uGnQsgyY",
        "colab_type": "code",
        "outputId": "51ebbf46-079d-4af3-cfd5-f4cf08d09954",
        "colab": {
          "base_uri": "https://localhost:8080/",
          "height": 758
        }
      },
      "cell_type": "code",
      "source": [
        "cph.predict_cumulative_hazard(leukemia[:5])"
      ],
      "execution_count": 83,
      "outputs": [
        {
          "output_type": "execute_result",
          "data": {
            "text/html": [
              "<div>\n",
              "<style scoped>\n",
              "    .dataframe tbody tr th:only-of-type {\n",
              "        vertical-align: middle;\n",
              "    }\n",
              "\n",
              "    .dataframe tbody tr th {\n",
              "        vertical-align: top;\n",
              "    }\n",
              "\n",
              "    .dataframe thead th {\n",
              "        text-align: right;\n",
              "    }\n",
              "</style>\n",
              "<table border=\"1\" class=\"dataframe\">\n",
              "  <thead>\n",
              "    <tr style=\"text-align: right;\">\n",
              "      <th></th>\n",
              "      <th>0</th>\n",
              "      <th>1</th>\n",
              "      <th>2</th>\n",
              "      <th>3</th>\n",
              "      <th>4</th>\n",
              "    </tr>\n",
              "  </thead>\n",
              "  <tbody>\n",
              "    <tr>\n",
              "      <th>1.0</th>\n",
              "      <td>0.001231</td>\n",
              "      <td>0.001268</td>\n",
              "      <td>0.003663</td>\n",
              "      <td>0.005919</td>\n",
              "      <td>0.001990</td>\n",
              "    </tr>\n",
              "    <tr>\n",
              "      <th>2.0</th>\n",
              "      <td>0.002998</td>\n",
              "      <td>0.003087</td>\n",
              "      <td>0.008919</td>\n",
              "      <td>0.014410</td>\n",
              "      <td>0.004844</td>\n",
              "    </tr>\n",
              "    <tr>\n",
              "      <th>3.0</th>\n",
              "      <td>0.005017</td>\n",
              "      <td>0.005165</td>\n",
              "      <td>0.014926</td>\n",
              "      <td>0.024114</td>\n",
              "      <td>0.008106</td>\n",
              "    </tr>\n",
              "    <tr>\n",
              "      <th>4.0</th>\n",
              "      <td>0.010236</td>\n",
              "      <td>0.010538</td>\n",
              "      <td>0.030453</td>\n",
              "      <td>0.049199</td>\n",
              "      <td>0.016538</td>\n",
              "    </tr>\n",
              "    <tr>\n",
              "      <th>5.0</th>\n",
              "      <td>0.015623</td>\n",
              "      <td>0.016084</td>\n",
              "      <td>0.046479</td>\n",
              "      <td>0.075092</td>\n",
              "      <td>0.025241</td>\n",
              "    </tr>\n",
              "    <tr>\n",
              "      <th>6.0</th>\n",
              "      <td>0.023143</td>\n",
              "      <td>0.023826</td>\n",
              "      <td>0.068851</td>\n",
              "      <td>0.111235</td>\n",
              "      <td>0.037390</td>\n",
              "    </tr>\n",
              "    <tr>\n",
              "      <th>7.0</th>\n",
              "      <td>0.023143</td>\n",
              "      <td>0.023826</td>\n",
              "      <td>0.068851</td>\n",
              "      <td>0.111235</td>\n",
              "      <td>0.037390</td>\n",
              "    </tr>\n",
              "    <tr>\n",
              "      <th>8.0</th>\n",
              "      <td>0.034437</td>\n",
              "      <td>0.035452</td>\n",
              "      <td>0.102448</td>\n",
              "      <td>0.165515</td>\n",
              "      <td>0.055636</td>\n",
              "    </tr>\n",
              "    <tr>\n",
              "      <th>9.0</th>\n",
              "      <td>0.034437</td>\n",
              "      <td>0.035452</td>\n",
              "      <td>0.102448</td>\n",
              "      <td>0.165515</td>\n",
              "      <td>0.055636</td>\n",
              "    </tr>\n",
              "    <tr>\n",
              "      <th>10.0</th>\n",
              "      <td>0.034437</td>\n",
              "      <td>0.035452</td>\n",
              "      <td>0.102448</td>\n",
              "      <td>0.165515</td>\n",
              "      <td>0.055636</td>\n",
              "    </tr>\n",
              "    <tr>\n",
              "      <th>11.0</th>\n",
              "      <td>0.034437</td>\n",
              "      <td>0.035452</td>\n",
              "      <td>0.102448</td>\n",
              "      <td>0.165515</td>\n",
              "      <td>0.055636</td>\n",
              "    </tr>\n",
              "    <tr>\n",
              "      <th>12.0</th>\n",
              "      <td>0.034437</td>\n",
              "      <td>0.035452</td>\n",
              "      <td>0.102448</td>\n",
              "      <td>0.165515</td>\n",
              "      <td>0.055636</td>\n",
              "    </tr>\n",
              "    <tr>\n",
              "      <th>13.0</th>\n",
              "      <td>0.034437</td>\n",
              "      <td>0.035452</td>\n",
              "      <td>0.102448</td>\n",
              "      <td>0.165515</td>\n",
              "      <td>0.055636</td>\n",
              "    </tr>\n",
              "    <tr>\n",
              "      <th>15.0</th>\n",
              "      <td>0.034437</td>\n",
              "      <td>0.035452</td>\n",
              "      <td>0.102448</td>\n",
              "      <td>0.165515</td>\n",
              "      <td>0.055636</td>\n",
              "    </tr>\n",
              "    <tr>\n",
              "      <th>16.0</th>\n",
              "      <td>0.054097</td>\n",
              "      <td>0.055692</td>\n",
              "      <td>0.160936</td>\n",
              "      <td>0.260008</td>\n",
              "      <td>0.087398</td>\n",
              "    </tr>\n",
              "    <tr>\n",
              "      <th>17.0</th>\n",
              "      <td>0.054097</td>\n",
              "      <td>0.055692</td>\n",
              "      <td>0.160936</td>\n",
              "      <td>0.260008</td>\n",
              "      <td>0.087398</td>\n",
              "    </tr>\n",
              "    <tr>\n",
              "      <th>19.0</th>\n",
              "      <td>0.054097</td>\n",
              "      <td>0.055692</td>\n",
              "      <td>0.160936</td>\n",
              "      <td>0.260008</td>\n",
              "      <td>0.087398</td>\n",
              "    </tr>\n",
              "    <tr>\n",
              "      <th>20.0</th>\n",
              "      <td>0.054097</td>\n",
              "      <td>0.055692</td>\n",
              "      <td>0.160936</td>\n",
              "      <td>0.260008</td>\n",
              "      <td>0.087398</td>\n",
              "    </tr>\n",
              "    <tr>\n",
              "      <th>22.0</th>\n",
              "      <td>0.092796</td>\n",
              "      <td>0.095533</td>\n",
              "      <td>0.276066</td>\n",
              "      <td>0.446011</td>\n",
              "      <td>0.149921</td>\n",
              "    </tr>\n",
              "    <tr>\n",
              "      <th>23.0</th>\n",
              "      <td>0.182489</td>\n",
              "      <td>0.187873</td>\n",
              "      <td>0.542902</td>\n",
              "      <td>0.877110</td>\n",
              "      <td>0.294829</td>\n",
              "    </tr>\n",
              "    <tr>\n",
              "      <th>25.0</th>\n",
              "      <td>0.182489</td>\n",
              "      <td>0.187873</td>\n",
              "      <td>0.542902</td>\n",
              "      <td>0.877110</td>\n",
              "      <td>0.294829</td>\n",
              "    </tr>\n",
              "    <tr>\n",
              "      <th>32.0</th>\n",
              "      <td>0.182489</td>\n",
              "      <td>0.187873</td>\n",
              "      <td>0.542902</td>\n",
              "      <td>0.877110</td>\n",
              "      <td>0.294829</td>\n",
              "    </tr>\n",
              "    <tr>\n",
              "      <th>34.0</th>\n",
              "      <td>0.182489</td>\n",
              "      <td>0.187873</td>\n",
              "      <td>0.542902</td>\n",
              "      <td>0.877110</td>\n",
              "      <td>0.294829</td>\n",
              "    </tr>\n",
              "    <tr>\n",
              "      <th>35.0</th>\n",
              "      <td>0.182489</td>\n",
              "      <td>0.187873</td>\n",
              "      <td>0.542902</td>\n",
              "      <td>0.877110</td>\n",
              "      <td>0.294829</td>\n",
              "    </tr>\n",
              "  </tbody>\n",
              "</table>\n",
              "</div>"
            ],
            "text/plain": [
              "             0         1         2         3         4\n",
              "1.0   0.001231  0.001268  0.003663  0.005919  0.001990\n",
              "2.0   0.002998  0.003087  0.008919  0.014410  0.004844\n",
              "3.0   0.005017  0.005165  0.014926  0.024114  0.008106\n",
              "4.0   0.010236  0.010538  0.030453  0.049199  0.016538\n",
              "5.0   0.015623  0.016084  0.046479  0.075092  0.025241\n",
              "6.0   0.023143  0.023826  0.068851  0.111235  0.037390\n",
              "7.0   0.023143  0.023826  0.068851  0.111235  0.037390\n",
              "8.0   0.034437  0.035452  0.102448  0.165515  0.055636\n",
              "9.0   0.034437  0.035452  0.102448  0.165515  0.055636\n",
              "10.0  0.034437  0.035452  0.102448  0.165515  0.055636\n",
              "11.0  0.034437  0.035452  0.102448  0.165515  0.055636\n",
              "12.0  0.034437  0.035452  0.102448  0.165515  0.055636\n",
              "13.0  0.034437  0.035452  0.102448  0.165515  0.055636\n",
              "15.0  0.034437  0.035452  0.102448  0.165515  0.055636\n",
              "16.0  0.054097  0.055692  0.160936  0.260008  0.087398\n",
              "17.0  0.054097  0.055692  0.160936  0.260008  0.087398\n",
              "19.0  0.054097  0.055692  0.160936  0.260008  0.087398\n",
              "20.0  0.054097  0.055692  0.160936  0.260008  0.087398\n",
              "22.0  0.092796  0.095533  0.276066  0.446011  0.149921\n",
              "23.0  0.182489  0.187873  0.542902  0.877110  0.294829\n",
              "25.0  0.182489  0.187873  0.542902  0.877110  0.294829\n",
              "32.0  0.182489  0.187873  0.542902  0.877110  0.294829\n",
              "34.0  0.182489  0.187873  0.542902  0.877110  0.294829\n",
              "35.0  0.182489  0.187873  0.542902  0.877110  0.294829"
            ]
          },
          "metadata": {
            "tags": []
          },
          "execution_count": 83
        }
      ]
    },
    {
      "metadata": {
        "id": "bs_Npp6osgyc",
        "colab_type": "code",
        "outputId": "97b4edfa-21af-4595-cf84-83e053f94c92",
        "colab": {
          "base_uri": "https://localhost:8080/",
          "height": 447
        }
      },
      "cell_type": "code",
      "source": [
        "surv_func = cph.predict_survival_function(leukemia[:5])\n",
        "\n",
        "exp_lifetime = cph.predict_expectation(leukemia[:5])\n",
        "\n",
        "plt.plot(surv_func)\n",
        "\n",
        "exp_lifetime"
      ],
      "execution_count": 84,
      "outputs": [
        {
          "output_type": "execute_result",
          "data": {
            "text/html": [
              "<div>\n",
              "<style scoped>\n",
              "    .dataframe tbody tr th:only-of-type {\n",
              "        vertical-align: middle;\n",
              "    }\n",
              "\n",
              "    .dataframe tbody tr th {\n",
              "        vertical-align: top;\n",
              "    }\n",
              "\n",
              "    .dataframe thead th {\n",
              "        text-align: right;\n",
              "    }\n",
              "</style>\n",
              "<table border=\"1\" class=\"dataframe\">\n",
              "  <thead>\n",
              "    <tr style=\"text-align: right;\">\n",
              "      <th></th>\n",
              "      <th>0</th>\n",
              "    </tr>\n",
              "  </thead>\n",
              "  <tbody>\n",
              "    <tr>\n",
              "      <th>0</th>\n",
              "      <td>31.141503</td>\n",
              "    </tr>\n",
              "    <tr>\n",
              "      <th>1</th>\n",
              "      <td>31.063353</td>\n",
              "    </tr>\n",
              "    <tr>\n",
              "      <th>2</th>\n",
              "      <td>26.570795</td>\n",
              "    </tr>\n",
              "    <tr>\n",
              "      <th>3</th>\n",
              "      <td>23.308489</td>\n",
              "    </tr>\n",
              "    <tr>\n",
              "      <th>4</th>\n",
              "      <td>29.577560</td>\n",
              "    </tr>\n",
              "  </tbody>\n",
              "</table>\n",
              "</div>"
            ],
            "text/plain": [
              "           0\n",
              "0  31.141503\n",
              "1  31.063353\n",
              "2  26.570795\n",
              "3  23.308489\n",
              "4  29.577560"
            ]
          },
          "metadata": {
            "tags": []
          },
          "execution_count": 84
        },
        {
          "output_type": "display_data",
          "data": {
            "image/png": "[encoded data removed]",
            "text/plain": [
              "<Figure size 432x288 with 1 Axes>"
            ]
          },
          "metadata": {
            "tags": []
          }
        }
      ]
    },
    {
      "metadata": {
        "id": "z7NNzQ_5sgyh",
        "colab_type": "code",
        "outputId": "d9042f16-7c72-4ede-ef46-aeb5b86f5644",
        "colab": {
          "base_uri": "https://localhost:8080/",
          "height": 195
        }
      },
      "cell_type": "code",
      "source": [
        "# lifelines comes with some datasets to get you started playing around with it\n",
        "# The Rossi dataset originally comes from Rossi et al. (1980), \n",
        "# and is used as an example in Allison (1995). \n",
        "\n",
        "# The data pertain to 432 convicts who were released from Maryland state prisons \n",
        "# in the 1970s and who were followed up for one year after release. Half the \n",
        "# released convicts were assigned at random to an experimental treatment in \n",
        "# which they were given financial aid; half did not receive aid.\n",
        "\n",
        "from lifelines.datasets import load_rossi\n",
        "recidivism = load_rossi()\n",
        "\n",
        "recidivism.head()\n",
        "\n",
        "# Looking at the Rossi dataset, how long do you think the study lasted?\n",
        "\n",
        "# All features are coded with numerical values, but which features do you think \n",
        "# are actually categorical?"
      ],
      "execution_count": 85,
      "outputs": [
        {
          "output_type": "execute_result",
          "data": {
            "text/html": [
              "<div>\n",
              "<style scoped>\n",
              "    .dataframe tbody tr th:only-of-type {\n",
              "        vertical-align: middle;\n",
              "    }\n",
              "\n",
              "    .dataframe tbody tr th {\n",
              "        vertical-align: top;\n",
              "    }\n",
              "\n",
              "    .dataframe thead th {\n",
              "        text-align: right;\n",
              "    }\n",
              "</style>\n",
              "<table border=\"1\" class=\"dataframe\">\n",
              "  <thead>\n",
              "    <tr style=\"text-align: right;\">\n",
              "      <th></th>\n",
              "      <th>week</th>\n",
              "      <th>arrest</th>\n",
              "      <th>fin</th>\n",
              "      <th>age</th>\n",
              "      <th>race</th>\n",
              "      <th>wexp</th>\n",
              "      <th>mar</th>\n",
              "      <th>paro</th>\n",
              "      <th>prio</th>\n",
              "    </tr>\n",
              "  </thead>\n",
              "  <tbody>\n",
              "    <tr>\n",
              "      <th>0</th>\n",
              "      <td>20</td>\n",
              "      <td>1</td>\n",
              "      <td>0</td>\n",
              "      <td>27</td>\n",
              "      <td>1</td>\n",
              "      <td>0</td>\n",
              "      <td>0</td>\n",
              "      <td>1</td>\n",
              "      <td>3</td>\n",
              "    </tr>\n",
              "    <tr>\n",
              "      <th>1</th>\n",
              "      <td>17</td>\n",
              "      <td>1</td>\n",
              "      <td>0</td>\n",
              "      <td>18</td>\n",
              "      <td>1</td>\n",
              "      <td>0</td>\n",
              "      <td>0</td>\n",
              "      <td>1</td>\n",
              "      <td>8</td>\n",
              "    </tr>\n",
              "    <tr>\n",
              "      <th>2</th>\n",
              "      <td>25</td>\n",
              "      <td>1</td>\n",
              "      <td>0</td>\n",
              "      <td>19</td>\n",
              "      <td>0</td>\n",
              "      <td>1</td>\n",
              "      <td>0</td>\n",
              "      <td>1</td>\n",
              "      <td>13</td>\n",
              "    </tr>\n",
              "    <tr>\n",
              "      <th>3</th>\n",
              "      <td>52</td>\n",
              "      <td>0</td>\n",
              "      <td>1</td>\n",
              "      <td>23</td>\n",
              "      <td>1</td>\n",
              "      <td>1</td>\n",
              "      <td>1</td>\n",
              "      <td>1</td>\n",
              "      <td>1</td>\n",
              "    </tr>\n",
              "    <tr>\n",
              "      <th>4</th>\n",
              "      <td>52</td>\n",
              "      <td>0</td>\n",
              "      <td>0</td>\n",
              "      <td>19</td>\n",
              "      <td>0</td>\n",
              "      <td>1</td>\n",
              "      <td>0</td>\n",
              "      <td>1</td>\n",
              "      <td>3</td>\n",
              "    </tr>\n",
              "  </tbody>\n",
              "</table>\n",
              "</div>"
            ],
            "text/plain": [
              "   week  arrest  fin  age  race  wexp  mar  paro  prio\n",
              "0    20       1    0   27     1     0    0     1     3\n",
              "1    17       1    0   18     1     0    0     1     8\n",
              "2    25       1    0   19     0     1    0     1    13\n",
              "3    52       0    1   23     1     1    1     1     1\n",
              "4    52       0    0   19     0     1    0     1     3"
            ]
          },
          "metadata": {
            "tags": []
          },
          "execution_count": 85
        }
      ]
    },
    {
      "metadata": {
        "id": "1VjqAV3ksgyk",
        "colab_type": "code",
        "outputId": "80a09072-77a2-42d1-da42-d0b28b4f1784",
        "colab": {
          "base_uri": "https://localhost:8080/",
          "height": 252
        }
      },
      "cell_type": "code",
      "source": [
        "recidivism.info()"
      ],
      "execution_count": 86,
      "outputs": [
        {
          "output_type": "stream",
          "text": [
            "<class 'pandas.core.frame.DataFrame'>\n",
            "RangeIndex: 432 entries, 0 to 431\n",
            "Data columns (total 9 columns):\n",
            "week      432 non-null int64\n",
            "arrest    432 non-null int64\n",
            "fin       432 non-null int64\n",
            "age       432 non-null int64\n",
            "race      432 non-null int64\n",
            "wexp      432 non-null int64\n",
            "mar       432 non-null int64\n",
            "paro      432 non-null int64\n",
            "prio      432 non-null int64\n",
            "dtypes: int64(9)\n",
            "memory usage: 30.5 KB\n"
          ],
          "name": "stdout"
        }
      ]
    },
    {
      "metadata": {
        "id": "LVq_ZOFgsgyq",
        "colab_type": "code",
        "outputId": "19d02651-dada-4a38-e491-1195a96da007",
        "colab": {
          "base_uri": "https://localhost:8080/",
          "height": 284
        }
      },
      "cell_type": "code",
      "source": [
        "recidivism.describe()"
      ],
      "execution_count": 87,
      "outputs": [
        {
          "output_type": "execute_result",
          "data": {
            "text/html": [
              "<div>\n",
              "<style scoped>\n",
              "    .dataframe tbody tr th:only-of-type {\n",
              "        vertical-align: middle;\n",
              "    }\n",
              "\n",
              "    .dataframe tbody tr th {\n",
              "        vertical-align: top;\n",
              "    }\n",
              "\n",
              "    .dataframe thead th {\n",
              "        text-align: right;\n",
              "    }\n",
              "</style>\n",
              "<table border=\"1\" class=\"dataframe\">\n",
              "  <thead>\n",
              "    <tr style=\"text-align: right;\">\n",
              "      <th></th>\n",
              "      <th>week</th>\n",
              "      <th>arrest</th>\n",
              "      <th>fin</th>\n",
              "      <th>age</th>\n",
              "      <th>race</th>\n",
              "      <th>wexp</th>\n",
              "      <th>mar</th>\n",
              "      <th>paro</th>\n",
              "      <th>prio</th>\n",
              "    </tr>\n",
              "  </thead>\n",
              "  <tbody>\n",
              "    <tr>\n",
              "      <th>count</th>\n",
              "      <td>432.000000</td>\n",
              "      <td>432.000000</td>\n",
              "      <td>432.00000</td>\n",
              "      <td>432.000000</td>\n",
              "      <td>432.000000</td>\n",
              "      <td>432.000000</td>\n",
              "      <td>432.000000</td>\n",
              "      <td>432.000000</td>\n",
              "      <td>432.000000</td>\n",
              "    </tr>\n",
              "    <tr>\n",
              "      <th>mean</th>\n",
              "      <td>45.854167</td>\n",
              "      <td>0.263889</td>\n",
              "      <td>0.50000</td>\n",
              "      <td>24.597222</td>\n",
              "      <td>0.877315</td>\n",
              "      <td>0.571759</td>\n",
              "      <td>0.122685</td>\n",
              "      <td>0.618056</td>\n",
              "      <td>2.983796</td>\n",
              "    </tr>\n",
              "    <tr>\n",
              "      <th>std</th>\n",
              "      <td>12.662293</td>\n",
              "      <td>0.441251</td>\n",
              "      <td>0.50058</td>\n",
              "      <td>6.113375</td>\n",
              "      <td>0.328456</td>\n",
              "      <td>0.495398</td>\n",
              "      <td>0.328456</td>\n",
              "      <td>0.486426</td>\n",
              "      <td>2.896068</td>\n",
              "    </tr>\n",
              "    <tr>\n",
              "      <th>min</th>\n",
              "      <td>1.000000</td>\n",
              "      <td>0.000000</td>\n",
              "      <td>0.00000</td>\n",
              "      <td>17.000000</td>\n",
              "      <td>0.000000</td>\n",
              "      <td>0.000000</td>\n",
              "      <td>0.000000</td>\n",
              "      <td>0.000000</td>\n",
              "      <td>0.000000</td>\n",
              "    </tr>\n",
              "    <tr>\n",
              "      <th>25%</th>\n",
              "      <td>50.000000</td>\n",
              "      <td>0.000000</td>\n",
              "      <td>0.00000</td>\n",
              "      <td>20.000000</td>\n",
              "      <td>1.000000</td>\n",
              "      <td>0.000000</td>\n",
              "      <td>0.000000</td>\n",
              "      <td>0.000000</td>\n",
              "      <td>1.000000</td>\n",
              "    </tr>\n",
              "    <tr>\n",
              "      <th>50%</th>\n",
              "      <td>52.000000</td>\n",
              "      <td>0.000000</td>\n",
              "      <td>0.50000</td>\n",
              "      <td>23.000000</td>\n",
              "      <td>1.000000</td>\n",
              "      <td>1.000000</td>\n",
              "      <td>0.000000</td>\n",
              "      <td>1.000000</td>\n",
              "      <td>2.000000</td>\n",
              "    </tr>\n",
              "    <tr>\n",
              "      <th>75%</th>\n",
              "      <td>52.000000</td>\n",
              "      <td>1.000000</td>\n",
              "      <td>1.00000</td>\n",
              "      <td>27.000000</td>\n",
              "      <td>1.000000</td>\n",
              "      <td>1.000000</td>\n",
              "      <td>0.000000</td>\n",
              "      <td>1.000000</td>\n",
              "      <td>4.000000</td>\n",
              "    </tr>\n",
              "    <tr>\n",
              "      <th>max</th>\n",
              "      <td>52.000000</td>\n",
              "      <td>1.000000</td>\n",
              "      <td>1.00000</td>\n",
              "      <td>44.000000</td>\n",
              "      <td>1.000000</td>\n",
              "      <td>1.000000</td>\n",
              "      <td>1.000000</td>\n",
              "      <td>1.000000</td>\n",
              "      <td>18.000000</td>\n",
              "    </tr>\n",
              "  </tbody>\n",
              "</table>\n",
              "</div>"
            ],
            "text/plain": [
              "             week      arrest        fin         age        race        wexp  \\\n",
              "count  432.000000  432.000000  432.00000  432.000000  432.000000  432.000000   \n",
              "mean    45.854167    0.263889    0.50000   24.597222    0.877315    0.571759   \n",
              "std     12.662293    0.441251    0.50058    6.113375    0.328456    0.495398   \n",
              "min      1.000000    0.000000    0.00000   17.000000    0.000000    0.000000   \n",
              "25%     50.000000    0.000000    0.00000   20.000000    1.000000    0.000000   \n",
              "50%     52.000000    0.000000    0.50000   23.000000    1.000000    1.000000   \n",
              "75%     52.000000    1.000000    1.00000   27.000000    1.000000    1.000000   \n",
              "max     52.000000    1.000000    1.00000   44.000000    1.000000    1.000000   \n",
              "\n",
              "              mar        paro        prio  \n",
              "count  432.000000  432.000000  432.000000  \n",
              "mean     0.122685    0.618056    2.983796  \n",
              "std      0.328456    0.486426    2.896068  \n",
              "min      0.000000    0.000000    0.000000  \n",
              "25%      0.000000    0.000000    1.000000  \n",
              "50%      0.000000    1.000000    2.000000  \n",
              "75%      0.000000    1.000000    4.000000  \n",
              "max      1.000000    1.000000   18.000000  "
            ]
          },
          "metadata": {
            "tags": []
          },
          "execution_count": 87
        }
      ]
    },
    {
      "metadata": {
        "id": "Wg1s1bpJsgyt",
        "colab_type": "text"
      },
      "cell_type": "markdown",
      "source": [
        "### These are the \"lifelines\" of the study participants as they attempt to avoid recidivism"
      ]
    },
    {
      "metadata": {
        "id": "XqhPJfltsgyv",
        "colab_type": "code",
        "outputId": "67f97b7a-eb95-42c1-f2d3-9df201848172",
        "colab": {
          "base_uri": "https://localhost:8080/",
          "height": 315
        }
      },
      "cell_type": "code",
      "source": [
        "recidivism_sample = recidivism.sample(n=25)\n",
        "\n",
        "duration = recidivism_sample.week.values\n",
        "arrested = recidivism_sample.arrest.values\n",
        "\n",
        "ax = lifelines.plotting.plot_lifetimes(duration, event_observed=arrested)\n",
        "ax.set_xlim(0, 78)\n",
        "ax.grid(axis='x')\n",
        "ax.vlines(52, 0, 25, lw=2, linestyles='--')\n",
        "ax.set_xlabel(\"Time in Weeks\")\n",
        "ax.set_title(\"Recidivism Rates\");\n",
        "plt.plot();"
      ],
      "execution_count": 88,
      "outputs": [
        {
          "output_type": "display_data",
          "data": {
            "image/png": "[encoded data removed]",
            "text/plain": [
              "<Figure size 432x288 with 1 Axes>"
            ]
          },
          "metadata": {
            "tags": []
          }
        }
      ]
    },
    {
      "metadata": {
        "id": "lz4mF5kHsgy1",
        "colab_type": "code",
        "outputId": "4f760b25-9ecf-4c0a-ff2d-56ffa2aa3f77",
        "colab": {
          "base_uri": "https://localhost:8080/",
          "height": 87
        }
      },
      "cell_type": "code",
      "source": [
        "kmf = lifelines.KaplanMeierFitter()\n",
        "\n",
        "duration = recidivism.week\n",
        "arrested = recidivism.arrest\n",
        "\n",
        "kmf.fit(duration, arrested)"
      ],
      "execution_count": 89,
      "outputs": [
        {
          "output_type": "stream",
          "text": [
            "0    0.5\n",
            "dtype: float64\n"
          ],
          "name": "stdout"
        },
        {
          "output_type": "execute_result",
          "data": {
            "text/plain": [
              "<lifelines.KaplanMeierFitter: fitted with 432 observations, 318 censored>"
            ]
          },
          "metadata": {
            "tags": []
          },
          "execution_count": 89
        }
      ]
    },
    {
      "metadata": {
        "id": "RA1FMgDNsgy4",
        "colab_type": "code",
        "outputId": "29895f5d-2447-4270-f2d8-69455761ed53",
        "colab": {
          "base_uri": "https://localhost:8080/",
          "height": 330
        }
      },
      "cell_type": "code",
      "source": [
        "kmf.survival_function_.plot()\n",
        "plt.title('Survival Curve:\\nRecidivism of Recently Released Prisoners');"
      ],
      "execution_count": 90,
      "outputs": [
        {
          "output_type": "display_data",
          "data": {
            "image/png": "[encoded data removed]",
            "text/plain": [
              "<Figure size 432x288 with 1 Axes>"
            ]
          },
          "metadata": {
            "tags": []
          }
        }
      ]
    },
    {
      "metadata": {
        "id": "PXveA6jesgy8",
        "colab_type": "code",
        "outputId": "d76fe63f-9c12-4c45-b989-d734410d63fa",
        "colab": {
          "base_uri": "https://localhost:8080/",
          "height": 315
        }
      },
      "cell_type": "code",
      "source": [
        "kmf.plot()\n",
        "plt.title('Survival Function of Recidivism Data');"
      ],
      "execution_count": 91,
      "outputs": [
        {
          "output_type": "display_data",
          "data": {
            "image/png": "[encoded data removed]",
            "text/plain": [
              "<Figure size 432x288 with 1 Axes>"
            ]
          },
          "metadata": {
            "tags": []
          }
        }
      ]
    },
    {
      "metadata": {
        "id": "Mt3ucIbgsgzB",
        "colab_type": "code",
        "outputId": "29f9e424-ce41-4377-9684-0f1f33651934",
        "colab": {
          "base_uri": "https://localhost:8080/",
          "height": 54
        }
      },
      "cell_type": "code",
      "source": [
        "print(f'Median time before recidivism: {kmf.median_} weeks')"
      ],
      "execution_count": 92,
      "outputs": [
        {
          "output_type": "stream",
          "text": [
            "Median time before recidivism: inf weeks\n"
          ],
          "name": "stdout"
        }
      ]
    },
    {
      "metadata": {
        "id": "c9e5lAV7sgzH",
        "colab_type": "code",
        "outputId": "1511cb29-8b58-435b-a12c-ec9a5020e236",
        "colab": {
          "base_uri": "https://localhost:8080/",
          "height": 382
        }
      },
      "cell_type": "code",
      "source": [
        "kmf_w_aid = lifelines.KaplanMeierFitter()\n",
        "kmf_no_aid = lifelines.KaplanMeierFitter()\n",
        "\n",
        "ax = plt.subplot(111)\n",
        "\n",
        "w_aid = (recidivism['fin']==1)\n",
        "\n",
        "t = np.linspace(0, 70, 71)\n",
        "kmf_w_aid.fit(duration[w_aid], event_observed=arrested[w_aid], timeline=t, label=\"Received Financial Aid\")\n",
        "ax = kmf_w_aid.plot(ax=ax)\n",
        "#print(\"Median survival time of democratic:\", kmf.median_)\n",
        "\n",
        "kmf_no_aid.fit(duration[~w_aid], event_observed=arrested[~w_aid], timeline=t, label=\"No Financial Aid\")\n",
        "ax = kmf_no_aid.plot(ax=ax)\n",
        "#print(\"Median survival time of non-democratic:\", kmf.median_)\n",
        "\n",
        "plt.ylim(.5,1)\n",
        "plt.title(\"Recidivism for Participants Who Received Financial Aid \\vs. Those Who Did Not\");"
      ],
      "execution_count": 93,
      "outputs": [
        {
          "output_type": "stream",
          "text": [
            "0    0.5\n",
            "dtype: float64\n",
            "0    0.5\n",
            "dtype: float64\n"
          ],
          "name": "stdout"
        },
        {
          "output_type": "display_data",
          "data": {
            "image/png": "[encoded data removed]",
            "text/plain": [
              "<Figure size 432x288 with 1 Axes>"
            ]
          },
          "metadata": {
            "tags": []
          }
        }
      ]
    },
    {
      "metadata": {
        "id": "zdM4GOAOsgzN",
        "colab_type": "code",
        "outputId": "4fff8479-dad0-49e8-d37c-c7a486594092",
        "colab": {
          "base_uri": "https://localhost:8080/",
          "height": 438
        }
      },
      "cell_type": "code",
      "source": [
        "naf = lifelines.NelsonAalenFitter()\n",
        "naf.fit(duration, arrested)\n",
        "\n",
        "print(naf.cumulative_hazard_.head())\n",
        "naf.plot()"
      ],
      "execution_count": 94,
      "outputs": [
        {
          "output_type": "stream",
          "text": [
            "          NA_estimate\n",
            "timeline             \n",
            "0.0          0.000000\n",
            "1.0          0.002315\n",
            "2.0          0.004635\n",
            "3.0          0.006961\n",
            "4.0          0.009292\n"
          ],
          "name": "stdout"
        },
        {
          "output_type": "execute_result",
          "data": {
            "text/plain": [
              "<matplotlib.axes._subplots.AxesSubplot at 0x7fe9bda654e0>"
            ]
          },
          "metadata": {
            "tags": []
          },
          "execution_count": 94
        },
        {
          "output_type": "display_data",
          "data": {
            "image/png": "[encoded data removed]",
            "text/plain": [
              "<Figure size 432x288 with 1 Axes>"
            ]
          },
          "metadata": {
            "tags": []
          }
        }
      ]
    },
    {
      "metadata": {
        "id": "uJVPVtmYsgzR",
        "colab_type": "code",
        "outputId": "c837ec4c-c9cc-4dd6-ae38-9d947af73bf5",
        "colab": {
          "base_uri": "https://localhost:8080/",
          "height": 345
        }
      },
      "cell_type": "code",
      "source": [
        "naf_w_aid = lifelines.NelsonAalenFitter()\n",
        "naf_no_aid = lifelines.NelsonAalenFitter()\n",
        "\n",
        "naf_w_aid.fit(duration[w_aid], event_observed=arrested[w_aid], timeline=t, label=\"Received Financial Aid\")\n",
        "ax = naf_w_aid.plot(loc=slice(0, 50))\n",
        "naf_no_aid.fit(duration[~w_aid], event_observed=arrested[~w_aid], timeline=t, label=\"No Financial Aid\")\n",
        "ax = naf_no_aid.plot(ax=ax, loc=slice(0, 50))\n",
        "plt.title(\"Recidivism Cumulative Hazard\\nfor Participants Who Received Financial Aid \\nvs. Those Who Did Not\");\n",
        "plt.show()"
      ],
      "execution_count": 95,
      "outputs": [
        {
          "output_type": "display_data",
          "data": {
            "image/png": "[encoded data removed]",
            "text/plain": [
              "<Figure size 432x288 with 1 Axes>"
            ]
          },
          "metadata": {
            "tags": []
          }
        }
      ]
    },
    {
      "metadata": {
        "id": "5KbuDkxjsgzV",
        "colab_type": "code",
        "outputId": "4caa99b1-27f5-4582-865e-ba3907f72159",
        "colab": {
          "base_uri": "https://localhost:8080/",
          "height": 507
        }
      },
      "cell_type": "code",
      "source": [
        "cph = lifelines.CoxPHFitter()\n",
        "cph.fit(recidivism, duration_col='week', event_col='arrest', show_progress=True)\n",
        "\n",
        "cph.print_summary()"
      ],
      "execution_count": 96,
      "outputs": [
        {
          "output_type": "stream",
          "text": [
            "Iteration 1: norm_delta = 0.48337, step_size = 0.95000, ll = -675.38063, newton_decrement = 16.76434, seconds_since_start = 0.0\n",
            "Iteration 2: norm_delta = 0.13160, step_size = 0.95000, ll = -659.79004, newton_decrement = 0.99157, seconds_since_start = 0.0\n",
            "Iteration 3: norm_delta = 0.01712, step_size = 0.95000, ll = -658.76197, newton_decrement = 0.01422, seconds_since_start = 0.0\n",
            "Iteration 4: norm_delta = 0.00103, step_size = 0.95000, ll = -658.74771, newton_decrement = 0.00005, seconds_since_start = 0.0\n",
            "Iteration 5: norm_delta = 0.00005, step_size = 0.95000, ll = -658.74766, newton_decrement = 0.00000, seconds_since_start = 0.0\n",
            "Convergence completed after 5 iterations.\n",
            "<lifelines.CoxPHFitter: fitted with 432 observations, 318 censored>\n",
            "      duration col = 'week'\n",
            "         event col = 'arrest'\n",
            "number of subjects = 432\n",
            "  number of events = 114\n",
            "    log-likelihood = -658.75\n",
            "  time fit was run = 2019-01-23 22:49:10 UTC\n",
            "\n",
            "---\n",
            "      coef  exp(coef)  se(coef)     z      p  log(p)  lower 0.95  upper 0.95   \n",
            "fin  -0.38       0.68      0.19 -1.98   0.05   -3.05       -0.75       -0.00  .\n",
            "age  -0.06       0.94      0.02 -2.61   0.01   -4.71       -0.10       -0.01  *\n",
            "race  0.31       1.37      0.31  1.02   0.31   -1.18       -0.29        0.92   \n",
            "wexp -0.15       0.86      0.21 -0.71   0.48   -0.73       -0.57        0.27   \n",
            "mar  -0.43       0.65      0.38 -1.14   0.26   -1.36       -1.18        0.31   \n",
            "paro -0.08       0.92      0.20 -0.43   0.66   -0.41       -0.47        0.30   \n",
            "prio  0.09       1.10      0.03  3.19 <0.005   -6.57        0.04        0.15  *\n",
            "---\n",
            "Signif. codes: 0 '***' 0.0001 '**' 0.001 '*' 0.01 '.' 0.05 ' ' 1\n",
            "\n",
            "Concordance = 0.64\n",
            "Likelihood ratio test = 33.27 on 7 df, log(p)=-10.65\n"
          ],
          "name": "stdout"
        }
      ]
    },
    {
      "metadata": {
        "id": "QoWVH0XDsgzX",
        "colab_type": "code",
        "outputId": "aaa6fb7b-317d-46f9-b169-f247d10ea431",
        "colab": {
          "base_uri": "https://localhost:8080/",
          "height": 320
        }
      },
      "cell_type": "code",
      "source": [
        "cph.plot()"
      ],
      "execution_count": 97,
      "outputs": [
        {
          "output_type": "execute_result",
          "data": {
            "text/plain": [
              "<matplotlib.axes._subplots.AxesSubplot at 0x7fe9bf6de4a8>"
            ]
          },
          "metadata": {
            "tags": []
          },
          "execution_count": 97
        },
        {
          "output_type": "display_data",
          "data": {
            "image/png": "[encoded data removed]",
            "text/plain": [
              "<Figure size 432x288 with 1 Axes>"
            ]
          },
          "metadata": {
            "tags": []
          }
        }
      ]
    },
    {
      "metadata": {
        "id": "r8qPQeKVsgza",
        "colab_type": "code",
        "outputId": "c7360860-f3c5-473c-9c60-0a693141d107",
        "colab": {
          "base_uri": "https://localhost:8080/",
          "height": 320
        }
      },
      "cell_type": "code",
      "source": [
        "cph.plot_covariate_groups('fin', [0, 1])"
      ],
      "execution_count": 98,
      "outputs": [
        {
          "output_type": "execute_result",
          "data": {
            "text/plain": [
              "<matplotlib.axes._subplots.AxesSubplot at 0x7fe9bf619860>"
            ]
          },
          "metadata": {
            "tags": []
          },
          "execution_count": 98
        },
        {
          "output_type": "display_data",
          "data": {
            "image/png": "[encoded data removed]",
            "text/plain": [
              "<Figure size 432x288 with 1 Axes>"
            ]
          },
          "metadata": {
            "tags": []
          }
        }
      ]
    },
    {
      "metadata": {
        "id": "PPSlBmp-sgzc",
        "colab_type": "code",
        "outputId": "bf20d335-6519-4ded-d9e2-2e77c122a79a",
        "colab": {
          "base_uri": "https://localhost:8080/",
          "height": 320
        }
      },
      "cell_type": "code",
      "source": [
        "cph.plot_covariate_groups('prio', [0, 5, 10, 15])"
      ],
      "execution_count": 99,
      "outputs": [
        {
          "output_type": "execute_result",
          "data": {
            "text/plain": [
              "<matplotlib.axes._subplots.AxesSubplot at 0x7fe9bf739a58>"
            ]
          },
          "metadata": {
            "tags": []
          },
          "execution_count": 99
        },
        {
          "output_type": "display_data",
          "data": {
            "image/png": "[encoded data removed]",
            "text/plain": [
              "<Figure size 432x288 with 1 Axes>"
            ]
          },
          "metadata": {
            "tags": []
          }
        }
      ]
    },
    {
      "metadata": {
        "id": "8H4IMry_sgzf",
        "colab_type": "code",
        "outputId": "2c469034-a6c0-4f93-abf2-0bedbfafdc76",
        "colab": {
          "base_uri": "https://localhost:8080/",
          "height": 215
        }
      },
      "cell_type": "code",
      "source": [
        "r = cph.compute_residuals(recidivism, 'martingale')\n",
        "r.head()"
      ],
      "execution_count": 100,
      "outputs": [
        {
          "output_type": "execute_result",
          "data": {
            "text/html": [
              "<div>\n",
              "<style scoped>\n",
              "    .dataframe tbody tr th:only-of-type {\n",
              "        vertical-align: middle;\n",
              "    }\n",
              "\n",
              "    .dataframe tbody tr th {\n",
              "        vertical-align: top;\n",
              "    }\n",
              "\n",
              "    .dataframe thead th {\n",
              "        text-align: right;\n",
              "    }\n",
              "</style>\n",
              "<table border=\"1\" class=\"dataframe\">\n",
              "  <thead>\n",
              "    <tr style=\"text-align: right;\">\n",
              "      <th></th>\n",
              "      <th>arrest</th>\n",
              "      <th>martingale</th>\n",
              "      <th>week</th>\n",
              "    </tr>\n",
              "  </thead>\n",
              "  <tbody>\n",
              "    <tr>\n",
              "      <th>313</th>\n",
              "      <td>True</td>\n",
              "      <td>0.997048</td>\n",
              "      <td>1.0</td>\n",
              "    </tr>\n",
              "    <tr>\n",
              "      <th>100</th>\n",
              "      <td>True</td>\n",
              "      <td>0.998585</td>\n",
              "      <td>2.0</td>\n",
              "    </tr>\n",
              "    <tr>\n",
              "      <th>183</th>\n",
              "      <td>True</td>\n",
              "      <td>0.993959</td>\n",
              "      <td>3.0</td>\n",
              "    </tr>\n",
              "    <tr>\n",
              "      <th>416</th>\n",
              "      <td>True</td>\n",
              "      <td>0.987465</td>\n",
              "      <td>4.0</td>\n",
              "    </tr>\n",
              "    <tr>\n",
              "      <th>79</th>\n",
              "      <td>True</td>\n",
              "      <td>0.979341</td>\n",
              "      <td>5.0</td>\n",
              "    </tr>\n",
              "  </tbody>\n",
              "</table>\n",
              "</div>"
            ],
            "text/plain": [
              "     arrest  martingale  week\n",
              "313    True    0.997048   1.0\n",
              "100    True    0.998585   2.0\n",
              "183    True    0.993959   3.0\n",
              "416    True    0.987465   4.0\n",
              "79     True    0.979341   5.0"
            ]
          },
          "metadata": {
            "tags": []
          },
          "execution_count": 100
        }
      ]
    },
    {
      "metadata": {
        "id": "4gi-OTLMsgzs",
        "colab_type": "code",
        "outputId": "9cebd7a2-2c05-4ad1-b333-da9e7295ace8",
        "colab": {
          "base_uri": "https://localhost:8080/",
          "height": 507
        }
      },
      "cell_type": "code",
      "source": [
        "cph = lifelines.CoxPHFitter()\n",
        "cph.fit(recidivism, duration_col='week', event_col='arrest', show_progress=True)\n",
        "\n",
        "cph.print_summary()"
      ],
      "execution_count": 101,
      "outputs": [
        {
          "output_type": "stream",
          "text": [
            "Iteration 1: norm_delta = 0.48337, step_size = 0.95000, ll = -675.38063, newton_decrement = 16.76434, seconds_since_start = 0.0\n",
            "Iteration 2: norm_delta = 0.13160, step_size = 0.95000, ll = -659.79004, newton_decrement = 0.99157, seconds_since_start = 0.0\n",
            "Iteration 3: norm_delta = 0.01712, step_size = 0.95000, ll = -658.76197, newton_decrement = 0.01422, seconds_since_start = 0.0\n",
            "Iteration 4: norm_delta = 0.00103, step_size = 0.95000, ll = -658.74771, newton_decrement = 0.00005, seconds_since_start = 0.0\n",
            "Iteration 5: norm_delta = 0.00005, step_size = 0.95000, ll = -658.74766, newton_decrement = 0.00000, seconds_since_start = 0.0\n",
            "Convergence completed after 5 iterations.\n",
            "<lifelines.CoxPHFitter: fitted with 432 observations, 318 censored>\n",
            "      duration col = 'week'\n",
            "         event col = 'arrest'\n",
            "number of subjects = 432\n",
            "  number of events = 114\n",
            "    log-likelihood = -658.75\n",
            "  time fit was run = 2019-01-23 22:49:11 UTC\n",
            "\n",
            "---\n",
            "      coef  exp(coef)  se(coef)     z      p  log(p)  lower 0.95  upper 0.95   \n",
            "fin  -0.38       0.68      0.19 -1.98   0.05   -3.05       -0.75       -0.00  .\n",
            "age  -0.06       0.94      0.02 -2.61   0.01   -4.71       -0.10       -0.01  *\n",
            "race  0.31       1.37      0.31  1.02   0.31   -1.18       -0.29        0.92   \n",
            "wexp -0.15       0.86      0.21 -0.71   0.48   -0.73       -0.57        0.27   \n",
            "mar  -0.43       0.65      0.38 -1.14   0.26   -1.36       -1.18        0.31   \n",
            "paro -0.08       0.92      0.20 -0.43   0.66   -0.41       -0.47        0.30   \n",
            "prio  0.09       1.10      0.03  3.19 <0.005   -6.57        0.04        0.15  *\n",
            "---\n",
            "Signif. codes: 0 '***' 0.0001 '**' 0.001 '*' 0.01 '.' 0.05 ' ' 1\n",
            "\n",
            "Concordance = 0.64\n",
            "Likelihood ratio test = 33.27 on 7 df, log(p)=-10.65\n"
          ],
          "name": "stdout"
        }
      ]
    },
    {
      "metadata": {
        "id": "ZNAc3sAVsgzv",
        "colab_type": "code",
        "outputId": "fbbf8289-bba6-4cc6-9066-bc74e7bb49e3",
        "colab": {
          "base_uri": "https://localhost:8080/",
          "height": 303
        }
      },
      "cell_type": "code",
      "source": [
        "cph.plot();"
      ],
      "execution_count": 102,
      "outputs": [
        {
          "output_type": "display_data",
          "data": {
            "image/png": "[encoded data removed]",
            "text/plain": [
              "<Figure size 432x288 with 1 Axes>"
            ]
          },
          "metadata": {
            "tags": []
          }
        }
      ]
    },
    {
      "metadata": {
        "id": "jSWSmL8nsgzx",
        "colab_type": "code",
        "outputId": "7059ac85-97a3-4d0e-be8d-058234c60635",
        "colab": {
          "base_uri": "https://localhost:8080/",
          "height": 303
        }
      },
      "cell_type": "code",
      "source": [
        "cph.plot_covariate_groups('prio', [0, 5, 10, 15]);"
      ],
      "execution_count": 103,
      "outputs": [
        {
          "output_type": "display_data",
          "data": {
            "image/png": "[encoded data removed]",
            "text/plain": [
              "<Figure size 432x288 with 1 Axes>"
            ]
          },
          "metadata": {
            "tags": []
          }
        }
      ]
    },
    {
      "metadata": {
        "id": "iODFHl9Usgzz",
        "colab_type": "code",
        "outputId": "5ce39af9-096b-4006-c40a-1cb77ec7c16e",
        "colab": {
          "base_uri": "https://localhost:8080/",
          "height": 1446
        }
      },
      "cell_type": "code",
      "source": [
        "cph.check_assumptions(recidivism)"
      ],
      "execution_count": 104,
      "outputs": [
        {
          "output_type": "stream",
          "text": [
            "0    0.5\n",
            "dtype: float64\n",
            "\n",
            "<lifelines.StatisticalResult>\n",
            "         test_name = proportional_hazard_test\n",
            " null_distribution = chi squared\n",
            "degrees_of_freedom = 1\n",
            "\n",
            "---\n",
            "               test_statistic      p  log(p)    \n",
            "age  identity           12.06 <0.005   -7.57  **\n",
            "     km                 11.03 <0.005   -7.02  **\n",
            "     log                13.07 <0.005   -8.11  **\n",
            "     rank               11.09 <0.005   -7.05  **\n",
            "fin  identity            0.06   0.81   -0.21    \n",
            "     km                  0.02   0.89   -0.12    \n",
            "     log                 0.49   0.48   -0.73    \n",
            "     rank                0.02   0.90   -0.11    \n",
            "mar  identity            0.75   0.39   -0.95    \n",
            "     km                  0.60   0.44   -0.82    \n",
            "     log                 1.03   0.31   -1.17    \n",
            "     rank                0.67   0.41   -0.88    \n",
            "paro identity            0.12   0.73   -0.32    \n",
            "     km                  0.12   0.73   -0.31    \n",
            "     log                 0.01   0.92   -0.09    \n",
            "     rank                0.14   0.71   -0.34    \n",
            "prio identity            0.01   0.92   -0.09    \n",
            "     km                  0.02   0.88   -0.13    \n",
            "     log                 0.38   0.54   -0.62    \n",
            "     rank                0.02   0.88   -0.13    \n",
            "race identity            1.49   0.22   -1.50    \n",
            "     km                  1.44   0.23   -1.47    \n",
            "     log                 1.03   0.31   -1.17    \n",
            "     rank                1.46   0.23   -1.48    \n",
            "wexp identity            6.93   0.01   -4.77   *\n",
            "     km                  7.48   0.01   -5.07   *\n",
            "     log                 5.54   0.02   -3.99   .\n",
            "     rank                7.18   0.01   -4.91   *\n",
            "---\n",
            "Signif. codes: 0 '***' 0.0001 '**' 0.001 '*' 0.01 '.' 0.05 ' ' 1\n",
            "\n",
            "1. Variable 'age' failed the non-proportional test, p=0.0003.\n",
            "   Advice: try binning the variable 'age' using pd.cut, and then specify it in `strata=['age']` in the call in `.fit`. See more documentation here: https://lifelines.readthedocs.io/en/latest/jupyter_notebooks/Proportional%20hazard%20assumption.html\n",
            "   Advice: try adding an interaction term with your time variable. See more documentation here: https://lifelines.readthedocs.io/en/latest/jupyter_notebooks/Proportional%20hazard%20assumption.html\n",
            "0    0.5\n",
            "dtype: float64\n",
            "2. Variable 'wexp' failed the non-proportional test, p=0.0063.\n",
            "   Advice: with so few unique values (only 2), you can try `strata=['wexp']` in the call in `.fit`. See documentation here: https://lifelines.readthedocs.io/en/latest/jupyter_notebooks/Proportional%20hazard%20assumption.html\n",
            "0    0.5\n",
            "dtype: float64\n"
          ],
          "name": "stdout"
        },
        {
          "output_type": "display_data",
          "data": {
            "image/png": "[encoded data removed]",
            "text/plain": [
              "<Figure size 432x288 with 4 Axes>"
            ]
          },
          "metadata": {
            "tags": []
          }
        },
        {
          "output_type": "display_data",
          "data": {
            "image/png": "[encoded data removed]",
            "text/plain": [
              "<Figure size 432x288 with 4 Axes>"
            ]
          },
          "metadata": {
            "tags": []
          }
        }
      ]
    },
    {
      "metadata": {
        "id": "XY-yJuKcsgz1",
        "colab_type": "text"
      },
      "cell_type": "markdown",
      "source": [
        "## The Intuition - Hazard and Survival Functions\n",
        "\n",
        "### Hazard Function - the dangerous bathtub\n",
        "\n",
        "The hazard function represents the *instantaneous* likelihood of failure. It can be treated as a PDF (probability density function), and with real-world data comes in three typical shapes.\n",
        "\n",
        "![Different hazard functions](https://upload.wikimedia.org/wikipedia/commons/2/25/Compsyseng17_04.jpg)\n",
        "\n",
        "Increasing and decreasing failure rate are fairly intuitive - the \"bathtub\" shaped is perhaps the most surprising, but actually models many real-world situations. In fact, life expectancy in general, and most threats to it, assume this shape.\n",
        "\n",
        "What the \"bathtub\" means is that - threats are highest at youth (e.g. infant mortality), but then decrease and stabilize at maturity, only to eventually re-emerge in old age. Many diseases primarily threaten children and elderly, and middle aged people are also more robust to physical trauma.\n",
        "\n",
        "The \"bathtub\" is also suitable for many non-human situations - often with reliability analysis, mechanical parts either fail early (due to manufacturing defects), or they survive and have a relatively long lifetime to eventually fail out of age and use.\n",
        "\n",
        "### Survival Function (aka reliability function) - it's just a (backwards) CDF\n",
        "\n",
        "Since the hazard function can be treated as a probability density function, it makes sense to think about the corresponding cumulative distribution function (CDF). But because we're modeling time to failure, it's actually more interesting to look at the CDF backwards - this is called the complementary cumulative distribution function.\n",
        "\n",
        "In survival analysis there's a special name for it - the survival function - and it gives the probability that the object being studied will survive beyond a given time.\n",
        "\n",
        "![4 survival functions](https://upload.wikimedia.org/wikipedia/commons/e/e0/Four_survival_functions.svg)\n",
        "\n",
        "As you can see they all start at 1 for time 0 - at the beginning, all things are alive. Then they all move down over time to eventually approach and converge to 0. The different shapes reflect the average/expected retention of a population subject to this function over time, and as such this is a particularly useful visualization when modeling overall retention/churn situations.\n",
        "\n",
        "### Ways to estimate/model survival analysis - terms to be aware of\n",
        "Key Components Necessary for these models - duration, and whether observation is censored.\n",
        "\n",
        "- Kaplan Meier Estimator\n",
        "- Nelson-Aalen Estimator\n",
        "- Proportional Hazards (Cox Model, integrates covariates)\n",
        "- Additive Hazards Model (Aalen's Additive Model, when covariates are time-dependent)\n",
        "\n",
        "As with most statistics, these are all refinements of the general principles, with the math to back them up. Software packages will tend to select reasonable defaults, and allow you to use parameters to tune or select things. The math for these gets varied and deep - but feel free to [dive in](https://en.wikipedia.org/wiki/Survival_analysis) if you're curious!"
      ]
    },
    {
      "metadata": {
        "id": "Su5WdRa139yW",
        "colab_type": "text"
      },
      "cell_type": "markdown",
      "source": [
        "## Live! Let's try modeling heart attack survival\n",
        "\n",
        "https://archive.ics.uci.edu/ml/datasets/echocardiogram"
      ]
    },
    {
      "metadata": {
        "id": "4GcRG1ussgz1",
        "colab_type": "code",
        "colab": {}
      },
      "cell_type": "code",
      "source": [
        "# TODO - Live! (As time permits)"
      ],
      "execution_count": 0,
      "outputs": []
    },
    {
      "metadata": {
        "id": "8tMyVxHRa3cQ",
        "colab_type": "text"
      },
      "cell_type": "markdown",
      "source": [
        "# Assignment - Customer Churn\n",
        "\n",
        "Treselle Systems, a data consulting service, [analyzed customer churn data using logistic regression](http://www.treselle.com/blog/customer-churn-logistic-regression-with-r/). For simply modeling whether or not a customer left this can work, but if we want to model the actual tenure of a customer, survival analysis is more appropriate.\n",
        "\n",
        "The \"tenure\" feature represents the duration that a given customer has been with them, and \"churn\" represents whether or not that customer left (i.e. the \"event\", from a survival analysis perspective). So, any situation where churn is \"no\" means that a customer is still active, and so from a survival analysis perspective the observation is censored (we have their tenure up to now, but we don't know their *true* duration until event).\n",
        "\n",
        "Your assignment is to [use their data](https://github.com/treselle-systems/customer_churn_analysis) to fit a survival model, and answer the following questions:\n",
        "\n",
        "- What features best model customer churn?\n",
        "- What would you characterize as the \"warning signs\" that a customer may discontinue service?\n",
        "- What actions would you recommend to this business to try to improve their customer retention?\n",
        "\n",
        "Please create at least *3* plots or visualizations to support your findings, and in general write your summary/results targeting an \"interested layperson\" (e.g. your hypothetical business manager) as your audience.\n",
        "\n",
        "This means that, as is often the case in data science, there isn't a single objective right answer - your goal is to *support* your answer, whatever it is, with data and reasoning.\n",
        "\n",
        "Good luck!"
      ]
    },
    {
      "metadata": {
        "id": "7uvEKctn1y7W",
        "colab_type": "code",
        "colab": {
          "base_uri": "https://localhost:8080/",
          "height": 588
        },
        "outputId": "669215f9-f8ea-48ec-c409-19e5c4031b4a"
      },
      "cell_type": "code",
      "source": [
        "!pip install lifelines\n",
        "!pip install seaborn==0.9.0"
      ],
      "execution_count": 106,
      "outputs": [
        {
          "output_type": "stream",
          "text": [
            "Requirement already satisfied: lifelines in /usr/local/lib/python3.6/dist-packages (0.17.2)\n",
            "Collecting matplotlib<3.0,>=2.0 (from lifelines)\n",
            "  Using cached https://files.pythonhosted.org/packages/9e/59/f235ab21bbe7b7c6570c4abf17ffb893071f4fa3b9cf557b09b60359ad9a/matplotlib-2.2.3-cp36-cp36m-manylinux1_x86_64.whl\n",
            "Requirement already satisfied: pandas>=0.18 in /usr/local/lib/python3.6/dist-packages (from lifelines) (0.22.0)\n",
            "Requirement already satisfied: scipy>=1.0 in /usr/local/lib/python3.6/dist-packages (from lifelines) (1.1.0)\n",
            "Requirement already satisfied: numpy>=1.6.0 in /usr/local/lib/python3.6/dist-packages (from lifelines) (1.14.6)\n",
            "Requirement already satisfied: bottleneck>=1.0 in /usr/local/lib/python3.6/dist-packages (from lifelines) (1.2.1)\n",
            "Requirement already satisfied: pytz in /usr/local/lib/python3.6/dist-packages (from matplotlib<3.0,>=2.0->lifelines) (2018.9)\n",
            "Requirement already satisfied: pyparsing!=2.0.4,!=2.1.2,!=2.1.6,>=2.0.1 in /usr/local/lib/python3.6/dist-packages (from matplotlib<3.0,>=2.0->lifelines) (2.3.1)\n",
            "Requirement already satisfied: kiwisolver>=1.0.1 in /usr/local/lib/python3.6/dist-packages (from matplotlib<3.0,>=2.0->lifelines) (1.0.1)\n",
            "Requirement already satisfied: python-dateutil>=2.1 in /usr/local/lib/python3.6/dist-packages (from matplotlib<3.0,>=2.0->lifelines) (2.5.3)\n",
            "Requirement already satisfied: six>=1.10 in /usr/local/lib/python3.6/dist-packages (from matplotlib<3.0,>=2.0->lifelines) (1.11.0)\n",
            "Requirement already satisfied: cycler>=0.10 in /usr/local/lib/python3.6/dist-packages (from matplotlib<3.0,>=2.0->lifelines) (0.10.0)\n",
            "Requirement already satisfied: setuptools in /usr/local/lib/python3.6/dist-packages (from kiwisolver>=1.0.1->matplotlib<3.0,>=2.0->lifelines) (40.6.3)\n",
            "Installing collected packages: matplotlib\n",
            "  Found existing installation: matplotlib 3.0.2\n",
            "    Uninstalling matplotlib-3.0.2:\n",
            "      Successfully uninstalled matplotlib-3.0.2\n",
            "Successfully installed matplotlib-2.2.3\n",
            "\u001b[0;31;1mWARNING: The following packages were previously imported in this runtime:\n",
            "  [matplotlib, mpl_toolkits]\n",
            "You must restart the runtime in order to use newly installed versions.\u001b[0m\n",
            "Requirement already satisfied: seaborn==0.9.0 in /usr/local/lib/python3.6/dist-packages (0.9.0)\n",
            "Requirement already satisfied: pandas>=0.15.2 in /usr/local/lib/python3.6/dist-packages (from seaborn==0.9.0) (0.22.0)\n",
            "Requirement already satisfied: matplotlib>=1.4.3 in /usr/local/lib/python3.6/dist-packages (from seaborn==0.9.0) (2.2.3)\n",
            "Requirement already satisfied: numpy>=1.9.3 in /usr/local/lib/python3.6/dist-packages (from seaborn==0.9.0) (1.14.6)\n",
            "Requirement already satisfied: scipy>=0.14.0 in /usr/local/lib/python3.6/dist-packages (from seaborn==0.9.0) (1.1.0)\n",
            "Requirement already satisfied: pytz>=2011k in /usr/local/lib/python3.6/dist-packages (from pandas>=0.15.2->seaborn==0.9.0) (2018.9)\n",
            "Requirement already satisfied: python-dateutil>=2 in /usr/local/lib/python3.6/dist-packages (from pandas>=0.15.2->seaborn==0.9.0) (2.5.3)\n",
            "Requirement already satisfied: kiwisolver>=1.0.1 in /usr/local/lib/python3.6/dist-packages (from matplotlib>=1.4.3->seaborn==0.9.0) (1.0.1)\n",
            "Requirement already satisfied: pyparsing!=2.0.4,!=2.1.2,!=2.1.6,>=2.0.1 in /usr/local/lib/python3.6/dist-packages (from matplotlib>=1.4.3->seaborn==0.9.0) (2.3.1)\n",
            "Requirement already satisfied: six>=1.10 in /usr/local/lib/python3.6/dist-packages (from matplotlib>=1.4.3->seaborn==0.9.0) (1.11.0)\n",
            "Requirement already satisfied: cycler>=0.10 in /usr/local/lib/python3.6/dist-packages (from matplotlib>=1.4.3->seaborn==0.9.0) (0.10.0)\n",
            "Requirement already satisfied: setuptools in /usr/local/lib/python3.6/dist-packages (from kiwisolver>=1.0.1->matplotlib>=1.4.3->seaborn==0.9.0) (40.6.3)\n"
          ],
          "name": "stdout"
        }
      ]
    },
    {
      "metadata": {
        "id": "ffNsiiGbvwxM",
        "colab_type": "code",
        "colab": {}
      },
      "cell_type": "code",
      "source": [
        "import matplotlib.pyplot as plt\n",
        "import pandas as pd\n",
        "import seaborn as sns\n",
        "import lifelines\n",
        "\n",
        "from lifelines import KaplanMeierFitter, CoxPHFitter\n",
        "from matplotlib.pyplot import figure\n",
        "from sklearn.preprocessing import LabelEncoder"
      ],
      "execution_count": 0,
      "outputs": []
    },
    {
      "metadata": {
        "id": "HIh28K70vhyg",
        "colab_type": "code",
        "colab": {}
      },
      "cell_type": "code",
      "source": [
        "def display_all(df):\n",
        "    with pd.option_context(\"display.max_rows\", 1000): \n",
        "        with pd.option_context(\"display.max_columns\", 1000): \n",
        "            display(df.head(10))"
      ],
      "execution_count": 0,
      "outputs": []
    },
    {
      "metadata": {
        "id": "OIfMQKnSy8Zl",
        "colab_type": "code",
        "outputId": "3449bca7-286a-4e9d-9a6d-6571c1ee96d5",
        "colab": {
          "base_uri": "https://localhost:8080/",
          "height": 531
        }
      },
      "cell_type": "code",
      "source": [
        "# Loading the data to get you started\n",
        "churn_data = pd.read_csv(\n",
        "    'https://raw.githubusercontent.com/treselle-systems/'\n",
        "    'customer_churn_analysis/master/WA_Fn-UseC_-Telco-Customer-Churn.csv')\n",
        "display_all(churn_data)"
      ],
      "execution_count": 159,
      "outputs": [
        {
          "output_type": "display_data",
          "data": {
            "text/html": [
              "<div>\n",
              "<style scoped>\n",
              "    .dataframe tbody tr th:only-of-type {\n",
              "        vertical-align: middle;\n",
              "    }\n",
              "\n",
              "    .dataframe tbody tr th {\n",
              "        vertical-align: top;\n",
              "    }\n",
              "\n",
              "    .dataframe thead th {\n",
              "        text-align: right;\n",
              "    }\n",
              "</style>\n",
              "<table border=\"1\" class=\"dataframe\">\n",
              "  <thead>\n",
              "    <tr style=\"text-align: right;\">\n",
              "      <th></th>\n",
              "      <th>customerID</th>\n",
              "      <th>gender</th>\n",
              "      <th>SeniorCitizen</th>\n",
              "      <th>Partner</th>\n",
              "      <th>Dependents</th>\n",
              "      <th>tenure</th>\n",
              "      <th>PhoneService</th>\n",
              "      <th>MultipleLines</th>\n",
              "      <th>InternetService</th>\n",
              "      <th>OnlineSecurity</th>\n",
              "      <th>OnlineBackup</th>\n",
              "      <th>DeviceProtection</th>\n",
              "      <th>TechSupport</th>\n",
              "      <th>StreamingTV</th>\n",
              "      <th>StreamingMovies</th>\n",
              "      <th>Contract</th>\n",
              "      <th>PaperlessBilling</th>\n",
              "      <th>PaymentMethod</th>\n",
              "      <th>MonthlyCharges</th>\n",
              "      <th>TotalCharges</th>\n",
              "      <th>Churn</th>\n",
              "    </tr>\n",
              "  </thead>\n",
              "  <tbody>\n",
              "    <tr>\n",
              "      <th>0</th>\n",
              "      <td>7590-VHVEG</td>\n",
              "      <td>Female</td>\n",
              "      <td>0</td>\n",
              "      <td>Yes</td>\n",
              "      <td>No</td>\n",
              "      <td>1</td>\n",
              "      <td>No</td>\n",
              "      <td>No phone service</td>\n",
              "      <td>DSL</td>\n",
              "      <td>No</td>\n",
              "      <td>Yes</td>\n",
              "      <td>No</td>\n",
              "      <td>No</td>\n",
              "      <td>No</td>\n",
              "      <td>No</td>\n",
              "      <td>Month-to-month</td>\n",
              "      <td>Yes</td>\n",
              "      <td>Electronic check</td>\n",
              "      <td>29.85</td>\n",
              "      <td>29.85</td>\n",
              "      <td>No</td>\n",
              "    </tr>\n",
              "    <tr>\n",
              "      <th>1</th>\n",
              "      <td>5575-GNVDE</td>\n",
              "      <td>Male</td>\n",
              "      <td>0</td>\n",
              "      <td>No</td>\n",
              "      <td>No</td>\n",
              "      <td>34</td>\n",
              "      <td>Yes</td>\n",
              "      <td>No</td>\n",
              "      <td>DSL</td>\n",
              "      <td>Yes</td>\n",
              "      <td>No</td>\n",
              "      <td>Yes</td>\n",
              "      <td>No</td>\n",
              "      <td>No</td>\n",
              "      <td>No</td>\n",
              "      <td>One year</td>\n",
              "      <td>No</td>\n",
              "      <td>Mailed check</td>\n",
              "      <td>56.95</td>\n",
              "      <td>1889.5</td>\n",
              "      <td>No</td>\n",
              "    </tr>\n",
              "    <tr>\n",
              "      <th>2</th>\n",
              "      <td>3668-QPYBK</td>\n",
              "      <td>Male</td>\n",
              "      <td>0</td>\n",
              "      <td>No</td>\n",
              "      <td>No</td>\n",
              "      <td>2</td>\n",
              "      <td>Yes</td>\n",
              "      <td>No</td>\n",
              "      <td>DSL</td>\n",
              "      <td>Yes</td>\n",
              "      <td>Yes</td>\n",
              "      <td>No</td>\n",
              "      <td>No</td>\n",
              "      <td>No</td>\n",
              "      <td>No</td>\n",
              "      <td>Month-to-month</td>\n",
              "      <td>Yes</td>\n",
              "      <td>Mailed check</td>\n",
              "      <td>53.85</td>\n",
              "      <td>108.15</td>\n",
              "      <td>Yes</td>\n",
              "    </tr>\n",
              "    <tr>\n",
              "      <th>3</th>\n",
              "      <td>7795-CFOCW</td>\n",
              "      <td>Male</td>\n",
              "      <td>0</td>\n",
              "      <td>No</td>\n",
              "      <td>No</td>\n",
              "      <td>45</td>\n",
              "      <td>No</td>\n",
              "      <td>No phone service</td>\n",
              "      <td>DSL</td>\n",
              "      <td>Yes</td>\n",
              "      <td>No</td>\n",
              "      <td>Yes</td>\n",
              "      <td>Yes</td>\n",
              "      <td>No</td>\n",
              "      <td>No</td>\n",
              "      <td>One year</td>\n",
              "      <td>No</td>\n",
              "      <td>Bank transfer (automatic)</td>\n",
              "      <td>42.30</td>\n",
              "      <td>1840.75</td>\n",
              "      <td>No</td>\n",
              "    </tr>\n",
              "    <tr>\n",
              "      <th>4</th>\n",
              "      <td>9237-HQITU</td>\n",
              "      <td>Female</td>\n",
              "      <td>0</td>\n",
              "      <td>No</td>\n",
              "      <td>No</td>\n",
              "      <td>2</td>\n",
              "      <td>Yes</td>\n",
              "      <td>No</td>\n",
              "      <td>Fiber optic</td>\n",
              "      <td>No</td>\n",
              "      <td>No</td>\n",
              "      <td>No</td>\n",
              "      <td>No</td>\n",
              "      <td>No</td>\n",
              "      <td>No</td>\n",
              "      <td>Month-to-month</td>\n",
              "      <td>Yes</td>\n",
              "      <td>Electronic check</td>\n",
              "      <td>70.70</td>\n",
              "      <td>151.65</td>\n",
              "      <td>Yes</td>\n",
              "    </tr>\n",
              "    <tr>\n",
              "      <th>5</th>\n",
              "      <td>9305-CDSKC</td>\n",
              "      <td>Female</td>\n",
              "      <td>0</td>\n",
              "      <td>No</td>\n",
              "      <td>No</td>\n",
              "      <td>8</td>\n",
              "      <td>Yes</td>\n",
              "      <td>Yes</td>\n",
              "      <td>Fiber optic</td>\n",
              "      <td>No</td>\n",
              "      <td>No</td>\n",
              "      <td>Yes</td>\n",
              "      <td>No</td>\n",
              "      <td>Yes</td>\n",
              "      <td>Yes</td>\n",
              "      <td>Month-to-month</td>\n",
              "      <td>Yes</td>\n",
              "      <td>Electronic check</td>\n",
              "      <td>99.65</td>\n",
              "      <td>820.5</td>\n",
              "      <td>Yes</td>\n",
              "    </tr>\n",
              "    <tr>\n",
              "      <th>6</th>\n",
              "      <td>1452-KIOVK</td>\n",
              "      <td>Male</td>\n",
              "      <td>0</td>\n",
              "      <td>No</td>\n",
              "      <td>Yes</td>\n",
              "      <td>22</td>\n",
              "      <td>Yes</td>\n",
              "      <td>Yes</td>\n",
              "      <td>Fiber optic</td>\n",
              "      <td>No</td>\n",
              "      <td>Yes</td>\n",
              "      <td>No</td>\n",
              "      <td>No</td>\n",
              "      <td>Yes</td>\n",
              "      <td>No</td>\n",
              "      <td>Month-to-month</td>\n",
              "      <td>Yes</td>\n",
              "      <td>Credit card (automatic)</td>\n",
              "      <td>89.10</td>\n",
              "      <td>1949.4</td>\n",
              "      <td>No</td>\n",
              "    </tr>\n",
              "    <tr>\n",
              "      <th>7</th>\n",
              "      <td>6713-OKOMC</td>\n",
              "      <td>Female</td>\n",
              "      <td>0</td>\n",
              "      <td>No</td>\n",
              "      <td>No</td>\n",
              "      <td>10</td>\n",
              "      <td>No</td>\n",
              "      <td>No phone service</td>\n",
              "      <td>DSL</td>\n",
              "      <td>Yes</td>\n",
              "      <td>No</td>\n",
              "      <td>No</td>\n",
              "      <td>No</td>\n",
              "      <td>No</td>\n",
              "      <td>No</td>\n",
              "      <td>Month-to-month</td>\n",
              "      <td>No</td>\n",
              "      <td>Mailed check</td>\n",
              "      <td>29.75</td>\n",
              "      <td>301.9</td>\n",
              "      <td>No</td>\n",
              "    </tr>\n",
              "    <tr>\n",
              "      <th>8</th>\n",
              "      <td>7892-POOKP</td>\n",
              "      <td>Female</td>\n",
              "      <td>0</td>\n",
              "      <td>Yes</td>\n",
              "      <td>No</td>\n",
              "      <td>28</td>\n",
              "      <td>Yes</td>\n",
              "      <td>Yes</td>\n",
              "      <td>Fiber optic</td>\n",
              "      <td>No</td>\n",
              "      <td>No</td>\n",
              "      <td>Yes</td>\n",
              "      <td>Yes</td>\n",
              "      <td>Yes</td>\n",
              "      <td>Yes</td>\n",
              "      <td>Month-to-month</td>\n",
              "      <td>Yes</td>\n",
              "      <td>Electronic check</td>\n",
              "      <td>104.80</td>\n",
              "      <td>3046.05</td>\n",
              "      <td>Yes</td>\n",
              "    </tr>\n",
              "    <tr>\n",
              "      <th>9</th>\n",
              "      <td>6388-TABGU</td>\n",
              "      <td>Male</td>\n",
              "      <td>0</td>\n",
              "      <td>No</td>\n",
              "      <td>Yes</td>\n",
              "      <td>62</td>\n",
              "      <td>Yes</td>\n",
              "      <td>No</td>\n",
              "      <td>DSL</td>\n",
              "      <td>Yes</td>\n",
              "      <td>Yes</td>\n",
              "      <td>No</td>\n",
              "      <td>No</td>\n",
              "      <td>No</td>\n",
              "      <td>No</td>\n",
              "      <td>One year</td>\n",
              "      <td>No</td>\n",
              "      <td>Bank transfer (automatic)</td>\n",
              "      <td>56.15</td>\n",
              "      <td>3487.95</td>\n",
              "      <td>No</td>\n",
              "    </tr>\n",
              "  </tbody>\n",
              "</table>\n",
              "</div>"
            ],
            "text/plain": [
              "   customerID  gender  SeniorCitizen Partner Dependents  tenure PhoneService  \\\n",
              "0  7590-VHVEG  Female              0     Yes         No       1           No   \n",
              "1  5575-GNVDE    Male              0      No         No      34          Yes   \n",
              "2  3668-QPYBK    Male              0      No         No       2          Yes   \n",
              "3  7795-CFOCW    Male              0      No         No      45           No   \n",
              "4  9237-HQITU  Female              0      No         No       2          Yes   \n",
              "5  9305-CDSKC  Female              0      No         No       8          Yes   \n",
              "6  1452-KIOVK    Male              0      No        Yes      22          Yes   \n",
              "7  6713-OKOMC  Female              0      No         No      10           No   \n",
              "8  7892-POOKP  Female              0     Yes         No      28          Yes   \n",
              "9  6388-TABGU    Male              0      No        Yes      62          Yes   \n",
              "\n",
              "      MultipleLines InternetService OnlineSecurity OnlineBackup  \\\n",
              "0  No phone service             DSL             No          Yes   \n",
              "1                No             DSL            Yes           No   \n",
              "2                No             DSL            Yes          Yes   \n",
              "3  No phone service             DSL            Yes           No   \n",
              "4                No     Fiber optic             No           No   \n",
              "5               Yes     Fiber optic             No           No   \n",
              "6               Yes     Fiber optic             No          Yes   \n",
              "7  No phone service             DSL            Yes           No   \n",
              "8               Yes     Fiber optic             No           No   \n",
              "9                No             DSL            Yes          Yes   \n",
              "\n",
              "  DeviceProtection TechSupport StreamingTV StreamingMovies        Contract  \\\n",
              "0               No          No          No              No  Month-to-month   \n",
              "1              Yes          No          No              No        One year   \n",
              "2               No          No          No              No  Month-to-month   \n",
              "3              Yes         Yes          No              No        One year   \n",
              "4               No          No          No              No  Month-to-month   \n",
              "5              Yes          No         Yes             Yes  Month-to-month   \n",
              "6               No          No         Yes              No  Month-to-month   \n",
              "7               No          No          No              No  Month-to-month   \n",
              "8              Yes         Yes         Yes             Yes  Month-to-month   \n",
              "9               No          No          No              No        One year   \n",
              "\n",
              "  PaperlessBilling              PaymentMethod  MonthlyCharges TotalCharges  \\\n",
              "0              Yes           Electronic check           29.85        29.85   \n",
              "1               No               Mailed check           56.95       1889.5   \n",
              "2              Yes               Mailed check           53.85       108.15   \n",
              "3               No  Bank transfer (automatic)           42.30      1840.75   \n",
              "4              Yes           Electronic check           70.70       151.65   \n",
              "5              Yes           Electronic check           99.65        820.5   \n",
              "6              Yes    Credit card (automatic)           89.10       1949.4   \n",
              "7               No               Mailed check           29.75        301.9   \n",
              "8              Yes           Electronic check          104.80      3046.05   \n",
              "9               No  Bank transfer (automatic)           56.15      3487.95   \n",
              "\n",
              "  Churn  \n",
              "0    No  \n",
              "1    No  \n",
              "2   Yes  \n",
              "3    No  \n",
              "4   Yes  \n",
              "5   Yes  \n",
              "6    No  \n",
              "7    No  \n",
              "8   Yes  \n",
              "9    No  "
            ]
          },
          "metadata": {
            "tags": []
          }
        }
      ]
    },
    {
      "metadata": {
        "id": "j-kbCY8o82OV",
        "colab_type": "code",
        "colab": {}
      },
      "cell_type": "code",
      "source": [
        "# get the names of non-numeric columns\n",
        "non_num_columns = churn_data.select_dtypes(include=['object']).columns.tolist()"
      ],
      "execution_count": 0,
      "outputs": []
    },
    {
      "metadata": {
        "id": "x_y9UYkC24Qw",
        "colab_type": "code",
        "colab": {
          "base_uri": "https://localhost:8080/",
          "height": 34
        },
        "outputId": "5b7af772-6c34-4a6c-c8cb-239f43eb63ab"
      },
      "cell_type": "code",
      "source": [
        "churn_data.shape"
      ],
      "execution_count": 163,
      "outputs": [
        {
          "output_type": "execute_result",
          "data": {
            "text/plain": [
              "(7043, 21)"
            ]
          },
          "metadata": {
            "tags": []
          },
          "execution_count": 163
        }
      ]
    },
    {
      "metadata": {
        "id": "ZxxJFMIFwZCE",
        "colab_type": "code",
        "colab": {
          "base_uri": "https://localhost:8080/",
          "height": 84
        },
        "outputId": "67329d76-546d-43b0-97c2-afe38d75a926"
      },
      "cell_type": "code",
      "source": [
        "churn_data[\"Churn\"] = churn_data.Churn.apply(lambda x: 1 if x == \"Yes\" else 0)\n",
        "churn_data.MultipleLines.value_counts()"
      ],
      "execution_count": 164,
      "outputs": [
        {
          "output_type": "execute_result",
          "data": {
            "text/plain": [
              "No                  3390\n",
              "Yes                 2971\n",
              "No phone service     682\n",
              "Name: MultipleLines, dtype: int64"
            ]
          },
          "metadata": {
            "tags": []
          },
          "execution_count": 164
        }
      ]
    },
    {
      "metadata": {
        "id": "3E37XPQ01Lrg",
        "colab_type": "text"
      },
      "cell_type": "markdown",
      "source": [
        "# No crime, no time\n",
        "\n",
        "This is not time series data, so unless we account for customers who have reopened accounts who should assume time starts at 0 and continues for t = tenure"
      ]
    },
    {
      "metadata": {
        "id": "G3uOmW6X0sb1",
        "colab_type": "code",
        "colab": {
          "base_uri": "https://localhost:8080/",
          "height": 168
        },
        "outputId": "b4b902ca-b0c6-4ff9-ce0b-b49a2cd60f6f"
      },
      "cell_type": "code",
      "source": [
        "churn_data.tenure.describe()"
      ],
      "execution_count": 165,
      "outputs": [
        {
          "output_type": "execute_result",
          "data": {
            "text/plain": [
              "count    7043.000000\n",
              "mean       32.371149\n",
              "std        24.559481\n",
              "min         0.000000\n",
              "25%         9.000000\n",
              "50%        29.000000\n",
              "75%        55.000000\n",
              "max        72.000000\n",
              "Name: tenure, dtype: float64"
            ]
          },
          "metadata": {
            "tags": []
          },
          "execution_count": 165
        }
      ]
    },
    {
      "metadata": {
        "id": "OmRaxosoCiOi",
        "colab_type": "code",
        "colab": {
          "base_uri": "https://localhost:8080/",
          "height": 283
        },
        "outputId": "b45de769-0a13-4a01-fb7c-3f5ffeb90355"
      },
      "cell_type": "code",
      "source": [
        "churn_data_sample = churn_data.sample(n=50, random_state = 121194)\n",
        "\n",
        "time = churn_data_sample.tenure.values\n",
        "churn = churn_data_sample.Churn.values\n",
        "\n",
        "ax = lifelines.plotting.plot_lifetimes(time, event_observed=churn)\n",
        "ax.grid(axis='x')\n",
        "ax.set_xlabel('Time of customer tenure in months')\n",
        "ax.set_label('Lifeline for retention of customer')\n",
        "plt.plot();"
      ],
      "execution_count": 166,
      "outputs": [
        {
          "output_type": "display_data",
          "data": {
            "image/png": "[encoded data removed]",
            "text/plain": [
              "<Figure size 432x288 with 1 Axes>"
            ]
          },
          "metadata": {
            "tags": []
          }
        }
      ]
    },
    {
      "metadata": {
        "id": "U1uCANySe7Pl",
        "colab_type": "code",
        "colab": {
          "base_uri": "https://localhost:8080/",
          "height": 67
        },
        "outputId": "d137c8cd-f4e9-4ef8-f75e-0ba8ec8247a1"
      },
      "cell_type": "code",
      "source": [
        "kmf = KaplanMeierFitter()\n",
        "kmf.fit(churn_data['tenure'], event_observed=churn_data['Churn'])"
      ],
      "execution_count": 167,
      "outputs": [
        {
          "output_type": "stream",
          "text": [
            "0    0.5\n",
            "dtype: float64\n"
          ],
          "name": "stdout"
        },
        {
          "output_type": "execute_result",
          "data": {
            "text/plain": [
              "<lifelines.KaplanMeierFitter: fitted with 7043 observations, 5174 censored>"
            ]
          },
          "metadata": {
            "tags": []
          },
          "execution_count": 167
        }
      ]
    },
    {
      "metadata": {
        "id": "oFF7bXJQf5Fq",
        "colab_type": "code",
        "colab": {
          "base_uri": "https://localhost:8080/",
          "height": 300
        },
        "outputId": "85a09253-8284-4606-a5d5-05bef5ed7307"
      },
      "cell_type": "code",
      "source": [
        "kmf.plot()"
      ],
      "execution_count": 168,
      "outputs": [
        {
          "output_type": "execute_result",
          "data": {
            "text/plain": [
              "<matplotlib.axes._subplots.AxesSubplot at 0x7fe9bd1c58d0>"
            ]
          },
          "metadata": {
            "tags": []
          },
          "execution_count": 168
        },
        {
          "output_type": "display_data",
          "data": {
            "image/png": "[encoded data removed]",
            "text/plain": [
              "<Figure size 432x288 with 1 Axes>"
            ]
          },
          "metadata": {
            "tags": []
          }
        }
      ]
    },
    {
      "metadata": {
        "id": "asUowVS1qr7P",
        "colab_type": "code",
        "colab": {
          "base_uri": "https://localhost:8080/",
          "height": 413
        },
        "outputId": "75b14827-6070-4469-f1ac-212ae7c8b8cd"
      },
      "cell_type": "code",
      "source": [
        "ax = plt.subplot(111)\n",
        "\n",
        "for name, grouped_df in churn_data.groupby('InternetService'):\n",
        "    kmf.fit(grouped_df[\"tenure\"], grouped_df[\"Churn\"], label=name)\n",
        "    kmf.plot(ax=ax)\n",
        "    \n",
        "ax.set_title('KMF of Customer Tenure by Internet Subscription')\n",
        "ax.set_xlabel('Months')"
      ],
      "execution_count": 169,
      "outputs": [
        {
          "output_type": "stream",
          "text": [
            "0    0.5\n",
            "dtype: float64\n",
            "0    0.5\n",
            "dtype: float64\n",
            "0    0.5\n",
            "dtype: float64\n"
          ],
          "name": "stdout"
        },
        {
          "output_type": "execute_result",
          "data": {
            "text/plain": [
              "Text(0.5, 0, 'Months')"
            ]
          },
          "metadata": {
            "tags": []
          },
          "execution_count": 169
        },
        {
          "output_type": "display_data",
          "data": {
            "image/png": "[encoded data removed]",
            "text/plain": [
              "<Figure size 432x288 with 1 Axes>"
            ]
          },
          "metadata": {
            "tags": []
          }
        }
      ]
    },
    {
      "metadata": {
        "id": "jg1oeqjf1MSx",
        "colab_type": "code",
        "colab": {}
      },
      "cell_type": "code",
      "source": [
        "churn_data = churn_data.dropna()"
      ],
      "execution_count": 0,
      "outputs": []
    },
    {
      "metadata": {
        "id": "gI4BulTa4I3m",
        "colab_type": "code",
        "colab": {}
      },
      "cell_type": "code",
      "source": [
        "churn_data = churn_data.replace([np.inf, -np.inf], np.nan)"
      ],
      "execution_count": 0,
      "outputs": []
    },
    {
      "metadata": {
        "id": "YlIbXKYk4QBV",
        "colab_type": "code",
        "colab": {}
      },
      "cell_type": "code",
      "source": [
        "churn_data = churn_data.dropna()"
      ],
      "execution_count": 0,
      "outputs": []
    },
    {
      "metadata": {
        "id": "02MaO7wE1pYA",
        "colab_type": "code",
        "colab": {
          "base_uri": "https://localhost:8080/",
          "height": 34
        },
        "outputId": "d98ba283-5371-42d2-f40f-ca612bb29030"
      },
      "cell_type": "code",
      "source": [
        "churn_data.shape"
      ],
      "execution_count": 174,
      "outputs": [
        {
          "output_type": "execute_result",
          "data": {
            "text/plain": [
              "(7043, 21)"
            ]
          },
          "metadata": {
            "tags": []
          },
          "execution_count": 174
        }
      ]
    },
    {
      "metadata": {
        "id": "OLxMf2v-ro4W",
        "colab_type": "code",
        "colab": {
          "base_uri": "https://localhost:8080/",
          "height": 244
        },
        "outputId": "35d2adce-ecb2-41ec-cc80-627afa8ebefe"
      },
      "cell_type": "code",
      "source": [
        "#encodes non_numeric_columns\n",
        "churn_data[non_num_columns] = churn_data[non_num_columns].apply(LabelEncoder().fit_transform)\n",
        "churn_data.head(5)"
      ],
      "execution_count": 176,
      "outputs": [
        {
          "output_type": "execute_result",
          "data": {
            "text/html": [
              "<div>\n",
              "<style scoped>\n",
              "    .dataframe tbody tr th:only-of-type {\n",
              "        vertical-align: middle;\n",
              "    }\n",
              "\n",
              "    .dataframe tbody tr th {\n",
              "        vertical-align: top;\n",
              "    }\n",
              "\n",
              "    .dataframe thead th {\n",
              "        text-align: right;\n",
              "    }\n",
              "</style>\n",
              "<table border=\"1\" class=\"dataframe\">\n",
              "  <thead>\n",
              "    <tr style=\"text-align: right;\">\n",
              "      <th></th>\n",
              "      <th>customerID</th>\n",
              "      <th>gender</th>\n",
              "      <th>SeniorCitizen</th>\n",
              "      <th>Partner</th>\n",
              "      <th>Dependents</th>\n",
              "      <th>tenure</th>\n",
              "      <th>PhoneService</th>\n",
              "      <th>MultipleLines</th>\n",
              "      <th>InternetService</th>\n",
              "      <th>OnlineSecurity</th>\n",
              "      <th>...</th>\n",
              "      <th>DeviceProtection</th>\n",
              "      <th>TechSupport</th>\n",
              "      <th>StreamingTV</th>\n",
              "      <th>StreamingMovies</th>\n",
              "      <th>Contract</th>\n",
              "      <th>PaperlessBilling</th>\n",
              "      <th>PaymentMethod</th>\n",
              "      <th>MonthlyCharges</th>\n",
              "      <th>TotalCharges</th>\n",
              "      <th>Churn</th>\n",
              "    </tr>\n",
              "  </thead>\n",
              "  <tbody>\n",
              "    <tr>\n",
              "      <th>0</th>\n",
              "      <td>5375</td>\n",
              "      <td>0</td>\n",
              "      <td>0</td>\n",
              "      <td>1</td>\n",
              "      <td>0</td>\n",
              "      <td>1</td>\n",
              "      <td>0</td>\n",
              "      <td>1</td>\n",
              "      <td>0</td>\n",
              "      <td>0</td>\n",
              "      <td>...</td>\n",
              "      <td>0</td>\n",
              "      <td>0</td>\n",
              "      <td>0</td>\n",
              "      <td>0</td>\n",
              "      <td>0</td>\n",
              "      <td>1</td>\n",
              "      <td>2</td>\n",
              "      <td>29.85</td>\n",
              "      <td>2505</td>\n",
              "      <td>0</td>\n",
              "    </tr>\n",
              "    <tr>\n",
              "      <th>1</th>\n",
              "      <td>3962</td>\n",
              "      <td>1</td>\n",
              "      <td>0</td>\n",
              "      <td>0</td>\n",
              "      <td>0</td>\n",
              "      <td>34</td>\n",
              "      <td>1</td>\n",
              "      <td>0</td>\n",
              "      <td>0</td>\n",
              "      <td>2</td>\n",
              "      <td>...</td>\n",
              "      <td>2</td>\n",
              "      <td>0</td>\n",
              "      <td>0</td>\n",
              "      <td>0</td>\n",
              "      <td>1</td>\n",
              "      <td>0</td>\n",
              "      <td>3</td>\n",
              "      <td>56.95</td>\n",
              "      <td>1466</td>\n",
              "      <td>0</td>\n",
              "    </tr>\n",
              "    <tr>\n",
              "      <th>2</th>\n",
              "      <td>2564</td>\n",
              "      <td>1</td>\n",
              "      <td>0</td>\n",
              "      <td>0</td>\n",
              "      <td>0</td>\n",
              "      <td>2</td>\n",
              "      <td>1</td>\n",
              "      <td>0</td>\n",
              "      <td>0</td>\n",
              "      <td>2</td>\n",
              "      <td>...</td>\n",
              "      <td>0</td>\n",
              "      <td>0</td>\n",
              "      <td>0</td>\n",
              "      <td>0</td>\n",
              "      <td>0</td>\n",
              "      <td>1</td>\n",
              "      <td>3</td>\n",
              "      <td>53.85</td>\n",
              "      <td>157</td>\n",
              "      <td>1</td>\n",
              "    </tr>\n",
              "    <tr>\n",
              "      <th>3</th>\n",
              "      <td>5535</td>\n",
              "      <td>1</td>\n",
              "      <td>0</td>\n",
              "      <td>0</td>\n",
              "      <td>0</td>\n",
              "      <td>45</td>\n",
              "      <td>0</td>\n",
              "      <td>1</td>\n",
              "      <td>0</td>\n",
              "      <td>2</td>\n",
              "      <td>...</td>\n",
              "      <td>2</td>\n",
              "      <td>2</td>\n",
              "      <td>0</td>\n",
              "      <td>0</td>\n",
              "      <td>1</td>\n",
              "      <td>0</td>\n",
              "      <td>0</td>\n",
              "      <td>42.30</td>\n",
              "      <td>1400</td>\n",
              "      <td>0</td>\n",
              "    </tr>\n",
              "    <tr>\n",
              "      <th>4</th>\n",
              "      <td>6511</td>\n",
              "      <td>0</td>\n",
              "      <td>0</td>\n",
              "      <td>0</td>\n",
              "      <td>0</td>\n",
              "      <td>2</td>\n",
              "      <td>1</td>\n",
              "      <td>0</td>\n",
              "      <td>1</td>\n",
              "      <td>0</td>\n",
              "      <td>...</td>\n",
              "      <td>0</td>\n",
              "      <td>0</td>\n",
              "      <td>0</td>\n",
              "      <td>0</td>\n",
              "      <td>0</td>\n",
              "      <td>1</td>\n",
              "      <td>2</td>\n",
              "      <td>70.70</td>\n",
              "      <td>925</td>\n",
              "      <td>1</td>\n",
              "    </tr>\n",
              "  </tbody>\n",
              "</table>\n",
              "<p>5 rows × 21 columns</p>\n",
              "</div>"
            ],
            "text/plain": [
              "   customerID  gender  SeniorCitizen  Partner  Dependents  tenure  \\\n",
              "0        5375       0              0        1           0       1   \n",
              "1        3962       1              0        0           0      34   \n",
              "2        2564       1              0        0           0       2   \n",
              "3        5535       1              0        0           0      45   \n",
              "4        6511       0              0        0           0       2   \n",
              "\n",
              "   PhoneService  MultipleLines  InternetService  OnlineSecurity  ...    \\\n",
              "0             0              1                0               0  ...     \n",
              "1             1              0                0               2  ...     \n",
              "2             1              0                0               2  ...     \n",
              "3             0              1                0               2  ...     \n",
              "4             1              0                1               0  ...     \n",
              "\n",
              "   DeviceProtection  TechSupport  StreamingTV  StreamingMovies  Contract  \\\n",
              "0                 0            0            0                0         0   \n",
              "1                 2            0            0                0         1   \n",
              "2                 0            0            0                0         0   \n",
              "3                 2            2            0                0         1   \n",
              "4                 0            0            0                0         0   \n",
              "\n",
              "   PaperlessBilling  PaymentMethod  MonthlyCharges  TotalCharges  Churn  \n",
              "0                 1              2           29.85          2505      0  \n",
              "1                 0              3           56.95          1466      0  \n",
              "2                 1              3           53.85           157      1  \n",
              "3                 0              0           42.30          1400      0  \n",
              "4                 1              2           70.70           925      1  \n",
              "\n",
              "[5 rows x 21 columns]"
            ]
          },
          "metadata": {
            "tags": []
          },
          "execution_count": 176
        }
      ]
    },
    {
      "metadata": {
        "id": "cVxDLCGu4gO9",
        "colab_type": "code",
        "colab": {}
      },
      "cell_type": "code",
      "source": [
        "churn_data = churn_data.drop(['customerID', 'PhoneService'], axis=1)"
      ],
      "execution_count": 0,
      "outputs": []
    },
    {
      "metadata": {
        "id": "5CXpAx_NzigW",
        "colab_type": "code",
        "colab": {
          "base_uri": "https://localhost:8080/",
          "height": 672
        },
        "outputId": "7f18d073-564a-4783-f41a-53562e4f135f"
      },
      "cell_type": "code",
      "source": [
        "cph = CoxPHFitter()\n",
        "cph.fit(churn_data, 'tenure', event_col='Churn', show_progress=True)\n",
        "cph.print_summary()"
      ],
      "execution_count": 178,
      "outputs": [
        {
          "output_type": "stream",
          "text": [
            "Iteration 1: norm_delta = 0.91040, step_size = 0.95000, ll = -15653.03964, newton_decrement = 1481.47228, seconds_since_start = 0.0\n",
            "Iteration 2: norm_delta = 0.55622, step_size = 0.95000, ll = -14084.17344, newton_decrement = 147.16003, seconds_since_start = 0.0\n",
            "Iteration 3: norm_delta = 0.22409, step_size = 0.95000, ll = -13919.09138, newton_decrement = 15.30850, seconds_since_start = 0.1\n",
            "Iteration 4: norm_delta = 0.04641, step_size = 0.95000, ll = -13902.75204, newton_decrement = 0.49659, seconds_since_start = 0.1\n",
            "Iteration 5: norm_delta = 0.00367, step_size = 0.95000, ll = -13902.24888, newton_decrement = 0.00293, seconds_since_start = 0.1\n",
            "Iteration 6: norm_delta = 0.00019, step_size = 0.95000, ll = -13902.24596, newton_decrement = 0.00001, seconds_since_start = 0.1\n",
            "Convergence completed after 6 iterations.\n",
            "<lifelines.CoxPHFitter: fitted with 7043 observations, 5174 censored>\n",
            "      duration col = 'tenure'\n",
            "         event col = 'Churn'\n",
            "number of subjects = 7043\n",
            "  number of events = 1869\n",
            "    log-likelihood = -13902.25\n",
            "  time fit was run = 2019-01-23 23:05:01 UTC\n",
            "\n",
            "---\n",
            "                  coef  exp(coef)  se(coef)      z      p  log(p)  lower 0.95  upper 0.95     \n",
            "gender           -0.09       0.91      0.05  -1.98   0.05   -3.05       -0.18       -0.00    .\n",
            "SeniorCitizen    -0.05       0.95      0.06  -0.87   0.38   -0.96       -0.16        0.06     \n",
            "Partner          -0.50       0.61      0.05  -9.08 <0.005  -43.65       -0.61       -0.39  ***\n",
            "Dependents       -0.09       0.92      0.07  -1.30   0.19   -1.64       -0.22        0.05     \n",
            "MultipleLines    -0.23       0.79      0.03  -8.55 <0.005  -38.94       -0.29       -0.18  ***\n",
            "InternetService   0.11       1.12      0.05   2.40   0.02   -4.11        0.02        0.20    .\n",
            "OnlineSecurity   -0.37       0.69      0.03 -11.24 <0.005  -65.79       -0.43       -0.30  ***\n",
            "OnlineBackup     -0.35       0.71      0.03 -12.59 <0.005  -82.07       -0.40       -0.29  ***\n",
            "DeviceProtection -0.19       0.83      0.03  -6.92 <0.005  -26.10       -0.24       -0.14  ***\n",
            "TechSupport      -0.24       0.79      0.03  -7.34 <0.005  -29.14       -0.30       -0.17  ***\n",
            "StreamingTV      -0.04       0.96      0.03  -1.36   0.17   -1.75       -0.09        0.02     \n",
            "StreamingMovies  -0.08       0.92      0.03  -2.94 <0.005   -5.72       -0.14       -0.03    *\n",
            "Contract         -1.66       0.19      0.07 -25.45 <0.005 -327.31       -1.79       -1.53  ***\n",
            "PaperlessBilling  0.21       1.23      0.06   3.70 <0.005   -8.42        0.10        0.32   **\n",
            "PaymentMethod     0.25       1.29      0.03   9.62 <0.005  -48.77        0.20        0.31  ***\n",
            "MonthlyCharges    0.01       1.01      0.00   4.98 <0.005  -14.26        0.00        0.01  ***\n",
            "TotalCharges      0.00       1.00      0.00   4.04 <0.005   -9.85        0.00        0.00  ***\n",
            "---\n",
            "Signif. codes: 0 '***' 0.0001 '**' 0.001 '*' 0.01 '.' 0.05 ' ' 1\n",
            "\n",
            "Concordance = 0.87\n",
            "Likelihood ratio test = 3501.59 on 17 df, log(p)=-inf\n"
          ],
          "name": "stdout"
        }
      ]
    },
    {
      "metadata": {
        "id": "VsliHHKx6bx1",
        "colab_type": "code",
        "colab": {
          "base_uri": "https://localhost:8080/",
          "height": 300
        },
        "outputId": "7365ae0b-a957-4f67-d863-ccb7c31cc15d"
      },
      "cell_type": "code",
      "source": [
        "cph.plot()"
      ],
      "execution_count": 179,
      "outputs": [
        {
          "output_type": "execute_result",
          "data": {
            "text/plain": [
              "<matplotlib.axes._subplots.AxesSubplot at 0x7fe9bcfca1d0>"
            ]
          },
          "metadata": {
            "tags": []
          },
          "execution_count": 179
        },
        {
          "output_type": "display_data",
          "data": {
            "image/png": "[encoded data removed]",
            "text/plain": [
              "<Figure size 432x288 with 1 Axes>"
            ]
          },
          "metadata": {
            "tags": []
          }
        }
      ]
    },
    {
      "metadata": {
        "id": "5CvrbwWj7KMs",
        "colab_type": "code",
        "colab": {
          "base_uri": "https://localhost:8080/",
          "height": 185
        },
        "outputId": "02189d91-72e4-4a23-f0e6-420ce0ea7265"
      },
      "cell_type": "code",
      "source": [
        "X = churn_data.drop(['Churn'], axis=1)\n",
        "cph.predict_survival_function(X, times=[5., 25., 50.])"
      ],
      "execution_count": 180,
      "outputs": [
        {
          "output_type": "execute_result",
          "data": {
            "text/html": [
              "<div>\n",
              "<style scoped>\n",
              "    .dataframe tbody tr th:only-of-type {\n",
              "        vertical-align: middle;\n",
              "    }\n",
              "\n",
              "    .dataframe tbody tr th {\n",
              "        vertical-align: top;\n",
              "    }\n",
              "\n",
              "    .dataframe thead th {\n",
              "        text-align: right;\n",
              "    }\n",
              "</style>\n",
              "<table border=\"1\" class=\"dataframe\">\n",
              "  <thead>\n",
              "    <tr style=\"text-align: right;\">\n",
              "      <th></th>\n",
              "      <th>0</th>\n",
              "      <th>1</th>\n",
              "      <th>2</th>\n",
              "      <th>3</th>\n",
              "      <th>4</th>\n",
              "      <th>5</th>\n",
              "      <th>6</th>\n",
              "      <th>7</th>\n",
              "      <th>8</th>\n",
              "      <th>9</th>\n",
              "      <th>...</th>\n",
              "      <th>7033</th>\n",
              "      <th>7034</th>\n",
              "      <th>7035</th>\n",
              "      <th>7036</th>\n",
              "      <th>7037</th>\n",
              "      <th>7038</th>\n",
              "      <th>7039</th>\n",
              "      <th>7040</th>\n",
              "      <th>7041</th>\n",
              "      <th>7042</th>\n",
              "    </tr>\n",
              "  </thead>\n",
              "  <tbody>\n",
              "    <tr>\n",
              "      <th>5.0</th>\n",
              "      <td>0.894876</td>\n",
              "      <td>0.969775</td>\n",
              "      <td>0.875613</td>\n",
              "      <td>0.993627</td>\n",
              "      <td>0.544410</td>\n",
              "      <td>0.720046</td>\n",
              "      <td>0.875099</td>\n",
              "      <td>0.831646</td>\n",
              "      <td>0.899742</td>\n",
              "      <td>0.989662</td>\n",
              "      <td>...</td>\n",
              "      <td>0.631382</td>\n",
              "      <td>0.931453</td>\n",
              "      <td>0.723368</td>\n",
              "      <td>0.986421</td>\n",
              "      <td>0.996987</td>\n",
              "      <td>0.992298</td>\n",
              "      <td>0.986621</td>\n",
              "      <td>0.904977</td>\n",
              "      <td>0.745706</td>\n",
              "      <td>0.996929</td>\n",
              "    </tr>\n",
              "    <tr>\n",
              "      <th>25.0</th>\n",
              "      <td>0.720322</td>\n",
              "      <td>0.913336</td>\n",
              "      <td>0.675482</td>\n",
              "      <td>0.981295</td>\n",
              "      <td>0.165971</td>\n",
              "      <td>0.379053</td>\n",
              "      <td>0.674311</td>\n",
              "      <td>0.580137</td>\n",
              "      <td>0.731952</td>\n",
              "      <td>0.969772</td>\n",
              "      <td>...</td>\n",
              "      <td>0.257124</td>\n",
              "      <td>0.810801</td>\n",
              "      <td>0.384240</td>\n",
              "      <td>0.960422</td>\n",
              "      <td>0.991128</td>\n",
              "      <td>0.977422</td>\n",
              "      <td>0.960998</td>\n",
              "      <td>0.744603</td>\n",
              "      <td>0.420354</td>\n",
              "      <td>0.990956</td>\n",
              "    </tr>\n",
              "    <tr>\n",
              "      <th>50.0</th>\n",
              "      <td>0.485235</td>\n",
              "      <td>0.818879</td>\n",
              "      <td>0.421137</td>\n",
              "      <td>0.959233</td>\n",
              "      <td>0.019087</td>\n",
              "      <td>0.117854</td>\n",
              "      <td>0.419530</td>\n",
              "      <td>0.301134</td>\n",
              "      <td>0.502671</td>\n",
              "      <td>0.934580</td>\n",
              "      <td>...</td>\n",
              "      <td>0.050096</td>\n",
              "      <td>0.629830</td>\n",
              "      <td>0.121439</td>\n",
              "      <td>0.914834</td>\n",
              "      <td>0.980548</td>\n",
              "      <td>0.950908</td>\n",
              "      <td>0.916042</td>\n",
              "      <td>0.522022</td>\n",
              "      <td>0.148030</td>\n",
              "      <td>0.980172</td>\n",
              "    </tr>\n",
              "  </tbody>\n",
              "</table>\n",
              "<p>3 rows × 7043 columns</p>\n",
              "</div>"
            ],
            "text/plain": [
              "          0         1         2         3         4         5         6     \\\n",
              "5.0   0.894876  0.969775  0.875613  0.993627  0.544410  0.720046  0.875099   \n",
              "25.0  0.720322  0.913336  0.675482  0.981295  0.165971  0.379053  0.674311   \n",
              "50.0  0.485235  0.818879  0.421137  0.959233  0.019087  0.117854  0.419530   \n",
              "\n",
              "          7         8         9       ...         7033      7034      7035  \\\n",
              "5.0   0.831646  0.899742  0.989662    ...     0.631382  0.931453  0.723368   \n",
              "25.0  0.580137  0.731952  0.969772    ...     0.257124  0.810801  0.384240   \n",
              "50.0  0.301134  0.502671  0.934580    ...     0.050096  0.629830  0.121439   \n",
              "\n",
              "          7036      7037      7038      7039      7040      7041      7042  \n",
              "5.0   0.986421  0.996987  0.992298  0.986621  0.904977  0.745706  0.996929  \n",
              "25.0  0.960422  0.991128  0.977422  0.960998  0.744603  0.420354  0.990956  \n",
              "50.0  0.914834  0.980548  0.950908  0.916042  0.522022  0.148030  0.980172  \n",
              "\n",
              "[3 rows x 7043 columns]"
            ]
          },
          "metadata": {
            "tags": []
          },
          "execution_count": 180
        }
      ]
    },
    {
      "metadata": {
        "id": "SmsIgkIP7frw",
        "colab_type": "code",
        "colab": {
          "base_uri": "https://localhost:8080/",
          "height": 1882
        },
        "outputId": "0a7c3191-2b97-4b83-a5a9-8ffd74334b6b"
      },
      "cell_type": "code",
      "source": [
        "cph.predict_partial_hazard(X)"
      ],
      "execution_count": 181,
      "outputs": [
        {
          "output_type": "execute_result",
          "data": {
            "text/html": [
              "<div>\n",
              "<style scoped>\n",
              "    .dataframe tbody tr th:only-of-type {\n",
              "        vertical-align: middle;\n",
              "    }\n",
              "\n",
              "    .dataframe tbody tr th {\n",
              "        vertical-align: top;\n",
              "    }\n",
              "\n",
              "    .dataframe thead th {\n",
              "        text-align: right;\n",
              "    }\n",
              "</style>\n",
              "<table border=\"1\" class=\"dataframe\">\n",
              "  <thead>\n",
              "    <tr style=\"text-align: right;\">\n",
              "      <th></th>\n",
              "      <th>0</th>\n",
              "    </tr>\n",
              "  </thead>\n",
              "  <tbody>\n",
              "    <tr>\n",
              "      <th>0</th>\n",
              "      <td>3.275359</td>\n",
              "    </tr>\n",
              "    <tr>\n",
              "      <th>1</th>\n",
              "      <td>0.905071</td>\n",
              "    </tr>\n",
              "    <tr>\n",
              "      <th>2</th>\n",
              "      <td>3.917064</td>\n",
              "    </tr>\n",
              "    <tr>\n",
              "      <th>3</th>\n",
              "      <td>0.188521</td>\n",
              "    </tr>\n",
              "    <tr>\n",
              "      <th>4</th>\n",
              "      <td>17.930924</td>\n",
              "    </tr>\n",
              "    <tr>\n",
              "      <th>5</th>\n",
              "      <td>9.685399</td>\n",
              "    </tr>\n",
              "    <tr>\n",
              "      <th>6</th>\n",
              "      <td>3.934382</td>\n",
              "    </tr>\n",
              "    <tr>\n",
              "      <th>7</th>\n",
              "      <td>5.436263</td>\n",
              "    </tr>\n",
              "    <tr>\n",
              "      <th>8</th>\n",
              "      <td>3.115454</td>\n",
              "    </tr>\n",
              "    <tr>\n",
              "      <th>9</th>\n",
              "      <td>0.306455</td>\n",
              "    </tr>\n",
              "    <tr>\n",
              "      <th>10</th>\n",
              "      <td>5.502976</td>\n",
              "    </tr>\n",
              "    <tr>\n",
              "      <th>11</th>\n",
              "      <td>0.094127</td>\n",
              "    </tr>\n",
              "    <tr>\n",
              "      <th>12</th>\n",
              "      <td>0.596066</td>\n",
              "    </tr>\n",
              "    <tr>\n",
              "      <th>13</th>\n",
              "      <td>2.460935</td>\n",
              "    </tr>\n",
              "    <tr>\n",
              "      <th>14</th>\n",
              "      <td>3.522140</td>\n",
              "    </tr>\n",
              "    <tr>\n",
              "      <th>15</th>\n",
              "      <td>0.019748</td>\n",
              "    </tr>\n",
              "    <tr>\n",
              "      <th>16</th>\n",
              "      <td>0.782380</td>\n",
              "    </tr>\n",
              "    <tr>\n",
              "      <th>17</th>\n",
              "      <td>0.069815</td>\n",
              "    </tr>\n",
              "    <tr>\n",
              "      <th>18</th>\n",
              "      <td>2.634130</td>\n",
              "    </tr>\n",
              "    <tr>\n",
              "      <th>19</th>\n",
              "      <td>6.045413</td>\n",
              "    </tr>\n",
              "    <tr>\n",
              "      <th>20</th>\n",
              "      <td>6.028363</td>\n",
              "    </tr>\n",
              "    <tr>\n",
              "      <th>21</th>\n",
              "      <td>0.219526</td>\n",
              "    </tr>\n",
              "    <tr>\n",
              "      <th>22</th>\n",
              "      <td>4.084850</td>\n",
              "    </tr>\n",
              "    <tr>\n",
              "      <th>23</th>\n",
              "      <td>0.056233</td>\n",
              "    </tr>\n",
              "    <tr>\n",
              "      <th>24</th>\n",
              "      <td>0.782992</td>\n",
              "    </tr>\n",
              "    <tr>\n",
              "      <th>25</th>\n",
              "      <td>2.109076</td>\n",
              "    </tr>\n",
              "    <tr>\n",
              "      <th>26</th>\n",
              "      <td>3.198356</td>\n",
              "    </tr>\n",
              "    <tr>\n",
              "      <th>27</th>\n",
              "      <td>2.236339</td>\n",
              "    </tr>\n",
              "    <tr>\n",
              "      <th>28</th>\n",
              "      <td>0.017954</td>\n",
              "    </tr>\n",
              "    <tr>\n",
              "      <th>29</th>\n",
              "      <td>13.758607</td>\n",
              "    </tr>\n",
              "    <tr>\n",
              "      <th>...</th>\n",
              "      <td>...</td>\n",
              "    </tr>\n",
              "    <tr>\n",
              "      <th>7013</th>\n",
              "      <td>2.817306</td>\n",
              "    </tr>\n",
              "    <tr>\n",
              "      <th>7014</th>\n",
              "      <td>6.068618</td>\n",
              "    </tr>\n",
              "    <tr>\n",
              "      <th>7015</th>\n",
              "      <td>5.547047</td>\n",
              "    </tr>\n",
              "    <tr>\n",
              "      <th>7016</th>\n",
              "      <td>6.868582</td>\n",
              "    </tr>\n",
              "    <tr>\n",
              "      <th>7017</th>\n",
              "      <td>0.069163</td>\n",
              "    </tr>\n",
              "    <tr>\n",
              "      <th>7018</th>\n",
              "      <td>15.153586</td>\n",
              "    </tr>\n",
              "    <tr>\n",
              "      <th>7019</th>\n",
              "      <td>0.207869</td>\n",
              "    </tr>\n",
              "    <tr>\n",
              "      <th>7020</th>\n",
              "      <td>2.204965</td>\n",
              "    </tr>\n",
              "    <tr>\n",
              "      <th>7021</th>\n",
              "      <td>1.948439</td>\n",
              "    </tr>\n",
              "    <tr>\n",
              "      <th>7022</th>\n",
              "      <td>0.854736</td>\n",
              "    </tr>\n",
              "    <tr>\n",
              "      <th>7023</th>\n",
              "      <td>2.733598</td>\n",
              "    </tr>\n",
              "    <tr>\n",
              "      <th>7024</th>\n",
              "      <td>1.963128</td>\n",
              "    </tr>\n",
              "    <tr>\n",
              "      <th>7025</th>\n",
              "      <td>2.878907</td>\n",
              "    </tr>\n",
              "    <tr>\n",
              "      <th>7026</th>\n",
              "      <td>9.403351</td>\n",
              "    </tr>\n",
              "    <tr>\n",
              "      <th>7027</th>\n",
              "      <td>5.177931</td>\n",
              "    </tr>\n",
              "    <tr>\n",
              "      <th>7028</th>\n",
              "      <td>0.055473</td>\n",
              "    </tr>\n",
              "    <tr>\n",
              "      <th>7029</th>\n",
              "      <td>8.693069</td>\n",
              "    </tr>\n",
              "    <tr>\n",
              "      <th>7030</th>\n",
              "      <td>6.068034</td>\n",
              "    </tr>\n",
              "    <tr>\n",
              "      <th>7031</th>\n",
              "      <td>0.159704</td>\n",
              "    </tr>\n",
              "    <tr>\n",
              "      <th>7032</th>\n",
              "      <td>13.240979</td>\n",
              "    </tr>\n",
              "    <tr>\n",
              "      <th>7033</th>\n",
              "      <td>13.560416</td>\n",
              "    </tr>\n",
              "    <tr>\n",
              "      <th>7034</th>\n",
              "      <td>2.093998</td>\n",
              "    </tr>\n",
              "    <tr>\n",
              "      <th>7035</th>\n",
              "      <td>9.549684</td>\n",
              "    </tr>\n",
              "    <tr>\n",
              "      <th>7036</th>\n",
              "      <td>0.403180</td>\n",
              "    </tr>\n",
              "    <tr>\n",
              "      <th>7037</th>\n",
              "      <td>0.088978</td>\n",
              "    </tr>\n",
              "    <tr>\n",
              "      <th>7038</th>\n",
              "      <td>0.228004</td>\n",
              "    </tr>\n",
              "    <tr>\n",
              "      <th>7039</th>\n",
              "      <td>0.397202</td>\n",
              "    </tr>\n",
              "    <tr>\n",
              "      <th>7040</th>\n",
              "      <td>2.944363</td>\n",
              "    </tr>\n",
              "    <tr>\n",
              "      <th>7041</th>\n",
              "      <td>8.652828</td>\n",
              "    </tr>\n",
              "    <tr>\n",
              "      <th>7042</th>\n",
              "      <td>0.090711</td>\n",
              "    </tr>\n",
              "  </tbody>\n",
              "</table>\n",
              "<p>7043 rows × 1 columns</p>\n",
              "</div>"
            ],
            "text/plain": [
              "              0\n",
              "0      3.275359\n",
              "1      0.905071\n",
              "2      3.917064\n",
              "3      0.188521\n",
              "4     17.930924\n",
              "5      9.685399\n",
              "6      3.934382\n",
              "7      5.436263\n",
              "8      3.115454\n",
              "9      0.306455\n",
              "10     5.502976\n",
              "11     0.094127\n",
              "12     0.596066\n",
              "13     2.460935\n",
              "14     3.522140\n",
              "15     0.019748\n",
              "16     0.782380\n",
              "17     0.069815\n",
              "18     2.634130\n",
              "19     6.045413\n",
              "20     6.028363\n",
              "21     0.219526\n",
              "22     4.084850\n",
              "23     0.056233\n",
              "24     0.782992\n",
              "25     2.109076\n",
              "26     3.198356\n",
              "27     2.236339\n",
              "28     0.017954\n",
              "29    13.758607\n",
              "...         ...\n",
              "7013   2.817306\n",
              "7014   6.068618\n",
              "7015   5.547047\n",
              "7016   6.868582\n",
              "7017   0.069163\n",
              "7018  15.153586\n",
              "7019   0.207869\n",
              "7020   2.204965\n",
              "7021   1.948439\n",
              "7022   0.854736\n",
              "7023   2.733598\n",
              "7024   1.963128\n",
              "7025   2.878907\n",
              "7026   9.403351\n",
              "7027   5.177931\n",
              "7028   0.055473\n",
              "7029   8.693069\n",
              "7030   6.068034\n",
              "7031   0.159704\n",
              "7032  13.240979\n",
              "7033  13.560416\n",
              "7034   2.093998\n",
              "7035   9.549684\n",
              "7036   0.403180\n",
              "7037   0.088978\n",
              "7038   0.228004\n",
              "7039   0.397202\n",
              "7040   2.944363\n",
              "7041   8.652828\n",
              "7042   0.090711\n",
              "\n",
              "[7043 rows x 1 columns]"
            ]
          },
          "metadata": {
            "tags": []
          },
          "execution_count": 181
        }
      ]
    },
    {
      "metadata": {
        "id": "E9m1rrtc9rL-",
        "colab_type": "code",
        "colab": {
          "base_uri": "https://localhost:8080/",
          "height": 34
        },
        "outputId": "61d80712-60d1-45c7-b891-8b10ee7663a0"
      },
      "cell_type": "code",
      "source": [
        "churn_data.MultipleLines.unique()"
      ],
      "execution_count": 183,
      "outputs": [
        {
          "output_type": "execute_result",
          "data": {
            "text/plain": [
              "array([1, 0, 2])"
            ]
          },
          "metadata": {
            "tags": []
          },
          "execution_count": 183
        }
      ]
    },
    {
      "metadata": {
        "id": "0TImzm505T7z",
        "colab_type": "code",
        "colab": {
          "base_uri": "https://localhost:8080/",
          "height": 295
        },
        "outputId": "91648d36-0891-4e32-f41c-82387ecdebf1"
      },
      "cell_type": "code",
      "source": [
        "multi_lines = cph.plot_covariate_groups('MultipleLines', [0, 1, 2, 3, 4])\n",
        "\n",
        "\n",
        "multi_lines.set_title('Theoretical increase to customer retention given MultiLine count')\n",
        "multi_lines.set_xlabel('Months')\n",
        "multi_lines.set_ylabel('Percentage of likelyhood: Retention')\n",
        "\n",
        "multi_lines.plot();"
      ],
      "execution_count": 210,
      "outputs": [
        {
          "output_type": "display_data",
          "data": {
            "image/png": "[encoded data removed]",
            "text/plain": [
              "<Figure size 432x288 with 1 Axes>"
            ]
          },
          "metadata": {
            "tags": []
          }
        }
      ]
    },
    {
      "metadata": {
        "id": "1fX5qFHG_-UM",
        "colab_type": "code",
        "colab": {
          "base_uri": "https://localhost:8080/",
          "height": 295
        },
        "outputId": "ed479df1-d79d-417f-cf7b-b84518167733"
      },
      "cell_type": "code",
      "source": [
        "multi_lines = cph.plot_covariate_groups('TotalCharges', [100, 3000, 7000])\n",
        "\n",
        "\n",
        "multi_lines.set_title('Theoretical effect to customer retention given change to total charges')\n",
        "multi_lines.set_xlabel('Months')\n",
        "multi_lines.set_ylabel('Percentage of likelyhood: Retention')\n",
        "\n",
        "multi_lines.plot();"
      ],
      "execution_count": 215,
      "outputs": [
        {
          "output_type": "display_data",
          "data": {
            "image/png": "[encoded data removed]",
            "text/plain": [
              "<Figure size 432x288 with 1 Axes>"
            ]
          },
          "metadata": {
            "tags": []
          }
        }
      ]
    },
    {
      "metadata": {
        "id": "Vaqh-1Dqa4hz",
        "colab_type": "text"
      },
      "cell_type": "markdown",
      "source": [
        "# Resources and stretch goals\n",
        "\n",
        "Resources:\n",
        "- [Wikipedia on Survival analysis](https://en.wikipedia.org/wiki/Survival_analysis)\n",
        "- [Wikipedia on Survival functions](https://en.wikipedia.org/wiki/Survival_function)\n",
        "- [Summary of survival analysis by a biostatistician](http://sphweb.bumc.bu.edu/otlt/MPH-Modules/BS/BS704_Survival/BS704_Survival_print.html)\n",
        "- [Another medical statistics article on survival analysis](https://www.sciencedirect.com/science/article/pii/S1756231716300639)\n",
        "- [Survival analysis using R lecture slides](http://www.stat.columbia.edu/~madigan/W2025/notes/survival.pdf)\n",
        "\n",
        "Stretch goals:\n",
        "- Make ~5 slides that summarize and deliver your findings, as if you were to present them in a business meeting\n",
        "- Revisit any of the data from the lecture material, and explore/dig deeper\n",
        "- Write your own Python functions to calculate a simple hazard or survival function, and try to generate and plot data with them"
      ]
    }
  ]
}