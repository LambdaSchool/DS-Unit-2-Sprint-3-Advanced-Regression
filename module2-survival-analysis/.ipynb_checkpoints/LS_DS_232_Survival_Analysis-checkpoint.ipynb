{
 "cells": [
  {
   "cell_type": "markdown",
   "metadata": {
    "colab_type": "text",
    "id": "DSUEMY8usgwJ"
   },
   "source": [
    "# Lambda School Data Science - Survival Analysis\n",
    "![My normal approach is useless here, too.](https://imgs.xkcd.com/comics/probability.png)\n",
    "\n",
    "https://xkcd.com/881/\n",
    "\n",
    "The aim of survival analysis is to analyze the effect of different risk factors and use them to predict the duration of time between one event (\"birth\") and another (\"death\")."
   ]
  },
  {
   "cell_type": "markdown",
   "metadata": {
    "colab_type": "text",
    "id": "Xp-QnVAgfud4"
   },
   "source": [
    "# Lecture\n",
    "\n",
    "Survival analysis was first developed by actuaries and medical professionals to predict (as its name implies) how long individuals would survive. However, it has expanded into include many different applications.\n",
    "* it is referred to as **reliability analysis** in engineering\n",
    "* it can be referred to more generally as **time-to-event analysis**\n",
    "\n",
    "In the general sense, it can be thought of as a way to model anything with a finite duration - retention, churn, completion, etc. The culmination of this duration may have a \"good\" or \"bad\" (or \"neutral\") connotation, depending on the situation. However old habits die hard, so most often it is called survival analysis and the following definitions are still commonly used:\n",
    "\n",
    "* birth: the event that marks the beginning of the time period for observation\n",
    "* death: the event of interest, which then marks the end of the observation period for an individual\n",
    "\n",
    "### Examples\n",
    "* Customer churn\n",
    " * birth event: customer subscribes to a service\n",
    " * death event: customer leaves the service\n",
    "* Employee retention\n",
    " * birth event: employee is hired\n",
    " * death event: employee quits\n",
    "* Engineering, part reliability\n",
    " * birth event: part is put in use\n",
    " * death event: part fails\n",
    "* Program completion\n",
    " * birth event: student begins PhD program\n",
    " * death event: student earns PhD\n",
    "* Response time\n",
    " * birth event: 911 call is made\n",
    " * death event: police arrive\n",
    "* Lambda School\n",
    " * birth event: student graduates LambdaSchool\n",
    " * death event: student gets a job!\n",
    " \n",
    "Take a moment and try to come up with your own specific example or two.\n",
    "\n",
    "#### So... if all we're predicting here is a length of time between two events, why can't we just use regular old Linear Regression?\n",
    "Well... if you have all the data, go for it. In some situations it may be reasonably effective.\n",
    "\n",
    "#### But, data for survival times are often highly skewed and, more importantly, we don't always get a chance to observe the \"death\" event. The current time or other factors interfere with our ability to observe the time of the event of interest. These observations are said to be _censored_.\n",
    "\n",
    "Additionally, the occurrence or non-occurrence of an event is binary - so, while the time is continuous, the event itself is in some ways similar to a binary event in logistic regression.\n",
    "\n",
    "## Censorship in Data\n",
    "\n",
    "Suppose a new cancer treatment is developed. Researchers select 50 individuals for the study to undergo treatment and participate in post-treatment obsesrvation.\n",
    "\n",
    "##### Birth Event = Participant begins trial\n",
    "##### Death Event = Participant dies due to cancer or complications of cancer\n",
    "During the study:\n",
    "1. Some participants die during the course of the study--triggering their death event \n",
    "2. Some participants drop out or the researchers otherwise lose contact with them. The researchers have their data up intil the time they dropped out, but they don't have a death event to record\n",
    "3. Some participants are still be alive at the end of the observation period. So again, researchers have their data up until some point, but there is no death event to record\n",
    "\n",
    "We only know the interval between the \"birth\" event and the \"death\" event for participants in category 1. All others we only know that they survived _up to_ a certain point.\n",
    "\n",
    "### Dealing with Censored Data\n",
    "\n",
    "Without survival analysis, we could deal with censored data in two ways:\n",
    "* We could just treat the end of the observation period as the time of the death event\n",
    "* (Even worse) We could drop the censored data using the rationale that we have \"incomplete data\" for those observations\n",
    "\n",
    "But... both of these will underestimate survival rates for the purpose of the study. We **know** that all those individuals \"survived\" the \"death event\" past a certain point.\n",
    "\n",
    "Luckily, in the 1980s a pair of smarty pants named David (main author Cox and coauthor Oakes) did the hard math work to make it possible to incorporate additional features as predictive measures to survival time probabilities. (Fun fact, the one named Cox also came up with logistic regression with non-David coauthor, Joyce Snell.)\n",
    "\n",
    "## lifelines\n",
    "It wasn't until 2014 that some other smart people made an implementation of survival analysis in Python called lifelines. \n",
    "It is built over Pandas and follows the same conventions for usage as scikit-learn.\n",
    "\n",
    "_Additional note: scikit pushed out a survival analysis implementation last year (2018) named scikit-survival that is imported by the name `sksurv`. It's super new so it may/may not have a bunch of bugs... but if you're interested you can check it out in the future. (For comparison, scikit originally came out in 2007 and Pandas came out in 2008)._"
   ]
  },
  {
   "cell_type": "code",
   "execution_count": 1,
   "metadata": {
    "colab": {
     "base_uri": "https://localhost:8080/",
     "height": 402
    },
    "colab_type": "code",
    "id": "ZrCb7TULsgwP",
    "outputId": "7b8119d5-dfbb-4ce4-cbef-6a19e3dadf6b"
   },
   "outputs": [
    {
     "name": "stdout",
     "output_type": "stream",
     "text": [
      "Requirement already satisfied: lifelines in /Users/chrislouie/anaconda3/lib/python3.7/site-packages (0.19.5)\n",
      "Requirement already satisfied: scipy>=1.0 in /Users/chrislouie/anaconda3/lib/python3.7/site-packages (from lifelines) (1.1.0)\n",
      "Requirement already satisfied: bottleneck>=1.0 in /Users/chrislouie/anaconda3/lib/python3.7/site-packages (from lifelines) (1.2.1)\n",
      "Requirement already satisfied: autograd>=1.2 in /Users/chrislouie/anaconda3/lib/python3.7/site-packages (from lifelines) (1.2)\n",
      "Requirement already satisfied: matplotlib>=2.0; python_version > \"3.0\" in /Users/chrislouie/anaconda3/lib/python3.7/site-packages (from lifelines) (3.0.2)\n",
      "Requirement already satisfied: numpy>=1.6.0 in /Users/chrislouie/anaconda3/lib/python3.7/site-packages (from lifelines) (1.15.4)\n",
      "Requirement already satisfied: pandas>=0.18 in /Users/chrislouie/anaconda3/lib/python3.7/site-packages (from lifelines) (0.23.4)\n",
      "Requirement already satisfied: future>=0.15.2 in /Users/chrislouie/anaconda3/lib/python3.7/site-packages (from autograd>=1.2->lifelines) (0.17.1)\n",
      "Requirement already satisfied: cycler>=0.10 in /Users/chrislouie/anaconda3/lib/python3.7/site-packages (from matplotlib>=2.0; python_version > \"3.0\"->lifelines) (0.10.0)\n",
      "Requirement already satisfied: kiwisolver>=1.0.1 in /Users/chrislouie/anaconda3/lib/python3.7/site-packages (from matplotlib>=2.0; python_version > \"3.0\"->lifelines) (1.0.1)\n",
      "Requirement already satisfied: pyparsing!=2.0.4,!=2.1.2,!=2.1.6,>=2.0.1 in /Users/chrislouie/anaconda3/lib/python3.7/site-packages (from matplotlib>=2.0; python_version > \"3.0\"->lifelines) (2.3.0)\n",
      "Requirement already satisfied: python-dateutil>=2.1 in /Users/chrislouie/anaconda3/lib/python3.7/site-packages (from matplotlib>=2.0; python_version > \"3.0\"->lifelines) (2.7.5)\n",
      "Requirement already satisfied: pytz>=2011k in /Users/chrislouie/anaconda3/lib/python3.7/site-packages (from pandas>=0.18->lifelines) (2018.7)\n",
      "Requirement already satisfied: six in /Users/chrislouie/anaconda3/lib/python3.7/site-packages (from cycler>=0.10->matplotlib>=2.0; python_version > \"3.0\"->lifelines) (1.12.0)\n",
      "Requirement already satisfied: setuptools in /Users/chrislouie/anaconda3/lib/python3.7/site-packages (from kiwisolver>=1.0.1->matplotlib>=2.0; python_version > \"3.0\"->lifelines) (40.6.3)\n"
     ]
    }
   ],
   "source": [
    "!pip install lifelines"
   ]
  },
  {
   "cell_type": "code",
   "execution_count": 2,
   "metadata": {
    "colab": {},
    "colab_type": "code",
    "id": "E8rpzq9zsgwn"
   },
   "outputs": [],
   "source": [
    "import numpy as np\n",
    "import pandas as pd\n",
    "import matplotlib.pyplot as plt\n",
    "import lifelines"
   ]
  },
  {
   "cell_type": "code",
   "execution_count": 3,
   "metadata": {
    "colab": {
     "base_uri": "https://localhost:8080/",
     "height": 206
    },
    "colab_type": "code",
    "id": "d51G4sPqsgww",
    "outputId": "6704a8e2-79ce-4fa5-d596-88c7bec6d818"
   },
   "outputs": [
    {
     "data": {
      "text/html": [
       "<div>\n",
       "<style scoped>\n",
       "    .dataframe tbody tr th:only-of-type {\n",
       "        vertical-align: middle;\n",
       "    }\n",
       "\n",
       "    .dataframe tbody tr th {\n",
       "        vertical-align: top;\n",
       "    }\n",
       "\n",
       "    .dataframe thead th {\n",
       "        text-align: right;\n",
       "    }\n",
       "</style>\n",
       "<table border=\"1\" class=\"dataframe\">\n",
       "  <thead>\n",
       "    <tr style=\"text-align: right;\">\n",
       "      <th></th>\n",
       "      <th>t</th>\n",
       "      <th>status</th>\n",
       "      <th>sex</th>\n",
       "      <th>logWBC</th>\n",
       "      <th>Rx</th>\n",
       "    </tr>\n",
       "  </thead>\n",
       "  <tbody>\n",
       "    <tr>\n",
       "      <th>0</th>\n",
       "      <td>35</td>\n",
       "      <td>0</td>\n",
       "      <td>1</td>\n",
       "      <td>1.45</td>\n",
       "      <td>0</td>\n",
       "    </tr>\n",
       "    <tr>\n",
       "      <th>1</th>\n",
       "      <td>34</td>\n",
       "      <td>0</td>\n",
       "      <td>1</td>\n",
       "      <td>1.47</td>\n",
       "      <td>0</td>\n",
       "    </tr>\n",
       "    <tr>\n",
       "      <th>2</th>\n",
       "      <td>32</td>\n",
       "      <td>0</td>\n",
       "      <td>1</td>\n",
       "      <td>2.20</td>\n",
       "      <td>0</td>\n",
       "    </tr>\n",
       "    <tr>\n",
       "      <th>3</th>\n",
       "      <td>32</td>\n",
       "      <td>0</td>\n",
       "      <td>1</td>\n",
       "      <td>2.53</td>\n",
       "      <td>0</td>\n",
       "    </tr>\n",
       "    <tr>\n",
       "      <th>4</th>\n",
       "      <td>25</td>\n",
       "      <td>0</td>\n",
       "      <td>1</td>\n",
       "      <td>1.78</td>\n",
       "      <td>0</td>\n",
       "    </tr>\n",
       "  </tbody>\n",
       "</table>\n",
       "</div>"
      ],
      "text/plain": [
       "    t  status  sex  logWBC  Rx\n",
       "0  35       0    1    1.45   0\n",
       "1  34       0    1    1.47   0\n",
       "2  32       0    1    2.20   0\n",
       "3  32       0    1    2.53   0\n",
       "4  25       0    1    1.78   0"
      ]
     },
     "execution_count": 3,
     "metadata": {},
     "output_type": "execute_result"
    }
   ],
   "source": [
    "# lifelines comes with some datasets to get you started playing around with it.\n",
    "# Most of the datasets are cleaned-up versions of real datasets. Here we will\n",
    "# use their Leukemia dataset comparing 2 different treatments taken from\n",
    "# http://web1.sph.emory.edu/dkleinb/allDatasets/surv2datasets/anderson.dat\n",
    "\n",
    "from lifelines.datasets import load_leukemia\n",
    "leukemia = load_leukemia()\n",
    "\n",
    "leukemia.head()"
   ]
  },
  {
   "cell_type": "markdown",
   "metadata": {
    "colab_type": "text",
    "id": "xIlaPncgsgw7"
   },
   "source": [
    "### You can you any Pandas DataFrame with lifelines. \n",
    "### The only requirement is that the DataFrame includes features that describe:\n",
    "* a duration of time for the observation\n",
    "* a binary column regarding censorship (`1` if the death event was observed, `0` if the death event was not observed)\n",
    "\n",
    "Sometimes, you will have to engineer these features. How might you go about that? What information would you need?"
   ]
  },
  {
   "cell_type": "code",
   "execution_count": 4,
   "metadata": {
    "colab": {
     "base_uri": "https://localhost:8080/",
     "height": 191
    },
    "colab_type": "code",
    "id": "DQ936c5tsgw-",
    "outputId": "94d35943-a551-46c5-975e-3862872cce1e"
   },
   "outputs": [
    {
     "name": "stdout",
     "output_type": "stream",
     "text": [
      "<class 'pandas.core.frame.DataFrame'>\n",
      "RangeIndex: 42 entries, 0 to 41\n",
      "Data columns (total 5 columns):\n",
      "t         42 non-null int64\n",
      "status    42 non-null int64\n",
      "sex       42 non-null int64\n",
      "logWBC    42 non-null float64\n",
      "Rx        42 non-null int64\n",
      "dtypes: float64(1), int64(4)\n",
      "memory usage: 1.7 KB\n"
     ]
    }
   ],
   "source": [
    "leukemia.info()"
   ]
  },
  {
   "cell_type": "code",
   "execution_count": 5,
   "metadata": {
    "colab": {
     "base_uri": "https://localhost:8080/",
     "height": 300
    },
    "colab_type": "code",
    "id": "MDvA8Z9rsgxL",
    "outputId": "0ce5b40c-0a8c-4508-990f-25ad0d0a1810"
   },
   "outputs": [
    {
     "data": {
      "text/html": [
       "<div>\n",
       "<style scoped>\n",
       "    .dataframe tbody tr th:only-of-type {\n",
       "        vertical-align: middle;\n",
       "    }\n",
       "\n",
       "    .dataframe tbody tr th {\n",
       "        vertical-align: top;\n",
       "    }\n",
       "\n",
       "    .dataframe thead th {\n",
       "        text-align: right;\n",
       "    }\n",
       "</style>\n",
       "<table border=\"1\" class=\"dataframe\">\n",
       "  <thead>\n",
       "    <tr style=\"text-align: right;\">\n",
       "      <th></th>\n",
       "      <th>t</th>\n",
       "      <th>status</th>\n",
       "      <th>sex</th>\n",
       "      <th>logWBC</th>\n",
       "      <th>Rx</th>\n",
       "    </tr>\n",
       "  </thead>\n",
       "  <tbody>\n",
       "    <tr>\n",
       "      <th>count</th>\n",
       "      <td>42.000000</td>\n",
       "      <td>42.000000</td>\n",
       "      <td>42.000000</td>\n",
       "      <td>42.000000</td>\n",
       "      <td>42.000000</td>\n",
       "    </tr>\n",
       "    <tr>\n",
       "      <th>mean</th>\n",
       "      <td>12.880952</td>\n",
       "      <td>0.714286</td>\n",
       "      <td>0.476190</td>\n",
       "      <td>2.930238</td>\n",
       "      <td>0.500000</td>\n",
       "    </tr>\n",
       "    <tr>\n",
       "      <th>std</th>\n",
       "      <td>9.347498</td>\n",
       "      <td>0.457230</td>\n",
       "      <td>0.505487</td>\n",
       "      <td>0.917522</td>\n",
       "      <td>0.506061</td>\n",
       "    </tr>\n",
       "    <tr>\n",
       "      <th>min</th>\n",
       "      <td>1.000000</td>\n",
       "      <td>0.000000</td>\n",
       "      <td>0.000000</td>\n",
       "      <td>1.450000</td>\n",
       "      <td>0.000000</td>\n",
       "    </tr>\n",
       "    <tr>\n",
       "      <th>25%</th>\n",
       "      <td>6.000000</td>\n",
       "      <td>0.000000</td>\n",
       "      <td>0.000000</td>\n",
       "      <td>2.302500</td>\n",
       "      <td>0.000000</td>\n",
       "    </tr>\n",
       "    <tr>\n",
       "      <th>50%</th>\n",
       "      <td>10.500000</td>\n",
       "      <td>1.000000</td>\n",
       "      <td>0.000000</td>\n",
       "      <td>2.800000</td>\n",
       "      <td>0.500000</td>\n",
       "    </tr>\n",
       "    <tr>\n",
       "      <th>75%</th>\n",
       "      <td>18.500000</td>\n",
       "      <td>1.000000</td>\n",
       "      <td>1.000000</td>\n",
       "      <td>3.490000</td>\n",
       "      <td>1.000000</td>\n",
       "    </tr>\n",
       "    <tr>\n",
       "      <th>max</th>\n",
       "      <td>35.000000</td>\n",
       "      <td>1.000000</td>\n",
       "      <td>1.000000</td>\n",
       "      <td>5.000000</td>\n",
       "      <td>1.000000</td>\n",
       "    </tr>\n",
       "  </tbody>\n",
       "</table>\n",
       "</div>"
      ],
      "text/plain": [
       "               t     status        sex     logWBC         Rx\n",
       "count  42.000000  42.000000  42.000000  42.000000  42.000000\n",
       "mean   12.880952   0.714286   0.476190   2.930238   0.500000\n",
       "std     9.347498   0.457230   0.505487   0.917522   0.506061\n",
       "min     1.000000   0.000000   0.000000   1.450000   0.000000\n",
       "25%     6.000000   0.000000   0.000000   2.302500   0.000000\n",
       "50%    10.500000   1.000000   0.000000   2.800000   0.500000\n",
       "75%    18.500000   1.000000   1.000000   3.490000   1.000000\n",
       "max    35.000000   1.000000   1.000000   5.000000   1.000000"
      ]
     },
     "execution_count": 5,
     "metadata": {},
     "output_type": "execute_result"
    }
   ],
   "source": [
    "leukemia.describe()"
   ]
  },
  {
   "cell_type": "code",
   "execution_count": 6,
   "metadata": {
    "colab": {
     "base_uri": "https://localhost:8080/",
     "height": 376
    },
    "colab_type": "code",
    "id": "tDasOEocsgxQ",
    "outputId": "fa606f2c-3531-4d30-d453-55f257b85a9f"
   },
   "outputs": [
    {
     "data": {
      "image/png": "[encoded data removed]",
      "text/plain": [
       "<Figure size 432x288 with 1 Axes>"
      ]
     },
     "metadata": {
      "needs_background": "light"
     },
     "output_type": "display_data"
    }
   ],
   "source": [
    "time = leukemia.t.values\n",
    "event = leukemia.status.values\n",
    "\n",
    "ax = lifelines.plotting.plot_lifetimes(time, event_observed=event)\n",
    "ax.set_xlim(0, 40)\n",
    "ax.grid(axis='x')\n",
    "ax.set_xlabel(\"Time in Months\")\n",
    "ax.set_title(\"Lifelines for Survival of Leukemia Patients\");\n",
    "plt.plot();"
   ]
  },
  {
   "cell_type": "markdown",
   "metadata": {
    "colab_type": "text",
    "id": "5oEzZ_aqsgxV"
   },
   "source": [
    "## Kaplan-Meier survival estimate\n",
    " \n",
    "The Kaplan-Meier method estimates survival probability from observed survival times. It results in a step function that changes value only at the time of each event, and confidence intervals can be computer for the survival probabilities. \n",
    "\n",
    "The KM survival curve,a plot of KM survival probability against time, provides a useful summary of the data.\n",
    "It can be used to estimate measures such as median survival time.\n",
    "\n",
    "It CANNOT account for risk factors and is NOT regression. It is *non-parametric* (does not involve parameters).\n",
    "\n",
    "However it is a good way to visualize a survival dataset, and can be useful to compare the effects of a single categorical variable."
   ]
  },
  {
   "cell_type": "code",
   "execution_count": 7,
   "metadata": {
    "colab": {
     "base_uri": "https://localhost:8080/",
     "height": 34
    },
    "colab_type": "code",
    "id": "5XoM5PzGsgxX",
    "outputId": "fc1070bb-1840-46d4-cc8b-1de402cf556c"
   },
   "outputs": [
    {
     "data": {
      "text/plain": [
       "<lifelines.KaplanMeierFitter: fitted with 42 observations, 12 censored>"
      ]
     },
     "execution_count": 7,
     "metadata": {},
     "output_type": "execute_result"
    }
   ],
   "source": [
    "kmf = lifelines.KaplanMeierFitter()\n",
    "\n",
    "kmf.fit(time, event_observed=event)"
   ]
  },
  {
   "cell_type": "code",
   "execution_count": 8,
   "metadata": {
    "colab": {
     "base_uri": "https://localhost:8080/",
     "height": 367
    },
    "colab_type": "code",
    "id": "ZIskdbM1qkKV",
    "outputId": "e01654db-82a5-47b1-8472-a1fa979ed318"
   },
   "outputs": [
    {
     "name": "stdout",
     "output_type": "stream",
     "text": [
      "Requirement already up-to-date: matplotlib in /Users/chrislouie/anaconda3/lib/python3.7/site-packages (3.0.2)\r\n",
      "Requirement already satisfied, skipping upgrade: numpy>=1.10.0 in /Users/chrislouie/anaconda3/lib/python3.7/site-packages (from matplotlib) (1.15.4)\r\n",
      "Requirement already satisfied, skipping upgrade: cycler>=0.10 in /Users/chrislouie/anaconda3/lib/python3.7/site-packages (from matplotlib) (0.10.0)\r\n",
      "Requirement already satisfied, skipping upgrade: kiwisolver>=1.0.1 in /Users/chrislouie/anaconda3/lib/python3.7/site-packages (from matplotlib) (1.0.1)\r\n",
      "Requirement already satisfied, skipping upgrade: pyparsing!=2.0.4,!=2.1.2,!=2.1.6,>=2.0.1 in /Users/chrislouie/anaconda3/lib/python3.7/site-packages (from matplotlib) (2.3.0)\r\n",
      "Requirement already satisfied, skipping upgrade: python-dateutil>=2.1 in /Users/chrislouie/anaconda3/lib/python3.7/site-packages (from matplotlib) (2.7.5)\r\n",
      "Requirement already satisfied, skipping upgrade: six in /Users/chrislouie/anaconda3/lib/python3.7/site-packages (from cycler>=0.10->matplotlib) (1.12.0)\r\n",
      "Requirement already satisfied, skipping upgrade: setuptools in /Users/chrislouie/anaconda3/lib/python3.7/site-packages (from kiwisolver>=1.0.1->matplotlib) (40.6.3)\r\n"
     ]
    }
   ],
   "source": [
    "!pip install -U matplotlib  # Colab has matplotlib 2.2.3, we need >3"
   ]
  },
  {
   "cell_type": "code",
   "execution_count": 9,
   "metadata": {
    "colab": {
     "base_uri": "https://localhost:8080/",
     "height": 393
    },
    "colab_type": "code",
    "id": "8lnpLxmhsgxc",
    "outputId": "8b17e1d5-f734-40f5-c869-811bd3318b60"
   },
   "outputs": [
    {
     "name": "stdout",
     "output_type": "stream",
     "text": [
      "Median Survival: 12.0 months after treatment\n"
     ]
    },
    {
     "data": {
      "image/png": "[encoded data removed]",
      "text/plain": [
       "<Figure size 432x288 with 1 Axes>"
      ]
     },
     "metadata": {
      "needs_background": "light"
     },
     "output_type": "display_data"
    }
   ],
   "source": [
    "kmf.survival_function_.plot()\n",
    "plt.title('Survival Function Leukemia Patients');\n",
    "print(f'Median Survival: {kmf.median_} months after treatment')"
   ]
  },
  {
   "cell_type": "code",
   "execution_count": 10,
   "metadata": {
    "colab": {
     "base_uri": "https://localhost:8080/",
     "height": 378
    },
    "colab_type": "code",
    "id": "4eSYFEfzgjyp",
    "outputId": "804e67f3-0236-4be1-93b1-85260354e518"
   },
   "outputs": [
    {
     "data": {
      "text/plain": [
       "<matplotlib.axes._subplots.AxesSubplot at 0x1a20d855f8>"
      ]
     },
     "execution_count": 10,
     "metadata": {},
     "output_type": "execute_result"
    },
    {
     "data": {
      "image/png": "[encoded data removed]",
      "text/plain": [
       "<Figure size 432x288 with 1 Axes>"
      ]
     },
     "metadata": {
      "needs_background": "light"
     },
     "output_type": "display_data"
    }
   ],
   "source": [
    "kmf.survival_function_.plot.line()"
   ]
  },
  {
   "cell_type": "code",
   "execution_count": 11,
   "metadata": {
    "colab": {
     "base_uri": "https://localhost:8080/",
     "height": 411
    },
    "colab_type": "code",
    "id": "udKT7uBAsgxi",
    "outputId": "31c095f5-70bd-4c7e-bc40-da331a449352"
   },
   "outputs": [
    {
     "name": "stdout",
     "output_type": "stream",
     "text": [
      "Median survival time with Treatment 1: 8.0 months\n",
      "Median survival time with Treatment 0: 23.0 months\n"
     ]
    },
    {
     "data": {
      "image/png": "[encoded data removed]",
      "text/plain": [
       "<Figure size 432x288 with 1 Axes>"
      ]
     },
     "metadata": {
      "needs_background": "light"
     },
     "output_type": "display_data"
    }
   ],
   "source": [
    "ax = plt.subplot(111)\n",
    "\n",
    "treatment = (leukemia[\"Rx\"] == 1)\n",
    "kmf.fit(time[treatment], event_observed=event[treatment], label=\"Treatment 1\")\n",
    "kmf.plot(ax=ax)\n",
    "print(f'Median survival time with Treatment 1: {kmf.median_} months')\n",
    "\n",
    "kmf.fit(time[~treatment], event_observed=event[~treatment], label=\"Treatment 0\")\n",
    "kmf.plot(ax=ax)\n",
    "print(f'Median survival time with Treatment 0: {kmf.median_} months')\n",
    "\n",
    "plt.ylim(0, 1);\n",
    "plt.title(\"Survival Times for Leukemia Treatments\");"
   ]
  },
  {
   "cell_type": "markdown",
   "metadata": {
    "colab_type": "text",
    "id": "Ej1Zb4IYsgxr"
   },
   "source": [
    "## Cox Proportional Hazards Model -- Survival Regression\n",
    "It assumes the ratio of death event risks (hazard) of two groups remains about the same over time.\n",
    "This ratio is called the hazards ratio or the relative risk.\n",
    "\n",
    "All Cox regression requires is an assumption that ratio of hazards is constant over time across groups.\n",
    "\n",
    "*The good news* — we don’t need to know anything about overall shape of risk/hazard over time\n",
    "\n",
    "*The bad news* — the proportionality assumption can be restrictive"
   ]
  },
  {
   "cell_type": "code",
   "execution_count": 12,
   "metadata": {
    "colab": {
     "base_uri": "https://localhost:8080/",
     "height": 330
    },
    "colab_type": "code",
    "id": "Skypo6ABsgxs",
    "outputId": "7685e61e-546c-4c11-acdb-2f78a79b1d05"
   },
   "outputs": [
    {
     "name": "stdout",
     "output_type": "stream",
     "text": [
      "<lifelines.CoxPHFitter: fitted with 42 observations, 12 censored>\n",
      "      duration col = 't'\n",
      "         event col = 'status'\n",
      "number of subjects = 42\n",
      "  number of events = 30\n",
      "    log-likelihood = -69.59\n",
      "  time fit was run = 2019-02-26 22:26:17 UTC\n",
      "\n",
      "---\n",
      "        coef  exp(coef)  se(coef)    z      p  -log2(p)  lower 0.95  upper 0.95\n",
      "sex     0.31       1.37      0.45 0.69   0.49      1.03       -0.58        1.21\n",
      "logWBC  1.68       5.38      0.34 5.00 <0.005     20.71        1.02        2.34\n",
      "Rx      1.50       4.50      0.46 3.26 <0.005      9.80        0.60        2.41\n",
      "---\n",
      "Concordance = 0.85\n",
      "Log-likelihood ratio test = 47.19 on 3 df, -log2(p)=31.55\n"
     ]
    },
    {
     "name": "stderr",
     "output_type": "stream",
     "text": [
      "/Users/chrislouie/anaconda3/lib/python3.7/site-packages/lifelines/utils/__init__.py:900: ConvergenceWarning: Column Rx have very low variance when conditioned on death event present or not. This may harm convergence. This could be a form of 'complete separation'. For example, try the following code:\n",
      ">>> events = df['status'].astype(bool)\n",
      ">>> df.loc[events, 'Rx'].var()\n",
      ">>> df.loc[~events, 'Rx'].var()\n",
      "\n",
      "Too low variance here means that the column Rx completely determines whether a subject dies or not.\n",
      "See https://stats.stackexchange.com/questions/11109/how-to-deal-with-perfect-separation-in-logistic-regression \n",
      "  warnings.warn(warning_text, ConvergenceWarning)\n"
     ]
    }
   ],
   "source": [
    "# Using Cox Proportional Hazards model\n",
    "cph = lifelines.CoxPHFitter()\n",
    "cph.fit(leukemia, 't', event_col='status')\n",
    "cph.print_summary()"
   ]
  },
  {
   "cell_type": "markdown",
   "metadata": {
    "colab_type": "text",
    "id": "sIUr2gT7sgxz"
   },
   "source": [
    "## Interpreting the Results\n",
    "`coef`: usually denoted with $b$, the coefficient\n",
    "\n",
    "`exp(coef)`: $e^{b}$, equals the estimate of the hazard ratio. Here, we can say that participants who received treatment 1 had ~4.5 times the hazard risk (risk of death) compared to those who received treatment 2. And for every unit the `logWBC` increased, the hazard risk increased >5 times.\n",
    "\n",
    "`se(coef)`: standard error of the coefficient (used for calculating z-score and therefore p-value)\n",
    "\n",
    "`z`: z-score $\\frac{b}{se(b)}$\n",
    "\n",
    "`p`: p-value. derived from z-score. describes statistical significance. more specifically, it is the likelihood that the variable has no effect on the outcome\n",
    "\n",
    "`log(p)`: natural logarithm of p-value... used to more easily see differences in significance\n",
    "\n",
    "`lower/upper 0.95`: confidence levels for the coefficients. in this case, we can confidently say that the coefficient for `logWBC` is somewhere _between_ 1.02 and 2.34.\n",
    "\n",
    "`Signif. codes`: easily, visually identify significant variables! The more stars, the more solid (simply based on p-value). Here `logWBC` is highly significant, `Rx` is significant, and `sex` has no statistical significance\n",
    "\n",
    "`Concordance`: a measure of predictive power for classification problems (here looking at the `status` column. a value from 0 to 1 where values above 0.6 are considered good fits (the higher the better)\n",
    "\n",
    "`Likelihood ratio (LR) test`: this is a measure of how likely it is that the coefficients are not zero, and can compare the goodness of fit of a model versus an alternative null model. Is often actually calculated as a logarithm, resulting in the log-likelihood ratio statistic and allowing the distribution of the test statistic to be approximated with [Wilks' theorem](https://en.wikipedia.org/wiki/Wilks%27_theorem)."
   ]
  },
  {
   "cell_type": "code",
   "execution_count": 17,
   "metadata": {
    "colab": {
     "base_uri": "https://localhost:8080/",
     "height": 378
    },
    "colab_type": "code",
    "id": "SHPFMpUqsgx0",
    "outputId": "6e8f47d0-1c58-437b-9908-11a7d0a44eb4"
   },
   "outputs": [
    {
     "data": {
      "text/plain": [
       "<matplotlib.axes._subplots.AxesSubplot at 0x1a2162dc50>"
      ]
     },
     "execution_count": 17,
     "metadata": {},
     "output_type": "execute_result"
    },
    {
     "data": {
      "image/png": "[encoded data removed]",
      "text/plain": [
       "<Figure size 432x288 with 1 Axes>"
      ]
     },
     "metadata": {
      "needs_background": "light"
     },
     "output_type": "display_data"
    }
   ],
   "source": [
    "cph.plot_covariate_groups(covariates='logWBC', values=np.arange(1.5,5,.5))"
   ]
  },
  {
   "cell_type": "code",
   "execution_count": 18,
   "metadata": {
    "colab": {
     "base_uri": "https://localhost:8080/",
     "height": 378
    },
    "colab_type": "code",
    "id": "hd02Nni_sgx7",
    "outputId": "ababdda0-67e7-412e-8dbe-04139681e466"
   },
   "outputs": [
    {
     "data": {
      "text/plain": [
       "<matplotlib.axes._subplots.AxesSubplot at 0x1a216d1630>"
      ]
     },
     "execution_count": 18,
     "metadata": {},
     "output_type": "execute_result"
    },
    {
     "data": {
      "image/png": "[encoded data removed]",
      "text/plain": [
       "<Figure size 432x288 with 1 Axes>"
      ]
     },
     "metadata": {
      "needs_background": "light"
     },
     "output_type": "display_data"
    }
   ],
   "source": [
    "cph.plot_covariate_groups(covariates='sex', values=[0,1])"
   ]
  },
  {
   "cell_type": "markdown",
   "metadata": {
    "colab_type": "text",
    "id": "-JRvblsIsgyB"
   },
   "source": [
    "### Remember how the Cox model assumes the ratio of death events between groups remains constant over time?\n",
    "Well we can check for that."
   ]
  },
  {
   "cell_type": "code",
   "execution_count": 19,
   "metadata": {
    "colab": {
     "base_uri": "https://localhost:8080/",
     "height": 860
    },
    "colab_type": "code",
    "id": "XEG4bSlUsgyC",
    "outputId": "289d3d97-6337-40c1-a935-8d9a1cc03f6f"
   },
   "outputs": [
    {
     "name": "stdout",
     "output_type": "stream",
     "text": [
      "\n",
      "The ``p_value_threshold`` is set at 0.05. Even under the null hypothesis of no violations, some covariates\n",
      "will be below the threshold (i.e. by chance). This is compounded when there are many covariates.\n",
      "\n",
      "Similarly, when there are lots of observations, even minor deviances from the proportional hazard\n",
      "assumption will be flagged.\n",
      "\n",
      "With that in mind, it's best to use a combination of statistical tests and eyeball tests to\n",
      "determine the most serious violations.\n",
      "\n",
      "\n",
      "<lifelines.StatisticalResult>\n",
      "         test_name = proportional_hazard_test\n",
      " null_distribution = chi squared\n",
      "degrees_of_freedom = 1\n",
      "\n",
      "---\n",
      "             test_statistic    p  -log2(p)\n",
      "Rx     km              0.23 0.63      0.67\n",
      "       rank            0.44 0.51      0.98\n",
      "logWBC km              0.10 0.76      0.40\n",
      "       rank            0.16 0.68      0.55\n",
      "sex    km              3.78 0.05      4.27\n",
      "       rank            4.91 0.03      5.23\n",
      "\n",
      "\n",
      "1. Variable 'sex' failed the non-proportional test: p-value is 0.0267.\n",
      "   Advice: with so few unique values (only 2), you can try `strata=['sex']` in the call in `.fit`. See documentation in link [A] and [B] below.\n",
      "\n",
      "---\n",
      "[A]  https://lifelines.readthedocs.io/en/latest/jupyter_notebooks/Proportional%20hazard%20assumption.html\n",
      "[B]  https://lifelines.readthedocs.io/en/latest/Survival%20Regression.html#checking-the-proportional-hazards-assumption\n",
      "[C]  https://lifelines.readthedocs.io/en/latest/jupyter_notebooks/Proportional%20hazard%20assumption.html#Option-2:-introduce-time-varying-covariates\n",
      "\n"
     ]
    }
   ],
   "source": [
    "cph.check_assumptions(leukemia)"
   ]
  },
  {
   "cell_type": "code",
   "execution_count": 20,
   "metadata": {
    "colab": {
     "base_uri": "https://localhost:8080/",
     "height": 378
    },
    "colab_type": "code",
    "id": "ZO_dFbKesgyG",
    "outputId": "a83db192-ed8c-48d3-bbfc-9f0deb1933f9"
   },
   "outputs": [
    {
     "data": {
      "text/plain": [
       "<matplotlib.axes._subplots.AxesSubplot at 0x1a217af470>"
      ]
     },
     "execution_count": 20,
     "metadata": {},
     "output_type": "execute_result"
    },
    {
     "data": {
      "image/png": "[encoded data removed]",
      "text/plain": [
       "<Figure size 432x288 with 1 Axes>"
      ]
     },
     "metadata": {
      "needs_background": "light"
     },
     "output_type": "display_data"
    }
   ],
   "source": [
    "# We can see that the sex variable is not very useful by plotting the coefficients\n",
    "cph.plot()"
   ]
  },
  {
   "cell_type": "code",
   "execution_count": 21,
   "metadata": {
    "colab": {
     "base_uri": "https://localhost:8080/",
     "height": 347
    },
    "colab_type": "code",
    "id": "D1rwy5wMsgyL",
    "outputId": "dc25e7d4-dd46-4b32-b566-a33cb42a2b70"
   },
   "outputs": [
    {
     "name": "stdout",
     "output_type": "stream",
     "text": [
      "<lifelines.CoxPHFitter: fitted with 42 observations, 12 censored>\n",
      "      duration col = 't'\n",
      "         event col = 'status'\n",
      "            strata = ['sex']\n",
      "number of subjects = 42\n",
      "  number of events = 30\n",
      "    log-likelihood = -55.73\n",
      "  time fit was run = 2019-02-26 23:52:27 UTC\n",
      "\n",
      "---\n",
      "        coef  exp(coef)  se(coef)    z      p  -log2(p)  lower 0.95  upper 0.95\n",
      "logWBC  1.45       4.28      0.34 4.22 <0.005     15.35        0.78        2.13\n",
      "Rx      1.00       2.71      0.47 2.11   0.04      4.83        0.07        1.93\n",
      "---\n",
      "Concordance = 0.81\n",
      "Log-likelihood ratio test = 69.61 on 2 df, -log2(p)=50.21\n"
     ]
    },
    {
     "data": {
      "text/plain": [
       "(24, 2)"
      ]
     },
     "execution_count": 21,
     "metadata": {},
     "output_type": "execute_result"
    }
   ],
   "source": [
    "# Let's do what the check_assumptions function suggested\n",
    "cph = lifelines.CoxPHFitter()\n",
    "cph.fit(leukemia, 't', event_col='status', strata=['sex'])\n",
    "cph.print_summary()\n",
    "cph.baseline_cumulative_hazard_.shape"
   ]
  },
  {
   "cell_type": "markdown",
   "metadata": {
    "colab_type": "text",
    "id": "Qn4HZjeGsgyP"
   },
   "source": [
    "Notice that this regression has `Likelihood ratio test = 74.90 on 2 df, log(p)=-37.45`, while the one that included `sex` had `Likelihood ratio test = 47.19 on 3 df, log(p)=-21.87`. The LRT is higher and log(p) is lower, meaning this is likely a better fitting model."
   ]
  },
  {
   "cell_type": "code",
   "execution_count": 22,
   "metadata": {
    "colab": {
     "base_uri": "https://localhost:8080/",
     "height": 378
    },
    "colab_type": "code",
    "id": "jL8JzzhIsgyQ",
    "outputId": "a8fc4df7-d7e1-4ca2-a31e-fff221445b84"
   },
   "outputs": [
    {
     "data": {
      "text/plain": [
       "<matplotlib.axes._subplots.AxesSubplot at 0x1a20e91978>"
      ]
     },
     "execution_count": 22,
     "metadata": {},
     "output_type": "execute_result"
    },
    {
     "data": {
      "image/png": "[encoded data removed]",
      "text/plain": [
       "<Figure size 432x288 with 1 Axes>"
      ]
     },
     "metadata": {
      "needs_background": "light"
     },
     "output_type": "display_data"
    }
   ],
   "source": [
    "cph.plot()"
   ]
  },
  {
   "cell_type": "code",
   "execution_count": 23,
   "metadata": {
    "colab": {
     "base_uri": "https://localhost:8080/",
     "height": 1367
    },
    "colab_type": "code",
    "id": "Py4DYu_XsgyU",
    "outputId": "96a4ce6f-afdd-4eb7-e071-bc69a8eff7ff"
   },
   "outputs": [
    {
     "data": {
      "text/html": [
       "<div>\n",
       "<style scoped>\n",
       "    .dataframe tbody tr th:only-of-type {\n",
       "        vertical-align: middle;\n",
       "    }\n",
       "\n",
       "    .dataframe tbody tr th {\n",
       "        vertical-align: top;\n",
       "    }\n",
       "\n",
       "    .dataframe thead th {\n",
       "        text-align: right;\n",
       "    }\n",
       "</style>\n",
       "<table border=\"1\" class=\"dataframe\">\n",
       "  <thead>\n",
       "    <tr style=\"text-align: right;\">\n",
       "      <th></th>\n",
       "      <th>logWBC</th>\n",
       "      <th>Rx</th>\n",
       "    </tr>\n",
       "  </thead>\n",
       "  <tbody>\n",
       "    <tr>\n",
       "      <th>34</th>\n",
       "      <td>0.426727</td>\n",
       "      <td>0.337062</td>\n",
       "    </tr>\n",
       "    <tr>\n",
       "      <th>17</th>\n",
       "      <td>0.009454</td>\n",
       "      <td>0.022002</td>\n",
       "    </tr>\n",
       "    <tr>\n",
       "      <th>18</th>\n",
       "      <td>-1.017077</td>\n",
       "      <td>-0.518252</td>\n",
       "    </tr>\n",
       "    <tr>\n",
       "      <th>20</th>\n",
       "      <td>-0.074253</td>\n",
       "      <td>-0.459456</td>\n",
       "    </tr>\n",
       "    <tr>\n",
       "      <th>16</th>\n",
       "      <td>0.074935</td>\n",
       "      <td>-0.047861</td>\n",
       "    </tr>\n",
       "    <tr>\n",
       "      <th>29</th>\n",
       "      <td>0.362845</td>\n",
       "      <td>-0.013866</td>\n",
       "    </tr>\n",
       "    <tr>\n",
       "      <th>30</th>\n",
       "      <td>0.212283</td>\n",
       "      <td>0.116682</td>\n",
       "    </tr>\n",
       "    <tr>\n",
       "      <th>31</th>\n",
       "      <td>-0.386970</td>\n",
       "      <td>0.236943</td>\n",
       "    </tr>\n",
       "    <tr>\n",
       "      <th>15</th>\n",
       "      <td>0.079720</td>\n",
       "      <td>0.161875</td>\n",
       "    </tr>\n",
       "    <tr>\n",
       "      <th>13</th>\n",
       "      <td>0.091508</td>\n",
       "      <td>0.141663</td>\n",
       "    </tr>\n",
       "    <tr>\n",
       "      <th>14</th>\n",
       "      <td>0.079838</td>\n",
       "      <td>-0.492455</td>\n",
       "    </tr>\n",
       "    <tr>\n",
       "      <th>12</th>\n",
       "      <td>0.115002</td>\n",
       "      <td>0.160514</td>\n",
       "    </tr>\n",
       "    <tr>\n",
       "      <th>27</th>\n",
       "      <td>-0.147939</td>\n",
       "      <td>-0.328881</td>\n",
       "    </tr>\n",
       "    <tr>\n",
       "      <th>28</th>\n",
       "      <td>-0.303479</td>\n",
       "      <td>0.109601</td>\n",
       "    </tr>\n",
       "    <tr>\n",
       "      <th>25</th>\n",
       "      <td>-0.996017</td>\n",
       "      <td>0.167586</td>\n",
       "    </tr>\n",
       "    <tr>\n",
       "      <th>26</th>\n",
       "      <td>0.023085</td>\n",
       "      <td>-0.207186</td>\n",
       "    </tr>\n",
       "    <tr>\n",
       "      <th>11</th>\n",
       "      <td>0.182529</td>\n",
       "      <td>0.020503</td>\n",
       "    </tr>\n",
       "    <tr>\n",
       "      <th>24</th>\n",
       "      <td>0.134259</td>\n",
       "      <td>-0.068184</td>\n",
       "    </tr>\n",
       "    <tr>\n",
       "      <th>9</th>\n",
       "      <td>0.306262</td>\n",
       "      <td>0.344271</td>\n",
       "    </tr>\n",
       "    <tr>\n",
       "      <th>23</th>\n",
       "      <td>-0.171575</td>\n",
       "      <td>-0.481631</td>\n",
       "    </tr>\n",
       "    <tr>\n",
       "      <th>8</th>\n",
       "      <td>0.376521</td>\n",
       "      <td>0.382671</td>\n",
       "    </tr>\n",
       "    <tr>\n",
       "      <th>22</th>\n",
       "      <td>0.185337</td>\n",
       "      <td>-0.429448</td>\n",
       "    </tr>\n",
       "    <tr>\n",
       "      <th>40</th>\n",
       "      <td>-1.624796</td>\n",
       "      <td>0.097108</td>\n",
       "    </tr>\n",
       "    <tr>\n",
       "      <th>41</th>\n",
       "      <td>0.241251</td>\n",
       "      <td>0.047132</td>\n",
       "    </tr>\n",
       "    <tr>\n",
       "      <th>38</th>\n",
       "      <td>0.214550</td>\n",
       "      <td>0.045380</td>\n",
       "    </tr>\n",
       "    <tr>\n",
       "      <th>39</th>\n",
       "      <td>0.326342</td>\n",
       "      <td>0.095987</td>\n",
       "    </tr>\n",
       "    <tr>\n",
       "      <th>37</th>\n",
       "      <td>0.263676</td>\n",
       "      <td>0.165380</td>\n",
       "    </tr>\n",
       "    <tr>\n",
       "      <th>35</th>\n",
       "      <td>0.120248</td>\n",
       "      <td>0.031347</td>\n",
       "    </tr>\n",
       "    <tr>\n",
       "      <th>36</th>\n",
       "      <td>-0.704047</td>\n",
       "      <td>0.518576</td>\n",
       "    </tr>\n",
       "    <tr>\n",
       "      <th>33</th>\n",
       "      <td>0.262159</td>\n",
       "      <td>0.256192</td>\n",
       "    </tr>\n",
       "    <tr>\n",
       "      <th>19</th>\n",
       "      <td>0.038438</td>\n",
       "      <td>0.478888</td>\n",
       "    </tr>\n",
       "    <tr>\n",
       "      <th>32</th>\n",
       "      <td>0.479277</td>\n",
       "      <td>0.031551</td>\n",
       "    </tr>\n",
       "    <tr>\n",
       "      <th>10</th>\n",
       "      <td>0.249152</td>\n",
       "      <td>0.449203</td>\n",
       "    </tr>\n",
       "    <tr>\n",
       "      <th>7</th>\n",
       "      <td>0.219107</td>\n",
       "      <td>0.063538</td>\n",
       "    </tr>\n",
       "    <tr>\n",
       "      <th>6</th>\n",
       "      <td>0.329220</td>\n",
       "      <td>-0.035342</td>\n",
       "    </tr>\n",
       "    <tr>\n",
       "      <th>5</th>\n",
       "      <td>0.453363</td>\n",
       "      <td>0.028966</td>\n",
       "    </tr>\n",
       "    <tr>\n",
       "      <th>21</th>\n",
       "      <td>0.346306</td>\n",
       "      <td>0.117375</td>\n",
       "    </tr>\n",
       "    <tr>\n",
       "      <th>4</th>\n",
       "      <td>0.294691</td>\n",
       "      <td>0.100191</td>\n",
       "    </tr>\n",
       "    <tr>\n",
       "      <th>2</th>\n",
       "      <td>0.220840</td>\n",
       "      <td>0.175433</td>\n",
       "    </tr>\n",
       "    <tr>\n",
       "      <th>3</th>\n",
       "      <td>-0.017192</td>\n",
       "      <td>0.272434</td>\n",
       "    </tr>\n",
       "    <tr>\n",
       "      <th>1</th>\n",
       "      <td>0.277180</td>\n",
       "      <td>0.066262</td>\n",
       "    </tr>\n",
       "    <tr>\n",
       "      <th>0</th>\n",
       "      <td>0.275053</td>\n",
       "      <td>0.064517</td>\n",
       "    </tr>\n",
       "  </tbody>\n",
       "</table>\n",
       "</div>"
      ],
      "text/plain": [
       "      logWBC        Rx\n",
       "34  0.426727  0.337062\n",
       "17  0.009454  0.022002\n",
       "18 -1.017077 -0.518252\n",
       "20 -0.074253 -0.459456\n",
       "16  0.074935 -0.047861\n",
       "29  0.362845 -0.013866\n",
       "30  0.212283  0.116682\n",
       "31 -0.386970  0.236943\n",
       "15  0.079720  0.161875\n",
       "13  0.091508  0.141663\n",
       "14  0.079838 -0.492455\n",
       "12  0.115002  0.160514\n",
       "27 -0.147939 -0.328881\n",
       "28 -0.303479  0.109601\n",
       "25 -0.996017  0.167586\n",
       "26  0.023085 -0.207186\n",
       "11  0.182529  0.020503\n",
       "24  0.134259 -0.068184\n",
       "9   0.306262  0.344271\n",
       "23 -0.171575 -0.481631\n",
       "8   0.376521  0.382671\n",
       "22  0.185337 -0.429448\n",
       "40 -1.624796  0.097108\n",
       "41  0.241251  0.047132\n",
       "38  0.214550  0.045380\n",
       "39  0.326342  0.095987\n",
       "37  0.263676  0.165380\n",
       "35  0.120248  0.031347\n",
       "36 -0.704047  0.518576\n",
       "33  0.262159  0.256192\n",
       "19  0.038438  0.478888\n",
       "32  0.479277  0.031551\n",
       "10  0.249152  0.449203\n",
       "7   0.219107  0.063538\n",
       "6   0.329220 -0.035342\n",
       "5   0.453363  0.028966\n",
       "21  0.346306  0.117375\n",
       "4   0.294691  0.100191\n",
       "2   0.220840  0.175433\n",
       "3  -0.017192  0.272434\n",
       "1   0.277180  0.066262\n",
       "0   0.275053  0.064517"
      ]
     },
     "execution_count": 23,
     "metadata": {},
     "output_type": "execute_result"
    }
   ],
   "source": [
    "cph.compute_residuals(leukemia, kind='score')"
   ]
  },
  {
   "cell_type": "code",
   "execution_count": 24,
   "metadata": {
    "colab": {
     "base_uri": "https://localhost:8080/",
     "height": 802
    },
    "colab_type": "code",
    "id": "LMN1uGnQsgyY",
    "outputId": "de3b9044-119a-4c85-b770-0b55713b6155"
   },
   "outputs": [
    {
     "data": {
      "text/html": [
       "<div>\n",
       "<style scoped>\n",
       "    .dataframe tbody tr th:only-of-type {\n",
       "        vertical-align: middle;\n",
       "    }\n",
       "\n",
       "    .dataframe tbody tr th {\n",
       "        vertical-align: top;\n",
       "    }\n",
       "\n",
       "    .dataframe thead th {\n",
       "        text-align: right;\n",
       "    }\n",
       "</style>\n",
       "<table border=\"1\" class=\"dataframe\">\n",
       "  <thead>\n",
       "    <tr style=\"text-align: right;\">\n",
       "      <th></th>\n",
       "      <th>0</th>\n",
       "      <th>1</th>\n",
       "      <th>2</th>\n",
       "      <th>3</th>\n",
       "      <th>4</th>\n",
       "    </tr>\n",
       "  </thead>\n",
       "  <tbody>\n",
       "    <tr>\n",
       "      <th>1.0</th>\n",
       "      <td>0.001231</td>\n",
       "      <td>0.001268</td>\n",
       "      <td>0.003663</td>\n",
       "      <td>0.005919</td>\n",
       "      <td>0.001989</td>\n",
       "    </tr>\n",
       "    <tr>\n",
       "      <th>2.0</th>\n",
       "      <td>0.002998</td>\n",
       "      <td>0.003086</td>\n",
       "      <td>0.008919</td>\n",
       "      <td>0.014410</td>\n",
       "      <td>0.004844</td>\n",
       "    </tr>\n",
       "    <tr>\n",
       "      <th>3.0</th>\n",
       "      <td>0.005017</td>\n",
       "      <td>0.005165</td>\n",
       "      <td>0.014925</td>\n",
       "      <td>0.024114</td>\n",
       "      <td>0.008105</td>\n",
       "    </tr>\n",
       "    <tr>\n",
       "      <th>4.0</th>\n",
       "      <td>0.010236</td>\n",
       "      <td>0.010538</td>\n",
       "      <td>0.030452</td>\n",
       "      <td>0.049199</td>\n",
       "      <td>0.016537</td>\n",
       "    </tr>\n",
       "    <tr>\n",
       "      <th>5.0</th>\n",
       "      <td>0.015623</td>\n",
       "      <td>0.016084</td>\n",
       "      <td>0.046479</td>\n",
       "      <td>0.075091</td>\n",
       "      <td>0.025241</td>\n",
       "    </tr>\n",
       "    <tr>\n",
       "      <th>6.0</th>\n",
       "      <td>0.023143</td>\n",
       "      <td>0.023826</td>\n",
       "      <td>0.068850</td>\n",
       "      <td>0.111234</td>\n",
       "      <td>0.037390</td>\n",
       "    </tr>\n",
       "    <tr>\n",
       "      <th>7.0</th>\n",
       "      <td>0.023143</td>\n",
       "      <td>0.023826</td>\n",
       "      <td>0.068850</td>\n",
       "      <td>0.111234</td>\n",
       "      <td>0.037390</td>\n",
       "    </tr>\n",
       "    <tr>\n",
       "      <th>8.0</th>\n",
       "      <td>0.034436</td>\n",
       "      <td>0.035452</td>\n",
       "      <td>0.102447</td>\n",
       "      <td>0.165514</td>\n",
       "      <td>0.055635</td>\n",
       "    </tr>\n",
       "    <tr>\n",
       "      <th>9.0</th>\n",
       "      <td>0.034436</td>\n",
       "      <td>0.035452</td>\n",
       "      <td>0.102447</td>\n",
       "      <td>0.165514</td>\n",
       "      <td>0.055635</td>\n",
       "    </tr>\n",
       "    <tr>\n",
       "      <th>10.0</th>\n",
       "      <td>0.034436</td>\n",
       "      <td>0.035452</td>\n",
       "      <td>0.102447</td>\n",
       "      <td>0.165514</td>\n",
       "      <td>0.055635</td>\n",
       "    </tr>\n",
       "    <tr>\n",
       "      <th>11.0</th>\n",
       "      <td>0.034436</td>\n",
       "      <td>0.035452</td>\n",
       "      <td>0.102447</td>\n",
       "      <td>0.165514</td>\n",
       "      <td>0.055635</td>\n",
       "    </tr>\n",
       "    <tr>\n",
       "      <th>12.0</th>\n",
       "      <td>0.034436</td>\n",
       "      <td>0.035452</td>\n",
       "      <td>0.102447</td>\n",
       "      <td>0.165514</td>\n",
       "      <td>0.055635</td>\n",
       "    </tr>\n",
       "    <tr>\n",
       "      <th>13.0</th>\n",
       "      <td>0.034436</td>\n",
       "      <td>0.035452</td>\n",
       "      <td>0.102447</td>\n",
       "      <td>0.165514</td>\n",
       "      <td>0.055635</td>\n",
       "    </tr>\n",
       "    <tr>\n",
       "      <th>15.0</th>\n",
       "      <td>0.034436</td>\n",
       "      <td>0.035452</td>\n",
       "      <td>0.102447</td>\n",
       "      <td>0.165514</td>\n",
       "      <td>0.055635</td>\n",
       "    </tr>\n",
       "    <tr>\n",
       "      <th>16.0</th>\n",
       "      <td>0.054096</td>\n",
       "      <td>0.055692</td>\n",
       "      <td>0.160935</td>\n",
       "      <td>0.260006</td>\n",
       "      <td>0.087397</td>\n",
       "    </tr>\n",
       "    <tr>\n",
       "      <th>17.0</th>\n",
       "      <td>0.054096</td>\n",
       "      <td>0.055692</td>\n",
       "      <td>0.160935</td>\n",
       "      <td>0.260006</td>\n",
       "      <td>0.087397</td>\n",
       "    </tr>\n",
       "    <tr>\n",
       "      <th>19.0</th>\n",
       "      <td>0.054096</td>\n",
       "      <td>0.055692</td>\n",
       "      <td>0.160935</td>\n",
       "      <td>0.260006</td>\n",
       "      <td>0.087397</td>\n",
       "    </tr>\n",
       "    <tr>\n",
       "      <th>20.0</th>\n",
       "      <td>0.054096</td>\n",
       "      <td>0.055692</td>\n",
       "      <td>0.160935</td>\n",
       "      <td>0.260006</td>\n",
       "      <td>0.087397</td>\n",
       "    </tr>\n",
       "    <tr>\n",
       "      <th>22.0</th>\n",
       "      <td>0.092795</td>\n",
       "      <td>0.095533</td>\n",
       "      <td>0.276065</td>\n",
       "      <td>0.446010</td>\n",
       "      <td>0.149920</td>\n",
       "    </tr>\n",
       "    <tr>\n",
       "      <th>23.0</th>\n",
       "      <td>0.182488</td>\n",
       "      <td>0.187871</td>\n",
       "      <td>0.542900</td>\n",
       "      <td>0.877109</td>\n",
       "      <td>0.294828</td>\n",
       "    </tr>\n",
       "    <tr>\n",
       "      <th>25.0</th>\n",
       "      <td>0.182488</td>\n",
       "      <td>0.187871</td>\n",
       "      <td>0.542900</td>\n",
       "      <td>0.877109</td>\n",
       "      <td>0.294828</td>\n",
       "    </tr>\n",
       "    <tr>\n",
       "      <th>32.0</th>\n",
       "      <td>0.182488</td>\n",
       "      <td>0.187871</td>\n",
       "      <td>0.542900</td>\n",
       "      <td>0.877109</td>\n",
       "      <td>0.294828</td>\n",
       "    </tr>\n",
       "    <tr>\n",
       "      <th>34.0</th>\n",
       "      <td>0.182488</td>\n",
       "      <td>0.187871</td>\n",
       "      <td>0.542900</td>\n",
       "      <td>0.877109</td>\n",
       "      <td>0.294828</td>\n",
       "    </tr>\n",
       "    <tr>\n",
       "      <th>35.0</th>\n",
       "      <td>0.182488</td>\n",
       "      <td>0.187871</td>\n",
       "      <td>0.542900</td>\n",
       "      <td>0.877109</td>\n",
       "      <td>0.294828</td>\n",
       "    </tr>\n",
       "  </tbody>\n",
       "</table>\n",
       "</div>"
      ],
      "text/plain": [
       "             0         1         2         3         4\n",
       "1.0   0.001231  0.001268  0.003663  0.005919  0.001989\n",
       "2.0   0.002998  0.003086  0.008919  0.014410  0.004844\n",
       "3.0   0.005017  0.005165  0.014925  0.024114  0.008105\n",
       "4.0   0.010236  0.010538  0.030452  0.049199  0.016537\n",
       "5.0   0.015623  0.016084  0.046479  0.075091  0.025241\n",
       "6.0   0.023143  0.023826  0.068850  0.111234  0.037390\n",
       "7.0   0.023143  0.023826  0.068850  0.111234  0.037390\n",
       "8.0   0.034436  0.035452  0.102447  0.165514  0.055635\n",
       "9.0   0.034436  0.035452  0.102447  0.165514  0.055635\n",
       "10.0  0.034436  0.035452  0.102447  0.165514  0.055635\n",
       "11.0  0.034436  0.035452  0.102447  0.165514  0.055635\n",
       "12.0  0.034436  0.035452  0.102447  0.165514  0.055635\n",
       "13.0  0.034436  0.035452  0.102447  0.165514  0.055635\n",
       "15.0  0.034436  0.035452  0.102447  0.165514  0.055635\n",
       "16.0  0.054096  0.055692  0.160935  0.260006  0.087397\n",
       "17.0  0.054096  0.055692  0.160935  0.260006  0.087397\n",
       "19.0  0.054096  0.055692  0.160935  0.260006  0.087397\n",
       "20.0  0.054096  0.055692  0.160935  0.260006  0.087397\n",
       "22.0  0.092795  0.095533  0.276065  0.446010  0.149920\n",
       "23.0  0.182488  0.187871  0.542900  0.877109  0.294828\n",
       "25.0  0.182488  0.187871  0.542900  0.877109  0.294828\n",
       "32.0  0.182488  0.187871  0.542900  0.877109  0.294828\n",
       "34.0  0.182488  0.187871  0.542900  0.877109  0.294828\n",
       "35.0  0.182488  0.187871  0.542900  0.877109  0.294828"
      ]
     },
     "execution_count": 24,
     "metadata": {},
     "output_type": "execute_result"
    }
   ],
   "source": [
    "cph.predict_cumulative_hazard(leukemia[:5])"
   ]
  },
  {
   "cell_type": "code",
   "execution_count": 25,
   "metadata": {
    "colab": {
     "base_uri": "https://localhost:8080/",
     "height": 536
    },
    "colab_type": "code",
    "id": "bs_Npp6osgyc",
    "outputId": "8548bbfa-1576-4bea-d612-46b0ab86d7e6"
   },
   "outputs": [
    {
     "data": {
      "text/html": [
       "<div>\n",
       "<style scoped>\n",
       "    .dataframe tbody tr th:only-of-type {\n",
       "        vertical-align: middle;\n",
       "    }\n",
       "\n",
       "    .dataframe tbody tr th {\n",
       "        vertical-align: top;\n",
       "    }\n",
       "\n",
       "    .dataframe thead th {\n",
       "        text-align: right;\n",
       "    }\n",
       "</style>\n",
       "<table border=\"1\" class=\"dataframe\">\n",
       "  <thead>\n",
       "    <tr style=\"text-align: right;\">\n",
       "      <th></th>\n",
       "      <th>0</th>\n",
       "    </tr>\n",
       "  </thead>\n",
       "  <tbody>\n",
       "    <tr>\n",
       "      <th>0</th>\n",
       "      <td>31.141527</td>\n",
       "    </tr>\n",
       "    <tr>\n",
       "      <th>1</th>\n",
       "      <td>31.063377</td>\n",
       "    </tr>\n",
       "    <tr>\n",
       "      <th>2</th>\n",
       "      <td>26.570826</td>\n",
       "    </tr>\n",
       "    <tr>\n",
       "      <th>3</th>\n",
       "      <td>23.308517</td>\n",
       "    </tr>\n",
       "    <tr>\n",
       "      <th>4</th>\n",
       "      <td>29.577589</td>\n",
       "    </tr>\n",
       "  </tbody>\n",
       "</table>\n",
       "</div>"
      ],
      "text/plain": [
       "           0\n",
       "0  31.141527\n",
       "1  31.063377\n",
       "2  26.570826\n",
       "3  23.308517\n",
       "4  29.577589"
      ]
     },
     "execution_count": 25,
     "metadata": {},
     "output_type": "execute_result"
    },
    {
     "data": {
      "image/png": "[encoded data removed]",
      "text/plain": [
       "<Figure size 432x288 with 1 Axes>"
      ]
     },
     "metadata": {
      "needs_background": "light"
     },
     "output_type": "display_data"
    }
   ],
   "source": [
    "surv_func = cph.predict_survival_function(leukemia[:5])\n",
    "\n",
    "exp_lifetime = cph.predict_expectation(leukemia[:5])\n",
    "\n",
    "plt.plot(surv_func)\n",
    "\n",
    "exp_lifetime"
   ]
  },
  {
   "cell_type": "code",
   "execution_count": 26,
   "metadata": {
    "colab": {
     "base_uri": "https://localhost:8080/",
     "height": 206
    },
    "colab_type": "code",
    "id": "z7NNzQ_5sgyh",
    "outputId": "d8e0f130-4fd9-4ee8-c925-42b225fd885a"
   },
   "outputs": [
    {
     "data": {
      "text/html": [
       "<div>\n",
       "<style scoped>\n",
       "    .dataframe tbody tr th:only-of-type {\n",
       "        vertical-align: middle;\n",
       "    }\n",
       "\n",
       "    .dataframe tbody tr th {\n",
       "        vertical-align: top;\n",
       "    }\n",
       "\n",
       "    .dataframe thead th {\n",
       "        text-align: right;\n",
       "    }\n",
       "</style>\n",
       "<table border=\"1\" class=\"dataframe\">\n",
       "  <thead>\n",
       "    <tr style=\"text-align: right;\">\n",
       "      <th></th>\n",
       "      <th>week</th>\n",
       "      <th>arrest</th>\n",
       "      <th>fin</th>\n",
       "      <th>age</th>\n",
       "      <th>race</th>\n",
       "      <th>wexp</th>\n",
       "      <th>mar</th>\n",
       "      <th>paro</th>\n",
       "      <th>prio</th>\n",
       "    </tr>\n",
       "  </thead>\n",
       "  <tbody>\n",
       "    <tr>\n",
       "      <th>0</th>\n",
       "      <td>20</td>\n",
       "      <td>1</td>\n",
       "      <td>0</td>\n",
       "      <td>27</td>\n",
       "      <td>1</td>\n",
       "      <td>0</td>\n",
       "      <td>0</td>\n",
       "      <td>1</td>\n",
       "      <td>3</td>\n",
       "    </tr>\n",
       "    <tr>\n",
       "      <th>1</th>\n",
       "      <td>17</td>\n",
       "      <td>1</td>\n",
       "      <td>0</td>\n",
       "      <td>18</td>\n",
       "      <td>1</td>\n",
       "      <td>0</td>\n",
       "      <td>0</td>\n",
       "      <td>1</td>\n",
       "      <td>8</td>\n",
       "    </tr>\n",
       "    <tr>\n",
       "      <th>2</th>\n",
       "      <td>25</td>\n",
       "      <td>1</td>\n",
       "      <td>0</td>\n",
       "      <td>19</td>\n",
       "      <td>0</td>\n",
       "      <td>1</td>\n",
       "      <td>0</td>\n",
       "      <td>1</td>\n",
       "      <td>13</td>\n",
       "    </tr>\n",
       "    <tr>\n",
       "      <th>3</th>\n",
       "      <td>52</td>\n",
       "      <td>0</td>\n",
       "      <td>1</td>\n",
       "      <td>23</td>\n",
       "      <td>1</td>\n",
       "      <td>1</td>\n",
       "      <td>1</td>\n",
       "      <td>1</td>\n",
       "      <td>1</td>\n",
       "    </tr>\n",
       "    <tr>\n",
       "      <th>4</th>\n",
       "      <td>52</td>\n",
       "      <td>0</td>\n",
       "      <td>0</td>\n",
       "      <td>19</td>\n",
       "      <td>0</td>\n",
       "      <td>1</td>\n",
       "      <td>0</td>\n",
       "      <td>1</td>\n",
       "      <td>3</td>\n",
       "    </tr>\n",
       "  </tbody>\n",
       "</table>\n",
       "</div>"
      ],
      "text/plain": [
       "   week  arrest  fin  age  race  wexp  mar  paro  prio\n",
       "0    20       1    0   27     1     0    0     1     3\n",
       "1    17       1    0   18     1     0    0     1     8\n",
       "2    25       1    0   19     0     1    0     1    13\n",
       "3    52       0    1   23     1     1    1     1     1\n",
       "4    52       0    0   19     0     1    0     1     3"
      ]
     },
     "execution_count": 26,
     "metadata": {},
     "output_type": "execute_result"
    }
   ],
   "source": [
    "# lifelines comes with some datasets to get you started playing around with it\n",
    "# The Rossi dataset originally comes from Rossi et al. (1980), \n",
    "# and is used as an example in Allison (1995). \n",
    "\n",
    "# The data pertain to 432 convicts who were released from Maryland state prisons \n",
    "# in the 1970s and who were followed up for one year after release. Half the \n",
    "# released convicts were assigned at random to an experimental treatment in \n",
    "# which they were given financial aid; half did not receive aid.\n",
    "\n",
    "from lifelines.datasets import load_rossi\n",
    "recidivism = load_rossi()\n",
    "\n",
    "recidivism.head()\n",
    "\n",
    "# Looking at the Rossi dataset, how long do you think the study lasted?\n",
    "\n",
    "# All features are coded with numerical values, but which features do you think \n",
    "# are actually categorical?"
   ]
  },
  {
   "cell_type": "code",
   "execution_count": 27,
   "metadata": {
    "colab": {
     "base_uri": "https://localhost:8080/",
     "height": 260
    },
    "colab_type": "code",
    "id": "1VjqAV3ksgyk",
    "outputId": "fd682c6e-d613-44d8-f3cf-1340bdfc2764"
   },
   "outputs": [
    {
     "name": "stdout",
     "output_type": "stream",
     "text": [
      "<class 'pandas.core.frame.DataFrame'>\n",
      "RangeIndex: 432 entries, 0 to 431\n",
      "Data columns (total 9 columns):\n",
      "week      432 non-null int64\n",
      "arrest    432 non-null int64\n",
      "fin       432 non-null int64\n",
      "age       432 non-null int64\n",
      "race      432 non-null int64\n",
      "wexp      432 non-null int64\n",
      "mar       432 non-null int64\n",
      "paro      432 non-null int64\n",
      "prio      432 non-null int64\n",
      "dtypes: int64(9)\n",
      "memory usage: 30.5 KB\n"
     ]
    }
   ],
   "source": [
    "recidivism.info()"
   ]
  },
  {
   "cell_type": "code",
   "execution_count": 28,
   "metadata": {
    "colab": {
     "base_uri": "https://localhost:8080/",
     "height": 300
    },
    "colab_type": "code",
    "id": "LVq_ZOFgsgyq",
    "outputId": "2f893d4a-d2a2-462c-85b2-84c6c56c2da4"
   },
   "outputs": [
    {
     "data": {
      "text/html": [
       "<div>\n",
       "<style scoped>\n",
       "    .dataframe tbody tr th:only-of-type {\n",
       "        vertical-align: middle;\n",
       "    }\n",
       "\n",
       "    .dataframe tbody tr th {\n",
       "        vertical-align: top;\n",
       "    }\n",
       "\n",
       "    .dataframe thead th {\n",
       "        text-align: right;\n",
       "    }\n",
       "</style>\n",
       "<table border=\"1\" class=\"dataframe\">\n",
       "  <thead>\n",
       "    <tr style=\"text-align: right;\">\n",
       "      <th></th>\n",
       "      <th>week</th>\n",
       "      <th>arrest</th>\n",
       "      <th>fin</th>\n",
       "      <th>age</th>\n",
       "      <th>race</th>\n",
       "      <th>wexp</th>\n",
       "      <th>mar</th>\n",
       "      <th>paro</th>\n",
       "      <th>prio</th>\n",
       "    </tr>\n",
       "  </thead>\n",
       "  <tbody>\n",
       "    <tr>\n",
       "      <th>count</th>\n",
       "      <td>432.000000</td>\n",
       "      <td>432.000000</td>\n",
       "      <td>432.00000</td>\n",
       "      <td>432.000000</td>\n",
       "      <td>432.000000</td>\n",
       "      <td>432.000000</td>\n",
       "      <td>432.000000</td>\n",
       "      <td>432.000000</td>\n",
       "      <td>432.000000</td>\n",
       "    </tr>\n",
       "    <tr>\n",
       "      <th>mean</th>\n",
       "      <td>45.854167</td>\n",
       "      <td>0.263889</td>\n",
       "      <td>0.50000</td>\n",
       "      <td>24.597222</td>\n",
       "      <td>0.877315</td>\n",
       "      <td>0.571759</td>\n",
       "      <td>0.122685</td>\n",
       "      <td>0.618056</td>\n",
       "      <td>2.983796</td>\n",
       "    </tr>\n",
       "    <tr>\n",
       "      <th>std</th>\n",
       "      <td>12.662293</td>\n",
       "      <td>0.441251</td>\n",
       "      <td>0.50058</td>\n",
       "      <td>6.113375</td>\n",
       "      <td>0.328456</td>\n",
       "      <td>0.495398</td>\n",
       "      <td>0.328456</td>\n",
       "      <td>0.486426</td>\n",
       "      <td>2.896068</td>\n",
       "    </tr>\n",
       "    <tr>\n",
       "      <th>min</th>\n",
       "      <td>1.000000</td>\n",
       "      <td>0.000000</td>\n",
       "      <td>0.00000</td>\n",
       "      <td>17.000000</td>\n",
       "      <td>0.000000</td>\n",
       "      <td>0.000000</td>\n",
       "      <td>0.000000</td>\n",
       "      <td>0.000000</td>\n",
       "      <td>0.000000</td>\n",
       "    </tr>\n",
       "    <tr>\n",
       "      <th>25%</th>\n",
       "      <td>50.000000</td>\n",
       "      <td>0.000000</td>\n",
       "      <td>0.00000</td>\n",
       "      <td>20.000000</td>\n",
       "      <td>1.000000</td>\n",
       "      <td>0.000000</td>\n",
       "      <td>0.000000</td>\n",
       "      <td>0.000000</td>\n",
       "      <td>1.000000</td>\n",
       "    </tr>\n",
       "    <tr>\n",
       "      <th>50%</th>\n",
       "      <td>52.000000</td>\n",
       "      <td>0.000000</td>\n",
       "      <td>0.50000</td>\n",
       "      <td>23.000000</td>\n",
       "      <td>1.000000</td>\n",
       "      <td>1.000000</td>\n",
       "      <td>0.000000</td>\n",
       "      <td>1.000000</td>\n",
       "      <td>2.000000</td>\n",
       "    </tr>\n",
       "    <tr>\n",
       "      <th>75%</th>\n",
       "      <td>52.000000</td>\n",
       "      <td>1.000000</td>\n",
       "      <td>1.00000</td>\n",
       "      <td>27.000000</td>\n",
       "      <td>1.000000</td>\n",
       "      <td>1.000000</td>\n",
       "      <td>0.000000</td>\n",
       "      <td>1.000000</td>\n",
       "      <td>4.000000</td>\n",
       "    </tr>\n",
       "    <tr>\n",
       "      <th>max</th>\n",
       "      <td>52.000000</td>\n",
       "      <td>1.000000</td>\n",
       "      <td>1.00000</td>\n",
       "      <td>44.000000</td>\n",
       "      <td>1.000000</td>\n",
       "      <td>1.000000</td>\n",
       "      <td>1.000000</td>\n",
       "      <td>1.000000</td>\n",
       "      <td>18.000000</td>\n",
       "    </tr>\n",
       "  </tbody>\n",
       "</table>\n",
       "</div>"
      ],
      "text/plain": [
       "             week      arrest        fin         age        race        wexp  \\\n",
       "count  432.000000  432.000000  432.00000  432.000000  432.000000  432.000000   \n",
       "mean    45.854167    0.263889    0.50000   24.597222    0.877315    0.571759   \n",
       "std     12.662293    0.441251    0.50058    6.113375    0.328456    0.495398   \n",
       "min      1.000000    0.000000    0.00000   17.000000    0.000000    0.000000   \n",
       "25%     50.000000    0.000000    0.00000   20.000000    1.000000    0.000000   \n",
       "50%     52.000000    0.000000    0.50000   23.000000    1.000000    1.000000   \n",
       "75%     52.000000    1.000000    1.00000   27.000000    1.000000    1.000000   \n",
       "max     52.000000    1.000000    1.00000   44.000000    1.000000    1.000000   \n",
       "\n",
       "              mar        paro        prio  \n",
       "count  432.000000  432.000000  432.000000  \n",
       "mean     0.122685    0.618056    2.983796  \n",
       "std      0.328456    0.486426    2.896068  \n",
       "min      0.000000    0.000000    0.000000  \n",
       "25%      0.000000    0.000000    1.000000  \n",
       "50%      0.000000    1.000000    2.000000  \n",
       "75%      0.000000    1.000000    4.000000  \n",
       "max      1.000000    1.000000   18.000000  "
      ]
     },
     "execution_count": 28,
     "metadata": {},
     "output_type": "execute_result"
    }
   ],
   "source": [
    "recidivism.describe()"
   ]
  },
  {
   "cell_type": "markdown",
   "metadata": {
    "colab_type": "text",
    "id": "Wg1s1bpJsgyt"
   },
   "source": [
    "### These are the \"lifelines\" of the study participants as they attempt to avoid recidivism"
   ]
  },
  {
   "cell_type": "code",
   "execution_count": 29,
   "metadata": {
    "colab": {
     "base_uri": "https://localhost:8080/",
     "height": 376
    },
    "colab_type": "code",
    "id": "XqhPJfltsgyv",
    "outputId": "c6fa9349-34fe-4c0c-cb24-d7e02fdb24d5"
   },
   "outputs": [
    {
     "data": {
      "image/png": "[encoded data removed]",
      "text/plain": [
       "<Figure size 432x288 with 1 Axes>"
      ]
     },
     "metadata": {
      "needs_background": "light"
     },
     "output_type": "display_data"
    }
   ],
   "source": [
    "recidivism_sample = recidivism.sample(n=25)\n",
    "\n",
    "duration = recidivism_sample.week.values\n",
    "arrested = recidivism_sample.arrest.values\n",
    "\n",
    "ax = lifelines.plotting.plot_lifetimes(duration, event_observed=arrested)\n",
    "ax.set_xlim(0, 78)\n",
    "ax.grid(axis='x')\n",
    "ax.vlines(52, 0, 25, lw=2, linestyles='--')\n",
    "ax.set_xlabel(\"Time in Weeks\")\n",
    "ax.set_title(\"Recidivism Rates\");\n",
    "plt.plot();"
   ]
  },
  {
   "cell_type": "code",
   "execution_count": 30,
   "metadata": {
    "colab": {
     "base_uri": "https://localhost:8080/",
     "height": 34
    },
    "colab_type": "code",
    "id": "lz4mF5kHsgy1",
    "outputId": "4a0151be-2fbc-4748-db10-da7a3c4acf94"
   },
   "outputs": [
    {
     "data": {
      "text/plain": [
       "<lifelines.KaplanMeierFitter: fitted with 432 observations, 318 censored>"
      ]
     },
     "execution_count": 30,
     "metadata": {},
     "output_type": "execute_result"
    }
   ],
   "source": [
    "kmf = lifelines.KaplanMeierFitter()\n",
    "\n",
    "duration = recidivism.week\n",
    "arrested = recidivism.arrest\n",
    "\n",
    "kmf.fit(duration, arrested)"
   ]
  },
  {
   "cell_type": "code",
   "execution_count": 31,
   "metadata": {
    "colab": {
     "base_uri": "https://localhost:8080/",
     "height": 390
    },
    "colab_type": "code",
    "id": "RA1FMgDNsgy4",
    "outputId": "7393ed69-ecca-4961-a60c-f4c3e7123f40"
   },
   "outputs": [
    {
     "data": {
      "image/png": "[encoded data removed]",
      "text/plain": [
       "<Figure size 432x288 with 1 Axes>"
      ]
     },
     "metadata": {
      "needs_background": "light"
     },
     "output_type": "display_data"
    }
   ],
   "source": [
    "kmf.survival_function_.plot()\n",
    "plt.title('Survival Curve:\\nRecidivism of Recently Released Prisoners');"
   ]
  },
  {
   "cell_type": "code",
   "execution_count": 32,
   "metadata": {
    "colab": {
     "base_uri": "https://localhost:8080/",
     "height": 376
    },
    "colab_type": "code",
    "id": "PXveA6jesgy8",
    "outputId": "1171a85f-1fdb-4d79-a742-63c444abb7be"
   },
   "outputs": [
    {
     "data": {
      "image/png": "[encoded data removed]",
      "text/plain": [
       "<Figure size 432x288 with 1 Axes>"
      ]
     },
     "metadata": {
      "needs_background": "light"
     },
     "output_type": "display_data"
    }
   ],
   "source": [
    "kmf.plot()\n",
    "plt.title('Survival Function of Recidivism Data');"
   ]
  },
  {
   "cell_type": "code",
   "execution_count": 33,
   "metadata": {
    "colab": {
     "base_uri": "https://localhost:8080/",
     "height": 34
    },
    "colab_type": "code",
    "id": "Mt3ucIbgsgzB",
    "outputId": "f92e392f-c9d9-466b-a212-db6c4344f1d1"
   },
   "outputs": [
    {
     "name": "stdout",
     "output_type": "stream",
     "text": [
      "Median time before recidivism: inf weeks\n"
     ]
    }
   ],
   "source": [
    "print(f'Median time before recidivism: {kmf.median_} weeks')"
   ]
  },
  {
   "cell_type": "code",
   "execution_count": 34,
   "metadata": {
    "colab": {
     "base_uri": "https://localhost:8080/",
     "height": 376
    },
    "colab_type": "code",
    "id": "c9e5lAV7sgzH",
    "outputId": "3c5489df-d99b-4e8d-8246-4193603365a3"
   },
   "outputs": [
    {
     "data": {
      "image/png": "[encoded data removed]",
      "text/plain": [
       "<Figure size 432x288 with 1 Axes>"
      ]
     },
     "metadata": {
      "needs_background": "light"
     },
     "output_type": "display_data"
    }
   ],
   "source": [
    "kmf_w_aid = lifelines.KaplanMeierFitter()\n",
    "kmf_no_aid = lifelines.KaplanMeierFitter()\n",
    "\n",
    "ax = plt.subplot(111)\n",
    "\n",
    "w_aid = (recidivism['fin']==1)\n",
    "\n",
    "t = np.linspace(0, 70, 71)\n",
    "kmf_w_aid.fit(duration[w_aid], event_observed=arrested[w_aid], timeline=t, label=\"Received Financial Aid\")\n",
    "ax = kmf_w_aid.plot(ax=ax)\n",
    "#print(\"Median survival time of democratic:\", kmf.median_)\n",
    "\n",
    "kmf_no_aid.fit(duration[~w_aid], event_observed=arrested[~w_aid], timeline=t, label=\"No Financial Aid\")\n",
    "ax = kmf_no_aid.plot(ax=ax)\n",
    "#print(\"Median survival time of non-democratic:\", kmf.median_)\n",
    "\n",
    "plt.ylim(.5,1)\n",
    "plt.title(\"Recidivism for Participants Who Received Financial Aid \\vs. Those Who Did Not\");"
   ]
  },
  {
   "cell_type": "code",
   "execution_count": 35,
   "metadata": {
    "colab": {
     "base_uri": "https://localhost:8080/",
     "height": 500
    },
    "colab_type": "code",
    "id": "zdM4GOAOsgzN",
    "outputId": "a85fa30c-4695-4e93-ffa0-a15f84e733e8"
   },
   "outputs": [
    {
     "name": "stdout",
     "output_type": "stream",
     "text": [
      "          NA_estimate\n",
      "timeline             \n",
      "0.0          0.000000\n",
      "1.0          0.002315\n",
      "2.0          0.004635\n",
      "3.0          0.006961\n",
      "4.0          0.009292\n"
     ]
    },
    {
     "data": {
      "text/plain": [
       "<matplotlib.axes._subplots.AxesSubplot at 0x1a219b2710>"
      ]
     },
     "execution_count": 35,
     "metadata": {},
     "output_type": "execute_result"
    },
    {
     "data": {
      "image/png": "[encoded data removed]",
      "text/plain": [
       "<Figure size 432x288 with 1 Axes>"
      ]
     },
     "metadata": {
      "needs_background": "light"
     },
     "output_type": "display_data"
    }
   ],
   "source": [
    "naf = lifelines.NelsonAalenFitter()\n",
    "naf.fit(duration, arrested)\n",
    "\n",
    "print(naf.cumulative_hazard_.head())\n",
    "naf.plot()"
   ]
  },
  {
   "cell_type": "code",
   "execution_count": 36,
   "metadata": {
    "colab": {
     "base_uri": "https://localhost:8080/",
     "height": 403
    },
    "colab_type": "code",
    "id": "uJVPVtmYsgzR",
    "outputId": "e11867c7-9a27-4c1d-833c-d07e23ffcbd4"
   },
   "outputs": [
    {
     "data": {
      "image/png": "[encoded data removed]",
      "text/plain": [
       "<Figure size 432x288 with 1 Axes>"
      ]
     },
     "metadata": {
      "needs_background": "light"
     },
     "output_type": "display_data"
    }
   ],
   "source": [
    "naf_w_aid = lifelines.NelsonAalenFitter()\n",
    "naf_no_aid = lifelines.NelsonAalenFitter()\n",
    "\n",
    "naf_w_aid.fit(duration[w_aid], event_observed=arrested[w_aid], timeline=t, label=\"Received Financial Aid\")\n",
    "ax = naf_w_aid.plot(loc=slice(0, 50))\n",
    "naf_no_aid.fit(duration[~w_aid], event_observed=arrested[~w_aid], timeline=t, label=\"No Financial Aid\")\n",
    "ax = naf_no_aid.plot(ax=ax, loc=slice(0, 50))\n",
    "plt.title(\"Recidivism Cumulative Hazard\\nfor Participants Who Received Financial Aid \\nvs. Those Who Did Not\");\n",
    "plt.show()"
   ]
  },
  {
   "cell_type": "code",
   "execution_count": 37,
   "metadata": {
    "colab": {
     "base_uri": "https://localhost:8080/",
     "height": 503
    },
    "colab_type": "code",
    "id": "5KbuDkxjsgzV",
    "outputId": "986091a0-00af-4071-bb5a-2e3eefa81544"
   },
   "outputs": [
    {
     "name": "stdout",
     "output_type": "stream",
     "text": [
      "Iteration 1: norm_delta = 0.48337, step_size = 0.9500, ll = -675.38063, newton_decrement = 16.76434, seconds_since_start = 0.0\n",
      "Iteration 2: norm_delta = 0.13160, step_size = 0.9500, ll = -659.79004, newton_decrement = 0.99157, seconds_since_start = 0.0\n",
      "Iteration 3: norm_delta = 0.01712, step_size = 0.9500, ll = -658.76197, newton_decrement = 0.01422, seconds_since_start = 0.0\n",
      "Iteration 4: norm_delta = 0.00108, step_size = 1.0000, ll = -658.74771, newton_decrement = 0.00005, seconds_since_start = 0.0\n",
      "Iteration 5: norm_delta = 0.00000, step_size = 1.0000, ll = -658.74766, newton_decrement = 0.00000, seconds_since_start = 0.0\n",
      "Convergence completed after 5 iterations.\n",
      "<lifelines.CoxPHFitter: fitted with 432 observations, 318 censored>\n",
      "      duration col = 'week'\n",
      "         event col = 'arrest'\n",
      "number of subjects = 432\n",
      "  number of events = 114\n",
      "    log-likelihood = -658.75\n",
      "  time fit was run = 2019-02-26 23:52:37 UTC\n",
      "\n",
      "---\n",
      "      coef  exp(coef)  se(coef)     z      p  -log2(p)  lower 0.95  upper 0.95\n",
      "fin  -0.38       0.68      0.19 -1.98   0.05      4.40       -0.75       -0.00\n",
      "age  -0.06       0.94      0.02 -2.61   0.01      6.79       -0.10       -0.01\n",
      "race  0.31       1.37      0.31  1.02   0.31      1.70       -0.29        0.92\n",
      "wexp -0.15       0.86      0.21 -0.71   0.48      1.06       -0.57        0.27\n",
      "mar  -0.43       0.65      0.38 -1.14   0.26      1.97       -1.18        0.31\n",
      "paro -0.08       0.92      0.20 -0.43   0.66      0.59       -0.47        0.30\n",
      "prio  0.09       1.10      0.03  3.19 <0.005      9.48        0.04        0.15\n",
      "---\n",
      "Concordance = 0.64\n",
      "Log-likelihood ratio test = 33.27 on 7 df, -log2(p)=15.37\n"
     ]
    }
   ],
   "source": [
    "cph = lifelines.CoxPHFitter()\n",
    "cph.fit(recidivism, duration_col='week', event_col='arrest', show_progress=True)\n",
    "\n",
    "cph.print_summary()"
   ]
  },
  {
   "cell_type": "code",
   "execution_count": 38,
   "metadata": {
    "colab": {
     "base_uri": "https://localhost:8080/",
     "height": 378
    },
    "colab_type": "code",
    "id": "QoWVH0XDsgzX",
    "outputId": "c4635a1e-63e3-41ad-9d85-e6a2881d932f"
   },
   "outputs": [
    {
     "data": {
      "text/plain": [
       "<matplotlib.axes._subplots.AxesSubplot at 0x1a21b56da0>"
      ]
     },
     "execution_count": 38,
     "metadata": {},
     "output_type": "execute_result"
    },
    {
     "data": {
      "image/png": "[encoded data removed]",
      "text/plain": [
       "<Figure size 432x288 with 1 Axes>"
      ]
     },
     "metadata": {
      "needs_background": "light"
     },
     "output_type": "display_data"
    }
   ],
   "source": [
    "cph.plot()"
   ]
  },
  {
   "cell_type": "code",
   "execution_count": 39,
   "metadata": {
    "colab": {
     "base_uri": "https://localhost:8080/",
     "height": 378
    },
    "colab_type": "code",
    "id": "r8qPQeKVsgza",
    "outputId": "7fb32283-e088-43fe-d690-80f0a04e0db7"
   },
   "outputs": [
    {
     "data": {
      "text/plain": [
       "<matplotlib.axes._subplots.AxesSubplot at 0x1a2224b898>"
      ]
     },
     "execution_count": 39,
     "metadata": {},
     "output_type": "execute_result"
    },
    {
     "data": {
      "image/png": "[encoded data removed]",
      "text/plain": [
       "<Figure size 432x288 with 1 Axes>"
      ]
     },
     "metadata": {
      "needs_background": "light"
     },
     "output_type": "display_data"
    }
   ],
   "source": [
    "cph.plot_covariate_groups('fin', [0, 1])"
   ]
  },
  {
   "cell_type": "code",
   "execution_count": 40,
   "metadata": {
    "colab": {
     "base_uri": "https://localhost:8080/",
     "height": 378
    },
    "colab_type": "code",
    "id": "PPSlBmp-sgzc",
    "outputId": "2c8aeb86-0152-41ea-8321-a6f858f20f1d"
   },
   "outputs": [
    {
     "data": {
      "text/plain": [
       "<matplotlib.axes._subplots.AxesSubplot at 0x1a21b37d30>"
      ]
     },
     "execution_count": 40,
     "metadata": {},
     "output_type": "execute_result"
    },
    {
     "data": {
      "image/png": "[encoded data removed]",
      "text/plain": [
       "<Figure size 432x288 with 1 Axes>"
      ]
     },
     "metadata": {
      "needs_background": "light"
     },
     "output_type": "display_data"
    }
   ],
   "source": [
    "cph.plot_covariate_groups('prio', [0, 5, 10, 15])"
   ]
  },
  {
   "cell_type": "code",
   "execution_count": 41,
   "metadata": {
    "colab": {
     "base_uri": "https://localhost:8080/",
     "height": 206
    },
    "colab_type": "code",
    "id": "8H4IMry_sgzf",
    "outputId": "b7e4d43f-7d3b-4844-e7bc-3ebe2976342e"
   },
   "outputs": [
    {
     "data": {
      "text/html": [
       "<div>\n",
       "<style scoped>\n",
       "    .dataframe tbody tr th:only-of-type {\n",
       "        vertical-align: middle;\n",
       "    }\n",
       "\n",
       "    .dataframe tbody tr th {\n",
       "        vertical-align: top;\n",
       "    }\n",
       "\n",
       "    .dataframe thead th {\n",
       "        text-align: right;\n",
       "    }\n",
       "</style>\n",
       "<table border=\"1\" class=\"dataframe\">\n",
       "  <thead>\n",
       "    <tr style=\"text-align: right;\">\n",
       "      <th></th>\n",
       "      <th>week</th>\n",
       "      <th>arrest</th>\n",
       "      <th>martingale</th>\n",
       "    </tr>\n",
       "  </thead>\n",
       "  <tbody>\n",
       "    <tr>\n",
       "      <th>313</th>\n",
       "      <td>1.0</td>\n",
       "      <td>True</td>\n",
       "      <td>0.997048</td>\n",
       "    </tr>\n",
       "    <tr>\n",
       "      <th>100</th>\n",
       "      <td>2.0</td>\n",
       "      <td>True</td>\n",
       "      <td>0.998585</td>\n",
       "    </tr>\n",
       "    <tr>\n",
       "      <th>183</th>\n",
       "      <td>3.0</td>\n",
       "      <td>True</td>\n",
       "      <td>0.993959</td>\n",
       "    </tr>\n",
       "    <tr>\n",
       "      <th>416</th>\n",
       "      <td>4.0</td>\n",
       "      <td>True</td>\n",
       "      <td>0.987465</td>\n",
       "    </tr>\n",
       "    <tr>\n",
       "      <th>79</th>\n",
       "      <td>5.0</td>\n",
       "      <td>True</td>\n",
       "      <td>0.979341</td>\n",
       "    </tr>\n",
       "  </tbody>\n",
       "</table>\n",
       "</div>"
      ],
      "text/plain": [
       "     week  arrest  martingale\n",
       "313   1.0    True    0.997048\n",
       "100   2.0    True    0.998585\n",
       "183   3.0    True    0.993959\n",
       "416   4.0    True    0.987465\n",
       "79    5.0    True    0.979341"
      ]
     },
     "execution_count": 41,
     "metadata": {},
     "output_type": "execute_result"
    }
   ],
   "source": [
    "r = cph.compute_residuals(recidivism, 'martingale')\n",
    "r.head()"
   ]
  },
  {
   "cell_type": "code",
   "execution_count": 42,
   "metadata": {
    "colab": {
     "base_uri": "https://localhost:8080/",
     "height": 503
    },
    "colab_type": "code",
    "id": "4gi-OTLMsgzs",
    "outputId": "60c1ad75-7a54-4520-8171-3802f8cb7e57"
   },
   "outputs": [
    {
     "name": "stdout",
     "output_type": "stream",
     "text": [
      "Iteration 1: norm_delta = 0.48337, step_size = 0.9500, ll = -675.38063, newton_decrement = 16.76434, seconds_since_start = 0.0\n",
      "Iteration 2: norm_delta = 0.13160, step_size = 0.9500, ll = -659.79004, newton_decrement = 0.99157, seconds_since_start = 0.0\n",
      "Iteration 3: norm_delta = 0.01712, step_size = 0.9500, ll = -658.76197, newton_decrement = 0.01422, seconds_since_start = 0.0\n",
      "Iteration 4: norm_delta = 0.00108, step_size = 1.0000, ll = -658.74771, newton_decrement = 0.00005, seconds_since_start = 0.0\n",
      "Iteration 5: norm_delta = 0.00000, step_size = 1.0000, ll = -658.74766, newton_decrement = 0.00000, seconds_since_start = 0.0\n",
      "Convergence completed after 5 iterations.\n",
      "<lifelines.CoxPHFitter: fitted with 432 observations, 318 censored>\n",
      "      duration col = 'week'\n",
      "         event col = 'arrest'\n",
      "number of subjects = 432\n",
      "  number of events = 114\n",
      "    log-likelihood = -658.75\n",
      "  time fit was run = 2019-02-26 23:52:39 UTC\n",
      "\n",
      "---\n",
      "      coef  exp(coef)  se(coef)     z      p  -log2(p)  lower 0.95  upper 0.95\n",
      "fin  -0.38       0.68      0.19 -1.98   0.05      4.40       -0.75       -0.00\n",
      "age  -0.06       0.94      0.02 -2.61   0.01      6.79       -0.10       -0.01\n",
      "race  0.31       1.37      0.31  1.02   0.31      1.70       -0.29        0.92\n",
      "wexp -0.15       0.86      0.21 -0.71   0.48      1.06       -0.57        0.27\n",
      "mar  -0.43       0.65      0.38 -1.14   0.26      1.97       -1.18        0.31\n",
      "paro -0.08       0.92      0.20 -0.43   0.66      0.59       -0.47        0.30\n",
      "prio  0.09       1.10      0.03  3.19 <0.005      9.48        0.04        0.15\n",
      "---\n",
      "Concordance = 0.64\n",
      "Log-likelihood ratio test = 33.27 on 7 df, -log2(p)=15.37\n"
     ]
    }
   ],
   "source": [
    "cph = lifelines.CoxPHFitter()\n",
    "cph.fit(recidivism, duration_col='week', event_col='arrest', show_progress=True)\n",
    "\n",
    "cph.print_summary()"
   ]
  },
  {
   "cell_type": "code",
   "execution_count": 43,
   "metadata": {
    "colab": {
     "base_uri": "https://localhost:8080/",
     "height": 361
    },
    "colab_type": "code",
    "id": "ZNAc3sAVsgzv",
    "outputId": "5b2f5264-ba3e-42d8-9f88-34f9186ff19e"
   },
   "outputs": [
    {
     "data": {
      "image/png": "[encoded data removed]",
      "text/plain": [
       "<Figure size 432x288 with 1 Axes>"
      ]
     },
     "metadata": {
      "needs_background": "light"
     },
     "output_type": "display_data"
    }
   ],
   "source": [
    "cph.plot();"
   ]
  },
  {
   "cell_type": "code",
   "execution_count": 44,
   "metadata": {
    "colab": {
     "base_uri": "https://localhost:8080/",
     "height": 361
    },
    "colab_type": "code",
    "id": "jSWSmL8nsgzx",
    "outputId": "93a2aeff-30aa-4fa0-9356-87c4a9a17419"
   },
   "outputs": [
    {
     "data": {
      "image/png": "[encoded data removed]",
      "text/plain": [
       "<Figure size 432x288 with 1 Axes>"
      ]
     },
     "metadata": {
      "needs_background": "light"
     },
     "output_type": "display_data"
    }
   ],
   "source": [
    "cph.plot_covariate_groups('prio', [0, 5, 10, 15]);"
   ]
  },
  {
   "cell_type": "code",
   "execution_count": 49,
   "metadata": {
    "colab": {
     "base_uri": "https://localhost:8080/",
     "height": 1579
    },
    "colab_type": "code",
    "id": "iODFHl9Usgzz",
    "outputId": "130437c6-b2b1-473f-f7a3-165bf7379f9b"
   },
   "outputs": [
    {
     "name": "stdout",
     "output_type": "stream",
     "text": [
      "\n",
      "The ``p_value_threshold`` is set at 0.05. Even under the null hypothesis of no violations, some covariates\n",
      "will be below the threshold (i.e. by chance). This is compounded when there are many covariates.\n",
      "\n",
      "Similarly, when there are lots of observations, even minor deviances from the proportional hazard\n",
      "assumption will be flagged.\n",
      "\n",
      "With that in mind, it's best to use a combination of statistical tests and eyeball tests to\n",
      "determine the most serious violations.\n",
      "\n",
      "\n",
      "<lifelines.StatisticalResult>\n",
      "         test_name = proportional_hazard_test\n",
      " null_distribution = chi squared\n",
      "degrees_of_freedom = 1\n",
      "\n",
      "---\n",
      "           test_statistic      p  -log2(p)\n",
      "age  km             11.03 <0.005     10.12\n",
      "     rank           11.09 <0.005     10.17\n",
      "fin  km              0.02   0.89      0.17\n",
      "     rank            0.02   0.90      0.16\n",
      "mar  km              0.60   0.44      1.19\n",
      "     rank            0.67   0.41      1.27\n",
      "paro km              0.12   0.73      0.45\n",
      "     rank            0.14   0.71      0.49\n",
      "prio km              0.02   0.88      0.18\n",
      "     rank            0.02   0.88      0.18\n",
      "race km              1.44   0.23      2.12\n",
      "     rank            1.46   0.23      2.14\n",
      "wexp km              7.48   0.01      7.32\n",
      "     rank            7.18   0.01      7.08\n",
      "\n",
      "\n",
      "1. Variable 'age' failed the non-proportional test: p-value is 0.0009.\n",
      "   Advice: try binning the variable 'age' using pd.cut, and then specify it in `strata=['age']` in the call in `.fit`. See documentation in link [A] and [B] below.\n",
      "   Advice: try adding an interaction term with your time variable. See documentation in link [A] and specifically link [C] below.\n",
      "\n",
      "2. Variable 'wexp' failed the non-proportional test: p-value is 0.0063.\n",
      "   Advice: with so few unique values (only 2), you can try `strata=['wexp']` in the call in `.fit`. See documentation in link [A] and [B] below.\n",
      "\n",
      "---\n",
      "[A]  https://lifelines.readthedocs.io/en/latest/jupyter_notebooks/Proportional%20hazard%20assumption.html\n",
      "[B]  https://lifelines.readthedocs.io/en/latest/Survival%20Regression.html#checking-the-proportional-hazards-assumption\n",
      "[C]  https://lifelines.readthedocs.io/en/latest/jupyter_notebooks/Proportional%20hazard%20assumption.html#Option-2:-introduce-time-varying-covariates\n",
      "\n"
     ]
    }
   ],
   "source": [
    "cph.check_assumptions(recidivism)"
   ]
  },
  {
   "cell_type": "markdown",
   "metadata": {
    "colab_type": "text",
    "id": "XY-yJuKcsgz1"
   },
   "source": [
    "## The Intuition - Hazard and Survival Functions\n",
    "\n",
    "### Hazard Function - the dangerous bathtub\n",
    "\n",
    "The hazard function represents the *instantaneous* likelihood of failure. It can be treated as a PDF (probability density function), and with real-world data comes in three typical shapes.\n",
    "\n",
    "![Different hazard functions](https://upload.wikimedia.org/wikipedia/commons/2/25/Compsyseng17_04.jpg)\n",
    "\n",
    "Increasing and decreasing failure rate are fairly intuitive - the \"bathtub\" shaped is perhaps the most surprising, but actually models many real-world situations. In fact, life expectancy in general, and most threats to it, assume this shape.\n",
    "\n",
    "What the \"bathtub\" means is that - threats are highest at youth (e.g. infant mortality), but then decrease and stabilize at maturity, only to eventually re-emerge in old age. Many diseases primarily threaten children and elderly, and middle aged people are also more robust to physical trauma.\n",
    "\n",
    "The \"bathtub\" is also suitable for many non-human situations - often with reliability analysis, mechanical parts either fail early (due to manufacturing defects), or they survive and have a relatively long lifetime to eventually fail out of age and use.\n",
    "\n",
    "### Survival Function (aka reliability function) - it's just a (backwards) CDF\n",
    "\n",
    "Since the hazard function can be treated as a probability density function, it makes sense to think about the corresponding cumulative distribution function (CDF). But because we're modeling time to failure, it's actually more interesting to look at the CDF backwards - this is called the complementary cumulative distribution function.\n",
    "\n",
    "In survival analysis there's a special name for it - the survival function - and it gives the probability that the object being studied will survive beyond a given time.\n",
    "\n",
    "![4 survival functions](https://upload.wikimedia.org/wikipedia/commons/e/e0/Four_survival_functions.svg)\n",
    "\n",
    "As you can see they all start at 1 for time 0 - at the beginning, all things are alive. Then they all move down over time to eventually approach and converge to 0. The different shapes reflect the average/expected retention of a population subject to this function over time, and as such this is a particularly useful visualization when modeling overall retention/churn situations.\n",
    "\n",
    "### Ways to estimate/model survival analysis - terms to be aware of\n",
    "Key Components Necessary for these models - duration, and whether observation is censored.\n",
    "\n",
    "- Kaplan Meier Estimator\n",
    "- Nelson-Aalen Estimator\n",
    "- Proportional Hazards (Cox Model, integrates covariates)\n",
    "- Additive Hazards Model (Aalen's Additive Model, when covariates are time-dependent)\n",
    "\n",
    "As with most statistics, these are all refinements of the general principles, with the math to back them up. Software packages will tend to select reasonable defaults, and allow you to use parameters to tune or select things. The math for these gets varied and deep - but feel free to [dive in](https://en.wikipedia.org/wiki/Survival_analysis) if you're curious!"
   ]
  },
  {
   "cell_type": "markdown",
   "metadata": {
    "colab_type": "text",
    "id": "Su5WdRa139yW"
   },
   "source": [
    "## Live! Let's try modeling heart attack survival\n",
    "\n",
    "https://archive.ics.uci.edu/ml/datasets/echocardiogram"
   ]
  },
  {
   "cell_type": "code",
   "execution_count": 0,
   "metadata": {
    "colab": {},
    "colab_type": "code",
    "id": "4GcRG1ussgz1"
   },
   "outputs": [],
   "source": [
    "# TODO - Live! (As time permits)"
   ]
  },
  {
   "cell_type": "markdown",
   "metadata": {
    "colab_type": "text",
    "id": "8tMyVxHRa3cQ"
   },
   "source": [
    "# Assignment - Customer Churn\n",
    "\n",
    "Treselle Systems, a data consulting service, [analyzed customer churn data using logistic regression](http://www.treselle.com/blog/customer-churn-logistic-regression-with-r/). For simply modeling whether or not a customer left this can work, but if we want to model the actual tenure of a customer, survival analysis is more appropriate.\n",
    "\n",
    "The \"tenure\" feature represents the duration that a given customer has been with them, and \"churn\" represents whether or not that customer left (i.e. the \"event\", from a survival analysis perspective). So, any situation where churn is \"no\" means that a customer is still active, and so from a survival analysis perspective the observation is censored (we have their tenure up to now, but we don't know their *true* duration until event).\n",
    "\n",
    "Your assignment is to [use their data](https://github.com/treselle-systems/customer_churn_analysis) to fit a survival model, and answer the following questions:\n",
    "\n",
    "- What features best model customer churn?\n",
    "- What would you characterize as the \"warning signs\" that a customer may discontinue service?\n",
    "- What actions would you recommend to this business to try to improve their customer retention?\n",
    "\n",
    "Please create at least *3* plots or visualizations to support your findings, and in general write your summary/results targeting an \"interested layperson\" (e.g. your hypothetical business manager) as your audience.\n",
    "\n",
    "This means that, as is often the case in data science, there isn't a single objective right answer - your goal is to *support* your answer, whatever it is, with data and reasoning.\n",
    "\n",
    "Good luck!"
   ]
  },
  {
   "cell_type": "code",
   "execution_count": 121,
   "metadata": {
    "colab": {
     "base_uri": "https://localhost:8080/",
     "height": 342
    },
    "colab_type": "code",
    "id": "OIfMQKnSy8Zl",
    "outputId": "87f6401d-352f-437d-eda8-c4021573d29c"
   },
   "outputs": [
    {
     "data": {
      "text/html": [
       "<div>\n",
       "<style scoped>\n",
       "    .dataframe tbody tr th:only-of-type {\n",
       "        vertical-align: middle;\n",
       "    }\n",
       "\n",
       "    .dataframe tbody tr th {\n",
       "        vertical-align: top;\n",
       "    }\n",
       "\n",
       "    .dataframe thead th {\n",
       "        text-align: right;\n",
       "    }\n",
       "</style>\n",
       "<table border=\"1\" class=\"dataframe\">\n",
       "  <thead>\n",
       "    <tr style=\"text-align: right;\">\n",
       "      <th></th>\n",
       "      <th>customerID</th>\n",
       "      <th>gender</th>\n",
       "      <th>SeniorCitizen</th>\n",
       "      <th>Partner</th>\n",
       "      <th>Dependents</th>\n",
       "      <th>tenure</th>\n",
       "      <th>PhoneService</th>\n",
       "      <th>MultipleLines</th>\n",
       "      <th>InternetService</th>\n",
       "      <th>OnlineSecurity</th>\n",
       "      <th>...</th>\n",
       "      <th>DeviceProtection</th>\n",
       "      <th>TechSupport</th>\n",
       "      <th>StreamingTV</th>\n",
       "      <th>StreamingMovies</th>\n",
       "      <th>Contract</th>\n",
       "      <th>PaperlessBilling</th>\n",
       "      <th>PaymentMethod</th>\n",
       "      <th>MonthlyCharges</th>\n",
       "      <th>TotalCharges</th>\n",
       "      <th>Churn</th>\n",
       "    </tr>\n",
       "  </thead>\n",
       "  <tbody>\n",
       "    <tr>\n",
       "      <th>0</th>\n",
       "      <td>7590-VHVEG</td>\n",
       "      <td>Female</td>\n",
       "      <td>0</td>\n",
       "      <td>Yes</td>\n",
       "      <td>No</td>\n",
       "      <td>1</td>\n",
       "      <td>No</td>\n",
       "      <td>No phone service</td>\n",
       "      <td>DSL</td>\n",
       "      <td>No</td>\n",
       "      <td>...</td>\n",
       "      <td>No</td>\n",
       "      <td>No</td>\n",
       "      <td>No</td>\n",
       "      <td>No</td>\n",
       "      <td>Month-to-month</td>\n",
       "      <td>Yes</td>\n",
       "      <td>Electronic check</td>\n",
       "      <td>29.85</td>\n",
       "      <td>29.85</td>\n",
       "      <td>No</td>\n",
       "    </tr>\n",
       "    <tr>\n",
       "      <th>1</th>\n",
       "      <td>5575-GNVDE</td>\n",
       "      <td>Male</td>\n",
       "      <td>0</td>\n",
       "      <td>No</td>\n",
       "      <td>No</td>\n",
       "      <td>34</td>\n",
       "      <td>Yes</td>\n",
       "      <td>No</td>\n",
       "      <td>DSL</td>\n",
       "      <td>Yes</td>\n",
       "      <td>...</td>\n",
       "      <td>Yes</td>\n",
       "      <td>No</td>\n",
       "      <td>No</td>\n",
       "      <td>No</td>\n",
       "      <td>One year</td>\n",
       "      <td>No</td>\n",
       "      <td>Mailed check</td>\n",
       "      <td>56.95</td>\n",
       "      <td>1889.5</td>\n",
       "      <td>No</td>\n",
       "    </tr>\n",
       "    <tr>\n",
       "      <th>2</th>\n",
       "      <td>3668-QPYBK</td>\n",
       "      <td>Male</td>\n",
       "      <td>0</td>\n",
       "      <td>No</td>\n",
       "      <td>No</td>\n",
       "      <td>2</td>\n",
       "      <td>Yes</td>\n",
       "      <td>No</td>\n",
       "      <td>DSL</td>\n",
       "      <td>Yes</td>\n",
       "      <td>...</td>\n",
       "      <td>No</td>\n",
       "      <td>No</td>\n",
       "      <td>No</td>\n",
       "      <td>No</td>\n",
       "      <td>Month-to-month</td>\n",
       "      <td>Yes</td>\n",
       "      <td>Mailed check</td>\n",
       "      <td>53.85</td>\n",
       "      <td>108.15</td>\n",
       "      <td>Yes</td>\n",
       "    </tr>\n",
       "    <tr>\n",
       "      <th>3</th>\n",
       "      <td>7795-CFOCW</td>\n",
       "      <td>Male</td>\n",
       "      <td>0</td>\n",
       "      <td>No</td>\n",
       "      <td>No</td>\n",
       "      <td>45</td>\n",
       "      <td>No</td>\n",
       "      <td>No phone service</td>\n",
       "      <td>DSL</td>\n",
       "      <td>Yes</td>\n",
       "      <td>...</td>\n",
       "      <td>Yes</td>\n",
       "      <td>Yes</td>\n",
       "      <td>No</td>\n",
       "      <td>No</td>\n",
       "      <td>One year</td>\n",
       "      <td>No</td>\n",
       "      <td>Bank transfer (automatic)</td>\n",
       "      <td>42.30</td>\n",
       "      <td>1840.75</td>\n",
       "      <td>No</td>\n",
       "    </tr>\n",
       "    <tr>\n",
       "      <th>4</th>\n",
       "      <td>9237-HQITU</td>\n",
       "      <td>Female</td>\n",
       "      <td>0</td>\n",
       "      <td>No</td>\n",
       "      <td>No</td>\n",
       "      <td>2</td>\n",
       "      <td>Yes</td>\n",
       "      <td>No</td>\n",
       "      <td>Fiber optic</td>\n",
       "      <td>No</td>\n",
       "      <td>...</td>\n",
       "      <td>No</td>\n",
       "      <td>No</td>\n",
       "      <td>No</td>\n",
       "      <td>No</td>\n",
       "      <td>Month-to-month</td>\n",
       "      <td>Yes</td>\n",
       "      <td>Electronic check</td>\n",
       "      <td>70.70</td>\n",
       "      <td>151.65</td>\n",
       "      <td>Yes</td>\n",
       "    </tr>\n",
       "  </tbody>\n",
       "</table>\n",
       "<p>5 rows × 21 columns</p>\n",
       "</div>"
      ],
      "text/plain": [
       "   customerID  gender  SeniorCitizen Partner Dependents  tenure PhoneService  \\\n",
       "0  7590-VHVEG  Female              0     Yes         No       1           No   \n",
       "1  5575-GNVDE    Male              0      No         No      34          Yes   \n",
       "2  3668-QPYBK    Male              0      No         No       2          Yes   \n",
       "3  7795-CFOCW    Male              0      No         No      45           No   \n",
       "4  9237-HQITU  Female              0      No         No       2          Yes   \n",
       "\n",
       "      MultipleLines InternetService OnlineSecurity  ...  DeviceProtection  \\\n",
       "0  No phone service             DSL             No  ...                No   \n",
       "1                No             DSL            Yes  ...               Yes   \n",
       "2                No             DSL            Yes  ...                No   \n",
       "3  No phone service             DSL            Yes  ...               Yes   \n",
       "4                No     Fiber optic             No  ...                No   \n",
       "\n",
       "  TechSupport StreamingTV StreamingMovies        Contract PaperlessBilling  \\\n",
       "0          No          No              No  Month-to-month              Yes   \n",
       "1          No          No              No        One year               No   \n",
       "2          No          No              No  Month-to-month              Yes   \n",
       "3         Yes          No              No        One year               No   \n",
       "4          No          No              No  Month-to-month              Yes   \n",
       "\n",
       "               PaymentMethod MonthlyCharges  TotalCharges Churn  \n",
       "0           Electronic check          29.85         29.85    No  \n",
       "1               Mailed check          56.95        1889.5    No  \n",
       "2               Mailed check          53.85        108.15   Yes  \n",
       "3  Bank transfer (automatic)          42.30       1840.75    No  \n",
       "4           Electronic check          70.70        151.65   Yes  \n",
       "\n",
       "[5 rows x 21 columns]"
      ]
     },
     "execution_count": 121,
     "metadata": {},
     "output_type": "execute_result"
    }
   ],
   "source": [
    "# Loading the data to get you started\n",
    "churn_data = pd.read_csv(\n",
    "    'https://raw.githubusercontent.com/treselle-systems/'\n",
    "    'customer_churn_analysis/master/WA_Fn-UseC_-Telco-Customer-Churn.csv')\n",
    "churn_data.head()"
   ]
  },
  {
   "cell_type": "code",
   "execution_count": 122,
   "metadata": {
    "colab": {
     "base_uri": "https://localhost:8080/",
     "height": 469
    },
    "colab_type": "code",
    "id": "lmGBY5fX0bmu",
    "outputId": "6b57713b-fcc2-4879-a213-30da3fa3d700"
   },
   "outputs": [
    {
     "name": "stdout",
     "output_type": "stream",
     "text": [
      "<class 'pandas.core.frame.DataFrame'>\n",
      "RangeIndex: 7043 entries, 0 to 7042\n",
      "Data columns (total 21 columns):\n",
      "customerID          7043 non-null object\n",
      "gender              7043 non-null object\n",
      "SeniorCitizen       7043 non-null int64\n",
      "Partner             7043 non-null object\n",
      "Dependents          7043 non-null object\n",
      "tenure              7043 non-null int64\n",
      "PhoneService        7043 non-null object\n",
      "MultipleLines       7043 non-null object\n",
      "InternetService     7043 non-null object\n",
      "OnlineSecurity      7043 non-null object\n",
      "OnlineBackup        7043 non-null object\n",
      "DeviceProtection    7043 non-null object\n",
      "TechSupport         7043 non-null object\n",
      "StreamingTV         7043 non-null object\n",
      "StreamingMovies     7043 non-null object\n",
      "Contract            7043 non-null object\n",
      "PaperlessBilling    7043 non-null object\n",
      "PaymentMethod       7043 non-null object\n",
      "MonthlyCharges      7043 non-null float64\n",
      "TotalCharges        7043 non-null object\n",
      "Churn               7043 non-null object\n",
      "dtypes: float64(1), int64(2), object(18)\n",
      "memory usage: 1.1+ MB\n"
     ]
    }
   ],
   "source": [
    "churn_data.info()  # A lot of these are \"object\" - some may need to be fixed..."
   ]
  },
  {
   "cell_type": "code",
   "execution_count": 123,
   "metadata": {},
   "outputs": [
    {
     "data": {
      "text/plain": [
       "array(['No phone service', 'No', 'Yes'], dtype=object)"
      ]
     },
     "execution_count": 123,
     "metadata": {},
     "output_type": "execute_result"
    }
   ],
   "source": [
    "churn_data['MultipleLines'].unique()"
   ]
  },
  {
   "cell_type": "code",
   "execution_count": null,
   "metadata": {},
   "outputs": [],
   "source": []
  },
  {
   "cell_type": "code",
   "execution_count": 124,
   "metadata": {},
   "outputs": [
    {
     "data": {
      "text/plain": [
       "customerID           object\n",
       "gender                int64\n",
       "SeniorCitizen         int64\n",
       "Partner               int64\n",
       "Dependents            int64\n",
       "tenure                int64\n",
       "PhoneService          int64\n",
       "MultipleLines         int64\n",
       "InternetService      object\n",
       "OnlineSecurity        int64\n",
       "OnlineBackup          int64\n",
       "DeviceProtection      int64\n",
       "TechSupport           int64\n",
       "StreamingTV           int64\n",
       "StreamingMovies       int64\n",
       "Contract             object\n",
       "PaperlessBilling      int64\n",
       "PaymentMethod        object\n",
       "MonthlyCharges      float64\n",
       "TotalCharges         object\n",
       "Churn                 int64\n",
       "dtype: object"
      ]
     },
     "execution_count": 124,
     "metadata": {},
     "output_type": "execute_result"
    }
   ],
   "source": [
    "# cols = ['Partner', 'Dependents', 'PhoneService', 'OnlineSecurity', \n",
    "#              'DeviceProtection', 'TechSupport', 'MultipleLines', \n",
    "#              'StreamingTV', 'StreamingMovies', 'PaperlessBilling', \n",
    "#              'OnlineBackup', 'Churn']\n",
    "\n",
    "yes_no = {\n",
    "    'Yes':1,\n",
    "    'No':0,\n",
    "    'No internet service': 0,\n",
    "    'No phone service': 0,\n",
    "    'Male':0,\n",
    "    'Female':1,\n",
    "}\n",
    "\n",
    "churn_data = churn_data.replace(yes_no)\n",
    "\n",
    "# churn_data = churn_data.drop(columns=cols)\n",
    "\n",
    "# churn_data['TotalCharges'] = pd.to_numeric(churn_data['TotalCharges'],errors='coerce')\n",
    "\n",
    "# churn_data[['InternetService','Contract','PaymentMethod']].head()\n",
    "\n",
    "churn_data.dtypes"
   ]
  },
  {
   "cell_type": "code",
   "execution_count": 125,
   "metadata": {},
   "outputs": [],
   "source": [
    "churn_data['hasInternetService'] = churn_data['InternetService'].apply(lambda x: x if x==0 else 1)"
   ]
  },
  {
   "cell_type": "code",
   "execution_count": 126,
   "metadata": {},
   "outputs": [],
   "source": [
    "churn_data = churn_data.replace('Month-to-month',0)\n",
    "churn_data = churn_data.replace('One year', 1)\n",
    "churn_data = churn_data.replace('Two year', 2)\n",
    "churn_data = churn_data.replace('No internet service',0)"
   ]
  },
  {
   "cell_type": "code",
   "execution_count": 127,
   "metadata": {},
   "outputs": [
    {
     "data": {
      "text/plain": [
       "customerID             object\n",
       "gender                  int64\n",
       "SeniorCitizen           int64\n",
       "Partner                 int64\n",
       "Dependents              int64\n",
       "tenure                  int64\n",
       "PhoneService            int64\n",
       "MultipleLines           int64\n",
       "InternetService        object\n",
       "OnlineSecurity          int64\n",
       "OnlineBackup            int64\n",
       "DeviceProtection        int64\n",
       "TechSupport             int64\n",
       "StreamingTV             int64\n",
       "StreamingMovies         int64\n",
       "Contract                int64\n",
       "PaperlessBilling        int64\n",
       "PaymentMethod          object\n",
       "MonthlyCharges        float64\n",
       "TotalCharges           object\n",
       "Churn                   int64\n",
       "hasInternetService      int64\n",
       "dtype: object"
      ]
     },
     "execution_count": 127,
     "metadata": {},
     "output_type": "execute_result"
    }
   ],
   "source": [
    "churn_data.dtypes"
   ]
  },
  {
   "cell_type": "code",
   "execution_count": 128,
   "metadata": {},
   "outputs": [],
   "source": [
    "churn_data[\"TotalCharges\"] = churn_data[\"TotalCharges\"].apply(lambda x : 0 if x == \" \" else x)\n"
   ]
  },
  {
   "cell_type": "code",
   "execution_count": 131,
   "metadata": {},
   "outputs": [
    {
     "data": {
      "text/html": [
       "<div>\n",
       "<style scoped>\n",
       "    .dataframe tbody tr th:only-of-type {\n",
       "        vertical-align: middle;\n",
       "    }\n",
       "\n",
       "    .dataframe tbody tr th {\n",
       "        vertical-align: top;\n",
       "    }\n",
       "\n",
       "    .dataframe thead th {\n",
       "        text-align: right;\n",
       "    }\n",
       "</style>\n",
       "<table border=\"1\" class=\"dataframe\">\n",
       "  <thead>\n",
       "    <tr style=\"text-align: right;\">\n",
       "      <th></th>\n",
       "      <th>gender</th>\n",
       "      <th>SeniorCitizen</th>\n",
       "      <th>Partner</th>\n",
       "      <th>Dependents</th>\n",
       "      <th>tenure</th>\n",
       "      <th>PhoneService</th>\n",
       "      <th>MultipleLines</th>\n",
       "      <th>OnlineSecurity</th>\n",
       "      <th>OnlineBackup</th>\n",
       "      <th>DeviceProtection</th>\n",
       "      <th>TechSupport</th>\n",
       "      <th>StreamingTV</th>\n",
       "      <th>StreamingMovies</th>\n",
       "      <th>Contract</th>\n",
       "      <th>PaperlessBilling</th>\n",
       "      <th>MonthlyCharges</th>\n",
       "      <th>Churn</th>\n",
       "      <th>hasInternetService</th>\n",
       "    </tr>\n",
       "  </thead>\n",
       "  <tbody>\n",
       "    <tr>\n",
       "      <th>0</th>\n",
       "      <td>1</td>\n",
       "      <td>0</td>\n",
       "      <td>1</td>\n",
       "      <td>0</td>\n",
       "      <td>1</td>\n",
       "      <td>0</td>\n",
       "      <td>0</td>\n",
       "      <td>0</td>\n",
       "      <td>1</td>\n",
       "      <td>0</td>\n",
       "      <td>0</td>\n",
       "      <td>0</td>\n",
       "      <td>0</td>\n",
       "      <td>0</td>\n",
       "      <td>1</td>\n",
       "      <td>29.85</td>\n",
       "      <td>0</td>\n",
       "      <td>1</td>\n",
       "    </tr>\n",
       "    <tr>\n",
       "      <th>1</th>\n",
       "      <td>0</td>\n",
       "      <td>0</td>\n",
       "      <td>0</td>\n",
       "      <td>0</td>\n",
       "      <td>34</td>\n",
       "      <td>1</td>\n",
       "      <td>0</td>\n",
       "      <td>1</td>\n",
       "      <td>0</td>\n",
       "      <td>1</td>\n",
       "      <td>0</td>\n",
       "      <td>0</td>\n",
       "      <td>0</td>\n",
       "      <td>1</td>\n",
       "      <td>0</td>\n",
       "      <td>56.95</td>\n",
       "      <td>0</td>\n",
       "      <td>1</td>\n",
       "    </tr>\n",
       "    <tr>\n",
       "      <th>2</th>\n",
       "      <td>0</td>\n",
       "      <td>0</td>\n",
       "      <td>0</td>\n",
       "      <td>0</td>\n",
       "      <td>2</td>\n",
       "      <td>1</td>\n",
       "      <td>0</td>\n",
       "      <td>1</td>\n",
       "      <td>1</td>\n",
       "      <td>0</td>\n",
       "      <td>0</td>\n",
       "      <td>0</td>\n",
       "      <td>0</td>\n",
       "      <td>0</td>\n",
       "      <td>1</td>\n",
       "      <td>53.85</td>\n",
       "      <td>1</td>\n",
       "      <td>1</td>\n",
       "    </tr>\n",
       "    <tr>\n",
       "      <th>3</th>\n",
       "      <td>0</td>\n",
       "      <td>0</td>\n",
       "      <td>0</td>\n",
       "      <td>0</td>\n",
       "      <td>45</td>\n",
       "      <td>0</td>\n",
       "      <td>0</td>\n",
       "      <td>1</td>\n",
       "      <td>0</td>\n",
       "      <td>1</td>\n",
       "      <td>1</td>\n",
       "      <td>0</td>\n",
       "      <td>0</td>\n",
       "      <td>1</td>\n",
       "      <td>0</td>\n",
       "      <td>42.30</td>\n",
       "      <td>0</td>\n",
       "      <td>1</td>\n",
       "    </tr>\n",
       "    <tr>\n",
       "      <th>4</th>\n",
       "      <td>1</td>\n",
       "      <td>0</td>\n",
       "      <td>0</td>\n",
       "      <td>0</td>\n",
       "      <td>2</td>\n",
       "      <td>1</td>\n",
       "      <td>0</td>\n",
       "      <td>0</td>\n",
       "      <td>0</td>\n",
       "      <td>0</td>\n",
       "      <td>0</td>\n",
       "      <td>0</td>\n",
       "      <td>0</td>\n",
       "      <td>0</td>\n",
       "      <td>1</td>\n",
       "      <td>70.70</td>\n",
       "      <td>1</td>\n",
       "      <td>1</td>\n",
       "    </tr>\n",
       "  </tbody>\n",
       "</table>\n",
       "</div>"
      ],
      "text/plain": [
       "   gender  SeniorCitizen  Partner  Dependents  tenure  PhoneService  \\\n",
       "0       1              0        1           0       1             0   \n",
       "1       0              0        0           0      34             1   \n",
       "2       0              0        0           0       2             1   \n",
       "3       0              0        0           0      45             0   \n",
       "4       1              0        0           0       2             1   \n",
       "\n",
       "   MultipleLines  OnlineSecurity  OnlineBackup  DeviceProtection  TechSupport  \\\n",
       "0              0               0             1                 0            0   \n",
       "1              0               1             0                 1            0   \n",
       "2              0               1             1                 0            0   \n",
       "3              0               1             0                 1            1   \n",
       "4              0               0             0                 0            0   \n",
       "\n",
       "   StreamingTV  StreamingMovies  Contract  PaperlessBilling  MonthlyCharges  \\\n",
       "0            0                0         0                 1           29.85   \n",
       "1            0                0         1                 0           56.95   \n",
       "2            0                0         0                 1           53.85   \n",
       "3            0                0         1                 0           42.30   \n",
       "4            0                0         0                 1           70.70   \n",
       "\n",
       "   Churn  hasInternetService  \n",
       "0      0                   1  \n",
       "1      0                   1  \n",
       "2      1                   1  \n",
       "3      0                   1  \n",
       "4      1                   1  "
      ]
     },
     "execution_count": 131,
     "metadata": {},
     "output_type": "execute_result"
    }
   ],
   "source": [
    "cols = ['customerID', 'InternetService', 'PaymentMethod', 'TotalCharges']\n",
    "\n",
    "data = churn_data.drop(columns = cols)\n",
    "data.head()"
   ]
  },
  {
   "cell_type": "code",
   "execution_count": 132,
   "metadata": {},
   "outputs": [
    {
     "data": {
      "text/plain": [
       "<matplotlib.axes._subplots.AxesSubplot at 0x1a241dbf28>"
      ]
     },
     "execution_count": 132,
     "metadata": {},
     "output_type": "execute_result"
    },
    {
     "data": {
      "image/png": "[encoded data removed]",
      "text/plain": [
       "<Figure size 432x288 with 1 Axes>"
      ]
     },
     "metadata": {
      "needs_background": "light"
     },
     "output_type": "display_data"
    }
   ],
   "source": [
    "cph = lifelines.CoxPHFitter()\n",
    "cph.fit(data, 'tenure', 'Churn')\n",
    "cph.plot()"
   ]
  },
  {
   "cell_type": "code",
   "execution_count": 133,
   "metadata": {},
   "outputs": [
    {
     "name": "stdout",
     "output_type": "stream",
     "text": [
      "<lifelines.CoxPHFitter: fitted with 7043 observations, 5174 censored>\n",
      "      duration col = 'tenure'\n",
      "         event col = 'Churn'\n",
      "number of subjects = 7043\n",
      "  number of events = 1869\n",
      "    log-likelihood = -13956.38\n",
      "  time fit was run = 2019-02-27 02:40:00 UTC\n",
      "\n",
      "---\n",
      "                    coef  exp(coef)  se(coef)      z      p  -log2(p)  lower 0.95  upper 0.95\n",
      "gender              0.08       1.08      0.05   1.73   0.08      3.58       -0.01        0.17\n",
      "SeniorCitizen      -0.06       0.94      0.06  -1.09   0.27      1.87       -0.17        0.05\n",
      "Partner            -0.52       0.60      0.05  -9.49 <0.005     68.57       -0.63       -0.41\n",
      "Dependents         -0.08       0.92      0.07  -1.23   0.22      2.19       -0.22        0.05\n",
      "PhoneService       -0.18       0.83      0.14  -1.34   0.18      2.47       -0.46        0.09\n",
      "MultipleLines      -0.55       0.58      0.06  -9.61 <0.005     70.23       -0.66       -0.44\n",
      "OnlineSecurity     -0.76       0.47      0.07 -11.52 <0.005     99.56       -0.89       -0.63\n",
      "OnlineBackup       -0.73       0.48      0.06 -12.99 <0.005    125.70       -0.85       -0.62\n",
      "DeviceProtection   -0.43       0.65      0.06  -7.60 <0.005     44.94       -0.54       -0.32\n",
      "TechSupport        -0.51       0.60      0.07  -7.81 <0.005     47.30       -0.64       -0.38\n",
      "StreamingTV        -0.15       0.86      0.06  -2.36   0.02      5.79       -0.28       -0.03\n",
      "StreamingMovies    -0.25       0.78      0.06  -3.91 <0.005     13.38       -0.37       -0.12\n",
      "Contract           -1.70       0.18      0.07 -25.97 <0.005    491.69       -1.83       -1.57\n",
      "PaperlessBilling    0.18       1.20      0.06   3.26 <0.005      9.80        0.07        0.29\n",
      "MonthlyCharges      0.02       1.02      0.00   5.37 <0.005     23.64        0.01        0.02\n",
      "hasInternetService  0.71       2.03      0.16   4.41 <0.005     16.57        0.39        1.02\n",
      "---\n",
      "Concordance = 0.86\n",
      "Log-likelihood ratio test = 3393.32 on 16 df, -log2(p)=inf\n"
     ]
    }
   ],
   "source": [
    "cph.print_summary()"
   ]
  },
  {
   "cell_type": "code",
   "execution_count": 139,
   "metadata": {},
   "outputs": [
    {
     "data": {
      "image/png": "[encoded data removed]",
      "text/plain": [
       "<Figure size 432x288 with 1 Axes>"
      ]
     },
     "metadata": {
      "needs_background": "light"
     },
     "output_type": "display_data"
    }
   ],
   "source": [
    "kmf = lifelines.KaplanMeierFitter()\n",
    "kmf.fit(churn_data['tenure'], event_observed=churn_data['Churn'])\n",
    "kmf.survival_function_.plot();"
   ]
  },
  {
   "cell_type": "code",
   "execution_count": 140,
   "metadata": {},
   "outputs": [],
   "source": [
    "tenure = churn_data['tenure']\n",
    "churn = churn_data['Churn']"
   ]
  },
  {
   "cell_type": "code",
   "execution_count": 141,
   "metadata": {},
   "outputs": [
    {
     "data": {
      "text/plain": [
       "array(['Electronic check', 'Mailed check', 'Bank transfer (automatic)',\n",
       "       'Credit card (automatic)'], dtype=object)"
      ]
     },
     "execution_count": 141,
     "metadata": {},
     "output_type": "execute_result"
    }
   ],
   "source": [
    "churn_data['PaymentMethod'].unique()"
   ]
  },
  {
   "cell_type": "code",
   "execution_count": 142,
   "metadata": {},
   "outputs": [],
   "source": [
    "e_check = churn_data['PaymentMethod'] == 'Electronic check'\n",
    "mail = churn_data['PaymentMethod'] == 'Mailed check'\n",
    "bank = churn_data['PaymentMethod'] == 'Bank transfer (automatic)'\n",
    "credit_card = churn_data['PaymentMethod'] == 'Credit card (automatic)'"
   ]
  },
  {
   "cell_type": "code",
   "execution_count": 146,
   "metadata": {},
   "outputs": [
    {
     "data": {
      "image/png": "[encoded data removed]",
      "text/plain": [
       "<Figure size 432x288 with 1 Axes>"
      ]
     },
     "metadata": {
      "needs_background": "light"
     },
     "output_type": "display_data"
    }
   ],
   "source": [
    "ax = plt.subplot(111)\n",
    "\n",
    "kmf.fit(tenure[e_check], event_observed=churn[e_check], label= 'Electronic Check')\n",
    "kmf.plot(ax=ax)\n",
    "kmf.fit(tenure[mail], event_observed=churn[mail], label= 'Mailed Check')\n",
    "kmf.plot(ax=ax)\n",
    "kmf.fit(tenure[bank], event_observed=churn[bank], label= 'Bank Check')\n",
    "kmf.plot(ax=ax)\n",
    "kmf.fit(tenure[credit_card], event_observed=churn[credit_card], label= 'Credit Card')\n",
    "kmf.plot(ax=ax);\n"
   ]
  },
  {
   "cell_type": "code",
   "execution_count": null,
   "metadata": {},
   "outputs": [],
   "source": []
  },
  {
   "cell_type": "markdown",
   "metadata": {
    "colab_type": "text",
    "id": "Vaqh-1Dqa4hz"
   },
   "source": [
    "# Resources and stretch goals\n",
    "\n",
    "Resources:\n",
    "- [Wikipedia on Survival analysis](https://en.wikipedia.org/wiki/Survival_analysis)\n",
    "- [Wikipedia on Survival functions](https://en.wikipedia.org/wiki/Survival_function)\n",
    "- [Summary of survival analysis by a biostatistician](http://sphweb.bumc.bu.edu/otlt/MPH-Modules/BS/BS704_Survival/BS704_Survival_print.html)\n",
    "- [Another medical statistics article on survival analysis](https://www.sciencedirect.com/science/article/pii/S1756231716300639)\n",
    "- [Survival analysis using R lecture slides](http://www.stat.columbia.edu/~madigan/W2025/notes/survival.pdf)\n",
    "\n",
    "Stretch goals:\n",
    "- Make ~5 slides that summarize and deliver your findings, as if you were to present them in a business meeting\n",
    "- Revisit any of the data from the lecture material, and explore/dig deeper\n",
    "- Write your own Python functions to calculate a simple hazard or survival function, and try to generate and plot data with them"
   ]
  },
  {
   "cell_type": "code",
   "execution_count": null,
   "metadata": {},
   "outputs": [],
   "source": []
  }
 ],
 "metadata": {
  "colab": {
   "name": "LS_DS_232_Survival_Analysis.ipynb",
   "provenance": [],
   "version": "0.3.2"
  },
  "kernelspec": {
   "display_name": "Python 3",
   "language": "python",
   "name": "python3"
  },
  "language_info": {
   "codemirror_mode": {
    "name": "ipython",
    "version": 3
   },
   "file_extension": ".py",
   "mimetype": "text/x-python",
   "name": "python",
   "nbconvert_exporter": "python",
   "pygments_lexer": "ipython3",
   "version": "3.7.1"
  }
 },
 "nbformat": 4,
 "nbformat_minor": 1
}
