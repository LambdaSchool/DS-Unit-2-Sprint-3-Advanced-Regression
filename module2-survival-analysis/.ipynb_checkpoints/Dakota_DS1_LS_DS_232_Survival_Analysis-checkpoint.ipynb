{
 "cells": [
  {
   "cell_type": "markdown",
   "metadata": {
    "colab_type": "text",
    "id": "DSUEMY8usgwJ"
   },
   "source": [
    "# Lambda School Data Science - Survival Analysis\n",
    "![My normal approach is useless here, too.](https://imgs.xkcd.com/comics/probability.png)\n",
    "\n",
    "https://xkcd.com/881/\n",
    "\n",
    "The aim of survival analysis is to analyze the effect of different risk factors and use them to predict the duration of time between one event (\"birth\") and another (\"death\")."
   ]
  },
  {
   "cell_type": "markdown",
   "metadata": {
    "colab_type": "text",
    "id": "Xp-QnVAgfud4"
   },
   "source": [
    "# Lecture\n",
    "\n",
    "Survival analysis was first developed by actuaries and medical professionals to predict (as its name implies) how long individuals would survive. However, it has expanded into include many different applications.\n",
    "* it is referred to as **reliability analysis** in engineering\n",
    "* it can be referred to more generally as **time-to-event analysis**\n",
    "\n",
    "In the general sense, it can be thought of as a way to model anything with a finite duration - retention, churn, completion, etc. The culmination of this duration may have a \"good\" or \"bad\" (or \"neutral\") connotation, depending on the situation. However old habits die hard, so most often it is called survival analysis and the following definitions are still commonly used:\n",
    "\n",
    "* birth: the event that marks the beginning of the time period for observation\n",
    "* death: the event of interest, which then marks the end of the observation period for an individual\n",
    "\n",
    "### Examples\n",
    "* Customer churn\n",
    " * birth event: customer subscribes to a service\n",
    " * death event: customer leaves the service\n",
    "* Employee retention\n",
    " * birth event: employee is hired\n",
    " * death event: employee quits\n",
    "* Engineering, part reliability\n",
    " * birth event: part is put in use\n",
    " * death event: part fails\n",
    "* Program completion\n",
    " * birth event: student begins PhD program\n",
    " * death event: student earns PhD\n",
    "* Response time\n",
    " * birth event: 911 call is made\n",
    " * death event: police arrive\n",
    "* Lambda School\n",
    " * birth event: student graduates LambdaSchool\n",
    " * death event: student gets a job!\n",
    " \n",
    "Take a moment and try to come up with your own specific example or two.\n",
    "\n",
    "#### So... if all we're predicting here is a length of time between two events, why can't we just use regular old Linear Regression?\n",
    "Well... if you have all the data, go for it. In some situations it may be reasonably effective.\n",
    "\n",
    "#### But, data for survival times are often highly skewed and, more importantly, we don't always get a chance to observe the \"death\" event. The current time or other factors interfere with our ability to observe the time of the event of interest. These observations are said to be _censored_.\n",
    "\n",
    "Additionally, the occurrence or non-occurrence of an event is binary - so, while the time is continuous, the event itself is in some ways similar to a binary event in logistic regression.\n",
    "\n",
    "## Censorship in Data\n",
    "\n",
    "Suppose a new cancer treatment is developed. Researchers select 50 individuals for the study to undergo treatment and participate in post-treatment obsesrvation.\n",
    "\n",
    "##### Birth Event = Participant begins trial\n",
    "##### Death Event = Participant dies due to cancer or complications of cancer\n",
    "During the study:\n",
    "1. Some participants die during the course of the study--triggering their death event \n",
    "2. Some participants drop out or the researchers otherwise lose contact with them. The researchers have their data up intil the time they dropped out, but they don't have a death event to record\n",
    "3. Some participants are still be alive at the end of the observation period. So again, researchers have their data up until some point, but there is no death event to record\n",
    "\n",
    "We only know the interval between the \"birth\" event and the \"death\" event for participants in category 1. All others we only know that they survived _up to_ a certain point.\n",
    "\n",
    "### Dealing with Censored Data\n",
    "\n",
    "Without survival analysis, we could deal with censored data in two ways:\n",
    "* We could just treat the end of the observation period as the time of the death event\n",
    "* (Even worse) We could drop the censored data using the rationale that we have \"incomplete data\" for those observations\n",
    "\n",
    "But... both of these will underestimate survival rates for the purpose of the study. We **know** that all those individuals \"survived\" the \"death event\" past a certain point.\n",
    "\n",
    "Luckily, in the 1980s a pair of smarty pants named David (main author Cox and coauthor Oakes) did the hard math work to make it possible to incorporate additional features as predictive measures to survival time probabilities. (Fun fact, the one named Cox also came up with logistic regression with non-David coauthor, Joyce Snell.)\n",
    "\n",
    "## lifelines\n",
    "It wasn't until 2014 that some other smart people made an implementation of survival analysis in Python called lifelines. \n",
    "It is built over Pandas and follows the same conventions for usage as scikit-learn.\n",
    "\n",
    "_Additional note: scikit pushed out a survival analysis implementation last year (2018) named scikit-survival that is imported by the name `sksurv`. It's super new so it may/may not have a bunch of bugs... but if you're interested you can check it out in the future. (For comparison, scikit originally came out in 2007 and Pandas came out in 2008)._"
   ]
  },
  {
   "cell_type": "code",
   "execution_count": 1,
   "metadata": {
    "colab": {
     "base_uri": "https://localhost:8080/",
     "height": 402
    },
    "colab_type": "code",
    "id": "ZrCb7TULsgwP",
    "outputId": "7b8119d5-dfbb-4ce4-cbef-6a19e3dadf6b"
   },
   "outputs": [
    {
     "name": "stdout",
     "output_type": "stream",
     "text": [
      "Requirement already satisfied: lifelines in c:\\users\\dakot\\anaconda3\\lib\\site-packages (0.17.1)\n",
      "Requirement already satisfied: numpy in c:\\users\\dakot\\anaconda3\\lib\\site-packages (from lifelines) (1.15.1)\n",
      "Requirement already satisfied: scipy>=1.0 in c:\\users\\dakot\\anaconda3\\lib\\site-packages (from lifelines) (1.1.0)\n",
      "Requirement already satisfied: pandas>=0.18 in c:\\users\\dakot\\anaconda3\\lib\\site-packages (from lifelines) (0.23.4)\n",
      "Requirement already satisfied: bottleneck>=1.0 in c:\\users\\dakot\\anaconda3\\lib\\site-packages (from lifelines) (1.2.1)\n",
      "Requirement already satisfied: matplotlib<3.0,>=2.0 in c:\\users\\dakot\\anaconda3\\lib\\site-packages (from lifelines) (2.2.3)\n",
      "Requirement already satisfied: python-dateutil>=2.5.0 in c:\\users\\dakot\\anaconda3\\lib\\site-packages (from pandas>=0.18->lifelines) (2.7.3)\n",
      "Requirement already satisfied: pytz>=2011k in c:\\users\\dakot\\anaconda3\\lib\\site-packages (from pandas>=0.18->lifelines) (2018.5)\n",
      "Requirement already satisfied: cycler>=0.10 in c:\\users\\dakot\\anaconda3\\lib\\site-packages (from matplotlib<3.0,>=2.0->lifelines) (0.10.0)\n",
      "Requirement already satisfied: pyparsing!=2.0.4,!=2.1.2,!=2.1.6,>=2.0.1 in c:\\users\\dakot\\anaconda3\\lib\\site-packages (from matplotlib<3.0,>=2.0->lifelines) (2.2.0)\n",
      "Requirement already satisfied: six>=1.10 in c:\\users\\dakot\\anaconda3\\lib\\site-packages (from matplotlib<3.0,>=2.0->lifelines) (1.11.0)\n",
      "Requirement already satisfied: kiwisolver>=1.0.1 in c:\\users\\dakot\\anaconda3\\lib\\site-packages (from matplotlib<3.0,>=2.0->lifelines) (1.0.1)\n",
      "Requirement already satisfied: setuptools in c:\\users\\dakot\\anaconda3\\lib\\site-packages (from kiwisolver>=1.0.1->matplotlib<3.0,>=2.0->lifelines) (40.2.0)\n"
     ]
    },
    {
     "name": "stderr",
     "output_type": "stream",
     "text": [
      "twisted 18.7.0 requires PyHamcrest>=1.9.0, which is not installed.\n",
      "You are using pip version 10.0.1, however version 18.1 is available.\n",
      "You should consider upgrading via the 'python -m pip install --upgrade pip' command.\n"
     ]
    }
   ],
   "source": [
    "!pip install lifelines"
   ]
  },
  {
   "cell_type": "code",
   "execution_count": 2,
   "metadata": {},
   "outputs": [
    {
     "ename": "SyntaxError",
     "evalue": "unexpected character after line continuation character (<ipython-input-2-fba799f0b649>, line 1)",
     "output_type": "error",
     "traceback": [
      "\u001b[1;36m  File \u001b[1;32m\"<ipython-input-2-fba799f0b649>\"\u001b[1;36m, line \u001b[1;32m1\u001b[0m\n\u001b[1;33m    C:\\Users\\dakot\\Anaconda3\\python.exe -m pip install --upgrade pip\u001b[0m\n\u001b[1;37m                                                                    ^\u001b[0m\n\u001b[1;31mSyntaxError\u001b[0m\u001b[1;31m:\u001b[0m unexpected character after line continuation character\n"
     ]
    }
   ],
   "source": [
    "C:\\Users\\dakot\\Anaconda3\\python.exe -m pip install --upgrade pip"
   ]
  },
  {
   "cell_type": "code",
   "execution_count": 62,
   "metadata": {
    "colab": {},
    "colab_type": "code",
    "id": "E8rpzq9zsgwn"
   },
   "outputs": [],
   "source": [
    "import numpy as np\n",
    "import pandas as pd\n",
    "import matplotlib.pyplot as plt\n",
    "import lifelines"
   ]
  },
  {
   "cell_type": "code",
   "execution_count": 63,
   "metadata": {
    "colab": {
     "base_uri": "https://localhost:8080/",
     "height": 206
    },
    "colab_type": "code",
    "id": "d51G4sPqsgww",
    "outputId": "6704a8e2-79ce-4fa5-d596-88c7bec6d818"
   },
   "outputs": [
    {
     "data": {
      "text/html": [
       "<div>\n",
       "<style scoped>\n",
       "    .dataframe tbody tr th:only-of-type {\n",
       "        vertical-align: middle;\n",
       "    }\n",
       "\n",
       "    .dataframe tbody tr th {\n",
       "        vertical-align: top;\n",
       "    }\n",
       "\n",
       "    .dataframe thead th {\n",
       "        text-align: right;\n",
       "    }\n",
       "</style>\n",
       "<table border=\"1\" class=\"dataframe\">\n",
       "  <thead>\n",
       "    <tr style=\"text-align: right;\">\n",
       "      <th></th>\n",
       "      <th>t</th>\n",
       "      <th>status</th>\n",
       "      <th>sex</th>\n",
       "      <th>logWBC</th>\n",
       "      <th>Rx</th>\n",
       "    </tr>\n",
       "  </thead>\n",
       "  <tbody>\n",
       "    <tr>\n",
       "      <th>0</th>\n",
       "      <td>35</td>\n",
       "      <td>0</td>\n",
       "      <td>1</td>\n",
       "      <td>1.45</td>\n",
       "      <td>0</td>\n",
       "    </tr>\n",
       "    <tr>\n",
       "      <th>1</th>\n",
       "      <td>34</td>\n",
       "      <td>0</td>\n",
       "      <td>1</td>\n",
       "      <td>1.47</td>\n",
       "      <td>0</td>\n",
       "    </tr>\n",
       "    <tr>\n",
       "      <th>2</th>\n",
       "      <td>32</td>\n",
       "      <td>0</td>\n",
       "      <td>1</td>\n",
       "      <td>2.20</td>\n",
       "      <td>0</td>\n",
       "    </tr>\n",
       "    <tr>\n",
       "      <th>3</th>\n",
       "      <td>32</td>\n",
       "      <td>0</td>\n",
       "      <td>1</td>\n",
       "      <td>2.53</td>\n",
       "      <td>0</td>\n",
       "    </tr>\n",
       "    <tr>\n",
       "      <th>4</th>\n",
       "      <td>25</td>\n",
       "      <td>0</td>\n",
       "      <td>1</td>\n",
       "      <td>1.78</td>\n",
       "      <td>0</td>\n",
       "    </tr>\n",
       "  </tbody>\n",
       "</table>\n",
       "</div>"
      ],
      "text/plain": [
       "    t  status  sex  logWBC  Rx\n",
       "0  35       0    1    1.45   0\n",
       "1  34       0    1    1.47   0\n",
       "2  32       0    1    2.20   0\n",
       "3  32       0    1    2.53   0\n",
       "4  25       0    1    1.78   0"
      ]
     },
     "execution_count": 63,
     "metadata": {},
     "output_type": "execute_result"
    }
   ],
   "source": [
    "# lifelines comes with some datasets to get you started playing around with it.\n",
    "# Most of the datasets are cleaned-up versions of real datasets. Here we will\n",
    "# use their Leukemia dataset comparing 2 different treatments taken from\n",
    "# http://web1.sph.emory.edu/dkleinb/allDatasets/surv2datasets/anderson.dat\n",
    "\n",
    "from lifelines.datasets import load_leukemia\n",
    "leukemia = load_leukemia()\n",
    "\n",
    "leukemia.head()"
   ]
  },
  {
   "cell_type": "markdown",
   "metadata": {
    "colab_type": "text",
    "id": "xIlaPncgsgw7"
   },
   "source": [
    "### You can you any Pandas DataFrame with lifelines. \n",
    "### The only requirement is that the DataFrame includes features that describe:\n",
    "* a duration of time for the observation\n",
    "* a binary column regarding censorship (`1` if the death event was observed, `0` if the death event was not observed)\n",
    "\n",
    "Sometimes, you will have to engineer these features. How might you go about that? What information would you need?"
   ]
  },
  {
   "cell_type": "code",
   "execution_count": 64,
   "metadata": {
    "colab": {
     "base_uri": "https://localhost:8080/",
     "height": 191
    },
    "colab_type": "code",
    "id": "DQ936c5tsgw-",
    "outputId": "94d35943-a551-46c5-975e-3862872cce1e"
   },
   "outputs": [
    {
     "name": "stdout",
     "output_type": "stream",
     "text": [
      "<class 'pandas.core.frame.DataFrame'>\n",
      "RangeIndex: 42 entries, 0 to 41\n",
      "Data columns (total 5 columns):\n",
      "t         42 non-null int64\n",
      "status    42 non-null int64\n",
      "sex       42 non-null int64\n",
      "logWBC    42 non-null float64\n",
      "Rx        42 non-null int64\n",
      "dtypes: float64(1), int64(4)\n",
      "memory usage: 1.7 KB\n"
     ]
    }
   ],
   "source": [
    "leukemia.info()"
   ]
  },
  {
   "cell_type": "code",
   "execution_count": null,
   "metadata": {
    "colab": {
     "base_uri": "https://localhost:8080/",
     "height": 300
    },
    "colab_type": "code",
    "id": "MDvA8Z9rsgxL",
    "outputId": "0ce5b40c-0a8c-4508-990f-25ad0d0a1810"
   },
   "outputs": [],
   "source": [
    "leukemia.describe()"
   ]
  },
  {
   "cell_type": "code",
   "execution_count": null,
   "metadata": {
    "colab": {
     "base_uri": "https://localhost:8080/",
     "height": 376
    },
    "colab_type": "code",
    "id": "tDasOEocsgxQ",
    "outputId": "fa606f2c-3531-4d30-d453-55f257b85a9f"
   },
   "outputs": [],
   "source": [
    "time = leukemia.t.values\n",
    "event = leukemia.status.values\n",
    "\n",
    "ax = lifelines.plotting.plot_lifetimes(time, event_observed=event)\n",
    "ax.set_xlim(0, 40)\n",
    "ax.grid(axis='x')\n",
    "ax.set_xlabel(\"Time in Months\")\n",
    "ax.set_title(\"Lifelines for Survival of Leukemia Patients\");\n",
    "plt.plot();"
   ]
  },
  {
   "cell_type": "markdown",
   "metadata": {
    "colab_type": "text",
    "id": "5oEzZ_aqsgxV"
   },
   "source": [
    "## Kaplan-Meier survival estimate\n",
    " \n",
    "The Kaplan-Meier method estimates survival probability from observed survival times. It results in a step function that changes value only at the time of each event, and confidence intervals can be computer for the survival probabilities. \n",
    "\n",
    "The KM survival curve,a plot of KM survival probability against time, provides a useful summary of the data.\n",
    "It can be used to estimate measures such as median survival time.\n",
    "\n",
    "It CANNOT account for risk factors and is NOT regression. It is *non-parametric* (does not involve parameters).\n",
    "\n",
    "However it is a good way to visualize a survival dataset, and can be useful to compare the effects of a single categorical variable."
   ]
  },
  {
   "cell_type": "code",
   "execution_count": null,
   "metadata": {
    "colab": {
     "base_uri": "https://localhost:8080/",
     "height": 34
    },
    "colab_type": "code",
    "id": "5XoM5PzGsgxX",
    "outputId": "fc1070bb-1840-46d4-cc8b-1de402cf556c"
   },
   "outputs": [],
   "source": [
    "kmf = lifelines.KaplanMeierFitter()\n",
    "\n",
    "kmf.fit(time, event_observed=event)"
   ]
  },
  {
   "cell_type": "code",
   "execution_count": null,
   "metadata": {
    "colab": {
     "base_uri": "https://localhost:8080/",
     "height": 367
    },
    "colab_type": "code",
    "id": "ZIskdbM1qkKV",
    "outputId": "e01654db-82a5-47b1-8472-a1fa979ed318"
   },
   "outputs": [],
   "source": [
    "!pip install -U matplotlib  ## Colab has matplotlib 2.2.3, we need >3"
   ]
  },
  {
   "cell_type": "code",
   "execution_count": null,
   "metadata": {
    "colab": {
     "base_uri": "https://localhost:8080/",
     "height": 393
    },
    "colab_type": "code",
    "id": "8lnpLxmhsgxc",
    "outputId": "8b17e1d5-f734-40f5-c869-811bd3318b60"
   },
   "outputs": [],
   "source": [
    "kmf.survival_function_.plot()\n",
    "plt.title('Survival Function Leukemia Patients');\n",
    "print(f'Median Survival: {kmf.median_} months after treatment')"
   ]
  },
  {
   "cell_type": "code",
   "execution_count": null,
   "metadata": {
    "colab": {
     "base_uri": "https://localhost:8080/",
     "height": 378
    },
    "colab_type": "code",
    "id": "4eSYFEfzgjyp",
    "outputId": "804e67f3-0236-4be1-93b1-85260354e518"
   },
   "outputs": [],
   "source": [
    "kmf.survival_function_.plot.line()"
   ]
  },
  {
   "cell_type": "code",
   "execution_count": null,
   "metadata": {
    "colab": {
     "base_uri": "https://localhost:8080/",
     "height": 411
    },
    "colab_type": "code",
    "id": "udKT7uBAsgxi",
    "outputId": "31c095f5-70bd-4c7e-bc40-da331a449352"
   },
   "outputs": [],
   "source": [
    "ax = plt.subplot(111)\n",
    "\n",
    "treatment = (leukemia[\"Rx\"] == 1)\n",
    "kmf.fit(time[treatment], event_observed=event[treatment], label=\"Treatment 1\")\n",
    "kmf.plot(ax=ax)\n",
    "print(f'Median survival time with Treatment 1: {kmf.median_} months')\n",
    "\n",
    "kmf.fit(time[~treatment], event_observed=event[~treatment], label=\"Treatment 0\")\n",
    "kmf.plot(ax=ax)\n",
    "print(f'Median survival time with Treatment 0: {kmf.median_} months')\n",
    "\n",
    "plt.ylim(0, 1);\n",
    "plt.title(\"Survival Times for Leukemia Treatments\");"
   ]
  },
  {
   "cell_type": "markdown",
   "metadata": {
    "colab_type": "text",
    "id": "Ej1Zb4IYsgxr"
   },
   "source": [
    "## Cox Proportional Hazards Model -- Survival Regression\n",
    "It assumes the ratio of death event risks (hazard) of two groups remains about the same over time.\n",
    "This ratio is called the hazards ratio or the relative risk.\n",
    "\n",
    "All Cox regression requires is an assumption that ratio of hazards is constant over time across groups.\n",
    "The good news—we don’t need to know anything about overall shape of risk/hazard over time\n",
    "The bad news—the proportionality assumption can be restrictive"
   ]
  },
  {
   "cell_type": "code",
   "execution_count": 66,
   "metadata": {
    "colab": {
     "base_uri": "https://localhost:8080/",
     "height": 330
    },
    "colab_type": "code",
    "id": "Skypo6ABsgxs",
    "outputId": "7685e61e-546c-4c11-acdb-2f78a79b1d05"
   },
   "outputs": [
    {
     "name": "stdout",
     "output_type": "stream",
     "text": [
      "<lifelines.CoxPHFitter: fitted with 42 observations, 12 censored>\n",
      "      duration col = 't'\n",
      "         event col = 'status'\n",
      "number of subjects = 42\n",
      "  number of events = 30\n",
      "    log-likelihood = -69.59\n",
      "  time fit was run = 2019-01-22 23:40:13 UTC\n",
      "\n",
      "---\n",
      "        coef  exp(coef)  se(coef)    z      p  log(p)  lower 0.95  upper 0.95     \n",
      "sex     0.31       1.37      0.45 0.69   0.49   -0.72       -0.58        1.21     \n",
      "logWBC  1.68       5.38      0.34 5.00 <0.005  -14.36        1.02        2.34  ***\n",
      "Rx      1.50       4.50      0.46 3.26 <0.005   -6.79        0.60        2.41    *\n",
      "---\n",
      "Signif. codes: 0 '***' 0.0001 '**' 0.001 '*' 0.01 '.' 0.05 ' ' 1\n",
      "\n",
      "Concordance = 0.85\n",
      "Likelihood ratio test = 47.19 on 3 df, log(p)=-21.87\n"
     ]
    }
   ],
   "source": [
    "# Using Cox Proportional Hazards model\n",
    "cph = lifelines.CoxPHFitter()\n",
    "cph.fit(leukemia, 't', event_col='status')\n",
    "cph.print_summary()"
   ]
  },
  {
   "cell_type": "markdown",
   "metadata": {
    "colab_type": "text",
    "id": "sIUr2gT7sgxz"
   },
   "source": [
    "## Interpreting the Results\n",
    "`coef`: usually denoted with $b$, the coefficient\n",
    "\n",
    "`exp(coef)`: $e^{b}$, equals the estimate of the hazard ratio. Here, we can say that participants who received treatment 1 had ~4.5 times the hazard risk (risk of death) compared to those who received treatment 2. And for every unit the `logWBC` increased, the hazard risk increased >5 times.\n",
    "\n",
    "`se(coef)`: standard error of the coefficient (used for calculating z-score and therefore p-value)\n",
    "\n",
    "`z`: z-score $\\frac{b}{se(b)}$\n",
    "\n",
    "`p`: p-value. derived from z-score. describes statistical significance. more specifically, it is the likelihood that the variable has no effect on the outcome\n",
    "\n",
    "`log(p)`: natural logarithm of p-value... used to more easily see differences in significance\n",
    "\n",
    "`lower/upper 0.95`: confidence levels for the coefficients. in this case, we can confidently say that the coefficient for `logWBC` is somewhere _between_ 1.02 and 2.34.\n",
    "\n",
    "`Signif. codes`: easily, visually identify significant variables! The more stars, the more solid (simply based on p-value). Here `logWBC` is highly significant, `Rx` is significant, and `sex` has no statistical significance\n",
    "\n",
    "`Concordance`: a measure of predictive power for classification problems (here looking at the `status` column. a value from 0 to 1 where values above 0.6 are considered good fits (the higher the better)\n",
    "\n",
    "`Likelihood ratio (LR) test`: this is a measure of how likely it is that the coefficients are not zero, and can compare the goodness of fit of a model versus an alternative null model. Is often actually calculated as a logarithm, resulting in the log-likelihood ratio statistic and allowing the distribution of the test statistic to be approximated with [Wilks' theorem](https://en.wikipedia.org/wiki/Wilks%27_theorem)."
   ]
  },
  {
   "cell_type": "code",
   "execution_count": null,
   "metadata": {
    "colab": {
     "base_uri": "https://localhost:8080/",
     "height": 378
    },
    "colab_type": "code",
    "id": "SHPFMpUqsgx0",
    "outputId": "6e8f47d0-1c58-437b-9908-11a7d0a44eb4"
   },
   "outputs": [],
   "source": [
    "cph.plot_covariate_groups(covariate='logWBC', groups=np.arange(1.5,5,.5))"
   ]
  },
  {
   "cell_type": "code",
   "execution_count": null,
   "metadata": {
    "colab": {
     "base_uri": "https://localhost:8080/",
     "height": 378
    },
    "colab_type": "code",
    "id": "hd02Nni_sgx7",
    "outputId": "ababdda0-67e7-412e-8dbe-04139681e466"
   },
   "outputs": [],
   "source": [
    "cph.plot_covariate_groups(covariate='sex', groups=[0,1])"
   ]
  },
  {
   "cell_type": "markdown",
   "metadata": {
    "colab_type": "text",
    "id": "-JRvblsIsgyB"
   },
   "source": [
    "### Remember how the Cox model assumes the ratio of death events between groups remains constant over time?\n",
    "Well we can check for that."
   ]
  },
  {
   "cell_type": "code",
   "execution_count": 65,
   "metadata": {
    "colab": {
     "base_uri": "https://localhost:8080/",
     "height": 860
    },
    "colab_type": "code",
    "id": "XEG4bSlUsgyC",
    "outputId": "289d3d97-6337-40c1-a935-8d9a1cc03f6f"
   },
   "outputs": [
    {
     "ename": "KeyError",
     "evalue": "'tenure'",
     "output_type": "error",
     "traceback": [
      "\u001b[1;31m---------------------------------------------------------------------------\u001b[0m",
      "\u001b[1;31mKeyError\u001b[0m                                  Traceback (most recent call last)",
      "\u001b[1;32m<ipython-input-65-ba245942b003>\u001b[0m in \u001b[0;36m<module>\u001b[1;34m()\u001b[0m\n\u001b[1;32m----> 1\u001b[1;33m \u001b[0mcph\u001b[0m\u001b[1;33m.\u001b[0m\u001b[0mcheck_assumptions\u001b[0m\u001b[1;33m(\u001b[0m\u001b[0mleukemia\u001b[0m\u001b[1;33m)\u001b[0m\u001b[1;33m\u001b[0m\u001b[0m\n\u001b[0m",
      "\u001b[1;32m~\\Anaconda3\\lib\\site-packages\\lifelines\\fitters\\coxph_fitter.py\u001b[0m in \u001b[0;36mcheck_assumptions\u001b[1;34m(self, training_df, advice, show_plots, p_value_threshold, plot_n_bootstraps)\u001b[0m\n\u001b[0;32m   1580\u001b[0m         \u001b[0mhttp\u001b[0m\u001b[1;33m:\u001b[0m\u001b[1;33m//\u001b[0m\u001b[0meprints\u001b[0m\u001b[1;33m.\u001b[0m\u001b[0mlse\u001b[0m\u001b[1;33m.\u001b[0m\u001b[0mac\u001b[0m\u001b[1;33m.\u001b[0m\u001b[0muk\u001b[0m\u001b[1;33m/\u001b[0m\u001b[1;36m84988\u001b[0m\u001b[1;33m/\u001b[0m\u001b[1;36m1\u001b[0m\u001b[1;33m/\u001b[0m\u001b[1;36m0\u001b[0m\u001b[1;36m6\u001b[0m\u001b[0m_ParkHendry2015\u001b[0m\u001b[1;33m-\u001b[0m\u001b[0mReassessingSchoenfeldTests_Final\u001b[0m\u001b[1;33m.\u001b[0m\u001b[0mpdf\u001b[0m\u001b[1;33m\u001b[0m\u001b[0m\n\u001b[0;32m   1581\u001b[0m         \"\"\"\n\u001b[1;32m-> 1582\u001b[1;33m         \u001b[0mresiduals\u001b[0m \u001b[1;33m=\u001b[0m \u001b[0mself\u001b[0m\u001b[1;33m.\u001b[0m\u001b[0mcompute_residuals\u001b[0m\u001b[1;33m(\u001b[0m\u001b[0mtraining_df\u001b[0m\u001b[1;33m,\u001b[0m \u001b[0mkind\u001b[0m\u001b[1;33m=\u001b[0m\u001b[1;34m\"scaled_schoenfeld\"\u001b[0m\u001b[1;33m)\u001b[0m\u001b[1;33m\u001b[0m\u001b[0m\n\u001b[0m\u001b[0;32m   1583\u001b[0m         test_results = proportional_hazard_test(\n\u001b[0;32m   1584\u001b[0m             \u001b[0mself\u001b[0m\u001b[1;33m,\u001b[0m \u001b[0mtraining_df\u001b[0m\u001b[1;33m,\u001b[0m \u001b[0mtime_transform\u001b[0m\u001b[1;33m=\u001b[0m\u001b[1;34m\"all\"\u001b[0m\u001b[1;33m,\u001b[0m \u001b[0mprecomputed_residuals\u001b[0m\u001b[1;33m=\u001b[0m\u001b[0mresiduals\u001b[0m\u001b[1;33m\u001b[0m\u001b[0m\n",
      "\u001b[1;32m~\\Anaconda3\\lib\\site-packages\\lifelines\\fitters\\coxph_fitter.py\u001b[0m in \u001b[0;36mcompute_residuals\u001b[1;34m(self, training_dataframe, kind)\u001b[0m\n\u001b[0;32m   1054\u001b[0m         \u001b[1;32massert\u001b[0m \u001b[0mkind\u001b[0m \u001b[1;32min\u001b[0m \u001b[0mALLOWED_RESIDUALS\u001b[0m\u001b[1;33m,\u001b[0m \u001b[1;34m\"kind must be in %s\"\u001b[0m \u001b[1;33m%\u001b[0m \u001b[0mALLOWED_RESIDUALS\u001b[0m\u001b[1;33m\u001b[0m\u001b[0m\n\u001b[0;32m   1055\u001b[0m \u001b[1;33m\u001b[0m\u001b[0m\n\u001b[1;32m-> 1056\u001b[1;33m         \u001b[0mX\u001b[0m\u001b[1;33m,\u001b[0m \u001b[0mT\u001b[0m\u001b[1;33m,\u001b[0m \u001b[0mE\u001b[0m\u001b[1;33m,\u001b[0m \u001b[0mweights\u001b[0m\u001b[1;33m,\u001b[0m \u001b[0mshuffled_original_index\u001b[0m\u001b[1;33m,\u001b[0m \u001b[0m_\u001b[0m \u001b[1;33m=\u001b[0m \u001b[0mself\u001b[0m\u001b[1;33m.\u001b[0m\u001b[0m_preprocess_dataframe\u001b[0m\u001b[1;33m(\u001b[0m\u001b[0mtraining_dataframe\u001b[0m\u001b[1;33m)\u001b[0m\u001b[1;33m\u001b[0m\u001b[0m\n\u001b[0m\u001b[0;32m   1057\u001b[0m \u001b[1;33m\u001b[0m\u001b[0m\n\u001b[0;32m   1058\u001b[0m         \u001b[0mresids\u001b[0m \u001b[1;33m=\u001b[0m \u001b[0mgetattr\u001b[0m\u001b[1;33m(\u001b[0m\u001b[0mself\u001b[0m\u001b[1;33m,\u001b[0m \u001b[1;34m\"_compute_%s\"\u001b[0m \u001b[1;33m%\u001b[0m \u001b[0mkind\u001b[0m\u001b[1;33m)\u001b[0m\u001b[1;33m(\u001b[0m\u001b[0mX\u001b[0m\u001b[1;33m,\u001b[0m \u001b[0mT\u001b[0m\u001b[1;33m,\u001b[0m \u001b[0mE\u001b[0m\u001b[1;33m,\u001b[0m \u001b[0mweights\u001b[0m\u001b[1;33m,\u001b[0m \u001b[0mindex\u001b[0m\u001b[1;33m=\u001b[0m\u001b[0mshuffled_original_index\u001b[0m\u001b[1;33m)\u001b[0m\u001b[1;33m\u001b[0m\u001b[0m\n",
      "\u001b[1;32m~\\Anaconda3\\lib\\site-packages\\lifelines\\fitters\\coxph_fitter.py\u001b[0m in \u001b[0;36m_preprocess_dataframe\u001b[1;34m(self, df)\u001b[0m\n\u001b[0;32m    301\u001b[0m             \u001b[0mdf\u001b[0m \u001b[1;33m=\u001b[0m \u001b[0mdf\u001b[0m\u001b[1;33m.\u001b[0m\u001b[0mset_index\u001b[0m\u001b[1;33m(\u001b[0m\u001b[0mself\u001b[0m\u001b[1;33m.\u001b[0m\u001b[0mstrata\u001b[0m\u001b[1;33m)\u001b[0m\u001b[1;33m\u001b[0m\u001b[0m\n\u001b[0;32m    302\u001b[0m         \u001b[1;32melse\u001b[0m\u001b[1;33m:\u001b[0m\u001b[1;33m\u001b[0m\u001b[0m\n\u001b[1;32m--> 303\u001b[1;33m             \u001b[0mdf\u001b[0m \u001b[1;33m=\u001b[0m \u001b[0mdf\u001b[0m\u001b[1;33m.\u001b[0m\u001b[0msort_values\u001b[0m\u001b[1;33m(\u001b[0m\u001b[0mby\u001b[0m\u001b[1;33m=\u001b[0m\u001b[0mself\u001b[0m\u001b[1;33m.\u001b[0m\u001b[0mduration_col\u001b[0m\u001b[1;33m)\u001b[0m\u001b[1;33m\u001b[0m\u001b[0m\n\u001b[0m\u001b[0;32m    304\u001b[0m             \u001b[0moriginal_index\u001b[0m \u001b[1;33m=\u001b[0m \u001b[0mdf\u001b[0m\u001b[1;33m.\u001b[0m\u001b[0mindex\u001b[0m\u001b[1;33m.\u001b[0m\u001b[0mcopy\u001b[0m\u001b[1;33m(\u001b[0m\u001b[1;33m)\u001b[0m\u001b[1;33m\u001b[0m\u001b[0m\n\u001b[0;32m    305\u001b[0m \u001b[1;33m\u001b[0m\u001b[0m\n",
      "\u001b[1;32m~\\Anaconda3\\lib\\site-packages\\pandas\\core\\frame.py\u001b[0m in \u001b[0;36msort_values\u001b[1;34m(self, by, axis, ascending, inplace, kind, na_position)\u001b[0m\n\u001b[0;32m   4419\u001b[0m             \u001b[0mby\u001b[0m \u001b[1;33m=\u001b[0m \u001b[0mby\u001b[0m\u001b[1;33m[\u001b[0m\u001b[1;36m0\u001b[0m\u001b[1;33m]\u001b[0m\u001b[1;33m\u001b[0m\u001b[0m\n\u001b[0;32m   4420\u001b[0m             k = self._get_label_or_level_values(by, axis=axis,\n\u001b[1;32m-> 4421\u001b[1;33m                                                 stacklevel=stacklevel)\n\u001b[0m\u001b[0;32m   4422\u001b[0m \u001b[1;33m\u001b[0m\u001b[0m\n\u001b[0;32m   4423\u001b[0m             \u001b[1;32mif\u001b[0m \u001b[0misinstance\u001b[0m\u001b[1;33m(\u001b[0m\u001b[0mascending\u001b[0m\u001b[1;33m,\u001b[0m \u001b[1;33m(\u001b[0m\u001b[0mtuple\u001b[0m\u001b[1;33m,\u001b[0m \u001b[0mlist\u001b[0m\u001b[1;33m)\u001b[0m\u001b[1;33m)\u001b[0m\u001b[1;33m:\u001b[0m\u001b[1;33m\u001b[0m\u001b[0m\n",
      "\u001b[1;32m~\\Anaconda3\\lib\\site-packages\\pandas\\core\\generic.py\u001b[0m in \u001b[0;36m_get_label_or_level_values\u001b[1;34m(self, key, axis, stacklevel)\u001b[0m\n\u001b[0;32m   1380\u001b[0m             \u001b[0mvalues\u001b[0m \u001b[1;33m=\u001b[0m \u001b[0mself\u001b[0m\u001b[1;33m.\u001b[0m\u001b[0maxes\u001b[0m\u001b[1;33m[\u001b[0m\u001b[0maxis\u001b[0m\u001b[1;33m]\u001b[0m\u001b[1;33m.\u001b[0m\u001b[0mget_level_values\u001b[0m\u001b[1;33m(\u001b[0m\u001b[0mkey\u001b[0m\u001b[1;33m)\u001b[0m\u001b[1;33m.\u001b[0m\u001b[0m_values\u001b[0m\u001b[1;33m\u001b[0m\u001b[0m\n\u001b[0;32m   1381\u001b[0m         \u001b[1;32melse\u001b[0m\u001b[1;33m:\u001b[0m\u001b[1;33m\u001b[0m\u001b[0m\n\u001b[1;32m-> 1382\u001b[1;33m             \u001b[1;32mraise\u001b[0m \u001b[0mKeyError\u001b[0m\u001b[1;33m(\u001b[0m\u001b[0mkey\u001b[0m\u001b[1;33m)\u001b[0m\u001b[1;33m\u001b[0m\u001b[0m\n\u001b[0m\u001b[0;32m   1383\u001b[0m \u001b[1;33m\u001b[0m\u001b[0m\n\u001b[0;32m   1384\u001b[0m         \u001b[1;31m# Check for duplicates\u001b[0m\u001b[1;33m\u001b[0m\u001b[1;33m\u001b[0m\u001b[0m\n",
      "\u001b[1;31mKeyError\u001b[0m: 'tenure'"
     ]
    }
   ],
   "source": [
    "cph.check_assumptions(leukemia)"
   ]
  },
  {
   "cell_type": "code",
   "execution_count": null,
   "metadata": {
    "colab": {
     "base_uri": "https://localhost:8080/",
     "height": 378
    },
    "colab_type": "code",
    "id": "ZO_dFbKesgyG",
    "outputId": "a83db192-ed8c-48d3-bbfc-9f0deb1933f9"
   },
   "outputs": [],
   "source": [
    "# We can see that the sex variable is not very useful by plotting the coefficients\n",
    "cph.plot()"
   ]
  },
  {
   "cell_type": "code",
   "execution_count": null,
   "metadata": {
    "colab": {
     "base_uri": "https://localhost:8080/",
     "height": 347
    },
    "colab_type": "code",
    "id": "D1rwy5wMsgyL",
    "outputId": "dc25e7d4-dd46-4b32-b566-a33cb42a2b70"
   },
   "outputs": [],
   "source": [
    "# Let's do what the check_assumptions function suggested\n",
    "cph = lifelines.CoxPHFitter()\n",
    "cph.fit(leukemia, 't', event_col='status', strata=['sex'])\n",
    "cph.print_summary()\n",
    "cph.baseline_cumulative_hazard_.shape"
   ]
  },
  {
   "cell_type": "markdown",
   "metadata": {
    "colab_type": "text",
    "id": "Qn4HZjeGsgyP"
   },
   "source": [
    "Notice that this regression has `Likelihood ratio test = 74.90 on 2 df, log(p)=-37.45`, while the one that included `sex` had `Likelihood ratio test = 47.19 on 3 df, log(p)=-21.87`. The LRT is higher and log(p) is lower, meaning this is likely a better fitting model."
   ]
  },
  {
   "cell_type": "code",
   "execution_count": null,
   "metadata": {
    "colab": {
     "base_uri": "https://localhost:8080/",
     "height": 378
    },
    "colab_type": "code",
    "id": "jL8JzzhIsgyQ",
    "outputId": "a8fc4df7-d7e1-4ca2-a31e-fff221445b84"
   },
   "outputs": [],
   "source": [
    "cph.plot()"
   ]
  },
  {
   "cell_type": "code",
   "execution_count": null,
   "metadata": {
    "colab": {
     "base_uri": "https://localhost:8080/",
     "height": 1367
    },
    "colab_type": "code",
    "id": "Py4DYu_XsgyU",
    "outputId": "96a4ce6f-afdd-4eb7-e071-bc69a8eff7ff"
   },
   "outputs": [],
   "source": [
    "cph.compute_residuals(leukemia, kind='score')"
   ]
  },
  {
   "cell_type": "code",
   "execution_count": null,
   "metadata": {
    "colab": {
     "base_uri": "https://localhost:8080/",
     "height": 802
    },
    "colab_type": "code",
    "id": "LMN1uGnQsgyY",
    "outputId": "de3b9044-119a-4c85-b770-0b55713b6155"
   },
   "outputs": [],
   "source": [
    "cph.predict_cumulative_hazard(leukemia[:5])"
   ]
  },
  {
   "cell_type": "code",
   "execution_count": null,
   "metadata": {
    "colab": {
     "base_uri": "https://localhost:8080/",
     "height": 536
    },
    "colab_type": "code",
    "id": "bs_Npp6osgyc",
    "outputId": "8548bbfa-1576-4bea-d612-46b0ab86d7e6"
   },
   "outputs": [],
   "source": [
    "surv_func = cph.predict_survival_function(leukemia[:5])\n",
    "\n",
    "exp_lifetime = cph.predict_expectation(leukemia[:5])\n",
    "\n",
    "plt.plot(surv_func)\n",
    "\n",
    "exp_lifetime"
   ]
  },
  {
   "cell_type": "code",
   "execution_count": null,
   "metadata": {
    "colab": {
     "base_uri": "https://localhost:8080/",
     "height": 206
    },
    "colab_type": "code",
    "id": "z7NNzQ_5sgyh",
    "outputId": "d8e0f130-4fd9-4ee8-c925-42b225fd885a"
   },
   "outputs": [],
   "source": [
    "# lifelines comes with some datasets to get you started playing around with it\n",
    "# The Rossi dataset originally comes from Rossi et al. (1980), \n",
    "# and is used as an example in Allison (1995). \n",
    "\n",
    "# The data pertain to 432 convicts who were released from Maryland state prisons \n",
    "# in the 1970s and who were followed up for one year after release. Half the \n",
    "# released convicts were assigned at random to an experimental treatment in \n",
    "# which they were given financial aid; half did not receive aid.\n",
    "\n",
    "from lifelines.datasets import load_rossi\n",
    "recidivism = load_rossi()\n",
    "\n",
    "recidivism.head()\n",
    "\n",
    "# Looking at the Rossi dataset, how long do you think the study lasted?\n",
    "\n",
    "# All features are coded with numerical values, but which features do you think \n",
    "# are actually categorical?"
   ]
  },
  {
   "cell_type": "code",
   "execution_count": null,
   "metadata": {
    "colab": {
     "base_uri": "https://localhost:8080/",
     "height": 260
    },
    "colab_type": "code",
    "id": "1VjqAV3ksgyk",
    "outputId": "fd682c6e-d613-44d8-f3cf-1340bdfc2764"
   },
   "outputs": [],
   "source": [
    "recidivism.info()"
   ]
  },
  {
   "cell_type": "code",
   "execution_count": null,
   "metadata": {
    "colab": {
     "base_uri": "https://localhost:8080/",
     "height": 300
    },
    "colab_type": "code",
    "id": "LVq_ZOFgsgyq",
    "outputId": "2f893d4a-d2a2-462c-85b2-84c6c56c2da4"
   },
   "outputs": [],
   "source": [
    "recidivism.describe()"
   ]
  },
  {
   "cell_type": "markdown",
   "metadata": {
    "colab_type": "text",
    "id": "Wg1s1bpJsgyt"
   },
   "source": [
    "### These are the \"lifelines\" of the study participants as they attempt to avoid recidivism"
   ]
  },
  {
   "cell_type": "code",
   "execution_count": null,
   "metadata": {
    "colab": {
     "base_uri": "https://localhost:8080/",
     "height": 376
    },
    "colab_type": "code",
    "id": "XqhPJfltsgyv",
    "outputId": "c6fa9349-34fe-4c0c-cb24-d7e02fdb24d5"
   },
   "outputs": [],
   "source": [
    "recidivism_sample = recidivism.sample(n=25)\n",
    "\n",
    "duration = recidivism_sample.week.values\n",
    "arrested = recidivism_sample.arrest.values\n",
    "\n",
    "ax = lifelines.plotting.plot_lifetimes(duration, event_observed=arrested)\n",
    "ax.set_xlim(0, 78)\n",
    "ax.grid(axis='x')\n",
    "ax.vlines(52, 0, 25, lw=2, linestyles='--')\n",
    "ax.set_xlabel(\"Time in Weeks\")\n",
    "ax.set_title(\"Recidivism Rates\");\n",
    "plt.plot();"
   ]
  },
  {
   "cell_type": "code",
   "execution_count": null,
   "metadata": {
    "colab": {
     "base_uri": "https://localhost:8080/",
     "height": 34
    },
    "colab_type": "code",
    "id": "lz4mF5kHsgy1",
    "outputId": "4a0151be-2fbc-4748-db10-da7a3c4acf94"
   },
   "outputs": [],
   "source": [
    "kmf = lifelines.KaplanMeierFitter()\n",
    "\n",
    "duration = recidivism.week\n",
    "arrested = recidivism.arrest\n",
    "\n",
    "kmf.fit(duration, arrested)"
   ]
  },
  {
   "cell_type": "code",
   "execution_count": null,
   "metadata": {
    "colab": {
     "base_uri": "https://localhost:8080/",
     "height": 390
    },
    "colab_type": "code",
    "id": "RA1FMgDNsgy4",
    "outputId": "7393ed69-ecca-4961-a60c-f4c3e7123f40"
   },
   "outputs": [],
   "source": [
    "kmf.survival_function_.plot()\n",
    "plt.title('Survival Curve:\\nRecidivism of Recently Released Prisoners');"
   ]
  },
  {
   "cell_type": "code",
   "execution_count": null,
   "metadata": {
    "colab": {
     "base_uri": "https://localhost:8080/",
     "height": 376
    },
    "colab_type": "code",
    "id": "PXveA6jesgy8",
    "outputId": "1171a85f-1fdb-4d79-a742-63c444abb7be"
   },
   "outputs": [],
   "source": [
    "kmf.plot()\n",
    "plt.title('Survival Function of Recidivism Data');"
   ]
  },
  {
   "cell_type": "code",
   "execution_count": null,
   "metadata": {
    "colab": {
     "base_uri": "https://localhost:8080/",
     "height": 34
    },
    "colab_type": "code",
    "id": "Mt3ucIbgsgzB",
    "outputId": "f92e392f-c9d9-466b-a212-db6c4344f1d1"
   },
   "outputs": [],
   "source": [
    "print(f'Median time before recidivism: {kmf.median_} weeks')"
   ]
  },
  {
   "cell_type": "code",
   "execution_count": null,
   "metadata": {
    "colab": {
     "base_uri": "https://localhost:8080/",
     "height": 376
    },
    "colab_type": "code",
    "id": "c9e5lAV7sgzH",
    "outputId": "3c5489df-d99b-4e8d-8246-4193603365a3"
   },
   "outputs": [],
   "source": [
    "kmf_w_aid = lifelines.KaplanMeierFitter()\n",
    "kmf_no_aid = lifelines.KaplanMeierFitter()\n",
    "\n",
    "ax = plt.subplot(111)\n",
    "\n",
    "w_aid = (recidivism['fin']==1)\n",
    "\n",
    "t = np.linspace(0, 70, 71)\n",
    "kmf_w_aid.fit(duration[w_aid], event_observed=arrested[w_aid], timeline=t, label=\"Received Financial Aid\")\n",
    "ax = kmf_w_aid.plot(ax=ax)\n",
    "#print(\"Median survival time of democratic:\", kmf.median_)\n",
    "\n",
    "kmf_no_aid.fit(duration[~w_aid], event_observed=arrested[~w_aid], timeline=t, label=\"No Financial Aid\")\n",
    "ax = kmf_no_aid.plot(ax=ax)\n",
    "#print(\"Median survival time of non-democratic:\", kmf.median_)\n",
    "\n",
    "plt.ylim(.5,1)\n",
    "plt.title(\"Recidivism for Participants Who Received Financial Aid \\vs. Those Who Did Not\");"
   ]
  },
  {
   "cell_type": "code",
   "execution_count": null,
   "metadata": {
    "colab": {
     "base_uri": "https://localhost:8080/",
     "height": 500
    },
    "colab_type": "code",
    "id": "zdM4GOAOsgzN",
    "outputId": "a85fa30c-4695-4e93-ffa0-a15f84e733e8"
   },
   "outputs": [],
   "source": [
    "naf = lifelines.NelsonAalenFitter()\n",
    "naf.fit(duration, arrested)\n",
    "\n",
    "print(naf.cumulative_hazard_.head())\n",
    "naf.plot()"
   ]
  },
  {
   "cell_type": "code",
   "execution_count": null,
   "metadata": {
    "colab": {
     "base_uri": "https://localhost:8080/",
     "height": 403
    },
    "colab_type": "code",
    "id": "uJVPVtmYsgzR",
    "outputId": "e11867c7-9a27-4c1d-833c-d07e23ffcbd4"
   },
   "outputs": [],
   "source": [
    "naf_w_aid = lifelines.NelsonAalenFitter()\n",
    "naf_no_aid = lifelines.NelsonAalenFitter()\n",
    "\n",
    "naf_w_aid.fit(duration[w_aid], event_observed=arrested[w_aid], timeline=t, label=\"Received Financial Aid\")\n",
    "ax = naf_w_aid.plot(loc=slice(0, 50))\n",
    "naf_no_aid.fit(duration[~w_aid], event_observed=arrested[~w_aid], timeline=t, label=\"No Financial Aid\")\n",
    "ax = naf_no_aid.plot(ax=ax, loc=slice(0, 50))\n",
    "plt.title(\"Recidivism Cumulative Hazard\\nfor Participants Who Received Financial Aid \\nvs. Those Who Did Not\");\n",
    "plt.show()"
   ]
  },
  {
   "cell_type": "code",
   "execution_count": null,
   "metadata": {
    "colab": {
     "base_uri": "https://localhost:8080/",
     "height": 503
    },
    "colab_type": "code",
    "id": "5KbuDkxjsgzV",
    "outputId": "986091a0-00af-4071-bb5a-2e3eefa81544"
   },
   "outputs": [],
   "source": [
    "cph = lifelines.CoxPHFitter()\n",
    "cph.fit(recidivism, duration_col='week', event_col='arrest', show_progress=True)\n",
    "\n",
    "cph.print_summary()"
   ]
  },
  {
   "cell_type": "code",
   "execution_count": null,
   "metadata": {
    "colab": {
     "base_uri": "https://localhost:8080/",
     "height": 378
    },
    "colab_type": "code",
    "id": "QoWVH0XDsgzX",
    "outputId": "c4635a1e-63e3-41ad-9d85-e6a2881d932f"
   },
   "outputs": [],
   "source": [
    "cph.plot()"
   ]
  },
  {
   "cell_type": "code",
   "execution_count": null,
   "metadata": {
    "colab": {
     "base_uri": "https://localhost:8080/",
     "height": 378
    },
    "colab_type": "code",
    "id": "r8qPQeKVsgza",
    "outputId": "7fb32283-e088-43fe-d690-80f0a04e0db7"
   },
   "outputs": [],
   "source": [
    "cph.plot_covariate_groups('fin', [0, 1])"
   ]
  },
  {
   "cell_type": "code",
   "execution_count": null,
   "metadata": {
    "colab": {
     "base_uri": "https://localhost:8080/",
     "height": 378
    },
    "colab_type": "code",
    "id": "PPSlBmp-sgzc",
    "outputId": "2c8aeb86-0152-41ea-8321-a6f858f20f1d"
   },
   "outputs": [],
   "source": [
    "cph.plot_covariate_groups('prio', [0, 5, 10, 15])"
   ]
  },
  {
   "cell_type": "code",
   "execution_count": null,
   "metadata": {
    "colab": {
     "base_uri": "https://localhost:8080/",
     "height": 206
    },
    "colab_type": "code",
    "id": "8H4IMry_sgzf",
    "outputId": "b7e4d43f-7d3b-4844-e7bc-3ebe2976342e"
   },
   "outputs": [],
   "source": [
    "r = cph.compute_residuals(recidivism, 'martingale')\n",
    "r.head()"
   ]
  },
  {
   "cell_type": "code",
   "execution_count": null,
   "metadata": {
    "colab": {
     "base_uri": "https://localhost:8080/",
     "height": 503
    },
    "colab_type": "code",
    "id": "4gi-OTLMsgzs",
    "outputId": "60c1ad75-7a54-4520-8171-3802f8cb7e57"
   },
   "outputs": [],
   "source": [
    "cph = lifelines.CoxPHFitter()\n",
    "cph.fit(recidivism, duration_col='week', event_col='arrest', show_progress=True)\n",
    "\n",
    "cph.print_summary()"
   ]
  },
  {
   "cell_type": "code",
   "execution_count": null,
   "metadata": {
    "colab": {
     "base_uri": "https://localhost:8080/",
     "height": 361
    },
    "colab_type": "code",
    "id": "ZNAc3sAVsgzv",
    "outputId": "5b2f5264-ba3e-42d8-9f88-34f9186ff19e"
   },
   "outputs": [],
   "source": [
    "cph.plot();"
   ]
  },
  {
   "cell_type": "code",
   "execution_count": null,
   "metadata": {
    "colab": {
     "base_uri": "https://localhost:8080/",
     "height": 361
    },
    "colab_type": "code",
    "id": "jSWSmL8nsgzx",
    "outputId": "93a2aeff-30aa-4fa0-9356-87c4a9a17419"
   },
   "outputs": [],
   "source": [
    "cph.plot_covariate_groups('prio', [0, 5, 10, 15]);"
   ]
  },
  {
   "cell_type": "code",
   "execution_count": null,
   "metadata": {
    "colab": {
     "base_uri": "https://localhost:8080/",
     "height": 1579
    },
    "colab_type": "code",
    "id": "iODFHl9Usgzz",
    "outputId": "130437c6-b2b1-473f-f7a3-165bf7379f9b"
   },
   "outputs": [],
   "source": [
    "cph.check_assumptions(recidivism)"
   ]
  },
  {
   "cell_type": "markdown",
   "metadata": {
    "colab_type": "text",
    "id": "XY-yJuKcsgz1"
   },
   "source": [
    "## The Intuition - Hazard and Survival Functions\n",
    "\n",
    "### Hazard Function - the dangerous bathtub\n",
    "\n",
    "The hazard function represents the *instantaneous* likelihood of failure. It can be treated as a PDF (probability density function), and with real-world data comes in three typical shapes.\n",
    "\n",
    "![Different hazard functions](https://upload.wikimedia.org/wikipedia/commons/2/25/Compsyseng17_04.jpg)\n",
    "\n",
    "Increasing and decreasing failure rate are fairly intuitive - the \"bathtub\" shaped is perhaps the most surprising, but actually models many real-world situations. In fact, life expectancy in general, and most threats to it, assume this shape.\n",
    "\n",
    "What the \"bathtub\" means is that - threats are highest at youth (e.g. infant mortality), but then decrease and stabilize at maturity, only to eventually re-emerge in old age. Many diseases primarily threaten children and elderly, and middle aged people are also more robust to physical trauma.\n",
    "\n",
    "The \"bathtub\" is also suitable for many non-human situations - often with reliability analysis, mechanical parts either fail early (due to manufacturing defects), or they survive and have a relatively long lifetime to eventually fail out of age and use.\n",
    "\n",
    "### Survival Function (aka reliability function) - it's just a (backwards) CDF\n",
    "\n",
    "Since the hazard function can be treated as a probability density function, it makes sense to think about the corresponding cumulative distribution function (CDF). But because we're modeling time to failure, it's actually more interesting to look at the CDF backwards - this is called the complementary cumulative distribution function.\n",
    "\n",
    "In survival analysis there's a special name for it - the survival function - and it gives the probability that the object being studied will survive beyond a given time.\n",
    "\n",
    "![4 survival functions](https://upload.wikimedia.org/wikipedia/commons/e/e0/Four_survival_functions.svg)\n",
    "\n",
    "As you can see they all start at 1 for time 0 - at the beginning, all things are alive. Then they all move down over time to eventually approach and converge to 0. The different shapes reflect the average/expected retention of a population subject to this function over time, and as such this is a particularly useful visualization when modeling overall retention/churn situations.\n",
    "\n",
    "### Ways to estimate/model survival analysis - terms to be aware of\n",
    "Key Components Necessary for these models - duration, and whether observation is censored.\n",
    "\n",
    "- Kaplan Meier Estimator\n",
    "- Nelson-Aalen Estimator\n",
    "- Proportional Hazards (Cox Model, integrates covariates)\n",
    "- Additive Hazards Model (Aalen's Additive Model, when covariates are time-dependent)\n",
    "\n",
    "As with most statistics, these are all refinements of the general principles, with the math to back them up. Software packages will tend to select reasonable defaults, and allow you to use parameters to tune or select things. The math for these gets varied and deep - but feel free to [dive in](https://en.wikipedia.org/wiki/Survival_analysis) if you're curious!"
   ]
  },
  {
   "cell_type": "markdown",
   "metadata": {
    "colab_type": "text",
    "id": "Su5WdRa139yW"
   },
   "source": [
    "## Live! Let's try modeling heart attack survival\n",
    "\n",
    "https://archive.ics.uci.edu/ml/datasets/echocardiogram"
   ]
  },
  {
   "cell_type": "code",
   "execution_count": null,
   "metadata": {
    "colab": {},
    "colab_type": "code",
    "id": "4GcRG1ussgz1"
   },
   "outputs": [],
   "source": [
    "# TODO - Live! (As time permits)"
   ]
  },
  {
   "cell_type": "markdown",
   "metadata": {
    "colab_type": "text",
    "id": "8tMyVxHRa3cQ"
   },
   "source": [
    "# Assignment - Customer Churn\n",
    "\n",
    "Treselle Systems, a data consulting service, [analyzed customer churn data using logistic regression](http://www.treselle.com/blog/customer-churn-logistic-regression-with-r/). For simply modeling whether or not a customer left this can work, but if we want to model the actual tenure of a customer, survival analysis is more appropriate.\n",
    "\n",
    "The \"tenure\" feature represents the duration that a given customer has been with them, and \"churn\" represents whether or not that customer left (i.e. the \"event\", from a survival analysis perspective). So, any situation where churn is \"no\" means that a customer is still active, and so from a survival analysis perspective the observation is censored (we have their tenure up to now, but we don't know their *true* duration until event).\n",
    "\n",
    "Your assignment is to [use their data](https://github.com/treselle-systems/customer_churn_analysis) to fit a survival model, and answer the following questions:\n",
    "\n",
    "- What features best model customer churn?\n",
    "- What would you characterize as the \"warning signs\" that a customer may discontinue service?\n",
    "- What actions would you recommend to this business to try to improve their customer retention?\n",
    "\n",
    "Please create at least *3* plots or visualizations to support your findings, and in general write your summary/results targeting an \"interested layperson\" (e.g. your hypothetical business manager) as your audience.\n",
    "\n",
    "This means that, as is often the case in data science, there isn't a single objective right answer - your goal is to *support* your answer, whatever it is, with data and reasoning.\n",
    "\n",
    "Good luck!"
   ]
  },
  {
   "cell_type": "code",
   "execution_count": 4,
   "metadata": {
    "colab": {
     "base_uri": "https://localhost:8080/",
     "height": 342
    },
    "colab_type": "code",
    "id": "OIfMQKnSy8Zl",
    "outputId": "87f6401d-352f-437d-eda8-c4021573d29c",
    "scrolled": true
   },
   "outputs": [
    {
     "data": {
      "text/html": [
       "<div>\n",
       "<style scoped>\n",
       "    .dataframe tbody tr th:only-of-type {\n",
       "        vertical-align: middle;\n",
       "    }\n",
       "\n",
       "    .dataframe tbody tr th {\n",
       "        vertical-align: top;\n",
       "    }\n",
       "\n",
       "    .dataframe thead th {\n",
       "        text-align: right;\n",
       "    }\n",
       "</style>\n",
       "<table border=\"1\" class=\"dataframe\">\n",
       "  <thead>\n",
       "    <tr style=\"text-align: right;\">\n",
       "      <th></th>\n",
       "      <th>customerID</th>\n",
       "      <th>gender</th>\n",
       "      <th>SeniorCitizen</th>\n",
       "      <th>Partner</th>\n",
       "      <th>Dependents</th>\n",
       "      <th>tenure</th>\n",
       "      <th>PhoneService</th>\n",
       "      <th>MultipleLines</th>\n",
       "      <th>InternetService</th>\n",
       "      <th>OnlineSecurity</th>\n",
       "      <th>...</th>\n",
       "      <th>DeviceProtection</th>\n",
       "      <th>TechSupport</th>\n",
       "      <th>StreamingTV</th>\n",
       "      <th>StreamingMovies</th>\n",
       "      <th>Contract</th>\n",
       "      <th>PaperlessBilling</th>\n",
       "      <th>PaymentMethod</th>\n",
       "      <th>MonthlyCharges</th>\n",
       "      <th>TotalCharges</th>\n",
       "      <th>Churn</th>\n",
       "    </tr>\n",
       "  </thead>\n",
       "  <tbody>\n",
       "    <tr>\n",
       "      <th>0</th>\n",
       "      <td>7590-VHVEG</td>\n",
       "      <td>Female</td>\n",
       "      <td>0</td>\n",
       "      <td>Yes</td>\n",
       "      <td>No</td>\n",
       "      <td>1</td>\n",
       "      <td>No</td>\n",
       "      <td>No phone service</td>\n",
       "      <td>DSL</td>\n",
       "      <td>No</td>\n",
       "      <td>...</td>\n",
       "      <td>No</td>\n",
       "      <td>No</td>\n",
       "      <td>No</td>\n",
       "      <td>No</td>\n",
       "      <td>Month-to-month</td>\n",
       "      <td>Yes</td>\n",
       "      <td>Electronic check</td>\n",
       "      <td>29.85</td>\n",
       "      <td>29.85</td>\n",
       "      <td>No</td>\n",
       "    </tr>\n",
       "    <tr>\n",
       "      <th>1</th>\n",
       "      <td>5575-GNVDE</td>\n",
       "      <td>Male</td>\n",
       "      <td>0</td>\n",
       "      <td>No</td>\n",
       "      <td>No</td>\n",
       "      <td>34</td>\n",
       "      <td>Yes</td>\n",
       "      <td>No</td>\n",
       "      <td>DSL</td>\n",
       "      <td>Yes</td>\n",
       "      <td>...</td>\n",
       "      <td>Yes</td>\n",
       "      <td>No</td>\n",
       "      <td>No</td>\n",
       "      <td>No</td>\n",
       "      <td>One year</td>\n",
       "      <td>No</td>\n",
       "      <td>Mailed check</td>\n",
       "      <td>56.95</td>\n",
       "      <td>1889.5</td>\n",
       "      <td>No</td>\n",
       "    </tr>\n",
       "    <tr>\n",
       "      <th>2</th>\n",
       "      <td>3668-QPYBK</td>\n",
       "      <td>Male</td>\n",
       "      <td>0</td>\n",
       "      <td>No</td>\n",
       "      <td>No</td>\n",
       "      <td>2</td>\n",
       "      <td>Yes</td>\n",
       "      <td>No</td>\n",
       "      <td>DSL</td>\n",
       "      <td>Yes</td>\n",
       "      <td>...</td>\n",
       "      <td>No</td>\n",
       "      <td>No</td>\n",
       "      <td>No</td>\n",
       "      <td>No</td>\n",
       "      <td>Month-to-month</td>\n",
       "      <td>Yes</td>\n",
       "      <td>Mailed check</td>\n",
       "      <td>53.85</td>\n",
       "      <td>108.15</td>\n",
       "      <td>Yes</td>\n",
       "    </tr>\n",
       "    <tr>\n",
       "      <th>3</th>\n",
       "      <td>7795-CFOCW</td>\n",
       "      <td>Male</td>\n",
       "      <td>0</td>\n",
       "      <td>No</td>\n",
       "      <td>No</td>\n",
       "      <td>45</td>\n",
       "      <td>No</td>\n",
       "      <td>No phone service</td>\n",
       "      <td>DSL</td>\n",
       "      <td>Yes</td>\n",
       "      <td>...</td>\n",
       "      <td>Yes</td>\n",
       "      <td>Yes</td>\n",
       "      <td>No</td>\n",
       "      <td>No</td>\n",
       "      <td>One year</td>\n",
       "      <td>No</td>\n",
       "      <td>Bank transfer (automatic)</td>\n",
       "      <td>42.30</td>\n",
       "      <td>1840.75</td>\n",
       "      <td>No</td>\n",
       "    </tr>\n",
       "    <tr>\n",
       "      <th>4</th>\n",
       "      <td>9237-HQITU</td>\n",
       "      <td>Female</td>\n",
       "      <td>0</td>\n",
       "      <td>No</td>\n",
       "      <td>No</td>\n",
       "      <td>2</td>\n",
       "      <td>Yes</td>\n",
       "      <td>No</td>\n",
       "      <td>Fiber optic</td>\n",
       "      <td>No</td>\n",
       "      <td>...</td>\n",
       "      <td>No</td>\n",
       "      <td>No</td>\n",
       "      <td>No</td>\n",
       "      <td>No</td>\n",
       "      <td>Month-to-month</td>\n",
       "      <td>Yes</td>\n",
       "      <td>Electronic check</td>\n",
       "      <td>70.70</td>\n",
       "      <td>151.65</td>\n",
       "      <td>Yes</td>\n",
       "    </tr>\n",
       "  </tbody>\n",
       "</table>\n",
       "<p>5 rows × 21 columns</p>\n",
       "</div>"
      ],
      "text/plain": [
       "   customerID  gender  SeniorCitizen Partner Dependents  tenure PhoneService  \\\n",
       "0  7590-VHVEG  Female              0     Yes         No       1           No   \n",
       "1  5575-GNVDE    Male              0      No         No      34          Yes   \n",
       "2  3668-QPYBK    Male              0      No         No       2          Yes   \n",
       "3  7795-CFOCW    Male              0      No         No      45           No   \n",
       "4  9237-HQITU  Female              0      No         No       2          Yes   \n",
       "\n",
       "      MultipleLines InternetService OnlineSecurity  ...  DeviceProtection  \\\n",
       "0  No phone service             DSL             No  ...                No   \n",
       "1                No             DSL            Yes  ...               Yes   \n",
       "2                No             DSL            Yes  ...                No   \n",
       "3  No phone service             DSL            Yes  ...               Yes   \n",
       "4                No     Fiber optic             No  ...                No   \n",
       "\n",
       "  TechSupport StreamingTV StreamingMovies        Contract PaperlessBilling  \\\n",
       "0          No          No              No  Month-to-month              Yes   \n",
       "1          No          No              No        One year               No   \n",
       "2          No          No              No  Month-to-month              Yes   \n",
       "3         Yes          No              No        One year               No   \n",
       "4          No          No              No  Month-to-month              Yes   \n",
       "\n",
       "               PaymentMethod MonthlyCharges  TotalCharges Churn  \n",
       "0           Electronic check          29.85         29.85    No  \n",
       "1               Mailed check          56.95        1889.5    No  \n",
       "2               Mailed check          53.85        108.15   Yes  \n",
       "3  Bank transfer (automatic)          42.30       1840.75    No  \n",
       "4           Electronic check          70.70        151.65   Yes  \n",
       "\n",
       "[5 rows x 21 columns]"
      ]
     },
     "execution_count": 4,
     "metadata": {},
     "output_type": "execute_result"
    }
   ],
   "source": [
    "# Loading the data to get you started\n",
    "churn_data = pd.read_csv(\n",
    "    'https://raw.githubusercontent.com/treselle-systems/'\n",
    "    'customer_churn_analysis/master/WA_Fn-UseC_-Telco-Customer-Churn.csv')\n",
    "churn_data.head()"
   ]
  },
  {
   "cell_type": "code",
   "execution_count": 5,
   "metadata": {
    "colab": {
     "base_uri": "https://localhost:8080/",
     "height": 469
    },
    "colab_type": "code",
    "id": "lmGBY5fX0bmu",
    "outputId": "6b57713b-fcc2-4879-a213-30da3fa3d700"
   },
   "outputs": [
    {
     "name": "stdout",
     "output_type": "stream",
     "text": [
      "<class 'pandas.core.frame.DataFrame'>\n",
      "RangeIndex: 7043 entries, 0 to 7042\n",
      "Data columns (total 21 columns):\n",
      "customerID          7043 non-null object\n",
      "gender              7043 non-null object\n",
      "SeniorCitizen       7043 non-null int64\n",
      "Partner             7043 non-null object\n",
      "Dependents          7043 non-null object\n",
      "tenure              7043 non-null int64\n",
      "PhoneService        7043 non-null object\n",
      "MultipleLines       7043 non-null object\n",
      "InternetService     7043 non-null object\n",
      "OnlineSecurity      7043 non-null object\n",
      "OnlineBackup        7043 non-null object\n",
      "DeviceProtection    7043 non-null object\n",
      "TechSupport         7043 non-null object\n",
      "StreamingTV         7043 non-null object\n",
      "StreamingMovies     7043 non-null object\n",
      "Contract            7043 non-null object\n",
      "PaperlessBilling    7043 non-null object\n",
      "PaymentMethod       7043 non-null object\n",
      "MonthlyCharges      7043 non-null float64\n",
      "TotalCharges        7043 non-null object\n",
      "Churn               7043 non-null object\n",
      "dtypes: float64(1), int64(2), object(18)\n",
      "memory usage: 1.1+ MB\n"
     ]
    }
   ],
   "source": [
    "churn_data.info()  # A lot of these are \"object\" - some may need to be fixed..."
   ]
  },
  {
   "cell_type": "code",
   "execution_count": 44,
   "metadata": {},
   "outputs": [
    {
     "name": "stdout",
     "output_type": "stream",
     "text": [
      "<class 'pandas.core.frame.DataFrame'>\n",
      "RangeIndex: 7043 entries, 0 to 7042\n",
      "Data columns (total 18 columns):\n",
      "gender              7043 non-null int64\n",
      "SeniorCitizen       7043 non-null int64\n",
      "Partner             7043 non-null int64\n",
      "Dependents          7043 non-null int64\n",
      "tenure              7043 non-null int64\n",
      "InternetService     7043 non-null int64\n",
      "OnlineSecurity      7043 non-null int64\n",
      "OnlineBackup        7043 non-null int64\n",
      "DeviceProtection    7043 non-null int64\n",
      "TechSupport         7043 non-null int64\n",
      "StreamingTV         7043 non-null int64\n",
      "StreamingMovies     7043 non-null int64\n",
      "Contract            7043 non-null int64\n",
      "PaperlessBilling    7043 non-null int64\n",
      "PaymentMethod       7043 non-null int64\n",
      "MonthlyCharges      7043 non-null float64\n",
      "TotalCharges        7043 non-null object\n",
      "Churn               7043 non-null int64\n",
      "dtypes: float64(1), int64(16), object(1)\n",
      "memory usage: 990.5+ KB\n"
     ]
    }
   ],
   "source": [
    "df = churn_data.drop(columns = ['customerID', 'PhoneService','MultipleLines',], axis =1)\n",
    "dfbin = df.replace({'Yes': 1, 'No': 0, 'Female': 1, 'Male': 0,\n",
    "                        'DSL':2, 'Fiber optic':1,'No internet service':2,\n",
    "                         'Month-to-month':0, 'One year':1, 'Two year':2, \n",
    "                         'Electronic check':0, 'Mailed check':1, \n",
    "                        'Bank transfer (automatic)':2,\n",
    "                       'Credit card (automatic)':3} )\n",
    "\n",
    "X = dfbin.drop(columns= 'Churn')\n",
    "y = dfbin['Churn']\n",
    "dfbin.info()"
   ]
  },
  {
   "cell_type": "code",
   "execution_count": 46,
   "metadata": {},
   "outputs": [
    {
     "data": {
      "image/png": "[encoded data removed]",
      "text/plain": [
       "<Figure size 432x288 with 1 Axes>"
      ]
     },
     "metadata": {
      "needs_background": "light"
     },
     "output_type": "display_data"
    }
   ],
   "source": [
    "sample_df = dfbin.sample(n= 80)\n",
    "\n",
    "duration = sample_df.tenure.values\n",
    "churn = sample_df.Churn.values\n",
    "\n",
    "ax = lifelines.plotting.plot_lifetimes(duration, churn)\n",
    "ax.set_xlim(0, 78)\n",
    "ax.grid(axis='x')\n",
    "ax.set_xlabel(\"Time in months\")\n",
    "ax.set_title(\"Churn Rate\");\n",
    "plt.plot();"
   ]
  },
  {
   "cell_type": "code",
   "execution_count": 56,
   "metadata": {},
   "outputs": [],
   "source": [
    "cols = dfbin.columns.drop('TotalCharges')\n",
    "dfint = dfbin[cols].astype(int)"
   ]
  },
  {
   "cell_type": "code",
   "execution_count": 57,
   "metadata": {},
   "outputs": [],
   "source": [
    "duration = dfint.tenure.values\n",
    "churn = dfint.Churn.values\n"
   ]
  },
  {
   "cell_type": "code",
   "execution_count": 58,
   "metadata": {},
   "outputs": [
    {
     "name": "stdout",
     "output_type": "stream",
     "text": [
      "          NA_estimate\n",
      "timeline             \n",
      "0.0          0.000000\n",
      "1.0          0.055550\n",
      "2.0          0.074896\n",
      "3.0          0.090219\n",
      "4.0          0.104193\n"
     ]
    },
    {
     "data": {
      "image/png": "[encoded data removed]",
      "text/plain": [
       "<Figure size 432x288 with 1 Axes>"
      ]
     },
     "metadata": {
      "needs_background": "light"
     },
     "output_type": "display_data"
    }
   ],
   "source": [
    "naf = lifelines.NelsonAalenFitter()\n",
    "naf.fit(duration, churn)\n",
    "\n",
    "print(naf.cumulative_hazard_.head())\n",
    "naf.plot();"
   ]
  },
  {
   "cell_type": "code",
   "execution_count": 70,
   "metadata": {},
   "outputs": [
    {
     "name": "stdout",
     "output_type": "stream",
     "text": [
      "<lifelines.CoxPHFitter: fitted with 7043 observations, 5174 censored>\n",
      "      duration col = 'tenure'\n",
      "         event col = 'Churn'\n",
      "number of subjects = 7043\n",
      "  number of events = 1869\n",
      "    log-likelihood = -13924.01\n",
      "  time fit was run = 2019-01-23 00:59:10 UTC\n",
      "\n",
      "---\n",
      "                  coef  exp(coef)  se(coef)      z      p  log(p)  lower 0.95  upper 0.95     \n",
      "gender            0.08       1.08      0.05   1.70   0.09   -2.41       -0.01        0.17     \n",
      "SeniorCitizen    -0.12       0.89      0.06  -2.09   0.04   -3.32       -0.23       -0.01    .\n",
      "Partner          -0.55       0.58      0.05  -9.97 <0.005  -52.20       -0.65       -0.44  ***\n",
      "Dependents       -0.03       0.97      0.07  -0.48   0.63   -0.46       -0.17        0.10     \n",
      "InternetService  -0.87       0.42      0.06 -13.93 <0.005  -99.82       -0.99       -0.75  ***\n",
      "OnlineSecurity   -0.54       0.58      0.06  -8.74 <0.005  -40.57       -0.66       -0.42  ***\n",
      "OnlineBackup     -0.59       0.56      0.05 -11.16 <0.005  -64.96       -0.69       -0.48  ***\n",
      "DeviceProtection -0.24       0.79      0.05  -4.42 <0.005  -11.54       -0.34       -0.13  ***\n",
      "TechSupport      -0.29       0.75      0.06  -4.72 <0.005  -12.95       -0.41       -0.17  ***\n",
      "StreamingTV       0.11       1.11      0.05   2.01   0.04   -3.12        0.00        0.21    .\n",
      "StreamingMovies   0.00       1.00      0.05   0.08   0.93   -0.07       -0.10        0.11     \n",
      "Contract         -1.63       0.20      0.07 -24.64 <0.005 -306.93       -1.76       -1.50  ***\n",
      "PaperlessBilling  0.14       1.15      0.06   2.47   0.01   -4.30        0.03        0.25    .\n",
      "PaymentMethod    -0.24       0.78      0.02 -10.96 <0.005  -62.67       -0.29       -0.20  ***\n",
      "MonthlyCharges   -0.02       0.98      0.00 -13.16 <0.005  -89.37       -0.02       -0.02  ***\n",
      "---\n",
      "Signif. codes: 0 '***' 0.0001 '**' 0.001 '*' 0.01 '.' 0.05 ' ' 1\n",
      "\n",
      "Concordance = 0.86\n",
      "Likelihood ratio test = 3458.07 on 15 df, log(p)=-inf\n"
     ]
    }
   ],
   "source": [
    "cph = lifelines.CoxPHFitter()\n",
    "cph.fit(dfint, duration_col='tenure', event_col='Churn')\n",
    "\n",
    "cph.print_summary()"
   ]
  },
  {
   "cell_type": "code",
   "execution_count": 69,
   "metadata": {},
   "outputs": [
    {
     "data": {
      "image/png": "[encoded data removed]",
      "text/plain": [
       "<Figure size 432x288 with 1 Axes>"
      ]
     },
     "metadata": {
      "needs_background": "light"
     },
     "output_type": "display_data"
    }
   ],
   "source": [
    "cph.plot();"
   ]
  },
  {
   "cell_type": "markdown",
   "metadata": {},
   "source": [
    "What features best model customer churn?\n",
    "What would you characterize as the \"warning signs\" that a customer may discontinue service?\n",
    "What actions would you recommend to this business to try to improve their customer retention?"
   ]
  },
  {
   "cell_type": "markdown",
   "metadata": {},
   "source": [
    "It appears the features that best model customer churn are Partner, Internet Service, Online Security, Online Backup,\n",
    "Device protection, Tech Support, contract, Payment Method and Monthly Charges.\n",
    "A warning sign that a customer may discontinue service is any major change to the above categories. A change in monthly charges or contract type may indicate displeasure with the product or service the customer is recieving. \n",
    "If I were to suggest anything to improve the churn rate it would be to incentivize tenure, reward those who stick around with services that can be included for discounted rates after a time period. Another possible solution is go away from contracts which make people feel trapped and allow a monthly interaction. "
   ]
  },
  {
   "cell_type": "markdown",
   "metadata": {
    "colab_type": "text",
    "id": "Vaqh-1Dqa4hz"
   },
   "source": [
    "# Resources and stretch goals\n",
    "\n",
    "Resources:\n",
    "- [Wikipedia on Survival analysis](https://en.wikipedia.org/wiki/Survival_analysis)\n",
    "- [Wikipedia on Survival functions](https://en.wikipedia.org/wiki/Survival_function)\n",
    "- [Summary of survival analysis by a biostatistician](http://sphweb.bumc.bu.edu/otlt/MPH-Modules/BS/BS704_Survival/BS704_Survival_print.html)\n",
    "- [Another medical statistics article on survival analysis](https://www.sciencedirect.com/science/article/pii/S1756231716300639)\n",
    "- [Survival analysis using R lecture slides](http://www.stat.columbia.edu/~madigan/W2025/notes/survival.pdf)\n",
    "\n",
    "Stretch goals:\n",
    "- Make ~5 slides that summarize and deliver your findings, as if you were to present them in a business meeting\n",
    "- Revisit any of the data from the lecture material, and explore/dig deeper\n",
    "- Write your own Python functions to calculate a simple hazard or survival function, and try to generate and plot data with them"
   ]
  },
  {
   "cell_type": "code",
   "execution_count": null,
   "metadata": {},
   "outputs": [],
   "source": []
  }
 ],
 "metadata": {
  "colab": {
   "name": "LS_DS_232_Survival_Analysis.ipynb",
   "provenance": [],
   "version": "0.3.2"
  },
  "kernelspec": {
   "display_name": "Python 3",
   "language": "python",
   "name": "python3"
  },
  "language_info": {
   "codemirror_mode": {
    "name": "ipython",
    "version": 3
   },
   "file_extension": ".py",
   "mimetype": "text/x-python",
   "name": "python",
   "nbconvert_exporter": "python",
   "pygments_lexer": "ipython3",
   "version": "3.7.0"
  }
 },
 "nbformat": 4,
 "nbformat_minor": 1
}
