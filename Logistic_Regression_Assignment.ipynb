{
  "nbformat": 4,
  "nbformat_minor": 0,
  "metadata": {
    "colab": {
      "name": "Logistic_Regression_Assignment.ipynb",
      "version": "0.3.2",
      "provenance": [],
      "include_colab_link": true
    },
    "kernelspec": {
      "name": "python3",
      "display_name": "Python 3"
    }
  },
  "cells": [
    {
      "cell_type": "markdown",
      "metadata": {
        "id": "view-in-github",
        "colab_type": "text"
      },
      "source": [
        "<a href=\"https://colab.research.google.com/github/trista-paul/DS-Unit-2-Sprint-3-Advanced-Regression/blob/master/Logistic_Regression_Assignment.ipynb\" target=\"_parent\"><img src=\"https://colab.research.google.com/assets/colab-badge.svg\" alt=\"Open In Colab\"/></a>"
      ]
    },
    {
      "metadata": {
        "id": "qOapoumfEsyy",
        "colab_type": "code",
        "colab": {}
      },
      "cell_type": "code",
      "source": [
        "#I'm scared to open it back up"
      ],
      "execution_count": 0,
      "outputs": []
    },
    {
      "metadata": {
        "id": "KvP1OJIZGW-z",
        "colab_type": "code",
        "colab": {}
      },
      "cell_type": "code",
      "source": [
        "import pandas as pd\n",
        "import numpy as np\n",
        "from sklearn.model_selection import train_test_split\n",
        "from sklearn.linear_model import LinearRegression\n",
        "from sklearn.linear_model import LogisticRegression"
      ],
      "execution_count": 0,
      "outputs": []
    },
    {
      "metadata": {
        "id": "iblW74C8afuR",
        "colab_type": "text"
      },
      "cell_type": "markdown",
      "source": [
        "## Assignment - real-world classification\n",
        "\n",
        "We're going to check out a larger dataset - the [FMA Free Music Archive data](https://github.com/mdeff/fma). It has a selection of CSVs with metadata and calculated audio features that you can load and try to use to classify genre of tracks. To get you started:"
      ]
    },
    {
      "metadata": {
        "colab_type": "text",
        "id": "e_JBoNpp5N_O"
      },
      "cell_type": "markdown",
      "source": [
        "This is the biggest data you've played with so far, and while it does generally fit in Colab, it can take awhile to run. That's part of the challenge!\n",
        "\n",
        "Your tasks:\n",
        "- Clean up the variable names in the dataframe\n",
        "- Use logistic regression to fit a model predicting (primary/top) genre\n",
        "- Inspect, iterate, and improve your model\n",
        "- Answer the following questions (written, ~paragraph each):\n",
        "  - What are the best predictors of genre?\n",
        "  - What information isn't very useful for predicting genre?\n",
        "  - What surprised you the most about your results?\n",
        "\n",
        "*Important caveats*:\n",
        "- This is going to be difficult data to work with - don't let the perfect be the enemy of the good!\n",
        "- Be creative in cleaning it up - if the best way you know how to do it is download it locally and edit as a spreadsheet, that's OK!\n",
        "- If the data size becomes problematic, consider sampling/subsetting\n",
        "- You do not need perfect or complete results - just something plausible that runs, and that supports the reasoning in your written answers\n",
        "\n",
        "If you find that fitting a model to classify *all* genres isn't very good, it's totally OK to limit to the most frequent genres, or perhaps trying to combine or cluster genres as a preprocessing step. Even then, there will be limits to how good a model can be with just this metadata - if you really want to train an effective genre classifier, you'll have to involve the other data (see stretch goals).\n",
        "\n",
        "This is real data - there is no \"one correct answer\", so you can take this in a variety of directions. Just make sure to support your findings, and feel free to share them as well! This is meant to be practice for dealing with other \"messy\" data, a common task in data science."
      ]
    },
    {
      "metadata": {
        "id": "8uWAFDsNCy4o",
        "colab_type": "code",
        "colab": {}
      },
      "cell_type": "code",
      "source": [
        "#Assignment - metadata from music tracks extracted from wav\n",
        "#need to clean - might need to directly edit csv\n",
        "#predict genre from metadata\n",
        "#what are the best predictors for genre?\n",
        "#what isn't useful for predicting genre?\n",
        "#what surprised me about predictions?"
      ],
      "execution_count": 0,
      "outputs": []
    },
    {
      "metadata": {
        "id": "SsySnuKaKtQf",
        "colab_type": "code",
        "outputId": "46f15d8d-03c3-4b59-e5a0-9101d603cc02",
        "colab": {
          "base_uri": "https://localhost:8080/",
          "height": 420
        }
      },
      "cell_type": "code",
      "source": [
        "!wget https://os.unil.cloud.switch.ch/fma/fma_metadata.zip\n",
        "!unzip fma_metadata.zip"
      ],
      "execution_count": 1,
      "outputs": [
        {
          "output_type": "stream",
          "text": [
            "--2019-02-28 20:57:19--  https://os.unil.cloud.switch.ch/fma/fma_metadata.zip\n",
            "Resolving os.unil.cloud.switch.ch (os.unil.cloud.switch.ch)... 86.119.28.13, 2001:620:5ca1:2ff::ce53\n",
            "Connecting to os.unil.cloud.switch.ch (os.unil.cloud.switch.ch)|86.119.28.13|:443... connected.\n",
            "HTTP request sent, awaiting response... 200 OK\n",
            "Length: 358412441 (342M) [application/zip]\n",
            "Saving to: ‘fma_metadata.zip’\n",
            "\n",
            "fma_metadata.zip    100%[===================>] 341.81M  26.1MB/s    in 31s     \n",
            "\n",
            "2019-02-28 20:57:51 (11.0 MB/s) - ‘fma_metadata.zip’ saved [358412441/358412441]\n",
            "\n",
            "Archive:  fma_metadata.zip\n",
            " bunzipping: fma_metadata/README.txt  \n",
            " bunzipping: fma_metadata/checksums  \n",
            " bunzipping: fma_metadata/not_found.pickle  \n",
            " bunzipping: fma_metadata/raw_genres.csv  \n",
            " bunzipping: fma_metadata/raw_albums.csv  \n",
            " bunzipping: fma_metadata/raw_artists.csv  \n",
            " bunzipping: fma_metadata/raw_tracks.csv  \n",
            " bunzipping: fma_metadata/tracks.csv  \n",
            " bunzipping: fma_metadata/genres.csv  \n",
            " bunzipping: fma_metadata/raw_echonest.csv  \n",
            " bunzipping: fma_metadata/echonest.csv  \n",
            " bunzipping: fma_metadata/features.csv  \n"
          ],
          "name": "stdout"
        }
      ]
    },
    {
      "metadata": {
        "id": "yzxQ5bIM7Fw7",
        "colab_type": "code",
        "colab": {
          "base_uri": "https://localhost:8080/",
          "height": 104
        },
        "outputId": "9aeb8945-cfc9-4957-9978-8c4be16ee237"
      },
      "cell_type": "code",
      "source": [
        "#The work from last doc in one cell\n",
        "#Process below\n",
        "\n",
        "#pass tracks twice to use row 0 as col names\n",
        "tracks = pd.read_csv('fma_metadata/tracks.csv')\n",
        "tracks = pd.read_csv('fma_metadata/tracks.csv', names=tracks.iloc[0])\n",
        "\n",
        "#first three rows are garbage\n",
        "tracks = tracks.drop([0,1,2]).reset_index()\n",
        "\n",
        "#appears to be most descriptive set - selected in doc notebook\n",
        "#our order: album, artist, set, track\n",
        "columns = [\n",
        "    'title.1',\n",
        "    'genres_all',\n",
        "    'genre_top',\n",
        "    'duration',\n",
        "    'listens.1',\n",
        "    'title',\n",
        "    'listens',\n",
        "    'tags',\n",
        "    'name',\n",
        "    'location',\n",
        "]\n",
        "\n",
        "df = tracks[columns]\n",
        "\n",
        "df = df.rename(columns = {\n",
        "    'title.1' : 'track_title',\n",
        "    'listens.1':'track_listens',\n",
        "    'title':'album',\n",
        "    'listens':'album_listens',\n",
        "    'name': 'artist'})\n",
        "\n",
        "#clean nans as category 'None' (other than genre_top)\n",
        "df['album'] = df.album.replace({np.nan:'None'})\n",
        "df['location'] = df.location.replace({np.nan:'None'})\n",
        "df['track_title'] = df.track_title.replace({'None':'Untitled'})\n",
        "\n",
        "#fix dtypes\n",
        "df['duration'] = df['duration'].astype(int)\n",
        "df['track_listens'] = df['track_listens'].astype(int)\n",
        "df['album_listens'] = df['album_listens'].astype(int)\n",
        "\n",
        "#drop the remaining nans from genre_top\n",
        "df = df.dropna().reset_index()"
      ],
      "execution_count": 2,
      "outputs": [
        {
          "output_type": "stream",
          "text": [
            "/usr/local/lib/python3.6/dist-packages/IPython/core/interactiveshell.py:2718: DtypeWarning: Columns (0,1,5,6,8,12,18,20,21,22,24,33,34,38,39,44,47,49) have mixed types. Specify dtype option on import or set low_memory=False.\n",
            "  interactivity=interactivity, compiler=compiler, result=result)\n",
            "/usr/local/lib/python3.6/dist-packages/pandas/io/parsers.py:709: UserWarning: Duplicate names specified. This will raise an error in the future.\n",
            "  return _read(filepath_or_buffer, kwds)\n"
          ],
          "name": "stderr"
        }
      ]
    },
    {
      "metadata": {
        "id": "wkdOGYazD7RO",
        "colab_type": "code",
        "colab": {
          "base_uri": "https://localhost:8080/",
          "height": 195
        },
        "outputId": "97895c25-77ea-4137-d420-19e949524703"
      },
      "cell_type": "code",
      "source": [
        "df.head()"
      ],
      "execution_count": 3,
      "outputs": [
        {
          "output_type": "execute_result",
          "data": {
            "text/html": [
              "<div>\n",
              "<style scoped>\n",
              "    .dataframe tbody tr th:only-of-type {\n",
              "        vertical-align: middle;\n",
              "    }\n",
              "\n",
              "    .dataframe tbody tr th {\n",
              "        vertical-align: top;\n",
              "    }\n",
              "\n",
              "    .dataframe thead th {\n",
              "        text-align: right;\n",
              "    }\n",
              "</style>\n",
              "<table border=\"1\" class=\"dataframe\">\n",
              "  <thead>\n",
              "    <tr style=\"text-align: right;\">\n",
              "      <th></th>\n",
              "      <th>index</th>\n",
              "      <th>track_title</th>\n",
              "      <th>genres_all</th>\n",
              "      <th>genre_top</th>\n",
              "      <th>duration</th>\n",
              "      <th>track_listens</th>\n",
              "      <th>album</th>\n",
              "      <th>album_listens</th>\n",
              "      <th>tags</th>\n",
              "      <th>artist</th>\n",
              "      <th>location</th>\n",
              "    </tr>\n",
              "  </thead>\n",
              "  <tbody>\n",
              "    <tr>\n",
              "      <th>0</th>\n",
              "      <td>0</td>\n",
              "      <td>Food</td>\n",
              "      <td>[21]</td>\n",
              "      <td>Hip-Hop</td>\n",
              "      <td>168</td>\n",
              "      <td>1293</td>\n",
              "      <td>AWOL - A Way Of Life</td>\n",
              "      <td>6073</td>\n",
              "      <td>[]</td>\n",
              "      <td>AWOL</td>\n",
              "      <td>New Jersey</td>\n",
              "    </tr>\n",
              "    <tr>\n",
              "      <th>1</th>\n",
              "      <td>1</td>\n",
              "      <td>Electric Ave</td>\n",
              "      <td>[21]</td>\n",
              "      <td>Hip-Hop</td>\n",
              "      <td>237</td>\n",
              "      <td>514</td>\n",
              "      <td>AWOL - A Way Of Life</td>\n",
              "      <td>6073</td>\n",
              "      <td>[]</td>\n",
              "      <td>AWOL</td>\n",
              "      <td>New Jersey</td>\n",
              "    </tr>\n",
              "    <tr>\n",
              "      <th>2</th>\n",
              "      <td>2</td>\n",
              "      <td>This World</td>\n",
              "      <td>[21]</td>\n",
              "      <td>Hip-Hop</td>\n",
              "      <td>206</td>\n",
              "      <td>1151</td>\n",
              "      <td>AWOL - A Way Of Life</td>\n",
              "      <td>6073</td>\n",
              "      <td>[]</td>\n",
              "      <td>AWOL</td>\n",
              "      <td>New Jersey</td>\n",
              "    </tr>\n",
              "    <tr>\n",
              "      <th>3</th>\n",
              "      <td>3</td>\n",
              "      <td>Freeway</td>\n",
              "      <td>[10]</td>\n",
              "      <td>Pop</td>\n",
              "      <td>161</td>\n",
              "      <td>50135</td>\n",
              "      <td>Constant Hitmaker</td>\n",
              "      <td>47632</td>\n",
              "      <td>[]</td>\n",
              "      <td>Kurt Vile</td>\n",
              "      <td>None</td>\n",
              "    </tr>\n",
              "    <tr>\n",
              "      <th>4</th>\n",
              "      <td>9</td>\n",
              "      <td>Street Music</td>\n",
              "      <td>[21]</td>\n",
              "      <td>Hip-Hop</td>\n",
              "      <td>207</td>\n",
              "      <td>943</td>\n",
              "      <td>AWOL - A Way Of Life</td>\n",
              "      <td>6073</td>\n",
              "      <td>[]</td>\n",
              "      <td>AWOL</td>\n",
              "      <td>New Jersey</td>\n",
              "    </tr>\n",
              "  </tbody>\n",
              "</table>\n",
              "</div>"
            ],
            "text/plain": [
              "   index   track_title genres_all genre_top  duration  track_listens  \\\n",
              "0      0          Food       [21]   Hip-Hop       168           1293   \n",
              "1      1  Electric Ave       [21]   Hip-Hop       237            514   \n",
              "2      2    This World       [21]   Hip-Hop       206           1151   \n",
              "3      3       Freeway       [10]       Pop       161          50135   \n",
              "4      9  Street Music       [21]   Hip-Hop       207            943   \n",
              "\n",
              "                  album  album_listens tags     artist    location  \n",
              "0  AWOL - A Way Of Life           6073   []       AWOL  New Jersey  \n",
              "1  AWOL - A Way Of Life           6073   []       AWOL  New Jersey  \n",
              "2  AWOL - A Way Of Life           6073   []       AWOL  New Jersey  \n",
              "3     Constant Hitmaker          47632   []  Kurt Vile        None  \n",
              "4  AWOL - A Way Of Life           6073   []       AWOL  New Jersey  "
            ]
          },
          "metadata": {
            "tags": []
          },
          "execution_count": 3
        }
      ]
    },
    {
      "metadata": {
        "id": "jmfFv_qoEhEr",
        "colab_type": "code",
        "colab": {}
      },
      "cell_type": "code",
      "source": [
        "df = df.drop(columns=['index'])"
      ],
      "execution_count": 0,
      "outputs": []
    },
    {
      "metadata": {
        "id": "5MvVnt8QGSL0",
        "colab_type": "code",
        "colab": {}
      },
      "cell_type": "code",
      "source": [
        "#loop wont run for overly large reassignments\n",
        "df = df.drop(columns=['track_title', 'tags', 'genres_all'])"
      ],
      "execution_count": 0,
      "outputs": []
    },
    {
      "metadata": {
        "id": "YnIrM0lYEVmB",
        "colab_type": "code",
        "colab": {
          "base_uri": "https://localhost:8080/",
          "height": 151
        },
        "outputId": "552aa2dc-8b21-4719-dba3-9a80a3c76d9c"
      },
      "cell_type": "code",
      "source": [
        "df.dtypes"
      ],
      "execution_count": 6,
      "outputs": [
        {
          "output_type": "execute_result",
          "data": {
            "text/plain": [
              "genre_top        object\n",
              "duration          int64\n",
              "track_listens     int64\n",
              "album            object\n",
              "album_listens     int64\n",
              "artist           object\n",
              "location         object\n",
              "dtype: object"
            ]
          },
          "metadata": {
            "tags": []
          },
          "execution_count": 6
        }
      ]
    },
    {
      "metadata": {
        "id": "nXHMY7rhE4O3",
        "colab_type": "code",
        "colab": {
          "base_uri": "https://localhost:8080/",
          "height": 118
        },
        "outputId": "94431114-c906-4cc8-f700-07a50e2ab6a3"
      },
      "cell_type": "code",
      "source": [
        "objects = df.select_dtypes(include=object)\n",
        "notobjects = df.select_dtypes(exclude=object)\n",
        "\n",
        "for label, col in objects.iteritems():\n",
        "  n = 0\n",
        "  for types in col.unique():\n",
        "      col = col.replace({types:n})\n",
        "      n = n+1\n",
        "  objects[label] = col"
      ],
      "execution_count": 7,
      "outputs": [
        {
          "output_type": "stream",
          "text": [
            "/usr/local/lib/python3.6/dist-packages/ipykernel_launcher.py:9: SettingWithCopyWarning: \n",
            "A value is trying to be set on a copy of a slice from a DataFrame.\n",
            "Try using .loc[row_indexer,col_indexer] = value instead\n",
            "\n",
            "See the caveats in the documentation: http://pandas.pydata.org/pandas-docs/stable/indexing.html#indexing-view-versus-copy\n",
            "  if __name__ == '__main__':\n"
          ],
          "name": "stderr"
        }
      ]
    },
    {
      "metadata": {
        "id": "mT6YaD1eCf0-",
        "colab_type": "code",
        "outputId": "f9b23be9-ec1f-4b4b-f3c8-9a5018ff646f",
        "colab": {
          "base_uri": "https://localhost:8080/",
          "height": 195
        }
      },
      "cell_type": "code",
      "source": [
        "#please...\n",
        "df = pd.concat([objects, notobjects], axis=1)\n",
        "df.head() #yes we can continue to the regression"
      ],
      "execution_count": 8,
      "outputs": [
        {
          "output_type": "execute_result",
          "data": {
            "text/html": [
              "<div>\n",
              "<style scoped>\n",
              "    .dataframe tbody tr th:only-of-type {\n",
              "        vertical-align: middle;\n",
              "    }\n",
              "\n",
              "    .dataframe tbody tr th {\n",
              "        vertical-align: top;\n",
              "    }\n",
              "\n",
              "    .dataframe thead th {\n",
              "        text-align: right;\n",
              "    }\n",
              "</style>\n",
              "<table border=\"1\" class=\"dataframe\">\n",
              "  <thead>\n",
              "    <tr style=\"text-align: right;\">\n",
              "      <th></th>\n",
              "      <th>genre_top</th>\n",
              "      <th>album</th>\n",
              "      <th>artist</th>\n",
              "      <th>location</th>\n",
              "      <th>duration</th>\n",
              "      <th>track_listens</th>\n",
              "      <th>album_listens</th>\n",
              "    </tr>\n",
              "  </thead>\n",
              "  <tbody>\n",
              "    <tr>\n",
              "      <th>0</th>\n",
              "      <td>0</td>\n",
              "      <td>0</td>\n",
              "      <td>0</td>\n",
              "      <td>0</td>\n",
              "      <td>168</td>\n",
              "      <td>1293</td>\n",
              "      <td>6073</td>\n",
              "    </tr>\n",
              "    <tr>\n",
              "      <th>1</th>\n",
              "      <td>0</td>\n",
              "      <td>0</td>\n",
              "      <td>0</td>\n",
              "      <td>0</td>\n",
              "      <td>237</td>\n",
              "      <td>514</td>\n",
              "      <td>6073</td>\n",
              "    </tr>\n",
              "    <tr>\n",
              "      <th>2</th>\n",
              "      <td>0</td>\n",
              "      <td>0</td>\n",
              "      <td>0</td>\n",
              "      <td>0</td>\n",
              "      <td>206</td>\n",
              "      <td>1151</td>\n",
              "      <td>6073</td>\n",
              "    </tr>\n",
              "    <tr>\n",
              "      <th>3</th>\n",
              "      <td>1</td>\n",
              "      <td>1</td>\n",
              "      <td>1</td>\n",
              "      <td>1</td>\n",
              "      <td>161</td>\n",
              "      <td>50135</td>\n",
              "      <td>47632</td>\n",
              "    </tr>\n",
              "    <tr>\n",
              "      <th>4</th>\n",
              "      <td>0</td>\n",
              "      <td>0</td>\n",
              "      <td>0</td>\n",
              "      <td>0</td>\n",
              "      <td>207</td>\n",
              "      <td>943</td>\n",
              "      <td>6073</td>\n",
              "    </tr>\n",
              "  </tbody>\n",
              "</table>\n",
              "</div>"
            ],
            "text/plain": [
              "   genre_top  album  artist  location  duration  track_listens  album_listens\n",
              "0          0      0       0         0       168           1293           6073\n",
              "1          0      0       0         0       237            514           6073\n",
              "2          0      0       0         0       206           1151           6073\n",
              "3          1      1       1         1       161          50135          47632\n",
              "4          0      0       0         0       207            943           6073"
            ]
          },
          "metadata": {
            "tags": []
          },
          "execution_count": 8
        }
      ]
    },
    {
      "metadata": {
        "id": "-SP84ZiAWSV5",
        "colab_type": "code",
        "colab": {}
      },
      "cell_type": "code",
      "source": [
        "df_small = df.sample(n=20000)"
      ],
      "execution_count": 0,
      "outputs": []
    },
    {
      "metadata": {
        "id": "CrPaPTXhKkZz",
        "colab_type": "code",
        "colab": {}
      },
      "cell_type": "code",
      "source": [
        "#define X and y\n",
        "X = df_small.drop(columns = ['genre_top'])\n",
        "y = df_small['genre_top']"
      ],
      "execution_count": 0,
      "outputs": []
    },
    {
      "metadata": {
        "id": "hAw4xN29x3To",
        "colab_type": "code",
        "outputId": "e923846d-3b8a-4308-dee9-63288d413875",
        "colab": {
          "base_uri": "https://localhost:8080/",
          "height": 34
        }
      },
      "cell_type": "code",
      "source": [
        "from sklearn.model_selection import train_test_split\n",
        "Xtrain, Xtest, ytrain, ytest = train_test_split(X,y,test_size=0.5, random_state=42)\n",
        "\n",
        "model2 = LogisticRegression(random_state=42, solver = 'lbfgs',\n",
        "                           multi_class = 'multinomial', max_iter=15000)\n",
        "\n",
        "model2.fit(Xtrain, ytrain)\n",
        "model2.score(Xtest, ytest)"
      ],
      "execution_count": 12,
      "outputs": [
        {
          "output_type": "execute_result",
          "data": {
            "text/plain": [
              "0.3407"
            ]
          },
          "metadata": {
            "tags": []
          },
          "execution_count": 12
        }
      ]
    },
    {
      "metadata": {
        "id": "K1IKS6bPOci6",
        "colab_type": "code",
        "colab": {
          "base_uri": "https://localhost:8080/",
          "height": 67
        },
        "outputId": "f2b92d0a-f839-488b-9eb9-0ee9bbb0a4c4"
      },
      "cell_type": "code",
      "source": [
        "X = df_small.drop(columns = ['genre_top', 'album_listens'])\n",
        "\n",
        "Xtrain, Xtest, ytrain, ytest = train_test_split(X,y,test_size=0.5, random_state=42)\n",
        "\n",
        "model2 = LogisticRegression(random_state=42, solver = 'lbfgs',\n",
        "                           multi_class = 'multinomial', max_iter=15000)\n",
        "\n",
        "model2.fit(Xtrain, ytrain)\n",
        "model2.score(Xtest, ytest)\n",
        "#accuracy raised after removing albumlistens"
      ],
      "execution_count": 14,
      "outputs": [
        {
          "output_type": "stream",
          "text": [
            "/usr/local/lib/python3.6/dist-packages/sklearn/linear_model/logistic.py:758: ConvergenceWarning: lbfgs failed to converge. Increase the number of iterations.\n",
            "  \"of iterations.\", ConvergenceWarning)\n"
          ],
          "name": "stderr"
        },
        {
          "output_type": "execute_result",
          "data": {
            "text/plain": [
              "0.3531"
            ]
          },
          "metadata": {
            "tags": []
          },
          "execution_count": 14
        }
      ]
    },
    {
      "metadata": {
        "id": "uvRvUiV9ZGmA",
        "colab_type": "code",
        "colab": {
          "base_uri": "https://localhost:8080/",
          "height": 67
        },
        "outputId": "3b599105-c6bd-4383-93d2-873f1eeaebac"
      },
      "cell_type": "code",
      "source": [
        "X = df_small.drop(columns = ['genre_top', 'album_listens', 'track_listens'])\n",
        "\n",
        "Xtrain, Xtest, ytrain, ytest = train_test_split(X,y,test_size=0.5, random_state=42)\n",
        "\n",
        "model2 = LogisticRegression(random_state=42, solver = 'lbfgs',\n",
        "                           multi_class = 'multinomial', max_iter=15000)\n",
        "\n",
        "model2.fit(Xtrain, ytrain)\n",
        "model2.score(Xtest, ytest)\n",
        "#lowered after removing track_listens"
      ],
      "execution_count": 15,
      "outputs": [
        {
          "output_type": "stream",
          "text": [
            "/usr/local/lib/python3.6/dist-packages/sklearn/linear_model/logistic.py:758: ConvergenceWarning: lbfgs failed to converge. Increase the number of iterations.\n",
            "  \"of iterations.\", ConvergenceWarning)\n"
          ],
          "name": "stderr"
        },
        {
          "output_type": "execute_result",
          "data": {
            "text/plain": [
              "0.3207"
            ]
          },
          "metadata": {
            "tags": []
          },
          "execution_count": 15
        }
      ]
    },
    {
      "metadata": {
        "id": "-EQ8Pe-MiaSW",
        "colab_type": "code",
        "colab": {
          "base_uri": "https://localhost:8080/",
          "height": 67
        },
        "outputId": "73c5a320-151a-42a6-8f72-c61d6e6cc7b2"
      },
      "cell_type": "code",
      "source": [
        "X = df_small.drop(columns = ['genre_top', 'album_listens', 'duration'])\n",
        "\n",
        "Xtrain, Xtest, ytrain, ytest = train_test_split(X,y,test_size=0.5, random_state=42)\n",
        "\n",
        "model2 = LogisticRegression(random_state=42, solver = 'lbfgs',\n",
        "                           multi_class = 'multinomial', max_iter=20000)\n",
        "\n",
        "model2.fit(Xtrain, ytrain)\n",
        "model2.score(Xtest, ytest)\n",
        "#lowered after removing duration"
      ],
      "execution_count": 16,
      "outputs": [
        {
          "output_type": "stream",
          "text": [
            "/usr/local/lib/python3.6/dist-packages/sklearn/linear_model/logistic.py:758: ConvergenceWarning: lbfgs failed to converge. Increase the number of iterations.\n",
            "  \"of iterations.\", ConvergenceWarning)\n"
          ],
          "name": "stderr"
        },
        {
          "output_type": "execute_result",
          "data": {
            "text/plain": [
              "0.3258"
            ]
          },
          "metadata": {
            "tags": []
          },
          "execution_count": 16
        }
      ]
    },
    {
      "metadata": {
        "id": "pGzzdE_EtAVM",
        "colab_type": "code",
        "colab": {
          "base_uri": "https://localhost:8080/",
          "height": 34
        },
        "outputId": "f93e15a3-1899-4a35-f5b9-89e5dd860f1c"
      },
      "cell_type": "code",
      "source": [
        "X = df_small.drop(columns = ['genre_top', 'album_listens', 'location'])\n",
        "\n",
        "Xtrain, Xtest, ytrain, ytest = train_test_split(X,y,test_size=0.5, random_state=42)\n",
        "\n",
        "model2 = LogisticRegression(random_state=42, solver = 'lbfgs',\n",
        "                           multi_class = 'multinomial', max_iter=20000)\n",
        "\n",
        "model2.fit(Xtrain, ytrain)\n",
        "model2.score(Xtest, ytest)\n",
        "\n",
        "#location isn't horribly relevant"
      ],
      "execution_count": 17,
      "outputs": [
        {
          "output_type": "execute_result",
          "data": {
            "text/plain": [
              "0.3538"
            ]
          },
          "metadata": {
            "tags": []
          },
          "execution_count": 17
        }
      ]
    },
    {
      "metadata": {
        "id": "N0PurHmyjuqb",
        "colab_type": "code",
        "colab": {
          "base_uri": "https://localhost:8080/",
          "height": 34
        },
        "outputId": "88ccadbf-bf48-4d49-c1fc-161ced2dd39e"
      },
      "cell_type": "code",
      "source": [
        "X = df_small.drop(columns = ['genre_top', 'album_listens', 'location', 'artist'])\n",
        "\n",
        "Xtrain, Xtest, ytrain, ytest = train_test_split(X,y,test_size=0.5, random_state=42)\n",
        "\n",
        "model2 = LogisticRegression(random_state=42, solver = 'lbfgs',\n",
        "                           multi_class = 'multinomial', max_iter=20000)\n",
        "\n",
        "model2.fit(Xtrain, ytrain)\n",
        "model2.score(Xtest, ytest)\n",
        "\n",
        "#slightly lowered after removing artist"
      ],
      "execution_count": 18,
      "outputs": [
        {
          "output_type": "execute_result",
          "data": {
            "text/plain": [
              "0.3514"
            ]
          },
          "metadata": {
            "tags": []
          },
          "execution_count": 18
        }
      ]
    },
    {
      "metadata": {
        "id": "PbgERssd0esT",
        "colab_type": "code",
        "colab": {
          "base_uri": "https://localhost:8080/",
          "height": 67
        },
        "outputId": "3e0176c3-9e8f-4926-cbaf-33aa63529696"
      },
      "cell_type": "code",
      "source": [
        "X = df_small.drop(columns = ['genre_top', 'album_listens', 'location', 'album'])\n",
        "\n",
        "Xtrain, Xtest, ytrain, ytest = train_test_split(X,y,test_size=0.5, random_state=42)\n",
        "\n",
        "model2 = LogisticRegression(random_state=42, solver = 'lbfgs',\n",
        "                           multi_class = 'multinomial', max_iter=20000)\n",
        "\n",
        "model2.fit(Xtrain, ytrain)\n",
        "model2.score(Xtest, ytest)\n",
        "\n",
        "#lowers accuracy if dropped"
      ],
      "execution_count": 19,
      "outputs": [
        {
          "output_type": "stream",
          "text": [
            "/usr/local/lib/python3.6/dist-packages/sklearn/linear_model/logistic.py:758: ConvergenceWarning: lbfgs failed to converge. Increase the number of iterations.\n",
            "  \"of iterations.\", ConvergenceWarning)\n"
          ],
          "name": "stderr"
        },
        {
          "output_type": "execute_result",
          "data": {
            "text/plain": [
              "0.3461"
            ]
          },
          "metadata": {
            "tags": []
          },
          "execution_count": 19
        }
      ]
    },
    {
      "metadata": {
        "id": "DVXAORsM2XSg",
        "colab_type": "code",
        "colab": {
          "base_uri": "https://localhost:8080/",
          "height": 195
        },
        "outputId": "27c1ab11-1344-44e2-f83e-a1b934042ecc"
      },
      "cell_type": "code",
      "source": [
        "X = df_small.drop(columns = ['genre_top', 'album_listens', 'location'])\n",
        "X.head()"
      ],
      "execution_count": 20,
      "outputs": [
        {
          "output_type": "execute_result",
          "data": {
            "text/html": [
              "<div>\n",
              "<style scoped>\n",
              "    .dataframe tbody tr th:only-of-type {\n",
              "        vertical-align: middle;\n",
              "    }\n",
              "\n",
              "    .dataframe tbody tr th {\n",
              "        vertical-align: top;\n",
              "    }\n",
              "\n",
              "    .dataframe thead th {\n",
              "        text-align: right;\n",
              "    }\n",
              "</style>\n",
              "<table border=\"1\" class=\"dataframe\">\n",
              "  <thead>\n",
              "    <tr style=\"text-align: right;\">\n",
              "      <th></th>\n",
              "      <th>album</th>\n",
              "      <th>artist</th>\n",
              "      <th>duration</th>\n",
              "      <th>track_listens</th>\n",
              "    </tr>\n",
              "  </thead>\n",
              "  <tbody>\n",
              "    <tr>\n",
              "      <th>43388</th>\n",
              "      <td>6275</td>\n",
              "      <td>8119</td>\n",
              "      <td>232</td>\n",
              "      <td>1363</td>\n",
              "    </tr>\n",
              "    <tr>\n",
              "      <th>38352</th>\n",
              "      <td>5667</td>\n",
              "      <td>6536</td>\n",
              "      <td>141</td>\n",
              "      <td>379</td>\n",
              "    </tr>\n",
              "    <tr>\n",
              "      <th>25385</th>\n",
              "      <td>4032</td>\n",
              "      <td>2369</td>\n",
              "      <td>146</td>\n",
              "      <td>609</td>\n",
              "    </tr>\n",
              "    <tr>\n",
              "      <th>13871</th>\n",
              "      <td>2356</td>\n",
              "      <td>2925</td>\n",
              "      <td>341</td>\n",
              "      <td>125</td>\n",
              "    </tr>\n",
              "    <tr>\n",
              "      <th>43747</th>\n",
              "      <td>6321</td>\n",
              "      <td>8180</td>\n",
              "      <td>400</td>\n",
              "      <td>314</td>\n",
              "    </tr>\n",
              "  </tbody>\n",
              "</table>\n",
              "</div>"
            ],
            "text/plain": [
              "       album  artist  duration  track_listens\n",
              "43388   6275    8119       232           1363\n",
              "38352   5667    6536       141            379\n",
              "25385   4032    2369       146            609\n",
              "13871   2356    2925       341            125\n",
              "43747   6321    8180       400            314"
            ]
          },
          "metadata": {
            "tags": []
          },
          "execution_count": 20
        }
      ]
    },
    {
      "metadata": {
        "id": "rP3FUSp_1_Ki",
        "colab_type": "text"
      },
      "cell_type": "markdown",
      "source": [
        "The most accurate logistic regression model I could make had the features **album name, artist name, track length and number of listens on the sharing service.** Out of a much larger dataset I analyzed these features along with number of listens to the album and the geographical origin of the music. This decision was based around the features selected in the official documentation notebook.\n",
        "\n",
        "The most relevant features for predicting a song's genre appear to be track length and number of listens, which tank the accuracy to 0.32 if removed (the other drops or raises kept in a 0.345 - 0.055 range ). I hypothesized track length would be important (an experimental song is going to be longer than a pop song) but thought number of listens would just be trivia. Now that I think about it, though, it makes sense that different genres on the service would have significantly different sizes of interest in them.\n",
        "\n",
        "While track listens are strongly relevant to the model, album listens are strongly irrelevant and misleading to use in predictions. Removing album listens improved my model by 0.01. The only other feature I looked at that increased the accuracy when removed (the geographical origin of the music) did so to a very minor extent. I hypothesize the pool of people who listen to shuffled tracks and mixes from their favorite genre is seperate, and larger, than the pool of people listening to specific albums."
      ]
    }
  ]
}