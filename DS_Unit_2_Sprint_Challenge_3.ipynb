{
  "nbformat": 4,
  "nbformat_minor": 0,
  "metadata": {
    "colab": {
      "name": "DS_Unit_2_Sprint_Challenge_3.ipynb",
      "version": "0.3.2",
      "provenance": [],
      "include_colab_link": true
    },
    "kernelspec": {
      "name": "python3",
      "display_name": "Python 3"
    }
  },
  "cells": [
    {
      "cell_type": "markdown",
      "metadata": {
        "id": "view-in-github",
        "colab_type": "text"
      },
      "source": [
        "<a href=\"https://colab.research.google.com/github/chadeowen/DS-Unit-2-Sprint-3-Advanced-Regression/blob/master/DS_Unit_2_Sprint_Challenge_3.ipynb\" target=\"_parent\"><img src=\"https://colab.research.google.com/assets/colab-badge.svg\" alt=\"Open In Colab\"/></a>"
      ]
    },
    {
      "metadata": {
        "id": "ayDccRP01GJD",
        "colab_type": "text"
      },
      "cell_type": "markdown",
      "source": [
        "# Data Science Unit 2 Sprint Challenge 3\n",
        "\n",
        "## Logistic Regression and Beyond\n",
        "\n",
        "In this sprint challenge you will fit a logistic regression modeling the probability of an adult having an income above 50K. The dataset is available at UCI:\n",
        "\n",
        "https://archive.ics.uci.edu/ml/datasets/adult\n",
        "\n",
        "Your goal is to:\n",
        "\n",
        "1. Load, validate, and clean/prepare the data.\n",
        "2. Fit a logistic regression model\n",
        "3. Answer questions based on the results (as well as a few extra questions about the other modules)\n",
        "\n",
        "Don't let the perfect be the enemy of the good! Manage your time, and make sure to get to all parts. If you get stuck wrestling with the data, simplify it (if necessary, drop features or rows) so you're able to move on. If you have time at the end, you can go back and try to fix/improve.\n",
        "\n",
        "### Hints\n",
        "\n",
        "It has a variety of features - some are continuous, but many are categorical. You may find [pandas.get_dummies](https://pandas.pydata.org/pandas-docs/stable/generated/pandas.get_dummies.html) (a method to one-hot encode) helpful!\n",
        "\n",
        "The features have dramatically different ranges. You may find [sklearn.preprocessing.minmax_scale](https://scikit-learn.org/stable/modules/generated/sklearn.preprocessing.minmax_scale.html#sklearn.preprocessing.minmax_scale) helpful!"
      ]
    },
    {
      "metadata": {
        "id": "U22R1Ud51hxb",
        "colab_type": "text"
      },
      "cell_type": "markdown",
      "source": [
        "## Part 1 - Load, validate, and prepare data\n",
        "\n",
        "The data is available at: https://archive.ics.uci.edu/ml/datasets/adult\n",
        "\n",
        "Load it, name the columns, and make sure that you've loaded the data successfully. Note that missing values for categorical variables can essentially be considered another category (\"unknown\"), and may not need to be dropped.\n",
        "\n",
        "You should also prepare the data for logistic regression - one-hot encode categorical features as appropriate."
      ]
    },
    {
      "metadata": {
        "id": "SeOByIkht-NS",
        "colab_type": "code",
        "colab": {
          "base_uri": "https://localhost:8080/",
          "height": 204
        },
        "outputId": "9dfa8321-1141-4893-bcd7-0fe21d5f79ae"
      },
      "cell_type": "code",
      "source": [
        "import pandas as pd\n",
        "\n",
        "df_adult = pd.read_csv('https://archive.ics.uci.edu/ml/machine-learning-databases/adult/adult.data',header=None)\n",
        "df_adult.head()"
      ],
      "execution_count": 118,
      "outputs": [
        {
          "output_type": "execute_result",
          "data": {
            "text/html": [
              "<div>\n",
              "<style scoped>\n",
              "    .dataframe tbody tr th:only-of-type {\n",
              "        vertical-align: middle;\n",
              "    }\n",
              "\n",
              "    .dataframe tbody tr th {\n",
              "        vertical-align: top;\n",
              "    }\n",
              "\n",
              "    .dataframe thead th {\n",
              "        text-align: right;\n",
              "    }\n",
              "</style>\n",
              "<table border=\"1\" class=\"dataframe\">\n",
              "  <thead>\n",
              "    <tr style=\"text-align: right;\">\n",
              "      <th></th>\n",
              "      <th>0</th>\n",
              "      <th>1</th>\n",
              "      <th>2</th>\n",
              "      <th>3</th>\n",
              "      <th>4</th>\n",
              "      <th>5</th>\n",
              "      <th>6</th>\n",
              "      <th>7</th>\n",
              "      <th>8</th>\n",
              "      <th>9</th>\n",
              "      <th>10</th>\n",
              "      <th>11</th>\n",
              "      <th>12</th>\n",
              "      <th>13</th>\n",
              "      <th>14</th>\n",
              "    </tr>\n",
              "  </thead>\n",
              "  <tbody>\n",
              "    <tr>\n",
              "      <th>0</th>\n",
              "      <td>39</td>\n",
              "      <td>State-gov</td>\n",
              "      <td>77516</td>\n",
              "      <td>Bachelors</td>\n",
              "      <td>13</td>\n",
              "      <td>Never-married</td>\n",
              "      <td>Adm-clerical</td>\n",
              "      <td>Not-in-family</td>\n",
              "      <td>White</td>\n",
              "      <td>Male</td>\n",
              "      <td>2174</td>\n",
              "      <td>0</td>\n",
              "      <td>40</td>\n",
              "      <td>United-States</td>\n",
              "      <td>&lt;=50K</td>\n",
              "    </tr>\n",
              "    <tr>\n",
              "      <th>1</th>\n",
              "      <td>50</td>\n",
              "      <td>Self-emp-not-inc</td>\n",
              "      <td>83311</td>\n",
              "      <td>Bachelors</td>\n",
              "      <td>13</td>\n",
              "      <td>Married-civ-spouse</td>\n",
              "      <td>Exec-managerial</td>\n",
              "      <td>Husband</td>\n",
              "      <td>White</td>\n",
              "      <td>Male</td>\n",
              "      <td>0</td>\n",
              "      <td>0</td>\n",
              "      <td>13</td>\n",
              "      <td>United-States</td>\n",
              "      <td>&lt;=50K</td>\n",
              "    </tr>\n",
              "    <tr>\n",
              "      <th>2</th>\n",
              "      <td>38</td>\n",
              "      <td>Private</td>\n",
              "      <td>215646</td>\n",
              "      <td>HS-grad</td>\n",
              "      <td>9</td>\n",
              "      <td>Divorced</td>\n",
              "      <td>Handlers-cleaners</td>\n",
              "      <td>Not-in-family</td>\n",
              "      <td>White</td>\n",
              "      <td>Male</td>\n",
              "      <td>0</td>\n",
              "      <td>0</td>\n",
              "      <td>40</td>\n",
              "      <td>United-States</td>\n",
              "      <td>&lt;=50K</td>\n",
              "    </tr>\n",
              "    <tr>\n",
              "      <th>3</th>\n",
              "      <td>53</td>\n",
              "      <td>Private</td>\n",
              "      <td>234721</td>\n",
              "      <td>11th</td>\n",
              "      <td>7</td>\n",
              "      <td>Married-civ-spouse</td>\n",
              "      <td>Handlers-cleaners</td>\n",
              "      <td>Husband</td>\n",
              "      <td>Black</td>\n",
              "      <td>Male</td>\n",
              "      <td>0</td>\n",
              "      <td>0</td>\n",
              "      <td>40</td>\n",
              "      <td>United-States</td>\n",
              "      <td>&lt;=50K</td>\n",
              "    </tr>\n",
              "    <tr>\n",
              "      <th>4</th>\n",
              "      <td>28</td>\n",
              "      <td>Private</td>\n",
              "      <td>338409</td>\n",
              "      <td>Bachelors</td>\n",
              "      <td>13</td>\n",
              "      <td>Married-civ-spouse</td>\n",
              "      <td>Prof-specialty</td>\n",
              "      <td>Wife</td>\n",
              "      <td>Black</td>\n",
              "      <td>Female</td>\n",
              "      <td>0</td>\n",
              "      <td>0</td>\n",
              "      <td>40</td>\n",
              "      <td>Cuba</td>\n",
              "      <td>&lt;=50K</td>\n",
              "    </tr>\n",
              "  </tbody>\n",
              "</table>\n",
              "</div>"
            ],
            "text/plain": [
              "   0                  1       2           3   4                    5   \\\n",
              "0  39          State-gov   77516   Bachelors  13        Never-married   \n",
              "1  50   Self-emp-not-inc   83311   Bachelors  13   Married-civ-spouse   \n",
              "2  38            Private  215646     HS-grad   9             Divorced   \n",
              "3  53            Private  234721        11th   7   Married-civ-spouse   \n",
              "4  28            Private  338409   Bachelors  13   Married-civ-spouse   \n",
              "\n",
              "                   6               7       8        9     10  11  12  \\\n",
              "0        Adm-clerical   Not-in-family   White     Male  2174   0  40   \n",
              "1     Exec-managerial         Husband   White     Male     0   0  13   \n",
              "2   Handlers-cleaners   Not-in-family   White     Male     0   0  40   \n",
              "3   Handlers-cleaners         Husband   Black     Male     0   0  40   \n",
              "4      Prof-specialty            Wife   Black   Female     0   0  40   \n",
              "\n",
              "               13      14  \n",
              "0   United-States   <=50K  \n",
              "1   United-States   <=50K  \n",
              "2   United-States   <=50K  \n",
              "3   United-States   <=50K  \n",
              "4            Cuba   <=50K  "
            ]
          },
          "metadata": {
            "tags": []
          },
          "execution_count": 118
        }
      ]
    },
    {
      "metadata": {
        "id": "PvuHuAnrx86G",
        "colab_type": "code",
        "colab": {
          "base_uri": "https://localhost:8080/",
          "height": 34
        },
        "outputId": "6b46a880-6792-42e1-aa50-2dfdaf60b748"
      },
      "cell_type": "code",
      "source": [
        "df_adult.shape"
      ],
      "execution_count": 119,
      "outputs": [
        {
          "output_type": "execute_result",
          "data": {
            "text/plain": [
              "(32561, 15)"
            ]
          },
          "metadata": {
            "tags": []
          },
          "execution_count": 119
        }
      ]
    },
    {
      "metadata": {
        "id": "GGUQEC5-zfVF",
        "colab_type": "code",
        "colab": {}
      },
      "cell_type": "code",
      "source": [
        "# age: continuous.\n",
        "# workclass: Private, Self-emp-not-inc, Self-emp-inc, Federal-gov, Local-gov, State-gov, Without-pay, Never-worked.\n",
        "# fnlwgt: continuous.\n",
        "# education: Bachelors, Some-college, 11th, HS-grad, Prof-school, Assoc-acdm, Assoc-voc, 9th, 7th-8th, 12th, Masters, 1st-4th, 10th, Doctorate, 5th-6th, Preschool.\n",
        "# education-num: continuous.\n",
        "# marital-status: Married-civ-spouse, Divorced, Never-married, Separated, Widowed, Married-spouse-absent, Married-AF-spouse.\n",
        "# occupation: Tech-support, Craft-repair, Other-service, Sales, Exec-managerial, Prof-specialty, Handlers-cleaners, Machine-op-inspct, Adm-clerical, Farming-fishing, Transport-moving, Priv-house-serv, Protective-serv, Armed-Forces.\n",
        "# relationship: Wife, Own-child, Husband, Not-in-family, Other-relative, Unmarried.\n",
        "# race: White, Asian-Pac-Islander, Amer-Indian-Eskimo, Other, Black.\n",
        "# sex: Female, Male.\n",
        "# capital-gain: continuous.\n",
        "# capital-loss: continuous.\n",
        "# hours-per-week: continuous.\n",
        "# native-country: United-States, Cambodia, England, Puerto-Rico, Canada, Germany, Outlying-US(Guam-USVI-etc), India, Japan, Greece, South, China, Cuba, Iran, Honduras, Philippines, Italy, Poland, Jamaica, Vietnam, Mexico, Portugal, Ireland, France, Dominican-Republic, Laos, Ecuador, Taiwan, Haiti, Columbia, Hungary, Guatemala, Nicaragua, Scotland, Thailand, Yugoslavia, El-Salvador, Trinadad&Tobago, Peru, Hong, Holand-Netherlands."
      ],
      "execution_count": 0,
      "outputs": []
    },
    {
      "metadata": {
        "id": "Xlb7d10bEm-R",
        "colab_type": "code",
        "colab": {
          "base_uri": "https://localhost:8080/",
          "height": 34
        },
        "outputId": "1da51b93-c762-427a-ae3c-777355b9af42"
      },
      "cell_type": "code",
      "source": [
        "y_values = df_adult[14].unique()\n",
        "print(sorted(y_values))"
      ],
      "execution_count": 124,
      "outputs": [
        {
          "output_type": "stream",
          "text": [
            "[' <=50K', ' >50K']\n"
          ],
          "name": "stdout"
        }
      ]
    },
    {
      "metadata": {
        "id": "-YHhiwjmy-aH",
        "colab_type": "code",
        "colab": {
          "base_uri": "https://localhost:8080/",
          "height": 204
        },
        "outputId": "1f91007d-514f-46c0-e51b-58641a4a12cd"
      },
      "cell_type": "code",
      "source": [
        "df = df_adult.rename(columns={0:'age',1:'workclass',2:'fnlwgt',3:'education',\n",
        "                         4:'education_num',5:'marital_status',6:'occupation',\n",
        "                         7:'relationship',8:'race',9:'sex',10:'capital_gain',\n",
        "                         11:'capital_loss',12:'hours_per_week',\n",
        "                         13:'native_country'})\n",
        "df.head()"
      ],
      "execution_count": 125,
      "outputs": [
        {
          "output_type": "execute_result",
          "data": {
            "text/html": [
              "<div>\n",
              "<style scoped>\n",
              "    .dataframe tbody tr th:only-of-type {\n",
              "        vertical-align: middle;\n",
              "    }\n",
              "\n",
              "    .dataframe tbody tr th {\n",
              "        vertical-align: top;\n",
              "    }\n",
              "\n",
              "    .dataframe thead th {\n",
              "        text-align: right;\n",
              "    }\n",
              "</style>\n",
              "<table border=\"1\" class=\"dataframe\">\n",
              "  <thead>\n",
              "    <tr style=\"text-align: right;\">\n",
              "      <th></th>\n",
              "      <th>age</th>\n",
              "      <th>workclass</th>\n",
              "      <th>fnlwgt</th>\n",
              "      <th>education</th>\n",
              "      <th>education_num</th>\n",
              "      <th>marital_status</th>\n",
              "      <th>occupation</th>\n",
              "      <th>relationship</th>\n",
              "      <th>race</th>\n",
              "      <th>sex</th>\n",
              "      <th>capital_gain</th>\n",
              "      <th>capital_loss</th>\n",
              "      <th>hours_per_week</th>\n",
              "      <th>native_country</th>\n",
              "      <th>14</th>\n",
              "    </tr>\n",
              "  </thead>\n",
              "  <tbody>\n",
              "    <tr>\n",
              "      <th>0</th>\n",
              "      <td>39</td>\n",
              "      <td>State-gov</td>\n",
              "      <td>77516</td>\n",
              "      <td>Bachelors</td>\n",
              "      <td>13</td>\n",
              "      <td>Never-married</td>\n",
              "      <td>Adm-clerical</td>\n",
              "      <td>Not-in-family</td>\n",
              "      <td>White</td>\n",
              "      <td>Male</td>\n",
              "      <td>2174</td>\n",
              "      <td>0</td>\n",
              "      <td>40</td>\n",
              "      <td>United-States</td>\n",
              "      <td>&lt;=50K</td>\n",
              "    </tr>\n",
              "    <tr>\n",
              "      <th>1</th>\n",
              "      <td>50</td>\n",
              "      <td>Self-emp-not-inc</td>\n",
              "      <td>83311</td>\n",
              "      <td>Bachelors</td>\n",
              "      <td>13</td>\n",
              "      <td>Married-civ-spouse</td>\n",
              "      <td>Exec-managerial</td>\n",
              "      <td>Husband</td>\n",
              "      <td>White</td>\n",
              "      <td>Male</td>\n",
              "      <td>0</td>\n",
              "      <td>0</td>\n",
              "      <td>13</td>\n",
              "      <td>United-States</td>\n",
              "      <td>&lt;=50K</td>\n",
              "    </tr>\n",
              "    <tr>\n",
              "      <th>2</th>\n",
              "      <td>38</td>\n",
              "      <td>Private</td>\n",
              "      <td>215646</td>\n",
              "      <td>HS-grad</td>\n",
              "      <td>9</td>\n",
              "      <td>Divorced</td>\n",
              "      <td>Handlers-cleaners</td>\n",
              "      <td>Not-in-family</td>\n",
              "      <td>White</td>\n",
              "      <td>Male</td>\n",
              "      <td>0</td>\n",
              "      <td>0</td>\n",
              "      <td>40</td>\n",
              "      <td>United-States</td>\n",
              "      <td>&lt;=50K</td>\n",
              "    </tr>\n",
              "    <tr>\n",
              "      <th>3</th>\n",
              "      <td>53</td>\n",
              "      <td>Private</td>\n",
              "      <td>234721</td>\n",
              "      <td>11th</td>\n",
              "      <td>7</td>\n",
              "      <td>Married-civ-spouse</td>\n",
              "      <td>Handlers-cleaners</td>\n",
              "      <td>Husband</td>\n",
              "      <td>Black</td>\n",
              "      <td>Male</td>\n",
              "      <td>0</td>\n",
              "      <td>0</td>\n",
              "      <td>40</td>\n",
              "      <td>United-States</td>\n",
              "      <td>&lt;=50K</td>\n",
              "    </tr>\n",
              "    <tr>\n",
              "      <th>4</th>\n",
              "      <td>28</td>\n",
              "      <td>Private</td>\n",
              "      <td>338409</td>\n",
              "      <td>Bachelors</td>\n",
              "      <td>13</td>\n",
              "      <td>Married-civ-spouse</td>\n",
              "      <td>Prof-specialty</td>\n",
              "      <td>Wife</td>\n",
              "      <td>Black</td>\n",
              "      <td>Female</td>\n",
              "      <td>0</td>\n",
              "      <td>0</td>\n",
              "      <td>40</td>\n",
              "      <td>Cuba</td>\n",
              "      <td>&lt;=50K</td>\n",
              "    </tr>\n",
              "  </tbody>\n",
              "</table>\n",
              "</div>"
            ],
            "text/plain": [
              "   age          workclass  fnlwgt   education  education_num  \\\n",
              "0   39          State-gov   77516   Bachelors             13   \n",
              "1   50   Self-emp-not-inc   83311   Bachelors             13   \n",
              "2   38            Private  215646     HS-grad              9   \n",
              "3   53            Private  234721        11th              7   \n",
              "4   28            Private  338409   Bachelors             13   \n",
              "\n",
              "        marital_status          occupation    relationship    race      sex  \\\n",
              "0        Never-married        Adm-clerical   Not-in-family   White     Male   \n",
              "1   Married-civ-spouse     Exec-managerial         Husband   White     Male   \n",
              "2             Divorced   Handlers-cleaners   Not-in-family   White     Male   \n",
              "3   Married-civ-spouse   Handlers-cleaners         Husband   Black     Male   \n",
              "4   Married-civ-spouse      Prof-specialty            Wife   Black   Female   \n",
              "\n",
              "   capital_gain  capital_loss  hours_per_week  native_country      14  \n",
              "0          2174             0              40   United-States   <=50K  \n",
              "1             0             0              13   United-States   <=50K  \n",
              "2             0             0              40   United-States   <=50K  \n",
              "3             0             0              40   United-States   <=50K  \n",
              "4             0             0              40            Cuba   <=50K  "
            ]
          },
          "metadata": {
            "tags": []
          },
          "execution_count": 125
        }
      ]
    },
    {
      "metadata": {
        "id": "jWGuSfd14nxd",
        "colab_type": "code",
        "colab": {}
      },
      "cell_type": "code",
      "source": [
        "df = df.rename(columns={14:'y'})"
      ],
      "execution_count": 0,
      "outputs": []
    },
    {
      "metadata": {
        "id": "PLorzn_nx-Ih",
        "colab_type": "code",
        "colab": {
          "base_uri": "https://localhost:8080/",
          "height": 289
        },
        "outputId": "70931454-4130-45f3-fb51-7871b1cfee24"
      },
      "cell_type": "code",
      "source": [
        "df.dtypes"
      ],
      "execution_count": 127,
      "outputs": [
        {
          "output_type": "execute_result",
          "data": {
            "text/plain": [
              "age                int64\n",
              "workclass         object\n",
              "fnlwgt             int64\n",
              "education         object\n",
              "education_num      int64\n",
              "marital_status    object\n",
              "occupation        object\n",
              "relationship      object\n",
              "race              object\n",
              "sex               object\n",
              "capital_gain       int64\n",
              "capital_loss       int64\n",
              "hours_per_week     int64\n",
              "native_country    object\n",
              "y                 object\n",
              "dtype: object"
            ]
          },
          "metadata": {
            "tags": []
          },
          "execution_count": 127
        }
      ]
    },
    {
      "metadata": {
        "id": "MaoKOzUx4iby",
        "colab_type": "code",
        "colab": {}
      },
      "cell_type": "code",
      "source": [
        "# one hot encoding \n",
        "from sklearn.preprocessing import LabelEncoder\n",
        "\n",
        "df['workclass_encoded'] = LabelEncoder().fit_transform(df.workclass)\n",
        "df['education_encoded'] = LabelEncoder().fit_transform(df.education)\n",
        "df['marital_status_encoded'] = LabelEncoder().fit_transform(df.marital_status)\n",
        "df['occupation_encoded'] = LabelEncoder().fit_transform(df.occupation)\n",
        "df['relationship_encoded'] = LabelEncoder().fit_transform(df.relationship)\n",
        "df['race_encoded'] = LabelEncoder().fit_transform(df.race)\n",
        "df['sex_encoded'] = LabelEncoder().fit_transform(df.sex)\n",
        "df['native_country_encoded'] = LabelEncoder().fit_transform(df.native_country)\n",
        "df['y_encoded'] = LabelEncoder().fit_transform(df.y)"
      ],
      "execution_count": 0,
      "outputs": []
    },
    {
      "metadata": {
        "id": "t0RV8T_XyAbm",
        "colab_type": "code",
        "colab": {
          "base_uri": "https://localhost:8080/",
          "height": 224
        },
        "outputId": "14ea11c2-14ce-436e-92b2-bee914ee8556"
      },
      "cell_type": "code",
      "source": [
        "df_encoded = df.drop(columns=['workclass','education','marital_status',\n",
        "                              'occupation','relationship','race','sex',\n",
        "                             'native_country','y'])\n",
        "\n",
        "df_encoded.head()"
      ],
      "execution_count": 129,
      "outputs": [
        {
          "output_type": "execute_result",
          "data": {
            "text/html": [
              "<div>\n",
              "<style scoped>\n",
              "    .dataframe tbody tr th:only-of-type {\n",
              "        vertical-align: middle;\n",
              "    }\n",
              "\n",
              "    .dataframe tbody tr th {\n",
              "        vertical-align: top;\n",
              "    }\n",
              "\n",
              "    .dataframe thead th {\n",
              "        text-align: right;\n",
              "    }\n",
              "</style>\n",
              "<table border=\"1\" class=\"dataframe\">\n",
              "  <thead>\n",
              "    <tr style=\"text-align: right;\">\n",
              "      <th></th>\n",
              "      <th>age</th>\n",
              "      <th>fnlwgt</th>\n",
              "      <th>education_num</th>\n",
              "      <th>capital_gain</th>\n",
              "      <th>capital_loss</th>\n",
              "      <th>hours_per_week</th>\n",
              "      <th>workclass_encoded</th>\n",
              "      <th>education_encoded</th>\n",
              "      <th>marital_status_encoded</th>\n",
              "      <th>occupation_encoded</th>\n",
              "      <th>relationship_encoded</th>\n",
              "      <th>race_encoded</th>\n",
              "      <th>sex_encoded</th>\n",
              "      <th>native_country_encoded</th>\n",
              "      <th>y_encoded</th>\n",
              "    </tr>\n",
              "  </thead>\n",
              "  <tbody>\n",
              "    <tr>\n",
              "      <th>0</th>\n",
              "      <td>39</td>\n",
              "      <td>77516</td>\n",
              "      <td>13</td>\n",
              "      <td>2174</td>\n",
              "      <td>0</td>\n",
              "      <td>40</td>\n",
              "      <td>7</td>\n",
              "      <td>9</td>\n",
              "      <td>4</td>\n",
              "      <td>1</td>\n",
              "      <td>1</td>\n",
              "      <td>4</td>\n",
              "      <td>1</td>\n",
              "      <td>39</td>\n",
              "      <td>0</td>\n",
              "    </tr>\n",
              "    <tr>\n",
              "      <th>1</th>\n",
              "      <td>50</td>\n",
              "      <td>83311</td>\n",
              "      <td>13</td>\n",
              "      <td>0</td>\n",
              "      <td>0</td>\n",
              "      <td>13</td>\n",
              "      <td>6</td>\n",
              "      <td>9</td>\n",
              "      <td>2</td>\n",
              "      <td>4</td>\n",
              "      <td>0</td>\n",
              "      <td>4</td>\n",
              "      <td>1</td>\n",
              "      <td>39</td>\n",
              "      <td>0</td>\n",
              "    </tr>\n",
              "    <tr>\n",
              "      <th>2</th>\n",
              "      <td>38</td>\n",
              "      <td>215646</td>\n",
              "      <td>9</td>\n",
              "      <td>0</td>\n",
              "      <td>0</td>\n",
              "      <td>40</td>\n",
              "      <td>4</td>\n",
              "      <td>11</td>\n",
              "      <td>0</td>\n",
              "      <td>6</td>\n",
              "      <td>1</td>\n",
              "      <td>4</td>\n",
              "      <td>1</td>\n",
              "      <td>39</td>\n",
              "      <td>0</td>\n",
              "    </tr>\n",
              "    <tr>\n",
              "      <th>3</th>\n",
              "      <td>53</td>\n",
              "      <td>234721</td>\n",
              "      <td>7</td>\n",
              "      <td>0</td>\n",
              "      <td>0</td>\n",
              "      <td>40</td>\n",
              "      <td>4</td>\n",
              "      <td>1</td>\n",
              "      <td>2</td>\n",
              "      <td>6</td>\n",
              "      <td>0</td>\n",
              "      <td>2</td>\n",
              "      <td>1</td>\n",
              "      <td>39</td>\n",
              "      <td>0</td>\n",
              "    </tr>\n",
              "    <tr>\n",
              "      <th>4</th>\n",
              "      <td>28</td>\n",
              "      <td>338409</td>\n",
              "      <td>13</td>\n",
              "      <td>0</td>\n",
              "      <td>0</td>\n",
              "      <td>40</td>\n",
              "      <td>4</td>\n",
              "      <td>9</td>\n",
              "      <td>2</td>\n",
              "      <td>10</td>\n",
              "      <td>5</td>\n",
              "      <td>2</td>\n",
              "      <td>0</td>\n",
              "      <td>5</td>\n",
              "      <td>0</td>\n",
              "    </tr>\n",
              "  </tbody>\n",
              "</table>\n",
              "</div>"
            ],
            "text/plain": [
              "   age  fnlwgt  education_num  capital_gain  capital_loss  hours_per_week  \\\n",
              "0   39   77516             13          2174             0              40   \n",
              "1   50   83311             13             0             0              13   \n",
              "2   38  215646              9             0             0              40   \n",
              "3   53  234721              7             0             0              40   \n",
              "4   28  338409             13             0             0              40   \n",
              "\n",
              "   workclass_encoded  education_encoded  marital_status_encoded  \\\n",
              "0                  7                  9                       4   \n",
              "1                  6                  9                       2   \n",
              "2                  4                 11                       0   \n",
              "3                  4                  1                       2   \n",
              "4                  4                  9                       2   \n",
              "\n",
              "   occupation_encoded  relationship_encoded  race_encoded  sex_encoded  \\\n",
              "0                   1                     1             4            1   \n",
              "1                   4                     0             4            1   \n",
              "2                   6                     1             4            1   \n",
              "3                   6                     0             2            1   \n",
              "4                  10                     5             2            0   \n",
              "\n",
              "   native_country_encoded  y_encoded  \n",
              "0                      39          0  \n",
              "1                      39          0  \n",
              "2                      39          0  \n",
              "3                      39          0  \n",
              "4                       5          0  "
            ]
          },
          "metadata": {
            "tags": []
          },
          "execution_count": 129
        }
      ]
    },
    {
      "metadata": {
        "id": "9mCJR2QV0_bj",
        "colab_type": "code",
        "colab": {
          "base_uri": "https://localhost:8080/",
          "height": 289
        },
        "outputId": "db7ec388-6dc6-4ad6-ecbe-97dae282f704"
      },
      "cell_type": "code",
      "source": [
        "# drop unknowns\n",
        "# y: 0=equal or less, 1=above\n",
        "\n",
        "df_encoded.dtypes\n",
        "\n",
        "# unknowns are now encoded instead of dropped"
      ],
      "execution_count": 130,
      "outputs": [
        {
          "output_type": "execute_result",
          "data": {
            "text/plain": [
              "age                       int64\n",
              "fnlwgt                    int64\n",
              "education_num             int64\n",
              "capital_gain              int64\n",
              "capital_loss              int64\n",
              "hours_per_week            int64\n",
              "workclass_encoded         int64\n",
              "education_encoded         int64\n",
              "marital_status_encoded    int64\n",
              "occupation_encoded        int64\n",
              "relationship_encoded      int64\n",
              "race_encoded              int64\n",
              "sex_encoded               int64\n",
              "native_country_encoded    int64\n",
              "y_encoded                 int64\n",
              "dtype: object"
            ]
          },
          "metadata": {
            "tags": []
          },
          "execution_count": 130
        }
      ]
    },
    {
      "metadata": {
        "id": "bk_8XEXDAVgl",
        "colab_type": "code",
        "colab": {
          "base_uri": "https://localhost:8080/",
          "height": 34
        },
        "outputId": "5118026d-63ac-46f1-caeb-e3d5d092a1f9"
      },
      "cell_type": "code",
      "source": [
        "df_encoded.shape"
      ],
      "execution_count": 131,
      "outputs": [
        {
          "output_type": "execute_result",
          "data": {
            "text/plain": [
              "(32561, 15)"
            ]
          },
          "metadata": {
            "tags": []
          },
          "execution_count": 131
        }
      ]
    },
    {
      "metadata": {
        "id": "RT1LFnFO1lo6",
        "colab_type": "text"
      },
      "cell_type": "markdown",
      "source": [
        "## Part 2 - Fit and present a Logistic Regression\n",
        "\n",
        "Your data should now be in a state to fit a logistic regression. Use scikit-learn, define your `X` (independent variable) and `y`, and fit a model.\n",
        "\n",
        "Then, present results - display coefficients in as interpretible a way as you can (hint - scaling the numeric features will help, as it will at least make coefficients more comparable to each other). If you find it helpful for interpretation, you can also generate predictions for cases (like our 5 year old rich kid on the Titanic) or make visualizations - but the goal is your exploration to be able to answer the question, not any particular plot (i.e. don't worry about polishing it).\n",
        "\n",
        "It is *optional* to use `train_test_split` or validate your model more generally - that is not the core focus for this week. So, it is suggested you focus on fitting a model first, and if you have time at the end you can do further validation."
      ]
    },
    {
      "metadata": {
        "id": "yJegQit-GEVD",
        "colab_type": "code",
        "colab": {
          "base_uri": "https://localhost:8080/",
          "height": 51
        },
        "outputId": "dfdd2df8-3107-4d2e-c2a5-ea894050a6ba"
      },
      "cell_type": "code",
      "source": [
        "# regularize data\n",
        "\n",
        "from sklearn.preprocessing import scale\n",
        "\n",
        "scale_x = df_encoded.drop(columns=['y_encoded'])\n",
        "\n",
        "scale_x = pd.DataFrame(scale(scale_x),columns=scale_x.columns)"
      ],
      "execution_count": 134,
      "outputs": [
        {
          "output_type": "stream",
          "text": [
            "/usr/local/lib/python3.6/dist-packages/ipykernel_launcher.py:6: DataConversionWarning: Data with input dtype int64 were all converted to float64 by the scale function.\n",
            "  \n"
          ],
          "name": "stderr"
        }
      ]
    },
    {
      "metadata": {
        "id": "f4ESgvXBGlc1",
        "colab_type": "code",
        "colab": {
          "base_uri": "https://localhost:8080/",
          "height": 224
        },
        "outputId": "a719f31e-6fe4-4d43-bc95-c5f3b42b7efd"
      },
      "cell_type": "code",
      "source": [
        "scale_x.head()"
      ],
      "execution_count": 135,
      "outputs": [
        {
          "output_type": "execute_result",
          "data": {
            "text/html": [
              "<div>\n",
              "<style scoped>\n",
              "    .dataframe tbody tr th:only-of-type {\n",
              "        vertical-align: middle;\n",
              "    }\n",
              "\n",
              "    .dataframe tbody tr th {\n",
              "        vertical-align: top;\n",
              "    }\n",
              "\n",
              "    .dataframe thead th {\n",
              "        text-align: right;\n",
              "    }\n",
              "</style>\n",
              "<table border=\"1\" class=\"dataframe\">\n",
              "  <thead>\n",
              "    <tr style=\"text-align: right;\">\n",
              "      <th></th>\n",
              "      <th>age</th>\n",
              "      <th>fnlwgt</th>\n",
              "      <th>education_num</th>\n",
              "      <th>capital_gain</th>\n",
              "      <th>capital_loss</th>\n",
              "      <th>hours_per_week</th>\n",
              "      <th>workclass_encoded</th>\n",
              "      <th>education_encoded</th>\n",
              "      <th>marital_status_encoded</th>\n",
              "      <th>occupation_encoded</th>\n",
              "      <th>relationship_encoded</th>\n",
              "      <th>race_encoded</th>\n",
              "      <th>sex_encoded</th>\n",
              "      <th>native_country_encoded</th>\n",
              "    </tr>\n",
              "  </thead>\n",
              "  <tbody>\n",
              "    <tr>\n",
              "      <th>0</th>\n",
              "      <td>0.030671</td>\n",
              "      <td>-1.063611</td>\n",
              "      <td>1.134739</td>\n",
              "      <td>0.148453</td>\n",
              "      <td>-0.21666</td>\n",
              "      <td>-0.035429</td>\n",
              "      <td>2.150579</td>\n",
              "      <td>-0.335437</td>\n",
              "      <td>0.921634</td>\n",
              "      <td>-1.317809</td>\n",
              "      <td>-0.277805</td>\n",
              "      <td>0.393668</td>\n",
              "      <td>0.703071</td>\n",
              "      <td>0.291569</td>\n",
              "    </tr>\n",
              "    <tr>\n",
              "      <th>1</th>\n",
              "      <td>0.837109</td>\n",
              "      <td>-1.008707</td>\n",
              "      <td>1.134739</td>\n",
              "      <td>-0.145920</td>\n",
              "      <td>-0.21666</td>\n",
              "      <td>-2.222153</td>\n",
              "      <td>1.463736</td>\n",
              "      <td>-0.335437</td>\n",
              "      <td>-0.406212</td>\n",
              "      <td>-0.608387</td>\n",
              "      <td>-0.900181</td>\n",
              "      <td>0.393668</td>\n",
              "      <td>0.703071</td>\n",
              "      <td>0.291569</td>\n",
              "    </tr>\n",
              "    <tr>\n",
              "      <th>2</th>\n",
              "      <td>-0.042642</td>\n",
              "      <td>0.245079</td>\n",
              "      <td>-0.420060</td>\n",
              "      <td>-0.145920</td>\n",
              "      <td>-0.21666</td>\n",
              "      <td>-0.035429</td>\n",
              "      <td>0.090050</td>\n",
              "      <td>0.181332</td>\n",
              "      <td>-1.734058</td>\n",
              "      <td>-0.135438</td>\n",
              "      <td>-0.277805</td>\n",
              "      <td>0.393668</td>\n",
              "      <td>0.703071</td>\n",
              "      <td>0.291569</td>\n",
              "    </tr>\n",
              "    <tr>\n",
              "      <th>3</th>\n",
              "      <td>1.057047</td>\n",
              "      <td>0.425801</td>\n",
              "      <td>-1.197459</td>\n",
              "      <td>-0.145920</td>\n",
              "      <td>-0.21666</td>\n",
              "      <td>-0.035429</td>\n",
              "      <td>0.090050</td>\n",
              "      <td>-2.402511</td>\n",
              "      <td>-0.406212</td>\n",
              "      <td>-0.135438</td>\n",
              "      <td>-0.900181</td>\n",
              "      <td>-1.962621</td>\n",
              "      <td>0.703071</td>\n",
              "      <td>0.291569</td>\n",
              "    </tr>\n",
              "    <tr>\n",
              "      <th>4</th>\n",
              "      <td>-0.775768</td>\n",
              "      <td>1.408176</td>\n",
              "      <td>1.134739</td>\n",
              "      <td>-0.145920</td>\n",
              "      <td>-0.21666</td>\n",
              "      <td>-0.035429</td>\n",
              "      <td>0.090050</td>\n",
              "      <td>-0.335437</td>\n",
              "      <td>-0.406212</td>\n",
              "      <td>0.810458</td>\n",
              "      <td>2.211698</td>\n",
              "      <td>-1.962621</td>\n",
              "      <td>-1.422331</td>\n",
              "      <td>-4.054223</td>\n",
              "    </tr>\n",
              "  </tbody>\n",
              "</table>\n",
              "</div>"
            ],
            "text/plain": [
              "        age    fnlwgt  education_num  capital_gain  capital_loss  \\\n",
              "0  0.030671 -1.063611       1.134739      0.148453      -0.21666   \n",
              "1  0.837109 -1.008707       1.134739     -0.145920      -0.21666   \n",
              "2 -0.042642  0.245079      -0.420060     -0.145920      -0.21666   \n",
              "3  1.057047  0.425801      -1.197459     -0.145920      -0.21666   \n",
              "4 -0.775768  1.408176       1.134739     -0.145920      -0.21666   \n",
              "\n",
              "   hours_per_week  workclass_encoded  education_encoded  \\\n",
              "0       -0.035429           2.150579          -0.335437   \n",
              "1       -2.222153           1.463736          -0.335437   \n",
              "2       -0.035429           0.090050           0.181332   \n",
              "3       -0.035429           0.090050          -2.402511   \n",
              "4       -0.035429           0.090050          -0.335437   \n",
              "\n",
              "   marital_status_encoded  occupation_encoded  relationship_encoded  \\\n",
              "0                0.921634           -1.317809             -0.277805   \n",
              "1               -0.406212           -0.608387             -0.900181   \n",
              "2               -1.734058           -0.135438             -0.277805   \n",
              "3               -0.406212           -0.135438             -0.900181   \n",
              "4               -0.406212            0.810458              2.211698   \n",
              "\n",
              "   race_encoded  sex_encoded  native_country_encoded  \n",
              "0      0.393668     0.703071                0.291569  \n",
              "1      0.393668     0.703071                0.291569  \n",
              "2      0.393668     0.703071                0.291569  \n",
              "3     -1.962621     0.703071                0.291569  \n",
              "4     -1.962621    -1.422331               -4.054223  "
            ]
          },
          "metadata": {
            "tags": []
          },
          "execution_count": 135
        }
      ]
    },
    {
      "metadata": {
        "id": "s7fTRDXguD7N",
        "colab_type": "code",
        "colab": {
          "base_uri": "https://localhost:8080/",
          "height": 68
        },
        "outputId": "ea006f2c-7f9a-4704-fe7f-1503e0e22dc4"
      },
      "cell_type": "code",
      "source": [
        "# prediction task is to determine whether a person makes over 50k a year\n",
        "\n",
        "from sklearn.linear_model import LogisticRegression\n",
        "\n",
        "y = df_encoded['y_encoded']\n",
        "X = scale_x\n",
        "\n",
        "df_log1 = LogisticRegression().fit(X, y)\n",
        "df_log1.score(X, y)"
      ],
      "execution_count": 136,
      "outputs": [
        {
          "output_type": "stream",
          "text": [
            "/usr/local/lib/python3.6/dist-packages/sklearn/linear_model/logistic.py:433: FutureWarning: Default solver will be changed to 'lbfgs' in 0.22. Specify a solver to silence this warning.\n",
            "  FutureWarning)\n"
          ],
          "name": "stderr"
        },
        {
          "output_type": "execute_result",
          "data": {
            "text/plain": [
              "0.8250667977027732"
            ]
          },
          "metadata": {
            "tags": []
          },
          "execution_count": 136
        }
      ]
    },
    {
      "metadata": {
        "id": "VuO3Zewd-jhc",
        "colab_type": "text"
      },
      "cell_type": "markdown",
      "source": [
        "**Great fit -- I decided to NOT scale my Y values and increased my fit by ~3%**"
      ]
    },
    {
      "metadata": {
        "id": "XSfZp1SY9XJ5",
        "colab_type": "code",
        "colab": {
          "base_uri": "https://localhost:8080/",
          "height": 68
        },
        "outputId": "2ad97c36-bf60-4fab-b850-2effd4a02259"
      },
      "cell_type": "code",
      "source": [
        "# coefficients after applying log regression to df\n",
        "\n",
        "df_log1.coef_"
      ],
      "execution_count": 137,
      "outputs": [
        {
          "output_type": "execute_result",
          "data": {
            "text/plain": [
              "array([[ 0.4646181 ,  0.05373115,  0.85222912,  2.32323214,  0.27335535,\n",
              "         0.36885636, -0.03154805,  0.06094938, -0.35307137,  0.04470072,\n",
              "        -0.19192929,  0.09619363,  0.42082713,  0.02689289]])"
            ]
          },
          "metadata": {
            "tags": []
          },
          "execution_count": 137
        }
      ]
    },
    {
      "metadata": {
        "id": "odmrza_MCO4C",
        "colab_type": "code",
        "colab": {
          "base_uri": "https://localhost:8080/",
          "height": 102
        },
        "outputId": "6d411c19-0230-4fe9-c90a-55b991f01dbf"
      },
      "cell_type": "code",
      "source": [
        "X.columns"
      ],
      "execution_count": 138,
      "outputs": [
        {
          "output_type": "execute_result",
          "data": {
            "text/plain": [
              "Index(['age', 'fnlwgt', 'education_num', 'capital_gain', 'capital_loss',\n",
              "       'hours_per_week', 'workclass_encoded', 'education_encoded',\n",
              "       'marital_status_encoded', 'occupation_encoded', 'relationship_encoded',\n",
              "       'race_encoded', 'sex_encoded', 'native_country_encoded'],\n",
              "      dtype='object')"
            ]
          },
          "metadata": {
            "tags": []
          },
          "execution_count": 138
        }
      ]
    },
    {
      "metadata": {
        "id": "syAyScQTDkY_",
        "colab_type": "code",
        "colab": {
          "base_uri": "https://localhost:8080/",
          "height": 255
        },
        "outputId": "42636788-de22-4531-ee9d-dfd147ae5cc7"
      },
      "cell_type": "code",
      "source": [
        "# double check / easier to read\n",
        "\n",
        "print(df_log1.coef_[0,0].mean(),'age')\n",
        "print(df_log1.coef_[0,1].mean(),'fnlnwgt')\n",
        "print(df_log1.coef_[0,2].mean(),'education num')\n",
        "print(df_log1.coef_[0,3].mean(),'capital gain')\n",
        "print(df_log1.coef_[0,4].mean(),'capital loss')\n",
        "print(df_log1.coef_[0,5].mean(),'hours per week')\n",
        "print(df_log1.coef_[0,6].mean(),'workclass')\n",
        "print(df_log1.coef_[0,7].mean(),'education')\n",
        "print(df_log1.coef_[0,8].mean(),'marital status')\n",
        "print(df_log1.coef_[0,9].mean(),'occupation')\n",
        "print(df_log1.coef_[0,10].mean(),'relationship')\n",
        "print(df_log1.coef_[0,11].mean(),'race')\n",
        "print(df_log1.coef_[0,12].mean(),'sex')\n",
        "print(df_log1.coef_[0,13].mean(),'native country')"
      ],
      "execution_count": 141,
      "outputs": [
        {
          "output_type": "stream",
          "text": [
            "0.46461809781598684 age\n",
            "0.05373114780758919 fnlnwgt\n",
            "0.8522291154827533 education num\n",
            "2.323232144749244 capital gain\n",
            "0.2733553470255125 capital loss\n",
            "0.36885636249426884 hours per week\n",
            "-0.03154805058023154 workclass\n",
            "0.06094937540324338 education\n",
            "-0.35307137038644554 marital status\n",
            "0.04470071984275184 occupation\n",
            "-0.19192928757002667 relationship\n",
            "0.09619363165733534 race\n",
            "0.42082712933404326 sex\n",
            "0.026892885287979597 native country\n"
          ],
          "name": "stdout"
        }
      ]
    },
    {
      "metadata": {
        "id": "BkIa-Sa21qdC",
        "colab_type": "text"
      },
      "cell_type": "markdown",
      "source": [
        "## Part 3 - Analysis, Interpretation, and Questions\n",
        "\n",
        "### Based on your above model, answer the following questions\n",
        "\n",
        "1. What are 3 features positively correlated with income above 50k?\n",
        "2. What are 3 features negatively correlated with income above 50k?\n",
        "3. Overall, how well does the model explain the data and what insights do you derive from it?\n",
        "\n",
        "*These answers count* - that is, make sure to spend some time on them, connecting to your analysis above. There is no single right answer, but as long as you support your reasoning with evidence you are on the right track.\n",
        "\n",
        "Note - scikit-learn logistic regression does *not* automatically perform a hypothesis test on coefficients. That is OK - if you scale the data they are more comparable in weight.\n",
        "\n",
        "### Match the following situation descriptions with the model most appropriate to addressing them\n",
        "\n",
        "In addition to logistic regression, a number of other approaches were covered this week. Pair them with the situations they are most appropriate for, and briefly explain why.\n",
        "\n",
        "Situations:\n",
        "1. You are given data on academic performance of primary school students, and asked to fit a model to help predict \"at-risk\" students who are likely to receive the bottom tier of grades.\n",
        "2. You are studying tech companies and their patterns in releasing new products, and would like to be able to model and predict when a new product is likely to be launched.\n",
        "3. You are working on modeling expected plant size and yield with a laboratory that is able to capture fantastically detailed physical data about plants, but only of a few dozen plants at a time.\n",
        "\n",
        "Approaches:\n",
        "1. Ridge Regression\n",
        "2. Quantile Regression\n",
        "3. Survival Analysis"
      ]
    },
    {
      "metadata": {
        "id": "Yjj0sseiuHib",
        "colab_type": "text"
      },
      "cell_type": "markdown",
      "source": [
        "#Part 3\n",
        "**1.**\n",
        "- Capital Gain, Education Num, and Age are positively correlated with income above 50k\n",
        "\n",
        "**2.**\n",
        "- Workclass, Marital Status, and Relationship are negatively correlated with income above 50k\n",
        "\n",
        "**3.**\n",
        "- Based on my Logistic Regression I have a model with 82.51% accuracy for predicting whether or not someone's income is above 50k\n",
        "- Whether or not this data is overfit or accurate we cannot say with the information I have provided... how we might find this out is to run tests for multicollinearity, run hypothesis tests, or using this model on future data and seeing how close our predictions based on this model are compared to the actual outcomes"
      ]
    },
    {
      "metadata": {
        "id": "vyjZvTKvMK11",
        "colab_type": "text"
      },
      "cell_type": "markdown",
      "source": [
        "#Part 4\n",
        "**1.**\n",
        "- **Ridge Regression** matches to **situation Three**. Given a small number of independent variables (plants, in this case), we are prone to overfitting with traditional OLS. Regularization is a solution that often fits these types of situations, and Ridge Regression does this by adding more information to the model to enhance tractability. Because our variance sensitivity will be so high (given our numbers of features and observations are similar), we will need to increase our bias; in comes Ridge Regression. Ridge Regression reduces SSE of Residuals just like OLS, but also reduces the Squared Slope of the model times Alpha. As we play with Alpha, we will find an optimum 'penalty' based on how overfit our model is (how steep our slopes are) and ultimately solve our issue for a similar number of features (plants) and observations (plant data). \n",
        "\n",
        "**2.**\n",
        "- **Quantile Regression** matches to **situation One**. Quantile Regression allows optimization for values other than the mean, for example, 'at risk students.' This is useful in this scenario as many teachers have different outlooks on what grade percentiles are considered at-risk. For example, maybe a teacher's class is graded on a bell-curve, and although most students are receiving marks below 40%, no student is at-risk of failure except for those below 25%. To contrast, many teachers grade on a more standardized scale, deeming scores below 65% worthy of being at-risk (below a flat D, in my experience). Additionally, some students may be exceeding expectations or failing miserably -- Quantile Regression efficiently handles outliers so not to skew findings. Quantile Regression allows us to cut a probability distribution and solve these modeling problems successfully.\n",
        "\n",
        "**3.**\n",
        "- **Survival Analysis** matches to **situation Two**. Survival Analysis models 'time until failure', or in this case, 'time until  launch.' The variables that might take place for this model could be capital raised, engineers hired, product launch seminars held, time spent building product, product type, or a whole bunch of other independent variables. The dependent variable is the product launch which will ultimately be a Yes or No, but for the sake of our model, will always be a Yes. This Yes is our lack of survival or death value in our model. The noticeable up-front downside of our model is the assumption that all products in the making will eventually be launched, which we know is not true and will therefore see out failures. Luckily there is a hazard 'bathtub' function that successfully addresses this problem -- think Biopharmaceutical companies that are close to receiving FDA approval, only to be sent back to phase 1 or 2 of clinical trials."
      ]
    },
    {
      "metadata": {
        "id": "PiZbmXFEUVHj",
        "colab_type": "code",
        "colab": {}
      },
      "cell_type": "code",
      "source": [
        ""
      ],
      "execution_count": 0,
      "outputs": []
    }
  ]
}