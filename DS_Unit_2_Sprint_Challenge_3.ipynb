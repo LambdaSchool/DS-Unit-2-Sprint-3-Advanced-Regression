{
  "nbformat": 4,
  "nbformat_minor": 0,
  "metadata": {
    "colab": {
      "name": "DS_Unit_2_Sprint_Challenge_3.ipynb",
      "version": "0.3.2",
      "provenance": [],
      "collapsed_sections": [],
      "include_colab_link": true
    },
    "kernelspec": {
      "name": "python3",
      "display_name": "Python 3"
    }
  },
  "cells": [
    {
      "cell_type": "markdown",
      "metadata": {
        "id": "view-in-github",
        "colab_type": "text"
      },
      "source": [
        "<a href=\"https://colab.research.google.com/github/zarrinan/DS-Unit-2-Sprint-3-Advanced-Regression/blob/master/DS_Unit_2_Sprint_Challenge_3.ipynb\" target=\"_parent\"><img src=\"https://colab.research.google.com/assets/colab-badge.svg\" alt=\"Open In Colab\"/></a>"
      ]
    },
    {
      "metadata": {
        "id": "ayDccRP01GJD",
        "colab_type": "text"
      },
      "cell_type": "markdown",
      "source": [
        "# Data Science Unit 2 Sprint Challenge 3\n",
        "\n",
        "## Logistic Regression and Beyond\n",
        "\n",
        "In this sprint challenge you will fit a logistic regression modeling the probability of an adult having an income above 50K. The dataset is available at UCI:\n",
        "\n",
        "https://archive.ics.uci.edu/ml/datasets/adult\n",
        "\n",
        "Your goal is to:\n",
        "\n",
        "1. Load, validate, and clean/prepare the data.\n",
        "2. Fit a logistic regression model\n",
        "3. Answer questions based on the results (as well as a few extra questions about the other modules)\n",
        "\n",
        "Don't let the perfect be the enemy of the good! Manage your time, and make sure to get to all parts. If you get stuck wrestling with the data, simplify it (if necessary, drop features or rows) so you're able to move on. If you have time at the end, you can go back and try to fix/improve.\n",
        "\n",
        "### Hints\n",
        "\n",
        "It has a variety of features - some are continuous, but many are categorical. You may find [pandas.get_dummies](https://pandas.pydata.org/pandas-docs/stable/generated/pandas.get_dummies.html) (a method to one-hot encode) helpful!\n",
        "\n",
        "The features have dramatically different ranges. You may find [sklearn.preprocessing.minmax_scale](https://scikit-learn.org/stable/modules/generated/sklearn.preprocessing.minmax_scale.html#sklearn.preprocessing.minmax_scale) helpful!"
      ]
    },
    {
      "metadata": {
        "id": "U22R1Ud51hxb",
        "colab_type": "text"
      },
      "cell_type": "markdown",
      "source": [
        "## Part 1 - Load, validate, and prepare data\n",
        "\n",
        "The data is available at: https://archive.ics.uci.edu/ml/datasets/adult\n",
        "\n",
        "Load it, name the columns, and make sure that you've loaded the data successfully. Note that missing values for categorical variables can essentially be considered another category (\"unknown\"), and may not need to be dropped.\n",
        "\n",
        "You should also prepare the data for logistic regression - one-hot encode categorical features as appropriate."
      ]
    },
    {
      "metadata": {
        "id": "SeOByIkht-NS",
        "colab_type": "code",
        "colab": {}
      },
      "cell_type": "code",
      "source": [
        "# TODO - your work!\n"
      ],
      "execution_count": 0,
      "outputs": []
    },
    {
      "metadata": {
        "id": "8wuKKcTQyenE",
        "colab_type": "code",
        "colab": {}
      },
      "cell_type": "code",
      "source": [
        "!pip install seaborn==0.9.0 -q\n",
        "!pip install -U matplotlib"
      ],
      "execution_count": 0,
      "outputs": []
    },
    {
      "metadata": {
        "id": "1BusS42uy6_f",
        "colab_type": "code",
        "colab": {}
      },
      "cell_type": "code",
      "source": [
        "import pandas as pd\n",
        "import numpy as np\n",
        "import seaborn as sns\n",
        "import matplotlib.pyplot as plt\n",
        "\n",
        "from sklearn.linear_model import LogisticRegression\n",
        "\n",
        "from sklearn.metrics import mean_squared_error, r2_score\n",
        "from sklearn.model_selection import train_test_split\n",
        "from scipy import optimize\n",
        "from scipy import stats\n",
        "from sklearn import linear_model\n",
        "from sklearn import metrics\n",
        "from sklearn.preprocessing import scale\n",
        "\n"
      ],
      "execution_count": 0,
      "outputs": []
    },
    {
      "metadata": {
        "id": "5xwf6PrSy7b1",
        "colab_type": "code",
        "colab": {}
      },
      "cell_type": "code",
      "source": [
        " sns.__version__"
      ],
      "execution_count": 0,
      "outputs": []
    },
    {
      "metadata": {
        "id": "kJC_ty7OzpVF",
        "colab_type": "code",
        "colab": {}
      },
      "cell_type": "code",
      "source": [
        "column_names = ['age',\n",
        "            'workclass',\n",
        "            'fnlwgt', \n",
        "            'education',\n",
        "            'education-num',\n",
        "            'marital-status',\n",
        "            'occupation',\n",
        "            'relationship',\n",
        "            'race',\n",
        "            'sex',\n",
        "            'capital-gain',\n",
        "            'capital-loss', \n",
        "            'hours-per-week',\n",
        "            'native-country', \n",
        "            'income']"
      ],
      "execution_count": 0,
      "outputs": []
    },
    {
      "metadata": {
        "id": "uHgMR762yXEq",
        "colab_type": "code",
        "colab": {
          "base_uri": "https://localhost:8080/",
          "height": 1117
        },
        "outputId": "67915ebd-8cd6-4e6d-b27e-2664bf0adc61"
      },
      "cell_type": "code",
      "source": [
        "raw = pd.read_csv('https://archive.ics.uci.edu/ml/machine-learning-databases/adult/adult.data', \n",
        "                  header=None, names=column_names)\n",
        "raw.head(20)"
      ],
      "execution_count": 105,
      "outputs": [
        {
          "output_type": "execute_result",
          "data": {
            "text/html": [
              "<div>\n",
              "<style scoped>\n",
              "    .dataframe tbody tr th:only-of-type {\n",
              "        vertical-align: middle;\n",
              "    }\n",
              "\n",
              "    .dataframe tbody tr th {\n",
              "        vertical-align: top;\n",
              "    }\n",
              "\n",
              "    .dataframe thead th {\n",
              "        text-align: right;\n",
              "    }\n",
              "</style>\n",
              "<table border=\"1\" class=\"dataframe\">\n",
              "  <thead>\n",
              "    <tr style=\"text-align: right;\">\n",
              "      <th></th>\n",
              "      <th>age</th>\n",
              "      <th>workclass</th>\n",
              "      <th>fnlwgt</th>\n",
              "      <th>education</th>\n",
              "      <th>education-num</th>\n",
              "      <th>marital-status</th>\n",
              "      <th>occupation</th>\n",
              "      <th>relationship</th>\n",
              "      <th>race</th>\n",
              "      <th>sex</th>\n",
              "      <th>capital-gain</th>\n",
              "      <th>capital-loss</th>\n",
              "      <th>hours-per-week</th>\n",
              "      <th>native-country</th>\n",
              "      <th>income</th>\n",
              "    </tr>\n",
              "  </thead>\n",
              "  <tbody>\n",
              "    <tr>\n",
              "      <th>0</th>\n",
              "      <td>39</td>\n",
              "      <td>State-gov</td>\n",
              "      <td>77516</td>\n",
              "      <td>Bachelors</td>\n",
              "      <td>13</td>\n",
              "      <td>Never-married</td>\n",
              "      <td>Adm-clerical</td>\n",
              "      <td>Not-in-family</td>\n",
              "      <td>White</td>\n",
              "      <td>Male</td>\n",
              "      <td>2174</td>\n",
              "      <td>0</td>\n",
              "      <td>40</td>\n",
              "      <td>United-States</td>\n",
              "      <td>&lt;=50K</td>\n",
              "    </tr>\n",
              "    <tr>\n",
              "      <th>1</th>\n",
              "      <td>50</td>\n",
              "      <td>Self-emp-not-inc</td>\n",
              "      <td>83311</td>\n",
              "      <td>Bachelors</td>\n",
              "      <td>13</td>\n",
              "      <td>Married-civ-spouse</td>\n",
              "      <td>Exec-managerial</td>\n",
              "      <td>Husband</td>\n",
              "      <td>White</td>\n",
              "      <td>Male</td>\n",
              "      <td>0</td>\n",
              "      <td>0</td>\n",
              "      <td>13</td>\n",
              "      <td>United-States</td>\n",
              "      <td>&lt;=50K</td>\n",
              "    </tr>\n",
              "    <tr>\n",
              "      <th>2</th>\n",
              "      <td>38</td>\n",
              "      <td>Private</td>\n",
              "      <td>215646</td>\n",
              "      <td>HS-grad</td>\n",
              "      <td>9</td>\n",
              "      <td>Divorced</td>\n",
              "      <td>Handlers-cleaners</td>\n",
              "      <td>Not-in-family</td>\n",
              "      <td>White</td>\n",
              "      <td>Male</td>\n",
              "      <td>0</td>\n",
              "      <td>0</td>\n",
              "      <td>40</td>\n",
              "      <td>United-States</td>\n",
              "      <td>&lt;=50K</td>\n",
              "    </tr>\n",
              "    <tr>\n",
              "      <th>3</th>\n",
              "      <td>53</td>\n",
              "      <td>Private</td>\n",
              "      <td>234721</td>\n",
              "      <td>11th</td>\n",
              "      <td>7</td>\n",
              "      <td>Married-civ-spouse</td>\n",
              "      <td>Handlers-cleaners</td>\n",
              "      <td>Husband</td>\n",
              "      <td>Black</td>\n",
              "      <td>Male</td>\n",
              "      <td>0</td>\n",
              "      <td>0</td>\n",
              "      <td>40</td>\n",
              "      <td>United-States</td>\n",
              "      <td>&lt;=50K</td>\n",
              "    </tr>\n",
              "    <tr>\n",
              "      <th>4</th>\n",
              "      <td>28</td>\n",
              "      <td>Private</td>\n",
              "      <td>338409</td>\n",
              "      <td>Bachelors</td>\n",
              "      <td>13</td>\n",
              "      <td>Married-civ-spouse</td>\n",
              "      <td>Prof-specialty</td>\n",
              "      <td>Wife</td>\n",
              "      <td>Black</td>\n",
              "      <td>Female</td>\n",
              "      <td>0</td>\n",
              "      <td>0</td>\n",
              "      <td>40</td>\n",
              "      <td>Cuba</td>\n",
              "      <td>&lt;=50K</td>\n",
              "    </tr>\n",
              "    <tr>\n",
              "      <th>5</th>\n",
              "      <td>37</td>\n",
              "      <td>Private</td>\n",
              "      <td>284582</td>\n",
              "      <td>Masters</td>\n",
              "      <td>14</td>\n",
              "      <td>Married-civ-spouse</td>\n",
              "      <td>Exec-managerial</td>\n",
              "      <td>Wife</td>\n",
              "      <td>White</td>\n",
              "      <td>Female</td>\n",
              "      <td>0</td>\n",
              "      <td>0</td>\n",
              "      <td>40</td>\n",
              "      <td>United-States</td>\n",
              "      <td>&lt;=50K</td>\n",
              "    </tr>\n",
              "    <tr>\n",
              "      <th>6</th>\n",
              "      <td>49</td>\n",
              "      <td>Private</td>\n",
              "      <td>160187</td>\n",
              "      <td>9th</td>\n",
              "      <td>5</td>\n",
              "      <td>Married-spouse-absent</td>\n",
              "      <td>Other-service</td>\n",
              "      <td>Not-in-family</td>\n",
              "      <td>Black</td>\n",
              "      <td>Female</td>\n",
              "      <td>0</td>\n",
              "      <td>0</td>\n",
              "      <td>16</td>\n",
              "      <td>Jamaica</td>\n",
              "      <td>&lt;=50K</td>\n",
              "    </tr>\n",
              "    <tr>\n",
              "      <th>7</th>\n",
              "      <td>52</td>\n",
              "      <td>Self-emp-not-inc</td>\n",
              "      <td>209642</td>\n",
              "      <td>HS-grad</td>\n",
              "      <td>9</td>\n",
              "      <td>Married-civ-spouse</td>\n",
              "      <td>Exec-managerial</td>\n",
              "      <td>Husband</td>\n",
              "      <td>White</td>\n",
              "      <td>Male</td>\n",
              "      <td>0</td>\n",
              "      <td>0</td>\n",
              "      <td>45</td>\n",
              "      <td>United-States</td>\n",
              "      <td>&gt;50K</td>\n",
              "    </tr>\n",
              "    <tr>\n",
              "      <th>8</th>\n",
              "      <td>31</td>\n",
              "      <td>Private</td>\n",
              "      <td>45781</td>\n",
              "      <td>Masters</td>\n",
              "      <td>14</td>\n",
              "      <td>Never-married</td>\n",
              "      <td>Prof-specialty</td>\n",
              "      <td>Not-in-family</td>\n",
              "      <td>White</td>\n",
              "      <td>Female</td>\n",
              "      <td>14084</td>\n",
              "      <td>0</td>\n",
              "      <td>50</td>\n",
              "      <td>United-States</td>\n",
              "      <td>&gt;50K</td>\n",
              "    </tr>\n",
              "    <tr>\n",
              "      <th>9</th>\n",
              "      <td>42</td>\n",
              "      <td>Private</td>\n",
              "      <td>159449</td>\n",
              "      <td>Bachelors</td>\n",
              "      <td>13</td>\n",
              "      <td>Married-civ-spouse</td>\n",
              "      <td>Exec-managerial</td>\n",
              "      <td>Husband</td>\n",
              "      <td>White</td>\n",
              "      <td>Male</td>\n",
              "      <td>5178</td>\n",
              "      <td>0</td>\n",
              "      <td>40</td>\n",
              "      <td>United-States</td>\n",
              "      <td>&gt;50K</td>\n",
              "    </tr>\n",
              "    <tr>\n",
              "      <th>10</th>\n",
              "      <td>37</td>\n",
              "      <td>Private</td>\n",
              "      <td>280464</td>\n",
              "      <td>Some-college</td>\n",
              "      <td>10</td>\n",
              "      <td>Married-civ-spouse</td>\n",
              "      <td>Exec-managerial</td>\n",
              "      <td>Husband</td>\n",
              "      <td>Black</td>\n",
              "      <td>Male</td>\n",
              "      <td>0</td>\n",
              "      <td>0</td>\n",
              "      <td>80</td>\n",
              "      <td>United-States</td>\n",
              "      <td>&gt;50K</td>\n",
              "    </tr>\n",
              "    <tr>\n",
              "      <th>11</th>\n",
              "      <td>30</td>\n",
              "      <td>State-gov</td>\n",
              "      <td>141297</td>\n",
              "      <td>Bachelors</td>\n",
              "      <td>13</td>\n",
              "      <td>Married-civ-spouse</td>\n",
              "      <td>Prof-specialty</td>\n",
              "      <td>Husband</td>\n",
              "      <td>Asian-Pac-Islander</td>\n",
              "      <td>Male</td>\n",
              "      <td>0</td>\n",
              "      <td>0</td>\n",
              "      <td>40</td>\n",
              "      <td>India</td>\n",
              "      <td>&gt;50K</td>\n",
              "    </tr>\n",
              "    <tr>\n",
              "      <th>12</th>\n",
              "      <td>23</td>\n",
              "      <td>Private</td>\n",
              "      <td>122272</td>\n",
              "      <td>Bachelors</td>\n",
              "      <td>13</td>\n",
              "      <td>Never-married</td>\n",
              "      <td>Adm-clerical</td>\n",
              "      <td>Own-child</td>\n",
              "      <td>White</td>\n",
              "      <td>Female</td>\n",
              "      <td>0</td>\n",
              "      <td>0</td>\n",
              "      <td>30</td>\n",
              "      <td>United-States</td>\n",
              "      <td>&lt;=50K</td>\n",
              "    </tr>\n",
              "    <tr>\n",
              "      <th>13</th>\n",
              "      <td>32</td>\n",
              "      <td>Private</td>\n",
              "      <td>205019</td>\n",
              "      <td>Assoc-acdm</td>\n",
              "      <td>12</td>\n",
              "      <td>Never-married</td>\n",
              "      <td>Sales</td>\n",
              "      <td>Not-in-family</td>\n",
              "      <td>Black</td>\n",
              "      <td>Male</td>\n",
              "      <td>0</td>\n",
              "      <td>0</td>\n",
              "      <td>50</td>\n",
              "      <td>United-States</td>\n",
              "      <td>&lt;=50K</td>\n",
              "    </tr>\n",
              "    <tr>\n",
              "      <th>14</th>\n",
              "      <td>40</td>\n",
              "      <td>Private</td>\n",
              "      <td>121772</td>\n",
              "      <td>Assoc-voc</td>\n",
              "      <td>11</td>\n",
              "      <td>Married-civ-spouse</td>\n",
              "      <td>Craft-repair</td>\n",
              "      <td>Husband</td>\n",
              "      <td>Asian-Pac-Islander</td>\n",
              "      <td>Male</td>\n",
              "      <td>0</td>\n",
              "      <td>0</td>\n",
              "      <td>40</td>\n",
              "      <td>?</td>\n",
              "      <td>&gt;50K</td>\n",
              "    </tr>\n",
              "    <tr>\n",
              "      <th>15</th>\n",
              "      <td>34</td>\n",
              "      <td>Private</td>\n",
              "      <td>245487</td>\n",
              "      <td>7th-8th</td>\n",
              "      <td>4</td>\n",
              "      <td>Married-civ-spouse</td>\n",
              "      <td>Transport-moving</td>\n",
              "      <td>Husband</td>\n",
              "      <td>Amer-Indian-Eskimo</td>\n",
              "      <td>Male</td>\n",
              "      <td>0</td>\n",
              "      <td>0</td>\n",
              "      <td>45</td>\n",
              "      <td>Mexico</td>\n",
              "      <td>&lt;=50K</td>\n",
              "    </tr>\n",
              "    <tr>\n",
              "      <th>16</th>\n",
              "      <td>25</td>\n",
              "      <td>Self-emp-not-inc</td>\n",
              "      <td>176756</td>\n",
              "      <td>HS-grad</td>\n",
              "      <td>9</td>\n",
              "      <td>Never-married</td>\n",
              "      <td>Farming-fishing</td>\n",
              "      <td>Own-child</td>\n",
              "      <td>White</td>\n",
              "      <td>Male</td>\n",
              "      <td>0</td>\n",
              "      <td>0</td>\n",
              "      <td>35</td>\n",
              "      <td>United-States</td>\n",
              "      <td>&lt;=50K</td>\n",
              "    </tr>\n",
              "    <tr>\n",
              "      <th>17</th>\n",
              "      <td>32</td>\n",
              "      <td>Private</td>\n",
              "      <td>186824</td>\n",
              "      <td>HS-grad</td>\n",
              "      <td>9</td>\n",
              "      <td>Never-married</td>\n",
              "      <td>Machine-op-inspct</td>\n",
              "      <td>Unmarried</td>\n",
              "      <td>White</td>\n",
              "      <td>Male</td>\n",
              "      <td>0</td>\n",
              "      <td>0</td>\n",
              "      <td>40</td>\n",
              "      <td>United-States</td>\n",
              "      <td>&lt;=50K</td>\n",
              "    </tr>\n",
              "    <tr>\n",
              "      <th>18</th>\n",
              "      <td>38</td>\n",
              "      <td>Private</td>\n",
              "      <td>28887</td>\n",
              "      <td>11th</td>\n",
              "      <td>7</td>\n",
              "      <td>Married-civ-spouse</td>\n",
              "      <td>Sales</td>\n",
              "      <td>Husband</td>\n",
              "      <td>White</td>\n",
              "      <td>Male</td>\n",
              "      <td>0</td>\n",
              "      <td>0</td>\n",
              "      <td>50</td>\n",
              "      <td>United-States</td>\n",
              "      <td>&lt;=50K</td>\n",
              "    </tr>\n",
              "    <tr>\n",
              "      <th>19</th>\n",
              "      <td>43</td>\n",
              "      <td>Self-emp-not-inc</td>\n",
              "      <td>292175</td>\n",
              "      <td>Masters</td>\n",
              "      <td>14</td>\n",
              "      <td>Divorced</td>\n",
              "      <td>Exec-managerial</td>\n",
              "      <td>Unmarried</td>\n",
              "      <td>White</td>\n",
              "      <td>Female</td>\n",
              "      <td>0</td>\n",
              "      <td>0</td>\n",
              "      <td>45</td>\n",
              "      <td>United-States</td>\n",
              "      <td>&gt;50K</td>\n",
              "    </tr>\n",
              "  </tbody>\n",
              "</table>\n",
              "</div>"
            ],
            "text/plain": [
              "    age          workclass  fnlwgt      education  education-num  \\\n",
              "0    39          State-gov   77516      Bachelors             13   \n",
              "1    50   Self-emp-not-inc   83311      Bachelors             13   \n",
              "2    38            Private  215646        HS-grad              9   \n",
              "3    53            Private  234721           11th              7   \n",
              "4    28            Private  338409      Bachelors             13   \n",
              "5    37            Private  284582        Masters             14   \n",
              "6    49            Private  160187            9th              5   \n",
              "7    52   Self-emp-not-inc  209642        HS-grad              9   \n",
              "8    31            Private   45781        Masters             14   \n",
              "9    42            Private  159449      Bachelors             13   \n",
              "10   37            Private  280464   Some-college             10   \n",
              "11   30          State-gov  141297      Bachelors             13   \n",
              "12   23            Private  122272      Bachelors             13   \n",
              "13   32            Private  205019     Assoc-acdm             12   \n",
              "14   40            Private  121772      Assoc-voc             11   \n",
              "15   34            Private  245487        7th-8th              4   \n",
              "16   25   Self-emp-not-inc  176756        HS-grad              9   \n",
              "17   32            Private  186824        HS-grad              9   \n",
              "18   38            Private   28887           11th              7   \n",
              "19   43   Self-emp-not-inc  292175        Masters             14   \n",
              "\n",
              "            marital-status          occupation    relationship  \\\n",
              "0            Never-married        Adm-clerical   Not-in-family   \n",
              "1       Married-civ-spouse     Exec-managerial         Husband   \n",
              "2                 Divorced   Handlers-cleaners   Not-in-family   \n",
              "3       Married-civ-spouse   Handlers-cleaners         Husband   \n",
              "4       Married-civ-spouse      Prof-specialty            Wife   \n",
              "5       Married-civ-spouse     Exec-managerial            Wife   \n",
              "6    Married-spouse-absent       Other-service   Not-in-family   \n",
              "7       Married-civ-spouse     Exec-managerial         Husband   \n",
              "8            Never-married      Prof-specialty   Not-in-family   \n",
              "9       Married-civ-spouse     Exec-managerial         Husband   \n",
              "10      Married-civ-spouse     Exec-managerial         Husband   \n",
              "11      Married-civ-spouse      Prof-specialty         Husband   \n",
              "12           Never-married        Adm-clerical       Own-child   \n",
              "13           Never-married               Sales   Not-in-family   \n",
              "14      Married-civ-spouse        Craft-repair         Husband   \n",
              "15      Married-civ-spouse    Transport-moving         Husband   \n",
              "16           Never-married     Farming-fishing       Own-child   \n",
              "17           Never-married   Machine-op-inspct       Unmarried   \n",
              "18      Married-civ-spouse               Sales         Husband   \n",
              "19                Divorced     Exec-managerial       Unmarried   \n",
              "\n",
              "                   race      sex  capital-gain  capital-loss  hours-per-week  \\\n",
              "0                 White     Male          2174             0              40   \n",
              "1                 White     Male             0             0              13   \n",
              "2                 White     Male             0             0              40   \n",
              "3                 Black     Male             0             0              40   \n",
              "4                 Black   Female             0             0              40   \n",
              "5                 White   Female             0             0              40   \n",
              "6                 Black   Female             0             0              16   \n",
              "7                 White     Male             0             0              45   \n",
              "8                 White   Female         14084             0              50   \n",
              "9                 White     Male          5178             0              40   \n",
              "10                Black     Male             0             0              80   \n",
              "11   Asian-Pac-Islander     Male             0             0              40   \n",
              "12                White   Female             0             0              30   \n",
              "13                Black     Male             0             0              50   \n",
              "14   Asian-Pac-Islander     Male             0             0              40   \n",
              "15   Amer-Indian-Eskimo     Male             0             0              45   \n",
              "16                White     Male             0             0              35   \n",
              "17                White     Male             0             0              40   \n",
              "18                White     Male             0             0              50   \n",
              "19                White   Female             0             0              45   \n",
              "\n",
              "    native-country  income  \n",
              "0    United-States   <=50K  \n",
              "1    United-States   <=50K  \n",
              "2    United-States   <=50K  \n",
              "3    United-States   <=50K  \n",
              "4             Cuba   <=50K  \n",
              "5    United-States   <=50K  \n",
              "6          Jamaica   <=50K  \n",
              "7    United-States    >50K  \n",
              "8    United-States    >50K  \n",
              "9    United-States    >50K  \n",
              "10   United-States    >50K  \n",
              "11           India    >50K  \n",
              "12   United-States   <=50K  \n",
              "13   United-States   <=50K  \n",
              "14               ?    >50K  \n",
              "15          Mexico   <=50K  \n",
              "16   United-States   <=50K  \n",
              "17   United-States   <=50K  \n",
              "18   United-States   <=50K  \n",
              "19   United-States    >50K  "
            ]
          },
          "metadata": {
            "tags": []
          },
          "execution_count": 105
        }
      ]
    },
    {
      "metadata": {
        "id": "95X540y-0wIj",
        "colab_type": "code",
        "colab": {
          "base_uri": "https://localhost:8080/",
          "height": 35
        },
        "outputId": "1d608b8f-f246-405d-a50f-263f8830cc90"
      },
      "cell_type": "code",
      "source": [
        "raw.shape \n",
        "#number of instances is lower than in the data specifications, \n",
        "#it might be because of other files in the data folder, I'll keep working with this file"
      ],
      "execution_count": 12,
      "outputs": [
        {
          "output_type": "execute_result",
          "data": {
            "text/plain": [
              "(32561, 15)"
            ]
          },
          "metadata": {
            "tags": []
          },
          "execution_count": 12
        }
      ]
    },
    {
      "metadata": {
        "id": "OZFXWHdm9fHS",
        "colab_type": "code",
        "colab": {}
      },
      "cell_type": "code",
      "source": [
        "raw.describe()"
      ],
      "execution_count": 0,
      "outputs": []
    },
    {
      "metadata": {
        "id": "gdQkX2yP1sgi",
        "colab_type": "code",
        "colab": {}
      },
      "cell_type": "code",
      "source": [
        "raw.isna().sum()"
      ],
      "execution_count": 0,
      "outputs": []
    },
    {
      "metadata": {
        "id": "gnywWHX61Xrt",
        "colab_type": "code",
        "colab": {}
      },
      "cell_type": "code",
      "source": [
        "for column in raw.columns:\n",
        "  print(column, raw[column].unique())\n",
        "#from the output below, the missing data is entered as '?'  "
      ],
      "execution_count": 0,
      "outputs": []
    },
    {
      "metadata": {
        "id": "okAz9Y_m13X9",
        "colab_type": "code",
        "colab": {}
      },
      "cell_type": "code",
      "source": [
        "raw.replace(' ?','unknown', inplace = True)"
      ],
      "execution_count": 0,
      "outputs": []
    },
    {
      "metadata": {
        "id": "7cR0bqh83q-D",
        "colab_type": "code",
        "colab": {
          "base_uri": "https://localhost:8080/",
          "height": 339
        },
        "outputId": "c6325d80-b5f0-4baa-f60e-3321e833be3f"
      },
      "cell_type": "code",
      "source": [
        "raw.head()"
      ],
      "execution_count": 38,
      "outputs": [
        {
          "output_type": "execute_result",
          "data": {
            "text/html": [
              "<div>\n",
              "<style scoped>\n",
              "    .dataframe tbody tr th:only-of-type {\n",
              "        vertical-align: middle;\n",
              "    }\n",
              "\n",
              "    .dataframe tbody tr th {\n",
              "        vertical-align: top;\n",
              "    }\n",
              "\n",
              "    .dataframe thead th {\n",
              "        text-align: right;\n",
              "    }\n",
              "</style>\n",
              "<table border=\"1\" class=\"dataframe\">\n",
              "  <thead>\n",
              "    <tr style=\"text-align: right;\">\n",
              "      <th></th>\n",
              "      <th>age</th>\n",
              "      <th>workclass</th>\n",
              "      <th>fnlwgt</th>\n",
              "      <th>education</th>\n",
              "      <th>education-num</th>\n",
              "      <th>marital-status</th>\n",
              "      <th>occupation</th>\n",
              "      <th>relationship</th>\n",
              "      <th>race</th>\n",
              "      <th>sex</th>\n",
              "      <th>capital-gain</th>\n",
              "      <th>capital-loss</th>\n",
              "      <th>hours-per-week</th>\n",
              "      <th>native-country</th>\n",
              "      <th>income</th>\n",
              "    </tr>\n",
              "  </thead>\n",
              "  <tbody>\n",
              "    <tr>\n",
              "      <th>0</th>\n",
              "      <td>39</td>\n",
              "      <td>State-gov</td>\n",
              "      <td>77516</td>\n",
              "      <td>Bachelors</td>\n",
              "      <td>13</td>\n",
              "      <td>Never-married</td>\n",
              "      <td>Adm-clerical</td>\n",
              "      <td>Not-in-family</td>\n",
              "      <td>White</td>\n",
              "      <td>Male</td>\n",
              "      <td>2174</td>\n",
              "      <td>0</td>\n",
              "      <td>40</td>\n",
              "      <td>United-States</td>\n",
              "      <td>&lt;=50K</td>\n",
              "    </tr>\n",
              "    <tr>\n",
              "      <th>1</th>\n",
              "      <td>50</td>\n",
              "      <td>Self-emp-not-inc</td>\n",
              "      <td>83311</td>\n",
              "      <td>Bachelors</td>\n",
              "      <td>13</td>\n",
              "      <td>Married-civ-spouse</td>\n",
              "      <td>Exec-managerial</td>\n",
              "      <td>Husband</td>\n",
              "      <td>White</td>\n",
              "      <td>Male</td>\n",
              "      <td>0</td>\n",
              "      <td>0</td>\n",
              "      <td>13</td>\n",
              "      <td>United-States</td>\n",
              "      <td>&lt;=50K</td>\n",
              "    </tr>\n",
              "    <tr>\n",
              "      <th>2</th>\n",
              "      <td>38</td>\n",
              "      <td>Private</td>\n",
              "      <td>215646</td>\n",
              "      <td>HS-grad</td>\n",
              "      <td>9</td>\n",
              "      <td>Divorced</td>\n",
              "      <td>Handlers-cleaners</td>\n",
              "      <td>Not-in-family</td>\n",
              "      <td>White</td>\n",
              "      <td>Male</td>\n",
              "      <td>0</td>\n",
              "      <td>0</td>\n",
              "      <td>40</td>\n",
              "      <td>United-States</td>\n",
              "      <td>&lt;=50K</td>\n",
              "    </tr>\n",
              "    <tr>\n",
              "      <th>3</th>\n",
              "      <td>53</td>\n",
              "      <td>Private</td>\n",
              "      <td>234721</td>\n",
              "      <td>11th</td>\n",
              "      <td>7</td>\n",
              "      <td>Married-civ-spouse</td>\n",
              "      <td>Handlers-cleaners</td>\n",
              "      <td>Husband</td>\n",
              "      <td>Black</td>\n",
              "      <td>Male</td>\n",
              "      <td>0</td>\n",
              "      <td>0</td>\n",
              "      <td>40</td>\n",
              "      <td>United-States</td>\n",
              "      <td>&lt;=50K</td>\n",
              "    </tr>\n",
              "    <tr>\n",
              "      <th>4</th>\n",
              "      <td>28</td>\n",
              "      <td>Private</td>\n",
              "      <td>338409</td>\n",
              "      <td>Bachelors</td>\n",
              "      <td>13</td>\n",
              "      <td>Married-civ-spouse</td>\n",
              "      <td>Prof-specialty</td>\n",
              "      <td>Wife</td>\n",
              "      <td>Black</td>\n",
              "      <td>Female</td>\n",
              "      <td>0</td>\n",
              "      <td>0</td>\n",
              "      <td>40</td>\n",
              "      <td>Cuba</td>\n",
              "      <td>&lt;=50K</td>\n",
              "    </tr>\n",
              "  </tbody>\n",
              "</table>\n",
              "</div>"
            ],
            "text/plain": [
              "   age          workclass  fnlwgt   education  education-num  \\\n",
              "0   39          State-gov   77516   Bachelors             13   \n",
              "1   50   Self-emp-not-inc   83311   Bachelors             13   \n",
              "2   38            Private  215646     HS-grad              9   \n",
              "3   53            Private  234721        11th              7   \n",
              "4   28            Private  338409   Bachelors             13   \n",
              "\n",
              "        marital-status          occupation    relationship    race      sex  \\\n",
              "0        Never-married        Adm-clerical   Not-in-family   White     Male   \n",
              "1   Married-civ-spouse     Exec-managerial         Husband   White     Male   \n",
              "2             Divorced   Handlers-cleaners   Not-in-family   White     Male   \n",
              "3   Married-civ-spouse   Handlers-cleaners         Husband   Black     Male   \n",
              "4   Married-civ-spouse      Prof-specialty            Wife   Black   Female   \n",
              "\n",
              "   capital-gain  capital-loss  hours-per-week  native-country  income  \n",
              "0          2174             0              40   United-States   <=50K  \n",
              "1             0             0              13   United-States   <=50K  \n",
              "2             0             0              40   United-States   <=50K  \n",
              "3             0             0              40   United-States   <=50K  \n",
              "4             0             0              40            Cuba   <=50K  "
            ]
          },
          "metadata": {
            "tags": []
          },
          "execution_count": 38
        }
      ]
    },
    {
      "metadata": {
        "id": "EY9s6NmQ2T9f",
        "colab_type": "code",
        "colab": {}
      },
      "cell_type": "code",
      "source": [
        "#check for '? again'\n",
        "for column in raw.columns:\n",
        "  print(column, raw[column].unique()) #the space in ' ?' was confusing, now it's solved!"
      ],
      "execution_count": 0,
      "outputs": []
    },
    {
      "metadata": {
        "id": "WVvgtemb4L-q",
        "colab_type": "code",
        "colab": {}
      },
      "cell_type": "code",
      "source": [
        "raw.info()"
      ],
      "execution_count": 0,
      "outputs": []
    },
    {
      "metadata": {
        "id": "5xYCPUsY43zg",
        "colab_type": "code",
        "colab": {}
      },
      "cell_type": "code",
      "source": [
        "#lets group all school education into one group\n",
        "raw['education']=np.where(raw['education'] ==' 7th-8th', 'Basic', raw['education'])\n",
        "raw['education']=np.where(raw['education'] ==' 9th', 'Basic', raw['education'])\n",
        "raw['education']=np.where(raw['education'] ==' 5th-6th', 'Basic', raw['education'])\n",
        "raw['education']=np.where(raw['education'] ==' 10th', 'Basic', raw['education'])\n",
        "raw['education']=np.where(raw['education'] ==' 1st-4th', 'Basic', raw['education'])\n",
        "raw['education']=np.where(raw['education'] ==' 12th', 'Basic', raw['education'])\n",
        "raw['education']=np.where(raw['education'] ==' 11th', 'Basic', raw['education'])"
      ],
      "execution_count": 0,
      "outputs": []
    },
    {
      "metadata": {
        "id": "rY_hLZiV52U2",
        "colab_type": "code",
        "colab": {
          "base_uri": "https://localhost:8080/",
          "height": 69
        },
        "outputId": "d73d0d0a-68b6-4ecf-b445-829d8e01a940"
      },
      "cell_type": "code",
      "source": [
        "raw.education.unique()"
      ],
      "execution_count": 46,
      "outputs": [
        {
          "output_type": "execute_result",
          "data": {
            "text/plain": [
              "array([' Bachelors', ' HS-grad', 'Basic', ' Masters', ' Some-college',\n",
              "       ' Assoc-acdm', ' Assoc-voc', ' Doctorate', ' Prof-school',\n",
              "       ' Preschool'], dtype=object)"
            ]
          },
          "metadata": {
            "tags": []
          },
          "execution_count": 46
        }
      ]
    },
    {
      "metadata": {
        "id": "XE0RdoKg6HTe",
        "colab_type": "code",
        "colab": {}
      },
      "cell_type": "code",
      "source": [
        "raw.info()"
      ],
      "execution_count": 0,
      "outputs": []
    },
    {
      "metadata": {
        "id": "tSlFz3kL7S26",
        "colab_type": "code",
        "colab": {}
      },
      "cell_type": "code",
      "source": [
        "#scale the numeric columns in data:\n",
        "def scale_num(df):\n",
        "  for col in df.columns:\n",
        "      if(df[col].dtype == 'int64'):\n",
        "          df[col]= scale(df[col])\n",
        "         \n",
        "  return df         \n",
        "\n",
        "raw = scale_num(raw)"
      ],
      "execution_count": 0,
      "outputs": []
    },
    {
      "metadata": {
        "id": "v62JP6Tm6X3R",
        "colab_type": "code",
        "colab": {}
      },
      "cell_type": "code",
      "source": [
        "#encode the target feature:\n",
        "raw.income.replace({' <=50K':0, ' >50K':1}, inplace=True)"
      ],
      "execution_count": 0,
      "outputs": []
    },
    {
      "metadata": {
        "id": "H-hF9sbI4WCk",
        "colab_type": "code",
        "colab": {}
      },
      "cell_type": "code",
      "source": [
        "#hot-encode the categorical features\n",
        "def encode_cat(df):\n",
        "  for col in df.columns:\n",
        "      if(df[col].dtype == 'object'):\n",
        "          df[col]= df[col].astype('category')\n",
        "          df[col] = df[col].cat.codes\n",
        "  return df         \n",
        "\n",
        "raw = encode_cat(raw)"
      ],
      "execution_count": 0,
      "outputs": []
    },
    {
      "metadata": {
        "id": "p9gcoK-z6_hQ",
        "colab_type": "code",
        "colab": {}
      },
      "cell_type": "code",
      "source": [
        "raw.info()"
      ],
      "execution_count": 0,
      "outputs": []
    },
    {
      "metadata": {
        "id": "ardzqUqe9LLc",
        "colab_type": "code",
        "colab": {}
      },
      "cell_type": "code",
      "source": [
        "#take a copy of data\n",
        "d = raw.copy()"
      ],
      "execution_count": 0,
      "outputs": []
    },
    {
      "metadata": {
        "id": "o51GuIqa9OTT",
        "colab_type": "code",
        "colab": {}
      },
      "cell_type": "code",
      "source": [
        "#data is ready!\n",
        "d.head()"
      ],
      "execution_count": 0,
      "outputs": []
    },
    {
      "metadata": {
        "id": "RT1LFnFO1lo6",
        "colab_type": "text"
      },
      "cell_type": "markdown",
      "source": [
        "## Part 2 - Fit and present a Logistic Regression\n",
        "\n",
        "Your data should now be in a state to fit a logistic regression. Use scikit-learn, define your `X` (independent variable) and `y`, and fit a model.\n",
        "\n",
        "Then, present results - display coefficients in as interpretible a way as you can (hint - scaling the numeric features will help, as it will at least make coefficients more comparable to each other). If you find it helpful for interpretation, you can also generate predictions for cases (like our 5 year old rich kid on the Titanic) or make visualizations - but the goal is your exploration to be able to answer the question, not any particular plot (i.e. don't worry about polishing it).\n",
        "\n",
        "It is *optional* to use `train_test_split` or validate your model more generally - that is not the core focus for this week. So, it is suggested you focus on fitting a model first, and if you have time at the end you can do further validation."
      ]
    },
    {
      "metadata": {
        "id": "s7fTRDXguD7N",
        "colab_type": "code",
        "colab": {}
      },
      "cell_type": "code",
      "source": [
        "# TODO - your work!\n",
        "\n",
        "#define target variable and features\n",
        "X = d.drop('income', axis=1)\n",
        "y = d['income']\n",
        "\n",
        "#split train and test data\n",
        "X_train, X_test, y_train, y_test = train_test_split(X, y, test_size = 0.2, random_state=42)\n",
        "\n",
        "\n",
        "#fit the logistic regression model\n",
        "log_reg = LogisticRegression(multi_class='auto',solver='lbfgs', max_iter=500).fit(X_train, y_train);\n"
      ],
      "execution_count": 0,
      "outputs": []
    },
    {
      "metadata": {
        "id": "t4jJAMj5_Av3",
        "colab_type": "code",
        "colab": {
          "base_uri": "https://localhost:8080/",
          "height": 52
        },
        "outputId": "075bebfe-a6f6-4529-87cc-c49973c4d9b7"
      },
      "cell_type": "code",
      "source": [
        "#print the model metrics:\n",
        "print(\"Multinomial Logistic regression Train Accuracy :\", metrics.accuracy_score(y_train, log_reg.predict(X_train)))\n",
        "print(\"Multinomial Logistic regression Test Accuracy :\", metrics.accuracy_score(y_test, log_reg.predict(X_test)))\n"
      ],
      "execution_count": 83,
      "outputs": [
        {
          "output_type": "stream",
          "text": [
            "Multinomial Logistic regression Train Accuracy : 0.8245162776412777\n",
            "Multinomial Logistic regression Test Accuracy : 0.826654383540611\n"
          ],
          "name": "stdout"
        }
      ]
    },
    {
      "metadata": {
        "id": "sEdx5wlPKeJD",
        "colab_type": "text"
      },
      "cell_type": "markdown",
      "source": [
        "the coefficient of determination $R^2$ of the prediction on the test data is  0.8245, which tells that the model fits the data fairly well!."
      ]
    },
    {
      "metadata": {
        "id": "QQJbH6WXAIQW",
        "colab_type": "code",
        "colab": {
          "base_uri": "https://localhost:8080/",
          "height": 104
        },
        "outputId": "a5d6c51d-2601-4fd8-cebc-f8251a481123"
      },
      "cell_type": "code",
      "source": [
        "# each estimated coefficient is the expected change in the log odds of being a reference [1] class \n",
        "# for a unit increase in the corresponding predictor variable \n",
        "# holding the other predictor variables constant at certain value.  \n",
        "\n",
        "log_reg.coef_"
      ],
      "execution_count": 85,
      "outputs": [
        {
          "output_type": "execute_result",
          "data": {
            "text/plain": [
              "array([[ 4.86977548e-01, -1.21020077e-01,  5.83329390e-02,\n",
              "         2.27603751e-02,  8.78776951e-01, -2.37063941e-01,\n",
              "        -2.28383474e-03, -1.12470517e-01,  1.25583956e-01,\n",
              "         9.46504544e-01,  2.30284727e+00,  2.64743809e-01,\n",
              "         3.66271312e-01,  2.15729734e-03]])"
            ]
          },
          "metadata": {
            "tags": []
          },
          "execution_count": 85
        }
      ]
    },
    {
      "metadata": {
        "id": "w-eFbzepDXJ5",
        "colab_type": "code",
        "colab": {
          "base_uri": "https://localhost:8080/",
          "height": 296
        },
        "outputId": "c51d4d49-49ba-4ab0-cb73-e9bc4af89d56"
      },
      "cell_type": "code",
      "source": [
        "results = list(zip(X.columns,log_reg.coef_[0]))\n",
        "key_factors = sorted(results, key=lambda x: x[1], reverse=True)\n",
        "print('For a unit increase in a predictor variable the expected change in the log' \n",
        "      ' odds of gaining income more than 50k is respectively')\n",
        "for factor in key_factors:\n",
        "  print('{}  {}'.format(factor[0], factor[1]))\n",
        " "
      ],
      "execution_count": 102,
      "outputs": [
        {
          "output_type": "stream",
          "text": [
            "For a unit increase in a predictor variable the expected change in the log odds of gaining income more than 50k is respectively\n",
            "capital-gain  2.302847273929391\n",
            "sex  0.9465045439099444\n",
            "education-num  0.8787769512729501\n",
            "age  0.48697754764470896\n",
            "hours-per-week  0.3662713124214009\n",
            "capital-loss  0.264743809376026\n",
            "race  0.12558395586934396\n",
            "fnlwgt  0.0583329389958477\n",
            "education  0.022760375107647984\n",
            "native-country  0.002157297338280324\n",
            "occupation  -0.002283834742294827\n",
            "relationship  -0.11247051667774254\n",
            "workclass  -0.12102007748548396\n",
            "marital-status  -0.23706394117115773\n"
          ],
          "name": "stdout"
        }
      ]
    },
    {
      "metadata": {
        "id": "ZpLL9dgxPf9u",
        "colab_type": "code",
        "colab": {
          "base_uri": "https://localhost:8080/",
          "height": 596
        },
        "outputId": "53919f5d-0e96-4411-9063-877323baf822"
      },
      "cell_type": "code",
      "source": [
        "coefs = pd.Series(log_reg.coef_[0], index=X_train.columns)\n",
        "coefs = coefs.sort_values()\n",
        "plt.subplot(1,1,1)\n",
        "coefs.plot(kind=\"bar\")\n",
        "plt.show()\n",
        "print(coefs.sort_values(ascending = False))"
      ],
      "execution_count": 137,
      "outputs": [
        {
          "output_type": "display_data",
          "data": {
            "image/png": "[encoded data removed]",
            "text/plain": [
              "<Figure size 432x288 with 1 Axes>"
            ]
          },
          "metadata": {
            "tags": []
          }
        },
        {
          "output_type": "stream",
          "text": [
            "capital-gain      2.302847\n",
            "sex               0.946505\n",
            "education-num     0.878777\n",
            "age               0.486978\n",
            "hours-per-week    0.366271\n",
            "capital-loss      0.264744\n",
            "race              0.125584\n",
            "fnlwgt            0.058333\n",
            "education         0.022760\n",
            "native-country    0.002157\n",
            "occupation       -0.002284\n",
            "relationship     -0.112471\n",
            "workclass        -0.121020\n",
            "marital-status   -0.237064\n",
            "dtype: float64\n"
          ],
          "name": "stdout"
        }
      ]
    },
    {
      "metadata": {
        "id": "G3mMu_NCPoFU",
        "colab_type": "text"
      },
      "cell_type": "markdown",
      "source": [
        "From the output above, it's clear that the main three factors predicting gaining income more than 50k a year are capital-gain, gender,  and length of education received"
      ]
    },
    {
      "metadata": {
        "id": "2Uae26fgHNJS",
        "colab_type": "code",
        "colab": {
          "base_uri": "https://localhost:8080/",
          "height": 133
        },
        "outputId": "fbdfb506-8016-4cd2-e1ed-e6c3e2f6391b"
      },
      "cell_type": "code",
      "source": [
        "X_test.iloc[:1, :]"
      ],
      "execution_count": 130,
      "outputs": [
        {
          "output_type": "execute_result",
          "data": {
            "text/html": [
              "<div>\n",
              "<style scoped>\n",
              "    .dataframe tbody tr th:only-of-type {\n",
              "        vertical-align: middle;\n",
              "    }\n",
              "\n",
              "    .dataframe tbody tr th {\n",
              "        vertical-align: top;\n",
              "    }\n",
              "\n",
              "    .dataframe thead th {\n",
              "        text-align: right;\n",
              "    }\n",
              "</style>\n",
              "<table border=\"1\" class=\"dataframe\">\n",
              "  <thead>\n",
              "    <tr style=\"text-align: right;\">\n",
              "      <th></th>\n",
              "      <th>age</th>\n",
              "      <th>workclass</th>\n",
              "      <th>fnlwgt</th>\n",
              "      <th>education</th>\n",
              "      <th>education-num</th>\n",
              "      <th>marital-status</th>\n",
              "      <th>occupation</th>\n",
              "      <th>relationship</th>\n",
              "      <th>race</th>\n",
              "      <th>sex</th>\n",
              "      <th>capital-gain</th>\n",
              "      <th>capital-loss</th>\n",
              "      <th>hours-per-week</th>\n",
              "      <th>native-country</th>\n",
              "    </tr>\n",
              "  </thead>\n",
              "  <tbody>\n",
              "    <tr>\n",
              "      <th>14160</th>\n",
              "      <td>-0.84908</td>\n",
              "      <td>3</td>\n",
              "      <td>-0.280444</td>\n",
              "      <td>8</td>\n",
              "      <td>-0.03136</td>\n",
              "      <td>0</td>\n",
              "      <td>0</td>\n",
              "      <td>1</td>\n",
              "      <td>4</td>\n",
              "      <td>0</td>\n",
              "      <td>-0.14592</td>\n",
              "      <td>-0.21666</td>\n",
              "      <td>-0.197409</td>\n",
              "      <td>38</td>\n",
              "    </tr>\n",
              "  </tbody>\n",
              "</table>\n",
              "</div>"
            ],
            "text/plain": [
              "           age  workclass    fnlwgt  education  education-num  marital-status  \\\n",
              "14160 -0.84908          3 -0.280444          8       -0.03136               0   \n",
              "\n",
              "       occupation  relationship  race  sex  capital-gain  capital-loss  \\\n",
              "14160           0             1     4    0      -0.14592      -0.21666   \n",
              "\n",
              "       hours-per-week  native-country  \n",
              "14160       -0.197409              38  "
            ]
          },
          "metadata": {
            "tags": []
          },
          "execution_count": 130
        }
      ]
    },
    {
      "metadata": {
        "id": "nJ35_0qRFugd",
        "colab_type": "code",
        "colab": {
          "base_uri": "https://localhost:8080/",
          "height": 35
        },
        "outputId": "09d88689-1d5e-4bb8-d482-c5316e193ffc"
      },
      "cell_type": "code",
      "source": [
        "#let's see the results on example of a person from the observations,\n",
        "#output lists of probabilities of being each class for an example\n",
        "log_reg.predict_proba(X_test.iloc[:1, :]) "
      ],
      "execution_count": 131,
      "outputs": [
        {
          "output_type": "execute_result",
          "data": {
            "text/plain": [
              "array([[0.90250354, 0.09749646]])"
            ]
          },
          "metadata": {
            "tags": []
          },
          "execution_count": 131
        }
      ]
    },
    {
      "metadata": {
        "id": "mp-qWr6zIUq5",
        "colab_type": "text"
      },
      "cell_type": "markdown",
      "source": [
        "the results above show for the observation number 14160, the likelihood of gaining less than 50k a year are higher, 0.9025"
      ]
    },
    {
      "metadata": {
        "id": "-AQJFjSmIkQj",
        "colab_type": "code",
        "colab": {
          "base_uri": "https://localhost:8080/",
          "height": 294
        },
        "outputId": "2fedb91d-3b45-4fd6-f1a7-b3c3c1fe735a"
      },
      "cell_type": "code",
      "source": [
        "#check the results on the raw data\n",
        "raw.iloc[14161, :]"
      ],
      "execution_count": 132,
      "outputs": [
        {
          "output_type": "execute_result",
          "data": {
            "text/plain": [
              "age                           38\n",
              "workclass                Private\n",
              "fnlwgt                    680390\n",
              "education                HS-grad\n",
              "education-num                  9\n",
              "marital-status          Divorced\n",
              "occupation          Adm-clerical\n",
              "relationship           Unmarried\n",
              "race                       White\n",
              "sex                       Female\n",
              "capital-gain                   0\n",
              "capital-loss                   0\n",
              "hours-per-week                20\n",
              "native-country     United-States\n",
              "income                     <=50K\n",
              "Name: 14161, dtype: object"
            ]
          },
          "metadata": {
            "tags": []
          },
          "execution_count": 132
        }
      ]
    },
    {
      "metadata": {
        "id": "kiHt8wkzKGbE",
        "colab_type": "text"
      },
      "cell_type": "markdown",
      "source": [
        "the raw data confirmed the results yilded by the model"
      ]
    },
    {
      "metadata": {
        "id": "BkIa-Sa21qdC",
        "colab_type": "text"
      },
      "cell_type": "markdown",
      "source": [
        "## Part 3 - Analysis, Interpretation, and Questions\n",
        "\n",
        "### Based on your above model, answer the following questions\n",
        "\n",
        "1. What are 3 features positively correlated with income above 50k?\n",
        "2. What are 3 features negatively correlated with income above 50k?\n",
        "3. Overall, how well does the model explain the data and what insights do you derive from it?\n",
        "\n",
        "*These answers count* - that is, make sure to spend some time on them, connecting to your analysis above. There is no single right answer, but as long as you support your reasoning with evidence you are on the right track.\n",
        "\n",
        "Note - scikit-learn logistic regression does *not* automatically perform a hypothesis test on coefficients. That is OK - if you scale the data they are more comparable in weight.\n",
        "\n",
        "### Match the following situation descriptions with the model most appropriate to addressing them\n",
        "\n",
        "In addition to logistic regression, a number of other approaches were covered this week. Pair them with the situations they are most appropriate for, and briefly explain why.\n",
        "\n",
        "Situations:\n",
        "1. You are given data on academic performance of primary school students, and asked to fit a model to help predict \"at-risk\" students who are likely to receive the bottom tier of grades.\n",
        "2. You are studying tech companies and their patterns in releasing new products, and would like to be able to model and predict when a new product is likely to be launched.\n",
        "3. You are working on modeling expected plant size and yield with a laboratory that is able to capture fantastically detailed physical data about plants, but only of a few dozen plants at a time.\n",
        "\n",
        "Approaches:\n",
        "1. Ridge Regression\n",
        "2. Quantile Regression\n",
        "3. Survival Analysis"
      ]
    },
    {
      "metadata": {
        "id": "Yjj0sseiuHib",
        "colab_type": "text"
      },
      "cell_type": "markdown",
      "source": [
        "**TODO - your answers!**"
      ]
    },
    {
      "metadata": {
        "id": "OjFepQ4TLD8y",
        "colab_type": "text"
      },
      "cell_type": "markdown",
      "source": [
        "1.\n",
        "From the output above, it's clear that the main three factors predicting gaining income more than 50k a year are:\n",
        "- capital-gain with a coefficient of 2.30284, \n",
        "- gender with a coefficient of 0.9465,  and \n",
        "- education-num, length of education received, with a coefficient of 0.8787\n",
        "\n",
        "2.\n",
        "Three features negatively correlated with income above 50k are:\n",
        "- marital-status, with coefficient of -0.23\n",
        "- workclass, with coefficient of -0.12\n",
        "- relationship, with coefficient of -0.11\n",
        "\n",
        "3.\n",
        "Overall, the model fits data fairly well, with a good predictive power, which tells that a male, who received a lengthy education (which implies higher degree), and has capital gains would more likely have income more than 50k a year. Also, being single, divorsed, in a low-paid workclass (like, priv-house-serv, or Other-service ), raising child being a single parent,  being very young, and having only a preschool education significantly decreases the likelihood of gaining income more than 50k a year.\n",
        "\n"
      ]
    },
    {
      "metadata": {
        "id": "8CQ8jYN5R4K-",
        "colab_type": "text"
      },
      "cell_type": "markdown",
      "source": [
        "\n",
        "1. _You are given data on academic performance of primary school students, and asked to fit a model to help predict \"at-risk\" students who are likely to receive the bottom tier of grades._\n",
        "For this situation, I would use a Quantile Regression model, since it can target  students specifically at the bottom tier of grades through a given quantile (0-100%), instead of through the mean values. In this case, a quantile for the bottom tier would be established, like 5%. And then, using Quantile Regression we would find the line of best fit. Meaning, conditional on x, only 10% of true values would be below the predicted value. \n",
        ".\n",
        "\n",
        "2. _You are studying tech companies and their patterns in releasing new products, and would like to be able to model and predict when a new product is likely to be launched._\n",
        "For this situation, I would use Survival Analyses, since it is a good fit to model anything with a finite duration, here the 'death' event in survival analysis would be launching a new product, and duration is time when it's launched. Survival analysis allows us to fit a model when many of the data points are censored. Like, sometimes we are not able to observe \"death\" events, we only now information like \"...it's been X months since Apple has released the last iphone.\". Survival analysis allows us to correct for this censorship in data.\n",
        "\n",
        "3. _You are working on modeling expected plant size and yield with a laboratory that is able to capture fantastically detailed physical data about plants, but only of a few dozen plants at a time._ The situation of overparametrization indicates that there is no unique solution. In this situation, normal regression would yield overfitting results. Ridge regression would be a good fit for this situation. This bias introduced by ridge regression mitigates overfitting, and allows the model to generalize better from few  observations in data. \n",
        "\n"
      ]
    }
  ]
}