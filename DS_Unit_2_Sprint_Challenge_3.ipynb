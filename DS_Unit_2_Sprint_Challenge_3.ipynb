{
  "nbformat": 4,
  "nbformat_minor": 0,
  "metadata": {
    "colab": {
      "name": "DS_Unit_2_Sprint_Challenge_3.ipynb",
      "version": "0.3.2",
      "provenance": [],
      "include_colab_link": true
    },
    "kernelspec": {
      "name": "python3",
      "display_name": "Python 3"
    }
  },
  "cells": [
    {
      "cell_type": "markdown",
      "metadata": {
        "id": "view-in-github",
        "colab_type": "text"
      },
      "source": [
        "<a href=\"https://colab.research.google.com/github/johnpharmd/DS-Unit-2-Sprint-3-Advanced-Regression/blob/master/DS_Unit_2_Sprint_Challenge_3.ipynb\" target=\"_parent\"><img src=\"https://colab.research.google.com/assets/colab-badge.svg\" alt=\"Open In Colab\"/></a>"
      ]
    },
    {
      "metadata": {
        "id": "ayDccRP01GJD",
        "colab_type": "text"
      },
      "cell_type": "markdown",
      "source": [
        "# Data Science Unit 2 Sprint Challenge 3\n",
        "\n",
        "## Logistic Regression and Beyond\n",
        "\n",
        "In this sprint challenge you will fit a logistic regression modeling the probability of an adult having an income above 50K. The dataset is available at UCI:\n",
        "\n",
        "https://archive.ics.uci.edu/ml/datasets/adult\n",
        "\n",
        "Your goal is to:\n",
        "\n",
        "1. Load, validate, and clean/prepare the data.\n",
        "2. Fit a logistic regression model\n",
        "3. Answer questions based on the results (as well as a few extra questions about the other modules)\n",
        "\n",
        "Don't let the perfect be the enemy of the good! Manage your time, and make sure to get to all parts. If you get stuck wrestling with the data, simplify it (if necessary, drop features or rows) so you're able to move on. If you have time at the end, you can go back and try to fix/improve.\n",
        "\n",
        "### Hints\n",
        "\n",
        "It has a variety of features - some are continuous, but many are categorical. You may find [pandas.get_dummies](https://pandas.pydata.org/pandas-docs/stable/generated/pandas.get_dummies.html) (a method to one-hot encode) helpful!\n",
        "\n",
        "The features have dramatically different ranges. You may find [sklearn.preprocessing.minmax_scale](https://scikit-learn.org/stable/modules/generated/sklearn.preprocessing.minmax_scale.html#sklearn.preprocessing.minmax_scale) helpful!"
      ]
    },
    {
      "metadata": {
        "id": "U22R1Ud51hxb",
        "colab_type": "text"
      },
      "cell_type": "markdown",
      "source": [
        "## Part 1 - Load, validate, and prepare data\n",
        "\n",
        "The data is available at: https://archive.ics.uci.edu/ml/datasets/adult\n",
        "\n",
        "Load it, name the columns, and make sure that you've loaded the data successfully. Note that missing values for categorical variables can essentially be considered another category (\"unknown\"), and may not need to be dropped.\n",
        "\n",
        "You should also prepare the data for logistic regression - one-hot encode categorical features as appropriate."
      ]
    },
    {
      "metadata": {
        "id": "SeOByIkht-NS",
        "colab_type": "code",
        "colab": {}
      },
      "cell_type": "code",
      "source": [
        "# import statements\n",
        "import numpy as np\n",
        "import pandas as pd\n",
        "\n",
        "from sklearn.model_selection import train_test_split\n",
        "from sklearn.linear_model import LogisticRegression\n",
        "from sklearn.preprocessing import minmax_scale"
      ],
      "execution_count": 0,
      "outputs": []
    },
    {
      "metadata": {
        "id": "_vPY-GqXxhG2",
        "colab_type": "code",
        "colab": {
          "base_uri": "https://localhost:8080/",
          "height": 225
        },
        "outputId": "c6963535-1ede-4f65-a736-55f77b272f45"
      },
      "cell_type": "code",
      "source": [
        "# load data\n",
        "df = pd.read_csv('https://archive.ics.uci.edu/ml/machine-learning-databases/adult/adult.data', header=None)\n",
        "df1 = df.copy()  # make working copy called 'df1'\n",
        "print(df.shape)\n",
        "df.head()"
      ],
      "execution_count": 5,
      "outputs": [
        {
          "output_type": "stream",
          "text": [
            "(32561, 15)\n"
          ],
          "name": "stdout"
        },
        {
          "output_type": "execute_result",
          "data": {
            "text/html": [
              "<div>\n",
              "<style scoped>\n",
              "    .dataframe tbody tr th:only-of-type {\n",
              "        vertical-align: middle;\n",
              "    }\n",
              "\n",
              "    .dataframe tbody tr th {\n",
              "        vertical-align: top;\n",
              "    }\n",
              "\n",
              "    .dataframe thead th {\n",
              "        text-align: right;\n",
              "    }\n",
              "</style>\n",
              "<table border=\"1\" class=\"dataframe\">\n",
              "  <thead>\n",
              "    <tr style=\"text-align: right;\">\n",
              "      <th></th>\n",
              "      <th>0</th>\n",
              "      <th>1</th>\n",
              "      <th>2</th>\n",
              "      <th>3</th>\n",
              "      <th>4</th>\n",
              "      <th>5</th>\n",
              "      <th>6</th>\n",
              "      <th>7</th>\n",
              "      <th>8</th>\n",
              "      <th>9</th>\n",
              "      <th>10</th>\n",
              "      <th>11</th>\n",
              "      <th>12</th>\n",
              "      <th>13</th>\n",
              "      <th>14</th>\n",
              "    </tr>\n",
              "  </thead>\n",
              "  <tbody>\n",
              "    <tr>\n",
              "      <th>0</th>\n",
              "      <td>39</td>\n",
              "      <td>State-gov</td>\n",
              "      <td>77516</td>\n",
              "      <td>Bachelors</td>\n",
              "      <td>13</td>\n",
              "      <td>Never-married</td>\n",
              "      <td>Adm-clerical</td>\n",
              "      <td>Not-in-family</td>\n",
              "      <td>White</td>\n",
              "      <td>Male</td>\n",
              "      <td>2174</td>\n",
              "      <td>0</td>\n",
              "      <td>40</td>\n",
              "      <td>United-States</td>\n",
              "      <td>&lt;=50K</td>\n",
              "    </tr>\n",
              "    <tr>\n",
              "      <th>1</th>\n",
              "      <td>50</td>\n",
              "      <td>Self-emp-not-inc</td>\n",
              "      <td>83311</td>\n",
              "      <td>Bachelors</td>\n",
              "      <td>13</td>\n",
              "      <td>Married-civ-spouse</td>\n",
              "      <td>Exec-managerial</td>\n",
              "      <td>Husband</td>\n",
              "      <td>White</td>\n",
              "      <td>Male</td>\n",
              "      <td>0</td>\n",
              "      <td>0</td>\n",
              "      <td>13</td>\n",
              "      <td>United-States</td>\n",
              "      <td>&lt;=50K</td>\n",
              "    </tr>\n",
              "    <tr>\n",
              "      <th>2</th>\n",
              "      <td>38</td>\n",
              "      <td>Private</td>\n",
              "      <td>215646</td>\n",
              "      <td>HS-grad</td>\n",
              "      <td>9</td>\n",
              "      <td>Divorced</td>\n",
              "      <td>Handlers-cleaners</td>\n",
              "      <td>Not-in-family</td>\n",
              "      <td>White</td>\n",
              "      <td>Male</td>\n",
              "      <td>0</td>\n",
              "      <td>0</td>\n",
              "      <td>40</td>\n",
              "      <td>United-States</td>\n",
              "      <td>&lt;=50K</td>\n",
              "    </tr>\n",
              "    <tr>\n",
              "      <th>3</th>\n",
              "      <td>53</td>\n",
              "      <td>Private</td>\n",
              "      <td>234721</td>\n",
              "      <td>11th</td>\n",
              "      <td>7</td>\n",
              "      <td>Married-civ-spouse</td>\n",
              "      <td>Handlers-cleaners</td>\n",
              "      <td>Husband</td>\n",
              "      <td>Black</td>\n",
              "      <td>Male</td>\n",
              "      <td>0</td>\n",
              "      <td>0</td>\n",
              "      <td>40</td>\n",
              "      <td>United-States</td>\n",
              "      <td>&lt;=50K</td>\n",
              "    </tr>\n",
              "    <tr>\n",
              "      <th>4</th>\n",
              "      <td>28</td>\n",
              "      <td>Private</td>\n",
              "      <td>338409</td>\n",
              "      <td>Bachelors</td>\n",
              "      <td>13</td>\n",
              "      <td>Married-civ-spouse</td>\n",
              "      <td>Prof-specialty</td>\n",
              "      <td>Wife</td>\n",
              "      <td>Black</td>\n",
              "      <td>Female</td>\n",
              "      <td>0</td>\n",
              "      <td>0</td>\n",
              "      <td>40</td>\n",
              "      <td>Cuba</td>\n",
              "      <td>&lt;=50K</td>\n",
              "    </tr>\n",
              "  </tbody>\n",
              "</table>\n",
              "</div>"
            ],
            "text/plain": [
              "   0                  1       2           3   4                    5   \\\n",
              "0  39          State-gov   77516   Bachelors  13        Never-married   \n",
              "1  50   Self-emp-not-inc   83311   Bachelors  13   Married-civ-spouse   \n",
              "2  38            Private  215646     HS-grad   9             Divorced   \n",
              "3  53            Private  234721        11th   7   Married-civ-spouse   \n",
              "4  28            Private  338409   Bachelors  13   Married-civ-spouse   \n",
              "\n",
              "                   6               7       8        9     10  11  12  \\\n",
              "0        Adm-clerical   Not-in-family   White     Male  2174   0  40   \n",
              "1     Exec-managerial         Husband   White     Male     0   0  13   \n",
              "2   Handlers-cleaners   Not-in-family   White     Male     0   0  40   \n",
              "3   Handlers-cleaners         Husband   Black     Male     0   0  40   \n",
              "4      Prof-specialty            Wife   Black   Female     0   0  40   \n",
              "\n",
              "               13      14  \n",
              "0   United-States   <=50K  \n",
              "1   United-States   <=50K  \n",
              "2   United-States   <=50K  \n",
              "3   United-States   <=50K  \n",
              "4            Cuba   <=50K  "
            ]
          },
          "metadata": {
            "tags": []
          },
          "execution_count": 5
        }
      ]
    },
    {
      "metadata": {
        "id": "NlujxbW8yjsF",
        "colab_type": "code",
        "colab": {
          "base_uri": "https://localhost:8080/",
          "height": 36
        },
        "outputId": "1fd0aca3-de1d-4ee9-e5cc-a6059f19ae94"
      },
      "cell_type": "code",
      "source": [
        "# now look at columns, check header, look at row 0, look for NaN's\n",
        "# WORKING FROM df1 now, rename columns\n",
        "df1.columns = ['State_Terr', 'Employer_type', 'Continuous_1', 'Edu_level',\n",
        "               'Continuous_2', 'Marriage_status', 'Industry', 'Household_role',\n",
        "               'Ethnicity', 'Sex', 'Continuous_3', 'Unknown', 'Continuous_4',\n",
        "               'Place_of_birth', 'Annual_income']\n",
        "# print(df1.head())\n",
        "df1.isna().sum().sum()  # AARON, THANK YOU FOR NO NaN's; too kind!"
      ],
      "execution_count": 14,
      "outputs": [
        {
          "output_type": "execute_result",
          "data": {
            "text/plain": [
              "0"
            ]
          },
          "metadata": {
            "tags": []
          },
          "execution_count": 14
        }
      ]
    },
    {
      "metadata": {
        "id": "yRjTtFZq4Hgk",
        "colab_type": "code",
        "colab": {}
      },
      "cell_type": "code",
      "source": [
        "# add seaborn import, then look more closely at columns - BIG SHOUTS to Chris Albon, also!\n",
        "import seaborn as sns"
      ],
      "execution_count": 0,
      "outputs": []
    },
    {
      "metadata": {
        "id": "HRNdhU0C4bGu",
        "colab_type": "code",
        "colab": {
          "base_uri": "https://localhost:8080/",
          "height": 111
        },
        "outputId": "d6da1c3a-9710-4ed3-b895-ba6d290355c1"
      },
      "cell_type": "code",
      "source": [
        "df1.State_Terr.unique()"
      ],
      "execution_count": 15,
      "outputs": [
        {
          "output_type": "execute_result",
          "data": {
            "text/plain": [
              "array([39, 50, 38, 53, 28, 37, 49, 52, 31, 42, 30, 23, 32, 40, 34, 25, 43,\n",
              "       54, 35, 59, 56, 19, 20, 45, 22, 48, 21, 24, 57, 44, 41, 29, 18, 47,\n",
              "       46, 36, 79, 27, 67, 33, 76, 17, 55, 61, 70, 64, 71, 68, 66, 51, 58,\n",
              "       26, 60, 90, 75, 65, 77, 62, 63, 80, 72, 74, 69, 73, 81, 78, 88, 82,\n",
              "       83, 84, 85, 86, 87])"
            ]
          },
          "metadata": {
            "tags": []
          },
          "execution_count": 15
        }
      ]
    },
    {
      "metadata": {
        "id": "xHYGTHJm6Tgd",
        "colab_type": "code",
        "colab": {
          "base_uri": "https://localhost:8080/",
          "height": 36
        },
        "outputId": "2a277efd-5fe0-4c24-cd45-3d447e4ee712"
      },
      "cell_type": "code",
      "source": [
        "# create pandas Series object to find -all- unique values in df1\n",
        "\n",
        "s = pd.Series(df1.values.ravel()).unique()  # from http://www.datasciencemadesimple.com/create-series-in-python-pandas/\n",
        "len(s)  # 22055 unique values in entire Series! WRITE a function to retrieve unique values by column\n",
        "\n",
        "\n",
        "def get_unique_vals(column):  # STRETCH!\n",
        "    pass\n",
        "\n"
      ],
      "execution_count": 26,
      "outputs": [
        {
          "output_type": "execute_result",
          "data": {
            "text/plain": [
              "22055"
            ]
          },
          "metadata": {
            "tags": []
          },
          "execution_count": 26
        }
      ]
    },
    {
      "metadata": {
        "id": "DMef3Th83AqJ",
        "colab_type": "code",
        "colab": {}
      },
      "cell_type": "code",
      "source": [
        "# prepare to one-hot encode categorical features, as needed\n",
        "# No NaN's, so working assumption is that OHE is not necessary"
      ],
      "execution_count": 0,
      "outputs": []
    },
    {
      "metadata": {
        "id": "RT1LFnFO1lo6",
        "colab_type": "text"
      },
      "cell_type": "markdown",
      "source": [
        "## Part 2 - Fit and present a Logistic Regression\n",
        "\n",
        "Your data should now be in a state to fit a logistic regression. Use scikit-learn, define your `X` (independent variable) and `y`, and fit a model.\n",
        "\n",
        "Then, present results - display coefficients in as interpretible a way as you can (hint - scaling the numeric features will help, as it will at least make coefficients more comparable to each other). If you find it helpful for interpretation, you can also generate predictions for cases (like our 5 year old rich kid on the Titanic) or make visualizations - but the goal is your exploration to be able to answer the question, not any particular plot (i.e. don't worry about polishing it).\n",
        "\n",
        "It is *optional* to use `train_test_split` or validate your model more generally - that is not the core focus for this week. So, it is suggested you focus on fitting a model first, and if you have time at the end you can do further validation."
      ]
    },
    {
      "metadata": {
        "id": "s7fTRDXguD7N",
        "colab_type": "code",
        "colab": {}
      },
      "cell_type": "code",
      "source": [
        "# TODO - your work!"
      ],
      "execution_count": 0,
      "outputs": []
    },
    {
      "metadata": {
        "id": "BkIa-Sa21qdC",
        "colab_type": "text"
      },
      "cell_type": "markdown",
      "source": [
        "## Part 3 - Analysis, Interpretation, and Questions\n",
        "\n",
        "### Based on your above model, answer the following questions\n",
        "\n",
        "1. What are 3 features positively correlated with income above 50k?\n",
        "2. What are 3 features negatively correlated with income above 50k?\n",
        "3. Overall, how well does the model explain the data and what insights do you derive from it?\n",
        "\n",
        "*These answers count* - that is, make sure to spend some time on them, connecting to your analysis above. There is no single right answer, but as long as you support your reasoning with evidence you are on the right track.\n",
        "\n",
        "Note - scikit-learn logistic regression does *not* automatically perform a hypothesis test on coefficients. That is OK - if you scale the data they are more comparable in weight.\n",
        "\n",
        "### Match the following situation descriptions with the model most appropriate to addressing them\n",
        "\n",
        "In addition to logistic regression, a number of other approaches were covered this week. Pair them with the situations they are most appropriate for, and briefly explain why.\n",
        "\n",
        "Situations:\n",
        "1. You are given data on academic performance of primary school students, and asked to fit a model to help predict \"at-risk\" students who are likely to receive the bottom tier of grades.\n",
        "2. You are studying tech companies and their patterns in releasing new products, and would like to be able to model and predict when a new product is likely to be launched.\n",
        "3. You are working on modeling expected plant size and yield with a laboratory that is able to capture fantastically detailed physical data about plants, but only of a few dozen plants at a time.\n",
        "\n",
        "Approaches:\n",
        "1. Ridge Regression\n",
        "2. Quantile Regression\n",
        "3. Survival Analysis"
      ]
    },
    {
      "metadata": {
        "id": "Yjj0sseiuHib",
        "colab_type": "text"
      },
      "cell_type": "markdown",
      "source": [
        "**TODO - your answers!**"
      ]
    }
  ]
}