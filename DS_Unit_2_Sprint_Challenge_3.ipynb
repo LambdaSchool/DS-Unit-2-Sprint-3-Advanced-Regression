{
  "nbformat": 4,
  "nbformat_minor": 0,
  "metadata": {
    "colab": {
      "name": "DS_Unit_2_Sprint_Challenge_3.ipynb",
      "version": "0.3.2",
      "provenance": [],
      "include_colab_link": true
    },
    "kernelspec": {
      "display_name": "Python 3",
      "language": "python",
      "name": "python3"
    }
  },
  "cells": [
    {
      "cell_type": "markdown",
      "metadata": {
        "id": "view-in-github",
        "colab_type": "text"
      },
      "source": [
        "<a href=\"https://colab.research.google.com/github/derek-shing/DS-Unit-2-Sprint-3-Advanced-Regression/blob/master/DS_Unit_2_Sprint_Challenge_3.ipynb\" target=\"_parent\"><img src=\"https://colab.research.google.com/assets/colab-badge.svg\" alt=\"Open In Colab\"/></a>"
      ]
    },
    {
      "metadata": {
        "colab_type": "text",
        "id": "ayDccRP01GJD"
      },
      "cell_type": "markdown",
      "source": [
        "# Data Science Unit 2 Sprint Challenge 3\n",
        "\n",
        "## Logistic Regression and Beyond\n",
        "\n",
        "In this sprint challenge you will fit a logistic regression modeling the probability of an adult having an income above 50K. The dataset is available at UCI:\n",
        "\n",
        "https://archive.ics.uci.edu/ml/datasets/adult\n",
        "\n",
        "Your goal is to:\n",
        "\n",
        "1. Load, validate, and clean/prepare the data.\n",
        "2. Fit a logistic regression model\n",
        "3. Answer questions based on the results (as well as a few extra questions about the other modules)\n",
        "\n",
        "Don't let the perfect be the enemy of the good! Manage your time, and make sure to get to all parts. If you get stuck wrestling with the data, simplify it (if necessary, drop features or rows) so you're able to move on. If you have time at the end, you can go back and try to fix/improve.\n",
        "\n",
        "### Hints\n",
        "\n",
        "It has a variety of features - some are continuous, but many are categorical. You may find [pandas.get_dummies](https://pandas.pydata.org/pandas-docs/stable/generated/pandas.get_dummies.html) (a method to one-hot encode) helpful!\n",
        "\n",
        "The features have dramatically different ranges. You may find [sklearn.preprocessing.minmax_scale](https://scikit-learn.org/stable/modules/generated/sklearn.preprocessing.minmax_scale.html#sklearn.preprocessing.minmax_scale) helpful!"
      ]
    },
    {
      "metadata": {
        "colab_type": "text",
        "id": "U22R1Ud51hxb"
      },
      "cell_type": "markdown",
      "source": [
        "## Part 1 - Load, validate, and prepare data\n",
        "\n",
        "The data is available at: https://archive.ics.uci.edu/ml/datasets/adult\n",
        "\n",
        "Load it, name the columns, and make sure that you've loaded the data successfully. Note that missing values for categorical variables can essentially be considered another category (\"unknown\"), and may not need to be dropped.\n",
        "\n",
        "You should also prepare the data for logistic regression - one-hot encode categorical features as appropriate."
      ]
    },
    {
      "metadata": {
        "id": "_5-Pnge_A_9M",
        "colab_type": "code",
        "colab": {}
      },
      "cell_type": "code",
      "source": [
        "from sklearn.linear_model import LinearRegression\n",
        "from sklearn.linear_model import RidgeCV\n",
        "from sklearn.linear_model import Ridge\n",
        "from sklearn.preprocessing import scale\n",
        "from sklearn.metrics import mean_squared_error\n",
        "from sklearn.model_selection import train_test_split\n",
        "from sklearn.linear_model import LogisticRegression\n",
        "import pandas as pd\n",
        "import numpy as np"
      ],
      "execution_count": 0,
      "outputs": []
    },
    {
      "metadata": {
        "id": "mR9DRH9SHoU5",
        "colab_type": "text"
      },
      "cell_type": "markdown",
      "source": [
        "age: continuous.\n",
        "workclass: Private, Self-emp-not-inc, Self-emp-inc, Federal-gov, Local-gov, State-gov, Without-pay, Never-worked.\n",
        "fnlwgt: continuous.\n",
        "education: Bachelors, Some-college, 11th, HS-grad, Prof-school, Assoc-acdm, Assoc-voc, 9th, 7th-8th, 12th, Masters, 1st-4th, 10th, Doctorate, 5th-6th, Preschool.\n",
        "education-num: continuous.\n",
        "marital-status: Married-civ-spouse, Divorced, Never-married, Separated, Widowed, Married-spouse-absent, Married-AF-spouse.\n",
        "occupation: Tech-support, Craft-repair, Other-service, Sales, Exec-managerial, Prof-specialty, Handlers-cleaners, Machine-op-inspct, Adm-clerical, Farming-fishing, Transport-moving, Priv-house-serv, Protective-serv, Armed-Forces.\n",
        "relationship: Wife, Own-child, Husband, Not-in-family, Other-relative, Unmarried.\n",
        "race: White, Asian-Pac-Islander, Amer-Indian-Eskimo, Other, Black.\n",
        "sex: Female, Male.\n",
        "capital-gain: continuous.\n",
        "capital-loss: continuous.\n",
        "hours-per-week: continuous.\n",
        "native-country: United-States, Cambodia, England, Puerto-Rico, Canada, Germany, Outlying-US(Guam-USVI-etc), India, Japan, Greece, South, China, Cuba, Iran, Honduras, Philippines, Italy, Poland, Jamaica, Vietnam, Mexico, Portugal, Ireland, France, Dominican-Republic, Laos, Ecuador, Taiwan, Haiti, Columbia, Hungary, Guatemala, Nicaragua, Scotland, Thailand, Yugoslavia, El-Salvador, Trinadad&Tobago, Peru, Hong, Holand-Netherlands.\n"
      ]
    },
    {
      "metadata": {
        "colab_type": "code",
        "id": "SeOByIkht-NS",
        "colab": {}
      },
      "cell_type": "code",
      "source": [
        "# TODO - your work!\n",
        "df = pd.read_csv('https://archive.ics.uci.edu/ml/machine-learning-databases/adult/adult.data')"
      ],
      "execution_count": 0,
      "outputs": []
    },
    {
      "metadata": {
        "id": "KP243n49CTN5",
        "colab_type": "code",
        "colab": {
          "base_uri": "https://localhost:8080/",
          "height": 34
        },
        "outputId": "672f431f-5ffa-48f8-c45f-3d9231a08870"
      },
      "cell_type": "code",
      "source": [
        "df.shape"
      ],
      "execution_count": 12,
      "outputs": [
        {
          "output_type": "execute_result",
          "data": {
            "text/plain": [
              "(32560, 15)"
            ]
          },
          "metadata": {
            "tags": []
          },
          "execution_count": 12
        }
      ]
    },
    {
      "metadata": {
        "id": "5wY6ZxCvCVUJ",
        "colab_type": "code",
        "colab": {
          "base_uri": "https://localhost:8080/",
          "height": 204
        },
        "outputId": "c7d63268-1dd4-4ba1-db72-b60ce9c73bbc"
      },
      "cell_type": "code",
      "source": [
        "df.head()"
      ],
      "execution_count": 16,
      "outputs": [
        {
          "output_type": "execute_result",
          "data": {
            "text/html": [
              "<div>\n",
              "<style scoped>\n",
              "    .dataframe tbody tr th:only-of-type {\n",
              "        vertical-align: middle;\n",
              "    }\n",
              "\n",
              "    .dataframe tbody tr th {\n",
              "        vertical-align: top;\n",
              "    }\n",
              "\n",
              "    .dataframe thead th {\n",
              "        text-align: right;\n",
              "    }\n",
              "</style>\n",
              "<table border=\"1\" class=\"dataframe\">\n",
              "  <thead>\n",
              "    <tr style=\"text-align: right;\">\n",
              "      <th></th>\n",
              "      <th>39</th>\n",
              "      <th>State-gov</th>\n",
              "      <th>77516</th>\n",
              "      <th>Bachelors</th>\n",
              "      <th>13</th>\n",
              "      <th>Never-married</th>\n",
              "      <th>Adm-clerical</th>\n",
              "      <th>Not-in-family</th>\n",
              "      <th>White</th>\n",
              "      <th>Male</th>\n",
              "      <th>2174</th>\n",
              "      <th>0</th>\n",
              "      <th>40</th>\n",
              "      <th>United-States</th>\n",
              "      <th>&lt;=50K</th>\n",
              "    </tr>\n",
              "  </thead>\n",
              "  <tbody>\n",
              "    <tr>\n",
              "      <th>0</th>\n",
              "      <td>50</td>\n",
              "      <td>Self-emp-not-inc</td>\n",
              "      <td>83311</td>\n",
              "      <td>Bachelors</td>\n",
              "      <td>13</td>\n",
              "      <td>Married-civ-spouse</td>\n",
              "      <td>Exec-managerial</td>\n",
              "      <td>Husband</td>\n",
              "      <td>White</td>\n",
              "      <td>Male</td>\n",
              "      <td>0</td>\n",
              "      <td>0</td>\n",
              "      <td>13</td>\n",
              "      <td>United-States</td>\n",
              "      <td>&lt;=50K</td>\n",
              "    </tr>\n",
              "    <tr>\n",
              "      <th>1</th>\n",
              "      <td>38</td>\n",
              "      <td>Private</td>\n",
              "      <td>215646</td>\n",
              "      <td>HS-grad</td>\n",
              "      <td>9</td>\n",
              "      <td>Divorced</td>\n",
              "      <td>Handlers-cleaners</td>\n",
              "      <td>Not-in-family</td>\n",
              "      <td>White</td>\n",
              "      <td>Male</td>\n",
              "      <td>0</td>\n",
              "      <td>0</td>\n",
              "      <td>40</td>\n",
              "      <td>United-States</td>\n",
              "      <td>&lt;=50K</td>\n",
              "    </tr>\n",
              "    <tr>\n",
              "      <th>2</th>\n",
              "      <td>53</td>\n",
              "      <td>Private</td>\n",
              "      <td>234721</td>\n",
              "      <td>11th</td>\n",
              "      <td>7</td>\n",
              "      <td>Married-civ-spouse</td>\n",
              "      <td>Handlers-cleaners</td>\n",
              "      <td>Husband</td>\n",
              "      <td>Black</td>\n",
              "      <td>Male</td>\n",
              "      <td>0</td>\n",
              "      <td>0</td>\n",
              "      <td>40</td>\n",
              "      <td>United-States</td>\n",
              "      <td>&lt;=50K</td>\n",
              "    </tr>\n",
              "    <tr>\n",
              "      <th>3</th>\n",
              "      <td>28</td>\n",
              "      <td>Private</td>\n",
              "      <td>338409</td>\n",
              "      <td>Bachelors</td>\n",
              "      <td>13</td>\n",
              "      <td>Married-civ-spouse</td>\n",
              "      <td>Prof-specialty</td>\n",
              "      <td>Wife</td>\n",
              "      <td>Black</td>\n",
              "      <td>Female</td>\n",
              "      <td>0</td>\n",
              "      <td>0</td>\n",
              "      <td>40</td>\n",
              "      <td>Cuba</td>\n",
              "      <td>&lt;=50K</td>\n",
              "    </tr>\n",
              "    <tr>\n",
              "      <th>4</th>\n",
              "      <td>37</td>\n",
              "      <td>Private</td>\n",
              "      <td>284582</td>\n",
              "      <td>Masters</td>\n",
              "      <td>14</td>\n",
              "      <td>Married-civ-spouse</td>\n",
              "      <td>Exec-managerial</td>\n",
              "      <td>Wife</td>\n",
              "      <td>White</td>\n",
              "      <td>Female</td>\n",
              "      <td>0</td>\n",
              "      <td>0</td>\n",
              "      <td>40</td>\n",
              "      <td>United-States</td>\n",
              "      <td>&lt;=50K</td>\n",
              "    </tr>\n",
              "  </tbody>\n",
              "</table>\n",
              "</div>"
            ],
            "text/plain": [
              "   39          State-gov   77516   Bachelors   13        Never-married  \\\n",
              "0  50   Self-emp-not-inc   83311   Bachelors   13   Married-civ-spouse   \n",
              "1  38            Private  215646     HS-grad    9             Divorced   \n",
              "2  53            Private  234721        11th    7   Married-civ-spouse   \n",
              "3  28            Private  338409   Bachelors   13   Married-civ-spouse   \n",
              "4  37            Private  284582     Masters   14   Married-civ-spouse   \n",
              "\n",
              "         Adm-clerical   Not-in-family   White     Male   2174   0   40  \\\n",
              "0     Exec-managerial         Husband   White     Male      0   0   13   \n",
              "1   Handlers-cleaners   Not-in-family   White     Male      0   0   40   \n",
              "2   Handlers-cleaners         Husband   Black     Male      0   0   40   \n",
              "3      Prof-specialty            Wife   Black   Female      0   0   40   \n",
              "4     Exec-managerial            Wife   White   Female      0   0   40   \n",
              "\n",
              "    United-States   <=50K  \n",
              "0   United-States   <=50K  \n",
              "1   United-States   <=50K  \n",
              "2   United-States   <=50K  \n",
              "3            Cuba   <=50K  \n",
              "4   United-States   <=50K  "
            ]
          },
          "metadata": {
            "tags": []
          },
          "execution_count": 16
        }
      ]
    },
    {
      "metadata": {
        "id": "K1E6mb27DMRP",
        "colab_type": "code",
        "colab": {
          "base_uri": "https://localhost:8080/",
          "height": 85
        },
        "outputId": "88d41cbd-6ca8-4404-eebf-19cee7b8187b"
      },
      "cell_type": "code",
      "source": [
        "df.columns"
      ],
      "execution_count": 17,
      "outputs": [
        {
          "output_type": "execute_result",
          "data": {
            "text/plain": [
              "Index(['39', ' State-gov', ' 77516', ' Bachelors', ' 13', ' Never-married',\n",
              "       ' Adm-clerical', ' Not-in-family', ' White', ' Male', ' 2174', ' 0',\n",
              "       ' 40', ' United-States', ' <=50K'],\n",
              "      dtype='object')"
            ]
          },
          "metadata": {
            "tags": []
          },
          "execution_count": 17
        }
      ]
    },
    {
      "metadata": {
        "id": "YEea6qB8Hsvn",
        "colab_type": "code",
        "colab": {}
      },
      "cell_type": "code",
      "source": [
        "col =['age','workclass','fnlwgt','education','education-num','marital-status','occupation','relationship','race','sex','capital-gain',\n",
        "      'capital-loss','hours-per-week','native-country','result']"
      ],
      "execution_count": 0,
      "outputs": []
    },
    {
      "metadata": {
        "id": "rjjWA5YfJhEv",
        "colab_type": "code",
        "colab": {}
      },
      "cell_type": "code",
      "source": [
        "df = pd.read_csv('https://archive.ics.uci.edu/ml/machine-learning-databases/adult/adult.data', names=col)"
      ],
      "execution_count": 0,
      "outputs": []
    },
    {
      "metadata": {
        "id": "BDykkYkNJxb7",
        "colab_type": "code",
        "colab": {
          "base_uri": "https://localhost:8080/",
          "height": 306
        },
        "outputId": "026f9957-a35f-42e8-b885-d1fe4e67f0e8"
      },
      "cell_type": "code",
      "source": [
        "df.head()"
      ],
      "execution_count": 30,
      "outputs": [
        {
          "output_type": "execute_result",
          "data": {
            "text/html": [
              "<div>\n",
              "<style scoped>\n",
              "    .dataframe tbody tr th:only-of-type {\n",
              "        vertical-align: middle;\n",
              "    }\n",
              "\n",
              "    .dataframe tbody tr th {\n",
              "        vertical-align: top;\n",
              "    }\n",
              "\n",
              "    .dataframe thead th {\n",
              "        text-align: right;\n",
              "    }\n",
              "</style>\n",
              "<table border=\"1\" class=\"dataframe\">\n",
              "  <thead>\n",
              "    <tr style=\"text-align: right;\">\n",
              "      <th></th>\n",
              "      <th>age</th>\n",
              "      <th>workclass</th>\n",
              "      <th>fnlwgt</th>\n",
              "      <th>education</th>\n",
              "      <th>education-num</th>\n",
              "      <th>marital-status</th>\n",
              "      <th>occupation</th>\n",
              "      <th>relationship</th>\n",
              "      <th>race</th>\n",
              "      <th>sex</th>\n",
              "      <th>capital-gain</th>\n",
              "      <th>capital-loss</th>\n",
              "      <th>hours-per-week</th>\n",
              "      <th>native-country</th>\n",
              "      <th>result</th>\n",
              "    </tr>\n",
              "  </thead>\n",
              "  <tbody>\n",
              "    <tr>\n",
              "      <th>0</th>\n",
              "      <td>39</td>\n",
              "      <td>State-gov</td>\n",
              "      <td>77516</td>\n",
              "      <td>Bachelors</td>\n",
              "      <td>13</td>\n",
              "      <td>Never-married</td>\n",
              "      <td>Adm-clerical</td>\n",
              "      <td>Not-in-family</td>\n",
              "      <td>White</td>\n",
              "      <td>Male</td>\n",
              "      <td>2174</td>\n",
              "      <td>0</td>\n",
              "      <td>40</td>\n",
              "      <td>United-States</td>\n",
              "      <td>&lt;=50K</td>\n",
              "    </tr>\n",
              "    <tr>\n",
              "      <th>1</th>\n",
              "      <td>50</td>\n",
              "      <td>Self-emp-not-inc</td>\n",
              "      <td>83311</td>\n",
              "      <td>Bachelors</td>\n",
              "      <td>13</td>\n",
              "      <td>Married-civ-spouse</td>\n",
              "      <td>Exec-managerial</td>\n",
              "      <td>Husband</td>\n",
              "      <td>White</td>\n",
              "      <td>Male</td>\n",
              "      <td>0</td>\n",
              "      <td>0</td>\n",
              "      <td>13</td>\n",
              "      <td>United-States</td>\n",
              "      <td>&lt;=50K</td>\n",
              "    </tr>\n",
              "    <tr>\n",
              "      <th>2</th>\n",
              "      <td>38</td>\n",
              "      <td>Private</td>\n",
              "      <td>215646</td>\n",
              "      <td>HS-grad</td>\n",
              "      <td>9</td>\n",
              "      <td>Divorced</td>\n",
              "      <td>Handlers-cleaners</td>\n",
              "      <td>Not-in-family</td>\n",
              "      <td>White</td>\n",
              "      <td>Male</td>\n",
              "      <td>0</td>\n",
              "      <td>0</td>\n",
              "      <td>40</td>\n",
              "      <td>United-States</td>\n",
              "      <td>&lt;=50K</td>\n",
              "    </tr>\n",
              "    <tr>\n",
              "      <th>3</th>\n",
              "      <td>53</td>\n",
              "      <td>Private</td>\n",
              "      <td>234721</td>\n",
              "      <td>11th</td>\n",
              "      <td>7</td>\n",
              "      <td>Married-civ-spouse</td>\n",
              "      <td>Handlers-cleaners</td>\n",
              "      <td>Husband</td>\n",
              "      <td>Black</td>\n",
              "      <td>Male</td>\n",
              "      <td>0</td>\n",
              "      <td>0</td>\n",
              "      <td>40</td>\n",
              "      <td>United-States</td>\n",
              "      <td>&lt;=50K</td>\n",
              "    </tr>\n",
              "    <tr>\n",
              "      <th>4</th>\n",
              "      <td>28</td>\n",
              "      <td>Private</td>\n",
              "      <td>338409</td>\n",
              "      <td>Bachelors</td>\n",
              "      <td>13</td>\n",
              "      <td>Married-civ-spouse</td>\n",
              "      <td>Prof-specialty</td>\n",
              "      <td>Wife</td>\n",
              "      <td>Black</td>\n",
              "      <td>Female</td>\n",
              "      <td>0</td>\n",
              "      <td>0</td>\n",
              "      <td>40</td>\n",
              "      <td>Cuba</td>\n",
              "      <td>&lt;=50K</td>\n",
              "    </tr>\n",
              "  </tbody>\n",
              "</table>\n",
              "</div>"
            ],
            "text/plain": [
              "   age          workclass  fnlwgt   education  education-num  \\\n",
              "0   39          State-gov   77516   Bachelors             13   \n",
              "1   50   Self-emp-not-inc   83311   Bachelors             13   \n",
              "2   38            Private  215646     HS-grad              9   \n",
              "3   53            Private  234721        11th              7   \n",
              "4   28            Private  338409   Bachelors             13   \n",
              "\n",
              "        marital-status          occupation    relationship    race      sex  \\\n",
              "0        Never-married        Adm-clerical   Not-in-family   White     Male   \n",
              "1   Married-civ-spouse     Exec-managerial         Husband   White     Male   \n",
              "2             Divorced   Handlers-cleaners   Not-in-family   White     Male   \n",
              "3   Married-civ-spouse   Handlers-cleaners         Husband   Black     Male   \n",
              "4   Married-civ-spouse      Prof-specialty            Wife   Black   Female   \n",
              "\n",
              "   capital-gain  capital-loss  hours-per-week  native-country  result  \n",
              "0          2174             0              40   United-States   <=50K  \n",
              "1             0             0              13   United-States   <=50K  \n",
              "2             0             0              40   United-States   <=50K  \n",
              "3             0             0              40   United-States   <=50K  \n",
              "4             0             0              40            Cuba   <=50K  "
            ]
          },
          "metadata": {
            "tags": []
          },
          "execution_count": 30
        }
      ]
    },
    {
      "metadata": {
        "id": "PqMeJVVJJ5OV",
        "colab_type": "code",
        "colab": {
          "base_uri": "https://localhost:8080/",
          "height": 289
        },
        "outputId": "92a2c117-e865-43a4-e989-af589ae43c20"
      },
      "cell_type": "code",
      "source": [
        "df.isnull().sum()"
      ],
      "execution_count": 31,
      "outputs": [
        {
          "output_type": "execute_result",
          "data": {
            "text/plain": [
              "age               0\n",
              "workclass         0\n",
              "fnlwgt            0\n",
              "education         0\n",
              "education-num     0\n",
              "marital-status    0\n",
              "occupation        0\n",
              "relationship      0\n",
              "race              0\n",
              "sex               0\n",
              "capital-gain      0\n",
              "capital-loss      0\n",
              "hours-per-week    0\n",
              "native-country    0\n",
              "result            0\n",
              "dtype: int64"
            ]
          },
          "metadata": {
            "tags": []
          },
          "execution_count": 31
        }
      ]
    },
    {
      "metadata": {
        "id": "xm5su0MfD9ok",
        "colab_type": "code",
        "colab": {
          "base_uri": "https://localhost:8080/",
          "height": 68
        },
        "outputId": "739e37d9-ad77-4831-a8a3-cf935fca1777"
      },
      "cell_type": "code",
      "source": [
        "df['result'].value_counts()"
      ],
      "execution_count": 65,
      "outputs": [
        {
          "output_type": "execute_result",
          "data": {
            "text/plain": [
              " <=50K    24720\n",
              " >50K      7841\n",
              "Name: result, dtype: int64"
            ]
          },
          "metadata": {
            "tags": []
          },
          "execution_count": 65
        }
      ]
    },
    {
      "metadata": {
        "id": "SG6wd16QEQht",
        "colab_type": "code",
        "colab": {}
      },
      "cell_type": "code",
      "source": [
        "df['result']=df['result'].replace({' <=50K':0,' >50K':1})"
      ],
      "execution_count": 0,
      "outputs": []
    },
    {
      "metadata": {
        "id": "PPmH7lQwKwcf",
        "colab_type": "code",
        "colab": {}
      },
      "cell_type": "code",
      "source": [
        "df['sex']=df['sex'].replace({' Female':0,' Male':1})"
      ],
      "execution_count": 0,
      "outputs": []
    },
    {
      "metadata": {
        "id": "A_kSJsv9EqqY",
        "colab_type": "code",
        "colab": {
          "base_uri": "https://localhost:8080/",
          "height": 68
        },
        "outputId": "7615d5ab-ff3e-4bd6-942b-c90857a8abb2"
      },
      "cell_type": "code",
      "source": [
        "df['result'].value_counts()"
      ],
      "execution_count": 39,
      "outputs": [
        {
          "output_type": "execute_result",
          "data": {
            "text/plain": [
              "0    24720\n",
              "1     7841\n",
              "Name: result, dtype: int64"
            ]
          },
          "metadata": {
            "tags": []
          },
          "execution_count": 39
        }
      ]
    },
    {
      "metadata": {
        "id": "-x4MV1doKXoS",
        "colab_type": "code",
        "colab": {
          "base_uri": "https://localhost:8080/",
          "height": 68
        },
        "outputId": "2736a888-7663-4937-9c9b-7c69e1068e0e"
      },
      "cell_type": "code",
      "source": [
        "df['sex'].value_counts()"
      ],
      "execution_count": 76,
      "outputs": [
        {
          "output_type": "execute_result",
          "data": {
            "text/plain": [
              "1    21790\n",
              "0    10771\n",
              "Name: sex, dtype: int64"
            ]
          },
          "metadata": {
            "tags": []
          },
          "execution_count": 76
        }
      ]
    },
    {
      "metadata": {
        "id": "9nezhwWcLDkh",
        "colab_type": "code",
        "colab": {
          "base_uri": "https://localhost:8080/",
          "height": 102
        },
        "outputId": "765f7150-c481-4dfa-9e84-8a92d5d927bd"
      },
      "cell_type": "code",
      "source": [
        "df.columns"
      ],
      "execution_count": 43,
      "outputs": [
        {
          "output_type": "execute_result",
          "data": {
            "text/plain": [
              "Index(['age', 'workclass', 'fnlwgt', 'education', 'education-num',\n",
              "       'marital-status', 'occupation', 'relationship', 'race', 'sex',\n",
              "       'capital-gain', 'capital-loss', 'hours-per-week', 'native-country',\n",
              "       'result'],\n",
              "      dtype='object')"
            ]
          },
          "metadata": {
            "tags": []
          },
          "execution_count": 43
        }
      ]
    },
    {
      "metadata": {
        "id": "IjT9POfALMfA",
        "colab_type": "code",
        "colab": {}
      },
      "cell_type": "code",
      "source": [
        "df = pd.get_dummies(df, columns=['workclass',\n",
        "       'marital-status', 'occupation', 'relationship', 'race',\n",
        "       'native-country'])"
      ],
      "execution_count": 0,
      "outputs": []
    },
    {
      "metadata": {
        "id": "6Xs4BSmbLnmp",
        "colab_type": "code",
        "colab": {
          "base_uri": "https://localhost:8080/",
          "height": 304
        },
        "outputId": "93ca02de-7081-471f-e770-247fd90e930f"
      },
      "cell_type": "code",
      "source": [
        "df.head()"
      ],
      "execution_count": 69,
      "outputs": [
        {
          "output_type": "execute_result",
          "data": {
            "text/html": [
              "<div>\n",
              "<style scoped>\n",
              "    .dataframe tbody tr th:only-of-type {\n",
              "        vertical-align: middle;\n",
              "    }\n",
              "\n",
              "    .dataframe tbody tr th {\n",
              "        vertical-align: top;\n",
              "    }\n",
              "\n",
              "    .dataframe thead th {\n",
              "        text-align: right;\n",
              "    }\n",
              "</style>\n",
              "<table border=\"1\" class=\"dataframe\">\n",
              "  <thead>\n",
              "    <tr style=\"text-align: right;\">\n",
              "      <th></th>\n",
              "      <th>age</th>\n",
              "      <th>fnlwgt</th>\n",
              "      <th>education</th>\n",
              "      <th>education-num</th>\n",
              "      <th>sex</th>\n",
              "      <th>capital-gain</th>\n",
              "      <th>capital-loss</th>\n",
              "      <th>hours-per-week</th>\n",
              "      <th>result</th>\n",
              "      <th>workclass_ ?</th>\n",
              "      <th>...</th>\n",
              "      <th>native-country_ Portugal</th>\n",
              "      <th>native-country_ Puerto-Rico</th>\n",
              "      <th>native-country_ Scotland</th>\n",
              "      <th>native-country_ South</th>\n",
              "      <th>native-country_ Taiwan</th>\n",
              "      <th>native-country_ Thailand</th>\n",
              "      <th>native-country_ Trinadad&amp;Tobago</th>\n",
              "      <th>native-country_ United-States</th>\n",
              "      <th>native-country_ Vietnam</th>\n",
              "      <th>native-country_ Yugoslavia</th>\n",
              "    </tr>\n",
              "  </thead>\n",
              "  <tbody>\n",
              "    <tr>\n",
              "      <th>0</th>\n",
              "      <td>39</td>\n",
              "      <td>77516</td>\n",
              "      <td>Bachelors</td>\n",
              "      <td>13</td>\n",
              "      <td>1</td>\n",
              "      <td>2174</td>\n",
              "      <td>0</td>\n",
              "      <td>40</td>\n",
              "      <td>0</td>\n",
              "      <td>0</td>\n",
              "      <td>...</td>\n",
              "      <td>0</td>\n",
              "      <td>0</td>\n",
              "      <td>0</td>\n",
              "      <td>0</td>\n",
              "      <td>0</td>\n",
              "      <td>0</td>\n",
              "      <td>0</td>\n",
              "      <td>1</td>\n",
              "      <td>0</td>\n",
              "      <td>0</td>\n",
              "    </tr>\n",
              "    <tr>\n",
              "      <th>1</th>\n",
              "      <td>50</td>\n",
              "      <td>83311</td>\n",
              "      <td>Bachelors</td>\n",
              "      <td>13</td>\n",
              "      <td>1</td>\n",
              "      <td>0</td>\n",
              "      <td>0</td>\n",
              "      <td>13</td>\n",
              "      <td>0</td>\n",
              "      <td>0</td>\n",
              "      <td>...</td>\n",
              "      <td>0</td>\n",
              "      <td>0</td>\n",
              "      <td>0</td>\n",
              "      <td>0</td>\n",
              "      <td>0</td>\n",
              "      <td>0</td>\n",
              "      <td>0</td>\n",
              "      <td>1</td>\n",
              "      <td>0</td>\n",
              "      <td>0</td>\n",
              "    </tr>\n",
              "    <tr>\n",
              "      <th>2</th>\n",
              "      <td>38</td>\n",
              "      <td>215646</td>\n",
              "      <td>HS-grad</td>\n",
              "      <td>9</td>\n",
              "      <td>1</td>\n",
              "      <td>0</td>\n",
              "      <td>0</td>\n",
              "      <td>40</td>\n",
              "      <td>0</td>\n",
              "      <td>0</td>\n",
              "      <td>...</td>\n",
              "      <td>0</td>\n",
              "      <td>0</td>\n",
              "      <td>0</td>\n",
              "      <td>0</td>\n",
              "      <td>0</td>\n",
              "      <td>0</td>\n",
              "      <td>0</td>\n",
              "      <td>1</td>\n",
              "      <td>0</td>\n",
              "      <td>0</td>\n",
              "    </tr>\n",
              "    <tr>\n",
              "      <th>3</th>\n",
              "      <td>53</td>\n",
              "      <td>234721</td>\n",
              "      <td>11th</td>\n",
              "      <td>7</td>\n",
              "      <td>1</td>\n",
              "      <td>0</td>\n",
              "      <td>0</td>\n",
              "      <td>40</td>\n",
              "      <td>0</td>\n",
              "      <td>0</td>\n",
              "      <td>...</td>\n",
              "      <td>0</td>\n",
              "      <td>0</td>\n",
              "      <td>0</td>\n",
              "      <td>0</td>\n",
              "      <td>0</td>\n",
              "      <td>0</td>\n",
              "      <td>0</td>\n",
              "      <td>1</td>\n",
              "      <td>0</td>\n",
              "      <td>0</td>\n",
              "    </tr>\n",
              "    <tr>\n",
              "      <th>4</th>\n",
              "      <td>28</td>\n",
              "      <td>338409</td>\n",
              "      <td>Bachelors</td>\n",
              "      <td>13</td>\n",
              "      <td>Female</td>\n",
              "      <td>0</td>\n",
              "      <td>0</td>\n",
              "      <td>40</td>\n",
              "      <td>0</td>\n",
              "      <td>0</td>\n",
              "      <td>...</td>\n",
              "      <td>0</td>\n",
              "      <td>0</td>\n",
              "      <td>0</td>\n",
              "      <td>0</td>\n",
              "      <td>0</td>\n",
              "      <td>0</td>\n",
              "      <td>0</td>\n",
              "      <td>0</td>\n",
              "      <td>0</td>\n",
              "      <td>0</td>\n",
              "    </tr>\n",
              "  </tbody>\n",
              "</table>\n",
              "<p>5 rows × 93 columns</p>\n",
              "</div>"
            ],
            "text/plain": [
              "   age  fnlwgt   education  education-num      sex  capital-gain  \\\n",
              "0   39   77516   Bachelors             13        1          2174   \n",
              "1   50   83311   Bachelors             13        1             0   \n",
              "2   38  215646     HS-grad              9        1             0   \n",
              "3   53  234721        11th              7        1             0   \n",
              "4   28  338409   Bachelors             13   Female             0   \n",
              "\n",
              "   capital-loss  hours-per-week  result  workclass_ ?  \\\n",
              "0             0              40       0             0   \n",
              "1             0              13       0             0   \n",
              "2             0              40       0             0   \n",
              "3             0              40       0             0   \n",
              "4             0              40       0             0   \n",
              "\n",
              "              ...              native-country_ Portugal  \\\n",
              "0             ...                                     0   \n",
              "1             ...                                     0   \n",
              "2             ...                                     0   \n",
              "3             ...                                     0   \n",
              "4             ...                                     0   \n",
              "\n",
              "   native-country_ Puerto-Rico  native-country_ Scotland  \\\n",
              "0                            0                         0   \n",
              "1                            0                         0   \n",
              "2                            0                         0   \n",
              "3                            0                         0   \n",
              "4                            0                         0   \n",
              "\n",
              "   native-country_ South  native-country_ Taiwan  native-country_ Thailand  \\\n",
              "0                      0                       0                         0   \n",
              "1                      0                       0                         0   \n",
              "2                      0                       0                         0   \n",
              "3                      0                       0                         0   \n",
              "4                      0                       0                         0   \n",
              "\n",
              "   native-country_ Trinadad&Tobago  native-country_ United-States  \\\n",
              "0                                0                              1   \n",
              "1                                0                              1   \n",
              "2                                0                              1   \n",
              "3                                0                              1   \n",
              "4                                0                              0   \n",
              "\n",
              "   native-country_ Vietnam  native-country_ Yugoslavia  \n",
              "0                        0                           0  \n",
              "1                        0                           0  \n",
              "2                        0                           0  \n",
              "3                        0                           0  \n",
              "4                        0                           0  \n",
              "\n",
              "[5 rows x 93 columns]"
            ]
          },
          "metadata": {
            "tags": []
          },
          "execution_count": 69
        }
      ]
    },
    {
      "metadata": {
        "id": "jEduzuZfMp1W",
        "colab_type": "code",
        "colab": {}
      },
      "cell_type": "code",
      "source": [
        ""
      ],
      "execution_count": 0,
      "outputs": []
    },
    {
      "metadata": {
        "id": "ly2_leEFMmf_",
        "colab_type": "code",
        "colab": {
          "base_uri": "https://localhost:8080/",
          "height": 765
        },
        "outputId": "edc122b4-c302-471a-e2bc-dc4178b3a2a4"
      },
      "cell_type": "code",
      "source": [
        "df.columns"
      ],
      "execution_count": 62,
      "outputs": [
        {
          "output_type": "execute_result",
          "data": {
            "text/plain": [
              "Index(['age', 'fnlwgt', 'education', 'education-num', 'sex', 'capital-gain',\n",
              "       'capital-loss', 'hours-per-week', 'result', 'workclass_ ?',\n",
              "       'workclass_ Federal-gov', 'workclass_ Local-gov',\n",
              "       'workclass_ Never-worked', 'workclass_ Private',\n",
              "       'workclass_ Self-emp-inc', 'workclass_ Self-emp-not-inc',\n",
              "       'workclass_ State-gov', 'workclass_ Without-pay',\n",
              "       'marital-status_ Divorced', 'marital-status_ Married-AF-spouse',\n",
              "       'marital-status_ Married-civ-spouse',\n",
              "       'marital-status_ Married-spouse-absent',\n",
              "       'marital-status_ Never-married', 'marital-status_ Separated',\n",
              "       'marital-status_ Widowed', 'occupation_ ?', 'occupation_ Adm-clerical',\n",
              "       'occupation_ Armed-Forces', 'occupation_ Craft-repair',\n",
              "       'occupation_ Exec-managerial', 'occupation_ Farming-fishing',\n",
              "       'occupation_ Handlers-cleaners', 'occupation_ Machine-op-inspct',\n",
              "       'occupation_ Other-service', 'occupation_ Priv-house-serv',\n",
              "       'occupation_ Prof-specialty', 'occupation_ Protective-serv',\n",
              "       'occupation_ Sales', 'occupation_ Tech-support',\n",
              "       'occupation_ Transport-moving', 'relationship_ Husband',\n",
              "       'relationship_ Not-in-family', 'relationship_ Other-relative',\n",
              "       'relationship_ Own-child', 'relationship_ Unmarried',\n",
              "       'relationship_ Wife', 'race_ Amer-Indian-Eskimo',\n",
              "       'race_ Asian-Pac-Islander', 'race_ Black', 'race_ Other', 'race_ White',\n",
              "       'native-country_ ?', 'native-country_ Cambodia',\n",
              "       'native-country_ Canada', 'native-country_ China',\n",
              "       'native-country_ Columbia', 'native-country_ Cuba',\n",
              "       'native-country_ Dominican-Republic', 'native-country_ Ecuador',\n",
              "       'native-country_ El-Salvador', 'native-country_ England',\n",
              "       'native-country_ France', 'native-country_ Germany',\n",
              "       'native-country_ Greece', 'native-country_ Guatemala',\n",
              "       'native-country_ Haiti', 'native-country_ Holand-Netherlands',\n",
              "       'native-country_ Honduras', 'native-country_ Hong',\n",
              "       'native-country_ Hungary', 'native-country_ India',\n",
              "       'native-country_ Iran', 'native-country_ Ireland',\n",
              "       'native-country_ Italy', 'native-country_ Jamaica',\n",
              "       'native-country_ Japan', 'native-country_ Laos',\n",
              "       'native-country_ Mexico', 'native-country_ Nicaragua',\n",
              "       'native-country_ Outlying-US(Guam-USVI-etc)', 'native-country_ Peru',\n",
              "       'native-country_ Philippines', 'native-country_ Poland',\n",
              "       'native-country_ Portugal', 'native-country_ Puerto-Rico',\n",
              "       'native-country_ Scotland', 'native-country_ South',\n",
              "       'native-country_ Taiwan', 'native-country_ Thailand',\n",
              "       'native-country_ Trinadad&Tobago', 'native-country_ United-States',\n",
              "       'native-country_ Vietnam', 'native-country_ Yugoslavia'],\n",
              "      dtype='object')"
            ]
          },
          "metadata": {
            "tags": []
          },
          "execution_count": 62
        }
      ]
    },
    {
      "metadata": {
        "id": "7j3hB8gbL-H2",
        "colab_type": "code",
        "colab": {
          "base_uri": "https://localhost:8080/",
          "height": 34
        },
        "outputId": "401dd47c-bbb7-49ad-a4b2-d1bd96bcf4af"
      },
      "cell_type": "code",
      "source": [
        "df.shape"
      ],
      "execution_count": 70,
      "outputs": [
        {
          "output_type": "execute_result",
          "data": {
            "text/plain": [
              "(32561, 93)"
            ]
          },
          "metadata": {
            "tags": []
          },
          "execution_count": 70
        }
      ]
    },
    {
      "metadata": {
        "colab_type": "text",
        "id": "RT1LFnFO1lo6"
      },
      "cell_type": "markdown",
      "source": [
        "## Part 2 - Fit and present a Logistic Regression\n",
        "\n",
        "Your data should now be in a state to fit a logistic regression. Use scikit-learn, define your `X` (independent variable) and `y`, and fit a model.\n",
        "\n",
        "Then, present results - display coefficients in as interpretible a way as you can (hint - scaling the numeric features will help, as it will at least make coefficients more comparable to each other). If you find it helpful for interpretation, you can also generate predictions for cases (like our 5 year old rich kid on the Titanic) or make visualizations - but the goal is your exploration to be able to answer the question, not any particular plot (i.e. don't worry about polishing it).\n",
        "\n",
        "It is *optional* to use `train_test_split` or validate your model more generally - that is not the core focus for this week. So, it is suggested you focus on fitting a model first, and if you have time at the end you can do further validation."
      ]
    },
    {
      "metadata": {
        "colab_type": "code",
        "id": "s7fTRDXguD7N",
        "colab": {
          "base_uri": "https://localhost:8080/",
          "height": 88
        },
        "outputId": "3d51da81-8064-420d-ddc6-8ca4a99ef6d4"
      },
      "cell_type": "code",
      "source": [
        "# TODO - your work!\n",
        "\n",
        "X = df.drop(['result','education'],axis='columns')\n",
        "y = df['result']\n",
        "\n",
        "log_reg = LogisticRegression().fit(X, y)\n",
        "log_reg.score(X, y)"
      ],
      "execution_count": 85,
      "outputs": [
        {
          "output_type": "stream",
          "text": [
            "/usr/local/lib/python3.6/dist-packages/sklearn/linear_model/logistic.py:433: FutureWarning: Default solver will be changed to 'lbfgs' in 0.22. Specify a solver to silence this warning.\n",
            "  FutureWarning)\n"
          ],
          "name": "stderr"
        },
        {
          "output_type": "execute_result",
          "data": {
            "text/plain": [
              "0.7979791775436872"
            ]
          },
          "metadata": {
            "tags": []
          },
          "execution_count": 85
        }
      ]
    },
    {
      "metadata": {
        "id": "W2dngzqBPagu",
        "colab_type": "code",
        "colab": {}
      },
      "cell_type": "code",
      "source": [
        "log_reg.coef_"
      ],
      "execution_count": 0,
      "outputs": []
    },
    {
      "metadata": {
        "id": "vOLpin5rQ5uo",
        "colab_type": "code",
        "colab": {
          "base_uri": "https://localhost:8080/",
          "height": 71
        },
        "outputId": "3f9e35a6-45e3-459b-cb60-a3b74851b003"
      },
      "cell_type": "code",
      "source": [
        "x_col=X.columns\n",
        "\n",
        "X = scale(X)  # Very helpful for regularization!\n",
        "\n",
        "# Put it in a dataframe\n",
        "X = pd.DataFrame(X, columns=x_col)"
      ],
      "execution_count": 86,
      "outputs": [
        {
          "output_type": "stream",
          "text": [
            "/usr/local/lib/python3.6/dist-packages/ipykernel_launcher.py:3: DataConversionWarning: Data with input dtype uint8, int64 were all converted to float64 by the scale function.\n",
            "  This is separate from the ipykernel package so we can avoid doing imports until\n"
          ],
          "name": "stderr"
        }
      ]
    },
    {
      "metadata": {
        "id": "cVbI1vuxRe0E",
        "colab_type": "code",
        "colab": {
          "base_uri": "https://localhost:8080/",
          "height": 304
        },
        "outputId": "8a1eaa75-f0c5-4232-fc86-bbb4fdeb89fc"
      },
      "cell_type": "code",
      "source": [
        "X.head()"
      ],
      "execution_count": 87,
      "outputs": [
        {
          "output_type": "execute_result",
          "data": {
            "text/html": [
              "<div>\n",
              "<style scoped>\n",
              "    .dataframe tbody tr th:only-of-type {\n",
              "        vertical-align: middle;\n",
              "    }\n",
              "\n",
              "    .dataframe tbody tr th {\n",
              "        vertical-align: top;\n",
              "    }\n",
              "\n",
              "    .dataframe thead th {\n",
              "        text-align: right;\n",
              "    }\n",
              "</style>\n",
              "<table border=\"1\" class=\"dataframe\">\n",
              "  <thead>\n",
              "    <tr style=\"text-align: right;\">\n",
              "      <th></th>\n",
              "      <th>age</th>\n",
              "      <th>fnlwgt</th>\n",
              "      <th>education-num</th>\n",
              "      <th>sex</th>\n",
              "      <th>capital-gain</th>\n",
              "      <th>capital-loss</th>\n",
              "      <th>hours-per-week</th>\n",
              "      <th>workclass_ ?</th>\n",
              "      <th>workclass_ Federal-gov</th>\n",
              "      <th>workclass_ Local-gov</th>\n",
              "      <th>...</th>\n",
              "      <th>native-country_ Portugal</th>\n",
              "      <th>native-country_ Puerto-Rico</th>\n",
              "      <th>native-country_ Scotland</th>\n",
              "      <th>native-country_ South</th>\n",
              "      <th>native-country_ Taiwan</th>\n",
              "      <th>native-country_ Thailand</th>\n",
              "      <th>native-country_ Trinadad&amp;Tobago</th>\n",
              "      <th>native-country_ United-States</th>\n",
              "      <th>native-country_ Vietnam</th>\n",
              "      <th>native-country_ Yugoslavia</th>\n",
              "    </tr>\n",
              "  </thead>\n",
              "  <tbody>\n",
              "    <tr>\n",
              "      <th>0</th>\n",
              "      <td>0.030671</td>\n",
              "      <td>-1.063611</td>\n",
              "      <td>1.134739</td>\n",
              "      <td>0.703071</td>\n",
              "      <td>0.148453</td>\n",
              "      <td>-0.21666</td>\n",
              "      <td>-0.035429</td>\n",
              "      <td>-0.24445</td>\n",
              "      <td>-0.174295</td>\n",
              "      <td>-0.262097</td>\n",
              "      <td>...</td>\n",
              "      <td>-0.033729</td>\n",
              "      <td>-0.059274</td>\n",
              "      <td>-0.019201</td>\n",
              "      <td>-0.049628</td>\n",
              "      <td>-0.039607</td>\n",
              "      <td>-0.023518</td>\n",
              "      <td>-0.024163</td>\n",
              "      <td>0.340954</td>\n",
              "      <td>-0.045408</td>\n",
              "      <td>-0.022173</td>\n",
              "    </tr>\n",
              "    <tr>\n",
              "      <th>1</th>\n",
              "      <td>0.837109</td>\n",
              "      <td>-1.008707</td>\n",
              "      <td>1.134739</td>\n",
              "      <td>0.703071</td>\n",
              "      <td>-0.145920</td>\n",
              "      <td>-0.21666</td>\n",
              "      <td>-2.222153</td>\n",
              "      <td>-0.24445</td>\n",
              "      <td>-0.174295</td>\n",
              "      <td>-0.262097</td>\n",
              "      <td>...</td>\n",
              "      <td>-0.033729</td>\n",
              "      <td>-0.059274</td>\n",
              "      <td>-0.019201</td>\n",
              "      <td>-0.049628</td>\n",
              "      <td>-0.039607</td>\n",
              "      <td>-0.023518</td>\n",
              "      <td>-0.024163</td>\n",
              "      <td>0.340954</td>\n",
              "      <td>-0.045408</td>\n",
              "      <td>-0.022173</td>\n",
              "    </tr>\n",
              "    <tr>\n",
              "      <th>2</th>\n",
              "      <td>-0.042642</td>\n",
              "      <td>0.245079</td>\n",
              "      <td>-0.420060</td>\n",
              "      <td>0.703071</td>\n",
              "      <td>-0.145920</td>\n",
              "      <td>-0.21666</td>\n",
              "      <td>-0.035429</td>\n",
              "      <td>-0.24445</td>\n",
              "      <td>-0.174295</td>\n",
              "      <td>-0.262097</td>\n",
              "      <td>...</td>\n",
              "      <td>-0.033729</td>\n",
              "      <td>-0.059274</td>\n",
              "      <td>-0.019201</td>\n",
              "      <td>-0.049628</td>\n",
              "      <td>-0.039607</td>\n",
              "      <td>-0.023518</td>\n",
              "      <td>-0.024163</td>\n",
              "      <td>0.340954</td>\n",
              "      <td>-0.045408</td>\n",
              "      <td>-0.022173</td>\n",
              "    </tr>\n",
              "    <tr>\n",
              "      <th>3</th>\n",
              "      <td>1.057047</td>\n",
              "      <td>0.425801</td>\n",
              "      <td>-1.197459</td>\n",
              "      <td>0.703071</td>\n",
              "      <td>-0.145920</td>\n",
              "      <td>-0.21666</td>\n",
              "      <td>-0.035429</td>\n",
              "      <td>-0.24445</td>\n",
              "      <td>-0.174295</td>\n",
              "      <td>-0.262097</td>\n",
              "      <td>...</td>\n",
              "      <td>-0.033729</td>\n",
              "      <td>-0.059274</td>\n",
              "      <td>-0.019201</td>\n",
              "      <td>-0.049628</td>\n",
              "      <td>-0.039607</td>\n",
              "      <td>-0.023518</td>\n",
              "      <td>-0.024163</td>\n",
              "      <td>0.340954</td>\n",
              "      <td>-0.045408</td>\n",
              "      <td>-0.022173</td>\n",
              "    </tr>\n",
              "    <tr>\n",
              "      <th>4</th>\n",
              "      <td>-0.775768</td>\n",
              "      <td>1.408176</td>\n",
              "      <td>1.134739</td>\n",
              "      <td>-1.422331</td>\n",
              "      <td>-0.145920</td>\n",
              "      <td>-0.21666</td>\n",
              "      <td>-0.035429</td>\n",
              "      <td>-0.24445</td>\n",
              "      <td>-0.174295</td>\n",
              "      <td>-0.262097</td>\n",
              "      <td>...</td>\n",
              "      <td>-0.033729</td>\n",
              "      <td>-0.059274</td>\n",
              "      <td>-0.019201</td>\n",
              "      <td>-0.049628</td>\n",
              "      <td>-0.039607</td>\n",
              "      <td>-0.023518</td>\n",
              "      <td>-0.024163</td>\n",
              "      <td>-2.932948</td>\n",
              "      <td>-0.045408</td>\n",
              "      <td>-0.022173</td>\n",
              "    </tr>\n",
              "  </tbody>\n",
              "</table>\n",
              "<p>5 rows × 91 columns</p>\n",
              "</div>"
            ],
            "text/plain": [
              "        age    fnlwgt  education-num       sex  capital-gain  capital-loss  \\\n",
              "0  0.030671 -1.063611       1.134739  0.703071      0.148453      -0.21666   \n",
              "1  0.837109 -1.008707       1.134739  0.703071     -0.145920      -0.21666   \n",
              "2 -0.042642  0.245079      -0.420060  0.703071     -0.145920      -0.21666   \n",
              "3  1.057047  0.425801      -1.197459  0.703071     -0.145920      -0.21666   \n",
              "4 -0.775768  1.408176       1.134739 -1.422331     -0.145920      -0.21666   \n",
              "\n",
              "   hours-per-week  workclass_ ?  workclass_ Federal-gov  workclass_ Local-gov  \\\n",
              "0       -0.035429      -0.24445               -0.174295             -0.262097   \n",
              "1       -2.222153      -0.24445               -0.174295             -0.262097   \n",
              "2       -0.035429      -0.24445               -0.174295             -0.262097   \n",
              "3       -0.035429      -0.24445               -0.174295             -0.262097   \n",
              "4       -0.035429      -0.24445               -0.174295             -0.262097   \n",
              "\n",
              "              ...              native-country_ Portugal  \\\n",
              "0             ...                             -0.033729   \n",
              "1             ...                             -0.033729   \n",
              "2             ...                             -0.033729   \n",
              "3             ...                             -0.033729   \n",
              "4             ...                             -0.033729   \n",
              "\n",
              "   native-country_ Puerto-Rico  native-country_ Scotland  \\\n",
              "0                    -0.059274                 -0.019201   \n",
              "1                    -0.059274                 -0.019201   \n",
              "2                    -0.059274                 -0.019201   \n",
              "3                    -0.059274                 -0.019201   \n",
              "4                    -0.059274                 -0.019201   \n",
              "\n",
              "   native-country_ South  native-country_ Taiwan  native-country_ Thailand  \\\n",
              "0              -0.049628               -0.039607                 -0.023518   \n",
              "1              -0.049628               -0.039607                 -0.023518   \n",
              "2              -0.049628               -0.039607                 -0.023518   \n",
              "3              -0.049628               -0.039607                 -0.023518   \n",
              "4              -0.049628               -0.039607                 -0.023518   \n",
              "\n",
              "   native-country_ Trinadad&Tobago  native-country_ United-States  \\\n",
              "0                        -0.024163                       0.340954   \n",
              "1                        -0.024163                       0.340954   \n",
              "2                        -0.024163                       0.340954   \n",
              "3                        -0.024163                       0.340954   \n",
              "4                        -0.024163                      -2.932948   \n",
              "\n",
              "   native-country_ Vietnam  native-country_ Yugoslavia  \n",
              "0                -0.045408                   -0.022173  \n",
              "1                -0.045408                   -0.022173  \n",
              "2                -0.045408                   -0.022173  \n",
              "3                -0.045408                   -0.022173  \n",
              "4                -0.045408                   -0.022173  \n",
              "\n",
              "[5 rows x 91 columns]"
            ]
          },
          "metadata": {
            "tags": []
          },
          "execution_count": 87
        }
      ]
    },
    {
      "metadata": {
        "id": "Kgv3pQ6ARlK1",
        "colab_type": "code",
        "colab": {
          "base_uri": "https://localhost:8080/",
          "height": 88
        },
        "outputId": "8027bc00-c99f-4b50-f55e-46ed5ee6ec7b"
      },
      "cell_type": "code",
      "source": [
        "log_reg = LogisticRegression().fit(X, y)\n",
        "log_reg.score(X, y)"
      ],
      "execution_count": 88,
      "outputs": [
        {
          "output_type": "stream",
          "text": [
            "/usr/local/lib/python3.6/dist-packages/sklearn/linear_model/logistic.py:433: FutureWarning: Default solver will be changed to 'lbfgs' in 0.22. Specify a solver to silence this warning.\n",
            "  FutureWarning)\n"
          ],
          "name": "stderr"
        },
        {
          "output_type": "execute_result",
          "data": {
            "text/plain": [
              "0.8533521697736556"
            ]
          },
          "metadata": {
            "tags": []
          },
          "execution_count": 88
        }
      ]
    },
    {
      "metadata": {
        "id": "R5viIwRnSZrJ",
        "colab_type": "code",
        "colab": {
          "base_uri": "https://localhost:8080/",
          "height": 544
        },
        "outputId": "a64964b4-bcfa-4008-e9dd-4ed533e70d3c"
      },
      "cell_type": "code",
      "source": [
        "log_reg.coef_"
      ],
      "execution_count": 92,
      "outputs": [
        {
          "output_type": "execute_result",
          "data": {
            "text/plain": [
              "array([[ 3.58559261e-01,  7.40377659e-02,  7.18464068e-01,\n",
              "         4.02177846e-01,  2.30775929e+00,  2.61309658e-01,\n",
              "         3.70861162e-01, -6.62662409e-02,  1.05063493e-01,\n",
              "        -1.53769756e-02, -6.26166284e-02,  5.73459842e-02,\n",
              "         5.58661921e-02, -9.39332873e-02, -3.30275902e-02,\n",
              "        -1.28163891e-01, -2.24080655e-01,  5.18663520e-02,\n",
              "         7.42469204e-01, -7.44283507e-02, -5.25192358e-01,\n",
              "        -1.36688047e-01, -9.11095865e-02, -7.01204752e-02,\n",
              "        -1.08640927e-02, -1.93544594e-02,  1.30724189e-02,\n",
              "         2.51466588e-01, -1.78629358e-01, -1.40759758e-01,\n",
              "        -7.42380464e-02, -2.57373711e-01, -2.69771132e-01,\n",
              "         1.77948917e-01,  7.56154480e-02,  7.86498943e-02,\n",
              "         1.01806889e-01, -2.97126435e-02, -5.77467024e-02,\n",
              "         1.67480096e-01, -9.45777911e-02, -2.99090662e-01,\n",
              "         7.69595631e-02,  2.62801382e-01, -4.65515970e-02,\n",
              "         3.00077508e-02, -2.85113505e-02, -2.83703911e-02,\n",
              "         2.89883494e-02, -1.66059789e-02,  3.05507007e-02,\n",
              "         2.29987434e-02, -2.96287614e-02, -8.64313189e-02,\n",
              "         2.17016529e-02, -8.24350944e-02, -6.84895161e-03,\n",
              "        -3.14178335e-02,  1.77340702e-02,  1.84902447e-02,\n",
              "         3.05936539e-02, -2.77371971e-02, -7.89969399e-03,\n",
              "        -1.13583534e-03, -1.95298916e-02, -2.21123379e-02,\n",
              "        -1.71044768e-03, -2.90797515e-03, -1.61348709e-02,\n",
              "         2.44390582e-03,  1.44354350e-02,  4.26924194e-02,\n",
              "         3.84128664e-03,  1.91790202e-02, -1.12573167e-02,\n",
              "        -6.35361133e-02, -2.48394259e-02, -1.16290027e-01,\n",
              "        -2.46873263e-02,  3.79058584e-02,  2.01364461e-03,\n",
              "         1.41979897e-03, -1.68625788e-02,  9.67853307e-04,\n",
              "        -5.08074095e-02,  4.97877924e-03, -1.31979374e-02,\n",
              "        -7.58328372e-03,  6.97208585e-02, -5.01151830e-02,\n",
              "         1.50379726e-02]])"
            ]
          },
          "metadata": {
            "tags": []
          },
          "execution_count": 92
        }
      ]
    },
    {
      "metadata": {
        "id": "QmxFvFADRrAT",
        "colab_type": "code",
        "colab": {
          "base_uri": "https://localhost:8080/",
          "height": 1564
        },
        "outputId": "43cc01ab-b939-497d-d643-d1a4ec6c931a"
      },
      "cell_type": "code",
      "source": [
        "index=0\n",
        "for i in x_col:\n",
        "  print(i,log_reg.coef_[0][index])\n",
        "  index=index+1"
      ],
      "execution_count": 93,
      "outputs": [
        {
          "output_type": "stream",
          "text": [
            "age 0.3585592609043\n",
            "fnlwgt 0.07403776594602827\n",
            "education-num 0.7184640681242446\n",
            "sex 0.4021778460252258\n",
            "capital-gain 2.3077592902744883\n",
            "capital-loss 0.2613096577353619\n",
            "hours-per-week 0.37086116186269974\n",
            "workclass_ ? -0.06626624089079877\n",
            "workclass_ Federal-gov 0.10506349298088728\n",
            "workclass_ Local-gov -0.01537697555681459\n",
            "workclass_ Never-worked -0.06261662836300208\n",
            "workclass_ Private 0.05734598416394402\n",
            "workclass_ Self-emp-inc 0.05586619212457379\n",
            "workclass_ Self-emp-not-inc -0.09393328725933028\n",
            "workclass_ State-gov -0.03302759021452939\n",
            "workclass_ Without-pay -0.12816389126666972\n",
            "marital-status_ Divorced -0.22408065484300765\n",
            "marital-status_ Married-AF-spouse 0.05186635200002795\n",
            "marital-status_ Married-civ-spouse 0.7424692041440113\n",
            "marital-status_ Married-spouse-absent -0.07442835069659179\n",
            "marital-status_ Never-married -0.5251923575052199\n",
            "marital-status_ Separated -0.13668804704719997\n",
            "marital-status_ Widowed -0.09110958646709172\n",
            "occupation_ ? -0.07012047517037151\n",
            "occupation_ Adm-clerical -0.010864092651750581\n",
            "occupation_ Armed-Forces -0.019354459389930988\n",
            "occupation_ Craft-repair 0.013072418917118259\n",
            "occupation_ Exec-managerial 0.2514665884249978\n",
            "occupation_ Farming-fishing -0.17862935820229317\n",
            "occupation_ Handlers-cleaners -0.14075975761858933\n",
            "occupation_ Machine-op-inspct -0.07423804640127254\n",
            "occupation_ Other-service -0.257373711081445\n",
            "occupation_ Priv-house-serv -0.2697711321604337\n",
            "occupation_ Prof-specialty 0.17794891736472765\n",
            "occupation_ Protective-serv 0.07561544800845317\n",
            "occupation_ Sales 0.07864989428062472\n",
            "occupation_ Tech-support 0.10180688925160608\n",
            "occupation_ Transport-moving -0.02971264349105589\n",
            "relationship_ Husband -0.05774670238218372\n",
            "relationship_ Not-in-family 0.16748009577771303\n",
            "relationship_ Other-relative -0.09457779109408498\n",
            "relationship_ Own-child -0.29909066169551507\n",
            "relationship_ Unmarried 0.07695956313398397\n",
            "relationship_ Wife 0.26280138194689223\n",
            "race_ Amer-Indian-Eskimo -0.04655159699062356\n",
            "race_ Asian-Pac-Islander 0.030007750818244045\n",
            "race_ Black -0.028511350493364243\n",
            "race_ Other -0.028370391141281436\n",
            "race_ White 0.028988349404087788\n",
            "native-country_ ? -0.016605978926411073\n",
            "native-country_ Cambodia 0.030550700698040178\n",
            "native-country_ Canada 0.0229987434426401\n",
            "native-country_ China -0.02962876140116269\n",
            "native-country_ Columbia -0.08643131893582603\n",
            "native-country_ Cuba 0.02170165289006726\n",
            "native-country_ Dominican-Republic -0.0824350944269076\n",
            "native-country_ Ecuador -0.006848951611322603\n",
            "native-country_ El-Salvador -0.0314178334665501\n",
            "native-country_ England 0.017734070193727164\n",
            "native-country_ France 0.01849024465473498\n",
            "native-country_ Germany 0.030593653935477846\n",
            "native-country_ Greece -0.02773719706927838\n",
            "native-country_ Guatemala -0.00789969399379226\n",
            "native-country_ Haiti -0.001135835340963253\n",
            "native-country_ Holand-Netherlands -0.019529891591575244\n",
            "native-country_ Honduras -0.022112337899988444\n",
            "native-country_ Hong -0.0017104476839980818\n",
            "native-country_ Hungary -0.0029079751469022045\n",
            "native-country_ India -0.016134870850352964\n",
            "native-country_ Iran 0.002443905815926333\n",
            "native-country_ Ireland 0.014435435014774508\n",
            "native-country_ Italy 0.042692419395438545\n",
            "native-country_ Jamaica 0.0038412866432006284\n",
            "native-country_ Japan 0.01917902024234309\n",
            "native-country_ Laos -0.011257316743525904\n",
            "native-country_ Mexico -0.06353611334437127\n",
            "native-country_ Nicaragua -0.024839425907371357\n",
            "native-country_ Outlying-US(Guam-USVI-etc) -0.1162900267449587\n",
            "native-country_ Peru -0.024687326260503694\n",
            "native-country_ Philippines 0.03790585837224422\n",
            "native-country_ Poland 0.0020136446121652336\n",
            "native-country_ Portugal 0.001419798973636194\n",
            "native-country_ Puerto-Rico -0.016862578832448065\n",
            "native-country_ Scotland 0.0009678533074492777\n",
            "native-country_ South -0.05080740947964957\n",
            "native-country_ Taiwan 0.004978779239742112\n",
            "native-country_ Thailand -0.013197937395412935\n",
            "native-country_ Trinadad&Tobago -0.0075832837167836165\n",
            "native-country_ United-States 0.0697208585273043\n",
            "native-country_ Vietnam -0.05011518298957553\n",
            "native-country_ Yugoslavia 0.01503797263740813\n"
          ],
          "name": "stdout"
        }
      ]
    },
    {
      "metadata": {
        "colab_type": "text",
        "id": "BkIa-Sa21qdC"
      },
      "cell_type": "markdown",
      "source": [
        "## Part 3 - Analysis, Interpretation, and Questions\n",
        "\n",
        "### Based on your above model, answer the following questions\n",
        "\n",
        "1. What are 3 features positively correlated with income above 50k?\n",
        "2. What are 3 features negatively correlated with income above 50k?\n",
        "3. Overall, how well does the model explain the data and what insights do you derive from it?\n",
        "\n",
        "*These answers count* - that is, make sure to spend some time on them, connecting to your analysis above. There is no single right answer, but as long as you support your reasoning with evidence you are on the right track.\n",
        "\n",
        "Note - scikit-learn logistic regression does *not* automatically perform a hypothesis test on coefficients. That is OK - if you scale the data they are more comparable in weight.\n",
        "\n",
        "### Match the following situation descriptions with the model most appropriate to addressing them\n",
        "\n",
        "In addition to logistic regression, a number of other approaches were covered this week. Pair them with the situations they are most appropriate for, and briefly explain why.\n",
        "\n",
        "Situations:\n",
        "1. You are given data on academic performance of primary school students, and asked to fit a model to help predict \"at-risk\" students who are likely to receive the bottom tier of grades.\n",
        "2. You are studying tech companies and their patterns in releasing new products, and would like to be able to model and predict when a new product is likely to be launched.\n",
        "3. You are working on modeling expected plant size and yield with a laboratory that is able to capture fantastically detailed physical data about plants, but only of a few dozen plants at a time.\n",
        "\n",
        "Approaches:\n",
        "1. Ridge Regression\n",
        "2. Quantile Regression\n",
        "3. Survival Analysis"
      ]
    },
    {
      "metadata": {
        "colab_type": "text",
        "id": "Yjj0sseiuHib"
      },
      "cell_type": "markdown",
      "source": [
        "**TODO - your answers!**\n",
        "\n",
        "Ans 3.1\n",
        "\n",
        "The feature with higher coefficients will be more positvely corelated with income above 50 K. In our model, eduction , hours per week, and occupation as an Prof-specialty arepositively corelated with income above 50K with following coefficients:\n",
        "\n",
        "\n",
        "1.   education-num : 0.7184640681242446\n",
        "2.   hours-per-week : 0.37086116186269974\n",
        "3.   occupation_ Prof-specialty : 0.17794891736472765\n",
        "\n",
        "\n"
      ]
    },
    {
      "metadata": {
        "id": "yPWBTe4pXUTR",
        "colab_type": "text"
      },
      "cell_type": "markdown",
      "source": [
        "Ans 3.2\n",
        "\n",
        "\n",
        "The feature with negative coefficients will be more negatively corelated with income above 50 K. In our model, people who are self-employed without incoperate, working in a farming or fishing industry and native in China are negatively corelated with income above 50K with following coefficients:\n",
        "\n",
        "\n",
        "1.   native-country_ China -0.02962876140116269\n",
        "2.   occupation_ Farming-fishing -0.17862935820229317\n",
        "3.   workclass_ Self-emp-not-inc -0.09393328725933028"
      ]
    },
    {
      "metadata": {
        "id": "n9bTtJtcZ6MK",
        "colab_type": "text"
      },
      "cell_type": "markdown",
      "source": [
        "Ans 3.3\n",
        "\n",
        "The model explain the data well with 85% accuary. We can see what type of job have the better chance to earn more by comparing their coefficient. These also apply to native country, type of employment, race etc. A White person native in US working as a professional has high chance to earn more than 50K."
      ]
    },
    {
      "metadata": {
        "id": "rrUoYdaKdHBD",
        "colab_type": "text"
      },
      "cell_type": "markdown",
      "source": [
        "Ans 4\n",
        "\n",
        "We will use Quantile Regression to predict \"at-risk\" students who are likely to receive the bottom tier of grades. Because we want to foucs on \"at-risk\" students instead of all student, we would like to use quantile regression to fit student at the low quantile, for example the bottom 20%.\n",
        "\n",
        "We will use Survial Analysis to predict when a new product is likely to be launched. It is a problem related to timeline and the key is to calcuated the cumulative probability to a given time, that is what survial analysis can do.\n",
        "\n",
        "We will use Ridge Regression to modeling expected plant size and yield because the number of data is too small. Regular linear regression may have overfit problem. Ridge Regression can help on generalize the feature and increase the prediction power for new data\n"
      ]
    }
  ]
}