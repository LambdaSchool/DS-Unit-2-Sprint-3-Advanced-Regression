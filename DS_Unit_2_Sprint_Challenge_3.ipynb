{
  "nbformat": 4,
  "nbformat_minor": 0,
  "metadata": {
    "colab": {
      "name": "DS_Unit_2_Sprint_Challenge_3.ipynb",
      "version": "0.3.2",
      "provenance": [],
      "collapsed_sections": [
        "UgRp1HkQyeaI",
        "kzgBxJM_ygHn",
        "Yjj0sseiuHib"
      ],
      "include_colab_link": true
    },
    "kernelspec": {
      "name": "python3",
      "display_name": "Python 3"
    }
  },
  "cells": [
    {
      "cell_type": "markdown",
      "metadata": {
        "id": "view-in-github",
        "colab_type": "text"
      },
      "source": [
        "<a href=\"https://colab.research.google.com/github/zangell44/DS-Unit-2-Sprint-3-Advanced-Regression/blob/master/DS_Unit_2_Sprint_Challenge_3.ipynb\" target=\"_parent\"><img src=\"https://colab.research.google.com/assets/colab-badge.svg\" alt=\"Open In Colab\"/></a>"
      ]
    },
    {
      "metadata": {
        "id": "ayDccRP01GJD",
        "colab_type": "text"
      },
      "cell_type": "markdown",
      "source": [
        "# Data Science Unit 2 Sprint Challenge 3\n",
        "\n",
        "## Logistic Regression and Beyond\n",
        "\n",
        "In this sprint challenge you will fit a logistic regression modeling the probability of an adult having an income above 50K. The dataset is available at UCI:\n",
        "\n",
        "https://archive.ics.uci.edu/ml/datasets/adult\n",
        "\n",
        "Your goal is to:\n",
        "\n",
        "1. Load, validate, and clean/prepare the data.\n",
        "2. Fit a logistic regression model\n",
        "3. Answer questions based on the results (as well as a few extra questions about the other modules)\n",
        "\n",
        "Don't let the perfect be the enemy of the good! Manage your time, and make sure to get to all parts. If you get stuck wrestling with the data, simplify it (if necessary, drop features or rows) so you're able to move on. If you have time at the end, you can go back and try to fix/improve.\n",
        "\n",
        "### Hints\n",
        "\n",
        "It has a variety of features - some are continuous, but many are categorical. You may find [pandas.get_dummies](https://pandas.pydata.org/pandas-docs/stable/generated/pandas.get_dummies.html) (a method to one-hot encode) helpful!\n",
        "\n",
        "The features have dramatically different ranges. You may find [sklearn.preprocessing.minmax_scale](https://scikit-learn.org/stable/modules/generated/sklearn.preprocessing.minmax_scale.html#sklearn.preprocessing.minmax_scale) helpful!"
      ]
    },
    {
      "metadata": {
        "id": "U22R1Ud51hxb",
        "colab_type": "text"
      },
      "cell_type": "markdown",
      "source": [
        "## Part 1 - Load, validate, and prepare data\n",
        "\n",
        "The data is available at: https://archive.ics.uci.edu/ml/datasets/adult\n",
        "\n",
        "Load it, name the columns, and make sure that you've loaded the data successfully. Note that missing values for categorical variables can essentially be considered another category (\"unknown\"), and may not need to be dropped.\n",
        "\n",
        "You should also prepare the data for logistic regression - one-hot encode categorical features as appropriate."
      ]
    },
    {
      "metadata": {
        "id": "dwGFX07FwDbr",
        "colab_type": "code",
        "colab": {}
      },
      "cell_type": "code",
      "source": [
        "# imports\n",
        "import pandas as pd\n",
        "import numpy as np\n",
        "import matplotlib.pyplot as plt\n",
        "from sklearn.linear_model import LogisticRegression\n",
        "from sklearn.preprocessing import StandardScaler\n",
        "\n",
        "# import plotly\n",
        "# import plotly.plotly as py\n",
        "# import cufflinks as cf\n",
        "# import plotly.graph_objs as go\n",
        "# plotly.tools.set_credentials_file(username='zangell', api_key='bs2CJxqOA2hlrJXKyeM9')"
      ],
      "execution_count": 0,
      "outputs": []
    },
    {
      "metadata": {
        "id": "UgRp1HkQyeaI",
        "colab_type": "text"
      },
      "cell_type": "markdown",
      "source": [
        "### Load Data"
      ]
    },
    {
      "metadata": {
        "id": "SeOByIkht-NS",
        "colab_type": "code",
        "colab": {
          "base_uri": "https://localhost:8080/",
          "height": 334
        },
        "outputId": "c1b651d4-52c9-497c-ce32-66ebc09ac7fc"
      },
      "cell_type": "code",
      "source": [
        "\n",
        "headers = ['age','workclass', 'fnlwgt', 'education', 'education-num', 'marital-status', 'occupation', 'relationship', 'race', 'sex',\n",
        "           'capital-gain','capital-loss', 'hours-per-week','native-country', 'over50k']\n",
        "\n",
        "income_train = pd.read_csv('https://archive.ics.uci.edu/ml/machine-learning-databases/adult/adult.data', \n",
        "                     header=None, \n",
        "                     names=headers,\n",
        "                    index_col=False)\n",
        "income_train.head()"
      ],
      "execution_count": 149,
      "outputs": [
        {
          "output_type": "execute_result",
          "data": {
            "text/html": [
              "<div>\n",
              "<style scoped>\n",
              "    .dataframe tbody tr th:only-of-type {\n",
              "        vertical-align: middle;\n",
              "    }\n",
              "\n",
              "    .dataframe tbody tr th {\n",
              "        vertical-align: top;\n",
              "    }\n",
              "\n",
              "    .dataframe thead th {\n",
              "        text-align: right;\n",
              "    }\n",
              "</style>\n",
              "<table border=\"1\" class=\"dataframe\">\n",
              "  <thead>\n",
              "    <tr style=\"text-align: right;\">\n",
              "      <th></th>\n",
              "      <th>age</th>\n",
              "      <th>workclass</th>\n",
              "      <th>fnlwgt</th>\n",
              "      <th>education</th>\n",
              "      <th>education-num</th>\n",
              "      <th>marital-status</th>\n",
              "      <th>occupation</th>\n",
              "      <th>relationship</th>\n",
              "      <th>race</th>\n",
              "      <th>sex</th>\n",
              "      <th>capital-gain</th>\n",
              "      <th>capital-loss</th>\n",
              "      <th>hours-per-week</th>\n",
              "      <th>native-country</th>\n",
              "      <th>over50k</th>\n",
              "    </tr>\n",
              "  </thead>\n",
              "  <tbody>\n",
              "    <tr>\n",
              "      <th>0</th>\n",
              "      <td>39</td>\n",
              "      <td>State-gov</td>\n",
              "      <td>77516</td>\n",
              "      <td>Bachelors</td>\n",
              "      <td>13</td>\n",
              "      <td>Never-married</td>\n",
              "      <td>Adm-clerical</td>\n",
              "      <td>Not-in-family</td>\n",
              "      <td>White</td>\n",
              "      <td>Male</td>\n",
              "      <td>2174</td>\n",
              "      <td>0</td>\n",
              "      <td>40</td>\n",
              "      <td>United-States</td>\n",
              "      <td>&lt;=50K</td>\n",
              "    </tr>\n",
              "    <tr>\n",
              "      <th>1</th>\n",
              "      <td>50</td>\n",
              "      <td>Self-emp-not-inc</td>\n",
              "      <td>83311</td>\n",
              "      <td>Bachelors</td>\n",
              "      <td>13</td>\n",
              "      <td>Married-civ-spouse</td>\n",
              "      <td>Exec-managerial</td>\n",
              "      <td>Husband</td>\n",
              "      <td>White</td>\n",
              "      <td>Male</td>\n",
              "      <td>0</td>\n",
              "      <td>0</td>\n",
              "      <td>13</td>\n",
              "      <td>United-States</td>\n",
              "      <td>&lt;=50K</td>\n",
              "    </tr>\n",
              "    <tr>\n",
              "      <th>2</th>\n",
              "      <td>38</td>\n",
              "      <td>Private</td>\n",
              "      <td>215646</td>\n",
              "      <td>HS-grad</td>\n",
              "      <td>9</td>\n",
              "      <td>Divorced</td>\n",
              "      <td>Handlers-cleaners</td>\n",
              "      <td>Not-in-family</td>\n",
              "      <td>White</td>\n",
              "      <td>Male</td>\n",
              "      <td>0</td>\n",
              "      <td>0</td>\n",
              "      <td>40</td>\n",
              "      <td>United-States</td>\n",
              "      <td>&lt;=50K</td>\n",
              "    </tr>\n",
              "    <tr>\n",
              "      <th>3</th>\n",
              "      <td>53</td>\n",
              "      <td>Private</td>\n",
              "      <td>234721</td>\n",
              "      <td>11th</td>\n",
              "      <td>7</td>\n",
              "      <td>Married-civ-spouse</td>\n",
              "      <td>Handlers-cleaners</td>\n",
              "      <td>Husband</td>\n",
              "      <td>Black</td>\n",
              "      <td>Male</td>\n",
              "      <td>0</td>\n",
              "      <td>0</td>\n",
              "      <td>40</td>\n",
              "      <td>United-States</td>\n",
              "      <td>&lt;=50K</td>\n",
              "    </tr>\n",
              "    <tr>\n",
              "      <th>4</th>\n",
              "      <td>28</td>\n",
              "      <td>Private</td>\n",
              "      <td>338409</td>\n",
              "      <td>Bachelors</td>\n",
              "      <td>13</td>\n",
              "      <td>Married-civ-spouse</td>\n",
              "      <td>Prof-specialty</td>\n",
              "      <td>Wife</td>\n",
              "      <td>Black</td>\n",
              "      <td>Female</td>\n",
              "      <td>0</td>\n",
              "      <td>0</td>\n",
              "      <td>40</td>\n",
              "      <td>Cuba</td>\n",
              "      <td>&lt;=50K</td>\n",
              "    </tr>\n",
              "  </tbody>\n",
              "</table>\n",
              "</div>"
            ],
            "text/plain": [
              "   age          workclass  fnlwgt   education  education-num  \\\n",
              "0   39          State-gov   77516   Bachelors             13   \n",
              "1   50   Self-emp-not-inc   83311   Bachelors             13   \n",
              "2   38            Private  215646     HS-grad              9   \n",
              "3   53            Private  234721        11th              7   \n",
              "4   28            Private  338409   Bachelors             13   \n",
              "\n",
              "        marital-status          occupation    relationship    race      sex  \\\n",
              "0        Never-married        Adm-clerical   Not-in-family   White     Male   \n",
              "1   Married-civ-spouse     Exec-managerial         Husband   White     Male   \n",
              "2             Divorced   Handlers-cleaners   Not-in-family   White     Male   \n",
              "3   Married-civ-spouse   Handlers-cleaners         Husband   Black     Male   \n",
              "4   Married-civ-spouse      Prof-specialty            Wife   Black   Female   \n",
              "\n",
              "   capital-gain  capital-loss  hours-per-week  native-country over50k  \n",
              "0          2174             0              40   United-States   <=50K  \n",
              "1             0             0              13   United-States   <=50K  \n",
              "2             0             0              40   United-States   <=50K  \n",
              "3             0             0              40   United-States   <=50K  \n",
              "4             0             0              40            Cuba   <=50K  "
            ]
          },
          "metadata": {
            "tags": []
          },
          "execution_count": 149
        }
      ]
    },
    {
      "metadata": {
        "id": "uiwFceXFzexe",
        "colab_type": "code",
        "colab": {
          "base_uri": "https://localhost:8080/",
          "height": 334
        },
        "outputId": "2c61ac0c-be10-4233-896a-05c776e7522f"
      },
      "cell_type": "code",
      "source": [
        "income_test = pd.read_csv('https://archive.ics.uci.edu/ml/machine-learning-databases/adult/adult.test',\n",
        "                         header=None,\n",
        "                         index_col=False,\n",
        "                         names=headers)\n",
        "\n",
        "# theres an annoying header row we'll need to drop\n",
        "income_test.drop(0, axis=0, inplace=True)\n",
        "\n",
        "income_test.head()"
      ],
      "execution_count": 150,
      "outputs": [
        {
          "output_type": "execute_result",
          "data": {
            "text/html": [
              "<div>\n",
              "<style scoped>\n",
              "    .dataframe tbody tr th:only-of-type {\n",
              "        vertical-align: middle;\n",
              "    }\n",
              "\n",
              "    .dataframe tbody tr th {\n",
              "        vertical-align: top;\n",
              "    }\n",
              "\n",
              "    .dataframe thead th {\n",
              "        text-align: right;\n",
              "    }\n",
              "</style>\n",
              "<table border=\"1\" class=\"dataframe\">\n",
              "  <thead>\n",
              "    <tr style=\"text-align: right;\">\n",
              "      <th></th>\n",
              "      <th>age</th>\n",
              "      <th>workclass</th>\n",
              "      <th>fnlwgt</th>\n",
              "      <th>education</th>\n",
              "      <th>education-num</th>\n",
              "      <th>marital-status</th>\n",
              "      <th>occupation</th>\n",
              "      <th>relationship</th>\n",
              "      <th>race</th>\n",
              "      <th>sex</th>\n",
              "      <th>capital-gain</th>\n",
              "      <th>capital-loss</th>\n",
              "      <th>hours-per-week</th>\n",
              "      <th>native-country</th>\n",
              "      <th>over50k</th>\n",
              "    </tr>\n",
              "  </thead>\n",
              "  <tbody>\n",
              "    <tr>\n",
              "      <th>1</th>\n",
              "      <td>25</td>\n",
              "      <td>Private</td>\n",
              "      <td>226802.0</td>\n",
              "      <td>11th</td>\n",
              "      <td>7.0</td>\n",
              "      <td>Never-married</td>\n",
              "      <td>Machine-op-inspct</td>\n",
              "      <td>Own-child</td>\n",
              "      <td>Black</td>\n",
              "      <td>Male</td>\n",
              "      <td>0.0</td>\n",
              "      <td>0.0</td>\n",
              "      <td>40.0</td>\n",
              "      <td>United-States</td>\n",
              "      <td>&lt;=50K.</td>\n",
              "    </tr>\n",
              "    <tr>\n",
              "      <th>2</th>\n",
              "      <td>38</td>\n",
              "      <td>Private</td>\n",
              "      <td>89814.0</td>\n",
              "      <td>HS-grad</td>\n",
              "      <td>9.0</td>\n",
              "      <td>Married-civ-spouse</td>\n",
              "      <td>Farming-fishing</td>\n",
              "      <td>Husband</td>\n",
              "      <td>White</td>\n",
              "      <td>Male</td>\n",
              "      <td>0.0</td>\n",
              "      <td>0.0</td>\n",
              "      <td>50.0</td>\n",
              "      <td>United-States</td>\n",
              "      <td>&lt;=50K.</td>\n",
              "    </tr>\n",
              "    <tr>\n",
              "      <th>3</th>\n",
              "      <td>28</td>\n",
              "      <td>Local-gov</td>\n",
              "      <td>336951.0</td>\n",
              "      <td>Assoc-acdm</td>\n",
              "      <td>12.0</td>\n",
              "      <td>Married-civ-spouse</td>\n",
              "      <td>Protective-serv</td>\n",
              "      <td>Husband</td>\n",
              "      <td>White</td>\n",
              "      <td>Male</td>\n",
              "      <td>0.0</td>\n",
              "      <td>0.0</td>\n",
              "      <td>40.0</td>\n",
              "      <td>United-States</td>\n",
              "      <td>&gt;50K.</td>\n",
              "    </tr>\n",
              "    <tr>\n",
              "      <th>4</th>\n",
              "      <td>44</td>\n",
              "      <td>Private</td>\n",
              "      <td>160323.0</td>\n",
              "      <td>Some-college</td>\n",
              "      <td>10.0</td>\n",
              "      <td>Married-civ-spouse</td>\n",
              "      <td>Machine-op-inspct</td>\n",
              "      <td>Husband</td>\n",
              "      <td>Black</td>\n",
              "      <td>Male</td>\n",
              "      <td>7688.0</td>\n",
              "      <td>0.0</td>\n",
              "      <td>40.0</td>\n",
              "      <td>United-States</td>\n",
              "      <td>&gt;50K.</td>\n",
              "    </tr>\n",
              "    <tr>\n",
              "      <th>5</th>\n",
              "      <td>18</td>\n",
              "      <td>?</td>\n",
              "      <td>103497.0</td>\n",
              "      <td>Some-college</td>\n",
              "      <td>10.0</td>\n",
              "      <td>Never-married</td>\n",
              "      <td>?</td>\n",
              "      <td>Own-child</td>\n",
              "      <td>White</td>\n",
              "      <td>Female</td>\n",
              "      <td>0.0</td>\n",
              "      <td>0.0</td>\n",
              "      <td>30.0</td>\n",
              "      <td>United-States</td>\n",
              "      <td>&lt;=50K.</td>\n",
              "    </tr>\n",
              "  </tbody>\n",
              "</table>\n",
              "</div>"
            ],
            "text/plain": [
              "  age   workclass    fnlwgt      education  education-num  \\\n",
              "1  25     Private  226802.0           11th            7.0   \n",
              "2  38     Private   89814.0        HS-grad            9.0   \n",
              "3  28   Local-gov  336951.0     Assoc-acdm           12.0   \n",
              "4  44     Private  160323.0   Some-college           10.0   \n",
              "5  18           ?  103497.0   Some-college           10.0   \n",
              "\n",
              "        marital-status          occupation relationship    race      sex  \\\n",
              "1        Never-married   Machine-op-inspct    Own-child   Black     Male   \n",
              "2   Married-civ-spouse     Farming-fishing      Husband   White     Male   \n",
              "3   Married-civ-spouse     Protective-serv      Husband   White     Male   \n",
              "4   Married-civ-spouse   Machine-op-inspct      Husband   Black     Male   \n",
              "5        Never-married                   ?    Own-child   White   Female   \n",
              "\n",
              "   capital-gain  capital-loss  hours-per-week  native-country  over50k  \n",
              "1           0.0           0.0            40.0   United-States   <=50K.  \n",
              "2           0.0           0.0            50.0   United-States   <=50K.  \n",
              "3           0.0           0.0            40.0   United-States    >50K.  \n",
              "4        7688.0           0.0            40.0   United-States    >50K.  \n",
              "5           0.0           0.0            30.0   United-States   <=50K.  "
            ]
          },
          "metadata": {
            "tags": []
          },
          "execution_count": 150
        }
      ]
    },
    {
      "metadata": {
        "id": "5mrSir0lzXJZ",
        "colab_type": "text"
      },
      "cell_type": "markdown",
      "source": [
        ""
      ]
    },
    {
      "metadata": {
        "id": "kzgBxJM_ygHn",
        "colab_type": "text"
      },
      "cell_type": "markdown",
      "source": [
        "### Data Cleaning\n",
        "\n",
        "First, we need to run some sanity checks and do some basic cleaning\n",
        "\n",
        "- Ensure we have the right number of values\n",
        "- Ensure missing values are dealth with\n",
        "\n",
        "Additionally, we need to make some changes to the data, including, but not limited to:\n",
        "\n",
        "- Encoding target as binary\n",
        "- Encoding sex as binary\n",
        "- One hot encoding categorical variables"
      ]
    },
    {
      "metadata": {
        "id": "qNWdE06MzMMf",
        "colab_type": "code",
        "colab": {}
      },
      "cell_type": "code",
      "source": [
        "# ensure we have the correct number of values\n",
        "# based on UCI, we should have 14 features + 1 target, and 48842 observations\n",
        "assert income_train.shape[0] + income_test.shape[0] == 48842, print ('Wrong number of observations')\n",
        "assert income_train.shape[1] == 15 and income_test.shape[1] == 15, print ('Wrong number of features')"
      ],
      "execution_count": 0,
      "outputs": []
    },
    {
      "metadata": {
        "id": "MkWdHaB3zMS7",
        "colab_type": "code",
        "colab": {
          "base_uri": "https://localhost:8080/",
          "height": 321
        },
        "outputId": "720e1c4f-9555-4291-d93e-e2d95ff12d99"
      },
      "cell_type": "code",
      "source": [
        "# check for null values, UCI says there should be some\n",
        "# but we don't know how they're encoded, assuming ' ?'\n",
        "# based on raw data exploration\n",
        "income_train.replace(' ?', np.nan, inplace=True)\n",
        "income_train.isnull().sum()\n"
      ],
      "execution_count": 152,
      "outputs": [
        {
          "output_type": "execute_result",
          "data": {
            "text/plain": [
              "age                  0\n",
              "workclass         1836\n",
              "fnlwgt               0\n",
              "education            0\n",
              "education-num        0\n",
              "marital-status       0\n",
              "occupation        1843\n",
              "relationship         0\n",
              "race                 0\n",
              "sex                  0\n",
              "capital-gain         0\n",
              "capital-loss         0\n",
              "hours-per-week       0\n",
              "native-country     583\n",
              "over50k              0\n",
              "dtype: int64"
            ]
          },
          "metadata": {
            "tags": []
          },
          "execution_count": 152
        }
      ]
    },
    {
      "metadata": {
        "id": "Wzxg3rwr3Irp",
        "colab_type": "text"
      },
      "cell_type": "markdown",
      "source": [
        "All of our null values occur in large categorical variables. Let's check the value counts for each to see if there's an obvious mode that we could fill with. \n",
        "\n",
        "If that is not the case, it is likely best to create a new 'other' category for each variable."
      ]
    },
    {
      "metadata": {
        "id": "gDxZBlN63F7i",
        "colab_type": "code",
        "colab": {
          "base_uri": "https://localhost:8080/",
          "height": 196
        },
        "outputId": "93b6daa1-b004-4503-c60e-4e9c36614da1"
      },
      "cell_type": "code",
      "source": [
        "income_train.workclass.value_counts(normalize=True)"
      ],
      "execution_count": 153,
      "outputs": [
        {
          "output_type": "execute_result",
          "data": {
            "text/plain": [
              " Private             0.738682\n",
              " Self-emp-not-inc    0.082701\n",
              " Local-gov           0.068120\n",
              " State-gov           0.042246\n",
              " Self-emp-inc        0.036322\n",
              " Federal-gov         0.031245\n",
              " Without-pay         0.000456\n",
              " Never-worked        0.000228\n",
              "Name: workclass, dtype: float64"
            ]
          },
          "metadata": {
            "tags": []
          },
          "execution_count": 153
        }
      ]
    },
    {
      "metadata": {
        "id": "_eU7i-5y3ncf",
        "colab_type": "code",
        "colab": {
          "base_uri": "https://localhost:8080/",
          "height": 303
        },
        "outputId": "78243645-677f-429f-8abc-a707c9e1a7f3"
      },
      "cell_type": "code",
      "source": [
        "income_train.occupation.value_counts(normalize=True)"
      ],
      "execution_count": 154,
      "outputs": [
        {
          "output_type": "execute_result",
          "data": {
            "text/plain": [
              " Prof-specialty       0.134774\n",
              " Craft-repair         0.133440\n",
              " Exec-managerial      0.132365\n",
              " Adm-clerical         0.122729\n",
              " Sales                0.118823\n",
              " Other-service        0.107266\n",
              " Machine-op-inspct    0.065174\n",
              " Transport-moving     0.051989\n",
              " Handlers-cleaners    0.044599\n",
              " Farming-fishing      0.032359\n",
              " Tech-support         0.030210\n",
              " Protective-serv      0.021128\n",
              " Priv-house-serv      0.004851\n",
              " Armed-Forces         0.000293\n",
              "Name: occupation, dtype: float64"
            ]
          },
          "metadata": {
            "tags": []
          },
          "execution_count": 154
        }
      ]
    },
    {
      "metadata": {
        "id": "-wbQZqLO3ssn",
        "colab_type": "code",
        "colab": {
          "base_uri": "https://localhost:8080/",
          "height": 783
        },
        "outputId": "b86da603-a1fa-4178-fdd1-bdba30c8a4d1"
      },
      "cell_type": "code",
      "source": [
        "income_train['native-country'].value_counts(normalize=True)"
      ],
      "execution_count": 155,
      "outputs": [
        {
          "output_type": "execute_result",
          "data": {
            "text/plain": [
              " United-States                 0.912190\n",
              " Mexico                        0.020108\n",
              " Philippines                   0.006192\n",
              " Germany                       0.004284\n",
              " Canada                        0.003784\n",
              " Puerto-Rico                   0.003565\n",
              " El-Salvador                   0.003315\n",
              " India                         0.003127\n",
              " Cuba                          0.002971\n",
              " England                       0.002814\n",
              " Jamaica                       0.002533\n",
              " South                         0.002502\n",
              " China                         0.002345\n",
              " Italy                         0.002283\n",
              " Dominican-Republic            0.002189\n",
              " Vietnam                       0.002095\n",
              " Guatemala                     0.002001\n",
              " Japan                         0.001939\n",
              " Poland                        0.001876\n",
              " Columbia                      0.001845\n",
              " Taiwan                        0.001595\n",
              " Haiti                         0.001376\n",
              " Iran                          0.001345\n",
              " Portugal                      0.001157\n",
              " Nicaragua                     0.001063\n",
              " Peru                          0.000969\n",
              " France                        0.000907\n",
              " Greece                        0.000907\n",
              " Ecuador                       0.000876\n",
              " Ireland                       0.000751\n",
              " Hong                          0.000625\n",
              " Trinadad&Tobago               0.000594\n",
              " Cambodia                      0.000594\n",
              " Thailand                      0.000563\n",
              " Laos                          0.000563\n",
              " Yugoslavia                    0.000500\n",
              " Outlying-US(Guam-USVI-etc)    0.000438\n",
              " Hungary                       0.000407\n",
              " Honduras                      0.000407\n",
              " Scotland                      0.000375\n",
              " Holand-Netherlands            0.000031\n",
              "Name: native-country, dtype: float64"
            ]
          },
          "metadata": {
            "tags": []
          },
          "execution_count": 155
        }
      ]
    },
    {
      "metadata": {
        "id": "KO11CGXN35xL",
        "colab_type": "text"
      },
      "cell_type": "markdown",
      "source": [
        "For both 'workclass' and 'native-country', the majority of values come from one class (Private and United-States, respectively). I feel comfortable filling the missing values for these columns with the most frequently occuring value.\n",
        "\n",
        "For occupation, the distribution is more evenly split. I'm going to choose to encode missing values as 'Other-service', since this category already seems like a catch all for non-standardized professions."
      ]
    },
    {
      "metadata": {
        "id": "pHNz0WEk359h",
        "colab_type": "code",
        "colab": {}
      },
      "cell_type": "code",
      "source": [
        "# replace ' ?' with nulls in test data\n",
        "income_test.replace(' ?', np.nan, inplace=True)\n",
        "\n",
        "# replace workclass nulls with Private\n",
        "income_train['workclass'].fillna('Private', inplace=True)\n",
        "income_test['workclass'].fillna('Private', inplace=True)\n",
        "\n",
        "# replace native-country nulls with United-States\n",
        "income_train['native-country'].fillna('United-States', inplace=True)\n",
        "income_test['native-country'].fillna('United-States', inplace=True)\n",
        "\n",
        "# replace occupation nulls with Other-service\n",
        "income_train['occupation'].fillna('Other-service', inplace=True)\n",
        "income_test['occupation'].fillna('Other-service', inplace=True)\n",
        "\n",
        "assert income_train.isnull().sum().sum() == 0, print ('Check for reamining null in train data')\n",
        "assert income_test.isnull().sum().sum() == 0, print ('Check for reamining null in test data')"
      ],
      "execution_count": 0,
      "outputs": []
    },
    {
      "metadata": {
        "id": "Hu0c3ZbRzMVv",
        "colab_type": "code",
        "colab": {
          "base_uri": "https://localhost:8080/",
          "height": 334
        },
        "outputId": "97fe6f5e-be36-49f0-833a-9ba1f5755c45"
      },
      "cell_type": "code",
      "source": [
        "# encode target variable as binary\n",
        "income_train['over50k'] = income_train['over50k'] == ' >50K'\n",
        "income_test['over50k'] = income_test['over50k'] == ' >50K'\n",
        "\n",
        "# encode sex as binary\n",
        "income_train['sex'] = income_train['sex'] == ' Male'\n",
        "income_test['sex'] = income_test['sex'] == ' Male'\n",
        "\n",
        "income_train.head()"
      ],
      "execution_count": 157,
      "outputs": [
        {
          "output_type": "execute_result",
          "data": {
            "text/html": [
              "<div>\n",
              "<style scoped>\n",
              "    .dataframe tbody tr th:only-of-type {\n",
              "        vertical-align: middle;\n",
              "    }\n",
              "\n",
              "    .dataframe tbody tr th {\n",
              "        vertical-align: top;\n",
              "    }\n",
              "\n",
              "    .dataframe thead th {\n",
              "        text-align: right;\n",
              "    }\n",
              "</style>\n",
              "<table border=\"1\" class=\"dataframe\">\n",
              "  <thead>\n",
              "    <tr style=\"text-align: right;\">\n",
              "      <th></th>\n",
              "      <th>age</th>\n",
              "      <th>workclass</th>\n",
              "      <th>fnlwgt</th>\n",
              "      <th>education</th>\n",
              "      <th>education-num</th>\n",
              "      <th>marital-status</th>\n",
              "      <th>occupation</th>\n",
              "      <th>relationship</th>\n",
              "      <th>race</th>\n",
              "      <th>sex</th>\n",
              "      <th>capital-gain</th>\n",
              "      <th>capital-loss</th>\n",
              "      <th>hours-per-week</th>\n",
              "      <th>native-country</th>\n",
              "      <th>over50k</th>\n",
              "    </tr>\n",
              "  </thead>\n",
              "  <tbody>\n",
              "    <tr>\n",
              "      <th>0</th>\n",
              "      <td>39</td>\n",
              "      <td>State-gov</td>\n",
              "      <td>77516</td>\n",
              "      <td>Bachelors</td>\n",
              "      <td>13</td>\n",
              "      <td>Never-married</td>\n",
              "      <td>Adm-clerical</td>\n",
              "      <td>Not-in-family</td>\n",
              "      <td>White</td>\n",
              "      <td>True</td>\n",
              "      <td>2174</td>\n",
              "      <td>0</td>\n",
              "      <td>40</td>\n",
              "      <td>United-States</td>\n",
              "      <td>False</td>\n",
              "    </tr>\n",
              "    <tr>\n",
              "      <th>1</th>\n",
              "      <td>50</td>\n",
              "      <td>Self-emp-not-inc</td>\n",
              "      <td>83311</td>\n",
              "      <td>Bachelors</td>\n",
              "      <td>13</td>\n",
              "      <td>Married-civ-spouse</td>\n",
              "      <td>Exec-managerial</td>\n",
              "      <td>Husband</td>\n",
              "      <td>White</td>\n",
              "      <td>True</td>\n",
              "      <td>0</td>\n",
              "      <td>0</td>\n",
              "      <td>13</td>\n",
              "      <td>United-States</td>\n",
              "      <td>False</td>\n",
              "    </tr>\n",
              "    <tr>\n",
              "      <th>2</th>\n",
              "      <td>38</td>\n",
              "      <td>Private</td>\n",
              "      <td>215646</td>\n",
              "      <td>HS-grad</td>\n",
              "      <td>9</td>\n",
              "      <td>Divorced</td>\n",
              "      <td>Handlers-cleaners</td>\n",
              "      <td>Not-in-family</td>\n",
              "      <td>White</td>\n",
              "      <td>True</td>\n",
              "      <td>0</td>\n",
              "      <td>0</td>\n",
              "      <td>40</td>\n",
              "      <td>United-States</td>\n",
              "      <td>False</td>\n",
              "    </tr>\n",
              "    <tr>\n",
              "      <th>3</th>\n",
              "      <td>53</td>\n",
              "      <td>Private</td>\n",
              "      <td>234721</td>\n",
              "      <td>11th</td>\n",
              "      <td>7</td>\n",
              "      <td>Married-civ-spouse</td>\n",
              "      <td>Handlers-cleaners</td>\n",
              "      <td>Husband</td>\n",
              "      <td>Black</td>\n",
              "      <td>True</td>\n",
              "      <td>0</td>\n",
              "      <td>0</td>\n",
              "      <td>40</td>\n",
              "      <td>United-States</td>\n",
              "      <td>False</td>\n",
              "    </tr>\n",
              "    <tr>\n",
              "      <th>4</th>\n",
              "      <td>28</td>\n",
              "      <td>Private</td>\n",
              "      <td>338409</td>\n",
              "      <td>Bachelors</td>\n",
              "      <td>13</td>\n",
              "      <td>Married-civ-spouse</td>\n",
              "      <td>Prof-specialty</td>\n",
              "      <td>Wife</td>\n",
              "      <td>Black</td>\n",
              "      <td>False</td>\n",
              "      <td>0</td>\n",
              "      <td>0</td>\n",
              "      <td>40</td>\n",
              "      <td>Cuba</td>\n",
              "      <td>False</td>\n",
              "    </tr>\n",
              "  </tbody>\n",
              "</table>\n",
              "</div>"
            ],
            "text/plain": [
              "   age          workclass  fnlwgt   education  education-num  \\\n",
              "0   39          State-gov   77516   Bachelors             13   \n",
              "1   50   Self-emp-not-inc   83311   Bachelors             13   \n",
              "2   38            Private  215646     HS-grad              9   \n",
              "3   53            Private  234721        11th              7   \n",
              "4   28            Private  338409   Bachelors             13   \n",
              "\n",
              "        marital-status          occupation    relationship    race    sex  \\\n",
              "0        Never-married        Adm-clerical   Not-in-family   White   True   \n",
              "1   Married-civ-spouse     Exec-managerial         Husband   White   True   \n",
              "2             Divorced   Handlers-cleaners   Not-in-family   White   True   \n",
              "3   Married-civ-spouse   Handlers-cleaners         Husband   Black   True   \n",
              "4   Married-civ-spouse      Prof-specialty            Wife   Black  False   \n",
              "\n",
              "   capital-gain  capital-loss  hours-per-week  native-country  over50k  \n",
              "0          2174             0              40   United-States    False  \n",
              "1             0             0              13   United-States    False  \n",
              "2             0             0              40   United-States    False  \n",
              "3             0             0              40   United-States    False  \n",
              "4             0             0              40            Cuba    False  "
            ]
          },
          "metadata": {
            "tags": []
          },
          "execution_count": 157
        }
      ]
    },
    {
      "metadata": {
        "id": "3u_JYFwf1esO",
        "colab_type": "code",
        "colab": {
          "base_uri": "https://localhost:8080/",
          "height": 321
        },
        "outputId": "1d583df6-aaf9-4cbe-f8b0-68cccc580277"
      },
      "cell_type": "code",
      "source": [
        "# one hot encode categorical variables\n",
        "# first, let's check the data types to make sure numeric variables are really numeric\n",
        "income_train.dtypes"
      ],
      "execution_count": 158,
      "outputs": [
        {
          "output_type": "execute_result",
          "data": {
            "text/plain": [
              "age                int64\n",
              "workclass         object\n",
              "fnlwgt             int64\n",
              "education         object\n",
              "education-num      int64\n",
              "marital-status    object\n",
              "occupation        object\n",
              "relationship      object\n",
              "race              object\n",
              "sex                 bool\n",
              "capital-gain       int64\n",
              "capital-loss       int64\n",
              "hours-per-week     int64\n",
              "native-country    object\n",
              "over50k             bool\n",
              "dtype: object"
            ]
          },
          "metadata": {
            "tags": []
          },
          "execution_count": 158
        }
      ]
    },
    {
      "metadata": {
        "id": "lRy0yzCR1eu3",
        "colab_type": "code",
        "colab": {}
      },
      "cell_type": "code",
      "source": [
        "# looks fair enough, let's one hot encode the categorical features\n",
        "income_train = pd.get_dummies(income_train, prefix_sep=\"__\",\n",
        "                              columns=['workclass', 'education', 'marital-status',\n",
        "                                      'occupation', 'relationship', 'race', 'native-country'])\n",
        "income_test = pd.get_dummies(income_test, prefix_sep=\"__\",\n",
        "                              columns=['workclass', 'education', 'marital-status',\n",
        "                                      'occupation', 'relationship', 'race', 'native-country'])"
      ],
      "execution_count": 0,
      "outputs": []
    },
    {
      "metadata": {
        "id": "1l1WA6Ag7wZB",
        "colab_type": "code",
        "colab": {
          "base_uri": "https://localhost:8080/",
          "height": 72
        },
        "outputId": "3990bc60-5a35-4d47-98be-84e273ac14de"
      },
      "cell_type": "code",
      "source": [
        "# let's quickly make sure both of these still have the same number of columns\n",
        "print ('Training features', income_train.shape[1] - 1)\n",
        "print ('Testing features', income_test.shape[1] - 1)"
      ],
      "execution_count": 160,
      "outputs": [
        {
          "output_type": "stream",
          "text": [
            "Training features 107\n",
            "Testing features 106\n"
          ],
          "name": "stdout"
        }
      ]
    },
    {
      "metadata": {
        "id": "5yboB-x38CHx",
        "colab_type": "code",
        "colab": {
          "base_uri": "https://localhost:8080/",
          "height": 54
        },
        "outputId": "1d5c0958-adb8-4eba-c264-8af4c6ce7155"
      },
      "cell_type": "code",
      "source": [
        "# whoops, looks like a category was unique to training and not found in test\n",
        "# let's try to isolate that\n",
        "for col in income_train.columns:\n",
        "  if col not in income_test.columns:\n",
        "    print (col)"
      ],
      "execution_count": 161,
      "outputs": [
        {
          "output_type": "stream",
          "text": [
            "native-country__ Holand-Netherlands\n"
          ],
          "name": "stdout"
        }
      ]
    },
    {
      "metadata": {
        "id": "cBF0mCKs8O-o",
        "colab_type": "code",
        "colab": {}
      },
      "cell_type": "code",
      "source": [
        "# simple enough, we just didn't have anyone from Holand in the test data\n",
        "# let's append that column as all zeroes\n",
        "income_test['native-country__ Holand-Netherlands'] = 0\n",
        "assert (income_train.shape[1] == income_test.shape[1])"
      ],
      "execution_count": 0,
      "outputs": []
    },
    {
      "metadata": {
        "id": "RT1LFnFO1lo6",
        "colab_type": "text"
      },
      "cell_type": "markdown",
      "source": [
        "## Part 2 - Fit and present a Logistic Regression\n",
        "\n",
        "Your data should now be in a state to fit a logistic regression. Use scikit-learn, define your `X` (independent variable) and `y`, and fit a model.\n",
        "\n",
        "Then, present results - display coefficients in as interpretible a way as you can (hint - scaling the numeric features will help, as it will at least make coefficients more comparable to each other). If you find it helpful for interpretation, you can also generate predictions for cases (like our 5 year old rich kid on the Titanic) or make visualizations - but the goal is your exploration to be able to answer the question, not any particular plot (i.e. don't worry about polishing it).\n",
        "\n",
        "It is *optional* to use `train_test_split` or validate your model more generally - that is not the core focus for this week. So, it is suggested you focus on fitting a model first, and if you have time at the end you can do further validation."
      ]
    },
    {
      "metadata": {
        "id": "tqEODzXL8uQS",
        "colab_type": "text"
      },
      "cell_type": "markdown",
      "source": [
        "### Logistic Regression\n",
        "\n",
        "We're going to use all features except fnlwgt. UCI gives an explanation of this variable, and it appears to relate to the generalization of the findings here to the US population overall based on demographic characteristics.\n",
        "\n",
        "Since I'm not quite sure what it means, I would prefer to leave it out."
      ]
    },
    {
      "metadata": {
        "id": "s7fTRDXguD7N",
        "colab_type": "code",
        "colab": {}
      },
      "cell_type": "code",
      "source": [
        "target = 'over50k'\n",
        "features = income_train.columns.drop([target, 'fnlwgt'])\n",
        "\n",
        "X_train, y_train = income_train[features], income_train[target]\n",
        "X_test, y_test = income_test[features], income_test[target]"
      ],
      "execution_count": 0,
      "outputs": []
    },
    {
      "metadata": {
        "id": "g8tkpZsPEtE2",
        "colab_type": "text"
      },
      "cell_type": "markdown",
      "source": [
        "First, let's fit a regression without standardizing, allowing maximum interpretability. We an analyze afterwards how much standardizing helps."
      ]
    },
    {
      "metadata": {
        "id": "M0Oo4qaFFp7B",
        "colab_type": "code",
        "colab": {
          "base_uri": "https://localhost:8080/",
          "height": 52
        },
        "outputId": "5a48d1f7-30c4-444a-819c-4b26442c419a"
      },
      "cell_type": "code",
      "source": [
        "# first try, to get a baseline for score without standardizing\n",
        "lr = LogisticRegression(solver='newton-cg')\n",
        "lr.fit(X_train, y_train)\n",
        "print ('Training Score (Standardized)', lr.score(X_train, y_train))\n",
        "print ('Testing Score (Standardized)', lr.score(X_test, y_test))"
      ],
      "execution_count": 164,
      "outputs": [
        {
          "output_type": "stream",
          "text": [
            "Training Score (Standardized) 0.852369398974233\n",
            "Testing Score (Standardized) 0.806707204717155\n"
          ],
          "name": "stdout"
        }
      ]
    },
    {
      "metadata": {
        "id": "LcizmV0p9eIQ",
        "colab_type": "text"
      },
      "cell_type": "markdown",
      "source": [
        "Next, let's fit a regression scaling the features beforehand. This hinders interpretability a bit, but convergence should occur quicker."
      ]
    },
    {
      "metadata": {
        "id": "z8u5H1m89clu",
        "colab_type": "code",
        "colab": {
          "base_uri": "https://localhost:8080/",
          "height": 230
        },
        "outputId": "1546a8ae-f0a8-461f-a6c9-9c295c7cbb06"
      },
      "cell_type": "code",
      "source": [
        "std_scale = StandardScaler()\n",
        "X_train_std = std_scale.fit_transform(X_train)\n",
        "X_test_std = std_scale.transform(X_test)"
      ],
      "execution_count": 165,
      "outputs": [
        {
          "output_type": "stream",
          "text": [
            "/usr/local/lib/python3.6/dist-packages/sklearn/preprocessing/data.py:625: DataConversionWarning:\n",
            "\n",
            "Data with input dtype bool, uint8, int64 were all converted to float64 by StandardScaler.\n",
            "\n",
            "/usr/local/lib/python3.6/dist-packages/sklearn/base.py:462: DataConversionWarning:\n",
            "\n",
            "Data with input dtype bool, uint8, int64 were all converted to float64 by StandardScaler.\n",
            "\n",
            "/usr/local/lib/python3.6/dist-packages/ipykernel_launcher.py:3: DataConversionWarning:\n",
            "\n",
            "Data with input dtype bool, uint8, int64, float64, object were all converted to float64 by StandardScaler.\n",
            "\n"
          ],
          "name": "stderr"
        }
      ]
    },
    {
      "metadata": {
        "id": "2c8h7F1Y-Jjk",
        "colab_type": "code",
        "colab": {
          "base_uri": "https://localhost:8080/",
          "height": 52
        },
        "outputId": "737d4a6f-8037-4c61-b4bd-53d679f871b8"
      },
      "cell_type": "code",
      "source": [
        "# first try, to get a baseline for score using standardized features\n",
        "lr_std = LogisticRegression(solver='newton-cg')\n",
        "lr_std.fit(X_train_std, y_train)\n",
        "print ('Training Score (Standardized)', lr.score(X_train_std, y_train))\n",
        "print ('Testing Score (Standardized)', lr.score(X_test_std, y_test))"
      ],
      "execution_count": 166,
      "outputs": [
        {
          "output_type": "stream",
          "text": [
            "Training Score (Standardized) 0.7663769540247536\n",
            "Testing Score (Standardized) 0.9672624531662675\n"
          ],
          "name": "stdout"
        }
      ]
    },
    {
      "metadata": {
        "id": "1EfTAAavAGkE",
        "colab_type": "text"
      },
      "cell_type": "markdown",
      "source": [
        "Not bad, let's see what happens if we adjust the regularization strength. "
      ]
    },
    {
      "metadata": {
        "id": "haXCRUvX-JuV",
        "colab_type": "code",
        "colab": {}
      },
      "cell_type": "code",
      "source": [
        "c_list = np.arange(0, 10, 0.5)\n",
        "scores = []\n",
        "\n",
        "for c in c_list:\n",
        "  lr_temp = LogisticRegression(C=10**c, solver='newton-cg')\n",
        "  lr_temp.fit(X_train_std, y_train)\n",
        "  scores.append(lr_temp.score(X_test_std, y_test))"
      ],
      "execution_count": 0,
      "outputs": []
    },
    {
      "metadata": {
        "id": "LpHF3pIt-JxH",
        "colab_type": "code",
        "colab": {
          "base_uri": "https://localhost:8080/",
          "height": 375
        },
        "outputId": "f5521928-f7ad-4108-a343-abd8e61b3db5"
      },
      "cell_type": "code",
      "source": [
        "# plottig regularizations strength effects\n",
        "fig, ax = plt.subplots()\n",
        "ax.plot(c_list, scores)\n",
        "ax.set_xlabel('Regularization Strength')\n",
        "ax.set_ylabel('Test MSE')\n",
        "ax.set_title('Logistic Regression Regularization Optimization')\n",
        "plt.show()"
      ],
      "execution_count": 168,
      "outputs": [
        {
          "output_type": "display_data",
          "data": {
            "image/png": "[encoded data removed]",
            "text/plain": [
              "<Figure size 576x396 with 1 Axes>"
            ]
          },
          "metadata": {
            "tags": []
          }
        }
      ]
    },
    {
      "metadata": {
        "id": "7LMQcTZyEfHX",
        "colab_type": "text"
      },
      "cell_type": "markdown",
      "source": [
        "The regularization parameter doesn't seem to help us much, overfitting does not seem to be an issue.\n",
        "\n",
        "Further, in part because of the above statement, standardizing parameters does not help us much. Let's report the coefficients of the unstandardized features, allowing easier interpretation."
      ]
    },
    {
      "metadata": {
        "id": "vMjMkV25GVib",
        "colab_type": "code",
        "colab": {
          "base_uri": "https://localhost:8080/",
          "height": 1954
        },
        "outputId": "e31aebbb-7b07-4139-dd2b-8f352780df04"
      },
      "cell_type": "code",
      "source": [
        "print ('-' * 80)\n",
        "print('{:<50s}{:>15s}{:>15s}'.format('Feature','Coefficient','Odds Ratio'))\n",
        "print ('-' * 80)\n",
        "\n",
        "for feat, coef in (zip(income_train[features].columns, lr.coef_[0])):\n",
        "    print('{:<50s}{:>15f}{:>15f}'.format(feat,round(coef,2),round(np.exp(coef),2)))\n"
      ],
      "execution_count": 169,
      "outputs": [
        {
          "output_type": "stream",
          "text": [
            "--------------------------------------------------------------------------------\n",
            "Feature                                               Coefficient     Odds Ratio\n",
            "--------------------------------------------------------------------------------\n",
            "age                                                      0.030000       1.030000\n",
            "education-num                                            0.290000       1.340000\n",
            "sex                                                      0.860000       2.350000\n",
            "capital-gain                                             0.000000       1.000000\n",
            "capital-loss                                             0.000000       1.000000\n",
            "hours-per-week                                           0.030000       1.030000\n",
            "workclass__ Federal-gov                                  0.730000       2.080000\n",
            "workclass__ Local-gov                                    0.060000       1.060000\n",
            "workclass__ Never-worked                                -0.140000       0.870000\n",
            "workclass__ Private                                      0.240000       1.280000\n",
            "workclass__ Self-emp-inc                                 0.410000       1.510000\n",
            "workclass__ Self-emp-not-inc                            -0.250000       0.780000\n",
            "workclass__ State-gov                                   -0.070000       0.930000\n",
            "workclass__ Without-pay                                 -0.920000       0.400000\n",
            "workclass__Private                                      -0.060000       0.940000\n",
            "education__ 10th                                         0.060000       1.060000\n",
            "education__ 11th                                        -0.150000       0.860000\n",
            "education__ 12th                                        -0.050000       0.960000\n",
            "education__ 1st-4th                                      0.600000       1.830000\n",
            "education__ 5th-6th                                      0.640000       1.900000\n",
            "education__ 7th-8th                                      0.160000       1.170000\n",
            "education__ 9th                                          0.140000       1.150000\n",
            "education__ Assoc-acdm                                  -0.370000       0.690000\n",
            "education__ Assoc-voc                                   -0.070000       0.930000\n",
            "education__ Bachelors                                   -0.070000       0.930000\n",
            "education__ Doctorate                                    0.090000       1.100000\n",
            "education__ HS-grad                                     -0.020000       0.980000\n",
            "education__ Masters                                     -0.020000       0.980000\n",
            "education__ Preschool                                   -1.170000       0.310000\n",
            "education__ Prof-school                                  0.180000       1.200000\n",
            "education__ Some-college                                 0.040000       1.040000\n",
            "marital-status__ Divorced                               -0.520000       0.590000\n",
            "marital-status__ Married-AF-spouse                       1.590000       4.900000\n",
            "marital-status__ Married-civ-spouse                      1.480000       4.390000\n",
            "marital-status__ Married-spouse-absent                  -0.520000       0.590000\n",
            "marital-status__ Never-married                          -1.000000       0.370000\n",
            "marital-status__ Separated                              -0.630000       0.530000\n",
            "marital-status__ Widowed                                -0.390000       0.670000\n",
            "occupation__ Adm-clerical                                0.180000       1.200000\n",
            "occupation__ Armed-Forces                               -0.300000       0.740000\n",
            "occupation__ Craft-repair                                0.250000       1.280000\n",
            "occupation__ Exec-managerial                             0.960000       2.610000\n",
            "occupation__ Farming-fishing                            -0.830000       0.430000\n",
            "occupation__ Handlers-cleaners                          -0.490000       0.610000\n",
            "occupation__ Machine-op-inspct                          -0.100000       0.900000\n",
            "occupation__ Other-service                              -0.640000       0.530000\n",
            "occupation__ Priv-house-serv                            -1.600000       0.200000\n",
            "occupation__ Prof-specialty                              0.690000       2.000000\n",
            "occupation__ Protective-serv                             0.750000       2.120000\n",
            "occupation__ Sales                                       0.460000       1.580000\n",
            "occupation__ Tech-support                                0.820000       2.280000\n",
            "occupation__ Transport-moving                            0.070000       1.070000\n",
            "occupation__Other-service                               -0.210000       0.810000\n",
            "relationship__ Husband                                  -0.100000       0.910000\n",
            "relationship__ Not-in-family                             0.270000       1.300000\n",
            "relationship__ Other-relative                           -0.610000       0.540000\n",
            "relationship__ Own-child                                -0.920000       0.400000\n",
            "relationship__ Unmarried                                 0.120000       1.130000\n",
            "relationship__ Wife                                      1.240000       3.450000\n",
            "race__ Amer-Indian-Eskimo                               -0.380000       0.690000\n",
            "race__ Asian-Pac-Islander                                0.270000       1.310000\n",
            "race__ Black                                             0.080000       1.080000\n",
            "race__ Other                                            -0.190000       0.830000\n",
            "race__ White                                             0.220000       1.250000\n",
            "native-country__ Cambodia                                1.080000       2.950000\n",
            "native-country__ Canada                                  0.470000       1.600000\n",
            "native-country__ China                                  -0.440000       0.650000\n",
            "native-country__ Columbia                               -1.250000       0.290000\n",
            "native-country__ Cuba                                    0.500000       1.650000\n",
            "native-country__ Dominican-Republic                     -0.940000       0.390000\n",
            "native-country__ Ecuador                                -0.070000       0.930000\n",
            "native-country__ El-Salvador                            -0.340000       0.710000\n",
            "native-country__ England                                 0.410000       1.510000\n",
            "native-country__ France                                  0.600000       1.820000\n",
            "native-country__ Germany                                 0.560000       1.750000\n",
            "native-country__ Greece                                 -0.650000       0.520000\n",
            "native-country__ Guatemala                              -0.030000       0.970000\n",
            "native-country__ Haiti                                   0.060000       1.070000\n",
            "native-country__ Holand-Netherlands                     -0.020000       0.980000\n",
            "native-country__ Honduras                               -0.190000       0.830000\n",
            "native-country__ Hong                                    0.090000       1.090000\n",
            "native-country__ Hungary                                 0.020000       1.020000\n",
            "native-country__ India                                  -0.180000       0.830000\n",
            "native-country__ Iran                                    0.170000       1.180000\n",
            "native-country__ Ireland                                 0.470000       1.600000\n",
            "native-country__ Italy                                   0.890000       2.430000\n",
            "native-country__ Jamaica                                 0.150000       1.160000\n",
            "native-country__ Japan                                   0.500000       1.650000\n",
            "native-country__ Laos                                   -0.220000       0.800000\n",
            "native-country__ Mexico                                 -0.330000       0.720000\n",
            "native-country__ Nicaragua                              -0.330000       0.720000\n",
            "native-country__ Outlying-US(Guam-USVI-etc)             -0.650000       0.520000\n",
            "native-country__ Peru                                   -0.370000       0.690000\n",
            "native-country__ Philippines                             0.590000       1.800000\n",
            "native-country__ Poland                                  0.130000       1.140000\n",
            "native-country__ Portugal                                0.080000       1.080000\n",
            "native-country__ Puerto-Rico                            -0.140000       0.870000\n",
            "native-country__ Scotland                                0.100000       1.110000\n",
            "native-country__ South                                  -0.770000       0.460000\n",
            "native-country__ Taiwan                                  0.190000       1.210000\n",
            "native-country__ Thailand                               -0.230000       0.800000\n",
            "native-country__ Trinadad&Tobago                        -0.130000       0.880000\n",
            "native-country__ United-States                           0.350000       1.420000\n",
            "native-country__ Vietnam                                -0.740000       0.480000\n",
            "native-country__ Yugoslavia                              0.600000       1.820000\n",
            "native-country__United-States                           -0.020000       0.980000\n"
          ],
          "name": "stdout"
        }
      ]
    },
    {
      "metadata": {
        "id": "BkIa-Sa21qdC",
        "colab_type": "text"
      },
      "cell_type": "markdown",
      "source": [
        "## Part 3 - Analysis, Interpretation, and Questions\n",
        "\n",
        "### Based on your above model, answer the following questions\n",
        "\n",
        "1. What are 3 features positively correlated with income above 50k?\n",
        "2. What are 3 features negatively correlated with income above 50k?\n",
        "3. Overall, how well does the model explain the data and what insights do you derive from it?\n",
        "\n",
        "*These answers count* - that is, make sure to spend some time on them, connecting to your analysis above. There is no single right answer, but as long as you support your reasoning with evidence you are on the right track.\n",
        "\n",
        "Note - scikit-learn logistic regression does *not* automatically perform a hypothesis test on coefficients. That is OK - if you scale the data they are more comparable in weight.\n",
        "\n",
        "### Match the following situation descriptions with the model most appropriate to addressing them\n",
        "\n",
        "In addition to logistic regression, a number of other approaches were covered this week. Pair them with the situations they are most appropriate for, and briefly explain why.\n",
        "\n",
        "Situations:\n",
        "1. You are given data on academic performance of primary school students, and asked to fit a model to help predict \"at-risk\" students who are likely to receive the bottom tier of grades.\n",
        "2. You are studying tech companies and their patterns in releasing new products, and would like to be able to model and predict when a new product is likely to be launched.\n",
        "3. You are working on modeling expected plant size and yield with a laboratory that is able to capture fantastically detailed physical data about plants, but only of a few dozen plants at a time.\n",
        "\n",
        "Approaches:\n",
        "\n",
        "1. Ridge Regression\n",
        "2. Quantile Regression\n",
        "3. Survival Analysis"
      ]
    },
    {
      "metadata": {
        "id": "Yjj0sseiuHib",
        "colab_type": "text"
      },
      "cell_type": "markdown",
      "source": [
        "### Logistic Regression Questions\n",
        "\n",
        "***1. What are 3 features positively correlated with income above 50k?***\n",
        "\n",
        "The table below details all regression features that are positively correlated with income above 50k. The magnitude of the relationship varies widely.\n",
        "\n",
        "From the table below, we can examine a few that standout.\n",
        "\n",
        "**Sex**\n",
        "\n",
        "Males are about 2.35 times as likely to earn more than 50k.\n",
        "\n",
        "**Marriage**\n",
        "\n",
        "Being married to a civilian or armed forces member (Married-civ-spouse or Married-AF-spouse), or being in a relationship with a wife, are strong indicators of making over 50k. Precense of these attributes increases the likelihood of income over 50k by 3.45-4.93 times.\n",
        "\n",
        "**Working for the Federal Govt**\n",
        "\n",
        "A federal government worker is 2.08 times as likely to make over 50k as those working in other sectors."
      ]
    },
    {
      "metadata": {
        "id": "Ngg7vMh4wez1",
        "colab_type": "code",
        "colab": {
          "base_uri": "https://localhost:8080/",
          "height": 1067
        },
        "outputId": "a9f864fd-a347-4ade-9dd1-f792ee73306c"
      },
      "cell_type": "code",
      "source": [
        "# print out features positively correlated with income\n",
        "print ('-' * 80)\n",
        "print('{:<50s}{:>15s}{:>15s}'.format('Feature - Positively Correlated','Coefficient','Odds Ratio'))\n",
        "print ('-' * 80)\n",
        "\n",
        "for feat, coef in (zip(income_train[features].columns, lr.coef_[0])):\n",
        "  if coef > 0.0:\n",
        "    print('{:<50s}{:>15f}{:>15f}'.format(feat,round(coef,2),round(np.exp(coef),2)))\n"
      ],
      "execution_count": 170,
      "outputs": [
        {
          "output_type": "stream",
          "text": [
            "--------------------------------------------------------------------------------\n",
            "Feature - Positively Correlated                       Coefficient     Odds Ratio\n",
            "--------------------------------------------------------------------------------\n",
            "age                                                      0.030000       1.030000\n",
            "education-num                                            0.290000       1.340000\n",
            "sex                                                      0.860000       2.350000\n",
            "capital-gain                                             0.000000       1.000000\n",
            "capital-loss                                             0.000000       1.000000\n",
            "hours-per-week                                           0.030000       1.030000\n",
            "workclass__ Federal-gov                                  0.730000       2.080000\n",
            "workclass__ Local-gov                                    0.060000       1.060000\n",
            "workclass__ Private                                      0.240000       1.280000\n",
            "workclass__ Self-emp-inc                                 0.410000       1.510000\n",
            "education__ 10th                                         0.060000       1.060000\n",
            "education__ 1st-4th                                      0.600000       1.830000\n",
            "education__ 5th-6th                                      0.640000       1.900000\n",
            "education__ 7th-8th                                      0.160000       1.170000\n",
            "education__ 9th                                          0.140000       1.150000\n",
            "education__ Doctorate                                    0.090000       1.100000\n",
            "education__ Prof-school                                  0.180000       1.200000\n",
            "education__ Some-college                                 0.040000       1.040000\n",
            "marital-status__ Married-AF-spouse                       1.590000       4.900000\n",
            "marital-status__ Married-civ-spouse                      1.480000       4.390000\n",
            "occupation__ Adm-clerical                                0.180000       1.200000\n",
            "occupation__ Craft-repair                                0.250000       1.280000\n",
            "occupation__ Exec-managerial                             0.960000       2.610000\n",
            "occupation__ Prof-specialty                              0.690000       2.000000\n",
            "occupation__ Protective-serv                             0.750000       2.120000\n",
            "occupation__ Sales                                       0.460000       1.580000\n",
            "occupation__ Tech-support                                0.820000       2.280000\n",
            "occupation__ Transport-moving                            0.070000       1.070000\n",
            "relationship__ Not-in-family                             0.270000       1.300000\n",
            "relationship__ Unmarried                                 0.120000       1.130000\n",
            "relationship__ Wife                                      1.240000       3.450000\n",
            "race__ Asian-Pac-Islander                                0.270000       1.310000\n",
            "race__ Black                                             0.080000       1.080000\n",
            "race__ White                                             0.220000       1.250000\n",
            "native-country__ Cambodia                                1.080000       2.950000\n",
            "native-country__ Canada                                  0.470000       1.600000\n",
            "native-country__ Cuba                                    0.500000       1.650000\n",
            "native-country__ England                                 0.410000       1.510000\n",
            "native-country__ France                                  0.600000       1.820000\n",
            "native-country__ Germany                                 0.560000       1.750000\n",
            "native-country__ Haiti                                   0.060000       1.070000\n",
            "native-country__ Hong                                    0.090000       1.090000\n",
            "native-country__ Hungary                                 0.020000       1.020000\n",
            "native-country__ Iran                                    0.170000       1.180000\n",
            "native-country__ Ireland                                 0.470000       1.600000\n",
            "native-country__ Italy                                   0.890000       2.430000\n",
            "native-country__ Jamaica                                 0.150000       1.160000\n",
            "native-country__ Japan                                   0.500000       1.650000\n",
            "native-country__ Philippines                             0.590000       1.800000\n",
            "native-country__ Poland                                  0.130000       1.140000\n",
            "native-country__ Portugal                                0.080000       1.080000\n",
            "native-country__ Scotland                                0.100000       1.110000\n",
            "native-country__ Taiwan                                  0.190000       1.210000\n",
            "native-country__ United-States                           0.350000       1.420000\n",
            "native-country__ Yugoslavia                              0.600000       1.820000\n"
          ],
          "name": "stdout"
        }
      ]
    },
    {
      "metadata": {
        "id": "m7uREDowKHvr",
        "colab_type": "text"
      },
      "cell_type": "markdown",
      "source": [
        "***2. What are 3 features negatively correlated with income above 50k?***\n",
        "\n",
        "The table below details all regression features that are positively correlated with income above 50k. The magnitude of the relationship varies widely.\n",
        "\n",
        "From the table below, we can examine a few that standout.\n",
        "\n",
        "**Low Education Levels**\n",
        "\n",
        "Although more chances of making over 50k do not increase monotonically with education levels, low education levels are associated with lower income generally, particularly in the extreme cases.\n",
        "\n",
        "Someone with only a preschool education has 0.31 times the chance of making over 50k, all else equal.\n",
        "\n",
        "**Immigration From Poorer Countries**\n",
        "\n",
        "People who immigrated from especially poor countries like Columbia, the Dominican Republic, and Vietnam tend not to have income exceeding 50k.\n",
        "\n",
        "**Occupation**\n",
        "\n",
        "There seems to be a large disparity in pay between occupations. People who work in private house service (likely performing manual labor tasks), are 0.2 times as likely to have income exceeding 50k."
      ]
    },
    {
      "metadata": {
        "id": "ajmtwQtZMzQL",
        "colab_type": "code",
        "colab": {
          "base_uri": "https://localhost:8080/",
          "height": 996
        },
        "outputId": "3099d5e2-d237-4b11-c53e-f924fd7093fa"
      },
      "cell_type": "code",
      "source": [
        "# print out features negatively correlated with income\n",
        "print ('-' * 80)\n",
        "print('{:<50s}{:>15s}{:>15s}'.format('Feature - Negatively Correlated','Coefficient','Odds Ratio'))\n",
        "print ('-' * 80)\n",
        "\n",
        "for feat, coef in (zip(income_train[features].columns, lr.coef_[0])):\n",
        "  if coef < 0.0:\n",
        "    print('{:<50s}{:>15f}{:>15f}'.format(feat,round(coef,2),round(np.exp(coef),2)))\n"
      ],
      "execution_count": 171,
      "outputs": [
        {
          "output_type": "stream",
          "text": [
            "--------------------------------------------------------------------------------\n",
            "Feature - Negatively Correlated                       Coefficient     Odds Ratio\n",
            "--------------------------------------------------------------------------------\n",
            "workclass__ Never-worked                                -0.140000       0.870000\n",
            "workclass__ Self-emp-not-inc                            -0.250000       0.780000\n",
            "workclass__ State-gov                                   -0.070000       0.930000\n",
            "workclass__ Without-pay                                 -0.920000       0.400000\n",
            "workclass__Private                                      -0.060000       0.940000\n",
            "education__ 11th                                        -0.150000       0.860000\n",
            "education__ 12th                                        -0.050000       0.960000\n",
            "education__ Assoc-acdm                                  -0.370000       0.690000\n",
            "education__ Assoc-voc                                   -0.070000       0.930000\n",
            "education__ Bachelors                                   -0.070000       0.930000\n",
            "education__ HS-grad                                     -0.020000       0.980000\n",
            "education__ Masters                                     -0.020000       0.980000\n",
            "education__ Preschool                                   -1.170000       0.310000\n",
            "marital-status__ Divorced                               -0.520000       0.590000\n",
            "marital-status__ Married-spouse-absent                  -0.520000       0.590000\n",
            "marital-status__ Never-married                          -1.000000       0.370000\n",
            "marital-status__ Separated                              -0.630000       0.530000\n",
            "marital-status__ Widowed                                -0.390000       0.670000\n",
            "occupation__ Armed-Forces                               -0.300000       0.740000\n",
            "occupation__ Farming-fishing                            -0.830000       0.430000\n",
            "occupation__ Handlers-cleaners                          -0.490000       0.610000\n",
            "occupation__ Machine-op-inspct                          -0.100000       0.900000\n",
            "occupation__ Other-service                              -0.640000       0.530000\n",
            "occupation__ Priv-house-serv                            -1.600000       0.200000\n",
            "occupation__Other-service                               -0.210000       0.810000\n",
            "relationship__ Husband                                  -0.100000       0.910000\n",
            "relationship__ Other-relative                           -0.610000       0.540000\n",
            "relationship__ Own-child                                -0.920000       0.400000\n",
            "race__ Amer-Indian-Eskimo                               -0.380000       0.690000\n",
            "race__ Other                                            -0.190000       0.830000\n",
            "native-country__ China                                  -0.440000       0.650000\n",
            "native-country__ Columbia                               -1.250000       0.290000\n",
            "native-country__ Dominican-Republic                     -0.940000       0.390000\n",
            "native-country__ Ecuador                                -0.070000       0.930000\n",
            "native-country__ El-Salvador                            -0.340000       0.710000\n",
            "native-country__ Greece                                 -0.650000       0.520000\n",
            "native-country__ Guatemala                              -0.030000       0.970000\n",
            "native-country__ Holand-Netherlands                     -0.020000       0.980000\n",
            "native-country__ Honduras                               -0.190000       0.830000\n",
            "native-country__ India                                  -0.180000       0.830000\n",
            "native-country__ Laos                                   -0.220000       0.800000\n",
            "native-country__ Mexico                                 -0.330000       0.720000\n",
            "native-country__ Nicaragua                              -0.330000       0.720000\n",
            "native-country__ Outlying-US(Guam-USVI-etc)             -0.650000       0.520000\n",
            "native-country__ Peru                                   -0.370000       0.690000\n",
            "native-country__ Puerto-Rico                            -0.140000       0.870000\n",
            "native-country__ South                                  -0.770000       0.460000\n",
            "native-country__ Thailand                               -0.230000       0.800000\n",
            "native-country__ Trinadad&Tobago                        -0.130000       0.880000\n",
            "native-country__ Vietnam                                -0.740000       0.480000\n",
            "native-country__United-States                           -0.020000       0.980000\n"
          ],
          "name": "stdout"
        }
      ]
    },
    {
      "metadata": {
        "id": "tGZqujofLZTt",
        "colab_type": "text"
      },
      "cell_type": "markdown",
      "source": [
        "3. Overall, how well does the model explain the data and what insights do you derive from it?\n",
        "\n",
        "The classification accuracy on our test data was around 80%, a fairly high accuracy given the situation.\n",
        "\n",
        "That said, the degree of accuracy acheived by a simple logistic regression is concerning. Our features mainly consist of structural factors (education, race, sex, industry). \n",
        "\n",
        "In an ideal world, almost none of these structural factors should predict income. We would prefer that *sex*, for example,  has no predictive power, and that men and women have equal earning power.\n",
        "\n",
        "The question is incredibly complex, and socioeconomic relationships are constantly changing. It would be interesting to see how model accuracy changes as applied to new years of census data."
      ]
    },
    {
      "metadata": {
        "id": "HPkWbkB4wfa1",
        "colab_type": "text"
      },
      "cell_type": "markdown",
      "source": [
        "### Model Matching\n",
        "\n",
        "1. You are given data on academic performance of primary school students, and asked to fit a model to help predict \"at-risk\" students who are likely to receive the bottom tier of grades.\n",
        "\n",
        "**Quantile Regression**\n",
        "\n",
        "Quantile regression creates a line of best fit through a given output quantile (0-100%), instead of through the mean output values.\n",
        "\n",
        "In this case, we would establish a quantile that we would consider the bottom 'tier' of grades. Let's say the bottom 10%.\n",
        "\n",
        "From there, we would use a quantile regression model to predict a line of best fit. Meaning, conditional on X, only 10% of true values would lie below our prediction value.\n",
        "\n",
        "2. You are studying tech companies and their patterns in releasing new products, and would like to be able to model and predict when a new product is likely to be launched.\n",
        "\n",
        "**Survival Analysis**\n",
        "\n",
        "In this case, we can think of the release of a new product as a 'death' event in survival analysis. \n",
        "\n",
        "If the description is referencing the replacement of an existing product, we would represent the existing product as the 'birth' event. If the description is representing a general innovation of a new product, we would represent the release of the last innovative product as the 'birth' event.\n",
        "\n",
        "Either way, survival analysis allows us to fit a model when many of the data points are censored. For example, Google will almost certainly release a new version of GMail. However, since we haven't been able to observe that yet, all we know is \"it has been X months since the last version of GMail was released\". \n",
        "\n",
        "Survival analysis allows us to correct for this censorship in our data.\n",
        "\n",
        "3. You are working on modeling expected plant size and yield with a laboratory that is able to capture fantastically detailed physical data about plants, but only of a few dozen plants at a time.\n",
        "\n",
        "**Ridge Regression**\n",
        "\n",
        "In this case, we have *a lot* of features captured from the physical data, but very few observations. Normal regression techniques are prone to overfitting in these circumstances.\n",
        "\n",
        "Ridge regression places a cost on the size of regression coefficients. This bias introduced by ridge regression mitigates overfitting, and will allow our model to generalize better from the few dozen observations in our data."
      ]
    },
    {
      "metadata": {
        "id": "jcFGn96dwnPq",
        "colab_type": "code",
        "colab": {}
      },
      "cell_type": "code",
      "source": [
        ""
      ],
      "execution_count": 0,
      "outputs": []
    }
  ]
}