{
  "nbformat": 4,
  "nbformat_minor": 0,
  "metadata": {
    "colab": {
      "name": "DS_Unit_2_Sprint_Challenge_3.ipynb",
      "version": "0.3.2",
      "provenance": [],
      "include_colab_link": true
    },
    "kernelspec": {
      "name": "python3",
      "display_name": "Python 3"
    }
  },
  "cells": [
    {
      "cell_type": "markdown",
      "metadata": {
        "id": "view-in-github",
        "colab_type": "text"
      },
      "source": [
        "<a href=\"https://colab.research.google.com/github/cocoisland/DS-Unit-2-Sprint-3-Advanced-Regression/blob/master/DS_Unit_2_Sprint_Challenge_3.ipynb\" target=\"_parent\"><img src=\"https://colab.research.google.com/assets/colab-badge.svg\" alt=\"Open In Colab\"/></a>"
      ]
    },
    {
      "metadata": {
        "id": "ayDccRP01GJD",
        "colab_type": "text"
      },
      "cell_type": "markdown",
      "source": [
        "# Data Science Unit 2 Sprint Challenge 3\n",
        "\n",
        "## Logistic Regression and Beyond\n",
        "\n",
        "In this sprint challenge you will fit a logistic regression modeling the probability of an adult having an income above 50K. The dataset is available at UCI:\n",
        "\n",
        "https://archive.ics.uci.edu/ml/datasets/adult\n",
        "\n",
        "Your goal is to:\n",
        "\n",
        "1. Load, validate, and clean/prepare the data.\n",
        "2. Fit a logistic regression model\n",
        "3. Answer questions based on the results (as well as a few extra questions about the other modules)\n",
        "\n",
        "Don't let the perfect be the enemy of the good! Manage your time, and make sure to get to all parts. If you get stuck wrestling with the data, simplify it (if necessary, drop features or rows) so you're able to move on. If you have time at the end, you can go back and try to fix/improve.\n",
        "\n",
        "### Hints\n",
        "\n",
        "It has a variety of features - some are continuous, but many are categorical. You may find [pandas.get_dummies](https://pandas.pydata.org/pandas-docs/stable/generated/pandas.get_dummies.html) (a method to one-hot encode) helpful!\n",
        "\n",
        "The features have dramatically different ranges. You may find [sklearn.preprocessing.minmax_scale](https://scikit-learn.org/stable/modules/generated/sklearn.preprocessing.minmax_scale.html#sklearn.preprocessing.minmax_scale) helpful!"
      ]
    },
    {
      "metadata": {
        "id": "U22R1Ud51hxb",
        "colab_type": "text"
      },
      "cell_type": "markdown",
      "source": [
        "## Part 1 - Load, validate, and prepare data\n",
        "\n",
        "The data is available at: https://archive.ics.uci.edu/ml/datasets/adult\n",
        "\n",
        "Load it, name the columns, and make sure that you've loaded the data successfully. Note that missing values for categorical variables can essentially be considered another category (\"unknown\"), and may not need to be dropped.\n",
        "\n",
        "You should also prepare the data for logistic regression - one-hot encode categorical features as appropriate."
      ]
    },
    {
      "metadata": {
        "id": "SeOByIkht-NS",
        "colab_type": "code",
        "colab": {
          "base_uri": "https://localhost:8080/",
          "height": 34
        },
        "outputId": "eb5b2c1c-e869-464c-cfe5-1a56ea36b08c"
      },
      "cell_type": "code",
      "source": [
        "import pandas as pd\n",
        "import numpy as np\n",
        "\n",
        "url = 'https://archive.ics.uci.edu/ml/machine-learning-databases/adult/adult.data'\n",
        "df = pd.read_csv(url, header=None , na_values=['?'],\n",
        "                names=[\n",
        "                    'age', \n",
        "                    'workclass',\n",
        "                    'fnlwgt',\n",
        "                    'education',\n",
        "                    'education-num',\n",
        "                    'marital-status',\n",
        "                    'occupation',\n",
        "                    'relationship',\n",
        "                    'race',\n",
        "                    'sex',\n",
        "                    'capital-gain',\n",
        "                    'capital-loss',\n",
        "                    'hours-per-week',\n",
        "                    'native-country',\n",
        "                    'income'\n",
        "                ])\n",
        "df.shape"
      ],
      "execution_count": 2,
      "outputs": [
        {
          "output_type": "execute_result",
          "data": {
            "text/plain": [
              "(32561, 15)"
            ]
          },
          "metadata": {
            "tags": []
          },
          "execution_count": 2
        }
      ]
    },
    {
      "metadata": {
        "id": "OEsk5ITi4Vq6",
        "colab_type": "code",
        "colab": {
          "base_uri": "https://localhost:8080/",
          "height": 301
        },
        "outputId": "26f8c4e3-b628-4018-dcaa-0a4fcf22713b"
      },
      "cell_type": "code",
      "source": [
        "df.head()"
      ],
      "execution_count": 28,
      "outputs": [
        {
          "output_type": "execute_result",
          "data": {
            "text/html": [
              "<div>\n",
              "<style scoped>\n",
              "    .dataframe tbody tr th:only-of-type {\n",
              "        vertical-align: middle;\n",
              "    }\n",
              "\n",
              "    .dataframe tbody tr th {\n",
              "        vertical-align: top;\n",
              "    }\n",
              "\n",
              "    .dataframe thead th {\n",
              "        text-align: right;\n",
              "    }\n",
              "</style>\n",
              "<table border=\"1\" class=\"dataframe\">\n",
              "  <thead>\n",
              "    <tr style=\"text-align: right;\">\n",
              "      <th></th>\n",
              "      <th>age</th>\n",
              "      <th>workclass</th>\n",
              "      <th>fnlwgt</th>\n",
              "      <th>education</th>\n",
              "      <th>education-num</th>\n",
              "      <th>marital-status</th>\n",
              "      <th>occupation</th>\n",
              "      <th>relationship</th>\n",
              "      <th>race</th>\n",
              "      <th>sex</th>\n",
              "      <th>capital-gain</th>\n",
              "      <th>capital-loss</th>\n",
              "      <th>hours-per-week</th>\n",
              "      <th>native-country</th>\n",
              "      <th>income</th>\n",
              "    </tr>\n",
              "  </thead>\n",
              "  <tbody>\n",
              "    <tr>\n",
              "      <th>0</th>\n",
              "      <td>39</td>\n",
              "      <td>State-gov</td>\n",
              "      <td>77516</td>\n",
              "      <td>Bachelors</td>\n",
              "      <td>13</td>\n",
              "      <td>Never-married</td>\n",
              "      <td>Adm-clerical</td>\n",
              "      <td>Not-in-family</td>\n",
              "      <td>White</td>\n",
              "      <td>Male</td>\n",
              "      <td>2174</td>\n",
              "      <td>0</td>\n",
              "      <td>40</td>\n",
              "      <td>United-States</td>\n",
              "      <td>&lt;=50K</td>\n",
              "    </tr>\n",
              "    <tr>\n",
              "      <th>1</th>\n",
              "      <td>50</td>\n",
              "      <td>Self-emp-not-inc</td>\n",
              "      <td>83311</td>\n",
              "      <td>Bachelors</td>\n",
              "      <td>13</td>\n",
              "      <td>Married-civ-spouse</td>\n",
              "      <td>Exec-managerial</td>\n",
              "      <td>Husband</td>\n",
              "      <td>White</td>\n",
              "      <td>Male</td>\n",
              "      <td>0</td>\n",
              "      <td>0</td>\n",
              "      <td>13</td>\n",
              "      <td>United-States</td>\n",
              "      <td>&lt;=50K</td>\n",
              "    </tr>\n",
              "    <tr>\n",
              "      <th>2</th>\n",
              "      <td>38</td>\n",
              "      <td>Private</td>\n",
              "      <td>215646</td>\n",
              "      <td>HS-grad</td>\n",
              "      <td>9</td>\n",
              "      <td>Divorced</td>\n",
              "      <td>Handlers-cleaners</td>\n",
              "      <td>Not-in-family</td>\n",
              "      <td>White</td>\n",
              "      <td>Male</td>\n",
              "      <td>0</td>\n",
              "      <td>0</td>\n",
              "      <td>40</td>\n",
              "      <td>United-States</td>\n",
              "      <td>&lt;=50K</td>\n",
              "    </tr>\n",
              "    <tr>\n",
              "      <th>3</th>\n",
              "      <td>53</td>\n",
              "      <td>Private</td>\n",
              "      <td>234721</td>\n",
              "      <td>11th</td>\n",
              "      <td>7</td>\n",
              "      <td>Married-civ-spouse</td>\n",
              "      <td>Handlers-cleaners</td>\n",
              "      <td>Husband</td>\n",
              "      <td>Black</td>\n",
              "      <td>Male</td>\n",
              "      <td>0</td>\n",
              "      <td>0</td>\n",
              "      <td>40</td>\n",
              "      <td>United-States</td>\n",
              "      <td>&lt;=50K</td>\n",
              "    </tr>\n",
              "    <tr>\n",
              "      <th>4</th>\n",
              "      <td>28</td>\n",
              "      <td>Private</td>\n",
              "      <td>338409</td>\n",
              "      <td>Bachelors</td>\n",
              "      <td>13</td>\n",
              "      <td>Married-civ-spouse</td>\n",
              "      <td>Prof-specialty</td>\n",
              "      <td>Wife</td>\n",
              "      <td>Black</td>\n",
              "      <td>Female</td>\n",
              "      <td>0</td>\n",
              "      <td>0</td>\n",
              "      <td>40</td>\n",
              "      <td>Cuba</td>\n",
              "      <td>&lt;=50K</td>\n",
              "    </tr>\n",
              "  </tbody>\n",
              "</table>\n",
              "</div>"
            ],
            "text/plain": [
              "   age          workclass  fnlwgt   education  education-num  \\\n",
              "0   39          State-gov   77516   Bachelors             13   \n",
              "1   50   Self-emp-not-inc   83311   Bachelors             13   \n",
              "2   38            Private  215646     HS-grad              9   \n",
              "3   53            Private  234721        11th              7   \n",
              "4   28            Private  338409   Bachelors             13   \n",
              "\n",
              "        marital-status          occupation    relationship    race      sex  \\\n",
              "0        Never-married        Adm-clerical   Not-in-family   White     Male   \n",
              "1   Married-civ-spouse     Exec-managerial         Husband   White     Male   \n",
              "2             Divorced   Handlers-cleaners   Not-in-family   White     Male   \n",
              "3   Married-civ-spouse   Handlers-cleaners         Husband   Black     Male   \n",
              "4   Married-civ-spouse      Prof-specialty            Wife   Black   Female   \n",
              "\n",
              "   capital-gain  capital-loss  hours-per-week  native-country  income  \n",
              "0          2174             0              40   United-States   <=50K  \n",
              "1             0             0              13   United-States   <=50K  \n",
              "2             0             0              40   United-States   <=50K  \n",
              "3             0             0              40   United-States   <=50K  \n",
              "4             0             0              40            Cuba   <=50K  "
            ]
          },
          "metadata": {
            "tags": []
          },
          "execution_count": 28
        }
      ]
    },
    {
      "metadata": {
        "id": "vkbkPPdt86rB",
        "colab_type": "code",
        "colab": {
          "base_uri": "https://localhost:8080/",
          "height": 288
        },
        "outputId": "299f7f43-1931-4cf3-87ed-15fb24f8689c"
      },
      "cell_type": "code",
      "source": [
        "df.describe()"
      ],
      "execution_count": 29,
      "outputs": [
        {
          "output_type": "execute_result",
          "data": {
            "text/html": [
              "<div>\n",
              "<style scoped>\n",
              "    .dataframe tbody tr th:only-of-type {\n",
              "        vertical-align: middle;\n",
              "    }\n",
              "\n",
              "    .dataframe tbody tr th {\n",
              "        vertical-align: top;\n",
              "    }\n",
              "\n",
              "    .dataframe thead th {\n",
              "        text-align: right;\n",
              "    }\n",
              "</style>\n",
              "<table border=\"1\" class=\"dataframe\">\n",
              "  <thead>\n",
              "    <tr style=\"text-align: right;\">\n",
              "      <th></th>\n",
              "      <th>age</th>\n",
              "      <th>fnlwgt</th>\n",
              "      <th>education-num</th>\n",
              "      <th>capital-gain</th>\n",
              "      <th>capital-loss</th>\n",
              "      <th>hours-per-week</th>\n",
              "    </tr>\n",
              "  </thead>\n",
              "  <tbody>\n",
              "    <tr>\n",
              "      <th>count</th>\n",
              "      <td>32561.000000</td>\n",
              "      <td>3.256100e+04</td>\n",
              "      <td>32561.000000</td>\n",
              "      <td>32561.000000</td>\n",
              "      <td>32561.000000</td>\n",
              "      <td>32561.000000</td>\n",
              "    </tr>\n",
              "    <tr>\n",
              "      <th>mean</th>\n",
              "      <td>38.581647</td>\n",
              "      <td>1.897784e+05</td>\n",
              "      <td>10.080679</td>\n",
              "      <td>1077.648844</td>\n",
              "      <td>87.303830</td>\n",
              "      <td>40.437456</td>\n",
              "    </tr>\n",
              "    <tr>\n",
              "      <th>std</th>\n",
              "      <td>13.640433</td>\n",
              "      <td>1.055500e+05</td>\n",
              "      <td>2.572720</td>\n",
              "      <td>7385.292085</td>\n",
              "      <td>402.960219</td>\n",
              "      <td>12.347429</td>\n",
              "    </tr>\n",
              "    <tr>\n",
              "      <th>min</th>\n",
              "      <td>17.000000</td>\n",
              "      <td>1.228500e+04</td>\n",
              "      <td>1.000000</td>\n",
              "      <td>0.000000</td>\n",
              "      <td>0.000000</td>\n",
              "      <td>1.000000</td>\n",
              "    </tr>\n",
              "    <tr>\n",
              "      <th>25%</th>\n",
              "      <td>28.000000</td>\n",
              "      <td>1.178270e+05</td>\n",
              "      <td>9.000000</td>\n",
              "      <td>0.000000</td>\n",
              "      <td>0.000000</td>\n",
              "      <td>40.000000</td>\n",
              "    </tr>\n",
              "    <tr>\n",
              "      <th>50%</th>\n",
              "      <td>37.000000</td>\n",
              "      <td>1.783560e+05</td>\n",
              "      <td>10.000000</td>\n",
              "      <td>0.000000</td>\n",
              "      <td>0.000000</td>\n",
              "      <td>40.000000</td>\n",
              "    </tr>\n",
              "    <tr>\n",
              "      <th>75%</th>\n",
              "      <td>48.000000</td>\n",
              "      <td>2.370510e+05</td>\n",
              "      <td>12.000000</td>\n",
              "      <td>0.000000</td>\n",
              "      <td>0.000000</td>\n",
              "      <td>45.000000</td>\n",
              "    </tr>\n",
              "    <tr>\n",
              "      <th>max</th>\n",
              "      <td>90.000000</td>\n",
              "      <td>1.484705e+06</td>\n",
              "      <td>16.000000</td>\n",
              "      <td>99999.000000</td>\n",
              "      <td>4356.000000</td>\n",
              "      <td>99.000000</td>\n",
              "    </tr>\n",
              "  </tbody>\n",
              "</table>\n",
              "</div>"
            ],
            "text/plain": [
              "                age        fnlwgt  education-num  capital-gain  capital-loss  \\\n",
              "count  32561.000000  3.256100e+04   32561.000000  32561.000000  32561.000000   \n",
              "mean      38.581647  1.897784e+05      10.080679   1077.648844     87.303830   \n",
              "std       13.640433  1.055500e+05       2.572720   7385.292085    402.960219   \n",
              "min       17.000000  1.228500e+04       1.000000      0.000000      0.000000   \n",
              "25%       28.000000  1.178270e+05       9.000000      0.000000      0.000000   \n",
              "50%       37.000000  1.783560e+05      10.000000      0.000000      0.000000   \n",
              "75%       48.000000  2.370510e+05      12.000000      0.000000      0.000000   \n",
              "max       90.000000  1.484705e+06      16.000000  99999.000000   4356.000000   \n",
              "\n",
              "       hours-per-week  \n",
              "count    32561.000000  \n",
              "mean        40.437456  \n",
              "std         12.347429  \n",
              "min          1.000000  \n",
              "25%         40.000000  \n",
              "50%         40.000000  \n",
              "75%         45.000000  \n",
              "max         99.000000  "
            ]
          },
          "metadata": {
            "tags": []
          },
          "execution_count": 29
        }
      ]
    },
    {
      "metadata": {
        "id": "JJCFJZ7i7ZjA",
        "colab_type": "code",
        "colab": {
          "base_uri": "https://localhost:8080/",
          "height": 238
        },
        "outputId": "e84f4905-28a5-4d34-fe42-fe8d7d753f8d"
      },
      "cell_type": "code",
      "source": [
        "# encode every categorical values into numeric. Logistic regression has \n",
        "# regularization built-in to handle overfitting problem.\n",
        "\n",
        "#all_df = pd.get_dummies(train_df).drop('income_ <=50K', axis='columns')\n",
        "\n",
        "df_all = pd.get_dummies(df.drop('income', axis=1))\n",
        "df_all.head(3)"
      ],
      "execution_count": 29,
      "outputs": [
        {
          "output_type": "execute_result",
          "data": {
            "text/html": [
              "<div>\n",
              "<style scoped>\n",
              "    .dataframe tbody tr th:only-of-type {\n",
              "        vertical-align: middle;\n",
              "    }\n",
              "\n",
              "    .dataframe tbody tr th {\n",
              "        vertical-align: top;\n",
              "    }\n",
              "\n",
              "    .dataframe thead th {\n",
              "        text-align: right;\n",
              "    }\n",
              "</style>\n",
              "<table border=\"1\" class=\"dataframe\">\n",
              "  <thead>\n",
              "    <tr style=\"text-align: right;\">\n",
              "      <th></th>\n",
              "      <th>age</th>\n",
              "      <th>fnlwgt</th>\n",
              "      <th>education-num</th>\n",
              "      <th>capital-gain</th>\n",
              "      <th>capital-loss</th>\n",
              "      <th>hours-per-week</th>\n",
              "      <th>workclass_ ?</th>\n",
              "      <th>workclass_ Federal-gov</th>\n",
              "      <th>workclass_ Local-gov</th>\n",
              "      <th>workclass_ Never-worked</th>\n",
              "      <th>...</th>\n",
              "      <th>native-country_ Portugal</th>\n",
              "      <th>native-country_ Puerto-Rico</th>\n",
              "      <th>native-country_ Scotland</th>\n",
              "      <th>native-country_ South</th>\n",
              "      <th>native-country_ Taiwan</th>\n",
              "      <th>native-country_ Thailand</th>\n",
              "      <th>native-country_ Trinadad&amp;Tobago</th>\n",
              "      <th>native-country_ United-States</th>\n",
              "      <th>native-country_ Vietnam</th>\n",
              "      <th>native-country_ Yugoslavia</th>\n",
              "    </tr>\n",
              "  </thead>\n",
              "  <tbody>\n",
              "    <tr>\n",
              "      <th>0</th>\n",
              "      <td>39</td>\n",
              "      <td>77516</td>\n",
              "      <td>13</td>\n",
              "      <td>2174</td>\n",
              "      <td>0</td>\n",
              "      <td>40</td>\n",
              "      <td>0</td>\n",
              "      <td>0</td>\n",
              "      <td>0</td>\n",
              "      <td>0</td>\n",
              "      <td>...</td>\n",
              "      <td>0</td>\n",
              "      <td>0</td>\n",
              "      <td>0</td>\n",
              "      <td>0</td>\n",
              "      <td>0</td>\n",
              "      <td>0</td>\n",
              "      <td>0</td>\n",
              "      <td>1</td>\n",
              "      <td>0</td>\n",
              "      <td>0</td>\n",
              "    </tr>\n",
              "    <tr>\n",
              "      <th>1</th>\n",
              "      <td>50</td>\n",
              "      <td>83311</td>\n",
              "      <td>13</td>\n",
              "      <td>0</td>\n",
              "      <td>0</td>\n",
              "      <td>13</td>\n",
              "      <td>0</td>\n",
              "      <td>0</td>\n",
              "      <td>0</td>\n",
              "      <td>0</td>\n",
              "      <td>...</td>\n",
              "      <td>0</td>\n",
              "      <td>0</td>\n",
              "      <td>0</td>\n",
              "      <td>0</td>\n",
              "      <td>0</td>\n",
              "      <td>0</td>\n",
              "      <td>0</td>\n",
              "      <td>1</td>\n",
              "      <td>0</td>\n",
              "      <td>0</td>\n",
              "    </tr>\n",
              "    <tr>\n",
              "      <th>2</th>\n",
              "      <td>38</td>\n",
              "      <td>215646</td>\n",
              "      <td>9</td>\n",
              "      <td>0</td>\n",
              "      <td>0</td>\n",
              "      <td>40</td>\n",
              "      <td>0</td>\n",
              "      <td>0</td>\n",
              "      <td>0</td>\n",
              "      <td>0</td>\n",
              "      <td>...</td>\n",
              "      <td>0</td>\n",
              "      <td>0</td>\n",
              "      <td>0</td>\n",
              "      <td>0</td>\n",
              "      <td>0</td>\n",
              "      <td>0</td>\n",
              "      <td>0</td>\n",
              "      <td>1</td>\n",
              "      <td>0</td>\n",
              "      <td>0</td>\n",
              "    </tr>\n",
              "  </tbody>\n",
              "</table>\n",
              "<p>3 rows × 108 columns</p>\n",
              "</div>"
            ],
            "text/plain": [
              "   age  fnlwgt  education-num  capital-gain  capital-loss  hours-per-week  \\\n",
              "0   39   77516             13          2174             0              40   \n",
              "1   50   83311             13             0             0              13   \n",
              "2   38  215646              9             0             0              40   \n",
              "\n",
              "   workclass_ ?  workclass_ Federal-gov  workclass_ Local-gov  \\\n",
              "0             0                       0                     0   \n",
              "1             0                       0                     0   \n",
              "2             0                       0                     0   \n",
              "\n",
              "   workclass_ Never-worked             ...              \\\n",
              "0                        0             ...               \n",
              "1                        0             ...               \n",
              "2                        0             ...               \n",
              "\n",
              "   native-country_ Portugal  native-country_ Puerto-Rico  \\\n",
              "0                         0                            0   \n",
              "1                         0                            0   \n",
              "2                         0                            0   \n",
              "\n",
              "   native-country_ Scotland  native-country_ South  native-country_ Taiwan  \\\n",
              "0                         0                      0                       0   \n",
              "1                         0                      0                       0   \n",
              "2                         0                      0                       0   \n",
              "\n",
              "   native-country_ Thailand  native-country_ Trinadad&Tobago  \\\n",
              "0                         0                                0   \n",
              "1                         0                                0   \n",
              "2                         0                                0   \n",
              "\n",
              "   native-country_ United-States  native-country_ Vietnam  \\\n",
              "0                              1                        0   \n",
              "1                              1                        0   \n",
              "2                              1                        0   \n",
              "\n",
              "   native-country_ Yugoslavia  \n",
              "0                           0  \n",
              "1                           0  \n",
              "2                           0  \n",
              "\n",
              "[3 rows x 108 columns]"
            ]
          },
          "metadata": {
            "tags": []
          },
          "execution_count": 29
        }
      ]
    },
    {
      "metadata": {
        "id": "RT1LFnFO1lo6",
        "colab_type": "text"
      },
      "cell_type": "markdown",
      "source": [
        "## Part 2 - Fit and present a Logistic Regression\n",
        "\n",
        "Your data should now be in a state to fit a logistic regression. Use scikit-learn, define your `X` (independent variable) and `y`, and fit a model.\n",
        "\n",
        "Then, present results - display coefficients in as interpretible a way as you can (hint - scaling the numeric features will help, as it will at least make coefficients more comparable to each other). If you find it helpful for interpretation, you can also generate predictions for cases (like our 5 year old rich kid on the Titanic) or make visualizations - but the goal is your exploration to be able to answer the question, not any particular plot (i.e. don't worry about polishing it).\n",
        "\n",
        "It is *optional* to use `train_test_split` or validate your model more generally - that is not the core focus for this week. So, it is suggested you focus on fitting a model first, and if you have time at the end you can do further validation."
      ]
    },
    {
      "metadata": {
        "id": "OGNVwcFh-RJX",
        "colab_type": "code",
        "colab": {
          "base_uri": "https://localhost:8080/",
          "height": 34
        },
        "outputId": "54e2d1e7-0352-4b2c-a405-1f9d80922bcb"
      },
      "cell_type": "code",
      "source": [
        "from sklearn.linear_model import LogisticRegression\n",
        "from sklearn.preprocessing import MinMaxScaler\n",
        "from sklearn.preprocessing import minmax_scale\n",
        "from sklearn.preprocessing import scale\n",
        "\n",
        "'''MinMaxscaler = minmax_scale\n",
        "This estimator scales and translates each feature individually such\n",
        "that it is in the given range on the training set, i.e. between\n",
        "zero and one.'''\n",
        "\n",
        "'''scale\n",
        "Center to the mean and component wise scale to unit variance.'''\n",
        "\n",
        "'''StandardScaler removes the mean and scales the data to unit variance.'''"
      ],
      "execution_count": 1,
      "outputs": [
        {
          "output_type": "execute_result",
          "data": {
            "text/plain": [
              "'StandardScaler removes the mean and scales the data to unit variance.'"
            ]
          },
          "metadata": {
            "tags": []
          },
          "execution_count": 1
        }
      ]
    },
    {
      "metadata": {
        "id": "TVid7gxVrvJ9",
        "colab_type": "code",
        "colab": {
          "base_uri": "https://localhost:8080/",
          "height": 243
        },
        "outputId": "9c2518d1-19bf-4386-dc47-b2efc40d5ddd"
      },
      "cell_type": "code",
      "source": [
        "# Using sklearn.preprocessing.scale - center to mean and scale to unit variance.\n",
        "\n",
        "from sklearn.preprocessing import scale\n",
        "\n",
        "X = df._get_numeric_data() # get numerical features only\n",
        "y = df['income']\n",
        "\n",
        "colnames=X.columns\n",
        "\n",
        "#center to mean and scale to unit variance.\n",
        "X=scale(X)\n",
        "\n",
        "log_reg = LogisticRegression(solver='lbfgs').fit(X, y)\n",
        "log_score = log_reg.score(X, y)\n",
        "\n",
        "zipped = zip(colnames, log_reg.coef_[0])\n",
        "\n",
        "print(f'LogReg score (excluding categorical value):\\n{log_score}')\n",
        "print('\\nLogReg coefficient (using scale)')\n",
        "for col, coef in sorted(zipped, key=lambda t:t[1], reverse=True):\n",
        "  print(f'{col}:\\t\\t {coef}')"
      ],
      "execution_count": 11,
      "outputs": [
        {
          "output_type": "stream",
          "text": [
            "/usr/local/lib/python3.6/dist-packages/ipykernel_launcher.py:10: DataConversionWarning: Data with input dtype int64 were all converted to float64 by the scale function.\n",
            "  # Remove the CWD from sys.path while we load stuff.\n"
          ],
          "name": "stderr"
        },
        {
          "output_type": "stream",
          "text": [
            "LogReg score (excluding categorical value):\n",
            "0.8153926476459569\n",
            "\n",
            "LogReg coefficient (using scale)\n",
            "capital-gain:\t\t 2.3410081381951624\n",
            "education-num:\t\t 0.8310900882703443\n",
            "age:\t\t 0.5914866310753542\n",
            "hours-per-week:\t\t 0.5048868077211447\n",
            "capital-loss:\t\t 0.2820908843093314\n",
            "fnlwgt:\t\t 0.06025803610630181\n"
          ],
          "name": "stdout"
        }
      ]
    },
    {
      "metadata": {
        "id": "ZOXrTQj-8EV4",
        "colab_type": "code",
        "colab": {
          "base_uri": "https://localhost:8080/",
          "height": 223
        },
        "outputId": "0bdfb956-0c6a-4585-9095-8cba77e24863"
      },
      "cell_type": "code",
      "source": [
        "# Logistic Regression score excluding categorical value\n",
        "# Using minmax_scale to value in the range of [0,1]\n",
        "\n",
        "X = df._get_numeric_data() # get numerical features only\n",
        "y = df['income']\n",
        "\n",
        "colnames=X.columns\n",
        "\n",
        "#X = MinMaxScaler().fit_transform(X)\n",
        "X=minmax_scale(X)\n",
        "\n",
        "log_reg = LogisticRegression(solver='lbfgs').fit(X, y)\n",
        "log_score = log_reg.score(X, y)\n",
        "\n",
        "zipped = zip(colnames, log_reg.coef_[0])\n",
        "\n",
        "print(f'LogReg score (excluding categorical value):\\n{log_score}')\n",
        "print('\\nLogReg coefficient (using minmax_scale between [0,1])')\n",
        "for col, coef in sorted(zipped, key=lambda t:t[1], reverse=True):\n",
        "  print(f'{col}:\\t\\t {coef}')"
      ],
      "execution_count": 12,
      "outputs": [
        {
          "output_type": "stream",
          "text": [
            "/usr/local/lib/python3.6/dist-packages/ipykernel_launcher.py:8: DataConversionWarning: Data with input dtype int64 were all converted to float64.\n",
            "  \n"
          ],
          "name": "stderr"
        },
        {
          "output_type": "stream",
          "text": [
            "LogReg score (excluding categorical value):\n",
            "0.8122600657227972\n",
            "\n",
            "LogReg coefficient (using minmax_scale between [0,1])\n",
            "capital-gain:\t\t 18.91269174928919\n",
            "education-num:\t\t 4.7687095404174675\n",
            "hours-per-week:\t\t 3.928773917867686\n",
            "age:\t\t 3.1561438939495274\n",
            "capital-loss:\t\t 2.840373530589793\n",
            "fnlwgt:\t\t 0.7929947924867186\n"
          ],
          "name": "stdout"
        }
      ]
    },
    {
      "metadata": {
        "id": "bM5uOc-EqWg7",
        "colab_type": "code",
        "colab": {
          "base_uri": "https://localhost:8080/",
          "height": 34
        },
        "outputId": "669b04b6-6af6-48ff-c6e2-4879307286d5"
      },
      "cell_type": "code",
      "source": [
        "# positively correlated to income>50K\n",
        "test_case = np.array([[1, 0, 1, 1, 0, 0]])\n",
        "log_reg.predict(test_case)"
      ],
      "execution_count": 4,
      "outputs": [
        {
          "output_type": "execute_result",
          "data": {
            "text/plain": [
              "array([' >50K'], dtype=object)"
            ]
          },
          "metadata": {
            "tags": []
          },
          "execution_count": 4
        }
      ]
    },
    {
      "metadata": {
        "id": "XS7RfszprJLJ",
        "colab_type": "code",
        "colab": {
          "base_uri": "https://localhost:8080/",
          "height": 34
        },
        "outputId": "d9e19f9d-04f8-42ed-867b-14ca257c42f5"
      },
      "cell_type": "code",
      "source": [
        "# negatively correlated to income>50K \n",
        "# test value 0.1 and 0.2 are able to push log reg into <=50K.\n",
        "test_case = np.array([[0.2,0,0.2,0.2,0,0]]) #no negative coefficient.\n",
        "log_reg.predict(test_case)"
      ],
      "execution_count": 9,
      "outputs": [
        {
          "output_type": "execute_result",
          "data": {
            "text/plain": [
              "array([' <=50K'], dtype=object)"
            ]
          },
          "metadata": {
            "tags": []
          },
          "execution_count": 9
        }
      ]
    },
    {
      "metadata": {
        "id": "Cn_wYOyZu7A4",
        "colab_type": "text"
      },
      "cell_type": "markdown",
      "source": [
        "###Capital-gain, education-num and hours-per-week most positively affect logistic regression outcome to income>50K.\n",
        "\n",
        "### No clear negative influence."
      ]
    },
    {
      "metadata": {
        "id": "SiNIhkFhDTa1",
        "colab_type": "code",
        "colab": {
          "base_uri": "https://localhost:8080/",
          "height": 2026
        },
        "outputId": "730f6ad8-41a8-4802-e4d8-34135f5c4327"
      },
      "cell_type": "code",
      "source": [
        "# Logistic Regression score including all categorical value. Kitchen sink approach.\n",
        "\n",
        "from sklearn.preprocessing import MinMaxScaler\n",
        "\n",
        "X = df_all\n",
        "colnames=X.columns\n",
        "X = MinMaxScaler().fit_transform(X)\n",
        "\n",
        "y = df['income']\n",
        "\n",
        "log_reg = LogisticRegression(solver='lbfgs').fit(X, y)\n",
        "log_score = log_reg.score(X, y)\n",
        "\n",
        "print(f'\\nLogReg score: {log_score}')\n",
        "print('\\nLogReg coefficient')\n",
        "\n",
        "zipped = zip(colnames, log_reg.coef_[0])\n",
        "for col, coef in sorted(zipped, key=lambda t: t[1], reverse=True):\n",
        "  print(f'{col}:\\t{coef}')"
      ],
      "execution_count": 39,
      "outputs": [
        {
          "output_type": "stream",
          "text": [
            "/usr/local/lib/python3.6/dist-packages/sklearn/preprocessing/data.py:323: DataConversionWarning: Data with input dtype uint8, int64 were all converted to float64 by MinMaxScaler.\n",
            "  return self.partial_fit(X, y)\n"
          ],
          "name": "stderr"
        },
        {
          "output_type": "stream",
          "text": [
            "\n",
            "LogReg score: 0.8520929946868954\n",
            "\n",
            "LogReg coefficient\n",
            "capital-gain:\t18.18659055368729\n",
            "hours-per-week:\t2.8135317922427907\n",
            "capital-loss:\t2.5637587474322214\n",
            "education-num:\t2.0906191054744014\n",
            "age:\t1.8243537775277332\n",
            "marital-status_ Married-AF-spouse:\t1.3200754358832703\n",
            "marital-status_ Married-civ-spouse:\t1.2625815140900467\n",
            "native-country_ Cambodia:\t1.0227669161332222\n",
            "education_ Doctorate:\t1.012111234436684\n",
            "fnlwgt:\t0.9716649906423993\n",
            "education_ Prof-school:\t0.9557772919548306\n",
            "relationship_ Wife:\t0.9436944921329814\n",
            "occupation_ Exec-managerial:\t0.8528621279817306\n",
            "native-country_ Italy:\t0.8299494556773309\n",
            "occupation_ Tech-support:\t0.7113290759602123\n",
            "education_ Masters:\t0.6513017180725182\n",
            "native-country_ Yugoslavia:\t0.6397267985392311\n",
            "occupation_ Protective-serv:\t0.6314537556740457\n",
            "occupation_ Prof-specialty:\t0.599086674539285\n",
            "native-country_ France:\t0.5947538884164063\n",
            "native-country_ Germany:\t0.548261086128308\n",
            "workclass_ Federal-gov:\t0.5472773971997749\n",
            "native-country_ Ireland:\t0.5460164050667881\n",
            "native-country_ Philippines:\t0.500844633222257\n",
            "education_ Bachelors:\t0.4385894479356543\n",
            "native-country_ Japan:\t0.4243991555958301\n",
            "native-country_ Canada:\t0.4213509893363517\n",
            "native-country_ England:\t0.4146833936430738\n",
            "native-country_ Cuba:\t0.3939848545649206\n",
            "occupation_ Sales:\t0.35955402763631106\n",
            "native-country_ United-States:\t0.3209632024327306\n",
            "workclass_ Self-emp-inc:\t0.2463401445808566\n",
            "education_ Assoc-voc:\t0.15372976927004642\n",
            "occupation_ Craft-repair:\t0.153276493669035\n",
            "native-country_ Taiwan:\t0.14159492859300238\n",
            "native-country_ Scotland:\t0.13790171765050138\n",
            "native-country_ Portugal:\t0.11208625249192279\n",
            "education_ Some-college:\t0.0881263955639574\n",
            "native-country_ Iran:\t0.08411836727582139\n",
            "occupation_ Adm-clerical:\t0.08011874251952392\n",
            "native-country_ Jamaica:\t0.0786920380212793\n",
            "workclass_ Private:\t0.07027705907221792\n",
            "native-country_ Haiti:\t0.06656083955186365\n",
            "native-country_ Poland:\t0.06276471021550388\n",
            "native-country_ Hungary:\t0.06150351705049275\n",
            "relationship_ Not-in-family:\t0.030949163305099763\n",
            "native-country_ Hong:\t0.020135483131069498\n",
            "education_ Assoc-acdm:\t-0.009456180502321035\n",
            "native-country_ Holand-Netherlands:\t-0.01537958271315264\n",
            "race_ Asian-Pac-Islander:\t-0.02583265935003721\n",
            "occupation_ Transport-moving:\t-0.029727266754813655\n",
            "native-country_ Guatemala:\t-0.050429543297007745\n",
            "native-country_ ?:\t-0.05479018011516131\n",
            "race_ White:\t-0.09098345517535844\n",
            "native-country_ Ecuador:\t-0.10130390052184254\n",
            "workclass_ Local-gov:\t-0.10396626944714069\n",
            "education_ HS-grad:\t-0.11030454758635552\n",
            "relationship_ Unmarried:\t-0.11834730588331928\n",
            "workclass_ ?:\t-0.15439658262721467\n",
            "native-country_ India:\t-0.1742301230816616\n",
            "native-country_ Trinadad&Tobago:\t-0.1893009094052392\n",
            "workclass_ Never-worked:\t-0.19137506455070738\n",
            "occupation_ Machine-op-inspct:\t-0.20338376648582435\n",
            "native-country_ Puerto-Rico:\t-0.22378810598345364\n",
            "native-country_ Honduras:\t-0.23683151135286878\n",
            "workclass_ State-gov:\t-0.2481377877328179\n",
            "race_ Black:\t-0.25827741871951293\n",
            "education_ 12th:\t-0.25994597210805215\n",
            "education_ 1st-4th:\t-0.27165888046705067\n",
            "native-country_ Thailand:\t-0.3061911839876286\n",
            "education_ 5th-6th:\t-0.31111418056671536\n",
            "native-country_ El-Salvador:\t-0.31264045335274493\n",
            "sex_ Male:\t-0.31303053044030826\n",
            "native-country_ Laos:\t-0.3371535148532317\n",
            "occupation_ ?:\t-0.34577164717791925\n",
            "relationship_ Husband:\t-0.3638086699061461\n",
            "workclass_ Self-emp-not-inc:\t-0.3954924170773886\n",
            "native-country_ China:\t-0.43593735055040056\n",
            "occupation_ Armed-Forces:\t-0.44940285503676636\n",
            "native-country_ Nicaragua:\t-0.464846504763725\n",
            "education_ 10th:\t-0.48104384416927093\n",
            "native-country_ Peru:\t-0.48338021858142943\n",
            "race_ Other:\t-0.48946653949227886\n",
            "native-country_ Mexico:\t-0.50079834163533\n",
            "education_ 11th:\t-0.501513041143159\n",
            "native-country_ Greece:\t-0.535362512443886\n",
            "education_ 9th:\t-0.5394306848114401\n",
            "occupation_ Handlers-cleaners:\t-0.5716868839820851\n",
            "race_ Amer-Indian-Eskimo:\t-0.5846469141513699\n",
            "marital-status_ Widowed:\t-0.5922099117030682\n",
            "native-country_ Vietnam:\t-0.6419115255044409\n",
            "education_ 7th-8th:\t-0.6639037884080571\n",
            "marital-status_ Married-spouse-absent:\t-0.6896594220672897\n",
            "native-country_ South:\t-0.7026284172914037\n",
            "marital-status_ Divorced:\t-0.7260348447063516\n",
            "occupation_ Other-service:\t-0.7436042301426605\n",
            "native-country_ Outlying-US(Guam-USVI-etc):\t-0.8010490822723639\n",
            "relationship_ Other-relative:\t-0.8236694914162271\n",
            "marital-status_ Separated:\t-0.8382715977444133\n",
            "occupation_ Farming-fishing:\t-0.8744348411125958\n",
            "native-country_ Dominican-Republic:\t-1.059195259492453\n",
            "relationship_ Own-child:\t-1.1180251751210109\n",
            "sex_ Female:\t-1.1361764564482542\n",
            "marital-status_ Never-married:\t-1.1856881606407488\n",
            "workclass_ Without-pay:\t-1.2197334663061752\n",
            "native-country_ Columbia:\t-1.2451173984270385\n",
            "education_ Preschool:\t-1.600471724359855\n",
            "occupation_ Priv-house-serv:\t-1.618876394176086\n"
          ],
          "name": "stdout"
        },
        {
          "output_type": "stream",
          "text": [
            "/usr/local/lib/python3.6/dist-packages/sklearn/linear_model/logistic.py:758: ConvergenceWarning: lbfgs failed to converge. Increase the number of iterations.\n",
            "  \"of iterations.\", ConvergenceWarning)\n"
          ],
          "name": "stderr"
        }
      ]
    },
    {
      "metadata": {
        "id": "J8Lb5_Avw-3m",
        "colab_type": "text"
      },
      "cell_type": "markdown",
      "source": [
        "### Top 5 positively influences on Logistic Regression to output income>50K\n",
        "1. capital-gain\t:18.18659055368729\n",
        "2. hours-per-week\t:2.8135317922427907\n",
        "3. capital-loss\t:2.5637587474322214\n",
        "4. education-num\t:2.0906191054744014\n",
        "5. age\t:1.8243537775277332\n",
        "\n",
        "### Top 5 negatively influences on Logistic Regression to output income<50K\n",
        "1. marital-status_ Never-married\t:-1.1856881606407488\n",
        "2. workclass_ Without-pay\t:-1.2197334663061752\n",
        "3. native-country_ Columbia\t:-1.2451173984270385\n",
        "4. education_ Preschool\t:-1.600471724359855\n",
        "5. occupation_ Priv-house-serv\t:-1.618876394176086"
      ]
    },
    {
      "metadata": {
        "id": "fi-hOZD70OIr",
        "colab_type": "text"
      },
      "cell_type": "markdown",
      "source": [
        "Due to scaling when building the Logistic regression model, testcase data need to be scale in order to match the sensitivity of the model.\n",
        "\n",
        "Minmax_scaler will scale  one observation testcase into zero."
      ]
    },
    {
      "metadata": {
        "id": "GUfts8R_6P2S",
        "colab_type": "code",
        "colab": {
          "base_uri": "https://localhost:8080/",
          "height": 34
        },
        "outputId": "1eecc3eb-c2ca-4134-8d39-c840978e45a9"
      },
      "cell_type": "code",
      "source": [
        "# map column names with position index value\n",
        "d = {}\n",
        "for i, name in enumerate(df_all.columns ):\n",
        "  #print(f'{name}:{i}')\n",
        "  d[name]=i\n",
        "\n",
        "d['capital-gain']"
      ],
      "execution_count": 41,
      "outputs": [
        {
          "output_type": "execute_result",
          "data": {
            "text/plain": [
              "3"
            ]
          },
          "metadata": {
            "tags": []
          },
          "execution_count": 41
        }
      ]
    },
    {
      "metadata": {
        "id": "iqE0l6fp09Wd",
        "colab_type": "code",
        "colab": {
          "base_uri": "https://localhost:8080/",
          "height": 34
        },
        "outputId": "e0a5c238-a9dd-43cb-d345-2382d39dc593"
      },
      "cell_type": "code",
      "source": [
        "# building positive testcase; income > 50K\n",
        "testcase = np.zeros(df_all.shape[1]) \n",
        "\n",
        "testcase[d['capital-gain']]=1\n",
        "testcase[d['hours-per-week']]=1\n",
        "testcase[d['capital-loss']]=1\n",
        "\n",
        "log_reg.predict([testcase])"
      ],
      "execution_count": 38,
      "outputs": [
        {
          "output_type": "execute_result",
          "data": {
            "text/plain": [
              "array([' >50K'], dtype=object)"
            ]
          },
          "metadata": {
            "tags": []
          },
          "execution_count": 38
        }
      ]
    },
    {
      "metadata": {
        "id": "SV7FSCEz32Ov",
        "colab_type": "code",
        "colab": {
          "base_uri": "https://localhost:8080/",
          "height": 34
        },
        "outputId": "61d3a887-df28-446b-9496-277996f8c612"
      },
      "cell_type": "code",
      "source": [
        "# building negative testcase; income < 50K\n",
        "testcase = np.zeros(df_all.shape[1]) \n",
        "\n",
        "testcase[d['occupation_ Priv-house-serv']]=1\n",
        "testcase[d['education_ Preschool']]=1\n",
        "testcase[d['native-country_ Columbia']]=1\n",
        "\n",
        "log_reg.predict([testcase])"
      ],
      "execution_count": 40,
      "outputs": [
        {
          "output_type": "execute_result",
          "data": {
            "text/plain": [
              "array([' <=50K'], dtype=object)"
            ]
          },
          "metadata": {
            "tags": []
          },
          "execution_count": 40
        }
      ]
    },
    {
      "metadata": {
        "id": "BkIa-Sa21qdC",
        "colab_type": "text"
      },
      "cell_type": "markdown",
      "source": [
        "## Part 3 - Analysis, Interpretation, and Questions\n",
        "\n",
        "### Based on your above model, answer the following questions\n",
        "\n",
        "1. What are 3 features positively correlated with income above 50k?\n",
        "2. What are 3 features negatively correlated with income above 50k?\n",
        "3. Overall, how well does the model explain the data and what insights do you derive from it?\n",
        "\n",
        "*These answers count* - that is, make sure to spend some time on them, connecting to your analysis above. There is no single right answer, but as long as you support your reasoning with evidence you are on the right track.\n",
        "\n",
        "Note - scikit-learn logistic regression does *not* automatically perform a hypothesis test on coefficients. That is OK - if you scale the data they are more comparable in weight.\n",
        "\n",
        "### Match the following situation descriptions with the model most appropriate to addressing them\n",
        "\n",
        "In addition to logistic regression, a number of other approaches were covered this week. Pair them with the situations they are most appropriate for, and briefly explain why.\n",
        "\n",
        "Situations:\n",
        "1. You are given data on academic performance of primary school students, and asked to fit a model to help predict \"at-risk\" students who are likely to receive the bottom tier of grades.\n",
        "2. You are studying tech companies and their patterns in releasing new products, and would like to be able to model and predict when a new product is likely to be launched.\n",
        "3. You are working on modeling expected plant size and yield with a laboratory that is able to capture fantastically detailed physical data about plants, but only of a few dozen plants at a time.\n",
        "\n",
        "Approaches:\n",
        "1. Ridge Regression\n",
        "2. Quantile Regression\n",
        "3. Survival Analysis"
      ]
    },
    {
      "metadata": {
        "id": "Yjj0sseiuHib",
        "colab_type": "text"
      },
      "cell_type": "markdown",
      "source": [
        "**TODO - your answers!**"
      ]
    },
    {
      "metadata": {
        "id": "M1SsoTERL30p",
        "colab_type": "text"
      },
      "cell_type": "markdown",
      "source": [
        "### Top 5 positively influences on Logistic Regression to output income>50K\n",
        "1. capital-gain\t:18.18659055368729\n",
        "2. hours-per-week\t:2.8135317922427907\n",
        "3. capital-loss\t:2.5637587474322214\n",
        "4. education-num\t:2.0906191054744014\n",
        "5. age\t:1.8243537775277332\n",
        "\n",
        "### Top 5 negatively influences on Logistic Regression to output income<50K\n",
        "1. marital-status_ Never-married\t:-1.1856881606407488\n",
        "2. workclass_ Without-pay\t:-1.2197334663061752\n",
        "3. native-country_ Columbia\t:-1.2451173984270385\n",
        "4. education_ Preschool\t:-1.600471724359855\n",
        "5. occupation_ Priv-house-serv\t:-1.618876394176086"
      ]
    },
    {
      "metadata": {
        "id": "HelQ-ZOQN2jh",
        "colab_type": "text"
      },
      "cell_type": "markdown",
      "source": [
        "###At risk student model - Quantile Regression model\n",
        "\n",
        "Quantile Regression model estimates the response variable at the conditional median or desired quantile. By the setting the quantile for  'at-risk' student distribution,  Quantile Regression is predicting students who are 'at-risk' receiving bottom grades than those above the quantile receiving good grades."
      ]
    },
    {
      "metadata": {
        "id": "AKsCdx9rN85D",
        "colab_type": "text"
      },
      "cell_type": "markdown",
      "source": [
        "##Product releasing model - Survival Analysis model\n",
        "\n",
        "Cox regression (or proportional hazards regression) is method for investigating the effect of several variables upon the time a specified event takes to happen. In the context of an outcome such as death this is known as Cox regression for survival analysis\n",
        "\n",
        "The Kaplan–Meier estimator  also known as the product limit estimator, is a non-parametric statistic used to estimate the survival function from lifetime data. In medical research, it is often used to measure the fraction of patients living for a certain amount of time after treatment. In other fields, Kaplan–Meier estimators may be used to measure the length of time people remain unemployed after a job loss,  the time-to-failure of machine parts, or how long fleshy fruits remain on plants before they are removed by frugivores. \n",
        "\n",
        "####In the case of predicting when a new product is likely to be launched, Kaplan-Meier Survival Analysis is the appropriate model. Based on the history of tech company releasing new product patterns, Kaplan-Meier estimator estimate the likelihood of new product to be released."
      ]
    },
    {
      "metadata": {
        "id": "XRI7D50EOFH0",
        "colab_type": "text"
      },
      "cell_type": "markdown",
      "source": [
        "###Plant size and yield model - Ridge regression model\n",
        "\n",
        "Working with a few dozen plants at a time can easily overfit a model. Ridge regression model is effective at overcoming high multi-collinearity data problem from the few dozen plants together. Ridge regression produces robust model predicting results with least residual errors."
      ]
    }
  ]
}