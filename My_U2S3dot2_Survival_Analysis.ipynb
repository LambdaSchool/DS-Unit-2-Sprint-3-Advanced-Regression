{
  "nbformat": 4,
  "nbformat_minor": 0,
  "metadata": {
    "colab": {
      "name": "My_U2S3dot2_Survival_Analysis.ipynb",
      "version": "0.3.2",
      "provenance": [],
      "collapsed_sections": [],
      "include_colab_link": true
    },
    "kernelspec": {
      "display_name": "Python 3",
      "language": "python",
      "name": "python3"
    }
  },
  "cells": [
    {
      "cell_type": "markdown",
      "metadata": {
        "id": "view-in-github",
        "colab_type": "text"
      },
      "source": [
        "<a href=\"https://colab.research.google.com/github/wel51x/DS-Unit-2-Sprint-3-Advanced-Regression/blob/master/My_U2S3dot2_Survival_Analysis.ipynb\" target=\"_parent\"><img src=\"https://colab.research.google.com/assets/colab-badge.svg\" alt=\"Open In Colab\"/></a>"
      ]
    },
    {
      "cell_type": "markdown",
      "metadata": {
        "id": "DSUEMY8usgwJ",
        "colab_type": "text"
      },
      "source": [
        "# Lambda School Data Science - Survival Analysis\n",
        "![My normal approach is useless here, too.](https://imgs.xkcd.com/comics/probability.png)\n",
        "\n",
        "https://xkcd.com/881/\n",
        "\n",
        "The aim of survival analysis is to analyze the effect of different risk factors and use them to predict the duration of time between one event (\"birth\") and another (\"death\")."
      ]
    },
    {
      "cell_type": "markdown",
      "metadata": {
        "id": "Xp-QnVAgfud4",
        "colab_type": "text"
      },
      "source": [
        "# Lecture\n",
        "\n",
        "Survival analysis was first developed by actuaries and medical professionals to predict (as its name implies) how long individuals would survive. However, it has expanded into include many different applications.\n",
        "* it is referred to as **reliability analysis** in engineering\n",
        "* it can be referred to more generally as **time-to-event analysis**\n",
        "\n",
        "In the general sense, it can be thought of as a way to model anything with a finite duration - retention, churn, completion, etc. The culmination of this duration may have a \"good\" or \"bad\" (or \"neutral\") connotation, depending on the situation. However old habits die hard, so most often it is called survival analysis and the following definitions are still commonly used:\n",
        "\n",
        "* birth: the event that marks the beginning of the time period for observation\n",
        "* death: the event of interest, which then marks the end of the observation period for an individual\n",
        "\n",
        "### Examples\n",
        "* Customer churn\n",
        " * birth event: customer subscribes to a service\n",
        " * death event: customer leaves the service\n",
        "* Employee retention\n",
        " * birth event: employee is hired\n",
        " * death event: employee quits\n",
        "* Engineering, part reliability\n",
        " * birth event: part is put in use\n",
        " * death event: part fails\n",
        "* Program completion\n",
        " * birth event: student begins PhD program\n",
        " * death event: student earns PhD\n",
        "* Response time\n",
        " * birth event: 911 call is made\n",
        " * death event: police arrive\n",
        "* Lambda School\n",
        " * birth event: student graduates LambdaSchool\n",
        " * death event: student gets a job!\n",
        " \n",
        "Take a moment and try to come up with your own specific example or two.\n",
        "\n",
        "#### So... if all we're predicting here is a length of time between two events, why can't we just use regular old Linear Regression?\n",
        "Well... if you have all the data, go for it. In some situations it may be reasonably effective.\n",
        "\n",
        "#### But, data for survival times are often highly skewed and, more importantly, we don't always get a chance to observe the \"death\" event. The current time or other factors interfere with our ability to observe the time of the event of interest. These observations are said to be _censored_.\n",
        "\n",
        "Additionally, the occurrence or non-occurrence of an event is binary - so, while the time is continuous, the event itself is in some ways similar to a binary event in logistic regression.\n",
        "\n",
        "## Censorship in Data\n",
        "\n",
        "Suppose a new cancer treatment is developed. Researchers select 50 individuals for the study to undergo treatment and participate in post-treatment obsesrvation.\n",
        "\n",
        "##### Birth Event = Participant begins trial\n",
        "##### Death Event = Participant dies due to cancer or complications of cancer\n",
        "During the study:\n",
        "1. Some participants die during the course of the study--triggering their death event \n",
        "2. Some participants drop out or the researchers otherwise lose contact with them. The researchers have their data up intil the time they dropped out, but they don't have a death event to record\n",
        "3. Some participants are still be alive at the end of the observation period. So again, researchers have their data up until some point, but there is no death event to record\n",
        "\n",
        "We only know the interval between the \"birth\" event and the \"death\" event for participants in category 1. All others we only know that they survived _up to_ a certain point.\n",
        "\n",
        "### Dealing with Censored Data\n",
        "\n",
        "Without survival analysis, we could deal with censored data in two ways:\n",
        "* We could just treat the end of the observation period as the time of the death event\n",
        "* (Even worse) We could drop the censored data using the rationale that we have \"incomplete data\" for those observations\n",
        "\n",
        "But... both of these will underestimate survival rates for the purpose of the study. We **know** that all those individuals \"survived\" the \"death event\" past a certain point.\n",
        "\n",
        "Luckily, in the 1980s a pair of smarty pants named David (main author Cox and coauthor Oakes) did the hard math work to make it possible to incorporate additional features as predictive measures to survival time probabilities. (Fun fact, the one named Cox also came up with logistic regression with non-David coauthor, Joyce Snell.)\n",
        "\n",
        "## lifelines\n",
        "It wasn't until 2014 that some other smart people made an implementation of survival analysis in Python called lifelines. \n",
        "It is built over Pandas and follows the same conventions for usage as scikit-learn.\n",
        "\n",
        "_Additional note: scikit pushed out a survival analysis implementation last year (2018) named scikit-survival that is imported by the name `sksurv`. It's super new so it may/may not have a bunch of bugs... but if you're interested you can check it out in the future. (For comparison, scikit originally came out in 2007 and Pandas came out in 2008)._"
      ]
    },
    {
      "cell_type": "code",
      "metadata": {
        "id": "ZrCb7TULsgwP",
        "colab_type": "code",
        "outputId": "a9af87b0-cb15-404f-9f21-63824df4bf5e",
        "colab": {
          "base_uri": "https://localhost:8080/",
          "height": 469
        }
      },
      "source": [
        "!pip install lifelines"
      ],
      "execution_count": 1,
      "outputs": [
        {
          "output_type": "stream",
          "text": [
            "Collecting lifelines\n",
            "\u001b[?25l  Downloading https://files.pythonhosted.org/packages/04/1c/858ded2da5292e6915d56bc5bfb71d8d3c08fa88fc7b209ff5305fd26dde/lifelines-0.22.2-py2.py3-none-any.whl (329kB)\n",
            "\u001b[K     |████████████████████████████████| 337kB 4.8MB/s \n",
            "\u001b[?25hRequirement already satisfied: matplotlib>=3.0 in /usr/local/lib/python3.6/dist-packages (from lifelines) (3.0.3)\n",
            "Requirement already satisfied: bottleneck>=1.0 in /usr/local/lib/python3.6/dist-packages (from lifelines) (1.2.1)\n",
            "Requirement already satisfied: numpy>=1.14.0 in /usr/local/lib/python3.6/dist-packages (from lifelines) (1.16.4)\n",
            "Requirement already satisfied: pandas>=0.23.0 in /usr/local/lib/python3.6/dist-packages (from lifelines) (0.24.2)\n",
            "Requirement already satisfied: autograd>=1.2 in /usr/local/lib/python3.6/dist-packages (from lifelines) (1.3)\n",
            "Requirement already satisfied: scipy>=1.0 in /usr/local/lib/python3.6/dist-packages (from lifelines) (1.3.0)\n",
            "Collecting autograd-gamma>=0.3 (from lifelines)\n",
            "  Downloading https://files.pythonhosted.org/packages/3e/87/788c4bf90cc5c534cb3b7fdb5b719175e33e2658decce75e35e2ce69766f/autograd_gamma-0.4.1-py2.py3-none-any.whl\n",
            "Requirement already satisfied: python-dateutil>=2.1 in /usr/local/lib/python3.6/dist-packages (from matplotlib>=3.0->lifelines) (2.5.3)\n",
            "Requirement already satisfied: cycler>=0.10 in /usr/local/lib/python3.6/dist-packages (from matplotlib>=3.0->lifelines) (0.10.0)\n",
            "Requirement already satisfied: kiwisolver>=1.0.1 in /usr/local/lib/python3.6/dist-packages (from matplotlib>=3.0->lifelines) (1.1.0)\n",
            "Requirement already satisfied: pyparsing!=2.0.4,!=2.1.2,!=2.1.6,>=2.0.1 in /usr/local/lib/python3.6/dist-packages (from matplotlib>=3.0->lifelines) (2.4.2)\n",
            "Requirement already satisfied: pytz>=2011k in /usr/local/lib/python3.6/dist-packages (from pandas>=0.23.0->lifelines) (2018.9)\n",
            "Requirement already satisfied: future>=0.15.2 in /usr/local/lib/python3.6/dist-packages (from autograd>=1.2->lifelines) (0.16.0)\n",
            "Requirement already satisfied: six>=1.5 in /usr/local/lib/python3.6/dist-packages (from python-dateutil>=2.1->matplotlib>=3.0->lifelines) (1.12.0)\n",
            "Requirement already satisfied: setuptools in /usr/local/lib/python3.6/dist-packages (from kiwisolver>=1.0.1->matplotlib>=3.0->lifelines) (41.0.1)\n",
            "Installing collected packages: autograd-gamma, lifelines\n",
            "Successfully installed autograd-gamma-0.4.1 lifelines-0.22.2\n"
          ],
          "name": "stdout"
        }
      ]
    },
    {
      "cell_type": "code",
      "metadata": {
        "id": "E8rpzq9zsgwn",
        "colab_type": "code",
        "colab": {}
      },
      "source": [
        "import numpy as np\n",
        "import pandas as pd\n",
        "import matplotlib.pyplot as plt\n",
        "import lifelines"
      ],
      "execution_count": 0,
      "outputs": []
    },
    {
      "cell_type": "code",
      "metadata": {
        "id": "d51G4sPqsgww",
        "colab_type": "code",
        "outputId": "4085a427-8ea9-46da-cdc9-711fd5d342da",
        "colab": {
          "base_uri": "https://localhost:8080/",
          "height": 204
        }
      },
      "source": [
        "# lifelines comes with some datasets to get you started playing around with it.\n",
        "# Most of the datasets are cleaned-up versions of real datasets. Here we will\n",
        "# use their Leukemia dataset comparing 2 different treatments taken from\n",
        "# http://web1.sph.emory.edu/dkleinb/allDatasets/surv2datasets/anderson.dat\n",
        "\n",
        "from lifelines.datasets import load_leukemia\n",
        "leukemia = load_leukemia()\n",
        "\n",
        "leukemia.head()"
      ],
      "execution_count": 2,
      "outputs": [
        {
          "output_type": "execute_result",
          "data": {
            "text/html": [
              "<div>\n",
              "<style scoped>\n",
              "    .dataframe tbody tr th:only-of-type {\n",
              "        vertical-align: middle;\n",
              "    }\n",
              "\n",
              "    .dataframe tbody tr th {\n",
              "        vertical-align: top;\n",
              "    }\n",
              "\n",
              "    .dataframe thead th {\n",
              "        text-align: right;\n",
              "    }\n",
              "</style>\n",
              "<table border=\"1\" class=\"dataframe\">\n",
              "  <thead>\n",
              "    <tr style=\"text-align: right;\">\n",
              "      <th></th>\n",
              "      <th>t</th>\n",
              "      <th>status</th>\n",
              "      <th>sex</th>\n",
              "      <th>logWBC</th>\n",
              "      <th>Rx</th>\n",
              "    </tr>\n",
              "  </thead>\n",
              "  <tbody>\n",
              "    <tr>\n",
              "      <th>0</th>\n",
              "      <td>35</td>\n",
              "      <td>0</td>\n",
              "      <td>1</td>\n",
              "      <td>1.45</td>\n",
              "      <td>0</td>\n",
              "    </tr>\n",
              "    <tr>\n",
              "      <th>1</th>\n",
              "      <td>34</td>\n",
              "      <td>0</td>\n",
              "      <td>1</td>\n",
              "      <td>1.47</td>\n",
              "      <td>0</td>\n",
              "    </tr>\n",
              "    <tr>\n",
              "      <th>2</th>\n",
              "      <td>32</td>\n",
              "      <td>0</td>\n",
              "      <td>1</td>\n",
              "      <td>2.20</td>\n",
              "      <td>0</td>\n",
              "    </tr>\n",
              "    <tr>\n",
              "      <th>3</th>\n",
              "      <td>32</td>\n",
              "      <td>0</td>\n",
              "      <td>1</td>\n",
              "      <td>2.53</td>\n",
              "      <td>0</td>\n",
              "    </tr>\n",
              "    <tr>\n",
              "      <th>4</th>\n",
              "      <td>25</td>\n",
              "      <td>0</td>\n",
              "      <td>1</td>\n",
              "      <td>1.78</td>\n",
              "      <td>0</td>\n",
              "    </tr>\n",
              "  </tbody>\n",
              "</table>\n",
              "</div>"
            ],
            "text/plain": [
              "    t  status  sex  logWBC  Rx\n",
              "0  35       0    1    1.45   0\n",
              "1  34       0    1    1.47   0\n",
              "2  32       0    1    2.20   0\n",
              "3  32       0    1    2.53   0\n",
              "4  25       0    1    1.78   0"
            ]
          },
          "metadata": {
            "tags": []
          },
          "execution_count": 2
        }
      ]
    },
    {
      "cell_type": "markdown",
      "metadata": {
        "id": "xIlaPncgsgw7",
        "colab_type": "text"
      },
      "source": [
        "### You can you any Pandas DataFrame with lifelines. \n",
        "### The only requirement is that the DataFrame includes features that describe:\n",
        "* a duration of time for the observation\n",
        "* a binary column regarding censorship (`1` if the death event was observed, `0` if the death event was not observed)\n",
        "\n",
        "Sometimes, you will have to engineer these features. How might you go about that? What information would you need?"
      ]
    },
    {
      "cell_type": "code",
      "metadata": {
        "id": "DQ936c5tsgw-",
        "colab_type": "code",
        "outputId": "f82d07f0-b7bf-4d12-ae53-a856caac5eea",
        "colab": {
          "base_uri": "https://localhost:8080/",
          "height": 187
        }
      },
      "source": [
        "leukemia.info()"
      ],
      "execution_count": 3,
      "outputs": [
        {
          "output_type": "stream",
          "text": [
            "<class 'pandas.core.frame.DataFrame'>\n",
            "RangeIndex: 42 entries, 0 to 41\n",
            "Data columns (total 5 columns):\n",
            "t         42 non-null int64\n",
            "status    42 non-null int64\n",
            "sex       42 non-null int64\n",
            "logWBC    42 non-null float64\n",
            "Rx        42 non-null int64\n",
            "dtypes: float64(1), int64(4)\n",
            "memory usage: 1.7 KB\n"
          ],
          "name": "stdout"
        }
      ]
    },
    {
      "cell_type": "code",
      "metadata": {
        "id": "MDvA8Z9rsgxL",
        "colab_type": "code",
        "outputId": "cbe0124f-9e8a-4ae8-d6a9-541c185523cf",
        "colab": {
          "base_uri": "https://localhost:8080/",
          "height": 297
        }
      },
      "source": [
        "leukemia.describe()"
      ],
      "execution_count": 4,
      "outputs": [
        {
          "output_type": "execute_result",
          "data": {
            "text/html": [
              "<div>\n",
              "<style scoped>\n",
              "    .dataframe tbody tr th:only-of-type {\n",
              "        vertical-align: middle;\n",
              "    }\n",
              "\n",
              "    .dataframe tbody tr th {\n",
              "        vertical-align: top;\n",
              "    }\n",
              "\n",
              "    .dataframe thead th {\n",
              "        text-align: right;\n",
              "    }\n",
              "</style>\n",
              "<table border=\"1\" class=\"dataframe\">\n",
              "  <thead>\n",
              "    <tr style=\"text-align: right;\">\n",
              "      <th></th>\n",
              "      <th>t</th>\n",
              "      <th>status</th>\n",
              "      <th>sex</th>\n",
              "      <th>logWBC</th>\n",
              "      <th>Rx</th>\n",
              "    </tr>\n",
              "  </thead>\n",
              "  <tbody>\n",
              "    <tr>\n",
              "      <th>count</th>\n",
              "      <td>42.000000</td>\n",
              "      <td>42.000000</td>\n",
              "      <td>42.000000</td>\n",
              "      <td>42.000000</td>\n",
              "      <td>42.000000</td>\n",
              "    </tr>\n",
              "    <tr>\n",
              "      <th>mean</th>\n",
              "      <td>12.880952</td>\n",
              "      <td>0.714286</td>\n",
              "      <td>0.476190</td>\n",
              "      <td>2.930238</td>\n",
              "      <td>0.500000</td>\n",
              "    </tr>\n",
              "    <tr>\n",
              "      <th>std</th>\n",
              "      <td>9.347498</td>\n",
              "      <td>0.457230</td>\n",
              "      <td>0.505487</td>\n",
              "      <td>0.917522</td>\n",
              "      <td>0.506061</td>\n",
              "    </tr>\n",
              "    <tr>\n",
              "      <th>min</th>\n",
              "      <td>1.000000</td>\n",
              "      <td>0.000000</td>\n",
              "      <td>0.000000</td>\n",
              "      <td>1.450000</td>\n",
              "      <td>0.000000</td>\n",
              "    </tr>\n",
              "    <tr>\n",
              "      <th>25%</th>\n",
              "      <td>6.000000</td>\n",
              "      <td>0.000000</td>\n",
              "      <td>0.000000</td>\n",
              "      <td>2.302500</td>\n",
              "      <td>0.000000</td>\n",
              "    </tr>\n",
              "    <tr>\n",
              "      <th>50%</th>\n",
              "      <td>10.500000</td>\n",
              "      <td>1.000000</td>\n",
              "      <td>0.000000</td>\n",
              "      <td>2.800000</td>\n",
              "      <td>0.500000</td>\n",
              "    </tr>\n",
              "    <tr>\n",
              "      <th>75%</th>\n",
              "      <td>18.500000</td>\n",
              "      <td>1.000000</td>\n",
              "      <td>1.000000</td>\n",
              "      <td>3.490000</td>\n",
              "      <td>1.000000</td>\n",
              "    </tr>\n",
              "    <tr>\n",
              "      <th>max</th>\n",
              "      <td>35.000000</td>\n",
              "      <td>1.000000</td>\n",
              "      <td>1.000000</td>\n",
              "      <td>5.000000</td>\n",
              "      <td>1.000000</td>\n",
              "    </tr>\n",
              "  </tbody>\n",
              "</table>\n",
              "</div>"
            ],
            "text/plain": [
              "               t     status        sex     logWBC         Rx\n",
              "count  42.000000  42.000000  42.000000  42.000000  42.000000\n",
              "mean   12.880952   0.714286   0.476190   2.930238   0.500000\n",
              "std     9.347498   0.457230   0.505487   0.917522   0.506061\n",
              "min     1.000000   0.000000   0.000000   1.450000   0.000000\n",
              "25%     6.000000   0.000000   0.000000   2.302500   0.000000\n",
              "50%    10.500000   1.000000   0.000000   2.800000   0.500000\n",
              "75%    18.500000   1.000000   1.000000   3.490000   1.000000\n",
              "max    35.000000   1.000000   1.000000   5.000000   1.000000"
            ]
          },
          "metadata": {
            "tags": []
          },
          "execution_count": 4
        }
      ]
    },
    {
      "cell_type": "code",
      "metadata": {
        "id": "tDasOEocsgxQ",
        "colab_type": "code",
        "outputId": "c790e310-25bf-41b5-cad4-3295ca5f71fa",
        "colab": {
          "base_uri": "https://localhost:8080/",
          "height": 295
        }
      },
      "source": [
        "time = leukemia.t.values\n",
        "event = leukemia.status.values\n",
        "\n",
        "ax = lifelines.plotting.plot_lifetimes(time, event_observed=event)\n",
        "ax.set_xlim(0, 40)\n",
        "ax.grid(axis='x')\n",
        "ax.set_xlabel(\"Time in Months\")\n",
        "ax.set_title(\"Lifelines for Survival of Leukemia Patients\");\n",
        "plt.plot();"
      ],
      "execution_count": 5,
      "outputs": [
        {
          "output_type": "display_data",
          "data": {
            "image/png": "[encoded data removed]",
            "text/plain": [
              "<Figure size 432x288 with 1 Axes>"
            ]
          },
          "metadata": {
            "tags": []
          }
        }
      ]
    },
    {
      "cell_type": "markdown",
      "metadata": {
        "id": "5oEzZ_aqsgxV",
        "colab_type": "text"
      },
      "source": [
        "## Kaplan-Meier survival estimate\n",
        " \n",
        "The Kaplan-Meier method estimates survival probability from observed survival times. It results in a step function that changes value only at the time of each event, and confidence intervals can be computer for the survival probabilities. \n",
        "\n",
        "The KM survival curve,a plot of KM survival probability against time, provides a useful summary of the data.\n",
        "It can be used to estimate measures such as median survival time.\n",
        "\n",
        "It CANNOT account for risk factors and is NOT regression. It is *non-parametric* (does not involve parameters).\n",
        "\n",
        "However it is a good way to visualize a survival dataset, and can be useful to compare the effects of a single categorical variable."
      ]
    },
    {
      "cell_type": "code",
      "metadata": {
        "id": "5XoM5PzGsgxX",
        "colab_type": "code",
        "outputId": "9e3f1877-303f-4ae7-b847-1bd257d3887e",
        "colab": {
          "base_uri": "https://localhost:8080/",
          "height": 34
        }
      },
      "source": [
        "kmf = lifelines.KaplanMeierFitter()\n",
        "\n",
        "kmf.fit(time, event_observed=event)"
      ],
      "execution_count": 6,
      "outputs": [
        {
          "output_type": "execute_result",
          "data": {
            "text/plain": [
              "<lifelines.KaplanMeierFitter: fitted with 42 observations, 12 censored>"
            ]
          },
          "metadata": {
            "tags": []
          },
          "execution_count": 6
        }
      ]
    },
    {
      "cell_type": "code",
      "metadata": {
        "id": "ZIskdbM1qkKV",
        "colab_type": "code",
        "outputId": "a5a52301-d568-40c5-f3f9-bd451abfcd84",
        "colab": {
          "base_uri": "https://localhost:8080/",
          "height": 415
        }
      },
      "source": [
        "!pip install -U matplotlib  # Colab has matplotlib 2.2.3, we need >3"
      ],
      "execution_count": 9,
      "outputs": [
        {
          "output_type": "stream",
          "text": [
            "Collecting matplotlib\n",
            "\u001b[?25l  Downloading https://files.pythonhosted.org/packages/57/4f/dd381ecf6c6ab9bcdaa8ea912e866dedc6e696756156d8ecc087e20817e2/matplotlib-3.1.1-cp36-cp36m-manylinux1_x86_64.whl (13.1MB)\n",
            "\u001b[K     |████████████████████████████████| 13.1MB 4.8MB/s \n",
            "\u001b[?25hRequirement already satisfied, skipping upgrade: numpy>=1.11 in /usr/local/lib/python3.6/dist-packages (from matplotlib) (1.16.4)\n",
            "Requirement already satisfied, skipping upgrade: pyparsing!=2.0.4,!=2.1.2,!=2.1.6,>=2.0.1 in /usr/local/lib/python3.6/dist-packages (from matplotlib) (2.4.2)\n",
            "Requirement already satisfied, skipping upgrade: cycler>=0.10 in /usr/local/lib/python3.6/dist-packages (from matplotlib) (0.10.0)\n",
            "Requirement already satisfied, skipping upgrade: kiwisolver>=1.0.1 in /usr/local/lib/python3.6/dist-packages (from matplotlib) (1.1.0)\n",
            "Requirement already satisfied, skipping upgrade: python-dateutil>=2.1 in /usr/local/lib/python3.6/dist-packages (from matplotlib) (2.5.3)\n",
            "Requirement already satisfied, skipping upgrade: six in /usr/local/lib/python3.6/dist-packages (from cycler>=0.10->matplotlib) (1.12.0)\n",
            "Requirement already satisfied, skipping upgrade: setuptools in /usr/local/lib/python3.6/dist-packages (from kiwisolver>=1.0.1->matplotlib) (41.0.1)\n",
            "\u001b[31mERROR: albumentations 0.1.12 has requirement imgaug<0.2.7,>=0.2.5, but you'll have imgaug 0.2.9 which is incompatible.\u001b[0m\n",
            "Installing collected packages: matplotlib\n",
            "  Found existing installation: matplotlib 3.0.3\n",
            "    Uninstalling matplotlib-3.0.3:\n",
            "      Successfully uninstalled matplotlib-3.0.3\n",
            "Successfully installed matplotlib-3.1.1\n"
          ],
          "name": "stdout"
        },
        {
          "output_type": "display_data",
          "data": {
            "application/vnd.colab-display-data+json": {
              "pip_warning": {
                "packages": [
                  "matplotlib",
                  "mpl_toolkits"
                ]
              }
            }
          },
          "metadata": {
            "tags": []
          }
        }
      ]
    },
    {
      "cell_type": "code",
      "metadata": {
        "id": "8lnpLxmhsgxc",
        "colab_type": "code",
        "outputId": "4dcfa433-a991-423a-d5a8-f83c02534768",
        "colab": {
          "base_uri": "https://localhost:8080/",
          "height": 312
        }
      },
      "source": [
        "kmf.survival_function_.plot()\n",
        "plt.title('Survival Function Leukemia Patients');\n",
        "print(f'Median Survival: {kmf.median_} months after treatment')"
      ],
      "execution_count": 7,
      "outputs": [
        {
          "output_type": "stream",
          "text": [
            "Median Survival: 12.0 months after treatment\n"
          ],
          "name": "stdout"
        },
        {
          "output_type": "display_data",
          "data": {
            "image/png": "[encoded data removed]",
            "text/plain": [
              "<Figure size 432x288 with 1 Axes>"
            ]
          },
          "metadata": {
            "tags": []
          }
        }
      ]
    },
    {
      "cell_type": "code",
      "metadata": {
        "id": "4eSYFEfzgjyp",
        "colab_type": "code",
        "outputId": "07c7a0e1-5072-40e2-f327-1b4e9b8c158e",
        "colab": {
          "base_uri": "https://localhost:8080/",
          "height": 296
        }
      },
      "source": [
        "kmf.survival_function_.plot.line()"
      ],
      "execution_count": 8,
      "outputs": [
        {
          "output_type": "execute_result",
          "data": {
            "text/plain": [
              "<matplotlib.axes._subplots.AxesSubplot at 0x7f3ddf348940>"
            ]
          },
          "metadata": {
            "tags": []
          },
          "execution_count": 8
        },
        {
          "output_type": "display_data",
          "data": {
            "image/png": "[encoded data removed]",
            "text/plain": [
              "<Figure size 432x288 with 1 Axes>"
            ]
          },
          "metadata": {
            "tags": []
          }
        }
      ]
    },
    {
      "cell_type": "code",
      "metadata": {
        "id": "udKT7uBAsgxi",
        "colab_type": "code",
        "outputId": "753f191e-9778-4e27-d368-4d2e086dd553",
        "colab": {
          "base_uri": "https://localhost:8080/",
          "height": 329
        }
      },
      "source": [
        "ax = plt.subplot(111)\n",
        "\n",
        "treatment = (leukemia[\"Rx\"] == 1)\n",
        "kmf.fit(time[treatment], event_observed=event[treatment], label=\"Treatment 1\")\n",
        "kmf.plot(ax=ax)\n",
        "print(f'Median survival time with Treatment 1: {kmf.median_} months')\n",
        "\n",
        "kmf.fit(time[~treatment], event_observed=event[~treatment], label=\"Treatment 0\")\n",
        "kmf.plot(ax=ax)\n",
        "print(f'Median survival time with Treatment 0: {kmf.median_} months')\n",
        "\n",
        "plt.ylim(0, 1);\n",
        "plt.title(\"Survival Times for Leukemia Treatments\");"
      ],
      "execution_count": 9,
      "outputs": [
        {
          "output_type": "stream",
          "text": [
            "Median survival time with Treatment 1: 8.0 months\n",
            "Median survival time with Treatment 0: 23.0 months\n"
          ],
          "name": "stdout"
        },
        {
          "output_type": "display_data",
          "data": {
            "image/png": "[encoded data removed]",
            "text/plain": [
              "<Figure size 432x288 with 1 Axes>"
            ]
          },
          "metadata": {
            "tags": []
          }
        }
      ]
    },
    {
      "cell_type": "markdown",
      "metadata": {
        "id": "Ej1Zb4IYsgxr",
        "colab_type": "text"
      },
      "source": [
        "## Cox Proportional Hazards Model -- Survival Regression\n",
        "It assumes the ratio of death event risks (hazard) of two groups remains about the same over time.\n",
        "This ratio is called the hazards ratio or the relative risk.\n",
        "\n",
        "All Cox regression requires is an assumption that ratio of hazards is constant over time across groups.\n",
        "\n",
        "*The good news* — we don’t need to know anything about overall shape of risk/hazard over time\n",
        "\n",
        "*The bad news* — the proportionality assumption can be restrictive"
      ]
    },
    {
      "cell_type": "code",
      "metadata": {
        "id": "Skypo6ABsgxs",
        "colab_type": "code",
        "outputId": "cdb95655-18cf-46c5-edcd-9ac5d95c291e",
        "colab": {
          "base_uri": "https://localhost:8080/",
          "height": 550
        }
      },
      "source": [
        "# Using Cox Proportional Hazards model\n",
        "cph = lifelines.CoxPHFitter()\n",
        "cph.fit(leukemia, 't', event_col='status')\n",
        "cph.print_summary()"
      ],
      "execution_count": 10,
      "outputs": [
        {
          "output_type": "stream",
          "text": [
            "<lifelines.CoxPHFitter: fitted with 42 observations, 12 censored>\n",
            "      duration col = 't'\n",
            "         event col = 'status'\n",
            "number of subjects = 42\n",
            "  number of events = 30\n",
            "partial log-likelihood = -69.59\n",
            "  time fit was run = 2019-08-04 01:52:32 UTC\n",
            "\n",
            "---\n",
            "        coef exp(coef)  se(coef)  coef lower 95%  coef upper 95% exp(coef) lower 95% exp(coef) upper 95%\n",
            "sex     0.31      1.37      0.45           -0.58            1.21                0.56                3.34\n",
            "logWBC  1.68      5.38      0.34            1.02            2.34                2.78               10.40\n",
            "Rx      1.50      4.50      0.46            0.60            2.41                1.82               11.11\n",
            "\n",
            "          z      p  -log2(p)\n",
            "sex    0.69   0.49      1.03\n",
            "logWBC 5.00 <0.005     20.71\n",
            "Rx     3.26 <0.005      9.80\n",
            "---\n",
            "Concordance = 0.85\n",
            "Log-likelihood ratio test = 47.19 on 3 df, -log2(p)=31.55\n"
          ],
          "name": "stdout"
        },
        {
          "output_type": "stream",
          "text": [
            "/usr/local/lib/python3.6/dist-packages/lifelines/utils/__init__.py:954: ConvergenceWarning: Column Rx have very low variance when conditioned on death event present or not. This may harm convergence. This could be a form of 'complete separation'. For example, try the following code:\n",
            "\n",
            ">>> events = df['status'].astype(bool)\n",
            ">>> print(df.loc[events, 'Rx'].var())\n",
            ">>> print(df.loc[~events, 'Rx'].var())\n",
            "\n",
            "A very low variance means that the column Rx completely determines whether a subject dies or not. See https://stats.stackexchange.com/questions/11109/how-to-deal-with-perfect-separation-in-logistic-regression \n",
            "  warnings.warn(dedent(warning_text), ConvergenceWarning)\n"
          ],
          "name": "stderr"
        }
      ]
    },
    {
      "cell_type": "markdown",
      "metadata": {
        "id": "sIUr2gT7sgxz",
        "colab_type": "text"
      },
      "source": [
        "## Interpreting the Results\n",
        "`coef`: usually denoted with $b$, the coefficient\n",
        "\n",
        "`exp(coef)`: $e^{b}$, equals the estimate of the hazard ratio. Here, we can say that participants who received treatment 1 had ~4.5 times the hazard risk (risk of death) compared to those who received treatment 2. And for every unit the `logWBC` increased, the hazard risk increased >5 times.\n",
        "\n",
        "`se(coef)`: standard error of the coefficient (used for calculating z-score and therefore p-value)\n",
        "\n",
        "`z`: z-score $\\frac{b}{se(b)}$\n",
        "\n",
        "`p`: p-value. derived from z-score. describes statistical significance. more specifically, it is the likelihood that the variable has no effect on the outcome\n",
        "\n",
        "`log(p)`: natural logarithm of p-value... used to more easily see differences in significance\n",
        "\n",
        "`lower/upper 0.95`: confidence levels for the coefficients. in this case, we can confidently say that the coefficient for `logWBC` is somewhere _between_ 1.02 and 2.34.\n",
        "\n",
        "`Signif. codes`: easily, visually identify significant variables! The more stars, the more solid (simply based on p-value). Here `logWBC` is highly significant, `Rx` is significant, and `sex` has no statistical significance\n",
        "\n",
        "`Concordance`: a measure of predictive power for classification problems (here looking at the `status` column. a value from 0 to 1 where values above 0.6 are considered good fits (the higher the better)\n",
        "\n",
        "`Likelihood ratio (LR) test`: this is a measure of how likely it is that the coefficients are not zero, and can compare the goodness of fit of a model versus an alternative null model. Is often actually calculated as a logarithm, resulting in the log-likelihood ratio statistic and allowing the distribution of the test statistic to be approximated with [Wilks' theorem](https://en.wikipedia.org/wiki/Wilks%27_theorem)."
      ]
    },
    {
      "cell_type": "code",
      "metadata": {
        "id": "SHPFMpUqsgx0",
        "colab_type": "code",
        "outputId": "2002ada9-b4bb-495c-a882-762e9bf53f1e",
        "colab": {
          "base_uri": "https://localhost:8080/",
          "height": 547
        }
      },
      "source": [
        "cph.plot_covariate_groups(covariates='logWBC', values=np.arange(1.5,5,.5))"
      ],
      "execution_count": 16,
      "outputs": [
        {
          "output_type": "execute_result",
          "data": {
            "text/plain": [
              "[<matplotlib.axes._subplots.AxesSubplot at 0x7f3dddc7b2e8>,\n",
              " <matplotlib.axes._subplots.AxesSubplot at 0x7f3dddbbc4a8>]"
            ]
          },
          "metadata": {
            "tags": []
          },
          "execution_count": 16
        },
        {
          "output_type": "display_data",
          "data": {
            "image/png": "[encoded data removed]",
            "text/plain": [
              "<Figure size 432x288 with 1 Axes>"
            ]
          },
          "metadata": {
            "tags": []
          }
        },
        {
          "output_type": "display_data",
          "data": {
            "image/png": "[encoded data removed]",
            "text/plain": [
              "<Figure size 432x288 with 1 Axes>"
            ]
          },
          "metadata": {
            "tags": []
          }
        }
      ]
    },
    {
      "cell_type": "code",
      "metadata": {
        "id": "hd02Nni_sgx7",
        "colab_type": "code",
        "outputId": "2ad4c91d-13bd-435e-da0c-a58fd463a463",
        "colab": {
          "base_uri": "https://localhost:8080/",
          "height": 283
        }
      },
      "source": [
        "cph.plot_covariate_groups('sex', values=[0,1])"
      ],
      "execution_count": 42,
      "outputs": [
        {
          "output_type": "error",
          "ename": "KeyError",
          "evalue": "ignored",
          "traceback": [
            "\u001b[0;31m---------------------------------------------------------------------------\u001b[0m",
            "\u001b[0;31mKeyError\u001b[0m                                  Traceback (most recent call last)",
            "\u001b[0;32m<ipython-input-42-adcca9336201>\u001b[0m in \u001b[0;36m<module>\u001b[0;34m()\u001b[0m\n\u001b[0;32m----> 1\u001b[0;31m \u001b[0mcph\u001b[0m\u001b[0;34m.\u001b[0m\u001b[0mplot_covariate_groups\u001b[0m\u001b[0;34m(\u001b[0m\u001b[0;34m'sex'\u001b[0m\u001b[0;34m,\u001b[0m \u001b[0mvalues\u001b[0m\u001b[0;34m=\u001b[0m\u001b[0;34m[\u001b[0m\u001b[0;36m0\u001b[0m\u001b[0;34m,\u001b[0m\u001b[0;36m1\u001b[0m\u001b[0;34m]\u001b[0m\u001b[0;34m)\u001b[0m\u001b[0;34m\u001b[0m\u001b[0;34m\u001b[0m\u001b[0m\n\u001b[0m",
            "\u001b[0;32m/usr/local/lib/python3.6/dist-packages/lifelines/fitters/coxph_fitter.py\u001b[0m in \u001b[0;36mplot_covariate_groups\u001b[0;34m(self, covariates, values, plot_baseline, **kwargs)\u001b[0m\n\u001b[1;32m   1789\u001b[0m         \u001b[0;32mfor\u001b[0m \u001b[0mcovariate\u001b[0m \u001b[0;32min\u001b[0m \u001b[0mcovariates\u001b[0m\u001b[0;34m:\u001b[0m\u001b[0;34m\u001b[0m\u001b[0;34m\u001b[0m\u001b[0m\n\u001b[1;32m   1790\u001b[0m             \u001b[0;32mif\u001b[0m \u001b[0mcovariate\u001b[0m \u001b[0;32mnot\u001b[0m \u001b[0;32min\u001b[0m \u001b[0mself\u001b[0m\u001b[0;34m.\u001b[0m\u001b[0mparams_\u001b[0m\u001b[0;34m.\u001b[0m\u001b[0mindex\u001b[0m\u001b[0;34m:\u001b[0m\u001b[0;34m\u001b[0m\u001b[0;34m\u001b[0m\u001b[0m\n\u001b[0;32m-> 1791\u001b[0;31m                 \u001b[0;32mraise\u001b[0m \u001b[0mKeyError\u001b[0m\u001b[0;34m(\u001b[0m\u001b[0;34m\"covariate `%s` is not present in the original dataset\"\u001b[0m \u001b[0;34m%\u001b[0m \u001b[0mcovariate\u001b[0m\u001b[0;34m)\u001b[0m\u001b[0;34m\u001b[0m\u001b[0;34m\u001b[0m\u001b[0m\n\u001b[0m\u001b[1;32m   1792\u001b[0m \u001b[0;34m\u001b[0m\u001b[0m\n\u001b[1;32m   1793\u001b[0m         \u001b[0mset_kwargs_drawstyle\u001b[0m\u001b[0;34m(\u001b[0m\u001b[0mkwargs\u001b[0m\u001b[0;34m,\u001b[0m \u001b[0;34m\"steps-post\"\u001b[0m\u001b[0;34m)\u001b[0m\u001b[0;34m\u001b[0m\u001b[0;34m\u001b[0m\u001b[0m\n",
            "\u001b[0;31mKeyError\u001b[0m: 'covariate `sex` is not present in the original dataset'"
          ]
        }
      ]
    },
    {
      "cell_type": "markdown",
      "metadata": {
        "id": "-JRvblsIsgyB",
        "colab_type": "text"
      },
      "source": [
        "### Remember how the Cox model assumes the ratio of death events between groups remains constant over time?\n",
        "Well we can check for that."
      ]
    },
    {
      "cell_type": "code",
      "metadata": {
        "id": "XEG4bSlUsgyC",
        "colab_type": "code",
        "outputId": "8615f973-360c-4aa5-e0b1-187779e7b25d",
        "colab": {
          "base_uri": "https://localhost:8080/",
          "height": 34
        }
      },
      "source": [
        "cph.check_assumptions(leukemia)"
      ],
      "execution_count": 13,
      "outputs": [
        {
          "output_type": "stream",
          "text": [
            "Proportional hazard assumption looks okay.\n"
          ],
          "name": "stdout"
        }
      ]
    },
    {
      "cell_type": "code",
      "metadata": {
        "id": "ZO_dFbKesgyG",
        "colab_type": "code",
        "outputId": "121bcf7d-240c-4971-802b-04471707cee4",
        "colab": {
          "base_uri": "https://localhost:8080/",
          "height": 296
        }
      },
      "source": [
        "# We can see that the sex variable is not very useful by plotting the coefficients\n",
        "cph.plot()"
      ],
      "execution_count": 22,
      "outputs": [
        {
          "output_type": "execute_result",
          "data": {
            "text/plain": [
              "<matplotlib.axes._subplots.AxesSubplot at 0x7f3dddb715f8>"
            ]
          },
          "metadata": {
            "tags": []
          },
          "execution_count": 22
        },
        {
          "output_type": "display_data",
          "data": {
            "image/png": "[encoded data removed]",
            "text/plain": [
              "<Figure size 432x288 with 1 Axes>"
            ]
          },
          "metadata": {
            "tags": []
          }
        }
      ]
    },
    {
      "cell_type": "code",
      "metadata": {
        "id": "D1rwy5wMsgyL",
        "colab_type": "code",
        "outputId": "1509f2ae-606b-4c42-af4f-43a48611affb",
        "colab": {
          "base_uri": "https://localhost:8080/",
          "height": 374
        }
      },
      "source": [
        "# Let's do what the check_assumptions function suggested\n",
        "cph = lifelines.CoxPHFitter()\n",
        "cph.fit(leukemia, 't', event_col='status', strata=['sex'])\n",
        "cph.print_summary()\n",
        "cph.baseline_cumulative_hazard_.shape"
      ],
      "execution_count": 23,
      "outputs": [
        {
          "output_type": "stream",
          "text": [
            "<lifelines.CoxPHFitter: fitted with 42 observations, 12 censored>\n",
            "      duration col = 't'\n",
            "         event col = 'status'\n",
            "            strata = ['sex']\n",
            "number of subjects = 42\n",
            "  number of events = 30\n",
            "partial log-likelihood = -55.73\n",
            "  time fit was run = 2019-08-04 02:05:44 UTC\n",
            "\n",
            "---\n",
            "        coef exp(coef)  se(coef)  coef lower 95%  coef upper 95% exp(coef) lower 95% exp(coef) upper 95%\n",
            "logWBC  1.45      4.28      0.34            0.78            2.13                2.18                8.40\n",
            "Rx      1.00      2.71      0.47            0.07            1.93                1.07                6.86\n",
            "\n",
            "          z      p  -log2(p)\n",
            "logWBC 4.22 <0.005     15.35\n",
            "Rx     2.11   0.04      4.83\n",
            "---\n",
            "Concordance = 0.81\n",
            "Log-likelihood ratio test = 32.06 on 2 df, -log2(p)=23.13\n"
          ],
          "name": "stdout"
        },
        {
          "output_type": "execute_result",
          "data": {
            "text/plain": [
              "(24, 2)"
            ]
          },
          "metadata": {
            "tags": []
          },
          "execution_count": 23
        }
      ]
    },
    {
      "cell_type": "markdown",
      "metadata": {
        "id": "Qn4HZjeGsgyP",
        "colab_type": "text"
      },
      "source": [
        "Notice that this regression has `Likelihood ratio test = 74.90 on 2 df, log(p)=-37.45`, while the one that included `sex` had `Likelihood ratio test = 47.19 on 3 df, log(p)=-21.87`. The LRT is higher and log(p) is lower, meaning this is likely a better fitting model."
      ]
    },
    {
      "cell_type": "code",
      "metadata": {
        "id": "jL8JzzhIsgyQ",
        "colab_type": "code",
        "outputId": "d4eb3d45-c782-4fc7-9fe0-559c9263b581",
        "colab": {
          "base_uri": "https://localhost:8080/",
          "height": 296
        }
      },
      "source": [
        "cph.plot()"
      ],
      "execution_count": 24,
      "outputs": [
        {
          "output_type": "execute_result",
          "data": {
            "text/plain": [
              "<matplotlib.axes._subplots.AxesSubplot at 0x7f3dddc0f7b8>"
            ]
          },
          "metadata": {
            "tags": []
          },
          "execution_count": 24
        },
        {
          "output_type": "display_data",
          "data": {
            "image/png": "[encoded data removed]",
            "text/plain": [
              "<Figure size 432x288 with 1 Axes>"
            ]
          },
          "metadata": {
            "tags": []
          }
        }
      ]
    },
    {
      "cell_type": "code",
      "metadata": {
        "id": "Py4DYu_XsgyU",
        "colab_type": "code",
        "outputId": "5bd53326-090e-4672-a57a-b33f0fe02975",
        "colab": {
          "base_uri": "https://localhost:8080/",
          "height": 1000
        }
      },
      "source": [
        "cph.compute_residuals(leukemia, kind='score')"
      ],
      "execution_count": 25,
      "outputs": [
        {
          "output_type": "execute_result",
          "data": {
            "text/html": [
              "<div>\n",
              "<style scoped>\n",
              "    .dataframe tbody tr th:only-of-type {\n",
              "        vertical-align: middle;\n",
              "    }\n",
              "\n",
              "    .dataframe tbody tr th {\n",
              "        vertical-align: top;\n",
              "    }\n",
              "\n",
              "    .dataframe thead th {\n",
              "        text-align: right;\n",
              "    }\n",
              "</style>\n",
              "<table border=\"1\" class=\"dataframe\">\n",
              "  <thead>\n",
              "    <tr style=\"text-align: right;\">\n",
              "      <th></th>\n",
              "      <th>logWBC</th>\n",
              "      <th>Rx</th>\n",
              "    </tr>\n",
              "  </thead>\n",
              "  <tbody>\n",
              "    <tr>\n",
              "      <th>34</th>\n",
              "      <td>0.426727</td>\n",
              "      <td>0.337062</td>\n",
              "    </tr>\n",
              "    <tr>\n",
              "      <th>17</th>\n",
              "      <td>0.009454</td>\n",
              "      <td>0.022002</td>\n",
              "    </tr>\n",
              "    <tr>\n",
              "      <th>18</th>\n",
              "      <td>-1.017077</td>\n",
              "      <td>-0.518252</td>\n",
              "    </tr>\n",
              "    <tr>\n",
              "      <th>20</th>\n",
              "      <td>-0.074253</td>\n",
              "      <td>-0.459456</td>\n",
              "    </tr>\n",
              "    <tr>\n",
              "      <th>16</th>\n",
              "      <td>0.074935</td>\n",
              "      <td>-0.047861</td>\n",
              "    </tr>\n",
              "    <tr>\n",
              "      <th>29</th>\n",
              "      <td>0.362845</td>\n",
              "      <td>-0.013866</td>\n",
              "    </tr>\n",
              "    <tr>\n",
              "      <th>30</th>\n",
              "      <td>0.212283</td>\n",
              "      <td>0.116682</td>\n",
              "    </tr>\n",
              "    <tr>\n",
              "      <th>31</th>\n",
              "      <td>-0.386970</td>\n",
              "      <td>0.236943</td>\n",
              "    </tr>\n",
              "    <tr>\n",
              "      <th>15</th>\n",
              "      <td>0.079720</td>\n",
              "      <td>0.161875</td>\n",
              "    </tr>\n",
              "    <tr>\n",
              "      <th>13</th>\n",
              "      <td>0.091508</td>\n",
              "      <td>0.141663</td>\n",
              "    </tr>\n",
              "    <tr>\n",
              "      <th>14</th>\n",
              "      <td>0.079838</td>\n",
              "      <td>-0.492455</td>\n",
              "    </tr>\n",
              "    <tr>\n",
              "      <th>12</th>\n",
              "      <td>0.115002</td>\n",
              "      <td>0.160514</td>\n",
              "    </tr>\n",
              "    <tr>\n",
              "      <th>27</th>\n",
              "      <td>-0.147939</td>\n",
              "      <td>-0.328881</td>\n",
              "    </tr>\n",
              "    <tr>\n",
              "      <th>28</th>\n",
              "      <td>-0.303479</td>\n",
              "      <td>0.109601</td>\n",
              "    </tr>\n",
              "    <tr>\n",
              "      <th>25</th>\n",
              "      <td>-0.996017</td>\n",
              "      <td>0.167586</td>\n",
              "    </tr>\n",
              "    <tr>\n",
              "      <th>26</th>\n",
              "      <td>0.023085</td>\n",
              "      <td>-0.207186</td>\n",
              "    </tr>\n",
              "    <tr>\n",
              "      <th>11</th>\n",
              "      <td>0.182529</td>\n",
              "      <td>0.020503</td>\n",
              "    </tr>\n",
              "    <tr>\n",
              "      <th>24</th>\n",
              "      <td>0.134259</td>\n",
              "      <td>-0.068184</td>\n",
              "    </tr>\n",
              "    <tr>\n",
              "      <th>9</th>\n",
              "      <td>0.306262</td>\n",
              "      <td>0.344271</td>\n",
              "    </tr>\n",
              "    <tr>\n",
              "      <th>23</th>\n",
              "      <td>-0.171575</td>\n",
              "      <td>-0.481631</td>\n",
              "    </tr>\n",
              "    <tr>\n",
              "      <th>8</th>\n",
              "      <td>0.376521</td>\n",
              "      <td>0.382671</td>\n",
              "    </tr>\n",
              "    <tr>\n",
              "      <th>22</th>\n",
              "      <td>0.185337</td>\n",
              "      <td>-0.429448</td>\n",
              "    </tr>\n",
              "    <tr>\n",
              "      <th>40</th>\n",
              "      <td>-1.624796</td>\n",
              "      <td>0.097108</td>\n",
              "    </tr>\n",
              "    <tr>\n",
              "      <th>41</th>\n",
              "      <td>0.241251</td>\n",
              "      <td>0.047132</td>\n",
              "    </tr>\n",
              "    <tr>\n",
              "      <th>38</th>\n",
              "      <td>0.214550</td>\n",
              "      <td>0.045380</td>\n",
              "    </tr>\n",
              "    <tr>\n",
              "      <th>39</th>\n",
              "      <td>0.326342</td>\n",
              "      <td>0.095987</td>\n",
              "    </tr>\n",
              "    <tr>\n",
              "      <th>37</th>\n",
              "      <td>0.263676</td>\n",
              "      <td>0.165380</td>\n",
              "    </tr>\n",
              "    <tr>\n",
              "      <th>35</th>\n",
              "      <td>0.120248</td>\n",
              "      <td>0.031347</td>\n",
              "    </tr>\n",
              "    <tr>\n",
              "      <th>36</th>\n",
              "      <td>-0.704047</td>\n",
              "      <td>0.518576</td>\n",
              "    </tr>\n",
              "    <tr>\n",
              "      <th>33</th>\n",
              "      <td>0.262159</td>\n",
              "      <td>0.256192</td>\n",
              "    </tr>\n",
              "    <tr>\n",
              "      <th>19</th>\n",
              "      <td>0.038438</td>\n",
              "      <td>0.478888</td>\n",
              "    </tr>\n",
              "    <tr>\n",
              "      <th>32</th>\n",
              "      <td>0.479277</td>\n",
              "      <td>0.031551</td>\n",
              "    </tr>\n",
              "    <tr>\n",
              "      <th>10</th>\n",
              "      <td>0.249152</td>\n",
              "      <td>0.449203</td>\n",
              "    </tr>\n",
              "    <tr>\n",
              "      <th>7</th>\n",
              "      <td>0.219107</td>\n",
              "      <td>0.063538</td>\n",
              "    </tr>\n",
              "    <tr>\n",
              "      <th>6</th>\n",
              "      <td>0.329220</td>\n",
              "      <td>-0.035342</td>\n",
              "    </tr>\n",
              "    <tr>\n",
              "      <th>5</th>\n",
              "      <td>0.453363</td>\n",
              "      <td>0.028966</td>\n",
              "    </tr>\n",
              "    <tr>\n",
              "      <th>21</th>\n",
              "      <td>0.346306</td>\n",
              "      <td>0.117375</td>\n",
              "    </tr>\n",
              "    <tr>\n",
              "      <th>4</th>\n",
              "      <td>0.294691</td>\n",
              "      <td>0.100191</td>\n",
              "    </tr>\n",
              "    <tr>\n",
              "      <th>2</th>\n",
              "      <td>0.220840</td>\n",
              "      <td>0.175433</td>\n",
              "    </tr>\n",
              "    <tr>\n",
              "      <th>3</th>\n",
              "      <td>-0.017192</td>\n",
              "      <td>0.272434</td>\n",
              "    </tr>\n",
              "    <tr>\n",
              "      <th>1</th>\n",
              "      <td>0.277180</td>\n",
              "      <td>0.066262</td>\n",
              "    </tr>\n",
              "    <tr>\n",
              "      <th>0</th>\n",
              "      <td>0.275053</td>\n",
              "      <td>0.064517</td>\n",
              "    </tr>\n",
              "  </tbody>\n",
              "</table>\n",
              "</div>"
            ],
            "text/plain": [
              "      logWBC        Rx\n",
              "34  0.426727  0.337062\n",
              "17  0.009454  0.022002\n",
              "18 -1.017077 -0.518252\n",
              "20 -0.074253 -0.459456\n",
              "16  0.074935 -0.047861\n",
              "29  0.362845 -0.013866\n",
              "30  0.212283  0.116682\n",
              "31 -0.386970  0.236943\n",
              "15  0.079720  0.161875\n",
              "13  0.091508  0.141663\n",
              "14  0.079838 -0.492455\n",
              "12  0.115002  0.160514\n",
              "27 -0.147939 -0.328881\n",
              "28 -0.303479  0.109601\n",
              "25 -0.996017  0.167586\n",
              "26  0.023085 -0.207186\n",
              "11  0.182529  0.020503\n",
              "24  0.134259 -0.068184\n",
              "9   0.306262  0.344271\n",
              "23 -0.171575 -0.481631\n",
              "8   0.376521  0.382671\n",
              "22  0.185337 -0.429448\n",
              "40 -1.624796  0.097108\n",
              "41  0.241251  0.047132\n",
              "38  0.214550  0.045380\n",
              "39  0.326342  0.095987\n",
              "37  0.263676  0.165380\n",
              "35  0.120248  0.031347\n",
              "36 -0.704047  0.518576\n",
              "33  0.262159  0.256192\n",
              "19  0.038438  0.478888\n",
              "32  0.479277  0.031551\n",
              "10  0.249152  0.449203\n",
              "7   0.219107  0.063538\n",
              "6   0.329220 -0.035342\n",
              "5   0.453363  0.028966\n",
              "21  0.346306  0.117375\n",
              "4   0.294691  0.100191\n",
              "2   0.220840  0.175433\n",
              "3  -0.017192  0.272434\n",
              "1   0.277180  0.066262\n",
              "0   0.275053  0.064517"
            ]
          },
          "metadata": {
            "tags": []
          },
          "execution_count": 25
        }
      ]
    },
    {
      "cell_type": "code",
      "metadata": {
        "id": "LMN1uGnQsgyY",
        "colab_type": "code",
        "outputId": "40c127e5-2204-453e-e3e8-6d6e7158dde0",
        "colab": {
          "base_uri": "https://localhost:8080/",
          "height": 793
        }
      },
      "source": [
        "cph.predict_cumulative_hazard(leukemia[:5])"
      ],
      "execution_count": 26,
      "outputs": [
        {
          "output_type": "execute_result",
          "data": {
            "text/html": [
              "<div>\n",
              "<style scoped>\n",
              "    .dataframe tbody tr th:only-of-type {\n",
              "        vertical-align: middle;\n",
              "    }\n",
              "\n",
              "    .dataframe tbody tr th {\n",
              "        vertical-align: top;\n",
              "    }\n",
              "\n",
              "    .dataframe thead th {\n",
              "        text-align: right;\n",
              "    }\n",
              "</style>\n",
              "<table border=\"1\" class=\"dataframe\">\n",
              "  <thead>\n",
              "    <tr style=\"text-align: right;\">\n",
              "      <th></th>\n",
              "      <th>0</th>\n",
              "      <th>1</th>\n",
              "      <th>2</th>\n",
              "      <th>3</th>\n",
              "      <th>4</th>\n",
              "    </tr>\n",
              "  </thead>\n",
              "  <tbody>\n",
              "    <tr>\n",
              "      <th>1.0</th>\n",
              "      <td>0.001231</td>\n",
              "      <td>0.001268</td>\n",
              "      <td>0.003663</td>\n",
              "      <td>0.005919</td>\n",
              "      <td>0.001989</td>\n",
              "    </tr>\n",
              "    <tr>\n",
              "      <th>2.0</th>\n",
              "      <td>0.002998</td>\n",
              "      <td>0.003086</td>\n",
              "      <td>0.008919</td>\n",
              "      <td>0.014410</td>\n",
              "      <td>0.004844</td>\n",
              "    </tr>\n",
              "    <tr>\n",
              "      <th>3.0</th>\n",
              "      <td>0.005017</td>\n",
              "      <td>0.005165</td>\n",
              "      <td>0.014925</td>\n",
              "      <td>0.024114</td>\n",
              "      <td>0.008105</td>\n",
              "    </tr>\n",
              "    <tr>\n",
              "      <th>4.0</th>\n",
              "      <td>0.010236</td>\n",
              "      <td>0.010538</td>\n",
              "      <td>0.030452</td>\n",
              "      <td>0.049199</td>\n",
              "      <td>0.016537</td>\n",
              "    </tr>\n",
              "    <tr>\n",
              "      <th>5.0</th>\n",
              "      <td>0.015623</td>\n",
              "      <td>0.016084</td>\n",
              "      <td>0.046479</td>\n",
              "      <td>0.075091</td>\n",
              "      <td>0.025241</td>\n",
              "    </tr>\n",
              "    <tr>\n",
              "      <th>6.0</th>\n",
              "      <td>0.023143</td>\n",
              "      <td>0.023826</td>\n",
              "      <td>0.068850</td>\n",
              "      <td>0.111234</td>\n",
              "      <td>0.037390</td>\n",
              "    </tr>\n",
              "    <tr>\n",
              "      <th>7.0</th>\n",
              "      <td>0.023143</td>\n",
              "      <td>0.023826</td>\n",
              "      <td>0.068850</td>\n",
              "      <td>0.111234</td>\n",
              "      <td>0.037390</td>\n",
              "    </tr>\n",
              "    <tr>\n",
              "      <th>8.0</th>\n",
              "      <td>0.034436</td>\n",
              "      <td>0.035452</td>\n",
              "      <td>0.102447</td>\n",
              "      <td>0.165514</td>\n",
              "      <td>0.055635</td>\n",
              "    </tr>\n",
              "    <tr>\n",
              "      <th>9.0</th>\n",
              "      <td>0.034436</td>\n",
              "      <td>0.035452</td>\n",
              "      <td>0.102447</td>\n",
              "      <td>0.165514</td>\n",
              "      <td>0.055635</td>\n",
              "    </tr>\n",
              "    <tr>\n",
              "      <th>10.0</th>\n",
              "      <td>0.034436</td>\n",
              "      <td>0.035452</td>\n",
              "      <td>0.102447</td>\n",
              "      <td>0.165514</td>\n",
              "      <td>0.055635</td>\n",
              "    </tr>\n",
              "    <tr>\n",
              "      <th>11.0</th>\n",
              "      <td>0.034436</td>\n",
              "      <td>0.035452</td>\n",
              "      <td>0.102447</td>\n",
              "      <td>0.165514</td>\n",
              "      <td>0.055635</td>\n",
              "    </tr>\n",
              "    <tr>\n",
              "      <th>12.0</th>\n",
              "      <td>0.034436</td>\n",
              "      <td>0.035452</td>\n",
              "      <td>0.102447</td>\n",
              "      <td>0.165514</td>\n",
              "      <td>0.055635</td>\n",
              "    </tr>\n",
              "    <tr>\n",
              "      <th>13.0</th>\n",
              "      <td>0.034436</td>\n",
              "      <td>0.035452</td>\n",
              "      <td>0.102447</td>\n",
              "      <td>0.165514</td>\n",
              "      <td>0.055635</td>\n",
              "    </tr>\n",
              "    <tr>\n",
              "      <th>15.0</th>\n",
              "      <td>0.034436</td>\n",
              "      <td>0.035452</td>\n",
              "      <td>0.102447</td>\n",
              "      <td>0.165514</td>\n",
              "      <td>0.055635</td>\n",
              "    </tr>\n",
              "    <tr>\n",
              "      <th>16.0</th>\n",
              "      <td>0.054096</td>\n",
              "      <td>0.055692</td>\n",
              "      <td>0.160935</td>\n",
              "      <td>0.260006</td>\n",
              "      <td>0.087397</td>\n",
              "    </tr>\n",
              "    <tr>\n",
              "      <th>17.0</th>\n",
              "      <td>0.054096</td>\n",
              "      <td>0.055692</td>\n",
              "      <td>0.160935</td>\n",
              "      <td>0.260006</td>\n",
              "      <td>0.087397</td>\n",
              "    </tr>\n",
              "    <tr>\n",
              "      <th>19.0</th>\n",
              "      <td>0.054096</td>\n",
              "      <td>0.055692</td>\n",
              "      <td>0.160935</td>\n",
              "      <td>0.260006</td>\n",
              "      <td>0.087397</td>\n",
              "    </tr>\n",
              "    <tr>\n",
              "      <th>20.0</th>\n",
              "      <td>0.054096</td>\n",
              "      <td>0.055692</td>\n",
              "      <td>0.160935</td>\n",
              "      <td>0.260006</td>\n",
              "      <td>0.087397</td>\n",
              "    </tr>\n",
              "    <tr>\n",
              "      <th>22.0</th>\n",
              "      <td>0.092795</td>\n",
              "      <td>0.095533</td>\n",
              "      <td>0.276065</td>\n",
              "      <td>0.446010</td>\n",
              "      <td>0.149920</td>\n",
              "    </tr>\n",
              "    <tr>\n",
              "      <th>23.0</th>\n",
              "      <td>0.182488</td>\n",
              "      <td>0.187871</td>\n",
              "      <td>0.542900</td>\n",
              "      <td>0.877109</td>\n",
              "      <td>0.294828</td>\n",
              "    </tr>\n",
              "    <tr>\n",
              "      <th>25.0</th>\n",
              "      <td>0.182488</td>\n",
              "      <td>0.187871</td>\n",
              "      <td>0.542900</td>\n",
              "      <td>0.877109</td>\n",
              "      <td>0.294828</td>\n",
              "    </tr>\n",
              "    <tr>\n",
              "      <th>32.0</th>\n",
              "      <td>0.182488</td>\n",
              "      <td>0.187871</td>\n",
              "      <td>0.542900</td>\n",
              "      <td>0.877109</td>\n",
              "      <td>0.294828</td>\n",
              "    </tr>\n",
              "    <tr>\n",
              "      <th>34.0</th>\n",
              "      <td>0.182488</td>\n",
              "      <td>0.187871</td>\n",
              "      <td>0.542900</td>\n",
              "      <td>0.877109</td>\n",
              "      <td>0.294828</td>\n",
              "    </tr>\n",
              "    <tr>\n",
              "      <th>35.0</th>\n",
              "      <td>0.182488</td>\n",
              "      <td>0.187871</td>\n",
              "      <td>0.542900</td>\n",
              "      <td>0.877109</td>\n",
              "      <td>0.294828</td>\n",
              "    </tr>\n",
              "  </tbody>\n",
              "</table>\n",
              "</div>"
            ],
            "text/plain": [
              "             0         1         2         3         4\n",
              "1.0   0.001231  0.001268  0.003663  0.005919  0.001989\n",
              "2.0   0.002998  0.003086  0.008919  0.014410  0.004844\n",
              "3.0   0.005017  0.005165  0.014925  0.024114  0.008105\n",
              "4.0   0.010236  0.010538  0.030452  0.049199  0.016537\n",
              "5.0   0.015623  0.016084  0.046479  0.075091  0.025241\n",
              "6.0   0.023143  0.023826  0.068850  0.111234  0.037390\n",
              "7.0   0.023143  0.023826  0.068850  0.111234  0.037390\n",
              "8.0   0.034436  0.035452  0.102447  0.165514  0.055635\n",
              "9.0   0.034436  0.035452  0.102447  0.165514  0.055635\n",
              "10.0  0.034436  0.035452  0.102447  0.165514  0.055635\n",
              "11.0  0.034436  0.035452  0.102447  0.165514  0.055635\n",
              "12.0  0.034436  0.035452  0.102447  0.165514  0.055635\n",
              "13.0  0.034436  0.035452  0.102447  0.165514  0.055635\n",
              "15.0  0.034436  0.035452  0.102447  0.165514  0.055635\n",
              "16.0  0.054096  0.055692  0.160935  0.260006  0.087397\n",
              "17.0  0.054096  0.055692  0.160935  0.260006  0.087397\n",
              "19.0  0.054096  0.055692  0.160935  0.260006  0.087397\n",
              "20.0  0.054096  0.055692  0.160935  0.260006  0.087397\n",
              "22.0  0.092795  0.095533  0.276065  0.446010  0.149920\n",
              "23.0  0.182488  0.187871  0.542900  0.877109  0.294828\n",
              "25.0  0.182488  0.187871  0.542900  0.877109  0.294828\n",
              "32.0  0.182488  0.187871  0.542900  0.877109  0.294828\n",
              "34.0  0.182488  0.187871  0.542900  0.877109  0.294828\n",
              "35.0  0.182488  0.187871  0.542900  0.877109  0.294828"
            ]
          },
          "metadata": {
            "tags": []
          },
          "execution_count": 26
        }
      ]
    },
    {
      "cell_type": "code",
      "metadata": {
        "id": "bs_Npp6osgyc",
        "colab_type": "code",
        "outputId": "1b0c7f33-fc57-4138-a5f6-8b98e2b900dc",
        "colab": {
          "base_uri": "https://localhost:8080/",
          "height": 452
        }
      },
      "source": [
        "surv_func = cph.predict_survival_function(leukemia[:5])\n",
        "\n",
        "exp_lifetime = cph.predict_expectation(leukemia[:5])\n",
        "\n",
        "plt.plot(surv_func)\n",
        "\n",
        "exp_lifetime"
      ],
      "execution_count": 27,
      "outputs": [
        {
          "output_type": "execute_result",
          "data": {
            "text/html": [
              "<div>\n",
              "<style scoped>\n",
              "    .dataframe tbody tr th:only-of-type {\n",
              "        vertical-align: middle;\n",
              "    }\n",
              "\n",
              "    .dataframe tbody tr th {\n",
              "        vertical-align: top;\n",
              "    }\n",
              "\n",
              "    .dataframe thead th {\n",
              "        text-align: right;\n",
              "    }\n",
              "</style>\n",
              "<table border=\"1\" class=\"dataframe\">\n",
              "  <thead>\n",
              "    <tr style=\"text-align: right;\">\n",
              "      <th></th>\n",
              "      <th>0</th>\n",
              "    </tr>\n",
              "  </thead>\n",
              "  <tbody>\n",
              "    <tr>\n",
              "      <th>0</th>\n",
              "      <td>31.141527</td>\n",
              "    </tr>\n",
              "    <tr>\n",
              "      <th>1</th>\n",
              "      <td>31.063377</td>\n",
              "    </tr>\n",
              "    <tr>\n",
              "      <th>2</th>\n",
              "      <td>26.570826</td>\n",
              "    </tr>\n",
              "    <tr>\n",
              "      <th>3</th>\n",
              "      <td>23.308517</td>\n",
              "    </tr>\n",
              "    <tr>\n",
              "      <th>4</th>\n",
              "      <td>29.577589</td>\n",
              "    </tr>\n",
              "  </tbody>\n",
              "</table>\n",
              "</div>"
            ],
            "text/plain": [
              "           0\n",
              "0  31.141527\n",
              "1  31.063377\n",
              "2  26.570826\n",
              "3  23.308517\n",
              "4  29.577589"
            ]
          },
          "metadata": {
            "tags": []
          },
          "execution_count": 27
        },
        {
          "output_type": "display_data",
          "data": {
            "image/png": "[encoded data removed]",
            "text/plain": [
              "<Figure size 432x288 with 1 Axes>"
            ]
          },
          "metadata": {
            "tags": []
          }
        }
      ]
    },
    {
      "cell_type": "code",
      "metadata": {
        "id": "z7NNzQ_5sgyh",
        "colab_type": "code",
        "outputId": "c3abfa1b-b12e-4739-d397-190858a2e52d",
        "colab": {
          "base_uri": "https://localhost:8080/",
          "height": 204
        }
      },
      "source": [
        "# lifelines comes with some datasets to get you started playing around with it\n",
        "# The Rossi dataset originally comes from Rossi et al. (1980), \n",
        "# and is used as an example in Allison (1995). \n",
        "\n",
        "# The data pertain to 432 convicts who were released from Maryland state prisons \n",
        "# in the 1970s and who were followed up for one year after release. Half the \n",
        "# released convicts were assigned at random to an experimental treatment in \n",
        "# which they were given financial aid; half did not receive aid.\n",
        "\n",
        "from lifelines.datasets import load_rossi\n",
        "recidivism = load_rossi()\n",
        "\n",
        "recidivism.head()\n",
        "\n",
        "# Looking at the Rossi dataset, how long do you think the study lasted?\n",
        "\n",
        "# All features are coded with numerical values, but which features do you think \n",
        "# are actually categorical?"
      ],
      "execution_count": 28,
      "outputs": [
        {
          "output_type": "execute_result",
          "data": {
            "text/html": [
              "<div>\n",
              "<style scoped>\n",
              "    .dataframe tbody tr th:only-of-type {\n",
              "        vertical-align: middle;\n",
              "    }\n",
              "\n",
              "    .dataframe tbody tr th {\n",
              "        vertical-align: top;\n",
              "    }\n",
              "\n",
              "    .dataframe thead th {\n",
              "        text-align: right;\n",
              "    }\n",
              "</style>\n",
              "<table border=\"1\" class=\"dataframe\">\n",
              "  <thead>\n",
              "    <tr style=\"text-align: right;\">\n",
              "      <th></th>\n",
              "      <th>week</th>\n",
              "      <th>arrest</th>\n",
              "      <th>fin</th>\n",
              "      <th>age</th>\n",
              "      <th>race</th>\n",
              "      <th>wexp</th>\n",
              "      <th>mar</th>\n",
              "      <th>paro</th>\n",
              "      <th>prio</th>\n",
              "    </tr>\n",
              "  </thead>\n",
              "  <tbody>\n",
              "    <tr>\n",
              "      <th>0</th>\n",
              "      <td>20</td>\n",
              "      <td>1</td>\n",
              "      <td>0</td>\n",
              "      <td>27</td>\n",
              "      <td>1</td>\n",
              "      <td>0</td>\n",
              "      <td>0</td>\n",
              "      <td>1</td>\n",
              "      <td>3</td>\n",
              "    </tr>\n",
              "    <tr>\n",
              "      <th>1</th>\n",
              "      <td>17</td>\n",
              "      <td>1</td>\n",
              "      <td>0</td>\n",
              "      <td>18</td>\n",
              "      <td>1</td>\n",
              "      <td>0</td>\n",
              "      <td>0</td>\n",
              "      <td>1</td>\n",
              "      <td>8</td>\n",
              "    </tr>\n",
              "    <tr>\n",
              "      <th>2</th>\n",
              "      <td>25</td>\n",
              "      <td>1</td>\n",
              "      <td>0</td>\n",
              "      <td>19</td>\n",
              "      <td>0</td>\n",
              "      <td>1</td>\n",
              "      <td>0</td>\n",
              "      <td>1</td>\n",
              "      <td>13</td>\n",
              "    </tr>\n",
              "    <tr>\n",
              "      <th>3</th>\n",
              "      <td>52</td>\n",
              "      <td>0</td>\n",
              "      <td>1</td>\n",
              "      <td>23</td>\n",
              "      <td>1</td>\n",
              "      <td>1</td>\n",
              "      <td>1</td>\n",
              "      <td>1</td>\n",
              "      <td>1</td>\n",
              "    </tr>\n",
              "    <tr>\n",
              "      <th>4</th>\n",
              "      <td>52</td>\n",
              "      <td>0</td>\n",
              "      <td>0</td>\n",
              "      <td>19</td>\n",
              "      <td>0</td>\n",
              "      <td>1</td>\n",
              "      <td>0</td>\n",
              "      <td>1</td>\n",
              "      <td>3</td>\n",
              "    </tr>\n",
              "  </tbody>\n",
              "</table>\n",
              "</div>"
            ],
            "text/plain": [
              "   week  arrest  fin  age  race  wexp  mar  paro  prio\n",
              "0    20       1    0   27     1     0    0     1     3\n",
              "1    17       1    0   18     1     0    0     1     8\n",
              "2    25       1    0   19     0     1    0     1    13\n",
              "3    52       0    1   23     1     1    1     1     1\n",
              "4    52       0    0   19     0     1    0     1     3"
            ]
          },
          "metadata": {
            "tags": []
          },
          "execution_count": 28
        }
      ]
    },
    {
      "cell_type": "code",
      "metadata": {
        "id": "1VjqAV3ksgyk",
        "colab_type": "code",
        "outputId": "aba4fdba-1aeb-4c58-d7e8-37be2aa6f84a",
        "colab": {
          "base_uri": "https://localhost:8080/",
          "height": 255
        }
      },
      "source": [
        "recidivism.info()"
      ],
      "execution_count": 29,
      "outputs": [
        {
          "output_type": "stream",
          "text": [
            "<class 'pandas.core.frame.DataFrame'>\n",
            "RangeIndex: 432 entries, 0 to 431\n",
            "Data columns (total 9 columns):\n",
            "week      432 non-null int64\n",
            "arrest    432 non-null int64\n",
            "fin       432 non-null int64\n",
            "age       432 non-null int64\n",
            "race      432 non-null int64\n",
            "wexp      432 non-null int64\n",
            "mar       432 non-null int64\n",
            "paro      432 non-null int64\n",
            "prio      432 non-null int64\n",
            "dtypes: int64(9)\n",
            "memory usage: 30.5 KB\n"
          ],
          "name": "stdout"
        }
      ]
    },
    {
      "cell_type": "code",
      "metadata": {
        "id": "LVq_ZOFgsgyq",
        "colab_type": "code",
        "outputId": "b21e1550-6f84-4964-9c17-aa56f53e3a09",
        "colab": {
          "base_uri": "https://localhost:8080/",
          "height": 297
        }
      },
      "source": [
        "recidivism.describe()"
      ],
      "execution_count": 30,
      "outputs": [
        {
          "output_type": "execute_result",
          "data": {
            "text/html": [
              "<div>\n",
              "<style scoped>\n",
              "    .dataframe tbody tr th:only-of-type {\n",
              "        vertical-align: middle;\n",
              "    }\n",
              "\n",
              "    .dataframe tbody tr th {\n",
              "        vertical-align: top;\n",
              "    }\n",
              "\n",
              "    .dataframe thead th {\n",
              "        text-align: right;\n",
              "    }\n",
              "</style>\n",
              "<table border=\"1\" class=\"dataframe\">\n",
              "  <thead>\n",
              "    <tr style=\"text-align: right;\">\n",
              "      <th></th>\n",
              "      <th>week</th>\n",
              "      <th>arrest</th>\n",
              "      <th>fin</th>\n",
              "      <th>age</th>\n",
              "      <th>race</th>\n",
              "      <th>wexp</th>\n",
              "      <th>mar</th>\n",
              "      <th>paro</th>\n",
              "      <th>prio</th>\n",
              "    </tr>\n",
              "  </thead>\n",
              "  <tbody>\n",
              "    <tr>\n",
              "      <th>count</th>\n",
              "      <td>432.000000</td>\n",
              "      <td>432.000000</td>\n",
              "      <td>432.00000</td>\n",
              "      <td>432.000000</td>\n",
              "      <td>432.000000</td>\n",
              "      <td>432.000000</td>\n",
              "      <td>432.000000</td>\n",
              "      <td>432.000000</td>\n",
              "      <td>432.000000</td>\n",
              "    </tr>\n",
              "    <tr>\n",
              "      <th>mean</th>\n",
              "      <td>45.854167</td>\n",
              "      <td>0.263889</td>\n",
              "      <td>0.50000</td>\n",
              "      <td>24.597222</td>\n",
              "      <td>0.877315</td>\n",
              "      <td>0.571759</td>\n",
              "      <td>0.122685</td>\n",
              "      <td>0.618056</td>\n",
              "      <td>2.983796</td>\n",
              "    </tr>\n",
              "    <tr>\n",
              "      <th>std</th>\n",
              "      <td>12.662293</td>\n",
              "      <td>0.441251</td>\n",
              "      <td>0.50058</td>\n",
              "      <td>6.113375</td>\n",
              "      <td>0.328456</td>\n",
              "      <td>0.495398</td>\n",
              "      <td>0.328456</td>\n",
              "      <td>0.486426</td>\n",
              "      <td>2.896068</td>\n",
              "    </tr>\n",
              "    <tr>\n",
              "      <th>min</th>\n",
              "      <td>1.000000</td>\n",
              "      <td>0.000000</td>\n",
              "      <td>0.00000</td>\n",
              "      <td>17.000000</td>\n",
              "      <td>0.000000</td>\n",
              "      <td>0.000000</td>\n",
              "      <td>0.000000</td>\n",
              "      <td>0.000000</td>\n",
              "      <td>0.000000</td>\n",
              "    </tr>\n",
              "    <tr>\n",
              "      <th>25%</th>\n",
              "      <td>50.000000</td>\n",
              "      <td>0.000000</td>\n",
              "      <td>0.00000</td>\n",
              "      <td>20.000000</td>\n",
              "      <td>1.000000</td>\n",
              "      <td>0.000000</td>\n",
              "      <td>0.000000</td>\n",
              "      <td>0.000000</td>\n",
              "      <td>1.000000</td>\n",
              "    </tr>\n",
              "    <tr>\n",
              "      <th>50%</th>\n",
              "      <td>52.000000</td>\n",
              "      <td>0.000000</td>\n",
              "      <td>0.50000</td>\n",
              "      <td>23.000000</td>\n",
              "      <td>1.000000</td>\n",
              "      <td>1.000000</td>\n",
              "      <td>0.000000</td>\n",
              "      <td>1.000000</td>\n",
              "      <td>2.000000</td>\n",
              "    </tr>\n",
              "    <tr>\n",
              "      <th>75%</th>\n",
              "      <td>52.000000</td>\n",
              "      <td>1.000000</td>\n",
              "      <td>1.00000</td>\n",
              "      <td>27.000000</td>\n",
              "      <td>1.000000</td>\n",
              "      <td>1.000000</td>\n",
              "      <td>0.000000</td>\n",
              "      <td>1.000000</td>\n",
              "      <td>4.000000</td>\n",
              "    </tr>\n",
              "    <tr>\n",
              "      <th>max</th>\n",
              "      <td>52.000000</td>\n",
              "      <td>1.000000</td>\n",
              "      <td>1.00000</td>\n",
              "      <td>44.000000</td>\n",
              "      <td>1.000000</td>\n",
              "      <td>1.000000</td>\n",
              "      <td>1.000000</td>\n",
              "      <td>1.000000</td>\n",
              "      <td>18.000000</td>\n",
              "    </tr>\n",
              "  </tbody>\n",
              "</table>\n",
              "</div>"
            ],
            "text/plain": [
              "             week      arrest        fin  ...         mar        paro        prio\n",
              "count  432.000000  432.000000  432.00000  ...  432.000000  432.000000  432.000000\n",
              "mean    45.854167    0.263889    0.50000  ...    0.122685    0.618056    2.983796\n",
              "std     12.662293    0.441251    0.50058  ...    0.328456    0.486426    2.896068\n",
              "min      1.000000    0.000000    0.00000  ...    0.000000    0.000000    0.000000\n",
              "25%     50.000000    0.000000    0.00000  ...    0.000000    0.000000    1.000000\n",
              "50%     52.000000    0.000000    0.50000  ...    0.000000    1.000000    2.000000\n",
              "75%     52.000000    1.000000    1.00000  ...    0.000000    1.000000    4.000000\n",
              "max     52.000000    1.000000    1.00000  ...    1.000000    1.000000   18.000000\n",
              "\n",
              "[8 rows x 9 columns]"
            ]
          },
          "metadata": {
            "tags": []
          },
          "execution_count": 30
        }
      ]
    },
    {
      "cell_type": "markdown",
      "metadata": {
        "id": "Wg1s1bpJsgyt",
        "colab_type": "text"
      },
      "source": [
        "### These are the \"lifelines\" of the study participants as they attempt to avoid recidivism"
      ]
    },
    {
      "cell_type": "code",
      "metadata": {
        "id": "XqhPJfltsgyv",
        "colab_type": "code",
        "outputId": "61d882f3-66b8-40b6-d961-ea352b2490b2",
        "colab": {
          "base_uri": "https://localhost:8080/",
          "height": 295
        }
      },
      "source": [
        "recidivism_sample = recidivism.sample(n=25)\n",
        "\n",
        "duration = recidivism_sample.week.values\n",
        "arrested = recidivism_sample.arrest.values\n",
        "\n",
        "ax = lifelines.plotting.plot_lifetimes(duration, event_observed=arrested)\n",
        "ax.set_xlim(0, 78)\n",
        "ax.grid(axis='x')\n",
        "ax.vlines(52, 0, 25, lw=2, linestyles='--')\n",
        "ax.set_xlabel(\"Time in Weeks\")\n",
        "ax.set_title(\"Recidivism Rates\");\n",
        "plt.plot();"
      ],
      "execution_count": 31,
      "outputs": [
        {
          "output_type": "display_data",
          "data": {
            "image/png": "[encoded data removed]",
            "text/plain": [
              "<Figure size 432x288 with 1 Axes>"
            ]
          },
          "metadata": {
            "tags": []
          }
        }
      ]
    },
    {
      "cell_type": "code",
      "metadata": {
        "id": "lz4mF5kHsgy1",
        "colab_type": "code",
        "outputId": "99053f49-cf19-4317-dad0-40c2332b4f50",
        "colab": {
          "base_uri": "https://localhost:8080/",
          "height": 34
        }
      },
      "source": [
        "kmf = lifelines.KaplanMeierFitter()\n",
        "\n",
        "duration = recidivism.week\n",
        "arrested = recidivism.arrest\n",
        "\n",
        "kmf.fit(duration, arrested)"
      ],
      "execution_count": 32,
      "outputs": [
        {
          "output_type": "execute_result",
          "data": {
            "text/plain": [
              "<lifelines.KaplanMeierFitter: fitted with 432 observations, 318 censored>"
            ]
          },
          "metadata": {
            "tags": []
          },
          "execution_count": 32
        }
      ]
    },
    {
      "cell_type": "code",
      "metadata": {
        "id": "RA1FMgDNsgy4",
        "colab_type": "code",
        "outputId": "39eb5b50-9d50-4684-8863-b8e79956adb4",
        "colab": {
          "base_uri": "https://localhost:8080/",
          "height": 310
        }
      },
      "source": [
        "kmf.survival_function_.plot()\n",
        "plt.title('Survival Curve:\\nRecidivism of Recently Released Prisoners');"
      ],
      "execution_count": 33,
      "outputs": [
        {
          "output_type": "display_data",
          "data": {
            "image/png": "[encoded data removed]",
            "text/plain": [
              "<Figure size 432x288 with 1 Axes>"
            ]
          },
          "metadata": {
            "tags": []
          }
        }
      ]
    },
    {
      "cell_type": "code",
      "metadata": {
        "id": "PXveA6jesgy8",
        "colab_type": "code",
        "outputId": "a5f94ee6-42ff-4d77-8f42-fb41ed7fd41c",
        "colab": {
          "base_uri": "https://localhost:8080/",
          "height": 295
        }
      },
      "source": [
        "kmf.plot()\n",
        "plt.title('Survival Function of Recidivism Data');"
      ],
      "execution_count": 34,
      "outputs": [
        {
          "output_type": "display_data",
          "data": {
            "image/png": "[encoded data removed]",
            "text/plain": [
              "<Figure size 432x288 with 1 Axes>"
            ]
          },
          "metadata": {
            "tags": []
          }
        }
      ]
    },
    {
      "cell_type": "code",
      "metadata": {
        "id": "Mt3ucIbgsgzB",
        "colab_type": "code",
        "outputId": "f63c6c80-f893-458f-956f-0c93b7c47916",
        "colab": {
          "base_uri": "https://localhost:8080/",
          "height": 34
        }
      },
      "source": [
        "print(f'Median time before recidivism: {kmf.median_} weeks')"
      ],
      "execution_count": 35,
      "outputs": [
        {
          "output_type": "stream",
          "text": [
            "Median time before recidivism: inf weeks\n"
          ],
          "name": "stdout"
        }
      ]
    },
    {
      "cell_type": "code",
      "metadata": {
        "id": "c9e5lAV7sgzH",
        "colab_type": "code",
        "outputId": "682b6fe3-1f54-4a67-b782-20922dceaa78",
        "colab": {
          "base_uri": "https://localhost:8080/",
          "height": 363
        }
      },
      "source": [
        "kmf_w_aid = lifelines.KaplanMeierFitter()\n",
        "kmf_no_aid = lifelines.KaplanMeierFitter()\n",
        "\n",
        "ax = plt.subplot(111)\n",
        "\n",
        "w_aid = (recidivism['fin']==1)\n",
        "\n",
        "t = np.linspace(0, 70, 71)\n",
        "kmf_w_aid.fit(duration[w_aid], event_observed=arrested[w_aid], timeline=t, label=\"Received Financial Aid\")\n",
        "ax = kmf_w_aid.plot(ax=ax)\n",
        "#print(\"Median survival time of democratic:\", kmf.median_)\n",
        "\n",
        "kmf_no_aid.fit(duration[~w_aid], event_observed=arrested[~w_aid], timeline=t, label=\"No Financial Aid\")\n",
        "ax = kmf_no_aid.plot(ax=ax)\n",
        "#print(\"Median survival time of non-democratic:\", kmf.median_)\n",
        "\n",
        "plt.ylim(.5,1)\n",
        "plt.title(\"Recidivism for Participants Who Received Financial Aid \\vs. Those Who Did Not\");"
      ],
      "execution_count": 36,
      "outputs": [
        {
          "output_type": "stream",
          "text": [
            "/usr/local/lib/python3.6/dist-packages/matplotlib/backends/backend_agg.py:211: RuntimeWarning: Glyph 11 missing from current font.\n",
            "  font.set_text(s, 0.0, flags=flags)\n",
            "/usr/local/lib/python3.6/dist-packages/matplotlib/backends/backend_agg.py:180: RuntimeWarning: Glyph 11 missing from current font.\n",
            "  font.set_text(s, 0, flags=flags)\n"
          ],
          "name": "stderr"
        },
        {
          "output_type": "display_data",
          "data": {
            "image/png": "[encoded data removed]",
            "text/plain": [
              "<Figure size 432x288 with 1 Axes>"
            ]
          },
          "metadata": {
            "tags": []
          }
        }
      ]
    },
    {
      "cell_type": "code",
      "metadata": {
        "id": "zdM4GOAOsgzN",
        "colab_type": "code",
        "outputId": "8f64e333-119b-4003-bed3-967294cdfb57",
        "colab": {
          "base_uri": "https://localhost:8080/",
          "height": 415
        }
      },
      "source": [
        "naf = lifelines.NelsonAalenFitter()\n",
        "naf.fit(duration, arrested)\n",
        "\n",
        "print(naf.cumulative_hazard_.head())\n",
        "naf.plot()"
      ],
      "execution_count": 37,
      "outputs": [
        {
          "output_type": "stream",
          "text": [
            "          NA_estimate\n",
            "timeline             \n",
            "0.0          0.000000\n",
            "1.0          0.002315\n",
            "2.0          0.004635\n",
            "3.0          0.006961\n",
            "4.0          0.009292\n"
          ],
          "name": "stdout"
        },
        {
          "output_type": "execute_result",
          "data": {
            "text/plain": [
              "<matplotlib.axes._subplots.AxesSubplot at 0x7f3ddda2a080>"
            ]
          },
          "metadata": {
            "tags": []
          },
          "execution_count": 37
        },
        {
          "output_type": "display_data",
          "data": {
            "image/png": "[encoded data removed]",
            "text/plain": [
              "<Figure size 432x288 with 1 Axes>"
            ]
          },
          "metadata": {
            "tags": []
          }
        }
      ]
    },
    {
      "cell_type": "code",
      "metadata": {
        "id": "uJVPVtmYsgzR",
        "colab_type": "code",
        "outputId": "51b8be03-cf8d-47d7-cf93-5636bc81ea6d",
        "colab": {
          "base_uri": "https://localhost:8080/",
          "height": 325
        }
      },
      "source": [
        "naf_w_aid = lifelines.NelsonAalenFitter()\n",
        "naf_no_aid = lifelines.NelsonAalenFitter()\n",
        "\n",
        "naf_w_aid.fit(duration[w_aid], event_observed=arrested[w_aid], timeline=t, label=\"Received Financial Aid\")\n",
        "ax = naf_w_aid.plot(loc=slice(0, 50))\n",
        "naf_no_aid.fit(duration[~w_aid], event_observed=arrested[~w_aid], timeline=t, label=\"No Financial Aid\")\n",
        "ax = naf_no_aid.plot(ax=ax, loc=slice(0, 50))\n",
        "plt.title(\"Recidivism Cumulative Hazard\\nfor Participants Who Received Financial Aid \\nvs. Those Who Did Not\");\n",
        "plt.show()"
      ],
      "execution_count": 38,
      "outputs": [
        {
          "output_type": "display_data",
          "data": {
            "image/png": "[encoded data removed]",
            "text/plain": [
              "<Figure size 432x288 with 1 Axes>"
            ]
          },
          "metadata": {
            "tags": []
          }
        }
      ]
    },
    {
      "cell_type": "code",
      "metadata": {
        "id": "5KbuDkxjsgzV",
        "colab_type": "code",
        "outputId": "b0f76c67-6bd6-4f15-9f83-b912bc92f2af",
        "colab": {
          "base_uri": "https://localhost:8080/",
          "height": 567
        }
      },
      "source": [
        "cph = lifelines.CoxPHFitter()\n",
        "cph.fit(recidivism, duration_col='week', event_col='arrest', show_progress=True)\n",
        "\n",
        "cph.print_summary()"
      ],
      "execution_count": 39,
      "outputs": [
        {
          "output_type": "stream",
          "text": [
            "\rIteration 1: norm_delta = 0.50881, step_size = 0.9500, ll = -675.38063, newton_decrement = 16.76434, seconds_since_start = 0.0\rIteration 2: norm_delta = 0.13852, step_size = 0.9500, ll = -659.79004, newton_decrement = 0.99157, seconds_since_start = 0.0\rIteration 3: norm_delta = 0.01802, step_size = 0.9500, ll = -658.76197, newton_decrement = 0.01422, seconds_since_start = 0.0\rIteration 4: norm_delta = 0.00108, step_size = 1.0000, ll = -658.74771, newton_decrement = 0.00005, seconds_since_start = 0.0\rIteration 5: norm_delta = 0.00000, step_size = 1.0000, ll = -658.74766, newton_decrement = 0.00000, seconds_since_start = 0.0Convergence completed after 5 iterations.\n",
            "<lifelines.CoxPHFitter: fitted with 432 observations, 318 censored>\n",
            "      duration col = 'week'\n",
            "         event col = 'arrest'\n",
            "number of subjects = 432\n",
            "  number of events = 114\n",
            "partial log-likelihood = -658.75\n",
            "  time fit was run = 2019-08-04 02:07:27 UTC\n",
            "\n",
            "---\n",
            "      coef exp(coef)  se(coef)  coef lower 95%  coef upper 95% exp(coef) lower 95% exp(coef) upper 95%\n",
            "fin  -0.38      0.68      0.19           -0.75           -0.00                0.47                1.00\n",
            "age  -0.06      0.94      0.02           -0.10           -0.01                0.90                0.99\n",
            "race  0.31      1.37      0.31           -0.29            0.92                0.75                2.50\n",
            "wexp -0.15      0.86      0.21           -0.57            0.27                0.57                1.30\n",
            "mar  -0.43      0.65      0.38           -1.18            0.31                0.31                1.37\n",
            "paro -0.08      0.92      0.20           -0.47            0.30                0.63                1.35\n",
            "prio  0.09      1.10      0.03            0.04            0.15                1.04                1.16\n",
            "\n",
            "         z      p  -log2(p)\n",
            "fin  -1.98   0.05      4.40\n",
            "age  -2.61   0.01      6.79\n",
            "race  1.02   0.31      1.70\n",
            "wexp -0.71   0.48      1.06\n",
            "mar  -1.14   0.26      1.97\n",
            "paro -0.43   0.66      0.59\n",
            "prio  3.19 <0.005      9.48\n",
            "---\n",
            "Concordance = 0.64\n",
            "Log-likelihood ratio test = 33.27 on 7 df, -log2(p)=15.37\n"
          ],
          "name": "stdout"
        }
      ]
    },
    {
      "cell_type": "code",
      "metadata": {
        "id": "QoWVH0XDsgzX",
        "colab_type": "code",
        "outputId": "ed3656fb-dd3e-4ab3-a850-0f33108ee747",
        "colab": {
          "base_uri": "https://localhost:8080/",
          "height": 296
        }
      },
      "source": [
        "cph.plot()"
      ],
      "execution_count": 40,
      "outputs": [
        {
          "output_type": "execute_result",
          "data": {
            "text/plain": [
              "<matplotlib.axes._subplots.AxesSubplot at 0x7f3ddd962470>"
            ]
          },
          "metadata": {
            "tags": []
          },
          "execution_count": 40
        },
        {
          "output_type": "display_data",
          "data": {
            "image/png": "[encoded data removed]",
            "text/plain": [
              "<Figure size 432x288 with 1 Axes>"
            ]
          },
          "metadata": {
            "tags": []
          }
        }
      ]
    },
    {
      "cell_type": "code",
      "metadata": {
        "id": "r8qPQeKVsgza",
        "colab_type": "code",
        "outputId": "a743763b-c92f-4b17-834b-9d1c68405bdb",
        "colab": {
          "base_uri": "https://localhost:8080/",
          "height": 296
        }
      },
      "source": [
        "cph.plot_covariate_groups('fin', [0, 1])"
      ],
      "execution_count": 41,
      "outputs": [
        {
          "output_type": "execute_result",
          "data": {
            "text/plain": [
              "<matplotlib.axes._subplots.AxesSubplot at 0x7f3ddd865080>"
            ]
          },
          "metadata": {
            "tags": []
          },
          "execution_count": 41
        },
        {
          "output_type": "display_data",
          "data": {
            "image/png": "[encoded data removed]",
            "text/plain": [
              "<Figure size 432x288 with 1 Axes>"
            ]
          },
          "metadata": {
            "tags": []
          }
        }
      ]
    },
    {
      "cell_type": "code",
      "metadata": {
        "id": "PPSlBmp-sgzc",
        "colab_type": "code",
        "outputId": "b6a13cf6-e6fd-4d44-8a34-e24b33ab9192",
        "colab": {
          "base_uri": "https://localhost:8080/",
          "height": 296
        }
      },
      "source": [
        "cph.plot_covariate_groups('prio', [0, 5, 10, 15])"
      ],
      "execution_count": 43,
      "outputs": [
        {
          "output_type": "execute_result",
          "data": {
            "text/plain": [
              "<matplotlib.axes._subplots.AxesSubplot at 0x7f3ddd8651d0>"
            ]
          },
          "metadata": {
            "tags": []
          },
          "execution_count": 43
        },
        {
          "output_type": "display_data",
          "data": {
            "image/png": "[encoded data removed]",
            "text/plain": [
              "<Figure size 432x288 with 1 Axes>"
            ]
          },
          "metadata": {
            "tags": []
          }
        }
      ]
    },
    {
      "cell_type": "code",
      "metadata": {
        "id": "8H4IMry_sgzf",
        "colab_type": "code",
        "outputId": "87e5c5d9-b33e-44cd-c285-9816cbf9208e",
        "colab": {
          "base_uri": "https://localhost:8080/",
          "height": 204
        }
      },
      "source": [
        "r = cph.compute_residuals(recidivism, 'martingale')\n",
        "r.head()"
      ],
      "execution_count": 44,
      "outputs": [
        {
          "output_type": "execute_result",
          "data": {
            "text/html": [
              "<div>\n",
              "<style scoped>\n",
              "    .dataframe tbody tr th:only-of-type {\n",
              "        vertical-align: middle;\n",
              "    }\n",
              "\n",
              "    .dataframe tbody tr th {\n",
              "        vertical-align: top;\n",
              "    }\n",
              "\n",
              "    .dataframe thead th {\n",
              "        text-align: right;\n",
              "    }\n",
              "</style>\n",
              "<table border=\"1\" class=\"dataframe\">\n",
              "  <thead>\n",
              "    <tr style=\"text-align: right;\">\n",
              "      <th></th>\n",
              "      <th>week</th>\n",
              "      <th>arrest</th>\n",
              "      <th>martingale</th>\n",
              "    </tr>\n",
              "  </thead>\n",
              "  <tbody>\n",
              "    <tr>\n",
              "      <th>313</th>\n",
              "      <td>1.0</td>\n",
              "      <td>True</td>\n",
              "      <td>0.997048</td>\n",
              "    </tr>\n",
              "    <tr>\n",
              "      <th>100</th>\n",
              "      <td>2.0</td>\n",
              "      <td>True</td>\n",
              "      <td>0.998585</td>\n",
              "    </tr>\n",
              "    <tr>\n",
              "      <th>183</th>\n",
              "      <td>3.0</td>\n",
              "      <td>True</td>\n",
              "      <td>0.993959</td>\n",
              "    </tr>\n",
              "    <tr>\n",
              "      <th>416</th>\n",
              "      <td>4.0</td>\n",
              "      <td>True</td>\n",
              "      <td>0.987465</td>\n",
              "    </tr>\n",
              "    <tr>\n",
              "      <th>79</th>\n",
              "      <td>5.0</td>\n",
              "      <td>True</td>\n",
              "      <td>0.979341</td>\n",
              "    </tr>\n",
              "  </tbody>\n",
              "</table>\n",
              "</div>"
            ],
            "text/plain": [
              "     week  arrest  martingale\n",
              "313   1.0    True    0.997048\n",
              "100   2.0    True    0.998585\n",
              "183   3.0    True    0.993959\n",
              "416   4.0    True    0.987465\n",
              "79    5.0    True    0.979341"
            ]
          },
          "metadata": {
            "tags": []
          },
          "execution_count": 44
        }
      ]
    },
    {
      "cell_type": "code",
      "metadata": {
        "id": "4gi-OTLMsgzs",
        "colab_type": "code",
        "outputId": "4fd47372-8734-430b-eb66-602c012a2371",
        "colab": {
          "base_uri": "https://localhost:8080/",
          "height": 567
        }
      },
      "source": [
        "cph = lifelines.CoxPHFitter()\n",
        "cph.fit(recidivism, duration_col='week', event_col='arrest', show_progress=True)\n",
        "\n",
        "cph.print_summary()"
      ],
      "execution_count": 45,
      "outputs": [
        {
          "output_type": "stream",
          "text": [
            "\rIteration 1: norm_delta = 0.50881, step_size = 0.9500, ll = -675.38063, newton_decrement = 16.76434, seconds_since_start = 0.0\rIteration 2: norm_delta = 0.13852, step_size = 0.9500, ll = -659.79004, newton_decrement = 0.99157, seconds_since_start = 0.0\rIteration 3: norm_delta = 0.01802, step_size = 0.9500, ll = -658.76197, newton_decrement = 0.01422, seconds_since_start = 0.0\rIteration 4: norm_delta = 0.00108, step_size = 1.0000, ll = -658.74771, newton_decrement = 0.00005, seconds_since_start = 0.0\rIteration 5: norm_delta = 0.00000, step_size = 1.0000, ll = -658.74766, newton_decrement = 0.00000, seconds_since_start = 0.0Convergence completed after 5 iterations.\n",
            "<lifelines.CoxPHFitter: fitted with 432 observations, 318 censored>\n",
            "      duration col = 'week'\n",
            "         event col = 'arrest'\n",
            "number of subjects = 432\n",
            "  number of events = 114\n",
            "partial log-likelihood = -658.75\n",
            "  time fit was run = 2019-08-04 02:08:37 UTC\n",
            "\n",
            "---\n",
            "      coef exp(coef)  se(coef)  coef lower 95%  coef upper 95% exp(coef) lower 95% exp(coef) upper 95%\n",
            "fin  -0.38      0.68      0.19           -0.75           -0.00                0.47                1.00\n",
            "age  -0.06      0.94      0.02           -0.10           -0.01                0.90                0.99\n",
            "race  0.31      1.37      0.31           -0.29            0.92                0.75                2.50\n",
            "wexp -0.15      0.86      0.21           -0.57            0.27                0.57                1.30\n",
            "mar  -0.43      0.65      0.38           -1.18            0.31                0.31                1.37\n",
            "paro -0.08      0.92      0.20           -0.47            0.30                0.63                1.35\n",
            "prio  0.09      1.10      0.03            0.04            0.15                1.04                1.16\n",
            "\n",
            "         z      p  -log2(p)\n",
            "fin  -1.98   0.05      4.40\n",
            "age  -2.61   0.01      6.79\n",
            "race  1.02   0.31      1.70\n",
            "wexp -0.71   0.48      1.06\n",
            "mar  -1.14   0.26      1.97\n",
            "paro -0.43   0.66      0.59\n",
            "prio  3.19 <0.005      9.48\n",
            "---\n",
            "Concordance = 0.64\n",
            "Log-likelihood ratio test = 33.27 on 7 df, -log2(p)=15.37\n"
          ],
          "name": "stdout"
        }
      ]
    },
    {
      "cell_type": "code",
      "metadata": {
        "id": "ZNAc3sAVsgzv",
        "colab_type": "code",
        "outputId": "86f0538a-7e7b-450c-9ecf-ab12add31dba",
        "colab": {
          "base_uri": "https://localhost:8080/",
          "height": 279
        }
      },
      "source": [
        "cph.plot();"
      ],
      "execution_count": 46,
      "outputs": [
        {
          "output_type": "display_data",
          "data": {
            "image/png": "[encoded data removed]",
            "text/plain": [
              "<Figure size 432x288 with 1 Axes>"
            ]
          },
          "metadata": {
            "tags": []
          }
        }
      ]
    },
    {
      "cell_type": "code",
      "metadata": {
        "id": "jSWSmL8nsgzx",
        "colab_type": "code",
        "outputId": "e3fc6431-3042-4b56-852d-569c663f56c3",
        "colab": {
          "base_uri": "https://localhost:8080/",
          "height": 279
        }
      },
      "source": [
        "cph.plot_covariate_groups('prio', [0, 5, 10, 15]);"
      ],
      "execution_count": 47,
      "outputs": [
        {
          "output_type": "display_data",
          "data": {
            "image/png": "[encoded data removed]",
            "text/plain": [
              "<Figure size 432x288 with 1 Axes>"
            ]
          },
          "metadata": {
            "tags": []
          }
        }
      ]
    },
    {
      "cell_type": "code",
      "metadata": {
        "id": "iODFHl9Usgzz",
        "colab_type": "code",
        "outputId": "48a7ca5e-dab8-44ac-8125-ac4087fc856a",
        "colab": {
          "base_uri": "https://localhost:8080/",
          "height": 986
        }
      },
      "source": [
        "cph.check_assumptions(recidivism)"
      ],
      "execution_count": 48,
      "outputs": [
        {
          "output_type": "stream",
          "text": [
            "The ``p_value_threshold`` is set at 0.01. Even under the null hypothesis of no violations, some\n",
            "covariates will be below the threshold by chance. This is compounded when there are many covariates.\n",
            "Similarly, when there are lots of observations, even minor deviances from the proportional hazard\n",
            "assumption will be flagged.\n",
            "\n",
            "With that in mind, it's best to use a combination of statistical tests and visual tests to determine\n",
            "the most serious violations. Produce visual plots using ``check_assumptions(..., show_plots=True)``\n",
            "and looking for non-constant lines. See link [A] below for a full example.\n",
            "\n",
            "<lifelines.StatisticalResult>\n",
            "         test_name = proportional_hazard_test\n",
            " null_distribution = chi squared\n",
            "degrees_of_freedom = 1\n",
            "\n",
            "---\n",
            "           test_statistic      p  -log2(p)\n",
            "age  km             11.03 <0.005     10.12\n",
            "     rank           11.09 <0.005     10.17\n",
            "fin  km              0.02   0.89      0.17\n",
            "     rank            0.02   0.90      0.16\n",
            "mar  km              0.60   0.44      1.19\n",
            "     rank            0.67   0.41      1.27\n",
            "paro km              0.12   0.73      0.45\n",
            "     rank            0.14   0.71      0.49\n",
            "prio km              0.02   0.88      0.18\n",
            "     rank            0.02   0.88      0.18\n",
            "race km              1.44   0.23      2.12\n",
            "     rank            1.46   0.23      2.14\n",
            "wexp km              7.48   0.01      7.32\n",
            "     rank            7.18   0.01      7.08\n",
            "\n",
            "\n",
            "1. Variable 'age' failed the non-proportional test: p-value is 0.0009.\n",
            "\n",
            "   Advice 1: the functional form of the variable 'age' might be incorrect. That is, there may be\n",
            "non-linear terms missing. The proportional hazard test used is very sensitive to incorrect\n",
            "functional forms. See documentation in link [D] below on how to specify a functional form.\n",
            "\n",
            "   Advice 2: try binning the variable 'age' using pd.cut, and then specify it in `strata=['age',\n",
            "...]` in the call in `.fit`. See documentation in link [B] below.\n",
            "\n",
            "   Advice 3: try adding an interaction term with your time variable. See documentation in link [C]\n",
            "below.\n",
            "\n",
            "\n",
            "2. Variable 'wexp' failed the non-proportional test: p-value is 0.0063.\n",
            "\n",
            "   Advice: with so few unique values (only 2), you can include `strata=['wexp', ...]` in the call in\n",
            "`.fit`. See documentation in link [E] below.\n",
            "\n",
            "---\n",
            "[A]  https://lifelines.readthedocs.io/en/latest/jupyter_notebooks/Proportional%20hazard%20assumption.html\n",
            "[B]  https://lifelines.readthedocs.io/en/latest/jupyter_notebooks/Proportional%20hazard%20assumption.html#Bin-variable-and-stratify-on-it\n",
            "[C]  https://lifelines.readthedocs.io/en/latest/jupyter_notebooks/Proportional%20hazard%20assumption.html#Introduce-time-varying-covariates\n",
            "[D]  https://lifelines.readthedocs.io/en/latest/jupyter_notebooks/Proportional%20hazard%20assumption.html#Modify-the-functional-form\n",
            "[E]  https://lifelines.readthedocs.io/en/latest/jupyter_notebooks/Proportional%20hazard%20assumption.html#Stratification\n",
            "\n"
          ],
          "name": "stdout"
        }
      ]
    },
    {
      "cell_type": "markdown",
      "metadata": {
        "id": "XY-yJuKcsgz1",
        "colab_type": "text"
      },
      "source": [
        "## The Intuition - Hazard and Survival Functions\n",
        "\n",
        "### Hazard Function - the dangerous bathtub\n",
        "\n",
        "The hazard function represents the *instantaneous* likelihood of failure. It can be treated as a PDF (probability density function), and with real-world data comes in three typical shapes.\n",
        "\n",
        "![Different hazard functions](https://upload.wikimedia.org/wikipedia/commons/2/25/Compsyseng17_04.jpg)\n",
        "\n",
        "Increasing and decreasing failure rate are fairly intuitive - the \"bathtub\" shaped is perhaps the most surprising, but actually models many real-world situations. In fact, life expectancy in general, and most threats to it, assume this shape.\n",
        "\n",
        "What the \"bathtub\" means is that - threats are highest at youth (e.g. infant mortality), but then decrease and stabilize at maturity, only to eventually re-emerge in old age. Many diseases primarily threaten children and elderly, and middle aged people are also more robust to physical trauma.\n",
        "\n",
        "The \"bathtub\" is also suitable for many non-human situations - often with reliability analysis, mechanical parts either fail early (due to manufacturing defects), or they survive and have a relatively long lifetime to eventually fail out of age and use.\n",
        "\n",
        "### Survival Function (aka reliability function) - it's just a (backwards) CDF\n",
        "\n",
        "Since the hazard function can be treated as a probability density function, it makes sense to think about the corresponding cumulative distribution function (CDF). But because we're modeling time to failure, it's actually more interesting to look at the CDF backwards - this is called the complementary cumulative distribution function.\n",
        "\n",
        "In survival analysis there's a special name for it - the survival function - and it gives the probability that the object being studied will survive beyond a given time.\n",
        "\n",
        "![4 survival functions](https://upload.wikimedia.org/wikipedia/commons/e/e0/Four_survival_functions.svg)\n",
        "\n",
        "As you can see they all start at 1 for time 0 - at the beginning, all things are alive. Then they all move down over time to eventually approach and converge to 0. The different shapes reflect the average/expected retention of a population subject to this function over time, and as such this is a particularly useful visualization when modeling overall retention/churn situations.\n",
        "\n",
        "### Ways to estimate/model survival analysis - terms to be aware of\n",
        "Key Components Necessary for these models - duration, and whether observation is censored.\n",
        "\n",
        "- Kaplan Meier Estimator\n",
        "- Nelson-Aalen Estimator\n",
        "- Proportional Hazards (Cox Model, integrates covariates)\n",
        "- Additive Hazards Model (Aalen's Additive Model, when covariates are time-dependent)\n",
        "\n",
        "As with most statistics, these are all refinements of the general principles, with the math to back them up. Software packages will tend to select reasonable defaults, and allow you to use parameters to tune or select things. The math for these gets varied and deep - but feel free to [dive in](https://en.wikipedia.org/wiki/Survival_analysis) if you're curious!"
      ]
    },
    {
      "cell_type": "markdown",
      "metadata": {
        "id": "Su5WdRa139yW",
        "colab_type": "text"
      },
      "source": [
        "## Live! Let's try modeling heart attack survival\n",
        "\n",
        "https://archive.ics.uci.edu/ml/datasets/echocardiogram"
      ]
    },
    {
      "cell_type": "code",
      "metadata": {
        "id": "4GcRG1ussgz1",
        "colab_type": "code",
        "colab": {}
      },
      "source": [
        "# TODO - Live! (As time permits)"
      ],
      "execution_count": 0,
      "outputs": []
    },
    {
      "cell_type": "markdown",
      "metadata": {
        "id": "8tMyVxHRa3cQ",
        "colab_type": "text"
      },
      "source": [
        "# Assignment - Customer Churn\n",
        "\n",
        "Treselle Systems, a data consulting service, [analyzed customer churn data using logistic regression](http://www.treselle.com/blog/customer-churn-logistic-regression-with-r/). For simply modeling whether or not a customer left this can work, but if we want to model the actual tenure of a customer, survival analysis is more appropriate.\n",
        "\n",
        "The \"tenure\" feature represents the duration that a given customer has been with them, and \"churn\" represents whether or not that customer left (i.e. the \"event\", from a survival analysis perspective). So, any situation where churn is \"no\" means that a customer is still active, and so from a survival analysis perspective the observation is censored (we have their tenure up to now, but we don't know their *true* duration until event).\n",
        "\n",
        "Your assignment is to [use their data](https://github.com/treselle-systems/customer_churn_analysis) to fit a survival model, and answer the following questions:\n",
        "\n",
        "- What features best model customer churn?\n",
        "- What would you characterize as the \"warning signs\" that a customer may discontinue service?\n",
        "- What actions would you recommend to this business to try to improve their customer retention?\n",
        "\n",
        "Please create at least *3* plots or visualizations to support your findings, and in general write your summary/results targeting an \"interested layperson\" (e.g. your hypothetical business manager) as your audience.\n",
        "\n",
        "This means that, as is often the case in data science, there isn't a single objective right answer - your goal is to *support* your answer, whatever it is, with data and reasoning.\n",
        "\n",
        "Good luck!"
      ]
    },
    {
      "cell_type": "code",
      "metadata": {
        "id": "OIfMQKnSy8Zl",
        "colab_type": "code",
        "outputId": "87f6401d-352f-437d-eda8-c4021573d29c",
        "colab": {
          "base_uri": "https://localhost:8080/",
          "height": 342
        }
      },
      "source": [
        "# Loading the data to get you started\n",
        "churn_data = pd.read_csv(\n",
        "    'https://raw.githubusercontent.com/treselle-systems/'\n",
        "    'customer_churn_analysis/master/WA_Fn-UseC_-Telco-Customer-Churn.csv')\n",
        "churn_data.head()"
      ],
      "execution_count": 0,
      "outputs": [
        {
          "output_type": "execute_result",
          "data": {
            "text/html": [
              "<div>\n",
              "<style scoped>\n",
              "    .dataframe tbody tr th:only-of-type {\n",
              "        vertical-align: middle;\n",
              "    }\n",
              "\n",
              "    .dataframe tbody tr th {\n",
              "        vertical-align: top;\n",
              "    }\n",
              "\n",
              "    .dataframe thead th {\n",
              "        text-align: right;\n",
              "    }\n",
              "</style>\n",
              "<table border=\"1\" class=\"dataframe\">\n",
              "  <thead>\n",
              "    <tr style=\"text-align: right;\">\n",
              "      <th></th>\n",
              "      <th>customerID</th>\n",
              "      <th>gender</th>\n",
              "      <th>SeniorCitizen</th>\n",
              "      <th>Partner</th>\n",
              "      <th>Dependents</th>\n",
              "      <th>tenure</th>\n",
              "      <th>PhoneService</th>\n",
              "      <th>MultipleLines</th>\n",
              "      <th>InternetService</th>\n",
              "      <th>OnlineSecurity</th>\n",
              "      <th>...</th>\n",
              "      <th>DeviceProtection</th>\n",
              "      <th>TechSupport</th>\n",
              "      <th>StreamingTV</th>\n",
              "      <th>StreamingMovies</th>\n",
              "      <th>Contract</th>\n",
              "      <th>PaperlessBilling</th>\n",
              "      <th>PaymentMethod</th>\n",
              "      <th>MonthlyCharges</th>\n",
              "      <th>TotalCharges</th>\n",
              "      <th>Churn</th>\n",
              "    </tr>\n",
              "  </thead>\n",
              "  <tbody>\n",
              "    <tr>\n",
              "      <th>0</th>\n",
              "      <td>7590-VHVEG</td>\n",
              "      <td>Female</td>\n",
              "      <td>0</td>\n",
              "      <td>Yes</td>\n",
              "      <td>No</td>\n",
              "      <td>1</td>\n",
              "      <td>No</td>\n",
              "      <td>No phone service</td>\n",
              "      <td>DSL</td>\n",
              "      <td>No</td>\n",
              "      <td>...</td>\n",
              "      <td>No</td>\n",
              "      <td>No</td>\n",
              "      <td>No</td>\n",
              "      <td>No</td>\n",
              "      <td>Month-to-month</td>\n",
              "      <td>Yes</td>\n",
              "      <td>Electronic check</td>\n",
              "      <td>29.85</td>\n",
              "      <td>29.85</td>\n",
              "      <td>No</td>\n",
              "    </tr>\n",
              "    <tr>\n",
              "      <th>1</th>\n",
              "      <td>5575-GNVDE</td>\n",
              "      <td>Male</td>\n",
              "      <td>0</td>\n",
              "      <td>No</td>\n",
              "      <td>No</td>\n",
              "      <td>34</td>\n",
              "      <td>Yes</td>\n",
              "      <td>No</td>\n",
              "      <td>DSL</td>\n",
              "      <td>Yes</td>\n",
              "      <td>...</td>\n",
              "      <td>Yes</td>\n",
              "      <td>No</td>\n",
              "      <td>No</td>\n",
              "      <td>No</td>\n",
              "      <td>One year</td>\n",
              "      <td>No</td>\n",
              "      <td>Mailed check</td>\n",
              "      <td>56.95</td>\n",
              "      <td>1889.5</td>\n",
              "      <td>No</td>\n",
              "    </tr>\n",
              "    <tr>\n",
              "      <th>2</th>\n",
              "      <td>3668-QPYBK</td>\n",
              "      <td>Male</td>\n",
              "      <td>0</td>\n",
              "      <td>No</td>\n",
              "      <td>No</td>\n",
              "      <td>2</td>\n",
              "      <td>Yes</td>\n",
              "      <td>No</td>\n",
              "      <td>DSL</td>\n",
              "      <td>Yes</td>\n",
              "      <td>...</td>\n",
              "      <td>No</td>\n",
              "      <td>No</td>\n",
              "      <td>No</td>\n",
              "      <td>No</td>\n",
              "      <td>Month-to-month</td>\n",
              "      <td>Yes</td>\n",
              "      <td>Mailed check</td>\n",
              "      <td>53.85</td>\n",
              "      <td>108.15</td>\n",
              "      <td>Yes</td>\n",
              "    </tr>\n",
              "    <tr>\n",
              "      <th>3</th>\n",
              "      <td>7795-CFOCW</td>\n",
              "      <td>Male</td>\n",
              "      <td>0</td>\n",
              "      <td>No</td>\n",
              "      <td>No</td>\n",
              "      <td>45</td>\n",
              "      <td>No</td>\n",
              "      <td>No phone service</td>\n",
              "      <td>DSL</td>\n",
              "      <td>Yes</td>\n",
              "      <td>...</td>\n",
              "      <td>Yes</td>\n",
              "      <td>Yes</td>\n",
              "      <td>No</td>\n",
              "      <td>No</td>\n",
              "      <td>One year</td>\n",
              "      <td>No</td>\n",
              "      <td>Bank transfer (automatic)</td>\n",
              "      <td>42.30</td>\n",
              "      <td>1840.75</td>\n",
              "      <td>No</td>\n",
              "    </tr>\n",
              "    <tr>\n",
              "      <th>4</th>\n",
              "      <td>9237-HQITU</td>\n",
              "      <td>Female</td>\n",
              "      <td>0</td>\n",
              "      <td>No</td>\n",
              "      <td>No</td>\n",
              "      <td>2</td>\n",
              "      <td>Yes</td>\n",
              "      <td>No</td>\n",
              "      <td>Fiber optic</td>\n",
              "      <td>No</td>\n",
              "      <td>...</td>\n",
              "      <td>No</td>\n",
              "      <td>No</td>\n",
              "      <td>No</td>\n",
              "      <td>No</td>\n",
              "      <td>Month-to-month</td>\n",
              "      <td>Yes</td>\n",
              "      <td>Electronic check</td>\n",
              "      <td>70.70</td>\n",
              "      <td>151.65</td>\n",
              "      <td>Yes</td>\n",
              "    </tr>\n",
              "  </tbody>\n",
              "</table>\n",
              "<p>5 rows × 21 columns</p>\n",
              "</div>"
            ],
            "text/plain": [
              "   customerID  gender  SeniorCitizen Partner Dependents  tenure PhoneService  \\\n",
              "0  7590-VHVEG  Female              0     Yes         No       1           No   \n",
              "1  5575-GNVDE    Male              0      No         No      34          Yes   \n",
              "2  3668-QPYBK    Male              0      No         No       2          Yes   \n",
              "3  7795-CFOCW    Male              0      No         No      45           No   \n",
              "4  9237-HQITU  Female              0      No         No       2          Yes   \n",
              "\n",
              "      MultipleLines InternetService OnlineSecurity  ...  DeviceProtection  \\\n",
              "0  No phone service             DSL             No  ...                No   \n",
              "1                No             DSL            Yes  ...               Yes   \n",
              "2                No             DSL            Yes  ...                No   \n",
              "3  No phone service             DSL            Yes  ...               Yes   \n",
              "4                No     Fiber optic             No  ...                No   \n",
              "\n",
              "  TechSupport StreamingTV StreamingMovies        Contract PaperlessBilling  \\\n",
              "0          No          No              No  Month-to-month              Yes   \n",
              "1          No          No              No        One year               No   \n",
              "2          No          No              No  Month-to-month              Yes   \n",
              "3         Yes          No              No        One year               No   \n",
              "4          No          No              No  Month-to-month              Yes   \n",
              "\n",
              "               PaymentMethod MonthlyCharges  TotalCharges Churn  \n",
              "0           Electronic check          29.85         29.85    No  \n",
              "1               Mailed check          56.95        1889.5    No  \n",
              "2               Mailed check          53.85        108.15   Yes  \n",
              "3  Bank transfer (automatic)          42.30       1840.75    No  \n",
              "4           Electronic check          70.70        151.65   Yes  \n",
              "\n",
              "[5 rows x 21 columns]"
            ]
          },
          "metadata": {
            "tags": []
          },
          "execution_count": 49
        }
      ]
    },
    {
      "cell_type": "code",
      "metadata": {
        "id": "lmGBY5fX0bmu",
        "colab_type": "code",
        "outputId": "6b57713b-fcc2-4879-a213-30da3fa3d700",
        "colab": {
          "base_uri": "https://localhost:8080/",
          "height": 469
        }
      },
      "source": [
        "churn_data.info()  # A lot of these are \"object\" - some may need to be fixed..."
      ],
      "execution_count": 0,
      "outputs": [
        {
          "output_type": "stream",
          "text": [
            "<class 'pandas.core.frame.DataFrame'>\n",
            "RangeIndex: 7043 entries, 0 to 7042\n",
            "Data columns (total 21 columns):\n",
            "customerID          7043 non-null object\n",
            "gender              7043 non-null object\n",
            "SeniorCitizen       7043 non-null int64\n",
            "Partner             7043 non-null object\n",
            "Dependents          7043 non-null object\n",
            "tenure              7043 non-null int64\n",
            "PhoneService        7043 non-null object\n",
            "MultipleLines       7043 non-null object\n",
            "InternetService     7043 non-null object\n",
            "OnlineSecurity      7043 non-null object\n",
            "OnlineBackup        7043 non-null object\n",
            "DeviceProtection    7043 non-null object\n",
            "TechSupport         7043 non-null object\n",
            "StreamingTV         7043 non-null object\n",
            "StreamingMovies     7043 non-null object\n",
            "Contract            7043 non-null object\n",
            "PaperlessBilling    7043 non-null object\n",
            "PaymentMethod       7043 non-null object\n",
            "MonthlyCharges      7043 non-null float64\n",
            "TotalCharges        7043 non-null object\n",
            "Churn               7043 non-null object\n",
            "dtypes: float64(1), int64(2), object(18)\n",
            "memory usage: 1.1+ MB\n"
          ],
          "name": "stdout"
        }
      ]
    },
    {
      "cell_type": "markdown",
      "metadata": {
        "id": "Vaqh-1Dqa4hz",
        "colab_type": "text"
      },
      "source": [
        "# Resources and stretch goals\n",
        "\n",
        "Resources:\n",
        "- [Wikipedia on Survival analysis](https://en.wikipedia.org/wiki/Survival_analysis)\n",
        "- [Wikipedia on Survival functions](https://en.wikipedia.org/wiki/Survival_function)\n",
        "- [Summary of survival analysis by a biostatistician](http://sphweb.bumc.bu.edu/otlt/MPH-Modules/BS/BS704_Survival/BS704_Survival_print.html)\n",
        "- [Another medical statistics article on survival analysis](https://www.sciencedirect.com/science/article/pii/S1756231716300639)\n",
        "- [Survival analysis using R lecture slides](http://www.stat.columbia.edu/~madigan/W2025/notes/survival.pdf)\n",
        "\n",
        "Stretch goals:\n",
        "- Make ~5 slides that summarize and deliver your findings, as if you were to present them in a business meeting\n",
        "- Revisit any of the data from the lecture material, and explore/dig deeper\n",
        "- Write your own Python functions to calculate a simple hazard or survival function, and try to generate and plot data with them"
      ]
    }
  ]
}