{
  "nbformat": 4,
  "nbformat_minor": 0,
  "metadata": {
    "colab": {
      "name": "DS_Unit_2_Sprint_Challenge_3vF.ipynb",
      "version": "0.3.2",
      "provenance": [],
      "collapsed_sections": [],
      "include_colab_link": true
    },
    "kernelspec": {
      "name": "python3",
      "display_name": "Python 3"
    }
  },
  "cells": [
    {
      "cell_type": "markdown",
      "metadata": {
        "id": "view-in-github",
        "colab_type": "text"
      },
      "source": [
        "<a href=\"https://colab.research.google.com/github/albert-h-wong/DS-Unit-2-Sprint-3-Advanced-Regression/blob/master/DS_Unit_2_Sprint_Challenge_3vF.ipynb\" target=\"_parent\"><img src=\"https://colab.research.google.com/assets/colab-badge.svg\" alt=\"Open In Colab\"/></a>"
      ]
    },
    {
      "metadata": {
        "id": "ayDccRP01GJD",
        "colab_type": "text"
      },
      "cell_type": "markdown",
      "source": [
        "# Data Science Unit 2 Sprint Challenge 3\n",
        "\n",
        "## Logistic Regression and Beyond\n",
        "\n",
        "In this sprint challenge you will fit a logistic regression modeling the probability of an adult having an income above 50K. The dataset is available at UCI:\n",
        "\n",
        "https://archive.ics.uci.edu/ml/datasets/adult\n",
        "\n",
        "Your goal is to:\n",
        "\n",
        "1. Load, validate, and clean/prepare the data.\n",
        "2. Fit a logistic regression model\n",
        "3. Answer questions based on the results (as well as a few extra questions about the other modules)\n",
        "\n",
        "Don't let the perfect be the enemy of the good! Manage your time, and make sure to get to all parts. If you get stuck wrestling with the data, simplify it (if necessary, drop features or rows) so you're able to move on. If you have time at the end, you can go back and try to fix/improve.\n",
        "\n",
        "### Hints\n",
        "\n",
        "It has a variety of features - some are continuous, but many are categorical. You may find [pandas.get_dummies](https://pandas.pydata.org/pandas-docs/stable/generated/pandas.get_dummies.html) (a method to one-hot encode) helpful!\n",
        "\n",
        "The features have dramatically different ranges. You may find [sklearn.preprocessing.minmax_scale](https://scikit-learn.org/stable/modules/generated/sklearn.preprocessing.minmax_scale.html#sklearn.preprocessing.minmax_scale) helpful!"
      ]
    },
    {
      "metadata": {
        "id": "U22R1Ud51hxb",
        "colab_type": "text"
      },
      "cell_type": "markdown",
      "source": [
        "## Part 1 - Load, validate, and prepare data\n",
        "\n",
        "The data is available at: https://archive.ics.uci.edu/ml/datasets/adult\n",
        "\n",
        "Load it, name the columns, and make sure that you've loaded the data successfully. Note that missing values for categorical variables can essentially be considered another category (\"unknown\"), and may not need to be dropped.\n",
        "\n",
        "You should also prepare the data for logistic regression - one-hot encode categorical features as appropriate."
      ]
    },
    {
      "metadata": {
        "id": "8qtYVeQj0vsn",
        "colab_type": "code",
        "outputId": "b04b86a3-0922-4251-e906-3b613ebbf726",
        "colab": {
          "base_uri": "https://localhost:8080/",
          "height": 72
        }
      },
      "cell_type": "code",
      "source": [
        "# Import libraries that may be helpful\n",
        "\n",
        "import numpy as np\n",
        "import pandas as pd\n",
        "import statsmodels.api as sm\n",
        "import matplotlib.pyplot as plt\n",
        "import seaborn as sns\n",
        "from sklearn.linear_model import LogisticRegression"
      ],
      "execution_count": 1,
      "outputs": [
        {
          "output_type": "stream",
          "text": [
            "/usr/local/lib/python3.6/dist-packages/statsmodels/compat/pandas.py:56: FutureWarning: The pandas.core.datetools module is deprecated and will be removed in a future version. Please use the pandas.tseries module instead.\n",
            "  from pandas.core import datetools\n"
          ],
          "name": "stderr"
        }
      ]
    },
    {
      "metadata": {
        "id": "SeOByIkht-NS",
        "colab_type": "code",
        "outputId": "4280d048-2ad7-4aff-9888-73e532c43d7d",
        "colab": {
          "base_uri": "https://localhost:8080/",
          "height": 737
        }
      },
      "cell_type": "code",
      "source": [
        "# Load data and rename columns and explored sample data\n",
        "\n",
        "col_names = ['age', 'workclass', 'finalweight', 'educationlevel',\n",
        "           'educationnumber', 'maritalstatus', 'occupation', 'relationship',\n",
        "           'race','gender','capitalgain', 'capitalloss','hoursperweek',\n",
        "           'nativecountry', 'incomelevel']\n",
        "\n",
        "income_data = pd.read_csv(\n",
        "    'https://archive.ics.uci.edu/ml/machine-learning-databases/adult/adult.data',\n",
        "     header=None, names=col_names)\n",
        "income_data.sample(15)"
      ],
      "execution_count": 2,
      "outputs": [
        {
          "output_type": "execute_result",
          "data": {
            "text/html": [
              "<div>\n",
              "<style scoped>\n",
              "    .dataframe tbody tr th:only-of-type {\n",
              "        vertical-align: middle;\n",
              "    }\n",
              "\n",
              "    .dataframe tbody tr th {\n",
              "        vertical-align: top;\n",
              "    }\n",
              "\n",
              "    .dataframe thead th {\n",
              "        text-align: right;\n",
              "    }\n",
              "</style>\n",
              "<table border=\"1\" class=\"dataframe\">\n",
              "  <thead>\n",
              "    <tr style=\"text-align: right;\">\n",
              "      <th></th>\n",
              "      <th>age</th>\n",
              "      <th>workclass</th>\n",
              "      <th>finalweight</th>\n",
              "      <th>educationlevel</th>\n",
              "      <th>educationnumber</th>\n",
              "      <th>maritalstatus</th>\n",
              "      <th>occupation</th>\n",
              "      <th>relationship</th>\n",
              "      <th>race</th>\n",
              "      <th>gender</th>\n",
              "      <th>capitalgain</th>\n",
              "      <th>capitalloss</th>\n",
              "      <th>hoursperweek</th>\n",
              "      <th>nativecountry</th>\n",
              "      <th>incomelevel</th>\n",
              "    </tr>\n",
              "  </thead>\n",
              "  <tbody>\n",
              "    <tr>\n",
              "      <th>19525</th>\n",
              "      <td>47</td>\n",
              "      <td>Private</td>\n",
              "      <td>178341</td>\n",
              "      <td>10th</td>\n",
              "      <td>6</td>\n",
              "      <td>Married-civ-spouse</td>\n",
              "      <td>Machine-op-inspct</td>\n",
              "      <td>Husband</td>\n",
              "      <td>White</td>\n",
              "      <td>Male</td>\n",
              "      <td>0</td>\n",
              "      <td>0</td>\n",
              "      <td>46</td>\n",
              "      <td>United-States</td>\n",
              "      <td>&gt;50K</td>\n",
              "    </tr>\n",
              "    <tr>\n",
              "      <th>6967</th>\n",
              "      <td>60</td>\n",
              "      <td>Private</td>\n",
              "      <td>230545</td>\n",
              "      <td>7th-8th</td>\n",
              "      <td>4</td>\n",
              "      <td>Divorced</td>\n",
              "      <td>Adm-clerical</td>\n",
              "      <td>Not-in-family</td>\n",
              "      <td>White</td>\n",
              "      <td>Female</td>\n",
              "      <td>0</td>\n",
              "      <td>0</td>\n",
              "      <td>35</td>\n",
              "      <td>Cuba</td>\n",
              "      <td>&lt;=50K</td>\n",
              "    </tr>\n",
              "    <tr>\n",
              "      <th>18905</th>\n",
              "      <td>41</td>\n",
              "      <td>Private</td>\n",
              "      <td>223548</td>\n",
              "      <td>1st-4th</td>\n",
              "      <td>2</td>\n",
              "      <td>Married-civ-spouse</td>\n",
              "      <td>Machine-op-inspct</td>\n",
              "      <td>Husband</td>\n",
              "      <td>White</td>\n",
              "      <td>Male</td>\n",
              "      <td>0</td>\n",
              "      <td>0</td>\n",
              "      <td>40</td>\n",
              "      <td>Mexico</td>\n",
              "      <td>&lt;=50K</td>\n",
              "    </tr>\n",
              "    <tr>\n",
              "      <th>18296</th>\n",
              "      <td>39</td>\n",
              "      <td>Private</td>\n",
              "      <td>63021</td>\n",
              "      <td>Some-college</td>\n",
              "      <td>10</td>\n",
              "      <td>Divorced</td>\n",
              "      <td>Other-service</td>\n",
              "      <td>Not-in-family</td>\n",
              "      <td>White</td>\n",
              "      <td>Female</td>\n",
              "      <td>0</td>\n",
              "      <td>0</td>\n",
              "      <td>20</td>\n",
              "      <td>United-States</td>\n",
              "      <td>&lt;=50K</td>\n",
              "    </tr>\n",
              "    <tr>\n",
              "      <th>15706</th>\n",
              "      <td>56</td>\n",
              "      <td>Self-emp-not-inc</td>\n",
              "      <td>50791</td>\n",
              "      <td>Masters</td>\n",
              "      <td>14</td>\n",
              "      <td>Divorced</td>\n",
              "      <td>Sales</td>\n",
              "      <td>Not-in-family</td>\n",
              "      <td>White</td>\n",
              "      <td>Male</td>\n",
              "      <td>0</td>\n",
              "      <td>1876</td>\n",
              "      <td>60</td>\n",
              "      <td>United-States</td>\n",
              "      <td>&lt;=50K</td>\n",
              "    </tr>\n",
              "    <tr>\n",
              "      <th>8236</th>\n",
              "      <td>42</td>\n",
              "      <td>Private</td>\n",
              "      <td>52781</td>\n",
              "      <td>Some-college</td>\n",
              "      <td>10</td>\n",
              "      <td>Married-civ-spouse</td>\n",
              "      <td>Tech-support</td>\n",
              "      <td>Husband</td>\n",
              "      <td>White</td>\n",
              "      <td>Male</td>\n",
              "      <td>0</td>\n",
              "      <td>0</td>\n",
              "      <td>40</td>\n",
              "      <td>United-States</td>\n",
              "      <td>&lt;=50K</td>\n",
              "    </tr>\n",
              "    <tr>\n",
              "      <th>1463</th>\n",
              "      <td>39</td>\n",
              "      <td>Private</td>\n",
              "      <td>51100</td>\n",
              "      <td>HS-grad</td>\n",
              "      <td>9</td>\n",
              "      <td>Married-civ-spouse</td>\n",
              "      <td>Transport-moving</td>\n",
              "      <td>Husband</td>\n",
              "      <td>White</td>\n",
              "      <td>Male</td>\n",
              "      <td>0</td>\n",
              "      <td>0</td>\n",
              "      <td>40</td>\n",
              "      <td>United-States</td>\n",
              "      <td>&gt;50K</td>\n",
              "    </tr>\n",
              "    <tr>\n",
              "      <th>4285</th>\n",
              "      <td>59</td>\n",
              "      <td>Private</td>\n",
              "      <td>168569</td>\n",
              "      <td>HS-grad</td>\n",
              "      <td>9</td>\n",
              "      <td>Married-civ-spouse</td>\n",
              "      <td>Machine-op-inspct</td>\n",
              "      <td>Husband</td>\n",
              "      <td>White</td>\n",
              "      <td>Male</td>\n",
              "      <td>0</td>\n",
              "      <td>1887</td>\n",
              "      <td>40</td>\n",
              "      <td>United-States</td>\n",
              "      <td>&gt;50K</td>\n",
              "    </tr>\n",
              "    <tr>\n",
              "      <th>31451</th>\n",
              "      <td>36</td>\n",
              "      <td>Private</td>\n",
              "      <td>199346</td>\n",
              "      <td>Masters</td>\n",
              "      <td>14</td>\n",
              "      <td>Married-civ-spouse</td>\n",
              "      <td>Prof-specialty</td>\n",
              "      <td>Wife</td>\n",
              "      <td>White</td>\n",
              "      <td>Female</td>\n",
              "      <td>0</td>\n",
              "      <td>0</td>\n",
              "      <td>50</td>\n",
              "      <td>United-States</td>\n",
              "      <td>&gt;50K</td>\n",
              "    </tr>\n",
              "    <tr>\n",
              "      <th>23001</th>\n",
              "      <td>29</td>\n",
              "      <td>Private</td>\n",
              "      <td>337693</td>\n",
              "      <td>5th-6th</td>\n",
              "      <td>3</td>\n",
              "      <td>Never-married</td>\n",
              "      <td>Other-service</td>\n",
              "      <td>Own-child</td>\n",
              "      <td>White</td>\n",
              "      <td>Female</td>\n",
              "      <td>0</td>\n",
              "      <td>0</td>\n",
              "      <td>40</td>\n",
              "      <td>El-Salvador</td>\n",
              "      <td>&lt;=50K</td>\n",
              "    </tr>\n",
              "    <tr>\n",
              "      <th>2885</th>\n",
              "      <td>65</td>\n",
              "      <td>?</td>\n",
              "      <td>327154</td>\n",
              "      <td>HS-grad</td>\n",
              "      <td>9</td>\n",
              "      <td>Widowed</td>\n",
              "      <td>?</td>\n",
              "      <td>Unmarried</td>\n",
              "      <td>White</td>\n",
              "      <td>Female</td>\n",
              "      <td>0</td>\n",
              "      <td>0</td>\n",
              "      <td>40</td>\n",
              "      <td>United-States</td>\n",
              "      <td>&lt;=50K</td>\n",
              "    </tr>\n",
              "    <tr>\n",
              "      <th>29853</th>\n",
              "      <td>51</td>\n",
              "      <td>Private</td>\n",
              "      <td>241745</td>\n",
              "      <td>5th-6th</td>\n",
              "      <td>3</td>\n",
              "      <td>Separated</td>\n",
              "      <td>Machine-op-inspct</td>\n",
              "      <td>Unmarried</td>\n",
              "      <td>White</td>\n",
              "      <td>Female</td>\n",
              "      <td>0</td>\n",
              "      <td>0</td>\n",
              "      <td>40</td>\n",
              "      <td>Mexico</td>\n",
              "      <td>&lt;=50K</td>\n",
              "    </tr>\n",
              "    <tr>\n",
              "      <th>28574</th>\n",
              "      <td>38</td>\n",
              "      <td>Federal-gov</td>\n",
              "      <td>506830</td>\n",
              "      <td>Some-college</td>\n",
              "      <td>10</td>\n",
              "      <td>Divorced</td>\n",
              "      <td>Tech-support</td>\n",
              "      <td>Unmarried</td>\n",
              "      <td>Black</td>\n",
              "      <td>Female</td>\n",
              "      <td>0</td>\n",
              "      <td>0</td>\n",
              "      <td>40</td>\n",
              "      <td>United-States</td>\n",
              "      <td>&lt;=50K</td>\n",
              "    </tr>\n",
              "    <tr>\n",
              "      <th>31708</th>\n",
              "      <td>19</td>\n",
              "      <td>Private</td>\n",
              "      <td>194260</td>\n",
              "      <td>Some-college</td>\n",
              "      <td>10</td>\n",
              "      <td>Never-married</td>\n",
              "      <td>Sales</td>\n",
              "      <td>Own-child</td>\n",
              "      <td>White</td>\n",
              "      <td>Female</td>\n",
              "      <td>0</td>\n",
              "      <td>0</td>\n",
              "      <td>20</td>\n",
              "      <td>United-States</td>\n",
              "      <td>&lt;=50K</td>\n",
              "    </tr>\n",
              "    <tr>\n",
              "      <th>23396</th>\n",
              "      <td>25</td>\n",
              "      <td>Private</td>\n",
              "      <td>274228</td>\n",
              "      <td>HS-grad</td>\n",
              "      <td>9</td>\n",
              "      <td>Married-civ-spouse</td>\n",
              "      <td>Tech-support</td>\n",
              "      <td>Husband</td>\n",
              "      <td>White</td>\n",
              "      <td>Male</td>\n",
              "      <td>0</td>\n",
              "      <td>0</td>\n",
              "      <td>84</td>\n",
              "      <td>United-States</td>\n",
              "      <td>&lt;=50K</td>\n",
              "    </tr>\n",
              "  </tbody>\n",
              "</table>\n",
              "</div>"
            ],
            "text/plain": [
              "       age          workclass  finalweight educationlevel  educationnumber  \\\n",
              "19525   47            Private       178341           10th                6   \n",
              "6967    60            Private       230545        7th-8th                4   \n",
              "18905   41            Private       223548        1st-4th                2   \n",
              "18296   39            Private        63021   Some-college               10   \n",
              "15706   56   Self-emp-not-inc        50791        Masters               14   \n",
              "8236    42            Private        52781   Some-college               10   \n",
              "1463    39            Private        51100        HS-grad                9   \n",
              "4285    59            Private       168569        HS-grad                9   \n",
              "31451   36            Private       199346        Masters               14   \n",
              "23001   29            Private       337693        5th-6th                3   \n",
              "2885    65                  ?       327154        HS-grad                9   \n",
              "29853   51            Private       241745        5th-6th                3   \n",
              "28574   38        Federal-gov       506830   Some-college               10   \n",
              "31708   19            Private       194260   Some-college               10   \n",
              "23396   25            Private       274228        HS-grad                9   \n",
              "\n",
              "             maritalstatus          occupation    relationship    race  \\\n",
              "19525   Married-civ-spouse   Machine-op-inspct         Husband   White   \n",
              "6967              Divorced        Adm-clerical   Not-in-family   White   \n",
              "18905   Married-civ-spouse   Machine-op-inspct         Husband   White   \n",
              "18296             Divorced       Other-service   Not-in-family   White   \n",
              "15706             Divorced               Sales   Not-in-family   White   \n",
              "8236    Married-civ-spouse        Tech-support         Husband   White   \n",
              "1463    Married-civ-spouse    Transport-moving         Husband   White   \n",
              "4285    Married-civ-spouse   Machine-op-inspct         Husband   White   \n",
              "31451   Married-civ-spouse      Prof-specialty            Wife   White   \n",
              "23001        Never-married       Other-service       Own-child   White   \n",
              "2885               Widowed                   ?       Unmarried   White   \n",
              "29853            Separated   Machine-op-inspct       Unmarried   White   \n",
              "28574             Divorced        Tech-support       Unmarried   Black   \n",
              "31708        Never-married               Sales       Own-child   White   \n",
              "23396   Married-civ-spouse        Tech-support         Husband   White   \n",
              "\n",
              "        gender  capitalgain  capitalloss  hoursperweek   nativecountry  \\\n",
              "19525     Male            0            0            46   United-States   \n",
              "6967    Female            0            0            35            Cuba   \n",
              "18905     Male            0            0            40          Mexico   \n",
              "18296   Female            0            0            20   United-States   \n",
              "15706     Male            0         1876            60   United-States   \n",
              "8236      Male            0            0            40   United-States   \n",
              "1463      Male            0            0            40   United-States   \n",
              "4285      Male            0         1887            40   United-States   \n",
              "31451   Female            0            0            50   United-States   \n",
              "23001   Female            0            0            40     El-Salvador   \n",
              "2885    Female            0            0            40   United-States   \n",
              "29853   Female            0            0            40          Mexico   \n",
              "28574   Female            0            0            40   United-States   \n",
              "31708   Female            0            0            20   United-States   \n",
              "23396     Male            0            0            84   United-States   \n",
              "\n",
              "      incomelevel  \n",
              "19525        >50K  \n",
              "6967        <=50K  \n",
              "18905       <=50K  \n",
              "18296       <=50K  \n",
              "15706       <=50K  \n",
              "8236        <=50K  \n",
              "1463         >50K  \n",
              "4285         >50K  \n",
              "31451        >50K  \n",
              "23001       <=50K  \n",
              "2885        <=50K  \n",
              "29853       <=50K  \n",
              "28574       <=50K  \n",
              "31708       <=50K  \n",
              "23396       <=50K  "
            ]
          },
          "metadata": {
            "tags": []
          },
          "execution_count": 2
        }
      ]
    },
    {
      "metadata": {
        "id": "xzw0Pawzx8ph",
        "colab_type": "code",
        "outputId": "f34cbed4-71ee-4228-dcc4-f7510e0f8b14",
        "colab": {
          "base_uri": "https://localhost:8080/",
          "height": 35
        }
      },
      "cell_type": "code",
      "source": [
        "income_data.shape"
      ],
      "execution_count": 3,
      "outputs": [
        {
          "output_type": "execute_result",
          "data": {
            "text/plain": [
              "(32561, 15)"
            ]
          },
          "metadata": {
            "tags": []
          },
          "execution_count": 3
        }
      ]
    },
    {
      "metadata": {
        "id": "5LmKZ7bux8r9",
        "colab_type": "code",
        "outputId": "10cda355-81f3-462c-e94a-28e228aed167",
        "colab": {
          "base_uri": "https://localhost:8080/",
          "height": 299
        }
      },
      "cell_type": "code",
      "source": [
        "income_data.dtypes"
      ],
      "execution_count": 4,
      "outputs": [
        {
          "output_type": "execute_result",
          "data": {
            "text/plain": [
              "age                 int64\n",
              "workclass          object\n",
              "finalweight         int64\n",
              "educationlevel     object\n",
              "educationnumber     int64\n",
              "maritalstatus      object\n",
              "occupation         object\n",
              "relationship       object\n",
              "race               object\n",
              "gender             object\n",
              "capitalgain         int64\n",
              "capitalloss         int64\n",
              "hoursperweek        int64\n",
              "nativecountry      object\n",
              "incomelevel        object\n",
              "dtype: object"
            ]
          },
          "metadata": {
            "tags": []
          },
          "execution_count": 4
        }
      ]
    },
    {
      "metadata": {
        "id": "EmrkbBkqx6qj",
        "colab_type": "code",
        "outputId": "33ba091f-33e5-4ace-f5fb-68a040af403b",
        "colab": {
          "base_uri": "https://localhost:8080/",
          "height": 299
        }
      },
      "cell_type": "code",
      "source": [
        "# Checked for any missing values, none shown but ? showed up in sample data\n",
        "\n",
        "income_data.isna().sum()"
      ],
      "execution_count": 5,
      "outputs": [
        {
          "output_type": "execute_result",
          "data": {
            "text/plain": [
              "age                0\n",
              "workclass          0\n",
              "finalweight        0\n",
              "educationlevel     0\n",
              "educationnumber    0\n",
              "maritalstatus      0\n",
              "occupation         0\n",
              "relationship       0\n",
              "race               0\n",
              "gender             0\n",
              "capitalgain        0\n",
              "capitalloss        0\n",
              "hoursperweek       0\n",
              "nativecountry      0\n",
              "incomelevel        0\n",
              "dtype: int64"
            ]
          },
          "metadata": {
            "tags": []
          },
          "execution_count": 5
        }
      ]
    },
    {
      "metadata": {
        "id": "t_JraUPC5FDg",
        "colab_type": "code",
        "outputId": "5da6ebb7-77d4-4dc4-fc43-c383a93b8ebe",
        "colab": {
          "base_uri": "https://localhost:8080/",
          "height": 299
        }
      },
      "cell_type": "code",
      "source": [
        "# Check for missing values denoted in different form and replace ? with NaN\n",
        "\n",
        "df = income_data.replace(' ?', np.nan)\n",
        "df.isna().sum()"
      ],
      "execution_count": 6,
      "outputs": [
        {
          "output_type": "execute_result",
          "data": {
            "text/plain": [
              "age                   0\n",
              "workclass          1836\n",
              "finalweight           0\n",
              "educationlevel        0\n",
              "educationnumber       0\n",
              "maritalstatus         0\n",
              "occupation         1843\n",
              "relationship          0\n",
              "race                  0\n",
              "gender                0\n",
              "capitalgain           0\n",
              "capitalloss           0\n",
              "hoursperweek          0\n",
              "nativecountry       583\n",
              "incomelevel           0\n",
              "dtype: int64"
            ]
          },
          "metadata": {
            "tags": []
          },
          "execution_count": 6
        }
      ]
    },
    {
      "metadata": {
        "id": "vSwIVgDBV5uf",
        "colab_type": "code",
        "colab": {
          "base_uri": "https://localhost:8080/",
          "height": 87
        },
        "outputId": "05bf7355-3022-4335-dbee-1e65d0064c5e"
      },
      "cell_type": "code",
      "source": [
        "# Dropped columns that will not be used for logistic regression or will not be\n",
        "# engineered or encoded\n",
        "\n",
        "df.columns.drop(['occupation','nativecountry','finalweight', 'relationship'])"
      ],
      "execution_count": 7,
      "outputs": [
        {
          "output_type": "execute_result",
          "data": {
            "text/plain": [
              "Index(['age', 'workclass', 'educationlevel', 'educationnumber',\n",
              "       'maritalstatus', 'race', 'gender', 'capitalgain', 'capitalloss',\n",
              "       'hoursperweek', 'incomelevel'],\n",
              "      dtype='object')"
            ]
          },
          "metadata": {
            "tags": []
          },
          "execution_count": 7
        }
      ]
    },
    {
      "metadata": {
        "id": "pWDO8kjeYX97",
        "colab_type": "code",
        "colab": {
          "base_uri": "https://localhost:8080/",
          "height": 299
        },
        "outputId": "b0b43f55-b999-4859-e2b6-5d19c7a7430e"
      },
      "cell_type": "code",
      "source": [
        "# Cleaned NaN data in workclass column by replacing with 0 which will be\n",
        "# the equate missing values as the same as any form of unemployment\n",
        "\n",
        "df['workclass'].fillna(0, inplace=True)\n",
        "df.isna().sum()"
      ],
      "execution_count": 8,
      "outputs": [
        {
          "output_type": "execute_result",
          "data": {
            "text/plain": [
              "age                   0\n",
              "workclass             0\n",
              "finalweight           0\n",
              "educationlevel        0\n",
              "educationnumber       0\n",
              "maritalstatus         0\n",
              "occupation         1843\n",
              "relationship          0\n",
              "race                  0\n",
              "gender                0\n",
              "capitalgain           0\n",
              "capitalloss           0\n",
              "hoursperweek          0\n",
              "nativecountry       583\n",
              "incomelevel           0\n",
              "dtype: int64"
            ]
          },
          "metadata": {
            "tags": []
          },
          "execution_count": 8
        }
      ]
    },
    {
      "metadata": {
        "id": "KuWi9BiUWoKw",
        "colab_type": "code",
        "colab": {}
      },
      "cell_type": "code",
      "source": [
        "# Wrangle data to binary employment status, employment seems like an important\n",
        "# factor in relationship of income\n",
        "\n",
        "df.workclass.replace({' Private' : 1, ' Local-gov' : 1, ' State-gov' : 1,\n",
        "                             ' Self-emp-not-inc' : 1, ' Without-pay' : 0,\n",
        "                             ' Self-emp-inc': 1, ' Never-worked' : 0,\n",
        "                             ' Federal-gov' : 1}, inplace=True)"
      ],
      "execution_count": 0,
      "outputs": []
    },
    {
      "metadata": {
        "id": "joh4RP5dZAMg",
        "colab_type": "code",
        "colab": {}
      },
      "cell_type": "code",
      "source": [
        "# Wrangle data to binary gender\n",
        "\n",
        "df.gender.replace({' Female' : 0, ' Male': 1}, inplace=True)"
      ],
      "execution_count": 0,
      "outputs": []
    },
    {
      "metadata": {
        "id": "qAjLyoipaaQ_",
        "colab_type": "code",
        "colab": {}
      },
      "cell_type": "code",
      "source": [
        "# Wrangle data to binary marriage status, may be interesting to see if marital\n",
        "# status has any correlation with individuals' income, potentially because of\n",
        "# family responsibility\n",
        "\n",
        "df.maritalstatus.replace({' Married-civ-spouse' : 1, ' Divorced' : 0, ' Separated' : 0,\n",
        "                             ' Widowed' : 0, ' Never-married' : 0,\n",
        "                             ' Married-AF-spouse': 1, ' Married-spouse-absent' : 1}, inplace=True)"
      ],
      "execution_count": 0,
      "outputs": []
    },
    {
      "metadata": {
        "id": "8xiTdldbbMM7",
        "colab_type": "code",
        "colab": {}
      },
      "cell_type": "code",
      "source": [
        "# Wrangle data to binary education level of Bachelors degree and above to see if\n",
        "# there's some relationship for attaining higher salary income with college degree\n",
        "\n",
        "df.educationlevel.replace({' Bachelors' : 1, ' Some-college' : 0, ' 11th' : 0, ' 12th' : 0,\n",
        "                             ' Prof-school' : 0, ' HS-grad' : 0, ' 7th-8th' : 0,\n",
        "                             ' Assoc-acdm': 0, ' Assoc-voc' : 0, ' 9th' : 0, \n",
        "                             ' Masters' : 1, ' 1st-4th' : 0, ' 10th' : 0, \n",
        "                             ' Doctorate' : 1, \" 5th-6th\" : 0, ' Preschool' : 0}, \n",
        "                      inplace=True)"
      ],
      "execution_count": 0,
      "outputs": []
    },
    {
      "metadata": {
        "id": "M7KovlhZ-ysG",
        "colab_type": "code",
        "colab": {}
      },
      "cell_type": "code",
      "source": [
        "# Wrangle data to binary threshold of greater than $50k salary\n",
        "\n",
        "df.incomelevel.replace({' <=50K' : 0, ' >50K': 1}, inplace=True)"
      ],
      "execution_count": 0,
      "outputs": []
    },
    {
      "metadata": {
        "id": "oJZGwoI9ZASa",
        "colab_type": "code",
        "colab": {
          "base_uri": "https://localhost:8080/",
          "height": 223
        },
        "outputId": "eeabd841-5ee3-4350-db8c-110a5b0a408a"
      },
      "cell_type": "code",
      "source": [
        "# Data exploration with pairplots to compare X variables with income level but\n",
        "# not much stands out\n",
        "\n",
        "sns.set(style=\"ticks\", color_codes=True)\n",
        "\n",
        "x_columns = df.columns.drop(['incomelevel','finalweight','race','nativecountry','relationship','occupation'])\n",
        "\n",
        "sns.pairplot(data=df, y_vars=['incomelevel'], x_vars=x_columns)\n"
      ],
      "execution_count": 14,
      "outputs": [
        {
          "output_type": "execute_result",
          "data": {
            "text/plain": [
              "<seaborn.axisgrid.PairGrid at 0x7fb86adc7a20>"
            ]
          },
          "metadata": {
            "tags": []
          },
          "execution_count": 14
        },
        {
          "output_type": "display_data",
          "data": {
            "image/png": "[encoded data removed]",
            "text/plain": [
              "<Figure size 1620x180 with 9 Axes>"
            ]
          },
          "metadata": {
            "tags": []
          }
        }
      ]
    },
    {
      "metadata": {
        "id": "rzUU1UgbZzCS",
        "colab_type": "code",
        "colab": {
          "base_uri": "https://localhost:8080/",
          "height": 359
        },
        "outputId": "4945b1be-5a26-47c1-a53b-ae60511ae835"
      },
      "cell_type": "code",
      "source": [
        "# Double check histogram of capital gain for outliers\n",
        "\n",
        "plt.hist(df.capitalgain);"
      ],
      "execution_count": 16,
      "outputs": [
        {
          "output_type": "display_data",
          "data": {
            "image/png": "[encoded data removed]",
            "text/plain": [
              "<Figure size 576x396 with 1 Axes>"
            ]
          },
          "metadata": {
            "tags": []
          }
        }
      ]
    },
    {
      "metadata": {
        "id": "w2T04sVBRcUh",
        "colab_type": "code",
        "colab": {}
      },
      "cell_type": "code",
      "source": [
        "# Get rid the large capital gain outlier based on 3x of std away from mean\n",
        "\n",
        "df = df[np.abs(df.capitalgain-df.capitalgain.mean()) <= (3*df.capitalgain.std())]"
      ],
      "execution_count": 0,
      "outputs": []
    },
    {
      "metadata": {
        "id": "ZPHwSLfISFhw",
        "colab_type": "code",
        "colab": {
          "base_uri": "https://localhost:8080/",
          "height": 299
        },
        "outputId": "455c03e9-ada9-4225-9f87-3de020dc7fee"
      },
      "cell_type": "code",
      "source": [
        "# Check for max in capital gain, the number feels a bit more acceptable to keep in DF\n",
        "\n",
        "df.loc[df['capitalgain'].idxmax()]"
      ],
      "execution_count": 18,
      "outputs": [
        {
          "output_type": "execute_result",
          "data": {
            "text/plain": [
              "age                              61\n",
              "workclass                         1\n",
              "finalweight                   32423\n",
              "educationlevel                    0\n",
              "educationnumber                   9\n",
              "maritalstatus                     1\n",
              "occupation          Farming-fishing\n",
              "relationship                   Wife\n",
              "race                          White\n",
              "gender                            0\n",
              "capitalgain                   22040\n",
              "capitalloss                       0\n",
              "hoursperweek                     40\n",
              "nativecountry         United-States\n",
              "incomelevel                       0\n",
              "Name: 3593, dtype: object"
            ]
          },
          "metadata": {
            "tags": []
          },
          "execution_count": 18
        }
      ]
    },
    {
      "metadata": {
        "id": "ZIAdXxJmRrnM",
        "colab_type": "code",
        "colab": {
          "base_uri": "https://localhost:8080/",
          "height": 315
        },
        "outputId": "12dd4af0-213a-4265-d9d1-de798190019d"
      },
      "cell_type": "code",
      "source": [
        "# Check summary descriptive stats for spread and scaling of variables\n",
        "\n",
        "df.describe()"
      ],
      "execution_count": 19,
      "outputs": [
        {
          "output_type": "execute_result",
          "data": {
            "text/html": [
              "<div>\n",
              "<style scoped>\n",
              "    .dataframe tbody tr th:only-of-type {\n",
              "        vertical-align: middle;\n",
              "    }\n",
              "\n",
              "    .dataframe tbody tr th {\n",
              "        vertical-align: top;\n",
              "    }\n",
              "\n",
              "    .dataframe thead th {\n",
              "        text-align: right;\n",
              "    }\n",
              "</style>\n",
              "<table border=\"1\" class=\"dataframe\">\n",
              "  <thead>\n",
              "    <tr style=\"text-align: right;\">\n",
              "      <th></th>\n",
              "      <th>age</th>\n",
              "      <th>workclass</th>\n",
              "      <th>finalweight</th>\n",
              "      <th>educationlevel</th>\n",
              "      <th>educationnumber</th>\n",
              "      <th>maritalstatus</th>\n",
              "      <th>gender</th>\n",
              "      <th>capitalgain</th>\n",
              "      <th>capitalloss</th>\n",
              "      <th>hoursperweek</th>\n",
              "      <th>incomelevel</th>\n",
              "    </tr>\n",
              "  </thead>\n",
              "  <tbody>\n",
              "    <tr>\n",
              "      <th>count</th>\n",
              "      <td>32346.000000</td>\n",
              "      <td>32346.000000</td>\n",
              "      <td>3.234600e+04</td>\n",
              "      <td>32346.000000</td>\n",
              "      <td>32346.000000</td>\n",
              "      <td>32346.000000</td>\n",
              "      <td>32346.000000</td>\n",
              "      <td>32346.000000</td>\n",
              "      <td>32346.000000</td>\n",
              "      <td>32346.000000</td>\n",
              "      <td>32346.000000</td>\n",
              "    </tr>\n",
              "    <tr>\n",
              "      <th>mean</th>\n",
              "      <td>38.532771</td>\n",
              "      <td>0.942868</td>\n",
              "      <td>1.897869e+05</td>\n",
              "      <td>0.228467</td>\n",
              "      <td>10.062233</td>\n",
              "      <td>0.472361</td>\n",
              "      <td>0.668151</td>\n",
              "      <td>544.492178</td>\n",
              "      <td>87.884128</td>\n",
              "      <td>40.382860</td>\n",
              "      <td>0.235980</td>\n",
              "    </tr>\n",
              "    <tr>\n",
              "      <th>std</th>\n",
              "      <td>13.639102</td>\n",
              "      <td>0.232099</td>\n",
              "      <td>1.055598e+05</td>\n",
              "      <td>0.419852</td>\n",
              "      <td>2.562870</td>\n",
              "      <td>0.499243</td>\n",
              "      <td>0.470885</td>\n",
              "      <td>2286.322055</td>\n",
              "      <td>404.234178</td>\n",
              "      <td>12.324166</td>\n",
              "      <td>0.424616</td>\n",
              "    </tr>\n",
              "    <tr>\n",
              "      <th>min</th>\n",
              "      <td>17.000000</td>\n",
              "      <td>0.000000</td>\n",
              "      <td>1.228500e+04</td>\n",
              "      <td>0.000000</td>\n",
              "      <td>1.000000</td>\n",
              "      <td>0.000000</td>\n",
              "      <td>0.000000</td>\n",
              "      <td>0.000000</td>\n",
              "      <td>0.000000</td>\n",
              "      <td>1.000000</td>\n",
              "      <td>0.000000</td>\n",
              "    </tr>\n",
              "    <tr>\n",
              "      <th>25%</th>\n",
              "      <td>28.000000</td>\n",
              "      <td>1.000000</td>\n",
              "      <td>1.178330e+05</td>\n",
              "      <td>0.000000</td>\n",
              "      <td>9.000000</td>\n",
              "      <td>0.000000</td>\n",
              "      <td>0.000000</td>\n",
              "      <td>0.000000</td>\n",
              "      <td>0.000000</td>\n",
              "      <td>40.000000</td>\n",
              "      <td>0.000000</td>\n",
              "    </tr>\n",
              "    <tr>\n",
              "      <th>50%</th>\n",
              "      <td>37.000000</td>\n",
              "      <td>1.000000</td>\n",
              "      <td>1.784030e+05</td>\n",
              "      <td>0.000000</td>\n",
              "      <td>10.000000</td>\n",
              "      <td>0.000000</td>\n",
              "      <td>1.000000</td>\n",
              "      <td>0.000000</td>\n",
              "      <td>0.000000</td>\n",
              "      <td>40.000000</td>\n",
              "      <td>0.000000</td>\n",
              "    </tr>\n",
              "    <tr>\n",
              "      <th>75%</th>\n",
              "      <td>48.000000</td>\n",
              "      <td>1.000000</td>\n",
              "      <td>2.370650e+05</td>\n",
              "      <td>0.000000</td>\n",
              "      <td>12.000000</td>\n",
              "      <td>1.000000</td>\n",
              "      <td>1.000000</td>\n",
              "      <td>0.000000</td>\n",
              "      <td>0.000000</td>\n",
              "      <td>45.000000</td>\n",
              "      <td>0.000000</td>\n",
              "    </tr>\n",
              "    <tr>\n",
              "      <th>max</th>\n",
              "      <td>90.000000</td>\n",
              "      <td>1.000000</td>\n",
              "      <td>1.484705e+06</td>\n",
              "      <td>1.000000</td>\n",
              "      <td>16.000000</td>\n",
              "      <td>1.000000</td>\n",
              "      <td>1.000000</td>\n",
              "      <td>22040.000000</td>\n",
              "      <td>4356.000000</td>\n",
              "      <td>99.000000</td>\n",
              "      <td>1.000000</td>\n",
              "    </tr>\n",
              "  </tbody>\n",
              "</table>\n",
              "</div>"
            ],
            "text/plain": [
              "                age     workclass   finalweight  educationlevel  \\\n",
              "count  32346.000000  32346.000000  3.234600e+04    32346.000000   \n",
              "mean      38.532771      0.942868  1.897869e+05        0.228467   \n",
              "std       13.639102      0.232099  1.055598e+05        0.419852   \n",
              "min       17.000000      0.000000  1.228500e+04        0.000000   \n",
              "25%       28.000000      1.000000  1.178330e+05        0.000000   \n",
              "50%       37.000000      1.000000  1.784030e+05        0.000000   \n",
              "75%       48.000000      1.000000  2.370650e+05        0.000000   \n",
              "max       90.000000      1.000000  1.484705e+06        1.000000   \n",
              "\n",
              "       educationnumber  maritalstatus        gender   capitalgain  \\\n",
              "count     32346.000000   32346.000000  32346.000000  32346.000000   \n",
              "mean         10.062233       0.472361      0.668151    544.492178   \n",
              "std           2.562870       0.499243      0.470885   2286.322055   \n",
              "min           1.000000       0.000000      0.000000      0.000000   \n",
              "25%           9.000000       0.000000      0.000000      0.000000   \n",
              "50%          10.000000       0.000000      1.000000      0.000000   \n",
              "75%          12.000000       1.000000      1.000000      0.000000   \n",
              "max          16.000000       1.000000      1.000000  22040.000000   \n",
              "\n",
              "        capitalloss  hoursperweek   incomelevel  \n",
              "count  32346.000000  32346.000000  32346.000000  \n",
              "mean      87.884128     40.382860      0.235980  \n",
              "std      404.234178     12.324166      0.424616  \n",
              "min        0.000000      1.000000      0.000000  \n",
              "25%        0.000000     40.000000      0.000000  \n",
              "50%        0.000000     40.000000      0.000000  \n",
              "75%        0.000000     45.000000      0.000000  \n",
              "max     4356.000000     99.000000      1.000000  "
            ]
          },
          "metadata": {
            "tags": []
          },
          "execution_count": 19
        }
      ]
    },
    {
      "metadata": {
        "id": "U-0e4h8r_YxI",
        "colab_type": "code",
        "colab": {
          "base_uri": "https://localhost:8080/",
          "height": 407
        },
        "outputId": "3e082c37-0c67-4a50-8580-b1c8d54b8c0b"
      },
      "cell_type": "code",
      "source": [
        "# Check for key variables to target and collinearity, education level and education\n",
        "# number are the only variables that may have some collinearity\n",
        "\n",
        "df.corr()"
      ],
      "execution_count": 21,
      "outputs": [
        {
          "output_type": "execute_result",
          "data": {
            "text/html": [
              "<div>\n",
              "<style scoped>\n",
              "    .dataframe tbody tr th:only-of-type {\n",
              "        vertical-align: middle;\n",
              "    }\n",
              "\n",
              "    .dataframe tbody tr th {\n",
              "        vertical-align: top;\n",
              "    }\n",
              "\n",
              "    .dataframe thead th {\n",
              "        text-align: right;\n",
              "    }\n",
              "</style>\n",
              "<table border=\"1\" class=\"dataframe\">\n",
              "  <thead>\n",
              "    <tr style=\"text-align: right;\">\n",
              "      <th></th>\n",
              "      <th>age</th>\n",
              "      <th>workclass</th>\n",
              "      <th>finalweight</th>\n",
              "      <th>educationlevel</th>\n",
              "      <th>educationnumber</th>\n",
              "      <th>maritalstatus</th>\n",
              "      <th>gender</th>\n",
              "      <th>capitalgain</th>\n",
              "      <th>capitalloss</th>\n",
              "      <th>hoursperweek</th>\n",
              "      <th>incomelevel</th>\n",
              "    </tr>\n",
              "  </thead>\n",
              "  <tbody>\n",
              "    <tr>\n",
              "      <th>age</th>\n",
              "      <td>1.000000</td>\n",
              "      <td>-0.042586</td>\n",
              "      <td>-0.076849</td>\n",
              "      <td>0.077744</td>\n",
              "      <td>0.031956</td>\n",
              "      <td>0.318341</td>\n",
              "      <td>0.088035</td>\n",
              "      <td>0.122078</td>\n",
              "      <td>0.058760</td>\n",
              "      <td>0.066829</td>\n",
              "      <td>0.230540</td>\n",
              "    </tr>\n",
              "    <tr>\n",
              "      <th>workclass</th>\n",
              "      <td>-0.042586</td>\n",
              "      <td>1.000000</td>\n",
              "      <td>0.003453</td>\n",
              "      <td>0.060029</td>\n",
              "      <td>0.078690</td>\n",
              "      <td>0.053076</td>\n",
              "      <td>0.064990</td>\n",
              "      <td>0.025144</td>\n",
              "      <td>0.016758</td>\n",
              "      <td>0.169849</td>\n",
              "      <td>0.079082</td>\n",
              "    </tr>\n",
              "    <tr>\n",
              "      <th>finalweight</th>\n",
              "      <td>-0.076849</td>\n",
              "      <td>0.003453</td>\n",
              "      <td>1.000000</td>\n",
              "      <td>-0.019193</td>\n",
              "      <td>-0.043521</td>\n",
              "      <td>-0.026280</td>\n",
              "      <td>0.026771</td>\n",
              "      <td>-0.002722</td>\n",
              "      <td>-0.010304</td>\n",
              "      <td>-0.019177</td>\n",
              "      <td>-0.009179</td>\n",
              "    </tr>\n",
              "    <tr>\n",
              "      <th>educationlevel</th>\n",
              "      <td>0.077744</td>\n",
              "      <td>0.060029</td>\n",
              "      <td>-0.019193</td>\n",
              "      <td>1.000000</td>\n",
              "      <td>0.706645</td>\n",
              "      <td>0.088683</td>\n",
              "      <td>0.036181</td>\n",
              "      <td>0.123567</td>\n",
              "      <td>0.069244</td>\n",
              "      <td>0.116684</td>\n",
              "      <td>0.284776</td>\n",
              "    </tr>\n",
              "    <tr>\n",
              "      <th>educationnumber</th>\n",
              "      <td>0.031956</td>\n",
              "      <td>0.078690</td>\n",
              "      <td>-0.043521</td>\n",
              "      <td>0.706645</td>\n",
              "      <td>1.000000</td>\n",
              "      <td>0.076141</td>\n",
              "      <td>0.009018</td>\n",
              "      <td>0.143957</td>\n",
              "      <td>0.082074</td>\n",
              "      <td>0.142648</td>\n",
              "      <td>0.327736</td>\n",
              "    </tr>\n",
              "    <tr>\n",
              "      <th>maritalstatus</th>\n",
              "      <td>0.318341</td>\n",
              "      <td>0.053076</td>\n",
              "      <td>-0.026280</td>\n",
              "      <td>0.088683</td>\n",
              "      <td>0.076141</td>\n",
              "      <td>1.000000</td>\n",
              "      <td>0.421671</td>\n",
              "      <td>0.133565</td>\n",
              "      <td>0.078899</td>\n",
              "      <td>0.210291</td>\n",
              "      <td>0.436720</td>\n",
              "    </tr>\n",
              "    <tr>\n",
              "      <th>gender</th>\n",
              "      <td>0.088035</td>\n",
              "      <td>0.064990</td>\n",
              "      <td>0.026771</td>\n",
              "      <td>0.036181</td>\n",
              "      <td>0.009018</td>\n",
              "      <td>0.421671</td>\n",
              "      <td>1.000000</td>\n",
              "      <td>0.067020</td>\n",
              "      <td>0.046176</td>\n",
              "      <td>0.227673</td>\n",
              "      <td>0.214776</td>\n",
              "    </tr>\n",
              "    <tr>\n",
              "      <th>capitalgain</th>\n",
              "      <td>0.122078</td>\n",
              "      <td>0.025144</td>\n",
              "      <td>-0.002722</td>\n",
              "      <td>0.123567</td>\n",
              "      <td>0.143957</td>\n",
              "      <td>0.133565</td>\n",
              "      <td>0.067020</td>\n",
              "      <td>1.000000</td>\n",
              "      <td>-0.051778</td>\n",
              "      <td>0.085594</td>\n",
              "      <td>0.319481</td>\n",
              "    </tr>\n",
              "    <tr>\n",
              "      <th>capitalloss</th>\n",
              "      <td>0.058760</td>\n",
              "      <td>0.016758</td>\n",
              "      <td>-0.010304</td>\n",
              "      <td>0.069244</td>\n",
              "      <td>0.082074</td>\n",
              "      <td>0.078899</td>\n",
              "      <td>0.046176</td>\n",
              "      <td>-0.051778</td>\n",
              "      <td>1.000000</td>\n",
              "      <td>0.055511</td>\n",
              "      <td>0.154577</td>\n",
              "    </tr>\n",
              "    <tr>\n",
              "      <th>hoursperweek</th>\n",
              "      <td>0.066829</td>\n",
              "      <td>0.169849</td>\n",
              "      <td>-0.019177</td>\n",
              "      <td>0.116684</td>\n",
              "      <td>0.142648</td>\n",
              "      <td>0.210291</td>\n",
              "      <td>0.227673</td>\n",
              "      <td>0.085594</td>\n",
              "      <td>0.055511</td>\n",
              "      <td>1.000000</td>\n",
              "      <td>0.224802</td>\n",
              "    </tr>\n",
              "    <tr>\n",
              "      <th>incomelevel</th>\n",
              "      <td>0.230540</td>\n",
              "      <td>0.079082</td>\n",
              "      <td>-0.009179</td>\n",
              "      <td>0.284776</td>\n",
              "      <td>0.327736</td>\n",
              "      <td>0.436720</td>\n",
              "      <td>0.214776</td>\n",
              "      <td>0.319481</td>\n",
              "      <td>0.154577</td>\n",
              "      <td>0.224802</td>\n",
              "      <td>1.000000</td>\n",
              "    </tr>\n",
              "  </tbody>\n",
              "</table>\n",
              "</div>"
            ],
            "text/plain": [
              "                      age  workclass  finalweight  educationlevel  \\\n",
              "age              1.000000  -0.042586    -0.076849        0.077744   \n",
              "workclass       -0.042586   1.000000     0.003453        0.060029   \n",
              "finalweight     -0.076849   0.003453     1.000000       -0.019193   \n",
              "educationlevel   0.077744   0.060029    -0.019193        1.000000   \n",
              "educationnumber  0.031956   0.078690    -0.043521        0.706645   \n",
              "maritalstatus    0.318341   0.053076    -0.026280        0.088683   \n",
              "gender           0.088035   0.064990     0.026771        0.036181   \n",
              "capitalgain      0.122078   0.025144    -0.002722        0.123567   \n",
              "capitalloss      0.058760   0.016758    -0.010304        0.069244   \n",
              "hoursperweek     0.066829   0.169849    -0.019177        0.116684   \n",
              "incomelevel      0.230540   0.079082    -0.009179        0.284776   \n",
              "\n",
              "                 educationnumber  maritalstatus    gender  capitalgain  \\\n",
              "age                     0.031956       0.318341  0.088035     0.122078   \n",
              "workclass               0.078690       0.053076  0.064990     0.025144   \n",
              "finalweight            -0.043521      -0.026280  0.026771    -0.002722   \n",
              "educationlevel          0.706645       0.088683  0.036181     0.123567   \n",
              "educationnumber         1.000000       0.076141  0.009018     0.143957   \n",
              "maritalstatus           0.076141       1.000000  0.421671     0.133565   \n",
              "gender                  0.009018       0.421671  1.000000     0.067020   \n",
              "capitalgain             0.143957       0.133565  0.067020     1.000000   \n",
              "capitalloss             0.082074       0.078899  0.046176    -0.051778   \n",
              "hoursperweek            0.142648       0.210291  0.227673     0.085594   \n",
              "incomelevel             0.327736       0.436720  0.214776     0.319481   \n",
              "\n",
              "                 capitalloss  hoursperweek  incomelevel  \n",
              "age                 0.058760      0.066829     0.230540  \n",
              "workclass           0.016758      0.169849     0.079082  \n",
              "finalweight        -0.010304     -0.019177    -0.009179  \n",
              "educationlevel      0.069244      0.116684     0.284776  \n",
              "educationnumber     0.082074      0.142648     0.327736  \n",
              "maritalstatus       0.078899      0.210291     0.436720  \n",
              "gender              0.046176      0.227673     0.214776  \n",
              "capitalgain        -0.051778      0.085594     0.319481  \n",
              "capitalloss         1.000000      0.055511     0.154577  \n",
              "hoursperweek        0.055511      1.000000     0.224802  \n",
              "incomelevel         0.154577      0.224802     1.000000  "
            ]
          },
          "metadata": {
            "tags": []
          },
          "execution_count": 21
        }
      ]
    },
    {
      "metadata": {
        "id": "3dkr8R4A-g4e",
        "colab_type": "code",
        "colab": {
          "base_uri": "https://localhost:8080/",
          "height": 283
        },
        "outputId": "42717854-f070-4be8-d9f6-b5add90471e7"
      },
      "cell_type": "code",
      "source": [
        "# Use scaler to adjust variables that have large variance, chose to scale the \n",
        "# capital gains and capital loss variables\n",
        "\n",
        "from sklearn.preprocessing import MinMaxScaler\n",
        "\n",
        "scaler = MinMaxScaler()\n",
        "\n",
        "df[['capitalgain','capitalloss']] = scaler.fit_transform(df[['capitalgain','capitalloss']])"
      ],
      "execution_count": 25,
      "outputs": [
        {
          "output_type": "stream",
          "text": [
            "/usr/local/lib/python3.6/dist-packages/sklearn/preprocessing/data.py:323: DataConversionWarning: Data with input dtype int64 were all converted to float64 by MinMaxScaler.\n",
            "  return self.partial_fit(X, y)\n",
            "/usr/local/lib/python3.6/dist-packages/ipykernel_launcher.py:6: SettingWithCopyWarning: \n",
            "A value is trying to be set on a copy of a slice from a DataFrame.\n",
            "Try using .loc[row_indexer,col_indexer] = value instead\n",
            "\n",
            "See the caveats in the documentation: http://pandas.pydata.org/pandas-docs/stable/indexing.html#indexing-view-versus-copy\n",
            "  \n",
            "/usr/local/lib/python3.6/dist-packages/pandas/core/indexing.py:537: SettingWithCopyWarning: \n",
            "A value is trying to be set on a copy of a slice from a DataFrame.\n",
            "Try using .loc[row_indexer,col_indexer] = value instead\n",
            "\n",
            "See the caveats in the documentation: http://pandas.pydata.org/pandas-docs/stable/indexing.html#indexing-view-versus-copy\n",
            "  self.obj[item] = s\n"
          ],
          "name": "stderr"
        }
      ]
    },
    {
      "metadata": {
        "id": "_cC3erNqB0ig",
        "colab_type": "code",
        "colab": {
          "base_uri": "https://localhost:8080/",
          "height": 315
        },
        "outputId": "e48609d5-f27b-4620-9df9-20d589db8bb9"
      },
      "cell_type": "code",
      "source": [
        "df.describe()"
      ],
      "execution_count": 26,
      "outputs": [
        {
          "output_type": "execute_result",
          "data": {
            "text/html": [
              "<div>\n",
              "<style scoped>\n",
              "    .dataframe tbody tr th:only-of-type {\n",
              "        vertical-align: middle;\n",
              "    }\n",
              "\n",
              "    .dataframe tbody tr th {\n",
              "        vertical-align: top;\n",
              "    }\n",
              "\n",
              "    .dataframe thead th {\n",
              "        text-align: right;\n",
              "    }\n",
              "</style>\n",
              "<table border=\"1\" class=\"dataframe\">\n",
              "  <thead>\n",
              "    <tr style=\"text-align: right;\">\n",
              "      <th></th>\n",
              "      <th>age</th>\n",
              "      <th>workclass</th>\n",
              "      <th>finalweight</th>\n",
              "      <th>educationlevel</th>\n",
              "      <th>educationnumber</th>\n",
              "      <th>maritalstatus</th>\n",
              "      <th>gender</th>\n",
              "      <th>capitalgain</th>\n",
              "      <th>capitalloss</th>\n",
              "      <th>hoursperweek</th>\n",
              "      <th>incomelevel</th>\n",
              "    </tr>\n",
              "  </thead>\n",
              "  <tbody>\n",
              "    <tr>\n",
              "      <th>count</th>\n",
              "      <td>32346.000000</td>\n",
              "      <td>32346.000000</td>\n",
              "      <td>3.234600e+04</td>\n",
              "      <td>32346.000000</td>\n",
              "      <td>32346.000000</td>\n",
              "      <td>32346.000000</td>\n",
              "      <td>32346.000000</td>\n",
              "      <td>32346.000000</td>\n",
              "      <td>32346.000000</td>\n",
              "      <td>32346.000000</td>\n",
              "      <td>32346.000000</td>\n",
              "    </tr>\n",
              "    <tr>\n",
              "      <th>mean</th>\n",
              "      <td>38.532771</td>\n",
              "      <td>0.942868</td>\n",
              "      <td>1.897869e+05</td>\n",
              "      <td>0.228467</td>\n",
              "      <td>10.062233</td>\n",
              "      <td>0.472361</td>\n",
              "      <td>0.668151</td>\n",
              "      <td>0.024705</td>\n",
              "      <td>0.020175</td>\n",
              "      <td>40.382860</td>\n",
              "      <td>0.235980</td>\n",
              "    </tr>\n",
              "    <tr>\n",
              "      <th>std</th>\n",
              "      <td>13.639102</td>\n",
              "      <td>0.232099</td>\n",
              "      <td>1.055598e+05</td>\n",
              "      <td>0.419852</td>\n",
              "      <td>2.562870</td>\n",
              "      <td>0.499243</td>\n",
              "      <td>0.470885</td>\n",
              "      <td>0.103735</td>\n",
              "      <td>0.092799</td>\n",
              "      <td>12.324166</td>\n",
              "      <td>0.424616</td>\n",
              "    </tr>\n",
              "    <tr>\n",
              "      <th>min</th>\n",
              "      <td>17.000000</td>\n",
              "      <td>0.000000</td>\n",
              "      <td>1.228500e+04</td>\n",
              "      <td>0.000000</td>\n",
              "      <td>1.000000</td>\n",
              "      <td>0.000000</td>\n",
              "      <td>0.000000</td>\n",
              "      <td>0.000000</td>\n",
              "      <td>0.000000</td>\n",
              "      <td>1.000000</td>\n",
              "      <td>0.000000</td>\n",
              "    </tr>\n",
              "    <tr>\n",
              "      <th>25%</th>\n",
              "      <td>28.000000</td>\n",
              "      <td>1.000000</td>\n",
              "      <td>1.178330e+05</td>\n",
              "      <td>0.000000</td>\n",
              "      <td>9.000000</td>\n",
              "      <td>0.000000</td>\n",
              "      <td>0.000000</td>\n",
              "      <td>0.000000</td>\n",
              "      <td>0.000000</td>\n",
              "      <td>40.000000</td>\n",
              "      <td>0.000000</td>\n",
              "    </tr>\n",
              "    <tr>\n",
              "      <th>50%</th>\n",
              "      <td>37.000000</td>\n",
              "      <td>1.000000</td>\n",
              "      <td>1.784030e+05</td>\n",
              "      <td>0.000000</td>\n",
              "      <td>10.000000</td>\n",
              "      <td>0.000000</td>\n",
              "      <td>1.000000</td>\n",
              "      <td>0.000000</td>\n",
              "      <td>0.000000</td>\n",
              "      <td>40.000000</td>\n",
              "      <td>0.000000</td>\n",
              "    </tr>\n",
              "    <tr>\n",
              "      <th>75%</th>\n",
              "      <td>48.000000</td>\n",
              "      <td>1.000000</td>\n",
              "      <td>2.370650e+05</td>\n",
              "      <td>0.000000</td>\n",
              "      <td>12.000000</td>\n",
              "      <td>1.000000</td>\n",
              "      <td>1.000000</td>\n",
              "      <td>0.000000</td>\n",
              "      <td>0.000000</td>\n",
              "      <td>45.000000</td>\n",
              "      <td>0.000000</td>\n",
              "    </tr>\n",
              "    <tr>\n",
              "      <th>max</th>\n",
              "      <td>90.000000</td>\n",
              "      <td>1.000000</td>\n",
              "      <td>1.484705e+06</td>\n",
              "      <td>1.000000</td>\n",
              "      <td>16.000000</td>\n",
              "      <td>1.000000</td>\n",
              "      <td>1.000000</td>\n",
              "      <td>1.000000</td>\n",
              "      <td>1.000000</td>\n",
              "      <td>99.000000</td>\n",
              "      <td>1.000000</td>\n",
              "    </tr>\n",
              "  </tbody>\n",
              "</table>\n",
              "</div>"
            ],
            "text/plain": [
              "                age     workclass   finalweight  educationlevel  \\\n",
              "count  32346.000000  32346.000000  3.234600e+04    32346.000000   \n",
              "mean      38.532771      0.942868  1.897869e+05        0.228467   \n",
              "std       13.639102      0.232099  1.055598e+05        0.419852   \n",
              "min       17.000000      0.000000  1.228500e+04        0.000000   \n",
              "25%       28.000000      1.000000  1.178330e+05        0.000000   \n",
              "50%       37.000000      1.000000  1.784030e+05        0.000000   \n",
              "75%       48.000000      1.000000  2.370650e+05        0.000000   \n",
              "max       90.000000      1.000000  1.484705e+06        1.000000   \n",
              "\n",
              "       educationnumber  maritalstatus        gender   capitalgain  \\\n",
              "count     32346.000000   32346.000000  32346.000000  32346.000000   \n",
              "mean         10.062233       0.472361      0.668151      0.024705   \n",
              "std           2.562870       0.499243      0.470885      0.103735   \n",
              "min           1.000000       0.000000      0.000000      0.000000   \n",
              "25%           9.000000       0.000000      0.000000      0.000000   \n",
              "50%          10.000000       0.000000      1.000000      0.000000   \n",
              "75%          12.000000       1.000000      1.000000      0.000000   \n",
              "max          16.000000       1.000000      1.000000      1.000000   \n",
              "\n",
              "        capitalloss  hoursperweek   incomelevel  \n",
              "count  32346.000000  32346.000000  32346.000000  \n",
              "mean       0.020175     40.382860      0.235980  \n",
              "std        0.092799     12.324166      0.424616  \n",
              "min        0.000000      1.000000      0.000000  \n",
              "25%        0.000000     40.000000      0.000000  \n",
              "50%        0.000000     40.000000      0.000000  \n",
              "75%        0.000000     45.000000      0.000000  \n",
              "max        1.000000     99.000000      1.000000  "
            ]
          },
          "metadata": {
            "tags": []
          },
          "execution_count": 26
        }
      ]
    },
    {
      "metadata": {
        "id": "CH_IjXYcC0gC",
        "colab_type": "code",
        "colab": {
          "base_uri": "https://localhost:8080/",
          "height": 203
        },
        "outputId": "68478991-0fc2-42a0-c724-43d674971688"
      },
      "cell_type": "code",
      "source": [
        "# Added dummies for race variable\n",
        "\n",
        "dummy = pd.get_dummies(df['race'])\n",
        "dummy.head()"
      ],
      "execution_count": 27,
      "outputs": [
        {
          "output_type": "execute_result",
          "data": {
            "text/html": [
              "<div>\n",
              "<style scoped>\n",
              "    .dataframe tbody tr th:only-of-type {\n",
              "        vertical-align: middle;\n",
              "    }\n",
              "\n",
              "    .dataframe tbody tr th {\n",
              "        vertical-align: top;\n",
              "    }\n",
              "\n",
              "    .dataframe thead th {\n",
              "        text-align: right;\n",
              "    }\n",
              "</style>\n",
              "<table border=\"1\" class=\"dataframe\">\n",
              "  <thead>\n",
              "    <tr style=\"text-align: right;\">\n",
              "      <th></th>\n",
              "      <th>Amer-Indian-Eskimo</th>\n",
              "      <th>Asian-Pac-Islander</th>\n",
              "      <th>Black</th>\n",
              "      <th>Other</th>\n",
              "      <th>White</th>\n",
              "    </tr>\n",
              "  </thead>\n",
              "  <tbody>\n",
              "    <tr>\n",
              "      <th>0</th>\n",
              "      <td>0</td>\n",
              "      <td>0</td>\n",
              "      <td>0</td>\n",
              "      <td>0</td>\n",
              "      <td>1</td>\n",
              "    </tr>\n",
              "    <tr>\n",
              "      <th>1</th>\n",
              "      <td>0</td>\n",
              "      <td>0</td>\n",
              "      <td>0</td>\n",
              "      <td>0</td>\n",
              "      <td>1</td>\n",
              "    </tr>\n",
              "    <tr>\n",
              "      <th>2</th>\n",
              "      <td>0</td>\n",
              "      <td>0</td>\n",
              "      <td>0</td>\n",
              "      <td>0</td>\n",
              "      <td>1</td>\n",
              "    </tr>\n",
              "    <tr>\n",
              "      <th>3</th>\n",
              "      <td>0</td>\n",
              "      <td>0</td>\n",
              "      <td>1</td>\n",
              "      <td>0</td>\n",
              "      <td>0</td>\n",
              "    </tr>\n",
              "    <tr>\n",
              "      <th>4</th>\n",
              "      <td>0</td>\n",
              "      <td>0</td>\n",
              "      <td>1</td>\n",
              "      <td>0</td>\n",
              "      <td>0</td>\n",
              "    </tr>\n",
              "  </tbody>\n",
              "</table>\n",
              "</div>"
            ],
            "text/plain": [
              "    Amer-Indian-Eskimo   Asian-Pac-Islander   Black   Other   White\n",
              "0                    0                    0       0       0       1\n",
              "1                    0                    0       0       0       1\n",
              "2                    0                    0       0       0       1\n",
              "3                    0                    0       1       0       0\n",
              "4                    0                    0       1       0       0"
            ]
          },
          "metadata": {
            "tags": []
          },
          "execution_count": 27
        }
      ]
    },
    {
      "metadata": {
        "id": "ckAEIMiIC0k_",
        "colab_type": "code",
        "colab": {}
      },
      "cell_type": "code",
      "source": [
        "# Added dummies to DF\n",
        "df = pd.concat([df,dummy], axis=1)"
      ],
      "execution_count": 0,
      "outputs": []
    },
    {
      "metadata": {
        "id": "5hLmXuXwB0uN",
        "colab_type": "code",
        "colab": {
          "base_uri": "https://localhost:8080/",
          "height": 630
        },
        "outputId": "9de5fc16-3a54-429b-e3ea-8bad0c8d0b30"
      },
      "cell_type": "code",
      "source": [
        "# Checked correlations again and found race is not a big factor to income levels\n",
        "df.corr()"
      ],
      "execution_count": 29,
      "outputs": [
        {
          "output_type": "execute_result",
          "data": {
            "text/html": [
              "<div>\n",
              "<style scoped>\n",
              "    .dataframe tbody tr th:only-of-type {\n",
              "        vertical-align: middle;\n",
              "    }\n",
              "\n",
              "    .dataframe tbody tr th {\n",
              "        vertical-align: top;\n",
              "    }\n",
              "\n",
              "    .dataframe thead th {\n",
              "        text-align: right;\n",
              "    }\n",
              "</style>\n",
              "<table border=\"1\" class=\"dataframe\">\n",
              "  <thead>\n",
              "    <tr style=\"text-align: right;\">\n",
              "      <th></th>\n",
              "      <th>age</th>\n",
              "      <th>workclass</th>\n",
              "      <th>finalweight</th>\n",
              "      <th>educationlevel</th>\n",
              "      <th>educationnumber</th>\n",
              "      <th>maritalstatus</th>\n",
              "      <th>gender</th>\n",
              "      <th>capitalgain</th>\n",
              "      <th>capitalloss</th>\n",
              "      <th>hoursperweek</th>\n",
              "      <th>incomelevel</th>\n",
              "      <th>Amer-Indian-Eskimo</th>\n",
              "      <th>Asian-Pac-Islander</th>\n",
              "      <th>Black</th>\n",
              "      <th>Other</th>\n",
              "      <th>White</th>\n",
              "    </tr>\n",
              "  </thead>\n",
              "  <tbody>\n",
              "    <tr>\n",
              "      <th>age</th>\n",
              "      <td>1.000000</td>\n",
              "      <td>-0.042586</td>\n",
              "      <td>-0.076849</td>\n",
              "      <td>0.077744</td>\n",
              "      <td>0.031956</td>\n",
              "      <td>0.318341</td>\n",
              "      <td>0.088035</td>\n",
              "      <td>0.122078</td>\n",
              "      <td>0.058760</td>\n",
              "      <td>0.066829</td>\n",
              "      <td>0.230540</td>\n",
              "      <td>-0.009799</td>\n",
              "      <td>-0.011484</td>\n",
              "      <td>-0.017990</td>\n",
              "      <td>-0.034977</td>\n",
              "      <td>0.032437</td>\n",
              "    </tr>\n",
              "    <tr>\n",
              "      <th>workclass</th>\n",
              "      <td>-0.042586</td>\n",
              "      <td>1.000000</td>\n",
              "      <td>0.003453</td>\n",
              "      <td>0.060029</td>\n",
              "      <td>0.078690</td>\n",
              "      <td>0.053076</td>\n",
              "      <td>0.064990</td>\n",
              "      <td>0.025144</td>\n",
              "      <td>0.016758</td>\n",
              "      <td>0.169849</td>\n",
              "      <td>0.079082</td>\n",
              "      <td>-0.009966</td>\n",
              "      <td>-0.004760</td>\n",
              "      <td>-0.016750</td>\n",
              "      <td>-0.011194</td>\n",
              "      <td>0.021987</td>\n",
              "    </tr>\n",
              "    <tr>\n",
              "      <th>finalweight</th>\n",
              "      <td>-0.076849</td>\n",
              "      <td>0.003453</td>\n",
              "      <td>1.000000</td>\n",
              "      <td>-0.019193</td>\n",
              "      <td>-0.043521</td>\n",
              "      <td>-0.026280</td>\n",
              "      <td>0.026771</td>\n",
              "      <td>-0.002722</td>\n",
              "      <td>-0.010304</td>\n",
              "      <td>-0.019177</td>\n",
              "      <td>-0.009179</td>\n",
              "      <td>-0.064246</td>\n",
              "      <td>-0.051412</td>\n",
              "      <td>0.118151</td>\n",
              "      <td>0.006661</td>\n",
              "      <td>-0.057149</td>\n",
              "    </tr>\n",
              "    <tr>\n",
              "      <th>educationlevel</th>\n",
              "      <td>0.077744</td>\n",
              "      <td>0.060029</td>\n",
              "      <td>-0.019193</td>\n",
              "      <td>1.000000</td>\n",
              "      <td>0.706645</td>\n",
              "      <td>0.088683</td>\n",
              "      <td>0.036181</td>\n",
              "      <td>0.123567</td>\n",
              "      <td>0.069244</td>\n",
              "      <td>0.116684</td>\n",
              "      <td>0.284776</td>\n",
              "      <td>-0.031611</td>\n",
              "      <td>0.070160</td>\n",
              "      <td>-0.071760</td>\n",
              "      <td>-0.015777</td>\n",
              "      <td>0.037874</td>\n",
              "    </tr>\n",
              "    <tr>\n",
              "      <th>educationnumber</th>\n",
              "      <td>0.031956</td>\n",
              "      <td>0.078690</td>\n",
              "      <td>-0.043521</td>\n",
              "      <td>0.706645</td>\n",
              "      <td>1.000000</td>\n",
              "      <td>0.076141</td>\n",
              "      <td>0.009018</td>\n",
              "      <td>0.143957</td>\n",
              "      <td>0.082074</td>\n",
              "      <td>0.142648</td>\n",
              "      <td>0.327736</td>\n",
              "      <td>-0.028762</td>\n",
              "      <td>0.061618</td>\n",
              "      <td>-0.074220</td>\n",
              "      <td>-0.045262</td>\n",
              "      <td>0.050971</td>\n",
              "    </tr>\n",
              "    <tr>\n",
              "      <th>maritalstatus</th>\n",
              "      <td>0.318341</td>\n",
              "      <td>0.053076</td>\n",
              "      <td>-0.026280</td>\n",
              "      <td>0.088683</td>\n",
              "      <td>0.076141</td>\n",
              "      <td>1.000000</td>\n",
              "      <td>0.421671</td>\n",
              "      <td>0.133565</td>\n",
              "      <td>0.078899</td>\n",
              "      <td>0.210291</td>\n",
              "      <td>0.436720</td>\n",
              "      <td>-0.013623</td>\n",
              "      <td>0.019915</td>\n",
              "      <td>-0.120704</td>\n",
              "      <td>-0.006182</td>\n",
              "      <td>0.096297</td>\n",
              "    </tr>\n",
              "    <tr>\n",
              "      <th>gender</th>\n",
              "      <td>0.088035</td>\n",
              "      <td>0.064990</td>\n",
              "      <td>0.026771</td>\n",
              "      <td>0.036181</td>\n",
              "      <td>0.009018</td>\n",
              "      <td>0.421671</td>\n",
              "      <td>1.000000</td>\n",
              "      <td>0.067020</td>\n",
              "      <td>0.046176</td>\n",
              "      <td>0.227673</td>\n",
              "      <td>0.214776</td>\n",
              "      <td>-0.010868</td>\n",
              "      <td>-0.001070</td>\n",
              "      <td>-0.114994</td>\n",
              "      <td>-0.014266</td>\n",
              "      <td>0.103272</td>\n",
              "    </tr>\n",
              "    <tr>\n",
              "      <th>capitalgain</th>\n",
              "      <td>0.122078</td>\n",
              "      <td>0.025144</td>\n",
              "      <td>-0.002722</td>\n",
              "      <td>0.123567</td>\n",
              "      <td>0.143957</td>\n",
              "      <td>0.133565</td>\n",
              "      <td>0.067020</td>\n",
              "      <td>1.000000</td>\n",
              "      <td>-0.051778</td>\n",
              "      <td>0.085594</td>\n",
              "      <td>0.319481</td>\n",
              "      <td>-0.000300</td>\n",
              "      <td>-0.003973</td>\n",
              "      <td>-0.026463</td>\n",
              "      <td>-0.013874</td>\n",
              "      <td>0.027734</td>\n",
              "    </tr>\n",
              "    <tr>\n",
              "      <th>capitalloss</th>\n",
              "      <td>0.058760</td>\n",
              "      <td>0.016758</td>\n",
              "      <td>-0.010304</td>\n",
              "      <td>0.069244</td>\n",
              "      <td>0.082074</td>\n",
              "      <td>0.078899</td>\n",
              "      <td>0.046176</td>\n",
              "      <td>-0.051778</td>\n",
              "      <td>1.000000</td>\n",
              "      <td>0.055511</td>\n",
              "      <td>0.154577</td>\n",
              "      <td>-0.013043</td>\n",
              "      <td>0.004652</td>\n",
              "      <td>-0.022047</td>\n",
              "      <td>-0.005972</td>\n",
              "      <td>0.021243</td>\n",
              "    </tr>\n",
              "    <tr>\n",
              "      <th>hoursperweek</th>\n",
              "      <td>0.066829</td>\n",
              "      <td>0.169849</td>\n",
              "      <td>-0.019177</td>\n",
              "      <td>0.116684</td>\n",
              "      <td>0.142648</td>\n",
              "      <td>0.210291</td>\n",
              "      <td>0.227673</td>\n",
              "      <td>0.085594</td>\n",
              "      <td>0.055511</td>\n",
              "      <td>1.000000</td>\n",
              "      <td>0.224802</td>\n",
              "      <td>-0.002876</td>\n",
              "      <td>-0.004842</td>\n",
              "      <td>-0.052391</td>\n",
              "      <td>-0.008342</td>\n",
              "      <td>0.049115</td>\n",
              "    </tr>\n",
              "    <tr>\n",
              "      <th>incomelevel</th>\n",
              "      <td>0.230540</td>\n",
              "      <td>0.079082</td>\n",
              "      <td>-0.009179</td>\n",
              "      <td>0.284776</td>\n",
              "      <td>0.327736</td>\n",
              "      <td>0.436720</td>\n",
              "      <td>0.214776</td>\n",
              "      <td>0.319481</td>\n",
              "      <td>0.154577</td>\n",
              "      <td>0.224802</td>\n",
              "      <td>1.000000</td>\n",
              "      <td>-0.028513</td>\n",
              "      <td>0.009303</td>\n",
              "      <td>-0.088084</td>\n",
              "      <td>-0.032454</td>\n",
              "      <td>0.085184</td>\n",
              "    </tr>\n",
              "    <tr>\n",
              "      <th>Amer-Indian-Eskimo</th>\n",
              "      <td>-0.009799</td>\n",
              "      <td>-0.009966</td>\n",
              "      <td>-0.064246</td>\n",
              "      <td>-0.031611</td>\n",
              "      <td>-0.028762</td>\n",
              "      <td>-0.013623</td>\n",
              "      <td>-0.010868</td>\n",
              "      <td>-0.000300</td>\n",
              "      <td>-0.013043</td>\n",
              "      <td>-0.002876</td>\n",
              "      <td>-0.028513</td>\n",
              "      <td>1.000000</td>\n",
              "      <td>-0.017822</td>\n",
              "      <td>-0.032106</td>\n",
              "      <td>-0.009008</td>\n",
              "      <td>-0.237956</td>\n",
              "    </tr>\n",
              "    <tr>\n",
              "      <th>Asian-Pac-Islander</th>\n",
              "      <td>-0.011484</td>\n",
              "      <td>-0.004760</td>\n",
              "      <td>-0.051412</td>\n",
              "      <td>0.070160</td>\n",
              "      <td>0.061618</td>\n",
              "      <td>0.019915</td>\n",
              "      <td>-0.001070</td>\n",
              "      <td>-0.003973</td>\n",
              "      <td>0.004652</td>\n",
              "      <td>-0.004842</td>\n",
              "      <td>0.009303</td>\n",
              "      <td>-0.017822</td>\n",
              "      <td>1.000000</td>\n",
              "      <td>-0.059133</td>\n",
              "      <td>-0.016591</td>\n",
              "      <td>-0.438262</td>\n",
              "    </tr>\n",
              "    <tr>\n",
              "      <th>Black</th>\n",
              "      <td>-0.017990</td>\n",
              "      <td>-0.016750</td>\n",
              "      <td>0.118151</td>\n",
              "      <td>-0.071760</td>\n",
              "      <td>-0.074220</td>\n",
              "      <td>-0.120704</td>\n",
              "      <td>-0.114994</td>\n",
              "      <td>-0.026463</td>\n",
              "      <td>-0.022047</td>\n",
              "      <td>-0.052391</td>\n",
              "      <td>-0.088084</td>\n",
              "      <td>-0.032106</td>\n",
              "      <td>-0.059133</td>\n",
              "      <td>1.000000</td>\n",
              "      <td>-0.029889</td>\n",
              "      <td>-0.789522</td>\n",
              "    </tr>\n",
              "    <tr>\n",
              "      <th>Other</th>\n",
              "      <td>-0.034977</td>\n",
              "      <td>-0.011194</td>\n",
              "      <td>0.006661</td>\n",
              "      <td>-0.015777</td>\n",
              "      <td>-0.045262</td>\n",
              "      <td>-0.006182</td>\n",
              "      <td>-0.014266</td>\n",
              "      <td>-0.013874</td>\n",
              "      <td>-0.005972</td>\n",
              "      <td>-0.008342</td>\n",
              "      <td>-0.032454</td>\n",
              "      <td>-0.009008</td>\n",
              "      <td>-0.016591</td>\n",
              "      <td>-0.029889</td>\n",
              "      <td>1.000000</td>\n",
              "      <td>-0.221520</td>\n",
              "    </tr>\n",
              "    <tr>\n",
              "      <th>White</th>\n",
              "      <td>0.032437</td>\n",
              "      <td>0.021987</td>\n",
              "      <td>-0.057149</td>\n",
              "      <td>0.037874</td>\n",
              "      <td>0.050971</td>\n",
              "      <td>0.096297</td>\n",
              "      <td>0.103272</td>\n",
              "      <td>0.027734</td>\n",
              "      <td>0.021243</td>\n",
              "      <td>0.049115</td>\n",
              "      <td>0.085184</td>\n",
              "      <td>-0.237956</td>\n",
              "      <td>-0.438262</td>\n",
              "      <td>-0.789522</td>\n",
              "      <td>-0.221520</td>\n",
              "      <td>1.000000</td>\n",
              "    </tr>\n",
              "  </tbody>\n",
              "</table>\n",
              "</div>"
            ],
            "text/plain": [
              "                          age  workclass  finalweight  educationlevel  \\\n",
              "age                  1.000000  -0.042586    -0.076849        0.077744   \n",
              "workclass           -0.042586   1.000000     0.003453        0.060029   \n",
              "finalweight         -0.076849   0.003453     1.000000       -0.019193   \n",
              "educationlevel       0.077744   0.060029    -0.019193        1.000000   \n",
              "educationnumber      0.031956   0.078690    -0.043521        0.706645   \n",
              "maritalstatus        0.318341   0.053076    -0.026280        0.088683   \n",
              "gender               0.088035   0.064990     0.026771        0.036181   \n",
              "capitalgain          0.122078   0.025144    -0.002722        0.123567   \n",
              "capitalloss          0.058760   0.016758    -0.010304        0.069244   \n",
              "hoursperweek         0.066829   0.169849    -0.019177        0.116684   \n",
              "incomelevel          0.230540   0.079082    -0.009179        0.284776   \n",
              " Amer-Indian-Eskimo -0.009799  -0.009966    -0.064246       -0.031611   \n",
              " Asian-Pac-Islander -0.011484  -0.004760    -0.051412        0.070160   \n",
              " Black              -0.017990  -0.016750     0.118151       -0.071760   \n",
              " Other              -0.034977  -0.011194     0.006661       -0.015777   \n",
              " White               0.032437   0.021987    -0.057149        0.037874   \n",
              "\n",
              "                     educationnumber  maritalstatus    gender  capitalgain  \\\n",
              "age                         0.031956       0.318341  0.088035     0.122078   \n",
              "workclass                   0.078690       0.053076  0.064990     0.025144   \n",
              "finalweight                -0.043521      -0.026280  0.026771    -0.002722   \n",
              "educationlevel              0.706645       0.088683  0.036181     0.123567   \n",
              "educationnumber             1.000000       0.076141  0.009018     0.143957   \n",
              "maritalstatus               0.076141       1.000000  0.421671     0.133565   \n",
              "gender                      0.009018       0.421671  1.000000     0.067020   \n",
              "capitalgain                 0.143957       0.133565  0.067020     1.000000   \n",
              "capitalloss                 0.082074       0.078899  0.046176    -0.051778   \n",
              "hoursperweek                0.142648       0.210291  0.227673     0.085594   \n",
              "incomelevel                 0.327736       0.436720  0.214776     0.319481   \n",
              " Amer-Indian-Eskimo        -0.028762      -0.013623 -0.010868    -0.000300   \n",
              " Asian-Pac-Islander         0.061618       0.019915 -0.001070    -0.003973   \n",
              " Black                     -0.074220      -0.120704 -0.114994    -0.026463   \n",
              " Other                     -0.045262      -0.006182 -0.014266    -0.013874   \n",
              " White                      0.050971       0.096297  0.103272     0.027734   \n",
              "\n",
              "                     capitalloss  hoursperweek  incomelevel  \\\n",
              "age                     0.058760      0.066829     0.230540   \n",
              "workclass               0.016758      0.169849     0.079082   \n",
              "finalweight            -0.010304     -0.019177    -0.009179   \n",
              "educationlevel          0.069244      0.116684     0.284776   \n",
              "educationnumber         0.082074      0.142648     0.327736   \n",
              "maritalstatus           0.078899      0.210291     0.436720   \n",
              "gender                  0.046176      0.227673     0.214776   \n",
              "capitalgain            -0.051778      0.085594     0.319481   \n",
              "capitalloss             1.000000      0.055511     0.154577   \n",
              "hoursperweek            0.055511      1.000000     0.224802   \n",
              "incomelevel             0.154577      0.224802     1.000000   \n",
              " Amer-Indian-Eskimo    -0.013043     -0.002876    -0.028513   \n",
              " Asian-Pac-Islander     0.004652     -0.004842     0.009303   \n",
              " Black                 -0.022047     -0.052391    -0.088084   \n",
              " Other                 -0.005972     -0.008342    -0.032454   \n",
              " White                  0.021243      0.049115     0.085184   \n",
              "\n",
              "                      Amer-Indian-Eskimo   Asian-Pac-Islander     Black  \\\n",
              "age                            -0.009799            -0.011484 -0.017990   \n",
              "workclass                      -0.009966            -0.004760 -0.016750   \n",
              "finalweight                    -0.064246            -0.051412  0.118151   \n",
              "educationlevel                 -0.031611             0.070160 -0.071760   \n",
              "educationnumber                -0.028762             0.061618 -0.074220   \n",
              "maritalstatus                  -0.013623             0.019915 -0.120704   \n",
              "gender                         -0.010868            -0.001070 -0.114994   \n",
              "capitalgain                    -0.000300            -0.003973 -0.026463   \n",
              "capitalloss                    -0.013043             0.004652 -0.022047   \n",
              "hoursperweek                   -0.002876            -0.004842 -0.052391   \n",
              "incomelevel                    -0.028513             0.009303 -0.088084   \n",
              " Amer-Indian-Eskimo             1.000000            -0.017822 -0.032106   \n",
              " Asian-Pac-Islander            -0.017822             1.000000 -0.059133   \n",
              " Black                         -0.032106            -0.059133  1.000000   \n",
              " Other                         -0.009008            -0.016591 -0.029889   \n",
              " White                         -0.237956            -0.438262 -0.789522   \n",
              "\n",
              "                        Other     White  \n",
              "age                 -0.034977  0.032437  \n",
              "workclass           -0.011194  0.021987  \n",
              "finalweight          0.006661 -0.057149  \n",
              "educationlevel      -0.015777  0.037874  \n",
              "educationnumber     -0.045262  0.050971  \n",
              "maritalstatus       -0.006182  0.096297  \n",
              "gender              -0.014266  0.103272  \n",
              "capitalgain         -0.013874  0.027734  \n",
              "capitalloss         -0.005972  0.021243  \n",
              "hoursperweek        -0.008342  0.049115  \n",
              "incomelevel         -0.032454  0.085184  \n",
              " Amer-Indian-Eskimo -0.009008 -0.237956  \n",
              " Asian-Pac-Islander -0.016591 -0.438262  \n",
              " Black              -0.029889 -0.789522  \n",
              " Other               1.000000 -0.221520  \n",
              " White              -0.221520  1.000000  "
            ]
          },
          "metadata": {
            "tags": []
          },
          "execution_count": 29
        }
      ]
    },
    {
      "metadata": {
        "id": "RT1LFnFO1lo6",
        "colab_type": "text"
      },
      "cell_type": "markdown",
      "source": [
        "## Part 2 - Fit and present a Logistic Regression\n",
        "\n",
        "Your data should now be in a state to fit a logistic regression. Use scikit-learn, define your `X` (independent variable) and `y`, and fit a model.\n",
        "\n",
        "Then, present results - display coefficients in as interpretible a way as you can (hint - scaling the numeric features will help, as it will at least make coefficients more comparable to each other). If you find it helpful for interpretation, you can also generate predictions for cases (like our 5 year old rich kid on the Titanic) or make visualizations - but the goal is your exploration to be able to answer the question, not any particular plot (i.e. don't worry about polishing it).\n",
        "\n",
        "It is *optional* to use `train_test_split` or validate your model more generally - that is not the core focus for this week. So, it is suggested you focus on fitting a model first, and if you have time at the end you can do further validation."
      ]
    },
    {
      "metadata": {
        "id": "cusHrIbCdu34",
        "colab_type": "code",
        "colab": {
          "base_uri": "https://localhost:8080/",
          "height": 90
        },
        "outputId": "549a4c6e-521c-40a2-cc81-0f5bf672b662"
      },
      "cell_type": "code",
      "source": [
        "# Run logistic regression on income level with selected numerical continuous\n",
        "# and encoded binary variables\n",
        "\n",
        "X = df[['age', 'workclass', 'educationlevel', 'educationnumber', 'maritalstatus', 'gender', 'capitalgain', 'capitalloss', 'hoursperweek']]\n",
        "y = df.incomelevel\n",
        "\n",
        "log_reg1 = LogisticRegression().fit(X, y)\n",
        "log_reg1.score(X, y)"
      ],
      "execution_count": 30,
      "outputs": [
        {
          "output_type": "stream",
          "text": [
            "/usr/local/lib/python3.6/dist-packages/sklearn/linear_model/logistic.py:433: FutureWarning: Default solver will be changed to 'lbfgs' in 0.22. Specify a solver to silence this warning.\n",
            "  FutureWarning)\n"
          ],
          "name": "stderr"
        },
        {
          "output_type": "execute_result",
          "data": {
            "text/plain": [
              "0.8402584554504421"
            ]
          },
          "metadata": {
            "tags": []
          },
          "execution_count": 30
        }
      ]
    },
    {
      "metadata": {
        "id": "Y1XZ7DqIgls1",
        "colab_type": "code",
        "colab": {
          "base_uri": "https://localhost:8080/",
          "height": 52
        },
        "outputId": "3972c307-58c0-436d-d2ad-9eecaa11383a"
      },
      "cell_type": "code",
      "source": [
        "# Check the coefficients of the variables\n",
        "\n",
        "log_reg1.coef_"
      ],
      "execution_count": 31,
      "outputs": [
        {
          "output_type": "execute_result",
          "data": {
            "text/plain": [
              "array([[0.02770035, 0.75809347, 0.09920592, 0.33463199, 2.3174117 ,\n",
              "        0.15434917, 7.0993922 , 2.87203899, 0.02884342]])"
            ]
          },
          "metadata": {
            "tags": []
          },
          "execution_count": 31
        }
      ]
    },
    {
      "metadata": {
        "id": "CmaIhZKR7goi",
        "colab_type": "code",
        "colab": {
          "base_uri": "https://localhost:8080/",
          "height": 70
        },
        "outputId": "4057e442-45ed-4282-e4e1-92bee85c494e"
      },
      "cell_type": "code",
      "source": [
        "# Adjust the log odds to odd ratio for easier interpretation\n",
        "\n",
        "np.exp(log_reg1.coef_)"
      ],
      "execution_count": 32,
      "outputs": [
        {
          "output_type": "execute_result",
          "data": {
            "text/plain": [
              "array([[1.02808757e+00, 2.13420342e+00, 1.10429367e+00, 1.39742602e+00,\n",
              "        1.01493706e+01, 1.16689826e+00, 1.21123066e+03, 1.76730165e+01,\n",
              "        1.02926342e+00]])"
            ]
          },
          "metadata": {
            "tags": []
          },
          "execution_count": 32
        }
      ]
    },
    {
      "metadata": {
        "id": "Z82mYY1O8bRD",
        "colab_type": "text"
      },
      "cell_type": "markdown",
      "source": [
        "**Age: 1.0280** - Individual is 2.8% more likely to be above the $50k income level with each year increase in age\n",
        "\n",
        "**Workclass: 2.134** - Individual is 2 times more likely to be above the $50k income level if they are employed\n",
        "\n",
        "**Education Level: 1.104** - Individual is 10.4% more likely to be above the $50k income level with a bachelors degree or above\n",
        "\n",
        "**Education Number: 1.397** - Individual is 39.7% more likely to be above the $50k income level with each unit increase in education number achieved\n",
        "\n",
        "**Marital Status: 10.014** - Individual is 10 times more likely to be above the $50k income level if they are married\n",
        "\n",
        "**Gender: 1.166** - Individual is 16.6% more likely to be above the $50k income level if they are male\n",
        "\n",
        "**Capital Gain: 1.211x10^3** - Individual is over a thousand times more likely to be above the 50k income level with every relative percentile increase from the base max capital gains (1% * $22k max) \n",
        "\n",
        "**Capital Loss: 17.673** - Individual is over 17 times more likely to be above the $50k income level with every relative percentile increase of max capital loss compared to the other observations\n",
        "\n",
        "**Hours per Week: 1.029** - Individual is over 2.9% more likely to be above the $50k income level with every 1 hour increase in work per week\n"
      ]
    },
    {
      "metadata": {
        "id": "sjeITcDddu9Y",
        "colab_type": "code",
        "colab": {
          "base_uri": "https://localhost:8080/",
          "height": 35
        },
        "outputId": "db1f99fa-76e4-480d-d598-ee3effb615d0"
      },
      "cell_type": "code",
      "source": [
        "# Calculate the intercept, the relatively large negative intercept indicates how\n",
        "# the X variables all tend to be more of positive correlation to income. An increase\n",
        "# whether by unit or relative percentage in it are positive to increase an income\n",
        "# whereas a 0 or decrease would be highly likely to signify salary below the threshold\n",
        "\n",
        "log_reg1.intercept_"
      ],
      "execution_count": 33,
      "outputs": [
        {
          "output_type": "execute_result",
          "data": {
            "text/plain": [
              "array([-9.68684921])"
            ]
          },
          "metadata": {
            "tags": []
          },
          "execution_count": 33
        }
      ]
    },
    {
      "metadata": {
        "id": "qmKM7k7wg8f4",
        "colab_type": "code",
        "colab": {}
      },
      "cell_type": "code",
      "source": [
        "# Created a couple test cases for prediction example\n",
        "\n",
        "test_case1 = np.array([[40, 1, 1, 13, 1, 1, .1, 0, 60]])\n",
        "test_case2 = np.array([[20, 0, 1, 13, 0, 1, 0, 0, 0]])\n"
      ],
      "execution_count": 0,
      "outputs": []
    },
    {
      "metadata": {
        "id": "c4yxKFjmhMkU",
        "colab_type": "code",
        "colab": {
          "base_uri": "https://localhost:8080/",
          "height": 52
        },
        "outputId": "e02b7aa7-77cd-4d0e-dcb6-b38f5f0d5c04"
      },
      "cell_type": "code",
      "source": [
        "# Returned the probability of income level based on test case characteristics\n",
        "\n",
        "print(log_reg1.predict_proba(test_case1)[0])\n",
        "print(log_reg1.predict_proba(test_case2)[0])"
      ],
      "execution_count": 35,
      "outputs": [
        {
          "output_type": "stream",
          "text": [
            "[0.17639211 0.82360789]\n",
            "[0.9893245 0.0106755]\n"
          ],
          "name": "stdout"
        }
      ]
    },
    {
      "metadata": {
        "id": "gJ_884q2du7o",
        "colab_type": "code",
        "colab": {
          "base_uri": "https://localhost:8080/",
          "height": 35
        },
        "outputId": "cec6f187-3915-4875-f3a5-f1347a140dc9"
      },
      "cell_type": "code",
      "source": [
        "# Defined the sigmoid function for directly calculating the test case probability\n",
        "def sigmoid(x):\n",
        "  return 1 / (1 + np.e**(-x))\n",
        "sigmoid(log_reg1.intercept_ + np.dot(log_reg1.coef_, np.transpose(test_case1)))"
      ],
      "execution_count": 36,
      "outputs": [
        {
          "output_type": "execute_result",
          "data": {
            "text/plain": [
              "array([[0.82360789]])"
            ]
          },
          "metadata": {
            "tags": []
          },
          "execution_count": 36
        }
      ]
    },
    {
      "metadata": {
        "id": "BkIa-Sa21qdC",
        "colab_type": "text"
      },
      "cell_type": "markdown",
      "source": [
        "## Part 3 - Analysis, Interpretation, and Questions\n",
        "\n",
        "### Based on your above model, answer the following questions\n",
        "\n",
        "1. What are 3 features positively correlated with income above 50k?\n",
        "2. What are 3 features negatively correlated with income above 50k?\n",
        "3. Overall, how well does the model explain the data and what insights do you derive from it?\n",
        "\n",
        "*These answers count* - that is, make sure to spend some time on them, connecting to your analysis above. There is no single right answer, but as long as you support your reasoning with evidence you are on the right track.\n",
        "\n",
        "Note - scikit-learn logistic regression does *not* automatically perform a hypothesis test on coefficients. That is OK - if you scale the data they are more comparable in weight.\n",
        "\n",
        "### Match the following situation descriptions with the model most appropriate to addressing them\n",
        "\n",
        "In addition to logistic regression, a number of other approaches were covered this week. Pair them with the situations they are most appropriate for, and briefly explain why.\n",
        "\n",
        "Situations:\n",
        "1. You are given data on academic performance of primary school students, and asked to fit a model to help predict \"at-risk\" students who are likely to receive the bottom tier of grades.\n",
        "2. You are studying tech companies and their patterns in releasing new products, and would like to be able to model and predict when a new product is likely to be launched.\n",
        "3. You are working on modeling expected plant size and yield with a laboratory that is able to capture fantastically detailed physical data about plants, but only of a few dozen plants at a time.\n",
        "\n",
        "Approaches:\n",
        "1. Ridge Regression\n",
        "2. Quantile Regression\n",
        "3. Survival Analysis"
      ]
    },
    {
      "metadata": {
        "id": "fJ1FR_tNBKwM",
        "colab_type": "text"
      },
      "cell_type": "markdown",
      "source": [
        "# **Model Interpretation**\n",
        "\n",
        "1. The 3 features that most positively correlated with income greater than $50k in the model was capital gains, capital losses, and marital status. The capital gains and losses may indicate that individuals are financially stable enough to make investments which may be more correlated to individuals that make a higher relative income. Marital status was also positively correlated which could indicate that individuals that are more stabilized in a family relationship with dependents and family financial responsibilities may be more likely to earn a higher relative income. \n",
        "\n",
        "2. There were no features in my analysis that indicated a negative correlation to above the income threshold. There were some very tiny negative correlation that is much closer to zero correlation in race that does not appear significant. The variables available in the data were all generally more positive correlations to varying degrees as a unit or relative increase in the variables tends to correlate with more positive inclination towards a higher relative income. Age and hours per week were the weakest variables but still not a negative relationship with income threshold.\n",
        "\n",
        "3. Overall the model had a score of 0.84 which is a solid fit for the data. By intuition as noted above, many of the variables were likely to be positively correlated with income levels but the key takeaways is the relative differences in the coefficients of the variables. Capital gains and losses were highly sensitive variables that drove prediction. The score could be higher if the outlier value was included. Much of the data in those variables were 0 but for the observations that did have investments he or she were very much likely to earn a higher relative income. Many lower income individuals do not have the benefit or stability for passive income and likely have to spend all or at least spend and save all of their income. Individuals that already earn a higher income are more likely to have additional funds net of expenditures and savings to be able to afford making investments. Hours per week although positive was not as strong as expected which may indicate that the wage per hour or salaried individuals with stable hours is a better indicator of income than the absolute hours worked. Employment is clearly important for insight into income but was not as strong of a positive correlation as I would had initially expected. Possibly some individuals did not answer in the data since there were ?/missing values in workclass potentially from a complicated set of available answers. It is also an indication that there is quite a variance in income or wages even in a highly employed population and the number of informal employment even in a developed economy. The education variables were also a bit noisy with the number of options and it was unclear how the education number was standardized. I tried to narrow it down to a binary feature of bachelor's degree and above since much of the research has indicated the income disparities of individuals that do not attain a college and above degree. "
      ]
    },
    {
      "metadata": {
        "id": "qZjuwxmeBWkr",
        "colab_type": "text"
      },
      "cell_type": "markdown",
      "source": [
        "# **Model - Situation Matching**"
      ]
    },
    {
      "metadata": {
        "id": "O6L9NI0CPcNJ",
        "colab_type": "text"
      },
      "cell_type": "markdown",
      "source": [
        "1. **Student grade performance: Quantile Regression**\n",
        "For the purposes of this analysis, we are focused on identifying a segmented group of students that are performing below a certain threshold of academic performance. By using quantile regression we can select a particular quantile as the target or cutoff rate where we can assess students' (observations) performance below and above the quantile. By analyzing the data below the quantile of grade performance, we can better understand the variables that show a common relationship with the segmented group and help predict which students demonstrating similar lagging indicators of performance may be \"at-risk\" of resulting below the targeted tier of grades."
      ]
    },
    {
      "metadata": {
        "id": "aIZajcjYPcRE",
        "colab_type": "text"
      },
      "cell_type": "markdown",
      "source": [
        "2. **Tech company product launch: Survival Analysis** \n",
        "This analysis would entail looking at a historical data analysis of time before an event is reached. In this case, we would set the event as a product launch and examine the time it takes for each tech company in the universe of the study to reach the next product launch. Unlike traditional survival analysis where the event is some type of failure, this would be a positive event. Censored data in this case would be the companies that continue to operate but have not launched a product within the timeframe of the study. We would examine a variety of company metrics as variables that most associate to a product launch. The data would have to include a measurable time variable and a binary launch (or not ) event as the dependent variable that ties to the observations. "
      ]
    },
    {
      "metadata": {
        "id": "kNMHWnpKPcWK",
        "colab_type": "text"
      },
      "cell_type": "markdown",
      "source": [
        "3. **Plant size and yield: Ridge Regression** \n",
        "Given that a limited number of plants can be studied in a given time but with great detailed physical data, this would indicate that there are fewer observations (n) but potentially many variables in the parameter that could lead to P>N or insufficient sample size ratio to independent variables that leads to overfitting the data. By using a ridge regression we can tune a model for this smaller sample study by smoothing the regression and minimizing the large swing in the slopes of the coefficients of the variables that may be too sensitive to the parameters. We can do this by investigating the alpha to see how we can add regularization or optimize the model by adjusting the \"penalty\" (alpha)."
      ]
    }
  ]
}