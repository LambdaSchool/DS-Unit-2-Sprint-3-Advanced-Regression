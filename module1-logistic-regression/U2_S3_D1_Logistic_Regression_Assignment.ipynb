{
  "nbformat": 4,
  "nbformat_minor": 0,
  "metadata": {
    "colab": {
      "name": "U2-S3-D1-Logistic_Regression Assignment.ipynb",
      "version": "0.3.2",
      "provenance": [],
      "collapsed_sections": [
        "wlI5OXfSag9C"
      ],
      "include_colab_link": true
    },
    "kernelspec": {
      "name": "python3",
      "display_name": "Python 3"
    }
  },
  "cells": [
    {
      "cell_type": "markdown",
      "metadata": {
        "id": "view-in-github",
        "colab_type": "text"
      },
      "source": [
        "<a href=\"https://colab.research.google.com/github/zarrinan/DS-Unit-2-Sprint-3-Advanced-Regression/blob/master/module1-logistic-regression/U2_S3_D1_Logistic_Regression_Assignment.ipynb\" target=\"_parent\"><img src=\"https://colab.research.google.com/assets/colab-badge.svg\" alt=\"Open In Colab\"/></a>"
      ]
    },
    {
      "metadata": {
        "id": "N7SXF6jEBd5_",
        "colab_type": "text"
      },
      "cell_type": "markdown",
      "source": [
        "#  Logistic Regression Assignment\n",
        "\n",
        "Logistic regression is the baseline for classification models, as well as a handy way to predict probabilities (since those too live in the unit interval). While relatively simple, it is also the foundation for more sophisticated classification techniques such as neural networks (many of which can effectively be thought of as networks of logistic models)."
      ]
    },
    {
      "metadata": {
        "id": "0ep2L8Ayq1Wm",
        "colab_type": "text"
      },
      "cell_type": "markdown",
      "source": [
        "This is the biggest data you've played with so far, and while it does generally fit in Colab, it can take awhile to run. That's part of the challenge!\n",
        "\n",
        "Your tasks:\n",
        "\n",
        "Clean up the variable names in the dataframe\n",
        "Use logistic regression to fit a model predicting (primary/top) genre\n",
        "Inspect, iterate, and improve your model\n",
        "Answer the following questions (written, ~paragraph each):\n",
        "What are the best predictors of genre?\n",
        "What information isn't very useful for predicting genre?\n",
        "What surprised you the most about your results?\n",
        "Important caveats:\n",
        "\n",
        "This is going to be difficult data to work with - don't let the perfect be the enemy of the good!\n",
        "Be creative in cleaning it up - if the best way you know how to do it is download it locally and edit as a spreadsheet, that's OK!\n",
        "If the data size becomes problematic, consider sampling/subsetting\n",
        "You do not need perfect or complete results - just something plausible that runs, and that supports the reasoning in your written answers\n",
        "If you find that fitting a model to classify all genres isn't very good, it's totally OK to limit to the most frequent genres, or perhaps trying to combine or cluster genres as a preprocessing step. Even then, there will be limits to how good a model can be with just this metadata - if you really want to train an effective genre classifier, you'll have to involve the other data (see stretch goals).\n",
        "\n",
        "This is real data - there is no \"one correct answer\", so you can take this in a variety of directions. Just make sure to support your findings, and feel free to share them as well! This is meant to be practice for dealing with other \"messy\" data, a common task in data science.\n",
        "\n"
      ]
    },
    {
      "metadata": {
        "id": "wPgce-jQc5zi",
        "colab_type": "code",
        "outputId": "90a4996a-e579-444a-fd63-db7782d4f00c",
        "colab": {
          "base_uri": "https://localhost:8080/",
          "height": 55
        }
      },
      "cell_type": "code",
      "source": [
        "from google.colab import drive\n",
        "drive.mount('/content/drive')\n"
      ],
      "execution_count": 0,
      "outputs": [
        {
          "output_type": "stream",
          "text": [
            "Drive already mounted at /content/drive; to attempt to forcibly remount, call drive.mount(\"/content/drive\", force_remount=True).\n"
          ],
          "name": "stdout"
        }
      ]
    },
    {
      "metadata": {
        "id": "Tl6usAinOa0e",
        "colab_type": "code",
        "colab": {}
      },
      "cell_type": "code",
      "source": [
        "!pip install seaborn==0.9.0 -q"
      ],
      "execution_count": 0,
      "outputs": []
    },
    {
      "metadata": {
        "id": "iblW74C8afuR",
        "colab_type": "text"
      },
      "cell_type": "markdown",
      "source": [
        "## Assignment - real-world classification\n",
        "\n",
        "We're going to check out a larger dataset - the [FMA Free Music Archive data](https://github.com/mdeff/fma). It has a selection of CSVs with metadata and calculated audio features that you can load and try to use to classify genre of tracks. To get you started:"
      ]
    },
    {
      "metadata": {
        "id": "x4Ssa-NPDCku",
        "colab_type": "code",
        "colab": {}
      },
      "cell_type": "code",
      "source": [
        "import pandas as pd\n",
        "import numpy as np\n",
        "import seaborn as sns\n",
        "import matplotlib.pyplot as plt\n",
        "from mpl_toolkits.mplot3d import Axes3D\n",
        "from sklearn.preprocessing import LabelEncoder\n",
        "from sklearn.linear_model import LinearRegression\n",
        "from sklearn.preprocessing import StandardScaler\n",
        "from sklearn.metrics import mean_squared_error, r2_score\n",
        "from sklearn.model_selection import train_test_split\n",
        "from scipy import optimize\n",
        "from scipy import stats\n",
        "from sklearn import linear_model\n",
        "from sklearn import metrics\n"
      ],
      "execution_count": 0,
      "outputs": []
    },
    {
      "metadata": {
        "id": "TRBBENsMOUBB",
        "colab_type": "code",
        "outputId": "1c8fbf6b-96f1-4c08-8e92-4bedc424f252",
        "colab": {
          "base_uri": "https://localhost:8080/",
          "height": 35
        }
      },
      "cell_type": "code",
      "source": [
        "sns.__version__"
      ],
      "execution_count": 0,
      "outputs": [
        {
          "output_type": "execute_result",
          "data": {
            "text/plain": [
              "'0.9.0'"
            ]
          },
          "metadata": {
            "tags": []
          },
          "execution_count": 2
        }
      ]
    },
    {
      "metadata": {
        "id": "zBkZMzhfizab",
        "colab_type": "code",
        "colab": {}
      },
      "cell_type": "code",
      "source": [
        "import pandas as pd\n",
        "import numpy as np\n",
        "from sklearn.linear_model import LogisticRegression\n"
      ],
      "execution_count": 0,
      "outputs": []
    },
    {
      "metadata": {
        "id": "SsySnuKaKtQf",
        "colab_type": "code",
        "colab": {}
      },
      "cell_type": "code",
      "source": [
        "!wget https://os.unil.cloud.switch.ch/fma/fma_metadata.zip\n",
        "!unzip fma_metadata.zip"
      ],
      "execution_count": 0,
      "outputs": []
    },
    {
      "metadata": {
        "id": "VbUJKyI1LRwD",
        "colab_type": "code",
        "colab": {}
      },
      "cell_type": "code",
      "source": [
        "tracks = pd.read_csv('fma_metadata/tracks.csv')"
      ],
      "execution_count": 0,
      "outputs": []
    },
    {
      "metadata": {
        "id": "bPRgAKv7ni-k",
        "colab_type": "code",
        "colab": {}
      },
      "cell_type": "code",
      "source": [
        "# t = pd.read_csv('fma_metadata/tracks.csv', header=[0,1], index_col=0)\n",
        "#delete repeatitive and non-relevant columns\n",
        "# tr.drop(columns=[('album', 'engineer'),('album', 'information'), ('album', 'type'),\n",
        "#                  ('album', 'date_released'),('album', 'date_created'), ('artist', 'latitude'),  \n",
        "#                  ('artist', 'longitude'),('artist', 'bio'),('artist', 'website'),\n",
        "#                  ('artist', 'members'), ('artist', 'active_year_end'),('artist','active_year_begin'),\n",
        "#                  ('artist', 'associated_labels'), ('artist', 'related_projects'), \n",
        "#                  ('artist', 'wikipedia_page'),('track', 'license'),  \n",
        "#                  ('artist', 'date_created'),('track','date_recorded'),('track', 'genres'),\n",
        "#                  ('track', 'genres_all'), ('track', 'information'), \n",
        "#                  ('track', 'publisher'), ('set', 'split'), ('set', 'subset')], inplace=True)\n",
        "# #get subset of the df where no nan values in the following columns\n",
        "# tr = tr.dropna(subset=[('track', 'genre_top'), ('artist', 'location'), \n",
        "#                        ('album', 'title'),('track', 'title'), \n",
        "#                        ('track', 'composer'),('album', 'producer'),\n",
        "#                        ('track', 'language_code', ('track','lyricist'))])\n",
        "# #delete row with track_id # 4498 where a lyricist is a NaN\n",
        "# tr = tr.drop(4498)\n",
        "#pd.options.mode.use_inf_as_na = True\n"
      ],
      "execution_count": 0,
      "outputs": []
    },
    {
      "metadata": {
        "id": "q4bGwZ32t5UV",
        "colab_type": "code",
        "colab": {}
      },
      "cell_type": "code",
      "source": [
        "#rename first column into track_id\n",
        "tracks.rename(columns={ tracks.columns[0]: \"track_id\" }, inplace=True)\n",
        "\n",
        "#set track_id as an index column\n",
        "tracks.set_index('track_id', inplace=True)\n",
        "\n",
        "#rename columns by adding relevant information from the first row\n",
        "for i in range(len(tracks.columns)):\n",
        "  tracks.rename(columns={tracks.columns[i]: tracks.columns[i] +': ' + tracks.iloc[0, i] }, inplace=True)\n",
        "  \n",
        "#Delete first 2 rows\n",
        "tracks.drop(tracks.index[:2], inplace=True)\n"
      ],
      "execution_count": 0,
      "outputs": []
    },
    {
      "metadata": {
        "id": "p048d0y8LOlR",
        "colab_type": "code",
        "colab": {}
      },
      "cell_type": "code",
      "source": [
        "tracks.head()"
      ],
      "execution_count": 0,
      "outputs": []
    },
    {
      "metadata": {
        "id": "NVSmmvCVuaOz",
        "colab_type": "code",
        "outputId": "db1026af-b4ce-4f5f-f6c0-8df135ca7d40",
        "colab": {
          "base_uri": "https://localhost:8080/",
          "height": 52
        }
      },
      "cell_type": "code",
      "source": [
        "tracks['track.5: duration'] = tracks['track.5: duration'].astype('float64')\n",
        "\n",
        "print('{} tracks, {} artists, {} albums'.format(\n",
        "    len(tracks), len(tracks['artist.7: id'].unique()),\n",
        "    len(tracks['album.5: id'].unique())))\n",
        "mean_duration = tracks['track.5: duration'].mean()\n",
        "print('tracks duration: {:.0f} days total, {:.0f} seconds average'.format(\n",
        "    sum(tracks['track.5: duration']) / 3600 / 24,\n",
        "    mean_duration))\n"
      ],
      "execution_count": 164,
      "outputs": [
        {
          "output_type": "stream",
          "text": [
            "106574 tracks, 17054 artists, 14928 albums\n",
            "tracks duration: 343 days total, 278 seconds average\n"
          ],
          "name": "stdout"
        }
      ]
    },
    {
      "metadata": {
        "id": "lEOjuabFJhPl",
        "colab_type": "code",
        "outputId": "f6311ccc-cfee-4d9c-a5db-c1087695eff2",
        "colab": {
          "base_uri": "https://localhost:8080/",
          "height": 69
        }
      },
      "cell_type": "code",
      "source": [
        "for subset in tracks['set.1: subset'].unique():\n",
        "    indicator = tracks['set.1: subset'] <= subset\n",
        "    print('{:6} {:6} tracks  {:.1f} days'.format(\n",
        "        subset, sum(indicator), sum(indicator) * 30 / 3600 / 24))"
      ],
      "execution_count": 165,
      "outputs": [
        {
          "output_type": "stream",
          "text": [
            "small  106574 tracks  37.0 days\n",
            "medium  98574 tracks  34.2 days\n",
            "large   81574 tracks  28.3 days\n"
          ],
          "name": "stdout"
        }
      ]
    },
    {
      "metadata": {
        "id": "AI0Jrc0KJF9H",
        "colab_type": "code",
        "colab": {}
      },
      "cell_type": "code",
      "source": [
        "tracks.columns"
      ],
      "execution_count": 0,
      "outputs": []
    },
    {
      "metadata": {
        "id": "T1iyJkO5PUeC",
        "colab_type": "code",
        "outputId": "c6011676-85fa-4120-d43a-e7bdbc5229a7",
        "colab": {
          "base_uri": "https://localhost:8080/",
          "height": 415
        }
      },
      "cell_type": "code",
      "source": [
        "p = sns.distplot(tracks['track.8: genres'].map(len), kde=False, bins=range(32))\n",
        "p = sns.distplot(tracks['track.9: genres_all'].map(len), kde=False, bins=range(32))\n",
        "p.set_xlabel('#genres per track')\n",
        "p.set_ylabel('#tracks');"
      ],
      "execution_count": 166,
      "outputs": [
        {
          "output_type": "stream",
          "text": [
            "/usr/local/lib/python3.6/dist-packages/matplotlib/axes/_axes.py:6521: MatplotlibDeprecationWarning: \n",
            "The 'normed' kwarg was deprecated in Matplotlib 2.1 and will be removed in 3.1. Use 'density' instead.\n",
            "  alternative=\"'density'\", removal=\"3.1\")\n"
          ],
          "name": "stderr"
        },
        {
          "output_type": "display_data",
          "data": {
            "image/png": "[encoded data removed]",
            "text/plain": [
              "<Figure size 576x396 with 1 Axes>"
            ]
          },
          "metadata": {
            "tags": []
          }
        }
      ]
    },
    {
      "metadata": {
        "id": "jryZQE86ik32",
        "colab_type": "code",
        "colab": {}
      },
      "cell_type": "code",
      "source": [
        "# delete columns where NaN's more than 2/3 of the data\n",
        "def delete_nan_columns(df):\n",
        "  l = df.shape[0]*.6\n",
        "  for column in df.columns:\n",
        "    if df[column].isnull().sum() > l:\n",
        "      df.drop(column, axis=1, inplace=True)\n",
        "  return df    \n",
        "\n",
        "delete_nan_columns(tracks)\n"
      ],
      "execution_count": 0,
      "outputs": []
    },
    {
      "metadata": {
        "id": "v_f_HQyHD0eY",
        "colab_type": "code",
        "colab": {}
      },
      "cell_type": "code",
      "source": [
        "#delete repeatitive and non-relevant columns\n",
        "tracks.drop(columns=['artist.8: latitude', 'artist.10: longitude', 'album: comments', 'artist.4: comments',\n",
        "                    'track.1: comments','artist.3: bio', 'artist.15: website', 'album.6: information', \n",
        "                     'artist.11: members', 'album.12: type', 'album.2: date_released',\n",
        "                     'track.13: license', 'album.1: date_created', 'artist.5: date_created',\n",
        "                     'track.8: genres','track.9: genres_all'], inplace=True)"
      ],
      "execution_count": 0,
      "outputs": []
    },
    {
      "metadata": {
        "id": "tNxV03sf8Wxm",
        "colab_type": "code",
        "colab": {}
      },
      "cell_type": "code",
      "source": [
        "#get subset of the df where no nan values in the following columns\n",
        "tracks = tracks.dropna(subset=['track.7: genre_top', 'artist.9: location', \n",
        "                               'album.10: title','track.19: title'])\n",
        "                              "
      ],
      "execution_count": 0,
      "outputs": []
    },
    {
      "metadata": {
        "id": "v96nRT0mD4zJ",
        "colab_type": "code",
        "outputId": "9d08b75e-22df-438b-d4d9-9e21c67e79c6",
        "colab": {
          "base_uri": "https://localhost:8080/",
          "height": 35
        }
      },
      "cell_type": "code",
      "source": [
        "tracks.isna().sum().sum()"
      ],
      "execution_count": 171,
      "outputs": [
        {
          "output_type": "execute_result",
          "data": {
            "text/plain": [
              "0"
            ]
          },
          "metadata": {
            "tags": []
          },
          "execution_count": 171
        }
      ]
    },
    {
      "metadata": {
        "id": "EFd-t9jq8LOD",
        "colab_type": "code",
        "colab": {}
      },
      "cell_type": "code",
      "source": [
        "#Make a list of date columns\n",
        "date_columns = ['track.3: date_created']\n",
        "\n",
        "#convert date columns to datetype columns and trancate them to month\n",
        "def convert_dates(d):\n",
        "  for c in date_columns:\n",
        "    d[c]= d[c].astype(str)\n",
        "    d[c] = pd.to_datetime(d[c])\n",
        "    d[c] = d[c].dt.to_period('M')\n",
        "  return d \n",
        "\n",
        "convert_dates(tracks)"
      ],
      "execution_count": 0,
      "outputs": []
    },
    {
      "metadata": {
        "id": "274ky1sfIiZJ",
        "colab_type": "code",
        "colab": {}
      },
      "cell_type": "code",
      "source": [
        "# #download df to google drive\n",
        "# from google.colab import files\n",
        "# df.to_csv('d.csv', encoding='utf-8', index=False)\n",
        "# files.download('d.csv')\n"
      ],
      "execution_count": 0,
      "outputs": []
    },
    {
      "metadata": {
        "id": "q1Pd2EoFIf6v",
        "colab_type": "code",
        "outputId": "53e0f75e-f9e0-49a1-efd5-2bfa73a4f1f5",
        "colab": {
          "base_uri": "https://localhost:8080/",
          "height": 35
        }
      },
      "cell_type": "code",
      "source": [
        "tracks['set: split'].unique()"
      ],
      "execution_count": 172,
      "outputs": [
        {
          "output_type": "execute_result",
          "data": {
            "text/plain": [
              "array(['training', 'validation', 'test'], dtype=object)"
            ]
          },
          "metadata": {
            "tags": []
          },
          "execution_count": 172
        }
      ]
    },
    {
      "metadata": {
        "id": "JJlV2TwqlP8S",
        "colab_type": "code",
        "colab": {}
      },
      "cell_type": "code",
      "source": [
        "d = tracks.copy()"
      ],
      "execution_count": 0,
      "outputs": []
    },
    {
      "metadata": {
        "id": "t9btgsqbqAWo",
        "colab_type": "code",
        "colab": {}
      },
      "cell_type": "code",
      "source": [
        "d['set: split']"
      ],
      "execution_count": 0,
      "outputs": []
    },
    {
      "metadata": {
        "id": "vjFUYGpcn-Ye",
        "colab_type": "code",
        "colab": {}
      },
      "cell_type": "code",
      "source": [
        "def encode_cat(df):\n",
        "  for col_name in df.columns:\n",
        "      if(df[col_name].dtype == 'object'):\n",
        "          df[col_name]= df[col_name].astype('category')\n",
        "          df[col_name] = df[col_name].cat.codes\n",
        "  return df         \n",
        "\n",
        "d = encode_cat(d)"
      ],
      "execution_count": 0,
      "outputs": []
    },
    {
      "metadata": {
        "id": "ZUkEM6ehoDq7",
        "colab_type": "code",
        "colab": {}
      },
      "cell_type": "code",
      "source": [
        "d.astype('float64')"
      ],
      "execution_count": 0,
      "outputs": []
    },
    {
      "metadata": {
        "id": "t1pFWhOLqNr7",
        "colab_type": "code",
        "colab": {}
      },
      "cell_type": "code",
      "source": [
        "d['set: split']"
      ],
      "execution_count": 0,
      "outputs": []
    },
    {
      "metadata": {
        "id": "vPjGAKKQnSsT",
        "colab_type": "code",
        "colab": {}
      },
      "cell_type": "code",
      "source": [
        "train_d = d[d['set: split'] == 1]\n",
        "val_d = d[d['set: split'] == 2]\n",
        "test_d = d[d['set: split'] == 0]"
      ],
      "execution_count": 0,
      "outputs": []
    },
    {
      "metadata": {
        "id": "nc38wALssWLh",
        "colab_type": "code",
        "colab": {}
      },
      "cell_type": "code",
      "source": [
        "train_d = train_d.sample(frac=0.1, random_state=42)\n",
        "val_d = val_d.sample(frac=0.1, random_state=42)\n",
        "test_d = test_d.sample(frac=0.1, random_state=42)"
      ],
      "execution_count": 0,
      "outputs": []
    },
    {
      "metadata": {
        "id": "Rb3FMk2QmQ7u",
        "colab_type": "code",
        "colab": {}
      },
      "cell_type": "code",
      "source": [
        "train_x = train_d.drop('track.7: genre_top', axis=1)\n",
        "train_y = train_d['track.7: genre_top']"
      ],
      "execution_count": 0,
      "outputs": []
    },
    {
      "metadata": {
        "id": "G3kaznGer4ri",
        "colab_type": "code",
        "colab": {}
      },
      "cell_type": "code",
      "source": [
        "val_x = val_d.drop('track.7: genre_top', axis=1)\n",
        "val_y = val_d['track.7: genre_top']"
      ],
      "execution_count": 0,
      "outputs": []
    },
    {
      "metadata": {
        "id": "-r8I32NdrjTV",
        "colab_type": "code",
        "colab": {}
      },
      "cell_type": "code",
      "source": [
        "# Train multi-classification model with logistic regression\n",
        "linear_reg = LinearRegression().fit(train_x, train_y)\n",
        "\n",
        "# Train multinomial logistic regression model\n",
        "mul_lr = linear_model.LogisticRegression(multi_class='multinomial', solver='newton-cg', max_iter=200).fit(train_x, train_y)\n",
        "\n"
      ],
      "execution_count": 0,
      "outputs": []
    },
    {
      "metadata": {
        "id": "ipa8C-cFrqFZ",
        "colab_type": "code",
        "colab": {
          "base_uri": "https://localhost:8080/",
          "height": 52
        },
        "outputId": "3089700d-41bf-4e29-cd33-d7fb8f6d1b9e"
      },
      "cell_type": "code",
      "source": [
        "print(\"Multinomial Logistic regression Train Accuracy :\", metrics.accuracy_score(train_y, mul_lr.predict(train_x)))\n",
        "print(\"Multinomial Logistic regression Validation Accuracy :\", metrics.accuracy_score(val_y, mul_lr.predict(val_x)))\n"
      ],
      "execution_count": 201,
      "outputs": [
        {
          "output_type": "stream",
          "text": [
            "Multinomial Logistic regression Train Accuracy : 0.4500582977069569\n",
            "Multinomial Logistic regression Validation Accuracy : 0.4234527687296417\n"
          ],
          "name": "stdout"
        }
      ]
    },
    {
      "metadata": {
        "id": "doF-cVXkuXFF",
        "colab_type": "code",
        "colab": {}
      },
      "cell_type": "code",
      "source": [
        "mul_lr.coef_"
      ],
      "execution_count": 0,
      "outputs": []
    },
    {
      "metadata": {
        "id": "wlI5OXfSag9C",
        "colab_type": "text"
      },
      "cell_type": "markdown",
      "source": [
        "## Resources and stretch goals\n",
        "\n",
        "- Check out the other .csv files from the FMA dataset, and see if you can join them or otherwise fit interesting models with them\n",
        "- [Logistic regression from scratch in numpy](https://blog.goodaudience.com/logistic-regression-from-scratch-in-numpy-5841c09e425f) - if you want to dig in a bit more to both the code and math (also takes a gradient descent approach, introducing the logistic loss function)\n",
        "- Create a visualization to show predictions of your model - ideally show a confidence interval based on error!\n",
        "- Check out and compare classification models from scikit-learn, such as [SVM](https://scikit-learn.org/stable/modules/svm.html#classification), [decision trees](https://scikit-learn.org/stable/modules/tree.html#classification), and [naive Bayes](https://scikit-learn.org/stable/modules/naive_bayes.html). The underlying math will vary significantly, but the API (how you write the code) and interpretation will actually be fairly similar.\n",
        "- Sign up for [Kaggle](https://kaggle.com), and find a competition to try logistic regression with\n",
        "- (Not logistic regression related) If you enjoyed the assignment, you may want to read up on [music informatics](https://en.wikipedia.org/wiki/Music_informatics), which is how those audio features were actually calculated. The FMA includes the actual raw audio, so (while this is more of a longterm project than a stretch goal, and won't fit in Colab) if you'd like you can check those out and see what sort of deeper analysis you can do."
      ]
    }
  ]
}