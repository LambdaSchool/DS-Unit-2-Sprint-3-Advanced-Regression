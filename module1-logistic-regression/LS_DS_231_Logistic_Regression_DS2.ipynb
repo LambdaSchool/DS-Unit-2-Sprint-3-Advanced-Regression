{
  "nbformat": 4,
  "nbformat_minor": 0,
  "metadata": {
    "colab": {
      "name": "LS_DS_231_Logistic_Regression_DS2.ipynb",
      "version": "0.3.2",
      "provenance": [],
      "include_colab_link": true
    },
    "kernelspec": {
      "name": "python3",
      "display_name": "Python 3"
    }
  },
  "cells": [
    {
      "cell_type": "markdown",
      "metadata": {
        "id": "view-in-github",
        "colab_type": "text"
      },
      "source": [
        "<a href=\"https://colab.research.google.com/github/extrajp2014/DS-Unit-2-Sprint-3-Advanced-Regression/blob/master/module1-logistic-regression/LS_DS_231_Logistic_Regression_DS2.ipynb\" target=\"_parent\"><img src=\"https://colab.research.google.com/assets/colab-badge.svg\" alt=\"Open In Colab\"/></a>"
      ]
    },
    {
      "metadata": {
        "id": "N7SXF6jEBd5_",
        "colab_type": "text"
      },
      "cell_type": "markdown",
      "source": [
        "# Lambda School Data Science - Logistic Regression\n",
        "\n",
        "Logistic regression is the baseline for classification models, as well as a handy way to predict probabilities (since those too live in the unit interval). While relatively simple, it is also the foundation for more sophisticated classification techniques such as neural networks (many of which can effectively be thought of as networks of logistic models)."
      ]
    },
    {
      "metadata": {
        "id": "E7-AOngjadRN",
        "colab_type": "text"
      },
      "cell_type": "markdown",
      "source": [
        "## Lecture - Where Linear goes Wrong\n",
        "### Return of the Titanic 🚢\n",
        "\n",
        "You've likely already explored the rich dataset that is the Titanic - let's use regression and try to predict survival with it. The data is [available from Kaggle](https://www.kaggle.com/c/titanic/data), so we'll also play a bit with [the Kaggle API](https://github.com/Kaggle/kaggle-api)."
      ]
    },
    {
      "metadata": {
        "id": "MnHLWPYDcyIe",
        "colab_type": "code",
        "outputId": "ef66b567-5e3f-4f7d-d89e-ddc0ab0f4125",
        "colab": {
          "base_uri": "https://localhost:8080/",
          "height": 204
        }
      },
      "cell_type": "code",
      "source": [
        "!pip install kaggle"
      ],
      "execution_count": 0,
      "outputs": [
        {
          "output_type": "stream",
          "text": [
            "Requirement already satisfied: kaggle in /usr/local/lib/python3.6/dist-packages (1.5.2)\n",
            "Requirement already satisfied: urllib3<1.23.0,>=1.15 in /usr/local/lib/python3.6/dist-packages (from kaggle) (1.22)\n",
            "Requirement already satisfied: six>=1.10 in /usr/local/lib/python3.6/dist-packages (from kaggle) (1.11.0)\n",
            "Requirement already satisfied: certifi in /usr/local/lib/python3.6/dist-packages (from kaggle) (2018.11.29)\n",
            "Requirement already satisfied: python-dateutil in /usr/local/lib/python3.6/dist-packages (from kaggle) (2.5.3)\n",
            "Requirement already satisfied: requests in /usr/local/lib/python3.6/dist-packages (from kaggle) (2.18.4)\n",
            "Requirement already satisfied: tqdm in /usr/local/lib/python3.6/dist-packages (from kaggle) (4.28.1)\n",
            "Requirement already satisfied: python-slugify in /usr/local/lib/python3.6/dist-packages (from kaggle) (2.0.1)\n",
            "Requirement already satisfied: chardet<3.1.0,>=3.0.2 in /usr/local/lib/python3.6/dist-packages (from requests->kaggle) (3.0.4)\n",
            "Requirement already satisfied: idna<2.7,>=2.5 in /usr/local/lib/python3.6/dist-packages (from requests->kaggle) (2.6)\n",
            "Requirement already satisfied: Unidecode>=0.04.16 in /usr/local/lib/python3.6/dist-packages (from python-slugify->kaggle) (1.0.23)\n"
          ],
          "name": "stdout"
        }
      ]
    },
    {
      "metadata": {
        "id": "wPgce-jQc5zi",
        "colab_type": "code",
        "outputId": "27f111e4-f258-44e2-e5b2-30c0e39b6270",
        "colab": {
          "base_uri": "https://localhost:8080/",
          "height": 68
        }
      },
      "cell_type": "code",
      "source": [
        "# Note - you'll also have to sign up for Kaggle and authorize the API\n",
        "# https://github.com/Kaggle/kaggle-api#api-credentials\n",
        "\n",
        "# This essentially means uploading a kaggle.json file\n",
        "# For Colab we can have it in Google Drive\n",
        "from google.colab import drive\n",
        "drive.mount('/content/drive')\n",
        "%env KAGGLE_CONFIG_DIR=/content/drive/My Drive/\n",
        "\n",
        "# You also have to join the Titanic competition to have access to the data\n",
        "!kaggle competitions download -c titanic"
      ],
      "execution_count": 0,
      "outputs": [
        {
          "output_type": "stream",
          "text": [
            "Drive already mounted at /content/drive; to attempt to forcibly remount, call drive.mount(\"/content/drive\", force_remount=True).\n",
            "env: KAGGLE_CONFIG_DIR=/content/drive/My Drive/\n",
            "401 - Unauthorized\n"
          ],
          "name": "stdout"
        }
      ]
    },
    {
      "metadata": {
        "id": "-PtztP8YlFym",
        "colab_type": "code",
        "outputId": "4865cf49-ac21-42c6-bf89-f9a8936d2ccc",
        "colab": {
          "base_uri": "https://localhost:8080/",
          "height": 204
        }
      },
      "cell_type": "code",
      "source": [
        "# How would we try to do this with linear regression?\n",
        "import pandas as pd\n",
        "\n",
        "train_df = pd.read_csv('train.csv').dropna()\n",
        "test_df = pd.read_csv('test.csv').dropna()  # Unlabeled, for Kaggle submission\n",
        "\n",
        "train_df.head()"
      ],
      "execution_count": 0,
      "outputs": [
        {
          "output_type": "execute_result",
          "data": {
            "text/html": [
              "<div>\n",
              "<style scoped>\n",
              "    .dataframe tbody tr th:only-of-type {\n",
              "        vertical-align: middle;\n",
              "    }\n",
              "\n",
              "    .dataframe tbody tr th {\n",
              "        vertical-align: top;\n",
              "    }\n",
              "\n",
              "    .dataframe thead th {\n",
              "        text-align: right;\n",
              "    }\n",
              "</style>\n",
              "<table border=\"1\" class=\"dataframe\">\n",
              "  <thead>\n",
              "    <tr style=\"text-align: right;\">\n",
              "      <th></th>\n",
              "      <th>PassengerId</th>\n",
              "      <th>Survived</th>\n",
              "      <th>Pclass</th>\n",
              "      <th>Name</th>\n",
              "      <th>Sex</th>\n",
              "      <th>Age</th>\n",
              "      <th>SibSp</th>\n",
              "      <th>Parch</th>\n",
              "      <th>Ticket</th>\n",
              "      <th>Fare</th>\n",
              "      <th>Cabin</th>\n",
              "      <th>Embarked</th>\n",
              "    </tr>\n",
              "  </thead>\n",
              "  <tbody>\n",
              "    <tr>\n",
              "      <th>1</th>\n",
              "      <td>2</td>\n",
              "      <td>1</td>\n",
              "      <td>1</td>\n",
              "      <td>Cumings, Mrs. John Bradley (Florence Briggs Th...</td>\n",
              "      <td>female</td>\n",
              "      <td>38.0</td>\n",
              "      <td>1</td>\n",
              "      <td>0</td>\n",
              "      <td>PC 17599</td>\n",
              "      <td>71.2833</td>\n",
              "      <td>C85</td>\n",
              "      <td>C</td>\n",
              "    </tr>\n",
              "    <tr>\n",
              "      <th>3</th>\n",
              "      <td>4</td>\n",
              "      <td>1</td>\n",
              "      <td>1</td>\n",
              "      <td>Futrelle, Mrs. Jacques Heath (Lily May Peel)</td>\n",
              "      <td>female</td>\n",
              "      <td>35.0</td>\n",
              "      <td>1</td>\n",
              "      <td>0</td>\n",
              "      <td>113803</td>\n",
              "      <td>53.1000</td>\n",
              "      <td>C123</td>\n",
              "      <td>S</td>\n",
              "    </tr>\n",
              "    <tr>\n",
              "      <th>6</th>\n",
              "      <td>7</td>\n",
              "      <td>0</td>\n",
              "      <td>1</td>\n",
              "      <td>McCarthy, Mr. Timothy J</td>\n",
              "      <td>male</td>\n",
              "      <td>54.0</td>\n",
              "      <td>0</td>\n",
              "      <td>0</td>\n",
              "      <td>17463</td>\n",
              "      <td>51.8625</td>\n",
              "      <td>E46</td>\n",
              "      <td>S</td>\n",
              "    </tr>\n",
              "    <tr>\n",
              "      <th>10</th>\n",
              "      <td>11</td>\n",
              "      <td>1</td>\n",
              "      <td>3</td>\n",
              "      <td>Sandstrom, Miss. Marguerite Rut</td>\n",
              "      <td>female</td>\n",
              "      <td>4.0</td>\n",
              "      <td>1</td>\n",
              "      <td>1</td>\n",
              "      <td>PP 9549</td>\n",
              "      <td>16.7000</td>\n",
              "      <td>G6</td>\n",
              "      <td>S</td>\n",
              "    </tr>\n",
              "    <tr>\n",
              "      <th>11</th>\n",
              "      <td>12</td>\n",
              "      <td>1</td>\n",
              "      <td>1</td>\n",
              "      <td>Bonnell, Miss. Elizabeth</td>\n",
              "      <td>female</td>\n",
              "      <td>58.0</td>\n",
              "      <td>0</td>\n",
              "      <td>0</td>\n",
              "      <td>113783</td>\n",
              "      <td>26.5500</td>\n",
              "      <td>C103</td>\n",
              "      <td>S</td>\n",
              "    </tr>\n",
              "  </tbody>\n",
              "</table>\n",
              "</div>"
            ],
            "text/plain": [
              "    PassengerId  Survived  Pclass  \\\n",
              "1             2         1       1   \n",
              "3             4         1       1   \n",
              "6             7         0       1   \n",
              "10           11         1       3   \n",
              "11           12         1       1   \n",
              "\n",
              "                                                 Name     Sex   Age  SibSp  \\\n",
              "1   Cumings, Mrs. John Bradley (Florence Briggs Th...  female  38.0      1   \n",
              "3        Futrelle, Mrs. Jacques Heath (Lily May Peel)  female  35.0      1   \n",
              "6                             McCarthy, Mr. Timothy J    male  54.0      0   \n",
              "10                    Sandstrom, Miss. Marguerite Rut  female   4.0      1   \n",
              "11                           Bonnell, Miss. Elizabeth  female  58.0      0   \n",
              "\n",
              "    Parch    Ticket     Fare Cabin Embarked  \n",
              "1       0  PC 17599  71.2833   C85        C  \n",
              "3       0    113803  53.1000  C123        S  \n",
              "6       0     17463  51.8625   E46        S  \n",
              "10      1   PP 9549  16.7000    G6        S  \n",
              "11      0    113783  26.5500  C103        S  "
            ]
          },
          "metadata": {
            "tags": []
          },
          "execution_count": 5
        }
      ]
    },
    {
      "metadata": {
        "id": "Ey2ZHrGW_n_t",
        "colab_type": "code",
        "outputId": "d75252cf-b5b1-4975-b871-c5b6384b8315",
        "colab": {
          "base_uri": "https://localhost:8080/",
          "height": 297
        }
      },
      "cell_type": "code",
      "source": [
        "train_df.describe()"
      ],
      "execution_count": 0,
      "outputs": [
        {
          "output_type": "execute_result",
          "data": {
            "text/html": [
              "<div>\n",
              "<style scoped>\n",
              "    .dataframe tbody tr th:only-of-type {\n",
              "        vertical-align: middle;\n",
              "    }\n",
              "\n",
              "    .dataframe tbody tr th {\n",
              "        vertical-align: top;\n",
              "    }\n",
              "\n",
              "    .dataframe thead th {\n",
              "        text-align: right;\n",
              "    }\n",
              "</style>\n",
              "<table border=\"1\" class=\"dataframe\">\n",
              "  <thead>\n",
              "    <tr style=\"text-align: right;\">\n",
              "      <th></th>\n",
              "      <th>PassengerId</th>\n",
              "      <th>Survived</th>\n",
              "      <th>Pclass</th>\n",
              "      <th>Age</th>\n",
              "      <th>SibSp</th>\n",
              "      <th>Parch</th>\n",
              "      <th>Fare</th>\n",
              "    </tr>\n",
              "  </thead>\n",
              "  <tbody>\n",
              "    <tr>\n",
              "      <th>count</th>\n",
              "      <td>183.000000</td>\n",
              "      <td>183.000000</td>\n",
              "      <td>183.000000</td>\n",
              "      <td>183.000000</td>\n",
              "      <td>183.000000</td>\n",
              "      <td>183.000000</td>\n",
              "      <td>183.000000</td>\n",
              "    </tr>\n",
              "    <tr>\n",
              "      <th>mean</th>\n",
              "      <td>455.366120</td>\n",
              "      <td>0.672131</td>\n",
              "      <td>1.191257</td>\n",
              "      <td>35.674426</td>\n",
              "      <td>0.464481</td>\n",
              "      <td>0.475410</td>\n",
              "      <td>78.682469</td>\n",
              "    </tr>\n",
              "    <tr>\n",
              "      <th>std</th>\n",
              "      <td>247.052476</td>\n",
              "      <td>0.470725</td>\n",
              "      <td>0.515187</td>\n",
              "      <td>15.643866</td>\n",
              "      <td>0.644159</td>\n",
              "      <td>0.754617</td>\n",
              "      <td>76.347843</td>\n",
              "    </tr>\n",
              "    <tr>\n",
              "      <th>min</th>\n",
              "      <td>2.000000</td>\n",
              "      <td>0.000000</td>\n",
              "      <td>1.000000</td>\n",
              "      <td>0.920000</td>\n",
              "      <td>0.000000</td>\n",
              "      <td>0.000000</td>\n",
              "      <td>0.000000</td>\n",
              "    </tr>\n",
              "    <tr>\n",
              "      <th>25%</th>\n",
              "      <td>263.500000</td>\n",
              "      <td>0.000000</td>\n",
              "      <td>1.000000</td>\n",
              "      <td>24.000000</td>\n",
              "      <td>0.000000</td>\n",
              "      <td>0.000000</td>\n",
              "      <td>29.700000</td>\n",
              "    </tr>\n",
              "    <tr>\n",
              "      <th>50%</th>\n",
              "      <td>457.000000</td>\n",
              "      <td>1.000000</td>\n",
              "      <td>1.000000</td>\n",
              "      <td>36.000000</td>\n",
              "      <td>0.000000</td>\n",
              "      <td>0.000000</td>\n",
              "      <td>57.000000</td>\n",
              "    </tr>\n",
              "    <tr>\n",
              "      <th>75%</th>\n",
              "      <td>676.000000</td>\n",
              "      <td>1.000000</td>\n",
              "      <td>1.000000</td>\n",
              "      <td>47.500000</td>\n",
              "      <td>1.000000</td>\n",
              "      <td>1.000000</td>\n",
              "      <td>90.000000</td>\n",
              "    </tr>\n",
              "    <tr>\n",
              "      <th>max</th>\n",
              "      <td>890.000000</td>\n",
              "      <td>1.000000</td>\n",
              "      <td>3.000000</td>\n",
              "      <td>80.000000</td>\n",
              "      <td>3.000000</td>\n",
              "      <td>4.000000</td>\n",
              "      <td>512.329200</td>\n",
              "    </tr>\n",
              "  </tbody>\n",
              "</table>\n",
              "</div>"
            ],
            "text/plain": [
              "       PassengerId    Survived      Pclass         Age       SibSp  \\\n",
              "count   183.000000  183.000000  183.000000  183.000000  183.000000   \n",
              "mean    455.366120    0.672131    1.191257   35.674426    0.464481   \n",
              "std     247.052476    0.470725    0.515187   15.643866    0.644159   \n",
              "min       2.000000    0.000000    1.000000    0.920000    0.000000   \n",
              "25%     263.500000    0.000000    1.000000   24.000000    0.000000   \n",
              "50%     457.000000    1.000000    1.000000   36.000000    0.000000   \n",
              "75%     676.000000    1.000000    1.000000   47.500000    1.000000   \n",
              "max     890.000000    1.000000    3.000000   80.000000    3.000000   \n",
              "\n",
              "            Parch        Fare  \n",
              "count  183.000000  183.000000  \n",
              "mean     0.475410   78.682469  \n",
              "std      0.754617   76.347843  \n",
              "min      0.000000    0.000000  \n",
              "25%      0.000000   29.700000  \n",
              "50%      0.000000   57.000000  \n",
              "75%      1.000000   90.000000  \n",
              "max      4.000000  512.329200  "
            ]
          },
          "metadata": {
            "tags": []
          },
          "execution_count": 6
        }
      ]
    },
    {
      "metadata": {
        "id": "QiZn2p1K8DED",
        "colab_type": "code",
        "outputId": "6ec968ed-71f8-48c0-8db5-ad4ec89a9625",
        "colab": {
          "base_uri": "https://localhost:8080/",
          "height": 34
        }
      },
      "cell_type": "code",
      "source": [
        "from sklearn.linear_model import LinearRegression\n",
        "\n",
        "X = train_df[['Pclass', 'Age', 'Fare']]\n",
        "y = train_df.Survived\n",
        "\n",
        "linear_reg = LinearRegression().fit(X, y)\n",
        "linear_reg.score(X, y)"
      ],
      "execution_count": 0,
      "outputs": [
        {
          "output_type": "execute_result",
          "data": {
            "text/plain": [
              "0.08389810726550917"
            ]
          },
          "metadata": {
            "tags": []
          },
          "execution_count": 8
        }
      ]
    },
    {
      "metadata": {
        "id": "8HsBb1hp_cev",
        "colab_type": "code",
        "outputId": "e483d5dc-b128-4c21-b643-961f70748e4b",
        "colab": {
          "base_uri": "https://localhost:8080/",
          "height": 323
        }
      },
      "cell_type": "code",
      "source": [
        "linear_reg.predict(test_df[['Pclass', 'Age', 'Fare']])"
      ],
      "execution_count": 0,
      "outputs": [
        {
          "output_type": "execute_result",
          "data": {
            "text/plain": [
              "array([0.79543117, 0.58610823, 0.67595121, 0.793829  , 0.62090522,\n",
              "       0.72542107, 0.59848968, 0.58734245, 0.48567063, 0.77627736,\n",
              "       0.84211887, 0.57052439, 0.7754689 , 0.96621114, 0.70287941,\n",
              "       0.57673837, 0.72321391, 0.75894755, 0.77968041, 0.50246003,\n",
              "       0.49858077, 0.7474959 , 0.3542282 , 0.61648435, 0.71300224,\n",
              "       0.66294608, 0.53175333, 0.77397395, 0.68419387, 0.68395536,\n",
              "       0.52041202, 0.56814038, 0.79586606, 0.81372012, 0.61068545,\n",
              "       0.57260627, 0.52525981, 0.58055388, 0.45584728, 0.67976208,\n",
              "       0.8226707 , 0.84286197, 0.96189157, 0.66724612, 0.68589478,\n",
              "       0.61846513, 0.63455044, 0.68275686, 0.65738372, 0.45198998,\n",
              "       0.59988596, 0.63845908, 0.63132487, 0.7888473 , 0.60126246,\n",
              "       0.79714045, 0.78713803, 0.54643775, 0.42823635, 0.7711724 ,\n",
              "       0.53552976, 0.55608044, 0.54480459, 0.57031915, 0.65080369,\n",
              "       0.77958926, 0.6371013 , 0.70993488, 0.71493598, 0.60375943,\n",
              "       0.54407206, 0.48186138, 0.76576089, 0.75456305, 0.53968359,\n",
              "       0.53814461, 0.51431245, 0.80091026, 0.54231482, 0.8260362 ,\n",
              "       0.58660686, 0.77766767, 0.60296337, 0.70098322, 0.63455044,\n",
              "       0.68309915, 0.67573142])"
            ]
          },
          "metadata": {
            "tags": []
          },
          "execution_count": 12
        }
      ]
    },
    {
      "metadata": {
        "id": "fcxfpsjdFJwM",
        "colab_type": "code",
        "outputId": "d59a3cd8-66d3-4877-ca44-d343f0c54d2d",
        "colab": {
          "base_uri": "https://localhost:8080/",
          "height": 34
        }
      },
      "cell_type": "code",
      "source": [
        "linear_reg.coef_"
      ],
      "execution_count": 0,
      "outputs": [
        {
          "output_type": "execute_result",
          "data": {
            "text/plain": [
              "array([-0.08596295, -0.00829314,  0.00048775])"
            ]
          },
          "metadata": {
            "tags": []
          },
          "execution_count": 13
        }
      ]
    },
    {
      "metadata": {
        "id": "AFiisZU7_2Fr",
        "colab_type": "code",
        "outputId": "d8679522-b8c8-4989-b02d-8553f448db87",
        "colab": {
          "base_uri": "https://localhost:8080/",
          "height": 34
        }
      },
      "cell_type": "code",
      "source": [
        "import numpy as np\n",
        "\n",
        "test_case = np.array([[1, 5, 500]])  # Rich 5-year old in first class\n",
        "linear_reg.predict(test_case)"
      ],
      "execution_count": 0,
      "outputs": [
        {
          "output_type": "execute_result",
          "data": {
            "text/plain": [
              "array([1.14845883])"
            ]
          },
          "metadata": {
            "tags": []
          },
          "execution_count": 14
        }
      ]
    },
    {
      "metadata": {
        "id": "dpUm8Dl-u2aB",
        "colab_type": "code",
        "outputId": "77f9d9ff-d5c0-4e22-cfca-ee19fa7d7e44",
        "colab": {
          "base_uri": "https://localhost:8080/",
          "height": 88
        }
      },
      "cell_type": "code",
      "source": [
        "from sklearn.linear_model import LogisticRegression\n",
        "\n",
        "log_reg = LogisticRegression().fit(X, y)\n",
        "log_reg.score(X, y)"
      ],
      "execution_count": 0,
      "outputs": [
        {
          "output_type": "stream",
          "text": [
            "/usr/local/lib/python3.6/dist-packages/sklearn/linear_model/logistic.py:433: FutureWarning: Default solver will be changed to 'lbfgs' in 0.22. Specify a solver to silence this warning.\n",
            "  FutureWarning)\n"
          ],
          "name": "stderr"
        },
        {
          "output_type": "execute_result",
          "data": {
            "text/plain": [
              "0.7103825136612022"
            ]
          },
          "metadata": {
            "tags": []
          },
          "execution_count": 15
        }
      ]
    },
    {
      "metadata": {
        "id": "cUhr2c66F_th",
        "colab_type": "code",
        "outputId": "a9ed9706-3418-4ec8-bdb6-f0c4d6fc8c5c",
        "colab": {
          "base_uri": "https://localhost:8080/",
          "height": 86
        }
      },
      "cell_type": "code",
      "source": [
        "log_reg.predict(test_df[['Pclass', 'Age', 'Fare']])"
      ],
      "execution_count": 0,
      "outputs": [
        {
          "output_type": "execute_result",
          "data": {
            "text/plain": [
              "array([1, 1, 1, 1, 1, 1, 1, 1, 1, 1, 1, 1, 1, 1, 1, 1, 1, 1, 1, 0, 1, 1,\n",
              "       0, 1, 1, 1, 1, 1, 1, 1, 1, 1, 1, 1, 1, 1, 1, 1, 0, 1, 1, 1, 1, 1,\n",
              "       1, 1, 1, 1, 1, 0, 1, 1, 1, 1, 1, 1, 1, 1, 0, 1, 1, 1, 1, 1, 1, 1,\n",
              "       1, 1, 1, 1, 1, 0, 1, 1, 0, 1, 1, 1, 1, 1, 1, 1, 1, 1, 1, 1, 1])"
            ]
          },
          "metadata": {
            "tags": []
          },
          "execution_count": 10
        }
      ]
    },
    {
      "metadata": {
        "id": "r7xWwqBrFuWL",
        "colab_type": "code",
        "outputId": "5faab14e-56a4-4fb5-bf8d-4505f4da4c22",
        "colab": {
          "base_uri": "https://localhost:8080/",
          "height": 34
        }
      },
      "cell_type": "code",
      "source": [
        "log_reg.predict(test_case)[0]"
      ],
      "execution_count": 0,
      "outputs": [
        {
          "output_type": "execute_result",
          "data": {
            "text/plain": [
              "1"
            ]
          },
          "metadata": {
            "tags": []
          },
          "execution_count": 16
        }
      ]
    },
    {
      "metadata": {
        "id": "IM8g42clF2-6",
        "colab_type": "code",
        "outputId": "5f10db01-0ec6-4a62-a05f-56f0ab2c04f8",
        "colab": {
          "base_uri": "https://localhost:8080/",
          "height": 278
        }
      },
      "cell_type": "code",
      "source": [
        "help(log_reg.predict)"
      ],
      "execution_count": 0,
      "outputs": [
        {
          "output_type": "stream",
          "text": [
            "Help on method predict in module sklearn.linear_model.base:\n",
            "\n",
            "predict(X) method of sklearn.linear_model.logistic.LogisticRegression instance\n",
            "    Predict class labels for samples in X.\n",
            "    \n",
            "    Parameters\n",
            "    ----------\n",
            "    X : array_like or sparse matrix, shape (n_samples, n_features)\n",
            "        Samples.\n",
            "    \n",
            "    Returns\n",
            "    -------\n",
            "    C : array, shape [n_samples]\n",
            "        Predicted class label per sample.\n",
            "\n"
          ],
          "name": "stdout"
        }
      ]
    },
    {
      "metadata": {
        "id": "flF3pcMHGGWw",
        "colab_type": "code",
        "outputId": "4d64785b-72bd-4ee4-a2ab-3ab84dd7406a",
        "colab": {
          "base_uri": "https://localhost:8080/",
          "height": 34
        }
      },
      "cell_type": "code",
      "source": [
        "log_reg.predict_proba(test_case)[0]"
      ],
      "execution_count": 0,
      "outputs": [
        {
          "output_type": "execute_result",
          "data": {
            "text/plain": [
              "array([0.02485552, 0.97514448])"
            ]
          },
          "metadata": {
            "tags": []
          },
          "execution_count": 17
        }
      ]
    },
    {
      "metadata": {
        "id": "9Bq-54noR1uE",
        "colab_type": "code",
        "outputId": "3eaf5f31-15d2-4998-c13e-9c46355e5a55",
        "colab": {
          "base_uri": "https://localhost:8080/",
          "height": 34
        }
      },
      "cell_type": "code",
      "source": [
        "# What's the math?\n",
        "log_reg.coef_"
      ],
      "execution_count": 0,
      "outputs": [
        {
          "output_type": "execute_result",
          "data": {
            "text/plain": [
              "array([[-0.0455017 , -0.02912513,  0.0048037 ]])"
            ]
          },
          "metadata": {
            "tags": []
          },
          "execution_count": 19
        }
      ]
    },
    {
      "metadata": {
        "id": "Tj0mNL7_XWNV",
        "colab_type": "code",
        "outputId": "278b87e8-e097-404f-82c5-10d5dc62d3bd",
        "colab": {
          "base_uri": "https://localhost:8080/",
          "height": 34
        }
      },
      "cell_type": "code",
      "source": [
        "log_reg.intercept_"
      ],
      "execution_count": 0,
      "outputs": [
        {
          "output_type": "execute_result",
          "data": {
            "text/plain": [
              "array([1.45878264])"
            ]
          },
          "metadata": {
            "tags": []
          },
          "execution_count": 20
        }
      ]
    },
    {
      "metadata": {
        "id": "AroeYscqR75f",
        "colab_type": "code",
        "colab": {}
      },
      "cell_type": "code",
      "source": [
        "# The logistic sigmoid \"squishing\" function, implemented to accept numpy arrays\n",
        "def sigmoid(x):\n",
        "  return 1 / (1 + np.e**(-x))"
      ],
      "execution_count": 0,
      "outputs": []
    },
    {
      "metadata": {
        "id": "804BA7s0SggQ",
        "colab_type": "code",
        "outputId": "7ce4d4fe-7b1a-4a26-ab22-03b35e8d7d60",
        "colab": {
          "base_uri": "https://localhost:8080/",
          "height": 34
        }
      },
      "cell_type": "code",
      "source": [
        "sigmoid(log_reg.intercept_ + np.dot(log_reg.coef_, np.transpose(test_case)))"
      ],
      "execution_count": 0,
      "outputs": [
        {
          "output_type": "execute_result",
          "data": {
            "text/plain": [
              "array([[0.97514448]])"
            ]
          },
          "metadata": {
            "tags": []
          },
          "execution_count": 23
        }
      ]
    },
    {
      "metadata": {
        "id": "uBSGY-R-Hf_b",
        "colab_type": "text"
      },
      "cell_type": "markdown",
      "source": [
        "So, clearly a more appropriate model in this situation! For more on the math, [see this Wikipedia example](https://en.wikipedia.org/wiki/Logistic_regression#Probability_of_passing_an_exam_versus_hours_of_study).\n",
        "\n",
        "For live - let's tackle [another classification dataset on absenteeism](http://archive.ics.uci.edu/ml/datasets/Absenteeism+at+work) - it has 21 classes, but remember, scikit-learn LogisticRegression automatically handles more than two classes. How? By essentially treating each label as different (1) from some base class (0)."
      ]
    },
    {
      "metadata": {
        "id": "qyDBpCM0G7Hv",
        "colab_type": "code",
        "outputId": "2bd02f7d-9bd7-4ac8-932d-445d51793240",
        "colab": {
          "base_uri": "https://localhost:8080/",
          "height": 204
        }
      },
      "cell_type": "code",
      "source": [
        "!wget http://archive.ics.uci.edu/ml/machine-learning-databases/00445/Absenteeism_at_work_AAA.zip"
      ],
      "execution_count": 0,
      "outputs": [
        {
          "output_type": "stream",
          "text": [
            "--2019-02-25 18:18:08--  http://archive.ics.uci.edu/ml/machine-learning-databases/00445/Absenteeism_at_work_AAA.zip\n",
            "Resolving archive.ics.uci.edu (archive.ics.uci.edu)... 128.195.10.249\n",
            "Connecting to archive.ics.uci.edu (archive.ics.uci.edu)|128.195.10.249|:80... connected.\n",
            "HTTP request sent, awaiting response... 200 OK\n",
            "Length: 66136 (65K) [application/zip]\n",
            "Saving to: ‘Absenteeism_at_work_AAA.zip.3’\n",
            "\n",
            "Absenteeism_at_work 100%[===================>]  64.59K   179KB/s    in 0.4s    \n",
            "\n",
            "2019-02-25 18:18:08 (179 KB/s) - ‘Absenteeism_at_work_AAA.zip.3’ saved [66136/66136]\n",
            "\n"
          ],
          "name": "stdout"
        }
      ]
    },
    {
      "metadata": {
        "id": "SW88pTMI4Zrm",
        "colab_type": "code",
        "outputId": "e5ac9651-a948-479b-fd19-271529256e93",
        "colab": {
          "base_uri": "https://localhost:8080/",
          "height": 204
        }
      },
      "cell_type": "code",
      "source": [
        "!unzip Absenteeism_at_work_AAA.zip"
      ],
      "execution_count": 0,
      "outputs": [
        {
          "output_type": "stream",
          "text": [
            "Archive:  Absenteeism_at_work_AAA.zip\n",
            "replace Absenteeism_at_work.arff? [y]es, [n]o, [A]ll, [N]one, [r]ename: y\n",
            "  inflating: Absenteeism_at_work.arff  \n",
            "replace Absenteeism_at_work.csv? [y]es, [n]o, [A]ll, [N]one, [r]ename: y\n",
            "  inflating: Absenteeism_at_work.csv  \n",
            "replace Absenteeism_at_work.xls? [y]es, [n]o, [A]ll, [N]one, [r]ename: y\n",
            "  inflating: Absenteeism_at_work.xls  \n",
            "replace Attribute Information.docx? [y]es, [n]o, [A]ll, [N]one, [r]ename: y\n",
            "  inflating: Attribute Information.docx  \n",
            "replace UCI_ABS_TEXT.docx? [y]es, [n]o, [A]ll, [N]one, [r]ename: y\n",
            "  inflating: UCI_ABS_TEXT.docx       \n"
          ],
          "name": "stdout"
        }
      ]
    },
    {
      "metadata": {
        "id": "RVpkxesk4kZy",
        "colab_type": "code",
        "outputId": "442cbdcd-0e92-4999-bbed-7ea66b6010d0",
        "colab": {
          "base_uri": "https://localhost:8080/",
          "height": 207
        }
      },
      "cell_type": "code",
      "source": [
        "!head Absenteeism_at_work.csv"
      ],
      "execution_count": 0,
      "outputs": [
        {
          "output_type": "stream",
          "text": [
            "ID;Reason for absence;Month of absence;Day of the week;Seasons;Transportation expense;Distance from Residence to Work;Service time;Age;Work load Average/day ;Hit target;Disciplinary failure;Education;Son;Social drinker;Social smoker;Pet;Weight;Height;Body mass index;Absenteeism time in hours\r\n",
            "11;26;7;3;1;289;36;13;33;239.554;97;0;1;2;1;0;1;90;172;30;4\r\n",
            "36;0;7;3;1;118;13;18;50;239.554;97;1;1;1;1;0;0;98;178;31;0\r\n",
            "3;23;7;4;1;179;51;18;38;239.554;97;0;1;0;1;0;0;89;170;31;2\r\n",
            "7;7;7;5;1;279;5;14;39;239.554;97;0;1;2;1;1;0;68;168;24;4\r\n",
            "11;23;7;5;1;289;36;13;33;239.554;97;0;1;2;1;0;1;90;172;30;2\r\n",
            "3;23;7;6;1;179;51;18;38;239.554;97;0;1;0;1;0;0;89;170;31;2\r\n",
            "10;22;7;6;1;361;52;3;28;239.554;97;0;1;1;1;0;4;80;172;27;8\r\n",
            "20;23;7;6;1;260;50;11;36;239.554;97;0;1;4;1;0;0;65;168;23;4\r\n",
            "14;19;7;2;1;155;12;14;34;239.554;97;0;1;2;1;0;0;95;196;25;40\r\n"
          ],
          "name": "stdout"
        }
      ]
    },
    {
      "metadata": {
        "id": "eA-uS47X4yLR",
        "colab_type": "code",
        "outputId": "7f8f8252-652d-4348-a6b4-bd3fa282599c",
        "colab": {
          "base_uri": "https://localhost:8080/",
          "height": 275
        }
      },
      "cell_type": "code",
      "source": [
        "pd.set_option('display.max_columns', 50)\n",
        "df = pd.read_csv('Absenteeism_at_work.csv', sep=';')\n",
        "df.head()"
      ],
      "execution_count": 0,
      "outputs": [
        {
          "output_type": "execute_result",
          "data": {
            "text/html": [
              "<div>\n",
              "<style scoped>\n",
              "    .dataframe tbody tr th:only-of-type {\n",
              "        vertical-align: middle;\n",
              "    }\n",
              "\n",
              "    .dataframe tbody tr th {\n",
              "        vertical-align: top;\n",
              "    }\n",
              "\n",
              "    .dataframe thead th {\n",
              "        text-align: right;\n",
              "    }\n",
              "</style>\n",
              "<table border=\"1\" class=\"dataframe\">\n",
              "  <thead>\n",
              "    <tr style=\"text-align: right;\">\n",
              "      <th></th>\n",
              "      <th>ID</th>\n",
              "      <th>Reason for absence</th>\n",
              "      <th>Month of absence</th>\n",
              "      <th>Day of the week</th>\n",
              "      <th>Seasons</th>\n",
              "      <th>Transportation expense</th>\n",
              "      <th>Distance from Residence to Work</th>\n",
              "      <th>Service time</th>\n",
              "      <th>Age</th>\n",
              "      <th>Work load Average/day</th>\n",
              "      <th>Hit target</th>\n",
              "      <th>Disciplinary failure</th>\n",
              "      <th>Education</th>\n",
              "      <th>Son</th>\n",
              "      <th>Social drinker</th>\n",
              "      <th>Social smoker</th>\n",
              "      <th>Pet</th>\n",
              "      <th>Weight</th>\n",
              "      <th>Height</th>\n",
              "      <th>Body mass index</th>\n",
              "      <th>Absenteeism time in hours</th>\n",
              "    </tr>\n",
              "  </thead>\n",
              "  <tbody>\n",
              "    <tr>\n",
              "      <th>0</th>\n",
              "      <td>11</td>\n",
              "      <td>26</td>\n",
              "      <td>7</td>\n",
              "      <td>3</td>\n",
              "      <td>1</td>\n",
              "      <td>289</td>\n",
              "      <td>36</td>\n",
              "      <td>13</td>\n",
              "      <td>33</td>\n",
              "      <td>239.554</td>\n",
              "      <td>97</td>\n",
              "      <td>0</td>\n",
              "      <td>1</td>\n",
              "      <td>2</td>\n",
              "      <td>1</td>\n",
              "      <td>0</td>\n",
              "      <td>1</td>\n",
              "      <td>90</td>\n",
              "      <td>172</td>\n",
              "      <td>30</td>\n",
              "      <td>4</td>\n",
              "    </tr>\n",
              "    <tr>\n",
              "      <th>1</th>\n",
              "      <td>36</td>\n",
              "      <td>0</td>\n",
              "      <td>7</td>\n",
              "      <td>3</td>\n",
              "      <td>1</td>\n",
              "      <td>118</td>\n",
              "      <td>13</td>\n",
              "      <td>18</td>\n",
              "      <td>50</td>\n",
              "      <td>239.554</td>\n",
              "      <td>97</td>\n",
              "      <td>1</td>\n",
              "      <td>1</td>\n",
              "      <td>1</td>\n",
              "      <td>1</td>\n",
              "      <td>0</td>\n",
              "      <td>0</td>\n",
              "      <td>98</td>\n",
              "      <td>178</td>\n",
              "      <td>31</td>\n",
              "      <td>0</td>\n",
              "    </tr>\n",
              "    <tr>\n",
              "      <th>2</th>\n",
              "      <td>3</td>\n",
              "      <td>23</td>\n",
              "      <td>7</td>\n",
              "      <td>4</td>\n",
              "      <td>1</td>\n",
              "      <td>179</td>\n",
              "      <td>51</td>\n",
              "      <td>18</td>\n",
              "      <td>38</td>\n",
              "      <td>239.554</td>\n",
              "      <td>97</td>\n",
              "      <td>0</td>\n",
              "      <td>1</td>\n",
              "      <td>0</td>\n",
              "      <td>1</td>\n",
              "      <td>0</td>\n",
              "      <td>0</td>\n",
              "      <td>89</td>\n",
              "      <td>170</td>\n",
              "      <td>31</td>\n",
              "      <td>2</td>\n",
              "    </tr>\n",
              "    <tr>\n",
              "      <th>3</th>\n",
              "      <td>7</td>\n",
              "      <td>7</td>\n",
              "      <td>7</td>\n",
              "      <td>5</td>\n",
              "      <td>1</td>\n",
              "      <td>279</td>\n",
              "      <td>5</td>\n",
              "      <td>14</td>\n",
              "      <td>39</td>\n",
              "      <td>239.554</td>\n",
              "      <td>97</td>\n",
              "      <td>0</td>\n",
              "      <td>1</td>\n",
              "      <td>2</td>\n",
              "      <td>1</td>\n",
              "      <td>1</td>\n",
              "      <td>0</td>\n",
              "      <td>68</td>\n",
              "      <td>168</td>\n",
              "      <td>24</td>\n",
              "      <td>4</td>\n",
              "    </tr>\n",
              "    <tr>\n",
              "      <th>4</th>\n",
              "      <td>11</td>\n",
              "      <td>23</td>\n",
              "      <td>7</td>\n",
              "      <td>5</td>\n",
              "      <td>1</td>\n",
              "      <td>289</td>\n",
              "      <td>36</td>\n",
              "      <td>13</td>\n",
              "      <td>33</td>\n",
              "      <td>239.554</td>\n",
              "      <td>97</td>\n",
              "      <td>0</td>\n",
              "      <td>1</td>\n",
              "      <td>2</td>\n",
              "      <td>1</td>\n",
              "      <td>0</td>\n",
              "      <td>1</td>\n",
              "      <td>90</td>\n",
              "      <td>172</td>\n",
              "      <td>30</td>\n",
              "      <td>2</td>\n",
              "    </tr>\n",
              "  </tbody>\n",
              "</table>\n",
              "</div>"
            ],
            "text/plain": [
              "   ID  Reason for absence  Month of absence  Day of the week  Seasons  \\\n",
              "0  11                  26                 7                3        1   \n",
              "1  36                   0                 7                3        1   \n",
              "2   3                  23                 7                4        1   \n",
              "3   7                   7                 7                5        1   \n",
              "4  11                  23                 7                5        1   \n",
              "\n",
              "   Transportation expense  Distance from Residence to Work  Service time  Age  \\\n",
              "0                     289                               36            13   33   \n",
              "1                     118                               13            18   50   \n",
              "2                     179                               51            18   38   \n",
              "3                     279                                5            14   39   \n",
              "4                     289                               36            13   33   \n",
              "\n",
              "   Work load Average/day   Hit target  Disciplinary failure  Education  Son  \\\n",
              "0                 239.554          97                     0          1    2   \n",
              "1                 239.554          97                     1          1    1   \n",
              "2                 239.554          97                     0          1    0   \n",
              "3                 239.554          97                     0          1    2   \n",
              "4                 239.554          97                     0          1    2   \n",
              "\n",
              "   Social drinker  Social smoker  Pet  Weight  Height  Body mass index  \\\n",
              "0               1              0    1      90     172               30   \n",
              "1               1              0    0      98     178               31   \n",
              "2               1              0    0      89     170               31   \n",
              "3               1              1    0      68     168               24   \n",
              "4               1              0    1      90     172               30   \n",
              "\n",
              "   Absenteeism time in hours  \n",
              "0                          4  \n",
              "1                          0  \n",
              "2                          2  \n",
              "3                          4  \n",
              "4                          2  "
            ]
          },
          "metadata": {
            "tags": []
          },
          "execution_count": 29
        }
      ]
    },
    {
      "metadata": {
        "id": "iZvEFY4w5NzB",
        "colab_type": "code",
        "outputId": "ac22bdd5-4a82-48f3-96e1-9c1a63c148a5",
        "colab": {
          "base_uri": "https://localhost:8080/",
          "height": 34
        }
      },
      "cell_type": "code",
      "source": [
        "df.shape"
      ],
      "execution_count": 0,
      "outputs": [
        {
          "output_type": "execute_result",
          "data": {
            "text/plain": [
              "(740, 21)"
            ]
          },
          "metadata": {
            "tags": []
          },
          "execution_count": 28
        }
      ]
    },
    {
      "metadata": {
        "id": "bv8tUsgD5tgF",
        "colab_type": "code",
        "outputId": "51dfc212-97a6-45d1-deba-dfb99d6c19aa",
        "colab": {
          "base_uri": "https://localhost:8080/",
          "height": 510
        }
      },
      "cell_type": "code",
      "source": [
        "df['Reason for absence'].value_counts()"
      ],
      "execution_count": 0,
      "outputs": [
        {
          "output_type": "execute_result",
          "data": {
            "text/plain": [
              "23    149\n",
              "28    112\n",
              "27     69\n",
              "13     55\n",
              "0      43\n",
              "19     40\n",
              "22     38\n",
              "26     33\n",
              "25     31\n",
              "11     26\n",
              "10     25\n",
              "18     21\n",
              "14     19\n",
              "1      16\n",
              "7      15\n",
              "6       8\n",
              "12      8\n",
              "8       6\n",
              "21      6\n",
              "9       4\n",
              "5       3\n",
              "24      3\n",
              "16      3\n",
              "4       2\n",
              "15      2\n",
              "3       1\n",
              "2       1\n",
              "17      1\n",
              "Name: Reason for absence, dtype: int64"
            ]
          },
          "metadata": {
            "tags": []
          },
          "execution_count": 34
        }
      ]
    },
    {
      "metadata": {
        "id": "gAiA4CHo7ppI",
        "colab_type": "code",
        "outputId": "d626fdf1-92c7-4294-c351-29c6f438a9b3",
        "colab": {
          "base_uri": "https://localhost:8080/",
          "height": 136
        }
      },
      "cell_type": "code",
      "source": [
        "df.columns"
      ],
      "execution_count": 0,
      "outputs": [
        {
          "output_type": "execute_result",
          "data": {
            "text/plain": [
              "Index(['ID', 'Reason for absence', 'Month of absence', 'Day of the week',\n",
              "       'Seasons', 'Transportation expense', 'Distance from Residence to Work',\n",
              "       'Service time', 'Age', 'Work load Average/day ', 'Hit target',\n",
              "       'Disciplinary failure', 'Education', 'Son', 'Social drinker',\n",
              "       'Social smoker', 'Pet', 'Weight', 'Height', 'Body mass index',\n",
              "       'Absenteeism time in hours'],\n",
              "      dtype='object')"
            ]
          },
          "metadata": {
            "tags": []
          },
          "execution_count": 35
        }
      ]
    },
    {
      "metadata": {
        "id": "7bmHioeO7Y8k",
        "colab_type": "code",
        "colab": {}
      },
      "cell_type": "code",
      "source": [
        "X = df.drop(['ID', 'Reason for absence'], axis=1)"
      ],
      "execution_count": 0,
      "outputs": []
    },
    {
      "metadata": {
        "id": "MBykZ-on7w1F",
        "colab_type": "code",
        "colab": {}
      },
      "cell_type": "code",
      "source": [
        "y = df['Reason for absence']"
      ],
      "execution_count": 0,
      "outputs": []
    },
    {
      "metadata": {
        "id": "8zoxl8FR72Vd",
        "colab_type": "code",
        "colab": {}
      },
      "cell_type": "code",
      "source": [
        "from sklearn.linear_model.logistic import LogisticRegression\n",
        "\n",
        "# LogisticRegression"
      ],
      "execution_count": 0,
      "outputs": []
    },
    {
      "metadata": {
        "id": "PZ26OkbD7-DX",
        "colab_type": "code",
        "outputId": "761fec7b-8a62-4200-84a7-231f18071449",
        "colab": {
          "base_uri": "https://localhost:8080/",
          "height": 34
        }
      },
      "cell_type": "code",
      "source": [
        "# import sklearn\n",
        "# sklearn.__version__\n",
        "\n",
        "model = LogisticRegression(random_state=42, solver='lbfgs', multi_class='multinomial', max_iter=10000)\n",
        "model.fit(X,y)\n",
        "model.score(X,y)"
      ],
      "execution_count": 0,
      "outputs": [
        {
          "output_type": "execute_result",
          "data": {
            "text/plain": [
              "0.5121621621621621"
            ]
          },
          "metadata": {
            "tags": []
          },
          "execution_count": 65
        }
      ]
    },
    {
      "metadata": {
        "id": "BcI6sdKl8bd1",
        "colab_type": "code",
        "colab": {}
      },
      "cell_type": "code",
      "source": [
        "?LogisticRegression"
      ],
      "execution_count": 0,
      "outputs": []
    },
    {
      "metadata": {
        "id": "YuIGc1sX-Sjx",
        "colab_type": "code",
        "outputId": "6aeb63b2-4bea-495a-cb28-18a7093bc290",
        "colab": {
          "base_uri": "https://localhost:8080/",
          "height": 34
        }
      },
      "cell_type": "code",
      "source": [
        "from sklearn.model_selection import train_test_split\n",
        "X_train, X_test, Y_train, Y_test = train_test_split(X, y, test_size=.2, random_state=42)\n",
        "\n",
        "model2 = LogisticRegression(random_state=42, multi_class='multinomial', solver='lbfgs', max_iter=8000)\n",
        "model2.fit(X_train,Y_train)\n",
        "model2.score(X_test,Y_test)"
      ],
      "execution_count": 0,
      "outputs": [
        {
          "output_type": "execute_result",
          "data": {
            "text/plain": [
              "0.3716216216216216"
            ]
          },
          "metadata": {
            "tags": []
          },
          "execution_count": 75
        }
      ]
    },
    {
      "metadata": {
        "id": "uSvTv8V9AsoX",
        "colab_type": "code",
        "outputId": "36b397a0-fc34-4c9d-879c-b44cc5741c5f",
        "colab": {
          "base_uri": "https://localhost:8080/",
          "height": 170
        }
      },
      "cell_type": "code",
      "source": [
        "predictions = model2.predict(X_test)\n",
        "predictions"
      ],
      "execution_count": 0,
      "outputs": [
        {
          "output_type": "execute_result",
          "data": {
            "text/plain": [
              "array([27, 23, 15, 23, 27, 23, 23, 13, 22, 28,  0,  0, 23, 13,  0,  1, 23,\n",
              "       23, 14, 28, 22, 23, 13,  0, 23, 28, 28, 27, 23, 13, 24, 23, 24, 28,\n",
              "       23, 28, 23, 23, 13, 19, 22, 22, 22, 28, 23, 27, 26, 19, 23, 23, 27,\n",
              "       18, 23, 28, 25,  0, 28,  0, 21, 19, 11, 28, 13,  7, 26, 19, 23, 28,\n",
              "       27, 13, 27, 22, 13, 16, 23, 10, 23, 27, 10, 10, 28, 23, 13, 22, 22,\n",
              "       27, 28, 18, 22, 10, 28,  0, 23, 28, 23, 27, 23, 10, 27, 11, 23,  7,\n",
              "       14, 23, 27, 27, 22, 27,  0, 27, 26, 25, 28, 28, 13, 10, 27, 23, 14,\n",
              "       19, 23, 23, 26, 28, 27, 23,  0, 23, 22, 23, 27, 23, 27, 28,  5, 18,\n",
              "       26, 23, 23, 23, 23, 28, 19, 23, 27, 27, 23, 23])"
            ]
          },
          "metadata": {
            "tags": []
          },
          "execution_count": 76
        }
      ]
    },
    {
      "metadata": {
        "id": "e-ZOH1mwA6oE",
        "colab_type": "code",
        "outputId": "ecaad622-ee5a-434e-e933-2175fc7d7745",
        "colab": {
          "base_uri": "https://localhost:8080/",
          "height": 357
        }
      },
      "cell_type": "code",
      "source": [
        "from collections import Counter\n",
        "Counter(predictions)"
      ],
      "execution_count": 0,
      "outputs": [
        {
          "output_type": "execute_result",
          "data": {
            "text/plain": [
              "Counter({0: 9,\n",
              "         1: 1,\n",
              "         5: 1,\n",
              "         7: 2,\n",
              "         10: 6,\n",
              "         11: 2,\n",
              "         13: 10,\n",
              "         14: 3,\n",
              "         15: 1,\n",
              "         16: 1,\n",
              "         18: 3,\n",
              "         19: 6,\n",
              "         21: 1,\n",
              "         22: 11,\n",
              "         23: 41,\n",
              "         24: 2,\n",
              "         25: 2,\n",
              "         26: 5,\n",
              "         27: 21,\n",
              "         28: 20})"
            ]
          },
          "metadata": {
            "tags": []
          },
          "execution_count": 77
        }
      ]
    },
    {
      "metadata": {
        "id": "7dfvw3DEBBOW",
        "colab_type": "code",
        "outputId": "cb25e3f9-0ecb-473d-db15-62209ffad433",
        "colab": {
          "base_uri": "https://localhost:8080/",
          "height": 68
        }
      },
      "cell_type": "code",
      "source": [
        "# import numpy as np\n",
        "single_row = np.array(X_test.iloc[0])\n",
        "single_row"
      ],
      "execution_count": 0,
      "outputs": [
        {
          "output_type": "execute_result",
          "data": {
            "text/plain": [
              "array([  1.   ,   6.   ,   2.   , 225.   ,  26.   ,   9.   ,  28.   ,\n",
              "       308.593,  95.   ,   0.   ,   1.   ,   1.   ,   0.   ,   0.   ,\n",
              "         2.   ,  69.   , 169.   ,  24.   ,   1.   ])"
            ]
          },
          "metadata": {
            "tags": []
          },
          "execution_count": 80
        }
      ]
    },
    {
      "metadata": {
        "id": "4-RhMeEIBR8L",
        "colab_type": "code",
        "outputId": "5d2c0037-a0b3-4678-d4cd-f4218f072e12",
        "colab": {
          "base_uri": "https://localhost:8080/",
          "height": 34
        }
      },
      "cell_type": "code",
      "source": [
        "model2.predict([single_row])[0]"
      ],
      "execution_count": 0,
      "outputs": [
        {
          "output_type": "execute_result",
          "data": {
            "text/plain": [
              "27"
            ]
          },
          "metadata": {
            "tags": []
          },
          "execution_count": 86
        }
      ]
    },
    {
      "metadata": {
        "id": "iblW74C8afuR",
        "colab_type": "text"
      },
      "cell_type": "markdown",
      "source": [
        "## Assignment - real-world classification\n",
        "\n",
        "We're going to check out a larger dataset - the [FMA Free Music Archive data](https://github.com/mdeff/fma). It has a selection of CSVs with metadata and calculated audio features that you can load and try to use to classify genre of tracks. To get you started:"
      ]
    },
    {
      "metadata": {
        "id": "SsySnuKaKtQf",
        "colab_type": "code",
        "outputId": "5ddaa09c-0397-4441-fe55-39ce062db9f6",
        "colab": {
          "base_uri": "https://localhost:8080/",
          "height": 425
        }
      },
      "cell_type": "code",
      "source": [
        "!wget https://os.unil.cloud.switch.ch/fma/fma_metadata.zip\n",
        "!unzip fma_metadata.zip"
      ],
      "execution_count": 0,
      "outputs": [
        {
          "output_type": "stream",
          "text": [
            "--2019-02-26 06:02:34--  https://os.unil.cloud.switch.ch/fma/fma_metadata.zip\n",
            "Resolving os.unil.cloud.switch.ch (os.unil.cloud.switch.ch)... 86.119.28.13, 2001:620:5ca1:2ff::ce53\n",
            "Connecting to os.unil.cloud.switch.ch (os.unil.cloud.switch.ch)|86.119.28.13|:443... connected.\n",
            "HTTP request sent, awaiting response... 200 OK\n",
            "Length: 358412441 (342M) [application/zip]\n",
            "Saving to: ‘fma_metadata.zip’\n",
            "\n",
            "fma_metadata.zip    100%[===================>] 341.81M  17.8MB/s    in 20s     \n",
            "\n",
            "2019-02-26 06:02:55 (16.9 MB/s) - ‘fma_metadata.zip’ saved [358412441/358412441]\n",
            "\n",
            "Archive:  fma_metadata.zip\n",
            " bunzipping: fma_metadata/README.txt  \n",
            " bunzipping: fma_metadata/checksums  \n",
            " bunzipping: fma_metadata/not_found.pickle  \n",
            " bunzipping: fma_metadata/raw_genres.csv  \n",
            " bunzipping: fma_metadata/raw_albums.csv  \n",
            " bunzipping: fma_metadata/raw_artists.csv  \n",
            " bunzipping: fma_metadata/raw_tracks.csv  \n",
            " bunzipping: fma_metadata/tracks.csv  \n",
            " bunzipping: fma_metadata/genres.csv  \n",
            " bunzipping: fma_metadata/raw_echonest.csv  \n",
            " bunzipping: fma_metadata/echonest.csv  \n",
            " bunzipping: fma_metadata/features.csv  \n"
          ],
          "name": "stdout"
        }
      ]
    },
    {
      "metadata": {
        "id": "Q-8_zO0mbCXu",
        "colab_type": "code",
        "outputId": "0c0f318f-db0a-4d7d-8c2f-071e02a5b9ad",
        "colab": {
          "base_uri": "https://localhost:8080/",
          "height": 71
        }
      },
      "cell_type": "code",
      "source": [
        "from scipy import stats\n",
        "import numpy as np\n",
        "import pandas as pd\n",
        "import matplotlib.pyplot as plt\n",
        "%matplotlib inline\n",
        "import math\n",
        "# !pip install --upgrade seaborn\n",
        "import seaborn as sns\n",
        "sns.__version__\n",
        "from sklearn.linear_model.logistic import LogisticRegression\n",
        "import statsmodels.api as sm\n",
        "\n",
        "pd.set_option('display.height', 500)\n",
        "pd.set_option('display.max_rows', 500)\n",
        "pd.set_option('display.max_columns', 500)\n",
        "pd.set_option('display.width', 500)\n",
        "pd.options.display.float_format = '{:,}'.format"
      ],
      "execution_count": 0,
      "outputs": [
        {
          "output_type": "stream",
          "text": [
            "/usr/local/lib/python3.6/dist-packages/statsmodels/compat/pandas.py:56: FutureWarning: The pandas.core.datetools module is deprecated and will be removed in a future version. Please use the pandas.tseries module instead.\n",
            "  from pandas.core import datetools\n"
          ],
          "name": "stderr"
        }
      ]
    },
    {
      "metadata": {
        "id": "VbUJKyI1LRwD",
        "colab_type": "code",
        "outputId": "6278a772-7dd2-47fc-d8c5-14370e6be2ec",
        "colab": {
          "base_uri": "https://localhost:8080/",
          "height": 71
        }
      },
      "cell_type": "code",
      "source": [
        "# Clean data\n",
        "df = pd.read_csv('fma_metadata/tracks.csv', header=[1])\n",
        "df = df.drop(['Unnamed: 0'], axis=1) # drop track column\n",
        "df= df.drop([0, 1]) # drop a whole row of nan"
      ],
      "execution_count": 0,
      "outputs": [
        {
          "output_type": "stream",
          "text": [
            "/usr/local/lib/python3.6/dist-packages/IPython/core/interactiveshell.py:2718: DtypeWarning: Columns (0) have mixed types. Specify dtype option on import or set low_memory=False.\n",
            "  interactivity=interactivity, compiler=compiler, result=result)\n"
          ],
          "name": "stderr"
        }
      ]
    },
    {
      "metadata": {
        "id": "ut-Zfhp2LjcS",
        "colab_type": "code",
        "outputId": "0ceebd22-76f3-4bce-9ce8-074e1abd32f6",
        "colab": {
          "base_uri": "https://localhost:8080/",
          "height": 4508
        }
      },
      "cell_type": "code",
      "source": [
        "# preview data\n",
        "print(\"df shape:\"), print(df.shape), print(\"---\"*20)\n",
        "print(\"df columns:\"), print(df.columns), print(\"---\"*20)\n",
        "print(\"df select_dtypes(include=[np.number]).columns.values:\"), print(df.select_dtypes(include=[np.number]).columns.values), print(\"---\"*20)\n",
        "print(\"df select_dtypes(exclude=[np.number]).columns:\"), print(df.select_dtypes(exclude=[np.number]).columns), print(\"---\"*20)\n",
        "print(\"df dtypes.sort_values(ascending=False):\"), print(df.dtypes.sort_values(ascending=False)), print(\"---\"*20)\n",
        "print(\"df head().T:\"), print(df.head().T), print(\"---\"*20)\n",
        "print(\"df isnull().sum().sum():\"), print(df.isnull().sum().sum()), print(\"---\"*20)\n",
        "print(\"df isna().sum().sort_values(ascending=False):\"), print(df.isna().sum().sort_values(ascending=False)), print(\"---\"*20)\n",
        "# nan finder\n",
        "print(\"columns[df.isna().any()].tolist():\"), print(df.columns[df.isna().any()].tolist()), print(\"\")\n",
        "# stats data\n",
        "print(\"df corr().T:\"), print(df.corr().T), print(\"\")\n",
        "print(\"df describe(include='all').T:\"), print(df.describe(include='all').T), print(\"\")"
      ],
      "execution_count": 0,
      "outputs": [
        {
          "output_type": "stream",
          "text": [
            "df shape:\n",
            "(106573, 52)\n",
            "------------------------------------------------------------\n",
            "df columns:\n",
            "Index(['comments', 'date_created', 'date_released', 'engineer', 'favorites', 'id', 'information', 'listens', 'producer', 'tags', 'title', 'tracks', 'type', 'active_year_begin', 'active_year_end', 'associated_labels', 'bio', 'comments.1', 'date_created.1', 'favorites.1', 'id.1', 'latitude', 'location', 'longitude', 'members', 'name', 'related_projects', 'tags.1', 'website', 'wikipedia_page', 'split', 'subset', 'bit_rate', 'comments.2', 'composer', 'date_created.2', 'date_recorded', 'duration',\n",
            "       'favorites.2', 'genre_top', 'genres', 'genres_all', 'information.1', 'interest', 'language_code', 'license', 'listens.1', 'lyricist', 'number', 'publisher', 'tags.2', 'title.1'],\n",
            "      dtype='object')\n",
            "------------------------------------------------------------\n",
            "df select_dtypes(include=[np.number]).columns.values:\n",
            "['comments' 'favorites' 'id' 'listens' 'tracks' 'comments.1' 'favorites.1'\n",
            " 'id.1' 'latitude' 'longitude' 'bit_rate' 'comments.2' 'duration'\n",
            " 'favorites.2' 'interest' 'listens.1' 'number']\n",
            "------------------------------------------------------------\n",
            "df select_dtypes(exclude=[np.number]).columns:\n",
            "Index(['date_created', 'date_released', 'engineer', 'information', 'producer', 'tags', 'title', 'type', 'active_year_begin', 'active_year_end', 'associated_labels', 'bio', 'date_created.1', 'location', 'members', 'name', 'related_projects', 'tags.1', 'website', 'wikipedia_page', 'split', 'subset', 'composer', 'date_created.2', 'date_recorded', 'genre_top', 'genres', 'genres_all', 'information.1', 'language_code', 'license', 'lyricist', 'publisher', 'tags.2', 'title.1'], dtype='object')\n",
            "------------------------------------------------------------\n",
            "df dtypes.sort_values(ascending=False):\n",
            "title.1               object\n",
            "active_year_end       object\n",
            "tags.1                object\n",
            "related_projects      object\n",
            "tags.2                object\n",
            "members               object\n",
            "location              object\n",
            "date_created.1        object\n",
            "bio                   object\n",
            "associated_labels     object\n",
            "active_year_begin     object\n",
            "wikipedia_page        object\n",
            "type                  object\n",
            "title                 object\n",
            "tags                  object\n",
            "producer              object\n",
            "information           object\n",
            "engineer              object\n",
            "date_released         object\n",
            "date_created          object\n",
            "website               object\n",
            "name                  object\n",
            "split                 object\n",
            "genre_top             object\n",
            "publisher             object\n",
            "lyricist              object\n",
            "license               object\n",
            "language_code         object\n",
            "information.1         object\n",
            "genres_all            object\n",
            "subset                object\n",
            "genres                object\n",
            "date_created.2        object\n",
            "composer              object\n",
            "date_recorded         object\n",
            "bit_rate             float64\n",
            "number               float64\n",
            "comments.2           float64\n",
            "favorites            float64\n",
            "id                   float64\n",
            "listens.1            float64\n",
            "listens              float64\n",
            "favorites.1          float64\n",
            "duration             float64\n",
            "interest             float64\n",
            "tracks               float64\n",
            "longitude            float64\n",
            "latitude             float64\n",
            "id.1                 float64\n",
            "favorites.2          float64\n",
            "comments.1           float64\n",
            "comments             float64\n",
            "dtype: object\n",
            "------------------------------------------------------------\n",
            "df head().T:\n",
            "                                                                   2                                                  3                                                  4                                                  5                                                  6\n",
            "comments                                                         0.0                                                0.0                                                0.0                                                0.0                                                0.0\n",
            "date_created                                     2008-11-26 01:44:45                                2008-11-26 01:44:45                                2008-11-26 01:45:08                                2008-11-26 01:45:05                                2008-11-26 01:45:05\n",
            "date_released                                    2009-01-05 00:00:00                                2009-01-05 00:00:00                                2008-02-06 00:00:00                                2009-01-06 00:00:00                                2009-01-06 00:00:00\n",
            "engineer                                                         NaN                                                NaN                                                NaN                                                NaN                                                NaN\n",
            "favorites                                                        4.0                                                4.0                                                4.0                                                2.0                                                2.0\n",
            "id                                                               1.0                                                1.0                                                6.0                                                4.0                                                4.0\n",
            "information                                                  <p></p>                                            <p></p>                                                NaN          <p> \"spiritual songs\" from Nicky Cook</p>          <p> \"spiritual songs\" from Nicky Cook</p>\n",
            "listens                                                      6,073.0                                            6,073.0                                           47,632.0                                            2,710.0                                            2,710.0\n",
            "producer                                                         NaN                                                NaN                                                NaN                                                NaN                                                NaN\n",
            "tags                                                              []                                                 []                                                 []                                                 []                                                 []\n",
            "title                                           AWOL - A Way Of Life                               AWOL - A Way Of Life                                  Constant Hitmaker                                              Niris                                              Niris\n",
            "tracks                                                           7.0                                                7.0                                                2.0                                               13.0                                               13.0\n",
            "type                                                           Album                                              Album                                              Album                                              Album                                              Album\n",
            "active_year_begin                                2006-01-01 00:00:00                                2006-01-01 00:00:00                                                NaN                                1990-01-01 00:00:00                                1990-01-01 00:00:00\n",
            "active_year_end                                                  NaN                                                NaN                                                NaN                                2011-01-01 00:00:00                                2011-01-01 00:00:00\n",
            "associated_labels                                                NaN                                                NaN  Mexican Summer, Richie Records, Woodsist, Skul...                                                NaN                                                NaN\n",
            "bio                <p>A Way Of Life, A Collective of Hip-Hop from...  <p>A Way Of Life, A Collective of Hip-Hop from...  <p><span style=\"font-family:Verdana, Geneva, A...  <p>Songs written by: Nicky Cook</p>\\n<p>VOCALS...  <p>Songs written by: Nicky Cook</p>\\n<p>VOCALS...\n",
            "comments.1                                                       0.0                                                0.0                                                3.0                                                2.0                                                2.0\n",
            "date_created.1                                   2008-11-26 01:42:32                                2008-11-26 01:42:32                                2008-11-26 01:42:55                                2008-11-26 01:42:52                                2008-11-26 01:42:52\n",
            "favorites.1                                                      9.0                                                9.0                                               74.0                                               10.0                                               10.0\n",
            "id.1                                                             1.0                                                1.0                                                6.0                                                4.0                                                4.0\n",
            "latitude                                                  40.0583238                                         40.0583238                                                NaN                                          51.895927                                          51.895927\n",
            "location                                                  New Jersey                                         New Jersey                                                NaN                                 Colchester England                                 Colchester England\n",
            "longitude                                         -74.40566120000001                                 -74.40566120000001                                                NaN                                           0.891874                                           0.891874\n",
            "members            Sajje Morocco,Brownbum,ZawidaGod,Custodian of ...  Sajje Morocco,Brownbum,ZawidaGod,Custodian of ...                           Kurt Vile, the Violators                                       Nicky Cook\\n                                       Nicky Cook\\n\n",
            "name                                                            AWOL                                               AWOL                                          Kurt Vile                                         Nicky Cook                                         Nicky Cook\n",
            "related_projects   The list of past projects is 2 long but every1...  The list of past projects is 2 long but every1...                                                NaN                                                NaN                                                NaN\n",
            "tags.1                                                      ['awol']                                           ['awol']                            ['philly', 'kurt vile']  ['instrumentals', 'experimental pop', 'post pu...  ['instrumentals', 'experimental pop', 'post pu...\n",
            "website                      http://www.AzillionRecords.blogspot.com            http://www.AzillionRecords.blogspot.com                                http://kurtvile.com                                                NaN                                                NaN\n",
            "wikipedia_page                                                   NaN                                                NaN                                                NaN                                                NaN                                                NaN\n",
            "split                                                       training                                           training                                           training                                           training                                           training\n",
            "subset                                                        medium                                              small                                              small                                              large                                              large\n",
            "bit_rate                                                   256,000.0                                          256,000.0                                          192,000.0                                          256,000.0                                          256,000.0\n",
            "comments.2                                                       0.0                                                0.0                                                0.0                                                0.0                                                0.0\n",
            "composer                                                         NaN                                                NaN                                          Kurt Vile                                                NaN                                                NaN\n",
            "date_created.2                                   2008-11-26 01:48:14                                2008-11-26 01:48:20                                2008-11-25 17:49:06                                2008-11-26 01:48:56                                2008-11-26 01:49:05\n",
            "date_recorded                                    2008-11-26 00:00:00                                2008-11-26 00:00:00                                2008-11-26 00:00:00                                2008-01-01 00:00:00                                2008-01-01 00:00:00\n",
            "duration                                                       237.0                                              206.0                                              161.0                                              311.0                                              181.0\n",
            "favorites.2                                                      1.0                                                6.0                                              178.0                                                0.0                                                0.0\n",
            "genre_top                                                    Hip-Hop                                            Hip-Hop                                                Pop                                                NaN                                                NaN\n",
            "genres                                                          [21]                                               [21]                                               [10]                                          [76, 103]                                          [76, 103]\n",
            "genres_all                                                      [21]                                               [21]                                               [10]                                  [17, 10, 76, 103]                                  [17, 10, 76, 103]\n",
            "information.1                                                    NaN                                                NaN                                                NaN                                                NaN                                                NaN\n",
            "interest                                                     1,470.0                                            1,933.0                                           54,881.0                                              978.0                                            1,060.0\n",
            "language_code                                                     en                                                 en                                                 en                                                 en                                                 en\n",
            "license            Attribution-NonCommercial-ShareAlike 3.0 Inter...  Attribution-NonCommercial-ShareAlike 3.0 Inter...  Attribution-NonCommercial-NoDerivatives (aka M...  Attribution-NonCommercial-NoDerivatives (aka M...  Attribution-NonCommercial-NoDerivatives (aka M...\n",
            "listens.1                                                      514.0                                            1,151.0                                           50,135.0                                              361.0                                              193.0\n",
            "lyricist                                                         NaN                                                NaN                                                NaN                                                NaN                                                NaN\n",
            "number                                                           4.0                                                6.0                                                1.0                                                3.0                                                4.0\n",
            "publisher                                                        NaN                                                NaN                                                NaN                                                NaN                                                NaN\n",
            "tags.2                                                            []                                                 []                                                 []                                                 []                                                 []\n",
            "title.1                                                 Electric Ave                                         This World                                            Freeway                                    Spiritual Level                                Where is your Love?\n",
            "------------------------------------------------------------\n",
            "df isnull().sum().sum():\n",
            "1673804\n",
            "------------------------------------------------------------\n",
            "df isna().sum().sort_values(ascending=False):\n",
            "lyricist             106262\n",
            "publisher            105310\n",
            "information.1        104224\n",
            "composer             102903\n",
            "active_year_end      101198\n",
            "wikipedia_page       100992\n",
            "date_recorded        100415\n",
            "related_projects      93422\n",
            "associated_labels     92302\n",
            "language_code         91550\n",
            "engineer              91278\n",
            "producer              88513\n",
            "active_year_begin     83863\n",
            "latitude              62030\n",
            "longitude             62030\n",
            "members               59725\n",
            "genre_top             56976\n",
            "location              36364\n",
            "date_released         36280\n",
            "bio                   35418\n",
            "website               27318\n",
            "information           23425\n",
            "type                   6508\n",
            "date_created           3529\n",
            "title                  1025\n",
            "date_created.1          856\n",
            "license                  87\n",
            "title.1                   1\n",
            "tracks                    0\n",
            "tags                      0\n",
            "comments.1                0\n",
            "listens                   0\n",
            "id                        0\n",
            "favorites                 0\n",
            "name                      0\n",
            "favorites.1               0\n",
            "duration                  0\n",
            "number                    0\n",
            "listens.1                 0\n",
            "interest                  0\n",
            "genres_all                0\n",
            "genres                    0\n",
            "favorites.2               0\n",
            "date_created.2            0\n",
            "id.1                      0\n",
            "comments.2                0\n",
            "bit_rate                  0\n",
            "subset                    0\n",
            "split                     0\n",
            "tags.1                    0\n",
            "tags.2                    0\n",
            "comments                  0\n",
            "dtype: int64\n",
            "------------------------------------------------------------\n",
            "columns[df.isna().any()].tolist():\n",
            "['date_created', 'date_released', 'engineer', 'information', 'producer', 'title', 'type', 'active_year_begin', 'active_year_end', 'associated_labels', 'bio', 'date_created.1', 'latitude', 'location', 'longitude', 'members', 'related_projects', 'website', 'wikipedia_page', 'composer', 'date_recorded', 'genre_top', 'information.1', 'language_code', 'license', 'lyricist', 'publisher', 'title.1']\n",
            "\n",
            "df corr().T:\n",
            "                         comments            favorites                    id               listens                tracks            comments.1           favorites.1                   id.1              latitude             longitude               bit_rate             comments.2               duration           favorites.2              interest             listens.1                number\n",
            "comments                      1.0    0.354863627485033  0.008534765350723138    0.8179004277146141   0.33818313876949746   0.10357452707406385   0.08307413824677731   0.011469306737129788  0.025466479894736882 -0.007486331497823245  -0.009305083595467528    0.13934089428108365   -0.03795375957749514   0.12349107005944476    0.1403555173890627    0.1916190658048338    0.0818474732510036\n",
            "favorites       0.354863627485033                  1.0  -0.04375758215600147    0.4353114725020422    0.1650156841650761    0.4519429457609951    0.4212722018115593   -0.03419205680493791  0.020980540895573704  -0.03716311712829643     0.0227617131767573    0.16351776012721678    -0.0647543019422162    0.4717484199182525   0.30632993469620756   0.42555909078061227   0.06633129146507577\n",
            "id           0.008534765350723138 -0.04375758215600147                   1.0   0.04016327440557917   0.09098673766045927   0.03117393126081455   0.07641423327990467     0.7684305607167152   0.06741492119485117   0.12233265289552842    0.27655086226007897  -0.016403038610236814   0.009387876023316644 -0.015707013526294063  0.003947249331866441   0.04105135143655178   0.09496562197457799\n",
            "listens        0.8179004277146141   0.4353114725020422   0.04016327440557917                   1.0    0.2461898924100812   0.20768389576864255   0.20473542995178837    0.03959987827096868 0.0019504979196682982  -0.04371807088714848   -0.02039790405034274    0.16522209834893067   -0.06389062170051102   0.21061338058414386   0.23121915521529274   0.32508625558304227   0.03380096082641935\n",
            "tracks        0.33818313876949746   0.1650156841650761   0.09098673766045927    0.2461898924100812                   1.0 -0.016273538198710386 -0.012087772612311382    0.06876127726848917   0.05467230837886364  0.005375416067476094   0.038797850174231416  0.0007764701911476958   -0.05693657280686189 -0.029768008964667914 -0.008293229636756426 -0.016939873517282746    0.5544394081435371\n",
            "comments.1    0.10357452707406385   0.4519429457609951   0.03117393126081455   0.20768389576864255 -0.016273538198710386                   1.0    0.8971506412889458    -0.0918413267503646   0.04991018859056504  -0.08080911855080017    0.06508727271703157    0.10327073596310703  -0.041212009814309704   0.34181241649354466    0.2266608454109086    0.3302296939942827  -0.04273925683660154\n",
            "favorites.1   0.08307413824677731   0.4212722018115593   0.07641423327990467   0.20473542995178837 -0.012087772612311382    0.8971506412889458                   1.0    -0.0754252134507981   0.05764680014345649  -0.11032862897161923    0.06995781412311684    0.08003221045430257     -0.051636328365234   0.31424000509483935   0.20726201640319378    0.3104062406520041  -0.04637232465713494\n",
            "id.1         0.011469306737129788 -0.03419205680493791    0.7684305607167152   0.03959987827096868   0.06876127726848917   -0.0918413267503646   -0.0754252134507981                    1.0   -0.0378896865814932   0.21941285786902845    0.23641420523723605 -0.0024509918771899045   0.012362263854231968 -0.007466199675365413 0.0052780406518597054   0.03409634061550318   0.07350353938699096\n",
            "latitude     0.025466479894736882 0.020980540895573704   0.06741492119485117 0.0019504979196682982   0.05467230837886364   0.04991018859056504   0.05764680014345649    -0.0378896865814932                   1.0   -0.1965193109300308    0.07279799261044197  0.0007498146547825185   0.009824260918747678 -0.003625308405083993 -0.005411760071306648 -0.009334584093394034   0.03909068326990501\n",
            "longitude   -0.007486331497823245 -0.03716311712829643   0.12233265289552842  -0.04371807088714848  0.005375416067476094  -0.08080911855080017  -0.11032862897161923    0.21941285786902845   -0.1965193109300308                   1.0    0.11481935785952196  -0.010260199874929068   0.031173512686637882  -0.01700744823200565  -0.01129561362500945 -0.014419921094811177   0.02773756556309862\n",
            "bit_rate    -0.009305083595467528   0.0227617131767573   0.27655086226007897  -0.02039790405034274  0.038797850174231416   0.06508727271703157   0.06995781412311684    0.23641420523723605   0.07279799261044197   0.11481935785952196                    1.0  -0.004792736692078552 -0.0002558353983819945  0.012424783198906976  0.006933021331557037  0.018810544115837966  0.046782070316509716\n",
            "comments.2    0.13934089428108365  0.16351776012721678 -0.016403038610236814   0.16522209834893067 0.0007764701911476958   0.10327073596310703   0.08003221045430257 -0.0024509918771899045 0.0007498146547825185 -0.010260199874929068  -0.004792736692078552                    1.0  -0.005850189116125171   0.48002392583423875    0.4612490087268414   0.37212274058666617 -0.023603376098076365\n",
            "duration     -0.03795375957749514  -0.0647543019422162  0.009387876023316644  -0.06389062170051102  -0.05693657280686189 -0.041212009814309704    -0.051636328365234   0.012362263854231968  0.009824260918747678  0.031173512686637882 -0.0002558353983819945  -0.005850189116125171                    1.0 -0.020862104258439505 -0.016853555056404308  -0.02248769361165912 -0.007800071161937313\n",
            "favorites.2   0.12349107005944476   0.4717484199182525 -0.015707013526294063   0.21061338058414386 -0.029768008964667914   0.34181241649354466   0.31424000509483935  -0.007466199675365413 -0.003625308405083993  -0.01700744823200565   0.012424783198906976    0.48002392583423875  -0.020862104258439505                   1.0    0.8081152118783589    0.8101285395990816  -0.04335915661192192\n",
            "interest       0.1403555173890627  0.30632993469620756  0.003947249331866441   0.23121915521529274 -0.008293229636756426    0.2266608454109086   0.20726201640319378  0.0052780406518597054 -0.005411760071306648  -0.01129561362500945   0.006933021331557037     0.4612490087268414  -0.016853555056404308    0.8081152118783589                   1.0    0.8337299235150992 -0.031506422652584624\n",
            "listens.1      0.1916190658048338  0.42555909078061227   0.04105135143655178   0.32508625558304227 -0.016939873517282746    0.3302296939942827    0.3104062406520041    0.03409634061550318 -0.009334584093394034 -0.014419921094811177   0.018810544115837966    0.37212274058666617   -0.02248769361165912    0.8101285395990816    0.8337299235150992                   1.0 -0.049831742833792145\n",
            "number         0.0818474732510036  0.06633129146507577   0.09496562197457799   0.03380096082641935    0.5544394081435371  -0.04273925683660154  -0.04637232465713494    0.07350353938699096   0.03909068326990501   0.02773756556309862   0.046782070316509716  -0.023603376098076365  -0.007800071161937313  -0.04335915661192192 -0.031506422652584624 -0.049831742833792145                   1.0\n",
            "\n",
            "df describe(include='all').T:\n",
            "                      count unique                                                top   freq                mean                 std         min                25%                50%       75%                max\n",
            "comments          106,573.0    NaN                                                NaN    NaN 0.39494994041642817   2.268925630150183        -1.0                0.0                0.0       0.0               53.0\n",
            "date_created         103044  14340                                2015-01-26 13:04:57    310                 NaN                 NaN         NaN                NaN                NaN       NaN                NaN\n",
            "date_released         70293   3669                                2008-01-01 00:00:00    667                 NaN                 NaN         NaN                NaN                NaN       NaN                NaN\n",
            "engineer              15295    622                                     Ernie Indradat    876                 NaN                 NaN         NaN                NaN                NaN       NaN                NaN\n",
            "favorites         106,573.0    NaN                                                NaN    NaN  1.2869019357623412  3.1330390519841402        -1.0                0.0                0.0       1.0               61.0\n",
            "id                106,573.0    NaN                                                NaN    NaN 12,827.054263274938  6,290.168617631452        -1.0            7,793.0           13,374.0  18,203.0           22,940.0\n",
            "information           83148  11075  <p class=\"p1\" style=\"margin: 0px; padding: 8px...    310                 NaN                 NaN         NaN                NaN                NaN       NaN                NaN\n",
            "listens           106,573.0    NaN                                                NaN    NaN 32,120.550589736613  147,853.8505523776        -1.0            3,361.0            8,982.0  23,635.0        3,564,243.0\n",
            "producer              18060    760                                         Joe Belock    855                 NaN                 NaN         NaN                NaN                NaN       NaN                NaN\n",
            "tags                 106573   2388                                                 []  83548                 NaN                 NaN         NaN                NaN                NaN       NaN                NaN\n",
            "title                105548  14298                                  microSong Entries    310                 NaN                 NaN         NaN                NaN                NaN       NaN                NaN\n",
            "tracks            106,573.0    NaN                                                NaN    NaN  19.721571129648222  39.943841613782595        -1.0                7.0               11.0      17.0              652.0\n",
            "type                 100065      5                                              Album  87548                 NaN                 NaN         NaN                NaN                NaN       NaN                NaN\n",
            "active_year_begin     22710     76                                2007-01-01 00:00:00   1789                 NaN                 NaN         NaN                NaN                NaN       NaN                NaN\n",
            "active_year_end        5375     57                                2016-01-01 00:00:00    479                 NaN                 NaN         NaN                NaN                NaN       NaN                NaN\n",
            "associated_labels     14271    754                                       HUSH Records    604                 NaN                 NaN         NaN                NaN                NaN       NaN                NaN\n",
            "bio                   71155   6084  <p><span style=\"color: #333333; font-family: G...    745                 NaN                 NaN         NaN                NaN                NaN       NaN                NaN\n",
            "comments.1        106,573.0    NaN                                                NaN    NaN  1.8947200510448237   6.297705938806581        -1.0                0.0                0.0       1.0               79.0\n",
            "date_created.1       105717  15970                                2013-03-31 02:17:41    745                 NaN                 NaN         NaN                NaN                NaN       NaN                NaN\n",
            "favorites.1       106,573.0    NaN                                                NaN    NaN   30.04211197958207  100.51185926638523        -1.0                1.0                5.0      16.0              963.0\n",
            "id.1              106,573.0    NaN                                                NaN    NaN  12,036.88333818134  6,881.354387498432         1.0            6,443.0           12,030.0  18,011.0           24,357.0\n",
            "latitude           44,543.0    NaN                                                NaN    NaN   39.90162281871409  18.241064251351375 -45.8787605         39.2713976          41.387917  48.85693          67.286005\n",
            "location              70209   2329                                       Brooklyn, NY   2327                 NaN                 NaN         NaN                NaN                NaN       NaN                NaN\n",
            "longitude          44,543.0    NaN                                                NaN    NaN   -38.6678394591543   65.23773300825563 -157.526855 -79.99745899999999 -73.55443100000001 4.3517103 175.27700000000002\n",
            "members               46848   4015                                  Konstantin Trokay    745                 NaN                 NaN         NaN                NaN                NaN       NaN                NaN\n",
            "name                 106573  16294                                            Kosta T    745                 NaN                 NaN         NaN                NaN                NaN       NaN                NaN\n",
            "related_projects      13151    752  Ratatat, Lullatone, Nightmares On Wax, Air, Mo...    604                 NaN                 NaN         NaN                NaN                NaN       NaN                NaN\n",
            "tags.1               106573  15660                                                 []   3061                 NaN                 NaN         NaN                NaN                NaN       NaN                NaN\n",
            "website               79255   6642           https://soundcloud.com/konstantin-trokay    745                 NaN                 NaN         NaN                NaN                NaN       NaN                NaN\n",
            "wikipedia_page         5581    389         http://en.wikipedia.org/wiki/Josh_Woodward    284                 NaN                 NaN         NaN                NaN                NaN       NaN                NaN\n",
            "split                106573      3                                           training  84352                 NaN                 NaN         NaN                NaN                NaN       NaN                NaN\n",
            "subset               106573      3                                              large  81574                 NaN                 NaN         NaN                NaN                NaN       NaN                NaN\n",
            "bit_rate          106,573.0    NaN                                                NaN    NaN  263,274.7633077796  67,623.75717808548        -1.0          192,000.0          299,921.0 320,000.0          448,000.0\n",
            "comments.2        106,573.0    NaN                                                NaN    NaN 0.03162151764518217  0.3219945249495119         0.0                0.0                0.0       0.0               37.0\n",
            "composer               3670    505                                  konstantin trokai    541                 NaN                 NaN         NaN                NaN                NaN       NaN                NaN\n",
            "date_created.2       106573  86169                                2009-03-05 09:45:49      4                 NaN                 NaN         NaN                NaN                NaN       NaN                NaN\n",
            "date_recorded          6158    773                                2008-11-26 00:00:00    699                 NaN                 NaN         NaN                NaN                NaN       NaN                NaN\n",
            "duration          106,573.0    NaN                                                NaN    NaN   277.8501308961932   305.5198014245817         0.0              149.0              216.0     305.0           18,350.0\n",
            "favorites.2       106,573.0    NaN                                                NaN    NaN  3.1825321610539254  13.513883384100325         0.0                0.0                1.0       3.0            1,482.0\n",
            "genre_top             49597     16                                               Rock  14182                 NaN                 NaN         NaN                NaN                NaN       NaN                NaN\n",
            "genres               106573   4768                                               [21]   2734                 NaN                 NaN         NaN                NaN                NaN       NaN                NaN\n",
            "genres_all           106573   4151                                               [21]   2734                 NaN                 NaN         NaN                NaN                NaN       NaN                NaN\n",
            "information.1          2349   1586  <p><a href=\"http://www.myspace.com/theshambler...     22                 NaN                 NaN         NaN                NaN                NaN       NaN                NaN\n",
            "interest          106,573.0    NaN                                                NaN    NaN 3,541.2997475908533 19,017.519807854904         2.0              599.0            1,314.0   3,059.0        3,293,557.0\n",
            "language_code         15023     44                                                 en  14254                 NaN                 NaN         NaN                NaN                NaN       NaN                NaN\n",
            "license              106486    113  Attribution-Noncommercial-Share Alike 3.0 Unit...  19250                 NaN                 NaN         NaN                NaN                NaN       NaN                NaN\n",
            "listens.1         106,573.0    NaN                                                NaN    NaN 2,329.3632721233334  8,028.107683930743         0.0              292.0              764.0   2,018.0          543,252.0\n",
            "lyricist                311     66                                      Apache Tomcat     44                 NaN                 NaN         NaN                NaN                NaN       NaN                NaN\n",
            "number            106,573.0    NaN                                                NaN    NaN    8.26099481106847  15.243334436062153         0.0                2.0                5.0       9.0              255.0\n",
            "publisher              1263    135                               Victrola Dog (ASCAP)    465                 NaN                 NaN         NaN                NaN                NaN       NaN                NaN\n",
            "tags.2               106573   2451                                                 []  83077                 NaN                 NaN         NaN                NaN                NaN       NaN                NaN\n",
            "title.1              106572  94986                                           Untitled    298                 NaN                 NaN         NaN                NaN                NaN       NaN                NaN\n",
            "\n"
          ],
          "name": "stdout"
        },
        {
          "output_type": "execute_result",
          "data": {
            "text/plain": [
              "(None, None, None)"
            ]
          },
          "metadata": {
            "tags": []
          },
          "execution_count": 158
        }
      ]
    },
    {
      "metadata": {
        "id": "5DvMPiM8MZeY",
        "colab_type": "code",
        "colab": {}
      },
      "cell_type": "code",
      "source": [
        "# More cleaning\n",
        "# list of columns with nan over 20,000\n",
        "df.isna().sum().sort_values(ascending=False).index\n",
        "nanList=['lyricist', 'publisher', 'information.1', 'composer', 'active_year_end', \n",
        "         'wikipedia_page', 'date_recorded', 'related_projects', 'associated_labels', \n",
        "         'language_code', 'engineer', 'producer', 'active_year_begin', 'latitude', \n",
        "         'longitude', 'members', 'location', 'date_released', 'bio', \n",
        "         'website', 'information']\n",
        "df= df.drop(nanList, axis=1)\n",
        "df= df.dropna()\n",
        "df.reset_index(drop=True, inplace=True)"
      ],
      "execution_count": 0,
      "outputs": []
    },
    {
      "metadata": {
        "id": "IqFSVTNt-J5C",
        "colab_type": "code",
        "outputId": "f26b1095-c056-4d6b-fc47-a75817945b8f",
        "colab": {
          "base_uri": "https://localhost:8080/",
          "height": 85
        }
      },
      "cell_type": "code",
      "source": [
        "\n",
        "print(df.genre_top.unique())\n",
        "print(len(df.genre_top.unique()))"
      ],
      "execution_count": 0,
      "outputs": [
        {
          "output_type": "stream",
          "text": [
            "['Hip-Hop' 'Pop' 'Rock' 'Experimental' 'Folk' 'Jazz' 'Electronic' 'Spoken'\n",
            " 'International' 'Soul-RnB' 'Blues' 'Country' 'Classical'\n",
            " 'Old-Time / Historic' 'Instrumental' 'Easy Listening']\n",
            "16\n"
          ],
          "name": "stdout"
        }
      ]
    },
    {
      "metadata": {
        "id": "l73L0mwxsZ3B",
        "colab_type": "code",
        "outputId": "f9f2b1b5-4900-4229-b1d5-ab06a8597d02",
        "colab": {
          "base_uri": "https://localhost:8080/",
          "height": 374
        }
      },
      "cell_type": "code",
      "source": [
        "# Setup data source for regression\n",
        "X = df._get_numeric_data() # only choose columns with numeric values\n",
        "y = df[['genre_top']].dropna().values\n",
        "print(X.columns.values)\n",
        "print(X.head(10).T)\n",
        "print(X.shape)\n",
        "print(y.shape)"
      ],
      "execution_count": 0,
      "outputs": [
        {
          "output_type": "stream",
          "text": [
            "['comments' 'favorites' 'id' 'listens' 'tracks' 'comments.1' 'favorites.1'\n",
            " 'id.1' 'bit_rate' 'comments.2' 'duration' 'favorites.2' 'interest'\n",
            " 'listens.1' 'number']\n",
            "                    0         1         2         3         4         5         6         7         8         9\n",
            "comments          0.0       0.0       0.0       0.0       1.0       1.0       1.0       1.0       0.0       1.0\n",
            "favorites         4.0       4.0       4.0       4.0       0.0       0.0       2.0       2.0       1.0       1.0\n",
            "id                1.0       1.0       6.0       1.0      58.0      58.0      59.0      59.0      60.0      61.0\n",
            "listens       6,073.0   6,073.0  47,632.0   6,073.0   3,331.0   3,331.0   1,681.0   1,681.0   1,304.0   1,300.0\n",
            "tracks            7.0       7.0       2.0       7.0       4.0       4.0       2.0       2.0       2.0       1.0\n",
            "comments.1        0.0       0.0       3.0       0.0       1.0       1.0       0.0       0.0       0.0       0.0\n",
            "favorites.1       9.0       9.0      74.0       9.0       0.0       0.0       5.0       5.0      11.0      11.0\n",
            "id.1              1.0       1.0       6.0       1.0      52.0      52.0      53.0      53.0      54.0      54.0\n",
            "bit_rate    256,000.0 256,000.0 192,000.0 256,000.0 256,000.0 256,000.0 256,000.0 256,000.0 128,000.0 128,000.0\n",
            "comments.2        0.0       0.0       0.0       0.0       1.0       1.0       0.0       0.0       0.0       0.0\n",
            "duration        237.0     206.0     161.0     207.0     837.0     509.0   1,233.0   1,231.0     296.0     253.0\n",
            "favorites.2       1.0       6.0     178.0       3.0       0.0       0.0       2.0       2.0       3.0       5.0\n",
            "interest      1,470.0   1,933.0  54,881.0   1,126.0   2,484.0   1,948.0   2,559.0   1,909.0     702.0   1,593.0\n",
            "listens.1       514.0   1,151.0  50,135.0     943.0   1,832.0   1,498.0   1,278.0     489.0     582.0   1,299.0\n",
            "number            4.0       6.0       1.0       5.0       0.0       0.0       1.0       2.0       2.0       2.0\n",
            "(47332, 15)\n",
            "(47332, 1)\n"
          ],
          "name": "stdout"
        }
      ]
    },
    {
      "metadata": {
        "id": "qvcZzjIY6Inq",
        "colab_type": "code",
        "outputId": "aa3ac145-bbb0-4ab4-e1df-eed6d1a9b0b3",
        "colab": {
          "base_uri": "https://localhost:8080/",
          "height": 122
        }
      },
      "cell_type": "code",
      "source": [
        "# test 1 - no training\n",
        "from sklearn.linear_model import LogisticRegression\n",
        "import numpy as np\n",
        "\n",
        "model = LogisticRegression(random_state=42, solver='lbfgs', multi_class='multinomial', max_iter=1000)\n",
        "model.fit(X,y)\n",
        "model.score(X,y)"
      ],
      "execution_count": 0,
      "outputs": [
        {
          "output_type": "stream",
          "text": [
            "/usr/local/lib/python3.6/dist-packages/sklearn/utils/validation.py:761: DataConversionWarning: A column-vector y was passed when a 1d array was expected. Please change the shape of y to (n_samples, ), for example using ravel().\n",
            "  y = column_or_1d(y, warn=True)\n",
            "/usr/local/lib/python3.6/dist-packages/sklearn/linear_model/logistic.py:758: ConvergenceWarning: lbfgs failed to converge. Increase the number of iterations.\n",
            "  \"of iterations.\", ConvergenceWarning)\n"
          ],
          "name": "stderr"
        },
        {
          "output_type": "execute_result",
          "data": {
            "text/plain": [
              "0.39104622665427197"
            ]
          },
          "metadata": {
            "tags": []
          },
          "execution_count": 163
        }
      ]
    },
    {
      "metadata": {
        "id": "te7tRCMgEr13",
        "colab_type": "code",
        "outputId": "5296f713-b3ee-4288-da85-c3e454375df3",
        "colab": {
          "base_uri": "https://localhost:8080/",
          "height": 224
        }
      },
      "cell_type": "code",
      "source": [
        "# test 2 - with training\n",
        "from sklearn.linear_model.logistic import LogisticRegression\n",
        "from sklearn.model_selection import train_test_split\n",
        "\n",
        "log_reg = LogisticRegression().fit(X, y)\n",
        "log_reg.score(X, y)\n",
        "\n",
        "Xtrain, Xtest, ytrain, ytest = train_test_split(X,y,test_size=0.5, random_state=42)\n",
        "\n",
        "model2 = LogisticRegression(random_state=42, solver = 'lbfgs', multi_class = 'multinomial', max_iter=1000)\n",
        "model2.fit(Xtrain, ytrain)\n",
        "model2.score(Xtest, ytest)"
      ],
      "execution_count": 0,
      "outputs": [
        {
          "output_type": "stream",
          "text": [
            "/usr/local/lib/python3.6/dist-packages/sklearn/linear_model/logistic.py:433: FutureWarning: Default solver will be changed to 'lbfgs' in 0.22. Specify a solver to silence this warning.\n",
            "  FutureWarning)\n",
            "/usr/local/lib/python3.6/dist-packages/sklearn/utils/validation.py:761: DataConversionWarning: A column-vector y was passed when a 1d array was expected. Please change the shape of y to (n_samples, ), for example using ravel().\n",
            "  y = column_or_1d(y, warn=True)\n",
            "/usr/local/lib/python3.6/dist-packages/sklearn/linear_model/logistic.py:460: FutureWarning: Default multi_class will be changed to 'auto' in 0.22. Specify the multi_class option to silence this warning.\n",
            "  \"this warning.\", FutureWarning)\n",
            "/usr/local/lib/python3.6/dist-packages/sklearn/utils/validation.py:761: DataConversionWarning: A column-vector y was passed when a 1d array was expected. Please change the shape of y to (n_samples, ), for example using ravel().\n",
            "  y = column_or_1d(y, warn=True)\n",
            "/usr/local/lib/python3.6/dist-packages/sklearn/linear_model/logistic.py:758: ConvergenceWarning: lbfgs failed to converge. Increase the number of iterations.\n",
            "  \"of iterations.\", ConvergenceWarning)\n"
          ],
          "name": "stderr"
        },
        {
          "output_type": "execute_result",
          "data": {
            "text/plain": [
              "0.3852362038367278"
            ]
          },
          "metadata": {
            "tags": []
          },
          "execution_count": 165
        }
      ]
    },
    {
      "metadata": {
        "id": "icx2Fd0QN79N",
        "colab_type": "code",
        "outputId": "a8d07f4f-89bc-4284-8c66-323facefd9d0",
        "colab": {
          "base_uri": "https://localhost:8080/",
          "height": 255
        }
      },
      "cell_type": "code",
      "source": [
        "X = df[['favorites','favorites.1','favorites.2','comments','comments.1','comments.2','number','tracks','duration']]\n",
        "y = df[['genre_top']].dropna().values\n",
        "print(X.columns.values)\n",
        "print(X.head(10).T)\n",
        "print(X.shape)\n",
        "print(y.shape)"
      ],
      "execution_count": 0,
      "outputs": [
        {
          "output_type": "stream",
          "text": [
            "['favorites' 'favorites.1' 'favorites.2' 'comments' 'comments.1'\n",
            " 'comments.2' 'number' 'tracks' 'duration']\n",
            "                0     1     2     3     4     5       6       7     8     9\n",
            "favorites     4.0   4.0   4.0   4.0   0.0   0.0     2.0     2.0   1.0   1.0\n",
            "favorites.1   9.0   9.0  74.0   9.0   0.0   0.0     5.0     5.0  11.0  11.0\n",
            "favorites.2   1.0   6.0 178.0   3.0   0.0   0.0     2.0     2.0   3.0   5.0\n",
            "comments      0.0   0.0   0.0   0.0   1.0   1.0     1.0     1.0   0.0   1.0\n",
            "comments.1    0.0   0.0   3.0   0.0   1.0   1.0     0.0     0.0   0.0   0.0\n",
            "comments.2    0.0   0.0   0.0   0.0   1.0   1.0     0.0     0.0   0.0   0.0\n",
            "number        4.0   6.0   1.0   5.0   0.0   0.0     1.0     2.0   2.0   2.0\n",
            "tracks        7.0   7.0   2.0   7.0   4.0   4.0     2.0     2.0   2.0   1.0\n",
            "duration    237.0 206.0 161.0 207.0 837.0 509.0 1,233.0 1,231.0 296.0 253.0\n",
            "(47332, 9)\n",
            "(47332, 1)\n"
          ],
          "name": "stdout"
        }
      ]
    },
    {
      "metadata": {
        "id": "QSs0VRj7Od1y",
        "colab_type": "code",
        "outputId": "dc78ad06-71e8-47c6-9293-052873f9042d",
        "colab": {
          "base_uri": "https://localhost:8080/",
          "height": 224
        }
      },
      "cell_type": "code",
      "source": [
        "# test 3 \n",
        "# mod: new dataset with training\n",
        "from sklearn.linear_model.logistic import LogisticRegression\n",
        "from sklearn.model_selection import train_test_split\n",
        "\n",
        "log_reg = LogisticRegression().fit(X, y)\n",
        "log_reg.score(X, y)\n",
        "\n",
        "Xtrain, Xtest, ytrain, ytest = train_test_split(X,y,test_size=0.5, random_state=42)\n",
        "\n",
        "model2 = LogisticRegression(random_state=42, solver = 'lbfgs', multi_class = 'multinomial', max_iter=1000)\n",
        "model2.fit(Xtrain, ytrain)\n",
        "model2.score(Xtest, ytest)"
      ],
      "execution_count": 0,
      "outputs": [
        {
          "output_type": "stream",
          "text": [
            "/usr/local/lib/python3.6/dist-packages/sklearn/linear_model/logistic.py:433: FutureWarning: Default solver will be changed to 'lbfgs' in 0.22. Specify a solver to silence this warning.\n",
            "  FutureWarning)\n",
            "/usr/local/lib/python3.6/dist-packages/sklearn/utils/validation.py:761: DataConversionWarning: A column-vector y was passed when a 1d array was expected. Please change the shape of y to (n_samples, ), for example using ravel().\n",
            "  y = column_or_1d(y, warn=True)\n",
            "/usr/local/lib/python3.6/dist-packages/sklearn/linear_model/logistic.py:460: FutureWarning: Default multi_class will be changed to 'auto' in 0.22. Specify the multi_class option to silence this warning.\n",
            "  \"this warning.\", FutureWarning)\n",
            "/usr/local/lib/python3.6/dist-packages/sklearn/utils/validation.py:761: DataConversionWarning: A column-vector y was passed when a 1d array was expected. Please change the shape of y to (n_samples, ), for example using ravel().\n",
            "  y = column_or_1d(y, warn=True)\n",
            "/usr/local/lib/python3.6/dist-packages/sklearn/linear_model/logistic.py:758: ConvergenceWarning: lbfgs failed to converge. Increase the number of iterations.\n",
            "  \"of iterations.\", ConvergenceWarning)\n"
          ],
          "name": "stderr"
        },
        {
          "output_type": "execute_result",
          "data": {
            "text/plain": [
              "0.3874757035409448"
            ]
          },
          "metadata": {
            "tags": []
          },
          "execution_count": 208
        }
      ]
    },
    {
      "metadata": {
        "id": "9dFM8aDJSSb-",
        "colab_type": "code",
        "outputId": "fbe8c8e4-34b5-48ee-f8d3-671b4a5a9c8e",
        "colab": {
          "base_uri": "https://localhost:8080/",
          "height": 255
        }
      },
      "cell_type": "code",
      "source": [
        "X = df[['favorites','favorites.1','favorites.2','comments','comments.1','comments.2','number','tracks','duration']]\n",
        "y = df[['genre_top']].dropna().values\n",
        "print(X.columns.values)\n",
        "print(X.head(10).T)\n",
        "print(X.shape)\n",
        "print(y.shape)"
      ],
      "execution_count": 0,
      "outputs": [
        {
          "output_type": "stream",
          "text": [
            "['favorites' 'favorites.1' 'favorites.2' 'comments' 'comments.1'\n",
            " 'comments.2' 'number' 'tracks' 'duration']\n",
            "                0     1     2     3     4     5       6       7     8     9\n",
            "favorites     4.0   4.0   4.0   4.0   0.0   0.0     2.0     2.0   1.0   1.0\n",
            "favorites.1   9.0   9.0  74.0   9.0   0.0   0.0     5.0     5.0  11.0  11.0\n",
            "favorites.2   1.0   6.0 178.0   3.0   0.0   0.0     2.0     2.0   3.0   5.0\n",
            "comments      0.0   0.0   0.0   0.0   1.0   1.0     1.0     1.0   0.0   1.0\n",
            "comments.1    0.0   0.0   3.0   0.0   1.0   1.0     0.0     0.0   0.0   0.0\n",
            "comments.2    0.0   0.0   0.0   0.0   1.0   1.0     0.0     0.0   0.0   0.0\n",
            "number        4.0   6.0   1.0   5.0   0.0   0.0     1.0     2.0   2.0   2.0\n",
            "tracks        7.0   7.0   2.0   7.0   4.0   4.0     2.0     2.0   2.0   1.0\n",
            "duration    237.0 206.0 161.0 207.0 837.0 509.0 1,233.0 1,231.0 296.0 253.0\n",
            "(47332, 9)\n",
            "(47332, 1)\n"
          ],
          "name": "stdout"
        }
      ]
    },
    {
      "metadata": {
        "id": "vrEYwyUHYVor",
        "colab_type": "code",
        "outputId": "dc8e58b7-57d3-4b86-9e99-bca35088528f",
        "colab": {
          "base_uri": "https://localhost:8080/",
          "height": 224
        }
      },
      "cell_type": "code",
      "source": [
        "# test 4\n",
        "# mod: new dataset with training\n",
        "from sklearn.linear_model.logistic import LogisticRegression\n",
        "from sklearn.model_selection import train_test_split\n",
        "\n",
        "log_reg = LogisticRegression().fit(X, y)\n",
        "log_reg.score(X, y)\n",
        "\n",
        "Xtrain, Xtest, ytrain, ytest = train_test_split(X,y,test_size=0.5, random_state=42)\n",
        "\n",
        "model2 = LogisticRegression(random_state=42, solver = 'lbfgs', multi_class = 'multinomial', max_iter=1000)\n",
        "model2.fit(Xtrain, ytrain)\n",
        "model2.score(Xtest, ytest)"
      ],
      "execution_count": 0,
      "outputs": [
        {
          "output_type": "stream",
          "text": [
            "/usr/local/lib/python3.6/dist-packages/sklearn/linear_model/logistic.py:433: FutureWarning: Default solver will be changed to 'lbfgs' in 0.22. Specify a solver to silence this warning.\n",
            "  FutureWarning)\n",
            "/usr/local/lib/python3.6/dist-packages/sklearn/utils/validation.py:761: DataConversionWarning: A column-vector y was passed when a 1d array was expected. Please change the shape of y to (n_samples, ), for example using ravel().\n",
            "  y = column_or_1d(y, warn=True)\n",
            "/usr/local/lib/python3.6/dist-packages/sklearn/linear_model/logistic.py:460: FutureWarning: Default multi_class will be changed to 'auto' in 0.22. Specify the multi_class option to silence this warning.\n",
            "  \"this warning.\", FutureWarning)\n",
            "/usr/local/lib/python3.6/dist-packages/sklearn/utils/validation.py:761: DataConversionWarning: A column-vector y was passed when a 1d array was expected. Please change the shape of y to (n_samples, ), for example using ravel().\n",
            "  y = column_or_1d(y, warn=True)\n",
            "/usr/local/lib/python3.6/dist-packages/sklearn/linear_model/logistic.py:758: ConvergenceWarning: lbfgs failed to converge. Increase the number of iterations.\n",
            "  \"of iterations.\", ConvergenceWarning)\n"
          ],
          "name": "stderr"
        },
        {
          "output_type": "execute_result",
          "data": {
            "text/plain": [
              "0.3874757035409448"
            ]
          },
          "metadata": {
            "tags": []
          },
          "execution_count": 212
        }
      ]
    },
    {
      "metadata": {
        "id": "Wq8n1aU5ZHk3",
        "colab_type": "code",
        "outputId": "30adea0f-1dc5-44e2-fb53-cf187e7f1c3f",
        "colab": {
          "base_uri": "https://localhost:8080/",
          "height": 122
        }
      },
      "cell_type": "code",
      "source": [
        "# test 4B\n",
        "# mod: new dataset with NO training\n",
        "model = LogisticRegression(random_state=42, solver='lbfgs', multi_class='multinomial', max_iter=1000)\n",
        "model.fit(X,y)\n",
        "model.score(X,y)"
      ],
      "execution_count": 0,
      "outputs": [
        {
          "output_type": "stream",
          "text": [
            "/usr/local/lib/python3.6/dist-packages/sklearn/utils/validation.py:761: DataConversionWarning: A column-vector y was passed when a 1d array was expected. Please change the shape of y to (n_samples, ), for example using ravel().\n",
            "  y = column_or_1d(y, warn=True)\n",
            "/usr/local/lib/python3.6/dist-packages/sklearn/linear_model/logistic.py:758: ConvergenceWarning: lbfgs failed to converge. Increase the number of iterations.\n",
            "  \"of iterations.\", ConvergenceWarning)\n"
          ],
          "name": "stderr"
        },
        {
          "output_type": "execute_result",
          "data": {
            "text/plain": [
              "0.39142651905687487"
            ]
          },
          "metadata": {
            "tags": []
          },
          "execution_count": 213
        }
      ]
    },
    {
      "metadata": {
        "id": "kQUVlUKQMPPW",
        "colab_type": "text"
      },
      "cell_type": "markdown",
      "source": [
        "This is the biggest data you've played with so far, and while it does generally fit in Colab, it can take awhile to run. That's part of the challenge!\n",
        "\n",
        "Your tasks:\n",
        "- Clean up the variable names in the dataframe\n",
        "- Use logistic regression to fit a model predicting (primary/top) genre\n",
        "- Inspect, iterate, and improve your model\n",
        "- Answer the following questions (written, ~paragraph each):\n",
        "  - What are the best predictors of genre?\n",
        "  - What information isn't very useful for predicting genre?\n",
        "  - What surprised you the most about your results?\n",
        "\n",
        "*Important caveats*:\n",
        "- This is going to be difficult data to work with - don't let the perfect be the enemy of the good!\n",
        "- Be creative in cleaning it up - if the best way you know how to do it is download it locally and edit as a spreadsheet, that's OK!\n",
        "- If the data size becomes problematic, consider sampling/subsetting\n",
        "- You do not need perfect or complete results - just something plausible that runs, and that supports the reasoning in your written answers\n",
        "\n",
        "If you find that fitting a model to classify *all* genres isn't very good, it's totally OK to limit to the most frequent genres, or perhaps trying to combine or cluster genres as a preprocessing step. Even then, there will be limits to how good a model can be with just this metadata - if you really want to train an effective genre classifier, you'll have to involve the other data (see stretch goals).\n",
        "\n",
        "This is real data - there is no \"one correct answer\", so you can take this in a variety of directions. Just make sure to support your findings, and feel free to share them as well! This is meant to be practice for dealing with other \"messy\" data, a common task in data science."
      ]
    },
    {
      "metadata": {
        "id": "wlI5OXfSag9C",
        "colab_type": "text"
      },
      "cell_type": "markdown",
      "source": [
        "## Resources and stretch goals\n",
        "\n",
        "- Check out the other .csv files from the FMA dataset, and see if you can join them or otherwise fit interesting models with them\n",
        "- [Logistic regression from scratch in numpy](https://blog.goodaudience.com/logistic-regression-from-scratch-in-numpy-5841c09e425f) - if you want to dig in a bit more to both the code and math (also takes a gradient descent approach, introducing the logistic loss function)\n",
        "- Create a visualization to show predictions of your model - ideally show a confidence interval based on error!\n",
        "- Check out and compare classification models from scikit-learn, such as [SVM](https://scikit-learn.org/stable/modules/svm.html#classification), [decision trees](https://scikit-learn.org/stable/modules/tree.html#classification), and [naive Bayes](https://scikit-learn.org/stable/modules/naive_bayes.html). The underlying math will vary significantly, but the API (how you write the code) and interpretation will actually be fairly similar.\n",
        "- Sign up for [Kaggle](https://kaggle.com), and find a competition to try logistic regression with\n",
        "- (Not logistic regression related) If you enjoyed the assignment, you may want to read up on [music informatics](https://en.wikipedia.org/wiki/Music_informatics), which is how those audio features were actually calculated. The FMA includes the actual raw audio, so (while this is more of a longterm project than a stretch goal, and won't fit in Colab) if you'd like you can check those out and see what sort of deeper analysis you can do."
      ]
    }
  ]
}