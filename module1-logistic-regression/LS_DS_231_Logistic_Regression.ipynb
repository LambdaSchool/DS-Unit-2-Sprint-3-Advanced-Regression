{
  "nbformat": 4,
  "nbformat_minor": 0,
  "metadata": {
    "colab": {
      "name": "LS_DS_231_Logistic_Regression.ipynb",
      "version": "0.3.2",
      "provenance": []
    },
    "kernelspec": {
      "name": "python3",
      "display_name": "Python 3"
    }
  },
  "cells": [
    {
      "metadata": {
        "id": "N7SXF6jEBd5_",
        "colab_type": "text"
      },
      "cell_type": "markdown",
      "source": [
        "# Lambda School Data Science - Logistic Regression\n",
        "\n",
        "Logistic regression is the baseline for classification models, as well as a handy way to predict probabilities (since those too live in the unit interval). While relatively simple, it is also the foundation for more sophisticated classification techniques such as neural networks (many of which can effectively be thought of as networks of logistic models)."
      ]
    },
    {
      "metadata": {
        "id": "cgzJMeRmqQF6",
        "colab_type": "code",
        "colab": {}
      },
      "cell_type": "code",
      "source": [
        "#Logistic models are CLASSIFICATION models\n",
        "#can predict non-continuous outputs\n",
        "#passes function through second Sigmoid function to give a (0,1) range to output\n",
        "#predict precentages, probabilities, bools, classes\n",
        "#x var, y var - features and labels"
      ],
      "execution_count": 0,
      "outputs": []
    },
    {
      "metadata": {
        "id": "W2BPDueltkdi",
        "colab_type": "text"
      },
      "cell_type": "markdown",
      "source": [
        "![logistic regression](https://www.totalprosports.com/wp-content/uploads/2016/03/horse-wearing-a-three-piece-suit-2.jpg)"
      ]
    },
    {
      "metadata": {
        "id": "E7-AOngjadRN",
        "colab_type": "text"
      },
      "cell_type": "markdown",
      "source": [
        "## Lecture - Where Linear goes Wrong\n",
        "### Return of the Titanic 🚢\n",
        "\n",
        "You've likely already explored the rich dataset that is the Titanic - let's use regression and try to predict survival with it. The data is [available from Kaggle](https://www.kaggle.com/c/titanic/data), so we'll also play a bit with [the Kaggle API](https://github.com/Kaggle/kaggle-api)."
      ]
    },
    {
      "metadata": {
        "id": "MnHLWPYDcyIe",
        "colab_type": "code",
        "outputId": "462d7b2a-2d08-480b-efcb-03c2f0b4a682",
        "colab": {
          "base_uri": "https://localhost:8080/",
          "height": 222
        }
      },
      "cell_type": "code",
      "source": [
        "!pip install kaggle"
      ],
      "execution_count": 1,
      "outputs": [
        {
          "output_type": "stream",
          "text": [
            "Requirement already satisfied: kaggle in /usr/local/lib/python3.6/dist-packages (1.5.3)\n",
            "Requirement already satisfied: urllib3<1.25,>=1.21.1 in /usr/local/lib/python3.6/dist-packages (from kaggle) (1.22)\n",
            "Requirement already satisfied: six>=1.10 in /usr/local/lib/python3.6/dist-packages (from kaggle) (1.11.0)\n",
            "Requirement already satisfied: certifi in /usr/local/lib/python3.6/dist-packages (from kaggle) (2018.11.29)\n",
            "Requirement already satisfied: python-dateutil in /usr/local/lib/python3.6/dist-packages (from kaggle) (2.5.3)\n",
            "Requirement already satisfied: requests in /usr/local/lib/python3.6/dist-packages (from kaggle) (2.18.4)\n",
            "Requirement already satisfied: tqdm in /usr/local/lib/python3.6/dist-packages (from kaggle) (4.28.1)\n",
            "Requirement already satisfied: python-slugify in /usr/local/lib/python3.6/dist-packages (from kaggle) (2.0.1)\n",
            "Requirement already satisfied: idna<2.7,>=2.5 in /usr/local/lib/python3.6/dist-packages (from requests->kaggle) (2.6)\n",
            "Requirement already satisfied: chardet<3.1.0,>=3.0.2 in /usr/local/lib/python3.6/dist-packages (from requests->kaggle) (3.0.4)\n",
            "Requirement already satisfied: Unidecode>=0.04.16 in /usr/local/lib/python3.6/dist-packages (from python-slugify->kaggle) (1.0.23)\n"
          ],
          "name": "stdout"
        }
      ]
    },
    {
      "metadata": {
        "id": "wPgce-jQc5zi",
        "colab_type": "code",
        "outputId": "d393905f-8ca1-41fa-e662-140b75bb711b",
        "colab": {
          "base_uri": "https://localhost:8080/",
          "height": 202
        }
      },
      "cell_type": "code",
      "source": [
        "# Note - you'll also have to sign up for Kaggle and authorize the API\n",
        "# https://github.com/Kaggle/kaggle-api#api-credentials\n",
        "\n",
        "# This essentially means uploading a kaggle.json file\n",
        "# For Colab we can have it in Google Drive\n",
        "from google.colab import drive\n",
        "drive.mount('/content/drive', force_remount=True)\n",
        "%env KAGGLE_CONFIG_DIR=/content/drive/My Drive/\n",
        "# You also have to join the Titanic competition to have access to the data\n",
        "!kaggle competitions download -c titanic"
      ],
      "execution_count": 19,
      "outputs": [
        {
          "output_type": "stream",
          "text": [
            "Mounted at /content/drive\n",
            "env: KAGGLE_CONFIG_DIR=/content/drive/My Drive/\n",
            "Downloading train.csv to /content\n",
            "  0% 0.00/59.8k [00:00<?, ?B/s]\n",
            "100% 59.8k/59.8k [00:00<00:00, 53.1MB/s]\n",
            "Downloading test.csv to /content\n",
            "  0% 0.00/28.0k [00:00<?, ?B/s]\n",
            "100% 28.0k/28.0k [00:00<00:00, 26.9MB/s]\n",
            "Downloading gender_submission.csv to /content\n",
            "  0% 0.00/3.18k [00:00<?, ?B/s]\n",
            "100% 3.18k/3.18k [00:00<00:00, 2.69MB/s]\n"
          ],
          "name": "stdout"
        }
      ]
    },
    {
      "metadata": {
        "id": "-PtztP8YlFym",
        "colab_type": "code",
        "outputId": "9b4fde44-c7b8-4b30-9dbf-886896ff156b",
        "colab": {
          "base_uri": "https://localhost:8080/",
          "height": 467
        }
      },
      "cell_type": "code",
      "source": [
        "# How would we try to do this with linear regression?\n",
        "import pandas as pd\n",
        "\n",
        "train_df = pd.read_csv('train.csv').dropna()\n",
        "test_df = pd.read_csv('test.csv').dropna()  # Unlabeled, for Kaggle submission\n",
        "\n",
        "train_df.head()"
      ],
      "execution_count": 20,
      "outputs": [
        {
          "output_type": "execute_result",
          "data": {
            "text/html": [
              "<div>\n",
              "<style scoped>\n",
              "    .dataframe tbody tr th:only-of-type {\n",
              "        vertical-align: middle;\n",
              "    }\n",
              "\n",
              "    .dataframe tbody tr th {\n",
              "        vertical-align: top;\n",
              "    }\n",
              "\n",
              "    .dataframe thead th {\n",
              "        text-align: right;\n",
              "    }\n",
              "</style>\n",
              "<table border=\"1\" class=\"dataframe\">\n",
              "  <thead>\n",
              "    <tr style=\"text-align: right;\">\n",
              "      <th></th>\n",
              "      <th>PassengerId</th>\n",
              "      <th>Survived</th>\n",
              "      <th>Pclass</th>\n",
              "      <th>Name</th>\n",
              "      <th>Sex</th>\n",
              "      <th>Age</th>\n",
              "      <th>SibSp</th>\n",
              "      <th>Parch</th>\n",
              "      <th>Ticket</th>\n",
              "      <th>Fare</th>\n",
              "      <th>Cabin</th>\n",
              "      <th>Embarked</th>\n",
              "    </tr>\n",
              "  </thead>\n",
              "  <tbody>\n",
              "    <tr>\n",
              "      <th>1</th>\n",
              "      <td>2</td>\n",
              "      <td>1</td>\n",
              "      <td>1</td>\n",
              "      <td>Cumings, Mrs. John Bradley (Florence Briggs Th...</td>\n",
              "      <td>female</td>\n",
              "      <td>38.0</td>\n",
              "      <td>1</td>\n",
              "      <td>0</td>\n",
              "      <td>PC 17599</td>\n",
              "      <td>71.2833</td>\n",
              "      <td>C85</td>\n",
              "      <td>C</td>\n",
              "    </tr>\n",
              "    <tr>\n",
              "      <th>3</th>\n",
              "      <td>4</td>\n",
              "      <td>1</td>\n",
              "      <td>1</td>\n",
              "      <td>Futrelle, Mrs. Jacques Heath (Lily May Peel)</td>\n",
              "      <td>female</td>\n",
              "      <td>35.0</td>\n",
              "      <td>1</td>\n",
              "      <td>0</td>\n",
              "      <td>113803</td>\n",
              "      <td>53.1000</td>\n",
              "      <td>C123</td>\n",
              "      <td>S</td>\n",
              "    </tr>\n",
              "    <tr>\n",
              "      <th>6</th>\n",
              "      <td>7</td>\n",
              "      <td>0</td>\n",
              "      <td>1</td>\n",
              "      <td>McCarthy, Mr. Timothy J</td>\n",
              "      <td>male</td>\n",
              "      <td>54.0</td>\n",
              "      <td>0</td>\n",
              "      <td>0</td>\n",
              "      <td>17463</td>\n",
              "      <td>51.8625</td>\n",
              "      <td>E46</td>\n",
              "      <td>S</td>\n",
              "    </tr>\n",
              "    <tr>\n",
              "      <th>10</th>\n",
              "      <td>11</td>\n",
              "      <td>1</td>\n",
              "      <td>3</td>\n",
              "      <td>Sandstrom, Miss. Marguerite Rut</td>\n",
              "      <td>female</td>\n",
              "      <td>4.0</td>\n",
              "      <td>1</td>\n",
              "      <td>1</td>\n",
              "      <td>PP 9549</td>\n",
              "      <td>16.7000</td>\n",
              "      <td>G6</td>\n",
              "      <td>S</td>\n",
              "    </tr>\n",
              "    <tr>\n",
              "      <th>11</th>\n",
              "      <td>12</td>\n",
              "      <td>1</td>\n",
              "      <td>1</td>\n",
              "      <td>Bonnell, Miss. Elizabeth</td>\n",
              "      <td>female</td>\n",
              "      <td>58.0</td>\n",
              "      <td>0</td>\n",
              "      <td>0</td>\n",
              "      <td>113783</td>\n",
              "      <td>26.5500</td>\n",
              "      <td>C103</td>\n",
              "      <td>S</td>\n",
              "    </tr>\n",
              "  </tbody>\n",
              "</table>\n",
              "</div>"
            ],
            "text/plain": [
              "    PassengerId  Survived  Pclass  \\\n",
              "1             2         1       1   \n",
              "3             4         1       1   \n",
              "6             7         0       1   \n",
              "10           11         1       3   \n",
              "11           12         1       1   \n",
              "\n",
              "                                                 Name     Sex   Age  SibSp  \\\n",
              "1   Cumings, Mrs. John Bradley (Florence Briggs Th...  female  38.0      1   \n",
              "3        Futrelle, Mrs. Jacques Heath (Lily May Peel)  female  35.0      1   \n",
              "6                             McCarthy, Mr. Timothy J    male  54.0      0   \n",
              "10                    Sandstrom, Miss. Marguerite Rut  female   4.0      1   \n",
              "11                           Bonnell, Miss. Elizabeth  female  58.0      0   \n",
              "\n",
              "    Parch    Ticket     Fare Cabin Embarked  \n",
              "1       0  PC 17599  71.2833   C85        C  \n",
              "3       0    113803  53.1000  C123        S  \n",
              "6       0     17463  51.8625   E46        S  \n",
              "10      1   PP 9549  16.7000    G6        S  \n",
              "11      0    113783  26.5500  C103        S  "
            ]
          },
          "metadata": {
            "tags": []
          },
          "execution_count": 20
        }
      ]
    },
    {
      "metadata": {
        "id": "Ey2ZHrGW_n_t",
        "colab_type": "code",
        "outputId": "eb1cf258-e99e-4bd8-f6cd-53df4d126965",
        "colab": {
          "base_uri": "https://localhost:8080/",
          "height": 304
        }
      },
      "cell_type": "code",
      "source": [
        "train_df.describe()"
      ],
      "execution_count": 21,
      "outputs": [
        {
          "output_type": "execute_result",
          "data": {
            "text/html": [
              "<div>\n",
              "<style scoped>\n",
              "    .dataframe tbody tr th:only-of-type {\n",
              "        vertical-align: middle;\n",
              "    }\n",
              "\n",
              "    .dataframe tbody tr th {\n",
              "        vertical-align: top;\n",
              "    }\n",
              "\n",
              "    .dataframe thead th {\n",
              "        text-align: right;\n",
              "    }\n",
              "</style>\n",
              "<table border=\"1\" class=\"dataframe\">\n",
              "  <thead>\n",
              "    <tr style=\"text-align: right;\">\n",
              "      <th></th>\n",
              "      <th>PassengerId</th>\n",
              "      <th>Survived</th>\n",
              "      <th>Pclass</th>\n",
              "      <th>Age</th>\n",
              "      <th>SibSp</th>\n",
              "      <th>Parch</th>\n",
              "      <th>Fare</th>\n",
              "    </tr>\n",
              "  </thead>\n",
              "  <tbody>\n",
              "    <tr>\n",
              "      <th>count</th>\n",
              "      <td>183.000000</td>\n",
              "      <td>183.000000</td>\n",
              "      <td>183.000000</td>\n",
              "      <td>183.000000</td>\n",
              "      <td>183.000000</td>\n",
              "      <td>183.000000</td>\n",
              "      <td>183.000000</td>\n",
              "    </tr>\n",
              "    <tr>\n",
              "      <th>mean</th>\n",
              "      <td>455.366120</td>\n",
              "      <td>0.672131</td>\n",
              "      <td>1.191257</td>\n",
              "      <td>35.674426</td>\n",
              "      <td>0.464481</td>\n",
              "      <td>0.475410</td>\n",
              "      <td>78.682469</td>\n",
              "    </tr>\n",
              "    <tr>\n",
              "      <th>std</th>\n",
              "      <td>247.052476</td>\n",
              "      <td>0.470725</td>\n",
              "      <td>0.515187</td>\n",
              "      <td>15.643866</td>\n",
              "      <td>0.644159</td>\n",
              "      <td>0.754617</td>\n",
              "      <td>76.347843</td>\n",
              "    </tr>\n",
              "    <tr>\n",
              "      <th>min</th>\n",
              "      <td>2.000000</td>\n",
              "      <td>0.000000</td>\n",
              "      <td>1.000000</td>\n",
              "      <td>0.920000</td>\n",
              "      <td>0.000000</td>\n",
              "      <td>0.000000</td>\n",
              "      <td>0.000000</td>\n",
              "    </tr>\n",
              "    <tr>\n",
              "      <th>25%</th>\n",
              "      <td>263.500000</td>\n",
              "      <td>0.000000</td>\n",
              "      <td>1.000000</td>\n",
              "      <td>24.000000</td>\n",
              "      <td>0.000000</td>\n",
              "      <td>0.000000</td>\n",
              "      <td>29.700000</td>\n",
              "    </tr>\n",
              "    <tr>\n",
              "      <th>50%</th>\n",
              "      <td>457.000000</td>\n",
              "      <td>1.000000</td>\n",
              "      <td>1.000000</td>\n",
              "      <td>36.000000</td>\n",
              "      <td>0.000000</td>\n",
              "      <td>0.000000</td>\n",
              "      <td>57.000000</td>\n",
              "    </tr>\n",
              "    <tr>\n",
              "      <th>75%</th>\n",
              "      <td>676.000000</td>\n",
              "      <td>1.000000</td>\n",
              "      <td>1.000000</td>\n",
              "      <td>47.500000</td>\n",
              "      <td>1.000000</td>\n",
              "      <td>1.000000</td>\n",
              "      <td>90.000000</td>\n",
              "    </tr>\n",
              "    <tr>\n",
              "      <th>max</th>\n",
              "      <td>890.000000</td>\n",
              "      <td>1.000000</td>\n",
              "      <td>3.000000</td>\n",
              "      <td>80.000000</td>\n",
              "      <td>3.000000</td>\n",
              "      <td>4.000000</td>\n",
              "      <td>512.329200</td>\n",
              "    </tr>\n",
              "  </tbody>\n",
              "</table>\n",
              "</div>"
            ],
            "text/plain": [
              "       PassengerId    Survived      Pclass         Age       SibSp  \\\n",
              "count   183.000000  183.000000  183.000000  183.000000  183.000000   \n",
              "mean    455.366120    0.672131    1.191257   35.674426    0.464481   \n",
              "std     247.052476    0.470725    0.515187   15.643866    0.644159   \n",
              "min       2.000000    0.000000    1.000000    0.920000    0.000000   \n",
              "25%     263.500000    0.000000    1.000000   24.000000    0.000000   \n",
              "50%     457.000000    1.000000    1.000000   36.000000    0.000000   \n",
              "75%     676.000000    1.000000    1.000000   47.500000    1.000000   \n",
              "max     890.000000    1.000000    3.000000   80.000000    3.000000   \n",
              "\n",
              "            Parch        Fare  \n",
              "count  183.000000  183.000000  \n",
              "mean     0.475410   78.682469  \n",
              "std      0.754617   76.347843  \n",
              "min      0.000000    0.000000  \n",
              "25%      0.000000   29.700000  \n",
              "50%      0.000000   57.000000  \n",
              "75%      1.000000   90.000000  \n",
              "max      4.000000  512.329200  "
            ]
          },
          "metadata": {
            "tags": []
          },
          "execution_count": 21
        }
      ]
    },
    {
      "metadata": {
        "id": "QiZn2p1K8DED",
        "colab_type": "code",
        "outputId": "fb34b4b1-24b8-44a2-df5f-1c77761d4960",
        "colab": {
          "base_uri": "https://localhost:8080/",
          "height": 34
        }
      },
      "cell_type": "code",
      "source": [
        "#Linear regression predicting survival depending on class, age, fare\n",
        "from sklearn.linear_model import LinearRegression\n",
        "\n",
        "X = train_df[['Pclass', 'Age', 'Fare']]\n",
        "y = train_df.Survived\n",
        "\n",
        "linear_reg = LinearRegression().fit(X, y)\n",
        "linear_reg.score(X, y)"
      ],
      "execution_count": 26,
      "outputs": [
        {
          "output_type": "execute_result",
          "data": {
            "text/plain": [
              "0.08389810726550917"
            ]
          },
          "metadata": {
            "tags": []
          },
          "execution_count": 26
        }
      ]
    },
    {
      "metadata": {
        "id": "8HsBb1hp_cev",
        "colab_type": "code",
        "outputId": "a621dedd-4a88-4d02-9b72-b84f9a384ffb",
        "colab": {
          "base_uri": "https://localhost:8080/",
          "height": 319
        }
      },
      "cell_type": "code",
      "source": [
        "linear_reg.predict(test_df[['Pclass', 'Age', 'Fare']])"
      ],
      "execution_count": 27,
      "outputs": [
        {
          "output_type": "execute_result",
          "data": {
            "text/plain": [
              "array([0.79543117, 0.58610823, 0.67595121, 0.793829  , 0.62090522,\n",
              "       0.72542107, 0.59848968, 0.58734245, 0.48567063, 0.77627736,\n",
              "       0.84211887, 0.57052439, 0.7754689 , 0.96621114, 0.70287941,\n",
              "       0.57673837, 0.72321391, 0.75894755, 0.77968041, 0.50246003,\n",
              "       0.49858077, 0.7474959 , 0.3542282 , 0.61648435, 0.71300224,\n",
              "       0.66294608, 0.53175333, 0.77397395, 0.68419387, 0.68395536,\n",
              "       0.52041202, 0.56814038, 0.79586606, 0.81372012, 0.61068545,\n",
              "       0.57260627, 0.52525981, 0.58055388, 0.45584728, 0.67976208,\n",
              "       0.8226707 , 0.84286197, 0.96189157, 0.66724612, 0.68589478,\n",
              "       0.61846513, 0.63455044, 0.68275686, 0.65738372, 0.45198998,\n",
              "       0.59988596, 0.63845908, 0.63132487, 0.7888473 , 0.60126246,\n",
              "       0.79714045, 0.78713803, 0.54643775, 0.42823635, 0.7711724 ,\n",
              "       0.53552976, 0.55608044, 0.54480459, 0.57031915, 0.65080369,\n",
              "       0.77958926, 0.6371013 , 0.70993488, 0.71493598, 0.60375943,\n",
              "       0.54407206, 0.48186138, 0.76576089, 0.75456305, 0.53968359,\n",
              "       0.53814461, 0.51431245, 0.80091026, 0.54231482, 0.8260362 ,\n",
              "       0.58660686, 0.77766767, 0.60296337, 0.70098322, 0.63455044,\n",
              "       0.68309915, 0.67573142])"
            ]
          },
          "metadata": {
            "tags": []
          },
          "execution_count": 27
        }
      ]
    },
    {
      "metadata": {
        "id": "fcxfpsjdFJwM",
        "colab_type": "code",
        "outputId": "352ab164-f5dc-4d65-ba2d-c2ead6d6a3d2",
        "colab": {
          "base_uri": "https://localhost:8080/",
          "height": 34
        }
      },
      "cell_type": "code",
      "source": [
        "linear_reg.coef_"
      ],
      "execution_count": 28,
      "outputs": [
        {
          "output_type": "execute_result",
          "data": {
            "text/plain": [
              "array([-0.08596295, -0.00829314,  0.00048775])"
            ]
          },
          "metadata": {
            "tags": []
          },
          "execution_count": 28
        }
      ]
    },
    {
      "metadata": {
        "id": "AFiisZU7_2Fr",
        "colab_type": "code",
        "outputId": "0d8fc0a0-47d2-430f-b9ed-411b91922b17",
        "colab": {
          "base_uri": "https://localhost:8080/",
          "height": 34
        }
      },
      "cell_type": "code",
      "source": [
        "#how well does this predict?\n",
        "#gives percentages over 100%\n",
        "import numpy as np\n",
        "\n",
        "test_case = np.array([[1, 5, 500]])  # Rich 5-year old in first class\n",
        "linear_reg.predict(test_case)"
      ],
      "execution_count": 29,
      "outputs": [
        {
          "output_type": "execute_result",
          "data": {
            "text/plain": [
              "array([1.14845883])"
            ]
          },
          "metadata": {
            "tags": []
          },
          "execution_count": 29
        }
      ]
    },
    {
      "metadata": {
        "id": "dpUm8Dl-u2aB",
        "colab_type": "code",
        "outputId": "3990820d-0704-4c29-8503-675aa23c646b",
        "colab": {
          "base_uri": "https://localhost:8080/",
          "height": 87
        }
      },
      "cell_type": "code",
      "source": [
        "#logistic regression with same conditions\n",
        "from sklearn.linear_model import LogisticRegression\n",
        "\n",
        "log_reg = LogisticRegression().fit(X, y)\n",
        "log_reg.score(X, y)"
      ],
      "execution_count": 30,
      "outputs": [
        {
          "output_type": "stream",
          "text": [
            "/usr/local/lib/python3.6/dist-packages/sklearn/linear_model/logistic.py:433: FutureWarning: Default solver will be changed to 'lbfgs' in 0.22. Specify a solver to silence this warning.\n",
            "  FutureWarning)\n"
          ],
          "name": "stderr"
        },
        {
          "output_type": "execute_result",
          "data": {
            "text/plain": [
              "0.7103825136612022"
            ]
          },
          "metadata": {
            "tags": []
          },
          "execution_count": 30
        }
      ]
    },
    {
      "metadata": {
        "id": "cUhr2c66F_th",
        "colab_type": "code",
        "outputId": "0f5cf596-94f6-4c64-f54a-1f50c8279d2b",
        "colab": {
          "base_uri": "https://localhost:8080/",
          "height": 84
        }
      },
      "cell_type": "code",
      "source": [
        "log_reg.predict(test_df[['Pclass', 'Age', 'Fare']])"
      ],
      "execution_count": 31,
      "outputs": [
        {
          "output_type": "execute_result",
          "data": {
            "text/plain": [
              "array([1, 1, 1, 1, 1, 1, 1, 1, 1, 1, 1, 1, 1, 1, 1, 1, 1, 1, 1, 0, 1, 1,\n",
              "       0, 1, 1, 1, 1, 1, 1, 1, 1, 1, 1, 1, 1, 1, 1, 1, 0, 1, 1, 1, 1, 1,\n",
              "       1, 1, 1, 1, 1, 0, 1, 1, 1, 1, 1, 1, 1, 1, 0, 1, 1, 1, 1, 1, 1, 1,\n",
              "       1, 1, 1, 1, 1, 0, 1, 1, 0, 1, 1, 1, 1, 1, 1, 1, 1, 1, 1, 1, 1])"
            ]
          },
          "metadata": {
            "tags": []
          },
          "execution_count": 31
        }
      ]
    },
    {
      "metadata": {
        "id": "r7xWwqBrFuWL",
        "colab_type": "code",
        "outputId": "c4297fdf-0fd1-45a7-ca5c-b9ddce7418db",
        "colab": {
          "base_uri": "https://localhost:8080/",
          "height": 34
        }
      },
      "cell_type": "code",
      "source": [
        "log_reg.predict(test_case)[0]"
      ],
      "execution_count": 32,
      "outputs": [
        {
          "output_type": "execute_result",
          "data": {
            "text/plain": [
              "1"
            ]
          },
          "metadata": {
            "tags": []
          },
          "execution_count": 32
        }
      ]
    },
    {
      "metadata": {
        "id": "IM8g42clF2-6",
        "colab_type": "code",
        "outputId": "cc91aced-5c9b-4236-a89d-59e4f9be1860",
        "colab": {
          "base_uri": "https://localhost:8080/",
          "height": 269
        }
      },
      "cell_type": "code",
      "source": [
        "help(log_reg.predict)"
      ],
      "execution_count": 33,
      "outputs": [
        {
          "output_type": "stream",
          "text": [
            "Help on method predict in module sklearn.linear_model.base:\n",
            "\n",
            "predict(X) method of sklearn.linear_model.logistic.LogisticRegression instance\n",
            "    Predict class labels for samples in X.\n",
            "    \n",
            "    Parameters\n",
            "    ----------\n",
            "    X : array_like or sparse matrix, shape (n_samples, n_features)\n",
            "        Samples.\n",
            "    \n",
            "    Returns\n",
            "    -------\n",
            "    C : array, shape [n_samples]\n",
            "        Predicted class label per sample.\n",
            "\n"
          ],
          "name": "stdout"
        }
      ]
    },
    {
      "metadata": {
        "id": "flF3pcMHGGWw",
        "colab_type": "code",
        "outputId": "b0a3fed9-4ac7-44bc-ad33-8a8d59af0926",
        "colab": {
          "base_uri": "https://localhost:8080/",
          "height": 34
        }
      },
      "cell_type": "code",
      "source": [
        "log_reg.predict_proba(test_case)[0]"
      ],
      "execution_count": 34,
      "outputs": [
        {
          "output_type": "execute_result",
          "data": {
            "text/plain": [
              "array([0.02485552, 0.97514448])"
            ]
          },
          "metadata": {
            "tags": []
          },
          "execution_count": 34
        }
      ]
    },
    {
      "metadata": {
        "id": "9Bq-54noR1uE",
        "colab_type": "code",
        "outputId": "3b82a330-260c-4fc1-87f8-5715a7cdd9a4",
        "colab": {
          "base_uri": "https://localhost:8080/",
          "height": 34
        }
      },
      "cell_type": "code",
      "source": [
        "# What's the math?\n",
        "log_reg.coef_"
      ],
      "execution_count": 35,
      "outputs": [
        {
          "output_type": "execute_result",
          "data": {
            "text/plain": [
              "array([[-0.0455017 , -0.02912513,  0.0048037 ]])"
            ]
          },
          "metadata": {
            "tags": []
          },
          "execution_count": 35
        }
      ]
    },
    {
      "metadata": {
        "id": "Tj0mNL7_XWNV",
        "colab_type": "code",
        "outputId": "c69a8591-54ed-4fce-b9f7-458cdf894034",
        "colab": {
          "base_uri": "https://localhost:8080/",
          "height": 34
        }
      },
      "cell_type": "code",
      "source": [
        "log_reg.intercept_"
      ],
      "execution_count": 36,
      "outputs": [
        {
          "output_type": "execute_result",
          "data": {
            "text/plain": [
              "array([1.45878264])"
            ]
          },
          "metadata": {
            "tags": []
          },
          "execution_count": 36
        }
      ]
    },
    {
      "metadata": {
        "id": "AroeYscqR75f",
        "colab_type": "code",
        "colab": {}
      },
      "cell_type": "code",
      "source": [
        "# The logistic sigmoid \"squishing\" function, implemented to accept numpy arrays\n",
        "def sigmoid(x):\n",
        "  return 1 / (1 + np.e**(-x))"
      ],
      "execution_count": 0,
      "outputs": []
    },
    {
      "metadata": {
        "id": "804BA7s0SggQ",
        "colab_type": "code",
        "outputId": "ebb50930-64db-41be-918a-c02c1de91280",
        "colab": {
          "base_uri": "https://localhost:8080/",
          "height": 34
        }
      },
      "cell_type": "code",
      "source": [
        "sigmoid(log_reg.intercept_ + np.dot(log_reg.coef_, np.transpose(test_case)))"
      ],
      "execution_count": 38,
      "outputs": [
        {
          "output_type": "execute_result",
          "data": {
            "text/plain": [
              "array([[0.97514448]])"
            ]
          },
          "metadata": {
            "tags": []
          },
          "execution_count": 38
        }
      ]
    },
    {
      "metadata": {
        "id": "uBSGY-R-Hf_b",
        "colab_type": "text"
      },
      "cell_type": "markdown",
      "source": [
        "So, clearly a more appropriate model in this situation! For more on the math, [see this Wikipedia example](https://en.wikipedia.org/wiki/Logistic_regression#Probability_of_passing_an_exam_versus_hours_of_study).\n",
        "\n",
        "For live - let's tackle [another classification dataset on absenteeism](http://archive.ics.uci.edu/ml/datasets/Absenteeism+at+work) - it has 21 classes, but remember, scikit-learn LogisticRegression automatically handles more than two classes. How? By essentially treating each label as different (1) from some base class (0)."
      ]
    },
    {
      "metadata": {
        "id": "qyDBpCM0G7Hv",
        "colab_type": "code",
        "colab": {
          "base_uri": "https://localhost:8080/",
          "height": 322
        },
        "outputId": "10c01cff-d1f3-4ee7-f24b-54e0a7787746"
      },
      "cell_type": "code",
      "source": [
        "# Live - let's try absenteeism!\n",
        "!wget http://archive.ics.uci.edu/ml/machine-learning-databases/00445/Absenteeism_at_work_AAA.zip\n",
        "!unzip Absenteeism_at_work_AAA.zip"
      ],
      "execution_count": 39,
      "outputs": [
        {
          "output_type": "stream",
          "text": [
            "--2019-02-25 18:19:34--  http://archive.ics.uci.edu/ml/machine-learning-databases/00445/Absenteeism_at_work_AAA.zip\n",
            "Resolving archive.ics.uci.edu (archive.ics.uci.edu)... 128.195.10.249\n",
            "Connecting to archive.ics.uci.edu (archive.ics.uci.edu)|128.195.10.249|:80... connected.\n",
            "HTTP request sent, awaiting response... 200 OK\n",
            "Length: 66136 (65K) [application/zip]\n",
            "Saving to: ‘Absenteeism_at_work_AAA.zip’\n",
            "\n",
            "Absenteeism_at_work 100%[===================>]  64.59K   179KB/s    in 0.4s    \n",
            "\n",
            "2019-02-25 18:19:34 (179 KB/s) - ‘Absenteeism_at_work_AAA.zip’ saved [66136/66136]\n",
            "\n",
            "Archive:  Absenteeism_at_work_AAA.zip\n",
            "  inflating: Absenteeism_at_work.arff  \n",
            "  inflating: Absenteeism_at_work.csv  \n",
            "  inflating: Absenteeism_at_work.xls  \n",
            "  inflating: Attribute Information.docx  \n",
            "  inflating: UCI_ABS_TEXT.docx       \n"
          ],
          "name": "stdout"
        }
      ]
    },
    {
      "metadata": {
        "id": "HefAx1Od4kEE",
        "colab_type": "code",
        "colab": {
          "base_uri": "https://localhost:8080/",
          "height": 205
        },
        "outputId": "fa4120c5-f19b-4c75-ca5f-5194c2a082d5"
      },
      "cell_type": "code",
      "source": [
        "!head Absenteeism_at_work.csv\n",
        "#mislabelled - semi seperated"
      ],
      "execution_count": 40,
      "outputs": [
        {
          "output_type": "stream",
          "text": [
            "ID;Reason for absence;Month of absence;Day of the week;Seasons;Transportation expense;Distance from Residence to Work;Service time;Age;Work load Average/day ;Hit target;Disciplinary failure;Education;Son;Social drinker;Social smoker;Pet;Weight;Height;Body mass index;Absenteeism time in hours\r\n",
            "11;26;7;3;1;289;36;13;33;239.554;97;0;1;2;1;0;1;90;172;30;4\r\n",
            "36;0;7;3;1;118;13;18;50;239.554;97;1;1;1;1;0;0;98;178;31;0\r\n",
            "3;23;7;4;1;179;51;18;38;239.554;97;0;1;0;1;0;0;89;170;31;2\r\n",
            "7;7;7;5;1;279;5;14;39;239.554;97;0;1;2;1;1;0;68;168;24;4\r\n",
            "11;23;7;5;1;289;36;13;33;239.554;97;0;1;2;1;0;1;90;172;30;2\r\n",
            "3;23;7;6;1;179;51;18;38;239.554;97;0;1;0;1;0;0;89;170;31;2\r\n",
            "10;22;7;6;1;361;52;3;28;239.554;97;0;1;1;1;0;4;80;172;27;8\r\n",
            "20;23;7;6;1;260;50;11;36;239.554;97;0;1;4;1;0;0;65;168;23;4\r\n",
            "14;19;7;2;1;155;12;14;34;239.554;97;0;1;2;1;0;0;95;196;25;40\r\n"
          ],
          "name": "stdout"
        }
      ]
    },
    {
      "metadata": {
        "id": "leo1rMMz49Tb",
        "colab_type": "code",
        "colab": {
          "base_uri": "https://localhost:8080/",
          "height": 266
        },
        "outputId": "c0129922-2cb3-4faf-cfbb-08217135f498"
      },
      "cell_type": "code",
      "source": [
        "pd.set_option('display.max_columns', 50)\n",
        "df = pd.read_csv('Absenteeism_at_work.csv', sep=';')\n",
        "df.head()"
      ],
      "execution_count": 42,
      "outputs": [
        {
          "output_type": "execute_result",
          "data": {
            "text/html": [
              "<div>\n",
              "<style scoped>\n",
              "    .dataframe tbody tr th:only-of-type {\n",
              "        vertical-align: middle;\n",
              "    }\n",
              "\n",
              "    .dataframe tbody tr th {\n",
              "        vertical-align: top;\n",
              "    }\n",
              "\n",
              "    .dataframe thead th {\n",
              "        text-align: right;\n",
              "    }\n",
              "</style>\n",
              "<table border=\"1\" class=\"dataframe\">\n",
              "  <thead>\n",
              "    <tr style=\"text-align: right;\">\n",
              "      <th></th>\n",
              "      <th>ID</th>\n",
              "      <th>Reason for absence</th>\n",
              "      <th>Month of absence</th>\n",
              "      <th>Day of the week</th>\n",
              "      <th>Seasons</th>\n",
              "      <th>Transportation expense</th>\n",
              "      <th>Distance from Residence to Work</th>\n",
              "      <th>Service time</th>\n",
              "      <th>Age</th>\n",
              "      <th>Work load Average/day</th>\n",
              "      <th>Hit target</th>\n",
              "      <th>Disciplinary failure</th>\n",
              "      <th>Education</th>\n",
              "      <th>Son</th>\n",
              "      <th>Social drinker</th>\n",
              "      <th>Social smoker</th>\n",
              "      <th>Pet</th>\n",
              "      <th>Weight</th>\n",
              "      <th>Height</th>\n",
              "      <th>Body mass index</th>\n",
              "      <th>Absenteeism time in hours</th>\n",
              "    </tr>\n",
              "  </thead>\n",
              "  <tbody>\n",
              "    <tr>\n",
              "      <th>0</th>\n",
              "      <td>11</td>\n",
              "      <td>26</td>\n",
              "      <td>7</td>\n",
              "      <td>3</td>\n",
              "      <td>1</td>\n",
              "      <td>289</td>\n",
              "      <td>36</td>\n",
              "      <td>13</td>\n",
              "      <td>33</td>\n",
              "      <td>239.554</td>\n",
              "      <td>97</td>\n",
              "      <td>0</td>\n",
              "      <td>1</td>\n",
              "      <td>2</td>\n",
              "      <td>1</td>\n",
              "      <td>0</td>\n",
              "      <td>1</td>\n",
              "      <td>90</td>\n",
              "      <td>172</td>\n",
              "      <td>30</td>\n",
              "      <td>4</td>\n",
              "    </tr>\n",
              "    <tr>\n",
              "      <th>1</th>\n",
              "      <td>36</td>\n",
              "      <td>0</td>\n",
              "      <td>7</td>\n",
              "      <td>3</td>\n",
              "      <td>1</td>\n",
              "      <td>118</td>\n",
              "      <td>13</td>\n",
              "      <td>18</td>\n",
              "      <td>50</td>\n",
              "      <td>239.554</td>\n",
              "      <td>97</td>\n",
              "      <td>1</td>\n",
              "      <td>1</td>\n",
              "      <td>1</td>\n",
              "      <td>1</td>\n",
              "      <td>0</td>\n",
              "      <td>0</td>\n",
              "      <td>98</td>\n",
              "      <td>178</td>\n",
              "      <td>31</td>\n",
              "      <td>0</td>\n",
              "    </tr>\n",
              "    <tr>\n",
              "      <th>2</th>\n",
              "      <td>3</td>\n",
              "      <td>23</td>\n",
              "      <td>7</td>\n",
              "      <td>4</td>\n",
              "      <td>1</td>\n",
              "      <td>179</td>\n",
              "      <td>51</td>\n",
              "      <td>18</td>\n",
              "      <td>38</td>\n",
              "      <td>239.554</td>\n",
              "      <td>97</td>\n",
              "      <td>0</td>\n",
              "      <td>1</td>\n",
              "      <td>0</td>\n",
              "      <td>1</td>\n",
              "      <td>0</td>\n",
              "      <td>0</td>\n",
              "      <td>89</td>\n",
              "      <td>170</td>\n",
              "      <td>31</td>\n",
              "      <td>2</td>\n",
              "    </tr>\n",
              "    <tr>\n",
              "      <th>3</th>\n",
              "      <td>7</td>\n",
              "      <td>7</td>\n",
              "      <td>7</td>\n",
              "      <td>5</td>\n",
              "      <td>1</td>\n",
              "      <td>279</td>\n",
              "      <td>5</td>\n",
              "      <td>14</td>\n",
              "      <td>39</td>\n",
              "      <td>239.554</td>\n",
              "      <td>97</td>\n",
              "      <td>0</td>\n",
              "      <td>1</td>\n",
              "      <td>2</td>\n",
              "      <td>1</td>\n",
              "      <td>1</td>\n",
              "      <td>0</td>\n",
              "      <td>68</td>\n",
              "      <td>168</td>\n",
              "      <td>24</td>\n",
              "      <td>4</td>\n",
              "    </tr>\n",
              "    <tr>\n",
              "      <th>4</th>\n",
              "      <td>11</td>\n",
              "      <td>23</td>\n",
              "      <td>7</td>\n",
              "      <td>5</td>\n",
              "      <td>1</td>\n",
              "      <td>289</td>\n",
              "      <td>36</td>\n",
              "      <td>13</td>\n",
              "      <td>33</td>\n",
              "      <td>239.554</td>\n",
              "      <td>97</td>\n",
              "      <td>0</td>\n",
              "      <td>1</td>\n",
              "      <td>2</td>\n",
              "      <td>1</td>\n",
              "      <td>0</td>\n",
              "      <td>1</td>\n",
              "      <td>90</td>\n",
              "      <td>172</td>\n",
              "      <td>30</td>\n",
              "      <td>2</td>\n",
              "    </tr>\n",
              "  </tbody>\n",
              "</table>\n",
              "</div>"
            ],
            "text/plain": [
              "   ID  Reason for absence  Month of absence  Day of the week  Seasons  \\\n",
              "0  11                  26                 7                3        1   \n",
              "1  36                   0                 7                3        1   \n",
              "2   3                  23                 7                4        1   \n",
              "3   7                   7                 7                5        1   \n",
              "4  11                  23                 7                5        1   \n",
              "\n",
              "   Transportation expense  Distance from Residence to Work  Service time  Age  \\\n",
              "0                     289                               36            13   33   \n",
              "1                     118                               13            18   50   \n",
              "2                     179                               51            18   38   \n",
              "3                     279                                5            14   39   \n",
              "4                     289                               36            13   33   \n",
              "\n",
              "   Work load Average/day   Hit target  Disciplinary failure  Education  Son  \\\n",
              "0                 239.554          97                     0          1    2   \n",
              "1                 239.554          97                     1          1    1   \n",
              "2                 239.554          97                     0          1    0   \n",
              "3                 239.554          97                     0          1    2   \n",
              "4                 239.554          97                     0          1    2   \n",
              "\n",
              "   Social drinker  Social smoker  Pet  Weight  Height  Body mass index  \\\n",
              "0               1              0    1      90     172               30   \n",
              "1               1              0    0      98     178               31   \n",
              "2               1              0    0      89     170               31   \n",
              "3               1              1    0      68     168               24   \n",
              "4               1              0    1      90     172               30   \n",
              "\n",
              "   Absenteeism time in hours  \n",
              "0                          4  \n",
              "1                          0  \n",
              "2                          2  \n",
              "3                          4  \n",
              "4                          2  "
            ]
          },
          "metadata": {
            "tags": []
          },
          "execution_count": 42
        }
      ]
    },
    {
      "metadata": {
        "id": "BesiDmE-5fBx",
        "colab_type": "code",
        "colab": {
          "base_uri": "https://localhost:8080/",
          "height": 504
        },
        "outputId": "2722e1cb-0b7b-4f38-e88c-97f2909bc622"
      },
      "cell_type": "code",
      "source": [
        "df['Reason for absence'].value_counts()\n",
        "#categorical variable\n",
        "#classes of types of absence"
      ],
      "execution_count": 46,
      "outputs": [
        {
          "output_type": "execute_result",
          "data": {
            "text/plain": [
              "23    149\n",
              "28    112\n",
              "27     69\n",
              "13     55\n",
              "0      43\n",
              "19     40\n",
              "22     38\n",
              "26     33\n",
              "25     31\n",
              "11     26\n",
              "10     25\n",
              "18     21\n",
              "14     19\n",
              "1      16\n",
              "7      15\n",
              "6       8\n",
              "12      8\n",
              "8       6\n",
              "21      6\n",
              "9       4\n",
              "5       3\n",
              "24      3\n",
              "16      3\n",
              "4       2\n",
              "15      2\n",
              "3       1\n",
              "2       1\n",
              "17      1\n",
              "Name: Reason for absence, dtype: int64"
            ]
          },
          "metadata": {
            "tags": []
          },
          "execution_count": 46
        }
      ]
    },
    {
      "metadata": {
        "id": "45GXbjrq6u_3",
        "colab_type": "code",
        "colab": {
          "base_uri": "https://localhost:8080/",
          "height": 353
        },
        "outputId": "388446ae-bdd3-4388-9947-2206b9933866"
      },
      "cell_type": "code",
      "source": [
        "df['Absenteeism time in hours'].value_counts()\n",
        "#not a categorical variable\n",
        "#its distribution is continuous"
      ],
      "execution_count": 47,
      "outputs": [
        {
          "output_type": "execute_result",
          "data": {
            "text/plain": [
              "8      208\n",
              "2      157\n",
              "3      112\n",
              "1       88\n",
              "4       60\n",
              "0       44\n",
              "16      19\n",
              "24      16\n",
              "40       7\n",
              "5        7\n",
              "32       6\n",
              "64       3\n",
              "80       3\n",
              "120      3\n",
              "112      2\n",
              "56       2\n",
              "48       1\n",
              "7        1\n",
              "104      1\n",
              "Name: Absenteeism time in hours, dtype: int64"
            ]
          },
          "metadata": {
            "tags": []
          },
          "execution_count": 47
        }
      ]
    },
    {
      "metadata": {
        "id": "JoE-KzFe7Xxq",
        "colab_type": "code",
        "colab": {}
      },
      "cell_type": "code",
      "source": [
        "X = df.drop(columns = ['ID', 'Reason for absence'])\n",
        "y = df['Reason for absence']"
      ],
      "execution_count": 0,
      "outputs": []
    },
    {
      "metadata": {
        "id": "VvEqCQ7C7-2w",
        "colab_type": "code",
        "colab": {
          "base_uri": "https://localhost:8080/",
          "height": 34
        },
        "outputId": "6ec76dcd-30e3-4f45-a500-1124cd24479d"
      },
      "cell_type": "code",
      "source": [
        "from sklearn.linear_model.logistic import LogisticRegression\n",
        "model = LogisticRegression(random_state=42, solver = 'lbfgs',\n",
        "                           multi_class = 'multinomial', max_iter=10000)\n",
        "model.fit(X,y)\n",
        "model.score(X,y) #50% likely to fit in right class\n",
        "#warnings: specify solver and multiclass\n",
        "#this way model is optimized to be multinomial and use grad descent\n",
        "#warnings: no min (didn't converge) when solver = lbfgs\n",
        "#change num of iterations"
      ],
      "execution_count": 62,
      "outputs": [
        {
          "output_type": "execute_result",
          "data": {
            "text/plain": [
              "0.5121621621621621"
            ]
          },
          "metadata": {
            "tags": []
          },
          "execution_count": 62
        }
      ]
    },
    {
      "metadata": {
        "id": "ay0H0Ddr-V_j",
        "colab_type": "code",
        "colab": {
          "base_uri": "https://localhost:8080/",
          "height": 34
        },
        "outputId": "09ec1faf-bce6-47b7-a1e2-077f1cdc2a8c"
      },
      "cell_type": "code",
      "source": [
        "from sklearn.model_selection import train_test_split\n",
        "Xtrain, Xtest, ytrain, ytest = train_test_split(X,y,test_size=0.2, random_state=42)\n",
        "\n",
        "model2 = LogisticRegression(random_state=42, solver = 'lbfgs',\n",
        "                           multi_class = 'multinomial', max_iter=8000)\n",
        "\n",
        "model2.fit(Xtrain, ytrain)\n",
        "model2.score(Xtest, ytest)\n",
        "#we are looking for score. Don't worry.\n",
        "#the low score for a badly formulated question like predicting health conditions\n",
        "#is reassuring, really"
      ],
      "execution_count": 63,
      "outputs": [
        {
          "output_type": "execute_result",
          "data": {
            "text/plain": [
              "0.3716216216216216"
            ]
          },
          "metadata": {
            "tags": []
          },
          "execution_count": 63
        }
      ]
    },
    {
      "metadata": {
        "id": "oFeAmmRdAwD6",
        "colab_type": "code",
        "colab": {
          "base_uri": "https://localhost:8080/",
          "height": 168
        },
        "outputId": "2891600e-792c-439b-98c9-e97f2893470d"
      },
      "cell_type": "code",
      "source": [
        "predictions = model2.predict(Xtest)\n",
        "predictions"
      ],
      "execution_count": 64,
      "outputs": [
        {
          "output_type": "execute_result",
          "data": {
            "text/plain": [
              "array([27, 23, 15, 23, 27, 23, 23, 13, 22, 28,  0,  0, 23, 13,  0,  1, 23,\n",
              "       23, 14, 28, 22, 23, 13,  0, 23, 28, 28, 27, 23, 13, 24, 23, 24, 28,\n",
              "       23, 28, 23, 23, 13, 19, 22, 22, 22, 28, 23, 27, 26, 19, 23, 23, 27,\n",
              "       18, 23, 28, 25,  0, 28,  0, 21, 19, 11, 28, 13,  7, 26, 19, 23, 28,\n",
              "       27, 13, 27, 22, 13, 16, 23, 10, 23, 27, 10, 10, 28, 23, 13, 22, 22,\n",
              "       27, 28, 18, 22, 10, 28,  0, 23, 28, 23, 27, 23, 10, 27, 11, 23,  7,\n",
              "       14, 23, 27, 27, 22, 27,  0, 27, 26, 25, 28, 28, 13, 10, 27, 23, 14,\n",
              "       19, 23, 23, 26, 28, 27, 23,  0, 23, 22, 23, 27, 23, 27, 28,  5, 18,\n",
              "       26, 23, 23, 23, 23, 28, 19, 23, 27, 27, 23, 23])"
            ]
          },
          "metadata": {
            "tags": []
          },
          "execution_count": 64
        }
      ]
    },
    {
      "metadata": {
        "id": "C2gCa_lXA5Um",
        "colab_type": "code",
        "colab": {
          "base_uri": "https://localhost:8080/",
          "height": 353
        },
        "outputId": "ae01d319-b45b-4b34-b388-e7990a0a450e"
      },
      "cell_type": "code",
      "source": [
        "from collections import Counter\n",
        "Counter(predictions)"
      ],
      "execution_count": 65,
      "outputs": [
        {
          "output_type": "execute_result",
          "data": {
            "text/plain": [
              "Counter({0: 9,\n",
              "         1: 1,\n",
              "         5: 1,\n",
              "         7: 2,\n",
              "         10: 6,\n",
              "         11: 2,\n",
              "         13: 10,\n",
              "         14: 3,\n",
              "         15: 1,\n",
              "         16: 1,\n",
              "         18: 3,\n",
              "         19: 6,\n",
              "         21: 1,\n",
              "         22: 11,\n",
              "         23: 41,\n",
              "         24: 2,\n",
              "         25: 2,\n",
              "         26: 5,\n",
              "         27: 21,\n",
              "         28: 20})"
            ]
          },
          "metadata": {
            "tags": []
          },
          "execution_count": 65
        }
      ]
    },
    {
      "metadata": {
        "id": "Zt2NZshXA_9_",
        "colab_type": "code",
        "colab": {
          "base_uri": "https://localhost:8080/",
          "height": 67
        },
        "outputId": "2e8aad1b-9e6f-4552-837b-ff02ef0fc352"
      },
      "cell_type": "code",
      "source": [
        "#test case\n",
        "#import numpy as np\n",
        "one_row = np.array(Xtest.iloc[0])\n",
        "one_row"
      ],
      "execution_count": 67,
      "outputs": [
        {
          "output_type": "execute_result",
          "data": {
            "text/plain": [
              "array([  1.   ,   6.   ,   2.   , 225.   ,  26.   ,   9.   ,  28.   ,\n",
              "       308.593,  95.   ,   0.   ,   1.   ,   1.   ,   0.   ,   0.   ,\n",
              "         2.   ,  69.   , 169.   ,  24.   ,   1.   ])"
            ]
          },
          "metadata": {
            "tags": []
          },
          "execution_count": 67
        }
      ]
    },
    {
      "metadata": {
        "id": "yW8hmSunBUve",
        "colab_type": "code",
        "colab": {
          "base_uri": "https://localhost:8080/",
          "height": 34
        },
        "outputId": "3e5affba-0f52-49df-bb7e-098f9c977e23"
      },
      "cell_type": "code",
      "source": [
        "print(model2.predict(one_row.reshape(1,-1)))\n",
        "#same as first value in full predictions array"
      ],
      "execution_count": 68,
      "outputs": [
        {
          "output_type": "stream",
          "text": [
            "[27]\n"
          ],
          "name": "stdout"
        }
      ]
    },
    {
      "metadata": {
        "id": "iblW74C8afuR",
        "colab_type": "text"
      },
      "cell_type": "markdown",
      "source": [
        "## Assignment - real-world classification\n",
        "\n",
        "We're going to check out a larger dataset - the [FMA Free Music Archive data](https://github.com/mdeff/fma). It has a selection of CSVs with metadata and calculated audio features that you can load and try to use to classify genre of tracks. To get you started:"
      ]
    },
    {
      "metadata": {
        "id": "8uWAFDsNCy4o",
        "colab_type": "code",
        "colab": {}
      },
      "cell_type": "code",
      "source": [
        "#Assignment - metadata from music tracks extracted from wav\n",
        "#need to clean - might need to directly edit csv\n",
        "#predict genre from metadata\n",
        "#what are the best predictors for genre?\n",
        "#what isn't useful for predicting genre?\n",
        "#what surprised me about predictions?"
      ],
      "execution_count": 0,
      "outputs": []
    },
    {
      "metadata": {
        "id": "SsySnuKaKtQf",
        "colab_type": "code",
        "outputId": "251c9b9c-e8be-4b8f-e316-7f3749b973f4",
        "colab": {
          "base_uri": "https://localhost:8080/",
          "height": 339
        }
      },
      "cell_type": "code",
      "source": [
        "!wget https://os.unil.cloud.switch.ch/fma/fma_metadata.zip\n",
        "!unzip fma_metadata.zip"
      ],
      "execution_count": 88,
      "outputs": [
        {
          "output_type": "stream",
          "text": [
            "--2019-02-25 20:55:44--  https://os.unil.cloud.switch.ch/fma/fma_metadata.zip\n",
            "Resolving os.unil.cloud.switch.ch (os.unil.cloud.switch.ch)... 86.119.28.13, 2001:620:5ca1:2ff::ce53\n",
            "Connecting to os.unil.cloud.switch.ch (os.unil.cloud.switch.ch)|86.119.28.13|:443... connected.\n",
            "HTTP request sent, awaiting response... 200 OK\n",
            "Length: 358412441 (342M) [application/zip]\n",
            "Saving to: ‘fma_metadata.zip.1’\n",
            "\n",
            "fma_metadata.zip.1  100%[===================>] 341.81M  24.4MB/s    in 15s     \n",
            "\n",
            "2019-02-25 20:56:00 (22.7 MB/s) - ‘fma_metadata.zip.1’ saved [358412441/358412441]\n",
            "\n",
            "Archive:  fma_metadata.zip\n",
            "replace fma_metadata/README.txt? [y]es, [n]o, [A]ll, [N]one, [r]ename: n\n",
            "replace fma_metadata/checksums? [y]es, [n]o, [A]ll, [N]one, [r]ename: y\n",
            " bunzipping: fma_metadata/checksums  \n",
            "replace fma_metadata/not_found.pickle? [y]es, [n]o, [A]ll, [N]one, [r]ename: y\n",
            " bunzipping: fma_metadata/not_found.pickle  \n",
            "replace fma_metadata/raw_genres.csv? [y]es, [n]o, [A]ll, [N]one, [r]ename: "
          ],
          "name": "stdout"
        }
      ]
    },
    {
      "metadata": {
        "id": "VbUJKyI1LRwD",
        "colab_type": "code",
        "outputId": "00d60774-4043-4405-d64e-f2408634b877",
        "colab": {
          "base_uri": "https://localhost:8080/",
          "height": 104
        }
      },
      "cell_type": "code",
      "source": [
        "tracks = pd.read_csv('fma_metadata/tracks.csv', names=tracks.iloc[1]) #mixed type warning"
      ],
      "execution_count": 91,
      "outputs": [
        {
          "output_type": "stream",
          "text": [
            "/usr/local/lib/python3.6/dist-packages/pandas/io/parsers.py:709: UserWarning: Duplicate names specified. This will raise an error in the future.\n",
            "  return _read(filepath_or_buffer, kwds)\n",
            "/usr/local/lib/python3.6/dist-packages/IPython/core/interactiveshell.py:2718: DtypeWarning: Columns (0,1,5,6,8,12,18,20,21,22,24,33,34,38,39,44,47,49) have mixed types. Specify dtype option on import or set low_memory=False.\n",
            "  interactivity=interactivity, compiler=compiler, result=result)\n"
          ],
          "name": "stderr"
        }
      ]
    },
    {
      "metadata": {
        "id": "XIskOQvFcKwb",
        "colab_type": "code",
        "colab": {
          "base_uri": "https://localhost:8080/",
          "height": 417
        },
        "outputId": "c33c53e4-6010-4f13-f63c-a2bd0458dfe3"
      },
      "cell_type": "code",
      "source": [
        "tracks.head()"
      ],
      "execution_count": 92,
      "outputs": [
        {
          "output_type": "execute_result",
          "data": {
            "text/html": [
              "<div>\n",
              "<style scoped>\n",
              "    .dataframe tbody tr th:only-of-type {\n",
              "        vertical-align: middle;\n",
              "    }\n",
              "\n",
              "    .dataframe tbody tr th {\n",
              "        vertical-align: top;\n",
              "    }\n",
              "\n",
              "    .dataframe thead th {\n",
              "        text-align: right;\n",
              "    }\n",
              "</style>\n",
              "<table border=\"1\" class=\"dataframe\">\n",
              "  <thead>\n",
              "    <tr style=\"text-align: right;\">\n",
              "      <th></th>\n",
              "      <th>nan</th>\n",
              "      <th>comments</th>\n",
              "      <th>date_created</th>\n",
              "      <th>date_released</th>\n",
              "      <th>engineer</th>\n",
              "      <th>favorites</th>\n",
              "      <th>id</th>\n",
              "      <th>information</th>\n",
              "      <th>listens</th>\n",
              "      <th>producer</th>\n",
              "      <th>tags</th>\n",
              "      <th>title</th>\n",
              "      <th>tracks</th>\n",
              "      <th>type</th>\n",
              "      <th>active_year_begin</th>\n",
              "      <th>active_year_end</th>\n",
              "      <th>associated_labels</th>\n",
              "      <th>bio</th>\n",
              "      <th>comments.1</th>\n",
              "      <th>date_created.1</th>\n",
              "      <th>favorites.1</th>\n",
              "      <th>id.1</th>\n",
              "      <th>latitude</th>\n",
              "      <th>location</th>\n",
              "      <th>longitude</th>\n",
              "      <th>members</th>\n",
              "      <th>name</th>\n",
              "      <th>related_projects</th>\n",
              "      <th>tags.1</th>\n",
              "      <th>website</th>\n",
              "      <th>wikipedia_page</th>\n",
              "      <th>split</th>\n",
              "      <th>subset</th>\n",
              "      <th>bit_rate</th>\n",
              "      <th>comments.2</th>\n",
              "      <th>composer</th>\n",
              "      <th>date_created.2</th>\n",
              "      <th>date_recorded</th>\n",
              "      <th>duration</th>\n",
              "      <th>favorites.2</th>\n",
              "      <th>genre_top</th>\n",
              "      <th>genres</th>\n",
              "      <th>genres_all</th>\n",
              "      <th>information.1</th>\n",
              "      <th>interest</th>\n",
              "      <th>language_code</th>\n",
              "      <th>license</th>\n",
              "      <th>listens.1</th>\n",
              "      <th>lyricist</th>\n",
              "      <th>number</th>\n",
              "      <th>publisher</th>\n",
              "      <th>tags.2</th>\n",
              "      <th>title.1</th>\n",
              "      <th>nan</th>\n",
              "    </tr>\n",
              "  </thead>\n",
              "  <tbody>\n",
              "    <tr>\n",
              "      <th>0</th>\n",
              "      <td>NaN</td>\n",
              "      <td>album</td>\n",
              "      <td>album</td>\n",
              "      <td>album</td>\n",
              "      <td>album</td>\n",
              "      <td>album</td>\n",
              "      <td>album</td>\n",
              "      <td>album</td>\n",
              "      <td>album</td>\n",
              "      <td>album</td>\n",
              "      <td>album</td>\n",
              "      <td>album</td>\n",
              "      <td>album</td>\n",
              "      <td>album</td>\n",
              "      <td>artist</td>\n",
              "      <td>artist</td>\n",
              "      <td>artist</td>\n",
              "      <td>artist</td>\n",
              "      <td>artist</td>\n",
              "      <td>artist</td>\n",
              "      <td>artist</td>\n",
              "      <td>artist</td>\n",
              "      <td>artist</td>\n",
              "      <td>artist</td>\n",
              "      <td>artist</td>\n",
              "      <td>artist</td>\n",
              "      <td>artist</td>\n",
              "      <td>artist</td>\n",
              "      <td>artist</td>\n",
              "      <td>artist</td>\n",
              "      <td>artist</td>\n",
              "      <td>set</td>\n",
              "      <td>set</td>\n",
              "      <td>track</td>\n",
              "      <td>track</td>\n",
              "      <td>track</td>\n",
              "      <td>track</td>\n",
              "      <td>track</td>\n",
              "      <td>track</td>\n",
              "      <td>track</td>\n",
              "      <td>track</td>\n",
              "      <td>track</td>\n",
              "      <td>track</td>\n",
              "      <td>track</td>\n",
              "      <td>track</td>\n",
              "      <td>track</td>\n",
              "      <td>track</td>\n",
              "      <td>track</td>\n",
              "      <td>track</td>\n",
              "      <td>track</td>\n",
              "      <td>track</td>\n",
              "      <td>track</td>\n",
              "      <td>track</td>\n",
              "      <td>NaN</td>\n",
              "    </tr>\n",
              "    <tr>\n",
              "      <th>1</th>\n",
              "      <td>NaN</td>\n",
              "      <td>comments</td>\n",
              "      <td>date_created</td>\n",
              "      <td>date_released</td>\n",
              "      <td>engineer</td>\n",
              "      <td>favorites</td>\n",
              "      <td>id</td>\n",
              "      <td>information</td>\n",
              "      <td>listens</td>\n",
              "      <td>producer</td>\n",
              "      <td>tags</td>\n",
              "      <td>title</td>\n",
              "      <td>tracks</td>\n",
              "      <td>type</td>\n",
              "      <td>active_year_begin</td>\n",
              "      <td>active_year_end</td>\n",
              "      <td>associated_labels</td>\n",
              "      <td>bio</td>\n",
              "      <td>comments</td>\n",
              "      <td>date_created</td>\n",
              "      <td>favorites</td>\n",
              "      <td>id</td>\n",
              "      <td>latitude</td>\n",
              "      <td>location</td>\n",
              "      <td>longitude</td>\n",
              "      <td>members</td>\n",
              "      <td>name</td>\n",
              "      <td>related_projects</td>\n",
              "      <td>tags</td>\n",
              "      <td>website</td>\n",
              "      <td>wikipedia_page</td>\n",
              "      <td>split</td>\n",
              "      <td>subset</td>\n",
              "      <td>bit_rate</td>\n",
              "      <td>comments</td>\n",
              "      <td>composer</td>\n",
              "      <td>date_created</td>\n",
              "      <td>date_recorded</td>\n",
              "      <td>duration</td>\n",
              "      <td>favorites</td>\n",
              "      <td>genre_top</td>\n",
              "      <td>genres</td>\n",
              "      <td>genres_all</td>\n",
              "      <td>information</td>\n",
              "      <td>interest</td>\n",
              "      <td>language_code</td>\n",
              "      <td>license</td>\n",
              "      <td>listens</td>\n",
              "      <td>lyricist</td>\n",
              "      <td>number</td>\n",
              "      <td>publisher</td>\n",
              "      <td>tags</td>\n",
              "      <td>title</td>\n",
              "      <td>NaN</td>\n",
              "    </tr>\n",
              "    <tr>\n",
              "      <th>2</th>\n",
              "      <td>track_id</td>\n",
              "      <td>NaN</td>\n",
              "      <td>NaN</td>\n",
              "      <td>NaN</td>\n",
              "      <td>NaN</td>\n",
              "      <td>NaN</td>\n",
              "      <td>NaN</td>\n",
              "      <td>NaN</td>\n",
              "      <td>NaN</td>\n",
              "      <td>NaN</td>\n",
              "      <td>NaN</td>\n",
              "      <td>NaN</td>\n",
              "      <td>NaN</td>\n",
              "      <td>NaN</td>\n",
              "      <td>NaN</td>\n",
              "      <td>NaN</td>\n",
              "      <td>NaN</td>\n",
              "      <td>NaN</td>\n",
              "      <td>NaN</td>\n",
              "      <td>NaN</td>\n",
              "      <td>NaN</td>\n",
              "      <td>NaN</td>\n",
              "      <td>NaN</td>\n",
              "      <td>NaN</td>\n",
              "      <td>NaN</td>\n",
              "      <td>NaN</td>\n",
              "      <td>NaN</td>\n",
              "      <td>NaN</td>\n",
              "      <td>NaN</td>\n",
              "      <td>NaN</td>\n",
              "      <td>NaN</td>\n",
              "      <td>NaN</td>\n",
              "      <td>NaN</td>\n",
              "      <td>NaN</td>\n",
              "      <td>NaN</td>\n",
              "      <td>NaN</td>\n",
              "      <td>NaN</td>\n",
              "      <td>NaN</td>\n",
              "      <td>NaN</td>\n",
              "      <td>NaN</td>\n",
              "      <td>NaN</td>\n",
              "      <td>NaN</td>\n",
              "      <td>NaN</td>\n",
              "      <td>NaN</td>\n",
              "      <td>NaN</td>\n",
              "      <td>NaN</td>\n",
              "      <td>NaN</td>\n",
              "      <td>NaN</td>\n",
              "      <td>NaN</td>\n",
              "      <td>NaN</td>\n",
              "      <td>NaN</td>\n",
              "      <td>NaN</td>\n",
              "      <td>NaN</td>\n",
              "      <td>NaN</td>\n",
              "    </tr>\n",
              "    <tr>\n",
              "      <th>3</th>\n",
              "      <td>2</td>\n",
              "      <td>0</td>\n",
              "      <td>2008-11-26 01:44:45</td>\n",
              "      <td>2009-01-05 00:00:00</td>\n",
              "      <td>NaN</td>\n",
              "      <td>4</td>\n",
              "      <td>1</td>\n",
              "      <td>&lt;p&gt;&lt;/p&gt;</td>\n",
              "      <td>6073</td>\n",
              "      <td>NaN</td>\n",
              "      <td>[]</td>\n",
              "      <td>AWOL - A Way Of Life</td>\n",
              "      <td>7</td>\n",
              "      <td>Album</td>\n",
              "      <td>2006-01-01 00:00:00</td>\n",
              "      <td>NaN</td>\n",
              "      <td>NaN</td>\n",
              "      <td>&lt;p&gt;A Way Of Life, A Collective of Hip-Hop from...</td>\n",
              "      <td>0</td>\n",
              "      <td>2008-11-26 01:42:32</td>\n",
              "      <td>9</td>\n",
              "      <td>1</td>\n",
              "      <td>40.0583238</td>\n",
              "      <td>New Jersey</td>\n",
              "      <td>-74.4056612</td>\n",
              "      <td>Sajje Morocco,Brownbum,ZawidaGod,Custodian of ...</td>\n",
              "      <td>AWOL</td>\n",
              "      <td>The list of past projects is 2 long but every1...</td>\n",
              "      <td>['awol']</td>\n",
              "      <td>http://www.AzillionRecords.blogspot.com</td>\n",
              "      <td>NaN</td>\n",
              "      <td>training</td>\n",
              "      <td>small</td>\n",
              "      <td>256000</td>\n",
              "      <td>0</td>\n",
              "      <td>NaN</td>\n",
              "      <td>2008-11-26 01:48:12</td>\n",
              "      <td>2008-11-26 00:00:00</td>\n",
              "      <td>168</td>\n",
              "      <td>2</td>\n",
              "      <td>Hip-Hop</td>\n",
              "      <td>[21]</td>\n",
              "      <td>[21]</td>\n",
              "      <td>NaN</td>\n",
              "      <td>4656</td>\n",
              "      <td>en</td>\n",
              "      <td>Attribution-NonCommercial-ShareAlike 3.0 Inter...</td>\n",
              "      <td>1293</td>\n",
              "      <td>NaN</td>\n",
              "      <td>3</td>\n",
              "      <td>NaN</td>\n",
              "      <td>[]</td>\n",
              "      <td>Food</td>\n",
              "      <td>NaN</td>\n",
              "    </tr>\n",
              "    <tr>\n",
              "      <th>4</th>\n",
              "      <td>3</td>\n",
              "      <td>0</td>\n",
              "      <td>2008-11-26 01:44:45</td>\n",
              "      <td>2009-01-05 00:00:00</td>\n",
              "      <td>NaN</td>\n",
              "      <td>4</td>\n",
              "      <td>1</td>\n",
              "      <td>&lt;p&gt;&lt;/p&gt;</td>\n",
              "      <td>6073</td>\n",
              "      <td>NaN</td>\n",
              "      <td>[]</td>\n",
              "      <td>AWOL - A Way Of Life</td>\n",
              "      <td>7</td>\n",
              "      <td>Album</td>\n",
              "      <td>2006-01-01 00:00:00</td>\n",
              "      <td>NaN</td>\n",
              "      <td>NaN</td>\n",
              "      <td>&lt;p&gt;A Way Of Life, A Collective of Hip-Hop from...</td>\n",
              "      <td>0</td>\n",
              "      <td>2008-11-26 01:42:32</td>\n",
              "      <td>9</td>\n",
              "      <td>1</td>\n",
              "      <td>40.0583238</td>\n",
              "      <td>New Jersey</td>\n",
              "      <td>-74.4056612</td>\n",
              "      <td>Sajje Morocco,Brownbum,ZawidaGod,Custodian of ...</td>\n",
              "      <td>AWOL</td>\n",
              "      <td>The list of past projects is 2 long but every1...</td>\n",
              "      <td>['awol']</td>\n",
              "      <td>http://www.AzillionRecords.blogspot.com</td>\n",
              "      <td>NaN</td>\n",
              "      <td>training</td>\n",
              "      <td>medium</td>\n",
              "      <td>256000</td>\n",
              "      <td>0</td>\n",
              "      <td>NaN</td>\n",
              "      <td>2008-11-26 01:48:14</td>\n",
              "      <td>2008-11-26 00:00:00</td>\n",
              "      <td>237</td>\n",
              "      <td>1</td>\n",
              "      <td>Hip-Hop</td>\n",
              "      <td>[21]</td>\n",
              "      <td>[21]</td>\n",
              "      <td>NaN</td>\n",
              "      <td>1470</td>\n",
              "      <td>en</td>\n",
              "      <td>Attribution-NonCommercial-ShareAlike 3.0 Inter...</td>\n",
              "      <td>514</td>\n",
              "      <td>NaN</td>\n",
              "      <td>4</td>\n",
              "      <td>NaN</td>\n",
              "      <td>[]</td>\n",
              "      <td>Electric Ave</td>\n",
              "      <td>NaN</td>\n",
              "    </tr>\n",
              "  </tbody>\n",
              "</table>\n",
              "</div>"
            ],
            "text/plain": [
              "        NaN  comments         date_created        date_released  engineer  \\\n",
              "0       NaN     album                album                album     album   \n",
              "1       NaN  comments         date_created        date_released  engineer   \n",
              "2  track_id       NaN                  NaN                  NaN       NaN   \n",
              "3         2         0  2008-11-26 01:44:45  2009-01-05 00:00:00       NaN   \n",
              "4         3         0  2008-11-26 01:44:45  2009-01-05 00:00:00       NaN   \n",
              "\n",
              "   favorites     id  information  listens  producer   tags  \\\n",
              "0      album  album        album    album     album  album   \n",
              "1  favorites     id  information  listens  producer   tags   \n",
              "2        NaN    NaN          NaN      NaN       NaN    NaN   \n",
              "3          4      1      <p></p>     6073       NaN     []   \n",
              "4          4      1      <p></p>     6073       NaN     []   \n",
              "\n",
              "                  title  tracks   type    active_year_begin  active_year_end  \\\n",
              "0                 album   album  album               artist           artist   \n",
              "1                 title  tracks   type    active_year_begin  active_year_end   \n",
              "2                   NaN     NaN    NaN                  NaN              NaN   \n",
              "3  AWOL - A Way Of Life       7  Album  2006-01-01 00:00:00              NaN   \n",
              "4  AWOL - A Way Of Life       7  Album  2006-01-01 00:00:00              NaN   \n",
              "\n",
              "   associated_labels                                                bio  \\\n",
              "0             artist                                             artist   \n",
              "1  associated_labels                                                bio   \n",
              "2                NaN                                                NaN   \n",
              "3                NaN  <p>A Way Of Life, A Collective of Hip-Hop from...   \n",
              "4                NaN  <p>A Way Of Life, A Collective of Hip-Hop from...   \n",
              "\n",
              "  comments.1       date_created.1 favorites.1    id.1    latitude    location  \\\n",
              "0     artist               artist      artist  artist      artist      artist   \n",
              "1   comments         date_created   favorites      id    latitude    location   \n",
              "2        NaN                  NaN         NaN     NaN         NaN         NaN   \n",
              "3          0  2008-11-26 01:42:32           9       1  40.0583238  New Jersey   \n",
              "4          0  2008-11-26 01:42:32           9       1  40.0583238  New Jersey   \n",
              "\n",
              "     longitude                                            members    name  \\\n",
              "0       artist                                             artist  artist   \n",
              "1    longitude                                            members    name   \n",
              "2          NaN                                                NaN     NaN   \n",
              "3  -74.4056612  Sajje Morocco,Brownbum,ZawidaGod,Custodian of ...    AWOL   \n",
              "4  -74.4056612  Sajje Morocco,Brownbum,ZawidaGod,Custodian of ...    AWOL   \n",
              "\n",
              "                                    related_projects    tags.1  \\\n",
              "0                                             artist    artist   \n",
              "1                                   related_projects      tags   \n",
              "2                                                NaN       NaN   \n",
              "3  The list of past projects is 2 long but every1...  ['awol']   \n",
              "4  The list of past projects is 2 long but every1...  ['awol']   \n",
              "\n",
              "                                   website  wikipedia_page     split  subset  \\\n",
              "0                                   artist          artist       set     set   \n",
              "1                                  website  wikipedia_page     split  subset   \n",
              "2                                      NaN             NaN       NaN     NaN   \n",
              "3  http://www.AzillionRecords.blogspot.com             NaN  training   small   \n",
              "4  http://www.AzillionRecords.blogspot.com             NaN  training  medium   \n",
              "\n",
              "   bit_rate comments.2  composer       date_created.2        date_recorded  \\\n",
              "0     track      track     track                track                track   \n",
              "1  bit_rate   comments  composer         date_created        date_recorded   \n",
              "2       NaN        NaN       NaN                  NaN                  NaN   \n",
              "3    256000          0       NaN  2008-11-26 01:48:12  2008-11-26 00:00:00   \n",
              "4    256000          0       NaN  2008-11-26 01:48:14  2008-11-26 00:00:00   \n",
              "\n",
              "   duration favorites.2  genre_top  genres  genres_all information.1  \\\n",
              "0     track       track      track   track       track         track   \n",
              "1  duration   favorites  genre_top  genres  genres_all   information   \n",
              "2       NaN         NaN        NaN     NaN         NaN           NaN   \n",
              "3       168           2    Hip-Hop    [21]        [21]           NaN   \n",
              "4       237           1    Hip-Hop    [21]        [21]           NaN   \n",
              "\n",
              "   interest  language_code                                            license  \\\n",
              "0     track          track                                              track   \n",
              "1  interest  language_code                                            license   \n",
              "2       NaN            NaN                                                NaN   \n",
              "3      4656             en  Attribution-NonCommercial-ShareAlike 3.0 Inter...   \n",
              "4      1470             en  Attribution-NonCommercial-ShareAlike 3.0 Inter...   \n",
              "\n",
              "  listens.1  lyricist  number  publisher tags.2       title.1  NaN  \n",
              "0     track     track   track      track  track         track  NaN  \n",
              "1   listens  lyricist  number  publisher   tags         title  NaN  \n",
              "2       NaN       NaN     NaN        NaN    NaN           NaN  NaN  \n",
              "3      1293       NaN       3        NaN     []          Food  NaN  \n",
              "4       514       NaN       4        NaN     []  Electric Ave  NaN  "
            ]
          },
          "metadata": {
            "tags": []
          },
          "execution_count": 92
        }
      ]
    },
    {
      "metadata": {
        "id": "5bNY6lPAc0xM",
        "colab_type": "code",
        "colab": {}
      },
      "cell_type": "code",
      "source": [
        "tracks = tracks.drop([0,1,2]).reset_index()"
      ],
      "execution_count": 0,
      "outputs": []
    },
    {
      "metadata": {
        "id": "Bdi3KSO8dc2u",
        "colab_type": "code",
        "colab": {
          "base_uri": "https://localhost:8080/",
          "height": 467
        },
        "outputId": "a816a6d2-c510-4dcf-a6a0-e58022199064"
      },
      "cell_type": "code",
      "source": [
        "pd.set_option('display.max_columns', None)\n",
        "tracks.head()"
      ],
      "execution_count": 95,
      "outputs": [
        {
          "output_type": "execute_result",
          "data": {
            "text/html": [
              "<div>\n",
              "<style scoped>\n",
              "    .dataframe tbody tr th:only-of-type {\n",
              "        vertical-align: middle;\n",
              "    }\n",
              "\n",
              "    .dataframe tbody tr th {\n",
              "        vertical-align: top;\n",
              "    }\n",
              "\n",
              "    .dataframe thead th {\n",
              "        text-align: right;\n",
              "    }\n",
              "</style>\n",
              "<table border=\"1\" class=\"dataframe\">\n",
              "  <thead>\n",
              "    <tr style=\"text-align: right;\">\n",
              "      <th></th>\n",
              "      <th>index</th>\n",
              "      <th>nan</th>\n",
              "      <th>comments</th>\n",
              "      <th>date_created</th>\n",
              "      <th>date_released</th>\n",
              "      <th>engineer</th>\n",
              "      <th>favorites</th>\n",
              "      <th>id</th>\n",
              "      <th>information</th>\n",
              "      <th>listens</th>\n",
              "      <th>producer</th>\n",
              "      <th>tags</th>\n",
              "      <th>title</th>\n",
              "      <th>tracks</th>\n",
              "      <th>type</th>\n",
              "      <th>active_year_begin</th>\n",
              "      <th>active_year_end</th>\n",
              "      <th>associated_labels</th>\n",
              "      <th>bio</th>\n",
              "      <th>comments.1</th>\n",
              "      <th>date_created.1</th>\n",
              "      <th>favorites.1</th>\n",
              "      <th>id.1</th>\n",
              "      <th>latitude</th>\n",
              "      <th>location</th>\n",
              "      <th>longitude</th>\n",
              "      <th>members</th>\n",
              "      <th>name</th>\n",
              "      <th>related_projects</th>\n",
              "      <th>tags.1</th>\n",
              "      <th>website</th>\n",
              "      <th>wikipedia_page</th>\n",
              "      <th>split</th>\n",
              "      <th>subset</th>\n",
              "      <th>bit_rate</th>\n",
              "      <th>comments.2</th>\n",
              "      <th>composer</th>\n",
              "      <th>date_created.2</th>\n",
              "      <th>date_recorded</th>\n",
              "      <th>duration</th>\n",
              "      <th>favorites.2</th>\n",
              "      <th>genre_top</th>\n",
              "      <th>genres</th>\n",
              "      <th>genres_all</th>\n",
              "      <th>information.1</th>\n",
              "      <th>interest</th>\n",
              "      <th>language_code</th>\n",
              "      <th>license</th>\n",
              "      <th>listens.1</th>\n",
              "      <th>lyricist</th>\n",
              "      <th>number</th>\n",
              "      <th>publisher</th>\n",
              "      <th>tags.2</th>\n",
              "      <th>title.1</th>\n",
              "      <th>nan</th>\n",
              "    </tr>\n",
              "  </thead>\n",
              "  <tbody>\n",
              "    <tr>\n",
              "      <th>0</th>\n",
              "      <td>3</td>\n",
              "      <td>2</td>\n",
              "      <td>0</td>\n",
              "      <td>2008-11-26 01:44:45</td>\n",
              "      <td>2009-01-05 00:00:00</td>\n",
              "      <td>NaN</td>\n",
              "      <td>4</td>\n",
              "      <td>1</td>\n",
              "      <td>&lt;p&gt;&lt;/p&gt;</td>\n",
              "      <td>6073</td>\n",
              "      <td>NaN</td>\n",
              "      <td>[]</td>\n",
              "      <td>AWOL - A Way Of Life</td>\n",
              "      <td>7</td>\n",
              "      <td>Album</td>\n",
              "      <td>2006-01-01 00:00:00</td>\n",
              "      <td>NaN</td>\n",
              "      <td>NaN</td>\n",
              "      <td>&lt;p&gt;A Way Of Life, A Collective of Hip-Hop from...</td>\n",
              "      <td>0</td>\n",
              "      <td>2008-11-26 01:42:32</td>\n",
              "      <td>9</td>\n",
              "      <td>1</td>\n",
              "      <td>40.0583238</td>\n",
              "      <td>New Jersey</td>\n",
              "      <td>-74.4056612</td>\n",
              "      <td>Sajje Morocco,Brownbum,ZawidaGod,Custodian of ...</td>\n",
              "      <td>AWOL</td>\n",
              "      <td>The list of past projects is 2 long but every1...</td>\n",
              "      <td>['awol']</td>\n",
              "      <td>http://www.AzillionRecords.blogspot.com</td>\n",
              "      <td>NaN</td>\n",
              "      <td>training</td>\n",
              "      <td>small</td>\n",
              "      <td>256000</td>\n",
              "      <td>0</td>\n",
              "      <td>NaN</td>\n",
              "      <td>2008-11-26 01:48:12</td>\n",
              "      <td>2008-11-26 00:00:00</td>\n",
              "      <td>168</td>\n",
              "      <td>2</td>\n",
              "      <td>Hip-Hop</td>\n",
              "      <td>[21]</td>\n",
              "      <td>[21]</td>\n",
              "      <td>NaN</td>\n",
              "      <td>4656</td>\n",
              "      <td>en</td>\n",
              "      <td>Attribution-NonCommercial-ShareAlike 3.0 Inter...</td>\n",
              "      <td>1293</td>\n",
              "      <td>NaN</td>\n",
              "      <td>3</td>\n",
              "      <td>NaN</td>\n",
              "      <td>[]</td>\n",
              "      <td>Food</td>\n",
              "      <td>NaN</td>\n",
              "    </tr>\n",
              "    <tr>\n",
              "      <th>1</th>\n",
              "      <td>4</td>\n",
              "      <td>3</td>\n",
              "      <td>0</td>\n",
              "      <td>2008-11-26 01:44:45</td>\n",
              "      <td>2009-01-05 00:00:00</td>\n",
              "      <td>NaN</td>\n",
              "      <td>4</td>\n",
              "      <td>1</td>\n",
              "      <td>&lt;p&gt;&lt;/p&gt;</td>\n",
              "      <td>6073</td>\n",
              "      <td>NaN</td>\n",
              "      <td>[]</td>\n",
              "      <td>AWOL - A Way Of Life</td>\n",
              "      <td>7</td>\n",
              "      <td>Album</td>\n",
              "      <td>2006-01-01 00:00:00</td>\n",
              "      <td>NaN</td>\n",
              "      <td>NaN</td>\n",
              "      <td>&lt;p&gt;A Way Of Life, A Collective of Hip-Hop from...</td>\n",
              "      <td>0</td>\n",
              "      <td>2008-11-26 01:42:32</td>\n",
              "      <td>9</td>\n",
              "      <td>1</td>\n",
              "      <td>40.0583238</td>\n",
              "      <td>New Jersey</td>\n",
              "      <td>-74.4056612</td>\n",
              "      <td>Sajje Morocco,Brownbum,ZawidaGod,Custodian of ...</td>\n",
              "      <td>AWOL</td>\n",
              "      <td>The list of past projects is 2 long but every1...</td>\n",
              "      <td>['awol']</td>\n",
              "      <td>http://www.AzillionRecords.blogspot.com</td>\n",
              "      <td>NaN</td>\n",
              "      <td>training</td>\n",
              "      <td>medium</td>\n",
              "      <td>256000</td>\n",
              "      <td>0</td>\n",
              "      <td>NaN</td>\n",
              "      <td>2008-11-26 01:48:14</td>\n",
              "      <td>2008-11-26 00:00:00</td>\n",
              "      <td>237</td>\n",
              "      <td>1</td>\n",
              "      <td>Hip-Hop</td>\n",
              "      <td>[21]</td>\n",
              "      <td>[21]</td>\n",
              "      <td>NaN</td>\n",
              "      <td>1470</td>\n",
              "      <td>en</td>\n",
              "      <td>Attribution-NonCommercial-ShareAlike 3.0 Inter...</td>\n",
              "      <td>514</td>\n",
              "      <td>NaN</td>\n",
              "      <td>4</td>\n",
              "      <td>NaN</td>\n",
              "      <td>[]</td>\n",
              "      <td>Electric Ave</td>\n",
              "      <td>NaN</td>\n",
              "    </tr>\n",
              "    <tr>\n",
              "      <th>2</th>\n",
              "      <td>5</td>\n",
              "      <td>5</td>\n",
              "      <td>0</td>\n",
              "      <td>2008-11-26 01:44:45</td>\n",
              "      <td>2009-01-05 00:00:00</td>\n",
              "      <td>NaN</td>\n",
              "      <td>4</td>\n",
              "      <td>1</td>\n",
              "      <td>&lt;p&gt;&lt;/p&gt;</td>\n",
              "      <td>6073</td>\n",
              "      <td>NaN</td>\n",
              "      <td>[]</td>\n",
              "      <td>AWOL - A Way Of Life</td>\n",
              "      <td>7</td>\n",
              "      <td>Album</td>\n",
              "      <td>2006-01-01 00:00:00</td>\n",
              "      <td>NaN</td>\n",
              "      <td>NaN</td>\n",
              "      <td>&lt;p&gt;A Way Of Life, A Collective of Hip-Hop from...</td>\n",
              "      <td>0</td>\n",
              "      <td>2008-11-26 01:42:32</td>\n",
              "      <td>9</td>\n",
              "      <td>1</td>\n",
              "      <td>40.0583238</td>\n",
              "      <td>New Jersey</td>\n",
              "      <td>-74.4056612</td>\n",
              "      <td>Sajje Morocco,Brownbum,ZawidaGod,Custodian of ...</td>\n",
              "      <td>AWOL</td>\n",
              "      <td>The list of past projects is 2 long but every1...</td>\n",
              "      <td>['awol']</td>\n",
              "      <td>http://www.AzillionRecords.blogspot.com</td>\n",
              "      <td>NaN</td>\n",
              "      <td>training</td>\n",
              "      <td>small</td>\n",
              "      <td>256000</td>\n",
              "      <td>0</td>\n",
              "      <td>NaN</td>\n",
              "      <td>2008-11-26 01:48:20</td>\n",
              "      <td>2008-11-26 00:00:00</td>\n",
              "      <td>206</td>\n",
              "      <td>6</td>\n",
              "      <td>Hip-Hop</td>\n",
              "      <td>[21]</td>\n",
              "      <td>[21]</td>\n",
              "      <td>NaN</td>\n",
              "      <td>1933</td>\n",
              "      <td>en</td>\n",
              "      <td>Attribution-NonCommercial-ShareAlike 3.0 Inter...</td>\n",
              "      <td>1151</td>\n",
              "      <td>NaN</td>\n",
              "      <td>6</td>\n",
              "      <td>NaN</td>\n",
              "      <td>[]</td>\n",
              "      <td>This World</td>\n",
              "      <td>NaN</td>\n",
              "    </tr>\n",
              "    <tr>\n",
              "      <th>3</th>\n",
              "      <td>6</td>\n",
              "      <td>10</td>\n",
              "      <td>0</td>\n",
              "      <td>2008-11-26 01:45:08</td>\n",
              "      <td>2008-02-06 00:00:00</td>\n",
              "      <td>NaN</td>\n",
              "      <td>4</td>\n",
              "      <td>6</td>\n",
              "      <td>NaN</td>\n",
              "      <td>47632</td>\n",
              "      <td>NaN</td>\n",
              "      <td>[]</td>\n",
              "      <td>Constant Hitmaker</td>\n",
              "      <td>2</td>\n",
              "      <td>Album</td>\n",
              "      <td>NaN</td>\n",
              "      <td>NaN</td>\n",
              "      <td>Mexican Summer, Richie Records, Woodsist, Skul...</td>\n",
              "      <td>&lt;p&gt;&lt;span style=\"font-family:Verdana, Geneva, A...</td>\n",
              "      <td>3</td>\n",
              "      <td>2008-11-26 01:42:55</td>\n",
              "      <td>74</td>\n",
              "      <td>6</td>\n",
              "      <td>NaN</td>\n",
              "      <td>NaN</td>\n",
              "      <td>NaN</td>\n",
              "      <td>Kurt Vile, the Violators</td>\n",
              "      <td>Kurt Vile</td>\n",
              "      <td>NaN</td>\n",
              "      <td>['philly', 'kurt vile']</td>\n",
              "      <td>http://kurtvile.com</td>\n",
              "      <td>NaN</td>\n",
              "      <td>training</td>\n",
              "      <td>small</td>\n",
              "      <td>192000</td>\n",
              "      <td>0</td>\n",
              "      <td>Kurt Vile</td>\n",
              "      <td>2008-11-25 17:49:06</td>\n",
              "      <td>2008-11-26 00:00:00</td>\n",
              "      <td>161</td>\n",
              "      <td>178</td>\n",
              "      <td>Pop</td>\n",
              "      <td>[10]</td>\n",
              "      <td>[10]</td>\n",
              "      <td>NaN</td>\n",
              "      <td>54881</td>\n",
              "      <td>en</td>\n",
              "      <td>Attribution-NonCommercial-NoDerivatives (aka M...</td>\n",
              "      <td>50135</td>\n",
              "      <td>NaN</td>\n",
              "      <td>1</td>\n",
              "      <td>NaN</td>\n",
              "      <td>[]</td>\n",
              "      <td>Freeway</td>\n",
              "      <td>NaN</td>\n",
              "    </tr>\n",
              "    <tr>\n",
              "      <th>4</th>\n",
              "      <td>7</td>\n",
              "      <td>20</td>\n",
              "      <td>0</td>\n",
              "      <td>2008-11-26 01:45:05</td>\n",
              "      <td>2009-01-06 00:00:00</td>\n",
              "      <td>NaN</td>\n",
              "      <td>2</td>\n",
              "      <td>4</td>\n",
              "      <td>&lt;p&gt; \"spiritual songs\" from Nicky Cook&lt;/p&gt;</td>\n",
              "      <td>2710</td>\n",
              "      <td>NaN</td>\n",
              "      <td>[]</td>\n",
              "      <td>Niris</td>\n",
              "      <td>13</td>\n",
              "      <td>Album</td>\n",
              "      <td>1990-01-01 00:00:00</td>\n",
              "      <td>2011-01-01 00:00:00</td>\n",
              "      <td>NaN</td>\n",
              "      <td>&lt;p&gt;Songs written by: Nicky Cook&lt;/p&gt;\\n&lt;p&gt;VOCALS...</td>\n",
              "      <td>2</td>\n",
              "      <td>2008-11-26 01:42:52</td>\n",
              "      <td>10</td>\n",
              "      <td>4</td>\n",
              "      <td>51.895927</td>\n",
              "      <td>Colchester England</td>\n",
              "      <td>0.891874</td>\n",
              "      <td>Nicky Cook\\n</td>\n",
              "      <td>Nicky Cook</td>\n",
              "      <td>NaN</td>\n",
              "      <td>['instrumentals', 'experimental pop', 'post pu...</td>\n",
              "      <td>NaN</td>\n",
              "      <td>NaN</td>\n",
              "      <td>training</td>\n",
              "      <td>large</td>\n",
              "      <td>256000</td>\n",
              "      <td>0</td>\n",
              "      <td>NaN</td>\n",
              "      <td>2008-11-26 01:48:56</td>\n",
              "      <td>2008-01-01 00:00:00</td>\n",
              "      <td>311</td>\n",
              "      <td>0</td>\n",
              "      <td>NaN</td>\n",
              "      <td>[76, 103]</td>\n",
              "      <td>[17, 10, 76, 103]</td>\n",
              "      <td>NaN</td>\n",
              "      <td>978</td>\n",
              "      <td>en</td>\n",
              "      <td>Attribution-NonCommercial-NoDerivatives (aka M...</td>\n",
              "      <td>361</td>\n",
              "      <td>NaN</td>\n",
              "      <td>3</td>\n",
              "      <td>NaN</td>\n",
              "      <td>[]</td>\n",
              "      <td>Spiritual Level</td>\n",
              "      <td>NaN</td>\n",
              "    </tr>\n",
              "  </tbody>\n",
              "</table>\n",
              "</div>"
            ],
            "text/plain": [
              "   index  NaN comments         date_created        date_released engineer  \\\n",
              "0      3    2        0  2008-11-26 01:44:45  2009-01-05 00:00:00      NaN   \n",
              "1      4    3        0  2008-11-26 01:44:45  2009-01-05 00:00:00      NaN   \n",
              "2      5    5        0  2008-11-26 01:44:45  2009-01-05 00:00:00      NaN   \n",
              "3      6   10        0  2008-11-26 01:45:08  2008-02-06 00:00:00      NaN   \n",
              "4      7   20        0  2008-11-26 01:45:05  2009-01-06 00:00:00      NaN   \n",
              "\n",
              "  favorites id                                information listens producer  \\\n",
              "0         4  1                                    <p></p>    6073      NaN   \n",
              "1         4  1                                    <p></p>    6073      NaN   \n",
              "2         4  1                                    <p></p>    6073      NaN   \n",
              "3         4  6                                        NaN   47632      NaN   \n",
              "4         2  4  <p> \"spiritual songs\" from Nicky Cook</p>    2710      NaN   \n",
              "\n",
              "  tags                 title tracks   type    active_year_begin  \\\n",
              "0   []  AWOL - A Way Of Life      7  Album  2006-01-01 00:00:00   \n",
              "1   []  AWOL - A Way Of Life      7  Album  2006-01-01 00:00:00   \n",
              "2   []  AWOL - A Way Of Life      7  Album  2006-01-01 00:00:00   \n",
              "3   []     Constant Hitmaker      2  Album                  NaN   \n",
              "4   []                 Niris     13  Album  1990-01-01 00:00:00   \n",
              "\n",
              "       active_year_end                                  associated_labels  \\\n",
              "0                  NaN                                                NaN   \n",
              "1                  NaN                                                NaN   \n",
              "2                  NaN                                                NaN   \n",
              "3                  NaN  Mexican Summer, Richie Records, Woodsist, Skul...   \n",
              "4  2011-01-01 00:00:00                                                NaN   \n",
              "\n",
              "                                                 bio comments.1  \\\n",
              "0  <p>A Way Of Life, A Collective of Hip-Hop from...          0   \n",
              "1  <p>A Way Of Life, A Collective of Hip-Hop from...          0   \n",
              "2  <p>A Way Of Life, A Collective of Hip-Hop from...          0   \n",
              "3  <p><span style=\"font-family:Verdana, Geneva, A...          3   \n",
              "4  <p>Songs written by: Nicky Cook</p>\\n<p>VOCALS...          2   \n",
              "\n",
              "        date_created.1 favorites.1 id.1    latitude            location  \\\n",
              "0  2008-11-26 01:42:32           9    1  40.0583238          New Jersey   \n",
              "1  2008-11-26 01:42:32           9    1  40.0583238          New Jersey   \n",
              "2  2008-11-26 01:42:32           9    1  40.0583238          New Jersey   \n",
              "3  2008-11-26 01:42:55          74    6         NaN                 NaN   \n",
              "4  2008-11-26 01:42:52          10    4   51.895927  Colchester England   \n",
              "\n",
              "     longitude                                            members        name  \\\n",
              "0  -74.4056612  Sajje Morocco,Brownbum,ZawidaGod,Custodian of ...        AWOL   \n",
              "1  -74.4056612  Sajje Morocco,Brownbum,ZawidaGod,Custodian of ...        AWOL   \n",
              "2  -74.4056612  Sajje Morocco,Brownbum,ZawidaGod,Custodian of ...        AWOL   \n",
              "3          NaN                           Kurt Vile, the Violators   Kurt Vile   \n",
              "4     0.891874                                       Nicky Cook\\n  Nicky Cook   \n",
              "\n",
              "                                    related_projects  \\\n",
              "0  The list of past projects is 2 long but every1...   \n",
              "1  The list of past projects is 2 long but every1...   \n",
              "2  The list of past projects is 2 long but every1...   \n",
              "3                                                NaN   \n",
              "4                                                NaN   \n",
              "\n",
              "                                              tags.1  \\\n",
              "0                                           ['awol']   \n",
              "1                                           ['awol']   \n",
              "2                                           ['awol']   \n",
              "3                            ['philly', 'kurt vile']   \n",
              "4  ['instrumentals', 'experimental pop', 'post pu...   \n",
              "\n",
              "                                   website wikipedia_page     split  subset  \\\n",
              "0  http://www.AzillionRecords.blogspot.com            NaN  training   small   \n",
              "1  http://www.AzillionRecords.blogspot.com            NaN  training  medium   \n",
              "2  http://www.AzillionRecords.blogspot.com            NaN  training   small   \n",
              "3                      http://kurtvile.com            NaN  training   small   \n",
              "4                                      NaN            NaN  training   large   \n",
              "\n",
              "  bit_rate comments.2   composer       date_created.2        date_recorded  \\\n",
              "0   256000          0        NaN  2008-11-26 01:48:12  2008-11-26 00:00:00   \n",
              "1   256000          0        NaN  2008-11-26 01:48:14  2008-11-26 00:00:00   \n",
              "2   256000          0        NaN  2008-11-26 01:48:20  2008-11-26 00:00:00   \n",
              "3   192000          0  Kurt Vile  2008-11-25 17:49:06  2008-11-26 00:00:00   \n",
              "4   256000          0        NaN  2008-11-26 01:48:56  2008-01-01 00:00:00   \n",
              "\n",
              "  duration favorites.2 genre_top     genres         genres_all information.1  \\\n",
              "0      168           2   Hip-Hop       [21]               [21]           NaN   \n",
              "1      237           1   Hip-Hop       [21]               [21]           NaN   \n",
              "2      206           6   Hip-Hop       [21]               [21]           NaN   \n",
              "3      161         178       Pop       [10]               [10]           NaN   \n",
              "4      311           0       NaN  [76, 103]  [17, 10, 76, 103]           NaN   \n",
              "\n",
              "  interest language_code                                            license  \\\n",
              "0     4656            en  Attribution-NonCommercial-ShareAlike 3.0 Inter...   \n",
              "1     1470            en  Attribution-NonCommercial-ShareAlike 3.0 Inter...   \n",
              "2     1933            en  Attribution-NonCommercial-ShareAlike 3.0 Inter...   \n",
              "3    54881            en  Attribution-NonCommercial-NoDerivatives (aka M...   \n",
              "4      978            en  Attribution-NonCommercial-NoDerivatives (aka M...   \n",
              "\n",
              "  listens.1 lyricist number publisher tags.2          title.1  NaN  \n",
              "0      1293      NaN      3       NaN     []             Food  NaN  \n",
              "1       514      NaN      4       NaN     []     Electric Ave  NaN  \n",
              "2      1151      NaN      6       NaN     []       This World  NaN  \n",
              "3     50135      NaN      1       NaN     []          Freeway  NaN  \n",
              "4       361      NaN      3       NaN     []  Spiritual Level  NaN  "
            ]
          },
          "metadata": {
            "tags": []
          },
          "execution_count": 95
        }
      ]
    },
    {
      "metadata": {
        "id": "5DvMPiM8MZeY",
        "colab_type": "code",
        "outputId": "b80a4826-3f67-4e2b-8c98-808f55e63682",
        "colab": {
          "base_uri": "https://localhost:8080/",
          "height": 34
        }
      },
      "cell_type": "code",
      "source": [
        "tracks.shape"
      ],
      "execution_count": 0,
      "outputs": [
        {
          "output_type": "execute_result",
          "data": {
            "text/plain": [
              "(106576, 53)"
            ]
          },
          "metadata": {
            "tags": []
          },
          "execution_count": 23
        }
      ]
    },
    {
      "metadata": {
        "id": "QL2TgCu7ltcM",
        "colab_type": "code",
        "colab": {}
      },
      "cell_type": "code",
      "source": [
        "#appears to be most descriptive set - selected in doc notebook\n",
        "#our order: album, artist, set, track\n",
        "columns = [\n",
        "    'title.1',\n",
        "    'genres_all',\n",
        "    'genre_top',\n",
        "    'duration',\n",
        "    'listens.1',\n",
        "    'title',\n",
        "    'listens',\n",
        "    'tags',\n",
        "    'name',\n",
        "    'location',\n",
        "]\n",
        "\n",
        "df = tracks[columns]"
      ],
      "execution_count": 0,
      "outputs": []
    },
    {
      "metadata": {
        "id": "KOzPW3dXpy05",
        "colab_type": "code",
        "colab": {}
      },
      "cell_type": "code",
      "source": [
        "df = df.rename(columns = {\n",
        "    'title.1' : 'track_title',\n",
        "    'listens.1':'track_listens',\n",
        "    'title':'album',\n",
        "    'listens':'album_listens',\n",
        "    'name': 'artist'})"
      ],
      "execution_count": 0,
      "outputs": []
    },
    {
      "metadata": {
        "id": "8sCXA1ermbFw",
        "colab_type": "code",
        "colab": {
          "base_uri": "https://localhost:8080/",
          "height": 350
        },
        "outputId": "e3072688-4b96-4e6b-f2f4-800cca2c2ec6"
      },
      "cell_type": "code",
      "source": [
        "df.head()"
      ],
      "execution_count": 112,
      "outputs": [
        {
          "output_type": "execute_result",
          "data": {
            "text/html": [
              "<div>\n",
              "<style scoped>\n",
              "    .dataframe tbody tr th:only-of-type {\n",
              "        vertical-align: middle;\n",
              "    }\n",
              "\n",
              "    .dataframe tbody tr th {\n",
              "        vertical-align: top;\n",
              "    }\n",
              "\n",
              "    .dataframe thead th {\n",
              "        text-align: right;\n",
              "    }\n",
              "</style>\n",
              "<table border=\"1\" class=\"dataframe\">\n",
              "  <thead>\n",
              "    <tr style=\"text-align: right;\">\n",
              "      <th></th>\n",
              "      <th>track_title</th>\n",
              "      <th>genres_all</th>\n",
              "      <th>genre_top</th>\n",
              "      <th>duration</th>\n",
              "      <th>track_listens</th>\n",
              "      <th>album</th>\n",
              "      <th>album_listens</th>\n",
              "      <th>tags</th>\n",
              "      <th>artist</th>\n",
              "      <th>location</th>\n",
              "    </tr>\n",
              "  </thead>\n",
              "  <tbody>\n",
              "    <tr>\n",
              "      <th>0</th>\n",
              "      <td>Food</td>\n",
              "      <td>[21]</td>\n",
              "      <td>Hip-Hop</td>\n",
              "      <td>168</td>\n",
              "      <td>1293</td>\n",
              "      <td>AWOL - A Way Of Life</td>\n",
              "      <td>6073</td>\n",
              "      <td>[]</td>\n",
              "      <td>AWOL</td>\n",
              "      <td>New Jersey</td>\n",
              "    </tr>\n",
              "    <tr>\n",
              "      <th>1</th>\n",
              "      <td>Electric Ave</td>\n",
              "      <td>[21]</td>\n",
              "      <td>Hip-Hop</td>\n",
              "      <td>237</td>\n",
              "      <td>514</td>\n",
              "      <td>AWOL - A Way Of Life</td>\n",
              "      <td>6073</td>\n",
              "      <td>[]</td>\n",
              "      <td>AWOL</td>\n",
              "      <td>New Jersey</td>\n",
              "    </tr>\n",
              "    <tr>\n",
              "      <th>2</th>\n",
              "      <td>This World</td>\n",
              "      <td>[21]</td>\n",
              "      <td>Hip-Hop</td>\n",
              "      <td>206</td>\n",
              "      <td>1151</td>\n",
              "      <td>AWOL - A Way Of Life</td>\n",
              "      <td>6073</td>\n",
              "      <td>[]</td>\n",
              "      <td>AWOL</td>\n",
              "      <td>New Jersey</td>\n",
              "    </tr>\n",
              "    <tr>\n",
              "      <th>3</th>\n",
              "      <td>Freeway</td>\n",
              "      <td>[10]</td>\n",
              "      <td>Pop</td>\n",
              "      <td>161</td>\n",
              "      <td>50135</td>\n",
              "      <td>Constant Hitmaker</td>\n",
              "      <td>47632</td>\n",
              "      <td>[]</td>\n",
              "      <td>Kurt Vile</td>\n",
              "      <td>NaN</td>\n",
              "    </tr>\n",
              "    <tr>\n",
              "      <th>4</th>\n",
              "      <td>Spiritual Level</td>\n",
              "      <td>[17, 10, 76, 103]</td>\n",
              "      <td>NaN</td>\n",
              "      <td>311</td>\n",
              "      <td>361</td>\n",
              "      <td>Niris</td>\n",
              "      <td>2710</td>\n",
              "      <td>[]</td>\n",
              "      <td>Nicky Cook</td>\n",
              "      <td>Colchester England</td>\n",
              "    </tr>\n",
              "  </tbody>\n",
              "</table>\n",
              "</div>"
            ],
            "text/plain": [
              "       track_title         genres_all genre_top duration track_listens  \\\n",
              "0             Food               [21]   Hip-Hop      168          1293   \n",
              "1     Electric Ave               [21]   Hip-Hop      237           514   \n",
              "2       This World               [21]   Hip-Hop      206          1151   \n",
              "3          Freeway               [10]       Pop      161         50135   \n",
              "4  Spiritual Level  [17, 10, 76, 103]       NaN      311           361   \n",
              "\n",
              "                  album album_listens tags      artist            location  \n",
              "0  AWOL - A Way Of Life          6073   []        AWOL          New Jersey  \n",
              "1  AWOL - A Way Of Life          6073   []        AWOL          New Jersey  \n",
              "2  AWOL - A Way Of Life          6073   []        AWOL          New Jersey  \n",
              "3     Constant Hitmaker         47632   []   Kurt Vile                 NaN  \n",
              "4                 Niris          2710   []  Nicky Cook  Colchester England  "
            ]
          },
          "metadata": {
            "tags": []
          },
          "execution_count": 112
        }
      ]
    },
    {
      "metadata": {
        "id": "tCH2NHRVrvsI",
        "colab_type": "code",
        "colab": {
          "base_uri": "https://localhost:8080/",
          "height": 34
        },
        "outputId": "05f40f7a-dee8-44e6-8b92-c032c4616e13"
      },
      "cell_type": "code",
      "source": [
        "df.shape"
      ],
      "execution_count": 113,
      "outputs": [
        {
          "output_type": "execute_result",
          "data": {
            "text/plain": [
              "(106574, 10)"
            ]
          },
          "metadata": {
            "tags": []
          },
          "execution_count": 113
        }
      ]
    },
    {
      "metadata": {
        "id": "hp53virNrzgM",
        "colab_type": "code",
        "colab": {
          "base_uri": "https://localhost:8080/",
          "height": 202
        },
        "outputId": "a9b3ce6c-828c-4b6e-fc52-678709236d61"
      },
      "cell_type": "code",
      "source": [
        "df.isnull().sum()\n",
        "#I'd like to re-engineer genre_top\n",
        "#not sure why nothing appears in tags"
      ],
      "execution_count": 114,
      "outputs": [
        {
          "output_type": "execute_result",
          "data": {
            "text/plain": [
              "track_title          1\n",
              "genres_all           0\n",
              "genre_top        56976\n",
              "duration             0\n",
              "track_listens        0\n",
              "album             1025\n",
              "album_listens        0\n",
              "tags                 0\n",
              "artist               0\n",
              "location         36364\n",
              "dtype: int64"
            ]
          },
          "metadata": {
            "tags": []
          },
          "execution_count": 114
        }
      ]
    },
    {
      "metadata": {
        "id": "TXWr_UmhyiCd",
        "colab_type": "code",
        "colab": {}
      },
      "cell_type": "code",
      "source": [
        "df['album'] = df.album.replace({np.nan:'None'})\n",
        "df['location'] = df.location.replace({np.nan:'None'})"
      ],
      "execution_count": 0,
      "outputs": []
    },
    {
      "metadata": {
        "id": "vzkwwxLH0Mwu",
        "colab_type": "code",
        "colab": {}
      },
      "cell_type": "code",
      "source": [
        "#df['track_title'] = df.track_title.replace({np.nan:'None'})\n",
        "df['track_title'] = df.track_title.replace({'None':'Untitled'})"
      ],
      "execution_count": 0,
      "outputs": []
    },
    {
      "metadata": {
        "id": "_gWZWasXse9i",
        "colab_type": "code",
        "colab": {
          "base_uri": "https://localhost:8080/",
          "height": 202
        },
        "outputId": "6a43478a-1f0e-4bd0-8a51-7bfbe3cccb74"
      },
      "cell_type": "code",
      "source": [
        "df.dtypes #fix duration, track_listens, album_listens"
      ],
      "execution_count": 116,
      "outputs": [
        {
          "output_type": "execute_result",
          "data": {
            "text/plain": [
              "track_title      object\n",
              "genres_all       object\n",
              "genre_top        object\n",
              "duration         object\n",
              "track_listens    object\n",
              "album            object\n",
              "album_listens    object\n",
              "tags             object\n",
              "artist           object\n",
              "location         object\n",
              "dtype: object"
            ]
          },
          "metadata": {
            "tags": []
          },
          "execution_count": 116
        }
      ]
    },
    {
      "metadata": {
        "id": "TvDhPH23tWxm",
        "colab_type": "code",
        "colab": {}
      },
      "cell_type": "code",
      "source": [
        "df['duration'] = df['duration'].astype(int)\n",
        "df['track_listens'] = df['track_listens'].astype(int)\n",
        "df['album_listens'] = df['album_listens'].astype(int)"
      ],
      "execution_count": 0,
      "outputs": []
    },
    {
      "metadata": {
        "id": "9vi-PyWS0Jgu",
        "colab_type": "code",
        "colab": {
          "base_uri": "https://localhost:8080/",
          "height": 202
        },
        "outputId": "f2d4eb2a-42e4-4a61-eb18-e478a170385c"
      },
      "cell_type": "code",
      "source": [
        "df.isnull().sum()"
      ],
      "execution_count": 125,
      "outputs": [
        {
          "output_type": "execute_result",
          "data": {
            "text/plain": [
              "track_title          0\n",
              "genres_all           0\n",
              "genre_top        56976\n",
              "duration             0\n",
              "track_listens        0\n",
              "album                0\n",
              "album_listens        0\n",
              "tags                 0\n",
              "artist               0\n",
              "location             0\n",
              "dtype: int64"
            ]
          },
          "metadata": {
            "tags": []
          },
          "execution_count": 125
        }
      ]
    },
    {
      "metadata": {
        "id": "LoUy8ey10cbF",
        "colab_type": "code",
        "colab": {}
      },
      "cell_type": "code",
      "source": [
        "#now that only genre_top has nan drop nans\n",
        "df = df.dropna().reset_index()"
      ],
      "execution_count": 0,
      "outputs": []
    },
    {
      "metadata": {
        "id": "iPxsJ2BFzlIC",
        "colab_type": "code",
        "colab": {
          "base_uri": "https://localhost:8080/",
          "height": 284
        },
        "outputId": "4c8f237b-5c86-4efe-a58e-ffdae9666eda"
      },
      "cell_type": "code",
      "source": [
        "df.describe()"
      ],
      "execution_count": 127,
      "outputs": [
        {
          "output_type": "execute_result",
          "data": {
            "text/html": [
              "<div>\n",
              "<style scoped>\n",
              "    .dataframe tbody tr th:only-of-type {\n",
              "        vertical-align: middle;\n",
              "    }\n",
              "\n",
              "    .dataframe tbody tr th {\n",
              "        vertical-align: top;\n",
              "    }\n",
              "\n",
              "    .dataframe thead th {\n",
              "        text-align: right;\n",
              "    }\n",
              "</style>\n",
              "<table border=\"1\" class=\"dataframe\">\n",
              "  <thead>\n",
              "    <tr style=\"text-align: right;\">\n",
              "      <th></th>\n",
              "      <th>index</th>\n",
              "      <th>duration</th>\n",
              "      <th>track_listens</th>\n",
              "      <th>album_listens</th>\n",
              "    </tr>\n",
              "  </thead>\n",
              "  <tbody>\n",
              "    <tr>\n",
              "      <th>count</th>\n",
              "      <td>49598.000000</td>\n",
              "      <td>49598.000000</td>\n",
              "      <td>49598.000000</td>\n",
              "      <td>4.959800e+04</td>\n",
              "    </tr>\n",
              "    <tr>\n",
              "      <th>mean</th>\n",
              "      <td>48261.669422</td>\n",
              "      <td>268.627263</td>\n",
              "      <td>1586.328380</td>\n",
              "      <td>1.997469e+04</td>\n",
              "    </tr>\n",
              "    <tr>\n",
              "      <th>std</th>\n",
              "      <td>31139.382011</td>\n",
              "      <td>284.327919</td>\n",
              "      <td>6039.952955</td>\n",
              "      <td>5.736980e+04</td>\n",
              "    </tr>\n",
              "    <tr>\n",
              "      <th>min</th>\n",
              "      <td>0.000000</td>\n",
              "      <td>0.000000</td>\n",
              "      <td>1.000000</td>\n",
              "      <td>-1.000000e+00</td>\n",
              "    </tr>\n",
              "    <tr>\n",
              "      <th>25%</th>\n",
              "      <td>20734.250000</td>\n",
              "      <td>146.000000</td>\n",
              "      <td>212.000000</td>\n",
              "      <td>2.602000e+03</td>\n",
              "    </tr>\n",
              "    <tr>\n",
              "      <th>50%</th>\n",
              "      <td>45629.500000</td>\n",
              "      <td>211.000000</td>\n",
              "      <td>520.000000</td>\n",
              "      <td>6.092000e+03</td>\n",
              "    </tr>\n",
              "    <tr>\n",
              "      <th>75%</th>\n",
              "      <td>75090.750000</td>\n",
              "      <td>299.000000</td>\n",
              "      <td>1321.000000</td>\n",
              "      <td>1.621900e+04</td>\n",
              "    </tr>\n",
              "    <tr>\n",
              "      <th>max</th>\n",
              "      <td>106572.000000</td>\n",
              "      <td>11030.000000</td>\n",
              "      <td>543252.000000</td>\n",
              "      <td>1.193803e+06</td>\n",
              "    </tr>\n",
              "  </tbody>\n",
              "</table>\n",
              "</div>"
            ],
            "text/plain": [
              "               index      duration  track_listens  album_listens\n",
              "count   49598.000000  49598.000000   49598.000000   4.959800e+04\n",
              "mean    48261.669422    268.627263    1586.328380   1.997469e+04\n",
              "std     31139.382011    284.327919    6039.952955   5.736980e+04\n",
              "min         0.000000      0.000000       1.000000  -1.000000e+00\n",
              "25%     20734.250000    146.000000     212.000000   2.602000e+03\n",
              "50%     45629.500000    211.000000     520.000000   6.092000e+03\n",
              "75%     75090.750000    299.000000    1321.000000   1.621900e+04\n",
              "max    106572.000000  11030.000000  543252.000000   1.193803e+06"
            ]
          },
          "metadata": {
            "tags": []
          },
          "execution_count": 127
        }
      ]
    },
    {
      "metadata": {
        "id": "-3NekxhLzoFF",
        "colab_type": "code",
        "colab": {
          "base_uri": "https://localhost:8080/",
          "height": 182
        },
        "outputId": "37e46197-5229-416f-8e6f-e46b107376eb"
      },
      "cell_type": "code",
      "source": [
        "df.describe(include=[np.object])"
      ],
      "execution_count": 130,
      "outputs": [
        {
          "output_type": "execute_result",
          "data": {
            "text/html": [
              "<div>\n",
              "<style scoped>\n",
              "    .dataframe tbody tr th:only-of-type {\n",
              "        vertical-align: middle;\n",
              "    }\n",
              "\n",
              "    .dataframe tbody tr th {\n",
              "        vertical-align: top;\n",
              "    }\n",
              "\n",
              "    .dataframe thead th {\n",
              "        text-align: right;\n",
              "    }\n",
              "</style>\n",
              "<table border=\"1\" class=\"dataframe\">\n",
              "  <thead>\n",
              "    <tr style=\"text-align: right;\">\n",
              "      <th></th>\n",
              "      <th>track_title</th>\n",
              "      <th>genres_all</th>\n",
              "      <th>genre_top</th>\n",
              "      <th>album</th>\n",
              "      <th>tags</th>\n",
              "      <th>artist</th>\n",
              "      <th>location</th>\n",
              "    </tr>\n",
              "  </thead>\n",
              "  <tbody>\n",
              "    <tr>\n",
              "      <th>count</th>\n",
              "      <td>49598</td>\n",
              "      <td>49598</td>\n",
              "      <td>49598</td>\n",
              "      <td>49598</td>\n",
              "      <td>49598</td>\n",
              "      <td>49598</td>\n",
              "      <td>49598</td>\n",
              "    </tr>\n",
              "    <tr>\n",
              "      <th>unique</th>\n",
              "      <td>45195</td>\n",
              "      <td>726</td>\n",
              "      <td>16</td>\n",
              "      <td>7076</td>\n",
              "      <td>993</td>\n",
              "      <td>9070</td>\n",
              "      <td>1565</td>\n",
              "    </tr>\n",
              "    <tr>\n",
              "      <th>top</th>\n",
              "      <td>Untitled</td>\n",
              "      <td>[21]</td>\n",
              "      <td>Rock</td>\n",
              "      <td>microSong Entries</td>\n",
              "      <td>[]</td>\n",
              "      <td>James Kibbie</td>\n",
              "      <td>None</td>\n",
              "    </tr>\n",
              "    <tr>\n",
              "      <th>freq</th>\n",
              "      <td>195</td>\n",
              "      <td>2735</td>\n",
              "      <td>14182</td>\n",
              "      <td>310</td>\n",
              "      <td>40974</td>\n",
              "      <td>319</td>\n",
              "      <td>17488</td>\n",
              "    </tr>\n",
              "  </tbody>\n",
              "</table>\n",
              "</div>"
            ],
            "text/plain": [
              "       track_title genres_all genre_top              album   tags  \\\n",
              "count        49598      49598     49598              49598  49598   \n",
              "unique       45195        726        16               7076    993   \n",
              "top       Untitled       [21]      Rock  microSong Entries     []   \n",
              "freq           195       2735     14182                310  40974   \n",
              "\n",
              "              artist location  \n",
              "count          49598    49598  \n",
              "unique          9070     1565  \n",
              "top     James Kibbie     None  \n",
              "freq             319    17488  "
            ]
          },
          "metadata": {
            "tags": []
          },
          "execution_count": 130
        }
      ]
    },
    {
      "metadata": {
        "id": "koY2SWZ1wl01",
        "colab_type": "code",
        "colab": {}
      },
      "cell_type": "code",
      "source": [
        "#I'm going to predict with topgenre for time's sake\n",
        "#I'd like to convert each string feature into an int by its unique\n",
        "X = df.drop(columns = ['genre_top', 'genres_all'])\n",
        "y = df['genre_top']"
      ],
      "execution_count": 0,
      "outputs": []
    },
    {
      "metadata": {
        "id": "377xJFUB7u0e",
        "colab_type": "code",
        "colab": {
          "base_uri": "https://localhost:8080/",
          "height": 34
        },
        "outputId": "9c436dad-72fb-4b6d-ba6b-54fc0ed40504"
      },
      "cell_type": "code",
      "source": [
        "#convert the strings to classification integers\n",
        "n = 0\n",
        "for genre in df['genre_top'].unique():\n",
        "  df['genre_top'] = df['genre_top'].replace({genre:n})\n",
        "  n = n+1\n",
        "\n",
        "df['genre_top'].unique()"
      ],
      "execution_count": 148,
      "outputs": [
        {
          "output_type": "execute_result",
          "data": {
            "text/plain": [
              "array([ 0,  1,  2,  3,  4,  5,  6,  7,  8,  9, 10, 11, 12, 13, 14, 15])"
            ]
          },
          "metadata": {
            "tags": []
          },
          "execution_count": 148
        }
      ]
    },
    {
      "metadata": {
        "id": "wpubFeVcAbEt",
        "colab_type": "code",
        "colab": {}
      },
      "cell_type": "code",
      "source": [
        "n = 0\n",
        "for genre in df['album'].unique():\n",
        "  df['album'] = df['album'].replace({genre:n})\n",
        "  n = n+1"
      ],
      "execution_count": 0,
      "outputs": []
    },
    {
      "metadata": {
        "id": "l5boKs5-AtnX",
        "colab_type": "code",
        "colab": {}
      },
      "cell_type": "code",
      "source": [
        "n = 0\n",
        "for tags in df['tags'].unique():\n",
        "  df['tags'] = df['tags'].replace({tags:n})\n",
        "  n = n+1"
      ],
      "execution_count": 0,
      "outputs": []
    },
    {
      "metadata": {
        "id": "_ZtPtGDrBfCF",
        "colab_type": "code",
        "colab": {}
      },
      "cell_type": "code",
      "source": [
        "n = 0\n",
        "for artist in df['artist'].unique():\n",
        "  df['artist'] = df['artist'].replace({artist:n})\n",
        "  n = n+1"
      ],
      "execution_count": 0,
      "outputs": []
    },
    {
      "metadata": {
        "id": "PmMEHcq9CJBj",
        "colab_type": "code",
        "colab": {}
      },
      "cell_type": "code",
      "source": [
        "n = 0\n",
        "for location in df['location'].unique():\n",
        "  df['location'] = df['location'].replace({location:n})\n",
        "  n = n+1"
      ],
      "execution_count": 0,
      "outputs": []
    },
    {
      "metadata": {
        "id": "mT6YaD1eCf0-",
        "colab_type": "code",
        "colab": {
          "base_uri": "https://localhost:8080/",
          "height": 215
        },
        "outputId": "e48e3cbf-480a-4ffc-eced-4370d4777970"
      },
      "cell_type": "code",
      "source": [
        "#please...\n",
        "df.head() #yes we can continue to the regression"
      ],
      "execution_count": 154,
      "outputs": [
        {
          "output_type": "execute_result",
          "data": {
            "text/html": [
              "<div>\n",
              "<style scoped>\n",
              "    .dataframe tbody tr th:only-of-type {\n",
              "        vertical-align: middle;\n",
              "    }\n",
              "\n",
              "    .dataframe tbody tr th {\n",
              "        vertical-align: top;\n",
              "    }\n",
              "\n",
              "    .dataframe thead th {\n",
              "        text-align: right;\n",
              "    }\n",
              "</style>\n",
              "<table border=\"1\" class=\"dataframe\">\n",
              "  <thead>\n",
              "    <tr style=\"text-align: right;\">\n",
              "      <th></th>\n",
              "      <th>index</th>\n",
              "      <th>track_title</th>\n",
              "      <th>genres_all</th>\n",
              "      <th>genre_top</th>\n",
              "      <th>duration</th>\n",
              "      <th>track_listens</th>\n",
              "      <th>album</th>\n",
              "      <th>album_listens</th>\n",
              "      <th>tags</th>\n",
              "      <th>artist</th>\n",
              "      <th>location</th>\n",
              "    </tr>\n",
              "  </thead>\n",
              "  <tbody>\n",
              "    <tr>\n",
              "      <th>0</th>\n",
              "      <td>0</td>\n",
              "      <td>Food</td>\n",
              "      <td>[21]</td>\n",
              "      <td>0</td>\n",
              "      <td>168</td>\n",
              "      <td>1293</td>\n",
              "      <td>0</td>\n",
              "      <td>6073</td>\n",
              "      <td>0</td>\n",
              "      <td>0</td>\n",
              "      <td>0</td>\n",
              "    </tr>\n",
              "    <tr>\n",
              "      <th>1</th>\n",
              "      <td>1</td>\n",
              "      <td>Electric Ave</td>\n",
              "      <td>[21]</td>\n",
              "      <td>0</td>\n",
              "      <td>237</td>\n",
              "      <td>514</td>\n",
              "      <td>0</td>\n",
              "      <td>6073</td>\n",
              "      <td>0</td>\n",
              "      <td>0</td>\n",
              "      <td>0</td>\n",
              "    </tr>\n",
              "    <tr>\n",
              "      <th>2</th>\n",
              "      <td>2</td>\n",
              "      <td>This World</td>\n",
              "      <td>[21]</td>\n",
              "      <td>0</td>\n",
              "      <td>206</td>\n",
              "      <td>1151</td>\n",
              "      <td>0</td>\n",
              "      <td>6073</td>\n",
              "      <td>0</td>\n",
              "      <td>0</td>\n",
              "      <td>0</td>\n",
              "    </tr>\n",
              "    <tr>\n",
              "      <th>3</th>\n",
              "      <td>3</td>\n",
              "      <td>Freeway</td>\n",
              "      <td>[10]</td>\n",
              "      <td>1</td>\n",
              "      <td>161</td>\n",
              "      <td>50135</td>\n",
              "      <td>1</td>\n",
              "      <td>47632</td>\n",
              "      <td>0</td>\n",
              "      <td>1</td>\n",
              "      <td>1</td>\n",
              "    </tr>\n",
              "    <tr>\n",
              "      <th>4</th>\n",
              "      <td>9</td>\n",
              "      <td>Street Music</td>\n",
              "      <td>[21]</td>\n",
              "      <td>0</td>\n",
              "      <td>207</td>\n",
              "      <td>943</td>\n",
              "      <td>0</td>\n",
              "      <td>6073</td>\n",
              "      <td>0</td>\n",
              "      <td>0</td>\n",
              "      <td>0</td>\n",
              "    </tr>\n",
              "  </tbody>\n",
              "</table>\n",
              "</div>"
            ],
            "text/plain": [
              "   index   track_title genres_all  genre_top  duration  track_listens  album  \\\n",
              "0      0          Food       [21]          0       168           1293      0   \n",
              "1      1  Electric Ave       [21]          0       237            514      0   \n",
              "2      2    This World       [21]          0       206           1151      0   \n",
              "3      3       Freeway       [10]          1       161          50135      1   \n",
              "4      9  Street Music       [21]          0       207            943      0   \n",
              "\n",
              "   album_listens  tags  artist  location  \n",
              "0           6073     0       0         0  \n",
              "1           6073     0       0         0  \n",
              "2           6073     0       0         0  \n",
              "3          47632     0       1         1  \n",
              "4           6073     0       0         0  "
            ]
          },
          "metadata": {
            "tags": []
          },
          "execution_count": 154
        }
      ]
    },
    {
      "metadata": {
        "id": "2Wo4AnK7AUPD",
        "colab_type": "code",
        "colab": {}
      },
      "cell_type": "code",
      "source": [
        "#I'm going to predict with topgenre for time's sake\n",
        "X = df.drop(columns = ['genre_top', 'genres_all', 'track_title','index'])\n",
        "y = df['genre_top']"
      ],
      "execution_count": 0,
      "outputs": []
    },
    {
      "metadata": {
        "id": "hAw4xN29x3To",
        "colab_type": "code",
        "colab": {}
      },
      "cell_type": "code",
      "source": [
        "from sklearn.model_selection import train_test_split\n",
        "Xtrain, Xtest, ytrain, ytest = train_test_split(X,y,test_size=0.2, random_state=42)\n",
        "\n",
        "model2 = LogisticRegression(random_state=42, solver = 'lbfgs',\n",
        "                           multi_class = 'multinomial', max_iter=8000)\n",
        "\n",
        "model2.fit(Xtrain, ytrain)\n",
        "model2.score(Xtest, ytest)"
      ],
      "execution_count": 0,
      "outputs": []
    },
    {
      "metadata": {
        "id": "kQUVlUKQMPPW",
        "colab_type": "text"
      },
      "cell_type": "markdown",
      "source": [
        "This is the biggest data you've played with so far, and while it does generally fit in Colab, it can take awhile to run. That's part of the challenge!\n",
        "\n",
        "Your tasks:\n",
        "- Clean up the variable names in the dataframe\n",
        "- Use logistic regression to fit a model predicting (primary/top) genre\n",
        "- Inspect, iterate, and improve your model\n",
        "- Answer the following questions (written, ~paragraph each):\n",
        "  - What are the best predictors of genre?\n",
        "  - What information isn't very useful for predicting genre?\n",
        "  - What surprised you the most about your results?\n",
        "\n",
        "*Important caveats*:\n",
        "- This is going to be difficult data to work with - don't let the perfect be the enemy of the good!\n",
        "- Be creative in cleaning it up - if the best way you know how to do it is download it locally and edit as a spreadsheet, that's OK!\n",
        "- If the data size becomes problematic, consider sampling/subsetting\n",
        "- You do not need perfect or complete results - just something plausible that runs, and that supports the reasoning in your written answers\n",
        "\n",
        "If you find that fitting a model to classify *all* genres isn't very good, it's totally OK to limit to the most frequent genres, or perhaps trying to combine or cluster genres as a preprocessing step. Even then, there will be limits to how good a model can be with just this metadata - if you really want to train an effective genre classifier, you'll have to involve the other data (see stretch goals).\n",
        "\n",
        "This is real data - there is no \"one correct answer\", so you can take this in a variety of directions. Just make sure to support your findings, and feel free to share them as well! This is meant to be practice for dealing with other \"messy\" data, a common task in data science."
      ]
    },
    {
      "metadata": {
        "id": "wlI5OXfSag9C",
        "colab_type": "text"
      },
      "cell_type": "markdown",
      "source": [
        "## Resources and stretch goals\n",
        "\n",
        "- Check out the other .csv files from the FMA dataset, and see if you can join them or otherwise fit interesting models with them\n",
        "- [Logistic regression from scratch in numpy](https://blog.goodaudience.com/logistic-regression-from-scratch-in-numpy-5841c09e425f) - if you want to dig in a bit more to both the code and math (also takes a gradient descent approach, introducing the logistic loss function)\n",
        "- Create a visualization to show predictions of your model - ideally show a confidence interval based on error!\n",
        "- Check out and compare classification models from scikit-learn, such as [SVM](https://scikit-learn.org/stable/modules/svm.html#classification), [decision trees](https://scikit-learn.org/stable/modules/tree.html#classification), and [naive Bayes](https://scikit-learn.org/stable/modules/naive_bayes.html). The underlying math will vary significantly, but the API (how you write the code) and interpretation will actually be fairly similar.\n",
        "- Sign up for [Kaggle](https://kaggle.com), and find a competition to try logistic regression with\n",
        "- (Not logistic regression related) If you enjoyed the assignment, you may want to read up on [music informatics](https://en.wikipedia.org/wiki/Music_informatics), which is how those audio features were actually calculated. The FMA includes the actual raw audio, so (while this is more of a longterm project than a stretch goal, and won't fit in Colab) if you'd like you can check those out and see what sort of deeper analysis you can do."
      ]
    }
  ]
}