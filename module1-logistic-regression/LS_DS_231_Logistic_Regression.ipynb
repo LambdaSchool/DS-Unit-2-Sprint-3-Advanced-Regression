{
  "nbformat": 4,
  "nbformat_minor": 0,
  "metadata": {
    "colab": {
      "name": "LS_DS_231_Logistic_Regression.ipynb",
      "version": "0.3.2",
      "provenance": [],
      "include_colab_link": true
    },
    "kernelspec": {
      "name": "python3",
      "display_name": "Python 3"
    }
  },
  "cells": [
    {
      "cell_type": "markdown",
      "metadata": {
        "id": "view-in-github",
        "colab_type": "text"
      },
      "source": [
        "<a href=\"https://colab.research.google.com/github/DimaKav/DS-Unit-2-Sprint-3-Advanced-Regression/blob/master/module1-logistic-regression/LS_DS_231_Logistic_Regression.ipynb\" target=\"_parent\"><img src=\"https://colab.research.google.com/assets/colab-badge.svg\" alt=\"Open In Colab\"/></a>"
      ]
    },
    {
      "metadata": {
        "colab_type": "text",
        "id": "HiLSr53MDcSl"
      },
      "cell_type": "markdown",
      "source": [
        ""
      ]
    },
    {
      "metadata": {
        "id": "N7SXF6jEBd5_",
        "colab_type": "text"
      },
      "cell_type": "markdown",
      "source": [
        "# Lambda School Data Science - Logistic Regression\n",
        "\n",
        "Logistic regression is the baseline for classification models, as well as a handy way to predict probabilities (since those too live in the unit interval). While relatively simple, it is also the foundation for more sophisticated classification techniques such as neural networks (many of which can effectively be thought of as networks of logistic models)."
      ]
    },
    {
      "metadata": {
        "id": "E7-AOngjadRN",
        "colab_type": "text"
      },
      "cell_type": "markdown",
      "source": [
        "## Lecture - Where Linear goes Wrong\n",
        "### Return of the Titanic 🚢\n",
        "\n",
        "You've likely already explored the rich dataset that is the Titanic - let's use regression and try to predict survival with it. The data is [available from Kaggle](https://www.kaggle.com/c/titanic/data), so we'll also play a bit with [the Kaggle API](https://github.com/Kaggle/kaggle-api)."
      ]
    },
    {
      "metadata": {
        "id": "MnHLWPYDcyIe",
        "colab_type": "code",
        "outputId": "1d0b1c18-7dc4-46e0-8d52-2e3693868670",
        "colab": {
          "base_uri": "https://localhost:8080/",
          "height": 228
        }
      },
      "cell_type": "code",
      "source": [
        "!pip install kaggle"
      ],
      "execution_count": 0,
      "outputs": [
        {
          "output_type": "stream",
          "text": [
            "Requirement already satisfied: kaggle in /usr/local/lib/python3.6/dist-packages (1.5.1.1)\n",
            "Requirement already satisfied: urllib3<1.23.0,>=1.15 in /usr/local/lib/python3.6/dist-packages (from kaggle) (1.22)\n",
            "Requirement already satisfied: six>=1.10 in /usr/local/lib/python3.6/dist-packages (from kaggle) (1.11.0)\n",
            "Requirement already satisfied: certifi in /usr/local/lib/python3.6/dist-packages (from kaggle) (2018.11.29)\n",
            "Requirement already satisfied: python-dateutil in /usr/local/lib/python3.6/dist-packages (from kaggle) (2.5.3)\n",
            "Requirement already satisfied: requests in /usr/local/lib/python3.6/dist-packages (from kaggle) (2.18.4)\n",
            "Requirement already satisfied: tqdm in /usr/local/lib/python3.6/dist-packages (from kaggle) (4.28.1)\n",
            "Requirement already satisfied: python-slugify in /usr/local/lib/python3.6/dist-packages (from kaggle) (2.0.1)\n",
            "Requirement already satisfied: idna<2.7,>=2.5 in /usr/local/lib/python3.6/dist-packages (from requests->kaggle) (2.6)\n",
            "Requirement already satisfied: chardet<3.1.0,>=3.0.2 in /usr/local/lib/python3.6/dist-packages (from requests->kaggle) (3.0.4)\n",
            "Requirement already satisfied: Unidecode>=0.04.16 in /usr/local/lib/python3.6/dist-packages (from python-slugify->kaggle) (1.0.23)\n"
          ],
          "name": "stdout"
        }
      ]
    },
    {
      "metadata": {
        "id": "wPgce-jQc5zi",
        "colab_type": "code",
        "outputId": "bfe4f0e8-0730-4b58-8e2a-ea4e44aebc8e",
        "colab": {
          "base_uri": "https://localhost:8080/",
          "height": 298
        }
      },
      "cell_type": "code",
      "source": [
        "# Note - you'll also have to sign up for Kaggle and authorize the API\n",
        "# https://github.com/Kaggle/kaggle-api#api-credentials\n",
        "\n",
        "# This essentially means uploading a kaggle.json file\n",
        "# For Colab we can have it in Google Drive\n",
        "from google.colab import drive\n",
        "drive.mount('/content/drive')\n",
        "%env KAGGLE_CONFIG_DIR=/content/drive/My Drive/\n",
        "\n",
        "# You also have to join the Titanic competition to have access to the data\n",
        "!kaggle competitions download -c titanic"
      ],
      "execution_count": 0,
      "outputs": [
        {
          "output_type": "stream",
          "text": [
            "Go to this URL in a browser: https://accounts.google.com/o/oauth2/auth?client_id=947318989803-6bn6qk8qdgf4n4g3pfee6491hc0brc4i.apps.googleusercontent.com&redirect_uri=urn%3Aietf%3Awg%3Aoauth%3A2.0%3Aoob&scope=email%20https%3A%2F%2Fwww.googleapis.com%2Fauth%2Fdocs.test%20https%3A%2F%2Fwww.googleapis.com%2Fauth%2Fdrive%20https%3A%2F%2Fwww.googleapis.com%2Fauth%2Fdrive.photos.readonly%20https%3A%2F%2Fwww.googleapis.com%2Fauth%2Fpeopleapi.readonly&response_type=code\n",
            "\n",
            "Enter your authorization code:\n",
            "··········\n",
            "Mounted at /content/drive\n",
            "env: KAGGLE_CONFIG_DIR=/content/drive/My Drive/\n",
            "Downloading train.csv to /content\n",
            "  0% 0.00/59.8k [00:00<?, ?B/s]\n",
            "100% 59.8k/59.8k [00:00<00:00, 23.7MB/s]\n",
            "Downloading test.csv to /content\n",
            "  0% 0.00/28.0k [00:00<?, ?B/s]\n",
            "100% 28.0k/28.0k [00:00<00:00, 28.8MB/s]\n",
            "Downloading gender_submission.csv to /content\n",
            "  0% 0.00/3.18k [00:00<?, ?B/s]\n",
            "100% 3.18k/3.18k [00:00<00:00, 2.15MB/s]\n"
          ],
          "name": "stdout"
        }
      ]
    },
    {
      "metadata": {
        "id": "-PtztP8YlFym",
        "colab_type": "code",
        "outputId": "8b18c64d-988a-44b1-e988-9de3fa61a5d7",
        "colab": {
          "base_uri": "https://localhost:8080/",
          "height": 487
        }
      },
      "cell_type": "code",
      "source": [
        "# How would we try to do this with linear regression?\n",
        "import pandas as pd\n",
        "\n",
        "train_df = pd.read_csv('train.csv').dropna()\n",
        "test_df = pd.read_csv('test.csv').dropna()  # Unlabeled, for Kaggle submission\n",
        "\n",
        "train_df.head()"
      ],
      "execution_count": 0,
      "outputs": [
        {
          "output_type": "execute_result",
          "data": {
            "text/html": [
              "<div>\n",
              "<style scoped>\n",
              "    .dataframe tbody tr th:only-of-type {\n",
              "        vertical-align: middle;\n",
              "    }\n",
              "\n",
              "    .dataframe tbody tr th {\n",
              "        vertical-align: top;\n",
              "    }\n",
              "\n",
              "    .dataframe thead th {\n",
              "        text-align: right;\n",
              "    }\n",
              "</style>\n",
              "<table border=\"1\" class=\"dataframe\">\n",
              "  <thead>\n",
              "    <tr style=\"text-align: right;\">\n",
              "      <th></th>\n",
              "      <th>PassengerId</th>\n",
              "      <th>Survived</th>\n",
              "      <th>Pclass</th>\n",
              "      <th>Name</th>\n",
              "      <th>Sex</th>\n",
              "      <th>Age</th>\n",
              "      <th>SibSp</th>\n",
              "      <th>Parch</th>\n",
              "      <th>Ticket</th>\n",
              "      <th>Fare</th>\n",
              "      <th>Cabin</th>\n",
              "      <th>Embarked</th>\n",
              "    </tr>\n",
              "  </thead>\n",
              "  <tbody>\n",
              "    <tr>\n",
              "      <th>1</th>\n",
              "      <td>2</td>\n",
              "      <td>1</td>\n",
              "      <td>1</td>\n",
              "      <td>Cumings, Mrs. John Bradley (Florence Briggs Th...</td>\n",
              "      <td>female</td>\n",
              "      <td>38.0</td>\n",
              "      <td>1</td>\n",
              "      <td>0</td>\n",
              "      <td>PC 17599</td>\n",
              "      <td>71.2833</td>\n",
              "      <td>C85</td>\n",
              "      <td>C</td>\n",
              "    </tr>\n",
              "    <tr>\n",
              "      <th>3</th>\n",
              "      <td>4</td>\n",
              "      <td>1</td>\n",
              "      <td>1</td>\n",
              "      <td>Futrelle, Mrs. Jacques Heath (Lily May Peel)</td>\n",
              "      <td>female</td>\n",
              "      <td>35.0</td>\n",
              "      <td>1</td>\n",
              "      <td>0</td>\n",
              "      <td>113803</td>\n",
              "      <td>53.1000</td>\n",
              "      <td>C123</td>\n",
              "      <td>S</td>\n",
              "    </tr>\n",
              "    <tr>\n",
              "      <th>6</th>\n",
              "      <td>7</td>\n",
              "      <td>0</td>\n",
              "      <td>1</td>\n",
              "      <td>McCarthy, Mr. Timothy J</td>\n",
              "      <td>male</td>\n",
              "      <td>54.0</td>\n",
              "      <td>0</td>\n",
              "      <td>0</td>\n",
              "      <td>17463</td>\n",
              "      <td>51.8625</td>\n",
              "      <td>E46</td>\n",
              "      <td>S</td>\n",
              "    </tr>\n",
              "    <tr>\n",
              "      <th>10</th>\n",
              "      <td>11</td>\n",
              "      <td>1</td>\n",
              "      <td>3</td>\n",
              "      <td>Sandstrom, Miss. Marguerite Rut</td>\n",
              "      <td>female</td>\n",
              "      <td>4.0</td>\n",
              "      <td>1</td>\n",
              "      <td>1</td>\n",
              "      <td>PP 9549</td>\n",
              "      <td>16.7000</td>\n",
              "      <td>G6</td>\n",
              "      <td>S</td>\n",
              "    </tr>\n",
              "    <tr>\n",
              "      <th>11</th>\n",
              "      <td>12</td>\n",
              "      <td>1</td>\n",
              "      <td>1</td>\n",
              "      <td>Bonnell, Miss. Elizabeth</td>\n",
              "      <td>female</td>\n",
              "      <td>58.0</td>\n",
              "      <td>0</td>\n",
              "      <td>0</td>\n",
              "      <td>113783</td>\n",
              "      <td>26.5500</td>\n",
              "      <td>C103</td>\n",
              "      <td>S</td>\n",
              "    </tr>\n",
              "  </tbody>\n",
              "</table>\n",
              "</div>"
            ],
            "text/plain": [
              "    PassengerId  Survived  Pclass  \\\n",
              "1             2         1       1   \n",
              "3             4         1       1   \n",
              "6             7         0       1   \n",
              "10           11         1       3   \n",
              "11           12         1       1   \n",
              "\n",
              "                                                 Name     Sex   Age  SibSp  \\\n",
              "1   Cumings, Mrs. John Bradley (Florence Briggs Th...  female  38.0      1   \n",
              "3        Futrelle, Mrs. Jacques Heath (Lily May Peel)  female  35.0      1   \n",
              "6                             McCarthy, Mr. Timothy J    male  54.0      0   \n",
              "10                    Sandstrom, Miss. Marguerite Rut  female   4.0      1   \n",
              "11                           Bonnell, Miss. Elizabeth  female  58.0      0   \n",
              "\n",
              "    Parch    Ticket     Fare Cabin Embarked  \n",
              "1       0  PC 17599  71.2833   C85        C  \n",
              "3       0    113803  53.1000  C123        S  \n",
              "6       0     17463  51.8625   E46        S  \n",
              "10      1   PP 9549  16.7000    G6        S  \n",
              "11      0    113783  26.5500  C103        S  "
            ]
          },
          "metadata": {
            "tags": []
          },
          "execution_count": 3
        }
      ]
    },
    {
      "metadata": {
        "id": "Ey2ZHrGW_n_t",
        "colab_type": "code",
        "outputId": "49215e63-a75f-4de4-af3c-ebb434cea2e4",
        "colab": {
          "base_uri": "https://localhost:8080/",
          "height": 300
        }
      },
      "cell_type": "code",
      "source": [
        "train_df.describe()"
      ],
      "execution_count": 0,
      "outputs": [
        {
          "output_type": "execute_result",
          "data": {
            "text/html": [
              "<div>\n",
              "<style scoped>\n",
              "    .dataframe tbody tr th:only-of-type {\n",
              "        vertical-align: middle;\n",
              "    }\n",
              "\n",
              "    .dataframe tbody tr th {\n",
              "        vertical-align: top;\n",
              "    }\n",
              "\n",
              "    .dataframe thead th {\n",
              "        text-align: right;\n",
              "    }\n",
              "</style>\n",
              "<table border=\"1\" class=\"dataframe\">\n",
              "  <thead>\n",
              "    <tr style=\"text-align: right;\">\n",
              "      <th></th>\n",
              "      <th>PassengerId</th>\n",
              "      <th>Survived</th>\n",
              "      <th>Pclass</th>\n",
              "      <th>Age</th>\n",
              "      <th>SibSp</th>\n",
              "      <th>Parch</th>\n",
              "      <th>Fare</th>\n",
              "    </tr>\n",
              "  </thead>\n",
              "  <tbody>\n",
              "    <tr>\n",
              "      <th>count</th>\n",
              "      <td>183.000000</td>\n",
              "      <td>183.000000</td>\n",
              "      <td>183.000000</td>\n",
              "      <td>183.000000</td>\n",
              "      <td>183.000000</td>\n",
              "      <td>183.000000</td>\n",
              "      <td>183.000000</td>\n",
              "    </tr>\n",
              "    <tr>\n",
              "      <th>mean</th>\n",
              "      <td>455.366120</td>\n",
              "      <td>0.672131</td>\n",
              "      <td>1.191257</td>\n",
              "      <td>35.674426</td>\n",
              "      <td>0.464481</td>\n",
              "      <td>0.475410</td>\n",
              "      <td>78.682469</td>\n",
              "    </tr>\n",
              "    <tr>\n",
              "      <th>std</th>\n",
              "      <td>247.052476</td>\n",
              "      <td>0.470725</td>\n",
              "      <td>0.515187</td>\n",
              "      <td>15.643866</td>\n",
              "      <td>0.644159</td>\n",
              "      <td>0.754617</td>\n",
              "      <td>76.347843</td>\n",
              "    </tr>\n",
              "    <tr>\n",
              "      <th>min</th>\n",
              "      <td>2.000000</td>\n",
              "      <td>0.000000</td>\n",
              "      <td>1.000000</td>\n",
              "      <td>0.920000</td>\n",
              "      <td>0.000000</td>\n",
              "      <td>0.000000</td>\n",
              "      <td>0.000000</td>\n",
              "    </tr>\n",
              "    <tr>\n",
              "      <th>25%</th>\n",
              "      <td>263.500000</td>\n",
              "      <td>0.000000</td>\n",
              "      <td>1.000000</td>\n",
              "      <td>24.000000</td>\n",
              "      <td>0.000000</td>\n",
              "      <td>0.000000</td>\n",
              "      <td>29.700000</td>\n",
              "    </tr>\n",
              "    <tr>\n",
              "      <th>50%</th>\n",
              "      <td>457.000000</td>\n",
              "      <td>1.000000</td>\n",
              "      <td>1.000000</td>\n",
              "      <td>36.000000</td>\n",
              "      <td>0.000000</td>\n",
              "      <td>0.000000</td>\n",
              "      <td>57.000000</td>\n",
              "    </tr>\n",
              "    <tr>\n",
              "      <th>75%</th>\n",
              "      <td>676.000000</td>\n",
              "      <td>1.000000</td>\n",
              "      <td>1.000000</td>\n",
              "      <td>47.500000</td>\n",
              "      <td>1.000000</td>\n",
              "      <td>1.000000</td>\n",
              "      <td>90.000000</td>\n",
              "    </tr>\n",
              "    <tr>\n",
              "      <th>max</th>\n",
              "      <td>890.000000</td>\n",
              "      <td>1.000000</td>\n",
              "      <td>3.000000</td>\n",
              "      <td>80.000000</td>\n",
              "      <td>3.000000</td>\n",
              "      <td>4.000000</td>\n",
              "      <td>512.329200</td>\n",
              "    </tr>\n",
              "  </tbody>\n",
              "</table>\n",
              "</div>"
            ],
            "text/plain": [
              "       PassengerId    Survived      Pclass         Age       SibSp  \\\n",
              "count   183.000000  183.000000  183.000000  183.000000  183.000000   \n",
              "mean    455.366120    0.672131    1.191257   35.674426    0.464481   \n",
              "std     247.052476    0.470725    0.515187   15.643866    0.644159   \n",
              "min       2.000000    0.000000    1.000000    0.920000    0.000000   \n",
              "25%     263.500000    0.000000    1.000000   24.000000    0.000000   \n",
              "50%     457.000000    1.000000    1.000000   36.000000    0.000000   \n",
              "75%     676.000000    1.000000    1.000000   47.500000    1.000000   \n",
              "max     890.000000    1.000000    3.000000   80.000000    3.000000   \n",
              "\n",
              "            Parch        Fare  \n",
              "count  183.000000  183.000000  \n",
              "mean     0.475410   78.682469  \n",
              "std      0.754617   76.347843  \n",
              "min      0.000000    0.000000  \n",
              "25%      0.000000   29.700000  \n",
              "50%      0.000000   57.000000  \n",
              "75%      1.000000   90.000000  \n",
              "max      4.000000  512.329200  "
            ]
          },
          "metadata": {
            "tags": []
          },
          "execution_count": 4
        }
      ]
    },
    {
      "metadata": {
        "id": "QiZn2p1K8DED",
        "colab_type": "code",
        "outputId": "be8b1a4c-ca08-4bba-98ed-3cda0942499c",
        "colab": {
          "base_uri": "https://localhost:8080/",
          "height": 34
        }
      },
      "cell_type": "code",
      "source": [
        "from sklearn.linear_model import LinearRegression\n",
        "\n",
        "X = train_df[['Pclass', 'Age', 'Fare']]\n",
        "y = train_df.Survived\n",
        "\n",
        "linear_reg = LinearRegression().fit(X, y)\n",
        "linear_reg.score(X, y)"
      ],
      "execution_count": 0,
      "outputs": [
        {
          "output_type": "execute_result",
          "data": {
            "text/plain": [
              "0.08389810726550917"
            ]
          },
          "metadata": {
            "tags": []
          },
          "execution_count": 5
        }
      ]
    },
    {
      "metadata": {
        "id": "8HsBb1hp_cev",
        "colab_type": "code",
        "outputId": "00536e80-15a1-437f-90e2-94ae4e3ca8ab",
        "colab": {
          "base_uri": "https://localhost:8080/",
          "height": 330
        }
      },
      "cell_type": "code",
      "source": [
        "linear_reg.predict(test_df[['Pclass', 'Age', 'Fare']])"
      ],
      "execution_count": 0,
      "outputs": [
        {
          "output_type": "execute_result",
          "data": {
            "text/plain": [
              "array([0.79543117, 0.58610823, 0.67595121, 0.793829  , 0.62090522,\n",
              "       0.72542107, 0.59848968, 0.58734245, 0.48567063, 0.77627736,\n",
              "       0.84211887, 0.57052439, 0.7754689 , 0.96621114, 0.70287941,\n",
              "       0.57673837, 0.72321391, 0.75894755, 0.77968041, 0.50246003,\n",
              "       0.49858077, 0.7474959 , 0.3542282 , 0.61648435, 0.71300224,\n",
              "       0.66294608, 0.53175333, 0.77397395, 0.68419387, 0.68395536,\n",
              "       0.52041202, 0.56814038, 0.79586606, 0.81372012, 0.61068545,\n",
              "       0.57260627, 0.52525981, 0.58055388, 0.45584728, 0.67976208,\n",
              "       0.8226707 , 0.84286197, 0.96189157, 0.66724612, 0.68589478,\n",
              "       0.61846513, 0.63455044, 0.68275686, 0.65738372, 0.45198998,\n",
              "       0.59988596, 0.63845908, 0.63132487, 0.7888473 , 0.60126246,\n",
              "       0.79714045, 0.78713803, 0.54643775, 0.42823635, 0.7711724 ,\n",
              "       0.53552976, 0.55608044, 0.54480459, 0.57031915, 0.65080369,\n",
              "       0.77958926, 0.6371013 , 0.70993488, 0.71493598, 0.60375943,\n",
              "       0.54407206, 0.48186138, 0.76576089, 0.75456305, 0.53968359,\n",
              "       0.53814461, 0.51431245, 0.80091026, 0.54231482, 0.8260362 ,\n",
              "       0.58660686, 0.77766767, 0.60296337, 0.70098322, 0.63455044,\n",
              "       0.68309915, 0.67573142])"
            ]
          },
          "metadata": {
            "tags": []
          },
          "execution_count": 6
        }
      ]
    },
    {
      "metadata": {
        "id": "fcxfpsjdFJwM",
        "colab_type": "code",
        "outputId": "590a3bba-67fe-48b4-bf6e-91e67bd29bd4",
        "colab": {
          "base_uri": "https://localhost:8080/",
          "height": 34
        }
      },
      "cell_type": "code",
      "source": [
        "linear_reg.coef_"
      ],
      "execution_count": 0,
      "outputs": [
        {
          "output_type": "execute_result",
          "data": {
            "text/plain": [
              "array([-0.08596295, -0.00829314,  0.00048775])"
            ]
          },
          "metadata": {
            "tags": []
          },
          "execution_count": 7
        }
      ]
    },
    {
      "metadata": {
        "id": "AFiisZU7_2Fr",
        "colab_type": "code",
        "outputId": "97e9d9e2-6c2f-49b9-9955-e956b8d42e2a",
        "colab": {
          "base_uri": "https://localhost:8080/",
          "height": 34
        }
      },
      "cell_type": "code",
      "source": [
        "import numpy as np\n",
        "\n",
        "test_case = np.array([[1, 5, 500]])  # Rich 5-year old in first class\n",
        "linear_reg.predict(test_case)"
      ],
      "execution_count": 0,
      "outputs": [
        {
          "output_type": "execute_result",
          "data": {
            "text/plain": [
              "array([1.14845883])"
            ]
          },
          "metadata": {
            "tags": []
          },
          "execution_count": 8
        }
      ]
    },
    {
      "metadata": {
        "id": "DUt-yGbDxgDs",
        "colab_type": "text"
      },
      "cell_type": "markdown",
      "source": [
        "* The above prediction doesn't make intuitive sense. When we get to extremes in linear regression, our interpretation of coeffcicients doesn't make a lot of sense.\n",
        "* The unbounded y-value in the calculation above is causing us some issues."
      ]
    },
    {
      "metadata": {
        "id": "rI9LF_OXxps8",
        "colab_type": "code",
        "colab": {}
      },
      "cell_type": "code",
      "source": [
        ""
      ],
      "execution_count": 0,
      "outputs": []
    },
    {
      "metadata": {
        "id": "dpUm8Dl-u2aB",
        "colab_type": "code",
        "outputId": "44bc9b92-52ac-4e13-ab03-e87cbfd5fea7",
        "colab": {
          "base_uri": "https://localhost:8080/",
          "height": 89
        }
      },
      "cell_type": "code",
      "source": [
        "from sklearn.linear_model import LogisticRegression\n",
        "\n",
        "log_reg = LogisticRegression().fit(X, y)\n",
        "log_reg.score(X, y)"
      ],
      "execution_count": 0,
      "outputs": [
        {
          "output_type": "stream",
          "text": [
            "/usr/local/lib/python3.6/dist-packages/sklearn/linear_model/logistic.py:433: FutureWarning: Default solver will be changed to 'lbfgs' in 0.22. Specify a solver to silence this warning.\n",
            "  FutureWarning)\n"
          ],
          "name": "stderr"
        },
        {
          "output_type": "execute_result",
          "data": {
            "text/plain": [
              "0.7103825136612022"
            ]
          },
          "metadata": {
            "tags": []
          },
          "execution_count": 9
        }
      ]
    },
    {
      "metadata": {
        "id": "cUhr2c66F_th",
        "colab_type": "code",
        "outputId": "a9ed9706-3418-4ec8-bdb6-f0c4d6fc8c5c",
        "colab": {
          "base_uri": "https://localhost:8080/",
          "height": 86
        }
      },
      "cell_type": "code",
      "source": [
        "log_reg.predict(test_df[['Pclass', 'Age', 'Fare']])"
      ],
      "execution_count": 0,
      "outputs": [
        {
          "output_type": "execute_result",
          "data": {
            "text/plain": [
              "array([1, 1, 1, 1, 1, 1, 1, 1, 1, 1, 1, 1, 1, 1, 1, 1, 1, 1, 1, 0, 1, 1,\n",
              "       0, 1, 1, 1, 1, 1, 1, 1, 1, 1, 1, 1, 1, 1, 1, 1, 0, 1, 1, 1, 1, 1,\n",
              "       1, 1, 1, 1, 1, 0, 1, 1, 1, 1, 1, 1, 1, 1, 0, 1, 1, 1, 1, 1, 1, 1,\n",
              "       1, 1, 1, 1, 1, 0, 1, 1, 0, 1, 1, 1, 1, 1, 1, 1, 1, 1, 1, 1, 1])"
            ]
          },
          "metadata": {
            "tags": []
          },
          "execution_count": 10
        }
      ]
    },
    {
      "metadata": {
        "id": "r7xWwqBrFuWL",
        "colab_type": "code",
        "outputId": "4ea8705c-82b5-4378-cd8d-d0aca8e5d19e",
        "colab": {
          "base_uri": "https://localhost:8080/",
          "height": 34
        }
      },
      "cell_type": "code",
      "source": [
        "log_reg.predict(test_case)[0]"
      ],
      "execution_count": 0,
      "outputs": [
        {
          "output_type": "execute_result",
          "data": {
            "text/plain": [
              "1"
            ]
          },
          "metadata": {
            "tags": []
          },
          "execution_count": 11
        }
      ]
    },
    {
      "metadata": {
        "id": "IM8g42clF2-6",
        "colab_type": "code",
        "outputId": "5f10db01-0ec6-4a62-a05f-56f0ab2c04f8",
        "colab": {
          "base_uri": "https://localhost:8080/",
          "height": 278
        }
      },
      "cell_type": "code",
      "source": [
        "help(log_reg.predict)"
      ],
      "execution_count": 0,
      "outputs": [
        {
          "output_type": "stream",
          "text": [
            "Help on method predict in module sklearn.linear_model.base:\n",
            "\n",
            "predict(X) method of sklearn.linear_model.logistic.LogisticRegression instance\n",
            "    Predict class labels for samples in X.\n",
            "    \n",
            "    Parameters\n",
            "    ----------\n",
            "    X : array_like or sparse matrix, shape (n_samples, n_features)\n",
            "        Samples.\n",
            "    \n",
            "    Returns\n",
            "    -------\n",
            "    C : array, shape [n_samples]\n",
            "        Predicted class label per sample.\n",
            "\n"
          ],
          "name": "stdout"
        }
      ]
    },
    {
      "metadata": {
        "id": "flF3pcMHGGWw",
        "colab_type": "code",
        "outputId": "4d5eef4c-e431-4486-b70f-dde06b7e3862",
        "colab": {
          "base_uri": "https://localhost:8080/",
          "height": 34
        }
      },
      "cell_type": "code",
      "source": [
        "log_reg.predict_proba(test_case)[0]"
      ],
      "execution_count": 0,
      "outputs": [
        {
          "output_type": "execute_result",
          "data": {
            "text/plain": [
              "array([0.02485552, 0.97514448])"
            ]
          },
          "metadata": {
            "tags": []
          },
          "execution_count": 13
        }
      ]
    },
    {
      "metadata": {
        "id": "9Bq-54noR1uE",
        "colab_type": "code",
        "outputId": "b2650236-5573-4f84-d1a8-ce8bc6d1de17",
        "colab": {
          "base_uri": "https://localhost:8080/",
          "height": 34
        }
      },
      "cell_type": "code",
      "source": [
        "# What's the math?\n",
        "log_reg.coef_"
      ],
      "execution_count": 0,
      "outputs": [
        {
          "output_type": "execute_result",
          "data": {
            "text/plain": [
              "array([[-0.0455017 , -0.02912513,  0.0048037 ]])"
            ]
          },
          "metadata": {
            "tags": []
          },
          "execution_count": 14
        }
      ]
    },
    {
      "metadata": {
        "id": "Tj0mNL7_XWNV",
        "colab_type": "code",
        "outputId": "effe14e5-839d-4ee0-e38d-fb80eef80ce4",
        "colab": {
          "base_uri": "https://localhost:8080/",
          "height": 34
        }
      },
      "cell_type": "code",
      "source": [
        "log_reg.intercept_"
      ],
      "execution_count": 0,
      "outputs": [
        {
          "output_type": "execute_result",
          "data": {
            "text/plain": [
              "array([1.45878264])"
            ]
          },
          "metadata": {
            "tags": []
          },
          "execution_count": 15
        }
      ]
    },
    {
      "metadata": {
        "id": "AroeYscqR75f",
        "colab_type": "code",
        "colab": {}
      },
      "cell_type": "code",
      "source": [
        "# The logistic sigmoid \"squishing\" function, implemented to accept numpy arrays\n",
        "def sigmoid(x):\n",
        "  return 1 / (1 + np.e**(-x))"
      ],
      "execution_count": 0,
      "outputs": []
    },
    {
      "metadata": {
        "id": "804BA7s0SggQ",
        "colab_type": "code",
        "outputId": "61e0fcc7-adf9-4077-ba27-de875165cea1",
        "colab": {
          "base_uri": "https://localhost:8080/",
          "height": 34
        }
      },
      "cell_type": "code",
      "source": [
        "sigmoid(log_reg.intercept_ + np.dot(log_reg.coef_, np.transpose(test_case)))"
      ],
      "execution_count": 0,
      "outputs": [
        {
          "output_type": "execute_result",
          "data": {
            "text/plain": [
              "array([[0.97514448]])"
            ]
          },
          "metadata": {
            "tags": []
          },
          "execution_count": 17
        }
      ]
    },
    {
      "metadata": {
        "id": "uBSGY-R-Hf_b",
        "colab_type": "text"
      },
      "cell_type": "markdown",
      "source": [
        "So, clearly a more appropriate model in this situation! For more on the math, [see this Wikipedia example](https://en.wikipedia.org/wiki/Logistic_regression#Probability_of_passing_an_exam_versus_hours_of_study).\n",
        "\n",
        "For live - let's tackle [another classification dataset on absenteeism](http://archive.ics.uci.edu/ml/datasets/Absenteeism+at+work) - it has 21 classes, but remember, scikit-learn LogisticRegression automatically handles more than two classes. How? By essentially treating each label as different (1) from some base class (0)."
      ]
    },
    {
      "metadata": {
        "id": "qyDBpCM0G7Hv",
        "colab_type": "code",
        "colab": {
          "base_uri": "https://localhost:8080/",
          "height": 306
        },
        "outputId": "4dfc0277-aa06-416d-95bc-e50550f15b21"
      },
      "cell_type": "code",
      "source": [
        "# Live - let's try absenteeism!\n",
        "!wget http://archive.ics.uci.edu/ml/machine-learning-databases/00445/Absenteeism_at_work_AAA.zip\n",
        "!unzip Absenteeism_at_work_AAA.zip"
      ],
      "execution_count": 1,
      "outputs": [
        {
          "output_type": "stream",
          "text": [
            "--2019-02-25 18:23:07--  http://archive.ics.uci.edu/ml/machine-learning-databases/00445/Absenteeism_at_work_AAA.zip\n",
            "Resolving archive.ics.uci.edu (archive.ics.uci.edu)... 128.195.10.249\n",
            "Connecting to archive.ics.uci.edu (archive.ics.uci.edu)|128.195.10.249|:80... connected.\n",
            "HTTP request sent, awaiting response... 200 OK\n",
            "Length: 66136 (65K) [application/zip]\n",
            "Saving to: ‘Absenteeism_at_work_AAA.zip’\n",
            "\n",
            "Absenteeism_at_work 100%[===================>]  64.59K   179KB/s    in 0.4s    \n",
            "\n",
            "2019-02-25 18:23:07 (179 KB/s) - ‘Absenteeism_at_work_AAA.zip’ saved [66136/66136]\n",
            "\n",
            "Archive:  Absenteeism_at_work_AAA.zip\n",
            "  inflating: Absenteeism_at_work.arff  \n",
            "  inflating: Absenteeism_at_work.csv  \n",
            "  inflating: Absenteeism_at_work.xls  \n",
            "  inflating: Attribute Information.docx  \n",
            "  inflating: UCI_ABS_TEXT.docx       \n"
          ],
          "name": "stdout"
        }
      ]
    },
    {
      "metadata": {
        "id": "bvmOspt85dja",
        "colab_type": "code",
        "colab": {}
      },
      "cell_type": "code",
      "source": [
        "import pandas as pd\n",
        "df = pd.read_csv('Absenteeism_at_work.csv', sep=';')\n",
        "pd.set_option('display.max_columns', 50)"
      ],
      "execution_count": 0,
      "outputs": []
    },
    {
      "metadata": {
        "id": "CNaI81cy6Ivw",
        "colab_type": "code",
        "colab": {
          "base_uri": "https://localhost:8080/",
          "height": 357
        },
        "outputId": "bb111365-3080-4544-a41c-eadd45b5506d"
      },
      "cell_type": "code",
      "source": [
        "df['Absenteeism time in hours'].value_counts()"
      ],
      "execution_count": 7,
      "outputs": [
        {
          "output_type": "execute_result",
          "data": {
            "text/plain": [
              "8      208\n",
              "2      157\n",
              "3      112\n",
              "1       88\n",
              "4       60\n",
              "0       44\n",
              "16      19\n",
              "24      16\n",
              "40       7\n",
              "5        7\n",
              "32       6\n",
              "64       3\n",
              "80       3\n",
              "120      3\n",
              "112      2\n",
              "56       2\n",
              "48       1\n",
              "7        1\n",
              "104      1\n",
              "Name: Absenteeism time in hours, dtype: int64"
            ]
          },
          "metadata": {
            "tags": []
          },
          "execution_count": 7
        }
      ]
    },
    {
      "metadata": {
        "id": "TADbLF7M7PrK",
        "colab_type": "code",
        "colab": {
          "base_uri": "https://localhost:8080/",
          "height": 136
        },
        "outputId": "c4fbb25e-928e-4c47-f1a3-66c9fde7970e"
      },
      "cell_type": "code",
      "source": [
        "df.columns"
      ],
      "execution_count": 8,
      "outputs": [
        {
          "output_type": "execute_result",
          "data": {
            "text/plain": [
              "Index(['ID', 'Reason for absence', 'Month of absence', 'Day of the week',\n",
              "       'Seasons', 'Transportation expense', 'Distance from Residence to Work',\n",
              "       'Service time', 'Age', 'Work load Average/day ', 'Hit target',\n",
              "       'Disciplinary failure', 'Education', 'Son', 'Social drinker',\n",
              "       'Social smoker', 'Pet', 'Weight', 'Height', 'Body mass index',\n",
              "       'Absenteeism time in hours'],\n",
              "      dtype='object')"
            ]
          },
          "metadata": {
            "tags": []
          },
          "execution_count": 8
        }
      ]
    },
    {
      "metadata": {
        "id": "BoXTSVm17qny",
        "colab_type": "code",
        "colab": {
          "base_uri": "https://localhost:8080/",
          "height": 34
        },
        "outputId": "9eaa336c-e1b1-4f39-f12f-944b291a0391"
      },
      "cell_type": "code",
      "source": [
        "df.shape"
      ],
      "execution_count": 13,
      "outputs": [
        {
          "output_type": "execute_result",
          "data": {
            "text/plain": [
              "(740, 21)"
            ]
          },
          "metadata": {
            "tags": []
          },
          "execution_count": 13
        }
      ]
    },
    {
      "metadata": {
        "id": "iblW74C8afuR",
        "colab_type": "text"
      },
      "cell_type": "markdown",
      "source": [
        "## Assignment - real-world classification\n",
        "\n",
        "We're going to check out a larger dataset - the [FMA Free Music Archive data](https://github.com/mdeff/fma). It has a selection of CSVs with metadata and calculated audio features that you can load and try to use to classify genre of tracks. To get you started:"
      ]
    },
    {
      "metadata": {
        "id": "SsySnuKaKtQf",
        "colab_type": "code",
        "outputId": "13dec117-118a-436f-ffd0-06ebd1767b1f",
        "colab": {
          "base_uri": "https://localhost:8080/",
          "height": 425
        }
      },
      "cell_type": "code",
      "source": [
        "!wget https://os.unil.cloud.switch.ch/fma/fma_metadata.zip\n",
        "!unzip fma_metadata.zip"
      ],
      "execution_count": 14,
      "outputs": [
        {
          "output_type": "stream",
          "text": [
            "--2019-02-25 19:07:07--  https://os.unil.cloud.switch.ch/fma/fma_metadata.zip\n",
            "Resolving os.unil.cloud.switch.ch (os.unil.cloud.switch.ch)... 86.119.28.13, 2001:620:5ca1:2ff::ce53\n",
            "Connecting to os.unil.cloud.switch.ch (os.unil.cloud.switch.ch)|86.119.28.13|:443... connected.\n",
            "HTTP request sent, awaiting response... 200 OK\n",
            "Length: 358412441 (342M) [application/zip]\n",
            "Saving to: ‘fma_metadata.zip’\n",
            "\n",
            "fma_metadata.zip    100%[===================>] 341.81M  24.9MB/s    in 15s     \n",
            "\n",
            "2019-02-25 19:07:22 (23.3 MB/s) - ‘fma_metadata.zip’ saved [358412441/358412441]\n",
            "\n",
            "Archive:  fma_metadata.zip\n",
            " bunzipping: fma_metadata/README.txt  \n",
            " bunzipping: fma_metadata/checksums  \n",
            " bunzipping: fma_metadata/not_found.pickle  \n",
            " bunzipping: fma_metadata/raw_genres.csv  \n",
            " bunzipping: fma_metadata/raw_albums.csv  \n",
            " bunzipping: fma_metadata/raw_artists.csv  \n",
            " bunzipping: fma_metadata/raw_tracks.csv  \n",
            " bunzipping: fma_metadata/tracks.csv  \n",
            " bunzipping: fma_metadata/genres.csv  \n",
            " bunzipping: fma_metadata/raw_echonest.csv  \n",
            " bunzipping: fma_metadata/echonest.csv  \n",
            " bunzipping: fma_metadata/features.csv  \n"
          ],
          "name": "stdout"
        }
      ]
    },
    {
      "metadata": {
        "id": "VbUJKyI1LRwD",
        "colab_type": "code",
        "outputId": "af1ca62f-b8cc-4bfd-acea-12fa504c73e2",
        "colab": {
          "base_uri": "https://localhost:8080/",
          "height": 71
        }
      },
      "cell_type": "code",
      "source": [
        "tracks = pd.read_csv('fma_metadata/tracks.csv')"
      ],
      "execution_count": 312,
      "outputs": [
        {
          "output_type": "stream",
          "text": [
            "/usr/local/lib/python3.6/dist-packages/IPython/core/interactiveshell.py:2718: DtypeWarning: Columns (0,1,5,6,8,12,18,20,21,22,24,33,34,38,39,44,47,49) have mixed types. Specify dtype option on import or set low_memory=False.\n",
            "  interactivity=interactivity, compiler=compiler, result=result)\n"
          ],
          "name": "stderr"
        }
      ]
    },
    {
      "metadata": {
        "id": "_qzn-IjIM1Pw",
        "colab_type": "code",
        "colab": {}
      },
      "cell_type": "code",
      "source": [
        "# tracks.set_option('display.max_columns', None)  # Unlimited columns"
      ],
      "execution_count": 0,
      "outputs": []
    },
    {
      "metadata": {
        "id": "5DvMPiM8MZeY",
        "colab_type": "code",
        "outputId": "370b59ed-ea94-4129-8d40-4cc784d01299",
        "colab": {
          "base_uri": "https://localhost:8080/",
          "height": 34
        }
      },
      "cell_type": "code",
      "source": [
        "tracks.shape"
      ],
      "execution_count": 314,
      "outputs": [
        {
          "output_type": "execute_result",
          "data": {
            "text/plain": [
              "(106576, 53)"
            ]
          },
          "metadata": {
            "tags": []
          },
          "execution_count": 314
        }
      ]
    },
    {
      "metadata": {
        "id": "djw7jCBTFTxG",
        "colab_type": "text"
      },
      "cell_type": "markdown",
      "source": [
        "# 1. Clean up the variable names"
      ]
    },
    {
      "metadata": {
        "id": "de9T-dVPFWU1",
        "colab_type": "code",
        "colab": {
          "base_uri": "https://localhost:8080/",
          "height": 187
        },
        "outputId": "d81f2b6e-3940-4d88-ca19-b2c0ac39ccbb"
      },
      "cell_type": "code",
      "source": [
        "tracks.columns"
      ],
      "execution_count": 315,
      "outputs": [
        {
          "output_type": "execute_result",
          "data": {
            "text/plain": [
              "Index(['Unnamed: 0', 'album', 'album.1', 'album.2', 'album.3', 'album.4',\n",
              "       'album.5', 'album.6', 'album.7', 'album.8', 'album.9', 'album.10',\n",
              "       'album.11', 'album.12', 'artist', 'artist.1', 'artist.2', 'artist.3',\n",
              "       'artist.4', 'artist.5', 'artist.6', 'artist.7', 'artist.8', 'artist.9',\n",
              "       'artist.10', 'artist.11', 'artist.12', 'artist.13', 'artist.14',\n",
              "       'artist.15', 'artist.16', 'set', 'set.1', 'track', 'track.1', 'track.2',\n",
              "       'track.3', 'track.4', 'track.5', 'track.6', 'track.7', 'track.8',\n",
              "       'track.9', 'track.10', 'track.11', 'track.12', 'track.13', 'track.14',\n",
              "       'track.15', 'track.16', 'track.17', 'track.18', 'track.19'],\n",
              "      dtype='object')"
            ]
          },
          "metadata": {
            "tags": []
          },
          "execution_count": 315
        }
      ]
    },
    {
      "metadata": {
        "id": "5A2t5OTuQiq-",
        "colab_type": "code",
        "colab": {
          "base_uri": "https://localhost:8080/",
          "height": 71
        },
        "outputId": "d61b1cb5-f112-4ba5-bfdd-c85fe367bb44"
      },
      "cell_type": "code",
      "source": [
        "tracks = pd.read_csv('fma_metadata/tracks.csv', header=1)"
      ],
      "execution_count": 316,
      "outputs": [
        {
          "output_type": "stream",
          "text": [
            "/usr/local/lib/python3.6/dist-packages/IPython/core/interactiveshell.py:2718: DtypeWarning: Columns (0) have mixed types. Specify dtype option on import or set low_memory=False.\n",
            "  interactivity=interactivity, compiler=compiler, result=result)\n"
          ],
          "name": "stderr"
        }
      ]
    },
    {
      "metadata": {
        "id": "pKKyLl1bRxL4",
        "colab_type": "code",
        "colab": {
          "base_uri": "https://localhost:8080/",
          "height": 445
        },
        "outputId": "850a3718-3a2e-4925-9729-dbdfbd2d4ae6"
      },
      "cell_type": "code",
      "source": [
        "tracks.head()"
      ],
      "execution_count": 317,
      "outputs": [
        {
          "output_type": "execute_result",
          "data": {
            "text/html": [
              "<div>\n",
              "<style scoped>\n",
              "    .dataframe tbody tr th:only-of-type {\n",
              "        vertical-align: middle;\n",
              "    }\n",
              "\n",
              "    .dataframe tbody tr th {\n",
              "        vertical-align: top;\n",
              "    }\n",
              "\n",
              "    .dataframe thead th {\n",
              "        text-align: right;\n",
              "    }\n",
              "</style>\n",
              "<table border=\"1\" class=\"dataframe\">\n",
              "  <thead>\n",
              "    <tr style=\"text-align: right;\">\n",
              "      <th></th>\n",
              "      <th>Unnamed: 0</th>\n",
              "      <th>comments</th>\n",
              "      <th>date_created</th>\n",
              "      <th>date_released</th>\n",
              "      <th>engineer</th>\n",
              "      <th>favorites</th>\n",
              "      <th>id</th>\n",
              "      <th>information</th>\n",
              "      <th>listens</th>\n",
              "      <th>producer</th>\n",
              "      <th>tags</th>\n",
              "      <th>title</th>\n",
              "      <th>tracks</th>\n",
              "      <th>type</th>\n",
              "      <th>active_year_begin</th>\n",
              "      <th>active_year_end</th>\n",
              "      <th>associated_labels</th>\n",
              "      <th>bio</th>\n",
              "      <th>comments.1</th>\n",
              "      <th>date_created.1</th>\n",
              "      <th>favorites.1</th>\n",
              "      <th>id.1</th>\n",
              "      <th>latitude</th>\n",
              "      <th>location</th>\n",
              "      <th>longitude</th>\n",
              "      <th>members</th>\n",
              "      <th>name</th>\n",
              "      <th>related_projects</th>\n",
              "      <th>tags.1</th>\n",
              "      <th>website</th>\n",
              "      <th>wikipedia_page</th>\n",
              "      <th>split</th>\n",
              "      <th>subset</th>\n",
              "      <th>bit_rate</th>\n",
              "      <th>comments.2</th>\n",
              "      <th>composer</th>\n",
              "      <th>date_created.2</th>\n",
              "      <th>date_recorded</th>\n",
              "      <th>duration</th>\n",
              "      <th>favorites.2</th>\n",
              "      <th>genre_top</th>\n",
              "      <th>genres</th>\n",
              "      <th>genres_all</th>\n",
              "      <th>information.1</th>\n",
              "      <th>interest</th>\n",
              "      <th>language_code</th>\n",
              "      <th>license</th>\n",
              "      <th>listens.1</th>\n",
              "      <th>lyricist</th>\n",
              "      <th>number</th>\n",
              "      <th>publisher</th>\n",
              "      <th>tags.2</th>\n",
              "      <th>title.1</th>\n",
              "    </tr>\n",
              "  </thead>\n",
              "  <tbody>\n",
              "    <tr>\n",
              "      <th>0</th>\n",
              "      <td>track_id</td>\n",
              "      <td>NaN</td>\n",
              "      <td>NaN</td>\n",
              "      <td>NaN</td>\n",
              "      <td>NaN</td>\n",
              "      <td>NaN</td>\n",
              "      <td>NaN</td>\n",
              "      <td>NaN</td>\n",
              "      <td>NaN</td>\n",
              "      <td>NaN</td>\n",
              "      <td>NaN</td>\n",
              "      <td>NaN</td>\n",
              "      <td>NaN</td>\n",
              "      <td>NaN</td>\n",
              "      <td>NaN</td>\n",
              "      <td>NaN</td>\n",
              "      <td>NaN</td>\n",
              "      <td>NaN</td>\n",
              "      <td>NaN</td>\n",
              "      <td>NaN</td>\n",
              "      <td>NaN</td>\n",
              "      <td>NaN</td>\n",
              "      <td>NaN</td>\n",
              "      <td>NaN</td>\n",
              "      <td>NaN</td>\n",
              "      <td>NaN</td>\n",
              "      <td>NaN</td>\n",
              "      <td>NaN</td>\n",
              "      <td>NaN</td>\n",
              "      <td>NaN</td>\n",
              "      <td>NaN</td>\n",
              "      <td>NaN</td>\n",
              "      <td>NaN</td>\n",
              "      <td>NaN</td>\n",
              "      <td>NaN</td>\n",
              "      <td>NaN</td>\n",
              "      <td>NaN</td>\n",
              "      <td>NaN</td>\n",
              "      <td>NaN</td>\n",
              "      <td>NaN</td>\n",
              "      <td>NaN</td>\n",
              "      <td>NaN</td>\n",
              "      <td>NaN</td>\n",
              "      <td>NaN</td>\n",
              "      <td>NaN</td>\n",
              "      <td>NaN</td>\n",
              "      <td>NaN</td>\n",
              "      <td>NaN</td>\n",
              "      <td>NaN</td>\n",
              "      <td>NaN</td>\n",
              "      <td>NaN</td>\n",
              "      <td>NaN</td>\n",
              "      <td>NaN</td>\n",
              "    </tr>\n",
              "    <tr>\n",
              "      <th>1</th>\n",
              "      <td>2</td>\n",
              "      <td>0.0</td>\n",
              "      <td>2008-11-26 01:44:45</td>\n",
              "      <td>2009-01-05 00:00:00</td>\n",
              "      <td>NaN</td>\n",
              "      <td>4.0</td>\n",
              "      <td>1.0</td>\n",
              "      <td>&lt;p&gt;&lt;/p&gt;</td>\n",
              "      <td>6073.0</td>\n",
              "      <td>NaN</td>\n",
              "      <td>[]</td>\n",
              "      <td>AWOL - A Way Of Life</td>\n",
              "      <td>7.0</td>\n",
              "      <td>Album</td>\n",
              "      <td>2006-01-01 00:00:00</td>\n",
              "      <td>NaN</td>\n",
              "      <td>NaN</td>\n",
              "      <td>&lt;p&gt;A Way Of Life, A Collective of Hip-Hop from...</td>\n",
              "      <td>0.0</td>\n",
              "      <td>2008-11-26 01:42:32</td>\n",
              "      <td>9.0</td>\n",
              "      <td>1.0</td>\n",
              "      <td>40.058324</td>\n",
              "      <td>New Jersey</td>\n",
              "      <td>-74.405661</td>\n",
              "      <td>Sajje Morocco,Brownbum,ZawidaGod,Custodian of ...</td>\n",
              "      <td>AWOL</td>\n",
              "      <td>The list of past projects is 2 long but every1...</td>\n",
              "      <td>['awol']</td>\n",
              "      <td>http://www.AzillionRecords.blogspot.com</td>\n",
              "      <td>NaN</td>\n",
              "      <td>training</td>\n",
              "      <td>small</td>\n",
              "      <td>256000.0</td>\n",
              "      <td>0.0</td>\n",
              "      <td>NaN</td>\n",
              "      <td>2008-11-26 01:48:12</td>\n",
              "      <td>2008-11-26 00:00:00</td>\n",
              "      <td>168.0</td>\n",
              "      <td>2.0</td>\n",
              "      <td>Hip-Hop</td>\n",
              "      <td>[21]</td>\n",
              "      <td>[21]</td>\n",
              "      <td>NaN</td>\n",
              "      <td>4656.0</td>\n",
              "      <td>en</td>\n",
              "      <td>Attribution-NonCommercial-ShareAlike 3.0 Inter...</td>\n",
              "      <td>1293.0</td>\n",
              "      <td>NaN</td>\n",
              "      <td>3.0</td>\n",
              "      <td>NaN</td>\n",
              "      <td>[]</td>\n",
              "      <td>Food</td>\n",
              "    </tr>\n",
              "    <tr>\n",
              "      <th>2</th>\n",
              "      <td>3</td>\n",
              "      <td>0.0</td>\n",
              "      <td>2008-11-26 01:44:45</td>\n",
              "      <td>2009-01-05 00:00:00</td>\n",
              "      <td>NaN</td>\n",
              "      <td>4.0</td>\n",
              "      <td>1.0</td>\n",
              "      <td>&lt;p&gt;&lt;/p&gt;</td>\n",
              "      <td>6073.0</td>\n",
              "      <td>NaN</td>\n",
              "      <td>[]</td>\n",
              "      <td>AWOL - A Way Of Life</td>\n",
              "      <td>7.0</td>\n",
              "      <td>Album</td>\n",
              "      <td>2006-01-01 00:00:00</td>\n",
              "      <td>NaN</td>\n",
              "      <td>NaN</td>\n",
              "      <td>&lt;p&gt;A Way Of Life, A Collective of Hip-Hop from...</td>\n",
              "      <td>0.0</td>\n",
              "      <td>2008-11-26 01:42:32</td>\n",
              "      <td>9.0</td>\n",
              "      <td>1.0</td>\n",
              "      <td>40.058324</td>\n",
              "      <td>New Jersey</td>\n",
              "      <td>-74.405661</td>\n",
              "      <td>Sajje Morocco,Brownbum,ZawidaGod,Custodian of ...</td>\n",
              "      <td>AWOL</td>\n",
              "      <td>The list of past projects is 2 long but every1...</td>\n",
              "      <td>['awol']</td>\n",
              "      <td>http://www.AzillionRecords.blogspot.com</td>\n",
              "      <td>NaN</td>\n",
              "      <td>training</td>\n",
              "      <td>medium</td>\n",
              "      <td>256000.0</td>\n",
              "      <td>0.0</td>\n",
              "      <td>NaN</td>\n",
              "      <td>2008-11-26 01:48:14</td>\n",
              "      <td>2008-11-26 00:00:00</td>\n",
              "      <td>237.0</td>\n",
              "      <td>1.0</td>\n",
              "      <td>Hip-Hop</td>\n",
              "      <td>[21]</td>\n",
              "      <td>[21]</td>\n",
              "      <td>NaN</td>\n",
              "      <td>1470.0</td>\n",
              "      <td>en</td>\n",
              "      <td>Attribution-NonCommercial-ShareAlike 3.0 Inter...</td>\n",
              "      <td>514.0</td>\n",
              "      <td>NaN</td>\n",
              "      <td>4.0</td>\n",
              "      <td>NaN</td>\n",
              "      <td>[]</td>\n",
              "      <td>Electric Ave</td>\n",
              "    </tr>\n",
              "    <tr>\n",
              "      <th>3</th>\n",
              "      <td>5</td>\n",
              "      <td>0.0</td>\n",
              "      <td>2008-11-26 01:44:45</td>\n",
              "      <td>2009-01-05 00:00:00</td>\n",
              "      <td>NaN</td>\n",
              "      <td>4.0</td>\n",
              "      <td>1.0</td>\n",
              "      <td>&lt;p&gt;&lt;/p&gt;</td>\n",
              "      <td>6073.0</td>\n",
              "      <td>NaN</td>\n",
              "      <td>[]</td>\n",
              "      <td>AWOL - A Way Of Life</td>\n",
              "      <td>7.0</td>\n",
              "      <td>Album</td>\n",
              "      <td>2006-01-01 00:00:00</td>\n",
              "      <td>NaN</td>\n",
              "      <td>NaN</td>\n",
              "      <td>&lt;p&gt;A Way Of Life, A Collective of Hip-Hop from...</td>\n",
              "      <td>0.0</td>\n",
              "      <td>2008-11-26 01:42:32</td>\n",
              "      <td>9.0</td>\n",
              "      <td>1.0</td>\n",
              "      <td>40.058324</td>\n",
              "      <td>New Jersey</td>\n",
              "      <td>-74.405661</td>\n",
              "      <td>Sajje Morocco,Brownbum,ZawidaGod,Custodian of ...</td>\n",
              "      <td>AWOL</td>\n",
              "      <td>The list of past projects is 2 long but every1...</td>\n",
              "      <td>['awol']</td>\n",
              "      <td>http://www.AzillionRecords.blogspot.com</td>\n",
              "      <td>NaN</td>\n",
              "      <td>training</td>\n",
              "      <td>small</td>\n",
              "      <td>256000.0</td>\n",
              "      <td>0.0</td>\n",
              "      <td>NaN</td>\n",
              "      <td>2008-11-26 01:48:20</td>\n",
              "      <td>2008-11-26 00:00:00</td>\n",
              "      <td>206.0</td>\n",
              "      <td>6.0</td>\n",
              "      <td>Hip-Hop</td>\n",
              "      <td>[21]</td>\n",
              "      <td>[21]</td>\n",
              "      <td>NaN</td>\n",
              "      <td>1933.0</td>\n",
              "      <td>en</td>\n",
              "      <td>Attribution-NonCommercial-ShareAlike 3.0 Inter...</td>\n",
              "      <td>1151.0</td>\n",
              "      <td>NaN</td>\n",
              "      <td>6.0</td>\n",
              "      <td>NaN</td>\n",
              "      <td>[]</td>\n",
              "      <td>This World</td>\n",
              "    </tr>\n",
              "    <tr>\n",
              "      <th>4</th>\n",
              "      <td>10</td>\n",
              "      <td>0.0</td>\n",
              "      <td>2008-11-26 01:45:08</td>\n",
              "      <td>2008-02-06 00:00:00</td>\n",
              "      <td>NaN</td>\n",
              "      <td>4.0</td>\n",
              "      <td>6.0</td>\n",
              "      <td>NaN</td>\n",
              "      <td>47632.0</td>\n",
              "      <td>NaN</td>\n",
              "      <td>[]</td>\n",
              "      <td>Constant Hitmaker</td>\n",
              "      <td>2.0</td>\n",
              "      <td>Album</td>\n",
              "      <td>NaN</td>\n",
              "      <td>NaN</td>\n",
              "      <td>Mexican Summer, Richie Records, Woodsist, Skul...</td>\n",
              "      <td>&lt;p&gt;&lt;span style=\"font-family:Verdana, Geneva, A...</td>\n",
              "      <td>3.0</td>\n",
              "      <td>2008-11-26 01:42:55</td>\n",
              "      <td>74.0</td>\n",
              "      <td>6.0</td>\n",
              "      <td>NaN</td>\n",
              "      <td>NaN</td>\n",
              "      <td>NaN</td>\n",
              "      <td>Kurt Vile, the Violators</td>\n",
              "      <td>Kurt Vile</td>\n",
              "      <td>NaN</td>\n",
              "      <td>['philly', 'kurt vile']</td>\n",
              "      <td>http://kurtvile.com</td>\n",
              "      <td>NaN</td>\n",
              "      <td>training</td>\n",
              "      <td>small</td>\n",
              "      <td>192000.0</td>\n",
              "      <td>0.0</td>\n",
              "      <td>Kurt Vile</td>\n",
              "      <td>2008-11-25 17:49:06</td>\n",
              "      <td>2008-11-26 00:00:00</td>\n",
              "      <td>161.0</td>\n",
              "      <td>178.0</td>\n",
              "      <td>Pop</td>\n",
              "      <td>[10]</td>\n",
              "      <td>[10]</td>\n",
              "      <td>NaN</td>\n",
              "      <td>54881.0</td>\n",
              "      <td>en</td>\n",
              "      <td>Attribution-NonCommercial-NoDerivatives (aka M...</td>\n",
              "      <td>50135.0</td>\n",
              "      <td>NaN</td>\n",
              "      <td>1.0</td>\n",
              "      <td>NaN</td>\n",
              "      <td>[]</td>\n",
              "      <td>Freeway</td>\n",
              "    </tr>\n",
              "  </tbody>\n",
              "</table>\n",
              "</div>"
            ],
            "text/plain": [
              "  Unnamed: 0  comments         date_created        date_released engineer  \\\n",
              "0   track_id       NaN                  NaN                  NaN      NaN   \n",
              "1          2       0.0  2008-11-26 01:44:45  2009-01-05 00:00:00      NaN   \n",
              "2          3       0.0  2008-11-26 01:44:45  2009-01-05 00:00:00      NaN   \n",
              "3          5       0.0  2008-11-26 01:44:45  2009-01-05 00:00:00      NaN   \n",
              "4         10       0.0  2008-11-26 01:45:08  2008-02-06 00:00:00      NaN   \n",
              "\n",
              "   favorites   id information  listens producer tags                 title  \\\n",
              "0        NaN  NaN         NaN      NaN      NaN  NaN                   NaN   \n",
              "1        4.0  1.0     <p></p>   6073.0      NaN   []  AWOL - A Way Of Life   \n",
              "2        4.0  1.0     <p></p>   6073.0      NaN   []  AWOL - A Way Of Life   \n",
              "3        4.0  1.0     <p></p>   6073.0      NaN   []  AWOL - A Way Of Life   \n",
              "4        4.0  6.0         NaN  47632.0      NaN   []     Constant Hitmaker   \n",
              "\n",
              "   tracks   type    active_year_begin active_year_end  \\\n",
              "0     NaN    NaN                  NaN             NaN   \n",
              "1     7.0  Album  2006-01-01 00:00:00             NaN   \n",
              "2     7.0  Album  2006-01-01 00:00:00             NaN   \n",
              "3     7.0  Album  2006-01-01 00:00:00             NaN   \n",
              "4     2.0  Album                  NaN             NaN   \n",
              "\n",
              "                                   associated_labels  \\\n",
              "0                                                NaN   \n",
              "1                                                NaN   \n",
              "2                                                NaN   \n",
              "3                                                NaN   \n",
              "4  Mexican Summer, Richie Records, Woodsist, Skul...   \n",
              "\n",
              "                                                 bio  comments.1  \\\n",
              "0                                                NaN         NaN   \n",
              "1  <p>A Way Of Life, A Collective of Hip-Hop from...         0.0   \n",
              "2  <p>A Way Of Life, A Collective of Hip-Hop from...         0.0   \n",
              "3  <p>A Way Of Life, A Collective of Hip-Hop from...         0.0   \n",
              "4  <p><span style=\"font-family:Verdana, Geneva, A...         3.0   \n",
              "\n",
              "        date_created.1  favorites.1  id.1   latitude    location  longitude  \\\n",
              "0                  NaN          NaN   NaN        NaN         NaN        NaN   \n",
              "1  2008-11-26 01:42:32          9.0   1.0  40.058324  New Jersey -74.405661   \n",
              "2  2008-11-26 01:42:32          9.0   1.0  40.058324  New Jersey -74.405661   \n",
              "3  2008-11-26 01:42:32          9.0   1.0  40.058324  New Jersey -74.405661   \n",
              "4  2008-11-26 01:42:55         74.0   6.0        NaN         NaN        NaN   \n",
              "\n",
              "                                             members       name  \\\n",
              "0                                                NaN        NaN   \n",
              "1  Sajje Morocco,Brownbum,ZawidaGod,Custodian of ...       AWOL   \n",
              "2  Sajje Morocco,Brownbum,ZawidaGod,Custodian of ...       AWOL   \n",
              "3  Sajje Morocco,Brownbum,ZawidaGod,Custodian of ...       AWOL   \n",
              "4                           Kurt Vile, the Violators  Kurt Vile   \n",
              "\n",
              "                                    related_projects                   tags.1  \\\n",
              "0                                                NaN                      NaN   \n",
              "1  The list of past projects is 2 long but every1...                 ['awol']   \n",
              "2  The list of past projects is 2 long but every1...                 ['awol']   \n",
              "3  The list of past projects is 2 long but every1...                 ['awol']   \n",
              "4                                                NaN  ['philly', 'kurt vile']   \n",
              "\n",
              "                                   website wikipedia_page     split  subset  \\\n",
              "0                                      NaN            NaN       NaN     NaN   \n",
              "1  http://www.AzillionRecords.blogspot.com            NaN  training   small   \n",
              "2  http://www.AzillionRecords.blogspot.com            NaN  training  medium   \n",
              "3  http://www.AzillionRecords.blogspot.com            NaN  training   small   \n",
              "4                      http://kurtvile.com            NaN  training   small   \n",
              "\n",
              "   bit_rate  comments.2   composer       date_created.2        date_recorded  \\\n",
              "0       NaN         NaN        NaN                  NaN                  NaN   \n",
              "1  256000.0         0.0        NaN  2008-11-26 01:48:12  2008-11-26 00:00:00   \n",
              "2  256000.0         0.0        NaN  2008-11-26 01:48:14  2008-11-26 00:00:00   \n",
              "3  256000.0         0.0        NaN  2008-11-26 01:48:20  2008-11-26 00:00:00   \n",
              "4  192000.0         0.0  Kurt Vile  2008-11-25 17:49:06  2008-11-26 00:00:00   \n",
              "\n",
              "   duration  favorites.2 genre_top genres genres_all information.1  interest  \\\n",
              "0       NaN          NaN       NaN    NaN        NaN           NaN       NaN   \n",
              "1     168.0          2.0   Hip-Hop   [21]       [21]           NaN    4656.0   \n",
              "2     237.0          1.0   Hip-Hop   [21]       [21]           NaN    1470.0   \n",
              "3     206.0          6.0   Hip-Hop   [21]       [21]           NaN    1933.0   \n",
              "4     161.0        178.0       Pop   [10]       [10]           NaN   54881.0   \n",
              "\n",
              "  language_code                                            license  listens.1  \\\n",
              "0           NaN                                                NaN        NaN   \n",
              "1            en  Attribution-NonCommercial-ShareAlike 3.0 Inter...     1293.0   \n",
              "2            en  Attribution-NonCommercial-ShareAlike 3.0 Inter...      514.0   \n",
              "3            en  Attribution-NonCommercial-ShareAlike 3.0 Inter...     1151.0   \n",
              "4            en  Attribution-NonCommercial-NoDerivatives (aka M...    50135.0   \n",
              "\n",
              "  lyricist  number publisher tags.2       title.1  \n",
              "0      NaN     NaN       NaN    NaN           NaN  \n",
              "1      NaN     3.0       NaN     []          Food  \n",
              "2      NaN     4.0       NaN     []  Electric Ave  \n",
              "3      NaN     6.0       NaN     []    This World  \n",
              "4      NaN     1.0       NaN     []       Freeway  "
            ]
          },
          "metadata": {
            "tags": []
          },
          "execution_count": 317
        }
      ]
    },
    {
      "metadata": {
        "id": "8zQzyTTFQitm",
        "colab_type": "code",
        "colab": {}
      },
      "cell_type": "code",
      "source": [
        "tracks.rename(columns={'Unnamed: 0':'track_id'}, inplace=True)\n",
        "tracks.drop(0, axis=0, inplace=True)"
      ],
      "execution_count": 0,
      "outputs": []
    },
    {
      "metadata": {
        "id": "x6b0FYHbT9mZ",
        "colab_type": "code",
        "colab": {
          "base_uri": "https://localhost:8080/",
          "height": 530
        },
        "outputId": "db29c6af-94f3-4ef8-a190-7a2e452e7ece"
      },
      "cell_type": "code",
      "source": [
        "tracks.sample(5)"
      ],
      "execution_count": 319,
      "outputs": [
        {
          "output_type": "execute_result",
          "data": {
            "text/html": [
              "<div>\n",
              "<style scoped>\n",
              "    .dataframe tbody tr th:only-of-type {\n",
              "        vertical-align: middle;\n",
              "    }\n",
              "\n",
              "    .dataframe tbody tr th {\n",
              "        vertical-align: top;\n",
              "    }\n",
              "\n",
              "    .dataframe thead th {\n",
              "        text-align: right;\n",
              "    }\n",
              "</style>\n",
              "<table border=\"1\" class=\"dataframe\">\n",
              "  <thead>\n",
              "    <tr style=\"text-align: right;\">\n",
              "      <th></th>\n",
              "      <th>track_id</th>\n",
              "      <th>comments</th>\n",
              "      <th>date_created</th>\n",
              "      <th>date_released</th>\n",
              "      <th>engineer</th>\n",
              "      <th>favorites</th>\n",
              "      <th>id</th>\n",
              "      <th>information</th>\n",
              "      <th>listens</th>\n",
              "      <th>producer</th>\n",
              "      <th>tags</th>\n",
              "      <th>title</th>\n",
              "      <th>tracks</th>\n",
              "      <th>type</th>\n",
              "      <th>active_year_begin</th>\n",
              "      <th>active_year_end</th>\n",
              "      <th>associated_labels</th>\n",
              "      <th>bio</th>\n",
              "      <th>comments.1</th>\n",
              "      <th>date_created.1</th>\n",
              "      <th>favorites.1</th>\n",
              "      <th>id.1</th>\n",
              "      <th>latitude</th>\n",
              "      <th>location</th>\n",
              "      <th>longitude</th>\n",
              "      <th>members</th>\n",
              "      <th>name</th>\n",
              "      <th>related_projects</th>\n",
              "      <th>tags.1</th>\n",
              "      <th>website</th>\n",
              "      <th>wikipedia_page</th>\n",
              "      <th>split</th>\n",
              "      <th>subset</th>\n",
              "      <th>bit_rate</th>\n",
              "      <th>comments.2</th>\n",
              "      <th>composer</th>\n",
              "      <th>date_created.2</th>\n",
              "      <th>date_recorded</th>\n",
              "      <th>duration</th>\n",
              "      <th>favorites.2</th>\n",
              "      <th>genre_top</th>\n",
              "      <th>genres</th>\n",
              "      <th>genres_all</th>\n",
              "      <th>information.1</th>\n",
              "      <th>interest</th>\n",
              "      <th>language_code</th>\n",
              "      <th>license</th>\n",
              "      <th>listens.1</th>\n",
              "      <th>lyricist</th>\n",
              "      <th>number</th>\n",
              "      <th>publisher</th>\n",
              "      <th>tags.2</th>\n",
              "      <th>title.1</th>\n",
              "    </tr>\n",
              "  </thead>\n",
              "  <tbody>\n",
              "    <tr>\n",
              "      <th>70973</th>\n",
              "      <td>107963</td>\n",
              "      <td>0.0</td>\n",
              "      <td>2014-08-03 12:03:54</td>\n",
              "      <td>2014-07-05 00:00:00</td>\n",
              "      <td>NaN</td>\n",
              "      <td>1.0</td>\n",
              "      <td>16800.0</td>\n",
              "      <td>NaN</td>\n",
              "      <td>63916.0</td>\n",
              "      <td>NaN</td>\n",
              "      <td>[]</td>\n",
              "      <td>Passe​-​temps</td>\n",
              "      <td>10.0</td>\n",
              "      <td>Album</td>\n",
              "      <td>NaN</td>\n",
              "      <td>NaN</td>\n",
              "      <td>NaN</td>\n",
              "      <td>NaN</td>\n",
              "      <td>0.0</td>\n",
              "      <td>2014-08-03 12:03:07</td>\n",
              "      <td>15.0</td>\n",
              "      <td>18812.0</td>\n",
              "      <td>NaN</td>\n",
              "      <td>Rabat (Morocco)</td>\n",
              "      <td>NaN</td>\n",
              "      <td>NaN</td>\n",
              "      <td>Winston</td>\n",
              "      <td>NaN</td>\n",
              "      <td>['winston']</td>\n",
              "      <td>NaN</td>\n",
              "      <td>NaN</td>\n",
              "      <td>training</td>\n",
              "      <td>large</td>\n",
              "      <td>320000.0</td>\n",
              "      <td>0.0</td>\n",
              "      <td>NaN</td>\n",
              "      <td>2014-08-03 11:58:19</td>\n",
              "      <td>NaN</td>\n",
              "      <td>169.0</td>\n",
              "      <td>4.0</td>\n",
              "      <td>NaN</td>\n",
              "      <td>[10, 77]</td>\n",
              "      <td>[10, 2, 77]</td>\n",
              "      <td>NaN</td>\n",
              "      <td>9287.0</td>\n",
              "      <td>NaN</td>\n",
              "      <td>Attribution-NonCommercial 3.0 France</td>\n",
              "      <td>4290.0</td>\n",
              "      <td>NaN</td>\n",
              "      <td>6.0</td>\n",
              "      <td>NaN</td>\n",
              "      <td>[]</td>\n",
              "      <td>La Part du feu</td>\n",
              "    </tr>\n",
              "    <tr>\n",
              "      <th>73964</th>\n",
              "      <td>111909</td>\n",
              "      <td>0.0</td>\n",
              "      <td>2014-12-08 22:50:52</td>\n",
              "      <td>1999-12-14 00:00:00</td>\n",
              "      <td>NaN</td>\n",
              "      <td>1.0</td>\n",
              "      <td>17277.0</td>\n",
              "      <td>&lt;p&gt;&lt;span style=\"color:#333333;font-family:'Dro...</td>\n",
              "      <td>13332.0</td>\n",
              "      <td>NaN</td>\n",
              "      <td>['camden', 'dream pop', 'rew', 'milwaukee', 'd...</td>\n",
              "      <td>Reel Time Canvas</td>\n",
              "      <td>10.0</td>\n",
              "      <td>Album</td>\n",
              "      <td>1998-01-01 00:00:00</td>\n",
              "      <td>2000-01-01 00:00:00</td>\n",
              "      <td>NaN</td>\n",
              "      <td>&lt;p&gt;&lt;span style=\"font-size:16pt;font-family:Tim...</td>\n",
              "      <td>1.0</td>\n",
              "      <td>2014-12-08 22:46:00</td>\n",
              "      <td>2.0</td>\n",
              "      <td>19198.0</td>\n",
              "      <td>NaN</td>\n",
              "      <td>Milwaukee</td>\n",
              "      <td>NaN</td>\n",
              "      <td>Eric Osterman\\nWilliam J Seidel\\nRyan E Weber\\...</td>\n",
              "      <td>Camden</td>\n",
              "      <td>NaN</td>\n",
              "      <td>['camden']</td>\n",
              "      <td>NaN</td>\n",
              "      <td>NaN</td>\n",
              "      <td>training</td>\n",
              "      <td>medium</td>\n",
              "      <td>160000.0</td>\n",
              "      <td>0.0</td>\n",
              "      <td>NaN</td>\n",
              "      <td>2014-12-08 22:48:50</td>\n",
              "      <td>NaN</td>\n",
              "      <td>307.0</td>\n",
              "      <td>0.0</td>\n",
              "      <td>Rock</td>\n",
              "      <td>[66, 359]</td>\n",
              "      <td>[66, 12, 359]</td>\n",
              "      <td>NaN</td>\n",
              "      <td>1775.0</td>\n",
              "      <td>NaN</td>\n",
              "      <td>Attribution-Noncommercial-Share Alike 3.0 Unit...</td>\n",
              "      <td>1330.0</td>\n",
              "      <td>NaN</td>\n",
              "      <td>8.0</td>\n",
              "      <td>NaN</td>\n",
              "      <td>['camden', 'dream pop', 'rew', 'milwaukee', 'd...</td>\n",
              "      <td>A 'c' OK, But A 'd'?</td>\n",
              "    </tr>\n",
              "    <tr>\n",
              "      <th>59665</th>\n",
              "      <td>87468</td>\n",
              "      <td>0.0</td>\n",
              "      <td>2013-07-24 10:35:18</td>\n",
              "      <td>NaN</td>\n",
              "      <td>NaN</td>\n",
              "      <td>1.0</td>\n",
              "      <td>14730.0</td>\n",
              "      <td>NaN</td>\n",
              "      <td>16354.0</td>\n",
              "      <td>NaN</td>\n",
              "      <td>[]</td>\n",
              "      <td>a nos amours</td>\n",
              "      <td>6.0</td>\n",
              "      <td>Album</td>\n",
              "      <td>NaN</td>\n",
              "      <td>NaN</td>\n",
              "      <td>NaN</td>\n",
              "      <td>NaN</td>\n",
              "      <td>0.0</td>\n",
              "      <td>2013-04-29 19:30:39</td>\n",
              "      <td>0.0</td>\n",
              "      <td>16197.0</td>\n",
              "      <td>NaN</td>\n",
              "      <td>NaN</td>\n",
              "      <td>NaN</td>\n",
              "      <td>NaN</td>\n",
              "      <td>Colombey</td>\n",
              "      <td>NaN</td>\n",
              "      <td>['colombey']</td>\n",
              "      <td>NaN</td>\n",
              "      <td>NaN</td>\n",
              "      <td>training</td>\n",
              "      <td>large</td>\n",
              "      <td>128000.0</td>\n",
              "      <td>0.0</td>\n",
              "      <td>NaN</td>\n",
              "      <td>2013-07-24 10:33:54</td>\n",
              "      <td>NaN</td>\n",
              "      <td>152.0</td>\n",
              "      <td>2.0</td>\n",
              "      <td>NaN</td>\n",
              "      <td>[3, 181]</td>\n",
              "      <td>[3, 181, 15]</td>\n",
              "      <td>NaN</td>\n",
              "      <td>6351.0</td>\n",
              "      <td>NaN</td>\n",
              "      <td>Attribution-Noncommercial-Share Alike 3.0 Unit...</td>\n",
              "      <td>4923.0</td>\n",
              "      <td>NaN</td>\n",
              "      <td>6.0</td>\n",
              "      <td>NaN</td>\n",
              "      <td>[]</td>\n",
              "      <td>les bas-fonds de chaumont</td>\n",
              "    </tr>\n",
              "    <tr>\n",
              "      <th>89196</th>\n",
              "      <td>131603</td>\n",
              "      <td>0.0</td>\n",
              "      <td>2016-01-30 16:13:51</td>\n",
              "      <td>2016-01-31 00:00:00</td>\n",
              "      <td>NaN</td>\n",
              "      <td>1.0</td>\n",
              "      <td>19825.0</td>\n",
              "      <td>NaN</td>\n",
              "      <td>4427.0</td>\n",
              "      <td>NaN</td>\n",
              "      <td>['post rock', 'soundtrack', 'experimental comp...</td>\n",
              "      <td>Stochastic Deployment vol1: Awakening of the S...</td>\n",
              "      <td>28.0</td>\n",
              "      <td>Album</td>\n",
              "      <td>NaN</td>\n",
              "      <td>NaN</td>\n",
              "      <td>NaN</td>\n",
              "      <td>NaN</td>\n",
              "      <td>0.0</td>\n",
              "      <td>2015-03-17 16:46:02</td>\n",
              "      <td>5.0</td>\n",
              "      <td>19815.0</td>\n",
              "      <td>NaN</td>\n",
              "      <td>NaN</td>\n",
              "      <td>NaN</td>\n",
              "      <td>NaN</td>\n",
              "      <td>SULCUS</td>\n",
              "      <td>NaN</td>\n",
              "      <td>['sulcus', 'soundtrack', 'audio collage', 'exp...</td>\n",
              "      <td>http://1nterface.com/SULCUS.html</td>\n",
              "      <td>NaN</td>\n",
              "      <td>validation</td>\n",
              "      <td>large</td>\n",
              "      <td>192000.0</td>\n",
              "      <td>0.0</td>\n",
              "      <td>NaN</td>\n",
              "      <td>2016-01-30 17:08:51</td>\n",
              "      <td>NaN</td>\n",
              "      <td>75.0</td>\n",
              "      <td>0.0</td>\n",
              "      <td>NaN</td>\n",
              "      <td>[26, 224]</td>\n",
              "      <td>[224, 26, 12, 38]</td>\n",
              "      <td>NaN</td>\n",
              "      <td>1083.0</td>\n",
              "      <td>NaN</td>\n",
              "      <td>Attribution-NonCommercial-ShareAlike</td>\n",
              "      <td>966.0</td>\n",
              "      <td>NaN</td>\n",
              "      <td>1.0</td>\n",
              "      <td>NaN</td>\n",
              "      <td>['post rock', 'soundtrack', 'experimental comp...</td>\n",
              "      <td>&gt; esc + del: earthlings?</td>\n",
              "    </tr>\n",
              "    <tr>\n",
              "      <th>39335</th>\n",
              "      <td>58927</td>\n",
              "      <td>0.0</td>\n",
              "      <td>2012-01-11 17:27:48</td>\n",
              "      <td>2010-01-01 00:00:00</td>\n",
              "      <td>NaN</td>\n",
              "      <td>2.0</td>\n",
              "      <td>10831.0</td>\n",
              "      <td>&lt;p&gt;Individual Chorale Preludes from the comple...</td>\n",
              "      <td>9527.0</td>\n",
              "      <td>NaN</td>\n",
              "      <td>[]</td>\n",
              "      <td>Bach Organ Works: Individual Chorale Preludes</td>\n",
              "      <td>63.0</td>\n",
              "      <td>Album</td>\n",
              "      <td>NaN</td>\n",
              "      <td>NaN</td>\n",
              "      <td>NaN</td>\n",
              "      <td>&lt;p&gt;James Kibbie is Professor of Organ at the U...</td>\n",
              "      <td>0.0</td>\n",
              "      <td>2012-01-11 14:18:44</td>\n",
              "      <td>14.0</td>\n",
              "      <td>12750.0</td>\n",
              "      <td>42.281875</td>\n",
              "      <td>Ann Arbor, MI</td>\n",
              "      <td>-83.748479</td>\n",
              "      <td>NaN</td>\n",
              "      <td>James Kibbie</td>\n",
              "      <td>NaN</td>\n",
              "      <td>['js bach', 'johann sebastian bach', 'bach', '...</td>\n",
              "      <td>http://www.blockmrecords.org/bach/kibbie.htm</td>\n",
              "      <td>NaN</td>\n",
              "      <td>training</td>\n",
              "      <td>large</td>\n",
              "      <td>256000.0</td>\n",
              "      <td>0.0</td>\n",
              "      <td>J.S. Bach</td>\n",
              "      <td>2012-01-11 17:26:27</td>\n",
              "      <td>NaN</td>\n",
              "      <td>101.0</td>\n",
              "      <td>0.0</td>\n",
              "      <td>Classical</td>\n",
              "      <td>[5]</td>\n",
              "      <td>[5]</td>\n",
              "      <td>NaN</td>\n",
              "      <td>312.0</td>\n",
              "      <td>NaN</td>\n",
              "      <td>Attribution-NonCommercial-NoDerivatives (aka M...</td>\n",
              "      <td>106.0</td>\n",
              "      <td>NaN</td>\n",
              "      <td>20.0</td>\n",
              "      <td>NaN</td>\n",
              "      <td>[]</td>\n",
              "      <td>BWV 710: Wir Christenleut habn jetzund Freud</td>\n",
              "    </tr>\n",
              "  </tbody>\n",
              "</table>\n",
              "</div>"
            ],
            "text/plain": [
              "      track_id  comments         date_created        date_released engineer  \\\n",
              "70973   107963       0.0  2014-08-03 12:03:54  2014-07-05 00:00:00      NaN   \n",
              "73964   111909       0.0  2014-12-08 22:50:52  1999-12-14 00:00:00      NaN   \n",
              "59665    87468       0.0  2013-07-24 10:35:18                  NaN      NaN   \n",
              "89196   131603       0.0  2016-01-30 16:13:51  2016-01-31 00:00:00      NaN   \n",
              "39335    58927       0.0  2012-01-11 17:27:48  2010-01-01 00:00:00      NaN   \n",
              "\n",
              "       favorites       id                                        information  \\\n",
              "70973        1.0  16800.0                                                NaN   \n",
              "73964        1.0  17277.0  <p><span style=\"color:#333333;font-family:'Dro...   \n",
              "59665        1.0  14730.0                                                NaN   \n",
              "89196        1.0  19825.0                                                NaN   \n",
              "39335        2.0  10831.0  <p>Individual Chorale Preludes from the comple...   \n",
              "\n",
              "       listens producer                                               tags  \\\n",
              "70973  63916.0      NaN                                                 []   \n",
              "73964  13332.0      NaN  ['camden', 'dream pop', 'rew', 'milwaukee', 'd...   \n",
              "59665  16354.0      NaN                                                 []   \n",
              "89196   4427.0      NaN  ['post rock', 'soundtrack', 'experimental comp...   \n",
              "39335   9527.0      NaN                                                 []   \n",
              "\n",
              "                                                   title  tracks   type  \\\n",
              "70973                                      Passe​-​temps    10.0  Album   \n",
              "73964                                   Reel Time Canvas    10.0  Album   \n",
              "59665                                       a nos amours     6.0  Album   \n",
              "89196  Stochastic Deployment vol1: Awakening of the S...    28.0  Album   \n",
              "39335      Bach Organ Works: Individual Chorale Preludes    63.0  Album   \n",
              "\n",
              "         active_year_begin      active_year_end associated_labels  \\\n",
              "70973                  NaN                  NaN               NaN   \n",
              "73964  1998-01-01 00:00:00  2000-01-01 00:00:00               NaN   \n",
              "59665                  NaN                  NaN               NaN   \n",
              "89196                  NaN                  NaN               NaN   \n",
              "39335                  NaN                  NaN               NaN   \n",
              "\n",
              "                                                     bio  comments.1  \\\n",
              "70973                                                NaN         0.0   \n",
              "73964  <p><span style=\"font-size:16pt;font-family:Tim...         1.0   \n",
              "59665                                                NaN         0.0   \n",
              "89196                                                NaN         0.0   \n",
              "39335  <p>James Kibbie is Professor of Organ at the U...         0.0   \n",
              "\n",
              "            date_created.1  favorites.1     id.1   latitude         location  \\\n",
              "70973  2014-08-03 12:03:07         15.0  18812.0        NaN  Rabat (Morocco)   \n",
              "73964  2014-12-08 22:46:00          2.0  19198.0        NaN        Milwaukee   \n",
              "59665  2013-04-29 19:30:39          0.0  16197.0        NaN              NaN   \n",
              "89196  2015-03-17 16:46:02          5.0  19815.0        NaN              NaN   \n",
              "39335  2012-01-11 14:18:44         14.0  12750.0  42.281875    Ann Arbor, MI   \n",
              "\n",
              "       longitude                                            members  \\\n",
              "70973        NaN                                                NaN   \n",
              "73964        NaN  Eric Osterman\\nWilliam J Seidel\\nRyan E Weber\\...   \n",
              "59665        NaN                                                NaN   \n",
              "89196        NaN                                                NaN   \n",
              "39335 -83.748479                                                NaN   \n",
              "\n",
              "               name related_projects  \\\n",
              "70973       Winston              NaN   \n",
              "73964        Camden              NaN   \n",
              "59665      Colombey              NaN   \n",
              "89196        SULCUS              NaN   \n",
              "39335  James Kibbie              NaN   \n",
              "\n",
              "                                                  tags.1  \\\n",
              "70973                                        ['winston']   \n",
              "73964                                         ['camden']   \n",
              "59665                                       ['colombey']   \n",
              "89196  ['sulcus', 'soundtrack', 'audio collage', 'exp...   \n",
              "39335  ['js bach', 'johann sebastian bach', 'bach', '...   \n",
              "\n",
              "                                            website wikipedia_page  \\\n",
              "70973                                           NaN            NaN   \n",
              "73964                                           NaN            NaN   \n",
              "59665                                           NaN            NaN   \n",
              "89196              http://1nterface.com/SULCUS.html            NaN   \n",
              "39335  http://www.blockmrecords.org/bach/kibbie.htm            NaN   \n",
              "\n",
              "            split  subset  bit_rate  comments.2   composer  \\\n",
              "70973    training   large  320000.0         0.0        NaN   \n",
              "73964    training  medium  160000.0         0.0        NaN   \n",
              "59665    training   large  128000.0         0.0        NaN   \n",
              "89196  validation   large  192000.0         0.0        NaN   \n",
              "39335    training   large  256000.0         0.0  J.S. Bach   \n",
              "\n",
              "            date_created.2 date_recorded  duration  favorites.2  genre_top  \\\n",
              "70973  2014-08-03 11:58:19           NaN     169.0          4.0        NaN   \n",
              "73964  2014-12-08 22:48:50           NaN     307.0          0.0       Rock   \n",
              "59665  2013-07-24 10:33:54           NaN     152.0          2.0        NaN   \n",
              "89196  2016-01-30 17:08:51           NaN      75.0          0.0        NaN   \n",
              "39335  2012-01-11 17:26:27           NaN     101.0          0.0  Classical   \n",
              "\n",
              "          genres         genres_all information.1  interest language_code  \\\n",
              "70973   [10, 77]        [10, 2, 77]           NaN    9287.0           NaN   \n",
              "73964  [66, 359]      [66, 12, 359]           NaN    1775.0           NaN   \n",
              "59665   [3, 181]       [3, 181, 15]           NaN    6351.0           NaN   \n",
              "89196  [26, 224]  [224, 26, 12, 38]           NaN    1083.0           NaN   \n",
              "39335        [5]                [5]           NaN     312.0           NaN   \n",
              "\n",
              "                                                 license  listens.1 lyricist  \\\n",
              "70973               Attribution-NonCommercial 3.0 France     4290.0      NaN   \n",
              "73964  Attribution-Noncommercial-Share Alike 3.0 Unit...     1330.0      NaN   \n",
              "59665  Attribution-Noncommercial-Share Alike 3.0 Unit...     4923.0      NaN   \n",
              "89196               Attribution-NonCommercial-ShareAlike      966.0      NaN   \n",
              "39335  Attribution-NonCommercial-NoDerivatives (aka M...      106.0      NaN   \n",
              "\n",
              "       number publisher                                             tags.2  \\\n",
              "70973     6.0       NaN                                                 []   \n",
              "73964     8.0       NaN  ['camden', 'dream pop', 'rew', 'milwaukee', 'd...   \n",
              "59665     6.0       NaN                                                 []   \n",
              "89196     1.0       NaN  ['post rock', 'soundtrack', 'experimental comp...   \n",
              "39335    20.0       NaN                                                 []   \n",
              "\n",
              "                                            title.1  \n",
              "70973                                La Part du feu  \n",
              "73964                          A 'c' OK, But A 'd'?  \n",
              "59665                     les bas-fonds de chaumont  \n",
              "89196                      > esc + del: earthlings?  \n",
              "39335  BWV 710: Wir Christenleut habn jetzund Freud  "
            ]
          },
          "metadata": {
            "tags": []
          },
          "execution_count": 319
        }
      ]
    },
    {
      "metadata": {
        "id": "Fb7bfwxaUDoY",
        "colab_type": "code",
        "colab": {
          "base_uri": "https://localhost:8080/",
          "height": 1003
        },
        "outputId": "45b02620-227e-447e-cc96-6a0a87d49a4e"
      },
      "cell_type": "code",
      "source": [
        "tracks.info()"
      ],
      "execution_count": 320,
      "outputs": [
        {
          "output_type": "stream",
          "text": [
            "<class 'pandas.core.frame.DataFrame'>\n",
            "Int64Index: 106574 entries, 1 to 106574\n",
            "Data columns (total 53 columns):\n",
            "track_id             106574 non-null object\n",
            "comments             106574 non-null float64\n",
            "date_created         103045 non-null object\n",
            "date_released        70294 non-null object\n",
            "engineer             15295 non-null object\n",
            "favorites            106574 non-null float64\n",
            "id                   106574 non-null float64\n",
            "information          83149 non-null object\n",
            "listens              106574 non-null float64\n",
            "producer             18060 non-null object\n",
            "tags                 106574 non-null object\n",
            "title                105549 non-null object\n",
            "tracks               106574 non-null float64\n",
            "type                 100066 non-null object\n",
            "active_year_begin    22711 non-null object\n",
            "active_year_end      5375 non-null object\n",
            "associated_labels    14271 non-null object\n",
            "bio                  71156 non-null object\n",
            "comments.1           106574 non-null float64\n",
            "date_created.1       105718 non-null object\n",
            "favorites.1          106574 non-null float64\n",
            "id.1                 106574 non-null float64\n",
            "latitude             44544 non-null float64\n",
            "location             70210 non-null object\n",
            "longitude            44544 non-null float64\n",
            "members              46849 non-null object\n",
            "name                 106574 non-null object\n",
            "related_projects     13152 non-null object\n",
            "tags.1               106574 non-null object\n",
            "website              79256 non-null object\n",
            "wikipedia_page       5581 non-null object\n",
            "split                106574 non-null object\n",
            "subset               106574 non-null object\n",
            "bit_rate             106574 non-null float64\n",
            "comments.2           106574 non-null float64\n",
            "composer             3670 non-null object\n",
            "date_created.2       106574 non-null object\n",
            "date_recorded        6159 non-null object\n",
            "duration             106574 non-null float64\n",
            "favorites.2          106574 non-null float64\n",
            "genre_top            49598 non-null object\n",
            "genres               106574 non-null object\n",
            "genres_all           106574 non-null object\n",
            "information.1        2349 non-null object\n",
            "interest             106574 non-null float64\n",
            "language_code        15024 non-null object\n",
            "license              106487 non-null object\n",
            "listens.1            106574 non-null float64\n",
            "lyricist             311 non-null object\n",
            "number               106574 non-null float64\n",
            "publisher            1263 non-null object\n",
            "tags.2               106574 non-null object\n",
            "title.1              106573 non-null object\n",
            "dtypes: float64(17), object(36)\n",
            "memory usage: 43.9+ MB\n"
          ],
          "name": "stdout"
        }
      ]
    },
    {
      "metadata": {
        "id": "sAlX_UGCQiy1",
        "colab_type": "code",
        "colab": {
          "base_uri": "https://localhost:8080/",
          "height": 221
        },
        "outputId": "bc331ddf-6d8c-4af4-d8f1-93b21e8f2202"
      },
      "cell_type": "code",
      "source": [
        "tracks.columns"
      ],
      "execution_count": 321,
      "outputs": [
        {
          "output_type": "execute_result",
          "data": {
            "text/plain": [
              "Index(['track_id', 'comments', 'date_created', 'date_released', 'engineer',\n",
              "       'favorites', 'id', 'information', 'listens', 'producer', 'tags',\n",
              "       'title', 'tracks', 'type', 'active_year_begin', 'active_year_end',\n",
              "       'associated_labels', 'bio', 'comments.1', 'date_created.1',\n",
              "       'favorites.1', 'id.1', 'latitude', 'location', 'longitude', 'members',\n",
              "       'name', 'related_projects', 'tags.1', 'website', 'wikipedia_page',\n",
              "       'split', 'subset', 'bit_rate', 'comments.2', 'composer',\n",
              "       'date_created.2', 'date_recorded', 'duration', 'favorites.2',\n",
              "       'genre_top', 'genres', 'genres_all', 'information.1', 'interest',\n",
              "       'language_code', 'license', 'listens.1', 'lyricist', 'number',\n",
              "       'publisher', 'tags.2', 'title.1'],\n",
              "      dtype='object')"
            ]
          },
          "metadata": {
            "tags": []
          },
          "execution_count": 321
        }
      ]
    },
    {
      "metadata": {
        "id": "E_NwgIMIQi0y",
        "colab_type": "code",
        "colab": {
          "base_uri": "https://localhost:8080/",
          "height": 306
        },
        "outputId": "f1a8eed4-b69d-46af-af90-45389cfb6bd1"
      },
      "cell_type": "code",
      "source": [
        "tracks['genre_top'].value_counts()"
      ],
      "execution_count": 322,
      "outputs": [
        {
          "output_type": "execute_result",
          "data": {
            "text/plain": [
              "Rock                   14182\n",
              "Experimental           10608\n",
              "Electronic              9372\n",
              "Hip-Hop                 3552\n",
              "Folk                    2803\n",
              "Pop                     2332\n",
              "Instrumental            2079\n",
              "International           1389\n",
              "Classical               1230\n",
              "Jazz                     571\n",
              "Old-Time / Historic      554\n",
              "Spoken                   423\n",
              "Country                  194\n",
              "Soul-RnB                 175\n",
              "Blues                    110\n",
              "Easy Listening            24\n",
              "Name: genre_top, dtype: int64"
            ]
          },
          "metadata": {
            "tags": []
          },
          "execution_count": 322
        }
      ]
    },
    {
      "metadata": {
        "id": "cNaYimLVUka4",
        "colab_type": "code",
        "colab": {
          "base_uri": "https://localhost:8080/",
          "height": 935
        },
        "outputId": "98aca63d-cc0a-4a79-dda1-33292cbcfd62"
      },
      "cell_type": "code",
      "source": [
        "tracks.isna().sum()"
      ],
      "execution_count": 323,
      "outputs": [
        {
          "output_type": "execute_result",
          "data": {
            "text/plain": [
              "track_id                  0\n",
              "comments                  0\n",
              "date_created           3529\n",
              "date_released         36280\n",
              "engineer              91279\n",
              "favorites                 0\n",
              "id                        0\n",
              "information           23425\n",
              "listens                   0\n",
              "producer              88514\n",
              "tags                      0\n",
              "title                  1025\n",
              "tracks                    0\n",
              "type                   6508\n",
              "active_year_begin     83863\n",
              "active_year_end      101199\n",
              "associated_labels     92303\n",
              "bio                   35418\n",
              "comments.1                0\n",
              "date_created.1          856\n",
              "favorites.1               0\n",
              "id.1                      0\n",
              "latitude              62030\n",
              "location              36364\n",
              "longitude             62030\n",
              "members               59725\n",
              "name                      0\n",
              "related_projects      93422\n",
              "tags.1                    0\n",
              "website               27318\n",
              "wikipedia_page       100993\n",
              "split                     0\n",
              "subset                    0\n",
              "bit_rate                  0\n",
              "comments.2                0\n",
              "composer             102904\n",
              "date_created.2            0\n",
              "date_recorded        100415\n",
              "duration                  0\n",
              "favorites.2               0\n",
              "genre_top             56976\n",
              "genres                    0\n",
              "genres_all                0\n",
              "information.1        104225\n",
              "interest                  0\n",
              "language_code         91550\n",
              "license                  87\n",
              "listens.1                 0\n",
              "lyricist             106263\n",
              "number                    0\n",
              "publisher            105311\n",
              "tags.2                    0\n",
              "title.1                   1\n",
              "dtype: int64"
            ]
          },
          "metadata": {
            "tags": []
          },
          "execution_count": 323
        }
      ]
    },
    {
      "metadata": {
        "id": "ocGKPCmpWnsz",
        "colab_type": "code",
        "colab": {}
      },
      "cell_type": "code",
      "source": [
        "tracks.drop(['publisher','lyricist','language_code','information.1','date_recorded',\n",
        "             'composer','wikipedia_page','engineer','active_year_begin',\n",
        "             'active_year_end','associated_labels','producer'],axis=1,inplace=True)"
      ],
      "execution_count": 0,
      "outputs": []
    },
    {
      "metadata": {
        "colab_type": "code",
        "id": "tpiqWu46iK5O",
        "colab": {}
      },
      "cell_type": "code",
      "source": [
        "tracks.drop(['latitude','location','longitude','members','date_released'],\n",
        "             axis=1,inplace=True)"
      ],
      "execution_count": 0,
      "outputs": []
    },
    {
      "metadata": {
        "id": "UUxw3disiLKu",
        "colab_type": "code",
        "colab": {}
      },
      "cell_type": "code",
      "source": [
        "tracks.drop('related_projects',axis=1,inplace=True)"
      ],
      "execution_count": 0,
      "outputs": []
    },
    {
      "metadata": {
        "id": "Y1tkkJnlr9yr",
        "colab_type": "code",
        "colab": {}
      },
      "cell_type": "code",
      "source": [
        "tracks.drop('information',axis=1,inplace=True)"
      ],
      "execution_count": 0,
      "outputs": []
    },
    {
      "metadata": {
        "id": "FjQ2DnOcsErC",
        "colab_type": "code",
        "colab": {}
      },
      "cell_type": "code",
      "source": [
        "tracks.drop(['bio','website','license','date_created.1','type','date_created'],axis=1,inplace=True)"
      ],
      "execution_count": 0,
      "outputs": []
    },
    {
      "metadata": {
        "id": "X9WIArqwbjBC",
        "colab_type": "text"
      },
      "cell_type": "markdown",
      "source": [
        "Go through each one and see if they're relevant by sampling each column"
      ]
    },
    {
      "metadata": {
        "id": "d4CkMsNYfPeI",
        "colab_type": "code",
        "colab": {
          "base_uri": "https://localhost:8080/",
          "height": 510
        },
        "outputId": "354dd509-1087-4823-d93c-79e8e2ab49db"
      },
      "cell_type": "code",
      "source": [
        "tracks.isna().sum()"
      ],
      "execution_count": 329,
      "outputs": [
        {
          "output_type": "execute_result",
          "data": {
            "text/plain": [
              "track_id              0\n",
              "comments              0\n",
              "favorites             0\n",
              "id                    0\n",
              "listens               0\n",
              "tags                  0\n",
              "title              1025\n",
              "tracks                0\n",
              "comments.1            0\n",
              "favorites.1           0\n",
              "id.1                  0\n",
              "name                  0\n",
              "tags.1                0\n",
              "split                 0\n",
              "subset                0\n",
              "bit_rate              0\n",
              "comments.2            0\n",
              "date_created.2        0\n",
              "duration              0\n",
              "favorites.2           0\n",
              "genre_top         56976\n",
              "genres                0\n",
              "genres_all            0\n",
              "interest              0\n",
              "listens.1             0\n",
              "number                0\n",
              "tags.2                0\n",
              "title.1               1\n",
              "dtype: int64"
            ]
          },
          "metadata": {
            "tags": []
          },
          "execution_count": 329
        }
      ]
    },
    {
      "metadata": {
        "id": "Tq3HwpyWtKZS",
        "colab_type": "code",
        "colab": {}
      },
      "cell_type": "code",
      "source": [
        "tracks.dropna(subset=['title'],inplace=True)"
      ],
      "execution_count": 0,
      "outputs": []
    },
    {
      "metadata": {
        "id": "rarKV9TLt2H7",
        "colab_type": "code",
        "colab": {
          "base_uri": "https://localhost:8080/",
          "height": 34
        },
        "outputId": "fb72f992-059b-4029-efe4-f2949eba5b7a"
      },
      "cell_type": "code",
      "source": [
        "tracks['title'].isna().sum()"
      ],
      "execution_count": 349,
      "outputs": [
        {
          "output_type": "execute_result",
          "data": {
            "text/plain": [
              "0"
            ]
          },
          "metadata": {
            "tags": []
          },
          "execution_count": 349
        }
      ]
    },
    {
      "metadata": {
        "id": "BkJtScKNjbsE",
        "colab_type": "text"
      },
      "cell_type": "markdown",
      "source": [
        "I think we can predict genres on the the labels that we have and then predict them for the one that are missing."
      ]
    },
    {
      "metadata": {
        "id": "PXG21CMkVbD3",
        "colab_type": "text"
      },
      "cell_type": "markdown",
      "source": [
        "# 2. Logistic regression on numeric columns\n",
        "We'll only factorize genre_top for now"
      ]
    },
    {
      "metadata": {
        "id": "yUbhda-hvZ3l",
        "colab_type": "text"
      },
      "cell_type": "markdown",
      "source": [
        "Let's train on whatever genres we have and test on the ones we don't"
      ]
    },
    {
      "metadata": {
        "id": "pYN5MRaG1Xpy",
        "colab_type": "code",
        "colab": {
          "base_uri": "https://localhost:8080/",
          "height": 34
        },
        "outputId": "4f5945d3-1e2a-40df-8680-f54f4f5e330f"
      },
      "cell_type": "code",
      "source": [
        "tracks[tracks.isnull().any(axis=1)].shape, tracks.dropna().shape"
      ],
      "execution_count": 352,
      "outputs": [
        {
          "output_type": "execute_result",
          "data": {
            "text/plain": [
              "((56261, 28), (49288, 28))"
            ]
          },
          "metadata": {
            "tags": []
          },
          "execution_count": 352
        }
      ]
    },
    {
      "metadata": {
        "id": "w8IVpv5ItBoC",
        "colab_type": "code",
        "colab": {}
      },
      "cell_type": "code",
      "source": [
        "# Train with top_genres missing\n",
        "df_train = tracks[tracks.isnull().any(axis=1)]\n",
        "# Test with genres present\n",
        "df_test = tracks.dropna()"
      ],
      "execution_count": 0,
      "outputs": []
    },
    {
      "metadata": {
        "id": "Rob-mNMM2pwq",
        "colab_type": "code",
        "colab": {}
      },
      "cell_type": "code",
      "source": [
        "# Create new dataframe no missing genres_top\n",
        "df = df_test"
      ],
      "execution_count": 0,
      "outputs": []
    },
    {
      "metadata": {
        "id": "D-7kTVAa4mHp",
        "colab_type": "code",
        "colab": {}
      },
      "cell_type": "code",
      "source": [
        "# Factorize the objects\n",
        "char_cols = df.dtypes.pipe(lambda x: x[x == 'object']).index\n",
        "\n",
        "for c in char_cols:\n",
        "    df[c] = pd.factorize(df[c])[0]"
      ],
      "execution_count": 0,
      "outputs": []
    },
    {
      "metadata": {
        "id": "JLYXACiw53yF",
        "colab_type": "code",
        "colab": {
          "base_uri": "https://localhost:8080/",
          "height": 306
        },
        "outputId": "9002d2f3-ae69-477a-c3af-d4a6e22841c6"
      },
      "cell_type": "code",
      "source": [
        "df['genre_top'].value_counts()"
      ],
      "execution_count": 376,
      "outputs": [
        {
          "output_type": "execute_result",
          "data": {
            "text/plain": [
              "2     14155\n",
              "3     10544\n",
              "6      9259\n",
              "0      3536\n",
              "4      2773\n",
              "1      2325\n",
              "14     2070\n",
              "8      1378\n",
              "12     1212\n",
              "5       564\n",
              "13      553\n",
              "7       421\n",
              "11      194\n",
              "9       175\n",
              "10      105\n",
              "15       24\n",
              "Name: genre_top, dtype: int64"
            ]
          },
          "metadata": {
            "tags": []
          },
          "execution_count": 376
        }
      ]
    },
    {
      "metadata": {
        "id": "zdnEwN6RVizl",
        "colab_type": "code",
        "colab": {
          "base_uri": "https://localhost:8080/",
          "height": 34
        },
        "outputId": "abbaf722-201f-46af-e625-be03b7380290"
      },
      "cell_type": "code",
      "source": [
        "from sklearn import metrics\n",
        "from sklearn.model_selection import KFold, cross_val_score\n",
        "from sklearn.pipeline import make_pipeline\n",
        "from sklearn.linear_model import LogisticRegression\n",
        "from sklearn.preprocessing import StandardScaler\n",
        "\n",
        "# Create features matrix\n",
        "features = df.loc[:,df.columns != 'genre_top']\n",
        "\n",
        "# Create target vector\n",
        "target = df['genre_top']\n",
        "\n",
        "# Create standardizer\n",
        "standardizer = StandardScaler()\n",
        "\n",
        "# Create logistic regression object\n",
        "logit = LogisticRegression()\n",
        "\n",
        "# Create a pipeline that standardizes, then runs logistic regression\n",
        "pipeline = make_pipeline(standardizer, logit)\n",
        "\n",
        "# Create k-Fold cross-validation\n",
        "kf = KFold(n_splits=10, shuffle=True, random_state=1)\n",
        "\n",
        "# Conduct k-fold cross-validation\n",
        "cv_results = cross_val_score(pipeline, # Pipeline\n",
        "                             features, # Feature matrix\n",
        "                             target, # Target vector\n",
        "                             cv=kf, # Cross-validation technique\n",
        "                             scoring=\"accuracy\", # Loss function\n",
        "                             n_jobs=-1) # Use all CPU scores\n",
        "\n",
        "# Calculate mean\n",
        "cv_results.mean()"
      ],
      "execution_count": 381,
      "outputs": [
        {
          "output_type": "execute_result",
          "data": {
            "text/plain": [
              "0.43241809259669123"
            ]
          },
          "metadata": {
            "tags": []
          },
          "execution_count": 381
        }
      ]
    },
    {
      "metadata": {
        "id": "QWSCpDwp-fFA",
        "colab_type": "text"
      },
      "cell_type": "markdown",
      "source": [
        "### Different Approach:"
      ]
    },
    {
      "metadata": {
        "id": "vatHDY_0-fIf",
        "colab_type": "code",
        "colab": {
          "base_uri": "https://localhost:8080/",
          "height": 88
        },
        "outputId": "b952b015-5203-4ff0-d628-553f313f07c0"
      },
      "cell_type": "code",
      "source": [
        "X = df.loc[:,df.columns != 'genre_top']\n",
        "y = df['genre_top']\n",
        "\n",
        "model = LogisticRegression(random_state=42, solver='lbfgs', multi_class='multinomial', max_iter=100)\n",
        "model.fit(X,y)\n",
        "model.score(X,y)"
      ],
      "execution_count": 385,
      "outputs": [
        {
          "output_type": "stream",
          "text": [
            "/usr/local/lib/python3.6/dist-packages/sklearn/linear_model/logistic.py:758: ConvergenceWarning: lbfgs failed to converge. Increase the number of iterations.\n",
            "  \"of iterations.\", ConvergenceWarning)\n"
          ],
          "name": "stderr"
        },
        {
          "output_type": "execute_result",
          "data": {
            "text/plain": [
              "0.34247687063788346"
            ]
          },
          "metadata": {
            "tags": []
          },
          "execution_count": 385
        }
      ]
    },
    {
      "metadata": {
        "id": "iii9jpqP-fLo",
        "colab_type": "code",
        "colab": {
          "base_uri": "https://localhost:8080/",
          "height": 88
        },
        "outputId": "c25f81a1-466d-4cb7-ccf2-ebc507e196dc"
      },
      "cell_type": "code",
      "source": [
        "from sklearn.model_selection import train_test_split\n",
        "X_train, X_test, y_train, y_test = train_test_split(X, y, random_state=42)\n",
        "\n",
        "model2 = LogisticRegression(random_state=42, multi_class='multinomial', solver='lbfgs', max_iter=100)\n",
        "model2.fit(X_train,y_train)\n",
        "model2.score(X_test,y_test)"
      ],
      "execution_count": 386,
      "outputs": [
        {
          "output_type": "stream",
          "text": [
            "/usr/local/lib/python3.6/dist-packages/sklearn/linear_model/logistic.py:758: ConvergenceWarning: lbfgs failed to converge. Increase the number of iterations.\n",
            "  \"of iterations.\", ConvergenceWarning)\n"
          ],
          "name": "stderr"
        },
        {
          "output_type": "execute_result",
          "data": {
            "text/plain": [
              "0.34418113942541795"
            ]
          },
          "metadata": {
            "tags": []
          },
          "execution_count": 386
        }
      ]
    },
    {
      "metadata": {
        "colab_type": "text",
        "id": "tPgszBntDbyb"
      },
      "cell_type": "markdown",
      "source": [
        ""
      ]
    },
    {
      "metadata": {
        "id": "jFGLyedNViMd",
        "colab_type": "code",
        "colab": {}
      },
      "cell_type": "code",
      "source": [
        ""
      ],
      "execution_count": 0,
      "outputs": []
    },
    {
      "metadata": {
        "id": "kQUVlUKQMPPW",
        "colab_type": "text"
      },
      "cell_type": "markdown",
      "source": [
        "This is the biggest data you've played with so far, and while it does generally fit in Colab, it can take awhile to run. That's part of the challenge!\n",
        "\n",
        "Your tasks:\n",
        "- Clean up the variable names in the dataframe\n",
        "- Use logistic regression to fit a model predicting (primary/top) genre\n",
        "- Inspect, iterate, and improve your model\n",
        "- Answer the following questions (written, ~paragraph each):\n",
        "  - What are the best predictors of genre?\n",
        "  - What information isn't very useful for predicting genre?\n",
        "  - What surprised you the most about your results?\n",
        "\n",
        "*Important caveats*:\n",
        "- This is going to be difficult data to work with - don't let the perfect be the enemy of the good!\n",
        "- Be creative in cleaning it up - if the best way you know how to do it is download it locally and edit as a spreadsheet, that's OK!\n",
        "- If the data size becomes problematic, consider sampling/subsetting\n",
        "- You do not need perfect or complete results - just something plausible that runs, and that supports the reasoning in your written answers\n",
        "\n",
        "If you find that fitting a model to classify *all* genres isn't very good, it's totally OK to limit to the most frequent genres, or perhaps trying to combine or cluster genres as a preprocessing step. Even then, there will be limits to how good a model can be with just this metadata - if you really want to train an effective genre classifier, you'll have to involve the other data (see stretch goals).\n",
        "\n",
        "This is real data - there is no \"one correct answer\", so you can take this in a variety of directions. Just make sure to support your findings, and feel free to share them as well! This is meant to be practice for dealing with other \"messy\" data, a common task in data science."
      ]
    },
    {
      "metadata": {
        "id": "wlI5OXfSag9C",
        "colab_type": "text"
      },
      "cell_type": "markdown",
      "source": [
        "## Resources and stretch goals\n",
        "\n",
        "- Check out the other .csv files from the FMA dataset, and see if you can join them or otherwise fit interesting models with them\n",
        "- [Logistic regression from scratch in numpy](https://blog.goodaudience.com/logistic-regression-from-scratch-in-numpy-5841c09e425f) - if you want to dig in a bit more to both the code and math (also takes a gradient descent approach, introducing the logistic loss function)\n",
        "- Create a visualization to show predictions of your model - ideally show a confidence interval based on error!\n",
        "- Check out and compare classification models from scikit-learn, such as [SVM](https://scikit-learn.org/stable/modules/svm.html#classification), [decision trees](https://scikit-learn.org/stable/modules/tree.html#classification), and [naive Bayes](https://scikit-learn.org/stable/modules/naive_bayes.html). The underlying math will vary significantly, but the API (how you write the code) and interpretation will actually be fairly similar.\n",
        "- Sign up for [Kaggle](https://kaggle.com), and find a competition to try logistic regression with\n",
        "- (Not logistic regression related) If you enjoyed the assignment, you may want to read up on [music informatics](https://en.wikipedia.org/wiki/Music_informatics), which is how those audio features were actually calculated. The FMA includes the actual raw audio, so (while this is more of a longterm project than a stretch goal, and won't fit in Colab) if you'd like you can check those out and see what sort of deeper analysis you can do."
      ]
    }
  ]
}