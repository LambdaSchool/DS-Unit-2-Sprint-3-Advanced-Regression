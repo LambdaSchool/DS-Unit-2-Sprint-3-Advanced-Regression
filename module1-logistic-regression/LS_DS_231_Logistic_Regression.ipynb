{
  "nbformat": 4,
  "nbformat_minor": 0,
  "metadata": {
    "colab": {
      "name": "LS_DS_231_Logistic_Regression.ipynb",
      "version": "0.3.2",
      "provenance": [],
      "toc_visible": true,
      "include_colab_link": true
    },
    "kernelspec": {
      "display_name": "Python 3",
      "language": "python",
      "name": "python3"
    }
  },
  "cells": [
    {
      "cell_type": "markdown",
      "metadata": {
        "id": "view-in-github",
        "colab_type": "text"
      },
      "source": [
        "<a href=\"https://colab.research.google.com/github/samirgadkari/DS-Unit-2-Sprint-3-Advanced-Regression/blob/master/module1-logistic-regression/LS_DS_231_Logistic_Regression.ipynb\" target=\"_parent\"><img src=\"https://colab.research.google.com/assets/colab-badge.svg\" alt=\"Open In Colab\"/></a>"
      ]
    },
    {
      "metadata": {
        "colab_type": "text",
        "id": "N7SXF6jEBd5_"
      },
      "cell_type": "markdown",
      "source": [
        "# Lambda School Data Science - Logistic Regression\n",
        "\n",
        "Logistic regression is the baseline for classification models, as well as a handy way to predict probabilities (since those too live in the unit interval). While relatively simple, it is also the foundation for more sophisticated classification techniques such as neural networks (many of which can effectively be thought of as networks of logistic models)."
      ]
    },
    {
      "metadata": {
        "colab_type": "text",
        "id": "E7-AOngjadRN"
      },
      "cell_type": "markdown",
      "source": [
        "## Lecture - Where Linear goes Wrong\n",
        "### Return of the Titanic 🚢\n",
        "\n",
        "You've likely already explored the rich dataset that is the Titanic - let's use regression and try to predict survival with it. The data is [available from Kaggle](https://www.kaggle.com/c/titanic/data), so we'll also play a bit with [the Kaggle API](https://github.com/Kaggle/kaggle-api)."
      ]
    },
    {
      "metadata": {
        "colab_type": "code",
        "id": "MnHLWPYDcyIe",
        "outputId": "8af8dc17-58d2-4346-c326-53a9d7b6e082",
        "colab": {
          "base_uri": "https://localhost:8080/",
          "height": 224
        }
      },
      "cell_type": "code",
      "source": [
        "!pip install kaggle"
      ],
      "execution_count": 1,
      "outputs": [
        {
          "output_type": "stream",
          "text": [
            "Requirement already satisfied: kaggle in /usr/local/lib/python3.6/dist-packages (1.5.1.1)\n",
            "Requirement already satisfied: urllib3<1.23.0,>=1.15 in /usr/local/lib/python3.6/dist-packages (from kaggle) (1.22)\n",
            "Requirement already satisfied: six>=1.10 in /usr/local/lib/python3.6/dist-packages (from kaggle) (1.11.0)\n",
            "Requirement already satisfied: certifi in /usr/local/lib/python3.6/dist-packages (from kaggle) (2018.11.29)\n",
            "Requirement already satisfied: python-dateutil in /usr/local/lib/python3.6/dist-packages (from kaggle) (2.5.3)\n",
            "Requirement already satisfied: requests in /usr/local/lib/python3.6/dist-packages (from kaggle) (2.18.4)\n",
            "Requirement already satisfied: tqdm in /usr/local/lib/python3.6/dist-packages (from kaggle) (4.28.1)\n",
            "Requirement already satisfied: python-slugify in /usr/local/lib/python3.6/dist-packages (from kaggle) (2.0.1)\n",
            "Requirement already satisfied: chardet<3.1.0,>=3.0.2 in /usr/local/lib/python3.6/dist-packages (from requests->kaggle) (3.0.4)\n",
            "Requirement already satisfied: idna<2.7,>=2.5 in /usr/local/lib/python3.6/dist-packages (from requests->kaggle) (2.6)\n",
            "Requirement already satisfied: Unidecode>=0.04.16 in /usr/local/lib/python3.6/dist-packages (from python-slugify->kaggle) (1.0.23)\n"
          ],
          "name": "stdout"
        }
      ]
    },
    {
      "metadata": {
        "colab_type": "code",
        "id": "wPgce-jQc5zi",
        "outputId": "a938db75-7d43-411a-f593-ba794b7f9a99",
        "colab": {
          "base_uri": "https://localhost:8080/",
          "height": 224
        }
      },
      "cell_type": "code",
      "source": [
        "# Note - you'll also have to sign up for Kaggle and authorize the API\n",
        "# https://github.com/Kaggle/kaggle-api#api-credentials\n",
        "\n",
        "# This essentially means uploading a kaggle.json file\n",
        "# For Colab we can have it in Google Drive\n",
        "from google.colab import drive\n",
        "drive.mount('/content/drive')\n",
        "%env KAGGLE_CONFIG_DIR=/content/drive/My Drive/\n",
        "\n",
        "# You also have to join the Titanic competition to have access to the data\n",
        "!kaggle competitions download -c titanic"
      ],
      "execution_count": 3,
      "outputs": [
        {
          "output_type": "stream",
          "text": [
            "Drive already mounted at /content/drive; to attempt to forcibly remount, call drive.mount(\"/content/drive\", force_remount=True).\n",
            "env: KAGGLE_CONFIG_DIR=/content/drive/My Drive/\n",
            "Downloading train.csv to /content\n",
            "  0% 0.00/59.8k [00:00<?, ?B/s]\n",
            "100% 59.8k/59.8k [00:00<00:00, 50.1MB/s]\n",
            "Downloading test.csv to /content\n",
            "  0% 0.00/28.0k [00:00<?, ?B/s]\n",
            "100% 28.0k/28.0k [00:00<00:00, 28.8MB/s]\n",
            "Downloading gender_submission.csv to /content\n",
            "  0% 0.00/3.18k [00:00<?, ?B/s]\n",
            "100% 3.18k/3.18k [00:00<00:00, 3.33MB/s]\n"
          ],
          "name": "stdout"
        }
      ]
    },
    {
      "metadata": {
        "colab_type": "code",
        "id": "-PtztP8YlFym",
        "colab": {
          "base_uri": "https://localhost:8080/",
          "height": 255
        },
        "outputId": "a916f14f-4f7a-41d1-cfaf-eda4ff1a58f9"
      },
      "cell_type": "code",
      "source": [
        "# How would we try to do this with linear regression?\n",
        "import pandas as pd\n",
        "\n",
        "train_df = pd.read_csv('train.csv').dropna()\n",
        "test_df = pd.read_csv('test.csv').dropna()  # Unlabeled, for Kaggle submission\n",
        "\n",
        "train_df.head()"
      ],
      "execution_count": 4,
      "outputs": [
        {
          "output_type": "execute_result",
          "data": {
            "text/html": [
              "<div>\n",
              "<style scoped>\n",
              "    .dataframe tbody tr th:only-of-type {\n",
              "        vertical-align: middle;\n",
              "    }\n",
              "\n",
              "    .dataframe tbody tr th {\n",
              "        vertical-align: top;\n",
              "    }\n",
              "\n",
              "    .dataframe thead th {\n",
              "        text-align: right;\n",
              "    }\n",
              "</style>\n",
              "<table border=\"1\" class=\"dataframe\">\n",
              "  <thead>\n",
              "    <tr style=\"text-align: right;\">\n",
              "      <th></th>\n",
              "      <th>PassengerId</th>\n",
              "      <th>Survived</th>\n",
              "      <th>Pclass</th>\n",
              "      <th>Name</th>\n",
              "      <th>Sex</th>\n",
              "      <th>Age</th>\n",
              "      <th>SibSp</th>\n",
              "      <th>Parch</th>\n",
              "      <th>Ticket</th>\n",
              "      <th>Fare</th>\n",
              "      <th>Cabin</th>\n",
              "      <th>Embarked</th>\n",
              "    </tr>\n",
              "  </thead>\n",
              "  <tbody>\n",
              "    <tr>\n",
              "      <th>1</th>\n",
              "      <td>2</td>\n",
              "      <td>1</td>\n",
              "      <td>1</td>\n",
              "      <td>Cumings, Mrs. John Bradley (Florence Briggs Th...</td>\n",
              "      <td>female</td>\n",
              "      <td>38.0</td>\n",
              "      <td>1</td>\n",
              "      <td>0</td>\n",
              "      <td>PC 17599</td>\n",
              "      <td>71.2833</td>\n",
              "      <td>C85</td>\n",
              "      <td>C</td>\n",
              "    </tr>\n",
              "    <tr>\n",
              "      <th>3</th>\n",
              "      <td>4</td>\n",
              "      <td>1</td>\n",
              "      <td>1</td>\n",
              "      <td>Futrelle, Mrs. Jacques Heath (Lily May Peel)</td>\n",
              "      <td>female</td>\n",
              "      <td>35.0</td>\n",
              "      <td>1</td>\n",
              "      <td>0</td>\n",
              "      <td>113803</td>\n",
              "      <td>53.1000</td>\n",
              "      <td>C123</td>\n",
              "      <td>S</td>\n",
              "    </tr>\n",
              "    <tr>\n",
              "      <th>6</th>\n",
              "      <td>7</td>\n",
              "      <td>0</td>\n",
              "      <td>1</td>\n",
              "      <td>McCarthy, Mr. Timothy J</td>\n",
              "      <td>male</td>\n",
              "      <td>54.0</td>\n",
              "      <td>0</td>\n",
              "      <td>0</td>\n",
              "      <td>17463</td>\n",
              "      <td>51.8625</td>\n",
              "      <td>E46</td>\n",
              "      <td>S</td>\n",
              "    </tr>\n",
              "    <tr>\n",
              "      <th>10</th>\n",
              "      <td>11</td>\n",
              "      <td>1</td>\n",
              "      <td>3</td>\n",
              "      <td>Sandstrom, Miss. Marguerite Rut</td>\n",
              "      <td>female</td>\n",
              "      <td>4.0</td>\n",
              "      <td>1</td>\n",
              "      <td>1</td>\n",
              "      <td>PP 9549</td>\n",
              "      <td>16.7000</td>\n",
              "      <td>G6</td>\n",
              "      <td>S</td>\n",
              "    </tr>\n",
              "    <tr>\n",
              "      <th>11</th>\n",
              "      <td>12</td>\n",
              "      <td>1</td>\n",
              "      <td>1</td>\n",
              "      <td>Bonnell, Miss. Elizabeth</td>\n",
              "      <td>female</td>\n",
              "      <td>58.0</td>\n",
              "      <td>0</td>\n",
              "      <td>0</td>\n",
              "      <td>113783</td>\n",
              "      <td>26.5500</td>\n",
              "      <td>C103</td>\n",
              "      <td>S</td>\n",
              "    </tr>\n",
              "  </tbody>\n",
              "</table>\n",
              "</div>"
            ],
            "text/plain": [
              "    PassengerId  Survived  Pclass  \\\n",
              "1             2         1       1   \n",
              "3             4         1       1   \n",
              "6             7         0       1   \n",
              "10           11         1       3   \n",
              "11           12         1       1   \n",
              "\n",
              "                                                 Name     Sex   Age  SibSp  \\\n",
              "1   Cumings, Mrs. John Bradley (Florence Briggs Th...  female  38.0      1   \n",
              "3        Futrelle, Mrs. Jacques Heath (Lily May Peel)  female  35.0      1   \n",
              "6                             McCarthy, Mr. Timothy J    male  54.0      0   \n",
              "10                    Sandstrom, Miss. Marguerite Rut  female   4.0      1   \n",
              "11                           Bonnell, Miss. Elizabeth  female  58.0      0   \n",
              "\n",
              "    Parch    Ticket     Fare Cabin Embarked  \n",
              "1       0  PC 17599  71.2833   C85        C  \n",
              "3       0    113803  53.1000  C123        S  \n",
              "6       0     17463  51.8625   E46        S  \n",
              "10      1   PP 9549  16.7000    G6        S  \n",
              "11      0    113783  26.5500  C103        S  "
            ]
          },
          "metadata": {
            "tags": []
          },
          "execution_count": 4
        }
      ]
    },
    {
      "metadata": {
        "colab_type": "code",
        "id": "Ey2ZHrGW_n_t",
        "colab": {
          "base_uri": "https://localhost:8080/",
          "height": 297
        },
        "outputId": "aa9e87eb-939f-47a4-adc8-f7fb108cb3a8"
      },
      "cell_type": "code",
      "source": [
        "train_df.describe()"
      ],
      "execution_count": 5,
      "outputs": [
        {
          "output_type": "execute_result",
          "data": {
            "text/html": [
              "<div>\n",
              "<style scoped>\n",
              "    .dataframe tbody tr th:only-of-type {\n",
              "        vertical-align: middle;\n",
              "    }\n",
              "\n",
              "    .dataframe tbody tr th {\n",
              "        vertical-align: top;\n",
              "    }\n",
              "\n",
              "    .dataframe thead th {\n",
              "        text-align: right;\n",
              "    }\n",
              "</style>\n",
              "<table border=\"1\" class=\"dataframe\">\n",
              "  <thead>\n",
              "    <tr style=\"text-align: right;\">\n",
              "      <th></th>\n",
              "      <th>PassengerId</th>\n",
              "      <th>Survived</th>\n",
              "      <th>Pclass</th>\n",
              "      <th>Age</th>\n",
              "      <th>SibSp</th>\n",
              "      <th>Parch</th>\n",
              "      <th>Fare</th>\n",
              "    </tr>\n",
              "  </thead>\n",
              "  <tbody>\n",
              "    <tr>\n",
              "      <th>count</th>\n",
              "      <td>183.000000</td>\n",
              "      <td>183.000000</td>\n",
              "      <td>183.000000</td>\n",
              "      <td>183.000000</td>\n",
              "      <td>183.000000</td>\n",
              "      <td>183.000000</td>\n",
              "      <td>183.000000</td>\n",
              "    </tr>\n",
              "    <tr>\n",
              "      <th>mean</th>\n",
              "      <td>455.366120</td>\n",
              "      <td>0.672131</td>\n",
              "      <td>1.191257</td>\n",
              "      <td>35.674426</td>\n",
              "      <td>0.464481</td>\n",
              "      <td>0.475410</td>\n",
              "      <td>78.682469</td>\n",
              "    </tr>\n",
              "    <tr>\n",
              "      <th>std</th>\n",
              "      <td>247.052476</td>\n",
              "      <td>0.470725</td>\n",
              "      <td>0.515187</td>\n",
              "      <td>15.643866</td>\n",
              "      <td>0.644159</td>\n",
              "      <td>0.754617</td>\n",
              "      <td>76.347843</td>\n",
              "    </tr>\n",
              "    <tr>\n",
              "      <th>min</th>\n",
              "      <td>2.000000</td>\n",
              "      <td>0.000000</td>\n",
              "      <td>1.000000</td>\n",
              "      <td>0.920000</td>\n",
              "      <td>0.000000</td>\n",
              "      <td>0.000000</td>\n",
              "      <td>0.000000</td>\n",
              "    </tr>\n",
              "    <tr>\n",
              "      <th>25%</th>\n",
              "      <td>263.500000</td>\n",
              "      <td>0.000000</td>\n",
              "      <td>1.000000</td>\n",
              "      <td>24.000000</td>\n",
              "      <td>0.000000</td>\n",
              "      <td>0.000000</td>\n",
              "      <td>29.700000</td>\n",
              "    </tr>\n",
              "    <tr>\n",
              "      <th>50%</th>\n",
              "      <td>457.000000</td>\n",
              "      <td>1.000000</td>\n",
              "      <td>1.000000</td>\n",
              "      <td>36.000000</td>\n",
              "      <td>0.000000</td>\n",
              "      <td>0.000000</td>\n",
              "      <td>57.000000</td>\n",
              "    </tr>\n",
              "    <tr>\n",
              "      <th>75%</th>\n",
              "      <td>676.000000</td>\n",
              "      <td>1.000000</td>\n",
              "      <td>1.000000</td>\n",
              "      <td>47.500000</td>\n",
              "      <td>1.000000</td>\n",
              "      <td>1.000000</td>\n",
              "      <td>90.000000</td>\n",
              "    </tr>\n",
              "    <tr>\n",
              "      <th>max</th>\n",
              "      <td>890.000000</td>\n",
              "      <td>1.000000</td>\n",
              "      <td>3.000000</td>\n",
              "      <td>80.000000</td>\n",
              "      <td>3.000000</td>\n",
              "      <td>4.000000</td>\n",
              "      <td>512.329200</td>\n",
              "    </tr>\n",
              "  </tbody>\n",
              "</table>\n",
              "</div>"
            ],
            "text/plain": [
              "       PassengerId    Survived      Pclass         Age       SibSp  \\\n",
              "count   183.000000  183.000000  183.000000  183.000000  183.000000   \n",
              "mean    455.366120    0.672131    1.191257   35.674426    0.464481   \n",
              "std     247.052476    0.470725    0.515187   15.643866    0.644159   \n",
              "min       2.000000    0.000000    1.000000    0.920000    0.000000   \n",
              "25%     263.500000    0.000000    1.000000   24.000000    0.000000   \n",
              "50%     457.000000    1.000000    1.000000   36.000000    0.000000   \n",
              "75%     676.000000    1.000000    1.000000   47.500000    1.000000   \n",
              "max     890.000000    1.000000    3.000000   80.000000    3.000000   \n",
              "\n",
              "            Parch        Fare  \n",
              "count  183.000000  183.000000  \n",
              "mean     0.475410   78.682469  \n",
              "std      0.754617   76.347843  \n",
              "min      0.000000    0.000000  \n",
              "25%      0.000000   29.700000  \n",
              "50%      0.000000   57.000000  \n",
              "75%      1.000000   90.000000  \n",
              "max      4.000000  512.329200  "
            ]
          },
          "metadata": {
            "tags": []
          },
          "execution_count": 5
        }
      ]
    },
    {
      "metadata": {
        "colab_type": "code",
        "id": "QiZn2p1K8DED",
        "colab": {
          "base_uri": "https://localhost:8080/",
          "height": 34
        },
        "outputId": "4d47adff-05d9-474f-cf9c-3e53e72b0c40"
      },
      "cell_type": "code",
      "source": [
        "from sklearn.linear_model import LinearRegression\n",
        "\n",
        "X = train_df[['Pclass', 'Age', 'Fare']]\n",
        "y = train_df.Survived\n",
        "\n",
        "linear_reg = LinearRegression().fit(X, y)\n",
        "linear_reg.score(X, y)"
      ],
      "execution_count": 6,
      "outputs": [
        {
          "output_type": "execute_result",
          "data": {
            "text/plain": [
              "0.08389810726550917"
            ]
          },
          "metadata": {
            "tags": []
          },
          "execution_count": 6
        }
      ]
    },
    {
      "metadata": {
        "colab_type": "code",
        "id": "8HsBb1hp_cev",
        "colab": {
          "base_uri": "https://localhost:8080/",
          "height": 323
        },
        "outputId": "e248d826-e30d-4748-9f5c-5fc2f63ea9be"
      },
      "cell_type": "code",
      "source": [
        "linear_reg.predict(test_df[['Pclass', 'Age', 'Fare']])"
      ],
      "execution_count": 7,
      "outputs": [
        {
          "output_type": "execute_result",
          "data": {
            "text/plain": [
              "array([0.79543117, 0.58610823, 0.67595121, 0.793829  , 0.62090522,\n",
              "       0.72542107, 0.59848968, 0.58734245, 0.48567063, 0.77627736,\n",
              "       0.84211887, 0.57052439, 0.7754689 , 0.96621114, 0.70287941,\n",
              "       0.57673837, 0.72321391, 0.75894755, 0.77968041, 0.50246003,\n",
              "       0.49858077, 0.7474959 , 0.3542282 , 0.61648435, 0.71300224,\n",
              "       0.66294608, 0.53175333, 0.77397395, 0.68419387, 0.68395536,\n",
              "       0.52041202, 0.56814038, 0.79586606, 0.81372012, 0.61068545,\n",
              "       0.57260627, 0.52525981, 0.58055388, 0.45584728, 0.67976208,\n",
              "       0.8226707 , 0.84286197, 0.96189157, 0.66724612, 0.68589478,\n",
              "       0.61846513, 0.63455044, 0.68275686, 0.65738372, 0.45198998,\n",
              "       0.59988596, 0.63845908, 0.63132487, 0.7888473 , 0.60126246,\n",
              "       0.79714045, 0.78713803, 0.54643775, 0.42823635, 0.7711724 ,\n",
              "       0.53552976, 0.55608044, 0.54480459, 0.57031915, 0.65080369,\n",
              "       0.77958926, 0.6371013 , 0.70993488, 0.71493598, 0.60375943,\n",
              "       0.54407206, 0.48186138, 0.76576089, 0.75456305, 0.53968359,\n",
              "       0.53814461, 0.51431245, 0.80091026, 0.54231482, 0.8260362 ,\n",
              "       0.58660686, 0.77766767, 0.60296337, 0.70098322, 0.63455044,\n",
              "       0.68309915, 0.67573142])"
            ]
          },
          "metadata": {
            "tags": []
          },
          "execution_count": 7
        }
      ]
    },
    {
      "metadata": {
        "colab_type": "code",
        "id": "fcxfpsjdFJwM",
        "colab": {
          "base_uri": "https://localhost:8080/",
          "height": 34
        },
        "outputId": "5ed2b4eb-8b20-4656-aec3-b5820123c0f1"
      },
      "cell_type": "code",
      "source": [
        "linear_reg.coef_"
      ],
      "execution_count": 8,
      "outputs": [
        {
          "output_type": "execute_result",
          "data": {
            "text/plain": [
              "array([-0.08596295, -0.00829314,  0.00048775])"
            ]
          },
          "metadata": {
            "tags": []
          },
          "execution_count": 8
        }
      ]
    },
    {
      "metadata": {
        "colab_type": "code",
        "id": "AFiisZU7_2Fr",
        "colab": {
          "base_uri": "https://localhost:8080/",
          "height": 34
        },
        "outputId": "b5267ce0-700e-4876-c68b-85eb99a09b44"
      },
      "cell_type": "code",
      "source": [
        "import numpy as np\n",
        "\n",
        "test_case = np.array([[1, 5, 500]])  # Rich 5-year old in first class\n",
        "linear_reg.predict(test_case)"
      ],
      "execution_count": 9,
      "outputs": [
        {
          "output_type": "execute_result",
          "data": {
            "text/plain": [
              "array([1.14845883])"
            ]
          },
          "metadata": {
            "tags": []
          },
          "execution_count": 9
        }
      ]
    },
    {
      "metadata": {
        "colab_type": "code",
        "id": "dpUm8Dl-u2aB",
        "colab": {
          "base_uri": "https://localhost:8080/",
          "height": 88
        },
        "outputId": "e01a4cbb-0a12-4187-81c8-5a41e005b286"
      },
      "cell_type": "code",
      "source": [
        "from sklearn.linear_model import LogisticRegression\n",
        "\n",
        "log_reg = LogisticRegression().fit(X, y)\n",
        "log_reg.score(X, y)"
      ],
      "execution_count": 10,
      "outputs": [
        {
          "output_type": "stream",
          "text": [
            "/usr/local/lib/python3.6/dist-packages/sklearn/linear_model/logistic.py:433: FutureWarning: Default solver will be changed to 'lbfgs' in 0.22. Specify a solver to silence this warning.\n",
            "  FutureWarning)\n"
          ],
          "name": "stderr"
        },
        {
          "output_type": "execute_result",
          "data": {
            "text/plain": [
              "0.7103825136612022"
            ]
          },
          "metadata": {
            "tags": []
          },
          "execution_count": 10
        }
      ]
    },
    {
      "metadata": {
        "colab_type": "code",
        "id": "cUhr2c66F_th",
        "colab": {
          "base_uri": "https://localhost:8080/",
          "height": 85
        },
        "outputId": "83af2506-a4e4-4a7a-dbf9-8b9febdcad4f"
      },
      "cell_type": "code",
      "source": [
        "log_reg.predict(test_df[['Pclass', 'Age', 'Fare']])"
      ],
      "execution_count": 11,
      "outputs": [
        {
          "output_type": "execute_result",
          "data": {
            "text/plain": [
              "array([1, 1, 1, 1, 1, 1, 1, 1, 1, 1, 1, 1, 1, 1, 1, 1, 1, 1, 1, 0, 1, 1,\n",
              "       0, 1, 1, 1, 1, 1, 1, 1, 1, 1, 1, 1, 1, 1, 1, 1, 0, 1, 1, 1, 1, 1,\n",
              "       1, 1, 1, 1, 1, 0, 1, 1, 1, 1, 1, 1, 1, 1, 0, 1, 1, 1, 1, 1, 1, 1,\n",
              "       1, 1, 1, 1, 1, 0, 1, 1, 0, 1, 1, 1, 1, 1, 1, 1, 1, 1, 1, 1, 1])"
            ]
          },
          "metadata": {
            "tags": []
          },
          "execution_count": 11
        }
      ]
    },
    {
      "metadata": {
        "colab_type": "code",
        "id": "r7xWwqBrFuWL",
        "colab": {
          "base_uri": "https://localhost:8080/",
          "height": 34
        },
        "outputId": "774782fb-aa4a-45c3-e0aa-f3f5da1d5f1c"
      },
      "cell_type": "code",
      "source": [
        "log_reg.predict(test_case)[0]"
      ],
      "execution_count": 12,
      "outputs": [
        {
          "output_type": "execute_result",
          "data": {
            "text/plain": [
              "1"
            ]
          },
          "metadata": {
            "tags": []
          },
          "execution_count": 12
        }
      ]
    },
    {
      "metadata": {
        "colab_type": "code",
        "id": "IM8g42clF2-6",
        "colab": {
          "base_uri": "https://localhost:8080/",
          "height": 272
        },
        "outputId": "721d7189-2980-44bf-f4c0-88dd0efb8cf2"
      },
      "cell_type": "code",
      "source": [
        "help(log_reg.predict)"
      ],
      "execution_count": 13,
      "outputs": [
        {
          "output_type": "stream",
          "text": [
            "Help on method predict in module sklearn.linear_model.base:\n",
            "\n",
            "predict(X) method of sklearn.linear_model.logistic.LogisticRegression instance\n",
            "    Predict class labels for samples in X.\n",
            "    \n",
            "    Parameters\n",
            "    ----------\n",
            "    X : array_like or sparse matrix, shape (n_samples, n_features)\n",
            "        Samples.\n",
            "    \n",
            "    Returns\n",
            "    -------\n",
            "    C : array, shape [n_samples]\n",
            "        Predicted class label per sample.\n",
            "\n"
          ],
          "name": "stdout"
        }
      ]
    },
    {
      "metadata": {
        "colab_type": "code",
        "id": "flF3pcMHGGWw",
        "colab": {
          "base_uri": "https://localhost:8080/",
          "height": 34
        },
        "outputId": "6a7b02d7-3f98-4473-bfd2-2492aca4f35a"
      },
      "cell_type": "code",
      "source": [
        "log_reg.predict_proba(test_case)[0]"
      ],
      "execution_count": 14,
      "outputs": [
        {
          "output_type": "execute_result",
          "data": {
            "text/plain": [
              "array([0.02485552, 0.97514448])"
            ]
          },
          "metadata": {
            "tags": []
          },
          "execution_count": 14
        }
      ]
    },
    {
      "metadata": {
        "colab_type": "code",
        "id": "9Bq-54noR1uE",
        "colab": {
          "base_uri": "https://localhost:8080/",
          "height": 34
        },
        "outputId": "69d74ed2-d444-4c79-fb21-7e8d8c6e2704"
      },
      "cell_type": "code",
      "source": [
        "# What's the math?\n",
        "log_reg.coef_"
      ],
      "execution_count": 15,
      "outputs": [
        {
          "output_type": "execute_result",
          "data": {
            "text/plain": [
              "array([[-0.0455017 , -0.02912513,  0.0048037 ]])"
            ]
          },
          "metadata": {
            "tags": []
          },
          "execution_count": 15
        }
      ]
    },
    {
      "metadata": {
        "colab_type": "code",
        "id": "Tj0mNL7_XWNV",
        "colab": {
          "base_uri": "https://localhost:8080/",
          "height": 34
        },
        "outputId": "879f0d9d-a0c1-447c-db31-cb71a91cd774"
      },
      "cell_type": "code",
      "source": [
        "log_reg.intercept_"
      ],
      "execution_count": 16,
      "outputs": [
        {
          "output_type": "execute_result",
          "data": {
            "text/plain": [
              "array([1.45878264])"
            ]
          },
          "metadata": {
            "tags": []
          },
          "execution_count": 16
        }
      ]
    },
    {
      "metadata": {
        "colab_type": "code",
        "id": "AroeYscqR75f",
        "colab": {}
      },
      "cell_type": "code",
      "source": [
        "# The logistic sigmoid \"squishing\" function, implemented to accept numpy arrays\n",
        "def sigmoid(x):\n",
        "  return 1 / (1 + np.e**(-x))"
      ],
      "execution_count": 0,
      "outputs": []
    },
    {
      "metadata": {
        "colab_type": "code",
        "id": "804BA7s0SggQ",
        "colab": {
          "base_uri": "https://localhost:8080/",
          "height": 34
        },
        "outputId": "f90d6f7f-2348-40c4-9384-c7f77e89caba"
      },
      "cell_type": "code",
      "source": [
        "sigmoid(log_reg.intercept_ + np.dot(log_reg.coef_, np.transpose(test_case)))"
      ],
      "execution_count": 18,
      "outputs": [
        {
          "output_type": "execute_result",
          "data": {
            "text/plain": [
              "array([[0.97514448]])"
            ]
          },
          "metadata": {
            "tags": []
          },
          "execution_count": 18
        }
      ]
    },
    {
      "metadata": {
        "colab_type": "text",
        "id": "uBSGY-R-Hf_b"
      },
      "cell_type": "markdown",
      "source": [
        "So, clearly a more appropriate model in this situation! For more on the math, [see this Wikipedia example](https://en.wikipedia.org/wiki/Logistic_regression#Probability_of_passing_an_exam_versus_hours_of_study).\n",
        "\n",
        "For live - let's tackle [another classification dataset on absenteeism](http://archive.ics.uci.edu/ml/datasets/Absenteeism+at+work) - it has 21 classes, but remember, scikit-learn LogisticRegression automatically handles more than two classes. How? By essentially treating each label as different (1) from some base class (0)."
      ]
    },
    {
      "metadata": {
        "colab_type": "code",
        "id": "qyDBpCM0G7Hv",
        "colab": {}
      },
      "cell_type": "code",
      "source": [
        "# Live - let's try absenteeism!"
      ],
      "execution_count": 0,
      "outputs": []
    },
    {
      "metadata": {
        "colab_type": "text",
        "id": "iblW74C8afuR"
      },
      "cell_type": "markdown",
      "source": [
        "## Assignment - real-world classification\n",
        "\n",
        "We're going to check out a larger dataset - the [FMA Free Music Archive data](https://github.com/mdeff/fma). It has a selection of CSVs with metadata and calculated audio features that you can load and try to use to classify genre of tracks. To get you started:"
      ]
    },
    {
      "metadata": {
        "id": "90y82dCiSpcX",
        "colab_type": "code",
        "outputId": "1c5b9744-69f7-4583-f22b-f30ab550e48a",
        "colab": {
          "base_uri": "https://localhost:8080/",
          "height": 462
        }
      },
      "cell_type": "code",
      "source": [
        "!pip install -U seaborn\n",
        "!pip install -U scikit-learn"
      ],
      "execution_count": 20,
      "outputs": [
        {
          "output_type": "stream",
          "text": [
            "Collecting seaborn\n",
            "\u001b[?25l  Downloading https://files.pythonhosted.org/packages/a8/76/220ba4420459d9c4c9c9587c6ce607bf56c25b3d3d2de62056efe482dadc/seaborn-0.9.0-py3-none-any.whl (208kB)\n",
            "\u001b[K    100% |████████████████████████████████| 215kB 3.8MB/s \n",
            "\u001b[?25hRequirement already satisfied, skipping upgrade: pandas>=0.15.2 in /usr/local/lib/python3.6/dist-packages (from seaborn) (0.22.0)\n",
            "Requirement already satisfied, skipping upgrade: numpy>=1.9.3 in /usr/local/lib/python3.6/dist-packages (from seaborn) (1.14.6)\n",
            "Requirement already satisfied, skipping upgrade: scipy>=0.14.0 in /usr/local/lib/python3.6/dist-packages (from seaborn) (1.1.0)\n",
            "Requirement already satisfied, skipping upgrade: matplotlib>=1.4.3 in /usr/local/lib/python3.6/dist-packages (from seaborn) (3.0.2)\n",
            "Requirement already satisfied, skipping upgrade: pytz>=2011k in /usr/local/lib/python3.6/dist-packages (from pandas>=0.15.2->seaborn) (2018.9)\n",
            "Requirement already satisfied, skipping upgrade: python-dateutil>=2 in /usr/local/lib/python3.6/dist-packages (from pandas>=0.15.2->seaborn) (2.5.3)\n",
            "Requirement already satisfied, skipping upgrade: pyparsing!=2.0.4,!=2.1.2,!=2.1.6,>=2.0.1 in /usr/local/lib/python3.6/dist-packages (from matplotlib>=1.4.3->seaborn) (2.3.1)\n",
            "Requirement already satisfied, skipping upgrade: cycler>=0.10 in /usr/local/lib/python3.6/dist-packages (from matplotlib>=1.4.3->seaborn) (0.10.0)\n",
            "Requirement already satisfied, skipping upgrade: kiwisolver>=1.0.1 in /usr/local/lib/python3.6/dist-packages (from matplotlib>=1.4.3->seaborn) (1.0.1)\n",
            "Requirement already satisfied, skipping upgrade: six>=1.5 in /usr/local/lib/python3.6/dist-packages (from python-dateutil>=2->pandas>=0.15.2->seaborn) (1.11.0)\n",
            "Requirement already satisfied, skipping upgrade: setuptools in /usr/local/lib/python3.6/dist-packages (from kiwisolver>=1.0.1->matplotlib>=1.4.3->seaborn) (40.6.3)\n",
            "Installing collected packages: seaborn\n",
            "  Found existing installation: seaborn 0.7.1\n",
            "    Uninstalling seaborn-0.7.1:\n",
            "      Successfully uninstalled seaborn-0.7.1\n",
            "Successfully installed seaborn-0.9.0\n",
            "\u001b[0;31;1mWARNING: The following packages were previously imported in this runtime:\n",
            "  [seaborn]\n",
            "You must restart the runtime in order to use newly installed versions.\u001b[0m\n",
            "Requirement already up-to-date: scikit-learn in /usr/local/lib/python3.6/dist-packages (0.20.2)\n",
            "Requirement already satisfied, skipping upgrade: numpy>=1.8.2 in /usr/local/lib/python3.6/dist-packages (from scikit-learn) (1.14.6)\n",
            "Requirement already satisfied, skipping upgrade: scipy>=0.13.3 in /usr/local/lib/python3.6/dist-packages (from scikit-learn) (1.1.0)\n"
          ],
          "name": "stdout"
        }
      ]
    },
    {
      "metadata": {
        "id": "dGfNw08QSpcZ",
        "colab_type": "code",
        "outputId": "31a2724e-66b0-424d-c938-e23b6bd79a00",
        "colab": {
          "base_uri": "https://localhost:8080/",
          "height": 34
        }
      },
      "cell_type": "code",
      "source": [
        "import pandas as pd\n",
        "import numpy as np\n",
        "import seaborn as sns\n",
        "print(sns.__version__)\n",
        "from sklearn.linear_model import LogisticRegression\n",
        "from sklearn.preprocessing import LabelEncoder, OneHotEncoder"
      ],
      "execution_count": 2,
      "outputs": [
        {
          "output_type": "stream",
          "text": [
            "0.9.0\n"
          ],
          "name": "stdout"
        }
      ]
    },
    {
      "metadata": {
        "colab_type": "code",
        "id": "SsySnuKaKtQf",
        "outputId": "58e11c9d-61c9-4a89-ddf2-2475aa891ca1",
        "colab": {
          "base_uri": "https://localhost:8080/",
          "height": 425
        }
      },
      "cell_type": "code",
      "source": [
        "!wget https://os.unil.cloud.switch.ch/fma/fma_metadata.zip\n",
        "!unzip fma_metadata.zip"
      ],
      "execution_count": 3,
      "outputs": [
        {
          "output_type": "stream",
          "text": [
            "--2019-01-22 06:57:01--  https://os.unil.cloud.switch.ch/fma/fma_metadata.zip\n",
            "Resolving os.unil.cloud.switch.ch (os.unil.cloud.switch.ch)... 86.119.28.13, 2001:620:5ca1:2ff::ce53\n",
            "Connecting to os.unil.cloud.switch.ch (os.unil.cloud.switch.ch)|86.119.28.13|:443... connected.\n",
            "HTTP request sent, awaiting response... 200 OK\n",
            "Length: 358412441 (342M) [application/zip]\n",
            "Saving to: ‘fma_metadata.zip’\n",
            "\n",
            "fma_metadata.zip    100%[===================>] 341.81M  25.9MB/s    in 14s     \n",
            "\n",
            "2019-01-22 06:57:16 (24.5 MB/s) - ‘fma_metadata.zip’ saved [358412441/358412441]\n",
            "\n",
            "Archive:  fma_metadata.zip\n",
            " bunzipping: fma_metadata/README.txt  \n",
            " bunzipping: fma_metadata/checksums  \n",
            " bunzipping: fma_metadata/not_found.pickle  \n",
            " bunzipping: fma_metadata/raw_genres.csv  \n",
            " bunzipping: fma_metadata/raw_albums.csv  \n",
            " bunzipping: fma_metadata/raw_artists.csv  \n",
            " bunzipping: fma_metadata/raw_tracks.csv  \n",
            " bunzipping: fma_metadata/tracks.csv  \n",
            " bunzipping: fma_metadata/genres.csv  \n",
            " bunzipping: fma_metadata/raw_echonest.csv  \n",
            " bunzipping: fma_metadata/echonest.csv  \n",
            " bunzipping: fma_metadata/features.csv  \n"
          ],
          "name": "stdout"
        }
      ]
    },
    {
      "metadata": {
        "id": "q5edgcr3Spcg",
        "colab_type": "code",
        "outputId": "73c0f707-c24a-4669-ed34-db9f393af87a",
        "colab": {
          "base_uri": "https://localhost:8080/",
          "height": 68
        }
      },
      "cell_type": "code",
      "source": [
        "row1 = ',album,album,album,album,album,album,album,album,album,album,album,album,album,artist,artist,artist,artist,artist,artist,artist,artist,artist,artist,artist,artist,artist,artist,artist,artist,artist,set,set,track,track,track,track,track,track,track,track,track,track,track,track,track,track,track,track,track,track,track,track'\n",
        "row2 = ',comments,date_created,date_released,engineer,favorites,id,information,listens,producer,tags,title,tracks,type,active_year_begin,active_year_end,associated_labels,bio,comments,date_created,favorites,id,latitude,location,longitude,members,name,related_projects,tags,website,wikipedia_page,split,subset,bit_rate,comments,composer,date_created,date_recorded,duration,favorites,genre_top,genres,genres_all,information,interest,language_code,license,listens,lyricist,number,publisher,tags,title'\n",
        "row3 = 'track_id,,,,,,,,,,,,,,,,,,,,,,,,,,,,,,,,,,,,,,,,,,,,,,,,,,,,'\n",
        "\n",
        "print('number of commas in row 1:', row1.count(','))\n",
        "print('number of commas in row 2:', row2.count(','))\n",
        "print('number of commas in row 3:', row3.count(','))\n"
      ],
      "execution_count": 4,
      "outputs": [
        {
          "output_type": "stream",
          "text": [
            "number of commas in row 1: 52\n",
            "number of commas in row 2: 52\n",
            "number of commas in row 3: 52\n"
          ],
          "name": "stdout"
        }
      ]
    },
    {
      "metadata": {
        "id": "XBZj_9RHSpcj",
        "colab_type": "code",
        "outputId": "fe946ebf-7fbc-4269-e596-df248a250308",
        "colab": {
          "base_uri": "https://localhost:8080/",
          "height": 207
        }
      },
      "cell_type": "code",
      "source": [
        "!head fma_metadata/tracks.csv"
      ],
      "execution_count": 5,
      "outputs": [
        {
          "output_type": "stream",
          "text": [
            ",album,album,album,album,album,album,album,album,album,album,album,album,album,artist,artist,artist,artist,artist,artist,artist,artist,artist,artist,artist,artist,artist,artist,artist,artist,artist,set,set,track,track,track,track,track,track,track,track,track,track,track,track,track,track,track,track,track,track,track,track\n",
            ",comments,date_created,date_released,engineer,favorites,id,information,listens,producer,tags,title,tracks,type,active_year_begin,active_year_end,associated_labels,bio,comments,date_created,favorites,id,latitude,location,longitude,members,name,related_projects,tags,website,wikipedia_page,split,subset,bit_rate,comments,composer,date_created,date_recorded,duration,favorites,genre_top,genres,genres_all,information,interest,language_code,license,listens,lyricist,number,publisher,tags,title\n",
            "track_id,,,,,,,,,,,,,,,,,,,,,,,,,,,,,,,,,,,,,,,,,,,,,,,,,,,,\n",
            "2,0,2008-11-26 01:44:45,2009-01-05 00:00:00,,4,1,<p></p>,6073,,[],AWOL - A Way Of Life,7,Album,2006-01-01 00:00:00,,,\"<p>A Way Of Life, A Collective of Hip-Hop from NJ...................</p>\",0,2008-11-26 01:42:32,9,1,40.0583238,New Jersey,-74.4056612,\"Sajje Morocco,Brownbum,ZawidaGod,Custodian of Records,Zooberelli the Don,F.A.H,MadSicka,Damien Omenicci..and a van load more...\",AWOL,The list of past projects is 2 long but every1 and every style from Tabby Bonet 2 M.O.P..Azillion Records Flagship trackmaster DJ BrownBum is a beat Wizard.....A-2-Z..illion....(right now working with JerseyBlock Ent),['awol'],http://www.AzillionRecords.blogspot.com,,training,small,256000,0,,2008-11-26 01:48:12,2008-11-26 00:00:00,168,2,Hip-Hop,[21],[21],,4656,en,Attribution-NonCommercial-ShareAlike 3.0 International,1293,,3,,[],Food\n",
            "3,0,2008-11-26 01:44:45,2009-01-05 00:00:00,,4,1,<p></p>,6073,,[],AWOL - A Way Of Life,7,Album,2006-01-01 00:00:00,,,\"<p>A Way Of Life, A Collective of Hip-Hop from NJ...................</p>\",0,2008-11-26 01:42:32,9,1,40.0583238,New Jersey,-74.4056612,\"Sajje Morocco,Brownbum,ZawidaGod,Custodian of Records,Zooberelli the Don,F.A.H,MadSicka,Damien Omenicci..and a van load more...\",AWOL,The list of past projects is 2 long but every1 and every style from Tabby Bonet 2 M.O.P..Azillion Records Flagship trackmaster DJ BrownBum is a beat Wizard.....A-2-Z..illion....(right now working with JerseyBlock Ent),['awol'],http://www.AzillionRecords.blogspot.com,,training,medium,256000,0,,2008-11-26 01:48:14,2008-11-26 00:00:00,237,1,Hip-Hop,[21],[21],,1470,en,Attribution-NonCommercial-ShareAlike 3.0 International,514,,4,,[],Electric Ave\n",
            "5,0,2008-11-26 01:44:45,2009-01-05 00:00:00,,4,1,<p></p>,6073,,[],AWOL - A Way Of Life,7,Album,2006-01-01 00:00:00,,,\"<p>A Way Of Life, A Collective of Hip-Hop from NJ...................</p>\",0,2008-11-26 01:42:32,9,1,40.0583238,New Jersey,-74.4056612,\"Sajje Morocco,Brownbum,ZawidaGod,Custodian of Records,Zooberelli the Don,F.A.H,MadSicka,Damien Omenicci..and a van load more...\",AWOL,The list of past projects is 2 long but every1 and every style from Tabby Bonet 2 M.O.P..Azillion Records Flagship trackmaster DJ BrownBum is a beat Wizard.....A-2-Z..illion....(right now working with JerseyBlock Ent),['awol'],http://www.AzillionRecords.blogspot.com,,training,small,256000,0,,2008-11-26 01:48:20,2008-11-26 00:00:00,206,6,Hip-Hop,[21],[21],,1933,en,Attribution-NonCommercial-ShareAlike 3.0 International,1151,,6,,[],This World\n",
            "10,0,2008-11-26 01:45:08,2008-02-06 00:00:00,,4,6,,47632,,[],Constant Hitmaker,2,Album,,,\"Mexican Summer, Richie Records, Woodsist, Skulltones\",\"<p><span style=\"\"font-family:Verdana, Geneva, Arial;font-size:xx-small;\"\">\"\"Philly's Constant Hitmaker\"\" Kurt Vile plays psychedelic experimental pop infused with a classic, folksy directness. 2008's Gulcher Records release <i>Constant Hitmaker</i> more than lives up to the name. Vile's a consistent live performer who's shared the stage with a range of sonic adventurers and avant pop-stars including Sonic Youth, Big Star, Blues Control, Magik Markers, and Ariel Pink's Haunted Graffiti.</span></p><p><span style=\"\"font-family:Verdana, Geneva, Arial;font-size:xx-small;\"\">After a slew of limited releases on labels like Mexican Summer, Richie Records, Woodsist, and Skulltones,</span><span style=\"\"font-family:Verdana, Geneva, Arial;font-size:xx-small;\"\"> Kurt Vile signed to Matador Records who released his first proper full-length (the Gulcher release was more of a \"\"greatest hits\"\"), <a title=\"\"Childish Prodigy\"\" href=\"\"http://www.matadorrecords.com/store/index.php?catalog_id=387\"\">Childish Prodigy</a>.<br /></span></p>\",3,2008-11-26 01:42:55,74,6,,,,\"Kurt Vile, the Violators\",Kurt Vile,,\"['philly', 'kurt vile']\",http://kurtvile.com,,training,small,192000,0,Kurt Vile,2008-11-25 17:49:06,2008-11-26 00:00:00,161,178,Pop,[10],[10],,54881,en,Attribution-NonCommercial-NoDerivatives (aka Music Sharing) 3.0 International,50135,,1,,[],Freeway\n",
            "20,0,2008-11-26 01:45:05,2009-01-06 00:00:00,,2,4,\"<p> \"\"spiritual songs\"\" from Nicky Cook</p>\",2710,,[],Niris,13,Album,1990-01-01 00:00:00,2011-01-01 00:00:00,,\"<p>Songs written by: Nicky Cook</p>\n",
            "<p>VOCALS, CAJON AND TABLA+ UKELELE</p>\",2,2008-11-26 01:42:52,10,4,51.895927,Colchester England,0.891874,\"Nicky Cook\n",
            "\",Nicky Cook,,\"['instrumentals', 'experimental pop', 'post punk', 'experimental rock', 'soundtracks', 'lo fi', 'nicky', 'impro', 'cook', 'nicky andrews', 'ukelele', 'nicky cook', 'singer songwriter', 'tabla']\",,,training,large,256000,0,,2008-11-26 01:48:56,2008-01-01 00:00:00,311,0,,\"[76, 103]\",\"[17, 10, 76, 103]\",,978,en,Attribution-NonCommercial-NoDerivatives (aka Music Sharing) 3.0 International,361,,3,,[],Spiritual Level\n"
          ],
          "name": "stdout"
        }
      ]
    },
    {
      "metadata": {
        "colab_type": "code",
        "id": "VbUJKyI1LRwD",
        "colab": {}
      },
      "cell_type": "code",
      "source": [
        "tracks = pd.read_csv('fma_metadata/tracks.csv', header = [0, 1, 2])"
      ],
      "execution_count": 0,
      "outputs": []
    },
    {
      "metadata": {
        "colab_type": "code",
        "id": "ut-Zfhp2LjcS",
        "outputId": "fd549fe9-d94b-4b18-bc1a-d7bd7b3af7b2",
        "colab": {
          "base_uri": "https://localhost:8080/",
          "height": 430
        }
      },
      "cell_type": "code",
      "source": [
        "tracks.describe()"
      ],
      "execution_count": 7,
      "outputs": [
        {
          "output_type": "execute_result",
          "data": {
            "text/html": [
              "<div>\n",
              "<style scoped>\n",
              "    .dataframe tbody tr th:only-of-type {\n",
              "        vertical-align: middle;\n",
              "    }\n",
              "\n",
              "    .dataframe tbody tr th {\n",
              "        vertical-align: top;\n",
              "    }\n",
              "\n",
              "    .dataframe thead tr th {\n",
              "        text-align: left;\n",
              "    }\n",
              "</style>\n",
              "<table border=\"1\" class=\"dataframe\">\n",
              "  <thead>\n",
              "    <tr>\n",
              "      <th></th>\n",
              "      <th>Unnamed: 0_level_0</th>\n",
              "      <th colspan=\"5\" halign=\"left\">album</th>\n",
              "      <th colspan=\"5\" halign=\"left\">artist</th>\n",
              "      <th colspan=\"7\" halign=\"left\">track</th>\n",
              "    </tr>\n",
              "    <tr>\n",
              "      <th></th>\n",
              "      <th>Unnamed: 0_level_1</th>\n",
              "      <th>comments</th>\n",
              "      <th>favorites</th>\n",
              "      <th>id</th>\n",
              "      <th>listens</th>\n",
              "      <th>tracks</th>\n",
              "      <th>comments</th>\n",
              "      <th>favorites</th>\n",
              "      <th>id</th>\n",
              "      <th>latitude</th>\n",
              "      <th>longitude</th>\n",
              "      <th>bit_rate</th>\n",
              "      <th>comments</th>\n",
              "      <th>duration</th>\n",
              "      <th>favorites</th>\n",
              "      <th>interest</th>\n",
              "      <th>listens</th>\n",
              "      <th>number</th>\n",
              "    </tr>\n",
              "    <tr>\n",
              "      <th></th>\n",
              "      <th>track_id</th>\n",
              "      <th>Unnamed: 1_level_2</th>\n",
              "      <th>Unnamed: 5_level_2</th>\n",
              "      <th>Unnamed: 6_level_2</th>\n",
              "      <th>Unnamed: 8_level_2</th>\n",
              "      <th>Unnamed: 12_level_2</th>\n",
              "      <th>Unnamed: 18_level_2</th>\n",
              "      <th>Unnamed: 20_level_2</th>\n",
              "      <th>Unnamed: 21_level_2</th>\n",
              "      <th>Unnamed: 22_level_2</th>\n",
              "      <th>Unnamed: 24_level_2</th>\n",
              "      <th>Unnamed: 33_level_2</th>\n",
              "      <th>Unnamed: 34_level_2</th>\n",
              "      <th>Unnamed: 38_level_2</th>\n",
              "      <th>Unnamed: 39_level_2</th>\n",
              "      <th>Unnamed: 44_level_2</th>\n",
              "      <th>Unnamed: 47_level_2</th>\n",
              "      <th>Unnamed: 49_level_2</th>\n",
              "    </tr>\n",
              "  </thead>\n",
              "  <tbody>\n",
              "    <tr>\n",
              "      <th>count</th>\n",
              "      <td>106574.000000</td>\n",
              "      <td>106574.000000</td>\n",
              "      <td>106574.000000</td>\n",
              "      <td>106574.000000</td>\n",
              "      <td>1.065740e+05</td>\n",
              "      <td>106574.000000</td>\n",
              "      <td>106574.000000</td>\n",
              "      <td>106574.000000</td>\n",
              "      <td>106574.000000</td>\n",
              "      <td>44544.000000</td>\n",
              "      <td>44544.000000</td>\n",
              "      <td>106574.000000</td>\n",
              "      <td>106574.000000</td>\n",
              "      <td>106574.000000</td>\n",
              "      <td>106574.000000</td>\n",
              "      <td>1.065740e+05</td>\n",
              "      <td>106574.000000</td>\n",
              "      <td>106574.000000</td>\n",
              "    </tr>\n",
              "    <tr>\n",
              "      <th>mean</th>\n",
              "      <td>79442.637435</td>\n",
              "      <td>0.394946</td>\n",
              "      <td>1.286927</td>\n",
              "      <td>12826.933914</td>\n",
              "      <td>3.212031e+04</td>\n",
              "      <td>19.721452</td>\n",
              "      <td>1.894702</td>\n",
              "      <td>30.041915</td>\n",
              "      <td>12036.770404</td>\n",
              "      <td>39.901626</td>\n",
              "      <td>-38.668642</td>\n",
              "      <td>263274.695048</td>\n",
              "      <td>0.031621</td>\n",
              "      <td>277.849100</td>\n",
              "      <td>3.182521</td>\n",
              "      <td>3.541310e+03</td>\n",
              "      <td>2329.353548</td>\n",
              "      <td>8.260945</td>\n",
              "    </tr>\n",
              "    <tr>\n",
              "      <th>std</th>\n",
              "      <td>44704.398384</td>\n",
              "      <td>2.268915</td>\n",
              "      <td>3.133035</td>\n",
              "      <td>6290.261805</td>\n",
              "      <td>1.478532e+05</td>\n",
              "      <td>39.943673</td>\n",
              "      <td>6.297679</td>\n",
              "      <td>100.511408</td>\n",
              "      <td>6881.420867</td>\n",
              "      <td>18.240860</td>\n",
              "      <td>65.237220</td>\n",
              "      <td>67623.443584</td>\n",
              "      <td>0.321993</td>\n",
              "      <td>305.518553</td>\n",
              "      <td>13.513820</td>\n",
              "      <td>1.901743e+04</td>\n",
              "      <td>8028.070647</td>\n",
              "      <td>15.243271</td>\n",
              "    </tr>\n",
              "    <tr>\n",
              "      <th>min</th>\n",
              "      <td>2.000000</td>\n",
              "      <td>-1.000000</td>\n",
              "      <td>-1.000000</td>\n",
              "      <td>-1.000000</td>\n",
              "      <td>-1.000000e+00</td>\n",
              "      <td>-1.000000</td>\n",
              "      <td>-1.000000</td>\n",
              "      <td>-1.000000</td>\n",
              "      <td>1.000000</td>\n",
              "      <td>-45.878760</td>\n",
              "      <td>-157.526855</td>\n",
              "      <td>-1.000000</td>\n",
              "      <td>0.000000</td>\n",
              "      <td>0.000000</td>\n",
              "      <td>0.000000</td>\n",
              "      <td>2.000000e+00</td>\n",
              "      <td>0.000000</td>\n",
              "      <td>0.000000</td>\n",
              "    </tr>\n",
              "    <tr>\n",
              "      <th>25%</th>\n",
              "      <td>40820.250000</td>\n",
              "      <td>0.000000</td>\n",
              "      <td>0.000000</td>\n",
              "      <td>7793.000000</td>\n",
              "      <td>3.361000e+03</td>\n",
              "      <td>7.000000</td>\n",
              "      <td>0.000000</td>\n",
              "      <td>1.000000</td>\n",
              "      <td>6443.000000</td>\n",
              "      <td>39.271398</td>\n",
              "      <td>-79.997459</td>\n",
              "      <td>192000.000000</td>\n",
              "      <td>0.000000</td>\n",
              "      <td>149.000000</td>\n",
              "      <td>0.000000</td>\n",
              "      <td>5.990000e+02</td>\n",
              "      <td>292.000000</td>\n",
              "      <td>2.000000</td>\n",
              "    </tr>\n",
              "    <tr>\n",
              "      <th>50%</th>\n",
              "      <td>78983.500000</td>\n",
              "      <td>0.000000</td>\n",
              "      <td>0.000000</td>\n",
              "      <td>13374.000000</td>\n",
              "      <td>8.982000e+03</td>\n",
              "      <td>11.000000</td>\n",
              "      <td>0.000000</td>\n",
              "      <td>5.000000</td>\n",
              "      <td>12029.500000</td>\n",
              "      <td>41.387917</td>\n",
              "      <td>-73.554431</td>\n",
              "      <td>299914.000000</td>\n",
              "      <td>0.000000</td>\n",
              "      <td>216.000000</td>\n",
              "      <td>1.000000</td>\n",
              "      <td>1.314000e+03</td>\n",
              "      <td>764.000000</td>\n",
              "      <td>5.000000</td>\n",
              "    </tr>\n",
              "    <tr>\n",
              "      <th>75%</th>\n",
              "      <td>119422.750000</td>\n",
              "      <td>0.000000</td>\n",
              "      <td>1.000000</td>\n",
              "      <td>18203.000000</td>\n",
              "      <td>2.363500e+04</td>\n",
              "      <td>17.000000</td>\n",
              "      <td>1.000000</td>\n",
              "      <td>16.000000</td>\n",
              "      <td>18011.000000</td>\n",
              "      <td>48.856930</td>\n",
              "      <td>4.351710</td>\n",
              "      <td>320000.000000</td>\n",
              "      <td>0.000000</td>\n",
              "      <td>305.000000</td>\n",
              "      <td>3.000000</td>\n",
              "      <td>3.059000e+03</td>\n",
              "      <td>2018.000000</td>\n",
              "      <td>9.000000</td>\n",
              "    </tr>\n",
              "    <tr>\n",
              "      <th>max</th>\n",
              "      <td>155320.000000</td>\n",
              "      <td>53.000000</td>\n",
              "      <td>61.000000</td>\n",
              "      <td>22940.000000</td>\n",
              "      <td>3.564243e+06</td>\n",
              "      <td>652.000000</td>\n",
              "      <td>79.000000</td>\n",
              "      <td>963.000000</td>\n",
              "      <td>24357.000000</td>\n",
              "      <td>67.286005</td>\n",
              "      <td>175.277000</td>\n",
              "      <td>448000.000000</td>\n",
              "      <td>37.000000</td>\n",
              "      <td>18350.000000</td>\n",
              "      <td>1482.000000</td>\n",
              "      <td>3.293557e+06</td>\n",
              "      <td>543252.000000</td>\n",
              "      <td>255.000000</td>\n",
              "    </tr>\n",
              "  </tbody>\n",
              "</table>\n",
              "</div>"
            ],
            "text/plain": [
              "      Unnamed: 0_level_0              album                     \\\n",
              "      Unnamed: 0_level_1           comments          favorites   \n",
              "                track_id Unnamed: 1_level_2 Unnamed: 5_level_2   \n",
              "count      106574.000000      106574.000000      106574.000000   \n",
              "mean        79442.637435           0.394946           1.286927   \n",
              "std         44704.398384           2.268915           3.133035   \n",
              "min             2.000000          -1.000000          -1.000000   \n",
              "25%         40820.250000           0.000000           0.000000   \n",
              "50%         78983.500000           0.000000           0.000000   \n",
              "75%        119422.750000           0.000000           1.000000   \n",
              "max        155320.000000          53.000000          61.000000   \n",
              "\n",
              "                                                                 \\\n",
              "                      id            listens              tracks   \n",
              "      Unnamed: 6_level_2 Unnamed: 8_level_2 Unnamed: 12_level_2   \n",
              "count      106574.000000       1.065740e+05       106574.000000   \n",
              "mean        12826.933914       3.212031e+04           19.721452   \n",
              "std          6290.261805       1.478532e+05           39.943673   \n",
              "min            -1.000000      -1.000000e+00           -1.000000   \n",
              "25%          7793.000000       3.361000e+03            7.000000   \n",
              "50%         13374.000000       8.982000e+03           11.000000   \n",
              "75%         18203.000000       2.363500e+04           17.000000   \n",
              "max         22940.000000       3.564243e+06          652.000000   \n",
              "\n",
              "                   artist                                          \\\n",
              "                 comments           favorites                  id   \n",
              "      Unnamed: 18_level_2 Unnamed: 20_level_2 Unnamed: 21_level_2   \n",
              "count       106574.000000       106574.000000       106574.000000   \n",
              "mean             1.894702           30.041915        12036.770404   \n",
              "std              6.297679          100.511408         6881.420867   \n",
              "min             -1.000000           -1.000000            1.000000   \n",
              "25%              0.000000            1.000000         6443.000000   \n",
              "50%              0.000000            5.000000        12029.500000   \n",
              "75%              1.000000           16.000000        18011.000000   \n",
              "max             79.000000          963.000000        24357.000000   \n",
              "\n",
              "                                                            track  \\\n",
              "                 latitude           longitude            bit_rate   \n",
              "      Unnamed: 22_level_2 Unnamed: 24_level_2 Unnamed: 33_level_2   \n",
              "count        44544.000000        44544.000000       106574.000000   \n",
              "mean            39.901626          -38.668642       263274.695048   \n",
              "std             18.240860           65.237220        67623.443584   \n",
              "min            -45.878760         -157.526855           -1.000000   \n",
              "25%             39.271398          -79.997459       192000.000000   \n",
              "50%             41.387917          -73.554431       299914.000000   \n",
              "75%             48.856930            4.351710       320000.000000   \n",
              "max             67.286005          175.277000       448000.000000   \n",
              "\n",
              "                                                                   \\\n",
              "                 comments            duration           favorites   \n",
              "      Unnamed: 34_level_2 Unnamed: 38_level_2 Unnamed: 39_level_2   \n",
              "count       106574.000000       106574.000000       106574.000000   \n",
              "mean             0.031621          277.849100            3.182521   \n",
              "std              0.321993          305.518553           13.513820   \n",
              "min              0.000000            0.000000            0.000000   \n",
              "25%              0.000000          149.000000            0.000000   \n",
              "50%              0.000000          216.000000            1.000000   \n",
              "75%              0.000000          305.000000            3.000000   \n",
              "max             37.000000        18350.000000         1482.000000   \n",
              "\n",
              "                                                                   \n",
              "                 interest             listens              number  \n",
              "      Unnamed: 44_level_2 Unnamed: 47_level_2 Unnamed: 49_level_2  \n",
              "count        1.065740e+05       106574.000000       106574.000000  \n",
              "mean         3.541310e+03         2329.353548            8.260945  \n",
              "std          1.901743e+04         8028.070647           15.243271  \n",
              "min          2.000000e+00            0.000000            0.000000  \n",
              "25%          5.990000e+02          292.000000            2.000000  \n",
              "50%          1.314000e+03          764.000000            5.000000  \n",
              "75%          3.059000e+03         2018.000000            9.000000  \n",
              "max          3.293557e+06       543252.000000          255.000000  "
            ]
          },
          "metadata": {
            "tags": []
          },
          "execution_count": 7
        }
      ]
    },
    {
      "metadata": {
        "id": "NfAjyJ_hSpcr",
        "colab_type": "code",
        "colab": {}
      },
      "cell_type": "code",
      "source": [
        "col_titles = []\n",
        "for titles in tracks.columns.values:\n",
        "    ts = list(titles)\n",
        "    result = ''\n",
        "    for t in ts:\n",
        "        if not t.startswith('Unnamed'):\n",
        "            result += t + ' '\n",
        "    col_titles.append(result.strip())\n",
        "    \n",
        "tracks.columns = col_titles"
      ],
      "execution_count": 0,
      "outputs": []
    },
    {
      "metadata": {
        "colab_type": "code",
        "id": "_qzn-IjIM1Pw",
        "outputId": "ab433fde-bd82-4b2e-eaab-da63ac2c8411",
        "colab": {
          "base_uri": "https://localhost:8080/",
          "height": 496
        }
      },
      "cell_type": "code",
      "source": [
        "pd.set_option('display.max_columns', None)  # Unlimited columns\n",
        "tracks.head()"
      ],
      "execution_count": 9,
      "outputs": [
        {
          "output_type": "execute_result",
          "data": {
            "text/html": [
              "<div>\n",
              "<style scoped>\n",
              "    .dataframe tbody tr th:only-of-type {\n",
              "        vertical-align: middle;\n",
              "    }\n",
              "\n",
              "    .dataframe tbody tr th {\n",
              "        vertical-align: top;\n",
              "    }\n",
              "\n",
              "    .dataframe thead th {\n",
              "        text-align: right;\n",
              "    }\n",
              "</style>\n",
              "<table border=\"1\" class=\"dataframe\">\n",
              "  <thead>\n",
              "    <tr style=\"text-align: right;\">\n",
              "      <th></th>\n",
              "      <th>track_id</th>\n",
              "      <th>album comments</th>\n",
              "      <th>album date_created</th>\n",
              "      <th>album date_released</th>\n",
              "      <th>album engineer</th>\n",
              "      <th>album favorites</th>\n",
              "      <th>album id</th>\n",
              "      <th>album information</th>\n",
              "      <th>album listens</th>\n",
              "      <th>album producer</th>\n",
              "      <th>album tags</th>\n",
              "      <th>album title</th>\n",
              "      <th>album tracks</th>\n",
              "      <th>album type</th>\n",
              "      <th>artist active_year_begin</th>\n",
              "      <th>artist active_year_end</th>\n",
              "      <th>artist associated_labels</th>\n",
              "      <th>artist bio</th>\n",
              "      <th>artist comments</th>\n",
              "      <th>artist date_created</th>\n",
              "      <th>artist favorites</th>\n",
              "      <th>artist id</th>\n",
              "      <th>artist latitude</th>\n",
              "      <th>artist location</th>\n",
              "      <th>artist longitude</th>\n",
              "      <th>artist members</th>\n",
              "      <th>artist name</th>\n",
              "      <th>artist related_projects</th>\n",
              "      <th>artist tags</th>\n",
              "      <th>artist website</th>\n",
              "      <th>artist wikipedia_page</th>\n",
              "      <th>set split</th>\n",
              "      <th>set subset</th>\n",
              "      <th>track bit_rate</th>\n",
              "      <th>track comments</th>\n",
              "      <th>track composer</th>\n",
              "      <th>track date_created</th>\n",
              "      <th>track date_recorded</th>\n",
              "      <th>track duration</th>\n",
              "      <th>track favorites</th>\n",
              "      <th>track genre_top</th>\n",
              "      <th>track genres</th>\n",
              "      <th>track genres_all</th>\n",
              "      <th>track information</th>\n",
              "      <th>track interest</th>\n",
              "      <th>track language_code</th>\n",
              "      <th>track license</th>\n",
              "      <th>track listens</th>\n",
              "      <th>track lyricist</th>\n",
              "      <th>track number</th>\n",
              "      <th>track publisher</th>\n",
              "      <th>track tags</th>\n",
              "      <th>track title</th>\n",
              "    </tr>\n",
              "  </thead>\n",
              "  <tbody>\n",
              "    <tr>\n",
              "      <th>0</th>\n",
              "      <td>2</td>\n",
              "      <td>0</td>\n",
              "      <td>2008-11-26 01:44:45</td>\n",
              "      <td>2009-01-05 00:00:00</td>\n",
              "      <td>NaN</td>\n",
              "      <td>4</td>\n",
              "      <td>1</td>\n",
              "      <td>&lt;p&gt;&lt;/p&gt;</td>\n",
              "      <td>6073</td>\n",
              "      <td>NaN</td>\n",
              "      <td>[]</td>\n",
              "      <td>AWOL - A Way Of Life</td>\n",
              "      <td>7</td>\n",
              "      <td>Album</td>\n",
              "      <td>2006-01-01 00:00:00</td>\n",
              "      <td>NaN</td>\n",
              "      <td>NaN</td>\n",
              "      <td>&lt;p&gt;A Way Of Life, A Collective of Hip-Hop from...</td>\n",
              "      <td>0</td>\n",
              "      <td>2008-11-26 01:42:32</td>\n",
              "      <td>9</td>\n",
              "      <td>1</td>\n",
              "      <td>40.058324</td>\n",
              "      <td>New Jersey</td>\n",
              "      <td>-74.405661</td>\n",
              "      <td>Sajje Morocco,Brownbum,ZawidaGod,Custodian of ...</td>\n",
              "      <td>AWOL</td>\n",
              "      <td>The list of past projects is 2 long but every1...</td>\n",
              "      <td>['awol']</td>\n",
              "      <td>http://www.AzillionRecords.blogspot.com</td>\n",
              "      <td>NaN</td>\n",
              "      <td>training</td>\n",
              "      <td>small</td>\n",
              "      <td>256000</td>\n",
              "      <td>0</td>\n",
              "      <td>NaN</td>\n",
              "      <td>2008-11-26 01:48:12</td>\n",
              "      <td>2008-11-26 00:00:00</td>\n",
              "      <td>168</td>\n",
              "      <td>2</td>\n",
              "      <td>Hip-Hop</td>\n",
              "      <td>[21]</td>\n",
              "      <td>[21]</td>\n",
              "      <td>NaN</td>\n",
              "      <td>4656</td>\n",
              "      <td>en</td>\n",
              "      <td>Attribution-NonCommercial-ShareAlike 3.0 Inter...</td>\n",
              "      <td>1293</td>\n",
              "      <td>NaN</td>\n",
              "      <td>3</td>\n",
              "      <td>NaN</td>\n",
              "      <td>[]</td>\n",
              "      <td>Food</td>\n",
              "    </tr>\n",
              "    <tr>\n",
              "      <th>1</th>\n",
              "      <td>3</td>\n",
              "      <td>0</td>\n",
              "      <td>2008-11-26 01:44:45</td>\n",
              "      <td>2009-01-05 00:00:00</td>\n",
              "      <td>NaN</td>\n",
              "      <td>4</td>\n",
              "      <td>1</td>\n",
              "      <td>&lt;p&gt;&lt;/p&gt;</td>\n",
              "      <td>6073</td>\n",
              "      <td>NaN</td>\n",
              "      <td>[]</td>\n",
              "      <td>AWOL - A Way Of Life</td>\n",
              "      <td>7</td>\n",
              "      <td>Album</td>\n",
              "      <td>2006-01-01 00:00:00</td>\n",
              "      <td>NaN</td>\n",
              "      <td>NaN</td>\n",
              "      <td>&lt;p&gt;A Way Of Life, A Collective of Hip-Hop from...</td>\n",
              "      <td>0</td>\n",
              "      <td>2008-11-26 01:42:32</td>\n",
              "      <td>9</td>\n",
              "      <td>1</td>\n",
              "      <td>40.058324</td>\n",
              "      <td>New Jersey</td>\n",
              "      <td>-74.405661</td>\n",
              "      <td>Sajje Morocco,Brownbum,ZawidaGod,Custodian of ...</td>\n",
              "      <td>AWOL</td>\n",
              "      <td>The list of past projects is 2 long but every1...</td>\n",
              "      <td>['awol']</td>\n",
              "      <td>http://www.AzillionRecords.blogspot.com</td>\n",
              "      <td>NaN</td>\n",
              "      <td>training</td>\n",
              "      <td>medium</td>\n",
              "      <td>256000</td>\n",
              "      <td>0</td>\n",
              "      <td>NaN</td>\n",
              "      <td>2008-11-26 01:48:14</td>\n",
              "      <td>2008-11-26 00:00:00</td>\n",
              "      <td>237</td>\n",
              "      <td>1</td>\n",
              "      <td>Hip-Hop</td>\n",
              "      <td>[21]</td>\n",
              "      <td>[21]</td>\n",
              "      <td>NaN</td>\n",
              "      <td>1470</td>\n",
              "      <td>en</td>\n",
              "      <td>Attribution-NonCommercial-ShareAlike 3.0 Inter...</td>\n",
              "      <td>514</td>\n",
              "      <td>NaN</td>\n",
              "      <td>4</td>\n",
              "      <td>NaN</td>\n",
              "      <td>[]</td>\n",
              "      <td>Electric Ave</td>\n",
              "    </tr>\n",
              "    <tr>\n",
              "      <th>2</th>\n",
              "      <td>5</td>\n",
              "      <td>0</td>\n",
              "      <td>2008-11-26 01:44:45</td>\n",
              "      <td>2009-01-05 00:00:00</td>\n",
              "      <td>NaN</td>\n",
              "      <td>4</td>\n",
              "      <td>1</td>\n",
              "      <td>&lt;p&gt;&lt;/p&gt;</td>\n",
              "      <td>6073</td>\n",
              "      <td>NaN</td>\n",
              "      <td>[]</td>\n",
              "      <td>AWOL - A Way Of Life</td>\n",
              "      <td>7</td>\n",
              "      <td>Album</td>\n",
              "      <td>2006-01-01 00:00:00</td>\n",
              "      <td>NaN</td>\n",
              "      <td>NaN</td>\n",
              "      <td>&lt;p&gt;A Way Of Life, A Collective of Hip-Hop from...</td>\n",
              "      <td>0</td>\n",
              "      <td>2008-11-26 01:42:32</td>\n",
              "      <td>9</td>\n",
              "      <td>1</td>\n",
              "      <td>40.058324</td>\n",
              "      <td>New Jersey</td>\n",
              "      <td>-74.405661</td>\n",
              "      <td>Sajje Morocco,Brownbum,ZawidaGod,Custodian of ...</td>\n",
              "      <td>AWOL</td>\n",
              "      <td>The list of past projects is 2 long but every1...</td>\n",
              "      <td>['awol']</td>\n",
              "      <td>http://www.AzillionRecords.blogspot.com</td>\n",
              "      <td>NaN</td>\n",
              "      <td>training</td>\n",
              "      <td>small</td>\n",
              "      <td>256000</td>\n",
              "      <td>0</td>\n",
              "      <td>NaN</td>\n",
              "      <td>2008-11-26 01:48:20</td>\n",
              "      <td>2008-11-26 00:00:00</td>\n",
              "      <td>206</td>\n",
              "      <td>6</td>\n",
              "      <td>Hip-Hop</td>\n",
              "      <td>[21]</td>\n",
              "      <td>[21]</td>\n",
              "      <td>NaN</td>\n",
              "      <td>1933</td>\n",
              "      <td>en</td>\n",
              "      <td>Attribution-NonCommercial-ShareAlike 3.0 Inter...</td>\n",
              "      <td>1151</td>\n",
              "      <td>NaN</td>\n",
              "      <td>6</td>\n",
              "      <td>NaN</td>\n",
              "      <td>[]</td>\n",
              "      <td>This World</td>\n",
              "    </tr>\n",
              "    <tr>\n",
              "      <th>3</th>\n",
              "      <td>10</td>\n",
              "      <td>0</td>\n",
              "      <td>2008-11-26 01:45:08</td>\n",
              "      <td>2008-02-06 00:00:00</td>\n",
              "      <td>NaN</td>\n",
              "      <td>4</td>\n",
              "      <td>6</td>\n",
              "      <td>NaN</td>\n",
              "      <td>47632</td>\n",
              "      <td>NaN</td>\n",
              "      <td>[]</td>\n",
              "      <td>Constant Hitmaker</td>\n",
              "      <td>2</td>\n",
              "      <td>Album</td>\n",
              "      <td>NaN</td>\n",
              "      <td>NaN</td>\n",
              "      <td>Mexican Summer, Richie Records, Woodsist, Skul...</td>\n",
              "      <td>&lt;p&gt;&lt;span style=\"font-family:Verdana, Geneva, A...</td>\n",
              "      <td>3</td>\n",
              "      <td>2008-11-26 01:42:55</td>\n",
              "      <td>74</td>\n",
              "      <td>6</td>\n",
              "      <td>NaN</td>\n",
              "      <td>NaN</td>\n",
              "      <td>NaN</td>\n",
              "      <td>Kurt Vile, the Violators</td>\n",
              "      <td>Kurt Vile</td>\n",
              "      <td>NaN</td>\n",
              "      <td>['philly', 'kurt vile']</td>\n",
              "      <td>http://kurtvile.com</td>\n",
              "      <td>NaN</td>\n",
              "      <td>training</td>\n",
              "      <td>small</td>\n",
              "      <td>192000</td>\n",
              "      <td>0</td>\n",
              "      <td>Kurt Vile</td>\n",
              "      <td>2008-11-25 17:49:06</td>\n",
              "      <td>2008-11-26 00:00:00</td>\n",
              "      <td>161</td>\n",
              "      <td>178</td>\n",
              "      <td>Pop</td>\n",
              "      <td>[10]</td>\n",
              "      <td>[10]</td>\n",
              "      <td>NaN</td>\n",
              "      <td>54881</td>\n",
              "      <td>en</td>\n",
              "      <td>Attribution-NonCommercial-NoDerivatives (aka M...</td>\n",
              "      <td>50135</td>\n",
              "      <td>NaN</td>\n",
              "      <td>1</td>\n",
              "      <td>NaN</td>\n",
              "      <td>[]</td>\n",
              "      <td>Freeway</td>\n",
              "    </tr>\n",
              "    <tr>\n",
              "      <th>4</th>\n",
              "      <td>20</td>\n",
              "      <td>0</td>\n",
              "      <td>2008-11-26 01:45:05</td>\n",
              "      <td>2009-01-06 00:00:00</td>\n",
              "      <td>NaN</td>\n",
              "      <td>2</td>\n",
              "      <td>4</td>\n",
              "      <td>&lt;p&gt; \"spiritual songs\" from Nicky Cook&lt;/p&gt;</td>\n",
              "      <td>2710</td>\n",
              "      <td>NaN</td>\n",
              "      <td>[]</td>\n",
              "      <td>Niris</td>\n",
              "      <td>13</td>\n",
              "      <td>Album</td>\n",
              "      <td>1990-01-01 00:00:00</td>\n",
              "      <td>2011-01-01 00:00:00</td>\n",
              "      <td>NaN</td>\n",
              "      <td>&lt;p&gt;Songs written by: Nicky Cook&lt;/p&gt;\\n&lt;p&gt;VOCALS...</td>\n",
              "      <td>2</td>\n",
              "      <td>2008-11-26 01:42:52</td>\n",
              "      <td>10</td>\n",
              "      <td>4</td>\n",
              "      <td>51.895927</td>\n",
              "      <td>Colchester England</td>\n",
              "      <td>0.891874</td>\n",
              "      <td>Nicky Cook\\n</td>\n",
              "      <td>Nicky Cook</td>\n",
              "      <td>NaN</td>\n",
              "      <td>['instrumentals', 'experimental pop', 'post pu...</td>\n",
              "      <td>NaN</td>\n",
              "      <td>NaN</td>\n",
              "      <td>training</td>\n",
              "      <td>large</td>\n",
              "      <td>256000</td>\n",
              "      <td>0</td>\n",
              "      <td>NaN</td>\n",
              "      <td>2008-11-26 01:48:56</td>\n",
              "      <td>2008-01-01 00:00:00</td>\n",
              "      <td>311</td>\n",
              "      <td>0</td>\n",
              "      <td>NaN</td>\n",
              "      <td>[76, 103]</td>\n",
              "      <td>[17, 10, 76, 103]</td>\n",
              "      <td>NaN</td>\n",
              "      <td>978</td>\n",
              "      <td>en</td>\n",
              "      <td>Attribution-NonCommercial-NoDerivatives (aka M...</td>\n",
              "      <td>361</td>\n",
              "      <td>NaN</td>\n",
              "      <td>3</td>\n",
              "      <td>NaN</td>\n",
              "      <td>[]</td>\n",
              "      <td>Spiritual Level</td>\n",
              "    </tr>\n",
              "  </tbody>\n",
              "</table>\n",
              "</div>"
            ],
            "text/plain": [
              "   track_id  album comments   album date_created  album date_released  \\\n",
              "0         2               0  2008-11-26 01:44:45  2009-01-05 00:00:00   \n",
              "1         3               0  2008-11-26 01:44:45  2009-01-05 00:00:00   \n",
              "2         5               0  2008-11-26 01:44:45  2009-01-05 00:00:00   \n",
              "3        10               0  2008-11-26 01:45:08  2008-02-06 00:00:00   \n",
              "4        20               0  2008-11-26 01:45:05  2009-01-06 00:00:00   \n",
              "\n",
              "  album engineer  album favorites  album id  \\\n",
              "0            NaN                4         1   \n",
              "1            NaN                4         1   \n",
              "2            NaN                4         1   \n",
              "3            NaN                4         6   \n",
              "4            NaN                2         4   \n",
              "\n",
              "                           album information  album listens album producer  \\\n",
              "0                                    <p></p>           6073            NaN   \n",
              "1                                    <p></p>           6073            NaN   \n",
              "2                                    <p></p>           6073            NaN   \n",
              "3                                        NaN          47632            NaN   \n",
              "4  <p> \"spiritual songs\" from Nicky Cook</p>           2710            NaN   \n",
              "\n",
              "  album tags           album title  album tracks album type  \\\n",
              "0         []  AWOL - A Way Of Life             7      Album   \n",
              "1         []  AWOL - A Way Of Life             7      Album   \n",
              "2         []  AWOL - A Way Of Life             7      Album   \n",
              "3         []     Constant Hitmaker             2      Album   \n",
              "4         []                 Niris            13      Album   \n",
              "\n",
              "  artist active_year_begin artist active_year_end  \\\n",
              "0      2006-01-01 00:00:00                    NaN   \n",
              "1      2006-01-01 00:00:00                    NaN   \n",
              "2      2006-01-01 00:00:00                    NaN   \n",
              "3                      NaN                    NaN   \n",
              "4      1990-01-01 00:00:00    2011-01-01 00:00:00   \n",
              "\n",
              "                            artist associated_labels  \\\n",
              "0                                                NaN   \n",
              "1                                                NaN   \n",
              "2                                                NaN   \n",
              "3  Mexican Summer, Richie Records, Woodsist, Skul...   \n",
              "4                                                NaN   \n",
              "\n",
              "                                          artist bio  artist comments  \\\n",
              "0  <p>A Way Of Life, A Collective of Hip-Hop from...                0   \n",
              "1  <p>A Way Of Life, A Collective of Hip-Hop from...                0   \n",
              "2  <p>A Way Of Life, A Collective of Hip-Hop from...                0   \n",
              "3  <p><span style=\"font-family:Verdana, Geneva, A...                3   \n",
              "4  <p>Songs written by: Nicky Cook</p>\\n<p>VOCALS...                2   \n",
              "\n",
              "   artist date_created  artist favorites  artist id  artist latitude  \\\n",
              "0  2008-11-26 01:42:32                 9          1        40.058324   \n",
              "1  2008-11-26 01:42:32                 9          1        40.058324   \n",
              "2  2008-11-26 01:42:32                 9          1        40.058324   \n",
              "3  2008-11-26 01:42:55                74          6              NaN   \n",
              "4  2008-11-26 01:42:52                10          4        51.895927   \n",
              "\n",
              "      artist location  artist longitude  \\\n",
              "0          New Jersey        -74.405661   \n",
              "1          New Jersey        -74.405661   \n",
              "2          New Jersey        -74.405661   \n",
              "3                 NaN               NaN   \n",
              "4  Colchester England          0.891874   \n",
              "\n",
              "                                      artist members artist name  \\\n",
              "0  Sajje Morocco,Brownbum,ZawidaGod,Custodian of ...        AWOL   \n",
              "1  Sajje Morocco,Brownbum,ZawidaGod,Custodian of ...        AWOL   \n",
              "2  Sajje Morocco,Brownbum,ZawidaGod,Custodian of ...        AWOL   \n",
              "3                           Kurt Vile, the Violators   Kurt Vile   \n",
              "4                                       Nicky Cook\\n  Nicky Cook   \n",
              "\n",
              "                             artist related_projects  \\\n",
              "0  The list of past projects is 2 long but every1...   \n",
              "1  The list of past projects is 2 long but every1...   \n",
              "2  The list of past projects is 2 long but every1...   \n",
              "3                                                NaN   \n",
              "4                                                NaN   \n",
              "\n",
              "                                         artist tags  \\\n",
              "0                                           ['awol']   \n",
              "1                                           ['awol']   \n",
              "2                                           ['awol']   \n",
              "3                            ['philly', 'kurt vile']   \n",
              "4  ['instrumentals', 'experimental pop', 'post pu...   \n",
              "\n",
              "                            artist website artist wikipedia_page set split  \\\n",
              "0  http://www.AzillionRecords.blogspot.com                   NaN  training   \n",
              "1  http://www.AzillionRecords.blogspot.com                   NaN  training   \n",
              "2  http://www.AzillionRecords.blogspot.com                   NaN  training   \n",
              "3                      http://kurtvile.com                   NaN  training   \n",
              "4                                      NaN                   NaN  training   \n",
              "\n",
              "  set subset  track bit_rate  track comments track composer  \\\n",
              "0      small          256000               0            NaN   \n",
              "1     medium          256000               0            NaN   \n",
              "2      small          256000               0            NaN   \n",
              "3      small          192000               0      Kurt Vile   \n",
              "4      large          256000               0            NaN   \n",
              "\n",
              "    track date_created  track date_recorded  track duration  track favorites  \\\n",
              "0  2008-11-26 01:48:12  2008-11-26 00:00:00             168                2   \n",
              "1  2008-11-26 01:48:14  2008-11-26 00:00:00             237                1   \n",
              "2  2008-11-26 01:48:20  2008-11-26 00:00:00             206                6   \n",
              "3  2008-11-25 17:49:06  2008-11-26 00:00:00             161              178   \n",
              "4  2008-11-26 01:48:56  2008-01-01 00:00:00             311                0   \n",
              "\n",
              "  track genre_top track genres   track genres_all track information  \\\n",
              "0         Hip-Hop         [21]               [21]               NaN   \n",
              "1         Hip-Hop         [21]               [21]               NaN   \n",
              "2         Hip-Hop         [21]               [21]               NaN   \n",
              "3             Pop         [10]               [10]               NaN   \n",
              "4             NaN    [76, 103]  [17, 10, 76, 103]               NaN   \n",
              "\n",
              "   track interest track language_code  \\\n",
              "0            4656                  en   \n",
              "1            1470                  en   \n",
              "2            1933                  en   \n",
              "3           54881                  en   \n",
              "4             978                  en   \n",
              "\n",
              "                                       track license  track listens  \\\n",
              "0  Attribution-NonCommercial-ShareAlike 3.0 Inter...           1293   \n",
              "1  Attribution-NonCommercial-ShareAlike 3.0 Inter...            514   \n",
              "2  Attribution-NonCommercial-ShareAlike 3.0 Inter...           1151   \n",
              "3  Attribution-NonCommercial-NoDerivatives (aka M...          50135   \n",
              "4  Attribution-NonCommercial-NoDerivatives (aka M...            361   \n",
              "\n",
              "  track lyricist  track number track publisher track tags      track title  \n",
              "0            NaN             3             NaN         []             Food  \n",
              "1            NaN             4             NaN         []     Electric Ave  \n",
              "2            NaN             6             NaN         []       This World  \n",
              "3            NaN             1             NaN         []          Freeway  \n",
              "4            NaN             3             NaN         []  Spiritual Level  "
            ]
          },
          "metadata": {
            "tags": []
          },
          "execution_count": 9
        }
      ]
    },
    {
      "metadata": {
        "colab_type": "code",
        "id": "5DvMPiM8MZeY",
        "outputId": "aa025ea0-1803-4868-c900-ac9cea69cbbc",
        "colab": {
          "base_uri": "https://localhost:8080/",
          "height": 34
        }
      },
      "cell_type": "code",
      "source": [
        "tracks.shape"
      ],
      "execution_count": 10,
      "outputs": [
        {
          "output_type": "execute_result",
          "data": {
            "text/plain": [
              "(106574, 53)"
            ]
          },
          "metadata": {
            "tags": []
          },
          "execution_count": 10
        }
      ]
    },
    {
      "metadata": {
        "colab_type": "text",
        "id": "kQUVlUKQMPPW"
      },
      "cell_type": "markdown",
      "source": [
        "This is the biggest data you've played with so far, and while it does generally fit in Colab, it can take awhile to run. That's part of the challenge!\n",
        "\n",
        "Your tasks:\n",
        "- Clean up the variable names in the dataframe\n",
        "- Use logistic regression to fit a model predicting (primary/top) genre\n",
        "- Inspect, iterate, and improve your model\n",
        "- Answer the following questions (written, ~paragraph each):\n",
        "  - What are the best predictors of genre?\n",
        "  - What information isn't very useful for predicting genre?\n",
        "  - What surprised you the most about your results?\n",
        "\n",
        "*Important caveats*:\n",
        "- This is going to be difficult data to work with - don't let the perfect be the enemy of the good!\n",
        "- Be creative in cleaning it up - if the best way you know how to do it is download it locally and edit as a spreadsheet, that's OK!\n",
        "- If the data size becomes problematic, consider sampling/subsetting\n",
        "- You do not need perfect or complete results - just something plausible that runs, and that supports the reasoning in your written answers\n",
        "\n",
        "If you find that fitting a model to classify *all* genres isn't very good, it's totally OK to limit to the most frequent genres, or perhaps trying to combine or cluster genres as a preprocessing step. Even then, there will be limits to how good a model can be with just this metadata - if you really want to train an effective genre classifier, you'll have to involve the other data (see stretch goals).\n",
        "\n",
        "This is real data - there is no \"one correct answer\", so you can take this in a variety of directions. Just make sure to support your findings, and feel free to share them as well! This is meant to be practice for dealing with other \"messy\" data, a common task in data science."
      ]
    },
    {
      "metadata": {
        "id": "CzVT_3UrSpc4",
        "colab_type": "text"
      },
      "cell_type": "markdown",
      "source": [
        "### Try with the entire dataset"
      ]
    },
    {
      "metadata": {
        "id": "SVqh0z4USpc6",
        "colab_type": "code",
        "outputId": "79326583-3485-4916-f936-d457083375da",
        "colab": {
          "base_uri": "https://localhost:8080/",
          "height": 323
        }
      },
      "cell_type": "code",
      "source": [
        "tracks.columns.to_series().groupby(tracks.dtypes).groups"
      ],
      "execution_count": 11,
      "outputs": [
        {
          "output_type": "execute_result",
          "data": {
            "text/plain": [
              "{dtype('int64'): Index(['track_id', 'album comments', 'album favorites', 'album id',\n",
              "        'album listens', 'album tracks', 'artist comments', 'artist favorites',\n",
              "        'artist id', 'track bit_rate', 'track comments', 'track duration',\n",
              "        'track favorites', 'track interest', 'track listens', 'track number'],\n",
              "       dtype='object'),\n",
              " dtype('float64'): Index(['artist latitude', 'artist longitude'], dtype='object'),\n",
              " dtype('O'): Index(['album date_created', 'album date_released', 'album engineer',\n",
              "        'album information', 'album producer', 'album tags', 'album title',\n",
              "        'album type', 'artist active_year_begin', 'artist active_year_end',\n",
              "        'artist associated_labels', 'artist bio', 'artist date_created',\n",
              "        'artist location', 'artist members', 'artist name',\n",
              "        'artist related_projects', 'artist tags', 'artist website',\n",
              "        'artist wikipedia_page', 'set split', 'set subset', 'track composer',\n",
              "        'track date_created', 'track date_recorded', 'track genre_top',\n",
              "        'track genres', 'track genres_all', 'track information',\n",
              "        'track language_code', 'track license', 'track lyricist',\n",
              "        'track publisher', 'track tags', 'track title'],\n",
              "       dtype='object')}"
            ]
          },
          "metadata": {
            "tags": []
          },
          "execution_count": 11
        }
      ]
    },
    {
      "metadata": {
        "id": "ta63nJWzSpc_",
        "colab_type": "text"
      },
      "cell_type": "markdown",
      "source": [
        "### Clean up the dataset"
      ]
    },
    {
      "metadata": {
        "id": "I_zGdzirSpdA",
        "colab_type": "code",
        "colab": {}
      },
      "cell_type": "code",
      "source": [
        "# We will consider -inf and +inf as na values\n",
        "pd.options.mode.use_inf_as_na = True"
      ],
      "execution_count": 0,
      "outputs": []
    },
    {
      "metadata": {
        "id": "YkDoyZjKSpdC",
        "colab_type": "text"
      },
      "cell_type": "markdown",
      "source": [
        "### Remove rows where 'track genre_top' has null vaues.  Let's see how much data we have left after removal."
      ]
    },
    {
      "metadata": {
        "id": "4DQS4ijMSpdD",
        "colab_type": "code",
        "outputId": "17268ce2-1c0b-4bf5-abfc-05ca40fa858b",
        "colab": {
          "base_uri": "https://localhost:8080/",
          "height": 918
        }
      },
      "cell_type": "code",
      "source": [
        "tracks_clean = tracks[tracks['track genre_top'].notnull()].copy()\n",
        "\n",
        "# Drop track/album IDs since that does not have anything to do with track's top genre\n",
        "tracks_clean.drop(['track_id', 'album id'], axis = 'columns', inplace = True)\n",
        "\n",
        "print('tracks_clean.shape:', tracks_clean.shape)\n",
        "tracks_clean.isnull().sum()"
      ],
      "execution_count": 13,
      "outputs": [
        {
          "output_type": "stream",
          "text": [
            "tracks_clean.shape: (49598, 51)\n"
          ],
          "name": "stdout"
        },
        {
          "output_type": "execute_result",
          "data": {
            "text/plain": [
              "album comments                  0\n",
              "album date_created           1051\n",
              "album date_released         16086\n",
              "album engineer              40687\n",
              "album favorites                 0\n",
              "album information           10154\n",
              "album listens                   0\n",
              "album producer              39372\n",
              "album tags                      0\n",
              "album title                   309\n",
              "album tracks                    0\n",
              "album type                   2047\n",
              "artist active_year_begin    40016\n",
              "artist active_year_end      47200\n",
              "artist associated_labels    43455\n",
              "artist bio                  16194\n",
              "artist comments                 0\n",
              "artist date_created           215\n",
              "artist favorites                0\n",
              "artist id                       0\n",
              "artist latitude             28618\n",
              "artist location             17488\n",
              "artist longitude            28618\n",
              "artist members              27653\n",
              "artist name                     0\n",
              "artist related_projects     44233\n",
              "artist tags                     0\n",
              "artist website              12693\n",
              "artist wikipedia_page       46864\n",
              "set split                       0\n",
              "set subset                      0\n",
              "track bit_rate                  0\n",
              "track comments                  0\n",
              "track composer              48245\n",
              "track date_created              0\n",
              "track date_recorded         45347\n",
              "track duration                  0\n",
              "track favorites                 0\n",
              "track genre_top                 0\n",
              "track genres                    0\n",
              "track genres_all                0\n",
              "track information           48294\n",
              "track interest                  0\n",
              "track language_code         40215\n",
              "track license                  59\n",
              "track listens                   0\n",
              "track lyricist              49498\n",
              "track number                    0\n",
              "track publisher             49188\n",
              "track tags                      0\n",
              "track title                     1\n",
              "dtype: int64"
            ]
          },
          "metadata": {
            "tags": []
          },
          "execution_count": 13
        }
      ]
    },
    {
      "metadata": {
        "id": "1vS-J6aJSpdH",
        "colab_type": "text"
      },
      "cell_type": "markdown",
      "source": [
        "### We have only half of the rows left.  Still around 50000. That's a lot\n",
        "### Let's take all the columns that have 0 nulls. This gives us around half of the features to run Logistic Regression on."
      ]
    },
    {
      "metadata": {
        "id": "ZUmc1zKPSpdH",
        "colab_type": "code",
        "colab": {}
      },
      "cell_type": "code",
      "source": [
        "tracks_clean.dropna(axis = 'columns', inplace = True)"
      ],
      "execution_count": 0,
      "outputs": []
    },
    {
      "metadata": {
        "id": "H9M12KqISpdJ",
        "colab_type": "code",
        "outputId": "aaff4892-9207-4b59-b416-b5786607d41a",
        "colab": {
          "base_uri": "https://localhost:8080/",
          "height": 442
        }
      },
      "cell_type": "code",
      "source": [
        "tracks_clean.isnull().sum()"
      ],
      "execution_count": 15,
      "outputs": [
        {
          "output_type": "execute_result",
          "data": {
            "text/plain": [
              "album comments        0\n",
              "album favorites       0\n",
              "album listens         0\n",
              "album tags            0\n",
              "album tracks          0\n",
              "artist comments       0\n",
              "artist favorites      0\n",
              "artist id             0\n",
              "artist name           0\n",
              "artist tags           0\n",
              "set split             0\n",
              "set subset            0\n",
              "track bit_rate        0\n",
              "track comments        0\n",
              "track date_created    0\n",
              "track duration        0\n",
              "track favorites       0\n",
              "track genre_top       0\n",
              "track genres          0\n",
              "track genres_all      0\n",
              "track interest        0\n",
              "track listens         0\n",
              "track number          0\n",
              "track tags            0\n",
              "dtype: int64"
            ]
          },
          "metadata": {
            "tags": []
          },
          "execution_count": 15
        }
      ]
    },
    {
      "metadata": {
        "id": "gy-yStDMSpdN",
        "colab_type": "text"
      },
      "cell_type": "markdown",
      "source": [
        "### Look at the types of each column"
      ]
    },
    {
      "metadata": {
        "id": "glpqMni5SpdN",
        "colab_type": "code",
        "outputId": "32d43b18-d659-41c0-a111-c746057fd628",
        "colab": {
          "base_uri": "https://localhost:8080/",
          "height": 170
        }
      },
      "cell_type": "code",
      "source": [
        "tracks_clean.columns.to_series().groupby(tracks.dtypes).groups"
      ],
      "execution_count": 16,
      "outputs": [
        {
          "output_type": "execute_result",
          "data": {
            "text/plain": [
              "{dtype('int64'): Index(['album comments', 'album favorites', 'album listens', 'album tracks',\n",
              "        'artist comments', 'artist favorites', 'artist id', 'track bit_rate',\n",
              "        'track comments', 'track duration', 'track favorites', 'track interest',\n",
              "        'track listens', 'track number'],\n",
              "       dtype='object'),\n",
              " dtype('O'): Index(['album tags', 'artist name', 'artist tags', 'set split', 'set subset',\n",
              "        'track date_created', 'track genre_top', 'track genres',\n",
              "        'track genres_all', 'track tags'],\n",
              "       dtype='object')}"
            ]
          },
          "metadata": {
            "tags": []
          },
          "execution_count": 16
        }
      ]
    },
    {
      "metadata": {
        "id": "d3l6RWCJSpdT",
        "colab_type": "code",
        "outputId": "24828bdd-b8a7-4882-d8d2-73024ce49b9a",
        "colab": {
          "base_uri": "https://localhost:8080/",
          "height": 1250
        }
      },
      "cell_type": "code",
      "source": [
        "tracks_clean.head(20)"
      ],
      "execution_count": 17,
      "outputs": [
        {
          "output_type": "execute_result",
          "data": {
            "text/html": [
              "<div>\n",
              "<style scoped>\n",
              "    .dataframe tbody tr th:only-of-type {\n",
              "        vertical-align: middle;\n",
              "    }\n",
              "\n",
              "    .dataframe tbody tr th {\n",
              "        vertical-align: top;\n",
              "    }\n",
              "\n",
              "    .dataframe thead th {\n",
              "        text-align: right;\n",
              "    }\n",
              "</style>\n",
              "<table border=\"1\" class=\"dataframe\">\n",
              "  <thead>\n",
              "    <tr style=\"text-align: right;\">\n",
              "      <th></th>\n",
              "      <th>album comments</th>\n",
              "      <th>album favorites</th>\n",
              "      <th>album listens</th>\n",
              "      <th>album tags</th>\n",
              "      <th>album tracks</th>\n",
              "      <th>artist comments</th>\n",
              "      <th>artist favorites</th>\n",
              "      <th>artist id</th>\n",
              "      <th>artist name</th>\n",
              "      <th>artist tags</th>\n",
              "      <th>set split</th>\n",
              "      <th>set subset</th>\n",
              "      <th>track bit_rate</th>\n",
              "      <th>track comments</th>\n",
              "      <th>track date_created</th>\n",
              "      <th>track duration</th>\n",
              "      <th>track favorites</th>\n",
              "      <th>track genre_top</th>\n",
              "      <th>track genres</th>\n",
              "      <th>track genres_all</th>\n",
              "      <th>track interest</th>\n",
              "      <th>track listens</th>\n",
              "      <th>track number</th>\n",
              "      <th>track tags</th>\n",
              "    </tr>\n",
              "  </thead>\n",
              "  <tbody>\n",
              "    <tr>\n",
              "      <th>0</th>\n",
              "      <td>0</td>\n",
              "      <td>4</td>\n",
              "      <td>6073</td>\n",
              "      <td>[]</td>\n",
              "      <td>7</td>\n",
              "      <td>0</td>\n",
              "      <td>9</td>\n",
              "      <td>1</td>\n",
              "      <td>AWOL</td>\n",
              "      <td>['awol']</td>\n",
              "      <td>training</td>\n",
              "      <td>small</td>\n",
              "      <td>256000</td>\n",
              "      <td>0</td>\n",
              "      <td>2008-11-26 01:48:12</td>\n",
              "      <td>168</td>\n",
              "      <td>2</td>\n",
              "      <td>Hip-Hop</td>\n",
              "      <td>[21]</td>\n",
              "      <td>[21]</td>\n",
              "      <td>4656</td>\n",
              "      <td>1293</td>\n",
              "      <td>3</td>\n",
              "      <td>[]</td>\n",
              "    </tr>\n",
              "    <tr>\n",
              "      <th>1</th>\n",
              "      <td>0</td>\n",
              "      <td>4</td>\n",
              "      <td>6073</td>\n",
              "      <td>[]</td>\n",
              "      <td>7</td>\n",
              "      <td>0</td>\n",
              "      <td>9</td>\n",
              "      <td>1</td>\n",
              "      <td>AWOL</td>\n",
              "      <td>['awol']</td>\n",
              "      <td>training</td>\n",
              "      <td>medium</td>\n",
              "      <td>256000</td>\n",
              "      <td>0</td>\n",
              "      <td>2008-11-26 01:48:14</td>\n",
              "      <td>237</td>\n",
              "      <td>1</td>\n",
              "      <td>Hip-Hop</td>\n",
              "      <td>[21]</td>\n",
              "      <td>[21]</td>\n",
              "      <td>1470</td>\n",
              "      <td>514</td>\n",
              "      <td>4</td>\n",
              "      <td>[]</td>\n",
              "    </tr>\n",
              "    <tr>\n",
              "      <th>2</th>\n",
              "      <td>0</td>\n",
              "      <td>4</td>\n",
              "      <td>6073</td>\n",
              "      <td>[]</td>\n",
              "      <td>7</td>\n",
              "      <td>0</td>\n",
              "      <td>9</td>\n",
              "      <td>1</td>\n",
              "      <td>AWOL</td>\n",
              "      <td>['awol']</td>\n",
              "      <td>training</td>\n",
              "      <td>small</td>\n",
              "      <td>256000</td>\n",
              "      <td>0</td>\n",
              "      <td>2008-11-26 01:48:20</td>\n",
              "      <td>206</td>\n",
              "      <td>6</td>\n",
              "      <td>Hip-Hop</td>\n",
              "      <td>[21]</td>\n",
              "      <td>[21]</td>\n",
              "      <td>1933</td>\n",
              "      <td>1151</td>\n",
              "      <td>6</td>\n",
              "      <td>[]</td>\n",
              "    </tr>\n",
              "    <tr>\n",
              "      <th>3</th>\n",
              "      <td>0</td>\n",
              "      <td>4</td>\n",
              "      <td>47632</td>\n",
              "      <td>[]</td>\n",
              "      <td>2</td>\n",
              "      <td>3</td>\n",
              "      <td>74</td>\n",
              "      <td>6</td>\n",
              "      <td>Kurt Vile</td>\n",
              "      <td>['philly', 'kurt vile']</td>\n",
              "      <td>training</td>\n",
              "      <td>small</td>\n",
              "      <td>192000</td>\n",
              "      <td>0</td>\n",
              "      <td>2008-11-25 17:49:06</td>\n",
              "      <td>161</td>\n",
              "      <td>178</td>\n",
              "      <td>Pop</td>\n",
              "      <td>[10]</td>\n",
              "      <td>[10]</td>\n",
              "      <td>54881</td>\n",
              "      <td>50135</td>\n",
              "      <td>1</td>\n",
              "      <td>[]</td>\n",
              "    </tr>\n",
              "    <tr>\n",
              "      <th>9</th>\n",
              "      <td>0</td>\n",
              "      <td>4</td>\n",
              "      <td>6073</td>\n",
              "      <td>[]</td>\n",
              "      <td>7</td>\n",
              "      <td>0</td>\n",
              "      <td>9</td>\n",
              "      <td>1</td>\n",
              "      <td>AWOL</td>\n",
              "      <td>['awol']</td>\n",
              "      <td>training</td>\n",
              "      <td>medium</td>\n",
              "      <td>256000</td>\n",
              "      <td>0</td>\n",
              "      <td>2008-11-26 01:43:19</td>\n",
              "      <td>207</td>\n",
              "      <td>3</td>\n",
              "      <td>Hip-Hop</td>\n",
              "      <td>[21]</td>\n",
              "      <td>[21]</td>\n",
              "      <td>1126</td>\n",
              "      <td>943</td>\n",
              "      <td>5</td>\n",
              "      <td>[]</td>\n",
              "    </tr>\n",
              "    <tr>\n",
              "      <th>10</th>\n",
              "      <td>1</td>\n",
              "      <td>0</td>\n",
              "      <td>3331</td>\n",
              "      <td>[]</td>\n",
              "      <td>4</td>\n",
              "      <td>1</td>\n",
              "      <td>0</td>\n",
              "      <td>52</td>\n",
              "      <td>Abominog</td>\n",
              "      <td>['abominog']</td>\n",
              "      <td>training</td>\n",
              "      <td>large</td>\n",
              "      <td>256000</td>\n",
              "      <td>1</td>\n",
              "      <td>2008-11-26 01:43:26</td>\n",
              "      <td>837</td>\n",
              "      <td>0</td>\n",
              "      <td>Rock</td>\n",
              "      <td>[45, 58]</td>\n",
              "      <td>[58, 12, 45]</td>\n",
              "      <td>2484</td>\n",
              "      <td>1832</td>\n",
              "      <td>0</td>\n",
              "      <td>[]</td>\n",
              "    </tr>\n",
              "    <tr>\n",
              "      <th>11</th>\n",
              "      <td>1</td>\n",
              "      <td>0</td>\n",
              "      <td>3331</td>\n",
              "      <td>[]</td>\n",
              "      <td>4</td>\n",
              "      <td>1</td>\n",
              "      <td>0</td>\n",
              "      <td>52</td>\n",
              "      <td>Abominog</td>\n",
              "      <td>['abominog']</td>\n",
              "      <td>training</td>\n",
              "      <td>medium</td>\n",
              "      <td>256000</td>\n",
              "      <td>1</td>\n",
              "      <td>2008-11-26 01:43:35</td>\n",
              "      <td>509</td>\n",
              "      <td>0</td>\n",
              "      <td>Rock</td>\n",
              "      <td>[45, 58]</td>\n",
              "      <td>[58, 12, 45]</td>\n",
              "      <td>1948</td>\n",
              "      <td>1498</td>\n",
              "      <td>0</td>\n",
              "      <td>[]</td>\n",
              "    </tr>\n",
              "    <tr>\n",
              "      <th>12</th>\n",
              "      <td>1</td>\n",
              "      <td>2</td>\n",
              "      <td>1681</td>\n",
              "      <td>['lafms']</td>\n",
              "      <td>2</td>\n",
              "      <td>0</td>\n",
              "      <td>5</td>\n",
              "      <td>53</td>\n",
              "      <td>Airway</td>\n",
              "      <td>['airway']</td>\n",
              "      <td>training</td>\n",
              "      <td>large</td>\n",
              "      <td>256000</td>\n",
              "      <td>0</td>\n",
              "      <td>2008-11-26 01:43:42</td>\n",
              "      <td>1233</td>\n",
              "      <td>2</td>\n",
              "      <td>Experimental</td>\n",
              "      <td>[1, 32]</td>\n",
              "      <td>[32, 1, 38]</td>\n",
              "      <td>2559</td>\n",
              "      <td>1278</td>\n",
              "      <td>1</td>\n",
              "      <td>['lafms']</td>\n",
              "    </tr>\n",
              "    <tr>\n",
              "      <th>13</th>\n",
              "      <td>1</td>\n",
              "      <td>2</td>\n",
              "      <td>1681</td>\n",
              "      <td>['lafms']</td>\n",
              "      <td>2</td>\n",
              "      <td>0</td>\n",
              "      <td>5</td>\n",
              "      <td>53</td>\n",
              "      <td>Airway</td>\n",
              "      <td>['airway']</td>\n",
              "      <td>training</td>\n",
              "      <td>large</td>\n",
              "      <td>256000</td>\n",
              "      <td>0</td>\n",
              "      <td>2008-11-26 01:43:56</td>\n",
              "      <td>1231</td>\n",
              "      <td>2</td>\n",
              "      <td>Experimental</td>\n",
              "      <td>[1, 32]</td>\n",
              "      <td>[32, 1, 38]</td>\n",
              "      <td>1909</td>\n",
              "      <td>489</td>\n",
              "      <td>2</td>\n",
              "      <td>['lafms']</td>\n",
              "    </tr>\n",
              "    <tr>\n",
              "      <th>14</th>\n",
              "      <td>0</td>\n",
              "      <td>1</td>\n",
              "      <td>1304</td>\n",
              "      <td>[]</td>\n",
              "      <td>2</td>\n",
              "      <td>0</td>\n",
              "      <td>11</td>\n",
              "      <td>54</td>\n",
              "      <td>Alec K. Redfearn &amp; the Eyesores</td>\n",
              "      <td>['alec k redfearn and the eyesores']</td>\n",
              "      <td>training</td>\n",
              "      <td>medium</td>\n",
              "      <td>128000</td>\n",
              "      <td>0</td>\n",
              "      <td>2008-11-26 01:44:05</td>\n",
              "      <td>296</td>\n",
              "      <td>3</td>\n",
              "      <td>Folk</td>\n",
              "      <td>[17]</td>\n",
              "      <td>[17]</td>\n",
              "      <td>702</td>\n",
              "      <td>582</td>\n",
              "      <td>2</td>\n",
              "      <td>[]</td>\n",
              "    </tr>\n",
              "    <tr>\n",
              "      <th>15</th>\n",
              "      <td>1</td>\n",
              "      <td>1</td>\n",
              "      <td>1300</td>\n",
              "      <td>[]</td>\n",
              "      <td>1</td>\n",
              "      <td>0</td>\n",
              "      <td>11</td>\n",
              "      <td>54</td>\n",
              "      <td>Alec K. Redfearn &amp; the Eyesores</td>\n",
              "      <td>['alec k redfearn and the eyesores']</td>\n",
              "      <td>training</td>\n",
              "      <td>small</td>\n",
              "      <td>128000</td>\n",
              "      <td>0</td>\n",
              "      <td>2008-11-26 01:44:07</td>\n",
              "      <td>253</td>\n",
              "      <td>5</td>\n",
              "      <td>Folk</td>\n",
              "      <td>[17]</td>\n",
              "      <td>[17]</td>\n",
              "      <td>1593</td>\n",
              "      <td>1299</td>\n",
              "      <td>2</td>\n",
              "      <td>[]</td>\n",
              "    </tr>\n",
              "    <tr>\n",
              "      <th>16</th>\n",
              "      <td>0</td>\n",
              "      <td>1</td>\n",
              "      <td>1304</td>\n",
              "      <td>[]</td>\n",
              "      <td>2</td>\n",
              "      <td>0</td>\n",
              "      <td>11</td>\n",
              "      <td>54</td>\n",
              "      <td>Alec K. Redfearn &amp; the Eyesores</td>\n",
              "      <td>['alec k redfearn and the eyesores']</td>\n",
              "      <td>training</td>\n",
              "      <td>small</td>\n",
              "      <td>128000</td>\n",
              "      <td>0</td>\n",
              "      <td>2008-11-26 01:44:10</td>\n",
              "      <td>182</td>\n",
              "      <td>1</td>\n",
              "      <td>Folk</td>\n",
              "      <td>[17]</td>\n",
              "      <td>[17]</td>\n",
              "      <td>839</td>\n",
              "      <td>725</td>\n",
              "      <td>4</td>\n",
              "      <td>[]</td>\n",
              "    </tr>\n",
              "    <tr>\n",
              "      <th>17</th>\n",
              "      <td>0</td>\n",
              "      <td>1</td>\n",
              "      <td>845</td>\n",
              "      <td>[]</td>\n",
              "      <td>1</td>\n",
              "      <td>0</td>\n",
              "      <td>11</td>\n",
              "      <td>54</td>\n",
              "      <td>Alec K. Redfearn &amp; the Eyesores</td>\n",
              "      <td>['alec k redfearn and the eyesores']</td>\n",
              "      <td>training</td>\n",
              "      <td>large</td>\n",
              "      <td>128000</td>\n",
              "      <td>0</td>\n",
              "      <td>2008-11-26 01:44:11</td>\n",
              "      <td>470</td>\n",
              "      <td>6</td>\n",
              "      <td>Folk</td>\n",
              "      <td>[17]</td>\n",
              "      <td>[17]</td>\n",
              "      <td>1223</td>\n",
              "      <td>848</td>\n",
              "      <td>5</td>\n",
              "      <td>[]</td>\n",
              "    </tr>\n",
              "    <tr>\n",
              "      <th>18</th>\n",
              "      <td>0</td>\n",
              "      <td>0</td>\n",
              "      <td>2014</td>\n",
              "      <td>[]</td>\n",
              "      <td>0</td>\n",
              "      <td>1</td>\n",
              "      <td>7</td>\n",
              "      <td>56</td>\n",
              "      <td>Amoebic Ensemble</td>\n",
              "      <td>['providence', 'amoebic ensemble', 'rhode isla...</td>\n",
              "      <td>training</td>\n",
              "      <td>large</td>\n",
              "      <td>256000</td>\n",
              "      <td>0</td>\n",
              "      <td>2008-11-26 01:44:15</td>\n",
              "      <td>82</td>\n",
              "      <td>1</td>\n",
              "      <td>Jazz</td>\n",
              "      <td>[4]</td>\n",
              "      <td>[4]</td>\n",
              "      <td>1146</td>\n",
              "      <td>1143</td>\n",
              "      <td>1</td>\n",
              "      <td>[]</td>\n",
              "    </tr>\n",
              "    <tr>\n",
              "      <th>19</th>\n",
              "      <td>0</td>\n",
              "      <td>0</td>\n",
              "      <td>2014</td>\n",
              "      <td>[]</td>\n",
              "      <td>0</td>\n",
              "      <td>1</td>\n",
              "      <td>7</td>\n",
              "      <td>56</td>\n",
              "      <td>Amoebic Ensemble</td>\n",
              "      <td>['providence', 'amoebic ensemble', 'rhode isla...</td>\n",
              "      <td>training</td>\n",
              "      <td>large</td>\n",
              "      <td>256000</td>\n",
              "      <td>0</td>\n",
              "      <td>2008-11-26 01:44:18</td>\n",
              "      <td>326</td>\n",
              "      <td>1</td>\n",
              "      <td>Jazz</td>\n",
              "      <td>[4]</td>\n",
              "      <td>[4]</td>\n",
              "      <td>968</td>\n",
              "      <td>883</td>\n",
              "      <td>3</td>\n",
              "      <td>[]</td>\n",
              "    </tr>\n",
              "    <tr>\n",
              "      <th>20</th>\n",
              "      <td>0</td>\n",
              "      <td>1</td>\n",
              "      <td>1446</td>\n",
              "      <td>[]</td>\n",
              "      <td>0</td>\n",
              "      <td>1</td>\n",
              "      <td>7</td>\n",
              "      <td>56</td>\n",
              "      <td>Amoebic Ensemble</td>\n",
              "      <td>['providence', 'amoebic ensemble', 'rhode isla...</td>\n",
              "      <td>training</td>\n",
              "      <td>large</td>\n",
              "      <td>256000</td>\n",
              "      <td>0</td>\n",
              "      <td>2008-11-26 01:44:21</td>\n",
              "      <td>354</td>\n",
              "      <td>5</td>\n",
              "      <td>Jazz</td>\n",
              "      <td>[4]</td>\n",
              "      <td>[4]</td>\n",
              "      <td>855</td>\n",
              "      <td>690</td>\n",
              "      <td>6</td>\n",
              "      <td>[]</td>\n",
              "    </tr>\n",
              "    <tr>\n",
              "      <th>21</th>\n",
              "      <td>0</td>\n",
              "      <td>1</td>\n",
              "      <td>1446</td>\n",
              "      <td>[]</td>\n",
              "      <td>0</td>\n",
              "      <td>1</td>\n",
              "      <td>7</td>\n",
              "      <td>56</td>\n",
              "      <td>Amoebic Ensemble</td>\n",
              "      <td>['providence', 'amoebic ensemble', 'rhode isla...</td>\n",
              "      <td>training</td>\n",
              "      <td>large</td>\n",
              "      <td>256000</td>\n",
              "      <td>0</td>\n",
              "      <td>2008-11-26 01:44:25</td>\n",
              "      <td>232</td>\n",
              "      <td>2</td>\n",
              "      <td>Jazz</td>\n",
              "      <td>[4]</td>\n",
              "      <td>[4]</td>\n",
              "      <td>930</td>\n",
              "      <td>766</td>\n",
              "      <td>7</td>\n",
              "      <td>[]</td>\n",
              "    </tr>\n",
              "    <tr>\n",
              "      <th>22</th>\n",
              "      <td>0</td>\n",
              "      <td>0</td>\n",
              "      <td>1831</td>\n",
              "      <td>[]</td>\n",
              "      <td>1</td>\n",
              "      <td>0</td>\n",
              "      <td>0</td>\n",
              "      <td>57</td>\n",
              "      <td>Contradiction</td>\n",
              "      <td>['contradiction']</td>\n",
              "      <td>validation</td>\n",
              "      <td>small</td>\n",
              "      <td>256000</td>\n",
              "      <td>0</td>\n",
              "      <td>2008-11-26 01:44:28</td>\n",
              "      <td>138</td>\n",
              "      <td>1</td>\n",
              "      <td>Experimental</td>\n",
              "      <td>[1]</td>\n",
              "      <td>[1, 38]</td>\n",
              "      <td>2437</td>\n",
              "      <td>1831</td>\n",
              "      <td>2</td>\n",
              "      <td>[]</td>\n",
              "    </tr>\n",
              "    <tr>\n",
              "      <th>23</th>\n",
              "      <td>0</td>\n",
              "      <td>0</td>\n",
              "      <td>858</td>\n",
              "      <td>[]</td>\n",
              "      <td>2</td>\n",
              "      <td>0</td>\n",
              "      <td>1</td>\n",
              "      <td>58</td>\n",
              "      <td>Andy Hayleck</td>\n",
              "      <td>['andy hayleck']</td>\n",
              "      <td>training</td>\n",
              "      <td>large</td>\n",
              "      <td>287639</td>\n",
              "      <td>0</td>\n",
              "      <td>2008-11-26 01:44:34</td>\n",
              "      <td>988</td>\n",
              "      <td>1</td>\n",
              "      <td>Experimental</td>\n",
              "      <td>[1]</td>\n",
              "      <td>[1, 38]</td>\n",
              "      <td>1103</td>\n",
              "      <td>453</td>\n",
              "      <td>2</td>\n",
              "      <td>[]</td>\n",
              "    </tr>\n",
              "    <tr>\n",
              "      <th>24</th>\n",
              "      <td>0</td>\n",
              "      <td>0</td>\n",
              "      <td>858</td>\n",
              "      <td>[]</td>\n",
              "      <td>2</td>\n",
              "      <td>0</td>\n",
              "      <td>1</td>\n",
              "      <td>58</td>\n",
              "      <td>Andy Hayleck</td>\n",
              "      <td>['andy hayleck']</td>\n",
              "      <td>training</td>\n",
              "      <td>large</td>\n",
              "      <td>282817</td>\n",
              "      <td>0</td>\n",
              "      <td>2008-11-26 01:44:45</td>\n",
              "      <td>1182</td>\n",
              "      <td>0</td>\n",
              "      <td>Experimental</td>\n",
              "      <td>[1]</td>\n",
              "      <td>[1, 38]</td>\n",
              "      <td>1071</td>\n",
              "      <td>407</td>\n",
              "      <td>1</td>\n",
              "      <td>[]</td>\n",
              "    </tr>\n",
              "  </tbody>\n",
              "</table>\n",
              "</div>"
            ],
            "text/plain": [
              "    album comments  album favorites  album listens album tags  album tracks  \\\n",
              "0                0                4           6073         []             7   \n",
              "1                0                4           6073         []             7   \n",
              "2                0                4           6073         []             7   \n",
              "3                0                4          47632         []             2   \n",
              "9                0                4           6073         []             7   \n",
              "10               1                0           3331         []             4   \n",
              "11               1                0           3331         []             4   \n",
              "12               1                2           1681  ['lafms']             2   \n",
              "13               1                2           1681  ['lafms']             2   \n",
              "14               0                1           1304         []             2   \n",
              "15               1                1           1300         []             1   \n",
              "16               0                1           1304         []             2   \n",
              "17               0                1            845         []             1   \n",
              "18               0                0           2014         []             0   \n",
              "19               0                0           2014         []             0   \n",
              "20               0                1           1446         []             0   \n",
              "21               0                1           1446         []             0   \n",
              "22               0                0           1831         []             1   \n",
              "23               0                0            858         []             2   \n",
              "24               0                0            858         []             2   \n",
              "\n",
              "    artist comments  artist favorites  artist id  \\\n",
              "0                 0                 9          1   \n",
              "1                 0                 9          1   \n",
              "2                 0                 9          1   \n",
              "3                 3                74          6   \n",
              "9                 0                 9          1   \n",
              "10                1                 0         52   \n",
              "11                1                 0         52   \n",
              "12                0                 5         53   \n",
              "13                0                 5         53   \n",
              "14                0                11         54   \n",
              "15                0                11         54   \n",
              "16                0                11         54   \n",
              "17                0                11         54   \n",
              "18                1                 7         56   \n",
              "19                1                 7         56   \n",
              "20                1                 7         56   \n",
              "21                1                 7         56   \n",
              "22                0                 0         57   \n",
              "23                0                 1         58   \n",
              "24                0                 1         58   \n",
              "\n",
              "                        artist name  \\\n",
              "0                              AWOL   \n",
              "1                              AWOL   \n",
              "2                              AWOL   \n",
              "3                         Kurt Vile   \n",
              "9                              AWOL   \n",
              "10                         Abominog   \n",
              "11                         Abominog   \n",
              "12                           Airway   \n",
              "13                           Airway   \n",
              "14  Alec K. Redfearn & the Eyesores   \n",
              "15  Alec K. Redfearn & the Eyesores   \n",
              "16  Alec K. Redfearn & the Eyesores   \n",
              "17  Alec K. Redfearn & the Eyesores   \n",
              "18                 Amoebic Ensemble   \n",
              "19                 Amoebic Ensemble   \n",
              "20                 Amoebic Ensemble   \n",
              "21                 Amoebic Ensemble   \n",
              "22                    Contradiction   \n",
              "23                     Andy Hayleck   \n",
              "24                     Andy Hayleck   \n",
              "\n",
              "                                          artist tags   set split set subset  \\\n",
              "0                                            ['awol']    training      small   \n",
              "1                                            ['awol']    training     medium   \n",
              "2                                            ['awol']    training      small   \n",
              "3                             ['philly', 'kurt vile']    training      small   \n",
              "9                                            ['awol']    training     medium   \n",
              "10                                       ['abominog']    training      large   \n",
              "11                                       ['abominog']    training     medium   \n",
              "12                                         ['airway']    training      large   \n",
              "13                                         ['airway']    training      large   \n",
              "14               ['alec k redfearn and the eyesores']    training     medium   \n",
              "15               ['alec k redfearn and the eyesores']    training      small   \n",
              "16               ['alec k redfearn and the eyesores']    training      small   \n",
              "17               ['alec k redfearn and the eyesores']    training      large   \n",
              "18  ['providence', 'amoebic ensemble', 'rhode isla...    training      large   \n",
              "19  ['providence', 'amoebic ensemble', 'rhode isla...    training      large   \n",
              "20  ['providence', 'amoebic ensemble', 'rhode isla...    training      large   \n",
              "21  ['providence', 'amoebic ensemble', 'rhode isla...    training      large   \n",
              "22                                  ['contradiction']  validation      small   \n",
              "23                                   ['andy hayleck']    training      large   \n",
              "24                                   ['andy hayleck']    training      large   \n",
              "\n",
              "    track bit_rate  track comments   track date_created  track duration  \\\n",
              "0           256000               0  2008-11-26 01:48:12             168   \n",
              "1           256000               0  2008-11-26 01:48:14             237   \n",
              "2           256000               0  2008-11-26 01:48:20             206   \n",
              "3           192000               0  2008-11-25 17:49:06             161   \n",
              "9           256000               0  2008-11-26 01:43:19             207   \n",
              "10          256000               1  2008-11-26 01:43:26             837   \n",
              "11          256000               1  2008-11-26 01:43:35             509   \n",
              "12          256000               0  2008-11-26 01:43:42            1233   \n",
              "13          256000               0  2008-11-26 01:43:56            1231   \n",
              "14          128000               0  2008-11-26 01:44:05             296   \n",
              "15          128000               0  2008-11-26 01:44:07             253   \n",
              "16          128000               0  2008-11-26 01:44:10             182   \n",
              "17          128000               0  2008-11-26 01:44:11             470   \n",
              "18          256000               0  2008-11-26 01:44:15              82   \n",
              "19          256000               0  2008-11-26 01:44:18             326   \n",
              "20          256000               0  2008-11-26 01:44:21             354   \n",
              "21          256000               0  2008-11-26 01:44:25             232   \n",
              "22          256000               0  2008-11-26 01:44:28             138   \n",
              "23          287639               0  2008-11-26 01:44:34             988   \n",
              "24          282817               0  2008-11-26 01:44:45            1182   \n",
              "\n",
              "    track favorites track genre_top track genres track genres_all  \\\n",
              "0                 2         Hip-Hop         [21]             [21]   \n",
              "1                 1         Hip-Hop         [21]             [21]   \n",
              "2                 6         Hip-Hop         [21]             [21]   \n",
              "3               178             Pop         [10]             [10]   \n",
              "9                 3         Hip-Hop         [21]             [21]   \n",
              "10                0            Rock     [45, 58]     [58, 12, 45]   \n",
              "11                0            Rock     [45, 58]     [58, 12, 45]   \n",
              "12                2    Experimental      [1, 32]      [32, 1, 38]   \n",
              "13                2    Experimental      [1, 32]      [32, 1, 38]   \n",
              "14                3            Folk         [17]             [17]   \n",
              "15                5            Folk         [17]             [17]   \n",
              "16                1            Folk         [17]             [17]   \n",
              "17                6            Folk         [17]             [17]   \n",
              "18                1            Jazz          [4]              [4]   \n",
              "19                1            Jazz          [4]              [4]   \n",
              "20                5            Jazz          [4]              [4]   \n",
              "21                2            Jazz          [4]              [4]   \n",
              "22                1    Experimental          [1]          [1, 38]   \n",
              "23                1    Experimental          [1]          [1, 38]   \n",
              "24                0    Experimental          [1]          [1, 38]   \n",
              "\n",
              "    track interest  track listens  track number track tags  \n",
              "0             4656           1293             3         []  \n",
              "1             1470            514             4         []  \n",
              "2             1933           1151             6         []  \n",
              "3            54881          50135             1         []  \n",
              "9             1126            943             5         []  \n",
              "10            2484           1832             0         []  \n",
              "11            1948           1498             0         []  \n",
              "12            2559           1278             1  ['lafms']  \n",
              "13            1909            489             2  ['lafms']  \n",
              "14             702            582             2         []  \n",
              "15            1593           1299             2         []  \n",
              "16             839            725             4         []  \n",
              "17            1223            848             5         []  \n",
              "18            1146           1143             1         []  \n",
              "19             968            883             3         []  \n",
              "20             855            690             6         []  \n",
              "21             930            766             7         []  \n",
              "22            2437           1831             2         []  \n",
              "23            1103            453             2         []  \n",
              "24            1071            407             1         []  "
            ]
          },
          "metadata": {
            "tags": []
          },
          "execution_count": 17
        }
      ]
    },
    {
      "metadata": {
        "id": "bfANMzM9SpdV",
        "colab_type": "text"
      },
      "cell_type": "markdown",
      "source": [
        "### Since Logistic Regression only works with numerical values in X, drop 'album tags' and 'artist tags'.  We don't think these will be related to 'track genre_top'"
      ]
    },
    {
      "metadata": {
        "id": "pmyKfkrsSpdW",
        "colab_type": "code",
        "colab": {}
      },
      "cell_type": "code",
      "source": [
        "tracks_clean.drop(['album tags', 'artist name', 'artist tags'], axis = 'columns', inplace = True)"
      ],
      "execution_count": 0,
      "outputs": []
    },
    {
      "metadata": {
        "id": "sLRHGNZJSpdZ",
        "colab_type": "text"
      },
      "cell_type": "markdown",
      "source": [
        "### One-hot encode 'track genres' and 'track genres_all'"
      ]
    },
    {
      "metadata": {
        "id": "XehUQkGrSpda",
        "colab_type": "code",
        "colab": {}
      },
      "cell_type": "code",
      "source": [
        "# genre_values = tracks_clean['track genres'].str.extract('\\[([0-9]+)\\]')\n",
        "# unique_genres = {g for g in genre_values['0']}\n",
        "# unique_genres"
      ],
      "execution_count": 0,
      "outputs": []
    },
    {
      "metadata": {
        "id": "ylgqJtobSpdc",
        "colab_type": "text"
      },
      "cell_type": "markdown",
      "source": [
        "### Keep only numerical columns"
      ]
    },
    {
      "metadata": {
        "id": "RFYgMO4fSpdc",
        "colab_type": "code",
        "colab": {}
      },
      "cell_type": "code",
      "source": [
        "tracks_clean.drop(['track genres', 'track genres_all', 'track tags', 'track date_created'], axis = 'columns', inplace = True)"
      ],
      "execution_count": 0,
      "outputs": []
    },
    {
      "metadata": {
        "id": "ksiWGKhpSpde",
        "colab_type": "code",
        "colab": {}
      },
      "cell_type": "code",
      "source": [
        "tracks_clean.drop(['set split', 'set subset'], axis = 'columns', inplace = True)"
      ],
      "execution_count": 0,
      "outputs": []
    },
    {
      "metadata": {
        "id": "_Q1fVp76Spdf",
        "colab_type": "code",
        "outputId": "eb788706-38e3-41d6-e794-38baa5fa7482",
        "colab": {
          "base_uri": "https://localhost:8080/",
          "height": 706
        }
      },
      "cell_type": "code",
      "source": [
        "tracks_clean.head(20)"
      ],
      "execution_count": 22,
      "outputs": [
        {
          "output_type": "execute_result",
          "data": {
            "text/html": [
              "<div>\n",
              "<style scoped>\n",
              "    .dataframe tbody tr th:only-of-type {\n",
              "        vertical-align: middle;\n",
              "    }\n",
              "\n",
              "    .dataframe tbody tr th {\n",
              "        vertical-align: top;\n",
              "    }\n",
              "\n",
              "    .dataframe thead th {\n",
              "        text-align: right;\n",
              "    }\n",
              "</style>\n",
              "<table border=\"1\" class=\"dataframe\">\n",
              "  <thead>\n",
              "    <tr style=\"text-align: right;\">\n",
              "      <th></th>\n",
              "      <th>album comments</th>\n",
              "      <th>album favorites</th>\n",
              "      <th>album listens</th>\n",
              "      <th>album tracks</th>\n",
              "      <th>artist comments</th>\n",
              "      <th>artist favorites</th>\n",
              "      <th>artist id</th>\n",
              "      <th>track bit_rate</th>\n",
              "      <th>track comments</th>\n",
              "      <th>track duration</th>\n",
              "      <th>track favorites</th>\n",
              "      <th>track genre_top</th>\n",
              "      <th>track interest</th>\n",
              "      <th>track listens</th>\n",
              "      <th>track number</th>\n",
              "    </tr>\n",
              "  </thead>\n",
              "  <tbody>\n",
              "    <tr>\n",
              "      <th>0</th>\n",
              "      <td>0</td>\n",
              "      <td>4</td>\n",
              "      <td>6073</td>\n",
              "      <td>7</td>\n",
              "      <td>0</td>\n",
              "      <td>9</td>\n",
              "      <td>1</td>\n",
              "      <td>256000</td>\n",
              "      <td>0</td>\n",
              "      <td>168</td>\n",
              "      <td>2</td>\n",
              "      <td>Hip-Hop</td>\n",
              "      <td>4656</td>\n",
              "      <td>1293</td>\n",
              "      <td>3</td>\n",
              "    </tr>\n",
              "    <tr>\n",
              "      <th>1</th>\n",
              "      <td>0</td>\n",
              "      <td>4</td>\n",
              "      <td>6073</td>\n",
              "      <td>7</td>\n",
              "      <td>0</td>\n",
              "      <td>9</td>\n",
              "      <td>1</td>\n",
              "      <td>256000</td>\n",
              "      <td>0</td>\n",
              "      <td>237</td>\n",
              "      <td>1</td>\n",
              "      <td>Hip-Hop</td>\n",
              "      <td>1470</td>\n",
              "      <td>514</td>\n",
              "      <td>4</td>\n",
              "    </tr>\n",
              "    <tr>\n",
              "      <th>2</th>\n",
              "      <td>0</td>\n",
              "      <td>4</td>\n",
              "      <td>6073</td>\n",
              "      <td>7</td>\n",
              "      <td>0</td>\n",
              "      <td>9</td>\n",
              "      <td>1</td>\n",
              "      <td>256000</td>\n",
              "      <td>0</td>\n",
              "      <td>206</td>\n",
              "      <td>6</td>\n",
              "      <td>Hip-Hop</td>\n",
              "      <td>1933</td>\n",
              "      <td>1151</td>\n",
              "      <td>6</td>\n",
              "    </tr>\n",
              "    <tr>\n",
              "      <th>3</th>\n",
              "      <td>0</td>\n",
              "      <td>4</td>\n",
              "      <td>47632</td>\n",
              "      <td>2</td>\n",
              "      <td>3</td>\n",
              "      <td>74</td>\n",
              "      <td>6</td>\n",
              "      <td>192000</td>\n",
              "      <td>0</td>\n",
              "      <td>161</td>\n",
              "      <td>178</td>\n",
              "      <td>Pop</td>\n",
              "      <td>54881</td>\n",
              "      <td>50135</td>\n",
              "      <td>1</td>\n",
              "    </tr>\n",
              "    <tr>\n",
              "      <th>9</th>\n",
              "      <td>0</td>\n",
              "      <td>4</td>\n",
              "      <td>6073</td>\n",
              "      <td>7</td>\n",
              "      <td>0</td>\n",
              "      <td>9</td>\n",
              "      <td>1</td>\n",
              "      <td>256000</td>\n",
              "      <td>0</td>\n",
              "      <td>207</td>\n",
              "      <td>3</td>\n",
              "      <td>Hip-Hop</td>\n",
              "      <td>1126</td>\n",
              "      <td>943</td>\n",
              "      <td>5</td>\n",
              "    </tr>\n",
              "    <tr>\n",
              "      <th>10</th>\n",
              "      <td>1</td>\n",
              "      <td>0</td>\n",
              "      <td>3331</td>\n",
              "      <td>4</td>\n",
              "      <td>1</td>\n",
              "      <td>0</td>\n",
              "      <td>52</td>\n",
              "      <td>256000</td>\n",
              "      <td>1</td>\n",
              "      <td>837</td>\n",
              "      <td>0</td>\n",
              "      <td>Rock</td>\n",
              "      <td>2484</td>\n",
              "      <td>1832</td>\n",
              "      <td>0</td>\n",
              "    </tr>\n",
              "    <tr>\n",
              "      <th>11</th>\n",
              "      <td>1</td>\n",
              "      <td>0</td>\n",
              "      <td>3331</td>\n",
              "      <td>4</td>\n",
              "      <td>1</td>\n",
              "      <td>0</td>\n",
              "      <td>52</td>\n",
              "      <td>256000</td>\n",
              "      <td>1</td>\n",
              "      <td>509</td>\n",
              "      <td>0</td>\n",
              "      <td>Rock</td>\n",
              "      <td>1948</td>\n",
              "      <td>1498</td>\n",
              "      <td>0</td>\n",
              "    </tr>\n",
              "    <tr>\n",
              "      <th>12</th>\n",
              "      <td>1</td>\n",
              "      <td>2</td>\n",
              "      <td>1681</td>\n",
              "      <td>2</td>\n",
              "      <td>0</td>\n",
              "      <td>5</td>\n",
              "      <td>53</td>\n",
              "      <td>256000</td>\n",
              "      <td>0</td>\n",
              "      <td>1233</td>\n",
              "      <td>2</td>\n",
              "      <td>Experimental</td>\n",
              "      <td>2559</td>\n",
              "      <td>1278</td>\n",
              "      <td>1</td>\n",
              "    </tr>\n",
              "    <tr>\n",
              "      <th>13</th>\n",
              "      <td>1</td>\n",
              "      <td>2</td>\n",
              "      <td>1681</td>\n",
              "      <td>2</td>\n",
              "      <td>0</td>\n",
              "      <td>5</td>\n",
              "      <td>53</td>\n",
              "      <td>256000</td>\n",
              "      <td>0</td>\n",
              "      <td>1231</td>\n",
              "      <td>2</td>\n",
              "      <td>Experimental</td>\n",
              "      <td>1909</td>\n",
              "      <td>489</td>\n",
              "      <td>2</td>\n",
              "    </tr>\n",
              "    <tr>\n",
              "      <th>14</th>\n",
              "      <td>0</td>\n",
              "      <td>1</td>\n",
              "      <td>1304</td>\n",
              "      <td>2</td>\n",
              "      <td>0</td>\n",
              "      <td>11</td>\n",
              "      <td>54</td>\n",
              "      <td>128000</td>\n",
              "      <td>0</td>\n",
              "      <td>296</td>\n",
              "      <td>3</td>\n",
              "      <td>Folk</td>\n",
              "      <td>702</td>\n",
              "      <td>582</td>\n",
              "      <td>2</td>\n",
              "    </tr>\n",
              "    <tr>\n",
              "      <th>15</th>\n",
              "      <td>1</td>\n",
              "      <td>1</td>\n",
              "      <td>1300</td>\n",
              "      <td>1</td>\n",
              "      <td>0</td>\n",
              "      <td>11</td>\n",
              "      <td>54</td>\n",
              "      <td>128000</td>\n",
              "      <td>0</td>\n",
              "      <td>253</td>\n",
              "      <td>5</td>\n",
              "      <td>Folk</td>\n",
              "      <td>1593</td>\n",
              "      <td>1299</td>\n",
              "      <td>2</td>\n",
              "    </tr>\n",
              "    <tr>\n",
              "      <th>16</th>\n",
              "      <td>0</td>\n",
              "      <td>1</td>\n",
              "      <td>1304</td>\n",
              "      <td>2</td>\n",
              "      <td>0</td>\n",
              "      <td>11</td>\n",
              "      <td>54</td>\n",
              "      <td>128000</td>\n",
              "      <td>0</td>\n",
              "      <td>182</td>\n",
              "      <td>1</td>\n",
              "      <td>Folk</td>\n",
              "      <td>839</td>\n",
              "      <td>725</td>\n",
              "      <td>4</td>\n",
              "    </tr>\n",
              "    <tr>\n",
              "      <th>17</th>\n",
              "      <td>0</td>\n",
              "      <td>1</td>\n",
              "      <td>845</td>\n",
              "      <td>1</td>\n",
              "      <td>0</td>\n",
              "      <td>11</td>\n",
              "      <td>54</td>\n",
              "      <td>128000</td>\n",
              "      <td>0</td>\n",
              "      <td>470</td>\n",
              "      <td>6</td>\n",
              "      <td>Folk</td>\n",
              "      <td>1223</td>\n",
              "      <td>848</td>\n",
              "      <td>5</td>\n",
              "    </tr>\n",
              "    <tr>\n",
              "      <th>18</th>\n",
              "      <td>0</td>\n",
              "      <td>0</td>\n",
              "      <td>2014</td>\n",
              "      <td>0</td>\n",
              "      <td>1</td>\n",
              "      <td>7</td>\n",
              "      <td>56</td>\n",
              "      <td>256000</td>\n",
              "      <td>0</td>\n",
              "      <td>82</td>\n",
              "      <td>1</td>\n",
              "      <td>Jazz</td>\n",
              "      <td>1146</td>\n",
              "      <td>1143</td>\n",
              "      <td>1</td>\n",
              "    </tr>\n",
              "    <tr>\n",
              "      <th>19</th>\n",
              "      <td>0</td>\n",
              "      <td>0</td>\n",
              "      <td>2014</td>\n",
              "      <td>0</td>\n",
              "      <td>1</td>\n",
              "      <td>7</td>\n",
              "      <td>56</td>\n",
              "      <td>256000</td>\n",
              "      <td>0</td>\n",
              "      <td>326</td>\n",
              "      <td>1</td>\n",
              "      <td>Jazz</td>\n",
              "      <td>968</td>\n",
              "      <td>883</td>\n",
              "      <td>3</td>\n",
              "    </tr>\n",
              "    <tr>\n",
              "      <th>20</th>\n",
              "      <td>0</td>\n",
              "      <td>1</td>\n",
              "      <td>1446</td>\n",
              "      <td>0</td>\n",
              "      <td>1</td>\n",
              "      <td>7</td>\n",
              "      <td>56</td>\n",
              "      <td>256000</td>\n",
              "      <td>0</td>\n",
              "      <td>354</td>\n",
              "      <td>5</td>\n",
              "      <td>Jazz</td>\n",
              "      <td>855</td>\n",
              "      <td>690</td>\n",
              "      <td>6</td>\n",
              "    </tr>\n",
              "    <tr>\n",
              "      <th>21</th>\n",
              "      <td>0</td>\n",
              "      <td>1</td>\n",
              "      <td>1446</td>\n",
              "      <td>0</td>\n",
              "      <td>1</td>\n",
              "      <td>7</td>\n",
              "      <td>56</td>\n",
              "      <td>256000</td>\n",
              "      <td>0</td>\n",
              "      <td>232</td>\n",
              "      <td>2</td>\n",
              "      <td>Jazz</td>\n",
              "      <td>930</td>\n",
              "      <td>766</td>\n",
              "      <td>7</td>\n",
              "    </tr>\n",
              "    <tr>\n",
              "      <th>22</th>\n",
              "      <td>0</td>\n",
              "      <td>0</td>\n",
              "      <td>1831</td>\n",
              "      <td>1</td>\n",
              "      <td>0</td>\n",
              "      <td>0</td>\n",
              "      <td>57</td>\n",
              "      <td>256000</td>\n",
              "      <td>0</td>\n",
              "      <td>138</td>\n",
              "      <td>1</td>\n",
              "      <td>Experimental</td>\n",
              "      <td>2437</td>\n",
              "      <td>1831</td>\n",
              "      <td>2</td>\n",
              "    </tr>\n",
              "    <tr>\n",
              "      <th>23</th>\n",
              "      <td>0</td>\n",
              "      <td>0</td>\n",
              "      <td>858</td>\n",
              "      <td>2</td>\n",
              "      <td>0</td>\n",
              "      <td>1</td>\n",
              "      <td>58</td>\n",
              "      <td>287639</td>\n",
              "      <td>0</td>\n",
              "      <td>988</td>\n",
              "      <td>1</td>\n",
              "      <td>Experimental</td>\n",
              "      <td>1103</td>\n",
              "      <td>453</td>\n",
              "      <td>2</td>\n",
              "    </tr>\n",
              "    <tr>\n",
              "      <th>24</th>\n",
              "      <td>0</td>\n",
              "      <td>0</td>\n",
              "      <td>858</td>\n",
              "      <td>2</td>\n",
              "      <td>0</td>\n",
              "      <td>1</td>\n",
              "      <td>58</td>\n",
              "      <td>282817</td>\n",
              "      <td>0</td>\n",
              "      <td>1182</td>\n",
              "      <td>0</td>\n",
              "      <td>Experimental</td>\n",
              "      <td>1071</td>\n",
              "      <td>407</td>\n",
              "      <td>1</td>\n",
              "    </tr>\n",
              "  </tbody>\n",
              "</table>\n",
              "</div>"
            ],
            "text/plain": [
              "    album comments  album favorites  album listens  album tracks  \\\n",
              "0                0                4           6073             7   \n",
              "1                0                4           6073             7   \n",
              "2                0                4           6073             7   \n",
              "3                0                4          47632             2   \n",
              "9                0                4           6073             7   \n",
              "10               1                0           3331             4   \n",
              "11               1                0           3331             4   \n",
              "12               1                2           1681             2   \n",
              "13               1                2           1681             2   \n",
              "14               0                1           1304             2   \n",
              "15               1                1           1300             1   \n",
              "16               0                1           1304             2   \n",
              "17               0                1            845             1   \n",
              "18               0                0           2014             0   \n",
              "19               0                0           2014             0   \n",
              "20               0                1           1446             0   \n",
              "21               0                1           1446             0   \n",
              "22               0                0           1831             1   \n",
              "23               0                0            858             2   \n",
              "24               0                0            858             2   \n",
              "\n",
              "    artist comments  artist favorites  artist id  track bit_rate  \\\n",
              "0                 0                 9          1          256000   \n",
              "1                 0                 9          1          256000   \n",
              "2                 0                 9          1          256000   \n",
              "3                 3                74          6          192000   \n",
              "9                 0                 9          1          256000   \n",
              "10                1                 0         52          256000   \n",
              "11                1                 0         52          256000   \n",
              "12                0                 5         53          256000   \n",
              "13                0                 5         53          256000   \n",
              "14                0                11         54          128000   \n",
              "15                0                11         54          128000   \n",
              "16                0                11         54          128000   \n",
              "17                0                11         54          128000   \n",
              "18                1                 7         56          256000   \n",
              "19                1                 7         56          256000   \n",
              "20                1                 7         56          256000   \n",
              "21                1                 7         56          256000   \n",
              "22                0                 0         57          256000   \n",
              "23                0                 1         58          287639   \n",
              "24                0                 1         58          282817   \n",
              "\n",
              "    track comments  track duration  track favorites track genre_top  \\\n",
              "0                0             168                2         Hip-Hop   \n",
              "1                0             237                1         Hip-Hop   \n",
              "2                0             206                6         Hip-Hop   \n",
              "3                0             161              178             Pop   \n",
              "9                0             207                3         Hip-Hop   \n",
              "10               1             837                0            Rock   \n",
              "11               1             509                0            Rock   \n",
              "12               0            1233                2    Experimental   \n",
              "13               0            1231                2    Experimental   \n",
              "14               0             296                3            Folk   \n",
              "15               0             253                5            Folk   \n",
              "16               0             182                1            Folk   \n",
              "17               0             470                6            Folk   \n",
              "18               0              82                1            Jazz   \n",
              "19               0             326                1            Jazz   \n",
              "20               0             354                5            Jazz   \n",
              "21               0             232                2            Jazz   \n",
              "22               0             138                1    Experimental   \n",
              "23               0             988                1    Experimental   \n",
              "24               0            1182                0    Experimental   \n",
              "\n",
              "    track interest  track listens  track number  \n",
              "0             4656           1293             3  \n",
              "1             1470            514             4  \n",
              "2             1933           1151             6  \n",
              "3            54881          50135             1  \n",
              "9             1126            943             5  \n",
              "10            2484           1832             0  \n",
              "11            1948           1498             0  \n",
              "12            2559           1278             1  \n",
              "13            1909            489             2  \n",
              "14             702            582             2  \n",
              "15            1593           1299             2  \n",
              "16             839            725             4  \n",
              "17            1223            848             5  \n",
              "18            1146           1143             1  \n",
              "19             968            883             3  \n",
              "20             855            690             6  \n",
              "21             930            766             7  \n",
              "22            2437           1831             2  \n",
              "23            1103            453             2  \n",
              "24            1071            407             1  "
            ]
          },
          "metadata": {
            "tags": []
          },
          "execution_count": 22
        }
      ]
    },
    {
      "metadata": {
        "id": "gw3jD9L3Spdh",
        "colab_type": "code",
        "outputId": "b85e52c2-0e7a-4981-b210-60f2693a51da",
        "colab": {
          "base_uri": "https://localhost:8080/",
          "height": 85
        }
      },
      "cell_type": "code",
      "source": [
        "# How many top genres exist in this database\n",
        "unique_top_genres = tracks_clean['track genre_top'].unique()\n",
        "print('Number of top genres:', unique_top_genres.size)\n",
        "print('Unique top genres:', unique_top_genres)"
      ],
      "execution_count": 23,
      "outputs": [
        {
          "output_type": "stream",
          "text": [
            "Number of top genres: 16\n",
            "Unique top genres: ['Hip-Hop' 'Pop' 'Rock' 'Experimental' 'Folk' 'Jazz' 'Electronic' 'Spoken'\n",
            " 'International' 'Soul-RnB' 'Blues' 'Country' 'Classical'\n",
            " 'Old-Time / Historic' 'Instrumental' 'Easy Listening']\n"
          ],
          "name": "stdout"
        }
      ]
    },
    {
      "metadata": {
        "id": "RTmNZt8YSpdl",
        "colab_type": "code",
        "colab": {}
      },
      "cell_type": "code",
      "source": [
        "def log_regr(df, multi_class = 'ovr', solver = 'liblinear',\n",
        "             max_iter = 100):\n",
        "    \n",
        "    # Drop the target variable for X\n",
        "    X = df.drop(['track genre_top'], axis = 1)\n",
        "    \n",
        "    # Select only the target variable for y\n",
        "    y = df['track genre_top']\n",
        "    \n",
        "    # Specify using all CPUs, except for liblinear\n",
        "    n_jobs = -1 if (solver != 'liblinear') else None\n",
        "    \n",
        "    log_reg = LogisticRegression(multi_class = multi_class,\n",
        "                                 solver = solver,\n",
        "                                 max_iter = max_iter,\n",
        "                                 n_jobs = n_jobs).fit(X, y)\n",
        "    score = log_reg.score(X, y)\n",
        "    \n",
        "    print('Logistic Regression:')\n",
        "    print('  parameters:', '\\n    multi-class:', multi_class,\n",
        "          '\\n    solver:', solver, '\\n    max_iter:', max_iter)\n",
        "    print('  score:', score)\n",
        "    # print('Logistic Regression coef_:', log_reg.coef_)"
      ],
      "execution_count": 0,
      "outputs": []
    },
    {
      "metadata": {
        "id": "2wHGcDnUSpdm",
        "colab_type": "code",
        "outputId": "9626be85-491a-4432-c032-5d1277f2440e",
        "colab": {
          "base_uri": "https://localhost:8080/",
          "height": 119
        }
      },
      "cell_type": "code",
      "source": [
        "log_regr(tracks_clean, max_iter = 1000)"
      ],
      "execution_count": 25,
      "outputs": [
        {
          "output_type": "stream",
          "text": [
            "Logistic Regression:\n",
            "  parameters: \n",
            "    multi-class: ovr \n",
            "    solver: liblinear \n",
            "    max_iter: 1000\n",
            "  score: 0.38392677124077584\n"
          ],
          "name": "stdout"
        }
      ]
    },
    {
      "metadata": {
        "id": "ZN2EC5S9Spdq",
        "colab_type": "code",
        "outputId": "6d1ba37c-233c-4d06-f3f3-b9ddb83ac4d2",
        "colab": {
          "base_uri": "https://localhost:8080/",
          "height": 1034
        }
      },
      "cell_type": "code",
      "source": [
        "log_regr(tracks_clean, multi_class = 'multinomial', solver = 'lbfgs',\n",
        "        max_iter = 10000)"
      ],
      "execution_count": 26,
      "outputs": [
        {
          "output_type": "error",
          "ename": "KeyboardInterrupt",
          "evalue": "ignored",
          "traceback": [
            "\u001b[0;31m---------------------------------------------------------------------------\u001b[0m",
            "\u001b[0;31mKeyboardInterrupt\u001b[0m                         Traceback (most recent call last)",
            "\u001b[0;32m<ipython-input-26-26e017755465>\u001b[0m in \u001b[0;36m<module>\u001b[0;34m()\u001b[0m\n\u001b[1;32m      1\u001b[0m log_regr(tracks_clean, multi_class = 'multinomial', solver = 'lbfgs',\n\u001b[0;32m----> 2\u001b[0;31m         max_iter = 10000)\n\u001b[0m",
            "\u001b[0;32m<ipython-input-24-aa4f517f92d9>\u001b[0m in \u001b[0;36mlog_regr\u001b[0;34m(df, multi_class, solver, max_iter)\u001b[0m\n\u001b[1;32m     14\u001b[0m                                  \u001b[0msolver\u001b[0m \u001b[0;34m=\u001b[0m \u001b[0msolver\u001b[0m\u001b[0;34m,\u001b[0m\u001b[0;34m\u001b[0m\u001b[0;34m\u001b[0m\u001b[0m\n\u001b[1;32m     15\u001b[0m                                  \u001b[0mmax_iter\u001b[0m \u001b[0;34m=\u001b[0m \u001b[0mmax_iter\u001b[0m\u001b[0;34m,\u001b[0m\u001b[0;34m\u001b[0m\u001b[0;34m\u001b[0m\u001b[0m\n\u001b[0;32m---> 16\u001b[0;31m                                  n_jobs = n_jobs).fit(X, y)\n\u001b[0m\u001b[1;32m     17\u001b[0m     \u001b[0mscore\u001b[0m \u001b[0;34m=\u001b[0m \u001b[0mlog_reg\u001b[0m\u001b[0;34m.\u001b[0m\u001b[0mscore\u001b[0m\u001b[0;34m(\u001b[0m\u001b[0mX\u001b[0m\u001b[0;34m,\u001b[0m \u001b[0my\u001b[0m\u001b[0;34m)\u001b[0m\u001b[0;34m\u001b[0m\u001b[0;34m\u001b[0m\u001b[0m\n\u001b[1;32m     18\u001b[0m \u001b[0;34m\u001b[0m\u001b[0m\n",
            "\u001b[0;32m/usr/local/lib/python3.6/dist-packages/sklearn/linear_model/logistic.py\u001b[0m in \u001b[0;36mfit\u001b[0;34m(self, X, y, sample_weight)\u001b[0m\n\u001b[1;32m   1361\u001b[0m                       \u001b[0mmax_squared_sum\u001b[0m\u001b[0;34m=\u001b[0m\u001b[0mmax_squared_sum\u001b[0m\u001b[0;34m,\u001b[0m\u001b[0;34m\u001b[0m\u001b[0;34m\u001b[0m\u001b[0m\n\u001b[1;32m   1362\u001b[0m                       sample_weight=sample_weight)\n\u001b[0;32m-> 1363\u001b[0;31m             for class_, warm_start_coef_ in zip(classes_, warm_start_coef))\n\u001b[0m\u001b[1;32m   1364\u001b[0m \u001b[0;34m\u001b[0m\u001b[0m\n\u001b[1;32m   1365\u001b[0m         \u001b[0mfold_coefs_\u001b[0m\u001b[0;34m,\u001b[0m \u001b[0m_\u001b[0m\u001b[0;34m,\u001b[0m \u001b[0mn_iter_\u001b[0m \u001b[0;34m=\u001b[0m \u001b[0mzip\u001b[0m\u001b[0;34m(\u001b[0m\u001b[0;34m*\u001b[0m\u001b[0mfold_coefs_\u001b[0m\u001b[0;34m)\u001b[0m\u001b[0;34m\u001b[0m\u001b[0;34m\u001b[0m\u001b[0m\n",
            "\u001b[0;32m/usr/local/lib/python3.6/dist-packages/sklearn/externals/joblib/parallel.py\u001b[0m in \u001b[0;36m__call__\u001b[0;34m(self, iterable)\u001b[0m\n\u001b[1;32m    928\u001b[0m \u001b[0;34m\u001b[0m\u001b[0m\n\u001b[1;32m    929\u001b[0m             \u001b[0;32mwith\u001b[0m \u001b[0mself\u001b[0m\u001b[0;34m.\u001b[0m\u001b[0m_backend\u001b[0m\u001b[0;34m.\u001b[0m\u001b[0mretrieval_context\u001b[0m\u001b[0;34m(\u001b[0m\u001b[0;34m)\u001b[0m\u001b[0;34m:\u001b[0m\u001b[0;34m\u001b[0m\u001b[0;34m\u001b[0m\u001b[0m\n\u001b[0;32m--> 930\u001b[0;31m                 \u001b[0mself\u001b[0m\u001b[0;34m.\u001b[0m\u001b[0mretrieve\u001b[0m\u001b[0;34m(\u001b[0m\u001b[0;34m)\u001b[0m\u001b[0;34m\u001b[0m\u001b[0;34m\u001b[0m\u001b[0m\n\u001b[0m\u001b[1;32m    931\u001b[0m             \u001b[0;31m# Make sure that we get a last message telling us we are done\u001b[0m\u001b[0;34m\u001b[0m\u001b[0;34m\u001b[0m\u001b[0;34m\u001b[0m\u001b[0m\n\u001b[1;32m    932\u001b[0m             \u001b[0melapsed_time\u001b[0m \u001b[0;34m=\u001b[0m \u001b[0mtime\u001b[0m\u001b[0;34m.\u001b[0m\u001b[0mtime\u001b[0m\u001b[0;34m(\u001b[0m\u001b[0;34m)\u001b[0m \u001b[0;34m-\u001b[0m \u001b[0mself\u001b[0m\u001b[0;34m.\u001b[0m\u001b[0m_start_time\u001b[0m\u001b[0;34m\u001b[0m\u001b[0;34m\u001b[0m\u001b[0m\n",
            "\u001b[0;32m/usr/local/lib/python3.6/dist-packages/sklearn/externals/joblib/parallel.py\u001b[0m in \u001b[0;36mretrieve\u001b[0;34m(self)\u001b[0m\n\u001b[1;32m    831\u001b[0m             \u001b[0;32mtry\u001b[0m\u001b[0;34m:\u001b[0m\u001b[0;34m\u001b[0m\u001b[0;34m\u001b[0m\u001b[0m\n\u001b[1;32m    832\u001b[0m                 \u001b[0;32mif\u001b[0m \u001b[0mgetattr\u001b[0m\u001b[0;34m(\u001b[0m\u001b[0mself\u001b[0m\u001b[0;34m.\u001b[0m\u001b[0m_backend\u001b[0m\u001b[0;34m,\u001b[0m \u001b[0;34m'supports_timeout'\u001b[0m\u001b[0;34m,\u001b[0m \u001b[0;32mFalse\u001b[0m\u001b[0;34m)\u001b[0m\u001b[0;34m:\u001b[0m\u001b[0;34m\u001b[0m\u001b[0;34m\u001b[0m\u001b[0m\n\u001b[0;32m--> 833\u001b[0;31m                     \u001b[0mself\u001b[0m\u001b[0;34m.\u001b[0m\u001b[0m_output\u001b[0m\u001b[0;34m.\u001b[0m\u001b[0mextend\u001b[0m\u001b[0;34m(\u001b[0m\u001b[0mjob\u001b[0m\u001b[0;34m.\u001b[0m\u001b[0mget\u001b[0m\u001b[0;34m(\u001b[0m\u001b[0mtimeout\u001b[0m\u001b[0;34m=\u001b[0m\u001b[0mself\u001b[0m\u001b[0;34m.\u001b[0m\u001b[0mtimeout\u001b[0m\u001b[0;34m)\u001b[0m\u001b[0;34m)\u001b[0m\u001b[0;34m\u001b[0m\u001b[0;34m\u001b[0m\u001b[0m\n\u001b[0m\u001b[1;32m    834\u001b[0m                 \u001b[0;32melse\u001b[0m\u001b[0;34m:\u001b[0m\u001b[0;34m\u001b[0m\u001b[0;34m\u001b[0m\u001b[0m\n\u001b[1;32m    835\u001b[0m                     \u001b[0mself\u001b[0m\u001b[0;34m.\u001b[0m\u001b[0m_output\u001b[0m\u001b[0;34m.\u001b[0m\u001b[0mextend\u001b[0m\u001b[0;34m(\u001b[0m\u001b[0mjob\u001b[0m\u001b[0;34m.\u001b[0m\u001b[0mget\u001b[0m\u001b[0;34m(\u001b[0m\u001b[0;34m)\u001b[0m\u001b[0;34m)\u001b[0m\u001b[0;34m\u001b[0m\u001b[0;34m\u001b[0m\u001b[0m\n",
            "\u001b[0;32m/usr/local/lib/python3.6/dist-packages/sklearn/externals/joblib/_parallel_backends.py\u001b[0m in \u001b[0;36mwrap_future_result\u001b[0;34m(future, timeout)\u001b[0m\n\u001b[1;32m    519\u001b[0m         AsyncResults.get from multiprocessing.\"\"\"\n\u001b[1;32m    520\u001b[0m         \u001b[0;32mtry\u001b[0m\u001b[0;34m:\u001b[0m\u001b[0;34m\u001b[0m\u001b[0;34m\u001b[0m\u001b[0m\n\u001b[0;32m--> 521\u001b[0;31m             \u001b[0;32mreturn\u001b[0m \u001b[0mfuture\u001b[0m\u001b[0;34m.\u001b[0m\u001b[0mresult\u001b[0m\u001b[0;34m(\u001b[0m\u001b[0mtimeout\u001b[0m\u001b[0;34m=\u001b[0m\u001b[0mtimeout\u001b[0m\u001b[0;34m)\u001b[0m\u001b[0;34m\u001b[0m\u001b[0;34m\u001b[0m\u001b[0m\n\u001b[0m\u001b[1;32m    522\u001b[0m         \u001b[0;32mexcept\u001b[0m \u001b[0mLokyTimeoutError\u001b[0m\u001b[0;34m:\u001b[0m\u001b[0;34m\u001b[0m\u001b[0;34m\u001b[0m\u001b[0m\n\u001b[1;32m    523\u001b[0m             \u001b[0;32mraise\u001b[0m \u001b[0mTimeoutError\u001b[0m\u001b[0;34m(\u001b[0m\u001b[0;34m)\u001b[0m\u001b[0;34m\u001b[0m\u001b[0;34m\u001b[0m\u001b[0m\n",
            "\u001b[0;32m/usr/lib/python3.6/concurrent/futures/_base.py\u001b[0m in \u001b[0;36mresult\u001b[0;34m(self, timeout)\u001b[0m\n\u001b[1;32m    425\u001b[0m                 \u001b[0;32mreturn\u001b[0m \u001b[0mself\u001b[0m\u001b[0;34m.\u001b[0m\u001b[0m__get_result\u001b[0m\u001b[0;34m(\u001b[0m\u001b[0;34m)\u001b[0m\u001b[0;34m\u001b[0m\u001b[0;34m\u001b[0m\u001b[0m\n\u001b[1;32m    426\u001b[0m \u001b[0;34m\u001b[0m\u001b[0m\n\u001b[0;32m--> 427\u001b[0;31m             \u001b[0mself\u001b[0m\u001b[0;34m.\u001b[0m\u001b[0m_condition\u001b[0m\u001b[0;34m.\u001b[0m\u001b[0mwait\u001b[0m\u001b[0;34m(\u001b[0m\u001b[0mtimeout\u001b[0m\u001b[0;34m)\u001b[0m\u001b[0;34m\u001b[0m\u001b[0;34m\u001b[0m\u001b[0m\n\u001b[0m\u001b[1;32m    428\u001b[0m \u001b[0;34m\u001b[0m\u001b[0m\n\u001b[1;32m    429\u001b[0m             \u001b[0;32mif\u001b[0m \u001b[0mself\u001b[0m\u001b[0;34m.\u001b[0m\u001b[0m_state\u001b[0m \u001b[0;32min\u001b[0m \u001b[0;34m[\u001b[0m\u001b[0mCANCELLED\u001b[0m\u001b[0;34m,\u001b[0m \u001b[0mCANCELLED_AND_NOTIFIED\u001b[0m\u001b[0;34m]\u001b[0m\u001b[0;34m:\u001b[0m\u001b[0;34m\u001b[0m\u001b[0;34m\u001b[0m\u001b[0m\n",
            "\u001b[0;32m/usr/lib/python3.6/threading.py\u001b[0m in \u001b[0;36mwait\u001b[0;34m(self, timeout)\u001b[0m\n\u001b[1;32m    293\u001b[0m         \u001b[0;32mtry\u001b[0m\u001b[0;34m:\u001b[0m    \u001b[0;31m# restore state no matter what (e.g., KeyboardInterrupt)\u001b[0m\u001b[0;34m\u001b[0m\u001b[0;34m\u001b[0m\u001b[0m\n\u001b[1;32m    294\u001b[0m             \u001b[0;32mif\u001b[0m \u001b[0mtimeout\u001b[0m \u001b[0;32mis\u001b[0m \u001b[0;32mNone\u001b[0m\u001b[0;34m:\u001b[0m\u001b[0;34m\u001b[0m\u001b[0;34m\u001b[0m\u001b[0m\n\u001b[0;32m--> 295\u001b[0;31m                 \u001b[0mwaiter\u001b[0m\u001b[0;34m.\u001b[0m\u001b[0macquire\u001b[0m\u001b[0;34m(\u001b[0m\u001b[0;34m)\u001b[0m\u001b[0;34m\u001b[0m\u001b[0;34m\u001b[0m\u001b[0m\n\u001b[0m\u001b[1;32m    296\u001b[0m                 \u001b[0mgotit\u001b[0m \u001b[0;34m=\u001b[0m \u001b[0;32mTrue\u001b[0m\u001b[0;34m\u001b[0m\u001b[0;34m\u001b[0m\u001b[0m\n\u001b[1;32m    297\u001b[0m             \u001b[0;32melse\u001b[0m\u001b[0;34m:\u001b[0m\u001b[0;34m\u001b[0m\u001b[0;34m\u001b[0m\u001b[0m\n",
            "\u001b[0;31mKeyboardInterrupt\u001b[0m: "
          ]
        }
      ]
    },
    {
      "metadata": {
        "id": "qEYm42-YSpds",
        "colab_type": "code",
        "colab": {}
      },
      "cell_type": "code",
      "source": [
        "log_regr(tracks_clean, multi_class = 'multinomial', solver = 'newton-cg',\n",
        "         max_iter = 1000)"
      ],
      "execution_count": 0,
      "outputs": []
    },
    {
      "metadata": {
        "id": "f2jVu2RCSpdw",
        "colab_type": "code",
        "colab": {}
      },
      "cell_type": "code",
      "source": [
        "log_regr(tracks_clean, multi_class = 'multinomial', solver = 'sag',\n",
        "         max_iter = 10000)"
      ],
      "execution_count": 0,
      "outputs": []
    },
    {
      "metadata": {
        "id": "UQumVjJLSpdz",
        "colab_type": "code",
        "colab": {}
      },
      "cell_type": "code",
      "source": [
        "log_regr(tracks_clean, multi_class = 'multinomial', solver = 'saga',\n",
        "         max_iter = 10000)"
      ],
      "execution_count": 0,
      "outputs": []
    },
    {
      "metadata": {
        "id": "SAXRbdQdSpd2",
        "colab_type": "text"
      },
      "cell_type": "markdown",
      "source": [
        "### Looks like with all the columns, we will only get a score of 0.39\n",
        "### Let's see which features are best to include and which ones are not with the full dataset."
      ]
    },
    {
      "metadata": {
        "id": "HMd75OCJSpd2",
        "colab_type": "text"
      },
      "cell_type": "markdown",
      "source": [
        "### Let's look at the categorical features first"
      ]
    },
    {
      "metadata": {
        "id": "68pK6dmnSpd4",
        "colab_type": "code",
        "colab": {}
      },
      "cell_type": "code",
      "source": [
        "tracks_categorical = tracks.select_dtypes('O').copy()\n",
        "tracks_categorical.head()"
      ],
      "execution_count": 0,
      "outputs": []
    },
    {
      "metadata": {
        "id": "PyHH7hciSpd7",
        "colab_type": "text"
      },
      "cell_type": "markdown",
      "source": [
        "### Remove all rows where the target is null"
      ]
    },
    {
      "metadata": {
        "id": "p2kjSjk2Spd8",
        "colab_type": "code",
        "colab": {}
      },
      "cell_type": "code",
      "source": [
        "print('tracks_categorical.shape before:', tracks_categorical.shape)\n",
        "tracks_categorical = tracks_categorical[tracks_categorical['track genre_top'].notnull()]\n",
        "print('tracks_categorical.shape after :', tracks_categorical.shape)"
      ],
      "execution_count": 0,
      "outputs": []
    },
    {
      "metadata": {
        "id": "YW_IlANvSpeA",
        "colab_type": "code",
        "colab": {}
      },
      "cell_type": "code",
      "source": [
        "print('tracks_categorical.shape:', tracks_categorical.shape)\n",
        "tracks_categorical.isnull().sum()"
      ],
      "execution_count": 0,
      "outputs": []
    },
    {
      "metadata": {
        "id": "vEQRAdMkSpeB",
        "colab_type": "text"
      },
      "cell_type": "markdown",
      "source": [
        "### Remove all columns that have more than a certain percentage of zeros"
      ]
    },
    {
      "metadata": {
        "id": "WpK4zNg6SpeC",
        "colab_type": "code",
        "colab": {}
      },
      "cell_type": "code",
      "source": [
        "def drop_columns(df, percentage_zeroes):\n",
        "    cols = df.columns\n",
        "    num_rows = df.shape[0]\n",
        "    \n",
        "    # Look for column idices to drop from the right to the left.\n",
        "    # This way, each index is valid after a drop.\n",
        "    for i in range(len(cols) - 1, 0, -1):\n",
        "        num_zeroes = tracks_categorical.iloc[:, i].isnull().sum()\n",
        "        if (num_zeroes / num_rows) > (percentage_zeroes / 100):\n",
        "            df.drop(cols[i], axis = 1, inplace = True)\n",
        "            print('Dropped: {:>40s}    Number of zeroes: {}'.format(cols[i], num_zeroes))\n",
        "            \n",
        "drop_columns(tracks_categorical, 50)"
      ],
      "execution_count": 0,
      "outputs": []
    },
    {
      "metadata": {
        "id": "CPW5r-SNSpeE",
        "colab_type": "code",
        "colab": {}
      },
      "cell_type": "code",
      "source": [
        "print('tracks_categorical.shape:', tracks_categorical.shape)\n",
        "tracks_categorical.head()"
      ],
      "execution_count": 0,
      "outputs": []
    },
    {
      "metadata": {
        "id": "x4SFpW_DSpeG",
        "colab_type": "text"
      },
      "cell_type": "markdown",
      "source": [
        "### Remove columns we don't think are useful"
      ]
    },
    {
      "metadata": {
        "id": "7JWwxJRNSpeH",
        "colab_type": "code",
        "colab": {}
      },
      "cell_type": "code",
      "source": [
        "tracks_categorical.drop(['album date_created', 'album date_released',\n",
        "                         'album information', 'album title',\n",
        "                         'artist bio', 'artist date_created',\n",
        "                         'artist location', 'artist name',\n",
        "                         'artist website', 'track date_created',\n",
        "                         'track license', 'track title'], \n",
        "                        axis = 'columns', inplace = True)"
      ],
      "execution_count": 0,
      "outputs": []
    },
    {
      "metadata": {
        "id": "96zs3hc9SpeJ",
        "colab_type": "code",
        "colab": {}
      },
      "cell_type": "code",
      "source": [
        "tracks_categorical.head()"
      ],
      "execution_count": 0,
      "outputs": []
    },
    {
      "metadata": {
        "id": "hqWDXccISpeK",
        "colab_type": "text"
      },
      "cell_type": "markdown",
      "source": [
        "# From here onwards, it is work in progress"
      ]
    },
    {
      "metadata": {
        "id": "_Zk62eCmSpeL",
        "colab_type": "code",
        "colab": {}
      },
      "cell_type": "code",
      "source": [
        "album_tags = tracks_categorical['album tags'].str.extractall(r\"'(?P<album_tags_extracted>[\\w\\d ]*)',+\\s+\")\n",
        "tracks_categorical.merge(album_tags, how = 'outer', left_index = True, right_index = True)\n",
        "# print('len(album_tags.index):', len(album_tags.index))"
      ],
      "execution_count": 0,
      "outputs": []
    },
    {
      "metadata": {
        "id": "YzgVmhzlSpeQ",
        "colab_type": "code",
        "colab": {}
      },
      "cell_type": "code",
      "source": [
        "len(tracks_categorical.index)"
      ],
      "execution_count": 0,
      "outputs": []
    },
    {
      "metadata": {
        "id": "726rSBI0SpeS",
        "colab_type": "code",
        "colab": {}
      },
      "cell_type": "code",
      "source": [
        "album_tags.head()"
      ],
      "execution_count": 0,
      "outputs": []
    },
    {
      "metadata": {
        "id": "T6hSCu8iSpeU",
        "colab_type": "code",
        "colab": {}
      },
      "cell_type": "code",
      "source": [
        ""
      ],
      "execution_count": 0,
      "outputs": []
    },
    {
      "metadata": {
        "id": "qn0BZYe_SpeU",
        "colab_type": "code",
        "colab": {}
      },
      "cell_type": "code",
      "source": [
        "def print_ndarray(a):\n",
        "    for i in range(0, len(a), 10):\n",
        "        for j in range(i, i + 10):\n",
        "            print(a[i], end = ',')\n",
        "        print()\n",
        "# print_ndarray(tracks_categorical['track genre_top'].values)\n",
        "# print(np.argwhere(tracks_categorical['track genre_top'].values == ''))\n",
        "tracks_categorical['track genre_top'].isnull().sum()"
      ],
      "execution_count": 0,
      "outputs": []
    },
    {
      "metadata": {
        "id": "PDIpZLItSpeV",
        "colab_type": "code",
        "colab": {}
      },
      "cell_type": "code",
      "source": [
        "print_ndarray(tracks_categorical['album tags'].unique())"
      ],
      "execution_count": 0,
      "outputs": []
    },
    {
      "metadata": {
        "id": "YCAPzxdsSpeX",
        "colab_type": "code",
        "colab": {}
      },
      "cell_type": "code",
      "source": [
        "print_ndarray(tracks_categorical['track title'].values)"
      ],
      "execution_count": 0,
      "outputs": []
    },
    {
      "metadata": {
        "id": "v2BR1AwXSpeb",
        "colab_type": "code",
        "colab": {}
      },
      "cell_type": "code",
      "source": [
        "def correlation_ratio(categories, measurements):\n",
        "    fcat, _ = pd.factorize(categories)\n",
        "    cat_num = np.max(fcat)+1\n",
        "    y_avg_array = np.zeros(cat_num)\n",
        "    n_array = np.zeros(cat_num)\n",
        "    # print('cat_num:', cat_num)\n",
        "    # print('len(fcat):', len(fcat))\n",
        "    print_ndarray(fcat)\n",
        "    for i in range(0,cat_num):\n",
        "        \n",
        "        print('i:', i, 'cat_measures:', cat_measures)\n",
        "        \n",
        "        cat_measures = measurements[np.argwhere(fcat == i).flatten()]\n",
        "        n_array[i] = len(cat_measures)\n",
        "        y_avg_array[i] = np.average(cat_measures)\n",
        "    y_total_avg = np.sum(np.multiply(y_avg_array,n_array))/np.sum(n_array)\n",
        "    numerator = np.sum(np.multiply(n_array,np.power(np.subtract(y_avg_array,y_total_avg),2)))\n",
        "    denominator = np.sum(np.power(np.subtract(measurements,y_total_avg),2))\n",
        "    if numerator == 0:\n",
        "        eta = 0.0\n",
        "    else:\n",
        "        eta = numerator/denominator\n",
        "    return eta"
      ],
      "execution_count": 0,
      "outputs": []
    },
    {
      "metadata": {
        "id": "TG3ggzexSpee",
        "colab_type": "code",
        "colab": {}
      },
      "cell_type": "code",
      "source": [
        "X = tracks_categorical.drop(['track genre_top'], axis = 1).astype('category')\n",
        "y = tracks_categorical['track genre_top']\n",
        "\n",
        "cols = X.columns\n",
        "for i in range(len(cols)):\n",
        "    print('i:', i)\n",
        "    corr_ratio = correlation_ratio(X[cols[i]], y)\n",
        "    print('Correlation ration of: {:>20s}   with \"track genre_top\" is:', corr_ratio)"
      ],
      "execution_count": 0,
      "outputs": []
    },
    {
      "metadata": {
        "colab_type": "text",
        "id": "wlI5OXfSag9C"
      },
      "cell_type": "markdown",
      "source": [
        "## Resources and stretch goals\n",
        "\n",
        "- Check out the other .csv files from the FMA dataset, and see if you can join them or otherwise fit interesting models with them\n",
        "- [Logistic regression from scratch in numpy](https://blog.goodaudience.com/logistic-regression-from-scratch-in-numpy-5841c09e425f) - if you want to dig in a bit more to both the code and math (also takes a gradient descent approach, introducing the logistic loss function)\n",
        "- Create a visualization to show predictions of your model - ideally show a confidence interval based on error!\n",
        "- Check out and compare classification models from scikit-learn, such as [SVM](https://scikit-learn.org/stable/modules/svm.html#classification), [decision trees](https://scikit-learn.org/stable/modules/tree.html#classification), and [naive Bayes](https://scikit-learn.org/stable/modules/naive_bayes.html). The underlying math will vary significantly, but the API (how you write the code) and interpretation will actually be fairly similar.\n",
        "- Sign up for [Kaggle](https://kaggle.com), and find a competition to try logistic regression with\n",
        "- (Not logistic regression related) If you enjoyed the assignment, you may want to read up on [music informatics](https://en.wikipedia.org/wiki/Music_informatics), which is how those audio features were actually calculated. The FMA includes the actual raw audio, so (while this is more of a longterm project than a stretch goal, and won't fit in Colab) if you'd like you can check those out and see what sort of deeper analysis you can do."
      ]
    }
  ]
}