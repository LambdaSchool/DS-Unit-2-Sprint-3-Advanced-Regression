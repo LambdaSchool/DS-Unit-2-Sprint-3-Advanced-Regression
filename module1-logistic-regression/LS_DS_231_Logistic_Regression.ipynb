{
  "nbformat": 4,
  "nbformat_minor": 0,
  "metadata": {
    "colab": {
      "name": "LS_DS_231_Logistic_Regression.ipynb",
      "version": "0.3.2",
      "provenance": [],
      "include_colab_link": true
    },
    "kernelspec": {
      "name": "python3",
      "display_name": "Python 3"
    }
  },
  "cells": [
    {
      "cell_type": "markdown",
      "metadata": {
        "id": "view-in-github",
        "colab_type": "text"
      },
      "source": [
        "<a href=\"https://colab.research.google.com/github/invegat/DS-Unit-2-Sprint-3-Advanced-Regression/blob/master/module1-logistic-regression/LS_DS_231_Logistic_Regression.ipynb\" target=\"_parent\"><img src=\"https://colab.research.google.com/assets/colab-badge.svg\" alt=\"Open In Colab\"/></a>"
      ]
    },
    {
      "metadata": {
        "id": "N7SXF6jEBd5_",
        "colab_type": "text"
      },
      "cell_type": "markdown",
      "source": [
        "# Lambda School Data Science - Logistic Regression\n",
        "\n",
        "Logistic regression is the baseline for classification models, as well as a handy way to predict probabilities (since those too live in the unit interval). While relatively simple, it is also the foundation for more sophisticated classification techniques such as neural networks (many of which can effectively be thought of as networks of logistic models)."
      ]
    },
    {
      "metadata": {
        "id": "E7-AOngjadRN",
        "colab_type": "text"
      },
      "cell_type": "markdown",
      "source": [
        "## Lecture - Where Linear goes Wrong\n",
        "### Return of the Titanic 🚢\n",
        "\n",
        "You've likely already explored the rich dataset that is the Titanic - let's use regression and try to predict survival with it. The data is [available from Kaggle](https://www.kaggle.com/c/titanic/data), so we'll also play a bit with [the Kaggle API](https://github.com/Kaggle/kaggle-api)."
      ]
    },
    {
      "metadata": {
        "id": "MnHLWPYDcyIe",
        "colab_type": "code",
        "outputId": "c89c1135-cde7-4335-8002-7f8ee9b1e084",
        "colab": {
          "base_uri": "https://localhost:8080/",
          "height": 178
        }
      },
      "cell_type": "code",
      "source": [
        "!pip install -U matplotlib"
      ],
      "execution_count": 0,
      "outputs": [
        {
          "output_type": "stream",
          "text": [
            "Requirement already up-to-date: matplotlib in /usr/local/lib/python3.6/dist-packages (3.0.2)\n",
            "Requirement already satisfied, skipping upgrade: numpy>=1.10.0 in /usr/local/lib/python3.6/dist-packages (from matplotlib) (1.14.6)\n",
            "Requirement already satisfied, skipping upgrade: kiwisolver>=1.0.1 in /usr/local/lib/python3.6/dist-packages (from matplotlib) (1.0.1)\n",
            "Requirement already satisfied, skipping upgrade: pyparsing!=2.0.4,!=2.1.2,!=2.1.6,>=2.0.1 in /usr/local/lib/python3.6/dist-packages (from matplotlib) (2.3.1)\n",
            "Requirement already satisfied, skipping upgrade: python-dateutil>=2.1 in /usr/local/lib/python3.6/dist-packages (from matplotlib) (2.5.3)\n",
            "Requirement already satisfied, skipping upgrade: cycler>=0.10 in /usr/local/lib/python3.6/dist-packages (from matplotlib) (0.10.0)\n",
            "Requirement already satisfied, skipping upgrade: setuptools in /usr/local/lib/python3.6/dist-packages (from kiwisolver>=1.0.1->matplotlib) (40.6.3)\n",
            "Requirement already satisfied, skipping upgrade: six>=1.5 in /usr/local/lib/python3.6/dist-packages (from python-dateutil>=2.1->matplotlib) (1.11.0)\n"
          ],
          "name": "stdout"
        }
      ]
    },
    {
      "metadata": {
        "id": "vwqWRNAaFT4T",
        "colab_type": "code",
        "outputId": "323101d4-cc4a-4b36-9afa-0ad38bf578d9",
        "colab": {
          "base_uri": "https://localhost:8080/",
          "height": 34
        }
      },
      "cell_type": "code",
      "source": [
        "\n",
        "%matplotlib inline  \n",
        "# %matplotlib notebook\n",
        "# %pylab\n",
        "import matplotlib\n",
        "matplotlib._version.sys.version"
      ],
      "execution_count": 0,
      "outputs": [
        {
          "output_type": "execute_result",
          "data": {
            "text/plain": [
              "'3.6.7 (default, Oct 22 2018, 11:32:17) \\n[GCC 8.2.0]'"
            ]
          },
          "metadata": {
            "tags": []
          },
          "execution_count": 1
        }
      ]
    },
    {
      "metadata": {
        "id": "sclu3kUyFvuR",
        "colab_type": "code",
        "outputId": "276ba475-c699-4d31-8f14-ccce6bbe5046",
        "colab": {
          "base_uri": "https://localhost:8080/",
          "height": 231
        }
      },
      "cell_type": "code",
      "source": [
        "!pip install kaggle"
      ],
      "execution_count": 0,
      "outputs": [
        {
          "output_type": "stream",
          "text": [
            "Requirement already satisfied: kaggle in /usr/local/lib/python3.6/dist-packages (1.5.1.1)\n",
            "Requirement already satisfied: urllib3<1.23.0,>=1.15 in /usr/local/lib/python3.6/dist-packages (from kaggle) (1.22)\n",
            "Requirement already satisfied: six>=1.10 in /usr/local/lib/python3.6/dist-packages (from kaggle) (1.11.0)\n",
            "Requirement already satisfied: certifi in /usr/local/lib/python3.6/dist-packages (from kaggle) (2018.11.29)\n",
            "Requirement already satisfied: python-dateutil in /usr/local/lib/python3.6/dist-packages (from kaggle) (2.5.3)\n",
            "Requirement already satisfied: requests in /usr/local/lib/python3.6/dist-packages (from kaggle) (2.18.4)\n",
            "Requirement already satisfied: tqdm in /usr/local/lib/python3.6/dist-packages (from kaggle) (4.28.1)\n",
            "Requirement already satisfied: python-slugify in /usr/local/lib/python3.6/dist-packages (from kaggle) (2.0.1)\n",
            "Requirement already satisfied: chardet<3.1.0,>=3.0.2 in /usr/local/lib/python3.6/dist-packages (from requests->kaggle) (3.0.4)\n",
            "Requirement already satisfied: idna<2.7,>=2.5 in /usr/local/lib/python3.6/dist-packages (from requests->kaggle) (2.6)\n",
            "Requirement already satisfied: Unidecode>=0.04.16 in /usr/local/lib/python3.6/dist-packages (from python-slugify->kaggle) (1.0.23)\n"
          ],
          "name": "stdout"
        }
      ]
    },
    {
      "metadata": {
        "id": "wPgce-jQc5zi",
        "colab_type": "code",
        "outputId": "fc8f30f7-f0b3-4865-aafc-c45961082659",
        "colab": {
          "base_uri": "https://localhost:8080/",
          "height": 105
        }
      },
      "cell_type": "code",
      "source": [
        "# Note - you'll also have to sign up for Kaggle and authorize the API\n",
        "# https://github.com/Kaggle/kaggle-api#api-credentials\n",
        "\n",
        "# This essentially means uploading a kaggle.json file\n",
        "# For Colab we can have it in Google Drive\n",
        "from google.colab import drive\n",
        "drive.mount('/content/drive')\n",
        "%env KAGGLE_CONFIG_DIR=/content/drive/My Drive/downloads/\n",
        "\n",
        "# You also have to join the Titanic competition to have access to the data\n",
        "!kaggle competitions download -c titanic"
      ],
      "execution_count": 0,
      "outputs": [
        {
          "output_type": "stream",
          "text": [
            "Drive already mounted at /content/drive; to attempt to forcibly remount, call drive.mount(\"/content/drive\", force_remount=True).\n",
            "env: KAGGLE_CONFIG_DIR=/content/drive/My Drive/downloads/\n",
            "train.csv: Skipping, found more recently modified local copy (use --force to force download)\n",
            "test.csv: Skipping, found more recently modified local copy (use --force to force download)\n",
            "gender_submission.csv: Skipping, found more recently modified local copy (use --force to force download)\n"
          ],
          "name": "stdout"
        }
      ]
    },
    {
      "metadata": {
        "id": "-PtztP8YlFym",
        "colab_type": "code",
        "outputId": "f5741b68-4dec-4c11-eaa4-4f2917177372",
        "colab": {
          "base_uri": "https://localhost:8080/",
          "height": 223
        }
      },
      "cell_type": "code",
      "source": [
        "# How would we try to do this with linear regression?\n",
        "import pandas as pd\n",
        "\n",
        "train_df = pd.read_csv('train.csv').dropna()\n",
        "test_df = pd.read_csv('test.csv').dropna()  # Unlabeled, for Kaggle submission\n",
        "\n",
        "train_df.head()"
      ],
      "execution_count": 0,
      "outputs": [
        {
          "output_type": "execute_result",
          "data": {
            "text/html": [
              "<div>\n",
              "<style scoped>\n",
              "    .dataframe tbody tr th:only-of-type {\n",
              "        vertical-align: middle;\n",
              "    }\n",
              "\n",
              "    .dataframe tbody tr th {\n",
              "        vertical-align: top;\n",
              "    }\n",
              "\n",
              "    .dataframe thead th {\n",
              "        text-align: right;\n",
              "    }\n",
              "</style>\n",
              "<table border=\"1\" class=\"dataframe\">\n",
              "  <thead>\n",
              "    <tr style=\"text-align: right;\">\n",
              "      <th></th>\n",
              "      <th>PassengerId</th>\n",
              "      <th>Survived</th>\n",
              "      <th>Pclass</th>\n",
              "      <th>Name</th>\n",
              "      <th>Sex</th>\n",
              "      <th>Age</th>\n",
              "      <th>SibSp</th>\n",
              "      <th>Parch</th>\n",
              "      <th>Ticket</th>\n",
              "      <th>Fare</th>\n",
              "      <th>Cabin</th>\n",
              "      <th>Embarked</th>\n",
              "    </tr>\n",
              "  </thead>\n",
              "  <tbody>\n",
              "    <tr>\n",
              "      <th>1</th>\n",
              "      <td>2</td>\n",
              "      <td>1</td>\n",
              "      <td>1</td>\n",
              "      <td>Cumings, Mrs. John Bradley (Florence Briggs Th...</td>\n",
              "      <td>female</td>\n",
              "      <td>38.0</td>\n",
              "      <td>1</td>\n",
              "      <td>0</td>\n",
              "      <td>PC 17599</td>\n",
              "      <td>71.2833</td>\n",
              "      <td>C85</td>\n",
              "      <td>C</td>\n",
              "    </tr>\n",
              "    <tr>\n",
              "      <th>3</th>\n",
              "      <td>4</td>\n",
              "      <td>1</td>\n",
              "      <td>1</td>\n",
              "      <td>Futrelle, Mrs. Jacques Heath (Lily May Peel)</td>\n",
              "      <td>female</td>\n",
              "      <td>35.0</td>\n",
              "      <td>1</td>\n",
              "      <td>0</td>\n",
              "      <td>113803</td>\n",
              "      <td>53.1000</td>\n",
              "      <td>C123</td>\n",
              "      <td>S</td>\n",
              "    </tr>\n",
              "    <tr>\n",
              "      <th>6</th>\n",
              "      <td>7</td>\n",
              "      <td>0</td>\n",
              "      <td>1</td>\n",
              "      <td>McCarthy, Mr. Timothy J</td>\n",
              "      <td>male</td>\n",
              "      <td>54.0</td>\n",
              "      <td>0</td>\n",
              "      <td>0</td>\n",
              "      <td>17463</td>\n",
              "      <td>51.8625</td>\n",
              "      <td>E46</td>\n",
              "      <td>S</td>\n",
              "    </tr>\n",
              "    <tr>\n",
              "      <th>10</th>\n",
              "      <td>11</td>\n",
              "      <td>1</td>\n",
              "      <td>3</td>\n",
              "      <td>Sandstrom, Miss. Marguerite Rut</td>\n",
              "      <td>female</td>\n",
              "      <td>4.0</td>\n",
              "      <td>1</td>\n",
              "      <td>1</td>\n",
              "      <td>PP 9549</td>\n",
              "      <td>16.7000</td>\n",
              "      <td>G6</td>\n",
              "      <td>S</td>\n",
              "    </tr>\n",
              "    <tr>\n",
              "      <th>11</th>\n",
              "      <td>12</td>\n",
              "      <td>1</td>\n",
              "      <td>1</td>\n",
              "      <td>Bonnell, Miss. Elizabeth</td>\n",
              "      <td>female</td>\n",
              "      <td>58.0</td>\n",
              "      <td>0</td>\n",
              "      <td>0</td>\n",
              "      <td>113783</td>\n",
              "      <td>26.5500</td>\n",
              "      <td>C103</td>\n",
              "      <td>S</td>\n",
              "    </tr>\n",
              "  </tbody>\n",
              "</table>\n",
              "</div>"
            ],
            "text/plain": [
              "    PassengerId  Survived  Pclass  \\\n",
              "1             2         1       1   \n",
              "3             4         1       1   \n",
              "6             7         0       1   \n",
              "10           11         1       3   \n",
              "11           12         1       1   \n",
              "\n",
              "                                                 Name     Sex   Age  SibSp  \\\n",
              "1   Cumings, Mrs. John Bradley (Florence Briggs Th...  female  38.0      1   \n",
              "3        Futrelle, Mrs. Jacques Heath (Lily May Peel)  female  35.0      1   \n",
              "6                             McCarthy, Mr. Timothy J    male  54.0      0   \n",
              "10                    Sandstrom, Miss. Marguerite Rut  female   4.0      1   \n",
              "11                           Bonnell, Miss. Elizabeth  female  58.0      0   \n",
              "\n",
              "    Parch    Ticket     Fare Cabin Embarked  \n",
              "1       0  PC 17599  71.2833   C85        C  \n",
              "3       0    113803  53.1000  C123        S  \n",
              "6       0     17463  51.8625   E46        S  \n",
              "10      1   PP 9549  16.7000    G6        S  \n",
              "11      0    113783  26.5500  C103        S  "
            ]
          },
          "metadata": {
            "tags": []
          },
          "execution_count": 4
        }
      ]
    },
    {
      "metadata": {
        "id": "Ey2ZHrGW_n_t",
        "colab_type": "code",
        "outputId": "80f46a0f-d35b-476e-aef8-f3d1247030f9",
        "colab": {
          "base_uri": "https://localhost:8080/",
          "height": 300
        }
      },
      "cell_type": "code",
      "source": [
        "train_df.describe()"
      ],
      "execution_count": 0,
      "outputs": [
        {
          "output_type": "execute_result",
          "data": {
            "text/html": [
              "<div>\n",
              "<style scoped>\n",
              "    .dataframe tbody tr th:only-of-type {\n",
              "        vertical-align: middle;\n",
              "    }\n",
              "\n",
              "    .dataframe tbody tr th {\n",
              "        vertical-align: top;\n",
              "    }\n",
              "\n",
              "    .dataframe thead th {\n",
              "        text-align: right;\n",
              "    }\n",
              "</style>\n",
              "<table border=\"1\" class=\"dataframe\">\n",
              "  <thead>\n",
              "    <tr style=\"text-align: right;\">\n",
              "      <th></th>\n",
              "      <th>PassengerId</th>\n",
              "      <th>Survived</th>\n",
              "      <th>Pclass</th>\n",
              "      <th>Age</th>\n",
              "      <th>SibSp</th>\n",
              "      <th>Parch</th>\n",
              "      <th>Fare</th>\n",
              "    </tr>\n",
              "  </thead>\n",
              "  <tbody>\n",
              "    <tr>\n",
              "      <th>count</th>\n",
              "      <td>183.000000</td>\n",
              "      <td>183.000000</td>\n",
              "      <td>183.000000</td>\n",
              "      <td>183.000000</td>\n",
              "      <td>183.000000</td>\n",
              "      <td>183.000000</td>\n",
              "      <td>183.000000</td>\n",
              "    </tr>\n",
              "    <tr>\n",
              "      <th>mean</th>\n",
              "      <td>455.366120</td>\n",
              "      <td>0.672131</td>\n",
              "      <td>1.191257</td>\n",
              "      <td>35.674426</td>\n",
              "      <td>0.464481</td>\n",
              "      <td>0.475410</td>\n",
              "      <td>78.682469</td>\n",
              "    </tr>\n",
              "    <tr>\n",
              "      <th>std</th>\n",
              "      <td>247.052476</td>\n",
              "      <td>0.470725</td>\n",
              "      <td>0.515187</td>\n",
              "      <td>15.643866</td>\n",
              "      <td>0.644159</td>\n",
              "      <td>0.754617</td>\n",
              "      <td>76.347843</td>\n",
              "    </tr>\n",
              "    <tr>\n",
              "      <th>min</th>\n",
              "      <td>2.000000</td>\n",
              "      <td>0.000000</td>\n",
              "      <td>1.000000</td>\n",
              "      <td>0.920000</td>\n",
              "      <td>0.000000</td>\n",
              "      <td>0.000000</td>\n",
              "      <td>0.000000</td>\n",
              "    </tr>\n",
              "    <tr>\n",
              "      <th>25%</th>\n",
              "      <td>263.500000</td>\n",
              "      <td>0.000000</td>\n",
              "      <td>1.000000</td>\n",
              "      <td>24.000000</td>\n",
              "      <td>0.000000</td>\n",
              "      <td>0.000000</td>\n",
              "      <td>29.700000</td>\n",
              "    </tr>\n",
              "    <tr>\n",
              "      <th>50%</th>\n",
              "      <td>457.000000</td>\n",
              "      <td>1.000000</td>\n",
              "      <td>1.000000</td>\n",
              "      <td>36.000000</td>\n",
              "      <td>0.000000</td>\n",
              "      <td>0.000000</td>\n",
              "      <td>57.000000</td>\n",
              "    </tr>\n",
              "    <tr>\n",
              "      <th>75%</th>\n",
              "      <td>676.000000</td>\n",
              "      <td>1.000000</td>\n",
              "      <td>1.000000</td>\n",
              "      <td>47.500000</td>\n",
              "      <td>1.000000</td>\n",
              "      <td>1.000000</td>\n",
              "      <td>90.000000</td>\n",
              "    </tr>\n",
              "    <tr>\n",
              "      <th>max</th>\n",
              "      <td>890.000000</td>\n",
              "      <td>1.000000</td>\n",
              "      <td>3.000000</td>\n",
              "      <td>80.000000</td>\n",
              "      <td>3.000000</td>\n",
              "      <td>4.000000</td>\n",
              "      <td>512.329200</td>\n",
              "    </tr>\n",
              "  </tbody>\n",
              "</table>\n",
              "</div>"
            ],
            "text/plain": [
              "       PassengerId    Survived      Pclass         Age       SibSp  \\\n",
              "count   183.000000  183.000000  183.000000  183.000000  183.000000   \n",
              "mean    455.366120    0.672131    1.191257   35.674426    0.464481   \n",
              "std     247.052476    0.470725    0.515187   15.643866    0.644159   \n",
              "min       2.000000    0.000000    1.000000    0.920000    0.000000   \n",
              "25%     263.500000    0.000000    1.000000   24.000000    0.000000   \n",
              "50%     457.000000    1.000000    1.000000   36.000000    0.000000   \n",
              "75%     676.000000    1.000000    1.000000   47.500000    1.000000   \n",
              "max     890.000000    1.000000    3.000000   80.000000    3.000000   \n",
              "\n",
              "            Parch        Fare  \n",
              "count  183.000000  183.000000  \n",
              "mean     0.475410   78.682469  \n",
              "std      0.754617   76.347843  \n",
              "min      0.000000    0.000000  \n",
              "25%      0.000000   29.700000  \n",
              "50%      0.000000   57.000000  \n",
              "75%      1.000000   90.000000  \n",
              "max      4.000000  512.329200  "
            ]
          },
          "metadata": {
            "tags": []
          },
          "execution_count": 5
        }
      ]
    },
    {
      "metadata": {
        "id": "QiZn2p1K8DED",
        "colab_type": "code",
        "outputId": "1c5783d4-63ea-4e44-c776-ca8e5e8c19f0",
        "colab": {
          "base_uri": "https://localhost:8080/",
          "height": 34
        }
      },
      "cell_type": "code",
      "source": [
        "from sklearn.linear_model import LinearRegression\n",
        "\n",
        "X = train_df[['Pclass', 'Age', 'Fare']]\n",
        "y = train_df.Survived\n",
        "\n",
        "linear_reg = LinearRegression().fit(X, y)\n",
        "linear_reg.score(X, y)"
      ],
      "execution_count": 0,
      "outputs": [
        {
          "output_type": "execute_result",
          "data": {
            "text/plain": [
              "0.08389810726550917"
            ]
          },
          "metadata": {
            "tags": []
          },
          "execution_count": 6
        }
      ]
    },
    {
      "metadata": {
        "id": "8HsBb1hp_cev",
        "colab_type": "code",
        "outputId": "15c95112-ee01-4f17-8955-e3c2b9ffea01",
        "colab": {
          "base_uri": "https://localhost:8080/",
          "height": 335
        }
      },
      "cell_type": "code",
      "source": [
        "linear_reg.predict(test_df[['Pclass', 'Age', 'Fare']])"
      ],
      "execution_count": 0,
      "outputs": [
        {
          "output_type": "execute_result",
          "data": {
            "text/plain": [
              "array([0.79543117, 0.58610823, 0.67595121, 0.793829  , 0.62090522,\n",
              "       0.72542107, 0.59848968, 0.58734245, 0.48567063, 0.77627736,\n",
              "       0.84211887, 0.57052439, 0.7754689 , 0.96621114, 0.70287941,\n",
              "       0.57673837, 0.72321391, 0.75894755, 0.77968041, 0.50246003,\n",
              "       0.49858077, 0.7474959 , 0.3542282 , 0.61648435, 0.71300224,\n",
              "       0.66294608, 0.53175333, 0.77397395, 0.68419387, 0.68395536,\n",
              "       0.52041202, 0.56814038, 0.79586606, 0.81372012, 0.61068545,\n",
              "       0.57260627, 0.52525981, 0.58055388, 0.45584728, 0.67976208,\n",
              "       0.8226707 , 0.84286197, 0.96189157, 0.66724612, 0.68589478,\n",
              "       0.61846513, 0.63455044, 0.68275686, 0.65738372, 0.45198998,\n",
              "       0.59988596, 0.63845908, 0.63132487, 0.7888473 , 0.60126246,\n",
              "       0.79714045, 0.78713803, 0.54643775, 0.42823635, 0.7711724 ,\n",
              "       0.53552976, 0.55608044, 0.54480459, 0.57031915, 0.65080369,\n",
              "       0.77958926, 0.6371013 , 0.70993488, 0.71493598, 0.60375943,\n",
              "       0.54407206, 0.48186138, 0.76576089, 0.75456305, 0.53968359,\n",
              "       0.53814461, 0.51431245, 0.80091026, 0.54231482, 0.8260362 ,\n",
              "       0.58660686, 0.77766767, 0.60296337, 0.70098322, 0.63455044,\n",
              "       0.68309915, 0.67573142])"
            ]
          },
          "metadata": {
            "tags": []
          },
          "execution_count": 7
        }
      ]
    },
    {
      "metadata": {
        "id": "fcxfpsjdFJwM",
        "colab_type": "code",
        "outputId": "64269823-1ccb-4e67-f527-baa7034bf6b7",
        "colab": {
          "base_uri": "https://localhost:8080/",
          "height": 34
        }
      },
      "cell_type": "code",
      "source": [
        "linear_reg.coef_"
      ],
      "execution_count": 0,
      "outputs": [
        {
          "output_type": "execute_result",
          "data": {
            "text/plain": [
              "array([-0.08596295, -0.00829314,  0.00048775])"
            ]
          },
          "metadata": {
            "tags": []
          },
          "execution_count": 8
        }
      ]
    },
    {
      "metadata": {
        "id": "AFiisZU7_2Fr",
        "colab_type": "code",
        "outputId": "ed49d5d8-bb08-4463-ca8c-6d4ab83e0b0b",
        "colab": {
          "base_uri": "https://localhost:8080/",
          "height": 34
        }
      },
      "cell_type": "code",
      "source": [
        "import numpy as np\n",
        "\n",
        "test_case = np.array([[1, 5, 500]])  # Rich 5-year old in first class\n",
        "linear_reg.predict(test_case)"
      ],
      "execution_count": 0,
      "outputs": [
        {
          "output_type": "execute_result",
          "data": {
            "text/plain": [
              "array([1.14845883])"
            ]
          },
          "metadata": {
            "tags": []
          },
          "execution_count": 9
        }
      ]
    },
    {
      "metadata": {
        "id": "dpUm8Dl-u2aB",
        "colab_type": "code",
        "outputId": "b53ee68b-9954-4097-8a96-916167a292a7",
        "colab": {
          "base_uri": "https://localhost:8080/",
          "height": 34
        }
      },
      "cell_type": "code",
      "source": [
        "from sklearn.linear_model import LogisticRegression\n",
        "\n",
        "log_reg = LogisticRegression(solver='liblinear').fit(X, y)\n",
        "log_reg.score(X, y)"
      ],
      "execution_count": 0,
      "outputs": [
        {
          "output_type": "execute_result",
          "data": {
            "text/plain": [
              "0.7103825136612022"
            ]
          },
          "metadata": {
            "tags": []
          },
          "execution_count": 10
        }
      ]
    },
    {
      "metadata": {
        "id": "cUhr2c66F_th",
        "colab_type": "code",
        "outputId": "8377bb8d-da54-4203-d184-786d1b51ac2b",
        "colab": {
          "base_uri": "https://localhost:8080/",
          "height": 87
        }
      },
      "cell_type": "code",
      "source": [
        "log_reg.predict(test_df[['Pclass', 'Age', 'Fare']])"
      ],
      "execution_count": 0,
      "outputs": [
        {
          "output_type": "execute_result",
          "data": {
            "text/plain": [
              "array([1, 1, 1, 1, 1, 1, 1, 1, 1, 1, 1, 1, 1, 1, 1, 1, 1, 1, 1, 0, 1, 1,\n",
              "       0, 1, 1, 1, 1, 1, 1, 1, 1, 1, 1, 1, 1, 1, 1, 1, 0, 1, 1, 1, 1, 1,\n",
              "       1, 1, 1, 1, 1, 0, 1, 1, 1, 1, 1, 1, 1, 1, 0, 1, 1, 1, 1, 1, 1, 1,\n",
              "       1, 1, 1, 1, 1, 0, 1, 1, 0, 1, 1, 1, 1, 1, 1, 1, 1, 1, 1, 1, 1])"
            ]
          },
          "metadata": {
            "tags": []
          },
          "execution_count": 11
        }
      ]
    },
    {
      "metadata": {
        "id": "r7xWwqBrFuWL",
        "colab_type": "code",
        "outputId": "6775d17e-721d-470b-d79d-98ad55c8b988",
        "colab": {
          "base_uri": "https://localhost:8080/",
          "height": 34
        }
      },
      "cell_type": "code",
      "source": [
        "log_reg.predict(test_case)[0]"
      ],
      "execution_count": 0,
      "outputs": [
        {
          "output_type": "execute_result",
          "data": {
            "text/plain": [
              "1"
            ]
          },
          "metadata": {
            "tags": []
          },
          "execution_count": 12
        }
      ]
    },
    {
      "metadata": {
        "id": "IM8g42clF2-6",
        "colab_type": "code",
        "outputId": "77c7b08d-e92a-4cba-a785-669e6da35d12",
        "colab": {
          "base_uri": "https://localhost:8080/",
          "height": 282
        }
      },
      "cell_type": "code",
      "source": [
        "help(log_reg.predict)"
      ],
      "execution_count": 0,
      "outputs": [
        {
          "output_type": "stream",
          "text": [
            "Help on method predict in module sklearn.linear_model.base:\n",
            "\n",
            "predict(X) method of sklearn.linear_model.logistic.LogisticRegression instance\n",
            "    Predict class labels for samples in X.\n",
            "    \n",
            "    Parameters\n",
            "    ----------\n",
            "    X : array_like or sparse matrix, shape (n_samples, n_features)\n",
            "        Samples.\n",
            "    \n",
            "    Returns\n",
            "    -------\n",
            "    C : array, shape [n_samples]\n",
            "        Predicted class label per sample.\n",
            "\n"
          ],
          "name": "stdout"
        }
      ]
    },
    {
      "metadata": {
        "id": "flF3pcMHGGWw",
        "colab_type": "code",
        "outputId": "40eb23e8-bfda-454f-ca80-1990581c1f09",
        "colab": {
          "base_uri": "https://localhost:8080/",
          "height": 34
        }
      },
      "cell_type": "code",
      "source": [
        "log_reg.predict_proba(test_case)[0]"
      ],
      "execution_count": 0,
      "outputs": [
        {
          "output_type": "execute_result",
          "data": {
            "text/plain": [
              "array([0.02485552, 0.97514448])"
            ]
          },
          "metadata": {
            "tags": []
          },
          "execution_count": 14
        }
      ]
    },
    {
      "metadata": {
        "id": "9Bq-54noR1uE",
        "colab_type": "code",
        "outputId": "a7b2549d-b60f-4208-b5af-91bf1e3bcb08",
        "colab": {
          "base_uri": "https://localhost:8080/",
          "height": 34
        }
      },
      "cell_type": "code",
      "source": [
        "# What's the math?\n",
        "log_reg.coef_"
      ],
      "execution_count": 0,
      "outputs": [
        {
          "output_type": "execute_result",
          "data": {
            "text/plain": [
              "array([[-0.0455017 , -0.02912513,  0.0048037 ]])"
            ]
          },
          "metadata": {
            "tags": []
          },
          "execution_count": 15
        }
      ]
    },
    {
      "metadata": {
        "id": "Tj0mNL7_XWNV",
        "colab_type": "code",
        "outputId": "148cb399-ba2a-43ee-f19e-5f9f2ff2502f",
        "colab": {
          "base_uri": "https://localhost:8080/",
          "height": 34
        }
      },
      "cell_type": "code",
      "source": [
        "log_reg.intercept_"
      ],
      "execution_count": 0,
      "outputs": [
        {
          "output_type": "execute_result",
          "data": {
            "text/plain": [
              "array([1.45878264])"
            ]
          },
          "metadata": {
            "tags": []
          },
          "execution_count": 16
        }
      ]
    },
    {
      "metadata": {
        "id": "AroeYscqR75f",
        "colab_type": "code",
        "colab": {}
      },
      "cell_type": "code",
      "source": [
        "# The logistic sigmoid \"squishing\" function, implemented to accept numpy arrays\n",
        "def sigmoid(x):\n",
        "  return 1 / (1 + np.e**(-x))"
      ],
      "execution_count": 0,
      "outputs": []
    },
    {
      "metadata": {
        "id": "804BA7s0SggQ",
        "colab_type": "code",
        "outputId": "dfab3c76-2807-44b0-e913-ef321e8b6223",
        "colab": {
          "base_uri": "https://localhost:8080/",
          "height": 34
        }
      },
      "cell_type": "code",
      "source": [
        "sigmoid(log_reg.intercept_ + np.dot(log_reg.coef_, np.transpose(test_case)))"
      ],
      "execution_count": 0,
      "outputs": [
        {
          "output_type": "execute_result",
          "data": {
            "text/plain": [
              "array([[0.97514448]])"
            ]
          },
          "metadata": {
            "tags": []
          },
          "execution_count": 18
        }
      ]
    },
    {
      "metadata": {
        "id": "uBSGY-R-Hf_b",
        "colab_type": "text"
      },
      "cell_type": "markdown",
      "source": [
        "So, clearly a more appropriate model in this situation! For more on the math, [see this Wikipedia example](https://en.wikipedia.org/wiki/Logistic_regression#Probability_of_passing_an_exam_versus_hours_of_study).\n",
        "\n",
        "For live - let's tackle [another classification dataset on absenteeism](http://archive.ics.uci.edu/ml/datasets/Absenteeism+at+work) - it has 21 classes, but remember, scikit-learn LogisticRegression automatically handles more than two classes. How? By essentially treating each label as different (1) from some base class (0)."
      ]
    },
    {
      "metadata": {
        "id": "qyDBpCM0G7Hv",
        "colab_type": "code",
        "outputId": "5d31f23f-9ebf-4f18-cfa1-90a662cb8cd4",
        "colab": {
          "base_uri": "https://localhost:8080/",
          "height": 317
        }
      },
      "cell_type": "code",
      "source": [
        "# Live - let's try absenteeism!\n",
        "!wget http://archive.ics.uci.edu/ml/machine-learning-databases/00445/Absenteeism_at_work_AAA.zip\n",
        "!unzip Absenteeism_at_work_AAA.zip"
      ],
      "execution_count": 0,
      "outputs": [
        {
          "output_type": "stream",
          "text": [
            "--2019-01-18 22:31:52--  http://archive.ics.uci.edu/ml/machine-learning-databases/00445/Absenteeism_at_work_AAA.zip\n",
            "Resolving archive.ics.uci.edu (archive.ics.uci.edu)... 128.195.10.249\n",
            "Connecting to archive.ics.uci.edu (archive.ics.uci.edu)|128.195.10.249|:80... connected.\n",
            "HTTP request sent, awaiting response... 200 OK\n",
            "Length: 66136 (65K) [application/zip]\n",
            "Saving to: ‘Absenteeism_at_work_AAA.zip.1’\n",
            "\n",
            "Absenteeism_at_work 100%[===================>]  64.59K   179KB/s    in 0.4s    \n",
            "\n",
            "2019-01-18 22:31:53 (179 KB/s) - ‘Absenteeism_at_work_AAA.zip.1’ saved [66136/66136]\n",
            "\n",
            "Archive:  Absenteeism_at_work_AAA.zip\n",
            "replace Absenteeism_at_work.arff? [y]es, [n]o, [A]ll, [N]one, [r]ename: n\n",
            "replace Absenteeism_at_work.csv? [y]es, [n]o, [A]ll, [N]one, [r]ename: n\n",
            "replace Absenteeism_at_work.xls? [y]es, [n]o, [A]ll, [N]one, [r]ename: n\n",
            "replace Attribute Information.docx? [y]es, [n]o, [A]ll, [N]one, [r]ename: n\n",
            "replace UCI_ABS_TEXT.docx? [y]es, [n]o, [A]ll, [N]one, [r]ename: n\n"
          ],
          "name": "stdout"
        }
      ]
    },
    {
      "metadata": {
        "id": "o9OZtwzT9z0c",
        "colab_type": "code",
        "outputId": "065bfe9d-6970-4b3b-84a1-4914868b72da",
        "colab": {
          "base_uri": "https://localhost:8080/",
          "height": 213
        }
      },
      "cell_type": "code",
      "source": [
        "!head Absenteeism_at_work.csv"
      ],
      "execution_count": 0,
      "outputs": [
        {
          "output_type": "stream",
          "text": [
            "ID;Reason for absence;Month of absence;Day of the week;Seasons;Transportation expense;Distance from Residence to Work;Service time;Age;Work load Average/day ;Hit target;Disciplinary failure;Education;Son;Social drinker;Social smoker;Pet;Weight;Height;Body mass index;Absenteeism time in hours\r\n",
            "11;26;7;3;1;289;36;13;33;239.554;97;0;1;2;1;0;1;90;172;30;4\r\n",
            "36;0;7;3;1;118;13;18;50;239.554;97;1;1;1;1;0;0;98;178;31;0\r\n",
            "3;23;7;4;1;179;51;18;38;239.554;97;0;1;0;1;0;0;89;170;31;2\r\n",
            "7;7;7;5;1;279;5;14;39;239.554;97;0;1;2;1;1;0;68;168;24;4\r\n",
            "11;23;7;5;1;289;36;13;33;239.554;97;0;1;2;1;0;1;90;172;30;2\r\n",
            "3;23;7;6;1;179;51;18;38;239.554;97;0;1;0;1;0;0;89;170;31;2\r\n",
            "10;22;7;6;1;361;52;3;28;239.554;97;0;1;1;1;0;4;80;172;27;8\r\n",
            "20;23;7;6;1;260;50;11;36;239.554;97;0;1;4;1;0;0;65;168;23;4\r\n",
            "14;19;7;2;1;155;12;14;34;239.554;97;0;1;2;1;0;0;95;196;25;40\r\n"
          ],
          "name": "stdout"
        }
      ]
    },
    {
      "metadata": {
        "id": "ddhjM-sg-BZJ",
        "colab_type": "code",
        "outputId": "c4667925-eb88-49c9-f0a6-a05446c6c67c",
        "colab": {
          "base_uri": "https://localhost:8080/",
          "height": 307
        }
      },
      "cell_type": "code",
      "source": [
        "absent_df = pd.read_table('Absenteeism_at_work.csv', sep=';')\n",
        "absent_df.head()"
      ],
      "execution_count": 0,
      "outputs": [
        {
          "output_type": "execute_result",
          "data": {
            "text/html": [
              "<div>\n",
              "<style scoped>\n",
              "    .dataframe tbody tr th:only-of-type {\n",
              "        vertical-align: middle;\n",
              "    }\n",
              "\n",
              "    .dataframe tbody tr th {\n",
              "        vertical-align: top;\n",
              "    }\n",
              "\n",
              "    .dataframe thead th {\n",
              "        text-align: right;\n",
              "    }\n",
              "</style>\n",
              "<table border=\"1\" class=\"dataframe\">\n",
              "  <thead>\n",
              "    <tr style=\"text-align: right;\">\n",
              "      <th></th>\n",
              "      <th>ID</th>\n",
              "      <th>Reason for absence</th>\n",
              "      <th>Month of absence</th>\n",
              "      <th>Day of the week</th>\n",
              "      <th>Seasons</th>\n",
              "      <th>Transportation expense</th>\n",
              "      <th>Distance from Residence to Work</th>\n",
              "      <th>Service time</th>\n",
              "      <th>Age</th>\n",
              "      <th>Work load Average/day</th>\n",
              "      <th>...</th>\n",
              "      <th>Disciplinary failure</th>\n",
              "      <th>Education</th>\n",
              "      <th>Son</th>\n",
              "      <th>Social drinker</th>\n",
              "      <th>Social smoker</th>\n",
              "      <th>Pet</th>\n",
              "      <th>Weight</th>\n",
              "      <th>Height</th>\n",
              "      <th>Body mass index</th>\n",
              "      <th>Absenteeism time in hours</th>\n",
              "    </tr>\n",
              "  </thead>\n",
              "  <tbody>\n",
              "    <tr>\n",
              "      <th>0</th>\n",
              "      <td>11</td>\n",
              "      <td>26</td>\n",
              "      <td>7</td>\n",
              "      <td>3</td>\n",
              "      <td>1</td>\n",
              "      <td>289</td>\n",
              "      <td>36</td>\n",
              "      <td>13</td>\n",
              "      <td>33</td>\n",
              "      <td>239.554</td>\n",
              "      <td>...</td>\n",
              "      <td>0</td>\n",
              "      <td>1</td>\n",
              "      <td>2</td>\n",
              "      <td>1</td>\n",
              "      <td>0</td>\n",
              "      <td>1</td>\n",
              "      <td>90</td>\n",
              "      <td>172</td>\n",
              "      <td>30</td>\n",
              "      <td>4</td>\n",
              "    </tr>\n",
              "    <tr>\n",
              "      <th>1</th>\n",
              "      <td>36</td>\n",
              "      <td>0</td>\n",
              "      <td>7</td>\n",
              "      <td>3</td>\n",
              "      <td>1</td>\n",
              "      <td>118</td>\n",
              "      <td>13</td>\n",
              "      <td>18</td>\n",
              "      <td>50</td>\n",
              "      <td>239.554</td>\n",
              "      <td>...</td>\n",
              "      <td>1</td>\n",
              "      <td>1</td>\n",
              "      <td>1</td>\n",
              "      <td>1</td>\n",
              "      <td>0</td>\n",
              "      <td>0</td>\n",
              "      <td>98</td>\n",
              "      <td>178</td>\n",
              "      <td>31</td>\n",
              "      <td>0</td>\n",
              "    </tr>\n",
              "    <tr>\n",
              "      <th>2</th>\n",
              "      <td>3</td>\n",
              "      <td>23</td>\n",
              "      <td>7</td>\n",
              "      <td>4</td>\n",
              "      <td>1</td>\n",
              "      <td>179</td>\n",
              "      <td>51</td>\n",
              "      <td>18</td>\n",
              "      <td>38</td>\n",
              "      <td>239.554</td>\n",
              "      <td>...</td>\n",
              "      <td>0</td>\n",
              "      <td>1</td>\n",
              "      <td>0</td>\n",
              "      <td>1</td>\n",
              "      <td>0</td>\n",
              "      <td>0</td>\n",
              "      <td>89</td>\n",
              "      <td>170</td>\n",
              "      <td>31</td>\n",
              "      <td>2</td>\n",
              "    </tr>\n",
              "    <tr>\n",
              "      <th>3</th>\n",
              "      <td>7</td>\n",
              "      <td>7</td>\n",
              "      <td>7</td>\n",
              "      <td>5</td>\n",
              "      <td>1</td>\n",
              "      <td>279</td>\n",
              "      <td>5</td>\n",
              "      <td>14</td>\n",
              "      <td>39</td>\n",
              "      <td>239.554</td>\n",
              "      <td>...</td>\n",
              "      <td>0</td>\n",
              "      <td>1</td>\n",
              "      <td>2</td>\n",
              "      <td>1</td>\n",
              "      <td>1</td>\n",
              "      <td>0</td>\n",
              "      <td>68</td>\n",
              "      <td>168</td>\n",
              "      <td>24</td>\n",
              "      <td>4</td>\n",
              "    </tr>\n",
              "    <tr>\n",
              "      <th>4</th>\n",
              "      <td>11</td>\n",
              "      <td>23</td>\n",
              "      <td>7</td>\n",
              "      <td>5</td>\n",
              "      <td>1</td>\n",
              "      <td>289</td>\n",
              "      <td>36</td>\n",
              "      <td>13</td>\n",
              "      <td>33</td>\n",
              "      <td>239.554</td>\n",
              "      <td>...</td>\n",
              "      <td>0</td>\n",
              "      <td>1</td>\n",
              "      <td>2</td>\n",
              "      <td>1</td>\n",
              "      <td>0</td>\n",
              "      <td>1</td>\n",
              "      <td>90</td>\n",
              "      <td>172</td>\n",
              "      <td>30</td>\n",
              "      <td>2</td>\n",
              "    </tr>\n",
              "  </tbody>\n",
              "</table>\n",
              "<p>5 rows × 21 columns</p>\n",
              "</div>"
            ],
            "text/plain": [
              "   ID  Reason for absence  Month of absence  Day of the week  Seasons  \\\n",
              "0  11                  26                 7                3        1   \n",
              "1  36                   0                 7                3        1   \n",
              "2   3                  23                 7                4        1   \n",
              "3   7                   7                 7                5        1   \n",
              "4  11                  23                 7                5        1   \n",
              "\n",
              "   Transportation expense  Distance from Residence to Work  Service time  Age  \\\n",
              "0                     289                               36            13   33   \n",
              "1                     118                               13            18   50   \n",
              "2                     179                               51            18   38   \n",
              "3                     279                                5            14   39   \n",
              "4                     289                               36            13   33   \n",
              "\n",
              "   Work load Average/day             ...              Disciplinary failure  \\\n",
              "0                 239.554            ...                                 0   \n",
              "1                 239.554            ...                                 1   \n",
              "2                 239.554            ...                                 0   \n",
              "3                 239.554            ...                                 0   \n",
              "4                 239.554            ...                                 0   \n",
              "\n",
              "   Education  Son  Social drinker  Social smoker  Pet  Weight  Height  \\\n",
              "0          1    2               1              0    1      90     172   \n",
              "1          1    1               1              0    0      98     178   \n",
              "2          1    0               1              0    0      89     170   \n",
              "3          1    2               1              1    0      68     168   \n",
              "4          1    2               1              0    1      90     172   \n",
              "\n",
              "   Body mass index  Absenteeism time in hours  \n",
              "0               30                          4  \n",
              "1               31                          0  \n",
              "2               31                          2  \n",
              "3               24                          4  \n",
              "4               30                          2  \n",
              "\n",
              "[5 rows x 21 columns]"
            ]
          },
          "metadata": {
            "tags": []
          },
          "execution_count": 21
        }
      ]
    },
    {
      "metadata": {
        "id": "gVoB6MZw-9P5",
        "colab_type": "code",
        "outputId": "afab7572-3970-49e2-d91f-d0e498cc2c95",
        "colab": {
          "base_uri": "https://localhost:8080/",
          "height": 34
        }
      },
      "cell_type": "code",
      "source": [
        "X = absent_df.drop('Reason for absence', axis='columns')\n",
        "y = absent_df['Reason for absence']\n",
        "\n",
        "absent_log1 = LogisticRegression(solver='liblinear', multi_class='auto').fit(X, y)\n",
        "absent_log1.score(X, y)"
      ],
      "execution_count": 0,
      "outputs": [
        {
          "output_type": "execute_result",
          "data": {
            "text/plain": [
              "0.5013513513513513"
            ]
          },
          "metadata": {
            "tags": []
          },
          "execution_count": 22
        }
      ]
    },
    {
      "metadata": {
        "id": "A8_NOJmXAILZ",
        "colab_type": "code",
        "outputId": "cae440b2-fce0-4223-c325-ce426d67ba15",
        "colab": {
          "base_uri": "https://localhost:8080/",
          "height": 3479
        }
      },
      "cell_type": "code",
      "source": [
        "absent_log1.coef_"
      ],
      "execution_count": 0,
      "outputs": [
        {
          "output_type": "execute_result",
          "data": {
            "text/plain": [
              "array([[-1.27508146e-02, -2.20793886e-01, -4.08404457e-02,\n",
              "         4.22616389e-01,  7.64613632e-03, -6.18658809e-03,\n",
              "        -3.11523480e-02,  5.52309565e-02, -1.01707258e-02,\n",
              "        -1.14781041e-01,  2.51984519e+00,  1.41303285e-02,\n",
              "         3.56702636e-01,  2.27778616e-01,  1.80478520e-01,\n",
              "         1.33441356e-01, -9.82098540e-03,  5.23702470e-02,\n",
              "         7.24744784e-02, -3.15221513e+00],\n",
              "       [ 5.11128074e-02,  1.77166203e-01, -5.01201750e-01,\n",
              "        -9.34413067e-02,  8.70070989e-03,  2.90683453e-02,\n",
              "        -8.19496921e-02,  1.30910624e-01,  3.69193210e-03,\n",
              "         3.58478924e-02, -7.77198534e-01,  9.21419989e-01,\n",
              "         2.74046853e-01, -6.53744541e-01, -2.74959514e-01,\n",
              "        -4.46143318e-01,  1.88638790e-01, -7.60409657e-02,\n",
              "        -6.85430554e-01,  4.55734002e-03],\n",
              "       [ 1.74477093e-01,  5.91768593e-01,  4.46355493e-02,\n",
              "         4.29016838e-01,  5.97802716e-02, -2.02281583e-01,\n",
              "        -4.44906133e-01, -2.65239556e-01,  8.55486140e-03,\n",
              "        -4.07755000e-01, -6.70334842e-02,  5.15111418e-02,\n",
              "        -1.41925514e-01, -5.24034227e-02, -1.81927726e-05,\n",
              "        -2.16066314e-02,  2.57084168e-01, -2.44962459e-02,\n",
              "        -7.13783256e-02,  1.06021271e-01],\n",
              "       [-1.69881727e-01, -8.44450958e-01,  6.19523476e-02,\n",
              "        -1.61054588e-01,  4.52164851e-02,  3.55299322e-02,\n",
              "        -6.77983067e-02,  2.11118404e-01,  5.44242972e-02,\n",
              "         7.88588029e-01, -4.63390739e-02, -2.63965509e-02,\n",
              "        -3.45042003e-01,  1.42942572e-01, -1.54662581e-01,\n",
              "         1.35939985e-02, -1.24836203e-01, -5.92970783e-01,\n",
              "        -1.72013469e-01,  4.40793881e-03],\n",
              "       [ 1.83780974e-01,  7.31554736e-01,  3.91442653e-01,\n",
              "         5.08895583e-01,  3.77336010e-02, -3.89834723e-02,\n",
              "         7.12291057e-01,  1.64426586e-01, -1.13810188e-01,\n",
              "        -1.64211033e-01, -1.98910328e-02, -5.31845649e-03,\n",
              "        -2.58062208e-01,  2.72682295e-02, -1.67349920e-02,\n",
              "        -2.87139797e-02, -1.51679044e-01,  7.80309754e-02,\n",
              "        -1.42363122e-01, -2.01612569e-02],\n",
              "       [ 7.04063336e-02,  2.11408701e-01,  2.23255455e-01,\n",
              "        -7.45821946e-01, -9.91939922e-02,  1.41823442e-01,\n",
              "         1.09474641e-02,  7.76611644e-03, -1.06518269e-02,\n",
              "         4.81608748e-01, -2.06899549e-01, -4.45706524e-03,\n",
              "        -1.35055265e-02,  3.19208662e-03, -7.23070476e-03,\n",
              "        -5.45246241e-02,  9.39910421e-02, -2.82366098e-01,\n",
              "         1.41814947e-02, -6.79811734e-04],\n",
              "       [-8.42882248e-02,  2.17399790e-01, -4.71395895e-02,\n",
              "        -2.18225939e-01, -5.54814266e-03,  3.86327179e-03,\n",
              "        -1.38372072e-01,  6.63390618e-02,  1.27387796e-02,\n",
              "         1.33099263e-02, -2.38374203e-01, -5.44938925e-01,\n",
              "        -8.80863218e-02, -7.57229052e-01, -4.29442790e-01,\n",
              "        -2.32952216e-01,  3.15598650e-02, -1.62672159e-02,\n",
              "        -2.57010971e-01,  1.58058960e-02],\n",
              "       [-3.37240307e-02, -1.68791836e-01, -3.19627377e-01,\n",
              "         3.19621545e-01,  3.99691490e-03, -6.94117906e-02,\n",
              "         7.42788604e-02, -1.31141158e-01, -5.40787168e-03,\n",
              "        -1.21514773e-01, -5.77294286e-01, -3.92062815e-01,\n",
              "        -3.94696367e-01, -4.84826642e-02,  5.70942851e-01,\n",
              "         2.34822717e-01, -1.87264192e-01,  1.11182626e-01,\n",
              "         4.39039591e-01,  1.18442533e-02],\n",
              "       [-1.52890145e-02,  1.34160539e-01, -2.68668138e-02,\n",
              "        -3.03449473e-01, -1.54486500e-02, -2.92343775e-02,\n",
              "        -2.21214265e-01,  5.13873714e-02,  6.31148147e-03,\n",
              "         2.07997366e-01, -2.00032667e-01, -1.05905506e-01,\n",
              "         2.77343241e-01, -2.64607525e-01,  1.02252995e+00,\n",
              "        -2.62287327e-02,  2.15634289e-02, -1.19350757e-01,\n",
              "        -1.01798510e-01, -1.66761338e-02],\n",
              "       [ 5.75018264e-01,  5.09534512e-01, -3.92651921e-01,\n",
              "        -2.75818970e-01,  2.40533615e-02, -2.18839470e-01,\n",
              "         3.66251862e-01, -1.60089619e-01,  7.13062388e-03,\n",
              "        -4.53937308e-01, -7.08219088e-02, -3.54562939e-01,\n",
              "        -2.82846068e-01,  2.79403734e-02, -1.44116365e-02,\n",
              "         1.46175274e-02, -3.41713868e-01,  1.92956969e-01,\n",
              "         3.59020847e-01,  6.90097771e-02],\n",
              "       [ 5.04483159e-02, -1.16477523e-01, -1.69481385e-02,\n",
              "         5.92928522e-01,  1.09404775e-02, -2.06467138e-02,\n",
              "         1.61108670e-01, -1.07214716e-01, -4.08168647e-03,\n",
              "        -2.31116715e-02, -8.54253971e-01, -6.08813066e-01,\n",
              "        -2.58151394e-01, -2.85664291e-01, -7.14286081e-02,\n",
              "        -7.28868576e-01,  4.80687424e-02, -1.99856363e-03,\n",
              "        -1.46178728e-01,  1.16584825e-02],\n",
              "       [-2.97610409e-02,  9.15539072e-02, -2.99996417e-01,\n",
              "        -3.07535039e-01, -4.92384520e-04,  1.33210905e-02,\n",
              "         2.20500132e-03, -5.90665531e-02,  1.26055987e-02,\n",
              "         4.80909316e-02, -5.35899100e-01, -4.46511693e-01,\n",
              "        -2.77035861e-01, -1.16966953e+00,  7.19238702e-01,\n",
              "        -4.59861613e-01,  3.88798078e-02, -3.75368172e-02,\n",
              "        -1.07969075e-01,  1.84930548e-02],\n",
              "       [-1.05983103e-01, -2.16764782e-01, -3.94022188e-02,\n",
              "         7.94637049e-01, -8.59232204e-03,  2.47513424e-03,\n",
              "        -7.05917561e-02,  3.95855272e-02,  1.47883644e-02,\n",
              "         3.86601298e-02, -1.27340783e-01, -2.28098236e-01,\n",
              "        -4.23579093e-01,  6.14334924e-02, -4.33786104e-01,\n",
              "         1.98405525e-01,  1.71213262e-02, -1.18506873e-02,\n",
              "        -3.75194471e-01,  3.31665449e-02],\n",
              "       [ 1.12498834e-02, -1.78874921e-03, -1.65202497e-02,\n",
              "         7.09078517e-02, -2.27397979e-03,  2.32781179e-03,\n",
              "         1.35937080e-02, -3.65682039e-02,  1.42158432e-02,\n",
              "         3.28995220e-02, -7.94795767e-01,  8.12516439e-01,\n",
              "        -3.00928389e-02,  7.64696084e-01, -6.57624133e-01,\n",
              "        -1.97074765e-01,  2.19265551e-02, -6.66325680e-02,\n",
              "        -1.18256073e-02,  3.19607344e-02],\n",
              "       [ 5.62518621e-02,  1.01654541e-01,  1.77171581e-01,\n",
              "         1.13037505e-01,  1.46224193e-02, -7.01103729e-02,\n",
              "         8.31078902e-02,  6.83676776e-02,  7.12699082e-03,\n",
              "         6.12452226e-02, -9.41412574e-01,  3.46322885e-01,\n",
              "        -1.21468342e-01,  1.19091780e+00,  4.25379359e-01,\n",
              "         4.43609497e-01,  4.51739796e-02, -1.29755553e-01,\n",
              "        -9.02217432e-02,  6.71870581e-03],\n",
              "       [ 1.84521478e-01,  3.86193433e-01, -1.87854241e-01,\n",
              "        -1.27529528e-01,  2.13230662e-02,  1.22112049e-02,\n",
              "        -4.47304051e-02,  1.75010429e-01, -1.94078541e-02,\n",
              "        -8.99735013e-03, -1.78650095e-01, -4.99872479e-02,\n",
              "         6.74743092e-01,  4.96668163e-01,  5.00348745e-01,\n",
              "        -3.64280825e-01,  1.12928216e-01, -7.62745243e-02,\n",
              "        -5.86126282e-01,  9.94713371e-03],\n",
              "       [ 1.06247032e-01, -5.20495832e-01, -6.22614053e-02,\n",
              "         6.98781468e-01,  9.76195918e-03, -2.09340879e-01,\n",
              "         5.19889937e-01, -8.74683858e-02, -7.65976483e-02,\n",
              "        -4.05200412e-01, -2.18028874e-01,  7.51846864e-01,\n",
              "         2.89353958e-01, -6.91643849e-01,  6.26132656e-01,\n",
              "        -1.69665214e-01, -3.95108063e-01,  3.60806107e-01,\n",
              "         6.69244223e-01, -6.15457594e-01],\n",
              "       [-2.86884861e-01, -5.67612515e-02, -5.93624985e-01,\n",
              "        -8.34025706e-02, -1.21245469e-01, -1.20706278e-01,\n",
              "         3.50568701e-01,  3.32060989e-01,  1.65589878e-01,\n",
              "         6.57168420e-02, -1.03712839e-02,  2.98985013e-03,\n",
              "         1.24055948e-01, -3.94150507e-02,  6.92014562e-02,\n",
              "        -4.56963351e-04, -4.56244665e-01, -1.12868288e-01,\n",
              "        -8.86862035e-02, -1.41642309e-01],\n",
              "       [-7.90035713e-02,  8.09459874e-02, -1.86814503e-01,\n",
              "        -3.02904216e-01, -6.33591226e-03,  6.04925938e-04,\n",
              "        -7.84788997e-02,  5.27267823e-02,  2.71993834e-03,\n",
              "         6.47177640e-02, -5.76539525e-01, -6.41400355e-02,\n",
              "         1.41865324e-01, -8.30185872e-01,  6.44027836e-01,\n",
              "         1.07152681e-01,  1.04703690e-01, -3.72436695e-02,\n",
              "        -3.59798019e-01, -2.95293262e-04],\n",
              "       [ 6.12069038e-02, -1.80961205e-02, -4.80318927e-02,\n",
              "        -1.75964312e-01, -1.24174652e-03,  2.21904656e-03,\n",
              "        -6.17279417e-02, -5.32781546e-02,  4.63239783e-03,\n",
              "         3.01581791e-02, -6.92767157e-01,  1.70115064e-01,\n",
              "         3.62174543e-01,  9.98809826e-01,  7.46336111e-01,\n",
              "         2.54316422e-01,  7.42197268e-02, -5.70889646e-02,\n",
              "        -9.53177755e-02,  3.04071943e-02],\n",
              "       [-1.74672440e-01,  3.19491894e-01, -8.57553356e-02,\n",
              "        -3.05458844e-01, -1.77205144e-02, -1.63858239e-02,\n",
              "         3.23234003e-01, -7.92499420e-02,  7.69493536e-03,\n",
              "         1.00445060e-01, -6.19208630e-02,  7.43829483e-01,\n",
              "        -7.96888097e-02, -3.12512114e-01,  2.07633034e-01,\n",
              "        -3.34770785e-01, -1.01674494e-01, -3.02625905e-02,\n",
              "        -3.82375061e-02, -5.10733404e-03],\n",
              "       [-9.80484015e-02, -1.00278455e-01,  1.67305318e-01,\n",
              "        -1.31903754e-01,  1.89850754e-02,  2.06805230e-03,\n",
              "         1.95533930e-01, -1.57951935e-01, -1.16243373e-03,\n",
              "         3.80453762e-02, -1.29684368e+00,  5.65308694e-01,\n",
              "         6.17877294e-01, -4.35589293e-01, -2.08999630e-01,\n",
              "         6.26786629e-01,  3.23867233e-02, -4.58915543e-02,\n",
              "        -1.22674044e-01, -2.89066139e-03],\n",
              "       [ 5.07207631e-03,  1.58217883e-01,  4.18639670e-02,\n",
              "        -1.54826825e-01,  8.82835854e-04, -2.02132218e-02,\n",
              "         5.92864753e-02, -6.64508536e-02, -4.06186569e-03,\n",
              "        -9.37570381e-03, -2.55774235e+00, -3.46414904e-01,\n",
              "         1.36592621e-01, -4.68137520e-01, -8.86135372e-01,\n",
              "         5.08599916e-02, -1.48494527e-02,  1.79478220e-02,\n",
              "         6.25572296e-02, -2.98509878e-01],\n",
              "       [-8.41296172e-02,  3.64246718e-01, -2.55763703e-01,\n",
              "         4.63999101e-01,  2.95461950e-02,  7.30725734e-03,\n",
              "         4.77517209e-01, -8.24881931e-01, -3.64754517e-02,\n",
              "        -1.44633418e-01, -2.99785538e-01, -6.06811918e-02,\n",
              "         3.84547555e-01,  8.41854114e-02, -1.06029785e-04,\n",
              "        -1.99492535e-01,  3.80203996e-01, -2.67351464e-02,\n",
              "        -1.86038658e-02, -2.78193426e-03],\n",
              "       [-1.11684073e-02, -5.34617077e-02, -9.84506499e-02,\n",
              "        -6.39971969e-01, -7.26554333e-04, -2.86895477e-02,\n",
              "         5.96496997e-02, -3.51258306e-02, -1.85043657e-02,\n",
              "         7.56939734e-02, -6.99307465e-01, -1.11805242e-01,\n",
              "         2.94221761e-01, -1.56689664e+00,  7.48253269e-01,\n",
              "         1.36521499e-02,  3.97379111e-02,  5.94002547e-03,\n",
              "        -1.80687012e-01, -1.58155107e-01],\n",
              "       [ 1.76384151e-02,  1.69587500e-01,  2.46492596e-02,\n",
              "        -2.56664166e-01,  7.87561769e-03, -2.74964087e-02,\n",
              "        -1.07142576e-01, -4.71203432e-02,  7.49380408e-03,\n",
              "         1.58293697e-01, -1.32780077e+00,  1.87541548e-01,\n",
              "         4.28454686e-01,  5.48545450e-01, -4.50306904e-01,\n",
              "        -1.06056869e+00,  1.31272294e-01, -1.65267423e-01,\n",
              "        -6.94878570e-02, -1.02896575e-02],\n",
              "       [ 9.02239854e-02, -9.29018648e-01,  4.01504858e-01,\n",
              "         5.55322655e-01, -5.20017696e-02, -3.80517365e-02,\n",
              "         9.91795452e-01, -8.84509000e-01, -2.50834384e-02,\n",
              "        -1.06262380e-01, -6.50206377e-01,  1.16269735e+00,\n",
              "        -1.21191641e+00, -2.34255920e-01, -4.92389133e-01,\n",
              "        -2.92283893e-01, -3.19796361e-01,  2.05008156e-01,\n",
              "         1.23111630e+00, -5.87540662e-01],\n",
              "       [ 2.51254771e-02,  3.40490833e-02, -3.75796518e-02,\n",
              "         1.19082494e-01, -6.95693168e-04,  2.84061173e-02,\n",
              "        -1.00081927e-03,  3.16005988e-02,  1.01046551e-04,\n",
              "        -4.81954645e-02, -2.55794076e+00, -1.09979507e+00,\n",
              "        -1.24500798e-02,  1.00415917e+00, -5.18394783e-01,\n",
              "        -2.43601117e-01, -3.23909881e-02,  3.53861893e-02,\n",
              "        -5.72873722e-02, -2.57643190e-01]])"
            ]
          },
          "metadata": {
            "tags": []
          },
          "execution_count": 23
        }
      ]
    },
    {
      "metadata": {
        "id": "iblW74C8afuR",
        "colab_type": "text"
      },
      "cell_type": "markdown",
      "source": [
        "## Assignment - real-world classification\n",
        "\n",
        "We're going to check out a larger dataset - the [FMA Free Music Archive data](https://github.com/mdeff/fma). It has a selection of CSVs with metadata and calculated audio features that you can load and try to use to classify genre of tracks. To get you started:"
      ]
    },
    {
      "metadata": {
        "id": "SsySnuKaKtQf",
        "colab_type": "code",
        "outputId": "cad3cbad-a919-4946-e433-4c2cb97aef15",
        "colab": {
          "base_uri": "https://localhost:8080/",
          "height": 72
        }
      },
      "cell_type": "code",
      "source": [
        "from sklearn.linear_model import LinearRegression\n",
        "from sklearn.metrics import mean_squared_error, r2_score\n",
        "import pandas as pd\n",
        "from sklearn.model_selection import train_test_split\n",
        "import numpy as np\n",
        "import matplotlib.pyplot as plt\n",
        "import seaborn as sns\n",
        "from mpl_toolkits.mplot3d import Axes3D\n",
        "from datetime import datetime\n",
        "import math\n",
        "from scipy.stats import mode\n",
        "from sklearn.preprocessing import StandardScaler\n",
        "from mpl_toolkits.mplot3d import Axes3D\n",
        "import seaborn as sns\n",
        "import statsmodels.api as s"
      ],
      "execution_count": 3,
      "outputs": [
        {
          "output_type": "stream",
          "text": [
            "/usr/local/lib/python3.6/dist-packages/statsmodels/compat/pandas.py:56: FutureWarning: The pandas.core.datetools module is deprecated and will be removed in a future version. Please use the pandas.tseries module instead.\n",
            "  from pandas.core import datetools\n"
          ],
          "name": "stderr"
        }
      ]
    },
    {
      "metadata": {
        "id": "_kAdVr2QFvTv",
        "colab_type": "code",
        "colab": {
          "base_uri": "https://localhost:8080/",
          "height": 441
        },
        "outputId": "d041f734-ec4b-4b89-97b1-944270caba37"
      },
      "cell_type": "code",
      "source": [
        "!wget https://os.unil.cloud.switch.ch/fma/fma_metadata.zip\n",
        "!unzip fma_metadata.zip"
      ],
      "execution_count": 5,
      "outputs": [
        {
          "output_type": "stream",
          "text": [
            "--2019-01-19 21:51:23--  https://os.unil.cloud.switch.ch/fma/fma_metadata.zip\n",
            "Resolving os.unil.cloud.switch.ch (os.unil.cloud.switch.ch)... 86.119.28.13, 2001:620:5ca1:2ff::ce53\n",
            "Connecting to os.unil.cloud.switch.ch (os.unil.cloud.switch.ch)|86.119.28.13|:443... connected.\n",
            "HTTP request sent, awaiting response... 200 OK\n",
            "Length: 358412441 (342M) [application/zip]\n",
            "Saving to: ‘fma_metadata.zip’\n",
            "\n",
            "fma_metadata.zip    100%[===================>] 341.81M  25.0MB/s    in 17s     \n",
            "\n",
            "2019-01-19 21:51:41 (20.0 MB/s) - ‘fma_metadata.zip’ saved [358412441/358412441]\n",
            "\n",
            "Archive:  fma_metadata.zip\n",
            " bunzipping: fma_metadata/README.txt  \n",
            " bunzipping: fma_metadata/checksums  \n",
            " bunzipping: fma_metadata/not_found.pickle  \n",
            " bunzipping: fma_metadata/raw_genres.csv  \n",
            " bunzipping: fma_metadata/raw_albums.csv  \n",
            " bunzipping: fma_metadata/raw_artists.csv  \n",
            " bunzipping: fma_metadata/raw_tracks.csv  \n",
            " bunzipping: fma_metadata/tracks.csv  \n",
            " bunzipping: fma_metadata/genres.csv  \n",
            " bunzipping: fma_metadata/raw_echonest.csv  \n",
            " bunzipping: fma_metadata/echonest.csv  \n",
            " bunzipping: fma_metadata/features.csv  \n"
          ],
          "name": "stdout"
        }
      ]
    },
    {
      "metadata": {
        "id": "85OuOdupSgPQ",
        "colab_type": "code",
        "colab": {
          "base_uri": "https://localhost:8080/",
          "height": 72
        },
        "outputId": "3516bb2d-cfa5-40d9-86f1-538fd1f4408c"
      },
      "cell_type": "code",
      "source": [
        "from sklearn.linear_model import LinearRegression\n",
        "from sklearn.metrics import mean_squared_error, r2_score\n",
        "import pandas as pd\n",
        "from sklearn.model_selection import train_test_split\n",
        "import numpy as np\n",
        "import matplotlib.pyplot as plt\n",
        "import seaborn as sns\n",
        "from mpl_toolkits.mplot3d import Axes3D\n",
        "from datetime import datetime\n",
        "import math\n",
        "from scipy.stats import mode\n",
        "from sklearn.preprocessing import StandardScaler\n",
        "from mpl_toolkits.mplot3d import Axes3D\n",
        "import seaborn as sns\n",
        "import statsmodels.api as sm\n",
        "import time"
      ],
      "execution_count": 1,
      "outputs": [
        {
          "output_type": "stream",
          "text": [
            "/usr/local/lib/python3.6/dist-packages/statsmodels/compat/pandas.py:56: FutureWarning: The pandas.core.datetools module is deprecated and will be removed in a future version. Please use the pandas.tseries module instead.\n",
            "  from pandas.core import datetools\n"
          ],
          "name": "stderr"
        }
      ]
    },
    {
      "metadata": {
        "id": "VbUJKyI1LRwD",
        "colab_type": "code",
        "outputId": "3576a755-9fef-412b-9427-43bc017e4058",
        "colab": {
          "base_uri": "https://localhost:8080/",
          "height": 538
        }
      },
      "cell_type": "code",
      "source": [
        "tracks = pd.read_csv('fma_metadata/tracks.csv', header=1)\n",
        "tracks = tracks.iloc[1:]\n",
        "pd.set_option('display.max_columns', None)  # Unlimited columns\n",
        "tracks.head()"
      ],
      "execution_count": 12,
      "outputs": [
        {
          "output_type": "stream",
          "text": [
            "/usr/local/lib/python3.6/dist-packages/IPython/core/interactiveshell.py:2718: DtypeWarning: Columns (0) have mixed types. Specify dtype option on import or set low_memory=False.\n",
            "  interactivity=interactivity, compiler=compiler, result=result)\n"
          ],
          "name": "stderr"
        },
        {
          "output_type": "execute_result",
          "data": {
            "text/html": [
              "<div>\n",
              "<style scoped>\n",
              "    .dataframe tbody tr th:only-of-type {\n",
              "        vertical-align: middle;\n",
              "    }\n",
              "\n",
              "    .dataframe tbody tr th {\n",
              "        vertical-align: top;\n",
              "    }\n",
              "\n",
              "    .dataframe thead th {\n",
              "        text-align: right;\n",
              "    }\n",
              "</style>\n",
              "<table border=\"1\" class=\"dataframe\">\n",
              "  <thead>\n",
              "    <tr style=\"text-align: right;\">\n",
              "      <th></th>\n",
              "      <th>Unnamed: 0</th>\n",
              "      <th>comments</th>\n",
              "      <th>date_created</th>\n",
              "      <th>date_released</th>\n",
              "      <th>engineer</th>\n",
              "      <th>favorites</th>\n",
              "      <th>id</th>\n",
              "      <th>information</th>\n",
              "      <th>listens</th>\n",
              "      <th>producer</th>\n",
              "      <th>tags</th>\n",
              "      <th>title</th>\n",
              "      <th>tracks</th>\n",
              "      <th>type</th>\n",
              "      <th>active_year_begin</th>\n",
              "      <th>active_year_end</th>\n",
              "      <th>associated_labels</th>\n",
              "      <th>bio</th>\n",
              "      <th>comments.1</th>\n",
              "      <th>date_created.1</th>\n",
              "      <th>favorites.1</th>\n",
              "      <th>id.1</th>\n",
              "      <th>latitude</th>\n",
              "      <th>location</th>\n",
              "      <th>longitude</th>\n",
              "      <th>members</th>\n",
              "      <th>name</th>\n",
              "      <th>related_projects</th>\n",
              "      <th>tags.1</th>\n",
              "      <th>website</th>\n",
              "      <th>wikipedia_page</th>\n",
              "      <th>split</th>\n",
              "      <th>subset</th>\n",
              "      <th>bit_rate</th>\n",
              "      <th>comments.2</th>\n",
              "      <th>composer</th>\n",
              "      <th>date_created.2</th>\n",
              "      <th>date_recorded</th>\n",
              "      <th>duration</th>\n",
              "      <th>favorites.2</th>\n",
              "      <th>genre_top</th>\n",
              "      <th>genres</th>\n",
              "      <th>genres_all</th>\n",
              "      <th>information.1</th>\n",
              "      <th>interest</th>\n",
              "      <th>language_code</th>\n",
              "      <th>license</th>\n",
              "      <th>listens.1</th>\n",
              "      <th>lyricist</th>\n",
              "      <th>number</th>\n",
              "      <th>publisher</th>\n",
              "      <th>tags.2</th>\n",
              "      <th>title.1</th>\n",
              "    </tr>\n",
              "  </thead>\n",
              "  <tbody>\n",
              "    <tr>\n",
              "      <th>1</th>\n",
              "      <td>2</td>\n",
              "      <td>0.0</td>\n",
              "      <td>2008-11-26 01:44:45</td>\n",
              "      <td>2009-01-05 00:00:00</td>\n",
              "      <td>NaN</td>\n",
              "      <td>4.0</td>\n",
              "      <td>1.0</td>\n",
              "      <td>&lt;p&gt;&lt;/p&gt;</td>\n",
              "      <td>6073.0</td>\n",
              "      <td>NaN</td>\n",
              "      <td>[]</td>\n",
              "      <td>AWOL - A Way Of Life</td>\n",
              "      <td>7.0</td>\n",
              "      <td>Album</td>\n",
              "      <td>2006-01-01 00:00:00</td>\n",
              "      <td>NaN</td>\n",
              "      <td>NaN</td>\n",
              "      <td>&lt;p&gt;A Way Of Life, A Collective of Hip-Hop from...</td>\n",
              "      <td>0.0</td>\n",
              "      <td>2008-11-26 01:42:32</td>\n",
              "      <td>9.0</td>\n",
              "      <td>1.0</td>\n",
              "      <td>40.058324</td>\n",
              "      <td>New Jersey</td>\n",
              "      <td>-74.405661</td>\n",
              "      <td>Sajje Morocco,Brownbum,ZawidaGod,Custodian of ...</td>\n",
              "      <td>AWOL</td>\n",
              "      <td>The list of past projects is 2 long but every1...</td>\n",
              "      <td>['awol']</td>\n",
              "      <td>http://www.AzillionRecords.blogspot.com</td>\n",
              "      <td>NaN</td>\n",
              "      <td>training</td>\n",
              "      <td>small</td>\n",
              "      <td>256000.0</td>\n",
              "      <td>0.0</td>\n",
              "      <td>NaN</td>\n",
              "      <td>2008-11-26 01:48:12</td>\n",
              "      <td>2008-11-26 00:00:00</td>\n",
              "      <td>168.0</td>\n",
              "      <td>2.0</td>\n",
              "      <td>Hip-Hop</td>\n",
              "      <td>[21]</td>\n",
              "      <td>[21]</td>\n",
              "      <td>NaN</td>\n",
              "      <td>4656.0</td>\n",
              "      <td>en</td>\n",
              "      <td>Attribution-NonCommercial-ShareAlike 3.0 Inter...</td>\n",
              "      <td>1293.0</td>\n",
              "      <td>NaN</td>\n",
              "      <td>3.0</td>\n",
              "      <td>NaN</td>\n",
              "      <td>[]</td>\n",
              "      <td>Food</td>\n",
              "    </tr>\n",
              "    <tr>\n",
              "      <th>2</th>\n",
              "      <td>3</td>\n",
              "      <td>0.0</td>\n",
              "      <td>2008-11-26 01:44:45</td>\n",
              "      <td>2009-01-05 00:00:00</td>\n",
              "      <td>NaN</td>\n",
              "      <td>4.0</td>\n",
              "      <td>1.0</td>\n",
              "      <td>&lt;p&gt;&lt;/p&gt;</td>\n",
              "      <td>6073.0</td>\n",
              "      <td>NaN</td>\n",
              "      <td>[]</td>\n",
              "      <td>AWOL - A Way Of Life</td>\n",
              "      <td>7.0</td>\n",
              "      <td>Album</td>\n",
              "      <td>2006-01-01 00:00:00</td>\n",
              "      <td>NaN</td>\n",
              "      <td>NaN</td>\n",
              "      <td>&lt;p&gt;A Way Of Life, A Collective of Hip-Hop from...</td>\n",
              "      <td>0.0</td>\n",
              "      <td>2008-11-26 01:42:32</td>\n",
              "      <td>9.0</td>\n",
              "      <td>1.0</td>\n",
              "      <td>40.058324</td>\n",
              "      <td>New Jersey</td>\n",
              "      <td>-74.405661</td>\n",
              "      <td>Sajje Morocco,Brownbum,ZawidaGod,Custodian of ...</td>\n",
              "      <td>AWOL</td>\n",
              "      <td>The list of past projects is 2 long but every1...</td>\n",
              "      <td>['awol']</td>\n",
              "      <td>http://www.AzillionRecords.blogspot.com</td>\n",
              "      <td>NaN</td>\n",
              "      <td>training</td>\n",
              "      <td>medium</td>\n",
              "      <td>256000.0</td>\n",
              "      <td>0.0</td>\n",
              "      <td>NaN</td>\n",
              "      <td>2008-11-26 01:48:14</td>\n",
              "      <td>2008-11-26 00:00:00</td>\n",
              "      <td>237.0</td>\n",
              "      <td>1.0</td>\n",
              "      <td>Hip-Hop</td>\n",
              "      <td>[21]</td>\n",
              "      <td>[21]</td>\n",
              "      <td>NaN</td>\n",
              "      <td>1470.0</td>\n",
              "      <td>en</td>\n",
              "      <td>Attribution-NonCommercial-ShareAlike 3.0 Inter...</td>\n",
              "      <td>514.0</td>\n",
              "      <td>NaN</td>\n",
              "      <td>4.0</td>\n",
              "      <td>NaN</td>\n",
              "      <td>[]</td>\n",
              "      <td>Electric Ave</td>\n",
              "    </tr>\n",
              "    <tr>\n",
              "      <th>3</th>\n",
              "      <td>5</td>\n",
              "      <td>0.0</td>\n",
              "      <td>2008-11-26 01:44:45</td>\n",
              "      <td>2009-01-05 00:00:00</td>\n",
              "      <td>NaN</td>\n",
              "      <td>4.0</td>\n",
              "      <td>1.0</td>\n",
              "      <td>&lt;p&gt;&lt;/p&gt;</td>\n",
              "      <td>6073.0</td>\n",
              "      <td>NaN</td>\n",
              "      <td>[]</td>\n",
              "      <td>AWOL - A Way Of Life</td>\n",
              "      <td>7.0</td>\n",
              "      <td>Album</td>\n",
              "      <td>2006-01-01 00:00:00</td>\n",
              "      <td>NaN</td>\n",
              "      <td>NaN</td>\n",
              "      <td>&lt;p&gt;A Way Of Life, A Collective of Hip-Hop from...</td>\n",
              "      <td>0.0</td>\n",
              "      <td>2008-11-26 01:42:32</td>\n",
              "      <td>9.0</td>\n",
              "      <td>1.0</td>\n",
              "      <td>40.058324</td>\n",
              "      <td>New Jersey</td>\n",
              "      <td>-74.405661</td>\n",
              "      <td>Sajje Morocco,Brownbum,ZawidaGod,Custodian of ...</td>\n",
              "      <td>AWOL</td>\n",
              "      <td>The list of past projects is 2 long but every1...</td>\n",
              "      <td>['awol']</td>\n",
              "      <td>http://www.AzillionRecords.blogspot.com</td>\n",
              "      <td>NaN</td>\n",
              "      <td>training</td>\n",
              "      <td>small</td>\n",
              "      <td>256000.0</td>\n",
              "      <td>0.0</td>\n",
              "      <td>NaN</td>\n",
              "      <td>2008-11-26 01:48:20</td>\n",
              "      <td>2008-11-26 00:00:00</td>\n",
              "      <td>206.0</td>\n",
              "      <td>6.0</td>\n",
              "      <td>Hip-Hop</td>\n",
              "      <td>[21]</td>\n",
              "      <td>[21]</td>\n",
              "      <td>NaN</td>\n",
              "      <td>1933.0</td>\n",
              "      <td>en</td>\n",
              "      <td>Attribution-NonCommercial-ShareAlike 3.0 Inter...</td>\n",
              "      <td>1151.0</td>\n",
              "      <td>NaN</td>\n",
              "      <td>6.0</td>\n",
              "      <td>NaN</td>\n",
              "      <td>[]</td>\n",
              "      <td>This World</td>\n",
              "    </tr>\n",
              "    <tr>\n",
              "      <th>4</th>\n",
              "      <td>10</td>\n",
              "      <td>0.0</td>\n",
              "      <td>2008-11-26 01:45:08</td>\n",
              "      <td>2008-02-06 00:00:00</td>\n",
              "      <td>NaN</td>\n",
              "      <td>4.0</td>\n",
              "      <td>6.0</td>\n",
              "      <td>NaN</td>\n",
              "      <td>47632.0</td>\n",
              "      <td>NaN</td>\n",
              "      <td>[]</td>\n",
              "      <td>Constant Hitmaker</td>\n",
              "      <td>2.0</td>\n",
              "      <td>Album</td>\n",
              "      <td>NaN</td>\n",
              "      <td>NaN</td>\n",
              "      <td>Mexican Summer, Richie Records, Woodsist, Skul...</td>\n",
              "      <td>&lt;p&gt;&lt;span style=\"font-family:Verdana, Geneva, A...</td>\n",
              "      <td>3.0</td>\n",
              "      <td>2008-11-26 01:42:55</td>\n",
              "      <td>74.0</td>\n",
              "      <td>6.0</td>\n",
              "      <td>NaN</td>\n",
              "      <td>NaN</td>\n",
              "      <td>NaN</td>\n",
              "      <td>Kurt Vile, the Violators</td>\n",
              "      <td>Kurt Vile</td>\n",
              "      <td>NaN</td>\n",
              "      <td>['philly', 'kurt vile']</td>\n",
              "      <td>http://kurtvile.com</td>\n",
              "      <td>NaN</td>\n",
              "      <td>training</td>\n",
              "      <td>small</td>\n",
              "      <td>192000.0</td>\n",
              "      <td>0.0</td>\n",
              "      <td>Kurt Vile</td>\n",
              "      <td>2008-11-25 17:49:06</td>\n",
              "      <td>2008-11-26 00:00:00</td>\n",
              "      <td>161.0</td>\n",
              "      <td>178.0</td>\n",
              "      <td>Pop</td>\n",
              "      <td>[10]</td>\n",
              "      <td>[10]</td>\n",
              "      <td>NaN</td>\n",
              "      <td>54881.0</td>\n",
              "      <td>en</td>\n",
              "      <td>Attribution-NonCommercial-NoDerivatives (aka M...</td>\n",
              "      <td>50135.0</td>\n",
              "      <td>NaN</td>\n",
              "      <td>1.0</td>\n",
              "      <td>NaN</td>\n",
              "      <td>[]</td>\n",
              "      <td>Freeway</td>\n",
              "    </tr>\n",
              "    <tr>\n",
              "      <th>5</th>\n",
              "      <td>20</td>\n",
              "      <td>0.0</td>\n",
              "      <td>2008-11-26 01:45:05</td>\n",
              "      <td>2009-01-06 00:00:00</td>\n",
              "      <td>NaN</td>\n",
              "      <td>2.0</td>\n",
              "      <td>4.0</td>\n",
              "      <td>&lt;p&gt; \"spiritual songs\" from Nicky Cook&lt;/p&gt;</td>\n",
              "      <td>2710.0</td>\n",
              "      <td>NaN</td>\n",
              "      <td>[]</td>\n",
              "      <td>Niris</td>\n",
              "      <td>13.0</td>\n",
              "      <td>Album</td>\n",
              "      <td>1990-01-01 00:00:00</td>\n",
              "      <td>2011-01-01 00:00:00</td>\n",
              "      <td>NaN</td>\n",
              "      <td>&lt;p&gt;Songs written by: Nicky Cook&lt;/p&gt;\\n&lt;p&gt;VOCALS...</td>\n",
              "      <td>2.0</td>\n",
              "      <td>2008-11-26 01:42:52</td>\n",
              "      <td>10.0</td>\n",
              "      <td>4.0</td>\n",
              "      <td>51.895927</td>\n",
              "      <td>Colchester England</td>\n",
              "      <td>0.891874</td>\n",
              "      <td>Nicky Cook\\n</td>\n",
              "      <td>Nicky Cook</td>\n",
              "      <td>NaN</td>\n",
              "      <td>['instrumentals', 'experimental pop', 'post pu...</td>\n",
              "      <td>NaN</td>\n",
              "      <td>NaN</td>\n",
              "      <td>training</td>\n",
              "      <td>large</td>\n",
              "      <td>256000.0</td>\n",
              "      <td>0.0</td>\n",
              "      <td>NaN</td>\n",
              "      <td>2008-11-26 01:48:56</td>\n",
              "      <td>2008-01-01 00:00:00</td>\n",
              "      <td>311.0</td>\n",
              "      <td>0.0</td>\n",
              "      <td>NaN</td>\n",
              "      <td>[76, 103]</td>\n",
              "      <td>[17, 10, 76, 103]</td>\n",
              "      <td>NaN</td>\n",
              "      <td>978.0</td>\n",
              "      <td>en</td>\n",
              "      <td>Attribution-NonCommercial-NoDerivatives (aka M...</td>\n",
              "      <td>361.0</td>\n",
              "      <td>NaN</td>\n",
              "      <td>3.0</td>\n",
              "      <td>NaN</td>\n",
              "      <td>[]</td>\n",
              "      <td>Spiritual Level</td>\n",
              "    </tr>\n",
              "  </tbody>\n",
              "</table>\n",
              "</div>"
            ],
            "text/plain": [
              "  Unnamed: 0  comments         date_created        date_released engineer  \\\n",
              "1          2       0.0  2008-11-26 01:44:45  2009-01-05 00:00:00      NaN   \n",
              "2          3       0.0  2008-11-26 01:44:45  2009-01-05 00:00:00      NaN   \n",
              "3          5       0.0  2008-11-26 01:44:45  2009-01-05 00:00:00      NaN   \n",
              "4         10       0.0  2008-11-26 01:45:08  2008-02-06 00:00:00      NaN   \n",
              "5         20       0.0  2008-11-26 01:45:05  2009-01-06 00:00:00      NaN   \n",
              "\n",
              "   favorites   id                                information  listens  \\\n",
              "1        4.0  1.0                                    <p></p>   6073.0   \n",
              "2        4.0  1.0                                    <p></p>   6073.0   \n",
              "3        4.0  1.0                                    <p></p>   6073.0   \n",
              "4        4.0  6.0                                        NaN  47632.0   \n",
              "5        2.0  4.0  <p> \"spiritual songs\" from Nicky Cook</p>   2710.0   \n",
              "\n",
              "  producer tags                 title  tracks   type    active_year_begin  \\\n",
              "1      NaN   []  AWOL - A Way Of Life     7.0  Album  2006-01-01 00:00:00   \n",
              "2      NaN   []  AWOL - A Way Of Life     7.0  Album  2006-01-01 00:00:00   \n",
              "3      NaN   []  AWOL - A Way Of Life     7.0  Album  2006-01-01 00:00:00   \n",
              "4      NaN   []     Constant Hitmaker     2.0  Album                  NaN   \n",
              "5      NaN   []                 Niris    13.0  Album  1990-01-01 00:00:00   \n",
              "\n",
              "       active_year_end                                  associated_labels  \\\n",
              "1                  NaN                                                NaN   \n",
              "2                  NaN                                                NaN   \n",
              "3                  NaN                                                NaN   \n",
              "4                  NaN  Mexican Summer, Richie Records, Woodsist, Skul...   \n",
              "5  2011-01-01 00:00:00                                                NaN   \n",
              "\n",
              "                                                 bio  comments.1  \\\n",
              "1  <p>A Way Of Life, A Collective of Hip-Hop from...         0.0   \n",
              "2  <p>A Way Of Life, A Collective of Hip-Hop from...         0.0   \n",
              "3  <p>A Way Of Life, A Collective of Hip-Hop from...         0.0   \n",
              "4  <p><span style=\"font-family:Verdana, Geneva, A...         3.0   \n",
              "5  <p>Songs written by: Nicky Cook</p>\\n<p>VOCALS...         2.0   \n",
              "\n",
              "        date_created.1  favorites.1  id.1   latitude            location  \\\n",
              "1  2008-11-26 01:42:32          9.0   1.0  40.058324          New Jersey   \n",
              "2  2008-11-26 01:42:32          9.0   1.0  40.058324          New Jersey   \n",
              "3  2008-11-26 01:42:32          9.0   1.0  40.058324          New Jersey   \n",
              "4  2008-11-26 01:42:55         74.0   6.0        NaN                 NaN   \n",
              "5  2008-11-26 01:42:52         10.0   4.0  51.895927  Colchester England   \n",
              "\n",
              "   longitude                                            members        name  \\\n",
              "1 -74.405661  Sajje Morocco,Brownbum,ZawidaGod,Custodian of ...        AWOL   \n",
              "2 -74.405661  Sajje Morocco,Brownbum,ZawidaGod,Custodian of ...        AWOL   \n",
              "3 -74.405661  Sajje Morocco,Brownbum,ZawidaGod,Custodian of ...        AWOL   \n",
              "4        NaN                           Kurt Vile, the Violators   Kurt Vile   \n",
              "5   0.891874                                       Nicky Cook\\n  Nicky Cook   \n",
              "\n",
              "                                    related_projects  \\\n",
              "1  The list of past projects is 2 long but every1...   \n",
              "2  The list of past projects is 2 long but every1...   \n",
              "3  The list of past projects is 2 long but every1...   \n",
              "4                                                NaN   \n",
              "5                                                NaN   \n",
              "\n",
              "                                              tags.1  \\\n",
              "1                                           ['awol']   \n",
              "2                                           ['awol']   \n",
              "3                                           ['awol']   \n",
              "4                            ['philly', 'kurt vile']   \n",
              "5  ['instrumentals', 'experimental pop', 'post pu...   \n",
              "\n",
              "                                   website wikipedia_page     split  subset  \\\n",
              "1  http://www.AzillionRecords.blogspot.com            NaN  training   small   \n",
              "2  http://www.AzillionRecords.blogspot.com            NaN  training  medium   \n",
              "3  http://www.AzillionRecords.blogspot.com            NaN  training   small   \n",
              "4                      http://kurtvile.com            NaN  training   small   \n",
              "5                                      NaN            NaN  training   large   \n",
              "\n",
              "   bit_rate  comments.2   composer       date_created.2        date_recorded  \\\n",
              "1  256000.0         0.0        NaN  2008-11-26 01:48:12  2008-11-26 00:00:00   \n",
              "2  256000.0         0.0        NaN  2008-11-26 01:48:14  2008-11-26 00:00:00   \n",
              "3  256000.0         0.0        NaN  2008-11-26 01:48:20  2008-11-26 00:00:00   \n",
              "4  192000.0         0.0  Kurt Vile  2008-11-25 17:49:06  2008-11-26 00:00:00   \n",
              "5  256000.0         0.0        NaN  2008-11-26 01:48:56  2008-01-01 00:00:00   \n",
              "\n",
              "   duration  favorites.2 genre_top     genres         genres_all  \\\n",
              "1     168.0          2.0   Hip-Hop       [21]               [21]   \n",
              "2     237.0          1.0   Hip-Hop       [21]               [21]   \n",
              "3     206.0          6.0   Hip-Hop       [21]               [21]   \n",
              "4     161.0        178.0       Pop       [10]               [10]   \n",
              "5     311.0          0.0       NaN  [76, 103]  [17, 10, 76, 103]   \n",
              "\n",
              "  information.1  interest language_code  \\\n",
              "1           NaN    4656.0            en   \n",
              "2           NaN    1470.0            en   \n",
              "3           NaN    1933.0            en   \n",
              "4           NaN   54881.0            en   \n",
              "5           NaN     978.0            en   \n",
              "\n",
              "                                             license  listens.1 lyricist  \\\n",
              "1  Attribution-NonCommercial-ShareAlike 3.0 Inter...     1293.0      NaN   \n",
              "2  Attribution-NonCommercial-ShareAlike 3.0 Inter...      514.0      NaN   \n",
              "3  Attribution-NonCommercial-ShareAlike 3.0 Inter...     1151.0      NaN   \n",
              "4  Attribution-NonCommercial-NoDerivatives (aka M...    50135.0      NaN   \n",
              "5  Attribution-NonCommercial-NoDerivatives (aka M...      361.0      NaN   \n",
              "\n",
              "   number publisher tags.2          title.1  \n",
              "1     3.0       NaN     []             Food  \n",
              "2     4.0       NaN     []     Electric Ave  \n",
              "3     6.0       NaN     []       This World  \n",
              "4     1.0       NaN     []          Freeway  \n",
              "5     3.0       NaN     []  Spiritual Level  "
            ]
          },
          "metadata": {
            "tags": []
          },
          "execution_count": 12
        }
      ]
    },
    {
      "metadata": {
        "id": "ut-Zfhp2LjcS",
        "colab_type": "code",
        "outputId": "10b125b1-0b35-4f00-fd3e-fa494e654cf7",
        "colab": {
          "base_uri": "https://localhost:8080/",
          "height": 320
        }
      },
      "cell_type": "code",
      "source": [
        "tracks.describe()"
      ],
      "execution_count": 3,
      "outputs": [
        {
          "output_type": "execute_result",
          "data": {
            "text/html": [
              "<div>\n",
              "<style scoped>\n",
              "    .dataframe tbody tr th:only-of-type {\n",
              "        vertical-align: middle;\n",
              "    }\n",
              "\n",
              "    .dataframe tbody tr th {\n",
              "        vertical-align: top;\n",
              "    }\n",
              "\n",
              "    .dataframe thead th {\n",
              "        text-align: right;\n",
              "    }\n",
              "</style>\n",
              "<table border=\"1\" class=\"dataframe\">\n",
              "  <thead>\n",
              "    <tr style=\"text-align: right;\">\n",
              "      <th></th>\n",
              "      <th>comments</th>\n",
              "      <th>favorites</th>\n",
              "      <th>id</th>\n",
              "      <th>listens</th>\n",
              "      <th>tracks</th>\n",
              "      <th>comments.1</th>\n",
              "      <th>favorites.1</th>\n",
              "      <th>id.1</th>\n",
              "      <th>latitude</th>\n",
              "      <th>longitude</th>\n",
              "      <th>bit_rate</th>\n",
              "      <th>comments.2</th>\n",
              "      <th>duration</th>\n",
              "      <th>favorites.2</th>\n",
              "      <th>interest</th>\n",
              "      <th>listens.1</th>\n",
              "      <th>number</th>\n",
              "    </tr>\n",
              "  </thead>\n",
              "  <tbody>\n",
              "    <tr>\n",
              "      <th>count</th>\n",
              "      <td>106574.000000</td>\n",
              "      <td>106574.000000</td>\n",
              "      <td>106574.000000</td>\n",
              "      <td>1.065740e+05</td>\n",
              "      <td>106574.000000</td>\n",
              "      <td>106574.000000</td>\n",
              "      <td>106574.000000</td>\n",
              "      <td>106574.000000</td>\n",
              "      <td>44544.000000</td>\n",
              "      <td>44544.000000</td>\n",
              "      <td>106574.000000</td>\n",
              "      <td>106574.000000</td>\n",
              "      <td>106574.000000</td>\n",
              "      <td>106574.000000</td>\n",
              "      <td>1.065740e+05</td>\n",
              "      <td>106574.000000</td>\n",
              "      <td>106574.000000</td>\n",
              "    </tr>\n",
              "    <tr>\n",
              "      <th>mean</th>\n",
              "      <td>0.394946</td>\n",
              "      <td>1.286927</td>\n",
              "      <td>12826.933914</td>\n",
              "      <td>3.212031e+04</td>\n",
              "      <td>19.721452</td>\n",
              "      <td>1.894702</td>\n",
              "      <td>30.041915</td>\n",
              "      <td>12036.770404</td>\n",
              "      <td>39.901626</td>\n",
              "      <td>-38.668642</td>\n",
              "      <td>263274.695048</td>\n",
              "      <td>0.031621</td>\n",
              "      <td>277.849100</td>\n",
              "      <td>3.182521</td>\n",
              "      <td>3.541310e+03</td>\n",
              "      <td>2329.353548</td>\n",
              "      <td>8.260945</td>\n",
              "    </tr>\n",
              "    <tr>\n",
              "      <th>std</th>\n",
              "      <td>2.268915</td>\n",
              "      <td>3.133035</td>\n",
              "      <td>6290.261805</td>\n",
              "      <td>1.478532e+05</td>\n",
              "      <td>39.943673</td>\n",
              "      <td>6.297679</td>\n",
              "      <td>100.511408</td>\n",
              "      <td>6881.420867</td>\n",
              "      <td>18.240860</td>\n",
              "      <td>65.237220</td>\n",
              "      <td>67623.443584</td>\n",
              "      <td>0.321993</td>\n",
              "      <td>305.518553</td>\n",
              "      <td>13.513820</td>\n",
              "      <td>1.901743e+04</td>\n",
              "      <td>8028.070647</td>\n",
              "      <td>15.243271</td>\n",
              "    </tr>\n",
              "    <tr>\n",
              "      <th>min</th>\n",
              "      <td>-1.000000</td>\n",
              "      <td>-1.000000</td>\n",
              "      <td>-1.000000</td>\n",
              "      <td>-1.000000e+00</td>\n",
              "      <td>-1.000000</td>\n",
              "      <td>-1.000000</td>\n",
              "      <td>-1.000000</td>\n",
              "      <td>1.000000</td>\n",
              "      <td>-45.878760</td>\n",
              "      <td>-157.526855</td>\n",
              "      <td>-1.000000</td>\n",
              "      <td>0.000000</td>\n",
              "      <td>0.000000</td>\n",
              "      <td>0.000000</td>\n",
              "      <td>2.000000e+00</td>\n",
              "      <td>0.000000</td>\n",
              "      <td>0.000000</td>\n",
              "    </tr>\n",
              "    <tr>\n",
              "      <th>25%</th>\n",
              "      <td>0.000000</td>\n",
              "      <td>0.000000</td>\n",
              "      <td>7793.000000</td>\n",
              "      <td>3.361000e+03</td>\n",
              "      <td>7.000000</td>\n",
              "      <td>0.000000</td>\n",
              "      <td>1.000000</td>\n",
              "      <td>6443.000000</td>\n",
              "      <td>39.271398</td>\n",
              "      <td>-79.997459</td>\n",
              "      <td>192000.000000</td>\n",
              "      <td>0.000000</td>\n",
              "      <td>149.000000</td>\n",
              "      <td>0.000000</td>\n",
              "      <td>5.990000e+02</td>\n",
              "      <td>292.000000</td>\n",
              "      <td>2.000000</td>\n",
              "    </tr>\n",
              "    <tr>\n",
              "      <th>50%</th>\n",
              "      <td>0.000000</td>\n",
              "      <td>0.000000</td>\n",
              "      <td>13374.000000</td>\n",
              "      <td>8.982000e+03</td>\n",
              "      <td>11.000000</td>\n",
              "      <td>0.000000</td>\n",
              "      <td>5.000000</td>\n",
              "      <td>12029.500000</td>\n",
              "      <td>41.387917</td>\n",
              "      <td>-73.554431</td>\n",
              "      <td>299914.000000</td>\n",
              "      <td>0.000000</td>\n",
              "      <td>216.000000</td>\n",
              "      <td>1.000000</td>\n",
              "      <td>1.314000e+03</td>\n",
              "      <td>764.000000</td>\n",
              "      <td>5.000000</td>\n",
              "    </tr>\n",
              "    <tr>\n",
              "      <th>75%</th>\n",
              "      <td>0.000000</td>\n",
              "      <td>1.000000</td>\n",
              "      <td>18203.000000</td>\n",
              "      <td>2.363500e+04</td>\n",
              "      <td>17.000000</td>\n",
              "      <td>1.000000</td>\n",
              "      <td>16.000000</td>\n",
              "      <td>18011.000000</td>\n",
              "      <td>48.856930</td>\n",
              "      <td>4.351710</td>\n",
              "      <td>320000.000000</td>\n",
              "      <td>0.000000</td>\n",
              "      <td>305.000000</td>\n",
              "      <td>3.000000</td>\n",
              "      <td>3.059000e+03</td>\n",
              "      <td>2018.000000</td>\n",
              "      <td>9.000000</td>\n",
              "    </tr>\n",
              "    <tr>\n",
              "      <th>max</th>\n",
              "      <td>53.000000</td>\n",
              "      <td>61.000000</td>\n",
              "      <td>22940.000000</td>\n",
              "      <td>3.564243e+06</td>\n",
              "      <td>652.000000</td>\n",
              "      <td>79.000000</td>\n",
              "      <td>963.000000</td>\n",
              "      <td>24357.000000</td>\n",
              "      <td>67.286005</td>\n",
              "      <td>175.277000</td>\n",
              "      <td>448000.000000</td>\n",
              "      <td>37.000000</td>\n",
              "      <td>18350.000000</td>\n",
              "      <td>1482.000000</td>\n",
              "      <td>3.293557e+06</td>\n",
              "      <td>543252.000000</td>\n",
              "      <td>255.000000</td>\n",
              "    </tr>\n",
              "  </tbody>\n",
              "</table>\n",
              "</div>"
            ],
            "text/plain": [
              "            comments      favorites             id       listens  \\\n",
              "count  106574.000000  106574.000000  106574.000000  1.065740e+05   \n",
              "mean        0.394946       1.286927   12826.933914  3.212031e+04   \n",
              "std         2.268915       3.133035    6290.261805  1.478532e+05   \n",
              "min        -1.000000      -1.000000      -1.000000 -1.000000e+00   \n",
              "25%         0.000000       0.000000    7793.000000  3.361000e+03   \n",
              "50%         0.000000       0.000000   13374.000000  8.982000e+03   \n",
              "75%         0.000000       1.000000   18203.000000  2.363500e+04   \n",
              "max        53.000000      61.000000   22940.000000  3.564243e+06   \n",
              "\n",
              "              tracks     comments.1    favorites.1           id.1  \\\n",
              "count  106574.000000  106574.000000  106574.000000  106574.000000   \n",
              "mean       19.721452       1.894702      30.041915   12036.770404   \n",
              "std        39.943673       6.297679     100.511408    6881.420867   \n",
              "min        -1.000000      -1.000000      -1.000000       1.000000   \n",
              "25%         7.000000       0.000000       1.000000    6443.000000   \n",
              "50%        11.000000       0.000000       5.000000   12029.500000   \n",
              "75%        17.000000       1.000000      16.000000   18011.000000   \n",
              "max       652.000000      79.000000     963.000000   24357.000000   \n",
              "\n",
              "           latitude     longitude       bit_rate     comments.2  \\\n",
              "count  44544.000000  44544.000000  106574.000000  106574.000000   \n",
              "mean      39.901626    -38.668642  263274.695048       0.031621   \n",
              "std       18.240860     65.237220   67623.443584       0.321993   \n",
              "min      -45.878760   -157.526855      -1.000000       0.000000   \n",
              "25%       39.271398    -79.997459  192000.000000       0.000000   \n",
              "50%       41.387917    -73.554431  299914.000000       0.000000   \n",
              "75%       48.856930      4.351710  320000.000000       0.000000   \n",
              "max       67.286005    175.277000  448000.000000      37.000000   \n",
              "\n",
              "            duration    favorites.2      interest      listens.1  \\\n",
              "count  106574.000000  106574.000000  1.065740e+05  106574.000000   \n",
              "mean      277.849100       3.182521  3.541310e+03    2329.353548   \n",
              "std       305.518553      13.513820  1.901743e+04    8028.070647   \n",
              "min         0.000000       0.000000  2.000000e+00       0.000000   \n",
              "25%       149.000000       0.000000  5.990000e+02     292.000000   \n",
              "50%       216.000000       1.000000  1.314000e+03     764.000000   \n",
              "75%       305.000000       3.000000  3.059000e+03    2018.000000   \n",
              "max     18350.000000    1482.000000  3.293557e+06  543252.000000   \n",
              "\n",
              "              number  \n",
              "count  106574.000000  \n",
              "mean        8.260945  \n",
              "std        15.243271  \n",
              "min         0.000000  \n",
              "25%         2.000000  \n",
              "50%         5.000000  \n",
              "75%         9.000000  \n",
              "max       255.000000  "
            ]
          },
          "metadata": {
            "tags": []
          },
          "execution_count": 3
        }
      ]
    },
    {
      "metadata": {
        "id": "5DvMPiM8MZeY",
        "colab_type": "code",
        "outputId": "137ccd85-ba95-41d8-b8e7-6e0479f10e27",
        "colab": {
          "base_uri": "https://localhost:8080/",
          "height": 34
        }
      },
      "cell_type": "code",
      "source": [
        "tracks.shape"
      ],
      "execution_count": 4,
      "outputs": [
        {
          "output_type": "execute_result",
          "data": {
            "text/plain": [
              "(106574, 53)"
            ]
          },
          "metadata": {
            "tags": []
          },
          "execution_count": 4
        }
      ]
    },
    {
      "metadata": {
        "id": "umjbKsMqLJPj",
        "colab_type": "code",
        "colab": {
          "base_uri": "https://localhost:8080/",
          "height": 34
        },
        "outputId": "d0f2625b-ebb5-4fb1-a303-a6cb122e40fd"
      },
      "cell_type": "code",
      "source": [
        "list(tracks.columns.values).index('genre_top')"
      ],
      "execution_count": 5,
      "outputs": [
        {
          "output_type": "execute_result",
          "data": {
            "text/plain": [
              "40"
            ]
          },
          "metadata": {
            "tags": []
          },
          "execution_count": 5
        }
      ]
    },
    {
      "metadata": {
        "id": "-ryn43boCzb5",
        "colab_type": "code",
        "outputId": "70c845f1-81a5-457f-ee10-6ab29754fa0d",
        "colab": {
          "base_uri": "https://localhost:8080/",
          "height": 87
        }
      },
      "cell_type": "code",
      "source": [
        "unique_genre = tracks.genre_top.unique()\n",
        "unique_genre"
      ],
      "execution_count": 6,
      "outputs": [
        {
          "output_type": "execute_result",
          "data": {
            "text/plain": [
              "array(['Hip-Hop', 'Pop', nan, 'Rock', 'Experimental', 'Folk', 'Jazz',\n",
              "       'Electronic', 'Spoken', 'International', 'Soul-RnB', 'Blues',\n",
              "       'Country', 'Classical', 'Old-Time / Historic', 'Instrumental',\n",
              "       'Easy Listening'], dtype=object)"
            ]
          },
          "metadata": {
            "tags": []
          },
          "execution_count": 6
        }
      ]
    },
    {
      "metadata": {
        "id": "l-TRR9ywEQFK",
        "colab_type": "code",
        "outputId": "55ed164c-cac6-4c12-f7f4-1473df7fe27a",
        "colab": {
          "base_uri": "https://localhost:8080/",
          "height": 34
        }
      },
      "cell_type": "code",
      "source": [
        "len(unique_genre)"
      ],
      "execution_count": 7,
      "outputs": [
        {
          "output_type": "execute_result",
          "data": {
            "text/plain": [
              "17"
            ]
          },
          "metadata": {
            "tags": []
          },
          "execution_count": 7
        }
      ]
    },
    {
      "metadata": {
        "id": "w5tphxmjo9Bs",
        "colab_type": "code",
        "colab": {}
      },
      "cell_type": "code",
      "source": [
        "def get_binary(cat_types, row, index):\n",
        "  cell = row.iloc[index]\n",
        "  # print(str(type(cell)) == \"<class 'str'>\" , type(cell), cell)\n",
        "  if str(type(cell)) != \"<class 'str'>\":\n",
        "    #print('found Nan')\n",
        "    pattern = '00000000'\n",
        "  else:\n",
        "    # print(f'found non-NaN {cell}')\n",
        "    pattern = f'{(cat_types.index(cell) + 1):08b}'\n",
        "  return pd.Series([int(pattern[7-j]) for j in range(0,min(8,int(np.log2(len(types))) + 1))])\n"
      ],
      "execution_count": 0,
      "outputs": []
    },
    {
      "metadata": {
        "id": "aL7pJE5apb7J",
        "colab_type": "code",
        "colab": {
          "base_uri": "https://localhost:8080/",
          "height": 34
        },
        "outputId": "186a818a-1bbe-4632-a2aa-cdb167173198"
      },
      "cell_type": "code",
      "source": [
        "df = tracks\n",
        "cats = ['genre_top']\n",
        "bdf = pd.DataFrame(df)\n",
        "st = time.perf_counter()\n",
        "for c in cats:\n",
        "    index = list(tracks.columns.values).index(c)\n",
        "    cl = c[0].lower() + c[1:] + '_'\n",
        "    types = df[c].unique().tolist()\n",
        "    bdf[[(cl + str(j)) for j in range(0,min(\n",
        "        8,int(np.log2(len(types))) + 1)) ]] = \\\n",
        "       bdf.apply(lambda row: get_binary(types, row, index), axis=1)\n",
        "elapsed = time.perf_counter() - st\n",
        "print(f\"apply executed in {elapsed:0.2f} seconds.\")\n",
        "dfbc = bdf.drop(cats,inplace=False, axis=1)"
      ],
      "execution_count": 22,
      "outputs": [
        {
          "output_type": "stream",
          "text": [
            "apply executed in 24.79 seconds.\n"
          ],
          "name": "stdout"
        }
      ]
    },
    {
      "metadata": {
        "id": "G_3JzTVdKr2W",
        "colab_type": "code",
        "colab": {}
      },
      "cell_type": "code",
      "source": [
        "# df = tracks\n",
        "# cats = ['genre_top']\n",
        "# for c in cats:\n",
        "#     cl = c[0].lower() + c[1:] + '-'\n",
        "#     types = df[c].unique().tolist() \n",
        "#     for i in range(0,len(types)):\n",
        "#       if len(df[df[c] == types[i]]) == 0:\n",
        "#         continue\n",
        "#       patterns = df[df[c] == types[i]][c].apply(lambda s: \\\n",
        "#           ('00000000' if pd.isnull(s) else f'{(types.index(s) + 1):08b}'))\n",
        "#       #tdf['gentre_top_0']= pd.Series([int(p[0]) for p in patterns])\n",
        "#       print(type(patterns),patterns.shape)\n",
        "#       for j in range(5):\n",
        "#         print(patterns.iat[j])\n",
        "#       for j in range(0,min(8,int(np.log2(len(types))) + 1)):\n",
        "# #          if j == 0:\n",
        "# #            print(len([int(p[j]) for p in patterns]))\n",
        "# #            print(len(df.loc[df[c] == types[i],c]))\n",
        "# #          print(f\"i {i} j {j} types[i]: {types[i]} clj: {cl + str(j)}\")\n",
        "# #          df.loc[df[c] == types[i],c][cl + str(j)] = pd.Series([int(p[j]) for p in patterns])\n",
        "#           df[cl + str(j)] = pd.Series([int(p[j]) for p in patterns])\n",
        "# dfbc = df.drop(cats,inplace=False, axis=1)\n",
        "# # dfbc = dfbc.join(tdf)\n",
        "# dfbc.head()"
      ],
      "execution_count": 0,
      "outputs": []
    },
    {
      "metadata": {
        "id": "qEKBfO-1vL6W",
        "colab_type": "code",
        "colab": {}
      },
      "cell_type": "code",
      "source": [
        ""
      ],
      "execution_count": 0,
      "outputs": []
    },
    {
      "metadata": {
        "id": "Q6hTKOk-iLcJ",
        "colab_type": "code",
        "colab": {
          "base_uri": "https://localhost:8080/",
          "height": 503
        },
        "outputId": "3b5811f8-01a4-4ad6-9f1d-2d8538bd6db2"
      },
      "cell_type": "code",
      "source": [
        "dfbc.head(5)"
      ],
      "execution_count": 18,
      "outputs": [
        {
          "output_type": "execute_result",
          "data": {
            "text/html": [
              "<div>\n",
              "<style scoped>\n",
              "    .dataframe tbody tr th:only-of-type {\n",
              "        vertical-align: middle;\n",
              "    }\n",
              "\n",
              "    .dataframe tbody tr th {\n",
              "        vertical-align: top;\n",
              "    }\n",
              "\n",
              "    .dataframe thead th {\n",
              "        text-align: right;\n",
              "    }\n",
              "</style>\n",
              "<table border=\"1\" class=\"dataframe\">\n",
              "  <thead>\n",
              "    <tr style=\"text-align: right;\">\n",
              "      <th></th>\n",
              "      <th>Unnamed: 0</th>\n",
              "      <th>comments</th>\n",
              "      <th>date_created</th>\n",
              "      <th>date_released</th>\n",
              "      <th>engineer</th>\n",
              "      <th>favorites</th>\n",
              "      <th>id</th>\n",
              "      <th>information</th>\n",
              "      <th>listens</th>\n",
              "      <th>producer</th>\n",
              "      <th>tags</th>\n",
              "      <th>title</th>\n",
              "      <th>tracks</th>\n",
              "      <th>type</th>\n",
              "      <th>active_year_begin</th>\n",
              "      <th>active_year_end</th>\n",
              "      <th>associated_labels</th>\n",
              "      <th>bio</th>\n",
              "      <th>comments.1</th>\n",
              "      <th>date_created.1</th>\n",
              "      <th>favorites.1</th>\n",
              "      <th>id.1</th>\n",
              "      <th>latitude</th>\n",
              "      <th>location</th>\n",
              "      <th>longitude</th>\n",
              "      <th>members</th>\n",
              "      <th>name</th>\n",
              "      <th>related_projects</th>\n",
              "      <th>tags.1</th>\n",
              "      <th>website</th>\n",
              "      <th>wikipedia_page</th>\n",
              "      <th>split</th>\n",
              "      <th>subset</th>\n",
              "      <th>bit_rate</th>\n",
              "      <th>comments.2</th>\n",
              "      <th>composer</th>\n",
              "      <th>date_created.2</th>\n",
              "      <th>date_recorded</th>\n",
              "      <th>duration</th>\n",
              "      <th>favorites.2</th>\n",
              "      <th>genres</th>\n",
              "      <th>genres_all</th>\n",
              "      <th>information.1</th>\n",
              "      <th>interest</th>\n",
              "      <th>language_code</th>\n",
              "      <th>license</th>\n",
              "      <th>listens.1</th>\n",
              "      <th>lyricist</th>\n",
              "      <th>number</th>\n",
              "      <th>publisher</th>\n",
              "      <th>tags.2</th>\n",
              "      <th>title.1</th>\n",
              "      <th>genre_top_0</th>\n",
              "      <th>genre_top_1</th>\n",
              "      <th>genre_top_2</th>\n",
              "      <th>genre_top_3</th>\n",
              "      <th>genre_top_4</th>\n",
              "    </tr>\n",
              "  </thead>\n",
              "  <tbody>\n",
              "    <tr>\n",
              "      <th>1</th>\n",
              "      <td>2</td>\n",
              "      <td>0.0</td>\n",
              "      <td>2008-11-26 01:44:45</td>\n",
              "      <td>2009-01-05 00:00:00</td>\n",
              "      <td>NaN</td>\n",
              "      <td>4.0</td>\n",
              "      <td>1.0</td>\n",
              "      <td>&lt;p&gt;&lt;/p&gt;</td>\n",
              "      <td>6073.0</td>\n",
              "      <td>NaN</td>\n",
              "      <td>[]</td>\n",
              "      <td>AWOL - A Way Of Life</td>\n",
              "      <td>7.0</td>\n",
              "      <td>Album</td>\n",
              "      <td>2006-01-01 00:00:00</td>\n",
              "      <td>NaN</td>\n",
              "      <td>NaN</td>\n",
              "      <td>&lt;p&gt;A Way Of Life, A Collective of Hip-Hop from...</td>\n",
              "      <td>0.0</td>\n",
              "      <td>2008-11-26 01:42:32</td>\n",
              "      <td>9.0</td>\n",
              "      <td>1.0</td>\n",
              "      <td>40.058324</td>\n",
              "      <td>New Jersey</td>\n",
              "      <td>-74.405661</td>\n",
              "      <td>Sajje Morocco,Brownbum,ZawidaGod,Custodian of ...</td>\n",
              "      <td>AWOL</td>\n",
              "      <td>The list of past projects is 2 long but every1...</td>\n",
              "      <td>['awol']</td>\n",
              "      <td>http://www.AzillionRecords.blogspot.com</td>\n",
              "      <td>NaN</td>\n",
              "      <td>training</td>\n",
              "      <td>small</td>\n",
              "      <td>256000.0</td>\n",
              "      <td>0.0</td>\n",
              "      <td>NaN</td>\n",
              "      <td>2008-11-26 01:48:12</td>\n",
              "      <td>2008-11-26 00:00:00</td>\n",
              "      <td>168.0</td>\n",
              "      <td>2.0</td>\n",
              "      <td>[21]</td>\n",
              "      <td>[21]</td>\n",
              "      <td>NaN</td>\n",
              "      <td>4656.0</td>\n",
              "      <td>en</td>\n",
              "      <td>Attribution-NonCommercial-ShareAlike 3.0 Inter...</td>\n",
              "      <td>1293.0</td>\n",
              "      <td>NaN</td>\n",
              "      <td>3.0</td>\n",
              "      <td>NaN</td>\n",
              "      <td>[]</td>\n",
              "      <td>Food</td>\n",
              "      <td>1</td>\n",
              "      <td>0</td>\n",
              "      <td>0</td>\n",
              "      <td>0</td>\n",
              "      <td>0</td>\n",
              "    </tr>\n",
              "    <tr>\n",
              "      <th>2</th>\n",
              "      <td>3</td>\n",
              "      <td>0.0</td>\n",
              "      <td>2008-11-26 01:44:45</td>\n",
              "      <td>2009-01-05 00:00:00</td>\n",
              "      <td>NaN</td>\n",
              "      <td>4.0</td>\n",
              "      <td>1.0</td>\n",
              "      <td>&lt;p&gt;&lt;/p&gt;</td>\n",
              "      <td>6073.0</td>\n",
              "      <td>NaN</td>\n",
              "      <td>[]</td>\n",
              "      <td>AWOL - A Way Of Life</td>\n",
              "      <td>7.0</td>\n",
              "      <td>Album</td>\n",
              "      <td>2006-01-01 00:00:00</td>\n",
              "      <td>NaN</td>\n",
              "      <td>NaN</td>\n",
              "      <td>&lt;p&gt;A Way Of Life, A Collective of Hip-Hop from...</td>\n",
              "      <td>0.0</td>\n",
              "      <td>2008-11-26 01:42:32</td>\n",
              "      <td>9.0</td>\n",
              "      <td>1.0</td>\n",
              "      <td>40.058324</td>\n",
              "      <td>New Jersey</td>\n",
              "      <td>-74.405661</td>\n",
              "      <td>Sajje Morocco,Brownbum,ZawidaGod,Custodian of ...</td>\n",
              "      <td>AWOL</td>\n",
              "      <td>The list of past projects is 2 long but every1...</td>\n",
              "      <td>['awol']</td>\n",
              "      <td>http://www.AzillionRecords.blogspot.com</td>\n",
              "      <td>NaN</td>\n",
              "      <td>training</td>\n",
              "      <td>medium</td>\n",
              "      <td>256000.0</td>\n",
              "      <td>0.0</td>\n",
              "      <td>NaN</td>\n",
              "      <td>2008-11-26 01:48:14</td>\n",
              "      <td>2008-11-26 00:00:00</td>\n",
              "      <td>237.0</td>\n",
              "      <td>1.0</td>\n",
              "      <td>[21]</td>\n",
              "      <td>[21]</td>\n",
              "      <td>NaN</td>\n",
              "      <td>1470.0</td>\n",
              "      <td>en</td>\n",
              "      <td>Attribution-NonCommercial-ShareAlike 3.0 Inter...</td>\n",
              "      <td>514.0</td>\n",
              "      <td>NaN</td>\n",
              "      <td>4.0</td>\n",
              "      <td>NaN</td>\n",
              "      <td>[]</td>\n",
              "      <td>Electric Ave</td>\n",
              "      <td>1</td>\n",
              "      <td>0</td>\n",
              "      <td>0</td>\n",
              "      <td>0</td>\n",
              "      <td>0</td>\n",
              "    </tr>\n",
              "    <tr>\n",
              "      <th>3</th>\n",
              "      <td>5</td>\n",
              "      <td>0.0</td>\n",
              "      <td>2008-11-26 01:44:45</td>\n",
              "      <td>2009-01-05 00:00:00</td>\n",
              "      <td>NaN</td>\n",
              "      <td>4.0</td>\n",
              "      <td>1.0</td>\n",
              "      <td>&lt;p&gt;&lt;/p&gt;</td>\n",
              "      <td>6073.0</td>\n",
              "      <td>NaN</td>\n",
              "      <td>[]</td>\n",
              "      <td>AWOL - A Way Of Life</td>\n",
              "      <td>7.0</td>\n",
              "      <td>Album</td>\n",
              "      <td>2006-01-01 00:00:00</td>\n",
              "      <td>NaN</td>\n",
              "      <td>NaN</td>\n",
              "      <td>&lt;p&gt;A Way Of Life, A Collective of Hip-Hop from...</td>\n",
              "      <td>0.0</td>\n",
              "      <td>2008-11-26 01:42:32</td>\n",
              "      <td>9.0</td>\n",
              "      <td>1.0</td>\n",
              "      <td>40.058324</td>\n",
              "      <td>New Jersey</td>\n",
              "      <td>-74.405661</td>\n",
              "      <td>Sajje Morocco,Brownbum,ZawidaGod,Custodian of ...</td>\n",
              "      <td>AWOL</td>\n",
              "      <td>The list of past projects is 2 long but every1...</td>\n",
              "      <td>['awol']</td>\n",
              "      <td>http://www.AzillionRecords.blogspot.com</td>\n",
              "      <td>NaN</td>\n",
              "      <td>training</td>\n",
              "      <td>small</td>\n",
              "      <td>256000.0</td>\n",
              "      <td>0.0</td>\n",
              "      <td>NaN</td>\n",
              "      <td>2008-11-26 01:48:20</td>\n",
              "      <td>2008-11-26 00:00:00</td>\n",
              "      <td>206.0</td>\n",
              "      <td>6.0</td>\n",
              "      <td>[21]</td>\n",
              "      <td>[21]</td>\n",
              "      <td>NaN</td>\n",
              "      <td>1933.0</td>\n",
              "      <td>en</td>\n",
              "      <td>Attribution-NonCommercial-ShareAlike 3.0 Inter...</td>\n",
              "      <td>1151.0</td>\n",
              "      <td>NaN</td>\n",
              "      <td>6.0</td>\n",
              "      <td>NaN</td>\n",
              "      <td>[]</td>\n",
              "      <td>This World</td>\n",
              "      <td>1</td>\n",
              "      <td>0</td>\n",
              "      <td>0</td>\n",
              "      <td>0</td>\n",
              "      <td>0</td>\n",
              "    </tr>\n",
              "    <tr>\n",
              "      <th>4</th>\n",
              "      <td>10</td>\n",
              "      <td>0.0</td>\n",
              "      <td>2008-11-26 01:45:08</td>\n",
              "      <td>2008-02-06 00:00:00</td>\n",
              "      <td>NaN</td>\n",
              "      <td>4.0</td>\n",
              "      <td>6.0</td>\n",
              "      <td>NaN</td>\n",
              "      <td>47632.0</td>\n",
              "      <td>NaN</td>\n",
              "      <td>[]</td>\n",
              "      <td>Constant Hitmaker</td>\n",
              "      <td>2.0</td>\n",
              "      <td>Album</td>\n",
              "      <td>NaN</td>\n",
              "      <td>NaN</td>\n",
              "      <td>Mexican Summer, Richie Records, Woodsist, Skul...</td>\n",
              "      <td>&lt;p&gt;&lt;span style=\"font-family:Verdana, Geneva, A...</td>\n",
              "      <td>3.0</td>\n",
              "      <td>2008-11-26 01:42:55</td>\n",
              "      <td>74.0</td>\n",
              "      <td>6.0</td>\n",
              "      <td>NaN</td>\n",
              "      <td>NaN</td>\n",
              "      <td>NaN</td>\n",
              "      <td>Kurt Vile, the Violators</td>\n",
              "      <td>Kurt Vile</td>\n",
              "      <td>NaN</td>\n",
              "      <td>['philly', 'kurt vile']</td>\n",
              "      <td>http://kurtvile.com</td>\n",
              "      <td>NaN</td>\n",
              "      <td>training</td>\n",
              "      <td>small</td>\n",
              "      <td>192000.0</td>\n",
              "      <td>0.0</td>\n",
              "      <td>Kurt Vile</td>\n",
              "      <td>2008-11-25 17:49:06</td>\n",
              "      <td>2008-11-26 00:00:00</td>\n",
              "      <td>161.0</td>\n",
              "      <td>178.0</td>\n",
              "      <td>[10]</td>\n",
              "      <td>[10]</td>\n",
              "      <td>NaN</td>\n",
              "      <td>54881.0</td>\n",
              "      <td>en</td>\n",
              "      <td>Attribution-NonCommercial-NoDerivatives (aka M...</td>\n",
              "      <td>50135.0</td>\n",
              "      <td>NaN</td>\n",
              "      <td>1.0</td>\n",
              "      <td>NaN</td>\n",
              "      <td>[]</td>\n",
              "      <td>Freeway</td>\n",
              "      <td>0</td>\n",
              "      <td>1</td>\n",
              "      <td>0</td>\n",
              "      <td>0</td>\n",
              "      <td>0</td>\n",
              "    </tr>\n",
              "    <tr>\n",
              "      <th>5</th>\n",
              "      <td>20</td>\n",
              "      <td>0.0</td>\n",
              "      <td>2008-11-26 01:45:05</td>\n",
              "      <td>2009-01-06 00:00:00</td>\n",
              "      <td>NaN</td>\n",
              "      <td>2.0</td>\n",
              "      <td>4.0</td>\n",
              "      <td>&lt;p&gt; \"spiritual songs\" from Nicky Cook&lt;/p&gt;</td>\n",
              "      <td>2710.0</td>\n",
              "      <td>NaN</td>\n",
              "      <td>[]</td>\n",
              "      <td>Niris</td>\n",
              "      <td>13.0</td>\n",
              "      <td>Album</td>\n",
              "      <td>1990-01-01 00:00:00</td>\n",
              "      <td>2011-01-01 00:00:00</td>\n",
              "      <td>NaN</td>\n",
              "      <td>&lt;p&gt;Songs written by: Nicky Cook&lt;/p&gt;\\n&lt;p&gt;VOCALS...</td>\n",
              "      <td>2.0</td>\n",
              "      <td>2008-11-26 01:42:52</td>\n",
              "      <td>10.0</td>\n",
              "      <td>4.0</td>\n",
              "      <td>51.895927</td>\n",
              "      <td>Colchester England</td>\n",
              "      <td>0.891874</td>\n",
              "      <td>Nicky Cook\\n</td>\n",
              "      <td>Nicky Cook</td>\n",
              "      <td>NaN</td>\n",
              "      <td>['instrumentals', 'experimental pop', 'post pu...</td>\n",
              "      <td>NaN</td>\n",
              "      <td>NaN</td>\n",
              "      <td>training</td>\n",
              "      <td>large</td>\n",
              "      <td>256000.0</td>\n",
              "      <td>0.0</td>\n",
              "      <td>NaN</td>\n",
              "      <td>2008-11-26 01:48:56</td>\n",
              "      <td>2008-01-01 00:00:00</td>\n",
              "      <td>311.0</td>\n",
              "      <td>0.0</td>\n",
              "      <td>[76, 103]</td>\n",
              "      <td>[17, 10, 76, 103]</td>\n",
              "      <td>NaN</td>\n",
              "      <td>978.0</td>\n",
              "      <td>en</td>\n",
              "      <td>Attribution-NonCommercial-NoDerivatives (aka M...</td>\n",
              "      <td>361.0</td>\n",
              "      <td>NaN</td>\n",
              "      <td>3.0</td>\n",
              "      <td>NaN</td>\n",
              "      <td>[]</td>\n",
              "      <td>Spiritual Level</td>\n",
              "      <td>0</td>\n",
              "      <td>0</td>\n",
              "      <td>0</td>\n",
              "      <td>0</td>\n",
              "      <td>0</td>\n",
              "    </tr>\n",
              "  </tbody>\n",
              "</table>\n",
              "</div>"
            ],
            "text/plain": [
              "  Unnamed: 0  comments         date_created        date_released engineer  \\\n",
              "1          2       0.0  2008-11-26 01:44:45  2009-01-05 00:00:00      NaN   \n",
              "2          3       0.0  2008-11-26 01:44:45  2009-01-05 00:00:00      NaN   \n",
              "3          5       0.0  2008-11-26 01:44:45  2009-01-05 00:00:00      NaN   \n",
              "4         10       0.0  2008-11-26 01:45:08  2008-02-06 00:00:00      NaN   \n",
              "5         20       0.0  2008-11-26 01:45:05  2009-01-06 00:00:00      NaN   \n",
              "\n",
              "   favorites   id                                information  listens  \\\n",
              "1        4.0  1.0                                    <p></p>   6073.0   \n",
              "2        4.0  1.0                                    <p></p>   6073.0   \n",
              "3        4.0  1.0                                    <p></p>   6073.0   \n",
              "4        4.0  6.0                                        NaN  47632.0   \n",
              "5        2.0  4.0  <p> \"spiritual songs\" from Nicky Cook</p>   2710.0   \n",
              "\n",
              "  producer tags                 title  tracks   type    active_year_begin  \\\n",
              "1      NaN   []  AWOL - A Way Of Life     7.0  Album  2006-01-01 00:00:00   \n",
              "2      NaN   []  AWOL - A Way Of Life     7.0  Album  2006-01-01 00:00:00   \n",
              "3      NaN   []  AWOL - A Way Of Life     7.0  Album  2006-01-01 00:00:00   \n",
              "4      NaN   []     Constant Hitmaker     2.0  Album                  NaN   \n",
              "5      NaN   []                 Niris    13.0  Album  1990-01-01 00:00:00   \n",
              "\n",
              "       active_year_end                                  associated_labels  \\\n",
              "1                  NaN                                                NaN   \n",
              "2                  NaN                                                NaN   \n",
              "3                  NaN                                                NaN   \n",
              "4                  NaN  Mexican Summer, Richie Records, Woodsist, Skul...   \n",
              "5  2011-01-01 00:00:00                                                NaN   \n",
              "\n",
              "                                                 bio  comments.1  \\\n",
              "1  <p>A Way Of Life, A Collective of Hip-Hop from...         0.0   \n",
              "2  <p>A Way Of Life, A Collective of Hip-Hop from...         0.0   \n",
              "3  <p>A Way Of Life, A Collective of Hip-Hop from...         0.0   \n",
              "4  <p><span style=\"font-family:Verdana, Geneva, A...         3.0   \n",
              "5  <p>Songs written by: Nicky Cook</p>\\n<p>VOCALS...         2.0   \n",
              "\n",
              "        date_created.1  favorites.1  id.1   latitude            location  \\\n",
              "1  2008-11-26 01:42:32          9.0   1.0  40.058324          New Jersey   \n",
              "2  2008-11-26 01:42:32          9.0   1.0  40.058324          New Jersey   \n",
              "3  2008-11-26 01:42:32          9.0   1.0  40.058324          New Jersey   \n",
              "4  2008-11-26 01:42:55         74.0   6.0        NaN                 NaN   \n",
              "5  2008-11-26 01:42:52         10.0   4.0  51.895927  Colchester England   \n",
              "\n",
              "   longitude                                            members        name  \\\n",
              "1 -74.405661  Sajje Morocco,Brownbum,ZawidaGod,Custodian of ...        AWOL   \n",
              "2 -74.405661  Sajje Morocco,Brownbum,ZawidaGod,Custodian of ...        AWOL   \n",
              "3 -74.405661  Sajje Morocco,Brownbum,ZawidaGod,Custodian of ...        AWOL   \n",
              "4        NaN                           Kurt Vile, the Violators   Kurt Vile   \n",
              "5   0.891874                                       Nicky Cook\\n  Nicky Cook   \n",
              "\n",
              "                                    related_projects  \\\n",
              "1  The list of past projects is 2 long but every1...   \n",
              "2  The list of past projects is 2 long but every1...   \n",
              "3  The list of past projects is 2 long but every1...   \n",
              "4                                                NaN   \n",
              "5                                                NaN   \n",
              "\n",
              "                                              tags.1  \\\n",
              "1                                           ['awol']   \n",
              "2                                           ['awol']   \n",
              "3                                           ['awol']   \n",
              "4                            ['philly', 'kurt vile']   \n",
              "5  ['instrumentals', 'experimental pop', 'post pu...   \n",
              "\n",
              "                                   website wikipedia_page     split  subset  \\\n",
              "1  http://www.AzillionRecords.blogspot.com            NaN  training   small   \n",
              "2  http://www.AzillionRecords.blogspot.com            NaN  training  medium   \n",
              "3  http://www.AzillionRecords.blogspot.com            NaN  training   small   \n",
              "4                      http://kurtvile.com            NaN  training   small   \n",
              "5                                      NaN            NaN  training   large   \n",
              "\n",
              "   bit_rate  comments.2   composer       date_created.2        date_recorded  \\\n",
              "1  256000.0         0.0        NaN  2008-11-26 01:48:12  2008-11-26 00:00:00   \n",
              "2  256000.0         0.0        NaN  2008-11-26 01:48:14  2008-11-26 00:00:00   \n",
              "3  256000.0         0.0        NaN  2008-11-26 01:48:20  2008-11-26 00:00:00   \n",
              "4  192000.0         0.0  Kurt Vile  2008-11-25 17:49:06  2008-11-26 00:00:00   \n",
              "5  256000.0         0.0        NaN  2008-11-26 01:48:56  2008-01-01 00:00:00   \n",
              "\n",
              "   duration  favorites.2     genres         genres_all information.1  \\\n",
              "1     168.0          2.0       [21]               [21]           NaN   \n",
              "2     237.0          1.0       [21]               [21]           NaN   \n",
              "3     206.0          6.0       [21]               [21]           NaN   \n",
              "4     161.0        178.0       [10]               [10]           NaN   \n",
              "5     311.0          0.0  [76, 103]  [17, 10, 76, 103]           NaN   \n",
              "\n",
              "   interest language_code                                            license  \\\n",
              "1    4656.0            en  Attribution-NonCommercial-ShareAlike 3.0 Inter...   \n",
              "2    1470.0            en  Attribution-NonCommercial-ShareAlike 3.0 Inter...   \n",
              "3    1933.0            en  Attribution-NonCommercial-ShareAlike 3.0 Inter...   \n",
              "4   54881.0            en  Attribution-NonCommercial-NoDerivatives (aka M...   \n",
              "5     978.0            en  Attribution-NonCommercial-NoDerivatives (aka M...   \n",
              "\n",
              "   listens.1 lyricist  number publisher tags.2          title.1  genre_top_0  \\\n",
              "1     1293.0      NaN     3.0       NaN     []             Food            1   \n",
              "2      514.0      NaN     4.0       NaN     []     Electric Ave            1   \n",
              "3     1151.0      NaN     6.0       NaN     []       This World            1   \n",
              "4    50135.0      NaN     1.0       NaN     []          Freeway            0   \n",
              "5      361.0      NaN     3.0       NaN     []  Spiritual Level            0   \n",
              "\n",
              "   genre_top_1  genre_top_2  genre_top_3  genre_top_4  \n",
              "1            0            0            0            0  \n",
              "2            0            0            0            0  \n",
              "3            0            0            0            0  \n",
              "4            1            0            0            0  \n",
              "5            0            0            0            0  "
            ]
          },
          "metadata": {
            "tags": []
          },
          "execution_count": 18
        }
      ]
    },
    {
      "metadata": {
        "id": "kQUVlUKQMPPW",
        "colab_type": "text"
      },
      "cell_type": "markdown",
      "source": [
        "This is the biggest data you've played with so far, and while it does generally fit in Colab, it can take awhile to run. That's part of the challenge!\n",
        "\n",
        "Your tasks:\n",
        "- Clean up the variable names in the dataframe\n",
        "- Use logistic regression to fit a model predicting (primary/top) genre\n",
        "- Inspect, iterate, and improve your model\n",
        "- Answer the following questions (written, ~paragraph each):\n",
        "  - What are the best predictors of genre?\n",
        "  - What information isn't very useful for predicting genre?\n",
        "  - What surprised you the most about your results?\n",
        "\n",
        "*Important caveats*:\n",
        "- This is going to be difficult data to work with - don't let the perfect be the enemy of the good!\n",
        "- Be creative in cleaning it up - if the best way you know how to do it is download it locally and edit as a spreadsheet, that's OK!\n",
        "- If the data size becomes problematic, consider sampling/subsetting\n",
        "- You do not need perfect or complete results - just something plausible that runs, and that supports the reasoning in your written answers\n",
        "\n",
        "If you find that fitting a model to classify *all* genres isn't very good, it's totally OK to limit to the most frequent genres, or perhaps trying to combine or cluster genres as a preprocessing step. Even then, there will be limits to how good a model can be with just this metadata - if you really want to train an effective genre classifier, you'll have to involve the other data (see stretch goals).\n",
        "\n",
        "This is real data - there is no \"one correct answer\", so you can take this in a variety of directions. Just make sure to support your findings, and feel free to share them as well! This is meant to be practice for dealing with other \"messy\" data, a common task in data science."
      ]
    },
    {
      "metadata": {
        "id": "wlI5OXfSag9C",
        "colab_type": "text"
      },
      "cell_type": "markdown",
      "source": [
        "## Resources and stretch goals\n",
        "\n",
        "- Check out the other .csv files from the FMA dataset, and see if you can join them or otherwise fit interesting models with them\n",
        "- [Logistic regression from scratch in numpy](https://blog.goodaudience.com/logistic-regression-from-scratch-in-numpy-5841c09e425f) - if you want to dig in a bit more to both the code and math (also takes a gradient descent approach, introducing the logistic loss function)\n",
        "- Create a visualization to show predictions of your model - ideally show a confidence interval based on error!\n",
        "- Check out and compare classification models from scikit-learn, such as [SVM](https://scikit-learn.org/stable/modules/svm.html#classification), [decision trees](https://scikit-learn.org/stable/modules/tree.html#classification), and [naive Bayes](https://scikit-learn.org/stable/modules/naive_bayes.html). The underlying math will vary significantly, but the API (how you write the code) and interpretation will actually be fairly similar.\n",
        "- Sign up for [Kaggle](https://kaggle.com), and find a competition to try logistic regression with\n",
        "- (Not logistic regression related) If you enjoyed the assignment, you may want to read up on [music informatics](https://en.wikipedia.org/wiki/Music_informatics), which is how those audio features were actually calculated. The FMA includes the actual raw audio, so (while this is more of a longterm project than a stretch goal, and won't fit in Colab) if you'd like you can check those out and see what sort of deeper analysis you can do."
      ]
    },
    {
      "metadata": {
        "id": "Twb6f4ryb7Wk",
        "colab_type": "code",
        "colab": {}
      },
      "cell_type": "code",
      "source": [
        ""
      ],
      "execution_count": 0,
      "outputs": []
    }
  ]
}