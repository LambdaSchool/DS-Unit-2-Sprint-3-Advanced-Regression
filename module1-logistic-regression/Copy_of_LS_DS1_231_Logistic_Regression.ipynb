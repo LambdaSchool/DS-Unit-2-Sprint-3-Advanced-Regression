{
  "nbformat": 4,
  "nbformat_minor": 0,
  "metadata": {
    "colab": {
      "name": "Copy of LS_DS1_231_Logistic_Regression.ipynb",
      "version": "0.3.2",
      "provenance": [],
      "include_colab_link": true
    },
    "kernelspec": {
      "name": "python3",
      "display_name": "Python 3"
    }
  },
  "cells": [
    {
      "cell_type": "markdown",
      "metadata": {
        "id": "view-in-github",
        "colab_type": "text"
      },
      "source": [
        "<a href=\"https://colab.research.google.com/github/quinn-dougherty/DS-Unit-2-Sprint-3-Advanced-Regression/blob/master/module1-logistic-regression/Copy_of_LS_DS1_231_Logistic_Regression.ipynb\" target=\"_parent\"><img src=\"https://colab.research.google.com/assets/colab-badge.svg\" alt=\"Open In Colab\"/></a>"
      ]
    },
    {
      "metadata": {
        "id": "N7SXF6jEBd5_",
        "colab_type": "text"
      },
      "cell_type": "markdown",
      "source": [
        "# Lambda School Data Science - Logistic Regression\n",
        "\n",
        "Logistic regression is the baseline for classification models, as well as a handy way to predict probabilities (since those too live in the unit interval). While relatively simple, it is also the foundation for more sophisticated classification techniques such as neural networks (many of which can effectively be thought of as networks of logistic models)."
      ]
    },
    {
      "metadata": {
        "id": "E7-AOngjadRN",
        "colab_type": "text"
      },
      "cell_type": "markdown",
      "source": [
        "## Lecture - Where Linear goes Wrong\n",
        "### Return of the Titanic 🚢\n",
        "\n",
        "You've likely already explored the rich dataset that is the Titanic - let's use regression and try to predict survival with it. The data is [available from Kaggle](https://www.kaggle.com/c/titanic/data), so we'll also play a bit with [the Kaggle API](https://github.com/Kaggle/kaggle-api)."
      ]
    },
    {
      "metadata": {
        "id": "MnHLWPYDcyIe",
        "colab_type": "code",
        "outputId": "fd8eff4f-55a8-431b-9985-64cebe0f8b43",
        "colab": {
          "base_uri": "https://localhost:8080/",
          "height": 228
        }
      },
      "cell_type": "code",
      "source": [
        "!pip install kaggle"
      ],
      "execution_count": 0,
      "outputs": [
        {
          "output_type": "stream",
          "text": [
            "Requirement already satisfied: kaggle in /usr/local/lib/python3.6/dist-packages (1.5.1.1)\n",
            "Requirement already satisfied: urllib3<1.23.0,>=1.15 in /usr/local/lib/python3.6/dist-packages (from kaggle) (1.22)\n",
            "Requirement already satisfied: six>=1.10 in /usr/local/lib/python3.6/dist-packages (from kaggle) (1.11.0)\n",
            "Requirement already satisfied: certifi in /usr/local/lib/python3.6/dist-packages (from kaggle) (2018.11.29)\n",
            "Requirement already satisfied: python-dateutil in /usr/local/lib/python3.6/dist-packages (from kaggle) (2.5.3)\n",
            "Requirement already satisfied: requests in /usr/local/lib/python3.6/dist-packages (from kaggle) (2.18.4)\n",
            "Requirement already satisfied: tqdm in /usr/local/lib/python3.6/dist-packages (from kaggle) (4.28.1)\n",
            "Requirement already satisfied: python-slugify in /usr/local/lib/python3.6/dist-packages (from kaggle) (2.0.1)\n",
            "Requirement already satisfied: chardet<3.1.0,>=3.0.2 in /usr/local/lib/python3.6/dist-packages (from requests->kaggle) (3.0.4)\n",
            "Requirement already satisfied: idna<2.7,>=2.5 in /usr/local/lib/python3.6/dist-packages (from requests->kaggle) (2.6)\n",
            "Requirement already satisfied: Unidecode>=0.04.16 in /usr/local/lib/python3.6/dist-packages (from python-slugify->kaggle) (1.0.23)\n"
          ],
          "name": "stdout"
        }
      ]
    },
    {
      "metadata": {
        "id": "wPgce-jQc5zi",
        "colab_type": "code",
        "colab": {
          "base_uri": "https://localhost:8080/",
          "height": 208
        },
        "outputId": "ff954449-440e-4854-bdee-1fd9bd9609ac"
      },
      "cell_type": "code",
      "source": [
        "# Note - you'll also have to sign up for Kaggle and authorize the API\n",
        "# https://github.com/Kaggle/kaggle-api#api-credentials\n",
        "\n",
        "# This essentially means uploading a kaggle.json file\n",
        "# For Colab we can have it in Google Drive\n",
        "from google.colab import drive\n",
        "drive.mount('/content/drive')\n",
        "%env KAGGLE_CONFIG_DIR=/content/drive/My Drive/\n",
        "\n",
        "# You also have to join the Titanic competition to have access to the data\n",
        "!kaggle competitions download -c titanic"
      ],
      "execution_count": 13,
      "outputs": [
        {
          "output_type": "stream",
          "text": [
            "Drive already mounted at /content/drive; to attempt to forcibly remount, call drive.mount(\"/content/drive\", force_remount=True).\n",
            "env: KAGGLE_CONFIG_DIR=/content/drive/My Drive/\n",
            "Downloading train.csv to /content\n",
            "  0% 0.00/59.8k [00:00<?, ?B/s]\n",
            "100% 59.8k/59.8k [00:00<00:00, 22.6MB/s]\n",
            "Downloading test.csv to /content\n",
            "  0% 0.00/28.0k [00:00<?, ?B/s]\n",
            "100% 28.0k/28.0k [00:00<00:00, 25.5MB/s]\n",
            "Downloading gender_submission.csv to /content\n",
            "  0% 0.00/3.18k [00:00<?, ?B/s]\n",
            "100% 3.18k/3.18k [00:00<00:00, 3.15MB/s]\n"
          ],
          "name": "stdout"
        }
      ]
    },
    {
      "metadata": {
        "id": "iAo72LKEdbAQ",
        "colab_type": "code",
        "colab": {
          "base_uri": "https://localhost:8080/",
          "height": 34
        },
        "outputId": "a1dda34e-55ef-4417-e361-200c7595ce4d"
      },
      "cell_type": "code",
      "source": [
        ""
      ],
      "execution_count": 14,
      "outputs": [
        {
          "output_type": "stream",
          "text": [
            "ls: cannot access 'content/drive/My Drive/': No such file or directory\n"
          ],
          "name": "stdout"
        }
      ]
    },
    {
      "metadata": {
        "id": "-PtztP8YlFym",
        "colab_type": "code",
        "colab": {
          "base_uri": "https://localhost:8080/",
          "height": 206
        },
        "outputId": "78383954-aa76-44a9-e066-ac539f6d73e2"
      },
      "cell_type": "code",
      "source": [
        "# How would we try to do this with linear regression?\n",
        "import pandas as pd\n",
        "\n",
        "train_df = pd.read_csv('train.csv').dropna()\n",
        "test_df = pd.read_csv('test.csv').dropna()  # Unlabeled, for Kaggle submission\n",
        "\n",
        "train_df.head()"
      ],
      "execution_count": 15,
      "outputs": [
        {
          "output_type": "execute_result",
          "data": {
            "text/html": [
              "<div>\n",
              "<style scoped>\n",
              "    .dataframe tbody tr th:only-of-type {\n",
              "        vertical-align: middle;\n",
              "    }\n",
              "\n",
              "    .dataframe tbody tr th {\n",
              "        vertical-align: top;\n",
              "    }\n",
              "\n",
              "    .dataframe thead th {\n",
              "        text-align: right;\n",
              "    }\n",
              "</style>\n",
              "<table border=\"1\" class=\"dataframe\">\n",
              "  <thead>\n",
              "    <tr style=\"text-align: right;\">\n",
              "      <th></th>\n",
              "      <th>PassengerId</th>\n",
              "      <th>Survived</th>\n",
              "      <th>Pclass</th>\n",
              "      <th>Name</th>\n",
              "      <th>Sex</th>\n",
              "      <th>Age</th>\n",
              "      <th>SibSp</th>\n",
              "      <th>Parch</th>\n",
              "      <th>Ticket</th>\n",
              "      <th>Fare</th>\n",
              "      <th>Cabin</th>\n",
              "      <th>Embarked</th>\n",
              "    </tr>\n",
              "  </thead>\n",
              "  <tbody>\n",
              "    <tr>\n",
              "      <th>1</th>\n",
              "      <td>2</td>\n",
              "      <td>1</td>\n",
              "      <td>1</td>\n",
              "      <td>Cumings, Mrs. John Bradley (Florence Briggs Th...</td>\n",
              "      <td>female</td>\n",
              "      <td>38.0</td>\n",
              "      <td>1</td>\n",
              "      <td>0</td>\n",
              "      <td>PC 17599</td>\n",
              "      <td>71.2833</td>\n",
              "      <td>C85</td>\n",
              "      <td>C</td>\n",
              "    </tr>\n",
              "    <tr>\n",
              "      <th>3</th>\n",
              "      <td>4</td>\n",
              "      <td>1</td>\n",
              "      <td>1</td>\n",
              "      <td>Futrelle, Mrs. Jacques Heath (Lily May Peel)</td>\n",
              "      <td>female</td>\n",
              "      <td>35.0</td>\n",
              "      <td>1</td>\n",
              "      <td>0</td>\n",
              "      <td>113803</td>\n",
              "      <td>53.1000</td>\n",
              "      <td>C123</td>\n",
              "      <td>S</td>\n",
              "    </tr>\n",
              "    <tr>\n",
              "      <th>6</th>\n",
              "      <td>7</td>\n",
              "      <td>0</td>\n",
              "      <td>1</td>\n",
              "      <td>McCarthy, Mr. Timothy J</td>\n",
              "      <td>male</td>\n",
              "      <td>54.0</td>\n",
              "      <td>0</td>\n",
              "      <td>0</td>\n",
              "      <td>17463</td>\n",
              "      <td>51.8625</td>\n",
              "      <td>E46</td>\n",
              "      <td>S</td>\n",
              "    </tr>\n",
              "    <tr>\n",
              "      <th>10</th>\n",
              "      <td>11</td>\n",
              "      <td>1</td>\n",
              "      <td>3</td>\n",
              "      <td>Sandstrom, Miss. Marguerite Rut</td>\n",
              "      <td>female</td>\n",
              "      <td>4.0</td>\n",
              "      <td>1</td>\n",
              "      <td>1</td>\n",
              "      <td>PP 9549</td>\n",
              "      <td>16.7000</td>\n",
              "      <td>G6</td>\n",
              "      <td>S</td>\n",
              "    </tr>\n",
              "    <tr>\n",
              "      <th>11</th>\n",
              "      <td>12</td>\n",
              "      <td>1</td>\n",
              "      <td>1</td>\n",
              "      <td>Bonnell, Miss. Elizabeth</td>\n",
              "      <td>female</td>\n",
              "      <td>58.0</td>\n",
              "      <td>0</td>\n",
              "      <td>0</td>\n",
              "      <td>113783</td>\n",
              "      <td>26.5500</td>\n",
              "      <td>C103</td>\n",
              "      <td>S</td>\n",
              "    </tr>\n",
              "  </tbody>\n",
              "</table>\n",
              "</div>"
            ],
            "text/plain": [
              "    PassengerId  Survived  Pclass  \\\n",
              "1             2         1       1   \n",
              "3             4         1       1   \n",
              "6             7         0       1   \n",
              "10           11         1       3   \n",
              "11           12         1       1   \n",
              "\n",
              "                                                 Name     Sex   Age  SibSp  \\\n",
              "1   Cumings, Mrs. John Bradley (Florence Briggs Th...  female  38.0      1   \n",
              "3        Futrelle, Mrs. Jacques Heath (Lily May Peel)  female  35.0      1   \n",
              "6                             McCarthy, Mr. Timothy J    male  54.0      0   \n",
              "10                    Sandstrom, Miss. Marguerite Rut  female   4.0      1   \n",
              "11                           Bonnell, Miss. Elizabeth  female  58.0      0   \n",
              "\n",
              "    Parch    Ticket     Fare Cabin Embarked  \n",
              "1       0  PC 17599  71.2833   C85        C  \n",
              "3       0    113803  53.1000  C123        S  \n",
              "6       0     17463  51.8625   E46        S  \n",
              "10      1   PP 9549  16.7000    G6        S  \n",
              "11      0    113783  26.5500  C103        S  "
            ]
          },
          "metadata": {
            "tags": []
          },
          "execution_count": 15
        }
      ]
    },
    {
      "metadata": {
        "id": "Ey2ZHrGW_n_t",
        "colab_type": "code",
        "colab": {
          "base_uri": "https://localhost:8080/",
          "height": 301
        },
        "outputId": "d608325d-59bc-4705-ee62-d963dd306f26"
      },
      "cell_type": "code",
      "source": [
        "train_df.describe()"
      ],
      "execution_count": 16,
      "outputs": [
        {
          "output_type": "execute_result",
          "data": {
            "text/html": [
              "<div>\n",
              "<style scoped>\n",
              "    .dataframe tbody tr th:only-of-type {\n",
              "        vertical-align: middle;\n",
              "    }\n",
              "\n",
              "    .dataframe tbody tr th {\n",
              "        vertical-align: top;\n",
              "    }\n",
              "\n",
              "    .dataframe thead th {\n",
              "        text-align: right;\n",
              "    }\n",
              "</style>\n",
              "<table border=\"1\" class=\"dataframe\">\n",
              "  <thead>\n",
              "    <tr style=\"text-align: right;\">\n",
              "      <th></th>\n",
              "      <th>PassengerId</th>\n",
              "      <th>Survived</th>\n",
              "      <th>Pclass</th>\n",
              "      <th>Age</th>\n",
              "      <th>SibSp</th>\n",
              "      <th>Parch</th>\n",
              "      <th>Fare</th>\n",
              "    </tr>\n",
              "  </thead>\n",
              "  <tbody>\n",
              "    <tr>\n",
              "      <th>count</th>\n",
              "      <td>183.000000</td>\n",
              "      <td>183.000000</td>\n",
              "      <td>183.000000</td>\n",
              "      <td>183.000000</td>\n",
              "      <td>183.000000</td>\n",
              "      <td>183.000000</td>\n",
              "      <td>183.000000</td>\n",
              "    </tr>\n",
              "    <tr>\n",
              "      <th>mean</th>\n",
              "      <td>455.366120</td>\n",
              "      <td>0.672131</td>\n",
              "      <td>1.191257</td>\n",
              "      <td>35.674426</td>\n",
              "      <td>0.464481</td>\n",
              "      <td>0.475410</td>\n",
              "      <td>78.682469</td>\n",
              "    </tr>\n",
              "    <tr>\n",
              "      <th>std</th>\n",
              "      <td>247.052476</td>\n",
              "      <td>0.470725</td>\n",
              "      <td>0.515187</td>\n",
              "      <td>15.643866</td>\n",
              "      <td>0.644159</td>\n",
              "      <td>0.754617</td>\n",
              "      <td>76.347843</td>\n",
              "    </tr>\n",
              "    <tr>\n",
              "      <th>min</th>\n",
              "      <td>2.000000</td>\n",
              "      <td>0.000000</td>\n",
              "      <td>1.000000</td>\n",
              "      <td>0.920000</td>\n",
              "      <td>0.000000</td>\n",
              "      <td>0.000000</td>\n",
              "      <td>0.000000</td>\n",
              "    </tr>\n",
              "    <tr>\n",
              "      <th>25%</th>\n",
              "      <td>263.500000</td>\n",
              "      <td>0.000000</td>\n",
              "      <td>1.000000</td>\n",
              "      <td>24.000000</td>\n",
              "      <td>0.000000</td>\n",
              "      <td>0.000000</td>\n",
              "      <td>29.700000</td>\n",
              "    </tr>\n",
              "    <tr>\n",
              "      <th>50%</th>\n",
              "      <td>457.000000</td>\n",
              "      <td>1.000000</td>\n",
              "      <td>1.000000</td>\n",
              "      <td>36.000000</td>\n",
              "      <td>0.000000</td>\n",
              "      <td>0.000000</td>\n",
              "      <td>57.000000</td>\n",
              "    </tr>\n",
              "    <tr>\n",
              "      <th>75%</th>\n",
              "      <td>676.000000</td>\n",
              "      <td>1.000000</td>\n",
              "      <td>1.000000</td>\n",
              "      <td>47.500000</td>\n",
              "      <td>1.000000</td>\n",
              "      <td>1.000000</td>\n",
              "      <td>90.000000</td>\n",
              "    </tr>\n",
              "    <tr>\n",
              "      <th>max</th>\n",
              "      <td>890.000000</td>\n",
              "      <td>1.000000</td>\n",
              "      <td>3.000000</td>\n",
              "      <td>80.000000</td>\n",
              "      <td>3.000000</td>\n",
              "      <td>4.000000</td>\n",
              "      <td>512.329200</td>\n",
              "    </tr>\n",
              "  </tbody>\n",
              "</table>\n",
              "</div>"
            ],
            "text/plain": [
              "       PassengerId    Survived      Pclass         Age       SibSp  \\\n",
              "count   183.000000  183.000000  183.000000  183.000000  183.000000   \n",
              "mean    455.366120    0.672131    1.191257   35.674426    0.464481   \n",
              "std     247.052476    0.470725    0.515187   15.643866    0.644159   \n",
              "min       2.000000    0.000000    1.000000    0.920000    0.000000   \n",
              "25%     263.500000    0.000000    1.000000   24.000000    0.000000   \n",
              "50%     457.000000    1.000000    1.000000   36.000000    0.000000   \n",
              "75%     676.000000    1.000000    1.000000   47.500000    1.000000   \n",
              "max     890.000000    1.000000    3.000000   80.000000    3.000000   \n",
              "\n",
              "            Parch        Fare  \n",
              "count  183.000000  183.000000  \n",
              "mean     0.475410   78.682469  \n",
              "std      0.754617   76.347843  \n",
              "min      0.000000    0.000000  \n",
              "25%      0.000000   29.700000  \n",
              "50%      0.000000   57.000000  \n",
              "75%      1.000000   90.000000  \n",
              "max      4.000000  512.329200  "
            ]
          },
          "metadata": {
            "tags": []
          },
          "execution_count": 16
        }
      ]
    },
    {
      "metadata": {
        "id": "QiZn2p1K8DED",
        "colab_type": "code",
        "colab": {
          "base_uri": "https://localhost:8080/",
          "height": 34
        },
        "outputId": "96c53fdd-01a7-44ec-8f1b-e8bddcf83b6c"
      },
      "cell_type": "code",
      "source": [
        "from sklearn.linear_model import LinearRegression\n",
        "\n",
        "X = train_df[['Pclass', 'Age', 'Fare']]\n",
        "y = train_df.Survived\n",
        "\n",
        "linear_reg = LinearRegression().fit(X, y)\n",
        "linear_reg.score(X, y)"
      ],
      "execution_count": 17,
      "outputs": [
        {
          "output_type": "execute_result",
          "data": {
            "text/plain": [
              "0.08389810726550917"
            ]
          },
          "metadata": {
            "tags": []
          },
          "execution_count": 17
        }
      ]
    },
    {
      "metadata": {
        "id": "8HsBb1hp_cev",
        "colab_type": "code",
        "colab": {
          "base_uri": "https://localhost:8080/",
          "height": 330
        },
        "outputId": "ae6a9e8c-e6e5-48d5-ed53-250b1ef0a797"
      },
      "cell_type": "code",
      "source": [
        "linear_reg.predict(test_df[['Pclass', 'Age', 'Fare']])"
      ],
      "execution_count": 18,
      "outputs": [
        {
          "output_type": "execute_result",
          "data": {
            "text/plain": [
              "array([0.79543117, 0.58610823, 0.67595121, 0.793829  , 0.62090522,\n",
              "       0.72542107, 0.59848968, 0.58734245, 0.48567063, 0.77627736,\n",
              "       0.84211887, 0.57052439, 0.7754689 , 0.96621114, 0.70287941,\n",
              "       0.57673837, 0.72321391, 0.75894755, 0.77968041, 0.50246003,\n",
              "       0.49858077, 0.7474959 , 0.3542282 , 0.61648435, 0.71300224,\n",
              "       0.66294608, 0.53175333, 0.77397395, 0.68419387, 0.68395536,\n",
              "       0.52041202, 0.56814038, 0.79586606, 0.81372012, 0.61068545,\n",
              "       0.57260627, 0.52525981, 0.58055388, 0.45584728, 0.67976208,\n",
              "       0.8226707 , 0.84286197, 0.96189157, 0.66724612, 0.68589478,\n",
              "       0.61846513, 0.63455044, 0.68275686, 0.65738372, 0.45198998,\n",
              "       0.59988596, 0.63845908, 0.63132487, 0.7888473 , 0.60126246,\n",
              "       0.79714045, 0.78713803, 0.54643775, 0.42823635, 0.7711724 ,\n",
              "       0.53552976, 0.55608044, 0.54480459, 0.57031915, 0.65080369,\n",
              "       0.77958926, 0.6371013 , 0.70993488, 0.71493598, 0.60375943,\n",
              "       0.54407206, 0.48186138, 0.76576089, 0.75456305, 0.53968359,\n",
              "       0.53814461, 0.51431245, 0.80091026, 0.54231482, 0.8260362 ,\n",
              "       0.58660686, 0.77766767, 0.60296337, 0.70098322, 0.63455044,\n",
              "       0.68309915, 0.67573142])"
            ]
          },
          "metadata": {
            "tags": []
          },
          "execution_count": 18
        }
      ]
    },
    {
      "metadata": {
        "id": "fcxfpsjdFJwM",
        "colab_type": "code",
        "colab": {
          "base_uri": "https://localhost:8080/",
          "height": 34
        },
        "outputId": "4609beba-1e38-4c0c-c685-c4ff63d2ca43"
      },
      "cell_type": "code",
      "source": [
        "linear_reg.coef_"
      ],
      "execution_count": 19,
      "outputs": [
        {
          "output_type": "execute_result",
          "data": {
            "text/plain": [
              "array([-0.08596295, -0.00829314,  0.00048775])"
            ]
          },
          "metadata": {
            "tags": []
          },
          "execution_count": 19
        }
      ]
    },
    {
      "metadata": {
        "id": "AFiisZU7_2Fr",
        "colab_type": "code",
        "colab": {
          "base_uri": "https://localhost:8080/",
          "height": 34
        },
        "outputId": "87ac965d-2f3d-4f60-c9c1-ddc290d423cd"
      },
      "cell_type": "code",
      "source": [
        "import numpy as np\n",
        "\n",
        "test_case = np.array([[1, 5, 500]])  # Rich 5-year old in first class\n",
        "linear_reg.predict(test_case)"
      ],
      "execution_count": 20,
      "outputs": [
        {
          "output_type": "execute_result",
          "data": {
            "text/plain": [
              "array([1.14845883])"
            ]
          },
          "metadata": {
            "tags": []
          },
          "execution_count": 20
        }
      ]
    },
    {
      "metadata": {
        "id": "fhN_nOh3qKRY",
        "colab_type": "code",
        "colab": {
          "base_uri": "https://localhost:8080/",
          "height": 34
        },
        "outputId": "189fcf1b-b387-48b9-82dd-3d9b2f9ceedb"
      },
      "cell_type": "code",
      "source": [
        "np.dot(linear_reg.coef_, test_case.reshape(-1, 1)) + linear_reg.intercept_"
      ],
      "execution_count": 21,
      "outputs": [
        {
          "output_type": "execute_result",
          "data": {
            "text/plain": [
              "array([1.14845883])"
            ]
          },
          "metadata": {
            "tags": []
          },
          "execution_count": 21
        }
      ]
    },
    {
      "metadata": {
        "id": "dpUm8Dl-u2aB",
        "colab_type": "code",
        "colab": {
          "base_uri": "https://localhost:8080/",
          "height": 89
        },
        "outputId": "048f5add-7f1a-44a2-f834-4266f4e8fe24"
      },
      "cell_type": "code",
      "source": [
        "from sklearn.linear_model import LogisticRegression\n",
        "\n",
        "log_reg = LogisticRegression().fit(X, y)\n",
        "log_reg.score(X, y)"
      ],
      "execution_count": 22,
      "outputs": [
        {
          "output_type": "stream",
          "text": [
            "/usr/local/lib/python3.6/dist-packages/sklearn/linear_model/logistic.py:433: FutureWarning: Default solver will be changed to 'lbfgs' in 0.22. Specify a solver to silence this warning.\n",
            "  FutureWarning)\n"
          ],
          "name": "stderr"
        },
        {
          "output_type": "execute_result",
          "data": {
            "text/plain": [
              "0.7103825136612022"
            ]
          },
          "metadata": {
            "tags": []
          },
          "execution_count": 22
        }
      ]
    },
    {
      "metadata": {
        "id": "cUhr2c66F_th",
        "colab_type": "code",
        "colab": {
          "base_uri": "https://localhost:8080/",
          "height": 86
        },
        "outputId": "f3c47b00-0ca8-45c6-ea42-5d264c469db6"
      },
      "cell_type": "code",
      "source": [
        "log_reg.predict(test_df[['Pclass', 'Age', 'Fare']])"
      ],
      "execution_count": 23,
      "outputs": [
        {
          "output_type": "execute_result",
          "data": {
            "text/plain": [
              "array([1, 1, 1, 1, 1, 1, 1, 1, 1, 1, 1, 1, 1, 1, 1, 1, 1, 1, 1, 0, 1, 1,\n",
              "       0, 1, 1, 1, 1, 1, 1, 1, 1, 1, 1, 1, 1, 1, 1, 1, 0, 1, 1, 1, 1, 1,\n",
              "       1, 1, 1, 1, 1, 0, 1, 1, 1, 1, 1, 1, 1, 1, 0, 1, 1, 1, 1, 1, 1, 1,\n",
              "       1, 1, 1, 1, 1, 0, 1, 1, 0, 1, 1, 1, 1, 1, 1, 1, 1, 1, 1, 1, 1])"
            ]
          },
          "metadata": {
            "tags": []
          },
          "execution_count": 23
        }
      ]
    },
    {
      "metadata": {
        "id": "r7xWwqBrFuWL",
        "colab_type": "code",
        "colab": {
          "base_uri": "https://localhost:8080/",
          "height": 34
        },
        "outputId": "93dbda5b-9d2b-4b86-ad05-8711ab58c206"
      },
      "cell_type": "code",
      "source": [
        "log_reg.predict(test_case)[0]"
      ],
      "execution_count": 24,
      "outputs": [
        {
          "output_type": "execute_result",
          "data": {
            "text/plain": [
              "1"
            ]
          },
          "metadata": {
            "tags": []
          },
          "execution_count": 24
        }
      ]
    },
    {
      "metadata": {
        "id": "IM8g42clF2-6",
        "colab_type": "code",
        "colab": {
          "base_uri": "https://localhost:8080/",
          "height": 278
        },
        "outputId": "d2c10aa8-8052-4acc-95fc-9a1188a26635"
      },
      "cell_type": "code",
      "source": [
        "help(log_reg.predict)"
      ],
      "execution_count": 25,
      "outputs": [
        {
          "output_type": "stream",
          "text": [
            "Help on method predict in module sklearn.linear_model.base:\n",
            "\n",
            "predict(X) method of sklearn.linear_model.logistic.LogisticRegression instance\n",
            "    Predict class labels for samples in X.\n",
            "    \n",
            "    Parameters\n",
            "    ----------\n",
            "    X : array_like or sparse matrix, shape (n_samples, n_features)\n",
            "        Samples.\n",
            "    \n",
            "    Returns\n",
            "    -------\n",
            "    C : array, shape [n_samples]\n",
            "        Predicted class label per sample.\n",
            "\n"
          ],
          "name": "stdout"
        }
      ]
    },
    {
      "metadata": {
        "id": "flF3pcMHGGWw",
        "colab_type": "code",
        "colab": {
          "base_uri": "https://localhost:8080/",
          "height": 34
        },
        "outputId": "995422bd-7fa7-4e2a-af0b-4c2a41b72e9a"
      },
      "cell_type": "code",
      "source": [
        "log_reg.predict_proba(test_case)[0]"
      ],
      "execution_count": 26,
      "outputs": [
        {
          "output_type": "execute_result",
          "data": {
            "text/plain": [
              "array([0.02485552, 0.97514448])"
            ]
          },
          "metadata": {
            "tags": []
          },
          "execution_count": 26
        }
      ]
    },
    {
      "metadata": {
        "id": "9Bq-54noR1uE",
        "colab_type": "code",
        "colab": {
          "base_uri": "https://localhost:8080/",
          "height": 34
        },
        "outputId": "46a4d869-8e15-4628-89d3-e0a8ebc1effe"
      },
      "cell_type": "code",
      "source": [
        "# What's the math?\n",
        "log_reg.coef_"
      ],
      "execution_count": 27,
      "outputs": [
        {
          "output_type": "execute_result",
          "data": {
            "text/plain": [
              "array([[-0.0455017 , -0.02912513,  0.0048037 ]])"
            ]
          },
          "metadata": {
            "tags": []
          },
          "execution_count": 27
        }
      ]
    },
    {
      "metadata": {
        "id": "Tj0mNL7_XWNV",
        "colab_type": "code",
        "colab": {
          "base_uri": "https://localhost:8080/",
          "height": 34
        },
        "outputId": "3cb20b20-a1ca-49e0-ba3e-1c4c55f1dda0"
      },
      "cell_type": "code",
      "source": [
        "log_reg.intercept_"
      ],
      "execution_count": 28,
      "outputs": [
        {
          "output_type": "execute_result",
          "data": {
            "text/plain": [
              "array([1.45878264])"
            ]
          },
          "metadata": {
            "tags": []
          },
          "execution_count": 28
        }
      ]
    },
    {
      "metadata": {
        "id": "AroeYscqR75f",
        "colab_type": "code",
        "colab": {}
      },
      "cell_type": "code",
      "source": [
        "# The logistic sigmoid \"squishing\" function, implemented to accept numpy arrays\n",
        "def sigmoid(x):\n",
        "  return 1 / (1 + np.e**(-x))"
      ],
      "execution_count": 0,
      "outputs": []
    },
    {
      "metadata": {
        "id": "804BA7s0SggQ",
        "colab_type": "code",
        "colab": {
          "base_uri": "https://localhost:8080/",
          "height": 34
        },
        "outputId": "7e46df0d-492a-4aa4-b5a5-471915d1d5a5"
      },
      "cell_type": "code",
      "source": [
        "sigmoid(log_reg.intercept_ + np.dot(log_reg.coef_, np.transpose(test_case)))"
      ],
      "execution_count": 30,
      "outputs": [
        {
          "output_type": "execute_result",
          "data": {
            "text/plain": [
              "array([[0.97514448]])"
            ]
          },
          "metadata": {
            "tags": []
          },
          "execution_count": 30
        }
      ]
    },
    {
      "metadata": {
        "id": "uBSGY-R-Hf_b",
        "colab_type": "text"
      },
      "cell_type": "markdown",
      "source": [
        "So, clearly a more appropriate model in this situation! For more on the math, [see this Wikipedia example](https://en.wikipedia.org/wiki/Logistic_regression#Probability_of_passing_an_exam_versus_hours_of_study).\n",
        "\n",
        "For live - let's tackle [another classification dataset on absenteeism](http://archive.ics.uci.edu/ml/datasets/Absenteeism+at+work) - it has 21 classes, but remember, scikit-learn LogisticRegression automatically handles more than two classes. How? By essentially treating each label as different (1) from some base class (0)."
      ]
    },
    {
      "metadata": {
        "id": "qyDBpCM0G7Hv",
        "colab_type": "code",
        "colab": {
          "base_uri": "https://localhost:8080/",
          "height": 312
        },
        "outputId": "52285f9d-6562-4a3c-a2e7-34d1d43325b8"
      },
      "cell_type": "code",
      "source": [
        "# Live - let's try absenteeism!\n",
        "!wget http://archive.ics.uci.edu/ml/machine-learning-databases/00445/Absenteeism_at_work_AAA.zip\n",
        "!unzip Absenteeism_at_work_AAA.zip\t"
      ],
      "execution_count": 31,
      "outputs": [
        {
          "output_type": "stream",
          "text": [
            "--2019-01-22 21:44:30--  http://archive.ics.uci.edu/ml/machine-learning-databases/00445/Absenteeism_at_work_AAA.zip\n",
            "Resolving archive.ics.uci.edu (archive.ics.uci.edu)... 128.195.10.249\n",
            "Connecting to archive.ics.uci.edu (archive.ics.uci.edu)|128.195.10.249|:80... connected.\n",
            "HTTP request sent, awaiting response... 200 OK\n",
            "Length: 66136 (65K) [application/zip]\n",
            "Saving to: ‘Absenteeism_at_work_AAA.zip’\n",
            "\n",
            "\r          Absenteei   0%[                    ]       0  --.-KB/s               \r         Absenteeis  88%[================>   ]  57.23K   228KB/s               \rAbsenteeism_at_work 100%[===================>]  64.59K   258KB/s    in 0.3s    \n",
            "\n",
            "2019-01-22 21:44:30 (258 KB/s) - ‘Absenteeism_at_work_AAA.zip’ saved [66136/66136]\n",
            "\n",
            "Archive:  Absenteeism_at_work_AAA.zip\n",
            "  inflating: Absenteeism_at_work.arff  \n",
            "  inflating: Absenteeism_at_work.csv  \n",
            "  inflating: Absenteeism_at_work.xls  \n",
            "  inflating: Attribute Information.docx  \n",
            "  inflating: UCI_ABS_TEXT.docx       \n"
          ],
          "name": "stdout"
        }
      ]
    },
    {
      "metadata": {
        "id": "tZhteDn4uicA",
        "colab_type": "code",
        "colab": {
          "base_uri": "https://localhost:8080/",
          "height": 211
        },
        "outputId": "7142ab5f-4eb4-450c-fcce-bab9d69c20c3"
      },
      "cell_type": "code",
      "source": [
        "!head Absenteeism_at_work.csv"
      ],
      "execution_count": 32,
      "outputs": [
        {
          "output_type": "stream",
          "text": [
            "ID;Reason for absence;Month of absence;Day of the week;Seasons;Transportation expense;Distance from Residence to Work;Service time;Age;Work load Average/day ;Hit target;Disciplinary failure;Education;Son;Social drinker;Social smoker;Pet;Weight;Height;Body mass index;Absenteeism time in hours\r\n",
            "11;26;7;3;1;289;36;13;33;239.554;97;0;1;2;1;0;1;90;172;30;4\r\n",
            "36;0;7;3;1;118;13;18;50;239.554;97;1;1;1;1;0;0;98;178;31;0\r\n",
            "3;23;7;4;1;179;51;18;38;239.554;97;0;1;0;1;0;0;89;170;31;2\r\n",
            "7;7;7;5;1;279;5;14;39;239.554;97;0;1;2;1;1;0;68;168;24;4\r\n",
            "11;23;7;5;1;289;36;13;33;239.554;97;0;1;2;1;0;1;90;172;30;2\r\n",
            "3;23;7;6;1;179;51;18;38;239.554;97;0;1;0;1;0;0;89;170;31;2\r\n",
            "10;22;7;6;1;361;52;3;28;239.554;97;0;1;1;1;0;4;80;172;27;8\r\n",
            "20;23;7;6;1;260;50;11;36;239.554;97;0;1;4;1;0;0;65;168;23;4\r\n",
            "14;19;7;2;1;155;12;14;34;239.554;97;0;1;2;1;0;0;95;196;25;40\r\n"
          ],
          "name": "stdout"
        }
      ]
    },
    {
      "metadata": {
        "id": "ioA0dcLsuo1B",
        "colab_type": "code",
        "colab": {
          "base_uri": "https://localhost:8080/",
          "height": 308
        },
        "outputId": "7f6e7572-8dec-41bb-cad7-84e1cb4e6d1a"
      },
      "cell_type": "code",
      "source": [
        "absent_df = pd.read_table('Absenteeism_at_work.csv', sep=';')\n",
        "absent_df.head()"
      ],
      "execution_count": 33,
      "outputs": [
        {
          "output_type": "execute_result",
          "data": {
            "text/html": [
              "<div>\n",
              "<style scoped>\n",
              "    .dataframe tbody tr th:only-of-type {\n",
              "        vertical-align: middle;\n",
              "    }\n",
              "\n",
              "    .dataframe tbody tr th {\n",
              "        vertical-align: top;\n",
              "    }\n",
              "\n",
              "    .dataframe thead th {\n",
              "        text-align: right;\n",
              "    }\n",
              "</style>\n",
              "<table border=\"1\" class=\"dataframe\">\n",
              "  <thead>\n",
              "    <tr style=\"text-align: right;\">\n",
              "      <th></th>\n",
              "      <th>ID</th>\n",
              "      <th>Reason for absence</th>\n",
              "      <th>Month of absence</th>\n",
              "      <th>Day of the week</th>\n",
              "      <th>Seasons</th>\n",
              "      <th>Transportation expense</th>\n",
              "      <th>Distance from Residence to Work</th>\n",
              "      <th>Service time</th>\n",
              "      <th>Age</th>\n",
              "      <th>Work load Average/day</th>\n",
              "      <th>...</th>\n",
              "      <th>Disciplinary failure</th>\n",
              "      <th>Education</th>\n",
              "      <th>Son</th>\n",
              "      <th>Social drinker</th>\n",
              "      <th>Social smoker</th>\n",
              "      <th>Pet</th>\n",
              "      <th>Weight</th>\n",
              "      <th>Height</th>\n",
              "      <th>Body mass index</th>\n",
              "      <th>Absenteeism time in hours</th>\n",
              "    </tr>\n",
              "  </thead>\n",
              "  <tbody>\n",
              "    <tr>\n",
              "      <th>0</th>\n",
              "      <td>11</td>\n",
              "      <td>26</td>\n",
              "      <td>7</td>\n",
              "      <td>3</td>\n",
              "      <td>1</td>\n",
              "      <td>289</td>\n",
              "      <td>36</td>\n",
              "      <td>13</td>\n",
              "      <td>33</td>\n",
              "      <td>239.554</td>\n",
              "      <td>...</td>\n",
              "      <td>0</td>\n",
              "      <td>1</td>\n",
              "      <td>2</td>\n",
              "      <td>1</td>\n",
              "      <td>0</td>\n",
              "      <td>1</td>\n",
              "      <td>90</td>\n",
              "      <td>172</td>\n",
              "      <td>30</td>\n",
              "      <td>4</td>\n",
              "    </tr>\n",
              "    <tr>\n",
              "      <th>1</th>\n",
              "      <td>36</td>\n",
              "      <td>0</td>\n",
              "      <td>7</td>\n",
              "      <td>3</td>\n",
              "      <td>1</td>\n",
              "      <td>118</td>\n",
              "      <td>13</td>\n",
              "      <td>18</td>\n",
              "      <td>50</td>\n",
              "      <td>239.554</td>\n",
              "      <td>...</td>\n",
              "      <td>1</td>\n",
              "      <td>1</td>\n",
              "      <td>1</td>\n",
              "      <td>1</td>\n",
              "      <td>0</td>\n",
              "      <td>0</td>\n",
              "      <td>98</td>\n",
              "      <td>178</td>\n",
              "      <td>31</td>\n",
              "      <td>0</td>\n",
              "    </tr>\n",
              "    <tr>\n",
              "      <th>2</th>\n",
              "      <td>3</td>\n",
              "      <td>23</td>\n",
              "      <td>7</td>\n",
              "      <td>4</td>\n",
              "      <td>1</td>\n",
              "      <td>179</td>\n",
              "      <td>51</td>\n",
              "      <td>18</td>\n",
              "      <td>38</td>\n",
              "      <td>239.554</td>\n",
              "      <td>...</td>\n",
              "      <td>0</td>\n",
              "      <td>1</td>\n",
              "      <td>0</td>\n",
              "      <td>1</td>\n",
              "      <td>0</td>\n",
              "      <td>0</td>\n",
              "      <td>89</td>\n",
              "      <td>170</td>\n",
              "      <td>31</td>\n",
              "      <td>2</td>\n",
              "    </tr>\n",
              "    <tr>\n",
              "      <th>3</th>\n",
              "      <td>7</td>\n",
              "      <td>7</td>\n",
              "      <td>7</td>\n",
              "      <td>5</td>\n",
              "      <td>1</td>\n",
              "      <td>279</td>\n",
              "      <td>5</td>\n",
              "      <td>14</td>\n",
              "      <td>39</td>\n",
              "      <td>239.554</td>\n",
              "      <td>...</td>\n",
              "      <td>0</td>\n",
              "      <td>1</td>\n",
              "      <td>2</td>\n",
              "      <td>1</td>\n",
              "      <td>1</td>\n",
              "      <td>0</td>\n",
              "      <td>68</td>\n",
              "      <td>168</td>\n",
              "      <td>24</td>\n",
              "      <td>4</td>\n",
              "    </tr>\n",
              "    <tr>\n",
              "      <th>4</th>\n",
              "      <td>11</td>\n",
              "      <td>23</td>\n",
              "      <td>7</td>\n",
              "      <td>5</td>\n",
              "      <td>1</td>\n",
              "      <td>289</td>\n",
              "      <td>36</td>\n",
              "      <td>13</td>\n",
              "      <td>33</td>\n",
              "      <td>239.554</td>\n",
              "      <td>...</td>\n",
              "      <td>0</td>\n",
              "      <td>1</td>\n",
              "      <td>2</td>\n",
              "      <td>1</td>\n",
              "      <td>0</td>\n",
              "      <td>1</td>\n",
              "      <td>90</td>\n",
              "      <td>172</td>\n",
              "      <td>30</td>\n",
              "      <td>2</td>\n",
              "    </tr>\n",
              "  </tbody>\n",
              "</table>\n",
              "<p>5 rows × 21 columns</p>\n",
              "</div>"
            ],
            "text/plain": [
              "   ID  Reason for absence  Month of absence  Day of the week  Seasons  \\\n",
              "0  11                  26                 7                3        1   \n",
              "1  36                   0                 7                3        1   \n",
              "2   3                  23                 7                4        1   \n",
              "3   7                   7                 7                5        1   \n",
              "4  11                  23                 7                5        1   \n",
              "\n",
              "   Transportation expense  Distance from Residence to Work  Service time  Age  \\\n",
              "0                     289                               36            13   33   \n",
              "1                     118                               13            18   50   \n",
              "2                     179                               51            18   38   \n",
              "3                     279                                5            14   39   \n",
              "4                     289                               36            13   33   \n",
              "\n",
              "   Work load Average/day             ...              Disciplinary failure  \\\n",
              "0                 239.554            ...                                 0   \n",
              "1                 239.554            ...                                 1   \n",
              "2                 239.554            ...                                 0   \n",
              "3                 239.554            ...                                 0   \n",
              "4                 239.554            ...                                 0   \n",
              "\n",
              "   Education  Son  Social drinker  Social smoker  Pet  Weight  Height  \\\n",
              "0          1    2               1              0    1      90     172   \n",
              "1          1    1               1              0    0      98     178   \n",
              "2          1    0               1              0    0      89     170   \n",
              "3          1    2               1              1    0      68     168   \n",
              "4          1    2               1              0    1      90     172   \n",
              "\n",
              "   Body mass index  Absenteeism time in hours  \n",
              "0               30                          4  \n",
              "1               31                          0  \n",
              "2               31                          2  \n",
              "3               24                          4  \n",
              "4               30                          2  \n",
              "\n",
              "[5 rows x 21 columns]"
            ]
          },
          "metadata": {
            "tags": []
          },
          "execution_count": 33
        }
      ]
    },
    {
      "metadata": {
        "id": "b7fQ4d2JuxBN",
        "colab_type": "code",
        "colab": {
          "base_uri": "https://localhost:8080/",
          "height": 34
        },
        "outputId": "87c77768-77a8-4718-e9b2-e0f987058414"
      },
      "cell_type": "code",
      "source": [
        "absent_df.shape"
      ],
      "execution_count": 34,
      "outputs": [
        {
          "output_type": "execute_result",
          "data": {
            "text/plain": [
              "(740, 21)"
            ]
          },
          "metadata": {
            "tags": []
          },
          "execution_count": 34
        }
      ]
    },
    {
      "metadata": {
        "id": "idG1Y8CpvBg8",
        "colab_type": "code",
        "colab": {
          "base_uri": "https://localhost:8080/",
          "height": 34
        },
        "outputId": "0a72fcd8-3399-4533-b8f0-3b0bfb9bde65"
      },
      "cell_type": "code",
      "source": [
        "LogisticRegression"
      ],
      "execution_count": 35,
      "outputs": [
        {
          "output_type": "execute_result",
          "data": {
            "text/plain": [
              "sklearn.linear_model.logistic.LogisticRegression"
            ]
          },
          "metadata": {
            "tags": []
          },
          "execution_count": 35
        }
      ]
    },
    {
      "metadata": {
        "id": "OiD7Fq3Gvx9p",
        "colab_type": "code",
        "colab": {
          "base_uri": "https://localhost:8080/",
          "height": 139
        },
        "outputId": "38c1aba8-b03a-4400-dda6-b40f9fdbfb31"
      },
      "cell_type": "code",
      "source": [
        "absent_df.columns"
      ],
      "execution_count": 36,
      "outputs": [
        {
          "output_type": "execute_result",
          "data": {
            "text/plain": [
              "Index(['ID', 'Reason for absence', 'Month of absence', 'Day of the week',\n",
              "       'Seasons', 'Transportation expense', 'Distance from Residence to Work',\n",
              "       'Service time', 'Age', 'Work load Average/day ', 'Hit target',\n",
              "       'Disciplinary failure', 'Education', 'Son', 'Social drinker',\n",
              "       'Social smoker', 'Pet', 'Weight', 'Height', 'Body mass index',\n",
              "       'Absenteeism time in hours'],\n",
              "      dtype='object')"
            ]
          },
          "metadata": {
            "tags": []
          },
          "execution_count": 36
        }
      ]
    },
    {
      "metadata": {
        "id": "SntB6VrJvTzL",
        "colab_type": "code",
        "colab": {
          "base_uri": "https://localhost:8080/",
          "height": 124
        },
        "outputId": "32d9a2df-11e9-441f-eb0f-9fde5c183195"
      },
      "cell_type": "code",
      "source": [
        "X = absent_df.drop('Reason for absence', axis='columns')\n",
        "y = absent_df['Reason for absence']\n",
        "\n",
        "absent_log1 = LogisticRegression().fit(X, y)\n",
        "absent_log1.score(X, y)"
      ],
      "execution_count": 37,
      "outputs": [
        {
          "output_type": "stream",
          "text": [
            "/usr/local/lib/python3.6/dist-packages/sklearn/linear_model/logistic.py:433: FutureWarning: Default solver will be changed to 'lbfgs' in 0.22. Specify a solver to silence this warning.\n",
            "  FutureWarning)\n",
            "/usr/local/lib/python3.6/dist-packages/sklearn/linear_model/logistic.py:460: FutureWarning: Default multi_class will be changed to 'auto' in 0.22. Specify the multi_class option to silence this warning.\n",
            "  \"this warning.\", FutureWarning)\n"
          ],
          "name": "stderr"
        },
        {
          "output_type": "execute_result",
          "data": {
            "text/plain": [
              "0.5013513513513513"
            ]
          },
          "metadata": {
            "tags": []
          },
          "execution_count": 37
        }
      ]
    },
    {
      "metadata": {
        "id": "MorzE3nKwR9q",
        "colab_type": "code",
        "colab": {
          "base_uri": "https://localhost:8080/",
          "height": 86
        },
        "outputId": "e30712fe-81ec-4618-fc2b-b12acda731b3"
      },
      "cell_type": "code",
      "source": [
        "absent_log1"
      ],
      "execution_count": 38,
      "outputs": [
        {
          "output_type": "execute_result",
          "data": {
            "text/plain": [
              "LogisticRegression(C=1.0, class_weight=None, dual=False, fit_intercept=True,\n",
              "          intercept_scaling=1, max_iter=100, multi_class='warn',\n",
              "          n_jobs=None, penalty='l2', random_state=None, solver='warn',\n",
              "          tol=0.0001, verbose=0, warm_start=False)"
            ]
          },
          "metadata": {
            "tags": []
          },
          "execution_count": 38
        }
      ]
    },
    {
      "metadata": {
        "id": "EBFEwpekwUH3",
        "colab_type": "code",
        "colab": {
          "base_uri": "https://localhost:8080/",
          "height": 3421
        },
        "outputId": "16fb9d97-11ee-44b7-f497-5b77c7b9e516"
      },
      "cell_type": "code",
      "source": [
        "absent_log1.coef_"
      ],
      "execution_count": 39,
      "outputs": [
        {
          "output_type": "execute_result",
          "data": {
            "text/plain": [
              "array([[-1.27508146e-02, -2.20793886e-01, -4.08404457e-02,\n",
              "         4.22616389e-01,  7.64613632e-03, -6.18658809e-03,\n",
              "        -3.11523480e-02,  5.52309565e-02, -1.01707258e-02,\n",
              "        -1.14781041e-01,  2.51984519e+00,  1.41303285e-02,\n",
              "         3.56702636e-01,  2.27778616e-01,  1.80478520e-01,\n",
              "         1.33441356e-01, -9.82098540e-03,  5.23702470e-02,\n",
              "         7.24744784e-02, -3.15221513e+00],\n",
              "       [ 5.11128074e-02,  1.77166203e-01, -5.01201750e-01,\n",
              "        -9.34413067e-02,  8.70070989e-03,  2.90683453e-02,\n",
              "        -8.19496921e-02,  1.30910624e-01,  3.69193210e-03,\n",
              "         3.58478924e-02, -7.77198534e-01,  9.21419989e-01,\n",
              "         2.74046853e-01, -6.53744541e-01, -2.74959514e-01,\n",
              "        -4.46143318e-01,  1.88638790e-01, -7.60409657e-02,\n",
              "        -6.85430554e-01,  4.55734002e-03],\n",
              "       [ 1.74477093e-01,  5.91768593e-01,  4.46355493e-02,\n",
              "         4.29016838e-01,  5.97802716e-02, -2.02281583e-01,\n",
              "        -4.44906133e-01, -2.65239556e-01,  8.55486140e-03,\n",
              "        -4.07755000e-01, -6.70334842e-02,  5.15111418e-02,\n",
              "        -1.41925514e-01, -5.24034227e-02, -1.81927726e-05,\n",
              "        -2.16066314e-02,  2.57084168e-01, -2.44962459e-02,\n",
              "        -7.13783256e-02,  1.06021271e-01],\n",
              "       [-1.69881727e-01, -8.44450958e-01,  6.19523476e-02,\n",
              "        -1.61054588e-01,  4.52164851e-02,  3.55299322e-02,\n",
              "        -6.77983067e-02,  2.11118404e-01,  5.44242972e-02,\n",
              "         7.88588029e-01, -4.63390739e-02, -2.63965509e-02,\n",
              "        -3.45042003e-01,  1.42942572e-01, -1.54662581e-01,\n",
              "         1.35939985e-02, -1.24836203e-01, -5.92970783e-01,\n",
              "        -1.72013469e-01,  4.40793881e-03],\n",
              "       [ 1.83780974e-01,  7.31554736e-01,  3.91442653e-01,\n",
              "         5.08895583e-01,  3.77336010e-02, -3.89834723e-02,\n",
              "         7.12291057e-01,  1.64426586e-01, -1.13810188e-01,\n",
              "        -1.64211033e-01, -1.98910328e-02, -5.31845649e-03,\n",
              "        -2.58062208e-01,  2.72682295e-02, -1.67349920e-02,\n",
              "        -2.87139797e-02, -1.51679044e-01,  7.80309754e-02,\n",
              "        -1.42363122e-01, -2.01612569e-02],\n",
              "       [ 7.04063336e-02,  2.11408701e-01,  2.23255455e-01,\n",
              "        -7.45821946e-01, -9.91939922e-02,  1.41823442e-01,\n",
              "         1.09474641e-02,  7.76611644e-03, -1.06518269e-02,\n",
              "         4.81608748e-01, -2.06899549e-01, -4.45706524e-03,\n",
              "        -1.35055265e-02,  3.19208662e-03, -7.23070476e-03,\n",
              "        -5.45246241e-02,  9.39910421e-02, -2.82366098e-01,\n",
              "         1.41814947e-02, -6.79811734e-04],\n",
              "       [-8.42882248e-02,  2.17399790e-01, -4.71395895e-02,\n",
              "        -2.18225939e-01, -5.54814266e-03,  3.86327179e-03,\n",
              "        -1.38372072e-01,  6.63390618e-02,  1.27387796e-02,\n",
              "         1.33099263e-02, -2.38374203e-01, -5.44938925e-01,\n",
              "        -8.80863218e-02, -7.57229052e-01, -4.29442790e-01,\n",
              "        -2.32952216e-01,  3.15598650e-02, -1.62672159e-02,\n",
              "        -2.57010971e-01,  1.58058960e-02],\n",
              "       [-3.37240307e-02, -1.68791836e-01, -3.19627377e-01,\n",
              "         3.19621545e-01,  3.99691490e-03, -6.94117906e-02,\n",
              "         7.42788604e-02, -1.31141158e-01, -5.40787168e-03,\n",
              "        -1.21514773e-01, -5.77294286e-01, -3.92062815e-01,\n",
              "        -3.94696367e-01, -4.84826642e-02,  5.70942851e-01,\n",
              "         2.34822717e-01, -1.87264192e-01,  1.11182626e-01,\n",
              "         4.39039591e-01,  1.18442533e-02],\n",
              "       [-1.52890145e-02,  1.34160539e-01, -2.68668138e-02,\n",
              "        -3.03449473e-01, -1.54486500e-02, -2.92343775e-02,\n",
              "        -2.21214265e-01,  5.13873714e-02,  6.31148147e-03,\n",
              "         2.07997366e-01, -2.00032667e-01, -1.05905506e-01,\n",
              "         2.77343241e-01, -2.64607525e-01,  1.02252995e+00,\n",
              "        -2.62287327e-02,  2.15634289e-02, -1.19350757e-01,\n",
              "        -1.01798510e-01, -1.66761338e-02],\n",
              "       [ 5.75018264e-01,  5.09534512e-01, -3.92651921e-01,\n",
              "        -2.75818970e-01,  2.40533615e-02, -2.18839470e-01,\n",
              "         3.66251862e-01, -1.60089619e-01,  7.13062388e-03,\n",
              "        -4.53937308e-01, -7.08219088e-02, -3.54562939e-01,\n",
              "        -2.82846068e-01,  2.79403734e-02, -1.44116365e-02,\n",
              "         1.46175274e-02, -3.41713868e-01,  1.92956969e-01,\n",
              "         3.59020847e-01,  6.90097771e-02],\n",
              "       [ 5.04483159e-02, -1.16477523e-01, -1.69481385e-02,\n",
              "         5.92928522e-01,  1.09404775e-02, -2.06467138e-02,\n",
              "         1.61108670e-01, -1.07214716e-01, -4.08168647e-03,\n",
              "        -2.31116715e-02, -8.54253971e-01, -6.08813066e-01,\n",
              "        -2.58151394e-01, -2.85664291e-01, -7.14286081e-02,\n",
              "        -7.28868576e-01,  4.80687424e-02, -1.99856363e-03,\n",
              "        -1.46178728e-01,  1.16584825e-02],\n",
              "       [-2.97610409e-02,  9.15539072e-02, -2.99996417e-01,\n",
              "        -3.07535039e-01, -4.92384520e-04,  1.33210905e-02,\n",
              "         2.20500132e-03, -5.90665531e-02,  1.26055987e-02,\n",
              "         4.80909316e-02, -5.35899100e-01, -4.46511693e-01,\n",
              "        -2.77035861e-01, -1.16966953e+00,  7.19238702e-01,\n",
              "        -4.59861613e-01,  3.88798078e-02, -3.75368172e-02,\n",
              "        -1.07969075e-01,  1.84930548e-02],\n",
              "       [-1.05983103e-01, -2.16764782e-01, -3.94022188e-02,\n",
              "         7.94637049e-01, -8.59232204e-03,  2.47513424e-03,\n",
              "        -7.05917561e-02,  3.95855272e-02,  1.47883644e-02,\n",
              "         3.86601298e-02, -1.27340783e-01, -2.28098236e-01,\n",
              "        -4.23579093e-01,  6.14334924e-02, -4.33786104e-01,\n",
              "         1.98405525e-01,  1.71213262e-02, -1.18506873e-02,\n",
              "        -3.75194471e-01,  3.31665449e-02],\n",
              "       [ 1.12498834e-02, -1.78874921e-03, -1.65202497e-02,\n",
              "         7.09078517e-02, -2.27397979e-03,  2.32781179e-03,\n",
              "         1.35937080e-02, -3.65682039e-02,  1.42158432e-02,\n",
              "         3.28995220e-02, -7.94795767e-01,  8.12516439e-01,\n",
              "        -3.00928389e-02,  7.64696084e-01, -6.57624133e-01,\n",
              "        -1.97074765e-01,  2.19265551e-02, -6.66325680e-02,\n",
              "        -1.18256073e-02,  3.19607344e-02],\n",
              "       [ 5.62518621e-02,  1.01654541e-01,  1.77171581e-01,\n",
              "         1.13037505e-01,  1.46224193e-02, -7.01103729e-02,\n",
              "         8.31078902e-02,  6.83676776e-02,  7.12699082e-03,\n",
              "         6.12452226e-02, -9.41412574e-01,  3.46322885e-01,\n",
              "        -1.21468342e-01,  1.19091780e+00,  4.25379359e-01,\n",
              "         4.43609497e-01,  4.51739796e-02, -1.29755553e-01,\n",
              "        -9.02217432e-02,  6.71870581e-03],\n",
              "       [ 1.84521478e-01,  3.86193433e-01, -1.87854241e-01,\n",
              "        -1.27529528e-01,  2.13230662e-02,  1.22112049e-02,\n",
              "        -4.47304051e-02,  1.75010429e-01, -1.94078541e-02,\n",
              "        -8.99735013e-03, -1.78650095e-01, -4.99872479e-02,\n",
              "         6.74743092e-01,  4.96668163e-01,  5.00348745e-01,\n",
              "        -3.64280825e-01,  1.12928216e-01, -7.62745243e-02,\n",
              "        -5.86126282e-01,  9.94713371e-03],\n",
              "       [ 1.06247032e-01, -5.20495832e-01, -6.22614053e-02,\n",
              "         6.98781468e-01,  9.76195918e-03, -2.09340879e-01,\n",
              "         5.19889937e-01, -8.74683858e-02, -7.65976483e-02,\n",
              "        -4.05200412e-01, -2.18028874e-01,  7.51846864e-01,\n",
              "         2.89353958e-01, -6.91643849e-01,  6.26132656e-01,\n",
              "        -1.69665214e-01, -3.95108063e-01,  3.60806107e-01,\n",
              "         6.69244223e-01, -6.15457594e-01],\n",
              "       [-2.86884861e-01, -5.67612515e-02, -5.93624985e-01,\n",
              "        -8.34025706e-02, -1.21245469e-01, -1.20706278e-01,\n",
              "         3.50568701e-01,  3.32060989e-01,  1.65589878e-01,\n",
              "         6.57168420e-02, -1.03712839e-02,  2.98985013e-03,\n",
              "         1.24055948e-01, -3.94150507e-02,  6.92014562e-02,\n",
              "        -4.56963351e-04, -4.56244665e-01, -1.12868288e-01,\n",
              "        -8.86862035e-02, -1.41642309e-01],\n",
              "       [-7.90035713e-02,  8.09459874e-02, -1.86814503e-01,\n",
              "        -3.02904216e-01, -6.33591226e-03,  6.04925938e-04,\n",
              "        -7.84788997e-02,  5.27267823e-02,  2.71993834e-03,\n",
              "         6.47177640e-02, -5.76539525e-01, -6.41400355e-02,\n",
              "         1.41865324e-01, -8.30185872e-01,  6.44027836e-01,\n",
              "         1.07152681e-01,  1.04703690e-01, -3.72436695e-02,\n",
              "        -3.59798019e-01, -2.95293262e-04],\n",
              "       [ 6.12069038e-02, -1.80961205e-02, -4.80318927e-02,\n",
              "        -1.75964312e-01, -1.24174652e-03,  2.21904656e-03,\n",
              "        -6.17279417e-02, -5.32781546e-02,  4.63239783e-03,\n",
              "         3.01581791e-02, -6.92767157e-01,  1.70115064e-01,\n",
              "         3.62174543e-01,  9.98809826e-01,  7.46336111e-01,\n",
              "         2.54316422e-01,  7.42197268e-02, -5.70889646e-02,\n",
              "        -9.53177755e-02,  3.04071943e-02],\n",
              "       [-1.74672440e-01,  3.19491894e-01, -8.57553356e-02,\n",
              "        -3.05458844e-01, -1.77205144e-02, -1.63858239e-02,\n",
              "         3.23234003e-01, -7.92499420e-02,  7.69493536e-03,\n",
              "         1.00445060e-01, -6.19208630e-02,  7.43829483e-01,\n",
              "        -7.96888097e-02, -3.12512114e-01,  2.07633034e-01,\n",
              "        -3.34770785e-01, -1.01674494e-01, -3.02625905e-02,\n",
              "        -3.82375061e-02, -5.10733404e-03],\n",
              "       [-9.80484015e-02, -1.00278455e-01,  1.67305318e-01,\n",
              "        -1.31903754e-01,  1.89850754e-02,  2.06805230e-03,\n",
              "         1.95533930e-01, -1.57951935e-01, -1.16243373e-03,\n",
              "         3.80453762e-02, -1.29684368e+00,  5.65308694e-01,\n",
              "         6.17877294e-01, -4.35589293e-01, -2.08999630e-01,\n",
              "         6.26786629e-01,  3.23867233e-02, -4.58915543e-02,\n",
              "        -1.22674044e-01, -2.89066139e-03],\n",
              "       [ 5.07207631e-03,  1.58217883e-01,  4.18639670e-02,\n",
              "        -1.54826825e-01,  8.82835854e-04, -2.02132218e-02,\n",
              "         5.92864753e-02, -6.64508536e-02, -4.06186569e-03,\n",
              "        -9.37570381e-03, -2.55774235e+00, -3.46414904e-01,\n",
              "         1.36592621e-01, -4.68137520e-01, -8.86135372e-01,\n",
              "         5.08599916e-02, -1.48494527e-02,  1.79478220e-02,\n",
              "         6.25572296e-02, -2.98509878e-01],\n",
              "       [-8.41296172e-02,  3.64246718e-01, -2.55763703e-01,\n",
              "         4.63999101e-01,  2.95461950e-02,  7.30725734e-03,\n",
              "         4.77517209e-01, -8.24881931e-01, -3.64754517e-02,\n",
              "        -1.44633418e-01, -2.99785538e-01, -6.06811918e-02,\n",
              "         3.84547555e-01,  8.41854114e-02, -1.06029785e-04,\n",
              "        -1.99492535e-01,  3.80203996e-01, -2.67351464e-02,\n",
              "        -1.86038658e-02, -2.78193426e-03],\n",
              "       [-1.11684073e-02, -5.34617077e-02, -9.84506499e-02,\n",
              "        -6.39971969e-01, -7.26554333e-04, -2.86895477e-02,\n",
              "         5.96496997e-02, -3.51258306e-02, -1.85043657e-02,\n",
              "         7.56939734e-02, -6.99307465e-01, -1.11805242e-01,\n",
              "         2.94221761e-01, -1.56689664e+00,  7.48253269e-01,\n",
              "         1.36521499e-02,  3.97379111e-02,  5.94002547e-03,\n",
              "        -1.80687012e-01, -1.58155107e-01],\n",
              "       [ 1.76384151e-02,  1.69587500e-01,  2.46492596e-02,\n",
              "        -2.56664166e-01,  7.87561769e-03, -2.74964087e-02,\n",
              "        -1.07142576e-01, -4.71203432e-02,  7.49380408e-03,\n",
              "         1.58293697e-01, -1.32780077e+00,  1.87541548e-01,\n",
              "         4.28454686e-01,  5.48545450e-01, -4.50306904e-01,\n",
              "        -1.06056869e+00,  1.31272294e-01, -1.65267423e-01,\n",
              "        -6.94878570e-02, -1.02896575e-02],\n",
              "       [ 9.02239854e-02, -9.29018648e-01,  4.01504858e-01,\n",
              "         5.55322655e-01, -5.20017696e-02, -3.80517365e-02,\n",
              "         9.91795452e-01, -8.84509000e-01, -2.50834384e-02,\n",
              "        -1.06262380e-01, -6.50206377e-01,  1.16269735e+00,\n",
              "        -1.21191641e+00, -2.34255920e-01, -4.92389133e-01,\n",
              "        -2.92283893e-01, -3.19796361e-01,  2.05008156e-01,\n",
              "         1.23111630e+00, -5.87540662e-01],\n",
              "       [ 2.51254771e-02,  3.40490833e-02, -3.75796518e-02,\n",
              "         1.19082494e-01, -6.95693168e-04,  2.84061173e-02,\n",
              "        -1.00081927e-03,  3.16005988e-02,  1.01046551e-04,\n",
              "        -4.81954645e-02, -2.55794076e+00, -1.09979507e+00,\n",
              "        -1.24500798e-02,  1.00415917e+00, -5.18394783e-01,\n",
              "        -2.43601117e-01, -3.23909881e-02,  3.53861893e-02,\n",
              "        -5.72873722e-02, -2.57643190e-01]])"
            ]
          },
          "metadata": {
            "tags": []
          },
          "execution_count": 39
        }
      ]
    },
    {
      "metadata": {
        "id": "tgThnZlMwFi0",
        "colab_type": "code",
        "colab": {}
      },
      "cell_type": "code",
      "source": [
        "?LogisticRegression"
      ],
      "execution_count": 0,
      "outputs": []
    },
    {
      "metadata": {
        "id": "iblW74C8afuR",
        "colab_type": "text"
      },
      "cell_type": "markdown",
      "source": [
        "## Assignment - real-world classification\n",
        "\n",
        "We're going to check out a larger dataset - the [FMA Free Music Archive data](https://github.com/mdeff/fma). It has a selection of CSVs with metadata and calculated audio features that you can load and try to use to classify genre of tracks. To get you started:"
      ]
    },
    {
      "metadata": {
        "id": "SsySnuKaKtQf",
        "colab_type": "code",
        "colab": {
          "base_uri": "https://localhost:8080/",
          "height": 434
        },
        "outputId": "b5011dc8-4bcd-4aa0-dd11-7fd77af114ad"
      },
      "cell_type": "code",
      "source": [
        "!wget https://os.unil.cloud.switch.ch/fma/fma_metadata.zip\n",
        "!unzip fma_metadata.zip"
      ],
      "execution_count": 2,
      "outputs": [
        {
          "output_type": "stream",
          "text": [
            "--2019-01-23 14:22:56--  https://os.unil.cloud.switch.ch/fma/fma_metadata.zip\n",
            "Resolving os.unil.cloud.switch.ch (os.unil.cloud.switch.ch)... 86.119.28.13, 2001:620:5ca1:2ff::ce53\n",
            "Connecting to os.unil.cloud.switch.ch (os.unil.cloud.switch.ch)|86.119.28.13|:443... connected.\n",
            "HTTP request sent, awaiting response... 200 OK\n",
            "Length: 358412441 (342M) [application/zip]\n",
            "Saving to: ‘fma_metadata.zip’\n",
            "\n",
            "fma_metadata.zip    100%[===================>] 341.81M  16.4MB/s    in 24s     \n",
            "\n",
            "2019-01-23 14:23:20 (14.4 MB/s) - ‘fma_metadata.zip’ saved [358412441/358412441]\n",
            "\n",
            "Archive:  fma_metadata.zip\n",
            " bunzipping: fma_metadata/README.txt  \n",
            " bunzipping: fma_metadata/checksums  \n",
            " bunzipping: fma_metadata/not_found.pickle  \n",
            " bunzipping: fma_metadata/raw_genres.csv  \n",
            " bunzipping: fma_metadata/raw_albums.csv  \n",
            " bunzipping: fma_metadata/raw_artists.csv  \n",
            " bunzipping: fma_metadata/raw_tracks.csv  \n",
            " bunzipping: fma_metadata/tracks.csv  \n",
            " bunzipping: fma_metadata/genres.csv  \n",
            " bunzipping: fma_metadata/raw_echonest.csv  \n",
            " bunzipping: fma_metadata/echonest.csv  \n",
            " bunzipping: fma_metadata/features.csv  \n"
          ],
          "name": "stdout"
        }
      ]
    },
    {
      "metadata": {
        "id": "VbUJKyI1LRwD",
        "colab_type": "code",
        "colab": {
          "base_uri": "https://localhost:8080/",
          "height": 72
        },
        "outputId": "d0f0a9c2-1462-4bc3-e791-73e06f12c936"
      },
      "cell_type": "code",
      "source": [
        "from sklearn.linear_model import LogisticRegression\n",
        "import pandas as pd\n",
        "import numpy as np\n",
        "import datetime as dt\n",
        "\n",
        "\n",
        "tracks = pd.read_csv('fma_metadata/tracks.csv')"
      ],
      "execution_count": 3,
      "outputs": [
        {
          "output_type": "stream",
          "text": [
            "/usr/local/lib/python3.6/dist-packages/IPython/core/interactiveshell.py:2718: DtypeWarning: Columns (0,1,5,6,8,12,18,20,21,22,24,33,34,38,39,44,47,49) have mixed types. Specify dtype option on import or set low_memory=False.\n",
            "  interactivity=interactivity, compiler=compiler, result=result)\n"
          ],
          "name": "stderr"
        }
      ]
    },
    {
      "metadata": {
        "id": "ut-Zfhp2LjcS",
        "colab_type": "code",
        "colab": {
          "base_uri": "https://localhost:8080/",
          "height": 294
        },
        "outputId": "8c0586da-5008-4bde-87ef-5789497182d9"
      },
      "cell_type": "code",
      "source": [
        "tracks.describe()"
      ],
      "execution_count": 4,
      "outputs": [
        {
          "output_type": "execute_result",
          "data": {
            "text/html": [
              "<div>\n",
              "<style scoped>\n",
              "    .dataframe tbody tr th:only-of-type {\n",
              "        vertical-align: middle;\n",
              "    }\n",
              "\n",
              "    .dataframe tbody tr th {\n",
              "        vertical-align: top;\n",
              "    }\n",
              "\n",
              "    .dataframe thead th {\n",
              "        text-align: right;\n",
              "    }\n",
              "</style>\n",
              "<table border=\"1\" class=\"dataframe\">\n",
              "  <thead>\n",
              "    <tr style=\"text-align: right;\">\n",
              "      <th></th>\n",
              "      <th>Unnamed: 0</th>\n",
              "      <th>album</th>\n",
              "      <th>album.1</th>\n",
              "      <th>album.2</th>\n",
              "      <th>album.3</th>\n",
              "      <th>album.4</th>\n",
              "      <th>album.5</th>\n",
              "      <th>album.6</th>\n",
              "      <th>album.7</th>\n",
              "      <th>album.8</th>\n",
              "      <th>...</th>\n",
              "      <th>track.10</th>\n",
              "      <th>track.11</th>\n",
              "      <th>track.12</th>\n",
              "      <th>track.13</th>\n",
              "      <th>track.14</th>\n",
              "      <th>track.15</th>\n",
              "      <th>track.16</th>\n",
              "      <th>track.17</th>\n",
              "      <th>track.18</th>\n",
              "      <th>track.19</th>\n",
              "    </tr>\n",
              "  </thead>\n",
              "  <tbody>\n",
              "    <tr>\n",
              "      <th>count</th>\n",
              "      <td>106575</td>\n",
              "      <td>106575</td>\n",
              "      <td>103046</td>\n",
              "      <td>70295</td>\n",
              "      <td>15296</td>\n",
              "      <td>106575</td>\n",
              "      <td>106575</td>\n",
              "      <td>83150</td>\n",
              "      <td>106575</td>\n",
              "      <td>18061</td>\n",
              "      <td>...</td>\n",
              "      <td>2350</td>\n",
              "      <td>106575</td>\n",
              "      <td>15025</td>\n",
              "      <td>106488</td>\n",
              "      <td>106575</td>\n",
              "      <td>312</td>\n",
              "      <td>106575</td>\n",
              "      <td>1264</td>\n",
              "      <td>106575</td>\n",
              "      <td>106574</td>\n",
              "    </tr>\n",
              "    <tr>\n",
              "      <th>unique</th>\n",
              "      <td>106575</td>\n",
              "      <td>29</td>\n",
              "      <td>14341</td>\n",
              "      <td>3670</td>\n",
              "      <td>623</td>\n",
              "      <td>65</td>\n",
              "      <td>14929</td>\n",
              "      <td>11076</td>\n",
              "      <td>11351</td>\n",
              "      <td>761</td>\n",
              "      <td>...</td>\n",
              "      <td>1587</td>\n",
              "      <td>18977</td>\n",
              "      <td>45</td>\n",
              "      <td>114</td>\n",
              "      <td>15340</td>\n",
              "      <td>67</td>\n",
              "      <td>331</td>\n",
              "      <td>136</td>\n",
              "      <td>2452</td>\n",
              "      <td>94987</td>\n",
              "    </tr>\n",
              "    <tr>\n",
              "      <th>top</th>\n",
              "      <td>143640</td>\n",
              "      <td>0</td>\n",
              "      <td>2015-01-26 13:04:57</td>\n",
              "      <td>2008-01-01 00:00:00</td>\n",
              "      <td>Ernie Indradat</td>\n",
              "      <td>0</td>\n",
              "      <td>-1</td>\n",
              "      <td>&lt;p class=\"p1\" style=\"margin: 0px; padding: 8px...</td>\n",
              "      <td>-1</td>\n",
              "      <td>Joe Belock</td>\n",
              "      <td>...</td>\n",
              "      <td>&lt;p&gt;&lt;a href=\"http://www.myspace.com/theshambler...</td>\n",
              "      <td>320</td>\n",
              "      <td>en</td>\n",
              "      <td>Attribution-Noncommercial-Share Alike 3.0 Unit...</td>\n",
              "      <td>97</td>\n",
              "      <td>Apache Tomcat</td>\n",
              "      <td>1</td>\n",
              "      <td>Victrola Dog (ASCAP)</td>\n",
              "      <td>[]</td>\n",
              "      <td>Untitled</td>\n",
              "    </tr>\n",
              "    <tr>\n",
              "      <th>freq</th>\n",
              "      <td>1</td>\n",
              "      <td>71187</td>\n",
              "      <td>310</td>\n",
              "      <td>667</td>\n",
              "      <td>876</td>\n",
              "      <td>45753</td>\n",
              "      <td>805</td>\n",
              "      <td>310</td>\n",
              "      <td>3130</td>\n",
              "      <td>855</td>\n",
              "      <td>...</td>\n",
              "      <td>22</td>\n",
              "      <td>67</td>\n",
              "      <td>14255</td>\n",
              "      <td>19250</td>\n",
              "      <td>110</td>\n",
              "      <td>44</td>\n",
              "      <td>10459</td>\n",
              "      <td>465</td>\n",
              "      <td>83078</td>\n",
              "      <td>298</td>\n",
              "    </tr>\n",
              "  </tbody>\n",
              "</table>\n",
              "<p>4 rows × 53 columns</p>\n",
              "</div>"
            ],
            "text/plain": [
              "        Unnamed: 0   album              album.1              album.2  \\\n",
              "count       106575  106575               103046                70295   \n",
              "unique      106575      29                14341                 3670   \n",
              "top         143640       0  2015-01-26 13:04:57  2008-01-01 00:00:00   \n",
              "freq             1   71187                  310                  667   \n",
              "\n",
              "               album.3  album.4  album.5  \\\n",
              "count            15296   106575   106575   \n",
              "unique             623       65    14929   \n",
              "top     Ernie Indradat        0       -1   \n",
              "freq               876    45753      805   \n",
              "\n",
              "                                                  album.6  album.7  \\\n",
              "count                                               83150   106575   \n",
              "unique                                              11076    11351   \n",
              "top     <p class=\"p1\" style=\"margin: 0px; padding: 8px...       -1   \n",
              "freq                                                  310     3130   \n",
              "\n",
              "           album.8    ...     \\\n",
              "count        18061    ...      \n",
              "unique         761    ...      \n",
              "top     Joe Belock    ...      \n",
              "freq           855    ...      \n",
              "\n",
              "                                                 track.10 track.11  track.12  \\\n",
              "count                                                2350   106575     15025   \n",
              "unique                                               1587    18977        45   \n",
              "top     <p><a href=\"http://www.myspace.com/theshambler...      320        en   \n",
              "freq                                                   22       67     14255   \n",
              "\n",
              "                                                 track.13 track.14  \\\n",
              "count                                              106488   106575   \n",
              "unique                                                114    15340   \n",
              "top     Attribution-Noncommercial-Share Alike 3.0 Unit...       97   \n",
              "freq                                                19250      110   \n",
              "\n",
              "             track.15 track.16              track.17  track.18  track.19  \n",
              "count             312   106575                  1264    106575    106574  \n",
              "unique             67      331                   136      2452     94987  \n",
              "top     Apache Tomcat        1  Victrola Dog (ASCAP)        []  Untitled  \n",
              "freq               44    10459                   465     83078       298  \n",
              "\n",
              "[4 rows x 53 columns]"
            ]
          },
          "metadata": {
            "tags": []
          },
          "execution_count": 4
        }
      ]
    },
    {
      "metadata": {
        "id": "_qzn-IjIM1Pw",
        "colab_type": "code",
        "colab": {
          "base_uri": "https://localhost:8080/",
          "height": 556
        },
        "outputId": "5e4874d3-a572-41f1-df11-9d341913e394"
      },
      "cell_type": "code",
      "source": [
        "pd.set_option('display.max_columns', 55)  # enough columns\n",
        "tracks.head()"
      ],
      "execution_count": 5,
      "outputs": [
        {
          "output_type": "execute_result",
          "data": {
            "text/html": [
              "<div>\n",
              "<style scoped>\n",
              "    .dataframe tbody tr th:only-of-type {\n",
              "        vertical-align: middle;\n",
              "    }\n",
              "\n",
              "    .dataframe tbody tr th {\n",
              "        vertical-align: top;\n",
              "    }\n",
              "\n",
              "    .dataframe thead th {\n",
              "        text-align: right;\n",
              "    }\n",
              "</style>\n",
              "<table border=\"1\" class=\"dataframe\">\n",
              "  <thead>\n",
              "    <tr style=\"text-align: right;\">\n",
              "      <th></th>\n",
              "      <th>Unnamed: 0</th>\n",
              "      <th>album</th>\n",
              "      <th>album.1</th>\n",
              "      <th>album.2</th>\n",
              "      <th>album.3</th>\n",
              "      <th>album.4</th>\n",
              "      <th>album.5</th>\n",
              "      <th>album.6</th>\n",
              "      <th>album.7</th>\n",
              "      <th>album.8</th>\n",
              "      <th>album.9</th>\n",
              "      <th>album.10</th>\n",
              "      <th>album.11</th>\n",
              "      <th>album.12</th>\n",
              "      <th>artist</th>\n",
              "      <th>artist.1</th>\n",
              "      <th>artist.2</th>\n",
              "      <th>artist.3</th>\n",
              "      <th>artist.4</th>\n",
              "      <th>artist.5</th>\n",
              "      <th>artist.6</th>\n",
              "      <th>artist.7</th>\n",
              "      <th>artist.8</th>\n",
              "      <th>artist.9</th>\n",
              "      <th>artist.10</th>\n",
              "      <th>artist.11</th>\n",
              "      <th>artist.12</th>\n",
              "      <th>artist.13</th>\n",
              "      <th>artist.14</th>\n",
              "      <th>artist.15</th>\n",
              "      <th>artist.16</th>\n",
              "      <th>set</th>\n",
              "      <th>set.1</th>\n",
              "      <th>track</th>\n",
              "      <th>track.1</th>\n",
              "      <th>track.2</th>\n",
              "      <th>track.3</th>\n",
              "      <th>track.4</th>\n",
              "      <th>track.5</th>\n",
              "      <th>track.6</th>\n",
              "      <th>track.7</th>\n",
              "      <th>track.8</th>\n",
              "      <th>track.9</th>\n",
              "      <th>track.10</th>\n",
              "      <th>track.11</th>\n",
              "      <th>track.12</th>\n",
              "      <th>track.13</th>\n",
              "      <th>track.14</th>\n",
              "      <th>track.15</th>\n",
              "      <th>track.16</th>\n",
              "      <th>track.17</th>\n",
              "      <th>track.18</th>\n",
              "      <th>track.19</th>\n",
              "    </tr>\n",
              "  </thead>\n",
              "  <tbody>\n",
              "    <tr>\n",
              "      <th>0</th>\n",
              "      <td>NaN</td>\n",
              "      <td>comments</td>\n",
              "      <td>date_created</td>\n",
              "      <td>date_released</td>\n",
              "      <td>engineer</td>\n",
              "      <td>favorites</td>\n",
              "      <td>id</td>\n",
              "      <td>information</td>\n",
              "      <td>listens</td>\n",
              "      <td>producer</td>\n",
              "      <td>tags</td>\n",
              "      <td>title</td>\n",
              "      <td>tracks</td>\n",
              "      <td>type</td>\n",
              "      <td>active_year_begin</td>\n",
              "      <td>active_year_end</td>\n",
              "      <td>associated_labels</td>\n",
              "      <td>bio</td>\n",
              "      <td>comments</td>\n",
              "      <td>date_created</td>\n",
              "      <td>favorites</td>\n",
              "      <td>id</td>\n",
              "      <td>latitude</td>\n",
              "      <td>location</td>\n",
              "      <td>longitude</td>\n",
              "      <td>members</td>\n",
              "      <td>name</td>\n",
              "      <td>related_projects</td>\n",
              "      <td>tags</td>\n",
              "      <td>website</td>\n",
              "      <td>wikipedia_page</td>\n",
              "      <td>split</td>\n",
              "      <td>subset</td>\n",
              "      <td>bit_rate</td>\n",
              "      <td>comments</td>\n",
              "      <td>composer</td>\n",
              "      <td>date_created</td>\n",
              "      <td>date_recorded</td>\n",
              "      <td>duration</td>\n",
              "      <td>favorites</td>\n",
              "      <td>genre_top</td>\n",
              "      <td>genres</td>\n",
              "      <td>genres_all</td>\n",
              "      <td>information</td>\n",
              "      <td>interest</td>\n",
              "      <td>language_code</td>\n",
              "      <td>license</td>\n",
              "      <td>listens</td>\n",
              "      <td>lyricist</td>\n",
              "      <td>number</td>\n",
              "      <td>publisher</td>\n",
              "      <td>tags</td>\n",
              "      <td>title</td>\n",
              "    </tr>\n",
              "    <tr>\n",
              "      <th>1</th>\n",
              "      <td>track_id</td>\n",
              "      <td>NaN</td>\n",
              "      <td>NaN</td>\n",
              "      <td>NaN</td>\n",
              "      <td>NaN</td>\n",
              "      <td>NaN</td>\n",
              "      <td>NaN</td>\n",
              "      <td>NaN</td>\n",
              "      <td>NaN</td>\n",
              "      <td>NaN</td>\n",
              "      <td>NaN</td>\n",
              "      <td>NaN</td>\n",
              "      <td>NaN</td>\n",
              "      <td>NaN</td>\n",
              "      <td>NaN</td>\n",
              "      <td>NaN</td>\n",
              "      <td>NaN</td>\n",
              "      <td>NaN</td>\n",
              "      <td>NaN</td>\n",
              "      <td>NaN</td>\n",
              "      <td>NaN</td>\n",
              "      <td>NaN</td>\n",
              "      <td>NaN</td>\n",
              "      <td>NaN</td>\n",
              "      <td>NaN</td>\n",
              "      <td>NaN</td>\n",
              "      <td>NaN</td>\n",
              "      <td>NaN</td>\n",
              "      <td>NaN</td>\n",
              "      <td>NaN</td>\n",
              "      <td>NaN</td>\n",
              "      <td>NaN</td>\n",
              "      <td>NaN</td>\n",
              "      <td>NaN</td>\n",
              "      <td>NaN</td>\n",
              "      <td>NaN</td>\n",
              "      <td>NaN</td>\n",
              "      <td>NaN</td>\n",
              "      <td>NaN</td>\n",
              "      <td>NaN</td>\n",
              "      <td>NaN</td>\n",
              "      <td>NaN</td>\n",
              "      <td>NaN</td>\n",
              "      <td>NaN</td>\n",
              "      <td>NaN</td>\n",
              "      <td>NaN</td>\n",
              "      <td>NaN</td>\n",
              "      <td>NaN</td>\n",
              "      <td>NaN</td>\n",
              "      <td>NaN</td>\n",
              "      <td>NaN</td>\n",
              "      <td>NaN</td>\n",
              "      <td>NaN</td>\n",
              "    </tr>\n",
              "    <tr>\n",
              "      <th>2</th>\n",
              "      <td>2</td>\n",
              "      <td>0</td>\n",
              "      <td>2008-11-26 01:44:45</td>\n",
              "      <td>2009-01-05 00:00:00</td>\n",
              "      <td>NaN</td>\n",
              "      <td>4</td>\n",
              "      <td>1</td>\n",
              "      <td>&lt;p&gt;&lt;/p&gt;</td>\n",
              "      <td>6073</td>\n",
              "      <td>NaN</td>\n",
              "      <td>[]</td>\n",
              "      <td>AWOL - A Way Of Life</td>\n",
              "      <td>7</td>\n",
              "      <td>Album</td>\n",
              "      <td>2006-01-01 00:00:00</td>\n",
              "      <td>NaN</td>\n",
              "      <td>NaN</td>\n",
              "      <td>&lt;p&gt;A Way Of Life, A Collective of Hip-Hop from...</td>\n",
              "      <td>0</td>\n",
              "      <td>2008-11-26 01:42:32</td>\n",
              "      <td>9</td>\n",
              "      <td>1</td>\n",
              "      <td>40.0583238</td>\n",
              "      <td>New Jersey</td>\n",
              "      <td>-74.4056612</td>\n",
              "      <td>Sajje Morocco,Brownbum,ZawidaGod,Custodian of ...</td>\n",
              "      <td>AWOL</td>\n",
              "      <td>The list of past projects is 2 long but every1...</td>\n",
              "      <td>['awol']</td>\n",
              "      <td>http://www.AzillionRecords.blogspot.com</td>\n",
              "      <td>NaN</td>\n",
              "      <td>training</td>\n",
              "      <td>small</td>\n",
              "      <td>256000</td>\n",
              "      <td>0</td>\n",
              "      <td>NaN</td>\n",
              "      <td>2008-11-26 01:48:12</td>\n",
              "      <td>2008-11-26 00:00:00</td>\n",
              "      <td>168</td>\n",
              "      <td>2</td>\n",
              "      <td>Hip-Hop</td>\n",
              "      <td>[21]</td>\n",
              "      <td>[21]</td>\n",
              "      <td>NaN</td>\n",
              "      <td>4656</td>\n",
              "      <td>en</td>\n",
              "      <td>Attribution-NonCommercial-ShareAlike 3.0 Inter...</td>\n",
              "      <td>1293</td>\n",
              "      <td>NaN</td>\n",
              "      <td>3</td>\n",
              "      <td>NaN</td>\n",
              "      <td>[]</td>\n",
              "      <td>Food</td>\n",
              "    </tr>\n",
              "    <tr>\n",
              "      <th>3</th>\n",
              "      <td>3</td>\n",
              "      <td>0</td>\n",
              "      <td>2008-11-26 01:44:45</td>\n",
              "      <td>2009-01-05 00:00:00</td>\n",
              "      <td>NaN</td>\n",
              "      <td>4</td>\n",
              "      <td>1</td>\n",
              "      <td>&lt;p&gt;&lt;/p&gt;</td>\n",
              "      <td>6073</td>\n",
              "      <td>NaN</td>\n",
              "      <td>[]</td>\n",
              "      <td>AWOL - A Way Of Life</td>\n",
              "      <td>7</td>\n",
              "      <td>Album</td>\n",
              "      <td>2006-01-01 00:00:00</td>\n",
              "      <td>NaN</td>\n",
              "      <td>NaN</td>\n",
              "      <td>&lt;p&gt;A Way Of Life, A Collective of Hip-Hop from...</td>\n",
              "      <td>0</td>\n",
              "      <td>2008-11-26 01:42:32</td>\n",
              "      <td>9</td>\n",
              "      <td>1</td>\n",
              "      <td>40.0583238</td>\n",
              "      <td>New Jersey</td>\n",
              "      <td>-74.4056612</td>\n",
              "      <td>Sajje Morocco,Brownbum,ZawidaGod,Custodian of ...</td>\n",
              "      <td>AWOL</td>\n",
              "      <td>The list of past projects is 2 long but every1...</td>\n",
              "      <td>['awol']</td>\n",
              "      <td>http://www.AzillionRecords.blogspot.com</td>\n",
              "      <td>NaN</td>\n",
              "      <td>training</td>\n",
              "      <td>medium</td>\n",
              "      <td>256000</td>\n",
              "      <td>0</td>\n",
              "      <td>NaN</td>\n",
              "      <td>2008-11-26 01:48:14</td>\n",
              "      <td>2008-11-26 00:00:00</td>\n",
              "      <td>237</td>\n",
              "      <td>1</td>\n",
              "      <td>Hip-Hop</td>\n",
              "      <td>[21]</td>\n",
              "      <td>[21]</td>\n",
              "      <td>NaN</td>\n",
              "      <td>1470</td>\n",
              "      <td>en</td>\n",
              "      <td>Attribution-NonCommercial-ShareAlike 3.0 Inter...</td>\n",
              "      <td>514</td>\n",
              "      <td>NaN</td>\n",
              "      <td>4</td>\n",
              "      <td>NaN</td>\n",
              "      <td>[]</td>\n",
              "      <td>Electric Ave</td>\n",
              "    </tr>\n",
              "    <tr>\n",
              "      <th>4</th>\n",
              "      <td>5</td>\n",
              "      <td>0</td>\n",
              "      <td>2008-11-26 01:44:45</td>\n",
              "      <td>2009-01-05 00:00:00</td>\n",
              "      <td>NaN</td>\n",
              "      <td>4</td>\n",
              "      <td>1</td>\n",
              "      <td>&lt;p&gt;&lt;/p&gt;</td>\n",
              "      <td>6073</td>\n",
              "      <td>NaN</td>\n",
              "      <td>[]</td>\n",
              "      <td>AWOL - A Way Of Life</td>\n",
              "      <td>7</td>\n",
              "      <td>Album</td>\n",
              "      <td>2006-01-01 00:00:00</td>\n",
              "      <td>NaN</td>\n",
              "      <td>NaN</td>\n",
              "      <td>&lt;p&gt;A Way Of Life, A Collective of Hip-Hop from...</td>\n",
              "      <td>0</td>\n",
              "      <td>2008-11-26 01:42:32</td>\n",
              "      <td>9</td>\n",
              "      <td>1</td>\n",
              "      <td>40.0583238</td>\n",
              "      <td>New Jersey</td>\n",
              "      <td>-74.4056612</td>\n",
              "      <td>Sajje Morocco,Brownbum,ZawidaGod,Custodian of ...</td>\n",
              "      <td>AWOL</td>\n",
              "      <td>The list of past projects is 2 long but every1...</td>\n",
              "      <td>['awol']</td>\n",
              "      <td>http://www.AzillionRecords.blogspot.com</td>\n",
              "      <td>NaN</td>\n",
              "      <td>training</td>\n",
              "      <td>small</td>\n",
              "      <td>256000</td>\n",
              "      <td>0</td>\n",
              "      <td>NaN</td>\n",
              "      <td>2008-11-26 01:48:20</td>\n",
              "      <td>2008-11-26 00:00:00</td>\n",
              "      <td>206</td>\n",
              "      <td>6</td>\n",
              "      <td>Hip-Hop</td>\n",
              "      <td>[21]</td>\n",
              "      <td>[21]</td>\n",
              "      <td>NaN</td>\n",
              "      <td>1933</td>\n",
              "      <td>en</td>\n",
              "      <td>Attribution-NonCommercial-ShareAlike 3.0 Inter...</td>\n",
              "      <td>1151</td>\n",
              "      <td>NaN</td>\n",
              "      <td>6</td>\n",
              "      <td>NaN</td>\n",
              "      <td>[]</td>\n",
              "      <td>This World</td>\n",
              "    </tr>\n",
              "  </tbody>\n",
              "</table>\n",
              "</div>"
            ],
            "text/plain": [
              "  Unnamed: 0     album              album.1              album.2   album.3  \\\n",
              "0        NaN  comments         date_created        date_released  engineer   \n",
              "1   track_id       NaN                  NaN                  NaN       NaN   \n",
              "2          2         0  2008-11-26 01:44:45  2009-01-05 00:00:00       NaN   \n",
              "3          3         0  2008-11-26 01:44:45  2009-01-05 00:00:00       NaN   \n",
              "4          5         0  2008-11-26 01:44:45  2009-01-05 00:00:00       NaN   \n",
              "\n",
              "     album.4 album.5      album.6  album.7   album.8 album.9  \\\n",
              "0  favorites      id  information  listens  producer    tags   \n",
              "1        NaN     NaN          NaN      NaN       NaN     NaN   \n",
              "2          4       1      <p></p>     6073       NaN      []   \n",
              "3          4       1      <p></p>     6073       NaN      []   \n",
              "4          4       1      <p></p>     6073       NaN      []   \n",
              "\n",
              "               album.10 album.11 album.12               artist  \\\n",
              "0                 title   tracks     type    active_year_begin   \n",
              "1                   NaN      NaN      NaN                  NaN   \n",
              "2  AWOL - A Way Of Life        7    Album  2006-01-01 00:00:00   \n",
              "3  AWOL - A Way Of Life        7    Album  2006-01-01 00:00:00   \n",
              "4  AWOL - A Way Of Life        7    Album  2006-01-01 00:00:00   \n",
              "\n",
              "          artist.1           artist.2  \\\n",
              "0  active_year_end  associated_labels   \n",
              "1              NaN                NaN   \n",
              "2              NaN                NaN   \n",
              "3              NaN                NaN   \n",
              "4              NaN                NaN   \n",
              "\n",
              "                                            artist.3  artist.4  \\\n",
              "0                                                bio  comments   \n",
              "1                                                NaN       NaN   \n",
              "2  <p>A Way Of Life, A Collective of Hip-Hop from...         0   \n",
              "3  <p>A Way Of Life, A Collective of Hip-Hop from...         0   \n",
              "4  <p>A Way Of Life, A Collective of Hip-Hop from...         0   \n",
              "\n",
              "              artist.5   artist.6 artist.7    artist.8    artist.9  \\\n",
              "0         date_created  favorites       id    latitude    location   \n",
              "1                  NaN        NaN      NaN         NaN         NaN   \n",
              "2  2008-11-26 01:42:32          9        1  40.0583238  New Jersey   \n",
              "3  2008-11-26 01:42:32          9        1  40.0583238  New Jersey   \n",
              "4  2008-11-26 01:42:32          9        1  40.0583238  New Jersey   \n",
              "\n",
              "     artist.10                                          artist.11 artist.12  \\\n",
              "0    longitude                                            members      name   \n",
              "1          NaN                                                NaN       NaN   \n",
              "2  -74.4056612  Sajje Morocco,Brownbum,ZawidaGod,Custodian of ...      AWOL   \n",
              "3  -74.4056612  Sajje Morocco,Brownbum,ZawidaGod,Custodian of ...      AWOL   \n",
              "4  -74.4056612  Sajje Morocco,Brownbum,ZawidaGod,Custodian of ...      AWOL   \n",
              "\n",
              "                                           artist.13 artist.14  \\\n",
              "0                                   related_projects      tags   \n",
              "1                                                NaN       NaN   \n",
              "2  The list of past projects is 2 long but every1...  ['awol']   \n",
              "3  The list of past projects is 2 long but every1...  ['awol']   \n",
              "4  The list of past projects is 2 long but every1...  ['awol']   \n",
              "\n",
              "                                 artist.15       artist.16       set   set.1  \\\n",
              "0                                  website  wikipedia_page     split  subset   \n",
              "1                                      NaN             NaN       NaN     NaN   \n",
              "2  http://www.AzillionRecords.blogspot.com             NaN  training   small   \n",
              "3  http://www.AzillionRecords.blogspot.com             NaN  training  medium   \n",
              "4  http://www.AzillionRecords.blogspot.com             NaN  training   small   \n",
              "\n",
              "      track   track.1   track.2              track.3              track.4  \\\n",
              "0  bit_rate  comments  composer         date_created        date_recorded   \n",
              "1       NaN       NaN       NaN                  NaN                  NaN   \n",
              "2    256000         0       NaN  2008-11-26 01:48:12  2008-11-26 00:00:00   \n",
              "3    256000         0       NaN  2008-11-26 01:48:14  2008-11-26 00:00:00   \n",
              "4    256000         0       NaN  2008-11-26 01:48:20  2008-11-26 00:00:00   \n",
              "\n",
              "    track.5    track.6    track.7 track.8     track.9     track.10  track.11  \\\n",
              "0  duration  favorites  genre_top  genres  genres_all  information  interest   \n",
              "1       NaN        NaN        NaN     NaN         NaN          NaN       NaN   \n",
              "2       168          2    Hip-Hop    [21]        [21]          NaN      4656   \n",
              "3       237          1    Hip-Hop    [21]        [21]          NaN      1470   \n",
              "4       206          6    Hip-Hop    [21]        [21]          NaN      1933   \n",
              "\n",
              "        track.12                                           track.13 track.14  \\\n",
              "0  language_code                                            license  listens   \n",
              "1            NaN                                                NaN      NaN   \n",
              "2             en  Attribution-NonCommercial-ShareAlike 3.0 Inter...     1293   \n",
              "3             en  Attribution-NonCommercial-ShareAlike 3.0 Inter...      514   \n",
              "4             en  Attribution-NonCommercial-ShareAlike 3.0 Inter...     1151   \n",
              "\n",
              "   track.15 track.16   track.17 track.18      track.19  \n",
              "0  lyricist   number  publisher     tags         title  \n",
              "1       NaN      NaN        NaN      NaN           NaN  \n",
              "2       NaN        3        NaN       []          Food  \n",
              "3       NaN        4        NaN       []  Electric Ave  \n",
              "4       NaN        6        NaN       []    This World  "
            ]
          },
          "metadata": {
            "tags": []
          },
          "execution_count": 5
        }
      ]
    },
    {
      "metadata": {
        "id": "5DvMPiM8MZeY",
        "colab_type": "code",
        "colab": {
          "base_uri": "https://localhost:8080/",
          "height": 34
        },
        "outputId": "b11ed0df-0c74-4b08-ea0a-07fa55014dc2"
      },
      "cell_type": "code",
      "source": [
        "tracks.shape"
      ],
      "execution_count": 6,
      "outputs": [
        {
          "output_type": "execute_result",
          "data": {
            "text/plain": [
              "(106576, 53)"
            ]
          },
          "metadata": {
            "tags": []
          },
          "execution_count": 6
        }
      ]
    },
    {
      "metadata": {
        "id": "kQUVlUKQMPPW",
        "colab_type": "text"
      },
      "cell_type": "markdown",
      "source": [
        "This is the biggest data you've played with so far, and while it does generally fit in Colab, it can take awhile to run. That's part of the challenge!\n",
        "\n",
        "Your tasks:\n",
        "- Clean up the variable names in the dataframe\n",
        "- Use logistic regression to fit a model predicting (primary/top) genre\n",
        "- Inspect, iterate, and improve your model\n",
        "- Answer the following questions (written, ~paragraph each):\n",
        "  - What are the best predictors of genre?\n",
        "  - What information isn't very useful for predicting genre?\n",
        "  - What surprised you the most about your results?\n",
        "\n",
        "*Important caveats*:\n",
        "- This is going to be difficult data to work with - don't let the perfect be the enemy of the good!\n",
        "- Be creative in cleaning it up - if the best way you know how to do it is download it locally and edit as a spreadsheet, that's OK!\n",
        "- If the data size becomes problematic, consider sampling/subsetting\n",
        "- You do not need perfect or complete results - just something plausible that runs, and that supports the reasoning in your written answers\n",
        "\n",
        "If you find that fitting a model to classify *all* genres isn't very good, it's totally OK to limit to the most frequent genres, or perhaps trying to combine or cluster genres as a preprocessing step. Even then, there will be limits to how good a model can be with just this metadata - if you really want to train an effective genre classifier, you'll have to involve the other data (see stretch goals).\n",
        "\n",
        "This is real data - there is no \"one correct answer\", so you can take this in a variety of directions. Just make sure to support your findings, and feel free to share them as well! This is meant to be practice for dealing with other \"messy\" data, a common task in data science."
      ]
    },
    {
      "metadata": {
        "id": "wlI5OXfSag9C",
        "colab_type": "text"
      },
      "cell_type": "markdown",
      "source": [
        "### Resources and stretch goals\n",
        "\n",
        "- Check out the other .csv files from the FMA dataset, and see if you can join them or otherwise fit interesting models with them\n",
        "- [Logistic regression from scratch in numpy](https://blog.goodaudience.com/logistic-regression-from-scratch-in-numpy-5841c09e425f) - if you want to dig in a bit more to both the code and math (also takes a gradient descent approach, introducing the logistic loss function)\n",
        "- Create a visualization to show predictions of your model - ideally show a confidence interval based on error!\n",
        "- Check out and compare classification models from scikit-learn, such as [SVM](https://scikit-learn.org/stable/modules/svm.html#classification), [decision trees](https://scikit-learn.org/stable/modules/tree.html#classification), and [naive Bayes](https://scikit-learn.org/stable/modules/naive_bayes.html). The underlying math will vary significantly, but the API (how you write the code) and interpretation will actually be fairly similar.\n",
        "- Sign up for [Kaggle](https://kaggle.com), and find a competition to try logistic regression with\n",
        "- (Not logistic regression related) If you enjoyed the assignment, you may want to read up on [music informatics](https://en.wikipedia.org/wiki/Music_informatics), which is how those audio features were actually calculated. The FMA includes the actual raw audio, so (while this is more of a longterm project than a stretch goal, and won't fit in Colab) if you'd like you can check those out and see what sort of deeper analysis you can do."
      ]
    },
    {
      "metadata": {
        "id": "Y2AIE6Spqp1T",
        "colab_type": "code",
        "colab": {
          "base_uri": "https://localhost:8080/",
          "height": 1262
        },
        "outputId": "a789f287-2429-47e3-df6a-98158a3af6ab"
      },
      "cell_type": "code",
      "source": [
        "real_feats_list = [tracks[tracks.columns[k]].iloc[0] for k in range(len(tracks.columns))]\n",
        "\n",
        "# for k in range(len(tracks.columns)): \n",
        "#   print(k, tracks[tracks.columns[k]].iloc[0])\n",
        "\n",
        "tracks.isna().sum()\n",
        "\n",
        "real_feats_list\n",
        "\n",
        "tracks.columns\n",
        "\n",
        "def up_to_prd(s): \n",
        "  if len(s)==0: return ''\n",
        "  elif s[0]=='.': return ''\n",
        "  else: return s[0] + up_to_prd(s[1:])\n",
        "\n",
        "prefices = ['track_id'] + [up_to_prd(feat) for feat in tracks.columns[1:]]\n",
        "\n",
        "ind_pairs = list(zip(prefices, real_feats_list))\n",
        "\n",
        "index = pd.MultiIndex.from_tuples(ind_pairs, names=['first', 'second'])\n",
        "\n",
        "df = (tracks\n",
        "      .drop([0,1], axis=0)\n",
        "      .T\n",
        "      .set_index(index)\n",
        "      .T)\n",
        "\n",
        "df.head()\n",
        "\n",
        "#for k in range(2,df.shape[0]): \n",
        "#  assert '<' in df.album.information.iloc[k]\n",
        "\n",
        "#list(range(2,df.shape[0]))\n",
        "\n",
        "#df['<' not in df.album.information.values].head()"
      ],
      "execution_count": 10,
      "outputs": [
        {
          "output_type": "error",
          "ename": "KeyError",
          "evalue": "ignored",
          "traceback": [
            "\u001b[0;31m---------------------------------------------------------------------------\u001b[0m",
            "\u001b[0;31mKeyError\u001b[0m                                  Traceback (most recent call last)",
            "\u001b[0;32m/usr/local/lib/python3.6/dist-packages/pandas/core/indexes/base.py\u001b[0m in \u001b[0;36mget_loc\u001b[0;34m(self, key, method, tolerance)\u001b[0m\n\u001b[1;32m   2524\u001b[0m             \u001b[0;32mtry\u001b[0m\u001b[0;34m:\u001b[0m\u001b[0;34m\u001b[0m\u001b[0;34m\u001b[0m\u001b[0m\n\u001b[0;32m-> 2525\u001b[0;31m                 \u001b[0;32mreturn\u001b[0m \u001b[0mself\u001b[0m\u001b[0;34m.\u001b[0m\u001b[0m_engine\u001b[0m\u001b[0;34m.\u001b[0m\u001b[0mget_loc\u001b[0m\u001b[0;34m(\u001b[0m\u001b[0mkey\u001b[0m\u001b[0;34m)\u001b[0m\u001b[0;34m\u001b[0m\u001b[0;34m\u001b[0m\u001b[0m\n\u001b[0m\u001b[1;32m   2526\u001b[0m             \u001b[0;32mexcept\u001b[0m \u001b[0mKeyError\u001b[0m\u001b[0;34m:\u001b[0m\u001b[0;34m\u001b[0m\u001b[0;34m\u001b[0m\u001b[0m\n",
            "\u001b[0;32mpandas/_libs/index.pyx\u001b[0m in \u001b[0;36mpandas._libs.index.IndexEngine.get_loc\u001b[0;34m()\u001b[0m\n",
            "\u001b[0;32mpandas/_libs/index.pyx\u001b[0m in \u001b[0;36mpandas._libs.index.IndexEngine.get_loc\u001b[0;34m()\u001b[0m\n",
            "\u001b[0;32mpandas/_libs/hashtable_class_helper.pxi\u001b[0m in \u001b[0;36mpandas._libs.hashtable.PyObjectHashTable.get_item\u001b[0;34m()\u001b[0m\n",
            "\u001b[0;32mpandas/_libs/hashtable_class_helper.pxi\u001b[0m in \u001b[0;36mpandas._libs.hashtable.PyObjectHashTable.get_item\u001b[0;34m()\u001b[0m\n",
            "\u001b[0;31mKeyError\u001b[0m: True",
            "\nDuring handling of the above exception, another exception occurred:\n",
            "\u001b[0;31mKeyError\u001b[0m                                  Traceback (most recent call last)",
            "\u001b[0;32m<ipython-input-10-21c0512430c8>\u001b[0m in \u001b[0;36m<module>\u001b[0;34m()\u001b[0m\n\u001b[1;32m     34\u001b[0m \u001b[0;31m#list(range(2,df.shape[0]))\u001b[0m\u001b[0;34m\u001b[0m\u001b[0;34m\u001b[0m\u001b[0;34m\u001b[0m\u001b[0m\n\u001b[1;32m     35\u001b[0m \u001b[0;34m\u001b[0m\u001b[0m\n\u001b[0;32m---> 36\u001b[0;31m \u001b[0mdf\u001b[0m\u001b[0;34m[\u001b[0m\u001b[0;34m'<'\u001b[0m \u001b[0;32mnot\u001b[0m \u001b[0;32min\u001b[0m \u001b[0mdf\u001b[0m\u001b[0;34m.\u001b[0m\u001b[0malbum\u001b[0m\u001b[0;34m.\u001b[0m\u001b[0minformation\u001b[0m\u001b[0;34m.\u001b[0m\u001b[0mvalues\u001b[0m\u001b[0;34m]\u001b[0m\u001b[0;34m.\u001b[0m\u001b[0mhead\u001b[0m\u001b[0;34m(\u001b[0m\u001b[0;34m)\u001b[0m\u001b[0;34m\u001b[0m\u001b[0;34m\u001b[0m\u001b[0m\n\u001b[0m",
            "\u001b[0;32m/usr/local/lib/python3.6/dist-packages/pandas/core/frame.py\u001b[0m in \u001b[0;36m__getitem__\u001b[0;34m(self, key)\u001b[0m\n\u001b[1;32m   2135\u001b[0m             \u001b[0;32mreturn\u001b[0m \u001b[0mself\u001b[0m\u001b[0;34m.\u001b[0m\u001b[0m_getitem_frame\u001b[0m\u001b[0;34m(\u001b[0m\u001b[0mkey\u001b[0m\u001b[0;34m)\u001b[0m\u001b[0;34m\u001b[0m\u001b[0;34m\u001b[0m\u001b[0m\n\u001b[1;32m   2136\u001b[0m         \u001b[0;32melif\u001b[0m \u001b[0mis_mi_columns\u001b[0m\u001b[0;34m:\u001b[0m\u001b[0;34m\u001b[0m\u001b[0;34m\u001b[0m\u001b[0m\n\u001b[0;32m-> 2137\u001b[0;31m             \u001b[0;32mreturn\u001b[0m \u001b[0mself\u001b[0m\u001b[0;34m.\u001b[0m\u001b[0m_getitem_multilevel\u001b[0m\u001b[0;34m(\u001b[0m\u001b[0mkey\u001b[0m\u001b[0;34m)\u001b[0m\u001b[0;34m\u001b[0m\u001b[0;34m\u001b[0m\u001b[0m\n\u001b[0m\u001b[1;32m   2138\u001b[0m         \u001b[0;32melse\u001b[0m\u001b[0;34m:\u001b[0m\u001b[0;34m\u001b[0m\u001b[0;34m\u001b[0m\u001b[0m\n\u001b[1;32m   2139\u001b[0m             \u001b[0;32mreturn\u001b[0m \u001b[0mself\u001b[0m\u001b[0;34m.\u001b[0m\u001b[0m_getitem_column\u001b[0m\u001b[0;34m(\u001b[0m\u001b[0mkey\u001b[0m\u001b[0;34m)\u001b[0m\u001b[0;34m\u001b[0m\u001b[0;34m\u001b[0m\u001b[0m\n",
            "\u001b[0;32m/usr/local/lib/python3.6/dist-packages/pandas/core/frame.py\u001b[0m in \u001b[0;36m_getitem_multilevel\u001b[0;34m(self, key)\u001b[0m\n\u001b[1;32m   2179\u001b[0m \u001b[0;34m\u001b[0m\u001b[0m\n\u001b[1;32m   2180\u001b[0m     \u001b[0;32mdef\u001b[0m \u001b[0m_getitem_multilevel\u001b[0m\u001b[0;34m(\u001b[0m\u001b[0mself\u001b[0m\u001b[0;34m,\u001b[0m \u001b[0mkey\u001b[0m\u001b[0;34m)\u001b[0m\u001b[0;34m:\u001b[0m\u001b[0;34m\u001b[0m\u001b[0;34m\u001b[0m\u001b[0m\n\u001b[0;32m-> 2181\u001b[0;31m         \u001b[0mloc\u001b[0m \u001b[0;34m=\u001b[0m \u001b[0mself\u001b[0m\u001b[0;34m.\u001b[0m\u001b[0mcolumns\u001b[0m\u001b[0;34m.\u001b[0m\u001b[0mget_loc\u001b[0m\u001b[0;34m(\u001b[0m\u001b[0mkey\u001b[0m\u001b[0;34m)\u001b[0m\u001b[0;34m\u001b[0m\u001b[0;34m\u001b[0m\u001b[0m\n\u001b[0m\u001b[1;32m   2182\u001b[0m         \u001b[0;32mif\u001b[0m \u001b[0misinstance\u001b[0m\u001b[0;34m(\u001b[0m\u001b[0mloc\u001b[0m\u001b[0;34m,\u001b[0m \u001b[0;34m(\u001b[0m\u001b[0mslice\u001b[0m\u001b[0;34m,\u001b[0m \u001b[0mSeries\u001b[0m\u001b[0;34m,\u001b[0m \u001b[0mnp\u001b[0m\u001b[0;34m.\u001b[0m\u001b[0mndarray\u001b[0m\u001b[0;34m,\u001b[0m \u001b[0mIndex\u001b[0m\u001b[0;34m)\u001b[0m\u001b[0;34m)\u001b[0m\u001b[0;34m:\u001b[0m\u001b[0;34m\u001b[0m\u001b[0;34m\u001b[0m\u001b[0m\n\u001b[1;32m   2183\u001b[0m             \u001b[0mnew_columns\u001b[0m \u001b[0;34m=\u001b[0m \u001b[0mself\u001b[0m\u001b[0;34m.\u001b[0m\u001b[0mcolumns\u001b[0m\u001b[0;34m[\u001b[0m\u001b[0mloc\u001b[0m\u001b[0;34m]\u001b[0m\u001b[0;34m\u001b[0m\u001b[0;34m\u001b[0m\u001b[0m\n",
            "\u001b[0;32m/usr/local/lib/python3.6/dist-packages/pandas/core/indexes/multi.py\u001b[0m in \u001b[0;36mget_loc\u001b[0;34m(self, key, method)\u001b[0m\n\u001b[1;32m   2070\u001b[0m \u001b[0;34m\u001b[0m\u001b[0m\n\u001b[1;32m   2071\u001b[0m         \u001b[0;32mif\u001b[0m \u001b[0;32mnot\u001b[0m \u001b[0misinstance\u001b[0m\u001b[0;34m(\u001b[0m\u001b[0mkey\u001b[0m\u001b[0;34m,\u001b[0m \u001b[0mtuple\u001b[0m\u001b[0;34m)\u001b[0m\u001b[0;34m:\u001b[0m\u001b[0;34m\u001b[0m\u001b[0;34m\u001b[0m\u001b[0m\n\u001b[0;32m-> 2072\u001b[0;31m             \u001b[0mloc\u001b[0m \u001b[0;34m=\u001b[0m \u001b[0mself\u001b[0m\u001b[0;34m.\u001b[0m\u001b[0m_get_level_indexer\u001b[0m\u001b[0;34m(\u001b[0m\u001b[0mkey\u001b[0m\u001b[0;34m,\u001b[0m \u001b[0mlevel\u001b[0m\u001b[0;34m=\u001b[0m\u001b[0;36m0\u001b[0m\u001b[0;34m)\u001b[0m\u001b[0;34m\u001b[0m\u001b[0;34m\u001b[0m\u001b[0m\n\u001b[0m\u001b[1;32m   2073\u001b[0m             \u001b[0;32mreturn\u001b[0m \u001b[0m_maybe_to_slice\u001b[0m\u001b[0;34m(\u001b[0m\u001b[0mloc\u001b[0m\u001b[0;34m)\u001b[0m\u001b[0;34m\u001b[0m\u001b[0;34m\u001b[0m\u001b[0m\n\u001b[1;32m   2074\u001b[0m \u001b[0;34m\u001b[0m\u001b[0m\n",
            "\u001b[0;32m/usr/local/lib/python3.6/dist-packages/pandas/core/indexes/multi.py\u001b[0m in \u001b[0;36m_get_level_indexer\u001b[0;34m(self, key, level, indexer)\u001b[0m\n\u001b[1;32m   2360\u001b[0m         \u001b[0;32melse\u001b[0m\u001b[0;34m:\u001b[0m\u001b[0;34m\u001b[0m\u001b[0;34m\u001b[0m\u001b[0m\n\u001b[1;32m   2361\u001b[0m \u001b[0;34m\u001b[0m\u001b[0m\n\u001b[0;32m-> 2362\u001b[0;31m             \u001b[0mloc\u001b[0m \u001b[0;34m=\u001b[0m \u001b[0mlevel_index\u001b[0m\u001b[0;34m.\u001b[0m\u001b[0mget_loc\u001b[0m\u001b[0;34m(\u001b[0m\u001b[0mkey\u001b[0m\u001b[0;34m)\u001b[0m\u001b[0;34m\u001b[0m\u001b[0;34m\u001b[0m\u001b[0m\n\u001b[0m\u001b[1;32m   2363\u001b[0m             \u001b[0;32mif\u001b[0m \u001b[0misinstance\u001b[0m\u001b[0;34m(\u001b[0m\u001b[0mloc\u001b[0m\u001b[0;34m,\u001b[0m \u001b[0mslice\u001b[0m\u001b[0;34m)\u001b[0m\u001b[0;34m:\u001b[0m\u001b[0;34m\u001b[0m\u001b[0;34m\u001b[0m\u001b[0m\n\u001b[1;32m   2364\u001b[0m                 \u001b[0;32mreturn\u001b[0m \u001b[0mloc\u001b[0m\u001b[0;34m\u001b[0m\u001b[0;34m\u001b[0m\u001b[0m\n",
            "\u001b[0;32m/usr/local/lib/python3.6/dist-packages/pandas/core/indexes/base.py\u001b[0m in \u001b[0;36mget_loc\u001b[0;34m(self, key, method, tolerance)\u001b[0m\n\u001b[1;32m   2525\u001b[0m                 \u001b[0;32mreturn\u001b[0m \u001b[0mself\u001b[0m\u001b[0;34m.\u001b[0m\u001b[0m_engine\u001b[0m\u001b[0;34m.\u001b[0m\u001b[0mget_loc\u001b[0m\u001b[0;34m(\u001b[0m\u001b[0mkey\u001b[0m\u001b[0;34m)\u001b[0m\u001b[0;34m\u001b[0m\u001b[0;34m\u001b[0m\u001b[0m\n\u001b[1;32m   2526\u001b[0m             \u001b[0;32mexcept\u001b[0m \u001b[0mKeyError\u001b[0m\u001b[0;34m:\u001b[0m\u001b[0;34m\u001b[0m\u001b[0;34m\u001b[0m\u001b[0m\n\u001b[0;32m-> 2527\u001b[0;31m                 \u001b[0;32mreturn\u001b[0m \u001b[0mself\u001b[0m\u001b[0;34m.\u001b[0m\u001b[0m_engine\u001b[0m\u001b[0;34m.\u001b[0m\u001b[0mget_loc\u001b[0m\u001b[0;34m(\u001b[0m\u001b[0mself\u001b[0m\u001b[0;34m.\u001b[0m\u001b[0m_maybe_cast_indexer\u001b[0m\u001b[0;34m(\u001b[0m\u001b[0mkey\u001b[0m\u001b[0;34m)\u001b[0m\u001b[0;34m)\u001b[0m\u001b[0;34m\u001b[0m\u001b[0;34m\u001b[0m\u001b[0m\n\u001b[0m\u001b[1;32m   2528\u001b[0m \u001b[0;34m\u001b[0m\u001b[0m\n\u001b[1;32m   2529\u001b[0m         \u001b[0mindexer\u001b[0m \u001b[0;34m=\u001b[0m \u001b[0mself\u001b[0m\u001b[0;34m.\u001b[0m\u001b[0mget_indexer\u001b[0m\u001b[0;34m(\u001b[0m\u001b[0;34m[\u001b[0m\u001b[0mkey\u001b[0m\u001b[0;34m]\u001b[0m\u001b[0;34m,\u001b[0m \u001b[0mmethod\u001b[0m\u001b[0;34m=\u001b[0m\u001b[0mmethod\u001b[0m\u001b[0;34m,\u001b[0m \u001b[0mtolerance\u001b[0m\u001b[0;34m=\u001b[0m\u001b[0mtolerance\u001b[0m\u001b[0;34m)\u001b[0m\u001b[0;34m\u001b[0m\u001b[0;34m\u001b[0m\u001b[0m\n",
            "\u001b[0;32mpandas/_libs/index.pyx\u001b[0m in \u001b[0;36mpandas._libs.index.IndexEngine.get_loc\u001b[0;34m()\u001b[0m\n",
            "\u001b[0;32mpandas/_libs/index.pyx\u001b[0m in \u001b[0;36mpandas._libs.index.IndexEngine.get_loc\u001b[0;34m()\u001b[0m\n",
            "\u001b[0;32mpandas/_libs/hashtable_class_helper.pxi\u001b[0m in \u001b[0;36mpandas._libs.hashtable.PyObjectHashTable.get_item\u001b[0;34m()\u001b[0m\n",
            "\u001b[0;32mpandas/_libs/hashtable_class_helper.pxi\u001b[0m in \u001b[0;36mpandas._libs.hashtable.PyObjectHashTable.get_item\u001b[0;34m()\u001b[0m\n",
            "\u001b[0;31mKeyError\u001b[0m: True"
          ]
        }
      ]
    },
    {
      "metadata": {
        "id": "o6IDN20ESgb6",
        "colab_type": "code",
        "colab": {
          "base_uri": "https://localhost:8080/",
          "height": 89
        },
        "outputId": "2064204a-a216-4c02-81f7-b395d5187444"
      },
      "cell_type": "code",
      "source": [
        "# drop column that invovles html tags \n"
      ],
      "execution_count": 76,
      "outputs": [
        {
          "output_type": "execute_result",
          "data": {
            "text/plain": [
              "MultiIndex(levels=[['album', 'artist', 'set', 'track', 'track_id'], ['active_year_begin', 'active_year_end', 'associated_labels', 'bio', 'bit_rate', 'comments', 'composer', 'date_created', 'date_recorded', 'date_released', 'duration', 'engineer', 'favorites', 'genre_top', 'genres', 'genres_all', 'id', 'information', 'interest', 'language_code', 'latitude', 'license', 'listens', 'location', 'longitude', 'lyricist', 'members', 'name', 'number', 'producer', 'publisher', 'related_projects', 'split', 'subset', 'tags', 'title', 'tracks', 'type', 'website', 'wikipedia_page']],\n",
              "           labels=[[4, 0, 0, 0, 0, 0, 0, 0, 0, 0, 0, 0, 0, 0, 1, 1, 1, 1, 1, 1, 1, 1, 1, 1, 1, 1, 1, 1, 1, 1, 1, 2, 2, 3, 3, 3, 3, 3, 3, 3, 3, 3, 3, 3, 3, 3, 3, 3, 3, 3, 3, 3, 3], [-1, 5, 7, 9, 11, 12, 16, 17, 22, 29, 34, 35, 36, 37, 0, 1, 2, 3, 5, 7, 12, 16, 20, 23, 24, 26, 27, 31, 34, 38, 39, 32, 33, 4, 5, 6, 7, 8, 10, 12, 13, 14, 15, 17, 18, 19, 21, 22, 25, 28, 30, 34, 35]],\n",
              "           names=['first', 'second'])"
            ]
          },
          "metadata": {
            "tags": []
          },
          "execution_count": 76
        }
      ]
    },
    {
      "metadata": {
        "id": "ylUR9v7XqqCf",
        "colab_type": "code",
        "colab": {}
      },
      "cell_type": "code",
      "source": [
        "onehot_genres = pd.get_dummies(df['track']['genre_top'])\n",
        "\n",
        "oh_g_tuples = list(zip(['genre_top']*onehot_genres.shape[1], onehot_genres.columns))\n",
        "\n",
        "onehot_genres_multidx = onehot_genres.T.set_index(pd.MultiIndex.from_tuples(oh_g_tuples)).T\n",
        "#onehot_genres_multidx.head()\n",
        "\n",
        "#pd.concat([df, onehot_genres], axis=1).head()\n",
        "\n",
        "onehot_genres.dtypes\n",
        "\n",
        "oh_g_tuples\n",
        "\n",
        "onehot_genres_multidx.shape\n",
        "\n",
        "df_wgenres = pd.concat([df.drop('genre_top', axis=1, level='second'), onehot_genres_multidx], axis=1)\n"
      ],
      "execution_count": 0,
      "outputs": []
    },
    {
      "metadata": {
        "id": "Z9TSM3jXqqI6",
        "colab_type": "code",
        "colab": {
          "base_uri": "https://localhost:8080/",
          "height": 1198
        },
        "outputId": "c92c3bd1-4e93-4dc1-fe2c-d37fc021f83d"
      },
      "cell_type": "code",
      "source": [
        "df_wgenres.genre_top.head()\n",
        "\n",
        "\n",
        "df_wgenres.dtypes\n",
        "\n",
        "#df_wgenres.album.date_created.apply(lambda x: x.to_datetime())\n",
        "\n",
        "#pd.to_datetime(df_wgenres.album[['date_created', 'date_released']])\n",
        "\n",
        "\n",
        "def up_to_spc(s): \n",
        "  s = str(s)\n",
        "  if len(s)==0: return ''\n",
        "  elif s[0]==' ': return ''\n",
        "  else: return s[0] + up_to_spc(s[1:])\n",
        "\n",
        "import datetime as dt\n",
        "def todatetoord(feat): \n",
        "  df_wgenres.album[feat] = (pd.to_datetime(df_wgenres.album[feat]\n",
        "                                           .apply(up_to_spc))\n",
        "                            .apply(dt.datetime.toordinal))\n",
        "  pass\n",
        "  \n",
        "#df_wgenres.album.date_created = pd.to_datetime(df_wgenres.album.date_created.apply(up_to_spc))\n",
        "#df_wgenres.album.date_released = pd.to_datetime(df_wgenres.album.date_released)\n",
        "\n",
        "\n",
        "todatetoord('date_created')\n",
        "todatetoord('date_released')\n",
        "\n",
        "df_wgenres.dtypes\n"
      ],
      "execution_count": 47,
      "outputs": [
        {
          "output_type": "stream",
          "text": [
            "/usr/local/lib/python3.6/dist-packages/ipykernel_launcher.py:21: SettingWithCopyWarning: \n",
            "A value is trying to be set on a copy of a slice from a DataFrame.\n",
            "Try using .loc[row_indexer,col_indexer] = value instead\n",
            "\n",
            "See the caveats in the documentation: http://pandas.pydata.org/pandas-docs/stable/indexing.html#indexing-view-versus-copy\n"
          ],
          "name": "stderr"
        },
        {
          "output_type": "execute_result",
          "data": {
            "text/plain": [
              "first      second             \n",
              "track_id   NaN                    object\n",
              "album      comments               object\n",
              "           date_created           object\n",
              "           date_released          object\n",
              "           engineer               object\n",
              "           favorites              object\n",
              "           id                     object\n",
              "           information            object\n",
              "           listens                object\n",
              "           producer               object\n",
              "           tags                   object\n",
              "           title                  object\n",
              "           tracks                 object\n",
              "           type                   object\n",
              "artist     active_year_begin      object\n",
              "           active_year_end        object\n",
              "           associated_labels      object\n",
              "           bio                    object\n",
              "           comments               object\n",
              "           date_created           object\n",
              "           favorites              object\n",
              "           id                     object\n",
              "           latitude               object\n",
              "           location               object\n",
              "           longitude              object\n",
              "           members                object\n",
              "           name                   object\n",
              "           related_projects       object\n",
              "           tags                   object\n",
              "           website                object\n",
              "                                   ...  \n",
              "track      duration               object\n",
              "           favorites              object\n",
              "           genres                 object\n",
              "           genres_all             object\n",
              "           information            object\n",
              "           interest               object\n",
              "           language_code          object\n",
              "           license                object\n",
              "           listens                object\n",
              "           lyricist               object\n",
              "           number                 object\n",
              "           publisher              object\n",
              "           tags                   object\n",
              "           title                  object\n",
              "genre_top  Blues                   uint8\n",
              "           Classical               uint8\n",
              "           Country                 uint8\n",
              "           Easy Listening          uint8\n",
              "           Electronic              uint8\n",
              "           Experimental            uint8\n",
              "           Folk                    uint8\n",
              "           Hip-Hop                 uint8\n",
              "           Instrumental            uint8\n",
              "           International           uint8\n",
              "           Jazz                    uint8\n",
              "           Old-Time / Historic     uint8\n",
              "           Pop                     uint8\n",
              "           Rock                    uint8\n",
              "           Soul-RnB                uint8\n",
              "           Spoken                  uint8\n",
              "Length: 68, dtype: object"
            ]
          },
          "metadata": {
            "tags": []
          },
          "execution_count": 47
        }
      ]
    },
    {
      "metadata": {
        "id": "5pbNiqkjqqMt",
        "colab_type": "code",
        "colab": {
          "base_uri": "https://localhost:8080/",
          "height": 761
        },
        "outputId": "a59b34f6-aa45-4498-8162-3c974ab47c37"
      },
      "cell_type": "code",
      "source": [
        "lgr = LogisticRegression() \n",
        "\n",
        "X = df_wgenres\n",
        "\n",
        "y = df_wgenres.genre_top['Hip-Hop']\n",
        "\n",
        "\n",
        "y.shape, X.shape\n",
        "\n",
        "\n",
        "log_reg = LogisticRegression().fit(X, y)\n",
        "log_reg.score(X, y)\n"
      ],
      "execution_count": 25,
      "outputs": [
        {
          "output_type": "stream",
          "text": [
            "/usr/local/lib/python3.6/dist-packages/sklearn/linear_model/logistic.py:433: FutureWarning: Default solver will be changed to 'lbfgs' in 0.22. Specify a solver to silence this warning.\n",
            "  FutureWarning)\n"
          ],
          "name": "stderr"
        },
        {
          "output_type": "error",
          "ename": "ValueError",
          "evalue": "ignored",
          "traceback": [
            "\u001b[0;31m---------------------------------------------------------------------------\u001b[0m",
            "\u001b[0;31mValueError\u001b[0m                                Traceback (most recent call last)",
            "\u001b[0;32m<ipython-input-25-9da92641182d>\u001b[0m in \u001b[0;36m<module>\u001b[0;34m()\u001b[0m\n\u001b[1;32m      9\u001b[0m \u001b[0;34m\u001b[0m\u001b[0m\n\u001b[1;32m     10\u001b[0m \u001b[0;34m\u001b[0m\u001b[0m\n\u001b[0;32m---> 11\u001b[0;31m \u001b[0mlog_reg\u001b[0m \u001b[0;34m=\u001b[0m \u001b[0mLogisticRegression\u001b[0m\u001b[0;34m(\u001b[0m\u001b[0;34m)\u001b[0m\u001b[0;34m.\u001b[0m\u001b[0mfit\u001b[0m\u001b[0;34m(\u001b[0m\u001b[0mX\u001b[0m\u001b[0;34m,\u001b[0m \u001b[0my\u001b[0m\u001b[0;34m)\u001b[0m\u001b[0;34m\u001b[0m\u001b[0;34m\u001b[0m\u001b[0m\n\u001b[0m\u001b[1;32m     12\u001b[0m \u001b[0mlog_reg\u001b[0m\u001b[0;34m.\u001b[0m\u001b[0mscore\u001b[0m\u001b[0;34m(\u001b[0m\u001b[0mX\u001b[0m\u001b[0;34m,\u001b[0m \u001b[0my\u001b[0m\u001b[0;34m)\u001b[0m\u001b[0;34m\u001b[0m\u001b[0;34m\u001b[0m\u001b[0m\n",
            "\u001b[0;32m/usr/local/lib/python3.6/dist-packages/sklearn/linear_model/logistic.py\u001b[0m in \u001b[0;36mfit\u001b[0;34m(self, X, y, sample_weight)\u001b[0m\n\u001b[1;32m   1286\u001b[0m \u001b[0;34m\u001b[0m\u001b[0m\n\u001b[1;32m   1287\u001b[0m         X, y = check_X_y(X, y, accept_sparse='csr', dtype=_dtype, order=\"C\",\n\u001b[0;32m-> 1288\u001b[0;31m                          accept_large_sparse=solver != 'liblinear')\n\u001b[0m\u001b[1;32m   1289\u001b[0m         \u001b[0mcheck_classification_targets\u001b[0m\u001b[0;34m(\u001b[0m\u001b[0my\u001b[0m\u001b[0;34m)\u001b[0m\u001b[0;34m\u001b[0m\u001b[0;34m\u001b[0m\u001b[0m\n\u001b[1;32m   1290\u001b[0m         \u001b[0mself\u001b[0m\u001b[0;34m.\u001b[0m\u001b[0mclasses_\u001b[0m \u001b[0;34m=\u001b[0m \u001b[0mnp\u001b[0m\u001b[0;34m.\u001b[0m\u001b[0munique\u001b[0m\u001b[0;34m(\u001b[0m\u001b[0my\u001b[0m\u001b[0;34m)\u001b[0m\u001b[0;34m\u001b[0m\u001b[0;34m\u001b[0m\u001b[0m\n",
            "\u001b[0;32m/usr/local/lib/python3.6/dist-packages/sklearn/utils/validation.py\u001b[0m in \u001b[0;36mcheck_X_y\u001b[0;34m(X, y, accept_sparse, accept_large_sparse, dtype, order, copy, force_all_finite, ensure_2d, allow_nd, multi_output, ensure_min_samples, ensure_min_features, y_numeric, warn_on_dtype, estimator)\u001b[0m\n\u001b[1;32m    754\u001b[0m                     \u001b[0mensure_min_features\u001b[0m\u001b[0;34m=\u001b[0m\u001b[0mensure_min_features\u001b[0m\u001b[0;34m,\u001b[0m\u001b[0;34m\u001b[0m\u001b[0;34m\u001b[0m\u001b[0m\n\u001b[1;32m    755\u001b[0m                     \u001b[0mwarn_on_dtype\u001b[0m\u001b[0;34m=\u001b[0m\u001b[0mwarn_on_dtype\u001b[0m\u001b[0;34m,\u001b[0m\u001b[0;34m\u001b[0m\u001b[0;34m\u001b[0m\u001b[0m\n\u001b[0;32m--> 756\u001b[0;31m                     estimator=estimator)\n\u001b[0m\u001b[1;32m    757\u001b[0m     \u001b[0;32mif\u001b[0m \u001b[0mmulti_output\u001b[0m\u001b[0;34m:\u001b[0m\u001b[0;34m\u001b[0m\u001b[0;34m\u001b[0m\u001b[0m\n\u001b[1;32m    758\u001b[0m         y = check_array(y, 'csr', force_all_finite=True, ensure_2d=False,\n",
            "\u001b[0;32m/usr/local/lib/python3.6/dist-packages/sklearn/utils/validation.py\u001b[0m in \u001b[0;36mcheck_array\u001b[0;34m(array, accept_sparse, accept_large_sparse, dtype, order, copy, force_all_finite, ensure_2d, allow_nd, ensure_min_samples, ensure_min_features, warn_on_dtype, estimator)\u001b[0m\n\u001b[1;32m    525\u001b[0m             \u001b[0;32mtry\u001b[0m\u001b[0;34m:\u001b[0m\u001b[0;34m\u001b[0m\u001b[0;34m\u001b[0m\u001b[0m\n\u001b[1;32m    526\u001b[0m                 \u001b[0mwarnings\u001b[0m\u001b[0;34m.\u001b[0m\u001b[0msimplefilter\u001b[0m\u001b[0;34m(\u001b[0m\u001b[0;34m'error'\u001b[0m\u001b[0;34m,\u001b[0m \u001b[0mComplexWarning\u001b[0m\u001b[0;34m)\u001b[0m\u001b[0;34m\u001b[0m\u001b[0;34m\u001b[0m\u001b[0m\n\u001b[0;32m--> 527\u001b[0;31m                 \u001b[0marray\u001b[0m \u001b[0;34m=\u001b[0m \u001b[0mnp\u001b[0m\u001b[0;34m.\u001b[0m\u001b[0masarray\u001b[0m\u001b[0;34m(\u001b[0m\u001b[0marray\u001b[0m\u001b[0;34m,\u001b[0m \u001b[0mdtype\u001b[0m\u001b[0;34m=\u001b[0m\u001b[0mdtype\u001b[0m\u001b[0;34m,\u001b[0m \u001b[0morder\u001b[0m\u001b[0;34m=\u001b[0m\u001b[0morder\u001b[0m\u001b[0;34m)\u001b[0m\u001b[0;34m\u001b[0m\u001b[0;34m\u001b[0m\u001b[0m\n\u001b[0m\u001b[1;32m    528\u001b[0m             \u001b[0;32mexcept\u001b[0m \u001b[0mComplexWarning\u001b[0m\u001b[0;34m:\u001b[0m\u001b[0;34m\u001b[0m\u001b[0;34m\u001b[0m\u001b[0m\n\u001b[1;32m    529\u001b[0m                 raise ValueError(\"Complex data not supported\\n\"\n",
            "\u001b[0;32m/usr/local/lib/python3.6/dist-packages/numpy/core/numeric.py\u001b[0m in \u001b[0;36masarray\u001b[0;34m(a, dtype, order)\u001b[0m\n\u001b[1;32m    490\u001b[0m \u001b[0;34m\u001b[0m\u001b[0m\n\u001b[1;32m    491\u001b[0m     \"\"\"\n\u001b[0;32m--> 492\u001b[0;31m     \u001b[0;32mreturn\u001b[0m \u001b[0marray\u001b[0m\u001b[0;34m(\u001b[0m\u001b[0ma\u001b[0m\u001b[0;34m,\u001b[0m \u001b[0mdtype\u001b[0m\u001b[0;34m,\u001b[0m \u001b[0mcopy\u001b[0m\u001b[0;34m=\u001b[0m\u001b[0;32mFalse\u001b[0m\u001b[0;34m,\u001b[0m \u001b[0morder\u001b[0m\u001b[0;34m=\u001b[0m\u001b[0morder\u001b[0m\u001b[0;34m)\u001b[0m\u001b[0;34m\u001b[0m\u001b[0;34m\u001b[0m\u001b[0m\n\u001b[0m\u001b[1;32m    493\u001b[0m \u001b[0;34m\u001b[0m\u001b[0m\n\u001b[1;32m    494\u001b[0m \u001b[0;34m\u001b[0m\u001b[0m\n",
            "\u001b[0;31mValueError\u001b[0m: could not convert string to float: 'Another Trick Up My Sleeve (Instrumental)'"
          ]
        }
      ]
    },
    {
      "metadata": {
        "id": "FQvJZCd8qqQS",
        "colab_type": "code",
        "colab": {
          "base_uri": "https://localhost:8080/",
          "height": 34
        },
        "outputId": "f432c121-a11b-4c93-afc8-c060ac0d7300"
      },
      "cell_type": "code",
      "source": [
        "''"
      ],
      "execution_count": 12,
      "outputs": [
        {
          "output_type": "stream",
          "text": [
            "Object `in` not found.\n"
          ],
          "name": "stdout"
        }
      ]
    },
    {
      "metadata": {
        "id": "gbukT7D2qqGf",
        "colab_type": "code",
        "colab": {}
      },
      "cell_type": "code",
      "source": [
        ""
      ],
      "execution_count": 0,
      "outputs": []
    }
  ]
}