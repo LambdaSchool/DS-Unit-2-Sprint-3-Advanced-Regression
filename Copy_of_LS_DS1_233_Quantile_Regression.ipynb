{
  "nbformat": 4,
  "nbformat_minor": 0,
  "metadata": {
    "colab": {
      "name": "Copy of LS_DS1_233_Quantile_Regression.ipynb",
      "version": "0.3.2",
      "provenance": [],
      "include_colab_link": true
    },
    "kernelspec": {
      "name": "python3",
      "display_name": "Python 3"
    }
  },
  "cells": [
    {
      "cell_type": "markdown",
      "metadata": {
        "id": "view-in-github",
        "colab_type": "text"
      },
      "source": [
        "<a href=\"https://colab.research.google.com/github/veritaem/DS-Unit-2-Sprint-3-Advanced-Regression/blob/master/Copy_of_LS_DS1_233_Quantile_Regression.ipynb\" target=\"_parent\"><img src=\"https://colab.research.google.com/assets/colab-badge.svg\" alt=\"Open In Colab\"/></a>"
      ]
    },
    {
      "metadata": {
        "id": "SV7gaADiicnV",
        "colab_type": "text"
      },
      "cell_type": "markdown",
      "source": [
        "# Lambda School Data Science - Quantile Regression\n",
        "\n",
        "Regressing towards the median - or any quantile - as a way to mitigate outliers and control risk."
      ]
    },
    {
      "metadata": {
        "id": "6klMj4q3iqMh",
        "colab_type": "text"
      },
      "cell_type": "markdown",
      "source": [
        "## Lecture\n",
        "\n",
        "Let's look at data that has a bit of a skew to it:\n",
        "\n",
        "http://archive.ics.uci.edu/ml/datasets/Beijing+PM2.5+Data"
      ]
    },
    {
      "metadata": {
        "id": "yw1AD_z9O0xL",
        "colab_type": "code",
        "colab": {}
      },
      "cell_type": "code",
      "source": [
        "import pandas as pd\n",
        "df = pd.read_csv('http://archive.ics.uci.edu/ml/machine-learning-databases/'\n",
        "                 '00381/PRSA_data_2010.1.1-2014.12.31.csv')"
      ],
      "execution_count": 0,
      "outputs": []
    },
    {
      "metadata": {
        "id": "RTlH1lJ8PDv5",
        "colab_type": "code",
        "outputId": "d7c8c81c-9d68-4809-f91b-a879b0337867",
        "colab": {
          "base_uri": "https://localhost:8080/",
          "height": 206
        }
      },
      "cell_type": "code",
      "source": [
        "df.head()"
      ],
      "execution_count": 0,
      "outputs": [
        {
          "output_type": "execute_result",
          "data": {
            "text/html": [
              "<div>\n",
              "<style scoped>\n",
              "    .dataframe tbody tr th:only-of-type {\n",
              "        vertical-align: middle;\n",
              "    }\n",
              "\n",
              "    .dataframe tbody tr th {\n",
              "        vertical-align: top;\n",
              "    }\n",
              "\n",
              "    .dataframe thead th {\n",
              "        text-align: right;\n",
              "    }\n",
              "</style>\n",
              "<table border=\"1\" class=\"dataframe\">\n",
              "  <thead>\n",
              "    <tr style=\"text-align: right;\">\n",
              "      <th></th>\n",
              "      <th>No</th>\n",
              "      <th>year</th>\n",
              "      <th>month</th>\n",
              "      <th>day</th>\n",
              "      <th>hour</th>\n",
              "      <th>pm2.5</th>\n",
              "      <th>DEWP</th>\n",
              "      <th>TEMP</th>\n",
              "      <th>PRES</th>\n",
              "      <th>cbwd</th>\n",
              "      <th>Iws</th>\n",
              "      <th>Is</th>\n",
              "      <th>Ir</th>\n",
              "    </tr>\n",
              "  </thead>\n",
              "  <tbody>\n",
              "    <tr>\n",
              "      <th>0</th>\n",
              "      <td>1</td>\n",
              "      <td>2010</td>\n",
              "      <td>1</td>\n",
              "      <td>1</td>\n",
              "      <td>0</td>\n",
              "      <td>NaN</td>\n",
              "      <td>-21</td>\n",
              "      <td>-11.0</td>\n",
              "      <td>1021.0</td>\n",
              "      <td>NW</td>\n",
              "      <td>1.79</td>\n",
              "      <td>0</td>\n",
              "      <td>0</td>\n",
              "    </tr>\n",
              "    <tr>\n",
              "      <th>1</th>\n",
              "      <td>2</td>\n",
              "      <td>2010</td>\n",
              "      <td>1</td>\n",
              "      <td>1</td>\n",
              "      <td>1</td>\n",
              "      <td>NaN</td>\n",
              "      <td>-21</td>\n",
              "      <td>-12.0</td>\n",
              "      <td>1020.0</td>\n",
              "      <td>NW</td>\n",
              "      <td>4.92</td>\n",
              "      <td>0</td>\n",
              "      <td>0</td>\n",
              "    </tr>\n",
              "    <tr>\n",
              "      <th>2</th>\n",
              "      <td>3</td>\n",
              "      <td>2010</td>\n",
              "      <td>1</td>\n",
              "      <td>1</td>\n",
              "      <td>2</td>\n",
              "      <td>NaN</td>\n",
              "      <td>-21</td>\n",
              "      <td>-11.0</td>\n",
              "      <td>1019.0</td>\n",
              "      <td>NW</td>\n",
              "      <td>6.71</td>\n",
              "      <td>0</td>\n",
              "      <td>0</td>\n",
              "    </tr>\n",
              "    <tr>\n",
              "      <th>3</th>\n",
              "      <td>4</td>\n",
              "      <td>2010</td>\n",
              "      <td>1</td>\n",
              "      <td>1</td>\n",
              "      <td>3</td>\n",
              "      <td>NaN</td>\n",
              "      <td>-21</td>\n",
              "      <td>-14.0</td>\n",
              "      <td>1019.0</td>\n",
              "      <td>NW</td>\n",
              "      <td>9.84</td>\n",
              "      <td>0</td>\n",
              "      <td>0</td>\n",
              "    </tr>\n",
              "    <tr>\n",
              "      <th>4</th>\n",
              "      <td>5</td>\n",
              "      <td>2010</td>\n",
              "      <td>1</td>\n",
              "      <td>1</td>\n",
              "      <td>4</td>\n",
              "      <td>NaN</td>\n",
              "      <td>-20</td>\n",
              "      <td>-12.0</td>\n",
              "      <td>1018.0</td>\n",
              "      <td>NW</td>\n",
              "      <td>12.97</td>\n",
              "      <td>0</td>\n",
              "      <td>0</td>\n",
              "    </tr>\n",
              "  </tbody>\n",
              "</table>\n",
              "</div>"
            ],
            "text/plain": [
              "   No  year  month  day  hour  pm2.5  DEWP  TEMP    PRES cbwd    Iws  Is  Ir\n",
              "0   1  2010      1    1     0    NaN   -21 -11.0  1021.0   NW   1.79   0   0\n",
              "1   2  2010      1    1     1    NaN   -21 -12.0  1020.0   NW   4.92   0   0\n",
              "2   3  2010      1    1     2    NaN   -21 -11.0  1019.0   NW   6.71   0   0\n",
              "3   4  2010      1    1     3    NaN   -21 -14.0  1019.0   NW   9.84   0   0\n",
              "4   5  2010      1    1     4    NaN   -20 -12.0  1018.0   NW  12.97   0   0"
            ]
          },
          "metadata": {
            "tags": []
          },
          "execution_count": 2
        }
      ]
    },
    {
      "metadata": {
        "id": "m-yC9OSPPFo8",
        "colab_type": "code",
        "outputId": "dea06251-bdc0-44c9-d6b5-3c9efd9ad19f",
        "colab": {
          "base_uri": "https://localhost:8080/",
          "height": 320
        }
      },
      "cell_type": "code",
      "source": [
        "df.describe()"
      ],
      "execution_count": 0,
      "outputs": [
        {
          "output_type": "execute_result",
          "data": {
            "text/html": [
              "<div>\n",
              "<style scoped>\n",
              "    .dataframe tbody tr th:only-of-type {\n",
              "        vertical-align: middle;\n",
              "    }\n",
              "\n",
              "    .dataframe tbody tr th {\n",
              "        vertical-align: top;\n",
              "    }\n",
              "\n",
              "    .dataframe thead th {\n",
              "        text-align: right;\n",
              "    }\n",
              "</style>\n",
              "<table border=\"1\" class=\"dataframe\">\n",
              "  <thead>\n",
              "    <tr style=\"text-align: right;\">\n",
              "      <th></th>\n",
              "      <th>No</th>\n",
              "      <th>year</th>\n",
              "      <th>month</th>\n",
              "      <th>day</th>\n",
              "      <th>hour</th>\n",
              "      <th>pm2.5</th>\n",
              "      <th>DEWP</th>\n",
              "      <th>TEMP</th>\n",
              "      <th>PRES</th>\n",
              "      <th>Iws</th>\n",
              "      <th>Is</th>\n",
              "      <th>Ir</th>\n",
              "    </tr>\n",
              "  </thead>\n",
              "  <tbody>\n",
              "    <tr>\n",
              "      <th>count</th>\n",
              "      <td>43824.000000</td>\n",
              "      <td>43824.000000</td>\n",
              "      <td>43824.000000</td>\n",
              "      <td>43824.000000</td>\n",
              "      <td>43824.000000</td>\n",
              "      <td>41757.000000</td>\n",
              "      <td>43824.000000</td>\n",
              "      <td>43824.000000</td>\n",
              "      <td>43824.000000</td>\n",
              "      <td>43824.000000</td>\n",
              "      <td>43824.000000</td>\n",
              "      <td>43824.000000</td>\n",
              "    </tr>\n",
              "    <tr>\n",
              "      <th>mean</th>\n",
              "      <td>21912.500000</td>\n",
              "      <td>2012.000000</td>\n",
              "      <td>6.523549</td>\n",
              "      <td>15.727820</td>\n",
              "      <td>11.500000</td>\n",
              "      <td>98.613215</td>\n",
              "      <td>1.817246</td>\n",
              "      <td>12.448521</td>\n",
              "      <td>1016.447654</td>\n",
              "      <td>23.889140</td>\n",
              "      <td>0.052734</td>\n",
              "      <td>0.194916</td>\n",
              "    </tr>\n",
              "    <tr>\n",
              "      <th>std</th>\n",
              "      <td>12651.043435</td>\n",
              "      <td>1.413842</td>\n",
              "      <td>3.448572</td>\n",
              "      <td>8.799425</td>\n",
              "      <td>6.922266</td>\n",
              "      <td>92.050387</td>\n",
              "      <td>14.433440</td>\n",
              "      <td>12.198613</td>\n",
              "      <td>10.268698</td>\n",
              "      <td>50.010635</td>\n",
              "      <td>0.760375</td>\n",
              "      <td>1.415867</td>\n",
              "    </tr>\n",
              "    <tr>\n",
              "      <th>min</th>\n",
              "      <td>1.000000</td>\n",
              "      <td>2010.000000</td>\n",
              "      <td>1.000000</td>\n",
              "      <td>1.000000</td>\n",
              "      <td>0.000000</td>\n",
              "      <td>0.000000</td>\n",
              "      <td>-40.000000</td>\n",
              "      <td>-19.000000</td>\n",
              "      <td>991.000000</td>\n",
              "      <td>0.450000</td>\n",
              "      <td>0.000000</td>\n",
              "      <td>0.000000</td>\n",
              "    </tr>\n",
              "    <tr>\n",
              "      <th>25%</th>\n",
              "      <td>10956.750000</td>\n",
              "      <td>2011.000000</td>\n",
              "      <td>4.000000</td>\n",
              "      <td>8.000000</td>\n",
              "      <td>5.750000</td>\n",
              "      <td>29.000000</td>\n",
              "      <td>-10.000000</td>\n",
              "      <td>2.000000</td>\n",
              "      <td>1008.000000</td>\n",
              "      <td>1.790000</td>\n",
              "      <td>0.000000</td>\n",
              "      <td>0.000000</td>\n",
              "    </tr>\n",
              "    <tr>\n",
              "      <th>50%</th>\n",
              "      <td>21912.500000</td>\n",
              "      <td>2012.000000</td>\n",
              "      <td>7.000000</td>\n",
              "      <td>16.000000</td>\n",
              "      <td>11.500000</td>\n",
              "      <td>72.000000</td>\n",
              "      <td>2.000000</td>\n",
              "      <td>14.000000</td>\n",
              "      <td>1016.000000</td>\n",
              "      <td>5.370000</td>\n",
              "      <td>0.000000</td>\n",
              "      <td>0.000000</td>\n",
              "    </tr>\n",
              "    <tr>\n",
              "      <th>75%</th>\n",
              "      <td>32868.250000</td>\n",
              "      <td>2013.000000</td>\n",
              "      <td>10.000000</td>\n",
              "      <td>23.000000</td>\n",
              "      <td>17.250000</td>\n",
              "      <td>137.000000</td>\n",
              "      <td>15.000000</td>\n",
              "      <td>23.000000</td>\n",
              "      <td>1025.000000</td>\n",
              "      <td>21.910000</td>\n",
              "      <td>0.000000</td>\n",
              "      <td>0.000000</td>\n",
              "    </tr>\n",
              "    <tr>\n",
              "      <th>max</th>\n",
              "      <td>43824.000000</td>\n",
              "      <td>2014.000000</td>\n",
              "      <td>12.000000</td>\n",
              "      <td>31.000000</td>\n",
              "      <td>23.000000</td>\n",
              "      <td>994.000000</td>\n",
              "      <td>28.000000</td>\n",
              "      <td>42.000000</td>\n",
              "      <td>1046.000000</td>\n",
              "      <td>585.600000</td>\n",
              "      <td>27.000000</td>\n",
              "      <td>36.000000</td>\n",
              "    </tr>\n",
              "  </tbody>\n",
              "</table>\n",
              "</div>"
            ],
            "text/plain": [
              "                 No          year         month           day          hour  \\\n",
              "count  43824.000000  43824.000000  43824.000000  43824.000000  43824.000000   \n",
              "mean   21912.500000   2012.000000      6.523549     15.727820     11.500000   \n",
              "std    12651.043435      1.413842      3.448572      8.799425      6.922266   \n",
              "min        1.000000   2010.000000      1.000000      1.000000      0.000000   \n",
              "25%    10956.750000   2011.000000      4.000000      8.000000      5.750000   \n",
              "50%    21912.500000   2012.000000      7.000000     16.000000     11.500000   \n",
              "75%    32868.250000   2013.000000     10.000000     23.000000     17.250000   \n",
              "max    43824.000000   2014.000000     12.000000     31.000000     23.000000   \n",
              "\n",
              "              pm2.5          DEWP          TEMP          PRES           Iws  \\\n",
              "count  41757.000000  43824.000000  43824.000000  43824.000000  43824.000000   \n",
              "mean      98.613215      1.817246     12.448521   1016.447654     23.889140   \n",
              "std       92.050387     14.433440     12.198613     10.268698     50.010635   \n",
              "min        0.000000    -40.000000    -19.000000    991.000000      0.450000   \n",
              "25%       29.000000    -10.000000      2.000000   1008.000000      1.790000   \n",
              "50%       72.000000      2.000000     14.000000   1016.000000      5.370000   \n",
              "75%      137.000000     15.000000     23.000000   1025.000000     21.910000   \n",
              "max      994.000000     28.000000     42.000000   1046.000000    585.600000   \n",
              "\n",
              "                 Is            Ir  \n",
              "count  43824.000000  43824.000000  \n",
              "mean       0.052734      0.194916  \n",
              "std        0.760375      1.415867  \n",
              "min        0.000000      0.000000  \n",
              "25%        0.000000      0.000000  \n",
              "50%        0.000000      0.000000  \n",
              "75%        0.000000      0.000000  \n",
              "max       27.000000     36.000000  "
            ]
          },
          "metadata": {
            "tags": []
          },
          "execution_count": 3
        }
      ]
    },
    {
      "metadata": {
        "id": "hfV3WisFP_O6",
        "colab_type": "code",
        "outputId": "f4182145-f7db-46cd-8f2a-507293d220b1",
        "colab": {
          "base_uri": "https://localhost:8080/",
          "height": 347
        }
      },
      "cell_type": "code",
      "source": [
        "df['pm2.5'].plot.hist();"
      ],
      "execution_count": 0,
      "outputs": [
        {
          "output_type": "display_data",
          "data": {
            "image/png": "[encoded data removed]",
            "text/plain": [
              "<Figure size 576x396 with 1 Axes>"
            ]
          },
          "metadata": {
            "tags": []
          }
        }
      ]
    },
    {
      "metadata": {
        "id": "u2DTml6zvd_5",
        "colab_type": "code",
        "colab": {}
      },
      "cell_type": "code",
      "source": [
        "import numpy as np\n",
        "# How does linear regression handle it?\n",
        "\n",
        "from sklearn.linear_model import LinearRegression"
      ],
      "execution_count": 0,
      "outputs": []
    },
    {
      "metadata": {
        "id": "OgbMTAHzQJB8",
        "colab_type": "code",
        "outputId": "332c8801-2d19-459b-f952-5c8ce247e010",
        "colab": {
          "base_uri": "https://localhost:8080/",
          "height": 34
        }
      },
      "cell_type": "code",
      "source": [
        "# How does linear regression handle it?\n",
        "from sklearn.linear_model import LinearRegression\n",
        "\n",
        "# Let's drop NAs and limit to numeric values\n",
        "df = df._get_numeric_data().dropna()\n",
        "X = df.drop('pm2.5', axis='columns')\n",
        "y = df['pm2.5']\n",
        "\n",
        "linear_reg = LinearRegression().fit(X, y)\n",
        "linear_reg.score(X, y)"
      ],
      "execution_count": 0,
      "outputs": [
        {
          "output_type": "execute_result",
          "data": {
            "text/plain": [
              "0.2590006399659215"
            ]
          },
          "metadata": {
            "tags": []
          },
          "execution_count": 7
        }
      ]
    },
    {
      "metadata": {
        "id": "1Tv8r_xSxMwZ",
        "colab_type": "code",
        "outputId": "4a7dcc1d-0188-4d1f-9438-73bab479d76f",
        "colab": {
          "base_uri": "https://localhost:8080/",
          "height": 34
        }
      },
      "cell_type": "code",
      "source": [
        "','.join(['1', '2', '3'])\n",
        "# import csv"
      ],
      "execution_count": 0,
      "outputs": [
        {
          "output_type": "execute_result",
          "data": {
            "text/plain": [
              "'1,2,3'"
            ]
          },
          "metadata": {
            "tags": []
          },
          "execution_count": 11
        }
      ]
    },
    {
      "metadata": {
        "id": "-viFFtm0RizM",
        "colab_type": "code",
        "outputId": "d0ff81a8-7937-48d3-92a0-d09bb277d52b",
        "colab": {
          "base_uri": "https://localhost:8080/",
          "height": 462
        }
      },
      "cell_type": "code",
      "source": [
        "# Not bad - but what if we wanted to model the distribution more conservatively?\n",
        "# Let's try quantile\n",
        "import statsmodels.formula.api as smf\n",
        "\n",
        "# Different jargon/API in StatsModel documentation\n",
        "# \"endogenous\" response var is dependent (y), it is \"inside\"\n",
        "# \"exogenous\" variables are independent (X), it is \"outside\"\n",
        "# Bonus points - talk about \"exogenous shocks\" and you're a bona fide economist\n",
        "\n",
        "# ~ style formulas look like what R uses\n",
        "# y ~ x1 + x2 + ...\n",
        "# They can also support * for interaction terms and polynomials\n",
        "# y ~ x1 + (x1 * x1) + x2 + (x1 * x2)\n",
        "# Also, these formulas break with . in variable name, so lets change that\n",
        "df = df.rename(index=str, columns={'pm2.5': 'pm25'})\n",
        "\n",
        "# Now let's construct the formula string using all columns\n",
        "quant_formula = 'pm25 ~ ' + ' + '.join(df.drop('pm25', axis='columns').columns)\n",
        "print(quant_formula)\n",
        "\n",
        "quant_mod = smf.quantreg(quant_formula, data=df)\n",
        "quant_reg = quant_mod.fit(q=.5)\n",
        "quant_reg.summary()  # \"summary\" is another very R-thing"
      ],
      "execution_count": 0,
      "outputs": [
        {
          "output_type": "stream",
          "text": [
            "pm25 ~ No + year + month + day + hour + DEWP + TEMP + PRES + Iws + Is + Ir\n"
          ],
          "name": "stdout"
        },
        {
          "output_type": "execute_result",
          "data": {
            "text/html": [
              "<table class=\"simpletable\">\n",
              "<caption>QuantReg Regression Results</caption>\n",
              "<tr>\n",
              "  <th>Dep. Variable:</th>       <td>pm25</td>       <th>  Pseudo R-squared:  </th> <td>  0.1600</td>\n",
              "</tr>\n",
              "<tr>\n",
              "  <th>Model:</th>             <td>QuantReg</td>     <th>  Bandwidth:         </th> <td>   8.276</td>\n",
              "</tr>\n",
              "<tr>\n",
              "  <th>Method:</th>          <td>Least Squares</td>  <th>  Sparsity:          </th> <td>   133.8</td>\n",
              "</tr>\n",
              "<tr>\n",
              "  <th>Date:</th>          <td>Wed, 23 Jan 2019</td> <th>  No. Observations:  </th>  <td> 41757</td> \n",
              "</tr>\n",
              "<tr>\n",
              "  <th>Time:</th>              <td>17:33:30</td>     <th>  Df Residuals:      </th>  <td> 41745</td> \n",
              "</tr>\n",
              "<tr>\n",
              "  <th> </th>                      <td> </td>        <th>  Df Model:          </th>  <td>    11</td> \n",
              "</tr>\n",
              "</table>\n",
              "<table class=\"simpletable\">\n",
              "<tr>\n",
              "      <td></td>         <th>coef</th>     <th>std err</th>      <th>t</th>      <th>P>|t|</th>  <th>[0.025</th>    <th>0.975]</th>  \n",
              "</tr>\n",
              "<tr>\n",
              "  <th>Intercept</th> <td>    0.0004</td> <td> 1.67e-05</td> <td>   22.881</td> <td> 0.000</td> <td>    0.000</td> <td>    0.000</td>\n",
              "</tr>\n",
              "<tr>\n",
              "  <th>No</th>        <td>  3.63e-07</td> <td> 2.67e-05</td> <td>    0.014</td> <td> 0.989</td> <td> -5.2e-05</td> <td> 5.27e-05</td>\n",
              "</tr>\n",
              "<tr>\n",
              "  <th>year</th>      <td>    0.8830</td> <td>    0.031</td> <td>   28.631</td> <td> 0.000</td> <td>    0.823</td> <td>    0.943</td>\n",
              "</tr>\n",
              "<tr>\n",
              "  <th>month</th>     <td>   -1.4110</td> <td>    0.103</td> <td>  -13.749</td> <td> 0.000</td> <td>   -1.612</td> <td>   -1.210</td>\n",
              "</tr>\n",
              "<tr>\n",
              "  <th>day</th>       <td>    0.4461</td> <td>    0.037</td> <td>   11.951</td> <td> 0.000</td> <td>    0.373</td> <td>    0.519</td>\n",
              "</tr>\n",
              "<tr>\n",
              "  <th>hour</th>      <td>    1.2810</td> <td>    0.050</td> <td>   25.779</td> <td> 0.000</td> <td>    1.184</td> <td>    1.378</td>\n",
              "</tr>\n",
              "<tr>\n",
              "  <th>DEWP</th>      <td>    3.6362</td> <td>    0.047</td> <td>   77.315</td> <td> 0.000</td> <td>    3.544</td> <td>    3.728</td>\n",
              "</tr>\n",
              "<tr>\n",
              "  <th>TEMP</th>      <td>   -4.7103</td> <td>    0.060</td> <td>  -78.779</td> <td> 0.000</td> <td>   -4.828</td> <td>   -4.593</td>\n",
              "</tr>\n",
              "<tr>\n",
              "  <th>PRES</th>      <td>   -1.6265</td> <td>    0.061</td> <td>  -26.760</td> <td> 0.000</td> <td>   -1.746</td> <td>   -1.507</td>\n",
              "</tr>\n",
              "<tr>\n",
              "  <th>Iws</th>       <td>   -0.1541</td> <td>    0.007</td> <td>  -21.786</td> <td> 0.000</td> <td>   -0.168</td> <td>   -0.140</td>\n",
              "</tr>\n",
              "<tr>\n",
              "  <th>Is</th>        <td>   -1.6322</td> <td>    0.425</td> <td>   -3.838</td> <td> 0.000</td> <td>   -2.466</td> <td>   -0.799</td>\n",
              "</tr>\n",
              "<tr>\n",
              "  <th>Ir</th>        <td>   -5.3946</td> <td>    0.234</td> <td>  -23.034</td> <td> 0.000</td> <td>   -5.854</td> <td>   -4.936</td>\n",
              "</tr>\n",
              "</table>"
            ],
            "text/plain": [
              "<class 'statsmodels.iolib.summary.Summary'>\n",
              "\"\"\"\n",
              "                         QuantReg Regression Results                          \n",
              "==============================================================================\n",
              "Dep. Variable:                   pm25   Pseudo R-squared:               0.1600\n",
              "Model:                       QuantReg   Bandwidth:                       8.276\n",
              "Method:                 Least Squares   Sparsity:                        133.8\n",
              "Date:                Wed, 23 Jan 2019   No. Observations:                41757\n",
              "Time:                        17:33:30   Df Residuals:                    41745\n",
              "                                        Df Model:                           11\n",
              "==============================================================================\n",
              "                 coef    std err          t      P>|t|      [0.025      0.975]\n",
              "------------------------------------------------------------------------------\n",
              "Intercept      0.0004   1.67e-05     22.881      0.000       0.000       0.000\n",
              "No           3.63e-07   2.67e-05      0.014      0.989    -5.2e-05    5.27e-05\n",
              "year           0.8830      0.031     28.631      0.000       0.823       0.943\n",
              "month         -1.4110      0.103    -13.749      0.000      -1.612      -1.210\n",
              "day            0.4461      0.037     11.951      0.000       0.373       0.519\n",
              "hour           1.2810      0.050     25.779      0.000       1.184       1.378\n",
              "DEWP           3.6362      0.047     77.315      0.000       3.544       3.728\n",
              "TEMP          -4.7103      0.060    -78.779      0.000      -4.828      -4.593\n",
              "PRES          -1.6265      0.061    -26.760      0.000      -1.746      -1.507\n",
              "Iws           -0.1541      0.007    -21.786      0.000      -0.168      -0.140\n",
              "Is            -1.6322      0.425     -3.838      0.000      -2.466      -0.799\n",
              "Ir            -5.3946      0.234    -23.034      0.000      -5.854      -4.936\n",
              "==============================================================================\n",
              "\n",
              "The condition number is large, 3.67e+10. This might indicate that there are\n",
              "strong multicollinearity or other numerical problems.\n",
              "\"\"\""
            ]
          },
          "metadata": {
            "tags": []
          },
          "execution_count": 12
        }
      ]
    },
    {
      "metadata": {
        "id": "ZBkP4bewd-HT",
        "colab_type": "text"
      },
      "cell_type": "markdown",
      "source": [
        "That fit to the median (q=0.5), also called \"Least Absolute Deviation.\" The pseudo-R^2 isn't really directly comparable to the R^2 from linear regression, but it clearly isn't dramatically improved. Can we make it better?"
      ]
    },
    {
      "metadata": {
        "id": "BgvYeHg3bL4g",
        "colab_type": "code",
        "outputId": "bf4547a0-7739-45d8-bf5a-26ab1684f7f6",
        "colab": {
          "base_uri": "https://localhost:8080/",
          "height": 593
        }
      },
      "cell_type": "code",
      "source": [
        "help(quant_mod.fit)"
      ],
      "execution_count": 0,
      "outputs": [
        {
          "output_type": "stream",
          "text": [
            "Help on method fit in module statsmodels.regression.quantile_regression:\n",
            "\n",
            "fit(q=0.5, vcov='robust', kernel='epa', bandwidth='hsheather', max_iter=1000, p_tol=1e-06, **kwargs) method of statsmodels.regression.quantile_regression.QuantReg instance\n",
            "    Solve by Iterative Weighted Least Squares\n",
            "    \n",
            "    Parameters\n",
            "    ----------\n",
            "    q : float\n",
            "        Quantile must be between 0 and 1\n",
            "    vcov : string, method used to calculate the variance-covariance matrix\n",
            "        of the parameters. Default is ``robust``:\n",
            "    \n",
            "        - robust : heteroskedasticity robust standard errors (as suggested\n",
            "          in Greene 6th edition)\n",
            "        - iid : iid errors (as in Stata 12)\n",
            "    \n",
            "    kernel : string, kernel to use in the kernel density estimation for the\n",
            "        asymptotic covariance matrix:\n",
            "    \n",
            "        - epa: Epanechnikov\n",
            "        - cos: Cosine\n",
            "        - gau: Gaussian\n",
            "        - par: Parzene\n",
            "    \n",
            "    bandwidth: string, Bandwidth selection method in kernel density\n",
            "        estimation for asymptotic covariance estimate (full\n",
            "        references in QuantReg docstring):\n",
            "    \n",
            "        - hsheather: Hall-Sheather (1988)\n",
            "        - bofinger: Bofinger (1975)\n",
            "        - chamberlain: Chamberlain (1994)\n",
            "\n"
          ],
          "name": "stdout"
        }
      ]
    },
    {
      "metadata": {
        "id": "_UdyTFEAy4Mr",
        "colab_type": "text"
      },
      "cell_type": "markdown",
      "source": [
        "Pretend R code\n",
        "\n",
        "```\n",
        "ols1 <- lm(y ~ x1 + x2 + (x1 * x1))\n",
        "summary(ols1)\n",
        "```"
      ]
    },
    {
      "metadata": {
        "id": "lpNPioZTei4U",
        "colab_type": "code",
        "outputId": "0c8ad055-6b0e-4eb6-acc9-815746221509",
        "colab": {
          "base_uri": "https://localhost:8080/",
          "height": 1424
        }
      },
      "cell_type": "code",
      "source": [
        "quantiles = (.05, .96, .1)\n",
        "\n",
        "for quantile in quantiles:\n",
        "  print(quant_mod.fit(q=quantile).summary())"
      ],
      "execution_count": 0,
      "outputs": [
        {
          "output_type": "stream",
          "text": [
            "                         QuantReg Regression Results                          \n",
            "==============================================================================\n",
            "Dep. Variable:                   pm25   Pseudo R-squared:              0.04130\n",
            "Model:                       QuantReg   Bandwidth:                       8.908\n",
            "Method:                 Least Squares   Sparsity:                        120.7\n",
            "Date:                Wed, 23 Jan 2019   No. Observations:                41757\n",
            "Time:                        17:39:07   Df Residuals:                    41745\n",
            "                                        Df Model:                           11\n",
            "==============================================================================\n",
            "                 coef    std err          t      P>|t|      [0.025      0.975]\n",
            "------------------------------------------------------------------------------\n",
            "Intercept   3.072e-05    6.4e-06      4.803      0.000    1.82e-05    4.33e-05\n",
            "No         -6.994e-05   9.59e-06     -7.292      0.000   -8.87e-05   -5.11e-05\n",
            "year           0.0998      0.012      8.275      0.000       0.076       0.123\n",
            "month         -0.4536      0.034    -13.419      0.000      -0.520      -0.387\n",
            "day            0.1143      0.015      7.862      0.000       0.086       0.143\n",
            "hour           0.3777      0.020     19.013      0.000       0.339       0.417\n",
            "DEWP           0.7720      0.014     55.266      0.000       0.745       0.799\n",
            "TEMP          -0.8346      0.020    -41.621      0.000      -0.874      -0.795\n",
            "PRES          -0.1734      0.024     -7.290      0.000      -0.220      -0.127\n",
            "Iws           -0.0364      0.002    -17.462      0.000      -0.040      -0.032\n",
            "Is             1.4573      0.195      7.466      0.000       1.075       1.840\n",
            "Ir            -1.2952      0.071    -18.209      0.000      -1.435      -1.156\n",
            "==============================================================================\n",
            "\n",
            "The condition number is large, 3.67e+10. This might indicate that there are\n",
            "strong multicollinearity or other numerical problems.\n",
            "                         QuantReg Regression Results                          \n",
            "==============================================================================\n",
            "Dep. Variable:                   pm25   Pseudo R-squared:               0.2194\n",
            "Model:                       QuantReg   Bandwidth:                       10.41\n",
            "Method:                 Least Squares   Sparsity:                        1322.\n",
            "Date:                Wed, 23 Jan 2019   No. Observations:                41757\n",
            "Time:                        17:39:08   Df Residuals:                    41745\n",
            "                                        Df Model:                           11\n",
            "==============================================================================\n",
            "                 coef    std err          t      P>|t|      [0.025      0.975]\n",
            "------------------------------------------------------------------------------\n",
            "Intercept      0.0004   6.87e-05      5.306      0.000       0.000       0.000\n",
            "No          7.821e-05      0.000      0.696      0.486      -0.000       0.000\n",
            "year           1.0580      0.124      8.539      0.000       0.815       1.301\n",
            "month         -3.9661      0.446     -8.895      0.000      -4.840      -3.092\n",
            "day            1.0816      0.136      7.936      0.000       0.814       1.349\n",
            "hour           2.3661      0.192     12.354      0.000       1.991       2.741\n",
            "DEWP           7.5176      0.235     32.004      0.000       7.057       7.978\n",
            "TEMP         -11.6991      0.302    -38.691      0.000     -12.292     -11.106\n",
            "PRES          -1.7121      0.244     -7.003      0.000      -2.191      -1.233\n",
            "Iws           -0.4151      0.034    -12.339      0.000      -0.481      -0.349\n",
            "Is            -5.7267      1.580     -3.624      0.000      -8.824      -2.630\n",
            "Ir            -9.3197      1.457     -6.397      0.000     -12.175      -6.464\n",
            "==============================================================================\n",
            "\n",
            "The condition number is large, 3.67e+10. This might indicate that there are\n",
            "strong multicollinearity or other numerical problems.\n",
            "                         QuantReg Regression Results                          \n",
            "==============================================================================\n",
            "Dep. Variable:                   pm25   Pseudo R-squared:              0.06497\n",
            "Model:                       QuantReg   Bandwidth:                       8.092\n",
            "Method:                 Least Squares   Sparsity:                        104.4\n",
            "Date:                Wed, 23 Jan 2019   No. Observations:                41757\n",
            "Time:                        17:39:11   Df Residuals:                    41745\n",
            "                                        Df Model:                           11\n",
            "==============================================================================\n",
            "                 coef    std err          t      P>|t|      [0.025      0.975]\n",
            "------------------------------------------------------------------------------\n",
            "Intercept   5.214e-05   7.84e-06      6.650      0.000    3.68e-05    6.75e-05\n",
            "No         -9.232e-05   1.17e-05     -7.888      0.000      -0.000   -6.94e-05\n",
            "year           0.1521      0.015     10.386      0.000       0.123       0.181\n",
            "month         -0.5581      0.042    -13.138      0.000      -0.641      -0.475\n",
            "day            0.1708      0.017      9.893      0.000       0.137       0.205\n",
            "hour           0.4604      0.024     19.350      0.000       0.414       0.507\n",
            "DEWP           1.2350      0.017     70.845      0.000       1.201       1.269\n",
            "TEMP          -1.3088      0.024    -54.101      0.000      -1.356      -1.261\n",
            "PRES          -0.2652      0.029     -9.183      0.000      -0.322      -0.209\n",
            "Iws           -0.0436      0.003    -16.919      0.000      -0.049      -0.039\n",
            "Is             1.0745      0.231      4.653      0.000       0.622       1.527\n",
            "Ir            -1.9619      0.087    -22.504      0.000      -2.133      -1.791\n",
            "==============================================================================\n",
            "\n",
            "The condition number is large, 3.67e+10. This might indicate that there are\n",
            "strong multicollinearity or other numerical problems.\n"
          ],
          "name": "stdout"
        }
      ]
    },
    {
      "metadata": {
        "id": "Xqh4Jp1XgjrE",
        "colab_type": "text"
      },
      "cell_type": "markdown",
      "source": [
        "\"Strong multicollinearity\", eh? In other words - maybe we shouldn't throw every variable in our formula. Let's hand-craft a smaller one, picking the features with the largest magnitude t-statistics for their coefficients. Let's also search for more quantile cutoffs to see what's most effective."
      ]
    },
    {
      "metadata": {
        "id": "NmoELnXwgpXd",
        "colab_type": "code",
        "colab": {}
      },
      "cell_type": "code",
      "source": [
        "quant_formula = 'pm25 ~ DEWP + TEMP + Ir + hour + Iws'\n",
        "quant_mod = smf.quantreg(quant_formula, data=df)\n",
        "for quantile in range(50, 100):\n",
        "  quantile /= 100\n",
        "  quant_reg = quant_mod.fit(q=quantile)\n",
        "  print((quantile, quant_reg.prsquared))"
      ],
      "execution_count": 0,
      "outputs": []
    },
    {
      "metadata": {
        "id": "Bz0GmE5kuwQY",
        "colab_type": "code",
        "outputId": "d0205ec3-ea15-4976-e5a8-a7c5e479ba42",
        "colab": {
          "base_uri": "https://localhost:8080/",
          "height": 316
        }
      },
      "cell_type": "code",
      "source": [
        "# Okay, this data seems *extremely* skewed\n",
        "# Let's trying logging\n",
        "import numpy as np\n",
        "\n",
        "df['pm25'] = np.log(1 + df['pm25'])\n",
        "quant_mod = smf.quantreg(quant_formula, data=df)\n",
        "quant_reg = quant_mod.fit(q=.25)\n",
        "quant_reg.summary()  # \"summary\" is another very R-thing"
      ],
      "execution_count": 0,
      "outputs": [
        {
          "output_type": "execute_result",
          "data": {
            "text/html": [
              "<table class=\"simpletable\">\n",
              "<caption>QuantReg Regression Results</caption>\n",
              "<tr>\n",
              "  <th>Dep. Variable:</th>       <td>pm25</td>       <th>  Pseudo R-squared:  </th> <td>  0.2292</td>\n",
              "</tr>\n",
              "<tr>\n",
              "  <th>Model:</th>             <td>QuantReg</td>     <th>  Bandwidth:         </th> <td>  0.1012</td>\n",
              "</tr>\n",
              "<tr>\n",
              "  <th>Method:</th>          <td>Least Squares</td>  <th>  Sparsity:          </th> <td>   2.806</td>\n",
              "</tr>\n",
              "<tr>\n",
              "  <th>Date:</th>          <td>Wed, 23 Jan 2019</td> <th>  No. Observations:  </th>  <td> 41757</td> \n",
              "</tr>\n",
              "<tr>\n",
              "  <th>Time:</th>              <td>17:47:53</td>     <th>  Df Residuals:      </th>  <td> 41751</td> \n",
              "</tr>\n",
              "<tr>\n",
              "  <th> </th>                      <td> </td>        <th>  Df Model:          </th>  <td>     5</td> \n",
              "</tr>\n",
              "</table>\n",
              "<table class=\"simpletable\">\n",
              "<tr>\n",
              "      <td></td>         <th>coef</th>     <th>std err</th>      <th>t</th>      <th>P>|t|</th>  <th>[0.025</th>    <th>0.975]</th>  \n",
              "</tr>\n",
              "<tr>\n",
              "  <th>Intercept</th> <td>    4.2444</td> <td>    0.013</td> <td>  318.116</td> <td> 0.000</td> <td>    4.218</td> <td>    4.271</td>\n",
              "</tr>\n",
              "<tr>\n",
              "  <th>DEWP</th>      <td>    0.0722</td> <td>    0.001</td> <td>   96.780</td> <td> 0.000</td> <td>    0.071</td> <td>    0.074</td>\n",
              "</tr>\n",
              "<tr>\n",
              "  <th>TEMP</th>      <td>   -0.0701</td> <td>    0.001</td> <td>  -83.629</td> <td> 0.000</td> <td>   -0.072</td> <td>   -0.068</td>\n",
              "</tr>\n",
              "<tr>\n",
              "  <th>Ir</th>        <td>   -0.1079</td> <td>    0.004</td> <td>  -29.400</td> <td> 0.000</td> <td>   -0.115</td> <td>   -0.101</td>\n",
              "</tr>\n",
              "<tr>\n",
              "  <th>hour</th>      <td>    0.0215</td> <td>    0.001</td> <td>   23.206</td> <td> 0.000</td> <td>    0.020</td> <td>    0.023</td>\n",
              "</tr>\n",
              "<tr>\n",
              "  <th>Iws</th>       <td>   -0.0040</td> <td>    0.000</td> <td>  -36.706</td> <td> 0.000</td> <td>   -0.004</td> <td>   -0.004</td>\n",
              "</tr>\n",
              "</table>"
            ],
            "text/plain": [
              "<class 'statsmodels.iolib.summary.Summary'>\n",
              "\"\"\"\n",
              "                         QuantReg Regression Results                          \n",
              "==============================================================================\n",
              "Dep. Variable:                   pm25   Pseudo R-squared:               0.2292\n",
              "Model:                       QuantReg   Bandwidth:                      0.1012\n",
              "Method:                 Least Squares   Sparsity:                        2.806\n",
              "Date:                Wed, 23 Jan 2019   No. Observations:                41757\n",
              "Time:                        17:47:53   Df Residuals:                    41751\n",
              "                                        Df Model:                            5\n",
              "==============================================================================\n",
              "                 coef    std err          t      P>|t|      [0.025      0.975]\n",
              "------------------------------------------------------------------------------\n",
              "Intercept      4.2444      0.013    318.116      0.000       4.218       4.271\n",
              "DEWP           0.0722      0.001     96.780      0.000       0.071       0.074\n",
              "TEMP          -0.0701      0.001    -83.629      0.000      -0.072      -0.068\n",
              "Ir            -0.1079      0.004    -29.400      0.000      -0.115      -0.101\n",
              "hour           0.0215      0.001     23.206      0.000       0.020       0.023\n",
              "Iws           -0.0040      0.000    -36.706      0.000      -0.004      -0.004\n",
              "==============================================================================\n",
              "\"\"\""
            ]
          },
          "metadata": {
            "tags": []
          },
          "execution_count": 15
        }
      ]
    },
    {
      "metadata": {
        "id": "8kXcxnNBgizX",
        "colab_type": "text"
      },
      "cell_type": "markdown",
      "source": [
        "Overall - in this case, quantile regression is not *necessarily* superior to linear regression. But it does give us extra flexibility and another thing to tune - what the center of what we're actually fitting in the dependent variable.\n",
        "\n",
        "The basic case of `q=0.5` (the median) minimizes the absolute value of residuals, while OLS minimizes the squared value. By selecting `q=0.25`, we're targeting a lower quantile and are effectively saying that we only want to over-estimate at most 25% of the time - we're being *risk averse*.\n",
        "\n",
        "Depending on the data you're looking at, and the cost of making a false positive versus a false negative, this sort of flexibility can be extremely useful.\n",
        "\n",
        "Live - let's consider another dataset! Specifically, \"SkillCraft\" (data on competitive StarCraft players): http://archive.ics.uci.edu/ml/datasets/SkillCraft1+Master+Table+Dataset"
      ]
    },
    {
      "metadata": {
        "id": "Y9JhBU2B_cMa",
        "colab_type": "text"
      },
      "cell_type": "markdown",
      "source": [
        "#starcranft"
      ]
    },
    {
      "metadata": {
        "id": "ofvwSAZUhWDw",
        "colab_type": "code",
        "outputId": "be48df45-cac6-4820-fec1-f902c0d498a5",
        "colab": {
          "base_uri": "https://localhost:8080/",
          "height": 226
        }
      },
      "cell_type": "code",
      "source": [
        "# TODO Live!\n",
        "# Hint - we may only care about the *top* quantiles here\n",
        "# Another hint - there are missing values, but Pandas won't see them right away\n",
        "\n",
        "import pandas as pd\n",
        "\n",
        "df = pd.read_csv('http://archive.ics.uci.edu/ml/machine-learning-databases/'\n",
        "                 '00272/SkillCraft1_Dataset.csv')\n",
        "df.head()"
      ],
      "execution_count": 0,
      "outputs": [
        {
          "output_type": "execute_result",
          "data": {
            "text/html": [
              "<div>\n",
              "<style scoped>\n",
              "    .dataframe tbody tr th:only-of-type {\n",
              "        vertical-align: middle;\n",
              "    }\n",
              "\n",
              "    .dataframe tbody tr th {\n",
              "        vertical-align: top;\n",
              "    }\n",
              "\n",
              "    .dataframe thead th {\n",
              "        text-align: right;\n",
              "    }\n",
              "</style>\n",
              "<table border=\"1\" class=\"dataframe\">\n",
              "  <thead>\n",
              "    <tr style=\"text-align: right;\">\n",
              "      <th></th>\n",
              "      <th>GameID</th>\n",
              "      <th>LeagueIndex</th>\n",
              "      <th>Age</th>\n",
              "      <th>HoursPerWeek</th>\n",
              "      <th>TotalHours</th>\n",
              "      <th>APM</th>\n",
              "      <th>SelectByHotkeys</th>\n",
              "      <th>AssignToHotkeys</th>\n",
              "      <th>UniqueHotkeys</th>\n",
              "      <th>MinimapAttacks</th>\n",
              "      <th>MinimapRightClicks</th>\n",
              "      <th>NumberOfPACs</th>\n",
              "      <th>GapBetweenPACs</th>\n",
              "      <th>ActionLatency</th>\n",
              "      <th>ActionsInPAC</th>\n",
              "      <th>TotalMapExplored</th>\n",
              "      <th>WorkersMade</th>\n",
              "      <th>UniqueUnitsMade</th>\n",
              "      <th>ComplexUnitsMade</th>\n",
              "      <th>ComplexAbilitiesUsed</th>\n",
              "    </tr>\n",
              "  </thead>\n",
              "  <tbody>\n",
              "    <tr>\n",
              "      <th>0</th>\n",
              "      <td>52</td>\n",
              "      <td>5</td>\n",
              "      <td>27</td>\n",
              "      <td>10</td>\n",
              "      <td>3000</td>\n",
              "      <td>143.7180</td>\n",
              "      <td>0.003515</td>\n",
              "      <td>0.000220</td>\n",
              "      <td>7</td>\n",
              "      <td>0.000110</td>\n",
              "      <td>0.000392</td>\n",
              "      <td>0.004849</td>\n",
              "      <td>32.6677</td>\n",
              "      <td>40.8673</td>\n",
              "      <td>4.7508</td>\n",
              "      <td>28</td>\n",
              "      <td>0.001397</td>\n",
              "      <td>6</td>\n",
              "      <td>0.0</td>\n",
              "      <td>0.000000</td>\n",
              "    </tr>\n",
              "    <tr>\n",
              "      <th>1</th>\n",
              "      <td>55</td>\n",
              "      <td>5</td>\n",
              "      <td>23</td>\n",
              "      <td>10</td>\n",
              "      <td>5000</td>\n",
              "      <td>129.2322</td>\n",
              "      <td>0.003304</td>\n",
              "      <td>0.000259</td>\n",
              "      <td>4</td>\n",
              "      <td>0.000294</td>\n",
              "      <td>0.000432</td>\n",
              "      <td>0.004307</td>\n",
              "      <td>32.9194</td>\n",
              "      <td>42.3454</td>\n",
              "      <td>4.8434</td>\n",
              "      <td>22</td>\n",
              "      <td>0.001194</td>\n",
              "      <td>5</td>\n",
              "      <td>0.0</td>\n",
              "      <td>0.000208</td>\n",
              "    </tr>\n",
              "    <tr>\n",
              "      <th>2</th>\n",
              "      <td>56</td>\n",
              "      <td>4</td>\n",
              "      <td>30</td>\n",
              "      <td>10</td>\n",
              "      <td>200</td>\n",
              "      <td>69.9612</td>\n",
              "      <td>0.001101</td>\n",
              "      <td>0.000336</td>\n",
              "      <td>4</td>\n",
              "      <td>0.000294</td>\n",
              "      <td>0.000461</td>\n",
              "      <td>0.002926</td>\n",
              "      <td>44.6475</td>\n",
              "      <td>75.3548</td>\n",
              "      <td>4.0430</td>\n",
              "      <td>22</td>\n",
              "      <td>0.000745</td>\n",
              "      <td>6</td>\n",
              "      <td>0.0</td>\n",
              "      <td>0.000189</td>\n",
              "    </tr>\n",
              "    <tr>\n",
              "      <th>3</th>\n",
              "      <td>57</td>\n",
              "      <td>3</td>\n",
              "      <td>19</td>\n",
              "      <td>20</td>\n",
              "      <td>400</td>\n",
              "      <td>107.6016</td>\n",
              "      <td>0.001034</td>\n",
              "      <td>0.000213</td>\n",
              "      <td>1</td>\n",
              "      <td>0.000053</td>\n",
              "      <td>0.000543</td>\n",
              "      <td>0.003783</td>\n",
              "      <td>29.2203</td>\n",
              "      <td>53.7352</td>\n",
              "      <td>4.9155</td>\n",
              "      <td>19</td>\n",
              "      <td>0.000426</td>\n",
              "      <td>7</td>\n",
              "      <td>0.0</td>\n",
              "      <td>0.000384</td>\n",
              "    </tr>\n",
              "    <tr>\n",
              "      <th>4</th>\n",
              "      <td>58</td>\n",
              "      <td>3</td>\n",
              "      <td>32</td>\n",
              "      <td>10</td>\n",
              "      <td>500</td>\n",
              "      <td>122.8908</td>\n",
              "      <td>0.001136</td>\n",
              "      <td>0.000327</td>\n",
              "      <td>2</td>\n",
              "      <td>0.000000</td>\n",
              "      <td>0.001329</td>\n",
              "      <td>0.002368</td>\n",
              "      <td>22.6885</td>\n",
              "      <td>62.0813</td>\n",
              "      <td>9.3740</td>\n",
              "      <td>15</td>\n",
              "      <td>0.001174</td>\n",
              "      <td>4</td>\n",
              "      <td>0.0</td>\n",
              "      <td>0.000019</td>\n",
              "    </tr>\n",
              "  </tbody>\n",
              "</table>\n",
              "</div>"
            ],
            "text/plain": [
              "   GameID  LeagueIndex Age HoursPerWeek TotalHours       APM  SelectByHotkeys  \\\n",
              "0      52            5  27           10       3000  143.7180         0.003515   \n",
              "1      55            5  23           10       5000  129.2322         0.003304   \n",
              "2      56            4  30           10        200   69.9612         0.001101   \n",
              "3      57            3  19           20        400  107.6016         0.001034   \n",
              "4      58            3  32           10        500  122.8908         0.001136   \n",
              "\n",
              "   AssignToHotkeys  UniqueHotkeys  MinimapAttacks  MinimapRightClicks  \\\n",
              "0         0.000220              7        0.000110            0.000392   \n",
              "1         0.000259              4        0.000294            0.000432   \n",
              "2         0.000336              4        0.000294            0.000461   \n",
              "3         0.000213              1        0.000053            0.000543   \n",
              "4         0.000327              2        0.000000            0.001329   \n",
              "\n",
              "   NumberOfPACs  GapBetweenPACs  ActionLatency  ActionsInPAC  \\\n",
              "0      0.004849         32.6677        40.8673        4.7508   \n",
              "1      0.004307         32.9194        42.3454        4.8434   \n",
              "2      0.002926         44.6475        75.3548        4.0430   \n",
              "3      0.003783         29.2203        53.7352        4.9155   \n",
              "4      0.002368         22.6885        62.0813        9.3740   \n",
              "\n",
              "   TotalMapExplored  WorkersMade  UniqueUnitsMade  ComplexUnitsMade  \\\n",
              "0                28     0.001397                6               0.0   \n",
              "1                22     0.001194                5               0.0   \n",
              "2                22     0.000745                6               0.0   \n",
              "3                19     0.000426                7               0.0   \n",
              "4                15     0.001174                4               0.0   \n",
              "\n",
              "   ComplexAbilitiesUsed  \n",
              "0              0.000000  \n",
              "1              0.000208  \n",
              "2              0.000189  \n",
              "3              0.000384  \n",
              "4              0.000019  "
            ]
          },
          "metadata": {
            "tags": []
          },
          "execution_count": 27
        }
      ]
    },
    {
      "metadata": {
        "id": "xWXVRHL18imt",
        "colab_type": "code",
        "outputId": "a2336160-4e13-416b-8d58-dbdae6410148",
        "colab": {
          "base_uri": "https://localhost:8080/",
          "height": 34
        }
      },
      "cell_type": "code",
      "source": [
        "df.shape"
      ],
      "execution_count": 0,
      "outputs": [
        {
          "output_type": "execute_result",
          "data": {
            "text/plain": [
              "(3395, 20)"
            ]
          },
          "metadata": {
            "tags": []
          },
          "execution_count": 28
        }
      ]
    },
    {
      "metadata": {
        "id": "dU-LofZo8leg",
        "colab_type": "code",
        "outputId": "9c58c393-175f-4f42-c570-0e93b5691e1a",
        "colab": {
          "base_uri": "https://localhost:8080/",
          "height": 382
        }
      },
      "cell_type": "code",
      "source": [
        "df.isna().sum()"
      ],
      "execution_count": 0,
      "outputs": [
        {
          "output_type": "execute_result",
          "data": {
            "text/plain": [
              "GameID                  0\n",
              "LeagueIndex             0\n",
              "Age                     0\n",
              "HoursPerWeek            0\n",
              "TotalHours              0\n",
              "APM                     0\n",
              "SelectByHotkeys         0\n",
              "AssignToHotkeys         0\n",
              "UniqueHotkeys           0\n",
              "MinimapAttacks          0\n",
              "MinimapRightClicks      0\n",
              "NumberOfPACs            0\n",
              "GapBetweenPACs          0\n",
              "ActionLatency           0\n",
              "ActionsInPAC            0\n",
              "TotalMapExplored        0\n",
              "WorkersMade             0\n",
              "UniqueUnitsMade         0\n",
              "ComplexUnitsMade        0\n",
              "ComplexAbilitiesUsed    0\n",
              "dtype: int64"
            ]
          },
          "metadata": {
            "tags": []
          },
          "execution_count": 29
        }
      ]
    },
    {
      "metadata": {
        "id": "IOCXPx1i8ppS",
        "colab_type": "code",
        "outputId": "786687d2-339c-45eb-9b69-909cea1bb344",
        "colab": {
          "base_uri": "https://localhost:8080/",
          "height": 382
        }
      },
      "cell_type": "code",
      "source": [
        "import numpy as np\n",
        "df = df.replace('?', np.nan)\n",
        "df.isna().sum()"
      ],
      "execution_count": 0,
      "outputs": [
        {
          "output_type": "execute_result",
          "data": {
            "text/plain": [
              "GameID                   0\n",
              "LeagueIndex              0\n",
              "Age                     55\n",
              "HoursPerWeek            56\n",
              "TotalHours              57\n",
              "APM                      0\n",
              "SelectByHotkeys          0\n",
              "AssignToHotkeys          0\n",
              "UniqueHotkeys            0\n",
              "MinimapAttacks           0\n",
              "MinimapRightClicks       0\n",
              "NumberOfPACs             0\n",
              "GapBetweenPACs           0\n",
              "ActionLatency            0\n",
              "ActionsInPAC             0\n",
              "TotalMapExplored         0\n",
              "WorkersMade              0\n",
              "UniqueUnitsMade          0\n",
              "ComplexUnitsMade         0\n",
              "ComplexAbilitiesUsed     0\n",
              "dtype: int64"
            ]
          },
          "metadata": {
            "tags": []
          },
          "execution_count": 30
        }
      ]
    },
    {
      "metadata": {
        "id": "hJcVhajW9voD",
        "colab_type": "code",
        "colab": {}
      },
      "cell_type": "code",
      "source": [
        "# Quinn's cleaning code\n",
        "hasna = ['Age', 'HoursPerWeek', 'TotalHours']\n",
        "\n",
        "for feat in hasna:\n",
        "   df[feat] = pd.to_numeric(df[feat])\n",
        "#df[hasna].head()"
      ],
      "execution_count": 0,
      "outputs": []
    },
    {
      "metadata": {
        "id": "6rZVRcbW8y43",
        "colab_type": "code",
        "outputId": "d6c4e536-09d3-4c64-c6b5-d81d41533303",
        "colab": {
          "base_uri": "https://localhost:8080/",
          "height": 320
        }
      },
      "cell_type": "code",
      "source": [
        "df.describe()"
      ],
      "execution_count": 0,
      "outputs": [
        {
          "output_type": "execute_result",
          "data": {
            "text/html": [
              "<div>\n",
              "<style scoped>\n",
              "    .dataframe tbody tr th:only-of-type {\n",
              "        vertical-align: middle;\n",
              "    }\n",
              "\n",
              "    .dataframe tbody tr th {\n",
              "        vertical-align: top;\n",
              "    }\n",
              "\n",
              "    .dataframe thead th {\n",
              "        text-align: right;\n",
              "    }\n",
              "</style>\n",
              "<table border=\"1\" class=\"dataframe\">\n",
              "  <thead>\n",
              "    <tr style=\"text-align: right;\">\n",
              "      <th></th>\n",
              "      <th>GameID</th>\n",
              "      <th>LeagueIndex</th>\n",
              "      <th>Age</th>\n",
              "      <th>HoursPerWeek</th>\n",
              "      <th>TotalHours</th>\n",
              "      <th>APM</th>\n",
              "      <th>SelectByHotkeys</th>\n",
              "      <th>AssignToHotkeys</th>\n",
              "      <th>UniqueHotkeys</th>\n",
              "      <th>MinimapAttacks</th>\n",
              "      <th>MinimapRightClicks</th>\n",
              "      <th>NumberOfPACs</th>\n",
              "      <th>GapBetweenPACs</th>\n",
              "      <th>ActionLatency</th>\n",
              "      <th>ActionsInPAC</th>\n",
              "      <th>TotalMapExplored</th>\n",
              "      <th>WorkersMade</th>\n",
              "      <th>UniqueUnitsMade</th>\n",
              "      <th>ComplexUnitsMade</th>\n",
              "      <th>ComplexAbilitiesUsed</th>\n",
              "    </tr>\n",
              "  </thead>\n",
              "  <tbody>\n",
              "    <tr>\n",
              "      <th>count</th>\n",
              "      <td>3395.000000</td>\n",
              "      <td>3395.000000</td>\n",
              "      <td>3340.000000</td>\n",
              "      <td>3339.000000</td>\n",
              "      <td>3338.000000</td>\n",
              "      <td>3395.000000</td>\n",
              "      <td>3395.000000</td>\n",
              "      <td>3395.000000</td>\n",
              "      <td>3395.000000</td>\n",
              "      <td>3395.000000</td>\n",
              "      <td>3395.000000</td>\n",
              "      <td>3395.000000</td>\n",
              "      <td>3395.000000</td>\n",
              "      <td>3395.000000</td>\n",
              "      <td>3395.000000</td>\n",
              "      <td>3395.000000</td>\n",
              "      <td>3395.000000</td>\n",
              "      <td>3395.000000</td>\n",
              "      <td>3395.000000</td>\n",
              "      <td>3395.000000</td>\n",
              "    </tr>\n",
              "    <tr>\n",
              "      <th>mean</th>\n",
              "      <td>4805.012371</td>\n",
              "      <td>4.184094</td>\n",
              "      <td>21.647904</td>\n",
              "      <td>15.910752</td>\n",
              "      <td>960.421809</td>\n",
              "      <td>117.046947</td>\n",
              "      <td>0.004299</td>\n",
              "      <td>0.000374</td>\n",
              "      <td>4.364654</td>\n",
              "      <td>0.000098</td>\n",
              "      <td>0.000387</td>\n",
              "      <td>0.003463</td>\n",
              "      <td>40.361562</td>\n",
              "      <td>63.739403</td>\n",
              "      <td>5.272988</td>\n",
              "      <td>22.131664</td>\n",
              "      <td>0.001032</td>\n",
              "      <td>6.534021</td>\n",
              "      <td>0.000059</td>\n",
              "      <td>0.000142</td>\n",
              "    </tr>\n",
              "    <tr>\n",
              "      <th>std</th>\n",
              "      <td>2719.944851</td>\n",
              "      <td>1.517327</td>\n",
              "      <td>4.206341</td>\n",
              "      <td>11.962912</td>\n",
              "      <td>17318.133922</td>\n",
              "      <td>51.945291</td>\n",
              "      <td>0.005284</td>\n",
              "      <td>0.000225</td>\n",
              "      <td>2.360333</td>\n",
              "      <td>0.000166</td>\n",
              "      <td>0.000377</td>\n",
              "      <td>0.000992</td>\n",
              "      <td>17.153570</td>\n",
              "      <td>19.238869</td>\n",
              "      <td>1.494835</td>\n",
              "      <td>7.431719</td>\n",
              "      <td>0.000519</td>\n",
              "      <td>1.857697</td>\n",
              "      <td>0.000111</td>\n",
              "      <td>0.000265</td>\n",
              "    </tr>\n",
              "    <tr>\n",
              "      <th>min</th>\n",
              "      <td>52.000000</td>\n",
              "      <td>1.000000</td>\n",
              "      <td>16.000000</td>\n",
              "      <td>0.000000</td>\n",
              "      <td>3.000000</td>\n",
              "      <td>22.059600</td>\n",
              "      <td>0.000000</td>\n",
              "      <td>0.000000</td>\n",
              "      <td>0.000000</td>\n",
              "      <td>0.000000</td>\n",
              "      <td>0.000000</td>\n",
              "      <td>0.000679</td>\n",
              "      <td>6.666700</td>\n",
              "      <td>24.093600</td>\n",
              "      <td>2.038900</td>\n",
              "      <td>5.000000</td>\n",
              "      <td>0.000077</td>\n",
              "      <td>2.000000</td>\n",
              "      <td>0.000000</td>\n",
              "      <td>0.000000</td>\n",
              "    </tr>\n",
              "    <tr>\n",
              "      <th>25%</th>\n",
              "      <td>2464.500000</td>\n",
              "      <td>3.000000</td>\n",
              "      <td>19.000000</td>\n",
              "      <td>8.000000</td>\n",
              "      <td>300.000000</td>\n",
              "      <td>79.900200</td>\n",
              "      <td>0.001258</td>\n",
              "      <td>0.000204</td>\n",
              "      <td>3.000000</td>\n",
              "      <td>0.000000</td>\n",
              "      <td>0.000140</td>\n",
              "      <td>0.002754</td>\n",
              "      <td>28.957750</td>\n",
              "      <td>50.446600</td>\n",
              "      <td>4.272850</td>\n",
              "      <td>17.000000</td>\n",
              "      <td>0.000683</td>\n",
              "      <td>5.000000</td>\n",
              "      <td>0.000000</td>\n",
              "      <td>0.000000</td>\n",
              "    </tr>\n",
              "    <tr>\n",
              "      <th>50%</th>\n",
              "      <td>4874.000000</td>\n",
              "      <td>4.000000</td>\n",
              "      <td>21.000000</td>\n",
              "      <td>12.000000</td>\n",
              "      <td>500.000000</td>\n",
              "      <td>108.010200</td>\n",
              "      <td>0.002500</td>\n",
              "      <td>0.000353</td>\n",
              "      <td>4.000000</td>\n",
              "      <td>0.000040</td>\n",
              "      <td>0.000281</td>\n",
              "      <td>0.003395</td>\n",
              "      <td>36.723500</td>\n",
              "      <td>60.931800</td>\n",
              "      <td>5.095500</td>\n",
              "      <td>22.000000</td>\n",
              "      <td>0.000905</td>\n",
              "      <td>6.000000</td>\n",
              "      <td>0.000000</td>\n",
              "      <td>0.000020</td>\n",
              "    </tr>\n",
              "    <tr>\n",
              "      <th>75%</th>\n",
              "      <td>7108.500000</td>\n",
              "      <td>5.000000</td>\n",
              "      <td>24.000000</td>\n",
              "      <td>20.000000</td>\n",
              "      <td>800.000000</td>\n",
              "      <td>142.790400</td>\n",
              "      <td>0.005133</td>\n",
              "      <td>0.000499</td>\n",
              "      <td>6.000000</td>\n",
              "      <td>0.000119</td>\n",
              "      <td>0.000514</td>\n",
              "      <td>0.004027</td>\n",
              "      <td>48.290500</td>\n",
              "      <td>73.681300</td>\n",
              "      <td>6.033600</td>\n",
              "      <td>27.000000</td>\n",
              "      <td>0.001259</td>\n",
              "      <td>8.000000</td>\n",
              "      <td>0.000086</td>\n",
              "      <td>0.000181</td>\n",
              "    </tr>\n",
              "    <tr>\n",
              "      <th>max</th>\n",
              "      <td>10095.000000</td>\n",
              "      <td>8.000000</td>\n",
              "      <td>44.000000</td>\n",
              "      <td>168.000000</td>\n",
              "      <td>1000000.000000</td>\n",
              "      <td>389.831400</td>\n",
              "      <td>0.043088</td>\n",
              "      <td>0.001752</td>\n",
              "      <td>10.000000</td>\n",
              "      <td>0.003019</td>\n",
              "      <td>0.004041</td>\n",
              "      <td>0.007971</td>\n",
              "      <td>237.142900</td>\n",
              "      <td>176.372100</td>\n",
              "      <td>18.558100</td>\n",
              "      <td>58.000000</td>\n",
              "      <td>0.005149</td>\n",
              "      <td>13.000000</td>\n",
              "      <td>0.000902</td>\n",
              "      <td>0.003084</td>\n",
              "    </tr>\n",
              "  </tbody>\n",
              "</table>\n",
              "</div>"
            ],
            "text/plain": [
              "             GameID  LeagueIndex          Age  HoursPerWeek      TotalHours  \\\n",
              "count   3395.000000  3395.000000  3340.000000   3339.000000     3338.000000   \n",
              "mean    4805.012371     4.184094    21.647904     15.910752      960.421809   \n",
              "std     2719.944851     1.517327     4.206341     11.962912    17318.133922   \n",
              "min       52.000000     1.000000    16.000000      0.000000        3.000000   \n",
              "25%     2464.500000     3.000000    19.000000      8.000000      300.000000   \n",
              "50%     4874.000000     4.000000    21.000000     12.000000      500.000000   \n",
              "75%     7108.500000     5.000000    24.000000     20.000000      800.000000   \n",
              "max    10095.000000     8.000000    44.000000    168.000000  1000000.000000   \n",
              "\n",
              "               APM  SelectByHotkeys  AssignToHotkeys  UniqueHotkeys  \\\n",
              "count  3395.000000      3395.000000      3395.000000    3395.000000   \n",
              "mean    117.046947         0.004299         0.000374       4.364654   \n",
              "std      51.945291         0.005284         0.000225       2.360333   \n",
              "min      22.059600         0.000000         0.000000       0.000000   \n",
              "25%      79.900200         0.001258         0.000204       3.000000   \n",
              "50%     108.010200         0.002500         0.000353       4.000000   \n",
              "75%     142.790400         0.005133         0.000499       6.000000   \n",
              "max     389.831400         0.043088         0.001752      10.000000   \n",
              "\n",
              "       MinimapAttacks  MinimapRightClicks  NumberOfPACs  GapBetweenPACs  \\\n",
              "count     3395.000000         3395.000000   3395.000000     3395.000000   \n",
              "mean         0.000098            0.000387      0.003463       40.361562   \n",
              "std          0.000166            0.000377      0.000992       17.153570   \n",
              "min          0.000000            0.000000      0.000679        6.666700   \n",
              "25%          0.000000            0.000140      0.002754       28.957750   \n",
              "50%          0.000040            0.000281      0.003395       36.723500   \n",
              "75%          0.000119            0.000514      0.004027       48.290500   \n",
              "max          0.003019            0.004041      0.007971      237.142900   \n",
              "\n",
              "       ActionLatency  ActionsInPAC  TotalMapExplored  WorkersMade  \\\n",
              "count    3395.000000   3395.000000       3395.000000  3395.000000   \n",
              "mean       63.739403      5.272988         22.131664     0.001032   \n",
              "std        19.238869      1.494835          7.431719     0.000519   \n",
              "min        24.093600      2.038900          5.000000     0.000077   \n",
              "25%        50.446600      4.272850         17.000000     0.000683   \n",
              "50%        60.931800      5.095500         22.000000     0.000905   \n",
              "75%        73.681300      6.033600         27.000000     0.001259   \n",
              "max       176.372100     18.558100         58.000000     0.005149   \n",
              "\n",
              "       UniqueUnitsMade  ComplexUnitsMade  ComplexAbilitiesUsed  \n",
              "count      3395.000000       3395.000000           3395.000000  \n",
              "mean          6.534021          0.000059              0.000142  \n",
              "std           1.857697          0.000111              0.000265  \n",
              "min           2.000000          0.000000              0.000000  \n",
              "25%           5.000000          0.000000              0.000000  \n",
              "50%           6.000000          0.000000              0.000020  \n",
              "75%           8.000000          0.000086              0.000181  \n",
              "max          13.000000          0.000902              0.003084  "
            ]
          },
          "metadata": {
            "tags": []
          },
          "execution_count": 32
        }
      ]
    },
    {
      "metadata": {
        "id": "X3ZUVDBG9L89",
        "colab_type": "code",
        "outputId": "8b03630e-7338-481f-db8a-4a5a796281fb",
        "colab": {
          "base_uri": "https://localhost:8080/",
          "height": 382
        }
      },
      "cell_type": "code",
      "source": [
        "df.dtypes"
      ],
      "execution_count": 0,
      "outputs": [
        {
          "output_type": "execute_result",
          "data": {
            "text/plain": [
              "GameID                    int64\n",
              "LeagueIndex               int64\n",
              "Age                      object\n",
              "HoursPerWeek             object\n",
              "TotalHours               object\n",
              "APM                     float64\n",
              "SelectByHotkeys         float64\n",
              "AssignToHotkeys         float64\n",
              "UniqueHotkeys             int64\n",
              "MinimapAttacks          float64\n",
              "MinimapRightClicks      float64\n",
              "NumberOfPACs            float64\n",
              "GapBetweenPACs          float64\n",
              "ActionLatency           float64\n",
              "ActionsInPAC            float64\n",
              "TotalMapExplored          int64\n",
              "WorkersMade             float64\n",
              "UniqueUnitsMade           int64\n",
              "ComplexUnitsMade        float64\n",
              "ComplexAbilitiesUsed    float64\n",
              "dtype: object"
            ]
          },
          "metadata": {
            "tags": []
          },
          "execution_count": 23
        }
      ]
    },
    {
      "metadata": {
        "id": "c8HPGuB49WYU",
        "colab_type": "code",
        "outputId": "2ec05665-0ae3-44cc-cd56-7ea2850b7cf9",
        "colab": {
          "base_uri": "https://localhost:8080/",
          "height": 34
        }
      },
      "cell_type": "code",
      "source": [
        "# How does linear regression handle it? Courtesy of Daniel\n",
        "from sklearn.linear_model import LinearRegression\n",
        "import statsmodels.formula.api as smf\n",
        "# Let's drop NAs and limit to numeric values\n",
        "df = df._get_numeric_data().dropna()\n",
        "X = df.drop('APM', axis='columns')\n",
        "y = df['APM']\n",
        "\n",
        "linear_reg = LinearRegression().fit(X, y)\n",
        "linear_reg.score(X, y)"
      ],
      "execution_count": 0,
      "outputs": [
        {
          "output_type": "execute_result",
          "data": {
            "text/plain": [
              "0.9727919594327304"
            ]
          },
          "metadata": {
            "tags": []
          },
          "execution_count": 35
        }
      ]
    },
    {
      "metadata": {
        "id": "q_AWFmKB_hOW",
        "colab_type": "code",
        "outputId": "5a64194c-197f-41b0-ee13-45e3993cbd1a",
        "colab": {
          "base_uri": "https://localhost:8080/",
          "height": 347
        }
      },
      "cell_type": "code",
      "source": [
        "for name, coef in zip(X.columns, linear_reg.coef_):\n",
        "  print(name, coef)"
      ],
      "execution_count": 0,
      "outputs": [
        {
          "output_type": "stream",
          "text": [
            "GameID 5.6721525875017124e-05\n",
            "LeagueIndex -0.17025706089711906\n",
            "Age -0.1255396800327562\n",
            "HoursPerWeek -0.007084891488397346\n",
            "TotalHours 6.181852927507429e-06\n",
            "SelectByHotkeys 5530.168863103678\n",
            "AssignToHotkeys -948.4647097091305\n",
            "UniqueHotkeys 0.13583102775973996\n",
            "MinimapAttacks 2972.11713661456\n",
            "MinimapRightClicks 4053.6799567315898\n",
            "NumberOfPACs 23408.13583534949\n",
            "GapBetweenPACs -0.013256821980193232\n",
            "ActionLatency -0.17291643312034718\n",
            "ActionsInPAC 12.798743815559357\n",
            "TotalMapExplored 0.01939336984054402\n",
            "WorkersMade 2699.774992506199\n",
            "UniqueUnitsMade -0.3208898754951155\n",
            "ComplexUnitsMade 1538.092153791031\n",
            "ComplexAbilitiesUsed -3127.832963745431\n"
          ],
          "name": "stdout"
        }
      ]
    },
    {
      "metadata": {
        "id": "7dlWiKh5AMvV",
        "colab_type": "code",
        "outputId": "22276b9f-0775-4729-d400-d14d8abeb787",
        "colab": {
          "base_uri": "https://localhost:8080/",
          "height": 156
        }
      },
      "cell_type": "code",
      "source": [
        "df.LeagueIndex.value_counts()"
      ],
      "execution_count": 0,
      "outputs": [
        {
          "output_type": "execute_result",
          "data": {
            "text/plain": [
              "4    811\n",
              "5    804\n",
              "6    621\n",
              "3    553\n",
              "2    347\n",
              "1    167\n",
              "7     35\n",
              "Name: LeagueIndex, dtype: int64"
            ]
          },
          "metadata": {
            "tags": []
          },
          "execution_count": 44
        }
      ]
    },
    {
      "metadata": {
        "id": "2sZkjxfl9qA-",
        "colab_type": "code",
        "outputId": "d6ff85f8-4097-45fe-c477-c469cb9c61f2",
        "colab": {
          "base_uri": "https://localhost:8080/",
          "height": 670
        }
      },
      "cell_type": "code",
      "source": [
        "# Let's say we want to answer \"What are the fastest 10% of SC players like?\"\n",
        "# That means quantile regression with q=0.9\n",
        "\n",
        "# First we need a formula, with our friend twiddle\n",
        "quant_formula = 'APM ~ ' + ' + '.join(df.drop('APM', axis='columns').columns)\n",
        "\n",
        "# From Daniel\n",
        "quant_mod = smf.quantreg(quant_formula, data=df)\n",
        "quant_reg = quant_mod.fit(q=.9)\n",
        "quant_reg.summary()"
      ],
      "execution_count": 0,
      "outputs": [
        {
          "output_type": "stream",
          "text": [
            "/usr/local/lib/python3.6/dist-packages/statsmodels/regression/quantile_regression.py:193: IterationLimitWarning: Maximum number of iterations (1000) reached.\n",
            "  \") reached.\", IterationLimitWarning)\n"
          ],
          "name": "stderr"
        },
        {
          "output_type": "execute_result",
          "data": {
            "text/html": [
              "<table class=\"simpletable\">\n",
              "<caption>QuantReg Regression Results</caption>\n",
              "<tr>\n",
              "  <th>Dep. Variable:</th>        <td>APM</td>       <th>  Pseudo R-squared:  </th> <td>  0.4076</td>\n",
              "</tr>\n",
              "<tr>\n",
              "  <th>Model:</th>             <td>QuantReg</td>     <th>  Bandwidth:         </th> <td>   6.911</td>\n",
              "</tr>\n",
              "<tr>\n",
              "  <th>Method:</th>          <td>Least Squares</td>  <th>  Sparsity:          </th> <td>   179.3</td>\n",
              "</tr>\n",
              "<tr>\n",
              "  <th>Date:</th>          <td>Wed, 23 Jan 2019</td> <th>  No. Observations:  </th>  <td>  3338</td> \n",
              "</tr>\n",
              "<tr>\n",
              "  <th>Time:</th>              <td>18:31:57</td>     <th>  Df Residuals:      </th>  <td>  3318</td> \n",
              "</tr>\n",
              "<tr>\n",
              "  <th> </th>                      <td> </td>        <th>  Df Model:          </th>  <td>    19</td> \n",
              "</tr>\n",
              "</table>\n",
              "<table class=\"simpletable\">\n",
              "<tr>\n",
              "            <td></td>              <th>coef</th>     <th>std err</th>      <th>t</th>      <th>P>|t|</th>  <th>[0.025</th>    <th>0.975]</th>  \n",
              "</tr>\n",
              "<tr>\n",
              "  <th>Intercept</th>            <td>    0.1786</td> <td>   22.328</td> <td>    0.008</td> <td> 0.994</td> <td>  -43.599</td> <td>   43.956</td>\n",
              "</tr>\n",
              "<tr>\n",
              "  <th>GameID</th>               <td>    0.0016</td> <td>    0.000</td> <td>    4.316</td> <td> 0.000</td> <td>    0.001</td> <td>    0.002</td>\n",
              "</tr>\n",
              "<tr>\n",
              "  <th>LeagueIndex</th>          <td>   13.8712</td> <td>    1.115</td> <td>   12.443</td> <td> 0.000</td> <td>   11.685</td> <td>   16.057</td>\n",
              "</tr>\n",
              "<tr>\n",
              "  <th>Age</th>                  <td>    0.5439</td> <td>    0.242</td> <td>    2.252</td> <td> 0.024</td> <td>    0.070</td> <td>    1.017</td>\n",
              "</tr>\n",
              "<tr>\n",
              "  <th>HoursPerWeek</th>         <td>    0.6801</td> <td>    0.072</td> <td>    9.432</td> <td> 0.000</td> <td>    0.539</td> <td>    0.821</td>\n",
              "</tr>\n",
              "<tr>\n",
              "  <th>TotalHours</th>           <td> 7.858e-05</td> <td> 2.16e-05</td> <td>    3.645</td> <td> 0.000</td> <td> 3.63e-05</td> <td>    0.000</td>\n",
              "</tr>\n",
              "<tr>\n",
              "  <th>SelectByHotkeys</th>      <td>    0.0433</td> <td>  564.600</td> <td> 7.67e-05</td> <td> 1.000</td> <td>-1106.956</td> <td> 1107.042</td>\n",
              "</tr>\n",
              "<tr>\n",
              "  <th>AssignToHotkeys</th>      <td> 8.993e-05</td> <td>  153.980</td> <td> 5.84e-07</td> <td> 1.000</td> <td> -301.906</td> <td>  301.906</td>\n",
              "</tr>\n",
              "<tr>\n",
              "  <th>UniqueHotkeys</th>        <td>    3.5928</td> <td>    0.461</td> <td>    7.801</td> <td> 0.000</td> <td>    2.690</td> <td>    4.496</td>\n",
              "</tr>\n",
              "<tr>\n",
              "  <th>MinimapAttacks</th>       <td>    0.0001</td> <td>  229.321</td> <td> 5.63e-07</td> <td> 1.000</td> <td> -449.624</td> <td>  449.625</td>\n",
              "</tr>\n",
              "<tr>\n",
              "  <th>MinimapRightClicks</th>   <td>    0.0027</td> <td> 2886.156</td> <td> 9.21e-07</td> <td> 1.000</td> <td>-5658.823</td> <td> 5658.828</td>\n",
              "</tr>\n",
              "<tr>\n",
              "  <th>NumberOfPACs</th>         <td>   -0.0021</td> <td> 3483.391</td> <td>-5.96e-07</td> <td> 1.000</td> <td>-6829.815</td> <td> 6829.811</td>\n",
              "</tr>\n",
              "<tr>\n",
              "  <th>GapBetweenPACs</th>       <td>    0.2392</td> <td>    0.078</td> <td>    3.060</td> <td> 0.002</td> <td>    0.086</td> <td>    0.393</td>\n",
              "</tr>\n",
              "<tr>\n",
              "  <th>ActionLatency</th>        <td>   -0.8386</td> <td>    0.160</td> <td>   -5.225</td> <td> 0.000</td> <td>   -1.153</td> <td>   -0.524</td>\n",
              "</tr>\n",
              "<tr>\n",
              "  <th>ActionsInPAC</th>         <td>   15.1596</td> <td>    0.938</td> <td>   16.164</td> <td> 0.000</td> <td>   13.321</td> <td>   16.998</td>\n",
              "</tr>\n",
              "<tr>\n",
              "  <th>TotalMapExplored</th>     <td>    0.8265</td> <td>    0.162</td> <td>    5.109</td> <td> 0.000</td> <td>    0.509</td> <td>    1.144</td>\n",
              "</tr>\n",
              "<tr>\n",
              "  <th>WorkersMade</th>          <td>    0.0006</td> <td> 1991.420</td> <td> 3.05e-07</td> <td> 1.000</td> <td>-3904.535</td> <td> 3904.536</td>\n",
              "</tr>\n",
              "<tr>\n",
              "  <th>UniqueUnitsMade</th>      <td>   -1.3534</td> <td>    0.633</td> <td>   -2.139</td> <td> 0.033</td> <td>   -2.594</td> <td>   -0.113</td>\n",
              "</tr>\n",
              "<tr>\n",
              "  <th>ComplexUnitsMade</th>     <td>   -0.0002</td> <td>   72.101</td> <td>   -3e-06</td> <td> 1.000</td> <td> -141.368</td> <td>  141.367</td>\n",
              "</tr>\n",
              "<tr>\n",
              "  <th>ComplexAbilitiesUsed</th> <td>-2.925e-05</td> <td>   61.714</td> <td>-4.74e-07</td> <td> 1.000</td> <td> -121.002</td> <td>  121.001</td>\n",
              "</tr>\n",
              "</table>"
            ],
            "text/plain": [
              "<class 'statsmodels.iolib.summary.Summary'>\n",
              "\"\"\"\n",
              "                         QuantReg Regression Results                          \n",
              "==============================================================================\n",
              "Dep. Variable:                    APM   Pseudo R-squared:               0.4076\n",
              "Model:                       QuantReg   Bandwidth:                       6.911\n",
              "Method:                 Least Squares   Sparsity:                        179.3\n",
              "Date:                Wed, 23 Jan 2019   No. Observations:                 3338\n",
              "Time:                        18:31:57   Df Residuals:                     3318\n",
              "                                        Df Model:                           19\n",
              "========================================================================================\n",
              "                           coef    std err          t      P>|t|      [0.025      0.975]\n",
              "----------------------------------------------------------------------------------------\n",
              "Intercept                0.1786     22.328      0.008      0.994     -43.599      43.956\n",
              "GameID                   0.0016      0.000      4.316      0.000       0.001       0.002\n",
              "LeagueIndex             13.8712      1.115     12.443      0.000      11.685      16.057\n",
              "Age                      0.5439      0.242      2.252      0.024       0.070       1.017\n",
              "HoursPerWeek             0.6801      0.072      9.432      0.000       0.539       0.821\n",
              "TotalHours            7.858e-05   2.16e-05      3.645      0.000    3.63e-05       0.000\n",
              "SelectByHotkeys          0.0433    564.600   7.67e-05      1.000   -1106.956    1107.042\n",
              "AssignToHotkeys       8.993e-05    153.980   5.84e-07      1.000    -301.906     301.906\n",
              "UniqueHotkeys            3.5928      0.461      7.801      0.000       2.690       4.496\n",
              "MinimapAttacks           0.0001    229.321   5.63e-07      1.000    -449.624     449.625\n",
              "MinimapRightClicks       0.0027   2886.156   9.21e-07      1.000   -5658.823    5658.828\n",
              "NumberOfPACs            -0.0021   3483.391  -5.96e-07      1.000   -6829.815    6829.811\n",
              "GapBetweenPACs           0.2392      0.078      3.060      0.002       0.086       0.393\n",
              "ActionLatency           -0.8386      0.160     -5.225      0.000      -1.153      -0.524\n",
              "ActionsInPAC            15.1596      0.938     16.164      0.000      13.321      16.998\n",
              "TotalMapExplored         0.8265      0.162      5.109      0.000       0.509       1.144\n",
              "WorkersMade              0.0006   1991.420   3.05e-07      1.000   -3904.535    3904.536\n",
              "UniqueUnitsMade         -1.3534      0.633     -2.139      0.033      -2.594      -0.113\n",
              "ComplexUnitsMade        -0.0002     72.101     -3e-06      1.000    -141.368     141.367\n",
              "ComplexAbilitiesUsed -2.925e-05     61.714  -4.74e-07      1.000    -121.002     121.001\n",
              "========================================================================================\n",
              "\n",
              "The condition number is large, 2.16e+08. This might indicate that there are\n",
              "strong multicollinearity or other numerical problems.\n",
              "\"\"\""
            ]
          },
          "metadata": {
            "tags": []
          },
          "execution_count": 36
        }
      ]
    },
    {
      "metadata": {
        "id": "o2BADEQUirXa",
        "colab_type": "text"
      },
      "cell_type": "markdown",
      "source": [
        "# Assignment - birth weight data\n",
        "\n",
        "Birth weight is a situation where, while the data itself is actually fairly normal and symmetric, our main goal is actually *not* to model mean weight (via OLS), but rather to identify mothers at risk of having children below a certain \"at-risk\" threshold weight.\n",
        "\n",
        "Quantile regression gives us just the tool we need. For the data we are using, see: http://people.reed.edu/~jones/141/BirthWgt.html\n",
        "\n",
        "    bwt: baby's weight in ounces at birth\n",
        "    gestation: duration of pregnancy in days\n",
        "    parity: parity indicator (first born = 1, later birth = 0)\n",
        "    age: mother's age in years\n",
        "    height: mother's height in inches\n",
        "    weight: mother's weight in pounds (during pregnancy)\n",
        "    smoke: indicator for whether mother smokes (1=yes, 0=no) \n",
        "    \n",
        "Use this data and `statsmodels` to fit a quantile regression, predicting `bwt` (birth weight) as a function of the other covariates. First, identify an appropriate `q` (quantile) to target a cutoff of 90 ounces - babies above that birth weight are generally healthy/safe, babies below are at-risk.\n",
        "\n",
        "Then, fit and iterate your model. Be creative! You may want to engineer features. Hint - mother's age likely is not simply linear in its impact, and the other features may interact as well.\n",
        "\n",
        "At the end, create at least *2* tables and *1* visualization to summarize your best model. Then (in writing) answer the following questions:\n",
        "\n",
        "- What characteristics of a mother indicate the highest likelihood of an at-risk (low weight) baby?\n",
        "- What can expectant mothers be told to help mitigate this risk?\n",
        "\n",
        "Note that second question is not exactly a data science question - and that's okay! You're not expected to be a medical expert, but it is a good exercise to do a little bit of digging into a particular domain and offer informal but informed opinions."
      ]
    },
    {
      "metadata": {
        "id": "1olRqsluRgUP",
        "colab_type": "code",
        "colab": {}
      },
      "cell_type": "code",
      "source": [
        "import numpy as np\n",
        "import matplotlib.pyplot as plt\n",
        "from sklearn.linear_model import LinearRegression\n",
        "import statsmodels.formula.api as smf\n",
        "import seaborn as sns\n",
        "from sklearn.preprocessing import StandardScaler\n",
        "from scipy import stats"
      ],
      "execution_count": 0,
      "outputs": []
    },
    {
      "metadata": {
        "id": "HUWKv16FjZsY",
        "colab_type": "code",
        "outputId": "4505091b-c4b4-42ef-fd05-a39e894cb30e",
        "colab": {
          "base_uri": "https://localhost:8080/",
          "height": 206
        }
      },
      "cell_type": "code",
      "source": [
        "import pandas as pd\n",
        "bwt_df = pd.read_csv('http://people.reed.edu/~jones/141/Bwt.dat')\n",
        "bwt_df.head()"
      ],
      "execution_count": 192,
      "outputs": [
        {
          "output_type": "execute_result",
          "data": {
            "text/html": [
              "<div>\n",
              "<style scoped>\n",
              "    .dataframe tbody tr th:only-of-type {\n",
              "        vertical-align: middle;\n",
              "    }\n",
              "\n",
              "    .dataframe tbody tr th {\n",
              "        vertical-align: top;\n",
              "    }\n",
              "\n",
              "    .dataframe thead th {\n",
              "        text-align: right;\n",
              "    }\n",
              "</style>\n",
              "<table border=\"1\" class=\"dataframe\">\n",
              "  <thead>\n",
              "    <tr style=\"text-align: right;\">\n",
              "      <th></th>\n",
              "      <th>bwt</th>\n",
              "      <th>gestation</th>\n",
              "      <th>parity</th>\n",
              "      <th>age</th>\n",
              "      <th>height</th>\n",
              "      <th>weight</th>\n",
              "      <th>smoke</th>\n",
              "    </tr>\n",
              "  </thead>\n",
              "  <tbody>\n",
              "    <tr>\n",
              "      <th>0</th>\n",
              "      <td>120</td>\n",
              "      <td>284</td>\n",
              "      <td>0</td>\n",
              "      <td>27</td>\n",
              "      <td>62</td>\n",
              "      <td>100</td>\n",
              "      <td>0</td>\n",
              "    </tr>\n",
              "    <tr>\n",
              "      <th>1</th>\n",
              "      <td>113</td>\n",
              "      <td>282</td>\n",
              "      <td>0</td>\n",
              "      <td>33</td>\n",
              "      <td>64</td>\n",
              "      <td>135</td>\n",
              "      <td>0</td>\n",
              "    </tr>\n",
              "    <tr>\n",
              "      <th>2</th>\n",
              "      <td>128</td>\n",
              "      <td>279</td>\n",
              "      <td>0</td>\n",
              "      <td>28</td>\n",
              "      <td>64</td>\n",
              "      <td>115</td>\n",
              "      <td>1</td>\n",
              "    </tr>\n",
              "    <tr>\n",
              "      <th>3</th>\n",
              "      <td>108</td>\n",
              "      <td>282</td>\n",
              "      <td>0</td>\n",
              "      <td>23</td>\n",
              "      <td>67</td>\n",
              "      <td>125</td>\n",
              "      <td>1</td>\n",
              "    </tr>\n",
              "    <tr>\n",
              "      <th>4</th>\n",
              "      <td>136</td>\n",
              "      <td>286</td>\n",
              "      <td>0</td>\n",
              "      <td>25</td>\n",
              "      <td>62</td>\n",
              "      <td>93</td>\n",
              "      <td>0</td>\n",
              "    </tr>\n",
              "  </tbody>\n",
              "</table>\n",
              "</div>"
            ],
            "text/plain": [
              "   bwt  gestation  parity  age  height  weight  smoke\n",
              "0  120        284       0   27      62     100      0\n",
              "1  113        282       0   33      64     135      0\n",
              "2  128        279       0   28      64     115      1\n",
              "3  108        282       0   23      67     125      1\n",
              "4  136        286       0   25      62      93      0"
            ]
          },
          "metadata": {
            "tags": []
          },
          "execution_count": 192
        }
      ]
    },
    {
      "metadata": {
        "id": "dy5FkUZpkJT_",
        "colab_type": "code",
        "outputId": "e677e809-dfc8-460c-fb62-024f303d8771",
        "colab": {
          "base_uri": "https://localhost:8080/",
          "height": 300
        }
      },
      "cell_type": "code",
      "source": [
        "bwt_df.describe()\n"
      ],
      "execution_count": 193,
      "outputs": [
        {
          "output_type": "execute_result",
          "data": {
            "text/html": [
              "<div>\n",
              "<style scoped>\n",
              "    .dataframe tbody tr th:only-of-type {\n",
              "        vertical-align: middle;\n",
              "    }\n",
              "\n",
              "    .dataframe tbody tr th {\n",
              "        vertical-align: top;\n",
              "    }\n",
              "\n",
              "    .dataframe thead th {\n",
              "        text-align: right;\n",
              "    }\n",
              "</style>\n",
              "<table border=\"1\" class=\"dataframe\">\n",
              "  <thead>\n",
              "    <tr style=\"text-align: right;\">\n",
              "      <th></th>\n",
              "      <th>bwt</th>\n",
              "      <th>gestation</th>\n",
              "      <th>parity</th>\n",
              "      <th>age</th>\n",
              "      <th>height</th>\n",
              "      <th>weight</th>\n",
              "      <th>smoke</th>\n",
              "    </tr>\n",
              "  </thead>\n",
              "  <tbody>\n",
              "    <tr>\n",
              "      <th>count</th>\n",
              "      <td>1174.000000</td>\n",
              "      <td>1174.000000</td>\n",
              "      <td>1174.000000</td>\n",
              "      <td>1174.000000</td>\n",
              "      <td>1174.000000</td>\n",
              "      <td>1174.000000</td>\n",
              "      <td>1174.000000</td>\n",
              "    </tr>\n",
              "    <tr>\n",
              "      <th>mean</th>\n",
              "      <td>119.462521</td>\n",
              "      <td>279.101363</td>\n",
              "      <td>0.262351</td>\n",
              "      <td>27.228279</td>\n",
              "      <td>64.049404</td>\n",
              "      <td>128.478705</td>\n",
              "      <td>0.390971</td>\n",
              "    </tr>\n",
              "    <tr>\n",
              "      <th>std</th>\n",
              "      <td>18.328671</td>\n",
              "      <td>16.010305</td>\n",
              "      <td>0.440100</td>\n",
              "      <td>5.817839</td>\n",
              "      <td>2.526102</td>\n",
              "      <td>20.734282</td>\n",
              "      <td>0.488176</td>\n",
              "    </tr>\n",
              "    <tr>\n",
              "      <th>min</th>\n",
              "      <td>55.000000</td>\n",
              "      <td>148.000000</td>\n",
              "      <td>0.000000</td>\n",
              "      <td>15.000000</td>\n",
              "      <td>53.000000</td>\n",
              "      <td>87.000000</td>\n",
              "      <td>0.000000</td>\n",
              "    </tr>\n",
              "    <tr>\n",
              "      <th>25%</th>\n",
              "      <td>108.000000</td>\n",
              "      <td>272.000000</td>\n",
              "      <td>0.000000</td>\n",
              "      <td>23.000000</td>\n",
              "      <td>62.000000</td>\n",
              "      <td>114.250000</td>\n",
              "      <td>0.000000</td>\n",
              "    </tr>\n",
              "    <tr>\n",
              "      <th>50%</th>\n",
              "      <td>120.000000</td>\n",
              "      <td>280.000000</td>\n",
              "      <td>0.000000</td>\n",
              "      <td>26.000000</td>\n",
              "      <td>64.000000</td>\n",
              "      <td>125.000000</td>\n",
              "      <td>0.000000</td>\n",
              "    </tr>\n",
              "    <tr>\n",
              "      <th>75%</th>\n",
              "      <td>131.000000</td>\n",
              "      <td>288.000000</td>\n",
              "      <td>1.000000</td>\n",
              "      <td>31.000000</td>\n",
              "      <td>66.000000</td>\n",
              "      <td>139.000000</td>\n",
              "      <td>1.000000</td>\n",
              "    </tr>\n",
              "    <tr>\n",
              "      <th>max</th>\n",
              "      <td>176.000000</td>\n",
              "      <td>353.000000</td>\n",
              "      <td>1.000000</td>\n",
              "      <td>45.000000</td>\n",
              "      <td>72.000000</td>\n",
              "      <td>250.000000</td>\n",
              "      <td>1.000000</td>\n",
              "    </tr>\n",
              "  </tbody>\n",
              "</table>\n",
              "</div>"
            ],
            "text/plain": [
              "               bwt    gestation       parity          age       height  \\\n",
              "count  1174.000000  1174.000000  1174.000000  1174.000000  1174.000000   \n",
              "mean    119.462521   279.101363     0.262351    27.228279    64.049404   \n",
              "std      18.328671    16.010305     0.440100     5.817839     2.526102   \n",
              "min      55.000000   148.000000     0.000000    15.000000    53.000000   \n",
              "25%     108.000000   272.000000     0.000000    23.000000    62.000000   \n",
              "50%     120.000000   280.000000     0.000000    26.000000    64.000000   \n",
              "75%     131.000000   288.000000     1.000000    31.000000    66.000000   \n",
              "max     176.000000   353.000000     1.000000    45.000000    72.000000   \n",
              "\n",
              "            weight        smoke  \n",
              "count  1174.000000  1174.000000  \n",
              "mean    128.478705     0.390971  \n",
              "std      20.734282     0.488176  \n",
              "min      87.000000     0.000000  \n",
              "25%     114.250000     0.000000  \n",
              "50%     125.000000     0.000000  \n",
              "75%     139.000000     1.000000  \n",
              "max     250.000000     1.000000  "
            ]
          },
          "metadata": {
            "tags": []
          },
          "execution_count": 193
        }
      ]
    },
    {
      "metadata": {
        "id": "hhOvPe4mqitl",
        "colab_type": "code",
        "colab": {}
      },
      "cell_type": "code",
      "source": [
        "bwt_df['BMI'] = bwt_df['weight'] / (bwt_df['height']**2) * 703\n",
        "bwt_df['age_rt'] = np.log(bwt_df['age'])**3\n"
      ],
      "execution_count": 0,
      "outputs": []
    },
    {
      "metadata": {
        "id": "VAPTbU4C35Lh",
        "colab_type": "code",
        "colab": {
          "base_uri": "https://localhost:8080/",
          "height": 365
        },
        "outputId": "ab14a479-ecce-4f8e-9720-8c71505cbf2c"
      },
      "cell_type": "code",
      "source": [
        "bmi_ln= np.log(bwt_df['BMI'])\n",
        "bmi_ln.plot.hist()"
      ],
      "execution_count": 195,
      "outputs": [
        {
          "output_type": "execute_result",
          "data": {
            "text/plain": [
              "<matplotlib.axes._subplots.AxesSubplot at 0x7f4108e2d780>"
            ]
          },
          "metadata": {
            "tags": []
          },
          "execution_count": 195
        },
        {
          "output_type": "display_data",
          "data": {
            "image/png": "[encoded data removed]",
            "text/plain": [
              "<Figure size 576x396 with 1 Axes>"
            ]
          },
          "metadata": {
            "tags": []
          }
        }
      ]
    },
    {
      "metadata": {
        "id": "9FgfguR3uHk9",
        "colab_type": "code",
        "colab": {
          "base_uri": "https://localhost:8080/",
          "height": 206
        },
        "outputId": "cfb38bfc-c8fc-470f-a1e7-427c9e97d5b2"
      },
      "cell_type": "code",
      "source": [
        "bwt_df.head()"
      ],
      "execution_count": 196,
      "outputs": [
        {
          "output_type": "execute_result",
          "data": {
            "text/html": [
              "<div>\n",
              "<style scoped>\n",
              "    .dataframe tbody tr th:only-of-type {\n",
              "        vertical-align: middle;\n",
              "    }\n",
              "\n",
              "    .dataframe tbody tr th {\n",
              "        vertical-align: top;\n",
              "    }\n",
              "\n",
              "    .dataframe thead th {\n",
              "        text-align: right;\n",
              "    }\n",
              "</style>\n",
              "<table border=\"1\" class=\"dataframe\">\n",
              "  <thead>\n",
              "    <tr style=\"text-align: right;\">\n",
              "      <th></th>\n",
              "      <th>bwt</th>\n",
              "      <th>gestation</th>\n",
              "      <th>parity</th>\n",
              "      <th>age</th>\n",
              "      <th>height</th>\n",
              "      <th>weight</th>\n",
              "      <th>smoke</th>\n",
              "      <th>BMI</th>\n",
              "      <th>age_rt</th>\n",
              "    </tr>\n",
              "  </thead>\n",
              "  <tbody>\n",
              "    <tr>\n",
              "      <th>0</th>\n",
              "      <td>120</td>\n",
              "      <td>284</td>\n",
              "      <td>0</td>\n",
              "      <td>27</td>\n",
              "      <td>62</td>\n",
              "      <td>100</td>\n",
              "      <td>0</td>\n",
              "      <td>18.288241</td>\n",
              "      <td>35.801162</td>\n",
              "    </tr>\n",
              "    <tr>\n",
              "      <th>1</th>\n",
              "      <td>113</td>\n",
              "      <td>282</td>\n",
              "      <td>0</td>\n",
              "      <td>33</td>\n",
              "      <td>64</td>\n",
              "      <td>135</td>\n",
              "      <td>0</td>\n",
              "      <td>23.170166</td>\n",
              "      <td>42.746781</td>\n",
              "    </tr>\n",
              "    <tr>\n",
              "      <th>2</th>\n",
              "      <td>128</td>\n",
              "      <td>279</td>\n",
              "      <td>0</td>\n",
              "      <td>28</td>\n",
              "      <td>64</td>\n",
              "      <td>115</td>\n",
              "      <td>1</td>\n",
              "      <td>19.737549</td>\n",
              "      <td>36.999422</td>\n",
              "    </tr>\n",
              "    <tr>\n",
              "      <th>3</th>\n",
              "      <td>108</td>\n",
              "      <td>282</td>\n",
              "      <td>0</td>\n",
              "      <td>23</td>\n",
              "      <td>67</td>\n",
              "      <td>125</td>\n",
              "      <td>1</td>\n",
              "      <td>19.575629</td>\n",
              "      <td>30.826059</td>\n",
              "    </tr>\n",
              "    <tr>\n",
              "      <th>4</th>\n",
              "      <td>136</td>\n",
              "      <td>286</td>\n",
              "      <td>0</td>\n",
              "      <td>25</td>\n",
              "      <td>62</td>\n",
              "      <td>93</td>\n",
              "      <td>0</td>\n",
              "      <td>17.008065</td>\n",
              "      <td>33.351293</td>\n",
              "    </tr>\n",
              "  </tbody>\n",
              "</table>\n",
              "</div>"
            ],
            "text/plain": [
              "   bwt  gestation  parity  age  height  weight  smoke        BMI     age_rt\n",
              "0  120        284       0   27      62     100      0  18.288241  35.801162\n",
              "1  113        282       0   33      64     135      0  23.170166  42.746781\n",
              "2  128        279       0   28      64     115      1  19.737549  36.999422\n",
              "3  108        282       0   23      67     125      1  19.575629  30.826059\n",
              "4  136        286       0   25      62      93      0  17.008065  33.351293"
            ]
          },
          "metadata": {
            "tags": []
          },
          "execution_count": 196
        }
      ]
    },
    {
      "metadata": {
        "id": "riHkcFQ3pJs7",
        "colab_type": "code",
        "colab": {
          "base_uri": "https://localhost:8080/",
          "height": 300
        },
        "outputId": "ec5f1d70-63b1-45f0-8ef8-179bf03f9e12"
      },
      "cell_type": "code",
      "source": [
        "scaler = StandardScaler() \n",
        "df = scaler.fit_transform(bwt_df)\n",
        "df = pd.DataFrame(df, columns = ['bwt', 'gestation', 'parity', 'age', 'height', 'weight', 'smoke', 'BMI', 'age_rt'])\n",
        "df.head()"
      ],
      "execution_count": 197,
      "outputs": [
        {
          "output_type": "stream",
          "text": [
            "/usr/local/lib/python3.6/dist-packages/sklearn/preprocessing/data.py:625: DataConversionWarning: Data with input dtype int64, float64 were all converted to float64 by StandardScaler.\n",
            "  return self.partial_fit(X, y)\n",
            "/usr/local/lib/python3.6/dist-packages/sklearn/base.py:462: DataConversionWarning: Data with input dtype int64, float64 were all converted to float64 by StandardScaler.\n",
            "  return self.fit(X, **fit_params).transform(X)\n"
          ],
          "name": "stderr"
        },
        {
          "output_type": "execute_result",
          "data": {
            "text/html": [
              "<div>\n",
              "<style scoped>\n",
              "    .dataframe tbody tr th:only-of-type {\n",
              "        vertical-align: middle;\n",
              "    }\n",
              "\n",
              "    .dataframe tbody tr th {\n",
              "        vertical-align: top;\n",
              "    }\n",
              "\n",
              "    .dataframe thead th {\n",
              "        text-align: right;\n",
              "    }\n",
              "</style>\n",
              "<table border=\"1\" class=\"dataframe\">\n",
              "  <thead>\n",
              "    <tr style=\"text-align: right;\">\n",
              "      <th></th>\n",
              "      <th>bwt</th>\n",
              "      <th>gestation</th>\n",
              "      <th>parity</th>\n",
              "      <th>age</th>\n",
              "      <th>height</th>\n",
              "      <th>weight</th>\n",
              "      <th>smoke</th>\n",
              "      <th>BMI</th>\n",
              "      <th>age_rt</th>\n",
              "    </tr>\n",
              "  </thead>\n",
              "  <tbody>\n",
              "    <tr>\n",
              "      <th>0</th>\n",
              "      <td>0.029337</td>\n",
              "      <td>0.306098</td>\n",
              "      <td>-0.596371</td>\n",
              "      <td>-0.039255</td>\n",
              "      <td>-0.811637</td>\n",
              "      <td>-1.374093</td>\n",
              "      <td>-0.801223</td>\n",
              "      <td>-1.151348</td>\n",
              "      <td>0.001645</td>\n",
              "    </tr>\n",
              "    <tr>\n",
              "      <th>1</th>\n",
              "      <td>-0.352741</td>\n",
              "      <td>0.181125</td>\n",
              "      <td>-0.596371</td>\n",
              "      <td>0.992496</td>\n",
              "      <td>-0.019566</td>\n",
              "      <td>0.314652</td>\n",
              "      <td>-0.801223</td>\n",
              "      <td>0.363701</td>\n",
              "      <td>1.011848</td>\n",
              "    </tr>\n",
              "    <tr>\n",
              "      <th>2</th>\n",
              "      <td>0.465998</td>\n",
              "      <td>-0.006334</td>\n",
              "      <td>-0.596371</td>\n",
              "      <td>0.132704</td>\n",
              "      <td>-0.019566</td>\n",
              "      <td>-0.650346</td>\n",
              "      <td>1.248092</td>\n",
              "      <td>-0.701573</td>\n",
              "      <td>0.175926</td>\n",
              "    </tr>\n",
              "    <tr>\n",
              "      <th>3</th>\n",
              "      <td>-0.625654</td>\n",
              "      <td>0.181125</td>\n",
              "      <td>-0.596371</td>\n",
              "      <td>-0.727088</td>\n",
              "      <td>1.168541</td>\n",
              "      <td>-0.167847</td>\n",
              "      <td>1.248092</td>\n",
              "      <td>-0.751822</td>\n",
              "      <td>-0.721957</td>\n",
              "    </tr>\n",
              "    <tr>\n",
              "      <th>4</th>\n",
              "      <td>0.902658</td>\n",
              "      <td>0.431071</td>\n",
              "      <td>-0.596371</td>\n",
              "      <td>-0.383171</td>\n",
              "      <td>-0.811637</td>\n",
              "      <td>-1.711842</td>\n",
              "      <td>-0.801223</td>\n",
              "      <td>-1.548637</td>\n",
              "      <td>-0.354676</td>\n",
              "    </tr>\n",
              "  </tbody>\n",
              "</table>\n",
              "</div>"
            ],
            "text/plain": [
              "        bwt  gestation    parity       age    height    weight     smoke  \\\n",
              "0  0.029337   0.306098 -0.596371 -0.039255 -0.811637 -1.374093 -0.801223   \n",
              "1 -0.352741   0.181125 -0.596371  0.992496 -0.019566  0.314652 -0.801223   \n",
              "2  0.465998  -0.006334 -0.596371  0.132704 -0.019566 -0.650346  1.248092   \n",
              "3 -0.625654   0.181125 -0.596371 -0.727088  1.168541 -0.167847  1.248092   \n",
              "4  0.902658   0.431071 -0.596371 -0.383171 -0.811637 -1.711842 -0.801223   \n",
              "\n",
              "        BMI    age_rt  \n",
              "0 -1.151348  0.001645  \n",
              "1  0.363701  1.011848  \n",
              "2 -0.701573  0.175926  \n",
              "3 -0.751822 -0.721957  \n",
              "4 -1.548637 -0.354676  "
            ]
          },
          "metadata": {
            "tags": []
          },
          "execution_count": 197
        }
      ]
    },
    {
      "metadata": {
        "id": "onaIQ88FgDSp",
        "colab_type": "code",
        "colab": {
          "base_uri": "https://localhost:8080/",
          "height": 35
        },
        "outputId": "34646984-7e87-41ec-aba0-36de786fef27"
      },
      "cell_type": "code",
      "source": [
        "stats.percentileofscore(bwt_df['bwt'], 90)"
      ],
      "execution_count": 198,
      "outputs": [
        {
          "output_type": "execute_result",
          "data": {
            "text/plain": [
              "5.664395229982964"
            ]
          },
          "metadata": {
            "tags": []
          },
          "execution_count": 198
        }
      ]
    },
    {
      "metadata": {
        "id": "udpPj82xRedx",
        "colab_type": "code",
        "colab": {}
      },
      "cell_type": "code",
      "source": [
        "X=bwt_df.drop(['bwt'], axis = 1)\n",
        "y=bwt_df['bwt']\n",
        "stX = df.drop(['bwt'], axis = 1)\n",
        "sty = df['bwt']"
      ],
      "execution_count": 0,
      "outputs": []
    },
    {
      "metadata": {
        "id": "Ez8qPLojjlFf",
        "colab_type": "code",
        "colab": {
          "base_uri": "https://localhost:8080/",
          "height": 219
        },
        "outputId": "3b70ac7d-30ea-4cbb-db3e-f518856b9749"
      },
      "cell_type": "code",
      "source": [
        "sns.pairplot(x_vars = X.columns, y_vars='bwt', data=bwt_df)"
      ],
      "execution_count": 200,
      "outputs": [
        {
          "output_type": "execute_result",
          "data": {
            "text/plain": [
              "<seaborn.axisgrid.PairGrid at 0x7f4108e0d9b0>"
            ]
          },
          "metadata": {
            "tags": []
          },
          "execution_count": 200
        },
        {
          "output_type": "display_data",
          "data": {
            "image/png": "[encoded data removed]",
            "text/plain": [
              "<Figure size 1440x180 with 8 Axes>"
            ]
          },
          "metadata": {
            "tags": []
          }
        }
      ]
    },
    {
      "metadata": {
        "id": "GosJzpDbq01B",
        "colab_type": "code",
        "colab": {
          "base_uri": "https://localhost:8080/",
          "height": 219
        },
        "outputId": "47d00f35-4fb5-44e0-bb86-cde647a4ad29"
      },
      "cell_type": "code",
      "source": [
        "sns.pairplot(x_vars = stX.columns, y_vars='bwt', data=df)"
      ],
      "execution_count": 201,
      "outputs": [
        {
          "output_type": "execute_result",
          "data": {
            "text/plain": [
              "<seaborn.axisgrid.PairGrid at 0x7f4108e0d400>"
            ]
          },
          "metadata": {
            "tags": []
          },
          "execution_count": 201
        },
        {
          "output_type": "display_data",
          "data": {
            "image/png": "[encoded data removed]",
            "text/plain": [
              "<Figure size 1440x180 with 8 Axes>"
            ]
          },
          "metadata": {
            "tags": []
          }
        }
      ]
    },
    {
      "metadata": {
        "id": "d5dw0hPwfVRs",
        "colab_type": "code",
        "colab": {
          "base_uri": "https://localhost:8080/",
          "height": 35
        },
        "outputId": "c893f4af-7211-4134-b227-122f2c740890"
      },
      "cell_type": "code",
      "source": [
        "linear_reg = LinearRegression().fit(X, y)\n",
        "linear_reg.score(X, y)"
      ],
      "execution_count": 202,
      "outputs": [
        {
          "output_type": "execute_result",
          "data": {
            "text/plain": [
              "0.25888964506314127"
            ]
          },
          "metadata": {
            "tags": []
          },
          "execution_count": 202
        }
      ]
    },
    {
      "metadata": {
        "id": "r0e78gbph75z",
        "colab_type": "code",
        "colab": {
          "base_uri": "https://localhost:8080/",
          "height": 380
        },
        "outputId": "4ba4bdd2-2a1f-4151-e96f-a9757641f3d5"
      },
      "cell_type": "code",
      "source": [
        "quant_formula = 'bwt ~ ' + ' + '.join(bwt_df.drop('bwt', axis='columns').columns)\n",
        "\n",
        "quant_mod = smf.quantreg(quant_formula, data=bwt_df)\n",
        "quant_reg = quant_mod.fit(q=.9433)\n",
        "quant_reg.summary()"
      ],
      "execution_count": 205,
      "outputs": [
        {
          "output_type": "execute_result",
          "data": {
            "text/html": [
              "<table class=\"simpletable\">\n",
              "<caption>QuantReg Regression Results</caption>\n",
              "<tr>\n",
              "  <th>Dep. Variable:</th>        <td>bwt</td>       <th>  Pseudo R-squared:  </th> <td>  0.1211</td>\n",
              "</tr>\n",
              "<tr>\n",
              "  <th>Model:</th>             <td>QuantReg</td>     <th>  Bandwidth:         </th> <td>   6.142</td>\n",
              "</tr>\n",
              "<tr>\n",
              "  <th>Method:</th>          <td>Least Squares</td>  <th>  Sparsity:          </th> <td>   136.2</td>\n",
              "</tr>\n",
              "<tr>\n",
              "  <th>Date:</th>          <td>Wed, 23 Jan 2019</td> <th>  No. Observations:  </th>  <td>  1174</td> \n",
              "</tr>\n",
              "<tr>\n",
              "  <th>Time:</th>              <td>23:27:55</td>     <th>  Df Residuals:      </th>  <td>  1165</td> \n",
              "</tr>\n",
              "<tr>\n",
              "  <th> </th>                      <td> </td>        <th>  Df Model:          </th>  <td>     8</td> \n",
              "</tr>\n",
              "</table>\n",
              "<table class=\"simpletable\">\n",
              "<tr>\n",
              "      <td></td>         <th>coef</th>     <th>std err</th>      <th>t</th>      <th>P>|t|</th>  <th>[0.025</th>    <th>0.975]</th>  \n",
              "</tr>\n",
              "<tr>\n",
              "  <th>Intercept</th> <td> -102.4938</td> <td>  319.090</td> <td>   -0.321</td> <td> 0.748</td> <td> -728.549</td> <td>  523.562</td>\n",
              "</tr>\n",
              "<tr>\n",
              "  <th>gestation</th> <td>    0.4074</td> <td>    0.090</td> <td>    4.546</td> <td> 0.000</td> <td>    0.232</td> <td>    0.583</td>\n",
              "</tr>\n",
              "<tr>\n",
              "  <th>parity</th>    <td>   -4.4206</td> <td>    2.119</td> <td>   -2.086</td> <td> 0.037</td> <td>   -8.578</td> <td>   -0.263</td>\n",
              "</tr>\n",
              "<tr>\n",
              "  <th>age</th>       <td>   -0.7328</td> <td>    3.851</td> <td>   -0.190</td> <td> 0.849</td> <td>   -8.288</td> <td>    6.823</td>\n",
              "</tr>\n",
              "<tr>\n",
              "  <th>height</th>    <td>    1.7728</td> <td>    4.929</td> <td>    0.360</td> <td> 0.719</td> <td>   -7.898</td> <td>   11.444</td>\n",
              "</tr>\n",
              "<tr>\n",
              "  <th>weight</th>    <td>   -0.0333</td> <td>    1.266</td> <td>   -0.026</td> <td> 0.979</td> <td>   -2.517</td> <td>    2.451</td>\n",
              "</tr>\n",
              "<tr>\n",
              "  <th>smoke</th>     <td>   -6.1868</td> <td>    1.992</td> <td>   -3.105</td> <td> 0.002</td> <td>  -10.096</td> <td>   -2.278</td>\n",
              "</tr>\n",
              "<tr>\n",
              "  <th>BMI</th>       <td>    1.0836</td> <td>    7.434</td> <td>    0.146</td> <td> 0.884</td> <td>  -13.502</td> <td>   15.669</td>\n",
              "</tr>\n",
              "<tr>\n",
              "  <th>age_rt</th>    <td>    0.6585</td> <td>    3.284</td> <td>    0.201</td> <td> 0.841</td> <td>   -5.784</td> <td>    7.101</td>\n",
              "</tr>\n",
              "</table>"
            ],
            "text/plain": [
              "<class 'statsmodels.iolib.summary.Summary'>\n",
              "\"\"\"\n",
              "                         QuantReg Regression Results                          \n",
              "==============================================================================\n",
              "Dep. Variable:                    bwt   Pseudo R-squared:               0.1211\n",
              "Model:                       QuantReg   Bandwidth:                       6.142\n",
              "Method:                 Least Squares   Sparsity:                        136.2\n",
              "Date:                Wed, 23 Jan 2019   No. Observations:                 1174\n",
              "Time:                        23:27:55   Df Residuals:                     1165\n",
              "                                        Df Model:                            8\n",
              "==============================================================================\n",
              "                 coef    std err          t      P>|t|      [0.025      0.975]\n",
              "------------------------------------------------------------------------------\n",
              "Intercept   -102.4938    319.090     -0.321      0.748    -728.549     523.562\n",
              "gestation      0.4074      0.090      4.546      0.000       0.232       0.583\n",
              "parity        -4.4206      2.119     -2.086      0.037      -8.578      -0.263\n",
              "age           -0.7328      3.851     -0.190      0.849      -8.288       6.823\n",
              "height         1.7728      4.929      0.360      0.719      -7.898      11.444\n",
              "weight        -0.0333      1.266     -0.026      0.979      -2.517       2.451\n",
              "smoke         -6.1868      1.992     -3.105      0.002     -10.096      -2.278\n",
              "BMI            1.0836      7.434      0.146      0.884     -13.502      15.669\n",
              "age_rt         0.6585      3.284      0.201      0.841      -5.784       7.101\n",
              "==============================================================================\n",
              "\n",
              "The condition number is large, 5.5e+04. This might indicate that there are\n",
              "strong multicollinearity or other numerical problems.\n",
              "\"\"\""
            ]
          },
          "metadata": {
            "tags": []
          },
          "execution_count": 205
        }
      ]
    },
    {
      "metadata": {
        "id": "9xNEuZOw7tdq",
        "colab_type": "code",
        "colab": {
          "base_uri": "https://localhost:8080/",
          "height": 380
        },
        "outputId": "1c9cc5b0-8002-4f90-ed35-d6f1c45e90a7"
      },
      "cell_type": "code",
      "source": [
        "quant_formula = 'bwt ~ ' + ' + '.join(df.drop('bwt', axis='columns').columns)\n",
        "\n",
        "quant_mod = smf.quantreg(quant_formula, data=df)\n",
        "quant_reg = quant_mod.fit(q=.9433)\n",
        "quant_reg.summary()"
      ],
      "execution_count": 206,
      "outputs": [
        {
          "output_type": "execute_result",
          "data": {
            "text/html": [
              "<table class=\"simpletable\">\n",
              "<caption>QuantReg Regression Results</caption>\n",
              "<tr>\n",
              "  <th>Dep. Variable:</th>        <td>bwt</td>       <th>  Pseudo R-squared:  </th> <td>  0.1211</td>\n",
              "</tr>\n",
              "<tr>\n",
              "  <th>Model:</th>             <td>QuantReg</td>     <th>  Bandwidth:         </th> <td>  0.3353</td>\n",
              "</tr>\n",
              "<tr>\n",
              "  <th>Method:</th>          <td>Least Squares</td>  <th>  Sparsity:          </th> <td>   7.432</td>\n",
              "</tr>\n",
              "<tr>\n",
              "  <th>Date:</th>          <td>Wed, 23 Jan 2019</td> <th>  No. Observations:  </th>  <td>  1174</td> \n",
              "</tr>\n",
              "<tr>\n",
              "  <th>Time:</th>              <td>23:27:58</td>     <th>  Df Residuals:      </th>  <td>  1165</td> \n",
              "</tr>\n",
              "<tr>\n",
              "  <th> </th>                      <td> </td>        <th>  Df Model:          </th>  <td>     8</td> \n",
              "</tr>\n",
              "</table>\n",
              "<table class=\"simpletable\">\n",
              "<tr>\n",
              "      <td></td>         <th>coef</th>     <th>std err</th>      <th>t</th>      <th>P>|t|</th>  <th>[0.025</th>    <th>0.975]</th>  \n",
              "</tr>\n",
              "<tr>\n",
              "  <th>Intercept</th> <td>    1.3598</td> <td>    0.052</td> <td>   26.297</td> <td> 0.000</td> <td>    1.258</td> <td>    1.461</td>\n",
              "</tr>\n",
              "<tr>\n",
              "  <th>gestation</th> <td>    0.3559</td> <td>    0.078</td> <td>    4.546</td> <td> 0.000</td> <td>    0.202</td> <td>    0.510</td>\n",
              "</tr>\n",
              "<tr>\n",
              "  <th>parity</th>    <td>   -0.1061</td> <td>    0.051</td> <td>   -2.086</td> <td> 0.037</td> <td>   -0.206</td> <td>   -0.006</td>\n",
              "</tr>\n",
              "<tr>\n",
              "  <th>age</th>       <td>   -0.2326</td> <td>    1.222</td> <td>   -0.190</td> <td> 0.849</td> <td>   -2.631</td> <td>    2.166</td>\n",
              "</tr>\n",
              "<tr>\n",
              "  <th>height</th>    <td>    0.2443</td> <td>    0.679</td> <td>    0.360</td> <td> 0.719</td> <td>   -1.089</td> <td>    1.577</td>\n",
              "</tr>\n",
              "<tr>\n",
              "  <th>weight</th>    <td>   -0.0376</td> <td>    1.432</td> <td>   -0.026</td> <td> 0.979</td> <td>   -2.848</td> <td>    2.773</td>\n",
              "</tr>\n",
              "<tr>\n",
              "  <th>smoke</th>     <td>   -0.1648</td> <td>    0.053</td> <td>   -3.105</td> <td> 0.002</td> <td>   -0.269</td> <td>   -0.061</td>\n",
              "</tr>\n",
              "<tr>\n",
              "  <th>BMI</th>       <td>    0.1906</td> <td>    1.307</td> <td>    0.146</td> <td> 0.884</td> <td>   -2.375</td> <td>    2.756</td>\n",
              "</tr>\n",
              "<tr>\n",
              "  <th>age_rt</th>    <td>    0.2471</td> <td>    1.232</td> <td>    0.201</td> <td> 0.841</td> <td>   -2.171</td> <td>    2.665</td>\n",
              "</tr>\n",
              "</table>"
            ],
            "text/plain": [
              "<class 'statsmodels.iolib.summary.Summary'>\n",
              "\"\"\"\n",
              "                         QuantReg Regression Results                          \n",
              "==============================================================================\n",
              "Dep. Variable:                    bwt   Pseudo R-squared:               0.1211\n",
              "Model:                       QuantReg   Bandwidth:                      0.3353\n",
              "Method:                 Least Squares   Sparsity:                        7.432\n",
              "Date:                Wed, 23 Jan 2019   No. Observations:                 1174\n",
              "Time:                        23:27:58   Df Residuals:                     1165\n",
              "                                        Df Model:                            8\n",
              "==============================================================================\n",
              "                 coef    std err          t      P>|t|      [0.025      0.975]\n",
              "------------------------------------------------------------------------------\n",
              "Intercept      1.3598      0.052     26.297      0.000       1.258       1.461\n",
              "gestation      0.3559      0.078      4.546      0.000       0.202       0.510\n",
              "parity        -0.1061      0.051     -2.086      0.037      -0.206      -0.006\n",
              "age           -0.2326      1.222     -0.190      0.849      -2.631       2.166\n",
              "height         0.2443      0.679      0.360      0.719      -1.089       1.577\n",
              "weight        -0.0376      1.432     -0.026      0.979      -2.848       2.773\n",
              "smoke         -0.1648      0.053     -3.105      0.002      -0.269      -0.061\n",
              "BMI            0.1906      1.307      0.146      0.884      -2.375       2.756\n",
              "age_rt         0.2471      1.232      0.201      0.841      -2.171       2.665\n",
              "==============================================================================\n",
              "\"\"\""
            ]
          },
          "metadata": {
            "tags": []
          },
          "execution_count": 206
        }
      ]
    },
    {
      "metadata": {
        "id": "qq5Rahpbisiu",
        "colab_type": "text"
      },
      "cell_type": "markdown",
      "source": [
        "This is not a particularly good score on linreg or on quantile reg, however it does give us some useful info.\n",
        "\n",
        "1) low gestation times correspond to low bebby weights\n",
        "\n",
        "2) smoking increases the chance for a baby to be born into the low end of the spectrum, as does being older.\n",
        "\n",
        "this means that in order to increase your baby's chances of having a healthy weight, you should focus on not smoking(or drinking, although that was not represented in this set!) and minimizing factors that would cause premature birth, such as pollutants, high blood pressure and diabetes.  "
      ]
    },
    {
      "metadata": {
        "id": "x54ihTfeirNe",
        "colab_type": "code",
        "colab": {}
      },
      "cell_type": "code",
      "source": [
        ""
      ],
      "execution_count": 0,
      "outputs": []
    },
    {
      "metadata": {
        "id": "XY9JGAnJisdB",
        "colab_type": "text"
      },
      "cell_type": "markdown",
      "source": [
        "## Resources and stretch goals"
      ]
    },
    {
      "metadata": {
        "id": "inFWXSpqmND5",
        "colab_type": "text"
      },
      "cell_type": "markdown",
      "source": [
        "Resources:\n",
        "- [statsmodels QuantReg example](http://www.statsmodels.org/dev/examples/notebooks/generated/quantile_regression.html)\n",
        "- [How Shopify used Quantile Regression in modeling risk](https://medium.com/data-shopify/how-shopify-capital-uses-quantile-regression-to-help-merchants-succeed-10ee1b36b17d)\n",
        "\n",
        "Stretch goals:\n",
        "- Find a dataset where you think quantile regression may be appropriate, and try both it and linear regression - compare/contrast their strengths/weaknesses, and write a summary for which you think is better for the situation and why\n",
        "- Check out [deep quantile regression](https://www.kdnuggets.com/2018/07/deep-quantile-regression.html), an approach that uses a custom quantile loss function and Keras to train a quantile model"
      ]
    }
  ]
}