{
  "nbformat": 4,
  "nbformat_minor": 0,
  "metadata": {
    "colab": {
      "name": "Copy of LS_DS2_233_Quantile_Regression(with notes).ipynb",
      "version": "0.3.2",
      "provenance": [],
      "collapsed_sections": [],
      "include_colab_link": true
    },
    "kernelspec": {
      "name": "python3",
      "display_name": "Python 3"
    }
  },
  "cells": [
    {
      "cell_type": "markdown",
      "metadata": {
        "id": "view-in-github",
        "colab_type": "text"
      },
      "source": [
        "<a href=\"https://colab.research.google.com/github/ssingh1187/DS-Unit-2-Sprint-3-Advanced-Regression/blob/master/Copy_of_LS_DS2_233_Quantile_Regression(with_notes).ipynb\" target=\"_parent\"><img src=\"https://colab.research.google.com/assets/colab-badge.svg\" alt=\"Open In Colab\"/></a>"
      ]
    },
    {
      "metadata": {
        "id": "SV7gaADiicnV",
        "colab_type": "text"
      },
      "cell_type": "markdown",
      "source": [
        "# Lambda School Data Science - Quantile Regression\n",
        "\n",
        "Regressing towards the median - or any quantile - as a way to mitigate outliers and control risk."
      ]
    },
    {
      "metadata": {
        "id": "6klMj4q3iqMh",
        "colab_type": "text"
      },
      "cell_type": "markdown",
      "source": [
        "## Lecture\n",
        "\n",
        "Let's look at data that has a bit of a skew to it:\n",
        "\n",
        "http://archive.ics.uci.edu/ml/datasets/Beijing+PM2.5+Data"
      ]
    },
    {
      "metadata": {
        "id": "qiXEMaaiBqtX",
        "colab_type": "code",
        "colab": {}
      },
      "cell_type": "code",
      "source": [
        "# Quantiles = arbitraty cut off in a distribution / subset of data. ex: percentage, medians"
      ],
      "execution_count": 0,
      "outputs": []
    },
    {
      "metadata": {
        "id": "yw1AD_z9O0xL",
        "colab_type": "code",
        "colab": {}
      },
      "cell_type": "code",
      "source": [
        "import pandas as pd\n",
        "df = pd.read_csv('http://archive.ics.uci.edu/ml/machine-learning-databases/'\n",
        "                 '00381/PRSA_data_2010.1.1-2014.12.31.csv')"
      ],
      "execution_count": 0,
      "outputs": []
    },
    {
      "metadata": {
        "id": "RTlH1lJ8PDv5",
        "colab_type": "code",
        "outputId": "93931579-ed27-4664-96d0-73573ff578db",
        "colab": {
          "base_uri": "https://localhost:8080/",
          "height": 204
        }
      },
      "cell_type": "code",
      "source": [
        "df.head()"
      ],
      "execution_count": 38,
      "outputs": [
        {
          "output_type": "execute_result",
          "data": {
            "text/html": [
              "<div>\n",
              "<style scoped>\n",
              "    .dataframe tbody tr th:only-of-type {\n",
              "        vertical-align: middle;\n",
              "    }\n",
              "\n",
              "    .dataframe tbody tr th {\n",
              "        vertical-align: top;\n",
              "    }\n",
              "\n",
              "    .dataframe thead th {\n",
              "        text-align: right;\n",
              "    }\n",
              "</style>\n",
              "<table border=\"1\" class=\"dataframe\">\n",
              "  <thead>\n",
              "    <tr style=\"text-align: right;\">\n",
              "      <th></th>\n",
              "      <th>No</th>\n",
              "      <th>year</th>\n",
              "      <th>month</th>\n",
              "      <th>day</th>\n",
              "      <th>hour</th>\n",
              "      <th>pm2.5</th>\n",
              "      <th>DEWP</th>\n",
              "      <th>TEMP</th>\n",
              "      <th>PRES</th>\n",
              "      <th>cbwd</th>\n",
              "      <th>Iws</th>\n",
              "      <th>Is</th>\n",
              "      <th>Ir</th>\n",
              "    </tr>\n",
              "  </thead>\n",
              "  <tbody>\n",
              "    <tr>\n",
              "      <th>0</th>\n",
              "      <td>1</td>\n",
              "      <td>2010</td>\n",
              "      <td>1</td>\n",
              "      <td>1</td>\n",
              "      <td>0</td>\n",
              "      <td>NaN</td>\n",
              "      <td>-21</td>\n",
              "      <td>-11.0</td>\n",
              "      <td>1021.0</td>\n",
              "      <td>NW</td>\n",
              "      <td>1.79</td>\n",
              "      <td>0</td>\n",
              "      <td>0</td>\n",
              "    </tr>\n",
              "    <tr>\n",
              "      <th>1</th>\n",
              "      <td>2</td>\n",
              "      <td>2010</td>\n",
              "      <td>1</td>\n",
              "      <td>1</td>\n",
              "      <td>1</td>\n",
              "      <td>NaN</td>\n",
              "      <td>-21</td>\n",
              "      <td>-12.0</td>\n",
              "      <td>1020.0</td>\n",
              "      <td>NW</td>\n",
              "      <td>4.92</td>\n",
              "      <td>0</td>\n",
              "      <td>0</td>\n",
              "    </tr>\n",
              "    <tr>\n",
              "      <th>2</th>\n",
              "      <td>3</td>\n",
              "      <td>2010</td>\n",
              "      <td>1</td>\n",
              "      <td>1</td>\n",
              "      <td>2</td>\n",
              "      <td>NaN</td>\n",
              "      <td>-21</td>\n",
              "      <td>-11.0</td>\n",
              "      <td>1019.0</td>\n",
              "      <td>NW</td>\n",
              "      <td>6.71</td>\n",
              "      <td>0</td>\n",
              "      <td>0</td>\n",
              "    </tr>\n",
              "    <tr>\n",
              "      <th>3</th>\n",
              "      <td>4</td>\n",
              "      <td>2010</td>\n",
              "      <td>1</td>\n",
              "      <td>1</td>\n",
              "      <td>3</td>\n",
              "      <td>NaN</td>\n",
              "      <td>-21</td>\n",
              "      <td>-14.0</td>\n",
              "      <td>1019.0</td>\n",
              "      <td>NW</td>\n",
              "      <td>9.84</td>\n",
              "      <td>0</td>\n",
              "      <td>0</td>\n",
              "    </tr>\n",
              "    <tr>\n",
              "      <th>4</th>\n",
              "      <td>5</td>\n",
              "      <td>2010</td>\n",
              "      <td>1</td>\n",
              "      <td>1</td>\n",
              "      <td>4</td>\n",
              "      <td>NaN</td>\n",
              "      <td>-20</td>\n",
              "      <td>-12.0</td>\n",
              "      <td>1018.0</td>\n",
              "      <td>NW</td>\n",
              "      <td>12.97</td>\n",
              "      <td>0</td>\n",
              "      <td>0</td>\n",
              "    </tr>\n",
              "  </tbody>\n",
              "</table>\n",
              "</div>"
            ],
            "text/plain": [
              "   No  year  month  day  hour  pm2.5  DEWP  TEMP    PRES cbwd    Iws  Is  Ir\n",
              "0   1  2010      1    1     0    NaN   -21 -11.0  1021.0   NW   1.79   0   0\n",
              "1   2  2010      1    1     1    NaN   -21 -12.0  1020.0   NW   4.92   0   0\n",
              "2   3  2010      1    1     2    NaN   -21 -11.0  1019.0   NW   6.71   0   0\n",
              "3   4  2010      1    1     3    NaN   -21 -14.0  1019.0   NW   9.84   0   0\n",
              "4   5  2010      1    1     4    NaN   -20 -12.0  1018.0   NW  12.97   0   0"
            ]
          },
          "metadata": {
            "tags": []
          },
          "execution_count": 38
        }
      ]
    },
    {
      "metadata": {
        "id": "m-yC9OSPPFo8",
        "colab_type": "code",
        "outputId": "75d42c79-c323-4f9f-b93c-e5cbde5ae1a3",
        "colab": {
          "base_uri": "https://localhost:8080/",
          "height": 317
        }
      },
      "cell_type": "code",
      "source": [
        "df.describe()"
      ],
      "execution_count": 39,
      "outputs": [
        {
          "output_type": "execute_result",
          "data": {
            "text/html": [
              "<div>\n",
              "<style scoped>\n",
              "    .dataframe tbody tr th:only-of-type {\n",
              "        vertical-align: middle;\n",
              "    }\n",
              "\n",
              "    .dataframe tbody tr th {\n",
              "        vertical-align: top;\n",
              "    }\n",
              "\n",
              "    .dataframe thead th {\n",
              "        text-align: right;\n",
              "    }\n",
              "</style>\n",
              "<table border=\"1\" class=\"dataframe\">\n",
              "  <thead>\n",
              "    <tr style=\"text-align: right;\">\n",
              "      <th></th>\n",
              "      <th>No</th>\n",
              "      <th>year</th>\n",
              "      <th>month</th>\n",
              "      <th>day</th>\n",
              "      <th>hour</th>\n",
              "      <th>pm2.5</th>\n",
              "      <th>DEWP</th>\n",
              "      <th>TEMP</th>\n",
              "      <th>PRES</th>\n",
              "      <th>Iws</th>\n",
              "      <th>Is</th>\n",
              "      <th>Ir</th>\n",
              "    </tr>\n",
              "  </thead>\n",
              "  <tbody>\n",
              "    <tr>\n",
              "      <th>count</th>\n",
              "      <td>43824.000000</td>\n",
              "      <td>43824.000000</td>\n",
              "      <td>43824.000000</td>\n",
              "      <td>43824.000000</td>\n",
              "      <td>43824.000000</td>\n",
              "      <td>41757.000000</td>\n",
              "      <td>43824.000000</td>\n",
              "      <td>43824.000000</td>\n",
              "      <td>43824.000000</td>\n",
              "      <td>43824.000000</td>\n",
              "      <td>43824.000000</td>\n",
              "      <td>43824.000000</td>\n",
              "    </tr>\n",
              "    <tr>\n",
              "      <th>mean</th>\n",
              "      <td>21912.500000</td>\n",
              "      <td>2012.000000</td>\n",
              "      <td>6.523549</td>\n",
              "      <td>15.727820</td>\n",
              "      <td>11.500000</td>\n",
              "      <td>98.613215</td>\n",
              "      <td>1.817246</td>\n",
              "      <td>12.448521</td>\n",
              "      <td>1016.447654</td>\n",
              "      <td>23.889140</td>\n",
              "      <td>0.052734</td>\n",
              "      <td>0.194916</td>\n",
              "    </tr>\n",
              "    <tr>\n",
              "      <th>std</th>\n",
              "      <td>12651.043435</td>\n",
              "      <td>1.413842</td>\n",
              "      <td>3.448572</td>\n",
              "      <td>8.799425</td>\n",
              "      <td>6.922266</td>\n",
              "      <td>92.050387</td>\n",
              "      <td>14.433440</td>\n",
              "      <td>12.198613</td>\n",
              "      <td>10.268698</td>\n",
              "      <td>50.010635</td>\n",
              "      <td>0.760375</td>\n",
              "      <td>1.415867</td>\n",
              "    </tr>\n",
              "    <tr>\n",
              "      <th>min</th>\n",
              "      <td>1.000000</td>\n",
              "      <td>2010.000000</td>\n",
              "      <td>1.000000</td>\n",
              "      <td>1.000000</td>\n",
              "      <td>0.000000</td>\n",
              "      <td>0.000000</td>\n",
              "      <td>-40.000000</td>\n",
              "      <td>-19.000000</td>\n",
              "      <td>991.000000</td>\n",
              "      <td>0.450000</td>\n",
              "      <td>0.000000</td>\n",
              "      <td>0.000000</td>\n",
              "    </tr>\n",
              "    <tr>\n",
              "      <th>25%</th>\n",
              "      <td>10956.750000</td>\n",
              "      <td>2011.000000</td>\n",
              "      <td>4.000000</td>\n",
              "      <td>8.000000</td>\n",
              "      <td>5.750000</td>\n",
              "      <td>29.000000</td>\n",
              "      <td>-10.000000</td>\n",
              "      <td>2.000000</td>\n",
              "      <td>1008.000000</td>\n",
              "      <td>1.790000</td>\n",
              "      <td>0.000000</td>\n",
              "      <td>0.000000</td>\n",
              "    </tr>\n",
              "    <tr>\n",
              "      <th>50%</th>\n",
              "      <td>21912.500000</td>\n",
              "      <td>2012.000000</td>\n",
              "      <td>7.000000</td>\n",
              "      <td>16.000000</td>\n",
              "      <td>11.500000</td>\n",
              "      <td>72.000000</td>\n",
              "      <td>2.000000</td>\n",
              "      <td>14.000000</td>\n",
              "      <td>1016.000000</td>\n",
              "      <td>5.370000</td>\n",
              "      <td>0.000000</td>\n",
              "      <td>0.000000</td>\n",
              "    </tr>\n",
              "    <tr>\n",
              "      <th>75%</th>\n",
              "      <td>32868.250000</td>\n",
              "      <td>2013.000000</td>\n",
              "      <td>10.000000</td>\n",
              "      <td>23.000000</td>\n",
              "      <td>17.250000</td>\n",
              "      <td>137.000000</td>\n",
              "      <td>15.000000</td>\n",
              "      <td>23.000000</td>\n",
              "      <td>1025.000000</td>\n",
              "      <td>21.910000</td>\n",
              "      <td>0.000000</td>\n",
              "      <td>0.000000</td>\n",
              "    </tr>\n",
              "    <tr>\n",
              "      <th>max</th>\n",
              "      <td>43824.000000</td>\n",
              "      <td>2014.000000</td>\n",
              "      <td>12.000000</td>\n",
              "      <td>31.000000</td>\n",
              "      <td>23.000000</td>\n",
              "      <td>994.000000</td>\n",
              "      <td>28.000000</td>\n",
              "      <td>42.000000</td>\n",
              "      <td>1046.000000</td>\n",
              "      <td>585.600000</td>\n",
              "      <td>27.000000</td>\n",
              "      <td>36.000000</td>\n",
              "    </tr>\n",
              "  </tbody>\n",
              "</table>\n",
              "</div>"
            ],
            "text/plain": [
              "                 No          year         month           day          hour  \\\n",
              "count  43824.000000  43824.000000  43824.000000  43824.000000  43824.000000   \n",
              "mean   21912.500000   2012.000000      6.523549     15.727820     11.500000   \n",
              "std    12651.043435      1.413842      3.448572      8.799425      6.922266   \n",
              "min        1.000000   2010.000000      1.000000      1.000000      0.000000   \n",
              "25%    10956.750000   2011.000000      4.000000      8.000000      5.750000   \n",
              "50%    21912.500000   2012.000000      7.000000     16.000000     11.500000   \n",
              "75%    32868.250000   2013.000000     10.000000     23.000000     17.250000   \n",
              "max    43824.000000   2014.000000     12.000000     31.000000     23.000000   \n",
              "\n",
              "              pm2.5          DEWP          TEMP          PRES           Iws  \\\n",
              "count  41757.000000  43824.000000  43824.000000  43824.000000  43824.000000   \n",
              "mean      98.613215      1.817246     12.448521   1016.447654     23.889140   \n",
              "std       92.050387     14.433440     12.198613     10.268698     50.010635   \n",
              "min        0.000000    -40.000000    -19.000000    991.000000      0.450000   \n",
              "25%       29.000000    -10.000000      2.000000   1008.000000      1.790000   \n",
              "50%       72.000000      2.000000     14.000000   1016.000000      5.370000   \n",
              "75%      137.000000     15.000000     23.000000   1025.000000     21.910000   \n",
              "max      994.000000     28.000000     42.000000   1046.000000    585.600000   \n",
              "\n",
              "                 Is            Ir  \n",
              "count  43824.000000  43824.000000  \n",
              "mean       0.052734      0.194916  \n",
              "std        0.760375      1.415867  \n",
              "min        0.000000      0.000000  \n",
              "25%        0.000000      0.000000  \n",
              "50%        0.000000      0.000000  \n",
              "75%        0.000000      0.000000  \n",
              "max       27.000000     36.000000  "
            ]
          },
          "metadata": {
            "tags": []
          },
          "execution_count": 39
        }
      ]
    },
    {
      "metadata": {
        "id": "hfV3WisFP_O6",
        "colab_type": "code",
        "outputId": "bab67bb3-e0b8-4bfa-a0df-4be27db39a35",
        "colab": {
          "base_uri": "https://localhost:8080/",
          "height": 347
        }
      },
      "cell_type": "code",
      "source": [
        "df['pm2.5'].plot.hist(bins=30); \n",
        "\n",
        "# plot is right skewed, right tailed\n",
        "\n",
        "# mean gets pulled towards outliers"
      ],
      "execution_count": 40,
      "outputs": [
        {
          "output_type": "display_data",
          "data": {
            "image/png": "[encoded data removed]",
            "text/plain": [
              "<Figure size 576x396 with 1 Axes>"
            ]
          },
          "metadata": {
            "tags": []
          }
        }
      ]
    },
    {
      "metadata": {
        "id": "OgbMTAHzQJB8",
        "colab_type": "code",
        "outputId": "9b9774ce-06a4-4c1b-ea96-c39112458650",
        "colab": {
          "base_uri": "https://localhost:8080/",
          "height": 34
        }
      },
      "cell_type": "code",
      "source": [
        "# How does linear regression handle it?\n",
        "from sklearn.linear_model import LinearRegression\n",
        "\n",
        "# Let's drop NAs and limit to numeric values\n",
        "df = df._get_numeric_data().dropna()\n",
        "X = df.drop('pm2.5', axis='columns')\n",
        "y = df['pm2.5']\n",
        "\n",
        "linear_reg = LinearRegression().fit(X, y)\n",
        "linear_reg.score(X, y)\n",
        "\n",
        "# r^2 is .26"
      ],
      "execution_count": 41,
      "outputs": [
        {
          "output_type": "execute_result",
          "data": {
            "text/plain": [
              "0.2590006399659215"
            ]
          },
          "metadata": {
            "tags": []
          },
          "execution_count": 41
        }
      ]
    },
    {
      "metadata": {
        "id": "1Tv8r_xSxMwZ",
        "colab_type": "code",
        "outputId": "ef1fbdd1-5aab-47c3-d16f-9b3f612f9792",
        "colab": {
          "base_uri": "https://localhost:8080/",
          "height": 34
        }
      },
      "cell_type": "code",
      "source": [
        "','.join(['1', '2', '3'])\n",
        "# import csv"
      ],
      "execution_count": 42,
      "outputs": [
        {
          "output_type": "execute_result",
          "data": {
            "text/plain": [
              "'1,2,3'"
            ]
          },
          "metadata": {
            "tags": []
          },
          "execution_count": 42
        }
      ]
    },
    {
      "metadata": {
        "id": "-viFFtm0RizM",
        "colab_type": "code",
        "outputId": "b540859f-19f6-4b45-c74d-62ed0bdbfc3a",
        "colab": {
          "base_uri": "https://localhost:8080/",
          "height": 454
        }
      },
      "cell_type": "code",
      "source": [
        "# Not bad - but what if we wanted to model the distribution more conservatively?\n",
        "# Let's try quantile\n",
        "import statsmodels.formula.api as smf\n",
        "\n",
        "# Different jargon/API in StatsModel documentation\n",
        "# \"endogenous\" response var is dependent (y), it is \"inside\"\n",
        "# \"exogenous\" variables are independent (X), it is \"outside\"\n",
        "# Bonus points - talk about \"exogenous shocks\" and you're a bona fide economist\n",
        "\n",
        "# ~ style formulas look like what R uses\n",
        "# y ~ x1 + x2 + ...\n",
        "# They can also support * for interaction terms and polynomials\n",
        "# y ~ x1 + (x1 * x1) + x2 + (x1 * x2)\n",
        "# Also, these formulas break with . in variable name, so lets change that\n",
        "df = df.rename(index=str, columns={'pm2.5': 'pm25'})\n",
        "\n",
        "# Now let's construct the formula string using all columns\n",
        "quant_formula = 'pm25 ~ ' + ' + '.join(df.drop('pm25', axis='columns').columns)\n",
        "print(quant_formula)\n",
        "\n",
        "quant_mod = smf.quantreg(quant_formula, data=df)\n",
        "quant_reg = quant_mod.fit(q=.5)\n",
        "quant_reg.summary()  # \"summary\" is another very R-thing"
      ],
      "execution_count": 43,
      "outputs": [
        {
          "output_type": "stream",
          "text": [
            "pm25 ~ No + year + month + day + hour + DEWP + TEMP + PRES + Iws + Is + Ir\n"
          ],
          "name": "stdout"
        },
        {
          "output_type": "execute_result",
          "data": {
            "text/html": [
              "<table class=\"simpletable\">\n",
              "<caption>QuantReg Regression Results</caption>\n",
              "<tr>\n",
              "  <th>Dep. Variable:</th>       <td>pm25</td>       <th>  Pseudo R-squared:  </th> <td>  0.1600</td>\n",
              "</tr>\n",
              "<tr>\n",
              "  <th>Model:</th>             <td>QuantReg</td>     <th>  Bandwidth:         </th> <td>   8.276</td>\n",
              "</tr>\n",
              "<tr>\n",
              "  <th>Method:</th>          <td>Least Squares</td>  <th>  Sparsity:          </th> <td>   133.8</td>\n",
              "</tr>\n",
              "<tr>\n",
              "  <th>Date:</th>          <td>Thu, 28 Feb 2019</td> <th>  No. Observations:  </th>  <td> 41757</td> \n",
              "</tr>\n",
              "<tr>\n",
              "  <th>Time:</th>              <td>05:22:06</td>     <th>  Df Residuals:      </th>  <td> 41745</td> \n",
              "</tr>\n",
              "<tr>\n",
              "  <th> </th>                      <td> </td>        <th>  Df Model:          </th>  <td>    11</td> \n",
              "</tr>\n",
              "</table>\n",
              "<table class=\"simpletable\">\n",
              "<tr>\n",
              "      <td></td>         <th>coef</th>     <th>std err</th>      <th>t</th>      <th>P>|t|</th>  <th>[0.025</th>    <th>0.975]</th>  \n",
              "</tr>\n",
              "<tr>\n",
              "  <th>Intercept</th> <td>    0.0004</td> <td> 1.67e-05</td> <td>   22.881</td> <td> 0.000</td> <td>    0.000</td> <td>    0.000</td>\n",
              "</tr>\n",
              "<tr>\n",
              "  <th>No</th>        <td>  3.63e-07</td> <td> 2.67e-05</td> <td>    0.014</td> <td> 0.989</td> <td> -5.2e-05</td> <td> 5.27e-05</td>\n",
              "</tr>\n",
              "<tr>\n",
              "  <th>year</th>      <td>    0.8830</td> <td>    0.031</td> <td>   28.631</td> <td> 0.000</td> <td>    0.823</td> <td>    0.943</td>\n",
              "</tr>\n",
              "<tr>\n",
              "  <th>month</th>     <td>   -1.4110</td> <td>    0.103</td> <td>  -13.749</td> <td> 0.000</td> <td>   -1.612</td> <td>   -1.210</td>\n",
              "</tr>\n",
              "<tr>\n",
              "  <th>day</th>       <td>    0.4461</td> <td>    0.037</td> <td>   11.951</td> <td> 0.000</td> <td>    0.373</td> <td>    0.519</td>\n",
              "</tr>\n",
              "<tr>\n",
              "  <th>hour</th>      <td>    1.2810</td> <td>    0.050</td> <td>   25.779</td> <td> 0.000</td> <td>    1.184</td> <td>    1.378</td>\n",
              "</tr>\n",
              "<tr>\n",
              "  <th>DEWP</th>      <td>    3.6362</td> <td>    0.047</td> <td>   77.315</td> <td> 0.000</td> <td>    3.544</td> <td>    3.728</td>\n",
              "</tr>\n",
              "<tr>\n",
              "  <th>TEMP</th>      <td>   -4.7103</td> <td>    0.060</td> <td>  -78.779</td> <td> 0.000</td> <td>   -4.828</td> <td>   -4.593</td>\n",
              "</tr>\n",
              "<tr>\n",
              "  <th>PRES</th>      <td>   -1.6265</td> <td>    0.061</td> <td>  -26.760</td> <td> 0.000</td> <td>   -1.746</td> <td>   -1.507</td>\n",
              "</tr>\n",
              "<tr>\n",
              "  <th>Iws</th>       <td>   -0.1541</td> <td>    0.007</td> <td>  -21.786</td> <td> 0.000</td> <td>   -0.168</td> <td>   -0.140</td>\n",
              "</tr>\n",
              "<tr>\n",
              "  <th>Is</th>        <td>   -1.6322</td> <td>    0.425</td> <td>   -3.838</td> <td> 0.000</td> <td>   -2.466</td> <td>   -0.799</td>\n",
              "</tr>\n",
              "<tr>\n",
              "  <th>Ir</th>        <td>   -5.3946</td> <td>    0.234</td> <td>  -23.034</td> <td> 0.000</td> <td>   -5.854</td> <td>   -4.936</td>\n",
              "</tr>\n",
              "</table>"
            ],
            "text/plain": [
              "<class 'statsmodels.iolib.summary.Summary'>\n",
              "\"\"\"\n",
              "                         QuantReg Regression Results                          \n",
              "==============================================================================\n",
              "Dep. Variable:                   pm25   Pseudo R-squared:               0.1600\n",
              "Model:                       QuantReg   Bandwidth:                       8.276\n",
              "Method:                 Least Squares   Sparsity:                        133.8\n",
              "Date:                Thu, 28 Feb 2019   No. Observations:                41757\n",
              "Time:                        05:22:06   Df Residuals:                    41745\n",
              "                                        Df Model:                           11\n",
              "==============================================================================\n",
              "                 coef    std err          t      P>|t|      [0.025      0.975]\n",
              "------------------------------------------------------------------------------\n",
              "Intercept      0.0004   1.67e-05     22.881      0.000       0.000       0.000\n",
              "No           3.63e-07   2.67e-05      0.014      0.989    -5.2e-05    5.27e-05\n",
              "year           0.8830      0.031     28.631      0.000       0.823       0.943\n",
              "month         -1.4110      0.103    -13.749      0.000      -1.612      -1.210\n",
              "day            0.4461      0.037     11.951      0.000       0.373       0.519\n",
              "hour           1.2810      0.050     25.779      0.000       1.184       1.378\n",
              "DEWP           3.6362      0.047     77.315      0.000       3.544       3.728\n",
              "TEMP          -4.7103      0.060    -78.779      0.000      -4.828      -4.593\n",
              "PRES          -1.6265      0.061    -26.760      0.000      -1.746      -1.507\n",
              "Iws           -0.1541      0.007    -21.786      0.000      -0.168      -0.140\n",
              "Is            -1.6322      0.425     -3.838      0.000      -2.466      -0.799\n",
              "Ir            -5.3946      0.234    -23.034      0.000      -5.854      -4.936\n",
              "==============================================================================\n",
              "\n",
              "The condition number is large, 3.67e+10. This might indicate that there are\n",
              "strong multicollinearity or other numerical problems.\n",
              "\"\"\""
            ]
          },
          "metadata": {
            "tags": []
          },
          "execution_count": 43
        }
      ]
    },
    {
      "metadata": {
        "id": "96D4SNnDJmhS",
        "colab_type": "code",
        "outputId": "a41b557a-336c-4850-c288-36952c04162e",
        "colab": {
          "base_uri": "https://localhost:8080/",
          "height": 34
        }
      },
      "cell_type": "code",
      "source": [
        "# Year Coef / std err ~ t statistic\n",
        "0.8830 / 0.031"
      ],
      "execution_count": 44,
      "outputs": [
        {
          "output_type": "execute_result",
          "data": {
            "text/plain": [
              "28.483870967741936"
            ]
          },
          "metadata": {
            "tags": []
          },
          "execution_count": 44
        }
      ]
    },
    {
      "metadata": {
        "id": "ZBkP4bewd-HT",
        "colab_type": "text"
      },
      "cell_type": "markdown",
      "source": [
        "That fit to the median (q=0.5), also called \"Least Absolute Deviation.\" The pseudo-R^2 isn't really directly comparable to the R^2 from linear regression, but it clearly isn't dramatically improved. Can we make it better?"
      ]
    },
    {
      "metadata": {
        "id": "BgvYeHg3bL4g",
        "colab_type": "code",
        "outputId": "ada6e560-7622-4988-f35d-188bed5485b9",
        "colab": {
          "base_uri": "https://localhost:8080/",
          "height": 581
        }
      },
      "cell_type": "code",
      "source": [
        "help(quant_mod.fit)"
      ],
      "execution_count": 45,
      "outputs": [
        {
          "output_type": "stream",
          "text": [
            "Help on method fit in module statsmodels.regression.quantile_regression:\n",
            "\n",
            "fit(q=0.5, vcov='robust', kernel='epa', bandwidth='hsheather', max_iter=1000, p_tol=1e-06, **kwargs) method of statsmodels.regression.quantile_regression.QuantReg instance\n",
            "    Solve by Iterative Weighted Least Squares\n",
            "    \n",
            "    Parameters\n",
            "    ----------\n",
            "    q : float\n",
            "        Quantile must be between 0 and 1\n",
            "    vcov : string, method used to calculate the variance-covariance matrix\n",
            "        of the parameters. Default is ``robust``:\n",
            "    \n",
            "        - robust : heteroskedasticity robust standard errors (as suggested\n",
            "          in Greene 6th edition)\n",
            "        - iid : iid errors (as in Stata 12)\n",
            "    \n",
            "    kernel : string, kernel to use in the kernel density estimation for the\n",
            "        asymptotic covariance matrix:\n",
            "    \n",
            "        - epa: Epanechnikov\n",
            "        - cos: Cosine\n",
            "        - gau: Gaussian\n",
            "        - par: Parzene\n",
            "    \n",
            "    bandwidth: string, Bandwidth selection method in kernel density\n",
            "        estimation for asymptotic covariance estimate (full\n",
            "        references in QuantReg docstring):\n",
            "    \n",
            "        - hsheather: Hall-Sheather (1988)\n",
            "        - bofinger: Bofinger (1975)\n",
            "        - chamberlain: Chamberlain (1994)\n",
            "\n"
          ],
          "name": "stdout"
        }
      ]
    },
    {
      "metadata": {
        "id": "_UdyTFEAy4Mr",
        "colab_type": "text"
      },
      "cell_type": "markdown",
      "source": [
        "Pretend R code\n",
        "\n",
        "```\n",
        "ols1 <- lm(y ~ x1 + x2 + (x1 * x1))\n",
        "summary(ols1)\n",
        "```"
      ]
    },
    {
      "metadata": {
        "id": "lpNPioZTei4U",
        "colab_type": "code",
        "outputId": "55445c51-687b-42a7-eaca-e421ce8a90ff",
        "colab": {
          "base_uri": "https://localhost:8080/",
          "height": 1394
        }
      },
      "cell_type": "code",
      "source": [
        "quantiles = (.05, .96, .1)\n",
        "\n",
        "for quantile in quantiles:\n",
        "  print(quant_mod.fit(q=quantile).summary())"
      ],
      "execution_count": 46,
      "outputs": [
        {
          "output_type": "stream",
          "text": [
            "                         QuantReg Regression Results                          \n",
            "==============================================================================\n",
            "Dep. Variable:                   pm25   Pseudo R-squared:              0.04130\n",
            "Model:                       QuantReg   Bandwidth:                       8.908\n",
            "Method:                 Least Squares   Sparsity:                        120.7\n",
            "Date:                Thu, 28 Feb 2019   No. Observations:                41757\n",
            "Time:                        05:22:20   Df Residuals:                    41745\n",
            "                                        Df Model:                           11\n",
            "==============================================================================\n",
            "                 coef    std err          t      P>|t|      [0.025      0.975]\n",
            "------------------------------------------------------------------------------\n",
            "Intercept   3.072e-05    6.4e-06      4.803      0.000    1.82e-05    4.33e-05\n",
            "No         -6.994e-05   9.59e-06     -7.292      0.000   -8.87e-05   -5.11e-05\n",
            "year           0.0998      0.012      8.275      0.000       0.076       0.123\n",
            "month         -0.4536      0.034    -13.419      0.000      -0.520      -0.387\n",
            "day            0.1143      0.015      7.862      0.000       0.086       0.143\n",
            "hour           0.3777      0.020     19.013      0.000       0.339       0.417\n",
            "DEWP           0.7720      0.014     55.266      0.000       0.745       0.799\n",
            "TEMP          -0.8346      0.020    -41.621      0.000      -0.874      -0.795\n",
            "PRES          -0.1734      0.024     -7.290      0.000      -0.220      -0.127\n",
            "Iws           -0.0364      0.002    -17.462      0.000      -0.040      -0.032\n",
            "Is             1.4573      0.195      7.466      0.000       1.075       1.840\n",
            "Ir            -1.2952      0.071    -18.209      0.000      -1.435      -1.156\n",
            "==============================================================================\n",
            "\n",
            "The condition number is large, 3.67e+10. This might indicate that there are\n",
            "strong multicollinearity or other numerical problems.\n",
            "                         QuantReg Regression Results                          \n",
            "==============================================================================\n",
            "Dep. Variable:                   pm25   Pseudo R-squared:               0.2194\n",
            "Model:                       QuantReg   Bandwidth:                       10.41\n",
            "Method:                 Least Squares   Sparsity:                        1322.\n",
            "Date:                Thu, 28 Feb 2019   No. Observations:                41757\n",
            "Time:                        05:22:21   Df Residuals:                    41745\n",
            "                                        Df Model:                           11\n",
            "==============================================================================\n",
            "                 coef    std err          t      P>|t|      [0.025      0.975]\n",
            "------------------------------------------------------------------------------\n",
            "Intercept      0.0004   6.87e-05      5.306      0.000       0.000       0.000\n",
            "No          7.821e-05      0.000      0.696      0.486      -0.000       0.000\n",
            "year           1.0580      0.124      8.539      0.000       0.815       1.301\n",
            "month         -3.9661      0.446     -8.895      0.000      -4.840      -3.092\n",
            "day            1.0816      0.136      7.936      0.000       0.814       1.349\n",
            "hour           2.3661      0.192     12.354      0.000       1.991       2.741\n",
            "DEWP           7.5176      0.235     32.004      0.000       7.057       7.978\n",
            "TEMP         -11.6991      0.302    -38.691      0.000     -12.292     -11.106\n",
            "PRES          -1.7121      0.244     -7.003      0.000      -2.191      -1.233\n",
            "Iws           -0.4151      0.034    -12.339      0.000      -0.481      -0.349\n",
            "Is            -5.7267      1.580     -3.624      0.000      -8.824      -2.630\n",
            "Ir            -9.3197      1.457     -6.397      0.000     -12.175      -6.464\n",
            "==============================================================================\n",
            "\n",
            "The condition number is large, 3.67e+10. This might indicate that there are\n",
            "strong multicollinearity or other numerical problems.\n",
            "                         QuantReg Regression Results                          \n",
            "==============================================================================\n",
            "Dep. Variable:                   pm25   Pseudo R-squared:              0.06497\n",
            "Model:                       QuantReg   Bandwidth:                       8.092\n",
            "Method:                 Least Squares   Sparsity:                        104.4\n",
            "Date:                Thu, 28 Feb 2019   No. Observations:                41757\n",
            "Time:                        05:22:23   Df Residuals:                    41745\n",
            "                                        Df Model:                           11\n",
            "==============================================================================\n",
            "                 coef    std err          t      P>|t|      [0.025      0.975]\n",
            "------------------------------------------------------------------------------\n",
            "Intercept   5.214e-05   7.84e-06      6.650      0.000    3.68e-05    6.75e-05\n",
            "No         -9.232e-05   1.17e-05     -7.888      0.000      -0.000   -6.94e-05\n",
            "year           0.1521      0.015     10.386      0.000       0.123       0.181\n",
            "month         -0.5581      0.042    -13.138      0.000      -0.641      -0.475\n",
            "day            0.1708      0.017      9.893      0.000       0.137       0.205\n",
            "hour           0.4604      0.024     19.350      0.000       0.414       0.507\n",
            "DEWP           1.2350      0.017     70.845      0.000       1.201       1.269\n",
            "TEMP          -1.3088      0.024    -54.101      0.000      -1.356      -1.261\n",
            "PRES          -0.2652      0.029     -9.183      0.000      -0.322      -0.209\n",
            "Iws           -0.0436      0.003    -16.919      0.000      -0.049      -0.039\n",
            "Is             1.0745      0.231      4.653      0.000       0.622       1.527\n",
            "Ir            -1.9619      0.087    -22.504      0.000      -2.133      -1.791\n",
            "==============================================================================\n",
            "\n",
            "The condition number is large, 3.67e+10. This might indicate that there are\n",
            "strong multicollinearity or other numerical problems.\n"
          ],
          "name": "stdout"
        }
      ]
    },
    {
      "metadata": {
        "id": "Xqh4Jp1XgjrE",
        "colab_type": "text"
      },
      "cell_type": "markdown",
      "source": [
        "\"Strong multicollinearity\", eh? In other words - maybe we shouldn't throw every variable in our formula. Let's hand-craft a smaller one, picking the features with the largest magnitude t-statistics for their coefficients. Let's also search for more quantile cutoffs to see what's most effective."
      ]
    },
    {
      "metadata": {
        "id": "NmoELnXwgpXd",
        "colab_type": "code",
        "outputId": "ab704fbf-c24b-4308-9c09-cbb7eec4370f",
        "colab": {
          "base_uri": "https://localhost:8080/",
          "height": 955
        }
      },
      "cell_type": "code",
      "source": [
        "quant_formula = 'pm25 ~ DEWP + TEMP + Ir + hour + Iws'\n",
        "quant_mod = smf.quantreg(quant_formula, data=df)\n",
        "for quantile in range(50, 100):\n",
        "  quantile /= 100\n",
        "  quant_reg = quant_mod.fit(q=quantile)\n",
        "  print((quantile, quant_reg.prsquared))"
      ],
      "execution_count": 47,
      "outputs": [
        {
          "output_type": "stream",
          "text": [
            "(0.5, 0.1447879336023583)\n",
            "(0.51, 0.1453046499109799)\n",
            "(0.52, 0.1457984456251047)\n",
            "(0.53, 0.14627848333343263)\n",
            "(0.54, 0.1467640446791706)\n",
            "(0.55, 0.14733094668790292)\n",
            "(0.56, 0.14787821797693512)\n",
            "(0.57, 0.14840185621049273)\n",
            "(0.58, 0.14892138273908107)\n",
            "(0.59, 0.14946793972061212)\n"
          ],
          "name": "stdout"
        },
        {
          "output_type": "stream",
          "text": [
            "/usr/local/lib/python3.6/dist-packages/statsmodels/regression/quantile_regression.py:193: IterationLimitWarning: Maximum number of iterations (1000) reached.\n",
            "  \") reached.\", IterationLimitWarning)\n"
          ],
          "name": "stderr"
        },
        {
          "output_type": "stream",
          "text": [
            "(0.6, 0.1500450836285967)\n",
            "(0.61, 0.15066665485612274)\n",
            "(0.62, 0.15131550520931825)\n",
            "(0.63, 0.15201598245712966)\n",
            "(0.64, 0.152815632180745)\n",
            "(0.65, 0.15360133883660188)\n",
            "(0.66, 0.15440046026580068)\n",
            "(0.67, 0.15521251759239985)\n",
            "(0.68, 0.15607615678951559)\n",
            "(0.69, 0.15692695615298136)\n",
            "(0.7, 0.1577663389046554)\n",
            "(0.71, 0.15865286212994567)\n",
            "(0.72, 0.15961363441229715)\n",
            "(0.73, 0.16062991121153458)\n",
            "(0.74, 0.1617151201897239)\n",
            "(0.75, 0.16280951619867146)\n",
            "(0.76, 0.16394259393342125)\n",
            "(0.77, 0.16517451474458056)\n",
            "(0.78, 0.1664423443710097)\n",
            "(0.79, 0.16770815353095714)\n"
          ],
          "name": "stdout"
        },
        {
          "output_type": "stream",
          "text": [
            "/usr/local/lib/python3.6/dist-packages/statsmodels/regression/quantile_regression.py:193: IterationLimitWarning: Maximum number of iterations (1000) reached.\n",
            "  \") reached.\", IterationLimitWarning)\n"
          ],
          "name": "stderr"
        },
        {
          "output_type": "stream",
          "text": [
            "(0.8, 0.16904227356438506)\n",
            "(0.81, 0.17037126968955685)\n",
            "(0.82, 0.17195593122357777)\n",
            "(0.83, 0.17383892606382623)\n",
            "(0.84, 0.17599918426382777)\n",
            "(0.85, 0.17817588507328963)\n",
            "(0.86, 0.18047434708570964)\n",
            "(0.87, 0.18274842963575832)\n",
            "(0.88, 0.1850748927825704)\n",
            "(0.89, 0.18767194363846373)\n",
            "(0.9, 0.1899871464061209)\n",
            "(0.91, 0.19205778885867675)\n",
            "(0.92, 0.19409258046839573)\n",
            "(0.93, 0.1960928580149024)\n",
            "(0.94, 0.1990718585613529)\n",
            "(0.95, 0.20306510227274233)\n",
            "(0.96, 0.20828854295993626)\n",
            "(0.97, 0.21268428179968246)\n",
            "(0.98, 0.21668870123970496)\n",
            "(0.99, 0.21742941318156628)\n"
          ],
          "name": "stdout"
        }
      ]
    },
    {
      "metadata": {
        "id": "Bz0GmE5kuwQY",
        "colab_type": "code",
        "outputId": "1c20adb9-2514-4ce9-ba25-b587b9190d3c",
        "colab": {
          "base_uri": "https://localhost:8080/",
          "height": 311
        }
      },
      "cell_type": "code",
      "source": [
        "# Okay, this data seems *extremely* skewed\n",
        "# Let's trying logging\n",
        "import numpy as np\n",
        "\n",
        "df['pm25'] = np.log(1 + df['pm25'])\n",
        "quant_mod = smf.quantreg(quant_formula, data=df)\n",
        "quant_reg = quant_mod.fit(q=.25)\n",
        "quant_reg.summary()  # \"summary\" is another very R-thing"
      ],
      "execution_count": 48,
      "outputs": [
        {
          "output_type": "execute_result",
          "data": {
            "text/html": [
              "<table class=\"simpletable\">\n",
              "<caption>QuantReg Regression Results</caption>\n",
              "<tr>\n",
              "  <th>Dep. Variable:</th>       <td>pm25</td>       <th>  Pseudo R-squared:  </th> <td>  0.2292</td>\n",
              "</tr>\n",
              "<tr>\n",
              "  <th>Model:</th>             <td>QuantReg</td>     <th>  Bandwidth:         </th> <td>  0.1012</td>\n",
              "</tr>\n",
              "<tr>\n",
              "  <th>Method:</th>          <td>Least Squares</td>  <th>  Sparsity:          </th> <td>   2.806</td>\n",
              "</tr>\n",
              "<tr>\n",
              "  <th>Date:</th>          <td>Thu, 28 Feb 2019</td> <th>  No. Observations:  </th>  <td> 41757</td> \n",
              "</tr>\n",
              "<tr>\n",
              "  <th>Time:</th>              <td>05:23:22</td>     <th>  Df Residuals:      </th>  <td> 41751</td> \n",
              "</tr>\n",
              "<tr>\n",
              "  <th> </th>                      <td> </td>        <th>  Df Model:          </th>  <td>     5</td> \n",
              "</tr>\n",
              "</table>\n",
              "<table class=\"simpletable\">\n",
              "<tr>\n",
              "      <td></td>         <th>coef</th>     <th>std err</th>      <th>t</th>      <th>P>|t|</th>  <th>[0.025</th>    <th>0.975]</th>  \n",
              "</tr>\n",
              "<tr>\n",
              "  <th>Intercept</th> <td>    4.2444</td> <td>    0.013</td> <td>  318.116</td> <td> 0.000</td> <td>    4.218</td> <td>    4.271</td>\n",
              "</tr>\n",
              "<tr>\n",
              "  <th>DEWP</th>      <td>    0.0722</td> <td>    0.001</td> <td>   96.780</td> <td> 0.000</td> <td>    0.071</td> <td>    0.074</td>\n",
              "</tr>\n",
              "<tr>\n",
              "  <th>TEMP</th>      <td>   -0.0701</td> <td>    0.001</td> <td>  -83.629</td> <td> 0.000</td> <td>   -0.072</td> <td>   -0.068</td>\n",
              "</tr>\n",
              "<tr>\n",
              "  <th>Ir</th>        <td>   -0.1079</td> <td>    0.004</td> <td>  -29.400</td> <td> 0.000</td> <td>   -0.115</td> <td>   -0.101</td>\n",
              "</tr>\n",
              "<tr>\n",
              "  <th>hour</th>      <td>    0.0215</td> <td>    0.001</td> <td>   23.206</td> <td> 0.000</td> <td>    0.020</td> <td>    0.023</td>\n",
              "</tr>\n",
              "<tr>\n",
              "  <th>Iws</th>       <td>   -0.0040</td> <td>    0.000</td> <td>  -36.706</td> <td> 0.000</td> <td>   -0.004</td> <td>   -0.004</td>\n",
              "</tr>\n",
              "</table>"
            ],
            "text/plain": [
              "<class 'statsmodels.iolib.summary.Summary'>\n",
              "\"\"\"\n",
              "                         QuantReg Regression Results                          \n",
              "==============================================================================\n",
              "Dep. Variable:                   pm25   Pseudo R-squared:               0.2292\n",
              "Model:                       QuantReg   Bandwidth:                      0.1012\n",
              "Method:                 Least Squares   Sparsity:                        2.806\n",
              "Date:                Thu, 28 Feb 2019   No. Observations:                41757\n",
              "Time:                        05:23:22   Df Residuals:                    41751\n",
              "                                        Df Model:                            5\n",
              "==============================================================================\n",
              "                 coef    std err          t      P>|t|      [0.025      0.975]\n",
              "------------------------------------------------------------------------------\n",
              "Intercept      4.2444      0.013    318.116      0.000       4.218       4.271\n",
              "DEWP           0.0722      0.001     96.780      0.000       0.071       0.074\n",
              "TEMP          -0.0701      0.001    -83.629      0.000      -0.072      -0.068\n",
              "Ir            -0.1079      0.004    -29.400      0.000      -0.115      -0.101\n",
              "hour           0.0215      0.001     23.206      0.000       0.020       0.023\n",
              "Iws           -0.0040      0.000    -36.706      0.000      -0.004      -0.004\n",
              "==============================================================================\n",
              "\"\"\""
            ]
          },
          "metadata": {
            "tags": []
          },
          "execution_count": 48
        }
      ]
    },
    {
      "metadata": {
        "id": "8kXcxnNBgizX",
        "colab_type": "text"
      },
      "cell_type": "markdown",
      "source": [
        "Overall - in this case, quantile regression is not *necessarily* superior to linear regression. But it does give us extra flexibility and another thing to tune - what the center of what we're actually fitting in the dependent variable.\n",
        "\n",
        "The basic case of `q=0.5` (the median) minimizes the absolute value of residuals, while OLS minimizes the squared value. By selecting `q=0.25`, we're targeting a lower quantile and are effectively saying that we only want to over-estimate at most 25% of the time - we're being *risk averse*.\n",
        "\n",
        "Depending on the data you're looking at, and the cost of making a false positive versus a false negative, this sort of flexibility can be extremely useful.\n",
        "\n",
        "Live - let's consider another dataset! Specifically, \"SkillCraft\" (data on competitive StarCraft players): http://archive.ics.uci.edu/ml/datasets/SkillCraft1+Master+Table+Dataset"
      ]
    },
    {
      "metadata": {
        "id": "ofvwSAZUhWDw",
        "colab_type": "code",
        "outputId": "6db5019c-c62c-48a1-cec9-f2f83a2cdf32",
        "colab": {
          "base_uri": "https://localhost:8080/",
          "height": 224
        }
      },
      "cell_type": "code",
      "source": [
        "import pandas as pd\n",
        "\n",
        "df = pd.read_csv('http://archive.ics.uci.edu/ml/machine-learning-databases/'\n",
        "                 '00272/SkillCraft1_Dataset.csv')\n",
        "df.head()"
      ],
      "execution_count": 57,
      "outputs": [
        {
          "output_type": "execute_result",
          "data": {
            "text/html": [
              "<div>\n",
              "<style scoped>\n",
              "    .dataframe tbody tr th:only-of-type {\n",
              "        vertical-align: middle;\n",
              "    }\n",
              "\n",
              "    .dataframe tbody tr th {\n",
              "        vertical-align: top;\n",
              "    }\n",
              "\n",
              "    .dataframe thead th {\n",
              "        text-align: right;\n",
              "    }\n",
              "</style>\n",
              "<table border=\"1\" class=\"dataframe\">\n",
              "  <thead>\n",
              "    <tr style=\"text-align: right;\">\n",
              "      <th></th>\n",
              "      <th>GameID</th>\n",
              "      <th>LeagueIndex</th>\n",
              "      <th>Age</th>\n",
              "      <th>HoursPerWeek</th>\n",
              "      <th>TotalHours</th>\n",
              "      <th>APM</th>\n",
              "      <th>SelectByHotkeys</th>\n",
              "      <th>AssignToHotkeys</th>\n",
              "      <th>UniqueHotkeys</th>\n",
              "      <th>MinimapAttacks</th>\n",
              "      <th>MinimapRightClicks</th>\n",
              "      <th>NumberOfPACs</th>\n",
              "      <th>GapBetweenPACs</th>\n",
              "      <th>ActionLatency</th>\n",
              "      <th>ActionsInPAC</th>\n",
              "      <th>TotalMapExplored</th>\n",
              "      <th>WorkersMade</th>\n",
              "      <th>UniqueUnitsMade</th>\n",
              "      <th>ComplexUnitsMade</th>\n",
              "      <th>ComplexAbilitiesUsed</th>\n",
              "    </tr>\n",
              "  </thead>\n",
              "  <tbody>\n",
              "    <tr>\n",
              "      <th>0</th>\n",
              "      <td>52</td>\n",
              "      <td>5</td>\n",
              "      <td>27</td>\n",
              "      <td>10</td>\n",
              "      <td>3000</td>\n",
              "      <td>143.7180</td>\n",
              "      <td>0.003515</td>\n",
              "      <td>0.000220</td>\n",
              "      <td>7</td>\n",
              "      <td>0.000110</td>\n",
              "      <td>0.000392</td>\n",
              "      <td>0.004849</td>\n",
              "      <td>32.6677</td>\n",
              "      <td>40.8673</td>\n",
              "      <td>4.7508</td>\n",
              "      <td>28</td>\n",
              "      <td>0.001397</td>\n",
              "      <td>6</td>\n",
              "      <td>0.0</td>\n",
              "      <td>0.000000</td>\n",
              "    </tr>\n",
              "    <tr>\n",
              "      <th>1</th>\n",
              "      <td>55</td>\n",
              "      <td>5</td>\n",
              "      <td>23</td>\n",
              "      <td>10</td>\n",
              "      <td>5000</td>\n",
              "      <td>129.2322</td>\n",
              "      <td>0.003304</td>\n",
              "      <td>0.000259</td>\n",
              "      <td>4</td>\n",
              "      <td>0.000294</td>\n",
              "      <td>0.000432</td>\n",
              "      <td>0.004307</td>\n",
              "      <td>32.9194</td>\n",
              "      <td>42.3454</td>\n",
              "      <td>4.8434</td>\n",
              "      <td>22</td>\n",
              "      <td>0.001194</td>\n",
              "      <td>5</td>\n",
              "      <td>0.0</td>\n",
              "      <td>0.000208</td>\n",
              "    </tr>\n",
              "    <tr>\n",
              "      <th>2</th>\n",
              "      <td>56</td>\n",
              "      <td>4</td>\n",
              "      <td>30</td>\n",
              "      <td>10</td>\n",
              "      <td>200</td>\n",
              "      <td>69.9612</td>\n",
              "      <td>0.001101</td>\n",
              "      <td>0.000336</td>\n",
              "      <td>4</td>\n",
              "      <td>0.000294</td>\n",
              "      <td>0.000461</td>\n",
              "      <td>0.002926</td>\n",
              "      <td>44.6475</td>\n",
              "      <td>75.3548</td>\n",
              "      <td>4.0430</td>\n",
              "      <td>22</td>\n",
              "      <td>0.000745</td>\n",
              "      <td>6</td>\n",
              "      <td>0.0</td>\n",
              "      <td>0.000189</td>\n",
              "    </tr>\n",
              "    <tr>\n",
              "      <th>3</th>\n",
              "      <td>57</td>\n",
              "      <td>3</td>\n",
              "      <td>19</td>\n",
              "      <td>20</td>\n",
              "      <td>400</td>\n",
              "      <td>107.6016</td>\n",
              "      <td>0.001034</td>\n",
              "      <td>0.000213</td>\n",
              "      <td>1</td>\n",
              "      <td>0.000053</td>\n",
              "      <td>0.000543</td>\n",
              "      <td>0.003783</td>\n",
              "      <td>29.2203</td>\n",
              "      <td>53.7352</td>\n",
              "      <td>4.9155</td>\n",
              "      <td>19</td>\n",
              "      <td>0.000426</td>\n",
              "      <td>7</td>\n",
              "      <td>0.0</td>\n",
              "      <td>0.000384</td>\n",
              "    </tr>\n",
              "    <tr>\n",
              "      <th>4</th>\n",
              "      <td>58</td>\n",
              "      <td>3</td>\n",
              "      <td>32</td>\n",
              "      <td>10</td>\n",
              "      <td>500</td>\n",
              "      <td>122.8908</td>\n",
              "      <td>0.001136</td>\n",
              "      <td>0.000327</td>\n",
              "      <td>2</td>\n",
              "      <td>0.000000</td>\n",
              "      <td>0.001329</td>\n",
              "      <td>0.002368</td>\n",
              "      <td>22.6885</td>\n",
              "      <td>62.0813</td>\n",
              "      <td>9.3740</td>\n",
              "      <td>15</td>\n",
              "      <td>0.001174</td>\n",
              "      <td>4</td>\n",
              "      <td>0.0</td>\n",
              "      <td>0.000019</td>\n",
              "    </tr>\n",
              "  </tbody>\n",
              "</table>\n",
              "</div>"
            ],
            "text/plain": [
              "   GameID  LeagueIndex Age HoursPerWeek TotalHours       APM  SelectByHotkeys  \\\n",
              "0      52            5  27           10       3000  143.7180         0.003515   \n",
              "1      55            5  23           10       5000  129.2322         0.003304   \n",
              "2      56            4  30           10        200   69.9612         0.001101   \n",
              "3      57            3  19           20        400  107.6016         0.001034   \n",
              "4      58            3  32           10        500  122.8908         0.001136   \n",
              "\n",
              "   AssignToHotkeys  UniqueHotkeys  MinimapAttacks  MinimapRightClicks  \\\n",
              "0         0.000220              7        0.000110            0.000392   \n",
              "1         0.000259              4        0.000294            0.000432   \n",
              "2         0.000336              4        0.000294            0.000461   \n",
              "3         0.000213              1        0.000053            0.000543   \n",
              "4         0.000327              2        0.000000            0.001329   \n",
              "\n",
              "   NumberOfPACs  GapBetweenPACs  ActionLatency  ActionsInPAC  \\\n",
              "0      0.004849         32.6677        40.8673        4.7508   \n",
              "1      0.004307         32.9194        42.3454        4.8434   \n",
              "2      0.002926         44.6475        75.3548        4.0430   \n",
              "3      0.003783         29.2203        53.7352        4.9155   \n",
              "4      0.002368         22.6885        62.0813        9.3740   \n",
              "\n",
              "   TotalMapExplored  WorkersMade  UniqueUnitsMade  ComplexUnitsMade  \\\n",
              "0                28     0.001397                6               0.0   \n",
              "1                22     0.001194                5               0.0   \n",
              "2                22     0.000745                6               0.0   \n",
              "3                19     0.000426                7               0.0   \n",
              "4                15     0.001174                4               0.0   \n",
              "\n",
              "   ComplexAbilitiesUsed  \n",
              "0              0.000000  \n",
              "1              0.000208  \n",
              "2              0.000189  \n",
              "3              0.000384  \n",
              "4              0.000019  "
            ]
          },
          "metadata": {
            "tags": []
          },
          "execution_count": 57
        }
      ]
    },
    {
      "metadata": {
        "id": "Ye52n4q6-4mu",
        "colab_type": "code",
        "outputId": "e5f88012-2103-4977-917f-9f299c44e764",
        "colab": {
          "base_uri": "https://localhost:8080/",
          "height": 34
        }
      },
      "cell_type": "code",
      "source": [
        "df.shape"
      ],
      "execution_count": 58,
      "outputs": [
        {
          "output_type": "execute_result",
          "data": {
            "text/plain": [
              "(3395, 20)"
            ]
          },
          "metadata": {
            "tags": []
          },
          "execution_count": 58
        }
      ]
    },
    {
      "metadata": {
        "id": "G3h9ML8f_CJW",
        "colab_type": "code",
        "outputId": "cabadc6f-b1d5-4c33-dbbd-ebbe2e08ad62",
        "colab": {
          "base_uri": "https://localhost:8080/",
          "height": 374
        }
      },
      "cell_type": "code",
      "source": [
        "df.isna().sum()\n",
        "\n",
        "# Means there are some other string characters like '?'"
      ],
      "execution_count": 59,
      "outputs": [
        {
          "output_type": "execute_result",
          "data": {
            "text/plain": [
              "GameID                  0\n",
              "LeagueIndex             0\n",
              "Age                     0\n",
              "HoursPerWeek            0\n",
              "TotalHours              0\n",
              "APM                     0\n",
              "SelectByHotkeys         0\n",
              "AssignToHotkeys         0\n",
              "UniqueHotkeys           0\n",
              "MinimapAttacks          0\n",
              "MinimapRightClicks      0\n",
              "NumberOfPACs            0\n",
              "GapBetweenPACs          0\n",
              "ActionLatency           0\n",
              "ActionsInPAC            0\n",
              "TotalMapExplored        0\n",
              "WorkersMade             0\n",
              "UniqueUnitsMade         0\n",
              "ComplexUnitsMade        0\n",
              "ComplexAbilitiesUsed    0\n",
              "dtype: int64"
            ]
          },
          "metadata": {
            "tags": []
          },
          "execution_count": 59
        }
      ]
    },
    {
      "metadata": {
        "id": "XoEzRB23ARnt",
        "colab_type": "code",
        "outputId": "092be73c-185b-48c8-f4c8-309b2110d381",
        "colab": {
          "base_uri": "https://localhost:8080/",
          "height": 374
        }
      },
      "cell_type": "code",
      "source": [
        "import numpy as np\n",
        "df = df.replace('?', np.nan)\n",
        "df.isna().sum()"
      ],
      "execution_count": 60,
      "outputs": [
        {
          "output_type": "execute_result",
          "data": {
            "text/plain": [
              "GameID                   0\n",
              "LeagueIndex              0\n",
              "Age                     55\n",
              "HoursPerWeek            56\n",
              "TotalHours              57\n",
              "APM                      0\n",
              "SelectByHotkeys          0\n",
              "AssignToHotkeys          0\n",
              "UniqueHotkeys            0\n",
              "MinimapAttacks           0\n",
              "MinimapRightClicks       0\n",
              "NumberOfPACs             0\n",
              "GapBetweenPACs           0\n",
              "ActionLatency            0\n",
              "ActionsInPAC             0\n",
              "TotalMapExplored         0\n",
              "WorkersMade              0\n",
              "UniqueUnitsMade          0\n",
              "ComplexUnitsMade         0\n",
              "ComplexAbilitiesUsed     0\n",
              "dtype: int64"
            ]
          },
          "metadata": {
            "tags": []
          },
          "execution_count": 60
        }
      ]
    },
    {
      "metadata": {
        "id": "Nu3KOX0xbVmc",
        "colab_type": "code",
        "outputId": "44fce756-db90-4077-9b50-dc72da9ba7a3",
        "colab": {
          "base_uri": "https://localhost:8080/",
          "height": 204
        }
      },
      "cell_type": "code",
      "source": [
        "# Cleaning code\n",
        "\n",
        "hasna = ['Age', 'HoursPerWeek', 'TotalHours']\n",
        "\n",
        "for feature in hasna:\n",
        "  df[feature] = pd.to_numeric(df[feature])\n",
        "  \n",
        "df[hasna].head()\n"
      ],
      "execution_count": 64,
      "outputs": [
        {
          "output_type": "execute_result",
          "data": {
            "text/html": [
              "<div>\n",
              "<style scoped>\n",
              "    .dataframe tbody tr th:only-of-type {\n",
              "        vertical-align: middle;\n",
              "    }\n",
              "\n",
              "    .dataframe tbody tr th {\n",
              "        vertical-align: top;\n",
              "    }\n",
              "\n",
              "    .dataframe thead th {\n",
              "        text-align: right;\n",
              "    }\n",
              "</style>\n",
              "<table border=\"1\" class=\"dataframe\">\n",
              "  <thead>\n",
              "    <tr style=\"text-align: right;\">\n",
              "      <th></th>\n",
              "      <th>Age</th>\n",
              "      <th>HoursPerWeek</th>\n",
              "      <th>TotalHours</th>\n",
              "    </tr>\n",
              "  </thead>\n",
              "  <tbody>\n",
              "    <tr>\n",
              "      <th>0</th>\n",
              "      <td>27.0</td>\n",
              "      <td>10.0</td>\n",
              "      <td>3000.0</td>\n",
              "    </tr>\n",
              "    <tr>\n",
              "      <th>1</th>\n",
              "      <td>23.0</td>\n",
              "      <td>10.0</td>\n",
              "      <td>5000.0</td>\n",
              "    </tr>\n",
              "    <tr>\n",
              "      <th>2</th>\n",
              "      <td>30.0</td>\n",
              "      <td>10.0</td>\n",
              "      <td>200.0</td>\n",
              "    </tr>\n",
              "    <tr>\n",
              "      <th>3</th>\n",
              "      <td>19.0</td>\n",
              "      <td>20.0</td>\n",
              "      <td>400.0</td>\n",
              "    </tr>\n",
              "    <tr>\n",
              "      <th>4</th>\n",
              "      <td>32.0</td>\n",
              "      <td>10.0</td>\n",
              "      <td>500.0</td>\n",
              "    </tr>\n",
              "  </tbody>\n",
              "</table>\n",
              "</div>"
            ],
            "text/plain": [
              "    Age  HoursPerWeek  TotalHours\n",
              "0  27.0          10.0      3000.0\n",
              "1  23.0          10.0      5000.0\n",
              "2  30.0          10.0       200.0\n",
              "3  19.0          20.0       400.0\n",
              "4  32.0          10.0       500.0"
            ]
          },
          "metadata": {
            "tags": []
          },
          "execution_count": 64
        }
      ]
    },
    {
      "metadata": {
        "id": "D0tcCSqeBkGN",
        "colab_type": "code",
        "outputId": "3e6e903d-5a99-498f-a7ba-260a1561b55a",
        "colab": {
          "base_uri": "https://localhost:8080/",
          "height": 317
        }
      },
      "cell_type": "code",
      "source": [
        "df.describe()\n",
        "\n",
        "# From the below variables, for APM - data is skewed: mean is above median, large variance and max"
      ],
      "execution_count": 65,
      "outputs": [
        {
          "output_type": "execute_result",
          "data": {
            "text/html": [
              "<div>\n",
              "<style scoped>\n",
              "    .dataframe tbody tr th:only-of-type {\n",
              "        vertical-align: middle;\n",
              "    }\n",
              "\n",
              "    .dataframe tbody tr th {\n",
              "        vertical-align: top;\n",
              "    }\n",
              "\n",
              "    .dataframe thead th {\n",
              "        text-align: right;\n",
              "    }\n",
              "</style>\n",
              "<table border=\"1\" class=\"dataframe\">\n",
              "  <thead>\n",
              "    <tr style=\"text-align: right;\">\n",
              "      <th></th>\n",
              "      <th>GameID</th>\n",
              "      <th>LeagueIndex</th>\n",
              "      <th>Age</th>\n",
              "      <th>HoursPerWeek</th>\n",
              "      <th>TotalHours</th>\n",
              "      <th>APM</th>\n",
              "      <th>SelectByHotkeys</th>\n",
              "      <th>AssignToHotkeys</th>\n",
              "      <th>UniqueHotkeys</th>\n",
              "      <th>MinimapAttacks</th>\n",
              "      <th>MinimapRightClicks</th>\n",
              "      <th>NumberOfPACs</th>\n",
              "      <th>GapBetweenPACs</th>\n",
              "      <th>ActionLatency</th>\n",
              "      <th>ActionsInPAC</th>\n",
              "      <th>TotalMapExplored</th>\n",
              "      <th>WorkersMade</th>\n",
              "      <th>UniqueUnitsMade</th>\n",
              "      <th>ComplexUnitsMade</th>\n",
              "      <th>ComplexAbilitiesUsed</th>\n",
              "    </tr>\n",
              "  </thead>\n",
              "  <tbody>\n",
              "    <tr>\n",
              "      <th>count</th>\n",
              "      <td>3395.000000</td>\n",
              "      <td>3395.000000</td>\n",
              "      <td>3340.000000</td>\n",
              "      <td>3339.000000</td>\n",
              "      <td>3338.000000</td>\n",
              "      <td>3395.000000</td>\n",
              "      <td>3395.000000</td>\n",
              "      <td>3395.000000</td>\n",
              "      <td>3395.000000</td>\n",
              "      <td>3395.000000</td>\n",
              "      <td>3395.000000</td>\n",
              "      <td>3395.000000</td>\n",
              "      <td>3395.000000</td>\n",
              "      <td>3395.000000</td>\n",
              "      <td>3395.000000</td>\n",
              "      <td>3395.000000</td>\n",
              "      <td>3395.000000</td>\n",
              "      <td>3395.000000</td>\n",
              "      <td>3395.000000</td>\n",
              "      <td>3395.000000</td>\n",
              "    </tr>\n",
              "    <tr>\n",
              "      <th>mean</th>\n",
              "      <td>4805.012371</td>\n",
              "      <td>4.184094</td>\n",
              "      <td>21.647904</td>\n",
              "      <td>15.910752</td>\n",
              "      <td>960.421809</td>\n",
              "      <td>117.046947</td>\n",
              "      <td>0.004299</td>\n",
              "      <td>0.000374</td>\n",
              "      <td>4.364654</td>\n",
              "      <td>0.000098</td>\n",
              "      <td>0.000387</td>\n",
              "      <td>0.003463</td>\n",
              "      <td>40.361562</td>\n",
              "      <td>63.739403</td>\n",
              "      <td>5.272988</td>\n",
              "      <td>22.131664</td>\n",
              "      <td>0.001032</td>\n",
              "      <td>6.534021</td>\n",
              "      <td>0.000059</td>\n",
              "      <td>0.000142</td>\n",
              "    </tr>\n",
              "    <tr>\n",
              "      <th>std</th>\n",
              "      <td>2719.944851</td>\n",
              "      <td>1.517327</td>\n",
              "      <td>4.206341</td>\n",
              "      <td>11.962912</td>\n",
              "      <td>17318.133922</td>\n",
              "      <td>51.945291</td>\n",
              "      <td>0.005284</td>\n",
              "      <td>0.000225</td>\n",
              "      <td>2.360333</td>\n",
              "      <td>0.000166</td>\n",
              "      <td>0.000377</td>\n",
              "      <td>0.000992</td>\n",
              "      <td>17.153570</td>\n",
              "      <td>19.238869</td>\n",
              "      <td>1.494835</td>\n",
              "      <td>7.431719</td>\n",
              "      <td>0.000519</td>\n",
              "      <td>1.857697</td>\n",
              "      <td>0.000111</td>\n",
              "      <td>0.000265</td>\n",
              "    </tr>\n",
              "    <tr>\n",
              "      <th>min</th>\n",
              "      <td>52.000000</td>\n",
              "      <td>1.000000</td>\n",
              "      <td>16.000000</td>\n",
              "      <td>0.000000</td>\n",
              "      <td>3.000000</td>\n",
              "      <td>22.059600</td>\n",
              "      <td>0.000000</td>\n",
              "      <td>0.000000</td>\n",
              "      <td>0.000000</td>\n",
              "      <td>0.000000</td>\n",
              "      <td>0.000000</td>\n",
              "      <td>0.000679</td>\n",
              "      <td>6.666700</td>\n",
              "      <td>24.093600</td>\n",
              "      <td>2.038900</td>\n",
              "      <td>5.000000</td>\n",
              "      <td>0.000077</td>\n",
              "      <td>2.000000</td>\n",
              "      <td>0.000000</td>\n",
              "      <td>0.000000</td>\n",
              "    </tr>\n",
              "    <tr>\n",
              "      <th>25%</th>\n",
              "      <td>2464.500000</td>\n",
              "      <td>3.000000</td>\n",
              "      <td>19.000000</td>\n",
              "      <td>8.000000</td>\n",
              "      <td>300.000000</td>\n",
              "      <td>79.900200</td>\n",
              "      <td>0.001258</td>\n",
              "      <td>0.000204</td>\n",
              "      <td>3.000000</td>\n",
              "      <td>0.000000</td>\n",
              "      <td>0.000140</td>\n",
              "      <td>0.002754</td>\n",
              "      <td>28.957750</td>\n",
              "      <td>50.446600</td>\n",
              "      <td>4.272850</td>\n",
              "      <td>17.000000</td>\n",
              "      <td>0.000683</td>\n",
              "      <td>5.000000</td>\n",
              "      <td>0.000000</td>\n",
              "      <td>0.000000</td>\n",
              "    </tr>\n",
              "    <tr>\n",
              "      <th>50%</th>\n",
              "      <td>4874.000000</td>\n",
              "      <td>4.000000</td>\n",
              "      <td>21.000000</td>\n",
              "      <td>12.000000</td>\n",
              "      <td>500.000000</td>\n",
              "      <td>108.010200</td>\n",
              "      <td>0.002500</td>\n",
              "      <td>0.000353</td>\n",
              "      <td>4.000000</td>\n",
              "      <td>0.000040</td>\n",
              "      <td>0.000281</td>\n",
              "      <td>0.003395</td>\n",
              "      <td>36.723500</td>\n",
              "      <td>60.931800</td>\n",
              "      <td>5.095500</td>\n",
              "      <td>22.000000</td>\n",
              "      <td>0.000905</td>\n",
              "      <td>6.000000</td>\n",
              "      <td>0.000000</td>\n",
              "      <td>0.000020</td>\n",
              "    </tr>\n",
              "    <tr>\n",
              "      <th>75%</th>\n",
              "      <td>7108.500000</td>\n",
              "      <td>5.000000</td>\n",
              "      <td>24.000000</td>\n",
              "      <td>20.000000</td>\n",
              "      <td>800.000000</td>\n",
              "      <td>142.790400</td>\n",
              "      <td>0.005133</td>\n",
              "      <td>0.000499</td>\n",
              "      <td>6.000000</td>\n",
              "      <td>0.000119</td>\n",
              "      <td>0.000514</td>\n",
              "      <td>0.004027</td>\n",
              "      <td>48.290500</td>\n",
              "      <td>73.681300</td>\n",
              "      <td>6.033600</td>\n",
              "      <td>27.000000</td>\n",
              "      <td>0.001259</td>\n",
              "      <td>8.000000</td>\n",
              "      <td>0.000086</td>\n",
              "      <td>0.000181</td>\n",
              "    </tr>\n",
              "    <tr>\n",
              "      <th>max</th>\n",
              "      <td>10095.000000</td>\n",
              "      <td>8.000000</td>\n",
              "      <td>44.000000</td>\n",
              "      <td>168.000000</td>\n",
              "      <td>1000000.000000</td>\n",
              "      <td>389.831400</td>\n",
              "      <td>0.043088</td>\n",
              "      <td>0.001752</td>\n",
              "      <td>10.000000</td>\n",
              "      <td>0.003019</td>\n",
              "      <td>0.004041</td>\n",
              "      <td>0.007971</td>\n",
              "      <td>237.142900</td>\n",
              "      <td>176.372100</td>\n",
              "      <td>18.558100</td>\n",
              "      <td>58.000000</td>\n",
              "      <td>0.005149</td>\n",
              "      <td>13.000000</td>\n",
              "      <td>0.000902</td>\n",
              "      <td>0.003084</td>\n",
              "    </tr>\n",
              "  </tbody>\n",
              "</table>\n",
              "</div>"
            ],
            "text/plain": [
              "             GameID  LeagueIndex          Age  HoursPerWeek      TotalHours  \\\n",
              "count   3395.000000  3395.000000  3340.000000   3339.000000     3338.000000   \n",
              "mean    4805.012371     4.184094    21.647904     15.910752      960.421809   \n",
              "std     2719.944851     1.517327     4.206341     11.962912    17318.133922   \n",
              "min       52.000000     1.000000    16.000000      0.000000        3.000000   \n",
              "25%     2464.500000     3.000000    19.000000      8.000000      300.000000   \n",
              "50%     4874.000000     4.000000    21.000000     12.000000      500.000000   \n",
              "75%     7108.500000     5.000000    24.000000     20.000000      800.000000   \n",
              "max    10095.000000     8.000000    44.000000    168.000000  1000000.000000   \n",
              "\n",
              "               APM  SelectByHotkeys  AssignToHotkeys  UniqueHotkeys  \\\n",
              "count  3395.000000      3395.000000      3395.000000    3395.000000   \n",
              "mean    117.046947         0.004299         0.000374       4.364654   \n",
              "std      51.945291         0.005284         0.000225       2.360333   \n",
              "min      22.059600         0.000000         0.000000       0.000000   \n",
              "25%      79.900200         0.001258         0.000204       3.000000   \n",
              "50%     108.010200         0.002500         0.000353       4.000000   \n",
              "75%     142.790400         0.005133         0.000499       6.000000   \n",
              "max     389.831400         0.043088         0.001752      10.000000   \n",
              "\n",
              "       MinimapAttacks  MinimapRightClicks  NumberOfPACs  GapBetweenPACs  \\\n",
              "count     3395.000000         3395.000000   3395.000000     3395.000000   \n",
              "mean         0.000098            0.000387      0.003463       40.361562   \n",
              "std          0.000166            0.000377      0.000992       17.153570   \n",
              "min          0.000000            0.000000      0.000679        6.666700   \n",
              "25%          0.000000            0.000140      0.002754       28.957750   \n",
              "50%          0.000040            0.000281      0.003395       36.723500   \n",
              "75%          0.000119            0.000514      0.004027       48.290500   \n",
              "max          0.003019            0.004041      0.007971      237.142900   \n",
              "\n",
              "       ActionLatency  ActionsInPAC  TotalMapExplored  WorkersMade  \\\n",
              "count    3395.000000   3395.000000       3395.000000  3395.000000   \n",
              "mean       63.739403      5.272988         22.131664     0.001032   \n",
              "std        19.238869      1.494835          7.431719     0.000519   \n",
              "min        24.093600      2.038900          5.000000     0.000077   \n",
              "25%        50.446600      4.272850         17.000000     0.000683   \n",
              "50%        60.931800      5.095500         22.000000     0.000905   \n",
              "75%        73.681300      6.033600         27.000000     0.001259   \n",
              "max       176.372100     18.558100         58.000000     0.005149   \n",
              "\n",
              "       UniqueUnitsMade  ComplexUnitsMade  ComplexAbilitiesUsed  \n",
              "count      3395.000000       3395.000000           3395.000000  \n",
              "mean          6.534021          0.000059              0.000142  \n",
              "std           1.857697          0.000111              0.000265  \n",
              "min           2.000000          0.000000              0.000000  \n",
              "25%           5.000000          0.000000              0.000000  \n",
              "50%           6.000000          0.000000              0.000020  \n",
              "75%           8.000000          0.000086              0.000181  \n",
              "max          13.000000          0.000902              0.003084  "
            ]
          },
          "metadata": {
            "tags": []
          },
          "execution_count": 65
        }
      ]
    },
    {
      "metadata": {
        "id": "cqOh6J61Y3BY",
        "colab_type": "code",
        "outputId": "323616f4-514d-4bc6-e0c3-6e72590e23a4",
        "colab": {
          "base_uri": "https://localhost:8080/",
          "height": 374
        }
      },
      "cell_type": "code",
      "source": [
        "df.dtypes"
      ],
      "execution_count": 66,
      "outputs": [
        {
          "output_type": "execute_result",
          "data": {
            "text/plain": [
              "GameID                    int64\n",
              "LeagueIndex               int64\n",
              "Age                     float64\n",
              "HoursPerWeek            float64\n",
              "TotalHours              float64\n",
              "APM                     float64\n",
              "SelectByHotkeys         float64\n",
              "AssignToHotkeys         float64\n",
              "UniqueHotkeys             int64\n",
              "MinimapAttacks          float64\n",
              "MinimapRightClicks      float64\n",
              "NumberOfPACs            float64\n",
              "GapBetweenPACs          float64\n",
              "ActionLatency           float64\n",
              "ActionsInPAC            float64\n",
              "TotalMapExplored          int64\n",
              "WorkersMade             float64\n",
              "UniqueUnitsMade           int64\n",
              "ComplexUnitsMade        float64\n",
              "ComplexAbilitiesUsed    float64\n",
              "dtype: object"
            ]
          },
          "metadata": {
            "tags": []
          },
          "execution_count": 66
        }
      ]
    },
    {
      "metadata": {
        "id": "ufkL_V0mBWAg",
        "colab_type": "code",
        "outputId": "094b87ce-6ba7-4eda-9802-1586203382e6",
        "colab": {
          "base_uri": "https://localhost:8080/",
          "height": 34
        }
      },
      "cell_type": "code",
      "source": [
        "# Lets start with Linear Regression\n",
        "\n",
        "from sklearn.linear_model import LinearRegression\n",
        "\n",
        "# Lets drop na and limit to numeric data\n",
        "df = df._get_numeric_data().dropna()\n",
        "X = df.drop('APM', axis='columns')\n",
        "y = df.APM\n",
        "\n",
        "linear_reg = LinearRegression().fit(X,y)\n",
        "linear_reg.score(X,y) # will give us value of R^2\n",
        "\n",
        "# Model is a tight fit"
      ],
      "execution_count": 71,
      "outputs": [
        {
          "output_type": "execute_result",
          "data": {
            "text/plain": [
              "0.9727919594327304"
            ]
          },
          "metadata": {
            "tags": []
          },
          "execution_count": 71
        }
      ]
    },
    {
      "metadata": {
        "id": "RFYZeiQ-n_DA",
        "colab_type": "code",
        "colab": {
          "base_uri": "https://localhost:8080/",
          "height": 340
        },
        "outputId": "a873c379-5c45-4c24-fdb8-ea851a1979c9"
      },
      "cell_type": "code",
      "source": [
        "for name, coef in zip(X.columns, linear_reg.coef_):\n",
        "  print (name, coef)"
      ],
      "execution_count": 74,
      "outputs": [
        {
          "output_type": "stream",
          "text": [
            "GameID 5.6721525875017124e-05\n",
            "LeagueIndex -0.17025706089711906\n",
            "Age -0.1255396800327562\n",
            "HoursPerWeek -0.007084891488397346\n",
            "TotalHours 6.181852927507429e-06\n",
            "SelectByHotkeys 5530.168863103678\n",
            "AssignToHotkeys -948.4647097091305\n",
            "UniqueHotkeys 0.13583102775973996\n",
            "MinimapAttacks 2972.11713661456\n",
            "MinimapRightClicks 4053.6799567315898\n",
            "NumberOfPACs 23408.13583534949\n",
            "GapBetweenPACs -0.013256821980193232\n",
            "ActionLatency -0.17291643312034718\n",
            "ActionsInPAC 12.798743815559357\n",
            "TotalMapExplored 0.01939336984054402\n",
            "WorkersMade 2699.774992506199\n",
            "UniqueUnitsMade -0.3208898754951155\n",
            "ComplexUnitsMade 1538.092153791031\n",
            "ComplexAbilitiesUsed -3127.832963745431\n"
          ],
          "name": "stdout"
        }
      ]
    },
    {
      "metadata": {
        "id": "dtVgCmlJoW4d",
        "colab_type": "code",
        "colab": {}
      },
      "cell_type": "code",
      "source": [
        "# Even though Linear Regression is a good model, it does not have even a positive coef for LeagueIndex"
      ],
      "execution_count": 0,
      "outputs": []
    },
    {
      "metadata": {
        "id": "mgVReREAzpbK",
        "colab_type": "text"
      },
      "cell_type": "markdown",
      "source": [
        "####q=0.9 means that 90% of observations are below it and 10%  are above it. If q=0.1, 10% observations are below it and 90% above it (will give us lowest 10%)"
      ]
    },
    {
      "metadata": {
        "id": "SMY6faJCa9FS",
        "colab_type": "code",
        "colab": {
          "base_uri": "https://localhost:8080/",
          "height": 659
        },
        "outputId": "78718919-221c-46fd-8c0d-48cfbb8fc950"
      },
      "cell_type": "code",
      "source": [
        "# Lets say we want to answer \"What are the fastest 10% star craft players like?\"\n",
        "# That means quantile regression with q=0.9\n",
        "\n",
        "import numpy as np\n",
        "\n",
        "quant_formula = 'APM ~ ' + ' + '.join(df.drop('APM', axis='columns').columns)\n",
        "\n",
        "\n",
        "quant_mod = smf.quantreg(quant_formula, data=df)\n",
        "quant_reg = quant_mod.fit(q=.9)\n",
        "quant_reg.summary() "
      ],
      "execution_count": 73,
      "outputs": [
        {
          "output_type": "stream",
          "text": [
            "/usr/local/lib/python3.6/dist-packages/statsmodels/regression/quantile_regression.py:193: IterationLimitWarning: Maximum number of iterations (1000) reached.\n",
            "  \") reached.\", IterationLimitWarning)\n"
          ],
          "name": "stderr"
        },
        {
          "output_type": "execute_result",
          "data": {
            "text/html": [
              "<table class=\"simpletable\">\n",
              "<caption>QuantReg Regression Results</caption>\n",
              "<tr>\n",
              "  <th>Dep. Variable:</th>        <td>APM</td>       <th>  Pseudo R-squared:  </th> <td>  0.4076</td>\n",
              "</tr>\n",
              "<tr>\n",
              "  <th>Model:</th>             <td>QuantReg</td>     <th>  Bandwidth:         </th> <td>   6.911</td>\n",
              "</tr>\n",
              "<tr>\n",
              "  <th>Method:</th>          <td>Least Squares</td>  <th>  Sparsity:          </th> <td>   179.3</td>\n",
              "</tr>\n",
              "<tr>\n",
              "  <th>Date:</th>          <td>Thu, 28 Feb 2019</td> <th>  No. Observations:  </th>  <td>  3338</td> \n",
              "</tr>\n",
              "<tr>\n",
              "  <th>Time:</th>              <td>05:35:34</td>     <th>  Df Residuals:      </th>  <td>  3318</td> \n",
              "</tr>\n",
              "<tr>\n",
              "  <th> </th>                      <td> </td>        <th>  Df Model:          </th>  <td>    19</td> \n",
              "</tr>\n",
              "</table>\n",
              "<table class=\"simpletable\">\n",
              "<tr>\n",
              "            <td></td>              <th>coef</th>     <th>std err</th>      <th>t</th>      <th>P>|t|</th>  <th>[0.025</th>    <th>0.975]</th>  \n",
              "</tr>\n",
              "<tr>\n",
              "  <th>Intercept</th>            <td>    0.1786</td> <td>   22.328</td> <td>    0.008</td> <td> 0.994</td> <td>  -43.599</td> <td>   43.956</td>\n",
              "</tr>\n",
              "<tr>\n",
              "  <th>GameID</th>               <td>    0.0016</td> <td>    0.000</td> <td>    4.316</td> <td> 0.000</td> <td>    0.001</td> <td>    0.002</td>\n",
              "</tr>\n",
              "<tr>\n",
              "  <th>LeagueIndex</th>          <td>   13.8712</td> <td>    1.115</td> <td>   12.443</td> <td> 0.000</td> <td>   11.685</td> <td>   16.057</td>\n",
              "</tr>\n",
              "<tr>\n",
              "  <th>Age</th>                  <td>    0.5439</td> <td>    0.242</td> <td>    2.252</td> <td> 0.024</td> <td>    0.070</td> <td>    1.017</td>\n",
              "</tr>\n",
              "<tr>\n",
              "  <th>HoursPerWeek</th>         <td>    0.6801</td> <td>    0.072</td> <td>    9.432</td> <td> 0.000</td> <td>    0.539</td> <td>    0.821</td>\n",
              "</tr>\n",
              "<tr>\n",
              "  <th>TotalHours</th>           <td> 7.858e-05</td> <td> 2.16e-05</td> <td>    3.645</td> <td> 0.000</td> <td> 3.63e-05</td> <td>    0.000</td>\n",
              "</tr>\n",
              "<tr>\n",
              "  <th>SelectByHotkeys</th>      <td>    0.0433</td> <td>  564.600</td> <td> 7.67e-05</td> <td> 1.000</td> <td>-1106.956</td> <td> 1107.042</td>\n",
              "</tr>\n",
              "<tr>\n",
              "  <th>AssignToHotkeys</th>      <td> 8.993e-05</td> <td>  153.980</td> <td> 5.84e-07</td> <td> 1.000</td> <td> -301.906</td> <td>  301.906</td>\n",
              "</tr>\n",
              "<tr>\n",
              "  <th>UniqueHotkeys</th>        <td>    3.5928</td> <td>    0.461</td> <td>    7.801</td> <td> 0.000</td> <td>    2.690</td> <td>    4.496</td>\n",
              "</tr>\n",
              "<tr>\n",
              "  <th>MinimapAttacks</th>       <td>    0.0001</td> <td>  229.321</td> <td> 5.63e-07</td> <td> 1.000</td> <td> -449.624</td> <td>  449.625</td>\n",
              "</tr>\n",
              "<tr>\n",
              "  <th>MinimapRightClicks</th>   <td>    0.0027</td> <td> 2886.156</td> <td> 9.21e-07</td> <td> 1.000</td> <td>-5658.823</td> <td> 5658.828</td>\n",
              "</tr>\n",
              "<tr>\n",
              "  <th>NumberOfPACs</th>         <td>   -0.0021</td> <td> 3483.391</td> <td>-5.96e-07</td> <td> 1.000</td> <td>-6829.815</td> <td> 6829.811</td>\n",
              "</tr>\n",
              "<tr>\n",
              "  <th>GapBetweenPACs</th>       <td>    0.2392</td> <td>    0.078</td> <td>    3.060</td> <td> 0.002</td> <td>    0.086</td> <td>    0.393</td>\n",
              "</tr>\n",
              "<tr>\n",
              "  <th>ActionLatency</th>        <td>   -0.8386</td> <td>    0.160</td> <td>   -5.225</td> <td> 0.000</td> <td>   -1.153</td> <td>   -0.524</td>\n",
              "</tr>\n",
              "<tr>\n",
              "  <th>ActionsInPAC</th>         <td>   15.1596</td> <td>    0.938</td> <td>   16.164</td> <td> 0.000</td> <td>   13.321</td> <td>   16.998</td>\n",
              "</tr>\n",
              "<tr>\n",
              "  <th>TotalMapExplored</th>     <td>    0.8265</td> <td>    0.162</td> <td>    5.109</td> <td> 0.000</td> <td>    0.509</td> <td>    1.144</td>\n",
              "</tr>\n",
              "<tr>\n",
              "  <th>WorkersMade</th>          <td>    0.0006</td> <td> 1991.420</td> <td> 3.05e-07</td> <td> 1.000</td> <td>-3904.535</td> <td> 3904.536</td>\n",
              "</tr>\n",
              "<tr>\n",
              "  <th>UniqueUnitsMade</th>      <td>   -1.3534</td> <td>    0.633</td> <td>   -2.139</td> <td> 0.033</td> <td>   -2.594</td> <td>   -0.113</td>\n",
              "</tr>\n",
              "<tr>\n",
              "  <th>ComplexUnitsMade</th>     <td>   -0.0002</td> <td>   72.101</td> <td>   -3e-06</td> <td> 1.000</td> <td> -141.368</td> <td>  141.367</td>\n",
              "</tr>\n",
              "<tr>\n",
              "  <th>ComplexAbilitiesUsed</th> <td>-2.925e-05</td> <td>   61.714</td> <td>-4.74e-07</td> <td> 1.000</td> <td> -121.002</td> <td>  121.001</td>\n",
              "</tr>\n",
              "</table>"
            ],
            "text/plain": [
              "<class 'statsmodels.iolib.summary.Summary'>\n",
              "\"\"\"\n",
              "                         QuantReg Regression Results                          \n",
              "==============================================================================\n",
              "Dep. Variable:                    APM   Pseudo R-squared:               0.4076\n",
              "Model:                       QuantReg   Bandwidth:                       6.911\n",
              "Method:                 Least Squares   Sparsity:                        179.3\n",
              "Date:                Thu, 28 Feb 2019   No. Observations:                 3338\n",
              "Time:                        05:35:34   Df Residuals:                     3318\n",
              "                                        Df Model:                           19\n",
              "========================================================================================\n",
              "                           coef    std err          t      P>|t|      [0.025      0.975]\n",
              "----------------------------------------------------------------------------------------\n",
              "Intercept                0.1786     22.328      0.008      0.994     -43.599      43.956\n",
              "GameID                   0.0016      0.000      4.316      0.000       0.001       0.002\n",
              "LeagueIndex             13.8712      1.115     12.443      0.000      11.685      16.057\n",
              "Age                      0.5439      0.242      2.252      0.024       0.070       1.017\n",
              "HoursPerWeek             0.6801      0.072      9.432      0.000       0.539       0.821\n",
              "TotalHours            7.858e-05   2.16e-05      3.645      0.000    3.63e-05       0.000\n",
              "SelectByHotkeys          0.0433    564.600   7.67e-05      1.000   -1106.956    1107.042\n",
              "AssignToHotkeys       8.993e-05    153.980   5.84e-07      1.000    -301.906     301.906\n",
              "UniqueHotkeys            3.5928      0.461      7.801      0.000       2.690       4.496\n",
              "MinimapAttacks           0.0001    229.321   5.63e-07      1.000    -449.624     449.625\n",
              "MinimapRightClicks       0.0027   2886.156   9.21e-07      1.000   -5658.823    5658.828\n",
              "NumberOfPACs            -0.0021   3483.391  -5.96e-07      1.000   -6829.815    6829.811\n",
              "GapBetweenPACs           0.2392      0.078      3.060      0.002       0.086       0.393\n",
              "ActionLatency           -0.8386      0.160     -5.225      0.000      -1.153      -0.524\n",
              "ActionsInPAC            15.1596      0.938     16.164      0.000      13.321      16.998\n",
              "TotalMapExplored         0.8265      0.162      5.109      0.000       0.509       1.144\n",
              "WorkersMade              0.0006   1991.420   3.05e-07      1.000   -3904.535    3904.536\n",
              "UniqueUnitsMade         -1.3534      0.633     -2.139      0.033      -2.594      -0.113\n",
              "ComplexUnitsMade        -0.0002     72.101     -3e-06      1.000    -141.368     141.367\n",
              "ComplexAbilitiesUsed -2.925e-05     61.714  -4.74e-07      1.000    -121.002     121.001\n",
              "========================================================================================\n",
              "\n",
              "The condition number is large, 2.16e+08. This might indicate that there are\n",
              "strong multicollinearity or other numerical problems.\n",
              "\"\"\""
            ]
          },
          "metadata": {
            "tags": []
          },
          "execution_count": 73
        }
      ]
    },
    {
      "metadata": {
        "id": "3WqixMWOwJcJ",
        "colab_type": "code",
        "colab": {
          "base_uri": "https://localhost:8080/",
          "height": 204
        },
        "outputId": "2160a225-c821-4a82-a41a-c549d718d9c5"
      },
      "cell_type": "code",
      "source": [
        "quant_reg.predict(X)[:10] # only first 10 values\n",
        "\n",
        "# these predictions are based on trying to make sure that we correctly predict top 10% most often.\n",
        "# This is the best fit if we want to predict the APM if you are a top player"
      ],
      "execution_count": 79,
      "outputs": [
        {
          "output_type": "execute_result",
          "data": {
            "text/plain": [
              "0    177.075309\n",
              "1    160.902179\n",
              "2    112.099983\n",
              "3    112.118587\n",
              "4    175.772822\n",
              "5     41.477271\n",
              "6     66.971310\n",
              "7    253.629747\n",
              "8    122.742125\n",
              "9    186.566630\n",
              "dtype: float64"
            ]
          },
          "metadata": {
            "tags": []
          },
          "execution_count": 79
        }
      ]
    },
    {
      "metadata": {
        "id": "_Ekj7pVqwdxX",
        "colab_type": "code",
        "colab": {
          "base_uri": "https://localhost:8080/",
          "height": 68
        },
        "outputId": "c7ec99e9-8489-4fe6-8b2c-6badbd9aeeb7"
      },
      "cell_type": "code",
      "source": [
        "linear_reg.predict(X)[:10]\n",
        "\n",
        "# These predictions are conditioned on mean and are BLUE (best linear unbiased estimator)\n",
        "# This is best fit if we want to accurately predict APM on the basis of average"
      ],
      "execution_count": 81,
      "outputs": [
        {
          "output_type": "execute_result",
          "data": {
            "text/plain": [
              "array([143.63118811, 130.48864924,  67.69761065, 101.45031334,\n",
              "       130.15490286,  35.98091498,  41.51357034, 208.30622773,\n",
              "       132.06158302, 144.13021461])"
            ]
          },
          "metadata": {
            "tags": []
          },
          "execution_count": 81
        }
      ]
    },
    {
      "metadata": {
        "id": "TDc7Zzk9mubz",
        "colab_type": "code",
        "colab": {}
      },
      "cell_type": "code",
      "source": [
        "# League has the largest coef of 13.8712 ==14 and t statistic of 12.443. Hence, its an excellent indicator of APM\n",
        "# Means every higher league you are you can do 14 more things per minute\n",
        "# To be in the top 10% of the players, being in a higher league matters"
      ],
      "execution_count": 0,
      "outputs": []
    },
    {
      "metadata": {
        "id": "sTJqGavrpAJ2",
        "colab_type": "code",
        "colab": {}
      },
      "cell_type": "code",
      "source": [
        "# Linear reg is answering: what is the mean, average, how are things correlated or not with mean.\n",
        "# Quantile reg is answering: What does it take to be above or below the threshold."
      ],
      "execution_count": 0,
      "outputs": []
    },
    {
      "metadata": {
        "id": "c2HsXZS_rAaB",
        "colab_type": "text"
      },
      "cell_type": "markdown",
      "source": [
        "### How to read the summary in this example?\n",
        "\n",
        "* For a unit value change in League, you can do 14 more things per minute  (APM).\n",
        "* For std error of 1.15, t-statistic value is 12.443 (coef/std error). Means coef is 12.443 std errors  away from zero.\n",
        "* p-value is extremely close to 0. Therefore, with high confidence we reject the null hypothesis that league index isn't correlated and alternative is true -- it is positively correlated.\n",
        "* Last two columns report confidence interval -- which means that instead of reporting exact coef (also known as point estimate) it is 95% sure that coef is between 11.685 and 16.057."
      ]
    },
    {
      "metadata": {
        "id": "o2BADEQUirXa",
        "colab_type": "text"
      },
      "cell_type": "markdown",
      "source": [
        "## Assignment - birth weight data\n",
        "\n",
        "Birth weight is a situation where, while the data itself is actually fairly normal and symmetric, our main goal is actually *not* to model mean weight (via OLS), but rather to identify mothers at risk of having children below a certain \"at-risk\" threshold weight.\n",
        "\n",
        "Quantile regression gives us just the tool we need. For the data we are using, see: http://people.reed.edu/~jones/141/BirthWgt.html\n",
        "\n",
        "    bwt: baby's weight in ounces at birth\n",
        "    gestation: duration of pregnancy in days\n",
        "    parity: parity indicator (first born = 1, later birth = 0)\n",
        "    age: mother's age in years\n",
        "    height: mother's height in inches\n",
        "    weight: mother's weight in pounds (during pregnancy)\n",
        "    smoke: indicator for whether mother smokes (1=yes, 0=no) \n",
        "    \n",
        "Use this data and `statsmodels` to fit a quantile regression, predicting `bwt` (birth weight) as a function of the other covariates. First, identify an appropriate `q` (quantile) to target a cutoff of 90 ounces - babies above that birth weight are generally healthy/safe, babies below are at-risk.\n",
        "\n",
        "Then, fit and iterate your model. Be creative! You may want to engineer features. Hint - mother's age likely is not simply linear in its impact, and the other features may interact as well.\n",
        "\n",
        "At the end, create at least *2* tables and *1* visualization to summarize your best model. Then (in writing) answer the following questions:\n",
        "\n",
        "- What characteristics of a mother indicate the highest likelihood of an at-risk (low weight) baby?\n",
        "- What can expectant mothers be told to help mitigate this risk?\n",
        "\n",
        "Note that second question is not exactly a data science question - and that's okay! You're not expected to be a medical expert, but it is a good exercise to do a little bit of digging into a particular domain and offer informal but informed opinions."
      ]
    },
    {
      "metadata": {
        "id": "HUWKv16FjZsY",
        "colab_type": "code",
        "outputId": "cd60590c-5d4a-4fad-8843-81119367b8f2",
        "colab": {
          "base_uri": "https://localhost:8080/",
          "height": 204
        }
      },
      "cell_type": "code",
      "source": [
        "import pandas as pd\n",
        "bwt_df = pd.read_csv('http://people.reed.edu/~jones/141/Bwt.dat')\n",
        "bwt_df.head()"
      ],
      "execution_count": 86,
      "outputs": [
        {
          "output_type": "execute_result",
          "data": {
            "text/html": [
              "<div>\n",
              "<style scoped>\n",
              "    .dataframe tbody tr th:only-of-type {\n",
              "        vertical-align: middle;\n",
              "    }\n",
              "\n",
              "    .dataframe tbody tr th {\n",
              "        vertical-align: top;\n",
              "    }\n",
              "\n",
              "    .dataframe thead th {\n",
              "        text-align: right;\n",
              "    }\n",
              "</style>\n",
              "<table border=\"1\" class=\"dataframe\">\n",
              "  <thead>\n",
              "    <tr style=\"text-align: right;\">\n",
              "      <th></th>\n",
              "      <th>bwt</th>\n",
              "      <th>gestation</th>\n",
              "      <th>parity</th>\n",
              "      <th>age</th>\n",
              "      <th>height</th>\n",
              "      <th>weight</th>\n",
              "      <th>smoke</th>\n",
              "    </tr>\n",
              "  </thead>\n",
              "  <tbody>\n",
              "    <tr>\n",
              "      <th>0</th>\n",
              "      <td>120</td>\n",
              "      <td>284</td>\n",
              "      <td>0</td>\n",
              "      <td>27</td>\n",
              "      <td>62</td>\n",
              "      <td>100</td>\n",
              "      <td>0</td>\n",
              "    </tr>\n",
              "    <tr>\n",
              "      <th>1</th>\n",
              "      <td>113</td>\n",
              "      <td>282</td>\n",
              "      <td>0</td>\n",
              "      <td>33</td>\n",
              "      <td>64</td>\n",
              "      <td>135</td>\n",
              "      <td>0</td>\n",
              "    </tr>\n",
              "    <tr>\n",
              "      <th>2</th>\n",
              "      <td>128</td>\n",
              "      <td>279</td>\n",
              "      <td>0</td>\n",
              "      <td>28</td>\n",
              "      <td>64</td>\n",
              "      <td>115</td>\n",
              "      <td>1</td>\n",
              "    </tr>\n",
              "    <tr>\n",
              "      <th>3</th>\n",
              "      <td>108</td>\n",
              "      <td>282</td>\n",
              "      <td>0</td>\n",
              "      <td>23</td>\n",
              "      <td>67</td>\n",
              "      <td>125</td>\n",
              "      <td>1</td>\n",
              "    </tr>\n",
              "    <tr>\n",
              "      <th>4</th>\n",
              "      <td>136</td>\n",
              "      <td>286</td>\n",
              "      <td>0</td>\n",
              "      <td>25</td>\n",
              "      <td>62</td>\n",
              "      <td>93</td>\n",
              "      <td>0</td>\n",
              "    </tr>\n",
              "  </tbody>\n",
              "</table>\n",
              "</div>"
            ],
            "text/plain": [
              "   bwt  gestation  parity  age  height  weight  smoke\n",
              "0  120        284       0   27      62     100      0\n",
              "1  113        282       0   33      64     135      0\n",
              "2  128        279       0   28      64     115      1\n",
              "3  108        282       0   23      67     125      1\n",
              "4  136        286       0   25      62      93      0"
            ]
          },
          "metadata": {
            "tags": []
          },
          "execution_count": 86
        }
      ]
    },
    {
      "metadata": {
        "id": "dy5FkUZpkJT_",
        "colab_type": "code",
        "outputId": "c81760d4-9324-4fbb-955e-0a922e148a40",
        "colab": {
          "base_uri": "https://localhost:8080/",
          "height": 297
        }
      },
      "cell_type": "code",
      "source": [
        "bwt_df.describe()"
      ],
      "execution_count": 87,
      "outputs": [
        {
          "output_type": "execute_result",
          "data": {
            "text/html": [
              "<div>\n",
              "<style scoped>\n",
              "    .dataframe tbody tr th:only-of-type {\n",
              "        vertical-align: middle;\n",
              "    }\n",
              "\n",
              "    .dataframe tbody tr th {\n",
              "        vertical-align: top;\n",
              "    }\n",
              "\n",
              "    .dataframe thead th {\n",
              "        text-align: right;\n",
              "    }\n",
              "</style>\n",
              "<table border=\"1\" class=\"dataframe\">\n",
              "  <thead>\n",
              "    <tr style=\"text-align: right;\">\n",
              "      <th></th>\n",
              "      <th>bwt</th>\n",
              "      <th>gestation</th>\n",
              "      <th>parity</th>\n",
              "      <th>age</th>\n",
              "      <th>height</th>\n",
              "      <th>weight</th>\n",
              "      <th>smoke</th>\n",
              "    </tr>\n",
              "  </thead>\n",
              "  <tbody>\n",
              "    <tr>\n",
              "      <th>count</th>\n",
              "      <td>1174.000000</td>\n",
              "      <td>1174.000000</td>\n",
              "      <td>1174.000000</td>\n",
              "      <td>1174.000000</td>\n",
              "      <td>1174.000000</td>\n",
              "      <td>1174.000000</td>\n",
              "      <td>1174.000000</td>\n",
              "    </tr>\n",
              "    <tr>\n",
              "      <th>mean</th>\n",
              "      <td>119.462521</td>\n",
              "      <td>279.101363</td>\n",
              "      <td>0.262351</td>\n",
              "      <td>27.228279</td>\n",
              "      <td>64.049404</td>\n",
              "      <td>128.478705</td>\n",
              "      <td>0.390971</td>\n",
              "    </tr>\n",
              "    <tr>\n",
              "      <th>std</th>\n",
              "      <td>18.328671</td>\n",
              "      <td>16.010305</td>\n",
              "      <td>0.440100</td>\n",
              "      <td>5.817839</td>\n",
              "      <td>2.526102</td>\n",
              "      <td>20.734282</td>\n",
              "      <td>0.488176</td>\n",
              "    </tr>\n",
              "    <tr>\n",
              "      <th>min</th>\n",
              "      <td>55.000000</td>\n",
              "      <td>148.000000</td>\n",
              "      <td>0.000000</td>\n",
              "      <td>15.000000</td>\n",
              "      <td>53.000000</td>\n",
              "      <td>87.000000</td>\n",
              "      <td>0.000000</td>\n",
              "    </tr>\n",
              "    <tr>\n",
              "      <th>25%</th>\n",
              "      <td>108.000000</td>\n",
              "      <td>272.000000</td>\n",
              "      <td>0.000000</td>\n",
              "      <td>23.000000</td>\n",
              "      <td>62.000000</td>\n",
              "      <td>114.250000</td>\n",
              "      <td>0.000000</td>\n",
              "    </tr>\n",
              "    <tr>\n",
              "      <th>50%</th>\n",
              "      <td>120.000000</td>\n",
              "      <td>280.000000</td>\n",
              "      <td>0.000000</td>\n",
              "      <td>26.000000</td>\n",
              "      <td>64.000000</td>\n",
              "      <td>125.000000</td>\n",
              "      <td>0.000000</td>\n",
              "    </tr>\n",
              "    <tr>\n",
              "      <th>75%</th>\n",
              "      <td>131.000000</td>\n",
              "      <td>288.000000</td>\n",
              "      <td>1.000000</td>\n",
              "      <td>31.000000</td>\n",
              "      <td>66.000000</td>\n",
              "      <td>139.000000</td>\n",
              "      <td>1.000000</td>\n",
              "    </tr>\n",
              "    <tr>\n",
              "      <th>max</th>\n",
              "      <td>176.000000</td>\n",
              "      <td>353.000000</td>\n",
              "      <td>1.000000</td>\n",
              "      <td>45.000000</td>\n",
              "      <td>72.000000</td>\n",
              "      <td>250.000000</td>\n",
              "      <td>1.000000</td>\n",
              "    </tr>\n",
              "  </tbody>\n",
              "</table>\n",
              "</div>"
            ],
            "text/plain": [
              "               bwt    gestation       parity          age       height  \\\n",
              "count  1174.000000  1174.000000  1174.000000  1174.000000  1174.000000   \n",
              "mean    119.462521   279.101363     0.262351    27.228279    64.049404   \n",
              "std      18.328671    16.010305     0.440100     5.817839     2.526102   \n",
              "min      55.000000   148.000000     0.000000    15.000000    53.000000   \n",
              "25%     108.000000   272.000000     0.000000    23.000000    62.000000   \n",
              "50%     120.000000   280.000000     0.000000    26.000000    64.000000   \n",
              "75%     131.000000   288.000000     1.000000    31.000000    66.000000   \n",
              "max     176.000000   353.000000     1.000000    45.000000    72.000000   \n",
              "\n",
              "            weight        smoke  \n",
              "count  1174.000000  1174.000000  \n",
              "mean    128.478705     0.390971  \n",
              "std      20.734282     0.488176  \n",
              "min      87.000000     0.000000  \n",
              "25%     114.250000     0.000000  \n",
              "50%     125.000000     0.000000  \n",
              "75%     139.000000     1.000000  \n",
              "max     250.000000     1.000000  "
            ]
          },
          "metadata": {
            "tags": []
          },
          "execution_count": 87
        }
      ]
    },
    {
      "metadata": {
        "id": "Ez8qPLojjlFf",
        "colab_type": "code",
        "colab": {
          "base_uri": "https://localhost:8080/",
          "height": 153
        },
        "outputId": "d9baa74b-7ab1-4530-ccdb-e47f0994aaa5"
      },
      "cell_type": "code",
      "source": [
        " bwt_df.isna().sum()"
      ],
      "execution_count": 88,
      "outputs": [
        {
          "output_type": "execute_result",
          "data": {
            "text/plain": [
              "bwt          0\n",
              "gestation    0\n",
              "parity       0\n",
              "age          0\n",
              "height       0\n",
              "weight       0\n",
              "smoke        0\n",
              "dtype: int64"
            ]
          },
          "metadata": {
            "tags": []
          },
          "execution_count": 88
        }
      ]
    },
    {
      "metadata": {
        "id": "_imYYdDIv36N",
        "colab_type": "code",
        "colab": {
          "base_uri": "https://localhost:8080/",
          "height": 221
        },
        "outputId": "770ace4e-9750-4d42-b72b-1b418caee717"
      },
      "cell_type": "code",
      "source": [
        "bwt_df.info()\n",
        "\n",
        "# no null values and all numeric columns"
      ],
      "execution_count": 89,
      "outputs": [
        {
          "output_type": "stream",
          "text": [
            "<class 'pandas.core.frame.DataFrame'>\n",
            "RangeIndex: 1174 entries, 0 to 1173\n",
            "Data columns (total 7 columns):\n",
            "bwt          1174 non-null int64\n",
            "gestation    1174 non-null int64\n",
            "parity       1174 non-null int64\n",
            "age          1174 non-null int64\n",
            "height       1174 non-null int64\n",
            "weight       1174 non-null int64\n",
            "smoke        1174 non-null int64\n",
            "dtypes: int64(7)\n",
            "memory usage: 64.3 KB\n"
          ],
          "name": "stdout"
        }
      ]
    },
    {
      "metadata": {
        "id": "Qg2svjRzAZAM",
        "colab_type": "code",
        "colab": {
          "base_uri": "https://localhost:8080/",
          "height": 1071
        },
        "outputId": "15e04e69-a10a-462c-8e8c-076eacfd0f47"
      },
      "cell_type": "code",
      "source": [
        "bwt_df.bwt.value_counts()"
      ],
      "execution_count": 90,
      "outputs": [
        {
          "output_type": "execute_result",
          "data": {
            "text/plain": [
              "115    35\n",
              "117    34\n",
              "123    31\n",
              "129    31\n",
              "120    30\n",
              "125    29\n",
              "119    29\n",
              "114    28\n",
              "122    28\n",
              "110    28\n",
              "127    28\n",
              "116    26\n",
              "124    26\n",
              "128    26\n",
              "113    24\n",
              "112    24\n",
              "131    23\n",
              "126    23\n",
              "130    22\n",
              "105    21\n",
              "132    21\n",
              "121    21\n",
              "136    21\n",
              "118    20\n",
              "109    19\n",
              "102    19\n",
              "133    18\n",
              "103    17\n",
              "100    17\n",
              "144    17\n",
              "       ..\n",
              "153     2\n",
              "72      2\n",
              "80      2\n",
              "89      2\n",
              "77      2\n",
              "156     2\n",
              "65      2\n",
              "82      2\n",
              "73      1\n",
              "62      1\n",
              "69      1\n",
              "68      1\n",
              "63      1\n",
              "79      1\n",
              "58      1\n",
              "176     1\n",
              "83      1\n",
              "151     1\n",
              "157     1\n",
              "159     1\n",
              "161     1\n",
              "162     1\n",
              "164     1\n",
              "165     1\n",
              "166     1\n",
              "167     1\n",
              "169     1\n",
              "170     1\n",
              "173     1\n",
              "55      1\n",
              "Name: bwt, Length: 107, dtype: int64"
            ]
          },
          "metadata": {
            "tags": []
          },
          "execution_count": 90
        }
      ]
    },
    {
      "metadata": {
        "id": "s4M1m_i4SGI-",
        "colab_type": "code",
        "colab": {
          "base_uri": "https://localhost:8080/",
          "height": 347
        },
        "outputId": "902a8fe8-94c6-4619-d2b7-ff450d7a044c"
      },
      "cell_type": "code",
      "source": [
        "import matplotlib.pyplot as plt\n",
        "\n",
        "bwt_df.bwt.hist(bins=25, color='green')\n",
        "\n",
        "# draw a thick red vline at x = 90 that spans the yrange\n",
        "plt.axvline(x=90, linewidth=4, color='r');"
      ],
      "execution_count": 105,
      "outputs": [
        {
          "output_type": "display_data",
          "data": {
            "image/png": "[encoded data removed]",
            "text/plain": [
              "<Figure size 576x396 with 1 Axes>"
            ]
          },
          "metadata": {
            "tags": []
          }
        }
      ]
    },
    {
      "metadata": {
        "id": "d5X2VswzCf11",
        "colab_type": "code",
        "colab": {
          "base_uri": "https://localhost:8080/",
          "height": 34
        },
        "outputId": "6c1564d9-f6fb-4f95-c14a-6ab3c334ed4d"
      },
      "cell_type": "code",
      "source": [
        "# Lets start with Linear Regression\n",
        "\n",
        "from sklearn.linear_model import LinearRegression\n",
        "\n",
        "X = bwt_df.drop('bwt', axis='columns')\n",
        "y = bwt_df.bwt\n",
        "\n",
        "linear_reg = LinearRegression().fit(X,y)\n",
        "linear_reg.score(X,y) # will give us value of R^2\n"
      ],
      "execution_count": 92,
      "outputs": [
        {
          "output_type": "execute_result",
          "data": {
            "text/plain": [
              "0.2579534937842991"
            ]
          },
          "metadata": {
            "tags": []
          },
          "execution_count": 92
        }
      ]
    },
    {
      "metadata": {
        "id": "emX4g47hM6rt",
        "colab_type": "text"
      },
      "cell_type": "markdown",
      "source": [
        "$R^2$ is very small. Therefore, this model is not a good fit."
      ]
    },
    {
      "metadata": {
        "id": "U_Y3RQtzNFH5",
        "colab_type": "code",
        "colab": {
          "base_uri": "https://localhost:8080/",
          "height": 119
        },
        "outputId": "d48667a1-11e6-4bf1-f621-8c3726c5c213"
      },
      "cell_type": "code",
      "source": [
        "for name, coef in zip(X.columns, linear_reg.coef_):\n",
        "  print (name, coef)"
      ],
      "execution_count": 93,
      "outputs": [
        {
          "output_type": "stream",
          "text": [
            "gestation 0.4439783392634531\n",
            "parity -3.327199613351645\n",
            "age -0.008950305361154154\n",
            "height 1.1540203642500357\n",
            "weight 0.05016502707680326\n",
            "smoke -8.40073348432133\n"
          ],
          "name": "stdout"
        }
      ]
    },
    {
      "metadata": {
        "id": "8ZBF1yiwNY-w",
        "colab_type": "text"
      },
      "cell_type": "markdown",
      "source": [
        "Gestation, height and weight have positive coefficients."
      ]
    },
    {
      "metadata": {
        "id": "YiiJ5MDDU4gu",
        "colab_type": "text"
      },
      "cell_type": "markdown",
      "source": [
        "###Let's try Quantile Regression"
      ]
    },
    {
      "metadata": {
        "id": "QdDd_ckgNX_8",
        "colab_type": "code",
        "colab": {
          "base_uri": "https://localhost:8080/",
          "height": 34
        },
        "outputId": "dde63790-0d0d-4c14-a3a6-edf8d24eee71"
      },
      "cell_type": "code",
      "source": [
        "# To find q (quantile) to target a cutoff of 90 ounces \n",
        "# - babies above that birth weight are generally healthy/safe, babies below are at-risk.\n",
        "\n",
        "# Using scipy.stats.percentileofscore(a, score, kind='rank')\n",
        "# Tell the percentile rank of a score relative to a list of scores.\n",
        "\n",
        "\n",
        "# from scipy import stats \n",
        "# stats.percentileofscore(90)  # not working---need to ask this\n",
        "\n",
        "bwt_df.bwt.quantile(0.055) # trial and error method"
      ],
      "execution_count": 125,
      "outputs": [
        {
          "output_type": "execute_result",
          "data": {
            "text/plain": [
              "90.0"
            ]
          },
          "metadata": {
            "tags": []
          },
          "execution_count": 125
        }
      ]
    },
    {
      "metadata": {
        "id": "NW6g4pyGX6iA",
        "colab_type": "text"
      },
      "cell_type": "markdown",
      "source": [
        "q value for bwt=90 ounces is 0.055"
      ]
    },
    {
      "metadata": {
        "id": "rk-h5KQmXgJG",
        "colab_type": "code",
        "colab": {
          "base_uri": "https://localhost:8080/",
          "height": 391
        },
        "outputId": "6d95cde2-aa84-428f-82de-4587e80343a2"
      },
      "cell_type": "code",
      "source": [
        "import numpy as np\n",
        "import statsmodels.formula.api as smf\n",
        "\n",
        "quant_formula = 'bwt ~ ' + ' + '.join(bwt_df.drop('bwt', axis='columns').columns)\n",
        "\n",
        "\n",
        "quant_mod = smf.quantreg(quant_formula, data=bwt_df)\n",
        "quant_reg = quant_mod.fit(q=0.055)\n",
        "print(quant_reg.summary())"
      ],
      "execution_count": 128,
      "outputs": [
        {
          "output_type": "stream",
          "text": [
            "                         QuantReg Regression Results                          \n",
            "==============================================================================\n",
            "Dep. Variable:                    bwt   Pseudo R-squared:               0.2001\n",
            "Model:                       QuantReg   Bandwidth:                       6.255\n",
            "Method:                 Least Squares   Sparsity:                        132.8\n",
            "Date:                Thu, 28 Feb 2019   No. Observations:                 1174\n",
            "Time:                        10:03:53   Df Residuals:                     1167\n",
            "                                        Df Model:                            6\n",
            "==============================================================================\n",
            "                 coef    std err          t      P>|t|      [0.025      0.975]\n",
            "------------------------------------------------------------------------------\n",
            "Intercept    -96.3832     32.007     -3.011      0.003    -159.182     -33.585\n",
            "gestation      0.4806      0.089      5.412      0.000       0.306       0.655\n",
            "parity        -3.2590      2.347     -1.388      0.165      -7.865       1.347\n",
            "age           -0.0882      0.170     -0.517      0.605      -0.423       0.246\n",
            "height         1.2257      0.437      2.807      0.005       0.369       2.082\n",
            "weight        -0.1193      0.057     -2.099      0.036      -0.231      -0.008\n",
            "smoke         -8.6951      1.867     -4.656      0.000     -12.359      -5.031\n",
            "==============================================================================\n",
            "\n",
            "The condition number is large, 9.8e+03. This might indicate that there are\n",
            "strong multicollinearity or other numerical problems.\n"
          ],
          "name": "stdout"
        }
      ]
    },
    {
      "metadata": {
        "id": "QxybdThTjI3C",
        "colab_type": "code",
        "colab": {}
      },
      "cell_type": "code",
      "source": [
        ""
      ],
      "execution_count": 0,
      "outputs": []
    },
    {
      "metadata": {
        "id": "XY9JGAnJisdB",
        "colab_type": "text"
      },
      "cell_type": "markdown",
      "source": [
        "## Resources and stretch goals"
      ]
    },
    {
      "metadata": {
        "id": "inFWXSpqmND5",
        "colab_type": "text"
      },
      "cell_type": "markdown",
      "source": [
        "Resources:\n",
        "- [statsmodels QuantReg example](http://www.statsmodels.org/dev/examples/notebooks/generated/quantile_regression.html)\n",
        "- [How Shopify used Quantile Regression in modeling risk](https://medium.com/data-shopify/how-shopify-capital-uses-quantile-regression-to-help-merchants-succeed-10ee1b36b17d)\n",
        "\n",
        "Stretch goals:\n",
        "- Find a dataset where you think quantile regression may be appropriate, and try both it and linear regression - compare/contrast their strengths/weaknesses, and write a summary for which you think is better for the situation and why\n",
        "- Check out [deep quantile regression](https://www.kdnuggets.com/2018/07/deep-quantile-regression.html), an approach that uses a custom quantile loss function and Keras to train a quantile model"
      ]
    }
  ]
}