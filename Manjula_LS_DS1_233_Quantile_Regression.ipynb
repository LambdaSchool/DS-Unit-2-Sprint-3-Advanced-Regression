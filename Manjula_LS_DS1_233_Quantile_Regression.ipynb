{
  "nbformat": 4,
  "nbformat_minor": 0,
  "metadata": {
    "colab": {
      "name": "Manjula_LS_DS1_233_Quantile_Regression.ipynb",
      "version": "0.3.2",
      "provenance": [],
      "include_colab_link": true
    },
    "kernelspec": {
      "name": "python3",
      "display_name": "Python 3"
    }
  },
  "cells": [
    {
      "cell_type": "markdown",
      "metadata": {
        "id": "view-in-github",
        "colab_type": "text"
      },
      "source": [
        "<a href=\"https://colab.research.google.com/github/manjulamishra/DS-Unit-2-Sprint-3-Advanced-Regression/blob/master/Manjula_LS_DS1_233_Quantile_Regression.ipynb\" target=\"_parent\"><img src=\"https://colab.research.google.com/assets/colab-badge.svg\" alt=\"Open In Colab\"/></a>"
      ]
    },
    {
      "metadata": {
        "id": "SV7gaADiicnV",
        "colab_type": "text"
      },
      "cell_type": "markdown",
      "source": [
        "# Lambda School Data Science - Quantile Regression\n",
        "\n",
        "Regressing towards the median - or any quantile - as a way to mitigate outliers and control risk."
      ]
    },
    {
      "metadata": {
        "id": "6klMj4q3iqMh",
        "colab_type": "text"
      },
      "cell_type": "markdown",
      "source": [
        "## Lecture\n",
        "\n",
        "Let's look at data that has a bit of a skew to it:\n",
        "\n",
        "http://archive.ics.uci.edu/ml/datasets/Beijing+PM2.5+Data"
      ]
    },
    {
      "metadata": {
        "id": "yw1AD_z9O0xL",
        "colab_type": "code",
        "colab": {}
      },
      "cell_type": "code",
      "source": [
        "import pandas as pd\n",
        "df = pd.read_csv('http://archive.ics.uci.edu/ml/machine-learning-databases/'\n",
        "                 '00381/PRSA_data_2010.1.1-2014.12.31.csv')"
      ],
      "execution_count": 0,
      "outputs": []
    },
    {
      "metadata": {
        "id": "RTlH1lJ8PDv5",
        "colab_type": "code",
        "outputId": "75cda74d-e7b4-4a13-b18c-8efa43907997",
        "colab": {
          "base_uri": "https://localhost:8080/",
          "height": 198
        }
      },
      "cell_type": "code",
      "source": [
        "df.head()"
      ],
      "execution_count": 0,
      "outputs": [
        {
          "output_type": "execute_result",
          "data": {
            "text/html": [
              "<div>\n",
              "<style scoped>\n",
              "    .dataframe tbody tr th:only-of-type {\n",
              "        vertical-align: middle;\n",
              "    }\n",
              "\n",
              "    .dataframe tbody tr th {\n",
              "        vertical-align: top;\n",
              "    }\n",
              "\n",
              "    .dataframe thead th {\n",
              "        text-align: right;\n",
              "    }\n",
              "</style>\n",
              "<table border=\"1\" class=\"dataframe\">\n",
              "  <thead>\n",
              "    <tr style=\"text-align: right;\">\n",
              "      <th></th>\n",
              "      <th>No</th>\n",
              "      <th>year</th>\n",
              "      <th>month</th>\n",
              "      <th>day</th>\n",
              "      <th>hour</th>\n",
              "      <th>pm2.5</th>\n",
              "      <th>DEWP</th>\n",
              "      <th>TEMP</th>\n",
              "      <th>PRES</th>\n",
              "      <th>cbwd</th>\n",
              "      <th>Iws</th>\n",
              "      <th>Is</th>\n",
              "      <th>Ir</th>\n",
              "    </tr>\n",
              "  </thead>\n",
              "  <tbody>\n",
              "    <tr>\n",
              "      <th>0</th>\n",
              "      <td>1</td>\n",
              "      <td>2010</td>\n",
              "      <td>1</td>\n",
              "      <td>1</td>\n",
              "      <td>0</td>\n",
              "      <td>NaN</td>\n",
              "      <td>-21</td>\n",
              "      <td>-11.0</td>\n",
              "      <td>1021.0</td>\n",
              "      <td>NW</td>\n",
              "      <td>1.79</td>\n",
              "      <td>0</td>\n",
              "      <td>0</td>\n",
              "    </tr>\n",
              "    <tr>\n",
              "      <th>1</th>\n",
              "      <td>2</td>\n",
              "      <td>2010</td>\n",
              "      <td>1</td>\n",
              "      <td>1</td>\n",
              "      <td>1</td>\n",
              "      <td>NaN</td>\n",
              "      <td>-21</td>\n",
              "      <td>-12.0</td>\n",
              "      <td>1020.0</td>\n",
              "      <td>NW</td>\n",
              "      <td>4.92</td>\n",
              "      <td>0</td>\n",
              "      <td>0</td>\n",
              "    </tr>\n",
              "    <tr>\n",
              "      <th>2</th>\n",
              "      <td>3</td>\n",
              "      <td>2010</td>\n",
              "      <td>1</td>\n",
              "      <td>1</td>\n",
              "      <td>2</td>\n",
              "      <td>NaN</td>\n",
              "      <td>-21</td>\n",
              "      <td>-11.0</td>\n",
              "      <td>1019.0</td>\n",
              "      <td>NW</td>\n",
              "      <td>6.71</td>\n",
              "      <td>0</td>\n",
              "      <td>0</td>\n",
              "    </tr>\n",
              "    <tr>\n",
              "      <th>3</th>\n",
              "      <td>4</td>\n",
              "      <td>2010</td>\n",
              "      <td>1</td>\n",
              "      <td>1</td>\n",
              "      <td>3</td>\n",
              "      <td>NaN</td>\n",
              "      <td>-21</td>\n",
              "      <td>-14.0</td>\n",
              "      <td>1019.0</td>\n",
              "      <td>NW</td>\n",
              "      <td>9.84</td>\n",
              "      <td>0</td>\n",
              "      <td>0</td>\n",
              "    </tr>\n",
              "    <tr>\n",
              "      <th>4</th>\n",
              "      <td>5</td>\n",
              "      <td>2010</td>\n",
              "      <td>1</td>\n",
              "      <td>1</td>\n",
              "      <td>4</td>\n",
              "      <td>NaN</td>\n",
              "      <td>-20</td>\n",
              "      <td>-12.0</td>\n",
              "      <td>1018.0</td>\n",
              "      <td>NW</td>\n",
              "      <td>12.97</td>\n",
              "      <td>0</td>\n",
              "      <td>0</td>\n",
              "    </tr>\n",
              "  </tbody>\n",
              "</table>\n",
              "</div>"
            ],
            "text/plain": [
              "   No  year  month  day  hour  pm2.5  DEWP  TEMP    PRES cbwd    Iws  Is  Ir\n",
              "0   1  2010      1    1     0    NaN   -21 -11.0  1021.0   NW   1.79   0   0\n",
              "1   2  2010      1    1     1    NaN   -21 -12.0  1020.0   NW   4.92   0   0\n",
              "2   3  2010      1    1     2    NaN   -21 -11.0  1019.0   NW   6.71   0   0\n",
              "3   4  2010      1    1     3    NaN   -21 -14.0  1019.0   NW   9.84   0   0\n",
              "4   5  2010      1    1     4    NaN   -20 -12.0  1018.0   NW  12.97   0   0"
            ]
          },
          "metadata": {
            "tags": []
          },
          "execution_count": 124
        }
      ]
    },
    {
      "metadata": {
        "id": "m-yC9OSPPFo8",
        "colab_type": "code",
        "outputId": "f3b28011-91c4-4034-d50a-bd0fe65b7919",
        "colab": {
          "base_uri": "https://localhost:8080/",
          "height": 308
        }
      },
      "cell_type": "code",
      "source": [
        "df.describe()"
      ],
      "execution_count": 0,
      "outputs": [
        {
          "output_type": "execute_result",
          "data": {
            "text/html": [
              "<div>\n",
              "<style scoped>\n",
              "    .dataframe tbody tr th:only-of-type {\n",
              "        vertical-align: middle;\n",
              "    }\n",
              "\n",
              "    .dataframe tbody tr th {\n",
              "        vertical-align: top;\n",
              "    }\n",
              "\n",
              "    .dataframe thead th {\n",
              "        text-align: right;\n",
              "    }\n",
              "</style>\n",
              "<table border=\"1\" class=\"dataframe\">\n",
              "  <thead>\n",
              "    <tr style=\"text-align: right;\">\n",
              "      <th></th>\n",
              "      <th>No</th>\n",
              "      <th>year</th>\n",
              "      <th>month</th>\n",
              "      <th>day</th>\n",
              "      <th>hour</th>\n",
              "      <th>pm2.5</th>\n",
              "      <th>DEWP</th>\n",
              "      <th>TEMP</th>\n",
              "      <th>PRES</th>\n",
              "      <th>Iws</th>\n",
              "      <th>Is</th>\n",
              "      <th>Ir</th>\n",
              "    </tr>\n",
              "  </thead>\n",
              "  <tbody>\n",
              "    <tr>\n",
              "      <th>count</th>\n",
              "      <td>43824.000000</td>\n",
              "      <td>43824.000000</td>\n",
              "      <td>43824.000000</td>\n",
              "      <td>43824.000000</td>\n",
              "      <td>43824.000000</td>\n",
              "      <td>41757.000000</td>\n",
              "      <td>43824.000000</td>\n",
              "      <td>43824.000000</td>\n",
              "      <td>43824.000000</td>\n",
              "      <td>43824.000000</td>\n",
              "      <td>43824.000000</td>\n",
              "      <td>43824.000000</td>\n",
              "    </tr>\n",
              "    <tr>\n",
              "      <th>mean</th>\n",
              "      <td>21912.500000</td>\n",
              "      <td>2012.000000</td>\n",
              "      <td>6.523549</td>\n",
              "      <td>15.727820</td>\n",
              "      <td>11.500000</td>\n",
              "      <td>98.613215</td>\n",
              "      <td>1.817246</td>\n",
              "      <td>12.448521</td>\n",
              "      <td>1016.447654</td>\n",
              "      <td>23.889140</td>\n",
              "      <td>0.052734</td>\n",
              "      <td>0.194916</td>\n",
              "    </tr>\n",
              "    <tr>\n",
              "      <th>std</th>\n",
              "      <td>12651.043435</td>\n",
              "      <td>1.413842</td>\n",
              "      <td>3.448572</td>\n",
              "      <td>8.799425</td>\n",
              "      <td>6.922266</td>\n",
              "      <td>92.050387</td>\n",
              "      <td>14.433440</td>\n",
              "      <td>12.198613</td>\n",
              "      <td>10.268698</td>\n",
              "      <td>50.010635</td>\n",
              "      <td>0.760375</td>\n",
              "      <td>1.415867</td>\n",
              "    </tr>\n",
              "    <tr>\n",
              "      <th>min</th>\n",
              "      <td>1.000000</td>\n",
              "      <td>2010.000000</td>\n",
              "      <td>1.000000</td>\n",
              "      <td>1.000000</td>\n",
              "      <td>0.000000</td>\n",
              "      <td>0.000000</td>\n",
              "      <td>-40.000000</td>\n",
              "      <td>-19.000000</td>\n",
              "      <td>991.000000</td>\n",
              "      <td>0.450000</td>\n",
              "      <td>0.000000</td>\n",
              "      <td>0.000000</td>\n",
              "    </tr>\n",
              "    <tr>\n",
              "      <th>25%</th>\n",
              "      <td>10956.750000</td>\n",
              "      <td>2011.000000</td>\n",
              "      <td>4.000000</td>\n",
              "      <td>8.000000</td>\n",
              "      <td>5.750000</td>\n",
              "      <td>29.000000</td>\n",
              "      <td>-10.000000</td>\n",
              "      <td>2.000000</td>\n",
              "      <td>1008.000000</td>\n",
              "      <td>1.790000</td>\n",
              "      <td>0.000000</td>\n",
              "      <td>0.000000</td>\n",
              "    </tr>\n",
              "    <tr>\n",
              "      <th>50%</th>\n",
              "      <td>21912.500000</td>\n",
              "      <td>2012.000000</td>\n",
              "      <td>7.000000</td>\n",
              "      <td>16.000000</td>\n",
              "      <td>11.500000</td>\n",
              "      <td>72.000000</td>\n",
              "      <td>2.000000</td>\n",
              "      <td>14.000000</td>\n",
              "      <td>1016.000000</td>\n",
              "      <td>5.370000</td>\n",
              "      <td>0.000000</td>\n",
              "      <td>0.000000</td>\n",
              "    </tr>\n",
              "    <tr>\n",
              "      <th>75%</th>\n",
              "      <td>32868.250000</td>\n",
              "      <td>2013.000000</td>\n",
              "      <td>10.000000</td>\n",
              "      <td>23.000000</td>\n",
              "      <td>17.250000</td>\n",
              "      <td>137.000000</td>\n",
              "      <td>15.000000</td>\n",
              "      <td>23.000000</td>\n",
              "      <td>1025.000000</td>\n",
              "      <td>21.910000</td>\n",
              "      <td>0.000000</td>\n",
              "      <td>0.000000</td>\n",
              "    </tr>\n",
              "    <tr>\n",
              "      <th>max</th>\n",
              "      <td>43824.000000</td>\n",
              "      <td>2014.000000</td>\n",
              "      <td>12.000000</td>\n",
              "      <td>31.000000</td>\n",
              "      <td>23.000000</td>\n",
              "      <td>994.000000</td>\n",
              "      <td>28.000000</td>\n",
              "      <td>42.000000</td>\n",
              "      <td>1046.000000</td>\n",
              "      <td>585.600000</td>\n",
              "      <td>27.000000</td>\n",
              "      <td>36.000000</td>\n",
              "    </tr>\n",
              "  </tbody>\n",
              "</table>\n",
              "</div>"
            ],
            "text/plain": [
              "                 No          year         month           day          hour  \\\n",
              "count  43824.000000  43824.000000  43824.000000  43824.000000  43824.000000   \n",
              "mean   21912.500000   2012.000000      6.523549     15.727820     11.500000   \n",
              "std    12651.043435      1.413842      3.448572      8.799425      6.922266   \n",
              "min        1.000000   2010.000000      1.000000      1.000000      0.000000   \n",
              "25%    10956.750000   2011.000000      4.000000      8.000000      5.750000   \n",
              "50%    21912.500000   2012.000000      7.000000     16.000000     11.500000   \n",
              "75%    32868.250000   2013.000000     10.000000     23.000000     17.250000   \n",
              "max    43824.000000   2014.000000     12.000000     31.000000     23.000000   \n",
              "\n",
              "              pm2.5          DEWP          TEMP          PRES           Iws  \\\n",
              "count  41757.000000  43824.000000  43824.000000  43824.000000  43824.000000   \n",
              "mean      98.613215      1.817246     12.448521   1016.447654     23.889140   \n",
              "std       92.050387     14.433440     12.198613     10.268698     50.010635   \n",
              "min        0.000000    -40.000000    -19.000000    991.000000      0.450000   \n",
              "25%       29.000000    -10.000000      2.000000   1008.000000      1.790000   \n",
              "50%       72.000000      2.000000     14.000000   1016.000000      5.370000   \n",
              "75%      137.000000     15.000000     23.000000   1025.000000     21.910000   \n",
              "max      994.000000     28.000000     42.000000   1046.000000    585.600000   \n",
              "\n",
              "                 Is            Ir  \n",
              "count  43824.000000  43824.000000  \n",
              "mean       0.052734      0.194916  \n",
              "std        0.760375      1.415867  \n",
              "min        0.000000      0.000000  \n",
              "25%        0.000000      0.000000  \n",
              "50%        0.000000      0.000000  \n",
              "75%        0.000000      0.000000  \n",
              "max       27.000000     36.000000  "
            ]
          },
          "metadata": {
            "tags": []
          },
          "execution_count": 125
        }
      ]
    },
    {
      "metadata": {
        "id": "hfV3WisFP_O6",
        "colab_type": "code",
        "outputId": "7b4fd2e8-3884-41ff-f026-c9cacbe7967b",
        "colab": {
          "base_uri": "https://localhost:8080/",
          "height": 347
        }
      },
      "cell_type": "code",
      "source": [
        "df['pm2.5'].plot.hist();"
      ],
      "execution_count": 0,
      "outputs": [
        {
          "output_type": "display_data",
          "data": {
            "image/png": "[encoded data removed]",
            "text/plain": [
              "<Figure size 576x396 with 1 Axes>"
            ]
          },
          "metadata": {
            "tags": []
          }
        }
      ]
    },
    {
      "metadata": {
        "id": "u2DTml6zvd_5",
        "colab_type": "code",
        "outputId": "1995f932-df5b-4b5f-b6ad-aa59cb18be80",
        "colab": {
          "base_uri": "https://localhost:8080/",
          "height": 1100
        }
      },
      "cell_type": "code",
      "source": [
        "import numpy as np\n",
        "df['pm2.5'].dropna().apply(np.log).plot.hist();"
      ],
      "execution_count": 0,
      "outputs": [
        {
          "output_type": "error",
          "ename": "ValueError",
          "evalue": "ignored",
          "traceback": [
            "\u001b[0;31m---------------------------------------------------------------------------\u001b[0m",
            "\u001b[0;31mValueError\u001b[0m                                Traceback (most recent call last)",
            "\u001b[0;32m<ipython-input-127-3902b9b9f846>\u001b[0m in \u001b[0;36m<module>\u001b[0;34m()\u001b[0m\n\u001b[1;32m      1\u001b[0m \u001b[0;32mimport\u001b[0m \u001b[0mnumpy\u001b[0m \u001b[0;32mas\u001b[0m \u001b[0mnp\u001b[0m\u001b[0;34m\u001b[0m\u001b[0;34m\u001b[0m\u001b[0m\n\u001b[0;32m----> 2\u001b[0;31m \u001b[0mdf\u001b[0m\u001b[0;34m[\u001b[0m\u001b[0;34m'pm2.5'\u001b[0m\u001b[0;34m]\u001b[0m\u001b[0;34m.\u001b[0m\u001b[0mdropna\u001b[0m\u001b[0;34m(\u001b[0m\u001b[0;34m)\u001b[0m\u001b[0;34m.\u001b[0m\u001b[0mapply\u001b[0m\u001b[0;34m(\u001b[0m\u001b[0mnp\u001b[0m\u001b[0;34m.\u001b[0m\u001b[0mlog\u001b[0m\u001b[0;34m)\u001b[0m\u001b[0;34m.\u001b[0m\u001b[0mplot\u001b[0m\u001b[0;34m.\u001b[0m\u001b[0mhist\u001b[0m\u001b[0;34m(\u001b[0m\u001b[0;34m)\u001b[0m\u001b[0;34m;\u001b[0m\u001b[0;34m\u001b[0m\u001b[0;34m\u001b[0m\u001b[0m\n\u001b[0m",
            "\u001b[0;32m/usr/local/lib/python3.6/dist-packages/pandas/plotting/_core.py\u001b[0m in \u001b[0;36mhist\u001b[0;34m(self, bins, **kwds)\u001b[0m\n\u001b[1;32m   2589\u001b[0m         \u001b[0maxes\u001b[0m \u001b[0;34m:\u001b[0m \u001b[0mmatplotlib\u001b[0m\u001b[0;34m.\u001b[0m\u001b[0mAxesSubplot\u001b[0m \u001b[0;32mor\u001b[0m \u001b[0mnp\u001b[0m\u001b[0;34m.\u001b[0m\u001b[0marray\u001b[0m \u001b[0mof\u001b[0m \u001b[0mthem\u001b[0m\u001b[0;34m\u001b[0m\u001b[0;34m\u001b[0m\u001b[0m\n\u001b[1;32m   2590\u001b[0m         \"\"\"\n\u001b[0;32m-> 2591\u001b[0;31m         \u001b[0;32mreturn\u001b[0m \u001b[0mself\u001b[0m\u001b[0;34m(\u001b[0m\u001b[0mkind\u001b[0m\u001b[0;34m=\u001b[0m\u001b[0;34m'hist'\u001b[0m\u001b[0;34m,\u001b[0m \u001b[0mbins\u001b[0m\u001b[0;34m=\u001b[0m\u001b[0mbins\u001b[0m\u001b[0;34m,\u001b[0m \u001b[0;34m**\u001b[0m\u001b[0mkwds\u001b[0m\u001b[0;34m)\u001b[0m\u001b[0;34m\u001b[0m\u001b[0;34m\u001b[0m\u001b[0m\n\u001b[0m\u001b[1;32m   2592\u001b[0m \u001b[0;34m\u001b[0m\u001b[0m\n\u001b[1;32m   2593\u001b[0m     \u001b[0;32mdef\u001b[0m \u001b[0mkde\u001b[0m\u001b[0;34m(\u001b[0m\u001b[0mself\u001b[0m\u001b[0;34m,\u001b[0m \u001b[0;34m**\u001b[0m\u001b[0mkwds\u001b[0m\u001b[0;34m)\u001b[0m\u001b[0;34m:\u001b[0m\u001b[0;34m\u001b[0m\u001b[0;34m\u001b[0m\u001b[0m\n",
            "\u001b[0;32m/usr/local/lib/python3.6/dist-packages/pandas/plotting/_core.py\u001b[0m in \u001b[0;36m__call__\u001b[0;34m(self, kind, ax, figsize, use_index, title, grid, legend, style, logx, logy, loglog, xticks, yticks, xlim, ylim, rot, fontsize, colormap, table, yerr, xerr, label, secondary_y, **kwds)\u001b[0m\n\u001b[1;32m   2501\u001b[0m                            \u001b[0mcolormap\u001b[0m\u001b[0;34m=\u001b[0m\u001b[0mcolormap\u001b[0m\u001b[0;34m,\u001b[0m \u001b[0mtable\u001b[0m\u001b[0;34m=\u001b[0m\u001b[0mtable\u001b[0m\u001b[0;34m,\u001b[0m \u001b[0myerr\u001b[0m\u001b[0;34m=\u001b[0m\u001b[0myerr\u001b[0m\u001b[0;34m,\u001b[0m\u001b[0;34m\u001b[0m\u001b[0;34m\u001b[0m\u001b[0m\n\u001b[1;32m   2502\u001b[0m                            \u001b[0mxerr\u001b[0m\u001b[0;34m=\u001b[0m\u001b[0mxerr\u001b[0m\u001b[0;34m,\u001b[0m \u001b[0mlabel\u001b[0m\u001b[0;34m=\u001b[0m\u001b[0mlabel\u001b[0m\u001b[0;34m,\u001b[0m \u001b[0msecondary_y\u001b[0m\u001b[0;34m=\u001b[0m\u001b[0msecondary_y\u001b[0m\u001b[0;34m,\u001b[0m\u001b[0;34m\u001b[0m\u001b[0;34m\u001b[0m\u001b[0m\n\u001b[0;32m-> 2503\u001b[0;31m                            **kwds)\n\u001b[0m\u001b[1;32m   2504\u001b[0m     \u001b[0m__call__\u001b[0m\u001b[0;34m.\u001b[0m\u001b[0m__doc__\u001b[0m \u001b[0;34m=\u001b[0m \u001b[0mplot_series\u001b[0m\u001b[0;34m.\u001b[0m\u001b[0m__doc__\u001b[0m\u001b[0;34m\u001b[0m\u001b[0;34m\u001b[0m\u001b[0m\n\u001b[1;32m   2505\u001b[0m \u001b[0;34m\u001b[0m\u001b[0m\n",
            "\u001b[0;32m/usr/local/lib/python3.6/dist-packages/pandas/plotting/_core.py\u001b[0m in \u001b[0;36mplot_series\u001b[0;34m(data, kind, ax, figsize, use_index, title, grid, legend, style, logx, logy, loglog, xticks, yticks, xlim, ylim, rot, fontsize, colormap, table, yerr, xerr, label, secondary_y, **kwds)\u001b[0m\n\u001b[1;32m   1925\u001b[0m                  \u001b[0myerr\u001b[0m\u001b[0;34m=\u001b[0m\u001b[0myerr\u001b[0m\u001b[0;34m,\u001b[0m \u001b[0mxerr\u001b[0m\u001b[0;34m=\u001b[0m\u001b[0mxerr\u001b[0m\u001b[0;34m,\u001b[0m\u001b[0;34m\u001b[0m\u001b[0;34m\u001b[0m\u001b[0m\n\u001b[1;32m   1926\u001b[0m                  \u001b[0mlabel\u001b[0m\u001b[0;34m=\u001b[0m\u001b[0mlabel\u001b[0m\u001b[0;34m,\u001b[0m \u001b[0msecondary_y\u001b[0m\u001b[0;34m=\u001b[0m\u001b[0msecondary_y\u001b[0m\u001b[0;34m,\u001b[0m\u001b[0;34m\u001b[0m\u001b[0;34m\u001b[0m\u001b[0m\n\u001b[0;32m-> 1927\u001b[0;31m                  **kwds)\n\u001b[0m\u001b[1;32m   1928\u001b[0m \u001b[0;34m\u001b[0m\u001b[0m\n\u001b[1;32m   1929\u001b[0m \u001b[0;34m\u001b[0m\u001b[0m\n",
            "\u001b[0;32m/usr/local/lib/python3.6/dist-packages/pandas/plotting/_core.py\u001b[0m in \u001b[0;36m_plot\u001b[0;34m(data, x, y, subplots, ax, kind, **kwds)\u001b[0m\n\u001b[1;32m   1727\u001b[0m         \u001b[0mplot_obj\u001b[0m \u001b[0;34m=\u001b[0m \u001b[0mklass\u001b[0m\u001b[0;34m(\u001b[0m\u001b[0mdata\u001b[0m\u001b[0;34m,\u001b[0m \u001b[0msubplots\u001b[0m\u001b[0;34m=\u001b[0m\u001b[0msubplots\u001b[0m\u001b[0;34m,\u001b[0m \u001b[0max\u001b[0m\u001b[0;34m=\u001b[0m\u001b[0max\u001b[0m\u001b[0;34m,\u001b[0m \u001b[0mkind\u001b[0m\u001b[0;34m=\u001b[0m\u001b[0mkind\u001b[0m\u001b[0;34m,\u001b[0m \u001b[0;34m**\u001b[0m\u001b[0mkwds\u001b[0m\u001b[0;34m)\u001b[0m\u001b[0;34m\u001b[0m\u001b[0;34m\u001b[0m\u001b[0m\n\u001b[1;32m   1728\u001b[0m \u001b[0;34m\u001b[0m\u001b[0m\n\u001b[0;32m-> 1729\u001b[0;31m     \u001b[0mplot_obj\u001b[0m\u001b[0;34m.\u001b[0m\u001b[0mgenerate\u001b[0m\u001b[0;34m(\u001b[0m\u001b[0;34m)\u001b[0m\u001b[0;34m\u001b[0m\u001b[0;34m\u001b[0m\u001b[0m\n\u001b[0m\u001b[1;32m   1730\u001b[0m     \u001b[0mplot_obj\u001b[0m\u001b[0;34m.\u001b[0m\u001b[0mdraw\u001b[0m\u001b[0;34m(\u001b[0m\u001b[0;34m)\u001b[0m\u001b[0;34m\u001b[0m\u001b[0;34m\u001b[0m\u001b[0m\n\u001b[1;32m   1731\u001b[0m     \u001b[0;32mreturn\u001b[0m \u001b[0mplot_obj\u001b[0m\u001b[0;34m.\u001b[0m\u001b[0mresult\u001b[0m\u001b[0;34m\u001b[0m\u001b[0;34m\u001b[0m\u001b[0m\n",
            "\u001b[0;32m/usr/local/lib/python3.6/dist-packages/pandas/plotting/_core.py\u001b[0m in \u001b[0;36mgenerate\u001b[0;34m(self)\u001b[0m\n\u001b[1;32m    247\u001b[0m \u001b[0;34m\u001b[0m\u001b[0m\n\u001b[1;32m    248\u001b[0m     \u001b[0;32mdef\u001b[0m \u001b[0mgenerate\u001b[0m\u001b[0;34m(\u001b[0m\u001b[0mself\u001b[0m\u001b[0;34m)\u001b[0m\u001b[0;34m:\u001b[0m\u001b[0;34m\u001b[0m\u001b[0;34m\u001b[0m\u001b[0m\n\u001b[0;32m--> 249\u001b[0;31m         \u001b[0mself\u001b[0m\u001b[0;34m.\u001b[0m\u001b[0m_args_adjust\u001b[0m\u001b[0;34m(\u001b[0m\u001b[0;34m)\u001b[0m\u001b[0;34m\u001b[0m\u001b[0;34m\u001b[0m\u001b[0m\n\u001b[0m\u001b[1;32m    250\u001b[0m         \u001b[0mself\u001b[0m\u001b[0;34m.\u001b[0m\u001b[0m_compute_plot_data\u001b[0m\u001b[0;34m(\u001b[0m\u001b[0;34m)\u001b[0m\u001b[0;34m\u001b[0m\u001b[0;34m\u001b[0m\u001b[0m\n\u001b[1;32m    251\u001b[0m         \u001b[0mself\u001b[0m\u001b[0;34m.\u001b[0m\u001b[0m_setup_subplots\u001b[0m\u001b[0;34m(\u001b[0m\u001b[0;34m)\u001b[0m\u001b[0;34m\u001b[0m\u001b[0;34m\u001b[0m\u001b[0m\n",
            "\u001b[0;32m/usr/local/lib/python3.6/dist-packages/pandas/plotting/_core.py\u001b[0m in \u001b[0;36m_args_adjust\u001b[0;34m(self)\u001b[0m\n\u001b[1;32m   1319\u001b[0m                 \u001b[0mvalues\u001b[0m\u001b[0;34m,\u001b[0m \u001b[0mbins\u001b[0m\u001b[0;34m=\u001b[0m\u001b[0mself\u001b[0m\u001b[0;34m.\u001b[0m\u001b[0mbins\u001b[0m\u001b[0;34m,\u001b[0m\u001b[0;34m\u001b[0m\u001b[0;34m\u001b[0m\u001b[0m\n\u001b[1;32m   1320\u001b[0m                 \u001b[0mrange\u001b[0m\u001b[0;34m=\u001b[0m\u001b[0mself\u001b[0m\u001b[0;34m.\u001b[0m\u001b[0mkwds\u001b[0m\u001b[0;34m.\u001b[0m\u001b[0mget\u001b[0m\u001b[0;34m(\u001b[0m\u001b[0;34m'range'\u001b[0m\u001b[0;34m,\u001b[0m \u001b[0;32mNone\u001b[0m\u001b[0;34m)\u001b[0m\u001b[0;34m,\u001b[0m\u001b[0;34m\u001b[0m\u001b[0;34m\u001b[0m\u001b[0m\n\u001b[0;32m-> 1321\u001b[0;31m                 weights=self.kwds.get('weights', None))\n\u001b[0m\u001b[1;32m   1322\u001b[0m \u001b[0;34m\u001b[0m\u001b[0m\n\u001b[1;32m   1323\u001b[0m         \u001b[0;32mif\u001b[0m \u001b[0mis_list_like\u001b[0m\u001b[0;34m(\u001b[0m\u001b[0mself\u001b[0m\u001b[0;34m.\u001b[0m\u001b[0mbottom\u001b[0m\u001b[0;34m)\u001b[0m\u001b[0;34m:\u001b[0m\u001b[0;34m\u001b[0m\u001b[0;34m\u001b[0m\u001b[0m\n",
            "\u001b[0;32m/usr/local/lib/python3.6/dist-packages/numpy/lib/function_base.py\u001b[0m in \u001b[0;36mhistogram\u001b[0;34m(a, bins, range, normed, weights, density)\u001b[0m\n\u001b[1;32m    668\u001b[0m     \u001b[0;32mif\u001b[0m \u001b[0;32mnot\u001b[0m \u001b[0mnp\u001b[0m\u001b[0;34m.\u001b[0m\u001b[0mall\u001b[0m\u001b[0;34m(\u001b[0m\u001b[0mnp\u001b[0m\u001b[0;34m.\u001b[0m\u001b[0misfinite\u001b[0m\u001b[0;34m(\u001b[0m\u001b[0;34m[\u001b[0m\u001b[0mfirst_edge\u001b[0m\u001b[0;34m,\u001b[0m \u001b[0mlast_edge\u001b[0m\u001b[0;34m]\u001b[0m\u001b[0;34m)\u001b[0m\u001b[0;34m)\u001b[0m\u001b[0;34m:\u001b[0m\u001b[0;34m\u001b[0m\u001b[0;34m\u001b[0m\u001b[0m\n\u001b[1;32m    669\u001b[0m         raise ValueError(\n\u001b[0;32m--> 670\u001b[0;31m             'range parameter must be finite.')\n\u001b[0m\u001b[1;32m    671\u001b[0m     \u001b[0;32mif\u001b[0m \u001b[0mfirst_edge\u001b[0m \u001b[0;34m==\u001b[0m \u001b[0mlast_edge\u001b[0m\u001b[0;34m:\u001b[0m\u001b[0;34m\u001b[0m\u001b[0;34m\u001b[0m\u001b[0m\n\u001b[1;32m    672\u001b[0m         \u001b[0mfirst_edge\u001b[0m \u001b[0;34m-=\u001b[0m \u001b[0;36m0.5\u001b[0m\u001b[0;34m\u001b[0m\u001b[0;34m\u001b[0m\u001b[0m\n",
            "\u001b[0;31mValueError\u001b[0m: range parameter must be finite."
          ]
        }
      ]
    },
    {
      "metadata": {
        "id": "OgbMTAHzQJB8",
        "colab_type": "code",
        "colab": {}
      },
      "cell_type": "code",
      "source": [
        "# How does linear regression handle it?\n",
        "from sklearn.linear_model import LinearRegression\n",
        "\n",
        "# Let's drop NAs and limit to numeric values\n",
        "df = df._get_numeric_data().dropna()\n",
        "X = df.drop('pm2.5', axis='columns')\n",
        "y = df['pm2.5']\n",
        "\n",
        "linear_reg = LinearRegression().fit(X, y)\n",
        "linear_reg.score(X, y)"
      ],
      "execution_count": 0,
      "outputs": []
    },
    {
      "metadata": {
        "id": "1Tv8r_xSxMwZ",
        "colab_type": "code",
        "colab": {}
      },
      "cell_type": "code",
      "source": [
        "','.join(['1', '2', '3'])\n",
        "# import csv"
      ],
      "execution_count": 0,
      "outputs": []
    },
    {
      "metadata": {
        "id": "-viFFtm0RizM",
        "colab_type": "code",
        "colab": {}
      },
      "cell_type": "code",
      "source": [
        "# Not bad - but what if we wanted to model the distribution more conservatively?\n",
        "# Let's try quantile\n",
        "import statsmodels.formula.api as smf\n",
        "\n",
        "# Different jargon/API in StatsModel documentation\n",
        "# \"endogenous\" response var is dependent (y), it is \"inside\"\n",
        "# \"exogenous\" variables are independent (X), it is \"outside\"\n",
        "# Bonus points - talk about \"exogenous shocks\" and you're a bona fide economist\n",
        "\n",
        "# ~ style formulas look like what R uses\n",
        "# y ~ x1 + x2 + ...\n",
        "# They can also support * for interaction terms and polynomials\n",
        "# y ~ x1 + (x1 * x1) + x2 + (x1 * x2)\n",
        "# Also, these formulas break with . in variable name, so lets change that\n",
        "df = df.rename(index=str, columns={'pm2.5': 'pm25'})\n",
        "\n",
        "# Now let's construct the formula string using all columns\n",
        "quant_formula = 'pm25 ~ ' + ' + '.join(df.drop('pm25', axis='columns').columns)\n",
        "print(quant_formula)\n",
        "\n",
        "quant_mod = smf.quantreg(quant_formula, data=df)\n",
        "quant_reg = quant_mod.fit(q=.5)\n",
        "quant_reg.summary()  # \"summary\" is another very R-thing"
      ],
      "execution_count": 0,
      "outputs": []
    },
    {
      "metadata": {
        "id": "ZBkP4bewd-HT",
        "colab_type": "text"
      },
      "cell_type": "markdown",
      "source": [
        "That fit to the median (q=0.5), also called \"Least Absolute Deviation.\" The pseudo-R^2 isn't really directly comparable to the R^2 from linear regression, but it clearly isn't dramatically improved. Can we make it better?"
      ]
    },
    {
      "metadata": {
        "id": "BgvYeHg3bL4g",
        "colab_type": "code",
        "colab": {}
      },
      "cell_type": "code",
      "source": [
        "help(quant_mod.fit)"
      ],
      "execution_count": 0,
      "outputs": []
    },
    {
      "metadata": {
        "id": "_UdyTFEAy4Mr",
        "colab_type": "text"
      },
      "cell_type": "markdown",
      "source": [
        "Pretend R code\n",
        "\n",
        "```\n",
        "ols1 <- lm(y ~ x1 + x2 + (x1 * x1))\n",
        "summary(ols1)\n",
        "```"
      ]
    },
    {
      "metadata": {
        "id": "lpNPioZTei4U",
        "colab_type": "code",
        "colab": {}
      },
      "cell_type": "code",
      "source": [
        "quantiles = (.05, .96, .1)\n",
        "\n",
        "for quantile in quantiles:\n",
        "  print(quant_mod.fit(q=quantile).summary())"
      ],
      "execution_count": 0,
      "outputs": []
    },
    {
      "metadata": {
        "id": "Xqh4Jp1XgjrE",
        "colab_type": "text"
      },
      "cell_type": "markdown",
      "source": [
        "\"Strong multicollinearity\", eh? In other words - maybe we shouldn't throw every variable in our formula. Let's hand-craft a smaller one, picking the features with the largest magnitude t-statistics for their coefficients. Let's also search for more quantile cutoffs to see what's most effective."
      ]
    },
    {
      "metadata": {
        "id": "NmoELnXwgpXd",
        "colab_type": "code",
        "colab": {}
      },
      "cell_type": "code",
      "source": [
        "quant_formula = 'pm25 ~ DEWP + TEMP + Ir + hour + Iws'\n",
        "quant_mod = smf.quantreg(quant_formula, data=df)\n",
        "for quantile in range(50, 100):\n",
        "  quantile /= 100\n",
        "  quant_reg = quant_mod.fit(q=quantile)\n",
        "  print((quantile, quant_reg.prsquared))"
      ],
      "execution_count": 0,
      "outputs": []
    },
    {
      "metadata": {
        "id": "Bz0GmE5kuwQY",
        "colab_type": "code",
        "colab": {}
      },
      "cell_type": "code",
      "source": [
        "# Okay, this data seems *extremely* skewed\n",
        "# Let's trying logging\n",
        "import numpy as np\n",
        "\n",
        "df['pm25'] = np.log(1 + df['pm25'])\n",
        "quant_mod = smf.quantreg(quant_formula, data=df)\n",
        "quant_reg = quant_mod.fit(q=.25)\n",
        "quant_reg.summary()  # \"summary\" is another very R-thing"
      ],
      "execution_count": 0,
      "outputs": []
    },
    {
      "metadata": {
        "id": "8kXcxnNBgizX",
        "colab_type": "text"
      },
      "cell_type": "markdown",
      "source": [
        "Overall - in this case, quantile regression is not *necessarily* superior to linear regression. But it does give us extra flexibility and another thing to tune - what the center of what we're actually fitting in the dependent variable.\n",
        "\n",
        "The basic case of `q=0.5` (the median) minimizes the absolute value of residuals, while OLS minimizes the squared value. By selecting `q=0.25`, we're targeting a lower quantile and are effectively saying that we only want to over-estimate at most 25% of the time - we're being *risk averse*.\n",
        "\n",
        "Depending on the data you're looking at, and the cost of making a false positive versus a false negative, this sort of flexibility can be extremely useful.\n",
        "\n",
        "Live - let's consider another dataset! Specifically, \"SkillCraft\" (data on competitive StarCraft players): http://archive.ics.uci.edu/ml/datasets/SkillCraft1+Master+Table+Dataset"
      ]
    },
    {
      "metadata": {
        "id": "ofvwSAZUhWDw",
        "colab_type": "code",
        "colab": {}
      },
      "cell_type": "code",
      "source": [
        "# TODO Live!\n",
        "# Hint - we may only care about the *top* quantiles here\n",
        "# Another hint - there are missing values, but Pandas won't see them right away\n",
        "\n",
        "import pandas as pd\n",
        "\n",
        "df = pd.read_csv('http://archive.ics.uci.edu/ml/machine-learning-databases/'\n",
        "                 '00272/SkillCraft1_Dataset.csv')\n",
        "df.head()"
      ],
      "execution_count": 0,
      "outputs": []
    },
    {
      "metadata": {
        "id": "xWXVRHL18imt",
        "colab_type": "code",
        "colab": {}
      },
      "cell_type": "code",
      "source": [
        "df.shape"
      ],
      "execution_count": 0,
      "outputs": []
    },
    {
      "metadata": {
        "id": "dU-LofZo8leg",
        "colab_type": "code",
        "colab": {}
      },
      "cell_type": "code",
      "source": [
        "df.isna().sum()"
      ],
      "execution_count": 0,
      "outputs": []
    },
    {
      "metadata": {
        "id": "IOCXPx1i8ppS",
        "colab_type": "code",
        "colab": {}
      },
      "cell_type": "code",
      "source": [
        "import numpy as np\n",
        "df = df.replace('?', np.nan)\n",
        "df.isna().sum()"
      ],
      "execution_count": 0,
      "outputs": []
    },
    {
      "metadata": {
        "id": "hJcVhajW9voD",
        "colab_type": "code",
        "colab": {}
      },
      "cell_type": "code",
      "source": [
        "# Quinn's cleaning code\n",
        "hasna = ['Age', 'HoursPerWeek', 'TotalHours']\n",
        "\n",
        "for feat in hasna:\n",
        "   df[feat] = pd.to_numeric(df[feat])\n",
        "#df[hasna].head()"
      ],
      "execution_count": 0,
      "outputs": []
    },
    {
      "metadata": {
        "id": "6rZVRcbW8y43",
        "colab_type": "code",
        "colab": {}
      },
      "cell_type": "code",
      "source": [
        "df.describe()"
      ],
      "execution_count": 0,
      "outputs": []
    },
    {
      "metadata": {
        "id": "X3ZUVDBG9L89",
        "colab_type": "code",
        "colab": {}
      },
      "cell_type": "code",
      "source": [
        "df.dtypes"
      ],
      "execution_count": 0,
      "outputs": []
    },
    {
      "metadata": {
        "id": "c8HPGuB49WYU",
        "colab_type": "code",
        "colab": {}
      },
      "cell_type": "code",
      "source": [
        "# How does linear regression handle it? Courtesy of Daniel\n",
        "from sklearn.linear_model import LinearRegression\n",
        "\n",
        "# Let's drop NAs and limit to numeric values\n",
        "df = df._get_numeric_data().dropna()\n",
        "X = df.drop('APM', axis='columns')\n",
        "y = df['APM']\n",
        "\n",
        "linear_reg = LinearRegression().fit(X, y)\n",
        "linear_reg.score(X, y)"
      ],
      "execution_count": 0,
      "outputs": []
    },
    {
      "metadata": {
        "id": "q_AWFmKB_hOW",
        "colab_type": "code",
        "colab": {}
      },
      "cell_type": "code",
      "source": [
        "for name, coef in zip(X.columns, linear_reg.coef_):\n",
        "  print(name, coef)"
      ],
      "execution_count": 0,
      "outputs": []
    },
    {
      "metadata": {
        "id": "7dlWiKh5AMvV",
        "colab_type": "code",
        "colab": {}
      },
      "cell_type": "code",
      "source": [
        "df.LeagueIndex.value_counts()"
      ],
      "execution_count": 0,
      "outputs": []
    },
    {
      "metadata": {
        "id": "2sZkjxfl9qA-",
        "colab_type": "code",
        "colab": {}
      },
      "cell_type": "code",
      "source": [
        "# Let's say we want to answer \"What are the fastest 10% of SC players like?\"\n",
        "# That means quantile regression with q=0.9\n",
        "\n",
        "# First we need a formula, with our friend twiddle\n",
        "quant_formula = 'APM ~ ' + ' + '.join(df.drop('APM', axis='columns').columns)\n",
        "\n",
        "# From Daniel\n",
        "quant_mod = smf.quantreg(quant_formula, data=df)\n",
        "quant_reg = quant_mod.fit(q=.1)\n",
        "quant_reg.summary()"
      ],
      "execution_count": 0,
      "outputs": []
    },
    {
      "metadata": {
        "id": "_gXrjTOtFkjJ",
        "colab_type": "code",
        "colab": {}
      },
      "cell_type": "code",
      "source": [
        "quant_reg.predict(X)[:10]"
      ],
      "execution_count": 0,
      "outputs": []
    },
    {
      "metadata": {
        "id": "QEcHSHzeFvx8",
        "colab_type": "code",
        "colab": {}
      },
      "cell_type": "code",
      "source": [
        "linear_reg.predict(X)[:10]"
      ],
      "execution_count": 0,
      "outputs": []
    },
    {
      "metadata": {
        "id": "yupp6rY3DHko",
        "colab_type": "code",
        "colab": {}
      },
      "cell_type": "code",
      "source": [
        "df.TotalHours.value_counts()"
      ],
      "execution_count": 0,
      "outputs": []
    },
    {
      "metadata": {
        "id": "o2BADEQUirXa",
        "colab_type": "text"
      },
      "cell_type": "markdown",
      "source": [
        "## Assignment - birth weight data\n",
        "\n",
        "Birth weight is a situation where, while the data itself is actually fairly normal and symmetric, our main goal is actually *not* to model mean weight (via OLS), but rather to identify mothers at risk of having children below a certain \"at-risk\" threshold weight.\n",
        "\n",
        "Quantile regression gives us just the tool we need. For the data we are using, see: http://people.reed.edu/~jones/141/BirthWgt.html\n",
        "\n",
        "    bwt: baby's weight in ounces at birth\n",
        "    gestation: duration of pregnancy in days\n",
        "    parity: parity indicator (first born = 1, later birth = 0)\n",
        "    age: mother's age in years\n",
        "    height: mother's height in inches\n",
        "    weight: mother's weight in pounds (during pregnancy)\n",
        "    smoke: indicator for whether mother smokes (1=yes, 0=no) \n",
        "    \n",
        "Use this data and `statsmodels` to fit a quantile regression, predicting `bwt` (birth weight) as a function of the other covariates. First, identify an appropriate `q` (quantile) to target a cutoff of 90 ounces - babies above that birth weight are generally healthy/safe, babies below are at-risk.\n",
        "\n",
        "Then, fit and iterate your model. Be creative! You may want to engineer features. Hint - mother's age likely is not simply linear in its impact, and the other features may interact as well.\n",
        "\n",
        "At the end, create at least *2* tables and *1* visualization to summarize your best model. Then (in writing) answer the following questions:\n",
        "\n",
        "- What characteristics of a mother indicate the highest likelihood of an at-risk (low weight) baby?\n",
        "- What can expectant mothers be told to help mitigate this risk?\n",
        "\n",
        "Note that second question is not exactly a data science question - and that's okay! You're not expected to be a medical expert, but it is a good exercise to do a little bit of digging into a particular domain and offer informal but informed opinions."
      ]
    },
    {
      "metadata": {
        "id": "HUWKv16FjZsY",
        "colab_type": "code",
        "colab": {}
      },
      "cell_type": "code",
      "source": [
        "import pandas as pd\n",
        "bwt_df = pd.read_csv('http://people.reed.edu/~jones/141/Bwt.dat')\n",
        "bwt_df.head()"
      ],
      "execution_count": 0,
      "outputs": []
    },
    {
      "metadata": {
        "id": "RZqBaK_Hhn7H",
        "colab_type": "code",
        "colab": {}
      },
      "cell_type": "code",
      "source": [
        "bwt_df.shape"
      ],
      "execution_count": 0,
      "outputs": []
    },
    {
      "metadata": {
        "id": "GD1iro5GhoJs",
        "colab_type": "code",
        "colab": {}
      },
      "cell_type": "code",
      "source": [
        "bwt_df.dtypes"
      ],
      "execution_count": 0,
      "outputs": []
    },
    {
      "metadata": {
        "id": "dy5FkUZpkJT_",
        "colab_type": "code",
        "colab": {}
      },
      "cell_type": "code",
      "source": [
        "bwt_df.describe()"
      ],
      "execution_count": 0,
      "outputs": []
    },
    {
      "metadata": {
        "id": "Ez8qPLojjlFf",
        "colab_type": "code",
        "colab": {}
      },
      "cell_type": "code",
      "source": [
        "bwt_df.isna().sum()"
      ],
      "execution_count": 0,
      "outputs": []
    },
    {
      "metadata": {
        "id": "BOFJPMxPgha6",
        "colab_type": "code",
        "colab": {}
      },
      "cell_type": "code",
      "source": [
        "import numpy as np\n",
        "bwt_df = bwt_df.replace('?', np.nan)"
      ],
      "execution_count": 0,
      "outputs": []
    },
    {
      "metadata": {
        "id": "X1Oh_eN5gj4M",
        "colab_type": "text"
      },
      "cell_type": "markdown",
      "source": [
        ""
      ]
    },
    {
      "metadata": {
        "id": "XdNTrc4Qghs-",
        "colab_type": "code",
        "colab": {}
      },
      "cell_type": "code",
      "source": [
        "bwt_df.shape"
      ],
      "execution_count": 0,
      "outputs": []
    },
    {
      "metadata": {
        "id": "OHsalDPBi84-",
        "colab_type": "code",
        "colab": {}
      },
      "cell_type": "code",
      "source": [
        "bwt_df.columns"
      ],
      "execution_count": 0,
      "outputs": []
    },
    {
      "metadata": {
        "id": "03vpcPTUgh8k",
        "colab_type": "code",
        "colab": {}
      },
      "cell_type": "code",
      "source": [
        "#let's do some linear regression\n",
        "# How does linear regression handle it?\n",
        "from sklearn.linear_model import LinearRegression\n",
        "\n",
        "# Let's drop NAs and limit to numeric values\n",
        "#df = df._get_numeric_data().dropna()\n",
        "X = bwt_df.drop('bwt', axis='columns')\n",
        "y = bwt_df['bwt']\n",
        "\n",
        "linear_reg = LinearRegression().fit(X, y)\n",
        "linear_reg.score(X, y)"
      ],
      "execution_count": 0,
      "outputs": []
    },
    {
      "metadata": {
        "id": "jDfdjWRngiFX",
        "colab_type": "code",
        "colab": {}
      },
      "cell_type": "code",
      "source": [
        "bwt_df.bwt.plot.hist();"
      ],
      "execution_count": 0,
      "outputs": []
    },
    {
      "metadata": {
        "id": "lXQHIuUhgiJc",
        "colab_type": "code",
        "colab": {}
      },
      "cell_type": "code",
      "source": [
        "bwt_df.bwt.quantile(.065)\n",
        "#df.field_A.quantile(0.1)"
      ],
      "execution_count": 0,
      "outputs": []
    },
    {
      "metadata": {
        "id": "_px4B1t_giBi",
        "colab_type": "code",
        "colab": {}
      },
      "cell_type": "code",
      "source": [
        "y = bwt_df.bwt.quantile(np.linspace(.00001, .90), 'lower')"
      ],
      "execution_count": 0,
      "outputs": []
    },
    {
      "metadata": {
        "id": "KIrllKeC0UoA",
        "colab_type": "code",
        "colab": {}
      },
      "cell_type": "code",
      "source": [
        "y.describe()"
      ],
      "execution_count": 0,
      "outputs": []
    },
    {
      "metadata": {
        "id": "zZb8ZIpO0U8P",
        "colab_type": "code",
        "colab": {}
      },
      "cell_type": "code",
      "source": [
        ""
      ],
      "execution_count": 0,
      "outputs": []
    },
    {
      "metadata": {
        "id": "NCDBSAh9rtcn",
        "colab_type": "code",
        "colab": {
          "base_uri": "https://localhost:8080/",
          "height": 198
        },
        "outputId": "04b1bdb3-cf4c-4d55-ddf2-a7fb75fe88eb"
      },
      "cell_type": "code",
      "source": [
        "bwt_df.head()"
      ],
      "execution_count": 178,
      "outputs": [
        {
          "output_type": "execute_result",
          "data": {
            "text/html": [
              "<div>\n",
              "<style scoped>\n",
              "    .dataframe tbody tr th:only-of-type {\n",
              "        vertical-align: middle;\n",
              "    }\n",
              "\n",
              "    .dataframe tbody tr th {\n",
              "        vertical-align: top;\n",
              "    }\n",
              "\n",
              "    .dataframe thead th {\n",
              "        text-align: right;\n",
              "    }\n",
              "</style>\n",
              "<table border=\"1\" class=\"dataframe\">\n",
              "  <thead>\n",
              "    <tr style=\"text-align: right;\">\n",
              "      <th></th>\n",
              "      <th>bwt</th>\n",
              "      <th>gestation</th>\n",
              "      <th>parity</th>\n",
              "      <th>age</th>\n",
              "      <th>height</th>\n",
              "      <th>weight</th>\n",
              "      <th>smoke</th>\n",
              "      <th>age_per_weight</th>\n",
              "    </tr>\n",
              "  </thead>\n",
              "  <tbody>\n",
              "    <tr>\n",
              "      <th>0</th>\n",
              "      <td>120</td>\n",
              "      <td>284</td>\n",
              "      <td>0</td>\n",
              "      <td>27</td>\n",
              "      <td>62</td>\n",
              "      <td>100</td>\n",
              "      <td>0</td>\n",
              "      <td>0.270000</td>\n",
              "    </tr>\n",
              "    <tr>\n",
              "      <th>1</th>\n",
              "      <td>113</td>\n",
              "      <td>282</td>\n",
              "      <td>0</td>\n",
              "      <td>33</td>\n",
              "      <td>64</td>\n",
              "      <td>135</td>\n",
              "      <td>0</td>\n",
              "      <td>0.244444</td>\n",
              "    </tr>\n",
              "    <tr>\n",
              "      <th>2</th>\n",
              "      <td>128</td>\n",
              "      <td>279</td>\n",
              "      <td>0</td>\n",
              "      <td>28</td>\n",
              "      <td>64</td>\n",
              "      <td>115</td>\n",
              "      <td>1</td>\n",
              "      <td>0.243478</td>\n",
              "    </tr>\n",
              "    <tr>\n",
              "      <th>3</th>\n",
              "      <td>108</td>\n",
              "      <td>282</td>\n",
              "      <td>0</td>\n",
              "      <td>23</td>\n",
              "      <td>67</td>\n",
              "      <td>125</td>\n",
              "      <td>1</td>\n",
              "      <td>0.184000</td>\n",
              "    </tr>\n",
              "    <tr>\n",
              "      <th>4</th>\n",
              "      <td>136</td>\n",
              "      <td>286</td>\n",
              "      <td>0</td>\n",
              "      <td>25</td>\n",
              "      <td>62</td>\n",
              "      <td>93</td>\n",
              "      <td>0</td>\n",
              "      <td>0.268817</td>\n",
              "    </tr>\n",
              "  </tbody>\n",
              "</table>\n",
              "</div>"
            ],
            "text/plain": [
              "   bwt  gestation  parity  age  height  weight  smoke  age_per_weight\n",
              "0  120        284       0   27      62     100      0        0.270000\n",
              "1  113        282       0   33      64     135      0        0.244444\n",
              "2  128        279       0   28      64     115      1        0.243478\n",
              "3  108        282       0   23      67     125      1        0.184000\n",
              "4  136        286       0   25      62      93      0        0.268817"
            ]
          },
          "metadata": {
            "tags": []
          },
          "execution_count": 178
        }
      ]
    },
    {
      "metadata": {
        "id": "yGGYGCB9x3ez",
        "colab_type": "code",
        "colab": {}
      },
      "cell_type": "code",
      "source": [
        "#Since we already know what weight is our target, we can calculate the percentile like below\n",
        "from scipy import stats\n",
        "q = stats.percentileofscore(bwt_df.bwt, 90)/100"
      ],
      "execution_count": 0,
      "outputs": []
    },
    {
      "metadata": {
        "id": "Kor7KOSQyy3B",
        "colab_type": "code",
        "colab": {
          "base_uri": "https://localhost:8080/",
          "height": 35
        },
        "outputId": "9b6805b1-3211-4c4a-e097-ceb0571e64aa"
      },
      "cell_type": "code",
      "source": [
        "q"
      ],
      "execution_count": 159,
      "outputs": [
        {
          "output_type": "execute_result",
          "data": {
            "text/plain": [
              "0.05664395229982964"
            ]
          },
          "metadata": {
            "tags": []
          },
          "execution_count": 159
        }
      ]
    },
    {
      "metadata": {
        "id": "MYTzJxM6ghmB",
        "colab_type": "code",
        "colab": {
          "base_uri": "https://localhost:8080/",
          "height": 370
        },
        "outputId": "f336a73b-e646-41f2-8c88-327f6a0c86ea"
      },
      "cell_type": "code",
      "source": [
        "# Not bad - but what if we wanted to model the distribution more conservatively?\n",
        "# Let's try quantile\n",
        "import statsmodels.formula.api as smf\n",
        "\n",
        "# Different jargon/API in StatsModel documentation\n",
        "# \"endogenous\" response var is dependent (y), it is \"inside\"\n",
        "# \"exogenous\" variables are independent (X), it is \"outside\"\n",
        "# Bonus points - talk about \"exogenous shocks\" and you're a bona fide economist\n",
        "\n",
        "# ~ style formulas look like what R uses\n",
        "# y ~ x1 + x2 + ...\n",
        "# They can also support * for interaction terms and polynomials\n",
        "# y ~ x1 + (x1 * x1) + x2 + (x1 * x2)\n",
        "# Also, these formulas break with . in variable name, so lets change that\n",
        "#df = df.rename(index=str, columns={'pm2.5': 'pm25'})\n",
        "\n",
        "# Now let's construct the formula string using all columns\n",
        "quant_formula = 'bwt ~ ' + ' + '.join(bwt_df.drop('bwt', axis='columns').columns)\n",
        "print(quant_formula)\n",
        "\n",
        "quant_mod = smf.quantreg(quant_formula, data=bwt_df)\n",
        "quant_reg = quant_mod.fit(q=.94)\n",
        "quant_reg.summary()  # \"summary\" is another very R-thing"
      ],
      "execution_count": 133,
      "outputs": [
        {
          "output_type": "stream",
          "text": [
            "bwt ~ gestation + parity + age + height + weight + smoke + age_per_weight\n"
          ],
          "name": "stdout"
        },
        {
          "output_type": "execute_result",
          "data": {
            "text/html": [
              "<table class=\"simpletable\">\n",
              "<caption>QuantReg Regression Results</caption>\n",
              "<tr>\n",
              "  <th>Dep. Variable:</th>        <td>bwt</td>       <th>  Pseudo R-squared:  </th> <td>  0.1184</td>\n",
              "</tr>\n",
              "<tr>\n",
              "  <th>Model:</th>             <td>QuantReg</td>     <th>  Bandwidth:         </th> <td>   5.977</td>\n",
              "</tr>\n",
              "<tr>\n",
              "  <th>Method:</th>          <td>Least Squares</td>  <th>  Sparsity:          </th> <td>   133.7</td>\n",
              "</tr>\n",
              "<tr>\n",
              "  <th>Date:</th>          <td>Wed, 23 Jan 2019</td> <th>  No. Observations:  </th>  <td>  1174</td> \n",
              "</tr>\n",
              "<tr>\n",
              "  <th>Time:</th>              <td>23:18:28</td>     <th>  Df Residuals:      </th>  <td>  1166</td> \n",
              "</tr>\n",
              "<tr>\n",
              "  <th> </th>                      <td> </td>        <th>  Df Model:          </th>  <td>     7</td> \n",
              "</tr>\n",
              "</table>\n",
              "<table class=\"simpletable\">\n",
              "<tr>\n",
              "         <td></td>           <th>coef</th>     <th>std err</th>      <th>t</th>      <th>P>|t|</th>  <th>[0.025</th>    <th>0.975]</th>  \n",
              "</tr>\n",
              "<tr>\n",
              "  <th>Intercept</th>      <td>  -51.9883</td> <td>   53.132</td> <td>   -0.978</td> <td> 0.328</td> <td> -156.233</td> <td>   52.256</td>\n",
              "</tr>\n",
              "<tr>\n",
              "  <th>gestation</th>      <td>    0.3868</td> <td>    0.086</td> <td>    4.479</td> <td> 0.000</td> <td>    0.217</td> <td>    0.556</td>\n",
              "</tr>\n",
              "<tr>\n",
              "  <th>parity</th>         <td>   -4.3923</td> <td>    2.290</td> <td>   -1.918</td> <td> 0.055</td> <td>   -8.886</td> <td>    0.101</td>\n",
              "</tr>\n",
              "<tr>\n",
              "  <th>age</th>            <td>    0.0337</td> <td>    0.884</td> <td>    0.038</td> <td> 0.970</td> <td>   -1.700</td> <td>    1.767</td>\n",
              "</tr>\n",
              "<tr>\n",
              "  <th>height</th>         <td>    1.0490</td> <td>    0.539</td> <td>    1.948</td> <td> 0.052</td> <td>   -0.008</td> <td>    2.106</td>\n",
              "</tr>\n",
              "<tr>\n",
              "  <th>weight</th>         <td>    0.1556</td> <td>    0.181</td> <td>    0.862</td> <td> 0.389</td> <td>   -0.199</td> <td>    0.510</td>\n",
              "</tr>\n",
              "<tr>\n",
              "  <th>smoke</th>          <td>   -6.6506</td> <td>    1.985</td> <td>   -3.351</td> <td> 0.001</td> <td>  -10.544</td> <td>   -2.757</td>\n",
              "</tr>\n",
              "<tr>\n",
              "  <th>age_per_weight</th> <td>   15.9097</td> <td>  116.986</td> <td>    0.136</td> <td> 0.892</td> <td> -213.617</td> <td>  245.437</td>\n",
              "</tr>\n",
              "</table>"
            ],
            "text/plain": [
              "<class 'statsmodels.iolib.summary.Summary'>\n",
              "\"\"\"\n",
              "                         QuantReg Regression Results                          \n",
              "==============================================================================\n",
              "Dep. Variable:                    bwt   Pseudo R-squared:               0.1184\n",
              "Model:                       QuantReg   Bandwidth:                       5.977\n",
              "Method:                 Least Squares   Sparsity:                        133.7\n",
              "Date:                Wed, 23 Jan 2019   No. Observations:                 1174\n",
              "Time:                        23:18:28   Df Residuals:                     1166\n",
              "                                        Df Model:                            7\n",
              "==================================================================================\n",
              "                     coef    std err          t      P>|t|      [0.025      0.975]\n",
              "----------------------------------------------------------------------------------\n",
              "Intercept        -51.9883     53.132     -0.978      0.328    -156.233      52.256\n",
              "gestation          0.3868      0.086      4.479      0.000       0.217       0.556\n",
              "parity            -4.3923      2.290     -1.918      0.055      -8.886       0.101\n",
              "age                0.0337      0.884      0.038      0.970      -1.700       1.767\n",
              "height             1.0490      0.539      1.948      0.052      -0.008       2.106\n",
              "weight             0.1556      0.181      0.862      0.389      -0.199       0.510\n",
              "smoke             -6.6506      1.985     -3.351      0.001     -10.544      -2.757\n",
              "age_per_weight    15.9097    116.986      0.136      0.892    -213.617     245.437\n",
              "==================================================================================\n",
              "\n",
              "The condition number is large, 3.8e+04. This might indicate that there are\n",
              "strong multicollinearity or other numerical problems.\n",
              "\"\"\""
            ]
          },
          "metadata": {
            "tags": []
          },
          "execution_count": 133
        }
      ]
    },
    {
      "metadata": {
        "id": "LQ13obbXghiC",
        "colab_type": "code",
        "colab": {}
      },
      "cell_type": "code",
      "source": [
        "bwt_df['age_per_weight'] = np.divide(bwt_df.age, bwt_df.weight)"
      ],
      "execution_count": 0,
      "outputs": []
    },
    {
      "metadata": {
        "id": "Z295Y6In4v0H",
        "colab_type": "code",
        "colab": {
          "base_uri": "https://localhost:8080/",
          "height": 370
        },
        "outputId": "2b3659d0-5699-41ba-f272-f542264ce9e3"
      },
      "cell_type": "code",
      "source": [
        "quant_formula = 'bwt ~ ' + ' + '.join(bwt_df.drop('bwt', axis='columns').columns)\n",
        "print(quant_formula)\n",
        "\n",
        "quant_mod = smf.quantreg(quant_formula, data=bwt_df)\n",
        "quant_reg = quant_mod.fit(q=.056)\n",
        "quant_reg.summary()  # \"summary\" is another very R-thing"
      ],
      "execution_count": 146,
      "outputs": [
        {
          "output_type": "stream",
          "text": [
            "bwt ~ gestation + parity + age + height + weight + smoke + age_per_weight\n"
          ],
          "name": "stdout"
        },
        {
          "output_type": "execute_result",
          "data": {
            "text/html": [
              "<table class=\"simpletable\">\n",
              "<caption>QuantReg Regression Results</caption>\n",
              "<tr>\n",
              "  <th>Dep. Variable:</th>        <td>bwt</td>       <th>  Pseudo R-squared:  </th> <td>  0.2047</td>\n",
              "</tr>\n",
              "<tr>\n",
              "  <th>Model:</th>             <td>QuantReg</td>     <th>  Bandwidth:         </th> <td>   6.323</td>\n",
              "</tr>\n",
              "<tr>\n",
              "  <th>Method:</th>          <td>Least Squares</td>  <th>  Sparsity:          </th> <td>   118.3</td>\n",
              "</tr>\n",
              "<tr>\n",
              "  <th>Date:</th>          <td>Wed, 23 Jan 2019</td> <th>  No. Observations:  </th>  <td>  1174</td> \n",
              "</tr>\n",
              "<tr>\n",
              "  <th>Time:</th>              <td>23:32:31</td>     <th>  Df Residuals:      </th>  <td>  1166</td> \n",
              "</tr>\n",
              "<tr>\n",
              "  <th> </th>                      <td> </td>        <th>  Df Model:          </th>  <td>     7</td> \n",
              "</tr>\n",
              "</table>\n",
              "<table class=\"simpletable\">\n",
              "<tr>\n",
              "         <td></td>           <th>coef</th>     <th>std err</th>      <th>t</th>      <th>P>|t|</th>  <th>[0.025</th>    <th>0.975]</th>  \n",
              "</tr>\n",
              "<tr>\n",
              "  <th>Intercept</th>      <td>  -14.4437</td> <td>   34.847</td> <td>   -0.414</td> <td> 0.679</td> <td>  -82.814</td> <td>   53.927</td>\n",
              "</tr>\n",
              "<tr>\n",
              "  <th>gestation</th>      <td>    0.4555</td> <td>    0.079</td> <td>    5.780</td> <td> 0.000</td> <td>    0.301</td> <td>    0.610</td>\n",
              "</tr>\n",
              "<tr>\n",
              "  <th>parity</th>         <td>   -2.5419</td> <td>    1.979</td> <td>   -1.284</td> <td> 0.199</td> <td>   -6.426</td> <td>    1.342</td>\n",
              "</tr>\n",
              "<tr>\n",
              "  <th>age</th>            <td>    1.9046</td> <td>    0.686</td> <td>    2.776</td> <td> 0.006</td> <td>    0.559</td> <td>    3.251</td>\n",
              "</tr>\n",
              "<tr>\n",
              "  <th>height</th>         <td>    0.9281</td> <td>    0.382</td> <td>    2.431</td> <td> 0.015</td> <td>    0.179</td> <td>    1.677</td>\n",
              "</tr>\n",
              "<tr>\n",
              "  <th>weight</th>         <td>   -0.5278</td> <td>    0.124</td> <td>   -4.254</td> <td> 0.000</td> <td>   -0.771</td> <td>   -0.284</td>\n",
              "</tr>\n",
              "<tr>\n",
              "  <th>smoke</th>          <td>   -9.2266</td> <td>    1.634</td> <td>   -5.646</td> <td> 0.000</td> <td>  -12.433</td> <td>   -6.020</td>\n",
              "</tr>\n",
              "<tr>\n",
              "  <th>age_per_weight</th> <td> -264.3397</td> <td>   83.748</td> <td>   -3.156</td> <td> 0.002</td> <td> -428.653</td> <td> -100.026</td>\n",
              "</tr>\n",
              "</table>"
            ],
            "text/plain": [
              "<class 'statsmodels.iolib.summary.Summary'>\n",
              "\"\"\"\n",
              "                         QuantReg Regression Results                          \n",
              "==============================================================================\n",
              "Dep. Variable:                    bwt   Pseudo R-squared:               0.2047\n",
              "Model:                       QuantReg   Bandwidth:                       6.323\n",
              "Method:                 Least Squares   Sparsity:                        118.3\n",
              "Date:                Wed, 23 Jan 2019   No. Observations:                 1174\n",
              "Time:                        23:32:31   Df Residuals:                     1166\n",
              "                                        Df Model:                            7\n",
              "==================================================================================\n",
              "                     coef    std err          t      P>|t|      [0.025      0.975]\n",
              "----------------------------------------------------------------------------------\n",
              "Intercept        -14.4437     34.847     -0.414      0.679     -82.814      53.927\n",
              "gestation          0.4555      0.079      5.780      0.000       0.301       0.610\n",
              "parity            -2.5419      1.979     -1.284      0.199      -6.426       1.342\n",
              "age                1.9046      0.686      2.776      0.006       0.559       3.251\n",
              "height             0.9281      0.382      2.431      0.015       0.179       1.677\n",
              "weight            -0.5278      0.124     -4.254      0.000      -0.771      -0.284\n",
              "smoke             -9.2266      1.634     -5.646      0.000     -12.433      -6.020\n",
              "age_per_weight  -264.3397     83.748     -3.156      0.002    -428.653    -100.026\n",
              "==================================================================================\n",
              "\n",
              "The condition number is large, 3.8e+04. This might indicate that there are\n",
              "strong multicollinearity or other numerical problems.\n",
              "\"\"\""
            ]
          },
          "metadata": {
            "tags": []
          },
          "execution_count": 146
        }
      ]
    },
    {
      "metadata": {
        "id": "ZTQnNJAk4v6u",
        "colab_type": "code",
        "colab": {
          "base_uri": "https://localhost:8080/",
          "height": 1272
        },
        "outputId": "d2c973e8-d86c-4dc2-85eb-958c7436f551"
      },
      "cell_type": "code",
      "source": [
        "quantiles = (.056, .5, .9)\n",
        "\n",
        "for quantile in quantiles:\n",
        "  print(quant_mod.fit(q=quantile).summary())"
      ],
      "execution_count": 147,
      "outputs": [
        {
          "output_type": "stream",
          "text": [
            "                         QuantReg Regression Results                          \n",
            "==============================================================================\n",
            "Dep. Variable:                    bwt   Pseudo R-squared:               0.2047\n",
            "Model:                       QuantReg   Bandwidth:                       6.323\n",
            "Method:                 Least Squares   Sparsity:                        118.3\n",
            "Date:                Wed, 23 Jan 2019   No. Observations:                 1174\n",
            "Time:                        23:32:35   Df Residuals:                     1166\n",
            "                                        Df Model:                            7\n",
            "==================================================================================\n",
            "                     coef    std err          t      P>|t|      [0.025      0.975]\n",
            "----------------------------------------------------------------------------------\n",
            "Intercept        -14.4437     34.847     -0.414      0.679     -82.814      53.927\n",
            "gestation          0.4555      0.079      5.780      0.000       0.301       0.610\n",
            "parity            -2.5419      1.979     -1.284      0.199      -6.426       1.342\n",
            "age                1.9046      0.686      2.776      0.006       0.559       3.251\n",
            "height             0.9281      0.382      2.431      0.015       0.179       1.677\n",
            "weight            -0.5278      0.124     -4.254      0.000      -0.771      -0.284\n",
            "smoke             -9.2266      1.634     -5.646      0.000     -12.433      -6.020\n",
            "age_per_weight  -264.3397     83.748     -3.156      0.002    -428.653    -100.026\n",
            "==================================================================================\n",
            "\n",
            "The condition number is large, 3.8e+04. This might indicate that there are\n",
            "strong multicollinearity or other numerical problems.\n",
            "                         QuantReg Regression Results                          \n",
            "==============================================================================\n",
            "Dep. Variable:                    bwt   Pseudo R-squared:               0.1404\n",
            "Model:                       QuantReg   Bandwidth:                       6.878\n",
            "Method:                 Least Squares   Sparsity:                        36.72\n",
            "Date:                Wed, 23 Jan 2019   No. Observations:                 1174\n",
            "Time:                        23:32:35   Df Residuals:                     1166\n",
            "                                        Df Model:                            7\n",
            "==================================================================================\n",
            "                     coef    std err          t      P>|t|      [0.025      0.975]\n",
            "----------------------------------------------------------------------------------\n",
            "Intercept        -60.7592     22.988     -2.643      0.008    -105.861     -15.657\n",
            "gestation          0.4751      0.034     14.059      0.000       0.409       0.541\n",
            "parity            -2.9186      1.313     -2.223      0.026      -5.495      -0.342\n",
            "age                0.8158      0.489      1.670      0.095      -0.143       1.774\n",
            "height             0.9859      0.247      3.990      0.000       0.501       1.471\n",
            "weight            -0.0859      0.095     -0.906      0.365      -0.272       0.100\n",
            "smoke             -7.5447      1.108     -6.807      0.000      -9.719      -5.370\n",
            "age_per_weight  -107.0603     62.365     -1.717      0.086    -229.420      15.300\n",
            "==================================================================================\n",
            "\n",
            "The condition number is large, 3.8e+04. This might indicate that there are\n",
            "strong multicollinearity or other numerical problems.\n",
            "                         QuantReg Regression Results                          \n",
            "==============================================================================\n",
            "Dep. Variable:                    bwt   Pseudo R-squared:               0.1178\n",
            "Model:                       QuantReg   Bandwidth:                       5.730\n",
            "Method:                 Least Squares   Sparsity:                        84.14\n",
            "Date:                Wed, 23 Jan 2019   No. Observations:                 1174\n",
            "Time:                        23:32:35   Df Residuals:                     1166\n",
            "                                        Df Model:                            7\n",
            "==================================================================================\n",
            "                     coef    std err          t      P>|t|      [0.025      0.975]\n",
            "----------------------------------------------------------------------------------\n",
            "Intercept        -13.6987     37.876     -0.362      0.718     -88.012      60.615\n",
            "gestation          0.3636      0.060      6.049      0.000       0.246       0.482\n",
            "parity            -6.4674      1.766     -3.662      0.000      -9.932      -3.003\n",
            "age                1.3630      0.671      2.030      0.043       0.046       2.680\n",
            "height             1.0801      0.394      2.739      0.006       0.306       1.854\n",
            "weight            -0.0996      0.136     -0.734      0.463      -0.366       0.167\n",
            "smoke             -8.7811      1.566     -5.609      0.000     -11.853      -5.710\n",
            "age_per_weight  -171.3397     87.700     -1.954      0.051    -343.407       0.727\n",
            "==================================================================================\n",
            "\n",
            "The condition number is large, 3.8e+04. This might indicate that there are\n",
            "strong multicollinearity or other numerical problems.\n"
          ],
          "name": "stdout"
        }
      ]
    },
    {
      "metadata": {
        "id": "LKmdPC7s4v_R",
        "colab_type": "code",
        "colab": {
          "base_uri": "https://localhost:8080/",
          "height": 983
        },
        "outputId": "221199d6-54ac-4ec4-f510-a257b4ef6ac4"
      },
      "cell_type": "code",
      "source": [
        "quant_formula = 'bwt ~ gestation + smoke'\n",
        "quant_mod = smf.quantreg(quant_formula, data=bwt_df)\n",
        "for quantile in range(50, 100):\n",
        "  quantile /= 100\n",
        "  quant_reg = quant_mod.fit(q=quantile)\n",
        "  print((quantile, quant_reg.prsquared))"
      ],
      "execution_count": 140,
      "outputs": [
        {
          "output_type": "stream",
          "text": [
            "(0.5, 0.10575567098777128)\n",
            "(0.51, 0.1050425249453083)\n",
            "(0.52, 0.10440217506067861)\n",
            "(0.53, 0.10360081003516208)\n",
            "(0.54, 0.10268038384153444)\n",
            "(0.55, 0.10178135923430975)\n",
            "(0.56, 0.10099102528829607)\n",
            "(0.57, 0.09972660278823287)\n",
            "(0.58, 0.09905328146562176)\n",
            "(0.59, 0.09811607063741745)\n",
            "(0.6, 0.09736855167033076)\n",
            "(0.61, 0.09673848951401154)\n",
            "(0.62, 0.09577512033361546)\n",
            "(0.63, 0.09524051532101674)\n",
            "(0.64, 0.0940083599217888)\n"
          ],
          "name": "stdout"
        },
        {
          "output_type": "stream",
          "text": [
            "/usr/local/lib/python3.6/dist-packages/statsmodels/regression/quantile_regression.py:193: IterationLimitWarning: Maximum number of iterations (1000) reached.\n",
            "  \") reached.\", IterationLimitWarning)\n"
          ],
          "name": "stderr"
        },
        {
          "output_type": "stream",
          "text": [
            "(0.65, 0.09331971300729847)\n",
            "(0.66, 0.0919336596606175)\n",
            "(0.67, 0.09100086675597108)\n",
            "(0.68, 0.08986389407033446)\n",
            "(0.69, 0.08855389571649874)\n",
            "(0.7, 0.0873916586855652)\n",
            "(0.71, 0.08577680115377051)\n",
            "(0.72, 0.08474926122339965)\n",
            "(0.73, 0.08327837504352431)\n",
            "(0.74, 0.08222723144083055)\n",
            "(0.75, 0.08118352808844975)\n",
            "(0.76, 0.08064559498366841)\n",
            "(0.77, 0.0798404372464101)\n",
            "(0.78, 0.07951167990685415)\n",
            "(0.79, 0.0782955340622079)\n",
            "(0.8, 0.07729124679193633)\n",
            "(0.81, 0.07601794106324411)\n",
            "(0.82, 0.07434451864369251)\n",
            "(0.83, 0.07259211980783753)\n",
            "(0.84, 0.0712686348892313)\n",
            "(0.85, 0.0699427167153952)\n",
            "(0.86, 0.06854334261648842)\n",
            "(0.87, 0.06712651748235698)\n",
            "(0.88, 0.06616483963575515)\n",
            "(0.89, 0.06485727939245056)\n",
            "(0.9, 0.06520233213948945)\n",
            "(0.91, 0.06468442315174971)\n",
            "(0.92, 0.06413596543882061)\n",
            "(0.93, 0.06831513365500852)\n",
            "(0.94, 0.07421524566620408)\n",
            "(0.95, 0.08106012947029384)\n",
            "(0.96, 0.08599845544528095)\n",
            "(0.97, 0.08768079520817873)\n",
            "(0.98, 0.09242860617095539)\n",
            "(0.99, 0.11966915149520496)\n"
          ],
          "name": "stdout"
        }
      ]
    },
    {
      "metadata": {
        "id": "WdgV2ygc4v4D",
        "colab_type": "code",
        "colab": {
          "base_uri": "https://localhost:8080/",
          "height": 286
        },
        "outputId": "02157e31-19ad-4b9b-bce8-541e9fdf665a"
      },
      "cell_type": "code",
      "source": [
        "quant_formula = 'bwt ~ gestation + smoke + height+'\n",
        "print(quant_formula)\n",
        "\n",
        "quant_mod = smf.quantreg(quant_formula, data=bwt_df)\n",
        "quant_reg = quant_mod.fit(q=.056)\n",
        "quant_reg.summary()  # \"summary\" is another very R-thing"
      ],
      "execution_count": 144,
      "outputs": [
        {
          "output_type": "stream",
          "text": [
            "bwt ~ gestation + smoke + height\n"
          ],
          "name": "stdout"
        },
        {
          "output_type": "execute_result",
          "data": {
            "text/html": [
              "<table class=\"simpletable\">\n",
              "<caption>QuantReg Regression Results</caption>\n",
              "<tr>\n",
              "  <th>Dep. Variable:</th>        <td>bwt</td>       <th>  Pseudo R-squared:  </th> <td>  0.1922</td>\n",
              "</tr>\n",
              "<tr>\n",
              "  <th>Model:</th>             <td>QuantReg</td>     <th>  Bandwidth:         </th> <td>   5.998</td>\n",
              "</tr>\n",
              "<tr>\n",
              "  <th>Method:</th>          <td>Least Squares</td>  <th>  Sparsity:          </th> <td>   137.4</td>\n",
              "</tr>\n",
              "<tr>\n",
              "  <th>Date:</th>          <td>Wed, 23 Jan 2019</td> <th>  No. Observations:  </th>  <td>  1174</td> \n",
              "</tr>\n",
              "<tr>\n",
              "  <th>Time:</th>              <td>23:26:17</td>     <th>  Df Residuals:      </th>  <td>  1170</td> \n",
              "</tr>\n",
              "<tr>\n",
              "  <th> </th>                      <td> </td>        <th>  Df Model:          </th>  <td>     3</td> \n",
              "</tr>\n",
              "</table>\n",
              "<table class=\"simpletable\">\n",
              "<tr>\n",
              "      <td></td>         <th>coef</th>     <th>std err</th>      <th>t</th>      <th>P>|t|</th>  <th>[0.025</th>    <th>0.975]</th>  \n",
              "</tr>\n",
              "<tr>\n",
              "  <th>Intercept</th> <td> -105.5000</td> <td>   32.244</td> <td>   -3.272</td> <td> 0.001</td> <td> -168.762</td> <td>  -42.238</td>\n",
              "</tr>\n",
              "<tr>\n",
              "  <th>gestation</th> <td>    0.5000</td> <td>    0.092</td> <td>    5.414</td> <td> 0.000</td> <td>    0.319</td> <td>    0.681</td>\n",
              "</tr>\n",
              "<tr>\n",
              "  <th>smoke</th>     <td>   -7.5000</td> <td>    1.934</td> <td>   -3.879</td> <td> 0.000</td> <td>  -11.294</td> <td>   -3.706</td>\n",
              "</tr>\n",
              "<tr>\n",
              "  <th>height</th>    <td>    1.0000</td> <td>    0.396</td> <td>    2.527</td> <td> 0.012</td> <td>    0.224</td> <td>    1.776</td>\n",
              "</tr>\n",
              "</table>"
            ],
            "text/plain": [
              "<class 'statsmodels.iolib.summary.Summary'>\n",
              "\"\"\"\n",
              "                         QuantReg Regression Results                          \n",
              "==============================================================================\n",
              "Dep. Variable:                    bwt   Pseudo R-squared:               0.1922\n",
              "Model:                       QuantReg   Bandwidth:                       5.998\n",
              "Method:                 Least Squares   Sparsity:                        137.4\n",
              "Date:                Wed, 23 Jan 2019   No. Observations:                 1174\n",
              "Time:                        23:26:17   Df Residuals:                     1170\n",
              "                                        Df Model:                            3\n",
              "==============================================================================\n",
              "                 coef    std err          t      P>|t|      [0.025      0.975]\n",
              "------------------------------------------------------------------------------\n",
              "Intercept   -105.5000     32.244     -3.272      0.001    -168.762     -42.238\n",
              "gestation      0.5000      0.092      5.414      0.000       0.319       0.681\n",
              "smoke         -7.5000      1.934     -3.879      0.000     -11.294      -3.706\n",
              "height         1.0000      0.396      2.527      0.012       0.224       1.776\n",
              "==============================================================================\n",
              "\n",
              "The condition number is large, 8.57e+03. This might indicate that there are\n",
              "strong multicollinearity or other numerical problems.\n",
              "\"\"\""
            ]
          },
          "metadata": {
            "tags": []
          },
          "execution_count": 144
        }
      ]
    },
    {
      "metadata": {
        "id": "atdG9U1pVCCg",
        "colab_type": "code",
        "colab": {
          "base_uri": "https://localhost:8080/",
          "height": 74
        },
        "outputId": "a8544d5d-2f89-44d4-f392-6b1bf3c8e517"
      },
      "cell_type": "code",
      "source": [
        "#https://www.statsmodels.org/dev/examples/notebooks/generated/quantile_regression.html\n",
        "%matplotlib inline\n",
        "\n",
        "from __future__ import print_function\n",
        "import patsy\n",
        "import numpy as np\n",
        "import pandas as pd\n",
        "import statsmodels.api as sm\n",
        "import statsmodels.formula.api as smf\n",
        "import matplotlib.pyplot as plt\n",
        "from statsmodels.regression.quantile_regression import QuantReg"
      ],
      "execution_count": 164,
      "outputs": [
        {
          "output_type": "stream",
          "text": [
            "/usr/local/lib/python3.6/dist-packages/statsmodels/compat/pandas.py:56: FutureWarning: The pandas.core.datetools module is deprecated and will be removed in a future version. Please use the pandas.tseries module instead.\n",
            "  from pandas.core import datetools\n"
          ],
          "name": "stderr"
        }
      ]
    },
    {
      "metadata": {
        "id": "BpMFoUv2QlFm",
        "colab_type": "code",
        "colab": {
          "base_uri": "https://localhost:8080/",
          "height": 326
        },
        "outputId": "0479d63c-aa2b-4b5e-d274-a43e76bd0713"
      },
      "cell_type": "code",
      "source": [
        "mod = smf.quantreg('bwt ~ gestation', bwt_df)\n",
        "res = mod.fit(q=.056)\n",
        "print(res.summary())"
      ],
      "execution_count": 179,
      "outputs": [
        {
          "output_type": "stream",
          "text": [
            "                         QuantReg Regression Results                          \n",
            "==============================================================================\n",
            "Dep. Variable:                    bwt   Pseudo R-squared:               0.1629\n",
            "Model:                       QuantReg   Bandwidth:                       6.324\n",
            "Method:                 Least Squares   Sparsity:                        133.2\n",
            "Date:                Thu, 24 Jan 2019   No. Observations:                 1174\n",
            "Time:                        01:00:49   Df Residuals:                     1172\n",
            "                                        Df Model:                            1\n",
            "==============================================================================\n",
            "                 coef    std err          t      P>|t|      [0.025      0.975]\n",
            "------------------------------------------------------------------------------\n",
            "Intercept    -50.2904     25.541     -1.969      0.049    -100.401      -0.179\n",
            "gestation      0.5161      0.091      5.645      0.000       0.337       0.696\n",
            "==============================================================================\n",
            "\n",
            "The condition number is large, 4.88e+03. This might indicate that there are\n",
            "strong multicollinearity or other numerical problems.\n"
          ],
          "name": "stdout"
        }
      ]
    },
    {
      "metadata": {
        "id": "Gv-7E5z1I6-n",
        "colab_type": "code",
        "colab": {
          "base_uri": "https://localhost:8080/",
          "height": 255
        },
        "outputId": "65feadbf-bb87-4259-a102-0cc77097b285"
      },
      "cell_type": "code",
      "source": [
        "quantiles = np.arange(.056, .96, .1)\n",
        "def fit_model(q):\n",
        "    res = mod.fit(q=q)\n",
        "    return [q, res.params['Intercept'], res.params['gestation']] + \\\n",
        "            res.conf_int().loc['gestation'].tolist()\n",
        "    \n",
        "models = [fit_model(x) for x in quantiles]\n",
        "models = pd.DataFrame(models, columns=['q', 'a', 'b','lb','ub'])\n",
        "\n",
        "ols = smf.ols('bwt ~ gestation', bwt_df).fit()\n",
        "ols_ci = ols.conf_int().loc['gestation'].tolist()\n",
        "ols = dict(a = ols.params['Intercept'],\n",
        "           b = ols.params['gestation'],\n",
        "           lb = ols_ci[0],\n",
        "           ub = ols_ci[1])\n",
        "\n",
        "print(models)\n",
        "print(ols)"
      ],
      "execution_count": 180,
      "outputs": [
        {
          "output_type": "stream",
          "text": [
            "       q          a         b        lb        ub\n",
            "0  0.056 -50.290353  0.516129  0.336753  0.695505\n",
            "1  0.156 -37.000000  0.500000  0.374130  0.625870\n",
            "2  0.256 -31.000002  0.500000  0.397143  0.602857\n",
            "3  0.356 -33.764685  0.529412  0.446333  0.612491\n",
            "4  0.456 -28.684197  0.526316  0.456171  0.596460\n",
            "5  0.556 -24.666663  0.523810  0.457379  0.590240\n",
            "6  0.656 -14.499992  0.500000  0.432794  0.567206\n",
            "7  0.756   0.178564  0.464286  0.383943  0.544629\n",
            "8  0.856  54.823530  0.294118  0.179012  0.409223\n",
            "9  0.956  37.969388  0.397959  0.172464  0.623455\n",
            "{'a': -10.754138914450326, 'b': 0.46655687694921555, 'lb': 0.40664351443120883, 'ub': 0.5264702394672223}\n"
          ],
          "name": "stdout"
        }
      ]
    },
    {
      "metadata": {
        "id": "piC1yYDbI7Cu",
        "colab_type": "code",
        "colab": {
          "base_uri": "https://localhost:8080/",
          "height": 397
        },
        "outputId": "e6b18ef4-7d41-4b2b-c1ab-36d092b06af8"
      },
      "cell_type": "code",
      "source": [
        "import matplotlib.pyplot as plt\n",
        "x = np.arange(bwt_df.smoke.min(), bwt_df.smoke.max(), 50)\n",
        "get_y = lambda a, b: a + b * x\n",
        "\n",
        "fig, ax = plt.subplots(figsize=(8, 6))\n",
        "\n",
        "for i in range(models.shape[0]):\n",
        "    y = get_y(models.a[i], models.b[i])\n",
        "    ax.plot(x, y, linestyle='dotted', color='grey')\n",
        "    \n",
        "y = get_y(ols['a'], ols['b'])\n",
        "\n",
        "ax.plot(x, y, color='red', label='OLS')\n",
        "ax.scatter(bwt_df.gestation, bwt_df.bwt, alpha=.2)\n",
        "ax.set_xlim((100, 400))\n",
        "ax.set_ylim((50, 250))\n",
        "legend = ax.legend()\n",
        "ax.set_xlabel('Gestation', fontsize=16)\n",
        "ax.set_ylabel('Birth weight', fontsize=16);"
      ],
      "execution_count": 188,
      "outputs": [
        {
          "output_type": "display_data",
          "data": {
            "image/png": "[encoded data removed]",
            "text/plain": [
              "<Figure size 576x432 with 1 Axes>"
            ]
          },
          "metadata": {
            "tags": []
          }
        }
      ]
    },
    {
      "metadata": {
        "id": "UE_VEqFJSULB",
        "colab_type": "code",
        "colab": {}
      },
      "cell_type": "code",
      "source": [
        "## Quantile regression for the median, 0.5th quantile import pandas as pd  data = pd.DataFram"
      ],
      "execution_count": 0,
      "outputs": []
    },
    {
      "metadata": {
        "id": "XY9JGAnJisdB",
        "colab_type": "text"
      },
      "cell_type": "markdown",
      "source": [
        "## Resources and stretch goals"
      ]
    },
    {
      "metadata": {
        "id": "inFWXSpqmND5",
        "colab_type": "text"
      },
      "cell_type": "markdown",
      "source": [
        "Resources:\n",
        "- [statsmodels QuantReg example](http://www.statsmodels.org/dev/examples/notebooks/generated/quantile_regression.html)\n",
        "- [How Shopify used Quantile Regression in modeling risk](https://medium.com/data-shopify/how-shopify-capital-uses-quantile-regression-to-help-merchants-succeed-10ee1b36b17d)\n",
        "\n",
        "Stretch goals:\n",
        "- Find a dataset where you think quantile regression may be appropriate, and try both it and linear regression - compare/contrast their strengths/weaknesses, and write a summary for which you think is better for the situation and why\n",
        "- Check out [deep quantile regression](https://www.kdnuggets.com/2018/07/deep-quantile-regression.html), an approach that uses a custom quantile loss function and Keras to train a quantile model"
      ]
    }
  ]
}