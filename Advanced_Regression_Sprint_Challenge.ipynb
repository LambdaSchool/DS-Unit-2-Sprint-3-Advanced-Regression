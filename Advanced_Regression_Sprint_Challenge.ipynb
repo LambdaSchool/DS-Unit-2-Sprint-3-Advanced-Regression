{
  "nbformat": 4,
  "nbformat_minor": 0,
  "metadata": {
    "colab": {
      "name": "DS_Unit_2_Sprint_Challenge_3.ipynb",
      "version": "0.3.2",
      "provenance": [],
      "toc_visible": true
    },
    "kernelspec": {
      "name": "python3",
      "display_name": "Python 3"
    }
  },
  "cells": [
    {
      "metadata": {
        "id": "ayDccRP01GJD",
        "colab_type": "text"
      },
      "cell_type": "markdown",
      "source": [
        "# Data Science Unit 2 Sprint Challenge 3\n",
        "\n",
        "## Logistic Regression and Beyond\n",
        "\n",
        "In this sprint challenge you will fit a logistic regression modeling the probability of an adult having an income above 50K. The dataset is available at UCI:\n",
        "\n",
        "https://archive.ics.uci.edu/ml/datasets/adult\n",
        "\n",
        "Your goal is to:\n",
        "\n",
        "1. Load, validate, and clean/prepare the data.\n",
        "2. Fit a logistic regression model\n",
        "3. Answer questions based on the results (as well as a few extra questions about the other modules)\n",
        "\n",
        "Don't let the perfect be the enemy of the good! Manage your time, and make sure to get to all parts. If you get stuck wrestling with the data, simplify it (if necessary, drop features or rows) so you're able to move on. If you have time at the end, you can go back and try to fix/improve.\n",
        "\n",
        "### Hints\n",
        "\n",
        "It has a variety of features - some are continuous, but many are categorical. You may find [pandas.get_dummies](https://pandas.pydata.org/pandas-docs/stable/generated/pandas.get_dummies.html) (a method to one-hot encode) helpful!\n",
        "\n",
        "The features have dramatically different ranges. You may find [sklearn.preprocessing.minmax_scale](https://scikit-learn.org/stable/modules/generated/sklearn.preprocessing.minmax_scale.html#sklearn.preprocessing.minmax_scale) helpful!"
      ]
    },
    {
      "metadata": {
        "id": "U22R1Ud51hxb",
        "colab_type": "text"
      },
      "cell_type": "markdown",
      "source": [
        "## Part 1 - Load, validate, and prepare data\n",
        "\n",
        "The data is available at: https://archive.ics.uci.edu/ml/datasets/adult\n",
        "\n",
        "Load it, name the columns, and make sure that you've loaded the data successfully. Note that missing values for categorical variables can essentially be considered another category (\"unknown\"), and may not need to be dropped.\n",
        "\n",
        "You should also prepare the data for logistic regression - one-hot encode categorical features as appropriate."
      ]
    },
    {
      "metadata": {
        "id": "C5Divbvs0VR6",
        "colab_type": "code",
        "colab": {}
      },
      "cell_type": "code",
      "source": [
        "import pandas as pd\n",
        "import numpy as np\n",
        "import matplotlib.pyplot as plt\n",
        "\n",
        "import warnings\n",
        "warnings.filterwarnings('ignore')"
      ],
      "execution_count": 0,
      "outputs": []
    },
    {
      "metadata": {
        "id": "X64KVI0EbEva",
        "colab_type": "text"
      },
      "cell_type": "markdown",
      "source": [
        "### Import the data. Using the url wasn't working well so I ended up just saving the textfiles and uploading them to collab. "
      ]
    },
    {
      "metadata": {
        "id": "SeOByIkht-NS",
        "colab_type": "code",
        "colab": {}
      },
      "cell_type": "code",
      "source": [
        "#adult = pd.read_csv('adult.csv')\n",
        "\n",
        "column_names = ['age', 'workclass', 'fnlwgt', 'education', 'educational-num','marital-status', 'occupation', 'relationship', 'race', 'gender','capital-gain', 'capital-loss', 'hours-per-week', 'native_country','income']\n",
        "\n",
        "train = pd.read_csv('adult_data.txt', sep=\",\\s\", header=None, names = column_names, engine = 'python')\n",
        "test = pd.read_csv('adult_test.txt', sep=\",\\s\", header=None, names = column_names, engine = 'python',skiprows=[0])\n",
        "test['income'].replace(regex=True,inplace=True,to_replace=r'\\.',value=r'')\n",
        "\n",
        "\n",
        "adult = pd.concat([test,train])\n",
        "adult.reset_index(inplace = True, drop = True)"
      ],
      "execution_count": 0,
      "outputs": []
    },
    {
      "metadata": {
        "id": "zkfoUeq1bP5D",
        "colab_type": "text"
      },
      "cell_type": "markdown",
      "source": [
        "### Lets look at this data a bit. \n",
        "\n",
        "Looks like NaN's are ?'s and I have quite a few categorical variables. I'll encode those. "
      ]
    },
    {
      "metadata": {
        "id": "4BjZ4ihZ2FFR",
        "colab_type": "code",
        "colab": {
          "base_uri": "https://localhost:8080/",
          "height": 202
        },
        "outputId": "4d32f996-6014-42fd-a379-11efe5126fce"
      },
      "cell_type": "code",
      "source": [
        "adult.head()"
      ],
      "execution_count": 3,
      "outputs": [
        {
          "output_type": "execute_result",
          "data": {
            "text/html": [
              "<div>\n",
              "<style scoped>\n",
              "    .dataframe tbody tr th:only-of-type {\n",
              "        vertical-align: middle;\n",
              "    }\n",
              "\n",
              "    .dataframe tbody tr th {\n",
              "        vertical-align: top;\n",
              "    }\n",
              "\n",
              "    .dataframe thead th {\n",
              "        text-align: right;\n",
              "    }\n",
              "</style>\n",
              "<table border=\"1\" class=\"dataframe\">\n",
              "  <thead>\n",
              "    <tr style=\"text-align: right;\">\n",
              "      <th></th>\n",
              "      <th>age</th>\n",
              "      <th>workclass</th>\n",
              "      <th>fnlwgt</th>\n",
              "      <th>education</th>\n",
              "      <th>educational-num</th>\n",
              "      <th>marital-status</th>\n",
              "      <th>occupation</th>\n",
              "      <th>relationship</th>\n",
              "      <th>race</th>\n",
              "      <th>gender</th>\n",
              "      <th>capital-gain</th>\n",
              "      <th>capital-loss</th>\n",
              "      <th>hours-per-week</th>\n",
              "      <th>native_country</th>\n",
              "      <th>income</th>\n",
              "    </tr>\n",
              "  </thead>\n",
              "  <tbody>\n",
              "    <tr>\n",
              "      <th>0</th>\n",
              "      <td>25</td>\n",
              "      <td>Private</td>\n",
              "      <td>226802</td>\n",
              "      <td>11th</td>\n",
              "      <td>7</td>\n",
              "      <td>Never-married</td>\n",
              "      <td>Machine-op-inspct</td>\n",
              "      <td>Own-child</td>\n",
              "      <td>Black</td>\n",
              "      <td>Male</td>\n",
              "      <td>0</td>\n",
              "      <td>0</td>\n",
              "      <td>40</td>\n",
              "      <td>United-States</td>\n",
              "      <td>&lt;=50K</td>\n",
              "    </tr>\n",
              "    <tr>\n",
              "      <th>1</th>\n",
              "      <td>38</td>\n",
              "      <td>Private</td>\n",
              "      <td>89814</td>\n",
              "      <td>HS-grad</td>\n",
              "      <td>9</td>\n",
              "      <td>Married-civ-spouse</td>\n",
              "      <td>Farming-fishing</td>\n",
              "      <td>Husband</td>\n",
              "      <td>White</td>\n",
              "      <td>Male</td>\n",
              "      <td>0</td>\n",
              "      <td>0</td>\n",
              "      <td>50</td>\n",
              "      <td>United-States</td>\n",
              "      <td>&lt;=50K</td>\n",
              "    </tr>\n",
              "    <tr>\n",
              "      <th>2</th>\n",
              "      <td>28</td>\n",
              "      <td>Local-gov</td>\n",
              "      <td>336951</td>\n",
              "      <td>Assoc-acdm</td>\n",
              "      <td>12</td>\n",
              "      <td>Married-civ-spouse</td>\n",
              "      <td>Protective-serv</td>\n",
              "      <td>Husband</td>\n",
              "      <td>White</td>\n",
              "      <td>Male</td>\n",
              "      <td>0</td>\n",
              "      <td>0</td>\n",
              "      <td>40</td>\n",
              "      <td>United-States</td>\n",
              "      <td>&gt;50K</td>\n",
              "    </tr>\n",
              "    <tr>\n",
              "      <th>3</th>\n",
              "      <td>44</td>\n",
              "      <td>Private</td>\n",
              "      <td>160323</td>\n",
              "      <td>Some-college</td>\n",
              "      <td>10</td>\n",
              "      <td>Married-civ-spouse</td>\n",
              "      <td>Machine-op-inspct</td>\n",
              "      <td>Husband</td>\n",
              "      <td>Black</td>\n",
              "      <td>Male</td>\n",
              "      <td>7688</td>\n",
              "      <td>0</td>\n",
              "      <td>40</td>\n",
              "      <td>United-States</td>\n",
              "      <td>&gt;50K</td>\n",
              "    </tr>\n",
              "    <tr>\n",
              "      <th>4</th>\n",
              "      <td>18</td>\n",
              "      <td>?</td>\n",
              "      <td>103497</td>\n",
              "      <td>Some-college</td>\n",
              "      <td>10</td>\n",
              "      <td>Never-married</td>\n",
              "      <td>?</td>\n",
              "      <td>Own-child</td>\n",
              "      <td>White</td>\n",
              "      <td>Female</td>\n",
              "      <td>0</td>\n",
              "      <td>0</td>\n",
              "      <td>30</td>\n",
              "      <td>United-States</td>\n",
              "      <td>&lt;=50K</td>\n",
              "    </tr>\n",
              "  </tbody>\n",
              "</table>\n",
              "</div>"
            ],
            "text/plain": [
              "   age  workclass  fnlwgt     education  educational-num      marital-status  \\\n",
              "0   25    Private  226802          11th                7       Never-married   \n",
              "1   38    Private   89814       HS-grad                9  Married-civ-spouse   \n",
              "2   28  Local-gov  336951    Assoc-acdm               12  Married-civ-spouse   \n",
              "3   44    Private  160323  Some-college               10  Married-civ-spouse   \n",
              "4   18          ?  103497  Some-college               10       Never-married   \n",
              "\n",
              "          occupation relationship   race  gender  capital-gain  capital-loss  \\\n",
              "0  Machine-op-inspct    Own-child  Black    Male             0             0   \n",
              "1    Farming-fishing      Husband  White    Male             0             0   \n",
              "2    Protective-serv      Husband  White    Male             0             0   \n",
              "3  Machine-op-inspct      Husband  Black    Male          7688             0   \n",
              "4                  ?    Own-child  White  Female             0             0   \n",
              "\n",
              "   hours-per-week native_country income  \n",
              "0              40  United-States  <=50K  \n",
              "1              50  United-States  <=50K  \n",
              "2              40  United-States   >50K  \n",
              "3              40  United-States   >50K  \n",
              "4              30  United-States  <=50K  "
            ]
          },
          "metadata": {
            "tags": []
          },
          "execution_count": 3
        }
      ]
    },
    {
      "metadata": {
        "id": "hxUXY5lsbkJg",
        "colab_type": "text"
      },
      "cell_type": "markdown",
      "source": [
        "### Make sure all 48842 rows of data are there. Should have 14 features + a label (income). "
      ]
    },
    {
      "metadata": {
        "id": "T-w6ilJR4Nue",
        "colab_type": "code",
        "colab": {
          "base_uri": "https://localhost:8080/",
          "height": 34
        },
        "outputId": "78ca28be-a80d-4cfa-903e-8974654d3c5a"
      },
      "cell_type": "code",
      "source": [
        "adult.shape"
      ],
      "execution_count": 4,
      "outputs": [
        {
          "output_type": "execute_result",
          "data": {
            "text/plain": [
              "(48842, 15)"
            ]
          },
          "metadata": {
            "tags": []
          },
          "execution_count": 4
        }
      ]
    },
    {
      "metadata": {
        "id": "WEzUbRcYZimX",
        "colab_type": "text"
      },
      "cell_type": "markdown",
      "source": [
        "### Inspecting a few of these variables now to help answer the final questions. "
      ]
    },
    {
      "metadata": {
        "id": "gw3DbL5jQnD7",
        "colab_type": "code",
        "colab": {
          "base_uri": "https://localhost:8080/",
          "height": 450
        },
        "outputId": "79ba442b-f395-4f5d-f807-56f0e00cd458"
      },
      "cell_type": "code",
      "source": [
        "print(adult['income'].value_counts())\n",
        "print('\\n')\n",
        "print(adult['workclass'].value_counts())\n",
        "print('\\n')\n",
        "print(adult['marital-status'].value_counts())"
      ],
      "execution_count": 5,
      "outputs": [
        {
          "output_type": "stream",
          "text": [
            "<=50K    37155\n",
            ">50K     11687\n",
            "Name: income, dtype: int64\n",
            "\n",
            "\n",
            "Private             33906\n",
            "Self-emp-not-inc     3862\n",
            "Local-gov            3136\n",
            "?                    2799\n",
            "State-gov            1981\n",
            "Self-emp-inc         1695\n",
            "Federal-gov          1432\n",
            "Without-pay            21\n",
            "Never-worked           10\n",
            "Name: workclass, dtype: int64\n",
            "\n",
            "\n",
            "Married-civ-spouse       22379\n",
            "Never-married            16117\n",
            "Divorced                  6633\n",
            "Separated                 1530\n",
            "Widowed                   1518\n",
            "Married-spouse-absent      628\n",
            "Married-AF-spouse           37\n",
            "Name: marital-status, dtype: int64\n"
          ],
          "name": "stdout"
        }
      ]
    },
    {
      "metadata": {
        "id": "AHR6-79cZnKX",
        "colab_type": "text"
      },
      "cell_type": "markdown",
      "source": [
        "### Drop all the nan-rows."
      ]
    },
    {
      "metadata": {
        "id": "_aDDZTQn27L5",
        "colab_type": "code",
        "colab": {
          "base_uri": "https://localhost:8080/",
          "height": 312
        },
        "outputId": "e308fda1-25b7-4ff6-ae8e-c49172a46a48"
      },
      "cell_type": "code",
      "source": [
        "adult = adult.replace('?', np.NaN)\n",
        "\n",
        "# Which columns are missing data\n",
        "total = adult.isnull().sum().sort_values(ascending=False)\n",
        "percent = (adult.isnull().sum()/adult.isnull().count()).sort_values(ascending=False)\n",
        "missing_data = pd.concat([total, percent], axis=1, keys=['Total', 'Percent'])\n",
        "print(missing_data.head(25))\n",
        "\n",
        "# Drop all remaining rows missing data and check shape! \n",
        "adult = adult.dropna()\n",
        "adult.head(1)\n",
        "print(adult.shape)"
      ],
      "execution_count": 6,
      "outputs": [
        {
          "output_type": "stream",
          "text": [
            "                 Total   Percent\n",
            "occupation        2809  0.057512\n",
            "workclass         2799  0.057307\n",
            "native_country     857  0.017546\n",
            "income               0  0.000000\n",
            "hours-per-week       0  0.000000\n",
            "capital-loss         0  0.000000\n",
            "capital-gain         0  0.000000\n",
            "gender               0  0.000000\n",
            "race                 0  0.000000\n",
            "relationship         0  0.000000\n",
            "marital-status       0  0.000000\n",
            "educational-num      0  0.000000\n",
            "education            0  0.000000\n",
            "fnlwgt               0  0.000000\n",
            "age                  0  0.000000\n",
            "(45222, 15)\n"
          ],
          "name": "stdout"
        }
      ]
    },
    {
      "metadata": {
        "id": "W_rJNl6n4ePC",
        "colab_type": "code",
        "colab": {
          "base_uri": "https://localhost:8080/",
          "height": 294
        },
        "outputId": "1673da40-0e32-4bda-e77d-f44f9f415b1f"
      },
      "cell_type": "code",
      "source": [
        "# Make sure all NaN's were removed\n",
        "total = adult.isnull().sum().sort_values(ascending=False)\n",
        "percent = (adult.isnull().sum()/adult.isnull().count()).sort_values(ascending=False)\n",
        "missing_data = pd.concat([total, percent], axis=1, keys=['Total', 'Percent'])\n",
        "print(missing_data.head(25))"
      ],
      "execution_count": 7,
      "outputs": [
        {
          "output_type": "stream",
          "text": [
            "                 Total  Percent\n",
            "income               0      0.0\n",
            "native_country       0      0.0\n",
            "hours-per-week       0      0.0\n",
            "capital-loss         0      0.0\n",
            "capital-gain         0      0.0\n",
            "gender               0      0.0\n",
            "race                 0      0.0\n",
            "relationship         0      0.0\n",
            "occupation           0      0.0\n",
            "marital-status       0      0.0\n",
            "educational-num      0      0.0\n",
            "education            0      0.0\n",
            "fnlwgt               0      0.0\n",
            "workclass            0      0.0\n",
            "age                  0      0.0\n"
          ],
          "name": "stdout"
        }
      ]
    },
    {
      "metadata": {
        "id": "O9qZM9uA5bic",
        "colab_type": "text"
      },
      "cell_type": "markdown",
      "source": [
        "\n",
        "Looks great! "
      ]
    },
    {
      "metadata": {
        "id": "LaQabLfFZvb2",
        "colab_type": "text"
      },
      "cell_type": "markdown",
      "source": [
        "### Finish processing the data. Encode object columns, train/test split. "
      ]
    },
    {
      "metadata": {
        "id": "jTp4BDVT_JAi",
        "colab_type": "code",
        "colab": {
          "base_uri": "https://localhost:8080/",
          "height": 34
        },
        "outputId": "74293acc-6865-4698-c352-e79642016b33"
      },
      "cell_type": "code",
      "source": [
        "adult.dtypes\n",
        "\n",
        "counts_ = []\n",
        "object_columns = list(adult.select_dtypes(include=['object']))\n",
        "print(object_columns)"
      ],
      "execution_count": 8,
      "outputs": [
        {
          "output_type": "stream",
          "text": [
            "['workclass', 'education', 'marital-status', 'occupation', 'relationship', 'race', 'gender', 'native_country', 'income']\n"
          ],
          "name": "stdout"
        }
      ]
    },
    {
      "metadata": {
        "id": "pTdk6kCL72-a",
        "colab_type": "code",
        "colab": {
          "base_uri": "https://localhost:8080/",
          "height": 202
        },
        "outputId": "190484f1-2514-4e75-dcbf-862916d0f3dc"
      },
      "cell_type": "code",
      "source": [
        "# They're either from the US or not.\n",
        "mask = adult['native_country'] == 'United-States'\n",
        "column_name = 'native_country'\n",
        "adult.loc[mask, column_name] = 1\n",
        "\n",
        "mask = adult['native_country'] != 1\n",
        "column_name = 'native_country'\n",
        "adult.loc[mask, column_name] = 0\n",
        "adult.head(4)\n",
        "\n",
        "# Lets take some of the data and see if we can do some tricky feature engineering.\n",
        "# Here I'll use Label Encoding \n",
        "adult2 = adult\n",
        "from sklearn.preprocessing import LabelEncoder\n",
        "adult2[object_columns] = adult2[object_columns].apply(LabelEncoder().fit_transform)\n",
        "adult2.head()"
      ],
      "execution_count": 9,
      "outputs": [
        {
          "output_type": "execute_result",
          "data": {
            "text/html": [
              "<div>\n",
              "<style scoped>\n",
              "    .dataframe tbody tr th:only-of-type {\n",
              "        vertical-align: middle;\n",
              "    }\n",
              "\n",
              "    .dataframe tbody tr th {\n",
              "        vertical-align: top;\n",
              "    }\n",
              "\n",
              "    .dataframe thead th {\n",
              "        text-align: right;\n",
              "    }\n",
              "</style>\n",
              "<table border=\"1\" class=\"dataframe\">\n",
              "  <thead>\n",
              "    <tr style=\"text-align: right;\">\n",
              "      <th></th>\n",
              "      <th>age</th>\n",
              "      <th>workclass</th>\n",
              "      <th>fnlwgt</th>\n",
              "      <th>education</th>\n",
              "      <th>educational-num</th>\n",
              "      <th>marital-status</th>\n",
              "      <th>occupation</th>\n",
              "      <th>relationship</th>\n",
              "      <th>race</th>\n",
              "      <th>gender</th>\n",
              "      <th>capital-gain</th>\n",
              "      <th>capital-loss</th>\n",
              "      <th>hours-per-week</th>\n",
              "      <th>native_country</th>\n",
              "      <th>income</th>\n",
              "    </tr>\n",
              "  </thead>\n",
              "  <tbody>\n",
              "    <tr>\n",
              "      <th>0</th>\n",
              "      <td>25</td>\n",
              "      <td>2</td>\n",
              "      <td>226802</td>\n",
              "      <td>1</td>\n",
              "      <td>7</td>\n",
              "      <td>4</td>\n",
              "      <td>6</td>\n",
              "      <td>3</td>\n",
              "      <td>2</td>\n",
              "      <td>1</td>\n",
              "      <td>0</td>\n",
              "      <td>0</td>\n",
              "      <td>40</td>\n",
              "      <td>1</td>\n",
              "      <td>0</td>\n",
              "    </tr>\n",
              "    <tr>\n",
              "      <th>1</th>\n",
              "      <td>38</td>\n",
              "      <td>2</td>\n",
              "      <td>89814</td>\n",
              "      <td>11</td>\n",
              "      <td>9</td>\n",
              "      <td>2</td>\n",
              "      <td>4</td>\n",
              "      <td>0</td>\n",
              "      <td>4</td>\n",
              "      <td>1</td>\n",
              "      <td>0</td>\n",
              "      <td>0</td>\n",
              "      <td>50</td>\n",
              "      <td>1</td>\n",
              "      <td>0</td>\n",
              "    </tr>\n",
              "    <tr>\n",
              "      <th>2</th>\n",
              "      <td>28</td>\n",
              "      <td>1</td>\n",
              "      <td>336951</td>\n",
              "      <td>7</td>\n",
              "      <td>12</td>\n",
              "      <td>2</td>\n",
              "      <td>10</td>\n",
              "      <td>0</td>\n",
              "      <td>4</td>\n",
              "      <td>1</td>\n",
              "      <td>0</td>\n",
              "      <td>0</td>\n",
              "      <td>40</td>\n",
              "      <td>1</td>\n",
              "      <td>1</td>\n",
              "    </tr>\n",
              "    <tr>\n",
              "      <th>3</th>\n",
              "      <td>44</td>\n",
              "      <td>2</td>\n",
              "      <td>160323</td>\n",
              "      <td>15</td>\n",
              "      <td>10</td>\n",
              "      <td>2</td>\n",
              "      <td>6</td>\n",
              "      <td>0</td>\n",
              "      <td>2</td>\n",
              "      <td>1</td>\n",
              "      <td>7688</td>\n",
              "      <td>0</td>\n",
              "      <td>40</td>\n",
              "      <td>1</td>\n",
              "      <td>1</td>\n",
              "    </tr>\n",
              "    <tr>\n",
              "      <th>5</th>\n",
              "      <td>34</td>\n",
              "      <td>2</td>\n",
              "      <td>198693</td>\n",
              "      <td>0</td>\n",
              "      <td>6</td>\n",
              "      <td>4</td>\n",
              "      <td>7</td>\n",
              "      <td>1</td>\n",
              "      <td>4</td>\n",
              "      <td>1</td>\n",
              "      <td>0</td>\n",
              "      <td>0</td>\n",
              "      <td>30</td>\n",
              "      <td>1</td>\n",
              "      <td>0</td>\n",
              "    </tr>\n",
              "  </tbody>\n",
              "</table>\n",
              "</div>"
            ],
            "text/plain": [
              "   age  workclass  fnlwgt  education  educational-num  marital-status  \\\n",
              "0   25          2  226802          1                7               4   \n",
              "1   38          2   89814         11                9               2   \n",
              "2   28          1  336951          7               12               2   \n",
              "3   44          2  160323         15               10               2   \n",
              "5   34          2  198693          0                6               4   \n",
              "\n",
              "   occupation  relationship  race  gender  capital-gain  capital-loss  \\\n",
              "0           6             3     2       1             0             0   \n",
              "1           4             0     4       1             0             0   \n",
              "2          10             0     4       1             0             0   \n",
              "3           6             0     2       1          7688             0   \n",
              "5           7             1     4       1             0             0   \n",
              "\n",
              "   hours-per-week  native_country  income  \n",
              "0              40               1       0  \n",
              "1              50               1       0  \n",
              "2              40               1       1  \n",
              "3              40               1       1  \n",
              "5              30               1       0  "
            ]
          },
          "metadata": {
            "tags": []
          },
          "execution_count": 9
        }
      ]
    },
    {
      "metadata": {
        "id": "qIbjpx31z709",
        "colab_type": "code",
        "colab": {}
      },
      "cell_type": "code",
      "source": [
        "# Define my X & Y\n",
        "y=adult2[\"income\"]\n",
        "X=adult2.drop(columns=['income'])\n",
        "\n",
        "# Going to try a standard scaling my X.\n",
        "from sklearn.preprocessing import StandardScaler\n",
        "X_scaler = StandardScaler().fit(X)\n",
        "X_scaled = X_scaler.transform(X)\n",
        "\n",
        "# Here is where I split the model into test/train sets. \n",
        "from sklearn.model_selection import train_test_split\n",
        "X_train, X_test, y_train, y_test = train_test_split(X_scaled, y, test_size=0.3, random_state=42)"
      ],
      "execution_count": 0,
      "outputs": []
    },
    {
      "metadata": {
        "id": "PoVGMohGBQMh",
        "colab_type": "text"
      },
      "cell_type": "markdown",
      "source": [
        "### Great! All the nans are removed, the data has been encoded, standardized, and split into clean test/train groups.\n"
      ]
    },
    {
      "metadata": {
        "id": "RT1LFnFO1lo6",
        "colab_type": "text"
      },
      "cell_type": "markdown",
      "source": [
        "## Part 2 - Fit and present a Logistic Regression\n",
        "\n",
        "Your data should now be in a state to fit a logistic regression. Use scikit-learn, define your `X` (independent variable) and `y`, and fit a model.\n",
        "\n",
        "Then, present results - display coefficients in as interpretible a way as you can (hint - scaling the numeric features will help, as it will at least make coefficients more comparable to each other). If you find it helpful for interpretation, you can also generate predictions for cases (like our 5 year old rich kid on the Titanic) or make visualizations - but the goal is your exploration to be able to answer the question, not any particular plot (i.e. don't worry about polishing it).\n",
        "\n",
        "It is *optional* to use `train_test_split` or validate your model more generally - that is not the core focus for this week. So, it is suggested you focus on fitting a model first, and if you have time at the end you can do further validation."
      ]
    },
    {
      "metadata": {
        "id": "u_au7-gSa4eK",
        "colab_type": "text"
      },
      "cell_type": "markdown",
      "source": [
        "### A bit of code so I can see how well this Logistic Regession performs."
      ]
    },
    {
      "metadata": {
        "id": "d0BuXnTsBnv9",
        "colab_type": "code",
        "colab": {}
      },
      "cell_type": "code",
      "source": [
        "# Lets define a performance evaluation function.\n",
        "from sklearn.metrics import accuracy_score, f1_score, precision_score, recall_score, classification_report\n",
        "\n",
        "def get_metrics(y_test, y_predicted):  \n",
        "    # true positives / (true positives+false positives)\n",
        "    precision = precision_score(y_test, y_predicted, pos_label=None,\n",
        "                                    average='weighted')             \n",
        "    # true positives / (true positives + false negatives)\n",
        "    recall = recall_score(y_test, y_predicted, pos_label=None,\n",
        "                              average='weighted')\n",
        "    \n",
        "    # harmonic mean of precision and recall\n",
        "    f1 = f1_score(y_test, y_predicted, pos_label=None, average='weighted')\n",
        "    \n",
        "    # true positives + true negatives/ total\n",
        "    accuracy = accuracy_score(y_test, y_predicted)\n",
        "    return accuracy, precision, recall, f1"
      ],
      "execution_count": 0,
      "outputs": []
    },
    {
      "metadata": {
        "id": "DznlAUDxaAO4",
        "colab_type": "text"
      },
      "cell_type": "markdown",
      "source": [
        "### Define my Logistic Regression model."
      ]
    },
    {
      "metadata": {
        "id": "s7fTRDXguD7N",
        "colab_type": "code",
        "colab": {}
      },
      "cell_type": "code",
      "source": [
        "from sklearn.linear_model import LogisticRegression\n",
        "logreg = LogisticRegression(max_iter=1000,\n",
        "                            n_jobs=-1, \n",
        "                            verbose=1,\n",
        "                            random_state=42)"
      ],
      "execution_count": 0,
      "outputs": []
    },
    {
      "metadata": {
        "id": "-X47zCttaE8A",
        "colab_type": "text"
      },
      "cell_type": "markdown",
      "source": [
        "### Fit model, make predictions, and check accuracy."
      ]
    },
    {
      "metadata": {
        "id": "MyegIeNYBpMA",
        "colab_type": "code",
        "colab": {
          "base_uri": "https://localhost:8080/",
          "height": 34
        },
        "outputId": "9f9cb475-96f6-4b46-b608-10488fc68ffb"
      },
      "cell_type": "code",
      "source": [
        "# Fit with the Original Data\n",
        "logreg.fit(X_train, y_train)\n",
        "\n",
        "# lets check the performance w/ Undersampling\n",
        "\n",
        "# Generate Y predictions.\n",
        "y_predicted = logreg.predict(X_test)\n",
        "\n",
        "# Generate inspect performance. \n",
        "accuracy, precision, recall, f1 = get_metrics(y_test, y_predicted)\n",
        "trials = []\n",
        "trials.append([\"Trial\",\"accuracy\",\"precision\",\"recall\",\"f1\"])\n",
        "trial = \"Base\"\n",
        "trials.append([trial, accuracy, precision, recall, f1])\n",
        "print(\"accuracy = %.3f, precision = %.3f, recall = %.3f, f1 = %.3f\" % (accuracy, precision, recall, f1))"
      ],
      "execution_count": 13,
      "outputs": [
        {
          "output_type": "stream",
          "text": [
            "[LibLinear]accuracy = 0.820, precision = 0.809, recall = 0.820, f1 = 0.805\n"
          ],
          "name": "stdout"
        }
      ]
    },
    {
      "metadata": {
        "id": "QUFiHIokax9G",
        "colab_type": "text"
      },
      "cell_type": "markdown",
      "source": [
        "### I'll print the model parameters so you can see what it used."
      ]
    },
    {
      "metadata": {
        "id": "qqi1dEATEbE9",
        "colab_type": "code",
        "colab": {
          "base_uri": "https://localhost:8080/",
          "height": 86
        },
        "outputId": "794a98dd-cb68-4784-c5f5-a1adcb740985"
      },
      "cell_type": "code",
      "source": [
        "logreg"
      ],
      "execution_count": 14,
      "outputs": [
        {
          "output_type": "execute_result",
          "data": {
            "text/plain": [
              "LogisticRegression(C=1.0, class_weight=None, dual=False, fit_intercept=True,\n",
              "          intercept_scaling=1, max_iter=1000, multi_class='warn',\n",
              "          n_jobs=-1, penalty='l2', random_state=42, solver='warn',\n",
              "          tol=0.0001, verbose=1, warm_start=False)"
            ]
          },
          "metadata": {
            "tags": []
          },
          "execution_count": 14
        }
      ]
    },
    {
      "metadata": {
        "id": "r-DDpIHPaKoR",
        "colab_type": "text"
      },
      "cell_type": "markdown",
      "source": [
        "### Lets see how well this model is predicting. \n"
      ]
    },
    {
      "metadata": {
        "id": "9wU19SiOB7VL",
        "colab_type": "code",
        "colab": {
          "base_uri": "https://localhost:8080/",
          "height": 1324
        },
        "cellView": "form",
        "outputId": "9c6b327c-1c2c-4841-dab6-cba6302f0c55"
      },
      "cell_type": "code",
      "source": [
        "#@title\n",
        "import numpy as np\n",
        "import itertools\n",
        "from sklearn.metrics import confusion_matrix\n",
        "\n",
        "def plot_confusion_matrix(cm, classes,\n",
        "                          normalize=False,\n",
        "                          title='Confusion matrix',\n",
        "                          cmap=plt.cm.winter):\n",
        "    if normalize:\n",
        "        cm = cm.astype('float') / cm.sum(axis=1)[:, np.newaxis]\n",
        "    plt.imshow(cm, interpolation='nearest', cmap=cmap)\n",
        "    plt.colorbar(fraction=0.043, pad=0.05)\n",
        "    tick_marks = np.arange(len(classes))\n",
        "    plt.xticks(tick_marks, classes, fontsize=15)\n",
        "    plt.yticks(tick_marks, classes, fontsize=15)\n",
        "    \n",
        "    fmt = '.2f' if normalize else 'd'\n",
        "    thresh = cm.max() / 2.\n",
        "\n",
        "    for i, j in itertools.product(range(cm.shape[0]), range(cm.shape[1])):\n",
        "        plt.text(j, i, format(cm[i, j], fmt), horizontalalignment=\"center\", \n",
        "                 color=\"white\" if cm[i, j] < thresh else \"black\", fontsize=40)\n",
        "    \n",
        "    plt.tight_layout()\n",
        "    plt.ylabel('Actual Income', fontsize=20)\n",
        "    plt.xlabel('Predicted Income', fontsize=20)\n",
        "    plt.title(title,fontsize=25)\n",
        "    return plt\n",
        "\n",
        "### Print a confusion matrix to inspect how well our classifier is/isn't doing.\n",
        "# <=50k = 0\n",
        "# >50k = 1\n",
        "cm = confusion_matrix(y_test, y_predicted, labels = [0,1])\n",
        "fig = plt.figure(figsize=(10, 10))\n",
        "plot = plot_confusion_matrix(cm, classes=['<= $50k/yr','> $50k/yr'], normalize=False,\n",
        "                            title=\"Confusion Matrix of Income Prediction (counts) by Logistic Regression\")\n",
        "plt.title(f'Confusion Matrix of Income Prediction by Logistic Regression',fontsize=25)\n",
        "plt.show()\n",
        "\n",
        "print(' \\n\\n\\n')\n",
        "\n",
        "cm = confusion_matrix(y_test, y_predicted, labels = [0,1])\n",
        "fig = plt.figure(figsize=(10, 10))\n",
        "plot = plot_confusion_matrix(cm, classes=['<= $50k/yr','> $50k/yr'], normalize=True, \n",
        "                             title = 'Confusion Matrix of Income Prediction (percent) by Logistic Regression')\n",
        "plt.title(f'Confusion Matrix of Income Prediction by Logistic Regression',fontsize=25)\n",
        "plt.show()\n"
      ],
      "execution_count": 15,
      "outputs": [
        {
          "output_type": "display_data",
          "data": {
            "image/png": "[encoded data removed]",
            "text/plain": [
              "<Figure size 720x720 with 2 Axes>"
            ]
          },
          "metadata": {
            "tags": []
          }
        },
        {
          "output_type": "stream",
          "text": [
            " \n",
            "\n",
            "\n",
            "\n"
          ],
          "name": "stdout"
        },
        {
          "output_type": "display_data",
          "data": {
            "image/png": "[encoded data removed]",
            "text/plain": [
              "<Figure size 720x720 with 2 Axes>"
            ]
          },
          "metadata": {
            "tags": []
          }
        }
      ]
    },
    {
      "metadata": {
        "id": "wHXlfjapaTEL",
        "colab_type": "text"
      },
      "cell_type": "markdown",
      "source": [
        " Wow that's a big difference between accuracy for > / < $50k"
      ]
    },
    {
      "metadata": {
        "id": "4KBFWYBMaayx",
        "colab_type": "text"
      },
      "cell_type": "markdown",
      "source": [
        "### Lets check out the coefficients"
      ]
    },
    {
      "metadata": {
        "id": "j3TNrMvaD3Uk",
        "colab_type": "code",
        "colab": {
          "base_uri": "https://localhost:8080/",
          "height": 496
        },
        "outputId": "114a5a23-70ca-448a-b056-397be277e4ec"
      },
      "cell_type": "code",
      "source": [
        "# Print the Coefficients\n",
        "feature_names = list(X.columns)\n",
        "print (\"Scaled Features and their Logistic Regression Coefficient:\")\n",
        "coeffs = sorted(zip(map(lambda x: round(x, 4), list(logreg.coef_[0])), feature_names),reverse=True)\n",
        "coeffs = pd.DataFrame.from_records(coeffs, columns=[\"Coef\", \"Feature\"])\n",
        "coeffs"
      ],
      "execution_count": 16,
      "outputs": [
        {
          "output_type": "stream",
          "text": [
            "Scaled Features and their Logistic Regression Coefficient:\n"
          ],
          "name": "stdout"
        },
        {
          "output_type": "execute_result",
          "data": {
            "text/html": [
              "<div>\n",
              "<style scoped>\n",
              "    .dataframe tbody tr th:only-of-type {\n",
              "        vertical-align: middle;\n",
              "    }\n",
              "\n",
              "    .dataframe tbody tr th {\n",
              "        vertical-align: top;\n",
              "    }\n",
              "\n",
              "    .dataframe thead th {\n",
              "        text-align: right;\n",
              "    }\n",
              "</style>\n",
              "<table border=\"1\" class=\"dataframe\">\n",
              "  <thead>\n",
              "    <tr style=\"text-align: right;\">\n",
              "      <th></th>\n",
              "      <th>Coef</th>\n",
              "      <th>Feature</th>\n",
              "    </tr>\n",
              "  </thead>\n",
              "  <tbody>\n",
              "    <tr>\n",
              "      <th>0</th>\n",
              "      <td>2.3354</td>\n",
              "      <td>capital-gain</td>\n",
              "    </tr>\n",
              "    <tr>\n",
              "      <th>1</th>\n",
              "      <td>0.8504</td>\n",
              "      <td>educational-num</td>\n",
              "    </tr>\n",
              "    <tr>\n",
              "      <th>2</th>\n",
              "      <td>0.4871</td>\n",
              "      <td>age</td>\n",
              "    </tr>\n",
              "    <tr>\n",
              "      <th>3</th>\n",
              "      <td>0.4086</td>\n",
              "      <td>gender</td>\n",
              "    </tr>\n",
              "    <tr>\n",
              "      <th>4</th>\n",
              "      <td>0.3599</td>\n",
              "      <td>hours-per-week</td>\n",
              "    </tr>\n",
              "    <tr>\n",
              "      <th>5</th>\n",
              "      <td>0.2654</td>\n",
              "      <td>capital-loss</td>\n",
              "    </tr>\n",
              "    <tr>\n",
              "      <th>6</th>\n",
              "      <td>0.0849</td>\n",
              "      <td>race</td>\n",
              "    </tr>\n",
              "    <tr>\n",
              "      <th>7</th>\n",
              "      <td>0.0814</td>\n",
              "      <td>education</td>\n",
              "    </tr>\n",
              "    <tr>\n",
              "      <th>8</th>\n",
              "      <td>0.0669</td>\n",
              "      <td>fnlwgt</td>\n",
              "    </tr>\n",
              "    <tr>\n",
              "      <th>9</th>\n",
              "      <td>0.0085</td>\n",
              "      <td>occupation</td>\n",
              "    </tr>\n",
              "    <tr>\n",
              "      <th>10</th>\n",
              "      <td>-0.0011</td>\n",
              "      <td>native_country</td>\n",
              "    </tr>\n",
              "    <tr>\n",
              "      <th>11</th>\n",
              "      <td>-0.1188</td>\n",
              "      <td>workclass</td>\n",
              "    </tr>\n",
              "    <tr>\n",
              "      <th>12</th>\n",
              "      <td>-0.2329</td>\n",
              "      <td>relationship</td>\n",
              "    </tr>\n",
              "    <tr>\n",
              "      <th>13</th>\n",
              "      <td>-0.3189</td>\n",
              "      <td>marital-status</td>\n",
              "    </tr>\n",
              "  </tbody>\n",
              "</table>\n",
              "</div>"
            ],
            "text/plain": [
              "      Coef          Feature\n",
              "0   2.3354     capital-gain\n",
              "1   0.8504  educational-num\n",
              "2   0.4871              age\n",
              "3   0.4086           gender\n",
              "4   0.3599   hours-per-week\n",
              "5   0.2654     capital-loss\n",
              "6   0.0849             race\n",
              "7   0.0814        education\n",
              "8   0.0669           fnlwgt\n",
              "9   0.0085       occupation\n",
              "10 -0.0011   native_country\n",
              "11 -0.1188        workclass\n",
              "12 -0.2329     relationship\n",
              "13 -0.3189   marital-status"
            ]
          },
          "metadata": {
            "tags": []
          },
          "execution_count": 16
        }
      ]
    },
    {
      "metadata": {
        "id": "1yXBARhpaeFN",
        "colab_type": "text"
      },
      "cell_type": "markdown",
      "source": [
        "Great! I've got what I need to make some interpretations. "
      ]
    },
    {
      "metadata": {
        "id": "BkIa-Sa21qdC",
        "colab_type": "text"
      },
      "cell_type": "markdown",
      "source": [
        "## Part 3 - Analysis, Interpretation, and Questions"
      ]
    },
    {
      "metadata": {
        "id": "1MZ1AvMBBJsA",
        "colab_type": "text"
      },
      "cell_type": "markdown",
      "source": [
        "###  Q: Based on your above model, answer the following questions\n",
        "\n",
        "1. What are 3 features positively correlated with income above 50k?\n",
        "2. What are 3 features negatively correlated with income above 50k?\n",
        "3. Overall, how well does the model explain the data and what insights do you derive from it?\n",
        "\n",
        "*These answers count* - that is, make sure to spend some time on them, connecting to your analysis above. There is no single right answer, but as long as you support your reasoning with evidence you are on the right track.\n",
        "\n",
        "Note - scikit-learn logistic regression does *not* automatically perform a hypothesis test on coefficients. That is OK - if you scale the data they are more comparable in weight.\n"
      ]
    },
    {
      "metadata": {
        "id": "CzknB-o3MbAG",
        "colab_type": "text"
      },
      "cell_type": "markdown",
      "source": [
        "### A: Model Analysis and Interpretation\n",
        "**1.) Three features postitively corrilated with income above $50K are:**\n",
        "\n",
        "   * `Captial Gain` - **the coefficient for this is 2.4454**, which is very high because it our data is standardized so it is very very strong. I wouldn't suggest that it is perfectly co-linear with income, because there are some people who buy and sell assets. But normally the purchase and sale of assets for profit is a strong indicator of wealth & access to credit. \n",
        "   * `educatonal-num` - **the coefficient for this is 0.8504**, Education is often associated with \n",
        "   * `age` - **the coefficient for this is 0.4871**, People who have been alive longer are more financially established and have working experience. That makes sense.\n",
        "\n",
        "**2.) What are 3 features negatively correlated with income above 50K?**\n",
        "\n",
        "  * `marital-status` **coeff -0.3189** This was suprising to me! But there can be large gaps in individual performance depending on personal relationships. \n",
        "  * `relationship` **coeff -0.2329**  - Given more time I think this and marital-status would be good candidates for one-hot-encoding to determine the coeff of their individual parts. But relationship can have a substantial impact especially if the individual fulfills a role as homemaker or caretaker, or if they are simply a dependent of the individual in the survey. \n",
        "  * `workclass` - **coeff -0.1188 ** - This one shows a correlation but it doesn't seem very signifcant. I'd need to do a bit more inspection of the one-hot-encoded categories under workclass to be definitive. But the correlation is absolutely there. \n",
        "  \n",
        "**3.) How well does the model explain the data? What are some insights you can derive from it?**\n",
        "\n",
        "`This model does a fairly good job predicting who will make less than $ 50k per year (94% correct, 6% incorrect ),  but it does a poor job of correctly predicting who made more than $ 50k per year (45% correct, 55% incorrect)`\n",
        "\n",
        "`It would perform better if we had more data about individuals who make more than $ 50k per year. :) \n",
        "It may be wise to use a balanced sampling method as well.  But we can definitely use this model to predict who will make less than $50K per year. `\n",
        "\n",
        "\n",
        "****\n"
      ]
    },
    {
      "metadata": {
        "id": "hjwWGPiqBMkR",
        "colab_type": "text"
      },
      "cell_type": "markdown",
      "source": [
        "### Q: Match the following situation descriptions with the model most appropriate to addressing them\n",
        "\n",
        "In addition to logistic regression, a number of other approaches were covered this week. Pair them with the situations they are most appropriate for, and briefly explain why.\n",
        "\n",
        "Situations:\n",
        "1. You are given data on academic performance of primary school students, and asked to fit a model to help predict \"at-risk\" students who are likely to receive the bottom tier of grades.\n",
        "2. You are studying tech companies and their patterns in releasing new products, and would like to be able to model and predict when a new product is likely to be launched.\n",
        "3. You are working on modeling expected plant size and yield with a laboratory that is able to capture fantastically detailed physical data about plants, but only of a few dozen plants at a time.\n",
        "\n",
        "Approaches:\n",
        "1. Ridge Regression\n",
        "2. Quantile Regression\n",
        "3. Survival Analysis\n"
      ]
    },
    {
      "metadata": {
        "id": "x3SG7YBhRuJZ",
        "colab_type": "text"
      },
      "cell_type": "markdown",
      "source": [
        "### A: Matched situations\n",
        "\n",
        "**1.)  You are given data on academic performance of primary school students, and asked to fit a model to help predict \"at-risk\" students who are likely to receive the bottom tier of grades.**\n",
        "\n",
        "*Quantile Analysis: This would let me select any quantile near the bottom and effectively fit a model to represent it. *\n",
        "\n",
        "**2.)  You are studying tech companies and their patterns in releasing new products, and would like to be able to model and predict when a new product is likely to be launched.**\n",
        "\n",
        "*Survival Analysis: The redesign/refresh cycle of product development and release follows a lifecycle pattern that would be well modeled and explored utilizing survival analysis.*\n",
        "\n",
        "**3.)  You are working on modeling expected plant size and yield with a laboratory that is able to capture fantastically detailed physical data about plants, but only of a few dozen plants at a time.**\n",
        "\n",
        "*Ridge Regression: RR has better performance characteristics than other approaches when the sample size is small because it can effectively prevent overfitting through L2 regularization.\" *\n"
      ]
    }
  ]
}