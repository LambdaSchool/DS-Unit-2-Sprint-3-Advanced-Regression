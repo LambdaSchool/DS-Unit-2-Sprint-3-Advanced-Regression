{
 "cells": [
  {
   "cell_type": "markdown",
   "metadata": {
    "colab_type": "text",
    "id": "SV7gaADiicnV"
   },
   "source": [
    "# Lambda School Data Science - Quantile Regression\n",
    "\n",
    "Regressing towards the median - or any quantile - as a way to mitigate outliers and control risk."
   ]
  },
  {
   "cell_type": "markdown",
   "metadata": {
    "colab_type": "text",
    "id": "o2BADEQUirXa"
   },
   "source": [
    "## Assignment - birth weight data\n",
    "\n",
    "Birth weight is a situation where, while the data itself is actually fairly normal and symmetric, our main goal is actually *not* to model mean weight (via OLS), but rather to identify mothers at risk of having children below a certain \"at-risk\" threshold weight.\n",
    "\n",
    "Quantile regression gives us just the tool we need. For the data we are using, see: http://people.reed.edu/~jones/141/BirthWgt.html\n",
    "\n",
    "    bwt: baby's weight in ounces at birth\n",
    "    gestation: duration of pregnancy in days\n",
    "    parity: parity indicator (first born = 1, later birth = 0)\n",
    "    age: mother's age in years\n",
    "    height: mother's height in inches\n",
    "    weight: mother's weight in pounds (during pregnancy)\n",
    "    smoke: indicator for whether mother smokes (1=yes, 0=no) \n",
    "    \n",
    "Use this data and `statsmodels` to fit a quantile regression, predicting `bwt` (birth weight) as a function of the other covariates. First, identify an appropriate `q` (quantile) to target a cutoff of 90 ounces - babies above that birth weight are generally healthy/safe, babies below are at-risk.\n",
    "\n",
    "Then, fit and iterate your model. Be creative! You may want to engineer features. Hint - mother's age likely is not simply linear in its impact, and the other features may interact as well.\n",
    "\n",
    "At the end, create at least *2* tables and *1* visualization to summarize your best model. Then (in writing) answer the following questions:\n",
    "\n",
    "- What characteristics of a mother indicate the highest likelihood of an at-risk (low weight) baby?\n",
    "- What can expectant mothers be told to help mitigate this risk?\n",
    "\n",
    "Note that second question is not exactly a data science question - and that's okay! You're not expected to be a medical expert, but it is a good exercise to do a little bit of digging into a particular domain and offer informal but informed opinions."
   ]
  },
  {
   "cell_type": "code",
   "execution_count": 1,
   "metadata": {},
   "outputs": [],
   "source": [
    "import pandas as pd\n",
    "import numpy as np\n",
    "import matplotlib.pyplot as plt\n",
    "import statsmodels.formula.api as smf\n",
    "from sklearn.linear_model import LinearRegression\n",
    "import scipy.stats as stats\n",
    "import seaborn as sns"
   ]
  },
  {
   "cell_type": "markdown",
   "metadata": {},
   "source": [
    "## Data import and cleanup"
   ]
  },
  {
   "cell_type": "code",
   "execution_count": 2,
   "metadata": {
    "colab": {
     "base_uri": "https://localhost:8080/",
     "height": 206
    },
    "colab_type": "code",
    "id": "HUWKv16FjZsY",
    "outputId": "11f1ecab-4058-4e48-ac0f-cd7cf488a2f7"
   },
   "outputs": [
    {
     "name": "stdout",
     "output_type": "stream",
     "text": [
      "(1174, 7)\n"
     ]
    },
    {
     "data": {
      "text/html": [
       "<div>\n",
       "<style scoped>\n",
       "    .dataframe tbody tr th:only-of-type {\n",
       "        vertical-align: middle;\n",
       "    }\n",
       "\n",
       "    .dataframe tbody tr th {\n",
       "        vertical-align: top;\n",
       "    }\n",
       "\n",
       "    .dataframe thead th {\n",
       "        text-align: right;\n",
       "    }\n",
       "</style>\n",
       "<table border=\"1\" class=\"dataframe\">\n",
       "  <thead>\n",
       "    <tr style=\"text-align: right;\">\n",
       "      <th></th>\n",
       "      <th>bwt</th>\n",
       "      <th>gestation</th>\n",
       "      <th>parity</th>\n",
       "      <th>age</th>\n",
       "      <th>height</th>\n",
       "      <th>weight</th>\n",
       "      <th>smoke</th>\n",
       "    </tr>\n",
       "  </thead>\n",
       "  <tbody>\n",
       "    <tr>\n",
       "      <th>0</th>\n",
       "      <td>120</td>\n",
       "      <td>284</td>\n",
       "      <td>0</td>\n",
       "      <td>27</td>\n",
       "      <td>62</td>\n",
       "      <td>100</td>\n",
       "      <td>0</td>\n",
       "    </tr>\n",
       "    <tr>\n",
       "      <th>1</th>\n",
       "      <td>113</td>\n",
       "      <td>282</td>\n",
       "      <td>0</td>\n",
       "      <td>33</td>\n",
       "      <td>64</td>\n",
       "      <td>135</td>\n",
       "      <td>0</td>\n",
       "    </tr>\n",
       "    <tr>\n",
       "      <th>2</th>\n",
       "      <td>128</td>\n",
       "      <td>279</td>\n",
       "      <td>0</td>\n",
       "      <td>28</td>\n",
       "      <td>64</td>\n",
       "      <td>115</td>\n",
       "      <td>1</td>\n",
       "    </tr>\n",
       "    <tr>\n",
       "      <th>3</th>\n",
       "      <td>108</td>\n",
       "      <td>282</td>\n",
       "      <td>0</td>\n",
       "      <td>23</td>\n",
       "      <td>67</td>\n",
       "      <td>125</td>\n",
       "      <td>1</td>\n",
       "    </tr>\n",
       "    <tr>\n",
       "      <th>4</th>\n",
       "      <td>136</td>\n",
       "      <td>286</td>\n",
       "      <td>0</td>\n",
       "      <td>25</td>\n",
       "      <td>62</td>\n",
       "      <td>93</td>\n",
       "      <td>0</td>\n",
       "    </tr>\n",
       "  </tbody>\n",
       "</table>\n",
       "</div>"
      ],
      "text/plain": [
       "   bwt  gestation  parity  age  height  weight  smoke\n",
       "0  120        284       0   27      62     100      0\n",
       "1  113        282       0   33      64     135      0\n",
       "2  128        279       0   28      64     115      1\n",
       "3  108        282       0   23      67     125      1\n",
       "4  136        286       0   25      62      93      0"
      ]
     },
     "execution_count": 2,
     "metadata": {},
     "output_type": "execute_result"
    }
   ],
   "source": [
    "bwt_df = pd.read_csv('http://people.reed.edu/~jones/141/Bwt.dat')\n",
    "print(bwt_df.shape)\n",
    "bwt_df.head()"
   ]
  },
  {
   "cell_type": "code",
   "execution_count": 3,
   "metadata": {
    "colab": {
     "base_uri": "https://localhost:8080/",
     "height": 300
    },
    "colab_type": "code",
    "id": "dy5FkUZpkJT_",
    "outputId": "d4f46328-8e25-4fa5-e5b5-6ffad654c65c"
   },
   "outputs": [
    {
     "data": {
      "text/html": [
       "<div>\n",
       "<style scoped>\n",
       "    .dataframe tbody tr th:only-of-type {\n",
       "        vertical-align: middle;\n",
       "    }\n",
       "\n",
       "    .dataframe tbody tr th {\n",
       "        vertical-align: top;\n",
       "    }\n",
       "\n",
       "    .dataframe thead th {\n",
       "        text-align: right;\n",
       "    }\n",
       "</style>\n",
       "<table border=\"1\" class=\"dataframe\">\n",
       "  <thead>\n",
       "    <tr style=\"text-align: right;\">\n",
       "      <th></th>\n",
       "      <th>bwt</th>\n",
       "      <th>gestation</th>\n",
       "      <th>parity</th>\n",
       "      <th>age</th>\n",
       "      <th>height</th>\n",
       "      <th>weight</th>\n",
       "      <th>smoke</th>\n",
       "    </tr>\n",
       "  </thead>\n",
       "  <tbody>\n",
       "    <tr>\n",
       "      <th>count</th>\n",
       "      <td>1174.000000</td>\n",
       "      <td>1174.000000</td>\n",
       "      <td>1174.000000</td>\n",
       "      <td>1174.000000</td>\n",
       "      <td>1174.000000</td>\n",
       "      <td>1174.000000</td>\n",
       "      <td>1174.000000</td>\n",
       "    </tr>\n",
       "    <tr>\n",
       "      <th>mean</th>\n",
       "      <td>119.462521</td>\n",
       "      <td>279.101363</td>\n",
       "      <td>0.262351</td>\n",
       "      <td>27.228279</td>\n",
       "      <td>64.049404</td>\n",
       "      <td>128.478705</td>\n",
       "      <td>0.390971</td>\n",
       "    </tr>\n",
       "    <tr>\n",
       "      <th>std</th>\n",
       "      <td>18.328671</td>\n",
       "      <td>16.010305</td>\n",
       "      <td>0.440100</td>\n",
       "      <td>5.817839</td>\n",
       "      <td>2.526102</td>\n",
       "      <td>20.734282</td>\n",
       "      <td>0.488176</td>\n",
       "    </tr>\n",
       "    <tr>\n",
       "      <th>min</th>\n",
       "      <td>55.000000</td>\n",
       "      <td>148.000000</td>\n",
       "      <td>0.000000</td>\n",
       "      <td>15.000000</td>\n",
       "      <td>53.000000</td>\n",
       "      <td>87.000000</td>\n",
       "      <td>0.000000</td>\n",
       "    </tr>\n",
       "    <tr>\n",
       "      <th>25%</th>\n",
       "      <td>108.000000</td>\n",
       "      <td>272.000000</td>\n",
       "      <td>0.000000</td>\n",
       "      <td>23.000000</td>\n",
       "      <td>62.000000</td>\n",
       "      <td>114.250000</td>\n",
       "      <td>0.000000</td>\n",
       "    </tr>\n",
       "    <tr>\n",
       "      <th>50%</th>\n",
       "      <td>120.000000</td>\n",
       "      <td>280.000000</td>\n",
       "      <td>0.000000</td>\n",
       "      <td>26.000000</td>\n",
       "      <td>64.000000</td>\n",
       "      <td>125.000000</td>\n",
       "      <td>0.000000</td>\n",
       "    </tr>\n",
       "    <tr>\n",
       "      <th>75%</th>\n",
       "      <td>131.000000</td>\n",
       "      <td>288.000000</td>\n",
       "      <td>1.000000</td>\n",
       "      <td>31.000000</td>\n",
       "      <td>66.000000</td>\n",
       "      <td>139.000000</td>\n",
       "      <td>1.000000</td>\n",
       "    </tr>\n",
       "    <tr>\n",
       "      <th>max</th>\n",
       "      <td>176.000000</td>\n",
       "      <td>353.000000</td>\n",
       "      <td>1.000000</td>\n",
       "      <td>45.000000</td>\n",
       "      <td>72.000000</td>\n",
       "      <td>250.000000</td>\n",
       "      <td>1.000000</td>\n",
       "    </tr>\n",
       "  </tbody>\n",
       "</table>\n",
       "</div>"
      ],
      "text/plain": [
       "               bwt    gestation       parity          age       height  \\\n",
       "count  1174.000000  1174.000000  1174.000000  1174.000000  1174.000000   \n",
       "mean    119.462521   279.101363     0.262351    27.228279    64.049404   \n",
       "std      18.328671    16.010305     0.440100     5.817839     2.526102   \n",
       "min      55.000000   148.000000     0.000000    15.000000    53.000000   \n",
       "25%     108.000000   272.000000     0.000000    23.000000    62.000000   \n",
       "50%     120.000000   280.000000     0.000000    26.000000    64.000000   \n",
       "75%     131.000000   288.000000     1.000000    31.000000    66.000000   \n",
       "max     176.000000   353.000000     1.000000    45.000000    72.000000   \n",
       "\n",
       "            weight        smoke  \n",
       "count  1174.000000  1174.000000  \n",
       "mean    128.478705     0.390971  \n",
       "std      20.734282     0.488176  \n",
       "min      87.000000     0.000000  \n",
       "25%     114.250000     0.000000  \n",
       "50%     125.000000     0.000000  \n",
       "75%     139.000000     1.000000  \n",
       "max     250.000000     1.000000  "
      ]
     },
     "execution_count": 3,
     "metadata": {},
     "output_type": "execute_result"
    }
   ],
   "source": [
    "bwt_df.describe()"
   ]
  },
  {
   "cell_type": "code",
   "execution_count": 4,
   "metadata": {
    "colab": {},
    "colab_type": "code",
    "id": "Ez8qPLojjlFf"
   },
   "outputs": [
    {
     "name": "stdout",
     "output_type": "stream",
     "text": [
      "<class 'pandas.core.frame.DataFrame'>\n",
      "RangeIndex: 1174 entries, 0 to 1173\n",
      "Data columns (total 7 columns):\n",
      "bwt          1174 non-null int64\n",
      "gestation    1174 non-null int64\n",
      "parity       1174 non-null int64\n",
      "age          1174 non-null int64\n",
      "height       1174 non-null int64\n",
      "weight       1174 non-null int64\n",
      "smoke        1174 non-null int64\n",
      "dtypes: int64(7)\n",
      "memory usage: 64.3 KB\n"
     ]
    }
   ],
   "source": [
    "bwt_df.info()"
   ]
  },
  {
   "cell_type": "markdown",
   "metadata": {},
   "source": [
    "## Quantile Regression"
   ]
  },
  {
   "cell_type": "code",
   "execution_count": 5,
   "metadata": {},
   "outputs": [
    {
     "data": {
      "text/plain": [
       "<matplotlib.axes._subplots.AxesSubplot at 0x1a22ad7240>"
      ]
     },
     "execution_count": 5,
     "metadata": {},
     "output_type": "execute_result"
    },
    {
     "data": {
      "image/png": "[encoded data removed]",
      "text/plain": [
       "<Figure size 432x288 with 1 Axes>"
      ]
     },
     "metadata": {
      "needs_background": "light"
     },
     "output_type": "display_data"
    }
   ],
   "source": [
    "# Visualize!\n",
    "bwt_df.bwt.hist()"
   ]
  },
  {
   "cell_type": "code",
   "execution_count": 6,
   "metadata": {},
   "outputs": [
    {
     "data": {
      "text/plain": [
       "0.05664395229982964"
      ]
     },
     "execution_count": 6,
     "metadata": {},
     "output_type": "execute_result"
    }
   ],
   "source": [
    "# First, I figure out what quantile corresponds to a birth weight \n",
    "# of 90 oz.\n",
    "q = stats.percentileofscore(bwt_df.bwt, 90)/100\n",
    "q"
   ]
  },
  {
   "cell_type": "code",
   "execution_count": 7,
   "metadata": {},
   "outputs": [
    {
     "name": "stdout",
     "output_type": "stream",
     "text": [
      "bwt ~ gestation + parity + age + height + weight + smoke\n"
     ]
    },
    {
     "name": "stderr",
     "output_type": "stream",
     "text": [
      "/anaconda3/envs/sandbox/lib/python3.7/site-packages/scipy/stats/stats.py:1713: FutureWarning: Using a non-tuple sequence for multidimensional indexing is deprecated; use `arr[tuple(seq)]` instead of `arr[seq]`. In the future this will be interpreted as an array index, `arr[np.array(seq)]`, which will result either in an error or a different result.\n",
      "  return np.add.reduce(sorted[indexer] * weights, axis=axis) / sumval\n"
     ]
    },
    {
     "data": {
      "text/html": [
       "<table class=\"simpletable\">\n",
       "<caption>QuantReg Regression Results</caption>\n",
       "<tr>\n",
       "  <th>Dep. Variable:</th>        <td>bwt</td>       <th>  Pseudo R-squared:  </th> <td>  0.1989</td>\n",
       "</tr>\n",
       "<tr>\n",
       "  <th>Model:</th>             <td>QuantReg</td>     <th>  Bandwidth:         </th> <td>   6.228</td>\n",
       "</tr>\n",
       "<tr>\n",
       "  <th>Method:</th>          <td>Least Squares</td>  <th>  Sparsity:          </th> <td>   132.4</td>\n",
       "</tr>\n",
       "<tr>\n",
       "  <th>Date:</th>          <td>Wed, 23 Jan 2019</td> <th>  No. Observations:  </th>  <td>  1174</td> \n",
       "</tr>\n",
       "<tr>\n",
       "  <th>Time:</th>              <td>14:33:30</td>     <th>  Df Residuals:      </th>  <td>  1167</td> \n",
       "</tr>\n",
       "<tr>\n",
       "  <th> </th>                      <td> </td>        <th>  Df Model:          </th>  <td>     6</td> \n",
       "</tr>\n",
       "</table>\n",
       "<table class=\"simpletable\">\n",
       "<tr>\n",
       "      <td></td>         <th>coef</th>     <th>std err</th>      <th>t</th>      <th>P>|t|</th>  <th>[0.025</th>    <th>0.975]</th>  \n",
       "</tr>\n",
       "<tr>\n",
       "  <th>Intercept</th> <td>  -96.3321</td> <td>   32.589</td> <td>   -2.956</td> <td> 0.003</td> <td> -160.271</td> <td>  -32.393</td>\n",
       "</tr>\n",
       "<tr>\n",
       "  <th>gestation</th> <td>    0.4789</td> <td>    0.089</td> <td>    5.381</td> <td> 0.000</td> <td>    0.304</td> <td>    0.654</td>\n",
       "</tr>\n",
       "<tr>\n",
       "  <th>parity</th>    <td>   -3.2501</td> <td>    2.338</td> <td>   -1.390</td> <td> 0.165</td> <td>   -7.837</td> <td>    1.337</td>\n",
       "</tr>\n",
       "<tr>\n",
       "  <th>age</th>       <td>   -0.0836</td> <td>    0.172</td> <td>   -0.486</td> <td> 0.627</td> <td>   -0.421</td> <td>    0.254</td>\n",
       "</tr>\n",
       "<tr>\n",
       "  <th>height</th>    <td>    1.2308</td> <td>    0.437</td> <td>    2.817</td> <td> 0.005</td> <td>    0.374</td> <td>    2.088</td>\n",
       "</tr>\n",
       "<tr>\n",
       "  <th>weight</th>    <td>   -0.1191</td> <td>    0.058</td> <td>   -2.048</td> <td> 0.041</td> <td>   -0.233</td> <td>   -0.005</td>\n",
       "</tr>\n",
       "<tr>\n",
       "  <th>smoke</th>     <td>   -8.7485</td> <td>    1.855</td> <td>   -4.716</td> <td> 0.000</td> <td>  -12.388</td> <td>   -5.109</td>\n",
       "</tr>\n",
       "</table><br/><br/>The condition number is large, 9.8e+03. This might indicate that there are<br/>strong multicollinearity or other numerical problems."
      ],
      "text/plain": [
       "<class 'statsmodels.iolib.summary.Summary'>\n",
       "\"\"\"\n",
       "                         QuantReg Regression Results                          \n",
       "==============================================================================\n",
       "Dep. Variable:                    bwt   Pseudo R-squared:               0.1989\n",
       "Model:                       QuantReg   Bandwidth:                       6.228\n",
       "Method:                 Least Squares   Sparsity:                        132.4\n",
       "Date:                Wed, 23 Jan 2019   No. Observations:                 1174\n",
       "Time:                        14:33:30   Df Residuals:                     1167\n",
       "                                        Df Model:                            6\n",
       "==============================================================================\n",
       "                 coef    std err          t      P>|t|      [0.025      0.975]\n",
       "------------------------------------------------------------------------------\n",
       "Intercept    -96.3321     32.589     -2.956      0.003    -160.271     -32.393\n",
       "gestation      0.4789      0.089      5.381      0.000       0.304       0.654\n",
       "parity        -3.2501      2.338     -1.390      0.165      -7.837       1.337\n",
       "age           -0.0836      0.172     -0.486      0.627      -0.421       0.254\n",
       "height         1.2308      0.437      2.817      0.005       0.374       2.088\n",
       "weight        -0.1191      0.058     -2.048      0.041      -0.233      -0.005\n",
       "smoke         -8.7485      1.855     -4.716      0.000     -12.388      -5.109\n",
       "==============================================================================\n",
       "\n",
       "The condition number is large, 9.8e+03. This might indicate that there are\n",
       "strong multicollinearity or other numerical problems.\n",
       "\"\"\""
      ]
     },
     "execution_count": 7,
     "metadata": {},
     "output_type": "execute_result"
    }
   ],
   "source": [
    "# Now let's construct the formula string using all columns\n",
    "quant_formula = 'bwt ~ ' + ' + '.join(bwt_df.drop('bwt', axis='columns').columns)\n",
    "print(quant_formula)\n",
    "\n",
    "quant_mod = smf.quantreg(quant_formula, data=bwt_df)\n",
    "quant_reg = quant_mod.fit(q=q)\n",
    "quant_reg.summary()  # \"summary\" is another very R-thing"
   ]
  },
  {
   "cell_type": "code",
   "execution_count": 31,
   "metadata": {},
   "outputs": [
    {
     "name": "stdout",
     "output_type": "stream",
     "text": [
      "Intercept   : -80.41\n",
      "\n",
      "Coefficients:\n",
      "\n",
      "   gestation: 0.4440\n",
      "      parity: -3.3272\n",
      "         age: -0.0090\n",
      "      height: 1.1540\n",
      "      weight: 0.0502\n",
      "       smoke: -8.4007\n"
     ]
    }
   ],
   "source": [
    "# Quick check to see if Linear Regression results look similar\n",
    "X = bwt_df.drop('bwt', axis='columns')\n",
    "y = bwt_df['bwt']\n",
    "\n",
    "linear_reg = LinearRegression().fit(X, y)\n",
    "linear_reg.score(X, y)\n",
    "\n",
    "coefficients = linear_reg.coef_    # array\n",
    "intercept = linear_reg.intercept_\n",
    "\n",
    "print(f\"Intercept   : {intercept:.2f}\")\n",
    "print(\"\\nCoefficients:\\n\")\n",
    "for var, coef in zip(X.columns, coefficients):\n",
    "    print(f'{var:>12}: {coef:.4f}')"
   ]
  },
  {
   "cell_type": "markdown",
   "metadata": {},
   "source": [
    "Sure enough, even lots of the coefficients look just the same."
   ]
  },
  {
   "cell_type": "code",
   "execution_count": 9,
   "metadata": {},
   "outputs": [
    {
     "data": {
      "image/png": "[encoded data removed]",
      "text/plain": [
       "<Figure size 1080x180 with 6 Axes>"
      ]
     },
     "metadata": {},
     "output_type": "display_data"
    }
   ],
   "source": [
    "# Let's visualize to see if there's any obvious nonlinear relationships\n",
    "X = bwt_df.drop(columns='bwt')\n",
    "\n",
    "sns.set(style=\"ticks\", color_codes=True)\n",
    "# y_vars and x_vars are lists of column names.\n",
    "sns.pairplot(data=bwt_df, y_vars=['bwt'], x_vars=X.columns)\n",
    "plt.show()"
   ]
  },
  {
   "cell_type": "markdown",
   "metadata": {},
   "source": [
    "## Feature Engineering"
   ]
  },
  {
   "cell_type": "code",
   "execution_count": 20,
   "metadata": {},
   "outputs": [],
   "source": [
    "df2 = bwt_df.copy()\n",
    "# Squared Age\n",
    "df2['BMI'] = df2['weight']*0.454 / (df2['height']*0.0254)**2\n",
    "# Age * weight\n",
    "df2['weight-age'] = df2['weight']*df2['age']\n",
    "# Squared weight\n",
    "df2['age_sq'] = df2['age']**2\n",
    "# BMI\n",
    "df2['weight_sq'] = df2['weight']**2\n",
    "# Squared height\n",
    "df2['height_sq'] = df2['height']**2\n"
   ]
  },
  {
   "cell_type": "code",
   "execution_count": 17,
   "metadata": {},
   "outputs": [
    {
     "data": {
      "text/html": [
       "<div>\n",
       "<style scoped>\n",
       "    .dataframe tbody tr th:only-of-type {\n",
       "        vertical-align: middle;\n",
       "    }\n",
       "\n",
       "    .dataframe tbody tr th {\n",
       "        vertical-align: top;\n",
       "    }\n",
       "\n",
       "    .dataframe thead th {\n",
       "        text-align: right;\n",
       "    }\n",
       "</style>\n",
       "<table border=\"1\" class=\"dataframe\">\n",
       "  <thead>\n",
       "    <tr style=\"text-align: right;\">\n",
       "      <th></th>\n",
       "      <th>bwt</th>\n",
       "      <th>gestation</th>\n",
       "      <th>parity</th>\n",
       "      <th>age</th>\n",
       "      <th>height</th>\n",
       "      <th>weight</th>\n",
       "      <th>smoke</th>\n",
       "      <th>BMI</th>\n",
       "      <th>age_sq</th>\n",
       "      <th>weight_sq</th>\n",
       "      <th>height_sq</th>\n",
       "    </tr>\n",
       "  </thead>\n",
       "  <tbody>\n",
       "    <tr>\n",
       "      <th>0</th>\n",
       "      <td>120</td>\n",
       "      <td>284</td>\n",
       "      <td>0</td>\n",
       "      <td>27</td>\n",
       "      <td>62</td>\n",
       "      <td>100</td>\n",
       "      <td>0</td>\n",
       "      <td>18.306488</td>\n",
       "      <td>729</td>\n",
       "      <td>10000</td>\n",
       "      <td>3844</td>\n",
       "    </tr>\n",
       "    <tr>\n",
       "      <th>1</th>\n",
       "      <td>113</td>\n",
       "      <td>282</td>\n",
       "      <td>0</td>\n",
       "      <td>33</td>\n",
       "      <td>64</td>\n",
       "      <td>135</td>\n",
       "      <td>0</td>\n",
       "      <td>23.193284</td>\n",
       "      <td>1089</td>\n",
       "      <td>18225</td>\n",
       "      <td>4096</td>\n",
       "    </tr>\n",
       "    <tr>\n",
       "      <th>2</th>\n",
       "      <td>128</td>\n",
       "      <td>279</td>\n",
       "      <td>0</td>\n",
       "      <td>28</td>\n",
       "      <td>64</td>\n",
       "      <td>115</td>\n",
       "      <td>1</td>\n",
       "      <td>19.757242</td>\n",
       "      <td>784</td>\n",
       "      <td>13225</td>\n",
       "      <td>4096</td>\n",
       "    </tr>\n",
       "    <tr>\n",
       "      <th>3</th>\n",
       "      <td>108</td>\n",
       "      <td>282</td>\n",
       "      <td>0</td>\n",
       "      <td>23</td>\n",
       "      <td>67</td>\n",
       "      <td>125</td>\n",
       "      <td>1</td>\n",
       "      <td>19.595161</td>\n",
       "      <td>529</td>\n",
       "      <td>15625</td>\n",
       "      <td>4489</td>\n",
       "    </tr>\n",
       "    <tr>\n",
       "      <th>4</th>\n",
       "      <td>136</td>\n",
       "      <td>286</td>\n",
       "      <td>0</td>\n",
       "      <td>25</td>\n",
       "      <td>62</td>\n",
       "      <td>93</td>\n",
       "      <td>0</td>\n",
       "      <td>17.025034</td>\n",
       "      <td>625</td>\n",
       "      <td>8649</td>\n",
       "      <td>3844</td>\n",
       "    </tr>\n",
       "  </tbody>\n",
       "</table>\n",
       "</div>"
      ],
      "text/plain": [
       "   bwt  gestation  parity  age  height  weight  smoke        BMI  age_sq  \\\n",
       "0  120        284       0   27      62     100      0  18.306488     729   \n",
       "1  113        282       0   33      64     135      0  23.193284    1089   \n",
       "2  128        279       0   28      64     115      1  19.757242     784   \n",
       "3  108        282       0   23      67     125      1  19.595161     529   \n",
       "4  136        286       0   25      62      93      0  17.025034     625   \n",
       "\n",
       "   weight_sq  height_sq  \n",
       "0      10000       3844  \n",
       "1      18225       4096  \n",
       "2      13225       4096  \n",
       "3      15625       4489  \n",
       "4       8649       3844  "
      ]
     },
     "execution_count": 17,
     "metadata": {},
     "output_type": "execute_result"
    }
   ],
   "source": [
    "df2.head()"
   ]
  },
  {
   "cell_type": "code",
   "execution_count": 18,
   "metadata": {},
   "outputs": [
    {
     "name": "stdout",
     "output_type": "stream",
     "text": [
      "bwt ~ gestation + parity + age + height + weight + smoke + BMI + age_sq + weight_sq + height_sq\n"
     ]
    },
    {
     "data": {
      "text/html": [
       "<table class=\"simpletable\">\n",
       "<caption>QuantReg Regression Results</caption>\n",
       "<tr>\n",
       "  <th>Dep. Variable:</th>        <td>bwt</td>       <th>  Pseudo R-squared:  </th> <td>  0.2059</td>\n",
       "</tr>\n",
       "<tr>\n",
       "  <th>Model:</th>             <td>QuantReg</td>     <th>  Bandwidth:         </th> <td>   6.264</td>\n",
       "</tr>\n",
       "<tr>\n",
       "  <th>Method:</th>          <td>Least Squares</td>  <th>  Sparsity:          </th> <td>   113.2</td>\n",
       "</tr>\n",
       "<tr>\n",
       "  <th>Date:</th>          <td>Wed, 23 Jan 2019</td> <th>  No. Observations:  </th>  <td>  1174</td> \n",
       "</tr>\n",
       "<tr>\n",
       "  <th>Time:</th>              <td>14:36:06</td>     <th>  Df Residuals:      </th>  <td>  1163</td> \n",
       "</tr>\n",
       "<tr>\n",
       "  <th> </th>                      <td> </td>        <th>  Df Model:          </th>  <td>    10</td> \n",
       "</tr>\n",
       "</table>\n",
       "<table class=\"simpletable\">\n",
       "<tr>\n",
       "      <td></td>         <th>coef</th>     <th>std err</th>      <th>t</th>      <th>P>|t|</th>  <th>[0.025</th>    <th>0.975]</th>  \n",
       "</tr>\n",
       "<tr>\n",
       "  <th>Intercept</th> <td>   -0.0246</td> <td>  381.489</td> <td>-6.44e-05</td> <td> 1.000</td> <td> -748.509</td> <td>  748.460</td>\n",
       "</tr>\n",
       "<tr>\n",
       "  <th>gestation</th> <td>    0.4852</td> <td>    0.078</td> <td>    6.205</td> <td> 0.000</td> <td>    0.332</td> <td>    0.639</td>\n",
       "</tr>\n",
       "<tr>\n",
       "  <th>parity</th>    <td>   -2.9156</td> <td>    2.083</td> <td>   -1.400</td> <td> 0.162</td> <td>   -7.002</td> <td>    1.171</td>\n",
       "</tr>\n",
       "<tr>\n",
       "  <th>age</th>       <td>    0.1397</td> <td>    1.163</td> <td>    0.120</td> <td> 0.904</td> <td>   -2.142</td> <td>    2.421</td>\n",
       "</tr>\n",
       "<tr>\n",
       "  <th>height</th>    <td>   -0.1567</td> <td>   11.105</td> <td>   -0.014</td> <td> 0.989</td> <td>  -21.945</td> <td>   21.631</td>\n",
       "</tr>\n",
       "<tr>\n",
       "  <th>weight</th>    <td>    1.7716</td> <td>    0.604</td> <td>    2.932</td> <td> 0.003</td> <td>    0.586</td> <td>    2.957</td>\n",
       "</tr>\n",
       "<tr>\n",
       "  <th>smoke</th>     <td>   -8.9011</td> <td>    1.632</td> <td>   -5.452</td> <td> 0.000</td> <td>  -12.104</td> <td>   -5.698</td>\n",
       "</tr>\n",
       "<tr>\n",
       "  <th>BMI</th>       <td>   -5.2305</td> <td>    2.539</td> <td>   -2.060</td> <td> 0.040</td> <td>  -10.212</td> <td>   -0.249</td>\n",
       "</tr>\n",
       "<tr>\n",
       "  <th>age_sq</th>    <td>   -0.0054</td> <td>    0.019</td> <td>   -0.276</td> <td> 0.783</td> <td>   -0.044</td> <td>    0.033</td>\n",
       "</tr>\n",
       "<tr>\n",
       "  <th>weight_sq</th> <td>   -0.0034</td> <td>    0.001</td> <td>   -3.932</td> <td> 0.000</td> <td>   -0.005</td> <td>   -0.002</td>\n",
       "</tr>\n",
       "<tr>\n",
       "  <th>height_sq</th> <td>   -0.0194</td> <td>    0.082</td> <td>   -0.238</td> <td> 0.812</td> <td>   -0.180</td> <td>    0.141</td>\n",
       "</tr>\n",
       "</table><br/><br/>The condition number is large, 9.07e+06. This might indicate that there are<br/>strong multicollinearity or other numerical problems."
      ],
      "text/plain": [
       "<class 'statsmodels.iolib.summary.Summary'>\n",
       "\"\"\"\n",
       "                         QuantReg Regression Results                          \n",
       "==============================================================================\n",
       "Dep. Variable:                    bwt   Pseudo R-squared:               0.2059\n",
       "Model:                       QuantReg   Bandwidth:                       6.264\n",
       "Method:                 Least Squares   Sparsity:                        113.2\n",
       "Date:                Wed, 23 Jan 2019   No. Observations:                 1174\n",
       "Time:                        14:36:06   Df Residuals:                     1163\n",
       "                                        Df Model:                           10\n",
       "==============================================================================\n",
       "                 coef    std err          t      P>|t|      [0.025      0.975]\n",
       "------------------------------------------------------------------------------\n",
       "Intercept     -0.0246    381.489  -6.44e-05      1.000    -748.509     748.460\n",
       "gestation      0.4852      0.078      6.205      0.000       0.332       0.639\n",
       "parity        -2.9156      2.083     -1.400      0.162      -7.002       1.171\n",
       "age            0.1397      1.163      0.120      0.904      -2.142       2.421\n",
       "height        -0.1567     11.105     -0.014      0.989     -21.945      21.631\n",
       "weight         1.7716      0.604      2.932      0.003       0.586       2.957\n",
       "smoke         -8.9011      1.632     -5.452      0.000     -12.104      -5.698\n",
       "BMI           -5.2305      2.539     -2.060      0.040     -10.212      -0.249\n",
       "age_sq        -0.0054      0.019     -0.276      0.783      -0.044       0.033\n",
       "weight_sq     -0.0034      0.001     -3.932      0.000      -0.005      -0.002\n",
       "height_sq     -0.0194      0.082     -0.238      0.812      -0.180       0.141\n",
       "==============================================================================\n",
       "\n",
       "The condition number is large, 9.07e+06. This might indicate that there are\n",
       "strong multicollinearity or other numerical problems.\n",
       "\"\"\""
      ]
     },
     "execution_count": 18,
     "metadata": {},
     "output_type": "execute_result"
    }
   ],
   "source": [
    "quant_formula = 'bwt ~ ' + ' + '.join(df2.drop('bwt', axis='columns').columns)\n",
    "print(quant_formula)\n",
    "\n",
    "quant_mod = smf.quantreg(quant_formula, data=df2)\n",
    "quant_reg = quant_mod.fit(q=q)\n",
    "quant_reg.summary()  # \"summary\" is another very R-thing"
   ]
  },
  {
   "cell_type": "markdown",
   "metadata": {},
   "source": [
    "## Visualization\n",
    "\n",
    "For lack of anything better to plot, I'm going to create a scatterplot of birth weight vs gestation time and show how different quantile regressions would line up with it. "
   ]
  },
  {
   "cell_type": "code",
   "execution_count": 29,
   "metadata": {},
   "outputs": [
    {
     "name": "stdout",
     "output_type": "stream",
     "text": [
      "bwt ~ gestation + parity + age + height + weight + smoke + BMI + weight-age + age_sq + weight_sq + height_sq\n"
     ]
    },
    {
     "name": "stderr",
     "output_type": "stream",
     "text": [
      "/anaconda3/envs/sandbox/lib/python3.7/site-packages/statsmodels/regression/quantile_regression.py:193: IterationLimitWarning: Maximum number of iterations (1000) reached.\n",
      "  \") reached.\", IterationLimitWarning)\n"
     ]
    },
    {
     "name": "stdout",
     "output_type": "stream",
     "text": [
      "      q         a         b\n",
      "0  0.05 -0.055653  0.508046\n",
      "1  0.15 -0.044725  0.424882\n",
      "2  0.25 -0.034373  0.504735\n",
      "3  0.35 -0.067484  0.459443\n",
      "4  0.45 -0.094015  0.468608\n",
      "5  0.55 -0.107157  0.473647\n",
      "6  0.65 -0.122785  0.446308\n",
      "7  0.75 -0.131908  0.367332\n",
      "8  0.85 -0.100519  0.345839\n",
      "9  0.95 -0.013418  0.417238\n",
      "{'a': 329.4701533952457, 'b': 0.44497515141652433}\n"
     ]
    }
   ],
   "source": [
    "quant_formula = 'bwt ~ ' + ' + '.join(df2.drop('bwt', axis='columns').columns)\n",
    "\n",
    "mod = smf.quantreg(quant_formula, data=df2)\n",
    "\n",
    "# I'll test 10 quantiles between 5% and 95%,\n",
    "quantiles = np.arange(.05, .96, .1)\n",
    "\n",
    "def fit_model(q):\n",
    "    res = mod.fit(q=q)\n",
    "    return [q, res.params['Intercept'], res.params['gestation']]\n",
    "  \n",
    "# Create dataframe of the quantile, intercept, and slope for each quantile\n",
    "models = [fit_model(x) for x in quantiles]\n",
    "models = pd.DataFrame(models, columns=['q', 'a', 'b'])\n",
    "\n",
    "# Create dict of intercept and slope, using linear regression\n",
    "ols = smf.ols(quant_formula, df2).fit()\n",
    "ols = dict(a = ols.params['Intercept'],\n",
    "           b = ols.params['gestation'])\n",
    "\n",
    "print(models)\n",
    "print(ols)\n"
   ]
  },
  {
   "cell_type": "code",
   "execution_count": 38,
   "metadata": {},
   "outputs": [
    {
     "data": {
      "text/plain": [
       "Text(0.5,1,'Quantile vs. Linear Regression')"
      ]
     },
     "execution_count": 38,
     "metadata": {},
     "output_type": "execute_result"
    },
    {
     "data": {
      "image/png": "[encoded data removed]",
      "text/plain": [
       "<Figure size 576x432 with 1 Axes>"
      ]
     },
     "metadata": {},
     "output_type": "display_data"
    }
   ],
   "source": [
    "# Plot all the lines corresponding to the linear and quantile regression\n",
    "x = np.arange(df2.gestation.min(), df2.gestation.max(), 50)\n",
    "get_y = lambda a, b: a + b * x\n",
    "\n",
    "fig, ax = plt.subplots(figsize=(8, 6))\n",
    "\n",
    "for i in range(models.shape[0]):\n",
    "    y = get_y(models.a[i], models.b[i])\n",
    "    ax.plot(x, y, linestyle='dotted', color='grey')\n",
    "    \n",
    "# For some reason that I can't figure out, the intercept for the linear regression is \n",
    "# totally wrong.  I'll replace it with 0, which is close to the intercept from the\n",
    "# quantile regression\n",
    "y = get_y(0, ols['b'])\n",
    "ax.plot(x, y, color='red', label='OLS')\n",
    "ax.scatter(df2.gestation, df2.bwt, alpha=.2)\n",
    "legend = ax.legend()\n",
    "ax.set_xlabel('Gestation', fontsize=16)\n",
    "ax.set_ylabel('Birth Weight', fontsize=16);\n",
    "plt.title('Quantile vs. Linear Regression', fontsize=20);"
   ]
  },
  {
   "cell_type": "markdown",
   "metadata": {},
   "source": [
    "# Tables revisited"
   ]
  },
  {
   "cell_type": "code",
   "execution_count": 43,
   "metadata": {},
   "outputs": [
    {
     "name": "stdout",
     "output_type": "stream",
     "text": [
      "                         QuantReg Regression Results                          \n",
      "==============================================================================\n",
      "Dep. Variable:                    bwt   Pseudo R-squared:               0.1989\n",
      "Model:                       QuantReg   Bandwidth:                       6.228\n",
      "Method:                 Least Squares   Sparsity:                        132.4\n",
      "Date:                Wed, 23 Jan 2019   No. Observations:                 1174\n",
      "Time:                        15:41:16   Df Residuals:                     1167\n",
      "                                        Df Model:                            6\n",
      "==============================================================================\n",
      "                 coef    std err          t      P>|t|      [0.025      0.975]\n",
      "------------------------------------------------------------------------------\n",
      "Intercept    -96.3321     32.589     -2.956      0.003    -160.271     -32.393\n",
      "gestation      0.4789      0.089      5.381      0.000       0.304       0.654\n",
      "parity        -3.2501      2.338     -1.390      0.165      -7.837       1.337\n",
      "age           -0.0836      0.172     -0.486      0.627      -0.421       0.254\n",
      "height         1.2308      0.437      2.817      0.005       0.374       2.088\n",
      "weight        -0.1191      0.058     -2.048      0.041      -0.233      -0.005\n",
      "smoke         -8.7485      1.855     -4.716      0.000     -12.388      -5.109\n",
      "==============================================================================\n",
      "\n",
      "The condition number is large, 9.8e+03. This might indicate that there are\n",
      "strong multicollinearity or other numerical problems.\n"
     ]
    }
   ],
   "source": [
    "# Table with original features\n",
    "q = stats.percentileofscore(bwt_df.bwt, 90)/100\n",
    "quant_formula = 'bwt ~ ' + ' + '.join(bwt_df.drop('bwt', axis='columns').columns)\n",
    "quant_mod = smf.quantreg(quant_formula, data=bwt_df)\n",
    "quant_reg = quant_mod.fit(q=q)\n",
    "print(quant_reg.summary())  # \"summary\" is another very R-thing"
   ]
  },
  {
   "cell_type": "code",
   "execution_count": 44,
   "metadata": {},
   "outputs": [
    {
     "name": "stdout",
     "output_type": "stream",
     "text": [
      "                         QuantReg Regression Results                          \n",
      "==============================================================================\n",
      "Dep. Variable:                    bwt   Pseudo R-squared:               0.2059\n",
      "Model:                       QuantReg   Bandwidth:                       6.270\n",
      "Method:                 Least Squares   Sparsity:                        112.9\n",
      "Date:                Wed, 23 Jan 2019   No. Observations:                 1174\n",
      "Time:                        15:41:18   Df Residuals:                     1164\n",
      "                                        Df Model:                            9\n",
      "==============================================================================\n",
      "                 coef    std err          t      P>|t|      [0.025      0.975]\n",
      "------------------------------------------------------------------------------\n",
      "Intercept     -0.0275    381.415  -7.21e-05      1.000    -748.364     748.309\n",
      "gestation      0.4879      0.078      6.258      0.000       0.335       0.641\n",
      "parity        -3.0175      1.969     -1.533      0.126      -6.880       0.845\n",
      "height        -0.0768     11.087     -0.007      0.994     -21.830      21.676\n",
      "weight         1.7773      0.603      2.945      0.003       0.593       2.961\n",
      "smoke         -8.9977      1.629     -5.523      0.000     -12.194      -5.801\n",
      "BMI           -5.2903      2.548     -2.076      0.038     -10.290      -0.291\n",
      "age_sq        -0.0029      0.003     -1.120      0.263      -0.008       0.002\n",
      "weight_sq     -0.0034      0.001     -3.927      0.000      -0.005      -0.002\n",
      "height_sq     -0.0203      0.081     -0.249      0.803      -0.180       0.139\n",
      "==============================================================================\n",
      "\n",
      "The condition number is large, 9.03e+06. This might indicate that there are\n",
      "strong multicollinearity or other numerical problems.\n"
     ]
    }
   ],
   "source": [
    "# Table with engineered features\n",
    "quant_formula = 'bwt ~ ' + ' + '.join(df2.drop('bwt', axis='columns').columns)\n",
    "quant_mod = smf.quantreg(quant_formula, data=df2)\n",
    "quant_reg = quant_mod.fit(q=q)\n",
    "print(quant_reg.summary()) # \"summary\" is another very R-thing"
   ]
  },
  {
   "cell_type": "markdown",
   "metadata": {},
   "source": [
    "# Conclusions\n",
    "\n",
    "### What characteristics of a mother indicate the highest likelihood of an at-risk (low weight) baby?\n",
    "Smoking status is the worst by far.  It shows up in both versions of my regression, has a really large coefficient, and is definitely significant. Height appears to have an effect when I run the original variables; adding engineered variables shows that actually height on its own doesn't matter, but BMI does. Weight is slightly significant in the original, and the engineered variables show that both weight and weight^2 are significant (especially weight^2).  This suggests that weight is important, and *especially* important when the weight is excessive.  To my surprise, age does not appear to be significant, and neither is age^2.\n",
    "\n",
    "### What can expectant mothers be told to help mitigate this risk?\n",
    "The main advice, as in many cases, is keep your weight under control and DO NOT SMOKE. Oh, and things will be easier after the first pregnancy. Stay strong!"
   ]
  },
  {
   "cell_type": "markdown",
   "metadata": {
    "colab_type": "text",
    "id": "XY9JGAnJisdB"
   },
   "source": [
    "## Resources and stretch goals"
   ]
  },
  {
   "cell_type": "markdown",
   "metadata": {
    "colab_type": "text",
    "id": "inFWXSpqmND5"
   },
   "source": [
    "Resources:\n",
    "- [statsmodels QuantReg example](http://www.statsmodels.org/dev/examples/notebooks/generated/quantile_regression.html)\n",
    "- [How Shopify used Quantile Regression in modeling risk](https://medium.com/data-shopify/how-shopify-capital-uses-quantile-regression-to-help-merchants-succeed-10ee1b36b17d)\n",
    "\n",
    "Stretch goals:\n",
    "- Find a dataset where you think quantile regression may be appropriate, and try both it and linear regression - compare/contrast their strengths/weaknesses, and write a summary for which you think is better for the situation and why\n",
    "- Check out [deep quantile regression](https://www.kdnuggets.com/2018/07/deep-quantile-regression.html), an approach that uses a custom quantile loss function and Keras to train a quantile model"
   ]
  }
 ],
 "metadata": {
  "colab": {
   "name": "LS_DS_233_Quantile_Regression.ipynb",
   "provenance": [],
   "version": "0.3.2"
  },
  "kernelspec": {
   "display_name": "Python 3",
   "language": "python",
   "name": "python3"
  },
  "language_info": {
   "codemirror_mode": {
    "name": "ipython",
    "version": 3
   },
   "file_extension": ".py",
   "mimetype": "text/x-python",
   "name": "python",
   "nbconvert_exporter": "python",
   "pygments_lexer": "ipython3",
   "version": "3.7.1"
  }
 },
 "nbformat": 4,
 "nbformat_minor": 1
}
