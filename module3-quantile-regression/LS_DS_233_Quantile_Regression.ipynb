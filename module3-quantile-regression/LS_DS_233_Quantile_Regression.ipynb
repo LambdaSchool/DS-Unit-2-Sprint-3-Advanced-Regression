{
 "cells": [
  {
   "cell_type": "markdown",
   "metadata": {
    "colab_type": "text",
    "id": "SV7gaADiicnV"
   },
   "source": [
    "# Lambda School Data Science - Quantile Regression\n",
    "\n",
    "Regressing towards the median - or any quantile - as a way to mitigate outliers and control risk."
   ]
  },
  {
   "cell_type": "markdown",
   "metadata": {
    "colab_type": "text",
    "id": "6klMj4q3iqMh"
   },
   "source": [
    "## Lecture\n",
    "\n",
    "Let's look at data that has a bit of a skew to it:\n",
    "\n",
    "http://archive.ics.uci.edu/ml/datasets/Beijing+PM2.5+Data"
   ]
  },
  {
   "cell_type": "code",
   "execution_count": 6,
   "metadata": {
    "colab": {},
    "colab_type": "code",
    "id": "yw1AD_z9O0xL"
   },
   "outputs": [],
   "source": [
    "import pandas as pd\n",
    "df = pd.read_csv('http://archive.ics.uci.edu/ml/machine-learning-databases/'\n",
    "                 '00381/PRSA_data_2010.1.1-2014.12.31.csv')"
   ]
  },
  {
   "cell_type": "code",
   "execution_count": 7,
   "metadata": {
    "colab": {
     "base_uri": "https://localhost:8080/",
     "height": 206
    },
    "colab_type": "code",
    "id": "RTlH1lJ8PDv5",
    "outputId": "e073db49-81bd-4ebd-f43b-69c92aea8467"
   },
   "outputs": [
    {
     "data": {
      "text/html": [
       "<div>\n",
       "<style scoped>\n",
       "    .dataframe tbody tr th:only-of-type {\n",
       "        vertical-align: middle;\n",
       "    }\n",
       "\n",
       "    .dataframe tbody tr th {\n",
       "        vertical-align: top;\n",
       "    }\n",
       "\n",
       "    .dataframe thead th {\n",
       "        text-align: right;\n",
       "    }\n",
       "</style>\n",
       "<table border=\"1\" class=\"dataframe\">\n",
       "  <thead>\n",
       "    <tr style=\"text-align: right;\">\n",
       "      <th></th>\n",
       "      <th>No</th>\n",
       "      <th>year</th>\n",
       "      <th>month</th>\n",
       "      <th>day</th>\n",
       "      <th>hour</th>\n",
       "      <th>pm2.5</th>\n",
       "      <th>DEWP</th>\n",
       "      <th>TEMP</th>\n",
       "      <th>PRES</th>\n",
       "      <th>cbwd</th>\n",
       "      <th>Iws</th>\n",
       "      <th>Is</th>\n",
       "      <th>Ir</th>\n",
       "    </tr>\n",
       "  </thead>\n",
       "  <tbody>\n",
       "    <tr>\n",
       "      <th>0</th>\n",
       "      <td>1</td>\n",
       "      <td>2010</td>\n",
       "      <td>1</td>\n",
       "      <td>1</td>\n",
       "      <td>0</td>\n",
       "      <td>NaN</td>\n",
       "      <td>-21</td>\n",
       "      <td>-11.0</td>\n",
       "      <td>1021.0</td>\n",
       "      <td>NW</td>\n",
       "      <td>1.79</td>\n",
       "      <td>0</td>\n",
       "      <td>0</td>\n",
       "    </tr>\n",
       "    <tr>\n",
       "      <th>1</th>\n",
       "      <td>2</td>\n",
       "      <td>2010</td>\n",
       "      <td>1</td>\n",
       "      <td>1</td>\n",
       "      <td>1</td>\n",
       "      <td>NaN</td>\n",
       "      <td>-21</td>\n",
       "      <td>-12.0</td>\n",
       "      <td>1020.0</td>\n",
       "      <td>NW</td>\n",
       "      <td>4.92</td>\n",
       "      <td>0</td>\n",
       "      <td>0</td>\n",
       "    </tr>\n",
       "    <tr>\n",
       "      <th>2</th>\n",
       "      <td>3</td>\n",
       "      <td>2010</td>\n",
       "      <td>1</td>\n",
       "      <td>1</td>\n",
       "      <td>2</td>\n",
       "      <td>NaN</td>\n",
       "      <td>-21</td>\n",
       "      <td>-11.0</td>\n",
       "      <td>1019.0</td>\n",
       "      <td>NW</td>\n",
       "      <td>6.71</td>\n",
       "      <td>0</td>\n",
       "      <td>0</td>\n",
       "    </tr>\n",
       "    <tr>\n",
       "      <th>3</th>\n",
       "      <td>4</td>\n",
       "      <td>2010</td>\n",
       "      <td>1</td>\n",
       "      <td>1</td>\n",
       "      <td>3</td>\n",
       "      <td>NaN</td>\n",
       "      <td>-21</td>\n",
       "      <td>-14.0</td>\n",
       "      <td>1019.0</td>\n",
       "      <td>NW</td>\n",
       "      <td>9.84</td>\n",
       "      <td>0</td>\n",
       "      <td>0</td>\n",
       "    </tr>\n",
       "    <tr>\n",
       "      <th>4</th>\n",
       "      <td>5</td>\n",
       "      <td>2010</td>\n",
       "      <td>1</td>\n",
       "      <td>1</td>\n",
       "      <td>4</td>\n",
       "      <td>NaN</td>\n",
       "      <td>-20</td>\n",
       "      <td>-12.0</td>\n",
       "      <td>1018.0</td>\n",
       "      <td>NW</td>\n",
       "      <td>12.97</td>\n",
       "      <td>0</td>\n",
       "      <td>0</td>\n",
       "    </tr>\n",
       "  </tbody>\n",
       "</table>\n",
       "</div>"
      ],
      "text/plain": [
       "   No  year  month  day  hour  pm2.5  DEWP  TEMP    PRES cbwd    Iws  Is  Ir\n",
       "0   1  2010      1    1     0    NaN   -21 -11.0  1021.0   NW   1.79   0   0\n",
       "1   2  2010      1    1     1    NaN   -21 -12.0  1020.0   NW   4.92   0   0\n",
       "2   3  2010      1    1     2    NaN   -21 -11.0  1019.0   NW   6.71   0   0\n",
       "3   4  2010      1    1     3    NaN   -21 -14.0  1019.0   NW   9.84   0   0\n",
       "4   5  2010      1    1     4    NaN   -20 -12.0  1018.0   NW  12.97   0   0"
      ]
     },
     "execution_count": 7,
     "metadata": {},
     "output_type": "execute_result"
    }
   ],
   "source": [
    "df.head()"
   ]
  },
  {
   "cell_type": "code",
   "execution_count": 8,
   "metadata": {
    "colab": {
     "base_uri": "https://localhost:8080/",
     "height": 320
    },
    "colab_type": "code",
    "id": "m-yC9OSPPFo8",
    "outputId": "d5602fe7-31ad-458e-d466-212c99e51cf4"
   },
   "outputs": [
    {
     "data": {
      "text/html": [
       "<div>\n",
       "<style scoped>\n",
       "    .dataframe tbody tr th:only-of-type {\n",
       "        vertical-align: middle;\n",
       "    }\n",
       "\n",
       "    .dataframe tbody tr th {\n",
       "        vertical-align: top;\n",
       "    }\n",
       "\n",
       "    .dataframe thead th {\n",
       "        text-align: right;\n",
       "    }\n",
       "</style>\n",
       "<table border=\"1\" class=\"dataframe\">\n",
       "  <thead>\n",
       "    <tr style=\"text-align: right;\">\n",
       "      <th></th>\n",
       "      <th>No</th>\n",
       "      <th>year</th>\n",
       "      <th>month</th>\n",
       "      <th>day</th>\n",
       "      <th>hour</th>\n",
       "      <th>pm2.5</th>\n",
       "      <th>DEWP</th>\n",
       "      <th>TEMP</th>\n",
       "      <th>PRES</th>\n",
       "      <th>Iws</th>\n",
       "      <th>Is</th>\n",
       "      <th>Ir</th>\n",
       "    </tr>\n",
       "  </thead>\n",
       "  <tbody>\n",
       "    <tr>\n",
       "      <th>count</th>\n",
       "      <td>43824.000000</td>\n",
       "      <td>43824.000000</td>\n",
       "      <td>43824.000000</td>\n",
       "      <td>43824.000000</td>\n",
       "      <td>43824.000000</td>\n",
       "      <td>41757.000000</td>\n",
       "      <td>43824.000000</td>\n",
       "      <td>43824.000000</td>\n",
       "      <td>43824.000000</td>\n",
       "      <td>43824.000000</td>\n",
       "      <td>43824.000000</td>\n",
       "      <td>43824.000000</td>\n",
       "    </tr>\n",
       "    <tr>\n",
       "      <th>mean</th>\n",
       "      <td>21912.500000</td>\n",
       "      <td>2012.000000</td>\n",
       "      <td>6.523549</td>\n",
       "      <td>15.727820</td>\n",
       "      <td>11.500000</td>\n",
       "      <td>98.613215</td>\n",
       "      <td>1.817246</td>\n",
       "      <td>12.448521</td>\n",
       "      <td>1016.447654</td>\n",
       "      <td>23.889140</td>\n",
       "      <td>0.052734</td>\n",
       "      <td>0.194916</td>\n",
       "    </tr>\n",
       "    <tr>\n",
       "      <th>std</th>\n",
       "      <td>12651.043435</td>\n",
       "      <td>1.413842</td>\n",
       "      <td>3.448572</td>\n",
       "      <td>8.799425</td>\n",
       "      <td>6.922266</td>\n",
       "      <td>92.050387</td>\n",
       "      <td>14.433440</td>\n",
       "      <td>12.198613</td>\n",
       "      <td>10.268698</td>\n",
       "      <td>50.010635</td>\n",
       "      <td>0.760375</td>\n",
       "      <td>1.415867</td>\n",
       "    </tr>\n",
       "    <tr>\n",
       "      <th>min</th>\n",
       "      <td>1.000000</td>\n",
       "      <td>2010.000000</td>\n",
       "      <td>1.000000</td>\n",
       "      <td>1.000000</td>\n",
       "      <td>0.000000</td>\n",
       "      <td>0.000000</td>\n",
       "      <td>-40.000000</td>\n",
       "      <td>-19.000000</td>\n",
       "      <td>991.000000</td>\n",
       "      <td>0.450000</td>\n",
       "      <td>0.000000</td>\n",
       "      <td>0.000000</td>\n",
       "    </tr>\n",
       "    <tr>\n",
       "      <th>25%</th>\n",
       "      <td>10956.750000</td>\n",
       "      <td>2011.000000</td>\n",
       "      <td>4.000000</td>\n",
       "      <td>8.000000</td>\n",
       "      <td>5.750000</td>\n",
       "      <td>29.000000</td>\n",
       "      <td>-10.000000</td>\n",
       "      <td>2.000000</td>\n",
       "      <td>1008.000000</td>\n",
       "      <td>1.790000</td>\n",
       "      <td>0.000000</td>\n",
       "      <td>0.000000</td>\n",
       "    </tr>\n",
       "    <tr>\n",
       "      <th>50%</th>\n",
       "      <td>21912.500000</td>\n",
       "      <td>2012.000000</td>\n",
       "      <td>7.000000</td>\n",
       "      <td>16.000000</td>\n",
       "      <td>11.500000</td>\n",
       "      <td>72.000000</td>\n",
       "      <td>2.000000</td>\n",
       "      <td>14.000000</td>\n",
       "      <td>1016.000000</td>\n",
       "      <td>5.370000</td>\n",
       "      <td>0.000000</td>\n",
       "      <td>0.000000</td>\n",
       "    </tr>\n",
       "    <tr>\n",
       "      <th>75%</th>\n",
       "      <td>32868.250000</td>\n",
       "      <td>2013.000000</td>\n",
       "      <td>10.000000</td>\n",
       "      <td>23.000000</td>\n",
       "      <td>17.250000</td>\n",
       "      <td>137.000000</td>\n",
       "      <td>15.000000</td>\n",
       "      <td>23.000000</td>\n",
       "      <td>1025.000000</td>\n",
       "      <td>21.910000</td>\n",
       "      <td>0.000000</td>\n",
       "      <td>0.000000</td>\n",
       "    </tr>\n",
       "    <tr>\n",
       "      <th>max</th>\n",
       "      <td>43824.000000</td>\n",
       "      <td>2014.000000</td>\n",
       "      <td>12.000000</td>\n",
       "      <td>31.000000</td>\n",
       "      <td>23.000000</td>\n",
       "      <td>994.000000</td>\n",
       "      <td>28.000000</td>\n",
       "      <td>42.000000</td>\n",
       "      <td>1046.000000</td>\n",
       "      <td>585.600000</td>\n",
       "      <td>27.000000</td>\n",
       "      <td>36.000000</td>\n",
       "    </tr>\n",
       "  </tbody>\n",
       "</table>\n",
       "</div>"
      ],
      "text/plain": [
       "                 No          year         month           day          hour  \\\n",
       "count  43824.000000  43824.000000  43824.000000  43824.000000  43824.000000   \n",
       "mean   21912.500000   2012.000000      6.523549     15.727820     11.500000   \n",
       "std    12651.043435      1.413842      3.448572      8.799425      6.922266   \n",
       "min        1.000000   2010.000000      1.000000      1.000000      0.000000   \n",
       "25%    10956.750000   2011.000000      4.000000      8.000000      5.750000   \n",
       "50%    21912.500000   2012.000000      7.000000     16.000000     11.500000   \n",
       "75%    32868.250000   2013.000000     10.000000     23.000000     17.250000   \n",
       "max    43824.000000   2014.000000     12.000000     31.000000     23.000000   \n",
       "\n",
       "              pm2.5          DEWP          TEMP          PRES           Iws  \\\n",
       "count  41757.000000  43824.000000  43824.000000  43824.000000  43824.000000   \n",
       "mean      98.613215      1.817246     12.448521   1016.447654     23.889140   \n",
       "std       92.050387     14.433440     12.198613     10.268698     50.010635   \n",
       "min        0.000000    -40.000000    -19.000000    991.000000      0.450000   \n",
       "25%       29.000000    -10.000000      2.000000   1008.000000      1.790000   \n",
       "50%       72.000000      2.000000     14.000000   1016.000000      5.370000   \n",
       "75%      137.000000     15.000000     23.000000   1025.000000     21.910000   \n",
       "max      994.000000     28.000000     42.000000   1046.000000    585.600000   \n",
       "\n",
       "                 Is            Ir  \n",
       "count  43824.000000  43824.000000  \n",
       "mean       0.052734      0.194916  \n",
       "std        0.760375      1.415867  \n",
       "min        0.000000      0.000000  \n",
       "25%        0.000000      0.000000  \n",
       "50%        0.000000      0.000000  \n",
       "75%        0.000000      0.000000  \n",
       "max       27.000000     36.000000  "
      ]
     },
     "execution_count": 8,
     "metadata": {},
     "output_type": "execute_result"
    }
   ],
   "source": [
    "df.describe()"
   ]
  },
  {
   "cell_type": "code",
   "execution_count": 9,
   "metadata": {
    "colab": {
     "base_uri": "https://localhost:8080/",
     "height": 347
    },
    "colab_type": "code",
    "id": "hfV3WisFP_O6",
    "outputId": "a9809666-6c33-4778-fe1c-f3030f89d431"
   },
   "outputs": [
    {
     "data": {
      "image/png": "[encoded data removed]",
      "text/plain": [
       "<Figure size 432x288 with 1 Axes>"
      ]
     },
     "metadata": {
      "needs_background": "light"
     },
     "output_type": "display_data"
    }
   ],
   "source": [
    "df['pm2.5'].plot.hist();"
   ]
  },
  {
   "cell_type": "code",
   "execution_count": 10,
   "metadata": {
    "colab": {
     "base_uri": "https://localhost:8080/",
     "height": 34
    },
    "colab_type": "code",
    "id": "OgbMTAHzQJB8",
    "outputId": "15e18384-ede7-4ccd-8961-280b35f66f85"
   },
   "outputs": [
    {
     "data": {
      "text/plain": [
       "0.2590006399659215"
      ]
     },
     "execution_count": 10,
     "metadata": {},
     "output_type": "execute_result"
    }
   ],
   "source": [
    "# How does linear regression handle it?\n",
    "from sklearn.linear_model import LinearRegression\n",
    "\n",
    "# Let's drop NAs and limit to numeric values\n",
    "df = df._get_numeric_data().dropna()\n",
    "X = df.drop('pm2.5', axis='columns')\n",
    "y = df['pm2.5']\n",
    "\n",
    "linear_reg = LinearRegression().fit(X, y)\n",
    "linear_reg.score(X, y)"
   ]
  },
  {
   "cell_type": "code",
   "execution_count": 12,
   "metadata": {
    "colab": {
     "base_uri": "https://localhost:8080/",
     "height": 462
    },
    "colab_type": "code",
    "id": "-viFFtm0RizM",
    "outputId": "256d7680-1a43-4958-c74c-31aaef917906"
   },
   "outputs": [
    {
     "name": "stdout",
     "output_type": "stream",
     "text": [
      "pm25 ~ No + year + month + day + hour + DEWP + TEMP + PRES + Iws + Is + Ir\n"
     ]
    },
    {
     "data": {
      "text/html": [
       "<table class=\"simpletable\">\n",
       "<caption>QuantReg Regression Results</caption>\n",
       "<tr>\n",
       "  <th>Dep. Variable:</th>       <td>pm25</td>       <th>  Pseudo R-squared:  </th> <td>  0.1600</td>\n",
       "</tr>\n",
       "<tr>\n",
       "  <th>Model:</th>             <td>QuantReg</td>     <th>  Bandwidth:         </th> <td>   8.276</td>\n",
       "</tr>\n",
       "<tr>\n",
       "  <th>Method:</th>          <td>Least Squares</td>  <th>  Sparsity:          </th> <td>   133.8</td>\n",
       "</tr>\n",
       "<tr>\n",
       "  <th>Date:</th>          <td>Wed, 23 Jan 2019</td> <th>  No. Observations:  </th>  <td> 41757</td> \n",
       "</tr>\n",
       "<tr>\n",
       "  <th>Time:</th>              <td>12:26:38</td>     <th>  Df Residuals:      </th>  <td> 41745</td> \n",
       "</tr>\n",
       "<tr>\n",
       "  <th> </th>                      <td> </td>        <th>  Df Model:          </th>  <td>    11</td> \n",
       "</tr>\n",
       "</table>\n",
       "<table class=\"simpletable\">\n",
       "<tr>\n",
       "      <td></td>         <th>coef</th>     <th>std err</th>      <th>t</th>      <th>P>|t|</th>  <th>[0.025</th>    <th>0.975]</th>  \n",
       "</tr>\n",
       "<tr>\n",
       "  <th>Intercept</th> <td>    0.0004</td> <td> 1.67e-05</td> <td>   22.881</td> <td> 0.000</td> <td>    0.000</td> <td>    0.000</td>\n",
       "</tr>\n",
       "<tr>\n",
       "  <th>No</th>        <td>  3.63e-07</td> <td> 2.67e-05</td> <td>    0.014</td> <td> 0.989</td> <td> -5.2e-05</td> <td> 5.27e-05</td>\n",
       "</tr>\n",
       "<tr>\n",
       "  <th>year</th>      <td>    0.8830</td> <td>    0.031</td> <td>   28.631</td> <td> 0.000</td> <td>    0.823</td> <td>    0.943</td>\n",
       "</tr>\n",
       "<tr>\n",
       "  <th>month</th>     <td>   -1.4110</td> <td>    0.103</td> <td>  -13.749</td> <td> 0.000</td> <td>   -1.612</td> <td>   -1.210</td>\n",
       "</tr>\n",
       "<tr>\n",
       "  <th>day</th>       <td>    0.4461</td> <td>    0.037</td> <td>   11.951</td> <td> 0.000</td> <td>    0.373</td> <td>    0.519</td>\n",
       "</tr>\n",
       "<tr>\n",
       "  <th>hour</th>      <td>    1.2810</td> <td>    0.050</td> <td>   25.779</td> <td> 0.000</td> <td>    1.184</td> <td>    1.378</td>\n",
       "</tr>\n",
       "<tr>\n",
       "  <th>DEWP</th>      <td>    3.6362</td> <td>    0.047</td> <td>   77.315</td> <td> 0.000</td> <td>    3.544</td> <td>    3.728</td>\n",
       "</tr>\n",
       "<tr>\n",
       "  <th>TEMP</th>      <td>   -4.7103</td> <td>    0.060</td> <td>  -78.779</td> <td> 0.000</td> <td>   -4.828</td> <td>   -4.593</td>\n",
       "</tr>\n",
       "<tr>\n",
       "  <th>PRES</th>      <td>   -1.6265</td> <td>    0.061</td> <td>  -26.760</td> <td> 0.000</td> <td>   -1.746</td> <td>   -1.507</td>\n",
       "</tr>\n",
       "<tr>\n",
       "  <th>Iws</th>       <td>   -0.1541</td> <td>    0.007</td> <td>  -21.786</td> <td> 0.000</td> <td>   -0.168</td> <td>   -0.140</td>\n",
       "</tr>\n",
       "<tr>\n",
       "  <th>Is</th>        <td>   -1.6322</td> <td>    0.425</td> <td>   -3.838</td> <td> 0.000</td> <td>   -2.466</td> <td>   -0.799</td>\n",
       "</tr>\n",
       "<tr>\n",
       "  <th>Ir</th>        <td>   -5.3946</td> <td>    0.234</td> <td>  -23.034</td> <td> 0.000</td> <td>   -5.854</td> <td>   -4.936</td>\n",
       "</tr>\n",
       "</table><br/><br/>The condition number is large, 3.67e+10. This might indicate that there are<br/>strong multicollinearity or other numerical problems."
      ],
      "text/plain": [
       "<class 'statsmodels.iolib.summary.Summary'>\n",
       "\"\"\"\n",
       "                         QuantReg Regression Results                          \n",
       "==============================================================================\n",
       "Dep. Variable:                   pm25   Pseudo R-squared:               0.1600\n",
       "Model:                       QuantReg   Bandwidth:                       8.276\n",
       "Method:                 Least Squares   Sparsity:                        133.8\n",
       "Date:                Wed, 23 Jan 2019   No. Observations:                41757\n",
       "Time:                        12:26:38   Df Residuals:                    41745\n",
       "                                        Df Model:                           11\n",
       "==============================================================================\n",
       "                 coef    std err          t      P>|t|      [0.025      0.975]\n",
       "------------------------------------------------------------------------------\n",
       "Intercept      0.0004   1.67e-05     22.881      0.000       0.000       0.000\n",
       "No           3.63e-07   2.67e-05      0.014      0.989    -5.2e-05    5.27e-05\n",
       "year           0.8830      0.031     28.631      0.000       0.823       0.943\n",
       "month         -1.4110      0.103    -13.749      0.000      -1.612      -1.210\n",
       "day            0.4461      0.037     11.951      0.000       0.373       0.519\n",
       "hour           1.2810      0.050     25.779      0.000       1.184       1.378\n",
       "DEWP           3.6362      0.047     77.315      0.000       3.544       3.728\n",
       "TEMP          -4.7103      0.060    -78.779      0.000      -4.828      -4.593\n",
       "PRES          -1.6265      0.061    -26.760      0.000      -1.746      -1.507\n",
       "Iws           -0.1541      0.007    -21.786      0.000      -0.168      -0.140\n",
       "Is            -1.6322      0.425     -3.838      0.000      -2.466      -0.799\n",
       "Ir            -5.3946      0.234    -23.034      0.000      -5.854      -4.936\n",
       "==============================================================================\n",
       "\n",
       "The condition number is large, 3.67e+10. This might indicate that there are\n",
       "strong multicollinearity or other numerical problems.\n",
       "\"\"\""
      ]
     },
     "execution_count": 12,
     "metadata": {},
     "output_type": "execute_result"
    }
   ],
   "source": [
    "# Not bad - but what if we wanted to model the distribution more conservatively?\n",
    "# Let's try quantile\n",
    "import statsmodels.formula.api as smf\n",
    "\n",
    "# Different jargon/API in StatsModel documentation\n",
    "# \"endogenous\" response var is dependent (y), it is \"inside\"\n",
    "# \"exogenous\" variables are independent (X), it is \"outside\"\n",
    "# Bonus points - talk about \"exogenous shocks\" and you're a bona fide economist\n",
    "\n",
    "# ~ style formulas look like what R uses\n",
    "# y ~ x1 + x2 + ...\n",
    "# Also, these formulas break with . in variable name, so lets change that\n",
    "df = df.rename(index=str, columns={'pm2.5': 'pm25'})\n",
    "\n",
    "# Now let's construct the formula string using all columns\n",
    "quant_formula = 'pm25 ~ ' + ' + '.join(df.drop('pm25', axis='columns').columns)\n",
    "print(quant_formula)\n",
    "\n",
    "quant_mod = smf.quantreg(quant_formula, data=df)\n",
    "quant_reg = quant_mod.fit(q=.5)\n",
    "quant_reg.summary()  # \"summary\" is another very R-thing"
   ]
  },
  {
   "cell_type": "markdown",
   "metadata": {
    "colab_type": "text",
    "id": "ZBkP4bewd-HT"
   },
   "source": [
    "That fit to the median (q=0.5), also called \"Least Absolute Deviation.\" The pseudo-R^2 isn't really directly comparable to the R^2 from linear regression, but it clearly isn't dramatically improved. Can we make it better?"
   ]
  },
  {
   "cell_type": "code",
   "execution_count": 0,
   "metadata": {
    "colab": {
     "base_uri": "https://localhost:8080/",
     "height": 593
    },
    "colab_type": "code",
    "id": "BgvYeHg3bL4g",
    "outputId": "bf4547a0-7739-45d8-bf5a-26ab1684f7f6"
   },
   "outputs": [
    {
     "name": "stdout",
     "output_type": "stream",
     "text": [
      "Help on method fit in module statsmodels.regression.quantile_regression:\n",
      "\n",
      "fit(q=0.5, vcov='robust', kernel='epa', bandwidth='hsheather', max_iter=1000, p_tol=1e-06, **kwargs) method of statsmodels.regression.quantile_regression.QuantReg instance\n",
      "    Solve by Iterative Weighted Least Squares\n",
      "    \n",
      "    Parameters\n",
      "    ----------\n",
      "    q : float\n",
      "        Quantile must be between 0 and 1\n",
      "    vcov : string, method used to calculate the variance-covariance matrix\n",
      "        of the parameters. Default is ``robust``:\n",
      "    \n",
      "        - robust : heteroskedasticity robust standard errors (as suggested\n",
      "          in Greene 6th edition)\n",
      "        - iid : iid errors (as in Stata 12)\n",
      "    \n",
      "    kernel : string, kernel to use in the kernel density estimation for the\n",
      "        asymptotic covariance matrix:\n",
      "    \n",
      "        - epa: Epanechnikov\n",
      "        - cos: Cosine\n",
      "        - gau: Gaussian\n",
      "        - par: Parzene\n",
      "    \n",
      "    bandwidth: string, Bandwidth selection method in kernel density\n",
      "        estimation for asymptotic covariance estimate (full\n",
      "        references in QuantReg docstring):\n",
      "    \n",
      "        - hsheather: Hall-Sheather (1988)\n",
      "        - bofinger: Bofinger (1975)\n",
      "        - chamberlain: Chamberlain (1994)\n",
      "\n"
     ]
    }
   ],
   "source": [
    "help(quant_mod.fit)"
   ]
  },
  {
   "cell_type": "code",
   "execution_count": 14,
   "metadata": {
    "colab": {
     "base_uri": "https://localhost:8080/",
     "height": 1424
    },
    "colab_type": "code",
    "id": "lpNPioZTei4U",
    "outputId": "40fc70a6-43c5-44a0-a012-923bd3f826a8"
   },
   "outputs": [
    {
     "name": "stdout",
     "output_type": "stream",
     "text": [
      "                         QuantReg Regression Results                          \n",
      "==============================================================================\n",
      "Dep. Variable:                   pm25   Pseudo R-squared:              0.04130\n",
      "Model:                       QuantReg   Bandwidth:                       8.908\n",
      "Method:                 Least Squares   Sparsity:                        120.7\n",
      "Date:                Wed, 23 Jan 2019   No. Observations:                41757\n",
      "Time:                        12:35:20   Df Residuals:                    41745\n",
      "                                        Df Model:                           11\n",
      "==============================================================================\n",
      "                 coef    std err          t      P>|t|      [0.025      0.975]\n",
      "------------------------------------------------------------------------------\n",
      "Intercept   3.072e-05    6.4e-06      4.803      0.000    1.82e-05    4.33e-05\n",
      "No         -6.994e-05   9.59e-06     -7.292      0.000   -8.87e-05   -5.11e-05\n",
      "year           0.0998      0.012      8.275      0.000       0.076       0.123\n",
      "month         -0.4536      0.034    -13.419      0.000      -0.520      -0.387\n",
      "day            0.1143      0.015      7.862      0.000       0.086       0.143\n",
      "hour           0.3777      0.020     19.013      0.000       0.339       0.417\n",
      "DEWP           0.7720      0.014     55.266      0.000       0.745       0.799\n",
      "TEMP          -0.8346      0.020    -41.621      0.000      -0.874      -0.795\n",
      "PRES          -0.1734      0.024     -7.290      0.000      -0.220      -0.127\n",
      "Iws           -0.0364      0.002    -17.462      0.000      -0.040      -0.032\n",
      "Is             1.4573      0.195      7.466      0.000       1.075       1.840\n",
      "Ir            -1.2952      0.071    -18.209      0.000      -1.435      -1.156\n",
      "==============================================================================\n",
      "\n",
      "The condition number is large, 3.67e+10. This might indicate that there are\n",
      "strong multicollinearity or other numerical problems.\n",
      "                         QuantReg Regression Results                          \n",
      "==============================================================================\n",
      "Dep. Variable:                   pm25   Pseudo R-squared:               0.2194\n",
      "Model:                       QuantReg   Bandwidth:                       10.41\n",
      "Method:                 Least Squares   Sparsity:                        1322.\n",
      "Date:                Wed, 23 Jan 2019   No. Observations:                41757\n",
      "Time:                        12:35:20   Df Residuals:                    41745\n",
      "                                        Df Model:                           11\n",
      "==============================================================================\n",
      "                 coef    std err          t      P>|t|      [0.025      0.975]\n",
      "------------------------------------------------------------------------------\n",
      "Intercept      0.0004   6.87e-05      5.306      0.000       0.000       0.000\n",
      "No          7.821e-05      0.000      0.696      0.486      -0.000       0.000\n",
      "year           1.0580      0.124      8.539      0.000       0.815       1.301\n",
      "month         -3.9661      0.446     -8.895      0.000      -4.840      -3.092\n",
      "day            1.0816      0.136      7.936      0.000       0.814       1.349\n",
      "hour           2.3661      0.192     12.354      0.000       1.991       2.741\n",
      "DEWP           7.5176      0.235     32.004      0.000       7.057       7.978\n",
      "TEMP         -11.6991      0.302    -38.691      0.000     -12.292     -11.106\n",
      "PRES          -1.7121      0.244     -7.003      0.000      -2.191      -1.233\n",
      "Iws           -0.4151      0.034    -12.339      0.000      -0.481      -0.349\n",
      "Is            -5.7267      1.580     -3.624      0.000      -8.824      -2.630\n",
      "Ir            -9.3197      1.457     -6.397      0.000     -12.175      -6.464\n",
      "==============================================================================\n",
      "\n",
      "The condition number is large, 3.67e+10. This might indicate that there are\n",
      "strong multicollinearity or other numerical problems.\n",
      "                         QuantReg Regression Results                          \n",
      "==============================================================================\n",
      "Dep. Variable:                   pm25   Pseudo R-squared:              0.06497\n",
      "Model:                       QuantReg   Bandwidth:                       8.092\n",
      "Method:                 Least Squares   Sparsity:                        104.4\n",
      "Date:                Wed, 23 Jan 2019   No. Observations:                41757\n",
      "Time:                        12:35:22   Df Residuals:                    41745\n",
      "                                        Df Model:                           11\n",
      "==============================================================================\n",
      "                 coef    std err          t      P>|t|      [0.025      0.975]\n",
      "------------------------------------------------------------------------------\n",
      "Intercept   5.214e-05   7.84e-06      6.650      0.000    3.68e-05    6.75e-05\n",
      "No         -9.232e-05   1.17e-05     -7.888      0.000      -0.000   -6.94e-05\n",
      "year           0.1521      0.015     10.386      0.000       0.123       0.181\n",
      "month         -0.5581      0.042    -13.138      0.000      -0.641      -0.475\n",
      "day            0.1708      0.017      9.893      0.000       0.137       0.205\n",
      "hour           0.4604      0.024     19.350      0.000       0.414       0.507\n",
      "DEWP           1.2350      0.017     70.845      0.000       1.201       1.269\n",
      "TEMP          -1.3088      0.024    -54.101      0.000      -1.356      -1.261\n",
      "PRES          -0.2652      0.029     -9.183      0.000      -0.322      -0.209\n",
      "Iws           -0.0436      0.003    -16.919      0.000      -0.049      -0.039\n",
      "Is             1.0745      0.231      4.653      0.000       0.622       1.527\n",
      "Ir            -1.9619      0.087    -22.504      0.000      -2.133      -1.791\n",
      "==============================================================================\n",
      "\n",
      "The condition number is large, 3.67e+10. This might indicate that there are\n",
      "strong multicollinearity or other numerical problems.\n"
     ]
    }
   ],
   "source": [
    "quantiles = (.05, .96, .1)\n",
    "\n",
    "for quantile in quantiles:\n",
    "    print(quant_mod.fit(q=quantile).summary())"
   ]
  },
  {
   "cell_type": "markdown",
   "metadata": {
    "colab_type": "text",
    "id": "Xqh4Jp1XgjrE"
   },
   "source": [
    "\"Strong multicollinearity\", eh? In other words - maybe we shouldn't throw every variable in our formula. Let's hand-craft a smaller one, picking the features with the largest magnitude t-statistics for their coefficients. Let's also search for more quantile cutoffs to see what's most effective."
   ]
  },
  {
   "cell_type": "code",
   "execution_count": 15,
   "metadata": {
    "colab": {
     "base_uri": "https://localhost:8080/",
     "height": 975
    },
    "colab_type": "code",
    "id": "NmoELnXwgpXd",
    "outputId": "1865f1b1-778a-4e73-91b7-d30ad29b2ee2"
   },
   "outputs": [
    {
     "name": "stdout",
     "output_type": "stream",
     "text": [
      "(0.5, 0.1447879336023583)\n",
      "(0.51, 0.1453046499109799)\n",
      "(0.52, 0.1457984456251047)\n",
      "(0.53, 0.14627848333343263)\n",
      "(0.54, 0.1467640446791706)\n",
      "(0.55, 0.14733094668790292)\n",
      "(0.56, 0.14787821797693512)\n",
      "(0.57, 0.14840185621049273)\n",
      "(0.58, 0.14892138273908107)\n",
      "(0.59, 0.14946793972061212)\n"
     ]
    },
    {
     "name": "stderr",
     "output_type": "stream",
     "text": [
      "/Users/zach/anaconda3/lib/python3.6/site-packages/statsmodels/regression/quantile_regression.py:193: IterationLimitWarning: Maximum number of iterations (1000) reached.\n",
      "  \") reached.\", IterationLimitWarning)\n"
     ]
    },
    {
     "name": "stdout",
     "output_type": "stream",
     "text": [
      "(0.6, 0.1500450836285967)\n",
      "(0.61, 0.15066665485612274)\n",
      "(0.62, 0.15131550520931825)\n",
      "(0.63, 0.15201598245712966)\n",
      "(0.64, 0.152815632180745)\n",
      "(0.65, 0.15360133883660188)\n",
      "(0.66, 0.15440046026580068)\n",
      "(0.67, 0.15521251759239985)\n",
      "(0.68, 0.15607615678951559)\n",
      "(0.69, 0.15692695615298136)\n",
      "(0.7, 0.1577663389046554)\n",
      "(0.71, 0.15865286212994567)\n",
      "(0.72, 0.15961363441229715)\n",
      "(0.73, 0.16062991121153458)\n",
      "(0.74, 0.1617151201897239)\n",
      "(0.75, 0.16280951619867146)\n",
      "(0.76, 0.16394259393342125)\n",
      "(0.77, 0.16517451474458056)\n",
      "(0.78, 0.1664423443710097)\n",
      "(0.79, 0.16770815353095714)\n"
     ]
    },
    {
     "name": "stderr",
     "output_type": "stream",
     "text": [
      "/Users/zach/anaconda3/lib/python3.6/site-packages/statsmodels/regression/quantile_regression.py:193: IterationLimitWarning: Maximum number of iterations (1000) reached.\n",
      "  \") reached.\", IterationLimitWarning)\n"
     ]
    },
    {
     "name": "stdout",
     "output_type": "stream",
     "text": [
      "(0.8, 0.16904227356438506)\n",
      "(0.81, 0.17037126968955685)\n",
      "(0.82, 0.17195593122357777)\n",
      "(0.83, 0.17383892606382623)\n",
      "(0.84, 0.17599918426382777)\n",
      "(0.85, 0.17817588507328963)\n",
      "(0.86, 0.18047434708570964)\n",
      "(0.87, 0.18274842963575832)\n",
      "(0.88, 0.1850748927825704)\n",
      "(0.89, 0.18767194363846373)\n",
      "(0.9, 0.1899871464061209)\n",
      "(0.91, 0.19205778885867675)\n",
      "(0.92, 0.19409258046839573)\n",
      "(0.93, 0.1960928580149024)\n",
      "(0.94, 0.1990718585613529)\n",
      "(0.95, 0.20306510227274233)\n",
      "(0.96, 0.20828854295993626)\n",
      "(0.97, 0.21268428179968246)\n",
      "(0.98, 0.21668870123970496)\n",
      "(0.99, 0.21742941318156628)\n"
     ]
    }
   ],
   "source": [
    "quant_formula = 'pm25 ~ DEWP + TEMP + Ir + hour + Iws'\n",
    "quant_mod = smf.quantreg(quant_formula, data=df)\n",
    "for quantile in range(50, 100):\n",
    "    quantile /= 100\n",
    "    quant_reg = quant_mod.fit(q=quantile)\n",
    "    print((quantile, quant_reg.prsquared))"
   ]
  },
  {
   "cell_type": "code",
   "execution_count": 0,
   "metadata": {
    "colab": {
     "base_uri": "https://localhost:8080/",
     "height": 444
    },
    "colab_type": "code",
    "id": "Bz0GmE5kuwQY",
    "outputId": "d139eca6-fa58-4f4c-a051-18b3e2d7ee13"
   },
   "outputs": [
    {
     "data": {
      "text/html": [
       "<table class=\"simpletable\">\n",
       "<caption>QuantReg Regression Results</caption>\n",
       "<tr>\n",
       "  <th>Dep. Variable:</th>       <td>pm25</td>       <th>  Pseudo R-squared:  </th> <td>  0.2614</td>\n",
       "</tr>\n",
       "<tr>\n",
       "  <th>Model:</th>             <td>QuantReg</td>     <th>  Bandwidth:         </th> <td> 0.01908</td>\n",
       "</tr>\n",
       "<tr>\n",
       "  <th>Method:</th>          <td>Least Squares</td>  <th>  Sparsity:          </th> <td>  0.6060</td>\n",
       "</tr>\n",
       "<tr>\n",
       "  <th>Date:</th>          <td>Mon, 21 Jan 2019</td> <th>  No. Observations:  </th>  <td> 41757</td> \n",
       "</tr>\n",
       "<tr>\n",
       "  <th>Time:</th>              <td>00:41:40</td>     <th>  Df Residuals:      </th>  <td> 41745</td> \n",
       "</tr>\n",
       "<tr>\n",
       "  <th> </th>                      <td> </td>        <th>  Df Model:          </th>  <td>    11</td> \n",
       "</tr>\n",
       "</table>\n",
       "<table class=\"simpletable\">\n",
       "<tr>\n",
       "      <td></td>         <th>coef</th>     <th>std err</th>      <th>t</th>      <th>P>|t|</th>  <th>[0.025</th>    <th>0.975]</th>  \n",
       "</tr>\n",
       "<tr>\n",
       "  <th>Intercept</th> <td> 1.016e-06</td> <td> 6.52e-08</td> <td>   15.579</td> <td> 0.000</td> <td> 8.88e-07</td> <td> 1.14e-06</td>\n",
       "</tr>\n",
       "<tr>\n",
       "  <th>No</th>        <td>-7.472e-07</td> <td> 1.01e-07</td> <td>   -7.406</td> <td> 0.000</td> <td>-9.45e-07</td> <td>-5.49e-07</td>\n",
       "</tr>\n",
       "<tr>\n",
       "  <th>year</th>      <td>    0.0027</td> <td>    0.000</td> <td>   21.867</td> <td> 0.000</td> <td>    0.002</td> <td>    0.003</td>\n",
       "</tr>\n",
       "<tr>\n",
       "  <th>month</th>     <td>   -0.0075</td> <td>    0.000</td> <td>  -19.825</td> <td> 0.000</td> <td>   -0.008</td> <td>   -0.007</td>\n",
       "</tr>\n",
       "<tr>\n",
       "  <th>day</th>       <td>    0.0014</td> <td>    0.000</td> <td>    9.770</td> <td> 0.000</td> <td>    0.001</td> <td>    0.002</td>\n",
       "</tr>\n",
       "<tr>\n",
       "  <th>hour</th>      <td>    0.0049</td> <td>    0.000</td> <td>   23.971</td> <td> 0.000</td> <td>    0.004</td> <td>    0.005</td>\n",
       "</tr>\n",
       "<tr>\n",
       "  <th>DEWP</th>      <td>    0.0155</td> <td>    0.000</td> <td>   89.454</td> <td> 0.000</td> <td>    0.015</td> <td>    0.016</td>\n",
       "</tr>\n",
       "<tr>\n",
       "  <th>TEMP</th>      <td>   -0.0172</td> <td>    0.000</td> <td>  -77.079</td> <td> 0.000</td> <td>   -0.018</td> <td>   -0.017</td>\n",
       "</tr>\n",
       "<tr>\n",
       "  <th>PRES</th>      <td>   -0.0036</td> <td>    0.000</td> <td>  -14.870</td> <td> 0.000</td> <td>   -0.004</td> <td>   -0.003</td>\n",
       "</tr>\n",
       "<tr>\n",
       "  <th>Iws</th>       <td>   -0.0010</td> <td> 2.42e-05</td> <td>  -39.707</td> <td> 0.000</td> <td>   -0.001</td> <td>   -0.001</td>\n",
       "</tr>\n",
       "<tr>\n",
       "  <th>Is</th>        <td>   -0.0025</td> <td>    0.002</td> <td>   -1.517</td> <td> 0.129</td> <td>   -0.006</td> <td>    0.001</td>\n",
       "</tr>\n",
       "<tr>\n",
       "  <th>Ir</th>        <td>   -0.0235</td> <td>    0.001</td> <td>  -29.010</td> <td> 0.000</td> <td>   -0.025</td> <td>   -0.022</td>\n",
       "</tr>\n",
       "</table>"
      ],
      "text/plain": [
       "<class 'statsmodels.iolib.summary.Summary'>\n",
       "\"\"\"\n",
       "                         QuantReg Regression Results                          \n",
       "==============================================================================\n",
       "Dep. Variable:                   pm25   Pseudo R-squared:               0.2614\n",
       "Model:                       QuantReg   Bandwidth:                     0.01908\n",
       "Method:                 Least Squares   Sparsity:                       0.6060\n",
       "Date:                Mon, 21 Jan 2019   No. Observations:                41757\n",
       "Time:                        00:41:40   Df Residuals:                    41745\n",
       "                                        Df Model:                           11\n",
       "==============================================================================\n",
       "                 coef    std err          t      P>|t|      [0.025      0.975]\n",
       "------------------------------------------------------------------------------\n",
       "Intercept   1.016e-06   6.52e-08     15.579      0.000    8.88e-07    1.14e-06\n",
       "No         -7.472e-07   1.01e-07     -7.406      0.000   -9.45e-07   -5.49e-07\n",
       "year           0.0027      0.000     21.867      0.000       0.002       0.003\n",
       "month         -0.0075      0.000    -19.825      0.000      -0.008      -0.007\n",
       "day            0.0014      0.000      9.770      0.000       0.001       0.002\n",
       "hour           0.0049      0.000     23.971      0.000       0.004       0.005\n",
       "DEWP           0.0155      0.000     89.454      0.000       0.015       0.016\n",
       "TEMP          -0.0172      0.000    -77.079      0.000      -0.018      -0.017\n",
       "PRES          -0.0036      0.000    -14.870      0.000      -0.004      -0.003\n",
       "Iws           -0.0010   2.42e-05    -39.707      0.000      -0.001      -0.001\n",
       "Is            -0.0025      0.002     -1.517      0.129      -0.006       0.001\n",
       "Ir            -0.0235      0.001    -29.010      0.000      -0.025      -0.022\n",
       "==============================================================================\n",
       "\n",
       "The condition number is large, 3.67e+10. This might indicate that there are\n",
       "strong multicollinearity or other numerical problems.\n",
       "\"\"\""
      ]
     },
     "execution_count": 42,
     "metadata": {
      "tags": []
     },
     "output_type": "execute_result"
    }
   ],
   "source": [
    "# Okay, this data seems *extremely* skewed\n",
    "# Let's trying logging\n",
    "import numpy as np\n",
    "\n",
    "df['pm25'] = np.log(1 + df['pm25'])\n",
    "quant_mod = smf.quantreg(quant_formula, data=df)\n",
    "quant_reg = quant_mod.fit(q=.25)\n",
    "quant_reg.summary()  # \"summary\" is another very R-thing"
   ]
  },
  {
   "cell_type": "markdown",
   "metadata": {
    "colab_type": "text",
    "id": "8kXcxnNBgizX"
   },
   "source": [
    "Overall - in this case, quantile regression is not *necessarily* superior to linear regression. But it does give us extra flexibility and another thing to tune - what the center of what we're actually fitting in the dependent variable.\n",
    "\n",
    "The basic case of `q=0.5` (the median) minimizes the absolute value of residuals, while OLS minimizes the squared value. By selecting `q=0.25`, we're targeting a lower quantile and are effectively saying that we only want to over-estimate at most 25% of the time - we're being *risk averse*.\n",
    "\n",
    "Depending on the data you're looking at, and the cost of making a false positive versus a false negative, this sort of flexibility can be extremely useful.\n",
    "\n",
    "Live - let's consider another dataset! Specifically, \"SkillCraft\" (data on competitive StarCraft players): http://archive.ics.uci.edu/ml/datasets/SkillCraft1+Master+Table+Dataset"
   ]
  },
  {
   "cell_type": "code",
   "execution_count": 16,
   "metadata": {
    "colab": {},
    "colab_type": "code",
    "id": "ofvwSAZUhWDw"
   },
   "outputs": [],
   "source": [
    "# TODO Live!\n",
    "# Hint - we may only care about the *top* quantiles here\n",
    "# Another hint - there are missing values, but Pandas won't see them right away\n",
    "\n",
    "skill = pd.read_csv('http://archive.ics.uci.edu/ml/machine-learning-databases/00272/SkillCraft1_Dataset.csv')"
   ]
  },
  {
   "cell_type": "code",
   "execution_count": 24,
   "metadata": {},
   "outputs": [
    {
     "data": {
      "text/plain": [
       "GameID                   0\n",
       "LeagueIndex              0\n",
       "Age                     55\n",
       "HoursPerWeek            56\n",
       "TotalHours              57\n",
       "APM                      0\n",
       "SelectByHotkeys          0\n",
       "AssignToHotkeys          0\n",
       "UniqueHotkeys            0\n",
       "MinimapAttacks           0\n",
       "MinimapRightClicks       0\n",
       "NumberOfPACs             0\n",
       "GapBetweenPACs           0\n",
       "ActionLatency            0\n",
       "ActionsInPAC             0\n",
       "TotalMapExplored         0\n",
       "WorkersMade              0\n",
       "UniqueUnitsMade          0\n",
       "ComplexUnitsMade         0\n",
       "ComplexAbilitiesUsed     0\n",
       "dtype: int64"
      ]
     },
     "execution_count": 24,
     "metadata": {},
     "output_type": "execute_result"
    }
   ],
   "source": [
    "import numpy as np\n",
    "skill.replace('?', np.nan, inplace=True)\n",
    "skill.isnull().sum()"
   ]
  },
  {
   "cell_type": "code",
   "execution_count": 27,
   "metadata": {},
   "outputs": [
    {
     "name": "stdout",
     "output_type": "stream",
     "text": [
      "Total nulls 0\n"
     ]
    }
   ],
   "source": [
    "# replacing missing values for Age, HoursPerWeek, TotalHours\n",
    "skill['Age'] = skill['Age'].fillna(skill['Age'].median())\n",
    "skill['HoursPerWeek'] = skill['HoursPerWeek'].fillna(skill['HoursPerWeek'].median())\n",
    "skill['TotalHours'] = skill['TotalHours'].fillna(skill['TotalHours'].median())\n",
    "print ('Total nulls', skill.isnull().sum().sum())"
   ]
  },
  {
   "cell_type": "code",
   "execution_count": 29,
   "metadata": {},
   "outputs": [
    {
     "data": {
      "text/plain": [
       "GameID                    int64\n",
       "LeagueIndex               int64\n",
       "Age                      object\n",
       "HoursPerWeek             object\n",
       "TotalHours               object\n",
       "APM                     float64\n",
       "SelectByHotkeys         float64\n",
       "AssignToHotkeys         float64\n",
       "UniqueHotkeys             int64\n",
       "MinimapAttacks          float64\n",
       "MinimapRightClicks      float64\n",
       "NumberOfPACs            float64\n",
       "GapBetweenPACs          float64\n",
       "ActionLatency           float64\n",
       "ActionsInPAC            float64\n",
       "TotalMapExplored          int64\n",
       "WorkersMade             float64\n",
       "UniqueUnitsMade           int64\n",
       "ComplexUnitsMade        float64\n",
       "ComplexAbilitiesUsed    float64\n",
       "dtype: object"
      ]
     },
     "execution_count": 29,
     "metadata": {},
     "output_type": "execute_result"
    }
   ],
   "source": [
    "# check dtypes\n",
    "skill.dtypes"
   ]
  },
  {
   "cell_type": "code",
   "execution_count": 33,
   "metadata": {},
   "outputs": [],
   "source": [
    "# correcting object types\n",
    "skill['Age'] = pd.to_numeric(skill['Age'])\n",
    "skill['HoursPerWeek'] = pd.to_numeric(skill['HoursPerWeek'])\n",
    "skill['TotalHours'] = pd.to_numeric(skill['TotalHours'])"
   ]
  },
  {
   "cell_type": "code",
   "execution_count": 36,
   "metadata": {},
   "outputs": [],
   "source": [
    "# predicting top 10% of players in APM\n",
    "target = 'APM'\n",
    "features = skill.columns.drop(target)\n",
    "\n",
    "X = skill[features]\n",
    "y = skill[target]"
   ]
  },
  {
   "cell_type": "code",
   "execution_count": 37,
   "metadata": {},
   "outputs": [
    {
     "name": "stdout",
     "output_type": "stream",
     "text": [
      "APM ~ GameID + LeagueIndex + Age + HoursPerWeek + TotalHours + SelectByHotkeys + AssignToHotkeys + UniqueHotkeys + MinimapAttacks + MinimapRightClicks + NumberOfPACs + GapBetweenPACs + ActionLatency + ActionsInPAC + TotalMapExplored + WorkersMade + UniqueUnitsMade + ComplexUnitsMade + ComplexAbilitiesUsed\n"
     ]
    },
    {
     "name": "stderr",
     "output_type": "stream",
     "text": [
      "/Users/zach/anaconda3/lib/python3.6/site-packages/statsmodels/regression/quantile_regression.py:193: IterationLimitWarning: Maximum number of iterations (1000) reached.\n",
      "  \") reached.\", IterationLimitWarning)\n"
     ]
    },
    {
     "data": {
      "text/html": [
       "<table class=\"simpletable\">\n",
       "<caption>QuantReg Regression Results</caption>\n",
       "<tr>\n",
       "  <th>Dep. Variable:</th>        <td>APM</td>       <th>  Pseudo R-squared:  </th> <td>  0.4341</td>\n",
       "</tr>\n",
       "<tr>\n",
       "  <th>Model:</th>             <td>QuantReg</td>     <th>  Bandwidth:         </th> <td>   7.626</td>\n",
       "</tr>\n",
       "<tr>\n",
       "  <th>Method:</th>          <td>Least Squares</td>  <th>  Sparsity:          </th> <td>   196.8</td>\n",
       "</tr>\n",
       "<tr>\n",
       "  <th>Date:</th>          <td>Wed, 23 Jan 2019</td> <th>  No. Observations:  </th>  <td>  3395</td> \n",
       "</tr>\n",
       "<tr>\n",
       "  <th>Time:</th>              <td>13:32:10</td>     <th>  Df Residuals:      </th>  <td>  3375</td> \n",
       "</tr>\n",
       "<tr>\n",
       "  <th> </th>                      <td> </td>        <th>  Df Model:          </th>  <td>    19</td> \n",
       "</tr>\n",
       "</table>\n",
       "<table class=\"simpletable\">\n",
       "<tr>\n",
       "            <td></td>              <th>coef</th>     <th>std err</th>      <th>t</th>      <th>P>|t|</th>  <th>[0.025</th>    <th>0.975]</th>  \n",
       "</tr>\n",
       "<tr>\n",
       "  <th>Intercept</th>            <td>    0.3321</td> <td>   24.196</td> <td>    0.014</td> <td> 0.989</td> <td>  -47.109</td> <td>   47.773</td>\n",
       "</tr>\n",
       "<tr>\n",
       "  <th>GameID</th>               <td>    0.0026</td> <td>    0.000</td> <td>    6.395</td> <td> 0.000</td> <td>    0.002</td> <td>    0.003</td>\n",
       "</tr>\n",
       "<tr>\n",
       "  <th>LeagueIndex</th>          <td>   16.7656</td> <td>    1.268</td> <td>   13.219</td> <td> 0.000</td> <td>   14.279</td> <td>   19.252</td>\n",
       "</tr>\n",
       "<tr>\n",
       "  <th>Age</th>                  <td>    0.5498</td> <td>    0.266</td> <td>    2.070</td> <td> 0.039</td> <td>    0.029</td> <td>    1.070</td>\n",
       "</tr>\n",
       "<tr>\n",
       "  <th>HoursPerWeek</th>         <td>    0.4596</td> <td>    0.081</td> <td>    5.689</td> <td> 0.000</td> <td>    0.301</td> <td>    0.618</td>\n",
       "</tr>\n",
       "<tr>\n",
       "  <th>TotalHours</th>           <td> 7.541e-05</td> <td> 2.32e-05</td> <td>    3.256</td> <td> 0.001</td> <td>    3e-05</td> <td>    0.000</td>\n",
       "</tr>\n",
       "<tr>\n",
       "  <th>SelectByHotkeys</th>      <td>    0.0272</td> <td>  560.946</td> <td> 4.85e-05</td> <td> 1.000</td> <td>-1099.801</td> <td> 1099.856</td>\n",
       "</tr>\n",
       "<tr>\n",
       "  <th>AssignToHotkeys</th>      <td>    0.0006</td> <td>  366.906</td> <td> 1.72e-06</td> <td> 1.000</td> <td> -719.379</td> <td>  719.381</td>\n",
       "</tr>\n",
       "<tr>\n",
       "  <th>UniqueHotkeys</th>        <td>    4.2447</td> <td>    0.500</td> <td>    8.485</td> <td> 0.000</td> <td>    3.264</td> <td>    5.226</td>\n",
       "</tr>\n",
       "<tr>\n",
       "  <th>MinimapAttacks</th>       <td>   -0.0011</td> <td>  297.638</td> <td>-3.56e-06</td> <td> 1.000</td> <td> -583.571</td> <td>  583.569</td>\n",
       "</tr>\n",
       "<tr>\n",
       "  <th>MinimapRightClicks</th>   <td>    0.0034</td> <td> 3568.224</td> <td> 9.54e-07</td> <td> 1.000</td> <td>-6996.095</td> <td> 6996.102</td>\n",
       "</tr>\n",
       "<tr>\n",
       "  <th>NumberOfPACs</th>         <td>    0.0046</td> <td> 3627.445</td> <td> 1.27e-06</td> <td> 1.000</td> <td>-7112.208</td> <td> 7112.217</td>\n",
       "</tr>\n",
       "<tr>\n",
       "  <th>GapBetweenPACs</th>       <td>    0.2005</td> <td>    0.093</td> <td>    2.146</td> <td> 0.032</td> <td>    0.017</td> <td>    0.384</td>\n",
       "</tr>\n",
       "<tr>\n",
       "  <th>ActionLatency</th>        <td>   -0.7911</td> <td>    0.171</td> <td>   -4.632</td> <td> 0.000</td> <td>   -1.126</td> <td>   -0.456</td>\n",
       "</tr>\n",
       "<tr>\n",
       "  <th>ActionsInPAC</th>         <td>   14.4647</td> <td>    1.018</td> <td>   14.205</td> <td> 0.000</td> <td>   12.468</td> <td>   16.461</td>\n",
       "</tr>\n",
       "<tr>\n",
       "  <th>TotalMapExplored</th>     <td>    0.6222</td> <td>    0.179</td> <td>    3.483</td> <td> 0.001</td> <td>    0.272</td> <td>    0.972</td>\n",
       "</tr>\n",
       "<tr>\n",
       "  <th>WorkersMade</th>          <td>    0.0053</td> <td> 2086.179</td> <td> 2.54e-06</td> <td> 1.000</td> <td>-4090.298</td> <td> 4090.308</td>\n",
       "</tr>\n",
       "<tr>\n",
       "  <th>UniqueUnitsMade</th>      <td>   -2.2514</td> <td>    0.690</td> <td>   -3.265</td> <td> 0.001</td> <td>   -3.604</td> <td>   -0.899</td>\n",
       "</tr>\n",
       "<tr>\n",
       "  <th>ComplexUnitsMade</th>     <td>    0.0007</td> <td>  783.406</td> <td>  9.4e-07</td> <td> 1.000</td> <td>-1535.998</td> <td> 1535.999</td>\n",
       "</tr>\n",
       "<tr>\n",
       "  <th>ComplexAbilitiesUsed</th> <td>    0.0005</td> <td> 3164.165</td> <td> 1.64e-07</td> <td> 1.000</td> <td>-6203.873</td> <td> 6203.874</td>\n",
       "</tr>\n",
       "</table><br/><br/>The condition number is large, 2.14e+08. This might indicate that there are<br/>strong multicollinearity or other numerical problems."
      ],
      "text/plain": [
       "<class 'statsmodels.iolib.summary.Summary'>\n",
       "\"\"\"\n",
       "                         QuantReg Regression Results                          \n",
       "==============================================================================\n",
       "Dep. Variable:                    APM   Pseudo R-squared:               0.4341\n",
       "Model:                       QuantReg   Bandwidth:                       7.626\n",
       "Method:                 Least Squares   Sparsity:                        196.8\n",
       "Date:                Wed, 23 Jan 2019   No. Observations:                 3395\n",
       "Time:                        13:32:10   Df Residuals:                     3375\n",
       "                                        Df Model:                           19\n",
       "========================================================================================\n",
       "                           coef    std err          t      P>|t|      [0.025      0.975]\n",
       "----------------------------------------------------------------------------------------\n",
       "Intercept                0.3321     24.196      0.014      0.989     -47.109      47.773\n",
       "GameID                   0.0026      0.000      6.395      0.000       0.002       0.003\n",
       "LeagueIndex             16.7656      1.268     13.219      0.000      14.279      19.252\n",
       "Age                      0.5498      0.266      2.070      0.039       0.029       1.070\n",
       "HoursPerWeek             0.4596      0.081      5.689      0.000       0.301       0.618\n",
       "TotalHours            7.541e-05   2.32e-05      3.256      0.001       3e-05       0.000\n",
       "SelectByHotkeys          0.0272    560.946   4.85e-05      1.000   -1099.801    1099.856\n",
       "AssignToHotkeys          0.0006    366.906   1.72e-06      1.000    -719.379     719.381\n",
       "UniqueHotkeys            4.2447      0.500      8.485      0.000       3.264       5.226\n",
       "MinimapAttacks          -0.0011    297.638  -3.56e-06      1.000    -583.571     583.569\n",
       "MinimapRightClicks       0.0034   3568.224   9.54e-07      1.000   -6996.095    6996.102\n",
       "NumberOfPACs             0.0046   3627.445   1.27e-06      1.000   -7112.208    7112.217\n",
       "GapBetweenPACs           0.2005      0.093      2.146      0.032       0.017       0.384\n",
       "ActionLatency           -0.7911      0.171     -4.632      0.000      -1.126      -0.456\n",
       "ActionsInPAC            14.4647      1.018     14.205      0.000      12.468      16.461\n",
       "TotalMapExplored         0.6222      0.179      3.483      0.001       0.272       0.972\n",
       "WorkersMade              0.0053   2086.179   2.54e-06      1.000   -4090.298    4090.308\n",
       "UniqueUnitsMade         -2.2514      0.690     -3.265      0.001      -3.604      -0.899\n",
       "ComplexUnitsMade         0.0007    783.406    9.4e-07      1.000   -1535.998    1535.999\n",
       "ComplexAbilitiesUsed     0.0005   3164.165   1.64e-07      1.000   -6203.873    6203.874\n",
       "========================================================================================\n",
       "\n",
       "The condition number is large, 2.14e+08. This might indicate that there are\n",
       "strong multicollinearity or other numerical problems.\n",
       "\"\"\""
      ]
     },
     "execution_count": 37,
     "metadata": {},
     "output_type": "execute_result"
    }
   ],
   "source": [
    "quant_formula_skill = 'APM ~ ' + ' + '.join(X.columns)\n",
    "print(quant_formula_skill)\n",
    "\n",
    "quant_mod = smf.quantreg(quant_formula_skill, data=skill)\n",
    "quant_reg = quant_mod.fit(q=.9)\n",
    "quant_reg.summary()  # \"summary\" is another very R-thing"
   ]
  },
  {
   "cell_type": "markdown",
   "metadata": {},
   "source": [
    "LeagueIndex is a strong indicator of APM. "
   ]
  },
  {
   "cell_type": "code",
   "execution_count": 40,
   "metadata": {},
   "outputs": [
    {
     "data": {
      "text/plain": [
       "0    180.527245\n",
       "dtype: float64"
      ]
     },
     "execution_count": 40,
     "metadata": {},
     "output_type": "execute_result"
    }
   ],
   "source": [
    "quant_reg.predict(X.iloc[0, :])"
   ]
  },
  {
   "cell_type": "code",
   "execution_count": null,
   "metadata": {},
   "outputs": [],
   "source": []
  },
  {
   "cell_type": "markdown",
   "metadata": {
    "colab_type": "text",
    "id": "o2BADEQUirXa"
   },
   "source": [
    "## Assignment - birth weight data\n",
    "\n",
    "Birth weight is a situation where, while the data itself is actually fairly normal and symmetric, our main goal is actually *not* to model mean weight (via OLS), but rather to identify mothers at risk of having children below a certain \"at-risk\" threshold weight.\n",
    "\n",
    "Quantile regression gives us just the tool we need. For the data we are using, see: http://people.reed.edu/~jones/141/BirthWgt.html\n",
    "\n",
    "    bwt: baby's weight in ounces at birth\n",
    "    gestation: duration of pregnancy in days\n",
    "    parity: parity indicator (first born = 1, later birth = 0)\n",
    "    age: mother's age in years\n",
    "    height: mother's height in inches\n",
    "    weight: mother's weight in pounds (during pregnancy)\n",
    "    smoke: indicator for whether mother smokes (1=yes, 0=no) \n",
    "    \n",
    "Use this data and `statsmodels` to fit a quantile regression, predicting `bwt` (birth weight) as a function of the other covariates. First, identify an appropriate `q` (quantile) to target a cutoff of 90 ounces - babies above that birth weight are generally healthy/safe, babies below are at-risk.\n",
    "\n",
    "Then, fit and iterate your model. Be creative! You may want to engineer features. Hint - mother's age likely is not simply linear in its impact, and the other features may interact as well.\n",
    "\n",
    "At the end, create at least *2* tables and *1* visualization to summarize your best model. Then (in writing) answer the following questions:\n",
    "\n",
    "- What characteristics of a mother indicate the highest likelihood of an at-risk (low weight) baby?\n",
    "- What can expectant mothers be told to help mitigate this risk?\n",
    "\n",
    "Note that second question is not exactly a data science question - and that's okay! You're not expected to be a medical expert, but it is a good exercise to do a little bit of digging into a particular domain and offer informal but informed opinions."
   ]
  },
  {
   "cell_type": "code",
   "execution_count": 82,
   "metadata": {},
   "outputs": [],
   "source": [
    "# imports\n",
    "import pandas as pd\n",
    "import numpy as np\n",
    "import matplotlib.pyplot as plt\n",
    "import seaborn as sns\n",
    "from sklearn.model_selection import train_test_split"
   ]
  },
  {
   "cell_type": "code",
   "execution_count": 45,
   "metadata": {
    "colab": {
     "base_uri": "https://localhost:8080/",
     "height": 206
    },
    "colab_type": "code",
    "id": "HUWKv16FjZsY",
    "outputId": "11f1ecab-4058-4e48-ac0f-cd7cf488a2f7"
   },
   "outputs": [
    {
     "data": {
      "text/html": [
       "<div>\n",
       "<style scoped>\n",
       "    .dataframe tbody tr th:only-of-type {\n",
       "        vertical-align: middle;\n",
       "    }\n",
       "\n",
       "    .dataframe tbody tr th {\n",
       "        vertical-align: top;\n",
       "    }\n",
       "\n",
       "    .dataframe thead th {\n",
       "        text-align: right;\n",
       "    }\n",
       "</style>\n",
       "<table border=\"1\" class=\"dataframe\">\n",
       "  <thead>\n",
       "    <tr style=\"text-align: right;\">\n",
       "      <th></th>\n",
       "      <th>bwt</th>\n",
       "      <th>gestation</th>\n",
       "      <th>parity</th>\n",
       "      <th>age</th>\n",
       "      <th>height</th>\n",
       "      <th>weight</th>\n",
       "      <th>smoke</th>\n",
       "    </tr>\n",
       "  </thead>\n",
       "  <tbody>\n",
       "    <tr>\n",
       "      <th>0</th>\n",
       "      <td>120</td>\n",
       "      <td>284</td>\n",
       "      <td>0</td>\n",
       "      <td>27</td>\n",
       "      <td>62</td>\n",
       "      <td>100</td>\n",
       "      <td>0</td>\n",
       "    </tr>\n",
       "    <tr>\n",
       "      <th>1</th>\n",
       "      <td>113</td>\n",
       "      <td>282</td>\n",
       "      <td>0</td>\n",
       "      <td>33</td>\n",
       "      <td>64</td>\n",
       "      <td>135</td>\n",
       "      <td>0</td>\n",
       "    </tr>\n",
       "    <tr>\n",
       "      <th>2</th>\n",
       "      <td>128</td>\n",
       "      <td>279</td>\n",
       "      <td>0</td>\n",
       "      <td>28</td>\n",
       "      <td>64</td>\n",
       "      <td>115</td>\n",
       "      <td>1</td>\n",
       "    </tr>\n",
       "    <tr>\n",
       "      <th>3</th>\n",
       "      <td>108</td>\n",
       "      <td>282</td>\n",
       "      <td>0</td>\n",
       "      <td>23</td>\n",
       "      <td>67</td>\n",
       "      <td>125</td>\n",
       "      <td>1</td>\n",
       "    </tr>\n",
       "    <tr>\n",
       "      <th>4</th>\n",
       "      <td>136</td>\n",
       "      <td>286</td>\n",
       "      <td>0</td>\n",
       "      <td>25</td>\n",
       "      <td>62</td>\n",
       "      <td>93</td>\n",
       "      <td>0</td>\n",
       "    </tr>\n",
       "  </tbody>\n",
       "</table>\n",
       "</div>"
      ],
      "text/plain": [
       "   bwt  gestation  parity  age  height  weight  smoke\n",
       "0  120        284       0   27      62     100      0\n",
       "1  113        282       0   33      64     135      0\n",
       "2  128        279       0   28      64     115      1\n",
       "3  108        282       0   23      67     125      1\n",
       "4  136        286       0   25      62      93      0"
      ]
     },
     "execution_count": 45,
     "metadata": {},
     "output_type": "execute_result"
    }
   ],
   "source": [
    "bwt = pd.read_csv('http://people.reed.edu/~jones/141/Bwt.dat')\n",
    "bwt.head()"
   ]
  },
  {
   "cell_type": "code",
   "execution_count": 46,
   "metadata": {},
   "outputs": [
    {
     "data": {
      "text/html": [
       "<div>\n",
       "<style scoped>\n",
       "    .dataframe tbody tr th:only-of-type {\n",
       "        vertical-align: middle;\n",
       "    }\n",
       "\n",
       "    .dataframe tbody tr th {\n",
       "        vertical-align: top;\n",
       "    }\n",
       "\n",
       "    .dataframe thead th {\n",
       "        text-align: right;\n",
       "    }\n",
       "</style>\n",
       "<table border=\"1\" class=\"dataframe\">\n",
       "  <thead>\n",
       "    <tr style=\"text-align: right;\">\n",
       "      <th></th>\n",
       "      <th>bwt</th>\n",
       "      <th>gestation</th>\n",
       "      <th>parity</th>\n",
       "      <th>age</th>\n",
       "      <th>height</th>\n",
       "      <th>weight</th>\n",
       "      <th>smoke</th>\n",
       "    </tr>\n",
       "  </thead>\n",
       "  <tbody>\n",
       "    <tr>\n",
       "      <th>count</th>\n",
       "      <td>1174.000000</td>\n",
       "      <td>1174.000000</td>\n",
       "      <td>1174.000000</td>\n",
       "      <td>1174.000000</td>\n",
       "      <td>1174.000000</td>\n",
       "      <td>1174.000000</td>\n",
       "      <td>1174.000000</td>\n",
       "    </tr>\n",
       "    <tr>\n",
       "      <th>mean</th>\n",
       "      <td>119.462521</td>\n",
       "      <td>279.101363</td>\n",
       "      <td>0.262351</td>\n",
       "      <td>27.228279</td>\n",
       "      <td>64.049404</td>\n",
       "      <td>128.478705</td>\n",
       "      <td>0.390971</td>\n",
       "    </tr>\n",
       "    <tr>\n",
       "      <th>std</th>\n",
       "      <td>18.328671</td>\n",
       "      <td>16.010305</td>\n",
       "      <td>0.440100</td>\n",
       "      <td>5.817839</td>\n",
       "      <td>2.526102</td>\n",
       "      <td>20.734282</td>\n",
       "      <td>0.488176</td>\n",
       "    </tr>\n",
       "    <tr>\n",
       "      <th>min</th>\n",
       "      <td>55.000000</td>\n",
       "      <td>148.000000</td>\n",
       "      <td>0.000000</td>\n",
       "      <td>15.000000</td>\n",
       "      <td>53.000000</td>\n",
       "      <td>87.000000</td>\n",
       "      <td>0.000000</td>\n",
       "    </tr>\n",
       "    <tr>\n",
       "      <th>25%</th>\n",
       "      <td>108.000000</td>\n",
       "      <td>272.000000</td>\n",
       "      <td>0.000000</td>\n",
       "      <td>23.000000</td>\n",
       "      <td>62.000000</td>\n",
       "      <td>114.250000</td>\n",
       "      <td>0.000000</td>\n",
       "    </tr>\n",
       "    <tr>\n",
       "      <th>50%</th>\n",
       "      <td>120.000000</td>\n",
       "      <td>280.000000</td>\n",
       "      <td>0.000000</td>\n",
       "      <td>26.000000</td>\n",
       "      <td>64.000000</td>\n",
       "      <td>125.000000</td>\n",
       "      <td>0.000000</td>\n",
       "    </tr>\n",
       "    <tr>\n",
       "      <th>75%</th>\n",
       "      <td>131.000000</td>\n",
       "      <td>288.000000</td>\n",
       "      <td>1.000000</td>\n",
       "      <td>31.000000</td>\n",
       "      <td>66.000000</td>\n",
       "      <td>139.000000</td>\n",
       "      <td>1.000000</td>\n",
       "    </tr>\n",
       "    <tr>\n",
       "      <th>max</th>\n",
       "      <td>176.000000</td>\n",
       "      <td>353.000000</td>\n",
       "      <td>1.000000</td>\n",
       "      <td>45.000000</td>\n",
       "      <td>72.000000</td>\n",
       "      <td>250.000000</td>\n",
       "      <td>1.000000</td>\n",
       "    </tr>\n",
       "  </tbody>\n",
       "</table>\n",
       "</div>"
      ],
      "text/plain": [
       "               bwt    gestation       parity          age       height  \\\n",
       "count  1174.000000  1174.000000  1174.000000  1174.000000  1174.000000   \n",
       "mean    119.462521   279.101363     0.262351    27.228279    64.049404   \n",
       "std      18.328671    16.010305     0.440100     5.817839     2.526102   \n",
       "min      55.000000   148.000000     0.000000    15.000000    53.000000   \n",
       "25%     108.000000   272.000000     0.000000    23.000000    62.000000   \n",
       "50%     120.000000   280.000000     0.000000    26.000000    64.000000   \n",
       "75%     131.000000   288.000000     1.000000    31.000000    66.000000   \n",
       "max     176.000000   353.000000     1.000000    45.000000    72.000000   \n",
       "\n",
       "            weight        smoke  \n",
       "count  1174.000000  1174.000000  \n",
       "mean    128.478705     0.390971  \n",
       "std      20.734282     0.488176  \n",
       "min      87.000000     0.000000  \n",
       "25%     114.250000     0.000000  \n",
       "50%     125.000000     0.000000  \n",
       "75%     139.000000     1.000000  \n",
       "max     250.000000     1.000000  "
      ]
     },
     "execution_count": 46,
     "metadata": {},
     "output_type": "execute_result"
    }
   ],
   "source": [
    "bwt.describe()"
   ]
  },
  {
   "cell_type": "markdown",
   "metadata": {},
   "source": [
    "'q' really doesnt have much to do with our 'cutoff' value, it has much more to do with our desired confidence in predictive output. For this analysis, let's say I want to make sure only 5% of true babies' weights are below my prediction.\n",
    "\n",
    "It is much safer to operate with the assumption that a baby may be underweight (false positive) than to have too many false negatives, resulting in a baby not getting the proper treatment."
   ]
  },
  {
   "cell_type": "code",
   "execution_count": 50,
   "metadata": {
    "colab": {
     "base_uri": "https://localhost:8080/",
     "height": 300
    },
    "colab_type": "code",
    "id": "dy5FkUZpkJT_",
    "outputId": "d4f46328-8e25-4fa5-e5b5-6ffad654c65c"
   },
   "outputs": [],
   "source": [
    "# predicting baby weights at 5% quantile\n",
    "target = 'bwt'\n",
    "features = bwt.columns.drop(target)\n",
    "\n",
    "X = bwt[features]\n",
    "y = bwt[target]"
   ]
  },
  {
   "cell_type": "code",
   "execution_count": 51,
   "metadata": {
    "colab": {},
    "colab_type": "code",
    "id": "Ez8qPLojjlFf"
   },
   "outputs": [
    {
     "name": "stdout",
     "output_type": "stream",
     "text": [
      "bwt ~ gestation + parity + age + height + weight + smoke\n"
     ]
    },
    {
     "data": {
      "text/html": [
       "<table class=\"simpletable\">\n",
       "<caption>QuantReg Regression Results</caption>\n",
       "<tr>\n",
       "  <th>Dep. Variable:</th>        <td>bwt</td>       <th>  Pseudo R-squared:  </th> <td>  0.2020</td>\n",
       "</tr>\n",
       "<tr>\n",
       "  <th>Model:</th>             <td>QuantReg</td>     <th>  Bandwidth:         </th> <td>   6.220</td>\n",
       "</tr>\n",
       "<tr>\n",
       "  <th>Method:</th>          <td>Least Squares</td>  <th>  Sparsity:          </th> <td>   139.7</td>\n",
       "</tr>\n",
       "<tr>\n",
       "  <th>Date:</th>          <td>Wed, 23 Jan 2019</td> <th>  No. Observations:  </th>  <td>  1174</td> \n",
       "</tr>\n",
       "<tr>\n",
       "  <th>Time:</th>              <td>16:14:45</td>     <th>  Df Residuals:      </th>  <td>  1167</td> \n",
       "</tr>\n",
       "<tr>\n",
       "  <th> </th>                      <td> </td>        <th>  Df Model:          </th>  <td>     6</td> \n",
       "</tr>\n",
       "</table>\n",
       "<table class=\"simpletable\">\n",
       "<tr>\n",
       "      <td></td>         <th>coef</th>     <th>std err</th>      <th>t</th>      <th>P>|t|</th>  <th>[0.025</th>    <th>0.975]</th>  \n",
       "</tr>\n",
       "<tr>\n",
       "  <th>Intercept</th> <td> -104.4731</td> <td>   32.656</td> <td>   -3.199</td> <td> 0.001</td> <td> -168.545</td> <td>  -40.401</td>\n",
       "</tr>\n",
       "<tr>\n",
       "  <th>gestation</th> <td>    0.5048</td> <td>    0.093</td> <td>    5.426</td> <td> 0.000</td> <td>    0.322</td> <td>    0.687</td>\n",
       "</tr>\n",
       "<tr>\n",
       "  <th>parity</th>    <td>   -3.5096</td> <td>    2.388</td> <td>   -1.470</td> <td> 0.142</td> <td>   -8.194</td> <td>    1.175</td>\n",
       "</tr>\n",
       "<tr>\n",
       "  <th>age</th>       <td>   -0.0771</td> <td>    0.173</td> <td>   -0.446</td> <td> 0.656</td> <td>   -0.416</td> <td>    0.262</td>\n",
       "</tr>\n",
       "<tr>\n",
       "  <th>height</th>    <td>    1.2676</td> <td>    0.426</td> <td>    2.977</td> <td> 0.003</td> <td>    0.432</td> <td>    2.103</td>\n",
       "</tr>\n",
       "<tr>\n",
       "  <th>weight</th>    <td>   -0.1402</td> <td>    0.058</td> <td>   -2.436</td> <td> 0.015</td> <td>   -0.253</td> <td>   -0.027</td>\n",
       "</tr>\n",
       "<tr>\n",
       "  <th>smoke</th>     <td>   -7.9833</td> <td>    1.823</td> <td>   -4.378</td> <td> 0.000</td> <td>  -11.561</td> <td>   -4.406</td>\n",
       "</tr>\n",
       "</table><br/><br/>The condition number is large, 9.8e+03. This might indicate that there are<br/>strong multicollinearity or other numerical problems."
      ],
      "text/plain": [
       "<class 'statsmodels.iolib.summary.Summary'>\n",
       "\"\"\"\n",
       "                         QuantReg Regression Results                          \n",
       "==============================================================================\n",
       "Dep. Variable:                    bwt   Pseudo R-squared:               0.2020\n",
       "Model:                       QuantReg   Bandwidth:                       6.220\n",
       "Method:                 Least Squares   Sparsity:                        139.7\n",
       "Date:                Wed, 23 Jan 2019   No. Observations:                 1174\n",
       "Time:                        16:14:45   Df Residuals:                     1167\n",
       "                                        Df Model:                            6\n",
       "==============================================================================\n",
       "                 coef    std err          t      P>|t|      [0.025      0.975]\n",
       "------------------------------------------------------------------------------\n",
       "Intercept   -104.4731     32.656     -3.199      0.001    -168.545     -40.401\n",
       "gestation      0.5048      0.093      5.426      0.000       0.322       0.687\n",
       "parity        -3.5096      2.388     -1.470      0.142      -8.194       1.175\n",
       "age           -0.0771      0.173     -0.446      0.656      -0.416       0.262\n",
       "height         1.2676      0.426      2.977      0.003       0.432       2.103\n",
       "weight        -0.1402      0.058     -2.436      0.015      -0.253      -0.027\n",
       "smoke         -7.9833      1.823     -4.378      0.000     -11.561      -4.406\n",
       "==============================================================================\n",
       "\n",
       "The condition number is large, 9.8e+03. This might indicate that there are\n",
       "strong multicollinearity or other numerical problems.\n",
       "\"\"\""
      ]
     },
     "execution_count": 51,
     "metadata": {},
     "output_type": "execute_result"
    }
   ],
   "source": [
    "quant_formula_bwt = 'bwt ~ ' + ' + '.join(X.columns)\n",
    "print(quant_formula_bwt)\n",
    "\n",
    "quant_mod = smf.quantreg(quant_formula_bwt, data=bwt)\n",
    "quant_reg = quant_mod.fit(q=.05)\n",
    "quant_reg.summary()  # \"summary\" is another very R-thing"
   ]
  },
  {
   "cell_type": "markdown",
   "metadata": {},
   "source": [
    "A couple issues from this first regression\n",
    "\n",
    "1. Mutlicollinearity\n",
    "\n",
    "This likely results from age, parity, height, and weight in some combination. Parity does not seem to have much predictive power, maybe it would be best to drop this. Let's see how it behaves in the next regression and go from there.\n",
    "\n",
    "Height and weight may be best to combine into a relative measure of the two, such as BMI.\n",
    "\n",
    "2. Age is not statistically significant\n",
    "\n",
    "There is likely some inflection point for age. A 45+ year old woman having a child would intuitively seem more likely to have complications. Next time, we will try including this term."
   ]
  },
  {
   "cell_type": "code",
   "execution_count": 56,
   "metadata": {},
   "outputs": [],
   "source": [
    "# BMI term\n",
    "bwt['bmi'] = bwt['weight'] / (bwt['height']**2)\n",
    "# age squared term\n",
    "bwt['age_squared'] = bwt['age'] ** 2"
   ]
  },
  {
   "cell_type": "code",
   "execution_count": 59,
   "metadata": {},
   "outputs": [
    {
     "name": "stdout",
     "output_type": "stream",
     "text": [
      "bwt ~ gestation + parity + age + smoke + bmi + age_squared\n"
     ]
    },
    {
     "data": {
      "text/html": [
       "<table class=\"simpletable\">\n",
       "<caption>QuantReg Regression Results</caption>\n",
       "<tr>\n",
       "  <th>Dep. Variable:</th>        <td>bwt</td>       <th>  Pseudo R-squared:  </th> <td>  0.1953</td>\n",
       "</tr>\n",
       "<tr>\n",
       "  <th>Model:</th>             <td>QuantReg</td>     <th>  Bandwidth:         </th> <td>   6.508</td>\n",
       "</tr>\n",
       "<tr>\n",
       "  <th>Method:</th>          <td>Least Squares</td>  <th>  Sparsity:          </th> <td>   144.8</td>\n",
       "</tr>\n",
       "<tr>\n",
       "  <th>Date:</th>          <td>Wed, 23 Jan 2019</td> <th>  No. Observations:  </th>  <td>  1174</td> \n",
       "</tr>\n",
       "<tr>\n",
       "  <th>Time:</th>              <td>16:28:48</td>     <th>  Df Residuals:      </th>  <td>  1167</td> \n",
       "</tr>\n",
       "<tr>\n",
       "  <th> </th>                      <td> </td>        <th>  Df Model:          </th>  <td>     6</td> \n",
       "</tr>\n",
       "</table>\n",
       "<table class=\"simpletable\">\n",
       "<tr>\n",
       "       <td></td>          <th>coef</th>     <th>std err</th>      <th>t</th>      <th>P>|t|</th>  <th>[0.025</th>    <th>0.975]</th>  \n",
       "</tr>\n",
       "<tr>\n",
       "  <th>Intercept</th>   <td>   -2.5878</td> <td>   34.130</td> <td>   -0.076</td> <td> 0.940</td> <td>  -69.552</td> <td>   64.376</td>\n",
       "</tr>\n",
       "<tr>\n",
       "  <th>gestation</th>   <td>    0.4670</td> <td>    0.097</td> <td>    4.806</td> <td> 0.000</td> <td>    0.276</td> <td>    0.658</td>\n",
       "</tr>\n",
       "<tr>\n",
       "  <th>parity</th>      <td>   -2.0126</td> <td>    2.534</td> <td>   -0.794</td> <td> 0.427</td> <td>   -6.985</td> <td>    2.960</td>\n",
       "</tr>\n",
       "<tr>\n",
       "  <th>age</th>         <td>   -1.0133</td> <td>    1.455</td> <td>   -0.696</td> <td> 0.486</td> <td>   -3.868</td> <td>    1.842</td>\n",
       "</tr>\n",
       "<tr>\n",
       "  <th>smoke</th>       <td>   -8.3208</td> <td>    1.925</td> <td>   -4.322</td> <td> 0.000</td> <td>  -12.098</td> <td>   -4.543</td>\n",
       "</tr>\n",
       "<tr>\n",
       "  <th>bmi</th>         <td> -491.8637</td> <td>  250.020</td> <td>   -1.967</td> <td> 0.049</td> <td> -982.403</td> <td>   -1.325</td>\n",
       "</tr>\n",
       "<tr>\n",
       "  <th>age_squared</th> <td>    0.0158</td> <td>    0.024</td> <td>    0.651</td> <td> 0.515</td> <td>   -0.032</td> <td>    0.063</td>\n",
       "</tr>\n",
       "</table><br/><br/>The condition number is large, 1.97e+05. This might indicate that there are<br/>strong multicollinearity or other numerical problems."
      ],
      "text/plain": [
       "<class 'statsmodels.iolib.summary.Summary'>\n",
       "\"\"\"\n",
       "                         QuantReg Regression Results                          \n",
       "==============================================================================\n",
       "Dep. Variable:                    bwt   Pseudo R-squared:               0.1953\n",
       "Model:                       QuantReg   Bandwidth:                       6.508\n",
       "Method:                 Least Squares   Sparsity:                        144.8\n",
       "Date:                Wed, 23 Jan 2019   No. Observations:                 1174\n",
       "Time:                        16:28:48   Df Residuals:                     1167\n",
       "                                        Df Model:                            6\n",
       "===============================================================================\n",
       "                  coef    std err          t      P>|t|      [0.025      0.975]\n",
       "-------------------------------------------------------------------------------\n",
       "Intercept      -2.5878     34.130     -0.076      0.940     -69.552      64.376\n",
       "gestation       0.4670      0.097      4.806      0.000       0.276       0.658\n",
       "parity         -2.0126      2.534     -0.794      0.427      -6.985       2.960\n",
       "age            -1.0133      1.455     -0.696      0.486      -3.868       1.842\n",
       "smoke          -8.3208      1.925     -4.322      0.000     -12.098      -4.543\n",
       "bmi          -491.8637    250.020     -1.967      0.049    -982.403      -1.325\n",
       "age_squared     0.0158      0.024      0.651      0.515      -0.032       0.063\n",
       "===============================================================================\n",
       "\n",
       "The condition number is large, 1.97e+05. This might indicate that there are\n",
       "strong multicollinearity or other numerical problems.\n",
       "\"\"\""
      ]
     },
     "execution_count": 59,
     "metadata": {},
     "output_type": "execute_result"
    }
   ],
   "source": [
    "# re-run regression\n",
    "# predicting baby weights at 5% quantile\n",
    "target = 'bwt'\n",
    "features = bwt.columns.drop([target, 'weight', 'height'])\n",
    "X = bwt[features]\n",
    "y = bwt[target]\n",
    "\n",
    "quant_formula_bwt = 'bwt ~ ' + ' + '.join(X.columns)\n",
    "print(quant_formula_bwt)\n",
    "\n",
    "quant_mod = smf.quantreg(quant_formula_bwt, data=bwt)\n",
    "quant_reg = quant_mod.fit(q=.05)\n",
    "quant_reg.summary()  # \"summary\" is another very R-thing"
   ]
  },
  {
   "cell_type": "markdown",
   "metadata": {},
   "source": [
    "Parity still isn't statistically significant. Let's drop that.\n",
    "\n",
    "Age, as well as its squared term, are not statistically significant. This is puzzling.\n",
    "\n",
    "Let's take a step back and and plot some of our features against baby weight."
   ]
  },
  {
   "cell_type": "code",
   "execution_count": 68,
   "metadata": {},
   "outputs": [
    {
     "data": {
      "image/png": "[encoded data removed]",
      "text/plain": [
       "<Figure size 1122.38x180 with 6 Axes>"
      ]
     },
     "metadata": {
      "needs_background": "light"
     },
     "output_type": "display_data"
    }
   ],
   "source": [
    "# pairplot with parity as hue\n",
    "sns.pairplot(data=bwt, x_vars=bwt.columns.drop(['bwt', 'parity', 'smoke']), y_vars='bwt', hue='parity');"
   ]
  },
  {
   "cell_type": "code",
   "execution_count": 69,
   "metadata": {},
   "outputs": [
    {
     "data": {
      "image/png": "[encoded data removed]",
      "text/plain": [
       "<Figure size 1122.38x180 with 6 Axes>"
      ]
     },
     "metadata": {
      "needs_background": "light"
     },
     "output_type": "display_data"
    }
   ],
   "source": [
    "# pairplot with smoker as hue\n",
    "sns.pairplot(data=bwt, x_vars=bwt.columns.drop(['bwt', 'parity', 'smoke']), y_vars='bwt', hue='smoke');"
   ]
  },
  {
   "cell_type": "markdown",
   "metadata": {},
   "source": [
    "From the above, we can gain some intuition for relationships we haven't formalized in the model yet, including:\n",
    "\n",
    "- young smokers seem more prone to have babies that weight less, especially the age_squared term\n",
    "- smokers with early births (<260 weeks) seem prone to have babies that weight less\n",
    "- age doesn't really seem to be strongly related to low-weight babies from these charts, confirming some of our intuition"
   ]
  },
  {
   "cell_type": "code",
   "execution_count": 76,
   "metadata": {},
   "outputs": [
    {
     "data": {
      "text/html": [
       "<div>\n",
       "<style scoped>\n",
       "    .dataframe tbody tr th:only-of-type {\n",
       "        vertical-align: middle;\n",
       "    }\n",
       "\n",
       "    .dataframe tbody tr th {\n",
       "        vertical-align: top;\n",
       "    }\n",
       "\n",
       "    .dataframe thead th {\n",
       "        text-align: right;\n",
       "    }\n",
       "</style>\n",
       "<table border=\"1\" class=\"dataframe\">\n",
       "  <thead>\n",
       "    <tr style=\"text-align: right;\">\n",
       "      <th></th>\n",
       "      <th>bwt</th>\n",
       "      <th>gestation</th>\n",
       "      <th>parity</th>\n",
       "      <th>age</th>\n",
       "      <th>height</th>\n",
       "      <th>weight</th>\n",
       "      <th>smoke</th>\n",
       "      <th>bmi</th>\n",
       "      <th>age_squared</th>\n",
       "      <th>smoke_earlybirth</th>\n",
       "      <th>age_squared_smoke</th>\n",
       "      <th>earlybirth</th>\n",
       "    </tr>\n",
       "  </thead>\n",
       "  <tbody>\n",
       "    <tr>\n",
       "      <th>0</th>\n",
       "      <td>120</td>\n",
       "      <td>284</td>\n",
       "      <td>0</td>\n",
       "      <td>27</td>\n",
       "      <td>62</td>\n",
       "      <td>100</td>\n",
       "      <td>0</td>\n",
       "      <td>0.026015</td>\n",
       "      <td>729</td>\n",
       "      <td>0</td>\n",
       "      <td>0</td>\n",
       "      <td>False</td>\n",
       "    </tr>\n",
       "    <tr>\n",
       "      <th>1</th>\n",
       "      <td>113</td>\n",
       "      <td>282</td>\n",
       "      <td>0</td>\n",
       "      <td>33</td>\n",
       "      <td>64</td>\n",
       "      <td>135</td>\n",
       "      <td>0</td>\n",
       "      <td>0.032959</td>\n",
       "      <td>1089</td>\n",
       "      <td>0</td>\n",
       "      <td>0</td>\n",
       "      <td>False</td>\n",
       "    </tr>\n",
       "    <tr>\n",
       "      <th>2</th>\n",
       "      <td>128</td>\n",
       "      <td>279</td>\n",
       "      <td>0</td>\n",
       "      <td>28</td>\n",
       "      <td>64</td>\n",
       "      <td>115</td>\n",
       "      <td>1</td>\n",
       "      <td>0.028076</td>\n",
       "      <td>784</td>\n",
       "      <td>0</td>\n",
       "      <td>784</td>\n",
       "      <td>False</td>\n",
       "    </tr>\n",
       "    <tr>\n",
       "      <th>3</th>\n",
       "      <td>108</td>\n",
       "      <td>282</td>\n",
       "      <td>0</td>\n",
       "      <td>23</td>\n",
       "      <td>67</td>\n",
       "      <td>125</td>\n",
       "      <td>1</td>\n",
       "      <td>0.027846</td>\n",
       "      <td>529</td>\n",
       "      <td>0</td>\n",
       "      <td>529</td>\n",
       "      <td>False</td>\n",
       "    </tr>\n",
       "    <tr>\n",
       "      <th>4</th>\n",
       "      <td>136</td>\n",
       "      <td>286</td>\n",
       "      <td>0</td>\n",
       "      <td>25</td>\n",
       "      <td>62</td>\n",
       "      <td>93</td>\n",
       "      <td>0</td>\n",
       "      <td>0.024194</td>\n",
       "      <td>625</td>\n",
       "      <td>0</td>\n",
       "      <td>0</td>\n",
       "      <td>False</td>\n",
       "    </tr>\n",
       "  </tbody>\n",
       "</table>\n",
       "</div>"
      ],
      "text/plain": [
       "   bwt  gestation  parity  age  height  weight  smoke       bmi  age_squared  \\\n",
       "0  120        284       0   27      62     100      0  0.026015          729   \n",
       "1  113        282       0   33      64     135      0  0.032959         1089   \n",
       "2  128        279       0   28      64     115      1  0.028076          784   \n",
       "3  108        282       0   23      67     125      1  0.027846          529   \n",
       "4  136        286       0   25      62      93      0  0.024194          625   \n",
       "\n",
       "   smoke_earlybirth  age_squared_smoke  earlybirth  \n",
       "0                 0                  0       False  \n",
       "1                 0                  0       False  \n",
       "2                 0                784       False  \n",
       "3                 0                529       False  \n",
       "4                 0                  0       False  "
      ]
     },
     "execution_count": 76,
     "metadata": {},
     "output_type": "execute_result"
    }
   ],
   "source": [
    "# smokers with early births\n",
    "bwt['smoke_earlybirth'] = (bwt['gestation'] < 260) * bwt['smoke']\n",
    "# early births in general\n",
    "bwt['earlybirth'] = bwt['gestation'] < 260\n",
    "# age squared and smoke interaction term\n",
    "bwt['age_squared_smoke'] = bwt['age_squared'] * bwt['smoke']\n",
    "bwt.head()"
   ]
  },
  {
   "cell_type": "markdown",
   "metadata": {},
   "source": [
    "After adding some more variables, let's see what a full regression against the features looks like. We'll drop unnecessary variables from there."
   ]
  },
  {
   "cell_type": "code",
   "execution_count": 77,
   "metadata": {},
   "outputs": [
    {
     "name": "stdout",
     "output_type": "stream",
     "text": [
      "bwt ~ gestation + parity + age + height + weight + smoke + bmi + age_squared + smoke_earlybirth + age_squared_smoke + earlybirth\n"
     ]
    },
    {
     "data": {
      "text/html": [
       "<table class=\"simpletable\">\n",
       "<caption>QuantReg Regression Results</caption>\n",
       "<tr>\n",
       "  <th>Dep. Variable:</th>        <td>bwt</td>       <th>  Pseudo R-squared:  </th> <td>  0.2198</td>\n",
       "</tr>\n",
       "<tr>\n",
       "  <th>Model:</th>             <td>QuantReg</td>     <th>  Bandwidth:         </th> <td>   6.451</td>\n",
       "</tr>\n",
       "<tr>\n",
       "  <th>Method:</th>          <td>Least Squares</td>  <th>  Sparsity:          </th> <td>   130.4</td>\n",
       "</tr>\n",
       "<tr>\n",
       "  <th>Date:</th>          <td>Wed, 23 Jan 2019</td> <th>  No. Observations:  </th>  <td>  1174</td> \n",
       "</tr>\n",
       "<tr>\n",
       "  <th>Time:</th>              <td>17:03:16</td>     <th>  Df Residuals:      </th>  <td>  1162</td> \n",
       "</tr>\n",
       "<tr>\n",
       "  <th> </th>                      <td> </td>        <th>  Df Model:          </th>  <td>    11</td> \n",
       "</tr>\n",
       "</table>\n",
       "<table class=\"simpletable\">\n",
       "<tr>\n",
       "           <td></td>             <th>coef</th>     <th>std err</th>      <th>t</th>      <th>P>|t|</th>  <th>[0.025</th>    <th>0.975]</th>  \n",
       "</tr>\n",
       "<tr>\n",
       "  <th>Intercept</th>          <td>  -44.2006</td> <td>  123.564</td> <td>   -0.358</td> <td> 0.721</td> <td> -286.634</td> <td>  198.232</td>\n",
       "</tr>\n",
       "<tr>\n",
       "  <th>earlybirth[T.True]</th> <td>  -17.7607</td> <td>    5.205</td> <td>   -3.412</td> <td> 0.001</td> <td>  -27.973</td> <td>   -7.549</td>\n",
       "</tr>\n",
       "<tr>\n",
       "  <th>gestation</th>          <td>    0.3408</td> <td>    0.116</td> <td>    2.939</td> <td> 0.003</td> <td>    0.113</td> <td>    0.568</td>\n",
       "</tr>\n",
       "<tr>\n",
       "  <th>parity</th>             <td>   -0.4005</td> <td>    2.259</td> <td>   -0.177</td> <td> 0.859</td> <td>   -4.832</td> <td>    4.031</td>\n",
       "</tr>\n",
       "<tr>\n",
       "  <th>age</th>                <td>   -0.5378</td> <td>    1.238</td> <td>   -0.435</td> <td> 0.664</td> <td>   -2.966</td> <td>    1.891</td>\n",
       "</tr>\n",
       "<tr>\n",
       "  <th>height</th>             <td>    1.0927</td> <td>    1.978</td> <td>    0.552</td> <td> 0.581</td> <td>   -2.789</td> <td>    4.974</td>\n",
       "</tr>\n",
       "<tr>\n",
       "  <th>weight</th>             <td>   -0.1010</td> <td>    0.465</td> <td>   -0.217</td> <td> 0.828</td> <td>   -1.013</td> <td>    0.810</td>\n",
       "</tr>\n",
       "<tr>\n",
       "  <th>smoke</th>              <td>  -13.5320</td> <td>    4.256</td> <td>   -3.180</td> <td> 0.002</td> <td>  -21.882</td> <td>   -5.182</td>\n",
       "</tr>\n",
       "<tr>\n",
       "  <th>bmi</th>                <td>   -3.3847</td> <td> 1871.633</td> <td>   -0.002</td> <td> 0.999</td> <td>-3675.542</td> <td> 3668.773</td>\n",
       "</tr>\n",
       "<tr>\n",
       "  <th>age_squared</th>        <td>    0.0078</td> <td>    0.021</td> <td>    0.376</td> <td> 0.707</td> <td>   -0.033</td> <td>    0.048</td>\n",
       "</tr>\n",
       "<tr>\n",
       "  <th>smoke_earlybirth</th>   <td>   11.2519</td> <td>    6.216</td> <td>    1.810</td> <td> 0.071</td> <td>   -0.943</td> <td>   23.447</td>\n",
       "</tr>\n",
       "<tr>\n",
       "  <th>age_squared_smoke</th>  <td>    0.0048</td> <td>    0.005</td> <td>    0.934</td> <td> 0.350</td> <td>   -0.005</td> <td>    0.015</td>\n",
       "</tr>\n",
       "</table><br/><br/>The condition number is large, 2.58e+06. This might indicate that there are<br/>strong multicollinearity or other numerical problems."
      ],
      "text/plain": [
       "<class 'statsmodels.iolib.summary.Summary'>\n",
       "\"\"\"\n",
       "                         QuantReg Regression Results                          \n",
       "==============================================================================\n",
       "Dep. Variable:                    bwt   Pseudo R-squared:               0.2198\n",
       "Model:                       QuantReg   Bandwidth:                       6.451\n",
       "Method:                 Least Squares   Sparsity:                        130.4\n",
       "Date:                Wed, 23 Jan 2019   No. Observations:                 1174\n",
       "Time:                        17:03:16   Df Residuals:                     1162\n",
       "                                        Df Model:                           11\n",
       "======================================================================================\n",
       "                         coef    std err          t      P>|t|      [0.025      0.975]\n",
       "--------------------------------------------------------------------------------------\n",
       "Intercept            -44.2006    123.564     -0.358      0.721    -286.634     198.232\n",
       "earlybirth[T.True]   -17.7607      5.205     -3.412      0.001     -27.973      -7.549\n",
       "gestation              0.3408      0.116      2.939      0.003       0.113       0.568\n",
       "parity                -0.4005      2.259     -0.177      0.859      -4.832       4.031\n",
       "age                   -0.5378      1.238     -0.435      0.664      -2.966       1.891\n",
       "height                 1.0927      1.978      0.552      0.581      -2.789       4.974\n",
       "weight                -0.1010      0.465     -0.217      0.828      -1.013       0.810\n",
       "smoke                -13.5320      4.256     -3.180      0.002     -21.882      -5.182\n",
       "bmi                   -3.3847   1871.633     -0.002      0.999   -3675.542    3668.773\n",
       "age_squared            0.0078      0.021      0.376      0.707      -0.033       0.048\n",
       "smoke_earlybirth      11.2519      6.216      1.810      0.071      -0.943      23.447\n",
       "age_squared_smoke      0.0048      0.005      0.934      0.350      -0.005       0.015\n",
       "======================================================================================\n",
       "\n",
       "The condition number is large, 2.58e+06. This might indicate that there are\n",
       "strong multicollinearity or other numerical problems.\n",
       "\"\"\""
      ]
     },
     "execution_count": 77,
     "metadata": {},
     "output_type": "execute_result"
    }
   ],
   "source": [
    "# re-run regression\n",
    "# predicting baby weights at 5% quantile\n",
    "target = 'bwt'\n",
    "features = bwt.columns.drop(target)\n",
    "X = bwt[features]\n",
    "y = bwt[target]\n",
    "\n",
    "quant_formula_bwt = 'bwt ~ ' + ' + '.join(X.columns)\n",
    "print(quant_formula_bwt)\n",
    "\n",
    "quant_mod = smf.quantreg(quant_formula_bwt, data=bwt)\n",
    "quant_reg = quant_mod.fit(q=.05)\n",
    "quant_reg.summary()  # \"summary\" is another very R-thing"
   ]
  },
  {
   "cell_type": "markdown",
   "metadata": {},
   "source": [
    "An early birth seems to be by far the most powerful predictor. Let's drop features that aren't significant at alpha=.1 and re-run."
   ]
  },
  {
   "cell_type": "code",
   "execution_count": 81,
   "metadata": {},
   "outputs": [
    {
     "name": "stdout",
     "output_type": "stream",
     "text": [
      "bwt ~ gestation + smoke + earlybirth\n"
     ]
    },
    {
     "data": {
      "text/html": [
       "<table class=\"simpletable\">\n",
       "<caption>QuantReg Regression Results</caption>\n",
       "<tr>\n",
       "  <th>Dep. Variable:</th>        <td>bwt</td>       <th>  Pseudo R-squared:  </th> <td>  0.2021</td>\n",
       "</tr>\n",
       "<tr>\n",
       "  <th>Model:</th>             <td>QuantReg</td>     <th>  Bandwidth:         </th> <td>   6.434</td>\n",
       "</tr>\n",
       "<tr>\n",
       "  <th>Method:</th>          <td>Least Squares</td>  <th>  Sparsity:          </th> <td>   146.6</td>\n",
       "</tr>\n",
       "<tr>\n",
       "  <th>Date:</th>          <td>Wed, 23 Jan 2019</td> <th>  No. Observations:  </th>  <td>  1174</td> \n",
       "</tr>\n",
       "<tr>\n",
       "  <th>Time:</th>              <td>17:10:10</td>     <th>  Df Residuals:      </th>  <td>  1170</td> \n",
       "</tr>\n",
       "<tr>\n",
       "  <th> </th>                      <td> </td>        <th>  Df Model:          </th>  <td>     3</td> \n",
       "</tr>\n",
       "</table>\n",
       "<table class=\"simpletable\">\n",
       "<tr>\n",
       "           <td></td>             <th>coef</th>     <th>std err</th>      <th>t</th>      <th>P>|t|</th>  <th>[0.025</th>    <th>0.975]</th>  \n",
       "</tr>\n",
       "<tr>\n",
       "  <th>Intercept</th>          <td>    8.9538</td> <td>   34.837</td> <td>    0.257</td> <td> 0.797</td> <td>  -59.397</td> <td>   77.304</td>\n",
       "</tr>\n",
       "<tr>\n",
       "  <th>earlybirth[T.True]</th> <td>  -19.8615</td> <td>    5.030</td> <td>   -3.948</td> <td> 0.000</td> <td>  -29.731</td> <td>   -9.992</td>\n",
       "</tr>\n",
       "<tr>\n",
       "  <th>gestation</th>          <td>    0.3231</td> <td>    0.124</td> <td>    2.615</td> <td> 0.009</td> <td>    0.081</td> <td>    0.565</td>\n",
       "</tr>\n",
       "<tr>\n",
       "  <th>smoke</th>              <td>  -10.1231</td> <td>    1.924</td> <td>   -5.260</td> <td> 0.000</td> <td>  -13.899</td> <td>   -6.347</td>\n",
       "</tr>\n",
       "</table><br/><br/>The condition number is large, 6.56e+03. This might indicate that there are<br/>strong multicollinearity or other numerical problems."
      ],
      "text/plain": [
       "<class 'statsmodels.iolib.summary.Summary'>\n",
       "\"\"\"\n",
       "                         QuantReg Regression Results                          \n",
       "==============================================================================\n",
       "Dep. Variable:                    bwt   Pseudo R-squared:               0.2021\n",
       "Model:                       QuantReg   Bandwidth:                       6.434\n",
       "Method:                 Least Squares   Sparsity:                        146.6\n",
       "Date:                Wed, 23 Jan 2019   No. Observations:                 1174\n",
       "Time:                        17:10:10   Df Residuals:                     1170\n",
       "                                        Df Model:                            3\n",
       "======================================================================================\n",
       "                         coef    std err          t      P>|t|      [0.025      0.975]\n",
       "--------------------------------------------------------------------------------------\n",
       "Intercept              8.9538     34.837      0.257      0.797     -59.397      77.304\n",
       "earlybirth[T.True]   -19.8615      5.030     -3.948      0.000     -29.731      -9.992\n",
       "gestation              0.3231      0.124      2.615      0.009       0.081       0.565\n",
       "smoke                -10.1231      1.924     -5.260      0.000     -13.899      -6.347\n",
       "======================================================================================\n",
       "\n",
       "The condition number is large, 6.56e+03. This might indicate that there are\n",
       "strong multicollinearity or other numerical problems.\n",
       "\"\"\""
      ]
     },
     "execution_count": 81,
     "metadata": {},
     "output_type": "execute_result"
    }
   ],
   "source": [
    "# re-run regression\n",
    "# predicting baby weights at 5% quantile\n",
    "target = 'bwt'\n",
    "features = bwt.columns.drop([target, 'parity', 'age', 'height', 'weight', 'bmi', \n",
    "                             'age_squared', 'age_squared_smoke', 'smoke_earlybirth'])\n",
    "X = bwt[features]\n",
    "y = bwt[target]\n",
    "\n",
    "quant_formula_bwt = 'bwt ~ ' + ' + '.join(X.columns)\n",
    "print(quant_formula_bwt)\n",
    "\n",
    "quant_mod = smf.quantreg(quant_formula_bwt, data=bwt)\n",
    "quant_reg = quant_mod.fit(q=.05)\n",
    "quant_reg.summary()  # \"summary\" is another very R-thing"
   ]
  },
  {
   "cell_type": "markdown",
   "metadata": {},
   "source": [
    "Our pseudo R-squared barely moves in this case. I know I've been cheating a bit by working with all of my data, but let's try this model for real by splitting it into a train and test set.\n",
    "\n",
    "To validate, we will see what percent of the true test observations fall above and below the predicted value. If our model is working well, around 5% of results will fall below our predicted value."
   ]
  },
  {
   "cell_type": "code",
   "execution_count": 160,
   "metadata": {},
   "outputs": [
    {
     "name": "stdout",
     "output_type": "stream",
     "text": [
      "bwt ~ gestation + smoke + earlybirth\n"
     ]
    },
    {
     "data": {
      "text/html": [
       "<table class=\"simpletable\">\n",
       "<caption>QuantReg Regression Results</caption>\n",
       "<tr>\n",
       "  <th>Dep. Variable:</th>        <td>bwt</td>       <th>  Pseudo R-squared:  </th> <td>  0.2107</td>\n",
       "</tr>\n",
       "<tr>\n",
       "  <th>Model:</th>             <td>QuantReg</td>     <th>  Bandwidth:         </th> <td>   7.304</td>\n",
       "</tr>\n",
       "<tr>\n",
       "  <th>Method:</th>          <td>Least Squares</td>  <th>  Sparsity:          </th> <td>   122.5</td>\n",
       "</tr>\n",
       "<tr>\n",
       "  <th>Date:</th>          <td>Wed, 23 Jan 2019</td> <th>  No. Observations:  </th>  <td>   780</td> \n",
       "</tr>\n",
       "<tr>\n",
       "  <th>Time:</th>              <td>20:05:12</td>     <th>  Df Residuals:      </th>  <td>   776</td> \n",
       "</tr>\n",
       "<tr>\n",
       "  <th> </th>                      <td> </td>        <th>  Df Model:          </th>  <td>     3</td> \n",
       "</tr>\n",
       "</table>\n",
       "<table class=\"simpletable\">\n",
       "<tr>\n",
       "           <td></td>             <th>coef</th>     <th>std err</th>      <th>t</th>      <th>P>|t|</th>  <th>[0.025</th>    <th>0.975]</th>  \n",
       "</tr>\n",
       "<tr>\n",
       "  <th>Intercept</th>          <td>    1.6562</td> <td>   34.181</td> <td>    0.048</td> <td> 0.961</td> <td>  -65.442</td> <td>   68.754</td>\n",
       "</tr>\n",
       "<tr>\n",
       "  <th>earlybirth[T.True]</th> <td>  -16.7812</td> <td>    4.999</td> <td>   -3.357</td> <td> 0.001</td> <td>  -26.594</td> <td>   -6.969</td>\n",
       "</tr>\n",
       "<tr>\n",
       "  <th>gestation</th>          <td>    0.3438</td> <td>    0.121</td> <td>    2.846</td> <td> 0.005</td> <td>    0.107</td> <td>    0.581</td>\n",
       "</tr>\n",
       "<tr>\n",
       "  <th>smoke</th>              <td>   -3.6250</td> <td>    2.019</td> <td>   -1.795</td> <td> 0.073</td> <td>   -7.589</td> <td>    0.339</td>\n",
       "</tr>\n",
       "</table><br/><br/>The condition number is large, 6.48e+03. This might indicate that there are<br/>strong multicollinearity or other numerical problems."
      ],
      "text/plain": [
       "<class 'statsmodels.iolib.summary.Summary'>\n",
       "\"\"\"\n",
       "                         QuantReg Regression Results                          \n",
       "==============================================================================\n",
       "Dep. Variable:                    bwt   Pseudo R-squared:               0.2107\n",
       "Model:                       QuantReg   Bandwidth:                       7.304\n",
       "Method:                 Least Squares   Sparsity:                        122.5\n",
       "Date:                Wed, 23 Jan 2019   No. Observations:                  780\n",
       "Time:                        20:05:12   Df Residuals:                      776\n",
       "                                        Df Model:                            3\n",
       "======================================================================================\n",
       "                         coef    std err          t      P>|t|      [0.025      0.975]\n",
       "--------------------------------------------------------------------------------------\n",
       "Intercept              1.6562     34.181      0.048      0.961     -65.442      68.754\n",
       "earlybirth[T.True]   -16.7812      4.999     -3.357      0.001     -26.594      -6.969\n",
       "gestation              0.3438      0.121      2.846      0.005       0.107       0.581\n",
       "smoke                 -3.6250      2.019     -1.795      0.073      -7.589       0.339\n",
       "======================================================================================\n",
       "\n",
       "The condition number is large, 6.48e+03. This might indicate that there are\n",
       "strong multicollinearity or other numerical problems.\n",
       "\"\"\""
      ]
     },
     "execution_count": 160,
     "metadata": {},
     "output_type": "execute_result"
    }
   ],
   "source": [
    "# randomly split data into train and test\n",
    "np.random.seed(1)\n",
    "bwt['split'] = np.random.choice(['train', 'test'], size=bwt.shape[0], p=[0.67, 0.33])\n",
    "\n",
    "bwt_train, bwt_test = bwt[bwt['split'] == 'train'], bwt[bwt['split'] == 'test']\n",
    "\n",
    "X_train, y_train = bwt_train[features], bwt_train[target]\n",
    "X_test, y_test = bwt_test[features], bwt_test[target]\n",
    "\n",
    "quant_formula_bwt = 'bwt ~ ' + ' + '.join(X_train.columns)\n",
    "print(quant_formula_bwt)\n",
    "\n",
    "quant_mod = smf.quantreg(quant_formula_bwt, data=bwt_train)\n",
    "quant_reg_final = quant_mod.fit(q=.05)\n",
    "quant_reg_final.summary()  # \"summary\" is another very R-thing"
   ]
  },
  {
   "cell_type": "code",
   "execution_count": 155,
   "metadata": {},
   "outputs": [
    {
     "name": "stdout",
     "output_type": "stream",
     "text": [
      "Actual percent of predictions lying below predicted y value: 0.921\n"
     ]
    }
   ],
   "source": [
    "# validating results output\n",
    "results = pd.DataFrame({'y_predicted': quant_reg_final.predict(X_test), 'y_true': y_test})\n",
    "true_lt_predicted = (results['y_true'] < results['y_predicted']).astype(int)\n",
    "\n",
    "print ('Actual percent of predictions lying below predicted y value:',\n",
    "       round((true_lt_predicted.sum() * 1.0)/true_lt_predicted.count(), 3))"
   ]
  },
  {
   "cell_type": "markdown",
   "metadata": {},
   "source": [
    "## Summary\n",
    "\n",
    "### Risk Factors and Mitigation\n",
    "\n",
    "The coefficient estimations of our quartile regression model (q=0.05) is printed below.\n",
    "\n",
    "The strongest predictors of the 5th quartile in birth weight are\n",
    "\n",
    "1. An Early Birth : defined as a birth occurring earlier than 260 days\n",
    "2. Gestation Period : the absolute amount of days a pregnancy has lasted\n",
    "3. Smoking : A Mother who smokes decreases the expected 5th quartile birth rate\n",
    "\n",
    "Note: late births likely come with their own complications, so 'gestation' should not be considered an absolutely beneficial feature of pregnancy. "
   ]
  },
  {
   "cell_type": "code",
   "execution_count": 161,
   "metadata": {},
   "outputs": [
    {
     "data": {
      "text/html": [
       "<table class=\"simpletable\">\n",
       "<caption>QuantReg Regression Results</caption>\n",
       "<tr>\n",
       "  <th>Dep. Variable:</th>        <td>bwt</td>       <th>  Pseudo R-squared:  </th> <td>  0.2107</td>\n",
       "</tr>\n",
       "<tr>\n",
       "  <th>Model:</th>             <td>QuantReg</td>     <th>  Bandwidth:         </th> <td>   7.304</td>\n",
       "</tr>\n",
       "<tr>\n",
       "  <th>Method:</th>          <td>Least Squares</td>  <th>  Sparsity:          </th> <td>   122.5</td>\n",
       "</tr>\n",
       "<tr>\n",
       "  <th>Date:</th>          <td>Wed, 23 Jan 2019</td> <th>  No. Observations:  </th>  <td>   780</td> \n",
       "</tr>\n",
       "<tr>\n",
       "  <th>Time:</th>              <td>20:12:53</td>     <th>  Df Residuals:      </th>  <td>   776</td> \n",
       "</tr>\n",
       "<tr>\n",
       "  <th> </th>                      <td> </td>        <th>  Df Model:          </th>  <td>     3</td> \n",
       "</tr>\n",
       "</table>\n",
       "<table class=\"simpletable\">\n",
       "<tr>\n",
       "           <td></td>             <th>coef</th>     <th>std err</th>      <th>t</th>      <th>P>|t|</th>  <th>[0.025</th>    <th>0.975]</th>  \n",
       "</tr>\n",
       "<tr>\n",
       "  <th>Intercept</th>          <td>    1.6562</td> <td>   34.181</td> <td>    0.048</td> <td> 0.961</td> <td>  -65.442</td> <td>   68.754</td>\n",
       "</tr>\n",
       "<tr>\n",
       "  <th>earlybirth[T.True]</th> <td>  -16.7812</td> <td>    4.999</td> <td>   -3.357</td> <td> 0.001</td> <td>  -26.594</td> <td>   -6.969</td>\n",
       "</tr>\n",
       "<tr>\n",
       "  <th>gestation</th>          <td>    0.3438</td> <td>    0.121</td> <td>    2.846</td> <td> 0.005</td> <td>    0.107</td> <td>    0.581</td>\n",
       "</tr>\n",
       "<tr>\n",
       "  <th>smoke</th>              <td>   -3.6250</td> <td>    2.019</td> <td>   -1.795</td> <td> 0.073</td> <td>   -7.589</td> <td>    0.339</td>\n",
       "</tr>\n",
       "</table><br/><br/>The condition number is large, 6.48e+03. This might indicate that there are<br/>strong multicollinearity or other numerical problems."
      ],
      "text/plain": [
       "<class 'statsmodels.iolib.summary.Summary'>\n",
       "\"\"\"\n",
       "                         QuantReg Regression Results                          \n",
       "==============================================================================\n",
       "Dep. Variable:                    bwt   Pseudo R-squared:               0.2107\n",
       "Model:                       QuantReg   Bandwidth:                       7.304\n",
       "Method:                 Least Squares   Sparsity:                        122.5\n",
       "Date:                Wed, 23 Jan 2019   No. Observations:                  780\n",
       "Time:                        20:12:53   Df Residuals:                      776\n",
       "                                        Df Model:                            3\n",
       "======================================================================================\n",
       "                         coef    std err          t      P>|t|      [0.025      0.975]\n",
       "--------------------------------------------------------------------------------------\n",
       "Intercept              1.6562     34.181      0.048      0.961     -65.442      68.754\n",
       "earlybirth[T.True]   -16.7812      4.999     -3.357      0.001     -26.594      -6.969\n",
       "gestation              0.3438      0.121      2.846      0.005       0.107       0.581\n",
       "smoke                 -3.6250      2.019     -1.795      0.073      -7.589       0.339\n",
       "======================================================================================\n",
       "\n",
       "The condition number is large, 6.48e+03. This might indicate that there are\n",
       "strong multicollinearity or other numerical problems.\n",
       "\"\"\""
      ]
     },
     "execution_count": 161,
     "metadata": {},
     "output_type": "execute_result"
    }
   ],
   "source": [
    "quant_reg_final.summary()"
   ]
  },
  {
   "cell_type": "markdown",
   "metadata": {},
   "source": [
    "To mitigate risks, mothers should avoid smoking and take steps (to the extent possible) to prevent early births from occurring. The Mayo Clinic lists the following risk factors for premature births:\n",
    "\n",
    "- Having a previous premature birth\n",
    "- Pregnancy with twins, triplets or other multiples\n",
    "- An interval of less than six months between pregnancies\n",
    "- Conceiving through in vitro fertilization\n",
    "- Problems with the uterus, cervix or placenta\n",
    "- Smoking cigarettes or using illicit drugs\n",
    "- Some infections, particularly of the amniotic fluid and lower genital tract\n",
    "- Some chronic conditions, such as high blood pressure and diabetes\n",
    "- Being underweight or overweight before pregnancy\n",
    "- Stressful life events, such as the death of a loved one or domestic violence\n",
    "- Multiple miscarriages or abortions\n",
    "- Physical injury or trauma\n",
    "\n",
    "### Performance\n",
    "\n",
    "As shown above, we an compare our predictions on the test data to the actual amount of baby weight points lying below our estimates. In our test data, only 5.6% of points lie below our estimated weight."
   ]
  },
  {
   "cell_type": "code",
   "execution_count": 162,
   "metadata": {},
   "outputs": [
    {
     "name": "stdout",
     "output_type": "stream",
     "text": [
      "Actual percent of predictions lying below predicted y value: 0.056\n"
     ]
    }
   ],
   "source": [
    "# validating results output\n",
    "results = pd.DataFrame({'y_predicted': quant_reg_final.predict(X_test), 'y_true': y_test})\n",
    "true_lt_predicted = (results['y_true'] < results['y_predicted']).astype(int)\n",
    "\n",
    "print ('Actual percent of predictions lying below predicted y value:',\n",
    "       round((true_lt_predicted.sum() * 1.0)/true_lt_predicted.count(), 3))"
   ]
  },
  {
   "cell_type": "markdown",
   "metadata": {},
   "source": [
    "Let's visualize our only final continuous feature, gestation period, and compare our predicted values to the actual results."
   ]
  },
  {
   "cell_type": "code",
   "execution_count": 163,
   "metadata": {},
   "outputs": [],
   "source": [
    "# create sample data for gestation, assuming smoking and no smoking\n",
    "gestation = np.arange(175, 350, 0.5)\n",
    "early_birth = np.where(gestation < 260, 1, 0)\n",
    "X_plot_smoke = pd.DataFrame({'gestation' : gestation, 'smoke' : 1, 'earlybirth' : early_birth})\n",
    "X_plot_nosmoke = pd.DataFrame({'gestation' : gestation, 'smoke' : 0, 'earlybirth' : early_birth})\n",
    "\n",
    "y_plot_smoke, y_plot_nosmoke = quant_reg_final.predict(X_plot_smoke), quant_reg_final.predict(X_plot_nosmoke)"
   ]
  },
  {
   "cell_type": "code",
   "execution_count": 165,
   "metadata": {},
   "outputs": [
    {
     "data": {
      "image/png": "[encoded data removed]",
      "text/plain": [
       "<Figure size 936x648 with 1 Axes>"
      ]
     },
     "metadata": {
      "needs_background": "light"
     },
     "output_type": "display_data"
    }
   ],
   "source": [
    "# plotting line of best fit for smokers\n",
    "fig_smoke, ax_smoke = plt.subplots(figsize=(13,9))\n",
    "\n",
    "ax_smoke.plot(X_plot_smoke['gestation'], y_plot_smoke, label='Best Fit Line, Smokers', c='blue')\n",
    "ax_smoke.scatter(X_test['gestation'][X_test['smoke']==True], y_test[X_test['smoke']==True], \n",
    "                 alpha=0.2, \n",
    "                 c='blue',\n",
    "                 label='Test Data: Smokers')\n",
    "\n",
    "# plotting line of best fit and scatter plot for non-smokers\n",
    "ax_smoke.plot(X_plot_nosmoke['gestation'], y_plot_nosmoke, label='Best Fit Line, Non-Smokers', c='red')\n",
    "ax_smoke.scatter(X_test['gestation'][X_test['smoke']==False], y_test[X_test['smoke']==False], \n",
    "                 alpha=0.2, \n",
    "                 c='red',\n",
    "                 label='Test Data: Non-Smokers')\n",
    "\n",
    "# cutoff for early birth binary variable\n",
    "ax_smoke.axvline(x=260, c='black', linestyle='--', label='Early Birth Cutoff (< 260 Days)')\n",
    "\n",
    "# labeling\n",
    "ax_smoke.set_ylabel('Baby Weight (oz)')\n",
    "ax_smoke.set_xlabel('Pregnancy Lenth (days)')\n",
    "ax_smoke.legend(loc='upper left')\n",
    "ax_smoke.set_title('Predicting Baby Weight With Quantile Regression (q=0.05)')\n",
    "\n",
    "# annotations\n",
    "ax_smoke.text(310, 150, '95% of True Points Should \\nLie Above Best Fit Line', fontsize=12)\n",
    "ax_smoke.text(300, 60, '5% of True Points Should \\nLie Below Best Fit Line', fontsize=12)\n",
    "\n",
    "plt.show()"
   ]
  },
  {
   "cell_type": "code",
   "execution_count": null,
   "metadata": {},
   "outputs": [],
   "source": []
  },
  {
   "cell_type": "markdown",
   "metadata": {
    "colab_type": "text",
    "id": "XY9JGAnJisdB"
   },
   "source": [
    "## Resources and stretch goals"
   ]
  },
  {
   "cell_type": "markdown",
   "metadata": {
    "colab_type": "text",
    "id": "inFWXSpqmND5"
   },
   "source": [
    "Resources:\n",
    "- [statsmodels QuantReg example](http://www.statsmodels.org/dev/examples/notebooks/generated/quantile_regression.html)\n",
    "- [How Shopify used Quantile Regression in modeling risk](https://medium.com/data-shopify/how-shopify-capital-uses-quantile-regression-to-help-merchants-succeed-10ee1b36b17d)\n",
    "- [Intro to Quantile Regression](https://www.youtube.com/watch?v=pAKwoz05lK4)\n",
    "\n",
    "Stretch goals:\n",
    "- Find a dataset where you think quantile regression may be appropriate, and try both it and linear regression - compare/contrast their strengths/weaknesses, and write a summary for which you think is better for the situation and why\n",
    "- Check out [deep quantile regression](https://www.kdnuggets.com/2018/07/deep-quantile-regression.html), an approach that uses a custom quantile loss function and Keras to train a quantile model"
   ]
  },
  {
   "cell_type": "code",
   "execution_count": null,
   "metadata": {},
   "outputs": [],
   "source": []
  }
 ],
 "metadata": {
  "colab": {
   "name": "LS_DS_233_Quantile_Regression.ipynb",
   "provenance": [],
   "version": "0.3.2"
  },
  "kernelspec": {
   "display_name": "Python 3",
   "language": "python",
   "name": "python3"
  },
  "language_info": {
   "codemirror_mode": {
    "name": "ipython",
    "version": 3
   },
   "file_extension": ".py",
   "mimetype": "text/x-python",
   "name": "python",
   "nbconvert_exporter": "python",
   "pygments_lexer": "ipython3",
   "version": "3.6.6"
  }
 },
 "nbformat": 4,
 "nbformat_minor": 1
}
