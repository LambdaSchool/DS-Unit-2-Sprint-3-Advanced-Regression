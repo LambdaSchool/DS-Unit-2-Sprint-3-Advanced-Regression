{
 "cells": [
  {
   "cell_type": "markdown",
   "metadata": {
    "colab_type": "text",
    "id": "SV7gaADiicnV"
   },
   "source": [
    "# Lambda School Data Science - Quantile Regression\n",
    "\n",
    "Regressing towards the median - or any quantile - as a way to mitigate outliers and control risk."
   ]
  },
  {
   "cell_type": "markdown",
   "metadata": {
    "colab_type": "text",
    "id": "6klMj4q3iqMh"
   },
   "source": [
    "## Lecture\n",
    "\n",
    "Let's look at data that has a bit of a skew to it:\n",
    "\n",
    "http://archive.ics.uci.edu/ml/datasets/Beijing+PM2.5+Data"
   ]
  },
  {
   "cell_type": "code",
   "execution_count": 1,
   "metadata": {
    "colab": {},
    "colab_type": "code",
    "id": "yw1AD_z9O0xL"
   },
   "outputs": [],
   "source": [
    "import pandas as pd\n",
    "df = pd.read_csv('http://archive.ics.uci.edu/ml/machine-learning-databases/'\n",
    "                 '00381/PRSA_data_2010.1.1-2014.12.31.csv')"
   ]
  },
  {
   "cell_type": "code",
   "execution_count": 2,
   "metadata": {
    "colab": {
     "base_uri": "https://localhost:8080/",
     "height": 206
    },
    "colab_type": "code",
    "id": "RTlH1lJ8PDv5",
    "outputId": "e073db49-81bd-4ebd-f43b-69c92aea8467"
   },
   "outputs": [
    {
     "data": {
      "text/html": [
       "<div>\n",
       "<style scoped>\n",
       "    .dataframe tbody tr th:only-of-type {\n",
       "        vertical-align: middle;\n",
       "    }\n",
       "\n",
       "    .dataframe tbody tr th {\n",
       "        vertical-align: top;\n",
       "    }\n",
       "\n",
       "    .dataframe thead th {\n",
       "        text-align: right;\n",
       "    }\n",
       "</style>\n",
       "<table border=\"1\" class=\"dataframe\">\n",
       "  <thead>\n",
       "    <tr style=\"text-align: right;\">\n",
       "      <th></th>\n",
       "      <th>No</th>\n",
       "      <th>year</th>\n",
       "      <th>month</th>\n",
       "      <th>day</th>\n",
       "      <th>hour</th>\n",
       "      <th>pm2.5</th>\n",
       "      <th>DEWP</th>\n",
       "      <th>TEMP</th>\n",
       "      <th>PRES</th>\n",
       "      <th>cbwd</th>\n",
       "      <th>Iws</th>\n",
       "      <th>Is</th>\n",
       "      <th>Ir</th>\n",
       "    </tr>\n",
       "  </thead>\n",
       "  <tbody>\n",
       "    <tr>\n",
       "      <th>0</th>\n",
       "      <td>1</td>\n",
       "      <td>2010</td>\n",
       "      <td>1</td>\n",
       "      <td>1</td>\n",
       "      <td>0</td>\n",
       "      <td>NaN</td>\n",
       "      <td>-21</td>\n",
       "      <td>-11.0</td>\n",
       "      <td>1021.0</td>\n",
       "      <td>NW</td>\n",
       "      <td>1.79</td>\n",
       "      <td>0</td>\n",
       "      <td>0</td>\n",
       "    </tr>\n",
       "    <tr>\n",
       "      <th>1</th>\n",
       "      <td>2</td>\n",
       "      <td>2010</td>\n",
       "      <td>1</td>\n",
       "      <td>1</td>\n",
       "      <td>1</td>\n",
       "      <td>NaN</td>\n",
       "      <td>-21</td>\n",
       "      <td>-12.0</td>\n",
       "      <td>1020.0</td>\n",
       "      <td>NW</td>\n",
       "      <td>4.92</td>\n",
       "      <td>0</td>\n",
       "      <td>0</td>\n",
       "    </tr>\n",
       "    <tr>\n",
       "      <th>2</th>\n",
       "      <td>3</td>\n",
       "      <td>2010</td>\n",
       "      <td>1</td>\n",
       "      <td>1</td>\n",
       "      <td>2</td>\n",
       "      <td>NaN</td>\n",
       "      <td>-21</td>\n",
       "      <td>-11.0</td>\n",
       "      <td>1019.0</td>\n",
       "      <td>NW</td>\n",
       "      <td>6.71</td>\n",
       "      <td>0</td>\n",
       "      <td>0</td>\n",
       "    </tr>\n",
       "    <tr>\n",
       "      <th>3</th>\n",
       "      <td>4</td>\n",
       "      <td>2010</td>\n",
       "      <td>1</td>\n",
       "      <td>1</td>\n",
       "      <td>3</td>\n",
       "      <td>NaN</td>\n",
       "      <td>-21</td>\n",
       "      <td>-14.0</td>\n",
       "      <td>1019.0</td>\n",
       "      <td>NW</td>\n",
       "      <td>9.84</td>\n",
       "      <td>0</td>\n",
       "      <td>0</td>\n",
       "    </tr>\n",
       "    <tr>\n",
       "      <th>4</th>\n",
       "      <td>5</td>\n",
       "      <td>2010</td>\n",
       "      <td>1</td>\n",
       "      <td>1</td>\n",
       "      <td>4</td>\n",
       "      <td>NaN</td>\n",
       "      <td>-20</td>\n",
       "      <td>-12.0</td>\n",
       "      <td>1018.0</td>\n",
       "      <td>NW</td>\n",
       "      <td>12.97</td>\n",
       "      <td>0</td>\n",
       "      <td>0</td>\n",
       "    </tr>\n",
       "  </tbody>\n",
       "</table>\n",
       "</div>"
      ],
      "text/plain": [
       "   No  year  month  day  hour  pm2.5  DEWP  TEMP    PRES cbwd    Iws  Is  Ir\n",
       "0   1  2010      1    1     0    NaN   -21 -11.0  1021.0   NW   1.79   0   0\n",
       "1   2  2010      1    1     1    NaN   -21 -12.0  1020.0   NW   4.92   0   0\n",
       "2   3  2010      1    1     2    NaN   -21 -11.0  1019.0   NW   6.71   0   0\n",
       "3   4  2010      1    1     3    NaN   -21 -14.0  1019.0   NW   9.84   0   0\n",
       "4   5  2010      1    1     4    NaN   -20 -12.0  1018.0   NW  12.97   0   0"
      ]
     },
     "execution_count": 2,
     "metadata": {},
     "output_type": "execute_result"
    }
   ],
   "source": [
    "df.head()"
   ]
  },
  {
   "cell_type": "code",
   "execution_count": 3,
   "metadata": {
    "colab": {
     "base_uri": "https://localhost:8080/",
     "height": 320
    },
    "colab_type": "code",
    "id": "m-yC9OSPPFo8",
    "outputId": "d5602fe7-31ad-458e-d466-212c99e51cf4"
   },
   "outputs": [
    {
     "data": {
      "text/html": [
       "<div>\n",
       "<style scoped>\n",
       "    .dataframe tbody tr th:only-of-type {\n",
       "        vertical-align: middle;\n",
       "    }\n",
       "\n",
       "    .dataframe tbody tr th {\n",
       "        vertical-align: top;\n",
       "    }\n",
       "\n",
       "    .dataframe thead th {\n",
       "        text-align: right;\n",
       "    }\n",
       "</style>\n",
       "<table border=\"1\" class=\"dataframe\">\n",
       "  <thead>\n",
       "    <tr style=\"text-align: right;\">\n",
       "      <th></th>\n",
       "      <th>No</th>\n",
       "      <th>year</th>\n",
       "      <th>month</th>\n",
       "      <th>day</th>\n",
       "      <th>hour</th>\n",
       "      <th>pm2.5</th>\n",
       "      <th>DEWP</th>\n",
       "      <th>TEMP</th>\n",
       "      <th>PRES</th>\n",
       "      <th>Iws</th>\n",
       "      <th>Is</th>\n",
       "      <th>Ir</th>\n",
       "    </tr>\n",
       "  </thead>\n",
       "  <tbody>\n",
       "    <tr>\n",
       "      <th>count</th>\n",
       "      <td>43824.000000</td>\n",
       "      <td>43824.000000</td>\n",
       "      <td>43824.000000</td>\n",
       "      <td>43824.000000</td>\n",
       "      <td>43824.000000</td>\n",
       "      <td>41757.000000</td>\n",
       "      <td>43824.000000</td>\n",
       "      <td>43824.000000</td>\n",
       "      <td>43824.000000</td>\n",
       "      <td>43824.000000</td>\n",
       "      <td>43824.000000</td>\n",
       "      <td>43824.000000</td>\n",
       "    </tr>\n",
       "    <tr>\n",
       "      <th>mean</th>\n",
       "      <td>21912.500000</td>\n",
       "      <td>2012.000000</td>\n",
       "      <td>6.523549</td>\n",
       "      <td>15.727820</td>\n",
       "      <td>11.500000</td>\n",
       "      <td>98.613215</td>\n",
       "      <td>1.817246</td>\n",
       "      <td>12.448521</td>\n",
       "      <td>1016.447654</td>\n",
       "      <td>23.889140</td>\n",
       "      <td>0.052734</td>\n",
       "      <td>0.194916</td>\n",
       "    </tr>\n",
       "    <tr>\n",
       "      <th>std</th>\n",
       "      <td>12651.043435</td>\n",
       "      <td>1.413842</td>\n",
       "      <td>3.448572</td>\n",
       "      <td>8.799425</td>\n",
       "      <td>6.922266</td>\n",
       "      <td>92.050387</td>\n",
       "      <td>14.433440</td>\n",
       "      <td>12.198613</td>\n",
       "      <td>10.268698</td>\n",
       "      <td>50.010635</td>\n",
       "      <td>0.760375</td>\n",
       "      <td>1.415867</td>\n",
       "    </tr>\n",
       "    <tr>\n",
       "      <th>min</th>\n",
       "      <td>1.000000</td>\n",
       "      <td>2010.000000</td>\n",
       "      <td>1.000000</td>\n",
       "      <td>1.000000</td>\n",
       "      <td>0.000000</td>\n",
       "      <td>0.000000</td>\n",
       "      <td>-40.000000</td>\n",
       "      <td>-19.000000</td>\n",
       "      <td>991.000000</td>\n",
       "      <td>0.450000</td>\n",
       "      <td>0.000000</td>\n",
       "      <td>0.000000</td>\n",
       "    </tr>\n",
       "    <tr>\n",
       "      <th>25%</th>\n",
       "      <td>10956.750000</td>\n",
       "      <td>2011.000000</td>\n",
       "      <td>4.000000</td>\n",
       "      <td>8.000000</td>\n",
       "      <td>5.750000</td>\n",
       "      <td>29.000000</td>\n",
       "      <td>-10.000000</td>\n",
       "      <td>2.000000</td>\n",
       "      <td>1008.000000</td>\n",
       "      <td>1.790000</td>\n",
       "      <td>0.000000</td>\n",
       "      <td>0.000000</td>\n",
       "    </tr>\n",
       "    <tr>\n",
       "      <th>50%</th>\n",
       "      <td>21912.500000</td>\n",
       "      <td>2012.000000</td>\n",
       "      <td>7.000000</td>\n",
       "      <td>16.000000</td>\n",
       "      <td>11.500000</td>\n",
       "      <td>72.000000</td>\n",
       "      <td>2.000000</td>\n",
       "      <td>14.000000</td>\n",
       "      <td>1016.000000</td>\n",
       "      <td>5.370000</td>\n",
       "      <td>0.000000</td>\n",
       "      <td>0.000000</td>\n",
       "    </tr>\n",
       "    <tr>\n",
       "      <th>75%</th>\n",
       "      <td>32868.250000</td>\n",
       "      <td>2013.000000</td>\n",
       "      <td>10.000000</td>\n",
       "      <td>23.000000</td>\n",
       "      <td>17.250000</td>\n",
       "      <td>137.000000</td>\n",
       "      <td>15.000000</td>\n",
       "      <td>23.000000</td>\n",
       "      <td>1025.000000</td>\n",
       "      <td>21.910000</td>\n",
       "      <td>0.000000</td>\n",
       "      <td>0.000000</td>\n",
       "    </tr>\n",
       "    <tr>\n",
       "      <th>max</th>\n",
       "      <td>43824.000000</td>\n",
       "      <td>2014.000000</td>\n",
       "      <td>12.000000</td>\n",
       "      <td>31.000000</td>\n",
       "      <td>23.000000</td>\n",
       "      <td>994.000000</td>\n",
       "      <td>28.000000</td>\n",
       "      <td>42.000000</td>\n",
       "      <td>1046.000000</td>\n",
       "      <td>585.600000</td>\n",
       "      <td>27.000000</td>\n",
       "      <td>36.000000</td>\n",
       "    </tr>\n",
       "  </tbody>\n",
       "</table>\n",
       "</div>"
      ],
      "text/plain": [
       "                 No          year         month           day          hour  \\\n",
       "count  43824.000000  43824.000000  43824.000000  43824.000000  43824.000000   \n",
       "mean   21912.500000   2012.000000      6.523549     15.727820     11.500000   \n",
       "std    12651.043435      1.413842      3.448572      8.799425      6.922266   \n",
       "min        1.000000   2010.000000      1.000000      1.000000      0.000000   \n",
       "25%    10956.750000   2011.000000      4.000000      8.000000      5.750000   \n",
       "50%    21912.500000   2012.000000      7.000000     16.000000     11.500000   \n",
       "75%    32868.250000   2013.000000     10.000000     23.000000     17.250000   \n",
       "max    43824.000000   2014.000000     12.000000     31.000000     23.000000   \n",
       "\n",
       "              pm2.5          DEWP          TEMP          PRES           Iws  \\\n",
       "count  41757.000000  43824.000000  43824.000000  43824.000000  43824.000000   \n",
       "mean      98.613215      1.817246     12.448521   1016.447654     23.889140   \n",
       "std       92.050387     14.433440     12.198613     10.268698     50.010635   \n",
       "min        0.000000    -40.000000    -19.000000    991.000000      0.450000   \n",
       "25%       29.000000    -10.000000      2.000000   1008.000000      1.790000   \n",
       "50%       72.000000      2.000000     14.000000   1016.000000      5.370000   \n",
       "75%      137.000000     15.000000     23.000000   1025.000000     21.910000   \n",
       "max      994.000000     28.000000     42.000000   1046.000000    585.600000   \n",
       "\n",
       "                 Is            Ir  \n",
       "count  43824.000000  43824.000000  \n",
       "mean       0.052734      0.194916  \n",
       "std        0.760375      1.415867  \n",
       "min        0.000000      0.000000  \n",
       "25%        0.000000      0.000000  \n",
       "50%        0.000000      0.000000  \n",
       "75%        0.000000      0.000000  \n",
       "max       27.000000     36.000000  "
      ]
     },
     "execution_count": 3,
     "metadata": {},
     "output_type": "execute_result"
    }
   ],
   "source": [
    "df.describe()"
   ]
  },
  {
   "cell_type": "code",
   "execution_count": 4,
   "metadata": {
    "colab": {
     "base_uri": "https://localhost:8080/",
     "height": 347
    },
    "colab_type": "code",
    "id": "hfV3WisFP_O6",
    "outputId": "a9809666-6c33-4778-fe1c-f3030f89d431"
   },
   "outputs": [],
   "source": [
    "df['pm2.5'].plot.hist();"
   ]
  },
  {
   "cell_type": "code",
   "execution_count": 5,
   "metadata": {
    "colab": {
     "base_uri": "https://localhost:8080/",
     "height": 34
    },
    "colab_type": "code",
    "id": "OgbMTAHzQJB8",
    "outputId": "15e18384-ede7-4ccd-8961-280b35f66f85"
   },
   "outputs": [
    {
     "data": {
      "text/plain": [
       "0.25900063996588474"
      ]
     },
     "execution_count": 5,
     "metadata": {},
     "output_type": "execute_result"
    }
   ],
   "source": [
    "# How does linear regression handle it?\n",
    "from sklearn.linear_model import LinearRegression\n",
    "\n",
    "# Let's drop NAs and limit to numeric values\n",
    "df = df._get_numeric_data().dropna()\n",
    "X = df.drop('pm2.5', axis='columns')\n",
    "y = df['pm2.5']\n",
    "\n",
    "linear_reg = LinearRegression().fit(X, y)\n",
    "linear_reg.score(X, y)"
   ]
  },
  {
   "cell_type": "code",
   "execution_count": 6,
   "metadata": {
    "colab": {
     "base_uri": "https://localhost:8080/",
     "height": 462
    },
    "colab_type": "code",
    "id": "-viFFtm0RizM",
    "outputId": "256d7680-1a43-4958-c74c-31aaef917906"
   },
   "outputs": [
    {
     "name": "stdout",
     "output_type": "stream",
     "text": [
      "pm25 ~ No + year + month + day + hour + DEWP + TEMP + PRES + Iws + Is + Ir\n"
     ]
    },
    {
     "name": "stderr",
     "output_type": "stream",
     "text": [
      "C:\\Users\\dakot\\Anaconda3\\lib\\site-packages\\scipy\\stats\\stats.py:1713: FutureWarning: Using a non-tuple sequence for multidimensional indexing is deprecated; use `arr[tuple(seq)]` instead of `arr[seq]`. In the future this will be interpreted as an array index, `arr[np.array(seq)]`, which will result either in an error or a different result.\n",
      "  return np.add.reduce(sorted[indexer] * weights, axis=axis) / sumval\n"
     ]
    },
    {
     "data": {
      "text/html": [
       "<table class=\"simpletable\">\n",
       "<caption>QuantReg Regression Results</caption>\n",
       "<tr>\n",
       "  <th>Dep. Variable:</th>       <td>pm25</td>       <th>  Pseudo R-squared:  </th> <td>  0.1600</td>\n",
       "</tr>\n",
       "<tr>\n",
       "  <th>Model:</th>             <td>QuantReg</td>     <th>  Bandwidth:         </th> <td>   8.276</td>\n",
       "</tr>\n",
       "<tr>\n",
       "  <th>Method:</th>          <td>Least Squares</td>  <th>  Sparsity:          </th> <td>   133.8</td>\n",
       "</tr>\n",
       "<tr>\n",
       "  <th>Date:</th>          <td>Wed, 23 Jan 2019</td> <th>  No. Observations:  </th>  <td> 41757</td> \n",
       "</tr>\n",
       "<tr>\n",
       "  <th>Time:</th>              <td>17:30:59</td>     <th>  Df Residuals:      </th>  <td> 41745</td> \n",
       "</tr>\n",
       "<tr>\n",
       "  <th> </th>                      <td> </td>        <th>  Df Model:          </th>  <td>    11</td> \n",
       "</tr>\n",
       "</table>\n",
       "<table class=\"simpletable\">\n",
       "<tr>\n",
       "      <td></td>         <th>coef</th>     <th>std err</th>      <th>t</th>      <th>P>|t|</th>  <th>[0.025</th>    <th>0.975]</th>  \n",
       "</tr>\n",
       "<tr>\n",
       "  <th>Intercept</th> <td>    0.0004</td> <td> 1.67e-05</td> <td>   22.881</td> <td> 0.000</td> <td>    0.000</td> <td>    0.000</td>\n",
       "</tr>\n",
       "<tr>\n",
       "  <th>No</th>        <td>  3.63e-07</td> <td> 2.67e-05</td> <td>    0.014</td> <td> 0.989</td> <td> -5.2e-05</td> <td> 5.27e-05</td>\n",
       "</tr>\n",
       "<tr>\n",
       "  <th>year</th>      <td>    0.8830</td> <td>    0.031</td> <td>   28.631</td> <td> 0.000</td> <td>    0.823</td> <td>    0.943</td>\n",
       "</tr>\n",
       "<tr>\n",
       "  <th>month</th>     <td>   -1.4110</td> <td>    0.103</td> <td>  -13.749</td> <td> 0.000</td> <td>   -1.612</td> <td>   -1.210</td>\n",
       "</tr>\n",
       "<tr>\n",
       "  <th>day</th>       <td>    0.4461</td> <td>    0.037</td> <td>   11.951</td> <td> 0.000</td> <td>    0.373</td> <td>    0.519</td>\n",
       "</tr>\n",
       "<tr>\n",
       "  <th>hour</th>      <td>    1.2810</td> <td>    0.050</td> <td>   25.779</td> <td> 0.000</td> <td>    1.184</td> <td>    1.378</td>\n",
       "</tr>\n",
       "<tr>\n",
       "  <th>DEWP</th>      <td>    3.6362</td> <td>    0.047</td> <td>   77.315</td> <td> 0.000</td> <td>    3.544</td> <td>    3.728</td>\n",
       "</tr>\n",
       "<tr>\n",
       "  <th>TEMP</th>      <td>   -4.7103</td> <td>    0.060</td> <td>  -78.779</td> <td> 0.000</td> <td>   -4.828</td> <td>   -4.593</td>\n",
       "</tr>\n",
       "<tr>\n",
       "  <th>PRES</th>      <td>   -1.6265</td> <td>    0.061</td> <td>  -26.760</td> <td> 0.000</td> <td>   -1.746</td> <td>   -1.507</td>\n",
       "</tr>\n",
       "<tr>\n",
       "  <th>Iws</th>       <td>   -0.1541</td> <td>    0.007</td> <td>  -21.786</td> <td> 0.000</td> <td>   -0.168</td> <td>   -0.140</td>\n",
       "</tr>\n",
       "<tr>\n",
       "  <th>Is</th>        <td>   -1.6322</td> <td>    0.425</td> <td>   -3.838</td> <td> 0.000</td> <td>   -2.466</td> <td>   -0.799</td>\n",
       "</tr>\n",
       "<tr>\n",
       "  <th>Ir</th>        <td>   -5.3946</td> <td>    0.234</td> <td>  -23.034</td> <td> 0.000</td> <td>   -5.854</td> <td>   -4.936</td>\n",
       "</tr>\n",
       "</table><br/><br/>The condition number is large, 3.26e+10. This might indicate that there are<br/>strong multicollinearity or other numerical problems."
      ],
      "text/plain": [
       "<class 'statsmodels.iolib.summary.Summary'>\n",
       "\"\"\"\n",
       "                         QuantReg Regression Results                          \n",
       "==============================================================================\n",
       "Dep. Variable:                   pm25   Pseudo R-squared:               0.1600\n",
       "Model:                       QuantReg   Bandwidth:                       8.276\n",
       "Method:                 Least Squares   Sparsity:                        133.8\n",
       "Date:                Wed, 23 Jan 2019   No. Observations:                41757\n",
       "Time:                        17:30:59   Df Residuals:                    41745\n",
       "                                        Df Model:                           11\n",
       "==============================================================================\n",
       "                 coef    std err          t      P>|t|      [0.025      0.975]\n",
       "------------------------------------------------------------------------------\n",
       "Intercept      0.0004   1.67e-05     22.881      0.000       0.000       0.000\n",
       "No           3.63e-07   2.67e-05      0.014      0.989    -5.2e-05    5.27e-05\n",
       "year           0.8830      0.031     28.631      0.000       0.823       0.943\n",
       "month         -1.4110      0.103    -13.749      0.000      -1.612      -1.210\n",
       "day            0.4461      0.037     11.951      0.000       0.373       0.519\n",
       "hour           1.2810      0.050     25.779      0.000       1.184       1.378\n",
       "DEWP           3.6362      0.047     77.315      0.000       3.544       3.728\n",
       "TEMP          -4.7103      0.060    -78.779      0.000      -4.828      -4.593\n",
       "PRES          -1.6265      0.061    -26.760      0.000      -1.746      -1.507\n",
       "Iws           -0.1541      0.007    -21.786      0.000      -0.168      -0.140\n",
       "Is            -1.6322      0.425     -3.838      0.000      -2.466      -0.799\n",
       "Ir            -5.3946      0.234    -23.034      0.000      -5.854      -4.936\n",
       "==============================================================================\n",
       "\n",
       "The condition number is large, 3.26e+10. This might indicate that there are\n",
       "strong multicollinearity or other numerical problems.\n",
       "\"\"\""
      ]
     },
     "execution_count": 6,
     "metadata": {},
     "output_type": "execute_result"
    }
   ],
   "source": [
    "# Not bad - but what if we wanted to model the distribution more conservatively?\n",
    "# Let's try quantile\n",
    "import statsmodels.formula.api as smf\n",
    "\n",
    "# Different jargon/API in StatsModel documentation\n",
    "# \"endogenous\" response var is dependent (y), it is \"inside\"\n",
    "# \"exogenous\" variables are independent (X), it is \"outside\"\n",
    "# Bonus points - talk about \"exogenous shocks\" and you're a bona fide economist\n",
    "\n",
    "# ~ style formulas look like what R uses\n",
    "# y ~ x1 + x2 + ...\n",
    "# Also, these formulas break with . in variable name, so lets change that\n",
    "df = df.rename(index=str, columns={'pm2.5': 'pm25'})\n",
    "\n",
    "# Now let's construct the formula string using all columns\n",
    "quant_formula = 'pm25 ~ ' + ' + '.join(df.drop('pm25', axis='columns').columns)\n",
    "print(quant_formula)\n",
    "\n",
    "quant_mod = smf.quantreg(quant_formula, data=df)\n",
    "quant_reg = quant_mod.fit(q=.5)\n",
    "quant_reg.summary()  # \"summary\" is another very R-thing"
   ]
  },
  {
   "cell_type": "markdown",
   "metadata": {
    "colab_type": "text",
    "id": "ZBkP4bewd-HT"
   },
   "source": [
    "That fit to the median (q=0.5), also called \"Least Absolute Deviation.\" The pseudo-R^2 isn't really directly comparable to the R^2 from linear regression, but it clearly isn't dramatically improved. Can we make it better?"
   ]
  },
  {
   "cell_type": "code",
   "execution_count": 7,
   "metadata": {
    "colab": {
     "base_uri": "https://localhost:8080/",
     "height": 593
    },
    "colab_type": "code",
    "id": "BgvYeHg3bL4g",
    "outputId": "bf4547a0-7739-45d8-bf5a-26ab1684f7f6"
   },
   "outputs": [
    {
     "name": "stdout",
     "output_type": "stream",
     "text": [
      "Help on method fit in module statsmodels.regression.quantile_regression:\n",
      "\n",
      "fit(q=0.5, vcov='robust', kernel='epa', bandwidth='hsheather', max_iter=1000, p_tol=1e-06, **kwargs) method of statsmodels.regression.quantile_regression.QuantReg instance\n",
      "    Solve by Iterative Weighted Least Squares\n",
      "    \n",
      "    Parameters\n",
      "    ----------\n",
      "    q : float\n",
      "        Quantile must be between 0 and 1\n",
      "    vcov : string, method used to calculate the variance-covariance matrix\n",
      "        of the parameters. Default is ``robust``:\n",
      "    \n",
      "        - robust : heteroskedasticity robust standard errors (as suggested\n",
      "          in Greene 6th edition)\n",
      "        - iid : iid errors (as in Stata 12)\n",
      "    \n",
      "    kernel : string, kernel to use in the kernel density estimation for the\n",
      "        asymptotic covariance matrix:\n",
      "    \n",
      "        - epa: Epanechnikov\n",
      "        - cos: Cosine\n",
      "        - gau: Gaussian\n",
      "        - par: Parzene\n",
      "    \n",
      "    bandwidth: string, Bandwidth selection method in kernel density\n",
      "        estimation for asymptotic covariance estimate (full\n",
      "        references in QuantReg docstring):\n",
      "    \n",
      "        - hsheather: Hall-Sheather (1988)\n",
      "        - bofinger: Bofinger (1975)\n",
      "        - chamberlain: Chamberlain (1994)\n",
      "\n"
     ]
    }
   ],
   "source": [
    "help(quant_mod.fit)"
   ]
  },
  {
   "cell_type": "code",
   "execution_count": 8,
   "metadata": {
    "colab": {
     "base_uri": "https://localhost:8080/",
     "height": 1424
    },
    "colab_type": "code",
    "id": "lpNPioZTei4U",
    "outputId": "40fc70a6-43c5-44a0-a012-923bd3f826a8"
   },
   "outputs": [
    {
     "name": "stderr",
     "output_type": "stream",
     "text": [
      "C:\\Users\\dakot\\Anaconda3\\lib\\site-packages\\scipy\\stats\\stats.py:1713: FutureWarning: Using a non-tuple sequence for multidimensional indexing is deprecated; use `arr[tuple(seq)]` instead of `arr[seq]`. In the future this will be interpreted as an array index, `arr[np.array(seq)]`, which will result either in an error or a different result.\n",
      "  return np.add.reduce(sorted[indexer] * weights, axis=axis) / sumval\n"
     ]
    },
    {
     "name": "stdout",
     "output_type": "stream",
     "text": [
      "                         QuantReg Regression Results                          \n",
      "==============================================================================\n",
      "Dep. Variable:                   pm25   Pseudo R-squared:              0.04130\n",
      "Model:                       QuantReg   Bandwidth:                       8.908\n",
      "Method:                 Least Squares   Sparsity:                        120.7\n",
      "Date:                Wed, 23 Jan 2019   No. Observations:                41757\n",
      "Time:                        17:31:00   Df Residuals:                    41745\n",
      "                                        Df Model:                           11\n",
      "==============================================================================\n",
      "                 coef    std err          t      P>|t|      [0.025      0.975]\n",
      "------------------------------------------------------------------------------\n",
      "Intercept   3.072e-05    6.4e-06      4.804      0.000    1.82e-05    4.33e-05\n",
      "No         -6.994e-05   9.59e-06     -7.292      0.000   -8.87e-05   -5.11e-05\n",
      "year           0.0998      0.012      8.275      0.000       0.076       0.123\n",
      "month         -0.4536      0.034    -13.419      0.000      -0.520      -0.387\n",
      "day            0.1143      0.015      7.863      0.000       0.086       0.143\n",
      "hour           0.3777      0.020     19.013      0.000       0.339       0.417\n",
      "DEWP           0.7720      0.014     55.266      0.000       0.745       0.799\n",
      "TEMP          -0.8346      0.020    -41.621      0.000      -0.874      -0.795\n",
      "PRES          -0.1734      0.024     -7.290      0.000      -0.220      -0.127\n",
      "Iws           -0.0364      0.002    -17.462      0.000      -0.040      -0.032\n",
      "Is             1.4573      0.195      7.466      0.000       1.075       1.840\n",
      "Ir            -1.2952      0.071    -18.209      0.000      -1.435      -1.156\n",
      "==============================================================================\n",
      "\n",
      "The condition number is large, 3.26e+10. This might indicate that there are\n",
      "strong multicollinearity or other numerical problems.\n",
      "                         QuantReg Regression Results                          \n",
      "==============================================================================\n",
      "Dep. Variable:                   pm25   Pseudo R-squared:               0.2194\n",
      "Model:                       QuantReg   Bandwidth:                       10.41\n",
      "Method:                 Least Squares   Sparsity:                        1322.\n",
      "Date:                Wed, 23 Jan 2019   No. Observations:                41757\n",
      "Time:                        17:31:01   Df Residuals:                    41745\n",
      "                                        Df Model:                           11\n",
      "==============================================================================\n",
      "                 coef    std err          t      P>|t|      [0.025      0.975]\n",
      "------------------------------------------------------------------------------\n",
      "Intercept      0.0004   6.87e-05      5.303      0.000       0.000       0.000\n",
      "No          7.821e-05      0.000      0.696      0.486      -0.000       0.000\n",
      "year           1.0580      0.124      8.539      0.000       0.815       1.301\n",
      "month         -3.9661      0.446     -8.895      0.000      -4.840      -3.092\n",
      "day            1.0816      0.136      7.936      0.000       0.814       1.349\n",
      "hour           2.3661      0.192     12.354      0.000       1.991       2.741\n",
      "DEWP           7.5176      0.235     32.004      0.000       7.057       7.978\n",
      "TEMP         -11.6991      0.302    -38.691      0.000     -12.292     -11.106\n",
      "PRES          -1.7121      0.244     -7.003      0.000      -2.191      -1.233\n",
      "Iws           -0.4151      0.034    -12.339      0.000      -0.481      -0.349\n",
      "Is            -5.7267      1.580     -3.624      0.000      -8.824      -2.630\n",
      "Ir            -9.3196      1.457     -6.397      0.000     -12.175      -6.464\n",
      "==============================================================================\n",
      "\n",
      "The condition number is large, 3.26e+10. This might indicate that there are\n",
      "strong multicollinearity or other numerical problems.\n",
      "                         QuantReg Regression Results                          \n",
      "==============================================================================\n",
      "Dep. Variable:                   pm25   Pseudo R-squared:              0.06497\n",
      "Model:                       QuantReg   Bandwidth:                       8.092\n",
      "Method:                 Least Squares   Sparsity:                        104.4\n",
      "Date:                Wed, 23 Jan 2019   No. Observations:                41757\n",
      "Time:                        17:31:02   Df Residuals:                    41745\n",
      "                                        Df Model:                           11\n",
      "==============================================================================\n",
      "                 coef    std err          t      P>|t|      [0.025      0.975]\n",
      "------------------------------------------------------------------------------\n",
      "Intercept   5.213e-05   7.84e-06      6.649      0.000    3.68e-05    6.75e-05\n",
      "No         -9.232e-05   1.17e-05     -7.888      0.000      -0.000   -6.94e-05\n",
      "year           0.1521      0.015     10.386      0.000       0.123       0.181\n",
      "month         -0.5581      0.042    -13.138      0.000      -0.641      -0.475\n",
      "day            0.1708      0.017      9.893      0.000       0.137       0.205\n",
      "hour           0.4604      0.024     19.350      0.000       0.414       0.507\n",
      "DEWP           1.2350      0.017     70.845      0.000       1.201       1.269\n",
      "TEMP          -1.3088      0.024    -54.101      0.000      -1.356      -1.261\n",
      "PRES          -0.2652      0.029     -9.183      0.000      -0.322      -0.209\n",
      "Iws           -0.0436      0.003    -16.919      0.000      -0.049      -0.039\n",
      "Is             1.0745      0.231      4.653      0.000       0.622       1.527\n",
      "Ir            -1.9619      0.087    -22.504      0.000      -2.133      -1.791\n",
      "==============================================================================\n",
      "\n",
      "The condition number is large, 3.26e+10. This might indicate that there are\n",
      "strong multicollinearity or other numerical problems.\n"
     ]
    }
   ],
   "source": [
    "quantiles = (.05, .96, .1)\n",
    "\n",
    "for quantile in quantiles:\n",
    "  print(quant_mod.fit(q=quantile).summary())"
   ]
  },
  {
   "cell_type": "markdown",
   "metadata": {
    "colab_type": "text",
    "id": "Xqh4Jp1XgjrE"
   },
   "source": [
    "\"Strong multicollinearity\", eh? In other words - maybe we shouldn't throw every variable in our formula. Let's hand-craft a smaller one, picking the features with the largest magnitude t-statistics for their coefficients. Let's also search for more quantile cutoffs to see what's most effective."
   ]
  },
  {
   "cell_type": "code",
   "execution_count": 9,
   "metadata": {
    "colab": {
     "base_uri": "https://localhost:8080/",
     "height": 975
    },
    "colab_type": "code",
    "id": "NmoELnXwgpXd",
    "outputId": "1865f1b1-778a-4e73-91b7-d30ad29b2ee2"
   },
   "outputs": [
    {
     "name": "stderr",
     "output_type": "stream",
     "text": [
      "C:\\Users\\dakot\\Anaconda3\\lib\\site-packages\\scipy\\stats\\stats.py:1713: FutureWarning: Using a non-tuple sequence for multidimensional indexing is deprecated; use `arr[tuple(seq)]` instead of `arr[seq]`. In the future this will be interpreted as an array index, `arr[np.array(seq)]`, which will result either in an error or a different result.\n",
      "  return np.add.reduce(sorted[indexer] * weights, axis=axis) / sumval\n"
     ]
    },
    {
     "name": "stdout",
     "output_type": "stream",
     "text": [
      "(0.5, 0.14478793360200437)\n",
      "(0.51, 0.14530464991077086)\n",
      "(0.52, 0.14579844562510003)\n",
      "(0.53, 0.14627848333343285)\n",
      "(0.54, 0.1467640446508116)\n",
      "(0.55, 0.14733094759544685)\n",
      "(0.56, 0.14787821797666834)\n",
      "(0.57, 0.14840185621292323)\n",
      "(0.58, 0.14892138273948985)\n",
      "(0.59, 0.14946793972069583)\n"
     ]
    },
    {
     "name": "stderr",
     "output_type": "stream",
     "text": [
      "C:\\Users\\dakot\\Anaconda3\\lib\\site-packages\\statsmodels\\regression\\quantile_regression.py:193: IterationLimitWarning: Maximum number of iterations (1000) reached.\n",
      "  \") reached.\", IterationLimitWarning)\n"
     ]
    },
    {
     "name": "stdout",
     "output_type": "stream",
     "text": [
      "(0.6, 0.15004508362535396)\n",
      "(0.61, 0.15066665496418408)\n",
      "(0.62, 0.1513155052092907)\n",
      "(0.63, 0.15201598245712833)\n",
      "(0.64, 0.15281563218060867)\n",
      "(0.65, 0.1536013388355193)\n",
      "(0.66, 0.15440046026575627)\n",
      "(0.67, 0.1552125175853546)\n",
      "(0.68, 0.156076156789546)\n",
      "(0.69, 0.15692695615283503)\n",
      "(0.7, 0.1577663389046534)\n",
      "(0.71, 0.1586528621299954)\n",
      "(0.72, 0.15961363441230658)\n",
      "(0.73, 0.16062991119787984)\n",
      "(0.74, 0.161715120189729)\n",
      "(0.75, 0.16280951619864648)\n",
      "(0.76, 0.1639425939348157)\n",
      "(0.77, 0.1651745144874267)\n",
      "(0.78, 0.16644234437130068)\n",
      "(0.79, 0.16770815353096247)\n"
     ]
    },
    {
     "name": "stderr",
     "output_type": "stream",
     "text": [
      "C:\\Users\\dakot\\Anaconda3\\lib\\site-packages\\statsmodels\\regression\\quantile_regression.py:193: IterationLimitWarning: Maximum number of iterations (1000) reached.\n",
      "  \") reached.\", IterationLimitWarning)\n"
     ]
    },
    {
     "name": "stdout",
     "output_type": "stream",
     "text": [
      "(0.8, 0.1690422735295043)\n",
      "(0.81, 0.17037126968954486)\n",
      "(0.82, 0.1719559312233302)\n",
      "(0.83, 0.1738389260638118)\n",
      "(0.84, 0.1759991842632862)\n",
      "(0.85, 0.17817588507322768)\n",
      "(0.86, 0.1804743470688509)\n",
      "(0.87, 0.182748429636438)\n",
      "(0.88, 0.18507489278263434)\n",
      "(0.89, 0.18767194363815876)\n",
      "(0.9, 0.18998714640826875)\n",
      "(0.91, 0.19205778885864289)\n",
      "(0.92, 0.19409258046839606)\n",
      "(0.93, 0.1960928580149024)\n",
      "(0.94, 0.19907185856543497)\n",
      "(0.95, 0.20306510227278907)\n",
      "(0.96, 0.2082885456209963)\n",
      "(0.97, 0.21268428179849552)\n",
      "(0.98, 0.21668870123970496)\n",
      "(0.99, 0.2174294131820318)\n"
     ]
    }
   ],
   "source": [
    "quant_formula = 'pm25 ~ DEWP + TEMP + Ir + hour + Iws'\n",
    "quant_mod = smf.quantreg(quant_formula, data=df)\n",
    "for quantile in range(50, 100):\n",
    "  quantile /= 100\n",
    "  quant_reg = quant_mod.fit(q=quantile)\n",
    "  print((quantile, quant_reg.prsquared))"
   ]
  },
  {
   "cell_type": "code",
   "execution_count": 10,
   "metadata": {
    "colab": {
     "base_uri": "https://localhost:8080/",
     "height": 444
    },
    "colab_type": "code",
    "id": "Bz0GmE5kuwQY",
    "outputId": "d139eca6-fa58-4f4c-a051-18b3e2d7ee13"
   },
   "outputs": [
    {
     "name": "stderr",
     "output_type": "stream",
     "text": [
      "C:\\Users\\dakot\\Anaconda3\\lib\\site-packages\\scipy\\stats\\stats.py:1713: FutureWarning: Using a non-tuple sequence for multidimensional indexing is deprecated; use `arr[tuple(seq)]` instead of `arr[seq]`. In the future this will be interpreted as an array index, `arr[np.array(seq)]`, which will result either in an error or a different result.\n",
      "  return np.add.reduce(sorted[indexer] * weights, axis=axis) / sumval\n"
     ]
    },
    {
     "data": {
      "text/html": [
       "<table class=\"simpletable\">\n",
       "<caption>QuantReg Regression Results</caption>\n",
       "<tr>\n",
       "  <th>Dep. Variable:</th>       <td>pm25</td>       <th>  Pseudo R-squared:  </th> <td>  0.2292</td>\n",
       "</tr>\n",
       "<tr>\n",
       "  <th>Model:</th>             <td>QuantReg</td>     <th>  Bandwidth:         </th> <td>  0.1012</td>\n",
       "</tr>\n",
       "<tr>\n",
       "  <th>Method:</th>          <td>Least Squares</td>  <th>  Sparsity:          </th> <td>   2.806</td>\n",
       "</tr>\n",
       "<tr>\n",
       "  <th>Date:</th>          <td>Wed, 23 Jan 2019</td> <th>  No. Observations:  </th>  <td> 41757</td> \n",
       "</tr>\n",
       "<tr>\n",
       "  <th>Time:</th>              <td>17:31:35</td>     <th>  Df Residuals:      </th>  <td> 41751</td> \n",
       "</tr>\n",
       "<tr>\n",
       "  <th> </th>                      <td> </td>        <th>  Df Model:          </th>  <td>     5</td> \n",
       "</tr>\n",
       "</table>\n",
       "<table class=\"simpletable\">\n",
       "<tr>\n",
       "      <td></td>         <th>coef</th>     <th>std err</th>      <th>t</th>      <th>P>|t|</th>  <th>[0.025</th>    <th>0.975]</th>  \n",
       "</tr>\n",
       "<tr>\n",
       "  <th>Intercept</th> <td>    4.2445</td> <td>    0.013</td> <td>  318.122</td> <td> 0.000</td> <td>    4.218</td> <td>    4.271</td>\n",
       "</tr>\n",
       "<tr>\n",
       "  <th>DEWP</th>      <td>    0.0722</td> <td>    0.001</td> <td>   96.789</td> <td> 0.000</td> <td>    0.071</td> <td>    0.074</td>\n",
       "</tr>\n",
       "<tr>\n",
       "  <th>TEMP</th>      <td>   -0.0701</td> <td>    0.001</td> <td>  -83.635</td> <td> 0.000</td> <td>   -0.072</td> <td>   -0.069</td>\n",
       "</tr>\n",
       "<tr>\n",
       "  <th>Ir</th>        <td>   -0.1079</td> <td>    0.004</td> <td>  -29.400</td> <td> 0.000</td> <td>   -0.115</td> <td>   -0.101</td>\n",
       "</tr>\n",
       "<tr>\n",
       "  <th>hour</th>      <td>    0.0215</td> <td>    0.001</td> <td>   23.202</td> <td> 0.000</td> <td>    0.020</td> <td>    0.023</td>\n",
       "</tr>\n",
       "<tr>\n",
       "  <th>Iws</th>       <td>   -0.0040</td> <td>    0.000</td> <td>  -36.699</td> <td> 0.000</td> <td>   -0.004</td> <td>   -0.004</td>\n",
       "</tr>\n",
       "</table>"
      ],
      "text/plain": [
       "<class 'statsmodels.iolib.summary.Summary'>\n",
       "\"\"\"\n",
       "                         QuantReg Regression Results                          \n",
       "==============================================================================\n",
       "Dep. Variable:                   pm25   Pseudo R-squared:               0.2292\n",
       "Model:                       QuantReg   Bandwidth:                      0.1012\n",
       "Method:                 Least Squares   Sparsity:                        2.806\n",
       "Date:                Wed, 23 Jan 2019   No. Observations:                41757\n",
       "Time:                        17:31:35   Df Residuals:                    41751\n",
       "                                        Df Model:                            5\n",
       "==============================================================================\n",
       "                 coef    std err          t      P>|t|      [0.025      0.975]\n",
       "------------------------------------------------------------------------------\n",
       "Intercept      4.2445      0.013    318.122      0.000       4.218       4.271\n",
       "DEWP           0.0722      0.001     96.789      0.000       0.071       0.074\n",
       "TEMP          -0.0701      0.001    -83.635      0.000      -0.072      -0.069\n",
       "Ir            -0.1079      0.004    -29.400      0.000      -0.115      -0.101\n",
       "hour           0.0215      0.001     23.202      0.000       0.020       0.023\n",
       "Iws           -0.0040      0.000    -36.699      0.000      -0.004      -0.004\n",
       "==============================================================================\n",
       "\"\"\""
      ]
     },
     "execution_count": 10,
     "metadata": {},
     "output_type": "execute_result"
    }
   ],
   "source": [
    "# Okay, this data seems *extremely* skewed\n",
    "# Let's trying logging\n",
    "import numpy as np\n",
    "\n",
    "df['pm25'] = np.log(1 + df['pm25'])\n",
    "quant_mod = smf.quantreg(quant_formula, data=df)\n",
    "quant_reg = quant_mod.fit(q=.25)\n",
    "quant_reg.summary()  # \"summary\" is another very R-thing"
   ]
  },
  {
   "cell_type": "markdown",
   "metadata": {
    "colab_type": "text",
    "id": "8kXcxnNBgizX"
   },
   "source": [
    "Overall - in this case, quantile regression is not *necessarily* superior to linear regression. But it does give us extra flexibility and another thing to tune - what the center of what we're actually fitting in the dependent variable.\n",
    "\n",
    "The basic case of `q=0.5` (the median) minimizes the absolute value of residuals, while OLS minimizes the squared value. By selecting `q=0.25`, we're targeting a lower quantile and are effectively saying that we only want to over-estimate at most 25% of the time - we're being *risk averse*.\n",
    "\n",
    "Depending on the data you're looking at, and the cost of making a false positive versus a false negative, this sort of flexibility can be extremely useful.\n",
    "\n",
    "Live - let's consider another dataset! Specifically, \"SkillCraft\" (data on competitive StarCraft players): http://archive.ics.uci.edu/ml/datasets/SkillCraft1+Master+Table+Dataset"
   ]
  },
  {
   "cell_type": "code",
   "execution_count": 11,
   "metadata": {
    "colab": {},
    "colab_type": "code",
    "id": "ofvwSAZUhWDw"
   },
   "outputs": [],
   "source": [
    "# TODO Live!\n",
    "# Hint - we may only care about the *top* quantiles here\n",
    "# Another hint - there are missing values, but Pandas won't see them right away"
   ]
  },
  {
   "cell_type": "markdown",
   "metadata": {
    "colab_type": "text",
    "id": "o2BADEQUirXa"
   },
   "source": [
    "## Assignment - birth weight data\n",
    "\n",
    "Birth weight is a situation where, while the data itself is actually fairly normal and symmetric, our main goal is actually *not* to model mean weight (via OLS), but rather to identify mothers at risk of having children below a certain \"at-risk\" threshold weight.\n",
    "\n",
    "Quantile regression gives us just the tool we need. For the data we are using, see: http://people.reed.edu/~jones/141/BirthWgt.html\n",
    "\n",
    "    bwt: baby's weight in ounces at birth\n",
    "    gestation: duration of pregnancy in days\n",
    "    parity: parity indicator (first born = 1, later birth = 0)\n",
    "    age: mother's age in years\n",
    "    height: mother's height in inches\n",
    "    weight: mother's weight in pounds (during pregnancy)\n",
    "    smoke: indicator for whether mother smokes (1=yes, 0=no) \n",
    "    \n",
    "Use this data and `statsmodels` to fit a quantile regression, predicting `bwt` (birth weight) as a function of the other covariates. First, identify an appropriate `q` (quantile) to target a cutoff of 90 ounces - babies above that birth weight are generally healthy/safe, babies below are at-risk.\n",
    "\n",
    "Then, fit and iterate your model. Be creative! You may want to engineer features. Hint - mother's age likely is not simply linear in its impact, and the other features may interact as well.\n",
    "\n",
    "At the end, create at least *2* tables and *1* visualization to summarize your best model. Then (in writing) answer the following questions:\n",
    "\n",
    "- What characteristics of a mother indicate the highest likelihood of an at-risk (low weight) baby?\n",
    "- What can expectant mothers be told to help mitigate this risk?\n",
    "\n",
    "Note that second question is not exactly a data science question - and that's okay! You're not expected to be a medical expert, but it is a good exercise to do a little bit of digging into a particular domain and offer informal but informed opinions."
   ]
  },
  {
   "cell_type": "code",
   "execution_count": 12,
   "metadata": {
    "colab": {
     "base_uri": "https://localhost:8080/",
     "height": 206
    },
    "colab_type": "code",
    "id": "HUWKv16FjZsY",
    "outputId": "11f1ecab-4058-4e48-ac0f-cd7cf488a2f7"
   },
   "outputs": [
    {
     "data": {
      "text/html": [
       "<div>\n",
       "<style scoped>\n",
       "    .dataframe tbody tr th:only-of-type {\n",
       "        vertical-align: middle;\n",
       "    }\n",
       "\n",
       "    .dataframe tbody tr th {\n",
       "        vertical-align: top;\n",
       "    }\n",
       "\n",
       "    .dataframe thead th {\n",
       "        text-align: right;\n",
       "    }\n",
       "</style>\n",
       "<table border=\"1\" class=\"dataframe\">\n",
       "  <thead>\n",
       "    <tr style=\"text-align: right;\">\n",
       "      <th></th>\n",
       "      <th>bwt</th>\n",
       "      <th>gestation</th>\n",
       "      <th>parity</th>\n",
       "      <th>age</th>\n",
       "      <th>height</th>\n",
       "      <th>weight</th>\n",
       "      <th>smoke</th>\n",
       "    </tr>\n",
       "  </thead>\n",
       "  <tbody>\n",
       "    <tr>\n",
       "      <th>0</th>\n",
       "      <td>120</td>\n",
       "      <td>284</td>\n",
       "      <td>0</td>\n",
       "      <td>27</td>\n",
       "      <td>62</td>\n",
       "      <td>100</td>\n",
       "      <td>0</td>\n",
       "    </tr>\n",
       "    <tr>\n",
       "      <th>1</th>\n",
       "      <td>113</td>\n",
       "      <td>282</td>\n",
       "      <td>0</td>\n",
       "      <td>33</td>\n",
       "      <td>64</td>\n",
       "      <td>135</td>\n",
       "      <td>0</td>\n",
       "    </tr>\n",
       "    <tr>\n",
       "      <th>2</th>\n",
       "      <td>128</td>\n",
       "      <td>279</td>\n",
       "      <td>0</td>\n",
       "      <td>28</td>\n",
       "      <td>64</td>\n",
       "      <td>115</td>\n",
       "      <td>1</td>\n",
       "    </tr>\n",
       "    <tr>\n",
       "      <th>3</th>\n",
       "      <td>108</td>\n",
       "      <td>282</td>\n",
       "      <td>0</td>\n",
       "      <td>23</td>\n",
       "      <td>67</td>\n",
       "      <td>125</td>\n",
       "      <td>1</td>\n",
       "    </tr>\n",
       "    <tr>\n",
       "      <th>4</th>\n",
       "      <td>136</td>\n",
       "      <td>286</td>\n",
       "      <td>0</td>\n",
       "      <td>25</td>\n",
       "      <td>62</td>\n",
       "      <td>93</td>\n",
       "      <td>0</td>\n",
       "    </tr>\n",
       "  </tbody>\n",
       "</table>\n",
       "</div>"
      ],
      "text/plain": [
       "   bwt  gestation  parity  age  height  weight  smoke\n",
       "0  120        284       0   27      62     100      0\n",
       "1  113        282       0   33      64     135      0\n",
       "2  128        279       0   28      64     115      1\n",
       "3  108        282       0   23      67     125      1\n",
       "4  136        286       0   25      62      93      0"
      ]
     },
     "execution_count": 12,
     "metadata": {},
     "output_type": "execute_result"
    }
   ],
   "source": [
    "import pandas as pd\n",
    "bwt_df = pd.read_csv('http://people.reed.edu/~jones/141/Bwt.dat')\n",
    "bwt_df.head()"
   ]
  },
  {
   "cell_type": "code",
   "execution_count": 13,
   "metadata": {
    "colab": {
     "base_uri": "https://localhost:8080/",
     "height": 300
    },
    "colab_type": "code",
    "id": "dy5FkUZpkJT_",
    "outputId": "d4f46328-8e25-4fa5-e5b5-6ffad654c65c"
   },
   "outputs": [
    {
     "data": {
      "text/html": [
       "<div>\n",
       "<style scoped>\n",
       "    .dataframe tbody tr th:only-of-type {\n",
       "        vertical-align: middle;\n",
       "    }\n",
       "\n",
       "    .dataframe tbody tr th {\n",
       "        vertical-align: top;\n",
       "    }\n",
       "\n",
       "    .dataframe thead th {\n",
       "        text-align: right;\n",
       "    }\n",
       "</style>\n",
       "<table border=\"1\" class=\"dataframe\">\n",
       "  <thead>\n",
       "    <tr style=\"text-align: right;\">\n",
       "      <th></th>\n",
       "      <th>bwt</th>\n",
       "      <th>gestation</th>\n",
       "      <th>parity</th>\n",
       "      <th>age</th>\n",
       "      <th>height</th>\n",
       "      <th>weight</th>\n",
       "      <th>smoke</th>\n",
       "    </tr>\n",
       "  </thead>\n",
       "  <tbody>\n",
       "    <tr>\n",
       "      <th>count</th>\n",
       "      <td>1174.000000</td>\n",
       "      <td>1174.000000</td>\n",
       "      <td>1174.000000</td>\n",
       "      <td>1174.000000</td>\n",
       "      <td>1174.000000</td>\n",
       "      <td>1174.000000</td>\n",
       "      <td>1174.000000</td>\n",
       "    </tr>\n",
       "    <tr>\n",
       "      <th>mean</th>\n",
       "      <td>119.462521</td>\n",
       "      <td>279.101363</td>\n",
       "      <td>0.262351</td>\n",
       "      <td>27.228279</td>\n",
       "      <td>64.049404</td>\n",
       "      <td>128.478705</td>\n",
       "      <td>0.390971</td>\n",
       "    </tr>\n",
       "    <tr>\n",
       "      <th>std</th>\n",
       "      <td>18.328671</td>\n",
       "      <td>16.010305</td>\n",
       "      <td>0.440100</td>\n",
       "      <td>5.817839</td>\n",
       "      <td>2.526102</td>\n",
       "      <td>20.734282</td>\n",
       "      <td>0.488176</td>\n",
       "    </tr>\n",
       "    <tr>\n",
       "      <th>min</th>\n",
       "      <td>55.000000</td>\n",
       "      <td>148.000000</td>\n",
       "      <td>0.000000</td>\n",
       "      <td>15.000000</td>\n",
       "      <td>53.000000</td>\n",
       "      <td>87.000000</td>\n",
       "      <td>0.000000</td>\n",
       "    </tr>\n",
       "    <tr>\n",
       "      <th>5.5%</th>\n",
       "      <td>90.000000</td>\n",
       "      <td>253.515000</td>\n",
       "      <td>0.000000</td>\n",
       "      <td>19.000000</td>\n",
       "      <td>60.000000</td>\n",
       "      <td>102.000000</td>\n",
       "      <td>0.000000</td>\n",
       "    </tr>\n",
       "    <tr>\n",
       "      <th>10%</th>\n",
       "      <td>97.000000</td>\n",
       "      <td>262.000000</td>\n",
       "      <td>0.000000</td>\n",
       "      <td>20.000000</td>\n",
       "      <td>61.000000</td>\n",
       "      <td>105.000000</td>\n",
       "      <td>0.000000</td>\n",
       "    </tr>\n",
       "    <tr>\n",
       "      <th>20%</th>\n",
       "      <td>104.000000</td>\n",
       "      <td>270.000000</td>\n",
       "      <td>0.000000</td>\n",
       "      <td>22.000000</td>\n",
       "      <td>62.000000</td>\n",
       "      <td>111.000000</td>\n",
       "      <td>0.000000</td>\n",
       "    </tr>\n",
       "    <tr>\n",
       "      <th>30%</th>\n",
       "      <td>111.000000</td>\n",
       "      <td>274.000000</td>\n",
       "      <td>0.000000</td>\n",
       "      <td>23.000000</td>\n",
       "      <td>63.000000</td>\n",
       "      <td>117.000000</td>\n",
       "      <td>0.000000</td>\n",
       "    </tr>\n",
       "    <tr>\n",
       "      <th>40%</th>\n",
       "      <td>116.000000</td>\n",
       "      <td>277.000000</td>\n",
       "      <td>0.000000</td>\n",
       "      <td>25.000000</td>\n",
       "      <td>63.000000</td>\n",
       "      <td>121.000000</td>\n",
       "      <td>0.000000</td>\n",
       "    </tr>\n",
       "    <tr>\n",
       "      <th>50%</th>\n",
       "      <td>120.000000</td>\n",
       "      <td>280.000000</td>\n",
       "      <td>0.000000</td>\n",
       "      <td>26.000000</td>\n",
       "      <td>64.000000</td>\n",
       "      <td>125.000000</td>\n",
       "      <td>0.000000</td>\n",
       "    </tr>\n",
       "    <tr>\n",
       "      <th>60%</th>\n",
       "      <td>124.000000</td>\n",
       "      <td>283.000000</td>\n",
       "      <td>0.000000</td>\n",
       "      <td>28.000000</td>\n",
       "      <td>65.000000</td>\n",
       "      <td>130.000000</td>\n",
       "      <td>0.000000</td>\n",
       "    </tr>\n",
       "    <tr>\n",
       "      <th>70%</th>\n",
       "      <td>129.000000</td>\n",
       "      <td>286.000000</td>\n",
       "      <td>0.000000</td>\n",
       "      <td>30.000000</td>\n",
       "      <td>65.000000</td>\n",
       "      <td>135.000000</td>\n",
       "      <td>1.000000</td>\n",
       "    </tr>\n",
       "    <tr>\n",
       "      <th>80%</th>\n",
       "      <td>134.000000</td>\n",
       "      <td>290.000000</td>\n",
       "      <td>1.000000</td>\n",
       "      <td>32.000000</td>\n",
       "      <td>66.000000</td>\n",
       "      <td>143.000000</td>\n",
       "      <td>1.000000</td>\n",
       "    </tr>\n",
       "    <tr>\n",
       "      <th>90%</th>\n",
       "      <td>142.000000</td>\n",
       "      <td>295.000000</td>\n",
       "      <td>1.000000</td>\n",
       "      <td>36.000000</td>\n",
       "      <td>67.000000</td>\n",
       "      <td>155.000000</td>\n",
       "      <td>1.000000</td>\n",
       "    </tr>\n",
       "    <tr>\n",
       "      <th>max</th>\n",
       "      <td>176.000000</td>\n",
       "      <td>353.000000</td>\n",
       "      <td>1.000000</td>\n",
       "      <td>45.000000</td>\n",
       "      <td>72.000000</td>\n",
       "      <td>250.000000</td>\n",
       "      <td>1.000000</td>\n",
       "    </tr>\n",
       "  </tbody>\n",
       "</table>\n",
       "</div>"
      ],
      "text/plain": [
       "               bwt    gestation       parity          age       height  \\\n",
       "count  1174.000000  1174.000000  1174.000000  1174.000000  1174.000000   \n",
       "mean    119.462521   279.101363     0.262351    27.228279    64.049404   \n",
       "std      18.328671    16.010305     0.440100     5.817839     2.526102   \n",
       "min      55.000000   148.000000     0.000000    15.000000    53.000000   \n",
       "5.5%     90.000000   253.515000     0.000000    19.000000    60.000000   \n",
       "10%      97.000000   262.000000     0.000000    20.000000    61.000000   \n",
       "20%     104.000000   270.000000     0.000000    22.000000    62.000000   \n",
       "30%     111.000000   274.000000     0.000000    23.000000    63.000000   \n",
       "40%     116.000000   277.000000     0.000000    25.000000    63.000000   \n",
       "50%     120.000000   280.000000     0.000000    26.000000    64.000000   \n",
       "60%     124.000000   283.000000     0.000000    28.000000    65.000000   \n",
       "70%     129.000000   286.000000     0.000000    30.000000    65.000000   \n",
       "80%     134.000000   290.000000     1.000000    32.000000    66.000000   \n",
       "90%     142.000000   295.000000     1.000000    36.000000    67.000000   \n",
       "max     176.000000   353.000000     1.000000    45.000000    72.000000   \n",
       "\n",
       "            weight        smoke  \n",
       "count  1174.000000  1174.000000  \n",
       "mean    128.478705     0.390971  \n",
       "std      20.734282     0.488176  \n",
       "min      87.000000     0.000000  \n",
       "5.5%    102.000000     0.000000  \n",
       "10%     105.000000     0.000000  \n",
       "20%     111.000000     0.000000  \n",
       "30%     117.000000     0.000000  \n",
       "40%     121.000000     0.000000  \n",
       "50%     125.000000     0.000000  \n",
       "60%     130.000000     0.000000  \n",
       "70%     135.000000     1.000000  \n",
       "80%     143.000000     1.000000  \n",
       "90%     155.000000     1.000000  \n",
       "max     250.000000     1.000000  "
      ]
     },
     "execution_count": 13,
     "metadata": {},
     "output_type": "execute_result"
    }
   ],
   "source": [
    "bwt_df.describe(percentiles=[.055,.10,.20,.30,.40,.50,.60,.70,.80,.90])"
   ]
  },
  {
   "cell_type": "code",
   "execution_count": 14,
   "metadata": {
    "colab": {},
    "colab_type": "code",
    "id": "Ez8qPLojjlFf"
   },
   "outputs": [
    {
     "name": "stderr",
     "output_type": "stream",
     "text": [
      "C:\\Users\\dakot\\Anaconda3\\lib\\site-packages\\scipy\\stats\\stats.py:1713: FutureWarning: Using a non-tuple sequence for multidimensional indexing is deprecated; use `arr[tuple(seq)]` instead of `arr[seq]`. In the future this will be interpreted as an array index, `arr[np.array(seq)]`, which will result either in an error or a different result.\n",
      "  return np.add.reduce(sorted[indexer] * weights, axis=axis) / sumval\n"
     ]
    },
    {
     "data": {
      "text/html": [
       "<table class=\"simpletable\">\n",
       "<caption>QuantReg Regression Results</caption>\n",
       "<tr>\n",
       "  <th>Dep. Variable:</th>        <td>bwt</td>       <th>  Pseudo R-squared:  </th> <td>  0.2001</td>\n",
       "</tr>\n",
       "<tr>\n",
       "  <th>Model:</th>             <td>QuantReg</td>     <th>  Bandwidth:         </th> <td>   6.255</td>\n",
       "</tr>\n",
       "<tr>\n",
       "  <th>Method:</th>          <td>Least Squares</td>  <th>  Sparsity:          </th> <td>   132.8</td>\n",
       "</tr>\n",
       "<tr>\n",
       "  <th>Date:</th>          <td>Wed, 23 Jan 2019</td> <th>  No. Observations:  </th>  <td>  1174</td> \n",
       "</tr>\n",
       "<tr>\n",
       "  <th>Time:</th>              <td>17:31:36</td>     <th>  Df Residuals:      </th>  <td>  1167</td> \n",
       "</tr>\n",
       "<tr>\n",
       "  <th> </th>                      <td> </td>        <th>  Df Model:          </th>  <td>     6</td> \n",
       "</tr>\n",
       "</table>\n",
       "<table class=\"simpletable\">\n",
       "<tr>\n",
       "      <td></td>         <th>coef</th>     <th>std err</th>      <th>t</th>      <th>P>|t|</th>  <th>[0.025</th>    <th>0.975]</th>  \n",
       "</tr>\n",
       "<tr>\n",
       "  <th>Intercept</th> <td>  -96.3832</td> <td>   32.007</td> <td>   -3.011</td> <td> 0.003</td> <td> -159.182</td> <td>  -33.585</td>\n",
       "</tr>\n",
       "<tr>\n",
       "  <th>gestation</th> <td>    0.4806</td> <td>    0.089</td> <td>    5.412</td> <td> 0.000</td> <td>    0.306</td> <td>    0.655</td>\n",
       "</tr>\n",
       "<tr>\n",
       "  <th>parity</th>    <td>   -3.2590</td> <td>    2.347</td> <td>   -1.388</td> <td> 0.165</td> <td>   -7.865</td> <td>    1.347</td>\n",
       "</tr>\n",
       "<tr>\n",
       "  <th>age</th>       <td>   -0.0882</td> <td>    0.170</td> <td>   -0.517</td> <td> 0.605</td> <td>   -0.423</td> <td>    0.246</td>\n",
       "</tr>\n",
       "<tr>\n",
       "  <th>height</th>    <td>    1.2257</td> <td>    0.437</td> <td>    2.807</td> <td> 0.005</td> <td>    0.369</td> <td>    2.082</td>\n",
       "</tr>\n",
       "<tr>\n",
       "  <th>weight</th>    <td>   -0.1193</td> <td>    0.057</td> <td>   -2.099</td> <td> 0.036</td> <td>   -0.231</td> <td>   -0.008</td>\n",
       "</tr>\n",
       "<tr>\n",
       "  <th>smoke</th>     <td>   -8.6951</td> <td>    1.867</td> <td>   -4.656</td> <td> 0.000</td> <td>  -12.359</td> <td>   -5.031</td>\n",
       "</tr>\n",
       "</table><br/><br/>The condition number is large, 9.8e+03. This might indicate that there are<br/>strong multicollinearity or other numerical problems."
      ],
      "text/plain": [
       "<class 'statsmodels.iolib.summary.Summary'>\n",
       "\"\"\"\n",
       "                         QuantReg Regression Results                          \n",
       "==============================================================================\n",
       "Dep. Variable:                    bwt   Pseudo R-squared:               0.2001\n",
       "Model:                       QuantReg   Bandwidth:                       6.255\n",
       "Method:                 Least Squares   Sparsity:                        132.8\n",
       "Date:                Wed, 23 Jan 2019   No. Observations:                 1174\n",
       "Time:                        17:31:36   Df Residuals:                     1167\n",
       "                                        Df Model:                            6\n",
       "==============================================================================\n",
       "                 coef    std err          t      P>|t|      [0.025      0.975]\n",
       "------------------------------------------------------------------------------\n",
       "Intercept    -96.3832     32.007     -3.011      0.003    -159.182     -33.585\n",
       "gestation      0.4806      0.089      5.412      0.000       0.306       0.655\n",
       "parity        -3.2590      2.347     -1.388      0.165      -7.865       1.347\n",
       "age           -0.0882      0.170     -0.517      0.605      -0.423       0.246\n",
       "height         1.2257      0.437      2.807      0.005       0.369       2.082\n",
       "weight        -0.1193      0.057     -2.099      0.036      -0.231      -0.008\n",
       "smoke         -8.6951      1.867     -4.656      0.000     -12.359      -5.031\n",
       "==============================================================================\n",
       "\n",
       "The condition number is large, 9.8e+03. This might indicate that there are\n",
       "strong multicollinearity or other numerical problems.\n",
       "\"\"\""
      ]
     },
     "execution_count": 14,
     "metadata": {},
     "output_type": "execute_result"
    }
   ],
   "source": [
    "quant_formula = 'bwt~ ' + ' + '.join(bwt_df.drop('bwt', axis='columns').columns)\n",
    "quant_mod = smf.quantreg(quant_formula, data=bwt_df)\n",
    "q=0.055\n",
    "quant_reg = quant_mod.fit(q=.055)\n",
    "quant_reg.summary() \n"
   ]
  },
  {
   "cell_type": "code",
   "execution_count": 15,
   "metadata": {},
   "outputs": [
    {
     "name": "stderr",
     "output_type": "stream",
     "text": [
      "C:\\Users\\dakot\\Anaconda3\\lib\\site-packages\\scipy\\stats\\stats.py:1713: FutureWarning: Using a non-tuple sequence for multidimensional indexing is deprecated; use `arr[tuple(seq)]` instead of `arr[seq]`. In the future this will be interpreted as an array index, `arr[np.array(seq)]`, which will result either in an error or a different result.\n",
      "  return np.add.reduce(sorted[indexer] * weights, axis=axis) / sumval\n"
     ]
    },
    {
     "data": {
      "text/html": [
       "<table class=\"simpletable\">\n",
       "<caption>QuantReg Regression Results</caption>\n",
       "<tr>\n",
       "  <th>Dep. Variable:</th>        <td>bwt</td>       <th>  Pseudo R-squared:  </th> <td>  0.1253</td>\n",
       "</tr>\n",
       "<tr>\n",
       "  <th>Model:</th>             <td>QuantReg</td>     <th>  Bandwidth:         </th> <td>   6.188</td>\n",
       "</tr>\n",
       "<tr>\n",
       "  <th>Method:</th>          <td>Least Squares</td>  <th>  Sparsity:          </th> <td>   172.9</td>\n",
       "</tr>\n",
       "<tr>\n",
       "  <th>Date:</th>          <td>Wed, 23 Jan 2019</td> <th>  No. Observations:  </th>  <td>  1174</td> \n",
       "</tr>\n",
       "<tr>\n",
       "  <th>Time:</th>              <td>17:31:36</td>     <th>  Df Residuals:      </th>  <td>  1167</td> \n",
       "</tr>\n",
       "<tr>\n",
       "  <th> </th>                      <td> </td>        <th>  Df Model:          </th>  <td>     6</td> \n",
       "</tr>\n",
       "</table>\n",
       "<table class=\"simpletable\">\n",
       "<tr>\n",
       "      <td></td>         <th>coef</th>     <th>std err</th>      <th>t</th>      <th>P>|t|</th>  <th>[0.025</th>    <th>0.975]</th>  \n",
       "</tr>\n",
       "<tr>\n",
       "  <th>Intercept</th> <td>  -38.0522</td> <td>   46.022</td> <td>   -0.827</td> <td> 0.409</td> <td> -128.348</td> <td>   52.244</td>\n",
       "</tr>\n",
       "<tr>\n",
       "  <th>gestation</th> <td>    0.4225</td> <td>    0.108</td> <td>    3.924</td> <td> 0.000</td> <td>    0.211</td> <td>    0.634</td>\n",
       "</tr>\n",
       "<tr>\n",
       "  <th>parity</th>    <td>   -3.3080</td> <td>    2.401</td> <td>   -1.378</td> <td> 0.168</td> <td>   -8.018</td> <td>    1.402</td>\n",
       "</tr>\n",
       "<tr>\n",
       "  <th>age</th>       <td>    0.2700</td> <td>    0.194</td> <td>    1.390</td> <td> 0.165</td> <td>   -0.111</td> <td>    0.651</td>\n",
       "</tr>\n",
       "<tr>\n",
       "  <th>height</th>    <td>    0.7172</td> <td>    0.633</td> <td>    1.133</td> <td> 0.257</td> <td>   -0.525</td> <td>    1.959</td>\n",
       "</tr>\n",
       "<tr>\n",
       "  <th>weight</th>    <td>    0.1353</td> <td>    0.059</td> <td>    2.300</td> <td> 0.022</td> <td>    0.020</td> <td>    0.251</td>\n",
       "</tr>\n",
       "<tr>\n",
       "  <th>smoke</th>     <td>   -7.3355</td> <td>    2.247</td> <td>   -3.265</td> <td> 0.001</td> <td>  -11.744</td> <td>   -2.927</td>\n",
       "</tr>\n",
       "</table><br/><br/>The condition number is large, 9.8e+03. This might indicate that there are<br/>strong multicollinearity or other numerical problems."
      ],
      "text/plain": [
       "<class 'statsmodels.iolib.summary.Summary'>\n",
       "\"\"\"\n",
       "                         QuantReg Regression Results                          \n",
       "==============================================================================\n",
       "Dep. Variable:                    bwt   Pseudo R-squared:               0.1253\n",
       "Model:                       QuantReg   Bandwidth:                       6.188\n",
       "Method:                 Least Squares   Sparsity:                        172.9\n",
       "Date:                Wed, 23 Jan 2019   No. Observations:                 1174\n",
       "Time:                        17:31:36   Df Residuals:                     1167\n",
       "                                        Df Model:                            6\n",
       "==============================================================================\n",
       "                 coef    std err          t      P>|t|      [0.025      0.975]\n",
       "------------------------------------------------------------------------------\n",
       "Intercept    -38.0522     46.022     -0.827      0.409    -128.348      52.244\n",
       "gestation      0.4225      0.108      3.924      0.000       0.211       0.634\n",
       "parity        -3.3080      2.401     -1.378      0.168      -8.018       1.402\n",
       "age            0.2700      0.194      1.390      0.165      -0.111       0.651\n",
       "height         0.7172      0.633      1.133      0.257      -0.525       1.959\n",
       "weight         0.1353      0.059      2.300      0.022       0.020       0.251\n",
       "smoke         -7.3355      2.247     -3.265      0.001     -11.744      -2.927\n",
       "==============================================================================\n",
       "\n",
       "The condition number is large, 9.8e+03. This might indicate that there are\n",
       "strong multicollinearity or other numerical problems.\n",
       "\"\"\""
      ]
     },
     "execution_count": 15,
     "metadata": {},
     "output_type": "execute_result"
    }
   ],
   "source": [
    "# How about the top 5.5%?\n",
    "quant_formula = 'bwt~ ' + ' + '.join(bwt_df.drop('bwt', axis='columns').columns)\n",
    "quant_mod = smf.quantreg(quant_formula, data=bwt_df)\n",
    "q=0.055\n",
    "quant_reg = quant_mod.fit(q=.955)\n",
    "quant_reg.summary() \n"
   ]
  },
  {
   "cell_type": "code",
   "execution_count": 16,
   "metadata": {},
   "outputs": [
    {
     "name": "stdout",
     "output_type": "stream",
     "text": [
      "bwt~ gestation + parity + age + height + weight + smoke\n"
     ]
    },
    {
     "name": "stderr",
     "output_type": "stream",
     "text": [
      "C:\\Users\\dakot\\Anaconda3\\lib\\site-packages\\scipy\\stats\\stats.py:1713: FutureWarning: Using a non-tuple sequence for multidimensional indexing is deprecated; use `arr[tuple(seq)]` instead of `arr[seq]`. In the future this will be interpreted as an array index, `arr[np.array(seq)]`, which will result either in an error or a different result.\n",
      "  return np.add.reduce(sorted[indexer] * weights, axis=axis) / sumval\n"
     ]
    },
    {
     "data": {
      "text/html": [
       "<table class=\"simpletable\">\n",
       "<caption>QuantReg Regression Results</caption>\n",
       "<tr>\n",
       "  <th>Dep. Variable:</th>        <td>bwt</td>       <th>  Pseudo R-squared:  </th> <td>  0.2145</td>\n",
       "</tr>\n",
       "<tr>\n",
       "  <th>Model:</th>             <td>QuantReg</td>     <th>  Bandwidth:         </th> <td> 0.05336</td>\n",
       "</tr>\n",
       "<tr>\n",
       "  <th>Method:</th>          <td>Least Squares</td>  <th>  Sparsity:          </th> <td>   1.430</td>\n",
       "</tr>\n",
       "<tr>\n",
       "  <th>Date:</th>          <td>Wed, 23 Jan 2019</td> <th>  No. Observations:  </th>  <td>  1174</td> \n",
       "</tr>\n",
       "<tr>\n",
       "  <th>Time:</th>              <td>17:31:36</td>     <th>  Df Residuals:      </th>  <td>  1167</td> \n",
       "</tr>\n",
       "<tr>\n",
       "  <th> </th>                      <td> </td>        <th>  Df Model:          </th>  <td>     6</td> \n",
       "</tr>\n",
       "</table>\n",
       "<table class=\"simpletable\">\n",
       "<tr>\n",
       "      <td></td>         <th>coef</th>     <th>std err</th>      <th>t</th>      <th>P>|t|</th>  <th>[0.025</th>    <th>0.975]</th>  \n",
       "</tr>\n",
       "<tr>\n",
       "  <th>Intercept</th> <td>    2.5954</td> <td>    0.379</td> <td>    6.853</td> <td> 0.000</td> <td>    1.852</td> <td>    3.339</td>\n",
       "</tr>\n",
       "<tr>\n",
       "  <th>gestation</th> <td>    0.0050</td> <td>    0.001</td> <td>    4.656</td> <td> 0.000</td> <td>    0.003</td> <td>    0.007</td>\n",
       "</tr>\n",
       "<tr>\n",
       "  <th>parity</th>    <td>   -0.0293</td> <td>    0.025</td> <td>   -1.161</td> <td> 0.246</td> <td>   -0.079</td> <td>    0.020</td>\n",
       "</tr>\n",
       "<tr>\n",
       "  <th>age</th>       <td>   -0.0017</td> <td>    0.002</td> <td>   -0.900</td> <td> 0.368</td> <td>   -0.005</td> <td>    0.002</td>\n",
       "</tr>\n",
       "<tr>\n",
       "  <th>height</th>    <td>    0.0123</td> <td>    0.005</td> <td>    2.726</td> <td> 0.007</td> <td>    0.003</td> <td>    0.021</td>\n",
       "</tr>\n",
       "<tr>\n",
       "  <th>weight</th>    <td>   -0.0013</td> <td>    0.001</td> <td>   -2.094</td> <td> 0.036</td> <td>   -0.002</td> <td> -8.1e-05</td>\n",
       "</tr>\n",
       "<tr>\n",
       "  <th>smoke</th>     <td>   -0.0865</td> <td>    0.020</td> <td>   -4.388</td> <td> 0.000</td> <td>   -0.125</td> <td>   -0.048</td>\n",
       "</tr>\n",
       "</table><br/><br/>The condition number is large, 9.8e+03. This might indicate that there are<br/>strong multicollinearity or other numerical problems."
      ],
      "text/plain": [
       "<class 'statsmodels.iolib.summary.Summary'>\n",
       "\"\"\"\n",
       "                         QuantReg Regression Results                          \n",
       "==============================================================================\n",
       "Dep. Variable:                    bwt   Pseudo R-squared:               0.2145\n",
       "Model:                       QuantReg   Bandwidth:                     0.05336\n",
       "Method:                 Least Squares   Sparsity:                        1.430\n",
       "Date:                Wed, 23 Jan 2019   No. Observations:                 1174\n",
       "Time:                        17:31:36   Df Residuals:                     1167\n",
       "                                        Df Model:                            6\n",
       "==============================================================================\n",
       "                 coef    std err          t      P>|t|      [0.025      0.975]\n",
       "------------------------------------------------------------------------------\n",
       "Intercept      2.5954      0.379      6.853      0.000       1.852       3.339\n",
       "gestation      0.0050      0.001      4.656      0.000       0.003       0.007\n",
       "parity        -0.0293      0.025     -1.161      0.246      -0.079       0.020\n",
       "age           -0.0017      0.002     -0.900      0.368      -0.005       0.002\n",
       "height         0.0123      0.005      2.726      0.007       0.003       0.021\n",
       "weight        -0.0013      0.001     -2.094      0.036      -0.002    -8.1e-05\n",
       "smoke         -0.0865      0.020     -4.388      0.000      -0.125      -0.048\n",
       "==============================================================================\n",
       "\n",
       "The condition number is large, 9.8e+03. This might indicate that there are\n",
       "strong multicollinearity or other numerical problems.\n",
       "\"\"\""
      ]
     },
     "execution_count": 16,
     "metadata": {},
     "output_type": "execute_result"
    }
   ],
   "source": [
    "#how about log norm?\n",
    "bwt_df['bwt'] = np.log(bwt_df['bwt'])\n",
    "quant_formula = 'bwt~ ' + ' + '.join(bwt_df.drop(['bwt'], axis='columns').columns)\n",
    "quant_mod = smf.quantreg(quant_formula, data=bwt_df)\n",
    "print(quant_formula)\n",
    "quant_reg = quant_mod.fit(q=.055)\n",
    "quant_reg.summary() "
   ]
  },
  {
   "cell_type": "code",
   "execution_count": 17,
   "metadata": {},
   "outputs": [
    {
     "name": "stderr",
     "output_type": "stream",
     "text": [
      "C:\\Users\\dakot\\Anaconda3\\lib\\site-packages\\scipy\\stats\\stats.py:1713: FutureWarning: Using a non-tuple sequence for multidimensional indexing is deprecated; use `arr[tuple(seq)]` instead of `arr[seq]`. In the future this will be interpreted as an array index, `arr[np.array(seq)]`, which will result either in an error or a different result.\n",
      "  return np.add.reduce(sorted[indexer] * weights, axis=axis) / sumval\n"
     ]
    },
    {
     "data": {
      "image/png": "[encoded data removed]",
      "text/plain": [
       "<Figure size 432x288 with 1 Axes>"
      ]
     },
     "execution_count": 17,
     "metadata": {},
     "output_type": "execute_result"
    },
    {
     "data": {
      "image/png": "[encoded data removed]",
      "text/plain": [
       "<Figure size 432x288 with 1 Axes>"
      ]
     },
     "metadata": {
      "needs_background": "light"
     },
     "output_type": "display_data"
    }
   ],
   "source": [
    "import statsmodels.api as sm\n",
    "sm.qqplot(bwt_df['bwt'], line = 'q', label = 'birthweight')"
   ]
  },
  {
   "cell_type": "code",
   "execution_count": 18,
   "metadata": {},
   "outputs": [
    {
     "name": "stderr",
     "output_type": "stream",
     "text": [
      "C:\\Users\\dakot\\Anaconda3\\lib\\site-packages\\scipy\\stats\\stats.py:1713: FutureWarning: Using a non-tuple sequence for multidimensional indexing is deprecated; use `arr[tuple(seq)]` instead of `arr[seq]`. In the future this will be interpreted as an array index, `arr[np.array(seq)]`, which will result either in an error or a different result.\n",
      "  return np.add.reduce(sorted[indexer] * weights, axis=axis) / sumval\n"
     ]
    },
    {
     "data": {
      "image/png": "[encoded data removed]",
      "text/plain": [
       "<Figure size 432x288 with 1 Axes>"
      ]
     },
     "execution_count": 18,
     "metadata": {},
     "output_type": "execute_result"
    },
    {
     "data": {
      "image/png": "[encoded data removed]",
      "text/plain": [
       "<Figure size 432x288 with 1 Axes>"
      ]
     },
     "metadata": {
      "needs_background": "light"
     },
     "output_type": "display_data"
    }
   ],
   "source": [
    "sm.qqplot(bwt_df['gestation'],line = 'q')"
   ]
  },
  {
   "cell_type": "code",
   "execution_count": 29,
   "metadata": {},
   "outputs": [
    {
     "data": {
      "text/html": [
       "<div>\n",
       "<style scoped>\n",
       "    .dataframe tbody tr th:only-of-type {\n",
       "        vertical-align: middle;\n",
       "    }\n",
       "\n",
       "    .dataframe tbody tr th {\n",
       "        vertical-align: top;\n",
       "    }\n",
       "\n",
       "    .dataframe thead th {\n",
       "        text-align: right;\n",
       "    }\n",
       "</style>\n",
       "<table border=\"1\" class=\"dataframe\">\n",
       "  <thead>\n",
       "    <tr style=\"text-align: right;\">\n",
       "      <th></th>\n",
       "      <th>bwt</th>\n",
       "      <th>gestation</th>\n",
       "      <th>parity</th>\n",
       "      <th>age</th>\n",
       "      <th>height</th>\n",
       "      <th>weight</th>\n",
       "      <th>smoke</th>\n",
       "    </tr>\n",
       "  </thead>\n",
       "  <tbody>\n",
       "    <tr>\n",
       "      <th>0</th>\n",
       "      <td>120</td>\n",
       "      <td>284</td>\n",
       "      <td>0</td>\n",
       "      <td>27</td>\n",
       "      <td>62</td>\n",
       "      <td>100</td>\n",
       "      <td>0</td>\n",
       "    </tr>\n",
       "    <tr>\n",
       "      <th>1</th>\n",
       "      <td>113</td>\n",
       "      <td>282</td>\n",
       "      <td>0</td>\n",
       "      <td>33</td>\n",
       "      <td>64</td>\n",
       "      <td>135</td>\n",
       "      <td>0</td>\n",
       "    </tr>\n",
       "    <tr>\n",
       "      <th>2</th>\n",
       "      <td>128</td>\n",
       "      <td>279</td>\n",
       "      <td>0</td>\n",
       "      <td>28</td>\n",
       "      <td>64</td>\n",
       "      <td>115</td>\n",
       "      <td>1</td>\n",
       "    </tr>\n",
       "    <tr>\n",
       "      <th>3</th>\n",
       "      <td>108</td>\n",
       "      <td>282</td>\n",
       "      <td>0</td>\n",
       "      <td>23</td>\n",
       "      <td>67</td>\n",
       "      <td>125</td>\n",
       "      <td>1</td>\n",
       "    </tr>\n",
       "    <tr>\n",
       "      <th>4</th>\n",
       "      <td>136</td>\n",
       "      <td>286</td>\n",
       "      <td>0</td>\n",
       "      <td>25</td>\n",
       "      <td>62</td>\n",
       "      <td>93</td>\n",
       "      <td>0</td>\n",
       "    </tr>\n",
       "  </tbody>\n",
       "</table>\n",
       "</div>"
      ],
      "text/plain": [
       "   bwt  gestation  parity  age  height  weight  smoke\n",
       "0  120        284       0   27      62     100      0\n",
       "1  113        282       0   33      64     135      0\n",
       "2  128        279       0   28      64     115      1\n",
       "3  108        282       0   23      67     125      1\n",
       "4  136        286       0   25      62      93      0"
      ]
     },
     "execution_count": 29,
     "metadata": {},
     "output_type": "execute_result"
    }
   ],
   "source": [
    "bwt_df.head()"
   ]
  },
  {
   "cell_type": "code",
   "execution_count": 31,
   "metadata": {},
   "outputs": [
    {
     "data": {
      "image/png": "[encoded data removed]",
      "text/plain": [
       "<Figure size 432x288 with 1 Axes>"
      ]
     },
     "metadata": {
      "needs_background": "light"
     },
     "output_type": "display_data"
    }
   ],
   "source": [
    "import matplotlib.pyplot as plt\n",
    "bwt_df = pd.read_csv('http://people.reed.edu/~jones/141/Bwt.dat')\n",
    "bwt_df.head()\n",
    "\n",
    "plt.scatter(bwt_df.bwt, bwt_df.gestation)\n",
    "plt.ylabel('Gestation time')\n",
    "plt.xlabel('weight at birth ');"
   ]
  },
  {
   "cell_type": "markdown",
   "metadata": {},
   "source": [
    "What characteristics of a mother indicate the highest likelihood of an at-risk (low weight) baby?\n",
    "What can expectant mothers be told to help mitigate this risk?\n",
    "\n",
    "It appears as guessed smoking and gestation effects birthweight. Surprisingly so does weight, age and parity. Though no other features seem to be as extreme as smoking. So for me the indicators of an at risk baby would be a mother who smokes, doesnt carry to term, whom has had children prior, and who is of higher age. \n",
    "Telling mothers to avoid smoking and suggesting methods to help carry to term would help mitigate the risks of a low birthweight baby. "
   ]
  },
  {
   "cell_type": "markdown",
   "metadata": {
    "colab_type": "text",
    "id": "XY9JGAnJisdB"
   },
   "source": [
    "## Resources and stretch goals"
   ]
  },
  {
   "cell_type": "markdown",
   "metadata": {
    "colab_type": "text",
    "id": "inFWXSpqmND5"
   },
   "source": [
    "Resources:\n",
    "- [statsmodels QuantReg example](http://www.statsmodels.org/dev/examples/notebooks/generated/quantile_regression.html)\n",
    "- [How Shopify used Quantile Regression in modeling risk](https://medium.com/data-shopify/how-shopify-capital-uses-quantile-regression-to-help-merchants-succeed-10ee1b36b17d)\n",
    "\n",
    "Stretch goals:\n",
    "- Find a dataset where you think quantile regression may be appropriate, and try both it and linear regression - compare/contrast their strengths/weaknesses, and write a summary for which you think is better for the situation and why\n",
    "- Check out [deep quantile regression](https://www.kdnuggets.com/2018/07/deep-quantile-regression.html), an approach that uses a custom quantile loss function and Keras to train a quantile model"
   ]
  }
 ],
 "metadata": {
  "colab": {
   "name": "LS_DS_233_Quantile_Regression.ipynb",
   "provenance": [],
   "version": "0.3.2"
  },
  "kernelspec": {
   "display_name": "Python 3",
   "language": "python",
   "name": "python3"
  },
  "language_info": {
   "codemirror_mode": {
    "name": "ipython",
    "version": 3
   },
   "file_extension": ".py",
   "mimetype": "text/x-python",
   "name": "python",
   "nbconvert_exporter": "python",
   "pygments_lexer": "ipython3",
   "version": "3.7.0"
  }
 },
 "nbformat": 4,
 "nbformat_minor": 1
}
