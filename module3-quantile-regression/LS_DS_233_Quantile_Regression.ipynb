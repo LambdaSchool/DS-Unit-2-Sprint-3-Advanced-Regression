{
  "nbformat": 4,
  "nbformat_minor": 0,
  "metadata": {
    "colab": {
      "name": "LS_DS_233_Quantile_Regression.ipynb",
      "version": "0.3.2",
      "provenance": []
    },
    "kernelspec": {
      "name": "python3",
      "display_name": "Python 3"
    }
  },
  "cells": [
    {
      "metadata": {
        "id": "SV7gaADiicnV",
        "colab_type": "text"
      },
      "cell_type": "markdown",
      "source": [
        "# Lambda School Data Science - Quantile Regression\n",
        "\n",
        "Regressing towards the median - or any quantile - as a way to mitigate outliers and control risk."
      ]
    },
    {
      "metadata": {
        "id": "6klMj4q3iqMh",
        "colab_type": "text"
      },
      "cell_type": "markdown",
      "source": [
        "## Lecture\n",
        "\n",
        "Let's look at data that has a bit of a skew to it:\n",
        "\n",
        "http://archive.ics.uci.edu/ml/datasets/Beijing+PM2.5+Data"
      ]
    },
    {
      "metadata": {
        "id": "yw1AD_z9O0xL",
        "colab_type": "code",
        "colab": {}
      },
      "cell_type": "code",
      "source": [
        "import pandas as pd\n",
        "df = pd.read_csv('http://archive.ics.uci.edu/ml/machine-learning-databases/'\n",
        "                 '00381/PRSA_data_2010.1.1-2014.12.31.csv')"
      ],
      "execution_count": 0,
      "outputs": []
    },
    {
      "metadata": {
        "id": "RTlH1lJ8PDv5",
        "colab_type": "code",
        "outputId": "7985df7f-1913-4109-d472-277d738dc110",
        "colab": {
          "base_uri": "https://localhost:8080/",
          "height": 195
        }
      },
      "cell_type": "code",
      "source": [
        "df.head()"
      ],
      "execution_count": 2,
      "outputs": [
        {
          "output_type": "execute_result",
          "data": {
            "text/html": [
              "<div>\n",
              "<style scoped>\n",
              "    .dataframe tbody tr th:only-of-type {\n",
              "        vertical-align: middle;\n",
              "    }\n",
              "\n",
              "    .dataframe tbody tr th {\n",
              "        vertical-align: top;\n",
              "    }\n",
              "\n",
              "    .dataframe thead th {\n",
              "        text-align: right;\n",
              "    }\n",
              "</style>\n",
              "<table border=\"1\" class=\"dataframe\">\n",
              "  <thead>\n",
              "    <tr style=\"text-align: right;\">\n",
              "      <th></th>\n",
              "      <th>No</th>\n",
              "      <th>year</th>\n",
              "      <th>month</th>\n",
              "      <th>day</th>\n",
              "      <th>hour</th>\n",
              "      <th>pm2.5</th>\n",
              "      <th>DEWP</th>\n",
              "      <th>TEMP</th>\n",
              "      <th>PRES</th>\n",
              "      <th>cbwd</th>\n",
              "      <th>Iws</th>\n",
              "      <th>Is</th>\n",
              "      <th>Ir</th>\n",
              "    </tr>\n",
              "  </thead>\n",
              "  <tbody>\n",
              "    <tr>\n",
              "      <th>0</th>\n",
              "      <td>1</td>\n",
              "      <td>2010</td>\n",
              "      <td>1</td>\n",
              "      <td>1</td>\n",
              "      <td>0</td>\n",
              "      <td>NaN</td>\n",
              "      <td>-21</td>\n",
              "      <td>-11.0</td>\n",
              "      <td>1021.0</td>\n",
              "      <td>NW</td>\n",
              "      <td>1.79</td>\n",
              "      <td>0</td>\n",
              "      <td>0</td>\n",
              "    </tr>\n",
              "    <tr>\n",
              "      <th>1</th>\n",
              "      <td>2</td>\n",
              "      <td>2010</td>\n",
              "      <td>1</td>\n",
              "      <td>1</td>\n",
              "      <td>1</td>\n",
              "      <td>NaN</td>\n",
              "      <td>-21</td>\n",
              "      <td>-12.0</td>\n",
              "      <td>1020.0</td>\n",
              "      <td>NW</td>\n",
              "      <td>4.92</td>\n",
              "      <td>0</td>\n",
              "      <td>0</td>\n",
              "    </tr>\n",
              "    <tr>\n",
              "      <th>2</th>\n",
              "      <td>3</td>\n",
              "      <td>2010</td>\n",
              "      <td>1</td>\n",
              "      <td>1</td>\n",
              "      <td>2</td>\n",
              "      <td>NaN</td>\n",
              "      <td>-21</td>\n",
              "      <td>-11.0</td>\n",
              "      <td>1019.0</td>\n",
              "      <td>NW</td>\n",
              "      <td>6.71</td>\n",
              "      <td>0</td>\n",
              "      <td>0</td>\n",
              "    </tr>\n",
              "    <tr>\n",
              "      <th>3</th>\n",
              "      <td>4</td>\n",
              "      <td>2010</td>\n",
              "      <td>1</td>\n",
              "      <td>1</td>\n",
              "      <td>3</td>\n",
              "      <td>NaN</td>\n",
              "      <td>-21</td>\n",
              "      <td>-14.0</td>\n",
              "      <td>1019.0</td>\n",
              "      <td>NW</td>\n",
              "      <td>9.84</td>\n",
              "      <td>0</td>\n",
              "      <td>0</td>\n",
              "    </tr>\n",
              "    <tr>\n",
              "      <th>4</th>\n",
              "      <td>5</td>\n",
              "      <td>2010</td>\n",
              "      <td>1</td>\n",
              "      <td>1</td>\n",
              "      <td>4</td>\n",
              "      <td>NaN</td>\n",
              "      <td>-20</td>\n",
              "      <td>-12.0</td>\n",
              "      <td>1018.0</td>\n",
              "      <td>NW</td>\n",
              "      <td>12.97</td>\n",
              "      <td>0</td>\n",
              "      <td>0</td>\n",
              "    </tr>\n",
              "  </tbody>\n",
              "</table>\n",
              "</div>"
            ],
            "text/plain": [
              "   No  year  month  day  hour  pm2.5  DEWP  TEMP    PRES cbwd    Iws  Is  Ir\n",
              "0   1  2010      1    1     0    NaN   -21 -11.0  1021.0   NW   1.79   0   0\n",
              "1   2  2010      1    1     1    NaN   -21 -12.0  1020.0   NW   4.92   0   0\n",
              "2   3  2010      1    1     2    NaN   -21 -11.0  1019.0   NW   6.71   0   0\n",
              "3   4  2010      1    1     3    NaN   -21 -14.0  1019.0   NW   9.84   0   0\n",
              "4   5  2010      1    1     4    NaN   -20 -12.0  1018.0   NW  12.97   0   0"
            ]
          },
          "metadata": {
            "tags": []
          },
          "execution_count": 2
        }
      ]
    },
    {
      "metadata": {
        "id": "m-yC9OSPPFo8",
        "colab_type": "code",
        "outputId": "e15a989e-8079-4def-859b-7c287d8db3d4",
        "colab": {
          "base_uri": "https://localhost:8080/",
          "height": 304
        }
      },
      "cell_type": "code",
      "source": [
        "df.describe()"
      ],
      "execution_count": 3,
      "outputs": [
        {
          "output_type": "execute_result",
          "data": {
            "text/html": [
              "<div>\n",
              "<style scoped>\n",
              "    .dataframe tbody tr th:only-of-type {\n",
              "        vertical-align: middle;\n",
              "    }\n",
              "\n",
              "    .dataframe tbody tr th {\n",
              "        vertical-align: top;\n",
              "    }\n",
              "\n",
              "    .dataframe thead th {\n",
              "        text-align: right;\n",
              "    }\n",
              "</style>\n",
              "<table border=\"1\" class=\"dataframe\">\n",
              "  <thead>\n",
              "    <tr style=\"text-align: right;\">\n",
              "      <th></th>\n",
              "      <th>No</th>\n",
              "      <th>year</th>\n",
              "      <th>month</th>\n",
              "      <th>day</th>\n",
              "      <th>hour</th>\n",
              "      <th>pm2.5</th>\n",
              "      <th>DEWP</th>\n",
              "      <th>TEMP</th>\n",
              "      <th>PRES</th>\n",
              "      <th>Iws</th>\n",
              "      <th>Is</th>\n",
              "      <th>Ir</th>\n",
              "    </tr>\n",
              "  </thead>\n",
              "  <tbody>\n",
              "    <tr>\n",
              "      <th>count</th>\n",
              "      <td>43824.000000</td>\n",
              "      <td>43824.000000</td>\n",
              "      <td>43824.000000</td>\n",
              "      <td>43824.000000</td>\n",
              "      <td>43824.000000</td>\n",
              "      <td>41757.000000</td>\n",
              "      <td>43824.000000</td>\n",
              "      <td>43824.000000</td>\n",
              "      <td>43824.000000</td>\n",
              "      <td>43824.000000</td>\n",
              "      <td>43824.000000</td>\n",
              "      <td>43824.000000</td>\n",
              "    </tr>\n",
              "    <tr>\n",
              "      <th>mean</th>\n",
              "      <td>21912.500000</td>\n",
              "      <td>2012.000000</td>\n",
              "      <td>6.523549</td>\n",
              "      <td>15.727820</td>\n",
              "      <td>11.500000</td>\n",
              "      <td>98.613215</td>\n",
              "      <td>1.817246</td>\n",
              "      <td>12.448521</td>\n",
              "      <td>1016.447654</td>\n",
              "      <td>23.889140</td>\n",
              "      <td>0.052734</td>\n",
              "      <td>0.194916</td>\n",
              "    </tr>\n",
              "    <tr>\n",
              "      <th>std</th>\n",
              "      <td>12651.043435</td>\n",
              "      <td>1.413842</td>\n",
              "      <td>3.448572</td>\n",
              "      <td>8.799425</td>\n",
              "      <td>6.922266</td>\n",
              "      <td>92.050387</td>\n",
              "      <td>14.433440</td>\n",
              "      <td>12.198613</td>\n",
              "      <td>10.268698</td>\n",
              "      <td>50.010635</td>\n",
              "      <td>0.760375</td>\n",
              "      <td>1.415867</td>\n",
              "    </tr>\n",
              "    <tr>\n",
              "      <th>min</th>\n",
              "      <td>1.000000</td>\n",
              "      <td>2010.000000</td>\n",
              "      <td>1.000000</td>\n",
              "      <td>1.000000</td>\n",
              "      <td>0.000000</td>\n",
              "      <td>0.000000</td>\n",
              "      <td>-40.000000</td>\n",
              "      <td>-19.000000</td>\n",
              "      <td>991.000000</td>\n",
              "      <td>0.450000</td>\n",
              "      <td>0.000000</td>\n",
              "      <td>0.000000</td>\n",
              "    </tr>\n",
              "    <tr>\n",
              "      <th>25%</th>\n",
              "      <td>10956.750000</td>\n",
              "      <td>2011.000000</td>\n",
              "      <td>4.000000</td>\n",
              "      <td>8.000000</td>\n",
              "      <td>5.750000</td>\n",
              "      <td>29.000000</td>\n",
              "      <td>-10.000000</td>\n",
              "      <td>2.000000</td>\n",
              "      <td>1008.000000</td>\n",
              "      <td>1.790000</td>\n",
              "      <td>0.000000</td>\n",
              "      <td>0.000000</td>\n",
              "    </tr>\n",
              "    <tr>\n",
              "      <th>50%</th>\n",
              "      <td>21912.500000</td>\n",
              "      <td>2012.000000</td>\n",
              "      <td>7.000000</td>\n",
              "      <td>16.000000</td>\n",
              "      <td>11.500000</td>\n",
              "      <td>72.000000</td>\n",
              "      <td>2.000000</td>\n",
              "      <td>14.000000</td>\n",
              "      <td>1016.000000</td>\n",
              "      <td>5.370000</td>\n",
              "      <td>0.000000</td>\n",
              "      <td>0.000000</td>\n",
              "    </tr>\n",
              "    <tr>\n",
              "      <th>75%</th>\n",
              "      <td>32868.250000</td>\n",
              "      <td>2013.000000</td>\n",
              "      <td>10.000000</td>\n",
              "      <td>23.000000</td>\n",
              "      <td>17.250000</td>\n",
              "      <td>137.000000</td>\n",
              "      <td>15.000000</td>\n",
              "      <td>23.000000</td>\n",
              "      <td>1025.000000</td>\n",
              "      <td>21.910000</td>\n",
              "      <td>0.000000</td>\n",
              "      <td>0.000000</td>\n",
              "    </tr>\n",
              "    <tr>\n",
              "      <th>max</th>\n",
              "      <td>43824.000000</td>\n",
              "      <td>2014.000000</td>\n",
              "      <td>12.000000</td>\n",
              "      <td>31.000000</td>\n",
              "      <td>23.000000</td>\n",
              "      <td>994.000000</td>\n",
              "      <td>28.000000</td>\n",
              "      <td>42.000000</td>\n",
              "      <td>1046.000000</td>\n",
              "      <td>585.600000</td>\n",
              "      <td>27.000000</td>\n",
              "      <td>36.000000</td>\n",
              "    </tr>\n",
              "  </tbody>\n",
              "</table>\n",
              "</div>"
            ],
            "text/plain": [
              "                 No          year         month           day          hour  \\\n",
              "count  43824.000000  43824.000000  43824.000000  43824.000000  43824.000000   \n",
              "mean   21912.500000   2012.000000      6.523549     15.727820     11.500000   \n",
              "std    12651.043435      1.413842      3.448572      8.799425      6.922266   \n",
              "min        1.000000   2010.000000      1.000000      1.000000      0.000000   \n",
              "25%    10956.750000   2011.000000      4.000000      8.000000      5.750000   \n",
              "50%    21912.500000   2012.000000      7.000000     16.000000     11.500000   \n",
              "75%    32868.250000   2013.000000     10.000000     23.000000     17.250000   \n",
              "max    43824.000000   2014.000000     12.000000     31.000000     23.000000   \n",
              "\n",
              "              pm2.5          DEWP          TEMP          PRES           Iws  \\\n",
              "count  41757.000000  43824.000000  43824.000000  43824.000000  43824.000000   \n",
              "mean      98.613215      1.817246     12.448521   1016.447654     23.889140   \n",
              "std       92.050387     14.433440     12.198613     10.268698     50.010635   \n",
              "min        0.000000    -40.000000    -19.000000    991.000000      0.450000   \n",
              "25%       29.000000    -10.000000      2.000000   1008.000000      1.790000   \n",
              "50%       72.000000      2.000000     14.000000   1016.000000      5.370000   \n",
              "75%      137.000000     15.000000     23.000000   1025.000000     21.910000   \n",
              "max      994.000000     28.000000     42.000000   1046.000000    585.600000   \n",
              "\n",
              "                 Is            Ir  \n",
              "count  43824.000000  43824.000000  \n",
              "mean       0.052734      0.194916  \n",
              "std        0.760375      1.415867  \n",
              "min        0.000000      0.000000  \n",
              "25%        0.000000      0.000000  \n",
              "50%        0.000000      0.000000  \n",
              "75%        0.000000      0.000000  \n",
              "max       27.000000     36.000000  "
            ]
          },
          "metadata": {
            "tags": []
          },
          "execution_count": 3
        }
      ]
    },
    {
      "metadata": {
        "id": "hfV3WisFP_O6",
        "colab_type": "code",
        "outputId": "45445ce2-9f80-4078-fb6b-1ffd34f0ec79",
        "colab": {
          "base_uri": "https://localhost:8080/",
          "height": 347
        }
      },
      "cell_type": "code",
      "source": [
        "#y variable pm2.5\n",
        "df['pm2.5'].plot.hist(bins=30);\n",
        "#right skew\n",
        "#mean > median\n",
        "#Application: loans\n",
        "#we want to be conservative of how much \n",
        "#if we fit to mean we give too much loans\n",
        "#a quantile model would allow them to choose\n",
        "#find 'median user'\n",
        "#Application: health predictions based on birth weigh\n",
        "#in"
      ],
      "execution_count": 6,
      "outputs": [
        {
          "output_type": "display_data",
          "data": {
            "image/png": "[encoded data removed]",
            "text/plain": [
              "<Figure size 576x396 with 1 Axes>"
            ]
          },
          "metadata": {
            "tags": []
          }
        }
      ]
    },
    {
      "metadata": {
        "id": "OgbMTAHzQJB8",
        "colab_type": "code",
        "outputId": "36e31475-3e2a-411e-a9e4-b9613c0b7364",
        "colab": {
          "base_uri": "https://localhost:8080/",
          "height": 34
        }
      },
      "cell_type": "code",
      "source": [
        "# How does linear regression handle it?\n",
        "from sklearn.linear_model import LinearRegression\n",
        "\n",
        "# Let's drop NAs and limit to numeric values\n",
        "df = df._get_numeric_data().dropna()\n",
        "X = df.drop('pm2.5', axis='columns')\n",
        "y = df['pm2.5']\n",
        "\n",
        "linear_reg = LinearRegression().fit(X, y)\n",
        "linear_reg.score(X, y) #not well #25% r squared"
      ],
      "execution_count": 5,
      "outputs": [
        {
          "output_type": "execute_result",
          "data": {
            "text/plain": [
              "0.2590006399659215"
            ]
          },
          "metadata": {
            "tags": []
          },
          "execution_count": 5
        }
      ]
    },
    {
      "metadata": {
        "id": "T926uHKVDlQY",
        "colab_type": "code",
        "colab": {
          "base_uri": "https://localhost:8080/",
          "height": 34
        },
        "outputId": "12e7f8a8-9410-4d13-e483-08ab84715701"
      },
      "cell_type": "code",
      "source": [
        "','.join(['1','2','3']) \n",
        "#this is how csv files are made and how we'll construct the quant formula"
      ],
      "execution_count": 7,
      "outputs": [
        {
          "output_type": "execute_result",
          "data": {
            "text/plain": [
              "'1,2,3'"
            ]
          },
          "metadata": {
            "tags": []
          },
          "execution_count": 7
        }
      ]
    },
    {
      "metadata": {
        "id": "-viFFtm0RizM",
        "colab_type": "code",
        "outputId": "baa3648a-7ecf-42e1-ffe0-69efe5929bb7",
        "colab": {
          "base_uri": "https://localhost:8080/",
          "height": 434
        }
      },
      "cell_type": "code",
      "source": [
        "# Not bad - but what if we wanted to model the distribution more conservatively?\n",
        "# Let's try quantile\n",
        "import statsmodels.formula.api as smf\n",
        "\n",
        "# Different jargon/API in StatsModel documentation\n",
        "# \"endogenous\" response var is dependent (y), it is \"inside\"\n",
        "# \"exogenous\" variables are independent (X), it is \"outside\"\n",
        "# Bonus points - talk about \"exogenous shocks\" and you're a bona fide economist\n",
        "\n",
        "# ~ style formulas look like what R uses\n",
        "# y ~ x1 + x2 + ...\n",
        "# Also, these formulas break with . in variable name, so lets change that\n",
        "df = df.rename(index=str, columns={'pm2.5': 'pm25'}) #statsmodels doesn't like periods\n",
        "\n",
        "# Now let's construct the formula string using all columns\n",
        "quant_formula = 'pm25 ~ ' + ' + '.join(df.drop('pm25', axis='columns').columns)\n",
        "print(quant_formula)\n",
        "\n",
        "quant_mod = smf.quantreg(quant_formula, data=df)\n",
        "quant_reg = quant_mod.fit(q=.5)\n",
        "quant_reg.summary()  # \"summary\" is another very R-thing"
      ],
      "execution_count": 8,
      "outputs": [
        {
          "output_type": "stream",
          "text": [
            "pm25 ~ No + year + month + day + hour + DEWP + TEMP + PRES + Iws + Is + Ir\n"
          ],
          "name": "stdout"
        },
        {
          "output_type": "execute_result",
          "data": {
            "text/html": [
              "<table class=\"simpletable\">\n",
              "<caption>QuantReg Regression Results</caption>\n",
              "<tr>\n",
              "  <th>Dep. Variable:</th>       <td>pm25</td>       <th>  Pseudo R-squared:  </th> <td>  0.1600</td>\n",
              "</tr>\n",
              "<tr>\n",
              "  <th>Model:</th>             <td>QuantReg</td>     <th>  Bandwidth:         </th> <td>   8.276</td>\n",
              "</tr>\n",
              "<tr>\n",
              "  <th>Method:</th>          <td>Least Squares</td>  <th>  Sparsity:          </th> <td>   133.8</td>\n",
              "</tr>\n",
              "<tr>\n",
              "  <th>Date:</th>          <td>Wed, 27 Feb 2019</td> <th>  No. Observations:  </th>  <td> 41757</td> \n",
              "</tr>\n",
              "<tr>\n",
              "  <th>Time:</th>              <td>17:45:24</td>     <th>  Df Residuals:      </th>  <td> 41745</td> \n",
              "</tr>\n",
              "<tr>\n",
              "  <th> </th>                      <td> </td>        <th>  Df Model:          </th>  <td>    11</td> \n",
              "</tr>\n",
              "</table>\n",
              "<table class=\"simpletable\">\n",
              "<tr>\n",
              "      <td></td>         <th>coef</th>     <th>std err</th>      <th>t</th>      <th>P>|t|</th>  <th>[0.025</th>    <th>0.975]</th>  \n",
              "</tr>\n",
              "<tr>\n",
              "  <th>Intercept</th> <td>    0.0004</td> <td> 1.67e-05</td> <td>   22.881</td> <td> 0.000</td> <td>    0.000</td> <td>    0.000</td>\n",
              "</tr>\n",
              "<tr>\n",
              "  <th>No</th>        <td>  3.63e-07</td> <td> 2.67e-05</td> <td>    0.014</td> <td> 0.989</td> <td> -5.2e-05</td> <td> 5.27e-05</td>\n",
              "</tr>\n",
              "<tr>\n",
              "  <th>year</th>      <td>    0.8830</td> <td>    0.031</td> <td>   28.631</td> <td> 0.000</td> <td>    0.823</td> <td>    0.943</td>\n",
              "</tr>\n",
              "<tr>\n",
              "  <th>month</th>     <td>   -1.4110</td> <td>    0.103</td> <td>  -13.749</td> <td> 0.000</td> <td>   -1.612</td> <td>   -1.210</td>\n",
              "</tr>\n",
              "<tr>\n",
              "  <th>day</th>       <td>    0.4461</td> <td>    0.037</td> <td>   11.951</td> <td> 0.000</td> <td>    0.373</td> <td>    0.519</td>\n",
              "</tr>\n",
              "<tr>\n",
              "  <th>hour</th>      <td>    1.2810</td> <td>    0.050</td> <td>   25.779</td> <td> 0.000</td> <td>    1.184</td> <td>    1.378</td>\n",
              "</tr>\n",
              "<tr>\n",
              "  <th>DEWP</th>      <td>    3.6362</td> <td>    0.047</td> <td>   77.315</td> <td> 0.000</td> <td>    3.544</td> <td>    3.728</td>\n",
              "</tr>\n",
              "<tr>\n",
              "  <th>TEMP</th>      <td>   -4.7103</td> <td>    0.060</td> <td>  -78.779</td> <td> 0.000</td> <td>   -4.828</td> <td>   -4.593</td>\n",
              "</tr>\n",
              "<tr>\n",
              "  <th>PRES</th>      <td>   -1.6265</td> <td>    0.061</td> <td>  -26.760</td> <td> 0.000</td> <td>   -1.746</td> <td>   -1.507</td>\n",
              "</tr>\n",
              "<tr>\n",
              "  <th>Iws</th>       <td>   -0.1541</td> <td>    0.007</td> <td>  -21.786</td> <td> 0.000</td> <td>   -0.168</td> <td>   -0.140</td>\n",
              "</tr>\n",
              "<tr>\n",
              "  <th>Is</th>        <td>   -1.6322</td> <td>    0.425</td> <td>   -3.838</td> <td> 0.000</td> <td>   -2.466</td> <td>   -0.799</td>\n",
              "</tr>\n",
              "<tr>\n",
              "  <th>Ir</th>        <td>   -5.3946</td> <td>    0.234</td> <td>  -23.034</td> <td> 0.000</td> <td>   -5.854</td> <td>   -4.936</td>\n",
              "</tr>\n",
              "</table>"
            ],
            "text/plain": [
              "<class 'statsmodels.iolib.summary.Summary'>\n",
              "\"\"\"\n",
              "                         QuantReg Regression Results                          \n",
              "==============================================================================\n",
              "Dep. Variable:                   pm25   Pseudo R-squared:               0.1600\n",
              "Model:                       QuantReg   Bandwidth:                       8.276\n",
              "Method:                 Least Squares   Sparsity:                        133.8\n",
              "Date:                Wed, 27 Feb 2019   No. Observations:                41757\n",
              "Time:                        17:45:24   Df Residuals:                    41745\n",
              "                                        Df Model:                           11\n",
              "==============================================================================\n",
              "                 coef    std err          t      P>|t|      [0.025      0.975]\n",
              "------------------------------------------------------------------------------\n",
              "Intercept      0.0004   1.67e-05     22.881      0.000       0.000       0.000\n",
              "No           3.63e-07   2.67e-05      0.014      0.989    -5.2e-05    5.27e-05\n",
              "year           0.8830      0.031     28.631      0.000       0.823       0.943\n",
              "month         -1.4110      0.103    -13.749      0.000      -1.612      -1.210\n",
              "day            0.4461      0.037     11.951      0.000       0.373       0.519\n",
              "hour           1.2810      0.050     25.779      0.000       1.184       1.378\n",
              "DEWP           3.6362      0.047     77.315      0.000       3.544       3.728\n",
              "TEMP          -4.7103      0.060    -78.779      0.000      -4.828      -4.593\n",
              "PRES          -1.6265      0.061    -26.760      0.000      -1.746      -1.507\n",
              "Iws           -0.1541      0.007    -21.786      0.000      -0.168      -0.140\n",
              "Is            -1.6322      0.425     -3.838      0.000      -2.466      -0.799\n",
              "Ir            -5.3946      0.234    -23.034      0.000      -5.854      -4.936\n",
              "==============================================================================\n",
              "\n",
              "The condition number is large, 3.67e+10. This might indicate that there are\n",
              "strong multicollinearity or other numerical problems.\n",
              "\"\"\""
            ]
          },
          "metadata": {
            "tags": []
          },
          "execution_count": 8
        }
      ]
    },
    {
      "metadata": {
        "id": "1xJU_ooaD8Gh",
        "colab_type": "code",
        "colab": {
          "base_uri": "https://localhost:8080/",
          "height": 34
        },
        "outputId": "e6abb72e-9626-42e0-db28-7340e2beafa1"
      },
      "cell_type": "code",
      "source": [
        "#coef - median (or q) effect of x on y\n",
        "#t = coef/std error\n",
        "0.8830 / 0.031\n",
        "#psuedo rsquared"
      ],
      "execution_count": 9,
      "outputs": [
        {
          "output_type": "execute_result",
          "data": {
            "text/plain": [
              "28.483870967741936"
            ]
          },
          "metadata": {
            "tags": []
          },
          "execution_count": 9
        }
      ]
    },
    {
      "metadata": {
        "id": "XNW0mgjeFYds",
        "colab_type": "code",
        "colab": {}
      },
      "cell_type": "code",
      "source": [
        "#How to pick quantiles"
      ],
      "execution_count": 0,
      "outputs": []
    },
    {
      "metadata": {
        "id": "ZBkP4bewd-HT",
        "colab_type": "text"
      },
      "cell_type": "markdown",
      "source": [
        "That fit to the median (q=0.5), also called \"Least Absolute Deviation.\" The pseudo-R^2 isn't really directly comparable to the R^2 from linear regression, but it clearly isn't dramatically improved. Can we make it better?"
      ]
    },
    {
      "metadata": {
        "id": "BgvYeHg3bL4g",
        "colab_type": "code",
        "outputId": "bf4547a0-7739-45d8-bf5a-26ab1684f7f6",
        "colab": {
          "base_uri": "https://localhost:8080/",
          "height": 593
        }
      },
      "cell_type": "code",
      "source": [
        "help(quant_mod.fit)"
      ],
      "execution_count": 0,
      "outputs": [
        {
          "output_type": "stream",
          "text": [
            "Help on method fit in module statsmodels.regression.quantile_regression:\n",
            "\n",
            "fit(q=0.5, vcov='robust', kernel='epa', bandwidth='hsheather', max_iter=1000, p_tol=1e-06, **kwargs) method of statsmodels.regression.quantile_regression.QuantReg instance\n",
            "    Solve by Iterative Weighted Least Squares\n",
            "    \n",
            "    Parameters\n",
            "    ----------\n",
            "    q : float\n",
            "        Quantile must be between 0 and 1\n",
            "    vcov : string, method used to calculate the variance-covariance matrix\n",
            "        of the parameters. Default is ``robust``:\n",
            "    \n",
            "        - robust : heteroskedasticity robust standard errors (as suggested\n",
            "          in Greene 6th edition)\n",
            "        - iid : iid errors (as in Stata 12)\n",
            "    \n",
            "    kernel : string, kernel to use in the kernel density estimation for the\n",
            "        asymptotic covariance matrix:\n",
            "    \n",
            "        - epa: Epanechnikov\n",
            "        - cos: Cosine\n",
            "        - gau: Gaussian\n",
            "        - par: Parzene\n",
            "    \n",
            "    bandwidth: string, Bandwidth selection method in kernel density\n",
            "        estimation for asymptotic covariance estimate (full\n",
            "        references in QuantReg docstring):\n",
            "    \n",
            "        - hsheather: Hall-Sheather (1988)\n",
            "        - bofinger: Bofinger (1975)\n",
            "        - chamberlain: Chamberlain (1994)\n",
            "\n"
          ],
          "name": "stdout"
        }
      ]
    },
    {
      "metadata": {
        "id": "lpNPioZTei4U",
        "colab_type": "code",
        "outputId": "85045459-529d-4900-9587-2066f8a0192d",
        "colab": {
          "base_uri": "https://localhost:8080/",
          "height": 1378
        }
      },
      "cell_type": "code",
      "source": [
        "quantiles = (.05, .96, .1)\n",
        "#How to pick quantiles\n",
        "#what is most appropiate for your needs?\n",
        "#more important to underpredict - closer to median\n",
        "#more important to overpredict - closer to one\n",
        "#tests for each quantile\n",
        "for quantile in quantiles:\n",
        "  print(quant_mod.fit(q=quantile).summary())\n",
        "#r2 between qs isn't comparable because of skew"
      ],
      "execution_count": 10,
      "outputs": [
        {
          "output_type": "stream",
          "text": [
            "                         QuantReg Regression Results                          \n",
            "==============================================================================\n",
            "Dep. Variable:                   pm25   Pseudo R-squared:              0.04130\n",
            "Model:                       QuantReg   Bandwidth:                       8.908\n",
            "Method:                 Least Squares   Sparsity:                        120.7\n",
            "Date:                Wed, 27 Feb 2019   No. Observations:                41757\n",
            "Time:                        17:53:10   Df Residuals:                    41745\n",
            "                                        Df Model:                           11\n",
            "==============================================================================\n",
            "                 coef    std err          t      P>|t|      [0.025      0.975]\n",
            "------------------------------------------------------------------------------\n",
            "Intercept   3.072e-05    6.4e-06      4.803      0.000    1.82e-05    4.33e-05\n",
            "No         -6.994e-05   9.59e-06     -7.292      0.000   -8.87e-05   -5.11e-05\n",
            "year           0.0998      0.012      8.275      0.000       0.076       0.123\n",
            "month         -0.4536      0.034    -13.419      0.000      -0.520      -0.387\n",
            "day            0.1143      0.015      7.862      0.000       0.086       0.143\n",
            "hour           0.3777      0.020     19.013      0.000       0.339       0.417\n",
            "DEWP           0.7720      0.014     55.266      0.000       0.745       0.799\n",
            "TEMP          -0.8346      0.020    -41.621      0.000      -0.874      -0.795\n",
            "PRES          -0.1734      0.024     -7.290      0.000      -0.220      -0.127\n",
            "Iws           -0.0364      0.002    -17.462      0.000      -0.040      -0.032\n",
            "Is             1.4573      0.195      7.466      0.000       1.075       1.840\n",
            "Ir            -1.2952      0.071    -18.209      0.000      -1.435      -1.156\n",
            "==============================================================================\n",
            "\n",
            "The condition number is large, 3.67e+10. This might indicate that there are\n",
            "strong multicollinearity or other numerical problems.\n",
            "                         QuantReg Regression Results                          \n",
            "==============================================================================\n",
            "Dep. Variable:                   pm25   Pseudo R-squared:               0.2194\n",
            "Model:                       QuantReg   Bandwidth:                       10.41\n",
            "Method:                 Least Squares   Sparsity:                        1322.\n",
            "Date:                Wed, 27 Feb 2019   No. Observations:                41757\n",
            "Time:                        17:53:11   Df Residuals:                    41745\n",
            "                                        Df Model:                           11\n",
            "==============================================================================\n",
            "                 coef    std err          t      P>|t|      [0.025      0.975]\n",
            "------------------------------------------------------------------------------\n",
            "Intercept      0.0004   6.87e-05      5.306      0.000       0.000       0.000\n",
            "No          7.821e-05      0.000      0.696      0.486      -0.000       0.000\n",
            "year           1.0580      0.124      8.539      0.000       0.815       1.301\n",
            "month         -3.9661      0.446     -8.895      0.000      -4.840      -3.092\n",
            "day            1.0816      0.136      7.936      0.000       0.814       1.349\n",
            "hour           2.3661      0.192     12.354      0.000       1.991       2.741\n",
            "DEWP           7.5176      0.235     32.004      0.000       7.057       7.978\n",
            "TEMP         -11.6991      0.302    -38.691      0.000     -12.292     -11.106\n",
            "PRES          -1.7121      0.244     -7.003      0.000      -2.191      -1.233\n",
            "Iws           -0.4151      0.034    -12.339      0.000      -0.481      -0.349\n",
            "Is            -5.7267      1.580     -3.624      0.000      -8.824      -2.630\n",
            "Ir            -9.3197      1.457     -6.397      0.000     -12.175      -6.464\n",
            "==============================================================================\n",
            "\n",
            "The condition number is large, 3.67e+10. This might indicate that there are\n",
            "strong multicollinearity or other numerical problems.\n",
            "                         QuantReg Regression Results                          \n",
            "==============================================================================\n",
            "Dep. Variable:                   pm25   Pseudo R-squared:              0.06497\n",
            "Model:                       QuantReg   Bandwidth:                       8.092\n",
            "Method:                 Least Squares   Sparsity:                        104.4\n",
            "Date:                Wed, 27 Feb 2019   No. Observations:                41757\n",
            "Time:                        17:53:14   Df Residuals:                    41745\n",
            "                                        Df Model:                           11\n",
            "==============================================================================\n",
            "                 coef    std err          t      P>|t|      [0.025      0.975]\n",
            "------------------------------------------------------------------------------\n",
            "Intercept   5.214e-05   7.84e-06      6.650      0.000    3.68e-05    6.75e-05\n",
            "No         -9.232e-05   1.17e-05     -7.888      0.000      -0.000   -6.94e-05\n",
            "year           0.1521      0.015     10.386      0.000       0.123       0.181\n",
            "month         -0.5581      0.042    -13.138      0.000      -0.641      -0.475\n",
            "day            0.1708      0.017      9.893      0.000       0.137       0.205\n",
            "hour           0.4604      0.024     19.350      0.000       0.414       0.507\n",
            "DEWP           1.2350      0.017     70.845      0.000       1.201       1.269\n",
            "TEMP          -1.3088      0.024    -54.101      0.000      -1.356      -1.261\n",
            "PRES          -0.2652      0.029     -9.183      0.000      -0.322      -0.209\n",
            "Iws           -0.0436      0.003    -16.919      0.000      -0.049      -0.039\n",
            "Is             1.0745      0.231      4.653      0.000       0.622       1.527\n",
            "Ir            -1.9619      0.087    -22.504      0.000      -2.133      -1.791\n",
            "==============================================================================\n",
            "\n",
            "The condition number is large, 3.67e+10. This might indicate that there are\n",
            "strong multicollinearity or other numerical problems.\n"
          ],
          "name": "stdout"
        }
      ]
    },
    {
      "metadata": {
        "id": "Xqh4Jp1XgjrE",
        "colab_type": "text"
      },
      "cell_type": "markdown",
      "source": [
        "\"Strong multicollinearity\", eh? In other words - maybe we shouldn't throw every variable in our formula. Let's hand-craft a smaller one, picking the features with the largest magnitude t-statistics for their coefficients. Let's also search for more quantile cutoffs to see what's most effective."
      ]
    },
    {
      "metadata": {
        "id": "NmoELnXwgpXd",
        "colab_type": "code",
        "outputId": "3d8416b5-e8e0-47da-8961-5ec964a7c601",
        "colab": {
          "base_uri": "https://localhost:8080/",
          "height": 786
        }
      },
      "cell_type": "code",
      "source": [
        "quant_formula = 'pm25 ~ DEWP + TEMP + Ir + hour + Iws'\n",
        "quant_mod = smf.quantreg(quant_formula, data=df)\n",
        "for quantile in range(50, 100):\n",
        "  quantile /= 100\n",
        "  quant_reg = quant_mod.fit(q=quantile)\n",
        "  print((quantile, quant_reg.prsquared))"
      ],
      "execution_count": 11,
      "outputs": [
        {
          "output_type": "stream",
          "text": [
            "(0.5, 0.1447879336023583)\n",
            "(0.51, 0.1453046499109799)\n",
            "(0.52, 0.1457984456251047)\n",
            "(0.53, 0.14627848333343263)\n",
            "(0.54, 0.1467640446791706)\n",
            "(0.55, 0.14733094668790292)\n",
            "(0.56, 0.14787821797693512)\n",
            "(0.57, 0.14840185621049273)\n",
            "(0.58, 0.14892138273908107)\n",
            "(0.59, 0.14946793972061212)\n"
          ],
          "name": "stdout"
        },
        {
          "output_type": "stream",
          "text": [
            "/usr/local/lib/python3.6/dist-packages/statsmodels/regression/quantile_regression.py:193: IterationLimitWarning: Maximum number of iterations (1000) reached.\n",
            "  \") reached.\", IterationLimitWarning)\n"
          ],
          "name": "stderr"
        },
        {
          "output_type": "stream",
          "text": [
            "(0.6, 0.1500450836285967)\n",
            "(0.61, 0.15066665485612274)\n",
            "(0.62, 0.15131550520931825)\n",
            "(0.63, 0.15201598245712966)\n",
            "(0.64, 0.152815632180745)\n",
            "(0.65, 0.15360133883660188)\n",
            "(0.66, 0.15440046026580068)\n",
            "(0.67, 0.15521251759239985)\n",
            "(0.68, 0.15607615678951559)\n",
            "(0.69, 0.15692695615298136)\n",
            "(0.7, 0.1577663389046554)\n",
            "(0.71, 0.15865286212994567)\n",
            "(0.72, 0.15961363441229715)\n",
            "(0.73, 0.16062991121153458)\n"
          ],
          "name": "stdout"
        },
        {
          "output_type": "error",
          "ename": "KeyboardInterrupt",
          "evalue": "ignored",
          "traceback": [
            "\u001b[0;31m---------------------------------------------------------------------------\u001b[0m",
            "\u001b[0;31mKeyboardInterrupt\u001b[0m                         Traceback (most recent call last)",
            "\u001b[0;32m<ipython-input-11-1fd65b968d0e>\u001b[0m in \u001b[0;36m<module>\u001b[0;34m()\u001b[0m\n\u001b[1;32m      3\u001b[0m \u001b[0;32mfor\u001b[0m \u001b[0mquantile\u001b[0m \u001b[0;32min\u001b[0m \u001b[0mrange\u001b[0m\u001b[0;34m(\u001b[0m\u001b[0;36m50\u001b[0m\u001b[0;34m,\u001b[0m \u001b[0;36m100\u001b[0m\u001b[0;34m)\u001b[0m\u001b[0;34m:\u001b[0m\u001b[0;34m\u001b[0m\u001b[0;34m\u001b[0m\u001b[0m\n\u001b[1;32m      4\u001b[0m   \u001b[0mquantile\u001b[0m \u001b[0;34m/=\u001b[0m \u001b[0;36m100\u001b[0m\u001b[0;34m\u001b[0m\u001b[0;34m\u001b[0m\u001b[0m\n\u001b[0;32m----> 5\u001b[0;31m   \u001b[0mquant_reg\u001b[0m \u001b[0;34m=\u001b[0m \u001b[0mquant_mod\u001b[0m\u001b[0;34m.\u001b[0m\u001b[0mfit\u001b[0m\u001b[0;34m(\u001b[0m\u001b[0mq\u001b[0m\u001b[0;34m=\u001b[0m\u001b[0mquantile\u001b[0m\u001b[0;34m)\u001b[0m\u001b[0;34m\u001b[0m\u001b[0;34m\u001b[0m\u001b[0m\n\u001b[0m\u001b[1;32m      6\u001b[0m   \u001b[0mprint\u001b[0m\u001b[0;34m(\u001b[0m\u001b[0;34m(\u001b[0m\u001b[0mquantile\u001b[0m\u001b[0;34m,\u001b[0m \u001b[0mquant_reg\u001b[0m\u001b[0;34m.\u001b[0m\u001b[0mprsquared\u001b[0m\u001b[0;34m)\u001b[0m\u001b[0;34m)\u001b[0m\u001b[0;34m\u001b[0m\u001b[0;34m\u001b[0m\u001b[0m\n",
            "\u001b[0;32m/usr/local/lib/python3.6/dist-packages/statsmodels/regression/quantile_regression.py\u001b[0m in \u001b[0;36mfit\u001b[0;34m(self, q, vcov, kernel, bandwidth, max_iter, p_tol, **kwargs)\u001b[0m\n\u001b[1;32m    170\u001b[0m             \u001b[0mxty\u001b[0m \u001b[0;34m=\u001b[0m \u001b[0mnp\u001b[0m\u001b[0;34m.\u001b[0m\u001b[0mdot\u001b[0m\u001b[0;34m(\u001b[0m\u001b[0mxstar\u001b[0m\u001b[0;34m.\u001b[0m\u001b[0mT\u001b[0m\u001b[0;34m,\u001b[0m \u001b[0mendog\u001b[0m\u001b[0;34m)\u001b[0m\u001b[0;34m\u001b[0m\u001b[0;34m\u001b[0m\u001b[0m\n\u001b[1;32m    171\u001b[0m             \u001b[0mbeta\u001b[0m \u001b[0;34m=\u001b[0m \u001b[0mnp\u001b[0m\u001b[0;34m.\u001b[0m\u001b[0mdot\u001b[0m\u001b[0;34m(\u001b[0m\u001b[0mpinv\u001b[0m\u001b[0;34m(\u001b[0m\u001b[0mxtx\u001b[0m\u001b[0;34m)\u001b[0m\u001b[0;34m,\u001b[0m \u001b[0mxty\u001b[0m\u001b[0;34m)\u001b[0m\u001b[0;34m\u001b[0m\u001b[0;34m\u001b[0m\u001b[0m\n\u001b[0;32m--> 172\u001b[0;31m             \u001b[0mresid\u001b[0m \u001b[0;34m=\u001b[0m \u001b[0mendog\u001b[0m \u001b[0;34m-\u001b[0m \u001b[0mnp\u001b[0m\u001b[0;34m.\u001b[0m\u001b[0mdot\u001b[0m\u001b[0;34m(\u001b[0m\u001b[0mexog\u001b[0m\u001b[0;34m,\u001b[0m \u001b[0mbeta\u001b[0m\u001b[0;34m)\u001b[0m\u001b[0;34m\u001b[0m\u001b[0;34m\u001b[0m\u001b[0m\n\u001b[0m\u001b[1;32m    173\u001b[0m \u001b[0;34m\u001b[0m\u001b[0m\n\u001b[1;32m    174\u001b[0m             \u001b[0mmask\u001b[0m \u001b[0;34m=\u001b[0m \u001b[0mnp\u001b[0m\u001b[0;34m.\u001b[0m\u001b[0mabs\u001b[0m\u001b[0;34m(\u001b[0m\u001b[0mresid\u001b[0m\u001b[0;34m)\u001b[0m \u001b[0;34m<\u001b[0m \u001b[0;36m.000001\u001b[0m\u001b[0;34m\u001b[0m\u001b[0;34m\u001b[0m\u001b[0m\n",
            "\u001b[0;31mKeyboardInterrupt\u001b[0m: "
          ]
        }
      ]
    },
    {
      "metadata": {
        "id": "Bz0GmE5kuwQY",
        "colab_type": "code",
        "outputId": "d139eca6-fa58-4f4c-a051-18b3e2d7ee13",
        "colab": {
          "base_uri": "https://localhost:8080/",
          "height": 444
        }
      },
      "cell_type": "code",
      "source": [
        "# Okay, this data seems *extremely* skewed\n",
        "# Let's trying logging\n",
        "import numpy as np\n",
        "\n",
        "df['pm25'] = np.log(1 + df['pm25'])\n",
        "quant_mod = smf.quantreg(quant_formula, data=df)\n",
        "quant_reg = quant_mod.fit(q=.25)\n",
        "quant_reg.summary()  # \"summary\" is another very R-thing"
      ],
      "execution_count": 0,
      "outputs": [
        {
          "output_type": "execute_result",
          "data": {
            "text/html": [
              "<table class=\"simpletable\">\n",
              "<caption>QuantReg Regression Results</caption>\n",
              "<tr>\n",
              "  <th>Dep. Variable:</th>       <td>pm25</td>       <th>  Pseudo R-squared:  </th> <td>  0.2614</td>\n",
              "</tr>\n",
              "<tr>\n",
              "  <th>Model:</th>             <td>QuantReg</td>     <th>  Bandwidth:         </th> <td> 0.01908</td>\n",
              "</tr>\n",
              "<tr>\n",
              "  <th>Method:</th>          <td>Least Squares</td>  <th>  Sparsity:          </th> <td>  0.6060</td>\n",
              "</tr>\n",
              "<tr>\n",
              "  <th>Date:</th>          <td>Mon, 21 Jan 2019</td> <th>  No. Observations:  </th>  <td> 41757</td> \n",
              "</tr>\n",
              "<tr>\n",
              "  <th>Time:</th>              <td>00:41:40</td>     <th>  Df Residuals:      </th>  <td> 41745</td> \n",
              "</tr>\n",
              "<tr>\n",
              "  <th> </th>                      <td> </td>        <th>  Df Model:          </th>  <td>    11</td> \n",
              "</tr>\n",
              "</table>\n",
              "<table class=\"simpletable\">\n",
              "<tr>\n",
              "      <td></td>         <th>coef</th>     <th>std err</th>      <th>t</th>      <th>P>|t|</th>  <th>[0.025</th>    <th>0.975]</th>  \n",
              "</tr>\n",
              "<tr>\n",
              "  <th>Intercept</th> <td> 1.016e-06</td> <td> 6.52e-08</td> <td>   15.579</td> <td> 0.000</td> <td> 8.88e-07</td> <td> 1.14e-06</td>\n",
              "</tr>\n",
              "<tr>\n",
              "  <th>No</th>        <td>-7.472e-07</td> <td> 1.01e-07</td> <td>   -7.406</td> <td> 0.000</td> <td>-9.45e-07</td> <td>-5.49e-07</td>\n",
              "</tr>\n",
              "<tr>\n",
              "  <th>year</th>      <td>    0.0027</td> <td>    0.000</td> <td>   21.867</td> <td> 0.000</td> <td>    0.002</td> <td>    0.003</td>\n",
              "</tr>\n",
              "<tr>\n",
              "  <th>month</th>     <td>   -0.0075</td> <td>    0.000</td> <td>  -19.825</td> <td> 0.000</td> <td>   -0.008</td> <td>   -0.007</td>\n",
              "</tr>\n",
              "<tr>\n",
              "  <th>day</th>       <td>    0.0014</td> <td>    0.000</td> <td>    9.770</td> <td> 0.000</td> <td>    0.001</td> <td>    0.002</td>\n",
              "</tr>\n",
              "<tr>\n",
              "  <th>hour</th>      <td>    0.0049</td> <td>    0.000</td> <td>   23.971</td> <td> 0.000</td> <td>    0.004</td> <td>    0.005</td>\n",
              "</tr>\n",
              "<tr>\n",
              "  <th>DEWP</th>      <td>    0.0155</td> <td>    0.000</td> <td>   89.454</td> <td> 0.000</td> <td>    0.015</td> <td>    0.016</td>\n",
              "</tr>\n",
              "<tr>\n",
              "  <th>TEMP</th>      <td>   -0.0172</td> <td>    0.000</td> <td>  -77.079</td> <td> 0.000</td> <td>   -0.018</td> <td>   -0.017</td>\n",
              "</tr>\n",
              "<tr>\n",
              "  <th>PRES</th>      <td>   -0.0036</td> <td>    0.000</td> <td>  -14.870</td> <td> 0.000</td> <td>   -0.004</td> <td>   -0.003</td>\n",
              "</tr>\n",
              "<tr>\n",
              "  <th>Iws</th>       <td>   -0.0010</td> <td> 2.42e-05</td> <td>  -39.707</td> <td> 0.000</td> <td>   -0.001</td> <td>   -0.001</td>\n",
              "</tr>\n",
              "<tr>\n",
              "  <th>Is</th>        <td>   -0.0025</td> <td>    0.002</td> <td>   -1.517</td> <td> 0.129</td> <td>   -0.006</td> <td>    0.001</td>\n",
              "</tr>\n",
              "<tr>\n",
              "  <th>Ir</th>        <td>   -0.0235</td> <td>    0.001</td> <td>  -29.010</td> <td> 0.000</td> <td>   -0.025</td> <td>   -0.022</td>\n",
              "</tr>\n",
              "</table>"
            ],
            "text/plain": [
              "<class 'statsmodels.iolib.summary.Summary'>\n",
              "\"\"\"\n",
              "                         QuantReg Regression Results                          \n",
              "==============================================================================\n",
              "Dep. Variable:                   pm25   Pseudo R-squared:               0.2614\n",
              "Model:                       QuantReg   Bandwidth:                     0.01908\n",
              "Method:                 Least Squares   Sparsity:                       0.6060\n",
              "Date:                Mon, 21 Jan 2019   No. Observations:                41757\n",
              "Time:                        00:41:40   Df Residuals:                    41745\n",
              "                                        Df Model:                           11\n",
              "==============================================================================\n",
              "                 coef    std err          t      P>|t|      [0.025      0.975]\n",
              "------------------------------------------------------------------------------\n",
              "Intercept   1.016e-06   6.52e-08     15.579      0.000    8.88e-07    1.14e-06\n",
              "No         -7.472e-07   1.01e-07     -7.406      0.000   -9.45e-07   -5.49e-07\n",
              "year           0.0027      0.000     21.867      0.000       0.002       0.003\n",
              "month         -0.0075      0.000    -19.825      0.000      -0.008      -0.007\n",
              "day            0.0014      0.000      9.770      0.000       0.001       0.002\n",
              "hour           0.0049      0.000     23.971      0.000       0.004       0.005\n",
              "DEWP           0.0155      0.000     89.454      0.000       0.015       0.016\n",
              "TEMP          -0.0172      0.000    -77.079      0.000      -0.018      -0.017\n",
              "PRES          -0.0036      0.000    -14.870      0.000      -0.004      -0.003\n",
              "Iws           -0.0010   2.42e-05    -39.707      0.000      -0.001      -0.001\n",
              "Is            -0.0025      0.002     -1.517      0.129      -0.006       0.001\n",
              "Ir            -0.0235      0.001    -29.010      0.000      -0.025      -0.022\n",
              "==============================================================================\n",
              "\n",
              "The condition number is large, 3.67e+10. This might indicate that there are\n",
              "strong multicollinearity or other numerical problems.\n",
              "\"\"\""
            ]
          },
          "metadata": {
            "tags": []
          },
          "execution_count": 42
        }
      ]
    },
    {
      "metadata": {
        "id": "8kXcxnNBgizX",
        "colab_type": "text"
      },
      "cell_type": "markdown",
      "source": [
        "Overall - in this case, quantile regression is not *necessarily* superior to linear regression. But it does give us extra flexibility and another thing to tune - what the center of what we're actually fitting in the dependent variable.\n",
        "\n",
        "The basic case of `q=0.5` (the median) minimizes the absolute value of residuals, while OLS minimizes the squared value. By selecting `q=0.25`, we're targeting a lower quantile and are effectively saying that we only want to over-estimate at most 25% of the time - we're being *risk averse*.\n",
        "\n",
        "Depending on the data you're looking at, and the cost of making a false positive versus a false negative, this sort of flexibility can be extremely useful.\n",
        "\n",
        "Live - let's consider another dataset! Specifically, \"SkillCraft\" (data on competitive StarCraft players): http://archive.ics.uci.edu/ml/datasets/SkillCraft1+Master+Table+Dataset"
      ]
    },
    {
      "metadata": {
        "id": "ofvwSAZUhWDw",
        "colab_type": "code",
        "colab": {
          "base_uri": "https://localhost:8080/",
          "height": 215
        },
        "outputId": "b1305833-82da-4141-faaa-4dce84422df7"
      },
      "cell_type": "code",
      "source": [
        "# TODO Live!\n",
        "# Hint - we may only care about the *top* quantiles here\n",
        "# Another hint - there are missing values, but Pandas won't see them right away\n",
        "\n",
        "#predict actions per minute for StarCraft players\n",
        "#first check swew to understand the most useful quantiles\n",
        "import pandas as pd\n",
        "df = pd.read_csv('http://archive.ics.uci.edu/ml/machine-learning-databases/00272/SkillCraft1_Dataset.csv')\n",
        "df.head()"
      ],
      "execution_count": 12,
      "outputs": [
        {
          "output_type": "execute_result",
          "data": {
            "text/html": [
              "<div>\n",
              "<style scoped>\n",
              "    .dataframe tbody tr th:only-of-type {\n",
              "        vertical-align: middle;\n",
              "    }\n",
              "\n",
              "    .dataframe tbody tr th {\n",
              "        vertical-align: top;\n",
              "    }\n",
              "\n",
              "    .dataframe thead th {\n",
              "        text-align: right;\n",
              "    }\n",
              "</style>\n",
              "<table border=\"1\" class=\"dataframe\">\n",
              "  <thead>\n",
              "    <tr style=\"text-align: right;\">\n",
              "      <th></th>\n",
              "      <th>GameID</th>\n",
              "      <th>LeagueIndex</th>\n",
              "      <th>Age</th>\n",
              "      <th>HoursPerWeek</th>\n",
              "      <th>TotalHours</th>\n",
              "      <th>APM</th>\n",
              "      <th>SelectByHotkeys</th>\n",
              "      <th>AssignToHotkeys</th>\n",
              "      <th>UniqueHotkeys</th>\n",
              "      <th>MinimapAttacks</th>\n",
              "      <th>MinimapRightClicks</th>\n",
              "      <th>NumberOfPACs</th>\n",
              "      <th>GapBetweenPACs</th>\n",
              "      <th>ActionLatency</th>\n",
              "      <th>ActionsInPAC</th>\n",
              "      <th>TotalMapExplored</th>\n",
              "      <th>WorkersMade</th>\n",
              "      <th>UniqueUnitsMade</th>\n",
              "      <th>ComplexUnitsMade</th>\n",
              "      <th>ComplexAbilitiesUsed</th>\n",
              "    </tr>\n",
              "  </thead>\n",
              "  <tbody>\n",
              "    <tr>\n",
              "      <th>0</th>\n",
              "      <td>52</td>\n",
              "      <td>5</td>\n",
              "      <td>27</td>\n",
              "      <td>10</td>\n",
              "      <td>3000</td>\n",
              "      <td>143.7180</td>\n",
              "      <td>0.003515</td>\n",
              "      <td>0.000220</td>\n",
              "      <td>7</td>\n",
              "      <td>0.000110</td>\n",
              "      <td>0.000392</td>\n",
              "      <td>0.004849</td>\n",
              "      <td>32.6677</td>\n",
              "      <td>40.8673</td>\n",
              "      <td>4.7508</td>\n",
              "      <td>28</td>\n",
              "      <td>0.001397</td>\n",
              "      <td>6</td>\n",
              "      <td>0.0</td>\n",
              "      <td>0.000000</td>\n",
              "    </tr>\n",
              "    <tr>\n",
              "      <th>1</th>\n",
              "      <td>55</td>\n",
              "      <td>5</td>\n",
              "      <td>23</td>\n",
              "      <td>10</td>\n",
              "      <td>5000</td>\n",
              "      <td>129.2322</td>\n",
              "      <td>0.003304</td>\n",
              "      <td>0.000259</td>\n",
              "      <td>4</td>\n",
              "      <td>0.000294</td>\n",
              "      <td>0.000432</td>\n",
              "      <td>0.004307</td>\n",
              "      <td>32.9194</td>\n",
              "      <td>42.3454</td>\n",
              "      <td>4.8434</td>\n",
              "      <td>22</td>\n",
              "      <td>0.001194</td>\n",
              "      <td>5</td>\n",
              "      <td>0.0</td>\n",
              "      <td>0.000208</td>\n",
              "    </tr>\n",
              "    <tr>\n",
              "      <th>2</th>\n",
              "      <td>56</td>\n",
              "      <td>4</td>\n",
              "      <td>30</td>\n",
              "      <td>10</td>\n",
              "      <td>200</td>\n",
              "      <td>69.9612</td>\n",
              "      <td>0.001101</td>\n",
              "      <td>0.000336</td>\n",
              "      <td>4</td>\n",
              "      <td>0.000294</td>\n",
              "      <td>0.000461</td>\n",
              "      <td>0.002926</td>\n",
              "      <td>44.6475</td>\n",
              "      <td>75.3548</td>\n",
              "      <td>4.0430</td>\n",
              "      <td>22</td>\n",
              "      <td>0.000745</td>\n",
              "      <td>6</td>\n",
              "      <td>0.0</td>\n",
              "      <td>0.000189</td>\n",
              "    </tr>\n",
              "    <tr>\n",
              "      <th>3</th>\n",
              "      <td>57</td>\n",
              "      <td>3</td>\n",
              "      <td>19</td>\n",
              "      <td>20</td>\n",
              "      <td>400</td>\n",
              "      <td>107.6016</td>\n",
              "      <td>0.001034</td>\n",
              "      <td>0.000213</td>\n",
              "      <td>1</td>\n",
              "      <td>0.000053</td>\n",
              "      <td>0.000543</td>\n",
              "      <td>0.003783</td>\n",
              "      <td>29.2203</td>\n",
              "      <td>53.7352</td>\n",
              "      <td>4.9155</td>\n",
              "      <td>19</td>\n",
              "      <td>0.000426</td>\n",
              "      <td>7</td>\n",
              "      <td>0.0</td>\n",
              "      <td>0.000384</td>\n",
              "    </tr>\n",
              "    <tr>\n",
              "      <th>4</th>\n",
              "      <td>58</td>\n",
              "      <td>3</td>\n",
              "      <td>32</td>\n",
              "      <td>10</td>\n",
              "      <td>500</td>\n",
              "      <td>122.8908</td>\n",
              "      <td>0.001136</td>\n",
              "      <td>0.000327</td>\n",
              "      <td>2</td>\n",
              "      <td>0.000000</td>\n",
              "      <td>0.001329</td>\n",
              "      <td>0.002368</td>\n",
              "      <td>22.6885</td>\n",
              "      <td>62.0813</td>\n",
              "      <td>9.3740</td>\n",
              "      <td>15</td>\n",
              "      <td>0.001174</td>\n",
              "      <td>4</td>\n",
              "      <td>0.0</td>\n",
              "      <td>0.000019</td>\n",
              "    </tr>\n",
              "  </tbody>\n",
              "</table>\n",
              "</div>"
            ],
            "text/plain": [
              "   GameID  LeagueIndex Age HoursPerWeek TotalHours       APM  SelectByHotkeys  \\\n",
              "0      52            5  27           10       3000  143.7180         0.003515   \n",
              "1      55            5  23           10       5000  129.2322         0.003304   \n",
              "2      56            4  30           10        200   69.9612         0.001101   \n",
              "3      57            3  19           20        400  107.6016         0.001034   \n",
              "4      58            3  32           10        500  122.8908         0.001136   \n",
              "\n",
              "   AssignToHotkeys  UniqueHotkeys  MinimapAttacks  MinimapRightClicks  \\\n",
              "0         0.000220              7        0.000110            0.000392   \n",
              "1         0.000259              4        0.000294            0.000432   \n",
              "2         0.000336              4        0.000294            0.000461   \n",
              "3         0.000213              1        0.000053            0.000543   \n",
              "4         0.000327              2        0.000000            0.001329   \n",
              "\n",
              "   NumberOfPACs  GapBetweenPACs  ActionLatency  ActionsInPAC  \\\n",
              "0      0.004849         32.6677        40.8673        4.7508   \n",
              "1      0.004307         32.9194        42.3454        4.8434   \n",
              "2      0.002926         44.6475        75.3548        4.0430   \n",
              "3      0.003783         29.2203        53.7352        4.9155   \n",
              "4      0.002368         22.6885        62.0813        9.3740   \n",
              "\n",
              "   TotalMapExplored  WorkersMade  UniqueUnitsMade  ComplexUnitsMade  \\\n",
              "0                28     0.001397                6               0.0   \n",
              "1                22     0.001194                5               0.0   \n",
              "2                22     0.000745                6               0.0   \n",
              "3                19     0.000426                7               0.0   \n",
              "4                15     0.001174                4               0.0   \n",
              "\n",
              "   ComplexAbilitiesUsed  \n",
              "0              0.000000  \n",
              "1              0.000208  \n",
              "2              0.000189  \n",
              "3              0.000384  \n",
              "4              0.000019  "
            ]
          },
          "metadata": {
            "tags": []
          },
          "execution_count": 12
        }
      ]
    },
    {
      "metadata": {
        "id": "oR4w74UGM10Y",
        "colab_type": "code",
        "colab": {
          "base_uri": "https://localhost:8080/",
          "height": 437
        },
        "outputId": "8e52f477-4082-4ad2-db6e-00c4e2868670"
      },
      "cell_type": "code",
      "source": [
        "df.info()"
      ],
      "execution_count": 13,
      "outputs": [
        {
          "output_type": "stream",
          "text": [
            "<class 'pandas.core.frame.DataFrame'>\n",
            "RangeIndex: 3395 entries, 0 to 3394\n",
            "Data columns (total 20 columns):\n",
            "GameID                  3395 non-null int64\n",
            "LeagueIndex             3395 non-null int64\n",
            "Age                     3395 non-null object\n",
            "HoursPerWeek            3395 non-null object\n",
            "TotalHours              3395 non-null object\n",
            "APM                     3395 non-null float64\n",
            "SelectByHotkeys         3395 non-null float64\n",
            "AssignToHotkeys         3395 non-null float64\n",
            "UniqueHotkeys           3395 non-null int64\n",
            "MinimapAttacks          3395 non-null float64\n",
            "MinimapRightClicks      3395 non-null float64\n",
            "NumberOfPACs            3395 non-null float64\n",
            "GapBetweenPACs          3395 non-null float64\n",
            "ActionLatency           3395 non-null float64\n",
            "ActionsInPAC            3395 non-null float64\n",
            "TotalMapExplored        3395 non-null int64\n",
            "WorkersMade             3395 non-null float64\n",
            "UniqueUnitsMade         3395 non-null int64\n",
            "ComplexUnitsMade        3395 non-null float64\n",
            "ComplexAbilitiesUsed    3395 non-null float64\n",
            "dtypes: float64(12), int64(5), object(3)\n",
            "memory usage: 530.5+ KB\n"
          ],
          "name": "stdout"
        }
      ]
    },
    {
      "metadata": {
        "id": "7A9-KiWeNSM0",
        "colab_type": "code",
        "colab": {
          "base_uri": "https://localhost:8080/",
          "height": 370
        },
        "outputId": "f5dc2fd7-83c6-4cff-9459-8f56ab809968"
      },
      "cell_type": "code",
      "source": [
        "df.isnull().sum() #miscoded as str"
      ],
      "execution_count": 14,
      "outputs": [
        {
          "output_type": "execute_result",
          "data": {
            "text/plain": [
              "GameID                  0\n",
              "LeagueIndex             0\n",
              "Age                     0\n",
              "HoursPerWeek            0\n",
              "TotalHours              0\n",
              "APM                     0\n",
              "SelectByHotkeys         0\n",
              "AssignToHotkeys         0\n",
              "UniqueHotkeys           0\n",
              "MinimapAttacks          0\n",
              "MinimapRightClicks      0\n",
              "NumberOfPACs            0\n",
              "GapBetweenPACs          0\n",
              "ActionLatency           0\n",
              "ActionsInPAC            0\n",
              "TotalMapExplored        0\n",
              "WorkersMade             0\n",
              "UniqueUnitsMade         0\n",
              "ComplexUnitsMade        0\n",
              "ComplexAbilitiesUsed    0\n",
              "dtype: int64"
            ]
          },
          "metadata": {
            "tags": []
          },
          "execution_count": 14
        }
      ]
    },
    {
      "metadata": {
        "id": "98xhUvLxNZbL",
        "colab_type": "code",
        "colab": {}
      },
      "cell_type": "code",
      "source": [
        "hasNaN = ['Age', 'HoursPerWeek', 'TotalHours']\n",
        "for feature in hasNaN:\n",
        "  df[feature] = pd.to_numeric(df[feature], errors='coerce')"
      ],
      "execution_count": 0,
      "outputs": []
    },
    {
      "metadata": {
        "id": "5qGMkaeeN8tC",
        "colab_type": "code",
        "colab": {}
      },
      "cell_type": "code",
      "source": [
        "df = df.dropna()"
      ],
      "execution_count": 0,
      "outputs": []
    },
    {
      "metadata": {
        "id": "lZPTRKk8NyQK",
        "colab_type": "code",
        "colab": {
          "base_uri": "https://localhost:8080/",
          "height": 304
        },
        "outputId": "a1be20cd-2db9-4918-bc09-e4bbe2d3895e"
      },
      "cell_type": "code",
      "source": [
        "df.describe()"
      ],
      "execution_count": 21,
      "outputs": [
        {
          "output_type": "execute_result",
          "data": {
            "text/html": [
              "<div>\n",
              "<style scoped>\n",
              "    .dataframe tbody tr th:only-of-type {\n",
              "        vertical-align: middle;\n",
              "    }\n",
              "\n",
              "    .dataframe tbody tr th {\n",
              "        vertical-align: top;\n",
              "    }\n",
              "\n",
              "    .dataframe thead th {\n",
              "        text-align: right;\n",
              "    }\n",
              "</style>\n",
              "<table border=\"1\" class=\"dataframe\">\n",
              "  <thead>\n",
              "    <tr style=\"text-align: right;\">\n",
              "      <th></th>\n",
              "      <th>GameID</th>\n",
              "      <th>LeagueIndex</th>\n",
              "      <th>Age</th>\n",
              "      <th>HoursPerWeek</th>\n",
              "      <th>TotalHours</th>\n",
              "      <th>APM</th>\n",
              "      <th>SelectByHotkeys</th>\n",
              "      <th>AssignToHotkeys</th>\n",
              "      <th>UniqueHotkeys</th>\n",
              "      <th>MinimapAttacks</th>\n",
              "      <th>MinimapRightClicks</th>\n",
              "      <th>NumberOfPACs</th>\n",
              "      <th>GapBetweenPACs</th>\n",
              "      <th>ActionLatency</th>\n",
              "      <th>ActionsInPAC</th>\n",
              "      <th>TotalMapExplored</th>\n",
              "      <th>WorkersMade</th>\n",
              "      <th>UniqueUnitsMade</th>\n",
              "      <th>ComplexUnitsMade</th>\n",
              "      <th>ComplexAbilitiesUsed</th>\n",
              "    </tr>\n",
              "  </thead>\n",
              "  <tbody>\n",
              "    <tr>\n",
              "      <th>count</th>\n",
              "      <td>3338.000000</td>\n",
              "      <td>3338.000000</td>\n",
              "      <td>3338.000000</td>\n",
              "      <td>3338.000000</td>\n",
              "      <td>3338.000000</td>\n",
              "      <td>3338.000000</td>\n",
              "      <td>3338.000000</td>\n",
              "      <td>3338.000000</td>\n",
              "      <td>3338.000000</td>\n",
              "      <td>3338.000000</td>\n",
              "      <td>3338.000000</td>\n",
              "      <td>3338.000000</td>\n",
              "      <td>3338.000000</td>\n",
              "      <td>3338.000000</td>\n",
              "      <td>3338.000000</td>\n",
              "      <td>3338.000000</td>\n",
              "      <td>3338.000000</td>\n",
              "      <td>3338.000000</td>\n",
              "      <td>3338.000000</td>\n",
              "      <td>3338.000000</td>\n",
              "    </tr>\n",
              "    <tr>\n",
              "      <th>mean</th>\n",
              "      <td>4719.552127</td>\n",
              "      <td>4.120731</td>\n",
              "      <td>21.650389</td>\n",
              "      <td>15.909527</td>\n",
              "      <td>960.421809</td>\n",
              "      <td>114.575763</td>\n",
              "      <td>0.004023</td>\n",
              "      <td>0.000364</td>\n",
              "      <td>4.316357</td>\n",
              "      <td>0.000094</td>\n",
              "      <td>0.000380</td>\n",
              "      <td>0.003433</td>\n",
              "      <td>40.713819</td>\n",
              "      <td>64.209584</td>\n",
              "      <td>5.266955</td>\n",
              "      <td>22.116836</td>\n",
              "      <td>0.001031</td>\n",
              "      <td>6.541043</td>\n",
              "      <td>0.000060</td>\n",
              "      <td>0.000142</td>\n",
              "    </tr>\n",
              "    <tr>\n",
              "      <th>std</th>\n",
              "      <td>2656.919630</td>\n",
              "      <td>1.448170</td>\n",
              "      <td>4.206357</td>\n",
              "      <td>11.964495</td>\n",
              "      <td>17318.133922</td>\n",
              "      <td>48.111912</td>\n",
              "      <td>0.004726</td>\n",
              "      <td>0.000210</td>\n",
              "      <td>2.333322</td>\n",
              "      <td>0.000159</td>\n",
              "      <td>0.000359</td>\n",
              "      <td>0.000966</td>\n",
              "      <td>17.057191</td>\n",
              "      <td>19.037394</td>\n",
              "      <td>1.500605</td>\n",
              "      <td>7.440875</td>\n",
              "      <td>0.000520</td>\n",
              "      <td>1.859049</td>\n",
              "      <td>0.000112</td>\n",
              "      <td>0.000266</td>\n",
              "    </tr>\n",
              "    <tr>\n",
              "      <th>min</th>\n",
              "      <td>52.000000</td>\n",
              "      <td>1.000000</td>\n",
              "      <td>16.000000</td>\n",
              "      <td>0.000000</td>\n",
              "      <td>3.000000</td>\n",
              "      <td>22.059600</td>\n",
              "      <td>0.000000</td>\n",
              "      <td>0.000000</td>\n",
              "      <td>0.000000</td>\n",
              "      <td>0.000000</td>\n",
              "      <td>0.000000</td>\n",
              "      <td>0.000679</td>\n",
              "      <td>6.666700</td>\n",
              "      <td>24.632600</td>\n",
              "      <td>2.038900</td>\n",
              "      <td>5.000000</td>\n",
              "      <td>0.000077</td>\n",
              "      <td>2.000000</td>\n",
              "      <td>0.000000</td>\n",
              "      <td>0.000000</td>\n",
              "    </tr>\n",
              "    <tr>\n",
              "      <th>25%</th>\n",
              "      <td>2423.250000</td>\n",
              "      <td>3.000000</td>\n",
              "      <td>19.000000</td>\n",
              "      <td>8.000000</td>\n",
              "      <td>300.000000</td>\n",
              "      <td>79.231500</td>\n",
              "      <td>0.001245</td>\n",
              "      <td>0.000202</td>\n",
              "      <td>3.000000</td>\n",
              "      <td>0.000000</td>\n",
              "      <td>0.000139</td>\n",
              "      <td>0.002743</td>\n",
              "      <td>29.326600</td>\n",
              "      <td>50.886425</td>\n",
              "      <td>4.261525</td>\n",
              "      <td>17.000000</td>\n",
              "      <td>0.000682</td>\n",
              "      <td>5.000000</td>\n",
              "      <td>0.000000</td>\n",
              "      <td>0.000000</td>\n",
              "    </tr>\n",
              "    <tr>\n",
              "      <th>50%</th>\n",
              "      <td>4788.000000</td>\n",
              "      <td>4.000000</td>\n",
              "      <td>21.000000</td>\n",
              "      <td>12.000000</td>\n",
              "      <td>500.000000</td>\n",
              "      <td>107.070300</td>\n",
              "      <td>0.002445</td>\n",
              "      <td>0.000349</td>\n",
              "      <td>4.000000</td>\n",
              "      <td>0.000039</td>\n",
              "      <td>0.000278</td>\n",
              "      <td>0.003376</td>\n",
              "      <td>37.058900</td>\n",
              "      <td>61.296100</td>\n",
              "      <td>5.087050</td>\n",
              "      <td>22.000000</td>\n",
              "      <td>0.000904</td>\n",
              "      <td>6.000000</td>\n",
              "      <td>0.000000</td>\n",
              "      <td>0.000020</td>\n",
              "    </tr>\n",
              "    <tr>\n",
              "      <th>75%</th>\n",
              "      <td>6994.750000</td>\n",
              "      <td>5.000000</td>\n",
              "      <td>24.000000</td>\n",
              "      <td>20.000000</td>\n",
              "      <td>800.000000</td>\n",
              "      <td>140.156100</td>\n",
              "      <td>0.004945</td>\n",
              "      <td>0.000493</td>\n",
              "      <td>6.000000</td>\n",
              "      <td>0.000113</td>\n",
              "      <td>0.000508</td>\n",
              "      <td>0.004003</td>\n",
              "      <td>48.510425</td>\n",
              "      <td>74.032525</td>\n",
              "      <td>6.027350</td>\n",
              "      <td>27.000000</td>\n",
              "      <td>0.001258</td>\n",
              "      <td>8.000000</td>\n",
              "      <td>0.000087</td>\n",
              "      <td>0.000182</td>\n",
              "    </tr>\n",
              "    <tr>\n",
              "      <th>max</th>\n",
              "      <td>9271.000000</td>\n",
              "      <td>7.000000</td>\n",
              "      <td>44.000000</td>\n",
              "      <td>168.000000</td>\n",
              "      <td>1000000.000000</td>\n",
              "      <td>389.831400</td>\n",
              "      <td>0.043088</td>\n",
              "      <td>0.001648</td>\n",
              "      <td>10.000000</td>\n",
              "      <td>0.003019</td>\n",
              "      <td>0.003688</td>\n",
              "      <td>0.007971</td>\n",
              "      <td>237.142900</td>\n",
              "      <td>176.372100</td>\n",
              "      <td>18.558100</td>\n",
              "      <td>58.000000</td>\n",
              "      <td>0.005149</td>\n",
              "      <td>13.000000</td>\n",
              "      <td>0.000902</td>\n",
              "      <td>0.003084</td>\n",
              "    </tr>\n",
              "  </tbody>\n",
              "</table>\n",
              "</div>"
            ],
            "text/plain": [
              "            GameID  LeagueIndex          Age  HoursPerWeek      TotalHours  \\\n",
              "count  3338.000000  3338.000000  3338.000000   3338.000000     3338.000000   \n",
              "mean   4719.552127     4.120731    21.650389     15.909527      960.421809   \n",
              "std    2656.919630     1.448170     4.206357     11.964495    17318.133922   \n",
              "min      52.000000     1.000000    16.000000      0.000000        3.000000   \n",
              "25%    2423.250000     3.000000    19.000000      8.000000      300.000000   \n",
              "50%    4788.000000     4.000000    21.000000     12.000000      500.000000   \n",
              "75%    6994.750000     5.000000    24.000000     20.000000      800.000000   \n",
              "max    9271.000000     7.000000    44.000000    168.000000  1000000.000000   \n",
              "\n",
              "               APM  SelectByHotkeys  AssignToHotkeys  UniqueHotkeys  \\\n",
              "count  3338.000000      3338.000000      3338.000000    3338.000000   \n",
              "mean    114.575763         0.004023         0.000364       4.316357   \n",
              "std      48.111912         0.004726         0.000210       2.333322   \n",
              "min      22.059600         0.000000         0.000000       0.000000   \n",
              "25%      79.231500         0.001245         0.000202       3.000000   \n",
              "50%     107.070300         0.002445         0.000349       4.000000   \n",
              "75%     140.156100         0.004945         0.000493       6.000000   \n",
              "max     389.831400         0.043088         0.001648      10.000000   \n",
              "\n",
              "       MinimapAttacks  MinimapRightClicks  NumberOfPACs  GapBetweenPACs  \\\n",
              "count     3338.000000         3338.000000   3338.000000     3338.000000   \n",
              "mean         0.000094            0.000380      0.003433       40.713819   \n",
              "std          0.000159            0.000359      0.000966       17.057191   \n",
              "min          0.000000            0.000000      0.000679        6.666700   \n",
              "25%          0.000000            0.000139      0.002743       29.326600   \n",
              "50%          0.000039            0.000278      0.003376       37.058900   \n",
              "75%          0.000113            0.000508      0.004003       48.510425   \n",
              "max          0.003019            0.003688      0.007971      237.142900   \n",
              "\n",
              "       ActionLatency  ActionsInPAC  TotalMapExplored  WorkersMade  \\\n",
              "count    3338.000000   3338.000000       3338.000000  3338.000000   \n",
              "mean       64.209584      5.266955         22.116836     0.001031   \n",
              "std        19.037394      1.500605          7.440875     0.000520   \n",
              "min        24.632600      2.038900          5.000000     0.000077   \n",
              "25%        50.886425      4.261525         17.000000     0.000682   \n",
              "50%        61.296100      5.087050         22.000000     0.000904   \n",
              "75%        74.032525      6.027350         27.000000     0.001258   \n",
              "max       176.372100     18.558100         58.000000     0.005149   \n",
              "\n",
              "       UniqueUnitsMade  ComplexUnitsMade  ComplexAbilitiesUsed  \n",
              "count      3338.000000       3338.000000           3338.000000  \n",
              "mean          6.541043          0.000060              0.000142  \n",
              "std           1.859049          0.000112              0.000266  \n",
              "min           2.000000          0.000000              0.000000  \n",
              "25%           5.000000          0.000000              0.000000  \n",
              "50%           6.000000          0.000000              0.000020  \n",
              "75%           8.000000          0.000087              0.000182  \n",
              "max          13.000000          0.000902              0.003084  "
            ]
          },
          "metadata": {
            "tags": []
          },
          "execution_count": 21
        }
      ]
    },
    {
      "metadata": {
        "id": "WMPazpZUOqio",
        "colab_type": "code",
        "colab": {
          "base_uri": "https://localhost:8080/",
          "height": 34
        },
        "outputId": "c1642aaf-964f-4ea5-c82d-6f673fbc0244"
      },
      "cell_type": "code",
      "source": [
        "from sklearn.linear_model import LinearRegression\n",
        "model = LinearRegression()\n",
        "\n",
        "y = df['APM']\n",
        "X = df.drop('APM', axis='columns')\n",
        "\n",
        "model.fit(X,y)\n",
        "\n",
        "model.score(X,y) #oh its actually good"
      ],
      "execution_count": 22,
      "outputs": [
        {
          "output_type": "execute_result",
          "data": {
            "text/plain": [
              "0.9727919594327304"
            ]
          },
          "metadata": {
            "tags": []
          },
          "execution_count": 22
        }
      ]
    },
    {
      "metadata": {
        "id": "aWpQ9lobQ1qo",
        "colab_type": "code",
        "colab": {
          "base_uri": "https://localhost:8080/",
          "height": 347
        },
        "outputId": "1c85eefa-9728-41bb-871b-1dca03d9670f"
      },
      "cell_type": "code",
      "source": [
        "#are there outliers?\n",
        "import matplotlib.pyplot as plt\n",
        "\n",
        "plt.scatter(df['APM'], df['TotalHours'])\n",
        "plt.show() #a million hours?"
      ],
      "execution_count": 23,
      "outputs": [
        {
          "output_type": "display_data",
          "data": {
            "image/png": "[encoded data removed]",
            "text/plain": [
              "<Figure size 576x396 with 1 Axes>"
            ]
          },
          "metadata": {
            "tags": []
          }
        }
      ]
    },
    {
      "metadata": {
        "id": "YjUxZEEvQ-bM",
        "colab_type": "code",
        "colab": {}
      },
      "cell_type": "code",
      "source": [
        "df = df[(df['TotalHours'] < 5000)]"
      ],
      "execution_count": 0,
      "outputs": []
    },
    {
      "metadata": {
        "id": "bCfFqLwyRI4r",
        "colab_type": "code",
        "colab": {
          "base_uri": "https://localhost:8080/",
          "height": 347
        },
        "outputId": "83bd1358-dfdd-4a65-d2a9-3462da8f80a8"
      },
      "cell_type": "code",
      "source": [
        "plt.scatter(df['APM'], df['TotalHours'])\n",
        "plt.show()"
      ],
      "execution_count": 27,
      "outputs": [
        {
          "output_type": "display_data",
          "data": {
            "image/png": "[encoded data removed]",
            "text/plain": [
              "<Figure size 576x396 with 1 Axes>"
            ]
          },
          "metadata": {
            "tags": []
          }
        }
      ]
    },
    {
      "metadata": {
        "id": "dCnB_Q-ARpZ4",
        "colab_type": "code",
        "colab": {
          "base_uri": "https://localhost:8080/",
          "height": 54
        },
        "outputId": "73f2f93f-5c43-4796-bcc4-d47a8d3bd6cb"
      },
      "cell_type": "code",
      "source": [
        "quant_formula = 'APM ~ ' + ' + '.join(df.drop('APM', axis='columns').columns)\n",
        "print(quant_formula)"
      ],
      "execution_count": 28,
      "outputs": [
        {
          "output_type": "stream",
          "text": [
            "APM ~ GameID + LeagueIndex + Age + HoursPerWeek + TotalHours + SelectByHotkeys + AssignToHotkeys + UniqueHotkeys + MinimapAttacks + MinimapRightClicks + NumberOfPACs + GapBetweenPACs + ActionLatency + ActionsInPAC + TotalMapExplored + WorkersMade + UniqueUnitsMade + ComplexUnitsMade + ComplexAbilitiesUsed\n"
          ],
          "name": "stdout"
        }
      ]
    },
    {
      "metadata": {
        "id": "4nFz8mVgRVO2",
        "colab_type": "code",
        "colab": {
          "base_uri": "https://localhost:8080/",
          "height": 630
        },
        "outputId": "198a5dfc-0f2e-4aa6-f708-700f3b514515"
      },
      "cell_type": "code",
      "source": [
        "#let's look at the top 10% of players - 0.9\n",
        "import statsmodels.formula.api as smf\n",
        "\n",
        "quant_mod = smf.quantreg(quant_formula, data=df)\n",
        "quant_reg = quant_mod.fit(q=.9)\n",
        "quant_reg.summary() "
      ],
      "execution_count": 29,
      "outputs": [
        {
          "output_type": "stream",
          "text": [
            "/usr/local/lib/python3.6/dist-packages/statsmodels/regression/quantile_regression.py:193: IterationLimitWarning: Maximum number of iterations (1000) reached.\n",
            "  \") reached.\", IterationLimitWarning)\n"
          ],
          "name": "stderr"
        },
        {
          "output_type": "execute_result",
          "data": {
            "text/html": [
              "<table class=\"simpletable\">\n",
              "<caption>QuantReg Regression Results</caption>\n",
              "<tr>\n",
              "  <th>Dep. Variable:</th>        <td>APM</td>       <th>  Pseudo R-squared:  </th> <td>  0.8923</td>\n",
              "</tr>\n",
              "<tr>\n",
              "  <th>Model:</th>             <td>QuantReg</td>     <th>  Bandwidth:         </th> <td>   1.353</td>\n",
              "</tr>\n",
              "<tr>\n",
              "  <th>Method:</th>          <td>Least Squares</td>  <th>  Sparsity:          </th> <td>   28.91</td>\n",
              "</tr>\n",
              "<tr>\n",
              "  <th>Date:</th>          <td>Wed, 27 Feb 2019</td> <th>  No. Observations:  </th>  <td>  3325</td> \n",
              "</tr>\n",
              "<tr>\n",
              "  <th>Time:</th>              <td>18:46:10</td>     <th>  Df Residuals:      </th>  <td>  3305</td> \n",
              "</tr>\n",
              "<tr>\n",
              "  <th> </th>                      <td> </td>        <th>  Df Model:          </th>  <td>    19</td> \n",
              "</tr>\n",
              "</table>\n",
              "<table class=\"simpletable\">\n",
              "<tr>\n",
              "            <td></td>              <th>coef</th>     <th>std err</th>      <th>t</th>      <th>P>|t|</th>  <th>[0.025</th>    <th>0.975]</th>  \n",
              "</tr>\n",
              "<tr>\n",
              "  <th>Intercept</th>            <td> -107.8652</td> <td>    3.044</td> <td>  -35.437</td> <td> 0.000</td> <td> -113.833</td> <td> -101.897</td>\n",
              "</tr>\n",
              "<tr>\n",
              "  <th>GameID</th>               <td> 2.087e-05</td> <td> 5.66e-05</td> <td>    0.369</td> <td> 0.712</td> <td>   -9e-05</td> <td>    0.000</td>\n",
              "</tr>\n",
              "<tr>\n",
              "  <th>LeagueIndex</th>          <td>   -0.4397</td> <td>    0.154</td> <td>   -2.848</td> <td> 0.004</td> <td>   -0.742</td> <td>   -0.137</td>\n",
              "</tr>\n",
              "<tr>\n",
              "  <th>Age</th>                  <td>    0.0666</td> <td>    0.042</td> <td>    1.581</td> <td> 0.114</td> <td>   -0.016</td> <td>    0.149</td>\n",
              "</tr>\n",
              "<tr>\n",
              "  <th>HoursPerWeek</th>         <td>    0.0351</td> <td>    0.015</td> <td>    2.283</td> <td> 0.023</td> <td>    0.005</td> <td>    0.065</td>\n",
              "</tr>\n",
              "<tr>\n",
              "  <th>TotalHours</th>           <td>   -0.0002</td> <td>    0.000</td> <td>   -0.434</td> <td> 0.664</td> <td>   -0.001</td> <td>    0.001</td>\n",
              "</tr>\n",
              "<tr>\n",
              "  <th>SelectByHotkeys</th>      <td> 5408.7599</td> <td>   39.088</td> <td>  138.373</td> <td> 0.000</td> <td> 5332.120</td> <td> 5485.399</td>\n",
              "</tr>\n",
              "<tr>\n",
              "  <th>AssignToHotkeys</th>      <td> -326.7892</td> <td> 1037.899</td> <td>   -0.315</td> <td> 0.753</td> <td>-2361.780</td> <td> 1708.201</td>\n",
              "</tr>\n",
              "<tr>\n",
              "  <th>UniqueHotkeys</th>        <td>    0.0126</td> <td>    0.069</td> <td>    0.183</td> <td> 0.855</td> <td>   -0.122</td> <td>    0.147</td>\n",
              "</tr>\n",
              "<tr>\n",
              "  <th>MinimapAttacks</th>       <td> 2417.9964</td> <td> 1046.642</td> <td>    2.310</td> <td> 0.021</td> <td>  365.865</td> <td> 4470.128</td>\n",
              "</tr>\n",
              "<tr>\n",
              "  <th>MinimapRightClicks</th>   <td> 2562.2417</td> <td>  490.175</td> <td>    5.227</td> <td> 0.000</td> <td> 1601.165</td> <td> 3523.318</td>\n",
              "</tr>\n",
              "<tr>\n",
              "  <th>NumberOfPACs</th>         <td>  3.14e+04</td> <td>  399.744</td> <td>   78.538</td> <td> 0.000</td> <td> 3.06e+04</td> <td> 3.22e+04</td>\n",
              "</tr>\n",
              "<tr>\n",
              "  <th>GapBetweenPACs</th>       <td>    0.0911</td> <td>    0.014</td> <td>    6.311</td> <td> 0.000</td> <td>    0.063</td> <td>    0.119</td>\n",
              "</tr>\n",
              "<tr>\n",
              "  <th>ActionLatency</th>        <td>    0.1028</td> <td>    0.021</td> <td>    4.860</td> <td> 0.000</td> <td>    0.061</td> <td>    0.144</td>\n",
              "</tr>\n",
              "<tr>\n",
              "  <th>ActionsInPAC</th>         <td>   17.6057</td> <td>    0.153</td> <td>  114.909</td> <td> 0.000</td> <td>   17.305</td> <td>   17.906</td>\n",
              "</tr>\n",
              "<tr>\n",
              "  <th>TotalMapExplored</th>     <td>   -0.1022</td> <td>    0.030</td> <td>   -3.433</td> <td> 0.001</td> <td>   -0.161</td> <td>   -0.044</td>\n",
              "</tr>\n",
              "<tr>\n",
              "  <th>WorkersMade</th>          <td>  868.3935</td> <td>  331.954</td> <td>    2.616</td> <td> 0.009</td> <td>  217.537</td> <td> 1519.250</td>\n",
              "</tr>\n",
              "<tr>\n",
              "  <th>UniqueUnitsMade</th>      <td>   -0.3024</td> <td>    0.105</td> <td>   -2.880</td> <td> 0.004</td> <td>   -0.508</td> <td>   -0.097</td>\n",
              "</tr>\n",
              "<tr>\n",
              "  <th>ComplexUnitsMade</th>     <td>-1976.4192</td> <td>  156.573</td> <td>  -12.623</td> <td> 0.000</td> <td>-2283.409</td> <td>-1669.429</td>\n",
              "</tr>\n",
              "<tr>\n",
              "  <th>ComplexAbilitiesUsed</th> <td>-4253.0208</td> <td>  629.360</td> <td>   -6.758</td> <td> 0.000</td> <td>-5486.995</td> <td>-3019.046</td>\n",
              "</tr>\n",
              "</table>"
            ],
            "text/plain": [
              "<class 'statsmodels.iolib.summary.Summary'>\n",
              "\"\"\"\n",
              "                         QuantReg Regression Results                          \n",
              "==============================================================================\n",
              "Dep. Variable:                    APM   Pseudo R-squared:               0.8923\n",
              "Model:                       QuantReg   Bandwidth:                       1.353\n",
              "Method:                 Least Squares   Sparsity:                        28.91\n",
              "Date:                Wed, 27 Feb 2019   No. Observations:                 3325\n",
              "Time:                        18:46:10   Df Residuals:                     3305\n",
              "                                        Df Model:                           19\n",
              "========================================================================================\n",
              "                           coef    std err          t      P>|t|      [0.025      0.975]\n",
              "----------------------------------------------------------------------------------------\n",
              "Intercept             -107.8652      3.044    -35.437      0.000    -113.833    -101.897\n",
              "GameID                2.087e-05   5.66e-05      0.369      0.712      -9e-05       0.000\n",
              "LeagueIndex             -0.4397      0.154     -2.848      0.004      -0.742      -0.137\n",
              "Age                      0.0666      0.042      1.581      0.114      -0.016       0.149\n",
              "HoursPerWeek             0.0351      0.015      2.283      0.023       0.005       0.065\n",
              "TotalHours              -0.0002      0.000     -0.434      0.664      -0.001       0.001\n",
              "SelectByHotkeys       5408.7599     39.088    138.373      0.000    5332.120    5485.399\n",
              "AssignToHotkeys       -326.7892   1037.899     -0.315      0.753   -2361.780    1708.201\n",
              "UniqueHotkeys            0.0126      0.069      0.183      0.855      -0.122       0.147\n",
              "MinimapAttacks        2417.9964   1046.642      2.310      0.021     365.865    4470.128\n",
              "MinimapRightClicks    2562.2417    490.175      5.227      0.000    1601.165    3523.318\n",
              "NumberOfPACs           3.14e+04    399.744     78.538      0.000    3.06e+04    3.22e+04\n",
              "GapBetweenPACs           0.0911      0.014      6.311      0.000       0.063       0.119\n",
              "ActionLatency            0.1028      0.021      4.860      0.000       0.061       0.144\n",
              "ActionsInPAC            17.6057      0.153    114.909      0.000      17.305      17.906\n",
              "TotalMapExplored        -0.1022      0.030     -3.433      0.001      -0.161      -0.044\n",
              "WorkersMade            868.3935    331.954      2.616      0.009     217.537    1519.250\n",
              "UniqueUnitsMade         -0.3024      0.105     -2.880      0.004      -0.508      -0.097\n",
              "ComplexUnitsMade     -1976.4192    156.573    -12.623      0.000   -2283.409   -1669.429\n",
              "ComplexAbilitiesUsed -4253.0208    629.360     -6.758      0.000   -5486.995   -3019.046\n",
              "========================================================================================\n",
              "\n",
              "The condition number is large, 6.79e+07. This might indicate that there are\n",
              "strong multicollinearity or other numerical problems.\n",
              "\"\"\""
            ]
          },
          "metadata": {
            "tags": []
          },
          "execution_count": 29
        }
      ]
    },
    {
      "metadata": {
        "id": "v9t4Oxa8TOct",
        "colab_type": "code",
        "colab": {
          "base_uri": "https://localhost:8080/",
          "height": 630
        },
        "outputId": "971f2fc8-bcc8-4d58-8690-07e3f0a5ac24"
      },
      "cell_type": "code",
      "source": [
        "#top half is less glitchy\n",
        "quant_mod = smf.quantreg(quant_formula, data=df)\n",
        "quant_reg = quant_mod.fit(q=.5)\n",
        "quant_reg.summary()y76"
      ],
      "execution_count": 30,
      "outputs": [
        {
          "output_type": "stream",
          "text": [
            "/usr/local/lib/python3.6/dist-packages/statsmodels/regression/quantile_regression.py:193: IterationLimitWarning: Maximum number of iterations (1000) reached.\n",
            "  \") reached.\", IterationLimitWarning)\n"
          ],
          "name": "stderr"
        },
        {
          "output_type": "execute_result",
          "data": {
            "text/html": [
              "<table class=\"simpletable\">\n",
              "<caption>QuantReg Regression Results</caption>\n",
              "<tr>\n",
              "  <th>Dep. Variable:</th>        <td>APM</td>       <th>  Pseudo R-squared:  </th> <td>  0.8617</td>\n",
              "</tr>\n",
              "<tr>\n",
              "  <th>Model:</th>             <td>QuantReg</td>     <th>  Bandwidth:         </th> <td>   1.566</td>\n",
              "</tr>\n",
              "<tr>\n",
              "  <th>Method:</th>          <td>Least Squares</td>  <th>  Sparsity:          </th> <td>   11.22</td>\n",
              "</tr>\n",
              "<tr>\n",
              "  <th>Date:</th>          <td>Wed, 27 Feb 2019</td> <th>  No. Observations:  </th>  <td>  3325</td> \n",
              "</tr>\n",
              "<tr>\n",
              "  <th>Time:</th>              <td>18:52:44</td>     <th>  Df Residuals:      </th>  <td>  3305</td> \n",
              "</tr>\n",
              "<tr>\n",
              "  <th> </th>                      <td> </td>        <th>  Df Model:          </th>  <td>    19</td> \n",
              "</tr>\n",
              "</table>\n",
              "<table class=\"simpletable\">\n",
              "<tr>\n",
              "            <td></td>              <th>coef</th>     <th>std err</th>      <th>t</th>      <th>P>|t|</th>  <th>[0.025</th>    <th>0.975]</th>  \n",
              "</tr>\n",
              "<tr>\n",
              "  <th>Intercept</th>            <td>  -65.9056</td> <td>    1.814</td> <td>  -36.333</td> <td> 0.000</td> <td>  -69.462</td> <td>  -62.349</td>\n",
              "</tr>\n",
              "<tr>\n",
              "  <th>GameID</th>               <td> 3.796e-05</td> <td> 3.72e-05</td> <td>    1.020</td> <td> 0.308</td> <td> -3.5e-05</td> <td>    0.000</td>\n",
              "</tr>\n",
              "<tr>\n",
              "  <th>LeagueIndex</th>          <td>   -0.2254</td> <td>    0.102</td> <td>   -2.202</td> <td> 0.028</td> <td>   -0.426</td> <td>   -0.025</td>\n",
              "</tr>\n",
              "<tr>\n",
              "  <th>Age</th>                  <td>   -0.0395</td> <td>    0.025</td> <td>   -1.603</td> <td> 0.109</td> <td>   -0.088</td> <td>    0.009</td>\n",
              "</tr>\n",
              "<tr>\n",
              "  <th>HoursPerWeek</th>         <td>   -0.0060</td> <td>    0.009</td> <td>   -0.645</td> <td> 0.519</td> <td>   -0.024</td> <td>    0.012</td>\n",
              "</tr>\n",
              "<tr>\n",
              "  <th>TotalHours</th>           <td>    0.0008</td> <td>    0.000</td> <td>    3.383</td> <td> 0.001</td> <td>    0.000</td> <td>    0.001</td>\n",
              "</tr>\n",
              "<tr>\n",
              "  <th>SelectByHotkeys</th>      <td> 5409.7086</td> <td>   25.095</td> <td>  215.568</td> <td> 0.000</td> <td> 5360.505</td> <td> 5458.912</td>\n",
              "</tr>\n",
              "<tr>\n",
              "  <th>AssignToHotkeys</th>      <td>-3095.6395</td> <td>  593.299</td> <td>   -5.218</td> <td> 0.000</td> <td>-4258.909</td> <td>-1932.370</td>\n",
              "</tr>\n",
              "<tr>\n",
              "  <th>UniqueHotkeys</th>        <td>    0.2001</td> <td>    0.048</td> <td>    4.182</td> <td> 0.000</td> <td>    0.106</td> <td>    0.294</td>\n",
              "</tr>\n",
              "<tr>\n",
              "  <th>MinimapAttacks</th>       <td>-1930.7857</td> <td>  667.523</td> <td>   -2.892</td> <td> 0.004</td> <td>-3239.586</td> <td> -621.985</td>\n",
              "</tr>\n",
              "<tr>\n",
              "  <th>MinimapRightClicks</th>   <td> 3042.0534</td> <td>  303.333</td> <td>   10.029</td> <td> 0.000</td> <td> 2447.313</td> <td> 3636.794</td>\n",
              "</tr>\n",
              "<tr>\n",
              "  <th>NumberOfPACs</th>         <td> 2.546e+04</td> <td>  240.248</td> <td>  105.972</td> <td> 0.000</td> <td>  2.5e+04</td> <td> 2.59e+04</td>\n",
              "</tr>\n",
              "<tr>\n",
              "  <th>GapBetweenPACs</th>       <td>    0.0177</td> <td>    0.009</td> <td>    2.063</td> <td> 0.039</td> <td>    0.001</td> <td>    0.035</td>\n",
              "</tr>\n",
              "<tr>\n",
              "  <th>ActionLatency</th>        <td>   -0.0834</td> <td>    0.012</td> <td>   -7.067</td> <td> 0.000</td> <td>   -0.107</td> <td>   -0.060</td>\n",
              "</tr>\n",
              "<tr>\n",
              "  <th>ActionsInPAC</th>         <td>   14.9220</td> <td>    0.096</td> <td>  156.031</td> <td> 0.000</td> <td>   14.735</td> <td>   15.110</td>\n",
              "</tr>\n",
              "<tr>\n",
              "  <th>TotalMapExplored</th>     <td>   -0.0332</td> <td>    0.018</td> <td>   -1.867</td> <td> 0.062</td> <td>   -0.068</td> <td>    0.002</td>\n",
              "</tr>\n",
              "<tr>\n",
              "  <th>WorkersMade</th>          <td>  823.9202</td> <td>  210.634</td> <td>    3.912</td> <td> 0.000</td> <td>  410.933</td> <td> 1236.907</td>\n",
              "</tr>\n",
              "<tr>\n",
              "  <th>UniqueUnitsMade</th>      <td>   -0.2954</td> <td>    0.066</td> <td>   -4.444</td> <td> 0.000</td> <td>   -0.426</td> <td>   -0.165</td>\n",
              "</tr>\n",
              "<tr>\n",
              "  <th>ComplexUnitsMade</th>     <td>   97.7796</td> <td>   93.438</td> <td>    1.046</td> <td> 0.295</td> <td>  -85.423</td> <td>  280.982</td>\n",
              "</tr>\n",
              "<tr>\n",
              "  <th>ComplexAbilitiesUsed</th> <td>  158.2475</td> <td>  372.675</td> <td>    0.425</td> <td> 0.671</td> <td> -572.449</td> <td>  888.944</td>\n",
              "</tr>\n",
              "</table>"
            ],
            "text/plain": [
              "<class 'statsmodels.iolib.summary.Summary'>\n",
              "\"\"\"\n",
              "                         QuantReg Regression Results                          \n",
              "==============================================================================\n",
              "Dep. Variable:                    APM   Pseudo R-squared:               0.8617\n",
              "Model:                       QuantReg   Bandwidth:                       1.566\n",
              "Method:                 Least Squares   Sparsity:                        11.22\n",
              "Date:                Wed, 27 Feb 2019   No. Observations:                 3325\n",
              "Time:                        18:52:44   Df Residuals:                     3305\n",
              "                                        Df Model:                           19\n",
              "========================================================================================\n",
              "                           coef    std err          t      P>|t|      [0.025      0.975]\n",
              "----------------------------------------------------------------------------------------\n",
              "Intercept              -65.9056      1.814    -36.333      0.000     -69.462     -62.349\n",
              "GameID                3.796e-05   3.72e-05      1.020      0.308    -3.5e-05       0.000\n",
              "LeagueIndex             -0.2254      0.102     -2.202      0.028      -0.426      -0.025\n",
              "Age                     -0.0395      0.025     -1.603      0.109      -0.088       0.009\n",
              "HoursPerWeek            -0.0060      0.009     -0.645      0.519      -0.024       0.012\n",
              "TotalHours               0.0008      0.000      3.383      0.001       0.000       0.001\n",
              "SelectByHotkeys       5409.7086     25.095    215.568      0.000    5360.505    5458.912\n",
              "AssignToHotkeys      -3095.6395    593.299     -5.218      0.000   -4258.909   -1932.370\n",
              "UniqueHotkeys            0.2001      0.048      4.182      0.000       0.106       0.294\n",
              "MinimapAttacks       -1930.7857    667.523     -2.892      0.004   -3239.586    -621.985\n",
              "MinimapRightClicks    3042.0534    303.333     10.029      0.000    2447.313    3636.794\n",
              "NumberOfPACs          2.546e+04    240.248    105.972      0.000     2.5e+04    2.59e+04\n",
              "GapBetweenPACs           0.0177      0.009      2.063      0.039       0.001       0.035\n",
              "ActionLatency           -0.0834      0.012     -7.067      0.000      -0.107      -0.060\n",
              "ActionsInPAC            14.9220      0.096    156.031      0.000      14.735      15.110\n",
              "TotalMapExplored        -0.0332      0.018     -1.867      0.062      -0.068       0.002\n",
              "WorkersMade            823.9202    210.634      3.912      0.000     410.933    1236.907\n",
              "UniqueUnitsMade         -0.2954      0.066     -4.444      0.000      -0.426      -0.165\n",
              "ComplexUnitsMade        97.7796     93.438      1.046      0.295     -85.423     280.982\n",
              "ComplexAbilitiesUsed   158.2475    372.675      0.425      0.671    -572.449     888.944\n",
              "========================================================================================\n",
              "\n",
              "The condition number is large, 6.79e+07. This might indicate that there are\n",
              "strong multicollinearity or other numerical problems.\n",
              "\"\"\""
            ]
          },
          "metadata": {
            "tags": []
          },
          "execution_count": 30
        }
      ]
    },
    {
      "metadata": {
        "id": "o2BADEQUirXa",
        "colab_type": "text"
      },
      "cell_type": "markdown",
      "source": [
        "## Assignment - birth weight data\n",
        "\n",
        "Birth weight is a situation where, while the data itself is actually fairly normal and symmetric, our main goal is actually *not* to model mean weight (via OLS), but rather to identify mothers at risk of having children below a certain \"at-risk\" threshold weight.\n",
        "\n",
        "Quantile regression gives us just the tool we need. For the data we are using, see: http://people.reed.edu/~jones/141/BirthWgt.html\n",
        "\n",
        "    bwt: baby's weight in ounces at birth\n",
        "    gestation: duration of pregnancy in days\n",
        "    parity: parity indicator (first born = 1, later birth = 0)\n",
        "    age: mother's age in years\n",
        "    height: mother's height in inches\n",
        "    weight: mother's weight in pounds (during pregnancy)\n",
        "    smoke: indicator for whether mother smokes (1=yes, 0=no) \n",
        "    \n",
        "Use this data and `statsmodels` to fit a quantile regression, predicting `bwt` (birth weight) as a function of the other covariates.** First, identify an appropriate `q` (quantile) to target a cutoff of 90 ounces** - babies above that birth weight are generally healthy/safe, babies below are at-risk.\n",
        "\n",
        "Then, fit and iterate your model. Be creative! You may want to engineer features. Hint - mother's age likely is not simply linear in its impact, and the other features may interact as well.\n",
        "\n",
        "At the end, create at least *2* tables and *1* visualization to summarize your best model. Then (in writing) answer the following questions:\n",
        "\n",
        "- What characteristics of a mother indicate the highest likelihood of an at-risk (low weight) baby?\n",
        "- What can expectant mothers be told to help mitigate this risk?\n",
        "\n",
        "Note that second question is not exactly a data science question - and that's okay! You're not expected to be a medical expert, but it is a good exercise to do a little bit of digging into a particular domain and offer informal but informed opinions."
      ]
    },
    {
      "metadata": {
        "id": "HUWKv16FjZsY",
        "colab_type": "code",
        "outputId": "11e2916d-9939-4ed3-e82f-01ca539492d3",
        "colab": {
          "base_uri": "https://localhost:8080/",
          "height": 195
        }
      },
      "cell_type": "code",
      "source": [
        "import pandas as pd\n",
        "bwt_df = pd.read_csv('http://people.reed.edu/~jones/141/Bwt.dat')\n",
        "bwt_df.head()"
      ],
      "execution_count": 62,
      "outputs": [
        {
          "output_type": "execute_result",
          "data": {
            "text/html": [
              "<div>\n",
              "<style scoped>\n",
              "    .dataframe tbody tr th:only-of-type {\n",
              "        vertical-align: middle;\n",
              "    }\n",
              "\n",
              "    .dataframe tbody tr th {\n",
              "        vertical-align: top;\n",
              "    }\n",
              "\n",
              "    .dataframe thead th {\n",
              "        text-align: right;\n",
              "    }\n",
              "</style>\n",
              "<table border=\"1\" class=\"dataframe\">\n",
              "  <thead>\n",
              "    <tr style=\"text-align: right;\">\n",
              "      <th></th>\n",
              "      <th>bwt</th>\n",
              "      <th>gestation</th>\n",
              "      <th>parity</th>\n",
              "      <th>age</th>\n",
              "      <th>height</th>\n",
              "      <th>weight</th>\n",
              "      <th>smoke</th>\n",
              "    </tr>\n",
              "  </thead>\n",
              "  <tbody>\n",
              "    <tr>\n",
              "      <th>0</th>\n",
              "      <td>120</td>\n",
              "      <td>284</td>\n",
              "      <td>0</td>\n",
              "      <td>27</td>\n",
              "      <td>62</td>\n",
              "      <td>100</td>\n",
              "      <td>0</td>\n",
              "    </tr>\n",
              "    <tr>\n",
              "      <th>1</th>\n",
              "      <td>113</td>\n",
              "      <td>282</td>\n",
              "      <td>0</td>\n",
              "      <td>33</td>\n",
              "      <td>64</td>\n",
              "      <td>135</td>\n",
              "      <td>0</td>\n",
              "    </tr>\n",
              "    <tr>\n",
              "      <th>2</th>\n",
              "      <td>128</td>\n",
              "      <td>279</td>\n",
              "      <td>0</td>\n",
              "      <td>28</td>\n",
              "      <td>64</td>\n",
              "      <td>115</td>\n",
              "      <td>1</td>\n",
              "    </tr>\n",
              "    <tr>\n",
              "      <th>3</th>\n",
              "      <td>108</td>\n",
              "      <td>282</td>\n",
              "      <td>0</td>\n",
              "      <td>23</td>\n",
              "      <td>67</td>\n",
              "      <td>125</td>\n",
              "      <td>1</td>\n",
              "    </tr>\n",
              "    <tr>\n",
              "      <th>4</th>\n",
              "      <td>136</td>\n",
              "      <td>286</td>\n",
              "      <td>0</td>\n",
              "      <td>25</td>\n",
              "      <td>62</td>\n",
              "      <td>93</td>\n",
              "      <td>0</td>\n",
              "    </tr>\n",
              "  </tbody>\n",
              "</table>\n",
              "</div>"
            ],
            "text/plain": [
              "   bwt  gestation  parity  age  height  weight  smoke\n",
              "0  120        284       0   27      62     100      0\n",
              "1  113        282       0   33      64     135      0\n",
              "2  128        279       0   28      64     115      1\n",
              "3  108        282       0   23      67     125      1\n",
              "4  136        286       0   25      62      93      0"
            ]
          },
          "metadata": {
            "tags": []
          },
          "execution_count": 62
        }
      ]
    },
    {
      "metadata": {
        "id": "dy5FkUZpkJT_",
        "colab_type": "code",
        "outputId": "b24177d2-0b37-4a50-bee3-d8bd8e76b7db",
        "colab": {
          "base_uri": "https://localhost:8080/",
          "height": 304
        }
      },
      "cell_type": "code",
      "source": [
        "bwt_df.describe()"
      ],
      "execution_count": 22,
      "outputs": [
        {
          "output_type": "execute_result",
          "data": {
            "text/html": [
              "<div>\n",
              "<style scoped>\n",
              "    .dataframe tbody tr th:only-of-type {\n",
              "        vertical-align: middle;\n",
              "    }\n",
              "\n",
              "    .dataframe tbody tr th {\n",
              "        vertical-align: top;\n",
              "    }\n",
              "\n",
              "    .dataframe thead th {\n",
              "        text-align: right;\n",
              "    }\n",
              "</style>\n",
              "<table border=\"1\" class=\"dataframe\">\n",
              "  <thead>\n",
              "    <tr style=\"text-align: right;\">\n",
              "      <th></th>\n",
              "      <th>bwt</th>\n",
              "      <th>gestation</th>\n",
              "      <th>parity</th>\n",
              "      <th>age</th>\n",
              "      <th>height</th>\n",
              "      <th>weight</th>\n",
              "      <th>smoke</th>\n",
              "    </tr>\n",
              "  </thead>\n",
              "  <tbody>\n",
              "    <tr>\n",
              "      <th>count</th>\n",
              "      <td>1174.000000</td>\n",
              "      <td>1174.000000</td>\n",
              "      <td>1174.000000</td>\n",
              "      <td>1174.000000</td>\n",
              "      <td>1174.000000</td>\n",
              "      <td>1174.000000</td>\n",
              "      <td>1174.000000</td>\n",
              "    </tr>\n",
              "    <tr>\n",
              "      <th>mean</th>\n",
              "      <td>119.462521</td>\n",
              "      <td>279.101363</td>\n",
              "      <td>0.262351</td>\n",
              "      <td>27.228279</td>\n",
              "      <td>64.049404</td>\n",
              "      <td>128.478705</td>\n",
              "      <td>0.390971</td>\n",
              "    </tr>\n",
              "    <tr>\n",
              "      <th>std</th>\n",
              "      <td>18.328671</td>\n",
              "      <td>16.010305</td>\n",
              "      <td>0.440100</td>\n",
              "      <td>5.817839</td>\n",
              "      <td>2.526102</td>\n",
              "      <td>20.734282</td>\n",
              "      <td>0.488176</td>\n",
              "    </tr>\n",
              "    <tr>\n",
              "      <th>min</th>\n",
              "      <td>55.000000</td>\n",
              "      <td>148.000000</td>\n",
              "      <td>0.000000</td>\n",
              "      <td>15.000000</td>\n",
              "      <td>53.000000</td>\n",
              "      <td>87.000000</td>\n",
              "      <td>0.000000</td>\n",
              "    </tr>\n",
              "    <tr>\n",
              "      <th>25%</th>\n",
              "      <td>108.000000</td>\n",
              "      <td>272.000000</td>\n",
              "      <td>0.000000</td>\n",
              "      <td>23.000000</td>\n",
              "      <td>62.000000</td>\n",
              "      <td>114.250000</td>\n",
              "      <td>0.000000</td>\n",
              "    </tr>\n",
              "    <tr>\n",
              "      <th>50%</th>\n",
              "      <td>120.000000</td>\n",
              "      <td>280.000000</td>\n",
              "      <td>0.000000</td>\n",
              "      <td>26.000000</td>\n",
              "      <td>64.000000</td>\n",
              "      <td>125.000000</td>\n",
              "      <td>0.000000</td>\n",
              "    </tr>\n",
              "    <tr>\n",
              "      <th>75%</th>\n",
              "      <td>131.000000</td>\n",
              "      <td>288.000000</td>\n",
              "      <td>1.000000</td>\n",
              "      <td>31.000000</td>\n",
              "      <td>66.000000</td>\n",
              "      <td>139.000000</td>\n",
              "      <td>1.000000</td>\n",
              "    </tr>\n",
              "    <tr>\n",
              "      <th>max</th>\n",
              "      <td>176.000000</td>\n",
              "      <td>353.000000</td>\n",
              "      <td>1.000000</td>\n",
              "      <td>45.000000</td>\n",
              "      <td>72.000000</td>\n",
              "      <td>250.000000</td>\n",
              "      <td>1.000000</td>\n",
              "    </tr>\n",
              "  </tbody>\n",
              "</table>\n",
              "</div>"
            ],
            "text/plain": [
              "               bwt    gestation       parity          age       height  \\\n",
              "count  1174.000000  1174.000000  1174.000000  1174.000000  1174.000000   \n",
              "mean    119.462521   279.101363     0.262351    27.228279    64.049404   \n",
              "std      18.328671    16.010305     0.440100     5.817839     2.526102   \n",
              "min      55.000000   148.000000     0.000000    15.000000    53.000000   \n",
              "25%     108.000000   272.000000     0.000000    23.000000    62.000000   \n",
              "50%     120.000000   280.000000     0.000000    26.000000    64.000000   \n",
              "75%     131.000000   288.000000     1.000000    31.000000    66.000000   \n",
              "max     176.000000   353.000000     1.000000    45.000000    72.000000   \n",
              "\n",
              "            weight        smoke  \n",
              "count  1174.000000  1174.000000  \n",
              "mean    128.478705     0.390971  \n",
              "std      20.734282     0.488176  \n",
              "min      87.000000     0.000000  \n",
              "25%     114.250000     0.000000  \n",
              "50%     125.000000     0.000000  \n",
              "75%     139.000000     1.000000  \n",
              "max     250.000000     1.000000  "
            ]
          },
          "metadata": {
            "tags": []
          },
          "execution_count": 22
        }
      ]
    },
    {
      "metadata": {
        "id": "TozcFeBDMhOn",
        "colab_type": "code",
        "colab": {
          "base_uri": "https://localhost:8080/",
          "height": 218
        },
        "outputId": "81d2fd79-4e59-49b8-de87-47a381b61740"
      },
      "cell_type": "code",
      "source": [
        "bwt_df.info() #all are numeric"
      ],
      "execution_count": 23,
      "outputs": [
        {
          "output_type": "stream",
          "text": [
            "<class 'pandas.core.frame.DataFrame'>\n",
            "RangeIndex: 1174 entries, 0 to 1173\n",
            "Data columns (total 7 columns):\n",
            "bwt          1174 non-null int64\n",
            "gestation    1174 non-null int64\n",
            "parity       1174 non-null int64\n",
            "age          1174 non-null int64\n",
            "height       1174 non-null int64\n",
            "weight       1174 non-null int64\n",
            "smoke        1174 non-null int64\n",
            "dtypes: int64(7)\n",
            "memory usage: 64.3 KB\n"
          ],
          "name": "stdout"
        }
      ]
    },
    {
      "metadata": {
        "id": "Ez8qPLojjlFf",
        "colab_type": "code",
        "colab": {
          "base_uri": "https://localhost:8080/",
          "height": 151
        },
        "outputId": "ef37de46-2f43-4900-8aaf-1493cb520a03"
      },
      "cell_type": "code",
      "source": [
        "bwt_df.isnull().sum() #no nulls or strings"
      ],
      "execution_count": 24,
      "outputs": [
        {
          "output_type": "execute_result",
          "data": {
            "text/plain": [
              "bwt          0\n",
              "gestation    0\n",
              "parity       0\n",
              "age          0\n",
              "height       0\n",
              "weight       0\n",
              "smoke        0\n",
              "dtype: int64"
            ]
          },
          "metadata": {
            "tags": []
          },
          "execution_count": 24
        }
      ]
    },
    {
      "metadata": {
        "id": "Ht8DnHy1PezW",
        "colab_type": "code",
        "colab": {}
      },
      "cell_type": "code",
      "source": [
        "#new features\n",
        "#polynomial - age, gestation, weight\n",
        "#these are features we can imagine sharply becoming a worse factor above\n",
        "#or below a point rather than linear\n",
        "bwt_df['age_squared'] = bwt_df['age'] ** 2\n",
        "bwt_df['gestation_squared'] = bwt_df['gestation'] ** 2\n",
        "bwt_df['weight_squared'] = bwt_df['weight'] ** 2\n",
        "#interactions - height and weight ratio\n",
        "bwt_df['weight_height_ratio'] = bwt_df['weight'] / bwt_df['height']"
      ],
      "execution_count": 0,
      "outputs": []
    },
    {
      "metadata": {
        "id": "FOV6-N6DlDvD",
        "colab_type": "code",
        "colab": {
          "base_uri": "https://localhost:8080/",
          "height": 218
        },
        "outputId": "567c1602-976b-4bc9-a1be-4158da737188"
      },
      "cell_type": "code",
      "source": [
        "#what is the height weight ratio doing?\n",
        "ratio = bwt_df[['weight_height_ratio', 'height', 'weight']].sort_values('weight_height_ratio')\n",
        "print(ratio.head())\n",
        "print(ratio.tail())\n",
        "#'this many times higher weight than height'"
      ],
      "execution_count": 67,
      "outputs": [
        {
          "output_type": "stream",
          "text": [
            "      weight_height_ratio  height  weight\n",
            "1165             1.450000      60      87\n",
            "1130             1.459016      61      89\n",
            "509              1.459016      61      89\n",
            "36               1.460317      63      92\n",
            "935              1.484848      66      98\n",
            "     weight_height_ratio  height  weight\n",
            "570             3.208955      67     215\n",
            "398             3.333333      63     210\n",
            "169             3.492063      63     220\n",
            "870             3.500000      62     217\n",
            "139             3.787879      66     250\n"
          ],
          "name": "stdout"
        }
      ]
    },
    {
      "metadata": {
        "id": "qrwGBHMLOt0p",
        "colab_type": "code",
        "colab": {
          "base_uri": "https://localhost:8080/",
          "height": 54
        },
        "outputId": "6639fcf0-a795-44ee-ec8f-edf7095ddd05"
      },
      "cell_type": "code",
      "source": [
        "quant_formula = 'bwt ~ ' + ' + '.join(bwt_df.drop('bwt', axis='columns').columns)\n",
        "print(quant_formula)"
      ],
      "execution_count": 69,
      "outputs": [
        {
          "output_type": "stream",
          "text": [
            "bwt ~ gestation + parity + age + height + weight + smoke + age_squared + gestation_squared + weight_squared + weight_height_ratio\n"
          ],
          "name": "stdout"
        }
      ]
    },
    {
      "metadata": {
        "id": "mTOSd4gwRpoR",
        "colab_type": "code",
        "colab": {
          "base_uri": "https://localhost:8080/",
          "height": 222
        },
        "outputId": "59be0976-5cc2-4cdb-9b67-6f2bdb19386c"
      },
      "cell_type": "code",
      "source": [
        "#I want to visually check for outliers in age, gestation, and weight\n",
        "import seaborn as sns\n",
        "Xlabels = bwt_df.columns.drop('bwt')\n",
        "sns.set(style=\"ticks\", color_codes=True)\n",
        "sns.pairplot(data=bwt_df, y_vars=['bwt'], x_vars=Xlabels)"
      ],
      "execution_count": 70,
      "outputs": [
        {
          "output_type": "execute_result",
          "data": {
            "text/plain": [
              "<seaborn.axisgrid.PairGrid at 0x7f8990bc4a20>"
            ]
          },
          "metadata": {
            "tags": []
          },
          "execution_count": 70
        },
        {
          "output_type": "display_data",
          "data": {
            "image/png": "[encoded data removed]",
            "text/plain": [
              "<Figure size 1800x180 with 10 Axes>"
            ]
          },
          "metadata": {
            "tags": []
          }
        }
      ]
    },
    {
      "metadata": {
        "id": "Cq_SmT45UMN6",
        "colab_type": "code",
        "colab": {
          "base_uri": "https://localhost:8080/",
          "height": 101
        },
        "outputId": "6b5b84a9-b951-40e7-a843-83decc905360"
      },
      "cell_type": "code",
      "source": [
        "#the 25th quantile is 108 oz, so lets decrease from there\n",
        "qlist = [0.05, 0.1, 0.15, 0.2, 0.25]\n",
        "for quantile in qlist:\n",
        "  print(bwt_df['bwt'].quantile(quantile))"
      ],
      "execution_count": 28,
      "outputs": [
        {
          "output_type": "stream",
          "text": [
            "88.0\n",
            "97.0\n",
            "101.0\n",
            "104.0\n",
            "108.0\n"
          ],
          "name": "stdout"
        }
      ]
    },
    {
      "metadata": {
        "id": "aLOPCCC4VWfs",
        "colab_type": "code",
        "colab": {
          "base_uri": "https://localhost:8080/",
          "height": 118
        },
        "outputId": "5af334ca-e083-4459-e264-5b76e8b2958b"
      },
      "cell_type": "code",
      "source": [
        "qlist = [0.05, 0.06, 0.07, 0.08, 0.09, 0.1]\n",
        "for quantile in qlist:\n",
        "  print(bwt_df['bwt'].quantile(quantile))"
      ],
      "execution_count": 29,
      "outputs": [
        {
          "output_type": "stream",
          "text": [
            "88.0\n",
            "91.0\n",
            "93.0\n",
            "94.0\n",
            "96.0\n",
            "97.0\n"
          ],
          "name": "stdout"
        }
      ]
    },
    {
      "metadata": {
        "id": "5lKc00-dTkH8",
        "colab_type": "code",
        "colab": {
          "base_uri": "https://localhost:8080/",
          "height": 450
        },
        "outputId": "609628c4-568b-43e8-e9a9-4eb4999266dc"
      },
      "cell_type": "code",
      "source": [
        "#lets' use 0.06\n",
        "#MODEL 1 - 23.32%\n",
        "import statsmodels.formula.api as smf\n",
        "quant_mod = smf.quantreg(quant_formula, data=bwt_df)\n",
        "quant_reg = quant_mod.fit(q=.06)\n",
        "quant_reg.summary()"
      ],
      "execution_count": 71,
      "outputs": [
        {
          "output_type": "stream",
          "text": [
            "/usr/local/lib/python3.6/dist-packages/statsmodels/regression/quantile_regression.py:193: IterationLimitWarning: Maximum number of iterations (1000) reached.\n",
            "  \") reached.\", IterationLimitWarning)\n"
          ],
          "name": "stderr"
        },
        {
          "output_type": "execute_result",
          "data": {
            "text/html": [
              "<table class=\"simpletable\">\n",
              "<caption>QuantReg Regression Results</caption>\n",
              "<tr>\n",
              "  <th>Dep. Variable:</th>        <td>bwt</td>       <th>  Pseudo R-squared:  </th> <td>  0.2332</td>\n",
              "</tr>\n",
              "<tr>\n",
              "  <th>Model:</th>             <td>QuantReg</td>     <th>  Bandwidth:         </th> <td>   6.141</td>\n",
              "</tr>\n",
              "<tr>\n",
              "  <th>Method:</th>          <td>Least Squares</td>  <th>  Sparsity:          </th> <td>   109.4</td>\n",
              "</tr>\n",
              "<tr>\n",
              "  <th>Date:</th>          <td>Thu, 28 Feb 2019</td> <th>  No. Observations:  </th>  <td>  1174</td> \n",
              "</tr>\n",
              "<tr>\n",
              "  <th>Time:</th>              <td>01:08:44</td>     <th>  Df Residuals:      </th>  <td>  1163</td> \n",
              "</tr>\n",
              "<tr>\n",
              "  <th> </th>                      <td> </td>        <th>  Df Model:          </th>  <td>    10</td> \n",
              "</tr>\n",
              "</table>\n",
              "<table class=\"simpletable\">\n",
              "<tr>\n",
              "           <td></td>              <th>coef</th>     <th>std err</th>      <th>t</th>      <th>P>|t|</th>  <th>[0.025</th>    <th>0.975]</th>  \n",
              "</tr>\n",
              "<tr>\n",
              "  <th>Intercept</th>           <td>  -90.4812</td> <td>  147.498</td> <td>   -0.613</td> <td> 0.540</td> <td> -379.873</td> <td>  198.911</td>\n",
              "</tr>\n",
              "<tr>\n",
              "  <th>gestation</th>           <td>    3.4651</td> <td>    0.579</td> <td>    5.982</td> <td> 0.000</td> <td>    2.329</td> <td>    4.602</td>\n",
              "</tr>\n",
              "<tr>\n",
              "  <th>parity</th>              <td>   -1.9938</td> <td>    2.007</td> <td>   -0.993</td> <td> 0.321</td> <td>   -5.932</td> <td>    1.944</td>\n",
              "</tr>\n",
              "<tr>\n",
              "  <th>age</th>                 <td>    1.2437</td> <td>    1.160</td> <td>    1.072</td> <td> 0.284</td> <td>   -1.032</td> <td>    3.520</td>\n",
              "</tr>\n",
              "<tr>\n",
              "  <th>height</th>              <td>   -7.3481</td> <td>    2.001</td> <td>   -3.672</td> <td> 0.000</td> <td>  -11.274</td> <td>   -3.422</td>\n",
              "</tr>\n",
              "<tr>\n",
              "  <th>weight</th>              <td>    5.4626</td> <td>    1.057</td> <td>    5.166</td> <td> 0.000</td> <td>    3.388</td> <td>    7.537</td>\n",
              "</tr>\n",
              "<tr>\n",
              "  <th>smoke</th>               <td>   -8.6570</td> <td>    1.564</td> <td>   -5.534</td> <td> 0.000</td> <td>  -11.726</td> <td>   -5.588</td>\n",
              "</tr>\n",
              "<tr>\n",
              "  <th>age_squared</th>         <td>   -0.0257</td> <td>    0.020</td> <td>   -1.311</td> <td> 0.190</td> <td>   -0.064</td> <td>    0.013</td>\n",
              "</tr>\n",
              "<tr>\n",
              "  <th>gestation_squared</th>   <td>   -0.0053</td> <td>    0.001</td> <td>   -4.725</td> <td> 0.000</td> <td>   -0.008</td> <td>   -0.003</td>\n",
              "</tr>\n",
              "<tr>\n",
              "  <th>weight_squared</th>      <td>   -0.0054</td> <td>    0.001</td> <td>   -6.359</td> <td> 0.000</td> <td>   -0.007</td> <td>   -0.004</td>\n",
              "</tr>\n",
              "<tr>\n",
              "  <th>weight_height_ratio</th> <td> -257.4879</td> <td>   60.535</td> <td>   -4.254</td> <td> 0.000</td> <td> -376.259</td> <td> -138.717</td>\n",
              "</tr>\n",
              "</table>"
            ],
            "text/plain": [
              "<class 'statsmodels.iolib.summary.Summary'>\n",
              "\"\"\"\n",
              "                         QuantReg Regression Results                          \n",
              "==============================================================================\n",
              "Dep. Variable:                    bwt   Pseudo R-squared:               0.2332\n",
              "Model:                       QuantReg   Bandwidth:                       6.141\n",
              "Method:                 Least Squares   Sparsity:                        109.4\n",
              "Date:                Thu, 28 Feb 2019   No. Observations:                 1174\n",
              "Time:                        01:08:44   Df Residuals:                     1163\n",
              "                                        Df Model:                           10\n",
              "=======================================================================================\n",
              "                          coef    std err          t      P>|t|      [0.025      0.975]\n",
              "---------------------------------------------------------------------------------------\n",
              "Intercept             -90.4812    147.498     -0.613      0.540    -379.873     198.911\n",
              "gestation               3.4651      0.579      5.982      0.000       2.329       4.602\n",
              "parity                 -1.9938      2.007     -0.993      0.321      -5.932       1.944\n",
              "age                     1.2437      1.160      1.072      0.284      -1.032       3.520\n",
              "height                 -7.3481      2.001     -3.672      0.000     -11.274      -3.422\n",
              "weight                  5.4626      1.057      5.166      0.000       3.388       7.537\n",
              "smoke                  -8.6570      1.564     -5.534      0.000     -11.726      -5.588\n",
              "age_squared            -0.0257      0.020     -1.311      0.190      -0.064       0.013\n",
              "gestation_squared      -0.0053      0.001     -4.725      0.000      -0.008      -0.003\n",
              "weight_squared         -0.0054      0.001     -6.359      0.000      -0.007      -0.004\n",
              "weight_height_ratio  -257.4879     60.535     -4.254      0.000    -376.259    -138.717\n",
              "=======================================================================================\n",
              "\n",
              "The condition number is large, 1.87e+07. This might indicate that there are\n",
              "strong multicollinearity or other numerical problems.\n",
              "\"\"\""
            ]
          },
          "metadata": {
            "tags": []
          },
          "execution_count": 71
        }
      ]
    },
    {
      "metadata": {
        "id": "7zfIRuiWWfXR",
        "colab_type": "code",
        "colab": {}
      },
      "cell_type": "code",
      "source": [
        "PValueClub = ['bwt','gestation', 'height', 'weight', 'smoke', 'gestation_squared',\n",
        "              'weight_squared', 'weight_height_ratio']\n",
        "newdf = bwt_df[PValueClub]"
      ],
      "execution_count": 0,
      "outputs": []
    },
    {
      "metadata": {
        "id": "Ws_-V5sHXXOq",
        "colab_type": "code",
        "colab": {
          "base_uri": "https://localhost:8080/",
          "height": 407
        },
        "outputId": "9c141394-34a1-4141-fb9a-b38496f98a03"
      },
      "cell_type": "code",
      "source": [
        "#MODEL 2 - 22.88%\n",
        "#Changes: Included only features with a <0.05 P\n",
        "quant_formula = 'bwt ~ ' + ' + '.join(newdf.drop('bwt', axis='columns').columns)\n",
        "print(quant_formula)\n",
        "\n",
        "quant_mod = smf.quantreg(quant_formula, data=newdf)\n",
        "quant_reg = quant_mod.fit(q=.06)\n",
        "quant_reg.summary()"
      ],
      "execution_count": 76,
      "outputs": [
        {
          "output_type": "stream",
          "text": [
            "bwt ~ gestation + height + weight + smoke + gestation_squared + weight_squared + weight_height_ratio\n"
          ],
          "name": "stdout"
        },
        {
          "output_type": "stream",
          "text": [
            "/usr/local/lib/python3.6/dist-packages/statsmodels/regression/quantile_regression.py:193: IterationLimitWarning: Maximum number of iterations (1000) reached.\n",
            "  \") reached.\", IterationLimitWarning)\n"
          ],
          "name": "stderr"
        },
        {
          "output_type": "execute_result",
          "data": {
            "text/html": [
              "<table class=\"simpletable\">\n",
              "<caption>QuantReg Regression Results</caption>\n",
              "<tr>\n",
              "  <th>Dep. Variable:</th>        <td>bwt</td>       <th>  Pseudo R-squared:  </th> <td>  0.2288</td>\n",
              "</tr>\n",
              "<tr>\n",
              "  <th>Model:</th>             <td>QuantReg</td>     <th>  Bandwidth:         </th> <td>   6.085</td>\n",
              "</tr>\n",
              "<tr>\n",
              "  <th>Method:</th>          <td>Least Squares</td>  <th>  Sparsity:          </th> <td>   117.1</td>\n",
              "</tr>\n",
              "<tr>\n",
              "  <th>Date:</th>          <td>Thu, 28 Feb 2019</td> <th>  No. Observations:  </th>  <td>  1174</td> \n",
              "</tr>\n",
              "<tr>\n",
              "  <th>Time:</th>              <td>01:11:07</td>     <th>  Df Residuals:      </th>  <td>  1166</td> \n",
              "</tr>\n",
              "<tr>\n",
              "  <th> </th>                      <td> </td>        <th>  Df Model:          </th>  <td>     7</td> \n",
              "</tr>\n",
              "</table>\n",
              "<table class=\"simpletable\">\n",
              "<tr>\n",
              "           <td></td>              <th>coef</th>     <th>std err</th>      <th>t</th>      <th>P>|t|</th>  <th>[0.025</th>    <th>0.975]</th>  \n",
              "</tr>\n",
              "<tr>\n",
              "  <th>Intercept</th>           <td> -116.1735</td> <td>  154.502</td> <td>   -0.752</td> <td> 0.452</td> <td> -419.307</td> <td>  186.960</td>\n",
              "</tr>\n",
              "<tr>\n",
              "  <th>gestation</th>           <td>    3.3757</td> <td>    0.541</td> <td>    6.241</td> <td> 0.000</td> <td>    2.314</td> <td>    4.437</td>\n",
              "</tr>\n",
              "<tr>\n",
              "  <th>height</th>              <td>   -6.2413</td> <td>    2.122</td> <td>   -2.941</td> <td> 0.003</td> <td>  -10.405</td> <td>   -2.078</td>\n",
              "</tr>\n",
              "<tr>\n",
              "  <th>weight</th>              <td>    4.8046</td> <td>    1.092</td> <td>    4.400</td> <td> 0.000</td> <td>    2.662</td> <td>    6.947</td>\n",
              "</tr>\n",
              "<tr>\n",
              "  <th>smoke</th>               <td>   -9.0817</td> <td>    1.688</td> <td>   -5.379</td> <td> 0.000</td> <td>  -12.394</td> <td>   -5.769</td>\n",
              "</tr>\n",
              "<tr>\n",
              "  <th>gestation_squared</th>   <td>   -0.0052</td> <td>    0.001</td> <td>   -4.982</td> <td> 0.000</td> <td>   -0.007</td> <td>   -0.003</td>\n",
              "</tr>\n",
              "<tr>\n",
              "  <th>weight_squared</th>      <td>   -0.0048</td> <td>    0.001</td> <td>   -4.779</td> <td> 0.000</td> <td>   -0.007</td> <td>   -0.003</td>\n",
              "</tr>\n",
              "<tr>\n",
              "  <th>weight_height_ratio</th> <td> -227.7990</td> <td>   62.491</td> <td>   -3.645</td> <td> 0.000</td> <td> -350.406</td> <td> -105.192</td>\n",
              "</tr>\n",
              "</table>"
            ],
            "text/plain": [
              "<class 'statsmodels.iolib.summary.Summary'>\n",
              "\"\"\"\n",
              "                         QuantReg Regression Results                          \n",
              "==============================================================================\n",
              "Dep. Variable:                    bwt   Pseudo R-squared:               0.2288\n",
              "Model:                       QuantReg   Bandwidth:                       6.085\n",
              "Method:                 Least Squares   Sparsity:                        117.1\n",
              "Date:                Thu, 28 Feb 2019   No. Observations:                 1174\n",
              "Time:                        01:11:07   Df Residuals:                     1166\n",
              "                                        Df Model:                            7\n",
              "=======================================================================================\n",
              "                          coef    std err          t      P>|t|      [0.025      0.975]\n",
              "---------------------------------------------------------------------------------------\n",
              "Intercept            -116.1735    154.502     -0.752      0.452    -419.307     186.960\n",
              "gestation               3.3757      0.541      6.241      0.000       2.314       4.437\n",
              "height                 -6.2413      2.122     -2.941      0.003     -10.405      -2.078\n",
              "weight                  4.8046      1.092      4.400      0.000       2.662       6.947\n",
              "smoke                  -9.0817      1.688     -5.379      0.000     -12.394      -5.769\n",
              "gestation_squared      -0.0052      0.001     -4.982      0.000      -0.007      -0.003\n",
              "weight_squared         -0.0048      0.001     -4.779      0.000      -0.007      -0.003\n",
              "weight_height_ratio  -227.7990     62.491     -3.645      0.000    -350.406    -105.192\n",
              "=======================================================================================\n",
              "\n",
              "The condition number is large, 1.85e+07. This might indicate that there are\n",
              "strong multicollinearity or other numerical problems.\n",
              "\"\"\""
            ]
          },
          "metadata": {
            "tags": []
          },
          "execution_count": 76
        }
      ]
    },
    {
      "metadata": {
        "id": "IDhP6sZmYaFT",
        "colab_type": "code",
        "colab": {
          "base_uri": "https://localhost:8080/",
          "height": 494
        },
        "outputId": "8d7382db-048f-49ab-b3a7-7cf2cc2dfbe9"
      },
      "cell_type": "code",
      "source": [
        "#MODEL 3 - 21.3%\n",
        "#Changes: included a weight height ratio squared\n",
        "#to try to resolve 'significant' but ridiculous coef\n",
        "newdf['ratio_squared'] = newdf['weight_height_ratio'] ** 2\n",
        "quant_formula = 'bwt ~ ' + ' + '.join(newdf.drop('bwt', axis='columns').columns)\n",
        "print(quant_formula)\n",
        "\n",
        "quant_mod = smf.quantreg(quant_formula, data=newdf)\n",
        "quant_reg = quant_mod.fit(q=.06)\n",
        "quant_reg.summary()\n",
        "#yeah there's the sauce\n",
        "#more sensible coefficents for ratio but also lowers r2\n",
        "#and increases p value of ratio alone"
      ],
      "execution_count": 78,
      "outputs": [
        {
          "output_type": "stream",
          "text": [
            "bwt ~ gestation + height + weight + smoke + gestation_squared + weight_squared + weight_height_ratio + ratio_squared\n"
          ],
          "name": "stdout"
        },
        {
          "output_type": "stream",
          "text": [
            "/usr/local/lib/python3.6/dist-packages/ipykernel_launcher.py:1: SettingWithCopyWarning: \n",
            "A value is trying to be set on a copy of a slice from a DataFrame.\n",
            "Try using .loc[row_indexer,col_indexer] = value instead\n",
            "\n",
            "See the caveats in the documentation: http://pandas.pydata.org/pandas-docs/stable/indexing.html#indexing-view-versus-copy\n",
            "  \"\"\"Entry point for launching an IPython kernel.\n"
          ],
          "name": "stderr"
        },
        {
          "output_type": "execute_result",
          "data": {
            "text/html": [
              "<table class=\"simpletable\">\n",
              "<caption>QuantReg Regression Results</caption>\n",
              "<tr>\n",
              "  <th>Dep. Variable:</th>        <td>bwt</td>       <th>  Pseudo R-squared:  </th> <td>  0.2130</td>\n",
              "</tr>\n",
              "<tr>\n",
              "  <th>Model:</th>             <td>QuantReg</td>     <th>  Bandwidth:         </th> <td>   6.313</td>\n",
              "</tr>\n",
              "<tr>\n",
              "  <th>Method:</th>          <td>Least Squares</td>  <th>  Sparsity:          </th> <td>   114.0</td>\n",
              "</tr>\n",
              "<tr>\n",
              "  <th>Date:</th>          <td>Thu, 28 Feb 2019</td> <th>  No. Observations:  </th>  <td>  1174</td> \n",
              "</tr>\n",
              "<tr>\n",
              "  <th>Time:</th>              <td>01:14:15</td>     <th>  Df Residuals:      </th>  <td>  1165</td> \n",
              "</tr>\n",
              "<tr>\n",
              "  <th> </th>                      <td> </td>        <th>  Df Model:          </th>  <td>     8</td> \n",
              "</tr>\n",
              "</table>\n",
              "<table class=\"simpletable\">\n",
              "<tr>\n",
              "           <td></td>              <th>coef</th>     <th>std err</th>      <th>t</th>      <th>P>|t|</th>  <th>[0.025</th>    <th>0.975]</th>  \n",
              "</tr>\n",
              "<tr>\n",
              "  <th>Intercept</th>           <td>   -6.3705</td> <td>   57.418</td> <td>   -0.111</td> <td> 0.912</td> <td> -119.025</td> <td>  106.284</td>\n",
              "</tr>\n",
              "<tr>\n",
              "  <th>gestation</th>           <td>    1.7409</td> <td>    0.783</td> <td>    2.224</td> <td> 0.026</td> <td>    0.205</td> <td>    3.276</td>\n",
              "</tr>\n",
              "<tr>\n",
              "  <th>height</th>              <td>   -4.6794</td> <td>    1.049</td> <td>   -4.461</td> <td> 0.000</td> <td>   -6.737</td> <td>   -2.622</td>\n",
              "</tr>\n",
              "<tr>\n",
              "  <th>weight</th>              <td>    1.7281</td> <td>    1.021</td> <td>    1.692</td> <td> 0.091</td> <td>   -0.276</td> <td>    3.732</td>\n",
              "</tr>\n",
              "<tr>\n",
              "  <th>smoke</th>               <td>   -8.7034</td> <td>    1.643</td> <td>   -5.297</td> <td> 0.000</td> <td>  -11.927</td> <td>   -5.479</td>\n",
              "</tr>\n",
              "<tr>\n",
              "  <th>gestation_squared</th>   <td>   -0.0023</td> <td>    0.001</td> <td>   -1.584</td> <td> 0.113</td> <td>   -0.005</td> <td>    0.001</td>\n",
              "</tr>\n",
              "<tr>\n",
              "  <th>weight_squared</th>      <td>    0.0038</td> <td>    0.003</td> <td>    1.346</td> <td> 0.179</td> <td>   -0.002</td> <td>    0.009</td>\n",
              "</tr>\n",
              "<tr>\n",
              "  <th>weight_height_ratio</th> <td>  -11.5432</td> <td>   63.152</td> <td>   -0.183</td> <td> 0.855</td> <td> -135.448</td> <td>  112.362</td>\n",
              "</tr>\n",
              "<tr>\n",
              "  <th>ratio_squared</th>       <td>  -40.0512</td> <td>   11.775</td> <td>   -3.401</td> <td> 0.001</td> <td>  -63.153</td> <td>  -16.949</td>\n",
              "</tr>\n",
              "</table>"
            ],
            "text/plain": [
              "<class 'statsmodels.iolib.summary.Summary'>\n",
              "\"\"\"\n",
              "                         QuantReg Regression Results                          \n",
              "==============================================================================\n",
              "Dep. Variable:                    bwt   Pseudo R-squared:               0.2130\n",
              "Model:                       QuantReg   Bandwidth:                       6.313\n",
              "Method:                 Least Squares   Sparsity:                        114.0\n",
              "Date:                Thu, 28 Feb 2019   No. Observations:                 1174\n",
              "Time:                        01:14:15   Df Residuals:                     1165\n",
              "                                        Df Model:                            8\n",
              "=======================================================================================\n",
              "                          coef    std err          t      P>|t|      [0.025      0.975]\n",
              "---------------------------------------------------------------------------------------\n",
              "Intercept              -6.3705     57.418     -0.111      0.912    -119.025     106.284\n",
              "gestation               1.7409      0.783      2.224      0.026       0.205       3.276\n",
              "height                 -4.6794      1.049     -4.461      0.000      -6.737      -2.622\n",
              "weight                  1.7281      1.021      1.692      0.091      -0.276       3.732\n",
              "smoke                  -8.7034      1.643     -5.297      0.000     -11.927      -5.479\n",
              "gestation_squared      -0.0023      0.001     -1.584      0.113      -0.005       0.001\n",
              "weight_squared          0.0038      0.003      1.346      0.179      -0.002       0.009\n",
              "weight_height_ratio   -11.5432     63.152     -0.183      0.855    -135.448     112.362\n",
              "ratio_squared         -40.0512     11.775     -3.401      0.001     -63.153     -16.949\n",
              "=======================================================================================\n",
              "\n",
              "The condition number is large, 7.59e+07. This might indicate that there are\n",
              "strong multicollinearity or other numerical problems.\n",
              "\"\"\""
            ]
          },
          "metadata": {
            "tags": []
          },
          "execution_count": 78
        }
      ]
    },
    {
      "metadata": {
        "id": "bl5N0bmBrUAd",
        "colab_type": "code",
        "colab": {
          "base_uri": "https://localhost:8080/",
          "height": 454
        },
        "outputId": "fa76f462-79a2-4290-c9ba-12f6b8ce0d84"
      },
      "cell_type": "code",
      "source": [
        "#MODEL 4 - absolute shit\n",
        "#Changes: removed gestation features after they failed P above\n",
        "#gestation is critical to the regression working\n",
        "PValueClub = ['bwt','gestation', 'height', 'weight', 'smoke', 'gestation_squared',\n",
        "              'weight_squared', 'weight_height_ratio']\n",
        "newdf = bwt_df[PValueClub]\n",
        "newdf['ratio_squared'] = newdf['weight_height_ratio'] ** 2\n",
        "newdf = newdf.drop(columns=['gestation',\n",
        "                            'gestation_squared'])\n",
        "\n",
        "quant_formula = 'bwt ~ ' + ' + '.join(newdf.drop('bwt', axis='columns').columns)\n",
        "print(quant_formula)\n",
        "\n",
        "quant_mod = smf.quantreg(quant_formula, data=newdf)\n",
        "quant_reg = quant_mod.fit(q=.06)\n",
        "quant_reg.summary()"
      ],
      "execution_count": 79,
      "outputs": [
        {
          "output_type": "stream",
          "text": [
            "/usr/local/lib/python3.6/dist-packages/ipykernel_launcher.py:4: SettingWithCopyWarning: \n",
            "A value is trying to be set on a copy of a slice from a DataFrame.\n",
            "Try using .loc[row_indexer,col_indexer] = value instead\n",
            "\n",
            "See the caveats in the documentation: http://pandas.pydata.org/pandas-docs/stable/indexing.html#indexing-view-versus-copy\n",
            "  after removing the cwd from sys.path.\n"
          ],
          "name": "stderr"
        },
        {
          "output_type": "stream",
          "text": [
            "bwt ~ height + weight + smoke + weight_squared + weight_height_ratio + ratio_squared\n"
          ],
          "name": "stdout"
        },
        {
          "output_type": "execute_result",
          "data": {
            "text/html": [
              "<table class=\"simpletable\">\n",
              "<caption>QuantReg Regression Results</caption>\n",
              "<tr>\n",
              "  <th>Dep. Variable:</th>        <td>bwt</td>       <th>  Pseudo R-squared:  </th> <td> 0.04907</td>\n",
              "</tr>\n",
              "<tr>\n",
              "  <th>Model:</th>             <td>QuantReg</td>     <th>  Bandwidth:         </th> <td>   6.788</td>\n",
              "</tr>\n",
              "<tr>\n",
              "  <th>Method:</th>          <td>Least Squares</td>  <th>  Sparsity:          </th> <td>   164.1</td>\n",
              "</tr>\n",
              "<tr>\n",
              "  <th>Date:</th>          <td>Thu, 28 Feb 2019</td> <th>  No. Observations:  </th>  <td>  1174</td> \n",
              "</tr>\n",
              "<tr>\n",
              "  <th>Time:</th>              <td>01:22:33</td>     <th>  Df Residuals:      </th>  <td>  1167</td> \n",
              "</tr>\n",
              "<tr>\n",
              "  <th> </th>                      <td> </td>        <th>  Df Model:          </th>  <td>     6</td> \n",
              "</tr>\n",
              "</table>\n",
              "<table class=\"simpletable\">\n",
              "<tr>\n",
              "           <td></td>              <th>coef</th>     <th>std err</th>      <th>t</th>      <th>P>|t|</th>  <th>[0.025</th>    <th>0.975]</th>  \n",
              "</tr>\n",
              "<tr>\n",
              "  <th>Intercept</th>           <td>   36.0862</td> <td>  623.355</td> <td>    0.058</td> <td> 0.954</td> <td>-1186.935</td> <td> 1259.108</td>\n",
              "</tr>\n",
              "<tr>\n",
              "  <th>height</th>              <td>    0.3725</td> <td>    9.719</td> <td>    0.038</td> <td> 0.969</td> <td>  -18.696</td> <td>   19.441</td>\n",
              "</tr>\n",
              "<tr>\n",
              "  <th>weight</th>              <td>    0.0174</td> <td>    8.484</td> <td>    0.002</td> <td> 0.998</td> <td>  -16.628</td> <td>   16.662</td>\n",
              "</tr>\n",
              "<tr>\n",
              "  <th>smoke</th>               <td>  -11.8987</td> <td>    2.362</td> <td>   -5.037</td> <td> 0.000</td> <td>  -16.534</td> <td>   -7.264</td>\n",
              "</tr>\n",
              "<tr>\n",
              "  <th>weight_squared</th>      <td>-7.427e-05</td> <td>    0.014</td> <td>   -0.005</td> <td> 0.996</td> <td>   -0.028</td> <td>    0.028</td>\n",
              "</tr>\n",
              "<tr>\n",
              "  <th>weight_height_ratio</th> <td>   39.5254</td> <td>  545.711</td> <td>    0.072</td> <td> 0.942</td> <td>-1031.160</td> <td> 1110.210</td>\n",
              "</tr>\n",
              "<tr>\n",
              "  <th>ratio_squared</th>       <td>  -10.4876</td> <td>   59.974</td> <td>   -0.175</td> <td> 0.861</td> <td> -128.157</td> <td>  107.182</td>\n",
              "</tr>\n",
              "</table>"
            ],
            "text/plain": [
              "<class 'statsmodels.iolib.summary.Summary'>\n",
              "\"\"\"\n",
              "                         QuantReg Regression Results                          \n",
              "==============================================================================\n",
              "Dep. Variable:                    bwt   Pseudo R-squared:              0.04907\n",
              "Model:                       QuantReg   Bandwidth:                       6.788\n",
              "Method:                 Least Squares   Sparsity:                        164.1\n",
              "Date:                Thu, 28 Feb 2019   No. Observations:                 1174\n",
              "Time:                        01:22:33   Df Residuals:                     1167\n",
              "                                        Df Model:                            6\n",
              "=======================================================================================\n",
              "                          coef    std err          t      P>|t|      [0.025      0.975]\n",
              "---------------------------------------------------------------------------------------\n",
              "Intercept              36.0862    623.355      0.058      0.954   -1186.935    1259.108\n",
              "height                  0.3725      9.719      0.038      0.969     -18.696      19.441\n",
              "weight                  0.0174      8.484      0.002      0.998     -16.628      16.662\n",
              "smoke                 -11.8987      2.362     -5.037      0.000     -16.534      -7.264\n",
              "weight_squared      -7.427e-05      0.014     -0.005      0.996      -0.028       0.028\n",
              "weight_height_ratio    39.5254    545.711      0.072      0.942   -1031.160    1110.210\n",
              "ratio_squared         -10.4876     59.974     -0.175      0.861    -128.157     107.182\n",
              "=======================================================================================\n",
              "\n",
              "The condition number is large, 1.69e+07. This might indicate that there are\n",
              "strong multicollinearity or other numerical problems.\n",
              "\"\"\""
            ]
          },
          "metadata": {
            "tags": []
          },
          "execution_count": 79
        }
      ]
    },
    {
      "metadata": {
        "id": "28wU9syutuIy",
        "colab_type": "code",
        "colab": {
          "base_uri": "https://localhost:8080/",
          "height": 508
        },
        "outputId": "90c70e91-836e-4f32-d506-88f02be1ddb4"
      },
      "cell_type": "code",
      "source": [
        "#MODEL 5 - 20.54%\n",
        "#Changes: removed height as it only seems predictive insofar as its ratio\n",
        "#restored gest\n",
        "\n",
        "PValueClub = ['bwt','gestation', 'height', 'weight', 'smoke', 'gestation_squared',\n",
        "              'weight_squared', 'weight_height_ratio']\n",
        "newdf = bwt_df[PValueClub]\n",
        "newdf['ratio_squared'] = newdf['weight_height_ratio'] ** 2\n",
        "newdf = newdf.drop(columns=['height'])\n",
        "\n",
        "quant_formula = 'bwt ~ ' + ' + '.join(newdf.drop('bwt', axis='columns').columns)\n",
        "print(quant_formula)\n",
        "\n",
        "quant_mod = smf.quantreg(quant_formula, data=newdf)\n",
        "quant_reg = quant_mod.fit(q=.06)\n",
        "quant_reg.summary()\n",
        "\n",
        "#makes weight poly act strangely and increases the p values on everything"
      ],
      "execution_count": 80,
      "outputs": [
        {
          "output_type": "stream",
          "text": [
            "/usr/local/lib/python3.6/dist-packages/ipykernel_launcher.py:5: SettingWithCopyWarning: \n",
            "A value is trying to be set on a copy of a slice from a DataFrame.\n",
            "Try using .loc[row_indexer,col_indexer] = value instead\n",
            "\n",
            "See the caveats in the documentation: http://pandas.pydata.org/pandas-docs/stable/indexing.html#indexing-view-versus-copy\n",
            "  \"\"\"\n"
          ],
          "name": "stderr"
        },
        {
          "output_type": "stream",
          "text": [
            "bwt ~ gestation + weight + smoke + gestation_squared + weight_squared + weight_height_ratio + ratio_squared\n"
          ],
          "name": "stdout"
        },
        {
          "output_type": "stream",
          "text": [
            "/usr/local/lib/python3.6/dist-packages/statsmodels/regression/quantile_regression.py:193: IterationLimitWarning: Maximum number of iterations (1000) reached.\n",
            "  \") reached.\", IterationLimitWarning)\n"
          ],
          "name": "stderr"
        },
        {
          "output_type": "execute_result",
          "data": {
            "text/html": [
              "<table class=\"simpletable\">\n",
              "<caption>QuantReg Regression Results</caption>\n",
              "<tr>\n",
              "  <th>Dep. Variable:</th>        <td>bwt</td>       <th>  Pseudo R-squared:  </th> <td>  0.2054</td>\n",
              "</tr>\n",
              "<tr>\n",
              "  <th>Model:</th>             <td>QuantReg</td>     <th>  Bandwidth:         </th> <td>   6.314</td>\n",
              "</tr>\n",
              "<tr>\n",
              "  <th>Method:</th>          <td>Least Squares</td>  <th>  Sparsity:          </th> <td>   108.6</td>\n",
              "</tr>\n",
              "<tr>\n",
              "  <th>Date:</th>          <td>Thu, 28 Feb 2019</td> <th>  No. Observations:  </th>  <td>  1174</td> \n",
              "</tr>\n",
              "<tr>\n",
              "  <th>Time:</th>              <td>01:30:44</td>     <th>  Df Residuals:      </th>  <td>  1166</td> \n",
              "</tr>\n",
              "<tr>\n",
              "  <th> </th>                      <td> </td>        <th>  Df Model:          </th>  <td>     7</td> \n",
              "</tr>\n",
              "</table>\n",
              "<table class=\"simpletable\">\n",
              "<tr>\n",
              "           <td></td>              <th>coef</th>     <th>std err</th>      <th>t</th>      <th>P>|t|</th>  <th>[0.025</th>    <th>0.975]</th>  \n",
              "</tr>\n",
              "<tr>\n",
              "  <th>Intercept</th>           <td> -115.9561</td> <td>  130.207</td> <td>   -0.891</td> <td> 0.373</td> <td> -371.422</td> <td>  139.510</td>\n",
              "</tr>\n",
              "<tr>\n",
              "  <th>gestation</th>           <td>    0.9016</td> <td>    0.941</td> <td>    0.958</td> <td> 0.338</td> <td>   -0.946</td> <td>    2.749</td>\n",
              "</tr>\n",
              "<tr>\n",
              "  <th>weight</th>              <td>    0.5955</td> <td>    0.831</td> <td>    0.717</td> <td> 0.474</td> <td>   -1.034</td> <td>    2.225</td>\n",
              "</tr>\n",
              "<tr>\n",
              "  <th>smoke</th>               <td>   -9.6620</td> <td>    1.637</td> <td>   -5.901</td> <td> 0.000</td> <td>  -12.874</td> <td>   -6.450</td>\n",
              "</tr>\n",
              "<tr>\n",
              "  <th>gestation_squared</th>   <td>   -0.0009</td> <td>    0.002</td> <td>   -0.507</td> <td> 0.613</td> <td>   -0.004</td> <td>    0.003</td>\n",
              "</tr>\n",
              "<tr>\n",
              "  <th>weight_squared</th>      <td>   -0.0005</td> <td>    0.003</td> <td>   -0.190</td> <td> 0.850</td> <td>   -0.006</td> <td>    0.005</td>\n",
              "</tr>\n",
              "<tr>\n",
              "  <th>weight_height_ratio</th> <td>    0.9336</td> <td>   57.168</td> <td>    0.016</td> <td> 0.987</td> <td> -111.230</td> <td>  113.097</td>\n",
              "</tr>\n",
              "<tr>\n",
              "  <th>ratio_squared</th>       <td>   -8.6678</td> <td>   12.334</td> <td>   -0.703</td> <td> 0.482</td> <td>  -32.868</td> <td>   15.532</td>\n",
              "</tr>\n",
              "</table>"
            ],
            "text/plain": [
              "<class 'statsmodels.iolib.summary.Summary'>\n",
              "\"\"\"\n",
              "                         QuantReg Regression Results                          \n",
              "==============================================================================\n",
              "Dep. Variable:                    bwt   Pseudo R-squared:               0.2054\n",
              "Model:                       QuantReg   Bandwidth:                       6.314\n",
              "Method:                 Least Squares   Sparsity:                        108.6\n",
              "Date:                Thu, 28 Feb 2019   No. Observations:                 1174\n",
              "Time:                        01:30:44   Df Residuals:                     1166\n",
              "                                        Df Model:                            7\n",
              "=======================================================================================\n",
              "                          coef    std err          t      P>|t|      [0.025      0.975]\n",
              "---------------------------------------------------------------------------------------\n",
              "Intercept            -115.9561    130.207     -0.891      0.373    -371.422     139.510\n",
              "gestation               0.9016      0.941      0.958      0.338      -0.946       2.749\n",
              "weight                  0.5955      0.831      0.717      0.474      -1.034       2.225\n",
              "smoke                  -9.6620      1.637     -5.901      0.000     -12.874      -6.450\n",
              "gestation_squared      -0.0009      0.002     -0.507      0.613      -0.004       0.003\n",
              "weight_squared         -0.0005      0.003     -0.190      0.850      -0.006       0.005\n",
              "weight_height_ratio     0.9336     57.168      0.016      0.987    -111.230     113.097\n",
              "ratio_squared          -8.6678     12.334     -0.703      0.482     -32.868      15.532\n",
              "=======================================================================================\n",
              "\n",
              "The condition number is large, 8.88e+06. This might indicate that there are\n",
              "strong multicollinearity or other numerical problems.\n",
              "\"\"\""
            ]
          },
          "metadata": {
            "tags": []
          },
          "execution_count": 80
        }
      ]
    },
    {
      "metadata": {
        "id": "UmA5KKjPvsc9",
        "colab_type": "code",
        "colab": {
          "base_uri": "https://localhost:8080/",
          "height": 615
        },
        "outputId": "b51545a2-17e5-4843-e852-90102b755fa2"
      },
      "cell_type": "code",
      "source": [
        "#LAST MODEL - 22.61%\n",
        "#Changes: did the opposite to 5 and added height^2\n",
        "#if it has a relationship it is probably not linear\n",
        "#Result: one of the better scores, bad p values\n",
        "#makes height look a lot more relevant; is probably inaccurate\n",
        "\n",
        "PValueClub = ['bwt','gestation', 'height', 'weight', 'smoke', 'gestation_squared',\n",
        "              'weight_squared', 'weight_height_ratio']\n",
        "newdf = bwt_df[PValueClub]\n",
        "newdf['ratio_squared'] = newdf['weight_height_ratio'] ** 2\n",
        "newdf['height_squared'] = newdf['height'] ** 2\n",
        "\n",
        "quant_formula = 'bwt ~ ' + ' + '.join(newdf.drop('bwt', axis='columns').columns)\n",
        "print(quant_formula)\n",
        "\n",
        "quant_mod = smf.quantreg(quant_formula, data=newdf)\n",
        "quant_reg = quant_mod.fit(q=.06)\n",
        "quant_reg.summary()"
      ],
      "execution_count": 81,
      "outputs": [
        {
          "output_type": "stream",
          "text": [
            "bwt ~ gestation + height + weight + smoke + gestation_squared + weight_squared + weight_height_ratio + ratio_squared + height_squared\n"
          ],
          "name": "stdout"
        },
        {
          "output_type": "stream",
          "text": [
            "/usr/local/lib/python3.6/dist-packages/ipykernel_launcher.py:5: SettingWithCopyWarning: \n",
            "A value is trying to be set on a copy of a slice from a DataFrame.\n",
            "Try using .loc[row_indexer,col_indexer] = value instead\n",
            "\n",
            "See the caveats in the documentation: http://pandas.pydata.org/pandas-docs/stable/indexing.html#indexing-view-versus-copy\n",
            "  \"\"\"\n",
            "/usr/local/lib/python3.6/dist-packages/ipykernel_launcher.py:6: SettingWithCopyWarning: \n",
            "A value is trying to be set on a copy of a slice from a DataFrame.\n",
            "Try using .loc[row_indexer,col_indexer] = value instead\n",
            "\n",
            "See the caveats in the documentation: http://pandas.pydata.org/pandas-docs/stable/indexing.html#indexing-view-versus-copy\n",
            "  \n"
          ],
          "name": "stderr"
        },
        {
          "output_type": "execute_result",
          "data": {
            "text/html": [
              "<table class=\"simpletable\">\n",
              "<caption>QuantReg Regression Results</caption>\n",
              "<tr>\n",
              "  <th>Dep. Variable:</th>        <td>bwt</td>       <th>  Pseudo R-squared:  </th> <td>  0.2261</td>\n",
              "</tr>\n",
              "<tr>\n",
              "  <th>Model:</th>             <td>QuantReg</td>     <th>  Bandwidth:         </th> <td>   6.097</td>\n",
              "</tr>\n",
              "<tr>\n",
              "  <th>Method:</th>          <td>Least Squares</td>  <th>  Sparsity:          </th> <td>   122.6</td>\n",
              "</tr>\n",
              "<tr>\n",
              "  <th>Date:</th>          <td>Thu, 28 Feb 2019</td> <th>  No. Observations:  </th>  <td>  1174</td> \n",
              "</tr>\n",
              "<tr>\n",
              "  <th>Time:</th>              <td>01:39:14</td>     <th>  Df Residuals:      </th>  <td>  1164</td> \n",
              "</tr>\n",
              "<tr>\n",
              "  <th> </th>                      <td> </td>        <th>  Df Model:          </th>  <td>     9</td> \n",
              "</tr>\n",
              "</table>\n",
              "<table class=\"simpletable\">\n",
              "<tr>\n",
              "           <td></td>              <th>coef</th>     <th>std err</th>      <th>t</th>      <th>P>|t|</th>  <th>[0.025</th>    <th>0.975]</th>  \n",
              "</tr>\n",
              "<tr>\n",
              "  <th>Intercept</th>           <td>   -0.5519</td> <td>  111.647</td> <td>   -0.005</td> <td> 0.996</td> <td> -219.604</td> <td>  218.500</td>\n",
              "</tr>\n",
              "<tr>\n",
              "  <th>gestation</th>           <td>    3.5870</td> <td>    0.561</td> <td>    6.394</td> <td> 0.000</td> <td>    2.486</td> <td>    4.688</td>\n",
              "</tr>\n",
              "<tr>\n",
              "  <th>height</th>              <td>  -15.3635</td> <td>    6.650</td> <td>   -2.310</td> <td> 0.021</td> <td>  -28.411</td> <td>   -2.316</td>\n",
              "</tr>\n",
              "<tr>\n",
              "  <th>weight</th>              <td>    0.9855</td> <td>    2.775</td> <td>    0.355</td> <td> 0.723</td> <td>   -4.459</td> <td>    6.430</td>\n",
              "</tr>\n",
              "<tr>\n",
              "  <th>smoke</th>               <td>   -9.6719</td> <td>    1.784</td> <td>   -5.420</td> <td> 0.000</td> <td>  -13.173</td> <td>   -6.171</td>\n",
              "</tr>\n",
              "<tr>\n",
              "  <th>gestation_squared</th>   <td>   -0.0056</td> <td>    0.001</td> <td>   -5.180</td> <td> 0.000</td> <td>   -0.008</td> <td>   -0.003</td>\n",
              "</tr>\n",
              "<tr>\n",
              "  <th>weight_squared</th>      <td>   -0.0004</td> <td>    0.005</td> <td>   -0.075</td> <td> 0.940</td> <td>   -0.011</td> <td>    0.010</td>\n",
              "</tr>\n",
              "<tr>\n",
              "  <th>weight_height_ratio</th> <td>   -1.8033</td> <td>  178.973</td> <td>   -0.010</td> <td> 0.992</td> <td> -352.949</td> <td>  349.342</td>\n",
              "</tr>\n",
              "<tr>\n",
              "  <th>ratio_squared</th>       <td>  -13.7754</td> <td>   22.129</td> <td>   -0.623</td> <td> 0.534</td> <td>  -57.192</td> <td>   29.641</td>\n",
              "</tr>\n",
              "<tr>\n",
              "  <th>height_squared</th>      <td>    0.1124</td> <td>    0.076</td> <td>    1.481</td> <td> 0.139</td> <td>   -0.036</td> <td>    0.261</td>\n",
              "</tr>\n",
              "</table>"
            ],
            "text/plain": [
              "<class 'statsmodels.iolib.summary.Summary'>\n",
              "\"\"\"\n",
              "                         QuantReg Regression Results                          \n",
              "==============================================================================\n",
              "Dep. Variable:                    bwt   Pseudo R-squared:               0.2261\n",
              "Model:                       QuantReg   Bandwidth:                       6.097\n",
              "Method:                 Least Squares   Sparsity:                        122.6\n",
              "Date:                Thu, 28 Feb 2019   No. Observations:                 1174\n",
              "Time:                        01:39:14   Df Residuals:                     1164\n",
              "                                        Df Model:                            9\n",
              "=======================================================================================\n",
              "                          coef    std err          t      P>|t|      [0.025      0.975]\n",
              "---------------------------------------------------------------------------------------\n",
              "Intercept              -0.5519    111.647     -0.005      0.996    -219.604     218.500\n",
              "gestation               3.5870      0.561      6.394      0.000       2.486       4.688\n",
              "height                -15.3635      6.650     -2.310      0.021     -28.411      -2.316\n",
              "weight                  0.9855      2.775      0.355      0.723      -4.459       6.430\n",
              "smoke                  -9.6719      1.784     -5.420      0.000     -13.173      -6.171\n",
              "gestation_squared      -0.0056      0.001     -5.180      0.000      -0.008      -0.003\n",
              "weight_squared         -0.0004      0.005     -0.075      0.940      -0.011       0.010\n",
              "weight_height_ratio    -1.8033    178.973     -0.010      0.992    -352.949     349.342\n",
              "ratio_squared         -13.7754     22.129     -0.623      0.534     -57.192      29.641\n",
              "height_squared          0.1124      0.076      1.481      0.139      -0.036       0.261\n",
              "=======================================================================================\n",
              "\n",
              "The condition number is large, 1.07e+08. This might indicate that there are\n",
              "strong multicollinearity or other numerical problems.\n",
              "\"\"\""
            ]
          },
          "metadata": {
            "tags": []
          },
          "execution_count": 81
        }
      ]
    },
    {
      "metadata": {
        "id": "eoZh0zASaIgi",
        "colab_type": "text"
      },
      "cell_type": "markdown",
      "source": [
        " I am basing these observations on **Model 2**, for having the best combination of r2 and feature P values.\n",
        " \n",
        "**What characteristics of a mother indicate the highest likelihood of an at-risk (low weight) baby?**\n",
        "\n",
        "I found the largest coefficients in the negative direction to be whether a mother smoked while gestating (meaning values above the 0.06 percentile, babies above 91 ounces, strongly trended to 0 on that binary rather than 1) and the mothers' weight over height ratio (meaning babies strongly trended to lower ratios). We can be less certain about the weight ratio relationship than smoking because its p value would jump around when you add and remove features, and its overwhelmingly high coefficient compared to any other variable indicates something MUST be up but the accuracy's partially comprimised.\n",
        "\n",
        "**What can expectant mothers be told to help mitigate this risk?**\n",
        "\n",
        "If you smoke you are far more likely to carry a child below 90 ounces who is then far more likely to have health complications. This combined with the known genetic damage caused by smoking makes me strongly advise being on a hormonal birth control in periods of life while you are smoking, and getting counseling to stop when you decide you want children. It's believed you having a large weight to height, as well, puts children at risk. Please don't worry about having a higher risk with age should you need to take time to lose weight or recover from addiction. There was nothing in our analysis to prove this relationship was more than chance while smoking, no matter what I did to the dataset, was always a strongly negative test statistic at a very low P value."
      ]
    },
    {
      "metadata": {
        "id": "XpHuKDoV1A6P",
        "colab_type": "code",
        "colab": {
          "base_uri": "https://localhost:8080/",
          "height": 164
        },
        "outputId": "622cadf1-eda6-4832-e870-26877ee32d91"
      },
      "cell_type": "code",
      "source": [
        "PValueClub = ['bwt','gestation', 'height', 'weight', 'smoke', 'gestation_squared',\n",
        "              'weight_squared', 'weight_height_ratio']\n",
        "newdf = bwt_df[PValueClub]\n",
        "print('The Coorelation of Birth Weight to Features:')\n",
        "print('Smoking is the only feature unambiguously anticorrelated.')\n",
        "print('We can imagine weight and weight ratio being a U curve where a too low weight')\n",
        "print('is bad, too, so the relationship is muddled a bit in simple coorelation.')\n",
        "corr = newdf.corr()\n",
        "corr.head(1)"
      ],
      "execution_count": 100,
      "outputs": [
        {
          "output_type": "stream",
          "text": [
            "The Coorelation of Birth Weight to Features:\n",
            "Smoking is the only feature unambiguously anticorrelated.\n",
            "We can imagine weight and weight ratio being a U curve where a too low weight\n",
            "is bad, too, so the relationship is muddled a bit in simple coorelation.\n"
          ],
          "name": "stdout"
        },
        {
          "output_type": "execute_result",
          "data": {
            "text/html": [
              "<div>\n",
              "<style scoped>\n",
              "    .dataframe tbody tr th:only-of-type {\n",
              "        vertical-align: middle;\n",
              "    }\n",
              "\n",
              "    .dataframe tbody tr th {\n",
              "        vertical-align: top;\n",
              "    }\n",
              "\n",
              "    .dataframe thead th {\n",
              "        text-align: right;\n",
              "    }\n",
              "</style>\n",
              "<table border=\"1\" class=\"dataframe\">\n",
              "  <thead>\n",
              "    <tr style=\"text-align: right;\">\n",
              "      <th></th>\n",
              "      <th>bwt</th>\n",
              "      <th>gestation</th>\n",
              "      <th>height</th>\n",
              "      <th>weight</th>\n",
              "      <th>smoke</th>\n",
              "      <th>gestation_squared</th>\n",
              "      <th>weight_squared</th>\n",
              "      <th>weight_height_ratio</th>\n",
              "    </tr>\n",
              "  </thead>\n",
              "  <tbody>\n",
              "    <tr>\n",
              "      <th>bwt</th>\n",
              "      <td>1.0</td>\n",
              "      <td>0.407543</td>\n",
              "      <td>0.203704</td>\n",
              "      <td>0.155923</td>\n",
              "      <td>-0.2468</td>\n",
              "      <td>0.403542</td>\n",
              "      <td>0.143954</td>\n",
              "      <td>0.115705</td>\n",
              "    </tr>\n",
              "  </tbody>\n",
              "</table>\n",
              "</div>"
            ],
            "text/plain": [
              "     bwt  gestation    height    weight   smoke  gestation_squared  \\\n",
              "bwt  1.0   0.407543  0.203704  0.155923 -0.2468           0.403542   \n",
              "\n",
              "     weight_squared  weight_height_ratio  \n",
              "bwt        0.143954             0.115705  "
            ]
          },
          "metadata": {
            "tags": []
          },
          "execution_count": 100
        }
      ]
    },
    {
      "metadata": {
        "id": "UFFUbm6p7vST",
        "colab_type": "code",
        "colab": {
          "base_uri": "https://localhost:8080/",
          "height": 130
        },
        "outputId": "1b4d363e-0197-4141-f188-24ebbc097a72"
      },
      "cell_type": "code",
      "source": [
        "newdf = bwt_df[PValueClub]\n",
        "newdf = newdf[newdf.bwt > 91]\n",
        "print('The Same Corr Table Only For Weights Above 91 oz')\n",
        "print('Gestation becomes less relevant as height, weight and their ratio increases relevance')\n",
        "corr = newdf.corr()\n",
        "corr.head(1)"
      ],
      "execution_count": 105,
      "outputs": [
        {
          "output_type": "stream",
          "text": [
            "The Same Corr Table Only For Weights Above 91 oz\n",
            "Gestation becomes less relevant as height, weight and their ratio increases relevance\n"
          ],
          "name": "stdout"
        },
        {
          "output_type": "execute_result",
          "data": {
            "text/html": [
              "<div>\n",
              "<style scoped>\n",
              "    .dataframe tbody tr th:only-of-type {\n",
              "        vertical-align: middle;\n",
              "    }\n",
              "\n",
              "    .dataframe tbody tr th {\n",
              "        vertical-align: top;\n",
              "    }\n",
              "\n",
              "    .dataframe thead th {\n",
              "        text-align: right;\n",
              "    }\n",
              "</style>\n",
              "<table border=\"1\" class=\"dataframe\">\n",
              "  <thead>\n",
              "    <tr style=\"text-align: right;\">\n",
              "      <th></th>\n",
              "      <th>bwt</th>\n",
              "      <th>gestation</th>\n",
              "      <th>height</th>\n",
              "      <th>weight</th>\n",
              "      <th>smoke</th>\n",
              "      <th>gestation_squared</th>\n",
              "      <th>weight_squared</th>\n",
              "      <th>weight_height_ratio</th>\n",
              "    </tr>\n",
              "  </thead>\n",
              "  <tbody>\n",
              "    <tr>\n",
              "      <th>bwt</th>\n",
              "      <td>1.0</td>\n",
              "      <td>0.278384</td>\n",
              "      <td>0.216623</td>\n",
              "      <td>0.191024</td>\n",
              "      <td>-0.225583</td>\n",
              "      <td>0.277956</td>\n",
              "      <td>0.180229</td>\n",
              "      <td>0.150055</td>\n",
              "    </tr>\n",
              "  </tbody>\n",
              "</table>\n",
              "</div>"
            ],
            "text/plain": [
              "     bwt  gestation    height    weight     smoke  gestation_squared  \\\n",
              "bwt  1.0   0.278384  0.216623  0.191024 -0.225583           0.277956   \n",
              "\n",
              "     weight_squared  weight_height_ratio  \n",
              "bwt        0.180229             0.150055  "
            ]
          },
          "metadata": {
            "tags": []
          },
          "execution_count": 105
        }
      ]
    },
    {
      "metadata": {
        "id": "7Smf4rrv4_9h",
        "colab_type": "code",
        "colab": {
          "base_uri": "https://localhost:8080/",
          "height": 368
        },
        "outputId": "81c19468-44ce-49cd-f4cc-cf8f3a65eb21"
      },
      "cell_type": "code",
      "source": [
        "import matplotlib.pyplot as plt\n",
        "newdf = bwt_df[PValueClub]\n",
        "newdf = newdf[newdf.bwt <= 91]\n",
        "plt.scatter(newdf['weight_height_ratio'], newdf['bwt'])\n",
        "plt.title('Scatterplots of weight over height over birthweights less than 91 lbs')\n",
        "plt.show()"
      ],
      "execution_count": 108,
      "outputs": [
        {
          "output_type": "display_data",
          "data": {
            "image/png": "[encoded data removed]",
            "text/plain": [
              "<Figure size 576x396 with 1 Axes>"
            ]
          },
          "metadata": {
            "tags": []
          }
        }
      ]
    },
    {
      "metadata": {
        "id": "pMy0zNSJ9PWt",
        "colab_type": "code",
        "colab": {
          "base_uri": "https://localhost:8080/",
          "height": 368
        },
        "outputId": "428d5f30-c42b-449b-eff2-6b9d1f139ba6"
      },
      "cell_type": "code",
      "source": [
        "newdf = bwt_df[PValueClub]\n",
        "newdf = newdf[newdf.bwt <= 91]\n",
        "plt.scatter(newdf['smoke'], newdf['bwt'])\n",
        "plt.title('Scatterplot of smoking status over birthweights less than 91 lbs')\n",
        "plt.show()"
      ],
      "execution_count": 111,
      "outputs": [
        {
          "output_type": "display_data",
          "data": {
            "image/png": "[encoded data removed]",
            "text/plain": [
              "<Figure size 576x396 with 1 Axes>"
            ]
          },
          "metadata": {
            "tags": []
          }
        }
      ]
    },
    {
      "metadata": {
        "id": "XY9JGAnJisdB",
        "colab_type": "text"
      },
      "cell_type": "markdown",
      "source": [
        "## Resources and stretch goals"
      ]
    },
    {
      "metadata": {
        "id": "inFWXSpqmND5",
        "colab_type": "text"
      },
      "cell_type": "markdown",
      "source": [
        "Resources:\n",
        "- [statsmodels QuantReg example](http://www.statsmodels.org/dev/examples/notebooks/generated/quantile_regression.html)\n",
        "- [How Shopify used Quantile Regression in modeling risk](https://medium.com/data-shopify/how-shopify-capital-uses-quantile-regression-to-help-merchants-succeed-10ee1b36b17d)\n",
        "\n",
        "Stretch goals:\n",
        "- Find a dataset where you think quantile regression may be appropriate, and try both it and linear regression - compare/contrast their strengths/weaknesses, and write a summary for which you think is better for the situation and why\n",
        "- Check out [deep quantile regression](https://www.kdnuggets.com/2018/07/deep-quantile-regression.html), an approach that uses a custom quantile loss function and Keras to train a quantile model"
      ]
    }
  ]
}