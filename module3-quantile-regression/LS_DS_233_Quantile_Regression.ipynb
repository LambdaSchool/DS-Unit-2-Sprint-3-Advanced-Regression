{
  "nbformat": 4,
  "nbformat_minor": 0,
  "metadata": {
    "colab": {
      "name": "LS_DS_233_Quantile_Regression.ipynb",
      "version": "0.3.2",
      "provenance": [],
      "include_colab_link": true
    },
    "kernelspec": {
      "name": "python3",
      "display_name": "Python 3"
    }
  },
  "cells": [
    {
      "cell_type": "markdown",
      "metadata": {
        "id": "view-in-github",
        "colab_type": "text"
      },
      "source": [
        "<a href=\"https://colab.research.google.com/github/cocoisland/DS-Unit-2-Sprint-3-Advanced-Regression/blob/master/module3-quantile-regression/LS_DS_233_Quantile_Regression.ipynb\" target=\"_parent\"><img src=\"https://colab.research.google.com/assets/colab-badge.svg\" alt=\"Open In Colab\"/></a>"
      ]
    },
    {
      "metadata": {
        "id": "SV7gaADiicnV",
        "colab_type": "text"
      },
      "cell_type": "markdown",
      "source": [
        "# Lambda School Data Science - Quantile Regression\n",
        "\n",
        "Regressing towards the median - or any quantile - as a way to mitigate outliers and control risk."
      ]
    },
    {
      "metadata": {
        "id": "6klMj4q3iqMh",
        "colab_type": "text"
      },
      "cell_type": "markdown",
      "source": [
        "## Lecture\n",
        "\n",
        "Let's look at data that has a bit of a skew to it:\n",
        "\n",
        "http://archive.ics.uci.edu/ml/datasets/Beijing+PM2.5+Data"
      ]
    },
    {
      "metadata": {
        "id": "yw1AD_z9O0xL",
        "colab_type": "code",
        "colab": {}
      },
      "cell_type": "code",
      "source": [
        "import pandas as pd\n",
        "df = pd.read_csv('http://archive.ics.uci.edu/ml/machine-learning-databases/'\n",
        "                 '00381/PRSA_data_2010.1.1-2014.12.31.csv')"
      ],
      "execution_count": 0,
      "outputs": []
    },
    {
      "metadata": {
        "id": "RTlH1lJ8PDv5",
        "colab_type": "code",
        "outputId": "18dd74c7-95a8-4b24-dd36-60e61aada3d0",
        "colab": {
          "base_uri": "https://localhost:8080/",
          "height": 198
        }
      },
      "cell_type": "code",
      "source": [
        "df.head()"
      ],
      "execution_count": 0,
      "outputs": [
        {
          "output_type": "execute_result",
          "data": {
            "text/html": [
              "<div>\n",
              "<style scoped>\n",
              "    .dataframe tbody tr th:only-of-type {\n",
              "        vertical-align: middle;\n",
              "    }\n",
              "\n",
              "    .dataframe tbody tr th {\n",
              "        vertical-align: top;\n",
              "    }\n",
              "\n",
              "    .dataframe thead th {\n",
              "        text-align: right;\n",
              "    }\n",
              "</style>\n",
              "<table border=\"1\" class=\"dataframe\">\n",
              "  <thead>\n",
              "    <tr style=\"text-align: right;\">\n",
              "      <th></th>\n",
              "      <th>No</th>\n",
              "      <th>year</th>\n",
              "      <th>month</th>\n",
              "      <th>day</th>\n",
              "      <th>hour</th>\n",
              "      <th>pm2.5</th>\n",
              "      <th>DEWP</th>\n",
              "      <th>TEMP</th>\n",
              "      <th>PRES</th>\n",
              "      <th>cbwd</th>\n",
              "      <th>Iws</th>\n",
              "      <th>Is</th>\n",
              "      <th>Ir</th>\n",
              "    </tr>\n",
              "  </thead>\n",
              "  <tbody>\n",
              "    <tr>\n",
              "      <th>0</th>\n",
              "      <td>1</td>\n",
              "      <td>2010</td>\n",
              "      <td>1</td>\n",
              "      <td>1</td>\n",
              "      <td>0</td>\n",
              "      <td>NaN</td>\n",
              "      <td>-21</td>\n",
              "      <td>-11.0</td>\n",
              "      <td>1021.0</td>\n",
              "      <td>NW</td>\n",
              "      <td>1.79</td>\n",
              "      <td>0</td>\n",
              "      <td>0</td>\n",
              "    </tr>\n",
              "    <tr>\n",
              "      <th>1</th>\n",
              "      <td>2</td>\n",
              "      <td>2010</td>\n",
              "      <td>1</td>\n",
              "      <td>1</td>\n",
              "      <td>1</td>\n",
              "      <td>NaN</td>\n",
              "      <td>-21</td>\n",
              "      <td>-12.0</td>\n",
              "      <td>1020.0</td>\n",
              "      <td>NW</td>\n",
              "      <td>4.92</td>\n",
              "      <td>0</td>\n",
              "      <td>0</td>\n",
              "    </tr>\n",
              "    <tr>\n",
              "      <th>2</th>\n",
              "      <td>3</td>\n",
              "      <td>2010</td>\n",
              "      <td>1</td>\n",
              "      <td>1</td>\n",
              "      <td>2</td>\n",
              "      <td>NaN</td>\n",
              "      <td>-21</td>\n",
              "      <td>-11.0</td>\n",
              "      <td>1019.0</td>\n",
              "      <td>NW</td>\n",
              "      <td>6.71</td>\n",
              "      <td>0</td>\n",
              "      <td>0</td>\n",
              "    </tr>\n",
              "    <tr>\n",
              "      <th>3</th>\n",
              "      <td>4</td>\n",
              "      <td>2010</td>\n",
              "      <td>1</td>\n",
              "      <td>1</td>\n",
              "      <td>3</td>\n",
              "      <td>NaN</td>\n",
              "      <td>-21</td>\n",
              "      <td>-14.0</td>\n",
              "      <td>1019.0</td>\n",
              "      <td>NW</td>\n",
              "      <td>9.84</td>\n",
              "      <td>0</td>\n",
              "      <td>0</td>\n",
              "    </tr>\n",
              "    <tr>\n",
              "      <th>4</th>\n",
              "      <td>5</td>\n",
              "      <td>2010</td>\n",
              "      <td>1</td>\n",
              "      <td>1</td>\n",
              "      <td>4</td>\n",
              "      <td>NaN</td>\n",
              "      <td>-20</td>\n",
              "      <td>-12.0</td>\n",
              "      <td>1018.0</td>\n",
              "      <td>NW</td>\n",
              "      <td>12.97</td>\n",
              "      <td>0</td>\n",
              "      <td>0</td>\n",
              "    </tr>\n",
              "  </tbody>\n",
              "</table>\n",
              "</div>"
            ],
            "text/plain": [
              "   No  year  month  day  hour  pm2.5  DEWP  TEMP    PRES cbwd    Iws  Is  Ir\n",
              "0   1  2010      1    1     0    NaN   -21 -11.0  1021.0   NW   1.79   0   0\n",
              "1   2  2010      1    1     1    NaN   -21 -12.0  1020.0   NW   4.92   0   0\n",
              "2   3  2010      1    1     2    NaN   -21 -11.0  1019.0   NW   6.71   0   0\n",
              "3   4  2010      1    1     3    NaN   -21 -14.0  1019.0   NW   9.84   0   0\n",
              "4   5  2010      1    1     4    NaN   -20 -12.0  1018.0   NW  12.97   0   0"
            ]
          },
          "metadata": {
            "tags": []
          },
          "execution_count": 2
        }
      ]
    },
    {
      "metadata": {
        "id": "m-yC9OSPPFo8",
        "colab_type": "code",
        "outputId": "375ed4bc-988a-47d2-ff87-85a143882e5c",
        "colab": {
          "base_uri": "https://localhost:8080/",
          "height": 308
        }
      },
      "cell_type": "code",
      "source": [
        "df.describe()"
      ],
      "execution_count": 0,
      "outputs": [
        {
          "output_type": "execute_result",
          "data": {
            "text/html": [
              "<div>\n",
              "<style scoped>\n",
              "    .dataframe tbody tr th:only-of-type {\n",
              "        vertical-align: middle;\n",
              "    }\n",
              "\n",
              "    .dataframe tbody tr th {\n",
              "        vertical-align: top;\n",
              "    }\n",
              "\n",
              "    .dataframe thead th {\n",
              "        text-align: right;\n",
              "    }\n",
              "</style>\n",
              "<table border=\"1\" class=\"dataframe\">\n",
              "  <thead>\n",
              "    <tr style=\"text-align: right;\">\n",
              "      <th></th>\n",
              "      <th>No</th>\n",
              "      <th>year</th>\n",
              "      <th>month</th>\n",
              "      <th>day</th>\n",
              "      <th>hour</th>\n",
              "      <th>pm2.5</th>\n",
              "      <th>DEWP</th>\n",
              "      <th>TEMP</th>\n",
              "      <th>PRES</th>\n",
              "      <th>Iws</th>\n",
              "      <th>Is</th>\n",
              "      <th>Ir</th>\n",
              "    </tr>\n",
              "  </thead>\n",
              "  <tbody>\n",
              "    <tr>\n",
              "      <th>count</th>\n",
              "      <td>43824.000000</td>\n",
              "      <td>43824.000000</td>\n",
              "      <td>43824.000000</td>\n",
              "      <td>43824.000000</td>\n",
              "      <td>43824.000000</td>\n",
              "      <td>41757.000000</td>\n",
              "      <td>43824.000000</td>\n",
              "      <td>43824.000000</td>\n",
              "      <td>43824.000000</td>\n",
              "      <td>43824.000000</td>\n",
              "      <td>43824.000000</td>\n",
              "      <td>43824.000000</td>\n",
              "    </tr>\n",
              "    <tr>\n",
              "      <th>mean</th>\n",
              "      <td>21912.500000</td>\n",
              "      <td>2012.000000</td>\n",
              "      <td>6.523549</td>\n",
              "      <td>15.727820</td>\n",
              "      <td>11.500000</td>\n",
              "      <td>98.613215</td>\n",
              "      <td>1.817246</td>\n",
              "      <td>12.448521</td>\n",
              "      <td>1016.447654</td>\n",
              "      <td>23.889140</td>\n",
              "      <td>0.052734</td>\n",
              "      <td>0.194916</td>\n",
              "    </tr>\n",
              "    <tr>\n",
              "      <th>std</th>\n",
              "      <td>12651.043435</td>\n",
              "      <td>1.413842</td>\n",
              "      <td>3.448572</td>\n",
              "      <td>8.799425</td>\n",
              "      <td>6.922266</td>\n",
              "      <td>92.050387</td>\n",
              "      <td>14.433440</td>\n",
              "      <td>12.198613</td>\n",
              "      <td>10.268698</td>\n",
              "      <td>50.010635</td>\n",
              "      <td>0.760375</td>\n",
              "      <td>1.415867</td>\n",
              "    </tr>\n",
              "    <tr>\n",
              "      <th>min</th>\n",
              "      <td>1.000000</td>\n",
              "      <td>2010.000000</td>\n",
              "      <td>1.000000</td>\n",
              "      <td>1.000000</td>\n",
              "      <td>0.000000</td>\n",
              "      <td>0.000000</td>\n",
              "      <td>-40.000000</td>\n",
              "      <td>-19.000000</td>\n",
              "      <td>991.000000</td>\n",
              "      <td>0.450000</td>\n",
              "      <td>0.000000</td>\n",
              "      <td>0.000000</td>\n",
              "    </tr>\n",
              "    <tr>\n",
              "      <th>25%</th>\n",
              "      <td>10956.750000</td>\n",
              "      <td>2011.000000</td>\n",
              "      <td>4.000000</td>\n",
              "      <td>8.000000</td>\n",
              "      <td>5.750000</td>\n",
              "      <td>29.000000</td>\n",
              "      <td>-10.000000</td>\n",
              "      <td>2.000000</td>\n",
              "      <td>1008.000000</td>\n",
              "      <td>1.790000</td>\n",
              "      <td>0.000000</td>\n",
              "      <td>0.000000</td>\n",
              "    </tr>\n",
              "    <tr>\n",
              "      <th>50%</th>\n",
              "      <td>21912.500000</td>\n",
              "      <td>2012.000000</td>\n",
              "      <td>7.000000</td>\n",
              "      <td>16.000000</td>\n",
              "      <td>11.500000</td>\n",
              "      <td>72.000000</td>\n",
              "      <td>2.000000</td>\n",
              "      <td>14.000000</td>\n",
              "      <td>1016.000000</td>\n",
              "      <td>5.370000</td>\n",
              "      <td>0.000000</td>\n",
              "      <td>0.000000</td>\n",
              "    </tr>\n",
              "    <tr>\n",
              "      <th>75%</th>\n",
              "      <td>32868.250000</td>\n",
              "      <td>2013.000000</td>\n",
              "      <td>10.000000</td>\n",
              "      <td>23.000000</td>\n",
              "      <td>17.250000</td>\n",
              "      <td>137.000000</td>\n",
              "      <td>15.000000</td>\n",
              "      <td>23.000000</td>\n",
              "      <td>1025.000000</td>\n",
              "      <td>21.910000</td>\n",
              "      <td>0.000000</td>\n",
              "      <td>0.000000</td>\n",
              "    </tr>\n",
              "    <tr>\n",
              "      <th>max</th>\n",
              "      <td>43824.000000</td>\n",
              "      <td>2014.000000</td>\n",
              "      <td>12.000000</td>\n",
              "      <td>31.000000</td>\n",
              "      <td>23.000000</td>\n",
              "      <td>994.000000</td>\n",
              "      <td>28.000000</td>\n",
              "      <td>42.000000</td>\n",
              "      <td>1046.000000</td>\n",
              "      <td>585.600000</td>\n",
              "      <td>27.000000</td>\n",
              "      <td>36.000000</td>\n",
              "    </tr>\n",
              "  </tbody>\n",
              "</table>\n",
              "</div>"
            ],
            "text/plain": [
              "                 No          year         month           day          hour  \\\n",
              "count  43824.000000  43824.000000  43824.000000  43824.000000  43824.000000   \n",
              "mean   21912.500000   2012.000000      6.523549     15.727820     11.500000   \n",
              "std    12651.043435      1.413842      3.448572      8.799425      6.922266   \n",
              "min        1.000000   2010.000000      1.000000      1.000000      0.000000   \n",
              "25%    10956.750000   2011.000000      4.000000      8.000000      5.750000   \n",
              "50%    21912.500000   2012.000000      7.000000     16.000000     11.500000   \n",
              "75%    32868.250000   2013.000000     10.000000     23.000000     17.250000   \n",
              "max    43824.000000   2014.000000     12.000000     31.000000     23.000000   \n",
              "\n",
              "              pm2.5          DEWP          TEMP          PRES           Iws  \\\n",
              "count  41757.000000  43824.000000  43824.000000  43824.000000  43824.000000   \n",
              "mean      98.613215      1.817246     12.448521   1016.447654     23.889140   \n",
              "std       92.050387     14.433440     12.198613     10.268698     50.010635   \n",
              "min        0.000000    -40.000000    -19.000000    991.000000      0.450000   \n",
              "25%       29.000000    -10.000000      2.000000   1008.000000      1.790000   \n",
              "50%       72.000000      2.000000     14.000000   1016.000000      5.370000   \n",
              "75%      137.000000     15.000000     23.000000   1025.000000     21.910000   \n",
              "max      994.000000     28.000000     42.000000   1046.000000    585.600000   \n",
              "\n",
              "                 Is            Ir  \n",
              "count  43824.000000  43824.000000  \n",
              "mean       0.052734      0.194916  \n",
              "std        0.760375      1.415867  \n",
              "min        0.000000      0.000000  \n",
              "25%        0.000000      0.000000  \n",
              "50%        0.000000      0.000000  \n",
              "75%        0.000000      0.000000  \n",
              "max       27.000000     36.000000  "
            ]
          },
          "metadata": {
            "tags": []
          },
          "execution_count": 3
        }
      ]
    },
    {
      "metadata": {
        "id": "hfV3WisFP_O6",
        "colab_type": "code",
        "outputId": "40bd453d-b18c-4045-c938-5417fa51f7b4",
        "colab": {
          "base_uri": "https://localhost:8080/",
          "height": 347
        }
      },
      "cell_type": "code",
      "source": [
        "df['pm2.5'].plot.hist();"
      ],
      "execution_count": 0,
      "outputs": [
        {
          "output_type": "display_data",
          "data": {
            "image/png": "[encoded data removed]",
            "text/plain": [
              "<Figure size 576x396 with 1 Axes>"
            ]
          },
          "metadata": {
            "tags": []
          }
        }
      ]
    },
    {
      "metadata": {
        "id": "OgbMTAHzQJB8",
        "colab_type": "code",
        "outputId": "9a67e07e-8fec-4574-e5ab-95957e79dd12",
        "colab": {
          "base_uri": "https://localhost:8080/",
          "height": 34
        }
      },
      "cell_type": "code",
      "source": [
        "# How does linear regression handle it?\n",
        "from sklearn.linear_model import LinearRegression\n",
        "\n",
        "# Let's drop NAs and limit to numeric values\n",
        "df = df._get_numeric_data().dropna()\n",
        "X = df.drop('pm2.5', axis='columns')\n",
        "y = df['pm2.5']\n",
        "\n",
        "linear_reg = LinearRegression().fit(X, y)\n",
        "linear_reg.score(X, y)"
      ],
      "execution_count": 0,
      "outputs": [
        {
          "output_type": "execute_result",
          "data": {
            "text/plain": [
              "0.2590006399659215"
            ]
          },
          "metadata": {
            "tags": []
          },
          "execution_count": 5
        }
      ]
    },
    {
      "metadata": {
        "id": "-viFFtm0RizM",
        "colab_type": "code",
        "outputId": "256d7680-1a43-4958-c74c-31aaef917906",
        "colab": {
          "base_uri": "https://localhost:8080/",
          "height": 462
        }
      },
      "cell_type": "code",
      "source": [
        "# Not bad - but what if we wanted to model the distribution more conservatively?\n",
        "# Let's try quantile\n",
        "import statsmodels.formula.api as smf\n",
        "\n",
        "# Different jargon/API in StatsModel documentation\n",
        "# \"endogenous\" response var is dependent (y), it is \"inside\"\n",
        "# \"exogenous\" variables are independent (X), it is \"outside\"\n",
        "# Bonus points - talk about \"exogenous shocks\" and you're a bona fide economist\n",
        "\n",
        "# ~ style formulas look like what R uses\n",
        "# y ~ x1 + x2 + ...\n",
        "# Also, these formulas break with . in variable name, so lets change that\n",
        "df = df.rename(index=str, columns={'pm2.5': 'pm25'})\n",
        "\n",
        "# Now let's construct the formula string using all columns\n",
        "quant_formula = 'pm25 ~ ' + ' + '.join(df.drop('pm25', axis='columns').columns)\n",
        "print(quant_formula)\n",
        "\n",
        "quant_mod = smf.quantreg(quant_formula, data=df)\n",
        "quant_reg = quant_mod.fit(q=.5)\n",
        "quant_reg.summary()  # \"summary\" is another very R-thing"
      ],
      "execution_count": 0,
      "outputs": [
        {
          "output_type": "stream",
          "text": [
            "pm25 ~ No + year + month + day + hour + DEWP + TEMP + PRES + Iws + Is + Ir\n"
          ],
          "name": "stdout"
        },
        {
          "output_type": "execute_result",
          "data": {
            "text/html": [
              "<table class=\"simpletable\">\n",
              "<caption>QuantReg Regression Results</caption>\n",
              "<tr>\n",
              "  <th>Dep. Variable:</th>       <td>pm25</td>       <th>  Pseudo R-squared:  </th> <td>  0.1600</td>\n",
              "</tr>\n",
              "<tr>\n",
              "  <th>Model:</th>             <td>QuantReg</td>     <th>  Bandwidth:         </th> <td>   8.276</td>\n",
              "</tr>\n",
              "<tr>\n",
              "  <th>Method:</th>          <td>Least Squares</td>  <th>  Sparsity:          </th> <td>   133.8</td>\n",
              "</tr>\n",
              "<tr>\n",
              "  <th>Date:</th>          <td>Mon, 21 Jan 2019</td> <th>  No. Observations:  </th>  <td> 41757</td> \n",
              "</tr>\n",
              "<tr>\n",
              "  <th>Time:</th>              <td>00:41:20</td>     <th>  Df Residuals:      </th>  <td> 41745</td> \n",
              "</tr>\n",
              "<tr>\n",
              "  <th> </th>                      <td> </td>        <th>  Df Model:          </th>  <td>    11</td> \n",
              "</tr>\n",
              "</table>\n",
              "<table class=\"simpletable\">\n",
              "<tr>\n",
              "      <td></td>         <th>coef</th>     <th>std err</th>      <th>t</th>      <th>P>|t|</th>  <th>[0.025</th>    <th>0.975]</th>  \n",
              "</tr>\n",
              "<tr>\n",
              "  <th>Intercept</th> <td>    0.0004</td> <td> 1.67e-05</td> <td>   22.881</td> <td> 0.000</td> <td>    0.000</td> <td>    0.000</td>\n",
              "</tr>\n",
              "<tr>\n",
              "  <th>No</th>        <td>  3.63e-07</td> <td> 2.67e-05</td> <td>    0.014</td> <td> 0.989</td> <td> -5.2e-05</td> <td> 5.27e-05</td>\n",
              "</tr>\n",
              "<tr>\n",
              "  <th>year</th>      <td>    0.8830</td> <td>    0.031</td> <td>   28.631</td> <td> 0.000</td> <td>    0.823</td> <td>    0.943</td>\n",
              "</tr>\n",
              "<tr>\n",
              "  <th>month</th>     <td>   -1.4110</td> <td>    0.103</td> <td>  -13.749</td> <td> 0.000</td> <td>   -1.612</td> <td>   -1.210</td>\n",
              "</tr>\n",
              "<tr>\n",
              "  <th>day</th>       <td>    0.4461</td> <td>    0.037</td> <td>   11.951</td> <td> 0.000</td> <td>    0.373</td> <td>    0.519</td>\n",
              "</tr>\n",
              "<tr>\n",
              "  <th>hour</th>      <td>    1.2810</td> <td>    0.050</td> <td>   25.779</td> <td> 0.000</td> <td>    1.184</td> <td>    1.378</td>\n",
              "</tr>\n",
              "<tr>\n",
              "  <th>DEWP</th>      <td>    3.6362</td> <td>    0.047</td> <td>   77.315</td> <td> 0.000</td> <td>    3.544</td> <td>    3.728</td>\n",
              "</tr>\n",
              "<tr>\n",
              "  <th>TEMP</th>      <td>   -4.7103</td> <td>    0.060</td> <td>  -78.779</td> <td> 0.000</td> <td>   -4.828</td> <td>   -4.593</td>\n",
              "</tr>\n",
              "<tr>\n",
              "  <th>PRES</th>      <td>   -1.6265</td> <td>    0.061</td> <td>  -26.760</td> <td> 0.000</td> <td>   -1.746</td> <td>   -1.507</td>\n",
              "</tr>\n",
              "<tr>\n",
              "  <th>Iws</th>       <td>   -0.1541</td> <td>    0.007</td> <td>  -21.786</td> <td> 0.000</td> <td>   -0.168</td> <td>   -0.140</td>\n",
              "</tr>\n",
              "<tr>\n",
              "  <th>Is</th>        <td>   -1.6322</td> <td>    0.425</td> <td>   -3.838</td> <td> 0.000</td> <td>   -2.466</td> <td>   -0.799</td>\n",
              "</tr>\n",
              "<tr>\n",
              "  <th>Ir</th>        <td>   -5.3946</td> <td>    0.234</td> <td>  -23.034</td> <td> 0.000</td> <td>   -5.854</td> <td>   -4.936</td>\n",
              "</tr>\n",
              "</table>"
            ],
            "text/plain": [
              "<class 'statsmodels.iolib.summary.Summary'>\n",
              "\"\"\"\n",
              "                         QuantReg Regression Results                          \n",
              "==============================================================================\n",
              "Dep. Variable:                   pm25   Pseudo R-squared:               0.1600\n",
              "Model:                       QuantReg   Bandwidth:                       8.276\n",
              "Method:                 Least Squares   Sparsity:                        133.8\n",
              "Date:                Mon, 21 Jan 2019   No. Observations:                41757\n",
              "Time:                        00:41:20   Df Residuals:                    41745\n",
              "                                        Df Model:                           11\n",
              "==============================================================================\n",
              "                 coef    std err          t      P>|t|      [0.025      0.975]\n",
              "------------------------------------------------------------------------------\n",
              "Intercept      0.0004   1.67e-05     22.881      0.000       0.000       0.000\n",
              "No           3.63e-07   2.67e-05      0.014      0.989    -5.2e-05    5.27e-05\n",
              "year           0.8830      0.031     28.631      0.000       0.823       0.943\n",
              "month         -1.4110      0.103    -13.749      0.000      -1.612      -1.210\n",
              "day            0.4461      0.037     11.951      0.000       0.373       0.519\n",
              "hour           1.2810      0.050     25.779      0.000       1.184       1.378\n",
              "DEWP           3.6362      0.047     77.315      0.000       3.544       3.728\n",
              "TEMP          -4.7103      0.060    -78.779      0.000      -4.828      -4.593\n",
              "PRES          -1.6265      0.061    -26.760      0.000      -1.746      -1.507\n",
              "Iws           -0.1541      0.007    -21.786      0.000      -0.168      -0.140\n",
              "Is            -1.6322      0.425     -3.838      0.000      -2.466      -0.799\n",
              "Ir            -5.3946      0.234    -23.034      0.000      -5.854      -4.936\n",
              "==============================================================================\n",
              "\n",
              "The condition number is large, 3.67e+10. This might indicate that there are\n",
              "strong multicollinearity or other numerical problems.\n",
              "\"\"\""
            ]
          },
          "metadata": {
            "tags": []
          },
          "execution_count": 40
        }
      ]
    },
    {
      "metadata": {
        "id": "ZBkP4bewd-HT",
        "colab_type": "text"
      },
      "cell_type": "markdown",
      "source": [
        "That fit to the median (q=0.5), also called \"Least Absolute Deviation.\" The pseudo-R^2 isn't really directly comparable to the R^2 from linear regression, but it clearly isn't dramatically improved. Can we make it better?"
      ]
    },
    {
      "metadata": {
        "id": "BgvYeHg3bL4g",
        "colab_type": "code",
        "outputId": "bf4547a0-7739-45d8-bf5a-26ab1684f7f6",
        "colab": {
          "base_uri": "https://localhost:8080/",
          "height": 593
        }
      },
      "cell_type": "code",
      "source": [
        "help(quant_mod.fit)"
      ],
      "execution_count": 0,
      "outputs": [
        {
          "output_type": "stream",
          "text": [
            "Help on method fit in module statsmodels.regression.quantile_regression:\n",
            "\n",
            "fit(q=0.5, vcov='robust', kernel='epa', bandwidth='hsheather', max_iter=1000, p_tol=1e-06, **kwargs) method of statsmodels.regression.quantile_regression.QuantReg instance\n",
            "    Solve by Iterative Weighted Least Squares\n",
            "    \n",
            "    Parameters\n",
            "    ----------\n",
            "    q : float\n",
            "        Quantile must be between 0 and 1\n",
            "    vcov : string, method used to calculate the variance-covariance matrix\n",
            "        of the parameters. Default is ``robust``:\n",
            "    \n",
            "        - robust : heteroskedasticity robust standard errors (as suggested\n",
            "          in Greene 6th edition)\n",
            "        - iid : iid errors (as in Stata 12)\n",
            "    \n",
            "    kernel : string, kernel to use in the kernel density estimation for the\n",
            "        asymptotic covariance matrix:\n",
            "    \n",
            "        - epa: Epanechnikov\n",
            "        - cos: Cosine\n",
            "        - gau: Gaussian\n",
            "        - par: Parzene\n",
            "    \n",
            "    bandwidth: string, Bandwidth selection method in kernel density\n",
            "        estimation for asymptotic covariance estimate (full\n",
            "        references in QuantReg docstring):\n",
            "    \n",
            "        - hsheather: Hall-Sheather (1988)\n",
            "        - bofinger: Bofinger (1975)\n",
            "        - chamberlain: Chamberlain (1994)\n",
            "\n"
          ],
          "name": "stdout"
        }
      ]
    },
    {
      "metadata": {
        "id": "lpNPioZTei4U",
        "colab_type": "code",
        "outputId": "40fc70a6-43c5-44a0-a012-923bd3f826a8",
        "colab": {
          "base_uri": "https://localhost:8080/",
          "height": 1424
        }
      },
      "cell_type": "code",
      "source": [
        "quantiles = (.05, .96, .1)\n",
        "\n",
        "for quantile in quantiles:\n",
        "  print(quant_mod.fit(q=quantile).summary())"
      ],
      "execution_count": 0,
      "outputs": [
        {
          "output_type": "stream",
          "text": [
            "                         QuantReg Regression Results                          \n",
            "==============================================================================\n",
            "Dep. Variable:                   pm25   Pseudo R-squared:              0.04130\n",
            "Model:                       QuantReg   Bandwidth:                       8.908\n",
            "Method:                 Least Squares   Sparsity:                        120.7\n",
            "Date:                Sun, 20 Jan 2019   No. Observations:                41757\n",
            "Time:                        23:01:53   Df Residuals:                    41745\n",
            "                                        Df Model:                           11\n",
            "==============================================================================\n",
            "                 coef    std err          t      P>|t|      [0.025      0.975]\n",
            "------------------------------------------------------------------------------\n",
            "Intercept   3.072e-05    6.4e-06      4.803      0.000    1.82e-05    4.33e-05\n",
            "No         -6.994e-05   9.59e-06     -7.292      0.000   -8.87e-05   -5.11e-05\n",
            "year           0.0998      0.012      8.275      0.000       0.076       0.123\n",
            "month         -0.4536      0.034    -13.419      0.000      -0.520      -0.387\n",
            "day            0.1143      0.015      7.862      0.000       0.086       0.143\n",
            "hour           0.3777      0.020     19.013      0.000       0.339       0.417\n",
            "DEWP           0.7720      0.014     55.266      0.000       0.745       0.799\n",
            "TEMP          -0.8346      0.020    -41.621      0.000      -0.874      -0.795\n",
            "PRES          -0.1734      0.024     -7.290      0.000      -0.220      -0.127\n",
            "Iws           -0.0364      0.002    -17.462      0.000      -0.040      -0.032\n",
            "Is             1.4573      0.195      7.466      0.000       1.075       1.840\n",
            "Ir            -1.2952      0.071    -18.209      0.000      -1.435      -1.156\n",
            "==============================================================================\n",
            "\n",
            "The condition number is large, 3.67e+10. This might indicate that there are\n",
            "strong multicollinearity or other numerical problems.\n",
            "                         QuantReg Regression Results                          \n",
            "==============================================================================\n",
            "Dep. Variable:                   pm25   Pseudo R-squared:               0.2194\n",
            "Model:                       QuantReg   Bandwidth:                       10.41\n",
            "Method:                 Least Squares   Sparsity:                        1322.\n",
            "Date:                Sun, 20 Jan 2019   No. Observations:                41757\n",
            "Time:                        23:01:55   Df Residuals:                    41745\n",
            "                                        Df Model:                           11\n",
            "==============================================================================\n",
            "                 coef    std err          t      P>|t|      [0.025      0.975]\n",
            "------------------------------------------------------------------------------\n",
            "Intercept      0.0004   6.87e-05      5.306      0.000       0.000       0.000\n",
            "No          7.821e-05      0.000      0.696      0.486      -0.000       0.000\n",
            "year           1.0580      0.124      8.539      0.000       0.815       1.301\n",
            "month         -3.9661      0.446     -8.895      0.000      -4.840      -3.092\n",
            "day            1.0816      0.136      7.936      0.000       0.814       1.349\n",
            "hour           2.3661      0.192     12.354      0.000       1.991       2.741\n",
            "DEWP           7.5176      0.235     32.004      0.000       7.057       7.978\n",
            "TEMP         -11.6991      0.302    -38.691      0.000     -12.292     -11.106\n",
            "PRES          -1.7121      0.244     -7.003      0.000      -2.191      -1.233\n",
            "Iws           -0.4151      0.034    -12.339      0.000      -0.481      -0.349\n",
            "Is            -5.7267      1.580     -3.624      0.000      -8.824      -2.630\n",
            "Ir            -9.3197      1.457     -6.397      0.000     -12.175      -6.464\n",
            "==============================================================================\n",
            "\n",
            "The condition number is large, 3.67e+10. This might indicate that there are\n",
            "strong multicollinearity or other numerical problems.\n",
            "                         QuantReg Regression Results                          \n",
            "==============================================================================\n",
            "Dep. Variable:                   pm25   Pseudo R-squared:              0.06497\n",
            "Model:                       QuantReg   Bandwidth:                       8.092\n",
            "Method:                 Least Squares   Sparsity:                        104.4\n",
            "Date:                Sun, 20 Jan 2019   No. Observations:                41757\n",
            "Time:                        23:01:57   Df Residuals:                    41745\n",
            "                                        Df Model:                           11\n",
            "==============================================================================\n",
            "                 coef    std err          t      P>|t|      [0.025      0.975]\n",
            "------------------------------------------------------------------------------\n",
            "Intercept   5.214e-05   7.84e-06      6.650      0.000    3.68e-05    6.75e-05\n",
            "No         -9.232e-05   1.17e-05     -7.888      0.000      -0.000   -6.94e-05\n",
            "year           0.1521      0.015     10.386      0.000       0.123       0.181\n",
            "month         -0.5581      0.042    -13.138      0.000      -0.641      -0.475\n",
            "day            0.1708      0.017      9.893      0.000       0.137       0.205\n",
            "hour           0.4604      0.024     19.350      0.000       0.414       0.507\n",
            "DEWP           1.2350      0.017     70.845      0.000       1.201       1.269\n",
            "TEMP          -1.3088      0.024    -54.101      0.000      -1.356      -1.261\n",
            "PRES          -0.2652      0.029     -9.183      0.000      -0.322      -0.209\n",
            "Iws           -0.0436      0.003    -16.919      0.000      -0.049      -0.039\n",
            "Is             1.0745      0.231      4.653      0.000       0.622       1.527\n",
            "Ir            -1.9619      0.087    -22.504      0.000      -2.133      -1.791\n",
            "==============================================================================\n",
            "\n",
            "The condition number is large, 3.67e+10. This might indicate that there are\n",
            "strong multicollinearity or other numerical problems.\n"
          ],
          "name": "stdout"
        }
      ]
    },
    {
      "metadata": {
        "id": "Xqh4Jp1XgjrE",
        "colab_type": "text"
      },
      "cell_type": "markdown",
      "source": [
        "\"Strong multicollinearity\", eh? In other words - maybe we shouldn't throw every variable in our formula. Let's hand-craft a smaller one, picking the features with the largest magnitude t-statistics for their coefficients. Let's also search for more quantile cutoffs to see what's most effective."
      ]
    },
    {
      "metadata": {
        "id": "NmoELnXwgpXd",
        "colab_type": "code",
        "outputId": "1865f1b1-778a-4e73-91b7-d30ad29b2ee2",
        "colab": {
          "base_uri": "https://localhost:8080/",
          "height": 975
        }
      },
      "cell_type": "code",
      "source": [
        "quant_formula = 'pm25 ~ DEWP + TEMP + Ir + hour + Iws'\n",
        "quant_mod = smf.quantreg(quant_formula, data=df)\n",
        "for quantile in range(50, 100):\n",
        "  quantile /= 100\n",
        "  quant_reg = quant_mod.fit(q=quantile)\n",
        "  print((quantile, quant_reg.prsquared))"
      ],
      "execution_count": 0,
      "outputs": [
        {
          "output_type": "stream",
          "text": [
            "(0.5, 0.1447879336023583)\n",
            "(0.51, 0.1453046499109799)\n",
            "(0.52, 0.1457984456251047)\n",
            "(0.53, 0.14627848333343263)\n",
            "(0.54, 0.1467640446791706)\n",
            "(0.55, 0.14733094668790292)\n",
            "(0.56, 0.14787821797693512)\n",
            "(0.57, 0.14840185621049273)\n",
            "(0.58, 0.14892138273908107)\n",
            "(0.59, 0.14946793972061212)\n"
          ],
          "name": "stdout"
        },
        {
          "output_type": "stream",
          "text": [
            "/usr/local/lib/python3.6/dist-packages/statsmodels/regression/quantile_regression.py:193: IterationLimitWarning: Maximum number of iterations (1000) reached.\n",
            "  \") reached.\", IterationLimitWarning)\n"
          ],
          "name": "stderr"
        },
        {
          "output_type": "stream",
          "text": [
            "(0.6, 0.1500450836285967)\n",
            "(0.61, 0.15066665485612274)\n",
            "(0.62, 0.15131550520931825)\n",
            "(0.63, 0.15201598245712966)\n",
            "(0.64, 0.152815632180745)\n",
            "(0.65, 0.15360133883660188)\n",
            "(0.66, 0.15440046026580068)\n",
            "(0.67, 0.15521251759239985)\n",
            "(0.68, 0.15607615678951559)\n",
            "(0.69, 0.15692695615298136)\n",
            "(0.7, 0.1577663389046554)\n",
            "(0.71, 0.15865286212994567)\n",
            "(0.72, 0.15961363441229715)\n",
            "(0.73, 0.16062991121153458)\n",
            "(0.74, 0.1617151201897239)\n",
            "(0.75, 0.16280951619867146)\n",
            "(0.76, 0.16394259393342125)\n",
            "(0.77, 0.16517451474458056)\n",
            "(0.78, 0.1664423443710097)\n",
            "(0.79, 0.16770815353095714)\n"
          ],
          "name": "stdout"
        },
        {
          "output_type": "stream",
          "text": [
            "/usr/local/lib/python3.6/dist-packages/statsmodels/regression/quantile_regression.py:193: IterationLimitWarning: Maximum number of iterations (1000) reached.\n",
            "  \") reached.\", IterationLimitWarning)\n"
          ],
          "name": "stderr"
        },
        {
          "output_type": "stream",
          "text": [
            "(0.8, 0.16904227356438506)\n",
            "(0.81, 0.17037126968955685)\n",
            "(0.82, 0.17195593122357777)\n",
            "(0.83, 0.17383892606382623)\n",
            "(0.84, 0.17599918426382777)\n",
            "(0.85, 0.17817588507328963)\n",
            "(0.86, 0.18047434708570964)\n",
            "(0.87, 0.18274842963575832)\n",
            "(0.88, 0.1850748927825704)\n",
            "(0.89, 0.18767194363846373)\n",
            "(0.9, 0.1899871464061209)\n",
            "(0.91, 0.19205778885867675)\n",
            "(0.92, 0.19409258046839573)\n",
            "(0.93, 0.1960928580149024)\n",
            "(0.94, 0.1990718585613529)\n",
            "(0.95, 0.20306510227274233)\n",
            "(0.96, 0.20828854295993626)\n",
            "(0.97, 0.21268428179968246)\n",
            "(0.98, 0.21668870123970496)\n",
            "(0.99, 0.21742941318156628)\n"
          ],
          "name": "stdout"
        }
      ]
    },
    {
      "metadata": {
        "id": "Bz0GmE5kuwQY",
        "colab_type": "code",
        "outputId": "d139eca6-fa58-4f4c-a051-18b3e2d7ee13",
        "colab": {
          "base_uri": "https://localhost:8080/",
          "height": 444
        }
      },
      "cell_type": "code",
      "source": [
        "# Okay, this data seems *extremely* skewed\n",
        "# Let's trying logging\n",
        "import numpy as np\n",
        "\n",
        "df['pm25'] = np.log(1 + df['pm25'])\n",
        "quant_mod = smf.quantreg(quant_formula, data=df)\n",
        "quant_reg = quant_mod.fit(q=.25)\n",
        "quant_reg.summary()  # \"summary\" is another very R-thing"
      ],
      "execution_count": 0,
      "outputs": [
        {
          "output_type": "execute_result",
          "data": {
            "text/html": [
              "<table class=\"simpletable\">\n",
              "<caption>QuantReg Regression Results</caption>\n",
              "<tr>\n",
              "  <th>Dep. Variable:</th>       <td>pm25</td>       <th>  Pseudo R-squared:  </th> <td>  0.2614</td>\n",
              "</tr>\n",
              "<tr>\n",
              "  <th>Model:</th>             <td>QuantReg</td>     <th>  Bandwidth:         </th> <td> 0.01908</td>\n",
              "</tr>\n",
              "<tr>\n",
              "  <th>Method:</th>          <td>Least Squares</td>  <th>  Sparsity:          </th> <td>  0.6060</td>\n",
              "</tr>\n",
              "<tr>\n",
              "  <th>Date:</th>          <td>Mon, 21 Jan 2019</td> <th>  No. Observations:  </th>  <td> 41757</td> \n",
              "</tr>\n",
              "<tr>\n",
              "  <th>Time:</th>              <td>00:41:40</td>     <th>  Df Residuals:      </th>  <td> 41745</td> \n",
              "</tr>\n",
              "<tr>\n",
              "  <th> </th>                      <td> </td>        <th>  Df Model:          </th>  <td>    11</td> \n",
              "</tr>\n",
              "</table>\n",
              "<table class=\"simpletable\">\n",
              "<tr>\n",
              "      <td></td>         <th>coef</th>     <th>std err</th>      <th>t</th>      <th>P>|t|</th>  <th>[0.025</th>    <th>0.975]</th>  \n",
              "</tr>\n",
              "<tr>\n",
              "  <th>Intercept</th> <td> 1.016e-06</td> <td> 6.52e-08</td> <td>   15.579</td> <td> 0.000</td> <td> 8.88e-07</td> <td> 1.14e-06</td>\n",
              "</tr>\n",
              "<tr>\n",
              "  <th>No</th>        <td>-7.472e-07</td> <td> 1.01e-07</td> <td>   -7.406</td> <td> 0.000</td> <td>-9.45e-07</td> <td>-5.49e-07</td>\n",
              "</tr>\n",
              "<tr>\n",
              "  <th>year</th>      <td>    0.0027</td> <td>    0.000</td> <td>   21.867</td> <td> 0.000</td> <td>    0.002</td> <td>    0.003</td>\n",
              "</tr>\n",
              "<tr>\n",
              "  <th>month</th>     <td>   -0.0075</td> <td>    0.000</td> <td>  -19.825</td> <td> 0.000</td> <td>   -0.008</td> <td>   -0.007</td>\n",
              "</tr>\n",
              "<tr>\n",
              "  <th>day</th>       <td>    0.0014</td> <td>    0.000</td> <td>    9.770</td> <td> 0.000</td> <td>    0.001</td> <td>    0.002</td>\n",
              "</tr>\n",
              "<tr>\n",
              "  <th>hour</th>      <td>    0.0049</td> <td>    0.000</td> <td>   23.971</td> <td> 0.000</td> <td>    0.004</td> <td>    0.005</td>\n",
              "</tr>\n",
              "<tr>\n",
              "  <th>DEWP</th>      <td>    0.0155</td> <td>    0.000</td> <td>   89.454</td> <td> 0.000</td> <td>    0.015</td> <td>    0.016</td>\n",
              "</tr>\n",
              "<tr>\n",
              "  <th>TEMP</th>      <td>   -0.0172</td> <td>    0.000</td> <td>  -77.079</td> <td> 0.000</td> <td>   -0.018</td> <td>   -0.017</td>\n",
              "</tr>\n",
              "<tr>\n",
              "  <th>PRES</th>      <td>   -0.0036</td> <td>    0.000</td> <td>  -14.870</td> <td> 0.000</td> <td>   -0.004</td> <td>   -0.003</td>\n",
              "</tr>\n",
              "<tr>\n",
              "  <th>Iws</th>       <td>   -0.0010</td> <td> 2.42e-05</td> <td>  -39.707</td> <td> 0.000</td> <td>   -0.001</td> <td>   -0.001</td>\n",
              "</tr>\n",
              "<tr>\n",
              "  <th>Is</th>        <td>   -0.0025</td> <td>    0.002</td> <td>   -1.517</td> <td> 0.129</td> <td>   -0.006</td> <td>    0.001</td>\n",
              "</tr>\n",
              "<tr>\n",
              "  <th>Ir</th>        <td>   -0.0235</td> <td>    0.001</td> <td>  -29.010</td> <td> 0.000</td> <td>   -0.025</td> <td>   -0.022</td>\n",
              "</tr>\n",
              "</table>"
            ],
            "text/plain": [
              "<class 'statsmodels.iolib.summary.Summary'>\n",
              "\"\"\"\n",
              "                         QuantReg Regression Results                          \n",
              "==============================================================================\n",
              "Dep. Variable:                   pm25   Pseudo R-squared:               0.2614\n",
              "Model:                       QuantReg   Bandwidth:                     0.01908\n",
              "Method:                 Least Squares   Sparsity:                       0.6060\n",
              "Date:                Mon, 21 Jan 2019   No. Observations:                41757\n",
              "Time:                        00:41:40   Df Residuals:                    41745\n",
              "                                        Df Model:                           11\n",
              "==============================================================================\n",
              "                 coef    std err          t      P>|t|      [0.025      0.975]\n",
              "------------------------------------------------------------------------------\n",
              "Intercept   1.016e-06   6.52e-08     15.579      0.000    8.88e-07    1.14e-06\n",
              "No         -7.472e-07   1.01e-07     -7.406      0.000   -9.45e-07   -5.49e-07\n",
              "year           0.0027      0.000     21.867      0.000       0.002       0.003\n",
              "month         -0.0075      0.000    -19.825      0.000      -0.008      -0.007\n",
              "day            0.0014      0.000      9.770      0.000       0.001       0.002\n",
              "hour           0.0049      0.000     23.971      0.000       0.004       0.005\n",
              "DEWP           0.0155      0.000     89.454      0.000       0.015       0.016\n",
              "TEMP          -0.0172      0.000    -77.079      0.000      -0.018      -0.017\n",
              "PRES          -0.0036      0.000    -14.870      0.000      -0.004      -0.003\n",
              "Iws           -0.0010   2.42e-05    -39.707      0.000      -0.001      -0.001\n",
              "Is            -0.0025      0.002     -1.517      0.129      -0.006       0.001\n",
              "Ir            -0.0235      0.001    -29.010      0.000      -0.025      -0.022\n",
              "==============================================================================\n",
              "\n",
              "The condition number is large, 3.67e+10. This might indicate that there are\n",
              "strong multicollinearity or other numerical problems.\n",
              "\"\"\""
            ]
          },
          "metadata": {
            "tags": []
          },
          "execution_count": 42
        }
      ]
    },
    {
      "metadata": {
        "id": "8kXcxnNBgizX",
        "colab_type": "text"
      },
      "cell_type": "markdown",
      "source": [
        "Overall - in this case, quantile regression is not *necessarily* superior to linear regression. But it does give us extra flexibility and another thing to tune - what the center of what we're actually fitting in the dependent variable.\n",
        "\n",
        "The basic case of `q=0.5` (the median) minimizes the absolute value of residuals, while OLS minimizes the squared value. By selecting `q=0.25`, we're targeting a lower quantile and are effectively saying that we only want to over-estimate at most 25% of the time - we're being *risk averse*.\n",
        "\n",
        "Depending on the data you're looking at, and the cost of making a false positive versus a false negative, this sort of flexibility can be extremely useful.\n",
        "\n",
        "Live - let's consider another dataset! Specifically, \"SkillCraft\" (data on competitive StarCraft players): http://archive.ics.uci.edu/ml/datasets/SkillCraft1+Master+Table+Dataset"
      ]
    },
    {
      "metadata": {
        "id": "BRqD1QQusEOp",
        "colab_type": "code",
        "colab": {}
      },
      "cell_type": "code",
      "source": [
        "import statsmodels.formula.api as smf\n",
        "\n",
        "\n",
        "import pandas as pd\n",
        "import numpy as np\n",
        "import matplotlib.pyplot as plt"
      ],
      "execution_count": 0,
      "outputs": []
    },
    {
      "metadata": {
        "id": "ofvwSAZUhWDw",
        "colab_type": "code",
        "outputId": "9cb42167-b61d-44fd-93c9-ebccea773ddd",
        "colab": {
          "base_uri": "https://localhost:8080/",
          "height": 218
        }
      },
      "cell_type": "code",
      "source": [
        "# TODO Live!\n",
        "# Hint - we may only care about the *top* quantiles here\n",
        "# Another hint - there are missing values, but Pandas won't see them right away\n",
        "import pandas as pd\n",
        "\n",
        "df = pd.read_csv('http://archive.ics.uci.edu/ml/machine-learning-databases/'\n",
        "                 '00272/SkillCraft1_Dataset.csv')\n",
        "df.head()"
      ],
      "execution_count": 0,
      "outputs": [
        {
          "output_type": "execute_result",
          "data": {
            "text/html": [
              "<div>\n",
              "<style scoped>\n",
              "    .dataframe tbody tr th:only-of-type {\n",
              "        vertical-align: middle;\n",
              "    }\n",
              "\n",
              "    .dataframe tbody tr th {\n",
              "        vertical-align: top;\n",
              "    }\n",
              "\n",
              "    .dataframe thead th {\n",
              "        text-align: right;\n",
              "    }\n",
              "</style>\n",
              "<table border=\"1\" class=\"dataframe\">\n",
              "  <thead>\n",
              "    <tr style=\"text-align: right;\">\n",
              "      <th></th>\n",
              "      <th>GameID</th>\n",
              "      <th>LeagueIndex</th>\n",
              "      <th>Age</th>\n",
              "      <th>HoursPerWeek</th>\n",
              "      <th>TotalHours</th>\n",
              "      <th>APM</th>\n",
              "      <th>SelectByHotkeys</th>\n",
              "      <th>AssignToHotkeys</th>\n",
              "      <th>UniqueHotkeys</th>\n",
              "      <th>MinimapAttacks</th>\n",
              "      <th>MinimapRightClicks</th>\n",
              "      <th>NumberOfPACs</th>\n",
              "      <th>GapBetweenPACs</th>\n",
              "      <th>ActionLatency</th>\n",
              "      <th>ActionsInPAC</th>\n",
              "      <th>TotalMapExplored</th>\n",
              "      <th>WorkersMade</th>\n",
              "      <th>UniqueUnitsMade</th>\n",
              "      <th>ComplexUnitsMade</th>\n",
              "      <th>ComplexAbilitiesUsed</th>\n",
              "    </tr>\n",
              "  </thead>\n",
              "  <tbody>\n",
              "    <tr>\n",
              "      <th>0</th>\n",
              "      <td>52</td>\n",
              "      <td>5</td>\n",
              "      <td>27</td>\n",
              "      <td>10</td>\n",
              "      <td>3000</td>\n",
              "      <td>143.7180</td>\n",
              "      <td>0.003515</td>\n",
              "      <td>0.000220</td>\n",
              "      <td>7</td>\n",
              "      <td>0.000110</td>\n",
              "      <td>0.000392</td>\n",
              "      <td>0.004849</td>\n",
              "      <td>32.6677</td>\n",
              "      <td>40.8673</td>\n",
              "      <td>4.7508</td>\n",
              "      <td>28</td>\n",
              "      <td>0.001397</td>\n",
              "      <td>6</td>\n",
              "      <td>0.0</td>\n",
              "      <td>0.000000</td>\n",
              "    </tr>\n",
              "    <tr>\n",
              "      <th>1</th>\n",
              "      <td>55</td>\n",
              "      <td>5</td>\n",
              "      <td>23</td>\n",
              "      <td>10</td>\n",
              "      <td>5000</td>\n",
              "      <td>129.2322</td>\n",
              "      <td>0.003304</td>\n",
              "      <td>0.000259</td>\n",
              "      <td>4</td>\n",
              "      <td>0.000294</td>\n",
              "      <td>0.000432</td>\n",
              "      <td>0.004307</td>\n",
              "      <td>32.9194</td>\n",
              "      <td>42.3454</td>\n",
              "      <td>4.8434</td>\n",
              "      <td>22</td>\n",
              "      <td>0.001194</td>\n",
              "      <td>5</td>\n",
              "      <td>0.0</td>\n",
              "      <td>0.000208</td>\n",
              "    </tr>\n",
              "    <tr>\n",
              "      <th>2</th>\n",
              "      <td>56</td>\n",
              "      <td>4</td>\n",
              "      <td>30</td>\n",
              "      <td>10</td>\n",
              "      <td>200</td>\n",
              "      <td>69.9612</td>\n",
              "      <td>0.001101</td>\n",
              "      <td>0.000336</td>\n",
              "      <td>4</td>\n",
              "      <td>0.000294</td>\n",
              "      <td>0.000461</td>\n",
              "      <td>0.002926</td>\n",
              "      <td>44.6475</td>\n",
              "      <td>75.3548</td>\n",
              "      <td>4.0430</td>\n",
              "      <td>22</td>\n",
              "      <td>0.000745</td>\n",
              "      <td>6</td>\n",
              "      <td>0.0</td>\n",
              "      <td>0.000189</td>\n",
              "    </tr>\n",
              "    <tr>\n",
              "      <th>3</th>\n",
              "      <td>57</td>\n",
              "      <td>3</td>\n",
              "      <td>19</td>\n",
              "      <td>20</td>\n",
              "      <td>400</td>\n",
              "      <td>107.6016</td>\n",
              "      <td>0.001034</td>\n",
              "      <td>0.000213</td>\n",
              "      <td>1</td>\n",
              "      <td>0.000053</td>\n",
              "      <td>0.000543</td>\n",
              "      <td>0.003783</td>\n",
              "      <td>29.2203</td>\n",
              "      <td>53.7352</td>\n",
              "      <td>4.9155</td>\n",
              "      <td>19</td>\n",
              "      <td>0.000426</td>\n",
              "      <td>7</td>\n",
              "      <td>0.0</td>\n",
              "      <td>0.000384</td>\n",
              "    </tr>\n",
              "    <tr>\n",
              "      <th>4</th>\n",
              "      <td>58</td>\n",
              "      <td>3</td>\n",
              "      <td>32</td>\n",
              "      <td>10</td>\n",
              "      <td>500</td>\n",
              "      <td>122.8908</td>\n",
              "      <td>0.001136</td>\n",
              "      <td>0.000327</td>\n",
              "      <td>2</td>\n",
              "      <td>0.000000</td>\n",
              "      <td>0.001329</td>\n",
              "      <td>0.002368</td>\n",
              "      <td>22.6885</td>\n",
              "      <td>62.0813</td>\n",
              "      <td>9.3740</td>\n",
              "      <td>15</td>\n",
              "      <td>0.001174</td>\n",
              "      <td>4</td>\n",
              "      <td>0.0</td>\n",
              "      <td>0.000019</td>\n",
              "    </tr>\n",
              "  </tbody>\n",
              "</table>\n",
              "</div>"
            ],
            "text/plain": [
              "   GameID  LeagueIndex Age HoursPerWeek TotalHours       APM  SelectByHotkeys  \\\n",
              "0      52            5  27           10       3000  143.7180         0.003515   \n",
              "1      55            5  23           10       5000  129.2322         0.003304   \n",
              "2      56            4  30           10        200   69.9612         0.001101   \n",
              "3      57            3  19           20        400  107.6016         0.001034   \n",
              "4      58            3  32           10        500  122.8908         0.001136   \n",
              "\n",
              "   AssignToHotkeys  UniqueHotkeys  MinimapAttacks  MinimapRightClicks  \\\n",
              "0         0.000220              7        0.000110            0.000392   \n",
              "1         0.000259              4        0.000294            0.000432   \n",
              "2         0.000336              4        0.000294            0.000461   \n",
              "3         0.000213              1        0.000053            0.000543   \n",
              "4         0.000327              2        0.000000            0.001329   \n",
              "\n",
              "   NumberOfPACs  GapBetweenPACs  ActionLatency  ActionsInPAC  \\\n",
              "0      0.004849         32.6677        40.8673        4.7508   \n",
              "1      0.004307         32.9194        42.3454        4.8434   \n",
              "2      0.002926         44.6475        75.3548        4.0430   \n",
              "3      0.003783         29.2203        53.7352        4.9155   \n",
              "4      0.002368         22.6885        62.0813        9.3740   \n",
              "\n",
              "   TotalMapExplored  WorkersMade  UniqueUnitsMade  ComplexUnitsMade  \\\n",
              "0                28     0.001397                6               0.0   \n",
              "1                22     0.001194                5               0.0   \n",
              "2                22     0.000745                6               0.0   \n",
              "3                19     0.000426                7               0.0   \n",
              "4                15     0.001174                4               0.0   \n",
              "\n",
              "   ComplexAbilitiesUsed  \n",
              "0              0.000000  \n",
              "1              0.000208  \n",
              "2              0.000189  \n",
              "3              0.000384  \n",
              "4              0.000019  "
            ]
          },
          "metadata": {
            "tags": []
          },
          "execution_count": 3
        }
      ]
    },
    {
      "metadata": {
        "id": "8_YFUS_9kJTD",
        "colab_type": "code",
        "outputId": "912de1f4-060c-419c-94eb-9f375fad6676",
        "colab": {
          "base_uri": "https://localhost:8080/",
          "height": 377
        }
      },
      "cell_type": "code",
      "source": [
        "df.isna().sum()"
      ],
      "execution_count": 0,
      "outputs": [
        {
          "output_type": "execute_result",
          "data": {
            "text/plain": [
              "GameID                  0\n",
              "LeagueIndex             0\n",
              "Age                     0\n",
              "HoursPerWeek            0\n",
              "TotalHours              0\n",
              "APM                     0\n",
              "SelectByHotkeys         0\n",
              "AssignToHotkeys         0\n",
              "UniqueHotkeys           0\n",
              "MinimapAttacks          0\n",
              "MinimapRightClicks      0\n",
              "NumberOfPACs            0\n",
              "GapBetweenPACs          0\n",
              "ActionLatency           0\n",
              "ActionsInPAC            0\n",
              "TotalMapExplored        0\n",
              "WorkersMade             0\n",
              "UniqueUnitsMade         0\n",
              "ComplexUnitsMade        0\n",
              "ComplexAbilitiesUsed    0\n",
              "dtype: int64"
            ]
          },
          "metadata": {
            "tags": []
          },
          "execution_count": 11
        }
      ]
    },
    {
      "metadata": {
        "id": "QmwOGcOEkGtb",
        "colab_type": "code",
        "outputId": "83ad8017-88d6-42b1-95da-9b78d5c359dc",
        "colab": {
          "base_uri": "https://localhost:8080/",
          "height": 377
        }
      },
      "cell_type": "code",
      "source": [
        "import numpy as np\n",
        "df = df.replace('?', np.nan)\n",
        "\n",
        "# cleaning up ? to nan\n",
        "'''hasna = ['Age', 'HoursPerWeek', 'TotalHours']\n",
        "\n",
        "for feat in hasna:\n",
        "   df[feat] = pd.to_numeric(df[feat])'''\n",
        "\n",
        "df.isna().sum()"
      ],
      "execution_count": 0,
      "outputs": [
        {
          "output_type": "execute_result",
          "data": {
            "text/plain": [
              "GameID                   0\n",
              "LeagueIndex              0\n",
              "Age                     55\n",
              "HoursPerWeek            56\n",
              "TotalHours              57\n",
              "APM                      0\n",
              "SelectByHotkeys          0\n",
              "AssignToHotkeys          0\n",
              "UniqueHotkeys            0\n",
              "MinimapAttacks           0\n",
              "MinimapRightClicks       0\n",
              "NumberOfPACs             0\n",
              "GapBetweenPACs           0\n",
              "ActionLatency            0\n",
              "ActionsInPAC             0\n",
              "TotalMapExplored         0\n",
              "WorkersMade              0\n",
              "UniqueUnitsMade          0\n",
              "ComplexUnitsMade         0\n",
              "ComplexAbilitiesUsed     0\n",
              "dtype: int64"
            ]
          },
          "metadata": {
            "tags": []
          },
          "execution_count": 4
        }
      ]
    },
    {
      "metadata": {
        "id": "Lqr8EySDkXQU",
        "colab_type": "code",
        "outputId": "4d949536-c37e-4830-d14a-7b159139b029",
        "colab": {
          "base_uri": "https://localhost:8080/",
          "height": 308
        }
      },
      "cell_type": "code",
      "source": [
        "df.describe()"
      ],
      "execution_count": 0,
      "outputs": [
        {
          "output_type": "execute_result",
          "data": {
            "text/html": [
              "<div>\n",
              "<style scoped>\n",
              "    .dataframe tbody tr th:only-of-type {\n",
              "        vertical-align: middle;\n",
              "    }\n",
              "\n",
              "    .dataframe tbody tr th {\n",
              "        vertical-align: top;\n",
              "    }\n",
              "\n",
              "    .dataframe thead th {\n",
              "        text-align: right;\n",
              "    }\n",
              "</style>\n",
              "<table border=\"1\" class=\"dataframe\">\n",
              "  <thead>\n",
              "    <tr style=\"text-align: right;\">\n",
              "      <th></th>\n",
              "      <th>GameID</th>\n",
              "      <th>LeagueIndex</th>\n",
              "      <th>Age</th>\n",
              "      <th>HoursPerWeek</th>\n",
              "      <th>TotalHours</th>\n",
              "      <th>APM</th>\n",
              "      <th>SelectByHotkeys</th>\n",
              "      <th>AssignToHotkeys</th>\n",
              "      <th>UniqueHotkeys</th>\n",
              "      <th>MinimapAttacks</th>\n",
              "      <th>MinimapRightClicks</th>\n",
              "      <th>NumberOfPACs</th>\n",
              "      <th>GapBetweenPACs</th>\n",
              "      <th>ActionLatency</th>\n",
              "      <th>ActionsInPAC</th>\n",
              "      <th>TotalMapExplored</th>\n",
              "      <th>WorkersMade</th>\n",
              "      <th>UniqueUnitsMade</th>\n",
              "      <th>ComplexUnitsMade</th>\n",
              "      <th>ComplexAbilitiesUsed</th>\n",
              "    </tr>\n",
              "  </thead>\n",
              "  <tbody>\n",
              "    <tr>\n",
              "      <th>count</th>\n",
              "      <td>3395.000000</td>\n",
              "      <td>3395.000000</td>\n",
              "      <td>3340.000000</td>\n",
              "      <td>3339.000000</td>\n",
              "      <td>3338.000000</td>\n",
              "      <td>3395.000000</td>\n",
              "      <td>3395.000000</td>\n",
              "      <td>3395.000000</td>\n",
              "      <td>3395.000000</td>\n",
              "      <td>3395.000000</td>\n",
              "      <td>3395.000000</td>\n",
              "      <td>3395.000000</td>\n",
              "      <td>3395.000000</td>\n",
              "      <td>3395.000000</td>\n",
              "      <td>3395.000000</td>\n",
              "      <td>3395.000000</td>\n",
              "      <td>3395.000000</td>\n",
              "      <td>3395.000000</td>\n",
              "      <td>3395.000000</td>\n",
              "      <td>3395.000000</td>\n",
              "    </tr>\n",
              "    <tr>\n",
              "      <th>mean</th>\n",
              "      <td>4805.012371</td>\n",
              "      <td>4.184094</td>\n",
              "      <td>21.647904</td>\n",
              "      <td>15.910752</td>\n",
              "      <td>960.421809</td>\n",
              "      <td>117.046947</td>\n",
              "      <td>0.004299</td>\n",
              "      <td>0.000374</td>\n",
              "      <td>4.364654</td>\n",
              "      <td>0.000098</td>\n",
              "      <td>0.000387</td>\n",
              "      <td>0.003463</td>\n",
              "      <td>40.361562</td>\n",
              "      <td>63.739403</td>\n",
              "      <td>5.272988</td>\n",
              "      <td>22.131664</td>\n",
              "      <td>0.001032</td>\n",
              "      <td>6.534021</td>\n",
              "      <td>0.000059</td>\n",
              "      <td>0.000142</td>\n",
              "    </tr>\n",
              "    <tr>\n",
              "      <th>std</th>\n",
              "      <td>2719.944851</td>\n",
              "      <td>1.517327</td>\n",
              "      <td>4.206341</td>\n",
              "      <td>11.962912</td>\n",
              "      <td>17318.133922</td>\n",
              "      <td>51.945291</td>\n",
              "      <td>0.005284</td>\n",
              "      <td>0.000225</td>\n",
              "      <td>2.360333</td>\n",
              "      <td>0.000166</td>\n",
              "      <td>0.000377</td>\n",
              "      <td>0.000992</td>\n",
              "      <td>17.153570</td>\n",
              "      <td>19.238869</td>\n",
              "      <td>1.494835</td>\n",
              "      <td>7.431719</td>\n",
              "      <td>0.000519</td>\n",
              "      <td>1.857697</td>\n",
              "      <td>0.000111</td>\n",
              "      <td>0.000265</td>\n",
              "    </tr>\n",
              "    <tr>\n",
              "      <th>min</th>\n",
              "      <td>52.000000</td>\n",
              "      <td>1.000000</td>\n",
              "      <td>16.000000</td>\n",
              "      <td>0.000000</td>\n",
              "      <td>3.000000</td>\n",
              "      <td>22.059600</td>\n",
              "      <td>0.000000</td>\n",
              "      <td>0.000000</td>\n",
              "      <td>0.000000</td>\n",
              "      <td>0.000000</td>\n",
              "      <td>0.000000</td>\n",
              "      <td>0.000679</td>\n",
              "      <td>6.666700</td>\n",
              "      <td>24.093600</td>\n",
              "      <td>2.038900</td>\n",
              "      <td>5.000000</td>\n",
              "      <td>0.000077</td>\n",
              "      <td>2.000000</td>\n",
              "      <td>0.000000</td>\n",
              "      <td>0.000000</td>\n",
              "    </tr>\n",
              "    <tr>\n",
              "      <th>25%</th>\n",
              "      <td>2464.500000</td>\n",
              "      <td>3.000000</td>\n",
              "      <td>19.000000</td>\n",
              "      <td>8.000000</td>\n",
              "      <td>300.000000</td>\n",
              "      <td>79.900200</td>\n",
              "      <td>0.001258</td>\n",
              "      <td>0.000204</td>\n",
              "      <td>3.000000</td>\n",
              "      <td>0.000000</td>\n",
              "      <td>0.000140</td>\n",
              "      <td>0.002754</td>\n",
              "      <td>28.957750</td>\n",
              "      <td>50.446600</td>\n",
              "      <td>4.272850</td>\n",
              "      <td>17.000000</td>\n",
              "      <td>0.000683</td>\n",
              "      <td>5.000000</td>\n",
              "      <td>0.000000</td>\n",
              "      <td>0.000000</td>\n",
              "    </tr>\n",
              "    <tr>\n",
              "      <th>50%</th>\n",
              "      <td>4874.000000</td>\n",
              "      <td>4.000000</td>\n",
              "      <td>21.000000</td>\n",
              "      <td>12.000000</td>\n",
              "      <td>500.000000</td>\n",
              "      <td>108.010200</td>\n",
              "      <td>0.002500</td>\n",
              "      <td>0.000353</td>\n",
              "      <td>4.000000</td>\n",
              "      <td>0.000040</td>\n",
              "      <td>0.000281</td>\n",
              "      <td>0.003395</td>\n",
              "      <td>36.723500</td>\n",
              "      <td>60.931800</td>\n",
              "      <td>5.095500</td>\n",
              "      <td>22.000000</td>\n",
              "      <td>0.000905</td>\n",
              "      <td>6.000000</td>\n",
              "      <td>0.000000</td>\n",
              "      <td>0.000020</td>\n",
              "    </tr>\n",
              "    <tr>\n",
              "      <th>75%</th>\n",
              "      <td>7108.500000</td>\n",
              "      <td>5.000000</td>\n",
              "      <td>24.000000</td>\n",
              "      <td>20.000000</td>\n",
              "      <td>800.000000</td>\n",
              "      <td>142.790400</td>\n",
              "      <td>0.005133</td>\n",
              "      <td>0.000499</td>\n",
              "      <td>6.000000</td>\n",
              "      <td>0.000119</td>\n",
              "      <td>0.000514</td>\n",
              "      <td>0.004027</td>\n",
              "      <td>48.290500</td>\n",
              "      <td>73.681300</td>\n",
              "      <td>6.033600</td>\n",
              "      <td>27.000000</td>\n",
              "      <td>0.001259</td>\n",
              "      <td>8.000000</td>\n",
              "      <td>0.000086</td>\n",
              "      <td>0.000181</td>\n",
              "    </tr>\n",
              "    <tr>\n",
              "      <th>max</th>\n",
              "      <td>10095.000000</td>\n",
              "      <td>8.000000</td>\n",
              "      <td>44.000000</td>\n",
              "      <td>168.000000</td>\n",
              "      <td>1000000.000000</td>\n",
              "      <td>389.831400</td>\n",
              "      <td>0.043088</td>\n",
              "      <td>0.001752</td>\n",
              "      <td>10.000000</td>\n",
              "      <td>0.003019</td>\n",
              "      <td>0.004041</td>\n",
              "      <td>0.007971</td>\n",
              "      <td>237.142900</td>\n",
              "      <td>176.372100</td>\n",
              "      <td>18.558100</td>\n",
              "      <td>58.000000</td>\n",
              "      <td>0.005149</td>\n",
              "      <td>13.000000</td>\n",
              "      <td>0.000902</td>\n",
              "      <td>0.003084</td>\n",
              "    </tr>\n",
              "  </tbody>\n",
              "</table>\n",
              "</div>"
            ],
            "text/plain": [
              "             GameID  LeagueIndex          Age  HoursPerWeek      TotalHours  \\\n",
              "count   3395.000000  3395.000000  3340.000000   3339.000000     3338.000000   \n",
              "mean    4805.012371     4.184094    21.647904     15.910752      960.421809   \n",
              "std     2719.944851     1.517327     4.206341     11.962912    17318.133922   \n",
              "min       52.000000     1.000000    16.000000      0.000000        3.000000   \n",
              "25%     2464.500000     3.000000    19.000000      8.000000      300.000000   \n",
              "50%     4874.000000     4.000000    21.000000     12.000000      500.000000   \n",
              "75%     7108.500000     5.000000    24.000000     20.000000      800.000000   \n",
              "max    10095.000000     8.000000    44.000000    168.000000  1000000.000000   \n",
              "\n",
              "               APM  SelectByHotkeys  AssignToHotkeys  UniqueHotkeys  \\\n",
              "count  3395.000000      3395.000000      3395.000000    3395.000000   \n",
              "mean    117.046947         0.004299         0.000374       4.364654   \n",
              "std      51.945291         0.005284         0.000225       2.360333   \n",
              "min      22.059600         0.000000         0.000000       0.000000   \n",
              "25%      79.900200         0.001258         0.000204       3.000000   \n",
              "50%     108.010200         0.002500         0.000353       4.000000   \n",
              "75%     142.790400         0.005133         0.000499       6.000000   \n",
              "max     389.831400         0.043088         0.001752      10.000000   \n",
              "\n",
              "       MinimapAttacks  MinimapRightClicks  NumberOfPACs  GapBetweenPACs  \\\n",
              "count     3395.000000         3395.000000   3395.000000     3395.000000   \n",
              "mean         0.000098            0.000387      0.003463       40.361562   \n",
              "std          0.000166            0.000377      0.000992       17.153570   \n",
              "min          0.000000            0.000000      0.000679        6.666700   \n",
              "25%          0.000000            0.000140      0.002754       28.957750   \n",
              "50%          0.000040            0.000281      0.003395       36.723500   \n",
              "75%          0.000119            0.000514      0.004027       48.290500   \n",
              "max          0.003019            0.004041      0.007971      237.142900   \n",
              "\n",
              "       ActionLatency  ActionsInPAC  TotalMapExplored  WorkersMade  \\\n",
              "count    3395.000000   3395.000000       3395.000000  3395.000000   \n",
              "mean       63.739403      5.272988         22.131664     0.001032   \n",
              "std        19.238869      1.494835          7.431719     0.000519   \n",
              "min        24.093600      2.038900          5.000000     0.000077   \n",
              "25%        50.446600      4.272850         17.000000     0.000683   \n",
              "50%        60.931800      5.095500         22.000000     0.000905   \n",
              "75%        73.681300      6.033600         27.000000     0.001259   \n",
              "max       176.372100     18.558100         58.000000     0.005149   \n",
              "\n",
              "       UniqueUnitsMade  ComplexUnitsMade  ComplexAbilitiesUsed  \n",
              "count      3395.000000       3395.000000           3395.000000  \n",
              "mean          6.534021          0.000059              0.000142  \n",
              "std           1.857697          0.000111              0.000265  \n",
              "min           2.000000          0.000000              0.000000  \n",
              "25%           5.000000          0.000000              0.000000  \n",
              "50%           6.000000          0.000000              0.000020  \n",
              "75%           8.000000          0.000086              0.000181  \n",
              "max          13.000000          0.000902              0.003084  "
            ]
          },
          "metadata": {
            "tags": []
          },
          "execution_count": 15
        }
      ]
    },
    {
      "metadata": {
        "id": "-vlY5UtMp_yw",
        "colab_type": "code",
        "outputId": "02ea1f04-27b2-4f7b-8675-2b9fb079e094",
        "colab": {
          "base_uri": "https://localhost:8080/",
          "height": 34
        }
      },
      "cell_type": "code",
      "source": [
        "# How does linear regression handle it? Courtesy of Daniel\n",
        "from sklearn.linear_model import LinearRegression\n",
        "\n",
        "# Let's drop NAs and limit to numeric values\n",
        "df = df._get_numeric_data().dropna()\n",
        "X = df.drop('APM', axis='columns')\n",
        "y = df['APM']\n",
        "\n",
        "linear_reg = LinearRegression().fit(X, y)\n",
        "linear_reg.score(X, y)"
      ],
      "execution_count": 0,
      "outputs": [
        {
          "output_type": "execute_result",
          "data": {
            "text/plain": [
              "0.9760510208504019"
            ]
          },
          "metadata": {
            "tags": []
          },
          "execution_count": 5
        }
      ]
    },
    {
      "metadata": {
        "id": "RUhbjkIwq8XW",
        "colab_type": "code",
        "outputId": "2484528d-e61c-4eb2-8317-f04c47d625be",
        "colab": {
          "base_uri": "https://localhost:8080/",
          "height": 343
        }
      },
      "cell_type": "code",
      "source": [
        "for name, coef in zip(X.columns, linear_reg.coef_):\n",
        "  print(name, coef)"
      ],
      "execution_count": 0,
      "outputs": [
        {
          "output_type": "stream",
          "text": [
            "GameID 5.6721525875017124e-05\n",
            "LeagueIndex -0.17025706089711906\n",
            "Age -0.1255396800327562\n",
            "HoursPerWeek -0.007084891488397346\n",
            "TotalHours 6.181852927507429e-06\n",
            "SelectByHotkeys 5530.168863103678\n",
            "AssignToHotkeys -948.4647097091305\n",
            "UniqueHotkeys 0.13583102775973996\n",
            "MinimapAttacks 2972.11713661456\n",
            "MinimapRightClicks 4053.6799567315898\n",
            "NumberOfPACs 23408.13583534949\n",
            "GapBetweenPACs -0.013256821980193232\n",
            "ActionLatency -0.17291643312034718\n",
            "ActionsInPAC 12.798743815559357\n",
            "TotalMapExplored 0.01939336984054402\n",
            "WorkersMade 2699.774992506199\n",
            "UniqueUnitsMade -0.3208898754951155\n",
            "ComplexUnitsMade 1538.092153791031\n",
            "ComplexAbilitiesUsed -3127.832963745431\n"
          ],
          "name": "stdout"
        }
      ]
    },
    {
      "metadata": {
        "id": "pjxfC0YHrPhI",
        "colab_type": "code",
        "outputId": "6d4cfacd-4778-4ef0-ac15-7e963988f272",
        "colab": {
          "base_uri": "https://localhost:8080/",
          "height": 154
        }
      },
      "cell_type": "code",
      "source": [
        "df.LeagueIndex.value_counts()"
      ],
      "execution_count": 0,
      "outputs": [
        {
          "output_type": "execute_result",
          "data": {
            "text/plain": [
              "4    811\n",
              "5    804\n",
              "6    621\n",
              "3    553\n",
              "2    347\n",
              "1    167\n",
              "7     35\n",
              "Name: LeagueIndex, dtype: int64"
            ]
          },
          "metadata": {
            "tags": []
          },
          "execution_count": 18
        }
      ]
    },
    {
      "metadata": {
        "id": "lOk0BllprcNu",
        "colab_type": "code",
        "outputId": "d4516e7c-cfca-40f7-f073-45e413c3a6a9",
        "colab": {
          "base_uri": "https://localhost:8080/",
          "height": 571
        }
      },
      "cell_type": "code",
      "source": [
        "# Let's say we want to answer \"What are the fastest 10% of SC players like?\"\n",
        "# That means quantile regression with q=0.9\n",
        "\n",
        "# First we need a formula, with our friend twiddle\n",
        "quant_formula = 'APM ~ ' + ' + '.join(df.drop('APM', axis='columns').columns)\n",
        "\n",
        "# From Daniel\n",
        "quant_mod = smf.quantreg(quant_formula, data=df)\n",
        "quant_reg = quant_mod.fit(q=.9)\n",
        "quant_reg.summary()"
      ],
      "execution_count": 0,
      "outputs": [
        {
          "output_type": "stream",
          "text": [
            "/usr/local/lib/python3.6/dist-packages/statsmodels/regression/quantile_regression.py:193: IterationLimitWarning: Maximum number of iterations (1000) reached.\n",
            "  \") reached.\", IterationLimitWarning)\n"
          ],
          "name": "stderr"
        },
        {
          "output_type": "execute_result",
          "data": {
            "text/html": [
              "<table class=\"simpletable\">\n",
              "<caption>QuantReg Regression Results</caption>\n",
              "<tr>\n",
              "  <th>Dep. Variable:</th>        <td>APM</td>       <th>  Pseudo R-squared:  </th> <td>  0.9006</td>\n",
              "</tr>\n",
              "<tr>\n",
              "  <th>Model:</th>             <td>QuantReg</td>     <th>  Bandwidth:         </th> <td>   1.399</td>\n",
              "</tr>\n",
              "<tr>\n",
              "  <th>Method:</th>          <td>Least Squares</td>  <th>  Sparsity:          </th> <td>   30.52</td>\n",
              "</tr>\n",
              "<tr>\n",
              "  <th>Date:</th>          <td>Thu, 24 Jan 2019</td> <th>  No. Observations:  </th>  <td>  3395</td> \n",
              "</tr>\n",
              "<tr>\n",
              "  <th>Time:</th>              <td>04:51:34</td>     <th>  Df Residuals:      </th>  <td>  3378</td> \n",
              "</tr>\n",
              "<tr>\n",
              "  <th> </th>                      <td> </td>        <th>  Df Model:          </th>  <td>    16</td> \n",
              "</tr>\n",
              "</table>\n",
              "<table class=\"simpletable\">\n",
              "<tr>\n",
              "            <td></td>              <th>coef</th>     <th>std err</th>      <th>t</th>      <th>P>|t|</th>  <th>[0.025</th>    <th>0.975]</th>  \n",
              "</tr>\n",
              "<tr>\n",
              "  <th>Intercept</th>            <td> -106.3646</td> <td>    2.970</td> <td>  -35.818</td> <td> 0.000</td> <td> -112.187</td> <td> -100.542</td>\n",
              "</tr>\n",
              "<tr>\n",
              "  <th>GameID</th>               <td> 6.602e-05</td> <td> 6.19e-05</td> <td>    1.067</td> <td> 0.286</td> <td>-5.53e-05</td> <td>    0.000</td>\n",
              "</tr>\n",
              "<tr>\n",
              "  <th>LeagueIndex</th>          <td>   -0.0852</td> <td>    0.159</td> <td>   -0.535</td> <td> 0.593</td> <td>   -0.397</td> <td>    0.227</td>\n",
              "</tr>\n",
              "<tr>\n",
              "  <th>SelectByHotkeys</th>      <td> 5503.3403</td> <td>   37.761</td> <td>  145.742</td> <td> 0.000</td> <td> 5429.304</td> <td> 5577.377</td>\n",
              "</tr>\n",
              "<tr>\n",
              "  <th>AssignToHotkeys</th>      <td> 1363.4102</td> <td> 1101.573</td> <td>    1.238</td> <td> 0.216</td> <td> -796.407</td> <td> 3523.227</td>\n",
              "</tr>\n",
              "<tr>\n",
              "  <th>UniqueHotkeys</th>        <td>    0.0375</td> <td>    0.077</td> <td>    0.487</td> <td> 0.626</td> <td>   -0.113</td> <td>    0.188</td>\n",
              "</tr>\n",
              "<tr>\n",
              "  <th>MinimapAttacks</th>       <td>-1668.7022</td> <td> 1331.100</td> <td>   -1.254</td> <td> 0.210</td> <td>-4278.545</td> <td>  941.141</td>\n",
              "</tr>\n",
              "<tr>\n",
              "  <th>MinimapRightClicks</th>   <td> 2531.9508</td> <td>  478.380</td> <td>    5.293</td> <td> 0.000</td> <td> 1594.007</td> <td> 3469.895</td>\n",
              "</tr>\n",
              "<tr>\n",
              "  <th>NumberOfPACs</th>         <td> 3.058e+04</td> <td>  404.281</td> <td>   75.652</td> <td> 0.000</td> <td> 2.98e+04</td> <td> 3.14e+04</td>\n",
              "</tr>\n",
              "<tr>\n",
              "  <th>GapBetweenPACs</th>       <td>    0.0951</td> <td>    0.015</td> <td>    6.255</td> <td> 0.000</td> <td>    0.065</td> <td>    0.125</td>\n",
              "</tr>\n",
              "<tr>\n",
              "  <th>ActionLatency</th>        <td>    0.1062</td> <td>    0.022</td> <td>    4.869</td> <td> 0.000</td> <td>    0.063</td> <td>    0.149</td>\n",
              "</tr>\n",
              "<tr>\n",
              "  <th>ActionsInPAC</th>         <td>   17.6101</td> <td>    0.161</td> <td>  109.059</td> <td> 0.000</td> <td>   17.293</td> <td>   17.927</td>\n",
              "</tr>\n",
              "<tr>\n",
              "  <th>TotalMapExplored</th>     <td>   -0.1040</td> <td>    0.032</td> <td>   -3.271</td> <td> 0.001</td> <td>   -0.166</td> <td>   -0.042</td>\n",
              "</tr>\n",
              "<tr>\n",
              "  <th>WorkersMade</th>          <td> 1167.5250</td> <td>  348.629</td> <td>    3.349</td> <td> 0.001</td> <td>  483.980</td> <td> 1851.070</td>\n",
              "</tr>\n",
              "<tr>\n",
              "  <th>UniqueUnitsMade</th>      <td>   -0.3080</td> <td>    0.113</td> <td>   -2.728</td> <td> 0.006</td> <td>   -0.529</td> <td>   -0.087</td>\n",
              "</tr>\n",
              "<tr>\n",
              "  <th>ComplexUnitsMade</th>     <td>-1605.0790</td> <td>  159.660</td> <td>  -10.053</td> <td> 0.000</td> <td>-1918.120</td> <td>-1292.038</td>\n",
              "</tr>\n",
              "<tr>\n",
              "  <th>ComplexAbilitiesUsed</th> <td>-2761.7881</td> <td>  647.248</td> <td>   -4.267</td> <td> 0.000</td> <td>-4030.826</td> <td>-1492.750</td>\n",
              "</tr>\n",
              "</table>"
            ],
            "text/plain": [
              "<class 'statsmodels.iolib.summary.Summary'>\n",
              "\"\"\"\n",
              "                         QuantReg Regression Results                          \n",
              "==============================================================================\n",
              "Dep. Variable:                    APM   Pseudo R-squared:               0.9006\n",
              "Model:                       QuantReg   Bandwidth:                       1.399\n",
              "Method:                 Least Squares   Sparsity:                        30.52\n",
              "Date:                Thu, 24 Jan 2019   No. Observations:                 3395\n",
              "Time:                        04:51:34   Df Residuals:                     3378\n",
              "                                        Df Model:                           16\n",
              "========================================================================================\n",
              "                           coef    std err          t      P>|t|      [0.025      0.975]\n",
              "----------------------------------------------------------------------------------------\n",
              "Intercept             -106.3646      2.970    -35.818      0.000    -112.187    -100.542\n",
              "GameID                6.602e-05   6.19e-05      1.067      0.286   -5.53e-05       0.000\n",
              "LeagueIndex             -0.0852      0.159     -0.535      0.593      -0.397       0.227\n",
              "SelectByHotkeys       5503.3403     37.761    145.742      0.000    5429.304    5577.377\n",
              "AssignToHotkeys       1363.4102   1101.573      1.238      0.216    -796.407    3523.227\n",
              "UniqueHotkeys            0.0375      0.077      0.487      0.626      -0.113       0.188\n",
              "MinimapAttacks       -1668.7022   1331.100     -1.254      0.210   -4278.545     941.141\n",
              "MinimapRightClicks    2531.9508    478.380      5.293      0.000    1594.007    3469.895\n",
              "NumberOfPACs          3.058e+04    404.281     75.652      0.000    2.98e+04    3.14e+04\n",
              "GapBetweenPACs           0.0951      0.015      6.255      0.000       0.065       0.125\n",
              "ActionLatency            0.1062      0.022      4.869      0.000       0.063       0.149\n",
              "ActionsInPAC            17.6101      0.161    109.059      0.000      17.293      17.927\n",
              "TotalMapExplored        -0.1040      0.032     -3.271      0.001      -0.166      -0.042\n",
              "WorkersMade           1167.5250    348.629      3.349      0.001     483.980    1851.070\n",
              "UniqueUnitsMade         -0.3080      0.113     -2.728      0.006      -0.529      -0.087\n",
              "ComplexUnitsMade     -1605.0790    159.660    -10.053      0.000   -1918.120   -1292.038\n",
              "ComplexAbilitiesUsed -2761.7881    647.248     -4.267      0.000   -4030.826   -1492.750\n",
              "========================================================================================\n",
              "\n",
              "The condition number is large, 6.87e+07. This might indicate that there are\n",
              "strong multicollinearity or other numerical problems.\n",
              "\"\"\""
            ]
          },
          "metadata": {
            "tags": []
          },
          "execution_count": 6
        }
      ]
    },
    {
      "metadata": {
        "id": "Mg0VPxq5udS9",
        "colab_type": "code",
        "outputId": "e686be16-85c5-4680-a7f3-d3d5d16b6265",
        "colab": {
          "base_uri": "https://localhost:8080/",
          "height": 206
        }
      },
      "cell_type": "code",
      "source": [
        "quant_reg.predict(X)[:10]"
      ],
      "execution_count": 0,
      "outputs": [
        {
          "output_type": "execute_result",
          "data": {
            "text/plain": [
              "0    150.213395\n",
              "1    134.143289\n",
              "2     69.781412\n",
              "3    106.725924\n",
              "4    148.305064\n",
              "5     42.640290\n",
              "6     47.803200\n",
              "7    214.137650\n",
              "8    140.052501\n",
              "9    152.623663\n",
              "dtype: float64"
            ]
          },
          "metadata": {
            "tags": []
          },
          "execution_count": 7
        }
      ]
    },
    {
      "metadata": {
        "id": "aSbzpmViuxzV",
        "colab_type": "code",
        "outputId": "c7c5a0d6-5a87-42d9-a9fa-33fff555b0e9",
        "colab": {
          "base_uri": "https://localhost:8080/",
          "height": 68
        }
      },
      "cell_type": "code",
      "source": [
        "# the mean APM (action per minute)\n",
        "linear_reg.predict(X)[:10]"
      ],
      "execution_count": 0,
      "outputs": [
        {
          "output_type": "execute_result",
          "data": {
            "text/plain": [
              "array([143.63118811, 130.48864924,  67.69761065, 101.45031334,\n",
              "       130.15490286,  35.98091498,  41.51357034, 208.30622773,\n",
              "       132.06158302, 144.13021461])"
            ]
          },
          "metadata": {
            "tags": []
          },
          "execution_count": 25
        }
      ]
    },
    {
      "metadata": {
        "id": "o2BADEQUirXa",
        "colab_type": "text"
      },
      "cell_type": "markdown",
      "source": [
        "## Assignment - birth weight data\n",
        "\n",
        "Birth weight is a situation where, while the data itself is actually fairly normal and symmetric, our main goal is actually *not* to model mean weight (via OLS), but rather to identify mothers at risk of having children below a certain \"at-risk\" threshold weight.\n",
        "\n",
        "Quantile regression gives us just the tool we need. For the data we are using, see: http://people.reed.edu/~jones/141/BirthWgt.html\n",
        "\n",
        "    bwt: baby's weight in ounces at birth\n",
        "    gestation: duration of pregnancy in days\n",
        "    parity: parity indicator (first born = 1, later birth = 0)\n",
        "    age: mother's age in years\n",
        "    height: mother's height in inches\n",
        "    weight: mother's weight in pounds (during pregnancy)\n",
        "    smoke: indicator for whether mother smokes (1=yes, 0=no) \n",
        "    \n",
        "Use this data and `statsmodels` to fit a quantile regression, predicting `bwt` (birth weight) as a function of the other covariates. First, identify an appropriate `q` (quantile) to target a cutoff of 90 ounces - babies above that birth weight are generally healthy/safe, babies below are at-risk.\n",
        "\n",
        "Then, fit and iterate your model. Be creative! You may want to engineer features. Hint - mother's age likely is not simply linear in its impact, and the other features may interact as well.\n",
        "\n",
        "At the end, create at least *2* tables and *1* visualization to summarize your best model. Then (in writing) answer the following questions:\n",
        "\n",
        "- What characteristics of a mother indicate the highest likelihood of an at-risk (low weight) baby?\n",
        "- What can expectant mothers be told to help mitigate this risk?\n",
        "\n",
        "Note that second question is not exactly a data science question - and that's okay! You're not expected to be a medical expert, but it is a good exercise to do a little bit of digging into a particular domain and offer informal but informed opinions."
      ]
    },
    {
      "metadata": {
        "id": "O56XkRPt4Ams",
        "colab_type": "code",
        "colab": {}
      },
      "cell_type": "code",
      "source": [
        "import statsmodels.formula.api as smf\n",
        "\n",
        "\n",
        "import pandas as pd\n",
        "import numpy as np\n",
        "import matplotlib.pyplot as plt"
      ],
      "execution_count": 0,
      "outputs": []
    },
    {
      "metadata": {
        "id": "HUWKv16FjZsY",
        "colab_type": "code",
        "outputId": "43ac4c91-d55a-44b5-e363-6fdc382a4855",
        "colab": {
          "base_uri": "https://localhost:8080/",
          "height": 198
        }
      },
      "cell_type": "code",
      "source": [
        "import pandas as pd\n",
        "bwt_df = pd.read_csv('http://people.reed.edu/~jones/141/Bwt.dat')\n",
        "bwt_df.head()"
      ],
      "execution_count": 3,
      "outputs": [
        {
          "output_type": "execute_result",
          "data": {
            "text/html": [
              "<div>\n",
              "<style scoped>\n",
              "    .dataframe tbody tr th:only-of-type {\n",
              "        vertical-align: middle;\n",
              "    }\n",
              "\n",
              "    .dataframe tbody tr th {\n",
              "        vertical-align: top;\n",
              "    }\n",
              "\n",
              "    .dataframe thead th {\n",
              "        text-align: right;\n",
              "    }\n",
              "</style>\n",
              "<table border=\"1\" class=\"dataframe\">\n",
              "  <thead>\n",
              "    <tr style=\"text-align: right;\">\n",
              "      <th></th>\n",
              "      <th>bwt</th>\n",
              "      <th>gestation</th>\n",
              "      <th>parity</th>\n",
              "      <th>age</th>\n",
              "      <th>height</th>\n",
              "      <th>weight</th>\n",
              "      <th>smoke</th>\n",
              "    </tr>\n",
              "  </thead>\n",
              "  <tbody>\n",
              "    <tr>\n",
              "      <th>0</th>\n",
              "      <td>120</td>\n",
              "      <td>284</td>\n",
              "      <td>0</td>\n",
              "      <td>27</td>\n",
              "      <td>62</td>\n",
              "      <td>100</td>\n",
              "      <td>0</td>\n",
              "    </tr>\n",
              "    <tr>\n",
              "      <th>1</th>\n",
              "      <td>113</td>\n",
              "      <td>282</td>\n",
              "      <td>0</td>\n",
              "      <td>33</td>\n",
              "      <td>64</td>\n",
              "      <td>135</td>\n",
              "      <td>0</td>\n",
              "    </tr>\n",
              "    <tr>\n",
              "      <th>2</th>\n",
              "      <td>128</td>\n",
              "      <td>279</td>\n",
              "      <td>0</td>\n",
              "      <td>28</td>\n",
              "      <td>64</td>\n",
              "      <td>115</td>\n",
              "      <td>1</td>\n",
              "    </tr>\n",
              "    <tr>\n",
              "      <th>3</th>\n",
              "      <td>108</td>\n",
              "      <td>282</td>\n",
              "      <td>0</td>\n",
              "      <td>23</td>\n",
              "      <td>67</td>\n",
              "      <td>125</td>\n",
              "      <td>1</td>\n",
              "    </tr>\n",
              "    <tr>\n",
              "      <th>4</th>\n",
              "      <td>136</td>\n",
              "      <td>286</td>\n",
              "      <td>0</td>\n",
              "      <td>25</td>\n",
              "      <td>62</td>\n",
              "      <td>93</td>\n",
              "      <td>0</td>\n",
              "    </tr>\n",
              "  </tbody>\n",
              "</table>\n",
              "</div>"
            ],
            "text/plain": [
              "   bwt  gestation  parity  age  height  weight  smoke\n",
              "0  120        284       0   27      62     100      0\n",
              "1  113        282       0   33      64     135      0\n",
              "2  128        279       0   28      64     115      1\n",
              "3  108        282       0   23      67     125      1\n",
              "4  136        286       0   25      62      93      0"
            ]
          },
          "metadata": {
            "tags": []
          },
          "execution_count": 3
        }
      ]
    },
    {
      "metadata": {
        "id": "dy5FkUZpkJT_",
        "colab_type": "code",
        "colab": {}
      },
      "cell_type": "code",
      "source": [
        "bwt_df.describe()"
      ],
      "execution_count": 0,
      "outputs": []
    },
    {
      "metadata": {
        "id": "PIIFMSmoF3En",
        "colab_type": "code",
        "outputId": "07404096-7a4d-4692-dba4-4822661b20ef",
        "colab": {
          "base_uri": "https://localhost:8080/",
          "height": 347
        }
      },
      "cell_type": "code",
      "source": [
        "bwt_df['bwt'].plot.hist();"
      ],
      "execution_count": 0,
      "outputs": [
        {
          "output_type": "display_data",
          "data": {
            "image/png": "[encoded data removed]",
            "text/plain": [
              "<Figure size 576x396 with 1 Axes>"
            ]
          },
          "metadata": {
            "tags": []
          }
        }
      ]
    },
    {
      "metadata": {
        "id": "Ez8qPLojjlFf",
        "colab_type": "code",
        "outputId": "23365a50-ad0a-48a0-8a28-e42e6c0803f7",
        "colab": {
          "base_uri": "https://localhost:8080/",
          "height": 34
        }
      },
      "cell_type": "code",
      "source": [
        "from sklearn.linear_model import LinearRegression\n",
        "\n",
        "# Let's drop NAs and limit to numeric values\n",
        "df = bwt_df._get_numeric_data().dropna()\n",
        "X = bwt_df.drop('bwt', axis='columns')\n",
        "y = df['bwt']\n",
        "\n",
        "linear_reg = LinearRegression().fit(X, y)\n",
        "linear_reg.score(X, y)"
      ],
      "execution_count": 18,
      "outputs": [
        {
          "output_type": "execute_result",
          "data": {
            "text/plain": [
              "0.2579534937842991"
            ]
          },
          "metadata": {
            "tags": []
          },
          "execution_count": 18
        }
      ]
    },
    {
      "metadata": {
        "id": "rlpG3KAvwxHK",
        "colab_type": "code",
        "colab": {}
      },
      "cell_type": "code",
      "source": [
        "# average mean birth weight by linear regression coefficient\n",
        "for name, coef in zip(X.columns, linear_reg.coef_):\n",
        "  print(name, coef)"
      ],
      "execution_count": 0,
      "outputs": []
    },
    {
      "metadata": {
        "id": "ZCOZmC7j18kS",
        "colab_type": "code",
        "outputId": "114d2e56-6207-4cb3-9d36-2c4117159e88",
        "colab": {
          "base_uri": "https://localhost:8080/",
          "height": 34
        }
      },
      "cell_type": "code",
      "source": [
        "#  find appropriate q (quantile) to target bwt below 90 ounces\n",
        "from scipy.stats import percentileofscore\n",
        "\n",
        "bwt_below_90 = 90\n",
        "q_90 = percentileofscore(bwt_df.bwt,bwt_below_90) / 100\n",
        "q_90"
      ],
      "execution_count": 19,
      "outputs": [
        {
          "output_type": "execute_result",
          "data": {
            "text/plain": [
              "0.05664395229982964"
            ]
          },
          "metadata": {
            "tags": []
          },
          "execution_count": 19
        }
      ]
    },
    {
      "metadata": {
        "id": "PWAmuCZP7ZJK",
        "colab_type": "code",
        "outputId": "590b72b9-f4cf-4300-fdfe-7af513dabf2a",
        "colab": {
          "base_uri": "https://localhost:8080/",
          "height": 34
        }
      },
      "cell_type": "code",
      "source": [
        "#percentile = (number below 90 ounces / number of bwt) * 100\n",
        "bwt_len = bwt_df.bwt.shape[0] #1174\n",
        "num_below_90 = sum ( bwt_df.bwt <= 90 ) #68\n",
        "q_90 = num_below_90 / bwt_len \n",
        "q_90\n"
      ],
      "execution_count": 0,
      "outputs": [
        {
          "output_type": "execute_result",
          "data": {
            "text/plain": [
              "0.05792163543441227"
            ]
          },
          "metadata": {
            "tags": []
          },
          "execution_count": 75
        }
      ]
    },
    {
      "metadata": {
        "id": "i7wmvY_LxFp8",
        "colab_type": "code",
        "outputId": "116da9fe-d989-438c-a5ce-d8c763b2a59e",
        "colab": {
          "base_uri": "https://localhost:8080/",
          "height": 317
        }
      },
      "cell_type": "code",
      "source": [
        "#  using q_90 above to run quantile for bwt below 90 ounces  \n",
        "\n",
        "quant_formula = 'bwt ~ ' + ' + '.join(bwt_df.drop('bwt', axis='columns').columns)\n",
        "\n",
        "quant_mod = smf.quantreg(quant_formula, data=bwt_df)\n",
        "quant_reg = quant_mod.fit(q=q_90)\n",
        "quant_reg.summary()\n"
      ],
      "execution_count": 20,
      "outputs": [
        {
          "output_type": "execute_result",
          "data": {
            "text/html": [
              "<table class=\"simpletable\">\n",
              "<caption>QuantReg Regression Results</caption>\n",
              "<tr>\n",
              "  <th>Dep. Variable:</th>        <td>bwt</td>       <th>  Pseudo R-squared:  </th> <td>  0.1989</td>\n",
              "</tr>\n",
              "<tr>\n",
              "  <th>Model:</th>             <td>QuantReg</td>     <th>  Bandwidth:         </th> <td>   6.228</td>\n",
              "</tr>\n",
              "<tr>\n",
              "  <th>Method:</th>          <td>Least Squares</td>  <th>  Sparsity:          </th> <td>   132.4</td>\n",
              "</tr>\n",
              "<tr>\n",
              "  <th>Date:</th>          <td>Thu, 24 Jan 2019</td> <th>  No. Observations:  </th>  <td>  1174</td> \n",
              "</tr>\n",
              "<tr>\n",
              "  <th>Time:</th>              <td>22:10:36</td>     <th>  Df Residuals:      </th>  <td>  1167</td> \n",
              "</tr>\n",
              "<tr>\n",
              "  <th> </th>                      <td> </td>        <th>  Df Model:          </th>  <td>     6</td> \n",
              "</tr>\n",
              "</table>\n",
              "<table class=\"simpletable\">\n",
              "<tr>\n",
              "      <td></td>         <th>coef</th>     <th>std err</th>      <th>t</th>      <th>P>|t|</th>  <th>[0.025</th>    <th>0.975]</th>  \n",
              "</tr>\n",
              "<tr>\n",
              "  <th>Intercept</th> <td>  -96.3321</td> <td>   32.589</td> <td>   -2.956</td> <td> 0.003</td> <td> -160.271</td> <td>  -32.393</td>\n",
              "</tr>\n",
              "<tr>\n",
              "  <th>gestation</th> <td>    0.4789</td> <td>    0.089</td> <td>    5.381</td> <td> 0.000</td> <td>    0.304</td> <td>    0.654</td>\n",
              "</tr>\n",
              "<tr>\n",
              "  <th>parity</th>    <td>   -3.2501</td> <td>    2.338</td> <td>   -1.390</td> <td> 0.165</td> <td>   -7.837</td> <td>    1.337</td>\n",
              "</tr>\n",
              "<tr>\n",
              "  <th>age</th>       <td>   -0.0836</td> <td>    0.172</td> <td>   -0.486</td> <td> 0.627</td> <td>   -0.421</td> <td>    0.254</td>\n",
              "</tr>\n",
              "<tr>\n",
              "  <th>height</th>    <td>    1.2308</td> <td>    0.437</td> <td>    2.817</td> <td> 0.005</td> <td>    0.374</td> <td>    2.088</td>\n",
              "</tr>\n",
              "<tr>\n",
              "  <th>weight</th>    <td>   -0.1191</td> <td>    0.058</td> <td>   -2.048</td> <td> 0.041</td> <td>   -0.233</td> <td>   -0.005</td>\n",
              "</tr>\n",
              "<tr>\n",
              "  <th>smoke</th>     <td>   -8.7485</td> <td>    1.855</td> <td>   -4.716</td> <td> 0.000</td> <td>  -12.388</td> <td>   -5.109</td>\n",
              "</tr>\n",
              "</table>"
            ],
            "text/plain": [
              "<class 'statsmodels.iolib.summary.Summary'>\n",
              "\"\"\"\n",
              "                         QuantReg Regression Results                          \n",
              "==============================================================================\n",
              "Dep. Variable:                    bwt   Pseudo R-squared:               0.1989\n",
              "Model:                       QuantReg   Bandwidth:                       6.228\n",
              "Method:                 Least Squares   Sparsity:                        132.4\n",
              "Date:                Thu, 24 Jan 2019   No. Observations:                 1174\n",
              "Time:                        22:10:36   Df Residuals:                     1167\n",
              "                                        Df Model:                            6\n",
              "==============================================================================\n",
              "                 coef    std err          t      P>|t|      [0.025      0.975]\n",
              "------------------------------------------------------------------------------\n",
              "Intercept    -96.3321     32.589     -2.956      0.003    -160.271     -32.393\n",
              "gestation      0.4789      0.089      5.381      0.000       0.304       0.654\n",
              "parity        -3.2501      2.338     -1.390      0.165      -7.837       1.337\n",
              "age           -0.0836      0.172     -0.486      0.627      -0.421       0.254\n",
              "height         1.2308      0.437      2.817      0.005       0.374       2.088\n",
              "weight        -0.1191      0.058     -2.048      0.041      -0.233      -0.005\n",
              "smoke         -8.7485      1.855     -4.716      0.000     -12.388      -5.109\n",
              "==============================================================================\n",
              "\n",
              "The condition number is large, 9.8e+03. This might indicate that there are\n",
              "strong multicollinearity or other numerical problems.\n",
              "\"\"\""
            ]
          },
          "metadata": {
            "tags": []
          },
          "execution_count": 20
        }
      ]
    },
    {
      "metadata": {
        "id": "3dDo9dw3ILyN",
        "colab_type": "code",
        "colab": {}
      },
      "cell_type": "code",
      "source": [
        "X.head()"
      ],
      "execution_count": 0,
      "outputs": []
    },
    {
      "metadata": {
        "id": "wwOUP4IbFAS6",
        "colab_type": "code",
        "colab": {}
      },
      "cell_type": "code",
      "source": [
        "quant_reg.predict(X)[:10]"
      ],
      "execution_count": 0,
      "outputs": []
    },
    {
      "metadata": {
        "id": "tjl8ccSiDEyy",
        "colab_type": "code",
        "outputId": "e0035095-ccfd-4014-b709-c712a370407d",
        "colab": {
          "base_uri": "https://localhost:8080/",
          "height": 34
        }
      },
      "cell_type": "code",
      "source": [
        "# feature engineering\n",
        "quant_formula = 'bwt ~ ' + ' + '.join(bwt_df.drop(['bwt','age','parity'], axis='columns').columns)\n",
        "quant_formula\n"
      ],
      "execution_count": 0,
      "outputs": [
        {
          "output_type": "execute_result",
          "data": {
            "text/plain": [
              "'bwt ~ gestation + height + weight + smoke'"
            ]
          },
          "metadata": {
            "tags": []
          },
          "execution_count": 85
        }
      ]
    },
    {
      "metadata": {
        "id": "qrdMTwkyDAC6",
        "colab_type": "code",
        "colab": {}
      },
      "cell_type": "code",
      "source": [
        "#quant_formula = 'bwt ~ ' + ' + '.join(bwt_df.drop('bwt', axis='columns').columns)\n",
        "\n",
        "quant_mod = smf.quantreg(quant_formula, data=bwt_df)\n",
        "quant_reg = quant_mod.fit(q=q_90)\n",
        "quant_reg.summary()\n"
      ],
      "execution_count": 0,
      "outputs": []
    },
    {
      "metadata": {
        "id": "sJwL2Y7R9jhI",
        "colab_type": "code",
        "colab": {}
      },
      "cell_type": "code",
      "source": [
        "quant_reg.predict(X)[:10]"
      ],
      "execution_count": 0,
      "outputs": []
    },
    {
      "metadata": {
        "id": "n6XrhOvml9OO",
        "colab_type": "code",
        "colab": {}
      },
      "cell_type": "code",
      "source": [
        "# y value for bwt 90 cutoff at quantile 0.566\n",
        "#y_566 = quant_reg.params['gestation'] * X.gestation + quant_reg.params['Intercept']\n",
        "\n",
        "p = \"bwt ~ gestation\"\n",
        "quant_mod = smf.quantreg(p, data=df)\n",
        "quant_line_reg = quant_mod.fit(q=q_90)\n",
        "\n",
        "slope=quant_line_reg.params['gestation']\n",
        "intercept = quant_line_reg.params['Intercept']\n",
        "\n",
        "x_line = np.linspace(195,353,159)\n",
        "y_line = [int(x) * slope + intercept for x in x_line]"
      ],
      "execution_count": 0,
      "outputs": []
    },
    {
      "metadata": {
        "id": "aJzGWA6q6NXt",
        "colab_type": "code",
        "colab": {}
      },
      "cell_type": "code",
      "source": [
        "X"
      ],
      "execution_count": 0,
      "outputs": []
    },
    {
      "metadata": {
        "id": "ARrmIM2CMLTn",
        "colab_type": "code",
        "outputId": "d53954c9-f177-440e-93dd-9589e5e8d338",
        "colab": {
          "base_uri": "https://localhost:8080/",
          "height": 408
        }
      },
      "cell_type": "code",
      "source": [
        "fig, ax = plt.subplots(figsize=(8, 6))\n",
        "\n",
        "plt.title(f\"q: {q_90:0.04} quantreg line for Gestation Days and Birthweight ounces centered for 90 ounces\")\n",
        "ax.plot(x_line, y_line, color='green', label=f\"q:{q_90:0.04}\" )\n",
        "\n",
        "ax.scatter(bwt_df.gestation, bwt_df.bwt, alpha=0.2, color='blue', label='Original')\n",
        "\n",
        "y_quant = quant_reg.predict(X)\n",
        "ax.scatter(X.gestation, y_quant, alpha=.2, color='red', label='Quant_reg')\n",
        "\n",
        "\n",
        "ax.set_xlim((170, 400))\n",
        "ax.set_ylim((-10, 200))\n",
        "legend = ax.legend()\n",
        "ax.set_xlabel('Gestation', fontsize=16)\n",
        "ax.set_ylabel('Birth weight', fontsize=16);"
      ],
      "execution_count": 30,
      "outputs": [
        {
          "output_type": "display_data",
          "data": {
            "image/png": "[encoded data removed]",
            "text/plain": [
              "<Figure size 576x432 with 1 Axes>"
            ]
          },
          "metadata": {
            "tags": []
          }
        }
      ]
    },
    {
      "metadata": {
        "id": "UxKx7Gwa4ZXN",
        "colab_type": "code",
        "colab": {
          "base_uri": "https://localhost:8080/",
          "height": 376
        },
        "outputId": "9fa44637-fdd0-4a5b-df85-a8745a3df425"
      },
      "cell_type": "code",
      "source": [
        "p = \"bwt ~ gestation\"\n",
        "quant_mod = smf.quantreg(p, data=df)\n",
        "quant_line_reg = quant_mod.fit(q=q_90)\n",
        "intercept = float(quant_line_reg.summary().tables[1][1][1].data)\n",
        "slope = float(quant_line_reg.summary().tables[1][2][1].data)\n",
        "type(slope)\n",
        "x_line = np.linspace(195,353,159)\n",
        "y_line = [int(x) * slope + intercept for x in x_line]\n",
        "plt.plot(x_line,y_line, c='g')\n",
        "plt.scatter(df.gestation, df.bwt)\n",
        "plt.xlabel(\"Ounces\")\n",
        "plt.ylabel(\"Gestation Days\")\n",
        "\n",
        "plt.title(f\"q: {q_90:0.04} quantreg line for Gestation Days and Birthweight ounces centered for 90 ounces\")\n",
        "plt.show() "
      ],
      "execution_count": 24,
      "outputs": [
        {
          "output_type": "display_data",
          "data": {
            "image/png": "[encoded data removed]",
            "text/plain": [
              "<Figure size 576x396 with 1 Axes>"
            ]
          },
          "metadata": {
            "tags": []
          }
        }
      ]
    },
    {
      "metadata": {
        "id": "XY9JGAnJisdB",
        "colab_type": "text"
      },
      "cell_type": "markdown",
      "source": [
        "## Resources and stretch goals"
      ]
    },
    {
      "metadata": {
        "id": "inFWXSpqmND5",
        "colab_type": "text"
      },
      "cell_type": "markdown",
      "source": [
        "Resources:\n",
        "- [statsmodels QuantReg example](http://www.statsmodels.org/dev/examples/notebooks/generated/quantile_regression.html)\n",
        "- [How Shopify used Quantile Regression in modeling risk](https://medium.com/data-shopify/how-shopify-capital-uses-quantile-regression-to-help-merchants-succeed-10ee1b36b17d)\n",
        "\n",
        "Stretch goals:\n",
        "- Find a dataset where you think quantile regression may be appropriate, and try both it and linear regression - compare/contrast their strengths/weaknesses, and write a summary for which you think is better for the situation and why\n",
        "- Check out [deep quantile regression](https://www.kdnuggets.com/2018/07/deep-quantile-regression.html), an approach that uses a custom quantile loss function and Keras to train a quantile model"
      ]
    }
  ]
}