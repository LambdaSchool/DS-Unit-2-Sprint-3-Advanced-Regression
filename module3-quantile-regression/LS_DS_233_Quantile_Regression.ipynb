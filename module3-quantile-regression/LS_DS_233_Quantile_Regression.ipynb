{
  "nbformat": 4,
  "nbformat_minor": 0,
  "metadata": {
    "colab": {
      "name": "LS_DS_233_Quantile_Regression.ipynb",
      "version": "0.3.2",
      "provenance": []
    },
    "kernelspec": {
      "name": "python3",
      "display_name": "Python 3"
    }
  },
  "cells": [
    {
      "metadata": {
        "id": "SV7gaADiicnV",
        "colab_type": "text"
      },
      "cell_type": "markdown",
      "source": [
        "# Lambda School Data Science - Quantile Regression\n",
        "\n",
        "Regressing towards the median - or any quantile - as a way to mitigate outliers and control risk."
      ]
    },
    {
      "metadata": {
        "id": "6klMj4q3iqMh",
        "colab_type": "text"
      },
      "cell_type": "markdown",
      "source": [
        "## Lecture\n",
        "\n",
        "Let's look at data that has a bit of a skew to it:\n",
        "\n",
        "http://archive.ics.uci.edu/ml/datasets/Beijing+PM2.5+Data"
      ]
    },
    {
      "metadata": {
        "id": "yw1AD_z9O0xL",
        "colab_type": "code",
        "colab": {}
      },
      "cell_type": "code",
      "source": [
        "import pandas as pd\n",
        "df = pd.read_csv('http://archive.ics.uci.edu/ml/machine-learning-databases/'\n",
        "                 '00381/PRSA_data_2010.1.1-2014.12.31.csv')"
      ],
      "execution_count": 0,
      "outputs": []
    },
    {
      "metadata": {
        "id": "RTlH1lJ8PDv5",
        "colab_type": "code",
        "outputId": "b5f873d5-0555-4235-eb4a-60aa3fb43cbc",
        "colab": {
          "base_uri": "https://localhost:8080/",
          "height": 195
        }
      },
      "cell_type": "code",
      "source": [
        "df.head()"
      ],
      "execution_count": 2,
      "outputs": [
        {
          "output_type": "execute_result",
          "data": {
            "text/html": [
              "<div>\n",
              "<style scoped>\n",
              "    .dataframe tbody tr th:only-of-type {\n",
              "        vertical-align: middle;\n",
              "    }\n",
              "\n",
              "    .dataframe tbody tr th {\n",
              "        vertical-align: top;\n",
              "    }\n",
              "\n",
              "    .dataframe thead th {\n",
              "        text-align: right;\n",
              "    }\n",
              "</style>\n",
              "<table border=\"1\" class=\"dataframe\">\n",
              "  <thead>\n",
              "    <tr style=\"text-align: right;\">\n",
              "      <th></th>\n",
              "      <th>No</th>\n",
              "      <th>year</th>\n",
              "      <th>month</th>\n",
              "      <th>day</th>\n",
              "      <th>hour</th>\n",
              "      <th>pm2.5</th>\n",
              "      <th>DEWP</th>\n",
              "      <th>TEMP</th>\n",
              "      <th>PRES</th>\n",
              "      <th>cbwd</th>\n",
              "      <th>Iws</th>\n",
              "      <th>Is</th>\n",
              "      <th>Ir</th>\n",
              "    </tr>\n",
              "  </thead>\n",
              "  <tbody>\n",
              "    <tr>\n",
              "      <th>0</th>\n",
              "      <td>1</td>\n",
              "      <td>2010</td>\n",
              "      <td>1</td>\n",
              "      <td>1</td>\n",
              "      <td>0</td>\n",
              "      <td>NaN</td>\n",
              "      <td>-21</td>\n",
              "      <td>-11.0</td>\n",
              "      <td>1021.0</td>\n",
              "      <td>NW</td>\n",
              "      <td>1.79</td>\n",
              "      <td>0</td>\n",
              "      <td>0</td>\n",
              "    </tr>\n",
              "    <tr>\n",
              "      <th>1</th>\n",
              "      <td>2</td>\n",
              "      <td>2010</td>\n",
              "      <td>1</td>\n",
              "      <td>1</td>\n",
              "      <td>1</td>\n",
              "      <td>NaN</td>\n",
              "      <td>-21</td>\n",
              "      <td>-12.0</td>\n",
              "      <td>1020.0</td>\n",
              "      <td>NW</td>\n",
              "      <td>4.92</td>\n",
              "      <td>0</td>\n",
              "      <td>0</td>\n",
              "    </tr>\n",
              "    <tr>\n",
              "      <th>2</th>\n",
              "      <td>3</td>\n",
              "      <td>2010</td>\n",
              "      <td>1</td>\n",
              "      <td>1</td>\n",
              "      <td>2</td>\n",
              "      <td>NaN</td>\n",
              "      <td>-21</td>\n",
              "      <td>-11.0</td>\n",
              "      <td>1019.0</td>\n",
              "      <td>NW</td>\n",
              "      <td>6.71</td>\n",
              "      <td>0</td>\n",
              "      <td>0</td>\n",
              "    </tr>\n",
              "    <tr>\n",
              "      <th>3</th>\n",
              "      <td>4</td>\n",
              "      <td>2010</td>\n",
              "      <td>1</td>\n",
              "      <td>1</td>\n",
              "      <td>3</td>\n",
              "      <td>NaN</td>\n",
              "      <td>-21</td>\n",
              "      <td>-14.0</td>\n",
              "      <td>1019.0</td>\n",
              "      <td>NW</td>\n",
              "      <td>9.84</td>\n",
              "      <td>0</td>\n",
              "      <td>0</td>\n",
              "    </tr>\n",
              "    <tr>\n",
              "      <th>4</th>\n",
              "      <td>5</td>\n",
              "      <td>2010</td>\n",
              "      <td>1</td>\n",
              "      <td>1</td>\n",
              "      <td>4</td>\n",
              "      <td>NaN</td>\n",
              "      <td>-20</td>\n",
              "      <td>-12.0</td>\n",
              "      <td>1018.0</td>\n",
              "      <td>NW</td>\n",
              "      <td>12.97</td>\n",
              "      <td>0</td>\n",
              "      <td>0</td>\n",
              "    </tr>\n",
              "  </tbody>\n",
              "</table>\n",
              "</div>"
            ],
            "text/plain": [
              "   No  year  month  day  hour  pm2.5  DEWP  TEMP    PRES cbwd    Iws  Is  Ir\n",
              "0   1  2010      1    1     0    NaN   -21 -11.0  1021.0   NW   1.79   0   0\n",
              "1   2  2010      1    1     1    NaN   -21 -12.0  1020.0   NW   4.92   0   0\n",
              "2   3  2010      1    1     2    NaN   -21 -11.0  1019.0   NW   6.71   0   0\n",
              "3   4  2010      1    1     3    NaN   -21 -14.0  1019.0   NW   9.84   0   0\n",
              "4   5  2010      1    1     4    NaN   -20 -12.0  1018.0   NW  12.97   0   0"
            ]
          },
          "metadata": {
            "tags": []
          },
          "execution_count": 2
        }
      ]
    },
    {
      "metadata": {
        "id": "m-yC9OSPPFo8",
        "colab_type": "code",
        "outputId": "ebdb2717-51eb-4aad-f81b-e156f6d825ed",
        "colab": {
          "base_uri": "https://localhost:8080/",
          "height": 284
        }
      },
      "cell_type": "code",
      "source": [
        "df.describe()"
      ],
      "execution_count": 3,
      "outputs": [
        {
          "output_type": "execute_result",
          "data": {
            "text/html": [
              "<div>\n",
              "<style scoped>\n",
              "    .dataframe tbody tr th:only-of-type {\n",
              "        vertical-align: middle;\n",
              "    }\n",
              "\n",
              "    .dataframe tbody tr th {\n",
              "        vertical-align: top;\n",
              "    }\n",
              "\n",
              "    .dataframe thead th {\n",
              "        text-align: right;\n",
              "    }\n",
              "</style>\n",
              "<table border=\"1\" class=\"dataframe\">\n",
              "  <thead>\n",
              "    <tr style=\"text-align: right;\">\n",
              "      <th></th>\n",
              "      <th>No</th>\n",
              "      <th>year</th>\n",
              "      <th>month</th>\n",
              "      <th>day</th>\n",
              "      <th>hour</th>\n",
              "      <th>pm2.5</th>\n",
              "      <th>DEWP</th>\n",
              "      <th>TEMP</th>\n",
              "      <th>PRES</th>\n",
              "      <th>Iws</th>\n",
              "      <th>Is</th>\n",
              "      <th>Ir</th>\n",
              "    </tr>\n",
              "  </thead>\n",
              "  <tbody>\n",
              "    <tr>\n",
              "      <th>count</th>\n",
              "      <td>43824.000000</td>\n",
              "      <td>43824.000000</td>\n",
              "      <td>43824.000000</td>\n",
              "      <td>43824.000000</td>\n",
              "      <td>43824.000000</td>\n",
              "      <td>41757.000000</td>\n",
              "      <td>43824.000000</td>\n",
              "      <td>43824.000000</td>\n",
              "      <td>43824.000000</td>\n",
              "      <td>43824.000000</td>\n",
              "      <td>43824.000000</td>\n",
              "      <td>43824.000000</td>\n",
              "    </tr>\n",
              "    <tr>\n",
              "      <th>mean</th>\n",
              "      <td>21912.500000</td>\n",
              "      <td>2012.000000</td>\n",
              "      <td>6.523549</td>\n",
              "      <td>15.727820</td>\n",
              "      <td>11.500000</td>\n",
              "      <td>98.613215</td>\n",
              "      <td>1.817246</td>\n",
              "      <td>12.448521</td>\n",
              "      <td>1016.447654</td>\n",
              "      <td>23.889140</td>\n",
              "      <td>0.052734</td>\n",
              "      <td>0.194916</td>\n",
              "    </tr>\n",
              "    <tr>\n",
              "      <th>std</th>\n",
              "      <td>12651.043435</td>\n",
              "      <td>1.413842</td>\n",
              "      <td>3.448572</td>\n",
              "      <td>8.799425</td>\n",
              "      <td>6.922266</td>\n",
              "      <td>92.050387</td>\n",
              "      <td>14.433440</td>\n",
              "      <td>12.198613</td>\n",
              "      <td>10.268698</td>\n",
              "      <td>50.010635</td>\n",
              "      <td>0.760375</td>\n",
              "      <td>1.415867</td>\n",
              "    </tr>\n",
              "    <tr>\n",
              "      <th>min</th>\n",
              "      <td>1.000000</td>\n",
              "      <td>2010.000000</td>\n",
              "      <td>1.000000</td>\n",
              "      <td>1.000000</td>\n",
              "      <td>0.000000</td>\n",
              "      <td>0.000000</td>\n",
              "      <td>-40.000000</td>\n",
              "      <td>-19.000000</td>\n",
              "      <td>991.000000</td>\n",
              "      <td>0.450000</td>\n",
              "      <td>0.000000</td>\n",
              "      <td>0.000000</td>\n",
              "    </tr>\n",
              "    <tr>\n",
              "      <th>25%</th>\n",
              "      <td>10956.750000</td>\n",
              "      <td>2011.000000</td>\n",
              "      <td>4.000000</td>\n",
              "      <td>8.000000</td>\n",
              "      <td>5.750000</td>\n",
              "      <td>29.000000</td>\n",
              "      <td>-10.000000</td>\n",
              "      <td>2.000000</td>\n",
              "      <td>1008.000000</td>\n",
              "      <td>1.790000</td>\n",
              "      <td>0.000000</td>\n",
              "      <td>0.000000</td>\n",
              "    </tr>\n",
              "    <tr>\n",
              "      <th>50%</th>\n",
              "      <td>21912.500000</td>\n",
              "      <td>2012.000000</td>\n",
              "      <td>7.000000</td>\n",
              "      <td>16.000000</td>\n",
              "      <td>11.500000</td>\n",
              "      <td>72.000000</td>\n",
              "      <td>2.000000</td>\n",
              "      <td>14.000000</td>\n",
              "      <td>1016.000000</td>\n",
              "      <td>5.370000</td>\n",
              "      <td>0.000000</td>\n",
              "      <td>0.000000</td>\n",
              "    </tr>\n",
              "    <tr>\n",
              "      <th>75%</th>\n",
              "      <td>32868.250000</td>\n",
              "      <td>2013.000000</td>\n",
              "      <td>10.000000</td>\n",
              "      <td>23.000000</td>\n",
              "      <td>17.250000</td>\n",
              "      <td>137.000000</td>\n",
              "      <td>15.000000</td>\n",
              "      <td>23.000000</td>\n",
              "      <td>1025.000000</td>\n",
              "      <td>21.910000</td>\n",
              "      <td>0.000000</td>\n",
              "      <td>0.000000</td>\n",
              "    </tr>\n",
              "    <tr>\n",
              "      <th>max</th>\n",
              "      <td>43824.000000</td>\n",
              "      <td>2014.000000</td>\n",
              "      <td>12.000000</td>\n",
              "      <td>31.000000</td>\n",
              "      <td>23.000000</td>\n",
              "      <td>994.000000</td>\n",
              "      <td>28.000000</td>\n",
              "      <td>42.000000</td>\n",
              "      <td>1046.000000</td>\n",
              "      <td>585.600000</td>\n",
              "      <td>27.000000</td>\n",
              "      <td>36.000000</td>\n",
              "    </tr>\n",
              "  </tbody>\n",
              "</table>\n",
              "</div>"
            ],
            "text/plain": [
              "                 No          year         month           day          hour  \\\n",
              "count  43824.000000  43824.000000  43824.000000  43824.000000  43824.000000   \n",
              "mean   21912.500000   2012.000000      6.523549     15.727820     11.500000   \n",
              "std    12651.043435      1.413842      3.448572      8.799425      6.922266   \n",
              "min        1.000000   2010.000000      1.000000      1.000000      0.000000   \n",
              "25%    10956.750000   2011.000000      4.000000      8.000000      5.750000   \n",
              "50%    21912.500000   2012.000000      7.000000     16.000000     11.500000   \n",
              "75%    32868.250000   2013.000000     10.000000     23.000000     17.250000   \n",
              "max    43824.000000   2014.000000     12.000000     31.000000     23.000000   \n",
              "\n",
              "              pm2.5          DEWP          TEMP          PRES           Iws  \\\n",
              "count  41757.000000  43824.000000  43824.000000  43824.000000  43824.000000   \n",
              "mean      98.613215      1.817246     12.448521   1016.447654     23.889140   \n",
              "std       92.050387     14.433440     12.198613     10.268698     50.010635   \n",
              "min        0.000000    -40.000000    -19.000000    991.000000      0.450000   \n",
              "25%       29.000000    -10.000000      2.000000   1008.000000      1.790000   \n",
              "50%       72.000000      2.000000     14.000000   1016.000000      5.370000   \n",
              "75%      137.000000     15.000000     23.000000   1025.000000     21.910000   \n",
              "max      994.000000     28.000000     42.000000   1046.000000    585.600000   \n",
              "\n",
              "                 Is            Ir  \n",
              "count  43824.000000  43824.000000  \n",
              "mean       0.052734      0.194916  \n",
              "std        0.760375      1.415867  \n",
              "min        0.000000      0.000000  \n",
              "25%        0.000000      0.000000  \n",
              "50%        0.000000      0.000000  \n",
              "75%        0.000000      0.000000  \n",
              "max       27.000000     36.000000  "
            ]
          },
          "metadata": {
            "tags": []
          },
          "execution_count": 3
        }
      ]
    },
    {
      "metadata": {
        "id": "hfV3WisFP_O6",
        "colab_type": "code",
        "outputId": "a9a45194-0f8e-44ba-d6bf-004904448f74",
        "colab": {
          "base_uri": "https://localhost:8080/",
          "height": 347
        }
      },
      "cell_type": "code",
      "source": [
        "df['pm2.5'].plot.hist();"
      ],
      "execution_count": 4,
      "outputs": [
        {
          "output_type": "display_data",
          "data": {
            "image/png": "[encoded data removed]",
            "text/plain": [
              "<Figure size 576x396 with 1 Axes>"
            ]
          },
          "metadata": {
            "tags": []
          }
        }
      ]
    },
    {
      "metadata": {
        "id": "OgbMTAHzQJB8",
        "colab_type": "code",
        "outputId": "6d1f44f4-9816-4118-c71a-60bb6d331835",
        "colab": {
          "base_uri": "https://localhost:8080/",
          "height": 34
        }
      },
      "cell_type": "code",
      "source": [
        "# How does linear regression handle it?\n",
        "from sklearn.linear_model import LinearRegression\n",
        "\n",
        "# Let's drop NAs and limit to numeric values\n",
        "df = df._get_numeric_data().dropna()\n",
        "X = df.drop('pm2.5', axis='columns')\n",
        "y = df['pm2.5']\n",
        "\n",
        "linear_reg = LinearRegression().fit(X, y)\n",
        "linear_reg.score(X, y)"
      ],
      "execution_count": 5,
      "outputs": [
        {
          "output_type": "execute_result",
          "data": {
            "text/plain": [
              "0.2590006399659215"
            ]
          },
          "metadata": {
            "tags": []
          },
          "execution_count": 5
        }
      ]
    },
    {
      "metadata": {
        "id": "-viFFtm0RizM",
        "colab_type": "code",
        "outputId": "19ed0855-f9fa-4f42-c112-60779a3b5187",
        "colab": {
          "base_uri": "https://localhost:8080/",
          "height": 434
        }
      },
      "cell_type": "code",
      "source": [
        "# Not bad - but what if we wanted to model the distribution more conservatively?\n",
        "# Let's try quantile\n",
        "import statsmodels.formula.api as smf\n",
        "\n",
        "# Different jargon/API in StatsModel documentation\n",
        "# \"endogenous\" response var is dependent (y), it is \"inside\"\n",
        "# \"exogenous\" variables are independent (X), it is \"outside\"\n",
        "# Bonus points - talk about \"exogenous shocks\" and you're a bona fide economist\n",
        "\n",
        "# ~ style formulas look like what R uses\n",
        "# y ~ x1 + x2 + ...\n",
        "# Also, these formulas break with . in variable name, so lets change that\n",
        "df = df.rename(index=str, columns={'pm2.5': 'pm25'})\n",
        "\n",
        "# Now let's construct the formula string using all columns\n",
        "quant_formula = 'pm25 ~ ' + ' + '.join(df.drop('pm25', axis='columns').columns)\n",
        "print(quant_formula)\n",
        "\n",
        "quant_mod = smf.quantreg(quant_formula, data=df)\n",
        "quant_reg = quant_mod.fit(q=.5)\n",
        "quant_reg.summary()  # \"summary\" is another very R-thing"
      ],
      "execution_count": 6,
      "outputs": [
        {
          "output_type": "stream",
          "text": [
            "pm25 ~ No + year + month + day + hour + DEWP + TEMP + PRES + Iws + Is + Ir\n"
          ],
          "name": "stdout"
        },
        {
          "output_type": "execute_result",
          "data": {
            "text/html": [
              "<table class=\"simpletable\">\n",
              "<caption>QuantReg Regression Results</caption>\n",
              "<tr>\n",
              "  <th>Dep. Variable:</th>       <td>pm25</td>       <th>  Pseudo R-squared:  </th> <td>  0.1600</td>\n",
              "</tr>\n",
              "<tr>\n",
              "  <th>Model:</th>             <td>QuantReg</td>     <th>  Bandwidth:         </th> <td>   8.276</td>\n",
              "</tr>\n",
              "<tr>\n",
              "  <th>Method:</th>          <td>Least Squares</td>  <th>  Sparsity:          </th> <td>   133.8</td>\n",
              "</tr>\n",
              "<tr>\n",
              "  <th>Date:</th>          <td>Thu, 24 Jan 2019</td> <th>  No. Observations:  </th>  <td> 41757</td> \n",
              "</tr>\n",
              "<tr>\n",
              "  <th>Time:</th>              <td>00:38:52</td>     <th>  Df Residuals:      </th>  <td> 41745</td> \n",
              "</tr>\n",
              "<tr>\n",
              "  <th> </th>                      <td> </td>        <th>  Df Model:          </th>  <td>    11</td> \n",
              "</tr>\n",
              "</table>\n",
              "<table class=\"simpletable\">\n",
              "<tr>\n",
              "      <td></td>         <th>coef</th>     <th>std err</th>      <th>t</th>      <th>P>|t|</th>  <th>[0.025</th>    <th>0.975]</th>  \n",
              "</tr>\n",
              "<tr>\n",
              "  <th>Intercept</th> <td>    0.0004</td> <td> 1.67e-05</td> <td>   22.881</td> <td> 0.000</td> <td>    0.000</td> <td>    0.000</td>\n",
              "</tr>\n",
              "<tr>\n",
              "  <th>No</th>        <td>  3.63e-07</td> <td> 2.67e-05</td> <td>    0.014</td> <td> 0.989</td> <td> -5.2e-05</td> <td> 5.27e-05</td>\n",
              "</tr>\n",
              "<tr>\n",
              "  <th>year</th>      <td>    0.8830</td> <td>    0.031</td> <td>   28.631</td> <td> 0.000</td> <td>    0.823</td> <td>    0.943</td>\n",
              "</tr>\n",
              "<tr>\n",
              "  <th>month</th>     <td>   -1.4110</td> <td>    0.103</td> <td>  -13.749</td> <td> 0.000</td> <td>   -1.612</td> <td>   -1.210</td>\n",
              "</tr>\n",
              "<tr>\n",
              "  <th>day</th>       <td>    0.4461</td> <td>    0.037</td> <td>   11.951</td> <td> 0.000</td> <td>    0.373</td> <td>    0.519</td>\n",
              "</tr>\n",
              "<tr>\n",
              "  <th>hour</th>      <td>    1.2810</td> <td>    0.050</td> <td>   25.779</td> <td> 0.000</td> <td>    1.184</td> <td>    1.378</td>\n",
              "</tr>\n",
              "<tr>\n",
              "  <th>DEWP</th>      <td>    3.6362</td> <td>    0.047</td> <td>   77.315</td> <td> 0.000</td> <td>    3.544</td> <td>    3.728</td>\n",
              "</tr>\n",
              "<tr>\n",
              "  <th>TEMP</th>      <td>   -4.7103</td> <td>    0.060</td> <td>  -78.779</td> <td> 0.000</td> <td>   -4.828</td> <td>   -4.593</td>\n",
              "</tr>\n",
              "<tr>\n",
              "  <th>PRES</th>      <td>   -1.6265</td> <td>    0.061</td> <td>  -26.760</td> <td> 0.000</td> <td>   -1.746</td> <td>   -1.507</td>\n",
              "</tr>\n",
              "<tr>\n",
              "  <th>Iws</th>       <td>   -0.1541</td> <td>    0.007</td> <td>  -21.786</td> <td> 0.000</td> <td>   -0.168</td> <td>   -0.140</td>\n",
              "</tr>\n",
              "<tr>\n",
              "  <th>Is</th>        <td>   -1.6322</td> <td>    0.425</td> <td>   -3.838</td> <td> 0.000</td> <td>   -2.466</td> <td>   -0.799</td>\n",
              "</tr>\n",
              "<tr>\n",
              "  <th>Ir</th>        <td>   -5.3946</td> <td>    0.234</td> <td>  -23.034</td> <td> 0.000</td> <td>   -5.854</td> <td>   -4.936</td>\n",
              "</tr>\n",
              "</table>"
            ],
            "text/plain": [
              "<class 'statsmodels.iolib.summary.Summary'>\n",
              "\"\"\"\n",
              "                         QuantReg Regression Results                          \n",
              "==============================================================================\n",
              "Dep. Variable:                   pm25   Pseudo R-squared:               0.1600\n",
              "Model:                       QuantReg   Bandwidth:                       8.276\n",
              "Method:                 Least Squares   Sparsity:                        133.8\n",
              "Date:                Thu, 24 Jan 2019   No. Observations:                41757\n",
              "Time:                        00:38:52   Df Residuals:                    41745\n",
              "                                        Df Model:                           11\n",
              "==============================================================================\n",
              "                 coef    std err          t      P>|t|      [0.025      0.975]\n",
              "------------------------------------------------------------------------------\n",
              "Intercept      0.0004   1.67e-05     22.881      0.000       0.000       0.000\n",
              "No           3.63e-07   2.67e-05      0.014      0.989    -5.2e-05    5.27e-05\n",
              "year           0.8830      0.031     28.631      0.000       0.823       0.943\n",
              "month         -1.4110      0.103    -13.749      0.000      -1.612      -1.210\n",
              "day            0.4461      0.037     11.951      0.000       0.373       0.519\n",
              "hour           1.2810      0.050     25.779      0.000       1.184       1.378\n",
              "DEWP           3.6362      0.047     77.315      0.000       3.544       3.728\n",
              "TEMP          -4.7103      0.060    -78.779      0.000      -4.828      -4.593\n",
              "PRES          -1.6265      0.061    -26.760      0.000      -1.746      -1.507\n",
              "Iws           -0.1541      0.007    -21.786      0.000      -0.168      -0.140\n",
              "Is            -1.6322      0.425     -3.838      0.000      -2.466      -0.799\n",
              "Ir            -5.3946      0.234    -23.034      0.000      -5.854      -4.936\n",
              "==============================================================================\n",
              "\n",
              "The condition number is large, 3.67e+10. This might indicate that there are\n",
              "strong multicollinearity or other numerical problems.\n",
              "\"\"\""
            ]
          },
          "metadata": {
            "tags": []
          },
          "execution_count": 6
        }
      ]
    },
    {
      "metadata": {
        "id": "ZBkP4bewd-HT",
        "colab_type": "text"
      },
      "cell_type": "markdown",
      "source": [
        "That fit to the median (q=0.5), also called \"Least Absolute Deviation.\" The pseudo-R^2 isn't really directly comparable to the R^2 from linear regression, but it clearly isn't dramatically improved. Can we make it better?"
      ]
    },
    {
      "metadata": {
        "id": "BgvYeHg3bL4g",
        "colab_type": "code",
        "outputId": "a94a9417-157c-4f79-afae-3289b3c21577",
        "colab": {
          "base_uri": "https://localhost:8080/",
          "height": 554
        }
      },
      "cell_type": "code",
      "source": [
        "help(quant_mod.fit)"
      ],
      "execution_count": 7,
      "outputs": [
        {
          "output_type": "stream",
          "text": [
            "Help on method fit in module statsmodels.regression.quantile_regression:\n",
            "\n",
            "fit(q=0.5, vcov='robust', kernel='epa', bandwidth='hsheather', max_iter=1000, p_tol=1e-06, **kwargs) method of statsmodels.regression.quantile_regression.QuantReg instance\n",
            "    Solve by Iterative Weighted Least Squares\n",
            "    \n",
            "    Parameters\n",
            "    ----------\n",
            "    q : float\n",
            "        Quantile must be between 0 and 1\n",
            "    vcov : string, method used to calculate the variance-covariance matrix\n",
            "        of the parameters. Default is ``robust``:\n",
            "    \n",
            "        - robust : heteroskedasticity robust standard errors (as suggested\n",
            "          in Greene 6th edition)\n",
            "        - iid : iid errors (as in Stata 12)\n",
            "    \n",
            "    kernel : string, kernel to use in the kernel density estimation for the\n",
            "        asymptotic covariance matrix:\n",
            "    \n",
            "        - epa: Epanechnikov\n",
            "        - cos: Cosine\n",
            "        - gau: Gaussian\n",
            "        - par: Parzene\n",
            "    \n",
            "    bandwidth: string, Bandwidth selection method in kernel density\n",
            "        estimation for asymptotic covariance estimate (full\n",
            "        references in QuantReg docstring):\n",
            "    \n",
            "        - hsheather: Hall-Sheather (1988)\n",
            "        - bofinger: Bofinger (1975)\n",
            "        - chamberlain: Chamberlain (1994)\n",
            "\n"
          ],
          "name": "stdout"
        }
      ]
    },
    {
      "metadata": {
        "id": "lpNPioZTei4U",
        "colab_type": "code",
        "outputId": "63e55a2d-eeca-47e6-cc89-d5f5b06e5f1d",
        "colab": {
          "base_uri": "https://localhost:8080/",
          "height": 1378
        }
      },
      "cell_type": "code",
      "source": [
        "quantiles = (.05, .96, .1)\n",
        "\n",
        "for quantile in quantiles:\n",
        "  print(quant_mod.fit(q=quantile).summary())"
      ],
      "execution_count": 8,
      "outputs": [
        {
          "output_type": "stream",
          "text": [
            "                         QuantReg Regression Results                          \n",
            "==============================================================================\n",
            "Dep. Variable:                   pm25   Pseudo R-squared:              0.04130\n",
            "Model:                       QuantReg   Bandwidth:                       8.908\n",
            "Method:                 Least Squares   Sparsity:                        120.7\n",
            "Date:                Thu, 24 Jan 2019   No. Observations:                41757\n",
            "Time:                        00:39:09   Df Residuals:                    41745\n",
            "                                        Df Model:                           11\n",
            "==============================================================================\n",
            "                 coef    std err          t      P>|t|      [0.025      0.975]\n",
            "------------------------------------------------------------------------------\n",
            "Intercept   3.072e-05    6.4e-06      4.803      0.000    1.82e-05    4.33e-05\n",
            "No         -6.994e-05   9.59e-06     -7.292      0.000   -8.87e-05   -5.11e-05\n",
            "year           0.0998      0.012      8.275      0.000       0.076       0.123\n",
            "month         -0.4536      0.034    -13.419      0.000      -0.520      -0.387\n",
            "day            0.1143      0.015      7.862      0.000       0.086       0.143\n",
            "hour           0.3777      0.020     19.013      0.000       0.339       0.417\n",
            "DEWP           0.7720      0.014     55.266      0.000       0.745       0.799\n",
            "TEMP          -0.8346      0.020    -41.621      0.000      -0.874      -0.795\n",
            "PRES          -0.1734      0.024     -7.290      0.000      -0.220      -0.127\n",
            "Iws           -0.0364      0.002    -17.462      0.000      -0.040      -0.032\n",
            "Is             1.4573      0.195      7.466      0.000       1.075       1.840\n",
            "Ir            -1.2952      0.071    -18.209      0.000      -1.435      -1.156\n",
            "==============================================================================\n",
            "\n",
            "The condition number is large, 3.67e+10. This might indicate that there are\n",
            "strong multicollinearity or other numerical problems.\n",
            "                         QuantReg Regression Results                          \n",
            "==============================================================================\n",
            "Dep. Variable:                   pm25   Pseudo R-squared:               0.2194\n",
            "Model:                       QuantReg   Bandwidth:                       10.41\n",
            "Method:                 Least Squares   Sparsity:                        1322.\n",
            "Date:                Thu, 24 Jan 2019   No. Observations:                41757\n",
            "Time:                        00:39:10   Df Residuals:                    41745\n",
            "                                        Df Model:                           11\n",
            "==============================================================================\n",
            "                 coef    std err          t      P>|t|      [0.025      0.975]\n",
            "------------------------------------------------------------------------------\n",
            "Intercept      0.0004   6.87e-05      5.306      0.000       0.000       0.000\n",
            "No          7.821e-05      0.000      0.696      0.486      -0.000       0.000\n",
            "year           1.0580      0.124      8.539      0.000       0.815       1.301\n",
            "month         -3.9661      0.446     -8.895      0.000      -4.840      -3.092\n",
            "day            1.0816      0.136      7.936      0.000       0.814       1.349\n",
            "hour           2.3661      0.192     12.354      0.000       1.991       2.741\n",
            "DEWP           7.5176      0.235     32.004      0.000       7.057       7.978\n",
            "TEMP         -11.6991      0.302    -38.691      0.000     -12.292     -11.106\n",
            "PRES          -1.7121      0.244     -7.003      0.000      -2.191      -1.233\n",
            "Iws           -0.4151      0.034    -12.339      0.000      -0.481      -0.349\n",
            "Is            -5.7267      1.580     -3.624      0.000      -8.824      -2.630\n",
            "Ir            -9.3197      1.457     -6.397      0.000     -12.175      -6.464\n",
            "==============================================================================\n",
            "\n",
            "The condition number is large, 3.67e+10. This might indicate that there are\n",
            "strong multicollinearity or other numerical problems.\n",
            "                         QuantReg Regression Results                          \n",
            "==============================================================================\n",
            "Dep. Variable:                   pm25   Pseudo R-squared:              0.06497\n",
            "Model:                       QuantReg   Bandwidth:                       8.092\n",
            "Method:                 Least Squares   Sparsity:                        104.4\n",
            "Date:                Thu, 24 Jan 2019   No. Observations:                41757\n",
            "Time:                        00:39:13   Df Residuals:                    41745\n",
            "                                        Df Model:                           11\n",
            "==============================================================================\n",
            "                 coef    std err          t      P>|t|      [0.025      0.975]\n",
            "------------------------------------------------------------------------------\n",
            "Intercept   5.214e-05   7.84e-06      6.650      0.000    3.68e-05    6.75e-05\n",
            "No         -9.232e-05   1.17e-05     -7.888      0.000      -0.000   -6.94e-05\n",
            "year           0.1521      0.015     10.386      0.000       0.123       0.181\n",
            "month         -0.5581      0.042    -13.138      0.000      -0.641      -0.475\n",
            "day            0.1708      0.017      9.893      0.000       0.137       0.205\n",
            "hour           0.4604      0.024     19.350      0.000       0.414       0.507\n",
            "DEWP           1.2350      0.017     70.845      0.000       1.201       1.269\n",
            "TEMP          -1.3088      0.024    -54.101      0.000      -1.356      -1.261\n",
            "PRES          -0.2652      0.029     -9.183      0.000      -0.322      -0.209\n",
            "Iws           -0.0436      0.003    -16.919      0.000      -0.049      -0.039\n",
            "Is             1.0745      0.231      4.653      0.000       0.622       1.527\n",
            "Ir            -1.9619      0.087    -22.504      0.000      -2.133      -1.791\n",
            "==============================================================================\n",
            "\n",
            "The condition number is large, 3.67e+10. This might indicate that there are\n",
            "strong multicollinearity or other numerical problems.\n"
          ],
          "name": "stdout"
        }
      ]
    },
    {
      "metadata": {
        "id": "Xqh4Jp1XgjrE",
        "colab_type": "text"
      },
      "cell_type": "markdown",
      "source": [
        "\"Strong multicollinearity\", eh? In other words - maybe we shouldn't throw every variable in our formula. Let's hand-craft a smaller one, picking the features with the largest magnitude t-statistics for their coefficients. Let's also search for more quantile cutoffs to see what's most effective."
      ]
    },
    {
      "metadata": {
        "id": "NmoELnXwgpXd",
        "colab_type": "code",
        "outputId": "20535091-f7e1-4ff1-bc72-9505153c07ec",
        "colab": {
          "base_uri": "https://localhost:8080/",
          "height": 924
        }
      },
      "cell_type": "code",
      "source": [
        "quant_formula = 'pm25 ~ DEWP + TEMP + Ir + hour + Iws'\n",
        "quant_mod = smf.quantreg(quant_formula, data=df)\n",
        "for quantile in range(50, 100):\n",
        "  quantile /= 100\n",
        "  quant_reg = quant_mod.fit(q=quantile)\n",
        "  print((quantile, quant_reg.prsquared))"
      ],
      "execution_count": 9,
      "outputs": [
        {
          "output_type": "stream",
          "text": [
            "(0.5, 0.1447879336023583)\n",
            "(0.51, 0.1453046499109799)\n",
            "(0.52, 0.1457984456251047)\n",
            "(0.53, 0.14627848333343263)\n",
            "(0.54, 0.1467640446791706)\n",
            "(0.55, 0.14733094668790292)\n",
            "(0.56, 0.14787821797693512)\n",
            "(0.57, 0.14840185621049273)\n",
            "(0.58, 0.14892138273908107)\n",
            "(0.59, 0.14946793972061212)\n"
          ],
          "name": "stdout"
        },
        {
          "output_type": "stream",
          "text": [
            "/usr/local/lib/python3.6/dist-packages/statsmodels/regression/quantile_regression.py:193: IterationLimitWarning: Maximum number of iterations (1000) reached.\n",
            "  \") reached.\", IterationLimitWarning)\n"
          ],
          "name": "stderr"
        },
        {
          "output_type": "stream",
          "text": [
            "(0.6, 0.1500450836285967)\n",
            "(0.61, 0.15066665485612274)\n",
            "(0.62, 0.15131550520931825)\n",
            "(0.63, 0.15201598245712966)\n",
            "(0.64, 0.152815632180745)\n",
            "(0.65, 0.15360133883660188)\n",
            "(0.66, 0.15440046026580068)\n",
            "(0.67, 0.15521251759239985)\n",
            "(0.68, 0.15607615678951559)\n",
            "(0.69, 0.15692695615298136)\n",
            "(0.7, 0.1577663389046554)\n",
            "(0.71, 0.15865286212994567)\n",
            "(0.72, 0.15961363441229715)\n",
            "(0.73, 0.16062991121153458)\n",
            "(0.74, 0.1617151201897239)\n",
            "(0.75, 0.16280951619867146)\n",
            "(0.76, 0.16394259393342125)\n",
            "(0.77, 0.16517451474458056)\n",
            "(0.78, 0.1664423443710097)\n",
            "(0.79, 0.16770815353095714)\n"
          ],
          "name": "stdout"
        },
        {
          "output_type": "stream",
          "text": [
            "/usr/local/lib/python3.6/dist-packages/statsmodels/regression/quantile_regression.py:193: IterationLimitWarning: Maximum number of iterations (1000) reached.\n",
            "  \") reached.\", IterationLimitWarning)\n"
          ],
          "name": "stderr"
        },
        {
          "output_type": "stream",
          "text": [
            "(0.8, 0.16904227356438506)\n",
            "(0.81, 0.17037126968955685)\n",
            "(0.82, 0.17195593122357777)\n",
            "(0.83, 0.17383892606382623)\n",
            "(0.84, 0.17599918426382777)\n",
            "(0.85, 0.17817588507328963)\n",
            "(0.86, 0.18047434708570964)\n",
            "(0.87, 0.18274842963575832)\n",
            "(0.88, 0.1850748927825704)\n",
            "(0.89, 0.18767194363846373)\n",
            "(0.9, 0.1899871464061209)\n",
            "(0.91, 0.19205778885867675)\n",
            "(0.92, 0.19409258046839573)\n",
            "(0.93, 0.1960928580149024)\n",
            "(0.94, 0.1990718585613529)\n",
            "(0.95, 0.20306510227274233)\n",
            "(0.96, 0.20828854295993626)\n",
            "(0.97, 0.21268428179968246)\n",
            "(0.98, 0.21668870123970496)\n",
            "(0.99, 0.21742941318156628)\n"
          ],
          "name": "stdout"
        }
      ]
    },
    {
      "metadata": {
        "id": "Bz0GmE5kuwQY",
        "colab_type": "code",
        "outputId": "56972a17-1eea-40d4-a9f2-e5abc7882ceb",
        "colab": {
          "base_uri": "https://localhost:8080/",
          "height": 297
        }
      },
      "cell_type": "code",
      "source": [
        "# Okay, this data seems *extremely* skewed\n",
        "# Let's trying logging\n",
        "import numpy as np\n",
        "\n",
        "df['pm25'] = np.log(1 + df['pm25'])\n",
        "quant_mod = smf.quantreg(quant_formula, data=df)\n",
        "quant_reg = quant_mod.fit(q=.25)\n",
        "quant_reg.summary()  # \"summary\" is another very R-thing"
      ],
      "execution_count": 11,
      "outputs": [
        {
          "output_type": "execute_result",
          "data": {
            "text/html": [
              "<table class=\"simpletable\">\n",
              "<caption>QuantReg Regression Results</caption>\n",
              "<tr>\n",
              "  <th>Dep. Variable:</th>       <td>pm25</td>       <th>  Pseudo R-squared:  </th> <td>  0.2451</td>\n",
              "</tr>\n",
              "<tr>\n",
              "  <th>Model:</th>             <td>QuantReg</td>     <th>  Bandwidth:         </th> <td> 0.01948</td>\n",
              "</tr>\n",
              "<tr>\n",
              "  <th>Method:</th>          <td>Least Squares</td>  <th>  Sparsity:          </th> <td>  0.5914</td>\n",
              "</tr>\n",
              "<tr>\n",
              "  <th>Date:</th>          <td>Thu, 24 Jan 2019</td> <th>  No. Observations:  </th>  <td> 41757</td> \n",
              "</tr>\n",
              "<tr>\n",
              "  <th>Time:</th>              <td>00:42:14</td>     <th>  Df Residuals:      </th>  <td> 41751</td> \n",
              "</tr>\n",
              "<tr>\n",
              "  <th> </th>                      <td> </td>        <th>  Df Model:          </th>  <td>     5</td> \n",
              "</tr>\n",
              "</table>\n",
              "<table class=\"simpletable\">\n",
              "<tr>\n",
              "      <td></td>         <th>coef</th>     <th>std err</th>      <th>t</th>      <th>P>|t|</th>  <th>[0.025</th>    <th>0.975]</th>  \n",
              "</tr>\n",
              "<tr>\n",
              "  <th>Intercept</th> <td>    1.6640</td> <td>    0.003</td> <td>  591.433</td> <td> 0.000</td> <td>    1.658</td> <td>    1.670</td>\n",
              "</tr>\n",
              "<tr>\n",
              "  <th>DEWP</th>      <td>    0.0161</td> <td>    0.000</td> <td>  100.545</td> <td> 0.000</td> <td>    0.016</td> <td>    0.016</td>\n",
              "</tr>\n",
              "<tr>\n",
              "  <th>TEMP</th>      <td>   -0.0158</td> <td>    0.000</td> <td>  -88.073</td> <td> 0.000</td> <td>   -0.016</td> <td>   -0.015</td>\n",
              "</tr>\n",
              "<tr>\n",
              "  <th>Ir</th>        <td>   -0.0244</td> <td>    0.001</td> <td>  -30.936</td> <td> 0.000</td> <td>   -0.026</td> <td>   -0.023</td>\n",
              "</tr>\n",
              "<tr>\n",
              "  <th>hour</th>      <td>    0.0047</td> <td>    0.000</td> <td>   23.790</td> <td> 0.000</td> <td>    0.004</td> <td>    0.005</td>\n",
              "</tr>\n",
              "<tr>\n",
              "  <th>Iws</th>       <td>   -0.0010</td> <td> 2.33e-05</td> <td>  -42.561</td> <td> 0.000</td> <td>   -0.001</td> <td>   -0.001</td>\n",
              "</tr>\n",
              "</table>"
            ],
            "text/plain": [
              "<class 'statsmodels.iolib.summary.Summary'>\n",
              "\"\"\"\n",
              "                         QuantReg Regression Results                          \n",
              "==============================================================================\n",
              "Dep. Variable:                   pm25   Pseudo R-squared:               0.2451\n",
              "Model:                       QuantReg   Bandwidth:                     0.01948\n",
              "Method:                 Least Squares   Sparsity:                       0.5914\n",
              "Date:                Thu, 24 Jan 2019   No. Observations:                41757\n",
              "Time:                        00:42:14   Df Residuals:                    41751\n",
              "                                        Df Model:                            5\n",
              "==============================================================================\n",
              "                 coef    std err          t      P>|t|      [0.025      0.975]\n",
              "------------------------------------------------------------------------------\n",
              "Intercept      1.6640      0.003    591.433      0.000       1.658       1.670\n",
              "DEWP           0.0161      0.000    100.545      0.000       0.016       0.016\n",
              "TEMP          -0.0158      0.000    -88.073      0.000      -0.016      -0.015\n",
              "Ir            -0.0244      0.001    -30.936      0.000      -0.026      -0.023\n",
              "hour           0.0047      0.000     23.790      0.000       0.004       0.005\n",
              "Iws           -0.0010   2.33e-05    -42.561      0.000      -0.001      -0.001\n",
              "==============================================================================\n",
              "\"\"\""
            ]
          },
          "metadata": {
            "tags": []
          },
          "execution_count": 11
        }
      ]
    },
    {
      "metadata": {
        "id": "8kXcxnNBgizX",
        "colab_type": "text"
      },
      "cell_type": "markdown",
      "source": [
        "Overall - in this case, quantile regression is not *necessarily* superior to linear regression. But it does give us extra flexibility and another thing to tune - what the center of what we're actually fitting in the dependent variable.\n",
        "\n",
        "The basic case of `q=0.5` (the median) minimizes the absolute value of residuals, while OLS minimizes the squared value. By selecting `q=0.25`, we're targeting a lower quantile and are effectively saying that we only want to over-estimate at most 25% of the time - we're being *risk averse*.\n",
        "\n",
        "Depending on the data you're looking at, and the cost of making a false positive versus a false negative, this sort of flexibility can be extremely useful.\n",
        "\n",
        "Live - let's consider another dataset! Specifically, \"SkillCraft\" (data on competitive StarCraft players): http://archive.ics.uci.edu/ml/datasets/SkillCraft1+Master+Table+Dataset"
      ]
    },
    {
      "metadata": {
        "id": "ofvwSAZUhWDw",
        "colab_type": "code",
        "colab": {}
      },
      "cell_type": "code",
      "source": [
        "# TODO Live!\n",
        "# Hint - we may only care about the *top* quantiles here\n",
        "# Another hint - there are missing values, but Pandas won't see them right away"
      ],
      "execution_count": 0,
      "outputs": []
    },
    {
      "metadata": {
        "id": "o2BADEQUirXa",
        "colab_type": "text"
      },
      "cell_type": "markdown",
      "source": [
        "## Assignment - birth weight data\n",
        "\n",
        "Birth weight is a situation where, while the data itself is actually fairly normal and symmetric, our main goal is actually *not* to model mean weight (via OLS), but rather to identify mothers at risk of having children below a certain \"at-risk\" threshold weight.\n",
        "\n",
        "Quantile regression gives us just the tool we need. For the data we are using, see: http://people.reed.edu/~jones/141/BirthWgt.html\n",
        "\n",
        "    bwt: baby's weight in ounces at birth\n",
        "    gestation: duration of pregnancy in days\n",
        "    parity: parity indicator (first born = 1, later birth = 0)\n",
        "    age: mother's age in years\n",
        "    height: mother's height in inches\n",
        "    weight: mother's weight in pounds (during pregnancy)\n",
        "    smoke: indicator for whether mother smokes (1=yes, 0=no) \n",
        "    \n",
        "Use this data and `statsmodels` to fit a quantile regression, predicting `bwt` (birth weight) as a function of the other covariates. First, identify an appropriate `q` (quantile) to target a cutoff of 90 ounces - babies above that birth weight are generally healthy/safe, babies below are at-risk.\n",
        "\n",
        "Then, fit and iterate your model. Be creative! You may want to engineer features. Hint - mother's age likely is not simply linear in its impact, and the other features may interact as well.\n",
        "\n",
        "At the end, create at least *2* tables and *1* visualization to summarize your best model. Then (in writing) answer the following questions:\n",
        "\n",
        "- What characteristics of a mother indicate the highest likelihood of an at-risk (low weight) baby?\n",
        "- What can expectant mothers be told to help mitigate this risk?\n",
        "\n",
        "Note that second question is not exactly a data science question - and that's okay! You're not expected to be a medical expert, but it is a good exercise to do a little bit of digging into a particular domain and offer informal but informed opinions."
      ]
    },
    {
      "metadata": {
        "id": "CLZMLK26A4Gf",
        "colab_type": "code",
        "colab": {
          "base_uri": "https://localhost:8080/",
          "height": 386
        },
        "outputId": "dc1e4840-a296-4742-83ff-d3df7446ac3a"
      },
      "cell_type": "code",
      "source": [
        "!pip install seaborn==0.9.0"
      ],
      "execution_count": 30,
      "outputs": [
        {
          "output_type": "stream",
          "text": [
            "Collecting seaborn==0.9.0\n",
            "\u001b[?25l  Downloading https://files.pythonhosted.org/packages/a8/76/220ba4420459d9c4c9c9587c6ce607bf56c25b3d3d2de62056efe482dadc/seaborn-0.9.0-py3-none-any.whl (208kB)\n",
            "\u001b[K    100% |████████████████████████████████| 215kB 26.4MB/s \n",
            "\u001b[?25hRequirement already satisfied: pandas>=0.15.2 in /usr/local/lib/python3.6/dist-packages (from seaborn==0.9.0) (0.22.0)\n",
            "Requirement already satisfied: numpy>=1.9.3 in /usr/local/lib/python3.6/dist-packages (from seaborn==0.9.0) (1.14.6)\n",
            "Requirement already satisfied: matplotlib>=1.4.3 in /usr/local/lib/python3.6/dist-packages (from seaborn==0.9.0) (3.0.2)\n",
            "Requirement already satisfied: scipy>=0.14.0 in /usr/local/lib/python3.6/dist-packages (from seaborn==0.9.0) (1.1.0)\n",
            "Requirement already satisfied: python-dateutil>=2 in /usr/local/lib/python3.6/dist-packages (from pandas>=0.15.2->seaborn==0.9.0) (2.5.3)\n",
            "Requirement already satisfied: pytz>=2011k in /usr/local/lib/python3.6/dist-packages (from pandas>=0.15.2->seaborn==0.9.0) (2018.9)\n",
            "Requirement already satisfied: cycler>=0.10 in /usr/local/lib/python3.6/dist-packages (from matplotlib>=1.4.3->seaborn==0.9.0) (0.10.0)\n",
            "Requirement already satisfied: kiwisolver>=1.0.1 in /usr/local/lib/python3.6/dist-packages (from matplotlib>=1.4.3->seaborn==0.9.0) (1.0.1)\n",
            "Requirement already satisfied: pyparsing!=2.0.4,!=2.1.2,!=2.1.6,>=2.0.1 in /usr/local/lib/python3.6/dist-packages (from matplotlib>=1.4.3->seaborn==0.9.0) (2.3.1)\n",
            "Requirement already satisfied: six>=1.5 in /usr/local/lib/python3.6/dist-packages (from python-dateutil>=2->pandas>=0.15.2->seaborn==0.9.0) (1.11.0)\n",
            "Requirement already satisfied: setuptools in /usr/local/lib/python3.6/dist-packages (from kiwisolver>=1.0.1->matplotlib>=1.4.3->seaborn==0.9.0) (40.6.3)\n",
            "Installing collected packages: seaborn\n",
            "  Found existing installation: seaborn 0.7.1\n",
            "    Uninstalling seaborn-0.7.1:\n",
            "      Successfully uninstalled seaborn-0.7.1\n",
            "Successfully installed seaborn-0.9.0\n",
            "\u001b[0;31;1mWARNING: The following packages were previously imported in this runtime:\n",
            "  [seaborn]\n",
            "You must restart the runtime in order to use newly installed versions.\u001b[0m\n"
          ],
          "name": "stdout"
        }
      ]
    },
    {
      "metadata": {
        "id": "8HsQjE5w6vyS",
        "colab_type": "code",
        "colab": {}
      },
      "cell_type": "code",
      "source": [
        "import matplotlib.pyplot as plt\n",
        "import numpy as np\n",
        "import pandas as pd\n",
        "import seaborn as sns\n",
        "import statsmodels.formula.api as smf\n",
        "\n",
        "from scipy import stats\n"
      ],
      "execution_count": 0,
      "outputs": []
    },
    {
      "metadata": {
        "id": "HUWKv16FjZsY",
        "colab_type": "code",
        "outputId": "43d55794-6d3e-4a51-aaec-99dd4551c9f6",
        "colab": {
          "base_uri": "https://localhost:8080/",
          "height": 195
        }
      },
      "cell_type": "code",
      "source": [
        "bwt_df = pd.read_csv('http://people.reed.edu/~jones/141/Bwt.dat')\n",
        "bwt_df.head()"
      ],
      "execution_count": 2,
      "outputs": [
        {
          "output_type": "execute_result",
          "data": {
            "text/html": [
              "<div>\n",
              "<style scoped>\n",
              "    .dataframe tbody tr th:only-of-type {\n",
              "        vertical-align: middle;\n",
              "    }\n",
              "\n",
              "    .dataframe tbody tr th {\n",
              "        vertical-align: top;\n",
              "    }\n",
              "\n",
              "    .dataframe thead th {\n",
              "        text-align: right;\n",
              "    }\n",
              "</style>\n",
              "<table border=\"1\" class=\"dataframe\">\n",
              "  <thead>\n",
              "    <tr style=\"text-align: right;\">\n",
              "      <th></th>\n",
              "      <th>bwt</th>\n",
              "      <th>gestation</th>\n",
              "      <th>parity</th>\n",
              "      <th>age</th>\n",
              "      <th>height</th>\n",
              "      <th>weight</th>\n",
              "      <th>smoke</th>\n",
              "    </tr>\n",
              "  </thead>\n",
              "  <tbody>\n",
              "    <tr>\n",
              "      <th>0</th>\n",
              "      <td>120</td>\n",
              "      <td>284</td>\n",
              "      <td>0</td>\n",
              "      <td>27</td>\n",
              "      <td>62</td>\n",
              "      <td>100</td>\n",
              "      <td>0</td>\n",
              "    </tr>\n",
              "    <tr>\n",
              "      <th>1</th>\n",
              "      <td>113</td>\n",
              "      <td>282</td>\n",
              "      <td>0</td>\n",
              "      <td>33</td>\n",
              "      <td>64</td>\n",
              "      <td>135</td>\n",
              "      <td>0</td>\n",
              "    </tr>\n",
              "    <tr>\n",
              "      <th>2</th>\n",
              "      <td>128</td>\n",
              "      <td>279</td>\n",
              "      <td>0</td>\n",
              "      <td>28</td>\n",
              "      <td>64</td>\n",
              "      <td>115</td>\n",
              "      <td>1</td>\n",
              "    </tr>\n",
              "    <tr>\n",
              "      <th>3</th>\n",
              "      <td>108</td>\n",
              "      <td>282</td>\n",
              "      <td>0</td>\n",
              "      <td>23</td>\n",
              "      <td>67</td>\n",
              "      <td>125</td>\n",
              "      <td>1</td>\n",
              "    </tr>\n",
              "    <tr>\n",
              "      <th>4</th>\n",
              "      <td>136</td>\n",
              "      <td>286</td>\n",
              "      <td>0</td>\n",
              "      <td>25</td>\n",
              "      <td>62</td>\n",
              "      <td>93</td>\n",
              "      <td>0</td>\n",
              "    </tr>\n",
              "  </tbody>\n",
              "</table>\n",
              "</div>"
            ],
            "text/plain": [
              "   bwt  gestation  parity  age  height  weight  smoke\n",
              "0  120        284       0   27      62     100      0\n",
              "1  113        282       0   33      64     135      0\n",
              "2  128        279       0   28      64     115      1\n",
              "3  108        282       0   23      67     125      1\n",
              "4  136        286       0   25      62      93      0"
            ]
          },
          "metadata": {
            "tags": []
          },
          "execution_count": 2
        }
      ]
    },
    {
      "metadata": {
        "id": "dy5FkUZpkJT_",
        "colab_type": "code",
        "outputId": "0943566e-519f-4a43-f0a6-0bd79b80af15",
        "colab": {
          "base_uri": "https://localhost:8080/",
          "height": 284
        }
      },
      "cell_type": "code",
      "source": [
        "bwt_df.describe()"
      ],
      "execution_count": 3,
      "outputs": [
        {
          "output_type": "execute_result",
          "data": {
            "text/html": [
              "<div>\n",
              "<style scoped>\n",
              "    .dataframe tbody tr th:only-of-type {\n",
              "        vertical-align: middle;\n",
              "    }\n",
              "\n",
              "    .dataframe tbody tr th {\n",
              "        vertical-align: top;\n",
              "    }\n",
              "\n",
              "    .dataframe thead th {\n",
              "        text-align: right;\n",
              "    }\n",
              "</style>\n",
              "<table border=\"1\" class=\"dataframe\">\n",
              "  <thead>\n",
              "    <tr style=\"text-align: right;\">\n",
              "      <th></th>\n",
              "      <th>bwt</th>\n",
              "      <th>gestation</th>\n",
              "      <th>parity</th>\n",
              "      <th>age</th>\n",
              "      <th>height</th>\n",
              "      <th>weight</th>\n",
              "      <th>smoke</th>\n",
              "    </tr>\n",
              "  </thead>\n",
              "  <tbody>\n",
              "    <tr>\n",
              "      <th>count</th>\n",
              "      <td>1174.000000</td>\n",
              "      <td>1174.000000</td>\n",
              "      <td>1174.000000</td>\n",
              "      <td>1174.000000</td>\n",
              "      <td>1174.000000</td>\n",
              "      <td>1174.000000</td>\n",
              "      <td>1174.000000</td>\n",
              "    </tr>\n",
              "    <tr>\n",
              "      <th>mean</th>\n",
              "      <td>119.462521</td>\n",
              "      <td>279.101363</td>\n",
              "      <td>0.262351</td>\n",
              "      <td>27.228279</td>\n",
              "      <td>64.049404</td>\n",
              "      <td>128.478705</td>\n",
              "      <td>0.390971</td>\n",
              "    </tr>\n",
              "    <tr>\n",
              "      <th>std</th>\n",
              "      <td>18.328671</td>\n",
              "      <td>16.010305</td>\n",
              "      <td>0.440100</td>\n",
              "      <td>5.817839</td>\n",
              "      <td>2.526102</td>\n",
              "      <td>20.734282</td>\n",
              "      <td>0.488176</td>\n",
              "    </tr>\n",
              "    <tr>\n",
              "      <th>min</th>\n",
              "      <td>55.000000</td>\n",
              "      <td>148.000000</td>\n",
              "      <td>0.000000</td>\n",
              "      <td>15.000000</td>\n",
              "      <td>53.000000</td>\n",
              "      <td>87.000000</td>\n",
              "      <td>0.000000</td>\n",
              "    </tr>\n",
              "    <tr>\n",
              "      <th>25%</th>\n",
              "      <td>108.000000</td>\n",
              "      <td>272.000000</td>\n",
              "      <td>0.000000</td>\n",
              "      <td>23.000000</td>\n",
              "      <td>62.000000</td>\n",
              "      <td>114.250000</td>\n",
              "      <td>0.000000</td>\n",
              "    </tr>\n",
              "    <tr>\n",
              "      <th>50%</th>\n",
              "      <td>120.000000</td>\n",
              "      <td>280.000000</td>\n",
              "      <td>0.000000</td>\n",
              "      <td>26.000000</td>\n",
              "      <td>64.000000</td>\n",
              "      <td>125.000000</td>\n",
              "      <td>0.000000</td>\n",
              "    </tr>\n",
              "    <tr>\n",
              "      <th>75%</th>\n",
              "      <td>131.000000</td>\n",
              "      <td>288.000000</td>\n",
              "      <td>1.000000</td>\n",
              "      <td>31.000000</td>\n",
              "      <td>66.000000</td>\n",
              "      <td>139.000000</td>\n",
              "      <td>1.000000</td>\n",
              "    </tr>\n",
              "    <tr>\n",
              "      <th>max</th>\n",
              "      <td>176.000000</td>\n",
              "      <td>353.000000</td>\n",
              "      <td>1.000000</td>\n",
              "      <td>45.000000</td>\n",
              "      <td>72.000000</td>\n",
              "      <td>250.000000</td>\n",
              "      <td>1.000000</td>\n",
              "    </tr>\n",
              "  </tbody>\n",
              "</table>\n",
              "</div>"
            ],
            "text/plain": [
              "               bwt    gestation       parity          age       height  \\\n",
              "count  1174.000000  1174.000000  1174.000000  1174.000000  1174.000000   \n",
              "mean    119.462521   279.101363     0.262351    27.228279    64.049404   \n",
              "std      18.328671    16.010305     0.440100     5.817839     2.526102   \n",
              "min      55.000000   148.000000     0.000000    15.000000    53.000000   \n",
              "25%     108.000000   272.000000     0.000000    23.000000    62.000000   \n",
              "50%     120.000000   280.000000     0.000000    26.000000    64.000000   \n",
              "75%     131.000000   288.000000     1.000000    31.000000    66.000000   \n",
              "max     176.000000   353.000000     1.000000    45.000000    72.000000   \n",
              "\n",
              "            weight        smoke  \n",
              "count  1174.000000  1174.000000  \n",
              "mean    128.478705     0.390971  \n",
              "std      20.734282     0.488176  \n",
              "min      87.000000     0.000000  \n",
              "25%     114.250000     0.000000  \n",
              "50%     125.000000     0.000000  \n",
              "75%     139.000000     1.000000  \n",
              "max     250.000000     1.000000  "
            ]
          },
          "metadata": {
            "tags": []
          },
          "execution_count": 3
        }
      ]
    },
    {
      "metadata": {
        "id": "2scx2CP5_K2c",
        "colab_type": "code",
        "colab": {}
      },
      "cell_type": "code",
      "source": [
        "quantile_bwt = stats.percentileofscore(bwt_df['bwt'], 90)\n",
        "quantile_bwt = quantile_bwt / 100"
      ],
      "execution_count": 0,
      "outputs": []
    },
    {
      "metadata": {
        "id": "Ez8qPLojjlFf",
        "colab_type": "code",
        "colab": {
          "base_uri": "https://localhost:8080/",
          "height": 334
        },
        "outputId": "b8426ae0-1239-486c-a7bc-4c0ac33c53c5"
      },
      "cell_type": "code",
      "source": [
        "quantile_formula = 'bwt ~ ' + ' + '.join(bwt_df.drop('bwt', axis='columns').columns)\n",
        "print(quantile_formula)\n",
        "\n",
        "quant_mod = smf.quantreg(quantile_formula, data=bwt_df)\n",
        "quant_reg = quant_mod.fit(q=.0566)\n",
        "quant_reg.summary()  # \"summary\" is another very R-thing"
      ],
      "execution_count": 5,
      "outputs": [
        {
          "output_type": "stream",
          "text": [
            "bwt ~ gestation + parity + age + height + weight + smoke\n"
          ],
          "name": "stdout"
        },
        {
          "output_type": "execute_result",
          "data": {
            "text/html": [
              "<table class=\"simpletable\">\n",
              "<caption>QuantReg Regression Results</caption>\n",
              "<tr>\n",
              "  <th>Dep. Variable:</th>        <td>bwt</td>       <th>  Pseudo R-squared:  </th> <td>  0.1989</td>\n",
              "</tr>\n",
              "<tr>\n",
              "  <th>Model:</th>             <td>QuantReg</td>     <th>  Bandwidth:         </th> <td>   6.229</td>\n",
              "</tr>\n",
              "<tr>\n",
              "  <th>Method:</th>          <td>Least Squares</td>  <th>  Sparsity:          </th> <td>   132.4</td>\n",
              "</tr>\n",
              "<tr>\n",
              "  <th>Date:</th>          <td>Thu, 24 Jan 2019</td> <th>  No. Observations:  </th>  <td>  1174</td> \n",
              "</tr>\n",
              "<tr>\n",
              "  <th>Time:</th>              <td>17:59:21</td>     <th>  Df Residuals:      </th>  <td>  1167</td> \n",
              "</tr>\n",
              "<tr>\n",
              "  <th> </th>                      <td> </td>        <th>  Df Model:          </th>  <td>     6</td> \n",
              "</tr>\n",
              "</table>\n",
              "<table class=\"simpletable\">\n",
              "<tr>\n",
              "      <td></td>         <th>coef</th>     <th>std err</th>      <th>t</th>      <th>P>|t|</th>  <th>[0.025</th>    <th>0.975]</th>  \n",
              "</tr>\n",
              "<tr>\n",
              "  <th>Intercept</th> <td>  -96.3321</td> <td>   32.589</td> <td>   -2.956</td> <td> 0.003</td> <td> -160.272</td> <td>  -32.392</td>\n",
              "</tr>\n",
              "<tr>\n",
              "  <th>gestation</th> <td>    0.4789</td> <td>    0.089</td> <td>    5.381</td> <td> 0.000</td> <td>    0.304</td> <td>    0.654</td>\n",
              "</tr>\n",
              "<tr>\n",
              "  <th>parity</th>    <td>   -3.2501</td> <td>    2.338</td> <td>   -1.390</td> <td> 0.165</td> <td>   -7.837</td> <td>    1.337</td>\n",
              "</tr>\n",
              "<tr>\n",
              "  <th>age</th>       <td>   -0.0836</td> <td>    0.172</td> <td>   -0.486</td> <td> 0.627</td> <td>   -0.421</td> <td>    0.254</td>\n",
              "</tr>\n",
              "<tr>\n",
              "  <th>height</th>    <td>    1.2308</td> <td>    0.437</td> <td>    2.817</td> <td> 0.005</td> <td>    0.374</td> <td>    2.088</td>\n",
              "</tr>\n",
              "<tr>\n",
              "  <th>weight</th>    <td>   -0.1191</td> <td>    0.058</td> <td>   -2.048</td> <td> 0.041</td> <td>   -0.233</td> <td>   -0.005</td>\n",
              "</tr>\n",
              "<tr>\n",
              "  <th>smoke</th>     <td>   -8.7485</td> <td>    1.855</td> <td>   -4.716</td> <td> 0.000</td> <td>  -12.388</td> <td>   -5.109</td>\n",
              "</tr>\n",
              "</table>"
            ],
            "text/plain": [
              "<class 'statsmodels.iolib.summary.Summary'>\n",
              "\"\"\"\n",
              "                         QuantReg Regression Results                          \n",
              "==============================================================================\n",
              "Dep. Variable:                    bwt   Pseudo R-squared:               0.1989\n",
              "Model:                       QuantReg   Bandwidth:                       6.229\n",
              "Method:                 Least Squares   Sparsity:                        132.4\n",
              "Date:                Thu, 24 Jan 2019   No. Observations:                 1174\n",
              "Time:                        17:59:21   Df Residuals:                     1167\n",
              "                                        Df Model:                            6\n",
              "==============================================================================\n",
              "                 coef    std err          t      P>|t|      [0.025      0.975]\n",
              "------------------------------------------------------------------------------\n",
              "Intercept    -96.3321     32.589     -2.956      0.003    -160.272     -32.392\n",
              "gestation      0.4789      0.089      5.381      0.000       0.304       0.654\n",
              "parity        -3.2501      2.338     -1.390      0.165      -7.837       1.337\n",
              "age           -0.0836      0.172     -0.486      0.627      -0.421       0.254\n",
              "height         1.2308      0.437      2.817      0.005       0.374       2.088\n",
              "weight        -0.1191      0.058     -2.048      0.041      -0.233      -0.005\n",
              "smoke         -8.7485      1.855     -4.716      0.000     -12.388      -5.109\n",
              "==============================================================================\n",
              "\n",
              "The condition number is large, 9.8e+03. This might indicate that there are\n",
              "strong multicollinearity or other numerical problems.\n",
              "\"\"\""
            ]
          },
          "metadata": {
            "tags": []
          },
          "execution_count": 5
        }
      ]
    },
    {
      "metadata": {
        "id": "jJUJZDEdAjC0",
        "colab_type": "code",
        "colab": {}
      },
      "cell_type": "code",
      "source": [
        "corr = bwt_df.corr()"
      ],
      "execution_count": 0,
      "outputs": []
    },
    {
      "metadata": {
        "id": "tAzbMGnbAzZA",
        "colab_type": "code",
        "colab": {
          "base_uri": "https://localhost:8080/",
          "height": 269
        },
        "outputId": "e96c67b9-37d9-45cc-b6e4-1104c672cc3c"
      },
      "cell_type": "code",
      "source": [
        "ax = sns.heatmap(corr, annot=True)"
      ],
      "execution_count": 15,
      "outputs": [
        {
          "output_type": "display_data",
          "data": {
            "image/png": "[encoded data removed]",
            "text/plain": [
              "<Figure size 432x288 with 2 Axes>"
            ]
          },
          "metadata": {
            "tags": []
          }
        }
      ]
    },
    {
      "metadata": {
        "id": "h5RBTDdB-FGN",
        "colab_type": "code",
        "colab": {
          "base_uri": "https://localhost:8080/",
          "height": 386
        },
        "outputId": "e87702b3-12b2-4000-a171-59046d406f8f"
      },
      "cell_type": "code",
      "source": [
        "sns.lmplot(x=\"bwt\", y=\"gestation\", hue = 'smoke', data=bwt_df)"
      ],
      "execution_count": 12,
      "outputs": [
        {
          "output_type": "execute_result",
          "data": {
            "text/plain": [
              "<seaborn.axisgrid.FacetGrid at 0x7f3505795be0>"
            ]
          },
          "metadata": {
            "tags": []
          },
          "execution_count": 12
        },
        {
          "output_type": "display_data",
          "data": {
            "image/png": "[encoded data removed]",
            "text/plain": [
              "<Figure size 402.375x360 with 1 Axes>"
            ]
          },
          "metadata": {
            "tags": []
          }
        }
      ]
    },
    {
      "metadata": {
        "id": "ht8iCMUvBntf",
        "colab_type": "code",
        "colab": {
          "base_uri": "https://localhost:8080/",
          "height": 386
        },
        "outputId": "cd6381a9-c54f-48e9-bb0e-8b8e9431aa3e"
      },
      "cell_type": "code",
      "source": [
        "sns.lmplot(x=\"bwt\", y=\"gestation\", hue ='smoke', data=bwt_df[bwt_df['bwt'] < 91])"
      ],
      "execution_count": 13,
      "outputs": [
        {
          "output_type": "execute_result",
          "data": {
            "text/plain": [
              "<seaborn.axisgrid.FacetGrid at 0x7f3505795908>"
            ]
          },
          "metadata": {
            "tags": []
          },
          "execution_count": 13
        },
        {
          "output_type": "display_data",
          "data": {
            "image/png": "[encoded data removed]",
            "text/plain": [
              "<Figure size 402.375x360 with 1 Axes>"
            ]
          },
          "metadata": {
            "tags": []
          }
        }
      ]
    },
    {
      "metadata": {
        "id": "ODtD3fLtCiIA",
        "colab_type": "code",
        "colab": {
          "base_uri": "https://localhost:8080/",
          "height": 386
        },
        "outputId": "0fcec700-5e4a-4b5d-b7dd-90f4db56bbdc"
      },
      "cell_type": "code",
      "source": [
        "sns.lmplot(x=\"bwt\", y=\"weight\", hue ='parity', data=bwt_df)"
      ],
      "execution_count": 21,
      "outputs": [
        {
          "output_type": "execute_result",
          "data": {
            "text/plain": [
              "<seaborn.axisgrid.FacetGrid at 0x7f3505547080>"
            ]
          },
          "metadata": {
            "tags": []
          },
          "execution_count": 21
        },
        {
          "output_type": "display_data",
          "data": {
            "image/png": "[encoded data removed]",
            "text/plain": [
              "<Figure size 402.375x360 with 1 Axes>"
            ]
          },
          "metadata": {
            "tags": []
          }
        }
      ]
    },
    {
      "metadata": {
        "id": "dobJaD6OCryK",
        "colab_type": "code",
        "colab": {
          "base_uri": "https://localhost:8080/",
          "height": 386
        },
        "outputId": "5149c26f-73b0-484c-ede6-6c21f7900b61"
      },
      "cell_type": "code",
      "source": [
        "sns.lmplot(x=\"bwt\", y=\"weight\", hue ='smoke', data=bwt_df[bwt_df['bwt'] < 91])"
      ],
      "execution_count": 24,
      "outputs": [
        {
          "output_type": "execute_result",
          "data": {
            "text/plain": [
              "<seaborn.axisgrid.FacetGrid at 0x7f3505c5e400>"
            ]
          },
          "metadata": {
            "tags": []
          },
          "execution_count": 24
        },
        {
          "output_type": "display_data",
          "data": {
            "image/png": "[encoded data removed]",
            "text/plain": [
              "<Figure size 402.375x360 with 1 Axes>"
            ]
          },
          "metadata": {
            "tags": []
          }
        }
      ]
    },
    {
      "metadata": {
        "id": "ol7RNnQwDm9T",
        "colab_type": "code",
        "colab": {
          "base_uri": "https://localhost:8080/",
          "height": 295
        },
        "outputId": "5badf79a-942f-4d17-8629-7c107a16e818"
      },
      "cell_type": "code",
      "source": [
        "weights = bwt_df[['bwt', 'weight']]\n",
        "quant_formula = 'bwt ~ ' + ' + '.join(weights.drop('bwt', axis='columns').columns)\n",
        "\n",
        "quant_mod = smf.quantreg(quant_formula, data=weights)\n",
        "quant_reg = quant_mod.fit(q=.0566)\n",
        "\n",
        "X = weights['weight']\n",
        "y = weights['bwt']\n",
        "y_pred = quant_reg.predict(X)\n",
        "\n",
        "plt.scatter(X,y)\n",
        "plt.plot(X, y_pred, color = 'red')\n",
        "plt.xlabel('Mother\\s Weight')\n",
        "plt.ylabel('Birth Weight')\n",
        "plt.title('Quantile Regression Line for BWT < 90 oz')\n",
        "\n",
        "plt.show()"
      ],
      "execution_count": 39,
      "outputs": [
        {
          "output_type": "display_data",
          "data": {
            "image/png": "[encoded data removed]",
            "text/plain": [
              "<Figure size 432x288 with 1 Axes>"
            ]
          },
          "metadata": {
            "tags": []
          }
        }
      ]
    },
    {
      "metadata": {
        "id": "kwfZSoXXFHSG",
        "colab_type": "code",
        "colab": {
          "base_uri": "https://localhost:8080/",
          "height": 295
        },
        "outputId": "d1f2b520-7d80-4bf1-d1aa-d0609d02eb6e"
      },
      "cell_type": "code",
      "source": [
        "weights = bwt_df[['bwt', 'gestation']]\n",
        "quant_formula = 'bwt ~ ' + ' + '.join(weights.drop('bwt', axis='columns').columns)\n",
        "\n",
        "quant_mod = smf.quantreg(quant_formula, data=weights)\n",
        "quant_reg = quant_mod.fit(q=.0566)\n",
        "\n",
        "X = weights['gestation']\n",
        "y = weights['bwt']\n",
        "y_pred = quant_reg.predict(X)\n",
        "\n",
        "plt.scatter(X,y)\n",
        "plt.plot(X, y_pred, color = 'red')\n",
        "plt.xlabel('Gestation Time Period')\n",
        "plt.ylabel('Birth Weight')\n",
        "plt.title('Quantile Regression Line for BWT < 90 oz')\n",
        "\n",
        "plt.show()"
      ],
      "execution_count": 38,
      "outputs": [
        {
          "output_type": "display_data",
          "data": {
            "image/png": "[encoded data removed]",
            "text/plain": [
              "<Figure size 432x288 with 1 Axes>"
            ]
          },
          "metadata": {
            "tags": []
          }
        }
      ]
    },
    {
      "metadata": {
        "id": "9yTWzh8hFjyc",
        "colab_type": "code",
        "colab": {
          "base_uri": "https://localhost:8080/",
          "height": 329
        },
        "outputId": "20c374b4-5f4a-41d9-b071-bbfb16b77dc7"
      },
      "cell_type": "code",
      "source": [
        "weights = bwt_df[['bwt', 'smoke']]\n",
        "quant_formula = 'bwt ~ ' + ' + '.join(weights.drop('bwt', axis='columns').columns)\n",
        "\n",
        "quant_mod = smf.quantreg(quant_formula, data=weights)\n",
        "quant_reg = quant_mod.fit(q=.0566)\n",
        "\n",
        "X = weights['smoke']\n",
        "y = weights['bwt']\n",
        "y_pred = quant_reg.predict(X)\n",
        "\n",
        "plt.scatter(X,y)\n",
        "plt.plot(X, y_pred, color = 'red')\n",
        "plt.xlabel('Smokers')\n",
        "plt.ylabel('Birth Weight')\n",
        "plt.title('Quantile Regression Line for BWT < 90 oz')\n",
        "\n",
        "plt.show()"
      ],
      "execution_count": 41,
      "outputs": [
        {
          "output_type": "stream",
          "text": [
            "/usr/local/lib/python3.6/dist-packages/statsmodels/regression/quantile_regression.py:193: IterationLimitWarning: Maximum number of iterations (1000) reached.\n",
            "  \") reached.\", IterationLimitWarning)\n"
          ],
          "name": "stderr"
        },
        {
          "output_type": "display_data",
          "data": {
            "image/png": "[encoded data removed]",
            "text/plain": [
              "<Figure size 432x288 with 1 Axes>"
            ]
          },
          "metadata": {
            "tags": []
          }
        }
      ]
    },
    {
      "metadata": {
        "id": "_Pm1yAbpFxTd",
        "colab_type": "text"
      },
      "cell_type": "markdown",
      "source": [
        "# What characteristics of a mother indicate the highest likelihood of an at-risk (low weight) baby? \n",
        "A mother is indicated at risk if she smokes and has a low gestation period. Also, it seems shorter mothers seem to have lower weighted babies, but while that's a significant feature, it's probably not related to at risk mothers, it's just sort of intuitive that smaller women would have smaller children. (depending on both parent's genetics of course, out of scope here)\n",
        "\n",
        "# What can expectant mothers be told to help mitigate this risk?\n",
        "Don't smoke. Ever :{... But if you do definitely don't smoke while pregnant, and while i'm no doctor overall weight is also significant, maintaining a healthy weight includes proper nutrition, exercise, and taking care of your body in general. "
      ]
    },
    {
      "metadata": {
        "id": "XY9JGAnJisdB",
        "colab_type": "text"
      },
      "cell_type": "markdown",
      "source": [
        "## Resources and stretch goals"
      ]
    },
    {
      "metadata": {
        "id": "inFWXSpqmND5",
        "colab_type": "text"
      },
      "cell_type": "markdown",
      "source": [
        "Resources:\n",
        "- [statsmodels QuantReg example](http://www.statsmodels.org/dev/examples/notebooks/generated/quantile_regression.html)\n",
        "- [How Shopify used Quantile Regression in modeling risk](https://medium.com/data-shopify/how-shopify-capital-uses-quantile-regression-to-help-merchants-succeed-10ee1b36b17d)\n",
        "\n",
        "Stretch goals:\n",
        "- Find a dataset where you think quantile regression may be appropriate, and try both it and linear regression - compare/contrast their strengths/weaknesses, and write a summary for which you think is better for the situation and why\n",
        "- Check out [deep quantile regression](https://www.kdnuggets.com/2018/07/deep-quantile-regression.html), an approach that uses a custom quantile loss function and Keras to train a quantile model"
      ]
    }
  ]
}