{
 "cells": [
  {
   "cell_type": "markdown",
   "metadata": {
    "colab_type": "text",
    "id": "SV7gaADiicnV"
   },
   "source": [
    "# Lambda School Data Science - Quantile Regression\n",
    "\n",
    "Regressing towards the median - or any quantile - as a way to mitigate outliers and control risk."
   ]
  },
  {
   "cell_type": "markdown",
   "metadata": {
    "colab_type": "text",
    "id": "6klMj4q3iqMh"
   },
   "source": [
    "## Lecture\n",
    "\n",
    "Let's look at data that has a bit of a skew to it:\n",
    "\n",
    "http://archive.ics.uci.edu/ml/datasets/Beijing+PM2.5+Data"
   ]
  },
  {
   "cell_type": "code",
   "execution_count": 8,
   "metadata": {
    "colab": {},
    "colab_type": "code",
    "id": "yw1AD_z9O0xL"
   },
   "outputs": [],
   "source": [
    "import pandas as pd\n",
    "import numpy as np\n",
    "df = pd.read_csv('http://archive.ics.uci.edu/ml/machine-learning-databases/'\n",
    "                 '00381/PRSA_data_2010.1.1-2014.12.31.csv')"
   ]
  },
  {
   "cell_type": "code",
   "execution_count": 2,
   "metadata": {
    "colab": {
     "base_uri": "https://localhost:8080/",
     "height": 206
    },
    "colab_type": "code",
    "id": "RTlH1lJ8PDv5",
    "outputId": "e073db49-81bd-4ebd-f43b-69c92aea8467"
   },
   "outputs": [
    {
     "data": {
      "text/html": [
       "<div>\n",
       "<style scoped>\n",
       "    .dataframe tbody tr th:only-of-type {\n",
       "        vertical-align: middle;\n",
       "    }\n",
       "\n",
       "    .dataframe tbody tr th {\n",
       "        vertical-align: top;\n",
       "    }\n",
       "\n",
       "    .dataframe thead th {\n",
       "        text-align: right;\n",
       "    }\n",
       "</style>\n",
       "<table border=\"1\" class=\"dataframe\">\n",
       "  <thead>\n",
       "    <tr style=\"text-align: right;\">\n",
       "      <th></th>\n",
       "      <th>No</th>\n",
       "      <th>year</th>\n",
       "      <th>month</th>\n",
       "      <th>day</th>\n",
       "      <th>hour</th>\n",
       "      <th>pm2.5</th>\n",
       "      <th>DEWP</th>\n",
       "      <th>TEMP</th>\n",
       "      <th>PRES</th>\n",
       "      <th>cbwd</th>\n",
       "      <th>Iws</th>\n",
       "      <th>Is</th>\n",
       "      <th>Ir</th>\n",
       "    </tr>\n",
       "  </thead>\n",
       "  <tbody>\n",
       "    <tr>\n",
       "      <th>0</th>\n",
       "      <td>1</td>\n",
       "      <td>2010</td>\n",
       "      <td>1</td>\n",
       "      <td>1</td>\n",
       "      <td>0</td>\n",
       "      <td>NaN</td>\n",
       "      <td>-21</td>\n",
       "      <td>-11.0</td>\n",
       "      <td>1021.0</td>\n",
       "      <td>NW</td>\n",
       "      <td>1.79</td>\n",
       "      <td>0</td>\n",
       "      <td>0</td>\n",
       "    </tr>\n",
       "    <tr>\n",
       "      <th>1</th>\n",
       "      <td>2</td>\n",
       "      <td>2010</td>\n",
       "      <td>1</td>\n",
       "      <td>1</td>\n",
       "      <td>1</td>\n",
       "      <td>NaN</td>\n",
       "      <td>-21</td>\n",
       "      <td>-12.0</td>\n",
       "      <td>1020.0</td>\n",
       "      <td>NW</td>\n",
       "      <td>4.92</td>\n",
       "      <td>0</td>\n",
       "      <td>0</td>\n",
       "    </tr>\n",
       "    <tr>\n",
       "      <th>2</th>\n",
       "      <td>3</td>\n",
       "      <td>2010</td>\n",
       "      <td>1</td>\n",
       "      <td>1</td>\n",
       "      <td>2</td>\n",
       "      <td>NaN</td>\n",
       "      <td>-21</td>\n",
       "      <td>-11.0</td>\n",
       "      <td>1019.0</td>\n",
       "      <td>NW</td>\n",
       "      <td>6.71</td>\n",
       "      <td>0</td>\n",
       "      <td>0</td>\n",
       "    </tr>\n",
       "    <tr>\n",
       "      <th>3</th>\n",
       "      <td>4</td>\n",
       "      <td>2010</td>\n",
       "      <td>1</td>\n",
       "      <td>1</td>\n",
       "      <td>3</td>\n",
       "      <td>NaN</td>\n",
       "      <td>-21</td>\n",
       "      <td>-14.0</td>\n",
       "      <td>1019.0</td>\n",
       "      <td>NW</td>\n",
       "      <td>9.84</td>\n",
       "      <td>0</td>\n",
       "      <td>0</td>\n",
       "    </tr>\n",
       "    <tr>\n",
       "      <th>4</th>\n",
       "      <td>5</td>\n",
       "      <td>2010</td>\n",
       "      <td>1</td>\n",
       "      <td>1</td>\n",
       "      <td>4</td>\n",
       "      <td>NaN</td>\n",
       "      <td>-20</td>\n",
       "      <td>-12.0</td>\n",
       "      <td>1018.0</td>\n",
       "      <td>NW</td>\n",
       "      <td>12.97</td>\n",
       "      <td>0</td>\n",
       "      <td>0</td>\n",
       "    </tr>\n",
       "  </tbody>\n",
       "</table>\n",
       "</div>"
      ],
      "text/plain": [
       "   No  year  month  day  hour  pm2.5  DEWP  TEMP    PRES cbwd    Iws  Is  Ir\n",
       "0   1  2010      1    1     0    NaN   -21 -11.0  1021.0   NW   1.79   0   0\n",
       "1   2  2010      1    1     1    NaN   -21 -12.0  1020.0   NW   4.92   0   0\n",
       "2   3  2010      1    1     2    NaN   -21 -11.0  1019.0   NW   6.71   0   0\n",
       "3   4  2010      1    1     3    NaN   -21 -14.0  1019.0   NW   9.84   0   0\n",
       "4   5  2010      1    1     4    NaN   -20 -12.0  1018.0   NW  12.97   0   0"
      ]
     },
     "execution_count": 2,
     "metadata": {},
     "output_type": "execute_result"
    }
   ],
   "source": [
    "df.head()"
   ]
  },
  {
   "cell_type": "code",
   "execution_count": 3,
   "metadata": {
    "colab": {
     "base_uri": "https://localhost:8080/",
     "height": 320
    },
    "colab_type": "code",
    "id": "m-yC9OSPPFo8",
    "outputId": "d5602fe7-31ad-458e-d466-212c99e51cf4"
   },
   "outputs": [
    {
     "data": {
      "text/html": [
       "<div>\n",
       "<style scoped>\n",
       "    .dataframe tbody tr th:only-of-type {\n",
       "        vertical-align: middle;\n",
       "    }\n",
       "\n",
       "    .dataframe tbody tr th {\n",
       "        vertical-align: top;\n",
       "    }\n",
       "\n",
       "    .dataframe thead th {\n",
       "        text-align: right;\n",
       "    }\n",
       "</style>\n",
       "<table border=\"1\" class=\"dataframe\">\n",
       "  <thead>\n",
       "    <tr style=\"text-align: right;\">\n",
       "      <th></th>\n",
       "      <th>No</th>\n",
       "      <th>year</th>\n",
       "      <th>month</th>\n",
       "      <th>day</th>\n",
       "      <th>hour</th>\n",
       "      <th>pm2.5</th>\n",
       "      <th>DEWP</th>\n",
       "      <th>TEMP</th>\n",
       "      <th>PRES</th>\n",
       "      <th>Iws</th>\n",
       "      <th>Is</th>\n",
       "      <th>Ir</th>\n",
       "    </tr>\n",
       "  </thead>\n",
       "  <tbody>\n",
       "    <tr>\n",
       "      <th>count</th>\n",
       "      <td>43824.000000</td>\n",
       "      <td>43824.000000</td>\n",
       "      <td>43824.000000</td>\n",
       "      <td>43824.000000</td>\n",
       "      <td>43824.000000</td>\n",
       "      <td>41757.000000</td>\n",
       "      <td>43824.000000</td>\n",
       "      <td>43824.000000</td>\n",
       "      <td>43824.000000</td>\n",
       "      <td>43824.000000</td>\n",
       "      <td>43824.000000</td>\n",
       "      <td>43824.000000</td>\n",
       "    </tr>\n",
       "    <tr>\n",
       "      <th>mean</th>\n",
       "      <td>21912.500000</td>\n",
       "      <td>2012.000000</td>\n",
       "      <td>6.523549</td>\n",
       "      <td>15.727820</td>\n",
       "      <td>11.500000</td>\n",
       "      <td>98.613215</td>\n",
       "      <td>1.817246</td>\n",
       "      <td>12.448521</td>\n",
       "      <td>1016.447654</td>\n",
       "      <td>23.889140</td>\n",
       "      <td>0.052734</td>\n",
       "      <td>0.194916</td>\n",
       "    </tr>\n",
       "    <tr>\n",
       "      <th>std</th>\n",
       "      <td>12651.043435</td>\n",
       "      <td>1.413842</td>\n",
       "      <td>3.448572</td>\n",
       "      <td>8.799425</td>\n",
       "      <td>6.922266</td>\n",
       "      <td>92.050387</td>\n",
       "      <td>14.433440</td>\n",
       "      <td>12.198613</td>\n",
       "      <td>10.268698</td>\n",
       "      <td>50.010635</td>\n",
       "      <td>0.760375</td>\n",
       "      <td>1.415867</td>\n",
       "    </tr>\n",
       "    <tr>\n",
       "      <th>min</th>\n",
       "      <td>1.000000</td>\n",
       "      <td>2010.000000</td>\n",
       "      <td>1.000000</td>\n",
       "      <td>1.000000</td>\n",
       "      <td>0.000000</td>\n",
       "      <td>0.000000</td>\n",
       "      <td>-40.000000</td>\n",
       "      <td>-19.000000</td>\n",
       "      <td>991.000000</td>\n",
       "      <td>0.450000</td>\n",
       "      <td>0.000000</td>\n",
       "      <td>0.000000</td>\n",
       "    </tr>\n",
       "    <tr>\n",
       "      <th>25%</th>\n",
       "      <td>10956.750000</td>\n",
       "      <td>2011.000000</td>\n",
       "      <td>4.000000</td>\n",
       "      <td>8.000000</td>\n",
       "      <td>5.750000</td>\n",
       "      <td>29.000000</td>\n",
       "      <td>-10.000000</td>\n",
       "      <td>2.000000</td>\n",
       "      <td>1008.000000</td>\n",
       "      <td>1.790000</td>\n",
       "      <td>0.000000</td>\n",
       "      <td>0.000000</td>\n",
       "    </tr>\n",
       "    <tr>\n",
       "      <th>50%</th>\n",
       "      <td>21912.500000</td>\n",
       "      <td>2012.000000</td>\n",
       "      <td>7.000000</td>\n",
       "      <td>16.000000</td>\n",
       "      <td>11.500000</td>\n",
       "      <td>72.000000</td>\n",
       "      <td>2.000000</td>\n",
       "      <td>14.000000</td>\n",
       "      <td>1016.000000</td>\n",
       "      <td>5.370000</td>\n",
       "      <td>0.000000</td>\n",
       "      <td>0.000000</td>\n",
       "    </tr>\n",
       "    <tr>\n",
       "      <th>75%</th>\n",
       "      <td>32868.250000</td>\n",
       "      <td>2013.000000</td>\n",
       "      <td>10.000000</td>\n",
       "      <td>23.000000</td>\n",
       "      <td>17.250000</td>\n",
       "      <td>137.000000</td>\n",
       "      <td>15.000000</td>\n",
       "      <td>23.000000</td>\n",
       "      <td>1025.000000</td>\n",
       "      <td>21.910000</td>\n",
       "      <td>0.000000</td>\n",
       "      <td>0.000000</td>\n",
       "    </tr>\n",
       "    <tr>\n",
       "      <th>max</th>\n",
       "      <td>43824.000000</td>\n",
       "      <td>2014.000000</td>\n",
       "      <td>12.000000</td>\n",
       "      <td>31.000000</td>\n",
       "      <td>23.000000</td>\n",
       "      <td>994.000000</td>\n",
       "      <td>28.000000</td>\n",
       "      <td>42.000000</td>\n",
       "      <td>1046.000000</td>\n",
       "      <td>585.600000</td>\n",
       "      <td>27.000000</td>\n",
       "      <td>36.000000</td>\n",
       "    </tr>\n",
       "  </tbody>\n",
       "</table>\n",
       "</div>"
      ],
      "text/plain": [
       "                 No          year         month           day          hour  \\\n",
       "count  43824.000000  43824.000000  43824.000000  43824.000000  43824.000000   \n",
       "mean   21912.500000   2012.000000      6.523549     15.727820     11.500000   \n",
       "std    12651.043435      1.413842      3.448572      8.799425      6.922266   \n",
       "min        1.000000   2010.000000      1.000000      1.000000      0.000000   \n",
       "25%    10956.750000   2011.000000      4.000000      8.000000      5.750000   \n",
       "50%    21912.500000   2012.000000      7.000000     16.000000     11.500000   \n",
       "75%    32868.250000   2013.000000     10.000000     23.000000     17.250000   \n",
       "max    43824.000000   2014.000000     12.000000     31.000000     23.000000   \n",
       "\n",
       "              pm2.5          DEWP          TEMP          PRES           Iws  \\\n",
       "count  41757.000000  43824.000000  43824.000000  43824.000000  43824.000000   \n",
       "mean      98.613215      1.817246     12.448521   1016.447654     23.889140   \n",
       "std       92.050387     14.433440     12.198613     10.268698     50.010635   \n",
       "min        0.000000    -40.000000    -19.000000    991.000000      0.450000   \n",
       "25%       29.000000    -10.000000      2.000000   1008.000000      1.790000   \n",
       "50%       72.000000      2.000000     14.000000   1016.000000      5.370000   \n",
       "75%      137.000000     15.000000     23.000000   1025.000000     21.910000   \n",
       "max      994.000000     28.000000     42.000000   1046.000000    585.600000   \n",
       "\n",
       "                 Is            Ir  \n",
       "count  43824.000000  43824.000000  \n",
       "mean       0.052734      0.194916  \n",
       "std        0.760375      1.415867  \n",
       "min        0.000000      0.000000  \n",
       "25%        0.000000      0.000000  \n",
       "50%        0.000000      0.000000  \n",
       "75%        0.000000      0.000000  \n",
       "max       27.000000     36.000000  "
      ]
     },
     "execution_count": 3,
     "metadata": {},
     "output_type": "execute_result"
    }
   ],
   "source": [
    "df.describe()"
   ]
  },
  {
   "cell_type": "code",
   "execution_count": 12,
   "metadata": {},
   "outputs": [
    {
     "data": {
      "text/plain": [
       "(43824, 13)"
      ]
     },
     "execution_count": 12,
     "metadata": {},
     "output_type": "execute_result"
    }
   ],
   "source": [
    "df.shape"
   ]
  },
  {
   "cell_type": "code",
   "execution_count": 5,
   "metadata": {
    "colab": {
     "base_uri": "https://localhost:8080/",
     "height": 347
    },
    "colab_type": "code",
    "id": "hfV3WisFP_O6",
    "outputId": "a9809666-6c33-4778-fe1c-f3030f89d431"
   },
   "outputs": [
    {
     "data": {
      "image/png": "[encoded data removed]",
      "text/plain": [
       "<Figure size 432x288 with 1 Axes>"
      ]
     },
     "metadata": {
      "needs_background": "light"
     },
     "output_type": "display_data"
    }
   ],
   "source": [
    "df['pm2.5'].plot.hist();"
   ]
  },
  {
   "cell_type": "code",
   "execution_count": 11,
   "metadata": {},
   "outputs": [
    {
     "data": {
      "text/plain": [
       "<matplotlib.axes._subplots.AxesSubplot at 0x1a1c84ae80>"
      ]
     },
     "execution_count": 11,
     "metadata": {},
     "output_type": "execute_result"
    },
    {
     "data": {
      "image/png": "[encoded data removed]",
      "text/plain": [
       "<Figure size 432x288 with 1 Axes>"
      ]
     },
     "metadata": {
      "needs_background": "light"
     },
     "output_type": "display_data"
    }
   ],
   "source": [
    "pd.Series(np.log(1 + df['pm2.5'])).plot.hist()"
   ]
  },
  {
   "cell_type": "code",
   "execution_count": 6,
   "metadata": {
    "colab": {
     "base_uri": "https://localhost:8080/",
     "height": 34
    },
    "colab_type": "code",
    "id": "OgbMTAHzQJB8",
    "outputId": "15e18384-ede7-4ccd-8961-280b35f66f85"
   },
   "outputs": [
    {
     "data": {
      "text/plain": [
       "0.259000639965952"
      ]
     },
     "execution_count": 6,
     "metadata": {},
     "output_type": "execute_result"
    }
   ],
   "source": [
    "# How does linear regression handle it?\n",
    "from sklearn.linear_model import LinearRegression\n",
    "\n",
    "# Let's drop NAs and limit to numeric values\n",
    "df = df._get_numeric_data().dropna()\n",
    "X = df.drop('pm2.5', axis='columns')\n",
    "y = df['pm2.5']\n",
    "\n",
    "linear_reg = LinearRegression().fit(X, y)\n",
    "linear_reg.score(X, y)"
   ]
  },
  {
   "cell_type": "code",
   "execution_count": 14,
   "metadata": {
    "colab": {
     "base_uri": "https://localhost:8080/",
     "height": 462
    },
    "colab_type": "code",
    "id": "-viFFtm0RizM",
    "outputId": "256d7680-1a43-4958-c74c-31aaef917906"
   },
   "outputs": [
    {
     "name": "stdout",
     "output_type": "stream",
     "text": [
      "pm25 ~ No + year + month + day + hour + DEWP + TEMP + PRES + cbwd + Iws + Is + Ir\n"
     ]
    },
    {
     "name": "stderr",
     "output_type": "stream",
     "text": [
      "/anaconda3/envs/sandbox/lib/python3.7/site-packages/statsmodels/regression/quantile_regression.py:193: IterationLimitWarning: Maximum number of iterations (1000) reached.\n",
      "  \") reached.\", IterationLimitWarning)\n",
      "/anaconda3/envs/sandbox/lib/python3.7/site-packages/scipy/stats/stats.py:1713: FutureWarning: Using a non-tuple sequence for multidimensional indexing is deprecated; use `arr[tuple(seq)]` instead of `arr[seq]`. In the future this will be interpreted as an array index, `arr[np.array(seq)]`, which will result either in an error or a different result.\n",
      "  return np.add.reduce(sorted[indexer] * weights, axis=axis) / sumval\n"
     ]
    },
    {
     "data": {
      "text/html": [
       "<table class=\"simpletable\">\n",
       "<caption>QuantReg Regression Results</caption>\n",
       "<tr>\n",
       "  <th>Dep. Variable:</th>       <td>pm25</td>       <th>  Pseudo R-squared:  </th> <td>  0.1791</td>\n",
       "</tr>\n",
       "<tr>\n",
       "  <th>Model:</th>             <td>QuantReg</td>     <th>  Bandwidth:         </th> <td>   7.993</td>\n",
       "</tr>\n",
       "<tr>\n",
       "  <th>Method:</th>          <td>Least Squares</td>  <th>  Sparsity:          </th> <td>   128.1</td>\n",
       "</tr>\n",
       "<tr>\n",
       "  <th>Date:</th>          <td>Wed, 23 Jan 2019</td> <th>  No. Observations:  </th>  <td> 41757</td> \n",
       "</tr>\n",
       "<tr>\n",
       "  <th>Time:</th>              <td>09:40:02</td>     <th>  Df Residuals:      </th>  <td> 41742</td> \n",
       "</tr>\n",
       "<tr>\n",
       "  <th> </th>                      <td> </td>        <th>  Df Model:          </th>  <td>    14</td> \n",
       "</tr>\n",
       "</table>\n",
       "<table class=\"simpletable\">\n",
       "<tr>\n",
       "       <td></td>         <th>coef</th>     <th>std err</th>      <th>t</th>      <th>P>|t|</th>  <th>[0.025</th>    <th>0.975]</th>  \n",
       "</tr>\n",
       "<tr>\n",
       "  <th>Intercept</th>  <td>    0.0004</td> <td> 1.61e-05</td> <td>   23.274</td> <td> 0.000</td> <td>    0.000</td> <td>    0.000</td>\n",
       "</tr>\n",
       "<tr>\n",
       "  <th>cbwd[T.NW]</th> <td>   -1.4752</td> <td>    1.124</td> <td>   -1.313</td> <td> 0.189</td> <td>   -3.678</td> <td>    0.727</td>\n",
       "</tr>\n",
       "<tr>\n",
       "  <th>cbwd[T.SE]</th> <td>   29.2836</td> <td>    1.107</td> <td>   26.463</td> <td> 0.000</td> <td>   27.115</td> <td>   31.452</td>\n",
       "</tr>\n",
       "<tr>\n",
       "  <th>cbwd[T.cv]</th> <td>   28.8416</td> <td>    1.157</td> <td>   24.922</td> <td> 0.000</td> <td>   26.573</td> <td>   31.110</td>\n",
       "</tr>\n",
       "<tr>\n",
       "  <th>No</th>         <td>-6.803e-05</td> <td> 2.56e-05</td> <td>   -2.654</td> <td> 0.008</td> <td>   -0.000</td> <td>-1.78e-05</td>\n",
       "</tr>\n",
       "<tr>\n",
       "  <th>year</th>       <td>    0.8581</td> <td>    0.030</td> <td>   28.960</td> <td> 0.000</td> <td>    0.800</td> <td>    0.916</td>\n",
       "</tr>\n",
       "<tr>\n",
       "  <th>month</th>      <td>   -0.7731</td> <td>    0.100</td> <td>   -7.759</td> <td> 0.000</td> <td>   -0.968</td> <td>   -0.578</td>\n",
       "</tr>\n",
       "<tr>\n",
       "  <th>day</th>        <td>    0.4509</td> <td>    0.036</td> <td>   12.614</td> <td> 0.000</td> <td>    0.381</td> <td>    0.521</td>\n",
       "</tr>\n",
       "<tr>\n",
       "  <th>hour</th>       <td>    0.8728</td> <td>    0.049</td> <td>   17.920</td> <td> 0.000</td> <td>    0.777</td> <td>    0.968</td>\n",
       "</tr>\n",
       "<tr>\n",
       "  <th>DEWP</th>       <td>    3.1509</td> <td>    0.046</td> <td>   68.424</td> <td> 0.000</td> <td>    3.061</td> <td>    3.241</td>\n",
       "</tr>\n",
       "<tr>\n",
       "  <th>TEMP</th>       <td>   -4.5503</td> <td>    0.058</td> <td>  -79.008</td> <td> 0.000</td> <td>   -4.663</td> <td>   -4.437</td>\n",
       "</tr>\n",
       "<tr>\n",
       "  <th>PRES</th>       <td>   -1.5942</td> <td>    0.058</td> <td>  -27.317</td> <td> 0.000</td> <td>   -1.709</td> <td>   -1.480</td>\n",
       "</tr>\n",
       "<tr>\n",
       "  <th>Iws</th>        <td>   -0.1008</td> <td>    0.007</td> <td>  -14.158</td> <td> 0.000</td> <td>   -0.115</td> <td>   -0.087</td>\n",
       "</tr>\n",
       "<tr>\n",
       "  <th>Is</th>         <td>   -2.2467</td> <td>    0.408</td> <td>   -5.508</td> <td> 0.000</td> <td>   -3.046</td> <td>   -1.447</td>\n",
       "</tr>\n",
       "<tr>\n",
       "  <th>Ir</th>         <td>   -4.6241</td> <td>    0.225</td> <td>  -20.514</td> <td> 0.000</td> <td>   -5.066</td> <td>   -4.182</td>\n",
       "</tr>\n",
       "</table><br/><br/>The condition number is large, 3.04e+10. This might indicate that there are<br/>strong multicollinearity or other numerical problems."
      ],
      "text/plain": [
       "<class 'statsmodels.iolib.summary.Summary'>\n",
       "\"\"\"\n",
       "                         QuantReg Regression Results                          \n",
       "==============================================================================\n",
       "Dep. Variable:                   pm25   Pseudo R-squared:               0.1791\n",
       "Model:                       QuantReg   Bandwidth:                       7.993\n",
       "Method:                 Least Squares   Sparsity:                        128.1\n",
       "Date:                Wed, 23 Jan 2019   No. Observations:                41757\n",
       "Time:                        09:40:02   Df Residuals:                    41742\n",
       "                                        Df Model:                           14\n",
       "==============================================================================\n",
       "                 coef    std err          t      P>|t|      [0.025      0.975]\n",
       "------------------------------------------------------------------------------\n",
       "Intercept      0.0004   1.61e-05     23.274      0.000       0.000       0.000\n",
       "cbwd[T.NW]    -1.4752      1.124     -1.313      0.189      -3.678       0.727\n",
       "cbwd[T.SE]    29.2836      1.107     26.463      0.000      27.115      31.452\n",
       "cbwd[T.cv]    28.8416      1.157     24.922      0.000      26.573      31.110\n",
       "No         -6.803e-05   2.56e-05     -2.654      0.008      -0.000   -1.78e-05\n",
       "year           0.8581      0.030     28.960      0.000       0.800       0.916\n",
       "month         -0.7731      0.100     -7.759      0.000      -0.968      -0.578\n",
       "day            0.4509      0.036     12.614      0.000       0.381       0.521\n",
       "hour           0.8728      0.049     17.920      0.000       0.777       0.968\n",
       "DEWP           3.1509      0.046     68.424      0.000       3.061       3.241\n",
       "TEMP          -4.5503      0.058    -79.008      0.000      -4.663      -4.437\n",
       "PRES          -1.5942      0.058    -27.317      0.000      -1.709      -1.480\n",
       "Iws           -0.1008      0.007    -14.158      0.000      -0.115      -0.087\n",
       "Is            -2.2467      0.408     -5.508      0.000      -3.046      -1.447\n",
       "Ir            -4.6241      0.225    -20.514      0.000      -5.066      -4.182\n",
       "==============================================================================\n",
       "\n",
       "The condition number is large, 3.04e+10. This might indicate that there are\n",
       "strong multicollinearity or other numerical problems.\n",
       "\"\"\""
      ]
     },
     "execution_count": 14,
     "metadata": {},
     "output_type": "execute_result"
    }
   ],
   "source": [
    "# Not bad - but what if we wanted to model the distribution more conservatively?\n",
    "# Let's try quantile\n",
    "import statsmodels.formula.api as smf\n",
    "\n",
    "# Different jargon/API in StatsModel documentation\n",
    "# \"endogenous\" response var is dependent (y), it is \"inside\"\n",
    "# \"exogenous\" variables are independent (X), it is \"outside\"\n",
    "# Bonus points - talk about \"exogenous shocks\" and you're a bona fide economist\n",
    "\n",
    "# ~ style formulas look like what R uses\n",
    "# y ~ x1 + x2 + ...\n",
    "# Also, these formulas break with . in variable name, so lets change that\n",
    "df = df.rename(index=str, columns={'pm2.5': 'pm25'})\n",
    "\n",
    "# Now let's construct the formula string using all columns\n",
    "quant_formula = 'pm25 ~ ' + ' + '.join(df.drop('pm25', axis='columns').columns)\n",
    "print(quant_formula)\n",
    "\n",
    "quant_mod = smf.quantreg(quant_formula, data=df)\n",
    "quant_reg = quant_mod.fit(q=.5)\n",
    "quant_reg.summary()  # \"summary\" is another very R-thing"
   ]
  },
  {
   "cell_type": "markdown",
   "metadata": {
    "colab_type": "text",
    "id": "ZBkP4bewd-HT"
   },
   "source": [
    "That fit to the median (q=0.5), also called \"Least Absolute Deviation.\" The pseudo-R^2 isn't really directly comparable to the R^2 from linear regression, but it clearly isn't dramatically improved. Can we make it better?"
   ]
  },
  {
   "cell_type": "code",
   "execution_count": 15,
   "metadata": {
    "colab": {
     "base_uri": "https://localhost:8080/",
     "height": 593
    },
    "colab_type": "code",
    "id": "BgvYeHg3bL4g",
    "outputId": "bf4547a0-7739-45d8-bf5a-26ab1684f7f6"
   },
   "outputs": [
    {
     "name": "stdout",
     "output_type": "stream",
     "text": [
      "Help on method fit in module statsmodels.regression.quantile_regression:\n",
      "\n",
      "fit(q=0.5, vcov='robust', kernel='epa', bandwidth='hsheather', max_iter=1000, p_tol=1e-06, **kwargs) method of statsmodels.regression.quantile_regression.QuantReg instance\n",
      "    Solve by Iterative Weighted Least Squares\n",
      "    \n",
      "    Parameters\n",
      "    ----------\n",
      "    q : float\n",
      "        Quantile must be between 0 and 1\n",
      "    vcov : string, method used to calculate the variance-covariance matrix\n",
      "        of the parameters. Default is ``robust``:\n",
      "    \n",
      "        - robust : heteroskedasticity robust standard errors (as suggested\n",
      "          in Greene 6th edition)\n",
      "        - iid : iid errors (as in Stata 12)\n",
      "    \n",
      "    kernel : string, kernel to use in the kernel density estimation for the\n",
      "        asymptotic covariance matrix:\n",
      "    \n",
      "        - epa: Epanechnikov\n",
      "        - cos: Cosine\n",
      "        - gau: Gaussian\n",
      "        - par: Parzene\n",
      "    \n",
      "    bandwidth: string, Bandwidth selection method in kernel density\n",
      "        estimation for asymptotic covariance estimate (full\n",
      "        references in QuantReg docstring):\n",
      "    \n",
      "        - hsheather: Hall-Sheather (1988)\n",
      "        - bofinger: Bofinger (1975)\n",
      "        - chamberlain: Chamberlain (1994)\n",
      "\n"
     ]
    }
   ],
   "source": [
    "help(quant_mod.fit)"
   ]
  },
  {
   "cell_type": "code",
   "execution_count": 16,
   "metadata": {
    "colab": {
     "base_uri": "https://localhost:8080/",
     "height": 1424
    },
    "colab_type": "code",
    "id": "lpNPioZTei4U",
    "outputId": "40fc70a6-43c5-44a0-a012-923bd3f826a8"
   },
   "outputs": [
    {
     "name": "stdout",
     "output_type": "stream",
     "text": [
      "                         QuantReg Regression Results                          \n",
      "==============================================================================\n",
      "Dep. Variable:                   pm25   Pseudo R-squared:              0.07013\n",
      "Model:                       QuantReg   Bandwidth:                       8.569\n",
      "Method:                 Least Squares   Sparsity:                        125.3\n",
      "Date:                Wed, 23 Jan 2019   No. Observations:                41757\n",
      "Time:                        09:40:57   Df Residuals:                    41742\n",
      "                                        Df Model:                           14\n",
      "==============================================================================\n",
      "                 coef    std err          t      P>|t|      [0.025      0.975]\n",
      "------------------------------------------------------------------------------\n",
      "Intercept   2.073e-05   6.72e-06      3.084      0.002    7.56e-06    3.39e-05\n",
      "cbwd[T.NW]    -1.2189      0.482     -2.529      0.011      -2.164      -0.274\n",
      "cbwd[T.SE]    15.1985      0.470     32.354      0.000      14.278      16.119\n",
      "cbwd[T.cv]     8.7178      0.493     17.685      0.000       7.752       9.684\n",
      "No         -8.779e-05   1.01e-05     -8.719      0.000      -0.000   -6.81e-05\n",
      "year           0.1117      0.013      8.834      0.000       0.087       0.136\n",
      "month         -0.3401      0.037     -9.194      0.000      -0.413      -0.268\n",
      "day            0.1126      0.015      7.432      0.000       0.083       0.142\n",
      "hour           0.1726      0.022      8.002      0.000       0.130       0.215\n",
      "DEWP           0.8056      0.018     44.486      0.000       0.770       0.841\n",
      "TEMP          -1.0103      0.022    -45.004      0.000      -1.054      -0.966\n",
      "PRES          -0.1972      0.025     -7.919      0.000      -0.246      -0.148\n",
      "Iws           -0.0006      0.003     -0.197      0.844      -0.006       0.005\n",
      "Is             0.7149      0.183      3.898      0.000       0.355       1.074\n",
      "Ir            -0.9524      0.073    -13.030      0.000      -1.096      -0.809\n",
      "==============================================================================\n",
      "\n",
      "The condition number is large, 3.04e+10. This might indicate that there are\n",
      "strong multicollinearity or other numerical problems.\n"
     ]
    },
    {
     "name": "stderr",
     "output_type": "stream",
     "text": [
      "/anaconda3/envs/sandbox/lib/python3.7/site-packages/statsmodels/regression/quantile_regression.py:193: IterationLimitWarning: Maximum number of iterations (1000) reached.\n",
      "  \") reached.\", IterationLimitWarning)\n"
     ]
    },
    {
     "name": "stdout",
     "output_type": "stream",
     "text": [
      "                         QuantReg Regression Results                          \n",
      "==============================================================================\n",
      "Dep. Variable:                   pm25   Pseudo R-squared:               0.2221\n",
      "Model:                       QuantReg   Bandwidth:                       10.36\n",
      "Method:                 Least Squares   Sparsity:                        1427.\n",
      "Date:                Wed, 23 Jan 2019   No. Observations:                41757\n",
      "Time:                        09:41:03   Df Residuals:                    41742\n",
      "                                        Df Model:                           14\n",
      "==============================================================================\n",
      "                 coef    std err          t      P>|t|      [0.025      0.975]\n",
      "------------------------------------------------------------------------------\n",
      "Intercept      0.0004   7.37e-05      5.924      0.000       0.000       0.001\n",
      "cbwd[T.NW]     4.8265      4.901      0.985      0.325      -4.780      14.433\n",
      "cbwd[T.SE]    16.0280      4.861      3.298      0.001       6.501      25.555\n",
      "cbwd[T.cv]    31.0135      5.061      6.128      0.000      21.093      40.934\n",
      "No         -3.883e-05      0.000     -0.320      0.749      -0.000       0.000\n",
      "year           1.1868      0.133      8.954      0.000       0.927       1.447\n",
      "month         -3.7517      0.493     -7.615      0.000      -4.717      -2.786\n",
      "day            1.0276      0.147      6.980      0.000       0.739       1.316\n",
      "hour           2.3249      0.210     11.052      0.000       1.913       2.737\n",
      "DEWP           7.3023      0.257     28.387      0.000       6.798       7.806\n",
      "TEMP         -11.8165      0.326    -36.240      0.000     -12.456     -11.177\n",
      "PRES          -1.9779      0.261     -7.569      0.000      -2.490      -1.466\n",
      "Iws           -0.3831      0.038     -9.999      0.000      -0.458      -0.308\n",
      "Is            -5.3806      1.836     -2.930      0.003      -8.980      -1.781\n",
      "Ir            -8.9509      1.614     -5.547      0.000     -12.113      -5.788\n",
      "==============================================================================\n",
      "\n",
      "The condition number is large, 3.04e+10. This might indicate that there are\n",
      "strong multicollinearity or other numerical problems.\n",
      "                         QuantReg Regression Results                          \n",
      "==============================================================================\n",
      "Dep. Variable:                   pm25   Pseudo R-squared:              0.09884\n",
      "Model:                       QuantReg   Bandwidth:                       7.763\n",
      "Method:                 Least Squares   Sparsity:                        101.0\n",
      "Date:                Wed, 23 Jan 2019   No. Observations:                41757\n",
      "Time:                        09:41:04   Df Residuals:                    41742\n",
      "                                        Df Model:                           14\n",
      "==============================================================================\n",
      "                 coef    std err          t      P>|t|      [0.025      0.975]\n",
      "------------------------------------------------------------------------------\n",
      "Intercept      0.0001   7.57e-06     17.103      0.000       0.000       0.000\n",
      "cbwd[T.NW]    -1.7512      0.535     -3.273      0.001      -2.800      -0.703\n",
      "cbwd[T.SE]    19.9802      0.520     38.421      0.000      18.961      20.999\n",
      "cbwd[T.cv]    12.5925      0.546     23.048      0.000      11.522      13.663\n",
      "No         -8.135e-05   1.14e-05     -7.124      0.000      -0.000    -5.9e-05\n",
      "year           0.1663      0.014     11.807      0.000       0.139       0.194\n",
      "month         -0.4430      0.043    -10.362      0.000      -0.527      -0.359\n",
      "day            0.1645      0.017      9.842      0.000       0.132       0.197\n",
      "hour           0.2099      0.024      8.734      0.000       0.163       0.257\n",
      "DEWP           1.1366      0.020     56.558      0.000       1.097       1.176\n",
      "TEMP          -1.4326      0.024    -59.000      0.000      -1.480      -1.385\n",
      "PRES          -0.2963      0.028    -10.670      0.000      -0.351      -0.242\n",
      "Iws           -0.0057      0.003     -1.835      0.067      -0.012       0.000\n",
      "Is             0.5174      0.192      2.699      0.007       0.142       0.893\n",
      "Ir            -1.3960      0.086    -16.302      0.000      -1.564      -1.228\n",
      "==============================================================================\n",
      "\n",
      "The condition number is large, 3.04e+10. This might indicate that there are\n",
      "strong multicollinearity or other numerical problems.\n"
     ]
    }
   ],
   "source": [
    "quantiles = (.05, .96, .1)\n",
    "\n",
    "for quantile in quantiles:\n",
    "  print(quant_mod.fit(q=quantile).summary())"
   ]
  },
  {
   "cell_type": "markdown",
   "metadata": {
    "colab_type": "text",
    "id": "Xqh4Jp1XgjrE"
   },
   "source": [
    "\"Strong multicollinearity\", eh? In other words - maybe we shouldn't throw every variable in our formula. Let's hand-craft a smaller one, picking the features with the largest magnitude t-statistics for their coefficients. Let's also search for more quantile cutoffs to see what's most effective."
   ]
  },
  {
   "cell_type": "code",
   "execution_count": 0,
   "metadata": {
    "colab": {
     "base_uri": "https://localhost:8080/",
     "height": 975
    },
    "colab_type": "code",
    "id": "NmoELnXwgpXd",
    "outputId": "1865f1b1-778a-4e73-91b7-d30ad29b2ee2"
   },
   "outputs": [
    {
     "name": "stdout",
     "output_type": "stream",
     "text": [
      "(0.5, 0.1447879336023583)\n",
      "(0.51, 0.1453046499109799)\n",
      "(0.52, 0.1457984456251047)\n",
      "(0.53, 0.14627848333343263)\n",
      "(0.54, 0.1467640446791706)\n",
      "(0.55, 0.14733094668790292)\n",
      "(0.56, 0.14787821797693512)\n",
      "(0.57, 0.14840185621049273)\n",
      "(0.58, 0.14892138273908107)\n",
      "(0.59, 0.14946793972061212)\n"
     ]
    },
    {
     "name": "stderr",
     "output_type": "stream",
     "text": [
      "/usr/local/lib/python3.6/dist-packages/statsmodels/regression/quantile_regression.py:193: IterationLimitWarning: Maximum number of iterations (1000) reached.\n",
      "  \") reached.\", IterationLimitWarning)\n"
     ]
    },
    {
     "name": "stdout",
     "output_type": "stream",
     "text": [
      "(0.6, 0.1500450836285967)\n",
      "(0.61, 0.15066665485612274)\n",
      "(0.62, 0.15131550520931825)\n",
      "(0.63, 0.15201598245712966)\n",
      "(0.64, 0.152815632180745)\n",
      "(0.65, 0.15360133883660188)\n",
      "(0.66, 0.15440046026580068)\n",
      "(0.67, 0.15521251759239985)\n",
      "(0.68, 0.15607615678951559)\n",
      "(0.69, 0.15692695615298136)\n",
      "(0.7, 0.1577663389046554)\n",
      "(0.71, 0.15865286212994567)\n",
      "(0.72, 0.15961363441229715)\n",
      "(0.73, 0.16062991121153458)\n",
      "(0.74, 0.1617151201897239)\n",
      "(0.75, 0.16280951619867146)\n",
      "(0.76, 0.16394259393342125)\n",
      "(0.77, 0.16517451474458056)\n",
      "(0.78, 0.1664423443710097)\n",
      "(0.79, 0.16770815353095714)\n"
     ]
    },
    {
     "name": "stderr",
     "output_type": "stream",
     "text": [
      "/usr/local/lib/python3.6/dist-packages/statsmodels/regression/quantile_regression.py:193: IterationLimitWarning: Maximum number of iterations (1000) reached.\n",
      "  \") reached.\", IterationLimitWarning)\n"
     ]
    },
    {
     "name": "stdout",
     "output_type": "stream",
     "text": [
      "(0.8, 0.16904227356438506)\n",
      "(0.81, 0.17037126968955685)\n",
      "(0.82, 0.17195593122357777)\n",
      "(0.83, 0.17383892606382623)\n",
      "(0.84, 0.17599918426382777)\n",
      "(0.85, 0.17817588507328963)\n",
      "(0.86, 0.18047434708570964)\n",
      "(0.87, 0.18274842963575832)\n",
      "(0.88, 0.1850748927825704)\n",
      "(0.89, 0.18767194363846373)\n",
      "(0.9, 0.1899871464061209)\n",
      "(0.91, 0.19205778885867675)\n",
      "(0.92, 0.19409258046839573)\n",
      "(0.93, 0.1960928580149024)\n",
      "(0.94, 0.1990718585613529)\n",
      "(0.95, 0.20306510227274233)\n",
      "(0.96, 0.20828854295993626)\n",
      "(0.97, 0.21268428179968246)\n",
      "(0.98, 0.21668870123970496)\n",
      "(0.99, 0.21742941318156628)\n"
     ]
    }
   ],
   "source": [
    "quant_formula = 'pm25 ~ DEWP + TEMP + Ir + hour + Iws'\n",
    "quant_mod = smf.quantreg(quant_formula, data=df)\n",
    "for quantile in range(50, 100):\n",
    "  quantile /= 100\n",
    "  quant_reg = quant_mod.fit(q=quantile)\n",
    "  print((quantile, quant_reg.prsquared))"
   ]
  },
  {
   "cell_type": "code",
   "execution_count": 17,
   "metadata": {
    "colab": {
     "base_uri": "https://localhost:8080/",
     "height": 444
    },
    "colab_type": "code",
    "id": "Bz0GmE5kuwQY",
    "outputId": "d139eca6-fa58-4f4c-a051-18b3e2d7ee13"
   },
   "outputs": [
    {
     "data": {
      "text/html": [
       "<table class=\"simpletable\">\n",
       "<caption>QuantReg Regression Results</caption>\n",
       "<tr>\n",
       "  <th>Dep. Variable:</th>       <td>pm25</td>       <th>  Pseudo R-squared:  </th> <td>  0.2976</td>\n",
       "</tr>\n",
       "<tr>\n",
       "  <th>Model:</th>             <td>QuantReg</td>     <th>  Bandwidth:         </th> <td> 0.09472</td>\n",
       "</tr>\n",
       "<tr>\n",
       "  <th>Method:</th>          <td>Least Squares</td>  <th>  Sparsity:          </th> <td>   2.366</td>\n",
       "</tr>\n",
       "<tr>\n",
       "  <th>Date:</th>          <td>Wed, 23 Jan 2019</td> <th>  No. Observations:  </th>  <td> 41757</td> \n",
       "</tr>\n",
       "<tr>\n",
       "  <th>Time:</th>              <td>10:12:45</td>     <th>  Df Residuals:      </th>  <td> 41742</td> \n",
       "</tr>\n",
       "<tr>\n",
       "  <th> </th>                      <td> </td>        <th>  Df Model:          </th>  <td>    14</td> \n",
       "</tr>\n",
       "</table>\n",
       "<table class=\"simpletable\">\n",
       "<tr>\n",
       "       <td></td>         <th>coef</th>     <th>std err</th>      <th>t</th>      <th>P>|t|</th>  <th>[0.025</th>    <th>0.975]</th>  \n",
       "</tr>\n",
       "<tr>\n",
       "  <th>Intercept</th>  <td> 6.037e-06</td> <td> 2.55e-07</td> <td>   23.672</td> <td> 0.000</td> <td> 5.54e-06</td> <td> 6.54e-06</td>\n",
       "</tr>\n",
       "<tr>\n",
       "  <th>cbwd[T.NW]</th> <td>   -0.0808</td> <td>    0.018</td> <td>   -4.494</td> <td> 0.000</td> <td>   -0.116</td> <td>   -0.046</td>\n",
       "</tr>\n",
       "<tr>\n",
       "  <th>cbwd[T.SE]</th> <td>    0.7136</td> <td>    0.018</td> <td>   40.422</td> <td> 0.000</td> <td>    0.679</td> <td>    0.748</td>\n",
       "</tr>\n",
       "<tr>\n",
       "  <th>cbwd[T.cv]</th> <td>    0.5514</td> <td>    0.018</td> <td>   29.943</td> <td> 0.000</td> <td>    0.515</td> <td>    0.587</td>\n",
       "</tr>\n",
       "<tr>\n",
       "  <th>No</th>         <td>-4.026e-06</td> <td> 3.97e-07</td> <td>  -10.139</td> <td> 0.000</td> <td> -4.8e-06</td> <td>-3.25e-06</td>\n",
       "</tr>\n",
       "<tr>\n",
       "  <th>year</th>       <td>    0.0105</td> <td>    0.000</td> <td>   22.179</td> <td> 0.000</td> <td>    0.010</td> <td>    0.011</td>\n",
       "</tr>\n",
       "<tr>\n",
       "  <th>month</th>      <td>   -0.0181</td> <td>    0.002</td> <td>  -12.029</td> <td> 0.000</td> <td>   -0.021</td> <td>   -0.015</td>\n",
       "</tr>\n",
       "<tr>\n",
       "  <th>day</th>        <td>    0.0060</td> <td>    0.001</td> <td>   10.628</td> <td> 0.000</td> <td>    0.005</td> <td>    0.007</td>\n",
       "</tr>\n",
       "<tr>\n",
       "  <th>hour</th>       <td>    0.0113</td> <td>    0.001</td> <td>   13.863</td> <td> 0.000</td> <td>    0.010</td> <td>    0.013</td>\n",
       "</tr>\n",
       "<tr>\n",
       "  <th>DEWP</th>       <td>    0.0549</td> <td>    0.001</td> <td>   79.270</td> <td> 0.000</td> <td>    0.054</td> <td>    0.056</td>\n",
       "</tr>\n",
       "<tr>\n",
       "  <th>TEMP</th>       <td>   -0.0705</td> <td>    0.001</td> <td>  -80.969</td> <td> 0.000</td> <td>   -0.072</td> <td>   -0.069</td>\n",
       "</tr>\n",
       "<tr>\n",
       "  <th>PRES</th>       <td>   -0.0167</td> <td>    0.001</td> <td>  -17.911</td> <td> 0.000</td> <td>   -0.019</td> <td>   -0.015</td>\n",
       "</tr>\n",
       "<tr>\n",
       "  <th>Iws</th>        <td>   -0.0023</td> <td> 9.99e-05</td> <td>  -23.297</td> <td> 0.000</td> <td>   -0.003</td> <td>   -0.002</td>\n",
       "</tr>\n",
       "<tr>\n",
       "  <th>Is</th>         <td>   -0.0241</td> <td>    0.006</td> <td>   -4.015</td> <td> 0.000</td> <td>   -0.036</td> <td>   -0.012</td>\n",
       "</tr>\n",
       "<tr>\n",
       "  <th>Ir</th>         <td>   -0.0702</td> <td>    0.003</td> <td>  -20.945</td> <td> 0.000</td> <td>   -0.077</td> <td>   -0.064</td>\n",
       "</tr>\n",
       "</table><br/><br/>The condition number is large, 3.04e+10. This might indicate that there are<br/>strong multicollinearity or other numerical problems."
      ],
      "text/plain": [
       "<class 'statsmodels.iolib.summary.Summary'>\n",
       "\"\"\"\n",
       "                         QuantReg Regression Results                          \n",
       "==============================================================================\n",
       "Dep. Variable:                   pm25   Pseudo R-squared:               0.2976\n",
       "Model:                       QuantReg   Bandwidth:                     0.09472\n",
       "Method:                 Least Squares   Sparsity:                        2.366\n",
       "Date:                Wed, 23 Jan 2019   No. Observations:                41757\n",
       "Time:                        10:12:45   Df Residuals:                    41742\n",
       "                                        Df Model:                           14\n",
       "==============================================================================\n",
       "                 coef    std err          t      P>|t|      [0.025      0.975]\n",
       "------------------------------------------------------------------------------\n",
       "Intercept   6.037e-06   2.55e-07     23.672      0.000    5.54e-06    6.54e-06\n",
       "cbwd[T.NW]    -0.0808      0.018     -4.494      0.000      -0.116      -0.046\n",
       "cbwd[T.SE]     0.7136      0.018     40.422      0.000       0.679       0.748\n",
       "cbwd[T.cv]     0.5514      0.018     29.943      0.000       0.515       0.587\n",
       "No         -4.026e-06   3.97e-07    -10.139      0.000    -4.8e-06   -3.25e-06\n",
       "year           0.0105      0.000     22.179      0.000       0.010       0.011\n",
       "month         -0.0181      0.002    -12.029      0.000      -0.021      -0.015\n",
       "day            0.0060      0.001     10.628      0.000       0.005       0.007\n",
       "hour           0.0113      0.001     13.863      0.000       0.010       0.013\n",
       "DEWP           0.0549      0.001     79.270      0.000       0.054       0.056\n",
       "TEMP          -0.0705      0.001    -80.969      0.000      -0.072      -0.069\n",
       "PRES          -0.0167      0.001    -17.911      0.000      -0.019      -0.015\n",
       "Iws           -0.0023   9.99e-05    -23.297      0.000      -0.003      -0.002\n",
       "Is            -0.0241      0.006     -4.015      0.000      -0.036      -0.012\n",
       "Ir            -0.0702      0.003    -20.945      0.000      -0.077      -0.064\n",
       "==============================================================================\n",
       "\n",
       "The condition number is large, 3.04e+10. This might indicate that there are\n",
       "strong multicollinearity or other numerical problems.\n",
       "\"\"\""
      ]
     },
     "execution_count": 17,
     "metadata": {},
     "output_type": "execute_result"
    }
   ],
   "source": [
    "# Okay, this data seems *extremely* skewed\n",
    "# Let's trying logging\n",
    "import numpy as np\n",
    "\n",
    "df['pm25'] = np.log(1 + df['pm25'])\n",
    "quant_mod = smf.quantreg(quant_formula, data=df)\n",
    "quant_reg = quant_mod.fit(q=.25)\n",
    "quant_reg.summary()  # \"summary\" is another very R-thing"
   ]
  },
  {
   "cell_type": "markdown",
   "metadata": {
    "colab_type": "text",
    "id": "8kXcxnNBgizX"
   },
   "source": [
    "Overall - in this case, quantile regression is not *necessarily* superior to linear regression. But it does give us extra flexibility and another thing to tune - what the center of what we're actually fitting in the dependent variable.\n",
    "\n",
    "The basic case of `q=0.5` (the median) minimizes the absolute value of residuals, while OLS minimizes the squared value. By selecting `q=0.25`, we're targeting a lower quantile and are effectively saying that we only want to over-estimate at most 25% of the time - we're being *risk averse*.\n",
    "\n",
    "Depending on the data you're looking at, and the cost of making a false positive versus a false negative, this sort of flexibility can be extremely useful.\n",
    "\n",
    "Live - let's consider another dataset! Specifically, \"SkillCraft\" (data on competitive StarCraft players): http://archive.ics.uci.edu/ml/datasets/SkillCraft1+Master+Table+Dataset"
   ]
  },
  {
   "cell_type": "code",
   "execution_count": 0,
   "metadata": {
    "colab": {},
    "colab_type": "code",
    "id": "ofvwSAZUhWDw"
   },
   "outputs": [],
   "source": [
    "# TODO Live!\n",
    "# Hint - we may only care about the *top* quantiles here\n",
    "# Another hint - there are missing values, but Pandas won't see them right away"
   ]
  },
  {
   "cell_type": "code",
   "execution_count": 19,
   "metadata": {},
   "outputs": [],
   "source": [
    "import pandas as pd\n",
    "import numpy as np\n",
    "from sklearn.linear_model import LinearRegression"
   ]
  },
  {
   "cell_type": "code",
   "execution_count": 33,
   "metadata": {},
   "outputs": [],
   "source": [
    "df = pd.read_csv('http://archive.ics.uci.edu/ml/machine-learning-databases/'\n",
    "                 '00272/SkillCraft1_Dataset.csv')\n",
    "df = df.replace('?', np.nan)"
   ]
  },
  {
   "cell_type": "code",
   "execution_count": 34,
   "metadata": {},
   "outputs": [
    {
     "name": "stdout",
     "output_type": "stream",
     "text": [
      "<class 'pandas.core.frame.DataFrame'>\n",
      "RangeIndex: 3395 entries, 0 to 3394\n",
      "Data columns (total 20 columns):\n",
      "GameID                  3395 non-null int64\n",
      "LeagueIndex             3395 non-null int64\n",
      "Age                     3340 non-null object\n",
      "HoursPerWeek            3339 non-null object\n",
      "TotalHours              3338 non-null object\n",
      "APM                     3395 non-null float64\n",
      "SelectByHotkeys         3395 non-null float64\n",
      "AssignToHotkeys         3395 non-null float64\n",
      "UniqueHotkeys           3395 non-null int64\n",
      "MinimapAttacks          3395 non-null float64\n",
      "MinimapRightClicks      3395 non-null float64\n",
      "NumberOfPACs            3395 non-null float64\n",
      "GapBetweenPACs          3395 non-null float64\n",
      "ActionLatency           3395 non-null float64\n",
      "ActionsInPAC            3395 non-null float64\n",
      "TotalMapExplored        3395 non-null int64\n",
      "WorkersMade             3395 non-null float64\n",
      "UniqueUnitsMade         3395 non-null int64\n",
      "ComplexUnitsMade        3395 non-null float64\n",
      "ComplexAbilitiesUsed    3395 non-null float64\n",
      "dtypes: float64(12), int64(5), object(3)\n",
      "memory usage: 530.5+ KB\n"
     ]
    }
   ],
   "source": [
    "df.info()"
   ]
  },
  {
   "cell_type": "code",
   "execution_count": 35,
   "metadata": {},
   "outputs": [
    {
     "data": {
      "text/plain": [
       "GameID                   0\n",
       "LeagueIndex              0\n",
       "Age                     55\n",
       "HoursPerWeek            56\n",
       "TotalHours              57\n",
       "APM                      0\n",
       "SelectByHotkeys          0\n",
       "AssignToHotkeys          0\n",
       "UniqueHotkeys            0\n",
       "MinimapAttacks           0\n",
       "MinimapRightClicks       0\n",
       "NumberOfPACs             0\n",
       "GapBetweenPACs           0\n",
       "ActionLatency            0\n",
       "ActionsInPAC             0\n",
       "TotalMapExplored         0\n",
       "WorkersMade              0\n",
       "UniqueUnitsMade          0\n",
       "ComplexUnitsMade         0\n",
       "ComplexAbilitiesUsed     0\n",
       "dtype: int64"
      ]
     },
     "execution_count": 35,
     "metadata": {},
     "output_type": "execute_result"
    }
   ],
   "source": [
    "df.isna().sum()"
   ]
  },
  {
   "cell_type": "code",
   "execution_count": 36,
   "metadata": {},
   "outputs": [
    {
     "data": {
      "text/plain": [
       "GameID                   0\n",
       "LeagueIndex              0\n",
       "Age                     55\n",
       "HoursPerWeek            56\n",
       "TotalHours              57\n",
       "APM                      0\n",
       "SelectByHotkeys          0\n",
       "AssignToHotkeys          0\n",
       "UniqueHotkeys            0\n",
       "MinimapAttacks           0\n",
       "MinimapRightClicks       0\n",
       "NumberOfPACs             0\n",
       "GapBetweenPACs           0\n",
       "ActionLatency            0\n",
       "ActionsInPAC             0\n",
       "TotalMapExplored         0\n",
       "WorkersMade              0\n",
       "UniqueUnitsMade          0\n",
       "ComplexUnitsMade         0\n",
       "ComplexAbilitiesUsed     0\n",
       "dtype: int64"
      ]
     },
     "execution_count": 36,
     "metadata": {},
     "output_type": "execute_result"
    }
   ],
   "source": [
    "hasna = ['Age', 'HoursPerWeek', 'TotalHours']\n",
    "\n",
    "for feat in hasna: \n",
    "    df[feat] = pd.to_numeric(df[feat])\n",
    "df.isna().sum()"
   ]
  },
  {
   "cell_type": "code",
   "execution_count": 37,
   "metadata": {},
   "outputs": [
    {
     "data": {
      "text/plain": [
       "0.9727919594327304"
      ]
     },
     "execution_count": 37,
     "metadata": {},
     "output_type": "execute_result"
    }
   ],
   "source": [
    "from sklearn.linear_model import LinearRegression\n",
    "\n",
    "# Let's drop NAs and limit to numeric values\n",
    "df2 = df._get_numeric_data().dropna()\n",
    "X = df2.drop('APM', axis='columns')\n",
    "y = df2['APM']\n",
    "\n",
    "linear_reg = LinearRegression().fit(X, y)\n",
    "linear_reg.score(X, y)"
   ]
  },
  {
   "cell_type": "code",
   "execution_count": 38,
   "metadata": {},
   "outputs": [
    {
     "data": {
      "text/plain": [
       "'APM ~ GameID + LeagueIndex + Age + HoursPerWeek + TotalHours + SelectByHotkeys + AssignToHotkeys + UniqueHotkeys + MinimapAttacks + MinimapRightClicks + NumberOfPACs + GapBetweenPACs + ActionLatency + ActionsInPAC + TotalMapExplored + WorkersMade + UniqueUnitsMade + ComplexUnitsMade + ComplexAbilitiesUsed'"
      ]
     },
     "execution_count": 38,
     "metadata": {},
     "output_type": "execute_result"
    }
   ],
   "source": [
    "quant_formula = 'APM ~ ' + ' + '.join(df.drop('APM', axis='columns').columns)\n",
    "quant_formula"
   ]
  },
  {
   "cell_type": "code",
   "execution_count": 39,
   "metadata": {},
   "outputs": [
    {
     "name": "stderr",
     "output_type": "stream",
     "text": [
      "/anaconda3/envs/sandbox/lib/python3.7/site-packages/statsmodels/regression/quantile_regression.py:193: IterationLimitWarning: Maximum number of iterations (1000) reached.\n",
      "  \") reached.\", IterationLimitWarning)\n",
      "/anaconda3/envs/sandbox/lib/python3.7/site-packages/scipy/stats/stats.py:1713: FutureWarning: Using a non-tuple sequence for multidimensional indexing is deprecated; use `arr[tuple(seq)]` instead of `arr[seq]`. In the future this will be interpreted as an array index, `arr[np.array(seq)]`, which will result either in an error or a different result.\n",
      "  return np.add.reduce(sorted[indexer] * weights, axis=axis) / sumval\n"
     ]
    },
    {
     "data": {
      "text/html": [
       "<table class=\"simpletable\">\n",
       "<caption>QuantReg Regression Results</caption>\n",
       "<tr>\n",
       "  <th>Dep. Variable:</th>        <td>APM</td>       <th>  Pseudo R-squared:  </th> <td>  0.4079</td>\n",
       "</tr>\n",
       "<tr>\n",
       "  <th>Model:</th>             <td>QuantReg</td>     <th>  Bandwidth:         </th> <td>   6.896</td>\n",
       "</tr>\n",
       "<tr>\n",
       "  <th>Method:</th>          <td>Least Squares</td>  <th>  Sparsity:          </th> <td>   179.2</td>\n",
       "</tr>\n",
       "<tr>\n",
       "  <th>Date:</th>          <td>Wed, 23 Jan 2019</td> <th>  No. Observations:  </th>  <td>  3338</td> \n",
       "</tr>\n",
       "<tr>\n",
       "  <th>Time:</th>              <td>10:32:31</td>     <th>  Df Residuals:      </th>  <td>  3318</td> \n",
       "</tr>\n",
       "<tr>\n",
       "  <th> </th>                      <td> </td>        <th>  Df Model:          </th>  <td>    19</td> \n",
       "</tr>\n",
       "</table>\n",
       "<table class=\"simpletable\">\n",
       "<tr>\n",
       "            <td></td>              <th>coef</th>     <th>std err</th>      <th>t</th>      <th>P>|t|</th>  <th>[0.025</th>    <th>0.975]</th>  \n",
       "</tr>\n",
       "<tr>\n",
       "  <th>Intercept</th>            <td>    1.0573</td> <td>   22.664</td> <td>    0.047</td> <td> 0.963</td> <td>  -43.380</td> <td>   45.495</td>\n",
       "</tr>\n",
       "<tr>\n",
       "  <th>GameID</th>               <td>    0.0016</td> <td>    0.000</td> <td>    4.326</td> <td> 0.000</td> <td>    0.001</td> <td>    0.002</td>\n",
       "</tr>\n",
       "<tr>\n",
       "  <th>LeagueIndex</th>          <td>   13.8780</td> <td>    1.105</td> <td>   12.561</td> <td> 0.000</td> <td>   11.712</td> <td>   16.044</td>\n",
       "</tr>\n",
       "<tr>\n",
       "  <th>Age</th>                  <td>    0.5384</td> <td>    0.243</td> <td>    2.219</td> <td> 0.027</td> <td>    0.063</td> <td>    1.014</td>\n",
       "</tr>\n",
       "<tr>\n",
       "  <th>HoursPerWeek</th>         <td>    0.6746</td> <td>    0.072</td> <td>    9.373</td> <td> 0.000</td> <td>    0.533</td> <td>    0.816</td>\n",
       "</tr>\n",
       "<tr>\n",
       "  <th>TotalHours</th>           <td> 7.872e-05</td> <td> 2.16e-05</td> <td>    3.653</td> <td> 0.000</td> <td> 3.65e-05</td> <td>    0.000</td>\n",
       "</tr>\n",
       "<tr>\n",
       "  <th>SelectByHotkeys</th>      <td>    0.0287</td> <td>  564.861</td> <td> 5.08e-05</td> <td> 1.000</td> <td>-1107.482</td> <td> 1107.539</td>\n",
       "</tr>\n",
       "<tr>\n",
       "  <th>AssignToHotkeys</th>      <td>    0.0012</td> <td>  154.373</td> <td> 7.77e-06</td> <td> 1.000</td> <td> -302.676</td> <td>  302.678</td>\n",
       "</tr>\n",
       "<tr>\n",
       "  <th>UniqueHotkeys</th>        <td>    3.5670</td> <td>    0.460</td> <td>    7.757</td> <td> 0.000</td> <td>    2.665</td> <td>    4.469</td>\n",
       "</tr>\n",
       "<tr>\n",
       "  <th>MinimapAttacks</th>       <td> 7.441e-05</td> <td>  227.368</td> <td> 3.27e-07</td> <td> 1.000</td> <td> -445.795</td> <td>  445.795</td>\n",
       "</tr>\n",
       "<tr>\n",
       "  <th>MinimapRightClicks</th>   <td>    0.0018</td> <td> 2858.214</td> <td> 6.37e-07</td> <td> 1.000</td> <td>-5604.039</td> <td> 5604.042</td>\n",
       "</tr>\n",
       "<tr>\n",
       "  <th>NumberOfPACs</th>         <td>    0.0049</td> <td> 3495.668</td> <td> 1.39e-06</td> <td> 1.000</td> <td>-6853.879</td> <td> 6853.888</td>\n",
       "</tr>\n",
       "<tr>\n",
       "  <th>GapBetweenPACs</th>       <td>    0.2416</td> <td>    0.080</td> <td>    3.024</td> <td> 0.003</td> <td>    0.085</td> <td>    0.398</td>\n",
       "</tr>\n",
       "<tr>\n",
       "  <th>ActionLatency</th>        <td>   -0.8419</td> <td>    0.161</td> <td>   -5.239</td> <td> 0.000</td> <td>   -1.157</td> <td>   -0.527</td>\n",
       "</tr>\n",
       "<tr>\n",
       "  <th>ActionsInPAC</th>         <td>   15.1559</td> <td>    0.940</td> <td>   16.127</td> <td> 0.000</td> <td>   13.313</td> <td>   16.999</td>\n",
       "</tr>\n",
       "<tr>\n",
       "  <th>TotalMapExplored</th>     <td>    0.8054</td> <td>    0.162</td> <td>    4.961</td> <td> 0.000</td> <td>    0.487</td> <td>    1.124</td>\n",
       "</tr>\n",
       "<tr>\n",
       "  <th>WorkersMade</th>          <td>    0.0028</td> <td> 1993.539</td> <td> 1.41e-06</td> <td> 1.000</td> <td>-3908.688</td> <td> 3908.693</td>\n",
       "</tr>\n",
       "<tr>\n",
       "  <th>UniqueUnitsMade</th>      <td>   -1.3554</td> <td>    0.633</td> <td>   -2.140</td> <td> 0.032</td> <td>   -2.597</td> <td>   -0.114</td>\n",
       "</tr>\n",
       "<tr>\n",
       "  <th>ComplexUnitsMade</th>     <td> -7.65e-06</td> <td>   71.809</td> <td>-1.07e-07</td> <td> 1.000</td> <td> -140.795</td> <td>  140.795</td>\n",
       "</tr>\n",
       "<tr>\n",
       "  <th>ComplexAbilitiesUsed</th> <td>    0.0001</td> <td>   61.157</td> <td>  2.2e-06</td> <td> 1.000</td> <td> -119.909</td> <td>  119.909</td>\n",
       "</tr>\n",
       "</table><br/><br/>The condition number is large, 2.16e+08. This might indicate that there are<br/>strong multicollinearity or other numerical problems."
      ],
      "text/plain": [
       "<class 'statsmodels.iolib.summary.Summary'>\n",
       "\"\"\"\n",
       "                         QuantReg Regression Results                          \n",
       "==============================================================================\n",
       "Dep. Variable:                    APM   Pseudo R-squared:               0.4079\n",
       "Model:                       QuantReg   Bandwidth:                       6.896\n",
       "Method:                 Least Squares   Sparsity:                        179.2\n",
       "Date:                Wed, 23 Jan 2019   No. Observations:                 3338\n",
       "Time:                        10:32:31   Df Residuals:                     3318\n",
       "                                        Df Model:                           19\n",
       "========================================================================================\n",
       "                           coef    std err          t      P>|t|      [0.025      0.975]\n",
       "----------------------------------------------------------------------------------------\n",
       "Intercept                1.0573     22.664      0.047      0.963     -43.380      45.495\n",
       "GameID                   0.0016      0.000      4.326      0.000       0.001       0.002\n",
       "LeagueIndex             13.8780      1.105     12.561      0.000      11.712      16.044\n",
       "Age                      0.5384      0.243      2.219      0.027       0.063       1.014\n",
       "HoursPerWeek             0.6746      0.072      9.373      0.000       0.533       0.816\n",
       "TotalHours            7.872e-05   2.16e-05      3.653      0.000    3.65e-05       0.000\n",
       "SelectByHotkeys          0.0287    564.861   5.08e-05      1.000   -1107.482    1107.539\n",
       "AssignToHotkeys          0.0012    154.373   7.77e-06      1.000    -302.676     302.678\n",
       "UniqueHotkeys            3.5670      0.460      7.757      0.000       2.665       4.469\n",
       "MinimapAttacks        7.441e-05    227.368   3.27e-07      1.000    -445.795     445.795\n",
       "MinimapRightClicks       0.0018   2858.214   6.37e-07      1.000   -5604.039    5604.042\n",
       "NumberOfPACs             0.0049   3495.668   1.39e-06      1.000   -6853.879    6853.888\n",
       "GapBetweenPACs           0.2416      0.080      3.024      0.003       0.085       0.398\n",
       "ActionLatency           -0.8419      0.161     -5.239      0.000      -1.157      -0.527\n",
       "ActionsInPAC            15.1559      0.940     16.127      0.000      13.313      16.999\n",
       "TotalMapExplored         0.8054      0.162      4.961      0.000       0.487       1.124\n",
       "WorkersMade              0.0028   1993.539   1.41e-06      1.000   -3908.688    3908.693\n",
       "UniqueUnitsMade         -1.3554      0.633     -2.140      0.032      -2.597      -0.114\n",
       "ComplexUnitsMade      -7.65e-06     71.809  -1.07e-07      1.000    -140.795     140.795\n",
       "ComplexAbilitiesUsed     0.0001     61.157    2.2e-06      1.000    -119.909     119.909\n",
       "========================================================================================\n",
       "\n",
       "The condition number is large, 2.16e+08. This might indicate that there are\n",
       "strong multicollinearity or other numerical problems.\n",
       "\"\"\""
      ]
     },
     "execution_count": 39,
     "metadata": {},
     "output_type": "execute_result"
    }
   ],
   "source": [
    "quant_mod = smf.quantreg(quant_formula, data=df)\n",
    "quant_reg = quant_mod.fit(q=0.9)\n",
    "quant_reg.summary()"
   ]
  },
  {
   "cell_type": "markdown",
   "metadata": {
    "colab_type": "text",
    "id": "o2BADEQUirXa"
   },
   "source": [
    "## Assignment - birth weight data\n",
    "\n",
    "Birth weight is a situation where, while the data itself is actually fairly normal and symmetric, our main goal is actually *not* to model mean weight (via OLS), but rather to identify mothers at risk of having children below a certain \"at-risk\" threshold weight.\n",
    "\n",
    "Quantile regression gives us just the tool we need. For the data we are using, see: http://people.reed.edu/~jones/141/BirthWgt.html\n",
    "\n",
    "    bwt: baby's weight in ounces at birth\n",
    "    gestation: duration of pregnancy in days\n",
    "    parity: parity indicator (first born = 1, later birth = 0)\n",
    "    age: mother's age in years\n",
    "    height: mother's height in inches\n",
    "    weight: mother's weight in pounds (during pregnancy)\n",
    "    smoke: indicator for whether mother smokes (1=yes, 0=no) \n",
    "    \n",
    "Use this data and `statsmodels` to fit a quantile regression, predicting `bwt` (birth weight) as a function of the other covariates. First, identify an appropriate `q` (quantile) to target a cutoff of 90 ounces - babies above that birth weight are generally healthy/safe, babies below are at-risk.\n",
    "\n",
    "Then, fit and iterate your model. Be creative! You may want to engineer features. Hint - mother's age likely is not simply linear in its impact, and the other features may interact as well.\n",
    "\n",
    "At the end, create at least *2* tables and *1* visualization to summarize your best model. Then (in writing) answer the following questions:\n",
    "\n",
    "- What characteristics of a mother indicate the highest likelihood of an at-risk (low weight) baby?\n",
    "- What can expectant mothers be told to help mitigate this risk?\n",
    "\n",
    "Note that second question is not exactly a data science question - and that's okay! You're not expected to be a medical expert, but it is a good exercise to do a little bit of digging into a particular domain and offer informal but informed opinions."
   ]
  },
  {
   "cell_type": "code",
   "execution_count": 0,
   "metadata": {
    "colab": {
     "base_uri": "https://localhost:8080/",
     "height": 206
    },
    "colab_type": "code",
    "id": "HUWKv16FjZsY",
    "outputId": "11f1ecab-4058-4e48-ac0f-cd7cf488a2f7"
   },
   "outputs": [
    {
     "data": {
      "text/html": [
       "<div>\n",
       "<style scoped>\n",
       "    .dataframe tbody tr th:only-of-type {\n",
       "        vertical-align: middle;\n",
       "    }\n",
       "\n",
       "    .dataframe tbody tr th {\n",
       "        vertical-align: top;\n",
       "    }\n",
       "\n",
       "    .dataframe thead th {\n",
       "        text-align: right;\n",
       "    }\n",
       "</style>\n",
       "<table border=\"1\" class=\"dataframe\">\n",
       "  <thead>\n",
       "    <tr style=\"text-align: right;\">\n",
       "      <th></th>\n",
       "      <th>bwt</th>\n",
       "      <th>gestation</th>\n",
       "      <th>parity</th>\n",
       "      <th>age</th>\n",
       "      <th>height</th>\n",
       "      <th>weight</th>\n",
       "      <th>smoke</th>\n",
       "    </tr>\n",
       "  </thead>\n",
       "  <tbody>\n",
       "    <tr>\n",
       "      <th>0</th>\n",
       "      <td>120</td>\n",
       "      <td>284</td>\n",
       "      <td>0</td>\n",
       "      <td>27</td>\n",
       "      <td>62</td>\n",
       "      <td>100</td>\n",
       "      <td>0</td>\n",
       "    </tr>\n",
       "    <tr>\n",
       "      <th>1</th>\n",
       "      <td>113</td>\n",
       "      <td>282</td>\n",
       "      <td>0</td>\n",
       "      <td>33</td>\n",
       "      <td>64</td>\n",
       "      <td>135</td>\n",
       "      <td>0</td>\n",
       "    </tr>\n",
       "    <tr>\n",
       "      <th>2</th>\n",
       "      <td>128</td>\n",
       "      <td>279</td>\n",
       "      <td>0</td>\n",
       "      <td>28</td>\n",
       "      <td>64</td>\n",
       "      <td>115</td>\n",
       "      <td>1</td>\n",
       "    </tr>\n",
       "    <tr>\n",
       "      <th>3</th>\n",
       "      <td>108</td>\n",
       "      <td>282</td>\n",
       "      <td>0</td>\n",
       "      <td>23</td>\n",
       "      <td>67</td>\n",
       "      <td>125</td>\n",
       "      <td>1</td>\n",
       "    </tr>\n",
       "    <tr>\n",
       "      <th>4</th>\n",
       "      <td>136</td>\n",
       "      <td>286</td>\n",
       "      <td>0</td>\n",
       "      <td>25</td>\n",
       "      <td>62</td>\n",
       "      <td>93</td>\n",
       "      <td>0</td>\n",
       "    </tr>\n",
       "  </tbody>\n",
       "</table>\n",
       "</div>"
      ],
      "text/plain": [
       "   bwt  gestation  parity  age  height  weight  smoke\n",
       "0  120        284       0   27      62     100      0\n",
       "1  113        282       0   33      64     135      0\n",
       "2  128        279       0   28      64     115      1\n",
       "3  108        282       0   23      67     125      1\n",
       "4  136        286       0   25      62      93      0"
      ]
     },
     "execution_count": 32,
     "metadata": {
      "tags": []
     },
     "output_type": "execute_result"
    }
   ],
   "source": [
    "import pandas as pd\n",
    "bwt_df = pd.read_csv('http://people.reed.edu/~jones/141/Bwt.dat')\n",
    "bwt_df.head()"
   ]
  },
  {
   "cell_type": "code",
   "execution_count": 0,
   "metadata": {
    "colab": {
     "base_uri": "https://localhost:8080/",
     "height": 300
    },
    "colab_type": "code",
    "id": "dy5FkUZpkJT_",
    "outputId": "d4f46328-8e25-4fa5-e5b5-6ffad654c65c"
   },
   "outputs": [
    {
     "data": {
      "text/html": [
       "<div>\n",
       "<style scoped>\n",
       "    .dataframe tbody tr th:only-of-type {\n",
       "        vertical-align: middle;\n",
       "    }\n",
       "\n",
       "    .dataframe tbody tr th {\n",
       "        vertical-align: top;\n",
       "    }\n",
       "\n",
       "    .dataframe thead th {\n",
       "        text-align: right;\n",
       "    }\n",
       "</style>\n",
       "<table border=\"1\" class=\"dataframe\">\n",
       "  <thead>\n",
       "    <tr style=\"text-align: right;\">\n",
       "      <th></th>\n",
       "      <th>bwt</th>\n",
       "      <th>gestation</th>\n",
       "      <th>parity</th>\n",
       "      <th>age</th>\n",
       "      <th>height</th>\n",
       "      <th>weight</th>\n",
       "      <th>smoke</th>\n",
       "    </tr>\n",
       "  </thead>\n",
       "  <tbody>\n",
       "    <tr>\n",
       "      <th>count</th>\n",
       "      <td>1174.000000</td>\n",
       "      <td>1174.000000</td>\n",
       "      <td>1174.000000</td>\n",
       "      <td>1174.000000</td>\n",
       "      <td>1174.000000</td>\n",
       "      <td>1174.000000</td>\n",
       "      <td>1174.000000</td>\n",
       "    </tr>\n",
       "    <tr>\n",
       "      <th>mean</th>\n",
       "      <td>119.462521</td>\n",
       "      <td>279.101363</td>\n",
       "      <td>0.262351</td>\n",
       "      <td>27.228279</td>\n",
       "      <td>64.049404</td>\n",
       "      <td>128.478705</td>\n",
       "      <td>0.390971</td>\n",
       "    </tr>\n",
       "    <tr>\n",
       "      <th>std</th>\n",
       "      <td>18.328671</td>\n",
       "      <td>16.010305</td>\n",
       "      <td>0.440100</td>\n",
       "      <td>5.817839</td>\n",
       "      <td>2.526102</td>\n",
       "      <td>20.734282</td>\n",
       "      <td>0.488176</td>\n",
       "    </tr>\n",
       "    <tr>\n",
       "      <th>min</th>\n",
       "      <td>55.000000</td>\n",
       "      <td>148.000000</td>\n",
       "      <td>0.000000</td>\n",
       "      <td>15.000000</td>\n",
       "      <td>53.000000</td>\n",
       "      <td>87.000000</td>\n",
       "      <td>0.000000</td>\n",
       "    </tr>\n",
       "    <tr>\n",
       "      <th>25%</th>\n",
       "      <td>108.000000</td>\n",
       "      <td>272.000000</td>\n",
       "      <td>0.000000</td>\n",
       "      <td>23.000000</td>\n",
       "      <td>62.000000</td>\n",
       "      <td>114.250000</td>\n",
       "      <td>0.000000</td>\n",
       "    </tr>\n",
       "    <tr>\n",
       "      <th>50%</th>\n",
       "      <td>120.000000</td>\n",
       "      <td>280.000000</td>\n",
       "      <td>0.000000</td>\n",
       "      <td>26.000000</td>\n",
       "      <td>64.000000</td>\n",
       "      <td>125.000000</td>\n",
       "      <td>0.000000</td>\n",
       "    </tr>\n",
       "    <tr>\n",
       "      <th>75%</th>\n",
       "      <td>131.000000</td>\n",
       "      <td>288.000000</td>\n",
       "      <td>1.000000</td>\n",
       "      <td>31.000000</td>\n",
       "      <td>66.000000</td>\n",
       "      <td>139.000000</td>\n",
       "      <td>1.000000</td>\n",
       "    </tr>\n",
       "    <tr>\n",
       "      <th>max</th>\n",
       "      <td>176.000000</td>\n",
       "      <td>353.000000</td>\n",
       "      <td>1.000000</td>\n",
       "      <td>45.000000</td>\n",
       "      <td>72.000000</td>\n",
       "      <td>250.000000</td>\n",
       "      <td>1.000000</td>\n",
       "    </tr>\n",
       "  </tbody>\n",
       "</table>\n",
       "</div>"
      ],
      "text/plain": [
       "               bwt    gestation       parity          age       height  \\\n",
       "count  1174.000000  1174.000000  1174.000000  1174.000000  1174.000000   \n",
       "mean    119.462521   279.101363     0.262351    27.228279    64.049404   \n",
       "std      18.328671    16.010305     0.440100     5.817839     2.526102   \n",
       "min      55.000000   148.000000     0.000000    15.000000    53.000000   \n",
       "25%     108.000000   272.000000     0.000000    23.000000    62.000000   \n",
       "50%     120.000000   280.000000     0.000000    26.000000    64.000000   \n",
       "75%     131.000000   288.000000     1.000000    31.000000    66.000000   \n",
       "max     176.000000   353.000000     1.000000    45.000000    72.000000   \n",
       "\n",
       "            weight        smoke  \n",
       "count  1174.000000  1174.000000  \n",
       "mean    128.478705     0.390971  \n",
       "std      20.734282     0.488176  \n",
       "min      87.000000     0.000000  \n",
       "25%     114.250000     0.000000  \n",
       "50%     125.000000     0.000000  \n",
       "75%     139.000000     1.000000  \n",
       "max     250.000000     1.000000  "
      ]
     },
     "execution_count": 33,
     "metadata": {
      "tags": []
     },
     "output_type": "execute_result"
    }
   ],
   "source": [
    "bwt_df.describe()"
   ]
  },
  {
   "cell_type": "code",
   "execution_count": 0,
   "metadata": {
    "colab": {},
    "colab_type": "code",
    "id": "Ez8qPLojjlFf"
   },
   "outputs": [],
   "source": [
    "# TODO - your work here! Also, add text cells for written questions."
   ]
  },
  {
   "cell_type": "markdown",
   "metadata": {
    "colab_type": "text",
    "id": "XY9JGAnJisdB"
   },
   "source": [
    "## Resources and stretch goals"
   ]
  },
  {
   "cell_type": "markdown",
   "metadata": {
    "colab_type": "text",
    "id": "inFWXSpqmND5"
   },
   "source": [
    "Resources:\n",
    "- [statsmodels QuantReg example](http://www.statsmodels.org/dev/examples/notebooks/generated/quantile_regression.html)\n",
    "- [How Shopify used Quantile Regression in modeling risk](https://medium.com/data-shopify/how-shopify-capital-uses-quantile-regression-to-help-merchants-succeed-10ee1b36b17d)\n",
    "\n",
    "Stretch goals:\n",
    "- Find a dataset where you think quantile regression may be appropriate, and try both it and linear regression - compare/contrast their strengths/weaknesses, and write a summary for which you think is better for the situation and why\n",
    "- Check out [deep quantile regression](https://www.kdnuggets.com/2018/07/deep-quantile-regression.html), an approach that uses a custom quantile loss function and Keras to train a quantile model"
   ]
  }
 ],
 "metadata": {
  "colab": {
   "name": "LS_DS_233_Quantile_Regression.ipynb",
   "provenance": [],
   "version": "0.3.2"
  },
  "kernelspec": {
   "display_name": "Python 3",
   "language": "python",
   "name": "python3"
  },
  "language_info": {
   "codemirror_mode": {
    "name": "ipython",
    "version": 3
   },
   "file_extension": ".py",
   "mimetype": "text/x-python",
   "name": "python",
   "nbconvert_exporter": "python",
   "pygments_lexer": "ipython3",
   "version": "3.7.1"
  }
 },
 "nbformat": 4,
 "nbformat_minor": 1
}
