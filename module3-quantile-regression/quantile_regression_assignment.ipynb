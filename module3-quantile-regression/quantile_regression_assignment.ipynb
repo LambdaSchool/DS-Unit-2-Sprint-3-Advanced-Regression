{
 "cells": [
  {
   "cell_type": "markdown",
   "metadata": {},
   "source": [
    "## Assignment - birth weight data\n",
    "\n",
    "Birth weight is a situation where, while the data itself is actually fairly normal and symmetric, our main goal is actually *not* to model mean weight (via OLS), but rather to identify mothers at risk of having children below a certain \"at-risk\" threshold weight.\n",
    "\n",
    "Quantile regression gives us just the tool we need. For the data we are using, see: http://people.reed.edu/~jones/141/BirthWgt.html\n",
    "\n",
    "    bwt: baby's weight in ounces at birth\n",
    "    gestation: duration of pregnancy in days\n",
    "    parity: parity indicator (first born = 1, later birth = 0)\n",
    "    age: mother's age in years\n",
    "    height: mother's height in inches\n",
    "    weight: mother's weight in pounds (during pregnancy)\n",
    "    smoke: indicator for whether mother smokes (1=yes, 0=no) \n",
    "    \n",
    "Use this data and `statsmodels` to fit a quantile regression, predicting `bwt` (birth weight) as a function of the other covariates. First, identify an appropriate `q` (quantile) to target a cutoff of 90 ounces - babies above that birth weight are generally healthy/safe, babies below are at-risk.\n",
    "\n",
    "Then, fit and iterate your model. Be creative! You may want to engineer features. Hint - mother's age likely is not simply linear in its impact, and the other features may interact as well.\n",
    "\n",
    "At the end, create at least *2* tables and *1* visualization to summarize your best model. Then (in writing) answer the following questions:\n",
    "\n",
    "- What characteristics of a mother indicate the highest likelihood of an at-risk (low weight) baby?\n",
    "- What can expectant mothers be told to help mitigate this risk?\n",
    "\n",
    "Note that second question is not exactly a data science question - and that's okay! You're not expected to be a medical expert, but it is a good exercise to do a little bit of digging into a particular domain and offer informal but informed opinions."
   ]
  },
  {
   "cell_type": "code",
   "execution_count": 2,
   "metadata": {},
   "outputs": [],
   "source": [
    "import statsmodels.formula.api as smf\n",
    "import pandas as pd\n",
    "import matplotlib.pyplot as plt\n",
    "import numpy as np\n"
   ]
  },
  {
   "cell_type": "code",
   "execution_count": 3,
   "metadata": {},
   "outputs": [
    {
     "data": {
      "text/html": [
       "<div>\n",
       "<style scoped>\n",
       "    .dataframe tbody tr th:only-of-type {\n",
       "        vertical-align: middle;\n",
       "    }\n",
       "\n",
       "    .dataframe tbody tr th {\n",
       "        vertical-align: top;\n",
       "    }\n",
       "\n",
       "    .dataframe thead th {\n",
       "        text-align: right;\n",
       "    }\n",
       "</style>\n",
       "<table border=\"1\" class=\"dataframe\">\n",
       "  <thead>\n",
       "    <tr style=\"text-align: right;\">\n",
       "      <th></th>\n",
       "      <th>bwt</th>\n",
       "      <th>gestation</th>\n",
       "      <th>parity</th>\n",
       "      <th>age</th>\n",
       "      <th>height</th>\n",
       "      <th>weight</th>\n",
       "      <th>smoke</th>\n",
       "    </tr>\n",
       "  </thead>\n",
       "  <tbody>\n",
       "    <tr>\n",
       "      <th>0</th>\n",
       "      <td>120</td>\n",
       "      <td>284</td>\n",
       "      <td>0</td>\n",
       "      <td>27</td>\n",
       "      <td>62</td>\n",
       "      <td>100</td>\n",
       "      <td>0</td>\n",
       "    </tr>\n",
       "    <tr>\n",
       "      <th>1</th>\n",
       "      <td>113</td>\n",
       "      <td>282</td>\n",
       "      <td>0</td>\n",
       "      <td>33</td>\n",
       "      <td>64</td>\n",
       "      <td>135</td>\n",
       "      <td>0</td>\n",
       "    </tr>\n",
       "    <tr>\n",
       "      <th>2</th>\n",
       "      <td>128</td>\n",
       "      <td>279</td>\n",
       "      <td>0</td>\n",
       "      <td>28</td>\n",
       "      <td>64</td>\n",
       "      <td>115</td>\n",
       "      <td>1</td>\n",
       "    </tr>\n",
       "    <tr>\n",
       "      <th>3</th>\n",
       "      <td>108</td>\n",
       "      <td>282</td>\n",
       "      <td>0</td>\n",
       "      <td>23</td>\n",
       "      <td>67</td>\n",
       "      <td>125</td>\n",
       "      <td>1</td>\n",
       "    </tr>\n",
       "    <tr>\n",
       "      <th>4</th>\n",
       "      <td>136</td>\n",
       "      <td>286</td>\n",
       "      <td>0</td>\n",
       "      <td>25</td>\n",
       "      <td>62</td>\n",
       "      <td>93</td>\n",
       "      <td>0</td>\n",
       "    </tr>\n",
       "  </tbody>\n",
       "</table>\n",
       "</div>"
      ],
      "text/plain": [
       "   bwt  gestation  parity  age  height  weight  smoke\n",
       "0  120        284       0   27      62     100      0\n",
       "1  113        282       0   33      64     135      0\n",
       "2  128        279       0   28      64     115      1\n",
       "3  108        282       0   23      67     125      1\n",
       "4  136        286       0   25      62      93      0"
      ]
     },
     "execution_count": 3,
     "metadata": {},
     "output_type": "execute_result"
    }
   ],
   "source": [
    "bwt_df = pd.read_csv('http://people.reed.edu/~jones/141/Bwt.dat')\n",
    "bwt_df.head()"
   ]
  },
  {
   "cell_type": "code",
   "execution_count": 4,
   "metadata": {},
   "outputs": [
    {
     "data": {
      "text/html": [
       "<div>\n",
       "<style scoped>\n",
       "    .dataframe tbody tr th:only-of-type {\n",
       "        vertical-align: middle;\n",
       "    }\n",
       "\n",
       "    .dataframe tbody tr th {\n",
       "        vertical-align: top;\n",
       "    }\n",
       "\n",
       "    .dataframe thead th {\n",
       "        text-align: right;\n",
       "    }\n",
       "</style>\n",
       "<table border=\"1\" class=\"dataframe\">\n",
       "  <thead>\n",
       "    <tr style=\"text-align: right;\">\n",
       "      <th></th>\n",
       "      <th>bwt</th>\n",
       "      <th>gestation</th>\n",
       "      <th>parity</th>\n",
       "      <th>age</th>\n",
       "      <th>height</th>\n",
       "      <th>weight</th>\n",
       "      <th>smoke</th>\n",
       "    </tr>\n",
       "  </thead>\n",
       "  <tbody>\n",
       "    <tr>\n",
       "      <th>count</th>\n",
       "      <td>1174.000000</td>\n",
       "      <td>1174.000000</td>\n",
       "      <td>1174.000000</td>\n",
       "      <td>1174.000000</td>\n",
       "      <td>1174.000000</td>\n",
       "      <td>1174.000000</td>\n",
       "      <td>1174.000000</td>\n",
       "    </tr>\n",
       "    <tr>\n",
       "      <th>mean</th>\n",
       "      <td>119.462521</td>\n",
       "      <td>279.101363</td>\n",
       "      <td>0.262351</td>\n",
       "      <td>27.228279</td>\n",
       "      <td>64.049404</td>\n",
       "      <td>128.478705</td>\n",
       "      <td>0.390971</td>\n",
       "    </tr>\n",
       "    <tr>\n",
       "      <th>std</th>\n",
       "      <td>18.328671</td>\n",
       "      <td>16.010305</td>\n",
       "      <td>0.440100</td>\n",
       "      <td>5.817839</td>\n",
       "      <td>2.526102</td>\n",
       "      <td>20.734282</td>\n",
       "      <td>0.488176</td>\n",
       "    </tr>\n",
       "    <tr>\n",
       "      <th>min</th>\n",
       "      <td>55.000000</td>\n",
       "      <td>148.000000</td>\n",
       "      <td>0.000000</td>\n",
       "      <td>15.000000</td>\n",
       "      <td>53.000000</td>\n",
       "      <td>87.000000</td>\n",
       "      <td>0.000000</td>\n",
       "    </tr>\n",
       "    <tr>\n",
       "      <th>25%</th>\n",
       "      <td>108.000000</td>\n",
       "      <td>272.000000</td>\n",
       "      <td>0.000000</td>\n",
       "      <td>23.000000</td>\n",
       "      <td>62.000000</td>\n",
       "      <td>114.250000</td>\n",
       "      <td>0.000000</td>\n",
       "    </tr>\n",
       "    <tr>\n",
       "      <th>50%</th>\n",
       "      <td>120.000000</td>\n",
       "      <td>280.000000</td>\n",
       "      <td>0.000000</td>\n",
       "      <td>26.000000</td>\n",
       "      <td>64.000000</td>\n",
       "      <td>125.000000</td>\n",
       "      <td>0.000000</td>\n",
       "    </tr>\n",
       "    <tr>\n",
       "      <th>75%</th>\n",
       "      <td>131.000000</td>\n",
       "      <td>288.000000</td>\n",
       "      <td>1.000000</td>\n",
       "      <td>31.000000</td>\n",
       "      <td>66.000000</td>\n",
       "      <td>139.000000</td>\n",
       "      <td>1.000000</td>\n",
       "    </tr>\n",
       "    <tr>\n",
       "      <th>max</th>\n",
       "      <td>176.000000</td>\n",
       "      <td>353.000000</td>\n",
       "      <td>1.000000</td>\n",
       "      <td>45.000000</td>\n",
       "      <td>72.000000</td>\n",
       "      <td>250.000000</td>\n",
       "      <td>1.000000</td>\n",
       "    </tr>\n",
       "  </tbody>\n",
       "</table>\n",
       "</div>"
      ],
      "text/plain": [
       "               bwt    gestation       parity          age       height  \\\n",
       "count  1174.000000  1174.000000  1174.000000  1174.000000  1174.000000   \n",
       "mean    119.462521   279.101363     0.262351    27.228279    64.049404   \n",
       "std      18.328671    16.010305     0.440100     5.817839     2.526102   \n",
       "min      55.000000   148.000000     0.000000    15.000000    53.000000   \n",
       "25%     108.000000   272.000000     0.000000    23.000000    62.000000   \n",
       "50%     120.000000   280.000000     0.000000    26.000000    64.000000   \n",
       "75%     131.000000   288.000000     1.000000    31.000000    66.000000   \n",
       "max     176.000000   353.000000     1.000000    45.000000    72.000000   \n",
       "\n",
       "            weight        smoke  \n",
       "count  1174.000000  1174.000000  \n",
       "mean    128.478705     0.390971  \n",
       "std      20.734282     0.488176  \n",
       "min      87.000000     0.000000  \n",
       "25%     114.250000     0.000000  \n",
       "50%     125.000000     0.000000  \n",
       "75%     139.000000     1.000000  \n",
       "max     250.000000     1.000000  "
      ]
     },
     "execution_count": 4,
     "metadata": {},
     "output_type": "execute_result"
    }
   ],
   "source": [
    "bwt_df.describe()\n"
   ]
  },
  {
   "cell_type": "code",
   "execution_count": 5,
   "metadata": {},
   "outputs": [],
   "source": [
    "# TODO - your work here! Also, add text cells for written questions."
   ]
  },
  {
   "cell_type": "code",
   "execution_count": 6,
   "metadata": {},
   "outputs": [
    {
     "data": {
      "text/plain": [
       "0.05792163543441227"
      ]
     },
     "execution_count": 6,
     "metadata": {},
     "output_type": "execute_result"
    }
   ],
   "source": [
    "bwt_df[bwt_df['bwt']<=90]['bwt'].count() / bwt_df[\"bwt\"].count()\n"
   ]
  },
  {
   "cell_type": "code",
   "execution_count": 7,
   "metadata": {},
   "outputs": [],
   "source": [
    "bwt_df[\"weight\"] = np.log(bwt_df[\"weight\"])"
   ]
  },
  {
   "cell_type": "code",
   "execution_count": null,
   "metadata": {},
   "outputs": [],
   "source": []
  },
  {
   "cell_type": "code",
   "execution_count": 8,
   "metadata": {},
   "outputs": [],
   "source": [
    "#useless\n",
    "# bwt_df[\"over41\"] = bwt_df[\"age\"].apply(lambda x : 1 if x >41 else 0 )\n",
    "#bwt_df[\"over31\"] = bwt_df[\"age\"].apply(lambda x : 1 if x >=31 else 0 )\n",
    "# #31 works when 30 does not. problem not understood."
   ]
  },
  {
   "cell_type": "code",
   "execution_count": 9,
   "metadata": {},
   "outputs": [],
   "source": [
    "# # useless\n",
    "# bwt_df[\"under20\"] = bwt_df[\"age\"].apply(lambda x : 1 if x < 20 else 0 )\n",
    "# bwt_df[\"under30\"] = bwt_df[\"age\"].apply(lambda x : 1 if x < 30 else 0 )\n",
    "# bwt_df[\"below_2_std_height\"] = bwt_df['height'].apply(lambda x : 1 if ( \n",
    "#     x -  np.mean(bwt_df[\"height\"]) ) /  np.std(bwt_df[\"height\"]) <=-2 else 0)\n",
    "# bwt_df[\"abs_age_zscore\"] = abs(( bwt_df[\"age\"] -  np.mean(bwt_df[\"age\"]) ) /  np.std(bwt_df[\"age\"]))"
   ]
  },
  {
   "cell_type": "code",
   "execution_count": 10,
   "metadata": {},
   "outputs": [],
   "source": [
    "bwt_df[\"abs_weight_zscore\"] = abs(( bwt_df[\"weight\"] -  np.mean(bwt_df[\"weight\"]) ) /  np.std(bwt_df[\"weight\"]))\n"
   ]
  },
  {
   "cell_type": "code",
   "execution_count": 11,
   "metadata": {},
   "outputs": [],
   "source": [
    "bwt_df[\"age_parity\"] = bwt_df[\"age\"] * bwt_df[\"parity\"]"
   ]
  },
  {
   "cell_type": "code",
   "execution_count": 12,
   "metadata": {},
   "outputs": [
    {
     "data": {
      "text/html": [
       "<table class=\"simpletable\">\n",
       "<caption>QuantReg Regression Results</caption>\n",
       "<tr>\n",
       "  <th>Dep. Variable:</th>        <td>bwt</td>       <th>  Pseudo R-squared:  </th> <td>  0.2091</td>\n",
       "</tr>\n",
       "<tr>\n",
       "  <th>Model:</th>             <td>QuantReg</td>     <th>  Bandwidth:         </th> <td>   6.248</td>\n",
       "</tr>\n",
       "<tr>\n",
       "  <th>Method:</th>          <td>Least Squares</td>  <th>  Sparsity:          </th> <td>   105.8</td>\n",
       "</tr>\n",
       "<tr>\n",
       "  <th>Date:</th>          <td>Thu, 24 Jan 2019</td> <th>  No. Observations:  </th>  <td>  1174</td> \n",
       "</tr>\n",
       "<tr>\n",
       "  <th>Time:</th>              <td>21:38:20</td>     <th>  Df Residuals:      </th>  <td>  1167</td> \n",
       "</tr>\n",
       "<tr>\n",
       "  <th> </th>                      <td> </td>        <th>  Df Model:          </th>  <td>     6</td> \n",
       "</tr>\n",
       "</table>\n",
       "<table class=\"simpletable\">\n",
       "<tr>\n",
       "          <td></td>             <th>coef</th>     <th>std err</th>      <th>t</th>      <th>P>|t|</th>  <th>[0.025</th>    <th>0.975]</th>  \n",
       "</tr>\n",
       "<tr>\n",
       "  <th>Intercept</th>         <td>  -55.3872</td> <td>   26.667</td> <td>   -2.077</td> <td> 0.038</td> <td> -107.708</td> <td>   -3.066</td>\n",
       "</tr>\n",
       "<tr>\n",
       "  <th>gestation</th>         <td>    0.4646</td> <td>    0.077</td> <td>    6.038</td> <td> 0.000</td> <td>    0.314</td> <td>    0.616</td>\n",
       "</tr>\n",
       "<tr>\n",
       "  <th>parity</th>            <td>    8.1224</td> <td>    7.022</td> <td>    1.157</td> <td> 0.248</td> <td>   -5.655</td> <td>   21.900</td>\n",
       "</tr>\n",
       "<tr>\n",
       "  <th>height</th>            <td>    0.4711</td> <td>    0.288</td> <td>    1.637</td> <td> 0.102</td> <td>   -0.094</td> <td>    1.036</td>\n",
       "</tr>\n",
       "<tr>\n",
       "  <th>smoke</th>             <td>   -9.4018</td> <td>    1.542</td> <td>   -6.096</td> <td> 0.000</td> <td>  -12.428</td> <td>   -6.376</td>\n",
       "</tr>\n",
       "<tr>\n",
       "  <th>abs_weight_zscore</th> <td>   -6.0207</td> <td>    1.063</td> <td>   -5.661</td> <td> 0.000</td> <td>   -8.107</td> <td>   -3.934</td>\n",
       "</tr>\n",
       "<tr>\n",
       "  <th>age_parity</th>        <td>   -0.4529</td> <td>    0.289</td> <td>   -1.570</td> <td> 0.117</td> <td>   -1.019</td> <td>    0.113</td>\n",
       "</tr>\n",
       "</table><br/><br/>The condition number is large, 8.67e+03. This might indicate that there are<br/>strong multicollinearity or other numerical problems."
      ],
      "text/plain": [
       "<class 'statsmodels.iolib.summary.Summary'>\n",
       "\"\"\"\n",
       "                         QuantReg Regression Results                          \n",
       "==============================================================================\n",
       "Dep. Variable:                    bwt   Pseudo R-squared:               0.2091\n",
       "Model:                       QuantReg   Bandwidth:                       6.248\n",
       "Method:                 Least Squares   Sparsity:                        105.8\n",
       "Date:                Thu, 24 Jan 2019   No. Observations:                 1174\n",
       "Time:                        21:38:20   Df Residuals:                     1167\n",
       "                                        Df Model:                            6\n",
       "=====================================================================================\n",
       "                        coef    std err          t      P>|t|      [0.025      0.975]\n",
       "-------------------------------------------------------------------------------------\n",
       "Intercept           -55.3872     26.667     -2.077      0.038    -107.708      -3.066\n",
       "gestation             0.4646      0.077      6.038      0.000       0.314       0.616\n",
       "parity                8.1224      7.022      1.157      0.248      -5.655      21.900\n",
       "height                0.4711      0.288      1.637      0.102      -0.094       1.036\n",
       "smoke                -9.4018      1.542     -6.096      0.000     -12.428      -6.376\n",
       "abs_weight_zscore    -6.0207      1.063     -5.661      0.000      -8.107      -3.934\n",
       "age_parity           -0.4529      0.289     -1.570      0.117      -1.019       0.113\n",
       "=====================================================================================\n",
       "\n",
       "The condition number is large, 8.67e+03. This might indicate that there are\n",
       "strong multicollinearity or other numerical problems.\n",
       "\"\"\""
      ]
     },
     "execution_count": 12,
     "metadata": {},
     "output_type": "execute_result"
    }
   ],
   "source": [
    "quant_formula = 'bwt ~ ' + ' + '.join(bwt_df.drop(['bwt',\"weight\",\"age\"], axis='columns').columns)\n",
    "quant_mod = smf.quantreg(quant_formula, data=bwt_df)\n",
    "quant_reg = quant_mod.fit(q=.06)\n",
    "quant_reg.summary()"
   ]
  },
  {
   "cell_type": "code",
   "execution_count": 13,
   "metadata": {},
   "outputs": [
    {
     "data": {
      "text/plain": [
       "[<matplotlib.lines.Line2D at 0x2a7eccac470>]"
      ]
     },
     "execution_count": 13,
     "metadata": {},
     "output_type": "execute_result"
    },
    {
     "data": {
      "image/png": "[encoded data removed]",
      "text/plain": [
       "<Figure size 432x288 with 1 Axes>"
      ]
     },
     "metadata": {},
     "output_type": "display_data"
    }
   ],
   "source": [
    "plt.plot(bwt_df[\"age\"].sort_values().values)"
   ]
  },
  {
   "cell_type": "code",
   "execution_count": 14,
   "metadata": {},
   "outputs": [
    {
     "data": {
      "text/plain": [
       "<matplotlib.collections.LineCollection at 0x2a7e55c5048>"
      ]
     },
     "execution_count": 14,
     "metadata": {},
     "output_type": "execute_result"
    },
    {
     "data": {
      "image/png": "[encoded data removed]",
      "text/plain": [
       "<Figure size 432x288 with 1 Axes>"
      ]
     },
     "metadata": {},
     "output_type": "display_data"
    }
   ],
   "source": [
    "plt.scatter(bwt_df[\"gestation\"]-259,bwt_df[\"bwt\"])\n",
    "plt.hlines(90,-100,100)\n",
    "plt.vlines(0,60,180)\n"
   ]
  },
  {
   "cell_type": "code",
   "execution_count": 15,
   "metadata": {},
   "outputs": [
    {
     "data": {
      "text/plain": [
       "<matplotlib.collections.LineCollection at 0x2a7ecd6e6d8>"
      ]
     },
     "execution_count": 15,
     "metadata": {},
     "output_type": "execute_result"
    },
    {
     "data": {
      "image/png": "[encoded data removed]",
      "text/plain": [
       "<Figure size 432x288 with 1 Axes>"
      ]
     },
     "metadata": {},
     "output_type": "display_data"
    }
   ],
   "source": [
    "plt.scatter(bwt_df[\"height\"],bwt_df[\"bwt\"])\n",
    "plt.hlines(90,50,75)\n"
   ]
  },
  {
   "cell_type": "code",
   "execution_count": 16,
   "metadata": {},
   "outputs": [
    {
     "data": {
      "text/plain": [
       "<matplotlib.collections.LineCollection at 0x2a7ece006a0>"
      ]
     },
     "execution_count": 16,
     "metadata": {},
     "output_type": "execute_result"
    },
    {
     "data": {
      "image/png": "[encoded data removed]",
      "text/plain": [
       "<Figure size 432x288 with 1 Axes>"
      ]
     },
     "metadata": {},
     "output_type": "display_data"
    }
   ],
   "source": [
    "plt.scatter(bwt_df[\"age\"],bwt_df[\"bwt\"])\n",
    "plt.hlines(90,15,45)"
   ]
  },
  {
   "cell_type": "code",
   "execution_count": 17,
   "metadata": {},
   "outputs": [
    {
     "data": {
      "text/plain": [
       "<matplotlib.collections.LineCollection at 0x2a7ecd6eac8>"
      ]
     },
     "execution_count": 17,
     "metadata": {},
     "output_type": "execute_result"
    },
    {
     "data": {
      "image/png": "[encoded data removed]",
      "text/plain": [
       "<Figure size 432x288 with 1 Axes>"
      ]
     },
     "metadata": {},
     "output_type": "display_data"
    }
   ],
   "source": [
    "plt.scatter(bwt_df[\"abs_weight_zscore\"],bwt_df[\"bwt\"])\n",
    "plt.hlines(90,0,5)"
   ]
  },
  {
   "cell_type": "code",
   "execution_count": 18,
   "metadata": {},
   "outputs": [
    {
     "data": {
      "text/plain": [
       "<matplotlib.collections.LineCollection at 0x2a7ecec45f8>"
      ]
     },
     "execution_count": 18,
     "metadata": {},
     "output_type": "execute_result"
    },
    {
     "data": {
      "image/png": "[encoded data removed]",
      "text/plain": [
       "<Figure size 432x288 with 1 Axes>"
      ]
     },
     "metadata": {},
     "output_type": "display_data"
    }
   ],
   "source": [
    "plt.scatter(bwt_df[\"weight\"],bwt_df[\"bwt\"])\n",
    "plt.hlines(90,4.5,5.5)\n"
   ]
  },
  {
   "cell_type": "code",
   "execution_count": 19,
   "metadata": {},
   "outputs": [
    {
     "data": {
      "text/html": [
       "<table class=\"simpletable\">\n",
       "<caption>QuantReg Regression Results</caption>\n",
       "<tr>\n",
       "  <th>Dep. Variable:</th>        <td>bwt</td>       <th>  Pseudo R-squared:  </th> <td>  0.1987</td>\n",
       "</tr>\n",
       "<tr>\n",
       "  <th>Model:</th>             <td>QuantReg</td>     <th>  Bandwidth:         </th> <td>   6.284</td>\n",
       "</tr>\n",
       "<tr>\n",
       "  <th>Method:</th>          <td>Least Squares</td>  <th>  Sparsity:          </th> <td>   113.3</td>\n",
       "</tr>\n",
       "<tr>\n",
       "  <th>Date:</th>          <td>Thu, 24 Jan 2019</td> <th>  No. Observations:  </th>  <td>  1174</td> \n",
       "</tr>\n",
       "<tr>\n",
       "  <th>Time:</th>              <td>21:38:21</td>     <th>  Df Residuals:      </th>  <td>  1170</td> \n",
       "</tr>\n",
       "<tr>\n",
       "  <th> </th>                      <td> </td>        <th>  Df Model:          </th>  <td>     3</td> \n",
       "</tr>\n",
       "</table>\n",
       "<table class=\"simpletable\">\n",
       "<tr>\n",
       "          <td></td>             <th>coef</th>     <th>std err</th>      <th>t</th>      <th>P>|t|</th>  <th>[0.025</th>    <th>0.975]</th>  \n",
       "</tr>\n",
       "<tr>\n",
       "  <th>Intercept</th>         <td>  -29.9314</td> <td>   22.788</td> <td>   -1.313</td> <td> 0.189</td> <td>  -74.641</td> <td>   14.778</td>\n",
       "</tr>\n",
       "<tr>\n",
       "  <th>gestation</th>         <td>    0.4743</td> <td>    0.081</td> <td>    5.834</td> <td> 0.000</td> <td>    0.315</td> <td>    0.634</td>\n",
       "</tr>\n",
       "<tr>\n",
       "  <th>abs_weight_zscore</th> <td>   -5.4209</td> <td>    1.215</td> <td>   -4.462</td> <td> 0.000</td> <td>   -7.804</td> <td>   -3.037</td>\n",
       "</tr>\n",
       "<tr>\n",
       "  <th>smoke</th>             <td>   -8.0900</td> <td>    1.657</td> <td>   -4.882</td> <td> 0.000</td> <td>  -11.341</td> <td>   -4.839</td>\n",
       "</tr>\n",
       "</table><br/><br/>The condition number is large, 4.93e+03. This might indicate that there are<br/>strong multicollinearity or other numerical problems."
      ],
      "text/plain": [
       "<class 'statsmodels.iolib.summary.Summary'>\n",
       "\"\"\"\n",
       "                         QuantReg Regression Results                          \n",
       "==============================================================================\n",
       "Dep. Variable:                    bwt   Pseudo R-squared:               0.1987\n",
       "Model:                       QuantReg   Bandwidth:                       6.284\n",
       "Method:                 Least Squares   Sparsity:                        113.3\n",
       "Date:                Thu, 24 Jan 2019   No. Observations:                 1174\n",
       "Time:                        21:38:21   Df Residuals:                     1170\n",
       "                                        Df Model:                            3\n",
       "=====================================================================================\n",
       "                        coef    std err          t      P>|t|      [0.025      0.975]\n",
       "-------------------------------------------------------------------------------------\n",
       "Intercept           -29.9314     22.788     -1.313      0.189     -74.641      14.778\n",
       "gestation             0.4743      0.081      5.834      0.000       0.315       0.634\n",
       "abs_weight_zscore    -5.4209      1.215     -4.462      0.000      -7.804      -3.037\n",
       "smoke                -8.0900      1.657     -4.882      0.000     -11.341      -4.839\n",
       "=====================================================================================\n",
       "\n",
       "The condition number is large, 4.93e+03. This might indicate that there are\n",
       "strong multicollinearity or other numerical problems.\n",
       "\"\"\""
      ]
     },
     "execution_count": 19,
     "metadata": {},
     "output_type": "execute_result"
    }
   ],
   "source": [
    "quant_formula = 'bwt ~ gestation + abs_weight_zscore + smoke' \n",
    "quant_mod = smf.quantreg(quant_formula, data=bwt_df)\n",
    "quant_reg = quant_mod.fit(q=.06)\n",
    "quant_reg.summary()"
   ]
  },
  {
   "cell_type": "code",
   "execution_count": 49,
   "metadata": {},
   "outputs": [
    {
     "data": {
      "text/html": [
       "<table class=\"simpletable\">\n",
       "<caption>QuantReg Regression Results</caption>\n",
       "<tr>\n",
       "  <th>Dep. Variable:</th>        <td>bwt</td>       <th>  Pseudo R-squared:  </th> <td> 0.09156</td>\n",
       "</tr>\n",
       "<tr>\n",
       "  <th>Model:</th>             <td>QuantReg</td>     <th>  Bandwidth:         </th> <td>   6.762</td>\n",
       "</tr>\n",
       "<tr>\n",
       "  <th>Method:</th>          <td>Least Squares</td>  <th>  Sparsity:          </th> <td>   193.0</td>\n",
       "</tr>\n",
       "<tr>\n",
       "  <th>Date:</th>          <td>Thu, 24 Jan 2019</td> <th>  No. Observations:  </th>  <td>  1174</td> \n",
       "</tr>\n",
       "<tr>\n",
       "  <th>Time:</th>              <td>21:50:47</td>     <th>  Df Residuals:      </th>  <td>  1170</td> \n",
       "</tr>\n",
       "<tr>\n",
       "  <th> </th>                      <td> </td>        <th>  Df Model:          </th>  <td>     3</td> \n",
       "</tr>\n",
       "</table>\n",
       "<table class=\"simpletable\">\n",
       "<tr>\n",
       "          <td></td>             <th>coef</th>     <th>std err</th>      <th>t</th>      <th>P>|t|</th>  <th>[0.025</th>    <th>0.975]</th>  \n",
       "</tr>\n",
       "<tr>\n",
       "  <th>Intercept</th>         <td>   33.8010</td> <td>   34.279</td> <td>    0.986</td> <td> 0.324</td> <td>  -33.455</td> <td>  101.057</td>\n",
       "</tr>\n",
       "<tr>\n",
       "  <th>gestation</th>         <td>    0.4142</td> <td>    0.121</td> <td>    3.431</td> <td> 0.001</td> <td>    0.177</td> <td>    0.651</td>\n",
       "</tr>\n",
       "<tr>\n",
       "  <th>abs_weight_zscore</th> <td>    4.0448</td> <td>    2.108</td> <td>    1.919</td> <td> 0.055</td> <td>   -0.090</td> <td>    8.180</td>\n",
       "</tr>\n",
       "<tr>\n",
       "  <th>smoke</th>             <td>   -6.7792</td> <td>    2.371</td> <td>   -2.859</td> <td> 0.004</td> <td>  -11.432</td> <td>   -2.127</td>\n",
       "</tr>\n",
       "</table><br/><br/>The condition number is large, 4.93e+03. This might indicate that there are<br/>strong multicollinearity or other numerical problems."
      ],
      "text/plain": [
       "<class 'statsmodels.iolib.summary.Summary'>\n",
       "\"\"\"\n",
       "                         QuantReg Regression Results                          \n",
       "==============================================================================\n",
       "Dep. Variable:                    bwt   Pseudo R-squared:              0.09156\n",
       "Model:                       QuantReg   Bandwidth:                       6.762\n",
       "Method:                 Least Squares   Sparsity:                        193.0\n",
       "Date:                Thu, 24 Jan 2019   No. Observations:                 1174\n",
       "Time:                        21:50:47   Df Residuals:                     1170\n",
       "                                        Df Model:                            3\n",
       "=====================================================================================\n",
       "                        coef    std err          t      P>|t|      [0.025      0.975]\n",
       "-------------------------------------------------------------------------------------\n",
       "Intercept            33.8010     34.279      0.986      0.324     -33.455     101.057\n",
       "gestation             0.4142      0.121      3.431      0.001       0.177       0.651\n",
       "abs_weight_zscore     4.0448      2.108      1.919      0.055      -0.090       8.180\n",
       "smoke                -6.7792      2.371     -2.859      0.004     -11.432      -2.127\n",
       "=====================================================================================\n",
       "\n",
       "The condition number is large, 4.93e+03. This might indicate that there are\n",
       "strong multicollinearity or other numerical problems.\n",
       "\"\"\""
      ]
     },
     "execution_count": 49,
     "metadata": {},
     "output_type": "execute_result"
    }
   ],
   "source": [
    "quant_mod = smf.quantreg(quant_formula, data=bwt_df)\n",
    "quant_reg96 = quant_mod.fit(q=.96)\n",
    "quant_reg96.summary()"
   ]
  },
  {
   "cell_type": "code",
   "execution_count": 51,
   "metadata": {},
   "outputs": [
    {
     "data": {
      "text/plain": [
       "[<matplotlib.lines.Line2D at 0x2a7ee84bef0>]"
      ]
     },
     "execution_count": 51,
     "metadata": {},
     "output_type": "execute_result"
    },
    {
     "data": {
      "image/png": "[encoded data removed]",
      "text/plain": [
       "<Figure size 432x288 with 1 Axes>"
      ]
     },
     "metadata": {},
     "output_type": "display_data"
    }
   ],
   "source": [
    "l = pd.Series(quant_reg.predict())\n",
    "l = l.sort_values()\n",
    "plt.plot(l.values, color= 'r')\n",
    "l2 = pd.Series(quant_reg96.predict()).sort_values().values\n",
    "plt.plot(bwt_df[\"bwt\"].sort_values().values)\n",
    "plt.plot(l2,color='g')"
   ]
  },
  {
   "cell_type": "code",
   "execution_count": null,
   "metadata": {},
   "outputs": [],
   "source": []
  },
  {
   "cell_type": "markdown",
   "metadata": {},
   "source": [
    "## Observations\n",
    "- after adding the weight_zscore feature, t statistic of age factors dropped below 1. Previously they had t-statistics indicating significance and larger coefficients"
   ]
  },
  {
   "cell_type": "markdown",
   "metadata": {},
   "source": [
    "## Recommendations\n",
    "- Stop Smoking\n",
    "- Get your weight closer to the average weight. More deviations from the average generally decreases weight. If you are under weight, gain some weight. If you are over weight, try to lose some weight."
   ]
  },
  {
   "cell_type": "code",
   "execution_count": null,
   "metadata": {},
   "outputs": [],
   "source": [
    "\n"
   ]
  },
  {
   "cell_type": "code",
   "execution_count": null,
   "metadata": {},
   "outputs": [],
   "source": []
  }
 ],
 "metadata": {
  "kernelspec": {
   "display_name": "Python 3",
   "language": "python",
   "name": "python3"
  },
  "language_info": {
   "codemirror_mode": {
    "name": "ipython",
    "version": 3
   },
   "file_extension": ".py",
   "mimetype": "text/x-python",
   "name": "python",
   "nbconvert_exporter": "python",
   "pygments_lexer": "ipython3",
   "version": "3.6.5"
  }
 },
 "nbformat": 4,
 "nbformat_minor": 2
}
