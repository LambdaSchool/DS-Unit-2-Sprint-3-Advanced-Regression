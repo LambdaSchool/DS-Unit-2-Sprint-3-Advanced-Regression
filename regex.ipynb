{
  "nbformat": 4,
  "nbformat_minor": 0,
  "metadata": {
    "colab": {
      "name": "LS DS 111 - A First Look at Data.ipynb",
      "version": "0.3.2",
      "provenance": [],
      "include_colab_link": true
    },
    "kernelspec": {
      "name": "python3",
      "display_name": "Python 3"
    }
  },
  "cells": [
    {
      "cell_type": "markdown",
      "metadata": {
        "id": "view-in-github",
        "colab_type": "text"
      },
      "source": [
        "<a href=\"https://colab.research.google.com/github/invegat/DS-Unit-2-Sprint-3-Advanced-Regression/blob/master/regex.ipynb\" target=\"_parent\"><img src=\"https://colab.research.google.com/assets/colab-badge.svg\" alt=\"Open In Colab\"/></a>"
      ]
    },
    {
      "metadata": {
        "id": "Okfr_uhwhS1X",
        "colab_type": "text"
      },
      "cell_type": "markdown",
      "source": [
        "# Lambda School Data Science - A First Look at Data\n",
        "\n"
      ]
    },
    {
      "metadata": {
        "id": "3-Dojir3pdtR",
        "colab_type": "code",
        "colab": {
          "base_uri": "https://localhost:8080/",
          "height": 52
        },
        "outputId": "e7df706a-ebba-4aec-bfcc-6b3371996790"
      },
      "cell_type": "code",
      "source": [
        "!pip install geopy"
      ],
      "execution_count": 1,
      "outputs": [
        {
          "output_type": "stream",
          "text": [
            "Requirement already satisfied: geopy in /usr/local/lib/python3.6/dist-packages (1.17.0)\n",
            "Requirement already satisfied: geographiclib<2,>=1.49 in /usr/local/lib/python3.6/dist-packages (from geopy) (1.49)\n"
          ],
          "name": "stdout"
        }
      ]
    },
    {
      "metadata": {
        "id": "9dtJETFRhnOG",
        "colab_type": "text"
      },
      "cell_type": "markdown",
      "source": [
        "## Lecture - let's explore Python DS libraries and examples!\n",
        "\n",
        "The Python Data Science ecosystem is huge. You've seen some of the big pieces - pandas, scikit-learn, matplotlib. What parts do you want to see more of?"
      ]
    },
    {
      "metadata": {
        "id": "NiYbW5qhpj1H",
        "colab_type": "code",
        "colab": {
          "base_uri": "https://localhost:8080/",
          "height": 52
        },
        "outputId": "857c87b2-7a40-4d2d-af38-831d503b8a40"
      },
      "cell_type": "code",
      "source": [
        "!pip install geopy"
      ],
      "execution_count": 2,
      "outputs": [
        {
          "output_type": "stream",
          "text": [
            "Requirement already satisfied: geopy in /usr/local/lib/python3.6/dist-packages (1.17.0)\n",
            "Requirement already satisfied: geographiclib<2,>=1.49 in /usr/local/lib/python3.6/dist-packages (from geopy) (1.49)\n"
          ],
          "name": "stdout"
        }
      ]
    },
    {
      "metadata": {
        "id": "29CpMafApnY2",
        "colab_type": "code",
        "colab": {
          "base_uri": "https://localhost:8080/",
          "height": 34
        },
        "outputId": "2bd931a7-d2fa-45ad-b417-871aa960d30a"
      },
      "cell_type": "code",
      "source": [
        "\n",
        "!pip install beautifulsoup4"
      ],
      "execution_count": 3,
      "outputs": [
        {
          "output_type": "stream",
          "text": [
            "Requirement already satisfied: beautifulsoup4 in /usr/local/lib/python3.6/dist-packages (4.6.3)\n"
          ],
          "name": "stdout"
        }
      ]
    },
    {
      "metadata": {
        "id": "1PEq6jOspvE3",
        "colab_type": "code",
        "colab": {}
      },
      "cell_type": "code",
      "source": [
        "\n",
        "from requests import get\n",
        "from contextlib import closing\n",
        "from bs4 import BeautifulSoup\n",
        "import bs4\n",
        "import re\n",
        "import regex\n",
        "import pandas as pd\n",
        "from geopy.distance import distance\n",
        "import datetime"
      ],
      "execution_count": 0,
      "outputs": []
    },
    {
      "metadata": {
        "id": "SoaTegbhp5Im",
        "colab_type": "code",
        "colab": {}
      },
      "cell_type": "code",
      "source": [
        "def simple_get(url):\n",
        "    \"\"\"\n",
        "    Attempts to get the content at `url` by making an HTTP GET request.\n",
        "    If the content-type of response is some kind of HTML/XML, return the\n",
        "    text content, otherwise return None.\n",
        "    \"\"\"\n",
        "    try:\n",
        "        with closing(get(url, stream=True)) as resp:\n",
        "            if is_good_response(resp):\n",
        "                return resp.content\n",
        "            else:\n",
        "                return None\n",
        "\n",
        "    except RequestException as e:\n",
        "        log_error('Error during requests to {0} : {1}'.format(url, str(e)))\n",
        "        return None\n",
        "\n",
        "\n",
        "def is_good_response(resp):\n",
        "    \"\"\"\n",
        "    Returns True if the response seems to be HTML, False otherwise.\n",
        "    \"\"\"\n",
        "    content_type = resp.headers['Content-Type'].lower()\n",
        "    return (resp.status_code == 200 \n",
        "            and content_type is not None \n",
        "            and content_type.find('html') > -1)\n",
        "\n",
        "\n",
        "def log_error(e):\n",
        "    \"\"\"\n",
        "    It is always a good idea to log errors. \n",
        "    This function just prints them, but you can\n",
        "    make it do anything.\n",
        "    \"\"\"\n",
        "    print(e)"
      ],
      "execution_count": 0,
      "outputs": []
    },
    {
      "metadata": {
        "id": "TYKlBghTp_cl",
        "colab_type": "code",
        "colab": {}
      },
      "cell_type": "code",
      "source": [
        "\n",
        "#url = \"https://ftw.usatoday.com/2016/08/ranking-best-worst-mlb-stadiums-30-petco-wrigley-pnc\"\n",
        "url = \"https://en.wikipedia.org/wiki/List_of_current_Major_League_Baseball_stadiums\"\n",
        "raw_html = simple_get(url)\n",
        "html = BeautifulSoup(raw_html, 'html.parser')\n",
        "\n",
        "table = html.select('table')[1]\n",
        "teams = []\n",
        "stadium = None\n",
        "for tr in table.select('tr'):\n",
        "    if tr.has_attr('style'):\n",
        "        # print('tr style', tr['style'])\n",
        "        tds = [td for td in tr.select('td')]\n",
        "        if len(tds) > 6:\n",
        "            teams.append((tds[5].a.text, tds[1].a.text))\n",
        "    else :\n",
        "        stadium = tr.find_next('th', {'scope': 'row'}).a.text\n",
        "        tds = [td for td in tr.select('td')]\n",
        "        if len(tds) > 5:\n",
        "            team = tds[4].a.text\n",
        "            teams.append((team, stadium))\n",
        "            if team == 'New York Yankees':\n",
        "                break \n"
      ],
      "execution_count": 0,
      "outputs": []
    },
    {
      "metadata": {
        "id": "UyFOXf5KqEJp",
        "colab_type": "code",
        "colab": {
          "base_uri": "https://localhost:8080/",
          "height": 1519
        },
        "outputId": "f5548888-0e97-44f7-e0f0-1617c023edd4"
      },
      "cell_type": "code",
      "source": [
        "\n",
        "gurl = \"https://en.wikipedia.org/wiki/\"\n",
        "p = regex.compile(r\"(\\-?[\\d\\.]+)\\;\\s+(\\-?[\\d\\.]+)\")\n",
        "lat = 0\n",
        "long = 0\n",
        "rows = []\n",
        "# teams = [('Arizona Diamondbacks','Chase Field' )]\n",
        "# teams = sorted(teams, key = lambda team: team[1])\n",
        "for team, stadium in teams:\n",
        "    # print(team, stadium)\n",
        "    raw_html = simple_get(gurl  + stadium.replace(' ', '_')).decode(\"utf-8\") \n",
        "    html = BeautifulSoup(raw_html, 'html.parser')\n",
        "    geo = html.select('span .geo')\n",
        "    # print(f\"geo: {geo}\")\n",
        "    m = regex.match(p, geo[0].text)\n",
        "    print(geo[0].text)\n",
        "    rows.append({'team': team, 'stadium': stadium, 'lat': float(m.group(1)), 'long': float(m.group(2))})\n",
        "teamd = pd.DataFrame(rows)   \n",
        "teamd"
      ],
      "execution_count": 12,
      "outputs": [
        {
          "output_type": "stream",
          "text": [
            "33.80028; -117.88278\n",
            "38.62250; -90.19306\n",
            "33.44528; -112.06694\n",
            "40.75694; -73.84583\n",
            "39.90583; -75.16639\n",
            "42.33917; -83.04861\n",
            "39.75611; -104.99417\n",
            "34.07361; -118.24000\n",
            "42.346250; -71.097750\n",
            "32.75139; -97.08278\n",
            "39.09750; -84.50667\n",
            "41.83000; -87.63389\n",
            "39.05139; -94.48056\n",
            "25.77806; -80.21972\n",
            "43.02833; -87.97111\n",
            "29.75694; -95.35556\n",
            "38.87278; -77.00750\n",
            "37.75167; -122.20056\n",
            "37.77861; -122.38917\n",
            "39.28389; -76.62167\n",
            "32.7073; -117.1566\n",
            "40.44694; -80.00583\n",
            "41.49583; -81.68528\n",
            "43.64139; -79.38917\n",
            "33.89; -84.468\n",
            "47.591; -122.333\n",
            "44.98167; -93.27833\n",
            "27.76833; -82.65333\n",
            "41.948038; -87.65568\n",
            "40.82917; -73.92639\n"
          ],
          "name": "stdout"
        },
        {
          "output_type": "execute_result",
          "data": {
            "text/html": [
              "<div>\n",
              "<style scoped>\n",
              "    .dataframe tbody tr th:only-of-type {\n",
              "        vertical-align: middle;\n",
              "    }\n",
              "\n",
              "    .dataframe tbody tr th {\n",
              "        vertical-align: top;\n",
              "    }\n",
              "\n",
              "    .dataframe thead th {\n",
              "        text-align: right;\n",
              "    }\n",
              "</style>\n",
              "<table border=\"1\" class=\"dataframe\">\n",
              "  <thead>\n",
              "    <tr style=\"text-align: right;\">\n",
              "      <th></th>\n",
              "      <th>lat</th>\n",
              "      <th>long</th>\n",
              "      <th>stadium</th>\n",
              "      <th>team</th>\n",
              "    </tr>\n",
              "  </thead>\n",
              "  <tbody>\n",
              "    <tr>\n",
              "      <th>0</th>\n",
              "      <td>33.800280</td>\n",
              "      <td>-117.88278</td>\n",
              "      <td>Angel Stadium</td>\n",
              "      <td>Los Angeles Angels</td>\n",
              "    </tr>\n",
              "    <tr>\n",
              "      <th>1</th>\n",
              "      <td>38.622500</td>\n",
              "      <td>-90.19306</td>\n",
              "      <td>Busch Stadium</td>\n",
              "      <td>St. Louis Cardinals</td>\n",
              "    </tr>\n",
              "    <tr>\n",
              "      <th>2</th>\n",
              "      <td>33.445280</td>\n",
              "      <td>-112.06694</td>\n",
              "      <td>Chase Field</td>\n",
              "      <td>Arizona Diamondbacks</td>\n",
              "    </tr>\n",
              "    <tr>\n",
              "      <th>3</th>\n",
              "      <td>40.756940</td>\n",
              "      <td>-73.84583</td>\n",
              "      <td>Citi Field</td>\n",
              "      <td>New York Mets</td>\n",
              "    </tr>\n",
              "    <tr>\n",
              "      <th>4</th>\n",
              "      <td>39.905830</td>\n",
              "      <td>-75.16639</td>\n",
              "      <td>Citizens Bank Park</td>\n",
              "      <td>Philadelphia Phillies</td>\n",
              "    </tr>\n",
              "    <tr>\n",
              "      <th>5</th>\n",
              "      <td>42.339170</td>\n",
              "      <td>-83.04861</td>\n",
              "      <td>Comerica Park</td>\n",
              "      <td>Detroit Tigers</td>\n",
              "    </tr>\n",
              "    <tr>\n",
              "      <th>6</th>\n",
              "      <td>39.756110</td>\n",
              "      <td>-104.99417</td>\n",
              "      <td>Coors Field</td>\n",
              "      <td>Colorado Rockies</td>\n",
              "    </tr>\n",
              "    <tr>\n",
              "      <th>7</th>\n",
              "      <td>34.073610</td>\n",
              "      <td>-118.24000</td>\n",
              "      <td>Dodger Stadium</td>\n",
              "      <td>Los Angeles Dodgers</td>\n",
              "    </tr>\n",
              "    <tr>\n",
              "      <th>8</th>\n",
              "      <td>42.346250</td>\n",
              "      <td>-71.09775</td>\n",
              "      <td>Fenway Park</td>\n",
              "      <td>Boston Red Sox</td>\n",
              "    </tr>\n",
              "    <tr>\n",
              "      <th>9</th>\n",
              "      <td>32.751390</td>\n",
              "      <td>-97.08278</td>\n",
              "      <td>Globe Life Park in Arlington</td>\n",
              "      <td>Texas Rangers</td>\n",
              "    </tr>\n",
              "    <tr>\n",
              "      <th>10</th>\n",
              "      <td>39.097500</td>\n",
              "      <td>-84.50667</td>\n",
              "      <td>Great American Ball Park</td>\n",
              "      <td>Cincinnati Reds</td>\n",
              "    </tr>\n",
              "    <tr>\n",
              "      <th>11</th>\n",
              "      <td>41.830000</td>\n",
              "      <td>-87.63389</td>\n",
              "      <td>Guaranteed Rate Field</td>\n",
              "      <td>Chicago White Sox</td>\n",
              "    </tr>\n",
              "    <tr>\n",
              "      <th>12</th>\n",
              "      <td>39.051390</td>\n",
              "      <td>-94.48056</td>\n",
              "      <td>Kauffman Stadium</td>\n",
              "      <td>Kansas City Royals</td>\n",
              "    </tr>\n",
              "    <tr>\n",
              "      <th>13</th>\n",
              "      <td>25.778060</td>\n",
              "      <td>-80.21972</td>\n",
              "      <td>Marlins Park</td>\n",
              "      <td>Miami Marlins</td>\n",
              "    </tr>\n",
              "    <tr>\n",
              "      <th>14</th>\n",
              "      <td>43.028330</td>\n",
              "      <td>-87.97111</td>\n",
              "      <td>Miller Park</td>\n",
              "      <td>Milwaukee Brewers</td>\n",
              "    </tr>\n",
              "    <tr>\n",
              "      <th>15</th>\n",
              "      <td>29.756940</td>\n",
              "      <td>-95.35556</td>\n",
              "      <td>Minute Maid Park</td>\n",
              "      <td>Houston Astros</td>\n",
              "    </tr>\n",
              "    <tr>\n",
              "      <th>16</th>\n",
              "      <td>38.872780</td>\n",
              "      <td>-77.00750</td>\n",
              "      <td>Nationals Park</td>\n",
              "      <td>Washington Nationals</td>\n",
              "    </tr>\n",
              "    <tr>\n",
              "      <th>17</th>\n",
              "      <td>37.751670</td>\n",
              "      <td>-122.20056</td>\n",
              "      <td>Oakland–Alameda County Coliseum</td>\n",
              "      <td>Oakland Athletics</td>\n",
              "    </tr>\n",
              "    <tr>\n",
              "      <th>18</th>\n",
              "      <td>37.778610</td>\n",
              "      <td>-122.38917</td>\n",
              "      <td>Oracle Park</td>\n",
              "      <td>San Francisco Giants</td>\n",
              "    </tr>\n",
              "    <tr>\n",
              "      <th>19</th>\n",
              "      <td>39.283890</td>\n",
              "      <td>-76.62167</td>\n",
              "      <td>Oriole Park at Camden Yards</td>\n",
              "      <td>Baltimore Orioles</td>\n",
              "    </tr>\n",
              "    <tr>\n",
              "      <th>20</th>\n",
              "      <td>32.707300</td>\n",
              "      <td>-117.15660</td>\n",
              "      <td>Petco Park</td>\n",
              "      <td>San Diego Padres</td>\n",
              "    </tr>\n",
              "    <tr>\n",
              "      <th>21</th>\n",
              "      <td>40.446940</td>\n",
              "      <td>-80.00583</td>\n",
              "      <td>PNC Park</td>\n",
              "      <td>Pittsburgh Pirates</td>\n",
              "    </tr>\n",
              "    <tr>\n",
              "      <th>22</th>\n",
              "      <td>41.495830</td>\n",
              "      <td>-81.68528</td>\n",
              "      <td>Progressive Field</td>\n",
              "      <td>Cleveland Indians</td>\n",
              "    </tr>\n",
              "    <tr>\n",
              "      <th>23</th>\n",
              "      <td>43.641390</td>\n",
              "      <td>-79.38917</td>\n",
              "      <td>Rogers Centre</td>\n",
              "      <td>Toronto Blue Jays</td>\n",
              "    </tr>\n",
              "    <tr>\n",
              "      <th>24</th>\n",
              "      <td>33.890000</td>\n",
              "      <td>-84.46800</td>\n",
              "      <td>SunTrust Park</td>\n",
              "      <td>Atlanta Braves</td>\n",
              "    </tr>\n",
              "    <tr>\n",
              "      <th>25</th>\n",
              "      <td>47.591000</td>\n",
              "      <td>-122.33300</td>\n",
              "      <td>T-Mobile Park</td>\n",
              "      <td>Seattle Mariners</td>\n",
              "    </tr>\n",
              "    <tr>\n",
              "      <th>26</th>\n",
              "      <td>44.981670</td>\n",
              "      <td>-93.27833</td>\n",
              "      <td>Target Field</td>\n",
              "      <td>Minnesota Twins</td>\n",
              "    </tr>\n",
              "    <tr>\n",
              "      <th>27</th>\n",
              "      <td>27.768330</td>\n",
              "      <td>-82.65333</td>\n",
              "      <td>Tropicana Field</td>\n",
              "      <td>Tampa Bay Rays</td>\n",
              "    </tr>\n",
              "    <tr>\n",
              "      <th>28</th>\n",
              "      <td>41.948038</td>\n",
              "      <td>-87.65568</td>\n",
              "      <td>Wrigley Field</td>\n",
              "      <td>Chicago Cubs</td>\n",
              "    </tr>\n",
              "    <tr>\n",
              "      <th>29</th>\n",
              "      <td>40.829170</td>\n",
              "      <td>-73.92639</td>\n",
              "      <td>Yankee Stadium</td>\n",
              "      <td>New York Yankees</td>\n",
              "    </tr>\n",
              "  </tbody>\n",
              "</table>\n",
              "</div>"
            ],
            "text/plain": [
              "          lat       long                          stadium  \\\n",
              "0   33.800280 -117.88278                    Angel Stadium   \n",
              "1   38.622500  -90.19306                    Busch Stadium   \n",
              "2   33.445280 -112.06694                      Chase Field   \n",
              "3   40.756940  -73.84583                       Citi Field   \n",
              "4   39.905830  -75.16639               Citizens Bank Park   \n",
              "5   42.339170  -83.04861                    Comerica Park   \n",
              "6   39.756110 -104.99417                      Coors Field   \n",
              "7   34.073610 -118.24000                   Dodger Stadium   \n",
              "8   42.346250  -71.09775                      Fenway Park   \n",
              "9   32.751390  -97.08278     Globe Life Park in Arlington   \n",
              "10  39.097500  -84.50667         Great American Ball Park   \n",
              "11  41.830000  -87.63389            Guaranteed Rate Field   \n",
              "12  39.051390  -94.48056                 Kauffman Stadium   \n",
              "13  25.778060  -80.21972                     Marlins Park   \n",
              "14  43.028330  -87.97111                      Miller Park   \n",
              "15  29.756940  -95.35556                 Minute Maid Park   \n",
              "16  38.872780  -77.00750                   Nationals Park   \n",
              "17  37.751670 -122.20056  Oakland–Alameda County Coliseum   \n",
              "18  37.778610 -122.38917                      Oracle Park   \n",
              "19  39.283890  -76.62167      Oriole Park at Camden Yards   \n",
              "20  32.707300 -117.15660                       Petco Park   \n",
              "21  40.446940  -80.00583                         PNC Park   \n",
              "22  41.495830  -81.68528                Progressive Field   \n",
              "23  43.641390  -79.38917                    Rogers Centre   \n",
              "24  33.890000  -84.46800                    SunTrust Park   \n",
              "25  47.591000 -122.33300                    T-Mobile Park   \n",
              "26  44.981670  -93.27833                     Target Field   \n",
              "27  27.768330  -82.65333                  Tropicana Field   \n",
              "28  41.948038  -87.65568                    Wrigley Field   \n",
              "29  40.829170  -73.92639                   Yankee Stadium   \n",
              "\n",
              "                     team  \n",
              "0      Los Angeles Angels  \n",
              "1     St. Louis Cardinals  \n",
              "2    Arizona Diamondbacks  \n",
              "3           New York Mets  \n",
              "4   Philadelphia Phillies  \n",
              "5          Detroit Tigers  \n",
              "6        Colorado Rockies  \n",
              "7     Los Angeles Dodgers  \n",
              "8          Boston Red Sox  \n",
              "9           Texas Rangers  \n",
              "10        Cincinnati Reds  \n",
              "11      Chicago White Sox  \n",
              "12     Kansas City Royals  \n",
              "13          Miami Marlins  \n",
              "14      Milwaukee Brewers  \n",
              "15         Houston Astros  \n",
              "16   Washington Nationals  \n",
              "17      Oakland Athletics  \n",
              "18   San Francisco Giants  \n",
              "19      Baltimore Orioles  \n",
              "20       San Diego Padres  \n",
              "21     Pittsburgh Pirates  \n",
              "22      Cleveland Indians  \n",
              "23      Toronto Blue Jays  \n",
              "24         Atlanta Braves  \n",
              "25       Seattle Mariners  \n",
              "26        Minnesota Twins  \n",
              "27         Tampa Bay Rays  \n",
              "28           Chicago Cubs  \n",
              "29       New York Yankees  "
            ]
          },
          "metadata": {
            "tags": []
          },
          "execution_count": 12
        }
      ]
    },
    {
      "metadata": {
        "id": "sWJjbgSKqIfy",
        "colab_type": "code",
        "colab": {}
      },
      "cell_type": "code",
      "source": [
        "\n",
        "def print_distance(winner, loser, rows):\n",
        "    w = teamd[teamd['team'] == winner]\n",
        "    l = teamd[teamd['team'] == loser]\n",
        "    if len(w.lat.values) == 0:\n",
        "        print('unknown winning team', winner)\n",
        "    if len(l.lat.values) == 0:\n",
        "        print('unknown losing team', loser)                  \n",
        "    d = distance((w.lat.values[0], w.long.values[0]),\n",
        "                 (l.lat.values[0], l.long.values[0])).miles\n",
        "    rows.append({'year': year, 'winner': winner, 'loser': loser, 'distance': d})"
      ],
      "execution_count": 0,
      "outputs": []
    },
    {
      "metadata": {
        "id": "QiUOYoYSqP9F",
        "colab_type": "code",
        "colab": {
          "base_uri": "https://localhost:8080/",
          "height": 240
        },
        "outputId": "092e30a1-4d10-41fd-d40a-208495c5fc02"
      },
      "cell_type": "code",
      "source": [
        "wsurl = \"https://en.wikipedia.org/wiki/List_of_World_Series_champions\"\n",
        "raw_html = simple_get(wsurl)\n",
        "html = BeautifulSoup(raw_html, 'html.parser')\n",
        "win = True\n",
        "winner = None\n",
        "rows = []\n",
        "year = datetime.datetime.now().year\n",
        "for tr in html.select('tr'):\n",
        "    th = tr.find_next('th', attrs={'scope':'row'})\n",
        "    a = th.a\n",
        "    series_year = int(a.text)\n",
        "#     if series_year == year:\n",
        "         # necessary iff world series hasn't been decided yet this year (picked my team to win)\n",
        "         # edit in the teams\n",
        "#         print_distance('Boston Red Sox', 'Los Angeles Dodgers', rows)\n",
        "#         break\n",
        "    if series_year > 1958: # before 1958 no west coast teams so no maximum distance       \n",
        "        for td in tr.select('td'):\n",
        "            if (td.has_attr('style')):\n",
        "                tda = td.a\n",
        "                if win:\n",
        "                    winner = tda.text\n",
        "                    if winner == 'Florida Marlins':  # convert old name to current name\n",
        "                        winner = 'Miami Marlins'\n",
        "                    elif winner == 'Anaheim Angels': # convert old name to current name\n",
        "                        winner = 'Los Angeles Angels'\n",
        "                else:\n",
        "                    print_distance(winner, tda.text, rows)\n",
        "                win = False if win else True\n",
        "    if series_year == year:\n",
        "        # necessary iff world series has been decided this year\n",
        "        break\n",
        "# print(len(rows))\n",
        "distances = pd.DataFrame(rows)\n",
        "# distances"
      ],
      "execution_count": 8,
      "outputs": [
        {
          "output_type": "error",
          "ename": "ValueError",
          "evalue": "ignored",
          "traceback": [
            "\u001b[0;31m---------------------------------------------------------------------------\u001b[0m",
            "\u001b[0;31mValueError\u001b[0m                                Traceback (most recent call last)",
            "\u001b[0;32m<ipython-input-8-f1d59a7459f8>\u001b[0m in \u001b[0;36m<module>\u001b[0;34m()\u001b[0m\n\u001b[1;32m      9\u001b[0m     \u001b[0mth\u001b[0m \u001b[0;34m=\u001b[0m \u001b[0mtr\u001b[0m\u001b[0;34m.\u001b[0m\u001b[0mfind_next\u001b[0m\u001b[0;34m(\u001b[0m\u001b[0;34m'th'\u001b[0m\u001b[0;34m,\u001b[0m \u001b[0mattrs\u001b[0m\u001b[0;34m=\u001b[0m\u001b[0;34m{\u001b[0m\u001b[0;34m'scope'\u001b[0m\u001b[0;34m:\u001b[0m\u001b[0;34m'row'\u001b[0m\u001b[0;34m}\u001b[0m\u001b[0;34m)\u001b[0m\u001b[0;34m\u001b[0m\u001b[0;34m\u001b[0m\u001b[0m\n\u001b[1;32m     10\u001b[0m     \u001b[0ma\u001b[0m \u001b[0;34m=\u001b[0m \u001b[0mth\u001b[0m\u001b[0;34m.\u001b[0m\u001b[0ma\u001b[0m\u001b[0;34m\u001b[0m\u001b[0;34m\u001b[0m\u001b[0m\n\u001b[0;32m---> 11\u001b[0;31m     \u001b[0mseries_year\u001b[0m \u001b[0;34m=\u001b[0m \u001b[0mint\u001b[0m\u001b[0;34m(\u001b[0m\u001b[0ma\u001b[0m\u001b[0;34m.\u001b[0m\u001b[0mtext\u001b[0m\u001b[0;34m)\u001b[0m\u001b[0;34m\u001b[0m\u001b[0;34m\u001b[0m\u001b[0m\n\u001b[0m\u001b[1;32m     12\u001b[0m \u001b[0;31m#     if series_year == year:\u001b[0m\u001b[0;34m\u001b[0m\u001b[0;34m\u001b[0m\u001b[0;34m\u001b[0m\u001b[0m\n\u001b[1;32m     13\u001b[0m          \u001b[0;31m# necessary iff world series hasn't been decided yet this year (picked my team to win)\u001b[0m\u001b[0;34m\u001b[0m\u001b[0;34m\u001b[0m\u001b[0;34m\u001b[0m\u001b[0m\n",
            "\u001b[0;31mValueError\u001b[0m: invalid literal for int() with base 10: 'New York Yankees'"
          ]
        }
      ]
    },
    {
      "metadata": {
        "id": "WiBkgmPJhmhE",
        "colab_type": "code",
        "outputId": "d27b027b-91db-4346-9924-49e16960c93c",
        "colab": {
          "base_uri": "https://localhost:8080/",
          "height": 52
        }
      },
      "cell_type": "code",
      "source": [
        "# TODO - we'll be doing this live, taking requests\n",
        "# and reproducing what it is to look up and learn things\n",
        "print('Mark Oliver')\n",
        "1+1"
      ],
      "execution_count": 0,
      "outputs": [
        {
          "output_type": "stream",
          "text": [
            "Mark Oliver\n"
          ],
          "name": "stdout"
        },
        {
          "output_type": "execute_result",
          "data": {
            "text/plain": [
              "2"
            ]
          },
          "metadata": {
            "tags": []
          },
          "execution_count": 1
        }
      ]
    },
    {
      "metadata": {
        "id": "lOqaPds9huME",
        "colab_type": "text"
      },
      "cell_type": "markdown",
      "source": [
        "## Assignment - now it's your turn\n",
        "\n",
        "Pick at least one Python DS library, and using documentation/examples reproduce in this notebook something cool. It's OK if you don't fully understand it or get it 100% working, but do put in effort and look things up."
      ]
    },
    {
      "metadata": {
        "id": "TGUS79cOhPWj",
        "colab_type": "code",
        "colab": {}
      },
      "cell_type": "code",
      "source": [
        "# TODO - your code here\n",
        "# Use what we did live in lecture as an example"
      ],
      "execution_count": 0,
      "outputs": []
    },
    {
      "metadata": {
        "id": "BT9gdS7viJZa",
        "colab_type": "text"
      },
      "cell_type": "markdown",
      "source": [
        "### Assignment questions\n",
        "\n",
        "After you've worked on some code, answer the following questions in this text block:\n",
        "\n",
        "1.  Describe in a paragraph of text what you did and why, as if you were writing an email to somebody interested but nontechnical.\n",
        "\n",
        "2.  What was the most challenging part of what you did?\n",
        "\n",
        "3.  What was the most interesting thing you learned?\n",
        "\n",
        "4.  What area would you like to explore with more time?\n",
        "\n",
        "\n"
      ]
    },
    {
      "metadata": {
        "id": "_XXg2crAipwP",
        "colab_type": "text"
      },
      "cell_type": "markdown",
      "source": [
        "## Stretch goals and resources\n",
        "\n",
        "Following are *optional* things for you to take a look at. Focus on the above assignment first, and make sure to commit and push your changes to GitHub (and since this is the first assignment of the sprint, open a PR as well).\n",
        "\n",
        "- [pandas documentation](https://pandas.pydata.org/pandas-docs/stable/)\n",
        "- [scikit-learn documentation](http://scikit-learn.org/stable/documentation.html)\n",
        "- [matplotlib documentation](https://matplotlib.org/contents.html)\n",
        "- [Awesome Data Science](https://github.com/bulutyazilim/awesome-datascience) - a list of many types of DS resources\n",
        "\n",
        "Stretch goals:\n",
        "\n",
        "- Find and read blogs, walkthroughs, and other examples of people working through cool things with data science - and share with your classmates!\n",
        "- Write a blog post (Medium is a popular place to publish) introducing yourself as somebody learning data science, and talking about what you've learned already and what you're excited to learn more about"
      ]
    }
  ]
}