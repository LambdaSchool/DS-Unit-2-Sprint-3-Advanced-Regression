{
  "nbformat": 4,
  "nbformat_minor": 0,
  "metadata": {
    "colab": {
      "name": "LS_DS_231_Logistic_Regression.ipynb",
      "version": "0.3.2",
      "provenance": [],
      "include_colab_link": true
    },
    "kernelspec": {
      "name": "python3",
      "display_name": "Python 3"
    }
  },
  "cells": [
    {
      "cell_type": "markdown",
      "metadata": {
        "id": "view-in-github",
        "colab_type": "text"
      },
      "source": [
        "<a href=\"https://colab.research.google.com/github/valogonor/DS-Unit-2-Sprint-3-Advanced-Regression/blob/master/LS_DS_231_Logistic_Regression.ipynb\" target=\"_parent\"><img src=\"https://colab.research.google.com/assets/colab-badge.svg\" alt=\"Open In Colab\"/></a>"
      ]
    },
    {
      "metadata": {
        "id": "N7SXF6jEBd5_",
        "colab_type": "text"
      },
      "cell_type": "markdown",
      "source": [
        "# Lambda School Data Science - Logistic Regression\n",
        "\n",
        "Logistic regression is the baseline for classification models, as well as a handy way to predict probabilities (since those too live in the unit interval). While relatively simple, it is also the foundation for more sophisticated classification techniques such as neural networks (many of which can effectively be thought of as networks of logistic models)."
      ]
    },
    {
      "metadata": {
        "id": "E7-AOngjadRN",
        "colab_type": "text"
      },
      "cell_type": "markdown",
      "source": [
        "## Lecture - Where Linear goes Wrong\n",
        "### Return of the Titanic 🚢\n",
        "\n",
        "You've likely already explored the rich dataset that is the Titanic - let's use regression and try to predict survival with it. The data is [available from Kaggle](https://www.kaggle.com/c/titanic/data), so we'll also play a bit with [the Kaggle API](https://github.com/Kaggle/kaggle-api)."
      ]
    },
    {
      "metadata": {
        "id": "MnHLWPYDcyIe",
        "colab_type": "code",
        "colab": {
          "base_uri": "https://localhost:8080/",
          "height": 217
        },
        "outputId": "006d59d7-e40d-401e-a53d-b2792e204172"
      },
      "cell_type": "code",
      "source": [
        "!pip install kaggle"
      ],
      "execution_count": 1,
      "outputs": [
        {
          "output_type": "stream",
          "text": [
            "Requirement already satisfied: kaggle in /usr/local/lib/python3.6/dist-packages (1.5.1.1)\n",
            "Requirement already satisfied: urllib3<1.23.0,>=1.15 in /usr/local/lib/python3.6/dist-packages (from kaggle) (1.22)\n",
            "Requirement already satisfied: six>=1.10 in /usr/local/lib/python3.6/dist-packages (from kaggle) (1.11.0)\n",
            "Requirement already satisfied: certifi in /usr/local/lib/python3.6/dist-packages (from kaggle) (2018.11.29)\n",
            "Requirement already satisfied: python-dateutil in /usr/local/lib/python3.6/dist-packages (from kaggle) (2.5.3)\n",
            "Requirement already satisfied: requests in /usr/local/lib/python3.6/dist-packages (from kaggle) (2.18.4)\n",
            "Requirement already satisfied: tqdm in /usr/local/lib/python3.6/dist-packages (from kaggle) (4.28.1)\n",
            "Requirement already satisfied: python-slugify in /usr/local/lib/python3.6/dist-packages (from kaggle) (2.0.1)\n",
            "Requirement already satisfied: chardet<3.1.0,>=3.0.2 in /usr/local/lib/python3.6/dist-packages (from requests->kaggle) (3.0.4)\n",
            "Requirement already satisfied: idna<2.7,>=2.5 in /usr/local/lib/python3.6/dist-packages (from requests->kaggle) (2.6)\n",
            "Requirement already satisfied: Unidecode>=0.04.16 in /usr/local/lib/python3.6/dist-packages (from python-slugify->kaggle) (1.0.23)\n"
          ],
          "name": "stdout"
        }
      ]
    },
    {
      "metadata": {
        "id": "wPgce-jQc5zi",
        "colab_type": "code",
        "colab": {
          "base_uri": "https://localhost:8080/",
          "height": 146
        },
        "outputId": "d4e2de12-4bab-4400-c511-465d506d748f"
      },
      "cell_type": "code",
      "source": [
        "# Note - you'll also have to sign up for Kaggle and authorize the API\n",
        "# https://github.com/Kaggle/kaggle-api#api-credentials\n",
        "\n",
        "# This essentially means uploading a kaggle.json file\n",
        "# For Colab we can have it in Google Drive\n",
        "from google.colab import drive\n",
        "drive.mount('/content/drive')\n",
        "%env KAGGLE_CONFIG_DIR=/content/drive/My Drive/\n",
        "\n",
        "# You also have to join the Titanic competition to have access to the data\n",
        "# !kaggle competitions download -c titanic"
      ],
      "execution_count": 2,
      "outputs": [
        {
          "output_type": "stream",
          "text": [
            "Go to this URL in a browser: https://accounts.google.com/o/oauth2/auth?client_id=947318989803-6bn6qk8qdgf4n4g3pfee6491hc0brc4i.apps.googleusercontent.com&redirect_uri=urn%3Aietf%3Awg%3Aoauth%3A2.0%3Aoob&scope=email%20https%3A%2F%2Fwww.googleapis.com%2Fauth%2Fdocs.test%20https%3A%2F%2Fwww.googleapis.com%2Fauth%2Fdrive%20https%3A%2F%2Fwww.googleapis.com%2Fauth%2Fdrive.photos.readonly%20https%3A%2F%2Fwww.googleapis.com%2Fauth%2Fpeopleapi.readonly&response_type=code\n",
            "\n",
            "Enter your authorization code:\n",
            "··········\n",
            "Mounted at /content/drive\n",
            "env: KAGGLE_CONFIG_DIR=/content/drive/My Drive/\n"
          ],
          "name": "stdout"
        }
      ]
    },
    {
      "metadata": {
        "id": "ATKZUEpilEYi",
        "colab_type": "code",
        "colab": {
          "base_uri": "https://localhost:8080/",
          "height": 181
        },
        "outputId": "cf88fcb4-c049-489a-d11d-009a5b1e0a87"
      },
      "cell_type": "code",
      "source": [
        "!kaggle competitions download -c titanic"
      ],
      "execution_count": 3,
      "outputs": [
        {
          "output_type": "stream",
          "text": [
            "Downloading train.csv to /content\n",
            "\r  0% 0.00/59.8k [00:00<?, ?B/s]\n",
            "100% 59.8k/59.8k [00:00<00:00, 18.9MB/s]\n",
            "Downloading test.csv to /content\n",
            "  0% 0.00/28.0k [00:00<?, ?B/s]\n",
            "100% 28.0k/28.0k [00:00<00:00, 23.3MB/s]\n",
            "Downloading gender_submission.csv to /content\n",
            "  0% 0.00/3.18k [00:00<?, ?B/s]\n",
            "100% 3.18k/3.18k [00:00<00:00, 3.12MB/s]\n"
          ],
          "name": "stdout"
        }
      ]
    },
    {
      "metadata": {
        "id": "-PtztP8YlFym",
        "colab_type": "code",
        "colab": {
          "base_uri": "https://localhost:8080/",
          "height": 206
        },
        "outputId": "f8a3fce7-e82b-4c0b-c01f-6bf45a52c1e8"
      },
      "cell_type": "code",
      "source": [
        "# How would we try to do this with linear regression?\n",
        "import pandas as pd\n",
        "\n",
        "train_df = pd.read_csv('train.csv').dropna()\n",
        "test_df = pd.read_csv('test.csv').dropna()  # Unlabeled, for Kaggle submission\n",
        "\n",
        "train_df.head()"
      ],
      "execution_count": 4,
      "outputs": [
        {
          "output_type": "execute_result",
          "data": {
            "text/html": [
              "<div>\n",
              "<style scoped>\n",
              "    .dataframe tbody tr th:only-of-type {\n",
              "        vertical-align: middle;\n",
              "    }\n",
              "\n",
              "    .dataframe tbody tr th {\n",
              "        vertical-align: top;\n",
              "    }\n",
              "\n",
              "    .dataframe thead th {\n",
              "        text-align: right;\n",
              "    }\n",
              "</style>\n",
              "<table border=\"1\" class=\"dataframe\">\n",
              "  <thead>\n",
              "    <tr style=\"text-align: right;\">\n",
              "      <th></th>\n",
              "      <th>PassengerId</th>\n",
              "      <th>Survived</th>\n",
              "      <th>Pclass</th>\n",
              "      <th>Name</th>\n",
              "      <th>Sex</th>\n",
              "      <th>Age</th>\n",
              "      <th>SibSp</th>\n",
              "      <th>Parch</th>\n",
              "      <th>Ticket</th>\n",
              "      <th>Fare</th>\n",
              "      <th>Cabin</th>\n",
              "      <th>Embarked</th>\n",
              "    </tr>\n",
              "  </thead>\n",
              "  <tbody>\n",
              "    <tr>\n",
              "      <th>1</th>\n",
              "      <td>2</td>\n",
              "      <td>1</td>\n",
              "      <td>1</td>\n",
              "      <td>Cumings, Mrs. John Bradley (Florence Briggs Th...</td>\n",
              "      <td>female</td>\n",
              "      <td>38.0</td>\n",
              "      <td>1</td>\n",
              "      <td>0</td>\n",
              "      <td>PC 17599</td>\n",
              "      <td>71.2833</td>\n",
              "      <td>C85</td>\n",
              "      <td>C</td>\n",
              "    </tr>\n",
              "    <tr>\n",
              "      <th>3</th>\n",
              "      <td>4</td>\n",
              "      <td>1</td>\n",
              "      <td>1</td>\n",
              "      <td>Futrelle, Mrs. Jacques Heath (Lily May Peel)</td>\n",
              "      <td>female</td>\n",
              "      <td>35.0</td>\n",
              "      <td>1</td>\n",
              "      <td>0</td>\n",
              "      <td>113803</td>\n",
              "      <td>53.1000</td>\n",
              "      <td>C123</td>\n",
              "      <td>S</td>\n",
              "    </tr>\n",
              "    <tr>\n",
              "      <th>6</th>\n",
              "      <td>7</td>\n",
              "      <td>0</td>\n",
              "      <td>1</td>\n",
              "      <td>McCarthy, Mr. Timothy J</td>\n",
              "      <td>male</td>\n",
              "      <td>54.0</td>\n",
              "      <td>0</td>\n",
              "      <td>0</td>\n",
              "      <td>17463</td>\n",
              "      <td>51.8625</td>\n",
              "      <td>E46</td>\n",
              "      <td>S</td>\n",
              "    </tr>\n",
              "    <tr>\n",
              "      <th>10</th>\n",
              "      <td>11</td>\n",
              "      <td>1</td>\n",
              "      <td>3</td>\n",
              "      <td>Sandstrom, Miss. Marguerite Rut</td>\n",
              "      <td>female</td>\n",
              "      <td>4.0</td>\n",
              "      <td>1</td>\n",
              "      <td>1</td>\n",
              "      <td>PP 9549</td>\n",
              "      <td>16.7000</td>\n",
              "      <td>G6</td>\n",
              "      <td>S</td>\n",
              "    </tr>\n",
              "    <tr>\n",
              "      <th>11</th>\n",
              "      <td>12</td>\n",
              "      <td>1</td>\n",
              "      <td>1</td>\n",
              "      <td>Bonnell, Miss. Elizabeth</td>\n",
              "      <td>female</td>\n",
              "      <td>58.0</td>\n",
              "      <td>0</td>\n",
              "      <td>0</td>\n",
              "      <td>113783</td>\n",
              "      <td>26.5500</td>\n",
              "      <td>C103</td>\n",
              "      <td>S</td>\n",
              "    </tr>\n",
              "  </tbody>\n",
              "</table>\n",
              "</div>"
            ],
            "text/plain": [
              "    PassengerId  Survived  Pclass  \\\n",
              "1             2         1       1   \n",
              "3             4         1       1   \n",
              "6             7         0       1   \n",
              "10           11         1       3   \n",
              "11           12         1       1   \n",
              "\n",
              "                                                 Name     Sex   Age  SibSp  \\\n",
              "1   Cumings, Mrs. John Bradley (Florence Briggs Th...  female  38.0      1   \n",
              "3        Futrelle, Mrs. Jacques Heath (Lily May Peel)  female  35.0      1   \n",
              "6                             McCarthy, Mr. Timothy J    male  54.0      0   \n",
              "10                    Sandstrom, Miss. Marguerite Rut  female   4.0      1   \n",
              "11                           Bonnell, Miss. Elizabeth  female  58.0      0   \n",
              "\n",
              "    Parch    Ticket     Fare Cabin Embarked  \n",
              "1       0  PC 17599  71.2833   C85        C  \n",
              "3       0    113803  53.1000  C123        S  \n",
              "6       0     17463  51.8625   E46        S  \n",
              "10      1   PP 9549  16.7000    G6        S  \n",
              "11      0    113783  26.5500  C103        S  "
            ]
          },
          "metadata": {
            "tags": []
          },
          "execution_count": 4
        }
      ]
    },
    {
      "metadata": {
        "id": "Ey2ZHrGW_n_t",
        "colab_type": "code",
        "colab": {
          "base_uri": "https://localhost:8080/",
          "height": 300
        },
        "outputId": "0d22a7fc-10b0-4ff9-b6e5-f4ffa2a246fa"
      },
      "cell_type": "code",
      "source": [
        "train_df.describe()"
      ],
      "execution_count": 5,
      "outputs": [
        {
          "output_type": "execute_result",
          "data": {
            "text/html": [
              "<div>\n",
              "<style scoped>\n",
              "    .dataframe tbody tr th:only-of-type {\n",
              "        vertical-align: middle;\n",
              "    }\n",
              "\n",
              "    .dataframe tbody tr th {\n",
              "        vertical-align: top;\n",
              "    }\n",
              "\n",
              "    .dataframe thead th {\n",
              "        text-align: right;\n",
              "    }\n",
              "</style>\n",
              "<table border=\"1\" class=\"dataframe\">\n",
              "  <thead>\n",
              "    <tr style=\"text-align: right;\">\n",
              "      <th></th>\n",
              "      <th>PassengerId</th>\n",
              "      <th>Survived</th>\n",
              "      <th>Pclass</th>\n",
              "      <th>Age</th>\n",
              "      <th>SibSp</th>\n",
              "      <th>Parch</th>\n",
              "      <th>Fare</th>\n",
              "    </tr>\n",
              "  </thead>\n",
              "  <tbody>\n",
              "    <tr>\n",
              "      <th>count</th>\n",
              "      <td>183.000000</td>\n",
              "      <td>183.000000</td>\n",
              "      <td>183.000000</td>\n",
              "      <td>183.000000</td>\n",
              "      <td>183.000000</td>\n",
              "      <td>183.000000</td>\n",
              "      <td>183.000000</td>\n",
              "    </tr>\n",
              "    <tr>\n",
              "      <th>mean</th>\n",
              "      <td>455.366120</td>\n",
              "      <td>0.672131</td>\n",
              "      <td>1.191257</td>\n",
              "      <td>35.674426</td>\n",
              "      <td>0.464481</td>\n",
              "      <td>0.475410</td>\n",
              "      <td>78.682469</td>\n",
              "    </tr>\n",
              "    <tr>\n",
              "      <th>std</th>\n",
              "      <td>247.052476</td>\n",
              "      <td>0.470725</td>\n",
              "      <td>0.515187</td>\n",
              "      <td>15.643866</td>\n",
              "      <td>0.644159</td>\n",
              "      <td>0.754617</td>\n",
              "      <td>76.347843</td>\n",
              "    </tr>\n",
              "    <tr>\n",
              "      <th>min</th>\n",
              "      <td>2.000000</td>\n",
              "      <td>0.000000</td>\n",
              "      <td>1.000000</td>\n",
              "      <td>0.920000</td>\n",
              "      <td>0.000000</td>\n",
              "      <td>0.000000</td>\n",
              "      <td>0.000000</td>\n",
              "    </tr>\n",
              "    <tr>\n",
              "      <th>25%</th>\n",
              "      <td>263.500000</td>\n",
              "      <td>0.000000</td>\n",
              "      <td>1.000000</td>\n",
              "      <td>24.000000</td>\n",
              "      <td>0.000000</td>\n",
              "      <td>0.000000</td>\n",
              "      <td>29.700000</td>\n",
              "    </tr>\n",
              "    <tr>\n",
              "      <th>50%</th>\n",
              "      <td>457.000000</td>\n",
              "      <td>1.000000</td>\n",
              "      <td>1.000000</td>\n",
              "      <td>36.000000</td>\n",
              "      <td>0.000000</td>\n",
              "      <td>0.000000</td>\n",
              "      <td>57.000000</td>\n",
              "    </tr>\n",
              "    <tr>\n",
              "      <th>75%</th>\n",
              "      <td>676.000000</td>\n",
              "      <td>1.000000</td>\n",
              "      <td>1.000000</td>\n",
              "      <td>47.500000</td>\n",
              "      <td>1.000000</td>\n",
              "      <td>1.000000</td>\n",
              "      <td>90.000000</td>\n",
              "    </tr>\n",
              "    <tr>\n",
              "      <th>max</th>\n",
              "      <td>890.000000</td>\n",
              "      <td>1.000000</td>\n",
              "      <td>3.000000</td>\n",
              "      <td>80.000000</td>\n",
              "      <td>3.000000</td>\n",
              "      <td>4.000000</td>\n",
              "      <td>512.329200</td>\n",
              "    </tr>\n",
              "  </tbody>\n",
              "</table>\n",
              "</div>"
            ],
            "text/plain": [
              "       PassengerId    Survived      Pclass         Age       SibSp  \\\n",
              "count   183.000000  183.000000  183.000000  183.000000  183.000000   \n",
              "mean    455.366120    0.672131    1.191257   35.674426    0.464481   \n",
              "std     247.052476    0.470725    0.515187   15.643866    0.644159   \n",
              "min       2.000000    0.000000    1.000000    0.920000    0.000000   \n",
              "25%     263.500000    0.000000    1.000000   24.000000    0.000000   \n",
              "50%     457.000000    1.000000    1.000000   36.000000    0.000000   \n",
              "75%     676.000000    1.000000    1.000000   47.500000    1.000000   \n",
              "max     890.000000    1.000000    3.000000   80.000000    3.000000   \n",
              "\n",
              "            Parch        Fare  \n",
              "count  183.000000  183.000000  \n",
              "mean     0.475410   78.682469  \n",
              "std      0.754617   76.347843  \n",
              "min      0.000000    0.000000  \n",
              "25%      0.000000   29.700000  \n",
              "50%      0.000000   57.000000  \n",
              "75%      1.000000   90.000000  \n",
              "max      4.000000  512.329200  "
            ]
          },
          "metadata": {
            "tags": []
          },
          "execution_count": 5
        }
      ]
    },
    {
      "metadata": {
        "id": "QiZn2p1K8DED",
        "colab_type": "code",
        "colab": {
          "base_uri": "https://localhost:8080/",
          "height": 35
        },
        "outputId": "49348c74-7641-4a05-a2c5-d6b3aa5d642b"
      },
      "cell_type": "code",
      "source": [
        "from sklearn.linear_model import LinearRegression\n",
        "\n",
        "X = train_df[['Pclass', 'Age', 'Fare']]\n",
        "y = train_df.Survived\n",
        "\n",
        "linear_reg = LinearRegression().fit(X, y)\n",
        "linear_reg.score(X, y)"
      ],
      "execution_count": 6,
      "outputs": [
        {
          "output_type": "execute_result",
          "data": {
            "text/plain": [
              "0.08389810726550917"
            ]
          },
          "metadata": {
            "tags": []
          },
          "execution_count": 6
        }
      ]
    },
    {
      "metadata": {
        "id": "8HsBb1hp_cev",
        "colab_type": "code",
        "colab": {
          "base_uri": "https://localhost:8080/",
          "height": 344
        },
        "outputId": "1085ac7f-9af7-4710-fb1a-ba126ec02fe0"
      },
      "cell_type": "code",
      "source": [
        "linear_reg.predict(test_df[['Pclass', 'Age', 'Fare']])"
      ],
      "execution_count": 7,
      "outputs": [
        {
          "output_type": "execute_result",
          "data": {
            "text/plain": [
              "array([0.79543117, 0.58610823, 0.67595121, 0.793829  , 0.62090522,\n",
              "       0.72542107, 0.59848968, 0.58734245, 0.48567063, 0.77627736,\n",
              "       0.84211887, 0.57052439, 0.7754689 , 0.96621114, 0.70287941,\n",
              "       0.57673837, 0.72321391, 0.75894755, 0.77968041, 0.50246003,\n",
              "       0.49858077, 0.7474959 , 0.3542282 , 0.61648435, 0.71300224,\n",
              "       0.66294608, 0.53175333, 0.77397395, 0.68419387, 0.68395536,\n",
              "       0.52041202, 0.56814038, 0.79586606, 0.81372012, 0.61068545,\n",
              "       0.57260627, 0.52525981, 0.58055388, 0.45584728, 0.67976208,\n",
              "       0.8226707 , 0.84286197, 0.96189157, 0.66724612, 0.68589478,\n",
              "       0.61846513, 0.63455044, 0.68275686, 0.65738372, 0.45198998,\n",
              "       0.59988596, 0.63845908, 0.63132487, 0.7888473 , 0.60126246,\n",
              "       0.79714045, 0.78713803, 0.54643775, 0.42823635, 0.7711724 ,\n",
              "       0.53552976, 0.55608044, 0.54480459, 0.57031915, 0.65080369,\n",
              "       0.77958926, 0.6371013 , 0.70993488, 0.71493598, 0.60375943,\n",
              "       0.54407206, 0.48186138, 0.76576089, 0.75456305, 0.53968359,\n",
              "       0.53814461, 0.51431245, 0.80091026, 0.54231482, 0.8260362 ,\n",
              "       0.58660686, 0.77766767, 0.60296337, 0.70098322, 0.63455044,\n",
              "       0.68309915, 0.67573142])"
            ]
          },
          "metadata": {
            "tags": []
          },
          "execution_count": 7
        }
      ]
    },
    {
      "metadata": {
        "id": "fcxfpsjdFJwM",
        "colab_type": "code",
        "colab": {
          "base_uri": "https://localhost:8080/",
          "height": 35
        },
        "outputId": "1a583922-61c3-453e-f6a4-ee67ef7f1375"
      },
      "cell_type": "code",
      "source": [
        "linear_reg.coef_"
      ],
      "execution_count": 8,
      "outputs": [
        {
          "output_type": "execute_result",
          "data": {
            "text/plain": [
              "array([-0.08596295, -0.00829314,  0.00048775])"
            ]
          },
          "metadata": {
            "tags": []
          },
          "execution_count": 8
        }
      ]
    },
    {
      "metadata": {
        "id": "AFiisZU7_2Fr",
        "colab_type": "code",
        "colab": {
          "base_uri": "https://localhost:8080/",
          "height": 35
        },
        "outputId": "85bade66-4fe8-4848-8f49-f1cebc4b1de3"
      },
      "cell_type": "code",
      "source": [
        "import numpy as np\n",
        "\n",
        "test_case = np.array([[1, 5, 500]])  # Rich 5-year old in first class\n",
        "linear_reg.predict(test_case)"
      ],
      "execution_count": 9,
      "outputs": [
        {
          "output_type": "execute_result",
          "data": {
            "text/plain": [
              "array([1.14845883])"
            ]
          },
          "metadata": {
            "tags": []
          },
          "execution_count": 9
        }
      ]
    },
    {
      "metadata": {
        "id": "dpUm8Dl-u2aB",
        "colab_type": "code",
        "colab": {
          "base_uri": "https://localhost:8080/",
          "height": 92
        },
        "outputId": "ad042308-7c6b-4238-92c0-9e530f16dba3"
      },
      "cell_type": "code",
      "source": [
        "from sklearn.linear_model import LogisticRegression\n",
        "\n",
        "log_reg = LogisticRegression().fit(X, y)\n",
        "log_reg.score(X, y)"
      ],
      "execution_count": 10,
      "outputs": [
        {
          "output_type": "stream",
          "text": [
            "/usr/local/lib/python3.6/dist-packages/sklearn/linear_model/logistic.py:433: FutureWarning: Default solver will be changed to 'lbfgs' in 0.22. Specify a solver to silence this warning.\n",
            "  FutureWarning)\n"
          ],
          "name": "stderr"
        },
        {
          "output_type": "execute_result",
          "data": {
            "text/plain": [
              "0.7103825136612022"
            ]
          },
          "metadata": {
            "tags": []
          },
          "execution_count": 10
        }
      ]
    },
    {
      "metadata": {
        "id": "cUhr2c66F_th",
        "colab_type": "code",
        "colab": {
          "base_uri": "https://localhost:8080/",
          "height": 90
        },
        "outputId": "92e40e35-419a-4d96-9b75-b2f344cbe27b"
      },
      "cell_type": "code",
      "source": [
        "log_reg.predict(test_df[['Pclass', 'Age', 'Fare']])"
      ],
      "execution_count": 11,
      "outputs": [
        {
          "output_type": "execute_result",
          "data": {
            "text/plain": [
              "array([1, 1, 1, 1, 1, 1, 1, 1, 1, 1, 1, 1, 1, 1, 1, 1, 1, 1, 1, 0, 1, 1,\n",
              "       0, 1, 1, 1, 1, 1, 1, 1, 1, 1, 1, 1, 1, 1, 1, 1, 0, 1, 1, 1, 1, 1,\n",
              "       1, 1, 1, 1, 1, 0, 1, 1, 1, 1, 1, 1, 1, 1, 0, 1, 1, 1, 1, 1, 1, 1,\n",
              "       1, 1, 1, 1, 1, 0, 1, 1, 0, 1, 1, 1, 1, 1, 1, 1, 1, 1, 1, 1, 1])"
            ]
          },
          "metadata": {
            "tags": []
          },
          "execution_count": 11
        }
      ]
    },
    {
      "metadata": {
        "id": "r7xWwqBrFuWL",
        "colab_type": "code",
        "colab": {
          "base_uri": "https://localhost:8080/",
          "height": 35
        },
        "outputId": "5ec940e1-b379-4a1d-e679-2a57f2a2da6f"
      },
      "cell_type": "code",
      "source": [
        "log_reg.predict(test_case)[0]"
      ],
      "execution_count": 12,
      "outputs": [
        {
          "output_type": "execute_result",
          "data": {
            "text/plain": [
              "1"
            ]
          },
          "metadata": {
            "tags": []
          },
          "execution_count": 12
        }
      ]
    },
    {
      "metadata": {
        "id": "IM8g42clF2-6",
        "colab_type": "code",
        "colab": {
          "base_uri": "https://localhost:8080/",
          "height": 290
        },
        "outputId": "d1aaf150-241a-47a4-ef08-47a359108362"
      },
      "cell_type": "code",
      "source": [
        "help(log_reg.predict)"
      ],
      "execution_count": 13,
      "outputs": [
        {
          "output_type": "stream",
          "text": [
            "Help on method predict in module sklearn.linear_model.base:\n",
            "\n",
            "predict(X) method of sklearn.linear_model.logistic.LogisticRegression instance\n",
            "    Predict class labels for samples in X.\n",
            "    \n",
            "    Parameters\n",
            "    ----------\n",
            "    X : array_like or sparse matrix, shape (n_samples, n_features)\n",
            "        Samples.\n",
            "    \n",
            "    Returns\n",
            "    -------\n",
            "    C : array, shape [n_samples]\n",
            "        Predicted class label per sample.\n",
            "\n"
          ],
          "name": "stdout"
        }
      ]
    },
    {
      "metadata": {
        "id": "flF3pcMHGGWw",
        "colab_type": "code",
        "colab": {
          "base_uri": "https://localhost:8080/",
          "height": 35
        },
        "outputId": "29a0e2b3-5d25-40c3-db50-8d23b493d1d0"
      },
      "cell_type": "code",
      "source": [
        "log_reg.predict_proba(test_case)[0]"
      ],
      "execution_count": 14,
      "outputs": [
        {
          "output_type": "execute_result",
          "data": {
            "text/plain": [
              "array([0.02485552, 0.97514448])"
            ]
          },
          "metadata": {
            "tags": []
          },
          "execution_count": 14
        }
      ]
    },
    {
      "metadata": {
        "id": "9Bq-54noR1uE",
        "colab_type": "code",
        "colab": {
          "base_uri": "https://localhost:8080/",
          "height": 35
        },
        "outputId": "d31fe836-d298-4980-a3a0-f808e143738d"
      },
      "cell_type": "code",
      "source": [
        "# What's the math?\n",
        "log_reg.coef_"
      ],
      "execution_count": 15,
      "outputs": [
        {
          "output_type": "execute_result",
          "data": {
            "text/plain": [
              "array([[-0.0455017 , -0.02912513,  0.0048037 ]])"
            ]
          },
          "metadata": {
            "tags": []
          },
          "execution_count": 15
        }
      ]
    },
    {
      "metadata": {
        "id": "Tj0mNL7_XWNV",
        "colab_type": "code",
        "colab": {
          "base_uri": "https://localhost:8080/",
          "height": 35
        },
        "outputId": "4ef10c9f-e9d5-4dd1-dcf2-4bb8abd7f59e"
      },
      "cell_type": "code",
      "source": [
        "log_reg.intercept_"
      ],
      "execution_count": 16,
      "outputs": [
        {
          "output_type": "execute_result",
          "data": {
            "text/plain": [
              "array([1.45878264])"
            ]
          },
          "metadata": {
            "tags": []
          },
          "execution_count": 16
        }
      ]
    },
    {
      "metadata": {
        "id": "AroeYscqR75f",
        "colab_type": "code",
        "colab": {}
      },
      "cell_type": "code",
      "source": [
        "# The logistic sigmoid \"squishing\" function, implemented to accept numpy arrays\n",
        "def sigmoid(x):\n",
        "  return 1 / (1 + np.e**(-x))"
      ],
      "execution_count": 0,
      "outputs": []
    },
    {
      "metadata": {
        "id": "804BA7s0SggQ",
        "colab_type": "code",
        "colab": {
          "base_uri": "https://localhost:8080/",
          "height": 35
        },
        "outputId": "b4b82fd0-9b10-4bde-da0f-c69ddd1540a6"
      },
      "cell_type": "code",
      "source": [
        "sigmoid(log_reg.intercept_ + np.dot(log_reg.coef_, np.transpose(test_case)))"
      ],
      "execution_count": 18,
      "outputs": [
        {
          "output_type": "execute_result",
          "data": {
            "text/plain": [
              "array([[0.97514448]])"
            ]
          },
          "metadata": {
            "tags": []
          },
          "execution_count": 18
        }
      ]
    },
    {
      "metadata": {
        "id": "uBSGY-R-Hf_b",
        "colab_type": "text"
      },
      "cell_type": "markdown",
      "source": [
        "So, clearly a more appropriate model in this situation! For more on the math, [see this Wikipedia example](https://en.wikipedia.org/wiki/Logistic_regression#Probability_of_passing_an_exam_versus_hours_of_study).\n",
        "\n",
        "For live - let's tackle [another classification dataset on absenteeism](http://archive.ics.uci.edu/ml/datasets/Absenteeism+at+work) - it has 21 classes, but remember, scikit-learn LogisticRegression automatically handles more than two classes. How? By essentially treating each label as different (1) from some base class (0)."
      ]
    },
    {
      "metadata": {
        "id": "qyDBpCM0G7Hv",
        "colab_type": "code",
        "colab": {}
      },
      "cell_type": "code",
      "source": [
        "# Live - let's try absenteeism!"
      ],
      "execution_count": 0,
      "outputs": []
    },
    {
      "metadata": {
        "id": "iblW74C8afuR",
        "colab_type": "text"
      },
      "cell_type": "markdown",
      "source": [
        "## Assignment - real-world classification\n",
        "\n",
        "We're going to check out a larger dataset - the [FMA Free Music Archive data](https://github.com/mdeff/fma). It has a selection of CSVs with metadata and calculated audio features that you can load and try to use to classify genre of tracks. To get you started:"
      ]
    },
    {
      "metadata": {
        "id": "SsySnuKaKtQf",
        "colab_type": "code",
        "colab": {
          "base_uri": "https://localhost:8080/",
          "height": 453
        },
        "outputId": "c1cbae97-c096-4017-99a0-40120594ed1e"
      },
      "cell_type": "code",
      "source": [
        "!wget https://os.unil.cloud.switch.ch/fma/fma_metadata.zip\n",
        "!unzip fma_metadata.zip"
      ],
      "execution_count": 2,
      "outputs": [
        {
          "output_type": "stream",
          "text": [
            "--2019-01-23 05:01:57--  https://os.unil.cloud.switch.ch/fma/fma_metadata.zip\n",
            "Resolving os.unil.cloud.switch.ch (os.unil.cloud.switch.ch)... 86.119.28.13, 2001:620:5ca1:2ff::ce53\n",
            "Connecting to os.unil.cloud.switch.ch (os.unil.cloud.switch.ch)|86.119.28.13|:443... connected.\n",
            "HTTP request sent, awaiting response... 200 OK\n",
            "Length: 358412441 (342M) [application/zip]\n",
            "Saving to: ‘fma_metadata.zip’\n",
            "\n",
            "fma_metadata.zip    100%[===================>] 341.81M  17.0MB/s    in 37s     \n",
            "\n",
            "2019-01-23 05:02:35 (9.17 MB/s) - ‘fma_metadata.zip’ saved [358412441/358412441]\n",
            "\n",
            "Archive:  fma_metadata.zip\n",
            " bunzipping: fma_metadata/README.txt  \n",
            " bunzipping: fma_metadata/checksums  \n",
            " bunzipping: fma_metadata/not_found.pickle  \n",
            " bunzipping: fma_metadata/raw_genres.csv  \n",
            " bunzipping: fma_metadata/raw_albums.csv  \n",
            " bunzipping: fma_metadata/raw_artists.csv  \n",
            " bunzipping: fma_metadata/raw_tracks.csv  \n",
            " bunzipping: fma_metadata/tracks.csv  \n",
            " bunzipping: fma_metadata/genres.csv  \n",
            " bunzipping: fma_metadata/raw_echonest.csv  \n",
            " bunzipping: fma_metadata/echonest.csv  \n",
            " bunzipping: fma_metadata/features.csv  \n"
          ],
          "name": "stdout"
        }
      ]
    },
    {
      "metadata": {
        "id": "VbUJKyI1LRwD",
        "colab_type": "code",
        "colab": {
          "base_uri": "https://localhost:8080/",
          "height": 73
        },
        "outputId": "cdebcda2-83c5-4654-8c24-699bb4270d80"
      },
      "cell_type": "code",
      "source": [
        "import pandas as pd\n",
        "\n",
        "# Take columns names from first row\n",
        "tracks = pd.read_csv('fma_metadata/tracks.csv', header=1)\n",
        "\n",
        "# Manually name the first column, and remove the first line where that name used to be.\n",
        "tracks.rename(columns={'Unnamed: 0':'track_id'}, inplace=True)\n",
        "tracks.drop(index=0, inplace=True)\n",
        "tracks.head()\n",
        "\n",
        "# Put the genre_top column at the beginning\n",
        "tracks = tracks.reindex(columns=(['genre_top'] + list([a for a in tracks.columns if a != 'genre_top'])))\n",
        "\n",
        "# Remove any columns that don't have an entry for genre_top\n",
        "tracks = tracks.dropna(subset=['genre_top'])"
      ],
      "execution_count": 71,
      "outputs": [
        {
          "output_type": "stream",
          "text": [
            "/usr/local/lib/python3.6/dist-packages/IPython/core/interactiveshell.py:2718: DtypeWarning: Columns (0) have mixed types. Specify dtype option on import or set low_memory=False.\n",
            "  interactivity=interactivity, compiler=compiler, result=result)\n"
          ],
          "name": "stderr"
        }
      ]
    },
    {
      "metadata": {
        "id": "VPplXWsTVNHi",
        "colab_type": "code",
        "colab": {
          "base_uri": "https://localhost:8080/",
          "height": 505
        },
        "outputId": "98c1d0be-478e-4fbb-a7c0-5c5358dcd725"
      },
      "cell_type": "code",
      "source": [
        "print(tracks.shape)\n",
        "tracks.head()"
      ],
      "execution_count": 72,
      "outputs": [
        {
          "output_type": "stream",
          "text": [
            "(49598, 53)\n"
          ],
          "name": "stdout"
        },
        {
          "output_type": "execute_result",
          "data": {
            "text/html": [
              "<div>\n",
              "<style scoped>\n",
              "    .dataframe tbody tr th:only-of-type {\n",
              "        vertical-align: middle;\n",
              "    }\n",
              "\n",
              "    .dataframe tbody tr th {\n",
              "        vertical-align: top;\n",
              "    }\n",
              "\n",
              "    .dataframe thead th {\n",
              "        text-align: right;\n",
              "    }\n",
              "</style>\n",
              "<table border=\"1\" class=\"dataframe\">\n",
              "  <thead>\n",
              "    <tr style=\"text-align: right;\">\n",
              "      <th></th>\n",
              "      <th>genre_top</th>\n",
              "      <th>track_id</th>\n",
              "      <th>comments</th>\n",
              "      <th>date_created</th>\n",
              "      <th>date_released</th>\n",
              "      <th>engineer</th>\n",
              "      <th>favorites</th>\n",
              "      <th>id</th>\n",
              "      <th>information</th>\n",
              "      <th>listens</th>\n",
              "      <th>producer</th>\n",
              "      <th>tags</th>\n",
              "      <th>title</th>\n",
              "      <th>tracks</th>\n",
              "      <th>type</th>\n",
              "      <th>active_year_begin</th>\n",
              "      <th>active_year_end</th>\n",
              "      <th>associated_labels</th>\n",
              "      <th>bio</th>\n",
              "      <th>comments.1</th>\n",
              "      <th>date_created.1</th>\n",
              "      <th>favorites.1</th>\n",
              "      <th>id.1</th>\n",
              "      <th>latitude</th>\n",
              "      <th>location</th>\n",
              "      <th>longitude</th>\n",
              "      <th>members</th>\n",
              "      <th>name</th>\n",
              "      <th>related_projects</th>\n",
              "      <th>tags.1</th>\n",
              "      <th>website</th>\n",
              "      <th>wikipedia_page</th>\n",
              "      <th>split</th>\n",
              "      <th>subset</th>\n",
              "      <th>bit_rate</th>\n",
              "      <th>comments.2</th>\n",
              "      <th>composer</th>\n",
              "      <th>date_created.2</th>\n",
              "      <th>date_recorded</th>\n",
              "      <th>duration</th>\n",
              "      <th>favorites.2</th>\n",
              "      <th>genres</th>\n",
              "      <th>genres_all</th>\n",
              "      <th>information.1</th>\n",
              "      <th>interest</th>\n",
              "      <th>language_code</th>\n",
              "      <th>license</th>\n",
              "      <th>listens.1</th>\n",
              "      <th>lyricist</th>\n",
              "      <th>number</th>\n",
              "      <th>publisher</th>\n",
              "      <th>tags.2</th>\n",
              "      <th>title.1</th>\n",
              "    </tr>\n",
              "  </thead>\n",
              "  <tbody>\n",
              "    <tr>\n",
              "      <th>1</th>\n",
              "      <td>Hip-Hop</td>\n",
              "      <td>2</td>\n",
              "      <td>0.0</td>\n",
              "      <td>2008-11-26 01:44:45</td>\n",
              "      <td>2009-01-05 00:00:00</td>\n",
              "      <td>NaN</td>\n",
              "      <td>4.0</td>\n",
              "      <td>1.0</td>\n",
              "      <td>&lt;p&gt;&lt;/p&gt;</td>\n",
              "      <td>6073.0</td>\n",
              "      <td>NaN</td>\n",
              "      <td>[]</td>\n",
              "      <td>AWOL - A Way Of Life</td>\n",
              "      <td>7.0</td>\n",
              "      <td>Album</td>\n",
              "      <td>2006-01-01 00:00:00</td>\n",
              "      <td>NaN</td>\n",
              "      <td>NaN</td>\n",
              "      <td>&lt;p&gt;A Way Of Life, A Collective of Hip-Hop from...</td>\n",
              "      <td>0.0</td>\n",
              "      <td>2008-11-26 01:42:32</td>\n",
              "      <td>9.0</td>\n",
              "      <td>1.0</td>\n",
              "      <td>40.058324</td>\n",
              "      <td>New Jersey</td>\n",
              "      <td>-74.405661</td>\n",
              "      <td>Sajje Morocco,Brownbum,ZawidaGod,Custodian of ...</td>\n",
              "      <td>AWOL</td>\n",
              "      <td>The list of past projects is 2 long but every1...</td>\n",
              "      <td>['awol']</td>\n",
              "      <td>http://www.AzillionRecords.blogspot.com</td>\n",
              "      <td>NaN</td>\n",
              "      <td>training</td>\n",
              "      <td>small</td>\n",
              "      <td>256000.0</td>\n",
              "      <td>0.0</td>\n",
              "      <td>NaN</td>\n",
              "      <td>2008-11-26 01:48:12</td>\n",
              "      <td>2008-11-26 00:00:00</td>\n",
              "      <td>168.0</td>\n",
              "      <td>2.0</td>\n",
              "      <td>[21]</td>\n",
              "      <td>[21]</td>\n",
              "      <td>NaN</td>\n",
              "      <td>4656.0</td>\n",
              "      <td>en</td>\n",
              "      <td>Attribution-NonCommercial-ShareAlike 3.0 Inter...</td>\n",
              "      <td>1293.0</td>\n",
              "      <td>NaN</td>\n",
              "      <td>3.0</td>\n",
              "      <td>NaN</td>\n",
              "      <td>[]</td>\n",
              "      <td>Food</td>\n",
              "    </tr>\n",
              "    <tr>\n",
              "      <th>2</th>\n",
              "      <td>Hip-Hop</td>\n",
              "      <td>3</td>\n",
              "      <td>0.0</td>\n",
              "      <td>2008-11-26 01:44:45</td>\n",
              "      <td>2009-01-05 00:00:00</td>\n",
              "      <td>NaN</td>\n",
              "      <td>4.0</td>\n",
              "      <td>1.0</td>\n",
              "      <td>&lt;p&gt;&lt;/p&gt;</td>\n",
              "      <td>6073.0</td>\n",
              "      <td>NaN</td>\n",
              "      <td>[]</td>\n",
              "      <td>AWOL - A Way Of Life</td>\n",
              "      <td>7.0</td>\n",
              "      <td>Album</td>\n",
              "      <td>2006-01-01 00:00:00</td>\n",
              "      <td>NaN</td>\n",
              "      <td>NaN</td>\n",
              "      <td>&lt;p&gt;A Way Of Life, A Collective of Hip-Hop from...</td>\n",
              "      <td>0.0</td>\n",
              "      <td>2008-11-26 01:42:32</td>\n",
              "      <td>9.0</td>\n",
              "      <td>1.0</td>\n",
              "      <td>40.058324</td>\n",
              "      <td>New Jersey</td>\n",
              "      <td>-74.405661</td>\n",
              "      <td>Sajje Morocco,Brownbum,ZawidaGod,Custodian of ...</td>\n",
              "      <td>AWOL</td>\n",
              "      <td>The list of past projects is 2 long but every1...</td>\n",
              "      <td>['awol']</td>\n",
              "      <td>http://www.AzillionRecords.blogspot.com</td>\n",
              "      <td>NaN</td>\n",
              "      <td>training</td>\n",
              "      <td>medium</td>\n",
              "      <td>256000.0</td>\n",
              "      <td>0.0</td>\n",
              "      <td>NaN</td>\n",
              "      <td>2008-11-26 01:48:14</td>\n",
              "      <td>2008-11-26 00:00:00</td>\n",
              "      <td>237.0</td>\n",
              "      <td>1.0</td>\n",
              "      <td>[21]</td>\n",
              "      <td>[21]</td>\n",
              "      <td>NaN</td>\n",
              "      <td>1470.0</td>\n",
              "      <td>en</td>\n",
              "      <td>Attribution-NonCommercial-ShareAlike 3.0 Inter...</td>\n",
              "      <td>514.0</td>\n",
              "      <td>NaN</td>\n",
              "      <td>4.0</td>\n",
              "      <td>NaN</td>\n",
              "      <td>[]</td>\n",
              "      <td>Electric Ave</td>\n",
              "    </tr>\n",
              "    <tr>\n",
              "      <th>3</th>\n",
              "      <td>Hip-Hop</td>\n",
              "      <td>5</td>\n",
              "      <td>0.0</td>\n",
              "      <td>2008-11-26 01:44:45</td>\n",
              "      <td>2009-01-05 00:00:00</td>\n",
              "      <td>NaN</td>\n",
              "      <td>4.0</td>\n",
              "      <td>1.0</td>\n",
              "      <td>&lt;p&gt;&lt;/p&gt;</td>\n",
              "      <td>6073.0</td>\n",
              "      <td>NaN</td>\n",
              "      <td>[]</td>\n",
              "      <td>AWOL - A Way Of Life</td>\n",
              "      <td>7.0</td>\n",
              "      <td>Album</td>\n",
              "      <td>2006-01-01 00:00:00</td>\n",
              "      <td>NaN</td>\n",
              "      <td>NaN</td>\n",
              "      <td>&lt;p&gt;A Way Of Life, A Collective of Hip-Hop from...</td>\n",
              "      <td>0.0</td>\n",
              "      <td>2008-11-26 01:42:32</td>\n",
              "      <td>9.0</td>\n",
              "      <td>1.0</td>\n",
              "      <td>40.058324</td>\n",
              "      <td>New Jersey</td>\n",
              "      <td>-74.405661</td>\n",
              "      <td>Sajje Morocco,Brownbum,ZawidaGod,Custodian of ...</td>\n",
              "      <td>AWOL</td>\n",
              "      <td>The list of past projects is 2 long but every1...</td>\n",
              "      <td>['awol']</td>\n",
              "      <td>http://www.AzillionRecords.blogspot.com</td>\n",
              "      <td>NaN</td>\n",
              "      <td>training</td>\n",
              "      <td>small</td>\n",
              "      <td>256000.0</td>\n",
              "      <td>0.0</td>\n",
              "      <td>NaN</td>\n",
              "      <td>2008-11-26 01:48:20</td>\n",
              "      <td>2008-11-26 00:00:00</td>\n",
              "      <td>206.0</td>\n",
              "      <td>6.0</td>\n",
              "      <td>[21]</td>\n",
              "      <td>[21]</td>\n",
              "      <td>NaN</td>\n",
              "      <td>1933.0</td>\n",
              "      <td>en</td>\n",
              "      <td>Attribution-NonCommercial-ShareAlike 3.0 Inter...</td>\n",
              "      <td>1151.0</td>\n",
              "      <td>NaN</td>\n",
              "      <td>6.0</td>\n",
              "      <td>NaN</td>\n",
              "      <td>[]</td>\n",
              "      <td>This World</td>\n",
              "    </tr>\n",
              "    <tr>\n",
              "      <th>4</th>\n",
              "      <td>Pop</td>\n",
              "      <td>10</td>\n",
              "      <td>0.0</td>\n",
              "      <td>2008-11-26 01:45:08</td>\n",
              "      <td>2008-02-06 00:00:00</td>\n",
              "      <td>NaN</td>\n",
              "      <td>4.0</td>\n",
              "      <td>6.0</td>\n",
              "      <td>NaN</td>\n",
              "      <td>47632.0</td>\n",
              "      <td>NaN</td>\n",
              "      <td>[]</td>\n",
              "      <td>Constant Hitmaker</td>\n",
              "      <td>2.0</td>\n",
              "      <td>Album</td>\n",
              "      <td>NaN</td>\n",
              "      <td>NaN</td>\n",
              "      <td>Mexican Summer, Richie Records, Woodsist, Skul...</td>\n",
              "      <td>&lt;p&gt;&lt;span style=\"font-family:Verdana, Geneva, A...</td>\n",
              "      <td>3.0</td>\n",
              "      <td>2008-11-26 01:42:55</td>\n",
              "      <td>74.0</td>\n",
              "      <td>6.0</td>\n",
              "      <td>NaN</td>\n",
              "      <td>NaN</td>\n",
              "      <td>NaN</td>\n",
              "      <td>Kurt Vile, the Violators</td>\n",
              "      <td>Kurt Vile</td>\n",
              "      <td>NaN</td>\n",
              "      <td>['philly', 'kurt vile']</td>\n",
              "      <td>http://kurtvile.com</td>\n",
              "      <td>NaN</td>\n",
              "      <td>training</td>\n",
              "      <td>small</td>\n",
              "      <td>192000.0</td>\n",
              "      <td>0.0</td>\n",
              "      <td>Kurt Vile</td>\n",
              "      <td>2008-11-25 17:49:06</td>\n",
              "      <td>2008-11-26 00:00:00</td>\n",
              "      <td>161.0</td>\n",
              "      <td>178.0</td>\n",
              "      <td>[10]</td>\n",
              "      <td>[10]</td>\n",
              "      <td>NaN</td>\n",
              "      <td>54881.0</td>\n",
              "      <td>en</td>\n",
              "      <td>Attribution-NonCommercial-NoDerivatives (aka M...</td>\n",
              "      <td>50135.0</td>\n",
              "      <td>NaN</td>\n",
              "      <td>1.0</td>\n",
              "      <td>NaN</td>\n",
              "      <td>[]</td>\n",
              "      <td>Freeway</td>\n",
              "    </tr>\n",
              "    <tr>\n",
              "      <th>10</th>\n",
              "      <td>Hip-Hop</td>\n",
              "      <td>134</td>\n",
              "      <td>0.0</td>\n",
              "      <td>2008-11-26 01:44:45</td>\n",
              "      <td>2009-01-05 00:00:00</td>\n",
              "      <td>NaN</td>\n",
              "      <td>4.0</td>\n",
              "      <td>1.0</td>\n",
              "      <td>&lt;p&gt;&lt;/p&gt;</td>\n",
              "      <td>6073.0</td>\n",
              "      <td>NaN</td>\n",
              "      <td>[]</td>\n",
              "      <td>AWOL - A Way Of Life</td>\n",
              "      <td>7.0</td>\n",
              "      <td>Album</td>\n",
              "      <td>2006-01-01 00:00:00</td>\n",
              "      <td>NaN</td>\n",
              "      <td>NaN</td>\n",
              "      <td>&lt;p&gt;A Way Of Life, A Collective of Hip-Hop from...</td>\n",
              "      <td>0.0</td>\n",
              "      <td>2008-11-26 01:42:32</td>\n",
              "      <td>9.0</td>\n",
              "      <td>1.0</td>\n",
              "      <td>40.058324</td>\n",
              "      <td>New Jersey</td>\n",
              "      <td>-74.405661</td>\n",
              "      <td>Sajje Morocco,Brownbum,ZawidaGod,Custodian of ...</td>\n",
              "      <td>AWOL</td>\n",
              "      <td>The list of past projects is 2 long but every1...</td>\n",
              "      <td>['awol']</td>\n",
              "      <td>http://www.AzillionRecords.blogspot.com</td>\n",
              "      <td>NaN</td>\n",
              "      <td>training</td>\n",
              "      <td>medium</td>\n",
              "      <td>256000.0</td>\n",
              "      <td>0.0</td>\n",
              "      <td>NaN</td>\n",
              "      <td>2008-11-26 01:43:19</td>\n",
              "      <td>2008-11-26 00:00:00</td>\n",
              "      <td>207.0</td>\n",
              "      <td>3.0</td>\n",
              "      <td>[21]</td>\n",
              "      <td>[21]</td>\n",
              "      <td>NaN</td>\n",
              "      <td>1126.0</td>\n",
              "      <td>en</td>\n",
              "      <td>Attribution-NonCommercial-ShareAlike 3.0 Inter...</td>\n",
              "      <td>943.0</td>\n",
              "      <td>NaN</td>\n",
              "      <td>5.0</td>\n",
              "      <td>NaN</td>\n",
              "      <td>[]</td>\n",
              "      <td>Street Music</td>\n",
              "    </tr>\n",
              "  </tbody>\n",
              "</table>\n",
              "</div>"
            ],
            "text/plain": [
              "   genre_top track_id  comments         date_created        date_released  \\\n",
              "1    Hip-Hop        2       0.0  2008-11-26 01:44:45  2009-01-05 00:00:00   \n",
              "2    Hip-Hop        3       0.0  2008-11-26 01:44:45  2009-01-05 00:00:00   \n",
              "3    Hip-Hop        5       0.0  2008-11-26 01:44:45  2009-01-05 00:00:00   \n",
              "4        Pop       10       0.0  2008-11-26 01:45:08  2008-02-06 00:00:00   \n",
              "10   Hip-Hop      134       0.0  2008-11-26 01:44:45  2009-01-05 00:00:00   \n",
              "\n",
              "   engineer  favorites   id information  listens producer tags  \\\n",
              "1       NaN        4.0  1.0     <p></p>   6073.0      NaN   []   \n",
              "2       NaN        4.0  1.0     <p></p>   6073.0      NaN   []   \n",
              "3       NaN        4.0  1.0     <p></p>   6073.0      NaN   []   \n",
              "4       NaN        4.0  6.0         NaN  47632.0      NaN   []   \n",
              "10      NaN        4.0  1.0     <p></p>   6073.0      NaN   []   \n",
              "\n",
              "                   title  tracks   type    active_year_begin active_year_end  \\\n",
              "1   AWOL - A Way Of Life     7.0  Album  2006-01-01 00:00:00             NaN   \n",
              "2   AWOL - A Way Of Life     7.0  Album  2006-01-01 00:00:00             NaN   \n",
              "3   AWOL - A Way Of Life     7.0  Album  2006-01-01 00:00:00             NaN   \n",
              "4      Constant Hitmaker     2.0  Album                  NaN             NaN   \n",
              "10  AWOL - A Way Of Life     7.0  Album  2006-01-01 00:00:00             NaN   \n",
              "\n",
              "                                    associated_labels  \\\n",
              "1                                                 NaN   \n",
              "2                                                 NaN   \n",
              "3                                                 NaN   \n",
              "4   Mexican Summer, Richie Records, Woodsist, Skul...   \n",
              "10                                                NaN   \n",
              "\n",
              "                                                  bio  comments.1  \\\n",
              "1   <p>A Way Of Life, A Collective of Hip-Hop from...         0.0   \n",
              "2   <p>A Way Of Life, A Collective of Hip-Hop from...         0.0   \n",
              "3   <p>A Way Of Life, A Collective of Hip-Hop from...         0.0   \n",
              "4   <p><span style=\"font-family:Verdana, Geneva, A...         3.0   \n",
              "10  <p>A Way Of Life, A Collective of Hip-Hop from...         0.0   \n",
              "\n",
              "         date_created.1  favorites.1  id.1   latitude    location  longitude  \\\n",
              "1   2008-11-26 01:42:32          9.0   1.0  40.058324  New Jersey -74.405661   \n",
              "2   2008-11-26 01:42:32          9.0   1.0  40.058324  New Jersey -74.405661   \n",
              "3   2008-11-26 01:42:32          9.0   1.0  40.058324  New Jersey -74.405661   \n",
              "4   2008-11-26 01:42:55         74.0   6.0        NaN         NaN        NaN   \n",
              "10  2008-11-26 01:42:32          9.0   1.0  40.058324  New Jersey -74.405661   \n",
              "\n",
              "                                              members       name  \\\n",
              "1   Sajje Morocco,Brownbum,ZawidaGod,Custodian of ...       AWOL   \n",
              "2   Sajje Morocco,Brownbum,ZawidaGod,Custodian of ...       AWOL   \n",
              "3   Sajje Morocco,Brownbum,ZawidaGod,Custodian of ...       AWOL   \n",
              "4                            Kurt Vile, the Violators  Kurt Vile   \n",
              "10  Sajje Morocco,Brownbum,ZawidaGod,Custodian of ...       AWOL   \n",
              "\n",
              "                                     related_projects  \\\n",
              "1   The list of past projects is 2 long but every1...   \n",
              "2   The list of past projects is 2 long but every1...   \n",
              "3   The list of past projects is 2 long but every1...   \n",
              "4                                                 NaN   \n",
              "10  The list of past projects is 2 long but every1...   \n",
              "\n",
              "                     tags.1                                  website  \\\n",
              "1                  ['awol']  http://www.AzillionRecords.blogspot.com   \n",
              "2                  ['awol']  http://www.AzillionRecords.blogspot.com   \n",
              "3                  ['awol']  http://www.AzillionRecords.blogspot.com   \n",
              "4   ['philly', 'kurt vile']                      http://kurtvile.com   \n",
              "10                 ['awol']  http://www.AzillionRecords.blogspot.com   \n",
              "\n",
              "   wikipedia_page     split  subset  bit_rate  comments.2   composer  \\\n",
              "1             NaN  training   small  256000.0         0.0        NaN   \n",
              "2             NaN  training  medium  256000.0         0.0        NaN   \n",
              "3             NaN  training   small  256000.0         0.0        NaN   \n",
              "4             NaN  training   small  192000.0         0.0  Kurt Vile   \n",
              "10            NaN  training  medium  256000.0         0.0        NaN   \n",
              "\n",
              "         date_created.2        date_recorded  duration  favorites.2 genres  \\\n",
              "1   2008-11-26 01:48:12  2008-11-26 00:00:00     168.0          2.0   [21]   \n",
              "2   2008-11-26 01:48:14  2008-11-26 00:00:00     237.0          1.0   [21]   \n",
              "3   2008-11-26 01:48:20  2008-11-26 00:00:00     206.0          6.0   [21]   \n",
              "4   2008-11-25 17:49:06  2008-11-26 00:00:00     161.0        178.0   [10]   \n",
              "10  2008-11-26 01:43:19  2008-11-26 00:00:00     207.0          3.0   [21]   \n",
              "\n",
              "   genres_all information.1  interest language_code  \\\n",
              "1        [21]           NaN    4656.0            en   \n",
              "2        [21]           NaN    1470.0            en   \n",
              "3        [21]           NaN    1933.0            en   \n",
              "4        [10]           NaN   54881.0            en   \n",
              "10       [21]           NaN    1126.0            en   \n",
              "\n",
              "                                              license  listens.1 lyricist  \\\n",
              "1   Attribution-NonCommercial-ShareAlike 3.0 Inter...     1293.0      NaN   \n",
              "2   Attribution-NonCommercial-ShareAlike 3.0 Inter...      514.0      NaN   \n",
              "3   Attribution-NonCommercial-ShareAlike 3.0 Inter...     1151.0      NaN   \n",
              "4   Attribution-NonCommercial-NoDerivatives (aka M...    50135.0      NaN   \n",
              "10  Attribution-NonCommercial-ShareAlike 3.0 Inter...      943.0      NaN   \n",
              "\n",
              "    number publisher tags.2       title.1  \n",
              "1      3.0       NaN     []          Food  \n",
              "2      4.0       NaN     []  Electric Ave  \n",
              "3      6.0       NaN     []    This World  \n",
              "4      1.0       NaN     []       Freeway  \n",
              "10     5.0       NaN     []  Street Music  "
            ]
          },
          "metadata": {
            "tags": []
          },
          "execution_count": 72
        }
      ]
    },
    {
      "metadata": {
        "id": "ut-Zfhp2LjcS",
        "colab_type": "code",
        "colab": {
          "base_uri": "https://localhost:8080/",
          "height": 35
        },
        "outputId": "224c87e0-c42f-4cbe-9188-edcd5dfafccb"
      },
      "cell_type": "code",
      "source": [
        "garbage_columns = ['track_id','id', 'information','comments.1','title','bio',\n",
        "                   'members','website','wikipedia_page','split','subset',\n",
        "                   'comments.2','genres','genres_all','information.1','license','title.1']\n",
        "\n",
        "tracks2 = tracks.drop(columns=garbage_columns)\n",
        "tracks2.shape"
      ],
      "execution_count": 73,
      "outputs": [
        {
          "output_type": "execute_result",
          "data": {
            "text/plain": [
              "(49598, 36)"
            ]
          },
          "metadata": {
            "tags": []
          },
          "execution_count": 73
        }
      ]
    },
    {
      "metadata": {
        "id": "_qzn-IjIM1Pw",
        "colab_type": "code",
        "colab": {
          "base_uri": "https://localhost:8080/",
          "height": 689
        },
        "outputId": "c2c0a36d-d009-4fc5-cf85-9b107a2b95ee"
      },
      "cell_type": "code",
      "source": [
        "# Percentace of rows with null values for each column\n",
        "tracks2.isnull().sum() / len(tracks2) * 100"
      ],
      "execution_count": 74,
      "outputs": [
        {
          "output_type": "execute_result",
          "data": {
            "text/plain": [
              "genre_top             0.000000\n",
              "comments              0.000000\n",
              "date_created          2.119037\n",
              "date_released        32.432759\n",
              "engineer             82.033550\n",
              "favorites             0.000000\n",
              "listens               0.000000\n",
              "producer             79.382233\n",
              "tags                  0.000000\n",
              "tracks                0.000000\n",
              "type                  4.127183\n",
              "active_year_begin    80.680673\n",
              "active_year_end      95.165128\n",
              "associated_labels    87.614420\n",
              "date_created.1        0.433485\n",
              "favorites.1           0.000000\n",
              "id.1                  0.000000\n",
              "latitude             57.699907\n",
              "location             35.259486\n",
              "longitude            57.699907\n",
              "name                  0.000000\n",
              "related_projects     89.183032\n",
              "tags.1                0.000000\n",
              "bit_rate              0.000000\n",
              "composer             97.272067\n",
              "date_created.2        0.000000\n",
              "date_recorded        91.429090\n",
              "duration              0.000000\n",
              "favorites.2           0.000000\n",
              "interest              0.000000\n",
              "language_code        81.081898\n",
              "listens.1             0.000000\n",
              "lyricist             99.798379\n",
              "number                0.000000\n",
              "publisher            99.173354\n",
              "tags.2                0.000000\n",
              "dtype: float64"
            ]
          },
          "metadata": {
            "tags": []
          },
          "execution_count": 74
        }
      ]
    },
    {
      "metadata": {
        "id": "5DvMPiM8MZeY",
        "colab_type": "code",
        "colab": {
          "base_uri": "https://localhost:8080/",
          "height": 290
        },
        "outputId": "8b27bedb-71c5-4a25-812b-79b5e7af2276"
      },
      "cell_type": "code",
      "source": [
        "tracks_numeric = tracks2.select_dtypes('number')\n",
        "tracks_numeric.isnull().sum()"
      ],
      "execution_count": 75,
      "outputs": [
        {
          "output_type": "execute_result",
          "data": {
            "text/plain": [
              "comments           0\n",
              "favorites          0\n",
              "listens            0\n",
              "tracks             0\n",
              "favorites.1        0\n",
              "id.1               0\n",
              "latitude       28618\n",
              "longitude      28618\n",
              "bit_rate           0\n",
              "duration           0\n",
              "favorites.2        0\n",
              "interest           0\n",
              "listens.1          0\n",
              "number             0\n",
              "dtype: int64"
            ]
          },
          "metadata": {
            "tags": []
          },
          "execution_count": 75
        }
      ]
    },
    {
      "metadata": {
        "id": "O3-9zHwua9n5",
        "colab_type": "code",
        "colab": {
          "base_uri": "https://localhost:8080/",
          "height": 300
        },
        "outputId": "a7c340d0-e36d-4383-b0c1-1d5cb80e630f"
      },
      "cell_type": "code",
      "source": [
        "tracks_numeric = tracks_numeric.dropna(axis='columns')\n",
        "tracks_numeric.describe()"
      ],
      "execution_count": 76,
      "outputs": [
        {
          "output_type": "execute_result",
          "data": {
            "text/html": [
              "<div>\n",
              "<style scoped>\n",
              "    .dataframe tbody tr th:only-of-type {\n",
              "        vertical-align: middle;\n",
              "    }\n",
              "\n",
              "    .dataframe tbody tr th {\n",
              "        vertical-align: top;\n",
              "    }\n",
              "\n",
              "    .dataframe thead th {\n",
              "        text-align: right;\n",
              "    }\n",
              "</style>\n",
              "<table border=\"1\" class=\"dataframe\">\n",
              "  <thead>\n",
              "    <tr style=\"text-align: right;\">\n",
              "      <th></th>\n",
              "      <th>comments</th>\n",
              "      <th>favorites</th>\n",
              "      <th>listens</th>\n",
              "      <th>tracks</th>\n",
              "      <th>favorites.1</th>\n",
              "      <th>id.1</th>\n",
              "      <th>bit_rate</th>\n",
              "      <th>duration</th>\n",
              "      <th>favorites.2</th>\n",
              "      <th>interest</th>\n",
              "      <th>listens.1</th>\n",
              "      <th>number</th>\n",
              "    </tr>\n",
              "  </thead>\n",
              "  <tbody>\n",
              "    <tr>\n",
              "      <th>count</th>\n",
              "      <td>49598.000000</td>\n",
              "      <td>49598.000000</td>\n",
              "      <td>4.959800e+04</td>\n",
              "      <td>49598.000000</td>\n",
              "      <td>49598.000000</td>\n",
              "      <td>49598.000000</td>\n",
              "      <td>49598.000000</td>\n",
              "      <td>49598.000000</td>\n",
              "      <td>49598.000000</td>\n",
              "      <td>4.959800e+04</td>\n",
              "      <td>49598.000000</td>\n",
              "      <td>49598.000000</td>\n",
              "    </tr>\n",
              "    <tr>\n",
              "      <th>mean</th>\n",
              "      <td>0.333179</td>\n",
              "      <td>1.145449</td>\n",
              "      <td>1.997469e+04</td>\n",
              "      <td>21.763035</td>\n",
              "      <td>16.721602</td>\n",
              "      <td>11400.403786</td>\n",
              "      <td>260278.657930</td>\n",
              "      <td>268.627263</td>\n",
              "      <td>2.381447</td>\n",
              "      <td>2.523905e+03</td>\n",
              "      <td>1586.328380</td>\n",
              "      <td>8.545607</td>\n",
              "    </tr>\n",
              "    <tr>\n",
              "      <th>std</th>\n",
              "      <td>1.312889</td>\n",
              "      <td>2.463242</td>\n",
              "      <td>5.736980e+04</td>\n",
              "      <td>51.492489</td>\n",
              "      <td>58.966302</td>\n",
              "      <td>7046.466624</td>\n",
              "      <td>65663.862632</td>\n",
              "      <td>284.327919</td>\n",
              "      <td>11.147578</td>\n",
              "      <td>1.980285e+04</td>\n",
              "      <td>6039.952955</td>\n",
              "      <td>16.988260</td>\n",
              "    </tr>\n",
              "    <tr>\n",
              "      <th>min</th>\n",
              "      <td>-1.000000</td>\n",
              "      <td>-1.000000</td>\n",
              "      <td>-1.000000e+00</td>\n",
              "      <td>-1.000000</td>\n",
              "      <td>-1.000000</td>\n",
              "      <td>1.000000</td>\n",
              "      <td>-1.000000</td>\n",
              "      <td>0.000000</td>\n",
              "      <td>0.000000</td>\n",
              "      <td>2.000000e+00</td>\n",
              "      <td>1.000000</td>\n",
              "      <td>0.000000</td>\n",
              "    </tr>\n",
              "    <tr>\n",
              "      <th>25%</th>\n",
              "      <td>0.000000</td>\n",
              "      <td>0.000000</td>\n",
              "      <td>2.602000e+03</td>\n",
              "      <td>7.000000</td>\n",
              "      <td>1.000000</td>\n",
              "      <td>5449.000000</td>\n",
              "      <td>192000.000000</td>\n",
              "      <td>146.000000</td>\n",
              "      <td>0.000000</td>\n",
              "      <td>4.560000e+02</td>\n",
              "      <td>212.000000</td>\n",
              "      <td>2.000000</td>\n",
              "    </tr>\n",
              "    <tr>\n",
              "      <th>50%</th>\n",
              "      <td>0.000000</td>\n",
              "      <td>0.000000</td>\n",
              "      <td>6.092000e+03</td>\n",
              "      <td>11.000000</td>\n",
              "      <td>4.000000</td>\n",
              "      <td>11384.000000</td>\n",
              "      <td>256000.000000</td>\n",
              "      <td>211.000000</td>\n",
              "      <td>1.000000</td>\n",
              "      <td>9.380000e+02</td>\n",
              "      <td>520.000000</td>\n",
              "      <td>5.000000</td>\n",
              "    </tr>\n",
              "    <tr>\n",
              "      <th>75%</th>\n",
              "      <td>0.000000</td>\n",
              "      <td>1.000000</td>\n",
              "      <td>1.621900e+04</td>\n",
              "      <td>17.000000</td>\n",
              "      <td>12.000000</td>\n",
              "      <td>17450.000000</td>\n",
              "      <td>320000.000000</td>\n",
              "      <td>299.000000</td>\n",
              "      <td>2.000000</td>\n",
              "      <td>2.091000e+03</td>\n",
              "      <td>1321.000000</td>\n",
              "      <td>9.000000</td>\n",
              "    </tr>\n",
              "    <tr>\n",
              "      <th>max</th>\n",
              "      <td>17.000000</td>\n",
              "      <td>40.000000</td>\n",
              "      <td>1.193803e+06</td>\n",
              "      <td>652.000000</td>\n",
              "      <td>963.000000</td>\n",
              "      <td>24357.000000</td>\n",
              "      <td>448000.000000</td>\n",
              "      <td>11030.000000</td>\n",
              "      <td>1482.000000</td>\n",
              "      <td>3.293557e+06</td>\n",
              "      <td>543252.000000</td>\n",
              "      <td>255.000000</td>\n",
              "    </tr>\n",
              "  </tbody>\n",
              "</table>\n",
              "</div>"
            ],
            "text/plain": [
              "           comments     favorites       listens        tracks   favorites.1  \\\n",
              "count  49598.000000  49598.000000  4.959800e+04  49598.000000  49598.000000   \n",
              "mean       0.333179      1.145449  1.997469e+04     21.763035     16.721602   \n",
              "std        1.312889      2.463242  5.736980e+04     51.492489     58.966302   \n",
              "min       -1.000000     -1.000000 -1.000000e+00     -1.000000     -1.000000   \n",
              "25%        0.000000      0.000000  2.602000e+03      7.000000      1.000000   \n",
              "50%        0.000000      0.000000  6.092000e+03     11.000000      4.000000   \n",
              "75%        0.000000      1.000000  1.621900e+04     17.000000     12.000000   \n",
              "max       17.000000     40.000000  1.193803e+06    652.000000    963.000000   \n",
              "\n",
              "               id.1       bit_rate      duration   favorites.2      interest  \\\n",
              "count  49598.000000   49598.000000  49598.000000  49598.000000  4.959800e+04   \n",
              "mean   11400.403786  260278.657930    268.627263      2.381447  2.523905e+03   \n",
              "std     7046.466624   65663.862632    284.327919     11.147578  1.980285e+04   \n",
              "min        1.000000      -1.000000      0.000000      0.000000  2.000000e+00   \n",
              "25%     5449.000000  192000.000000    146.000000      0.000000  4.560000e+02   \n",
              "50%    11384.000000  256000.000000    211.000000      1.000000  9.380000e+02   \n",
              "75%    17450.000000  320000.000000    299.000000      2.000000  2.091000e+03   \n",
              "max    24357.000000  448000.000000  11030.000000   1482.000000  3.293557e+06   \n",
              "\n",
              "           listens.1        number  \n",
              "count   49598.000000  49598.000000  \n",
              "mean     1586.328380      8.545607  \n",
              "std      6039.952955     16.988260  \n",
              "min         1.000000      0.000000  \n",
              "25%       212.000000      2.000000  \n",
              "50%       520.000000      5.000000  \n",
              "75%      1321.000000      9.000000  \n",
              "max    543252.000000    255.000000  "
            ]
          },
          "metadata": {
            "tags": []
          },
          "execution_count": 76
        }
      ]
    },
    {
      "metadata": {
        "id": "NwTzPYsWZkcM",
        "colab_type": "code",
        "colab": {
          "base_uri": "https://localhost:8080/",
          "height": 35
        },
        "outputId": "2acfd2c4-890e-4d5e-c358-9aecafe5cdb0"
      },
      "cell_type": "code",
      "source": [
        "from sklearn.linear_model import LogisticRegression\n",
        "\n",
        "y = tracks2['genre_top']\n",
        "X = tracks_numeric\n",
        "\n",
        "# Split into train and test groups\n",
        "X_train, X_test, y_train, y_test = train_test_split(X, y, test_size=.5,\n",
        "                                                   random_state=42)\n",
        "log_reg = LogisticRegression(multi_class='ovr',\n",
        "                            solver='liblinear',\n",
        "                            max_iter=500).fit(X_train, y_train)\n",
        "log_reg.score(X_test, y_test)"
      ],
      "execution_count": 79,
      "outputs": [
        {
          "output_type": "execute_result",
          "data": {
            "text/plain": [
              "0.3859429815718376"
            ]
          },
          "metadata": {
            "tags": []
          },
          "execution_count": 79
        }
      ]
    },
    {
      "metadata": {
        "id": "btGNN0Fie3_7",
        "colab_type": "code",
        "colab": {
          "base_uri": "https://localhost:8080/",
          "height": 551
        },
        "outputId": "9f5ba0b9-f68c-4279-aec1-d8f170c1f486"
      },
      "cell_type": "code",
      "source": [
        "# Creating DF of abs(coeffs)\n",
        "model_coefs = pd.DataFrame(log_reg.coef_, \n",
        "                           columns = tracks_numeric.columns,\n",
        "                           index = log_reg.classes_).abs()\n",
        "\n",
        "model_coefs"
      ],
      "execution_count": 80,
      "outputs": [
        {
          "output_type": "execute_result",
          "data": {
            "text/html": [
              "<div>\n",
              "<style scoped>\n",
              "    .dataframe tbody tr th:only-of-type {\n",
              "        vertical-align: middle;\n",
              "    }\n",
              "\n",
              "    .dataframe tbody tr th {\n",
              "        vertical-align: top;\n",
              "    }\n",
              "\n",
              "    .dataframe thead th {\n",
              "        text-align: right;\n",
              "    }\n",
              "</style>\n",
              "<table border=\"1\" class=\"dataframe\">\n",
              "  <thead>\n",
              "    <tr style=\"text-align: right;\">\n",
              "      <th></th>\n",
              "      <th>comments</th>\n",
              "      <th>favorites</th>\n",
              "      <th>listens</th>\n",
              "      <th>tracks</th>\n",
              "      <th>favorites.1</th>\n",
              "      <th>id.1</th>\n",
              "      <th>bit_rate</th>\n",
              "      <th>duration</th>\n",
              "      <th>favorites.2</th>\n",
              "      <th>interest</th>\n",
              "      <th>listens.1</th>\n",
              "      <th>number</th>\n",
              "    </tr>\n",
              "  </thead>\n",
              "  <tbody>\n",
              "    <tr>\n",
              "      <th>Blues</th>\n",
              "      <td>0.002216</td>\n",
              "      <td>0.002138</td>\n",
              "      <td>2.511547e-06</td>\n",
              "      <td>0.047509</td>\n",
              "      <td>0.001482</td>\n",
              "      <td>1.187876e-04</td>\n",
              "      <td>1.721635e-05</td>\n",
              "      <td>0.002742</td>\n",
              "      <td>0.027618</td>\n",
              "      <td>0.000013</td>\n",
              "      <td>0.000007</td>\n",
              "      <td>0.041422</td>\n",
              "    </tr>\n",
              "    <tr>\n",
              "      <th>Classical</th>\n",
              "      <td>0.000159</td>\n",
              "      <td>0.001114</td>\n",
              "      <td>8.790122e-06</td>\n",
              "      <td>0.006650</td>\n",
              "      <td>0.001246</td>\n",
              "      <td>2.403053e-05</td>\n",
              "      <td>1.435025e-05</td>\n",
              "      <td>0.000333</td>\n",
              "      <td>0.000684</td>\n",
              "      <td>0.000004</td>\n",
              "      <td>0.000018</td>\n",
              "      <td>0.000194</td>\n",
              "    </tr>\n",
              "    <tr>\n",
              "      <th>Country</th>\n",
              "      <td>0.000351</td>\n",
              "      <td>0.002537</td>\n",
              "      <td>4.004578e-06</td>\n",
              "      <td>0.101806</td>\n",
              "      <td>0.001185</td>\n",
              "      <td>3.295843e-05</td>\n",
              "      <td>1.071885e-05</td>\n",
              "      <td>0.007310</td>\n",
              "      <td>0.004041</td>\n",
              "      <td>0.000025</td>\n",
              "      <td>0.000021</td>\n",
              "      <td>0.025974</td>\n",
              "    </tr>\n",
              "    <tr>\n",
              "      <th>Easy Listening</th>\n",
              "      <td>0.001077</td>\n",
              "      <td>0.001079</td>\n",
              "      <td>1.777963e-05</td>\n",
              "      <td>0.122904</td>\n",
              "      <td>0.008803</td>\n",
              "      <td>9.941423e-05</td>\n",
              "      <td>1.360111e-05</td>\n",
              "      <td>0.006531</td>\n",
              "      <td>0.006450</td>\n",
              "      <td>0.001620</td>\n",
              "      <td>0.001229</td>\n",
              "      <td>0.058545</td>\n",
              "    </tr>\n",
              "    <tr>\n",
              "      <th>Electronic</th>\n",
              "      <td>0.000015</td>\n",
              "      <td>0.000032</td>\n",
              "      <td>1.193056e-06</td>\n",
              "      <td>0.001375</td>\n",
              "      <td>0.000003</td>\n",
              "      <td>1.645735e-05</td>\n",
              "      <td>3.650037e-06</td>\n",
              "      <td>0.000734</td>\n",
              "      <td>0.000093</td>\n",
              "      <td>0.000004</td>\n",
              "      <td>0.000032</td>\n",
              "      <td>0.000516</td>\n",
              "    </tr>\n",
              "    <tr>\n",
              "      <th>Experimental</th>\n",
              "      <td>0.000361</td>\n",
              "      <td>0.000098</td>\n",
              "      <td>2.541137e-05</td>\n",
              "      <td>0.018514</td>\n",
              "      <td>0.003923</td>\n",
              "      <td>1.140080e-05</td>\n",
              "      <td>4.382287e-06</td>\n",
              "      <td>0.001105</td>\n",
              "      <td>0.001739</td>\n",
              "      <td>0.000066</td>\n",
              "      <td>0.000383</td>\n",
              "      <td>0.008168</td>\n",
              "    </tr>\n",
              "    <tr>\n",
              "      <th>Folk</th>\n",
              "      <td>0.000004</td>\n",
              "      <td>0.000265</td>\n",
              "      <td>1.012971e-05</td>\n",
              "      <td>0.003541</td>\n",
              "      <td>0.005108</td>\n",
              "      <td>1.463720e-05</td>\n",
              "      <td>7.928983e-06</td>\n",
              "      <td>0.001452</td>\n",
              "      <td>0.000336</td>\n",
              "      <td>0.000130</td>\n",
              "      <td>0.000050</td>\n",
              "      <td>0.003063</td>\n",
              "    </tr>\n",
              "    <tr>\n",
              "      <th>Hip-Hop</th>\n",
              "      <td>0.000029</td>\n",
              "      <td>0.000075</td>\n",
              "      <td>1.180461e-07</td>\n",
              "      <td>0.005405</td>\n",
              "      <td>0.000685</td>\n",
              "      <td>2.186679e-05</td>\n",
              "      <td>3.984224e-06</td>\n",
              "      <td>0.004811</td>\n",
              "      <td>0.000176</td>\n",
              "      <td>0.000079</td>\n",
              "      <td>0.000082</td>\n",
              "      <td>0.000897</td>\n",
              "    </tr>\n",
              "    <tr>\n",
              "      <th>Instrumental</th>\n",
              "      <td>0.001284</td>\n",
              "      <td>0.000443</td>\n",
              "      <td>7.039339e-06</td>\n",
              "      <td>0.017911</td>\n",
              "      <td>0.007066</td>\n",
              "      <td>4.661808e-05</td>\n",
              "      <td>1.205491e-05</td>\n",
              "      <td>0.002105</td>\n",
              "      <td>0.001168</td>\n",
              "      <td>0.000617</td>\n",
              "      <td>0.000735</td>\n",
              "      <td>0.001257</td>\n",
              "    </tr>\n",
              "    <tr>\n",
              "      <th>International</th>\n",
              "      <td>0.001948</td>\n",
              "      <td>0.001924</td>\n",
              "      <td>8.294091e-06</td>\n",
              "      <td>0.059855</td>\n",
              "      <td>0.018524</td>\n",
              "      <td>2.059851e-05</td>\n",
              "      <td>9.259026e-06</td>\n",
              "      <td>0.000504</td>\n",
              "      <td>0.003891</td>\n",
              "      <td>0.000005</td>\n",
              "      <td>0.000002</td>\n",
              "      <td>0.022770</td>\n",
              "    </tr>\n",
              "    <tr>\n",
              "      <th>Jazz</th>\n",
              "      <td>0.001062</td>\n",
              "      <td>0.004988</td>\n",
              "      <td>5.074417e-06</td>\n",
              "      <td>0.068653</td>\n",
              "      <td>0.002356</td>\n",
              "      <td>6.935676e-05</td>\n",
              "      <td>1.199035e-05</td>\n",
              "      <td>0.000060</td>\n",
              "      <td>0.011106</td>\n",
              "      <td>0.000016</td>\n",
              "      <td>0.000019</td>\n",
              "      <td>0.035498</td>\n",
              "    </tr>\n",
              "    <tr>\n",
              "      <th>Old-Time / Historic</th>\n",
              "      <td>0.004738</td>\n",
              "      <td>0.000595</td>\n",
              "      <td>1.997710e-05</td>\n",
              "      <td>0.053374</td>\n",
              "      <td>0.120173</td>\n",
              "      <td>9.369285e-05</td>\n",
              "      <td>4.583792e-06</td>\n",
              "      <td>0.004726</td>\n",
              "      <td>0.031442</td>\n",
              "      <td>0.000183</td>\n",
              "      <td>0.000195</td>\n",
              "      <td>0.107240</td>\n",
              "    </tr>\n",
              "    <tr>\n",
              "      <th>Pop</th>\n",
              "      <td>0.000059</td>\n",
              "      <td>0.000178</td>\n",
              "      <td>5.131192e-06</td>\n",
              "      <td>0.003580</td>\n",
              "      <td>0.000206</td>\n",
              "      <td>2.616502e-05</td>\n",
              "      <td>8.547841e-06</td>\n",
              "      <td>0.002915</td>\n",
              "      <td>0.000047</td>\n",
              "      <td>0.000299</td>\n",
              "      <td>0.000298</td>\n",
              "      <td>0.001151</td>\n",
              "    </tr>\n",
              "    <tr>\n",
              "      <th>Rock</th>\n",
              "      <td>0.000009</td>\n",
              "      <td>0.000010</td>\n",
              "      <td>2.366261e-05</td>\n",
              "      <td>0.002585</td>\n",
              "      <td>0.001432</td>\n",
              "      <td>2.515305e-07</td>\n",
              "      <td>5.864120e-07</td>\n",
              "      <td>0.001411</td>\n",
              "      <td>0.000036</td>\n",
              "      <td>0.000156</td>\n",
              "      <td>0.000174</td>\n",
              "      <td>0.000926</td>\n",
              "    </tr>\n",
              "    <tr>\n",
              "      <th>Soul-RnB</th>\n",
              "      <td>0.001325</td>\n",
              "      <td>0.000562</td>\n",
              "      <td>1.561000e-06</td>\n",
              "      <td>0.042092</td>\n",
              "      <td>0.003386</td>\n",
              "      <td>2.653515e-05</td>\n",
              "      <td>1.638158e-05</td>\n",
              "      <td>0.004884</td>\n",
              "      <td>0.003963</td>\n",
              "      <td>0.000005</td>\n",
              "      <td>0.000014</td>\n",
              "      <td>0.015675</td>\n",
              "    </tr>\n",
              "    <tr>\n",
              "      <th>Spoken</th>\n",
              "      <td>0.001024</td>\n",
              "      <td>0.002559</td>\n",
              "      <td>1.390799e-05</td>\n",
              "      <td>0.004260</td>\n",
              "      <td>0.018321</td>\n",
              "      <td>7.261688e-05</td>\n",
              "      <td>1.641116e-05</td>\n",
              "      <td>0.000610</td>\n",
              "      <td>0.004013</td>\n",
              "      <td>0.000058</td>\n",
              "      <td>0.000292</td>\n",
              "      <td>0.012137</td>\n",
              "    </tr>\n",
              "  </tbody>\n",
              "</table>\n",
              "</div>"
            ],
            "text/plain": [
              "                     comments  favorites       listens    tracks  favorites.1  \\\n",
              "Blues                0.002216   0.002138  2.511547e-06  0.047509     0.001482   \n",
              "Classical            0.000159   0.001114  8.790122e-06  0.006650     0.001246   \n",
              "Country              0.000351   0.002537  4.004578e-06  0.101806     0.001185   \n",
              "Easy Listening       0.001077   0.001079  1.777963e-05  0.122904     0.008803   \n",
              "Electronic           0.000015   0.000032  1.193056e-06  0.001375     0.000003   \n",
              "Experimental         0.000361   0.000098  2.541137e-05  0.018514     0.003923   \n",
              "Folk                 0.000004   0.000265  1.012971e-05  0.003541     0.005108   \n",
              "Hip-Hop              0.000029   0.000075  1.180461e-07  0.005405     0.000685   \n",
              "Instrumental         0.001284   0.000443  7.039339e-06  0.017911     0.007066   \n",
              "International        0.001948   0.001924  8.294091e-06  0.059855     0.018524   \n",
              "Jazz                 0.001062   0.004988  5.074417e-06  0.068653     0.002356   \n",
              "Old-Time / Historic  0.004738   0.000595  1.997710e-05  0.053374     0.120173   \n",
              "Pop                  0.000059   0.000178  5.131192e-06  0.003580     0.000206   \n",
              "Rock                 0.000009   0.000010  2.366261e-05  0.002585     0.001432   \n",
              "Soul-RnB             0.001325   0.000562  1.561000e-06  0.042092     0.003386   \n",
              "Spoken               0.001024   0.002559  1.390799e-05  0.004260     0.018321   \n",
              "\n",
              "                             id.1      bit_rate  duration  favorites.2  \\\n",
              "Blues                1.187876e-04  1.721635e-05  0.002742     0.027618   \n",
              "Classical            2.403053e-05  1.435025e-05  0.000333     0.000684   \n",
              "Country              3.295843e-05  1.071885e-05  0.007310     0.004041   \n",
              "Easy Listening       9.941423e-05  1.360111e-05  0.006531     0.006450   \n",
              "Electronic           1.645735e-05  3.650037e-06  0.000734     0.000093   \n",
              "Experimental         1.140080e-05  4.382287e-06  0.001105     0.001739   \n",
              "Folk                 1.463720e-05  7.928983e-06  0.001452     0.000336   \n",
              "Hip-Hop              2.186679e-05  3.984224e-06  0.004811     0.000176   \n",
              "Instrumental         4.661808e-05  1.205491e-05  0.002105     0.001168   \n",
              "International        2.059851e-05  9.259026e-06  0.000504     0.003891   \n",
              "Jazz                 6.935676e-05  1.199035e-05  0.000060     0.011106   \n",
              "Old-Time / Historic  9.369285e-05  4.583792e-06  0.004726     0.031442   \n",
              "Pop                  2.616502e-05  8.547841e-06  0.002915     0.000047   \n",
              "Rock                 2.515305e-07  5.864120e-07  0.001411     0.000036   \n",
              "Soul-RnB             2.653515e-05  1.638158e-05  0.004884     0.003963   \n",
              "Spoken               7.261688e-05  1.641116e-05  0.000610     0.004013   \n",
              "\n",
              "                     interest  listens.1    number  \n",
              "Blues                0.000013   0.000007  0.041422  \n",
              "Classical            0.000004   0.000018  0.000194  \n",
              "Country              0.000025   0.000021  0.025974  \n",
              "Easy Listening       0.001620   0.001229  0.058545  \n",
              "Electronic           0.000004   0.000032  0.000516  \n",
              "Experimental         0.000066   0.000383  0.008168  \n",
              "Folk                 0.000130   0.000050  0.003063  \n",
              "Hip-Hop              0.000079   0.000082  0.000897  \n",
              "Instrumental         0.000617   0.000735  0.001257  \n",
              "International        0.000005   0.000002  0.022770  \n",
              "Jazz                 0.000016   0.000019  0.035498  \n",
              "Old-Time / Historic  0.000183   0.000195  0.107240  \n",
              "Pop                  0.000299   0.000298  0.001151  \n",
              "Rock                 0.000156   0.000174  0.000926  \n",
              "Soul-RnB             0.000005   0.000014  0.015675  \n",
              "Spoken               0.000058   0.000292  0.012137  "
            ]
          },
          "metadata": {
            "tags": []
          },
          "execution_count": 80
        }
      ]
    },
    {
      "metadata": {
        "id": "AkTYgLEX22uh",
        "colab_type": "code",
        "colab": {
          "base_uri": "https://localhost:8080/",
          "height": 253
        },
        "outputId": "65348004-997b-463a-9ee7-6dfa62c88cd2"
      },
      "cell_type": "code",
      "source": [
        "model_coefs.mean().sort_values(ascending=False)"
      ],
      "execution_count": 81,
      "outputs": [
        {
          "output_type": "execute_result",
          "data": {
            "text/plain": [
              "tracks         0.035001\n",
              "number         0.020965\n",
              "favorites.1    0.012119\n",
              "favorites.2    0.006050\n",
              "duration       0.002640\n",
              "favorites      0.001162\n",
              "comments       0.000979\n",
              "listens.1      0.000222\n",
              "interest       0.000205\n",
              "id.1           0.000043\n",
              "bit_rate       0.000010\n",
              "listens        0.000010\n",
              "dtype: float64"
            ]
          },
          "metadata": {
            "tags": []
          },
          "execution_count": 81
        }
      ]
    },
    {
      "metadata": {
        "id": "uyfIQDN32_O5",
        "colab_type": "code",
        "colab": {
          "base_uri": "https://localhost:8080/",
          "height": 126
        },
        "outputId": "71e0723e-a581-4d14-e0bf-2462799018f2"
      },
      "cell_type": "code",
      "source": [
        "tracks_categorical = tracks2.select_dtypes(exclude='number')\n",
        "tracks_categorical.columns"
      ],
      "execution_count": 82,
      "outputs": [
        {
          "output_type": "execute_result",
          "data": {
            "text/plain": [
              "Index(['genre_top', 'date_created', 'date_released', 'engineer', 'producer',\n",
              "       'tags', 'type', 'active_year_begin', 'active_year_end',\n",
              "       'associated_labels', 'date_created.1', 'location', 'name',\n",
              "       'related_projects', 'tags.1', 'composer', 'date_created.2',\n",
              "       'date_recorded', 'language_code', 'lyricist', 'publisher', 'tags.2'],\n",
              "      dtype='object')"
            ]
          },
          "metadata": {
            "tags": []
          },
          "execution_count": 82
        }
      ]
    },
    {
      "metadata": {
        "id": "GM2Ppj0U3pFl",
        "colab_type": "code",
        "colab": {
          "base_uri": "https://localhost:8080/",
          "height": 247
        },
        "outputId": "a6ffcb92-d678-46fc-8153-affefb95a958"
      },
      "cell_type": "code",
      "source": [
        "date_columns = ['date_created', 'date_released','active_year_begin', \n",
        "               'active_year_end','date_created.1','date_created.2',\n",
        "               'date_recorded']\n",
        "tracks_categorical = tracks_categorical.drop(columns=date_columns)\n",
        "tracks_categorical.describe()"
      ],
      "execution_count": 85,
      "outputs": [
        {
          "output_type": "execute_result",
          "data": {
            "text/html": [
              "<div>\n",
              "<style scoped>\n",
              "    .dataframe tbody tr th:only-of-type {\n",
              "        vertical-align: middle;\n",
              "    }\n",
              "\n",
              "    .dataframe tbody tr th {\n",
              "        vertical-align: top;\n",
              "    }\n",
              "\n",
              "    .dataframe thead th {\n",
              "        text-align: right;\n",
              "    }\n",
              "</style>\n",
              "<table border=\"1\" class=\"dataframe\">\n",
              "  <thead>\n",
              "    <tr style=\"text-align: right;\">\n",
              "      <th></th>\n",
              "      <th>genre_top</th>\n",
              "      <th>engineer</th>\n",
              "      <th>producer</th>\n",
              "      <th>tags</th>\n",
              "      <th>type</th>\n",
              "      <th>associated_labels</th>\n",
              "      <th>location</th>\n",
              "      <th>name</th>\n",
              "      <th>related_projects</th>\n",
              "      <th>tags.1</th>\n",
              "      <th>composer</th>\n",
              "      <th>language_code</th>\n",
              "      <th>lyricist</th>\n",
              "      <th>publisher</th>\n",
              "      <th>tags.2</th>\n",
              "    </tr>\n",
              "  </thead>\n",
              "  <tbody>\n",
              "    <tr>\n",
              "      <th>count</th>\n",
              "      <td>49598</td>\n",
              "      <td>8911</td>\n",
              "      <td>10226</td>\n",
              "      <td>49598</td>\n",
              "      <td>47551</td>\n",
              "      <td>6143</td>\n",
              "      <td>32110</td>\n",
              "      <td>49598</td>\n",
              "      <td>5365</td>\n",
              "      <td>49598</td>\n",
              "      <td>1353</td>\n",
              "      <td>9383</td>\n",
              "      <td>100</td>\n",
              "      <td>410</td>\n",
              "      <td>49598</td>\n",
              "    </tr>\n",
              "    <tr>\n",
              "      <th>unique</th>\n",
              "      <td>16</td>\n",
              "      <td>387</td>\n",
              "      <td>460</td>\n",
              "      <td>993</td>\n",
              "      <td>4</td>\n",
              "      <td>528</td>\n",
              "      <td>1564</td>\n",
              "      <td>9070</td>\n",
              "      <td>516</td>\n",
              "      <td>8833</td>\n",
              "      <td>285</td>\n",
              "      <td>19</td>\n",
              "      <td>27</td>\n",
              "      <td>89</td>\n",
              "      <td>1003</td>\n",
              "    </tr>\n",
              "    <tr>\n",
              "      <th>top</th>\n",
              "      <td>Rock</td>\n",
              "      <td>Ernie Indradat</td>\n",
              "      <td>Joe Belock</td>\n",
              "      <td>[]</td>\n",
              "      <td>Album</td>\n",
              "      <td>Care in the Community Recordings, Gagarin Reco...</td>\n",
              "      <td>Brooklyn, NY</td>\n",
              "      <td>James Kibbie</td>\n",
              "      <td>Drive Like Jehu, Hot Snakes, Pitchfork, Edsel,...</td>\n",
              "      <td>[]</td>\n",
              "      <td>J.S. Bach</td>\n",
              "      <td>en</td>\n",
              "      <td>Wesley Willis</td>\n",
              "      <td>www.headphonica.com</td>\n",
              "      <td>[]</td>\n",
              "    </tr>\n",
              "    <tr>\n",
              "      <th>freq</th>\n",
              "      <td>14182</td>\n",
              "      <td>602</td>\n",
              "      <td>700</td>\n",
              "      <td>40974</td>\n",
              "      <td>39140</td>\n",
              "      <td>168</td>\n",
              "      <td>1499</td>\n",
              "      <td>319</td>\n",
              "      <td>126</td>\n",
              "      <td>1233</td>\n",
              "      <td>346</td>\n",
              "      <td>9048</td>\n",
              "      <td>13</td>\n",
              "      <td>55</td>\n",
              "      <td>40854</td>\n",
              "    </tr>\n",
              "  </tbody>\n",
              "</table>\n",
              "</div>"
            ],
            "text/plain": [
              "       genre_top        engineer    producer   tags   type  \\\n",
              "count      49598            8911       10226  49598  47551   \n",
              "unique        16             387         460    993      4   \n",
              "top         Rock  Ernie Indradat  Joe Belock     []  Album   \n",
              "freq       14182             602         700  40974  39140   \n",
              "\n",
              "                                        associated_labels      location  \\\n",
              "count                                                6143         32110   \n",
              "unique                                                528          1564   \n",
              "top     Care in the Community Recordings, Gagarin Reco...  Brooklyn, NY   \n",
              "freq                                                  168          1499   \n",
              "\n",
              "                name                                   related_projects  \\\n",
              "count          49598                                               5365   \n",
              "unique          9070                                                516   \n",
              "top     James Kibbie  Drive Like Jehu, Hot Snakes, Pitchfork, Edsel,...   \n",
              "freq             319                                                126   \n",
              "\n",
              "       tags.1   composer language_code       lyricist            publisher  \\\n",
              "count   49598       1353          9383            100                  410   \n",
              "unique   8833        285            19             27                   89   \n",
              "top        []  J.S. Bach            en  Wesley Willis  www.headphonica.com   \n",
              "freq     1233        346          9048             13                   55   \n",
              "\n",
              "       tags.2  \n",
              "count   49598  \n",
              "unique   1003  \n",
              "top        []  \n",
              "freq    40854  "
            ]
          },
          "metadata": {
            "tags": []
          },
          "execution_count": 85
        }
      ]
    },
    {
      "metadata": {
        "id": "kQUVlUKQMPPW",
        "colab_type": "text"
      },
      "cell_type": "markdown",
      "source": [
        "This is the biggest data you've played with so far, and while it does generally fit in Colab, it can take awhile to run. That's part of the challenge!\n",
        "\n",
        "Your tasks:\n",
        "- Clean up the variable names in the dataframe\n",
        "- Use logistic regression to fit a model predicting (primary/top) genre\n",
        "- Inspect, iterate, and improve your model\n",
        "- Answer the following questions (written, ~paragraph each):\n",
        "  - What are the best predictors of genre?\n",
        "  - What information isn't very useful for predicting genre?\n",
        "  - What surprised you the most about your results?\n",
        "\n",
        "*Important caveats*:\n",
        "- This is going to be difficult data to work with - don't let the perfect be the enemy of the good!\n",
        "- Be creative in cleaning it up - if the best way you know how to do it is download it locally and edit as a spreadsheet, that's OK!\n",
        "- If the data size becomes problematic, consider sampling/subsetting\n",
        "- You do not need perfect or complete results - just something plausible that runs, and that supports the reasoning in your written answers\n",
        "\n",
        "If you find that fitting a model to classify *all* genres isn't very good, it's totally OK to limit to the most frequent genres, or perhaps trying to combine or cluster genres as a preprocessing step. Even then, there will be limits to how good a model can be with just this metadata - if you really want to train an effective genre classifier, you'll have to involve the other data (see stretch goals).\n",
        "\n",
        "This is real data - there is no \"one correct answer\", so you can take this in a variety of directions. Just make sure to support your findings, and feel free to share them as well! This is meant to be practice for dealing with other \"messy\" data, a common task in data science."
      ]
    },
    {
      "metadata": {
        "id": "F5LnOpbho0MD",
        "colab_type": "text"
      },
      "cell_type": "markdown",
      "source": [
        "**What are the best predictors of genre?**\n",
        "\n",
        "I found that the best predictors of genre are tracks, number, and favorites.1.\n",
        "\n",
        "**What information isn't very useful for predicting genre?**\n",
        "\n",
        "listens, bit_rate, id.1\n",
        "\n",
        "**What surprised you the most about your results?**\n",
        "\n",
        "I'm surprised pop music is not the most popular genre.\n"
      ]
    },
    {
      "metadata": {
        "id": "wlI5OXfSag9C",
        "colab_type": "text"
      },
      "cell_type": "markdown",
      "source": [
        "## Resources and stretch goals\n",
        "\n",
        "- Check out the other .csv files from the FMA dataset, and see if you can join them or otherwise fit interesting models with them\n",
        "- [Logistic regression from scratch in numpy](https://blog.goodaudience.com/logistic-regression-from-scratch-in-numpy-5841c09e425f) - if you want to dig in a bit more to both the code and math (also takes a gradient descent approach, introducing the logistic loss function)\n",
        "- Create a visualization to show predictions of your model - ideally show a confidence interval based on error!\n",
        "- Check out and compare classification models from scikit-learn, such as [SVM](https://scikit-learn.org/stable/modules/svm.html#classification), [decision trees](https://scikit-learn.org/stable/modules/tree.html#classification), and [naive Bayes](https://scikit-learn.org/stable/modules/naive_bayes.html). The underlying math will vary significantly, but the API (how you write the code) and interpretation will actually be fairly similar.\n",
        "- Sign up for [Kaggle](https://kaggle.com), and find a competition to try logistic regression with\n",
        "- (Not logistic regression related) If you enjoyed the assignment, you may want to read up on [music informatics](https://en.wikipedia.org/wiki/Music_informatics), which is how those audio features were actually calculated. The FMA includes the actual raw audio, so (while this is more of a longterm project than a stretch goal, and won't fit in Colab) if you'd like you can check those out and see what sort of deeper analysis you can do."
      ]
    }
  ]
}