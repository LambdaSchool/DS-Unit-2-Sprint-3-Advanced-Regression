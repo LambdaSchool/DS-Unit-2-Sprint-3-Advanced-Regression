{
  "nbformat": 4,
  "nbformat_minor": 0,
  "metadata": {
    "colab": {
      "name": "LS_DS_231_Logistic_Regression.ipynb",
      "version": "0.3.2",
      "provenance": [],
      "include_colab_link": true
    },
    "kernelspec": {
      "name": "python3",
      "display_name": "Python 3"
    }
  },
  "cells": [
    {
      "cell_type": "markdown",
      "metadata": {
        "id": "view-in-github",
        "colab_type": "text"
      },
      "source": [
        "<a href=\"https://colab.research.google.com/github/valogonor/DS-Unit-2-Sprint-3-Advanced-Regression/blob/master/LS_DS_231_Logistic_Regression.ipynb\" target=\"_parent\"><img src=\"https://colab.research.google.com/assets/colab-badge.svg\" alt=\"Open In Colab\"/></a>"
      ]
    },
    {
      "metadata": {
        "id": "N7SXF6jEBd5_",
        "colab_type": "text"
      },
      "cell_type": "markdown",
      "source": [
        "# Lambda School Data Science - Logistic Regression\n",
        "\n",
        "Logistic regression is the baseline for classification models, as well as a handy way to predict probabilities (since those too live in the unit interval). While relatively simple, it is also the foundation for more sophisticated classification techniques such as neural networks (many of which can effectively be thought of as networks of logistic models)."
      ]
    },
    {
      "metadata": {
        "id": "E7-AOngjadRN",
        "colab_type": "text"
      },
      "cell_type": "markdown",
      "source": [
        "## Lecture - Where Linear goes Wrong\n",
        "### Return of the Titanic 🚢\n",
        "\n",
        "You've likely already explored the rich dataset that is the Titanic - let's use regression and try to predict survival with it. The data is [available from Kaggle](https://www.kaggle.com/c/titanic/data), so we'll also play a bit with [the Kaggle API](https://github.com/Kaggle/kaggle-api)."
      ]
    },
    {
      "metadata": {
        "id": "MnHLWPYDcyIe",
        "colab_type": "code",
        "colab": {
          "base_uri": "https://localhost:8080/",
          "height": 217
        },
        "outputId": "006d59d7-e40d-401e-a53d-b2792e204172"
      },
      "cell_type": "code",
      "source": [
        "!pip install kaggle"
      ],
      "execution_count": 1,
      "outputs": [
        {
          "output_type": "stream",
          "text": [
            "Requirement already satisfied: kaggle in /usr/local/lib/python3.6/dist-packages (1.5.1.1)\n",
            "Requirement already satisfied: urllib3<1.23.0,>=1.15 in /usr/local/lib/python3.6/dist-packages (from kaggle) (1.22)\n",
            "Requirement already satisfied: six>=1.10 in /usr/local/lib/python3.6/dist-packages (from kaggle) (1.11.0)\n",
            "Requirement already satisfied: certifi in /usr/local/lib/python3.6/dist-packages (from kaggle) (2018.11.29)\n",
            "Requirement already satisfied: python-dateutil in /usr/local/lib/python3.6/dist-packages (from kaggle) (2.5.3)\n",
            "Requirement already satisfied: requests in /usr/local/lib/python3.6/dist-packages (from kaggle) (2.18.4)\n",
            "Requirement already satisfied: tqdm in /usr/local/lib/python3.6/dist-packages (from kaggle) (4.28.1)\n",
            "Requirement already satisfied: python-slugify in /usr/local/lib/python3.6/dist-packages (from kaggle) (2.0.1)\n",
            "Requirement already satisfied: chardet<3.1.0,>=3.0.2 in /usr/local/lib/python3.6/dist-packages (from requests->kaggle) (3.0.4)\n",
            "Requirement already satisfied: idna<2.7,>=2.5 in /usr/local/lib/python3.6/dist-packages (from requests->kaggle) (2.6)\n",
            "Requirement already satisfied: Unidecode>=0.04.16 in /usr/local/lib/python3.6/dist-packages (from python-slugify->kaggle) (1.0.23)\n"
          ],
          "name": "stdout"
        }
      ]
    },
    {
      "metadata": {
        "id": "wPgce-jQc5zi",
        "colab_type": "code",
        "colab": {
          "base_uri": "https://localhost:8080/",
          "height": 146
        },
        "outputId": "d4e2de12-4bab-4400-c511-465d506d748f"
      },
      "cell_type": "code",
      "source": [
        "# Note - you'll also have to sign up for Kaggle and authorize the API\n",
        "# https://github.com/Kaggle/kaggle-api#api-credentials\n",
        "\n",
        "# This essentially means uploading a kaggle.json file\n",
        "# For Colab we can have it in Google Drive\n",
        "from google.colab import drive\n",
        "drive.mount('/content/drive')\n",
        "%env KAGGLE_CONFIG_DIR=/content/drive/My Drive/\n",
        "\n",
        "# You also have to join the Titanic competition to have access to the data\n",
        "# !kaggle competitions download -c titanic"
      ],
      "execution_count": 2,
      "outputs": [
        {
          "output_type": "stream",
          "text": [
            "Go to this URL in a browser: https://accounts.google.com/o/oauth2/auth?client_id=947318989803-6bn6qk8qdgf4n4g3pfee6491hc0brc4i.apps.googleusercontent.com&redirect_uri=urn%3Aietf%3Awg%3Aoauth%3A2.0%3Aoob&scope=email%20https%3A%2F%2Fwww.googleapis.com%2Fauth%2Fdocs.test%20https%3A%2F%2Fwww.googleapis.com%2Fauth%2Fdrive%20https%3A%2F%2Fwww.googleapis.com%2Fauth%2Fdrive.photos.readonly%20https%3A%2F%2Fwww.googleapis.com%2Fauth%2Fpeopleapi.readonly&response_type=code\n",
            "\n",
            "Enter your authorization code:\n",
            "··········\n",
            "Mounted at /content/drive\n",
            "env: KAGGLE_CONFIG_DIR=/content/drive/My Drive/\n"
          ],
          "name": "stdout"
        }
      ]
    },
    {
      "metadata": {
        "id": "ATKZUEpilEYi",
        "colab_type": "code",
        "colab": {
          "base_uri": "https://localhost:8080/",
          "height": 181
        },
        "outputId": "cf88fcb4-c049-489a-d11d-009a5b1e0a87"
      },
      "cell_type": "code",
      "source": [
        "!kaggle competitions download -c titanic"
      ],
      "execution_count": 3,
      "outputs": [
        {
          "output_type": "stream",
          "text": [
            "Downloading train.csv to /content\n",
            "\r  0% 0.00/59.8k [00:00<?, ?B/s]\n",
            "100% 59.8k/59.8k [00:00<00:00, 18.9MB/s]\n",
            "Downloading test.csv to /content\n",
            "  0% 0.00/28.0k [00:00<?, ?B/s]\n",
            "100% 28.0k/28.0k [00:00<00:00, 23.3MB/s]\n",
            "Downloading gender_submission.csv to /content\n",
            "  0% 0.00/3.18k [00:00<?, ?B/s]\n",
            "100% 3.18k/3.18k [00:00<00:00, 3.12MB/s]\n"
          ],
          "name": "stdout"
        }
      ]
    },
    {
      "metadata": {
        "id": "-PtztP8YlFym",
        "colab_type": "code",
        "colab": {
          "base_uri": "https://localhost:8080/",
          "height": 206
        },
        "outputId": "f8a3fce7-e82b-4c0b-c01f-6bf45a52c1e8"
      },
      "cell_type": "code",
      "source": [
        "# How would we try to do this with linear regression?\n",
        "import pandas as pd\n",
        "\n",
        "train_df = pd.read_csv('train.csv').dropna()\n",
        "test_df = pd.read_csv('test.csv').dropna()  # Unlabeled, for Kaggle submission\n",
        "\n",
        "train_df.head()"
      ],
      "execution_count": 4,
      "outputs": [
        {
          "output_type": "execute_result",
          "data": {
            "text/html": [
              "<div>\n",
              "<style scoped>\n",
              "    .dataframe tbody tr th:only-of-type {\n",
              "        vertical-align: middle;\n",
              "    }\n",
              "\n",
              "    .dataframe tbody tr th {\n",
              "        vertical-align: top;\n",
              "    }\n",
              "\n",
              "    .dataframe thead th {\n",
              "        text-align: right;\n",
              "    }\n",
              "</style>\n",
              "<table border=\"1\" class=\"dataframe\">\n",
              "  <thead>\n",
              "    <tr style=\"text-align: right;\">\n",
              "      <th></th>\n",
              "      <th>PassengerId</th>\n",
              "      <th>Survived</th>\n",
              "      <th>Pclass</th>\n",
              "      <th>Name</th>\n",
              "      <th>Sex</th>\n",
              "      <th>Age</th>\n",
              "      <th>SibSp</th>\n",
              "      <th>Parch</th>\n",
              "      <th>Ticket</th>\n",
              "      <th>Fare</th>\n",
              "      <th>Cabin</th>\n",
              "      <th>Embarked</th>\n",
              "    </tr>\n",
              "  </thead>\n",
              "  <tbody>\n",
              "    <tr>\n",
              "      <th>1</th>\n",
              "      <td>2</td>\n",
              "      <td>1</td>\n",
              "      <td>1</td>\n",
              "      <td>Cumings, Mrs. John Bradley (Florence Briggs Th...</td>\n",
              "      <td>female</td>\n",
              "      <td>38.0</td>\n",
              "      <td>1</td>\n",
              "      <td>0</td>\n",
              "      <td>PC 17599</td>\n",
              "      <td>71.2833</td>\n",
              "      <td>C85</td>\n",
              "      <td>C</td>\n",
              "    </tr>\n",
              "    <tr>\n",
              "      <th>3</th>\n",
              "      <td>4</td>\n",
              "      <td>1</td>\n",
              "      <td>1</td>\n",
              "      <td>Futrelle, Mrs. Jacques Heath (Lily May Peel)</td>\n",
              "      <td>female</td>\n",
              "      <td>35.0</td>\n",
              "      <td>1</td>\n",
              "      <td>0</td>\n",
              "      <td>113803</td>\n",
              "      <td>53.1000</td>\n",
              "      <td>C123</td>\n",
              "      <td>S</td>\n",
              "    </tr>\n",
              "    <tr>\n",
              "      <th>6</th>\n",
              "      <td>7</td>\n",
              "      <td>0</td>\n",
              "      <td>1</td>\n",
              "      <td>McCarthy, Mr. Timothy J</td>\n",
              "      <td>male</td>\n",
              "      <td>54.0</td>\n",
              "      <td>0</td>\n",
              "      <td>0</td>\n",
              "      <td>17463</td>\n",
              "      <td>51.8625</td>\n",
              "      <td>E46</td>\n",
              "      <td>S</td>\n",
              "    </tr>\n",
              "    <tr>\n",
              "      <th>10</th>\n",
              "      <td>11</td>\n",
              "      <td>1</td>\n",
              "      <td>3</td>\n",
              "      <td>Sandstrom, Miss. Marguerite Rut</td>\n",
              "      <td>female</td>\n",
              "      <td>4.0</td>\n",
              "      <td>1</td>\n",
              "      <td>1</td>\n",
              "      <td>PP 9549</td>\n",
              "      <td>16.7000</td>\n",
              "      <td>G6</td>\n",
              "      <td>S</td>\n",
              "    </tr>\n",
              "    <tr>\n",
              "      <th>11</th>\n",
              "      <td>12</td>\n",
              "      <td>1</td>\n",
              "      <td>1</td>\n",
              "      <td>Bonnell, Miss. Elizabeth</td>\n",
              "      <td>female</td>\n",
              "      <td>58.0</td>\n",
              "      <td>0</td>\n",
              "      <td>0</td>\n",
              "      <td>113783</td>\n",
              "      <td>26.5500</td>\n",
              "      <td>C103</td>\n",
              "      <td>S</td>\n",
              "    </tr>\n",
              "  </tbody>\n",
              "</table>\n",
              "</div>"
            ],
            "text/plain": [
              "    PassengerId  Survived  Pclass  \\\n",
              "1             2         1       1   \n",
              "3             4         1       1   \n",
              "6             7         0       1   \n",
              "10           11         1       3   \n",
              "11           12         1       1   \n",
              "\n",
              "                                                 Name     Sex   Age  SibSp  \\\n",
              "1   Cumings, Mrs. John Bradley (Florence Briggs Th...  female  38.0      1   \n",
              "3        Futrelle, Mrs. Jacques Heath (Lily May Peel)  female  35.0      1   \n",
              "6                             McCarthy, Mr. Timothy J    male  54.0      0   \n",
              "10                    Sandstrom, Miss. Marguerite Rut  female   4.0      1   \n",
              "11                           Bonnell, Miss. Elizabeth  female  58.0      0   \n",
              "\n",
              "    Parch    Ticket     Fare Cabin Embarked  \n",
              "1       0  PC 17599  71.2833   C85        C  \n",
              "3       0    113803  53.1000  C123        S  \n",
              "6       0     17463  51.8625   E46        S  \n",
              "10      1   PP 9549  16.7000    G6        S  \n",
              "11      0    113783  26.5500  C103        S  "
            ]
          },
          "metadata": {
            "tags": []
          },
          "execution_count": 4
        }
      ]
    },
    {
      "metadata": {
        "id": "Ey2ZHrGW_n_t",
        "colab_type": "code",
        "colab": {
          "base_uri": "https://localhost:8080/",
          "height": 300
        },
        "outputId": "0d22a7fc-10b0-4ff9-b6e5-f4ffa2a246fa"
      },
      "cell_type": "code",
      "source": [
        "train_df.describe()"
      ],
      "execution_count": 5,
      "outputs": [
        {
          "output_type": "execute_result",
          "data": {
            "text/html": [
              "<div>\n",
              "<style scoped>\n",
              "    .dataframe tbody tr th:only-of-type {\n",
              "        vertical-align: middle;\n",
              "    }\n",
              "\n",
              "    .dataframe tbody tr th {\n",
              "        vertical-align: top;\n",
              "    }\n",
              "\n",
              "    .dataframe thead th {\n",
              "        text-align: right;\n",
              "    }\n",
              "</style>\n",
              "<table border=\"1\" class=\"dataframe\">\n",
              "  <thead>\n",
              "    <tr style=\"text-align: right;\">\n",
              "      <th></th>\n",
              "      <th>PassengerId</th>\n",
              "      <th>Survived</th>\n",
              "      <th>Pclass</th>\n",
              "      <th>Age</th>\n",
              "      <th>SibSp</th>\n",
              "      <th>Parch</th>\n",
              "      <th>Fare</th>\n",
              "    </tr>\n",
              "  </thead>\n",
              "  <tbody>\n",
              "    <tr>\n",
              "      <th>count</th>\n",
              "      <td>183.000000</td>\n",
              "      <td>183.000000</td>\n",
              "      <td>183.000000</td>\n",
              "      <td>183.000000</td>\n",
              "      <td>183.000000</td>\n",
              "      <td>183.000000</td>\n",
              "      <td>183.000000</td>\n",
              "    </tr>\n",
              "    <tr>\n",
              "      <th>mean</th>\n",
              "      <td>455.366120</td>\n",
              "      <td>0.672131</td>\n",
              "      <td>1.191257</td>\n",
              "      <td>35.674426</td>\n",
              "      <td>0.464481</td>\n",
              "      <td>0.475410</td>\n",
              "      <td>78.682469</td>\n",
              "    </tr>\n",
              "    <tr>\n",
              "      <th>std</th>\n",
              "      <td>247.052476</td>\n",
              "      <td>0.470725</td>\n",
              "      <td>0.515187</td>\n",
              "      <td>15.643866</td>\n",
              "      <td>0.644159</td>\n",
              "      <td>0.754617</td>\n",
              "      <td>76.347843</td>\n",
              "    </tr>\n",
              "    <tr>\n",
              "      <th>min</th>\n",
              "      <td>2.000000</td>\n",
              "      <td>0.000000</td>\n",
              "      <td>1.000000</td>\n",
              "      <td>0.920000</td>\n",
              "      <td>0.000000</td>\n",
              "      <td>0.000000</td>\n",
              "      <td>0.000000</td>\n",
              "    </tr>\n",
              "    <tr>\n",
              "      <th>25%</th>\n",
              "      <td>263.500000</td>\n",
              "      <td>0.000000</td>\n",
              "      <td>1.000000</td>\n",
              "      <td>24.000000</td>\n",
              "      <td>0.000000</td>\n",
              "      <td>0.000000</td>\n",
              "      <td>29.700000</td>\n",
              "    </tr>\n",
              "    <tr>\n",
              "      <th>50%</th>\n",
              "      <td>457.000000</td>\n",
              "      <td>1.000000</td>\n",
              "      <td>1.000000</td>\n",
              "      <td>36.000000</td>\n",
              "      <td>0.000000</td>\n",
              "      <td>0.000000</td>\n",
              "      <td>57.000000</td>\n",
              "    </tr>\n",
              "    <tr>\n",
              "      <th>75%</th>\n",
              "      <td>676.000000</td>\n",
              "      <td>1.000000</td>\n",
              "      <td>1.000000</td>\n",
              "      <td>47.500000</td>\n",
              "      <td>1.000000</td>\n",
              "      <td>1.000000</td>\n",
              "      <td>90.000000</td>\n",
              "    </tr>\n",
              "    <tr>\n",
              "      <th>max</th>\n",
              "      <td>890.000000</td>\n",
              "      <td>1.000000</td>\n",
              "      <td>3.000000</td>\n",
              "      <td>80.000000</td>\n",
              "      <td>3.000000</td>\n",
              "      <td>4.000000</td>\n",
              "      <td>512.329200</td>\n",
              "    </tr>\n",
              "  </tbody>\n",
              "</table>\n",
              "</div>"
            ],
            "text/plain": [
              "       PassengerId    Survived      Pclass         Age       SibSp  \\\n",
              "count   183.000000  183.000000  183.000000  183.000000  183.000000   \n",
              "mean    455.366120    0.672131    1.191257   35.674426    0.464481   \n",
              "std     247.052476    0.470725    0.515187   15.643866    0.644159   \n",
              "min       2.000000    0.000000    1.000000    0.920000    0.000000   \n",
              "25%     263.500000    0.000000    1.000000   24.000000    0.000000   \n",
              "50%     457.000000    1.000000    1.000000   36.000000    0.000000   \n",
              "75%     676.000000    1.000000    1.000000   47.500000    1.000000   \n",
              "max     890.000000    1.000000    3.000000   80.000000    3.000000   \n",
              "\n",
              "            Parch        Fare  \n",
              "count  183.000000  183.000000  \n",
              "mean     0.475410   78.682469  \n",
              "std      0.754617   76.347843  \n",
              "min      0.000000    0.000000  \n",
              "25%      0.000000   29.700000  \n",
              "50%      0.000000   57.000000  \n",
              "75%      1.000000   90.000000  \n",
              "max      4.000000  512.329200  "
            ]
          },
          "metadata": {
            "tags": []
          },
          "execution_count": 5
        }
      ]
    },
    {
      "metadata": {
        "id": "QiZn2p1K8DED",
        "colab_type": "code",
        "colab": {
          "base_uri": "https://localhost:8080/",
          "height": 35
        },
        "outputId": "49348c74-7641-4a05-a2c5-d6b3aa5d642b"
      },
      "cell_type": "code",
      "source": [
        "from sklearn.linear_model import LinearRegression\n",
        "\n",
        "X = train_df[['Pclass', 'Age', 'Fare']]\n",
        "y = train_df.Survived\n",
        "\n",
        "linear_reg = LinearRegression().fit(X, y)\n",
        "linear_reg.score(X, y)"
      ],
      "execution_count": 6,
      "outputs": [
        {
          "output_type": "execute_result",
          "data": {
            "text/plain": [
              "0.08389810726550917"
            ]
          },
          "metadata": {
            "tags": []
          },
          "execution_count": 6
        }
      ]
    },
    {
      "metadata": {
        "id": "8HsBb1hp_cev",
        "colab_type": "code",
        "colab": {
          "base_uri": "https://localhost:8080/",
          "height": 344
        },
        "outputId": "1085ac7f-9af7-4710-fb1a-ba126ec02fe0"
      },
      "cell_type": "code",
      "source": [
        "linear_reg.predict(test_df[['Pclass', 'Age', 'Fare']])"
      ],
      "execution_count": 7,
      "outputs": [
        {
          "output_type": "execute_result",
          "data": {
            "text/plain": [
              "array([0.79543117, 0.58610823, 0.67595121, 0.793829  , 0.62090522,\n",
              "       0.72542107, 0.59848968, 0.58734245, 0.48567063, 0.77627736,\n",
              "       0.84211887, 0.57052439, 0.7754689 , 0.96621114, 0.70287941,\n",
              "       0.57673837, 0.72321391, 0.75894755, 0.77968041, 0.50246003,\n",
              "       0.49858077, 0.7474959 , 0.3542282 , 0.61648435, 0.71300224,\n",
              "       0.66294608, 0.53175333, 0.77397395, 0.68419387, 0.68395536,\n",
              "       0.52041202, 0.56814038, 0.79586606, 0.81372012, 0.61068545,\n",
              "       0.57260627, 0.52525981, 0.58055388, 0.45584728, 0.67976208,\n",
              "       0.8226707 , 0.84286197, 0.96189157, 0.66724612, 0.68589478,\n",
              "       0.61846513, 0.63455044, 0.68275686, 0.65738372, 0.45198998,\n",
              "       0.59988596, 0.63845908, 0.63132487, 0.7888473 , 0.60126246,\n",
              "       0.79714045, 0.78713803, 0.54643775, 0.42823635, 0.7711724 ,\n",
              "       0.53552976, 0.55608044, 0.54480459, 0.57031915, 0.65080369,\n",
              "       0.77958926, 0.6371013 , 0.70993488, 0.71493598, 0.60375943,\n",
              "       0.54407206, 0.48186138, 0.76576089, 0.75456305, 0.53968359,\n",
              "       0.53814461, 0.51431245, 0.80091026, 0.54231482, 0.8260362 ,\n",
              "       0.58660686, 0.77766767, 0.60296337, 0.70098322, 0.63455044,\n",
              "       0.68309915, 0.67573142])"
            ]
          },
          "metadata": {
            "tags": []
          },
          "execution_count": 7
        }
      ]
    },
    {
      "metadata": {
        "id": "fcxfpsjdFJwM",
        "colab_type": "code",
        "colab": {
          "base_uri": "https://localhost:8080/",
          "height": 35
        },
        "outputId": "1a583922-61c3-453e-f6a4-ee67ef7f1375"
      },
      "cell_type": "code",
      "source": [
        "linear_reg.coef_"
      ],
      "execution_count": 8,
      "outputs": [
        {
          "output_type": "execute_result",
          "data": {
            "text/plain": [
              "array([-0.08596295, -0.00829314,  0.00048775])"
            ]
          },
          "metadata": {
            "tags": []
          },
          "execution_count": 8
        }
      ]
    },
    {
      "metadata": {
        "id": "AFiisZU7_2Fr",
        "colab_type": "code",
        "colab": {
          "base_uri": "https://localhost:8080/",
          "height": 35
        },
        "outputId": "85bade66-4fe8-4848-8f49-f1cebc4b1de3"
      },
      "cell_type": "code",
      "source": [
        "import numpy as np\n",
        "\n",
        "test_case = np.array([[1, 5, 500]])  # Rich 5-year old in first class\n",
        "linear_reg.predict(test_case)"
      ],
      "execution_count": 9,
      "outputs": [
        {
          "output_type": "execute_result",
          "data": {
            "text/plain": [
              "array([1.14845883])"
            ]
          },
          "metadata": {
            "tags": []
          },
          "execution_count": 9
        }
      ]
    },
    {
      "metadata": {
        "id": "dpUm8Dl-u2aB",
        "colab_type": "code",
        "colab": {
          "base_uri": "https://localhost:8080/",
          "height": 92
        },
        "outputId": "ad042308-7c6b-4238-92c0-9e530f16dba3"
      },
      "cell_type": "code",
      "source": [
        "from sklearn.linear_model import LogisticRegression\n",
        "\n",
        "log_reg = LogisticRegression().fit(X, y)\n",
        "log_reg.score(X, y)"
      ],
      "execution_count": 10,
      "outputs": [
        {
          "output_type": "stream",
          "text": [
            "/usr/local/lib/python3.6/dist-packages/sklearn/linear_model/logistic.py:433: FutureWarning: Default solver will be changed to 'lbfgs' in 0.22. Specify a solver to silence this warning.\n",
            "  FutureWarning)\n"
          ],
          "name": "stderr"
        },
        {
          "output_type": "execute_result",
          "data": {
            "text/plain": [
              "0.7103825136612022"
            ]
          },
          "metadata": {
            "tags": []
          },
          "execution_count": 10
        }
      ]
    },
    {
      "metadata": {
        "id": "cUhr2c66F_th",
        "colab_type": "code",
        "colab": {
          "base_uri": "https://localhost:8080/",
          "height": 90
        },
        "outputId": "92e40e35-419a-4d96-9b75-b2f344cbe27b"
      },
      "cell_type": "code",
      "source": [
        "log_reg.predict(test_df[['Pclass', 'Age', 'Fare']])"
      ],
      "execution_count": 11,
      "outputs": [
        {
          "output_type": "execute_result",
          "data": {
            "text/plain": [
              "array([1, 1, 1, 1, 1, 1, 1, 1, 1, 1, 1, 1, 1, 1, 1, 1, 1, 1, 1, 0, 1, 1,\n",
              "       0, 1, 1, 1, 1, 1, 1, 1, 1, 1, 1, 1, 1, 1, 1, 1, 0, 1, 1, 1, 1, 1,\n",
              "       1, 1, 1, 1, 1, 0, 1, 1, 1, 1, 1, 1, 1, 1, 0, 1, 1, 1, 1, 1, 1, 1,\n",
              "       1, 1, 1, 1, 1, 0, 1, 1, 0, 1, 1, 1, 1, 1, 1, 1, 1, 1, 1, 1, 1])"
            ]
          },
          "metadata": {
            "tags": []
          },
          "execution_count": 11
        }
      ]
    },
    {
      "metadata": {
        "id": "r7xWwqBrFuWL",
        "colab_type": "code",
        "colab": {
          "base_uri": "https://localhost:8080/",
          "height": 35
        },
        "outputId": "5ec940e1-b379-4a1d-e679-2a57f2a2da6f"
      },
      "cell_type": "code",
      "source": [
        "log_reg.predict(test_case)[0]"
      ],
      "execution_count": 12,
      "outputs": [
        {
          "output_type": "execute_result",
          "data": {
            "text/plain": [
              "1"
            ]
          },
          "metadata": {
            "tags": []
          },
          "execution_count": 12
        }
      ]
    },
    {
      "metadata": {
        "id": "IM8g42clF2-6",
        "colab_type": "code",
        "colab": {
          "base_uri": "https://localhost:8080/",
          "height": 290
        },
        "outputId": "d1aaf150-241a-47a4-ef08-47a359108362"
      },
      "cell_type": "code",
      "source": [
        "help(log_reg.predict)"
      ],
      "execution_count": 13,
      "outputs": [
        {
          "output_type": "stream",
          "text": [
            "Help on method predict in module sklearn.linear_model.base:\n",
            "\n",
            "predict(X) method of sklearn.linear_model.logistic.LogisticRegression instance\n",
            "    Predict class labels for samples in X.\n",
            "    \n",
            "    Parameters\n",
            "    ----------\n",
            "    X : array_like or sparse matrix, shape (n_samples, n_features)\n",
            "        Samples.\n",
            "    \n",
            "    Returns\n",
            "    -------\n",
            "    C : array, shape [n_samples]\n",
            "        Predicted class label per sample.\n",
            "\n"
          ],
          "name": "stdout"
        }
      ]
    },
    {
      "metadata": {
        "id": "flF3pcMHGGWw",
        "colab_type": "code",
        "colab": {
          "base_uri": "https://localhost:8080/",
          "height": 35
        },
        "outputId": "29a0e2b3-5d25-40c3-db50-8d23b493d1d0"
      },
      "cell_type": "code",
      "source": [
        "log_reg.predict_proba(test_case)[0]"
      ],
      "execution_count": 14,
      "outputs": [
        {
          "output_type": "execute_result",
          "data": {
            "text/plain": [
              "array([0.02485552, 0.97514448])"
            ]
          },
          "metadata": {
            "tags": []
          },
          "execution_count": 14
        }
      ]
    },
    {
      "metadata": {
        "id": "9Bq-54noR1uE",
        "colab_type": "code",
        "colab": {
          "base_uri": "https://localhost:8080/",
          "height": 35
        },
        "outputId": "d31fe836-d298-4980-a3a0-f808e143738d"
      },
      "cell_type": "code",
      "source": [
        "# What's the math?\n",
        "log_reg.coef_"
      ],
      "execution_count": 15,
      "outputs": [
        {
          "output_type": "execute_result",
          "data": {
            "text/plain": [
              "array([[-0.0455017 , -0.02912513,  0.0048037 ]])"
            ]
          },
          "metadata": {
            "tags": []
          },
          "execution_count": 15
        }
      ]
    },
    {
      "metadata": {
        "id": "Tj0mNL7_XWNV",
        "colab_type": "code",
        "colab": {
          "base_uri": "https://localhost:8080/",
          "height": 35
        },
        "outputId": "4ef10c9f-e9d5-4dd1-dcf2-4bb8abd7f59e"
      },
      "cell_type": "code",
      "source": [
        "log_reg.intercept_"
      ],
      "execution_count": 16,
      "outputs": [
        {
          "output_type": "execute_result",
          "data": {
            "text/plain": [
              "array([1.45878264])"
            ]
          },
          "metadata": {
            "tags": []
          },
          "execution_count": 16
        }
      ]
    },
    {
      "metadata": {
        "id": "AroeYscqR75f",
        "colab_type": "code",
        "colab": {}
      },
      "cell_type": "code",
      "source": [
        "# The logistic sigmoid \"squishing\" function, implemented to accept numpy arrays\n",
        "def sigmoid(x):\n",
        "  return 1 / (1 + np.e**(-x))"
      ],
      "execution_count": 0,
      "outputs": []
    },
    {
      "metadata": {
        "id": "804BA7s0SggQ",
        "colab_type": "code",
        "colab": {
          "base_uri": "https://localhost:8080/",
          "height": 35
        },
        "outputId": "b4b82fd0-9b10-4bde-da0f-c69ddd1540a6"
      },
      "cell_type": "code",
      "source": [
        "sigmoid(log_reg.intercept_ + np.dot(log_reg.coef_, np.transpose(test_case)))"
      ],
      "execution_count": 18,
      "outputs": [
        {
          "output_type": "execute_result",
          "data": {
            "text/plain": [
              "array([[0.97514448]])"
            ]
          },
          "metadata": {
            "tags": []
          },
          "execution_count": 18
        }
      ]
    },
    {
      "metadata": {
        "id": "uBSGY-R-Hf_b",
        "colab_type": "text"
      },
      "cell_type": "markdown",
      "source": [
        "So, clearly a more appropriate model in this situation! For more on the math, [see this Wikipedia example](https://en.wikipedia.org/wiki/Logistic_regression#Probability_of_passing_an_exam_versus_hours_of_study).\n",
        "\n",
        "For live - let's tackle [another classification dataset on absenteeism](http://archive.ics.uci.edu/ml/datasets/Absenteeism+at+work) - it has 21 classes, but remember, scikit-learn LogisticRegression automatically handles more than two classes. How? By essentially treating each label as different (1) from some base class (0)."
      ]
    },
    {
      "metadata": {
        "id": "qyDBpCM0G7Hv",
        "colab_type": "code",
        "colab": {}
      },
      "cell_type": "code",
      "source": [
        "# Live - let's try absenteeism!"
      ],
      "execution_count": 0,
      "outputs": []
    },
    {
      "metadata": {
        "id": "iblW74C8afuR",
        "colab_type": "text"
      },
      "cell_type": "markdown",
      "source": [
        "## Assignment - real-world classification\n",
        "\n",
        "We're going to check out a larger dataset - the [FMA Free Music Archive data](https://github.com/mdeff/fma). It has a selection of CSVs with metadata and calculated audio features that you can load and try to use to classify genre of tracks. To get you started:"
      ]
    },
    {
      "metadata": {
        "id": "SsySnuKaKtQf",
        "colab_type": "code",
        "colab": {
          "base_uri": "https://localhost:8080/",
          "height": 453
        },
        "outputId": "4d539c79-51e5-4735-a3be-b423bc3d2407"
      },
      "cell_type": "code",
      "source": [
        "!wget https://os.unil.cloud.switch.ch/fma/fma_metadata.zip\n",
        "!unzip fma_metadata.zip"
      ],
      "execution_count": 1,
      "outputs": [
        {
          "output_type": "stream",
          "text": [
            "--2019-01-22 20:43:39--  https://os.unil.cloud.switch.ch/fma/fma_metadata.zip\n",
            "Resolving os.unil.cloud.switch.ch (os.unil.cloud.switch.ch)... 86.119.28.13, 2001:620:5ca1:2ff::ce53\n",
            "Connecting to os.unil.cloud.switch.ch (os.unil.cloud.switch.ch)|86.119.28.13|:443... connected.\n",
            "HTTP request sent, awaiting response... 200 OK\n",
            "Length: 358412441 (342M) [application/zip]\n",
            "Saving to: ‘fma_metadata.zip’\n",
            "\n",
            "fma_metadata.zip    100%[===================>] 341.81M  18.7MB/s    in 31s     \n",
            "\n",
            "2019-01-22 20:44:12 (10.9 MB/s) - ‘fma_metadata.zip’ saved [358412441/358412441]\n",
            "\n",
            "Archive:  fma_metadata.zip\n",
            " bunzipping: fma_metadata/README.txt  \n",
            " bunzipping: fma_metadata/checksums  \n",
            " bunzipping: fma_metadata/not_found.pickle  \n",
            " bunzipping: fma_metadata/raw_genres.csv  \n",
            " bunzipping: fma_metadata/raw_albums.csv  \n",
            " bunzipping: fma_metadata/raw_artists.csv  \n",
            " bunzipping: fma_metadata/raw_tracks.csv  \n",
            " bunzipping: fma_metadata/tracks.csv  \n",
            " bunzipping: fma_metadata/genres.csv  \n",
            " bunzipping: fma_metadata/raw_echonest.csv  \n",
            " bunzipping: fma_metadata/echonest.csv  \n",
            " bunzipping: fma_metadata/features.csv  \n"
          ],
          "name": "stdout"
        }
      ]
    },
    {
      "metadata": {
        "id": "VbUJKyI1LRwD",
        "colab_type": "code",
        "colab": {}
      },
      "cell_type": "code",
      "source": [
        "import pandas as pd\n",
        "tracks = pd.read_csv('fma_metadata/tracks.csv', header=[0,1], index_col=0)"
      ],
      "execution_count": 0,
      "outputs": []
    },
    {
      "metadata": {
        "id": "VPplXWsTVNHi",
        "colab_type": "code",
        "colab": {
          "base_uri": "https://localhost:8080/",
          "height": 980
        },
        "outputId": "1124acd3-4c33-4fdc-bff8-bedc17b019d8"
      },
      "cell_type": "code",
      "source": [
        "tracks.isna().sum()"
      ],
      "execution_count": 41,
      "outputs": [
        {
          "output_type": "execute_result",
          "data": {
            "text/plain": [
              "album   comments                  0\n",
              "        date_created           3529\n",
              "        date_released         36280\n",
              "        engineer              91279\n",
              "        favorites                 0\n",
              "        id                        0\n",
              "        information           23425\n",
              "        listens                   0\n",
              "        producer              88514\n",
              "        tags                      0\n",
              "        title                  1025\n",
              "        tracks                    0\n",
              "        type                   6508\n",
              "artist  active_year_begin     83863\n",
              "        active_year_end      101199\n",
              "        associated_labels     92303\n",
              "        bio                   35418\n",
              "        comments                  0\n",
              "        date_created            856\n",
              "        favorites                 0\n",
              "        id                        0\n",
              "        latitude              62030\n",
              "        location              36364\n",
              "        longitude             62030\n",
              "        members               59725\n",
              "        name                      0\n",
              "        related_projects      93422\n",
              "        tags                      0\n",
              "        website               27318\n",
              "        wikipedia_page       100993\n",
              "set     split                     0\n",
              "        subset                    0\n",
              "track   bit_rate                  0\n",
              "        comments                  0\n",
              "        composer             102904\n",
              "        date_created              0\n",
              "        date_recorded        100415\n",
              "        duration                  0\n",
              "        favorites                 0\n",
              "        genre_top             56976\n",
              "        genres                    0\n",
              "        genres_all                0\n",
              "        information          104225\n",
              "        interest                  0\n",
              "        language_code         91550\n",
              "        license                  87\n",
              "        listens                   0\n",
              "        lyricist             106263\n",
              "        number                    0\n",
              "        publisher            105311\n",
              "        tags                      0\n",
              "        title                     1\n",
              "dtype: int64"
            ]
          },
          "metadata": {
            "tags": []
          },
          "execution_count": 41
        }
      ]
    },
    {
      "metadata": {
        "id": "ut-Zfhp2LjcS",
        "colab_type": "code",
        "colab": {
          "base_uri": "https://localhost:8080/",
          "height": 351
        },
        "outputId": "3a21f836-f513-4abc-b2c1-d9849450e94b"
      },
      "cell_type": "code",
      "source": [
        "tracks.describe()"
      ],
      "execution_count": 42,
      "outputs": [
        {
          "output_type": "execute_result",
          "data": {
            "text/html": [
              "<div>\n",
              "<style scoped>\n",
              "    .dataframe tbody tr th:only-of-type {\n",
              "        vertical-align: middle;\n",
              "    }\n",
              "\n",
              "    .dataframe tbody tr th {\n",
              "        vertical-align: top;\n",
              "    }\n",
              "\n",
              "    .dataframe thead tr th {\n",
              "        text-align: left;\n",
              "    }\n",
              "</style>\n",
              "<table border=\"1\" class=\"dataframe\">\n",
              "  <thead>\n",
              "    <tr>\n",
              "      <th></th>\n",
              "      <th colspan=\"5\" halign=\"left\">album</th>\n",
              "      <th colspan=\"5\" halign=\"left\">artist</th>\n",
              "      <th colspan=\"7\" halign=\"left\">track</th>\n",
              "    </tr>\n",
              "    <tr>\n",
              "      <th></th>\n",
              "      <th>comments</th>\n",
              "      <th>favorites</th>\n",
              "      <th>id</th>\n",
              "      <th>listens</th>\n",
              "      <th>tracks</th>\n",
              "      <th>comments</th>\n",
              "      <th>favorites</th>\n",
              "      <th>id</th>\n",
              "      <th>latitude</th>\n",
              "      <th>longitude</th>\n",
              "      <th>bit_rate</th>\n",
              "      <th>comments</th>\n",
              "      <th>duration</th>\n",
              "      <th>favorites</th>\n",
              "      <th>interest</th>\n",
              "      <th>listens</th>\n",
              "      <th>number</th>\n",
              "    </tr>\n",
              "  </thead>\n",
              "  <tbody>\n",
              "    <tr>\n",
              "      <th>count</th>\n",
              "      <td>106574.000000</td>\n",
              "      <td>106574.000000</td>\n",
              "      <td>106574.000000</td>\n",
              "      <td>1.065740e+05</td>\n",
              "      <td>106574.000000</td>\n",
              "      <td>106574.000000</td>\n",
              "      <td>106574.000000</td>\n",
              "      <td>106574.000000</td>\n",
              "      <td>44544.000000</td>\n",
              "      <td>44544.000000</td>\n",
              "      <td>106574.000000</td>\n",
              "      <td>106574.000000</td>\n",
              "      <td>106574.000000</td>\n",
              "      <td>106574.000000</td>\n",
              "      <td>1.065740e+05</td>\n",
              "      <td>106574.000000</td>\n",
              "      <td>106574.000000</td>\n",
              "    </tr>\n",
              "    <tr>\n",
              "      <th>mean</th>\n",
              "      <td>0.394946</td>\n",
              "      <td>1.286927</td>\n",
              "      <td>12826.933914</td>\n",
              "      <td>3.212031e+04</td>\n",
              "      <td>19.721452</td>\n",
              "      <td>1.894702</td>\n",
              "      <td>30.041915</td>\n",
              "      <td>12036.770404</td>\n",
              "      <td>39.901626</td>\n",
              "      <td>-38.668642</td>\n",
              "      <td>263274.695048</td>\n",
              "      <td>0.031621</td>\n",
              "      <td>277.849100</td>\n",
              "      <td>3.182521</td>\n",
              "      <td>3.541310e+03</td>\n",
              "      <td>2329.353548</td>\n",
              "      <td>8.260945</td>\n",
              "    </tr>\n",
              "    <tr>\n",
              "      <th>std</th>\n",
              "      <td>2.268915</td>\n",
              "      <td>3.133035</td>\n",
              "      <td>6290.261805</td>\n",
              "      <td>1.478532e+05</td>\n",
              "      <td>39.943673</td>\n",
              "      <td>6.297679</td>\n",
              "      <td>100.511408</td>\n",
              "      <td>6881.420867</td>\n",
              "      <td>18.240860</td>\n",
              "      <td>65.237220</td>\n",
              "      <td>67623.443584</td>\n",
              "      <td>0.321993</td>\n",
              "      <td>305.518553</td>\n",
              "      <td>13.513820</td>\n",
              "      <td>1.901743e+04</td>\n",
              "      <td>8028.070647</td>\n",
              "      <td>15.243271</td>\n",
              "    </tr>\n",
              "    <tr>\n",
              "      <th>min</th>\n",
              "      <td>-1.000000</td>\n",
              "      <td>-1.000000</td>\n",
              "      <td>-1.000000</td>\n",
              "      <td>-1.000000e+00</td>\n",
              "      <td>-1.000000</td>\n",
              "      <td>-1.000000</td>\n",
              "      <td>-1.000000</td>\n",
              "      <td>1.000000</td>\n",
              "      <td>-45.878760</td>\n",
              "      <td>-157.526855</td>\n",
              "      <td>-1.000000</td>\n",
              "      <td>0.000000</td>\n",
              "      <td>0.000000</td>\n",
              "      <td>0.000000</td>\n",
              "      <td>2.000000e+00</td>\n",
              "      <td>0.000000</td>\n",
              "      <td>0.000000</td>\n",
              "    </tr>\n",
              "    <tr>\n",
              "      <th>25%</th>\n",
              "      <td>0.000000</td>\n",
              "      <td>0.000000</td>\n",
              "      <td>7793.000000</td>\n",
              "      <td>3.361000e+03</td>\n",
              "      <td>7.000000</td>\n",
              "      <td>0.000000</td>\n",
              "      <td>1.000000</td>\n",
              "      <td>6443.000000</td>\n",
              "      <td>39.271398</td>\n",
              "      <td>-79.997459</td>\n",
              "      <td>192000.000000</td>\n",
              "      <td>0.000000</td>\n",
              "      <td>149.000000</td>\n",
              "      <td>0.000000</td>\n",
              "      <td>5.990000e+02</td>\n",
              "      <td>292.000000</td>\n",
              "      <td>2.000000</td>\n",
              "    </tr>\n",
              "    <tr>\n",
              "      <th>50%</th>\n",
              "      <td>0.000000</td>\n",
              "      <td>0.000000</td>\n",
              "      <td>13374.000000</td>\n",
              "      <td>8.982000e+03</td>\n",
              "      <td>11.000000</td>\n",
              "      <td>0.000000</td>\n",
              "      <td>5.000000</td>\n",
              "      <td>12029.500000</td>\n",
              "      <td>41.387917</td>\n",
              "      <td>-73.554431</td>\n",
              "      <td>299914.000000</td>\n",
              "      <td>0.000000</td>\n",
              "      <td>216.000000</td>\n",
              "      <td>1.000000</td>\n",
              "      <td>1.314000e+03</td>\n",
              "      <td>764.000000</td>\n",
              "      <td>5.000000</td>\n",
              "    </tr>\n",
              "    <tr>\n",
              "      <th>75%</th>\n",
              "      <td>0.000000</td>\n",
              "      <td>1.000000</td>\n",
              "      <td>18203.000000</td>\n",
              "      <td>2.363500e+04</td>\n",
              "      <td>17.000000</td>\n",
              "      <td>1.000000</td>\n",
              "      <td>16.000000</td>\n",
              "      <td>18011.000000</td>\n",
              "      <td>48.856930</td>\n",
              "      <td>4.351710</td>\n",
              "      <td>320000.000000</td>\n",
              "      <td>0.000000</td>\n",
              "      <td>305.000000</td>\n",
              "      <td>3.000000</td>\n",
              "      <td>3.059000e+03</td>\n",
              "      <td>2018.000000</td>\n",
              "      <td>9.000000</td>\n",
              "    </tr>\n",
              "    <tr>\n",
              "      <th>max</th>\n",
              "      <td>53.000000</td>\n",
              "      <td>61.000000</td>\n",
              "      <td>22940.000000</td>\n",
              "      <td>3.564243e+06</td>\n",
              "      <td>652.000000</td>\n",
              "      <td>79.000000</td>\n",
              "      <td>963.000000</td>\n",
              "      <td>24357.000000</td>\n",
              "      <td>67.286005</td>\n",
              "      <td>175.277000</td>\n",
              "      <td>448000.000000</td>\n",
              "      <td>37.000000</td>\n",
              "      <td>18350.000000</td>\n",
              "      <td>1482.000000</td>\n",
              "      <td>3.293557e+06</td>\n",
              "      <td>543252.000000</td>\n",
              "      <td>255.000000</td>\n",
              "    </tr>\n",
              "  </tbody>\n",
              "</table>\n",
              "</div>"
            ],
            "text/plain": [
              "               album                                              \\\n",
              "            comments      favorites             id       listens   \n",
              "count  106574.000000  106574.000000  106574.000000  1.065740e+05   \n",
              "mean        0.394946       1.286927   12826.933914  3.212031e+04   \n",
              "std         2.268915       3.133035    6290.261805  1.478532e+05   \n",
              "min        -1.000000      -1.000000      -1.000000 -1.000000e+00   \n",
              "25%         0.000000       0.000000    7793.000000  3.361000e+03   \n",
              "50%         0.000000       0.000000   13374.000000  8.982000e+03   \n",
              "75%         0.000000       1.000000   18203.000000  2.363500e+04   \n",
              "max        53.000000      61.000000   22940.000000  3.564243e+06   \n",
              "\n",
              "                             artist                                \\\n",
              "              tracks       comments      favorites             id   \n",
              "count  106574.000000  106574.000000  106574.000000  106574.000000   \n",
              "mean       19.721452       1.894702      30.041915   12036.770404   \n",
              "std        39.943673       6.297679     100.511408    6881.420867   \n",
              "min        -1.000000      -1.000000      -1.000000       1.000000   \n",
              "25%         7.000000       0.000000       1.000000    6443.000000   \n",
              "50%        11.000000       0.000000       5.000000   12029.500000   \n",
              "75%        17.000000       1.000000      16.000000   18011.000000   \n",
              "max       652.000000      79.000000     963.000000   24357.000000   \n",
              "\n",
              "                                           track                 \\\n",
              "           latitude     longitude       bit_rate       comments   \n",
              "count  44544.000000  44544.000000  106574.000000  106574.000000   \n",
              "mean      39.901626    -38.668642  263274.695048       0.031621   \n",
              "std       18.240860     65.237220   67623.443584       0.321993   \n",
              "min      -45.878760   -157.526855      -1.000000       0.000000   \n",
              "25%       39.271398    -79.997459  192000.000000       0.000000   \n",
              "50%       41.387917    -73.554431  299914.000000       0.000000   \n",
              "75%       48.856930      4.351710  320000.000000       0.000000   \n",
              "max       67.286005    175.277000  448000.000000      37.000000   \n",
              "\n",
              "                                                                  \\\n",
              "            duration      favorites      interest        listens   \n",
              "count  106574.000000  106574.000000  1.065740e+05  106574.000000   \n",
              "mean      277.849100       3.182521  3.541310e+03    2329.353548   \n",
              "std       305.518553      13.513820  1.901743e+04    8028.070647   \n",
              "min         0.000000       0.000000  2.000000e+00       0.000000   \n",
              "25%       149.000000       0.000000  5.990000e+02     292.000000   \n",
              "50%       216.000000       1.000000  1.314000e+03     764.000000   \n",
              "75%       305.000000       3.000000  3.059000e+03    2018.000000   \n",
              "max     18350.000000    1482.000000  3.293557e+06  543252.000000   \n",
              "\n",
              "                      \n",
              "              number  \n",
              "count  106574.000000  \n",
              "mean        8.260945  \n",
              "std        15.243271  \n",
              "min         0.000000  \n",
              "25%         2.000000  \n",
              "50%         5.000000  \n",
              "75%         9.000000  \n",
              "max       255.000000  "
            ]
          },
          "metadata": {
            "tags": []
          },
          "execution_count": 42
        }
      ]
    },
    {
      "metadata": {
        "id": "_qzn-IjIM1Pw",
        "colab_type": "code",
        "colab": {
          "base_uri": "https://localhost:8080/",
          "height": 549
        },
        "outputId": "c8e73007-8b2c-4504-990b-8b86b5c3c01d"
      },
      "cell_type": "code",
      "source": [
        "pd.set_option('display.max_columns', None)  # Unlimited columns\n",
        "tracks.head()"
      ],
      "execution_count": 43,
      "outputs": [
        {
          "output_type": "execute_result",
          "data": {
            "text/html": [
              "<div>\n",
              "<style scoped>\n",
              "    .dataframe tbody tr th:only-of-type {\n",
              "        vertical-align: middle;\n",
              "    }\n",
              "\n",
              "    .dataframe tbody tr th {\n",
              "        vertical-align: top;\n",
              "    }\n",
              "\n",
              "    .dataframe thead tr th {\n",
              "        text-align: left;\n",
              "    }\n",
              "\n",
              "    .dataframe thead tr:last-of-type th {\n",
              "        text-align: right;\n",
              "    }\n",
              "</style>\n",
              "<table border=\"1\" class=\"dataframe\">\n",
              "  <thead>\n",
              "    <tr>\n",
              "      <th></th>\n",
              "      <th colspan=\"13\" halign=\"left\">album</th>\n",
              "      <th colspan=\"17\" halign=\"left\">artist</th>\n",
              "      <th colspan=\"2\" halign=\"left\">set</th>\n",
              "      <th colspan=\"20\" halign=\"left\">track</th>\n",
              "    </tr>\n",
              "    <tr>\n",
              "      <th></th>\n",
              "      <th>comments</th>\n",
              "      <th>date_created</th>\n",
              "      <th>date_released</th>\n",
              "      <th>engineer</th>\n",
              "      <th>favorites</th>\n",
              "      <th>id</th>\n",
              "      <th>information</th>\n",
              "      <th>listens</th>\n",
              "      <th>producer</th>\n",
              "      <th>tags</th>\n",
              "      <th>title</th>\n",
              "      <th>tracks</th>\n",
              "      <th>type</th>\n",
              "      <th>active_year_begin</th>\n",
              "      <th>active_year_end</th>\n",
              "      <th>associated_labels</th>\n",
              "      <th>bio</th>\n",
              "      <th>comments</th>\n",
              "      <th>date_created</th>\n",
              "      <th>favorites</th>\n",
              "      <th>id</th>\n",
              "      <th>latitude</th>\n",
              "      <th>location</th>\n",
              "      <th>longitude</th>\n",
              "      <th>members</th>\n",
              "      <th>name</th>\n",
              "      <th>related_projects</th>\n",
              "      <th>tags</th>\n",
              "      <th>website</th>\n",
              "      <th>wikipedia_page</th>\n",
              "      <th>split</th>\n",
              "      <th>subset</th>\n",
              "      <th>bit_rate</th>\n",
              "      <th>comments</th>\n",
              "      <th>composer</th>\n",
              "      <th>date_created</th>\n",
              "      <th>date_recorded</th>\n",
              "      <th>duration</th>\n",
              "      <th>favorites</th>\n",
              "      <th>genre_top</th>\n",
              "      <th>genres</th>\n",
              "      <th>genres_all</th>\n",
              "      <th>information</th>\n",
              "      <th>interest</th>\n",
              "      <th>language_code</th>\n",
              "      <th>license</th>\n",
              "      <th>listens</th>\n",
              "      <th>lyricist</th>\n",
              "      <th>number</th>\n",
              "      <th>publisher</th>\n",
              "      <th>tags</th>\n",
              "      <th>title</th>\n",
              "    </tr>\n",
              "    <tr>\n",
              "      <th>track_id</th>\n",
              "      <th></th>\n",
              "      <th></th>\n",
              "      <th></th>\n",
              "      <th></th>\n",
              "      <th></th>\n",
              "      <th></th>\n",
              "      <th></th>\n",
              "      <th></th>\n",
              "      <th></th>\n",
              "      <th></th>\n",
              "      <th></th>\n",
              "      <th></th>\n",
              "      <th></th>\n",
              "      <th></th>\n",
              "      <th></th>\n",
              "      <th></th>\n",
              "      <th></th>\n",
              "      <th></th>\n",
              "      <th></th>\n",
              "      <th></th>\n",
              "      <th></th>\n",
              "      <th></th>\n",
              "      <th></th>\n",
              "      <th></th>\n",
              "      <th></th>\n",
              "      <th></th>\n",
              "      <th></th>\n",
              "      <th></th>\n",
              "      <th></th>\n",
              "      <th></th>\n",
              "      <th></th>\n",
              "      <th></th>\n",
              "      <th></th>\n",
              "      <th></th>\n",
              "      <th></th>\n",
              "      <th></th>\n",
              "      <th></th>\n",
              "      <th></th>\n",
              "      <th></th>\n",
              "      <th></th>\n",
              "      <th></th>\n",
              "      <th></th>\n",
              "      <th></th>\n",
              "      <th></th>\n",
              "      <th></th>\n",
              "      <th></th>\n",
              "      <th></th>\n",
              "      <th></th>\n",
              "      <th></th>\n",
              "      <th></th>\n",
              "      <th></th>\n",
              "      <th></th>\n",
              "    </tr>\n",
              "  </thead>\n",
              "  <tbody>\n",
              "    <tr>\n",
              "      <th>2</th>\n",
              "      <td>0</td>\n",
              "      <td>2008-11-26 01:44:45</td>\n",
              "      <td>2009-01-05 00:00:00</td>\n",
              "      <td>NaN</td>\n",
              "      <td>4</td>\n",
              "      <td>1</td>\n",
              "      <td>&lt;p&gt;&lt;/p&gt;</td>\n",
              "      <td>6073</td>\n",
              "      <td>NaN</td>\n",
              "      <td>[]</td>\n",
              "      <td>AWOL - A Way Of Life</td>\n",
              "      <td>7</td>\n",
              "      <td>Album</td>\n",
              "      <td>2006-01-01 00:00:00</td>\n",
              "      <td>NaN</td>\n",
              "      <td>NaN</td>\n",
              "      <td>&lt;p&gt;A Way Of Life, A Collective of Hip-Hop from...</td>\n",
              "      <td>0</td>\n",
              "      <td>2008-11-26 01:42:32</td>\n",
              "      <td>9</td>\n",
              "      <td>1</td>\n",
              "      <td>40.058324</td>\n",
              "      <td>New Jersey</td>\n",
              "      <td>-74.405661</td>\n",
              "      <td>Sajje Morocco,Brownbum,ZawidaGod,Custodian of ...</td>\n",
              "      <td>AWOL</td>\n",
              "      <td>The list of past projects is 2 long but every1...</td>\n",
              "      <td>['awol']</td>\n",
              "      <td>http://www.AzillionRecords.blogspot.com</td>\n",
              "      <td>NaN</td>\n",
              "      <td>training</td>\n",
              "      <td>small</td>\n",
              "      <td>256000</td>\n",
              "      <td>0</td>\n",
              "      <td>NaN</td>\n",
              "      <td>2008-11-26 01:48:12</td>\n",
              "      <td>2008-11-26 00:00:00</td>\n",
              "      <td>168</td>\n",
              "      <td>2</td>\n",
              "      <td>Hip-Hop</td>\n",
              "      <td>[21]</td>\n",
              "      <td>[21]</td>\n",
              "      <td>NaN</td>\n",
              "      <td>4656</td>\n",
              "      <td>en</td>\n",
              "      <td>Attribution-NonCommercial-ShareAlike 3.0 Inter...</td>\n",
              "      <td>1293</td>\n",
              "      <td>NaN</td>\n",
              "      <td>3</td>\n",
              "      <td>NaN</td>\n",
              "      <td>[]</td>\n",
              "      <td>Food</td>\n",
              "    </tr>\n",
              "    <tr>\n",
              "      <th>3</th>\n",
              "      <td>0</td>\n",
              "      <td>2008-11-26 01:44:45</td>\n",
              "      <td>2009-01-05 00:00:00</td>\n",
              "      <td>NaN</td>\n",
              "      <td>4</td>\n",
              "      <td>1</td>\n",
              "      <td>&lt;p&gt;&lt;/p&gt;</td>\n",
              "      <td>6073</td>\n",
              "      <td>NaN</td>\n",
              "      <td>[]</td>\n",
              "      <td>AWOL - A Way Of Life</td>\n",
              "      <td>7</td>\n",
              "      <td>Album</td>\n",
              "      <td>2006-01-01 00:00:00</td>\n",
              "      <td>NaN</td>\n",
              "      <td>NaN</td>\n",
              "      <td>&lt;p&gt;A Way Of Life, A Collective of Hip-Hop from...</td>\n",
              "      <td>0</td>\n",
              "      <td>2008-11-26 01:42:32</td>\n",
              "      <td>9</td>\n",
              "      <td>1</td>\n",
              "      <td>40.058324</td>\n",
              "      <td>New Jersey</td>\n",
              "      <td>-74.405661</td>\n",
              "      <td>Sajje Morocco,Brownbum,ZawidaGod,Custodian of ...</td>\n",
              "      <td>AWOL</td>\n",
              "      <td>The list of past projects is 2 long but every1...</td>\n",
              "      <td>['awol']</td>\n",
              "      <td>http://www.AzillionRecords.blogspot.com</td>\n",
              "      <td>NaN</td>\n",
              "      <td>training</td>\n",
              "      <td>medium</td>\n",
              "      <td>256000</td>\n",
              "      <td>0</td>\n",
              "      <td>NaN</td>\n",
              "      <td>2008-11-26 01:48:14</td>\n",
              "      <td>2008-11-26 00:00:00</td>\n",
              "      <td>237</td>\n",
              "      <td>1</td>\n",
              "      <td>Hip-Hop</td>\n",
              "      <td>[21]</td>\n",
              "      <td>[21]</td>\n",
              "      <td>NaN</td>\n",
              "      <td>1470</td>\n",
              "      <td>en</td>\n",
              "      <td>Attribution-NonCommercial-ShareAlike 3.0 Inter...</td>\n",
              "      <td>514</td>\n",
              "      <td>NaN</td>\n",
              "      <td>4</td>\n",
              "      <td>NaN</td>\n",
              "      <td>[]</td>\n",
              "      <td>Electric Ave</td>\n",
              "    </tr>\n",
              "    <tr>\n",
              "      <th>5</th>\n",
              "      <td>0</td>\n",
              "      <td>2008-11-26 01:44:45</td>\n",
              "      <td>2009-01-05 00:00:00</td>\n",
              "      <td>NaN</td>\n",
              "      <td>4</td>\n",
              "      <td>1</td>\n",
              "      <td>&lt;p&gt;&lt;/p&gt;</td>\n",
              "      <td>6073</td>\n",
              "      <td>NaN</td>\n",
              "      <td>[]</td>\n",
              "      <td>AWOL - A Way Of Life</td>\n",
              "      <td>7</td>\n",
              "      <td>Album</td>\n",
              "      <td>2006-01-01 00:00:00</td>\n",
              "      <td>NaN</td>\n",
              "      <td>NaN</td>\n",
              "      <td>&lt;p&gt;A Way Of Life, A Collective of Hip-Hop from...</td>\n",
              "      <td>0</td>\n",
              "      <td>2008-11-26 01:42:32</td>\n",
              "      <td>9</td>\n",
              "      <td>1</td>\n",
              "      <td>40.058324</td>\n",
              "      <td>New Jersey</td>\n",
              "      <td>-74.405661</td>\n",
              "      <td>Sajje Morocco,Brownbum,ZawidaGod,Custodian of ...</td>\n",
              "      <td>AWOL</td>\n",
              "      <td>The list of past projects is 2 long but every1...</td>\n",
              "      <td>['awol']</td>\n",
              "      <td>http://www.AzillionRecords.blogspot.com</td>\n",
              "      <td>NaN</td>\n",
              "      <td>training</td>\n",
              "      <td>small</td>\n",
              "      <td>256000</td>\n",
              "      <td>0</td>\n",
              "      <td>NaN</td>\n",
              "      <td>2008-11-26 01:48:20</td>\n",
              "      <td>2008-11-26 00:00:00</td>\n",
              "      <td>206</td>\n",
              "      <td>6</td>\n",
              "      <td>Hip-Hop</td>\n",
              "      <td>[21]</td>\n",
              "      <td>[21]</td>\n",
              "      <td>NaN</td>\n",
              "      <td>1933</td>\n",
              "      <td>en</td>\n",
              "      <td>Attribution-NonCommercial-ShareAlike 3.0 Inter...</td>\n",
              "      <td>1151</td>\n",
              "      <td>NaN</td>\n",
              "      <td>6</td>\n",
              "      <td>NaN</td>\n",
              "      <td>[]</td>\n",
              "      <td>This World</td>\n",
              "    </tr>\n",
              "    <tr>\n",
              "      <th>10</th>\n",
              "      <td>0</td>\n",
              "      <td>2008-11-26 01:45:08</td>\n",
              "      <td>2008-02-06 00:00:00</td>\n",
              "      <td>NaN</td>\n",
              "      <td>4</td>\n",
              "      <td>6</td>\n",
              "      <td>NaN</td>\n",
              "      <td>47632</td>\n",
              "      <td>NaN</td>\n",
              "      <td>[]</td>\n",
              "      <td>Constant Hitmaker</td>\n",
              "      <td>2</td>\n",
              "      <td>Album</td>\n",
              "      <td>NaN</td>\n",
              "      <td>NaN</td>\n",
              "      <td>Mexican Summer, Richie Records, Woodsist, Skul...</td>\n",
              "      <td>&lt;p&gt;&lt;span style=\"font-family:Verdana, Geneva, A...</td>\n",
              "      <td>3</td>\n",
              "      <td>2008-11-26 01:42:55</td>\n",
              "      <td>74</td>\n",
              "      <td>6</td>\n",
              "      <td>NaN</td>\n",
              "      <td>NaN</td>\n",
              "      <td>NaN</td>\n",
              "      <td>Kurt Vile, the Violators</td>\n",
              "      <td>Kurt Vile</td>\n",
              "      <td>NaN</td>\n",
              "      <td>['philly', 'kurt vile']</td>\n",
              "      <td>http://kurtvile.com</td>\n",
              "      <td>NaN</td>\n",
              "      <td>training</td>\n",
              "      <td>small</td>\n",
              "      <td>192000</td>\n",
              "      <td>0</td>\n",
              "      <td>Kurt Vile</td>\n",
              "      <td>2008-11-25 17:49:06</td>\n",
              "      <td>2008-11-26 00:00:00</td>\n",
              "      <td>161</td>\n",
              "      <td>178</td>\n",
              "      <td>Pop</td>\n",
              "      <td>[10]</td>\n",
              "      <td>[10]</td>\n",
              "      <td>NaN</td>\n",
              "      <td>54881</td>\n",
              "      <td>en</td>\n",
              "      <td>Attribution-NonCommercial-NoDerivatives (aka M...</td>\n",
              "      <td>50135</td>\n",
              "      <td>NaN</td>\n",
              "      <td>1</td>\n",
              "      <td>NaN</td>\n",
              "      <td>[]</td>\n",
              "      <td>Freeway</td>\n",
              "    </tr>\n",
              "    <tr>\n",
              "      <th>20</th>\n",
              "      <td>0</td>\n",
              "      <td>2008-11-26 01:45:05</td>\n",
              "      <td>2009-01-06 00:00:00</td>\n",
              "      <td>NaN</td>\n",
              "      <td>2</td>\n",
              "      <td>4</td>\n",
              "      <td>&lt;p&gt; \"spiritual songs\" from Nicky Cook&lt;/p&gt;</td>\n",
              "      <td>2710</td>\n",
              "      <td>NaN</td>\n",
              "      <td>[]</td>\n",
              "      <td>Niris</td>\n",
              "      <td>13</td>\n",
              "      <td>Album</td>\n",
              "      <td>1990-01-01 00:00:00</td>\n",
              "      <td>2011-01-01 00:00:00</td>\n",
              "      <td>NaN</td>\n",
              "      <td>&lt;p&gt;Songs written by: Nicky Cook&lt;/p&gt;\\n&lt;p&gt;VOCALS...</td>\n",
              "      <td>2</td>\n",
              "      <td>2008-11-26 01:42:52</td>\n",
              "      <td>10</td>\n",
              "      <td>4</td>\n",
              "      <td>51.895927</td>\n",
              "      <td>Colchester England</td>\n",
              "      <td>0.891874</td>\n",
              "      <td>Nicky Cook\\n</td>\n",
              "      <td>Nicky Cook</td>\n",
              "      <td>NaN</td>\n",
              "      <td>['instrumentals', 'experimental pop', 'post pu...</td>\n",
              "      <td>NaN</td>\n",
              "      <td>NaN</td>\n",
              "      <td>training</td>\n",
              "      <td>large</td>\n",
              "      <td>256000</td>\n",
              "      <td>0</td>\n",
              "      <td>NaN</td>\n",
              "      <td>2008-11-26 01:48:56</td>\n",
              "      <td>2008-01-01 00:00:00</td>\n",
              "      <td>311</td>\n",
              "      <td>0</td>\n",
              "      <td>NaN</td>\n",
              "      <td>[76, 103]</td>\n",
              "      <td>[17, 10, 76, 103]</td>\n",
              "      <td>NaN</td>\n",
              "      <td>978</td>\n",
              "      <td>en</td>\n",
              "      <td>Attribution-NonCommercial-NoDerivatives (aka M...</td>\n",
              "      <td>361</td>\n",
              "      <td>NaN</td>\n",
              "      <td>3</td>\n",
              "      <td>NaN</td>\n",
              "      <td>[]</td>\n",
              "      <td>Spiritual Level</td>\n",
              "    </tr>\n",
              "  </tbody>\n",
              "</table>\n",
              "</div>"
            ],
            "text/plain": [
              "            album                                                     \\\n",
              "         comments         date_created        date_released engineer   \n",
              "track_id                                                               \n",
              "2               0  2008-11-26 01:44:45  2009-01-05 00:00:00      NaN   \n",
              "3               0  2008-11-26 01:44:45  2009-01-05 00:00:00      NaN   \n",
              "5               0  2008-11-26 01:44:45  2009-01-05 00:00:00      NaN   \n",
              "10              0  2008-11-26 01:45:08  2008-02-06 00:00:00      NaN   \n",
              "20              0  2008-11-26 01:45:05  2009-01-06 00:00:00      NaN   \n",
              "\n",
              "                                                                          \\\n",
              "         favorites id                                information listens   \n",
              "track_id                                                                   \n",
              "2                4  1                                    <p></p>    6073   \n",
              "3                4  1                                    <p></p>    6073   \n",
              "5                4  1                                    <p></p>    6073   \n",
              "10               4  6                                        NaN   47632   \n",
              "20               2  4  <p> \"spiritual songs\" from Nicky Cook</p>    2710   \n",
              "\n",
              "                                                            \\\n",
              "         producer tags                 title tracks   type   \n",
              "track_id                                                     \n",
              "2             NaN   []  AWOL - A Way Of Life      7  Album   \n",
              "3             NaN   []  AWOL - A Way Of Life      7  Album   \n",
              "5             NaN   []  AWOL - A Way Of Life      7  Album   \n",
              "10            NaN   []     Constant Hitmaker      2  Album   \n",
              "20            NaN   []                 Niris     13  Album   \n",
              "\n",
              "                       artist                       \\\n",
              "            active_year_begin      active_year_end   \n",
              "track_id                                             \n",
              "2         2006-01-01 00:00:00                  NaN   \n",
              "3         2006-01-01 00:00:00                  NaN   \n",
              "5         2006-01-01 00:00:00                  NaN   \n",
              "10                        NaN                  NaN   \n",
              "20        1990-01-01 00:00:00  2011-01-01 00:00:00   \n",
              "\n",
              "                                                             \\\n",
              "                                          associated_labels   \n",
              "track_id                                                      \n",
              "2                                                       NaN   \n",
              "3                                                       NaN   \n",
              "5                                                       NaN   \n",
              "10        Mexican Summer, Richie Records, Woodsist, Skul...   \n",
              "20                                                      NaN   \n",
              "\n",
              "                                                                      \\\n",
              "                                                        bio comments   \n",
              "track_id                                                               \n",
              "2         <p>A Way Of Life, A Collective of Hip-Hop from...        0   \n",
              "3         <p>A Way Of Life, A Collective of Hip-Hop from...        0   \n",
              "5         <p>A Way Of Life, A Collective of Hip-Hop from...        0   \n",
              "10        <p><span style=\"font-family:Verdana, Geneva, A...        3   \n",
              "20        <p>Songs written by: Nicky Cook</p>\\n<p>VOCALS...        2   \n",
              "\n",
              "                                                                           \\\n",
              "                 date_created favorites id   latitude            location   \n",
              "track_id                                                                    \n",
              "2         2008-11-26 01:42:32         9  1  40.058324          New Jersey   \n",
              "3         2008-11-26 01:42:32         9  1  40.058324          New Jersey   \n",
              "5         2008-11-26 01:42:32         9  1  40.058324          New Jersey   \n",
              "10        2008-11-26 01:42:55        74  6        NaN                 NaN   \n",
              "20        2008-11-26 01:42:52        10  4  51.895927  Colchester England   \n",
              "\n",
              "                                                                        \\\n",
              "          longitude                                            members   \n",
              "track_id                                                                 \n",
              "2        -74.405661  Sajje Morocco,Brownbum,ZawidaGod,Custodian of ...   \n",
              "3        -74.405661  Sajje Morocco,Brownbum,ZawidaGod,Custodian of ...   \n",
              "5        -74.405661  Sajje Morocco,Brownbum,ZawidaGod,Custodian of ...   \n",
              "10              NaN                           Kurt Vile, the Violators   \n",
              "20         0.891874                                       Nicky Cook\\n   \n",
              "\n",
              "                                                                         \\\n",
              "                name                                   related_projects   \n",
              "track_id                                                                  \n",
              "2               AWOL  The list of past projects is 2 long but every1...   \n",
              "3               AWOL  The list of past projects is 2 long but every1...   \n",
              "5               AWOL  The list of past projects is 2 long but every1...   \n",
              "10         Kurt Vile                                                NaN   \n",
              "20        Nicky Cook                                                NaN   \n",
              "\n",
              "                                                             \\\n",
              "                                                       tags   \n",
              "track_id                                                      \n",
              "2                                                  ['awol']   \n",
              "3                                                  ['awol']   \n",
              "5                                                  ['awol']   \n",
              "10                                  ['philly', 'kurt vile']   \n",
              "20        ['instrumentals', 'experimental pop', 'post pu...   \n",
              "\n",
              "                                                                       set  \\\n",
              "                                          website wikipedia_page     split   \n",
              "track_id                                                                     \n",
              "2         http://www.AzillionRecords.blogspot.com            NaN  training   \n",
              "3         http://www.AzillionRecords.blogspot.com            NaN  training   \n",
              "5         http://www.AzillionRecords.blogspot.com            NaN  training   \n",
              "10                            http://kurtvile.com            NaN  training   \n",
              "20                                            NaN            NaN  training   \n",
              "\n",
              "                    track                                           \\\n",
              "          subset bit_rate comments   composer         date_created   \n",
              "track_id                                                             \n",
              "2          small   256000        0        NaN  2008-11-26 01:48:12   \n",
              "3         medium   256000        0        NaN  2008-11-26 01:48:14   \n",
              "5          small   256000        0        NaN  2008-11-26 01:48:20   \n",
              "10         small   192000        0  Kurt Vile  2008-11-25 17:49:06   \n",
              "20         large   256000        0        NaN  2008-11-26 01:48:56   \n",
              "\n",
              "                                                                       \\\n",
              "                date_recorded duration favorites genre_top     genres   \n",
              "track_id                                                                \n",
              "2         2008-11-26 00:00:00      168         2   Hip-Hop       [21]   \n",
              "3         2008-11-26 00:00:00      237         1   Hip-Hop       [21]   \n",
              "5         2008-11-26 00:00:00      206         6   Hip-Hop       [21]   \n",
              "10        2008-11-26 00:00:00      161       178       Pop       [10]   \n",
              "20        2008-01-01 00:00:00      311         0       NaN  [76, 103]   \n",
              "\n",
              "                                                                \\\n",
              "                 genres_all information interest language_code   \n",
              "track_id                                                         \n",
              "2                      [21]         NaN     4656            en   \n",
              "3                      [21]         NaN     1470            en   \n",
              "5                      [21]         NaN     1933            en   \n",
              "10                     [10]         NaN    54881            en   \n",
              "20        [17, 10, 76, 103]         NaN      978            en   \n",
              "\n",
              "                                                                              \\\n",
              "                                                    license listens lyricist   \n",
              "track_id                                                                       \n",
              "2         Attribution-NonCommercial-ShareAlike 3.0 Inter...    1293      NaN   \n",
              "3         Attribution-NonCommercial-ShareAlike 3.0 Inter...     514      NaN   \n",
              "5         Attribution-NonCommercial-ShareAlike 3.0 Inter...    1151      NaN   \n",
              "10        Attribution-NonCommercial-NoDerivatives (aka M...   50135      NaN   \n",
              "20        Attribution-NonCommercial-NoDerivatives (aka M...     361      NaN   \n",
              "\n",
              "                                                 \n",
              "         number publisher tags            title  \n",
              "track_id                                         \n",
              "2             3       NaN   []             Food  \n",
              "3             4       NaN   []     Electric Ave  \n",
              "5             6       NaN   []       This World  \n",
              "10            1       NaN   []          Freeway  \n",
              "20            3       NaN   []  Spiritual Level  "
            ]
          },
          "metadata": {
            "tags": []
          },
          "execution_count": 43
        }
      ]
    },
    {
      "metadata": {
        "id": "5DvMPiM8MZeY",
        "colab_type": "code",
        "colab": {
          "base_uri": "https://localhost:8080/",
          "height": 35
        },
        "outputId": "c95971f2-1e50-40d9-a107-069225aa5a4b"
      },
      "cell_type": "code",
      "source": [
        "tracks.shape"
      ],
      "execution_count": 44,
      "outputs": [
        {
          "output_type": "execute_result",
          "data": {
            "text/plain": [
              "(106574, 52)"
            ]
          },
          "metadata": {
            "tags": []
          },
          "execution_count": 44
        }
      ]
    },
    {
      "metadata": {
        "id": "O3-9zHwua9n5",
        "colab_type": "code",
        "colab": {
          "base_uri": "https://localhost:8080/",
          "height": 1053
        },
        "outputId": "2d724b67-3c34-490d-e895-8f1d34b68dec"
      },
      "cell_type": "code",
      "source": [
        "tracks.info()"
      ],
      "execution_count": 45,
      "outputs": [
        {
          "output_type": "stream",
          "text": [
            "<class 'pandas.core.frame.DataFrame'>\n",
            "Int64Index: 106574 entries, 2 to 155320\n",
            "Data columns (total 52 columns):\n",
            "(album, comments)              106574 non-null int64\n",
            "(album, date_created)          103045 non-null object\n",
            "(album, date_released)         70294 non-null object\n",
            "(album, engineer)              15295 non-null object\n",
            "(album, favorites)             106574 non-null int64\n",
            "(album, id)                    106574 non-null int64\n",
            "(album, information)           83149 non-null object\n",
            "(album, listens)               106574 non-null int64\n",
            "(album, producer)              18060 non-null object\n",
            "(album, tags)                  106574 non-null object\n",
            "(album, title)                 105549 non-null object\n",
            "(album, tracks)                106574 non-null int64\n",
            "(album, type)                  100066 non-null object\n",
            "(artist, active_year_begin)    22711 non-null object\n",
            "(artist, active_year_end)      5375 non-null object\n",
            "(artist, associated_labels)    14271 non-null object\n",
            "(artist, bio)                  71156 non-null object\n",
            "(artist, comments)             106574 non-null int64\n",
            "(artist, date_created)         105718 non-null object\n",
            "(artist, favorites)            106574 non-null int64\n",
            "(artist, id)                   106574 non-null int64\n",
            "(artist, latitude)             44544 non-null float64\n",
            "(artist, location)             70210 non-null object\n",
            "(artist, longitude)            44544 non-null float64\n",
            "(artist, members)              46849 non-null object\n",
            "(artist, name)                 106574 non-null object\n",
            "(artist, related_projects)     13152 non-null object\n",
            "(artist, tags)                 106574 non-null object\n",
            "(artist, website)              79256 non-null object\n",
            "(artist, wikipedia_page)       5581 non-null object\n",
            "(set, split)                   106574 non-null object\n",
            "(set, subset)                  106574 non-null object\n",
            "(track, bit_rate)              106574 non-null int64\n",
            "(track, comments)              106574 non-null int64\n",
            "(track, composer)              3670 non-null object\n",
            "(track, date_created)          106574 non-null object\n",
            "(track, date_recorded)         6159 non-null object\n",
            "(track, duration)              106574 non-null int64\n",
            "(track, favorites)             106574 non-null int64\n",
            "(track, genre_top)             49598 non-null object\n",
            "(track, genres)                106574 non-null object\n",
            "(track, genres_all)            106574 non-null object\n",
            "(track, information)           2349 non-null object\n",
            "(track, interest)              106574 non-null int64\n",
            "(track, language_code)         15024 non-null object\n",
            "(track, license)               106487 non-null object\n",
            "(track, listens)               106574 non-null int64\n",
            "(track, lyricist)              311 non-null object\n",
            "(track, number)                106574 non-null int64\n",
            "(track, publisher)             1263 non-null object\n",
            "(track, tags)                  106574 non-null object\n",
            "(track, title)                 106573 non-null object\n",
            "dtypes: float64(2), int64(15), object(35)\n",
            "memory usage: 43.1+ MB\n"
          ],
          "name": "stdout"
        }
      ]
    },
    {
      "metadata": {
        "id": "NwTzPYsWZkcM",
        "colab_type": "code",
        "colab": {
          "base_uri": "https://localhost:8080/",
          "height": 344
        },
        "outputId": "cf11e7fe-e459-47fe-cd29-b96ac8a892e3"
      },
      "cell_type": "code",
      "source": [
        "tracks.select_dtypes('number').isna().sum()"
      ],
      "execution_count": 46,
      "outputs": [
        {
          "output_type": "execute_result",
          "data": {
            "text/plain": [
              "album   comments         0\n",
              "        favorites        0\n",
              "        id               0\n",
              "        listens          0\n",
              "        tracks           0\n",
              "artist  comments         0\n",
              "        favorites        0\n",
              "        id               0\n",
              "        latitude     62030\n",
              "        longitude    62030\n",
              "track   bit_rate         0\n",
              "        comments         0\n",
              "        duration         0\n",
              "        favorites        0\n",
              "        interest         0\n",
              "        listens          0\n",
              "        number           0\n",
              "dtype: int64"
            ]
          },
          "metadata": {
            "tags": []
          },
          "execution_count": 46
        }
      ]
    },
    {
      "metadata": {
        "id": "btGNN0Fie3_7",
        "colab_type": "code",
        "colab": {
          "base_uri": "https://localhost:8080/",
          "height": 269
        },
        "outputId": "e777a46c-5234-43c7-c2cf-cfb381ec9220"
      },
      "cell_type": "code",
      "source": [
        "columns = [('track', 'genre_top'), ('album', 'comments'), ('album', 'favorites'), ('album', 'id'), ('album', 'listens'), ('album', 'tracks'), ('artist', 'comments'),\n",
        "           ('artist', 'favorites'), ('artist', 'id'), ('track', 'bit_rate'), ('track', 'comments'), ('track', 'duration'), ('track', 'favorites'), ('track', 'interest'),\n",
        "           ('track', 'listens'), ('track', 'number')]\n",
        "tracks = tracks[columns]\n",
        "tracks.head()"
      ],
      "execution_count": 51,
      "outputs": [
        {
          "output_type": "execute_result",
          "data": {
            "text/html": [
              "<div>\n",
              "<style scoped>\n",
              "    .dataframe tbody tr th:only-of-type {\n",
              "        vertical-align: middle;\n",
              "    }\n",
              "\n",
              "    .dataframe tbody tr th {\n",
              "        vertical-align: top;\n",
              "    }\n",
              "\n",
              "    .dataframe thead tr th {\n",
              "        text-align: left;\n",
              "    }\n",
              "\n",
              "    .dataframe thead tr:last-of-type th {\n",
              "        text-align: right;\n",
              "    }\n",
              "</style>\n",
              "<table border=\"1\" class=\"dataframe\">\n",
              "  <thead>\n",
              "    <tr>\n",
              "      <th></th>\n",
              "      <th>track</th>\n",
              "      <th colspan=\"5\" halign=\"left\">album</th>\n",
              "      <th colspan=\"3\" halign=\"left\">artist</th>\n",
              "      <th colspan=\"7\" halign=\"left\">track</th>\n",
              "    </tr>\n",
              "    <tr>\n",
              "      <th></th>\n",
              "      <th>genre_top</th>\n",
              "      <th>comments</th>\n",
              "      <th>favorites</th>\n",
              "      <th>id</th>\n",
              "      <th>listens</th>\n",
              "      <th>tracks</th>\n",
              "      <th>comments</th>\n",
              "      <th>favorites</th>\n",
              "      <th>id</th>\n",
              "      <th>bit_rate</th>\n",
              "      <th>comments</th>\n",
              "      <th>duration</th>\n",
              "      <th>favorites</th>\n",
              "      <th>interest</th>\n",
              "      <th>listens</th>\n",
              "      <th>number</th>\n",
              "    </tr>\n",
              "    <tr>\n",
              "      <th>track_id</th>\n",
              "      <th></th>\n",
              "      <th></th>\n",
              "      <th></th>\n",
              "      <th></th>\n",
              "      <th></th>\n",
              "      <th></th>\n",
              "      <th></th>\n",
              "      <th></th>\n",
              "      <th></th>\n",
              "      <th></th>\n",
              "      <th></th>\n",
              "      <th></th>\n",
              "      <th></th>\n",
              "      <th></th>\n",
              "      <th></th>\n",
              "      <th></th>\n",
              "    </tr>\n",
              "  </thead>\n",
              "  <tbody>\n",
              "    <tr>\n",
              "      <th>2</th>\n",
              "      <td>Hip-Hop</td>\n",
              "      <td>0</td>\n",
              "      <td>4</td>\n",
              "      <td>1</td>\n",
              "      <td>6073</td>\n",
              "      <td>7</td>\n",
              "      <td>0</td>\n",
              "      <td>9</td>\n",
              "      <td>1</td>\n",
              "      <td>256000</td>\n",
              "      <td>0</td>\n",
              "      <td>168</td>\n",
              "      <td>2</td>\n",
              "      <td>4656</td>\n",
              "      <td>1293</td>\n",
              "      <td>3</td>\n",
              "    </tr>\n",
              "    <tr>\n",
              "      <th>3</th>\n",
              "      <td>Hip-Hop</td>\n",
              "      <td>0</td>\n",
              "      <td>4</td>\n",
              "      <td>1</td>\n",
              "      <td>6073</td>\n",
              "      <td>7</td>\n",
              "      <td>0</td>\n",
              "      <td>9</td>\n",
              "      <td>1</td>\n",
              "      <td>256000</td>\n",
              "      <td>0</td>\n",
              "      <td>237</td>\n",
              "      <td>1</td>\n",
              "      <td>1470</td>\n",
              "      <td>514</td>\n",
              "      <td>4</td>\n",
              "    </tr>\n",
              "    <tr>\n",
              "      <th>5</th>\n",
              "      <td>Hip-Hop</td>\n",
              "      <td>0</td>\n",
              "      <td>4</td>\n",
              "      <td>1</td>\n",
              "      <td>6073</td>\n",
              "      <td>7</td>\n",
              "      <td>0</td>\n",
              "      <td>9</td>\n",
              "      <td>1</td>\n",
              "      <td>256000</td>\n",
              "      <td>0</td>\n",
              "      <td>206</td>\n",
              "      <td>6</td>\n",
              "      <td>1933</td>\n",
              "      <td>1151</td>\n",
              "      <td>6</td>\n",
              "    </tr>\n",
              "    <tr>\n",
              "      <th>10</th>\n",
              "      <td>Pop</td>\n",
              "      <td>0</td>\n",
              "      <td>4</td>\n",
              "      <td>6</td>\n",
              "      <td>47632</td>\n",
              "      <td>2</td>\n",
              "      <td>3</td>\n",
              "      <td>74</td>\n",
              "      <td>6</td>\n",
              "      <td>192000</td>\n",
              "      <td>0</td>\n",
              "      <td>161</td>\n",
              "      <td>178</td>\n",
              "      <td>54881</td>\n",
              "      <td>50135</td>\n",
              "      <td>1</td>\n",
              "    </tr>\n",
              "    <tr>\n",
              "      <th>20</th>\n",
              "      <td>NaN</td>\n",
              "      <td>0</td>\n",
              "      <td>2</td>\n",
              "      <td>4</td>\n",
              "      <td>2710</td>\n",
              "      <td>13</td>\n",
              "      <td>2</td>\n",
              "      <td>10</td>\n",
              "      <td>4</td>\n",
              "      <td>256000</td>\n",
              "      <td>0</td>\n",
              "      <td>311</td>\n",
              "      <td>0</td>\n",
              "      <td>978</td>\n",
              "      <td>361</td>\n",
              "      <td>3</td>\n",
              "    </tr>\n",
              "  </tbody>\n",
              "</table>\n",
              "</div>"
            ],
            "text/plain": [
              "             track    album                               artist               \\\n",
              "         genre_top comments favorites id listens tracks comments favorites id   \n",
              "track_id                                                                        \n",
              "2          Hip-Hop        0         4  1    6073      7        0         9  1   \n",
              "3          Hip-Hop        0         4  1    6073      7        0         9  1   \n",
              "5          Hip-Hop        0         4  1    6073      7        0         9  1   \n",
              "10             Pop        0         4  6   47632      2        3        74  6   \n",
              "20             NaN        0         2  4    2710     13        2        10  4   \n",
              "\n",
              "            track                                                      \n",
              "         bit_rate comments duration favorites interest listens number  \n",
              "track_id                                                               \n",
              "2          256000        0      168         2     4656    1293      3  \n",
              "3          256000        0      237         1     1470     514      4  \n",
              "5          256000        0      206         6     1933    1151      6  \n",
              "10         192000        0      161       178    54881   50135      1  \n",
              "20         256000        0      311         0      978     361      3  "
            ]
          },
          "metadata": {
            "tags": []
          },
          "execution_count": 51
        }
      ]
    },
    {
      "metadata": {
        "id": "AkTYgLEX22uh",
        "colab_type": "code",
        "colab": {
          "base_uri": "https://localhost:8080/",
          "height": 326
        },
        "outputId": "b3c07432-4cae-4143-b712-cff5b00d301c"
      },
      "cell_type": "code",
      "source": [
        "tracks.isna().sum()"
      ],
      "execution_count": 54,
      "outputs": [
        {
          "output_type": "execute_result",
          "data": {
            "text/plain": [
              "track   genre_top    56976\n",
              "album   comments         0\n",
              "        favorites        0\n",
              "        id               0\n",
              "        listens          0\n",
              "        tracks           0\n",
              "artist  comments         0\n",
              "        favorites        0\n",
              "        id               0\n",
              "track   bit_rate         0\n",
              "        comments         0\n",
              "        duration         0\n",
              "        favorites        0\n",
              "        interest         0\n",
              "        listens          0\n",
              "        number           0\n",
              "dtype: int64"
            ]
          },
          "metadata": {
            "tags": []
          },
          "execution_count": 54
        }
      ]
    },
    {
      "metadata": {
        "id": "uyfIQDN32_O5",
        "colab_type": "code",
        "colab": {
          "base_uri": "https://localhost:8080/",
          "height": 35
        },
        "outputId": "65c7651e-9a87-414d-aafd-ee2706d3e833"
      },
      "cell_type": "code",
      "source": [
        "tracks = tracks.dropna()\n",
        "tracks.shape"
      ],
      "execution_count": 58,
      "outputs": [
        {
          "output_type": "execute_result",
          "data": {
            "text/plain": [
              "(49598, 16)"
            ]
          },
          "metadata": {
            "tags": []
          },
          "execution_count": 58
        }
      ]
    },
    {
      "metadata": {
        "id": "GM2Ppj0U3pFl",
        "colab_type": "code",
        "colab": {
          "base_uri": "https://localhost:8080/",
          "height": 326
        },
        "outputId": "a9b113cf-89f9-4a9e-9533-d8cd6d2cc4ef"
      },
      "cell_type": "code",
      "source": [
        "tracks.dtypes"
      ],
      "execution_count": 59,
      "outputs": [
        {
          "output_type": "execute_result",
          "data": {
            "text/plain": [
              "track   genre_top    object\n",
              "album   comments      int64\n",
              "        favorites     int64\n",
              "        id            int64\n",
              "        listens       int64\n",
              "        tracks        int64\n",
              "artist  comments      int64\n",
              "        favorites     int64\n",
              "        id            int64\n",
              "track   bit_rate      int64\n",
              "        comments      int64\n",
              "        duration      int64\n",
              "        favorites     int64\n",
              "        interest      int64\n",
              "        listens       int64\n",
              "        number        int64\n",
              "dtype: object"
            ]
          },
          "metadata": {
            "tags": []
          },
          "execution_count": 59
        }
      ]
    },
    {
      "metadata": {
        "id": "1wo7933tgMC5",
        "colab_type": "code",
        "colab": {
          "base_uri": "https://localhost:8080/",
          "height": 326
        },
        "outputId": "223d33c9-0323-4e50-9081-5a8565932884"
      },
      "cell_type": "code",
      "source": [
        "tracks[('track', 'genre_top')].value_counts()"
      ],
      "execution_count": 53,
      "outputs": [
        {
          "output_type": "execute_result",
          "data": {
            "text/plain": [
              "Rock                   14182\n",
              "Experimental           10608\n",
              "Electronic              9372\n",
              "Hip-Hop                 3552\n",
              "Folk                    2803\n",
              "Pop                     2332\n",
              "Instrumental            2079\n",
              "International           1389\n",
              "Classical               1230\n",
              "Jazz                     571\n",
              "Old-Time / Historic      554\n",
              "Spoken                   423\n",
              "Country                  194\n",
              "Soul-RnB                 175\n",
              "Blues                    110\n",
              "Easy Listening            24\n",
              "Name: (track, genre_top), dtype: int64"
            ]
          },
          "metadata": {
            "tags": []
          },
          "execution_count": 53
        }
      ]
    },
    {
      "metadata": {
        "id": "INJ3LKhetDqQ",
        "colab_type": "code",
        "colab": {
          "base_uri": "https://localhost:8080/",
          "height": 351
        },
        "outputId": "47e8fa44-555b-468c-efe6-fd196944df69"
      },
      "cell_type": "code",
      "source": [
        "from sklearn.preprocessing import LabelEncoder\n",
        "\n",
        "#Auto encodes any dataframe column of type category or object.\n",
        "\n",
        "def dummyEncode(df):\n",
        "       columnsToEncode = list(df.select_dtypes(include=['category','object']))\n",
        "       le = LabelEncoder()\n",
        "       for feature in columnsToEncode:\n",
        "           try:\n",
        "               df[feature] = le.fit_transform(df[feature])\n",
        "           except:\n",
        "               print('Error encoding '+feature)\n",
        "       return df\n",
        "dummyEncode(tracks)\n",
        "tracks.describe()"
      ],
      "execution_count": 63,
      "outputs": [
        {
          "output_type": "execute_result",
          "data": {
            "text/html": [
              "<div>\n",
              "<style scoped>\n",
              "    .dataframe tbody tr th:only-of-type {\n",
              "        vertical-align: middle;\n",
              "    }\n",
              "\n",
              "    .dataframe tbody tr th {\n",
              "        vertical-align: top;\n",
              "    }\n",
              "\n",
              "    .dataframe thead tr th {\n",
              "        text-align: left;\n",
              "    }\n",
              "</style>\n",
              "<table border=\"1\" class=\"dataframe\">\n",
              "  <thead>\n",
              "    <tr>\n",
              "      <th></th>\n",
              "      <th>track</th>\n",
              "      <th colspan=\"5\" halign=\"left\">album</th>\n",
              "      <th colspan=\"3\" halign=\"left\">artist</th>\n",
              "      <th colspan=\"7\" halign=\"left\">track</th>\n",
              "    </tr>\n",
              "    <tr>\n",
              "      <th></th>\n",
              "      <th>genre_top</th>\n",
              "      <th>comments</th>\n",
              "      <th>favorites</th>\n",
              "      <th>id</th>\n",
              "      <th>listens</th>\n",
              "      <th>tracks</th>\n",
              "      <th>comments</th>\n",
              "      <th>favorites</th>\n",
              "      <th>id</th>\n",
              "      <th>bit_rate</th>\n",
              "      <th>comments</th>\n",
              "      <th>duration</th>\n",
              "      <th>favorites</th>\n",
              "      <th>interest</th>\n",
              "      <th>listens</th>\n",
              "      <th>number</th>\n",
              "    </tr>\n",
              "  </thead>\n",
              "  <tbody>\n",
              "    <tr>\n",
              "      <th>count</th>\n",
              "      <td>49598.000000</td>\n",
              "      <td>49598.000000</td>\n",
              "      <td>49598.000000</td>\n",
              "      <td>49598.000000</td>\n",
              "      <td>4.959800e+04</td>\n",
              "      <td>49598.000000</td>\n",
              "      <td>49598.00000</td>\n",
              "      <td>49598.000000</td>\n",
              "      <td>49598.000000</td>\n",
              "      <td>49598.000000</td>\n",
              "      <td>49598.000000</td>\n",
              "      <td>49598.000000</td>\n",
              "      <td>49598.000000</td>\n",
              "      <td>4.959800e+04</td>\n",
              "      <td>49598.000000</td>\n",
              "      <td>49598.000000</td>\n",
              "    </tr>\n",
              "    <tr>\n",
              "      <th>mean</th>\n",
              "      <td>7.983830</td>\n",
              "      <td>0.333179</td>\n",
              "      <td>1.145449</td>\n",
              "      <td>11813.603351</td>\n",
              "      <td>1.997469e+04</td>\n",
              "      <td>21.763035</td>\n",
              "      <td>1.16291</td>\n",
              "      <td>16.721602</td>\n",
              "      <td>11400.403786</td>\n",
              "      <td>260278.657930</td>\n",
              "      <td>0.024336</td>\n",
              "      <td>268.627263</td>\n",
              "      <td>2.381447</td>\n",
              "      <td>2.523905e+03</td>\n",
              "      <td>1586.328380</td>\n",
              "      <td>8.545607</td>\n",
              "    </tr>\n",
              "    <tr>\n",
              "      <th>std</th>\n",
              "      <td>3.921259</td>\n",
              "      <td>1.312889</td>\n",
              "      <td>2.463242</td>\n",
              "      <td>6455.900325</td>\n",
              "      <td>5.736980e+04</td>\n",
              "      <td>51.492489</td>\n",
              "      <td>4.18622</td>\n",
              "      <td>58.966302</td>\n",
              "      <td>7046.466624</td>\n",
              "      <td>65663.862632</td>\n",
              "      <td>0.332693</td>\n",
              "      <td>284.327919</td>\n",
              "      <td>11.147578</td>\n",
              "      <td>1.980285e+04</td>\n",
              "      <td>6039.952955</td>\n",
              "      <td>16.988260</td>\n",
              "    </tr>\n",
              "    <tr>\n",
              "      <th>min</th>\n",
              "      <td>0.000000</td>\n",
              "      <td>-1.000000</td>\n",
              "      <td>-1.000000</td>\n",
              "      <td>-1.000000</td>\n",
              "      <td>-1.000000e+00</td>\n",
              "      <td>-1.000000</td>\n",
              "      <td>-1.00000</td>\n",
              "      <td>-1.000000</td>\n",
              "      <td>1.000000</td>\n",
              "      <td>-1.000000</td>\n",
              "      <td>0.000000</td>\n",
              "      <td>0.000000</td>\n",
              "      <td>0.000000</td>\n",
              "      <td>2.000000e+00</td>\n",
              "      <td>1.000000</td>\n",
              "      <td>0.000000</td>\n",
              "    </tr>\n",
              "    <tr>\n",
              "      <th>25%</th>\n",
              "      <td>5.000000</td>\n",
              "      <td>0.000000</td>\n",
              "      <td>0.000000</td>\n",
              "      <td>6530.000000</td>\n",
              "      <td>2.602000e+03</td>\n",
              "      <td>7.000000</td>\n",
              "      <td>0.00000</td>\n",
              "      <td>1.000000</td>\n",
              "      <td>5449.000000</td>\n",
              "      <td>192000.000000</td>\n",
              "      <td>0.000000</td>\n",
              "      <td>146.000000</td>\n",
              "      <td>0.000000</td>\n",
              "      <td>4.560000e+02</td>\n",
              "      <td>212.000000</td>\n",
              "      <td>2.000000</td>\n",
              "    </tr>\n",
              "    <tr>\n",
              "      <th>50%</th>\n",
              "      <td>7.000000</td>\n",
              "      <td>0.000000</td>\n",
              "      <td>0.000000</td>\n",
              "      <td>11887.000000</td>\n",
              "      <td>6.092000e+03</td>\n",
              "      <td>11.000000</td>\n",
              "      <td>0.00000</td>\n",
              "      <td>4.000000</td>\n",
              "      <td>11384.000000</td>\n",
              "      <td>256000.000000</td>\n",
              "      <td>0.000000</td>\n",
              "      <td>211.000000</td>\n",
              "      <td>1.000000</td>\n",
              "      <td>9.380000e+02</td>\n",
              "      <td>520.000000</td>\n",
              "      <td>5.000000</td>\n",
              "    </tr>\n",
              "    <tr>\n",
              "      <th>75%</th>\n",
              "      <td>13.000000</td>\n",
              "      <td>0.000000</td>\n",
              "      <td>1.000000</td>\n",
              "      <td>17410.000000</td>\n",
              "      <td>1.621900e+04</td>\n",
              "      <td>17.000000</td>\n",
              "      <td>1.00000</td>\n",
              "      <td>12.000000</td>\n",
              "      <td>17450.000000</td>\n",
              "      <td>320000.000000</td>\n",
              "      <td>0.000000</td>\n",
              "      <td>299.000000</td>\n",
              "      <td>2.000000</td>\n",
              "      <td>2.091000e+03</td>\n",
              "      <td>1321.000000</td>\n",
              "      <td>9.000000</td>\n",
              "    </tr>\n",
              "    <tr>\n",
              "      <th>max</th>\n",
              "      <td>15.000000</td>\n",
              "      <td>17.000000</td>\n",
              "      <td>40.000000</td>\n",
              "      <td>22940.000000</td>\n",
              "      <td>1.193803e+06</td>\n",
              "      <td>652.000000</td>\n",
              "      <td>68.00000</td>\n",
              "      <td>963.000000</td>\n",
              "      <td>24357.000000</td>\n",
              "      <td>448000.000000</td>\n",
              "      <td>37.000000</td>\n",
              "      <td>11030.000000</td>\n",
              "      <td>1482.000000</td>\n",
              "      <td>3.293557e+06</td>\n",
              "      <td>543252.000000</td>\n",
              "      <td>255.000000</td>\n",
              "    </tr>\n",
              "  </tbody>\n",
              "</table>\n",
              "</div>"
            ],
            "text/plain": [
              "              track         album                                            \\\n",
              "          genre_top      comments     favorites            id       listens   \n",
              "count  49598.000000  49598.000000  49598.000000  49598.000000  4.959800e+04   \n",
              "mean       7.983830      0.333179      1.145449  11813.603351  1.997469e+04   \n",
              "std        3.921259      1.312889      2.463242   6455.900325  5.736980e+04   \n",
              "min        0.000000     -1.000000     -1.000000     -1.000000 -1.000000e+00   \n",
              "25%        5.000000      0.000000      0.000000   6530.000000  2.602000e+03   \n",
              "50%        7.000000      0.000000      0.000000  11887.000000  6.092000e+03   \n",
              "75%       13.000000      0.000000      1.000000  17410.000000  1.621900e+04   \n",
              "max       15.000000     17.000000     40.000000  22940.000000  1.193803e+06   \n",
              "\n",
              "                          artist                                      track  \\\n",
              "             tracks     comments     favorites            id       bit_rate   \n",
              "count  49598.000000  49598.00000  49598.000000  49598.000000   49598.000000   \n",
              "mean      21.763035      1.16291     16.721602  11400.403786  260278.657930   \n",
              "std       51.492489      4.18622     58.966302   7046.466624   65663.862632   \n",
              "min       -1.000000     -1.00000     -1.000000      1.000000      -1.000000   \n",
              "25%        7.000000      0.00000      1.000000   5449.000000  192000.000000   \n",
              "50%       11.000000      0.00000      4.000000  11384.000000  256000.000000   \n",
              "75%       17.000000      1.00000     12.000000  17450.000000  320000.000000   \n",
              "max      652.000000     68.00000    963.000000  24357.000000  448000.000000   \n",
              "\n",
              "                                                                              \\\n",
              "           comments      duration     favorites      interest        listens   \n",
              "count  49598.000000  49598.000000  49598.000000  4.959800e+04   49598.000000   \n",
              "mean       0.024336    268.627263      2.381447  2.523905e+03    1586.328380   \n",
              "std        0.332693    284.327919     11.147578  1.980285e+04    6039.952955   \n",
              "min        0.000000      0.000000      0.000000  2.000000e+00       1.000000   \n",
              "25%        0.000000    146.000000      0.000000  4.560000e+02     212.000000   \n",
              "50%        0.000000    211.000000      1.000000  9.380000e+02     520.000000   \n",
              "75%        0.000000    299.000000      2.000000  2.091000e+03    1321.000000   \n",
              "max       37.000000  11030.000000   1482.000000  3.293557e+06  543252.000000   \n",
              "\n",
              "                     \n",
              "             number  \n",
              "count  49598.000000  \n",
              "mean       8.545607  \n",
              "std       16.988260  \n",
              "min        0.000000  \n",
              "25%        2.000000  \n",
              "50%        5.000000  \n",
              "75%        9.000000  \n",
              "max      255.000000  "
            ]
          },
          "metadata": {
            "tags": []
          },
          "execution_count": 63
        }
      ]
    },
    {
      "metadata": {
        "id": "9aeaUOEDkWa0",
        "colab_type": "code",
        "colab": {}
      },
      "cell_type": "code",
      "source": [
        "# import seaborn as sns\n",
        "# x_columns = tracks.columns.drop('SalePrice')\n",
        "# sns.pairplot(housing, x_vars=x_columns, y_vars=['SalePrice']);"
      ],
      "execution_count": 0,
      "outputs": []
    },
    {
      "metadata": {
        "id": "MY9m3g2UbIZP",
        "colab_type": "code",
        "colab": {}
      },
      "cell_type": "code",
      "source": [
        "# X = ['interest', 'name', 'duration', 'listens']\n",
        "# y = ['genre_top']"
      ],
      "execution_count": 0,
      "outputs": []
    },
    {
      "metadata": {
        "id": "kQUVlUKQMPPW",
        "colab_type": "text"
      },
      "cell_type": "markdown",
      "source": [
        "This is the biggest data you've played with so far, and while it does generally fit in Colab, it can take awhile to run. That's part of the challenge!\n",
        "\n",
        "Your tasks:\n",
        "- Clean up the variable names in the dataframe\n",
        "- Use logistic regression to fit a model predicting (primary/top) genre\n",
        "- Inspect, iterate, and improve your model\n",
        "- Answer the following questions (written, ~paragraph each):\n",
        "  - What are the best predictors of genre?\n",
        "  - What information isn't very useful for predicting genre?\n",
        "  - What surprised you the most about your results?\n",
        "\n",
        "*Important caveats*:\n",
        "- This is going to be difficult data to work with - don't let the perfect be the enemy of the good!\n",
        "- Be creative in cleaning it up - if the best way you know how to do it is download it locally and edit as a spreadsheet, that's OK!\n",
        "- If the data size becomes problematic, consider sampling/subsetting\n",
        "- You do not need perfect or complete results - just something plausible that runs, and that supports the reasoning in your written answers\n",
        "\n",
        "If you find that fitting a model to classify *all* genres isn't very good, it's totally OK to limit to the most frequent genres, or perhaps trying to combine or cluster genres as a preprocessing step. Even then, there will be limits to how good a model can be with just this metadata - if you really want to train an effective genre classifier, you'll have to involve the other data (see stretch goals).\n",
        "\n",
        "This is real data - there is no \"one correct answer\", so you can take this in a variety of directions. Just make sure to support your findings, and feel free to share them as well! This is meant to be practice for dealing with other \"messy\" data, a common task in data science."
      ]
    },
    {
      "metadata": {
        "id": "wlI5OXfSag9C",
        "colab_type": "text"
      },
      "cell_type": "markdown",
      "source": [
        "## Resources and stretch goals\n",
        "\n",
        "- Check out the other .csv files from the FMA dataset, and see if you can join them or otherwise fit interesting models with them\n",
        "- [Logistic regression from scratch in numpy](https://blog.goodaudience.com/logistic-regression-from-scratch-in-numpy-5841c09e425f) - if you want to dig in a bit more to both the code and math (also takes a gradient descent approach, introducing the logistic loss function)\n",
        "- Create a visualization to show predictions of your model - ideally show a confidence interval based on error!\n",
        "- Check out and compare classification models from scikit-learn, such as [SVM](https://scikit-learn.org/stable/modules/svm.html#classification), [decision trees](https://scikit-learn.org/stable/modules/tree.html#classification), and [naive Bayes](https://scikit-learn.org/stable/modules/naive_bayes.html). The underlying math will vary significantly, but the API (how you write the code) and interpretation will actually be fairly similar.\n",
        "- Sign up for [Kaggle](https://kaggle.com), and find a competition to try logistic regression with\n",
        "- (Not logistic regression related) If you enjoyed the assignment, you may want to read up on [music informatics](https://en.wikipedia.org/wiki/Music_informatics), which is how those audio features were actually calculated. The FMA includes the actual raw audio, so (while this is more of a longterm project than a stretch goal, and won't fit in Colab) if you'd like you can check those out and see what sort of deeper analysis you can do."
      ]
    }
  ]
}